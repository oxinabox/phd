{
 "cells": [
  {
   "cell_type": "code",
   "execution_count": 1,
   "metadata": {
    "collapsed": false,
    "scrolled": true
   },
   "outputs": [],
   "source": [
    "using UnicodePlots;\n",
    "using Pipe"
   ]
  },
  {
   "cell_type": "code",
   "execution_count": 2,
   "metadata": {
    "collapsed": false
   },
   "outputs": [
    {
     "name": "stderr",
     "output_type": "stream",
     "text": [
      "WARNING: Method definition warn(Exception) in module Base at util.jl:373 overwritten in module Lumberjack at /home/ubuntu/.julia/v0.5/Lumberjack/src/lumbermill.jl:99.\n",
      "WARNING: Method definition #warn(Array, Base.#warn, Exception) in module Base overwritten in module Lumberjack.\n",
      "WARNING: Method definition error(AbstractString) in module Base at error.jl:21 overwritten in module Lumberjack at /home/ubuntu/.julia/v0.5/Lumberjack/src/lumbermill.jl:138.\n",
      "WARNING: Method definition error(Any...) in module Base at error.jl:22 overwritten in module Lumberjack at /home/ubuntu/.julia/v0.5/Lumberjack/src/lumbermill.jl:114.\n",
      "WARNING: Base.ASCIIString is deprecated, use String instead.\n",
      "  likely near /mnt/phd/prototypes/SenseSplittingWord2Vec/src/WordDistributions.jl:2\n",
      "WARNING: Base.ASCIIString is deprecated, use String instead.\n",
      "  likely near /mnt/phd/prototypes/SenseSplittingWord2Vec/src/WordDistributions.jl:2\n",
      "WARNING: Base.ASCIIString is deprecated, use String instead.\n",
      "  likely near /mnt/phd/prototypes/SenseSplittingWord2Vec/src/WordDistributions.jl:2\n"
     ]
    },
    {
     "ename": "LoadError",
     "evalue": "LoadError: LoadError: LoadError: syntax: incomplete: premature end of input\nwhile loading /mnt/phd/prototypes/SenseSplittingWord2Vec/src/Training/sense_embedding_training.jl, in expression starting on line 181\nwhile loading /mnt/phd/prototypes/SenseSplittingWord2Vec/src/Training.jl, in expression starting on line 19\nwhile loading In[2], in expression starting on line 1",
     "output_type": "error",
     "traceback": [
      "LoadError: LoadError: LoadError: syntax: incomplete: premature end of input\nwhile loading /mnt/phd/prototypes/SenseSplittingWord2Vec/src/Training/sense_embedding_training.jl, in expression starting on line 181\nwhile loading /mnt/phd/prototypes/SenseSplittingWord2Vec/src/Training.jl, in expression starting on line 19\nwhile loading In[2], in expression starting on line 1",
      "",
      " in include_from_node1(::String) at ./loading.jl:426 (repeats 2 times)",
      " in eval(::Module, ::Any) at ./boot.jl:230",
      " [inlined code] from ./sysimg.jl:11",
      " in require(::Symbol) at ./loading.jl:357",
      " [inlined code] from ./int.jl:33",
      " in include_string(::String, ::String) at ./loading.jl:380"
     ]
    }
   ],
   "source": [
    "using Utils, SoftmaxClassifier, WordEmbeddings, Training"
   ]
  },
  {
   "cell_type": "code",
   "execution_count": 7,
   "metadata": {
    "collapsed": false
   },
   "outputs": [],
   "source": [
    "ee = restore(\"models/ss/text8_50.model_i5.model\")"
   ]
  },
  {
   "cell_type": "code",
   "execution_count": 8,
   "metadata": {
    "collapsed": false
   },
   "outputs": [
    {
     "data": {
      "text/plain": [
       "Pair{AbstractString,Float32}"
      ]
     },
     "execution_count": 8,
     "metadata": {},
     "output_type": "execute_result"
    }
   ],
   "source": [
    "ee.distribution |> eltype"
   ]
  },
  {
   "cell_type": "code",
   "execution_count": 14,
   "metadata": {
    "collapsed": false,
    "scrolled": true
   },
   "outputs": [
    {
     "data": {
      "text/plain": [
       "                 ┌────────────────────────────────────────┐ \n",
       "   (-15.5,-15.0] │▇▇▇▇▇▇▇▇▇▇▇▇▇▇▇▇▇▇▇ 7649                │ \n",
       "   (-15.0,-14.5] │▇▇▇▇▇▇▇▇▇▇▇▇▇▇▇▇▇▇▇▇▇▇▇▇▇▇▇▇▇▇▇▇▇ 13546 │ \n",
       "   (-14.5,-14.0] │▇▇▇▇▇▇▇▇▇▇▇▇▇▇▇▇▇▇▇▇▇▇▇▇▇▇▇ 11161       │ \n",
       "   (-14.0,-13.5] │▇▇▇▇▇▇▇▇▇▇▇▇▇▇▇▇▇▇▇▇▇▇▇ 9562            │ \n",
       "   (-13.5,-13.0] │▇▇▇▇▇▇▇▇▇▇▇▇▇▇▇▇▇▇ 7579                 │ \n",
       "   (-13.0,-12.5] │▇▇▇▇▇▇▇▇▇▇▇▇▇▇ 5848                     │ \n",
       "   (-12.5,-12.0] │▇▇▇▇▇▇▇▇▇▇▇ 4368                        │ \n",
       "   (-12.0,-11.5] │▇▇▇▇▇▇▇▇ 3460                           │ \n",
       "   (-11.5,-11.0] │▇▇▇▇▇▇ 2537                             │ \n",
       "   (-11.0,-10.5] │▇▇▇▇▇ 1884                              │ \n",
       "   (-10.5,-10.0] │▇▇▇ 1318                                │ \n",
       "    (-10.0,-9.5] │▇▇ 950                                  │ \n",
       "     (-9.5,-9.0] │▇ 591                                   │ \n",
       "     (-9.0,-8.5] │▇ 356                                   │ \n",
       "     (-8.5,-8.0] │▇ 229                                   │ \n",
       "     (-8.0,-7.5] │ 110                                    │ \n",
       "     (-7.5,-7.0] │ 63                                     │ \n",
       "     (-7.0,-6.5] │ 25                                     │ \n",
       "     (-6.5,-6.0] │ 16                                     │ \n",
       "     (-6.0,-5.5] │ 9                                      │ \n",
       "     (-5.5,-5.0] │ 11                                     │ \n",
       "     (-5.0,-4.5] │ 8                                      │ \n",
       "     (-4.5,-4.0] │ 3                                      │ \n",
       "     (-4.0,-3.5] │ 5                                      │ \n",
       "     (-3.5,-3.0] │ 1                                      │ \n",
       "     (-3.0,-2.5] │ 1                                      │ \n",
       "                 └────────────────────────────────────────┘ \n"
      ]
     },
     "execution_count": 14,
     "metadata": {},
     "output_type": "execute_result"
    }
   ],
   "source": [
    "histogram(Float64[log(freq) for (word,freq) in ee.distribution], bins=50)"
   ]
  },
  {
   "cell_type": "code",
   "execution_count": null,
   "metadata": {
    "collapsed": true
   },
   "outputs": [],
   "source": []
  }
 ],
 "metadata": {
  "kernelspec": {
   "display_name": "Julia 0.5.0-dev",
   "language": "julia",
   "name": "julia-0.5"
  },
  "language_info": {
   "file_extension": ".jl",
   "mimetype": "application/julia",
   "name": "julia",
   "version": "0.5.0"
  }
 },
 "nbformat": 4,
 "nbformat_minor": 0
}
