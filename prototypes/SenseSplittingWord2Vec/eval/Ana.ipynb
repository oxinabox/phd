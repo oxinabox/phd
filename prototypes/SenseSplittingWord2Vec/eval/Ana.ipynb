{
 "cells": [
  {
   "cell_type": "code",
   "execution_count": 1,
   "metadata": {
    "collapsed": false,
    "scrolled": true
   },
   "outputs": [],
   "source": [
    "using UnicodePlots;\n",
    "using Pipe"
   ]
  },
  {
   "cell_type": "code",
   "execution_count": 2,
   "metadata": {
    "collapsed": false
   },
   "outputs": [
    {
     "name": "stderr",
     "output_type": "stream",
     "text": [
      "WARNING: Method definition warn(Exception) in module Base at util.jl:373 overwritten in module Lumberjack at /home/ubuntu/.julia/v0.5/Lumberjack/src/lumbermill.jl:99.\n",
      "WARNING: Method definition #warn(Array, Base.#warn, Exception) in module Base overwritten in module Lumberjack.\n",
      "WARNING: Method definition error(String) in module Base at error.jl:21 overwritten in module Lumberjack at /home/ubuntu/.julia/v0.5/Lumberjack/src/lumbermill.jl:138.\n",
      "WARNING: Method definition error(Any...) in module Base at error.jl:22 overwritten in module Lumberjack at /home/ubuntu/.julia/v0.5/Lumberjack/src/lumbermill.jl:114.\n",
      "WARNING: Base.ASCIIString is deprecated, use String instead.\n",
      "  likely near /mnt/phd/prototypes/SenseSplittingWord2Vec/src/WordDistributions.jl:2\n",
      "WARNING: Base.ASCIIString is deprecated, use String instead.\n",
      "  likely near /mnt/phd/prototypes/SenseSplittingWord2Vec/src/WordDistributions.jl:2\n",
      "WARNING: Base.ASCIIString is deprecated, use String instead.\n",
      "  likely near /mnt/phd/prototypes/SenseSplittingWord2Vec/src/WordDistributions.jl:2\n"
     ]
    }
   ],
   "source": [
    "using Utils, SoftmaxClassifier, WordEmbeddings, Training"
   ]
  },
  {
   "cell_type": "code",
   "execution_count": 3,
   "metadata": {
    "collapsed": false
   },
   "outputs": [
    {
     "data": {
      "text/plain": [
       "\"\""
      ]
     },
     "execution_count": 3,
     "metadata": {},
     "output_type": "execute_result"
    }
   ],
   "source": [
    "ee = restore(\"models/ss/WestburyLab.wikicorp.201004_300__i0.model\");\n",
    "\"\""
   ]
  },
  {
   "cell_type": "code",
   "execution_count": 4,
   "metadata": {
    "collapsed": false
   },
   "outputs": [
    {
     "data": {
      "text/plain": [
       "Pair{String,Float32}"
      ]
     },
     "execution_count": 4,
     "metadata": {},
     "output_type": "execute_result"
    }
   ],
   "source": [
    "ee.distribution |> eltype"
   ]
  },
  {
   "cell_type": "code",
   "execution_count": 10,
   "metadata": {
    "collapsed": false
   },
   "outputs": [
    {
     "data": {
      "text/plain": [
       "1531453-element Array{Float32,1}:\n",
       " 0.0188808 \n",
       " 0.0188808 \n",
       " 0.0188808 \n",
       " 0.0188808 \n",
       " 0.0188808 \n",
       " 0.0188808 \n",
       " 0.0133881 \n",
       " 0.012755  \n",
       " 0.0116865 \n",
       " 0.00901728\n",
       " 0.00854424\n",
       " 0.00780011\n",
       " 0.00769301\n",
       " ⋮         \n",
       " 5.62693e-9\n",
       " 5.62693e-9\n",
       " 5.62693e-9\n",
       " 5.62693e-9\n",
       " 5.62693e-9\n",
       " 5.62693e-9\n",
       " 5.62693e-9\n",
       " 5.62693e-9\n",
       " 5.62693e-9\n",
       " 5.62693e-9\n",
       " 5.62693e-9\n",
       " 5.62693e-9"
      ]
     },
     "execution_count": 10,
     "metadata": {},
     "output_type": "execute_result"
    }
   ],
   "source": [
    "sorted_dist = sort(collect(values(ee.distribution)), rev=true)"
   ]
  },
  {
   "cell_type": "code",
   "execution_count": 20,
   "metadata": {
    "collapsed": false
   },
   "outputs": [
    {
     "data": {
      "text/plain": [
       "2957.0f0"
      ]
     },
     "execution_count": 20,
     "metadata": {},
     "output_type": "execute_result"
    }
   ],
   "source": [
    "sorted_dist[20000]*ee.corpus_size"
   ]
  },
  {
   "cell_type": "code",
   "execution_count": 6,
   "metadata": {
    "collapsed": false,
    "scrolled": false
   },
   "outputs": [
    {
     "data": {
      "text/plain": [
       "                 ┌────────────────────────────────────────┐ \n",
       "   (-19.0,-18.5] │▇▇▇▇▇▇▇▇▇▇▇▇▇▇▇▇▇▇▇▇▇▇▇▇▇▇▇▇▇▇▇▇ 547370 │ \n",
       "   (-18.5,-18.0] │▇▇▇▇▇▇▇▇▇▇▇▇▇▇▇▇ 275713                 │ \n",
       "   (-18.0,-17.5] │▇▇▇▇▇▇▇▇▇▇▇▇ 213526                     │ \n",
       "   (-17.5,-17.0] │▇▇▇▇▇▇▇▇ 141744                         │ \n",
       "   (-17.0,-16.5] │▇▇▇▇▇▇ 103041                           │ \n",
       "   (-16.5,-16.0] │▇▇▇▇ 69949                              │ \n",
       "   (-16.0,-15.5] │▇▇▇ 49826                               │ \n",
       "   (-15.5,-15.0] │▇▇ 35449                                │ \n",
       "   (-15.0,-14.5] │▇ 25596                                 │ \n",
       "   (-14.5,-14.0] │▇ 18998                                 │ \n",
       "   (-14.0,-13.5] │▇ 13834                                 │ \n",
       "   (-13.5,-13.0] │▇ 10445                                 │ \n",
       "   (-13.0,-12.5] │ 7510                                   │ \n",
       "   (-12.5,-12.0] │ 5315                                   │ \n",
       "   (-12.0,-11.5] │ 3978                                   │ \n",
       "   (-11.5,-11.0] │ 2836                                   │ \n",
       "   (-11.0,-10.5] │ 2058                                   │ \n",
       "   (-10.5,-10.0] │ 1549                                   │ \n",
       "    (-10.0,-9.5] │ 1070                                   │ \n",
       "     (-9.5,-9.0] │ 703                                    │ \n",
       "     (-9.0,-8.5] │ 435                                    │ \n",
       "     (-8.5,-8.0] │ 227                                    │ \n",
       "     (-8.0,-7.5] │ 134                                    │ \n",
       "     (-7.5,-7.0] │ 66                                     │ \n",
       "     (-7.0,-6.5] │ 35                                     │ \n",
       "     (-6.5,-6.0] │ 14                                     │ \n",
       "     (-6.0,-5.5] │ 12                                     │ \n",
       "     (-5.5,-5.0] │ 6                                      │ \n",
       "     (-5.0,-4.5] │ 5                                      │ \n",
       "     (-4.5,-4.0] │ 3                                      │ \n",
       "     (-4.0,-3.5] │ 6                                      │ \n",
       "                 └────────────────────────────────────────┘ \n"
      ]
     },
     "execution_count": 6,
     "metadata": {},
     "output_type": "execute_result"
    }
   ],
   "source": [
    "histogram(Float64[log(freq) for (word,freq) in ee.distribution], bins=50)"
   ]
  },
  {
   "cell_type": "code",
   "execution_count": null,
   "metadata": {
    "collapsed": false
   },
   "outputs": [],
   "source": [
    "rares = 0\n",
    "for (word, freq) in ee.distribution\n",
    "    if freq*ee.corpus_size < 100\n",
    "        rares+=1\n",
    "    else\n",
    "        #println(word)\n",
    "    end\n",
    "end\n",
    "println(rares/length(ee.distribution)*100)\n",
    "println(length(ee.distribution)-rares)"
   ]
  },
  {
   "cell_type": "code",
   "execution_count": null,
   "metadata": {
    "collapsed": false
   },
   "outputs": [],
   "source": [
    "length(ee.distribution)-rares"
   ]
  },
  {
   "cell_type": "code",
   "execution_count": null,
   "metadata": {
    "collapsed": false,
    "scrolled": true
   },
   "outputs": [],
   "source": [
    "nsenses = Float32[round(-(1/log2(freq))+1) for (word, freq) in ee.distribution]\n",
    "@show minimum(nsenses)\n",
    "@show median(nsenses)\n",
    "@show  maximum(nsenses)\n",
    "@show mean(nsenses)\n",
    "@show std(nsenses)"
   ]
  },
  {
   "cell_type": "code",
   "execution_count": null,
   "metadata": {
    "collapsed": false
   },
   "outputs": [],
   "source": [
    "expcnts = [\n",
    "    100 1;\n",
    "    500 20\n",
    "    \n",
    "    \n",
    "    \n",
    "]"
   ]
  },
  {
   "cell_type": "code",
   "execution_count": null,
   "metadata": {
    "collapsed": false
   },
   "outputs": [],
   "source": [
    "-log2(0.05)"
   ]
  },
  {
   "cell_type": "code",
   "execution_count": null,
   "metadata": {
    "collapsed": true
   },
   "outputs": [],
   "source": [
    "histogram(Float64[log(freq) for (word,freq) in ee.distribution], bins=50)"
   ]
  },
  {
   "cell_type": "code",
   "execution_count": null,
   "metadata": {
    "collapsed": true
   },
   "outputs": [],
   "source": []
  },
  {
   "cell_type": "code",
   "execution_count": null,
   "metadata": {
    "collapsed": true
   },
   "outputs": [],
   "source": []
  }
 ],
 "metadata": {
  "kernelspec": {
   "display_name": "Julia 0.5.0-dev",
   "language": "julia",
   "name": "julia-0.5"
  },
  "language_info": {
   "file_extension": ".jl",
   "mimetype": "application/julia",
   "name": "julia",
   "version": "0.5.0"
  }
 },
 "nbformat": 4,
 "nbformat_minor": 0
}
