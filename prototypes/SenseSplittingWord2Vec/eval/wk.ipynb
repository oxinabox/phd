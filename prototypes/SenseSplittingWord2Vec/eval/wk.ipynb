{
 "cells": [
  {
   "cell_type": "code",
   "execution_count": 1,
   "metadata": {
    "collapsed": false
   },
   "outputs": [
    {
     "name": "stderr",
     "output_type": "stream",
     "text": [
      "WARNING: Base.SingleAsyncWork is deprecated, use Base.AsyncCondition instead.\n",
      "  likely near /home/ubuntu/.julia/v0.5/IJulia/src/kernel.jl:6\n",
      "in gc_protect_handle at \n",
      "WARNING: Base.SingleAsyncWork is deprecated, use Base.AsyncCondition instead.\n",
      "  likely near /home/ubuntu/.julia/v0.5/IJulia/src/kernel.jl:6\n",
      "WARNING: Base.SingleAsyncWork is deprecated, use Base.AsyncCondition instead.\n",
      "  likely near /home/ubuntu/.julia/v0.5/IJulia/src/kernel.jl:6\n",
      "in gc_protect_handle at /home/ubuntu/.julia/v0.5/ZMQ/src/ZMQ.jl\n",
      "WARNING: Base.SingleAsyncWork is deprecated, use Base.AsyncCondition instead.\n",
      "  likely near /home/ubuntu/.julia/v0.5/IJulia/src/kernel.jl:6\n",
      "in gc_protect_handle at /home/ubuntu/.julia/v0.5/ZMQ/src/ZMQ.jl\n",
      "WARNING: Base.SingleAsyncWork is deprecated, use Base.AsyncCondition instead.\n",
      "  likely near /home/ubuntu/.julia/v0.5/IJulia/src/kernel.jl:6\n",
      "in gc_protect_handle at /home/ubuntu/.julia/v0.5/ZMQ/src/ZMQ.jl\n"
     ]
    },
    {
     "data": {
      "text/plain": [
       "3-element Array{ByteString,1}:\n",
       " \"/home/ubuntu/build/julia-master/usr/local/share/julia/site/v0.5\"\n",
       " \"/home/ubuntu/build/julia-master/usr/share/julia/site/v0.5\"      \n",
       " \"../src/\"                                                        "
      ]
     },
     "execution_count": 1,
     "metadata": {},
     "output_type": "execute_result"
    }
   ],
   "source": [
    "push!(LOAD_PATH,\"../src/\")\n"
   ]
  },
  {
   "cell_type": "code",
   "execution_count": 2,
   "metadata": {
    "collapsed": false,
    "scrolled": true
   },
   "outputs": [
    {
     "name": "stderr",
     "output_type": "stream",
     "text": [
      "WARNING: Method definition error(AbstractString) in module Base at error.jl:21 overwritten in module Lumberjack at /home/ubuntu/.julia/v0.5/Lumberjack/src/lumbermill.jl:138.\n",
      "WARNING: Method definition error(Any...) in module Base at error.jl:22 overwritten in module Lumberjack at /home/ubuntu/.julia/v0.5/Lumberjack/src/lumbermill.jl:114.\n",
      "WARNING: Method definition warn(Exception) in module Base at util.jl:373 overwritten in module Lumberjack at /home/ubuntu/.julia/v0.5/Lumberjack/src/lumbermill.jl:99.\n",
      "WARNING: Method definition #warn(Array, Base.#warn, Exception) in module Base overwritten in module Lumberjack.\n",
      "\n",
      "WARNING: deprecated syntax \"call(::Type{NullableArray{T,N}}, ...)\".\n",
      "Use \"(::Type{NullableArray{T,N}})(...)\" instead.\n",
      "\n",
      "WARNING: deprecated syntax \"call(::Base.MinFun, ...)\".\n",
      "Use \"(::Base.MinFun)(...)\" instead.\n",
      "\n",
      "WARNING: deprecated syntax \"call(::Base.MaxFun, ...)\".\n",
      "Use \"(::Base.MaxFun)(...)\" instead.\n",
      "WARNING: Method definition anynull(AbstractArray) in module NullableArrays at /home/ubuntu/.julia/v0.5/NullableArrays/src/primitives.jl:175 overwritten in module PooledElements at /home/ubuntu/.julia/v0.5/PooledElements/src/pooledstringarray.jl:243.\n"
     ]
    },
    {
     "data": {
      "text/plain": [
       "test_analogies (generic function with 1 method)"
      ]
     },
     "execution_count": 2,
     "metadata": {},
     "output_type": "execute_result"
    }
   ],
   "source": [
    "include(\"eval_analogies.jl\")\n"
   ]
  },
  {
   "cell_type": "code",
   "execution_count": 3,
   "metadata": {
    "collapsed": false
   },
   "outputs": [
    {
     "data": {
      "text/plain": [
       "Word embedding(dimension = 30)of 71290 words, trained on 83594170 words\n"
      ]
     },
     "execution_count": 3,
     "metadata": {},
     "output_type": "execute_result"
    }
   ],
   "source": [
    "ee = restore(\"models/text8_v1.model\")"
   ]
  },
  {
   "cell_type": "code",
   "execution_count": 4,
   "metadata": {
    "collapsed": false,
    "scrolled": true
   },
   "outputs": [
    {
     "data": {
      "text/plain": [
       "19544-element Array{Tuple{PooledElements.PooledString{UTF8String,UInt64,PooledElements.Pool{UTF8String,UInt64,0x5eccf0f0788c018d}},PooledElements.PooledString{UTF8String,UInt64,PooledElements.Pool{UTF8String,UInt64,0x5eccf0f0788c018d}},PooledElements.PooledString{UTF8String,UInt64,PooledElements.Pool{UTF8String,UInt64,0x5eccf0f0788c018d}},PooledElements.PooledString{UTF8String,UInt64,PooledElements.Pool{UTF8String,UInt64,0x5eccf0f0788c018d}}},1}:\n",
       " (\"athens\",\"greece\",\"baghdad\",\"iraq\")      \n",
       " (\"athens\",\"greece\",\"bangkok\",\"thailand\")  \n",
       " (\"athens\",\"greece\",\"beijing\",\"china\")     \n",
       " (\"athens\",\"greece\",\"berlin\",\"germany\")    \n",
       " (\"athens\",\"greece\",\"bern\",\"switzerland\")  \n",
       " (\"athens\",\"greece\",\"cairo\",\"egypt\")       \n",
       " (\"athens\",\"greece\",\"canberra\",\"australia\")\n",
       " (\"athens\",\"greece\",\"hanoi\",\"vietnam\")     \n",
       " (\"athens\",\"greece\",\"havana\",\"cuba\")       \n",
       " (\"athens\",\"greece\",\"helsinki\",\"finland\")  \n",
       " (\"athens\",\"greece\",\"islamabad\",\"pakistan\")\n",
       " (\"athens\",\"greece\",\"kabul\",\"afghanistan\") \n",
       " (\"athens\",\"greece\",\"london\",\"england\")    \n",
       " ⋮                                         \n",
       " (\"write\",\"writes\",\"see\",\"sees\")           \n",
       " (\"write\",\"writes\",\"shuffle\",\"shuffles\")   \n",
       " (\"write\",\"writes\",\"sing\",\"sings\")         \n",
       " (\"write\",\"writes\",\"sit\",\"sits\")           \n",
       " (\"write\",\"writes\",\"slow\",\"slows\")         \n",
       " (\"write\",\"writes\",\"speak\",\"speaks\")       \n",
       " (\"write\",\"writes\",\"swim\",\"swims\")         \n",
       " (\"write\",\"writes\",\"talk\",\"talks\")         \n",
       " (\"write\",\"writes\",\"think\",\"thinks\")       \n",
       " (\"write\",\"writes\",\"vanish\",\"vanishes\")    \n",
       " (\"write\",\"writes\",\"walk\",\"walks\")         \n",
       " (\"write\",\"writes\",\"work\",\"works\")         "
      ]
     },
     "execution_count": 4,
     "metadata": {},
     "output_type": "execute_result"
    }
   ],
   "source": [
    "anas = collect(analogies(preprocess=lowercase))"
   ]
  },
  {
   "cell_type": "code",
   "execution_count": null,
   "metadata": {
    "collapsed": false
   },
   "outputs": [],
   "source": [
    "res = map(ana->(check_analogy(ee, ana...)), anas)"
   ]
  },
  {
   "cell_type": "code",
   "execution_count": null,
   "metadata": {
    "collapsed": true
   },
   "outputs": [],
   "source": []
  },
  {
   "cell_type": "code",
   "execution_count": null,
   "metadata": {
    "collapsed": true
   },
   "outputs": [],
   "source": []
  },
  {
   "cell_type": "code",
   "execution_count": null,
   "metadata": {
    "collapsed": true
   },
   "outputs": [],
   "source": []
  },
  {
   "cell_type": "code",
   "execution_count": null,
   "metadata": {
    "collapsed": false
   },
   "outputs": [],
   "source": [
    "ana = anas[10500+05]\n",
    "a,b,c,d_ref = ana"
   ]
  },
  {
   "cell_type": "code",
   "execution_count": null,
   "metadata": {
    "collapsed": false
   },
   "outputs": [],
   "source": [
    "find_nearest_words(ee, \"$b-$a+$c\", nwords=10)"
   ]
  },
  {
   "cell_type": "code",
   "execution_count": null,
   "metadata": {
    "collapsed": false
   },
   "outputs": [],
   "source": [
    "find_nearest_words(ee, [b,c],[a], nwords=4)"
   ]
  },
  {
   "cell_type": "code",
   "execution_count": null,
   "metadata": {
    "collapsed": false
   },
   "outputs": [],
   "source": [
    "find_nearest_words(ee, \"aunt\", nwords=100)"
   ]
  },
  {
   "cell_type": "code",
   "execution_count": null,
   "metadata": {
    "collapsed": false
   },
   "outputs": [],
   "source": [
    "\n",
    "a_find_nearest_words(ee, \"$a-$b+$c\", nwords=1)"
   ]
  },
  {
   "cell_type": "code",
   "execution_count": null,
   "metadata": {
    "collapsed": false
   },
   "outputs": [],
   "source": [
    "25*24*(26*26*26)"
   ]
  },
  {
   "cell_type": "code",
   "execution_count": null,
   "metadata": {
    "collapsed": true
   },
   "outputs": [],
   "source": []
  }
 ],
 "metadata": {
  "kernelspec": {
   "display_name": "Julia 0.5.0-dev",
   "language": "julia",
   "name": "julia-0.5"
  },
  "language_info": {
   "file_extension": ".jl",
   "mimetype": "application/julia",
   "name": "julia",
   "version": "0.5.0"
  }
 },
 "nbformat": 4,
 "nbformat_minor": 0
}
