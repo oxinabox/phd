{
 "cells": [
  {
   "cell_type": "code",
   "execution_count": 2,
   "metadata": {
    "collapsed": false
   },
   "outputs": [
    {
     "name": "stderr",
     "output_type": "stream",
     "text": [
      "WARNING: Method definition error(AbstractString) in module Base at error.jl:21 overwritten in module Lumberjack at /home/ubuntu/.julia/v0.5/Lumberjack/src/lumbermill.jl:138.\n",
      "WARNING: Method definition error(Any...) in module Base at error.jl:22 overwritten in module Lumberjack at /home/ubuntu/.julia/v0.5/Lumberjack/src/lumbermill.jl:114.\n",
      "WARNING: Method definition warn(Exception) in module Base at util.jl:373 overwritten in module Lumberjack at /home/ubuntu/.julia/v0.5/Lumberjack/src/lumbermill.jl:99.\n",
      "WARNING: Method definition #warn(Array, Base.#warn, Exception) in module Base overwritten in module Lumberjack.\n",
      "\n",
      "WARNING: deprecated syntax \"call(::Type{NullableArray{T,N}}, ...)\".\n",
      "Use \"(::Type{NullableArray{T,N}})(...)\" instead.\n",
      "\n",
      "WARNING: deprecated syntax \"call(::Base.MinFun, ...)\".\n",
      "Use \"(::Base.MinFun)(...)\" instead.\n",
      "\n",
      "WARNING: deprecated syntax \"call(::Base.MaxFun, ...)\".\n",
      "Use \"(::Base.MaxFun)(...)\" instead.\n",
      "WARNING: Method definition anynull(AbstractArray) in module NullableArrays at /home/ubuntu/.julia/v0.5/NullableArrays/src/primitives.jl:175 overwritten in module PooledElements at /home/ubuntu/.julia/v0.5/PooledElements/src/pooledstringarray.jl:243.\n"
     ]
    }
   ],
   "source": [
    "push!(LOAD_PATH,\"../src/\")\n",
    "using Word2Vec"
   ]
  },
  {
   "cell_type": "code",
   "execution_count": 3,
   "metadata": {
    "collapsed": false
   },
   "outputs": [
    {
     "data": {
      "text/plain": [
       "Word embedding(dimension = 150)of 71290 words, trained on 83594170 words\n"
      ]
     },
     "execution_count": 3,
     "metadata": {},
     "output_type": "execute_result"
    }
   ],
   "source": [
    "ee = restore(\"models/text8_150.model\")"
   ]
  },
  {
   "cell_type": "code",
   "execution_count": 10,
   "metadata": {
    "collapsed": false,
    "scrolled": true
   },
   "outputs": [
    {
     "data": {
      "text/plain": [
       "150×71290 Array{Float32,2}:\n",
       " -0.107241   -0.681449    0.484844   …   0.217343   -0.562647    0.0861343 \n",
       "  0.655968    0.791854   -0.201756       0.447801    0.911937    0.388811  \n",
       " -0.624914    0.170264   -0.237004       0.414289   -0.809328    0.27662   \n",
       " -0.321024   -0.460994    0.041702      -0.339738   -0.48563    -0.0991888 \n",
       " -0.124136    0.817584   -0.607842       0.783729   -0.288637   -0.271156  \n",
       "  0.151713   -0.869712    0.295965   …  -0.494847   -0.846364   -0.27876   \n",
       " -0.178415    0.148535   -0.0549065      0.642241   -0.343833   -0.241708  \n",
       " -0.0127003   0.177183    0.628503       0.802985   -0.0666539  -0.101342  \n",
       "  0.167972   -0.700072   -0.154052       1.09431    -0.687113   -0.0187631 \n",
       "  0.453452   -0.352682    0.245873       0.166105   -0.578599   -0.388903  \n",
       "  0.205921   -0.550405   -0.100977   …  -0.0538865  -0.47733    -0.0661067 \n",
       "  0.171036   -0.158398    0.0942874     -0.896954    0.145758   -0.10493   \n",
       " -0.4957      0.425547   -0.270822      -0.478469   -0.730172    0.171634  \n",
       "  ⋮                                  ⋱                                     \n",
       "  0.0310296  -0.0455203  -0.630686      -0.39753     0.768186   -0.00682478\n",
       " -0.136281   -0.426428    0.230683       0.600439   -0.557902    0.0418333 \n",
       "  0.346106   -0.357072    0.300327   …  -1.05854     0.290934    0.0288732 \n",
       "  0.389801    0.019496   -0.561319       0.109458   -0.0819431   0.0604993 \n",
       " -0.436412   -0.678649    0.26269       -0.869734   -0.381741   -0.261625  \n",
       " -0.285525    0.640241   -0.255161      -0.290654    0.430748   -0.206027  \n",
       " -0.235264    0.0145609   0.194346      -0.425527    0.0415617   0.312221  \n",
       "  0.0368814   0.0324079   0.563221   …  -0.102614   -1.04545     0.223753  \n",
       "  0.131271   -0.276517    0.135619       0.513244   -0.611702    0.0332956 \n",
       " -0.157628   -0.566064    0.454045      -0.277969    0.602303   -0.136509  \n",
       "  0.0705419  -0.0633258  -0.15052        0.360971   -0.161177   -0.107381  \n",
       " -0.192952   -0.642328    0.465234      -0.897406   -0.34406     0.0633858 "
      ]
     },
     "execution_count": 10,
     "metadata": {},
     "output_type": "execute_result"
    }
   ],
   "source": [
    "embeds = hcat([v for  v in values(ee.embedding)]...)"
   ]
  },
  {
   "cell_type": "code",
   "execution_count": 12,
   "metadata": {
    "collapsed": false,
    "scrolled": true
   },
   "outputs": [
    {
     "data": {
      "text/plain": [
       "150×1 Array{Float32,2}:\n",
       "  0.0790184 \n",
       "  0.00656825\n",
       "  0.00943952\n",
       " -0.0152297 \n",
       "  0.03321   \n",
       " -0.0469548 \n",
       "  0.00192975\n",
       "  0.0041733 \n",
       "  0.0257274 \n",
       "  0.0151696 \n",
       "  0.0111201 \n",
       " -0.0184412 \n",
       "  0.0632448 \n",
       "  ⋮         \n",
       " -0.0461326 \n",
       "  0.0216477 \n",
       " -0.0264626 \n",
       "  0.00789163\n",
       "  0.0276622 \n",
       " -0.022203  \n",
       " -0.0259652 \n",
       "  0.013747  \n",
       "  0.0129085 \n",
       " -0.0260298 \n",
       " -0.00573531\n",
       " -0.0152033 "
      ]
     },
     "execution_count": 12,
     "metadata": {},
     "output_type": "execute_result"
    }
   ],
   "source": [
    "mean(embeds,2)"
   ]
  },
  {
   "cell_type": "code",
   "execution_count": 15,
   "metadata": {
    "collapsed": false
   },
   "outputs": [
    {
     "data": {
      "text/plain": [
       "150×1 Array{Float32,2}:\n",
       " 0.396134\n",
       " 0.402958\n",
       " 0.400376\n",
       " 0.40472 \n",
       " 0.402357\n",
       " 0.400688\n",
       " 0.400681\n",
       " 0.403027\n",
       " 0.398684\n",
       " 0.404411\n",
       " 0.400038\n",
       " 0.402484\n",
       " 0.400023\n",
       " ⋮       \n",
       " 0.397271\n",
       " 0.408302\n",
       " 0.407647\n",
       " 0.400134\n",
       " 0.401033\n",
       " 0.402314\n",
       " 0.40313 \n",
       " 0.404886\n",
       " 0.402221\n",
       " 0.402598\n",
       " 0.400809\n",
       " 0.398625"
      ]
     },
     "execution_count": 15,
     "metadata": {},
     "output_type": "execute_result"
    }
   ],
   "source": [
    "std(embeds,2)"
   ]
  },
  {
   "cell_type": "code",
   "execution_count": null,
   "metadata": {
    "collapsed": true
   },
   "outputs": [],
   "source": []
  }
 ],
 "metadata": {
  "kernelspec": {
   "display_name": "Julia 0.5.0-dev",
   "language": "julia",
   "name": "julia-0.5"
  },
  "language_info": {
   "file_extension": ".jl",
   "mimetype": "application/julia",
   "name": "julia",
   "version": "0.5.0"
  }
 },
 "nbformat": 4,
 "nbformat_minor": 0
}
