{
 "cells": [
  {
   "cell_type": "code",
   "execution_count": 1,
   "metadata": {
    "collapsed": false
   },
   "outputs": [
    {
     "name": "stderr",
     "output_type": "stream",
     "text": [
      "WARNING: Base.SingleAsyncWork is deprecated, use Base.AsyncCondition instead.\n",
      "  likely near /home/ubuntu/.julia/v0.5/IJulia/src/kernel.jl:6\n",
      "in gc_protect_handle at \n",
      "WARNING: Base.SingleAsyncWork is deprecated, use Base.AsyncCondition instead.\n",
      "  likely near /home/ubuntu/.julia/v0.5/IJulia/src/kernel.jl:6\n",
      "WARNING: Base.SingleAsyncWork is deprecated, use Base.AsyncCondition instead.\n",
      "  likely near /home/ubuntu/.julia/v0.5/IJulia/src/kernel.jl:6\n",
      "in gc_protect_handle at /home/ubuntu/.julia/v0.5/ZMQ/src/ZMQ.jl\n",
      "WARNING: Base.SingleAsyncWork is deprecated, use Base.AsyncCondition instead.\n",
      "  likely near /home/ubuntu/.julia/v0.5/IJulia/src/kernel.jl:6\n",
      "in gc_protect_handle at /home/ubuntu/.julia/v0.5/ZMQ/src/ZMQ.jl\n",
      "WARNING: Base.SingleAsyncWork is deprecated, use Base.AsyncCondition instead.\n",
      "  likely near /home/ubuntu/.julia/v0.5/IJulia/src/kernel.jl:6\n",
      "in gc_protect_handle at /home/ubuntu/.julia/v0.5/ZMQ/src/ZMQ.jl\n"
     ]
    },
    {
     "data": {
      "text/plain": [
       "3-element Array{ByteString,1}:\n",
       " \"/home/ubuntu/build/julia-master/usr/local/share/julia/site/v0.5\"\n",
       " \"/home/ubuntu/build/julia-master/usr/share/julia/site/v0.5\"      \n",
       " \"../src/\"                                                        "
      ]
     },
     "execution_count": 1,
     "metadata": {},
     "output_type": "execute_result"
    }
   ],
   "source": [
    "push!(LOAD_PATH,\"../src/\")\n"
   ]
  },
  {
   "cell_type": "code",
   "execution_count": 2,
   "metadata": {
    "collapsed": false,
    "scrolled": true
   },
   "outputs": [
    {
     "name": "stderr",
     "output_type": "stream",
     "text": [
      "WARNING: Method definition error(AbstractString) in module Base at error.jl:21 overwritten in module Lumberjack at /home/ubuntu/.julia/v0.5/Lumberjack/src/lumbermill.jl:138.\n",
      "WARNING: Method definition error(Any...) in module Base at error.jl:22 overwritten in module Lumberjack at /home/ubuntu/.julia/v0.5/Lumberjack/src/lumbermill.jl:114.\n",
      "WARNING: Method definition warn(Exception) in module Base at util.jl:373 overwritten in module Lumberjack at /home/ubuntu/.julia/v0.5/Lumberjack/src/lumbermill.jl:99.\n",
      "WARNING: Method definition #warn(Array, Base.#warn, Exception) in module Base overwritten in module Lumberjack.\n",
      "\n",
      "WARNING: deprecated syntax \"call(::Type{NullableArray{T,N}}, ...)\".\n",
      "Use \"(::Type{NullableArray{T,N}})(...)\" instead.\n",
      "\n",
      "WARNING: deprecated syntax \"call(::Base.MinFun, ...)\".\n",
      "Use \"(::Base.MinFun)(...)\" instead.\n",
      "\n",
      "WARNING: deprecated syntax \"call(::Base.MaxFun, ...)\".\n",
      "Use \"(::Base.MaxFun)(...)\" instead.\n",
      "WARNING: Method definition anynull(AbstractArray) in module NullableArrays at /home/ubuntu/.julia/v0.5/NullableArrays/src/primitives.jl:175 overwritten in module PooledElements at /home/ubuntu/.julia/v0.5/PooledElements/src/pooledstringarray.jl:243.\n"
     ]
    },
    {
     "data": {
      "text/plain": [
       "test_analogies (generic function with 1 method)"
      ]
     },
     "execution_count": 2,
     "metadata": {},
     "output_type": "execute_result"
    }
   ],
   "source": [
    "include(\"eval_analogies.jl\")\n"
   ]
  },
  {
   "cell_type": "code",
   "execution_count": 3,
   "metadata": {
    "collapsed": false
   },
   "outputs": [
    {
     "data": {
      "text/plain": [
       "Word embedding(dimension = 30)of 71290 words, trained on 83594170 words\n"
      ]
     },
     "execution_count": 3,
     "metadata": {},
     "output_type": "execute_result"
    }
   ],
   "source": [
    "ee = restore(\"models/text8_v2.model\")"
   ]
  },
  {
   "cell_type": "code",
   "execution_count": 4,
   "metadata": {
    "collapsed": false,
    "scrolled": true
   },
   "outputs": [
    {
     "data": {
      "text/plain": [
       "19544-element Array{Tuple{PooledElements.PooledString{UTF8String,UInt64,PooledElements.Pool{UTF8String,UInt64,0x72a95bd58b07c488}},PooledElements.PooledString{UTF8String,UInt64,PooledElements.Pool{UTF8String,UInt64,0x72a95bd58b07c488}},PooledElements.PooledString{UTF8String,UInt64,PooledElements.Pool{UTF8String,UInt64,0x72a95bd58b07c488}},PooledElements.PooledString{UTF8String,UInt64,PooledElements.Pool{UTF8String,UInt64,0x72a95bd58b07c488}}},1}:\n",
       " (\"athens\",\"greece\",\"baghdad\",\"iraq\")      \n",
       " (\"athens\",\"greece\",\"bangkok\",\"thailand\")  \n",
       " (\"athens\",\"greece\",\"beijing\",\"china\")     \n",
       " (\"athens\",\"greece\",\"berlin\",\"germany\")    \n",
       " (\"athens\",\"greece\",\"bern\",\"switzerland\")  \n",
       " (\"athens\",\"greece\",\"cairo\",\"egypt\")       \n",
       " (\"athens\",\"greece\",\"canberra\",\"australia\")\n",
       " (\"athens\",\"greece\",\"hanoi\",\"vietnam\")     \n",
       " (\"athens\",\"greece\",\"havana\",\"cuba\")       \n",
       " (\"athens\",\"greece\",\"helsinki\",\"finland\")  \n",
       " (\"athens\",\"greece\",\"islamabad\",\"pakistan\")\n",
       " (\"athens\",\"greece\",\"kabul\",\"afghanistan\") \n",
       " (\"athens\",\"greece\",\"london\",\"england\")    \n",
       " ⋮                                         \n",
       " (\"write\",\"writes\",\"see\",\"sees\")           \n",
       " (\"write\",\"writes\",\"shuffle\",\"shuffles\")   \n",
       " (\"write\",\"writes\",\"sing\",\"sings\")         \n",
       " (\"write\",\"writes\",\"sit\",\"sits\")           \n",
       " (\"write\",\"writes\",\"slow\",\"slows\")         \n",
       " (\"write\",\"writes\",\"speak\",\"speaks\")       \n",
       " (\"write\",\"writes\",\"swim\",\"swims\")         \n",
       " (\"write\",\"writes\",\"talk\",\"talks\")         \n",
       " (\"write\",\"writes\",\"think\",\"thinks\")       \n",
       " (\"write\",\"writes\",\"vanish\",\"vanishes\")    \n",
       " (\"write\",\"writes\",\"walk\",\"walks\")         \n",
       " (\"write\",\"writes\",\"work\",\"works\")         "
      ]
     },
     "execution_count": 4,
     "metadata": {},
     "output_type": "execute_result"
    },
    {
     "name": "stderr",
     "output_type": "stream",
     "text": [
      "WARNING: Base.SingleAsyncWork is deprecated, use Base.AsyncCondition instead.\n",
      "  likely near /home/ubuntu/.julia/v0.5/IJulia/src/kernel.jl:31\n",
      "in gc_protect_handle at \n",
      "WARNING: Base.SingleAsyncWork is deprecated, use Base.AsyncCondition instead.\n",
      "  likely near /home/ubuntu/.julia/v0.5/IJulia/src/kernel.jl:31\n",
      "WARNING: Base.SingleAsyncWork is deprecated, use Base.AsyncCondition instead.\n",
      "  likely near /home/ubuntu/.julia/v0.5/IJulia/src/kernel.jl:31\n",
      "in gc_protect_handle at /home/ubuntu/.julia/v0.5/ZMQ/src/ZMQ.jl\n",
      "WARNING: Base.SingleAsyncWork is deprecated, use Base.AsyncCondition instead.\n",
      "  likely near /home/ubuntu/.julia/v0.5/IJulia/src/kernel.jl:31\n",
      "in gc_protect_handle at /home/ubuntu/.julia/v0.5/ZMQ/src/ZMQ.jl\n",
      "WARNING: Base.SingleAsyncWork is deprecated, use Base.AsyncCondition instead.\n",
      "  likely near /home/ubuntu/.julia/v0.5/IJulia/src/kernel.jl:31\n",
      "in gc_protect_handle at /home/ubuntu/.julia/v0.5/ZMQ/src/ZMQ.jl\n"
     ]
    }
   ],
   "source": [
    "anas = collect(analogies(preprocess=lowercase))"
   ]
  },
  {
   "cell_type": "code",
   "execution_count": 39,
   "metadata": {
    "collapsed": false
   },
   "outputs": [
    {
     "data": {
      "text/plain": [
       "10-element Array{RetrievalResult,1}:\n",
       " incorrect\n",
       " incorrect\n",
       " incorrect\n",
       " incorrect\n",
       " incorrect\n",
       " incorrect\n",
       " incorrect\n",
       " incorrect\n",
       " incorrect\n",
       " incorrect"
      ]
     },
     "execution_count": 39,
     "metadata": {},
     "output_type": "execute_result"
    }
   ],
   "source": [
    "res = map(ana->(check_analogy(ee, ana...)), analogies(preprocess=lowercase))"
   ]
  },
  {
   "cell_type": "code",
   "execution_count": 46,
   "metadata": {
    "collapsed": false
   },
   "outputs": [
    {
     "name": "stdout",
     "output_type": "stream",
     "text": [
      "Tested 4 analogies\n",
      "skipped  \t50.0 %\n",
      "incorrect\t25.0 %\n",
      "correct  \t25.0 %\n"
     ]
    }
   ],
   "source": [
    "println(\"Tested $(length(res)) analogies\")\n",
    "skips = mean(map(r->r==skip, res))*100\n",
    "incorrects = mean(map(r->r==incorrect, res))*100\n",
    "corrects = mean(map(r->r==correct, res))*100\n",
    "\n",
    "println(\"skipped  \\t$skips \\%\")\n",
    "println(\"incorrect\\t$incorrects \\%\")\n",
    "println(\"correct  \\t$corrects \\%\")"
   ]
  },
  {
   "cell_type": "code",
   "execution_count": null,
   "metadata": {
    "collapsed": true
   },
   "outputs": [],
   "source": []
  },
  {
   "cell_type": "code",
   "execution_count": 36,
   "metadata": {
    "collapsed": false
   },
   "outputs": [
    {
     "data": {
      "text/plain": [
       "(\"france\",\"french\",\"chile\",\"chilean\")"
      ]
     },
     "execution_count": 36,
     "metadata": {},
     "output_type": "execute_result"
    }
   ],
   "source": [
    "ana = anas[14800+02]\n",
    "a,b,c,d_ref = ana"
   ]
  },
  {
   "cell_type": "code",
   "execution_count": 37,
   "metadata": {
    "collapsed": false
   },
   "outputs": [
    {
     "data": {
      "text/plain": [
       "10-element Array{Pair{Any,Any},1}:\n",
       " Pair{Any,Any}(\"brazilian\",0.188015) \n",
       " Pair{Any,Any}(\"ecuadorian\",0.190278)\n",
       " Pair{Any,Any}(\"colombian\",0.195383) \n",
       " Pair{Any,Any}(\"mauritian\",0.208487) \n",
       " Pair{Any,Any}(\"peruvian\",0.23381)   \n",
       " Pair{Any,Any}(\"rican\",0.237678)     \n",
       " Pair{Any,Any}(\"moreno\",0.2497)      \n",
       " Pair{Any,Any}(\"argentine\",0.25252)  \n",
       " Pair{Any,Any}(\"sar\",0.260823)       \n",
       " Pair{Any,Any}(\"vicente\",0.262179)   "
      ]
     },
     "execution_count": 37,
     "metadata": {},
     "output_type": "execute_result"
    }
   ],
   "source": [
    "find_nearest_words(ee, \"$b-$a+$c\", nwords=10)"
   ]
  },
  {
   "cell_type": "code",
   "execution_count": null,
   "metadata": {
    "collapsed": false
   },
   "outputs": [],
   "source": [
    "find_nearest_words(ee, [b,c],[a], nwords=4)"
   ]
  },
  {
   "cell_type": "code",
   "execution_count": null,
   "metadata": {
    "collapsed": true
   },
   "outputs": [],
   "source": []
  },
  {
   "cell_type": "code",
   "execution_count": 14,
   "metadata": {
    "collapsed": false
   },
   "outputs": [
    {
     "data": {
      "text/plain": [
       "5-element Array{Pair{Any,Any},1}:\n",
       " Pair{Any,Any}(\"duchess\",0.118826) \n",
       " Pair{Any,Any}(\"princess\",0.141508)\n",
       " Pair{Any,Any}(\"regent\",0.153538)  \n",
       " Pair{Any,Any}(\"consort\",0.15448)  \n",
       " Pair{Any,Any}(\"countess\",0.167066)"
      ]
     },
     "execution_count": 14,
     "metadata": {},
     "output_type": "execute_result"
    }
   ],
   "source": [
    "find_nearest_words(ee, \"queen-king+prince\")"
   ]
  },
  {
   "cell_type": "code",
   "execution_count": 15,
   "metadata": {
    "collapsed": false,
    "scrolled": true
   },
   "outputs": [
    {
     "data": {
      "text/plain": [
       "5-element Array{Pair{Any,Any},1}:\n",
       " Pair{Any,Any}(\"woman\",0.223674)    \n",
       " Pair{Any,Any}(\"boyfriend\",0.258852)\n",
       " Pair{Any,Any}(\"gentleman\",0.26585) \n",
       " Pair{Any,Any}(\"lovely\",0.276344)   \n",
       " Pair{Any,Any}(\"lady\",0.277376)     "
      ]
     },
     "execution_count": 15,
     "metadata": {},
     "output_type": "execute_result"
    }
   ],
   "source": [
    "find_nearest_words(ee, \"queen-king+man\")"
   ]
  },
  {
   "cell_type": "code",
   "execution_count": 16,
   "metadata": {
    "collapsed": false
   },
   "outputs": [
    {
     "data": {
      "text/plain": [
       "5-element Array{Pair{Any,Any},1}:\n",
       " Pair{Any,Any}(\"duchess\",0.102278)  \n",
       " Pair{Any,Any}(\"burgundy\",0.144457) \n",
       " Pair{Any,Any}(\"aquitaine\",0.144589)\n",
       " Pair{Any,Any}(\"anjou\",0.152684)    \n",
       " Pair{Any,Any}(\"prince\",0.179664)   "
      ]
     },
     "execution_count": 16,
     "metadata": {},
     "output_type": "execute_result"
    }
   ],
   "source": [
    "find_nearest_words(ee, \"queen-king+duke\")"
   ]
  },
  {
   "cell_type": "code",
   "execution_count": 17,
   "metadata": {
    "collapsed": false
   },
   "outputs": [
    {
     "data": {
      "text/plain": [
       "5-element Array{Pair{Any,Any},1}:\n",
       " Pair{Any,Any}(\"prince\",0.101697)  \n",
       " Pair{Any,Any}(\"elizabeth\",0.11417)\n",
       " Pair{Any,Any}(\"king\",0.139223)    \n",
       " Pair{Any,Any}(\"lord\",0.142927)    \n",
       " Pair{Any,Any}(\"princess\",0.149657)"
      ]
     },
     "execution_count": 17,
     "metadata": {},
     "output_type": "execute_result"
    }
   ],
   "source": [
    "find_nearest_words(ee, \"queen\")"
   ]
  },
  {
   "cell_type": "code",
   "execution_count": null,
   "metadata": {
    "collapsed": false
   },
   "outputs": [],
   "source": [
    "25*24*(26*26*26)"
   ]
  },
  {
   "cell_type": "code",
   "execution_count": null,
   "metadata": {
    "collapsed": true
   },
   "outputs": [],
   "source": []
  }
 ],
 "metadata": {
  "kernelspec": {
   "display_name": "Julia 0.5.0-dev",
   "language": "julia",
   "name": "julia-0.5"
  },
  "language_info": {
   "file_extension": ".jl",
   "mimetype": "application/julia",
   "name": "julia",
   "version": "0.5.0"
  }
 },
 "nbformat": 4,
 "nbformat_minor": 0
}
