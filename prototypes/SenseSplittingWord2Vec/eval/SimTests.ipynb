{
 "cells": [
  {
   "cell_type": "code",
   "execution_count": 3,
   "metadata": {
    "collapsed": false
   },
   "outputs": [
    {
     "name": "stderr",
     "output_type": "stream",
     "text": [
      "INFO: Recompiling stale cache file /home/ubuntu/.julia/lib/v0.5/Iterators.ji for module Iterators.\n",
      "WARNING: Method definition #warn(Array{Any, 1}, Base.#warn, Exception) in module Base overwritten in module Lumberjack.\n",
      "WARNING: Method definition error(AbstractString) in module Base at error.jl:21 overwritten in module Lumberjack at /home/ubuntu/.julia/v0.5/Lumberjack/src/lumbermill.jl:138.\n",
      "WARNING: Method definition error(Any...) in module Base at error.jl:22 overwritten in module Lumberjack at /home/ubuntu/.julia/v0.5/Lumberjack/src/lumbermill.jl:114.\n",
      "WARNING: Method definition warn(Exception) in module Base at util.jl:287 overwritten in module Lumberjack at /home/ubuntu/.julia/v0.5/Lumberjack/src/lumbermill.jl:99.\n",
      "WARNING: Base.ASCIIString is deprecated, use String instead.\n",
      "  likely near /mnt/phd/prototypes/SenseSplittingWord2Vec/src/WordDistributions.jl:2\n",
      "WARNING: Base.ASCIIString is deprecated, use String instead.\n",
      "  likely near /mnt/phd/prototypes/SenseSplittingWord2Vec/src/WordDistributions.jl:2\n",
      "WARNING: Base.ASCIIString is deprecated, use String instead.\n",
      "  likely near /mnt/phd/prototypes/SenseSplittingWord2Vec/src/WordDistributions.jl:2\n",
      "\n",
      "WARNING: deprecated syntax \"[a=>b for (a,b) in c]\".\n",
      "Use \"Dict(a=>b for (a,b) in c)\" instead.\n"
     ]
    }
   ],
   "source": [
    "using NearestNeighbors\n",
    "using WordEmbeddings, SoftmaxClassifier\n",
    "using Utils\n",
    "using Query\n",
    "using Base.Collections\n",
    "using WordStreams\n",
    "using DataStructures\n",
    "using Clustering\n",
    "using Distances\n",
    "using Iterators\n",
    "using StatsBase\n",
    "using Training"
   ]
  },
  {
   "cell_type": "code",
   "execution_count": null,
   "metadata": {
    "collapsed": false
   },
   "outputs": [],
   "source": [
    "ee = restore(\"models/ss/WestburyLab.wikicorp.201004_100__m70000000.model\");\n",
    "dtree,labels = nn_tree(ee)\n",
    "\"\""
   ]
  },
  {
   "cell_type": "code",
   "execution_count": 10,
   "metadata": {
    "collapsed": false,
    "scrolled": true
   },
   "outputs": [
    {
     "name": "stdout",
     "output_type": "stream",
     "text": [
      " 40.743184 seconds (136.65 M allocations: 3.976 GB, 34.01% gc time)\n"
     ]
    },
    {
     "data": {
      "text/plain": [
       "Array{Tuple{Tuple{String,Int64},Float32},1}[Tuple{Tuple{String,Int64},Float32}[((\"Australia\",1),0.0),((\"Jasco\",1),0.349752),((\"Kii-Tanabe\",1),0.350159),((\"Porsha\",1),0.352619),((\"Djwhal\",1),0.353735)],Tuple{Tuple{String,Int64},Float32}[((\"Australia\",2),0.000155425),((\"14,862\",1),0.350395),((\"rutty\",1),0.351318),((\"Nappster\",1),0.353773),((\"hypobromite\",1),0.353882)],Tuple{Tuple{String,Int64},Float32}[((\"Australia\",3),0.0),((\"classification\",12),0.354916),((\"awards\",17),0.355997),((\"Fredy\",1),0.357518),((\"Darnall\",1),0.358537)],Tuple{Tuple{String,Int64},Float32}[((\"Australia\",4),0.0),((\"3–0\",1),0.339689),((\"Sinsitro\",1),0.348005),((\"Au-Haidhausen\",1),0.348443),((\"monoembryonic\",1),0.354063)],Tuple{Tuple{String,Int64},Float32}[((\"Australia\",5),0.0),((\"NAHL\",1),0.347071),((\"mull\",1),0.354301),((\"UEML\",1),0.356421),((\"Jadiel\",1),0.357218)],Tuple{Tuple{String,Int64},Float32}[((\"Australia\",6),0.0),((\"Ushba\",1),0.356109),((\"Aborigine\",1),0.357822),((\"shot\",8),0.35835),((\"Taróczy\",1),0.361376)],Tuple{Tuple{String,Int64},Float32}[((\"Australia\",7),0.0),((\"bundle\",1),0.350389),((\"1709-1755\",1),0.354795),((\"Ruzsics\",1),0.355112),((\"Artsplosure\",1),0.355518)],Tuple{Tuple{String,Int64},Float32}[((\"Australia\",8),0.0),((\"2003–2008\",1),0.338343),((\"langued\",1),0.349226),((\"Fantomaya\",1),0.355504),((\"sporodochia\",1),0.355665)],Tuple{Tuple{String,Int64},Float32}[((\"Australia\",9),0.0),((\"Christian's\",1),0.333986),((\"Kollaboration\",1),0.334833),((\"cocinero\",1),0.348731),((\"Chotkovato\",1),0.350471)],Tuple{Tuple{String,Int64},Float32}[((\"Australia\",10),0.000155425),((\"Anglers\",1),0.349197),((\"Bignami\",1),0.354584),((\"1,089\",1),0.360684),((\"salt-tolerant\",1),0.360799)],Tuple{Tuple{String,Int64},Float32}[((\"Australia\",11),0.0),((\"Xanthopoulos\",1),0.339919),((\"CPK\",1),0.344673),((\"Pirjo\",1),0.346098),((\"Germicide\",1),0.351173)],Tuple{Tuple{String,Int64},Float32}[((\"Australia\",12),0.0),((\"4\\\"s\",1),0.348782),((\"douăzeci\",1),0.354158),((\"holidays\",1),0.356405),((\"WLKR-FM\",1),0.357851)],Tuple{Tuple{String,Int64},Float32}[((\"Australia\",13),0.000155425),((\"neoabolitionist\",1),0.337403),((\"death-bed\",1),0.349808),((\"anti-heresy\",1),0.353179),((\"Chatrian\",1),0.354466)],Tuple{Tuple{String,Int64},Float32}[((\"Australia\",14),0.0),((\"electron-ion\",1),0.351133),((\"Soviet–Japanese\",1),0.351583),((\"Ragip\",1),0.353476),((\"Elyon\",1),0.353641)],Tuple{Tuple{String,Int64},Float32}[((\"Australia\",15),0.0),((\"demasted\",1),0.34877),((\"BitStream\",1),0.349239),((\"Invertible\",1),0.351711),((\"1973–74\",1),0.35205)],Tuple{Tuple{String,Int64},Float32}[((\"Australia\",16),0.0),((\"p. 166\",1),0.340074),((\"seli\",1),0.349226),((\"DetroitBloggerJohn\",1),0.349791),((\"Edvan\",1),0.350131)],Tuple{Tuple{String,Int64},Float32}[((\"Australia\",17),0.0),((\"locura\",1),0.339155),((\"non-skating\",1),0.352548),((\"Correctional\",1),0.355891),((\"Greek-key\",1),0.357485)],Tuple{Tuple{String,Int64},Float32}[((\"Australia\",18),0.0),((\"Salam\",1),0.350268),((\"Dashiki\",1),0.352703),((\"multiple-emitter\",1),0.352858),((\"levels\",7),0.353908)],Tuple{Tuple{String,Int64},Float32}[((\"Australia\",19),0.0),((\"phoswich\",1),0.335255),((\"Margotti\",1),0.346941),((\"gonadotrophin\",1),0.348877),((\"Korwa\",1),0.350874)],Tuple{Tuple{String,Int64},Float32}[((\"Australia\",20),0.000155425),((\"CHRE-FM\",1),0.342494),((\"beti\",1),0.342613),((\"eighth\",14),0.344962),((\"self-cancelling\",1),0.356073)]]"
      ]
     },
     "execution_count": 10,
     "metadata": {},
     "output_type": "execute_result"
    }
   ],
   "source": [
    "@time find_nearest_words(ee,\"Australia\",dtree,labels )"
   ]
  },
  {
   "cell_type": "code",
   "execution_count": 35,
   "metadata": {
    "collapsed": false
   },
   "outputs": [
    {
     "name": "stdout",
     "output_type": "stream",
     "text": [
      "DataStructures.DefaultDict{String,DataStructures.DefaultDict{Int64,Int64,F},WordEmbeddings.##4#6}\n",
      "DataStructures.DefaultDict{Int64,Int64,WordEmbeddings.##5#7}\n"
     ]
    }
   ],
   "source": [
    "typeof(ee.trained_times) |> println\n",
    "typeof(ee.trained_times[\"so\"]) |> println\n",
    "\n"
   ]
  },
  {
   "cell_type": "code",
   "execution_count": 29,
   "metadata": {
    "collapsed": false
   },
   "outputs": [
    {
     "data": {
      "text/plain": [
       "Int64[]"
      ]
     },
     "execution_count": 29,
     "metadata": {},
     "output_type": "execute_result"
    },
    {
     "name": "stderr",
     "output_type": "stream",
     "text": [
      "WARNING: Base.writemime is deprecated.\n",
      "  likely near /home/ubuntu/.julia/v0.5/IJulia/src/kernel.jl:31\n",
      "WARNING: Base.writemime is deprecated.\n",
      "  likely near /home/ubuntu/.julia/v0.5/IJulia/src/kernel.jl:31\n",
      "WARNING: Base.writemime is deprecated.\n",
      "  likely near /home/ubuntu/.julia/v0.5/IJulia/src/kernel.jl:31\n",
      "WARNING: Base.writemime is deprecated.\n",
      "  likely near /home/ubuntu/.julia/v0.5/IJulia/src/kernel.jl:31\n",
      "WARNING: Base.writemime is deprecated.\n",
      "  likely near /home/ubuntu/.julia/v0.5/IJulia/src/kernel.jl:31\n",
      "in display_dict at /home/ubuntu/.julia/v0.5/IJulia/src/execute_request.jl\n",
      "WARNING: Base.writemime is deprecated.\n",
      "  likely near /home/ubuntu/.julia/v0.5/IJulia/src/kernel.jl:31\n",
      "in display_dict at /home/ubuntu/.julia/v0.5/IJulia/src/execute_request.jl\n",
      "WARNING: x.(i) is deprecated; use getfield(x, i) instead.\n",
      " in depwarn(::String, ::Symbol) at ./deprecated.jl:64\n",
      " in broadcast at ./deprecated.jl:400 [inlined]\n",
      " in length at /home/ubuntu/.julia/v0.5/DataStructures/src/delegate.jl:11 [inlined]\n",
      " in length at ./dict.jl:183 [inlined]\n",
      " in _similar_for at ./array.jl:207 [inlined]\n",
      " in _collect at ./array.jl:227 [inlined]\n",
      " in collect at ./array.jl:223 [inlined]\n",
      " in show(::Base.AbstractIOBuffer{Array{UInt8,1}}, ::Base.ValueIterator{DataStructures.DefaultDict{Int64,Int64,WordEmbeddings.##5#7}}) at ./dict.jl:152\n",
      " in show(::Base.AbstractIOBuffer{Array{UInt8,1}}, ::MIME{Symbol(\"text/plain\")}, ::Base.ValueIterator{DataStructures.DefaultDict{Int64,Int64,WordEmbeddings.##5#7}}) at ./replutil.jl:4\n",
      " in show(::Base.AbstractIOBuffer{Array{UInt8,1}}, ::String, ::Base.ValueIterator{DataStructures.DefaultDict{Int64,Int64,WordEmbeddings.##5#7}}) at ./multimedia.jl:43\n",
      " in #sprint#137(::Void, ::Function, ::Int64, ::Function, ::String, ::Vararg{Any,N}) at ./strings/io.jl:35\n",
      " in display_dict(::Base.ValueIterator{DataStructures.DefaultDict{Int64,Int64,WordEmbeddings.##5#7}}) at /home/ubuntu/.julia/v0.5/IJulia/src/execute_request.jl:26\n",
      " in execute_request_0x535c5df2(::ZMQ.Socket, ::IJulia.Msg) at /home/ubuntu/.julia/v0.5/IJulia/src/execute_request.jl:214\n",
      " in eventloop(::ZMQ.Socket) at /home/ubuntu/.julia/v0.5/IJulia/src/IJulia.jl:143\n",
      " in (::IJulia.##24#30)() at ./task.jl:315\n",
      "while loading /home/ubuntu/.julia/v0.5/IJulia/src/kernel.jl, in expression starting on line 31\n",
      "WARNING: x.(i) is deprecated; use getfield(x, i) instead.\n",
      " in depwarn(::String, ::Symbol) at ./deprecated.jl:64\n",
      " in broadcast at ./deprecated.jl:400 [inlined]\n",
      " in start at /home/ubuntu/.julia/v0.5/DataStructures/src/delegate.jl:11 [inlined]\n",
      " in start at ./dict.jl:190 [inlined]\n",
      " in copy!(::Array{Int64,1}, ::Base.ValueIterator{DataStructures.DefaultDict{Int64,Int64,WordEmbeddings.##5#7}}) at ./abstractarray.jl:414\n",
      " in show(::Base.AbstractIOBuffer{Array{UInt8,1}}, ::Base.ValueIterator{DataStructures.DefaultDict{Int64,Int64,WordEmbeddings.##5#7}}) at ./dict.jl:152\n",
      " in show(::Base.AbstractIOBuffer{Array{UInt8,1}}, ::MIME{Symbol(\"text/plain\")}, ::Base.ValueIterator{DataStructures.DefaultDict{Int64,Int64,WordEmbeddings.##5#7}}) at ./replutil.jl:4\n",
      " in show(::Base.AbstractIOBuffer{Array{UInt8,1}}, ::String, ::Base.ValueIterator{DataStructures.DefaultDict{Int64,Int64,WordEmbeddings.##5#7}}) at ./multimedia.jl:43\n",
      " in #sprint#137(::Void, ::Function, ::Int64, ::Function, ::String, ::Vararg{Any,N}) at ./strings/io.jl:35\n",
      " in display_dict(::Base.ValueIterator{DataStructures.DefaultDict{Int64,Int64,WordEmbeddings.##5#7}}) at /home/ubuntu/.julia/v0.5/IJulia/src/execute_request.jl:26\n",
      " in execute_request_0x535c5df2(::ZMQ.Socket, ::IJulia.Msg) at /home/ubuntu/.julia/v0.5/IJulia/src/execute_request.jl:214\n",
      " in eventloop(::ZMQ.Socket) at /home/ubuntu/.julia/v0.5/IJulia/src/IJulia.jl:143\n",
      " in (::IJulia.##24#30)() at ./task.jl:315\n",
      "while loading /home/ubuntu/.julia/v0.5/IJulia/src/kernel.jl, in expression starting on line 31\n"
     ]
    }
   ],
   "source": [
    "values(ee.trained_times) |> first |> values"
   ]
  },
  {
   "cell_type": "code",
   "execution_count": 38,
   "metadata": {
    "collapsed": false
   },
   "outputs": [
    {
     "data": {
      "text/plain": [
       "Int64[]"
      ]
     },
     "execution_count": 38,
     "metadata": {},
     "output_type": "execute_result"
    },
    {
     "name": "stderr",
     "output_type": "stream",
     "text": [
      "WARNING: Base.writemime is deprecated.\n",
      "  likely near /home/ubuntu/.julia/v0.5/IJulia/src/kernel.jl:31\n",
      "WARNING: Base.writemime is deprecated.\n",
      "  likely near /home/ubuntu/.julia/v0.5/IJulia/src/kernel.jl:31\n",
      "WARNING: Base.writemime is deprecated.\n",
      "  likely near /home/ubuntu/.julia/v0.5/IJulia/src/kernel.jl:31\n",
      "WARNING: Base.writemime is deprecated.\n",
      "  likely near /home/ubuntu/.julia/v0.5/IJulia/src/kernel.jl:31\n",
      "WARNING: Base.writemime is deprecated.\n",
      "  likely near /home/ubuntu/.julia/v0.5/IJulia/src/kernel.jl:31\n",
      "in display_dict at /home/ubuntu/.julia/v0.5/IJulia/src/execute_request.jl\n",
      "WARNING: Base.writemime is deprecated.\n",
      "  likely near /home/ubuntu/.julia/v0.5/IJulia/src/kernel.jl:31\n",
      "in display_dict at /home/ubuntu/.julia/v0.5/IJulia/src/execute_request.jl\n"
     ]
    }
   ],
   "source": [
    "collect(values(first(values(ee.trained_times))))"
   ]
  },
  {
   "cell_type": "code",
   "execution_count": 41,
   "metadata": {
    "collapsed": false
   },
   "outputs": [
    {
     "data": {
      "text/plain": [
       "0"
      ]
     },
     "execution_count": 41,
     "metadata": {},
     "output_type": "execute_result"
    }
   ],
   "source": [
    "trained_times = maximum([length(values(wtt)) for wtt in  values(ee.trained_times)]);\n",
    "trained_times"
   ]
  },
  {
   "cell_type": "code",
   "execution_count": 47,
   "metadata": {
    "collapsed": false
   },
   "outputs": [
    {
     "data": {
      "text/plain": [
       "5023"
      ]
     },
     "execution_count": 47,
     "metadata": {},
     "output_type": "execute_result"
    }
   ],
   "source": [
    "length(collect(filter(word->length(ee.embedding[word])>1,keys(ee.embedding))))"
   ]
  },
  {
   "cell_type": "code",
   "execution_count": 42,
   "metadata": {
    "collapsed": false
   },
   "outputs": [
    {
     "data": {
      "text/plain": [
       "1531453"
      ]
     },
     "execution_count": 42,
     "metadata": {},
     "output_type": "execute_result"
    }
   ],
   "source": [
    "length(ee.distribution)"
   ]
  },
  {
   "cell_type": "code",
   "execution_count": null,
   "metadata": {
    "collapsed": false,
    "scrolled": true
   },
   "outputs": [],
   "source": [
    "function load_wordsim353(filename=\"data/corpora/wordsim353/combined.csv\")\n",
    "    wordsims = readdlm(filename, ','; skipstart=1)\n",
    "    wordpairs = convert(Matrix{String},wordsims[:,1:2])\n",
    "    groundsim = convert(Vector{Float64},wordsims[:,3])\n",
    "    (wordpairs, groundsim)\n",
    "end"
   ]
  },
  {
   "cell_type": "code",
   "execution_count": null,
   "metadata": {
    "collapsed": false,
    "scrolled": true
   },
   "outputs": [],
   "source": [
    "function get_sims(ee::FixedWordSenseEmbedding, wordpairs::Matrix{String})\n",
    "    sims = Vector{Float64}(size(wordpairs,1))\n",
    "    for ii in 1:size(wordpairs,1)\n",
    "        try\n",
    "            wvs_1 = hcat(ee.embedding[wordpairs[ii,1]]...)\n",
    "            wvs_2 = hcat(ee.embedding[wordpairs[ii,2]]...)\n",
    "            sims[ii]=1-minimum(pairwise(CosineDist(), wvs_1,wvs_2))\n",
    "        catch ex\n",
    "            warn(ex)\n",
    "            sims[ii]=NaN\n",
    "        end\n",
    "    end\n",
    "    return sims\n",
    "end\n",
    "sims = get_sims(ee,map(lowercase,wordpairs))\n",
    "corspearman(groundsim,sims)"
   ]
  },
  {
   "cell_type": "code",
   "execution_count": null,
   "metadata": {
    "collapsed": false
   },
   "outputs": [],
   "source": []
  },
  {
   "cell_type": "code",
   "execution_count": null,
   "metadata": {
    "collapsed": false,
    "scrolled": true
   },
   "outputs": [],
   "source": [
    "function load_SCWS(filename = \"data/corpora/SCWS/ratings.txt\")\n",
    "    function get_context2(fulltext)\n",
    "        Task() do\n",
    "            skip_next = 0\n",
    "            for word in split(fulltext, ' ')\n",
    "                skip_next-=1\n",
    "                if word == \"<b>\"\n",
    "                    skip_next=3 \n",
    "                end\n",
    "                skip_next>0 && continue\n",
    "                produce(lowercase(word))\n",
    "            end\n",
    "        end |> collect\n",
    "    end\n",
    "    entries = readdlm(filename, '\\t', String; quotes=false, comments=false)\n",
    "    wordpairs = map(lowercase,entries[:,[2,4]])\n",
    "    groundsim = map(s->parse(Float64,s), entries[:,8])\n",
    "    contexts = map(get_context2,entries[:,[6,7]])\n",
    "    (wordpairs,contexts,groundsim,)\n",
    "end\n",
    "wordpairs,contexts,groundsim = load_SCWS();\n",
    "\"\""
   ]
  },
  {
   "cell_type": "code",
   "execution_count": null,
   "metadata": {
    "collapsed": false
   },
   "outputs": [],
   "source": [
    "function get_sims(ee::FixedWordSenseEmbedding, wordpairs::Matrix{String}, contexts::Matrix)\n",
    "    sims = Vector{Float64}(size(wordpairs,1))\n",
    "    for ii in 1:size(wordpairs,1)\n",
    "        try\n",
    "            \n",
    "            sense1 = Training.WSD(ee, wordpairs[ii,1],contexts[ii,1];skip_oov=true)\n",
    "            wv1 = ee.embedding[wordpairs[ii,1]][sense1]\n",
    "            \n",
    "            sense2 = Training.WSD(ee, wordpairs[ii,2],contexts[ii,2];skip_oov=true)\n",
    "            wv2 = ee.embedding[wordpairs[ii,2]][sense2]\n",
    "            \n",
    "            sims[ii]=1-cosine_dist(wv1,wv2)\n",
    "        catch ex\n",
    "            if typeof(ex)==KeyError\n",
    "                warn(ex)\n",
    "                sims[ii]=NaN\n",
    "            else\n",
    "                rethrow(ex)\n",
    "            end\n",
    "        end\n",
    "    end\n",
    "    return sims\n",
    "end"
   ]
  },
  {
   "cell_type": "code",
   "execution_count": null,
   "metadata": {
    "collapsed": false
   },
   "outputs": [],
   "source": [
    "local_sims = get_sims(ee,wordpairs,contexts)"
   ]
  },
  {
   "cell_type": "code",
   "execution_count": null,
   "metadata": {
    "collapsed": false
   },
   "outputs": [],
   "source": [
    "corspearman(groundsim,local_sims)"
   ]
  },
  {
   "cell_type": "code",
   "execution_count": null,
   "metadata": {
    "collapsed": true
   },
   "outputs": [],
   "source": []
  }
 ],
 "metadata": {
  "kernelspec": {
   "display_name": "Julia 0.5.0-dev",
   "language": "julia",
   "name": "julia-0.5"
  },
  "language_info": {
   "file_extension": ".jl",
   "mimetype": "application/julia",
   "name": "julia",
   "version": "0.5.0"
  }
 },
 "nbformat": 4,
 "nbformat_minor": 0
}
