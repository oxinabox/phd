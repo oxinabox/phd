{
 "cells": [
  {
   "cell_type": "code",
   "execution_count": 1,
   "metadata": {
    "collapsed": false
   },
   "outputs": [],
   "source": [
    "using WordEmbeddings, SoftmaxClassifier\n",
    "using ProgressMeter\n",
    "using Utils\n",
    "using Query\n",
    "using WordStreams\n",
    "using Distances\n",
    "using StatsBase\n",
    "using Training\n",
    "using AdaGramCompat\n",
    "using CorpusLoaders\n",
    "using SwiftObjectStores\n",
    "using JLD\n",
    "\n",
    "using SenseAlignment"
   ]
  },
  {
   "cell_type": "code",
   "execution_count": null,
   "metadata": {
    "collapsed": false
   },
   "outputs": [],
   "source": [
    "SwiftObjectStores.list(SwiftService(), \"sensemodels\")"
   ]
  },
  {
   "cell_type": "code",
   "execution_count": 45,
   "metadata": {
    "collapsed": false
   },
   "outputs": [],
   "source": [
    "ee = load(\"models/ss/tokenised_lowercase_WestburyLab.wikicorp.201004_300_i1.jld\",\"ee\");\n",
    "#eep = get_jld(SwiftService(), \"sensemodels/plain/\", \"tokenised_lowercase_WestburyLab.wikicorp.201004_100_nosubsample.jld\", \"ee\");\n",
    "#ee = get_jld(SwiftService(), \"sensemodels\", \"plain/tokenised_lowercase_WestburyLab.wikicorp.201004_100_nosubsample.semhuff.jld\", \"ee\");"
   ]
  },
  {
   "cell_type": "code",
   "execution_count": 48,
   "metadata": {
    "collapsed": false
   },
   "outputs": [
    {
     "data": {
      "text/plain": [
       "20000"
      ]
     },
     "execution_count": 48,
     "metadata": {},
     "output_type": "execute_result"
    }
   ],
   "source": [
    "ee.min_count_for_multiple_senses"
   ]
  },
  {
   "cell_type": "code",
   "execution_count": 2,
   "metadata": {
    "collapsed": false
   },
   "outputs": [],
   "source": [
    "using AdaGram\n",
    "using AdaGramCompat\n"
   ]
  },
  {
   "cell_type": "code",
   "execution_count": 3,
   "metadata": {
    "collapsed": false
   },
   "outputs": [],
   "source": [
    "am = load(\"models/adagram/more_senses.adagram_model.jld\", \"am\");"
   ]
  },
  {
   "cell_type": "code",
   "execution_count": null,
   "metadata": {
    "collapsed": false
   },
   "outputs": [],
   "source": [
    ";source \"~/openrc.sh\""
   ]
  },
  {
   "cell_type": "code",
   "execution_count": null,
   "metadata": {
    "collapsed": false
   },
   "outputs": [],
   "source": [
    "am.dict.id2word |> length"
   ]
  },
  {
   "cell_type": "code",
   "execution_count": null,
   "metadata": {
    "collapsed": false
   },
   "outputs": [],
   "source": [
    "s_am = get_jld(SwiftService(), \"sensemodels\", \"adagram/semhuff_more_senses.adagram_model.jld\", \"am\");"
   ]
  },
  {
   "cell_type": "code",
   "execution_count": null,
   "metadata": {
    "collapsed": false,
    "scrolled": true
   },
   "outputs": [],
   "source": [
    "function get_sims(ee, wordpairs::Matrix{String})\n",
    "    sims = Vector{Float64}(size(wordpairs,1))\n",
    "    for ii in 1:size(wordpairs,1)\n",
    "        try\n",
    "            wvs_1::Matrix{Float32} = hcat(all_word_sense_vectors(ee,wordpairs[ii,1],\"\")...)\n",
    "            wvs_2::Matrix{Float32} = hcat(all_word_sense_vectors(ee,wordpairs[ii,2],\"\")...)\n",
    "            sims[ii]=1-minimum(pairwise(CosineDist(), wvs_1,wvs_2))\n",
    "        catch ex\n",
    "            warn(ex)\n",
    "            sims[ii]=NaN\n",
    "        end\n",
    "    end\n",
    "    return sims\n",
    "end\n"
   ]
  },
  {
   "cell_type": "code",
   "execution_count": null,
   "metadata": {
    "collapsed": false
   },
   "outputs": [],
   "source": [
    "wordpairs, groundsim = load_wordsim353(\"./data/corpora/wordsim353/combined.csv\");\n",
    "wordpairs=lowercase.(wordpairs)\n",
    "\n",
    "@show corspearman(groundsim,get_sims(ee,wordpairs))\n",
    "@show corspearman(groundsim,get_sims(am,wordpairs))\n",
    "@show corspearman(groundsim,get_sims(s_am,wordpairs));"
   ]
  },
  {
   "cell_type": "markdown",
   "metadata": {
    "collapsed": false,
    "scrolled": true
   },
   "source": [
    " - corspearman(groundsim,get_sims(ee,wordpairs)) = 0.5937382029721738, plain/tokenised_lowercase_WestburyLab.wikicorp.201004_100_nosubsample.semhuff.jld\n",
    "\n",
    "\n"
   ]
  },
  {
   "cell_type": "code",
   "execution_count": 5,
   "metadata": {
    "collapsed": false
   },
   "outputs": [
    {
     "data": {
      "text/plain": [
       "Test Passed\n",
       "  Expression: window_context(5,split(\"1 2 3 4 6 7 8\"),typemax(Int)) == split(\"1 2 3 4 6 7 8\")\n",
       "   Evaluated: SubString{String}[\"1\",\"2\",\"3\",\"4\",\"6\",\"7\",\"8\"] == SubString{String}[\"1\",\"2\",\"3\",\"4\",\"6\",\"7\",\"8\"]"
      ]
     },
     "execution_count": 5,
     "metadata": {},
     "output_type": "execute_result"
    }
   ],
   "source": [
    "function window_context(index::Integer, context::Vector, window_size::Integer)\n",
    "    window_lower_bound = max(index - window_size÷2, 1)\n",
    "    window_upper_bound = min(index + window_size÷2 -1 , length(context))\n",
    "    view(context, window_lower_bound:window_upper_bound)\n",
    "end\n",
    "Base.Test.@test window_context(5, split(\"1 2 3 4 6 7 8\"), 2) == [\"4\", \"6\"]\n",
    "Base.Test.@test window_context(5, split(\"1 2 3 4 6 7 8\"), 4) == [\"3\" , \"4\", \"6\", \"7\"]\n",
    "Base.Test.@test window_context(2, split(\"1 3 4 5\"), 4) == [\"1\",\"3\",\"4\"]\n",
    "Base.Test.@test window_context(4, split(\"1 2 3 5\"), 4) == [\"2\",\"3\",\"5\"]\n",
    "Base.Test.@test window_context(5, split(\"1 2 3 4 6 7 8\"), typemax(Int)) == split(\"1 2 3 4 6 7 8\")"
   ]
  },
  {
   "cell_type": "code",
   "execution_count": 6,
   "metadata": {
    "collapsed": false
   },
   "outputs": [],
   "source": [
    "(scws_wordpairs, scws_groundsim, scws_contexts, scws_indexes) = CorpusLoaders.load_scws(\"./data/corpora/SCWS/ratings.txt\");\n",
    "\n",
    "scws_lc_contexts = map(x->lowercase.(x), scws_contexts)\n",
    "\n",
    "scws_windowed_contexts = ((iis, cont) -> window_context(iis, cont, 10)).(scws_indexes, scws_contexts);\n",
    "scws_lc_windowed_contexts = map(x->lowercase.(x), scws_windowed_contexts);\n",
    "\n",
    "scws_lc_wordpairs = lowercase.(scws_wordpairs);\n"
   ]
  },
  {
   "cell_type": "code",
   "execution_count": null,
   "metadata": {
    "collapsed": false,
    "scrolled": true
   },
   "outputs": [],
   "source": [
    "function get_sims(ee, wordpairs::Matrix{String}, contexts::Matrix)\n",
    "    sims = Vector{Float64}(size(wordpairs,1))\n",
    "    for ii in 1:size(wordpairs,1)\n",
    "        try \n",
    "            sense1 = WSD(ee, wordpairs[ii,1],contexts[ii,1];skip_oov=true)\n",
    "            wv1 = ee.embedding[wordpairs[ii,1]][sense1]\n",
    "            \n",
    "            sense2 = WSD(ee, wordpairs[ii,2],contexts[ii,2];skip_oov=true)\n",
    "            wv2 = ee.embedding[wordpairs[ii,2]][sense2]\n",
    "            \n",
    "            sims[ii]=1-cosine_dist(wv1,wv2)\n",
    "        catch ex\n",
    "            if typeof(ex)==KeyError\n",
    "                warn(ex)\n",
    "                sims[ii]=NaN\n",
    "            else\n",
    "                rethrow(ex)\n",
    "            end\n",
    "        end\n",
    "    end\n",
    "    return sims\n",
    "end\n"
   ]
  },
  {
   "cell_type": "code",
   "execution_count": null,
   "metadata": {
    "collapsed": false
   },
   "outputs": [],
   "source": [
    "\n",
    "#local_sims = get_sims(ee, scws_wordpairs, scws_contexts)\n",
    "#corspearman(scws_groundsim, scws_local_sims)\n",
    "\n",
    "\n",
    "global_syms = get_sims(am, scws_wordpairs)\n",
    "corspearman(scws_groundsim, global_syms)\n"
   ]
  },
  {
   "cell_type": "code",
   "execution_count": null,
   "metadata": {
    "collapsed": false
   },
   "outputs": [],
   "source": [
    "global_syms = get_sims(ee, scws_wordpairs)\n",
    "corspearman(scws_groundsim, global_syms)"
   ]
  },
  {
   "cell_type": "code",
   "execution_count": null,
   "metadata": {
    "collapsed": false
   },
   "outputs": [],
   "source": [
    "reload(\"SenseAlignment\")"
   ]
  },
  {
   "cell_type": "code",
   "execution_count": 34,
   "metadata": {
    "collapsed": false
   },
   "outputs": [
    {
     "data": {
      "text/plain": [
       "get_avgsimc (generic function with 1 method)"
      ]
     },
     "execution_count": 34,
     "metadata": {},
     "output_type": "execute_result"
    }
   ],
   "source": [
    "function get_avgsimc(ee, wordpairs::Matrix{String}, contexts::Matrix;\n",
    "    normalise_over_context_length::Bool=true,\n",
    "    normalize_over_prior::Bool=false,\n",
    "    use_prior::Bool= false\n",
    "    )\n",
    "    sims = Vector{Float64}(size(wordpairs,1))\n",
    "    npairs = size(wordpairs,1)\n",
    "\n",
    "    @showprogress for ii in 1:npairs\n",
    "        try \n",
    "            wvs1 = all_word_sense_vectors(ee,wordpairs[ii,1],\"\")\n",
    "            wvs2 = all_word_sense_vectors(ee,wordpairs[ii,2],\"\")\n",
    "\n",
    "            if use_prior\n",
    "                priors1 = all_word_sense_priors(ee, wordpairs[ii,1],\"\")\n",
    "                priors2 = all_word_sense_priors(ee, wordpairs[ii,2],\"\")\n",
    "            else\n",
    "                priors1 = ones(Float32,length(wvs1))\n",
    "                priors2 = ones(Float32,length(wvs2))\n",
    "            end\n",
    "            \n",
    "            probs1 = general_wsd(ee, contexts[ii,1], wvs1, priors1;\n",
    "                    normalise_over_context_length=normalise_over_context_length,\n",
    "                    normalize_over_prior=normalize_over_prior)\n",
    "            probs2 = general_wsd(ee, contexts[ii,2], wvs2, priors2;\n",
    "                    normalise_over_context_length=normalise_over_context_length,\n",
    "                    normalize_over_prior=normalize_over_prior)            \n",
    "            \n",
    "            score::Float64 = 0.0\n",
    "            for (wv1,p1) in zip(wvs1, probs1)\n",
    "                for (wv2,p2) in zip(wvs2, probs2)\n",
    "                    d=1-cosine_dist(wv1,wv2)\n",
    "                    score+=p1*p2*d\n",
    "                end\n",
    "            end\n",
    "            sims[ii] = score/(length(wvs1)*length(wvs2))\n",
    "        catch ex\n",
    "            if typeof(ex) ∈ (KeyError, Query.NoContextError)   \n",
    "                println(ex)\n",
    "                sims[ii]=NaN\n",
    "            else\n",
    "                rethrow(ex)\n",
    "            end\n",
    "        end\n",
    "    end\n",
    "    return sims\n",
    "end"
   ]
  },
  {
   "cell_type": "code",
   "execution_count": 50,
   "metadata": {
    "collapsed": false
   },
   "outputs": [
    {
     "name": "stdout",
     "output_type": "stream",
     "text": [
      "KeyError(\" SubString{String}[\\\"aglow\\\"], nor SubString{String}[\\\"\\\"] have embeddings\")\n",
      "Progress:   6%|██                                       |  ETA: 0:00:07KeyError(\" SubString{String}[\\\"insufflate\\\"], nor SubString{String}[\\\"\\\"] have embeddings\")\n",
      "Progress:  23%|█████████                                |  ETA: 0:00:05KeyError(\" SubString{String}[\\\"anorgasmia\\\"], nor SubString{String}[\\\"\\\"] have embeddings\")\n",
      "Progress:  26%|███████████                              |  ETA: 0:00:04KeyError(\" SubString{String}[\\\"backdate\\\"], nor SubString{String}[\\\"\\\"] have embeddings\")\n",
      "Progress:  28%|████████████                             |  ETA: 0:00:04KeyError(\" SubString{String}[\\\"notarize\\\"], nor SubString{String}[\\\"\\\"] have embeddings\")\n",
      "Progress:  41%|█████████████████                        |  ETA: 0:00:04KeyError(\" SubString{String}[\\\"unblock\\\"], nor SubString{String}[\\\"\\\"] have embeddings\")\n",
      "Progress:  48%|████████████████████                     |  ETA: 0:00:03KeyError(\" SubString{String}[\\\"escapologist\\\"], nor SubString{String}[\\\"\\\"] have embeddings\")\n",
      "Progress:  50%|█████████████████████                    |  ETA: 0:00:03KeyError(\" SubString{String}[\\\"tombac\\\"], nor SubString{String}[\\\"\\\"] have embeddings\")\n",
      "KeyError(\" SubString{String}[\\\"nutriment\\\"], nor SubString{String}[\\\"\\\"] have embeddings\")\n",
      "Progress:  66%|███████████████████████████              |  ETA: 0:00:02KeyError(\" SubString{String}[\\\"bated\\\"], nor SubString{String}[\\\"\\\"] have embeddings\")\n",
      "Progress:  71%|█████████████████████████████            |  ETA: 0:00:02KeyError(\" SubString{String}[\\\"cosmographer\\\"], nor SubString{String}[\\\"\\\"] have embeddings\")\n",
      "Progress:  72%|██████████████████████████████           |  ETA: 0:00:02KeyError(\" SubString{String}[\\\"exudation\\\"], nor SubString{String}[\\\"\\\"] have embeddings\")\n",
      "Progress:  93%|██████████████████████████████████████   |  ETA: 0:00:00KeyError(\" SubString{String}[\\\"relearn\\\"], nor SubString{String}[\\\"\\\"] have embeddings\")\n",
      "KeyError(\" SubString{String}[\\\"nonprofessional\\\"], nor SubString{String}[\\\"\\\"] have embeddings\")\n",
      "Progress:  97%|████████████████████████████████████████ |  ETA: 0:00:00KeyError(\" SubString{String}[\\\"solemnize\\\"], nor SubString{String}[\\\"\\\"] have embeddings\")\n",
      "Progress: 100%|█████████████████████████████████████████| Time: 0:00:06\n"
     ]
    },
    {
     "data": {
      "text/plain": [
       "0.2222284819895264"
      ]
     },
     "execution_count": 50,
     "metadata": {},
     "output_type": "execute_result"
    }
   ],
   "source": [
    "corspearman(scws_groundsim, \n",
    "get_avgsimc(ee, scws_lc_wordpairs, scws_lc_windowed_contexts,\n",
    "normalise_over_context_length=false,\n",
    "normalize_over_prior=false,\n",
    "use_prior=false\n",
    "))\n",
    "\n",
    "#0.5384240259867389 , y, T, T, T \n",
    "#0.43769265913061245, y, F, F, T\n",
    "#0.621756103323598,   y, T, F, T\n",
    "#0.2068642930654968,  y, F, F, F\n",
    "#0.36071308488088993, y, T, F, F"
   ]
  },
  {
   "cell_type": "code",
   "execution_count": 26,
   "metadata": {
    "collapsed": false
   },
   "outputs": [
    {
     "data": {
      "text/plain": [
       "get_sims_synth (generic function with 1 method)"
      ]
     },
     "execution_count": 26,
     "metadata": {},
     "output_type": "execute_result"
    }
   ],
   "source": [
    "function get_sims_synth(ee, wordpairs::Matrix{String}, contexts::Matrix;\n",
    "         normalise_over_context_length::Bool=true,\n",
    "         normalize_over_prior::Bool=false,\n",
    "         use_prior::Bool= false\n",
    "    )\n",
    "    @show use_prior\n",
    "    sims = Vector{Float64}(size(wordpairs,1))\n",
    "    npairs = size(wordpairs,1)\n",
    "\n",
    "    @showprogress for ii in 1:npairs\n",
    "        try \n",
    "            wv1::Vector{Float32} = SenseAlignment.synthesize_embedding(\n",
    "                    ee, contexts[ii,1],wordpairs[ii,1],\"\",\n",
    "                    normalise_over_context_length=normalise_over_context_length,\n",
    "                    normalize_over_prior=normalize_over_prior,\n",
    "                    use_prior=use_prior\n",
    "            )\n",
    "            \n",
    "            wv2::Vector{Float32} = SenseAlignment.synthesize_embedding(\n",
    "                    ee, contexts[ii,2],wordpairs[ii,2],\"\";\n",
    "                    normalise_over_context_length=normalise_over_context_length,\n",
    "                    normalize_over_prior=normalize_over_prior,\n",
    "                    use_prior=use_prior)\n",
    "             \n",
    "            sims[ii]=1-cosine_dist(wv1,wv2)\n",
    "        catch ex\n",
    "            if typeof(ex) ∈ (KeyError, Query.NoContextError)   \n",
    "                println(ex)\n",
    "                sims[ii]=NaN\n",
    "            else\n",
    "                rethrow(ex)\n",
    "            end\n",
    "        end\n",
    "    end\n",
    "    return sims\n",
    "end"
   ]
  },
  {
   "cell_type": "code",
   "execution_count": 52,
   "metadata": {
    "collapsed": false,
    "scrolled": true
   },
   "outputs": [
    {
     "name": "stdout",
     "output_type": "stream",
     "text": [
      "use_prior = false\n",
      "KeyError(\" SubString{String}[\\\"aglow\\\"], nor SubString{String}[\\\"\\\"] have embeddings\")\n",
      "Progress:   7%|███                                      |  ETA: 0:00:04KeyError(\" SubString{String}[\\\"insufflate\\\"], nor SubString{String}[\\\"\\\"] have embeddings\")\n",
      "Progress:  22%|█████████                                |  ETA: 0:00:03KeyError(\" SubString{String}[\\\"anorgasmia\\\"], nor SubString{String}[\\\"\\\"] have embeddings\")\n",
      "Progress:  27%|███████████                              |  ETA: 0:00:03KeyError(\" SubString{String}[\\\"backdate\\\"], nor SubString{String}[\\\"\\\"] have embeddings\")\n",
      "Progress:  29%|████████████                             |  ETA: 0:00:03KeyError(\" SubString{String}[\\\"notarize\\\"], nor SubString{String}[\\\"\\\"] have embeddings\")\n",
      "Progress:  41%|█████████████████                        |  ETA: 0:00:03KeyError(\" SubString{String}[\\\"unblock\\\"], nor SubString{String}[\\\"\\\"] have embeddings\")\n",
      "Progress:  47%|███████████████████                      |  ETA: 0:00:02KeyError(\" SubString{String}[\\\"escapologist\\\"], nor SubString{String}[\\\"\\\"] have embeddings\")\n",
      "Progress:  49%|████████████████████                     |  ETA: 0:00:02KeyError(\" SubString{String}[\\\"tombac\\\"], nor SubString{String}[\\\"\\\"] have embeddings\")\n",
      "Progress:  51%|█████████████████████                    |  ETA: 0:00:02KeyError(\" SubString{String}[\\\"nutriment\\\"], nor SubString{String}[\\\"\\\"] have embeddings\")\n",
      "Progress:  66%|███████████████████████████              |  ETA: 0:00:01KeyError(\" SubString{String}[\\\"bated\\\"], nor SubString{String}[\\\"\\\"] have embeddings\")\n",
      "Progress:  71%|█████████████████████████████            |  ETA: 0:00:01KeyError(\" SubString{String}[\\\"cosmographer\\\"], nor SubString{String}[\\\"\\\"] have embeddings\")\n",
      "KeyError(\" SubString{String}[\\\"exudation\\\"], nor SubString{String}[\\\"\\\"] have embeddings\")\n",
      "Progress:  91%|█████████████████████████████████████    |  ETA: 0:00:00KeyError(\" SubString{String}[\\\"relearn\\\"], nor SubString{String}[\\\"\\\"] have embeddings\")\n",
      "KeyError(\" SubString{String}[\\\"nonprofessional\\\"], nor SubString{String}[\\\"\\\"] have embeddings\")\n",
      "Progress:  97%|████████████████████████████████████████ |  ETA: 0:00:00KeyError(\" SubString{String}[\\\"solemnize\\\"], nor SubString{String}[\\\"\\\"] have embeddings\")\n",
      "Progress: 100%|█████████████████████████████████████████| Time: 0:00:04\n"
     ]
    },
    {
     "data": {
      "text/plain": [
       "0.4970381410606407"
      ]
     },
     "execution_count": 52,
     "metadata": {},
     "output_type": "execute_result"
    }
   ],
   "source": [
    "corspearman(scws_groundsim, \n",
    "get_sims_synth(ee, scws_lc_wordpairs, scws_lc_windowed_contexts,\n",
    "normalise_over_context_length=true,\n",
    "normalize_over_prior=false,\n",
    "use_prior=false\n",
    "))\n",
    "\n",
    "#0.6502712538816777 y T F F\n",
    "#0.6168084978881819 y T F T\n",
    "#0.4783287943879286 y F F T\n",
    "#0.6475371134215654 y T T T"
   ]
  },
  {
   "cell_type": "code",
   "execution_count": null,
   "metadata": {
    "collapsed": false
   },
   "outputs": [],
   "source": [
    "avgsimc_am_lc_windows_nosmooth = \n",
    "get_avgsimc(ee, scws_lc_wordpairs, scws_lc_windowed_contexts, false)\n",
    "corspearman(scws_groundsim, avgsimc_am_lc_windows_nosmooth)"
   ]
  },
  {
   "cell_type": "code",
   "execution_count": null,
   "metadata": {
    "collapsed": false
   },
   "outputs": [],
   "source": [
    "am.dimension"
   ]
  },
  {
   "cell_type": "code",
   "execution_count": null,
   "metadata": {
    "collapsed": false
   },
   "outputs": [],
   "source": [
    "avgsimc_am_lc_windows_geosmooth = get_avgsimc(am, scws_lc_wordpairs, scws_lc_windowed_contexts, true)\n",
    "corspearman(scws_groundsim, avgsimc_am_lc_windows_geosmooth)"
   ]
  },
  {
   "cell_type": "code",
   "execution_count": null,
   "metadata": {
    "collapsed": false
   },
   "outputs": [],
   "source": [
    "corspearman(scws_groundsim, \n",
    "get_sims_synth(am, scws_lc_wordpairs, scws_lc_windowed_contexts, true))\n",
    "#0.650271346861422 Adagram"
   ]
  },
  {
   "cell_type": "code",
   "execution_count": null,
   "metadata": {
    "collapsed": false
   },
   "outputs": [],
   "source": [
    "corspearman(scws_groundsim, \n",
    "get_avgsimc(ee, scws_lc_wordpairs, scws_lc_contexts, true))"
   ]
  },
  {
   "cell_type": "code",
   "execution_count": null,
   "metadata": {
    "collapsed": false
   },
   "outputs": [],
   "source": [
    "corspearman(scws_groundsim, \n",
    "get_avgsimc(ee, scws_lc_wordpairs, scws_lc_contexts, false))\n",
    "#0.42377281027185104"
   ]
  },
  {
   "cell_type": "code",
   "execution_count": null,
   "metadata": {
    "collapsed": false
   },
   "outputs": [],
   "source": [
    "corspearman(scws_groundsim, \n",
    "get_sims_synth(am, scws_lc_wordpairs, scws_lc_contexts, true))\n",
    "#0.6452188028304504"
   ]
  },
  {
   "cell_type": "code",
   "execution_count": null,
   "metadata": {
    "collapsed": false
   },
   "outputs": [],
   "source": []
  },
  {
   "cell_type": "code",
   "execution_count": null,
   "metadata": {
    "collapsed": false
   },
   "outputs": [],
   "source": [
    "function get_priored_synthsim(ee, wordpairs::Matrix{String},\n",
    "                                contexts::Matrix)\n",
    "    sims = Vector{Float64}(size(wordpairs,1))\n",
    "    npairs = size(wordpairs,1)\n",
    "\n",
    "    @showprogress for ii in 1:npairs\n",
    "        try \n",
    "            wvs1::Vector{Vector{Float32}} = all_word_sense_vectors(ee,wordpairs[ii,1],\"\")\n",
    "            \n",
    "            wvs2 = all_word_sense_vectors(ee,wordpairs[ii,2],\"\")\n",
    "            prior1 = expected_pi(am.vm,am.dict.word2id[wordpairs[ii,1]])\n",
    "            prior2 = expected_pi(am.vm,am.dict.word2id[wordpairs[ii,2]])\n",
    "            \n",
    "            \n",
    "            probs1 = general_wsd(ee, contexts[ii,1], wvs1, prior1;\n",
    "            normalise_over_context_length=false)\n",
    "            probs2 = general_wsd(ee, contexts[ii,2], wvs2, prior2;\n",
    "            normalise_over_context_length=false)\n",
    "            \n",
    "            context_length1=sum(haskey(am.dict.word2id,x) for x in contexts[ii,1])\n",
    "            context_length2=sum(haskey(am.dict.word2id,x) for x in contexts[ii,2])\n",
    "                    \n",
    "            lprobs1 = log.(probs1)./context_length1\n",
    "            lprobs2 = log.(probs2)./context_length2\n",
    "            loffset1 = maximum(lprobs1) #Offset for stability\n",
    "            loffset2 = maximum(lprobs2) #Offset for stability\n",
    "            @assert(isfinite(loffset1), loffset1)\n",
    "            @assert(loffset1<=0.0, loffset1)\n",
    "            @assert(isfinite(loffset1), loffset1)\n",
    "            @assert(loffset1<=0.0, loffset1)\n",
    "            \n",
    "            score::Float64 = 0.0\n",
    "            final_wv1=exp(loffset1).*sum((exp.(lprobs1.-loffset1)) .* wvs1 ) \n",
    "            final_wv2=exp(loffset2).*sum((exp.(lprobs2.-loffset2)) .* wvs2 )\n",
    "            \n",
    "            sims[ii] = 1-cosine_dist(final_wv1, final_wv2)\n",
    "        catch ex\n",
    "            if typeof(ex) ∈ (KeyError, Query.NoContextError)   \n",
    "                println(ex)\n",
    "                sims[ii]=NaN\n",
    "            else\n",
    "                rethrow(ex)\n",
    "            end\n",
    "        end\n",
    "    end\n",
    "    return sims\n",
    "end"
   ]
  },
  {
   "cell_type": "code",
   "execution_count": null,
   "metadata": {
    "collapsed": false
   },
   "outputs": [],
   "source": [
    "corspearman(scws_groundsim, \n",
    "get_priored_synthsim(am, scws_lc_wordpairs, scws_lc_windowed_contexts))\n"
   ]
  },
  {
   "cell_type": "code",
   "execution_count": null,
   "metadata": {
    "collapsed": true
   },
   "outputs": [],
   "source": []
  },
  {
   "cell_type": "code",
   "execution_count": null,
   "metadata": {
    "collapsed": false
   },
   "outputs": [],
   "source": [
    "function get_noised_synthsim(ee, wordpairs::Matrix{String}, contexts::Matrix, extendby::Integer, normalise_over_context_lengths::Bool=true)\n",
    "    sims = Vector{Float64}(size(wordpairs,1))\n",
    "    npairs = size(wordpairs,1)\n",
    "\n",
    "    @showprogress for ii in 1:npairs\n",
    "        try \n",
    "            wvs1::Vector{Vector{Float32}} = all_word_sense_vectors(ee,wordpairs[ii,1],\"\")\n",
    "            len = length(first(wvs1))\n",
    "            var1 = var(hcat(wvs1...))\n",
    "            wvs1 = [wvs1;[randn(Float32, len).*3*var1+wv \n",
    "                          for wv in wvs1 for _ in 1:extendby]]\n",
    "            \n",
    "            wvs2 = all_word_sense_vectors(ee,wordpairs[ii,2],\"\")\n",
    "            var2 = var(hcat(wvs2...))\n",
    "            wvs2 = [wvs2;[randn(Float32, len).*3*var2+wv\n",
    "                          for wv in wvs2 for _ in 1:extendby]]\n",
    "            \n",
    "            probs1 = general_wsd(ee, contexts[ii,1], wvs1;\n",
    "                    normalise_over_context_length=normalise_over_context_lengths)\n",
    "            probs2 = general_wsd(ee, contexts[ii,2], wvs2;\n",
    "                    normalise_over_context_length=normalise_over_context_lengths)\n",
    "            \n",
    "            \n",
    "            \n",
    "            lprobs1 = log.(probs1)\n",
    "            lprobs2 = log.(probs2)\n",
    "            loffset1 = maximum(lprobs1) #Offset for stability\n",
    "            loffset2 = maximum(lprobs2) #Offset for stability\n",
    "            @assert(isfinite(loffset1), loffset1)\n",
    "            @assert(loffset1<=0.0, loffset1)\n",
    "            @assert(isfinite(loffset1), loffset1)\n",
    "            @assert(loffset1<=0.0, loffset1)\n",
    "            \n",
    "            score::Float64 = 0.0\n",
    "            final_wv1=exp(loffset1).*sum((exp.(lprobs1.-loffset1)) .* wvs1 ) \n",
    "            final_wv2=exp(loffset2).*sum((exp.(lprobs2.-loffset2)) .* wvs2 )\n",
    "            \n",
    "            sims[ii] = 1-cosine_dist(final_wv1, final_wv2)\n",
    "        catch ex\n",
    "            if typeof(ex) ∈ (KeyError, Query.NoContextError)   \n",
    "                println(ex)\n",
    "                sims[ii]=NaN\n",
    "            else\n",
    "                rethrow(ex)\n",
    "            end\n",
    "        end\n",
    "    end\n",
    "    return sims\n",
    "end"
   ]
  },
  {
   "cell_type": "code",
   "execution_count": null,
   "metadata": {
    "collapsed": false
   },
   "outputs": [],
   "source": [
    "corspearman(scws_groundsim, \n",
    "get_noised_synthsim(am, scws_lc_wordpairs, scws_lc_windowed_contexts, 3, true))\n"
   ]
  },
  {
   "cell_type": "code",
   "execution_count": null,
   "metadata": {
    "collapsed": false
   },
   "outputs": [],
   "source": []
  },
  {
   "cell_type": "code",
   "execution_count": null,
   "metadata": {
    "collapsed": false
   },
   "outputs": [],
   "source": [
    "var(hcat(all_word_sense_vectors(am,\"fire\",\"\")...),2) |> size"
   ]
  },
  {
   "cell_type": "code",
   "execution_count": null,
   "metadata": {
    "collapsed": false
   },
   "outputs": [],
   "source": [
    "function tt()\n",
    "    extendby=3\n",
    "    wvs1::Vector{Vector{Float32}} = all_word_sense_vectors(am,\"fire\",\"\")\n",
    "    len = length(first(wvs1))\n",
    "    wvs1 = [wvs1;[randn(Float32, len)*0.5+wv \n",
    "            for wv in wvs1 for _ in 1:extendby]]\n",
    "\n",
    "    @show length(wvs1)\n",
    "    @show length(wvs1|>first)\n",
    "    @show typeof(wvs1)\n",
    "end\n",
    "tt()"
   ]
  },
  {
   "cell_type": "code",
   "execution_count": null,
   "metadata": {
    "collapsed": false
   },
   "outputs": [],
   "source": [
    "end[a;((randn(length(a))+a for wv in a))]"
   ]
  },
  {
   "cell_type": "code",
   "execution_count": null,
   "metadata": {
    "collapsed": true
   },
   "outputs": [],
   "source": []
  },
  {
   "cell_type": "code",
   "execution_count": 79,
   "metadata": {
    "collapsed": false
   },
   "outputs": [
    {
     "data": {
      "text/plain": [
       "2-element Array{String,1}:\n",
       " \"advance\"\n",
       " \"headway\""
      ]
     },
     "metadata": {},
     "output_type": "display_data"
    },
    {
     "data": {
      "text/plain": [
       "5.28"
      ]
     },
     "metadata": {},
     "output_type": "display_data"
    },
    {
     "data": {
      "text/plain": [
       "2-element Array{String,1}:\n",
       " \"stone axes was a major because it allowed forest clearance\"   \n",
       " \"forces could make no further without resting and regrouping .\""
      ]
     },
     "execution_count": 79,
     "metadata": {},
     "output_type": "execute_result"
    }
   ],
   "source": [
    "ii=35\n",
    "scws_wordpairs[ii,:] |> display\n",
    "scws_groundsim[ii] |> display\n",
    "join.(scws_windowed_contexts[ii,:], [\" \"])"
   ]
  },
  {
   "cell_type": "code",
   "execution_count": 72,
   "metadata": {
    "collapsed": false
   },
   "outputs": [
    {
     "data": {
      "text/plain": [
       "2-element Array{String,1}:\n",
       " \"joking comment later that the RISC actually stood for \\\"\"\n",
       " \"\\\" for the stand alone . ) Many English translations\"    "
      ]
     },
     "execution_count": 72,
     "metadata": {},
     "output_type": "execute_result"
    }
   ],
   "source": []
  },
  {
   "cell_type": "code",
   "execution_count": null,
   "metadata": {
    "collapsed": false
   },
   "outputs": [],
   "source": []
  },
  {
   "cell_type": "code",
   "execution_count": null,
   "metadata": {
    "collapsed": true
   },
   "outputs": [],
   "source": []
  }
 ],
 "metadata": {
  "kernelspec": {
   "display_name": "Julia 0.5.0-rc0",
   "language": "julia",
   "name": "julia-0.5"
  },
  "language_info": {
   "file_extension": ".jl",
   "mimetype": "application/julia",
   "name": "julia",
   "version": "0.5.0"
  }
 },
 "nbformat": 4,
 "nbformat_minor": 0
}
