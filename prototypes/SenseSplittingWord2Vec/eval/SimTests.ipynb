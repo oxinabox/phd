{
 "cells": [
  {
   "cell_type": "code",
   "execution_count": 4,
   "metadata": {
    "collapsed": false
   },
   "outputs": [],
   "source": []
  },
  {
   "cell_type": "code",
   "execution_count": 5,
   "metadata": {
    "collapsed": false
   },
   "outputs": [],
   "source": [
    "using WordEmbeddings, SoftmaxClassifier\n",
    "using ProgressMeter\n",
    "using Utils\n",
    "using Query\n",
    "using WordStreams\n",
    "using Distances\n",
    "using StatsBase\n",
    "using Training\n",
    "using AdaGramCompat\n",
    "using CorpusLoaders.Similarity"
   ]
  },
  {
   "cell_type": "code",
   "execution_count": 6,
   "metadata": {
    "collapsed": false
   },
   "outputs": [
    {
     "data": {
      "text/plain": [
       "Dict{Pair{Any,Any},Pair{Any,Any}} with 1 entry:\n",
       "  Pair{Any,Any}(\"action\",\"list_container_part\") => Pair{Any,Any}(\"marker\",\"\")"
      ]
     },
     "execution_count": 6,
     "metadata": {},
     "output_type": "execute_result"
    }
   ],
   "source": [
    "SwiftObjectStores.list(SwiftService(), \"sensemodels\")"
   ]
  },
  {
   "cell_type": "code",
   "execution_count": 7,
   "metadata": {
    "collapsed": false
   },
   "outputs": [
    {
     "data": {
      "text/plain": [
       "all_word_sense_vectors (generic function with 3 methods)"
      ]
     },
     "execution_count": 7,
     "metadata": {},
     "output_type": "execute_result"
    }
   ],
   "source": [
    "function all_word_sense_vectors(ee::WordEmbedding, word)\n",
    "    if haskey(ee.embedding, word)\n",
    "        [ee.embedding[word]]\n",
    "    else\n",
    "        Vector{Float32}[]\n",
    "    end\n",
    "end\n",
    "\n",
    "\n",
    "function all_word_sense_vectors(ee::WordSenseEmbedding, word)\n",
    "    get(ee.embedding, word, Vector{Float32}[])\n",
    "end\n",
    "\n",
    "function all_word_sense_vectors(am::AdaGramCompat.AdaGramModel, word)\n",
    "    if haskey(am.dict.word2id, word)\n",
    "        wsv_mat = word_sense_vectors(am, word)\n",
    "        [view(wsv_mat,:,ii) for ii in 1:size(wsv_mat,2)]\n",
    "    else\n",
    "        Vector{Float32}[]\n",
    "    end\n",
    "end"
   ]
  },
  {
   "cell_type": "code",
   "execution_count": 8,
   "metadata": {
    "collapsed": false
   },
   "outputs": [],
   "source": [
    "using JLD\n",
    "#ee = load(\"models/ss/tokenised_lowercase_WestburyLab.wikicorp.201004_300_i1.jld\",\"ee\");\n",
    "#eep = get_jld(SwiftService(), \"sensemodels/plain/\", \"tokenised_lowercase_WestburyLab.wikicorp.201004_100_nosubsample.jld\", \"ee\");\n",
    "ee = get_jld(SwiftService(), \"sensemodels\", \"plain/tokenised_lowercase_WestburyLab.wikicorp.201004_100_nosubsample.semhuff.jld\", \"ee\");"
   ]
  },
  {
   "cell_type": "code",
   "execution_count": null,
   "metadata": {
    "collapsed": true
   },
   "outputs": [],
   "source": [
    "using AdaGram\n",
    "using AdaGramCompat\n",
    "am = load(\"models/adagram/more_senses.adagram_model.jld\", \"am\");"
   ]
  },
  {
   "cell_type": "code",
   "execution_count": null,
   "metadata": {
    "collapsed": true
   },
   "outputs": [],
   "source": [
    "s_am = get_jld(SwiftService(), \"sensemodels/adagram/\", \"semhuff_more_senses.adagram_model.jld\", \"am\");"
   ]
  },
  {
   "cell_type": "code",
   "execution_count": 11,
   "metadata": {
    "collapsed": false,
    "scrolled": true
   },
   "outputs": [
    {
     "data": {
      "text/plain": [
       "get_sims (generic function with 1 method)"
      ]
     },
     "execution_count": 11,
     "metadata": {},
     "output_type": "execute_result"
    }
   ],
   "source": [
    "function get_sims(ee, wordpairs::Matrix{String})\n",
    "    sims = Vector{Float64}(size(wordpairs,1))\n",
    "    for ii in 1:size(wordpairs,1)\n",
    "        try\n",
    "            wvs_1::Matrix{Float32} = hcat(all_word_sense_vectors(ee,wordpairs[ii,1])...)\n",
    "            wvs_2::Matrix{Float32} = hcat(all_word_sense_vectors(ee,wordpairs[ii,2])...)\n",
    "            sims[ii]=1-minimum(pairwise(CosineDist(), wvs_1,wvs_2))\n",
    "        catch ex\n",
    "            warn(ex)\n",
    "            sims[ii]=NaN\n",
    "        end\n",
    "    end\n",
    "    return sims\n",
    "end\n"
   ]
  },
  {
   "cell_type": "code",
   "execution_count": 12,
   "metadata": {
    "collapsed": false
   },
   "outputs": [
    {
     "name": "stdout",
     "output_type": "stream",
     "text": [
      "corspearman(groundsim,get_sims(ee,wordpairs)) = 0.5937382029721738\n"
     ]
    },
    {
     "ename": "LoadError",
     "evalue": "LoadError: UndefVarError: am not defined\nwhile loading In[12], in expression starting on line 218",
     "output_type": "error",
     "traceback": [
      "LoadError: UndefVarError: am not defined\nwhile loading In[12], in expression starting on line 218",
      "",
      " in include_string(::String, ::String) at ./loading.jl:380",
      " in execute_request_0x535c5df2(::ZMQ.Socket, ::IJulia.Msg) at /home/ubuntu/.julia/v0.5/IJulia/src/execute_request.jl:183",
      " in eventloop(::ZMQ.Socket) at /home/ubuntu/.julia/v0.5/IJulia/src/IJulia.jl:143",
      " in (::IJulia.##26#32)() at ./task.jl:309"
     ]
    }
   ],
   "source": [
    "wordpairs, groundsim = load_wordsim353(\"./data/corpora/wordsim353/combined.csv\");\n",
    "wordpairs=lowercase.(wordpairs)\n",
    "\n",
    "@show corspearman(groundsim,get_sims(ee,wordpairs))\n",
    "@show corspearman(groundsim,get_sims(am,wordpairs))\n",
    "@show corspearman(groundsim,get_sims(s_am,wordpairs));"
   ]
  },
  {
   "cell_type": "markdown",
   "metadata": {
    "collapsed": false,
    "scrolled": true
   },
   "source": [
    " - corspearman(groundsim,get_sims(ee,wordpairs)) = 0.5937382029721738, plain/tokenised_lowercase_WestburyLab.wikicorp.201004_100_nosubsample.semhuff.jld\n",
    "\n",
    "\n"
   ]
  },
  {
   "cell_type": "code",
   "execution_count": 13,
   "metadata": {
    "collapsed": false
   },
   "outputs": [
    {
     "data": {
      "text/plain": [
       "Test Passed\n",
       "  Expression: window_context(5,split(\"1 2 3 4 6 7 8\"),typemax(Int)) == split(\"1 2 3 4 6 7 8\")\n",
       "   Evaluated: SubString{String}[\"1\",\"2\",\"3\",\"4\",\"6\",\"7\",\"8\"] == SubString{String}[\"1\",\"2\",\"3\",\"4\",\"6\",\"7\",\"8\"]"
      ]
     },
     "execution_count": 13,
     "metadata": {},
     "output_type": "execute_result"
    }
   ],
   "source": [
    "function window_context(index::Integer, context::Vector, window_size::Integer)\n",
    "    window_lower_bound = max(index - window_size÷2, 1)\n",
    "    window_upper_bound = min(index + window_size÷2 -1 , length(context))\n",
    "    view(context, window_lower_bound:window_upper_bound)\n",
    "end\n",
    "Base.Test.@test window_context(5, split(\"1 2 3 4 6 7 8\"), 2) == [\"4\", \"6\"]\n",
    "Base.Test.@test window_context(5, split(\"1 2 3 4 6 7 8\"), 4) == [\"3\" , \"4\", \"6\", \"7\"]\n",
    "Base.Test.@test window_context(2, split(\"1 3 4 5\"), 4) == [\"1\",\"3\",\"4\"]\n",
    "Base.Test.@test window_context(4, split(\"1 2 3 5\"), 4) == [\"2\",\"3\",\"5\"]\n",
    "Base.Test.@test window_context(5, split(\"1 2 3 4 6 7 8\"), typemax(Int)) == split(\"1 2 3 4 6 7 8\")"
   ]
  },
  {
   "cell_type": "code",
   "execution_count": 14,
   "metadata": {
    "collapsed": true
   },
   "outputs": [],
   "source": [
    "(scws_wordpairs, scws_groundsim, scws_contexts, scws_indexes) = CorpusLoaders.Similarity.load_scws(\"./data/corpora/SCWS/ratings.txt\");\n",
    "scws_windowed_contexts = ((iis, cont) -> window_context(iis, cont, 5)).(scws_indexes, scws_contexts);"
   ]
  },
  {
   "cell_type": "code",
   "execution_count": 15,
   "metadata": {
    "collapsed": false,
    "scrolled": true
   },
   "outputs": [
    {
     "data": {
      "text/plain": [
       "get_sims (generic function with 2 methods)"
      ]
     },
     "execution_count": 15,
     "metadata": {},
     "output_type": "execute_result"
    }
   ],
   "source": [
    "function get_sims(ee, wordpairs::Matrix{String}, contexts::Matrix)\n",
    "    sims = Vector{Float64}(size(wordpairs,1))\n",
    "    for ii in 1:size(wordpairs,1)\n",
    "        try \n",
    "            sense1 = WSD(ee, wordpairs[ii,1],contexts[ii,1];skip_oov=true)\n",
    "            wv1 = ee.embedding[wordpairs[ii,1]][sense1]\n",
    "            \n",
    "            sense2 = WSD(ee, wordpairs[ii,2],contexts[ii,2];skip_oov=true)\n",
    "            wv2 = ee.embedding[wordpairs[ii,2]][sense2]\n",
    "            \n",
    "            sims[ii]=1-cosine_dist(wv1,wv2)\n",
    "        catch ex\n",
    "            if typeof(ex)==KeyError\n",
    "                warn(ex)\n",
    "                sims[ii]=NaN\n",
    "            else\n",
    "                rethrow(ex)\n",
    "            end\n",
    "        end\n",
    "    end\n",
    "    return sims\n",
    "end\n"
   ]
  },
  {
   "cell_type": "code",
   "execution_count": 16,
   "metadata": {
    "collapsed": false
   },
   "outputs": [
    {
     "ename": "LoadError",
     "evalue": "LoadError: MethodError: no method matching get_sims(::WordEmbeddings.WordEmbedding, ::Array{String,2}, ::Array{Array{SubString,1},2})\nClosest candidates are:\n  get_sims(!Matched::WordEmbeddings.FixedWordSenseEmbedding, ::Array{String,2}, ::Array{T,2}) at In[15]:2\n  get_sims(::Any, ::Array{String,2}) at In[11]:2\nwhile loading In[16], in expression starting on line 2",
     "output_type": "error",
     "traceback": [
      "LoadError: MethodError: no method matching get_sims(::WordEmbeddings.WordEmbedding, ::Array{String,2}, ::Array{Array{SubString,1},2})\nClosest candidates are:\n  get_sims(!Matched::WordEmbeddings.FixedWordSenseEmbedding, ::Array{String,2}, ::Array{T,2}) at In[15]:2\n  get_sims(::Any, ::Array{String,2}) at In[11]:2\nwhile loading In[16], in expression starting on line 2",
      "",
      " in include_string(::String, ::String) at ./loading.jl:380",
      " in execute_request_0x535c5df2(::ZMQ.Socket, ::IJulia.Msg) at /home/ubuntu/.julia/v0.5/IJulia/src/execute_request.jl:183",
      " in eventloop(::ZMQ.Socket) at /home/ubuntu/.julia/v0.5/IJulia/src/IJulia.jl:143",
      " in (::IJulia.##26#32)() at ./task.jl:309"
     ]
    }
   ],
   "source": [
    "\n",
    "local_sims = get_sims(ee, scws_wordpairs, scws_contexts)\n",
    "corspearman(scws_groundsim, scws_local_sims)\n",
    "\n",
    "\n",
    "global_syms = get_sims(am, scws_wordpairs)\n",
    "corspearman(scws_groundsim, global_syms)\n"
   ]
  },
  {
   "cell_type": "code",
   "execution_count": 17,
   "metadata": {
    "collapsed": false
   },
   "outputs": [
    {
     "name": "stdout",
     "output_type": "stream",
     "text": [
      "2016-09-23T20:50:29.579 - warn: MethodError: Cannot `convert` an object of type Array{Any,1} to an object of type Array{Float32,2}\n",
      "This may have arisen from a call to the constructor Array{Float32,2}(...),\n",
      "since type constructors fall back to convert methods. prefix: \"error: \"\n",
      "2016-09-23T20:50:30.524 - warn: MethodError: Cannot `convert` an object of type Array{Any,1} to an object of type Array{Float32,2}\n",
      "This may have arisen from a call to the constructor Array{Float32,2}(...),\n",
      "since type constructors fall back to convert methods. prefix: \"error: \"\n",
      "2016-09-23T20:50:30.527 - warn: MethodError: Cannot `convert` an object of type Array{Any,1} to an object of type Array{Float32,2}\n",
      "This may have arisen from a call to the constructor Array{Float32,2}(...),\n",
      "since type constructors fall back to convert methods. prefix: \"error: \"\n",
      "2016-09-23T20:50:30.53 - warn: MethodError: Cannot `convert` an object of type Array{Any,1} to an object of type Array{Float32,2}\n",
      "This may have arisen from a call to the constructor Array{Float32,2}(...),\n",
      "since type constructors fall back to convert methods. prefix: \"error: \"\n",
      "2016-09-23T20:50:30.534 - warn: MethodError: Cannot `convert` an object of type Array{Any,1} to an object of type Array{Float32,2}\n",
      "This may have arisen from a call to the constructor Array{Float32,2}(...),\n",
      "since type constructors fall back to convert methods. prefix: \"error: \"\n",
      "2016-09-23T20:50:30.537 - warn: MethodError: Cannot `convert` an object of type Array{Any,1} to an object of type Array{Float32,2}\n",
      "This may have arisen from a call to the constructor Array{Float32,2}(...),\n",
      "since type constructors fall back to convert methods. prefix: \"error: \"\n",
      "2016-09-23T20:50:30.54 - warn: MethodError: Cannot `convert` an object of type Array{Any,1} to an object of type Array{Float32,2}\n",
      "This may have arisen from a call to the constructor Array{Float32,2}(...),\n",
      "since type constructors fall back to convert methods. prefix: \"error: \"\n",
      "2016-09-23T20:50:30.543 - warn: MethodError: Cannot `convert` an object of type Array{Any,1} to an object of type Array{Float32,2}\n",
      "This may have arisen from a call to the constructor Array{Float32,2}(...),\n",
      "since type constructors fall back to convert methods. prefix: \"error: \"\n",
      "2016-09-23T20:50:30.547 - warn: MethodError: Cannot `convert` an object of type Array{Any,1} to an object of type Array{Float32,2}\n",
      "This may have arisen from a call to the constructor Array{Float32,2}(...),\n",
      "since type constructors fall back to convert methods. prefix: \"error: \"\n",
      "2016-09-23T20:50:30.55 - warn: MethodError: Cannot `convert` an object of type Array{Any,1} to an object of type Array{Float32,2}\n",
      "This may have arisen from a call to the constructor Array{Float32,2}(...),\n",
      "since type constructors fall back to convert methods. prefix: \"error: \"\n",
      "2016-09-23T20:50:30.553 - warn: MethodError: Cannot `convert` an object of type Array{Any,1} to an object of type Array{Float32,2}\n",
      "This may have arisen from a call to the constructor Array{Float32,2}(...),\n",
      "since type constructors fall back to convert methods. prefix: \"error: \"\n",
      "2016-09-23T20:50:30.557 - warn: MethodError: Cannot `convert` an object of type Array{Any,1} to an object of type Array{Float32,2}\n",
      "This may have arisen from a call to the constructor Array{Float32,2}(...),\n",
      "since type constructors fall back to convert methods. prefix: \"error: \"\n",
      "2016-09-23T20:50:30.56 - warn: MethodError: Cannot `convert` an object of type Array{Any,1} to an object of type Array{Float32,2}\n",
      "This may have arisen from a call to the constructor Array{Float32,2}(...),\n",
      "since type constructors fall back to convert methods. prefix: \"error: \"\n",
      "2016-09-23T20:50:30.565 - warn: MethodError: Cannot `convert` an object of type Array{Any,1} to an object of type Array{Float32,2}\n",
      "This may have arisen from a call to the constructor Array{Float32,2}(...),\n",
      "since type constructors fall back to convert methods. prefix: \"error: \"\n",
      "2016-09-23T20:50:30.569 - warn: MethodError: Cannot `convert` an object of type Array{Any,1} to an object of type Array{Float32,2}\n",
      "This may have arisen from a call to the constructor Array{Float32,2}(...),\n",
      "since type constructors fall back to convert methods. prefix: \"error: \"\n",
      "2016-09-23T20:50:30.572 - warn: MethodError: Cannot `convert` an object of type Array{Any,1} to an object of type Array{Float32,2}\n",
      "This may have arisen from a call to the constructor Array{Float32,2}(...),\n",
      "since type constructors fall back to convert methods. prefix: \"error: \"\n",
      "2016-09-23T20:50:30.575 - warn: MethodError: Cannot `convert` an object of type Array{Any,1} to an object of type Array{Float32,2}\n",
      "This may have arisen from a call to the constructor Array{Float32,2}(...),\n",
      "since type constructors fall back to convert methods. prefix: \"error: \"\n",
      "2016-09-23T20:50:30.583 - warn: MethodError: Cannot `convert` an object of type Array{Any,1} to an object of type Array{Float32,2}\n",
      "This may have arisen from a call to the constructor Array{Float32,2}(...),\n",
      "since type constructors fall back to convert methods. prefix: \"error: \"\n",
      "2016-09-23T20:50:30.593 - warn: MethodError: Cannot `convert` an object of type Array{Any,1} to an object of type Array{Float32,2}\n",
      "This may have arisen from a call to the constructor Array{Float32,2}(...),\n",
      "since type constructors fall back to convert methods. prefix: \"error: \"\n",
      "2016-09-23T20:50:30.669 - warn: MethodError: Cannot `convert` an object of type Array{Any,1} to an object of type Array{Float32,2}\n",
      "This may have arisen from a call to the constructor Array{Float32,2}(...),\n",
      "since type constructors fall back to convert methods. prefix: \"error: \"\n",
      "2016-09-23T20:50:30.672 - warn: MethodError: Cannot `convert` an object of type Array{Any,1} to an object of type Array{Float32,2}\n",
      "This may have arisen from a call to the constructor Array{Float32,2}(...),\n",
      "since type constructors fall back to convert methods. prefix: \"error: \"\n",
      "2016-09-23T20:50:30.676 - warn: MethodError: Cannot `convert` an object of type Array{Any,1} to an object of type Array{Float32,2}\n",
      "This may have arisen from a call to the constructor Array{Float32,2}(...),\n",
      "since type constructors fall back to convert methods. prefix: \"error: \"\n"
     ]
    },
    {
     "data": {
      "text/plain": [
       "0.5620437646722409"
      ]
     },
     "execution_count": 17,
     "metadata": {},
     "output_type": "execute_result"
    }
   ],
   "source": [
    "global_syms = get_sims(ee, scws_wordpairs)\n",
    "corspearman(scws_groundsim, global_syms)"
   ]
  },
  {
   "cell_type": "code",
   "execution_count": null,
   "metadata": {
    "collapsed": false
   },
   "outputs": [],
   "source": [
    "function synthesize_embedding(am::AdaGramModel,context::AbstractVector, word::AbstractString)\n",
    "    known_context = filter(c->haskey(am.dict.word2id, c), context)\n",
    "    sum(all_word_sense_vectors(am, word).*disambiguate(am.vm, am.dict, word, known_context, false))\n",
    "end"
   ]
  },
  {
   "cell_type": "code",
   "execution_count": null,
   "metadata": {
    "collapsed": false
   },
   "outputs": [],
   "source": [
    "_lp=Dict()"
   ]
  },
  {
   "cell_type": "code",
   "execution_count": null,
   "metadata": {
    "collapsed": false
   },
   "outputs": [],
   "source": [
    "parse(\"\"\"\n",
    "foo(x)=4\n",
    "\"\"\")"
   ]
  },
  {
   "cell_type": "code",
   "execution_count": null,
   "metadata": {
    "collapsed": false
   },
   "outputs": [],
   "source": [
    "function normal_probs(logprobs::Vector)\n",
    "    ret = copy(logprobs)\n",
    "    max_lp = maximum(logprobs)\n",
    "    ret.-=max_lp #Bring closer to zero\n",
    "    map!(exp,ret)\n",
    "    denom = sum(ret)\n",
    "    ret./=denom\n",
    "    ret\n",
    "end\n",
    "\n",
    "\n",
    "function synthesize_embedding2(ee,context::AbstractVector, word_or_phrase::AbstractString, smoothby=1)\n",
    "    logprobs, wvs = get!(_lp, (ee, context, word_or_phrase)) do\n",
    "        words = split(word_or_phrase, \" \")\n",
    "        wvs = vcat((all_word_sense_vectors(ee,w) for w in words)...)\n",
    "        if length(wvs) == 0\n",
    "                throw(KeyError(\"None of $words have embeddings\"))\n",
    "        end\n",
    "        lps = [logprob_of_context(ee, context, wv; skip_oov=true, normalise_over_length=false) \n",
    "                 for wv in wvs]\n",
    "        (lps, wvs)\n",
    "    end\n",
    "    slogprobs = logprobs./(smoothby*length(context))\n",
    "    sum(normal_probs(slogprobs).*wvs)\n",
    "end\n",
    "    \n",
    "    \n",
    "\n",
    "\"\"\"\n",
    "synthesize_embedding:: Embeddings, Context, Word -> WordVector\n",
    "\"\"\"\n",
    "    function get_sims_synth(ee, wordpairs::Matrix{String}, contexts::Matrix, smoothby=1)\n",
    "    sims = Vector{Float64}(size(wordpairs,1))\n",
    "    npairs = size(wordpairs,1)\n",
    "        #@showprogress \n",
    "        for ii in 1:npairs\n",
    "        try           \n",
    "            wv1 = synthesize_embedding2(ee, contexts[ii,1],wordpairs[ii,1], smoothby)\n",
    "            wv2 = synthesize_embedding2(ee, contexts[ii,2],wordpairs[ii,2], smoothby)\n",
    "             \n",
    "            sims[ii]=1-cosine_dist(wv1,wv2)\n",
    "        catch ex\n",
    "            if typeof(ex)==KeyError\n",
    "                #warn(ex)\n",
    "                sims[ii]=NaN\n",
    "            else\n",
    "                rethrow(ex)\n",
    "            end\n",
    "        end\n",
    "    end\n",
    "    return sims\n",
    "end\n"
   ]
  },
  {
   "cell_type": "code",
   "execution_count": null,
   "metadata": {
    "collapsed": false,
    "scrolled": true
   },
   "outputs": [],
   "source": []
  },
  {
   "cell_type": "code",
   "execution_count": null,
   "metadata": {
    "collapsed": false,
    "scrolled": true
   },
   "outputs": [],
   "source": [
    "sims = get_sims_synth(am, scws_wordpairs, scws_contexts, 0.5)\n",
    "corspearman(scws_groundsim, sims)"
   ]
  },
  {
   "cell_type": "code",
   "execution_count": null,
   "metadata": {
    "collapsed": false
   },
   "outputs": [],
   "source": [
    "corspearman(scws_groundsim, get_sims_synth(am, scws_wordpairs, windowed_scws_contexts,1))"
   ]
  },
  {
   "cell_type": "code",
   "execution_count": null,
   "metadata": {
    "collapsed": false
   },
   "outputs": [],
   "source": [
    "corspearman(scws_groundsim, get_sims_synth(s_am, scws_wordpairs, scws_contexts, 1))"
   ]
  },
  {
   "cell_type": "code",
   "execution_count": null,
   "metadata": {
    "collapsed": false,
    "scrolled": true
   },
   "outputs": [],
   "source": [
    "corspearman(scws_groundsim, get_sims_synth(s_am, scws_wordpairs, windowed_scws_contexts,1))"
   ]
  },
  {
   "cell_type": "code",
   "execution_count": null,
   "metadata": {
    "collapsed": true
   },
   "outputs": [],
   "source": [
    "corspearman(scws_groundsim, get_sims_synth(s_am, scws_wordpairs, windowed_scws_contexts,1))"
   ]
  },
  {
   "cell_type": "code",
   "execution_count": null,
   "metadata": {
    "collapsed": false
   },
   "outputs": [],
   "source": [
    "cor = corspearman(scws_groundsim, get_sims_synth(am, scws_wordpairs,scws_contexts, 2/e) )"
   ]
  },
  {
   "cell_type": "code",
   "execution_count": null,
   "metadata": {
    "collapsed": false
   },
   "outputs": [],
   "source": [
    "cor = corspearman(scws_groundsim, get_sims_synth(am, scws_wordpairs,scws_contexts, 0.74))"
   ]
  },
  {
   "cell_type": "code",
   "execution_count": null,
   "metadata": {
    "collapsed": false,
    "scrolled": true
   },
   "outputs": [],
   "source": [
    "r=[]\n",
    "for ii in 0.1:0.5:100\n",
    "    cor = corspearman(scws_groundsim, get_sims_synth(s_am, scws_wordpairs,scws_contexts, ii))\n",
    "    push!(r,(ii,cor))\n",
    "    println(ii,\"\\t\", cor)\n",
    "    flush(STDOUT)\n",
    "end"
   ]
  },
  {
   "cell_type": "code",
   "execution_count": null,
   "metadata": {
    "collapsed": false
   },
   "outputs": [],
   "source": [
    "using UnicodePlots"
   ]
  },
  {
   "cell_type": "code",
   "execution_count": null,
   "metadata": {
    "collapsed": false
   },
   "outputs": [],
   "source": [
    "lineplot(first.(r), (x->x[2]).(r))\n",
    "\n"
   ]
  },
  {
   "cell_type": "code",
   "execution_count": null,
   "metadata": {
    "collapsed": false
   },
   "outputs": [],
   "source": [
    "lineplot(first.(r), (x->x[2]).(r))"
   ]
  },
  {
   "cell_type": "code",
   "execution_count": null,
   "metadata": {
    "collapsed": false
   },
   "outputs": [],
   "source": [
    "@show i=findmax((x->x[2]).(r))\n",
    "r[i[2]]"
   ]
  },
  {
   "cell_type": "code",
   "execution_count": null,
   "metadata": {
    "collapsed": true
   },
   "outputs": [],
   "source": [
    "# 0.5342692139056353     GlobalMin   plain/tokenised_lowercase_WestburyLab.wikicorp.201004_100_nosubsample.jld\n",
    "# 0.48861817784625977    GlobalMin   adagram/more_senses.adagram_model.jld\n",
    "# 0.45416228327202474    GlobalMin   sensemodels/adagram/semhuff_more_senses.adagram_model.jld\"\n",
    "# 0.523055629491102      GlobalMin   sensemodels/adagram/semhuff_more_senses.adagram_model.jld\"\n",
    "\n",
    "# 0.524743130161508      LocalSynth   greedy/tokenised_lowercase_WestburyLab.wikicorp.201004_300_i1.jl\n",
    "# 0.5104268665100573     LocalSynth   sensemodels/adagram/semhuff_more_senses.adagram_model.jld\"\n",
    "# 0.6288843132192203     LocalSynth   adagram/more_senses.adagram_model.jld"
   ]
  }
 ],
 "metadata": {
  "kernelspec": {
   "display_name": "Julia 0.5.0-rc0",
   "language": "julia",
   "name": "julia-0.5"
  },
  "language_info": {
   "file_extension": ".jl",
   "mimetype": "application/julia",
   "name": "julia",
   "version": "0.5.0"
  }
 },
 "nbformat": 4,
 "nbformat_minor": 0
}
