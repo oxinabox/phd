{
 "cells": [
  {
   "cell_type": "code",
   "execution_count": 1,
   "metadata": {
    "collapsed": false
   },
   "outputs": [
    {
     "name": "stderr",
     "output_type": "stream",
     "text": [
      "WARNING: Base.writemime is deprecated.\n",
      "  likely near /home/ubuntu/.julia/v0.5/IJulia/src/kernel.jl:31\n",
      "WARNING: Base.writemime is deprecated.\n",
      "  likely near /home/ubuntu/.julia/v0.5/IJulia/src/kernel.jl:31\n",
      "WARNING: Base.writemime is deprecated.\n",
      "  likely near /home/ubuntu/.julia/v0.5/IJulia/src/kernel.jl:31\n",
      "WARNING: Base.writemime is deprecated.\n",
      "  likely near /home/ubuntu/.julia/v0.5/IJulia/src/kernel.jl:31\n",
      "WARNING: Base.UTF8String is deprecated, use String instead.\n",
      "  likely near /home/ubuntu/.julia/v0.5/PooledElements/src/pooledstring.jl:480\n",
      "WARNING: Base.UTF8String is deprecated, use String instead.\n",
      "  likely near /home/ubuntu/.julia/v0.5/PooledElements/src/pooledstring.jl:480\n",
      "WARNING: Base.UTF8String is deprecated, use String instead.\n",
      "  likely near /home/ubuntu/.julia/v0.5/PooledElements/src/pooledstring.jl:480\n",
      "WARNING: Base.UTF8String is deprecated, use String instead.\n",
      "  likely near /home/ubuntu/.julia/v0.5/PooledElements/src/pooledstring.jl:480\n",
      "in Type at /home/ubuntu/.julia/v0.5/PooledElements/src/pool.jl\n",
      "WARNING: Method definition anynull(AbstractArray) in module NullableArrays at /home/ubuntu/.julia/v0.5/NullableArrays/src/primitives.jl:170 overwritten in module PooledElements at /home/ubuntu/.julia/v0.5/PooledElements/src/pooledstringarray.jl:243.\n",
      "WARNING: Method definition warn(Exception) in module Base at util.jl:288 overwritten in module Lumberjack at /home/ubuntu/.julia/v0.5/Lumberjack/src/lumbermill.jl:99.\n",
      "WARNING: Method definition error(AbstractString) in module Base at error.jl:21 overwritten in module Lumberjack at /home/ubuntu/.julia/v0.5/Lumberjack/src/lumbermill.jl:138.\n",
      "WARNING: Method definition error(Any...) in module Base at error.jl:22 overwritten in module Lumberjack at /home/ubuntu/.julia/v0.5/Lumberjack/src/lumbermill.jl:114.\n",
      "WARNING: Method definition #warn(Array{Any, 1}, Base.#warn, Exception) in module Base overwritten in module Lumberjack.\n",
      "WARNING: Base.ASCIIString is deprecated, use String instead.\n",
      "  likely near /mnt/phd/prototypes/SenseSplittingWord2Vec/src/WordDistributions.jl:2\n",
      "WARNING: Base.ASCIIString is deprecated, use String instead.\n",
      "  likely near /mnt/phd/prototypes/SenseSplittingWord2Vec/src/WordDistributions.jl:2\n",
      "WARNING: Base.ASCIIString is deprecated, use String instead.\n",
      "  likely near /mnt/phd/prototypes/SenseSplittingWord2Vec/src/WordDistributions.jl:2\n",
      "\n",
      "WARNING: deprecated syntax \"[a=>b for (a,b) in c]\".\n",
      "Use \"Dict(a=>b for (a,b) in c)\" instead.\n"
     ]
    }
   ],
   "source": [
    "using NearestNeighbors\n",
    "using WordEmbeddings, SoftmaxClassifier\n",
    "using Utils\n",
    "using Query\n",
    "using Base.Collections\n",
    "using WordStreams\n",
    "using DataStructures\n",
    "using Distances\n",
    "using Iterators\n",
    "using StatsBase\n",
    "using Training"
   ]
  },
  {
   "cell_type": "code",
   "execution_count": null,
   "metadata": {
    "collapsed": false
   },
   "outputs": [],
   "source": [
    "#ee = restore(\"models/ss/tokenised_lowercase_WestburyLab.wikicorp.201004_300_i1.model\");\n",
    "#dtree,labels = nn_tree(ee)\n",
    "#\"\""
   ]
  },
  {
   "cell_type": "code",
   "execution_count": null,
   "metadata": {
    "collapsed": false,
    "scrolled": true
   },
   "outputs": [],
   "source": [
    "function load_wordsim353(filename=\"data/corpora/wordsim353/combined.csv\")\n",
    "    wordsims = readdlm(filename, ','; skipstart=1)\n",
    "    wordpairs = convert(Matrix{String},wordsims[:,1:2])\n",
    "    groundsim = convert(Vector{Float64},wordsims[:,3])\n",
    "    (wordpairs, groundsim)\n",
    "end\n"
   ]
  },
  {
   "cell_type": "code",
   "execution_count": null,
   "metadata": {
    "collapsed": true
   },
   "outputs": [],
   "source": [
    "#wordpairs, groundsim = load_wordsim353()"
   ]
  },
  {
   "cell_type": "code",
   "execution_count": null,
   "metadata": {
    "collapsed": false,
    "scrolled": true
   },
   "outputs": [],
   "source": [
    "function get_sims(ee::FixedWordSenseEmbedding, wordpairs::Matrix{String})\n",
    "    sims = Vector{Float64}(size(wordpairs,1))\n",
    "    for ii in 1:size(wordpairs,1)\n",
    "        try\n",
    "            wvs_1 = hcat(ee.embedding[wordpairs[ii,1]]...)\n",
    "            wvs_2 = hcat(ee.embedding[wordpairs[ii,2]]...)\n",
    "            sims[ii]=1-minimum(pairwise(CosineDist(), wvs_1,wvs_2))\n",
    "        catch ex\n",
    "            warn(ex)\n",
    "            sims[ii]=NaN\n",
    "        end\n",
    "    end\n",
    "    return sims\n",
    "end\n"
   ]
  },
  {
   "cell_type": "code",
   "execution_count": null,
   "metadata": {
    "collapsed": false
   },
   "outputs": [],
   "source": [
    "#sims = get_sims(ee,map(lowercase,wordpairs))\n",
    "#corspearman(groundsim,sims)"
   ]
  },
  {
   "cell_type": "code",
   "execution_count": null,
   "metadata": {
    "collapsed": false,
    "scrolled": true
   },
   "outputs": [],
   "source": [
    "function load_SCWS(filename = \"data/corpora/SCWS/ratings.txt\")\n",
    "    function get_context2(fulltext)\n",
    "        Task() do\n",
    "            skip_next = 0\n",
    "            for word in split(fulltext, ' ')\n",
    "                skip_next-=1\n",
    "                if word == \"<b>\"\n",
    "                    skip_next=3 \n",
    "                end\n",
    "                skip_next>0 && continue\n",
    "                produce(lowercase(word))\n",
    "            end\n",
    "        end |> collect\n",
    "    end\n",
    "    entries = readdlm(filename, '\\t', String; quotes=false, comments=false)\n",
    "    wordpairs = map(lowercase,entries[:,[2,4]])\n",
    "    groundsim = map(s->parse(Float64,s), entries[:,8])\n",
    "    contexts = map(get_context2,entries[:,[6,7]])\n",
    "    (wordpairs,contexts,groundsim,)\n",
    "end\n"
   ]
  },
  {
   "cell_type": "code",
   "execution_count": null,
   "metadata": {
    "collapsed": true
   },
   "outputs": [],
   "source": [
    "#wordpairs,contexts,groundsim = load_SCWS();"
   ]
  },
  {
   "cell_type": "code",
   "execution_count": null,
   "metadata": {
    "collapsed": false,
    "scrolled": true
   },
   "outputs": [],
   "source": [
    "function get_sims(ee::FixedWordSenseEmbedding, wordpairs::Matrix{String}, contexts::Matrix)\n",
    "    sims = Vector{Float64}(size(wordpairs,1))\n",
    "    for ii in 1:size(wordpairs,1)\n",
    "        try\n",
    "            \n",
    "            sense1 = Training.WSD(ee, wordpairs[ii,1],contexts[ii,1];skip_oov=true)\n",
    "            wv1 = ee.embedding[wordpairs[ii,1]][sense1]\n",
    "            \n",
    "            sense2 = Training.WSD(ee, wordpairs[ii,2],contexts[ii,2];skip_oov=true)\n",
    "            wv2 = ee.embedding[wordpairs[ii,2]][sense2]\n",
    "            \n",
    "            sims[ii]=1-cosine_dist(wv1,wv2)\n",
    "        catch ex\n",
    "            if typeof(ex)==KeyError\n",
    "                warn(ex)\n",
    "                sims[ii]=NaN\n",
    "            else\n",
    "                rethrow(ex)\n",
    "            end\n",
    "        end\n",
    "    end\n",
    "    return sims\n",
    "end\n"
   ]
  },
  {
   "cell_type": "code",
   "execution_count": null,
   "metadata": {
    "collapsed": true
   },
   "outputs": [],
   "source": [
    "#local_sims = get_sims(ee,wordpairs,contexts)\n",
    "#corspearman(groundsim,local_sims)"
   ]
  },
  {
   "cell_type": "code",
   "execution_count": 1,
   "metadata": {
    "collapsed": false
   },
   "outputs": [
    {
     "ename": "LoadError",
     "evalue": "LoadError: UndefVarError: GenWordEmbedding not defined\nwhile loading In[1], in expression starting on line 480",
     "output_type": "error",
     "traceback": [
      "LoadError: UndefVarError: GenWordEmbedding not defined\nwhile loading In[1], in expression starting on line 480",
      "",
      " in include_string(::String, ::String) at ./loading.jl:380",
      " in eventloop(::ZMQ.Socket) at /home/ubuntu/.julia/v0.5/IJulia/src/IJulia.jl:143",
      " in (::IJulia.##26#32)() at ./task.jl:309"
     ]
    }
   ],
   "source": [
    "\n",
    "function weighted_average(logprobs, embeddings)\n",
    "    function normal_probs(logprobs::Vector)\n",
    "        ret = copy(logprobs)\n",
    "        max_lp = maximum(logprobs)\n",
    "        ret.-=max_lp #Bring closer to zero\n",
    "        map!(exp,ret)\n",
    "        denom = sum(ret)\n",
    "        ret./=denom\n",
    "    end\n",
    "    \n",
    "    \n",
    "    ret = zeros(size(embeddings[1]))\n",
    "    for (weight, embedding) in zip(normal_probs(logprobs), embeddings)\n",
    "        ret.+= weight*embedding\n",
    "    end\n",
    "    ret\n",
    "end\n",
    "\n",
    "function all_logprobs_of_context(embed, context, middle_word)\n",
    "    [Query.logprob_of_context(embed, context,wv; skip_oov=true, normalise_over_length=true)\n",
    "        for wv in embed.embedding[middle_word]]\n",
    "end\n",
    "\n",
    "function synthesize_weighted_average_embedding(ee,context, middle_word)\n",
    "    logprobs = all_logprobs_of_context(ee, context,middle_word)\n",
    "    weighted_average(logprobs, ee.embedding[middle_word])\n",
    "end\n",
    "\n",
    "\"\"\"\n",
    "synthesize_embedding:: Embeddings, Context, Word -> WordVector\n",
    "\"\"\"\n",
    "function get_sims(ee::GenWordEmbedding, wordpairs::Matrix{String}, contexts::Matrix, synthesize_embedding::Function)\n",
    "    sims = Vector{Float64}(size(wordpairs,1))\n",
    "    npairs = size(wordpairs,1)\n",
    "    for ii in 1:npairs\n",
    "        println(\"pair $ii / $npairs\")\n",
    "        try           \n",
    "            wv1 = synthesize_embedding(ee, contexts[ii,1],wordpairs[ii,1])\n",
    "            wv2 = synthesize_embedding(ee, contexts[ii,2],wordpairs[ii,2])\n",
    "             \n",
    "            \n",
    "            sims[ii]=1-cosine_dist(wv1,wv2)\n",
    "        catch ex\n",
    "            if typeof(ex)==KeyError\n",
    "                warn(ex)\n",
    "                sims[ii]=NaN\n",
    "            else\n",
    "                rethrow(ex)\n",
    "            end\n",
    "        end\n",
    "    end\n",
    "    return sims\n",
    "end\n"
   ]
  },
  {
   "cell_type": "code",
   "execution_count": null,
   "metadata": {
    "collapsed": false
   },
   "outputs": [],
   "source": [
    "#local_sims = get_sims(ee,wordpairs,contexts)\n",
    "#corspearman(groundsim,local_sims)"
   ]
  },
  {
   "cell_type": "code",
   "execution_count": null,
   "metadata": {
    "collapsed": true
   },
   "outputs": [],
   "source": []
  }
 ],
 "metadata": {
  "kernelspec": {
   "display_name": "Julia 0.5.0-dev",
   "language": "julia",
   "name": "julia-0.5"
  },
  "language_info": {
   "file_extension": ".jl",
   "mimetype": "application/julia",
   "name": "julia",
   "version": "0.5.0"
  }
 },
 "nbformat": 4,
 "nbformat_minor": 0
}
