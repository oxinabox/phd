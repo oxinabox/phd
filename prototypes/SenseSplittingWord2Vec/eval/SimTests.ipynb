{
 "cells": [
  {
   "cell_type": "code",
   "execution_count": 24,
   "metadata": {
    "collapsed": true
   },
   "outputs": [],
   "source": [
    "using ProgressMeter"
   ]
  },
  {
   "cell_type": "code",
   "execution_count": 1,
   "metadata": {
    "collapsed": false
   },
   "outputs": [],
   "source": [
    "using NearestNeighbors\n",
    "using WordEmbeddings, SoftmaxClassifier\n",
    "using Utils\n",
    "using Query\n",
    "using Base.Collections\n",
    "using WordStreams\n",
    "using DataStructures\n",
    "using Distances\n",
    "using Iterators\n",
    "using StatsBase\n",
    "using Training"
   ]
  },
  {
   "cell_type": "code",
   "execution_count": 2,
   "metadata": {
    "collapsed": false
   },
   "outputs": [],
   "source": [
    "using JLD\n",
    "ee = load(\"models/ss/tokenised_lowercase_WestburyLab.wikicorp.201004_300_i1.jld\",\"ee\");\n",
    "#dtree,labels = nn_tree(ee)\n",
    "#\"\""
   ]
  },
  {
   "cell_type": "code",
   "execution_count": 12,
   "metadata": {
    "collapsed": true
   },
   "outputs": [],
   "source": [
    "using AdaGram\n",
    "using AdaGramCompat\n",
    "am = load(\"models/adagram/more_senses.adagram_model.jld\", \"am\");\n"
   ]
  },
  {
   "cell_type": "code",
   "execution_count": 3,
   "metadata": {
    "collapsed": false,
    "scrolled": true
   },
   "outputs": [
    {
     "data": {
      "text/plain": [
       "load_wordsim353 (generic function with 2 methods)"
      ]
     },
     "execution_count": 3,
     "metadata": {},
     "output_type": "execute_result"
    }
   ],
   "source": [
    "function load_wordsim353(filename=\"data/corpora/wordsim353/combined.csv\")\n",
    "    wordsims = readdlm(filename, ','; skipstart=1)\n",
    "    wordpairs = convert(Matrix{String},wordsims[:,1:2])\n",
    "    groundsim = convert(Vector{Float64},wordsims[:,3])\n",
    "    (wordpairs, groundsim)\n",
    "end\n"
   ]
  },
  {
   "cell_type": "code",
   "execution_count": 4,
   "metadata": {
    "collapsed": true
   },
   "outputs": [],
   "source": []
  },
  {
   "cell_type": "code",
   "execution_count": 5,
   "metadata": {
    "collapsed": false,
    "scrolled": true
   },
   "outputs": [
    {
     "data": {
      "text/plain": [
       "get_sims (generic function with 1 method)"
      ]
     },
     "execution_count": 5,
     "metadata": {},
     "output_type": "execute_result"
    }
   ],
   "source": [
    "function get_sims(ee::FixedWordSenseEmbedding, wordpairs::Matrix{String})\n",
    "    sims = Vector{Float64}(size(wordpairs,1))\n",
    "    for ii in 1:size(wordpairs,1)\n",
    "        try\n",
    "            wvs_1 = hcat(ee.embedding[wordpairs[ii,1]]...)\n",
    "            wvs_2 = hcat(ee.embedding[wordpairs[ii,2]]...)\n",
    "            sims[ii]=1-minimum(pairwise(CosineDist(), wvs_1,wvs_2))\n",
    "        catch ex\n",
    "            warn(ex)\n",
    "            sims[ii]=NaN\n",
    "        end\n",
    "    end\n",
    "    return sims\n",
    "end\n"
   ]
  },
  {
   "cell_type": "code",
   "execution_count": 6,
   "metadata": {
    "collapsed": false
   },
   "outputs": [
    {
     "data": {
      "text/plain": [
       "0.49821807559772224"
      ]
     },
     "execution_count": 6,
     "metadata": {},
     "output_type": "execute_result"
    }
   ],
   "source": [
    "wordpairs, groundsim = load_wordsim353();\n",
    "\n",
    "sims = get_sims(ee,map(lowercase,wordpairs))\n",
    "corspearman(groundsim,sims)"
   ]
  },
  {
   "cell_type": "code",
   "execution_count": 7,
   "metadata": {
    "collapsed": false,
    "scrolled": true
   },
   "outputs": [
    {
     "data": {
      "text/plain": [
       "load_SCWS (generic function with 2 methods)"
      ]
     },
     "execution_count": 7,
     "metadata": {},
     "output_type": "execute_result"
    }
   ],
   "source": [
    "function load_SCWS(filename = \"data/corpora/SCWS/ratings.txt\")\n",
    "    function get_context2(fulltext)\n",
    "        Task() do\n",
    "            skip_next = 0\n",
    "            for word in split(fulltext, ' ')\n",
    "                skip_next-=1\n",
    "                if word == \"<b>\"\n",
    "                    skip_next=3 \n",
    "                end\n",
    "                skip_next>0 && continue\n",
    "                produce(lowercase(word))\n",
    "            end\n",
    "        end |> collect\n",
    "    end\n",
    "    entries = readdlm(filename, '\\t', String; quotes=false, comments=false)\n",
    "    wordpairs = map(lowercase,entries[:,[2,4]])\n",
    "    groundsim = map(s->parse(Float64,s), entries[:,8])\n",
    "    contexts = map(get_context2,entries[:,[6,7]])\n",
    "    (wordpairs,contexts,groundsim,)\n",
    "end\n"
   ]
  },
  {
   "cell_type": "code",
   "execution_count": 10,
   "metadata": {
    "collapsed": false,
    "scrolled": true
   },
   "outputs": [
    {
     "data": {
      "text/plain": [
       "get_sims (generic function with 2 methods)"
      ]
     },
     "execution_count": 10,
     "metadata": {},
     "output_type": "execute_result"
    }
   ],
   "source": [
    "function get_sims(ee::FixedWordSenseEmbedding, wordpairs::Matrix{String}, contexts::Matrix)\n",
    "    sims = Vector{Float64}(size(wordpairs,1))\n",
    "    for ii in 1:size(wordpairs,1)\n",
    "        try\n",
    "            \n",
    "            sense1 = WSD(ee, wordpairs[ii,1],contexts[ii,1];skip_oov=true)\n",
    "            wv1 = ee.embedding[wordpairs[ii,1]][sense1]\n",
    "            \n",
    "            sense2 = WSD(ee, wordpairs[ii,2],contexts[ii,2];skip_oov=true)\n",
    "            wv2 = ee.embedding[wordpairs[ii,2]][sense2]\n",
    "            \n",
    "            sims[ii]=1-cosine_dist(wv1,wv2)\n",
    "        catch ex\n",
    "            if typeof(ex)==KeyError\n",
    "                warn(ex)\n",
    "                sims[ii]=NaN\n",
    "            else\n",
    "                rethrow(ex)\n",
    "            end\n",
    "        end\n",
    "    end\n",
    "    return sims\n",
    "end\n"
   ]
  },
  {
   "cell_type": "code",
   "execution_count": 11,
   "metadata": {
    "collapsed": false
   },
   "outputs": [
    {
     "name": "stdout",
     "output_type": "stream",
     "text": [
      "2016-09-02T22:19:06.124 - warn: KeyError: key \"aglow\" not found prefix: \"error: \"\n",
      "2016-09-02T22:19:08.49 - warn: KeyError: key \"insufflate\" not found prefix: \"error: \"\n",
      "2016-09-02T22:19:13.071 - warn: KeyError: key \"anorgasmia\" not found prefix: \"error: \"\n",
      "2016-09-02T22:19:14.341 - warn: KeyError: key \"backdate\" not found prefix: \"error: \"\n",
      "2016-09-02T22:19:14.911 - warn: KeyError: key \"notarize\" not found prefix: \"error: \"\n",
      "2016-09-02T22:19:19.579 - warn: KeyError: key \"unblock\" not found prefix: \"error: \"\n",
      "2016-09-02T22:19:21.777 - warn: KeyError: key \"escapologist\" not found prefix: \"error: \"\n",
      "2016-09-02T22:19:22.537 - warn: KeyError: key \"tombac\" not found prefix: \"error: \"\n",
      "2016-09-02T22:19:22.716 - warn: KeyError: key \"nutriment\" not found prefix: \"error: \"\n",
      "2016-09-02T22:19:27.997 - warn: KeyError: key \"bated\" not found prefix: \"error: \"\n",
      "2016-09-02T22:19:29.433 - warn: KeyError: key \"cosmographer\" not found prefix: \"error: \"\n",
      "2016-09-02T22:19:29.788 - warn: KeyError: key \"exudation\" not found prefix: \"error: \"\n",
      "2016-09-02T22:19:36.429 - warn: KeyError: key \"relearn\" not found prefix: \"error: \"\n",
      "2016-09-02T22:19:36.674 - warn: KeyError: key \"nonprofessional\" not found prefix: \"error: \"\n",
      "2016-09-02T22:19:37.614 - warn: KeyError: key \"solemnize\" not found prefix: \"error: \"\n"
     ]
    },
    {
     "data": {
      "text/plain": [
       "0.39415271981504646"
      ]
     },
     "execution_count": 11,
     "metadata": {},
     "output_type": "execute_result"
    }
   ],
   "source": [
    "wordpairs,contexts,groundsim = load_SCWS();\n",
    "local_sims = get_sims(ee,wordpairs,contexts)\n",
    "corspearman(groundsim,local_sims)"
   ]
  },
  {
   "cell_type": "code",
   "execution_count": 13,
   "metadata": {
    "collapsed": false
   },
   "outputs": [
    {
     "data": {
      "text/plain": [
       "all_word_sense_vectors (generic function with 2 methods)"
      ]
     },
     "execution_count": 13,
     "metadata": {},
     "output_type": "execute_result"
    }
   ],
   "source": [
    "function all_word_sense_vectors(ee::WordSenseEmbedding, word)\n",
    "    get(ee.embedding, word, Vector{Float32}[])\n",
    "end\n",
    "\n",
    "function all_word_sense_vectors(am::AdaGramCompat.AdaGramModel, word)\n",
    "    if haskey(am.dict.word2id, word)\n",
    "        wsv_mat = word_sense_vectors(am, word)\n",
    "        [view(wsv_mat,:,ii) for ii in 1:size(wsv_mat,2)]\n",
    "    else\n",
    "        Vector{Float32}[]\n",
    "    end\n",
    "end"
   ]
  },
  {
   "cell_type": "code",
   "execution_count": 27,
   "metadata": {
    "collapsed": false
   },
   "outputs": [
    {
     "data": {
      "text/plain": [
       "get_sims_synth"
      ]
     },
     "execution_count": 27,
     "metadata": {},
     "output_type": "execute_result"
    }
   ],
   "source": [
    "function normal_probs(logprobs::Vector)\n",
    "    ret = copy(logprobs)\n",
    "    max_lp = maximum(logprobs)\n",
    "    ret.-=max_lp #Bring closer to zero\n",
    "    map!(exp,ret)\n",
    "    denom = sum(ret)\n",
    "    ret./=denom\n",
    "    ret\n",
    "end\n",
    "function weighted_average(logprobs, embeddings)\n",
    "    ret = zeros(first(embeddings))\n",
    "    for (weight, embedding) in zip(normal_probs(logprobs), embeddings)\n",
    "        ret.+= weight.*embedding\n",
    "    end\n",
    "    ret\n",
    "end\n",
    "\n",
    "\n",
    "function synthesize_embedding(ee,context::AbstractVector, word_or_phrase::AbstractString)\n",
    "    words = split(word_or_phrase, \" \")\n",
    "    wvs = vcat((all_word_sense_vectors(ee,w) for w in words)...)\n",
    "    if length(wvs) == 0\n",
    "            throw(KeyError(\"None of $words have embeddings\"))\n",
    "    end\n",
    "    logprobs = [Query.logprob_of_context(ee, context, wv; skip_oov=true, normalise_over_length=true) for wv in wvs]\n",
    "    weighted_average(logprobs, wvs)\n",
    "end\n",
    "\n",
    "\"\"\"\n",
    "synthesize_embedding:: Embeddings, Context, Word -> WordVector\n",
    "\"\"\"\n",
    "    function get_sims_synth(ee, wordpairs::Matrix{String}, contexts::Matrix)\n",
    "    sims = Vector{Float64}(size(wordpairs,1))\n",
    "    npairs = size(wordpairs,1)\n",
    "        @showprogress for ii in 1:npairs\n",
    "        try           \n",
    "            wv1 = synthesize_embedding(ee, contexts[ii,1],wordpairs[ii,1])\n",
    "            wv2 = synthesize_embedding(ee, contexts[ii,2],wordpairs[ii,2])\n",
    "             \n",
    "            sims[ii]=1-cosine_dist(wv1,wv2)\n",
    "        catch ex\n",
    "            if typeof(ex)==KeyError\n",
    "                warn(ex)\n",
    "                sims[ii]=NaN\n",
    "            else\n",
    "                rethrow(ex)\n",
    "            end\n",
    "        end\n",
    "    end\n",
    "    return sims\n",
    "end\n"
   ]
  },
  {
   "cell_type": "code",
   "execution_count": 28,
   "metadata": {
    "collapsed": false,
    "scrolled": true
   },
   "outputs": [
    {
     "name": "stdout",
     "output_type": "stream",
     "text": [
      "Progress:   0%|                                         |  ETA: 0:04:442016-09-02T22:41:36.049 - warn: KeyError: key \"None of SubString{String}[\\\"aglow\\\"] have embeddings\" not found prefix: \"error: \"\n",
      "Progress:   8%|███                                      |  ETA: 0:00:342016-09-02T22:41:38.759 - warn: KeyError: key \"None of SubString{String}[\\\"insufflate\\\"] have embeddings\" not found prefix: \"error: \"\n",
      "Progress:  23%|██████████                               |  ETA: 0:00:272016-09-02T22:41:44.106 - warn: KeyError: key \"None of SubString{String}[\\\"anorgasmia\\\"] have embeddings\" not found prefix: \"error: \"\n",
      "Progress:  27%|███████████                              |  ETA: 0:00:252016-09-02T22:41:45.51 - warn: KeyError: key \"None of SubString{String}[\\\"backdate\\\"] have embeddings\" not found prefix: \"error: \"\n",
      "Progress:  29%|████████████                             |  ETA: 0:00:252016-09-02T22:41:46.145 - warn: KeyError: key \"None of SubString{String}[\\\"notarize\\\"] have embeddings\" not found prefix: \"error: \"\n",
      "Progress:  42%|█████████████████                        |  ETA: 0:00:212016-09-02T22:41:51.359 - warn: KeyError: key \"None of SubString{String}[\\\"unblock\\\"] have embeddings\" not found prefix: \"error: \"\n",
      "Progress:  48%|████████████████████                     |  ETA: 0:00:192016-09-02T22:41:53.886 - warn: KeyError: key \"None of SubString{String}[\\\"escapologist\\\"] have embeddings\" not found prefix: \"error: \"\n",
      "Progress:  51%|█████████████████████                    |  ETA: 0:00:182016-09-02T22:41:54.741 - warn: KeyError: key \"None of SubString{String}[\\\"tombac\\\"] have embeddings\" not found prefix: \"error: \"\n",
      "Progress:  51%|█████████████████████                    |  ETA: 0:00:182016-09-02T22:41:54.946 - warn: KeyError: key \"None of SubString{String}[\\\"nutriment\\\"] have embeddings\" not found prefix: \"error: \"\n",
      "Progress:  67%|███████████████████████████              |  ETA: 0:00:122016-09-02T22:42:01.132 - warn: KeyError: key \"None of SubString{String}[\\\"bated\\\"] have embeddings\" not found prefix: \"error: \"\n",
      "Progress:  71%|█████████████████████████████            |  ETA: 0:00:112016-09-02T22:42:02.809 - warn: KeyError: key \"None of SubString{String}[\\\"cosmographer\\\"] have embeddings\" not found prefix: \"error: \"\n",
      "Progress:  72%|██████████████████████████████           |  ETA: 0:00:102016-09-02T22:42:03.204 - warn: KeyError: key \"None of SubString{String}[\\\"exudation\\\"] have embeddings\" not found prefix: \"error: \"\n",
      "Progress:  93%|██████████████████████████████████████   |  ETA: 0:00:032016-09-02T22:42:10.894 - warn: KeyError: key \"None of SubString{String}[\\\"relearn\\\"] have embeddings\" not found prefix: \"error: \"\n",
      "Progress:  94%|███████████████████████████████████████  |  ETA: 0:00:022016-09-02T22:42:11.153 - warn: KeyError: key \"None of SubString{String}[\\\"nonprofessional\\\"] have embeddings\" not found prefix: \"error: \"\n",
      "Progress:  97%|████████████████████████████████████████ |  ETA: 0:00:012016-09-02T22:42:12.158 - warn: KeyError: key \"None of SubString{String}[\\\"solemnize\\\"] have embeddings\" not found prefix: \"error: \"\n",
      "Progress: 100%|█████████████████████████████████████████| Time: 0:00:37\n"
     ]
    },
    {
     "data": {
      "text/plain": [
       "0.524743130161508"
      ]
     },
     "execution_count": 28,
     "metadata": {},
     "output_type": "execute_result"
    }
   ],
   "source": [
    "corspearman(groundsim,get_sims_synth(ee,wordpairs,contexts))"
   ]
  },
  {
   "cell_type": "code",
   "execution_count": 29,
   "metadata": {
    "collapsed": false,
    "scrolled": true
   },
   "outputs": [
    {
     "name": "stdout",
     "output_type": "stream",
     "text": [
      "Progress:   8%|███                                      |  ETA: 0:04:332016-09-02T22:42:36.131 - warn: KeyError: key \"None of SubString{String}[\\\"insufflate\\\"] have embeddings\" not found prefix: \"error: \"\n",
      "Progress:  28%|███████████                              |  ETA: 0:03:312016-09-02T22:43:33.348 - warn: KeyError: key \"None of SubString{String}[\\\"backdate\\\"] have embeddings\" not found prefix: \"error: \"\n",
      "Progress: 100%|█████████████████████████████████████████| Time: 0:04:52\n"
     ]
    },
    {
     "data": {
      "text/plain": [
       "0.6452187057383217"
      ]
     },
     "execution_count": 29,
     "metadata": {},
     "output_type": "execute_result"
    }
   ],
   "source": [
    "corspearman(groundsim,get_sims_synth(am,wordpairs,contexts))"
   ]
  },
  {
   "cell_type": "code",
   "execution_count": null,
   "metadata": {
    "collapsed": true
   },
   "outputs": [],
   "source": []
  }
 ],
 "metadata": {
  "kernelspec": {
   "display_name": "Julia 0.5.0-rc0",
   "language": "julia",
   "name": "julia-0.5"
  },
  "language_info": {
   "file_extension": ".jl",
   "mimetype": "application/julia",
   "name": "julia",
   "version": "0.5.0"
  }
 },
 "nbformat": 4,
 "nbformat_minor": 0
}
