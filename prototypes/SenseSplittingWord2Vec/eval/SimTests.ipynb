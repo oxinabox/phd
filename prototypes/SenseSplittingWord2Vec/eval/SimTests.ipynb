{
 "cells": [
  {
   "cell_type": "code",
   "execution_count": 3,
   "metadata": {
    "collapsed": false
   },
   "outputs": [
    {
     "data": {
      "text/plain": [
       "0"
      ]
     },
     "execution_count": 3,
     "metadata": {},
     "output_type": "execute_result"
    }
   ],
   "source": [
    "1-1"
   ]
  },
  {
   "cell_type": "code",
   "execution_count": 4,
   "metadata": {
    "collapsed": false
   },
   "outputs": [],
   "source": [
    "using NearestNeighbors\n",
    "using WordEmbeddings, SoftmaxClassifier\n",
    "using Utils\n",
    "using Query\n",
    "using Base.Collections\n",
    "using WordStreams\n",
    "using DataStructures\n",
    "using Clustering\n",
    "using Distances\n",
    "using Iterators\n",
    "using StatsBase\n",
    "using Training"
   ]
  },
  {
   "cell_type": "code",
   "execution_count": 5,
   "metadata": {
    "collapsed": false
   },
   "outputs": [
    {
     "name": "stderr",
     "output_type": "stream",
     "text": [
      "WARNING: slice is deprecated, use view instead.\n",
      " in depwarn(::String, ::Symbol) at ./deprecated.jl:64\n",
      " in slice(::Array{Float32,2}, ::Vararg{Any,N}) at ./deprecated.jl:30\n",
      " in evaluate at /home/ubuntu/.julia/v0.5/NearestNeighbors/src/evaluation.jl:47 [inlined] (repeats 2 times)\n",
      " in create_bsphere(::Array{Float32,2}, ::Query.AngularDist, ::Array{Int64,1}, ::Int64, ::Int64) at /home/ubuntu/.julia/v0.5/NearestNeighbors/src/hyperspheres.jl:58\n",
      " in build_BallTree(::Int64, ::Array{Float32,2}, ::Array{Float32,2}, ::Array{NearestNeighbors"
     ]
    }
   ],
   "source": [
    "ee = restore(\"models/ss/tokenised_lowercase_WestburyLab.wikicorp.201004_100_i1.model\");\n",
    "dtree,labels = nn_tree(ee)\n",
    "\"\""
   ]
  },
  {
   "cell_type": "code",
   "execution_count": 27,
   "metadata": {
    "collapsed": false,
    "scrolled": true
   },
   "outputs": [
    {
     "name": "stdout",
     "output_type": "stream",
     "text": [
      "1386.692237 seconds (256.42 M allocations: 37.216 GB, 1.85% gc time)\n"
     ]
    },
    {
     "data": {
      "text/plain": [
       "Array{Tuple{Tuple{String,Int64},Float32},1}[Tuple{Tuple{String,Int64},Float32}[((\"states\",1),0.000155425),((\"possibility\",15),0.267356),((\"initially\",10),0.267787),((\"kingship\",1),0.270334),((\"rule\",20),0.276474)],Tuple{Tuple{String,Int64},Float32}[((\"states\",2),0.0),((\"strategy\",20),0.255762),((\"map\",17),0.270634),((\"united\",5),0.273032),((\"directors\",6),0.278503)],Tuple{Tuple{String,Int64},Float32}[((\"states\",3),0.0),((\"february\",20),0.336462),((\"opened\",16),0.340318),((\"outselling\",1),0.340817),((\"1992\",5),0.342176)],Tuple{Tuple{String,Int64},Float32}[((\"states\",4),0.0),((\"line\",4),0.265136),((\"billion\",16),0.266845),((\"households\",18),0.273618),((\"3\",3),0.274329)],Tuple{Tuple{String,Int64},Float32}[((\"states\",5),0.0),((\"germany\",2),0.282167),((\"prussia's\",1),0.316669),((\"relations\",5),0.317873),((\"annexation\",1),0.317923)],Tuple{Tuple{String,Int64},Float32}[((\"states\",6),0.0),((\"assist\",15),0.242816),((\"all\",2),0.24366),((\"review\",6),0.24379),((\"taken\",14),0.244824)],Tuple{Tuple{String,Int64},Float32}[((\"states\",7),0.0),((\"virginia\",18),0.147864),((\"united\",16),0.153984),((\"located\",17),0.15583),((\"geography\",5),0.16612)],Tuple{Tuple{String,Int64},Float32}[((\"states\",8),0.0),((\"self-determination\",1),0.241251),((\"participating\",15),0.257197),((\"solution\",15),0.260226),((\"officially\",14),0.267478)],Tuple{Tuple{String,Int64},Float32}[((\"states\",9),0.0),((\"called\",17),0.229325),((\"weak\",13),0.239044),((\"such\",6),0.23919),((\"refer\",7),0.239566)],Tuple{Tuple{String,Int64},Float32}[((\"states\",10),0.0),((\"rapidly\",1),0.279836),((\"late\",12),0.280275),((\"1909\",20),0.281085),((\"began\",6),0.284567)],Tuple{Tuple{String,Int64},Float32}[((\"states\",11),0.0),((\"western\",17),0.178603),((\"arizona\",16),0.186563),((\"central\",5),0.186968),((\"northern\",19),0.19445)],Tuple{Tuple{String,Int64},Float32}[((\"states\",12),0.0),((\"1940\",2),0.252151),((\"1937\",11),0.255052),((\"biography\",12),0.260157),((\"woodrow\",1),0.260285)],Tuple{Tuple{String,Int64},Float32}[((\"states\",13),0.0),((\"newar\",1),0.295138),((\"parts\",2),0.296629),((\"karnal\",1),0.296754),((\"present\",5),0.299273)],Tuple{Tuple{String,Int64},Float32}[((\"states\",14),0.000109902),((\"beach\",4),0.258893),((\"singapore\",9),0.264536),((\"pacific\",3),0.267084),((\"qualifier\",1),0.269548)],Tuple{Tuple{String,Int64},Float32}[((\"states\",15),0.000155425),((\"united\",17),0.169622),((\"bill\",9),0.188513),((\"clinton\",8),0.192871),((\"confirmed\",16),0.20403)],Tuple{Tuple{String,Int64},Float32}[((\"states\",16),0.000109902),((\"serves\",3),0.281782),((\"kansas\",10),0.296712),((\"alabama\",5),0.299257),((\"milledgeville\",1),0.300517)],Tuple{Tuple{String,Int64},Float32}[((\"states\",17),0.0),((\"private\",18),0.196623),((\"navy\",3),0.200308),((\"boatswain's\",1),0.205103),((\"reserve\",7),0.209955)],Tuple{Tuple{String,Int64},Float32}[((\"states\",18),0.000109902),((\"darkside\",1),0.316001),((\"essential\",15),0.317941),((\"united\",13),0.318),((\"allowed\",8),0.31813)],Tuple{Tuple{String,Int64},Float32}[((\"states\",19),0.000109902),((\"legislature\",5),0.230073),((\"allowing\",6),0.246262),((\"commonwealth\",15),0.250711),((\"bill\",12),0.251381)],Tuple{Tuple{String,Int64},Float32}[((\"states\",20),0.0),((\"united\",20),0.179576),((\"operations\",9),0.186639),((\"training\",16),0.189044),((\"predecessor\",9),0.194429)]]"
      ]
     },
     "execution_count": 27,
     "metadata": {},
     "output_type": "execute_result"
    }
   ],
   "source": [
    "@time nears=find_nearest_words(ee,\"states\",dtree,labels )"
   ]
  },
  {
   "cell_type": "code",
   "execution_count": 28,
   "metadata": {
    "collapsed": false,
    "scrolled": true
   },
   "outputs": [
    {
     "name": "stdout",
     "output_type": "stream",
     "text": [
      "(3179,Tuple{Tuple{String,Int64},Float32}[((\"states\",15),0.000155425),((\"united\",17),0.169622),((\"bill\",9),0.188513),((\"clinton\",8),0.192871),((\"confirmed\",16),0.20403)])\n",
      "(3273,Tuple{Tuple{String,Int64},Float32}[((\"states\",12),0.0),((\"1940\",2),0.252151),((\"1937\",11),0.255052),((\"biography\",12),0.260157),((\"woodrow\",1),0.260285)])\n",
      "(3320,Tuple{Tuple{String,Int64},Float32}[((\"states\",3),0.0),((\"february\",20),0.336462),((\"opened\",16),0.340318),((\"outselling\",1),0.340817),((\"1992\",5),0.342176)])\n",
      "(3515,Tuple{Tuple{String,Int64},Float32}[((\"states\",4),0.0),((\"line\",4),0.265136),((\"billion\",16),0.266845),((\"households\",18),0.273618),((\"3\",3),0.274329)])\n",
      "(3616,Tuple{Tuple{String,Int64},Float32}[((\"states\",17),0.0),((\"private\",18),0.196623),((\"navy\",3),0.200308),((\"boatswain's\",1),0.205103),((\"reserve\",7),0.209955)])\n",
      "(3832,Tuple{Tuple{String,Int64},Float32}[((\"states\",6),0.0),((\"assist\",15),0.242816),((\"all\",2),0.24366),((\"review\",6),0.24379),((\"taken\",14),0.244824)])\n",
      "(4210,Tuple{Tuple{String,Int64},Float32}[((\"states\",7),0.0),((\"virginia\",18),0.147864),((\"united\",16),0.153984),((\"located\",17),0.15583),((\"geography\",5),0.16612)])\n",
      "(4275,Tuple{Tuple{String,Int64},Float32}[((\"states\",2),0.0),((\"strategy\",20),0.255762),((\"map\",17),0.270634),((\"united\",5),0.273032),((\"directors\",6),0.278503)])\n",
      "(4341,Tuple{Tuple{String,Int64},Float32}[((\"states\",5),0.0),((\"germany\",2),0.282167),((\"prussia's\",1),0.316669),((\"relations\",5),0.317873),((\"annexation\",1),0.317923)])\n",
      "(4688,Tuple{Tuple{String,Int64},Float32}[((\"states\",13),0.0),((\"newar\",1),0.295138),((\"parts\",2),0.296629),((\"karnal\",1),0.296754),((\"present\",5),0.299273)])\n",
      "(4774,Tuple{Tuple{String,Int64},Float32}[((\"states\",10),0.0),((\"rapidly\",1),0.279836),((\"late\",12),0.280275),((\"1909\",20),0.281085),((\"began\",6),0.284567)])\n",
      "(4798,Tuple{Tuple{String,Int64},Float32}[((\"states\",14),0.000109902),((\"beach\",4),0.258893),((\"singapore\",9),0.264536),((\"pacific\",3),0.267084),((\"qualifier\",1),0.269548)])\n",
      "(4955,Tuple{Tuple{String,Int64},Float32}[((\"states\",19),0.000109902),((\"legislature\",5),0.230073),((\"allowing\",6),0.246262),((\"commonwealth\",15),0.250711),((\"bill\",12),0.251381)])\n",
      "(5089,Tuple{Tuple{String,Int64},Float32}[((\"states\",18),0.000109902),((\"darkside\",1),0.316001),((\"essential\",15),0.317941),((\"united\",13),0.318),((\"allowed\",8),0.31813)])\n",
      "(5110,Tuple{Tuple{String,Int64},Float32}[((\"states\",16),0.000109902),((\"serves\",3),0.281782),((\"kansas\",10),0.296712),((\"alabama\",5),0.299257),((\"milledgeville\",1),0.300517)])\n",
      "(5121,Tuple{Tuple{String,Int64},Float32}[((\"states\",9),0.0),((\"called\",17),0.229325),((\"weak\",13),0.239044),((\"such\",6),0.23919),((\"refer\",7),0.239566)])\n",
      "(5269,Tuple{Tuple{String,Int64},Float32}[((\"states\",11),0.0),((\"western\",17),0.178603),((\"arizona\",16),0.186563),((\"central\",5),0.186968),((\"northern\",19),0.19445)])\n",
      "(5300,Tuple{Tuple{String,Int64},Float32}[((\"states\",20),0.0),((\"united\",20),0.179576),((\"operations\",9),0.186639),((\"training\",16),0.189044),((\"predecessor\",9),0.194429)])\n",
      "(5410,Tuple{Tuple{String,Int64},Float32}[((\"states\",1),0.000155425),((\"possibility\",15),0.267356),((\"initially\",10),0.267787),((\"kingship\",1),0.270334),((\"rule\",20),0.276474)])\n",
      "(5536,Tuple{Tuple{String,Int64},Float32}[((\"states\",8),0.0),((\"self-determination\",1),0.241251),((\"participating\",15),0.257197),((\"solution\",15),0.260226),((\"officially\",14),0.267478)])\n"
     ]
    },
    {
     "data": {
      "text/plain": [
       "Void[nothing,nothing,nothing,nothing,nothing,nothing,nothing,nothing,nothing,nothing,nothing,nothing,nothing,nothing,nothing,nothing,nothing,nothing,nothing,nothing]"
      ]
     },
     "execution_count": 28,
     "metadata": {},
     "output_type": "execute_result"
    }
   ],
   "source": [
    "trained_times = collect(values(ee.trained_times[\"states\"]))\n",
    "items = sort(collect(zip(trained_times, nears)))\n",
    "map(println, items)"
   ]
  },
  {
   "cell_type": "code",
   "execution_count": 31,
   "metadata": {
    "collapsed": false,
    "scrolled": true
   },
   "outputs": [
    {
     "name": "stderr",
     "output_type": "stream",
     "text": [
      "WARNING: Method definition load_wordsim353() in module Main at In[29]:2 overwritten at In[31]:2.\n",
      "WARNING: Method definition load_wordsim353(Any) in module Main at In[29]:2 overwritten at In[31]:2.\n"
     ]
    },
    {
     "data": {
      "text/plain": [
       "(\n",
       "String[\"love\" \"sex\"; \"tiger\" \"cat\"; \"tiger\" \"tiger\"; \"book\" \"paper\"; \"computer\" \"keyboard\"; \"computer\" \"internet\"; \"plane\" \"car\"; \"train\" \"car\"; \"telephone\" \"communication\"; \"television\" \"radio\"; \"media\" \"radio\"; \"drug\" \"abuse\"; \"bread\" \"butter\"; \"cucumber\" \"potato\"; \"doctor\" \"nurse\"; \"professor\" \"doctor\"; \"student\" \"professor\"; \"smart\" \"student\"; \"smart\" \"stupid\"; \"company\" \"stock\"; \"stock\" \"market\"; \"stock\" \"phone\"; \"stock\" \"CD\"; \"stock\" \"jaguar\"; \"stock\" \"egg\"; \"fertility\" \"egg\"; \"stock\" \"live\"; \"stock\" \"life\"; \"book\" \"library\"; \"bank\" \"money\"; \"wood\" \"forest\"; \"money\" \"cash\"; \"professor\" \"cucumber\"; \"king\" \"cabbage\"; \"king\" \"queen\"; \"king\" \"rook\"; \"bishop\" \"rabbi\"; \"Jerusalem\" \"Israel\"; \"Jerusalem\" \"Palestinian\"; \"holy\" \"sex\"; \"fuck\" \"sex\"; \"Maradona\" \"football\"; \"football\" \"soccer\"; \"football\" \"basketball\"; \"football\" \"tennis\"; \"tennis\" \"racket\"; \"Arafat\" \"peace\"; \"Arafat\" \"terror\"; \"Arafat\" \"Jackson\"; \"law\" \"lawyer\"; \"movie\" \"star\"; \"movie\" \"popcorn\"; \"movie\" \"critic\"; \"movie\" \"theater\"; \"physics\" \"proton\"; \"physics\" \"chemistry\"; \"space\" \"chemistry\"; \"alcohol\" \"chemistry\"; \"vodka\" \"gin\"; \"vodka\" \"brandy\"; \"drink\" \"car\"; \"drink\" \"ear\"; \"drink\" \"mouth\"; \"drink\" \"eat\"; \"baby\" \"mother\"; \"drink\" \"mother\"; \"car\" \"automobile\"; \"gem\" \"jewel\"; \"journey\" \"voyage\"; \"boy\" \"lad\"; \"coast\" \"shore\"; \"asylum\" \"madhouse\"; \"magician\" \"wizard\"; \"midday\" \"noon\"; \"furnace\" \"stove\"; \"food\" \"fruit\"; \"bird\" \"cock\"; \"bird\" \"crane\"; \"tool\" \"implement\"; \"brother\" \"monk\"; \"crane\" \"implement\"; \"lad\" \"brother\"; \"journey\" \"car\"; \"monk\" \"oracle\"; \"cemetery\" \"woodland\"; \"food\" \"rooster\"; \"coast\" \"hill\"; \"forest\" \"graveyard\"; \"shore\" \"woodland\"; \"monk\" \"slave\"; \"coast\" \"forest\"; \"lad\" \"wizard\"; \"chord\" \"smile\"; \"glass\" \"magician\"; \"noon\" \"string\"; \"rooster\" \"voyage\"; \"money\" \"dollar\"; \"money\" \"cash\"; \"money\" \"currency\"; \"money\" \"wealth\"; \"money\" \"property\"; \"money\" \"possession\"; \"money\" \"bank\"; \"money\" \"deposit\"; \"money\" \"withdrawal\"; \"money\" \"laundering\"; \"money\" \"operation\"; \"tiger\" \"jaguar\"; \"tiger\" \"feline\"; \"tiger\" \"carnivore\"; \"tiger\" \"mammal\"; \"tiger\" \"animal\"; \"tiger\" \"organism\"; \"tiger\" \"fauna\"; \"tiger\" \"zoo\"; \"psychology\" \"psychiatry\"; \"psychology\" \"anxiety\"; \"psychology\" \"fear\"; \"psychology\" \"depression\"; \"psychology\" \"clinic\"; \"psychology\" \"doctor\"; \"psychology\" \"Freud\"; \"psychology\" \"mind\"; \"psychology\" \"health\"; \"psychology\" \"science\"; \"psychology\" \"discipline\"; \"psychology\" \"cognition\"; \"planet\" \"star\"; \"planet\" \"constellation\"; \"planet\" \"moon\"; \"planet\" \"sun\"; \"planet\" \"galaxy\"; \"planet\" \"space\"; \"planet\" \"astronomer\"; \"precedent\" \"example\"; \"precedent\" \"information\"; \"precedent\" \"cognition\"; \"precedent\" \"law\"; \"precedent\" \"collection\"; \"precedent\" \"group\"; \"precedent\" \"antecedent\"; \"cup\" \"coffee\"; \"cup\" \"tableware\"; \"cup\" \"article\"; \"cup\" \"artifact\"; \"cup\" \"object\"; \"cup\" \"entity\"; \"cup\" \"drink\"; \"cup\" \"food\"; \"cup\" \"substance\"; \"cup\" \"liquid\"; \"jaguar\" \"cat\"; \"jaguar\" \"car\"; \"energy\" \"secretary\"; \"secretary\" \"senate\"; \"energy\" \"laboratory\"; \"computer\" \"laboratory\"; \"weapon\" \"secret\"; \"FBI\" \"fingerprint\"; \"FBI\" \"investigation\"; \"investigation\" \"effort\"; \"Mars\" \"water\"; \"Mars\" \"scientist\"; \"news\" \"report\"; \"canyon\" \"landscape\"; \"image\" \"surface\"; \"discovery\" \"space\"; \"water\" \"seepage\"; \"sign\" \"recess\"; \"Wednesday\" \"news\"; \"mile\" \"kilometer\"; \"computer\" \"news\"; \"territory\" \"surface\"; \"atmosphere\" \"landscape\"; \"president\" \"medal\"; \"war\" \"troops\"; \"record\" \"number\"; \"skin\" \"eye\"; \"Japanese\" \"American\"; \"theater\" \"history\"; \"volunteer\" \"motto\"; \"prejudice\" \"recognition\"; \"decoration\" \"valor\"; \"century\" \"year\"; \"century\" \"nation\"; \"delay\" \"racism\"; \"delay\" \"news\"; \"minister\" \"party\"; \"peace\" \"plan\"; \"minority\" \"peace\"; \"attempt\" \"peace\"; \"government\" \"crisis\"; \"deployment\" \"departure\"; \"deployment\" \"withdrawal\"; \"energy\" \"crisis\"; \"announcement\" \"news\"; \"announcement\" \"effort\"; \"stroke\" \"hospital\"; \"disability\" \"death\"; \"victim\" \"emergency\"; \"treatment\" \"recovery\"; \"journal\" \"association\"; \"doctor\" \"personnel\"; \"doctor\" \"liability\"; \"liability\" \"insurance\"; \"school\" \"center\"; \"reason\" \"hypertension\"; \"reason\" \"criterion\"; \"hundred\" \"percent\"; \"Harvard\" \"Yale\"; \"hospital\" \"infrastructure\"; \"death\" \"row\"; \"death\" \"inmate\"; \"lawyer\" \"evidence\"; \"life\" \"death\"; \"life\" \"term\"; \"word\" \"similarity\"; \"board\" \"recommendation\"; \"governor\" \"interview\"; \"OPEC\" \"country\"; \"peace\" \"atmosphere\"; \"peace\" \"insurance\"; \"territory\" \"kilometer\"; \"travel\" \"activity\"; \"competition\" \"price\"; \"consumer\" \"confidence\"; \"consumer\" \"energy\"; \"problem\" \"airport\"; \"car\" \"flight\"; \"credit\" \"card\"; \"credit\" \"information\"; \"hotel\" \"reservation\"; \"grocery\" \"money\"; \"registration\" \"arrangement\"; \"arrangement\" \"accommodation\"; \"month\" \"hotel\"; \"type\" \"kind\"; \"arrival\" \"hotel\"; \"bed\" \"closet\"; \"closet\" \"clothes\"; \"situation\" \"conclusion\"; \"situation\" \"isolation\"; \"impartiality\" \"interest\"; \"direction\" \"combination\"; \"street\" \"place\"; \"street\" \"avenue\"; \"street\" \"block\"; \"street\" \"children\"; \"listing\" \"proximity\"; \"listing\" \"category\"; \"cell\" \"phone\"; \"production\" \"hike\"; \"benchmark\" \"index\"; \"media\" \"trading\"; \"media\" \"gain\"; \"dividend\" \"payment\"; \"dividend\" \"calculation\"; \"calculation\" \"computation\"; \"currency\" \"market\"; \"OPEC\" \"oil\"; \"oil\" \"stock\"; \"announcement\" \"production\"; \"announcement\" \"warning\"; \"profit\" \"warning\"; \"profit\" \"loss\"; \"dollar\" \"yen\"; \"dollar\" \"buck\"; \"dollar\" \"profit\"; \"dollar\" \"loss\"; \"computer\" \"software\"; \"network\" \"hardware\"; \"phone\" \"equipment\"; \"equipment\" \"maker\"; \"luxury\" \"car\"; \"five\" \"month\"; \"report\" \"gain\"; \"investor\" \"earning\"; \"liquid\" \"water\"; \"baseball\" \"season\"; \"game\" \"victory\"; \"game\" \"team\"; \"marathon\" \"sprint\"; \"game\" \"series\"; \"game\" \"defeat\"; \"seven\" \"series\"; \"seafood\" \"sea\"; \"seafood\" \"food\"; \"seafood\" \"lobster\"; \"lobster\" \"food\"; \"lobster\" \"wine\"; \"food\" \"preparation\"; \"video\" \"archive\"; \"start\" \"year\"; \"start\" \"match\"; \"game\" \"round\"; \"boxing\" \"round\"; \"championship\" \"tournament\"; \"fighting\" \"defeating\"; \"line\" \"insurance\"; \"day\" \"summer\"; \"summer\" \"drought\"; \"summer\" \"nature\"; \"day\" \"dawn\"; \"nature\" \"environment\"; \"environment\" \"ecology\"; \"nature\" \"man\"; \"man\" \"woman\"; \"man\" \"governor\"; \"murder\" \"manslaughter\"; \"soap\" \"opera\"; \"opera\" \"performance\"; \"life\" \"lesson\"; \"focus\" \"life\"; \"production\" \"crew\"; \"television\" \"film\"; \"lover\" \"quarrel\"; \"viewer\" \"serial\"; \"possibility\" \"girl\"; \"population\" \"development\"; \"morality\" \"importance\"; \"morality\" \"marriage\"; \"Mexico\" \"Brazil\"; \"gender\" \"equality\"; \"change\" \"attitude\"; \"family\" \"planning\"; \"opera\" \"industry\"; \"sugar\" \"approach\"; \"practice\" \"institution\"; \"ministry\" \"culture\"; \"problem\" \"challenge\"; \"size\" \"prominence\"; \"country\" \"citizen\"; \"planet\" \"people\"; \"development\" \"issue\"; \"experience\" \"music\"; \"music\" \"project\"; \"glass\" \"metal\"; \"aluminum\" \"metal\"; \"chance\" \"credibility\"; \"exhibit\" \"memorabilia\"; \"concert\" \"virtuoso\"; \"rock\" \"jazz\"; \"museum\" \"theater\"; \"observation\" \"architecture\"; \"space\" \"world\"; \"preservation\" \"world\"; \"admission\" \"ticket\"; \"shower\" \"thunderstorm\"; \"shower\" \"flood\"; \"weather\" \"forecast\"; \"disaster\" \"area\"; \"governor\" \"office\"; \"architecture\" \"century\"],\n",
       "\n",
       "[6.77,7.35,10.0,7.46,7.62,7.58,5.77,6.31,7.5,6.77,7.42,6.85,6.19,5.92,7.0,6.62,6.81,4.62,5.81,7.08,8.08,1.62,1.31,0.92,1.81,6.69,3.73,0.92,7.46,8.12,7.73,9.15,0.31,0.23,8.58,5.92,6.69,8.46,7.65,1.62,9.44,8.62,9.03,6.81,6.63,7.56,6.73,7.65,2.5,8.38,7.38,6.19,6.73,7.92,8.12,7.35,4.88,5.54,8.46,8.13,3.04,1.31,5.96,6.87,7.85,2.65,8.94,8.96,9.29,8.83,9.1,8.87,9.02,9.29,8.79,7.52,7.1,7.38,6.46,6.27,2.69,4.46,5.85,5.0,2.08,4.42,4.38,1.85,3.08,0.92,3.15,0.92,0.54,2.08,0.54,0.62,8.42,9.08,9.04,8.27,7.57,7.29,8.5,7.73,6.88,5.65,3.31,8.0,8.0,7.08,6.85,7.0,4.77,5.62,5.87,8.08,7.0,6.85,7.42,6.58,6.42,8.21,7.69,7.23,6.71,5.58,7.48,8.45,8.06,8.08,8.02,8.11,7.92,7.94,5.85,3.85,2.81,6.65,2.5,1.77,6.04,6.58,6.85,2.4,2.92,3.69,2.15,7.25,5.0,1.92,5.9,7.42,7.27,1.81,5.06,5.09,6.78,6.06,6.94,8.31,4.59,2.94,5.63,8.16,7.53,4.56,6.34,6.56,2.38,2.22,8.66,4.47,5.34,3.69,3.0,8.13,6.31,6.22,6.5,3.91,2.56,3.0,5.63,7.59,3.16,1.19,3.31,6.63,4.75,3.69,4.25,6.56,4.25,5.88,5.94,7.56,2.75,7.03,5.47,6.47,7.91,4.97,5.0,5.19,7.03,3.44,2.31,5.91,7.38,8.13,4.63,5.25,5.03,6.69,7.88,4.5,4.75,4.47,3.25,5.63,3.69,2.94,5.28,5.0,6.44,4.13,4.75,2.38,4.94,8.06,5.31,8.03,5.94,6.0,5.41,1.81,8.97,6.0,6.72,8.0,4.81,3.88,5.16,2.25,6.44,8.88,6.88,4.94,2.56,6.38,7.81,1.75,4.25,3.88,2.88,7.63,6.48,8.44,7.5,8.59,6.34,3.38,6.0,3.88,7.63,7.78,9.22,7.38,6.09,8.5,8.31,7.13,5.91,6.47,3.38,3.63,7.13,7.89,5.97,7.03,7.69,7.47,6.19,6.97,3.56,7.47,8.34,8.7,7.81,5.7,6.22,6.34,4.06,4.47,5.97,7.61,8.36,7.41,2.69,3.94,7.16,5.63,7.53,8.31,8.81,6.25,8.3,5.25,8.53,7.94,6.88,5.94,4.06,6.25,7.72,6.19,2.97,1.94,3.75,3.31,3.69,7.44,6.41,5.44,6.25,2.63,0.88,3.19,4.69,6.75,5.31,7.31,5.75,3.97,3.47,3.63,5.56,7.83,3.88,5.31,6.81,7.59,7.19,4.38,6.53,6.19,7.69,6.31,6.03,8.34,6.25,6.34,3.78])"
      ]
     },
     "execution_count": 31,
     "metadata": {},
     "output_type": "execute_result"
    }
   ],
   "source": [
    "function load_wordsim353(filename=\"data/corpora/wordsim353/combined.csv\")\n",
    "    wordsims = readdlm(filename, ','; skipstart=1)\n",
    "    wordpairs = convert(Matrix{String},wordsims[:,1:2])\n",
    "    groundsim = convert(Vector{Float64},wordsims[:,3])\n",
    "    (wordpairs, groundsim)\n",
    "end\n",
    "wordpairs, groundsim = load_wordsim353()"
   ]
  },
  {
   "cell_type": "code",
   "execution_count": null,
   "metadata": {
    "collapsed": false,
    "scrolled": true
   },
   "outputs": [
    {
     "name": "stdout",
     "output_type": "stream",
     "text": [
      "2016-07-05T19:30:21.263 - warn: KeyError: key \"aglow\" not found prefix: \"error: \"\n",
      "2016-07-05T19:30:22.882 - warn: KeyError: key \"angstrom\" not found prefix: \"error: \"\n",
      "2016-07-05T19:30:23.53 - warn: KeyError: key \"litigate\" not found prefix: \"error: \"\n",
      "2016-07-05T19:30:23.695 - warn: KeyError: key \"arpeggio\" not found prefix: \"error: \"\n",
      "2016-07-05T19:30:24.257 - warn: KeyError: key \"recombine\" not found prefix: \"error: \"\n",
      "2016-07-05T19:30:24.779 - warn: KeyError: key \"gherkin\" not found prefix: \"error: \"\n",
      "2016-07-05T19:30:24.945 - warn: KeyError: key \"smother\" not found prefix: \"error: \"\n",
      "2016-07-05T19:30:25.452 - warn: KeyError: key \"qibla\" not found prefix: \"error: \"\n",
      "2016-07-05T19:30:25.454 - warn: KeyError: key \"anorgasmia\" not found prefix: \"error: \"\n",
      "2016-07-05T19:30:25.847 - warn: KeyError: key \"neckline\" not found prefix: \"error: \"\n",
      "2016-07-05T19:30:26.196 - warn: KeyError: key \"backdate\" not found prefix: \"error: \"\n",
      "2016-07-05T19:30:26.218 - warn: KeyError: key \"repercussion\" not found prefix: \"error: \"\n",
      "2016-07-05T19:30:26.385 - warn: KeyError: key \"sameness\" not found prefix: \"error: \"\n",
      "2016-07-05T19:30:26.514 - warn: KeyError: key \"notarize\" not found prefix: \"error: \"\n",
      "2016-07-05T19:30:27.23 - warn: KeyError: key \"distinctness\" not found prefix: \"error: \"\n",
      "2016-07-05T19:30:27.793 - warn: KeyError: key \"parlay\" not found prefix: \"error: \"\n",
      "2016-07-05T19:30:28.423 - warn: KeyError: key \"calorific\" not found prefix: \"error: \"\n",
      "2016-07-05T19:30:29.07 - warn: KeyError: key \"unblock\" not found prefix: \"error: \"\n",
      "2016-07-05T19:30:30.216 - warn: KeyError: key \"wastage\" not found prefix: \"error: \"\n",
      "2016-07-05T19:30:30.354 - warn: KeyError: key \"devalue\" not found prefix: \"error: \"\n",
      "2016-07-05T19:30:30.378 - warn: KeyError: key \"escapologist\" not found prefix: \"error: \"\n",
      "2016-07-05T19:30:30.616 - warn: KeyError: key \"matchstick\" not found prefix: \"error: \"\n",
      "2016-07-05T19:30:30.783 - warn: KeyError: key \"demerit\" not found prefix: \"error: \"\n",
      "2016-07-05T19:30:30.821 - warn: KeyError: key \"tombac\" not found prefix: \"error: \"\n",
      "2016-07-05T19:30:30.915 - warn: KeyError: key \"nutriment\" not found prefix: \"error: \"\n",
      "2016-07-05T19:30:33.363 - warn: KeyError: key \"hellenism\" not found prefix: \"error: \"\n",
      "2016-07-05T19:30:33.47 - warn: KeyError: key \"poser\" not found prefix: \"error: \"\n",
      "2016-07-05T19:30:33.602 - warn: KeyError: key \"moneymaker\" not found prefix: \"error: \"\n",
      "2016-07-05T19:30:33.819 - warn: KeyError: key \"louden\" not found prefix: \"error: \"\n",
      "2016-07-05T19:30:34.137 - warn: KeyError: key \"abbreviate\" not found prefix: \"error: \"\n",
      "2016-07-05T19:30:34.138 - warn: KeyError: key \"bated\" not found prefix: \"error: \"\n",
      "2016-07-05T19:30:34.467 - warn: KeyError: key \"chondrite\" not found prefix: \"error: \"\n",
      "2016-07-05T19:30:34.607 - warn: KeyError: key \"damask\" not found prefix: \"error: \"\n",
      "2016-07-05T19:30:34.74 - warn: KeyError: key \"crepe\" not found prefix: \"error: \"\n",
      "2016-07-05T19:30:34.941 - warn: KeyError: key \"cosmographer\" not found prefix: \"error: \"\n",
      "2016-07-05T19:30:35.149 - warn: KeyError: key \"exudation\" not found prefix: \"error: \"\n",
      "2016-07-05T19:30:35.289 - warn: KeyError: key \"foreplay\" not found prefix: \"error: \"\n",
      "2016-07-05T19:30:35.311 - warn: KeyError: key \"worksheet\" not found prefix: \"error: \"\n",
      "2016-07-05T19:30:35.452 - warn: KeyError: key \"grapeshot\" not found prefix: \"error: \"\n",
      "2016-07-05T19:30:36.699 - warn: KeyError: key \"insubordinate\" not found prefix: \"error: \"\n",
      "2016-07-05T19:30:38.024 - warn: KeyError: key \"nonexistence\" not found prefix: \"error: \"\n",
      "2016-07-05T19:30:38.373 - warn: KeyError: key \"wetness\" not found prefix: \"error: \"\n",
      "2016-07-05T19:30:38.381 - warn: KeyError: key \"light-skinned\" not found prefix: \"error: \"\n",
      "2016-07-05T19:30:38.867 - warn: KeyError: key \"relearn\" not found prefix: \"error: \"\n",
      "2016-07-05T19:30:38.908 - warn: KeyError: key \"arpeggio\" not found prefix: \"error: \"\n",
      "2016-07-05T19:30:38.909 - warn: KeyError: key \"damask\" not found prefix: \"error: \"\n",
      "2016-07-05T19:30:38.978 - warn: KeyError: key \"nonprofessional\" not found prefix: \"error: \"\n",
      "2016-07-05T19:30:39.092 - warn: KeyError: key \"damask\" not found prefix: \"error: \"\n",
      "2016-07-05T19:30:39.175 - warn: KeyError: key \"hailstone\" not found prefix: \"error: \"\n",
      "2016-07-05T19:30:39.319 - warn: KeyError: key \"chondrite\" not found prefix: \"error: \"\n",
      "2016-07-05T19:30:39.395 - warn: KeyError: key \"calorific\" not found prefix: \"error: \"\n",
      "2016-07-05T19:30:39.45 - warn: KeyError: key \"chondrite\" not found prefix: \"error: \"\n",
      "2016-07-05T19:30:39.466 - warn: KeyError: key \"impermanent\" not found prefix: \"error: \"\n",
      "2016-07-05T19:30:39.503 - warn: KeyError: key \"solemnize\" not found prefix: \"error: \"\n"
     ]
    },
    {
     "data": {
      "text/plain": [
       "0.36608622781802247"
      ]
     },
     "execution_count": 38,
     "metadata": {},
     "output_type": "execute_result"
    }
   ],
   "source": [
    "function get_sims(ee::FixedWordSenseEmbedding, wordpairs::Matrix{String})\n",
    "    sims = Vector{Float64}(size(wordpairs,1))\n",
    "    for ii in 1:size(wordpairs,1)\n",
    "        try\n",
    "            wvs_1 = hcat(ee.embedding[wordpairs[ii,1]]...)\n",
    "            wvs_2 = hcat(ee.embedding[wordpairs[ii,2]]...)\n",
    "            sims[ii]=1-minimum(pairwise(CosineDist(), wvs_1,wvs_2))\n",
    "        catch ex\n",
    "            warn(ex)\n",
    "            sims[ii]=NaN\n",
    "        end\n",
    "    end\n",
    "    return sims\n",
    "end\n",
    "sims = get_sims(ee,map(lowercase,wordpairs))\n",
    "corspearman(groundsim,sims)"
   ]
  },
  {
   "cell_type": "code",
   "execution_count": null,
   "metadata": {
    "collapsed": false
   },
   "outputs": [],
   "source": []
  },
  {
   "cell_type": "code",
   "execution_count": 34,
   "metadata": {
    "collapsed": false,
    "scrolled": true
   },
   "outputs": [
    {
     "data": {
      "text/plain": [
       "\"\""
      ]
     },
     "execution_count": 34,
     "metadata": {},
     "output_type": "execute_result"
    }
   ],
   "source": [
    "function load_SCWS(filename = \"data/corpora/SCWS/ratings.txt\")\n",
    "    function get_context2(fulltext)\n",
    "        Task() do\n",
    "            skip_next = 0\n",
    "            for word in split(fulltext, ' ')\n",
    "                skip_next-=1\n",
    "                if word == \"<b>\"\n",
    "                    skip_next=3 \n",
    "                end\n",
    "                skip_next>0 && continue\n",
    "                produce(lowercase(word))\n",
    "            end\n",
    "        end |> collect\n",
    "    end\n",
    "    entries = readdlm(filename, '\\t', String; quotes=false, comments=false)\n",
    "    wordpairs = map(lowercase,entries[:,[2,4]])\n",
    "    groundsim = map(s->parse(Float64,s), entries[:,8])\n",
    "    contexts = map(get_context2,entries[:,[6,7]])\n",
    "    (wordpairs,contexts,groundsim,)\n",
    "end\n",
    "wordpairs,contexts,groundsim = load_SCWS();\n",
    "\"\""
   ]
  },
  {
   "cell_type": "code",
   "execution_count": null,
   "metadata": {
    "collapsed": false,
    "scrolled": true
   },
   "outputs": [
    {
     "name": "stdout",
     "output_type": "stream",
     "text": [
      "2016-07-05T19:29:09.719 - warn: KeyError: key \"aglow\" not found prefix: \"error: \"\n",
      "2016-07-05T19:29:12.812 - warn: KeyError: key \"tip-off\" not found prefix: \"error: \"\n",
      "2016-07-05T19:29:13.186 - warn: KeyError: key \"exhale\" not found prefix: \"error: \"\n",
      "2016-07-05T19:29:13.187 - warn: KeyError: key \"insufflate\" not found prefix: \"error: \"\n",
      "2016-07-05T19:29:13.546 - warn: KeyError: key \"angstrom\" not found prefix: \"error: \"\n",
      "2016-07-05T19:29:14.548 - warn: KeyError: key \"litigate\" not found prefix: \"error: \"\n",
      "2016-07-05T19:29:14.87 - warn: KeyError: key \"arpeggio\" not found prefix: \"error: \"\n",
      "2016-07-05T19:29:15.871 - warn: KeyError: key \"recombine\" not found prefix: \"error: \"\n",
      "2016-07-05T19:29:16.763 - warn: KeyError: key \"gherkin\" not found prefix: \"error: \"\n",
      "2016-07-05T19:29:17.054 - warn: KeyError: key \"smother\" not found prefix: \"error: \"\n",
      "2016-07-05T19:29:17.954 - warn: KeyError: key \"qibla\" not found prefix: \"error: \"\n",
      "2016-07-05T19:29:17.956 - warn: KeyError: key \"anorgasmia\" not found prefix: \"error: \"\n",
      "2016-07-05T19:29:18.654 - warn: KeyError: key \"neckline\" not found prefix: \"error: \"\n",
      "2016-07-05T19:29:19.253 - warn: KeyError: key \"backdate\" not found prefix: \"error: \"\n",
      "2016-07-05T19:29:19.3 - warn: KeyError: key \"repercussion\" not found prefix: \"error: \"\n",
      "2016-07-05T19:29:19.595 - warn: KeyError: key \"sameness\" not found prefix: \"error: \"\n",
      "2016-07-05T19:29:19.828 - warn: KeyError: key \"notarize\" not found prefix: \"error: \"\n",
      "2016-07-05T19:29:21.185 - warn: KeyError: key \"distinctness\" not found prefix: \"error: \"\n",
      "2016-07-05T19:29:22.27 - warn: KeyError: key \"parlay\" not found prefix: \"error: \"\n",
      "2016-07-05T19:29:23.403 - warn: KeyError: key \"calorific\" not found prefix: \"error: \"\n",
      "2016-07-05T19:29:24.553 - warn: KeyError: key \"unblock\" not found prefix: \"error: \"\n",
      "2016-07-05T19:29:26.409 - warn: KeyError: key \"wastage\" not found prefix: \"error: \"\n",
      "2016-07-05T19:29:26.654 - warn: KeyError: key \"devalue\" not found prefix: \"error: \"\n",
      "2016-07-05T19:29:26.692 - warn: KeyError: key \"escapologist\" not found prefix: \"error: \"\n",
      "2016-07-05T19:29:27.133 - warn: KeyError: key \"matchstick\" not found prefix: \"error: \"\n",
      "2016-07-05T19:29:27.404 - warn: KeyError: key \"demerit\" not found prefix: \"error: \"\n",
      "2016-07-05T19:29:27.44 - warn: KeyError: key \"tombac\" not found prefix: \"error: \"\n",
      "2016-07-05T19:29:27.614 - warn: KeyError: key \"nutriment\" not found prefix: \"error: \"\n",
      "2016-07-05T19:29:31.565 - warn: KeyError: key \"hellenism\" not found prefix: \"error: \"\n",
      "2016-07-05T19:29:31.767 - warn: KeyError: key \"poser\" not found prefix: \"error: \"\n",
      "2016-07-05T19:29:31.997 - warn: KeyError: key \"moneymaker\" not found prefix: \"error: \"\n",
      "2016-07-05T19:29:32.335 - warn: KeyError: key \"louden\" not found prefix: \"error: \"\n",
      "2016-07-05T19:29:32.9 - warn: KeyError: key \"abbreviate\" not found prefix: \"error: \"\n",
      "2016-07-05T19:29:32.914 - warn: KeyError: key \"bated\" not found prefix: \"error: \"\n",
      "2016-07-05T19:29:33.485 - warn: KeyError: key \"chondrite\" not found prefix: \"error: \"\n",
      "2016-07-05T19:29:33.746 - warn: KeyError: key \"damask\" not found prefix: \"error: \"\n",
      "2016-07-05T19:29:34.002 - warn: KeyError: key \"crepe\" not found prefix: \"error: \"\n",
      "2016-07-05T19:29:34.429 - warn: KeyError: key \"cosmographer\" not found prefix: \"error: \"\n",
      "2016-07-05T19:29:34.817 - warn: KeyError: key \"exudation\" not found prefix: \"error: \"\n",
      "2016-07-05T19:29:35.06 - warn: KeyError: key \"foreplay\" not found prefix: \"error: \"\n",
      "2016-07-05T19:29:35.096 - warn: KeyError: key \"worksheet\" not found prefix: \"error: \"\n",
      "2016-07-05T19:29:35.369 - warn: KeyError: key \"grapeshot\" not found prefix: \"error: \"\n",
      "2016-07-05T19:29:37.497 - warn: KeyError: key \"insubordinate\" not found prefix: \"error: \"\n",
      "2016-07-05T19:29:40.03 - warn: KeyError: key \"nonexistence\" not found prefix: \"error: \"\n",
      "2016-07-05T19:29:40.617 - warn: KeyError: key \"wetness\" not found prefix: \"error: \"\n",
      "2016-07-05T19:29:40.639 - warn: KeyError: key \"light-skinned\" not found prefix: \"error: \"\n",
      "2016-07-05T19:29:41.563 - warn: KeyError: key \"relearn\" not found prefix: \"error: \"\n",
      "2016-07-05T19:29:41.653 - warn: KeyError: key \"arpeggio\" not found prefix: \"error: \"\n",
      "2016-07-05T19:29:41.655 - warn: KeyError: key \"damask\" not found prefix: \"error: \"\n",
      "2016-07-05T19:29:41.809 - warn: KeyError: key \"nonprofessional\" not found prefix: \"error: \"\n",
      "2016-07-05T19:29:41.972 - warn: KeyError: key \"damask\" not found prefix: \"error: \"\n",
      "2016-07-05T19:29:42.115 - warn: KeyError: key \"hailstone\" not found prefix: \"error: \"\n",
      "2016-07-05T19:29:42.36 - warn: KeyError: key \"chondrite\" not found prefix: \"error: \"\n",
      "2016-07-05T19:29:42.464 - warn: KeyError: key \"calorific\" not found prefix: \"error: \"\n",
      "2016-07-05T19:29:42.584 - warn: KeyError: key \"chondrite\" not found prefix: \"error: \"\n",
      "2016-07-05T19:29:42.608 - warn: KeyError: key \"impermanent\" not found prefix: \"error: \"\n",
      "2016-07-05T19:29:42.66 - warn: KeyError: key \"solemnize\" not found prefix: \"error: \"\n"
     ]
    },
    {
     "data": {
      "text/plain": [
       "0.33274357219353984"
      ]
     },
     "execution_count": 36,
     "metadata": {},
     "output_type": "execute_result"
    }
   ],
   "source": [
    "function get_sims(ee::FixedWordSenseEmbedding, wordpairs::Matrix{String}, contexts::Matrix)\n",
    "    sims = Vector{Float64}(size(wordpairs,1))\n",
    "    for ii in 1:size(wordpairs,1)\n",
    "        try\n",
    "            \n",
    "            sense1 = Training.WSD(ee, wordpairs[ii,1],contexts[ii,1];skip_oov=true)\n",
    "            wv1 = ee.embedding[wordpairs[ii,1]][sense1]\n",
    "            \n",
    "            sense2 = Training.WSD(ee, wordpairs[ii,2],contexts[ii,2];skip_oov=true)\n",
    "            wv2 = ee.embedding[wordpairs[ii,2]][sense2]\n",
    "            \n",
    "            sims[ii]=1-cosine_dist(wv1,wv2)\n",
    "        catch ex\n",
    "            if typeof(ex)==KeyError\n",
    "                warn(ex)\n",
    "                sims[ii]=NaN\n",
    "            else\n",
    "                rethrow(ex)\n",
    "            end\n",
    "        end\n",
    "    end\n",
    "    return sims\n",
    "end\n",
    "local_sims = get_sims(ee,wordpairs,contexts)\n",
    "corspearman(groundsim,local_sims)"
   ]
  },
  {
   "cell_type": "code",
   "execution_count": null,
   "metadata": {
    "collapsed": false
   },
   "outputs": [
    {
     "name": "stdout",
     "output_type": "stream",
     "text": [
      "2016-07-05T19:48:51.151 - warn: KeyError: key \"aglow\" not found prefix: \"error: \"\n",
      "2016-07-05T19:48:53.342 - warn: KeyError: key \"tip-off\" not found prefix: \"error: \"\n",
      "2016-07-05T19:48:53.752 - warn: KeyError: key \"exhale\" not found prefix: \"error: \"\n",
      "2016-07-05T19:48:53.755 - warn: KeyError: key \"insufflate\" not found prefix: \"error: \"\n",
      "2016-07-05T19:48:54.154 - warn: KeyError: key \"angstrom\" not found prefix: \"error: \"\n",
      "2016-07-05T19:48:55.249 - warn: KeyError: key \"litigate\" not found prefix: \"error: \"\n",
      "2016-07-05T19:48:55.542 - warn: KeyError: key \"arpeggio\" not found prefix: \"error: \"\n",
      "2016-07-05T19:48:56.569 - warn: KeyError: key \"recombine\" not found prefix: \"error: \"\n",
      "2016-07-05T19:48:57.469 - warn: KeyError: key \"gherkin\" not found prefix: \"error: \"\n",
      "2016-07-05T19:48:57.754 - warn: KeyError: key \"smother\" not found prefix: \"error: \"\n",
      "2016-07-05T19:48:58.633 - warn: KeyError: key \"qibla\" not found prefix: \"error: \"\n",
      "2016-07-05T19:48:58.636 - warn: KeyError: key \"anorgasmia\" not found prefix: \"error: \"\n",
      "2016-07-05T19:48:59.329 - warn: KeyError: key \"neckline\" not found prefix: \"error: \"\n",
      "2016-07-05T19:48:59.914 - warn: KeyError: key \"backdate\" not found prefix: \"error: \"\n",
      "2016-07-05T19:48:59.964 - warn: KeyError: key \"repercussion\" not found prefix: \"error: \"\n",
      "2016-07-05T19:49:00.281 - warn: KeyError: key \"sameness\" not found prefix: \"error: \"\n",
      "2016-07-05T19:49:00.54 - warn: KeyError: key \"notarize\" not found prefix: \"error: \"\n",
      "2016-07-05T19:49:01.965 - warn: KeyError: key \"distinctness\" not found prefix: \"error: \"\n",
      "2016-07-05T19:49:03.033 - warn: KeyError: key \"parlay\" not found prefix: \"error: \"\n",
      "2016-07-05T19:49:04.175 - warn: KeyError: key \"calorific\" not found prefix: \"error: \"\n",
      "2016-07-05T19:49:05.33 - warn: KeyError: key \"unblock\" not found prefix: \"error: \"\n",
      "2016-07-05T19:49:07.298 - warn: KeyError: key \"wastage\" not found prefix: \"error: \"\n",
      "2016-07-05T19:49:07.541 - warn: KeyError: key \"devalue\" not found prefix: \"error: \"\n",
      "2016-07-05T19:49:07.584 - warn: KeyError: key \"escapologist\" not found prefix: \"error: \"\n",
      "2016-07-05T19:49:08.016 - warn: KeyError: key \"matchstick\" not found prefix: \"error: \"\n",
      "2016-07-05T19:49:08.315 - warn: KeyError: key \"demerit\" not found prefix: \"error: \"\n",
      "2016-07-05T19:49:08.354 - warn: KeyError: key \"tombac\" not found prefix: \"error: \"\n",
      "2016-07-05T19:49:08.538 - warn: KeyError: key \"nutriment\" not found prefix: \"error: \"\n",
      "2016-07-05T19:49:12.8 - warn: KeyError: key \"hellenism\" not found prefix: \"error: \"\n",
      "2016-07-05T19:49:13.008 - warn: KeyError: key \"poser\" not found prefix: \"error: \"\n",
      "2016-07-05T19:49:13.256 - warn: KeyError: key \"moneymaker\" not found prefix: \"error: \"\n",
      "2016-07-05T19:49:13.642 - warn: KeyError: key \"louden\" not found prefix: \"error: \"\n",
      "2016-07-05T19:49:14.201 - warn: KeyError: key \"abbreviate\" not found prefix: \"error: \"\n",
      "2016-07-05T19:49:14.214 - warn: KeyError: key \"bated\" not found prefix: \"error: \"\n",
      "2016-07-05T19:49:14.8 - warn: KeyError: key \"chondrite\" not found prefix: \"error: \"\n",
      "2016-07-05T19:49:15.059 - warn: KeyError: key \"damask\" not found prefix: \"error: \"\n",
      "2016-07-05T19:49:15.311 - warn: KeyError: key \"crepe\" not found prefix: \"error: \"\n",
      "2016-07-05T19:49:15.738 - warn: KeyError: key \"cosmographer\" not found prefix: \"error: \"\n",
      "2016-07-05T19:49:16.095 - warn: KeyError: key \"exudation\" not found prefix: \"error: \"\n",
      "2016-07-05T19:49:16.349 - warn: KeyError: key \"foreplay\" not found prefix: \"error: \"\n",
      "2016-07-05T19:49:16.418 - warn: KeyError: key \"worksheet\" not found prefix: \"error: \"\n",
      "2016-07-05T19:49:16.691 - warn: KeyError: key \"grapeshot\" not found prefix: \"error: \"\n",
      "2016-07-05T19:49:18.749 - warn: KeyError: key \"insubordinate\" not found prefix: \"error: \"\n",
      "2016-07-05T19:49:21.336 - warn: KeyError: key \"nonexistence\" not found prefix: \"error: \"\n",
      "2016-07-05T19:49:22.012 - warn: KeyError: key \"wetness\" not found prefix: \"error: \"\n",
      "2016-07-05T19:49:22.038 - warn: KeyError: key \"light-skinned\" not found prefix: \"error: \"\n",
      "2016-07-05T19:49:22.942 - warn: KeyError: key \"relearn\" not found prefix: \"error: \"\n",
      "2016-07-05T19:49:23.011 - warn: KeyError: key \"arpeggio\" not found prefix: \"error: \"\n",
      "2016-07-05T19:49:23.013 - warn: KeyError: key \"damask\" not found prefix: \"error: \"\n",
      "2016-07-05T19:49:23.158 - warn: KeyError: key \"nonprofessional\" not found prefix: \"error: \"\n",
      "2016-07-05T19:49:23.328 - warn: KeyError: key \"damask\" not found prefix: \"error: \"\n",
      "2016-07-05T19:49:23.436 - warn: KeyError: key \"hailstone\" not found prefix: \"error: \"\n",
      "2016-07-05T19:49:23.681 - warn: KeyError: key \"chondrite\" not found prefix: \"error: \"\n",
      "2016-07-05T19:49:23.831 - warn: KeyError: key \"calorific\" not found prefix: \"error: \"\n",
      "2016-07-05T19:49:23.945 - warn: KeyError: key \"chondrite\" not found prefix: \"error: \"\n",
      "2016-07-05T19:49:23.999 - warn: KeyError: key \"impermanent\" not found prefix: \"error: \"\n",
      "2016-07-05T19:49:24.063 - warn: KeyError: key \"solemnize\" not found prefix: \"error: \"\n"
     ]
    },
    {
     "data": {
      "text/plain": [
       "0.5111245622908596"
      ]
     },
     "execution_count": 43,
     "metadata": {},
     "output_type": "execute_result"
    }
   ],
   "source": [
    "\n",
    "function weighted_average(logprobs, embeddings)\n",
    "    function normal_probs(logprobs::Vector)\n",
    "        ret = copy(logprobs)\n",
    "        max_lp = maximum(logprobs)\n",
    "        ret.-=max_lp #Bring closer to zero\n",
    "        map!(exp,ret)\n",
    "        denom = sum(ret)\n",
    "        ret./=denom\n",
    "    end\n",
    "    \n",
    "    \n",
    "    ret = zeros(size(embeddings[1]))\n",
    "    for (weight, embedding) in zip(normal_probs(logprobs), embeddings)\n",
    "        ret.+= weight*embedding\n",
    "    end\n",
    "    ret\n",
    "end\n",
    "\n",
    "function all_logprobs_of_context(embed, context, middle_word)\n",
    "    [Query.logprob_of_context(embed, context,wv; skip_oov=true, normalise_over_length=true)\n",
    "        for wv in embed.embedding[middle_word]]\n",
    "end\n",
    "\n",
    "function synthesize_embedding(ee,context, middle_word)\n",
    "    logprobs = all_logprobs_of_context(ee, context,middle_word)\n",
    "    weighted_average(logprobs, ee.embedding[middle_word])\n",
    "end\n",
    "\n",
    "function get_sims(ee::FixedWordSenseEmbedding, wordpairs::Matrix{String}, contexts::Matrix)\n",
    "    sims = Vector{Float64}(size(wordpairs,1))\n",
    "    for ii in 1:size(wordpairs,1)\n",
    "        try           \n",
    "            wv1 = synthesize_embedding(ee, contexts[ii,1],wordpairs[ii,1])\n",
    "            wv2 = synthesize_embedding(ee, contexts[ii,2],wordpairs[ii,2])\n",
    "             \n",
    "            \n",
    "            sims[ii]=1-cosine_dist(wv1,wv2)\n",
    "        catch ex\n",
    "            if typeof(ex)==KeyError\n",
    "                warn(ex)\n",
    "                sims[ii]=NaN\n",
    "            else\n",
    "                rethrow(ex)\n",
    "            end\n",
    "        end\n",
    "    end\n",
    "    return sims\n",
    "end\n",
    "local_sims = get_sims(ee,wordpairs,contexts)\n",
    "corspearman(groundsim,local_sims)"
   ]
  },
  {
   "cell_type": "code",
   "execution_count": 40,
   "metadata": {
    "collapsed": false
   },
   "outputs": [
    {
     "data": {
      "text/latex": [
       "No documentation found.\n",
       "\\texttt{Query.logprob_of_context} is a \\texttt{Function}.\n",
       "\\begin{verbatim}\n",
       "# 2 methods for generic function \"logprob_of_context\":\n",
       "logprob_of_context{S<:String}(embed::WordEmbeddings.WordEmbedding, context::AbstractArray{S,1}, middle_word::S) at /mnt_volume/phd/prototypes/SenseSplittingWord2Vec/src/Query.jl:142\n",
       "logprob_of_context{S<:String}(embed::WordEmbeddings.GenWordEmbedding, context::AbstractArray{S,1}, input::Array{Float32,1}; skip_oov, normalise_over_length) at /mnt_volume/phd/prototypes/SenseSplittingWord2Vec/src/Query.jl:148\n",
       "\\end{verbatim}\n"
      ],
      "text/markdown": [
       "No documentation found.\n",
       "\n",
       "`Query.logprob_of_context` is a `Function`.\n",
       "\n",
       "```\n",
       "# 2 methods for generic function \"logprob_of_context\":\n",
       "logprob_of_context{S<:String}(embed::WordEmbeddings.WordEmbedding, context::AbstractArray{S,1}, middle_word::S) at /mnt_volume/phd/prototypes/SenseSplittingWord2Vec/src/Query.jl:142\n",
       "logprob_of_context{S<:String}(embed::WordEmbeddings.GenWordEmbedding, context::AbstractArray{S,1}, input::Array{Float32,1}; skip_oov, normalise_over_length) at /mnt_volume/phd/prototypes/SenseSplittingWord2Vec/src/Query.jl:148\n",
       "```\n"
      ],
      "text/plain": [
       "No documentation found.\n",
       "\n",
       "`Query.logprob_of_context` is a `Function`.\n",
       "\n",
       "```\n",
       "# 2 methods for generic function \"logprob_of_context\":\n",
       "logprob_of_context{S<:String}(embed::WordEmbeddings.WordEmbedding, context::AbstractArray{S,1}, middle_word::S) at /mnt_volume/phd/prototypes/SenseSplittingWord2Vec/src/Query.jl:142\n",
       "logprob_of_context{S<:String}(embed::WordEmbeddings.GenWordEmbedding, context::AbstractArray{S,1}, input::Array{Float32,1}; skip_oov, normalise_over_length) at /mnt_volume/phd/prototypes/SenseSplittingWord2Vec/src/Query.jl:148\n",
       "```\n"
      ]
     },
     "execution_count": 40,
     "metadata": {},
     "output_type": "execute_result"
    },
    {
     "name": "stderr",
     "output_type": "stream",
     "text": [
      "WARNING: Base.writemime is deprecated.\n",
      "  likely near /home/ubuntu/.julia/v0.5/IJulia/src/kernel.jl:31\n",
      "WARNING: Base.writemime is deprecated.\n",
      "  likely near /home/ubuntu/.julia/v0.5/IJulia/src/kernel.jl:31\n",
      "WARNING: Base.writemime is deprecated.\n",
      "  likely near /home/ubuntu/.julia/v0.5/IJulia/src/kernel.jl:31\n",
      "WARNING: Base.writemime is deprecated.\n",
      "  likely near /home/ubuntu/.julia/v0.5/IJulia/src/kernel.jl:31\n",
      "WARNING: Base.writemime is deprecated.\n",
      "  likely near /home/ubuntu/.julia/v0.5/IJulia/src/kernel.jl:31\n",
      "in display_dict at /home/ubuntu/.julia/v0.5/IJulia/src/execute_request.jl\n"
     ]
    }
   ],
   "source": [
    "?Query.logprob_of_context"
   ]
  },
  {
   "cell_type": "code",
   "execution_count": 45,
   "metadata": {
    "collapsed": false
   },
   "outputs": [
    {
     "name": "stdout",
     "output_type": "stream",
     "text": [
      "Summary Stats:\n",
      "Mean:         0.000011\n",
      "Minimum:      0.000000\n",
      "1st Quartile: 0.000000\n",
      "Median:       0.000001\n",
      "3rd Quartile: 0.000003\n",
      "Maximum:      0.019961\n"
     ]
    }
   ],
   "source": [
    "describe(collect(values(ee.distribution)))"
   ]
  },
  {
   "cell_type": "code",
   "execution_count": null,
   "metadata": {
    "collapsed": true
   },
   "outputs": [],
   "source": []
  }
 ],
 "metadata": {
  "kernelspec": {
   "display_name": "Julia 0.5.0-dev",
   "language": "julia",
   "name": "julia-0.5"
  },
  "language_info": {
   "file_extension": ".jl",
   "mimetype": "application/julia",
   "name": "julia",
   "version": "0.5.0"
  }
 },
 "nbformat": 4,
 "nbformat_minor": 0
}
