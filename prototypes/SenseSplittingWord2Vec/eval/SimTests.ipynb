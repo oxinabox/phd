{
 "cells": [
  {
   "cell_type": "code",
   "execution_count": 1,
   "metadata": {
    "collapsed": true
   },
   "outputs": [],
   "source": [
    "using SwiftObjectStores"
   ]
  },
  {
   "cell_type": "code",
   "execution_count": 2,
   "metadata": {
    "collapsed": true
   },
   "outputs": [],
   "source": [
    "using ProgressMeter"
   ]
  },
  {
   "cell_type": "code",
   "execution_count": 393,
   "metadata": {
    "collapsed": false
   },
   "outputs": [],
   "source": [
    "using WordEmbeddings, SoftmaxClassifier\n",
    "using Utils\n",
    "using Query\n",
    "using WordStreams\n",
    "using Distances\n",
    "using StatsBase\n",
    "using Training\n",
    "using AdaGramCompat\n",
    "using CorpusLoaders.Similarity"
   ]
  },
  {
   "cell_type": "code",
   "execution_count": null,
   "metadata": {
    "collapsed": true
   },
   "outputs": [],
   "source": []
  },
  {
   "cell_type": "code",
   "execution_count": null,
   "metadata": {
    "collapsed": true
   },
   "outputs": [],
   "source": []
  },
  {
   "cell_type": "code",
   "execution_count": 4,
   "metadata": {
    "collapsed": false
   },
   "outputs": [
    {
     "data": {
      "text/plain": [
       "Dict{Pair{Any,Any},Pair{Any,Any}} with 1 entry:\n",
       "  Pair{Any,Any}(\"action\",\"list_container_part\") => Pair{Any,Any}(\"marker\",\"\")"
      ]
     },
     "execution_count": 4,
     "metadata": {},
     "output_type": "execute_result"
    }
   ],
   "source": [
    "SwiftObjectStores.list(SwiftService(), \"sensemodels\")"
   ]
  },
  {
   "cell_type": "code",
   "execution_count": 18,
   "metadata": {
    "collapsed": false
   },
   "outputs": [
    {
     "data": {
      "text/plain": [
       "all_word_sense_vectors (generic function with 3 methods)"
      ]
     },
     "execution_count": 18,
     "metadata": {},
     "output_type": "execute_result"
    }
   ],
   "source": [
    "function all_word_sense_vectors(ee::WordEmbedding, word)\n",
    "    if haskey(ee.embedding, word)\n",
    "        [ee.embedding[word]]\n",
    "    else\n",
    "        Vector{Float32}[]\n",
    "    end\n",
    "end\n",
    "\n",
    "\n",
    "function all_word_sense_vectors(ee::WordSenseEmbedding, word)\n",
    "    get(ee.embedding, word, Vector{Float32}[])\n",
    "end\n",
    "\n",
    "function all_word_sense_vectors(am::AdaGramCompat.AdaGramModel, word)\n",
    "    if haskey(am.dict.word2id, word)\n",
    "        wsv_mat = word_sense_vectors(am, word)\n",
    "        [view(wsv_mat,:,ii) for ii in 1:size(wsv_mat,2)]\n",
    "    else\n",
    "        Vector{Float32}[]\n",
    "    end\n",
    "end"
   ]
  },
  {
   "cell_type": "code",
   "execution_count": 5,
   "metadata": {
    "collapsed": false
   },
   "outputs": [],
   "source": [
    "using JLD\n",
    "#ee = load(\"models/ss/tokenised_lowercase_WestburyLab.wikicorp.201004_300_i1.jld\",\"ee\");\n",
    "eep = get_jld(SwiftService(), \"sensemodels/plain/\", \"tokenised_lowercase_WestburyLab.wikicorp.201004_100_nosubsample.jld\", \"ee\");\n"
   ]
  },
  {
   "cell_type": "code",
   "execution_count": null,
   "metadata": {
    "collapsed": true
   },
   "outputs": [],
   "source": [
    "using AdaGram\n",
    "using AdaGramCompat\n",
    "am = load(\"models/adagram/more_senses.adagram_model.jld\", \"am\");"
   ]
  },
  {
   "cell_type": "code",
   "execution_count": 50,
   "metadata": {
    "collapsed": true
   },
   "outputs": [],
   "source": [
    "s_am = get_jld(SwiftService(), \"sensemodels/adagram/\", \"semhuff_more_senses.adagram_model.jld\", \"am\");"
   ]
  },
  {
   "cell_type": "code",
   "execution_count": 55,
   "metadata": {
    "collapsed": false,
    "scrolled": true
   },
   "outputs": [
    {
     "data": {
      "text/plain": [
       "get_sims (generic function with 3 methods)"
      ]
     },
     "execution_count": 55,
     "metadata": {},
     "output_type": "execute_result"
    }
   ],
   "source": [
    "function get_sims(ee, wordpairs::Matrix{String})\n",
    "    sims = Vector{Float64}(size(wordpairs,1))\n",
    "    for ii in 1:size(wordpairs,1)\n",
    "        try\n",
    "            wvs_1::Matrix{Float32} = hcat(all_word_sense_vectors(ee,wordpairs[ii,1])...)\n",
    "            wvs_2::Matrix{Float32} = hcat(all_word_sense_vectors(ee,wordpairs[ii,2])...)\n",
    "            sims[ii]=1-minimum(pairwise(CosineDist(), wvs_1,wvs_2))\n",
    "        catch ex\n",
    "            warn(ex)\n",
    "            sims[ii]=NaN\n",
    "        end\n",
    "    end\n",
    "    return sims\n",
    "end\n"
   ]
  },
  {
   "cell_type": "code",
   "execution_count": 398,
   "metadata": {
    "collapsed": false
   },
   "outputs": [
    {
     "name": "stdout",
     "output_type": "stream",
     "text": [
      "corspearman(groundsim,get_sims(ee,wordpairs)) = 0.5454215969351677\n",
      "corspearman(groundsim,get_sims(am,wordpairs)) = 0.5617419285275981\n",
      "corspearman(groundsim,get_sims(s_am,wordpairs)) = 0.46129108146748254\n"
     ]
    },
    {
     "data": {
      "text/plain": [
       "0.46129108146748254"
      ]
     },
     "execution_count": 398,
     "metadata": {},
     "output_type": "execute_result"
    }
   ],
   "source": [
    "wordpairs, groundsim = load_wordsim353(\"./data/corpora/wordsim353/combined.csv\");\n",
    "wordpairs=lowercase.(wordpairs)\n",
    "\n",
    "@show corspearman(groundsim,get_sims(ee,wordpairs))\n",
    "@show corspearman(groundsim,get_sims(am,wordpairs))\n",
    "@show corspearman(groundsim,get_sims(s_am,wordpairs));"
   ]
  },
  {
   "cell_type": "code",
   "execution_count": null,
   "metadata": {
    "collapsed": true
   },
   "outputs": [],
   "source": [
    "reload(\"\")"
   ]
  },
  {
   "cell_type": "code",
   "execution_count": 449,
   "metadata": {
    "collapsed": false,
    "scrolled": true
   },
   "outputs": [],
   "source": []
  },
  {
   "cell_type": "code",
   "execution_count": 435,
   "metadata": {
    "collapsed": false
   },
   "outputs": [
    {
     "data": {
      "text/plain": [
       "Test Passed\n",
       "  Expression: window_context(5,split(\"1 2 3 4 6 7 8\"),typemax(Int)) == split(\"1 2 3 4 6 7 8\")\n",
       "   Evaluated: SubString{String}[\"1\",\"2\",\"3\",\"4\",\"6\",\"7\",\"8\"] == SubString{String}[\"1\",\"2\",\"3\",\"4\",\"6\",\"7\",\"8\"]"
      ]
     },
     "execution_count": 435,
     "metadata": {},
     "output_type": "execute_result"
    }
   ],
   "source": [
    "function window_context(index::Integer, context::Vector, window_size::Integer)\n",
    "    window_lower_bound = max(index - window_size÷2, 1)\n",
    "    window_upper_bound = min(index + window_size÷2 -1 , length(context))\n",
    "    view(context, window_lower_bound:window_upper_bound)\n",
    "end\n",
    "Base.Test.@test window_context(5, split(\"1 2 3 4 6 7 8\"), 2) == [\"4\", \"6\"]\n",
    "Base.Test.@test window_context(5, split(\"1 2 3 4 6 7 8\"), 4) == [\"3\" , \"4\", \"6\", \"7\"]\n",
    "Base.Test.@test window_context(2, split(\"1 3 4 5\"), 4) == [\"1\",\"3\",\"4\"]\n",
    "Base.Test.@test window_context(4, split(\"1 2 3 5\"), 4) == [\"2\",\"3\",\"5\"]\n",
    "Base.Test.@test window_context(5, split(\"1 2 3 4 6 7 8\"), typemax(Int)) == split(\"1 2 3 4 6 7 8\")"
   ]
  },
  {
   "cell_type": "code",
   "execution_count": 450,
   "metadata": {
    "collapsed": true
   },
   "outputs": [],
   "source": [
    "(scws_wordpairs, scws_groundsim, scws_contexts, scws_indexes) = CorpusLoaders.Similarity.load_scws(\"./data/corpora/SCWS/ratings.txt\");\n",
    "scws_windowed_contexts = ((iis, cont) -> window_context(iis, cont, 10)).(scws_indexes, scws_contexts);"
   ]
  },
  {
   "cell_type": "code",
   "execution_count": 437,
   "metadata": {
    "collapsed": false,
    "scrolled": true
   },
   "outputs": [
    {
     "data": {
      "text/plain": [
       "get_sims (generic function with 3 methods)"
      ]
     },
     "execution_count": 437,
     "metadata": {},
     "output_type": "execute_result"
    }
   ],
   "source": [
    "function get_sims(ee::FixedWordSenseEmbedding, wordpairs::Matrix{String}, contexts::Matrix)\n",
    "    sims = Vector{Float64}(size(wordpairs,1))\n",
    "    for ii in 1:size(wordpairs,1)\n",
    "        try \n",
    "            sense1 = WSD(ee, wordpairs[ii,1],contexts[ii,1];skip_oov=true)\n",
    "            wv1 = ee.embedding[wordpairs[ii,1]][sense1]\n",
    "            \n",
    "            sense2 = WSD(ee, wordpairs[ii,2],contexts[ii,2];skip_oov=true)\n",
    "            wv2 = ee.embedding[wordpairs[ii,2]][sense2]\n",
    "            \n",
    "            sims[ii]=1-cosine_dist(wv1,wv2)\n",
    "        catch ex\n",
    "            if typeof(ex)==KeyError\n",
    "                warn(ex)\n",
    "                sims[ii]=NaN\n",
    "            else\n",
    "                rethrow(ex)\n",
    "            end\n",
    "        end\n",
    "    end\n",
    "    return sims\n",
    "end\n"
   ]
  },
  {
   "cell_type": "code",
   "execution_count": 438,
   "metadata": {
    "collapsed": false
   },
   "outputs": [
    {
     "ename": "LoadError",
     "evalue": "LoadError: MethodError: no method matching get_sims(::WordEmbeddings.WordEmbedding, ::Array{String,2}, ::Array{Array{SubString,1},2})\nClosest candidates are:\n  get_sims(!Matched::WordEmbeddings.FixedWordSenseEmbedding, ::Array{String,2}, ::Array{T,2}) at In[437]:2\n  get_sims(::Any, ::Array{String,2}) at In[55]:2\n  get_sims(!Matched::WordEmbeddings.FixedWordSenseEmbedding, ::Array{String,2}) at In[8]:2\nwhile loading In[438], in expression starting on line 2",
     "output_type": "error",
     "traceback": [
      "LoadError: MethodError: no method matching get_sims(::WordEmbeddings.WordEmbedding, ::Array{String,2}, ::Array{Array{SubString,1},2})\nClosest candidates are:\n  get_sims(!Matched::WordEmbeddings.FixedWordSenseEmbedding, ::Array{String,2}, ::Array{T,2}) at In[437]:2\n  get_sims(::Any, ::Array{String,2}) at In[55]:2\n  get_sims(!Matched::WordEmbeddings.FixedWordSenseEmbedding, ::Array{String,2}) at In[8]:2\nwhile loading In[438], in expression starting on line 2",
      "",
      " in include_string(::String, ::String) at ./loading.jl:380",
      " in execute_request_0x535c5df2(::ZMQ.Socket, ::IJulia.Msg) at /home/ubuntu/.julia/v0.5/IJulia/src/execute_request.jl:183",
      " in eventloop(::ZMQ.Socket) at /home/ubuntu/.julia/v0.5/IJulia/src/IJulia.jl:143",
      " in (::IJulia.##26#32)() at ./task.jl:309"
     ]
    }
   ],
   "source": [
    "\n",
    "local_sims = get_sims(ee, scws_wordpairs, scws_contexts)\n",
    "corspearman(scws_groundsim, scws_local_sims)\n",
    "\n",
    "\n",
    "global_syms = get_sims(am, scws_wordpairs)\n",
    "corspearman(scws_groundsim, global_syms)\n"
   ]
  },
  {
   "cell_type": "code",
   "execution_count": 442,
   "metadata": {
    "collapsed": false
   },
   "outputs": [
    {
     "data": {
      "text/plain": [
       "synthesize_embedding (generic function with 2 methods)"
      ]
     },
     "execution_count": 442,
     "metadata": {},
     "output_type": "execute_result"
    }
   ],
   "source": [
    "function synthesize_embedding(am::AdaGramModel,context::AbstractVector, word::AbstractString)\n",
    "    known_context = filter(c->haskey(am.dict.word2id, c), context)\n",
    "    sum(all_word_sense_vectors(am, word).*disambiguate(am.vm, am.dict, word, known_context, false))\n",
    "end"
   ]
  },
  {
   "cell_type": "code",
   "execution_count": 443,
   "metadata": {
    "collapsed": false
   },
   "outputs": [
    {
     "data": {
      "text/plain": [
       "Dict{Any,Any} with 0 entries"
      ]
     },
     "execution_count": 443,
     "metadata": {},
     "output_type": "execute_result"
    }
   ],
   "source": [
    "_lp=Dict()"
   ]
  },
  {
   "cell_type": "code",
   "execution_count": 456,
   "metadata": {
    "collapsed": false
   },
   "outputs": [
    {
     "data": {
      "text/plain": [
       "get_sims_synth"
      ]
     },
     "execution_count": 456,
     "metadata": {},
     "output_type": "execute_result"
    }
   ],
   "source": [
    "function normal_probs(logprobs::Vector)\n",
    "    ret = copy(logprobs)\n",
    "    max_lp = maximum(logprobs)\n",
    "    ret.-=max_lp #Bring closer to zero\n",
    "    map!(exp,ret)\n",
    "    denom = sum(ret)\n",
    "    ret./=denom\n",
    "    ret\n",
    "end\n",
    "\n",
    "\n",
    "function synthesize_embedding2(ee,context::AbstractVector, word_or_phrase::AbstractString, smoothby=1)\n",
    "    logprobs, wvs = get!(_lp, (ee, context, word_or_phrase)) do\n",
    "        words = split(word_or_phrase, \" \")\n",
    "        wvs = vcat((all_word_sense_vectors(ee,w) for w in words)...)\n",
    "        if length(wvs) == 0\n",
    "                throw(KeyError(\"None of $words have embeddings\"))\n",
    "        end\n",
    "        lps = [logprob_of_context(ee, context, wv; skip_oov=true, normalise_over_length=false) \n",
    "                 for wv in wvs]\n",
    "        (lps, wvs)\n",
    "    end\n",
    "    slogprobs = logprobs./(smoothby*length(context))\n",
    "    sum(normal_probs(slogprobs).*wvs)\n",
    "end\n",
    "    \n",
    "    \n",
    "\n",
    "\"\"\"\n",
    "synthesize_embedding:: Embeddings, Context, Word -> WordVector\n",
    "\"\"\"\n",
    "    function get_sims_synth(ee, wordpairs::Matrix{String}, contexts::Matrix, smoothby=1)\n",
    "    sims = Vector{Float64}(size(wordpairs,1))\n",
    "    npairs = size(wordpairs,1)\n",
    "        #@showprogress \n",
    "        for ii in 1:npairs\n",
    "        try           \n",
    "            wv1 = synthesize_embedding2(ee, contexts[ii,1],wordpairs[ii,1], smoothby)\n",
    "            wv2 = synthesize_embedding2(ee, contexts[ii,2],wordpairs[ii,2], smoothby)\n",
    "             \n",
    "            sims[ii]=1-cosine_dist(wv1,wv2)\n",
    "        catch ex\n",
    "            if typeof(ex)==KeyError\n",
    "                #warn(ex)\n",
    "                sims[ii]=NaN\n",
    "            else\n",
    "                rethrow(ex)\n",
    "            end\n",
    "        end\n",
    "    end\n",
    "    return sims\n",
    "end\n"
   ]
  },
  {
   "cell_type": "code",
   "execution_count": 448,
   "metadata": {
    "collapsed": false,
    "scrolled": true
   },
   "outputs": [],
   "source": []
  },
  {
   "cell_type": "code",
   "execution_count": 457,
   "metadata": {
    "collapsed": false,
    "scrolled": true
   },
   "outputs": [
    {
     "data": {
      "text/plain": [
       "0.6259432652457774"
      ]
     },
     "execution_count": 457,
     "metadata": {},
     "output_type": "execute_result"
    }
   ],
   "source": [
    "sims = get_sims_synth(am, scws_wordpairs, scws_contexts, 0.5)\n",
    "corspearman(scws_groundsim, sims)"
   ]
  },
  {
   "cell_type": "code",
   "execution_count": 464,
   "metadata": {
    "collapsed": false
   },
   "outputs": [
    {
     "data": {
      "text/plain": [
       "0.6288843132192203"
      ]
     },
     "execution_count": 464,
     "metadata": {},
     "output_type": "execute_result"
    }
   ],
   "source": [
    "corspearman(scws_groundsim, get_sims_synth(am, scws_wordpairs, windowed_scws_contexts,1))"
   ]
  },
  {
   "cell_type": "code",
   "execution_count": 465,
   "metadata": {
    "collapsed": false
   },
   "outputs": [
    {
     "data": {
      "text/plain": [
       "0.5081117677519068"
      ]
     },
     "execution_count": 465,
     "metadata": {},
     "output_type": "execute_result"
    }
   ],
   "source": [
    "corspearman(scws_groundsim, get_sims_synth(s_am, scws_wordpairs, scws_contexts, 1))"
   ]
  },
  {
   "cell_type": "code",
   "execution_count": 466,
   "metadata": {
    "collapsed": false,
    "scrolled": true
   },
   "outputs": [
    {
     "data": {
      "text/plain": [
       "0.5104268665100573"
      ]
     },
     "execution_count": 466,
     "metadata": {},
     "output_type": "execute_result"
    }
   ],
   "source": [
    "corspearman(scws_groundsim, get_sims_synth(s_am, scws_wordpairs, windowed_scws_contexts,1))"
   ]
  },
  {
   "cell_type": "code",
   "execution_count": 280,
   "metadata": {
    "collapsed": false
   },
   "outputs": [
    {
     "data": {
      "text/plain": [
       "0.645578469111277"
      ]
     },
     "execution_count": 280,
     "metadata": {},
     "output_type": "execute_result"
    }
   ],
   "source": [
    "cor = corspearman(scws_groundsim, get_sims_synth(am, scws_wordpairs,scws_contexts, 2/e) )"
   ]
  },
  {
   "cell_type": "code",
   "execution_count": 241,
   "metadata": {
    "collapsed": false
   },
   "outputs": [
    {
     "data": {
      "text/plain": [
       "0.6456029011434851"
      ]
     },
     "execution_count": 241,
     "metadata": {},
     "output_type": "execute_result"
    }
   ],
   "source": [
    "cor = corspearman(scws_groundsim, get_sims_synth(am, scws_wordpairs,scws_contexts, 0.74))"
   ]
  },
  {
   "cell_type": "code",
   "execution_count": 284,
   "metadata": {
    "collapsed": false,
    "scrolled": false
   },
   "outputs": [
    {
     "name": "stdout",
     "output_type": "stream",
     "text": [
      "0.1\t0.1901592119634672\n",
      "0.6\t0.21081064034680186\n",
      "1.1\t0.2232107602756684\n",
      "1.6\t0.2445733673287734\n",
      "2.1\t0.2699877876956494\n",
      "2.6\t0.2960437526239092\n",
      "3.1\t0.3217219371963249\n",
      "3.6\t0.34742446569301183\n",
      "4.1\t0.370551342297871\n",
      "4.6\t0.39131418889500985\n",
      "5.1\t0.4102833427032488\n",
      "5.6\t0.4267281787375052\n",
      "6.1\t0.4401471840086132\n",
      "6.6\t0.4513594828295088\n",
      "7.1\t0.4610529715462046\n",
      "7.6\t0.46950547391993275\n",
      "8.1\t0.4770093972868335\n",
      "8.6\t0.4833151411956547\n",
      "9.1\t0.4889772934047452\n",
      "9.6\t0.49392164704539115\n",
      "10.1\t0.4983587702052475\n",
      "10.6\t0.5023084371411161\n",
      "11.1\t0.505629120744869\n",
      "11.6\t0.5085784951025566\n",
      "12.1\t0.5112266993586264\n",
      "12.6\t0.5134565818625343\n",
      "13.1\t0.5152945664365541\n",
      "13.6\t0.5172089532852242\n",
      "14.1\t0.5190332708835231\n",
      "14.6\t0.5206072935779904\n",
      "15.1\t0.5218078181550769\n",
      "15.6\t0.5228658625079464\n",
      "16.1\t0.5238489865460638\n",
      "16.6\t0.524700315671062\n",
      "17.1\t0.5253796450367332\n",
      "17.6\t0.5259809458643119\n",
      "18.1\t0.5264965355897231\n",
      "18.6\t0.5270487704170446\n",
      "19.1\t0.5274677497494963\n",
      "19.6\t0.528000712833776\n",
      "20.1\t0.5284733834987514\n",
      "20.6\t0.5287276400759285\n",
      "21.1\t0.5289511534847271\n",
      "21.6\t0.5292159982566633\n",
      "22.1\t0.5294297968647701\n",
      "22.6\t0.529568005341772\n",
      "23.1\t0.5297711812994674\n",
      "23.6\t0.5298131826515715\n",
      "24.1\t0.5298185617157759\n",
      "24.6\t0.5298201445186232\n",
      "25.1\t0.529730993100098\n",
      "25.6\t0.5297311566224553\n",
      "26.1\t0.5296903507008706\n",
      "26.6\t0.5296664358962593\n",
      "27.1\t0.5295574148424422\n",
      "27.6\t0.5294854386739029\n",
      "28.1\t0.52940649301829\n",
      "28.6\t0.5293310495212449\n",
      "29.1\t0.5291779089669295\n",
      "29.6\t0.5291056143188438\n",
      "30.1\t0.5290360460093699\n",
      "30.6\t0.528908018633111\n",
      "31.1\t0.5288255520418265\n",
      "31.6\t0.5286424479144792\n",
      "32.1\t0.5286060307441567\n",
      "32.6\t0.5285238484395224\n",
      "33.1\t0.5284913562430337\n",
      "33.6\t0.5284838715484689\n",
      "34.1\t0.52839280285956\n",
      "34.6\t0.5282555829192186\n",
      "35.1\t0.5281489277333081\n",
      "35.6\t0.5281264551798369\n",
      "36.1\t0.527973446590268\n",
      "36.6\t0.527922228251913\n",
      "37.1\t0.5278563802626595\n",
      "37.6\t0.5276427003780261\n",
      "38.1\t0.5275068805002215\n",
      "38.6\t0.5273486192322641\n",
      "39.1\t0.5272589145258633\n",
      "39.6\t0.5271748300604765\n",
      "40.1\t0.5271401276972821\n",
      "40.6\t0.5270449702022599\n",
      "41.1\t0.5269408962385281\n",
      "41.6\t0.5269455443055339\n",
      "42.1\t0.5269255846543421\n",
      "42.6\t0.5268537783959851\n",
      "43.1\t0.5267560881310984\n",
      "43.6\t0.5266911363514574\n",
      "44.1\t0.5266399053394936\n",
      "44.6\t0.5265835259270838\n",
      "45.1\t0.5264951407962842\n",
      "45.6\t0.5263322271973903\n",
      "46.1\t0.5262775011649348\n",
      "46.6\t0.5262641423198408\n",
      "47.1\t0.5261900274914969\n",
      "47.6\t0.5261545326865161\n",
      "48.1\t0.5261322378610441\n",
      "48.6\t0.5260423903233494\n",
      "49.1\t0.5260546453630517\n",
      "49.6\t0.5260027628551609\n",
      "50.1\t0.525907383577266\n",
      "50.6\t0.5258305329228192\n",
      "51.1\t0.5258045306280036\n",
      "51.6\t0.5257152444343021\n",
      "52.1\t0.5256033975973713\n",
      "52.6\t0.5255560740865739\n",
      "53.1\t0.5254768600208928\n",
      "53.6\t0.5253709122708528\n",
      "54.1\t0.5252857272029345\n",
      "54.6\t0.5252295270328252\n",
      "55.1\t0.5251419725801282\n",
      "55.6\t0.5250266938170393\n",
      "56.1\t0.5249570123672441\n",
      "56.6\t0.5249017046540264\n",
      "57.1\t0.5248153271422528\n",
      "57.6\t0.5247512717481421\n",
      "58.1\t0.5247160761649117\n",
      "58.6\t0.5246629791862006\n",
      "59.1\t0.5246091489702536\n",
      "59.6\t0.5245092188897902\n"
     ]
    },
    {
     "ename": "LoadError",
     "evalue": "LoadError: InterruptException:\nwhile loading In[284], in expression starting on line 2",
     "output_type": "error",
     "traceback": [
      "LoadError: InterruptException:\nwhile loading In[284], in expression starting on line 2",
      "",
      " in similar(::SubArray{Float32,1,SharedArray{Float32,3},Tuple{Colon,Int64,Int64},true}, ::Type{T}) at ./abstractarray.jl:342",
      " in .*(::Float32, ::SubArray{Float32,1,SharedArray{Float32,3},Tuple{Colon,Int64,Int64},true}) at ./arraymath.jl:71",
      " in macro expansion at ./broadcast.jl:192 [inlined]",
      " in _broadcast!(::Base.#*, ::Array{Array{Float32,1},1}, ::Tuple{Tuple{Bool},Tuple{Bool}}, ::Tuple{Tuple{Int64},Tuple{Int64}}, ::Tuple{Array{Float32,1},Array{SubArray{Float32,1,SharedArray{Float32,3},Tuple{Colon,Int64,Int64},true},1}}, ::Type{Val{2}}, ::CartesianRange{CartesianIndex{1}}, ::CartesianIndex{1}, ::Int64) at ./broadcast.jl:179",
      " in broadcast_t(::Function, ::Type{Any}, ::Array{Float32,1}, ::Vararg{Any,N}) at ./broadcast.jl:225",
      " in .*(::Array{Float32,1}, ::Array{SubArray{Float32,1,SharedArray{Float32,3},Tuple{Colon,Int64,Int64},true},1}) at ./sparse/sparsematrix.jl:1682",
      " in synthesize_embedding2(::AdaGramCompat.AdaGramModel, ::Array{String,1}, ::String, ::Float64) at ./In[282]:24",
      " in get_sims_synth(::AdaGramCompat.AdaGramModel, ::Array{String,2}, ::Array{Array{String,1},2}, ::Float64) at ./In[282]:38",
      " in macro expansion; at ./In[284]:3 [inlined]",
      " in anonymous at ./<missing>:?",
      " in include_string(::String, ::String) at ./loading.jl:380",
      " in execute_request_0x535c5df2(::ZMQ.Socket, ::IJulia.Msg) at /home/ubuntu/.julia/v0.5/IJulia/src/execute_request.jl:183",
      " in eventloop(::ZMQ.Socket) at /home/ubuntu/.julia/v0.5/IJulia/src/IJulia.jl:143",
      " in (::IJulia.##26#32)() at ./task.jl:309"
     ]
    }
   ],
   "source": [
    "r=[]\n",
    "for ii in 0.1:0.5:100\n",
    "    cor = corspearman(scws_groundsim, get_sims_synth(s_am, scws_wordpairs,scws_contexts, ii))\n",
    "    push!(r,(ii,cor))\n",
    "    println(ii,\"\\t\", cor)\n",
    "    flush(STDOUT)\n",
    "end"
   ]
  },
  {
   "cell_type": "code",
   "execution_count": 230,
   "metadata": {
    "collapsed": false
   },
   "outputs": [],
   "source": [
    "using UnicodePlots"
   ]
  },
  {
   "cell_type": "code",
   "execution_count": 285,
   "metadata": {
    "collapsed": false
   },
   "outputs": [
    {
     "data": {
      "text/plain": [
       "       ┌────────────────────────────────────────┐ \n",
       "   0.6 │⠀⠀⠀⠀⠀⠀⠀⠀⠀⠀⠀⠀⠀⠀⠀⠀⠀⠀⠀⠀⠀⠀⠀⠀⠀⠀⠀⠀⠀⠀⠀⠀⠀⠀⠀⠀⠀⠀⠀⠀│ \n",
       "       │⠀⠀⠀⠀⠀⠀⠀⠀⠀⠀⠀⠀⠀⠀⠀⠀⠀⠀⠀⠀⠀⠀⠀⠀⠀⠀⠀⠀⠀⠀⠀⠀⠀⠀⠀⠀⠀⠀⠀⠀│ \n",
       "       │⠀⠀⠀⠀⠀⠀⠀⡠⠤⠒⠒⠋⠉⠉⠉⠉⠉⠉⠉⠉⠉⠉⠉⠉⠉⠉⠉⠉⠉⠉⠉⠉⠉⠉⠉⠉⠉⠓⠒⠂│ \n",
       "       │⠀⠀⠀⠀⠀⡤⠋⠀⠀⠀⠀⠀⠀⠀⠀⠀⠀⠀⠀⠀⠀⠀⠀⠀⠀⠀⠀⠀⠀⠀⠀⠀⠀⠀⠀⠀⠀⠀⠀⠀│ \n",
       "       │⠀⠀⠀⢀⡎⠀⠀⠀⠀⠀⠀⠀⠀⠀⠀⠀⠀⠀⠀⠀⠀⠀⠀⠀⠀⠀⠀⠀⠀⠀⠀⠀⠀⠀⠀⠀⠀⠀⠀⠀│ \n",
       "       │⠀⠀⠀⡜⠀⠀⠀⠀⠀⠀⠀⠀⠀⠀⠀⠀⠀⠀⠀⠀⠀⠀⠀⠀⠀⠀⠀⠀⠀⠀⠀⠀⠀⠀⠀⠀⠀⠀⠀⠀│ \n",
       "       │⠀⠀⢠⠃⠀⠀⠀⠀⠀⠀⠀⠀⠀⠀⠀⠀⠀⠀⠀⠀⠀⠀⠀⠀⠀⠀⠀⠀⠀⠀⠀⠀⠀⠀⠀⠀⠀⠀⠀⠀│ \n",
       "       │⠀⠀⡜⠀⠀⠀⠀⠀⠀⠀⠀⠀⠀⠀⠀⠀⠀⠀⠀⠀⠀⠀⠀⠀⠀⠀⠀⠀⠀⠀⠀⠀⠀⠀⠀⠀⠀⠀⠀⠀│ \n",
       "       │⠀⢠⠃⠀⠀⠀⠀⠀⠀⠀⠀⠀⠀⠀⠀⠀⠀⠀⠀⠀⠀⠀⠀⠀⠀⠀⠀⠀⠀⠀⠀⠀⠀⠀⠀⠀⠀⠀⠀⠀│ \n",
       "       │⠀⡸⠀⠀⠀⠀⠀⠀⠀⠀⠀⠀⠀⠀⠀⠀⠀⠀⠀⠀⠀⠀⠀⠀⠀⠀⠀⠀⠀⠀⠀⠀⠀⠀⠀⠀⠀⠀⠀⠀│ \n",
       "       │⢀⠇⠀⠀⠀⠀⠀⠀⠀⠀⠀⠀⠀⠀⠀⠀⠀⠀⠀⠀⠀⠀⠀⠀⠀⠀⠀⠀⠀⠀⠀⠀⠀⠀⠀⠀⠀⠀⠀⠀│ \n",
       "       │⡜⠀⠀⠀⠀⠀⠀⠀⠀⠀⠀⠀⠀⠀⠀⠀⠀⠀⠀⠀⠀⠀⠀⠀⠀⠀⠀⠀⠀⠀⠀⠀⠀⠀⠀⠀⠀⠀⠀⠀│ \n",
       "       │⠃⠀⠀⠀⠀⠀⠀⠀⠀⠀⠀⠀⠀⠀⠀⠀⠀⠀⠀⠀⠀⠀⠀⠀⠀⠀⠀⠀⠀⠀⠀⠀⠀⠀⠀⠀⠀⠀⠀⠀│ \n",
       "       │⠀⠀⠀⠀⠀⠀⠀⠀⠀⠀⠀⠀⠀⠀⠀⠀⠀⠀⠀⠀⠀⠀⠀⠀⠀⠀⠀⠀⠀⠀⠀⠀⠀⠀⠀⠀⠀⠀⠀⠀│ \n",
       "   0.1 │⠀⠀⠀⠀⠀⠀⠀⠀⠀⠀⠀⠀⠀⠀⠀⠀⠀⠀⠀⠀⠀⠀⠀⠀⠀⠀⠀⠀⠀⠀⠀⠀⠀⠀⠀⠀⠀⠀⠀⠀│ \n",
       "       └────────────────────────────────────────┘ \n",
       "       0                                       60\n"
      ]
     },
     "execution_count": 285,
     "metadata": {},
     "output_type": "execute_result"
    }
   ],
   "source": [
    "lineplot(first.(r), (x->x[2]).(r))\n",
    "\n"
   ]
  },
  {
   "cell_type": "code",
   "execution_count": 235,
   "metadata": {
    "collapsed": false
   },
   "outputs": [
    {
     "data": {
      "text/plain": [
       "        ┌────────────────────────────────────────┐ \n",
       "   0.65 │⠀⠀⠀⠀⠀⠀⠀⠀⠀⠀⠀⠀⠀⠀⠀⠀⠀⠀⠀⠀⠀⠀⠀⠀⠀⠀⠀⠀⠀⠀⠀⠀⠀⠀⠀⠀⠀⠀⠀⠀│ \n",
       "        │⠀⠀⠀⠀⠀⠀⠀⠀⠀⠀⠀⠀⠀⣀⡤⢄⣀⡀⠀⠀⠀⠀⠀⠀⠀⠀⠀⠀⠀⠀⠀⠀⠀⠀⠀⠀⠀⠀⠀⠀│ \n",
       "        │⠀⠀⠀⠀⠀⠀⠀⠀⠀⠀⠀⠀⡔⠁⠀⠀⠀⠉⠓⠦⣀⠀⠀⠀⠀⠀⠀⠀⠀⠀⠀⠀⠀⠀⠀⠀⠀⠀⠀⠀│ \n",
       "        │⠀⠀⠀⠀⠀⠀⠀⠀⠀⠀⠀⡜⠀⠀⠀⠀⠀⠀⠀⠀⠈⠑⠦⣄⡀⠀⠀⠀⠀⠀⠀⠀⠀⠀⠀⠀⠀⠀⠀⠀│ \n",
       "        │⠀⠀⠀⠀⠀⠀⠀⠀⠀⠀⢰⠁⠀⠀⠀⠀⠀⠀⠀⠀⠀⠀⠀⠀⠉⠒⠤⣀⠀⠀⠀⠀⠀⠀⠀⠀⠀⠀⠀⠀│ \n",
       "        │⠀⠀⠀⠀⠀⠀⠀⠀⠀⠀⡎⠀⠀⠀⠀⠀⠀⠀⠀⠀⠀⠀⠀⠀⠀⠀⠀⠀⠉⠒⠦⣄⡀⠀⠀⠀⠀⠀⠀⠀│ \n",
       "        │⠀⠀⠀⠀⠀⠀⠀⠀⠀⢸⠁⠀⠀⠀⠀⠀⠀⠀⠀⠀⠀⠀⠀⠀⠀⠀⠀⠀⠀⠀⠀⠀⠈⠙⠒⠦⢤⣀⡀⠀│ \n",
       "        │⠀⠀⠀⠀⠀⠀⠀⠀⠀⡜⠀⠀⠀⠀⠀⠀⠀⠀⠀⠀⠀⠀⠀⠀⠀⠀⠀⠀⠀⠀⠀⠀⠀⠀⠀⠀⠀⠀⠉⠙│ \n",
       "        │⠀⠀⠀⠀⠀⠀⠀⠀⠀⡇⠀⠀⠀⠀⠀⠀⠀⠀⠀⠀⠀⠀⠀⠀⠀⠀⠀⠀⠀⠀⠀⠀⠀⠀⠀⠀⠀⠀⠀⠀│ \n",
       "        │⠀⠀⠀⠀⠀⠀⠀⠀⢸⠀⠀⠀⠀⠀⠀⠀⠀⠀⠀⠀⠀⠀⠀⠀⠀⠀⠀⠀⠀⠀⠀⠀⠀⠀⠀⠀⠀⠀⠀⠀│ \n",
       "        │⠀⠀⠀⠀⠀⠀⠀⠀⡸⠀⠀⠀⠀⠀⠀⠀⠀⠀⠀⠀⠀⠀⠀⠀⠀⠀⠀⠀⠀⠀⠀⠀⠀⠀⠀⠀⠀⠀⠀⠀│ \n",
       "        │⠀⠀⠀⠀⠀⠀⠀⠀⡇⠀⠀⠀⠀⠀⠀⠀⠀⠀⠀⠀⠀⠀⠀⠀⠀⠀⠀⠀⠀⠀⠀⠀⠀⠀⠀⠀⠀⠀⠀⠀│ \n",
       "        │⠀⠀⠀⠀⠀⠀⠀⠀⡇⠀⠀⠀⠀⠀⠀⠀⠀⠀⠀⠀⠀⠀⠀⠀⠀⠀⠀⠀⠀⠀⠀⠀⠀⠀⠀⠀⠀⠀⠀⠀│ \n",
       "        │⠀⠀⠀⠀⠀⠀⠀⠀⠀⠀⠀⠀⠀⠀⠀⠀⠀⠀⠀⠀⠀⠀⠀⠀⠀⠀⠀⠀⠀⠀⠀⠀⠀⠀⠀⠀⠀⠀⠀⠀│ \n",
       "   0.61 │⠀⠀⠀⠀⠀⠀⠀⠀⠀⠀⠀⠀⠀⠀⠀⠀⠀⠀⠀⠀⠀⠀⠀⠀⠀⠀⠀⠀⠀⠀⠀⠀⠀⠀⠀⠀⠀⠀⠀⠀│ \n",
       "        └────────────────────────────────────────┘ \n",
       "        0                                        2\n"
      ]
     },
     "execution_count": 235,
     "metadata": {},
     "output_type": "execute_result"
    }
   ],
   "source": [
    "lineplot(first.(r), (x->x[2]).(r))"
   ]
  },
  {
   "cell_type": "code",
   "execution_count": 256,
   "metadata": {
    "collapsed": false
   },
   "outputs": [
    {
     "name": "stdout",
     "output_type": "stream",
     "text": [
      "i = findmax(((x->begin  # In[256], line 1:\n",
      "                x[2]\n",
      "            end)).(r)) = (0.5295573706348757,16)\n"
     ]
    },
    {
     "data": {
      "text/plain": [
       "(0.25,0.5295573706348757)"
      ]
     },
     "execution_count": 256,
     "metadata": {},
     "output_type": "execute_result"
    }
   ],
   "source": [
    "@show i=findmax((x->x[2]).(r))\n",
    "r[i[2]]"
   ]
  },
  {
   "cell_type": "code",
   "execution_count": null,
   "metadata": {
    "collapsed": true
   },
   "outputs": [],
   "source": [
    "# 0.5342692139056353     GlobalMin   plain/tokenised_lowercase_WestburyLab.wikicorp.201004_100_nosubsample.jld\n",
    "# 0.48861817784625977    GlobalMin   adagram/more_senses.adagram_model.jld\n",
    "# 0.45416228327202474    GlobalMin   sensemodels/adagram/semhuff_more_senses.adagram_model.jld\"\n",
    "# 0.523055629491102      GlobalMin   sensemodels/adagram/semhuff_more_senses.adagram_model.jld\"\n",
    "# 0.524743130161508      LocalSynth   greedy/tokenised_lowercase_WestburyLab.wikicorp.201004_300_i1.jl\n",
    "# 0.6452187057383217     LocalSynth   adagram/more_senses.adagram_model.jld"
   ]
  }
 ],
 "metadata": {
  "kernelspec": {
   "display_name": "Julia 0.5.0-rc0",
   "language": "julia",
   "name": "julia-0.5"
  },
  "language_info": {
   "file_extension": ".jl",
   "mimetype": "application/julia",
   "name": "julia",
   "version": "0.5.0"
  }
 },
 "nbformat": 4,
 "nbformat_minor": 0
}
