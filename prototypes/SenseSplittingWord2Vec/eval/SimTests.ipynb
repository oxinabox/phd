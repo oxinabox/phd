{
 "cells": [
  {
   "cell_type": "code",
   "execution_count": 1,
   "metadata": {
    "collapsed": false
   },
   "outputs": [],
   "source": [
    "using WordEmbeddings, SoftmaxClassifier\n",
    "using ProgressMeter\n",
    "using Utils\n",
    "using Query\n",
    "using WordStreams\n",
    "using Distances\n",
    "using StatsBase\n",
    "using Training\n",
    "using AdaGramCompat\n",
    "using CorpusLoaders\n",
    "using SwiftObjectStores\n",
    "using JLD\n",
    "\n",
    "using SenseAlignment"
   ]
  },
  {
   "cell_type": "code",
   "execution_count": 3,
   "metadata": {
    "collapsed": false
   },
   "outputs": [
    {
     "data": {
      "text/plain": [
       "Dict{Pair{Any,Any},Pair{Any,Any}} with 1 entry:\n",
       "  Pair{Any,Any}(\"action\",\"list_container_part\") => Pair{Any,Any}(\"marker\",\"\")"
      ]
     },
     "execution_count": 3,
     "metadata": {},
     "output_type": "execute_result"
    }
   ],
   "source": [
    "SwiftObjectStores.list(SwiftService(), \"sensemodels\")"
   ]
  },
  {
   "cell_type": "code",
   "execution_count": 17,
   "metadata": {
    "collapsed": false
   },
   "outputs": [],
   "source": [
    "\n",
    "ee = load(\"models/ss/tokenised_lowercase_WestburyLab.wikicorp.201004_300_i1.jld\",\"ee\");\n",
    "#eep = get_jld(SwiftService(), \"sensemodels/plain/\", \"tokenised_lowercase_WestburyLab.wikicorp.201004_100_nosubsample.jld\", \"ee\");\n",
    "#ee = get_jld(SwiftService(), \"sensemodels\", \"plain/tokenised_lowercase_WestburyLab.wikicorp.201004_100_nosubsample.semhuff.jld\", \"ee\");"
   ]
  },
  {
   "cell_type": "code",
   "execution_count": 4,
   "metadata": {
    "collapsed": false
   },
   "outputs": [],
   "source": [
    "using AdaGram\n",
    "using AdaGramCompat\n"
   ]
  },
  {
   "cell_type": "code",
   "execution_count": null,
   "metadata": {
    "collapsed": false
   },
   "outputs": [],
   "source": [
    "am = load(\"models/adagram/more_senses.adagram_model.jld\", \"am\");"
   ]
  },
  {
   "cell_type": "code",
   "execution_count": null,
   "metadata": {
    "collapsed": false
   },
   "outputs": [],
   "source": [
    ";source \"~/openrc.sh\""
   ]
  },
  {
   "cell_type": "code",
   "execution_count": null,
   "metadata": {
    "collapsed": false
   },
   "outputs": [],
   "source": []
  },
  {
   "cell_type": "code",
   "execution_count": 5,
   "metadata": {
    "collapsed": false
   },
   "outputs": [],
   "source": [
    "s_am = get_jld(SwiftService(), \"sensemodels\", \"adagram/semhuff_more_senses.adagram_model.jld\", \"am\");"
   ]
  },
  {
   "cell_type": "code",
   "execution_count": null,
   "metadata": {
    "collapsed": false,
    "scrolled": true
   },
   "outputs": [],
   "source": [
    "function get_sims(ee, wordpairs::Matrix{String})\n",
    "    sims = Vector{Float64}(size(wordpairs,1))\n",
    "    for ii in 1:size(wordpairs,1)\n",
    "        try\n",
    "            wvs_1::Matrix{Float32} = hcat(all_word_sense_vectors(ee,wordpairs[ii,1],\"\")...)\n",
    "            wvs_2::Matrix{Float32} = hcat(all_word_sense_vectors(ee,wordpairs[ii,2],\"\")...)\n",
    "            sims[ii]=1-minimum(pairwise(CosineDist(), wvs_1,wvs_2))\n",
    "        catch ex\n",
    "            warn(ex)\n",
    "            sims[ii]=NaN\n",
    "        end\n",
    "    end\n",
    "    return sims\n",
    "end\n"
   ]
  },
  {
   "cell_type": "code",
   "execution_count": null,
   "metadata": {
    "collapsed": false
   },
   "outputs": [],
   "source": [
    "wordpairs, groundsim = load_wordsim353(\"./data/corpora/wordsim353/combined.csv\");\n",
    "wordpairs=lowercase.(wordpairs)\n",
    "\n",
    "@show corspearman(groundsim,get_sims(ee,wordpairs))\n",
    "@show corspearman(groundsim,get_sims(am,wordpairs))\n",
    "@show corspearman(groundsim,get_sims(s_am,wordpairs));"
   ]
  },
  {
   "cell_type": "markdown",
   "metadata": {
    "collapsed": false,
    "scrolled": true
   },
   "source": [
    " - corspearman(groundsim,get_sims(ee,wordpairs)) = 0.5937382029721738, plain/tokenised_lowercase_WestburyLab.wikicorp.201004_100_nosubsample.semhuff.jld\n",
    "\n",
    "\n"
   ]
  },
  {
   "cell_type": "code",
   "execution_count": 7,
   "metadata": {
    "collapsed": false
   },
   "outputs": [
    {
     "data": {
      "text/plain": [
       "Test Passed\n",
       "  Expression: window_context(5,split(\"1 2 3 4 6 7 8\"),typemax(Int)) == split(\"1 2 3 4 6 7 8\")\n",
       "   Evaluated: SubString{String}[\"1\",\"2\",\"3\",\"4\",\"6\",\"7\",\"8\"] == SubString{String}[\"1\",\"2\",\"3\",\"4\",\"6\",\"7\",\"8\"]"
      ]
     },
     "execution_count": 7,
     "metadata": {},
     "output_type": "execute_result"
    }
   ],
   "source": [
    "function window_context(index::Integer, context::Vector, window_size::Integer)\n",
    "    window_lower_bound = max(index - window_size÷2, 1)\n",
    "    window_upper_bound = min(index + window_size÷2 -1 , length(context))\n",
    "    view(context, window_lower_bound:window_upper_bound)\n",
    "end\n",
    "Base.Test.@test window_context(5, split(\"1 2 3 4 6 7 8\"), 2) == [\"4\", \"6\"]\n",
    "Base.Test.@test window_context(5, split(\"1 2 3 4 6 7 8\"), 4) == [\"3\" , \"4\", \"6\", \"7\"]\n",
    "Base.Test.@test window_context(2, split(\"1 3 4 5\"), 4) == [\"1\",\"3\",\"4\"]\n",
    "Base.Test.@test window_context(4, split(\"1 2 3 5\"), 4) == [\"2\",\"3\",\"5\"]\n",
    "Base.Test.@test window_context(5, split(\"1 2 3 4 6 7 8\"), typemax(Int)) == split(\"1 2 3 4 6 7 8\")"
   ]
  },
  {
   "cell_type": "code",
   "execution_count": 8,
   "metadata": {
    "collapsed": false
   },
   "outputs": [],
   "source": [
    "(scws_wordpairs, scws_groundsim, scws_contexts, scws_indexes) = CorpusLoaders.load_scws(\"./data/corpora/SCWS/ratings.txt\");\n",
    "\n",
    "scws_lc_contexts = map(x->lowercase.(x), scws_contexts)\n",
    "\n",
    "scws_windowed_contexts = ((iis, cont) -> window_context(iis, cont, 10)).(scws_indexes, scws_contexts);\n",
    "scws_lc_windowed_contexts = map(x->lowercase.(x), scws_windowed_contexts);\n",
    "\n",
    "scws_lc_wordpairs = lowercase.(scws_wordpairs);\n"
   ]
  },
  {
   "cell_type": "code",
   "execution_count": null,
   "metadata": {
    "collapsed": false,
    "scrolled": true
   },
   "outputs": [],
   "source": [
    "function get_sims(ee, wordpairs::Matrix{String}, contexts::Matrix)\n",
    "    sims = Vector{Float64}(size(wordpairs,1))\n",
    "    for ii in 1:size(wordpairs,1)\n",
    "        try \n",
    "            sense1 = WSD(ee, wordpairs[ii,1],contexts[ii,1];skip_oov=true)\n",
    "            wv1 = ee.embedding[wordpairs[ii,1]][sense1]\n",
    "            \n",
    "            sense2 = WSD(ee, wordpairs[ii,2],contexts[ii,2];skip_oov=true)\n",
    "            wv2 = ee.embedding[wordpairs[ii,2]][sense2]\n",
    "            \n",
    "            sims[ii]=1-cosine_dist(wv1,wv2)\n",
    "        catch ex\n",
    "            if typeof(ex)==KeyError\n",
    "                warn(ex)\n",
    "                sims[ii]=NaN\n",
    "            else\n",
    "                rethrow(ex)\n",
    "            end\n",
    "        end\n",
    "    end\n",
    "    return sims\n",
    "end\n"
   ]
  },
  {
   "cell_type": "code",
   "execution_count": null,
   "metadata": {
    "collapsed": false
   },
   "outputs": [],
   "source": [
    "\n",
    "#local_sims = get_sims(ee, scws_wordpairs, scws_contexts)\n",
    "#corspearman(scws_groundsim, scws_local_sims)\n",
    "\n",
    "\n",
    "global_syms = get_sims(am, scws_wordpairs)\n",
    "corspearman(scws_groundsim, global_syms)\n"
   ]
  },
  {
   "cell_type": "code",
   "execution_count": null,
   "metadata": {
    "collapsed": false
   },
   "outputs": [],
   "source": [
    "global_syms = get_sims(ee, scws_wordpairs)\n",
    "corspearman(scws_groundsim, global_syms)"
   ]
  },
  {
   "cell_type": "code",
   "execution_count": null,
   "metadata": {
    "collapsed": false
   },
   "outputs": [],
   "source": [
    "reload(\"SenseAlignment\")"
   ]
  },
  {
   "cell_type": "code",
   "execution_count": 9,
   "metadata": {
    "collapsed": false
   },
   "outputs": [
    {
     "data": {
      "text/plain": [
       "get_avgsimc (generic function with 2 methods)"
      ]
     },
     "execution_count": 9,
     "metadata": {},
     "output_type": "execute_result"
    }
   ],
   "source": [
    "function get_avgsimc(ee, wordpairs::Matrix{String}, contexts::Matrix, normalise_over_context_lengths::Bool=true)\n",
    "    sims = Vector{Float64}(size(wordpairs,1))\n",
    "    npairs = size(wordpairs,1)\n",
    "\n",
    "    @showprogress for ii in 1:npairs\n",
    "        try \n",
    "            wvs1 = all_word_sense_vectors(ee,wordpairs[ii,1],\"\")\n",
    "            wvs2 = all_word_sense_vectors(ee,wordpairs[ii,2],\"\")\n",
    "            probs1 = general_wsd(ee, contexts[ii,1], wvs1;\n",
    "                    normalise_over_context_length=normalise_over_context_lengths)\n",
    "            probs2 = general_wsd(ee, contexts[ii,2], wvs2;\n",
    "                    normalise_over_context_length=normalise_over_context_lengths)\n",
    "            \n",
    "            lprobs1 = log.(probs1)\n",
    "            lprobs2 = log.(probs2)\n",
    "            loffset = max(maximum(lprobs1),maximum(lprobs2))#Offset for stability\n",
    "            @assert(isfinite(loffset), loffset)\n",
    "            @assert(loffset<=0.0, loffset)\n",
    "            \n",
    "            score::Float64 = 0.0\n",
    "            for (wv1,lprob1) in zip(wvs1, probs1)\n",
    "                for (wv2,lprob2) in zip(wvs2, probs2)\n",
    "                    d=1-cosine_dist(wv1,wv2)\n",
    "                    lweight = lprob1+lprob2-loffset \n",
    "                    score+=exp(lweight)*d\n",
    "                end\n",
    "            end\n",
    "            sims[ii] = (score*exp(loffset))/(length(wvs1)*length(wvs2))\n",
    "        catch ex\n",
    "            if typeof(ex) ∈ (KeyError, Query.NoContextError)   \n",
    "                println(ex)\n",
    "                sims[ii]=NaN\n",
    "            else\n",
    "                rethrow(ex)\n",
    "            end\n",
    "        end\n",
    "    end\n",
    "    return sims\n",
    "end"
   ]
  },
  {
   "cell_type": "code",
   "execution_count": 10,
   "metadata": {
    "collapsed": false
   },
   "outputs": [
    {
     "data": {
      "text/plain": [
       "get_sims_synth (generic function with 2 methods)"
      ]
     },
     "execution_count": 10,
     "metadata": {},
     "output_type": "execute_result"
    }
   ],
   "source": [
    "function get_sims_synth(ee, wordpairs::Matrix{String}, contexts::Matrix, normalise_over_context_lengths::Bool=true)\n",
    "    sims = Vector{Float64}(size(wordpairs,1))\n",
    "    npairs = size(wordpairs,1)\n",
    "\n",
    "    @showprogress for ii in 1:npairs\n",
    "        try \n",
    "            wv1::Vector{Float32} = SenseAlignment.synthesize_embedding(\n",
    "                    ee, contexts[ii,1],wordpairs[ii,1],\"\",\n",
    "                    normalise_over_context_lengths)\n",
    "            \n",
    "            wv2::Vector{Float32} = SenseAlignment.synthesize_embedding(\n",
    "                    ee, contexts[ii,2],wordpairs[ii,2],\"\",\n",
    "                    normalise_over_context_lengths)\n",
    "             \n",
    "            sims[ii]=1-cosine_dist(wv1,wv2)\n",
    "        catch ex\n",
    "            if typeof(ex) ∈ (KeyError, Query.NoContextError)   \n",
    "                println(ex)\n",
    "                sims[ii]=NaN\n",
    "            else\n",
    "                rethrow(ex)\n",
    "            end\n",
    "        end\n",
    "    end\n",
    "    return sims\n",
    "end"
   ]
  },
  {
   "cell_type": "code",
   "execution_count": 19,
   "metadata": {
    "collapsed": false
   },
   "outputs": [],
   "source": [
    "am=ee;"
   ]
  },
  {
   "cell_type": "code",
   "execution_count": 20,
   "metadata": {
    "collapsed": false,
    "scrolled": true
   },
   "outputs": [
    {
     "name": "stdout",
     "output_type": "stream",
     "text": [
      "Progress:   0%|                                         |  ETA: 0:27:03KeyError(\" SubString{String}[\\\"aglow\\\"], nor SubString{String}[\\\"\\\"] have embeddings\")\n",
      "Progress:   7%|███                                      |  ETA: 0:00:16KeyError(\" SubString{String}[\\\"insufflate\\\"], nor SubString{String}[\\\"\\\"] have embeddings\")\n",
      "Progress:  23%|█████████                                |  ETA: 0:00:07KeyError(\" SubString{String}[\\\"anorgasmia\\\"], nor SubString{String}[\\\"\\\"] have embeddings\")\n",
      "Progress:  27%|███████████                              |  ETA: 0:00:06KeyError(\" SubString{String}[\\\"backdate\\\"], nor SubString{String}[\\\"\\\"] have embeddings\")\n",
      "Progress:  29%|████████████                             |  ETA: 0:00:06KeyError(\" SubString{String}[\\\"notarize\\\"], nor SubString{String}[\\\"\\\"] have embeddings\")\n",
      "Progress:  42%|█████████████████                        |  ETA: 0:00:04KeyError(\" SubString{String}[\\\"unblock\\\"], nor SubString{String}[\\\"\\\"] have embeddings\")\n",
      "Progress:  47%|███████████████████                      |  ETA: 0:00:04KeyError(\" SubString{String}[\\\"escapologist\\\"], nor SubString{String}[\\\"\\\"] have embeddings\")\n",
      "Progress:  49%|████████████████████                     |  ETA: 0:00:03KeyError(\" SubString{String}[\\\"tombac\\\"], nor SubString{String}[\\\"\\\"] have embeddings\")\n",
      "KeyError(\" SubString{String}[\\\"nutriment\\\"], nor SubString{String}[\\\"\\\"] have embeddings\")\n",
      "Progress:  67%|███████████████████████████              |  ETA: 0:00:02KeyError(\" SubString{String}[\\\"bated\\\"], nor SubString{String}[\\\"\\\"] have embeddings\")\n",
      "Progress:  71%|█████████████████████████████            |  ETA: 0:00:02KeyError(\" SubString{String}[\\\"cosmographer\\\"], nor SubString{String}[\\\"\\\"] have embeddings\")\n",
      "KeyError(\" SubString{String}[\\\"exudation\\\"], nor SubString{String}[\\\"\\\"] have embeddings\")\n",
      "Progress:  93%|██████████████████████████████████████   |  ETA: 0:00:01KeyError(\" SubString{String}[\\\"relearn\\\"], nor SubString{String}[\\\"\\\"] have embeddings\")\n",
      "KeyError(\" SubString{String}[\\\"nonprofessional\\\"], nor SubString{String}[\\\"\\\"] have embeddings\")\n",
      "Progress:  96%|███████████████████████████████████████  |  ETA: 0:00:01KeyError(\" SubString{String}[\\\"solemnize\\\"], nor SubString{String}[\\\"\\\"] have embeddings\")\n",
      "Progress: 100%|█████████████████████████████████████████| Time: 0:00:11\n"
     ]
    },
    {
     "data": {
      "text/plain": [
       "0.40675642546098734"
      ]
     },
     "execution_count": 20,
     "metadata": {},
     "output_type": "execute_result"
    }
   ],
   "source": [
    "corspearman(scws_groundsim, \n",
    "get_sims_synth(am, scws_lc_wordpairs, scws_lc_windowed_contexts, false))"
   ]
  },
  {
   "cell_type": "code",
   "execution_count": 21,
   "metadata": {
    "collapsed": false
   },
   "outputs": [
    {
     "name": "stdout",
     "output_type": "stream",
     "text": [
      "KeyError(\" SubString{String}[\\\"aglow\\\"], nor SubString{String}[\\\"\\\"] have embeddings\")\n",
      "Progress:   7%|███                                      |  ETA: 0:00:06KeyError(\" SubString{String}[\\\"insufflate\\\"], nor SubString{String}[\\\"\\\"] have embeddings\")\n",
      "Progress:  23%|█████████                                |  ETA: 0:00:04KeyError(\" SubString{String}[\\\"anorgasmia\\\"], nor SubString{String}[\\\"\\\"] have embeddings\")\n",
      "Progress:  27%|███████████                              |  ETA: 0:00:04KeyError(\" SubString{String}[\\\"backdate\\\"], nor SubString{String}[\\\"\\\"] have embeddings\")\n",
      "Progress:  29%|████████████                             |  ETA: 0:00:04KeyError(\" SubString{String}[\\\"notarize\\\"], nor SubString{String}[\\\"\\\"] have embeddings\")\n",
      "Progress:  41%|█████████████████                        |  ETA: 0:00:03KeyError(\" SubString{String}[\\\"unblock\\\"], nor SubString{String}[\\\"\\\"] have embeddings\")\n",
      "Progress:  48%|████████████████████                     |  ETA: 0:00:03KeyError(\" SubString{String}[\\\"escapologist\\\"], nor SubString{String}[\\\"\\\"] have embeddings\")\n",
      "Progress:  50%|████████████████████                     |  ETA: 0:00:03KeyError(\" SubString{String}[\\\"tombac\\\"], nor SubString{String}[\\\"\\\"] have embeddings\")\n",
      "KeyError(\" SubString{String}[\\\"nutriment\\\"], nor SubString{String}[\\\"\\\"] have embeddings\")\n",
      "Progress:  66%|███████████████████████████              |  ETA: 0:00:02KeyError(\" SubString{String}[\\\"bated\\\"], nor SubString{String}[\\\"\\\"] have embeddings\")\n",
      "Progress:  71%|█████████████████████████████            |  ETA: 0:00:02KeyError(\" SubString{String}[\\\"cosmographer\\\"], nor SubString{String}[\\\"\\\"] have embeddings\")\n",
      "KeyError(\" SubString{String}[\\\"exudation\\\"], nor SubString{String}[\\\"\\\"] have embeddings\")\n",
      "Progress:  92%|██████████████████████████████████████   |  ETA: 0:00:00KeyError(\" SubString{String}[\\\"relearn\\\"], nor SubString{String}[\\\"\\\"] have embeddings\")\n",
      "KeyError(\" SubString{String}[\\\"nonprofessional\\\"], nor SubString{String}[\\\"\\\"] have embeddings\")\n",
      "Progress:  97%|████████████████████████████████████████ |  ETA: 0:00:00KeyError(\" SubString{String}[\\\"solemnize\\\"], nor SubString{String}[\\\"\\\"] have embeddings\")\n",
      "Progress: 100%|█████████████████████████████████████████| Time: 0:00:06\n"
     ]
    },
    {
     "data": {
      "text/plain": [
       "0.28686105472877327"
      ]
     },
     "execution_count": 21,
     "metadata": {},
     "output_type": "execute_result"
    }
   ],
   "source": [
    "avgsimc_am_lc_windows_nosmooth = \n",
    "    get_avgsimc(am, scws_lc_wordpairs, scws_lc_windowed_contexts, false)\n",
    "corspearman(scws_groundsim, avgsimc_am_lc_windows_nosmooth)"
   ]
  },
  {
   "cell_type": "code",
   "execution_count": 26,
   "metadata": {
    "collapsed": false
   },
   "outputs": [
    {
     "data": {
      "text/plain": [
       "300"
      ]
     },
     "execution_count": 26,
     "metadata": {},
     "output_type": "execute_result"
    }
   ],
   "source": [
    "am.dimension"
   ]
  },
  {
   "cell_type": "code",
   "execution_count": 23,
   "metadata": {
    "collapsed": false
   },
   "outputs": [
    {
     "name": "stdout",
     "output_type": "stream",
     "text": [
      "KeyError(\" SubString{String}[\\\"aglow\\\"], nor SubString{String}[\\\"\\\"] have embeddings\")\n",
      "Progress:   6%|██                                       |  ETA: 0:00:07KeyError(\" SubString{String}[\\\"insufflate\\\"], nor SubString{String}[\\\"\\\"] have embeddings\")\n",
      "Progress:  23%|█████████                                |  ETA: 0:00:05KeyError(\" SubString{String}[\\\"anorgasmia\\\"], nor SubString{String}[\\\"\\\"] have embeddings\")\n",
      "Progress:  27%|███████████                              |  ETA: 0:00:04KeyError(\" SubString{String}[\\\"backdate\\\"], nor SubString{String}[\\\"\\\"] have embeddings\")\n",
      "Progress:  29%|████████████                             |  ETA: 0:00:04KeyError(\" SubString{String}[\\\"notarize\\\"], nor SubString{String}[\\\"\\\"] have embeddings\")\n",
      "Progress:  41%|█████████████████                        |  ETA: 0:00:04KeyError(\" SubString{String}[\\\"unblock\\\"], nor SubString{String}[\\\"\\\"] have embeddings\")\n",
      "Progress:  48%|████████████████████                     |  ETA: 0:00:04KeyError(\" SubString{String}[\\\"escapologist\\\"], nor SubString{String}[\\\"\\\"] have embeddings\")\n",
      "Progress:  50%|████████████████████                     |  ETA: 0:00:03KeyError(\" SubString{String}[\\\"tombac\\\"], nor SubString{String}[\\\"\\\"] have embeddings\")\n",
      "Progress:  51%|█████████████████████                    |  ETA: 0:00:03KeyError(\" SubString{String}[\\\"nutriment\\\"], nor SubString{String}[\\\"\\\"] have embeddings\")\n",
      "Progress:  66%|███████████████████████████              |  ETA: 0:00:02KeyError(\" SubString{String}[\\\"bated\\\"], nor SubString{String}[\\\"\\\"] have embeddings\")\n",
      "Progress:  71%|█████████████████████████████            |  ETA: 0:00:02KeyError(\" SubString{String}[\\\"cosmographer\\\"], nor SubString{String}[\\\"\\\"] have embeddings\")\n",
      "KeyError(\" SubString{String}[\\\"exudation\\\"], nor SubString{String}[\\\"\\\"] have embeddings\")\n",
      "Progress:  92%|██████████████████████████████████████   |  ETA: 0:00:01KeyError(\" SubString{String}[\\\"relearn\\\"], nor SubString{String}[\\\"\\\"] have embeddings\")\n",
      "KeyError(\" SubString{String}[\\\"nonprofessional\\\"], nor SubString{String}[\\\"\\\"] have embeddings\")\n",
      "Progress:  96%|███████████████████████████████████████  |  ETA: 0:00:00KeyError(\" SubString{String}[\\\"solemnize\\\"], nor SubString{String}[\\\"\\\"] have embeddings\")\n",
      "Progress: 100%|█████████████████████████████████████████| Time: 0:00:07\n"
     ]
    },
    {
     "data": {
      "text/plain": [
       "0.27588873113073076"
      ]
     },
     "execution_count": 23,
     "metadata": {},
     "output_type": "execute_result"
    }
   ],
   "source": [
    "avgsimc_am_lc_windows_geosmooth = get_avgsimc(am, scws_lc_wordpairs, scws_lc_windowed_contexts, true)\n",
    "corspearman(scws_groundsim, avgsimc_am_lc_windows_geosmooth)"
   ]
  },
  {
   "cell_type": "code",
   "execution_count": 24,
   "metadata": {
    "collapsed": false
   },
   "outputs": [
    {
     "name": "stdout",
     "output_type": "stream",
     "text": [
      "KeyError(\" SubString{String}[\\\"aglow\\\"], nor SubString{String}[\\\"\\\"] have embeddings\")\n",
      "Progress:   6%|██                                       |  ETA: 0:00:05KeyError(\" SubString{String}[\\\"insufflate\\\"], nor SubString{String}[\\\"\\\"] have embeddings\")\n",
      "Progress:  22%|█████████                                |  ETA: 0:00:04KeyError(\" SubString{String}[\\\"anorgasmia\\\"], nor SubString{String}[\\\"\\\"] have embeddings\")\n",
      "Progress:  27%|███████████                              |  ETA: 0:00:03KeyError(\" SubString{String}[\\\"backdate\\\"], nor SubString{String}[\\\"\\\"] have embeddings\")\n",
      "Progress:  28%|████████████                             |  ETA: 0:00:03KeyError(\" SubString{String}[\\\"notarize\\\"], nor SubString{String}[\\\"\\\"] have embeddings\")\n",
      "Progress:  41%|█████████████████                        |  ETA: 0:00:03KeyError(\" SubString{String}[\\\"unblock\\\"], nor SubString{String}[\\\"\\\"] have embeddings\")\n",
      "Progress:  46%|███████████████████                      |  ETA: 0:00:05KeyError(\" SubString{String}[\\\"escapologist\\\"], nor SubString{String}[\\\"\\\"] have embeddings\")\n",
      "Progress:  48%|████████████████████                     |  ETA: 0:00:04KeyError(\" SubString{String}[\\\"tombac\\\"], nor SubString{String}[\\\"\\\"] have embeddings\")\n",
      "Progress:  51%|█████████████████████                    |  ETA: 0:00:05KeyError(\" SubString{String}[\\\"nutriment\\\"], nor SubString{String}[\\\"\\\"] have embeddings\")\n",
      "Progress:  65%|██████████████████████████               |  ETA: 0:00:03KeyError(\" SubString{String}[\\\"bated\\\"], nor SubString{String}[\\\"\\\"] have embeddings\")\n",
      "Progress:  69%|████████████████████████████             |  ETA: 0:00:03KeyError(\" SubString{String}[\\\"cosmographer\\\"], nor SubString{String}[\\\"\\\"] have embeddings\")\n",
      "Progress:  72%|█████████████████████████████            |  ETA: 0:00:03KeyError(\" SubString{String}[\\\"exudation\\\"], nor SubString{String}[\\\"\\\"] have embeddings\")\n",
      "Progress:  92%|██████████████████████████████████████   |  ETA: 0:00:01KeyError(\" SubString{String}[\\\"relearn\\\"], nor SubString{String}[\\\"\\\"] have embeddings\")\n",
      "KeyError(\" SubString{String}[\\\"nonprofessional\\\"], nor SubString{String}[\\\"\\\"] have embeddings\")\n",
      "Progress:  97%|████████████████████████████████████████ |  ETA: 0:00:00KeyError(\" SubString{String}[\\\"solemnize\\\"], nor SubString{String}[\\\"\\\"] have embeddings\")\n",
      "Progress: 100%|█████████████████████████████████████████| Time: 0:00:08\n"
     ]
    },
    {
     "data": {
      "text/plain": [
       "0.4970380445510214"
      ]
     },
     "execution_count": 24,
     "metadata": {},
     "output_type": "execute_result"
    }
   ],
   "source": [
    "corspearman(scws_groundsim, \n",
    "get_sims_synth(am, scws_lc_wordpairs, scws_lc_windowed_contexts, true))\n",
    "#0.650271346861422 Adagram"
   ]
  },
  {
   "cell_type": "code",
   "execution_count": null,
   "metadata": {
    "collapsed": false
   },
   "outputs": [],
   "source": [
    "corspearman(scws_groundsim, \n",
    "get_avgsimc(am, scws_lc_wordpairs, scws_lc_contexts, true))"
   ]
  },
  {
   "cell_type": "code",
   "execution_count": null,
   "metadata": {
    "collapsed": false
   },
   "outputs": [],
   "source": [
    "corspearman(scws_groundsim, \n",
    "get_avgsimc(am, scws_lc_wordpairs, scws_lc_contexts, false))\n",
    "#0.42377281027185104"
   ]
  },
  {
   "cell_type": "code",
   "execution_count": null,
   "metadata": {
    "collapsed": false
   },
   "outputs": [],
   "source": [
    "corspearman(scws_groundsim, \n",
    "get_sims_synth(am, scws_lc_wordpairs, scws_lc_contexts, true))\n",
    "#0.6452188028304504"
   ]
  },
  {
   "cell_type": "code",
   "execution_count": 16,
   "metadata": {
    "collapsed": false
   },
   "outputs": [
    {
     "name": "stdout",
     "output_type": "stream",
     "text": [
      "Progress:   8%|███                                      |  ETA: 0:00:29KeyError(\" SubString{String}[\\\"insufflate\\\"], nor SubString{String}[\\\"\\\"] have embeddings\")\n",
      "Progress:  27%|███████████                              |  ETA: 0:00:22KeyError(\" SubString{String}[\\\"backdate\\\"], nor SubString{String}[\\\"\\\"] have embeddings\")\n",
      "Progress: 100%|█████████████████████████████████████████| Time: 0:00:31\n"
     ]
    },
    {
     "data": {
      "text/plain": [
       "0.5246294815842275"
      ]
     },
     "execution_count": 16,
     "metadata": {},
     "output_type": "execute_result"
    }
   ],
   "source": []
  },
  {
   "cell_type": "code",
   "execution_count": null,
   "metadata": {
    "collapsed": true
   },
   "outputs": [],
   "source": [
    "# 0.5342692139056353     GlobalMin   plain/tokenised_lowercase_WestburyLab.wikicorp.201004_100_nosubsample.jld\n",
    "# 0.48861817784625977    GlobalMin   adagram/more_senses.adagram_model.jld\n",
    "# 0.45416228327202474    GlobalMin   sensemodels/adagram/semhuff_more_senses.adagram_model.jld\"\n",
    "# 0.523055629491102      GlobalMin   sensemodels/adagram/semhuff_more_senses.adagram_model.jld\"\n",
    "\n",
    "# 0.524743130161508      LocalSynth   greedy/tokenised_lowercase_WestburyLab.wikicorp.201004_300_i1.jl\n",
    "# 0.5104268665100573     LocalSynth   sensemodels/adagram/semhuff_more_senses.adagram_model.jld\"\n",
    "# 0.6288843132192203     LocalSynth   adagram/more_senses.adagram_model.jld"
   ]
  }
 ],
 "metadata": {
  "kernelspec": {
   "display_name": "Julia 0.5.0-rc0",
   "language": "julia",
   "name": "julia-0.5"
  },
  "language_info": {
   "file_extension": ".jl",
   "mimetype": "application/julia",
   "name": "julia",
   "version": "0.5.0"
  }
 },
 "nbformat": 4,
 "nbformat_minor": 0
}
