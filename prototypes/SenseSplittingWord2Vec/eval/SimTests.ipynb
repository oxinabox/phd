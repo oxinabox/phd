{
 "cells": [
  {
   "cell_type": "code",
   "execution_count": 1,
   "metadata": {
    "collapsed": false
   },
   "outputs": [],
   "source": [
    "using SwiftObjectStores"
   ]
  },
  {
   "cell_type": "code",
   "execution_count": 2,
   "metadata": {
    "collapsed": false
   },
   "outputs": [],
   "source": [
    "using ProgressMeter"
   ]
  },
  {
   "cell_type": "code",
   "execution_count": 3,
   "metadata": {
    "collapsed": false,
    "scrolled": true
   },
   "outputs": [
    {
     "name": "stderr",
     "output_type": "stream",
     "text": [
      "WARNING: Method definition anynull(AbstractArray) in module NullableArrays at /home/ubuntu/.julia/v0.5/NullableArrays/src/primitives.jl:170 overwritten in module PooledElements at /home/ubuntu/.julia/v0.5/PooledElements/src/pooledstringarray.jl:243.\n",
      "WARNING: Method definition #warn(Array{Any, 1}, Base.#warn, Exception) in module Base overwritten in module Lumberjack.\n",
      "WARNING: Method definition error(AbstractString) in module Base at error.jl:21 overwritten in module Lumberjack at /home/ubuntu/.julia/v0.5/Lumberjack/src/lumbermill.jl:138.\n",
      "WARNING: Method definition error(Any...) in module Base at error.jl:22 overwritten in module Lumberjack at /home/ubuntu/.julia/v0.5/Lumberjack/src/lumbermill.jl:114.\n",
      "WARNING: Method definition warn(Exception) in module Base at util.jl:355 overwritten in module Lumberjack at /home/ubuntu/.julia/v0.5/Lumberjack/src/lumbermill.jl:99.\n",
      "WARNING: Base.ASCIIString is deprecated, use String instead.\n",
      "  likely near /mnt_volume/phd/prototypes/SenseSplittingWord2Vec/src/WordDistributions.jl:2\n",
      "WARNING: Base.ASCIIString is deprecated, use String instead.\n",
      "  likely near /mnt_volume/phd/prototypes/SenseSplittingWord2Vec/src/WordDistributions.jl:2\n",
      "WARNING: Base.ASCIIString is deprecated, use String instead.\n",
      "  likely near /mnt_volume/phd/prototypes/SenseSplittingWord2Vec/src/WordDistributions.jl:2\n",
      "\n",
      "WARNING: deprecated syntax \"[a=>b for (a,b) in c]\".\n",
      "Use \"Dict(a=>b for (a,b) in c)\" instead.\n"
     ]
    }
   ],
   "source": [
    "using WordEmbeddings, SoftmaxClassifier\n",
    "using Utils\n",
    "using Query\n",
    "using WordStreams\n",
    "using Distances\n",
    "using StatsBase\n",
    "using Training\n",
    "using AdaGramCompat\n",
    "using CorpusLoaders.Similarity"
   ]
  },
  {
   "cell_type": "code",
   "execution_count": 7,
   "metadata": {
    "collapsed": false
   },
   "outputs": [
    {
     "name": "stderr",
     "output_type": "stream",
     "text": [
      "/usr/local/lib/python2.7/dist-packages/requests/packages/urllib3/util/ssl_.py:122: InsecurePlatformWarning: A true SSLContext object is not available. This prevents urllib3 from configuring SSL appropriately and may cause certain SSL connections to fail. You can upgrade to a newer version of Python to solve this. For more information, see https://urllib3.readthedocs.io/en/latest/security.html#insecureplatformwarning.\n",
      "  InsecurePlatformWarning\n",
      "/usr/local/lib/python2.7/dist-packages/requests/packages/urllib3/util/ssl_.py:122: InsecurePlatformWarning: A true SSLContext object is not available. This prevents urllib3 from configuring SSL appropriately and may cause certain SSL connections to fail. You can upgrade to a newer version of Python to solve this. For more information, see https://urllib3.readthedocs.io/en/latest/security.html#insecureplatformwarning.\n",
      "  InsecurePlatformWarning\n"
     ]
    },
    {
     "data": {
      "text/plain": [
       "Dict{Pair{Any,Any},Pair{Any,Any}} with 1 entry:\n",
       "  Pair{Any,Any}(\"traceback\",\"Traceback (most recent call last):\\n  File \\\"/usr/local/lib/python2.7/dist-packages/swiftclient/service.py\\\", line 950, in _list_container_job\\n    delimiter=options['delimiter']\\n  File \\\"/usr/local/lib/python2.7/dist-packages/swiftclient/client.py\\\", line 1721, in get_container\\n    query_string=query_string)\\n  File \\\"/usr/local/lib/python2.7/dist-packages/swiftclient/client.py\\\", line 1647, in _retry\\n    service_token=self.service_token, **kwargs)\\n  File \\\"/usr/local/lib/python2.7/dist-packages/swiftclient/client.py\\\", line 921, in get_container\\n    return resp_headers, parse_api_response(resp_headers, body)\\n  File \\\"/usr/local/lib/python2.7/dist-packages/swiftclient/utils.py\\\", line 134, in parse_api_response\\n    return json.loads(body.decode(charset))\\n  File \\\"/usr/lib/python2.7/json/__init__.py\\\", line 338, in loads\\n    return _default_decoder.decode(s)\\n  File \\\"/usr/lib/python2.7/json/decoder.py\\\", line 366, in decode\\n    obj, end = self.raw_decode(s, idx=_w(s, 0).end())\\n  File \\\"/usr/lib/python2.7/json/decoder.py\\\", line 384, in raw_decode\\n    raise ValueError(\\\"No JSON object could be decoded\\\")\\nValueError: No JSON object could be decoded\\n\") => Pair{Any,Any}(\"error\",PyObject ValueError('No JSON object could be decoded',))"
      ]
     },
     "execution_count": 7,
     "metadata": {},
     "output_type": "execute_result"
    }
   ],
   "source": [
    "SwiftObjectStores.list(SwiftService(), \"sensemodels/plain\")"
   ]
  },
  {
   "cell_type": "code",
   "execution_count": null,
   "metadata": {
    "collapsed": false
   },
   "outputs": [],
   "source": [
    "function all_word_sense_vectors(ee::WordEmbedding, word)\n",
    "    if haskey(ee.embedding, word)\n",
    "        [ee.embedding[word]]\n",
    "    else\n",
    "        Vector{Float32}[]\n",
    "    end\n",
    "end\n",
    "\n",
    "\n",
    "function all_word_sense_vectors(ee::WordSenseEmbedding, word)\n",
    "    get(ee.embedding, word, Vector{Float32}[])\n",
    "end\n",
    "\n",
    "function all_word_sense_vectors(am::AdaGramCompat.AdaGramModel, word)\n",
    "    if haskey(am.dict.word2id, word)\n",
    "        wsv_mat = word_sense_vectors(am, word)\n",
    "        [view(wsv_mat,:,ii) for ii in 1:size(wsv_mat,2)]\n",
    "    else\n",
    "        Vector{Float32}[]\n",
    "    end\n",
    "end"
   ]
  },
  {
   "cell_type": "code",
   "execution_count": 9,
   "metadata": {
    "collapsed": false
   },
   "outputs": [
    {
     "name": "stderr",
     "output_type": "stream",
     "text": [
      "/usr/local/lib/python2.7/dist-packages/requests/packages/urllib3/util/ssl_.py:122: InsecurePlatformWarning: A true SSLContext object is not available. This prevents urllib3 from configuring SSL appropriately and may cause certain SSL connections to fail. You can upgrade to a newer version of Python to solve this. For more information, see https://urllib3.readthedocs.io/en/latest/security.html#insecureplatformwarning.\n",
      "  InsecurePlatformWarning\n",
      "/usr/local/lib/python2.7/dist-packages/requests/packages/urllib3/util/ssl_.py:122: InsecurePlatformWarning: A true SSLContext object is not available. This prevents urllib3 from configuring SSL appropriately and may cause certain SSL connections to fail. You can upgrade to a newer version of Python to solve this. For more information, see https://urllib3.readthedocs.io/en/latest/security.html#insecureplatformwarning.\n",
      "  InsecurePlatformWarning\n"
     ]
    }
   ],
   "source": [
    "using JLD\n",
    "#ee = load(\"models/ss/tokenised_lowercase_WestburyLab.wikicorp.201004_300_i1.jld\",\"ee\");\n",
    "#eep = get_jld(SwiftService(), \"sensemodels/plain/\", \"tokenised_lowercase_WestburyLab.wikicorp.201004_100_nosubsample.jld\", \"ee\");\n",
    "ee_s = get_jld(SwiftService(), \"sensemodels\", \"plain/tokenised_lowercase_WestburyLab.wikicorp.201004_100_nosubsample.semhuff.jld\", \"ee\");\n"
   ]
  },
  {
   "cell_type": "code",
   "execution_count": null,
   "metadata": {
    "collapsed": true
   },
   "outputs": [],
   "source": [
    "using AdaGram\n",
    "using AdaGramCompat\n",
    "am = load(\"models/adagram/more_senses.adagram_model.jld\", \"am\");"
   ]
  },
  {
   "cell_type": "code",
   "execution_count": null,
   "metadata": {
    "collapsed": true
   },
   "outputs": [],
   "source": [
    "s_am = get_jld(SwiftService(), \"sensemodels/adagram/\", \"semhuff_more_senses.adagram_model.jld\", \"am\");"
   ]
  },
  {
   "cell_type": "code",
   "execution_count": null,
   "metadata": {
    "collapsed": false,
    "scrolled": true
   },
   "outputs": [],
   "source": [
    "function get_sims(ee, wordpairs::Matrix{String})\n",
    "    sims = Vector{Float64}(size(wordpairs,1))\n",
    "    for ii in 1:size(wordpairs,1)\n",
    "        try\n",
    "            wvs_1::Matrix{Float32} = hcat(all_word_sense_vectors(ee,wordpairs[ii,1])...)\n",
    "            wvs_2::Matrix{Float32} = hcat(all_word_sense_vectors(ee,wordpairs[ii,2])...)\n",
    "            sims[ii]=1-minimum(pairwise(CosineDist(), wvs_1,wvs_2))\n",
    "        catch ex\n",
    "            warn(ex)\n",
    "            sims[ii]=NaN\n",
    "        end\n",
    "    end\n",
    "    return sims\n",
    "end\n"
   ]
  },
  {
   "cell_type": "code",
   "execution_count": null,
   "metadata": {
    "collapsed": false
   },
   "outputs": [],
   "source": [
    "wordpairs, groundsim = load_wordsim353(\"./data/corpora/wordsim353/combined.csv\");\n",
    "wordpairs=lowercase.(wordpairs)\n",
    "\n",
    "@show corspearman(groundsim,get_sims(ee,wordpairs))\n",
    "@show corspearman(groundsim,get_sims(am,wordpairs))\n",
    "@show corspearman(groundsim,get_sims(s_am,wordpairs));"
   ]
  },
  {
   "cell_type": "code",
   "execution_count": null,
   "metadata": {
    "collapsed": true
   },
   "outputs": [],
   "source": [
    "reload(\"\")"
   ]
  },
  {
   "cell_type": "code",
   "execution_count": null,
   "metadata": {
    "collapsed": false,
    "scrolled": true
   },
   "outputs": [],
   "source": []
  },
  {
   "cell_type": "code",
   "execution_count": null,
   "metadata": {
    "collapsed": false
   },
   "outputs": [],
   "source": [
    "function window_context(index::Integer, context::Vector, window_size::Integer)\n",
    "    window_lower_bound = max(index - window_size÷2, 1)\n",
    "    window_upper_bound = min(index + window_size÷2 -1 , length(context))\n",
    "    view(context, window_lower_bound:window_upper_bound)\n",
    "end\n",
    "Base.Test.@test window_context(5, split(\"1 2 3 4 6 7 8\"), 2) == [\"4\", \"6\"]\n",
    "Base.Test.@test window_context(5, split(\"1 2 3 4 6 7 8\"), 4) == [\"3\" , \"4\", \"6\", \"7\"]\n",
    "Base.Test.@test window_context(2, split(\"1 3 4 5\"), 4) == [\"1\",\"3\",\"4\"]\n",
    "Base.Test.@test window_context(4, split(\"1 2 3 5\"), 4) == [\"2\",\"3\",\"5\"]\n",
    "Base.Test.@test window_context(5, split(\"1 2 3 4 6 7 8\"), typemax(Int)) == split(\"1 2 3 4 6 7 8\")"
   ]
  },
  {
   "cell_type": "code",
   "execution_count": null,
   "metadata": {
    "collapsed": true
   },
   "outputs": [],
   "source": [
    "(scws_wordpairs, scws_groundsim, scws_contexts, scws_indexes) = CorpusLoaders.Similarity.load_scws(\"./data/corpora/SCWS/ratings.txt\");\n",
    "scws_windowed_contexts = ((iis, cont) -> window_context(iis, cont, 10)).(scws_indexes, scws_contexts);"
   ]
  },
  {
   "cell_type": "code",
   "execution_count": null,
   "metadata": {
    "collapsed": false,
    "scrolled": true
   },
   "outputs": [],
   "source": [
    "function get_sims(ee::FixedWordSenseEmbedding, wordpairs::Matrix{String}, contexts::Matrix)\n",
    "    sims = Vector{Float64}(size(wordpairs,1))\n",
    "    for ii in 1:size(wordpairs,1)\n",
    "        try \n",
    "            sense1 = WSD(ee, wordpairs[ii,1],contexts[ii,1];skip_oov=true)\n",
    "            wv1 = ee.embedding[wordpairs[ii,1]][sense1]\n",
    "            \n",
    "            sense2 = WSD(ee, wordpairs[ii,2],contexts[ii,2];skip_oov=true)\n",
    "            wv2 = ee.embedding[wordpairs[ii,2]][sense2]\n",
    "            \n",
    "            sims[ii]=1-cosine_dist(wv1,wv2)\n",
    "        catch ex\n",
    "            if typeof(ex)==KeyError\n",
    "                warn(ex)\n",
    "                sims[ii]=NaN\n",
    "            else\n",
    "                rethrow(ex)\n",
    "            end\n",
    "        end\n",
    "    end\n",
    "    return sims\n",
    "end\n"
   ]
  },
  {
   "cell_type": "code",
   "execution_count": null,
   "metadata": {
    "collapsed": false
   },
   "outputs": [],
   "source": [
    "\n",
    "local_sims = get_sims(ee, scws_wordpairs, scws_contexts)\n",
    "corspearman(scws_groundsim, scws_local_sims)\n",
    "\n",
    "\n",
    "global_syms = get_sims(am, scws_wordpairs)\n",
    "corspearman(scws_groundsim, global_syms)\n"
   ]
  },
  {
   "cell_type": "code",
   "execution_count": null,
   "metadata": {
    "collapsed": false
   },
   "outputs": [],
   "source": [
    "function synthesize_embedding(am::AdaGramModel,context::AbstractVector, word::AbstractString)\n",
    "    known_context = filter(c->haskey(am.dict.word2id, c), context)\n",
    "    sum(all_word_sense_vectors(am, word).*disambiguate(am.vm, am.dict, word, known_context, false))\n",
    "end"
   ]
  },
  {
   "cell_type": "code",
   "execution_count": null,
   "metadata": {
    "collapsed": false
   },
   "outputs": [],
   "source": [
    "_lp=Dict()"
   ]
  },
  {
   "cell_type": "code",
   "execution_count": null,
   "metadata": {
    "collapsed": false
   },
   "outputs": [],
   "source": [
    "function normal_probs(logprobs::Vector)\n",
    "    ret = copy(logprobs)\n",
    "    max_lp = maximum(logprobs)\n",
    "    ret.-=max_lp #Bring closer to zero\n",
    "    map!(exp,ret)\n",
    "    denom = sum(ret)\n",
    "    ret./=denom\n",
    "    ret\n",
    "end\n",
    "\n",
    "\n",
    "function synthesize_embedding2(ee,context::AbstractVector, word_or_phrase::AbstractString, smoothby=1)\n",
    "    logprobs, wvs = get!(_lp, (ee, context, word_or_phrase)) do\n",
    "        words = split(word_or_phrase, \" \")\n",
    "        wvs = vcat((all_word_sense_vectors(ee,w) for w in words)...)\n",
    "        if length(wvs) == 0\n",
    "                throw(KeyError(\"None of $words have embeddings\"))\n",
    "        end\n",
    "        lps = [logprob_of_context(ee, context, wv; skip_oov=true, normalise_over_length=false) \n",
    "                 for wv in wvs]\n",
    "        (lps, wvs)\n",
    "    end\n",
    "    slogprobs = logprobs./(smoothby*length(context))\n",
    "    sum(normal_probs(slogprobs).*wvs)\n",
    "end\n",
    "    \n",
    "    \n",
    "\n",
    "\"\"\"\n",
    "synthesize_embedding:: Embeddings, Context, Word -> WordVector\n",
    "\"\"\"\n",
    "    function get_sims_synth(ee, wordpairs::Matrix{String}, contexts::Matrix, smoothby=1)\n",
    "    sims = Vector{Float64}(size(wordpairs,1))\n",
    "    npairs = size(wordpairs,1)\n",
    "        #@showprogress \n",
    "        for ii in 1:npairs\n",
    "        try           \n",
    "            wv1 = synthesize_embedding2(ee, contexts[ii,1],wordpairs[ii,1], smoothby)\n",
    "            wv2 = synthesize_embedding2(ee, contexts[ii,2],wordpairs[ii,2], smoothby)\n",
    "             \n",
    "            sims[ii]=1-cosine_dist(wv1,wv2)\n",
    "        catch ex\n",
    "            if typeof(ex)==KeyError\n",
    "                #warn(ex)\n",
    "                sims[ii]=NaN\n",
    "            else\n",
    "                rethrow(ex)\n",
    "            end\n",
    "        end\n",
    "    end\n",
    "    return sims\n",
    "end\n"
   ]
  },
  {
   "cell_type": "code",
   "execution_count": null,
   "metadata": {
    "collapsed": false,
    "scrolled": true
   },
   "outputs": [],
   "source": []
  },
  {
   "cell_type": "code",
   "execution_count": null,
   "metadata": {
    "collapsed": false,
    "scrolled": true
   },
   "outputs": [],
   "source": [
    "sims = get_sims_synth(am, scws_wordpairs, scws_contexts, 0.5)\n",
    "corspearman(scws_groundsim, sims)"
   ]
  },
  {
   "cell_type": "code",
   "execution_count": null,
   "metadata": {
    "collapsed": false
   },
   "outputs": [],
   "source": [
    "corspearman(scws_groundsim, get_sims_synth(am, scws_wordpairs, windowed_scws_contexts,1))"
   ]
  },
  {
   "cell_type": "code",
   "execution_count": null,
   "metadata": {
    "collapsed": false
   },
   "outputs": [],
   "source": [
    "corspearman(scws_groundsim, get_sims_synth(s_am, scws_wordpairs, scws_contexts, 1))"
   ]
  },
  {
   "cell_type": "code",
   "execution_count": null,
   "metadata": {
    "collapsed": false,
    "scrolled": true
   },
   "outputs": [],
   "source": [
    "corspearman(scws_groundsim, get_sims_synth(s_am, scws_wordpairs, windowed_scws_contexts,1))"
   ]
  },
  {
   "cell_type": "code",
   "execution_count": null,
   "metadata": {
    "collapsed": false
   },
   "outputs": [],
   "source": [
    "cor = corspearman(scws_groundsim, get_sims_synth(am, scws_wordpairs,scws_contexts, 2/e) )"
   ]
  },
  {
   "cell_type": "code",
   "execution_count": null,
   "metadata": {
    "collapsed": false
   },
   "outputs": [],
   "source": [
    "cor = corspearman(scws_groundsim, get_sims_synth(am, scws_wordpairs,scws_contexts, 0.74))"
   ]
  },
  {
   "cell_type": "code",
   "execution_count": null,
   "metadata": {
    "collapsed": false,
    "scrolled": false
   },
   "outputs": [],
   "source": [
    "r=[]\n",
    "for ii in 0.1:0.5:100\n",
    "    cor = corspearman(scws_groundsim, get_sims_synth(s_am, scws_wordpairs,scws_contexts, ii))\n",
    "    push!(r,(ii,cor))\n",
    "    println(ii,\"\\t\", cor)\n",
    "    flush(STDOUT)\n",
    "end"
   ]
  },
  {
   "cell_type": "code",
   "execution_count": null,
   "metadata": {
    "collapsed": false
   },
   "outputs": [],
   "source": [
    "using UnicodePlots"
   ]
  },
  {
   "cell_type": "code",
   "execution_count": null,
   "metadata": {
    "collapsed": false
   },
   "outputs": [],
   "source": [
    "lineplot(first.(r), (x->x[2]).(r))\n",
    "\n"
   ]
  },
  {
   "cell_type": "code",
   "execution_count": null,
   "metadata": {
    "collapsed": false
   },
   "outputs": [],
   "source": [
    "lineplot(first.(r), (x->x[2]).(r))"
   ]
  },
  {
   "cell_type": "code",
   "execution_count": null,
   "metadata": {
    "collapsed": false
   },
   "outputs": [],
   "source": [
    "@show i=findmax((x->x[2]).(r))\n",
    "r[i[2]]"
   ]
  },
  {
   "cell_type": "code",
   "execution_count": null,
   "metadata": {
    "collapsed": true
   },
   "outputs": [],
   "source": [
    "# 0.5342692139056353     GlobalMin   plain/tokenised_lowercase_WestburyLab.wikicorp.201004_100_nosubsample.jld\n",
    "# 0.48861817784625977    GlobalMin   adagram/more_senses.adagram_model.jld\n",
    "# 0.45416228327202474    GlobalMin   sensemodels/adagram/semhuff_more_senses.adagram_model.jld\"\n",
    "# 0.523055629491102      GlobalMin   sensemodels/adagram/semhuff_more_senses.adagram_model.jld\"\n",
    "# 0.524743130161508      LocalSynth   greedy/tokenised_lowercase_WestburyLab.wikicorp.201004_300_i1.jl\n",
    "# 0.6452187057383217     LocalSynth   adagram/more_senses.adagram_model.jld"
   ]
  }
 ],
 "metadata": {
  "kernelspec": {
   "display_name": "Julia 0.5.0-rc0",
   "language": "julia",
   "name": "julia-0.5"
  },
  "language_info": {
   "file_extension": ".jl",
   "mimetype": "application/julia",
   "name": "julia",
   "version": "0.5.0"
  }
 },
 "nbformat": 4,
 "nbformat_minor": 0
}
