{
 "cells": [
  {
   "cell_type": "code",
   "execution_count": 1,
   "metadata": {
    "collapsed": false
   },
   "outputs": [
    {
     "name": "stderr",
     "output_type": "stream",
     "text": [
      "WARNING: Base.writemime is deprecated.\n",
      "  likely near /home/ubuntu/.julia/v0.5/IJulia/src/kernel.jl:31\n",
      "WARNING: Base.writemime is deprecated.\n",
      "  likely near /home/ubuntu/.julia/v0.5/IJulia/src/kernel.jl:31\n",
      "WARNING: Base.writemime is deprecated.\n",
      "  likely near /home/ubuntu/.julia/v0.5/IJulia/src/kernel.jl:31\n",
      "WARNING: Base.writemime is deprecated.\n",
      "  likely near /home/ubuntu/.julia/v0.5/IJulia/src/kernel.jl:31\n"
     ]
    }
   ],
   "source": [
    "using WordNet\n",
    "using WordEmbeddings, SoftmaxClassifier\n",
    "using Utils\n",
    "using Query\n",
    "using Clustering\n",
    "using Distances\n",
    "using Iterators"
   ]
  },
  {
   "cell_type": "code",
   "execution_count": 2,
   "metadata": {
    "collapsed": false
   },
   "outputs": [
    {
     "data": {
      "text/plain": [
       "WordNet.DB"
      ]
     },
     "execution_count": 2,
     "metadata": {},
     "output_type": "execute_result"
    }
   ],
   "source": [
    "db = DB(\"data/corpora/wordnet/\")"
   ]
  },
  {
   "cell_type": "code",
   "execution_count": 3,
   "metadata": {
    "collapsed": false,
    "scrolled": true
   },
   "outputs": [
    {
     "name": "stderr",
     "output_type": "stream",
     "text": [
      "WARNING: Base.writemime is deprecated.\n",
      "  likely near /home/ubuntu/.julia/v0.5/IJulia/src/kernel.jl:31\n",
      "WARNING: Base.writemime is deprecated.\n",
      "  likely near /home/ubuntu/.julia/v0.5/IJulia/src/kernel.jl:31\n",
      "WARNING: Base.writemime is deprecated.\n",
      "  likely near /home/ubuntu/.julia/v0.5/IJulia/src/kernel.jl:31\n",
      "WARNING: Base.writemime is deprecated.\n",
      "  likely near /home/ubuntu/.julia/v0.5/IJulia/src/kernel.jl:31\n",
      "WARNING: Base.writemime is deprecated.\n",
      "  likely near /home/ubuntu/.julia/v0.5/IJulia/src/kernel.jl:31\n",
      "in display_dict at /home/ubuntu/.julia/v0.5/IJulia/src/execute_request.jl\n"
     ]
    },
    {
     "data": {
      "text/plain": [
       "8-element Array{WordNet.Synset,1}:\n",
       " (n) province, state (the territory occupied by one of the constituent administrative districts of a nation; \"his state is in the deep south\")                                                                                                                                                                            \n",
       " (n) state (the way something is with respect to its main attributes; \"the current state of knowledge\"; \"his state of health\"; \"in a weak financial state\")                                                                                                                                                               \n",
       " (n) state (the group of people comprising the government of a sovereign state; \"the state has lowered its income tax\")                                                                                                                                                                                                   \n",
       " (n) res publica, land, commonwealth, nation, body politic, country, state (a politically organized body of people under a single government; \"the state has elected a new president\"; \"African nations\"; \"students who had come to the nation's capitol\"; \"the country's largest manufacturer\"; \"an industrialized land\")\n",
       " (n) state, state of matter ((chemistry) the three traditional states of matter are solids (fixed shape and volume) and liquids (fixed volume and shaped by the container) and gases (filling the container); \"the solid state of water is called ice\")                                                                   \n",
       " (n) state (a state of depression or agitation; \"he was in such a state you just couldn't reason with him\")                                                                                                                                                                                                               \n",
       " (n) land, country, state (the territory occupied by a nation; \"he returned to the land of his birth\"; \"he visited several European countries\")                                                                                                                                                                           \n",
       " (n) Department of State, DoS, United States Department of State, State Department, State (the federal department in the United States that sets and maintains foreign policies; \"the Department of State was created in 1789\")                                                                                           "
      ]
     },
     "execution_count": 3,
     "metadata": {},
     "output_type": "execute_result"
    }
   ],
   "source": [
    "lemma = db['n', \"state\"]\n",
    "s1,s2,s3,s4 = synsets(db, lemma)"
   ]
  },
  {
   "cell_type": "code",
   "execution_count": 4,
   "metadata": {
    "collapsed": false
   },
   "outputs": [
    {
     "name": "stderr",
     "output_type": "stream",
     "text": [
      "WARNING: Base.writemime is deprecated.\n",
      "  likely near /home/ubuntu/.julia/v0.5/IJulia/src/kernel.jl:31\n",
      "WARNING: Base.writemime is deprecated.\n",
      "  likely near /home/ubuntu/.julia/v0.5/IJulia/src/kernel.jl:31\n",
      "WARNING: Base.writemime is deprecated.\n",
      "  likely near /home/ubuntu/.julia/v0.5/IJulia/src/kernel.jl:31\n",
      "WARNING: Base.writemime is deprecated.\n",
      "  likely near /home/ubuntu/.julia/v0.5/IJulia/src/kernel.jl:31\n",
      "WARNING: Base.writemime is deprecated.\n",
      "  likely near /home/ubuntu/.julia/v0.5/IJulia/src/kernel.jl:31\n",
      "in display_dict at /home/ubuntu/.julia/v0.5/IJulia/src/execute_request.jl\n"
     ]
    },
    {
     "ename": "LoadError",
     "evalue": "LoadError: syntax: incomplete: premature end of input\nwhile loading In[4], in expression starting on line 1",
     "output_type": "error",
     "traceback": [
      "LoadError: syntax: incomplete: premature end of input\nwhile loading In[4], in expression starting on line 1",
      "",
      " in include_string(::String, ::String) at ./loading.jl:380",
      " in eventloop(::ZMQ.Socket) at /home/ubuntu/.julia/v0.5/IJulia/src/IJulia.jl:143",
      " in (::IJulia.##24#30)() at ./task.jl:309"
     ]
    }
   ],
   "source": [
    "s1."
   ]
  },
  {
   "cell_type": "code",
   "execution_count": 5,
   "metadata": {
    "collapsed": false
   },
   "outputs": [
    {
     "name": "stderr",
     "output_type": "stream",
     "text": [
      "WARNING: utf8(s::AbstractString) is deprecated, use String(s) instead.\n",
      " in depwarn(::String, ::Symbol) at ./deprecated.jl:64\n",
      " in utf8(::SubString{String}) at ./deprecated.jl:50\n",
      " in _collect(::Array{SubString{String},1}, ::Base.Generator{Array{SubString{String},1},Base.#utf8}, ::Base.EltypeUnknown, ::Base.HasShape) at ./array.jl:258\n",
      " in #error_content#12(::Symbol, ::String, ::Function, ::LoadError, ::Array{Ptr{Void},1}) at /home/ubuntu/.julia/v0.5/IJulia/src/execute_request.jl:75\n",
      " in execute_request_0x535c5df2(::ZMQ.Socket, ::IJulia.Msg) at /home/ubuntu/.julia/v0.5/IJulia/src/execute_request.jl:238\n",
      " in eventloop(::ZMQ.Socket) at /home/ubuntu/.julia/v0.5/IJulia/src/IJulia.jl:143\n",
      " in (::IJulia.##24#30)() at ./task.jl:309\n",
      "while loading /home/ubuntu/.julia/v0.5/IJulia/src/kernel.jl, in expression starting on line 31\n",
      "WARNING: utf8(s::AbstractString) is deprecated, use String(s) instead.\n",
      " in depwarn(::String, ::Symbol) at ./deprecated.jl:64\n",
      " in utf8(::SubString{String}) at ./deprecated.jl:50\n",
      " in collect_to!(::Array{String,1}, ::Base.Generator{Array{SubString{String},1},Base.#utf8}, ::Int64, ::Int64) at ./array.jl:277\n",
      " in _collect(::Array{SubString{String},1}, ::Base.Generator{Array{SubString{String},1},Base.#utf8}, ::Base.EltypeUnknown, ::Base.HasShape) at ./array.jl:259\n",
      " in #error_content#12(::Symbol, ::String, ::Function, ::LoadError, ::Array{Ptr{Void},1}) at /home/ubuntu/.julia/v0.5/IJulia/src/execute_request.jl:75\n",
      " in execute_request_0x535c5df2(::ZMQ.Socket, ::IJulia.Msg) at /home/ubuntu/.julia/v0.5/IJulia/src/execute_request.jl:238\n",
      " in eventloop(::ZMQ.Socket) at /home/ubuntu/.julia/v0.5/IJulia/src/IJulia.jl:143\n",
      " in (::IJulia.##24#30)() at ./task.jl:309\n",
      "while loading /home/ubuntu/.julia/v0.5/IJulia/src/kernel.jl, in expression starting on line 31\n"
     ]
    }
   ],
   "source": [
    "ee = restore(\"models/ss/tokenised_lowercase_WestburyLab.wikicorp.201004_100_i1.model\");"
   ]
  },
  {
   "cell_type": "code",
   "execution_count": 6,
   "metadata": {
    "collapsed": false
   },
   "outputs": [
    {
     "data": {
      "text/plain": [
       "synthesize_embedding (generic function with 1 method)"
      ]
     },
     "execution_count": 6,
     "metadata": {},
     "output_type": "execute_result"
    }
   ],
   "source": [
    "function weighted_average(logprobs, embeddings)\n",
    "    function normal_probs(logprobs::Vector)\n",
    "        ret = copy(logprobs)\n",
    "        max_lp = maximum(logprobs)\n",
    "        ret.-=max_lp #Bring closer to zero\n",
    "        map!(exp,ret)\n",
    "        denom = sum(ret)\n",
    "        ret./=denom\n",
    "    end\n",
    "    \n",
    "    \n",
    "    ret = zeros(size(embeddings[1]))\n",
    "    for (weight, embedding) in zip(normal_probs(logprobs), embeddings)\n",
    "        ret.+= weight*embedding\n",
    "    end\n",
    "    ret\n",
    "end\n",
    "\n",
    "function all_logprobs_of_context(embed, context, middle_word)\n",
    "    [Query.logprob_of_context(embed, context,wv; skip_oov=true, normalise_over_length=true)\n",
    "        for wv in embed.embedding[middle_word]]\n",
    "end\n",
    "\n",
    "function synthesize_embedding(ee,context, middle_word)\n",
    "    logprobs = all_logprobs_of_context(ee, context,middle_word)\n",
    "    weighted_average(logprobs, ee.embedding[middle_word])\n",
    "end"
   ]
  },
  {
   "cell_type": "code",
   "execution_count": null,
   "metadata": {
    "collapsed": false
   },
   "outputs": [],
   "source": []
  },
  {
   "cell_type": "code",
   "execution_count": null,
   "metadata": {
    "collapsed": false
   },
   "outputs": [],
   "source": []
  },
  {
   "cell_type": "code",
   "execution_count": 7,
   "metadata": {
    "collapsed": false
   },
   "outputs": [
    {
     "name": "stderr",
     "output_type": "stream",
     "text": [
      "WARNING: Base.writemime is deprecated.\n",
      "  likely near /home/ubuntu/.julia/v0.5/IJulia/src/kernel.jl:31\n",
      "WARNING: Base.writemime is deprecated.\n",
      "  likely near /home/ubuntu/.julia/v0.5/IJulia/src/kernel.jl:31\n",
      "WARNING: Base.writemime is deprecated.\n",
      "  likely near /home/ubuntu/.julia/v0.5/IJulia/src/kernel.jl:31\n",
      "WARNING: Base.writemime is deprecated.\n",
      "  likely near /home/ubuntu/.julia/v0.5/IJulia/src/kernel.jl:31\n",
      "WARNING: Base.writemime is deprecated.\n",
      "  likely near /home/ubuntu/.julia/v0.5/IJulia/src/kernel.jl:31\n",
      "in display_dict at /home/ubuntu/.julia/v0.5/IJulia/src/execute_request.jl\n"
     ]
    },
    {
     "data": {
      "text/plain": [
       "\"state\""
      ]
     },
     "execution_count": 7,
     "metadata": {},
     "output_type": "execute_result"
    }
   ],
   "source": [
    "word=\"state\"\n"
   ]
  },
  {
   "cell_type": "code",
   "execution_count": 8,
   "metadata": {
    "collapsed": false
   },
   "outputs": [
    {
     "name": "stderr",
     "output_type": "stream",
     "text": [
      "WARNING: Base.writemime is deprecated.\n",
      "  likely near /home/ubuntu/.julia/v0.5/IJulia/src/kernel.jl:31\n",
      "WARNING: Base.writemime is deprecated.\n",
      "  likely near /home/ubuntu/.julia/v0.5/IJulia/src/kernel.jl:31\n",
      "WARNING: Base.writemime is deprecated.\n",
      "  likely near /home/ubuntu/.julia/v0.5/IJulia/src/kernel.jl:31\n",
      "WARNING: Base.writemime is deprecated.\n",
      "  likely near /home/ubuntu/.julia/v0.5/IJulia/src/kernel.jl:31\n",
      "WARNING: Base.writemime is deprecated.\n",
      "  likely near /home/ubuntu/.julia/v0.5/IJulia/src/kernel.jl:31\n",
      "in display_dict at /home/ubuntu/.julia/v0.5/IJulia/src/execute_request.jl\n"
     ]
    },
    {
     "data": {
      "text/plain": [
       "lexical_informed_embeddings (generic function with 1 method)"
      ]
     },
     "execution_count": 8,
     "metadata": {},
     "output_type": "execute_result"
    }
   ],
   "source": [
    "function lexical_informed_embeddings(db,ee, word)\n",
    "    source_wvs = ee.embedding[word]\n",
    "    target_synsets = Base.flatten((haskey(db.lemmas[pos], word) ? synsets(db, db[pos, word]) : WordNet.Synset[] \n",
    "        for pos in keys(WordNet.SYNSET_TYPES))) |> collect\n",
    "        \n",
    "    synsets4vectors = Dict{eltype(source_wvs), Synset}()\n",
    "    for synset in target_synsets\n",
    "            gloss = filter(s->!ispunct(s), lowercase(synset.gloss))\n",
    "            context::AbstractArray{SubString{String}} = filter!(w->w!=word, split(gloss))\n",
    "            wv = synthesize_embedding(ee,context, word)\n",
    "            synsets4vectors[wv] = synset\n",
    "    end\n",
    "    synsets4vectors\n",
    "end"
   ]
  },
  {
   "cell_type": "code",
   "execution_count": 9,
   "metadata": {
    "collapsed": false
   },
   "outputs": [
    {
     "ename": "LoadError",
     "evalue": "LoadError: MethodError: no method matching (::Query.#kw##logprob_of_context)(::Array{Any,1}, ::Query.#logprob_of_context, ::WordEmbeddings.FixedWordSenseEmbedding, ::Array{SubString{String},1}, ::Array{Float32,1})\nClosest candidates are:\n  #logprob_of_context{S<:String}(::Array{Any,1}, ::Query.#logprob_of_context, ::WordEmbeddings.GenWordEmbedding, !Matched::AbstractArray{S<:String,1}, ::Array{Float32,1})\n  #logprob_of_context{S<:String}(::Array{Any,1}, ::Query.#logprob_of_context, !Matched::WordEmbeddings.WordEmbedding, !Matched::AbstractArray{S<:String,1}, !Matched::S<:String)\nwhile loading In[9], in expression starting on line 156",
     "output_type": "error",
     "traceback": [
      "LoadError: MethodError: no method matching (::Query.#kw##logprob_of_context)(::Array{Any,1}, ::Query.#logprob_of_context, ::WordEmbeddings.FixedWordSenseEmbedding, ::Array{SubString{String},1}, ::Array{Float32,1})\nClosest candidates are:\n  #logprob_of_context{S<:String}(::Array{Any,1}, ::Query.#logprob_of_context, ::WordEmbeddings.GenWordEmbedding, !Matched::AbstractArray{S<:String,1}, ::Array{Float32,1})\n  #logprob_of_context{S<:String}(::Array{Any,1}, ::Query.#logprob_of_context, !Matched::WordEmbeddings.WordEmbedding, !Matched::AbstractArray{S<:String,1}, !Matched::S<:String)\nwhile loading In[9], in expression starting on line 156",
      "",
      " in all_logprobs_of_context(::WordEmbeddings.FixedWordSenseEmbedding, ::Array{SubString{String},1}, ::String) at ./In[6]:20",
      " in synthesize_embedding(::WordEmbeddings.FixedWordSenseEmbedding, ::Array{SubString{String},1}, ::String) at ./In[6]:25",
      " in lexical_informed_embeddings(::WordNet.DB, ::WordEmbeddings.FixedWordSenseEmbedding, ::String) at ./In[8]:10",
      " in include_string(::String, ::String) at ./loading.jl:380",
      " in eventloop(::ZMQ.Socket) at /home/ubuntu/.julia/v0.5/IJulia/src/IJulia.jl:143",
      " in (::IJulia.##24#30)() at ./task.jl:309"
     ]
    }
   ],
   "source": [
    "@time lexical_informed_embeddings(db,ee, \"state\")"
   ]
  },
  {
   "cell_type": "code",
   "execution_count": 61,
   "metadata": {
    "collapsed": false
   },
   "outputs": [
    {
     "data": {
      "text/plain": [
       "33-element Array{SubString{String},1}:\n",
       " \"a\"             \n",
       " \"politically\"   \n",
       " \"organized\"     \n",
       " \"body\"          \n",
       " \"of\"            \n",
       " \"people\"        \n",
       " \"under\"         \n",
       " \"a\"             \n",
       " \"single\"        \n",
       " \"government\"    \n",
       " \"the\"           \n",
       " \"has\"           \n",
       " \"elected\"       \n",
       " \"a\"             \n",
       " \"new\"           \n",
       " \"president\"     \n",
       " \"african\"       \n",
       " \"nations\"       \n",
       " \"students\"      \n",
       " \"who\"           \n",
       " \"had\"           \n",
       " \"come\"          \n",
       " \"to\"            \n",
       " \"the\"           \n",
       " \"nations\"       \n",
       " \"capitol\"       \n",
       " \"the\"           \n",
       " \"countrys\"      \n",
       " \"largest\"       \n",
       " \"manufacturer\"  \n",
       " \"an\"            \n",
       " \"industrialized\"\n",
       " \"land\"          "
      ]
     },
     "execution_count": 61,
     "metadata": {},
     "output_type": "execute_result"
    }
   ],
   "source": []
  },
  {
   "cell_type": "code",
   "execution_count": 57,
   "metadata": {
    "collapsed": false
   },
   "outputs": [
    {
     "name": "stdout",
     "output_type": "stream",
     "text": [
      "search: filter! filter Filter PollingFileWatcher fieldtype\n",
      "\n"
     ]
    },
    {
     "data": {
      "text/latex": [
       "\\begin{verbatim}\n",
       "filter!(function, collection)\n",
       "\\end{verbatim}\n",
       "Update \\texttt{collection}, removing elements for which \\texttt{function} is \\texttt{false}. For associative collections, the function is passed two arguments (key and value).\n"
      ],
      "text/markdown": [
       "```\n",
       "filter!(function, collection)\n",
       "```\n",
       "\n",
       "Update `collection`, removing elements for which `function` is `false`. For associative collections, the function is passed two arguments (key and value).\n"
      ],
      "text/plain": [
       "```\n",
       "filter!(function, collection)\n",
       "```\n",
       "\n",
       "Update `collection`, removing elements for which `function` is `false`. For associative collections, the function is passed two arguments (key and value).\n"
      ]
     },
     "execution_count": 57,
     "metadata": {},
     "output_type": "execute_result"
    }
   ],
   "source": [
    "?filter!"
   ]
  },
  {
   "cell_type": "code",
   "execution_count": null,
   "metadata": {
    "collapsed": true
   },
   "outputs": [],
   "source": []
  }
 ],
 "metadata": {
  "kernelspec": {
   "display_name": "Julia 0.5.0-dev",
   "language": "julia",
   "name": "julia-0.5"
  },
  "language_info": {
   "file_extension": ".jl",
   "mimetype": "application/julia",
   "name": "julia",
   "version": "0.5.0"
  }
 },
 "nbformat": 4,
 "nbformat_minor": 0
}
