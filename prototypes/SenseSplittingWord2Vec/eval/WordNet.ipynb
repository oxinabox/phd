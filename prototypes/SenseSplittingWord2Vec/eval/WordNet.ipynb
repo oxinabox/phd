{
 "cells": [
  {
   "cell_type": "code",
   "execution_count": 1,
   "metadata": {
    "collapsed": false
   },
   "outputs": [
    {
     "name": "stderr",
     "output_type": "stream",
     "text": [
      "WARNING: Base.writemime is deprecated.\n",
      "  likely near /home/ubuntu/.julia/v0.5/IJulia/src/kernel.jl:31\n",
      "WARNING: Base.writemime is deprecated.\n",
      "  likely near /home/ubuntu/.julia/v0.5/IJulia/src/kernel.jl:31\n",
      "WARNING: Base.writemime is deprecated.\n",
      "  likely near /home/ubuntu/.julia/v0.5/IJulia/src/kernel.jl:31\n",
      "WARNING: Base.writemime is deprecated.\n",
      "  likely near /home/ubuntu/.julia/v0.5/IJulia/src/kernel.jl:31\n",
      "INFO: Recompiling stale cache file /home/ubuntu/.julia/lib/v0.5/DataStructures.ji for module DataStructures.\n",
      "WARNING: could not import Base.complement into DataStructures\n",
      "WARNING: could not import Base.complement! into DataStructures\n",
      "INFO: Recompiling stale cache file /home/ubuntu/.julia/lib/v0.5/StatsFuns.ji for module StatsFuns.\n",
      "INFO: Recompiling stale cache file /home/ubuntu/.julia/lib/v0.5/Distances.ji for module Distances.\n",
      "INFO: Recompiling stale cache file /home/ubuntu/.julia/lib/v0.5/NearestNeighbors.ji for module NearestNeighbors.\n",
      "INFO: Recompiling stale cache file /home/ubuntu/.julia/lib/v0.5/Devectorize.ji for module Devectorize.\n",
      "WARNING: Base.ASCIIString is deprecated, use String instead.\n",
      "  likely near /home/ubuntu/.julia/v0.5/Devectorize/src/texpr.jl:293\n",
      "WARNING: Base.ASCIIString is deprecated, use String instead.\n",
      "  likely near /home/ubuntu/.julia/v0.5/Devectorize/src/texpr.jl:293\n",
      "WARNING: Base.ASCIIString is deprecated, use String instead.\n",
      "  likely near /home/ubuntu/.julia/v0.5/NearestNeighbors/src/knn.jl:1\n",
      "WARNING: Base.ASCIIString is deprecated, use String instead.\n",
      "  likely near /home/ubuntu/.julia/v0.5/NearestNeighbors/src/knn.jl:1\n",
      "WARNING: Base.ASCIIString is deprecated, use String instead.\n",
      "  likely near /home/ubuntu/.julia/v0.5/NearestNeighbors/src/knn.jl:1\n",
      "INFO: Recompiling stale cache file /home/ubuntu/.julia/lib/v0.5/Iterators.ji for module Iterators.\n"
     ]
    }
   ],
   "source": [
    "using WordNet\n",
    "using WordEmbeddings, SoftmaxClassifier\n",
    "using Utils\n",
    "using Query\n",
    "using Distances\n",
    "using Iterators"
   ]
  },
  {
   "cell_type": "code",
   "execution_count": 4,
   "metadata": {
    "collapsed": false
   },
   "outputs": [
    {
     "name": "stderr",
     "output_type": "stream",
     "text": [
      "WARNING: redefining constant WN_PATH\n"
     ]
    },
    {
     "data": {
      "text/plain": [
       "WordNet.DB"
      ]
     },
     "execution_count": 4,
     "metadata": {},
     "output_type": "execute_result"
    },
    {
     "name": "stderr",
     "output_type": "stream",
     "text": [
      "WARNING: Base.writemime is deprecated.\n",
      "  likely near /home/ubuntu/.julia/v0.5/IJulia/src/kernel.jl:31\n",
      "WARNING: Base.writemime is deprecated.\n",
      "  likely near /home/ubuntu/.julia/v0.5/IJulia/src/kernel.jl:31\n",
      "WARNING: Base.writemime is deprecated.\n",
      "  likely near /home/ubuntu/.julia/v0.5/IJulia/src/kernel.jl:31\n",
      "WARNING: Base.writemime is deprecated.\n",
      "  likely near /home/ubuntu/.julia/v0.5/IJulia/src/kernel.jl:31\n",
      "WARNING: Base.writemime is deprecated.\n",
      "  likely near /home/ubuntu/.julia/v0.5/IJulia/src/kernel.jl:31\n",
      "in display_dict at /home/ubuntu/.julia/v0.5/IJulia/src/execute_request.jl\n"
     ]
    }
   ],
   "source": [
    "const WN_PATH=\"data/corpora/WordNet-2.1/\"\n",
    "db = DB(WN_PATH)"
   ]
  },
  {
   "cell_type": "code",
   "execution_count": 3,
   "metadata": {
    "collapsed": false,
    "scrolled": true
   },
   "outputs": [
    {
     "name": "stderr",
     "output_type": "stream",
     "text": [
      "WARNING: utf8(s::AbstractString) is deprecated, use String(s) instead.\n",
      " in depwarn(::String, ::Symbol) at ./deprecated.jl:64\n",
      " in utf8(::SubString{String}) at ./deprecated.jl:50\n",
      " in _collect(::Array{SubString{String},1}, ::Base.Generator{Array{SubString{String},1},Base.#utf8}, ::Base.EltypeUnknown, ::Base.HasShape) at ./array.jl:283\n",
      " in #error_content#12(::Symbol, ::String, ::Function, ::LoadError, ::Array{Ptr{Void},1}) at /home/ubuntu/.julia/v0.5/IJulia/src/execute_request.jl:75\n",
      " in execute_request_0x535c5df2(::ZMQ.Socket, ::IJulia.Msg) at /home/ubuntu/.julia/v0.5/IJulia/src/execute_request.jl:238\n",
      " in eventloop(::ZMQ.Socket) at /home/ubuntu/.julia/v0.5/IJulia/src/IJulia.jl:143\n",
      " in (::IJulia.##24#30)() at ./task.jl:309\n",
      "while loading /home/ubuntu/.julia/v0.5/IJulia/src/kernel.jl, in expression starting on line 31\n",
      "WARNING: utf8(s::AbstractString) is deprecated, use String(s) instead.\n",
      " in depwarn(::String, ::Symbol) at ./deprecated.jl:64\n",
      " in utf8(::SubString{String}) at ./deprecated.jl:50\n",
      " in collect_to!(::Array{String,1}, ::Base.Generator{Array{SubString{String},1},Base.#utf8}, ::Int64, ::Int64) at ./array.jl:302\n",
      " in _collect(::Array{SubString{String},1}, ::Base.Generator{Array{SubString{String},1},Base.#utf8}, ::Base.EltypeUnknown, ::Base.HasShape) at ./array.jl:284\n",
      " in #error_content#12(::Symbol, ::String, ::Function, ::LoadError, ::Array{Ptr{Void},1}) at /home/ubuntu/.julia/v0.5/IJulia/src/execute_request.jl:75\n",
      " in execute_request_0x535c5df2(::ZMQ.Socket, ::IJulia.Msg) at /home/ubuntu/.julia/v0.5/IJulia/src/execute_request.jl:238\n",
      " in eventloop(::ZMQ.Socket) at /home/ubuntu/.julia/v0.5/IJulia/src/IJulia.jl:143\n",
      " in (::IJulia.##24#30)() at ./task.jl:309\n",
      "while loading /home/ubuntu/.julia/v0.5/IJulia/src/kernel.jl, in expression starting on line 31\n"
     ]
    }
   ],
   "source": [
    "#ee = restore(\"models/ss/tokenised_lowercase_WestburyLab.wikicorp.201004_100_i1.model\");\n",
    "ee = restore(\"models/ss/keep/tokenised_lowercase_WestburyLab.wikicorp.201004_50__m170000000.model\");"
   ]
  },
  {
   "cell_type": "code",
   "execution_count": 5,
   "metadata": {
    "collapsed": false
   },
   "outputs": [
    {
     "data": {
      "text/plain": [
       "synthesize_embedding (generic function with 1 method)"
      ]
     },
     "execution_count": 5,
     "metadata": {},
     "output_type": "execute_result"
    },
    {
     "name": "stderr",
     "output_type": "stream",
     "text": [
      "WARNING: Base.writemime is deprecated.\n",
      "  likely near /home/ubuntu/.julia/v0.5/IJulia/src/kernel.jl:31\n",
      "WARNING: Base.writemime is deprecated.\n",
      "  likely near /home/ubuntu/.julia/v0.5/IJulia/src/kernel.jl:31\n",
      "WARNING: Base.writemime is deprecated.\n",
      "  likely near /home/ubuntu/.julia/v0.5/IJulia/src/kernel.jl:31\n",
      "WARNING: Base.writemime is deprecated.\n",
      "  likely near /home/ubuntu/.julia/v0.5/IJulia/src/kernel.jl:31\n",
      "WARNING: Base.writemime is deprecated.\n",
      "  likely near /home/ubuntu/.julia/v0.5/IJulia/src/kernel.jl:31\n",
      "in display_dict at /home/ubuntu/.julia/v0.5/IJulia/src/execute_request.jl\n"
     ]
    }
   ],
   "source": [
    "function normal_probs(logprobs::Vector)\n",
    "    ret = copy(logprobs)\n",
    "    max_lp = maximum(logprobs)\n",
    "    ret.-=max_lp #Bring closer to zero\n",
    "    map!(exp,ret)\n",
    "    denom = sum(ret)\n",
    "    ret./=denom\n",
    "    ret\n",
    "end\n",
    "function weighted_average(logprobs, embeddings)\n",
    "    ret = zeros(first(embeddings))\n",
    "    for (weight, embedding) in zip(normal_probs(logprobs), embeddings)\n",
    "        ret.+= weight.*embedding\n",
    "    end\n",
    "    ret\n",
    "end\n",
    "\n",
    "function all_logprobs_of_context(embed, context, middle_word)\n",
    "    [Query.logprob_of_context(embed, context,wv; skip_oov=true, normalise_over_length=true)\n",
    "        for wv in embed.embedding[middle_word]]\n",
    "end\n",
    "\n",
    "function synthesize_embedding(ee,context, middle_word)\n",
    "    logprobs = all_logprobs_of_context(ee, context,middle_word)\n",
    "    weighted_average(logprobs, ee.embedding[middle_word])\n",
    "end"
   ]
  },
  {
   "cell_type": "code",
   "execution_count": 6,
   "metadata": {
    "collapsed": false
   },
   "outputs": [
    {
     "data": {
      "text/plain": [
       "punctuation_space_tokenize (generic function with 1 method)"
      ]
     },
     "execution_count": 6,
     "metadata": {},
     "output_type": "execute_result"
    }
   ],
   "source": [
    "function poormans_tokenize(source)\n",
    "    cleaned = filter(s->!ispunct(s), lowercase(source))\n",
    "    map(string,  split(cleaned))::Vector{SubString{String}}\n",
    "end\n",
    "\n",
    "function punctuation_space_tokenize(source)\n",
    "    preprocced = lowercase(source)\n",
    "    pass1=replace(preprocced,r\"[[:punct:]]*[[:space:]][[:punct:]]*\",\" \")\n",
    "    pass2=replace(pass1,r\"[[:punct:]]*$|^[[:punct:]]*\",\"\")\n",
    "    split(pass2)\n",
    "end\n",
    "\n"
   ]
  },
  {
   "cell_type": "code",
   "execution_count": 7,
   "metadata": {
    "collapsed": false
   },
   "outputs": [
    {
     "data": {
      "text/plain": [
       "sense_keys (generic function with 1 method)"
      ]
     },
     "execution_count": 7,
     "metadata": {},
     "output_type": "execute_result"
    }
   ],
   "source": [
    "function load_sense_key_map(wn_basedir)\n",
    "    path=joinpath(wn_basedir, \"dict\",\"index.sense\")\n",
    "    sense_key_map = Dict{Tuple{Int64,String},String}()\n",
    "    for line in eachline(path)\n",
    "        full_sense_key, offset_str, sense_num_str, tagcount_str = split(line) \n",
    "        lemma_name = first(split(full_sense_key,'%'))\n",
    "        sense_offset = parse(Int64, offset_str)\n",
    "        index = (sense_offset,lemma_name)\n",
    "        @assert(!haskey(sense_key_map, index))\n",
    "        sense_key_map[index] = full_sense_key\n",
    "    end\n",
    "    sense_key_map\n",
    "end\n",
    "\n",
    "\n",
    "function sense_key(lem::Lemma, ss::Synset,sense_key_map)\n",
    "    sense_key_map[(ss.offset,lem.word)]\n",
    "end\n",
    "function sense_keys(lem::Lemma,sense_key_map)\n",
    "    [sense_key_map[(ss_offset,lem.word)] for ss_offset in lem.synset_offsets ]\n",
    "end"
   ]
  },
  {
   "cell_type": "code",
   "execution_count": 8,
   "metadata": {
    "collapsed": false
   },
   "outputs": [],
   "source": [
    "sense_key_map = load_sense_key_map(WN_PATH);"
   ]
  },
  {
   "cell_type": "code",
   "execution_count": 11,
   "metadata": {
    "collapsed": false
   },
   "outputs": [
    {
     "data": {
      "text/plain": [
       "1-element Array{String,1}:\n",
       " \"six%5:00:00:cardinal:00\""
      ]
     },
     "execution_count": 11,
     "metadata": {},
     "output_type": "execute_result"
    }
   ],
   "source": [
    "sense_keys(db['a',\"six\"],sense_key_map)"
   ]
  },
  {
   "cell_type": "code",
   "execution_count": 12,
   "metadata": {
    "collapsed": false
   },
   "outputs": [
    {
     "data": {
      "text/plain": [
       "\"discover%2:39:03::\""
      ]
     },
     "execution_count": 12,
     "metadata": {},
     "output_type": "execute_result"
    },
    {
     "name": "stderr",
     "output_type": "stream",
     "text": [
      "WARNING: Base.writemime is deprecated.\n",
      "  likely near /home/ubuntu/.julia/v0.5/IJulia/src/kernel.jl:31\n",
      "WARNING: Base.writemime is deprecated.\n",
      "  likely near /home/ubuntu/.julia/v0.5/IJulia/src/kernel.jl:31\n",
      "WARNING: Base.writemime is deprecated.\n",
      "  likely near /home/ubuntu/.julia/v0.5/IJulia/src/kernel.jl:31\n",
      "WARNING: Base.writemime is deprecated.\n",
      "  likely near /home/ubuntu/.julia/v0.5/IJulia/src/kernel.jl:31\n",
      "WARNING: Base.writemime is deprecated.\n",
      "  likely near /home/ubuntu/.julia/v0.5/IJulia/src/kernel.jl:31\n",
      "in display_dict at /home/ubuntu/.julia/v0.5/IJulia/src/execute_request.jl\n"
     ]
    }
   ],
   "source": [
    "sense_key_map[2134693,\"discover\"]"
   ]
  },
  {
   "cell_type": "code",
   "execution_count": 13,
   "metadata": {
    "collapsed": false
   },
   "outputs": [
    {
     "name": "stderr",
     "output_type": "stream",
     "text": [
      "INFO: Recompiling stale cache file /home/ubuntu/.julia/lib/v0.5/LightXML.ji for module LightXML.\n",
      "WARNING: `@windows` is deprecated, use `@static is_windows()` instead\n",
      " in depwarn(::String, ::Symbol) at ./deprecated.jl:64\n",
      " in @windows(::Any, ::Any) at ./deprecated.jl:502\n",
      " in include_from_node1(::String) at ./loading.jl:426\n",
      " in macro expansion; at ./none:2 [inlined]\n",
      " in anonymous at ./<missing>:?\n",
      " in eval(::Module, ::Any) at ./boot.jl:234\n",
      " in process_options(::Base.JLOptions) at ./client.jl:239\n",
      " in _start() at ./client.jl:318\n",
      "while loading /home/ubuntu/.julia/v0.5/LightXML/src/LightXML.jl, in expression starting on line 7\n",
      "WARNING: Base.ASCIIString is deprecated, use String instead.\n",
      "  likely near /home/ubuntu/.julia/v0.5/LightXML/src/cdata.jl:1\n",
      "WARNING: Base.ASCIIString is deprecated, use String instead.\n",
      "  likely near /home/ubuntu/.julia/v0.5/LightXML/src/cdata.jl:6\n"
     ]
    }
   ],
   "source": [
    "using LightXML"
   ]
  },
  {
   "cell_type": "code",
   "execution_count": 17,
   "metadata": {
    "collapsed": false,
    "scrolled": true
   },
   "outputs": [
    {
     "name": "stderr",
     "output_type": "stream",
     "text": [
      "WARNING: Method definition (::Type{Main.WsdChallenge})(String, String, String, Char, Array{String, 1}) in module Main at In[14]:2 overwritten at In[17]:2.\n",
      "WARNING: Method definition (::Type{Main.WsdChallenge})(Any, Any, Any, Any, Any) in module Main at In[14]:2 overwritten at In[17]:2.\n",
      "WARNING: Method definition load_challenges() in module Main at In[14]:10 overwritten at In[17]:10.\n",
      "WARNING: Method definition load_challenges(Any) in module Main at In[14]:10 overwritten at In[17]:10.\n",
      "WARNING: bytestring(p::Union{Ptr{Int8},Ptr{UInt8}}) is deprecated, use unsafe_string(p) instead.\n",
      " in depwarn(::String, ::Symbol) at ./deprecated.jl:64\n",
      " in bytestring(::Ptr{UInt8}) at ./deprecated.jl:50\n",
      " in _xcopystr at /home/ubuntu/.julia/v0.5/LightXML/src/LightXML.jl:39 [inlined]\n",
      " in content(::LightXML.XMLNode) at /home/ubuntu/.julia/v0.5/LightXML/src/nodes.jl:171\n",
      " in (::##15#17{LightXML.XMLElement})() at ./In[17]:18\n",
      "while loading In[17], in expression starting on line 32\n",
      "WARNING: bytestring(p::Union{Ptr{Int8},Ptr{UInt8}}) is deprecated, use unsafe_string(p) instead.\n",
      " in depwarn(::String, ::Symbol) at ./deprecated.jl:64\n",
      " in bytestring(::Ptr{UInt8}) at ./deprecated.jl:50\n",
      " in _xcopystr at /home/ubuntu/.julia/v0.5/LightXML/src/LightXML.jl:39 [inlined]\n",
      " in #attribute#1(::Bool, ::Function, ::LightXML.XMLElement, ::String) at /home/ubuntu/.julia/v0.5/LightXML/src/nodes.jl:226\n",
      " in (::##15#17{LightXML.XMLElement})() at ./In[17]:22\n",
      "while loading In[17], in expression starting on line 32\n"
     ]
    }
   ],
   "source": [
    "immutable WsdChallenge\n",
    "    id::String\n",
    "    word::String\n",
    "    lemma::String\n",
    "    pos::Char\n",
    "    context::Vector{String}\n",
    "end\n",
    "\n",
    "function load_challenges(xml_file=\"data/corpora/wsd/semeval2007_t7/test/eng-coarse-all-words.xml\")\n",
    "    xdoc = parse_file(xml_file)\n",
    "    xroot = root(xdoc)\n",
    "    Task() do\n",
    "        for text_node in child_elements(xroot)\n",
    "            #@show text_node\n",
    "            #text = child_nodes(text_node) |> collect\n",
    "            #println(text)\n",
    "            for sentence_node in child_elements(text_node)\n",
    "                sentence = punctuation_space_tokenize(content(sentence_node))\n",
    "\n",
    "                for lemma_node in child_elements(sentence_node)\n",
    "                    word = content(lemma_node) |> lowercase\n",
    "                    lemma = attribute(lemma_node,\"lemma\")|> lowercase\n",
    "                    pos = first(attribute(lemma_node,\"pos\"))\n",
    "                    id = attribute(lemma_node,\"id\")\n",
    "                    context = filter(w->w!=word, sentence)\n",
    "                    produce(WsdChallenge(id, word, lemma, pos, context))\n",
    "                end\n",
    "            end\n",
    "        end\n",
    "    end\n",
    "end\n",
    "challenges = load_challenges() |> collect;"
   ]
  },
  {
   "cell_type": "code",
   "execution_count": 18,
   "metadata": {
    "collapsed": false,
    "scrolled": true
   },
   "outputs": [
    {
     "name": "stderr",
     "output_type": "stream",
     "text": [
      "WARNING: Method definition (::Type{Main.WsdSolution})(Any, Any, Any, Any) in module Main at In[15]:2 overwritten at In[18]:2.\n",
      "WARNING: Method definition only_of_pos(Any, Any) in module Main at In[15]:7 overwritten at In[18]:7.\n",
      "WARNING: Method definition load_solutions() in module Main at In[15]:10 overwritten at In[18]:10.\n",
      "WARNING: Method definition load_solutions(Any) in module Main at In[15]:10 overwritten at In[18]:10.\n"
     ]
    }
   ],
   "source": [
    "immutable WsdSolution\n",
    "    id\n",
    "    lemma\n",
    "    pos\n",
    "    solutions\n",
    "end\n",
    "only_of_pos(data, pos) = filter(d->d.pos==pos, data)\n",
    "\n",
    "function load_solutions(key_file=\"data/corpora/wsd/semeval2007_t7/key/dataset21.test.key\")\n",
    "    map(eachline(key_file)) do line\n",
    "        line_data, comment = split(line,\"!!\")\n",
    "        fields = split(line_data)\n",
    "        doc_id = fields[1]\n",
    "        instance_id = fields[2]\n",
    "        solutions = fields[3:end]\n",
    "        \n",
    "        lemma,pos = match(r\"lemma=(.*)#(.)\", comment).captures\n",
    "        WsdSolution(instance_id, lemma, pos[1], solutions)\n",
    "    end\n",
    "end\n",
    "\n",
    "solutions = load_solutions();"
   ]
  },
  {
   "cell_type": "code",
   "execution_count": 19,
   "metadata": {
    "collapsed": false
   },
   "outputs": [
    {
     "data": {
      "text/plain": [
       "WsdChallenge(\"d001.s001.t001\",\"editorial\",\"editorial\",'n',String[\"your\",\"oct\",\"6\",\"the\",\"ill\",\"homeless\",\"referred\",\"to\",\"research\",\"by\",\"us\",\"and\",\"six\",\"of\",\"our\",\"colleagues\",\"that\",\"was\",\"reported\",\"in\",\"the\",\"sept\",\"8\",\"issue\",\"of\",\"the\",\"journal\",\"of\",\"the\",\"american\",\"medical\",\"association\"])"
      ]
     },
     "execution_count": 19,
     "metadata": {},
     "output_type": "execute_result"
    },
    {
     "name": "stderr",
     "output_type": "stream",
     "text": [
      "WARNING: Base.writemime is deprecated.\n",
      "  likely near /home/ubuntu/.julia/v0.5/IJulia/src/kernel.jl:31\n",
      "WARNING: Base.writemime is deprecated.\n",
      "  likely near /home/ubuntu/.julia/v0.5/IJulia/src/kernel.jl:31\n",
      "WARNING: Base.writemime is deprecated.\n",
      "  likely near /home/ubuntu/.julia/v0.5/IJulia/src/kernel.jl:31\n",
      "WARNING: Base.writemime is deprecated.\n",
      "  likely near /home/ubuntu/.julia/v0.5/IJulia/src/kernel.jl:31\n",
      "WARNING: Base.writemime is deprecated.\n",
      "  likely near /home/ubuntu/.julia/v0.5/IJulia/src/kernel.jl:31\n",
      "in display_dict at /home/ubuntu/.julia/v0.5/IJulia/src/execute_request.jl\n"
     ]
    }
   ],
   "source": [
    "challenge = challenges[1]"
   ]
  },
  {
   "cell_type": "code",
   "execution_count": 20,
   "metadata": {
    "collapsed": false
   },
   "outputs": [
    {
     "data": {
      "text/plain": [
       "sense_frequency (generic function with 1 method)"
      ]
     },
     "execution_count": 20,
     "metadata": {},
     "output_type": "execute_result"
    }
   ],
   "source": [
    "function sense_frequency(ss::Synset, lem::Lemma)\n",
    "    lem_count = lem.tagsense_count\n",
    "    lem_count+0.1(sum(values(ss.word_counts))-lem_count)\n",
    "end"
   ]
  },
  {
   "cell_type": "code",
   "execution_count": 21,
   "metadata": {
    "collapsed": false
   },
   "outputs": [
    {
     "data": {
      "text/plain": [
       "lexically_informed_embeddings (generic function with 2 methods)"
      ]
     },
     "execution_count": 21,
     "metadata": {},
     "output_type": "execute_result"
    }
   ],
   "source": [
    "lexically_informed_embeddings(db,ee, lemma_word, pos) = lexically_informed_embeddings(db,ee, lemma_word, lemma_word, pos)\n",
    "\n",
    "function lexically_informed_embeddings(db,ee, word,lemma_word, pos)\n",
    "    source_wvs = ee.embedding[word]\n",
    "    lemma = db[pos, lemma_word]\n",
    "    target_synsets::Vector{Synset} = synsets(db, lemma)\n",
    "    if length(source_wvs) == 1\n",
    "        #Use MCWS\n",
    "        score, index = findmax(sense_frequency(ss,lemma) for ss in target_synsets)\n",
    "        target_synsets=[target_synsets[index]] # Throw out others\n",
    "    end\n",
    "            \n",
    "    embeddings = Vector{eltype(source_wvs)}(length(target_synsets))\n",
    "    for (ii,synset) in enumerate(target_synsets)\n",
    "        context::Vector{SubString{String}} = collect(filter!(w->w!=word, punctuation_space_tokenize(synset.gloss)))\n",
    "        embeddings[ii] = synthesize_embedding(ee,context, word)\n",
    "    end\n",
    "        \n",
    "    embeddings,target_synsets,lemma\n",
    "end"
   ]
  },
  {
   "cell_type": "code",
   "execution_count": 22,
   "metadata": {
    "collapsed": false
   },
   "outputs": [
    {
     "data": {
      "text/html": [
       "2 methods for generic function <b>logprob_of_context</b>:<ul><li> logprob_of_context<i>{S<:String}</i>(embed::<b>WordEmbeddings.WordEmbedding</b>, context::<b>AbstractArray{S,1}</b>, middle_word::<b>S</b>; <i>kwargs...</i>) at <a href=\"https://github.com/oxinabox/phd/tree/6b6f56a0e7b6e2b7c3b11fdfa95e5f69745502fc/prototypes/SenseSplittingWord2Vec/src/Query.jl#L142\" target=\"_blank\">/mnt_volume/phd/prototypes/SenseSplittingWord2Vec/src/Query.jl:142</a></li> <li> logprob_of_context(embed::<b>WordEmbeddings.GenWordEmbedding</b>, context, input::<b>Array{Float32,1}</b>; <i>skip_oov, normalise_over_length</i>) at <a href=\"https://github.com/oxinabox/phd/tree/6b6f56a0e7b6e2b7c3b11fdfa95e5f69745502fc/prototypes/SenseSplittingWord2Vec/src/Query.jl#L148\" target=\"_blank\">/mnt_volume/phd/prototypes/SenseSplittingWord2Vec/src/Query.jl:148</a></li> </ul>"
      ],
      "text/plain": [
       "# 2 methods for generic function \"logprob_of_context\":\n",
       "logprob_of_context{S<:String}(embed::WordEmbeddings.WordEmbedding, context::AbstractArray{S,1}, middle_word::S; kwargs...) at /mnt_volume/phd/prototypes/SenseSplittingWord2Vec/src/Query.jl:142\n",
       "logprob_of_context(embed::WordEmbeddings.GenWordEmbedding, context, input::Array{Float32,1}; skip_oov, normalise_over_length) at /mnt_volume/phd/prototypes/SenseSplittingWord2Vec/src/Query.jl:148"
      ]
     },
     "execution_count": 22,
     "metadata": {},
     "output_type": "execute_result"
    },
    {
     "name": "stderr",
     "output_type": "stream",
     "text": [
      "WARNING: Base.writemime is deprecated.\n",
      "  likely near /home/ubuntu/.julia/v0.5/IJulia/src/kernel.jl:31\n",
      "WARNING: Base.writemime is deprecated.\n",
      "  likely near /home/ubuntu/.julia/v0.5/IJulia/src/kernel.jl:31\n",
      "WARNING: Base.writemime is deprecated.\n",
      "  likely near /home/ubuntu/.julia/v0.5/IJulia/src/kernel.jl:31\n",
      "WARNING: Base.writemime is deprecated.\n",
      "  likely near /home/ubuntu/.julia/v0.5/IJulia/src/kernel.jl:31\n",
      "WARNING: Base.writemime is deprecated.\n",
      "  likely near /home/ubuntu/.julia/v0.5/IJulia/src/kernel.jl:31\n",
      "in display_dict at /home/ubuntu/.julia/v0.5/IJulia/src/execute_request.jl\n"
     ]
    }
   ],
   "source": [
    "methods(logprob_of_context)"
   ]
  },
  {
   "cell_type": "code",
   "execution_count": 40,
   "metadata": {
    "collapsed": false
   },
   "outputs": [
    {
     "name": "stderr",
     "output_type": "stream",
     "text": [
      "WARNING: Method definition supervised_wsd(Main.WsdChallenge, WordEmbeddings.WordSenseEmbedding, WordNet.DB, Any) in module Main at In[39]:2 overwritten at In[40]:2.\n",
      "WARNING: Method definition most_frequent_sense(Any, WordNet.DB, Any) in module Main at In[39]:26 overwritten at In[40]:26.\n"
     ]
    },
    {
     "data": {
      "text/plain": [
       "most_frequent_sense (generic function with 3 methods)"
      ]
     },
     "execution_count": 40,
     "metadata": {},
     "output_type": "execute_result"
    }
   ],
   "source": [
    "function supervised_wsd(challenge::WsdChallenge, ee::WordSenseEmbedding, wn::DB, sense_key_map)\n",
    "    try\n",
    "        embeddings,target_synsets,lemma = lexically_informed_embeddings(wn,ee,\n",
    "                                                            challenge.word, \n",
    "                                                            challenge.lemma, challenge.pos)\n",
    "        #sense_index = Query.WSD(ee, embeddings, challenge.context; skip_oov=true)\n",
    "        logprobs_of_context = [logprob_of_context(ee,challenge.context, wv; skip_oov=true, normalise_over_length=true) \n",
    "                                    for wv in embeddings] \n",
    "        \n",
    "        sense_freqs = 1# Float32[sense_frequency(ss,lemma)+1 for ss in target_synsets]\n",
    "        sense_freqs./=sum(sense_freqs)\n",
    "        \n",
    "        sense_index= indmax(log(sense_freqs).+logprobs_of_context)\n",
    "\n",
    "        \n",
    "        synset = target_synsets[sense_index]\n",
    "        sk = sense_key(lemma, synset, sense_key_map)\n",
    "        Nullable(sk)\n",
    "    catch ex\n",
    "        isa(ex, KeyError) || rethrow(ex)\n",
    "        Nullable{String}()\n",
    "    end\n",
    "end\n",
    "\n",
    "function most_frequent_sense(challenge, wn::DB, sense_key_map)\n",
    "    try\n",
    "        lemma = wn[challenge.pos, challenge.lemma]\n",
    "        target_synsets::Vector{Synset} = synsets(db, lemma)\n",
    "        \n",
    "        sense_freqs =  Float32[sense_frequency(ss,lemma) for ss in target_synsets]      \n",
    "        sense_index= indmax(sense_freqs)\n",
    "        synset = target_synsets[sense_index]\n",
    "        \n",
    "        sk = sense_key(lemma, synset, sense_key_map)\n",
    "        Nullable(sk)\n",
    "    catch ex\n",
    "        isa(ex, KeyError) || rethrow(ex)\n",
    "        Nullable{String}()\n",
    "    end\n",
    "end\n",
    "\n"
   ]
  },
  {
   "cell_type": "code",
   "execution_count": 41,
   "metadata": {
    "collapsed": false
   },
   "outputs": [
    {
     "name": "stderr",
     "output_type": "stream",
     "text": [
      "WARNING: Method definition evalute_on_wsd_challenge(Any, Any, Any) in module Main at In[36]:2 overwritten at In[41]:2.\n",
      "WARNING: Method definition evalute_on_wsd_challenge(Any, Any, WordEmbeddings.WordSenseEmbedding, WordNet.DB, Any) in module Main at In[36]:26 overwritten at In[41]:26.\n",
      "WARNING: Method definition evalute_on_wsd_challenge_MFS(Any, Any, WordNet.DB, Any) in module Main at In[36]:32 overwritten at In[41]:32.\n"
     ]
    },
    {
     "data": {
      "text/plain": [
       "evalute_on_wsd_challenge_MFS (generic function with 1 method)"
      ]
     },
     "execution_count": 41,
     "metadata": {},
     "output_type": "execute_result"
    }
   ],
   "source": [
    "function evalute_on_wsd_challenge(challenges, solutions, method)\n",
    "    correct = 0\n",
    "    incorrect = 0\n",
    "    notattempted = 0\n",
    "    for (challenge, ground_solution) in zip(challenges, solutions)\n",
    "        assert(challenge.id == ground_solution.id)\n",
    "        output_sense = method(challenge)\n",
    "        if isnull(output_sense)\n",
    "            notattempted+=1\n",
    "        else\n",
    "            if get(output_sense) ∈ ground_solution.solutions\n",
    "                correct+=1\n",
    "            else\n",
    "                incorrect+=1\n",
    "            end\n",
    "        end\n",
    "    end\n",
    "    precision = correct/(correct+incorrect)\n",
    "    recall = correct/(correct+incorrect+notattempted)\n",
    "    f1 = (2*precision*recall) / (precision+recall)\n",
    "    return precision, recall, f1\n",
    "end\n",
    "    \n",
    "    \n",
    "function evalute_on_wsd_challenge(challenges, solutions, ee::WordSenseEmbedding, wn::DB, sense_key_map)\n",
    "    method = challenge -> supervised_wsd(challenge, ee, wn, sense_key_map)\n",
    "    evalute_on_wsd_challenge(challenges, solutions, method)\n",
    "end\n",
    "\n",
    "\n",
    "function evalute_on_wsd_challenge_MFS(challenges, solutions, wn::DB, sense_key_map)\n",
    "    method = challenge -> most_frequent_sense(challenge, wn, sense_key_map)\n",
    "    evalute_on_wsd_challenge(challenges, solutions, method)\n",
    "end"
   ]
  },
  {
   "cell_type": "code",
   "execution_count": 32,
   "metadata": {
    "collapsed": false
   },
   "outputs": [
    {
     "name": "stdout",
     "output_type": "stream",
     "text": [
      "overall: \t\t(0.6302250803858521,0.6046716615249008,0.6171839856050383)\n",
      "only nouns  : \t\t(0.6470588235294118,0.6254512635379061,0.6360715924736118)\n",
      "only verbs  : \t\t(0.5454545454545454,0.5177664974619289,0.53125)\n",
      "only adjecti: \t\t(0.6960227272727273,0.6767955801104972,0.6862745098039216)\n",
      "only adverbs: \t\t(0.6632124352331606,0.6153846153846154,0.6384039900249376)\n"
     ]
    }
   ],
   "source": [
    "println(\"overall: \\t\\t\", evalute_on_wsd_challenge(challenges, solutions, ee, db, sense_key_map))\n",
    "\n",
    "println(\"only nouns  : \\t\\t\", evalute_on_wsd_challenge(only_of_pos(challenges,'n'), only_of_pos(solutions,'n'), ee, db, sense_key_map))\n",
    "println(\"only verbs  : \\t\\t\", evalute_on_wsd_challenge(only_of_pos(challenges,'v'), only_of_pos(solutions,'v'), ee, db, sense_key_map))\n",
    "println(\"only adjecti: \\t\\t\", evalute_on_wsd_challenge(only_of_pos(challenges,'a'), only_of_pos(solutions,'a'), ee, db, sense_key_map))\n",
    "println(\"only adverbs: \\t\\t\", evalute_on_wsd_challenge(only_of_pos(challenges,'r'), only_of_pos(solutions,'r'), ee, db, sense_key_map))\n"
   ]
  },
  {
   "cell_type": "code",
   "execution_count": 42,
   "metadata": {
    "collapsed": false
   },
   "outputs": [
    {
     "name": "stdout",
     "output_type": "stream",
     "text": [
      "overall: \t\t(0.5932128691053328,0.5932128691053328,0.5932128691053328)\n",
      "only nouns  : \t\t(0.592057761732852,0.592057761732852,0.592057761732852)\n",
      "only verbs  : \t\t(0.48392554991539766,0.48392554991539766,0.48392554991539766)\n",
      "only adjecti: \t\t(0.6823204419889503,0.6823204419889503,0.6823204419889503)\n",
      "only adverbs: \t\t(0.7548076923076923,0.7548076923076923,0.7548076923076922)\n"
     ]
    }
   ],
   "source": [
    "println(\"overall: \\t\\t\", evalute_on_wsd_challenge_MFS(challenges, solutions, db, sense_key_map))\n",
    "\n",
    "println(\"only nouns  : \\t\\t\", evalute_on_wsd_challenge_MFS(only_of_pos(challenges,'n'), only_of_pos(solutions,'n'), db, sense_key_map))\n",
    "println(\"only verbs  : \\t\\t\", evalute_on_wsd_challenge_MFS(only_of_pos(challenges,'v'), only_of_pos(solutions,'v'), db, sense_key_map))\n",
    "println(\"only adjecti: \\t\\t\", evalute_on_wsd_challenge_MFS(only_of_pos(challenges,'a'), only_of_pos(solutions,'a'), db, sense_key_map))\n",
    "println(\"only adverbs: \\t\\t\", evalute_on_wsd_challenge_MFS(only_of_pos(challenges,'r'), only_of_pos(solutions,'r'), db, sense_key_map))\n"
   ]
  },
  {
   "cell_type": "code",
   "execution_count": null,
   "metadata": {
    "collapsed": true
   },
   "outputs": [],
   "source": []
  },
  {
   "cell_type": "code",
   "execution_count": null,
   "metadata": {
    "collapsed": true
   },
   "outputs": [],
   "source": []
  }
 ],
 "metadata": {
  "kernelspec": {
   "display_name": "Julia 0.5.0-dev",
   "language": "julia",
   "name": "julia-0.5"
  },
  "language_info": {
   "file_extension": ".jl",
   "mimetype": "application/julia",
   "name": "julia",
   "version": "0.5.0"
  }
 },
 "nbformat": 4,
 "nbformat_minor": 0
}
