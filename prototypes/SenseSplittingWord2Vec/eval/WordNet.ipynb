{
 "cells": [
  {
   "cell_type": "code",
   "execution_count": 82,
   "metadata": {
    "collapsed": false
   },
   "outputs": [],
   "source": [
    "using WordNet\n",
    "using WordEmbeddings, SoftmaxClassifier\n",
    "using Utils\n",
    "using Query\n",
    "using Distances\n",
    "using Iterators"
   ]
  },
  {
   "cell_type": "code",
   "execution_count": 2,
   "metadata": {
    "collapsed": false
   },
   "outputs": [
    {
     "data": {
      "text/plain": [
       "WordNet.DB"
      ]
     },
     "execution_count": 2,
     "metadata": {},
     "output_type": "execute_result"
    }
   ],
   "source": [
    "db = DB(\"data/corpora/wordnet/\")"
   ]
  },
  {
   "cell_type": "code",
   "execution_count": 3,
   "metadata": {
    "collapsed": false,
    "scrolled": true
   },
   "outputs": [
    {
     "name": "stderr",
     "output_type": "stream",
     "text": [
      "WARNING: Base.writemime is deprecated.\n",
      "  likely near /home/ubuntu/.julia/v0.5/IJulia/src/kernel.jl:31\n",
      "WARNING: Base.writemime is deprecated.\n",
      "  likely near /home/ubuntu/.julia/v0.5/IJulia/src/kernel.jl:31\n",
      "WARNING: Base.writemime is deprecated.\n",
      "  likely near /home/ubuntu/.julia/v0.5/IJulia/src/kernel.jl:31\n",
      "WARNING: Base.writemime is deprecated.\n",
      "  likely near /home/ubuntu/.julia/v0.5/IJulia/src/kernel.jl:31\n",
      "WARNING: Base.writemime is deprecated.\n",
      "  likely near /home/ubuntu/.julia/v0.5/IJulia/src/kernel.jl:31\n",
      "in display_dict at /home/ubuntu/.julia/v0.5/IJulia/src/execute_request.jl\n"
     ]
    },
    {
     "data": {
      "text/plain": [
       "8-element Array{WordNet.Synset,1}:\n",
       " (n) province, state (the territory occupied by one of the constituent administrative districts of a nation; \"his state is in the deep south\")                                                                                                                                                                            \n",
       " (n) state (the way something is with respect to its main attributes; \"the current state of knowledge\"; \"his state of health\"; \"in a weak financial state\")                                                                                                                                                               \n",
       " (n) state (the group of people comprising the government of a sovereign state; \"the state has lowered its income tax\")                                                                                                                                                                                                   \n",
       " (n) res publica, land, commonwealth, nation, body politic, country, state (a politically organized body of people under a single government; \"the state has elected a new president\"; \"African nations\"; \"students who had come to the nation's capitol\"; \"the country's largest manufacturer\"; \"an industrialized land\")\n",
       " (n) state, state of matter ((chemistry) the three traditional states of matter are solids (fixed shape and volume) and liquids (fixed volume and shaped by the container) and gases (filling the container); \"the solid state of water is called ice\")                                                                   \n",
       " (n) state (a state of depression or agitation; \"he was in such a state you just couldn't reason with him\")                                                                                                                                                                                                               \n",
       " (n) land, country, state (the territory occupied by a nation; \"he returned to the land of his birth\"; \"he visited several European countries\")                                                                                                                                                                           \n",
       " (n) Department of State, DoS, United States Department of State, State Department, State (the federal department in the United States that sets and maintains foreign policies; \"the Department of State was created in 1789\")                                                                                           "
      ]
     },
     "execution_count": 3,
     "metadata": {},
     "output_type": "execute_result"
    }
   ],
   "source": [
    "lemma = db['n', \"state\"]\n",
    "s1,s2,s3,s4 = synsets(db, lemma)"
   ]
  },
  {
   "cell_type": "code",
   "execution_count": 5,
   "metadata": {
    "collapsed": false,
    "scrolled": true
   },
   "outputs": [
    {
     "name": "stderr",
     "output_type": "stream",
     "text": [
      "WARNING: utf8(s::AbstractString) is deprecated, use String(s) instead.\n",
      " in depwarn(::String, ::Symbol) at ./deprecated.jl:64\n",
      " in utf8(::SubString{String}) at ./deprecated.jl:50\n",
      " in _collect(::Array{SubString{String},1}, ::Base.Generator{Array{SubString{String},1},Base.#utf8}, ::Base.EltypeUnknown, ::Base.HasShape) at ./array.jl:258\n",
      " in #error_content#12(::Symbol, ::String, ::Function, ::LoadError, ::Array{Ptr{Void},1}) at /home/ubuntu/.julia/v0.5/IJulia/src/execute_request.jl:75\n",
      " in execute_request_0x535c5df2(::ZMQ.Socket, ::IJulia.Msg) at /home/ubuntu/.julia/v0.5/IJulia/src/execute_request.jl:238\n",
      " in eventloop(::ZMQ.Socket) at /home/ubuntu/.julia/v0.5/IJulia/src/IJulia.jl:143\n",
      " in (::IJulia.##24#30)() at ./task.jl:309\n",
      "while loading /home/ubuntu/.julia/v0.5/IJulia/src/kernel.jl, in expression starting on line 31\n",
      "WARNING: utf8(s::AbstractString) is deprecated, use String(s) instead.\n",
      " in depwarn(::String, ::Symbol) at ./deprecated.jl:64\n",
      " in utf8(::SubString{String}) at ./deprecated.jl:50\n",
      " in collect_to!(::Array{String,1}, ::Base.Generator{Array{SubString{String},1},Base.#utf8}, ::Int64, ::Int64) at ./array.jl:277\n",
      " in _collect(::Array{SubString{String},1}, ::Base.Generator{Array{SubString{String},1},Base.#utf8}, ::Base.EltypeUnknown, ::Base.HasShape) at ./array.jl:259\n",
      " in #error_content#12(::Symbol, ::String, ::Function, ::LoadError, ::Array{Ptr{Void},1}) at /home/ubuntu/.julia/v0.5/IJulia/src/execute_request.jl:75\n",
      " in execute_request_0x535c5df2(::ZMQ.Socket, ::IJulia.Msg) at /home/ubuntu/.julia/v0.5/IJulia/src/execute_request.jl:238\n",
      " in eventloop(::ZMQ.Socket) at /home/ubuntu/.julia/v0.5/IJulia/src/IJulia.jl:143\n",
      " in (::IJulia.##24#30)() at ./task.jl:309\n",
      "while loading /home/ubuntu/.julia/v0.5/IJulia/src/kernel.jl, in expression starting on line 31\n"
     ]
    }
   ],
   "source": [
    "ee = restore(\"models/ss/tokenised_lowercase_WestburyLab.wikicorp.201004_100_i1.model\");"
   ]
  },
  {
   "cell_type": "code",
   "execution_count": 56,
   "metadata": {
    "collapsed": false
   },
   "outputs": [
    {
     "name": "stderr",
     "output_type": "stream",
     "text": [
      "WARNING: Method definition normal_probs(Array{T<:Any, 1}) in module Main at In[52]:2 overwritten at In[56]:2.\n",
      "WARNING: Method definition weighted_average(Any, Any) in module Main at In[52]:13 overwritten at In[56]:11.\n",
      "WARNING: Method definition all_logprobs_of_context(Any, Any, Any) in module Main at In[52]:21 overwritten at In[56]:19.\n",
      "WARNING: Method definition synthesize_embedding(Any, Any, Any) in module Main at In[52]:26 overwritten at In[56]:24.\n"
     ]
    },
    {
     "data": {
      "text/plain": [
       "synthesize_embedding (generic function with 1 method)"
      ]
     },
     "execution_count": 56,
     "metadata": {},
     "output_type": "execute_result"
    }
   ],
   "source": [
    "function normal_probs(logprobs::Vector)\n",
    "    ret = copy(logprobs)\n",
    "    max_lp = maximum(logprobs)\n",
    "    ret.-=max_lp #Bring closer to zero\n",
    "    map!(exp,ret)\n",
    "    denom = sum(ret)\n",
    "    ret./=denom\n",
    "    ret\n",
    "end\n",
    "function weighted_average(logprobs, embeddings)\n",
    "    ret = zeros(first(embeddings))\n",
    "    for (weight, embedding) in zip(normal_probs(logprobs), embeddings)\n",
    "        ret.+= weight.*embedding\n",
    "    end\n",
    "    ret\n",
    "end\n",
    "\n",
    "function all_logprobs_of_context(embed, context, middle_word)\n",
    "    [Query.logprob_of_context(embed, context,wv; skip_oov=true, normalise_over_length=true)\n",
    "        for wv in embed.embedding[middle_word]]\n",
    "end\n",
    "\n",
    "function synthesize_embedding(ee,context, middle_word)\n",
    "    logprobs = all_logprobs_of_context(ee, context,middle_word)\n",
    "    weighted_average(logprobs, ee.embedding[middle_word])\n",
    "end"
   ]
  },
  {
   "cell_type": "code",
   "execution_count": 10,
   "metadata": {
    "collapsed": false
   },
   "outputs": [
    {
     "data": {
      "text/plain": [
       "poormans_tokenize (generic function with 1 method)"
      ]
     },
     "execution_count": 10,
     "metadata": {},
     "output_type": "execute_result"
    }
   ],
   "source": [
    "function poormans_tokenize(source)\n",
    "    cleaned = filter(s->!ispunct(s), lowercase(source))\n",
    "    map(string,  split(cleaned))::Vector{SubString{String}}\n",
    "end"
   ]
  },
  {
   "cell_type": "code",
   "execution_count": 11,
   "metadata": {
    "collapsed": false
   },
   "outputs": [
    {
     "data": {
      "text/plain": [
       "lexical_informed_embeddings (generic function with 1 method)"
      ]
     },
     "execution_count": 11,
     "metadata": {},
     "output_type": "execute_result"
    }
   ],
   "source": [
    "function lexical_informed_embeddings(db,ee, word)\n",
    "    source_wvs = ee.embedding[word]\n",
    "    target_synsets = Base.flatten((haskey(db.lemmas[pos], word) ? synsets(db, db[pos, word]) : WordNet.Synset[] \n",
    "        for pos in keys(WordNet.SYNSET_TYPES))) \n",
    "        \n",
    "    synsets4vectors = Dict{eltype(source_wvs), Synset}()\n",
    "    for synset::Synset in target_synsets\n",
    "            context::Vector{SubString{String}} = collect(filter!(w->w!=word, poormans_tokenize(synset.gloss)))\n",
    "            wv = synthesize_embedding(ee,context, word)\n",
    "            synsets4vectors[wv] = synset\n",
    "    end\n",
    "    synsets4vectors\n",
    "end"
   ]
  },
  {
   "cell_type": "code",
   "execution_count": 95,
   "metadata": {
    "collapsed": false,
    "scrolled": true
   },
   "outputs": [
    {
     "name": "stdout",
     "output_type": "stream",
     "text": [
      "  0.014885 seconds (84.79 k allocations: 1.424 MB)\n"
     ]
    },
    {
     "data": {
      "text/plain": [
       "Dict{Array{Float32,1},WordNet.Synset} with 5 entries:\n",
       "  Float32[0.0660684,0.208797,0.0588219,-0.0629229,0.0701763,0.0594902,0.0381539,-0.275917,-0.155943,-0.0731264,0.0533249,-0.0456988,-0.123662,-0.0201816,0.0778413,0.00600946,-0.0493329,0.0403639,-0.218606,-0.0292093,-0.0890433,-0.0922866,0.0634917,-0.181567,0.0616838,0.152754,-0.0405237,0.0440584,0.0125958,-0.187449,0.087059,0.00601861,-0.00935936,-0.124986,-0.0650402,0.0569165,-0.00446479,0.0655407,-0.103683,0.0515717,0.0796814,0.155174,0.140808,-0.254336,0.119517,0.0944476,-0.0270894,0.00308659,-0.23041,0.152532,0.110332,0.291473,-0.0467245,0.0775381,0.100264,-0.0106341,-0.142974,-0.0932267,0.0498874,-0.0409321,0.00647375,-0.0184611,-0.0292129,-0.0128562,0.0585012,0.026243,-0.0586521,0.103921,0.00788055,-0.248088,0.143544,-0.0384259,-0.207891,0.100958,0.0538612,0.124087,0.0481915,0.0805845,0.0814414,-0.320794,-0.0808933,-0.0835137,0.141002,-0.0183176,0.0535028,-0.0393761,0.226576,0.1581,0.134159,0.026516,-0.13384,0.0513165,-0.09143,0.0140771,0.165092,0.0877249,0.290559,-0.000336669,-0.062053,0.106884] => (n) solution (a method for solving a problem; \"the easy solution is to look it up in the handbook\")\n",
       "  Float32[0.108623,0.174003,0.0477973,-0.0163889,0.0892375,0.00132659,0.0499567,-0.247145,-0.179937,0.0716837,0.121281,0.0209093,-0.00597227,0.0380095,0.0843638,-0.0082489,0.00459856,-0.0492346,-0.240825,-0.0354793,-0.125939,-0.132006,0.00576972,-0.206838,0.0801306,0.134844,-0.00176305,0.0605666,0.0520718,-0.221483,0.0963453,-0.0350947,-0.0274166,-0.113178,-0.113831,0.0784883,-0.0262429,0.0507603,-0.0623817,0.100145,0.13481,-0.020124,0.0815758,-0.212977,0.150386,0.116742,0.0311546,-0.0455437,-0.203039,0.12555,0.0100823,0.355998,-0.0928054,0.0115287,0.129429,-0.0170264,-0.121318,-0.0718935,0.0450695,0.0618815,0.0857409,-0.0586034,-0.0784886,0.0531065,0.122592,-0.0122441,-0.0449812,0.13637,0.058747,-0.185024,0.172037,-0.116037,-0.250944,0.0233959,0.00157003,0.159883,0.143294,0.160358,0.160887,-0.269514,-0.0498837,-0.125489,0.15677,0.0059314,0.047112,0.00225839,0.2371,0.0540978,0.176729,0.0590118,-0.116068,0.127828,-0.162605,0.0807133,0.156452,0.150063,0.354539,0.00107728,-0.0735734,0.0367555] => (n) root, solution (the set of values that give a true statement when substituted into an equation)\n",
       "  Float32[0.129661,0.158221,0.129241,-0.0653096,0.0756613,-0.0595538,0.094569,-0.210439,-0.215564,0.06794,0.18943,0.031781,-0.117016,0.0166288,0.0937304,0.0492049,-0.0161094,-0.114952,-0.254294,-0.0875557,-0.125677,-0.147125,0.0733376,-0.0911582,0.0345731,0.125822,0.0473689,0.0353735,0.0742947,-0.22432,0.0802097,-0.0174456,-0.0166572,-0.195062,-0.0588393,0.0524933,0.0140854,0.0531371,-0.0301506,0.0564349,0.0675341,0.00673032,0.0821484,-0.203946,0.148214,0.0806598,0.0448336,-0.0900117,-0.1932,0.0666541,0.0674237,0.312911,-0.0467244,-0.0127615,0.127574,-0.0350583,-0.116716,-0.0452929,0.0365302,0.0038777,-0.00271434,-0.0124538,-0.0383071,0.0504983,0.17923,0.0143252,-0.0474893,0.206061,0.0224455,-0.260008,0.106379,-0.164139,-0.31062,-0.0122934,-0.0207994,0.123363,0.107204,0.220115,0.0747165,-0.237056,-0.00125008,-0.153091,0.0795457,-0.0288111,0.0585277,-0.0400832,0.236365,0.0700513,0.121209,0.0141912,-0.145607,0.175777,-0.144393,0.0298959,0.163433,0.0881875,0.359883,0.0239307,-0.04204,0.0279425] => (n) solution (a homogeneous mixture of two or more substances; frequently (but not necessarily) a liquid solution; \"he used a solution of peroxide and water\")\n",
       "  Float32[0.074857,0.218437,0.0616881,-0.0703137,0.0551873,0.0354337,0.046638,-0.273077,-0.107758,-0.0203025,0.0675103,-0.00937555,-0.0804843,0.0105413,0.0723987,0.00857275,-0.0118662,0.0304403,-0.205871,-0.020985,-0.102667,-0.0994002,0.0449024,-0.212543,0.076044,0.153755,-0.0499359,0.0702192,0.00189593,-0.197661,0.0835836,-0.012856,-0.012325,-0.105849,-0.0812554,0.0370604,-0.013897,0.0620128,-0.113681,0.0524476,0.121197,0.091788,0.125009,-0.238577,0.145478,0.0995187,-0.0157399,-0.0128429,-0.201237,0.120432,0.0666731,0.322908,-0.076998,0.0444238,0.108221,0.0153292,-0.126696,-0.0821927,0.05551,0.00603014,0.0546916,-0.0120872,-0.0599835,0.00986979,0.0662801,0.0181099,-0.0385369,0.11108,0.0230773,-0.201139,0.166556,-0.0515144,-0.244558,0.0519961,0.0752314,0.118724,0.08822,0.0805166,0.132275,-0.301746,-0.0676837,-0.100798,0.149113,-0.00021619,0.0484698,-0.00986486,0.22481,0.13678,0.150716,0.0419141,-0.11268,0.0690643,-0.134113,0.0114987,0.162371,0.0999098,0.321209,0.007865,-0.0515321,0.0926125] => (n) solvent, resolution, solution, answer, result (a statement that solves a problem or explains how to solve the problem; \"they were trying to find a peaceful solution\"; \"the answers were in the back of the book\"; \"he computed the result to four decimal places\")\n",
       "  Float32[0.0752323,0.189255,0.0816141,-0.0518526,0.0462632,0.0104564,0.0394635,-0.244491,-0.143675,0.00109718,0.0751021,-0.0055541,-0.0933366,0.00826762,0.0769051,-0.0146802,0.0144263,0.0367148,-0.212342,-0.0373681,-0.0957953,-0.0917439,0.0380297,-0.211073,0.056938,0.142463,-0.0236033,0.0491521,0.0335419,-0.189324,0.0840218,-0.0136859,0.0175321,-0.114318,-0.0881897,0.057223,-0.0279479,0.0553261,-0.0902957,0.0694624,0.092126,0.0870937,0.104384,-0.223029,0.148979,0.101047,-0.0101336,-0.0137739,-0.160681,0.118622,0.0661039,0.307168,-0.0617364,0.0243349,0.113763,0.0258097,-0.10048,-0.0679973,0.0631597,-0.00269166,0.0290469,-0.00375327,-0.0425912,0.0237137,0.0917473,-0.0117556,-0.051365,0.117501,0.0449467,-0.185721,0.154673,-0.0750452,-0.241456,0.0669662,0.0507605,0.124894,0.0721685,0.11371,0.113984,-0.273273,-0.0418161,-0.130835,0.131476,0.0118157,0.053215,-0.00963992,0.222388,0.110309,0.157591,0.0449523,-0.127079,0.0746459,-0.160622,0.0425438,0.192703,0.11182,0.28376,0.0364059,-0.0168739,0.067909] => (n) solution (the successful action of solving a problem; \"the solution took three hours\")"
      ]
     },
     "execution_count": 95,
     "metadata": {},
     "output_type": "execute_result"
    }
   ],
   "source": [
    "@time lexical_informed_embeddings(db,ee, \"solution\")"
   ]
  },
  {
   "cell_type": "code",
   "execution_count": 1,
   "metadata": {
    "collapsed": false
   },
   "outputs": [
    {
     "name": "stderr",
     "output_type": "stream",
     "text": [
      "WARNING: Base.writemime is deprecated.\n",
      "  likely near /home/ubuntu/.julia/v0.5/IJulia/src/kernel.jl:31\n",
      "WARNING: Base.writemime is deprecated.\n",
      "  likely near /home/ubuntu/.julia/v0.5/IJulia/src/kernel.jl:31\n",
      "WARNING: Base.writemime is deprecated.\n",
      "  likely near /home/ubuntu/.julia/v0.5/IJulia/src/kernel.jl:31\n",
      "WARNING: Base.writemime is deprecated.\n",
      "  likely near /home/ubuntu/.julia/v0.5/IJulia/src/kernel.jl:31\n",
      "INFO: Recompiling stale cache file /home/ubuntu/.julia/lib/v0.5/LightXML.ji for module LightXML.\n",
      "WARNING: `@windows` is deprecated, use `@static is_windows()` instead\n",
      " in depwarn(::String, ::Symbol) at ./deprecated.jl:64\n",
      " in @windows(::Any, ::Any) at ./deprecated.jl:512\n",
      " in include_from_node1(::String) at ./loading.jl:426\n",
      " in macro expansion; at ./none:2 [inlined]\n",
      " in anonymous at ./<missing>:?\n",
      " in eval(::Module, ::Any) at ./boot.jl:234\n",
      " in process_options(::Base.JLOptions) at ./client.jl:243\n",
      " in _start() at ./client.jl:322\n",
      "while loading /home/ubuntu/.julia/v0.5/LightXML/src/LightXML.jl, in expression starting on line 19\n"
     ]
    }
   ],
   "source": [
    "using LightXML"
   ]
  },
  {
   "cell_type": "code",
   "execution_count": 12,
   "metadata": {
    "collapsed": false,
    "scrolled": false
   },
   "outputs": [
    {
     "name": "stdout",
     "output_type": "stream",
     "text": [
      "SubString{String}[\"your\",\"oct\",\"6\",\"editorial\",\"``\",\"the\",\"ill\",\"homeless\",\"referred\",\"to\",\"research\",\"by\",\"us\",\"and\",\"six\",\"of\",\"our\",\"colleagues\",\"that\",\"was\",\"reported\",\"in\",\"the\",\"sept\",\"8\",\"issue\",\"of\",\"the\",\"journal\",\"of\",\"the\",\"american\",\"medical\",\"association\"]\n"
     ]
    },
    {
     "name": "stderr",
     "output_type": "stream",
     "text": [
      "WARNING: Method definition load_challenges() in module Main at In[8]:2 overwritten at In[12]:2.\n",
      "WARNING: Method definition load_challenges(Any) in module Main at In[8]:2 overwritten at In[12]:2.\n"
     ]
    }
   ],
   "source": [
    "function load_challenges(xml_file=\"data/corpora/wsd/semeval2007_t7/test/eng-coarse-all-words.xml\")\n",
    "    xdoc = parse_file(xml_file)\n",
    "    xroot = root(xdoc)\n",
    "    for text_node in child_elements(xroot)\n",
    "        #@show text_node\n",
    "        #text = child_nodes(text_node) |> collect\n",
    "        #println(text)\n",
    "        for sentence_node in child_elements(text_node)\n",
    "            sentence = poormans_tokenize(content(sentence_node))\n",
    "            \n",
    "            for token in             \n",
    "        end\n",
    "    end\n",
    "end\n",
    "load_challenges()"
   ]
  },
  {
   "cell_type": "code",
   "execution_count": null,
   "metadata": {
    "collapsed": true
   },
   "outputs": [],
   "source": []
  }
 ],
 "metadata": {
  "kernelspec": {
   "display_name": "Julia 0.5.0-dev",
   "language": "julia",
   "name": "julia-0.5"
  },
  "language_info": {
   "file_extension": ".jl",
   "mimetype": "application/julia",
   "name": "julia",
   "version": "0.5.0"
  }
 },
 "nbformat": 4,
 "nbformat_minor": 0
}
