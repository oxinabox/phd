{
 "cells": [
  {
   "cell_type": "code",
   "execution_count": 1,
   "metadata": {
    "collapsed": false
   },
   "outputs": [
    {
     "name": "stderr",
     "output_type": "stream",
     "text": [
      "WARNING: Base.writemime is deprecated.\n",
      "  likely near /home/ubuntu/.julia/v0.5/IJulia/src/kernel.jl:31\n",
      "WARNING: Base.writemime is deprecated.\n",
      "  likely near /home/ubuntu/.julia/v0.5/IJulia/src/kernel.jl:31\n",
      "WARNING: Base.writemime is deprecated.\n",
      "  likely near /home/ubuntu/.julia/v0.5/IJulia/src/kernel.jl:31\n",
      "WARNING: Base.writemime is deprecated.\n",
      "  likely near /home/ubuntu/.julia/v0.5/IJulia/src/kernel.jl:31\n"
     ]
    }
   ],
   "source": [
    "using WordNet\n",
    "using WordEmbeddings, SoftmaxClassifier\n",
    "using Utils\n",
    "using Query\n",
    "using Distances\n",
    "using Iterators"
   ]
  },
  {
   "cell_type": "code",
   "execution_count": 152,
   "metadata": {
    "collapsed": false
   },
   "outputs": [
    {
     "data": {
      "text/plain": [
       "\"data/corpora/WordNet-2.1/\""
      ]
     },
     "execution_count": 152,
     "metadata": {},
     "output_type": "execute_result"
    }
   ],
   "source": [
    "const WN_PATH=\"data/corpora/WordNet-2.1/\"\n",
    "db = DB(WN_PATH)"
   ]
  },
  {
   "cell_type": "code",
   "execution_count": 4,
   "metadata": {
    "collapsed": false,
    "scrolled": true
   },
   "outputs": [],
   "source": [
    "ee = restore(\"models/ss/tokenised_lowercase_WestburyLab.wikicorp.201004_100_i1.model\");"
   ]
  },
  {
   "cell_type": "code",
   "execution_count": 5,
   "metadata": {
    "collapsed": false
   },
   "outputs": [
    {
     "data": {
      "text/plain": [
       "synthesize_embedding (generic function with 1 method)"
      ]
     },
     "execution_count": 5,
     "metadata": {},
     "output_type": "execute_result"
    },
    {
     "name": "stderr",
     "output_type": "stream",
     "text": [
      "WARNING: Base.writemime is deprecated.\n",
      "  likely near /home/ubuntu/.julia/v0.5/IJulia/src/kernel.jl:31\n",
      "WARNING: Base.writemime is deprecated.\n",
      "  likely near /home/ubuntu/.julia/v0.5/IJulia/src/kernel.jl:31\n",
      "WARNING: Base.writemime is deprecated.\n",
      "  likely near /home/ubuntu/.julia/v0.5/IJulia/src/kernel.jl:31\n",
      "WARNING: Base.writemime is deprecated.\n",
      "  likely near /home/ubuntu/.julia/v0.5/IJulia/src/kernel.jl:31\n",
      "WARNING: Base.writemime is deprecated.\n",
      "  likely near /home/ubuntu/.julia/v0.5/IJulia/src/kernel.jl:31\n",
      "in display_dict at /home/ubuntu/.julia/v0.5/IJulia/src/execute_request.jl\n"
     ]
    }
   ],
   "source": [
    "function normal_probs(logprobs::Vector)\n",
    "    ret = copy(logprobs)\n",
    "    max_lp = maximum(logprobs)\n",
    "    ret.-=max_lp #Bring closer to zero\n",
    "    map!(exp,ret)\n",
    "    denom = sum(ret)\n",
    "    ret./=denom\n",
    "    ret\n",
    "end\n",
    "function weighted_average(logprobs, embeddings)\n",
    "    ret = zeros(first(embeddings))\n",
    "    for (weight, embedding) in zip(normal_probs(logprobs), embeddings)\n",
    "        ret.+= weight.*embedding\n",
    "    end\n",
    "    ret\n",
    "end\n",
    "\n",
    "function all_logprobs_of_context(embed, context, middle_word)\n",
    "    [Query.logprob_of_context(embed, context,wv; skip_oov=true, normalise_over_length=true)\n",
    "        for wv in embed.embedding[middle_word]]\n",
    "end\n",
    "\n",
    "function synthesize_embedding(ee,context, middle_word)\n",
    "    logprobs = all_logprobs_of_context(ee, context,middle_word)\n",
    "    weighted_average(logprobs, ee.embedding[middle_word])\n",
    "end"
   ]
  },
  {
   "cell_type": "code",
   "execution_count": 6,
   "metadata": {
    "collapsed": false
   },
   "outputs": [
    {
     "data": {
      "text/plain": [
       "punctuation_space_tokenize (generic function with 1 method)"
      ]
     },
     "execution_count": 6,
     "metadata": {},
     "output_type": "execute_result"
    }
   ],
   "source": [
    "function poormans_tokenize(source)\n",
    "    cleaned = filter(s->!ispunct(s), lowercase(source))\n",
    "    map(string,  split(cleaned))::Vector{SubString{String}}\n",
    "end\n",
    "\n",
    "function punctuation_space_tokenize(source)\n",
    "    preprocced = lowercase(source)\n",
    "    pass1=replace(preprocced,r\"[[:punct:]]*[[:space:]][[:punct:]]*\",\" \")\n",
    "    pass2=replace(pass1,r\"[[:punct:]]*$|^[[:punct:]]*\",\"\")\n",
    "    split(pass2)\n",
    "end\n",
    "\n"
   ]
  },
  {
   "cell_type": "code",
   "execution_count": 7,
   "metadata": {
    "collapsed": false
   },
   "outputs": [
    {
     "data": {
      "text/plain": [
       "lexical_informed_embeddings (generic function with 1 method)"
      ]
     },
     "execution_count": 7,
     "metadata": {},
     "output_type": "execute_result"
    }
   ],
   "source": [
    "function lexical_informed_embeddings(db,ee, word)\n",
    "    source_wvs = ee.embedding[word]\n",
    "    target_synsets = Base.flatten((haskey(db.lemmas[pos], word) ? synsets(db, db[pos, word]) : WordNet.Synset[] \n",
    "        for pos in keys(WordNet.SYNSET_TYPES))) \n",
    "\n",
    "    if length(source_wvs) == 1\n",
    "        #Use MCWS\n",
    "        lemma = db['n', lemma_word]\n",
    "        target_synsets = synsets(db, lemma);\n",
    "        score, index = findmax((get(ss.word_counts,lemma_word,0)+0.1sum(values(ss.word_counts))) for ss in target_synsets)\n",
    "        target_synsets=[target_synsets[index]] # Throw out others\n",
    "    else\n",
    "            \n",
    "    synsets4vectors = Dict{eltype(source_wvs), Synset}()\n",
    "    for synset::Synset in target_synsets\n",
    "            context::Vector{SubString{String}} = collect(filter!(w->w!=word, punctuation_space_tokenize(synset.gloss)))\n",
    "            wv = synthesize_embedding(ee,context, word)\n",
    "            synsets4vectors[wv] = synset\n",
    "    end\n",
    "    synsets4vectors\n",
    "end"
   ]
  },
  {
   "cell_type": "code",
   "execution_count": 46,
   "metadata": {
    "collapsed": false,
    "scrolled": true
   },
   "outputs": [
    {
     "name": "stdout",
     "output_type": "stream",
     "text": [
      "  0.024479 seconds (102.73 k allocations: 1.726 MB)\n"
     ]
    },
    {
     "data": {
      "text/plain": [
       "Dict{Array{Float32,1},WordNet.Synset} with 6 entries:\n",
       "  Float32[-0.0537537,0.0682679,-0.0259331,0.157535,-0.272935,0.186007,-0.0694081,-0.0785202,0.199033,-0.126381,-0.0847547,0.128801,-0.183493,-0.0422632,0.0892356,-0.22934,-0.0623469,-0.00149297,0.056994,0.0964768,0.0161398,0.0781163,0.211676,-0.0763543,0.144749,0.216146,0.0675393,0.088937,-0.118281,-0.356966,0.0163716,-0.0818849,0.0128478,-0.0469062,-0.0810498,0.203175,0.0173182,0.0536753,0.0529723,-0.0489318,0.0774052,-0.0222965,-0.0963653,0.0107006,0.0746002,-0.082665,-0.199656,-0.186337,-0.0727619,-0.0921054,0.103729,0.0355965,0.0991122,0.114297,0.0437884,0.0641925,-0.155373,-0.191694,0.106501,0.0299754,0.202594,0.0104121,0.00473919,-0.049686,0.203001,0.149391,-0.0946662,-0.00488328,0.0074259,-0.189963,0.206126,0.0392408,-0.0732178,-0.0386577,0.0215429,0.181814,0.00604329,0.0138382,-0.0173619,-0.0353349,-0.0625751,-0.151501,0.00638058,0.139065,0.130912,0.0440749,0.156332,0.108061,0.0793152,0.0144482,0.140982,0.0163569,-0.061246,0.110436,0.23323,-0.0847705,0.0431462,0.152267,-0.0334466,-0.0968249] => (s) federal (national; especially in reference to the government of the United States as distinct from that of its member units; \"the Federal Bureau of Investigation\"; \"federal courts\"; \"the federal highway program\"; \"federal property\")\n",
       "  Float32[-0.0376671,0.00712817,-0.0599029,0.128079,-0.195303,0.171825,-0.0954035,0.00123529,0.138175,-0.132402,-0.0897398,0.10567,-0.153934,0.0482658,0.0818374,-0.17922,-0.0614347,0.0208641,0.0360885,0.0138243,0.0202582,0.0844414,0.189293,-0.107978,0.180683,0.18478,0.0609545,0.0561095,-0.108417,-0.305599,-0.0361329,-0.0948738,0.0250712,-0.0103325,-0.076753,0.185765,0.0620565,0.0255969,0.0213702,-0.0206366,0.0350266,0.0391466,-0.0459014,-0.0220028,0.103014,-0.0687566,-0.158835,-0.163368,-0.0335803,-0.0620286,0.187259,0.0922943,0.0853607,0.0611596,0.0333768,0.0948517,-0.0735772,-0.166754,0.0477916,0.0456264,0.218677,0.0793671,-0.0171484,-0.104782,0.176219,0.138484,-0.0734561,0.0528925,0.0081693,-0.194733,0.206591,-0.028327,-0.0837801,-0.0636876,-0.00423922,0.18249,0.0119125,0.00831642,-0.00242249,-0.0143732,-0.0187268,-0.100346,-0.00936212,0.0808807,0.0740074,0.0443308,0.166369,0.0674469,0.0448813,-0.0146823,0.135606,0.0448058,-0.0541897,0.148563,0.125066,-0.034066,0.00930951,0.133655,-0.0338145,-0.0820799] => (n) Federal, Federal soldier, Union soldier (a member of the Union Army during the American Civil War)\n",
       "  Float32[-0.0644065,0.0293465,-0.0617338,0.170557,-0.231662,0.163705,-0.0775748,-0.0710414,0.205321,-0.125724,-0.0741083,0.154397,-0.192266,-0.0175474,0.0733439,-0.226473,-0.0934736,-0.0135305,0.0953644,0.0986487,0.0450454,0.0895378,0.17269,-0.0980265,0.148069,0.166521,0.0195897,0.0888722,-0.102687,-0.384547,0.0216414,-0.0967445,0.00508457,-0.056517,-0.0821352,0.218935,0.0579957,-0.00643196,0.0534415,-0.0653953,0.0745566,-0.0278604,-0.0723335,0.0333144,0.10723,-0.094273,-0.212476,-0.168608,-0.0730986,-0.139983,0.119191,0.041828,0.0965005,0.121185,0.060472,0.0967517,-0.119702,-0.189701,0.104338,0.0279571,0.187308,-0.0250967,0.0156305,-0.0561867,0.173727,0.168678,-0.113099,-0.00239688,0.0177595,-0.181987,0.232218,0.0331678,-0.0905198,-0.0853296,0.0437769,0.201546,0.00331973,-0.0045558,-0.0102362,-0.0747613,-0.0607618,-0.136521,-0.00120081,0.145945,0.0944415,0.0785389,0.148775,0.104699,0.0702495,0.00265143,0.138785,0.0314112,-0.0529786,0.132483,0.161823,-0.0755846,0.0650317,0.154454,-0.0276486,-0.0848588] => (a) federal (of or relating to the central government of a federation; \"a federal district is one set aside as the seat of the national government\")\n",
       "  Float32[-0.0876312,0.0605075,-0.20659,0.0776812,-0.293988,0.184317,0.076811,-0.0802836,0.0424664,-0.142379,-0.0451512,0.106173,-0.114807,-0.0687256,0.161624,-0.173496,0.0114573,-0.069676,-0.0101294,0.0711261,3.56545e-5,0.0908949,0.125451,-0.0130931,0.0436694,0.310512,0.146121,0.167006,-0.168578,-0.456389,-0.024285,-0.0969542,-0.0724245,-0.0323541,-0.104114,0.315671,-0.068361,0.23782,0.0512732,-5.99077e-5,0.143346,0.0218587,-0.100598,-0.0841744,0.0678629,-0.0298632,0.0458978,-0.175192,-0.0632254,-0.0514168,-0.0355372,0.209162,0.119554,0.0953077,0.0176325,0.0326702,-0.0910914,-0.209678,0.061674,0.0216554,0.275991,0.0170965,-0.137724,-0.0801481,0.249668,0.114615,-0.210924,-0.0804518,-0.0438821,-0.0945165,0.101127,0.112056,0.0268538,-0.167675,0.0643509,0.184972,-0.024739,-0.0206199,-0.0565546,0.00968013,-0.0168491,-0.124489,0.00456938,0.0319322,0.26882,0.142622,0.0827227,0.0553193,-0.0202486,0.0165457,0.0890789,0.0431229,-0.162417,0.0290171,0.410207,0.0485144,0.0376339,0.0631912,0.00142872,-0.149509] => (n) Federal, federal official, Fed (any federal law-enforcement officer)\n",
       "  Float32[-0.0433679,-0.000294063,-0.0706899,0.107237,-0.203559,0.180915,-0.0731707,-0.0287503,0.0991832,-0.128686,-0.0626613,0.106444,-0.143744,0.0332582,0.110404,-0.171673,-0.0579408,0.00748294,0.0242715,0.0285224,0.0219468,0.0887329,0.171782,-0.0903409,0.153585,0.204208,0.065807,0.0901274,-0.107031,-0.314749,-0.0353614,-0.0986868,-0.00624676,-0.00319969,-0.0858101,0.242094,0.060806,0.076486,0.0285211,-0.0283369,0.037774,0.035536,-0.0604298,-0.0541113,0.0922763,-0.0470684,-0.11194,-0.184256,-0.0476935,-0.0489432,0.152858,0.120645,0.082098,0.0556363,0.0405415,0.0811993,-0.0542916,-0.178251,0.069425,0.0408296,0.242501,0.0925089,-0.0353483,-0.0894216,0.193926,0.148061,-0.082918,0.0128678,-0.0149444,-0.185417,0.199004,0.00406234,-0.064529,-0.0707324,0.00465741,0.166523,-0.0101501,-0.0125012,-0.0203768,0.0165903,0.000810885,-0.110779,-0.0320762,0.0788776,0.115648,0.0447025,0.140065,0.0596394,0.0515591,-0.00644829,0.116988,0.0274533,-0.0810967,0.114528,0.173544,-0.0146051,0.00173039,0.104873,-0.0305756,-0.080541] => (s) Federal, Union (being of or having to do with the northern United States and those loyal to the Union during the American Civil War; \"Union soldiers\"; \"Federal forces\"; \"a Federal infantryman\")\n",
       "  Float32[-0.0563884,0.0359116,-0.00889949,0.13927,-0.239202,0.205504,-0.09686,-0.080897,0.189368,-0.121953,-0.0660943,0.133821,-0.166647,-0.0316759,0.0695688,-0.185368,-0.0759394,-0.0015496,0.037193,0.0629204,0.0123086,0.0781357,0.165706,-0.0845508,0.14479,0.177721,0.0472734,0.103845,-0.087559,-0.350408,0.00244769,-0.0881082,-0.00491549,-0.067962,-0.0776588,0.223336,0.0348299,0.0448457,0.0406423,-0.0574596,0.0346512,0.0149629,-0.06832,-0.038967,0.0770557,-0.0561358,-0.183579,-0.184601,-0.0867965,-0.0823784,0.101954,0.0694687,0.0687963,0.114037,0.0499957,0.078915,-0.12455,-0.178177,0.123731,0.0253489,0.217296,0.0538792,-0.0164473,-0.0117568,0.202668,0.170194,-0.0903109,-0.0124959,-0.0308812,-0.166644,0.238202,0.0299428,-0.0869065,-0.0426374,0.0056606,0.171988,-0.0123164,-0.00775365,-0.00746232,-0.0200503,-0.0565273,-0.136877,-0.0163861,0.128324,0.119143,0.0425977,0.17949,0.0798756,0.0916638,0.00784394,0.111297,0.0237773,-0.0828927,0.121462,0.19593,-0.0617619,0.0450115,0.119675,-0.0601054,-0.0846811] => (a) federal (characterized by or constituting a form of government in which power is divided between one central and several regional authorities; \"a federal system like that of the United States\"; \"federal governments often evolved out of confederations\")"
      ]
     },
     "execution_count": 46,
     "metadata": {},
     "output_type": "execute_result"
    }
   ],
   "source": [
    "@time lexical_informed_embeddings(db,ee, \"federal\")"
   ]
  },
  {
   "cell_type": "code",
   "execution_count": null,
   "metadata": {
    "collapsed": true
   },
   "outputs": [],
   "source": []
  },
  {
   "cell_type": "code",
   "execution_count": 106,
   "metadata": {
    "collapsed": false
   },
   "outputs": [
    {
     "data": {
      "text/plain": [
       "1-element Array{AbstractString,1}:\n",
       " \"&\""
      ]
     },
     "execution_count": 106,
     "metadata": {},
     "output_type": "execute_result"
    }
   ],
   "source": [
    "l1 = db['a',\"six\"]\n",
    "l1."
   ]
  },
  {
   "cell_type": "code",
   "execution_count": null,
   "metadata": {
    "collapsed": true
   },
   "outputs": [],
   "source": [
    "\n",
    "\n",
    "function get_sense_key(synset, lemma):\n",
    "    index = 0\n",
    "    try: #try and do better\n",
    "        index = synset.lemma_names().index(lemma)\n",
    "    except ValueError:\n",
    "        pass #couldn't do better\n",
    "    return synset.lemmas()[index].key()\n",
    "\n",
    "def eval_wsd(wsd, text_id, tagged_phrases, indexed_instances):\n",
    "    lemmas_and_synsets = wsd(tagged_phrases)\n",
    "    for ii, id in indexed_instances.items():\n",
    "        #print(id)\n",
    "        lemma, synset = lemmas_and_synsets[ii]\n",
    "        comment = \"!! lemma=\"+''.join([i if ord(i) < 128 else ' ' for i in lemma])\n",
    "        if synset: #If it was even defined in wordnet\n",
    "            sensekey = get_sense_key(synset,lemma)\n",
    "            yield text_id, id, sensekey, comment\n",
    "        else:\n",
    "            yield text_id, id, comment\n",
    "        "
   ]
  },
  {
   "cell_type": "code",
   "execution_count": 148,
   "metadata": {
    "collapsed": false,
    "scrolled": true
   },
   "outputs": [
    {
     "name": "stdout",
     "output_type": "stream",
     "text": [
      "word\tdiscover\n",
      "pos\tv\n",
      "tagsense_count\t7\n",
      "synset_offsets\t[2134693,1623484,591374,713143,2265142,924278,2108435,644350]\n",
      "id\t3141\n",
      "pointer_syms\tAbstractString[\"@\",\"~\",\"*\",\">\",\"\\$\",\"+\"]\n",
      "----------\n"
     ]
    },
    {
     "name": "stderr",
     "output_type": "stream",
     "text": [
      "WARNING: Method definition print_structure(Any) in module Main at In[147]:3 overwritten at In[148]:3.\n"
     ]
    }
   ],
   "source": [
    "\n",
    "function print_structure(v)\n",
    "    for fn in fieldnames(v)\n",
    "        println(string(fn),\"\\t\", getfield(v,fn))\n",
    "    end   \n",
    "end\n",
    "\n",
    "l1 = db['v',\"discover\"]\n",
    "sss = synsets(db,l1)\n",
    "\n",
    "print_structure(l1)\n",
    "println(\"-\"^10)\n",
    "#d001 d001.s001.t006 six%5:00:00:cardinal:00 !! lemma=six"
   ]
  },
  {
   "cell_type": "code",
   "execution_count": 173,
   "metadata": {
    "collapsed": false
   },
   "outputs": [
    {
     "data": {
      "text/plain": [
       "1-element Array{BitArray{1},1}:\n",
       " Bool[true,true,true,true,true,true,true,true,true,false,false,true,true,true,true,true,true,true,true,true,true]"
      ]
     },
     "execution_count": 173,
     "metadata": {},
     "output_type": "execute_result"
    },
    {
     "name": "stderr",
     "output_type": "stream",
     "text": [
      "WARNING: Base.writemime is deprecated.\n",
      "  likely near /home/ubuntu/.julia/v0.5/IJulia/src/kernel.jl:31\n",
      "WARNING: Base.writemime is deprecated.\n",
      "  likely near /home/ubuntu/.julia/v0.5/IJulia/src/kernel.jl:31\n",
      "WARNING: Base.writemime is deprecated.\n",
      "  likely near /home/ubuntu/.julia/v0.5/IJulia/src/kernel.jl:31\n",
      "WARNING: Base.writemime is deprecated.\n",
      "  likely near /home/ubuntu/.julia/v0.5/IJulia/src/kernel.jl:31\n",
      "WARNING: Base.writemime is deprecated.\n",
      "  likely near /home/ubuntu/.julia/v0.5/IJulia/src/kernel.jl:31\n",
      "in display_dict at /home/ubuntu/.julia/v0.5/IJulia/src/execute_request.jl\n"
     ]
    }
   ],
   "source": [
    "[map(bin,\".22-calibre%3:01:00::\"|> collect).== map(bin,\".22-caliber%3:01:00::\"|> collect)]"
   ]
  },
  {
   "cell_type": "code",
   "execution_count": null,
   "metadata": {
    "collapsed": false
   },
   "outputs": [],
   "source": [
    "\n",
    "function load_sense_key_map(wn_basedir)\n",
    "    path=joinpath(wn_basedir, \"dict\",\"index.sense\")\n",
    "    sense_key_map = Dict{Tuple{Int64,String},String}()\n",
    "    for line in eachline(path)\n",
    "        full_sense_key, offset_str, sense_num_str, tagcount_str = split(line) \n",
    "        lemma_name = first(split(full_sense_key,'%'))\n",
    "        sense_offset = parse(Int64, offset_str)\n",
    "        index = (sense_offset,lemma_name)\n",
    "        @assert(!haskey(sense_key_map, index))\n",
    "        sense_key_map[index] = full_sense_key\n",
    "    end\n",
    "    sense_key_map\n",
    "end\n",
    "\n",
    "\n",
    "function sense_key(lem::Lemma, synset::Synset,sense_key_map)\n",
    "    sense_key_map[(s1.offset,lem.word)]\n",
    "end\n",
    "function sense_keys(lem::Lemma,sense_key_map)\n",
    "    [sense_key_map[(ss_offset,lem.word)] for ss_offset in lem.synset_offsets ]\n",
    "end"
   ]
  },
  {
   "cell_type": "code",
   "execution_count": 181,
   "metadata": {
    "collapsed": false
   },
   "outputs": [
    {
     "name": "stderr",
     "output_type": "stream",
     "text": [
      "WARNING: Method definition sense_key(WordNet.Lemma, WordNet.Synset, Any) in module Main at In[179]:2 overwritten at In[181]:2.\n"
     ]
    },
    {
     "data": {
      "text/plain": [
       "sense_keys (generic function with 1 method)"
      ]
     },
     "execution_count": 181,
     "metadata": {},
     "output_type": "execute_result"
    }
   ],
   "source": [
    "sense_key_map = load_sense_key_map(WN_PATH)"
   ]
  },
  {
   "cell_type": "code",
   "execution_count": 184,
   "metadata": {
    "collapsed": false
   },
   "outputs": [
    {
     "data": {
      "text/plain": [
       "1-element Array{String,1}:\n",
       " \"six%5:00:00:cardinal:00\""
      ]
     },
     "execution_count": 184,
     "metadata": {},
     "output_type": "execute_result"
    }
   ],
   "source": [
    "sense_key(l1,s1, sense_key_map)\n",
    "sense_keys(db['a',\"six\"],sense_key_map)"
   ]
  },
  {
   "cell_type": "code",
   "execution_count": 176,
   "metadata": {
    "collapsed": false
   },
   "outputs": [
    {
     "data": {
      "text/plain": [
       "\"discover%2:39:03::\""
      ]
     },
     "execution_count": 176,
     "metadata": {},
     "output_type": "execute_result"
    }
   ],
   "source": [
    "sense_key_map[2134693,\"discover\"]"
   ]
  },
  {
   "cell_type": "code",
   "execution_count": 149,
   "metadata": {
    "collapsed": false
   },
   "outputs": [
    {
     "name": "stdout",
     "output_type": "stream",
     "text": [
      "1\n",
      "offset\t2134693\n",
      "lex_filenum\t39\n",
      "word_counts\tDict{AbstractString,Int64}(Pair{AbstractString,Int64}(\"discover\",3),Pair{AbstractString,Int64}(\"find\",2),Pair{AbstractString,Int64}(\"observe\",2),Pair{AbstractString,Int64}(\"notice\",4),Pair{AbstractString,Int64}(\"detect\",0))\n",
      "synset_type\tv\n",
      "pos\tv\n",
      "pointers\tWordNet.Pointer[WordNet.Pointer(\"\\$\",0x0018c5bc,'v',\"00\",\"00\"),WordNet.Pointer(\"@\",0x0020b735,'v',\"00\",\"00\"),WordNet.Pointer(\"+\",0x0055f43b,'n',\"05\",\"01\"),WordNet.Pointer(\"+\",0x0097addf,'n',\"04\",\"02\"),WordNet.Pointer(\"+\",0x006c9310,'n',\"04\",\"01\"),WordNet.Pointer(\"+\",0x0057884e,'n',\"04\",\"01\"),WordNet.Pointer(\"+\",0x0000a24c,'n',\"04\",\"01\"),WordNet.Pointer(\"+\",0x0000a24c,'n',\"03\",\"02\"),WordNet.Pointer(\"+\",0x0097addf,'n',\"03\",\"01\"),WordNet.Pointer(\"+\",0x008b90ec,'n',\"03\",\"01\"),WordNet.Pointer(\"+\",0x00024479,'n',\"03\",\"02\"),WordNet.Pointer(\"+\",0x00146188,'a',\"02\",\"03\"),WordNet.Pointer(\"+\",0x001b98b0,'a',\"02\",\"01\"),WordNet.Pointer(\"+\",0x0090cc14,'n',\"02\",\"03\"),WordNet.Pointer(\"+\",0x0065df24,'n',\"02\",\"01\"),WordNet.Pointer(\"+\",0x0057ad18,'n',\"02\",\"01\"),WordNet.Pointer(\"+\",0x000f1754,'n',\"02\",\"01\"),WordNet.Pointer(\"+\",0x0055f43b,'n',\"02\",\"03\"),WordNet.Pointer(\"+\",0x000242df,'n',\"01\",\"01\"),WordNet.Pointer(\"+\",0x00300c0b,'n',\"01\",\"01\"),WordNet.Pointer(\"+\",0x00300ac7,'n',\"01\",\"01\"),WordNet.Pointer(\"+\",0x00099976,'n',\"01\",\"02\"),WordNet.Pointer(\"~\",0x000b092f,'v',\"00\",\"00\"),WordNet.Pointer(\"~\",0x00209589,'v',\"00\",\"00\"),WordNet.Pointer(\"~\",0x0020967e,'v',\"00\",\"00\"),WordNet.Pointer(\"~\",0x002098b8,'v',\"00\",\"00\"),WordNet.Pointer(\"~\",0x0020995a,'v',\"00\",\"00\")]\n",
      "gloss\tdiscover or determine the existence, presence, or fact of; \"She detected high levels of lead in her drinking water\"; \"We found traces of lead in the paint\"\n",
      "----------\n",
      "2\n",
      "offset\t1623484\n",
      "lex_filenum\t36\n",
      "word_counts\tDict{AbstractString,Int64}(Pair{AbstractString,Int64}(\"discover\",0),Pair{AbstractString,Int64}(\"find\",0))\n",
      "synset_type\tv\n",
      "pos\tv\n",
      "pointers\tWordNet.Pointer[WordNet.Pointer(\"\\$\",0x000ae1b7,'v',\"00\",\"00\"),WordNet.Pointer(\"@\",0x0018b3af,'v',\"00\",\"00\"),WordNet.Pointer(\"+\",0x0057884e,'n',\"02\",\"03\"),WordNet.Pointer(\"+\",0x0000a24c,'n',\"02\",\"02\"),WordNet.Pointer(\"+\",0x008b90ec,'n',\"02\",\"01\"),WordNet.Pointer(\"+\",0x00998930,'n',\"01\",\"02\"),WordNet.Pointer(\"+\",0x006c9310,'n',\"01\",\"01\"),WordNet.Pointer(\"+\",0x0057884e,'n',\"01\",\"01\"),WordNet.Pointer(\"+\",0x0000a24c,'n',\"01\",\"01\"),WordNet.Pointer(\"\\$\",0x000de0e4,'v',\"00\",\"00\"),WordNet.Pointer(\"\\$\",0x002092a5,'v',\"00\",\"00\")]\n",
      "gloss\tmake a discovery, make a new finding; \"Roentgen discovered X-rays\"; \"Physicists believe they found a new elementary particle\"\n",
      "----------\n",
      "3\n",
      "offset\t591374\n",
      "lex_filenum\t31\n",
      "word_counts\tDict{AbstractString,Int64}(Pair{AbstractString,Int64}(\"pick_up\",0),Pair{AbstractString,Int64}(\"discover\",1),Pair{AbstractString,Int64}(\"learn\",1),Pair{AbstractString,Int64}(\"get_a_line\",0),Pair{AbstractString,Int64}(\"find_out\",0),Pair{AbstractString,Int64}(\"get_word\",0),Pair{AbstractString,Int64}(\"hear\",0),Pair{AbstractString,Int64}(\"get_wind\",1),Pair{AbstractString,Int64}(\"see\",2))\n",
      "synset_type\tv\n",
      "pos\tv\n",
      "pointers\tWordNet.Pointer[WordNet.Pointer(\"+\",0x006c9310,'n',\"08\",\"01\"),WordNet.Pointer(\"+\",0x0057884e,'n',\"08\",\"01\"),WordNet.Pointer(\"+\",0x0000a24c,'n',\"08\",\"01\"),WordNet.Pointer(\"~\",0x000907ee,'v',\"00\",\"00\"),WordNet.Pointer(\"~\",0x000908a1,'v',\"00\",\"00\"),WordNet.Pointer(\"~\",0x0009097f,'v',\"00\",\"00\"),WordNet.Pointer(\"~\",0x000ae130,'v',\"00\",\"00\"),WordNet.Pointer(\"~\",0x000ae1b7,'v',\"00\",\"00\"),WordNet.Pointer(\"\\$\",0x00202f3a,'v',\"00\",\"00\")]\n",
      "gloss\tget to know or become aware of, usually accidentally; \"I learned that she has two grown-up children\"; \"I see that you have been promoted\"\n",
      "----------\n",
      "4\n",
      "offset\t713143\n",
      "lex_filenum\t31\n",
      "word_counts\tDict{AbstractString,Int64}(Pair{AbstractString,Int64}(\"discover\",0),Pair{AbstractString,Int64}(\"find\",9))\n",
      "synset_type\tv\n",
      "pos\tv\n",
      "pointers\tWordNet.Pointer[WordNet.Pointer(\"@\",0x0009060e,'v',\"00\",\"00\"),WordNet.Pointer(\"+\",0x0000a24c,'n',\"02\",\"02\"),WordNet.Pointer(\"^\",0x0009060e,'v',\"02\",\"06\"),WordNet.Pointer(\"+\",0x006c9310,'n',\"01\",\"01\"),WordNet.Pointer(\"+\",0x0057884e,'n',\"01\",\"01\"),WordNet.Pointer(\"+\",0x0000a24c,'n',\"01\",\"01\"),WordNet.Pointer(\"~\",0x000ae2f5,'v',\"00\",\"00\"),WordNet.Pointer(\"~\",0x000ae42b,'v',\"00\",\"00\"),WordNet.Pointer(\"\\$\",0x0018c5bc,'v',\"00\",\"00\")]\n",
      "gloss\tmake a discovery; \"She found that he had lied to her\"; \"The story is false, so far as I can discover\"\n",
      "----------\n",
      "5\n",
      "offset\t2265142\n",
      "lex_filenum\t40\n",
      "word_counts\tDict{AbstractString,Int64}(Pair{AbstractString,Int64}(\"happen_upon\",0),Pair{AbstractString,Int64}(\"discover\",0),Pair{AbstractString,Int64}(\"light_upon\",0),Pair{AbstractString,Int64}(\"attain\",13),Pair{AbstractString,Int64}(\"fall_upon\",13),Pair{AbstractString,Int64}(\"come_upon\",9),Pair{AbstractString,Int64}(\"strike\",0),Pair{AbstractString,Int64}(\"chance_upon\",0),Pair{AbstractString,Int64}(\"come_across\",2),Pair{AbstractString,Int64}(\"chance_on\",0))\n",
      "synset_type\tv\n",
      "pos\tv\n",
      "pointers\tWordNet.Pointer[WordNet.Pointer(\"@\",0x00228c14,'v',\"00\",\"00\"),WordNet.Pointer(\"+\",0x006c9310,'n',\"0a\",\"01\"),WordNet.Pointer(\"+\",0x0000a24c,'n',\"0a\",\"01\")]\n",
      "gloss\tfind unexpectedly; \"the archeologists chanced upon an old tomb\"; \"she struck a goldmine\"; \"The hikers finally struck the main path to the lake\"\n",
      "----------\n",
      "6\n",
      "offset\t924278\n",
      "lex_filenum\t32\n",
      "word_counts\tDict{AbstractString,Int64}(Pair{AbstractString,Int64}(\"discover\",4),Pair{AbstractString,Int64}(\"impart\",0),Pair{AbstractString,Int64}(\"reveal\",0),Pair{AbstractString,Int64}(\"let_on\",0),Pair{AbstractString,Int64}(\"divulge\",0),Pair{AbstractString,Int64}(\"give_away\",0),Pair{AbstractString,Int64}(\"expose\",1),Pair{AbstractString,Int64}(\"disclose\",0),Pair{AbstractString,Int64}(\"let_out\",0),Pair{AbstractString,Int64}(\"break\",0),Pair{AbstractString,Int64}(\"bring_out\",6),Pair{AbstractString,Int64}(\"unwrap\",0))\n",
      "synset_type\tv\n",
      "pos\tv\n",
      "pointers\tWordNet.Pointer[WordNet.Pointer(\">\",0x000e2319,'v',\"00\",\"00\"),WordNet.Pointer(\"\\$\",0x000e2319,'v',\"00\",\"00\"),WordNet.Pointer(\"@\",0x000e636b,'v',\"00\",\"00\"),WordNet.Pointer(\"+\",0x006c94de,'n',\"0b\",\"01\"),WordNet.Pointer(\"+\",0x005e296b,'n',\"09\",\"03\"),WordNet.Pointer(\"+\",0x005e296b,'n',\"09\",\"02\"),WordNet.Pointer(\"+\",0x006c926b,'n',\"08\",\"02\"),WordNet.Pointer(\"+\",0x006c926b,'n',\"08\",\"01\"),WordNet.Pointer(\"+\",0x006c96c1,'n',\"07\",\"01\"),WordNet.Pointer(\"+\",0x006c9780,'n',\"07\",\"01\"),WordNet.Pointer(\"+\",0x006c9310,'n',\"06\",\"01\"),WordNet.Pointer(\"+\",0x005787da,'n',\"05\",\"01\"),WordNet.Pointer(\"+\",0x006c8ef1,'n',\"05\",\"03\"),WordNet.Pointer(\"+\",0x006c8ef1,'n',\"02\",\"01\"),WordNet.Pointer(\"~\",0x000ccb05,'v',\"00\",\"00\"),WordNet.Pointer(\"~\",0x000e1e3e,'v',\"00\",\"00\"),WordNet.Pointer(\"~\",0x000e1f1b,'v',\"00\",\"00\"),WordNet.Pointer(\"~\",0x000e2046,'v',\"00\",\"00\"),WordNet.Pointer(\"~\",0x000e2106,'v',\"00\",\"00\"),WordNet.Pointer(\"~\",0x000e2279,'v',\"00\",\"00\"),WordNet.Pointer(\"~\",0x000e2470,'v',\"00\",\"00\"),WordNet.Pointer(\"~\",0x000e24f7,'v',\"00\",\"00\"),WordNet.Pointer(\"~\",0x000e2725,'v',\"00\",\"00\"),WordNet.Pointer(\"~\",0x000e27de,'v',\"00\",\"00\"),WordNet.Pointer(\"~\",0x00206adc,'v',\"00\",\"00\")]\n",
      "gloss\tmake known to the public information that was previously known only to a few people or that was meant to be kept a secret; \"The auction house would not disclose the price at which the van Gogh had sold\"; \"The actress won't reveal how old she is\"; \"bring out the truth\"; \"he broke the news to her\"; \"unwrap the evidence in the murder case\"\n",
      "----------\n",
      "7\n",
      "offset\t2108435\n",
      "lex_filenum\t39\n",
      "word_counts\tDict{AbstractString,Int64}(Pair{AbstractString,Int64}(\"discover\",0))\n",
      "synset_type\tv\n",
      "pos\tv\n",
      "pointers\tWordNet.Pointer[WordNet.Pointer(\"*\",0x001fd8de,'v',\"00\",\"00\"),WordNet.Pointer(\"+\",0x006c9310,'n',\"01\",\"01\"),WordNet.Pointer(\"+\",0x0057884e,'n',\"01\",\"01\"),WordNet.Pointer(\"+\",0x0000a24c,'n',\"01\",\"01\"),WordNet.Pointer(\"~\",0x002099f9,'v',\"00\",\"00\")]\n",
      "gloss\tsee for the first time; make a discovery; \"Who discovered the North Pole?\"\n",
      "----------\n",
      "8\n",
      "offset\t644350\n",
      "lex_filenum\t31\n",
      "word_counts\tDict{AbstractString,Int64}(Pair{AbstractString,Int64}(\"key\",0),Pair{AbstractString,Int64}(\"identify\",1),Pair{AbstractString,Int64}(\"discover\",3),Pair{AbstractString,Int64}(\"distinguish\",1),Pair{AbstractString,Int64}(\"name\",1),Pair{AbstractString,Int64}(\"describe\",0),Pair{AbstractString,Int64}(\"key_out\",0))\n",
      "synset_type\tv\n",
      "pos\tv\n",
      "pointers\tWordNet.Pointer[WordNet.Pointer(\"*\",0x0009ddc6,'v',\"00\",\"00\"),WordNet.Pointer(\"+\",0x005f59bc,'n',\"07\",\"01\"),WordNet.Pointer(\"+\",0x006cd1a5,'n',\"07\",\"01\"),WordNet.Pointer(\"+\",0x00142588,'a',\"01\",\"01\"),WordNet.Pointer(\"+\",0x00024631,'n',\"01\",\"02\"),WordNet.Pointer(\"+\",0x0056dd03,'n',\"01\",\"01\")]\n",
      "gloss\tidentify as in botany or biology, for example\n",
      "----------\n"
     ]
    }
   ],
   "source": [
    "for (ii,si) in enumerate(sss)\n",
    "    println(ii)\n",
    "    print_structure(si)\n",
    "    println(\"-\"^10)\n",
    "end\n",
    "\n"
   ]
  },
  {
   "cell_type": "code",
   "execution_count": 102,
   "metadata": {
    "collapsed": false
   },
   "outputs": [
    {
     "name": "stdout",
     "output_type": "stream",
     "text": [
      "search: getfield\n",
      "\n"
     ]
    },
    {
     "data": {
      "text/latex": [
       "\\begin{verbatim}\n",
       "getfield(value, name::Symbol)\n",
       "\\end{verbatim}\n",
       "Extract a named field from a \\texttt{value} of composite type. The syntax \\texttt{a.b} calls \\texttt{getfield(a, :b)}.\n"
      ],
      "text/markdown": [
       "```\n",
       "getfield(value, name::Symbol)\n",
       "```\n",
       "\n",
       "Extract a named field from a `value` of composite type. The syntax `a.b` calls `getfield(a, :b)`.\n"
      ],
      "text/plain": [
       "```\n",
       "getfield(value, name::Symbol)\n",
       "```\n",
       "\n",
       "Extract a named field from a `value` of composite type. The syntax `a.b` calls `getfield(a, :b)`.\n"
      ]
     },
     "execution_count": 102,
     "metadata": {},
     "output_type": "execute_result"
    }
   ],
   "source": [
    "#See http://webcache.googleusercontent.com/search?q=cache:b5Ixl2Ds2zcJ:icl.pku.edu.cn/member/yujs/papers/pdf/corpus-format.pdf+&cd=12&hl=en&ct=clnk&gl=au&client=firefox-b-ab\n",
    "#See http://moin.delph-in.net/SemCor\n",
    "function sense_id_format(db::DB, lem::Lemma)\n",
    "    #lemma%ss_type:lex_filenum:lex_id)\n",
    "    ss = Synset(db, lem)\n",
    "    ss_type =  find(['n','v','a','r','s'], ss.pos) |> string\n",
    "    lex_filenum = lpad(lem.lex_filenum,2,'0')"
   ]
  },
  {
   "cell_type": "code",
   "execution_count": null,
   "metadata": {
    "collapsed": false
   },
   "outputs": [],
   "source": [
    "using LightXML"
   ]
  },
  {
   "cell_type": "code",
   "execution_count": null,
   "metadata": {
    "collapsed": false,
    "scrolled": false
   },
   "outputs": [],
   "source": [
    "immutable wsd_challenge\n",
    "    id\n",
    "    word\n",
    "    lemma\n",
    "    pos\n",
    "    context\n",
    "end\n",
    "\n",
    "function load_challenges(xml_file=\"data/corpora/wsd/semeval2007_t7/test/eng-coarse-all-words.xml\")\n",
    "    xdoc = parse_file(xml_file)\n",
    "    xroot = root(xdoc)\n",
    "    Task() do\n",
    "        for text_node in child_elements(xroot)\n",
    "            #@show text_node\n",
    "            #text = child_nodes(text_node) |> collect\n",
    "            #println(text)\n",
    "            for sentence_node in child_elements(text_node)\n",
    "                sentence = punctuation_space_tokenize(content(sentence_node))\n",
    "\n",
    "                for lemma_node in child_elements(sentence_node)\n",
    "                    word = content(lemma_node) |> lowercase\n",
    "                    lemma = attribute(lemma_node,\"lemma\")|> lowercase\n",
    "                    pos = attribute(lemma_node,\"pos\")\n",
    "                    id = attribute(lemma_node,\"id\")\n",
    "                    context = filter(w->w!=word, sentence)\n",
    "                    produce(wsd_challenge(id, word, lemma, pos, context))\n",
    "                end\n",
    "            end\n",
    "        end\n",
    "    end\n",
    "end\n",
    "challenges = load_challenges() |> collect"
   ]
  },
  {
   "cell_type": "code",
   "execution_count": null,
   "metadata": {
    "collapsed": true
   },
   "outputs": [],
   "source": []
  }
 ],
 "metadata": {
  "kernelspec": {
   "display_name": "Julia 0.5.0-dev",
   "language": "julia",
   "name": "julia-0.5"
  },
  "language_info": {
   "file_extension": ".jl",
   "mimetype": "application/julia",
   "name": "julia",
   "version": "0.5.0"
  }
 },
 "nbformat": 4,
 "nbformat_minor": 0
}
