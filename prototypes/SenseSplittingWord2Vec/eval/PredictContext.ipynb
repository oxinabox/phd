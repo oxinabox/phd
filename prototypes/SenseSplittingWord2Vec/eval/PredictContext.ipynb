{
 "cells": [
  {
   "cell_type": "code",
   "execution_count": 1,
   "metadata": {
    "collapsed": false
   },
   "outputs": [
    {
     "name": "stderr",
     "output_type": "stream",
     "text": [
      "WARNING: Base.SingleAsyncWork is deprecated, use Base.AsyncCondition instead.\n",
      "  likely near /home/ubuntu/.julia/v0.5/IJulia/src/kernel.jl:6\n",
      "in gc_protect_handle at \n",
      "WARNING: Base.SingleAsyncWork is deprecated, use Base.AsyncCondition instead.\n",
      "  likely near /home/ubuntu/.julia/v0.5/IJulia/src/kernel.jl:6\n",
      "WARNING: Base.SingleAsyncWork is deprecated, use Base.AsyncCondition instead.\n",
      "  likely near /home/ubuntu/.julia/v0.5/IJulia/src/kernel.jl:6\n",
      "in gc_protect_handle at /home/ubuntu/.julia/v0.5/ZMQ/src/ZMQ.jl\n",
      "WARNING: Base.SingleAsyncWork is deprecated, use Base.AsyncCondition instead.\n",
      "  likely near /home/ubuntu/.julia/v0.5/IJulia/src/kernel.jl:6\n",
      "in gc_protect_handle at /home/ubuntu/.julia/v0.5/ZMQ/src/ZMQ.jl\n",
      "WARNING: Base.SingleAsyncWork is deprecated, use Base.AsyncCondition instead.\n",
      "  likely near /home/ubuntu/.julia/v0.5/IJulia/src/kernel.jl:6\n",
      "in gc_protect_handle at /home/ubuntu/.julia/v0.5/ZMQ/src/ZMQ.jl\n",
      "WARNING: Method definition error(AbstractString) in module Base at error.jl:21 overwritten in module Lumberjack at /home/ubuntu/.julia/v0.5/Lumberjack/src/lumbermill.jl:138.\n",
      "WARNING: Method definition error(Any...) in module Base at error.jl:22 overwritten in module Lumberjack at /home/ubuntu/.julia/v0.5/Lumberjack/src/lumbermill.jl:114.\n",
      "WARNING: Method definition warn(Exception) in module Base at util.jl:373 overwritten in module Lumberjack at /home/ubuntu/.julia/v0.5/Lumberjack/src/lumbermill.jl:99.\n",
      "WARNING: Method definition #warn(Array, Base.#warn, Exception) in module Base overwritten in module Lumberjack.\n",
      "\n",
      "WARNING: deprecated syntax \"call(::Type{NullableArray{T,N}}, ...)\".\n",
      "Use \"(::Type{NullableArray{T,N}})(...)\" instead.\n",
      "\n",
      "WARNING: deprecated syntax \"call(::Base.MinFun, ...)\".\n",
      "Use \"(::Base.MinFun)(...)\" instead.\n",
      "\n",
      "WARNING: deprecated syntax \"call(::Base.MaxFun, ...)\".\n",
      "Use \"(::Base.MaxFun)(...)\" instead.\n",
      "WARNING: Method definition anynull(AbstractArray) in module NullableArrays at /home/ubuntu/.julia/v0.5/NullableArrays/src/primitives.jl:175 overwritten in module PooledElements at /home/ubuntu/.julia/v0.5/PooledElements/src/pooledstringarray.jl:243.\n"
     ]
    },
    {
     "data": {
      "text/plain": [
       "@pz (macro with 1 method)"
      ]
     },
     "execution_count": 1,
     "metadata": {},
     "output_type": "execute_result"
    }
   ],
   "source": [
    "push!(LOAD_PATH,\"../src/\")\n",
    "using Word2Vec\n",
    "macro printval(ee)\n",
    "    ee_expr = @sprintf \"%s\" string(ee)\n",
    "    esc(:(println($ee_expr,\" = \", $ee)))\n",
    "end\n",
    "\n",
    "macro pz(ee)\n",
    "    ee_expr = @sprintf \"%s\" string(ee)\n",
    "    esc(:(println($ee_expr,\"\\t\\t\",typeof($ee), \"\\t\", size($ee))))\n",
    "end"
   ]
  },
  {
   "cell_type": "code",
   "execution_count": 2,
   "metadata": {
    "collapsed": false
   },
   "outputs": [
    {
     "data": {
      "text/plain": [
       "Word embedding(dimension = 30)of 71290 words, trained on 83594170 words\n"
      ]
     },
     "execution_count": 2,
     "metadata": {},
     "output_type": "execute_result"
    }
   ],
   "source": [
    "ee = restore(\"models/text8_v1.model\")"
   ]
  },
  {
   "cell_type": "code",
   "execution_count": 33,
   "metadata": {
    "collapsed": false
   },
   "outputs": [
    {
     "name": "stderr",
     "output_type": "stream",
     "text": [
      "WARNING: Method definition prob_of_context(Word2Vec.WordEmbedding, Array{#S<:AbstractString, 1}, Int64) in module Main at In[28]:2 overwritten at In[33]:2.\n",
      "WARNING: Method definition prob_of_context(Word2Vec.WordEmbedding, Array{#S<:AbstractString, 1}, #S<:AbstractString, Array{#S<:AbstractString, 1}) in module Main at In[28]:7 overwritten at In[33]:7.\n"
     ]
    },
    {
     "data": {
      "text/plain": [
       "prob_of_context (generic function with 2 methods)"
      ]
     },
     "execution_count": 33,
     "metadata": {},
     "output_type": "execute_result"
    }
   ],
   "source": [
    "function prob_of_context{S<:AbstractString}(embed::Word2Vec.WordEmbedding, context::Vector{S},middle::Int)\n",
    "    prob_of_context(embed, context[1:middle-1], context[middle], context[middle-1:end])\n",
    "end\n",
    "    \n",
    "function prob_of_context{S<:AbstractString}(embed::Word2Vec.WordEmbedding, lwords::Vector{S},middle_word::S, rwords::Vector{S})\n",
    "    \n",
    "    context_words = [lwords;rwords]\n",
    "\n",
    "    total_logprob=0.0 #Work in logprob to avoid underflow, and get more stability\n",
    "    for target_word in context_words\n",
    "        # discard words not presenting in the classification tree\n",
    "        (haskey(embed.codebook, target_word) && haskey(embed.codebook, middle_word)) || continue\n",
    "        node = embed.classification_tree      \n",
    "        input = embed.embedding[middle_word]\n",
    "        \n",
    "        word_logprob = 0.0\n",
    "        for code in embed.codebook[target_word]  \n",
    "            word_logprob+=log(Word2Vec.predict(node.data, input)[code])\n",
    "            node = node.children[code]\n",
    "        end\n",
    "        total_logprob+=word_logprob\n",
    "    end\n",
    "    exp(total_logprob) #Going back out of the log domain is not required for external logic, but it is nice for clarity\n",
    "    \n",
    "end"
   ]
  },
  {
   "cell_type": "code",
   "execution_count": 34,
   "metadata": {
    "collapsed": false
   },
   "outputs": [
    {
     "data": {
      "text/plain": [
       "7.512724083027164e-26"
      ]
     },
     "execution_count": 34,
     "metadata": {},
     "output_type": "execute_result"
    }
   ],
   "source": [
    "prob_of_context(ee,split(\"the british queen is the ruler of england scottland and wales\"), 6)"
   ]
  },
  {
   "cell_type": "code",
   "execution_count": 35,
   "metadata": {
    "collapsed": false
   },
   "outputs": [
    {
     "data": {
      "text/plain": [
       "2.3027070396138277e-26"
      ]
     },
     "execution_count": 35,
     "metadata": {},
     "output_type": "execute_result"
    }
   ],
   "source": [
    "prob_of_context(ee,split(\"the american queen is the ruler of england scottland and wales\"), 6)"
   ]
  },
  {
   "cell_type": "code",
   "execution_count": 36,
   "metadata": {
    "collapsed": false
   },
   "outputs": [
    {
     "name": "stdout",
     "output_type": "stream",
     "text": [
      "3.3352301203759964e-32\n",
      "2.761047836716399e-29\n",
      "6.917343841649315e-35\n",
      "7.747502127414158e-34\n",
      "1.7170909184966057e-32\n",
      "2.8220310125745205e-29\n",
      "1.7167975861431585e-32\n"
     ]
    }
   ],
   "source": [
    "for ii in 2:8\n",
    "    println(prob_of_context(ee,split(\"the american queen is not the ruler of england scottland and wales\"), ii))\n",
    "end"
   ]
  },
  {
   "cell_type": "code",
   "execution_count": 37,
   "metadata": {
    "collapsed": false
   },
   "outputs": [
    {
     "data": {
      "text/plain": [
       "1.2893581516517601e-23"
      ]
     },
     "execution_count": 37,
     "metadata": {},
     "output_type": "execute_result"
    }
   ],
   "source": [
    "prob_of_context(ee,split(\"hello no hello hello hello hello\"), 3)"
   ]
  },
  {
   "cell_type": "code",
   "execution_count": 23,
   "metadata": {
    "collapsed": false
   },
   "outputs": [
    {
     "data": {
      "text/plain": [
       "0.0"
      ]
     },
     "execution_count": 23,
     "metadata": {},
     "output_type": "execute_result"
    }
   ],
   "source": [
    "log(1)"
   ]
  },
  {
   "cell_type": "code",
   "execution_count": null,
   "metadata": {
    "collapsed": true
   },
   "outputs": [],
   "source": []
  }
 ],
 "metadata": {
  "kernelspec": {
   "display_name": "Julia 0.5.0-dev",
   "language": "julia",
   "name": "julia-0.5"
  },
  "language_info": {
   "file_extension": ".jl",
   "mimetype": "application/julia",
   "name": "julia",
   "version": "0.5.0"
  }
 },
 "nbformat": 4,
 "nbformat_minor": 0
}
