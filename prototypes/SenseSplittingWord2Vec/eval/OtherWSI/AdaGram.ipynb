{
 "cells": [
  {
   "cell_type": "code",
   "execution_count": 2,
   "metadata": {
    "collapsed": false
   },
   "outputs": [],
   "source": [
    "using AdaGram"
   ]
  },
  {
   "cell_type": "code",
   "execution_count": 4,
   "metadata": {
    "collapsed": false
   },
   "outputs": [],
   "source": [
    "vm, dict = load_model(\"../models/adagram/v1_d100.adagram_model\")"
   ]
  },
  {
   "cell_type": "code",
   "execution_count": null,
   "metadata": {
    "collapsed": false
   },
   "outputs": [],
   "source": [
    "word = \"apple\"\n",
    "prior_probs = expected_pi(vm, dict.word2id[word])\n",
    "for ii in 1:5\n",
    "    println(prior_probs[ii],\"\\t\",nearest_neighbors(vm, dict, word, ii, 10))\n",
    "    println()\n",
    "end"
   ]
  },
  {
   "cell_type": "code",
   "execution_count": 25,
   "metadata": {
    "collapsed": false
   },
   "outputs": [
    {
     "name": "stdout",
     "output_type": "stream",
     "text": [
      "disambiguate(vm,dict,\"apple\",split(\"new iphone was announced today\")) = [1.0,0.0,0.0,0.0,0.0]\n",
      "nearest_neighbors(vm,dict,\"apple\",ii,5) = Tuple{AbstractString,Int64,Float32}[(\"macintosh\",1,0.885584),(\"apple's\",1,0.854207),(\"iigs\",1,0.836565),(\"apple’s\",1,0.834452),(\"macintoshes\",1,0.832273)]\n",
      "nearest_neighbors(vm,dict,\"apple\",ii,5) = Tuple{AbstractString,Int64,Float32}[(\"the\",3,-Inf),(\"the\",3,-Inf),(\"the\",3,-Inf),(\"the\",3,-Inf),(\"the\",3,-Inf)]\n",
      "nearest_neighbors(vm,dict,\"apple\",ii,5) = Tuple{AbstractString,Int64,Float32}[(\"the\",3,-Inf),(\"the\",3,-Inf),(\"the\",3,-Inf),(\"the\",3,-Inf),(\"the\",3,-Inf)]\n",
      "nearest_neighbors(vm,dict,\"apple\",ii,5) = Tuple{AbstractString,Int64,Float32}[(\"the\",3,-Inf),(\"the\",3,-Inf),(\"the\",3,-Inf),(\"the\",3,-Inf),(\"the\",3,-Inf)]\n",
      "nearest_neighbors(vm,dict,\"apple\",ii,5) = Tuple{AbstractString,Int64,Float32}[(\"the\",3,-Inf),(\"the\",3,-Inf),(\"the\",3,-Inf),(\"the\",3,-Inf),(\"the\",3,-Inf)]\n"
     ]
    }
   ],
   "source": [
    "@show disambiguate(vm, dict, \"apple\", split(\"new iphone was announced today\"))\n",
    "for ii in 1:5\n",
    "    @show nearest_neighbors(vm, dict, \"apple\", ii, 5)\n",
    "end"
   ]
  },
  {
   "cell_type": "code",
   "execution_count": 24,
   "metadata": {
    "collapsed": false
   },
   "outputs": [],
   "source": [
    "immutable AdagramModel\n",
    "    vm::AdaGram.VectorModel\n",
    "    dict::AdaGram.Dictionary\n",
    "end\n",
    "AdaGram.disambiguate(am::AdagramModel, word, context) = disambiguate(am.vm, am.dict, word, context) \n"
   ]
  },
  {
   "cell_type": "code",
   "execution_count": 26,
   "metadata": {
    "collapsed": false
   },
   "outputs": [],
   "source": [
    "am=AdagramModel(vm,dict);"
   ]
  },
  {
   "cell_type": "code",
   "execution_count": 44,
   "metadata": {
    "collapsed": false
   },
   "outputs": [
    {
     "data": {
      "text/plain": [
       "\"/home/ubuntu/.julia/v0.5/AdaGram/lib/superlib.so\""
      ]
     },
     "execution_count": 44,
     "metadata": {},
     "output_type": "execute_result"
    }
   ],
   "source": [
    "Adagram_lib = joinpath(Pkg.dir(\"AdaGram\"), \"lib\", \"superlib.so\")"
   ]
  },
  {
   "cell_type": "code",
   "execution_count": null,
   "metadata": {
    "collapsed": true
   },
   "outputs": [],
   "source": [
    "function log_skip_gram{T1 <: Integer, T2 <: Integer}(vm::VectorModel, w::T1, \n",
    "    s::T2, context_word_id::T1)\n",
    "\tcode = view(vm.code, :, context_word_id)\n",
    "\tpath = view(vm.path, :, context_word_id)\n",
    "    wv = view(vm.In, :, s, w)\n",
    "\treturn ccall((:skip_gram, \"superlib\"), Float32,\n",
    "\t\t(Ptr{Float32}, Ptr{Float32},\n",
    "\t\t\tInt, \n",
    "\t\t\tPtr{Int32}, Ptr{Int8}, Int),\n",
    "\t\twv, vm.Out,\n",
    "\t\t\t, \n",
    "\t\t\tpath, code, size(vm.code, 1))\n",
    "end"
   ]
  },
  {
   "cell_type": "code",
   "execution_count": null,
   "metadata": {
    "collapsed": true
   },
   "outputs": [],
   "source": [
    "\"/home/ubuntu/.julia/v0.5/AdaGram/lib/superlib.so\""
   ]
  },
  {
   "cell_type": "code",
   "execution_count": 12,
   "metadata": {
    "collapsed": false
   },
   "outputs": [
    {
     "data": {
      "text/plain": [
       "WordNet.DB"
      ]
     },
     "execution_count": 12,
     "metadata": {},
     "output_type": "execute_result"
    }
   ],
   "source": [
    "using WordNet\n",
    "const WN_PATH=\"../data/corpora/WordNet-2.1/\"\n",
    "#WN_PATH3 = \"/usr/share/nltk_data/corpora/wordnet/\"\n",
    "db = DB(WN_PATH)"
   ]
  },
  {
   "cell_type": "code",
   "execution_count": 33,
   "metadata": {
    "collapsed": false
   },
   "outputs": [
    {
     "data": {
      "text/plain": [
       "5-element Array{Float64,1}:\n",
       " 1.0\n",
       " 0.0\n",
       " 0.0\n",
       " 0.0\n",
       " 0.0"
      ]
     },
     "execution_count": 33,
     "metadata": {},
     "output_type": "execute_result"
    }
   ],
   "source": [
    "d =  disambiguate(vm, dict, \"apple\", split(\"new iphone was announced today\"))"
   ]
  },
  {
   "cell_type": "code",
   "execution_count": 38,
   "metadata": {
    "collapsed": false,
    "scrolled": true
   },
   "outputs": [
    {
     "ename": "LoadError",
     "evalue": "LoadError: UndefVarError: GenWordEmbedding not defined\nwhile loading In[38], in expression starting on line 1",
     "output_type": "error",
     "traceback": [
      "LoadError: UndefVarError: GenWordEmbedding not defined\nwhile loading In[38], in expression starting on line 1",
      "",
      " in include_string(::String, ::String) at ./loading.jl:380",
      " in execute_request_0x535c5df2(::ZMQ.Socket, ::IJulia.Msg) at /home/ubuntu/.julia/v0.5/IJulia/src/execute_request.jl:183",
      " in eventloop(::ZMQ.Socket) at /home/ubuntu/.julia/v0.5/IJulia/src/IJulia.jl:143",
      " in (::IJulia.##26#32)() at ./task.jl:309"
     ]
    }
   ],
   "source": [
    "function logprob_of_context(am::AdagramModel, context, input::Vector{Float32}; skip_oov=false, normalise_over_length=false)\n",
    "    total_prob=zero(Float32)\n",
    "\tcontext_length = 0\n",
    "    for context_word in context\n",
    "        \n",
    "        skip_oov && !haskey(am.dict.word2id, context_word) && continue\n",
    "        context_length+=1\n",
    "        context_word_id = am.dict.word2id[target_word]\n",
    "        context_word_path = view(vm.path, :, context_word_id)\n",
    "        context_word_code = view(vm.code, :, context_word_id)\n",
    "        \n",
    "\n",
    "        total_prob+= ccall((:skip_gram, \"superlib\"), Float32,\n",
    "        ccall(Ptr{Float32}, Ptr{Float32},\n",
    "\t\t\tInt, \n",
    "\t\t\tPtr{Int32}, Ptr{Int8}, Int),\n",
    "        wv, am.vm.Out,\n",
    "\t\t\tsize(am.vm.In, 1), \n",
    "\t\t\tcontext_word_path, context_word_code, size(am.vm.code, 1))\n",
    "        total_prob+=word_prob\n",
    "    end\n",
    "    if normalise_over_length\n",
    "\t\ttotal_prob/=context_length #This is equivlent to taking the context_length-th root in nonlog domain. Which makes sense.\n",
    "\tend\n",
    "\ttotal_prob::N\n",
    "end"
   ]
  },
  {
   "cell_type": "code",
   "execution_count": 39,
   "metadata": {
    "collapsed": false
   },
   "outputs": [
    {
     "ename": "LoadError",
     "evalue": "LoadError: syntax: missing separator in array expression\nwhile loading In[39], in expression starting on line 6",
     "output_type": "error",
     "traceback": [
      "LoadError: syntax: missing separator in array expression\nwhile loading In[39], in expression starting on line 6",
      "",
      " in include_string(::String, ::String) at ./loading.jl:380",
      " in execute_request_0x535c5df2(::ZMQ.Socket, ::IJulia.Msg) at /home/ubuntu/.julia/v0.5/IJulia/src/execute_request.jl:183",
      " in eventloop(::ZMQ.Socket) at /home/ubuntu/.julia/v0.5/IJulia/src/IJulia.jl:143",
      " in (::IJulia.##26#32)() at ./task.jl:309"
     ]
    }
   ],
   "source": [
    "function synthesize_embedding(ee::AdagramModel,context, word_or_phrase)\n",
    "    words = split(word_or_phrase, \" \")\n",
    "    for word in words\n",
    "        word_id = ee.dict.word2id[word]\n",
    "        probs = disambiguate(ee, word,context)\n",
    "        vm.In[:, :, word)id]\n",
    "    end\n",
    "    \n",
    "    logprobs = [Query.logprob_of_context(ee, context, wv; skip_oov=true, normalise_over_length=true) for wv in wvs]\n",
    "    weighted_average(logprobs, wvs)\n",
    "end\n"
   ]
  },
  {
   "cell_type": "code",
   "execution_count": null,
   "metadata": {
    "collapsed": true
   },
   "outputs": [],
   "source": []
  }
 ],
 "metadata": {
  "kernelspec": {
   "display_name": "Julia 0.5.0-rc0",
   "language": "julia",
   "name": "julia-0.5"
  },
  "language_info": {
   "file_extension": ".jl",
   "mimetype": "application/julia",
   "name": "julia",
   "version": "0.5.0"
  }
 },
 "nbformat": 4,
 "nbformat_minor": 0
}
