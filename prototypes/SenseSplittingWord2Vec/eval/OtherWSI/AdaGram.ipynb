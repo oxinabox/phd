{
 "cells": [
  {
   "cell_type": "code",
   "execution_count": 2,
   "metadata": {
    "collapsed": false
   },
   "outputs": [],
   "source": [
    "using AdaGram"
   ]
  },
  {
   "cell_type": "code",
   "execution_count": 4,
   "metadata": {
    "collapsed": false
   },
   "outputs": [],
   "source": [
    "vm, dict = load_model(\"../models/adagram/v1_d100.adagram_model\")"
   ]
  },
  {
   "cell_type": "code",
   "execution_count": null,
   "metadata": {
    "collapsed": false
   },
   "outputs": [],
   "source": [
    "word = \"apple\"\n",
    "prior_probs = expected_pi(vm, dict.word2id[word])\n",
    "for ii in 1:5\n",
    "    println(prior_probs[ii],\"\\t\",nearest_neighbors(vm, dict, word, ii, 10))\n",
    "    println()\n",
    "end"
   ]
  },
  {
   "cell_type": "code",
   "execution_count": 165,
   "metadata": {
    "collapsed": false
   },
   "outputs": [
    {
     "name": "stdout",
     "output_type": "stream",
     "text": [
      "disambiguate(vm,dict,\"microsoft\",split(\"new iphone was announced today\")) = [0.215662,0.784338,0.0,0.0,0.0]\n",
      "nearest_neighbors(vm,dict,\"microsoft\",ii,5) = Tuple{AbstractString,Int64,Float32}[(\"windows\",1,0.956851),(\"server\",1,0.937702),(\"microsoft's\",1,0.934346),(\"api\",1,0.925348),(\"3.x\",1,0.921297)]\n",
      "nearest_neighbors(vm,dict,\"microsoft\",ii,5) = Tuple{AbstractString,Int64,Float32}[(\"intuit\",1,0.807631),(\"symantec\",1,0.80456),(\"inc.'s\",1,0.804366),(\"take-two\",1,0.802946),(\"developer\",1,0.801888)]\n",
      "nearest_neighbors(vm,dict,\"microsoft\",ii,5) = Tuple{AbstractString,Int64,Float32}[(\"the\",3,-Inf),(\"the\",3,-Inf),(\"the\",3,-Inf),(\"the\",3,-Inf),(\"the\",3,-Inf)]\n",
      "nearest_neighbors(vm,dict,\"microsoft\",ii,5) = Tuple{AbstractString,Int64,Float32}[(\"the\",3,-Inf),(\"the\",3,-Inf),(\"the\",3,-Inf),(\"the\",3,-Inf),(\"the\",3,-Inf)]\n",
      "nearest_neighbors(vm,dict,\"microsoft\",ii,5) = Tuple{AbstractString,Int64,Float32}[(\"the\",3,-Inf),(\"the\",3,-Inf),(\"the\",3,-Inf),(\"the\",3,-Inf),(\"the\",3,-Inf)]\n"
     ]
    }
   ],
   "source": [
    "@show disambiguate(vm, dict, \"microsoft\", split(\"new iphone was announced today\"))\n",
    "for ii in 1:5\n",
    "    @show nearest_neighbors(vm, dict, \"microsoft\", ii, 5)\n",
    "end"
   ]
  },
  {
   "cell_type": "code",
   "execution_count": 54,
   "metadata": {
    "collapsed": false
   },
   "outputs": [],
   "source": []
  },
  {
   "cell_type": "code",
   "execution_count": 56,
   "metadata": {
    "collapsed": false
   },
   "outputs": [],
   "source": [
    "am=AdaGramModel(vm,dict);"
   ]
  },
  {
   "cell_type": "code",
   "execution_count": 55,
   "metadata": {
    "collapsed": false
   },
   "outputs": [
    {
     "data": {
      "text/plain": [
       "\"/home/ubuntu/.julia/v0.5/AdaGram/lib/superlib.so\""
      ]
     },
     "execution_count": 55,
     "metadata": {},
     "output_type": "execute_result"
    }
   ],
   "source": [
    "const AdaGram_lib = joinpath(Pkg.dir(\"AdaGram\"), \"lib\", \"superlib.so\")"
   ]
  },
  {
   "cell_type": "code",
   "execution_count": 12,
   "metadata": {
    "collapsed": false
   },
   "outputs": [
    {
     "data": {
      "text/plain": [
       "WordNet.DB"
      ]
     },
     "execution_count": 12,
     "metadata": {},
     "output_type": "execute_result"
    }
   ],
   "source": [
    "using WordNet\n",
    "const WN_PATH=\"../data/corpora/WordNet-2.1/\"\n",
    "#WN_PATH3 = \"/usr/share/nltk_data/corpora/wordnet/\"\n",
    "db = DB(WN_PATH)"
   ]
  },
  {
   "cell_type": "code",
   "execution_count": 33,
   "metadata": {
    "collapsed": false
   },
   "outputs": [
    {
     "data": {
      "text/plain": [
       "5-element Array{Float64,1}:\n",
       " 1.0\n",
       " 0.0\n",
       " 0.0\n",
       " 0.0\n",
       " 0.0"
      ]
     },
     "execution_count": 33,
     "metadata": {},
     "output_type": "execute_result"
    }
   ],
   "source": [
    "d =  disambiguate(vm, dict, \"apple\", split(\"new iphone was announced today\"))"
   ]
  },
  {
   "cell_type": "code",
   "execution_count": 84,
   "metadata": {
    "collapsed": false,
    "scrolled": true
   },
   "outputs": [
    {
     "data": {
      "text/plain": [
       "logprob_of_context (generic function with 2 methods)"
      ]
     },
     "execution_count": 84,
     "metadata": {},
     "output_type": "execute_result"
    }
   ],
   "source": []
  },
  {
   "cell_type": "code",
   "execution_count": 85,
   "metadata": {
    "collapsed": false
   },
   "outputs": [
    {
     "data": {
      "text/plain": [
       "word_sense_vector (generic function with 1 method)"
      ]
     },
     "execution_count": 85,
     "metadata": {},
     "output_type": "execute_result"
    }
   ],
   "source": [
    "word_sense_vector(am::AdaGramModel, word, sense_id::Int) = am.vm.In[:, sense_id, am.dict.word2id[word]]\n"
   ]
  },
  {
   "cell_type": "code",
   "execution_count": 164,
   "metadata": {
    "collapsed": false
   },
   "outputs": [
    {
     "data": {
      "text/plain": [
       "1.1914398f-9"
      ]
     },
     "execution_count": 164,
     "metadata": {},
     "output_type": "execute_result"
    }
   ],
   "source": [
    "wv = word_sense_vector(am, \"microsoft\",1)# split(\"new iphone was announced today\")\n",
    "logprob_of_context(am, split(\"the apple phone\"), wv) |> exp"
   ]
  },
  {
   "cell_type": "code",
   "execution_count": 168,
   "metadata": {
    "collapsed": false
   },
   "outputs": [
    {
     "data": {
      "text/plain": [
       "100-element SubArray{Float32,1,SharedArray{Float32,3},Tuple{Colon,Int64,Int64},true}:\n",
       " -0.207432  \n",
       " -0.121956  \n",
       "  0.16084   \n",
       " -0.0328964 \n",
       " -0.193985  \n",
       "  0.146927  \n",
       "  0.0625644 \n",
       "  0.170534  \n",
       " -0.0408443 \n",
       " -0.111826  \n",
       " -0.0829269 \n",
       "  0.0681567 \n",
       "  0.0962247 \n",
       "  0.105331  \n",
       " -0.193182  \n",
       " -0.0555961 \n",
       "  0.0346637 \n",
       " -0.168534  \n",
       "  0.0600758 \n",
       "  0.149789  \n",
       "  0.101778  \n",
       " -0.12577   \n",
       " -0.0409033 \n",
       "  0.178243  \n",
       " -0.110606  \n",
       "  0.006995  \n",
       "  0.0147186 \n",
       "  0.0842306 \n",
       " -0.251876  \n",
       " -0.144005  \n",
       " -0.0363835 \n",
       " -0.17934   \n",
       "  0.215327  \n",
       " -0.120269  \n",
       " -0.132     \n",
       " -0.176656  \n",
       "  0.0147557 \n",
       "  0.0939429 \n",
       "  0.0197523 \n",
       "  0.100996  \n",
       " -0.0717549 \n",
       "  0.126645  \n",
       " -0.0479164 \n",
       "  0.0324572 \n",
       "  0.149879  \n",
       "  0.0402249 \n",
       "  0.12554   \n",
       "  0.0464853 \n",
       "  0.00439653\n",
       "  0.0227169 \n",
       "  0.0221681 \n",
       "  0.13328   \n",
       "  0.0159003 \n",
       "  0.0177058 \n",
       "  0.112883  \n",
       "  0.207283  \n",
       "  0.167644  \n",
       " -0.00832159\n",
       "  0.030251  \n",
       "  0.127306  \n",
       "  0.177026  \n",
       "  0.0549468 \n",
       "  0.195392  \n",
       "  0.0706034 \n",
       " -0.0328298 \n",
       "  0.150681  \n",
       "  0.231113  \n",
       "  0.0455921 \n",
       "  0.193353  \n",
       " -0.0594776 \n",
       "  0.0533954 \n",
       "  0.0803772 \n",
       " -0.0805855 \n",
       " -0.0154757 \n",
       "  0.0485604 \n",
       "  0.114411  \n",
       "  0.00290023\n",
       " -0.044066  \n",
       "  0.059293  \n",
       " -0.0149419 \n",
       " -0.0386745 \n",
       " -0.230873  \n",
       " -0.0508267 \n",
       "  0.0266995 \n",
       "  0.0633135 \n",
       "  0.240246  \n",
       " -0.0780237 \n",
       "  0.0332996 \n",
       " -0.00554153\n",
       " -0.0563946 \n",
       " -0.141856  \n",
       "  0.0299395 \n",
       " -0.102797  \n",
       " -0.0712513 \n",
       "  0.04294   \n",
       "  0.055012  \n",
       " -0.167961  \n",
       "  0.0215493 \n",
       "  0.0699075 \n",
       "  0.0256035 "
      ]
     },
     "execution_count": 168,
     "metadata": {},
     "output_type": "execute_result"
    }
   ],
   "source": [
    "view(view(am.vm.In, :,:,1), :,2)\n"
   ]
  },
  {
   "cell_type": "code",
   "execution_count": null,
   "metadata": {
    "collapsed": true
   },
   "outputs": [],
   "source": []
  }
 ],
 "metadata": {
  "kernelspec": {
   "display_name": "Julia 0.5.0-rc0",
   "language": "julia",
   "name": "julia-0.5"
  },
  "language_info": {
   "file_extension": ".jl",
   "mimetype": "application/julia",
   "name": "julia",
   "version": "0.5.0"
  }
 },
 "nbformat": 4,
 "nbformat_minor": 0
}
