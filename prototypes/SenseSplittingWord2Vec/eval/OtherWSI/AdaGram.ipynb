{
 "cells": [
  {
   "cell_type": "code",
   "execution_count": 1,
   "metadata": {
    "collapsed": false
   },
   "outputs": [
    {
     "name": "stderr",
     "output_type": "stream",
     "text": [
      "WARNING: Base.ASCIIString is deprecated, use String instead.\n",
      "  likely near /home/ubuntu/.julia/v0.5/AdaGram/src/AdaGram.jl:49\n",
      "WARNING: Base.ASCIIString is deprecated, use String instead.\n",
      "  likely near /home/ubuntu/.julia/v0.5/AdaGram/src/AdaGram.jl:49\n",
      "WARNING: Base.ASCIIString is deprecated, use String instead.\n",
      "  likely near /home/ubuntu/.julia/v0.5/AdaGram/src/AdaGram.jl:49\n",
      "WARNING: Base.ASCIIString is deprecated, use String instead.\n",
      "  likely near /home/ubuntu/.julia/v0.5/AdaGram/src/AdaGram.jl:49\n",
      "WARNING: Base.ASCIIString is deprecated, use String instead.\n",
      "  likely near /home/ubuntu/.julia/v0.5/AdaGram/src/AdaGram.jl:49\n",
      "WARNING: Base.ASCIIString is deprecated, use String instead.\n",
      "  likely near /home/ubuntu/.julia/v0.5/AdaGram/src/AdaGram.jl:49\n",
      "WARNING: Base.ASCIIString is deprecated, use String instead.\n",
      "  likely near /home/ubuntu/.julia/v0.5/AdaGram/src/AdaGram.jl:49\n",
      "WARNING: Base.ASCIIString is deprecated, use String instead.\n",
      "  likely near /home/ubuntu/.julia/v0.5/AdaGram/src/AdaGram.jl:49\n",
      "WARNING: Base.ASCIIString is deprecated, use String instead.\n",
      "  likely near /home/ubuntu/.julia/v0.5/AdaGram/src/AdaGram.jl:49\n",
      "WARNING: Base.ASCIIString is deprecated, use String instead.\n",
      "  likely near /home/ubuntu/.julia/v0.5/AdaGram/src/AdaGram.jl:49\n",
      "WARNING: Base.ASCIIString is deprecated, use String instead.\n",
      "  likely near /home/ubuntu/.julia/v0.5/AdaGram/src/AdaGram.jl:49\n",
      "WARNING: Base.ASCIIString is deprecated, use String instead.\n",
      "  likely near /home/ubuntu/.julia/v0.5/AdaGram/src/AdaGram.jl:49\n",
      "WARNING: Base.ASCIIString is deprecated, use String instead.\n",
      "  likely near /home/ubuntu/.julia/v0.5/AdaGram/src/AdaGram.jl:49\n",
      "WARNING: Base.ASCIIString is deprecated, use String instead.\n",
      "  likely near /home/ubuntu/.julia/v0.5/AdaGram/src/AdaGram.jl:49\n",
      "WARNING: Base.ASCIIString is deprecated, use String instead.\n",
      "  likely near /home/ubuntu/.julia/v0.5/AdaGram/src/AdaGram.jl:49\n",
      "WARNING: Base.ASCIIString is deprecated, use String instead.\n",
      "  likely near /home/ubuntu/.julia/v0.5/AdaGram/src/AdaGram.jl:49\n",
      "WARNING: Base.ASCIIString is deprecated, use String instead.\n",
      "  likely near /home/ubuntu/.julia/v0.5/AdaGram/src/AdaGram.jl:49\n",
      "WARNING: Base.ASCIIString is deprecated, use String instead.\n",
      "  likely near /home/ubuntu/.julia/v0.5/AdaGram/src/AdaGram.jl:49\n",
      "WARNING: Base.ASCIIString is deprecated, use String instead.\n",
      "  likely near /home/ubuntu/.julia/v0.5/AdaGram/src/AdaGram.jl:49\n",
      "WARNING: Base.ASCIIString is deprecated, use String instead.\n",
      "  likely near /home/ubuntu/.julia/v0.5/AdaGram/src/AdaGram.jl:49\n",
      "WARNING: Base.ASCIIString is deprecated, use String instead.\n",
      "  likely near /home/ubuntu/.julia/v0.5/AdaGram/src/AdaGram.jl:49\n",
      "WARNING: Base.ASCIIString is deprecated, use String instead.\n",
      "  likely near /home/ubuntu/.julia/v0.5/AdaGram/src/AdaGram.jl:49\n",
      "WARNING: Base.ASCIIString is deprecated, use String instead.\n",
      "  likely near /home/ubuntu/.julia/v0.5/AdaGram/src/AdaGram.jl:49\n",
      "WARNING: Base.ASCIIString is deprecated, use String instead.\n",
      "  likely near /home/ubuntu/.julia/v0.5/AdaGram/src/AdaGram.jl:49\n",
      "WARNING: Base.ASCIIString is deprecated, use String instead.\n",
      "  likely near /home/ubuntu/.julia/v0.5/AdaGram/src/AdaGram.jl:49\n",
      "WARNING: Base.ASCIIString is deprecated, use String instead.\n",
      "  likely near /home/ubuntu/.julia/v0.5/AdaGram/src/AdaGram.jl:49\n",
      "WARNING: Base.ASCIIString is deprecated, use String instead.\n",
      "  likely near /home/ubuntu/.julia/v0.5/AdaGram/src/AdaGram.jl:49\n",
      "WARNING: Base.ASCIIString is deprecated, use String instead.\n",
      "  likely near /home/ubuntu/.julia/v0.5/AdaGram/src/AdaGram.jl:49\n",
      "WARNING: Base.ASCIIString is deprecated, use String instead.\n",
      "  likely near /home/ubuntu/.julia/v0.5/AdaGram/src/AdaGram.jl:49\n",
      "WARNING: Base.ASCIIString is deprecated, use String instead.\n",
      "  likely near /home/ubuntu/.julia/v0.5/AdaGram/src/AdaGram.jl:49\n",
      "WARNING: Base.ASCIIString is deprecated, use String instead.\n",
      "  likely near /home/ubuntu/.julia/v0.5/AdaGram/src/AdaGram.jl:49\n",
      "WARNING: Base.ASCIIString is deprecated, use String instead.\n",
      "  likely near /home/ubuntu/.julia/v0.5/AdaGram/src/AdaGram.jl:49\n",
      "WARNING: Base.ASCIIString is deprecated, use String instead.\n",
      "  likely near /home/ubuntu/.julia/v0.5/AdaGram/src/AdaGram.jl:49\n"
     ]
    }
   ],
   "source": [
    "addprocs(10)\n",
    "using AdaGram"
   ]
  },
  {
   "cell_type": "code",
   "execution_count": 33,
   "metadata": {
    "collapsed": false
   },
   "outputs": [
    {
     "data": {
      "text/plain": [
       "r\"\""
      ]
     },
     "execution_count": 33,
     "metadata": {},
     "output_type": "execute_result"
    }
   ],
   "source": [
    "train_fn  =  \"../../eval/data/corpora/WikiCorp/tokenised_lowercase_WestburyLab.wikicorp.201004.txt\" #\"training text data\"\n",
    "output_fn = \"../../eval/models/adagram/v1_d100.adagram_model\"#\"file to save the model (in Julia format)\"\n",
    "dict_fn = \"../../eval/data/corpora/WikiCorp/tokenised_lowercase_WestburyLab.wikicorp.201004.1gram\" #\"dictionary file with word frequencies\"\n",
    "\n",
    "window = 4 #\"(max) window size\"\n",
    "min_freq  = 20 #\"min. frequency of the word\"\n",
    "remove_top_k = 0 #\"remove top K most frequent words\"\n",
    "dim  = 100 #\"dimensionality of representations\"\n",
    "prototypes = 5 #\"number of word prototypes\"\n",
    "alpha = 0.1 #\"prior probability of allocating a new prototype\"\n",
    "d  = 0.0 #\"parameter of Pitman-Yor process\"\n",
    "subsample = 1e-5 #\"subsampling treshold. useful value is 1e-5\"\n",
    "context_cut  = true #\"randomly reduce size of the context\"\n",
    "epochs = 1 #\"number of epochs to train\"\n",
    "initcount = 1. #\"initial weight (count) on first sense for each word\"\n",
    "stopwords =Set{AbstractString}() #\"list of stop words\"\n",
    "sense_treshold = 1e-10 #\"minimal probability of a meaning to contribute into gradients\"\n",
    "save_treshold = 1e-3 #\"minimal probability of a meaning to save after training\"\n",
    "regex = r\"\" #\"ignore words not matching provided regex\"\n"
   ]
  },
  {
   "cell_type": "code",
   "execution_count": 3,
   "metadata": {
    "collapsed": false
   },
   "outputs": [
    {
     "name": "stdout",
     "output_type": "stream",
     "text": [
      "Building dictionary... Done!\n"
     ]
    }
   ],
   "source": [
    "print(\"Building dictionary... \")\n",
    "vm, dict = read_from_file(dict_fn, dim, prototypes, min_freq,remove_top_k, stopwords; regex=regex)\n",
    "println(\"Done!\")\n"
   ]
  },
  {
   "cell_type": "code",
   "execution_count": 4,
   "metadata": {
    "collapsed": false
   },
   "outputs": [
    {
     "data": {
      "text/plain": [
       "0.0"
      ]
     },
     "execution_count": 4,
     "metadata": {},
     "output_type": "execute_result"
    }
   ],
   "source": [
    "vm.alpha = alpha\n",
    "vm.d = d"
   ]
  },
  {
   "cell_type": "code",
   "execution_count": null,
   "metadata": {
    "collapsed": false
   },
   "outputs": [
    {
     "name": "stderr",
     "output_type": "stream",
     "text": [
      "WARNING: remotecall(id::Integer,f::Function,args...) is deprecated, use remotecall(f,id::Integer,args...) instead.\n",
      " in depwarn(::String, ::Symbol) at ./deprecated.jl:64\n",
      " in remotecall(::Int64, ::Function, ::Int64, ::Vararg{Int64,N}) at ./deprecated.jl:50\n",
      " in #inplace_train_vectors!#18(::Int64, ::Float64, ::Void, ::Float64, ::Bool, ::Int64, ::Float64, ::Float64, ::AdaGram.#inplace_train_vectors!, ::AdaGram.VectorModel, ::AdaGram.Dictionary, ::String, ::Int64) at /home/ubuntu/.julia/v0.5/AdaGram/src/gradient.jl:154\n",
      " in (::AdaGram.#kw##inplace_train_vectors!)(::Array{Any,1}, ::AdaGram.#inplace_train_vectors!, ::AdaGram.VectorModel, ::AdaGram.Dictionary, ::String, ::Int64) at ./<missing>:0\n",
      " in include_string(::String, ::String) at ./loading.jl:380\n",
      " in execute_request_0x535c5df2(::ZMQ.Socket, ::IJulia.Msg) at /home/ubuntu/.julia/v0.5/IJulia/src/execute_request.jl:183\n",
      " in eventloop(::ZMQ.Socket) at /home/ubuntu/.julia/v0.5/IJulia/src/IJulia.jl:143\n",
      " in (::IJulia.##26#32)() at ./task.jl:309\n",
      "while loading In[5], in expression starting on line 1\n"
     ]
    },
    {
     "name": "stdout",
     "output_type": "stream",
     "text": [
      "\tFrom worker 2:\t64000 words read, 1296374/596129680\n",
      "\tFrom worker 2:\t0.02% -11.1842 0.0250 0.0250 2.14/3.00 3.13 kwords/sec\n",
      "\tFrom worker 2:\t0.02% -11.1178 0.0250 0.0250 2.00/3.00 3.84 kwords/sec\n",
      "\tFrom worker 2:\t0.02% -11.1022 0.0250 0.0250 1.91/3.00 3.90 kwords/sec\n",
      "\tFrom worker 2:\t0.02% -11.0636 0.0250 0.0250 1.84/3.00 3.92 kwords/sec\n",
      "\tFrom worker 3:\t64000 words read, 597414099/1192259360\n",
      "\tFrom worker 2:\t0.03% -11.0132 0.0250 0.0250 1.78/3.00 3.91 kwords/sec\n"
     ]
    }
   ],
   "source": [
    "inplace_train_vectors!(vm, dict, train_fn, window;\n",
    "                       threshold=subsample, context_cut=context_cut,\n",
    "                       epochs=epochs, init_count=initcount, sense_treshold=sense_treshold)\n",
    "\n"
   ]
  },
  {
   "cell_type": "code",
   "execution_count": 34,
   "metadata": {
    "collapsed": false
   },
   "outputs": [],
   "source": [
    "\n",
    "save_model(output_fn, vm, dict, save_treshold)"
   ]
  },
  {
   "cell_type": "code",
   "execution_count": 1,
   "metadata": {
    "collapsed": false
   },
   "outputs": [
    {
     "ename": "LoadError",
     "evalue": "LoadError: UndefVarError: expected_pi not defined\nwhile loading In[1], in expression starting on line 2",
     "output_type": "error",
     "traceback": [
      "LoadError: UndefVarError: expected_pi not defined\nwhile loading In[1], in expression starting on line 2",
      "",
      " in include_string(::String, ::String) at ./loading.jl:380",
      " in execute_request_0x535c5df2(::ZMQ.Socket, ::IJulia.Msg) at /home/ubuntu/.julia/v0.5/IJulia/src/execute_request.jl:183",
      " in eventloop(::ZMQ.Socket) at /home/ubuntu/.julia/v0.5/IJulia/src/IJulia.jl:143",
      " in (::IJulia.##26#32)() at ./task.jl:309"
     ]
    }
   ],
   "source": [
    "word = \"sweet\"\n",
    "prior_probs = expected_pi(vm, dict.word2id[word])\n",
    "for ii in 1:5\n",
    "    println(prior_probs[ii],\"\\t\",nearest_neighbors(vm, dict, word, ii, 10))\n",
    "    println()\n",
    "end"
   ]
  },
  {
   "cell_type": "code",
   "execution_count": 59,
   "metadata": {
    "collapsed": false
   },
   "outputs": [
    {
     "name": "stdout",
     "output_type": "stream",
     "text": [
      "search: names fieldnames dirname tempname fullname basename TypeName fieldname\n",
      "\n"
     ]
    },
    {
     "data": {
      "text/latex": [
       "\\begin{verbatim}\n",
       "names(x::Module[, all=false[, imported=false]])\n",
       "\\end{verbatim}\n",
       "Get an array of the names exported by a \\texttt{Module}, with optionally more \\texttt{Module} globals according to the additional parameters.\n"
      ],
      "text/markdown": [
       "```\n",
       "names(x::Module[, all=false[, imported=false]])\n",
       "```\n",
       "\n",
       "Get an array of the names exported by a `Module`, with optionally more `Module` globals according to the additional parameters.\n"
      ],
      "text/plain": [
       "```\n",
       "names(x::Module[, all=false[, imported=false]])\n",
       "```\n",
       "\n",
       "Get an array of the names exported by a `Module`, with optionally more `Module` globals according to the additional parameters.\n"
      ]
     },
     "execution_count": 59,
     "metadata": {},
     "output_type": "execute_result"
    }
   ],
   "source": [
    "?names"
   ]
  },
  {
   "cell_type": "code",
   "execution_count": 1,
   "metadata": {
    "collapsed": true
   },
   "outputs": [],
   "source": [
    "using Utils\n"
   ]
  },
  {
   "cell_type": "code",
   "execution_count": 2,
   "metadata": {
    "collapsed": false
   },
   "outputs": [
    {
     "name": "stdout",
     "output_type": "stream",
     "text": [
      "Expr\n",
      "  head: Symbol block\n",
      "  args: Array{Any}((34,))\n",
      "    1: Expr\n",
      "      head: Symbol line\n",
      "      args: Array{Any}((2,))\n",
      "        1: Int64 2\n",
      "        2: Symbol In[2]\n",
      "      typ: Any\n",
      "    2: Expr\n",
      "      head: Symbol =\n",
      "      args: Array{Any}((2,))\n",
      "        1: Symbol train_fn\n",
      "        2: String \"../../eval/data/corpora/WikiCorp/tokenised_lowercase_WestburyLab.wikicorp.201004.txt\"\n",
      "      typ: Any\n",
      "    3: Expr\n",
      "      head: Symbol line\n",
      "      args: Array{Any}((2,))\n",
      "        1: Int64 3\n",
      "        2: Symbol In[2]\n",
      "      typ: Any\n",
      "    4: Expr\n",
      "      head: Symbol =\n",
      "      args: Array{Any}((2,))\n",
      "        1: Symbol output_fn\n",
      "        2: String \"../../eval/models/adagram/v1_d100.adagram_model\"\n",
      "      typ: Any\n",
      "    5: Expr\n",
      "      head: Symbol line\n",
      "      args: Array{Any}((2,))\n",
      "        1: Int64 4\n",
      "        2: Symbol In[2]\n",
      "      typ: Any\n",
      "    ...\n",
      "    30: Expr\n",
      "      head: Symbol =\n",
      "      args: Array{Any}((2,))\n",
      "        1: Symbol stopwords\n",
      "        2: Expr\n",
      "          head: Symbol call\n",
      "          args: Array{Any}((1,))\n",
      "            1: Expr\n",
      "              head: Symbol curly\n",
      "              args: Array{Any}((2,))\n",
      "                1: Symbol Set\n",
      "                2: Symbol AbstractString\n",
      "              typ: Any\n",
      "          typ: Any\n",
      "      typ: Any\n",
      "    31: Expr\n",
      "      head: Symbol line\n",
      "      args: Array{Any}((2,))\n",
      "        1: Int64 18\n",
      "        2: Symbol In[2]\n",
      "      typ: Any\n",
      "    32: Expr\n",
      "      head: Symbol =\n",
      "      args: Array{Any}((2,))\n",
      "        1: Symbol sense_treshold\n",
      "        2: Float64 1.0e-10\n",
      "      typ: Any\n",
      "    33: Expr\n",
      "      head: Symbol line\n",
      "      args: Array{Any}((2,))\n",
      "        1: Int64 19\n",
      "        2: Symbol In[2]\n",
      "      typ: Any\n",
      "    34: Expr\n",
      "      head: Symbol =\n",
      "      args: Array{Any}((2,))\n",
      "        1: Symbol save_treshold\n",
      "        2: Float64 0.001\n",
      "      typ: Any\n",
      "  typ: Any\n"
     ]
    }
   ],
   "source": [
    "blk = quote\n",
    "    train_fn  =  \"../../eval/data/corpora/WikiCorp/tokenised_lowercase_WestburyLab.wikicorp.201004.txt\" #\"training text data\"\n",
    "output_fn = \"../../eval/models/adagram/v1_d100.adagram_model\"#\"file to save the model (in Julia format)\"\n",
    "dict_fn = \"../../eval/data/corpora/WikiCorp/tokenised_lowercase_WestburyLab.wikicorp.201004.1gram\" #\"dictionary file with word frequencies\"\n",
    "\n",
    "window = 4 #\"(max) window size\"\n",
    "min_freq  = 20 #\"min. frequency of the word\"\n",
    "remove_top_k = 0 #\"remove top K most frequent words\"\n",
    "dim  = 100 #\"dimensionality of representations\"\n",
    "prototypes = 5 #\"number of word prototypes\"\n",
    "alpha = 0.1 #\"prior probability of allocating a new prototype\"\n",
    "d  = 0.0 #\"parameter of Pitman-Yor process\"\n",
    "subsample = 1e-5 #\"subsampling treshold. useful value is 1e-5\"\n",
    "context_cut  = true #\"randomly reduce size of the context\"\n",
    "epochs = 1 #\"number of epochs to train\"\n",
    "initcount = 1. #\"initial weight (count) on first sense for each word\"\n",
    "stopwords =Set{AbstractString}() #\"list of stop words\"\n",
    "sense_treshold = 1e-10 #\"minimal probability of a meaning to contribute into gradients\"\n",
    "save_treshold = 1e-3 #\"minimal probability of a meaning to save after training\"\n",
    "#regex = r\"\" #\"ignore words not matching provided regex\"\n",
    "    end |> dump"
   ]
  },
  {
   "cell_type": "code",
   "execution_count": 44,
   "metadata": {
    "collapsed": false
   },
   "outputs": [
    {
     "name": "stderr",
     "output_type": "stream",
     "text": [
      "WARNING: replacing module Utils\n"
     ]
    }
   ],
   "source": [
    "reload(\"Utils\")"
   ]
  },
  {
   "cell_type": "code",
   "execution_count": 47,
   "metadata": {
    "collapsed": false,
    "scrolled": true
   },
   "outputs": [
    {
     "name": "stdout",
     "output_type": "stream",
     "text": [
      "Paramaters -- saved to ../models/adagram/paper_v1btempexample.params.jld\n",
      "----------\n",
      "train_fn = ../data/corpora/WikiCorp/tokenised_lowercase_WestburyLab.wikicorp.201004.txt\n",
      "alpha = 0.15\n",
      "subsample = 1.0e-5\n",
      "sense_treshold = 1.0e-10\n",
      "initcount = 1.0\n",
      "nprocessors = 1\n",
      "epochs = 1\n",
      "window = 10\n",
      "output_fn = ../models/adagram/paper_v1btempexample.adagram_model\n",
      "min_freq = 20\n",
      "prototypes = 5\n",
      "context_cut = true\n",
      "stopwords = Set{AbstractString}()\n",
      "remove_top_k = 0\n",
      "save_treshold = 0.0\n",
      "dict_fn = ../data/corpora/WikiCorp/tokenised_lowercase_WestburyLab.wikicorp.201004.1gram\n",
      "dim = 300\n",
      "d = 0.0\n",
      "----------\n"
     ]
    }
   ],
   "source": [
    "base_name = \"paper_v1btempexample\"\n",
    "param_save_fn =  \"../models/adagram/$(base_name).params.jld\"\n",
    "output_fn = \"../models/adagram/$(base_name).adagram_model\"#\"file to save the model (in Julia format)\"\n",
    "@assert !isfile(output_fn)\n",
    "@param_save param_save_fn begin\n",
    "        nprocessors = nprocs()\n",
    "        train_fn  =  \"../data/corpora/WikiCorp/tokenised_lowercase_WestburyLab.wikicorp.201004.txt\" #\"training text data\"\n",
    "        output_fn = output_fn #file to save the model (in Julia format)\"\n",
    "        dict_fn = \"../data/corpora/WikiCorp/tokenised_lowercase_WestburyLab.wikicorp.201004.1gram\" #\"dictionary file with word frequencies\"\n",
    "\n",
    "        window = 10 #\"(max) window size\" C in the paper\n",
    "        min_freq  = 20 #\"min. frequency of the word\"\n",
    "        remove_top_k = 0 #\"remove top K most frequent words\"\n",
    "        dim  = 300 #\"dimensionality of representations\"\n",
    "        prototypes = 5 #\"number of word prototypes\" T in the paper\n",
    "        alpha = 0.15 #\"prior probability of allocating a new prototype\"\n",
    "        d  = 0.0 #\"parameter of Pitman-Yor process\" D in paper\n",
    "        subsample = 1e-5 #\"subsampling treshold. useful value is 1e-5\"\n",
    "        context_cut  = true #\"randomly reduce size of the context\"\n",
    "        epochs = 1 #\"number of epochs to train\"\n",
    "        initcount = 1. #\"initial weight (count) on first sense for each word\"\n",
    "        stopwords = Set{AbstractString}() #\"list of stop words\"\n",
    "        sense_treshold = 1e-10 #\"minimal probability of a meaning to contribute into gradients\"\n",
    "        save_treshold = 0.0 #\"minimal probability of a meaning to save after training\"\n",
    "end\n"
   ]
  },
  {
   "cell_type": "code",
   "execution_count": 166,
   "metadata": {
    "collapsed": false
   },
   "outputs": [
    {
     "data": {
      "text/plain": [
       "Dict{String,Any} with 1 entry:\n",
       "  \"save_treshold\" => 6"
      ]
     },
     "execution_count": 166,
     "metadata": {},
     "output_type": "execute_result"
    }
   ],
   "source": [
    "JLD.load(\"../../eval/models/adagram/v1_d100_2.params.jld\")"
   ]
  },
  {
   "cell_type": "code",
   "execution_count": 51,
   "metadata": {
    "collapsed": false
   },
   "outputs": [
    {
     "name": "stdout",
     "output_type": "stream",
     "text": [
      "Using 11 processors\n"
     ]
    }
   ],
   "source": [
    " println(\"Using \", nprocs(), \" processors\")"
   ]
  },
  {
   "cell_type": "code",
   "execution_count": 13,
   "metadata": {
    "collapsed": false
   },
   "outputs": [
    {
     "data": {
      "text/plain": [
       "2"
      ]
     },
     "execution_count": 13,
     "metadata": {},
     "output_type": "execute_result"
    }
   ],
   "source": [
    "begin \n",
    "     a=2\n",
    "end\n",
    "a"
   ]
  },
  {
   "cell_type": "code",
   "execution_count": 15,
   "metadata": {
    "collapsed": false
   },
   "outputs": [
    {
     "data": {
      "text/plain": [
       "37-element Array{Symbol,1}:\n",
       " Symbol(\"@param_save\")\n",
       " :Base                \n",
       " :Blosc               \n",
       " :Compat              \n",
       " :Core                \n",
       " :FileIO              \n",
       " :HDF5                \n",
       " :IJulia              \n",
       " :IPythonDisplay      \n",
       " :JLD                 \n",
       " :JSON                \n",
       " :LegacyStrings       \n",
       " :Main                \n",
       " :Nettle              \n",
       " :Utils               \n",
       " :ZMQ                 \n",
       " :a                   \n",
       " :add_to_path         \n",
       " :alpha               \n",
       " :blk                 \n",
       " :context_cut         \n",
       " :d                   \n",
       " :dict_fn             \n",
       " :dim                 \n",
       " :epochs              \n",
       " :initcount           \n",
       " :min_freq            \n",
       " :names_candidates    \n",
       " :output_fn           \n",
       " :prototypes          \n",
       " :remove_top_k        \n",
       " :save_treshold       \n",
       " :sense_treshold      \n",
       " :stopwords           \n",
       " :subsample           \n",
       " :train_fn            \n",
       " :wixndow             "
      ]
     },
     "execution_count": 15,
     "metadata": {},
     "output_type": "execute_result"
    }
   ],
   "source": [
    "names(current_module())"
   ]
  },
  {
   "cell_type": "code",
   "execution_count": 16,
   "metadata": {
    "collapsed": false
   },
   "outputs": [
    {
     "data": {
      "text/plain": [
       "Main"
      ]
     },
     "execution_count": 16,
     "metadata": {},
     "output_type": "execute_result"
    }
   ],
   "source": [
    "current_module()"
   ]
  },
  {
   "cell_type": "code",
   "execution_count": 21,
   "metadata": {
    "collapsed": false
   },
   "outputs": [
    {
     "ename": "LoadError",
     "evalue": "LoadError: UndefVarError: a not defined\nwhile loading In[21], in expression starting on line 1",
     "output_type": "error",
     "traceback": [
      "LoadError: UndefVarError: a not defined\nwhile loading In[21], in expression starting on line 1",
      "",
      " in eval(::Symbol) at ./sysimg.jl:10",
      " in include_string(::String, ::String) at ./loading.jl:380",
      " in execute_request_0x535c5df2(::ZMQ.Socket, ::IJulia.Msg) at /home/ubuntu/.julia/v0.5/IJulia/src/execute_request.jl:183",
      " in eventloop(::ZMQ.Socket) at /home/ubuntu/.julia/v0.5/IJulia/src/IJulia.jl:143",
      " in (::IJulia.##26#32)() at ./task.jl:309"
     ]
    }
   ],
   "source": [
    "Base.eval(:a)"
   ]
  },
  {
   "cell_type": "code",
   "execution_count": 24,
   "metadata": {
    "collapsed": false
   },
   "outputs": [
    {
     "data": {
      "text/plain": [
       "2"
      ]
     },
     "execution_count": 24,
     "metadata": {},
     "output_type": "execute_result"
    }
   ],
   "source": [
    "current_module().eval(:a)"
   ]
  },
  {
   "cell_type": "code",
   "execution_count": null,
   "metadata": {
    "collapsed": true
   },
   "outputs": [],
   "source": []
  }
 ],
 "metadata": {
  "kernelspec": {
   "display_name": "Julia 0.5.0-rc0",
   "language": "julia",
   "name": "julia-0.5"
  },
  "language_info": {
   "file_extension": ".jl",
   "mimetype": "application/julia",
   "name": "julia",
   "version": "0.5.0"
  }
 },
 "nbformat": 4,
 "nbformat_minor": 0
}
