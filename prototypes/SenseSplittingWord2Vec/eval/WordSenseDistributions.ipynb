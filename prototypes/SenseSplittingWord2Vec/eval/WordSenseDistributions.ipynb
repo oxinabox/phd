{
 "cells": [
  {
   "cell_type": "code",
   "execution_count": 1,
   "metadata": {
    "collapsed": true
   },
   "outputs": [],
   "source": [
    "using Optim"
   ]
  },
  {
   "cell_type": "code",
   "execution_count": 2,
   "metadata": {
    "collapsed": false
   },
   "outputs": [
    {
     "data": {
      "text/plain": [
       "harmonic (generic function with 1 method)"
      ]
     },
     "execution_count": 2,
     "metadata": {},
     "output_type": "execute_result"
    }
   ],
   "source": [
    "harmonic(n::Integer) = quadgk(x->((1-x^n)/(1-x)), zero(n), one(n)) |> first"
   ]
  },
  {
   "cell_type": "code",
   "execution_count": 3,
   "metadata": {
    "collapsed": false
   },
   "outputs": [
    {
     "data": {
      "text/plain": [
       "harmonic (generic function with 2 methods)"
      ]
     },
     "execution_count": 3,
     "metadata": {},
     "output_type": "execute_result"
    }
   ],
   "source": [
    "function harmonic(n::Integer, m)\n",
    "    if m==one(m)\n",
    "        harmonic(n)\n",
    "    else\n",
    "        ret = zero(float(m))\n",
    "        for k in 1:n #TODO: Good to do this in Parallel for n>10^6\n",
    "            ret += inv(k^m)\n",
    "        end\n",
    "        ret\n",
    "    end\n",
    "end"
   ]
  },
  {
   "cell_type": "code",
   "execution_count": 4,
   "metadata": {
    "collapsed": false
   },
   "outputs": [
    {
     "data": {
      "text/plain": [
       "1.3375300748835552"
      ]
     },
     "execution_count": 4,
     "metadata": {},
     "output_type": "execute_result"
    }
   ],
   "source": [
    "harmonic(30,2.5)"
   ]
  },
  {
   "cell_type": "code",
   "execution_count": 5,
   "metadata": {
    "collapsed": false
   },
   "outputs": [],
   "source": [
    "using Distributions\n",
    "import Distributions: DiscreteUnivariateDistribution, pdf, cdf, logpdf, logcdf, suffstats, fit_mle\n",
    "import Base: rand, minimum, maximum, mean\n",
    "import StatsBase.mode\n",
    "using StatsBase"
   ]
  },
  {
   "cell_type": "code",
   "execution_count": 6,
   "metadata": {
    "collapsed": false
   },
   "outputs": [
    {
     "data": {
      "text/plain": [
       "Zepf{N<:Integer,T1<:Real,T2<:Real}"
      ]
     },
     "execution_count": 6,
     "metadata": {},
     "output_type": "execute_result"
    }
   ],
   "source": [
    "immutable Zepf{N<:Integer, T1<:Real,T2<:Real} <: DiscreteUnivariateDistribution\n",
    "    h::T1\n",
    "    n::N\n",
    "    s::T2\n",
    "end\n",
    "\n",
    "function Zepf{N,T2}(n::N, s::T2)\n",
    "    n>zero(s) || error(\"d must be greater than 0 (d=$d)\")\n",
    "    s>one(s) || error(\"s must be greater than 1 (s=$s)\")\n",
    "    Zepf(harmonic(n,s),n, s)\n",
    "end"
   ]
  },
  {
   "cell_type": "code",
   "execution_count": 7,
   "metadata": {
    "collapsed": false
   },
   "outputs": [
    {
     "data": {
      "text/plain": [
       "mode (generic function with 55 methods)"
      ]
     },
     "execution_count": 7,
     "metadata": {},
     "output_type": "execute_result"
    }
   ],
   "source": [
    "function rand{N,T1}(d::Zepf{N,T1})\n",
    "    x=Base.rand()\n",
    "    r=one(N)\n",
    "    while(0<(x-=pdf(d,r)))\n",
    "        r+=one(r)\n",
    "    end\n",
    "    if r>d.n \n",
    "        #Handles floats not quiet lining up, allocate excess probility to first  and thus largest category\n",
    "        one(N)\n",
    "    else\n",
    "        r\n",
    "    end\n",
    "end\n",
    "\n",
    "pdf(d::Zepf, k::Int) = inv(d.h * k^d.s)\n",
    "logpdf(d::Zepf, k::Int) = -log(d.h) - d.s*log(k)\n",
    "cdf(d::Zepf, k::Int) = harmonic(k,d.s)/d.h\n",
    "logcdf(d::Zepf, k::Int) = log(harmonic(k,d.s)) - log(d.h)\n",
    "\n",
    "#quantile is annoying to implement; but there is probably a really smart way to do it, since we do know the distribution\n",
    "minimum{N}(::Zepf{N})=one(Int)#(N)\n",
    "maximum{N}(d::Zepf{N})=d.n |> Int\n",
    "\n",
    "mean{N,T1,T2}(d::Zepf{N,T1,T2})=harmonic(d.n,d.s-one(T2))/d.h\n",
    "mode{N}(d::Zepf{N}) = one(N)"
   ]
  },
  {
   "cell_type": "code",
   "execution_count": 8,
   "metadata": {
    "collapsed": false
   },
   "outputs": [
    {
     "data": {
      "text/plain": [
       "6.079525638595357693974084878656164556746957827721866348098622511730935776786549e-01"
      ]
     },
     "execution_count": 8,
     "metadata": {},
     "output_type": "execute_result"
    }
   ],
   "source": [
    "cdf(Zepf(big\"1000\",big\"1.999\"), 1)\n"
   ]
  },
  {
   "cell_type": "code",
   "execution_count": 9,
   "metadata": {
    "collapsed": false
   },
   "outputs": [
    {
     "data": {
      "text/plain": [
       "suffstats (generic function with 34 methods)"
      ]
     },
     "execution_count": 9,
     "metadata": {},
     "output_type": "execute_result"
    }
   ],
   "source": [
    "immutable ZepfStats{N<:Integer} <: SufficientStats\n",
    "    freqs::Vector{N} #Counts of how many times each element occurs, sorted by rank\n",
    "    n::N\n",
    "end\n",
    "\n",
    "ZepfStats{N}(freqs::Vector{N}) = ZepfStats(freqs, length(freqs))\n",
    "\n",
    "\n",
    "function suffstats{T<:Integer}(::Type{ZepfStats}, x::AbstractArray{T})\n",
    "    freqs = counts(x)\n",
    "    issorted(counts, rev=true) || warn(\"Catagory IDs are not proportional to frequency. To fit Zeph well, one expects the category freqency to be monotonically decreasing with catagory id.\")\n",
    "    ZepfStats(freqs)\n",
    "end"
   ]
  },
  {
   "cell_type": "code",
   "execution_count": 99,
   "metadata": {
    "collapsed": false
   },
   "outputs": [
    {
     "data": {
      "text/plain": [
       "fit_mle (generic function with 53 methods)"
      ]
     },
     "execution_count": 99,
     "metadata": {},
     "output_type": "execute_result"
    }
   ],
   "source": [
    "function fit_mle(ss::ZepfStats)\n",
    "    #Switch to http://stats.stackexchange.com/questions/6780/how-to-calculate-zipfs-law-coefficient-from-a-set-of-top-frequencies\n",
    "    function f(x)\n",
    "        s=x[1]\n",
    "        h=harmonic(ss.n, s)\n",
    "        comp(k)=ss.freqs[k] - (h*k)^-s\n",
    "        sumabs2(comp.(1:ss.n))\n",
    "    end\n",
    "    \n",
    "    \n",
    "    best_result=optimize(f, [1.0], BFGS())\n",
    "    for initial in (2.0).^(0:0.005:100)\n",
    "        result = optimize(f, [initial], BFGS(),\n",
    "        OptimizationOptions(g_tol=eps(0.0)))\n",
    "        s = result.minimum[1]\n",
    "        if s>1.0 && (s<best_result.minimum[1] || best_result.minimum[1]<1.0)\n",
    "            best_result=result\n",
    "        end\n",
    "    end\n",
    "    best_result\n",
    "end"
   ]
  },
  {
   "cell_type": "code",
   "execution_count": 102,
   "metadata": {
    "collapsed": false
   },
   "outputs": [
    {
     "data": {
      "text/plain": [
       "Results of Optimization Algorithm\n",
       " * Algorithm: BFGS\n",
       " * Starting Point: [32.334446287576434]\n",
       " * Minimizer: [32.33634888958691]\n",
       " * Minimum: 8.523400e+07\n",
       " * Iterations: 1\n",
       " * Convergence: true\n",
       "   * |x - x'| < 1.0e-32: false\n",
       "   * |f(x) - f(x')| / |f(x)| < 1.0e-32: false\n",
       "   * |g(x)| < 4.9e-324: true\n",
       "   * Reached Maximum Number of Iterations: false\n",
       " * Objective Function Calls: 6\n",
       " * Gradient Calls: 6"
      ]
     },
     "execution_count": 102,
     "metadata": {},
     "output_type": "execute_result"
    }
   ],
   "source": [
    "result=fit_mle( ZepfStats([8000,4000,2000,1000,500]))"
   ]
  },
  {
   "cell_type": "code",
   "execution_count": 100,
   "metadata": {
    "collapsed": false
   },
   "outputs": [
    {
     "data": {
      "text/plain": [
       "Results of Optimization Algorithm\n",
       " * Algorithm: BFGS\n",
       " * Starting Point: [14.928527864588919]\n",
       " * Minimizer: [30.325022783032964]\n",
       " * Minimum: 8.995802e+08\n",
       " * Iterations: 1\n",
       " * Convergence: true\n",
       "   * |x - x'| < 1.0e-32: false\n",
       "   * |f(x) - f(x')| / |f(x)| < 1.0e-32: false\n",
       "   * |g(x)| < 4.9e-324: true\n",
       "   * Reached Maximum Number of Iterations: false\n",
       " * Objective Function Calls: 4\n",
       " * Gradient Calls: 4"
      ]
     },
     "execution_count": 100,
     "metadata": {},
     "output_type": "execute_result"
    }
   ],
   "source": [
    "result=fit_mle( ZepfStats([26486, 12053, 5052, 3033, 2536, 2391, 1444, 1220, 1152, 1039]))"
   ]
  },
  {
   "cell_type": "code",
   "execution_count": 59,
   "metadata": {
    "collapsed": false
   },
   "outputs": [
    {
     "data": {
      "text/plain": [
       "1-element Array{Float64,1}:\n",
       " -1.20458"
      ]
     },
     "execution_count": 59,
     "metadata": {},
     "output_type": "execute_result"
    }
   ],
   "source": []
  },
  {
   "cell_type": "code",
   "execution_count": 12,
   "metadata": {
    "collapsed": false
   },
   "outputs": [
    {
     "data": {
      "text/plain": [
       "Results of Optimization Algorithm\n",
       " * Algorithm: BFGS\n",
       " * Starting Point: [1.0]\n",
       " * Minimizer: [0.4999999999973902]\n",
       " * Minimum: -2.250000e+00\n",
       " * Iterations: 1\n",
       " * Convergence: true\n",
       "   * |x - x'| < 1.0e-32: false\n",
       "   * |f(x) - f(x')| / |f(x)| < 1.0e-32: false\n",
       "   * |g(x)| < 1.0e-08: true\n",
       "   * Reached Maximum Number of Iterations: false\n",
       " * Objective Function Calls: 4\n",
       " * Gradient Calls: 4"
      ]
     },
     "execution_count": 12,
     "metadata": {},
     "output_type": "execute_result"
    }
   ],
   "source": [
    "using Optim\n",
    "foo(x) =  x[1]^2-x[1]-2\n",
    "result = optimize(foo, [1.0], BFGS())"
   ]
  },
  {
   "cell_type": "code",
   "execution_count": null,
   "metadata": {
    "collapsed": true
   },
   "outputs": [],
   "source": []
  }
 ],
 "metadata": {
  "kernelspec": {
   "display_name": "Julia 0.5.0-rc0",
   "language": "julia",
   "name": "julia-0.5"
  },
  "language_info": {
   "file_extension": ".jl",
   "mimetype": "application/julia",
   "name": "julia",
   "version": "0.5.0"
  }
 },
 "nbformat": 4,
 "nbformat_minor": 0
}
