{
 "cells": [
  {
   "cell_type": "code",
   "execution_count": 98,
   "metadata": {
    "collapsed": false
   },
   "outputs": [
    {
     "name": "stderr",
     "output_type": "stream",
     "text": [
      "WARNING: using SwiftObjectStores.stat in module Main conflicts with an existing identifier.\n",
      "WARNING: Method definition anynull(AbstractArray) in module NullableArrays at /home/ubuntu/.julia/v0.5/NullableArrays/src/primitives.jl:170 overwritten in module PooledElements at /home/ubuntu/.julia/v0.5/PooledElements/src/pooledstringarray.jl:243.\n",
      "WARNING: Method definition #warn(Array{Any, 1}, Base.#warn, Exception) in module Base overwritten in module Lumberjack.\n",
      "WARNING: Method definition error(AbstractString) in module Base at error.jl:21 overwritten in module Lumberjack at /home/ubuntu/.julia/v0.5/Lumberjack/src/lumbermill.jl:138.\n",
      "WARNING: Method definition error(Any...) in module Base at error.jl:22 overwritten in module Lumberjack at /home/ubuntu/.julia/v0.5/Lumberjack/src/lumbermill.jl:114.\n",
      "WARNING: Method definition warn(Exception) in module Base at util.jl:355 overwritten in module Lumberjack at /home/ubuntu/.julia/v0.5/Lumberjack/src/lumbermill.jl:99.\n",
      "WARNING: Base.ASCIIString is deprecated, use String instead.\n",
      "  likely near /mnt_volume/phd/prototypes/SenseSplittingWord2Vec/src/WordDistributions.jl:2\n",
      "WARNING: Base.ASCIIString is deprecated, use String instead.\n",
      "  likely near /mnt_volume/phd/prototypes/SenseSplittingWord2Vec/src/WordDistributions.jl:2\n",
      "WARNING: Base.ASCIIString is deprecated, use String instead.\n",
      "  likely near /mnt_volume/phd/prototypes/SenseSplittingWord2Vec/src/WordDistributions.jl:2\n",
      "\n",
      "WARNING: deprecated syntax \"[a=>b for (a,b) in c]\".\n",
      "Use \"Dict(a=>b for (a,b) in c)\" instead.\n"
     ]
    }
   ],
   "source": [
    "using SwiftObjectStores\n",
    "using WordEmbeddings, SoftmaxClassifier\n",
    "using SwiftObjectStores\n",
    "using ProgressMeter\n",
    "using Utils\n",
    "using Query\n",
    "using WordStreams\n",
    "using Distances\n",
    "using StatsBase\n",
    "using Training\n",
    "using AdaGramCompat\n",
    "using CorpusLoaders.Similarity\n",
    "using WordNet"
   ]
  },
  {
   "cell_type": "code",
   "execution_count": null,
   "metadata": {
    "collapsed": true
   },
   "outputs": [],
   "source": []
  },
  {
   "cell_type": "code",
   "execution_count": 99,
   "metadata": {
    "collapsed": false
   },
   "outputs": [
    {
     "name": "stderr",
     "output_type": "stream",
     "text": [
      "WARNING: redefining constant WN_PATH\n"
     ]
    },
    {
     "data": {
      "text/plain": [
       "WordNet.DB"
      ]
     },
     "execution_count": 99,
     "metadata": {},
     "output_type": "execute_result"
    }
   ],
   "source": [
    "const WN_PATH=\"data/corpora/WordNet-2.1/\"\n",
    "#WN_PATH3 = \"/usr/share/nltk_data/corpora/wordnet/\"\n",
    "db = DB(WN_PATH)"
   ]
  },
  {
   "cell_type": "code",
   "execution_count": 111,
   "metadata": {
    "collapsed": false,
    "scrolled": true
   },
   "outputs": [
    {
     "name": "stderr",
     "output_type": "stream",
     "text": [
      "/usr/local/lib/python2.7/dist-packages/requests/packages/urllib3/util/ssl_.py:122: InsecurePlatformWarning: A true SSLContext object is not available. This prevents urllib3 from configuring SSL appropriately and may cause certain SSL connections to fail. You can upgrade to a newer version of Python to solve this. For more information, see https://urllib3.readthedocs.io/en/latest/security.html#insecureplatformwarning.\n",
      "  InsecurePlatformWarning\n",
      "/usr/local/lib/python2.7/dist-packages/requests/packages/urllib3/util/ssl_.py:122: InsecurePlatformWarning: A true SSLContext object is not available. This prevents urllib3 from configuring SSL appropriately and may cause certain SSL connections to fail. You can upgrade to a newer version of Python to solve this. For more information, see https://urllib3.readthedocs.io/en/latest/security.html#insecureplatformwarning.\n",
      "  InsecurePlatformWarning\n"
     ]
    }
   ],
   "source": [
    "ee = get_jld(SwiftService(), \"sensemodels\", \"plain/tokenised_lowercase_WestburyLab.wikicorp.201004_100_nosubsample.semhuff.jld\", \"ee\");"
   ]
  },
  {
   "cell_type": "code",
   "execution_count": 130,
   "metadata": {
    "collapsed": false
   },
   "outputs": [
    {
     "ename": "LoadError",
     "evalue": "LoadError: DimensionMismatch(\"tried to assign 100-element array to 8×1 destination\")\nwhile loading In[130], in expression starting on line 1",
     "output_type": "error",
     "traceback": [
      "LoadError: DimensionMismatch(\"tried to assign 100-element array to 8×1 destination\")\nwhile loading In[130], in expression starting on line 1",
      "",
      " in throw_setindex_mismatch(::Array{Float32,1}, ::Tuple{Int64,Int64}) at ./operators.jl:406",
      " in setindex_shape_check(::Array{Float32,1}, ::Int64, ::Int64) at ./operators.jl:458",
      " in macro expansion at ./multidimensional.jl:418 [inlined]",
      " in _unsafe_batchsetindex!(::Array{Float32,2}, ::Array{Float32,1}, ::Colon, ::Int64) at ./multidimensional.jl:414",
      " in nn_tree(::Dict{String,Array{Float32,1}}, ::Query.AngularDist) at /mnt_volume/phd/prototypes/SenseSplittingWord2Vec/src/Query.jl:57",
      " in nn_tree(::WordEmbeddings.WordEmbedding) at /mnt_volume/phd/prototypes/SenseSplittingWord2Vec/src/Query.jl:44",
      " in include_string(::String, ::String) at ./loading.jl:380",
      " in execute_request_0x535c5df2(::ZMQ.Socket, ::IJulia.Msg) at /home/ubuntu/.julia/v0.5/IJulia/src/execute_request.jl:183",
      " in eventloop(::ZMQ.Socket) at /home/ubuntu/.julia/v0.5/IJulia/src/IJulia.jl:143",
      " in (::IJulia.##26#32)() at ./task.jl:309"
     ]
    }
   ],
   "source": [
    "dtree,labels = Query.nn_tree(ee)"
   ]
  },
  {
   "cell_type": "code",
   "execution_count": 131,
   "metadata": {
    "collapsed": false
   },
   "outputs": [
    {
     "data": {
      "text/plain": [
       "497485"
      ]
     },
     "execution_count": 131,
     "metadata": {},
     "output_type": "execute_result"
    }
   ],
   "source": [
    "length(ee.embedding)"
   ]
  },
  {
   "cell_type": "code",
   "execution_count": 89,
   "metadata": {
    "collapsed": false
   },
   "outputs": [
    {
     "name": "stderr",
     "output_type": "stream",
     "text": [
      "WARNING: Method definition related_words(AbstractString, Char, WordNet.DB) in module Main at In[85]:2 overwritten at In[89]:2.\n",
      "WARNING: Method definition related_words(AbstractString, Char, WordNet.DB, Any) in module Main at In[85]:2 overwritten at In[89]:2.\n",
      "WARNING: Method definition related_words(AbstractString, WordNet.DB) in module Main at In[85]:21 overwritten at In[89]:18.\n",
      "WARNING: Method definition related_words(AbstractString, WordNet.DB, Any) in module Main at In[85]:21 overwritten at In[89]:18.\n"
     ]
    },
    {
     "data": {
      "text/plain": [
       "related_words (generic function with 4 methods)"
      ]
     },
     "execution_count": 89,
     "metadata": {},
     "output_type": "execute_result"
    }
   ],
   "source": [
    "function related_words(lem::AbstractString, pos::Char, db::DB, max_hyponyms = 5) \n",
    "    haskey(db.lemmas[pos], lowercase(lem)) || return String[]\n",
    "\n",
    "    ss = synsets(db, db[lem,pos])\n",
    "    related_synsets = Set(ss)\n",
    "    for si in ss\n",
    "        union!(related_synsets, expanded_hypernyms(db, si))\n",
    "        union!(related_synsets, antonyms(db, si))\n",
    "\n",
    "        hypos = hyponyms(db, si)\n",
    "\n",
    "        union!(related_synsets, take(hypos, max_hyponyms))\n",
    "    end\n",
    "    map(words, related_synsets) |> Base.flatten |> unique\n",
    "end\n",
    "\n",
    "function related_words(word::AbstractString, db::DB, max_hyponyms = 5) \n",
    "    related_words_of_pos(pos) = related_words(word, pos, db, max_hyponyms) \n",
    "    \n",
    "    WordNet.SYNSET_TYPES |> keys |> pos->map(related_words_of_pos, pos) |> Base.flatten |> unique\n",
    "end\n",
    "\n"
   ]
  },
  {
   "cell_type": "code",
   "execution_count": 95,
   "metadata": {
    "collapsed": false,
    "scrolled": true
   },
   "outputs": [
    {
     "data": {
      "text/plain": [
       "128-element Array{Any,1}:\n",
       " \"fire\"          \n",
       " \"firing\"        \n",
       " \"criticism\"     \n",
       " \"process\"       \n",
       " \"affliction\"    \n",
       " \"occurrence\"    \n",
       " \"occurrent\"     \n",
       " \"happening\"     \n",
       " \"oxidation\"     \n",
       " \"oxidisation\"   \n",
       " \"oxidization\"   \n",
       " \"trouble\"       \n",
       " \"entity\"        \n",
       " \"state\"         \n",
       " \"shelling\"      \n",
       " \"battery\"       \n",
       " \"bombardment\"   \n",
       " \"barrage\"       \n",
       " \"substance\"     \n",
       " \"matter\"        \n",
       " \"flare\"         \n",
       " \"operation\"     \n",
       " \"passionateness\"\n",
       " \"passion\"       \n",
       " \"element\"       \n",
       " \"content\"       \n",
       " \"message\"       \n",
       " \"abstraction\"   \n",
       " \"bonfire\"       \n",
       " \"balefire\"      \n",
       " \"artefact\"      \n",
       " \"artifact\"      \n",
       " \"communication\" \n",
       " \"act\"           \n",
       " \"broadside\"     \n",
       " \"trial\"         \n",
       " \"visitation\"    \n",
       " \"tribulation\"   \n",
       " \"enclosure\"     \n",
       " \"burning\"       \n",
       " \"combustion\"    \n",
       " \"fusillade\"     \n",
       " \"salvo\"         \n",
       " \"burst\"         \n",
       " \"volley\"        \n",
       " \"backfire\"      \n",
       " \"activity\"      \n",
       " \"blaze\"         \n",
       " \"blazing\"       \n",
       " \"disapproval\"   \n",
       " \"event\"         \n",
       " \"cookfire\"      \n",
       " \"ignition\"      \n",
       " \"onrush\"        \n",
       " \"onslaught\"     \n",
       " \"attack\"        \n",
       " \"onset\"         \n",
       " \"action\"        \n",
       " \"object\"        \n",
       " \"conflagration\" \n",
       " \"inferno\"       \n",
       " \"hearth\"        \n",
       " \"fireplace\"     \n",
       " \"unit\"          \n",
       " \"whole\"         \n",
       " \"ardor\"         \n",
       " \"fervour\"       \n",
       " \"fervor\"        \n",
       " \"fervency\"      \n",
       " \"ardour\"        \n",
       " \"fervidness\"    \n",
       " \"niche\"         \n",
       " \"recess\"        \n",
       " \"feeling\"       \n",
       " \"reaction\"      \n",
       " \"attribute\"     \n",
       " \"zeal\"          \n",
       " \"campfire\"      \n",
       " \"flaming\"       \n",
       " \"flame\"         \n",
       " \"flack\"         \n",
       " \"blast\"         \n",
       " \"flak\"          \n",
       " \"dismiss\"       \n",
       " \"can\"           \n",
       " \"sack\"          \n",
       " \"terminate\"     \n",
       " \"draw\"          \n",
       " \"shoot\"         \n",
       " \"remove\"        \n",
       " \"discharge\"     \n",
       " \"bake\"          \n",
       " \"furlough\"      \n",
       " \"infatuate\"     \n",
       " \"elicit\"        \n",
       " \"provoke\"       \n",
       " \"raise\"         \n",
       " \"arouse\"        \n",
       " \"kindle\"        \n",
       " \"enkindle\"      \n",
       " \"evoke\"         \n",
       " \"rekindle\"      \n",
       " \"destroy\"       \n",
       " \"ruin\"          \n",
       " \"make\"          \n",
       " \"create\"        \n",
       " \"pop\"           \n",
       " \"engage\"        \n",
       " \"employ\"        \n",
       " \"hire\"          \n",
       " \"change\"        \n",
       " \"invite\"        \n",
       " \"give\"          \n",
       " \"retire\"        \n",
       " \"cremate\"       \n",
       " \"dispel\"        \n",
       " \"supply\"        \n",
       " \"render\"        \n",
       " \"provide\"       \n",
       " \"furnish\"       \n",
       " \"scorch\"        \n",
       " \"displace\"      \n",
       " \"move\"          \n",
       " \"torch\"         \n",
       " \"fuel\"          \n",
       " \"transfer\"      \n",
       " \"burn\"          \n",
       " \"cook\"          "
      ]
     },
     "execution_count": 95,
     "metadata": {},
     "output_type": "execute_result"
    }
   ],
   "source": []
  },
  {
   "cell_type": "code",
   "execution_count": 114,
   "metadata": {
    "collapsed": false
   },
   "outputs": [
    {
     "data": {
      "text/plain": [
       "WordEmbeddings.WordEmbedding"
      ]
     },
     "execution_count": 114,
     "metadata": {},
     "output_type": "execute_result"
    }
   ],
   "source": [
    "ee|> typeof"
   ]
  },
  {
   "cell_type": "code",
   "execution_count": 112,
   "metadata": {
    "collapsed": false
   },
   "outputs": [
    {
     "data": {
      "text/plain": [
       "general_wsd (generic function with 2 methods)"
      ]
     },
     "execution_count": 112,
     "metadata": {},
     "output_type": "execute_result"
    }
   ],
   "source": [
    "normal_probs(logprobs::Vector) = normal_probs(copy(logprobs))\n",
    "function normal_probs!{F<:AbstractFloat}(logprobs::Vector{F})\n",
    "    ret = logprobs\n",
    "    max_lp = maximum(logprobs)\n",
    "    ret.-=max_lp #Bring closer to zero\n",
    "    map!(exp,ret)\n",
    "    denom = sum(ret)\n",
    "    ret./=denom\n",
    "    ret\n",
    "end\n",
    "\n",
    "function general_wsd(ee, context, wvs, priors=ones(length(wvs)))\n",
    "    lps = Vector{Float64}(length(wvs))\n",
    "    for (ii,(prior, wv)) in enumerate(zip(priors, wvs))\n",
    "        lps[ii] = Query.logprob_of_context(ee, context, wv; skip_oov=true, normalise_over_length=true)\n",
    "        lps[ii] += log(prior)\n",
    "    end\n",
    "    \n",
    "    normal_probs!(lps)\n",
    "end\n",
    "\n",
    "    "
   ]
  },
  {
   "cell_type": "code",
   "execution_count": 121,
   "metadata": {
    "collapsed": false
   },
   "outputs": [
    {
     "name": "stderr",
     "output_type": "stream",
     "text": [
      "WARNING: Method definition all_word_vectors(WordEmbeddings.WordEmbedding, Any) in module Main at In[118]:2 overwritten at In[121]:2.\n",
      "WARNING: Method definition synthesize_embedding(WordEmbeddings.WordEmbedding, AbstractArray{T<:Any, 1}, WordNet.DB, AbstractString, Char) in module Main at In[118]:10 overwritten at In[121]:10.\n"
     ]
    },
    {
     "data": {
      "text/plain": [
       "synthesize_embedding (generic function with 1 method)"
      ]
     },
     "execution_count": 121,
     "metadata": {},
     "output_type": "execute_result"
    }
   ],
   "source": [
    "function all_word_vectors(ee::WordEmbedding, word)\n",
    "    if haskey(ee.embedding, word)\n",
    "        [ee.embedding[word]]\n",
    "    else\n",
    "        Vector{Float32}[]\n",
    "    end\n",
    "end\n",
    "\n",
    "function synthesize_embedding(ee::WordEmbedding,context::AbstractVector, wn::DB, lemma::AbstractString, pos::Char)\n",
    "    words = related_words(lemma, pos, db)\n",
    "    \n",
    "    wvs = vcat((all_word_vectors(ee,w) for w in words)...)\n",
    "    if length(wvs) == 0\n",
    "        fallbacks = split(fallback_word_or_phrase, \" \")\n",
    "        wvs = vcat((all_word_sense_vectors(ee,w) for w in fallbacks)...)\n",
    "        if length(wvs) == 0\n",
    "            throw(KeyError(\" $words, nor $fallbacks have embeddings\"))\n",
    "        end\n",
    "    end\n",
    "\n",
    "    probs = general_wsd(ee, context, wvs)\n",
    "    sum(wvs.*probs)\n",
    "end"
   ]
  },
  {
   "cell_type": "code",
   "execution_count": 133,
   "metadata": {
    "collapsed": false,
    "scrolled": true
   },
   "outputs": [
    {
     "data": {
      "text/plain": [
       "100-element Array{Float32,1}:\n",
       " -0.171361 \n",
       " -0.0601222\n",
       " -0.130508 \n",
       " -0.129067 \n",
       " -0.0248395\n",
       " -0.0265742\n",
       " -0.0515996\n",
       " -0.0724668\n",
       " -0.0111354\n",
       " -0.104404 \n",
       " -0.105999 \n",
       " -0.19579  \n",
       " -0.10982  \n",
       " -0.137117 \n",
       " -0.0670138\n",
       " -0.164955 \n",
       "  0.0997669\n",
       " -0.0129256\n",
       " -0.0563204\n",
       " -0.0667889\n",
       " -0.160745 \n",
       " -0.0585518\n",
       " -0.0935155\n",
       " -0.0839081\n",
       " -0.149451 \n",
       " -0.0220395\n",
       " -0.0955562\n",
       " -0.143061 \n",
       " -0.0422845\n",
       " -0.0328509\n",
       " -0.0767439\n",
       " -0.118051 \n",
       " -0.195949 \n",
       " -0.0917757\n",
       " -0.113751 \n",
       " -0.182714 \n",
       " -0.127367 \n",
       " -0.166535 \n",
       " -0.231383 \n",
       " -0.239143 \n",
       " -0.136593 \n",
       " -0.153564 \n",
       " -0.0879698\n",
       " -0.190549 \n",
       " -0.0565284\n",
       " -0.087515 \n",
       " -0.038529 \n",
       " -0.151196 \n",
       " -0.165513 \n",
       " -0.109016 \n",
       " -0.0509603\n",
       " -0.123052 \n",
       " -0.121415 \n",
       " -0.100983 \n",
       " -0.0942173\n",
       " -0.0814664\n",
       " -0.0411696\n",
       " -0.012768 \n",
       " -0.122486 \n",
       " -0.122311 \n",
       " -0.0406796\n",
       " -0.16835  \n",
       " -0.137209 \n",
       " -0.0511401\n",
       " -0.173059 \n",
       " -0.0728902\n",
       " -0.056107 \n",
       " -0.010812 \n",
       " -0.32882  \n",
       " -0.0953964\n",
       " -0.0745012\n",
       " -0.148656 \n",
       " -0.103872 \n",
       " -0.0951794\n",
       " -0.0695007\n",
       " -0.140382 \n",
       " -0.0685524\n",
       " -0.0745986\n",
       " -0.165295 \n",
       " -0.186402 \n",
       " -0.117548 \n",
       " -0.150926 \n",
       " -0.0747112\n",
       " -0.157572 \n",
       " -0.205116 \n",
       "  0.0310818\n",
       " -0.296253 \n",
       " -0.0722473\n",
       " -0.120984 \n",
       " -0.262912 \n",
       " -0.32129  \n",
       " -0.131346 \n",
       " -0.182052 \n",
       " -0.190778 \n",
       " -0.0288797\n",
       " -0.0433787\n",
       " -0.0763796\n",
       " -0.0604384\n",
       " -0.0982099\n",
       " -0.210799 "
      ]
     },
     "execution_count": 133,
     "metadata": {},
     "output_type": "execute_result"
    }
   ],
   "source": [
    "wv1 = synthesize_embedding(ee, split(\"he me i lost my job and now i have no money\"), db, \"fire\", 'v')\n",
    "wv2 = synthesize_embedding(ee, split(\"we were camping and it was cold but the kept us warm\"), db, \"fire\", 'n')\n",
    "wv3 = synthesize_embedding(ee, split(\"he was made and paid off\"), db, \"redundant\", 'a')"
   ]
  },
  {
   "cell_type": "code",
   "execution_count": null,
   "metadata": {
    "collapsed": true
   },
   "outputs": [],
   "source": []
  },
  {
   "cell_type": "code",
   "execution_count": 134,
   "metadata": {
    "collapsed": false
   },
   "outputs": [
    {
     "data": {
      "text/plain": [
       "0.12487596f0"
      ]
     },
     "execution_count": 134,
     "metadata": {},
     "output_type": "execute_result"
    }
   ],
   "source": [
    "Query.angular_dist(wv1, wv2)"
   ]
  },
  {
   "cell_type": "code",
   "execution_count": 135,
   "metadata": {
    "collapsed": false
   },
   "outputs": [
    {
     "data": {
      "text/plain": [
       "0.17384131f0"
      ]
     },
     "execution_count": 135,
     "metadata": {},
     "output_type": "execute_result"
    }
   ],
   "source": [
    "Query.angular_dist(wv1, wv3)"
   ]
  },
  {
   "cell_type": "code",
   "execution_count": 136,
   "metadata": {
    "collapsed": false
   },
   "outputs": [
    {
     "data": {
      "text/plain": [
       "0.20049803f0"
      ]
     },
     "execution_count": 136,
     "metadata": {},
     "output_type": "execute_result"
    }
   ],
   "source": [
    "Query.angular_dist(wv2, wv3)"
   ]
  },
  {
   "cell_type": "code",
   "execution_count": null,
   "metadata": {
    "collapsed": true
   },
   "outputs": [],
   "source": []
  }
 ],
 "metadata": {
  "kernelspec": {
   "display_name": "Julia 0.5.0-rc0",
   "language": "julia",
   "name": "julia-0.5"
  },
  "language_info": {
   "file_extension": ".jl",
   "mimetype": "application/julia",
   "name": "julia",
   "version": "0.5.0"
  }
 },
 "nbformat": 4,
 "nbformat_minor": 0
}
