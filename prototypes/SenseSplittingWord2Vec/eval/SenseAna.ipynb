{
 "cells": [
  {
   "cell_type": "code",
   "execution_count": 1,
   "metadata": {
    "collapsed": false
   },
   "outputs": [],
   "source": [
    "using WordEmbeddings, SoftmaxClassifier\n",
    "using Utils\n",
    "using Query\n",
    "using Base.Collections\n",
    "using WordStreams\n",
    "\n",
    "using Clustering\n",
    "using Distances"
   ]
  },
  {
   "cell_type": "code",
   "execution_count": 2,
   "metadata": {
    "collapsed": false
   },
   "outputs": [],
   "source": [
    "ee = restore(\"models/ss/text8_200__i5.model\");"
   ]
  },
  {
   "cell_type": "code",
   "execution_count": 511,
   "metadata": {
    "collapsed": false
   },
   "outputs": [
    {
     "name": "stderr",
     "output_type": "stream",
     "text": [
      "WARNING: Method definition print_nearest_words(Any) in module Main at In[3]:2 overwritten at In[511]:2.\n"
     ]
    },
    {
     "data": {
      "text/plain": [
       "print_nearest_words (generic function with 1 method)"
      ]
     },
     "execution_count": 511,
     "metadata": {},
     "output_type": "execute_result"
    }
   ],
   "source": [
    "function print_nearest_words(word)\n",
    "    ret = []\n",
    "    for ii in 1:length(ee.embedding[word])\n",
    "        nears = Query.find_nearest_words(ee, word, ii)\n",
    "        println(ii,\"\\t\", nears)\n",
    "        println()\n",
    "        push!(ret,nears)\n",
    "    end\n",
    "    return ret\n",
    "end"
   ]
  },
  {
   "cell_type": "code",
   "execution_count": 140,
   "metadata": {
    "collapsed": false,
    "scrolled": true
   },
   "outputs": [
    {
     "name": "stdout",
     "output_type": "stream",
     "text": [
      "1\t[Pair{Any,Any}((\"with\",12),0.36149585f0),Pair{Any,Any}((\"on\",5),0.36803174f0),Pair{Any,Any}((\"by\",11),0.37724584f0),Pair{Any,Any}((\"s\",17),0.4047312f0),Pair{Any,Any}((\"extensive\",20),0.4205863f0)]\n",
      "\n",
      "2\t[Pair{Any,Any}((\"the\",7),0.1644544f0),Pair{Any,Any}((\"is\",4),0.22158211f0),Pair{Any,Any}((\"an\",12),0.23381048f0),Pair{Any,Any}((\"or\",5),0.2376225f0),Pair{Any,Any}((\"this\",17),0.25288576f0)]\n",
      "\n",
      "3\t[Pair{Any,Any}((\"the\",19),0.24315614f0),Pair{Any,Any}((\"an\",11),0.26751918f0),Pair{Any,Any}((\"and\",4),0.2919441f0),Pair{Any,Any}((\"in\",4),0.33031344f0),Pair{Any,Any}((\"with\",9),0.33774894f0)]\n",
      "\n",
      "4\t[Pair{Any,Any}((\"people\",12),0.44990408f0),Pair{Any,Any}((\"wide\",16),0.45150584f0),Pair{Any,Any}((\"numbers\",17),0.45552343f0),Pair{Any,Any}((\"of\",17),0.4563133f0),Pair{Any,Any}((\"large\",14),0.45695388f0)]\n",
      "\n",
      "5\t[Pair{Any,Any}((\"such\",3),0.45609432f0),Pair{Any,Any}((\"they\",10),0.45987588f0),Pair{Any,Any}((\"for\",14),0.47111166f0),Pair{Any,Any}((\"the\",12),0.47988933f0),Pair{Any,Any}((\"an\",9),0.48544067f0)]\n",
      "\n",
      "6\t[Pair{Any,Any}((\"the\",18),0.15532553f0),Pair{Any,Any}((\"an\",2),0.19029748f0),Pair{Any,Any}((\"this\",16),0.19609135f0),Pair{Any,Any}((\"another\",6),0.21436542f0),Pair{Any,Any}((\"which\",6),0.22389692f0)]\n",
      "\n",
      "7\t[Pair{Any,Any}((\"an\",10),0.2574572f0),Pair{Any,Any}((\"then\",2),0.3570277f0),Pair{Any,Any}((\"was\",14),0.37553537f0),Pair{Any,Any}((\"while\",16),0.4056347f0),Pair{Any,Any}((\"he\",4),0.40625793f0)]\n",
      "\n",
      "8\t[Pair{Any,Any}((\"the\",2),0.17621124f0),Pair{Any,Any}((\"or\",2),0.26552403f0),Pair{Any,Any}((\"this\",19),0.2822029f0),Pair{Any,Any}((\"its\",14),0.29083264f0),Pair{Any,Any}((\"an\",17),0.29433906f0)]\n",
      "\n",
      "9\t[Pair{Any,Any}((\"every\",14),0.363217f0),Pair{Any,Any}((\"is\",7),0.37871522f0),Pair{Any,Any}((\"some\",2),0.4033687f0),Pair{Any,Any}((\"this\",14),0.40474594f0),Pair{Any,Any}((\"the\",20),0.40720844f0)]\n",
      "\n",
      "10\t[Pair{Any,Any}((\"the\",5),0.34836376f0),Pair{Any,Any}((\"but\",10),0.37859762f0),Pair{Any,Any}((\"been\",15),0.4019807f0),Pair{Any,Any}((\"which\",5),0.43503374f0),Pair{Any,Any}((\"because\",4),0.45287102f0)]\n",
      "\n",
      "11\t[Pair{Any,Any}((\"the\",9),0.22944123f0),Pair{Any,Any}((\"an\",1),0.2521327f0),Pair{Any,Any}((\"which\",17),0.29994088f0),Pair{Any,Any}((\"and\",20),0.31381738f0),Pair{Any,Any}((\"for\",7),0.32438725f0)]\n",
      "\n",
      "12\t[Pair{Any,Any}((\"and\",7),0.25545985f0),Pair{Any,Any}((\"the\",4),0.26070714f0),Pair{Any,Any}((\"which\",2),0.28964204f0),Pair{Any,Any}((\"often\",2),0.29031777f0),Pair{Any,Any}((\"small\",17),0.29157287f0)]\n",
      "\n",
      "13\t[Pair{Any,Any}((\"the\",6),0.42666233f0),Pair{Any,Any}((\"an\",16),0.48886085f0),Pair{Any,Any}((\"s\",4),0.49895215f0),Pair{Any,Any}((\"the\",17),0.52333593f0),Pair{Any,Any}((\"in\",8),0.5398351f0)]\n",
      "\n",
      "14\t[Pair{Any,Any}((\"the\",15),0.19734699f0),Pair{Any,Any}((\"and\",19),0.21552616f0),Pair{Any,Any}((\"s\",19),0.23428386f0),Pair{Any,Any}((\"which\",18),0.30199987f0),Pair{Any,Any}((\"in\",11),0.30700397f0)]\n",
      "\n",
      "15\t[Pair{Any,Any}((\"is\",2),0.18251103f0),Pair{Any,Any}((\"an\",18),0.18526345f0),Pair{Any,Any}((\"any\",5),0.18980008f0),Pair{Any,Any}((\"v\",3),0.20320684f0),Pair{Any,Any}((\"c\",7),0.21808326f0)]\n",
      "\n",
      "16\t[Pair{Any,Any}((\"the\",13),0.33014256f0),Pair{Any,Any}((\"last\",6),0.40526503f0),Pair{Any,Any}((\"three\",9),0.40528315f0),Pair{Any,Any}((\"first\",6),0.40881407f0),Pair{Any,Any}((\"only\",19),0.41345406f0)]\n",
      "\n",
      "17\t[Pair{Any,Any}((\"an\",7),0.30119538f0),Pair{Any,Any}((\"is\",6),0.33643806f0),Pair{Any,Any}((\"young\",19),0.3797989f0),Pair{Any,Any}((\"killed\",9),0.38335907f0),Pair{Any,Any}((\"with\",1),0.38875163f0)]\n",
      "\n",
      "18\t[Pair{Any,Any}((\"an\",20),0.31032115f0),Pair{Any,Any}((\"this\",18),0.3192925f0),Pair{Any,Any}((\"the\",16),0.32095307f0),Pair{Any,Any}((\"large\",4),0.323483f0),Pair{Any,Any}((\"called\",16),0.3400218f0)]\n",
      "\n",
      "19\t[Pair{Any,Any}((\"the\",17),0.36734527f0),Pair{Any,Any}((\"an\",13),0.37528896f0),Pair{Any,Any}((\"seven\",7),0.3757547f0),Pair{Any,Any}((\"each\",7),0.37960696f0),Pair{Any,Any}((\"zero\",7),0.39917594f0)]\n",
      "\n",
      "20\t[Pair{Any,Any}((\"and\",12),0.3197379f0),Pair{Any,Any}((\"or\",14),0.35937047f0),Pair{Any,Any}((\"any\",20),0.3612424f0),Pair{Any,Any}((\"which\",13),0.37438554f0),Pair{Any,Any}((\"is\",3),0.37923837f0)]\n",
      "\n"
     ]
    }
   ],
   "source": [
    "print_nearest_words(\"a\")"
   ]
  },
  {
   "cell_type": "code",
   "execution_count": null,
   "metadata": {
    "collapsed": false
   },
   "outputs": [],
   "source": [
    "print_nearest_words(\"kind\")"
   ]
  },
  {
   "cell_type": "code",
   "execution_count": null,
   "metadata": {
    "collapsed": false
   },
   "outputs": [],
   "source": [
    "print_nearest_words(\"race\")"
   ]
  },
  {
   "cell_type": "code",
   "execution_count": null,
   "metadata": {
    "collapsed": false
   },
   "outputs": [],
   "source": [
    "print_nearest_words(\"dying\")"
   ]
  },
  {
   "cell_type": "code",
   "execution_count": null,
   "metadata": {
    "collapsed": false
   },
   "outputs": [],
   "source": [
    "print_nearest_words(\"fear\")"
   ]
  },
  {
   "cell_type": "code",
   "execution_count": null,
   "metadata": {
    "collapsed": false
   },
   "outputs": [],
   "source": [
    "print_nearest_words(\"mouse\")"
   ]
  },
  {
   "cell_type": "code",
   "execution_count": null,
   "metadata": {
    "collapsed": false
   },
   "outputs": [],
   "source": [
    "print_nearest_words(\"video\")"
   ]
  },
  {
   "cell_type": "code",
   "execution_count": null,
   "metadata": {
    "collapsed": false
   },
   "outputs": [],
   "source": [
    "print_nearest_words(\"phone\")"
   ]
  },
  {
   "cell_type": "code",
   "execution_count": null,
   "metadata": {
    "collapsed": false
   },
   "outputs": [],
   "source": [
    "print_nearest_words(\"came\")"
   ]
  },
  {
   "cell_type": "code",
   "execution_count": null,
   "metadata": {
    "collapsed": false
   },
   "outputs": [],
   "source": [
    "print_nearest_words(\"come\")"
   ]
  },
  {
   "cell_type": "code",
   "execution_count": null,
   "metadata": {
    "collapsed": false
   },
   "outputs": [],
   "source": [
    "print_nearest_words(\"define\")"
   ]
  },
  {
   "cell_type": "code",
   "execution_count": 148,
   "metadata": {
    "collapsed": false,
    "scrolled": true
   },
   "outputs": [
    {
     "name": "stdout",
     "output_type": "stream",
     "text": [
      "1\t[Pair{Any,Any}((\"ireland\",16),0.64708966f0),Pair{Any,Any}((\"britain\",16),0.64880353f0),Pair{Any,Any}((\"especially\",9),0.6513231f0),Pair{Any,Any}((\"provided\",15),0.67011666f0),Pair{Any,Any}((\"particularly\",20),0.6725949f0)]\n",
      "\n",
      "2\t[Pair{Any,Any}((\"deaths\",18),0.6309011f0),Pair{Any,Any}((\"sir\",20),0.6614016f0),Pair{Any,Any}((\"morgan\",1),0.6741953f0),Pair{Any,Any}((\"west\",18),0.6777778f0),Pair{Any,Any}((\"isbn\",5),0.67834324f0)]\n",
      "\n",
      "3\t[Pair{Any,Any}((\"prime\",13),0.2473808f0),Pair{Any,Any}((\"minister\",20),0.31629658f0),Pair{Any,Any}((\"prime\",1),0.32216263f0),Pair{Any,Any}((\"ministers\",4),0.34331042f0),Pair{Any,Any}((\"minister\",3),0.36456484f0)]\n",
      "\n",
      "4\t[Pair{Any,Any}((\"list\",8),0.59148026f0),Pair{Any,Any}((\"and\",20),0.614841f0),Pair{Any,Any}((\"official\",13),0.624194f0),Pair{Any,Any}((\"general\",18),0.62567335f0),Pair{Any,Any}((\"members\",15),0.629411f0)]\n",
      "\n",
      "5\t[Pair{Any,Any}((\"western\",13),0.4191454f0),Pair{Any,Any}((\"town\",10),0.42082667f0),Pair{Any,Any}((\"queensland\",4),0.43156624f0),Pair{Any,Any}((\"wales\",18),0.45057023f0),Pair{Any,Any}((\"south\",12),0.45707417f0)]\n",
      "\n",
      "6\t[Pair{Any,Any}((\"zealand\",17),0.51816374f0),Pair{Any,Any}((\"match\",1),0.51989126f0),Pair{Any,Any}((\"us\",14),0.5360247f0),Pair{Any,Any}((\"test\",15),0.5406124f0),Pair{Any,Any}((\"first\",13),0.5431219f0)]\n",
      "\n",
      "7\t[Pair{Any,Any}((\"cartoonist\",16),0.647694f0),Pair{Any,Any}((\"modernisation\",1),0.6486087f0),Pair{Any,Any}((\"april\",13),0.66997445f0),Pair{Any,Any}((\"becoming\",20),0.6734446f0),Pair{Any,Any}((\"american\",8),0.68248886f0)]\n",
      "\n",
      "8\t[Pair{Any,Any}((\"matters\",20),0.66755116f0),Pair{Any,Any}((\"ourselves\",1),0.6802366f0),Pair{Any,Any}((\"whites\",2),0.68125737f0),Pair{Any,Any}((\"peace\",6),0.68372583f0),Pair{Any,Any}((\"more\",6),0.68429744f0)]\n",
      "\n",
      "9\t[Pair{Any,Any}((\"south\",12),0.4463454f0),Pair{Any,Any}((\"wales\",19),0.4847467f0),Pair{Any,Any}((\"new\",3),0.5076965f0),Pair{Any,Any}((\"zealand\",17),0.51473045f0),Pair{Any,Any}((\"victoria\",11),0.51839817f0)]\n",
      "\n",
      "10\t[Pair{Any,Any}((\"aclu\",4),0.6944263f0),Pair{Any,Any}((\"affects\",1),0.69619596f0),Pair{Any,Any}((\"requested\",17),0.69798505f0),Pair{Any,Any}((\"enhanced\",19),0.7001114f0),Pair{Any,Any}((\"duchy\",1),0.70312595f0)]\n",
      "\n",
      "11\t[Pair{Any,Any}((\"won\",12),0.67440736f0),Pair{Any,Any}((\"the\",6),0.6763311f0),Pair{Any,Any}((\"england\",14),0.6785213f0),Pair{Any,Any}((\"bishops\",13),0.6839303f0),Pair{Any,Any}((\"city\",7),0.6852726f0)]\n",
      "\n",
      "12\t[Pair{Any,Any}((\"eastern\",1),0.45826256f0),Pair{Any,Any}((\"india\",12),0.48450494f0),Pair{Any,Any}((\"in\",1),0.48777324f0),Pair{Any,Any}((\"central\",19),0.4917227f0),Pair{Any,Any}((\"canada\",3),0.49812436f0)]\n",
      "\n",
      "13\t[Pair{Any,Any}((\"eight\",3),0.6424203f0),Pair{Any,Any}((\"b\",8),0.66651416f0),Pair{Any,Any}((\"nsw\",1),0.6762165f0),Pair{Any,Any}((\"three\",4),0.684096f0),Pair{Any,Any}((\"nine\",6),0.6855695f0)]\n",
      "\n",
      "14\t[Pair{Any,Any}((\"south\",17),0.34426063f0),Pair{Any,Any}((\"japan\",14),0.37043744f0),Pair{Any,Any}((\"africa\",7),0.3789521f0),Pair{Any,Any}((\"and\",6),0.38012308f0),Pair{Any,Any}((\"east\",9),0.3821984f0)]\n",
      "\n",
      "15\t[Pair{Any,Any}((\"broke\",1),0.6366043f0),Pair{Any,Any}((\"july\",5),0.6627748f0),Pair{Any,Any}((\"zealand\",17),0.6700146f0),Pair{Any,Any}((\"question\",20),0.6760824f0),Pair{Any,Any}((\"the\",11),0.67849857f0)]\n",
      "\n",
      "16\t[Pair{Any,Any}((\"advance\",6),0.48215127f0),Pair{Any,Any}((\"canada\",20),0.5794129f0),Pair{Any,Any}((\"britain\",20),0.5893681f0),Pair{Any,Any}((\"france\",9),0.60055745f0),Pair{Any,Any}((\"germany\",6),0.6300453f0)]\n",
      "\n",
      "17\t[Pair{Any,Any}((\"australian\",12),0.42347747f0),Pair{Any,Any}((\"international\",20),0.44074863f0),Pair{Any,Any}((\"england\",11),0.47114956f0),Pair{Any,Any}((\"uk\",4),0.47835565f0),Pair{Any,Any}((\"an\",3),0.47924346f0)]\n",
      "\n",
      "18\t[Pair{Any,Any}((\"zealand\",12),0.18529892f0),Pair{Any,Any}((\"new\",3),0.24071127f0),Pair{Any,Any}((\"canada\",3),0.2889933f0),Pair{Any,Any}((\"kingdom\",6),0.36203885f0),Pair{Any,Any}((\"netherlands\",18),0.38124573f0)]\n",
      "\n",
      "19\t[Pair{Any,Any}((\"many\",8),0.43426085f0),Pair{Any,Any}((\"in\",15),0.47859168f0),Pair{Any,Any}((\"and\",20),0.48893946f0),Pair{Any,Any}((\"a\",11),0.4949652f0),Pair{Any,Any}((\"uk\",14),0.4982586f0)]\n",
      "\n",
      "20\t[Pair{Any,Any}((\"europe\",18),0.48324925f0),Pair{Any,Any}((\"countries\",18),0.49733496f0),Pair{Any,Any}((\"canada\",15),0.5158184f0),Pair{Any,Any}((\"many\",1),0.53822476f0),Pair{Any,Any}((\"television\",7),0.54350066f0)]\n",
      "\n"
     ]
    }
   ],
   "source": [
    "print_nearest_words(\"australia\")"
   ]
  },
  {
   "cell_type": "code",
   "execution_count": 552,
   "metadata": {
    "collapsed": false
   },
   "outputs": [
    {
     "name": "stdout",
     "output_type": "stream",
     "text": [
      "1\t[Pair{Any,Any}((\"states\",10),0.44406152f0),Pair{Any,Any}((\"states\",13),0.44755912f0),Pair{Any,Any}((\"kingdom\",1),0.44778913f0),Pair{Any,Any}((\"america\",9),0.45211357f0),Pair{Any,Any}((\"united\",15),0.45302373f0)]\n",
      "\n",
      "2\t[Pair{Any,Any}((\"nations\",20),0.3316921f0),Pair{Any,Any}((\"countries\",1),0.35931808f0),Pair{Any,Any}((\"and\",6),0.3976617f0),Pair{Any,Any}((\"of\",6),0.4001304f0),Pair{Any,Any}((\"united\",4),0.4064538f0)]\n",
      "\n",
      "3\t[Pair{Any,Any}((\"united\",14),0.3348794f0),Pair{Any,Any}((\"constitution\",1),0.34970987f0),Pair{Any,Any}((\"states\",14),0.3956474f0),Pair{Any,Any}((\"u\",7),0.40181845f0),Pair{Any,Any}((\"states\",5),0.44029248f0)]\n",
      "\n",
      "4\t[Pair{Any,Any}((\"kingdom\",1),0.2919402f0),Pair{Any,Any}((\"united\",13),0.30385137f0),Pair{Any,Any}((\"constitution\",1),0.3695827f0),Pair{Any,Any}((\"that\",3),0.37023968f0),Pair{Any,Any}((\"federal\",20),0.41255087f0)]\n",
      "\n",
      "5\t[Pair{Any,Any}((\"united\",12),0.35347873f0),Pair{Any,Any}((\"states\",8),0.355218f0),Pair{Any,Any}((\"states\",7),0.3958528f0),Pair{Any,Any}((\"states\",13),0.40636587f0),Pair{Any,Any}((\"united\",16),0.4129343f0)]\n",
      "\n",
      "6\t[Pair{Any,Any}((\"united\",10),0.35612613f0),Pair{Any,Any}((\"united\",7),0.37133628f0),Pair{Any,Any}((\"naval\",1),0.3726164f0),Pair{Any,Any}((\"navy\",1),0.3882202f0),Pair{Any,Any}((\"air\",10),0.3950947f0)]\n",
      "\n",
      "7\t[Pair{Any,Any}((\"united\",1),0.29181087f0),Pair{Any,Any}((\"states\",5),0.3958528f0),Pair{Any,Any}((\"kingdom\",8),0.42643237f0),Pair{Any,Any}((\"states\",8),0.44342613f0),Pair{Any,Any}((\"united\",16),0.4694534f0)]\n",
      "\n",
      "8\t[Pair{Any,Any}((\"united\",12),0.3402779f0),Pair{Any,Any}((\"states\",5),0.355218f0),Pair{Any,Any}((\"kingdom\",1),0.4408787f0),Pair{Any,Any}((\"states\",7),0.44342613f0),Pair{Any,Any}((\"states\",18),0.47607845f0)]\n",
      "\n",
      "9\t[Pair{Any,Any}((\"united\",10),0.24158186f0),Pair{Any,Any}((\"force\",6),0.3900885f0),Pair{Any,Any}((\"states\",6),0.40196747f0),Pair{Any,Any}((\"army\",4),0.4091851f0),Pair{Any,Any}((\"united\",11),0.43830615f0)]\n",
      "\n",
      "10\t[Pair{Any,Any}((\"united\",17),0.31038278f0),Pair{Any,Any}((\"kingdom\",9),0.31697035f0),Pair{Any,Any}((\"external\",9),0.42242444f0),Pair{Any,Any}((\"states\",1),0.44406152f0),Pair{Any,Any}((\"department\",10),0.45678663f0)]\n",
      "\n",
      "11\t[Pair{Any,Any}((\"united\",20),0.32059765f0),Pair{Any,Any}((\"kingdom\",1),0.32548404f0),Pair{Any,Any}((\"states\",20),0.45006412f0),Pair{Any,Any}((\"states\",4),0.4601704f0),Pair{Any,Any}((\"nations\",17),0.46762335f0)]\n",
      "\n",
      "12\t[Pair{Any,Any}((\"were\",11),0.42528677f0),Pair{Any,Any}((\"several\",13),0.44503522f0),Pair{Any,Any}((\"countries\",19),0.46536934f0),Pair{Any,Any}((\"smaller\",2),0.46912175f0),Pair{Any,Any}((\"nations\",10),0.47582614f0)]\n",
      "\n",
      "13\t[Pair{Any,Any}((\"kingdom\",10),0.29201788f0),Pair{Any,Any}((\"nations\",19),0.31786746f0),Pair{Any,Any}((\"united\",9),0.35960734f0),Pair{Any,Any}((\"states\",5),0.40636587f0),Pair{Any,Any}((\"kingdom\",1),0.4172716f0)]\n",
      "\n",
      "14\t[Pair{Any,Any}((\"united\",19),0.15835601f0),Pair{Any,Any}((\"representatives\",13),0.33551913f0),Pair{Any,Any}((\"president\",17),0.35693407f0),Pair{Any,Any}((\"united\",18),0.36217088f0),Pair{Any,Any}((\"presidents\",10),0.38865036f0)]\n",
      "\n",
      "15\t[Pair{Any,Any}((\"thus\",19),0.4031967f0),Pair{Any,Any}((\"means\",2),0.42299604f0),Pair{Any,Any}((\"however\",13),0.42793894f0),Pair{Any,Any}((\"has\",19),0.43664867f0),Pair{Any,Any}((\"of\",18),0.4391135f0)]\n",
      "\n",
      "16\t[Pair{Any,Any}((\"writes\",5),0.5006741f0),Pair{Any,Any}((\"argues\",20),0.5297605f0),Pair{Any,Any}((\"says\",1),0.53935444f0),Pair{Any,Any}((\"wrote\",16),0.540336f0),Pair{Any,Any}((\"believe\",5),0.55173147f0)]\n",
      "\n",
      "17\t[Pair{Any,Any}((\"kingdom\",5),0.24508834f0),Pair{Any,Any}((\"canada\",3),0.25505763f0),Pair{Any,Any}((\"united\",2),0.28550762f0),Pair{Any,Any}((\"kingdom\",6),0.29278505f0),Pair{Any,Any}((\"france\",2),0.30027217f0)]\n",
      "\n",
      "18\t[Pair{Any,Any}((\"united\",7),0.34809154f0),Pair{Any,Any}((\"united\",3),0.36504114f0),Pair{Any,Any}((\"new\",17),0.38884473f0),Pair{Any,Any}((\"missouri\",20),0.407637f0),Pair{Any,Any}((\"florida\",6),0.43585122f0)]\n",
      "\n",
      "19\t[Pair{Any,Any}((\"member\",19),0.39933103f0),Pair{Any,Any}((\"countries\",13),0.46312135f0),Pair{Any,Any}((\"other\",14),0.46388906f0),Pair{Any,Any}((\"organizations\",20),0.47801727f0),Pair{Any,Any}((\"most\",6),0.47863674f0)]\n",
      "\n",
      "20\t[Pair{Any,Any}((\"united\",5),0.283252f0),Pair{Any,Any}((\"war\",11),0.34546173f0),Pair{Any,Any}((\"kingdom\",5),0.4018994f0),Pair{Any,Any}((\"cold\",18),0.41178983f0),Pair{Any,Any}((\"treaty\",11),0.42411733f0)]\n",
      "\n"
     ]
    },
    {
     "data": {
      "text/plain": [
       "20-element Array{Any,1}:\n",
       " [Pair{Any,Any}((\"states\",10),0.44406152f0),Pair{Any,Any}((\"states\",13),0.44755912f0),Pair{Any,Any}((\"kingdom\",1),0.44778913f0),Pair{Any,Any}((\"america\",9),0.45211357f0),Pair{Any,Any}((\"united\",15),0.45302373f0)]                \n",
       " [Pair{Any,Any}((\"nations\",20),0.3316921f0),Pair{Any,Any}((\"countries\",1),0.35931808f0),Pair{Any,Any}((\"and\",6),0.3976617f0),Pair{Any,Any}((\"of\",6),0.4001304f0),Pair{Any,Any}((\"united\",4),0.4064538f0)]                           \n",
       " [Pair{Any,Any}((\"united\",14),0.3348794f0),Pair{Any,Any}((\"constitution\",1),0.34970987f0),Pair{Any,Any}((\"states\",14),0.3956474f0),Pair{Any,Any}((\"u\",7),0.40181845f0),Pair{Any,Any}((\"states\",5),0.44029248f0)]                    \n",
       " [Pair{Any,Any}((\"kingdom\",1),0.2919402f0),Pair{Any,Any}((\"united\",13),0.30385137f0),Pair{Any,Any}((\"constitution\",1),0.3695827f0),Pair{Any,Any}((\"that\",3),0.37023968f0),Pair{Any,Any}((\"federal\",20),0.41255087f0)]               \n",
       " [Pair{Any,Any}((\"united\",12),0.35347873f0),Pair{Any,Any}((\"states\",8),0.355218f0),Pair{Any,Any}((\"states\",7),0.3958528f0),Pair{Any,Any}((\"states\",13),0.40636587f0),Pair{Any,Any}((\"united\",16),0.4129343f0)]                      \n",
       " [Pair{Any,Any}((\"united\",10),0.35612613f0),Pair{Any,Any}((\"united\",7),0.37133628f0),Pair{Any,Any}((\"naval\",1),0.3726164f0),Pair{Any,Any}((\"navy\",1),0.3882202f0),Pair{Any,Any}((\"air\",10),0.3950947f0)]                            \n",
       " [Pair{Any,Any}((\"united\",1),0.29181087f0),Pair{Any,Any}((\"states\",5),0.3958528f0),Pair{Any,Any}((\"kingdom\",8),0.42643237f0),Pair{Any,Any}((\"states\",8),0.44342613f0),Pair{Any,Any}((\"united\",16),0.4694534f0)]                     \n",
       " [Pair{Any,Any}((\"united\",12),0.3402779f0),Pair{Any,Any}((\"states\",5),0.355218f0),Pair{Any,Any}((\"kingdom\",1),0.4408787f0),Pair{Any,Any}((\"states\",7),0.44342613f0),Pair{Any,Any}((\"states\",18),0.47607845f0)]                      \n",
       " [Pair{Any,Any}((\"united\",10),0.24158186f0),Pair{Any,Any}((\"force\",6),0.3900885f0),Pair{Any,Any}((\"states\",6),0.40196747f0),Pair{Any,Any}((\"army\",4),0.4091851f0),Pair{Any,Any}((\"united\",11),0.43830615f0)]                        \n",
       " [Pair{Any,Any}((\"united\",17),0.31038278f0),Pair{Any,Any}((\"kingdom\",9),0.31697035f0),Pair{Any,Any}((\"external\",9),0.42242444f0),Pair{Any,Any}((\"states\",1),0.44406152f0),Pair{Any,Any}((\"department\",10),0.45678663f0)]            \n",
       " [Pair{Any,Any}((\"united\",20),0.32059765f0),Pair{Any,Any}((\"kingdom\",1),0.32548404f0),Pair{Any,Any}((\"states\",20),0.45006412f0),Pair{Any,Any}((\"states\",4),0.4601704f0),Pair{Any,Any}((\"nations\",17),0.46762335f0)]                 \n",
       " [Pair{Any,Any}((\"were\",11),0.42528677f0),Pair{Any,Any}((\"several\",13),0.44503522f0),Pair{Any,Any}((\"countries\",19),0.46536934f0),Pair{Any,Any}((\"smaller\",2),0.46912175f0),Pair{Any,Any}((\"nations\",10),0.47582614f0)]             \n",
       " [Pair{Any,Any}((\"kingdom\",10),0.29201788f0),Pair{Any,Any}((\"nations\",19),0.31786746f0),Pair{Any,Any}((\"united\",9),0.35960734f0),Pair{Any,Any}((\"states\",5),0.40636587f0),Pair{Any,Any}((\"kingdom\",1),0.4172716f0)]                 \n",
       " [Pair{Any,Any}((\"united\",19),0.15835601f0),Pair{Any,Any}((\"representatives\",13),0.33551913f0),Pair{Any,Any}((\"president\",17),0.35693407f0),Pair{Any,Any}((\"united\",18),0.36217088f0),Pair{Any,Any}((\"presidents\",10),0.38865036f0)]\n",
       " [Pair{Any,Any}((\"thus\",19),0.4031967f0),Pair{Any,Any}((\"means\",2),0.42299604f0),Pair{Any,Any}((\"however\",13),0.42793894f0),Pair{Any,Any}((\"has\",19),0.43664867f0),Pair{Any,Any}((\"of\",18),0.4391135f0)]                            \n",
       " [Pair{Any,Any}((\"writes\",5),0.5006741f0),Pair{Any,Any}((\"argues\",20),0.5297605f0),Pair{Any,Any}((\"says\",1),0.53935444f0),Pair{Any,Any}((\"wrote\",16),0.540336f0),Pair{Any,Any}((\"believe\",5),0.55173147f0)]                         \n",
       " [Pair{Any,Any}((\"kingdom\",5),0.24508834f0),Pair{Any,Any}((\"canada\",3),0.25505763f0),Pair{Any,Any}((\"united\",2),0.28550762f0),Pair{Any,Any}((\"kingdom\",6),0.29278505f0),Pair{Any,Any}((\"france\",2),0.30027217f0)]                   \n",
       " [Pair{Any,Any}((\"united\",7),0.34809154f0),Pair{Any,Any}((\"united\",3),0.36504114f0),Pair{Any,Any}((\"new\",17),0.38884473f0),Pair{Any,Any}((\"missouri\",20),0.407637f0),Pair{Any,Any}((\"florida\",6),0.43585122f0)]                     \n",
       " [Pair{Any,Any}((\"member\",19),0.39933103f0),Pair{Any,Any}((\"countries\",13),0.46312135f0),Pair{Any,Any}((\"other\",14),0.46388906f0),Pair{Any,Any}((\"organizations\",20),0.47801727f0),Pair{Any,Any}((\"most\",6),0.47863674f0)]          \n",
       " [Pair{Any,Any}((\"united\",5),0.283252f0),Pair{Any,Any}((\"war\",11),0.34546173f0),Pair{Any,Any}((\"kingdom\",5),0.4018994f0),Pair{Any,Any}((\"cold\",18),0.41178983f0),Pair{Any,Any}((\"treaty\",11),0.42411733f0)]                         "
      ]
     },
     "execution_count": 552,
     "metadata": {},
     "output_type": "execute_result"
    }
   ],
   "source": [
    "nearests = print_nearest_words(\"states\")"
   ]
  },
  {
   "cell_type": "code",
   "execution_count": null,
   "metadata": {
    "collapsed": true
   },
   "outputs": [],
   "source": []
  },
  {
   "cell_type": "code",
   "execution_count": null,
   "metadata": {
    "collapsed": true
   },
   "outputs": [],
   "source": []
  },
  {
   "cell_type": "code",
   "execution_count": null,
   "metadata": {
    "collapsed": true
   },
   "outputs": [],
   "source": [
    "using Distances"
   ]
  },
  {
   "cell_type": "code",
   "execution_count": null,
   "metadata": {
    "collapsed": true
   },
   "outputs": [],
   "source": []
  },
  {
   "cell_type": "code",
   "execution_count": null,
   "metadata": {
    "collapsed": false
   },
   "outputs": [],
   "source": [
    "using LightXML\n",
    "using Pipe\n",
    "Base.iteratorsize(::Type{LightXML.XMLNodeIter})=Base.SizeUnknown()\n",
    "Base.iteratorsize(::Type{LightXML.XMLElementIter})=Base.SizeUnknown()"
   ]
  },
  {
   "cell_type": "code",
   "execution_count": null,
   "metadata": {
    "collapsed": false
   },
   "outputs": [],
   "source": [
    "function load_semeval(filename)\n",
    "\n",
    "    function get_wsd_case(instance_node, preprocess=lowercase)\n",
    "        word=\"\"\n",
    "        context=String[]\n",
    "        for node in instance_node |> child_nodes\n",
    "            if is_elementnode(node)\n",
    "                @assert word==\"\"\n",
    "                word = node |>child_nodes |> first |> string |> preprocess |> strip\n",
    "            else\n",
    "                @assert(node|>is_textnode)\n",
    "                append!(context, node|>string|>preprocess|>split)\n",
    "            end\n",
    "        end\n",
    "        @assert word!=\"\"\n",
    "        word, context\n",
    "    end\n",
    "\n",
    "    xdoc = parse_file(filename)\n",
    "    \n",
    "    xroot = root(xdoc);  # an instance of XMLElement\n",
    "    nodes = Base.Flatten(child_elements(instance)  for instance in child_elements(xroot)) \n",
    "    map(get_wsd_case, nodes) |> collect    \n",
    "end"
   ]
  },
  {
   "cell_type": "code",
   "execution_count": null,
   "metadata": {
    "collapsed": false,
    "scrolled": true
   },
   "outputs": [],
   "source": [
    "#cases = load_semeval(\"./data/corpora/semeval2007t2/trial_data/English.LS.txt\");"
   ]
  },
  {
   "cell_type": "markdown",
   "metadata": {},
   "source": [
    "# What makes a particular set of sense embeddings good?\n",
    "Goal here is to define a fittness function for a set of sentence embeddings.  \n",
    "\n",
    "THis is loosely similar to the criteria for a good set of clusters. \n",
    "A good clustering has small varience within the class;\n",
    "and we write:\n",
    "$$g_{fit}(Z=\\{z_1,z_2,...,z_k\\})=\\dfrac{1}{|Z|}{\\sum\\limits_{\\forall z \\in Z}}\\:{\\sum\\limits_{\\forall x\\in \\mathcal{C}(z)}{\\left(x-z\\right)^2}}$$\n",
    "\n",
    "A good sense embeddings assigned a high probability of its context, when it is the highest, and a low probability of its context when it is not highest -- forcing each sense to be different.\n",
    "\n"
   ]
  },
  {
   "cell_type": "code",
   "execution_count": 4,
   "metadata": {
    "collapsed": false
   },
   "outputs": [
    {
     "data": {
      "text/plain": [
       "perplexity (generic function with 2 methods)"
      ]
     },
     "execution_count": 4,
     "metadata": {},
     "output_type": "execute_result"
    }
   ],
   "source": [
    "function perplexity(ee, cases, banned_senses=Dict())\n",
    "    sum_of_logprobs = 0.0\n",
    "    nwords = 0\n",
    "    for case in cases\n",
    "        w_ind = length(case)÷2\n",
    "        word = case[w_ind]\n",
    "        haskey(ee.embedding, word) || continue\n",
    "        context = case[[1:w_ind-1;w_ind+1:end]]\n",
    "        \n",
    "        best_logprob = -Inf\n",
    "        for (s_id, s_emb) in enumerate(ee.embedding[word])\n",
    "            haskey(banned_senses, word) && s_id in banned_senses[word] && continue\n",
    "            best_logprob = max(best_logprob, \n",
    "                logprob_of_context(ee,context, s_emb; \n",
    "            skip_oov=true, normalise_over_length=true ))   \n",
    "        end\n",
    "        nwords+=1\n",
    "        sum_of_logprobs+=best_logprob\n",
    "    end\n",
    "    @show(sum_of_logprobs)\n",
    "    @show(nwords)\n",
    "    cross_entropy = -1.0/nwords * sum_of_logprobs \n",
    "    @show(cross_entropy)\n",
    "    exp(cross_entropy)\n",
    "end"
   ]
  },
  {
   "cell_type": "code",
   "execution_count": null,
   "metadata": {
    "collapsed": false
   },
   "outputs": [],
   "source": [
    "perplexity(ee,cases[end÷2:end])"
   ]
  },
  {
   "cell_type": "code",
   "execution_count": null,
   "metadata": {
    "collapsed": false
   },
   "outputs": [],
   "source": [
    "exp(-4.333793639526367e6 *(-1/548704))\n",
    "#Maximum Perp = 2692.5282875803277\n",
    "#Minimum Perp = 22033.97695332202\n",
    "#Mean Perp = 7596.212357052384\n",
    "#Median Perp = 7550.162665209774"
   ]
  },
  {
   "cell_type": "code",
   "execution_count": 311,
   "metadata": {
    "collapsed": false
   },
   "outputs": [
    {
     "data": {
      "text/plain": [
       "\"\""
      ]
     },
     "execution_count": 311,
     "metadata": {},
     "output_type": "execute_result"
    }
   ],
   "source": [
    "using DataStructures\n",
    "#cases = sliding_window( words_of(\"data/corpora/text8/text8\"))|> collect \n",
    "cases = sliding_window( words_of(\"../test/data/text8_tiny\"))|> collect \n",
    "\n",
    "all_logprobs = DefaultDict(Any,Any, ()->[])\n",
    "for case in cases\n",
    "    w_ind = length(case)÷2\n",
    "    word = case[w_ind]\n",
    "    haskey(ee.embedding, word) || continue\n",
    "    context = case[[1:w_ind-1;w_ind+1:end]]\n",
    "    probs = Float64[logprob_of_context(ee, context, sense_embed; skip_oov=true, normalise_over_length=true)\n",
    "                    for  sense_embed in ee.embedding[word]]\n",
    "    push!(all_logprobs[word], probs)\n",
    "end\n",
    "all_logprobs = Dict([word=>hcat(logprobs_list...)' for (word,logprobs_list) in all_logprobs]) \n",
    "utilisation = Dict(([word=>sum(logprobs_list.==maximum(logprobs_list,2),1)[:] for (word,logprobs_list) in all_logprobs]) )\n",
    "\n",
    "\"\"\n"
   ]
  },
  {
   "cell_type": "code",
   "execution_count": null,
   "metadata": {
    "collapsed": true
   },
   "outputs": [],
   "source": [
    "states"
   ]
  },
  {
   "cell_type": "code",
   "execution_count": 510,
   "metadata": {
    "collapsed": false,
    "scrolled": true
   },
   "outputs": [
    {
     "name": "stdout",
     "output_type": "stream",
     "text": [
      "(10801,\"the\")\n",
      "(6209,\"of\")\n",
      "(4839,\"and\")\n",
      "(3980,\"in\")\n",
      "(3545,\"to\")\n",
      "(3377,\"one\")\n",
      "(3203,\"a\")\n",
      "(2387,\"zero\")\n",
      "(2052,\"is\")\n",
      "(1774,\"nine\")\n",
      "(1752,\"two\")\n",
      "(1440,\"as\")\n",
      "(1356,\"that\")\n",
      "(1344,\"s\")\n",
      "(1207,\"for\")\n",
      "(1178,\"by\")\n",
      "(1071,\"six\")\n",
      "(1065,\"was\")\n",
      "(1043,\"with\")\n",
      "(1042,\"on\")\n",
      "(1013,\"three\")\n",
      "(960,\"five\")\n",
      "(952,\"four\")\n",
      "(937,\"eight\")\n",
      "(857,\"or\")\n",
      "(840,\"are\")\n",
      "(801,\"he\")\n",
      "(795,\"his\")\n",
      "(775,\"from\")\n",
      "(724,\"it\")\n",
      "(701,\"an\")\n",
      "(685,\"seven\")\n",
      "(616,\"be\")\n",
      "(556,\"which\")\n",
      "(555,\"at\")\n",
      "(545,\"this\")\n",
      "(522,\"have\")\n",
      "(503,\"not\")\n",
      "(462,\"also\")\n",
      "(417,\"has\")\n",
      "(369,\"other\")\n",
      "(362,\"some\")\n",
      "(353,\"they\")\n",
      "(350,\"who\")\n",
      "(337,\"were\")\n",
      "(334,\"lincoln\")\n",
      "(329,\"but\")\n",
      "(325,\"their\")\n",
      "(320,\"such\")\n",
      "(314,\"all\")\n",
      "(297,\"most\")\n",
      "(292,\"many\")\n",
      "(292,\"had\")\n",
      "(289,\"more\")\n",
      "(265,\"its\")\n",
      "(260,\"people\")\n",
      "(260,\"states\")\n",
      "(260,\"been\")\n",
      "(257,\"world\")\n",
      "(253,\"first\")\n",
      "(252,\"can\")\n",
      "(249,\"gore\")\n",
      "(237,\"state\")\n",
      "(234,\"into\")\n",
      "(232,\"these\")\n",
      "(231,\"there\")\n",
      "(230,\"when\")\n",
      "(230,\"than\")\n",
      "(222,\"after\")\n",
      "(216,\"time\")\n",
      "(212,\"would\")\n",
      "(211,\"only\")\n",
      "(207,\"new\")\n",
      "(202,\"war\")\n",
      "(202,\"alaska\")\n",
      "(201,\"united\")\n",
      "(201,\"american\")\n",
      "(200,\"used\")\n",
      "(199,\"may\")\n",
      "(197,\"her\")\n",
      "(187,\"about\")\n",
      "(182,\"africa\")\n",
      "(173,\"will\")\n",
      "(172,\"no\")\n",
      "(171,\"rand\")\n",
      "(170,\"history\")\n",
      "(168,\"however\")\n",
      "(166,\"see\")\n",
      "(166,\"while\")\n",
      "(165,\"him\")\n",
      "(162,\"apollo\")\n",
      "(160,\"autism\")\n",
      "(160,\"between\")\n",
      "(159,\"she\")\n",
      "(157,\"them\")\n",
      "(156,\"years\")\n",
      "(156,\"often\")\n",
      "(152,\"so\")\n",
      "(152,\"anchorage\")\n",
      "(152,\"during\")\n"
     ]
    }
   ],
   "source": [
    "for ii in sort([(sum(uses), word)  for (word, uses) in utilisation], by=first, rev=true)[1:100]\n",
    "    println(ii)\n",
    "end"
   ]
  },
  {
   "cell_type": "code",
   "execution_count": 320,
   "metadata": {
    "collapsed": false
   },
   "outputs": [],
   "source": [
    "cost_to_replace = Dict()\n",
    "for (word, logprobs) in all_logprobs\n",
    "    cost_to_replace[word]=zeros(size(logprobs,2),size(logprobs,2))\n",
    "    for case in 1:size(logprobs,1)\n",
    "        best_sense_logprob, best_sense = findmax(logprobs[case,:])\n",
    "        #Only the best sense count for scored -- the is no cost to replace 2nd best with third best\n",
    "        for r_sense in 1:size(logprobs,2)\n",
    "            cost_to_replace[word][best_sense, r_sense]=best_sense_logprob-logprobs[case,r_sense]\n",
    "        end\n",
    "    end\n",
    "end"
   ]
  },
  {
   "cell_type": "code",
   "execution_count": 537,
   "metadata": {
    "collapsed": false
   },
   "outputs": [
    {
     "data": {
      "text/plain": [
       "19×19 Array{Float64,2}:\n",
       " 0.0        2.54502   1.4705     0.747594  …  0.171065  0.387868  0.481196\n",
       " 2.10915    0.0       0.848313   2.50009      3.44351   2.80977   2.87505 \n",
       " 1.73362    0.133175  0.0        1.4767       2.83652   1.84249   2.53695 \n",
       " 2.76301    3.58663   1.03095    0.0          2.80736   2.45583   1.24208 \n",
       " 0.265012   1.92127   1.16995    0.839119     0.504779  0.529504  0.324494\n",
       " 2.12025    1.78123   2.75071    2.91936   …  1.80665   1.9192    1.26433 \n",
       " 0.487679   1.88354   0.672331   1.07847      2.00457   0.393691  0.713635\n",
       " 1.93705    1.07782   1.04896    2.81323      1.2937    2.60791   2.76178 \n",
       " 0.340647   0.186918  0.0543275  0.560583     1.00706   0.060636  1.11346 \n",
       " 1.4497     0.109275  0.227316   2.23877      2.65673   2.45604   2.81369 \n",
       " 1.60795    2.10471   1.3429     3.59173   …  0.3011    1.19374   0.74599 \n",
       " 0.923765   1.03447   0.193937   0.612883     0.756638  0.610395  1.04883 \n",
       " 1.41708    2.26619   1.30742    2.86765      0.130543  2.14298   1.88474 \n",
       " 0.921873   2.50649   2.13422    1.71807      0.971558  0.976176  0.882166\n",
       " 0.427194   1.64861   2.05726    1.56024      0.22862   0.605067  0.165204\n",
       " 2.41555    3.59221   0.734055   0.76251   …  2.98658   1.68512   1.00299 \n",
       " 0.827125   2.32132   1.42707    1.99595      0.0       1.71353   1.70283 \n",
       " 0.441621   2.25571   1.87443    0.964048     1.74526   0.0       1.14494 \n",
       " 0.0646067  2.35517   1.23394    0.661315     1.08892   1.12058   0.0     "
      ]
     },
     "execution_count": 537,
     "metadata": {},
     "output_type": "execute_result"
    }
   ],
   "source": [
    "r=cost_to_replace[\"australia\"]\n",
    "fr=r[[1:7;9:end],[1:7;9:end]]"
   ]
  },
  {
   "cell_type": "code",
   "execution_count": null,
   "metadata": {
    "collapsed": false
   },
   "outputs": [],
   "source": [
    "function cost_of_selection(costs_to_replace, sel)\n",
    "    remaining = trues(size(costs_to_replace,1))\n",
    "    remaining[sel]=false\n",
    "    costs = costs_to_replace[remaining,remaining]\n",
    "end"
   ]
  },
  {
   "cell_type": "code",
   "execution_count": 541,
   "metadata": {
    "collapsed": false
   },
   "outputs": [
    {
     "data": {
      "text/plain": [
       "18×18 Array{Float64,2}:\n",
       " 0.0        1.4705     0.747594  1.16773   …  0.171065  0.387868  0.481196\n",
       " 1.73362    0.0        1.4767    1.31031      2.83652   1.84249   2.53695 \n",
       " 2.76301    1.03095    0.0       1.90659      2.80736   2.45583   1.24208 \n",
       " 0.265012   1.16995    0.839119  0.0          0.504779  0.529504  0.324494\n",
       " 2.12025    2.75071    2.91936   2.11603      1.80665   1.9192    1.26433 \n",
       " 0.487679   0.672331   1.07847   0.714895  …  2.00457   0.393691  0.713635\n",
       " 1.93705    1.04896    2.81323   1.34981      1.2937    2.60791   2.76178 \n",
       " 0.340647   0.0543275  0.560583  1.31513      1.00706   0.060636  1.11346 \n",
       " 1.4497     0.227316   2.23877   1.96435      2.65673   2.45604   2.81369 \n",
       " 1.60795    1.3429     3.59173   0.251378     0.3011    1.19374   0.74599 \n",
       " 0.923765   0.193937   0.612883  1.21188   …  0.756638  0.610395  1.04883 \n",
       " 1.41708    1.30742    2.86765   0.852775     0.130543  2.14298   1.88474 \n",
       " 0.921873   2.13422    1.71807   0.762714     0.971558  0.976176  0.882166\n",
       " 0.427194   2.05726    1.56024   0.570702     0.22862   0.605067  0.165204\n",
       " 2.41555    0.734055   0.76251   1.63018      2.98658   1.68512   1.00299 \n",
       " 0.827125   1.42707    1.99595   0.162247  …  0.0       1.71353   1.70283 \n",
       " 0.441621   1.87443    0.964048  1.7955       1.74526   0.0       1.14494 \n",
       " 0.0646067  1.23394    0.661315  0.498317     1.08892   1.12058   0.0     "
      ]
     },
     "execution_count": 541,
     "metadata": {},
     "output_type": "execute_result"
    }
   ],
   "source": [
    "cost_of_selection(fr,[2])"
   ]
  },
  {
   "cell_type": "code",
   "execution_count": 545,
   "metadata": {
    "collapsed": false
   },
   "outputs": [
    {
     "data": {
      "text/plain": [
       "Clustering.Hclust{Float64}(18×2 Array{Int64,2}:\n",
       "  -2  -10\n",
       "  -3    1\n",
       "  -5  -11\n",
       "  -9    2\n",
       " -12    4\n",
       "  -1  -19\n",
       " -17    3\n",
       " -14  -15\n",
       "   7    8\n",
       "  -4  -16\n",
       "   6    9\n",
       " -18   11\n",
       "  -8    5\n",
       "  -7   13\n",
       "  10   12\n",
       "  -6   15\n",
       " -13   16\n",
       "  14   17,[0.123003,0.249293,0.375642,0.386068,0.468959,0.545803,0.667027,0.670486,0.762837,0.779374,0.822811,0.825669,0.894729,1.06402,1.0769,1.11167,1.29125,1.36619],[1,2,3,4,5,6,7,8,9,10,11,12,13,14,15,16,17,18,19],[1,2,3,4,5,6,7,8,9,10,11,12,13,14,15,16,17,18,19],:single)"
      ]
     },
     "execution_count": 545,
     "metadata": {},
     "output_type": "execute_result"
    }
   ],
   "source": [
    "res=hclust(fr+fr', :single)\n"
   ]
  },
  {
   "cell_type": "code",
   "execution_count": 551,
   "metadata": {
    "collapsed": false
   },
   "outputs": [
    {
     "data": {
      "text/plain": [
       "19-element Array{Int64,1}:\n",
       " 2\n",
       " 3\n",
       " 3\n",
       " 1\n",
       " 2\n",
       " 4\n",
       " 5\n",
       " 3\n",
       " 3\n",
       " 3\n",
       " 2\n",
       " 3\n",
       " 6\n",
       " 2\n",
       " 2\n",
       " 1\n",
       " 2\n",
       " 2\n",
       " 2"
      ]
     },
     "execution_count": 551,
     "metadata": {},
     "output_type": "execute_result"
    }
   ],
   "source": [
    "cutree(res; k=6)"
   ]
  },
  {
   "cell_type": "code",
   "execution_count": 521,
   "metadata": {
    "collapsed": false
   },
   "outputs": [
    {
     "name": "stderr",
     "output_type": "stream",
     "text": [
      "WARNING: Method definition repeat_kmediods(Any, Any, Any) in module Main at In[477]:2 overwritten at In[521]:2.\n"
     ]
    },
    {
     "data": {
      "text/plain": [
       "repeat_kmediods (generic function with 1 method)"
      ]
     },
     "execution_count": 521,
     "metadata": {},
     "output_type": "execute_result"
    }
   ],
   "source": [
    "function repeat_kmediods(costs,k, rounds)\n",
    "    best_total_cost=Inf\n",
    "    best_res = nothing\n",
    "    for round_ii in 1:rounds\n",
    "        res = kmedoids(costs,k)\n",
    "        if res.totalcost<best_total_cost\n",
    "            best_res=res\n",
    "        end\n",
    "    end\n",
    "    best_res\n",
    "end"
   ]
  },
  {
   "cell_type": "code",
   "execution_count": 522,
   "metadata": {
    "collapsed": false,
    "scrolled": true
   },
   "outputs": [
    {
     "name": "stdout",
     "output_type": "stream",
     "text": [
      "2\t\n",
      "silhouettes(res,fr) |> mean = 0.142719883829306\n",
      "res.totalcost = 8.777563095092773\n",
      "p_score - res.totalcost = Inf\n",
      "3\t\n",
      "silhouettes(res,fr) |> mean = 0.16394798980616282\n",
      "res.totalcost = 4.228608131408691\n",
      "p_score - res.totalcost = 4.548954963684082\n",
      "4\t\n",
      "silhouettes(res,fr) |> mean = 0.2890830686560084\n",
      "res.totalcost = 3.068222999572754\n",
      "p_score - res.totalcost = 1.1603851318359375\n",
      "5\t\n",
      "silhouettes(res,fr) |> mean = 0.26202973071315416\n",
      "res.totalcost = 2.445246696472168\n",
      "p_score - res.totalcost = 0.6229763031005859\n",
      "6\t\n",
      "silhouettes(res,fr) |> mean = 0.083011927544262\n",
      "res.totalcost = 2.740838050842285\n",
      "p_score - res.totalcost = -0.2955913543701172\n",
      "7\t\n",
      "silhouettes(res,fr) |> mean = 0.24862801555476574\n",
      "res.totalcost = 1.6659598350524902\n",
      "p_score - res.totalcost = 1.074878215789795\n",
      "8\t\n",
      "silhouettes(res,fr) |> mean = 0.3034015839544726\n",
      "res.totalcost = 2.340773105621338\n",
      "p_score - res.totalcost = -0.6748132705688477\n",
      "9\t\n",
      "silhouettes(res,fr) |> mean = 0.38596367016033883\n",
      "res.totalcost = 1.6469249725341797\n",
      "p_score - res.totalcost = 0.6938481330871582\n",
      "10\t\n",
      "silhouettes(res,fr) |> mean = 0.1275961767994498\n",
      "res.totalcost = 1.9846735000610352\n",
      "p_score - res.totalcost = -0.33774852752685547\n",
      "11\t\n",
      "silhouettes(res,fr) |> mean = 0.17207872301799026\n",
      "res.totalcost = 1.8455734252929688\n",
      "p_score - res.totalcost = 0.1391000747680664\n",
      "12\t\n",
      "silhouettes(res,fr) |> mean = 0.41128751136751024\n",
      "res.totalcost = 0.9665822982788086\n",
      "p_score - res.totalcost = 0.8789911270141602\n",
      "13\t\n",
      "silhouettes(res,fr) |> mean = 0.42159095952734493\n",
      "res.totalcost = 0.8839616775512695\n",
      "p_score - res.totalcost = 0.08262062072753906\n",
      "14\t\n",
      "silhouettes(res,fr) |> mean = 0.5837918202002023\n",
      "res.totalcost = 0.46756505966186523\n",
      "p_score - res.totalcost = 0.4163966178894043\n",
      "15\t\n",
      "silhouettes(res,fr) |> mean = 0.7126332586492009\n",
      "res.totalcost = 0.6129684448242188\n",
      "p_score - res.totalcost = -0.14540338516235352\n",
      "16\t\n",
      "silhouettes(res,fr) |> mean = 0.737439823712101\n",
      "res.totalcost = 0.3584103584289551\n",
      "p_score - res.totalcost = 0.25455808639526367\n",
      "17\t\n",
      "silhouettes(res,fr) |> mean = 0.8135024546457733\n",
      "res.totalcost = 0.3446826934814453\n",
      "p_score - res.totalcost = 0.013727664947509766\n",
      "18\t\n",
      "silhouettes(res,fr) |> mean = 0.9532554982006903\n",
      "res.totalcost = 0.05432748794555664\n",
      "p_score - res.totalcost = 0.29035520553588867\n",
      "19\t\n",
      "silhouettes(res,fr) |> mean = 1.0\n",
      "res.totalcost = 0.0\n",
      "p_score - res.totalcost = 0.05432748794555664\n",
      "  0.628113 seconds (41.86 k allocations: 2.242 MB, 92.62% gc time)\n"
     ]
    }
   ],
   "source": [
    "p_score = Inf\n",
    "@time for k in 2:size(fr,1)\n",
    "    res = repeat_kmediods(fr,k,10)\n",
    "    #@show silhouettes(res,fr)\n",
    "    println(k,\"\\t\")\n",
    "    @show silhouettes(res,fr) |> mean\n",
    "    @show res.totalcost\n",
    "    \n",
    "    @show p_score-res.totalcost\n",
    "    p_score=res.totalcost\n",
    "end"
   ]
  },
  {
   "cell_type": "code",
   "execution_count": 502,
   "metadata": {
    "collapsed": false
   },
   "outputs": [
    {
     "name": "stdout",
     "output_type": "stream",
     "text": [
      "Affinity propagation converged with 29 iterations: 19 exemplars.\n"
     ]
    },
    {
     "data": {
      "text/plain": [
       "1.0"
      ]
     },
     "execution_count": 502,
     "metadata": {},
     "output_type": "execute_result"
    }
   ],
   "source": [
    "lr= r[[1:7;9:end],[1:7;9:end]]\n",
    "lr[diagind(lr)]=0.0\n",
    "sim=lr\n",
    "silhouettes(affinityprop(maximum(lr).-lr,display=:final),lr)|> mean"
   ]
  },
  {
   "cell_type": "code",
   "execution_count": 524,
   "metadata": {
    "collapsed": false
   },
   "outputs": [
    {
     "name": "stdout",
     "output_type": "stream",
     "text": [
      "Affinity propagation converged with 38 iterations: 3 exemplars.\n"
     ]
    },
    {
     "data": {
      "text/plain": [
       "-0.2619749908459709"
      ]
     },
     "execution_count": 524,
     "metadata": {},
     "output_type": "execute_result"
    }
   ],
   "source": [
    "silhouettes(affinityprop(r,display=:final),r)|> mean"
   ]
  },
  {
   "cell_type": "code",
   "execution_count": 498,
   "metadata": {
    "collapsed": false
   },
   "outputs": [
    {
     "name": "stdout",
     "output_type": "stream",
     "text": [
      "search: diagind disable_sigint SeedingAlgorithm\n",
      "\n"
     ]
    },
    {
     "data": {
      "text/latex": [
       "\\begin{verbatim}\n",
       "diagind(M[, k])\n",
       "\\end{verbatim}\n",
       "A \\texttt{Range} giving the indices of the \\texttt{k}th diagonal of the matrix \\texttt{M}.\n"
      ],
      "text/markdown": [
       "```\n",
       "diagind(M[, k])\n",
       "```\n",
       "\n",
       "A `Range` giving the indices of the `k`th diagonal of the matrix `M`.\n"
      ],
      "text/plain": [
       "```\n",
       "diagind(M[, k])\n",
       "```\n",
       "\n",
       "A `Range` giving the indices of the `k`th diagonal of the matrix `M`.\n"
      ]
     },
     "execution_count": 498,
     "metadata": {},
     "output_type": "execute_result"
    }
   ],
   "source": [
    "?diagind"
   ]
  },
  {
   "cell_type": "code",
   "execution_count": 463,
   "metadata": {
    "collapsed": false
   },
   "outputs": [
    {
     "name": "stdout",
     "output_type": "stream",
     "text": [
      "Affinity propagation converged with 49 iterations: 5 exemplars.\n",
      "true_examplars = [7,10,11,13,18]\n",
      "true_assignments = [11,18,18,7,13,13,7,10,10,11,11,13,10,13,13,11,18,11,10]\n",
      "--\n",
      "[((\"list\",8),0.59148026f0),((\"and\",20),0.614841f0),((\"official\",13),0.624194f0),((\"general\",18),0.62567335f0),((\"members\",15),0.629411f0)]\n",
      "*[((\"cartoonist\",16),0.647694f0),((\"modernisation\",1),0.6486087f0),((\"april\",13),0.66997445f0),((\"becoming\",20),0.6734446f0),((\"american\",8),0.68248886f0)]\n",
      "\n",
      "[((\"south\",12),0.4463454f0),((\"wales\",19),0.4847467f0),((\"new\",3),0.5076965f0),((\"zealand\",17),0.51473045f0),((\"victoria\",11),0.51839817f0)]\n",
      "*[((\"aclu\",4),0.6944263f0),((\"affects\",1),0.69619596f0),((\"requested\",17),0.69798505f0),((\"enhanced\",19),0.7001114f0),((\"duchy\",1),0.70312595f0)]\n",
      "[((\"south\",17),0.34426063f0),((\"japan\",14),0.37043744f0),((\"africa\",7),0.3789521f0),((\"and\",6),0.38012308f0),((\"east\",9),0.3821984f0)]\n",
      "[((\"europe\",18),0.48324925f0),((\"countries\",18),0.49733496f0),((\"canada\",15),0.5158184f0),((\"many\",1),0.53822476f0),((\"television\",7),0.54350066f0)]\n",
      "\n",
      "[((\"ireland\",16),0.64708966f0),((\"britain\",16),0.64880353f0),((\"especially\",9),0.6513231f0),((\"provided\",15),0.67011666f0),((\"particularly\",20),0.6725949f0)]\n",
      "*[((\"won\",12),0.67440736f0),((\"the\",6),0.6763311f0),((\"england\",14),0.6785213f0),((\"bishops\",13),0.6839303f0),((\"city\",7),0.6852726f0)]\n",
      "[((\"eastern\",1),0.45826256f0),((\"india\",12),0.48450494f0),((\"in\",1),0.48777324f0),((\"central\",19),0.4917227f0),((\"canada\",3),0.49812436f0)]\n",
      "[((\"australian\",12),0.42347747f0),((\"international\",20),0.44074863f0),((\"england\",11),0.47114956f0),((\"uk\",4),0.47835565f0),((\"an\",3),0.47924346f0)]\n",
      "[((\"many\",8),0.43426085f0),((\"in\",15),0.47859168f0),((\"and\",20),0.48893946f0),((\"a\",11),0.4949652f0),((\"uk\",14),0.4982586f0)]\n",
      "\n",
      "[((\"western\",13),0.4191454f0),((\"town\",10),0.42082667f0),((\"queensland\",4),0.43156624f0),((\"wales\",18),0.45057023f0),((\"south\",12),0.45707417f0)]\n",
      "[((\"zealand\",17),0.51816374f0),((\"match\",1),0.51989126f0),((\"us\",14),0.5360247f0),((\"test\",15),0.5406124f0),((\"first\",13),0.5431219f0)]\n",
      "*[((\"eight\",3),0.6424203f0),((\"b\",8),0.66651416f0),((\"nsw\",1),0.6762165f0),((\"three\",4),0.684096f0),((\"nine\",6),0.6855695f0)]\n",
      "[((\"broke\",1),0.6366043f0),((\"july\",5),0.6627748f0),((\"zealand\",17),0.6700146f0),((\"question\",20),0.6760824f0),((\"the\",11),0.67849857f0)]\n",
      "[((\"advance\",6),0.48215127f0),((\"canada\",20),0.5794129f0),((\"britain\",20),0.5893681f0),((\"france\",9),0.60055745f0),((\"germany\",6),0.6300453f0)]\n",
      "\n",
      "[((\"deaths\",18),0.6309011f0),((\"sir\",20),0.6614016f0),((\"morgan\",1),0.6741953f0),((\"west\",18),0.6777778f0),((\"isbn\",5),0.67834324f0)]\n",
      "[((\"prime\",13),0.2473808f0),((\"minister\",20),0.31629658f0),((\"prime\",1),0.32216263f0),((\"ministers\",4),0.34331042f0),((\"minister\",3),0.36456484f0)]\n",
      "*[((\"zealand\",12),0.18529892f0),((\"new\",3),0.24071127f0),((\"canada\",3),0.2889933f0),((\"kingdom\",6),0.36203885f0),((\"netherlands\",18),0.38124573f0)]\n",
      "\n"
     ]
    }
   ],
   "source": [
    "print_clusters(affinityprop(lr,display=:final))"
   ]
  },
  {
   "cell_type": "code",
   "execution_count": 483,
   "metadata": {
    "collapsed": false
   },
   "outputs": [
    {
     "name": "stdout",
     "output_type": "stream",
     "text": [
      "true_examplars = [19,10,18,1,4]\n",
      "true_assignments = [1,10,10,4,18,10,10,10,10,10,10,10,1,1,19,4,18,19,1]\n",
      "--\n",
      "[((\"advance\",6),0.48215127f0),((\"canada\",20),0.5794129f0),((\"britain\",20),0.5893681f0),((\"france\",9),0.60055745f0),((\"germany\",6),0.6300453f0)]\n",
      "*[((\"many\",8),0.43426085f0),((\"in\",15),0.47859168f0),((\"and\",20),0.48893946f0),((\"a\",11),0.4949652f0),((\"uk\",14),0.4982586f0)]\n",
      "\n",
      "[((\"deaths\",18),0.6309011f0),((\"sir\",20),0.6614016f0),((\"morgan\",1),0.6741953f0),((\"west\",18),0.6777778f0),((\"isbn\",5),0.67834324f0)]\n",
      "[((\"prime\",13),0.2473808f0),((\"minister\",20),0.31629658f0),((\"prime\",1),0.32216263f0),((\"ministers\",4),0.34331042f0),((\"minister\",3),0.36456484f0)]\n",
      "[((\"zealand\",17),0.51816374f0),((\"match\",1),0.51989126f0),((\"us\",14),0.5360247f0),((\"test\",15),0.5406124f0),((\"first\",13),0.5431219f0)]\n",
      "[((\"cartoonist\",16),0.647694f0),((\"modernisation\",1),0.6486087f0),((\"april\",13),0.66997445f0),((\"becoming\",20),0.6734446f0),((\"american\",8),0.68248886f0)]\n",
      "[((\"south\",12),0.4463454f0),((\"wales\",19),0.4847467f0),((\"new\",3),0.5076965f0),((\"zealand\",17),0.51473045f0),((\"victoria\",11),0.51839817f0)]\n",
      "*[((\"aclu\",4),0.6944263f0),((\"affects\",1),0.69619596f0),((\"requested\",17),0.69798505f0),((\"enhanced\",19),0.7001114f0),((\"duchy\",1),0.70312595f0)]\n",
      "[((\"won\",12),0.67440736f0),((\"the\",6),0.6763311f0),((\"england\",14),0.6785213f0),((\"bishops\",13),0.6839303f0),((\"city\",7),0.6852726f0)]\n",
      "[((\"eastern\",1),0.45826256f0),((\"india\",12),0.48450494f0),((\"in\",1),0.48777324f0),((\"central\",19),0.4917227f0),((\"canada\",3),0.49812436f0)]\n",
      "[((\"eight\",3),0.6424203f0),((\"b\",8),0.66651416f0),((\"nsw\",1),0.6762165f0),((\"three\",4),0.684096f0),((\"nine\",6),0.6855695f0)]\n",
      "\n",
      "[((\"western\",13),0.4191454f0),((\"town\",10),0.42082667f0),((\"queensland\",4),0.43156624f0),((\"wales\",18),0.45057023f0),((\"south\",12),0.45707417f0)]\n",
      "*[((\"zealand\",12),0.18529892f0),((\"new\",3),0.24071127f0),((\"canada\",3),0.2889933f0),((\"kingdom\",6),0.36203885f0),((\"netherlands\",18),0.38124573f0)]\n",
      "\n",
      "*[((\"ireland\",16),0.64708966f0),((\"britain\",16),0.64880353f0),((\"especially\",9),0.6513231f0),((\"provided\",15),0.67011666f0),((\"particularly\",20),0.6725949f0)]\n",
      "[((\"south\",17),0.34426063f0),((\"japan\",14),0.37043744f0),((\"africa\",7),0.3789521f0),((\"and\",6),0.38012308f0),((\"east\",9),0.3821984f0)]\n",
      "[((\"broke\",1),0.6366043f0),((\"july\",5),0.6627748f0),((\"zealand\",17),0.6700146f0),((\"question\",20),0.6760824f0),((\"the\",11),0.67849857f0)]\n",
      "[((\"europe\",18),0.48324925f0),((\"countries\",18),0.49733496f0),((\"canada\",15),0.5158184f0),((\"many\",1),0.53822476f0),((\"television\",7),0.54350066f0)]\n",
      "\n",
      "*[((\"list\",8),0.59148026f0),((\"and\",20),0.614841f0),((\"official\",13),0.624194f0),((\"general\",18),0.62567335f0),((\"members\",15),0.629411f0)]\n",
      "[((\"australian\",12),0.42347747f0),((\"international\",20),0.44074863f0),((\"england\",11),0.47114956f0),((\"uk\",4),0.47835565f0),((\"an\",3),0.47924346f0)]\n",
      "\n"
     ]
    }
   ],
   "source": [
    "print_clusters(kmedoids(fr,5))"
   ]
  },
  {
   "cell_type": "code",
   "execution_count": 418,
   "metadata": {
    "collapsed": false
   },
   "outputs": [
    {
     "data": {
      "text/plain": [
       "19-element Array{Int64,1}:\n",
       " 1\n",
       " 2\n",
       " 2\n",
       " 1\n",
       " 1\n",
       " 2\n",
       " 1\n",
       " 2\n",
       " 2\n",
       " 2\n",
       " 1\n",
       " 2\n",
       " 1\n",
       " 1\n",
       " 1\n",
       " 1\n",
       " 1\n",
       " 1\n",
       " 1"
      ]
     },
     "execution_count": 418,
     "metadata": {},
     "output_type": "execute_result"
    }
   ],
   "source": [
    "res=kmedoids(fr,2)\n",
    "res.assignments"
   ]
  },
  {
   "cell_type": "code",
   "execution_count": 372,
   "metadata": {
    "collapsed": false
   },
   "outputs": [
    {
     "data": {
      "text/plain": [
       "Inf"
      ]
     },
     "execution_count": 372,
     "metadata": {},
     "output_type": "execute_result"
    }
   ],
   "source": [
    "fr = r|> copy\n",
    "fr[diagind(fr)]=1.0\n",
    "fr[8,:]=Inf\n",
    "fr[:,8]=Inf\n"
   ]
  },
  {
   "cell_type": "code",
   "execution_count": 371,
   "metadata": {
    "collapsed": false
   },
   "outputs": [
    {
     "name": "stdout",
     "output_type": "stream",
     "text": [
      "search: sub2ind subplot2grid\n",
      "\n"
     ]
    },
    {
     "data": {
      "text/latex": [
       "\\begin{verbatim}\n",
       "sub2ind(dims, i, j, k...) -> index\n",
       "\\end{verbatim}\n",
       "The inverse of \\texttt{ind2sub}, returns the linear index corresponding to the provided subscripts.\n"
      ],
      "text/markdown": [
       "```\n",
       "sub2ind(dims, i, j, k...) -> index\n",
       "```\n",
       "\n",
       "The inverse of `ind2sub`, returns the linear index corresponding to the provided subscripts.\n"
      ],
      "text/plain": [
       "```\n",
       "sub2ind(dims, i, j, k...) -> index\n",
       "```\n",
       "\n",
       "The inverse of `ind2sub`, returns the linear index corresponding to the provided subscripts.\n"
      ]
     },
     "execution_count": 371,
     "metadata": {},
     "output_type": "execute_result"
    }
   ],
   "source": [
    "?sub2ind"
   ]
  },
  {
   "cell_type": "code",
   "execution_count": 362,
   "metadata": {
    "collapsed": false
   },
   "outputs": [
    {
     "data": {
      "text/plain": [
       "(20,1)"
      ]
     },
     "execution_count": 362,
     "metadata": {},
     "output_type": "execute_result"
    }
   ],
   "source": [
    "ret = ind2sub(size(r), indmin(fr))\n",
    "fr[ret...] = Inf\n",
    "ret"
   ]
  },
  {
   "cell_type": "code",
   "execution_count": 363,
   "metadata": {
    "collapsed": false
   },
   "outputs": [
    {
     "data": {
      "text/plain": [
       "145×19 Array{Float64,2}:\n",
       " 0.000502276  0.000316107  0.000428923  …  0.000876247  0.00137192 \n",
       " 0.000829902  0.000218465  0.000576839     0.000678487  0.00123923 \n",
       " 9.79935e-5   1.25864e-5   2.40151e-5      0.000105339  0.000150048\n",
       " 9.94962e-5   1.50496e-5   2.35071e-5      0.000108355  0.000155001\n",
       " 0.000220705  6.96376e-5   0.000315089     0.000562183  0.000624032\n",
       " 7.086e-5     5.47539e-5   0.000137396  …  1.74319e-5   0.000257753\n",
       " 0.00843422   0.00143562   0.00326022      0.00939931   0.0069828  \n",
       " 0.000713116  8.09506e-5   9.55926e-5      0.000259066  0.000331115\n",
       " 0.00148565   0.000260937  0.000223807     0.00107824   0.000617886\n",
       " 0.00281858   0.000307393  0.00257715      0.00480165   0.00219697 \n",
       " 0.000334445  5.06608e-5   0.000275592  …  0.00108302   0.000175337\n",
       " 0.000343419  0.000145396  0.000585987     0.000738764  0.00228387 \n",
       " 0.00293491   0.00264198   0.00325985      0.00296087   0.00467582 \n",
       " ⋮                                      ⋱                          \n",
       " 0.0006459    0.00019573   0.00171678      0.00102693   0.00113999 \n",
       " 0.000192236  5.92677e-5   0.001033        0.000399078  0.000789407\n",
       " 0.000818559  0.000732774  0.00169828   …  0.00111981   0.000722331\n",
       " 0.00107871   0.00888986   0.00380608      0.000535336  0.000501506\n",
       " 0.00214564   0.000481547  0.00117762      0.000884298  0.000893809\n",
       " 0.000163407  6.99048e-5   0.000182346     7.9071e-5    0.000102369\n",
       " 0.000163085  0.000228901  8.68176e-5      0.0001994    0.000383827\n",
       " 0.000405281  4.10182e-5   0.00012587   …  0.000140979  0.000432329\n",
       " 5.22024e-5   3.17649e-5   6.80456e-5      7.89914e-5   0.000123605\n",
       " 0.00453369   0.000355765  0.00104189      0.00307612   0.00280202 \n",
       " 0.00085816   0.000175946  0.000255302     0.000812803  0.000892921\n",
       " 0.00143641   0.00042347   0.000281417     0.00120235   0.00186664 "
      ]
     },
     "execution_count": 363,
     "metadata": {},
     "output_type": "execute_result"
    }
   ],
   "source": [
    "word = \"australia\"\n",
    "uu=utilisation[word]\n",
    "lp = all_logprobs[word]\n",
    "kept_indexes = find(uu)\n",
    "rlp=exp(lp[:,kept_indexes])"
   ]
  },
  {
   "cell_type": "code",
   "execution_count": 196,
   "metadata": {
    "collapsed": false,
    "scrolled": true
   },
   "outputs": [
    {
     "data": {
      "text/plain": [
       "20-element Array{String,1}:\n",
       " \"[((\\\"ireland\\\",16),0.64708966f0),((\\\"britain\\\",16),0.64880353f0),((\\\"especially\\\",9),0.6513231f0),((\\\"provided\\\",15),0.67011666f0),((\\\"particularly\\\",20),0.6725949f0)]\"\n",
       " \"[((\\\"deaths\\\",18),0.6309011f0),((\\\"sir\\\",20),0.6614016f0),((\\\"morgan\\\",1),0.6741953f0),((\\\"west\\\",18),0.6777778f0),((\\\"isbn\\\",5),0.67834324f0)]\"                        \n",
       " \"[((\\\"prime\\\",13),0.2473808f0),((\\\"minister\\\",20),0.31629658f0),((\\\"prime\\\",1),0.32216263f0),((\\\"ministers\\\",4),0.34331042f0),((\\\"minister\\\",3),0.36456484f0)]\"          \n",
       " \"[((\\\"list\\\",8),0.59148026f0),((\\\"and\\\",20),0.614841f0),((\\\"official\\\",13),0.624194f0),((\\\"general\\\",18),0.62567335f0),((\\\"members\\\",15),0.629411f0)]\"                   \n",
       " \"[((\\\"western\\\",13),0.4191454f0),((\\\"town\\\",10),0.42082667f0),((\\\"queensland\\\",4),0.43156624f0),((\\\"wales\\\",18),0.45057023f0),((\\\"south\\\",12),0.45707417f0)]\"            \n",
       " \"[((\\\"zealand\\\",17),0.51816374f0),((\\\"match\\\",1),0.51989126f0),((\\\"us\\\",14),0.5360247f0),((\\\"test\\\",15),0.5406124f0),((\\\"first\\\",13),0.5431219f0)]\"                      \n",
       " \"[((\\\"cartoonist\\\",16),0.647694f0),((\\\"modernisation\\\",1),0.6486087f0),((\\\"april\\\",13),0.66997445f0),((\\\"becoming\\\",20),0.6734446f0),((\\\"american\\\",8),0.68248886f0)]\"   \n",
       " \"[((\\\"matters\\\",20),0.66755116f0),((\\\"ourselves\\\",1),0.6802366f0),((\\\"whites\\\",2),0.68125737f0),((\\\"peace\\\",6),0.68372583f0),((\\\"more\\\",6),0.68429744f0)]\"               \n",
       " \"[((\\\"south\\\",12),0.4463454f0),((\\\"wales\\\",19),0.4847467f0),((\\\"new\\\",3),0.5076965f0),((\\\"zealand\\\",17),0.51473045f0),((\\\"victoria\\\",11),0.51839817f0)]\"                 \n",
       " \"[((\\\"aclu\\\",4),0.6944263f0),((\\\"affects\\\",1),0.69619596f0),((\\\"requested\\\",17),0.69798505f0),((\\\"enhanced\\\",19),0.7001114f0),((\\\"duchy\\\",1),0.70312595f0)]\"             \n",
       " \"[((\\\"won\\\",12),0.67440736f0),((\\\"the\\\",6),0.6763311f0),((\\\"england\\\",14),0.6785213f0),((\\\"bishops\\\",13),0.6839303f0),((\\\"city\\\",7),0.6852726f0)]\"                       \n",
       " \"[((\\\"eastern\\\",1),0.45826256f0),((\\\"india\\\",12),0.48450494f0),((\\\"in\\\",1),0.48777324f0),((\\\"central\\\",19),0.4917227f0),((\\\"canada\\\",3),0.49812436f0)]\"                  \n",
       " \"[((\\\"eight\\\",3),0.6424203f0),((\\\"b\\\",8),0.66651416f0),((\\\"nsw\\\",1),0.6762165f0),((\\\"three\\\",4),0.684096f0),((\\\"nine\\\",6),0.6855695f0)]\"                                 \n",
       " \"[((\\\"south\\\",17),0.34426063f0),((\\\"japan\\\",14),0.37043744f0),((\\\"africa\\\",7),0.3789521f0),((\\\"and\\\",6),0.38012308f0),((\\\"east\\\",9),0.3821984f0)]\"                       \n",
       " \"[((\\\"broke\\\",1),0.6366043f0),((\\\"july\\\",5),0.6627748f0),((\\\"zealand\\\",17),0.6700146f0),((\\\"question\\\",20),0.6760824f0),((\\\"the\\\",11),0.67849857f0)]\"                    \n",
       " \"[((\\\"advance\\\",6),0.48215127f0),((\\\"canada\\\",20),0.5794129f0),((\\\"britain\\\",20),0.5893681f0),((\\\"france\\\",9),0.60055745f0),((\\\"germany\\\",6),0.6300453f0)]\"              \n",
       " \"[((\\\"australian\\\",12),0.42347747f0),((\\\"international\\\",20),0.44074863f0),((\\\"england\\\",11),0.47114956f0),((\\\"uk\\\",4),0.47835565f0),((\\\"an\\\",3),0.47924346f0)]\"         \n",
       " \"[((\\\"zealand\\\",12),0.18529892f0),((\\\"new\\\",3),0.24071127f0),((\\\"canada\\\",3),0.2889933f0),((\\\"kingdom\\\",6),0.36203885f0),((\\\"netherlands\\\",18),0.38124573f0)]\"           \n",
       " \"[((\\\"many\\\",8),0.43426085f0),((\\\"in\\\",15),0.47859168f0),((\\\"and\\\",20),0.48893946f0),((\\\"a\\\",11),0.4949652f0),((\\\"uk\\\",14),0.4982586f0)]\"                                \n",
       " \"[((\\\"europe\\\",18),0.48324925f0),((\\\"countries\\\",18),0.49733496f0),((\\\"canada\\\",15),0.5158184f0),((\\\"many\\\",1),0.53822476f0),((\\\"television\\\",7),0.54350066f0)]\"         "
      ]
     },
     "execution_count": 196,
     "metadata": {},
     "output_type": "execute_result"
    }
   ],
   "source": [
    "nearests = \"\"\"1\t[Pair{Any,Any}((\"ireland\",16),0.64708966f0),Pair{Any,Any}((\"britain\",16),0.64880353f0),Pair{Any,Any}((\"especially\",9),0.6513231f0),Pair{Any,Any}((\"provided\",15),0.67011666f0),Pair{Any,Any}((\"particularly\",20),0.6725949f0)]\n",
    "2\t[Pair{Any,Any}((\"deaths\",18),0.6309011f0),Pair{Any,Any}((\"sir\",20),0.6614016f0),Pair{Any,Any}((\"morgan\",1),0.6741953f0),Pair{Any,Any}((\"west\",18),0.6777778f0),Pair{Any,Any}((\"isbn\",5),0.67834324f0)]\n",
    "3\t[Pair{Any,Any}((\"prime\",13),0.2473808f0),Pair{Any,Any}((\"minister\",20),0.31629658f0),Pair{Any,Any}((\"prime\",1),0.32216263f0),Pair{Any,Any}((\"ministers\",4),0.34331042f0),Pair{Any,Any}((\"minister\",3),0.36456484f0)]\n",
    "4\t[Pair{Any,Any}((\"list\",8),0.59148026f0),Pair{Any,Any}((\"and\",20),0.614841f0),Pair{Any,Any}((\"official\",13),0.624194f0),Pair{Any,Any}((\"general\",18),0.62567335f0),Pair{Any,Any}((\"members\",15),0.629411f0)]\n",
    "5\t[Pair{Any,Any}((\"western\",13),0.4191454f0),Pair{Any,Any}((\"town\",10),0.42082667f0),Pair{Any,Any}((\"queensland\",4),0.43156624f0),Pair{Any,Any}((\"wales\",18),0.45057023f0),Pair{Any,Any}((\"south\",12),0.45707417f0)]\n",
    "6\t[Pair{Any,Any}((\"zealand\",17),0.51816374f0),Pair{Any,Any}((\"match\",1),0.51989126f0),Pair{Any,Any}((\"us\",14),0.5360247f0),Pair{Any,Any}((\"test\",15),0.5406124f0),Pair{Any,Any}((\"first\",13),0.5431219f0)]\n",
    "7\t[Pair{Any,Any}((\"cartoonist\",16),0.647694f0),Pair{Any,Any}((\"modernisation\",1),0.6486087f0),Pair{Any,Any}((\"april\",13),0.66997445f0),Pair{Any,Any}((\"becoming\",20),0.6734446f0),Pair{Any,Any}((\"american\",8),0.68248886f0)]\n",
    "8\t[Pair{Any,Any}((\"matters\",20),0.66755116f0),Pair{Any,Any}((\"ourselves\",1),0.6802366f0),Pair{Any,Any}((\"whites\",2),0.68125737f0),Pair{Any,Any}((\"peace\",6),0.68372583f0),Pair{Any,Any}((\"more\",6),0.68429744f0)]\n",
    "9\t[Pair{Any,Any}((\"south\",12),0.4463454f0),Pair{Any,Any}((\"wales\",19),0.4847467f0),Pair{Any,Any}((\"new\",3),0.5076965f0),Pair{Any,Any}((\"zealand\",17),0.51473045f0),Pair{Any,Any}((\"victoria\",11),0.51839817f0)]\n",
    "10\t[Pair{Any,Any}((\"aclu\",4),0.6944263f0),Pair{Any,Any}((\"affects\",1),0.69619596f0),Pair{Any,Any}((\"requested\",17),0.69798505f0),Pair{Any,Any}((\"enhanced\",19),0.7001114f0),Pair{Any,Any}((\"duchy\",1),0.70312595f0)]\n",
    "11\t[Pair{Any,Any}((\"won\",12),0.67440736f0),Pair{Any,Any}((\"the\",6),0.6763311f0),Pair{Any,Any}((\"england\",14),0.6785213f0),Pair{Any,Any}((\"bishops\",13),0.6839303f0),Pair{Any,Any}((\"city\",7),0.6852726f0)]\n",
    "12\t[Pair{Any,Any}((\"eastern\",1),0.45826256f0),Pair{Any,Any}((\"india\",12),0.48450494f0),Pair{Any,Any}((\"in\",1),0.48777324f0),Pair{Any,Any}((\"central\",19),0.4917227f0),Pair{Any,Any}((\"canada\",3),0.49812436f0)]\n",
    "13\t[Pair{Any,Any}((\"eight\",3),0.6424203f0),Pair{Any,Any}((\"b\",8),0.66651416f0),Pair{Any,Any}((\"nsw\",1),0.6762165f0),Pair{Any,Any}((\"three\",4),0.684096f0),Pair{Any,Any}((\"nine\",6),0.6855695f0)]\n",
    "14\t[Pair{Any,Any}((\"south\",17),0.34426063f0),Pair{Any,Any}((\"japan\",14),0.37043744f0),Pair{Any,Any}((\"africa\",7),0.3789521f0),Pair{Any,Any}((\"and\",6),0.38012308f0),Pair{Any,Any}((\"east\",9),0.3821984f0)]\n",
    "15\t[Pair{Any,Any}((\"broke\",1),0.6366043f0),Pair{Any,Any}((\"july\",5),0.6627748f0),Pair{Any,Any}((\"zealand\",17),0.6700146f0),Pair{Any,Any}((\"question\",20),0.6760824f0),Pair{Any,Any}((\"the\",11),0.67849857f0)]\n",
    "16\t[Pair{Any,Any}((\"advance\",6),0.48215127f0),Pair{Any,Any}((\"canada\",20),0.5794129f0),Pair{Any,Any}((\"britain\",20),0.5893681f0),Pair{Any,Any}((\"france\",9),0.60055745f0),Pair{Any,Any}((\"germany\",6),0.6300453f0)]\n",
    "17\t[Pair{Any,Any}((\"australian\",12),0.42347747f0),Pair{Any,Any}((\"international\",20),0.44074863f0),Pair{Any,Any}((\"england\",11),0.47114956f0),Pair{Any,Any}((\"uk\",4),0.47835565f0),Pair{Any,Any}((\"an\",3),0.47924346f0)]\n",
    "18\t[Pair{Any,Any}((\"zealand\",12),0.18529892f0),Pair{Any,Any}((\"new\",3),0.24071127f0),Pair{Any,Any}((\"canada\",3),0.2889933f0),Pair{Any,Any}((\"kingdom\",6),0.36203885f0),Pair{Any,Any}((\"netherlands\",18),0.38124573f0)]\n",
    "19\t[Pair{Any,Any}((\"many\",8),0.43426085f0),Pair{Any,Any}((\"in\",15),0.47859168f0),Pair{Any,Any}((\"and\",20),0.48893946f0),Pair{Any,Any}((\"a\",11),0.4949652f0),Pair{Any,Any}((\"uk\",14),0.4982586f0)]\n",
    "20\t[Pair{Any,Any}((\"europe\",18),0.48324925f0),Pair{Any,Any}((\"countries\",18),0.49733496f0),Pair{Any,Any}((\"canada\",15),0.5158184f0),Pair{Any,Any}((\"many\",1),0.53822476f0),Pair{Any,Any}((\"television\",7),0.54350066f0)]\"\"\"\n",
    "nearests =[replace(split(entry,\"\\t\")[2],\"Pair{Any,Any}\",\"\") for entry in split(nearests,\"\\n\")]\n"
   ]
  },
  {
   "cell_type": "code",
   "execution_count": 419,
   "metadata": {
    "collapsed": false
   },
   "outputs": [
    {
     "name": "stderr",
     "output_type": "stream",
     "text": [
      "WARNING: Method definition print_clusters(Any) in module Main at In[273]:2 overwritten at In[419]:4.\n"
     ]
    },
    {
     "data": {
      "text/plain": [
       "print_clusters (generic function with 1 method)"
      ]
     },
     "execution_count": 419,
     "metadata": {},
     "output_type": "execute_result"
    }
   ],
   "source": [
    "exemplars(af::AffinityPropResult) = af.exemplars\n",
    "exemplars(kf::KmedoidsResult) = kf.medoids\n",
    "function print_clusters(af)\n",
    "    true_examplars = kept_indexes[exemplars(af)]\n",
    "    @show true_examplars \n",
    "    true_assignments = true_examplars[assignments(af)];\n",
    "    @show true_assignments\n",
    "    println(\"--\")\n",
    "    for true_exemplar_ii in true_examplars\n",
    "        for (orignal_sense_ii, true_assignment_ii) in enumerate(true_assignments)\n",
    "            true_original_sense_ii = kept_indexes[orignal_sense_ii]\n",
    "            if true_assignment_ii==true_exemplar_ii\n",
    "                if true_original_sense_ii==true_exemplar_ii\n",
    "                    print(\"*\")\n",
    "                end\n",
    "                println(nearests[true_original_sense_ii])\n",
    "            end\n",
    "        end\n",
    "        println()\n",
    "        \n",
    "    end\n",
    "end"
   ]
  },
  {
   "cell_type": "code",
   "execution_count": 364,
   "metadata": {
    "collapsed": false
   },
   "outputs": [
    {
     "name": "stdout",
     "output_type": "stream",
     "text": [
      "Affinity propagation converged with 44 iterations: 3 exemplars.\n",
      "true_examplars = [2,10,11]\n",
      "true_assignments = [10,2,11,11,10,10,10,10,10,11,10,2,2,10,2,2,2,2,2]\n",
      "--\n",
      "*[((\"deaths\",18),0.6309011f0),((\"sir\",20),0.6614016f0),((\"morgan\",1),0.6741953f0),((\"west\",18),0.6777778f0),((\"isbn\",5),0.67834324f0)]\n",
      "[((\"eight\",3),0.6424203f0),((\"b\",8),0.66651416f0),((\"nsw\",1),0.6762165f0),((\"three\",4),0.684096f0),((\"nine\",6),0.6855695f0)]\n",
      "[((\"south\",17),0.34426063f0),((\"japan\",14),0.37043744f0),((\"africa\",7),0.3789521f0),((\"and\",6),0.38012308f0),((\"east\",9),0.3821984f0)]\n",
      "[((\"advance\",6),0.48215127f0),((\"canada\",20),0.5794129f0),((\"britain\",20),0.5893681f0),((\"france\",9),0.60055745f0),((\"germany\",6),0.6300453f0)]\n",
      "[((\"australian\",12),0.42347747f0),((\"international\",20),0.44074863f0),((\"england\",11),0.47114956f0),((\"uk\",4),0.47835565f0),((\"an\",3),0.47924346f0)]\n",
      "[((\"zealand\",12),0.18529892f0),((\"new\",3),0.24071127f0),((\"canada\",3),0.2889933f0),((\"kingdom\",6),0.36203885f0),((\"netherlands\",18),0.38124573f0)]\n",
      "[((\"many\",8),0.43426085f0),((\"in\",15),0.47859168f0),((\"and\",20),0.48893946f0),((\"a\",11),0.4949652f0),((\"uk\",14),0.4982586f0)]\n",
      "[((\"europe\",18),0.48324925f0),((\"countries\",18),0.49733496f0),((\"canada\",15),0.5158184f0),((\"many\",1),0.53822476f0),((\"television\",7),0.54350066f0)]\n",
      "\n",
      "[((\"ireland\",16),0.64708966f0),((\"britain\",16),0.64880353f0),((\"especially\",9),0.6513231f0),((\"provided\",15),0.67011666f0),((\"particularly\",20),0.6725949f0)]\n",
      "[((\"western\",13),0.4191454f0),((\"town\",10),0.42082667f0),((\"queensland\",4),0.43156624f0),((\"wales\",18),0.45057023f0),((\"south\",12),0.45707417f0)]\n",
      "[((\"zealand\",17),0.51816374f0),((\"match\",1),0.51989126f0),((\"us\",14),0.5360247f0),((\"test\",15),0.5406124f0),((\"first\",13),0.5431219f0)]\n",
      "[((\"cartoonist\",16),0.647694f0),((\"modernisation\",1),0.6486087f0),((\"april\",13),0.66997445f0),((\"becoming\",20),0.6734446f0),((\"american\",8),0.68248886f0)]\n",
      "[((\"south\",12),0.4463454f0),((\"wales\",19),0.4847467f0),((\"new\",3),0.5076965f0),((\"zealand\",17),0.51473045f0),((\"victoria\",11),0.51839817f0)]\n",
      "*[((\"aclu\",4),0.6944263f0),((\"affects\",1),0.69619596f0),((\"requested\",17),0.69798505f0),((\"enhanced\",19),0.7001114f0),((\"duchy\",1),0.70312595f0)]\n",
      "[((\"eastern\",1),0.45826256f0),((\"india\",12),0.48450494f0),((\"in\",1),0.48777324f0),((\"central\",19),0.4917227f0),((\"canada\",3),0.49812436f0)]\n",
      "[((\"broke\",1),0.6366043f0),((\"july\",5),0.6627748f0),((\"zealand\",17),0.6700146f0),((\"question\",20),0.6760824f0),((\"the\",11),0.67849857f0)]\n",
      "\n",
      "[((\"prime\",13),0.2473808f0),((\"minister\",20),0.31629658f0),((\"prime\",1),0.32216263f0),((\"ministers\",4),0.34331042f0),((\"minister\",3),0.36456484f0)]\n",
      "[((\"list\",8),0.59148026f0),((\"and\",20),0.614841f0),((\"official\",13),0.624194f0),((\"general\",18),0.62567335f0),((\"members\",15),0.629411f0)]\n",
      "*[((\"won\",12),0.67440736f0),((\"the\",6),0.6763311f0),((\"england\",14),0.6785213f0),((\"bishops\",13),0.6839303f0),((\"city\",7),0.6852726f0)]\n",
      "\n"
     ]
    }
   ],
   "source": [
    "dist = r\n",
    "af=affinityprop(dists, display=:final, damp=0.5, maxiter=200)\n",
    "print_clusters(af)"
   ]
  },
  {
   "cell_type": "code",
   "execution_count": null,
   "metadata": {
    "collapsed": true
   },
   "outputs": [],
   "source": []
  },
  {
   "cell_type": "code",
   "execution_count": 278,
   "metadata": {
    "collapsed": false
   },
   "outputs": [
    {
     "data": {
      "text/plain": [
       "scale_to_range (generic function with 1 method)"
      ]
     },
     "execution_count": 278,
     "metadata": {},
     "output_type": "execute_result"
    }
   ],
   "source": [
    "function scale_to_range(x, xs, ys)\n",
    "    scaled_x = x-minimum(xs)/(maximum(xs)-minimum(xs))\n",
    "    minimum(ys)+scaled_x.*(maximum(ys)-minimum(ys))\n",
    "end"
   ]
  },
  {
   "cell_type": "code",
   "execution_count": 301,
   "metadata": {
    "collapsed": false
   },
   "outputs": [
    {
     "data": {
      "text/plain": [
       "19×19 Array{Float64,2}:\n",
       "  0.0945462    1.50389   -0.0517176  …  -0.865246   -1.16101   -0.525682 \n",
       "  1.50389     -0.231096  -0.923457       2.10792     2.28134    2.38486  \n",
       " -0.0517176   -0.923457   0.0584093      0.680004    0.339451   0.970045 \n",
       " -1.20251      1.66703   -0.226216      -0.0514805  -1.25396   -0.548043 \n",
       " -0.558373     2.01014    0.645534      -1.07327     0.196188  -0.31214  \n",
       " -0.00866698  -0.340877  -0.512689   …   0.438067    0.743241   0.0395598\n",
       " -0.0996641   -0.422912  -0.969897       0.790198    0.137412   0.557045 \n",
       "  0.827596    -0.883476  -0.83002        0.39127     1.81357    1.55693  \n",
       "  0.0496075   -0.361393  -0.72681        0.98309     0.55284    0.416044 \n",
       "  0.887543    -1.4117    -0.967592       1.31207     1.61169    1.3724   \n",
       " -1.04526      1.63166    0.635853   …  -0.809929   -0.58368   -0.823253 \n",
       "  0.373626    -0.876751  -1.25697        1.20308     0.78673    1.58676  \n",
       " -1.04307      1.60449    0.13605       -1.14053    -0.657669  -0.428266 \n",
       " -0.700976     0.789873  -0.238118      -0.252446   -0.590672  -0.614831 \n",
       " -0.752937     2.21502    0.918997      -0.466983   -0.812097  -1.03508  \n",
       " -0.468534     2.61877    0.923253   …   0.200401   -0.566646  -0.632631 \n",
       " -0.865246     2.10792    0.680004      -0.0590585  -0.270874  -0.38598  \n",
       " -1.16101      2.28134    0.339451      -0.270874    0.113345  -0.556214 \n",
       " -0.525682     2.38486    0.970045      -0.38598    -0.556214  -0.0416937"
      ]
     },
     "execution_count": 301,
     "metadata": {},
     "output_type": "execute_result"
    }
   ],
   "source": [
    "dists"
   ]
  },
  {
   "cell_type": "code",
   "execution_count": 484,
   "metadata": {
    "collapsed": false
   },
   "outputs": [
    {
     "name": "stdout",
     "output_type": "stream",
     "text": [
      "Affinity propagation converged with 40 iterations: 2 exemplars.\n",
      "true_examplars = [2,17]\n",
      "true_assignments = [2,2,17,2,2,17,17,17,17,17,2,17,2,2,2,17,2,2,2]\n",
      "--\n",
      "[((\"ireland\",16),0.64708966f0),((\"britain\",16),0.64880353f0),((\"especially\",9),0.6513231f0),((\"provided\",15),0.67011666f0),((\"particularly\",20),0.6725949f0)]\n",
      "*[((\"deaths\",18),0.6309011f0),((\"sir\",20),0.6614016f0),((\"morgan\",1),0.6741953f0),((\"west\",18),0.6777778f0),((\"isbn\",5),0.67834324f0)]\n",
      "[((\"list\",8),0.59148026f0),((\"and\",20),0.614841f0),((\"official\",13),0.624194f0),((\"general\",18),0.62567335f0),((\"members\",15),0.629411f0)]\n",
      "[((\"western\",13),0.4191454f0),((\"town\",10),0.42082667f0),((\"queensland\",4),0.43156624f0),((\"wales\",18),0.45057023f0),((\"south\",12),0.45707417f0)]\n",
      "[((\"eastern\",1),0.45826256f0),((\"india\",12),0.48450494f0),((\"in\",1),0.48777324f0),((\"central\",19),0.4917227f0),((\"canada\",3),0.49812436f0)]\n",
      "[((\"south\",17),0.34426063f0),((\"japan\",14),0.37043744f0),((\"africa\",7),0.3789521f0),((\"and\",6),0.38012308f0),((\"east\",9),0.3821984f0)]\n",
      "[((\"broke\",1),0.6366043f0),((\"july\",5),0.6627748f0),((\"zealand\",17),0.6700146f0),((\"question\",20),0.6760824f0),((\"the\",11),0.67849857f0)]\n",
      "[((\"advance\",6),0.48215127f0),((\"canada\",20),0.5794129f0),((\"britain\",20),0.5893681f0),((\"france\",9),0.60055745f0),((\"germany\",6),0.6300453f0)]\n",
      "[((\"zealand\",12),0.18529892f0),((\"new\",3),0.24071127f0),((\"canada\",3),0.2889933f0),((\"kingdom\",6),0.36203885f0),((\"netherlands\",18),0.38124573f0)]\n",
      "[((\"many\",8),0.43426085f0),((\"in\",15),0.47859168f0),((\"and\",20),0.48893946f0),((\"a\",11),0.4949652f0),((\"uk\",14),0.4982586f0)]\n",
      "[((\"europe\",18),0.48324925f0),((\"countries\",18),0.49733496f0),((\"canada\",15),0.5158184f0),((\"many\",1),0.53822476f0),((\"television\",7),0.54350066f0)]\n",
      "\n",
      "[((\"prime\",13),0.2473808f0),((\"minister\",20),0.31629658f0),((\"prime\",1),0.32216263f0),((\"ministers\",4),0.34331042f0),((\"minister\",3),0.36456484f0)]\n",
      "[((\"zealand\",17),0.51816374f0),((\"match\",1),0.51989126f0),((\"us\",14),0.5360247f0),((\"test\",15),0.5406124f0),((\"first\",13),0.5431219f0)]\n",
      "[((\"cartoonist\",16),0.647694f0),((\"modernisation\",1),0.6486087f0),((\"april\",13),0.66997445f0),((\"becoming\",20),0.6734446f0),((\"american\",8),0.68248886f0)]\n",
      "[((\"south\",12),0.4463454f0),((\"wales\",19),0.4847467f0),((\"new\",3),0.5076965f0),((\"zealand\",17),0.51473045f0),((\"victoria\",11),0.51839817f0)]\n",
      "[((\"aclu\",4),0.6944263f0),((\"affects\",1),0.69619596f0),((\"requested\",17),0.69798505f0),((\"enhanced\",19),0.7001114f0),((\"duchy\",1),0.70312595f0)]\n",
      "[((\"won\",12),0.67440736f0),((\"the\",6),0.6763311f0),((\"england\",14),0.6785213f0),((\"bishops\",13),0.6839303f0),((\"city\",7),0.6852726f0)]\n",
      "[((\"eight\",3),0.6424203f0),((\"b\",8),0.66651416f0),((\"nsw\",1),0.6762165f0),((\"three\",4),0.684096f0),((\"nine\",6),0.6855695f0)]\n",
      "*[((\"australian\",12),0.42347747f0),((\"international\",20),0.44074863f0),((\"england\",11),0.47114956f0),((\"uk\",4),0.47835565f0),((\"an\",3),0.47924346f0)]\n",
      "\n"
     ]
    }
   ],
   "source": [
    "odists=pairwise(CorrDist(),rlp,rlp)\n",
    "dists=(odists-mean(odists))/std(odists)\n",
    "dists[eye(Bool,size(dists,1))]=(mean(rlp,1)-mean(rlp))/std(rlp)\n",
    "\n",
    "af=affinityprop(dists, display=:final, damp=0.5, maxiter=200)\n",
    "print_clusters(af)"
   ]
  },
  {
   "cell_type": "code",
   "execution_count": 485,
   "metadata": {
    "collapsed": false,
    "scrolled": false
   },
   "outputs": [
    {
     "name": "stdout",
     "output_type": "stream",
     "text": [
      "Affinity propagation converged with 33 iterations: 2 exemplars.\n",
      "true_examplars = [5,9]\n",
      "true_assignments = [9,5,5,9,5,9,9,9,9,5,9,5,9,9,9,9,9,9,9]\n",
      "--\n",
      "[((\"deaths\",18),0.6309011f0),((\"sir\",20),0.6614016f0),((\"morgan\",1),0.6741953f0),((\"west\",18),0.6777778f0),((\"isbn\",5),0.67834324f0)]\n",
      "[((\"prime\",13),0.2473808f0),((\"minister\",20),0.31629658f0),((\"prime\",1),0.32216263f0),((\"ministers\",4),0.34331042f0),((\"minister\",3),0.36456484f0)]\n",
      "*[((\"western\",13),0.4191454f0),((\"town\",10),0.42082667f0),((\"queensland\",4),0.43156624f0),((\"wales\",18),0.45057023f0),((\"south\",12),0.45707417f0)]\n",
      "[((\"won\",12),0.67440736f0),((\"the\",6),0.6763311f0),((\"england\",14),0.6785213f0),((\"bishops\",13),0.6839303f0),((\"city\",7),0.6852726f0)]\n",
      "[((\"eight\",3),0.6424203f0),((\"b\",8),0.66651416f0),((\"nsw\",1),0.6762165f0),((\"three\",4),0.684096f0),((\"nine\",6),0.6855695f0)]\n",
      "\n",
      "[((\"ireland\",16),0.64708966f0),((\"britain\",16),0.64880353f0),((\"especially\",9),0.6513231f0),((\"provided\",15),0.67011666f0),((\"particularly\",20),0.6725949f0)]\n",
      "[((\"list\",8),0.59148026f0),((\"and\",20),0.614841f0),((\"official\",13),0.624194f0),((\"general\",18),0.62567335f0),((\"members\",15),0.629411f0)]\n",
      "[((\"zealand\",17),0.51816374f0),((\"match\",1),0.51989126f0),((\"us\",14),0.5360247f0),((\"test\",15),0.5406124f0),((\"first\",13),0.5431219f0)]\n",
      "[((\"cartoonist\",16),0.647694f0),((\"modernisation\",1),0.6486087f0),((\"april\",13),0.66997445f0),((\"becoming\",20),0.6734446f0),((\"american\",8),0.68248886f0)]\n",
      "*[((\"south\",12),0.4463454f0),((\"wales\",19),0.4847467f0),((\"new\",3),0.5076965f0),((\"zealand\",17),0.51473045f0),((\"victoria\",11),0.51839817f0)]\n",
      "[((\"aclu\",4),0.6944263f0),((\"affects\",1),0.69619596f0),((\"requested\",17),0.69798505f0),((\"enhanced\",19),0.7001114f0),((\"duchy\",1),0.70312595f0)]\n",
      "[((\"eastern\",1),0.45826256f0),((\"india\",12),0.48450494f0),((\"in\",1),0.48777324f0),((\"central\",19),0.4917227f0),((\"canada\",3),0.49812436f0)]\n",
      "[((\"south\",17),0.34426063f0),((\"japan\",14),0.37043744f0),((\"africa\",7),0.3789521f0),((\"and\",6),0.38012308f0),((\"east\",9),0.3821984f0)]\n",
      "[((\"broke\",1),0.6366043f0),((\"july\",5),0.6627748f0),((\"zealand\",17),0.6700146f0),((\"question\",20),0.6760824f0),((\"the\",11),0.67849857f0)]\n",
      "[((\"advance\",6),0.48215127f0),((\"canada\",20),0.5794129f0),((\"britain\",20),0.5893681f0),((\"france\",9),0.60055745f0),((\"germany\",6),0.6300453f0)]\n",
      "[((\"australian\",12),0.42347747f0),((\"international\",20),0.44074863f0),((\"england\",11),0.47114956f0),((\"uk\",4),0.47835565f0),((\"an\",3),0.47924346f0)]\n",
      "[((\"zealand\",12),0.18529892f0),((\"new\",3),0.24071127f0),((\"canada\",3),0.2889933f0),((\"kingdom\",6),0.36203885f0),((\"netherlands\",18),0.38124573f0)]\n",
      "[((\"many\",8),0.43426085f0),((\"in\",15),0.47859168f0),((\"and\",20),0.48893946f0),((\"a\",11),0.4949652f0),((\"uk\",14),0.4982586f0)]\n",
      "[((\"europe\",18),0.48324925f0),((\"countries\",18),0.49733496f0),((\"canada\",15),0.5158184f0),((\"many\",1),0.53822476f0),((\"television\",7),0.54350066f0)]\n",
      "\n"
     ]
    }
   ],
   "source": [
    "vlp=rlp.-maximum(rlp,2);\n",
    "dists = pairwise(CorrDist(),vlp,vlp)\n",
    "scaled_preference = scale_to_range(mean(vlp,1), vlp, dists)\n",
    "#dists[eye(Bool,size(dists,1))]=scaled_preference\n",
    "#6*minimum(dists)#+mean(rlp,1)*0.3*(maximum(dists)-minimum(dists))\n",
    "af=affinityprop(dists, display=:final, damp=0.5, maxiter=200)\n",
    "print_clusters(af)\n"
   ]
  },
  {
   "cell_type": "code",
   "execution_count": 486,
   "metadata": {
    "collapsed": false,
    "scrolled": true
   },
   "outputs": [
    {
     "name": "stdout",
     "output_type": "stream",
     "text": [
      "Affinity propagation converged with 44 iterations: 3 exemplars.\n",
      "true_examplars = [2,10,11]\n",
      "true_assignments = [10,2,11,11,10,10,10,10,10,11,10,2,2,10,2,2,2,2,2]\n",
      "--\n",
      "*[((\"deaths\",18),0.6309011f0),((\"sir\",20),0.6614016f0),((\"morgan\",1),0.6741953f0),((\"west\",18),0.6777778f0),((\"isbn\",5),0.67834324f0)]\n",
      "[((\"eight\",3),0.6424203f0),((\"b\",8),0.66651416f0),((\"nsw\",1),0.6762165f0),((\"three\",4),0.684096f0),((\"nine\",6),0.6855695f0)]\n",
      "[((\"south\",17),0.34426063f0),((\"japan\",14),0.37043744f0),((\"africa\",7),0.3789521f0),((\"and\",6),0.38012308f0),((\"east\",9),0.3821984f0)]\n",
      "[((\"advance\",6),0.48215127f0),((\"canada\",20),0.5794129f0),((\"britain\",20),0.5893681f0),((\"france\",9),0.60055745f0),((\"germany\",6),0.6300453f0)]\n",
      "[((\"australian\",12),0.42347747f0),((\"international\",20),0.44074863f0),((\"england\",11),0.47114956f0),((\"uk\",4),0.47835565f0),((\"an\",3),0.47924346f0)]\n",
      "[((\"zealand\",12),0.18529892f0),((\"new\",3),0.24071127f0),((\"canada\",3),0.2889933f0),((\"kingdom\",6),0.36203885f0),((\"netherlands\",18),0.38124573f0)]\n",
      "[((\"many\",8),0.43426085f0),((\"in\",15),0.47859168f0),((\"and\",20),0.48893946f0),((\"a\",11),0.4949652f0),((\"uk\",14),0.4982586f0)]\n",
      "[((\"europe\",18),0.48324925f0),((\"countries\",18),0.49733496f0),((\"canada\",15),0.5158184f0),((\"many\",1),0.53822476f0),((\"television\",7),0.54350066f0)]\n",
      "\n",
      "[((\"ireland\",16),0.64708966f0),((\"britain\",16),0.64880353f0),((\"especially\",9),0.6513231f0),((\"provided\",15),0.67011666f0),((\"particularly\",20),0.6725949f0)]\n",
      "[((\"western\",13),0.4191454f0),((\"town\",10),0.42082667f0),((\"queensland\",4),0.43156624f0),((\"wales\",18),0.45057023f0),((\"south\",12),0.45707417f0)]\n",
      "[((\"zealand\",17),0.51816374f0),((\"match\",1),0.51989126f0),((\"us\",14),0.5360247f0),((\"test\",15),0.5406124f0),((\"first\",13),0.5431219f0)]\n",
      "[((\"cartoonist\",16),0.647694f0),((\"modernisation\",1),0.6486087f0),((\"april\",13),0.66997445f0),((\"becoming\",20),0.6734446f0),((\"american\",8),0.68248886f0)]\n",
      "[((\"south\",12),0.4463454f0),((\"wales\",19),0.4847467f0),((\"new\",3),0.5076965f0),((\"zealand\",17),0.51473045f0),((\"victoria\",11),0.51839817f0)]\n",
      "*[((\"aclu\",4),0.6944263f0),((\"affects\",1),0.69619596f0),((\"requested\",17),0.69798505f0),((\"enhanced\",19),0.7001114f0),((\"duchy\",1),0.70312595f0)]\n",
      "[((\"eastern\",1),0.45826256f0),((\"india\",12),0.48450494f0),((\"in\",1),0.48777324f0),((\"central\",19),0.4917227f0),((\"canada\",3),0.49812436f0)]\n",
      "[((\"broke\",1),0.6366043f0),((\"july\",5),0.6627748f0),((\"zealand\",17),0.6700146f0),((\"question\",20),0.6760824f0),((\"the\",11),0.67849857f0)]\n",
      "\n",
      "[((\"prime\",13),0.2473808f0),((\"minister\",20),0.31629658f0),((\"prime\",1),0.32216263f0),((\"ministers\",4),0.34331042f0),((\"minister\",3),0.36456484f0)]\n",
      "[((\"list\",8),0.59148026f0),((\"and\",20),0.614841f0),((\"official\",13),0.624194f0),((\"general\",18),0.62567335f0),((\"members\",15),0.629411f0)]\n",
      "*[((\"won\",12),0.67440736f0),((\"the\",6),0.6763311f0),((\"england\",14),0.6785213f0),((\"bishops\",13),0.6839303f0),((\"city\",7),0.6852726f0)]\n",
      "\n"
     ]
    }
   ],
   "source": [
    "wv = hcat(ee.embedding[word][find(uu.>0)]...)\n",
    "odists = pairwise(CosineDist(),wv,wv)\n",
    "dists=(odists-mean(odists))/std(odists)\n",
    "dists[eye(Bool,size(dists,1))]=(mean(rlp,1)-mean(rlp))/std(rlp)\n",
    "\n",
    "af=affinityprop(dists, display=:final, damp=0.5, maxiter=200)\n",
    "print_clusters(af)"
   ]
  },
  {
   "cell_type": "code",
   "execution_count": null,
   "metadata": {
    "collapsed": false
   },
   "outputs": [],
   "source": [
    "\n",
    "function kldist(logprobs)\n",
    "    n_samples, n_models = size(logprobs)\n",
    "    distence_matrix = Array(Float64,(n_models,n_models))\n",
    "    for p_i in 1:n_models\n",
    "        for q_i in 1:n_models\n",
    "            distence_matrix[p_i,q_i] = corr_dist((logprobs[:,p_i]),(logprobs[:,q_i]))\n",
    "        end\n",
    "    end\n",
    "    distence_matrix\n",
    "end"
   ]
  },
  {
   "cell_type": "code",
   "execution_count": null,
   "metadata": {
    "collapsed": false
   },
   "outputs": [],
   "source": [
    "kldist(all_logprobs[\"a\"])"
   ]
  },
  {
   "cell_type": "code",
   "execution_count": null,
   "metadata": {
    "collapsed": false
   },
   "outputs": [],
   "source": [
    "kldist(all_logprobs[\"mutual\"])"
   ]
  },
  {
   "cell_type": "code",
   "execution_count": null,
   "metadata": {
    "collapsed": false
   },
   "outputs": [],
   "source": [
    "kldist(all_logprobs[\"for\"])"
   ]
  },
  {
   "cell_type": "code",
   "execution_count": null,
   "metadata": {
    "collapsed": false
   },
   "outputs": [],
   "source": [
    "all_logprobs[\"about\"]"
   ]
  },
  {
   "cell_type": "code",
   "execution_count": null,
   "metadata": {
    "collapsed": false
   },
   "outputs": [],
   "source": [
    "all_logprobs[\"for\"]"
   ]
  },
  {
   "cell_type": "code",
   "execution_count": null,
   "metadata": {
    "collapsed": true
   },
   "outputs": [],
   "source": []
  },
  {
   "cell_type": "code",
   "execution_count": null,
   "metadata": {
    "collapsed": true
   },
   "outputs": [],
   "source": []
  }
 ],
 "metadata": {
  "kernelspec": {
   "display_name": "Julia 0.5.0-dev",
   "language": "julia",
   "name": "julia-0.5"
  },
  "language_info": {
   "file_extension": ".jl",
   "mimetype": "application/julia",
   "name": "julia",
   "version": "0.5.0"
  }
 },
 "nbformat": 4,
 "nbformat_minor": 0
}
