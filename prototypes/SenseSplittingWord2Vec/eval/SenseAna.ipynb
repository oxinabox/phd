{
 "cells": [
  {
   "cell_type": "code",
   "execution_count": 14,
   "metadata": {
    "collapsed": true
   },
   "outputs": [],
   "source": [
    "using WordEmbeddings, SoftmaxClassifier\n",
    "using Utils\n",
    "using Query\n",
    "using Base.Collections"
   ]
  },
  {
   "cell_type": "code",
   "execution_count": 5,
   "metadata": {
    "collapsed": false
   },
   "outputs": [],
   "source": [
    "ee = restore(\"models/ss/text8_50.model_i5.model\");"
   ]
  },
  {
   "cell_type": "code",
   "execution_count": null,
   "metadata": {
    "collapsed": true
   },
   "outputs": [],
   "source": []
  },
  {
   "cell_type": "code",
   "execution_count": 22,
   "metadata": {
    "collapsed": false
   },
   "outputs": [
    {
     "data": {
      "text/plain": [
       "\"man\""
      ]
     },
     "execution_count": 22,
     "metadata": {},
     "output_type": "execute_result"
    }
   ],
   "source": [
    "w_a = \"queen\" \n",
    "w_b = \"king\"\n",
    "w_c = \"man\" \n"
   ]
  },
  {
   "cell_type": "code",
   "execution_count": 23,
   "metadata": {
    "collapsed": false,
    "scrolled": true
   },
   "outputs": [
    {
     "name": "stdout",
     "output_type": "stream",
     "text": [
      "Pair{Any,Any}((\"see\",3),0.35095656f0)\n",
      "Pair{Any,Any}((\"regaining\",2),0.3555531f0)\n",
      "Pair{Any,Any}((\"man\",1),0.34622782f0)\n",
      "Pair{Any,Any}((\"jagiellon\",3),0.38121676f0)\n",
      "Pair{Any,Any}((\"king\",1),0.26080656f0)\n",
      "Pair{Any,Any}((\"man\",1),0.30942267f0)\n",
      "Pair{Any,Any}((\"king\",2),0.35260135f0)\n",
      "Pair{Any,Any}((\"iranic\",4),0.38873947f0)\n",
      "Pair{Any,Any}((\"arctic\",4),0.35116512f0)\n",
      "Pair{Any,Any}((\"king\",2),0.36118346f0)\n",
      "Pair{Any,Any}((\"king\",3),0.3266254f0)\n",
      "Pair{Any,Any}((\"king\",1),0.35135114f0)\n",
      "Pair{Any,Any}((\"nolo\",1),0.34845114f0)\n",
      "Pair{Any,Any}((\"twist\",4),0.39938837f0)\n",
      "Pair{Any,Any}((\"king\",3),0.24015957f0)\n",
      "Pair{Any,Any}((\"man\",1),0.21524191f0)\n",
      "Pair{Any,Any}((\"command\",1),0.36338454f0)\n",
      "Pair{Any,Any}((\"rhymer\",1),0.44759816f0)\n",
      "Pair{Any,Any}((\"necklace\",2),0.36204916f0)\n",
      "Pair{Any,Any}((\"conductivity\",3),0.36690688f0)\n",
      "Pair{Any,Any}((\"man\",1),0.30654925f0)\n",
      "Pair{Any,Any}((\"man\",1),0.2637298f0)\n",
      "Pair{Any,Any}((\"man\",1),0.40649712f0)\n",
      "Pair{Any,Any}((\"references\",4),0.34265906f0)\n",
      "Pair{Any,Any}((\"man\",1),0.34613776f0)\n",
      "Pair{Any,Any}((\"rao\",3),0.35311067f0)\n",
      "Pair{Any,Any}((\"man\",2),0.35861003f0)\n",
      "Pair{Any,Any}((\"stood\",5),0.31926966f0)\n",
      "Pair{Any,Any}((\"baffled\",4),0.36815983f0)\n",
      "Pair{Any,Any}((\"charles\",3),0.3153838f0)\n",
      "Pair{Any,Any}((\"description\",1),0.36943293f0)\n",
      "Pair{Any,Any}((\"man\",2),0.31304705f0)\n",
      "Pair{Any,Any}((\"man\",2),0.4009198f0)\n",
      "Pair{Any,Any}((\"thinking\",5),0.35305107f0)\n",
      "Pair{Any,Any}((\"man\",2),0.34869045f0)\n",
      "Pair{Any,Any}((\"king\",3),0.29897517f0)\n",
      "Pair{Any,Any}((\"grudge\",1),0.3636558f0)\n",
      "Pair{Any,Any}((\"man\",2),0.35734951f0)\n",
      "Pair{Any,Any}((\"negara\",2),0.33604592f0)\n",
      "Pair{Any,Any}((\"king\",3),0.31932497f0)\n",
      "Pair{Any,Any}((\"man\",2),0.20973074f0)\n",
      "Pair{Any,Any}((\"man\",2),0.22776455f0)\n",
      "Pair{Any,Any}((\"man\",2),0.30902803f0)\n",
      "Pair{Any,Any}((\"man\",2),0.2530859f0)\n",
      "Pair{Any,Any}((\"he\",2),0.28394544f0)\n",
      "Pair{Any,Any}((\"man\",3),0.33149523f0)\n",
      "Pair{Any,Any}((\"man\",2),0.21640861f0)\n",
      "Pair{Any,Any}((\"lenz\",5),0.37653273f0)\n",
      "Pair{Any,Any}((\"thinking\",5),0.3506834f0)\n",
      "Pair{Any,Any}((\"man\",2),0.33066064f0)\n",
      "Pair{Any,Any}((\"napoleon\",2),0.36033863f0)\n",
      "Pair{Any,Any}((\"pippin\",3),0.35155565f0)\n",
      "Pair{Any,Any}((\"feroze\",5),0.37842596f0)\n",
      "Pair{Any,Any}((\"pippin\",3),0.38352102f0)\n",
      "Pair{Any,Any}((\"king\",1),0.25733882f0)\n",
      "Pair{Any,Any}((\"book\",5),0.36126304f0)\n",
      "Pair{Any,Any}((\"man\",3),0.3484677f0)\n",
      "Pair{Any,Any}((\"quest\",3),0.3948626f0)\n",
      "Pair{Any,Any}((\"man\",3),0.3783766f0)\n",
      "Pair{Any,Any}((\"king\",2),0.33975577f0)\n",
      "Pair{Any,Any}((\"king\",3),0.3069507f0)\n",
      "Pair{Any,Any}((\"king\",3),0.39763355f0)\n",
      "Pair{Any,Any}((\"mosquitoes\",4),0.3873099f0)\n",
      "Pair{Any,Any}((\"ivan\",5),0.39512002f0)\n",
      "Pair{Any,Any}((\"king\",3),0.2132138f0)\n",
      "Pair{Any,Any}((\"man\",3),0.27074832f0)\n",
      "Pair{Any,Any}((\"man\",3),0.38151866f0)\n",
      "Pair{Any,Any}((\"quest\",3),0.37438303f0)\n",
      "Pair{Any,Any}((\"stripper\",5),0.3561747f0)\n",
      "Pair{Any,Any}((\"grudge\",1),0.37090397f0)\n",
      "Pair{Any,Any}((\"man\",3),0.29278582f0)\n",
      "Pair{Any,Any}((\"man\",3),0.18460661f0)\n",
      "Pair{Any,Any}((\"dr\",2),0.37668175f0)\n",
      "Pair{Any,Any}((\"man\",3),0.31503934f0)\n",
      "Pair{Any,Any}((\"simpson\",3),0.35997158f0)\n",
      "Pair{Any,Any}((\"seleucids\",1),0.38259357f0)\n",
      "Pair{Any,Any}((\"man\",4),0.30222124f0)\n",
      "Pair{Any,Any}((\"man\",4),0.2743067f0)\n",
      "Pair{Any,Any}((\"pleasures\",2),0.37124228f0)\n",
      "Pair{Any,Any}((\"louis\",2),0.3448211f0)\n",
      "Pair{Any,Any}((\"man\",4),0.3125736f0)\n",
      "Pair{Any,Any}((\"man\",4),0.21283424f0)\n",
      "Pair{Any,Any}((\"man\",4),0.29429442f0)\n",
      "Pair{Any,Any}((\"man\",4),0.3168562f0)\n",
      "Pair{Any,Any}((\"man\",4),0.2750972f0)\n",
      "Pair{Any,Any}((\"king\",3),0.33982533f0)\n",
      "Pair{Any,Any}((\"man\",4),0.33189052f0)\n",
      "Pair{Any,Any}((\"man\",4),0.30524892f0)\n",
      "Pair{Any,Any}((\"teodoro\",3),0.42154133f0)\n",
      "Pair{Any,Any}((\"king\",3),0.3230285f0)\n",
      "Pair{Any,Any}((\"man\",4),0.18706995f0)\n",
      "Pair{Any,Any}((\"man\",4),0.20159549f0)\n",
      "Pair{Any,Any}((\"man\",4),0.2825206f0)\n",
      "Pair{Any,Any}((\"man\",4),0.28470063f0)\n",
      "Pair{Any,Any}((\"man\",4),0.30905658f0)\n",
      "Pair{Any,Any}((\"mind\",2),0.253554f0)\n",
      "Pair{Any,Any}((\"man\",4),0.18877572f0)\n",
      "Pair{Any,Any}((\"man\",4),0.35234666f0)\n",
      "Pair{Any,Any}((\"mind\",2),0.37166417f0)\n",
      "Pair{Any,Any}((\"man\",4),0.3332165f0)\n",
      "Pair{Any,Any}((\"poland\",1),0.3728367f0)\n",
      "Pair{Any,Any}((\"regaining\",2),0.3803749f0)\n",
      "Pair{Any,Any}((\"man\",5),0.40982968f0)\n",
      "Pair{Any,Any}((\"negara\",2),0.3405779f0)\n",
      "Pair{Any,Any}((\"leopold\",3),0.31236768f0)\n",
      "Pair{Any,Any}((\"man\",5),0.3380891f0)\n",
      "Pair{Any,Any}((\"man\",5),0.39278555f0)\n",
      "Pair{Any,Any}((\"nationhood\",3),0.4113838f0)\n",
      "Pair{Any,Any}((\"man\",5),0.33624136f0)\n",
      "Pair{Any,Any}((\"man\",5),0.38761336f0)\n",
      "Pair{Any,Any}((\"king\",3),0.31293195f0)\n",
      "Pair{Any,Any}((\"man\",5),0.350879f0)\n",
      "Pair{Any,Any}((\"man\",5),0.28177607f0)\n",
      "Pair{Any,Any}((\"man\",5),0.33528495f0)\n",
      "Pair{Any,Any}((\"king\",3),0.24113631f0)\n",
      "Pair{Any,Any}((\"man\",5),0.2388252f0)\n",
      "Pair{Any,Any}((\"man\",2),0.36252552f0)\n",
      "Pair{Any,Any}((\"serpents\",5),0.4159482f0)\n",
      "Pair{Any,Any}((\"man\",5),0.34366632f0)\n",
      "Pair{Any,Any}((\"broken\",1),0.39763057f0)\n",
      "Pair{Any,Any}((\"man\",5),0.29738265f0)\n",
      "Pair{Any,Any}((\"man\",5),0.25434077f0)\n",
      "Pair{Any,Any}((\"man\",5),0.38712406f0)\n",
      "Pair{Any,Any}((\"man\",5),0.3032254f0)\n",
      "Pair{Any,Any}((\"man\",5),0.33144426f0)\n"
     ]
    }
   ],
   "source": [
    "flat_embed = flatten_embeddings(ee)\n",
    "for (v_a,v_b,v_c) in Base.product((ee.embedding[w] for w in (w_a,w_b,w_c))...)\n",
    "        best=Query.find_nearest_embedding(flat_embed, v_b-v_a+v_c; nwords=1)[1]\n",
    "        println(best)\n",
    "end"
   ]
  },
  {
   "cell_type": "code",
   "execution_count": 23,
   "metadata": {
    "collapsed": false,
    "scrolled": true
   },
   "outputs": [
    {
     "name": "stdout",
     "output_type": "stream",
     "text": [
      "Pair{Any,Any}((\"see\",3),0.35095656f0)\n",
      "Pair{Any,Any}((\"regaining\",2),0.3555531f0)\n",
      "Pair{Any,Any}((\"man\",1),0.34622782f0)\n",
      "Pair{Any,Any}((\"jagiellon\",3),0.38121676f0)\n",
      "Pair{Any,Any}((\"king\",1),0.26080656f0)\n",
      "Pair{Any,Any}((\"man\",1),0.30942267f0)\n",
      "Pair{Any,Any}((\"king\",2),0.35260135f0)\n",
      "Pair{Any,Any}((\"iranic\",4),0.38873947f0)\n",
      "Pair{Any,Any}((\"arctic\",4),0.35116512f0)\n",
      "Pair{Any,Any}((\"king\",2),0.36118346f0)\n",
      "Pair{Any,Any}((\"king\",3),0.3266254f0)\n",
      "Pair{Any,Any}((\"king\",1),0.35135114f0)\n",
      "Pair{Any,Any}((\"nolo\",1),0.34845114f0)\n",
      "Pair{Any,Any}((\"twist\",4),0.39938837f0)\n",
      "Pair{Any,Any}((\"king\",3),0.24015957f0)\n",
      "Pair{Any,Any}((\"man\",1),0.21524191f0)\n",
      "Pair{Any,Any}((\"command\",1),0.36338454f0)\n",
      "Pair{Any,Any}((\"rhymer\",1),0.44759816f0)\n",
      "Pair{Any,Any}((\"necklace\",2),0.36204916f0)\n",
      "Pair{Any,Any}((\"conductivity\",3),0.36690688f0)\n",
      "Pair{Any,Any}((\"man\",1),0.30654925f0)\n",
      "Pair{Any,Any}((\"man\",1),0.2637298f0)\n",
      "Pair{Any,Any}((\"man\",1),0.40649712f0)\n",
      "Pair{Any,Any}((\"references\",4),0.34265906f0)\n",
      "Pair{Any,Any}((\"man\",1),0.34613776f0)\n",
      "Pair{Any,Any}((\"rao\",3),0.35311067f0)\n",
      "Pair{Any,Any}((\"man\",2),0.35861003f0)\n",
      "Pair{Any,Any}((\"stood\",5),0.31926966f0)\n",
      "Pair{Any,Any}((\"baffled\",4),0.36815983f0)\n",
      "Pair{Any,Any}((\"charles\",3),0.3153838f0)\n",
      "Pair{Any,Any}((\"description\",1),0.36943293f0)\n",
      "Pair{Any,Any}((\"man\",2),0.31304705f0)\n",
      "Pair{Any,Any}((\"man\",2),0.4009198f0)\n",
      "Pair{Any,Any}((\"thinking\",5),0.35305107f0)\n",
      "Pair{Any,Any}((\"man\",2),0.34869045f0)\n",
      "Pair{Any,Any}((\"king\",3),0.29897517f0)\n",
      "Pair{Any,Any}((\"grudge\",1),0.3636558f0)\n",
      "Pair{Any,Any}((\"man\",2),0.35734951f0)\n",
      "Pair{Any,Any}((\"negara\",2),0.33604592f0)\n",
      "Pair{Any,Any}((\"king\",3),0.31932497f0)\n",
      "Pair{Any,Any}((\"man\",2),0.20973074f0)\n",
      "Pair{Any,Any}((\"man\",2),0.22776455f0)\n",
      "Pair{Any,Any}((\"man\",2),0.30902803f0)\n",
      "Pair{Any,Any}((\"man\",2),0.2530859f0)\n",
      "Pair{Any,Any}((\"he\",2),0.28394544f0)\n",
      "Pair{Any,Any}((\"man\",3),0.33149523f0)\n",
      "Pair{Any,Any}((\"man\",2),0.21640861f0)\n",
      "Pair{Any,Any}((\"lenz\",5),0.37653273f0)\n",
      "Pair{Any,Any}((\"thinking\",5),0.3506834f0)\n",
      "Pair{Any,Any}((\"man\",2),0.33066064f0)\n",
      "Pair{Any,Any}((\"napoleon\",2),0.36033863f0)\n",
      "Pair{Any,Any}((\"pippin\",3),0.35155565f0)\n",
      "Pair{Any,Any}((\"feroze\",5),0.37842596f0)\n",
      "Pair{Any,Any}((\"pippin\",3),0.38352102f0)\n",
      "Pair{Any,Any}((\"king\",1),0.25733882f0)\n",
      "Pair{Any,Any}((\"book\",5),0.36126304f0)\n",
      "Pair{Any,Any}((\"man\",3),0.3484677f0)\n",
      "Pair{Any,Any}((\"quest\",3),0.3948626f0)\n",
      "Pair{Any,Any}((\"man\",3),0.3783766f0)\n",
      "Pair{Any,Any}((\"king\",2),0.33975577f0)\n",
      "Pair{Any,Any}((\"king\",3),0.3069507f0)\n",
      "Pair{Any,Any}((\"king\",3),0.39763355f0)\n",
      "Pair{Any,Any}((\"mosquitoes\",4),0.3873099f0)\n",
      "Pair{Any,Any}((\"ivan\",5),0.39512002f0)\n",
      "Pair{Any,Any}((\"king\",3),0.2132138f0)\n",
      "Pair{Any,Any}((\"man\",3),0.27074832f0)\n",
      "Pair{Any,Any}((\"man\",3),0.38151866f0)\n",
      "Pair{Any,Any}((\"quest\",3),0.37438303f0)\n",
      "Pair{Any,Any}((\"stripper\",5),0.3561747f0)\n",
      "Pair{Any,Any}((\"grudge\",1),0.37090397f0)\n",
      "Pair{Any,Any}((\"man\",3),0.29278582f0)\n",
      "Pair{Any,Any}((\"man\",3),0.18460661f0)\n",
      "Pair{Any,Any}((\"dr\",2),0.37668175f0)\n",
      "Pair{Any,Any}((\"man\",3),0.31503934f0)\n",
      "Pair{Any,Any}((\"simpson\",3),0.35997158f0)\n",
      "Pair{Any,Any}((\"seleucids\",1),0.38259357f0)\n",
      "Pair{Any,Any}((\"man\",4),0.30222124f0)\n",
      "Pair{Any,Any}((\"man\",4),0.2743067f0)\n",
      "Pair{Any,Any}((\"pleasures\",2),0.37124228f0)\n",
      "Pair{Any,Any}((\"louis\",2),0.3448211f0)\n",
      "Pair{Any,Any}((\"man\",4),0.3125736f0)\n",
      "Pair{Any,Any}((\"man\",4),0.21283424f0)\n",
      "Pair{Any,Any}((\"man\",4),0.29429442f0)\n",
      "Pair{Any,Any}((\"man\",4),0.3168562f0)\n",
      "Pair{Any,Any}((\"man\",4),0.2750972f0)\n",
      "Pair{Any,Any}((\"king\",3),0.33982533f0)\n",
      "Pair{Any,Any}((\"man\",4),0.33189052f0)\n",
      "Pair{Any,Any}((\"man\",4),0.30524892f0)\n",
      "Pair{Any,Any}((\"teodoro\",3),0.42154133f0)\n",
      "Pair{Any,Any}((\"king\",3),0.3230285f0)\n",
      "Pair{Any,Any}((\"man\",4),0.18706995f0)\n",
      "Pair{Any,Any}((\"man\",4),0.20159549f0)\n",
      "Pair{Any,Any}((\"man\",4),0.2825206f0)\n",
      "Pair{Any,Any}((\"man\",4),0.28470063f0)\n",
      "Pair{Any,Any}((\"man\",4),0.30905658f0)\n",
      "Pair{Any,Any}((\"mind\",2),0.253554f0)\n",
      "Pair{Any,Any}((\"man\",4),0.18877572f0)\n",
      "Pair{Any,Any}((\"man\",4),0.35234666f0)\n",
      "Pair{Any,Any}((\"mind\",2),0.37166417f0)\n",
      "Pair{Any,Any}((\"man\",4),0.3332165f0)\n",
      "Pair{Any,Any}((\"poland\",1),0.3728367f0)\n",
      "Pair{Any,Any}((\"regaining\",2),0.3803749f0)\n",
      "Pair{Any,Any}((\"man\",5),0.40982968f0)\n",
      "Pair{Any,Any}((\"negara\",2),0.3405779f0)\n",
      "Pair{Any,Any}((\"leopold\",3),0.31236768f0)\n",
      "Pair{Any,Any}((\"man\",5),0.3380891f0)\n",
      "Pair{Any,Any}((\"man\",5),0.39278555f0)\n",
      "Pair{Any,Any}((\"nationhood\",3),0.4113838f0)\n",
      "Pair{Any,Any}((\"man\",5),0.33624136f0)\n",
      "Pair{Any,Any}((\"man\",5),0.38761336f0)\n",
      "Pair{Any,Any}((\"king\",3),0.31293195f0)\n",
      "Pair{Any,Any}((\"man\",5),0.350879f0)\n",
      "Pair{Any,Any}((\"man\",5),0.28177607f0)\n",
      "Pair{Any,Any}((\"man\",5),0.33528495f0)\n",
      "Pair{Any,Any}((\"king\",3),0.24113631f0)\n",
      "Pair{Any,Any}((\"man\",5),0.2388252f0)\n",
      "Pair{Any,Any}((\"man\",2),0.36252552f0)\n",
      "Pair{Any,Any}((\"serpents\",5),0.4159482f0)\n",
      "Pair{Any,Any}((\"man\",5),0.34366632f0)\n",
      "Pair{Any,Any}((\"broken\",1),0.39763057f0)\n",
      "Pair{Any,Any}((\"man\",5),0.29738265f0)\n",
      "Pair{Any,Any}((\"man\",5),0.25434077f0)\n",
      "Pair{Any,Any}((\"man\",5),0.38712406f0)\n",
      "Pair{Any,Any}((\"man\",5),0.3032254f0)\n",
      "Pair{Any,Any}((\"man\",5),0.33144426f0)\n"
     ]
    }
   ],
   "source": [
    "flat_embed = flatten_embeddings(ee)\n",
    "for (v_a,v_b,v_c) in Base.product((ee.embedding[w] for w in (w_a,w_b,w_c))...)\n",
    "        best=Query.find_nearest_embedding(flat_embed, v_b-v_a+v_c; nwords=1)[1]\n",
    "        println(best)\n",
    "end"
   ]
  },
  {
   "cell_type": "code",
   "execution_count": 7,
   "metadata": {
    "collapsed": false
   },
   "outputs": [
    {
     "data": {
      "text/latex": [
       "\\begin{verbatim}\n",
       "product(iters...)\n",
       "\\end{verbatim}\n",
       "Returns an iterator over the product of several iterators. Each generated element is a tuple whose \\texttt{i}th element comes from the \\texttt{i}th argument iterator. The first iterator changes the fastest. Example:\n",
       "\\begin{verbatim}\n",
       "julia> collect(product(1:2,3:5))\n",
       "6-element Array{Tuple{Int64,Int64},1}:\n",
       " (1,3)\n",
       " (2,3)\n",
       " (1,4)\n",
       " (2,4)\n",
       " (1,5)\n",
       " (2,5)\n",
       "\\end{verbatim}\n"
      ],
      "text/markdown": [
       "```\n",
       "product(iters...)\n",
       "```\n",
       "\n",
       "Returns an iterator over the product of several iterators. Each generated element is a tuple whose `i`th element comes from the `i`th argument iterator. The first iterator changes the fastest. Example:\n",
       "\n",
       "```\n",
       "julia> collect(product(1:2,3:5))\n",
       "6-element Array{Tuple{Int64,Int64},1}:\n",
       " (1,3)\n",
       " (2,3)\n",
       " (1,4)\n",
       " (2,4)\n",
       " (1,5)\n",
       " (2,5)\n",
       "```\n"
      ],
      "text/plain": [
       "```\n",
       "product(iters...)\n",
       "```\n",
       "\n",
       "Returns an iterator over the product of several iterators. Each generated element is a tuple whose `i`th element comes from the `i`th argument iterator. The first iterator changes the fastest. Example:\n",
       "\n",
       "```\n",
       "julia> collect(product(1:2,3:5))\n",
       "6-element Array{Tuple{Int64,Int64},1}:\n",
       " (1,3)\n",
       " (2,3)\n",
       " (1,4)\n",
       " (2,4)\n",
       " (1,5)\n",
       " (2,5)\n",
       "```\n"
      ]
     },
     "execution_count": 7,
     "metadata": {},
     "output_type": "execute_result"
    }
   ],
   "source": [
    "?Base.product"
   ]
  },
  {
   "cell_type": "code",
   "execution_count": null,
   "metadata": {
    "collapsed": true
   },
   "outputs": [],
   "source": []
  },
  {
   "cell_type": "code",
   "execution_count": null,
   "metadata": {
    "collapsed": true
   },
   "outputs": [],
   "source": []
  },
  {
   "cell_type": "code",
   "execution_count": 1,
   "metadata": {
    "collapsed": false
   },
   "outputs": [],
   "source": [
    "using LightXML\n",
    "using Pipe"
   ]
  },
  {
   "cell_type": "code",
   "execution_count": 2,
   "metadata": {
    "collapsed": false
   },
   "outputs": [
    {
     "data": {
      "text/plain": [
       "\"\""
      ]
     },
     "execution_count": 2,
     "metadata": {},
     "output_type": "execute_result"
    }
   ],
   "source": []
  },
  {
   "cell_type": "code",
   "execution_count": 3,
   "metadata": {
    "collapsed": false
   },
   "outputs": [],
   "source": [
    "Base.iteratorsize(::Type{LightXML.XMLNodeIter})=Base.SizeUnknown()\n",
    "Base.iteratorsize(::Type{LightXML.XMLElementIter})=Base.SizeUnknown()"
   ]
  },
  {
   "cell_type": "code",
   "execution_count": 8,
   "metadata": {
    "collapsed": false
   },
   "outputs": [
    {
     "data": {
      "text/plain": [
       "100"
      ]
     },
     "execution_count": 8,
     "metadata": {},
     "output_type": "execute_result"
    }
   ],
   "source": []
  },
  {
   "cell_type": "code",
   "execution_count": 56,
   "metadata": {
    "collapsed": false
   },
   "outputs": [
    {
     "name": "stderr",
     "output_type": "stream",
     "text": [
      "WARNING: replacing docs for 'nodes :: Union{}'.\n"
     ]
    },
    {
     "data": {
      "text/plain": [
       "<instance id=\"31:0@11@wsj/12/wsj_1284@wsj\" corpus=\"wsj\">\n",
       "Norms are consistently exceeded *-1 at 60 % of nitrogen oxide monitoring sites and 80 % of those for dust and soot emissions . Four-fifths of Poland 's soils have become highly acidified ; 70 % of its southern forests are projected *-1 to die by century 's end . Between 1965 and 1985 , Polish waters fit for human consumption dropped from 33 % to 6 % of all surface waters , while those unfit even for industry use nearly <head> doubled </head> . Poland produces about 20 times more soot and five times more sulfur dioxide and solid waste per unit of gross national product than does Western Europe *?* . Its mortality rate for males over 35 is about 50 % higher than West Germany 's , and 50 % higher in hazard areas than the national average .\n",
       "</instance>\n"
      ]
     },
     "execution_count": 56,
     "metadata": {},
     "output_type": "execute_result"
    }
   ],
   "source": []
  },
  {
   "cell_type": "code",
   "execution_count": 57,
   "metadata": {
    "collapsed": false
   },
   "outputs": [
    {
     "data": {
      "text/plain": [
       "load_semeval (generic function with 1 method)"
      ]
     },
     "execution_count": 57,
     "metadata": {},
     "output_type": "execute_result"
    }
   ],
   "source": [
    "function load_semeval(filename)\n",
    "\n",
    "    function get_wsd_case(instance_node, preprocess=lowercase)\n",
    "        word=\"\"\n",
    "        context=String[]\n",
    "        for node in instance_node |> child_nodes\n",
    "            if is_elementnode(node)\n",
    "                @assert word==\"\"\n",
    "                word = node |>child_nodes |> first |> string |> preprocess |> strip\n",
    "            else\n",
    "                @assert(node|>is_textnode)\n",
    "                append!(context, node|>string|>preprocess|>split)\n",
    "            end\n",
    "        end\n",
    "        @assert word!=\"\"\n",
    "        word, context\n",
    "    end\n",
    "\n",
    "    xdoc = parse_file(filename)\n",
    "    \n",
    "    xroot = root(xdoc);  # an instance of XMLElement\n",
    "    nodes = Base.Flatten(child_elements(instance)  for instance in child_elements(xroot)) \n",
    "    map(get_wsd_case, nodes) |> collect    \n",
    "end"
   ]
  },
  {
   "cell_type": "code",
   "execution_count": 58,
   "metadata": {
    "collapsed": false,
    "scrolled": true
   },
   "outputs": [
    {
     "data": {
      "text/plain": [
       "61-element Array{Tuple{String,Array{String,1}},1}:\n",
       " (\"construct\",String[\"sheraton\",\"corp.\",\"and\",\"pan\",\"american\",\"world\",\"airways\",\"announced\",\"that\",\"they\"  …  \"the\",\"venture\",\"'s\",\"partners\",\"at\",\"the\",\"soviet\",\"embassy\",\"here\",\".\"])                \n",
       " (\"constructed\",String[\"it\",\"will\",\"have\",\"a\",\"russian\",\"tavern\",\",\",\"an\",\"english\",\"pub\"  …  \"am\",\"corp.\",\",\",\"will\",\"have\",\"a\",\"10\",\"%\",\"share\",\".\"])                                                  \n",
       " (\"constructed\",String[\"jacobs\",\"is\",\"an\",\"international\",\"engineering\",\"and\",\"construction\",\"concern\",\".\",\"total\"  …  \"engineering\",\"officials\",\"could\",\"n't\",\"be\",\"reached\",\"*-1\",\"for\",\"comment\",\".\"])\n",
       " (\"constructed\",String[\"the\",\"real\",\"estate\",\"slump\",\"that\",\"*t*-1\",\"'s\",\"pushing\",\"down\",\"the\"  …  \"senior\",\"vice\",\"president\",\"at\",\"garrick-aug\",\"associates\",\"store\",\"leasing\",\"inc\",\".\"])            \n",
       " (\"double\",String[\"amtech\",\",\",\"which\",\"*t*-1\",\"makes\",\"an\",\"automated\",\"process\",\"system\",\"that\"  …  \"with\",\"seven\",\"months\",\"'\",\"results\",\"for\",\"the\",\"prior\",\"year\",\".\"])                             \n",
       " (\"doubling\",String[\"but\",\"others\",\"say\",\"0\",\"junk-holders\",\"have\",\"nothing\",\"0\",\"*\",\"to\"  …  \"money\",\"0\",\"it\",\"can\",\"*?*\",\"*t*-1\",\"on\",\"sci\",\"tv\",\".\"])                                                 \n",
       " (\"doubled\",String[\"it\",\"advised\",\"the\",\"national\",\"football\",\"league\",\"in\",\"its\",\"largely\",\"successful\"  …  \"--\",\"many\",\"just\",\"one-person\",\"shops\",\"--\",\"have\",\"sprung\",\"up\",\".\"])                     \n",
       " (\"double\",String[\"still\",\",\",\"there\",\"are\",\"several\",\"billion\",\"dollars\",\"of\",\"zero-coupon\",\"cds\"  …  \"if\",\"the\",\"institutions\",\"that\",\"*t*-2\",\"issued\",\"the\",\"cds\",\"failed\",\".\"])                      \n",
       " (\"doubled\",String[\"while\",\"premium-brand\",\"spirits\",\"like\",\"smirnoff\",\"vodka\",\"and\",\"jack\",\"daniel\",\"'s\"  …  \"importer\",\"of\",\"both\",\"rum\",\"and\",\"brandy\",\"from\",\"the\",\"u.s.\",\".\"])                      \n",
       " (\"doubled\",String[\"norms\",\"are\",\"consistently\",\"exceeded\",\"*-1\",\"at\",\"60\",\"%\",\"of\",\"nitrogen\"  …  \"%\",\"higher\",\"in\",\"hazard\",\"areas\",\"than\",\"the\",\"national\",\"average\",\".\"])                            \n",
       " (\"doubled\",String[\"for\",\"example\",\",\",\"an\",\"investor\",\"may\",\"seek\",\"*-1\",\"to\",\"profit\"  …  \"that\",\"*t*-3\",\"are\",\"n't\",\"a\",\"part\",\"of\",\"the\",\"system\",\".\"])                                              \n",
       " (\"double\",String[\"the\",\"state\",\"could\",\"also\",\"increase\",\"gasoline\",\"taxes\",\";\",\"every\",\"one\"  …  \"raise\",\"new\",\"revenue\",\"*-1\",\"to\",\"meet\",\"its\",\"earthquake\",\"needs\",\".\"])                            \n",
       " (\"double\",String[\"``\",\"this\",\"is\",\"n't\",\"outlandish\",\"bidding\",\";\",\"this\",\"is\",\"a\"  …  \"earned\",\"\\$\",\"50\",\"million\",\"or\",\"so\",\"*u*\",\"last\",\"year\",\".\"])                                                 \n",
       " ⋮                                                                                                                                                                                                       \n",
       " (\"earned\",String[\"mr.\",\"mcdonough\",\"responds\",\":\",\"``\",\"i\",\"'m\",\"asking\",\"people\",\"*-1\"  …  \"time\",\"each\",\"summer\",\"*-1\",\"fly-fishing\",\"for\",\"salmon\",\"in\",\"iceland\",\".\"])                              \n",
       " (\"earned\",String[\"it\",\"*exp*-2\",\"pays\",\"*-1\",\"to\",\"follow\",\"a\",\"management\",\"career\",\"path\"  …  \"law\",\"earned\",\"an\",\"average\",\"of\",\"about\",\"\\$\",\"217,000\",\"*u*\",\".\"])                                   \n",
       " (\"earned\",String[\"its\",\"survey\",\"of\",\"96\",\"firms\",\",\",\"each\",\"with\",\"100\",\"to\"  …  \"practicing\",\"law\",\"an\",\"average\",\"of\",\"about\",\"\\$\",\"217,000\",\"*u*\",\".\"])                                            \n",
       " (\"earn\",String[\"nasa\",\"defended\",\"itself\",\"vigorously\",\"and\",\"successfully\",\"against\",\"a\",\"rifkin\",\"suit\"  …  \"fundamentally\",\"at\",\"stake\",\",\",\"and\",\"offer\",\"their\",\"public\",\"support\",\".\"])           \n",
       " (\"earned\",String[\"it\",\"involves\",\"*\",\"accepting\",\"risk\",\",\",\"or\",\"*\",\"giving\",\"up\"  …  \"with\",\"full-time\",\"jobs\",\".\",\"why\",\"*\",\"call\",\"that\",\"service\",\"?\"])                                            \n",
       " (\"earn\",String[\"a\",\"spokesman\",\"for\",\"avis\",\"would\",\"n't\",\"specify\",\"the\",\"costs\",\"but\"  …  \"the\",\"five\",\"airlines\",\"with\",\"which\",\"budget\",\"has\",\"agreements\",\"*t*-1\",\".\"])                            \n",
       " (\"ranks\",String[\"for\",\"political\",\"as\",\"well\",\"as\",\"economic\",\"reasons\",\",\",\"u.s.\",\"companies\"  …  \"soviet\",\"consumers\",\"are\",\"more\",\"than\",\"ready\",\"for\",\"u.s.\",\"products\",\".\"])                       \n",
       " (\"ranks\",String[\"these\",\"days\",\",\",\"``\",\"batibot\",\"''\",\"is\",\"produced\",\"*-1\",\"in\"  …  \",\",\"there\",\"are\",\"threats\",\"that\",\"the\",\"program\",\"will\",\"fold\",\".\"])                                            \n",
       " (\"rank\",String[\"in\",\"terms\",\"of\",\"sheer\",\"brutality\",\",\",\"the\",\"somali\",\"regime\",\"of\"  …  \"of\",\"people\",\"0\",\"it\",\"can\",\"torture\",\"and\",\"kill\",\"*t*-1\",\".\"])                                             \n",
       " (\"ranks\",String[\"-lrb-\",\"while\",\"there\",\"would\",\"be\",\"some\",\"client\",\"conflicts\",\",\",\"they\"  …  \"howard\",\"marlboro\",\",\",\"a\",\"sports\",\"and\",\"event\",\"marketing\",\"firm\",\".\"])                             \n",
       " (\"ranks\",String[\"``\",\"frankly\",\",\",\"i\",\"missed\",\"my\",\"family\",\",\",\"''\",\"said\"  …  \"and\",\"ms.\",\"mcloughlin\",\"are\",\"married\",\"*-1\",\"to\",\"each\",\"other\",\".\"])                                              \n",
       " (\"ranks\",String[\"nearly\",\"all\",\"of\",\"the\",\"crude\",\"oil\",\"that\",\"canada\",\"exports\",\"*t*-3\"  …  \".\",\"``\",\"it\",\"'s\",\"very\",\"much\",\"a\",\"growing\",\"concern\",\".\"])                                            "
      ]
     },
     "execution_count": 58,
     "metadata": {},
     "output_type": "execute_result"
    }
   ],
   "source": [
    "cases = load_semeval(\"./data/corpora/semeval2007t2/trial_data/English.LS.txt\")"
   ]
  },
  {
   "cell_type": "code",
   "execution_count": 38,
   "metadata": {
    "collapsed": false
   },
   "outputs": [
    {
     "data": {
      "text/plain": [
       "\"felt\""
      ]
     },
     "execution_count": 38,
     "metadata": {},
     "output_type": "execute_result"
    }
   ],
   "source": [
    "cs[2] |> "
   ]
  },
  {
   "cell_type": "code",
   "execution_count": 30,
   "metadata": {
    "collapsed": false
   },
   "outputs": [
    {
     "data": {
      "text/plain": [
       "\"head\""
      ]
     },
     "execution_count": 30,
     "metadata": {},
     "output_type": "execute_result"
    }
   ],
   "source": [
    "LightXML.name(cs[2])"
   ]
  },
  {
   "cell_type": "code",
   "execution_count": 31,
   "metadata": {
    "collapsed": false
   },
   "outputs": [
    {
     "data": {
      "text/plain": [
       "true"
      ]
     },
     "execution_count": 31,
     "metadata": {},
     "output_type": "execute_result"
    }
   ],
   "source": []
  },
  {
   "cell_type": "code",
   "execution_count": null,
   "metadata": {
    "collapsed": true
   },
   "outputs": [],
   "source": []
  }
 ],
 "metadata": {
  "kernelspec": {
   "display_name": "Julia 0.5.0-dev",
   "language": "julia",
   "name": "julia-0.5"
  },
  "language_info": {
   "file_extension": ".jl",
   "mimetype": "application/julia",
   "name": "julia",
   "version": "0.5.0"
  }
 },
 "nbformat": 4,
 "nbformat_minor": 0
}
