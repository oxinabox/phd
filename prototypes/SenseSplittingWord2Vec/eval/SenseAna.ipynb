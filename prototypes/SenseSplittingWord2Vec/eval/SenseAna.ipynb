{
 "cells": [
  {
   "cell_type": "code",
   "execution_count": 1,
   "metadata": {
    "collapsed": false
   },
   "outputs": [],
   "source": [
    "using WordEmbeddings, SoftmaxClassifier\n",
    "using Utils\n",
    "using Query\n",
    "using Base.Collections\n",
    "using WordStreams\n",
    "\n",
    "using Clustering\n",
    "using Distances\n",
    "using Iterators"
   ]
  },
  {
   "cell_type": "code",
   "execution_count": 2,
   "metadata": {
    "collapsed": false
   },
   "outputs": [],
   "source": [
    "ee = restore(\"models/ss/text8_200__i5.model\");"
   ]
  },
  {
   "cell_type": "code",
   "execution_count": 511,
   "metadata": {
    "collapsed": false
   },
   "outputs": [
    {
     "name": "stderr",
     "output_type": "stream",
     "text": [
      "WARNING: Method definition print_nearest_words(Any) in module Main at In[3]:2 overwritten at In[511]:2.\n"
     ]
    },
    {
     "data": {
      "text/plain": [
       "print_nearest_words (generic function with 1 method)"
      ]
     },
     "execution_count": 511,
     "metadata": {},
     "output_type": "execute_result"
    }
   ],
   "source": [
    "function print_nearest_words(word)\n",
    "    ret = []\n",
    "    for ii in 1:length(ee.embedding[word])\n",
    "        nears = Query.find_nearest_words(ee, word, ii)\n",
    "        println(ii,\"\\t\", nears)\n",
    "        println()\n",
    "        push!(ret,nears)\n",
    "    end\n",
    "    return ret\n",
    "end"
   ]
  },
  {
   "cell_type": "code",
   "execution_count": 140,
   "metadata": {
    "collapsed": false,
    "scrolled": true
   },
   "outputs": [
    {
     "name": "stdout",
     "output_type": "stream",
     "text": [
      "1\t[Pair{Any,Any}((\"with\",12),0.36149585f0),Pair{Any,Any}((\"on\",5),0.36803174f0),Pair{Any,Any}((\"by\",11),0.37724584f0),Pair{Any,Any}((\"s\",17),0.4047312f0),Pair{Any,Any}((\"extensive\",20),0.4205863f0)]\n",
      "\n",
      "2\t[Pair{Any,Any}((\"the\",7),0.1644544f0),Pair{Any,Any}((\"is\",4),0.22158211f0),Pair{Any,Any}((\"an\",12),0.23381048f0),Pair{Any,Any}((\"or\",5),0.2376225f0),Pair{Any,Any}((\"this\",17),0.25288576f0)]\n",
      "\n",
      "3\t[Pair{Any,Any}((\"the\",19),0.24315614f0),Pair{Any,Any}((\"an\",11),0.26751918f0),Pair{Any,Any}((\"and\",4),0.2919441f0),Pair{Any,Any}((\"in\",4),0.33031344f0),Pair{Any,Any}((\"with\",9),0.33774894f0)]\n",
      "\n",
      "4\t[Pair{Any,Any}((\"people\",12),0.44990408f0),Pair{Any,Any}((\"wide\",16),0.45150584f0),Pair{Any,Any}((\"numbers\",17),0.45552343f0),Pair{Any,Any}((\"of\",17),0.4563133f0),Pair{Any,Any}((\"large\",14),0.45695388f0)]\n",
      "\n",
      "5\t[Pair{Any,Any}((\"such\",3),0.45609432f0),Pair{Any,Any}((\"they\",10),0.45987588f0),Pair{Any,Any}((\"for\",14),0.47111166f0),Pair{Any,Any}((\"the\",12),0.47988933f0),Pair{Any,Any}((\"an\",9),0.48544067f0)]\n",
      "\n",
      "6\t[Pair{Any,Any}((\"the\",18),0.15532553f0),Pair{Any,Any}((\"an\",2),0.19029748f0),Pair{Any,Any}((\"this\",16),0.19609135f0),Pair{Any,Any}((\"another\",6),0.21436542f0),Pair{Any,Any}((\"which\",6),0.22389692f0)]\n",
      "\n",
      "7\t[Pair{Any,Any}((\"an\",10),0.2574572f0),Pair{Any,Any}((\"then\",2),0.3570277f0),Pair{Any,Any}((\"was\",14),0.37553537f0),Pair{Any,Any}((\"while\",16),0.4056347f0),Pair{Any,Any}((\"he\",4),0.40625793f0)]\n",
      "\n",
      "8\t[Pair{Any,Any}((\"the\",2),0.17621124f0),Pair{Any,Any}((\"or\",2),0.26552403f0),Pair{Any,Any}((\"this\",19),0.2822029f0),Pair{Any,Any}((\"its\",14),0.29083264f0),Pair{Any,Any}((\"an\",17),0.29433906f0)]\n",
      "\n",
      "9\t[Pair{Any,Any}((\"every\",14),0.363217f0),Pair{Any,Any}((\"is\",7),0.37871522f0),Pair{Any,Any}((\"some\",2),0.4033687f0),Pair{Any,Any}((\"this\",14),0.40474594f0),Pair{Any,Any}((\"the\",20),0.40720844f0)]\n",
      "\n",
      "10\t[Pair{Any,Any}((\"the\",5),0.34836376f0),Pair{Any,Any}((\"but\",10),0.37859762f0),Pair{Any,Any}((\"been\",15),0.4019807f0),Pair{Any,Any}((\"which\",5),0.43503374f0),Pair{Any,Any}((\"because\",4),0.45287102f0)]\n",
      "\n",
      "11\t[Pair{Any,Any}((\"the\",9),0.22944123f0),Pair{Any,Any}((\"an\",1),0.2521327f0),Pair{Any,Any}((\"which\",17),0.29994088f0),Pair{Any,Any}((\"and\",20),0.31381738f0),Pair{Any,Any}((\"for\",7),0.32438725f0)]\n",
      "\n",
      "12\t[Pair{Any,Any}((\"and\",7),0.25545985f0),Pair{Any,Any}((\"the\",4),0.26070714f0),Pair{Any,Any}((\"which\",2),0.28964204f0),Pair{Any,Any}((\"often\",2),0.29031777f0),Pair{Any,Any}((\"small\",17),0.29157287f0)]\n",
      "\n",
      "13\t[Pair{Any,Any}((\"the\",6),0.42666233f0),Pair{Any,Any}((\"an\",16),0.48886085f0),Pair{Any,Any}((\"s\",4),0.49895215f0),Pair{Any,Any}((\"the\",17),0.52333593f0),Pair{Any,Any}((\"in\",8),0.5398351f0)]\n",
      "\n",
      "14\t[Pair{Any,Any}((\"the\",15),0.19734699f0),Pair{Any,Any}((\"and\",19),0.21552616f0),Pair{Any,Any}((\"s\",19),0.23428386f0),Pair{Any,Any}((\"which\",18),0.30199987f0),Pair{Any,Any}((\"in\",11),0.30700397f0)]\n",
      "\n",
      "15\t[Pair{Any,Any}((\"is\",2),0.18251103f0),Pair{Any,Any}((\"an\",18),0.18526345f0),Pair{Any,Any}((\"any\",5),0.18980008f0),Pair{Any,Any}((\"v\",3),0.20320684f0),Pair{Any,Any}((\"c\",7),0.21808326f0)]\n",
      "\n",
      "16\t[Pair{Any,Any}((\"the\",13),0.33014256f0),Pair{Any,Any}((\"last\",6),0.40526503f0),Pair{Any,Any}((\"three\",9),0.40528315f0),Pair{Any,Any}((\"first\",6),0.40881407f0),Pair{Any,Any}((\"only\",19),0.41345406f0)]\n",
      "\n",
      "17\t[Pair{Any,Any}((\"an\",7),0.30119538f0),Pair{Any,Any}((\"is\",6),0.33643806f0),Pair{Any,Any}((\"young\",19),0.3797989f0),Pair{Any,Any}((\"killed\",9),0.38335907f0),Pair{Any,Any}((\"with\",1),0.38875163f0)]\n",
      "\n",
      "18\t[Pair{Any,Any}((\"an\",20),0.31032115f0),Pair{Any,Any}((\"this\",18),0.3192925f0),Pair{Any,Any}((\"the\",16),0.32095307f0),Pair{Any,Any}((\"large\",4),0.323483f0),Pair{Any,Any}((\"called\",16),0.3400218f0)]\n",
      "\n",
      "19\t[Pair{Any,Any}((\"the\",17),0.36734527f0),Pair{Any,Any}((\"an\",13),0.37528896f0),Pair{Any,Any}((\"seven\",7),0.3757547f0),Pair{Any,Any}((\"each\",7),0.37960696f0),Pair{Any,Any}((\"zero\",7),0.39917594f0)]\n",
      "\n",
      "20\t[Pair{Any,Any}((\"and\",12),0.3197379f0),Pair{Any,Any}((\"or\",14),0.35937047f0),Pair{Any,Any}((\"any\",20),0.3612424f0),Pair{Any,Any}((\"which\",13),0.37438554f0),Pair{Any,Any}((\"is\",3),0.37923837f0)]\n",
      "\n"
     ]
    }
   ],
   "source": [
    "print_nearest_words(\"a\")"
   ]
  },
  {
   "cell_type": "code",
   "execution_count": null,
   "metadata": {
    "collapsed": false
   },
   "outputs": [],
   "source": [
    "print_nearest_words(\"kind\")"
   ]
  },
  {
   "cell_type": "code",
   "execution_count": 785,
   "metadata": {
    "collapsed": false,
    "scrolled": true
   },
   "outputs": [
    {
     "name": "stdout",
     "output_type": "stream",
     "text": [
      "1\t[Pair{Any,Any}((\"latino\",4),0.24718815f0),Pair{Any,Any}((\"hispanic\",9),0.3567357f0),Pair{Any,Any}((\"any\",8),0.3594371f0),Pair{Any,Any}((\"population\",8),0.36768758f0),Pair{Any,Any}((\"mixed\",20),0.4379238f0)]\n",
      "\n",
      "2\t[Pair{Any,Any}((\"racing\",16),0.42366487f0),Pair{Any,Any}((\"racing\",17),0.43566388f0),Pair{Any,Any}((\"car\",5),0.4631629f0),Pair{Any,Any}((\"races\",13),0.47124088f0),Pair{Any,Any}((\"prix\",15),0.48116124f0)]\n",
      "\n",
      "3\t[Pair{Any,Any}((\"rather\",16),0.59287184f0),Pair{Any,Any}((\"lose\",1),0.61896396f0),Pair{Any,Any}((\"whether\",16),0.6301135f0),Pair{Any,Any}((\"world\",13),0.637156f0),Pair{Any,Any}((\"doing\",11),0.63731027f0)]\n",
      "\n",
      "4\t[Pair{Any,Any}((\"racial\",15),0.61707014f0),Pair{Any,Any}((\"mi\",13),0.6285727f0),Pair{Any,Any}((\"dearborn\",1),0.6412274f0),Pair{Any,Any}((\"lexington\",1),0.6462248f0),Pair{Any,Any}((\"louisville\",1),0.6473862f0)]\n",
      "\n",
      "5\t[Pair{Any,Any}((\"that\",5),0.661414f0),Pair{Any,Any}((\"bigfoot\",3),0.68456054f0),Pair{Any,Any}((\"thought\",14),0.69747275f0),Pair{Any,Any}((\"conventions\",20),0.6993393f0),Pair{Any,Any}((\"artificer\",1),0.6994033f0)]\n",
      "\n",
      "6\t[Pair{Any,Any}((\"or\",14),0.50824845f0),Pair{Any,Any}((\"class\",10),0.53170884f0),Pair{Any,Any}((\"their\",5),0.5402069f0),Pair{Any,Any}((\"alien\",12),0.54398394f0),Pair{Any,Any}((\"identity\",2),0.54551125f0)]\n",
      "\n",
      "7\t[Pair{Any,Any}((\"effective\",8),0.6365808f0),Pair{Any,Any}((\"facilities\",6),0.68425894f0),Pair{Any,Any}((\"moon\",12),0.69533974f0),Pair{Any,Any}((\"weaker\",7),0.6966672f0),Pair{Any,Any}((\"proliferation\",6),0.6980966f0)]\n",
      "\n",
      "8\t[Pair{Any,Any}((\"ira\",4),0.64411724f0),Pair{Any,Any}((\"candidate\",5),0.6614965f0),Pair{Any,Any}((\"voted\",4),0.6807908f0),Pair{Any,Any}((\"base\",3),0.68137926f0),Pair{Any,Any}((\"yardage\",1),0.68176985f0)]\n",
      "\n",
      "9\t[Pair{Any,Any}((\"styled\",15),0.6833255f0),Pair{Any,Any}((\"ie\",14),0.6857219f0),Pair{Any,Any}((\"cantonese\",1),0.6861228f0),Pair{Any,Any}((\"village\",12),0.69505054f0),Pair{Any,Any}((\"treatment\",17),0.70528376f0)]\n",
      "\n",
      "10\t[Pair{Any,Any}((\"advent\",1),0.6718125f0),Pair{Any,Any}((\"team\",13),0.68005717f0),Pair{Any,Any}((\"season\",20),0.69144607f0),Pair{Any,Any}((\"cup\",1),0.6938945f0),Pair{Any,Any}((\"athletics\",20),0.6967367f0)]\n",
      "\n",
      "11\t[Pair{Any,Any}((\"crowd\",10),0.67460746f0),Pair{Any,Any}((\"material\",18),0.6776541f0),Pair{Any,Any}((\"alembert\",1),0.67844415f0),Pair{Any,Any}((\"ada\",12),0.684792f0),Pair{Any,Any}((\"need\",13),0.6858544f0)]\n",
      "\n",
      "12\t[Pair{Any,Any}((\"broncos\",5),0.6471616f0),Pair{Any,Any}((\"season\",20),0.66147155f0),Pair{Any,Any}((\"season\",17),0.669857f0),Pair{Any,Any}((\"baseball\",18),0.67026854f0),Pair{Any,Any}((\"scored\",17),0.67487156f0)]\n",
      "\n",
      "13\t[Pair{Any,Any}((\"investigating\",14),0.6748879f0),Pair{Any,Any}((\"hudson\",11),0.6927253f0),Pair{Any,Any}((\"armored\",19),0.7025998f0),Pair{Any,Any}((\"pistol\",13),0.70662594f0),Pair{Any,Any}((\"db\",15),0.71387756f0)]\n",
      "\n",
      "14\t[Pair{Any,Any}((\"car\",7),0.12254149f0),Pair{Any,Any}((\"driver\",5),0.14264947f0),Pair{Any,Any}((\"american\",12),0.45884776f0),Pair{Any,Any}((\"actor\",5),0.509978f0),Pair{Any,Any}((\"one\",8),0.51690733f0)]\n",
      "\n",
      "15\t[Pair{Any,Any}((\"blind\",17),0.68031645f0),Pair{Any,Any}((\"inflatable\",1),0.6803392f0),Pair{Any,Any}((\"hunt\",14),0.6918639f0),Pair{Any,Any}((\"escape\",13),0.69391674f0),Pair{Any,Any}((\"frogs\",1),0.6973495f0)]\n",
      "\n",
      "16\t[Pair{Any,Any}((\"greenway\",1),0.6091351f0),Pair{Any,Any}((\"zechs\",1),0.67077744f0),Pair{Any,Any}((\"pentagon\",6),0.6874218f0),Pair{Any,Any}((\"bligh\",1),0.7031872f0),Pair{Any,Any}((\"stopover\",1),0.7055953f0)]\n",
      "\n",
      "17\t[Pair{Any,Any}((\"tournament\",4),0.6662191f0),Pair{Any,Any}((\"bodybuilding\",1),0.68049955f0),Pair{Any,Any}((\"motorcycle\",3),0.6825485f0),Pair{Any,Any}((\"transmutations\",1),0.6829694f0),Pair{Any,Any}((\"signings\",1),0.68904483f0)]\n",
      "\n",
      "18\t[Pair{Any,Any}((\"anomalistic\",1),0.7064891f0),Pair{Any,Any}((\"taught\",3),0.70745456f0),Pair{Any,Any}((\"inner\",19),0.7168046f0),Pair{Any,Any}((\"pioneer\",14),0.71685386f0),Pair{Any,Any}((\"copying\",9),0.7202302f0)]\n",
      "\n",
      "19\t[Pair{Any,Any}((\"radiophonic\",1),0.6986311f0),Pair{Any,Any}((\"pheidippides\",1),0.70880646f0),Pair{Any,Any}((\"gods\",7),0.7168642f0),Pair{Any,Any}((\"draws\",14),0.72200835f0),Pair{Any,Any}((\"empty\",5),0.72327256f0)]\n",
      "\n",
      "20\t[Pair{Any,Any}((\"sale\",8),0.6279365f0),Pair{Any,Any}((\"parliamentary\",14),0.6479269f0),Pair{Any,Any}((\"religion\",7),0.6779308f0),Pair{Any,Any}((\"muslim\",9),0.67869663f0),Pair{Any,Any}((\"ll\",7),0.6974267f0)]\n",
      "\n"
     ]
    },
    {
     "data": {
      "text/plain": [
       "20-element Array{Any,1}:\n",
       " [Pair{Any,Any}((\"latino\",4),0.24718815f0),Pair{Any,Any}((\"hispanic\",9),0.3567357f0),Pair{Any,Any}((\"any\",8),0.3594371f0),Pair{Any,Any}((\"population\",8),0.36768758f0),Pair{Any,Any}((\"mixed\",20),0.4379238f0)]                     \n",
       " [Pair{Any,Any}((\"racing\",16),0.42366487f0),Pair{Any,Any}((\"racing\",17),0.43566388f0),Pair{Any,Any}((\"car\",5),0.4631629f0),Pair{Any,Any}((\"races\",13),0.47124088f0),Pair{Any,Any}((\"prix\",15),0.48116124f0)]                        \n",
       " [Pair{Any,Any}((\"rather\",16),0.59287184f0),Pair{Any,Any}((\"lose\",1),0.61896396f0),Pair{Any,Any}((\"whether\",16),0.6301135f0),Pair{Any,Any}((\"world\",13),0.637156f0),Pair{Any,Any}((\"doing\",11),0.63731027f0)]                       \n",
       " [Pair{Any,Any}((\"racial\",15),0.61707014f0),Pair{Any,Any}((\"mi\",13),0.6285727f0),Pair{Any,Any}((\"dearborn\",1),0.6412274f0),Pair{Any,Any}((\"lexington\",1),0.6462248f0),Pair{Any,Any}((\"louisville\",1),0.6473862f0)]                  \n",
       " [Pair{Any,Any}((\"that\",5),0.661414f0),Pair{Any,Any}((\"bigfoot\",3),0.68456054f0),Pair{Any,Any}((\"thought\",14),0.69747275f0),Pair{Any,Any}((\"conventions\",20),0.6993393f0),Pair{Any,Any}((\"artificer\",1),0.6994033f0)]               \n",
       " [Pair{Any,Any}((\"or\",14),0.50824845f0),Pair{Any,Any}((\"class\",10),0.53170884f0),Pair{Any,Any}((\"their\",5),0.5402069f0),Pair{Any,Any}((\"alien\",12),0.54398394f0),Pair{Any,Any}((\"identity\",2),0.54551125f0)]                        \n",
       " [Pair{Any,Any}((\"effective\",8),0.6365808f0),Pair{Any,Any}((\"facilities\",6),0.68425894f0),Pair{Any,Any}((\"moon\",12),0.69533974f0),Pair{Any,Any}((\"weaker\",7),0.6966672f0),Pair{Any,Any}((\"proliferation\",6),0.6980966f0)]           \n",
       " [Pair{Any,Any}((\"ira\",4),0.64411724f0),Pair{Any,Any}((\"candidate\",5),0.6614965f0),Pair{Any,Any}((\"voted\",4),0.6807908f0),Pair{Any,Any}((\"base\",3),0.68137926f0),Pair{Any,Any}((\"yardage\",1),0.68176985f0)]                         \n",
       " [Pair{Any,Any}((\"styled\",15),0.6833255f0),Pair{Any,Any}((\"ie\",14),0.6857219f0),Pair{Any,Any}((\"cantonese\",1),0.6861228f0),Pair{Any,Any}((\"village\",12),0.69505054f0),Pair{Any,Any}((\"treatment\",17),0.70528376f0)]                 \n",
       " [Pair{Any,Any}((\"advent\",1),0.6718125f0),Pair{Any,Any}((\"team\",13),0.68005717f0),Pair{Any,Any}((\"season\",20),0.69144607f0),Pair{Any,Any}((\"cup\",1),0.6938945f0),Pair{Any,Any}((\"athletics\",20),0.6967367f0)]                       \n",
       " [Pair{Any,Any}((\"crowd\",10),0.67460746f0),Pair{Any,Any}((\"material\",18),0.6776541f0),Pair{Any,Any}((\"alembert\",1),0.67844415f0),Pair{Any,Any}((\"ada\",12),0.684792f0),Pair{Any,Any}((\"need\",13),0.6858544f0)]                       \n",
       " [Pair{Any,Any}((\"broncos\",5),0.6471616f0),Pair{Any,Any}((\"season\",20),0.66147155f0),Pair{Any,Any}((\"season\",17),0.669857f0),Pair{Any,Any}((\"baseball\",18),0.67026854f0),Pair{Any,Any}((\"scored\",17),0.67487156f0)]                 \n",
       " [Pair{Any,Any}((\"investigating\",14),0.6748879f0),Pair{Any,Any}((\"hudson\",11),0.6927253f0),Pair{Any,Any}((\"armored\",19),0.7025998f0),Pair{Any,Any}((\"pistol\",13),0.70662594f0),Pair{Any,Any}((\"db\",15),0.71387756f0)]               \n",
       " [Pair{Any,Any}((\"car\",7),0.12254149f0),Pair{Any,Any}((\"driver\",5),0.14264947f0),Pair{Any,Any}((\"american\",12),0.45884776f0),Pair{Any,Any}((\"actor\",5),0.509978f0),Pair{Any,Any}((\"one\",8),0.51690733f0)]                           \n",
       " [Pair{Any,Any}((\"blind\",17),0.68031645f0),Pair{Any,Any}((\"inflatable\",1),0.6803392f0),Pair{Any,Any}((\"hunt\",14),0.6918639f0),Pair{Any,Any}((\"escape\",13),0.69391674f0),Pair{Any,Any}((\"frogs\",1),0.6973495f0)]                     \n",
       " [Pair{Any,Any}((\"greenway\",1),0.6091351f0),Pair{Any,Any}((\"zechs\",1),0.67077744f0),Pair{Any,Any}((\"pentagon\",6),0.6874218f0),Pair{Any,Any}((\"bligh\",1),0.7031872f0),Pair{Any,Any}((\"stopover\",1),0.7055953f0)]                     \n",
       " [Pair{Any,Any}((\"tournament\",4),0.6662191f0),Pair{Any,Any}((\"bodybuilding\",1),0.68049955f0),Pair{Any,Any}((\"motorcycle\",3),0.6825485f0),Pair{Any,Any}((\"transmutations\",1),0.6829694f0),Pair{Any,Any}((\"signings\",1),0.68904483f0)]\n",
       " [Pair{Any,Any}((\"anomalistic\",1),0.7064891f0),Pair{Any,Any}((\"taught\",3),0.70745456f0),Pair{Any,Any}((\"inner\",19),0.7168046f0),Pair{Any,Any}((\"pioneer\",14),0.71685386f0),Pair{Any,Any}((\"copying\",9),0.7202302f0)]                \n",
       " [Pair{Any,Any}((\"radiophonic\",1),0.6986311f0),Pair{Any,Any}((\"pheidippides\",1),0.70880646f0),Pair{Any,Any}((\"gods\",7),0.7168642f0),Pair{Any,Any}((\"draws\",14),0.72200835f0),Pair{Any,Any}((\"empty\",5),0.72327256f0)]               \n",
       " [Pair{Any,Any}((\"sale\",8),0.6279365f0),Pair{Any,Any}((\"parliamentary\",14),0.6479269f0),Pair{Any,Any}((\"religion\",7),0.6779308f0),Pair{Any,Any}((\"muslim\",9),0.67869663f0),Pair{Any,Any}((\"ll\",7),0.6974267f0)]                     "
      ]
     },
     "execution_count": 785,
     "metadata": {},
     "output_type": "execute_result"
    }
   ],
   "source": [
    "nearests = print_nearest_words(\"race\")"
   ]
  },
  {
   "cell_type": "code",
   "execution_count": null,
   "metadata": {
    "collapsed": false
   },
   "outputs": [],
   "source": [
    "print_nearest_words(\"dying\")"
   ]
  },
  {
   "cell_type": "code",
   "execution_count": null,
   "metadata": {
    "collapsed": false
   },
   "outputs": [],
   "source": [
    "print_nearest_words(\"fear\")"
   ]
  },
  {
   "cell_type": "code",
   "execution_count": null,
   "metadata": {
    "collapsed": false
   },
   "outputs": [],
   "source": [
    "print_nearest_words(\"mouse\")"
   ]
  },
  {
   "cell_type": "code",
   "execution_count": null,
   "metadata": {
    "collapsed": false
   },
   "outputs": [],
   "source": [
    "print_nearest_words(\"video\")"
   ]
  },
  {
   "cell_type": "code",
   "execution_count": null,
   "metadata": {
    "collapsed": false
   },
   "outputs": [],
   "source": [
    "print_nearest_words(\"phone\")"
   ]
  },
  {
   "cell_type": "code",
   "execution_count": null,
   "metadata": {
    "collapsed": false
   },
   "outputs": [],
   "source": [
    "print_nearest_words(\"came\")"
   ]
  },
  {
   "cell_type": "code",
   "execution_count": null,
   "metadata": {
    "collapsed": false
   },
   "outputs": [],
   "source": [
    "print_nearest_words(\"come\")"
   ]
  },
  {
   "cell_type": "code",
   "execution_count": null,
   "metadata": {
    "collapsed": false
   },
   "outputs": [],
   "source": [
    "print_nearest_words(\"define\")"
   ]
  },
  {
   "cell_type": "code",
   "execution_count": 148,
   "metadata": {
    "collapsed": false,
    "scrolled": true
   },
   "outputs": [
    {
     "name": "stdout",
     "output_type": "stream",
     "text": [
      "1\t[Pair{Any,Any}((\"ireland\",16),0.64708966f0),Pair{Any,Any}((\"britain\",16),0.64880353f0),Pair{Any,Any}((\"especially\",9),0.6513231f0),Pair{Any,Any}((\"provided\",15),0.67011666f0),Pair{Any,Any}((\"particularly\",20),0.6725949f0)]\n",
      "\n",
      "2\t[Pair{Any,Any}((\"deaths\",18),0.6309011f0),Pair{Any,Any}((\"sir\",20),0.6614016f0),Pair{Any,Any}((\"morgan\",1),0.6741953f0),Pair{Any,Any}((\"west\",18),0.6777778f0),Pair{Any,Any}((\"isbn\",5),0.67834324f0)]\n",
      "\n",
      "3\t[Pair{Any,Any}((\"prime\",13),0.2473808f0),Pair{Any,Any}((\"minister\",20),0.31629658f0),Pair{Any,Any}((\"prime\",1),0.32216263f0),Pair{Any,Any}((\"ministers\",4),0.34331042f0),Pair{Any,Any}((\"minister\",3),0.36456484f0)]\n",
      "\n",
      "4\t[Pair{Any,Any}((\"list\",8),0.59148026f0),Pair{Any,Any}((\"and\",20),0.614841f0),Pair{Any,Any}((\"official\",13),0.624194f0),Pair{Any,Any}((\"general\",18),0.62567335f0),Pair{Any,Any}((\"members\",15),0.629411f0)]\n",
      "\n",
      "5\t[Pair{Any,Any}((\"western\",13),0.4191454f0),Pair{Any,Any}((\"town\",10),0.42082667f0),Pair{Any,Any}((\"queensland\",4),0.43156624f0),Pair{Any,Any}((\"wales\",18),0.45057023f0),Pair{Any,Any}((\"south\",12),0.45707417f0)]\n",
      "\n",
      "6\t[Pair{Any,Any}((\"zealand\",17),0.51816374f0),Pair{Any,Any}((\"match\",1),0.51989126f0),Pair{Any,Any}((\"us\",14),0.5360247f0),Pair{Any,Any}((\"test\",15),0.5406124f0),Pair{Any,Any}((\"first\",13),0.5431219f0)]\n",
      "\n",
      "7\t[Pair{Any,Any}((\"cartoonist\",16),0.647694f0),Pair{Any,Any}((\"modernisation\",1),0.6486087f0),Pair{Any,Any}((\"april\",13),0.66997445f0),Pair{Any,Any}((\"becoming\",20),0.6734446f0),Pair{Any,Any}((\"american\",8),0.68248886f0)]\n",
      "\n",
      "8\t[Pair{Any,Any}((\"matters\",20),0.66755116f0),Pair{Any,Any}((\"ourselves\",1),0.6802366f0),Pair{Any,Any}((\"whites\",2),0.68125737f0),Pair{Any,Any}((\"peace\",6),0.68372583f0),Pair{Any,Any}((\"more\",6),0.68429744f0)]\n",
      "\n",
      "9\t[Pair{Any,Any}((\"south\",12),0.4463454f0),Pair{Any,Any}((\"wales\",19),0.4847467f0),Pair{Any,Any}((\"new\",3),0.5076965f0),Pair{Any,Any}((\"zealand\",17),0.51473045f0),Pair{Any,Any}((\"victoria\",11),0.51839817f0)]\n",
      "\n",
      "10\t[Pair{Any,Any}((\"aclu\",4),0.6944263f0),Pair{Any,Any}((\"affects\",1),0.69619596f0),Pair{Any,Any}((\"requested\",17),0.69798505f0),Pair{Any,Any}((\"enhanced\",19),0.7001114f0),Pair{Any,Any}((\"duchy\",1),0.70312595f0)]\n",
      "\n",
      "11\t[Pair{Any,Any}((\"won\",12),0.67440736f0),Pair{Any,Any}((\"the\",6),0.6763311f0),Pair{Any,Any}((\"england\",14),0.6785213f0),Pair{Any,Any}((\"bishops\",13),0.6839303f0),Pair{Any,Any}((\"city\",7),0.6852726f0)]\n",
      "\n",
      "12\t[Pair{Any,Any}((\"eastern\",1),0.45826256f0),Pair{Any,Any}((\"india\",12),0.48450494f0),Pair{Any,Any}((\"in\",1),0.48777324f0),Pair{Any,Any}((\"central\",19),0.4917227f0),Pair{Any,Any}((\"canada\",3),0.49812436f0)]\n",
      "\n",
      "13\t[Pair{Any,Any}((\"eight\",3),0.6424203f0),Pair{Any,Any}((\"b\",8),0.66651416f0),Pair{Any,Any}((\"nsw\",1),0.6762165f0),Pair{Any,Any}((\"three\",4),0.684096f0),Pair{Any,Any}((\"nine\",6),0.6855695f0)]\n",
      "\n",
      "14\t[Pair{Any,Any}((\"south\",17),0.34426063f0),Pair{Any,Any}((\"japan\",14),0.37043744f0),Pair{Any,Any}((\"africa\",7),0.3789521f0),Pair{Any,Any}((\"and\",6),0.38012308f0),Pair{Any,Any}((\"east\",9),0.3821984f0)]\n",
      "\n",
      "15\t[Pair{Any,Any}((\"broke\",1),0.6366043f0),Pair{Any,Any}((\"july\",5),0.6627748f0),Pair{Any,Any}((\"zealand\",17),0.6700146f0),Pair{Any,Any}((\"question\",20),0.6760824f0),Pair{Any,Any}((\"the\",11),0.67849857f0)]\n",
      "\n",
      "16\t[Pair{Any,Any}((\"advance\",6),0.48215127f0),Pair{Any,Any}((\"canada\",20),0.5794129f0),Pair{Any,Any}((\"britain\",20),0.5893681f0),Pair{Any,Any}((\"france\",9),0.60055745f0),Pair{Any,Any}((\"germany\",6),0.6300453f0)]\n",
      "\n",
      "17\t[Pair{Any,Any}((\"australian\",12),0.42347747f0),Pair{Any,Any}((\"international\",20),0.44074863f0),Pair{Any,Any}((\"england\",11),0.47114956f0),Pair{Any,Any}((\"uk\",4),0.47835565f0),Pair{Any,Any}((\"an\",3),0.47924346f0)]\n",
      "\n",
      "18\t[Pair{Any,Any}((\"zealand\",12),0.18529892f0),Pair{Any,Any}((\"new\",3),0.24071127f0),Pair{Any,Any}((\"canada\",3),0.2889933f0),Pair{Any,Any}((\"kingdom\",6),0.36203885f0),Pair{Any,Any}((\"netherlands\",18),0.38124573f0)]\n",
      "\n",
      "19\t[Pair{Any,Any}((\"many\",8),0.43426085f0),Pair{Any,Any}((\"in\",15),0.47859168f0),Pair{Any,Any}((\"and\",20),0.48893946f0),Pair{Any,Any}((\"a\",11),0.4949652f0),Pair{Any,Any}((\"uk\",14),0.4982586f0)]\n",
      "\n",
      "20\t[Pair{Any,Any}((\"europe\",18),0.48324925f0),Pair{Any,Any}((\"countries\",18),0.49733496f0),Pair{Any,Any}((\"canada\",15),0.5158184f0),Pair{Any,Any}((\"many\",1),0.53822476f0),Pair{Any,Any}((\"television\",7),0.54350066f0)]\n",
      "\n"
     ]
    }
   ],
   "source": [
    "print_nearest_words(\"australia\")"
   ]
  },
  {
   "cell_type": "code",
   "execution_count": 552,
   "metadata": {
    "collapsed": false
   },
   "outputs": [
    {
     "name": "stdout",
     "output_type": "stream",
     "text": [
      "1\t[Pair{Any,Any}((\"states\",10),0.44406152f0),Pair{Any,Any}((\"states\",13),0.44755912f0),Pair{Any,Any}((\"kingdom\",1),0.44778913f0),Pair{Any,Any}((\"america\",9),0.45211357f0),Pair{Any,Any}((\"united\",15),0.45302373f0)]\n",
      "\n",
      "2\t[Pair{Any,Any}((\"nations\",20),0.3316921f0),Pair{Any,Any}((\"countries\",1),0.35931808f0),Pair{Any,Any}((\"and\",6),0.3976617f0),Pair{Any,Any}((\"of\",6),0.4001304f0),Pair{Any,Any}((\"united\",4),0.4064538f0)]\n",
      "\n",
      "3\t[Pair{Any,Any}((\"united\",14),0.3348794f0),Pair{Any,Any}((\"constitution\",1),0.34970987f0),Pair{Any,Any}((\"states\",14),0.3956474f0),Pair{Any,Any}((\"u\",7),0.40181845f0),Pair{Any,Any}((\"states\",5),0.44029248f0)]\n",
      "\n",
      "4\t[Pair{Any,Any}((\"kingdom\",1),0.2919402f0),Pair{Any,Any}((\"united\",13),0.30385137f0),Pair{Any,Any}((\"constitution\",1),0.3695827f0),Pair{Any,Any}((\"that\",3),0.37023968f0),Pair{Any,Any}((\"federal\",20),0.41255087f0)]\n",
      "\n",
      "5\t[Pair{Any,Any}((\"united\",12),0.35347873f0),Pair{Any,Any}((\"states\",8),0.355218f0),Pair{Any,Any}((\"states\",7),0.3958528f0),Pair{Any,Any}((\"states\",13),0.40636587f0),Pair{Any,Any}((\"united\",16),0.4129343f0)]\n",
      "\n",
      "6\t[Pair{Any,Any}((\"united\",10),0.35612613f0),Pair{Any,Any}((\"united\",7),0.37133628f0),Pair{Any,Any}((\"naval\",1),0.3726164f0),Pair{Any,Any}((\"navy\",1),0.3882202f0),Pair{Any,Any}((\"air\",10),0.3950947f0)]\n",
      "\n",
      "7\t[Pair{Any,Any}((\"united\",1),0.29181087f0),Pair{Any,Any}((\"states\",5),0.3958528f0),Pair{Any,Any}((\"kingdom\",8),0.42643237f0),Pair{Any,Any}((\"states\",8),0.44342613f0),Pair{Any,Any}((\"united\",16),0.4694534f0)]\n",
      "\n",
      "8\t[Pair{Any,Any}((\"united\",12),0.3402779f0),Pair{Any,Any}((\"states\",5),0.355218f0),Pair{Any,Any}((\"kingdom\",1),0.4408787f0),Pair{Any,Any}((\"states\",7),0.44342613f0),Pair{Any,Any}((\"states\",18),0.47607845f0)]\n",
      "\n",
      "9\t[Pair{Any,Any}((\"united\",10),0.24158186f0),Pair{Any,Any}((\"force\",6),0.3900885f0),Pair{Any,Any}((\"states\",6),0.40196747f0),Pair{Any,Any}((\"army\",4),0.4091851f0),Pair{Any,Any}((\"united\",11),0.43830615f0)]\n",
      "\n",
      "10\t[Pair{Any,Any}((\"united\",17),0.31038278f0),Pair{Any,Any}((\"kingdom\",9),0.31697035f0),Pair{Any,Any}((\"external\",9),0.42242444f0),Pair{Any,Any}((\"states\",1),0.44406152f0),Pair{Any,Any}((\"department\",10),0.45678663f0)]\n",
      "\n",
      "11\t[Pair{Any,Any}((\"united\",20),0.32059765f0),Pair{Any,Any}((\"kingdom\",1),0.32548404f0),Pair{Any,Any}((\"states\",20),0.45006412f0),Pair{Any,Any}((\"states\",4),0.4601704f0),Pair{Any,Any}((\"nations\",17),0.46762335f0)]\n",
      "\n",
      "12\t[Pair{Any,Any}((\"were\",11),0.42528677f0),Pair{Any,Any}((\"several\",13),0.44503522f0),Pair{Any,Any}((\"countries\",19),0.46536934f0),Pair{Any,Any}((\"smaller\",2),0.46912175f0),Pair{Any,Any}((\"nations\",10),0.47582614f0)]\n",
      "\n",
      "13\t[Pair{Any,Any}((\"kingdom\",10),0.29201788f0),Pair{Any,Any}((\"nations\",19),0.31786746f0),Pair{Any,Any}((\"united\",9),0.35960734f0),Pair{Any,Any}((\"states\",5),0.40636587f0),Pair{Any,Any}((\"kingdom\",1),0.4172716f0)]\n",
      "\n",
      "14\t[Pair{Any,Any}((\"united\",19),0.15835601f0),Pair{Any,Any}((\"representatives\",13),0.33551913f0),Pair{Any,Any}((\"president\",17),0.35693407f0),Pair{Any,Any}((\"united\",18),0.36217088f0),Pair{Any,Any}((\"presidents\",10),0.38865036f0)]\n",
      "\n",
      "15\t[Pair{Any,Any}((\"thus\",19),0.4031967f0),Pair{Any,Any}((\"means\",2),0.42299604f0),Pair{Any,Any}((\"however\",13),0.42793894f0),Pair{Any,Any}((\"has\",19),0.43664867f0),Pair{Any,Any}((\"of\",18),0.4391135f0)]\n",
      "\n",
      "16\t[Pair{Any,Any}((\"writes\",5),0.5006741f0),Pair{Any,Any}((\"argues\",20),0.5297605f0),Pair{Any,Any}((\"says\",1),0.53935444f0),Pair{Any,Any}((\"wrote\",16),0.540336f0),Pair{Any,Any}((\"believe\",5),0.55173147f0)]\n",
      "\n",
      "17\t[Pair{Any,Any}((\"kingdom\",5),0.24508834f0),Pair{Any,Any}((\"canada\",3),0.25505763f0),Pair{Any,Any}((\"united\",2),0.28550762f0),Pair{Any,Any}((\"kingdom\",6),0.29278505f0),Pair{Any,Any}((\"france\",2),0.30027217f0)]\n",
      "\n",
      "18\t[Pair{Any,Any}((\"united\",7),0.34809154f0),Pair{Any,Any}((\"united\",3),0.36504114f0),Pair{Any,Any}((\"new\",17),0.38884473f0),Pair{Any,Any}((\"missouri\",20),0.407637f0),Pair{Any,Any}((\"florida\",6),0.43585122f0)]\n",
      "\n",
      "19\t[Pair{Any,Any}((\"member\",19),0.39933103f0),Pair{Any,Any}((\"countries\",13),0.46312135f0),Pair{Any,Any}((\"other\",14),0.46388906f0),Pair{Any,Any}((\"organizations\",20),0.47801727f0),Pair{Any,Any}((\"most\",6),0.47863674f0)]\n",
      "\n",
      "20\t[Pair{Any,Any}((\"united\",5),0.283252f0),Pair{Any,Any}((\"war\",11),0.34546173f0),Pair{Any,Any}((\"kingdom\",5),0.4018994f0),Pair{Any,Any}((\"cold\",18),0.41178983f0),Pair{Any,Any}((\"treaty\",11),0.42411733f0)]\n",
      "\n"
     ]
    },
    {
     "data": {
      "text/plain": [
       "20-element Array{Any,1}:\n",
       " [Pair{Any,Any}((\"states\",10),0.44406152f0),Pair{Any,Any}((\"states\",13),0.44755912f0),Pair{Any,Any}((\"kingdom\",1),0.44778913f0),Pair{Any,Any}((\"america\",9),0.45211357f0),Pair{Any,Any}((\"united\",15),0.45302373f0)]                \n",
       " [Pair{Any,Any}((\"nations\",20),0.3316921f0),Pair{Any,Any}((\"countries\",1),0.35931808f0),Pair{Any,Any}((\"and\",6),0.3976617f0),Pair{Any,Any}((\"of\",6),0.4001304f0),Pair{Any,Any}((\"united\",4),0.4064538f0)]                           \n",
       " [Pair{Any,Any}((\"united\",14),0.3348794f0),Pair{Any,Any}((\"constitution\",1),0.34970987f0),Pair{Any,Any}((\"states\",14),0.3956474f0),Pair{Any,Any}((\"u\",7),0.40181845f0),Pair{Any,Any}((\"states\",5),0.44029248f0)]                    \n",
       " [Pair{Any,Any}((\"kingdom\",1),0.2919402f0),Pair{Any,Any}((\"united\",13),0.30385137f0),Pair{Any,Any}((\"constitution\",1),0.3695827f0),Pair{Any,Any}((\"that\",3),0.37023968f0),Pair{Any,Any}((\"federal\",20),0.41255087f0)]               \n",
       " [Pair{Any,Any}((\"united\",12),0.35347873f0),Pair{Any,Any}((\"states\",8),0.355218f0),Pair{Any,Any}((\"states\",7),0.3958528f0),Pair{Any,Any}((\"states\",13),0.40636587f0),Pair{Any,Any}((\"united\",16),0.4129343f0)]                      \n",
       " [Pair{Any,Any}((\"united\",10),0.35612613f0),Pair{Any,Any}((\"united\",7),0.37133628f0),Pair{Any,Any}((\"naval\",1),0.3726164f0),Pair{Any,Any}((\"navy\",1),0.3882202f0),Pair{Any,Any}((\"air\",10),0.3950947f0)]                            \n",
       " [Pair{Any,Any}((\"united\",1),0.29181087f0),Pair{Any,Any}((\"states\",5),0.3958528f0),Pair{Any,Any}((\"kingdom\",8),0.42643237f0),Pair{Any,Any}((\"states\",8),0.44342613f0),Pair{Any,Any}((\"united\",16),0.4694534f0)]                     \n",
       " [Pair{Any,Any}((\"united\",12),0.3402779f0),Pair{Any,Any}((\"states\",5),0.355218f0),Pair{Any,Any}((\"kingdom\",1),0.4408787f0),Pair{Any,Any}((\"states\",7),0.44342613f0),Pair{Any,Any}((\"states\",18),0.47607845f0)]                      \n",
       " [Pair{Any,Any}((\"united\",10),0.24158186f0),Pair{Any,Any}((\"force\",6),0.3900885f0),Pair{Any,Any}((\"states\",6),0.40196747f0),Pair{Any,Any}((\"army\",4),0.4091851f0),Pair{Any,Any}((\"united\",11),0.43830615f0)]                        \n",
       " [Pair{Any,Any}((\"united\",17),0.31038278f0),Pair{Any,Any}((\"kingdom\",9),0.31697035f0),Pair{Any,Any}((\"external\",9),0.42242444f0),Pair{Any,Any}((\"states\",1),0.44406152f0),Pair{Any,Any}((\"department\",10),0.45678663f0)]            \n",
       " [Pair{Any,Any}((\"united\",20),0.32059765f0),Pair{Any,Any}((\"kingdom\",1),0.32548404f0),Pair{Any,Any}((\"states\",20),0.45006412f0),Pair{Any,Any}((\"states\",4),0.4601704f0),Pair{Any,Any}((\"nations\",17),0.46762335f0)]                 \n",
       " [Pair{Any,Any}((\"were\",11),0.42528677f0),Pair{Any,Any}((\"several\",13),0.44503522f0),Pair{Any,Any}((\"countries\",19),0.46536934f0),Pair{Any,Any}((\"smaller\",2),0.46912175f0),Pair{Any,Any}((\"nations\",10),0.47582614f0)]             \n",
       " [Pair{Any,Any}((\"kingdom\",10),0.29201788f0),Pair{Any,Any}((\"nations\",19),0.31786746f0),Pair{Any,Any}((\"united\",9),0.35960734f0),Pair{Any,Any}((\"states\",5),0.40636587f0),Pair{Any,Any}((\"kingdom\",1),0.4172716f0)]                 \n",
       " [Pair{Any,Any}((\"united\",19),0.15835601f0),Pair{Any,Any}((\"representatives\",13),0.33551913f0),Pair{Any,Any}((\"president\",17),0.35693407f0),Pair{Any,Any}((\"united\",18),0.36217088f0),Pair{Any,Any}((\"presidents\",10),0.38865036f0)]\n",
       " [Pair{Any,Any}((\"thus\",19),0.4031967f0),Pair{Any,Any}((\"means\",2),0.42299604f0),Pair{Any,Any}((\"however\",13),0.42793894f0),Pair{Any,Any}((\"has\",19),0.43664867f0),Pair{Any,Any}((\"of\",18),0.4391135f0)]                            \n",
       " [Pair{Any,Any}((\"writes\",5),0.5006741f0),Pair{Any,Any}((\"argues\",20),0.5297605f0),Pair{Any,Any}((\"says\",1),0.53935444f0),Pair{Any,Any}((\"wrote\",16),0.540336f0),Pair{Any,Any}((\"believe\",5),0.55173147f0)]                         \n",
       " [Pair{Any,Any}((\"kingdom\",5),0.24508834f0),Pair{Any,Any}((\"canada\",3),0.25505763f0),Pair{Any,Any}((\"united\",2),0.28550762f0),Pair{Any,Any}((\"kingdom\",6),0.29278505f0),Pair{Any,Any}((\"france\",2),0.30027217f0)]                   \n",
       " [Pair{Any,Any}((\"united\",7),0.34809154f0),Pair{Any,Any}((\"united\",3),0.36504114f0),Pair{Any,Any}((\"new\",17),0.38884473f0),Pair{Any,Any}((\"missouri\",20),0.407637f0),Pair{Any,Any}((\"florida\",6),0.43585122f0)]                     \n",
       " [Pair{Any,Any}((\"member\",19),0.39933103f0),Pair{Any,Any}((\"countries\",13),0.46312135f0),Pair{Any,Any}((\"other\",14),0.46388906f0),Pair{Any,Any}((\"organizations\",20),0.47801727f0),Pair{Any,Any}((\"most\",6),0.47863674f0)]          \n",
       " [Pair{Any,Any}((\"united\",5),0.283252f0),Pair{Any,Any}((\"war\",11),0.34546173f0),Pair{Any,Any}((\"kingdom\",5),0.4018994f0),Pair{Any,Any}((\"cold\",18),0.41178983f0),Pair{Any,Any}((\"treaty\",11),0.42411733f0)]                         "
      ]
     },
     "execution_count": 552,
     "metadata": {},
     "output_type": "execute_result"
    }
   ],
   "source": [
    "nearests = print_nearest_words(\"states\")"
   ]
  },
  {
   "cell_type": "code",
   "execution_count": null,
   "metadata": {
    "collapsed": true
   },
   "outputs": [],
   "source": []
  },
  {
   "cell_type": "code",
   "execution_count": 789,
   "metadata": {
    "collapsed": false
   },
   "outputs": [
    {
     "name": "stderr",
     "output_type": "stream",
     "text": [
      "WARNING: Method definition exemplars(Clustering.AffinityPropResult) in module Main at In[663]:1 overwritten at In[789]:1.\n",
      "WARNING: Method definition exemplars(Clustering.KmedoidsResult) in module Main at In[663]:2 overwritten at In[789]:2.\n",
      "WARNING: Method definition print_clusters(Clustering.ClusteringResult) in module Main at In[663]:4 overwritten at In[789]:4.\n"
     ]
    },
    {
     "data": {
      "text/plain": [
       "print_clusters (generic function with 4 methods)"
      ]
     },
     "execution_count": 789,
     "metadata": {},
     "output_type": "execute_result"
    }
   ],
   "source": [
    "exemplars(af::AffinityPropResult) = af.exemplars\n",
    "exemplars(kf::KmedoidsResult) = kf.medoids\n",
    "function print_clusters(af::Clustering.ClusteringResult)\n",
    "    true_examplars = kept_indexes[exemplars(af)]\n",
    "    @show true_examplars \n",
    "    true_assignments = true_examplars[assignments(af)];\n",
    "    @show true_assignments\n",
    "    println(\"--\")\n",
    "    for true_exemplar_ii in true_examplars\n",
    "        for (orignal_sense_ii, true_assignment_ii) in enumerate(true_assignments)\n",
    "            true_original_sense_ii = kept_indexes[orignal_sense_ii]\n",
    "            if true_assignment_ii==true_exemplar_ii\n",
    "                if true_original_sense_ii==true_exemplar_ii\n",
    "                    print(\"*\")\n",
    "                end\n",
    "                println(nearests[true_original_sense_ii])\n",
    "            end\n",
    "        end\n",
    "        println()\n",
    "        \n",
    "    end\n",
    "end\n",
    "\n",
    "function print_clusters(ass::Vector, nearests_words)\n",
    "    for grp in groupby(first, sort(collect(zip(ass,nearests_words)), by=first))\n",
    "        for (grp_id, nearests) in grp\n",
    "            println(nearests) \n",
    "        end\n",
    "        println()\n",
    "    end\n",
    "    \n",
    "end"
   ]
  },
  {
   "cell_type": "code",
   "execution_count": 664,
   "metadata": {
    "collapsed": false
   },
   "outputs": [
    {
     "name": "stdout",
     "output_type": "stream",
     "text": [
      "[Pair{Any,Any}((\"states\",10),0.44406152f0),Pair{Any,Any}((\"states\",13),0.44755912f0),Pair{Any,Any}((\"kingdom\",1),0.44778913f0),Pair{Any,Any}((\"america\",9),0.45211357f0),Pair{Any,Any}((\"united\",15),0.45302373f0)]\n",
      "[Pair{Any,Any}((\"nations\",20),0.3316921f0),Pair{Any,Any}((\"countries\",1),0.35931808f0),Pair{Any,Any}((\"and\",6),0.3976617f0),Pair{Any,Any}((\"of\",6),0.4001304f0),Pair{Any,Any}((\"united\",4),0.4064538f0)]\n",
      "[Pair{Any,Any}((\"united\",14),0.3348794f0),Pair{Any,Any}((\"constitution\",1),0.34970987f0),Pair{Any,Any}((\"states\",14),0.3956474f0),Pair{Any,Any}((\"u\",7),0.40181845f0),Pair{Any,Any}((\"states\",5),0.44029248f0)]\n",
      "[Pair{Any,Any}((\"kingdom\",1),0.2919402f0),Pair{Any,Any}((\"united\",13),0.30385137f0),Pair{Any,Any}((\"constitution\",1),0.3695827f0),Pair{Any,Any}((\"that\",3),0.37023968f0),Pair{Any,Any}((\"federal\",20),0.41255087f0)]\n",
      "[Pair{Any,Any}((\"united\",12),0.35347873f0),Pair{Any,Any}((\"states\",8),0.355218f0),Pair{Any,Any}((\"states\",7),0.3958528f0),Pair{Any,Any}((\"states\",13),0.40636587f0),Pair{Any,Any}((\"united\",16),0.4129343f0)]\n",
      "[Pair{Any,Any}((\"united\",10),0.24158186f0),Pair{Any,Any}((\"force\",6),0.3900885f0),Pair{Any,Any}((\"states\",6),0.40196747f0),Pair{Any,Any}((\"army\",4),0.4091851f0),Pair{Any,Any}((\"united\",11),0.43830615f0)]\n",
      "[Pair{Any,Any}((\"united\",17),0.31038278f0),Pair{Any,Any}((\"kingdom\",9),0.31697035f0),Pair{Any,Any}((\"external\",9),0.42242444f0),Pair{Any,Any}((\"states\",1),0.44406152f0),Pair{Any,Any}((\"department\",10),0.45678663f0)]\n",
      "[Pair{Any,Any}((\"writes\",5),0.5006741f0),Pair{Any,Any}((\"argues\",20),0.5297605f0),Pair{Any,Any}((\"says\",1),0.53935444f0),Pair{Any,Any}((\"wrote\",16),0.540336f0),Pair{Any,Any}((\"believe\",5),0.55173147f0)]\n",
      "[Pair{Any,Any}((\"united\",7),0.34809154f0),Pair{Any,Any}((\"united\",3),0.36504114f0),Pair{Any,Any}((\"new\",17),0.38884473f0),Pair{Any,Any}((\"missouri\",20),0.407637f0),Pair{Any,Any}((\"florida\",6),0.43585122f0)]\n",
      "\n",
      "[Pair{Any,Any}((\"united\",10),0.35612613f0),Pair{Any,Any}((\"united\",7),0.37133628f0),Pair{Any,Any}((\"naval\",1),0.3726164f0),Pair{Any,Any}((\"navy\",1),0.3882202f0),Pair{Any,Any}((\"air\",10),0.3950947f0)]\n",
      "[Pair{Any,Any}((\"united\",1),0.29181087f0),Pair{Any,Any}((\"states\",5),0.3958528f0),Pair{Any,Any}((\"kingdom\",8),0.42643237f0),Pair{Any,Any}((\"states\",8),0.44342613f0),Pair{Any,Any}((\"united\",16),0.4694534f0)]\n",
      "[Pair{Any,Any}((\"united\",12),0.3402779f0),Pair{Any,Any}((\"states\",5),0.355218f0),Pair{Any,Any}((\"kingdom\",1),0.4408787f0),Pair{Any,Any}((\"states\",7),0.44342613f0),Pair{Any,Any}((\"states\",18),0.47607845f0)]\n",
      "[Pair{Any,Any}((\"were\",11),0.42528677f0),Pair{Any,Any}((\"several\",13),0.44503522f0),Pair{Any,Any}((\"countries\",19),0.46536934f0),Pair{Any,Any}((\"smaller\",2),0.46912175f0),Pair{Any,Any}((\"nations\",10),0.47582614f0)]\n",
      "[Pair{Any,Any}((\"kingdom\",10),0.29201788f0),Pair{Any,Any}((\"nations\",19),0.31786746f0),Pair{Any,Any}((\"united\",9),0.35960734f0),Pair{Any,Any}((\"states\",5),0.40636587f0),Pair{Any,Any}((\"kingdom\",1),0.4172716f0)]\n",
      "[Pair{Any,Any}((\"kingdom\",5),0.24508834f0),Pair{Any,Any}((\"canada\",3),0.25505763f0),Pair{Any,Any}((\"united\",2),0.28550762f0),Pair{Any,Any}((\"kingdom\",6),0.29278505f0),Pair{Any,Any}((\"france\",2),0.30027217f0)]\n",
      "[Pair{Any,Any}((\"member\",19),0.39933103f0),Pair{Any,Any}((\"countries\",13),0.46312135f0),Pair{Any,Any}((\"other\",14),0.46388906f0),Pair{Any,Any}((\"organizations\",20),0.47801727f0),Pair{Any,Any}((\"most\",6),0.47863674f0)]\n",
      "\n",
      "[Pair{Any,Any}((\"united\",20),0.32059765f0),Pair{Any,Any}((\"kingdom\",1),0.32548404f0),Pair{Any,Any}((\"states\",20),0.45006412f0),Pair{Any,Any}((\"states\",4),0.4601704f0),Pair{Any,Any}((\"nations\",17),0.46762335f0)]\n",
      "[Pair{Any,Any}((\"united\",19),0.15835601f0),Pair{Any,Any}((\"representatives\",13),0.33551913f0),Pair{Any,Any}((\"president\",17),0.35693407f0),Pair{Any,Any}((\"united\",18),0.36217088f0),Pair{Any,Any}((\"presidents\",10),0.38865036f0)]\n",
      "[Pair{Any,Any}((\"thus\",19),0.4031967f0),Pair{Any,Any}((\"means\",2),0.42299604f0),Pair{Any,Any}((\"however\",13),0.42793894f0),Pair{Any,Any}((\"has\",19),0.43664867f0),Pair{Any,Any}((\"of\",18),0.4391135f0)]\n",
      "\n",
      "[Pair{Any,Any}((\"united\",5),0.283252f0),Pair{Any,Any}((\"war\",11),0.34546173f0),Pair{Any,Any}((\"kingdom\",5),0.4018994f0),Pair{Any,Any}((\"cold\",18),0.41178983f0),Pair{Any,Any}((\"treaty\",11),0.42411733f0)]\n",
      "\n"
     ]
    }
   ],
   "source": []
  },
  {
   "cell_type": "code",
   "execution_count": null,
   "metadata": {
    "collapsed": false
   },
   "outputs": [],
   "source": [
    "using LightXML\n",
    "using Pipe\n",
    "Base.iteratorsize(::Type{LightXML.XMLNodeIter})=Base.SizeUnknown()\n",
    "Base.iteratorsize(::Type{LightXML.XMLElementIter})=Base.SizeUnknown()"
   ]
  },
  {
   "cell_type": "code",
   "execution_count": null,
   "metadata": {
    "collapsed": false
   },
   "outputs": [],
   "source": [
    "function load_semeval(filename)\n",
    "\n",
    "    function get_wsd_case(instance_node, preprocess=lowercase)\n",
    "        word=\"\"\n",
    "        context=String[]\n",
    "        for node in instance_node |> child_nodes\n",
    "            if is_elementnode(node)\n",
    "                @assert word==\"\"\n",
    "                word = node |>child_nodes |> first |> string |> preprocess |> strip\n",
    "            else\n",
    "                @assert(node|>is_textnode)\n",
    "                append!(context, node|>string|>preprocess|>split)\n",
    "            end\n",
    "        end\n",
    "        @assert word!=\"\"\n",
    "        word, context\n",
    "    end\n",
    "\n",
    "    xdoc = parse_file(filename)\n",
    "    \n",
    "    xroot = root(xdoc);  # an instance of XMLElement\n",
    "    nodes = Base.Flatten(child_elements(instance)  for instance in child_elements(xroot)) \n",
    "    map(get_wsd_case, nodes) |> collect    \n",
    "end"
   ]
  },
  {
   "cell_type": "code",
   "execution_count": null,
   "metadata": {
    "collapsed": false,
    "scrolled": true
   },
   "outputs": [],
   "source": [
    "#cases = load_semeval(\"./data/corpora/semeval2007t2/trial_data/English.LS.txt\");"
   ]
  },
  {
   "cell_type": "markdown",
   "metadata": {},
   "source": [
    "# What makes a particular set of sense embeddings good?\n",
    "Goal here is to define a fittness function for a set of sentence embeddings.  \n",
    "\n",
    "THis is loosely similar to the criteria for a good set of clusters. \n",
    "A good clustering has small varience within the class;\n",
    "and we write:\n",
    "$$g_{fit}(Z=\\{z_1,z_2,...,z_k\\})=\\dfrac{1}{|Z|}{\\sum\\limits_{\\forall z \\in Z}}\\:{\\sum\\limits_{\\forall x\\in \\mathcal{C}(z)}{\\left(x-z\\right)^2}}$$\n",
    "\n",
    "A good sense embeddings assigned a high probability of its context, when it is the highest, and a low probability of its context when it is not highest -- forcing each sense to be different.\n",
    "\n"
   ]
  },
  {
   "cell_type": "code",
   "execution_count": 4,
   "metadata": {
    "collapsed": false
   },
   "outputs": [
    {
     "data": {
      "text/plain": [
       "perplexity (generic function with 2 methods)"
      ]
     },
     "execution_count": 4,
     "metadata": {},
     "output_type": "execute_result"
    }
   ],
   "source": [
    "function perplexity(ee, cases, banned_senses=Dict())\n",
    "    sum_of_logprobs = 0.0\n",
    "    nwords = 0\n",
    "    for case in cases\n",
    "        w_ind = length(case)÷2\n",
    "        word = case[w_ind]\n",
    "        haskey(ee.embedding, word) || continue\n",
    "        context = case[[1:w_ind-1;w_ind+1:end]]\n",
    "        \n",
    "        best_logprob = -Inf\n",
    "        for (s_id, s_emb) in enumerate(ee.embedding[word])\n",
    "            haskey(banned_senses, word) && s_id in banned_senses[word] && continue\n",
    "            best_logprob = max(best_logprob, \n",
    "                logprob_of_context(ee,context, s_emb; \n",
    "            skip_oov=true, normalise_over_length=true ))   \n",
    "        end\n",
    "        nwords+=1\n",
    "        sum_of_logprobs+=best_logprob\n",
    "    end\n",
    "    @show(sum_of_logprobs)\n",
    "    @show(nwords)\n",
    "    cross_entropy = -1.0/nwords * sum_of_logprobs \n",
    "    @show(cross_entropy)\n",
    "    exp(cross_entropy)\n",
    "end"
   ]
  },
  {
   "cell_type": "code",
   "execution_count": null,
   "metadata": {
    "collapsed": false
   },
   "outputs": [],
   "source": [
    "perplexity(ee,cases[end÷2:end])"
   ]
  },
  {
   "cell_type": "code",
   "execution_count": null,
   "metadata": {
    "collapsed": false
   },
   "outputs": [],
   "source": [
    "exp(-4.333793639526367e6 *(-1/548704))\n",
    "#Maximum Perp = 2692.5282875803277\n",
    "#Minimum Perp = 22033.97695332202\n",
    "#Mean Perp = 7596.212357052384\n",
    "#Median Perp = 7550.162665209774"
   ]
  },
  {
   "cell_type": "code",
   "execution_count": 311,
   "metadata": {
    "collapsed": false
   },
   "outputs": [
    {
     "data": {
      "text/plain": [
       "\"\""
      ]
     },
     "execution_count": 311,
     "metadata": {},
     "output_type": "execute_result"
    }
   ],
   "source": [
    "\n",
    "\n",
    "#cases = sliding_window( words_of(\"data/corpora/text8/text8\"))|> collect \n",
    "#case = case[1:end÷10]\n",
    "cases = sliding_window( words_of(\"../test/data/text8_tiny\"))|> collect \n",
    "\n",
    "all_logprobs = DefaultDict(Any,Any, ()->[])\n",
    "for case in cases\n",
    "    w_ind = length(case)÷2\n",
    "    word = case[w_ind]\n",
    "    haskey(ee.embedding, word) || continue\n",
    "    context = case[[1:w_ind-1;w_ind+1:end]]\n",
    "    probs = Float64[logprob_of_context(ee, context, sense_embed; skip_oov=true, normalise_over_length=true)\n",
    "                    for  sense_embed in ee.embedding[word]]\n",
    "    push!(all_logprobs[word], probs)\n",
    "end\n",
    "all_logprobs = Dict([word=>hcat(logprobs_list...)' for (word,logprobs_list) in all_logprobs]) \n",
    "utilisation = Dict(([word=>sum(logprobs_list.==maximum(logprobs_list,2),1)[:] for (word,logprobs_list) in all_logprobs]) )\n",
    "\n",
    "    \"\"\n"
   ]
  },
  {
   "cell_type": "code",
   "execution_count": 706,
   "metadata": {
    "collapsed": false
   },
   "outputs": [
    {
     "data": {
      "text/plain": [
       "\"\""
      ]
     },
     "execution_count": 706,
     "metadata": {},
     "output_type": "execute_result"
    }
   ],
   "source": [
    "logprobs_t = []\n",
    "cases = sliding_window( words_of(\"data/corpora/text8/text8\"))|> collect \n",
    "for case in cases\n",
    "    w_ind = length(case)÷2\n",
    "    word = case[w_ind]\n",
    "    if word!= \"states\" \n",
    "        continue\n",
    "    end\n",
    "    context = case[[1:w_ind-1;w_ind+1:end]]\n",
    "    probs = Float64[logprob_of_context(ee, context, sense_embed; skip_oov=true, normalise_over_length=true)\n",
    "                    for  sense_embed in ee.embedding[word]]\n",
    "    push!(logprobs_t, probs)\n",
    "end\n",
    "\"\""
   ]
  },
  {
   "cell_type": "code",
   "execution_count": 707,
   "metadata": {
    "collapsed": false
   },
   "outputs": [
    {
     "data": {
      "text/plain": [
       "\"\""
      ]
     },
     "execution_count": 707,
     "metadata": {},
     "output_type": "execute_result"
    }
   ],
   "source": [
    "logprobs_t = hcat(logprobs_t...)'\n",
    "utilisation_t = sum(logprobs_t.==maximum(logprobs_t,2),1)[:]\n",
    "cost_to_replace_t=zeros(size(logprobs_t,2),size(logprobs_t,2))\n",
    "for case in 1:size(logprobs_t,1)\n",
    "    best_sense_logprob, best_sense = findmax(logprobs_t[case,:])\n",
    "    #Only the best sense count for scored -- the is no cost to replace 2nd best with third best\n",
    "    for r_sense in 1:size(logprobs_t,2)\n",
    "        cost_to_replace_t[best_sense, r_sense]=best_sense_logprob-logprobs_t[case,r_sense]\n",
    "    end\n",
    "end\n",
    "balanced_cost_to_replace_t = cost_to_replace_t./utilisation_t;\n",
    "\"\""
   ]
  },
  {
   "cell_type": "code",
   "execution_count": 711,
   "metadata": {
    "collapsed": false
   },
   "outputs": [
    {
     "data": {
      "text/plain": [
       "20×20 Array{Float64,2}:\n",
       " 0.0          0.00259316   1.72844e-6   0.000340356  …  0.00265254   0.00123143   0.00167258 \n",
       " 0.000568332  0.0          0.00114708   0.0011345       0.000758685  5.55439e-5   0.000568204\n",
       " 0.00119014   0.00281492   0.0          0.0012742       0.00398878   0.00235758   0.00169803 \n",
       " 0.00228625   0.0023039    0.00172409   0.0             0.00175399   0.00209656   0.00177017 \n",
       " 0.00273903   0.00218354   0.00216159   0.00181441      0.00286604   0.00017541   0.00181901 \n",
       " 0.00244187   0.00497829   0.00186434   0.00196877   …  0.00411306   0.00189014   0.0010665  \n",
       " 0.00230155   0.00274571   0.00121283   0.00155977      0.00146125   0.00172299   0.00175618 \n",
       " 0.00160522   0.000891157  0.00103197   0.00107927      0.00108873   0.00130678   0.00138947 \n",
       " 0.00211943   0.00190314   0.000985311  0.0013332       0.00137605   0.00135961   0.000304896\n",
       " 0.00272603   0.00227114   0.00412788   0.00413607      0.00425592   0.00212122   0.00209183 \n",
       " 0.00123727   0.00118504   0.000275639  0.000525022  …  0.00107144   0.00033101   0.000984433\n",
       " 0.0019817    0.00124728   0.00215478   0.00108681      0.00192055   0.000142354  0.00149226 \n",
       " 0.000792197  0.00078776   0.00106834   0.000872705     0.000932134  0.001306     0.000756526\n",
       " 0.00210533   0.000736213  0.000596432  0.00162119      0.000134271  0.00175575   0.00268711 \n",
       " 0.00368545   0.00320186   0.00304908   0.00253615      0.0034949    0.00360064   0.00391944 \n",
       " 0.00133923   0.00176447   0.000954969  0.00157855   …  0.00104427   0.00238344   0.00109057 \n",
       " 0.00192391   0.000510974  0.00202352   0.00237952      0.00194231   0.000542765  0.00105034 \n",
       " 0.000944145  0.00138969   0.00102004   0.00124496      0.0          0.00243022   0.000854804\n",
       " 0.00174309   0.00124761   0.00286628   0.00212991      0.00249046   0.0          0.000893768\n",
       " 0.0020839    0.0032418    0.000736154  0.00103926      0.00173932   0.00174448   0.0        "
      ]
     },
     "execution_count": 711,
     "metadata": {},
     "output_type": "execute_result"
    }
   ],
   "source": []
  },
  {
   "cell_type": "code",
   "execution_count": null,
   "metadata": {
    "collapsed": true
   },
   "outputs": [],
   "source": []
  },
  {
   "cell_type": "code",
   "execution_count": 320,
   "metadata": {
    "collapsed": false
   },
   "outputs": [],
   "source": [
    "cost_to_replace = Dict()\n",
    "for (word, logprobs) in all_logprobs\n",
    "    cost_to_replace[word]=zeros(size(logprobs,2),size(logprobs,2))\n",
    "    for case in 1:size(logprobs,1)\n",
    "        best_cutree(res; k=3)sense_logprob, best_sense = findmax(logprobs[case,:])\n",
    "        #Only the best sense count for scored -- the is no cost to replace 2nd best with third best\n",
    "        for r_sense in 1:size(logprobs,2)\n",
    "            cost_to_replace[word][best_sense, r_sense]=best_sense_logprob-logprobs[case,r_sense]\n",
    "        end\n",
    "    end\n",
    "end"
   ]
  },
  {
   "cell_type": "code",
   "execution_count": null,
   "metadata": {
    "collapsed": false
   },
   "outputs": [],
   "source": [
    "balanced_cost_to_replace = [w=>cost_to_replace[w]./utilisation[w] for w in keys(cost_to_replace)]"
   ]
  },
  {
   "cell_type": "code",
   "execution_count": 617,
   "metadata": {
    "collapsed": false
   },
   "outputs": [
    {
     "data": {
      "text/plain": [
       "20-element Array{Int64,1}:\n",
       " 13\n",
       " 14\n",
       " 18\n",
       " 14\n",
       "  3\n",
       "  7\n",
       " 16\n",
       " 16\n",
       " 12\n",
       "  7\n",
       " 15\n",
       " 17\n",
       " 30\n",
       " 16\n",
       "  5\n",
       " 16\n",
       "  6\n",
       " 12\n",
       " 10\n",
       " 13"
      ]
     },
     "execution_count": 617,
     "metadata": {},
     "output_type": "execute_result"
    }
   ],
   "source": [
    "function cost_of_selection(costs_to_replace, selection)\n",
    "    remaining = trues(size(costs_to_replace,1))\n",
    "    remaining[selection]=false\n",
    "    costs = costs_to_replace[remaining,selection] #Replace the remaining, with one from the selection\n",
    "    sum(minimum(costs,1))\n",
    "end\n",
    "function do_sel()\n",
    "    sel = rand(Bool,size(fr,1))\n",
    "    cost = cost_of_selection(fr,sel)*sum(sel)\n",
    "    (cost, sel)\n",
    "end\n",
    "res = sort(map(x->do_sel(),1:100), by=first)"
   ]
  },
  {
   "cell_type": "code",
   "execution_count": 687,
   "metadata": {
    "collapsed": false
   },
   "outputs": [
    {
     "data": {
      "text/plain": [
       "260×4 Array{Float64,2}:\n",
       "  -6.93954   -8.40331  -6.94505   -5.35008\n",
       "  -9.18896   -7.47634  -7.10574   -8.69868\n",
       "  -7.365     -7.47556  -6.93841   -7.0167 \n",
       "  -5.80931   -6.44539  -5.61956   -6.23427\n",
       "  -8.83859   -7.91678  -7.53123   -8.18826\n",
       "  -7.97478   -8.19579  -7.45531   -7.50454\n",
       "  -8.03757   -9.21313  -6.98435   -7.94053\n",
       "  -9.34411   -8.93912  -7.49697   -7.96896\n",
       "  -8.95274   -8.29018  -7.22205   -7.44596\n",
       "  -8.72405   -8.71384  -7.15958   -7.6821 \n",
       "  -9.99522  -10.1175   -8.26499   -8.45772\n",
       " -10.9193   -12.7234   -8.81467  -10.7818 \n",
       "  -8.21155   -8.23402  -8.29086   -8.45409\n",
       "  -6.00285   -7.99202  -6.69477   -5.99418\n",
       "  -8.54823   -7.64786  -8.11895   -8.16745\n",
       "  -5.623     -6.97974  -6.26292   -6.56344\n",
       "  -4.89381   -5.91177  -5.29205   -5.34806\n",
       "  -6.7213    -6.32349  -6.29308   -6.54681\n",
       "  -5.52449   -8.00482  -6.8015    -6.41958\n",
       "  -4.94973   -6.5732   -5.68415   -5.36573\n",
       "  -4.0552    -5.90544  -4.96159   -5.10426\n",
       "  -5.70673   -8.12159  -6.79458   -5.88191\n",
       "  -5.30955   -8.10788  -6.70276   -5.23447\n",
       "  -5.81699   -7.32576  -6.53211   -5.38939\n",
       "  -8.43336   -9.28386  -7.44974   -8.54837\n",
       "  -6.6352    -6.6701   -5.9857    -5.51359\n",
       "  -5.5004    -7.17233  -5.55143   -5.01777\n",
       "  -7.58693   -8.57206  -7.25318   -8.13979\n",
       "   ⋮                                      \n",
       "  -8.37394   -8.15781  -7.02994   -8.67289\n",
       "  -4.48393   -6.79413  -5.50736   -5.82222\n",
       "  -7.12941   -6.5744   -6.73057   -8.04122\n",
       "  -6.96811   -7.02657  -6.15271   -6.44647\n",
       "  -6.6842    -7.17592  -6.24242   -6.16389\n",
       "  -7.30695   -8.1414   -7.10635   -8.64131\n",
       "  -7.95585   -9.89233  -7.98814   -8.26252\n",
       "  -9.24277   -9.01346  -8.59155  -10.5302 \n",
       " -10.6113    -7.82081  -9.24487  -10.5276 \n",
       "  -9.06176   -8.63601  -7.98969   -8.7987 \n",
       "  -6.31037   -6.43979  -6.54076   -5.88945\n",
       "  -5.20396   -6.92328  -6.04994   -5.08097\n",
       "  -9.16087   -9.55477  -8.73432   -8.98143\n",
       "  -7.3781    -8.08786  -7.53802   -6.91663\n",
       "  -6.08163   -6.86811  -6.1349    -6.04604\n",
       "  -7.07834   -8.19844  -6.71608   -5.37742\n",
       "  -9.16091   -9.85869  -9.01499   -8.15278\n",
       "  -7.22714   -8.53206  -7.39108   -6.36817\n",
       "  -6.30108   -8.35123  -7.72284   -7.89691\n",
       "  -8.27497  -10.7746   -9.15894   -8.91282\n",
       "  -5.95294   -6.33807  -6.31276   -6.57805\n",
       "  -9.35063  -11.2352   -9.97647   -9.71963\n",
       "  -7.39869   -6.66179  -6.27759   -7.3093 \n",
       "  -6.87616   -7.56218  -6.16751   -5.9675 \n",
       "  -7.19338   -7.35554  -6.63409   -6.55265\n",
       "  -8.29327   -7.35443  -7.5939    -7.70119\n",
       "  -6.09944   -6.25136  -5.73047   -5.76491"
      ]
     },
     "execution_count": 687,
     "metadata": {},
     "output_type": "execute_result"
    }
   ],
   "source": [
    "all_logprobs[\"states\"][:,14:17]"
   ]
  },
  {
   "cell_type": "code",
   "execution_count": 621,
   "metadata": {
    "collapsed": false
   },
   "outputs": [
    {
     "data": {
      "text/plain": [
       "20×20 Array{Float64,2}:\n",
       " 0.0        0.0587818  0.0393284   …  0.0575837   0.0649955  0.0599064 \n",
       " 0.020872   0.0        0.0430696      0.0355114   0.0399937  0.0451628 \n",
       " 0.0322362  0.0720362  0.0            0.0263544   0.0880145  0.0407277 \n",
       " 0.0841301  0.162502   0.0378458      0.159535    0.0690087  0.100165  \n",
       " 0.0852226  0.176359   0.126625       0.110103    0.344913   0.154304  \n",
       " 0.13675    0.244187   0.182746    …  0.221614    0.144887   0.106437  \n",
       " 0.103061   0.0816779  0.0578923      0.065889    0.088529   0.0471512 \n",
       " 0.0612716  0.0789135  0.0378339      0.0731455   0.0408738  0.103272  \n",
       " 0.0552002  0.102638   0.0812077      0.0323311   0.0769999  0.0217095 \n",
       " 0.0272605  0.0441812  0.00854792     0.150465    0.0807046  0.116225  \n",
       " 0.021752   0.0839741  0.00339622  …  0.0328707   0.0610571  0.0246078 \n",
       " 0.0487825  0.0195765  0.0563714      0.0031538   0.0282472  0.00777951\n",
       " 0.0388073  0.0350128  0.0185816      0.0287042   0.0627525  0.0400582 \n",
       " 0.0288672  0.051091   0.0569862      0.0631087   0.0330377  0.0506074 \n",
       " 0.691575   0.393603   0.444297       0.483271    0.353566   0.486802  \n",
       " 0.0324142  0.0680799  0.0696504   …  0.0449787   0.0418744  0.0824119 \n",
       " 0.0920521  0.0255483  0.163907       0.00203307  0.168314   0.159683  \n",
       " 0.115686   0.0584291  0.122434       0.0         0.193426   0.131254  \n",
       " 0.121559   0.0774496  0.0885068      0.177184    0.0        0.142868  \n",
       " 0.0680282  0.110753   0.10839        0.0626276   0.123397   0.0       "
      ]
     },
     "execution_count": 621,
     "metadata": {},
     "output_type": "execute_result"
    }
   ],
   "source": [
    "#r=cost_to_replace[\"australia\"]\n",
    "#fr=r[[1:7;9:end],[1:7;9:end]]\n",
    "r=balanced_cost_to_replace[\"states\"]\n",
    "fr=r"
   ]
  },
  {
   "cell_type": "code",
   "execution_count": 723,
   "metadata": {
    "collapsed": false
   },
   "outputs": [
    {
     "data": {
      "text/plain": [
       "21×21 Array{Float64,2}:\n",
       "  0.0  1.0     2.0     3.0     4.0     5.0     6.0     …  15.0     16.0     17.0     18.0     19.0     20.0   \n",
       "  1.0  0.0     1.5896  0.0011  0.2086  1.3085  1.5466      2.6329   1.6878   1.4068   1.626    0.7549   1.0253\n",
       "  2.0  0.3887  0.0     0.7846  0.776   0.099   1.1999      2.4154   0.9013   0.0387   0.5189   0.038    0.3887\n",
       "  3.0  0.6903  1.6327  0.0     0.739   2.2917  1.3333      2.1456   1.3273   1.9834   2.3135   1.3674   0.9849\n",
       "  4.0  2.1171  2.1334  1.5965  0.0     2.9255  1.4919      1.1928   0.5221   2.3247   1.6242   1.9414   1.6392\n",
       "  5.0  1.2764  1.0175  1.0073  0.8455  0.0     1.7348  …   1.8095   1.2683   0.2717   1.3356   0.0817   0.8477\n",
       "  6.0  1.6238  3.3106  1.2398  1.3092  2.2551  0.0         3.7752   2.4123   2.9939   2.7352   1.2569   0.7092\n",
       "  7.0  1.7377  2.073   0.9157  1.1776  0.1329  0.3325      1.5492   1.0868   2.4699   1.1032   1.3009   1.3259\n",
       "  8.0  1.4174  0.7869  0.9112  0.953   0.494   0.7006      1.1752   1.0802   0.9545   0.9613   1.1539   1.2269\n",
       "  9.0  1.4666  1.317   0.6818  0.9226  2.0988  1.1556      1.5621   0.9106   1.0129   0.9522   0.9409   0.211 \n",
       " 10.0  1.4257  1.1878  2.1589  2.1632  2.3494  1.4539  …   2.7705   2.3079   1.6176   2.2258   1.1094   1.094 \n",
       " 11.0  1.1568  1.108   0.2577  0.4909  0.827   2.0359      1.713    0.6755   1.0451   1.0018   0.3095   0.9204\n",
       " 12.0  1.6706  1.0515  1.8165  0.9162  0.5425  1.6879      2.0542   1.4477   0.755    1.619    0.12     1.258 \n",
       " 13.0  1.2398  1.2328  1.672   1.3658  1.5659  0.8831      2.0968   1.2904   1.4727   1.4588   2.0439   1.184 \n",
       " 14.0  1.4674  0.5131  0.4157  1.13    1.3827  0.5117      2.8778   1.0577   1.4362   0.0936   1.2238   1.8729\n",
       " 15.0  2.6351  2.2893  2.1801  1.8133  3.127   1.5179  …   0.0      0.6069   3.0651   2.4989   2.5745   2.8024\n",
       " 16.0  0.8584  1.131   0.6121  1.0119  0.8266  0.5936      1.6088   0.0      0.8332   0.6694   1.5278   0.6991\n",
       " 17.0  1.139   0.3025  1.1979  1.4087  1.1435  1.7689      2.8267   1.5173   0.0      1.1498   0.3213   0.6218\n",
       " 18.0  0.6335  0.9325  0.6844  0.8354  1.0522  0.6449      2.068    0.7674   0.8895   0.0      1.6307   0.5736\n",
       " 19.0  1.4014  1.0031  2.3045  1.7124  1.7601  1.3984      1.9797   1.2598   0.7201   2.0023   0.0      0.7186\n",
       " 20.0  1.3879  2.159   0.4903  0.6921  1.2819  1.0592  …   1.3871   0.9439   1.2851   1.1584   1.1618   0.0   "
      ]
     },
     "execution_count": 723,
     "metadata": {},
     "output_type": "execute_result"
    }
   ],
   "source": [
    "ENV[\"LINES\"] = 60\n",
    "ENV[\"COLUMNS\"] = 120\n",
    "round([collect(0:20)'; [1:20 cost_to_replace_t]],4)"
   ]
  },
  {
   "cell_type": "code",
   "execution_count": 721,
   "metadata": {
    "collapsed": false
   },
   "outputs": [
    {
     "data": {
      "text/plain": [
       "Clustering.Hclust{Float64}(19×2 Array{Int64,2}:\n",
       "  -1  -10\n",
       "  -2  -17\n",
       "  -7  -13\n",
       " -11  -12\n",
       "  -8  -16\n",
       "  -3  -14\n",
       "  -9  -20\n",
       " -19    4\n",
       "  -4    6\n",
       "   3    7\n",
       " -18    2\n",
       "   5    8\n",
       "   9   10\n",
       "   1   11\n",
       "  -5   -6\n",
       "  12   13\n",
       "  14   15\n",
       "  16   17\n",
       " -15   18,[0.0344325,0.043985,0.0442829,0.0492461,0.0507868,0.0570288,0.0797652,0.0837546,0.119239,0.122771,0.123337,0.179103,0.210585,0.218257,0.286096,0.286859,0.319012,0.495037,1.34711],[1,2,3,4,5,6,7,8,9,10,11,12,13,14,15,16,17,18,19,20],[1,2,3,4,5,6,7,8,9,10,11,12,13,14,15,16,17,18,19,20],:complete)"
      ]
     },
     "execution_count": 721,
     "metadata": {},
     "output_type": "execute_result"
    }
   ],
   "source": [
    "res=hclust(fr+fr', :complete)\n"
   ]
  },
  {
   "cell_type": "code",
   "execution_count": 722,
   "metadata": {
    "collapsed": false
   },
   "outputs": [
    {
     "name": "stdout",
     "output_type": "stream",
     "text": [
      "[Pair{Any,Any}((\"states\",10),0.44406152f0),Pair{Any,Any}((\"states\",13),0.44755912f0),Pair{Any,Any}((\"kingdom\",1),0.44778913f0),Pair{Any,Any}((\"america\",9),0.45211357f0),Pair{Any,Any}((\"united\",15),0.45302373f0)]\n",
      "[Pair{Any,Any}((\"united\",17),0.31038278f0),Pair{Any,Any}((\"kingdom\",9),0.31697035f0),Pair{Any,Any}((\"external\",9),0.42242444f0),Pair{Any,Any}((\"states\",1),0.44406152f0),Pair{Any,Any}((\"department\",10),0.45678663f0)]\n",
      "\n",
      "[Pair{Any,Any}((\"nations\",20),0.3316921f0),Pair{Any,Any}((\"countries\",1),0.35931808f0),Pair{Any,Any}((\"and\",6),0.3976617f0),Pair{Any,Any}((\"of\",6),0.4001304f0),Pair{Any,Any}((\"united\",4),0.4064538f0)]\n",
      "[Pair{Any,Any}((\"kingdom\",5),0.24508834f0),Pair{Any,Any}((\"canada\",3),0.25505763f0),Pair{Any,Any}((\"united\",2),0.28550762f0),Pair{Any,Any}((\"kingdom\",6),0.29278505f0),Pair{Any,Any}((\"france\",2),0.30027217f0)]\n",
      "\n",
      "[Pair{Any,Any}((\"united\",12),0.3402779f0),Pair{Any,Any}((\"states\",5),0.355218f0),Pair{Any,Any}((\"kingdom\",1),0.4408787f0),Pair{Any,Any}((\"states\",7),0.44342613f0),Pair{Any,Any}((\"states\",18),0.47607845f0)]\n",
      "[Pair{Any,Any}((\"writes\",5),0.5006741f0),Pair{Any,Any}((\"argues\",20),0.5297605f0),Pair{Any,Any}((\"says\",1),0.53935444f0),Pair{Any,Any}((\"wrote\",16),0.540336f0),Pair{Any,Any}((\"believe\",5),0.55173147f0)]\n",
      "\n",
      "[Pair{Any,Any}((\"united\",20),0.32059765f0),Pair{Any,Any}((\"kingdom\",1),0.32548404f0),Pair{Any,Any}((\"states\",20),0.45006412f0),Pair{Any,Any}((\"states\",4),0.4601704f0),Pair{Any,Any}((\"nations\",17),0.46762335f0)]\n",
      "[Pair{Any,Any}((\"were\",11),0.42528677f0),Pair{Any,Any}((\"several\",13),0.44503522f0),Pair{Any,Any}((\"countries\",19),0.46536934f0),Pair{Any,Any}((\"smaller\",2),0.46912175f0),Pair{Any,Any}((\"nations\",10),0.47582614f0)]\n",
      "[Pair{Any,Any}((\"member\",19),0.39933103f0),Pair{Any,Any}((\"countries\",13),0.46312135f0),Pair{Any,Any}((\"other\",14),0.46388906f0),Pair{Any,Any}((\"organizations\",20),0.47801727f0),Pair{Any,Any}((\"most\",6),0.47863674f0)]\n",
      "\n",
      "[Pair{Any,Any}((\"united\",14),0.3348794f0),Pair{Any,Any}((\"constitution\",1),0.34970987f0),Pair{Any,Any}((\"states\",14),0.3956474f0),Pair{Any,Any}((\"u\",7),0.40181845f0),Pair{Any,Any}((\"states\",5),0.44029248f0)]\n",
      "[Pair{Any,Any}((\"kingdom\",1),0.2919402f0),Pair{Any,Any}((\"united\",13),0.30385137f0),Pair{Any,Any}((\"constitution\",1),0.3695827f0),Pair{Any,Any}((\"that\",3),0.37023968f0),Pair{Any,Any}((\"federal\",20),0.41255087f0)]\n",
      "[Pair{Any,Any}((\"united\",19),0.15835601f0),Pair{Any,Any}((\"representatives\",13),0.33551913f0),Pair{Any,Any}((\"president\",17),0.35693407f0),Pair{Any,Any}((\"united\",18),0.36217088f0),Pair{Any,Any}((\"presidents\",10),0.38865036f0)]\n",
      "\n",
      "[Pair{Any,Any}((\"united\",1),0.29181087f0),Pair{Any,Any}((\"states\",5),0.3958528f0),Pair{Any,Any}((\"kingdom\",8),0.42643237f0),Pair{Any,Any}((\"states\",8),0.44342613f0),Pair{Any,Any}((\"united\",16),0.4694534f0)]\n",
      "[Pair{Any,Any}((\"united\",10),0.24158186f0),Pair{Any,Any}((\"force\",6),0.3900885f0),Pair{Any,Any}((\"states\",6),0.40196747f0),Pair{Any,Any}((\"army\",4),0.4091851f0),Pair{Any,Any}((\"united\",11),0.43830615f0)]\n",
      "[Pair{Any,Any}((\"kingdom\",10),0.29201788f0),Pair{Any,Any}((\"nations\",19),0.31786746f0),Pair{Any,Any}((\"united\",9),0.35960734f0),Pair{Any,Any}((\"states\",5),0.40636587f0),Pair{Any,Any}((\"kingdom\",1),0.4172716f0)]\n",
      "[Pair{Any,Any}((\"united\",5),0.283252f0),Pair{Any,Any}((\"war\",11),0.34546173f0),Pair{Any,Any}((\"kingdom\",5),0.4018994f0),Pair{Any,Any}((\"cold\",18),0.41178983f0),Pair{Any,Any}((\"treaty\",11),0.42411733f0)]\n",
      "\n",
      "[Pair{Any,Any}((\"united\",12),0.35347873f0),Pair{Any,Any}((\"states\",8),0.355218f0),Pair{Any,Any}((\"states\",7),0.3958528f0),Pair{Any,Any}((\"states\",13),0.40636587f0),Pair{Any,Any}((\"united\",16),0.4129343f0)]\n",
      "\n",
      "[Pair{Any,Any}((\"united\",10),0.35612613f0),Pair{Any,Any}((\"united\",7),0.37133628f0),Pair{Any,Any}((\"naval\",1),0.3726164f0),Pair{Any,Any}((\"navy\",1),0.3882202f0),Pair{Any,Any}((\"air\",10),0.3950947f0)]\n",
      "\n",
      "[Pair{Any,Any}((\"thus\",19),0.4031967f0),Pair{Any,Any}((\"means\",2),0.42299604f0),Pair{Any,Any}((\"however\",13),0.42793894f0),Pair{Any,Any}((\"has\",19),0.43664867f0),Pair{Any,Any}((\"of\",18),0.4391135f0)]\n",
      "\n",
      "[Pair{Any,Any}((\"united\",7),0.34809154f0),Pair{Any,Any}((\"united\",3),0.36504114f0),Pair{Any,Any}((\"new\",17),0.38884473f0),Pair{Any,Any}((\"missouri\",20),0.407637f0),Pair{Any,Any}((\"florida\",6),0.43585122f0)]\n",
      "\n"
     ]
    }
   ],
   "source": [
    "print_clusters(cutree(res; k=10))"
   ]
  },
  {
   "cell_type": "code",
   "execution_count": 777,
   "metadata": {
    "collapsed": false
   },
   "outputs": [
    {
     "data": {
      "text/plain": [
       "20-element Array{Int64,1}:\n",
       " 2\n",
       " 2\n",
       " 6\n",
       " 6\n",
       " 0\n",
       " 2\n",
       " 1\n",
       " 3\n",
       " 0\n",
       " 3\n",
       " 0\n",
       " 0\n",
       " 0\n",
       " 0\n",
       " 0\n",
       " 0\n",
       " 0\n",
       " 1\n",
       " 0\n",
       " 2"
      ]
     },
     "execution_count": 777,
     "metadata": {},
     "output_type": "execute_result"
    }
   ],
   "source": []
  },
  {
   "cell_type": "code",
   "execution_count": 788,
   "metadata": {
    "collapsed": false
   },
   "outputs": [
    {
     "data": {
      "text/plain": [
       "10-element Array{Any,1}:\n",
       " [Pair{Any,Any}((\"latino\",4),0.24718815f0),Pair{Any,Any}((\"hispanic\",9),0.3567357f0),Pair{Any,Any}((\"any\",8),0.3594371f0),Pair{Any,Any}((\"population\",8),0.36768758f0),Pair{Any,Any}((\"mixed\",20),0.4379238f0)]          \n",
       " [Pair{Any,Any}((\"racing\",16),0.42366487f0),Pair{Any,Any}((\"racing\",17),0.43566388f0),Pair{Any,Any}((\"car\",5),0.4631629f0),Pair{Any,Any}((\"races\",13),0.47124088f0),Pair{Any,Any}((\"prix\",15),0.48116124f0)]             \n",
       " [Pair{Any,Any}((\"rather\",16),0.59287184f0),Pair{Any,Any}((\"lose\",1),0.61896396f0),Pair{Any,Any}((\"whether\",16),0.6301135f0),Pair{Any,Any}((\"world\",13),0.637156f0),Pair{Any,Any}((\"doing\",11),0.63731027f0)]            \n",
       " [Pair{Any,Any}((\"racial\",15),0.61707014f0),Pair{Any,Any}((\"mi\",13),0.6285727f0),Pair{Any,Any}((\"dearborn\",1),0.6412274f0),Pair{Any,Any}((\"lexington\",1),0.6462248f0),Pair{Any,Any}((\"louisville\",1),0.6473862f0)]       \n",
       " [Pair{Any,Any}((\"or\",14),0.50824845f0),Pair{Any,Any}((\"class\",10),0.53170884f0),Pair{Any,Any}((\"their\",5),0.5402069f0),Pair{Any,Any}((\"alien\",12),0.54398394f0),Pair{Any,Any}((\"identity\",2),0.54551125f0)]             \n",
       " [Pair{Any,Any}((\"effective\",8),0.6365808f0),Pair{Any,Any}((\"facilities\",6),0.68425894f0),Pair{Any,Any}((\"moon\",12),0.69533974f0),Pair{Any,Any}((\"weaker\",7),0.6966672f0),Pair{Any,Any}((\"proliferation\",6),0.6980966f0)]\n",
       " [Pair{Any,Any}((\"ira\",4),0.64411724f0),Pair{Any,Any}((\"candidate\",5),0.6614965f0),Pair{Any,Any}((\"voted\",4),0.6807908f0),Pair{Any,Any}((\"base\",3),0.68137926f0),Pair{Any,Any}((\"yardage\",1),0.68176985f0)]              \n",
       " [Pair{Any,Any}((\"advent\",1),0.6718125f0),Pair{Any,Any}((\"team\",13),0.68005717f0),Pair{Any,Any}((\"season\",20),0.69144607f0),Pair{Any,Any}((\"cup\",1),0.6938945f0),Pair{Any,Any}((\"athletics\",20),0.6967367f0)]            \n",
       " [Pair{Any,Any}((\"anomalistic\",1),0.7064891f0),Pair{Any,Any}((\"taught\",3),0.70745456f0),Pair{Any,Any}((\"inner\",19),0.7168046f0),Pair{Any,Any}((\"pioneer\",14),0.71685386f0),Pair{Any,Any}((\"copying\",9),0.7202302f0)]     \n",
       " [Pair{Any,Any}((\"sale\",8),0.6279365f0),Pair{Any,Any}((\"parliamentary\",14),0.6479269f0),Pair{Any,Any}((\"religion\",7),0.6779308f0),Pair{Any,Any}((\"muslim\",9),0.67869663f0),Pair{Any,Any}((\"ll\",7),0.6974267f0)]          "
      ]
     },
     "execution_count": 788,
     "metadata": {},
     "output_type": "execute_result"
    }
   ],
   "source": [
    "nearests_t = nearests[utilisation[word].>0]"
   ]
  },
  {
   "cell_type": "code",
   "execution_count": 786,
   "metadata": {
    "collapsed": false
   },
   "outputs": [
    {
     "data": {
      "text/plain": [
       "11×11 Array{Float32,2}:\n",
       "  0.0  1.0     2.0     3.0     4.0     5.0     6.0     7.0     8.0     9.0     10.0   \n",
       "  1.0  0.0031  4.5625  4.3547  4.0789  3.8243  6.8595  5.4988  5.0731  7.21     6.6689\n",
       "  2.0  4.5625  0.0     3.2904  3.1822  3.4471  6.2794  4.4256  4.2464  6.4913   5.7731\n",
       "  3.0  4.3547  3.2904  0.0     3.6221  3.2226  6.0304  4.5658  4.9187  6.5388   5.4903\n",
       "  4.0  4.0789  3.1822  3.6221  0.0     3.3323  6.2134  4.6593  4.6729  6.5902   5.7847\n",
       "  5.0  3.8243  3.4471  3.2226  3.3323  0.0     5.7199  4.8996  4.3793  6.4411   5.5515\n",
       "  6.0  6.8595  6.2794  6.0304  6.2134  5.7199  0.0     6.8263  7.0608  7.9933   7.1196\n",
       "  7.0  5.4988  4.4256  4.5658  4.6593  4.8996  6.8263  0.0     5.5344  7.091    6.0682\n",
       "  8.0  5.0731  4.2464  4.9187  4.6729  4.3793  7.0608  5.5344  0.0     7.2718   6.5333\n",
       "  9.0  7.21    6.4913  6.5388  6.5902  6.4411  7.9933  7.091   7.2718  0.0028   7.9823\n",
       " 10.0  6.6689  5.7731  5.4903  5.7847  5.5515  7.1196  6.0682  6.5333  7.9823   0.0   "
      ]
     },
     "execution_count": 786,
     "metadata": {},
     "output_type": "execute_result"
    }
   ],
   "source": [
    "word = \"race\"\n",
    "ee_t=hcat(ee.embedding[word][utilisation[word].>0]...)\n",
    "nkept = size(ee_t,2)\n",
    "ENV[\"LINES\"] = 60\n",
    "ENV[\"COLUMNS\"] = 120\n",
    "round([collect(0:nkept)'; [1:nkept pairwise(Euclidean(),ee_t,ee_t)]],4)"
   ]
  },
  {
   "cell_type": "code",
   "execution_count": 794,
   "metadata": {
    "collapsed": false,
    "scrolled": true
   },
   "outputs": [
    {
     "name": "stdout",
     "output_type": "stream",
     "text": [
      "[Pair{Any,Any}((\"latino\",4),0.24718815f0),Pair{Any,Any}((\"hispanic\",9),0.3567357f0),Pair{Any,Any}((\"any\",8),0.3594371f0),Pair{Any,Any}((\"population\",8),0.36768758f0),Pair{Any,Any}((\"mixed\",20),0.4379238f0)]\n",
      "[Pair{Any,Any}((\"racing\",16),0.42366487f0),Pair{Any,Any}((\"racing\",17),0.43566388f0),Pair{Any,Any}((\"car\",5),0.4631629f0),Pair{Any,Any}((\"races\",13),0.47124088f0),Pair{Any,Any}((\"prix\",15),0.48116124f0)]\n",
      "[Pair{Any,Any}((\"rather\",16),0.59287184f0),Pair{Any,Any}((\"lose\",1),0.61896396f0),Pair{Any,Any}((\"whether\",16),0.6301135f0),Pair{Any,Any}((\"world\",13),0.637156f0),Pair{Any,Any}((\"doing\",11),0.63731027f0)]\n",
      "[Pair{Any,Any}((\"racial\",15),0.61707014f0),Pair{Any,Any}((\"mi\",13),0.6285727f0),Pair{Any,Any}((\"dearborn\",1),0.6412274f0),Pair{Any,Any}((\"lexington\",1),0.6462248f0),Pair{Any,Any}((\"louisville\",1),0.6473862f0)]\n",
      "[Pair{Any,Any}((\"or\",14),0.50824845f0),Pair{Any,Any}((\"class\",10),0.53170884f0),Pair{Any,Any}((\"their\",5),0.5402069f0),Pair{Any,Any}((\"alien\",12),0.54398394f0),Pair{Any,Any}((\"identity\",2),0.54551125f0)]\n",
      "[Pair{Any,Any}((\"advent\",1),0.6718125f0),Pair{Any,Any}((\"team\",13),0.68005717f0),Pair{Any,Any}((\"season\",20),0.69144607f0),Pair{Any,Any}((\"cup\",1),0.6938945f0),Pair{Any,Any}((\"athletics\",20),0.6967367f0)]\n",
      "\n",
      "[Pair{Any,Any}((\"effective\",8),0.6365808f0),Pair{Any,Any}((\"facilities\",6),0.68425894f0),Pair{Any,Any}((\"moon\",12),0.69533974f0),Pair{Any,Any}((\"weaker\",7),0.6966672f0),Pair{Any,Any}((\"proliferation\",6),0.6980966f0)]\n",
      "\n",
      "[Pair{Any,Any}((\"ira\",4),0.64411724f0),Pair{Any,Any}((\"candidate\",5),0.6614965f0),Pair{Any,Any}((\"voted\",4),0.6807908f0),Pair{Any,Any}((\"base\",3),0.68137926f0),Pair{Any,Any}((\"yardage\",1),0.68176985f0)]\n",
      "\n",
      "[Pair{Any,Any}((\"anomalistic\",1),0.7064891f0),Pair{Any,Any}((\"taught\",3),0.70745456f0),Pair{Any,Any}((\"inner\",19),0.7168046f0),Pair{Any,Any}((\"pioneer\",14),0.71685386f0),Pair{Any,Any}((\"copying\",9),0.7202302f0)]\n",
      "\n",
      "[Pair{Any,Any}((\"sale\",8),0.6279365f0),Pair{Any,Any}((\"parliamentary\",14),0.6479269f0),Pair{Any,Any}((\"religion\",7),0.6779308f0),Pair{Any,Any}((\"muslim\",9),0.67869663f0),Pair{Any,Any}((\"ll\",7),0.6974267f0)]\n",
      "\n"
     ]
    }
   ],
   "source": [
    "\n",
    "res=hclust(pairwise(Euclidean(),ee_t,ee_t), :complete)\n",
    "print_clusters(cutree(res; k=5), nearests_t)"
   ]
  },
  {
   "cell_type": "code",
   "execution_count": null,
   "metadata": {
    "collapsed": true
   },
   "outputs": [],
   "source": []
  },
  {
   "cell_type": "code",
   "execution_count": 775,
   "metadata": {
    "collapsed": false
   },
   "outputs": [
    {
     "name": "stdout",
     "output_type": "stream",
     "text": [
      "Affinity propagation converged with 36 iterations: 3 exemplars.\n",
      "[Pair{Any,Any}((\"united\",10),0.35612613f0),Pair{Any,Any}((\"united\",7),0.37133628f0),Pair{Any,Any}((\"naval\",1),0.3726164f0),Pair{Any,Any}((\"navy\",1),0.3882202f0),Pair{Any,Any}((\"air\",10),0.3950947f0)]\n",
      "[Pair{Any,Any}((\"united\",10),0.24158186f0),Pair{Any,Any}((\"force\",6),0.3900885f0),Pair{Any,Any}((\"states\",6),0.40196747f0),Pair{Any,Any}((\"army\",4),0.4091851f0),Pair{Any,Any}((\"united\",11),0.43830615f0)]\n",
      "[Pair{Any,Any}((\"united\",17),0.31038278f0),Pair{Any,Any}((\"kingdom\",9),0.31697035f0),Pair{Any,Any}((\"external\",9),0.42242444f0),Pair{Any,Any}((\"states\",1),0.44406152f0),Pair{Any,Any}((\"department\",10),0.45678663f0)]\n",
      "[Pair{Any,Any}((\"united\",19),0.15835601f0),Pair{Any,Any}((\"representatives\",13),0.33551913f0),Pair{Any,Any}((\"president\",17),0.35693407f0),Pair{Any,Any}((\"united\",18),0.36217088f0),Pair{Any,Any}((\"presidents\",10),0.38865036f0)]\n",
      "[Pair{Any,Any}((\"united\",7),0.34809154f0),Pair{Any,Any}((\"united\",3),0.36504114f0),Pair{Any,Any}((\"new\",17),0.38884473f0),Pair{Any,Any}((\"missouri\",20),0.407637f0),Pair{Any,Any}((\"florida\",6),0.43585122f0)]\n",
      "\n",
      "[Pair{Any,Any}((\"states\",10),0.44406152f0),Pair{Any,Any}((\"states\",13),0.44755912f0),Pair{Any,Any}((\"kingdom\",1),0.44778913f0),Pair{Any,Any}((\"america\",9),0.45211357f0),Pair{Any,Any}((\"united\",15),0.45302373f0)]\n",
      "[Pair{Any,Any}((\"united\",14),0.3348794f0),Pair{Any,Any}((\"constitution\",1),0.34970987f0),Pair{Any,Any}((\"states\",14),0.3956474f0),Pair{Any,Any}((\"u\",7),0.40181845f0),Pair{Any,Any}((\"states\",5),0.44029248f0)]\n",
      "[Pair{Any,Any}((\"kingdom\",1),0.2919402f0),Pair{Any,Any}((\"united\",13),0.30385137f0),Pair{Any,Any}((\"constitution\",1),0.3695827f0),Pair{Any,Any}((\"that\",3),0.37023968f0),Pair{Any,Any}((\"federal\",20),0.41255087f0)]\n",
      "[Pair{Any,Any}((\"united\",12),0.35347873f0),Pair{Any,Any}((\"states\",8),0.355218f0),Pair{Any,Any}((\"states\",7),0.3958528f0),Pair{Any,Any}((\"states\",13),0.40636587f0),Pair{Any,Any}((\"united\",16),0.4129343f0)]\n",
      "[Pair{Any,Any}((\"united\",1),0.29181087f0),Pair{Any,Any}((\"states\",5),0.3958528f0),Pair{Any,Any}((\"kingdom\",8),0.42643237f0),Pair{Any,Any}((\"states\",8),0.44342613f0),Pair{Any,Any}((\"united\",16),0.4694534f0)]\n",
      "[Pair{Any,Any}((\"united\",12),0.3402779f0),Pair{Any,Any}((\"states\",5),0.355218f0),Pair{Any,Any}((\"kingdom\",1),0.4408787f0),Pair{Any,Any}((\"states\",7),0.44342613f0),Pair{Any,Any}((\"states\",18),0.47607845f0)]\n",
      "[Pair{Any,Any}((\"united\",20),0.32059765f0),Pair{Any,Any}((\"kingdom\",1),0.32548404f0),Pair{Any,Any}((\"states\",20),0.45006412f0),Pair{Any,Any}((\"states\",4),0.4601704f0),Pair{Any,Any}((\"nations\",17),0.46762335f0)]\n",
      "[Pair{Any,Any}((\"kingdom\",10),0.29201788f0),Pair{Any,Any}((\"nations\",19),0.31786746f0),Pair{Any,Any}((\"united\",9),0.35960734f0),Pair{Any,Any}((\"states\",5),0.40636587f0),Pair{Any,Any}((\"kingdom\",1),0.4172716f0)]\n",
      "[Pair{Any,Any}((\"writes\",5),0.5006741f0),Pair{Any,Any}((\"argues\",20),0.5297605f0),Pair{Any,Any}((\"says\",1),0.53935444f0),Pair{Any,Any}((\"wrote\",16),0.540336f0),Pair{Any,Any}((\"believe\",5),0.55173147f0)]\n",
      "[Pair{Any,Any}((\"united\",5),0.283252f0),Pair{Any,Any}((\"war\",11),0.34546173f0),Pair{Any,Any}((\"kingdom\",5),0.4018994f0),Pair{Any,Any}((\"cold\",18),0.41178983f0),Pair{Any,Any}((\"treaty\",11),0.42411733f0)]\n",
      "\n",
      "[Pair{Any,Any}((\"nations\",20),0.3316921f0),Pair{Any,Any}((\"countries\",1),0.35931808f0),Pair{Any,Any}((\"and\",6),0.3976617f0),Pair{Any,Any}((\"of\",6),0.4001304f0),Pair{Any,Any}((\"united\",4),0.4064538f0)]\n",
      "[Pair{Any,Any}((\"were\",11),0.42528677f0),Pair{Any,Any}((\"several\",13),0.44503522f0),Pair{Any,Any}((\"countries\",19),0.46536934f0),Pair{Any,Any}((\"smaller\",2),0.46912175f0),Pair{Any,Any}((\"nations\",10),0.47582614f0)]\n",
      "[Pair{Any,Any}((\"thus\",19),0.4031967f0),Pair{Any,Any}((\"means\",2),0.42299604f0),Pair{Any,Any}((\"however\",13),0.42793894f0),Pair{Any,Any}((\"has\",19),0.43664867f0),Pair{Any,Any}((\"of\",18),0.4391135f0)]\n",
      "[Pair{Any,Any}((\"kingdom\",5),0.24508834f0),Pair{Any,Any}((\"canada\",3),0.25505763f0),Pair{Any,Any}((\"united\",2),0.28550762f0),Pair{Any,Any}((\"kingdom\",6),0.29278505f0),Pair{Any,Any}((\"france\",2),0.30027217f0)]\n",
      "[Pair{Any,Any}((\"member\",19),0.39933103f0),Pair{Any,Any}((\"countries\",13),0.46312135f0),Pair{Any,Any}((\"other\",14),0.46388906f0),Pair{Any,Any}((\"organizations\",20),0.47801727f0),Pair{Any,Any}((\"most\",6),0.47863674f0)]\n",
      "\n"
     ]
    }
   ],
   "source": [
    "lr = -pairwise(Euclidean(),ee_t,ee_t)\n",
    "lr[diagind(lr)]=minimum(lr[:,1])\n",
    "res=affinityprop(lr,display=:final)\n",
    "print_clusters(res.assignments)\n"
   ]
  },
  {
   "cell_type": "code",
   "execution_count": 521,
   "metadata": {
    "collapsed": false
   },
   "outputs": [
    {
     "name": "stderr",
     "output_type": "stream",
     "text": [
      "WARNING: Method definition repeat_kmediods(Any, Any, Any) in module Main at In[477]:2 overwritten at In[521]:2.\n"
     ]
    },
    {
     "data": {
      "text/plain": [
       "repeat_kmediods (generic function with 1 method)"
      ]
     },
     "execution_count": 521,
     "metadata": {},
     "output_type": "execute_result"
    }
   ],
   "source": [
    "function repeat_kmediods(costs,k, rounds)\n",
    "    best_total_cost=Inf\n",
    "    best_res = nothing\n",
    "    for round_ii in 1:rounds\n",
    "        res = kmedoids(costs,k)\n",
    "        if res.totalcost<best_total_cost\n",
    "            best_res=res\n",
    "        end\n",
    "    end\n",
    "    best_res\n",
    "end"
   ]
  },
  {
   "cell_type": "code",
   "execution_count": 522,
   "metadata": {
    "collapsed": false,
    "scrolled": true
   },
   "outputs": [
    {
     "name": "stdout",
     "output_type": "stream",
     "text": [
      "2\t\n",
      "silhouettes(res,fr) |> mean = 0.142719883829306\n",
      "res.totalcost = 8.777563095092773\n",
      "p_score - res.totalcost = Inf\n",
      "3\t\n",
      "silhouettes(res,fr) |> mean = 0.16394798980616282\n",
      "res.totalcost = 4.228608131408691\n",
      "p_score - res.totalcost = 4.548954963684082\n",
      "4\t\n",
      "silhouettes(res,fr) |> mean = 0.2890830686560084\n",
      "res.totalcost = 3.068222999572754\n",
      "p_score - res.totalcost = 1.1603851318359375\n",
      "5\t\n",
      "silhouettes(res,fr) |> mean = 0.26202973071315416\n",
      "res.totalcost = 2.445246696472168\n",
      "p_score - res.totalcost = 0.6229763031005859\n",
      "6\t\n",
      "silhouettes(res,fr) |> mean = 0.083011927544262\n",
      "res.totalcost = 2.740838050842285\n",
      "p_score - res.totalcost = -0.2955913543701172\n",
      "7\t\n",
      "silhouettes(res,fr) |> mean = 0.24862801555476574\n",
      "res.totalcost = 1.6659598350524902\n",
      "p_score - res.totalcost = 1.074878215789795\n",
      "8\t\n",
      "silhouettes(res,fr) |> mean = 0.3034015839544726\n",
      "res.totalcost = 2.340773105621338\n",
      "p_score - res.totalcost = -0.6748132705688477\n",
      "9\t\n",
      "silhouettes(res,fr) |> mean = 0.38596367016033883\n",
      "res.totalcost = 1.6469249725341797\n",
      "p_score - res.totalcost = 0.6938481330871582\n",
      "10\t\n",
      "silhouettes(res,fr) |> mean = 0.1275961767994498\n",
      "res.totalcost = 1.9846735000610352\n",
      "p_score - res.totalcost = -0.33774852752685547\n",
      "11\t\n",
      "silhouettes(res,fr) |> mean = 0.17207872301799026\n",
      "res.totalcost = 1.8455734252929688\n",
      "p_score - res.totalcost = 0.1391000747680664\n",
      "12\t\n",
      "silhouettes(res,fr) |> mean = 0.41128751136751024\n",
      "res.totalcost = 0.9665822982788086\n",
      "p_score - res.totalcost = 0.8789911270141602\n",
      "13\t\n",
      "silhouettes(res,fr) |> mean = 0.42159095952734493\n",
      "res.totalcost = 0.8839616775512695\n",
      "p_score - res.totalcost = 0.08262062072753906\n",
      "14\t\n",
      "silhouettes(res,fr) |> mean = 0.5837918202002023\n",
      "res.totalcost = 0.46756505966186523\n",
      "p_score - res.totalcost = 0.4163966178894043\n",
      "15\t\n",
      "silhouettes(res,fr) |> mean = 0.7126332586492009\n",
      "res.totalcost = 0.6129684448242188\n",
      "p_score - res.totalcost = -0.14540338516235352\n",
      "16\t\n",
      "silhouettes(res,fr) |> mean = 0.737439823712101\n",
      "res.totalcost = 0.3584103584289551\n",
      "p_score - res.totalcost = 0.25455808639526367\n",
      "17\t\n",
      "silhouettes(res,fr) |> mean = 0.8135024546457733\n",
      "res.totalcost = 0.3446826934814453\n",
      "p_score - res.totalcost = 0.013727664947509766\n",
      "18\t\n",
      "silhouettes(res,fr) |> mean = 0.9532554982006903\n",
      "res.totalcost = 0.05432748794555664\n",
      "p_score - res.totalcost = 0.29035520553588867\n",
      "19\t\n",
      "silhouettes(res,fr) |> mean = 1.0\n",
      "res.totalcost = 0.0\n",
      "p_score - res.totalcost = 0.05432748794555664\n",
      "  0.628113 seconds (41.86 k allocations: 2.242 MB, 92.62% gc time)\n"
     ]
    }
   ],
   "source": [
    "p_score = Inf\n",
    "@time for k in 2:size(fr,1)\n",
    "    res = repeat_kmediods(fr,k,10)\n",
    "    #@show silhouettes(res,fr)\n",
    "    println(k,\"\\t\")\n",
    "    @show silhouettes(res,fr) |> mean\n",
    "    @show res.totalcost\n",
    "    \n",
    "    @show p_score-res.totalcost\n",
    "    p_score=res.totalcost\n",
    "end"
   ]
  },
  {
   "cell_type": "code",
   "execution_count": 502,
   "metadata": {
    "collapsed": false
   },
   "outputs": [
    {
     "name": "stdout",
     "output_type": "stream",
     "text": [
      "Affinity propagation converged with 29 iterations: 19 exemplars.\n"
     ]
    },
    {
     "data": {
      "text/plain": [
       "1.0"
      ]
     },
     "execution_count": 502,
     "metadata": {},
     "output_type": "execute_result"
    }
   ],
   "source": [
    "lr= r[[1:7;9:end],[1:7;9:end]]\n",
    "lr[diagind(lr)]=0.0\n",
    "sim=lr\n",
    "silhouettes(affinityprop(maximum(lr).-lr,display=:final),lr)|> mean"
   ]
  },
  {
   "cell_type": "code",
   "execution_count": 524,
   "metadata": {
    "collapsed": false
   },
   "outputs": [
    {
     "name": "stdout",
     "output_type": "stream",
     "text": [
      "Affinity propagation converged with 38 iterations: 3 exemplars.\n"
     ]
    },
    {
     "data": {
      "text/plain": [
       "-0.2619749908459709"
      ]
     },
     "execution_count": 524,
     "metadata": {},
     "output_type": "execute_result"
    }
   ],
   "source": [
    "silhouettes(affinityprop(r,display=:final),r)|> mean"
   ]
  },
  {
   "cell_type": "code",
   "execution_count": 498,
   "metadata": {
    "collapsed": false
   },
   "outputs": [
    {
     "name": "stdout",
     "output_type": "stream",
     "text": [
      "search: diagind disable_sigint SeedingAlgorithm\n",
      "\n"
     ]
    },
    {
     "data": {
      "text/latex": [
       "\\begin{verbatim}\n",
       "diagind(M[, k])\n",
       "\\end{verbatim}\n",
       "A \\texttt{Range} giving the indices of the \\texttt{k}th diagonal of the matrix \\texttt{M}.\n"
      ],
      "text/markdown": [
       "```\n",
       "diagind(M[, k])\n",
       "```\n",
       "\n",
       "A `Range` giving the indices of the `k`th diagonal of the matrix `M`.\n"
      ],
      "text/plain": [
       "```\n",
       "diagind(M[, k])\n",
       "```\n",
       "\n",
       "A `Range` giving the indices of the `k`th diagonal of the matrix `M`.\n"
      ]
     },
     "execution_count": 498,
     "metadata": {},
     "output_type": "execute_result"
    }
   ],
   "source": [
    "?diagind"
   ]
  },
  {
   "cell_type": "code",
   "execution_count": 463,
   "metadata": {
    "collapsed": false
   },
   "outputs": [
    {
     "name": "stdout",
     "output_type": "stream",
     "text": [
      "Affinity propagation converged with 49 iterations: 5 exemplars.\n",
      "true_examplars = [7,10,11,13,18]\n",
      "true_assignments = [11,18,18,7,13,13,7,10,10,11,11,13,10,13,13,11,18,11,10]\n",
      "--\n",
      "[((\"list\",8),0.59148026f0),((\"and\",20),0.614841f0),((\"official\",13),0.624194f0),((\"general\",18),0.62567335f0),((\"members\",15),0.629411f0)]\n",
      "*[((\"cartoonist\",16),0.647694f0),((\"modernisation\",1),0.6486087f0),((\"april\",13),0.66997445f0),((\"becoming\",20),0.6734446f0),((\"american\",8),0.68248886f0)]\n",
      "\n",
      "[((\"south\",12),0.4463454f0),((\"wales\",19),0.4847467f0),((\"new\",3),0.5076965f0),((\"zealand\",17),0.51473045f0),((\"victoria\",11),0.51839817f0)]\n",
      "*[((\"aclu\",4),0.6944263f0),((\"affects\",1),0.69619596f0),((\"requested\",17),0.69798505f0),((\"enhanced\",19),0.7001114f0),((\"duchy\",1),0.70312595f0)]\n",
      "[((\"south\",17),0.34426063f0),((\"japan\",14),0.37043744f0),((\"africa\",7),0.3789521f0),((\"and\",6),0.38012308f0),((\"east\",9),0.3821984f0)]\n",
      "[((\"europe\",18),0.48324925f0),((\"countries\",18),0.49733496f0),((\"canada\",15),0.5158184f0),((\"many\",1),0.53822476f0),((\"television\",7),0.54350066f0)]\n",
      "\n",
      "[((\"ireland\",16),0.64708966f0),((\"britain\",16),0.64880353f0),((\"especially\",9),0.6513231f0),((\"provided\",15),0.67011666f0),((\"particularly\",20),0.6725949f0)]\n",
      "*[((\"won\",12),0.67440736f0),((\"the\",6),0.6763311f0),((\"england\",14),0.6785213f0),((\"bishops\",13),0.6839303f0),((\"city\",7),0.6852726f0)]\n",
      "[((\"eastern\",1),0.45826256f0),((\"india\",12),0.48450494f0),((\"in\",1),0.48777324f0),((\"central\",19),0.4917227f0),((\"canada\",3),0.49812436f0)]\n",
      "[((\"australian\",12),0.42347747f0),((\"international\",20),0.44074863f0),((\"england\",11),0.47114956f0),((\"uk\",4),0.47835565f0),((\"an\",3),0.47924346f0)]\n",
      "[((\"many\",8),0.43426085f0),((\"in\",15),0.47859168f0),((\"and\",20),0.48893946f0),((\"a\",11),0.4949652f0),((\"uk\",14),0.4982586f0)]\n",
      "\n",
      "[((\"western\",13),0.4191454f0),((\"town\",10),0.42082667f0),((\"queensland\",4),0.43156624f0),((\"wales\",18),0.45057023f0),((\"south\",12),0.45707417f0)]\n",
      "[((\"zealand\",17),0.51816374f0),((\"match\",1),0.51989126f0),((\"us\",14),0.5360247f0),((\"test\",15),0.5406124f0),((\"first\",13),0.5431219f0)]\n",
      "*[((\"eight\",3),0.6424203f0),((\"b\",8),0.66651416f0),((\"nsw\",1),0.6762165f0),((\"three\",4),0.684096f0),((\"nine\",6),0.6855695f0)]\n",
      "[((\"broke\",1),0.6366043f0),((\"july\",5),0.6627748f0),((\"zealand\",17),0.6700146f0),((\"question\",20),0.6760824f0),((\"the\",11),0.67849857f0)]\n",
      "[((\"advance\",6),0.48215127f0),((\"canada\",20),0.5794129f0),((\"britain\",20),0.5893681f0),((\"france\",9),0.60055745f0),((\"germany\",6),0.6300453f0)]\n",
      "\n",
      "[((\"deaths\",18),0.6309011f0),((\"sir\",20),0.6614016f0),((\"morgan\",1),0.6741953f0),((\"west\",18),0.6777778f0),((\"isbn\",5),0.67834324f0)]\n",
      "[((\"prime\",13),0.2473808f0),((\"minister\",20),0.31629658f0),((\"prime\",1),0.32216263f0),((\"ministers\",4),0.34331042f0),((\"minister\",3),0.36456484f0)]\n",
      "*[((\"zealand\",12),0.18529892f0),((\"new\",3),0.24071127f0),((\"canada\",3),0.2889933f0),((\"kingdom\",6),0.36203885f0),((\"netherlands\",18),0.38124573f0)]\n",
      "\n"
     ]
    }
   ],
   "source": [
    "print_clusters(affinityprop(lr,display=:final))"
   ]
  },
  {
   "cell_type": "code",
   "execution_count": 483,
   "metadata": {
    "collapsed": false
   },
   "outputs": [
    {
     "name": "stdout",
     "output_type": "stream",
     "text": [
      "true_examplars = [19,10,18,1,4]\n",
      "true_assignments = [1,10,10,4,18,10,10,10,10,10,10,10,1,1,19,4,18,19,1]\n",
      "--\n",
      "[((\"advance\",6),0.48215127f0),((\"canada\",20),0.5794129f0),((\"britain\",20),0.5893681f0),((\"france\",9),0.60055745f0),((\"germany\",6),0.6300453f0)]\n",
      "*[((\"many\",8),0.43426085f0),((\"in\",15),0.47859168f0),((\"and\",20),0.48893946f0),((\"a\",11),0.4949652f0),((\"uk\",14),0.4982586f0)]\n",
      "\n",
      "[((\"deaths\",18),0.6309011f0),((\"sir\",20),0.6614016f0),((\"morgan\",1),0.6741953f0),((\"west\",18),0.6777778f0),((\"isbn\",5),0.67834324f0)]\n",
      "[((\"prime\",13),0.2473808f0),((\"minister\",20),0.31629658f0),((\"prime\",1),0.32216263f0),((\"ministers\",4),0.34331042f0),((\"minister\",3),0.36456484f0)]\n",
      "[((\"zealand\",17),0.51816374f0),((\"match\",1),0.51989126f0),((\"us\",14),0.5360247f0),((\"test\",15),0.5406124f0),((\"first\",13),0.5431219f0)]\n",
      "[((\"cartoonist\",16),0.647694f0),((\"modernisation\",1),0.6486087f0),((\"april\",13),0.66997445f0),((\"becoming\",20),0.6734446f0),((\"american\",8),0.68248886f0)]\n",
      "[((\"south\",12),0.4463454f0),((\"wales\",19),0.4847467f0),((\"new\",3),0.5076965f0),((\"zealand\",17),0.51473045f0),((\"victoria\",11),0.51839817f0)]\n",
      "*[((\"aclu\",4),0.6944263f0),((\"affects\",1),0.69619596f0),((\"requested\",17),0.69798505f0),((\"enhanced\",19),0.7001114f0),((\"duchy\",1),0.70312595f0)]\n",
      "[((\"won\",12),0.67440736f0),((\"the\",6),0.6763311f0),((\"england\",14),0.6785213f0),((\"bishops\",13),0.6839303f0),((\"city\",7),0.6852726f0)]\n",
      "[((\"eastern\",1),0.45826256f0),((\"india\",12),0.48450494f0),((\"in\",1),0.48777324f0),((\"central\",19),0.4917227f0),((\"canada\",3),0.49812436f0)]\n",
      "[((\"eight\",3),0.6424203f0),((\"b\",8),0.66651416f0),((\"nsw\",1),0.6762165f0),((\"three\",4),0.684096f0),((\"nine\",6),0.6855695f0)]\n",
      "\n",
      "[((\"western\",13),0.4191454f0),((\"town\",10),0.42082667f0),((\"queensland\",4),0.43156624f0),((\"wales\",18),0.45057023f0),((\"south\",12),0.45707417f0)]\n",
      "*[((\"zealand\",12),0.18529892f0),((\"new\",3),0.24071127f0),((\"canada\",3),0.2889933f0),((\"kingdom\",6),0.36203885f0),((\"netherlands\",18),0.38124573f0)]\n",
      "\n",
      "*[((\"ireland\",16),0.64708966f0),((\"britain\",16),0.64880353f0),((\"especially\",9),0.6513231f0),((\"provided\",15),0.67011666f0),((\"particularly\",20),0.6725949f0)]\n",
      "[((\"south\",17),0.34426063f0),((\"japan\",14),0.37043744f0),((\"africa\",7),0.3789521f0),((\"and\",6),0.38012308f0),((\"east\",9),0.3821984f0)]\n",
      "[((\"broke\",1),0.6366043f0),((\"july\",5),0.6627748f0),((\"zealand\",17),0.6700146f0),((\"question\",20),0.6760824f0),((\"the\",11),0.67849857f0)]\n",
      "[((\"europe\",18),0.48324925f0),((\"countries\",18),0.49733496f0),((\"canada\",15),0.5158184f0),((\"many\",1),0.53822476f0),((\"television\",7),0.54350066f0)]\n",
      "\n",
      "*[((\"list\",8),0.59148026f0),((\"and\",20),0.614841f0),((\"official\",13),0.624194f0),((\"general\",18),0.62567335f0),((\"members\",15),0.629411f0)]\n",
      "[((\"australian\",12),0.42347747f0),((\"international\",20),0.44074863f0),((\"england\",11),0.47114956f0),((\"uk\",4),0.47835565f0),((\"an\",3),0.47924346f0)]\n",
      "\n"
     ]
    }
   ],
   "source": [
    "print_clusters(kmedoids(fr,5))"
   ]
  },
  {
   "cell_type": "code",
   "execution_count": 418,
   "metadata": {
    "collapsed": false
   },
   "outputs": [
    {
     "data": {
      "text/plain": [
       "19-element Array{Int64,1}:\n",
       " 1\n",
       " 2\n",
       " 2\n",
       " 1\n",
       " 1\n",
       " 2\n",
       " 1\n",
       " 2\n",
       " 2\n",
       " 2\n",
       " 1\n",
       " 2\n",
       " 1\n",
       " 1\n",
       " 1\n",
       " 1\n",
       " 1\n",
       " 1\n",
       " 1"
      ]
     },
     "execution_count": 418,
     "metadata": {},
     "output_type": "execute_result"
    }
   ],
   "source": [
    "res=kmedoids(fr,2)\n",
    "res.assignments"
   ]
  },
  {
   "cell_type": "code",
   "execution_count": 372,
   "metadata": {
    "collapsed": false
   },
   "outputs": [
    {
     "data": {
      "text/plain": [
       "Inf"
      ]
     },
     "execution_count": 372,
     "metadata": {},
     "output_type": "execute_result"
    }
   ],
   "source": [
    "fr = r|> copy\n",
    "fr[diagind(fr)]=1.0\n",
    "fr[8,:]=Inf\n",
    "fr[:,8]=Inf\n"
   ]
  },
  {
   "cell_type": "code",
   "execution_count": 371,
   "metadata": {
    "collapsed": false
   },
   "outputs": [
    {
     "name": "stdout",
     "output_type": "stream",
     "text": [
      "search: sub2ind subplot2grid\n",
      "\n"
     ]
    },
    {
     "data": {
      "text/latex": [
       "\\begin{verbatim}\n",
       "sub2ind(dims, i, j, k...) -> index\n",
       "\\end{verbatim}\n",
       "The inverse of \\texttt{ind2sub}, returns the linear index corresponding to the provided subscripts.\n"
      ],
      "text/markdown": [
       "```\n",
       "sub2ind(dims, i, j, k...) -> index\n",
       "```\n",
       "\n",
       "The inverse of `ind2sub`, returns the linear index corresponding to the provided subscripts.\n"
      ],
      "text/plain": [
       "```\n",
       "sub2ind(dims, i, j, k...) -> index\n",
       "```\n",
       "\n",
       "The inverse of `ind2sub`, returns the linear index corresponding to the provided subscripts.\n"
      ]
     },
     "execution_count": 371,
     "metadata": {},
     "output_type": "execute_result"
    }
   ],
   "source": [
    "?sub2ind"
   ]
  },
  {
   "cell_type": "code",
   "execution_count": 362,
   "metadata": {
    "collapsed": false
   },
   "outputs": [
    {
     "data": {
      "text/plain": [
       "(20,1)"
      ]
     },
     "execution_count": 362,
     "metadata": {},
     "output_type": "execute_result"
    }
   ],
   "source": [
    "ret = ind2sub(size(r), indmin(fr))\n",
    "fr[ret...] = Inf\n",
    "ret"
   ]
  },
  {
   "cell_type": "code",
   "execution_count": 363,
   "metadata": {
    "collapsed": false
   },
   "outputs": [
    {
     "data": {
      "text/plain": [
       "145×19 Array{Float64,2}:\n",
       " 0.000502276  0.000316107  0.000428923  …  0.000876247  0.00137192 \n",
       " 0.000829902  0.000218465  0.000576839     0.000678487  0.00123923 \n",
       " 9.79935e-5   1.25864e-5   2.40151e-5      0.000105339  0.000150048\n",
       " 9.94962e-5   1.50496e-5   2.35071e-5      0.000108355  0.000155001\n",
       " 0.000220705  6.96376e-5   0.000315089     0.000562183  0.000624032\n",
       " 7.086e-5     5.47539e-5   0.000137396  …  1.74319e-5   0.000257753\n",
       " 0.00843422   0.00143562   0.00326022      0.00939931   0.0069828  \n",
       " 0.000713116  8.09506e-5   9.55926e-5      0.000259066  0.000331115\n",
       " 0.00148565   0.000260937  0.000223807     0.00107824   0.000617886\n",
       " 0.00281858   0.000307393  0.00257715      0.00480165   0.00219697 \n",
       " 0.000334445  5.06608e-5   0.000275592  …  0.00108302   0.000175337\n",
       " 0.000343419  0.000145396  0.000585987     0.000738764  0.00228387 \n",
       " 0.00293491   0.00264198   0.00325985      0.00296087   0.00467582 \n",
       " ⋮                                      ⋱                          \n",
       " 0.0006459    0.00019573   0.00171678      0.00102693   0.00113999 \n",
       " 0.000192236  5.92677e-5   0.001033        0.000399078  0.000789407\n",
       " 0.000818559  0.000732774  0.00169828   …  0.00111981   0.000722331\n",
       " 0.00107871   0.00888986   0.00380608      0.000535336  0.000501506\n",
       " 0.00214564   0.000481547  0.00117762      0.000884298  0.000893809\n",
       " 0.000163407  6.99048e-5   0.000182346     7.9071e-5    0.000102369\n",
       " 0.000163085  0.000228901  8.68176e-5      0.0001994    0.000383827\n",
       " 0.000405281  4.10182e-5   0.00012587   …  0.000140979  0.000432329\n",
       " 5.22024e-5   3.17649e-5   6.80456e-5      7.89914e-5   0.000123605\n",
       " 0.00453369   0.000355765  0.00104189      0.00307612   0.00280202 \n",
       " 0.00085816   0.000175946  0.000255302     0.000812803  0.000892921\n",
       " 0.00143641   0.00042347   0.000281417     0.00120235   0.00186664 "
      ]
     },
     "execution_count": 363,
     "metadata": {},
     "output_type": "execute_result"
    }
   ],
   "source": [
    "word = \"australia\"\n",
    "uu=utilisation[word]\n",
    "lp = all_logprobs[word]\n",
    "kept_indexes = find(uu)\n",
    "rlp=exp(lp[:,kept_indexes])"
   ]
  },
  {
   "cell_type": "code",
   "execution_count": 196,
   "metadata": {
    "collapsed": false,
    "scrolled": true
   },
   "outputs": [
    {
     "data": {
      "text/plain": [
       "20-element Array{String,1}:\n",
       " \"[((\\\"ireland\\\",16),0.64708966f0),((\\\"britain\\\",16),0.64880353f0),((\\\"especially\\\",9),0.6513231f0),((\\\"provided\\\",15),0.67011666f0),((\\\"particularly\\\",20),0.6725949f0)]\"\n",
       " \"[((\\\"deaths\\\",18),0.6309011f0),((\\\"sir\\\",20),0.6614016f0),((\\\"morgan\\\",1),0.6741953f0),((\\\"west\\\",18),0.6777778f0),((\\\"isbn\\\",5),0.67834324f0)]\"                        \n",
       " \"[((\\\"prime\\\",13),0.2473808f0),((\\\"minister\\\",20),0.31629658f0),((\\\"prime\\\",1),0.32216263f0),((\\\"ministers\\\",4),0.34331042f0),((\\\"minister\\\",3),0.36456484f0)]\"          \n",
       " \"[((\\\"list\\\",8),0.59148026f0),((\\\"and\\\",20),0.614841f0),((\\\"official\\\",13),0.624194f0),((\\\"general\\\",18),0.62567335f0),((\\\"members\\\",15),0.629411f0)]\"                   \n",
       " \"[((\\\"western\\\",13),0.4191454f0),((\\\"town\\\",10),0.42082667f0),((\\\"queensland\\\",4),0.43156624f0),((\\\"wales\\\",18),0.45057023f0),((\\\"south\\\",12),0.45707417f0)]\"            \n",
       " \"[((\\\"zealand\\\",17),0.51816374f0),((\\\"match\\\",1),0.51989126f0),((\\\"us\\\",14),0.5360247f0),((\\\"test\\\",15),0.5406124f0),((\\\"first\\\",13),0.5431219f0)]\"                      \n",
       " \"[((\\\"cartoonist\\\",16),0.647694f0),((\\\"modernisation\\\",1),0.6486087f0),((\\\"april\\\",13),0.66997445f0),((\\\"becoming\\\",20),0.6734446f0),((\\\"american\\\",8),0.68248886f0)]\"   \n",
       " \"[((\\\"matters\\\",20),0.66755116f0),((\\\"ourselves\\\",1),0.6802366f0),((\\\"whites\\\",2),0.68125737f0),((\\\"peace\\\",6),0.68372583f0),((\\\"more\\\",6),0.68429744f0)]\"               \n",
       " \"[((\\\"south\\\",12),0.4463454f0),((\\\"wales\\\",19),0.4847467f0),((\\\"new\\\",3),0.5076965f0),((\\\"zealand\\\",17),0.51473045f0),((\\\"victoria\\\",11),0.51839817f0)]\"                 \n",
       " \"[((\\\"aclu\\\",4),0.6944263f0),((\\\"affects\\\",1),0.69619596f0),((\\\"requested\\\",17),0.69798505f0),((\\\"enhanced\\\",19),0.7001114f0),((\\\"duchy\\\",1),0.70312595f0)]\"             \n",
       " \"[((\\\"won\\\",12),0.67440736f0),((\\\"the\\\",6),0.6763311f0),((\\\"england\\\",14),0.6785213f0),((\\\"bishops\\\",13),0.6839303f0),((\\\"city\\\",7),0.6852726f0)]\"                       \n",
       " \"[((\\\"eastern\\\",1),0.45826256f0),((\\\"india\\\",12),0.48450494f0),((\\\"in\\\",1),0.48777324f0),((\\\"central\\\",19),0.4917227f0),((\\\"canada\\\",3),0.49812436f0)]\"                  \n",
       " \"[((\\\"eight\\\",3),0.6424203f0),((\\\"b\\\",8),0.66651416f0),((\\\"nsw\\\",1),0.6762165f0),((\\\"three\\\",4),0.684096f0),((\\\"nine\\\",6),0.6855695f0)]\"                                 \n",
       " \"[((\\\"south\\\",17),0.34426063f0),((\\\"japan\\\",14),0.37043744f0),((\\\"africa\\\",7),0.3789521f0),((\\\"and\\\",6),0.38012308f0),((\\\"east\\\",9),0.3821984f0)]\"                       \n",
       " \"[((\\\"broke\\\",1),0.6366043f0),((\\\"july\\\",5),0.6627748f0),((\\\"zealand\\\",17),0.6700146f0),((\\\"question\\\",20),0.6760824f0),((\\\"the\\\",11),0.67849857f0)]\"                    \n",
       " \"[((\\\"advance\\\",6),0.48215127f0),((\\\"canada\\\",20),0.5794129f0),((\\\"britain\\\",20),0.5893681f0),((\\\"france\\\",9),0.60055745f0),((\\\"germany\\\",6),0.6300453f0)]\"              \n",
       " \"[((\\\"australian\\\",12),0.42347747f0),((\\\"international\\\",20),0.44074863f0),((\\\"england\\\",11),0.47114956f0),((\\\"uk\\\",4),0.47835565f0),((\\\"an\\\",3),0.47924346f0)]\"         \n",
       " \"[((\\\"zealand\\\",12),0.18529892f0),((\\\"new\\\",3),0.24071127f0),((\\\"canada\\\",3),0.2889933f0),((\\\"kingdom\\\",6),0.36203885f0),((\\\"netherlands\\\",18),0.38124573f0)]\"           \n",
       " \"[((\\\"many\\\",8),0.43426085f0),((\\\"in\\\",15),0.47859168f0),((\\\"and\\\",20),0.48893946f0),((\\\"a\\\",11),0.4949652f0),((\\\"uk\\\",14),0.4982586f0)]\"                                \n",
       " \"[((\\\"europe\\\",18),0.48324925f0),((\\\"countries\\\",18),0.49733496f0),((\\\"canada\\\",15),0.5158184f0),((\\\"many\\\",1),0.53822476f0),((\\\"television\\\",7),0.54350066f0)]\"         "
      ]
     },
     "execution_count": 196,
     "metadata": {},
     "output_type": "execute_result"
    }
   ],
   "source": [
    "nearests = \"\"\"1\t[Pair{Any,Any}((\"ireland\",16),0.64708966f0),Pair{Any,Any}((\"britain\",16),0.64880353f0),Pair{Any,Any}((\"especially\",9),0.6513231f0),Pair{Any,Any}((\"provided\",15),0.67011666f0),Pair{Any,Any}((\"particularly\",20),0.6725949f0)]\n",
    "2\t[Pair{Any,Any}((\"deaths\",18),0.6309011f0),Pair{Any,Any}((\"sir\",20),0.6614016f0),Pair{Any,Any}((\"morgan\",1),0.6741953f0),Pair{Any,Any}((\"west\",18),0.6777778f0),Pair{Any,Any}((\"isbn\",5),0.67834324f0)]\n",
    "3\t[Pair{Any,Any}((\"prime\",13),0.2473808f0),Pair{Any,Any}((\"minister\",20),0.31629658f0),Pair{Any,Any}((\"prime\",1),0.32216263f0),Pair{Any,Any}((\"ministers\",4),0.34331042f0),Pair{Any,Any}((\"minister\",3),0.36456484f0)]\n",
    "4\t[Pair{Any,Any}((\"list\",8),0.59148026f0),Pair{Any,Any}((\"and\",20),0.614841f0),Pair{Any,Any}((\"official\",13),0.624194f0),Pair{Any,Any}((\"general\",18),0.62567335f0),Pair{Any,Any}((\"members\",15),0.629411f0)]\n",
    "5\t[Pair{Any,Any}((\"western\",13),0.4191454f0),Pair{Any,Any}((\"town\",10),0.42082667f0),Pair{Any,Any}((\"queensland\",4),0.43156624f0),Pair{Any,Any}((\"wales\",18),0.45057023f0),Pair{Any,Any}((\"south\",12),0.45707417f0)]\n",
    "6\t[Pair{Any,Any}((\"zealand\",17),0.51816374f0),Pair{Any,Any}((\"match\",1),0.51989126f0),Pair{Any,Any}((\"us\",14),0.5360247f0),Pair{Any,Any}((\"test\",15),0.5406124f0),Pair{Any,Any}((\"first\",13),0.5431219f0)]\n",
    "7\t[Pair{Any,Any}((\"cartoonist\",16),0.647694f0),Pair{Any,Any}((\"modernisation\",1),0.6486087f0),Pair{Any,Any}((\"april\",13),0.66997445f0),Pair{Any,Any}((\"becoming\",20),0.6734446f0),Pair{Any,Any}((\"american\",8),0.68248886f0)]\n",
    "8\t[Pair{Any,Any}((\"matters\",20),0.66755116f0),Pair{Any,Any}((\"ourselves\",1),0.6802366f0),Pair{Any,Any}((\"whites\",2),0.68125737f0),Pair{Any,Any}((\"peace\",6),0.68372583f0),Pair{Any,Any}((\"more\",6),0.68429744f0)]\n",
    "9\t[Pair{Any,Any}((\"south\",12),0.4463454f0),Pair{Any,Any}((\"wales\",19),0.4847467f0),Pair{Any,Any}((\"new\",3),0.5076965f0),Pair{Any,Any}((\"zealand\",17),0.51473045f0),Pair{Any,Any}((\"victoria\",11),0.51839817f0)]\n",
    "10\t[Pair{Any,Any}((\"aclu\",4),0.6944263f0),Pair{Any,Any}((\"affects\",1),0.69619596f0),Pair{Any,Any}((\"requested\",17),0.69798505f0),Pair{Any,Any}((\"enhanced\",19),0.7001114f0),Pair{Any,Any}((\"duchy\",1),0.70312595f0)]\n",
    "11\t[Pair{Any,Any}((\"won\",12),0.67440736f0),Pair{Any,Any}((\"the\",6),0.6763311f0),Pair{Any,Any}((\"england\",14),0.6785213f0),Pair{Any,Any}((\"bishops\",13),0.6839303f0),Pair{Any,Any}((\"city\",7),0.6852726f0)]\n",
    "12\t[Pair{Any,Any}((\"eastern\",1),0.45826256f0),Pair{Any,Any}((\"india\",12),0.48450494f0),Pair{Any,Any}((\"in\",1),0.48777324f0),Pair{Any,Any}((\"central\",19),0.4917227f0),Pair{Any,Any}((\"canada\",3),0.49812436f0)]\n",
    "13\t[Pair{Any,Any}((\"eight\",3),0.6424203f0),Pair{Any,Any}((\"b\",8),0.66651416f0),Pair{Any,Any}((\"nsw\",1),0.6762165f0),Pair{Any,Any}((\"three\",4),0.684096f0),Pair{Any,Any}((\"nine\",6),0.6855695f0)]\n",
    "14\t[Pair{Any,Any}((\"south\",17),0.34426063f0),Pair{Any,Any}((\"japan\",14),0.37043744f0),Pair{Any,Any}((\"africa\",7),0.3789521f0),Pair{Any,Any}((\"and\",6),0.38012308f0),Pair{Any,Any}((\"east\",9),0.3821984f0)]\n",
    "15\t[Pair{Any,Any}((\"broke\",1),0.6366043f0),Pair{Any,Any}((\"july\",5),0.6627748f0),Pair{Any,Any}((\"zealand\",17),0.6700146f0),Pair{Any,Any}((\"question\",20),0.6760824f0),Pair{Any,Any}((\"the\",11),0.67849857f0)]\n",
    "16\t[Pair{Any,Any}((\"advance\",6),0.48215127f0),Pair{Any,Any}((\"canada\",20),0.5794129f0),Pair{Any,Any}((\"britain\",20),0.5893681f0),Pair{Any,Any}((\"france\",9),0.60055745f0),Pair{Any,Any}((\"germany\",6),0.6300453f0)]\n",
    "17\t[Pair{Any,Any}((\"australian\",12),0.42347747f0),Pair{Any,Any}((\"international\",20),0.44074863f0),Pair{Any,Any}((\"england\",11),0.47114956f0),Pair{Any,Any}((\"uk\",4),0.47835565f0),Pair{Any,Any}((\"an\",3),0.47924346f0)]\n",
    "18\t[Pair{Any,Any}((\"zealand\",12),0.18529892f0),Pair{Any,Any}((\"new\",3),0.24071127f0),Pair{Any,Any}((\"canada\",3),0.2889933f0),Pair{Any,Any}((\"kingdom\",6),0.36203885f0),Pair{Any,Any}((\"netherlands\",18),0.38124573f0)]\n",
    "19\t[Pair{Any,Any}((\"many\",8),0.43426085f0),Pair{Any,Any}((\"in\",15),0.47859168f0),Pair{Any,Any}((\"and\",20),0.48893946f0),Pair{Any,Any}((\"a\",11),0.4949652f0),Pair{Any,Any}((\"uk\",14),0.4982586f0)]\n",
    "20\t[Pair{Any,Any}((\"europe\",18),0.48324925f0),Pair{Any,Any}((\"countries\",18),0.49733496f0),Pair{Any,Any}((\"canada\",15),0.5158184f0),Pair{Any,Any}((\"many\",1),0.53822476f0),Pair{Any,Any}((\"television\",7),0.54350066f0)]\"\"\"\n",
    "nearests =[replace(split(entry,\"\\t\")[2],\"Pair{Any,Any}\",\"\") for entry in split(nearests,\"\\n\")]\n"
   ]
  },
  {
   "cell_type": "code",
   "execution_count": 419,
   "metadata": {
    "collapsed": false
   },
   "outputs": [
    {
     "name": "stderr",
     "output_type": "stream",
     "text": [
      "WARNING: Method definition print_clusters(Any) in module Main at In[273]:2 overwritten at In[419]:4.\n"
     ]
    },
    {
     "data": {
      "text/plain": [
       "print_clusters (generic function with 1 method)"
      ]
     },
     "execution_count": 419,
     "metadata": {},
     "output_type": "execute_result"
    }
   ],
   "source": []
  },
  {
   "cell_type": "code",
   "execution_count": 648,
   "metadata": {
    "collapsed": false
   },
   "outputs": [
    {
     "name": "stdout",
     "output_type": "stream",
     "text": [
      "search: groupby num_groups ProcessGroup\n",
      "\n"
     ]
    },
    {
     "data": {
      "text/latex": [
       "No documentation found.\n",
       "\\texttt{Iterators.groupby} is a \\texttt{Function}.\n",
       "\\begin{verbatim}\n",
       "# 2 methods for generic function \"groupby\":\n",
       "groupby(xs, keyfunc::Function) at /home/ubuntu/.julia/v0.5/Iterators/src/Iterators.jl:518\n",
       "groupby(keyfunc, xs) at /home/ubuntu/.julia/v0.5/Iterators/src/Iterators.jl:523\n",
       "\\end{verbatim}\n"
      ],
      "text/markdown": [
       "No documentation found.\n",
       "\n",
       "`Iterators.groupby` is a `Function`.\n",
       "\n",
       "```\n",
       "# 2 methods for generic function \"groupby\":\n",
       "groupby(xs, keyfunc::Function) at /home/ubuntu/.julia/v0.5/Iterators/src/Iterators.jl:518\n",
       "groupby(keyfunc, xs) at /home/ubuntu/.julia/v0.5/Iterators/src/Iterators.jl:523\n",
       "```\n"
      ],
      "text/plain": [
       "No documentation found.\n",
       "\n",
       "`Iterators.groupby` is a `Function`.\n",
       "\n",
       "```\n",
       "# 2 methods for generic function \"groupby\":\n",
       "groupby(xs, keyfunc::Function) at /home/ubuntu/.julia/v0.5/Iterators/src/Iterators.jl:518\n",
       "groupby(keyfunc, xs) at /home/ubuntu/.julia/v0.5/Iterators/src/Iterators.jl:523\n",
       "```\n"
      ]
     },
     "execution_count": 648,
     "metadata": {},
     "output_type": "execute_result"
    }
   ],
   "source": [
    "?groupby"
   ]
  },
  {
   "cell_type": "code",
   "execution_count": 364,
   "metadata": {
    "collapsed": false
   },
   "outputs": [
    {
     "name": "stdout",
     "output_type": "stream",
     "text": [
      "Affinity propagation converged with 44 iterations: 3 exemplars.\n",
      "true_examplars = [2,10,11]\n",
      "true_assignments = [10,2,11,11,10,10,10,10,10,11,10,2,2,10,2,2,2,2,2]\n",
      "--\n",
      "*[((\"deaths\",18),0.6309011f0),((\"sir\",20),0.6614016f0),((\"morgan\",1),0.6741953f0),((\"west\",18),0.6777778f0),((\"isbn\",5),0.67834324f0)]\n",
      "[((\"eight\",3),0.6424203f0),((\"b\",8),0.66651416f0),((\"nsw\",1),0.6762165f0),((\"three\",4),0.684096f0),((\"nine\",6),0.6855695f0)]\n",
      "[((\"south\",17),0.34426063f0),((\"japan\",14),0.37043744f0),((\"africa\",7),0.3789521f0),((\"and\",6),0.38012308f0),((\"east\",9),0.3821984f0)]\n",
      "[((\"advance\",6),0.48215127f0),((\"canada\",20),0.5794129f0),((\"britain\",20),0.5893681f0),((\"france\",9),0.60055745f0),((\"germany\",6),0.6300453f0)]\n",
      "[((\"australian\",12),0.42347747f0),((\"international\",20),0.44074863f0),((\"england\",11),0.47114956f0),((\"uk\",4),0.47835565f0),((\"an\",3),0.47924346f0)]\n",
      "[((\"zealand\",12),0.18529892f0),((\"new\",3),0.24071127f0),((\"canada\",3),0.2889933f0),((\"kingdom\",6),0.36203885f0),((\"netherlands\",18),0.38124573f0)]\n",
      "[((\"many\",8),0.43426085f0),((\"in\",15),0.47859168f0),((\"and\",20),0.48893946f0),((\"a\",11),0.4949652f0),((\"uk\",14),0.4982586f0)]\n",
      "[((\"europe\",18),0.48324925f0),((\"countries\",18),0.49733496f0),((\"canada\",15),0.5158184f0),((\"many\",1),0.53822476f0),((\"television\",7),0.54350066f0)]\n",
      "\n",
      "[((\"ireland\",16),0.64708966f0),((\"britain\",16),0.64880353f0),((\"especially\",9),0.6513231f0),((\"provided\",15),0.67011666f0),((\"particularly\",20),0.6725949f0)]\n",
      "[((\"western\",13),0.4191454f0),((\"town\",10),0.42082667f0),((\"queensland\",4),0.43156624f0),((\"wales\",18),0.45057023f0),((\"south\",12),0.45707417f0)]\n",
      "[((\"zealand\",17),0.51816374f0),((\"match\",1),0.51989126f0),((\"us\",14),0.5360247f0),((\"test\",15),0.5406124f0),((\"first\",13),0.5431219f0)]\n",
      "[((\"cartoonist\",16),0.647694f0),((\"modernisation\",1),0.6486087f0),((\"april\",13),0.66997445f0),((\"becoming\",20),0.6734446f0),((\"american\",8),0.68248886f0)]\n",
      "[((\"south\",12),0.4463454f0),((\"wales\",19),0.4847467f0),((\"new\",3),0.5076965f0),((\"zealand\",17),0.51473045f0),((\"victoria\",11),0.51839817f0)]\n",
      "*[((\"aclu\",4),0.6944263f0),((\"affects\",1),0.69619596f0),((\"requested\",17),0.69798505f0),((\"enhanced\",19),0.7001114f0),((\"duchy\",1),0.70312595f0)]\n",
      "[((\"eastern\",1),0.45826256f0),((\"india\",12),0.48450494f0),((\"in\",1),0.48777324f0),((\"central\",19),0.4917227f0),((\"canada\",3),0.49812436f0)]\n",
      "[((\"broke\",1),0.6366043f0),((\"july\",5),0.6627748f0),((\"zealand\",17),0.6700146f0),((\"question\",20),0.6760824f0),((\"the\",11),0.67849857f0)]\n",
      "\n",
      "[((\"prime\",13),0.2473808f0),((\"minister\",20),0.31629658f0),((\"prime\",1),0.32216263f0),((\"ministers\",4),0.34331042f0),((\"minister\",3),0.36456484f0)]\n",
      "[((\"list\",8),0.59148026f0),((\"and\",20),0.614841f0),((\"official\",13),0.624194f0),((\"general\",18),0.62567335f0),((\"members\",15),0.629411f0)]\n",
      "*[((\"won\",12),0.67440736f0),((\"the\",6),0.6763311f0),((\"england\",14),0.6785213f0),((\"bishops\",13),0.6839303f0),((\"city\",7),0.6852726f0)]\n",
      "\n"
     ]
    }
   ],
   "source": [
    "dist = r\n",
    "af=affinityprop(dists, display=:final, damp=0.5, maxiter=200)\n",
    "print_clusters(af)"
   ]
  },
  {
   "cell_type": "code",
   "execution_count": null,
   "metadata": {
    "collapsed": true
   },
   "outputs": [],
   "source": []
  },
  {
   "cell_type": "code",
   "execution_count": 278,
   "metadata": {
    "collapsed": false
   },
   "outputs": [
    {
     "data": {
      "text/plain": [
       "scale_to_range (generic function with 1 method)"
      ]
     },
     "execution_count": 278,
     "metadata": {},
     "output_type": "execute_result"
    }
   ],
   "source": [
    "function scale_to_range(x, xs, ys)\n",
    "    scaled_x = x-minimum(xs)/(maximum(xs)-minimum(xs))\n",
    "    minimum(ys)+scaled_x.*(maximum(ys)-minimum(ys))\n",
    "end"
   ]
  },
  {
   "cell_type": "code",
   "execution_count": 301,
   "metadata": {
    "collapsed": false
   },
   "outputs": [
    {
     "data": {
      "text/plain": [
       "19×19 Array{Float64,2}:\n",
       "  0.0945462    1.50389   -0.0517176  …  -0.865246   -1.16101   -0.525682 \n",
       "  1.50389     -0.231096  -0.923457       2.10792     2.28134    2.38486  \n",
       " -0.0517176   -0.923457   0.0584093      0.680004    0.339451   0.970045 \n",
       " -1.20251      1.66703   -0.226216      -0.0514805  -1.25396   -0.548043 \n",
       " -0.558373     2.01014    0.645534      -1.07327     0.196188  -0.31214  \n",
       " -0.00866698  -0.340877  -0.512689   …   0.438067    0.743241   0.0395598\n",
       " -0.0996641   -0.422912  -0.969897       0.790198    0.137412   0.557045 \n",
       "  0.827596    -0.883476  -0.83002        0.39127     1.81357    1.55693  \n",
       "  0.0496075   -0.361393  -0.72681        0.98309     0.55284    0.416044 \n",
       "  0.887543    -1.4117    -0.967592       1.31207     1.61169    1.3724   \n",
       " -1.04526      1.63166    0.635853   …  -0.809929   -0.58368   -0.823253 \n",
       "  0.373626    -0.876751  -1.25697        1.20308     0.78673    1.58676  \n",
       " -1.04307      1.60449    0.13605       -1.14053    -0.657669  -0.428266 \n",
       " -0.700976     0.789873  -0.238118      -0.252446   -0.590672  -0.614831 \n",
       " -0.752937     2.21502    0.918997      -0.466983   -0.812097  -1.03508  \n",
       " -0.468534     2.61877    0.923253   …   0.200401   -0.566646  -0.632631 \n",
       " -0.865246     2.10792    0.680004      -0.0590585  -0.270874  -0.38598  \n",
       " -1.16101      2.28134    0.339451      -0.270874    0.113345  -0.556214 \n",
       " -0.525682     2.38486    0.970045      -0.38598    -0.556214  -0.0416937"
      ]
     },
     "execution_count": 301,
     "metadata": {},
     "output_type": "execute_result"
    }
   ],
   "source": [
    "dists"
   ]
  },
  {
   "cell_type": "code",
   "execution_count": 484,
   "metadata": {
    "collapsed": false
   },
   "outputs": [
    {
     "name": "stdout",
     "output_type": "stream",
     "text": [
      "Affinity propagation converged with 40 iterations: 2 exemplars.\n",
      "true_examplars = [2,17]\n",
      "true_assignments = [2,2,17,2,2,17,17,17,17,17,2,17,2,2,2,17,2,2,2]\n",
      "--\n",
      "[((\"ireland\",16),0.64708966f0),((\"britain\",16),0.64880353f0),((\"especially\",9),0.6513231f0),((\"provided\",15),0.67011666f0),((\"particularly\",20),0.6725949f0)]\n",
      "*[((\"deaths\",18),0.6309011f0),((\"sir\",20),0.6614016f0),((\"morgan\",1),0.6741953f0),((\"west\",18),0.6777778f0),((\"isbn\",5),0.67834324f0)]\n",
      "[((\"list\",8),0.59148026f0),((\"and\",20),0.614841f0),((\"official\",13),0.624194f0),((\"general\",18),0.62567335f0),((\"members\",15),0.629411f0)]\n",
      "[((\"western\",13),0.4191454f0),((\"town\",10),0.42082667f0),((\"queensland\",4),0.43156624f0),((\"wales\",18),0.45057023f0),((\"south\",12),0.45707417f0)]\n",
      "[((\"eastern\",1),0.45826256f0),((\"india\",12),0.48450494f0),((\"in\",1),0.48777324f0),((\"central\",19),0.4917227f0),((\"canada\",3),0.49812436f0)]\n",
      "[((\"south\",17),0.34426063f0),((\"japan\",14),0.37043744f0),((\"africa\",7),0.3789521f0),((\"and\",6),0.38012308f0),((\"east\",9),0.3821984f0)]\n",
      "[((\"broke\",1),0.6366043f0),((\"july\",5),0.6627748f0),((\"zealand\",17),0.6700146f0),((\"question\",20),0.6760824f0),((\"the\",11),0.67849857f0)]\n",
      "[((\"advance\",6),0.48215127f0),((\"canada\",20),0.5794129f0),((\"britain\",20),0.5893681f0),((\"france\",9),0.60055745f0),((\"germany\",6),0.6300453f0)]\n",
      "[((\"zealand\",12),0.18529892f0),((\"new\",3),0.24071127f0),((\"canada\",3),0.2889933f0),((\"kingdom\",6),0.36203885f0),((\"netherlands\",18),0.38124573f0)]\n",
      "[((\"many\",8),0.43426085f0),((\"in\",15),0.47859168f0),((\"and\",20),0.48893946f0),((\"a\",11),0.4949652f0),((\"uk\",14),0.4982586f0)]\n",
      "[((\"europe\",18),0.48324925f0),((\"countries\",18),0.49733496f0),((\"canada\",15),0.5158184f0),((\"many\",1),0.53822476f0),((\"television\",7),0.54350066f0)]\n",
      "\n",
      "[((\"prime\",13),0.2473808f0),((\"minister\",20),0.31629658f0),((\"prime\",1),0.32216263f0),((\"ministers\",4),0.34331042f0),((\"minister\",3),0.36456484f0)]\n",
      "[((\"zealand\",17),0.51816374f0),((\"match\",1),0.51989126f0),((\"us\",14),0.5360247f0),((\"test\",15),0.5406124f0),((\"first\",13),0.5431219f0)]\n",
      "[((\"cartoonist\",16),0.647694f0),((\"modernisation\",1),0.6486087f0),((\"april\",13),0.66997445f0),((\"becoming\",20),0.6734446f0),((\"american\",8),0.68248886f0)]\n",
      "[((\"south\",12),0.4463454f0),((\"wales\",19),0.4847467f0),((\"new\",3),0.5076965f0),((\"zealand\",17),0.51473045f0),((\"victoria\",11),0.51839817f0)]\n",
      "[((\"aclu\",4),0.6944263f0),((\"affects\",1),0.69619596f0),((\"requested\",17),0.69798505f0),((\"enhanced\",19),0.7001114f0),((\"duchy\",1),0.70312595f0)]\n",
      "[((\"won\",12),0.67440736f0),((\"the\",6),0.6763311f0),((\"england\",14),0.6785213f0),((\"bishops\",13),0.6839303f0),((\"city\",7),0.6852726f0)]\n",
      "[((\"eight\",3),0.6424203f0),((\"b\",8),0.66651416f0),((\"nsw\",1),0.6762165f0),((\"three\",4),0.684096f0),((\"nine\",6),0.6855695f0)]\n",
      "*[((\"australian\",12),0.42347747f0),((\"international\",20),0.44074863f0),((\"england\",11),0.47114956f0),((\"uk\",4),0.47835565f0),((\"an\",3),0.47924346f0)]\n",
      "\n"
     ]
    }
   ],
   "source": [
    "odists=pairwise(CorrDist(),rlp,rlp)\n",
    "dists=(odists-mean(odists))/std(odists)\n",
    "dists[eye(Bool,size(dists,1))]=(mean(rlp,1)-mean(rlp))/std(rlp)\n",
    "\n",
    "af=affinityprop(dists, display=:final, damp=0.5, maxiter=200)\n",
    "print_clusters(af)"
   ]
  },
  {
   "cell_type": "code",
   "execution_count": 485,
   "metadata": {
    "collapsed": false,
    "scrolled": false
   },
   "outputs": [
    {
     "name": "stdout",
     "output_type": "stream",
     "text": [
      "Affinity propagation converged with 33 iterations: 2 exemplars.\n",
      "true_examplars = [5,9]\n",
      "true_assignments = [9,5,5,9,5,9,9,9,9,5,9,5,9,9,9,9,9,9,9]\n",
      "--\n",
      "[((\"deaths\",18),0.6309011f0),((\"sir\",20),0.6614016f0),((\"morgan\",1),0.6741953f0),((\"west\",18),0.6777778f0),((\"isbn\",5),0.67834324f0)]\n",
      "[((\"prime\",13),0.2473808f0),((\"minister\",20),0.31629658f0),((\"prime\",1),0.32216263f0),((\"ministers\",4),0.34331042f0),((\"minister\",3),0.36456484f0)]\n",
      "*[((\"western\",13),0.4191454f0),((\"town\",10),0.42082667f0),((\"queensland\",4),0.43156624f0),((\"wales\",18),0.45057023f0),((\"south\",12),0.45707417f0)]\n",
      "[((\"won\",12),0.67440736f0),((\"the\",6),0.6763311f0),((\"england\",14),0.6785213f0),((\"bishops\",13),0.6839303f0),((\"city\",7),0.6852726f0)]\n",
      "[((\"eight\",3),0.6424203f0),((\"b\",8),0.66651416f0),((\"nsw\",1),0.6762165f0),((\"three\",4),0.684096f0),((\"nine\",6),0.6855695f0)]\n",
      "\n",
      "[((\"ireland\",16),0.64708966f0),((\"britain\",16),0.64880353f0),((\"especially\",9),0.6513231f0),((\"provided\",15),0.67011666f0),((\"particularly\",20),0.6725949f0)]\n",
      "[((\"list\",8),0.59148026f0),((\"and\",20),0.614841f0),((\"official\",13),0.624194f0),((\"general\",18),0.62567335f0),((\"members\",15),0.629411f0)]\n",
      "[((\"zealand\",17),0.51816374f0),((\"match\",1),0.51989126f0),((\"us\",14),0.5360247f0),((\"test\",15),0.5406124f0),((\"first\",13),0.5431219f0)]\n",
      "[((\"cartoonist\",16),0.647694f0),((\"modernisation\",1),0.6486087f0),((\"april\",13),0.66997445f0),((\"becoming\",20),0.6734446f0),((\"american\",8),0.68248886f0)]\n",
      "*[((\"south\",12),0.4463454f0),((\"wales\",19),0.4847467f0),((\"new\",3),0.5076965f0),((\"zealand\",17),0.51473045f0),((\"victoria\",11),0.51839817f0)]\n",
      "[((\"aclu\",4),0.6944263f0),((\"affects\",1),0.69619596f0),((\"requested\",17),0.69798505f0),((\"enhanced\",19),0.7001114f0),((\"duchy\",1),0.70312595f0)]\n",
      "[((\"eastern\",1),0.45826256f0),((\"india\",12),0.48450494f0),((\"in\",1),0.48777324f0),((\"central\",19),0.4917227f0),((\"canada\",3),0.49812436f0)]\n",
      "[((\"south\",17),0.34426063f0),((\"japan\",14),0.37043744f0),((\"africa\",7),0.3789521f0),((\"and\",6),0.38012308f0),((\"east\",9),0.3821984f0)]\n",
      "[((\"broke\",1),0.6366043f0),((\"july\",5),0.6627748f0),((\"zealand\",17),0.6700146f0),((\"question\",20),0.6760824f0),((\"the\",11),0.67849857f0)]\n",
      "[((\"advance\",6),0.48215127f0),((\"canada\",20),0.5794129f0),((\"britain\",20),0.5893681f0),((\"france\",9),0.60055745f0),((\"germany\",6),0.6300453f0)]\n",
      "[((\"australian\",12),0.42347747f0),((\"international\",20),0.44074863f0),((\"england\",11),0.47114956f0),((\"uk\",4),0.47835565f0),((\"an\",3),0.47924346f0)]\n",
      "[((\"zealand\",12),0.18529892f0),((\"new\",3),0.24071127f0),((\"canada\",3),0.2889933f0),((\"kingdom\",6),0.36203885f0),((\"netherlands\",18),0.38124573f0)]\n",
      "[((\"many\",8),0.43426085f0),((\"in\",15),0.47859168f0),((\"and\",20),0.48893946f0),((\"a\",11),0.4949652f0),((\"uk\",14),0.4982586f0)]\n",
      "[((\"europe\",18),0.48324925f0),((\"countries\",18),0.49733496f0),((\"canada\",15),0.5158184f0),((\"many\",1),0.53822476f0),((\"television\",7),0.54350066f0)]\n",
      "\n"
     ]
    }
   ],
   "source": [
    "vlp=rlp.-maximum(rlp,2);\n",
    "dists = pairwise(CorrDist(),vlp,vlp)\n",
    "scaled_preference = scale_to_range(mean(vlp,1), vlp, dists)\n",
    "#dists[eye(Bool,size(dists,1))]=scaled_preference\n",
    "#6*minimum(dists)#+mean(rlp,1)*0.3*(maximum(dists)-minimum(dists))\n",
    "af=affinityprop(dists, display=:final, damp=0.5, maxiter=200)\n",
    "print_clusters(af)\n"
   ]
  },
  {
   "cell_type": "code",
   "execution_count": 486,
   "metadata": {
    "collapsed": false,
    "scrolled": true
   },
   "outputs": [
    {
     "name": "stdout",
     "output_type": "stream",
     "text": [
      "Affinity propagation converged with 44 iterations: 3 exemplars.\n",
      "true_examplars = [2,10,11]\n",
      "true_assignments = [10,2,11,11,10,10,10,10,10,11,10,2,2,10,2,2,2,2,2]\n",
      "--\n",
      "*[((\"deaths\",18),0.6309011f0),((\"sir\",20),0.6614016f0),((\"morgan\",1),0.6741953f0),((\"west\",18),0.6777778f0),((\"isbn\",5),0.67834324f0)]\n",
      "[((\"eight\",3),0.6424203f0),((\"b\",8),0.66651416f0),((\"nsw\",1),0.6762165f0),((\"three\",4),0.684096f0),((\"nine\",6),0.6855695f0)]\n",
      "[((\"south\",17),0.34426063f0),((\"japan\",14),0.37043744f0),((\"africa\",7),0.3789521f0),((\"and\",6),0.38012308f0),((\"east\",9),0.3821984f0)]\n",
      "[((\"advance\",6),0.48215127f0),((\"canada\",20),0.5794129f0),((\"britain\",20),0.5893681f0),((\"france\",9),0.60055745f0),((\"germany\",6),0.6300453f0)]\n",
      "[((\"australian\",12),0.42347747f0),((\"international\",20),0.44074863f0),((\"england\",11),0.47114956f0),((\"uk\",4),0.47835565f0),((\"an\",3),0.47924346f0)]\n",
      "[((\"zealand\",12),0.18529892f0),((\"new\",3),0.24071127f0),((\"canada\",3),0.2889933f0),((\"kingdom\",6),0.36203885f0),((\"netherlands\",18),0.38124573f0)]\n",
      "[((\"many\",8),0.43426085f0),((\"in\",15),0.47859168f0),((\"and\",20),0.48893946f0),((\"a\",11),0.4949652f0),((\"uk\",14),0.4982586f0)]\n",
      "[((\"europe\",18),0.48324925f0),((\"countries\",18),0.49733496f0),((\"canada\",15),0.5158184f0),((\"many\",1),0.53822476f0),((\"television\",7),0.54350066f0)]\n",
      "\n",
      "[((\"ireland\",16),0.64708966f0),((\"britain\",16),0.64880353f0),((\"especially\",9),0.6513231f0),((\"provided\",15),0.67011666f0),((\"particularly\",20),0.6725949f0)]\n",
      "[((\"western\",13),0.4191454f0),((\"town\",10),0.42082667f0),((\"queensland\",4),0.43156624f0),((\"wales\",18),0.45057023f0),((\"south\",12),0.45707417f0)]\n",
      "[((\"zealand\",17),0.51816374f0),((\"match\",1),0.51989126f0),((\"us\",14),0.5360247f0),((\"test\",15),0.5406124f0),((\"first\",13),0.5431219f0)]\n",
      "[((\"cartoonist\",16),0.647694f0),((\"modernisation\",1),0.6486087f0),((\"april\",13),0.66997445f0),((\"becoming\",20),0.6734446f0),((\"american\",8),0.68248886f0)]\n",
      "[((\"south\",12),0.4463454f0),((\"wales\",19),0.4847467f0),((\"new\",3),0.5076965f0),((\"zealand\",17),0.51473045f0),((\"victoria\",11),0.51839817f0)]\n",
      "*[((\"aclu\",4),0.6944263f0),((\"affects\",1),0.69619596f0),((\"requested\",17),0.69798505f0),((\"enhanced\",19),0.7001114f0),((\"duchy\",1),0.70312595f0)]\n",
      "[((\"eastern\",1),0.45826256f0),((\"india\",12),0.48450494f0),((\"in\",1),0.48777324f0),((\"central\",19),0.4917227f0),((\"canada\",3),0.49812436f0)]\n",
      "[((\"broke\",1),0.6366043f0),((\"july\",5),0.6627748f0),((\"zealand\",17),0.6700146f0),((\"question\",20),0.6760824f0),((\"the\",11),0.67849857f0)]\n",
      "\n",
      "[((\"prime\",13),0.2473808f0),((\"minister\",20),0.31629658f0),((\"prime\",1),0.32216263f0),((\"ministers\",4),0.34331042f0),((\"minister\",3),0.36456484f0)]\n",
      "[((\"list\",8),0.59148026f0),((\"and\",20),0.614841f0),((\"official\",13),0.624194f0),((\"general\",18),0.62567335f0),((\"members\",15),0.629411f0)]\n",
      "*[((\"won\",12),0.67440736f0),((\"the\",6),0.6763311f0),((\"england\",14),0.6785213f0),((\"bishops\",13),0.6839303f0),((\"city\",7),0.6852726f0)]\n",
      "\n"
     ]
    }
   ],
   "source": [
    "wv = hcat(ee.embedding[word][find(uu.>0)]...)\n",
    "odists = pairwise(CosineDist(),wv,wv)\n",
    "dists=(odists-mean(odists))/std(odists)\n",
    "dists[eye(Bool,size(dists,1))]=(mean(rlp,1)-mean(rlp))/std(rlp)\n",
    "\n",
    "af=affinityprop(dists, display=:final, damp=0.5, maxiter=200)\n",
    "print_clusters(af)"
   ]
  },
  {
   "cell_type": "code",
   "execution_count": null,
   "metadata": {
    "collapsed": false
   },
   "outputs": [],
   "source": [
    "\n",
    "function kldist(logprobs)\n",
    "    n_samples, n_models = size(logprobs)\n",
    "    distence_matrix = Array(Float64,(n_models,n_models))\n",
    "    for p_i in 1:n_models\n",
    "        for q_i in 1:n_models\n",
    "            distence_matrix[p_i,q_i] = corr_dist((logprobs[:,p_i]),(logprobs[:,q_i]))\n",
    "        end\n",
    "    end\n",
    "    distence_matrix\n",
    "end"
   ]
  },
  {
   "cell_type": "code",
   "execution_count": null,
   "metadata": {
    "collapsed": false
   },
   "outputs": [],
   "source": [
    "kldist(all_logprobs[\"a\"])"
   ]
  },
  {
   "cell_type": "code",
   "execution_count": null,
   "metadata": {
    "collapsed": false
   },
   "outputs": [],
   "source": [
    "kldist(all_logprobs[\"mutual\"])"
   ]
  },
  {
   "cell_type": "code",
   "execution_count": null,
   "metadata": {
    "collapsed": false
   },
   "outputs": [],
   "source": [
    "kldist(all_logprobs[\"for\"])"
   ]
  },
  {
   "cell_type": "code",
   "execution_count": null,
   "metadata": {
    "collapsed": false
   },
   "outputs": [],
   "source": [
    "all_logprobs[\"about\"]"
   ]
  },
  {
   "cell_type": "code",
   "execution_count": null,
   "metadata": {
    "collapsed": false
   },
   "outputs": [],
   "source": [
    "all_logprobs[\"for\"]"
   ]
  },
  {
   "cell_type": "code",
   "execution_count": null,
   "metadata": {
    "collapsed": true
   },
   "outputs": [],
   "source": []
  },
  {
   "cell_type": "code",
   "execution_count": null,
   "metadata": {
    "collapsed": true
   },
   "outputs": [],
   "source": []
  }
 ],
 "metadata": {
  "kernelspec": {
   "display_name": "Julia 0.5.0-dev",
   "language": "julia",
   "name": "julia-0.5"
  },
  "language_info": {
   "file_extension": ".jl",
   "mimetype": "application/julia",
   "name": "julia",
   "version": "0.5.0"
  }
 },
 "nbformat": 4,
 "nbformat_minor": 0
}
