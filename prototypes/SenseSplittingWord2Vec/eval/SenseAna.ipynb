{
 "cells": [
  {
   "cell_type": "code",
   "execution_count": 3,
   "metadata": {
    "collapsed": false
   },
   "outputs": [],
   "source": [
    "using WordEmbeddings, SoftmaxClassifier\n",
    "using Utils\n",
    "using Query\n",
    "using Base.Collections\n"
   ]
  },
  {
   "cell_type": "code",
   "execution_count": 4,
   "metadata": {
    "collapsed": false
   },
   "outputs": [],
   "source": [
    "ee = restore(\"models/ss/text8_300.model_i5.model\");"
   ]
  },
  {
   "cell_type": "code",
   "execution_count": null,
   "metadata": {
    "collapsed": true
   },
   "outputs": [],
   "source": []
  },
  {
   "cell_type": "code",
   "execution_count": 5,
   "metadata": {
    "collapsed": false
   },
   "outputs": [
    {
     "data": {
      "text/plain": [
       "print_nearest_words (generic function with 1 method)"
      ]
     },
     "execution_count": 5,
     "metadata": {},
     "output_type": "execute_result"
    }
   ],
   "source": [
    "function print_nearest_words(word)\n",
    "    for ii in 1:length(ee.embedding[word])\n",
    "        println(Query.find_nearest_words(ee, word, ii))\n",
    "        println()\n",
    "    end\n",
    "end"
   ]
  },
  {
   "cell_type": "code",
   "execution_count": 6,
   "metadata": {
    "collapsed": false
   },
   "outputs": [
    {
     "name": "stdout",
     "output_type": "stream",
     "text": [
      "[Pair{Any,Any}((\"macintosh\",1),0.312433f0),Pair{Any,Any}((\"microsoft\",1),0.44524378f0),Pair{Any,Any}((\"ibm\",1),0.48535585f0),Pair{Any,Any}((\"pc\",1),0.48779434f0),Pair{Any,Any}((\"computer\",4),0.4913149f0)]\n",
      "\n"
     ]
    }
   ],
   "source": [
    "print_nearest_words(\"apple\")"
   ]
  },
  {
   "cell_type": "code",
   "execution_count": 7,
   "metadata": {
    "collapsed": false
   },
   "outputs": [
    {
     "name": "stdout",
     "output_type": "stream",
     "text": [
      "[Pair{Any,Any}((\"sort\",1),0.4369082f0),Pair{Any,Any}((\"sense\",1),0.46220887f0),Pair{Any,Any}((\"form\",5),0.4665571f0),Pair{Any,Any}((\"type\",1),0.48271614f0),Pair{Any,Any}((\"concept\",1),0.55914176f0)]\n",
      "\n"
     ]
    }
   ],
   "source": [
    "print_nearest_words(\"kind\")"
   ]
  },
  {
   "cell_type": "code",
   "execution_count": 8,
   "metadata": {
    "collapsed": false
   },
   "outputs": [
    {
     "name": "stdout",
     "output_type": "stream",
     "text": [
      "[Pair{Any,Any}((\"driver\",1),0.40859807f0),Pair{Any,Any}((\"car\",1),0.46332836f0),Pair{Any,Any}((\"races\",1),0.52687645f0),Pair{Any,Any}((\"racing\",1),0.53350914f0),Pair{Any,Any}((\"latino\",1),0.56910217f0)]\n",
      "\n"
     ]
    }
   ],
   "source": [
    "print_nearest_words(\"race\")"
   ]
  },
  {
   "cell_type": "code",
   "execution_count": 9,
   "metadata": {
    "collapsed": false
   },
   "outputs": [
    {
     "name": "stdout",
     "output_type": "stream",
     "text": [
      "[Pair{Any,Any}((\"death\",2),0.5694616f0),Pair{Any,Any}((\"died\",2),0.58896565f0),Pair{Any,Any}((\"body\",5),0.61826295f0),Pair{Any,Any}((\"sick\",1),0.61854005f0),Pair{Any,Any}((\"his\",1),0.64119995f0)]\n",
      "\n"
     ]
    }
   ],
   "source": [
    "print_nearest_words(\"dying\")"
   ]
  },
  {
   "cell_type": "code",
   "execution_count": 10,
   "metadata": {
    "collapsed": false
   },
   "outputs": [
    {
     "name": "stdout",
     "output_type": "stream",
     "text": [
      "[Pair{Any,Any}((\"feeling\",1),0.5186279f0),Pair{Any,Any}((\"anger\",1),0.548495f0),Pair{Any,Any}((\"life\",4),0.549924f0),Pair{Any,Any}((\"love\",1),0.5860201f0),Pair{Any,Any}((\"feelings\",1),0.59332573f0)]\n",
      "\n"
     ]
    }
   ],
   "source": [
    "print_nearest_words(\"fear\")"
   ]
  },
  {
   "cell_type": "code",
   "execution_count": 11,
   "metadata": {
    "collapsed": false
   },
   "outputs": [
    {
     "name": "stdout",
     "output_type": "stream",
     "text": [
      "[Pair{Any,Any}((\"mickey\",1),0.47467655f0),Pair{Any,Any}((\"mice\",1),0.5156989f0),Pair{Any,Any}((\"button\",1),0.55851513f0),Pair{Any,Any}((\"keyboard\",1),0.5705266f0),Pair{Any,Any}((\"buttons\",1),0.59686226f0)]\n",
      "\n"
     ]
    }
   ],
   "source": [
    "print_nearest_words(\"mouse\")"
   ]
  },
  {
   "cell_type": "code",
   "execution_count": 12,
   "metadata": {
    "collapsed": false
   },
   "outputs": [
    {
     "name": "stdout",
     "output_type": "stream",
     "text": [
      "[Pair{Any,Any}((\"computer\",3),0.357157f0),Pair{Any,Any}((\"games\",4),0.3768556f0),Pair{Any,Any}((\"audio\",1),0.40701973f0),Pair{Any,Any}((\"console\",1),0.42681676f0),Pair{Any,Any}((\"game\",1),0.43020195f0)]\n",
      "\n"
     ]
    }
   ],
   "source": [
    "print_nearest_words(\"video\")"
   ]
  },
  {
   "cell_type": "code",
   "execution_count": 13,
   "metadata": {
    "collapsed": false
   },
   "outputs": [
    {
     "name": "stdout",
     "output_type": "stream",
     "text": [
      "[Pair{Any,Any}((\"phones\",1),0.38353425f0),Pair{Any,Any}((\"mobile\",1),0.3930199f0),Pair{Any,Any}((\"telephone\",1),0.42033744f0),Pair{Any,Any}((\"telephony\",1),0.47926182f0),Pair{Any,Any}((\"wireless\",1),0.48119968f0)]\n",
      "\n"
     ]
    }
   ],
   "source": [
    "print_nearest_words(\"phone\")"
   ]
  },
  {
   "cell_type": "code",
   "execution_count": 14,
   "metadata": {
    "collapsed": false
   },
   "outputs": [
    {
     "name": "stdout",
     "output_type": "stream",
     "text": [
      "[Pair{Any,Any}((\"broke\",1),0.49473268f0),Pair{Any,Any}((\"fell\",1),0.56876224f0),Pair{Any,Any}((\"brought\",1),0.5725447f0),Pair{Any,Any}((\"ended\",1),0.59427905f0),Pair{Any,Any}((\"began\",3),0.6062865f0)]\n",
      "\n",
      "[Pair{Any,Any}((\"turned\",1),0.47492337f0),Pair{Any,Any}((\"got\",1),0.5069094f0),Pair{Any,Any}((\"went\",1),0.5107327f0),Pair{Any,Any}((\"come\",1),0.5187156f0),Pair{Any,Any}((\"wanted\",1),0.53802115f0)]\n",
      "\n",
      "[Pair{Any,Any}((\"began\",3),0.46074373f0),Pair{Any,Any}((\"later\",5),0.53573865f0),Pair{Any,Any}((\"began\",4),0.54755056f0),Pair{Any,Any}((\"would\",4),0.57210183f0),Pair{Any,Any}((\"continued\",1),0.57533896f0)]\n",
      "\n",
      "[Pair{Any,Any}((\"going\",1),0.72630453f0),Pair{Any,Any}((\"walked\",1),0.72777957f0),Pair{Any,Any}((\"owes\",1),0.7430683f0),Pair{Any,Any}((\"ogpu\",1),0.7492734f0),Pair{Any,Any}((\"thoth\",1),0.76348054f0)]\n",
      "\n",
      "[Pair{Any,Any}((\"abstraction\",1),0.7163075f0),Pair{Any,Any}((\"groping\",1),0.73509705f0),Pair{Any,Any}((\"ranged\",1),0.76608425f0),Pair{Any,Any}((\"repayments\",1),0.7661662f0),Pair{Any,Any}((\"drive\",1),0.76828444f0)]\n",
      "\n"
     ]
    }
   ],
   "source": [
    "print_nearest_words(\"came\")"
   ]
  },
  {
   "cell_type": "code",
   "execution_count": 18,
   "metadata": {
    "collapsed": false
   },
   "outputs": [
    {
     "name": "stdout",
     "output_type": "stream",
     "text": [
      "[Pair{Any,Any}((\"go\",1),0.46433282f0),Pair{Any,Any}((\"bring\",1),0.49955094f0),Pair{Any,Any}((\"came\",2),0.5187156f0),Pair{Any,Any}((\"get\",1),0.5489323f0),Pair{Any,Any}((\"gone\",1),0.55328274f0)]\n",
      "\n"
     ]
    }
   ],
   "source": [
    "print_nearest_words(\"come\")"
   ]
  },
  {
   "cell_type": "code",
   "execution_count": 19,
   "metadata": {
    "collapsed": false
   },
   "outputs": [
    {
     "name": "stdout",
     "output_type": "stream",
     "text": [
      "[Pair{Any,Any}((\"characterize\",1),0.48980558f0),Pair{Any,Any}((\"describe\",1),0.50407517f0),Pair{Any,Any}((\"denote\",1),0.5171374f0),Pair{Any,Any}((\"defined\",1),0.52109903f0),Pair{Any,Any}((\"defining\",1),0.5232667f0)]\n",
      "\n"
     ]
    }
   ],
   "source": [
    "print_nearest_words(\"define\")"
   ]
  },
  {
   "cell_type": "code",
   "execution_count": 20,
   "metadata": {
    "collapsed": false
   },
   "outputs": [
    {
     "name": "stdout",
     "output_type": "stream",
     "text": [
      "[Pair{Any,Any}((\"zealand\",1),0.34946275f0),Pair{Any,Any}((\"canada\",5),0.43124706f0),Pair{Any,Any}((\"sydney\",1),0.43204182f0),Pair{Any,Any}((\"queensland\",1),0.43286932f0),Pair{Any,Any}((\"tasmania\",1),0.4494567f0)]\n",
      "\n"
     ]
    }
   ],
   "source": [
    "print_nearest_words(\"australia\")"
   ]
  },
  {
   "cell_type": "code",
   "execution_count": 21,
   "metadata": {
    "collapsed": false
   },
   "outputs": [
    {
     "name": "stdout",
     "output_type": "stream",
     "text": [
      "[Pair{Any,Any}((\"jr\",1),0.5109097f0),Pair{Any,Any}((\"james\",2),0.5147657f0),Pair{Any,Any}((\"martin\",1),0.53909755f0),Pair{Any,Any}((\"luther\",1),0.54480195f0),Pair{Any,Any}((\"another\",2),0.59237856f0)]\n",
      "\n",
      "[Pair{Any,Any}((\"king\",4),0.27302527f0),Pair{Any,Any}((\"charles\",4),0.31022084f0),Pair{Any,Any}((\"ii\",1),0.3156939f0),Pair{Any,Any}((\"iii\",1),0.3252386f0),Pair{Any,Any}((\"iv\",1),0.35439235f0)]\n",
      "\n",
      "[Pair{Any,Any}((\"monarch\",1),0.47426587f0),Pair{Any,Any}((\"throne\",1),0.47795403f0),Pair{Any,Any}((\"who\",1),0.5166762f0),Pair{Any,Any}((\"heir\",1),0.53314126f0),Pair{Any,Any}((\"nobles\",1),0.53374875f0)]\n",
      "\n",
      "[Pair{Any,Any}((\"charles\",4),0.26277387f0),Pair{Any,Any}((\"king\",2),0.27302527f0),Pair{Any,Any}((\"ii\",5),0.27458304f0),Pair{Any,Any}((\"son\",2),0.31461608f0),Pair{Any,Any}((\"iii\",1),0.35968918f0)]\n",
      "\n",
      "[Pair{Any,Any}((\"judah\",1),0.4135992f0),Pair{Any,Any}((\"son\",1),0.4272204f0),Pair{Any,Any}((\"kings\",1),0.46969312f0),Pair{Any,Any}((\"story\",4),0.50503516f0),Pair{Any,Any}((\"david\",2),0.521975f0)]\n",
      "\n"
     ]
    }
   ],
   "source": [
    "print_nearest_words(\"king\")"
   ]
  },
  {
   "cell_type": "code",
   "execution_count": null,
   "metadata": {
    "collapsed": true
   },
   "outputs": [],
   "source": []
  },
  {
   "cell_type": "code",
   "execution_count": null,
   "metadata": {
    "collapsed": true
   },
   "outputs": [],
   "source": []
  },
  {
   "cell_type": "code",
   "execution_count": null,
   "metadata": {
    "collapsed": true
   },
   "outputs": [],
   "source": [
    "using Distances"
   ]
  },
  {
   "cell_type": "code",
   "execution_count": null,
   "metadata": {
    "collapsed": false
   },
   "outputs": [],
   "source": []
  },
  {
   "cell_type": "code",
   "execution_count": null,
   "metadata": {
    "collapsed": false
   },
   "outputs": [],
   "source": [
    "CosineDist|> supertype |> supertype"
   ]
  },
  {
   "cell_type": "code",
   "execution_count": null,
   "metadata": {
    "collapsed": false
   },
   "outputs": [],
   "source": [
    "w_a = \"queen\" \n",
    "w_b = \"king\"\n",
    "w_c = \"man\" \n"
   ]
  },
  {
   "cell_type": "code",
   "execution_count": null,
   "metadata": {
    "collapsed": false,
    "scrolled": true
   },
   "outputs": [],
   "source": [
    "flat_embed = flatten_embeddings(ee)\n",
    "for (v_a,v_b,v_c) in Base.product((ee.embedding[w] for w in (w_a,w_b,w_c))...)\n",
    "        best=Query.find_nearest_embedding(flat_embed, v_b-v_a+v_c; nwords=1)[1]\n",
    "        println(best)\n",
    "end"
   ]
  },
  {
   "cell_type": "code",
   "execution_count": null,
   "metadata": {
    "collapsed": false,
    "scrolled": true
   },
   "outputs": [],
   "source": [
    "flat_embed = flatten_embeddings(ee)\n",
    "for (v_a,v_b,v_c) in Base.product((ee.embedding[w] for w in (w_a,w_b,w_c))...)\n",
    "        best=Query.find_nearest_embedding(flat_embed, v_b-v_a+v_c; nwords=1)[1]\n",
    "        println(best)\n",
    "end"
   ]
  },
  {
   "cell_type": "code",
   "execution_count": null,
   "metadata": {
    "collapsed": false
   },
   "outputs": [],
   "source": [
    "?Base.product"
   ]
  },
  {
   "cell_type": "code",
   "execution_count": null,
   "metadata": {
    "collapsed": true
   },
   "outputs": [],
   "source": []
  },
  {
   "cell_type": "code",
   "execution_count": null,
   "metadata": {
    "collapsed": true
   },
   "outputs": [],
   "source": []
  },
  {
   "cell_type": "code",
   "execution_count": null,
   "metadata": {
    "collapsed": false
   },
   "outputs": [],
   "source": [
    "using LightXML\n",
    "using Pipe\n",
    "Base.iteratorsize(::Type{LightXML.XMLNodeIter})=Base.SizeUnknown()\n",
    "Base.iteratorsize(::Type{LightXML.XMLElementIter})=Base.SizeUnknown()"
   ]
  },
  {
   "cell_type": "code",
   "execution_count": null,
   "metadata": {
    "collapsed": false
   },
   "outputs": [],
   "source": [
    "function load_semeval(filename)\n",
    "\n",
    "    function get_wsd_case(instance_node, preprocess=lowercase)\n",
    "        word=\"\"\n",
    "        context=String[]\n",
    "        for node in instance_node |> child_nodes\n",
    "            if is_elementnode(node)\n",
    "                @assert word==\"\"\n",
    "                word = node |>child_nodes |> first |> string |> preprocess |> strip\n",
    "            else\n",
    "                @assert(node|>is_textnode)\n",
    "                append!(context, node|>string|>preprocess|>split)\n",
    "            end\n",
    "        end\n",
    "        @assert word!=\"\"\n",
    "        word, context\n",
    "    end\n",
    "\n",
    "    xdoc = parse_file(filename)\n",
    "    \n",
    "    xroot = root(xdoc);  # an instance of XMLElement\n",
    "    nodes = Base.Flatten(child_elements(instance)  for instance in child_elements(xroot)) \n",
    "    map(get_wsd_case, nodes) |> collect    \n",
    "end"
   ]
  },
  {
   "cell_type": "code",
   "execution_count": null,
   "metadata": {
    "collapsed": false,
    "scrolled": true
   },
   "outputs": [],
   "source": [
    "cases = load_semeval(\"./data/corpora/semeval2007t2/trial_data/English.LS.txt\");"
   ]
  },
  {
   "cell_type": "code",
   "execution_count": null,
   "metadata": {
    "collapsed": false
   },
   "outputs": [],
   "source": [
    "function get_raw_scores(embed::WordSenseEmbedding, word,context)\n",
    "    println(word)\n",
    "    #println(join(context,\" \"))\n",
    "    probs = Task() do \n",
    "        for (si,sense_embed) in enumerate(embed.embedding[word])\n",
    "            lp =  logprob_of_context(embed, context, sense_embed; skip_oov=true)\n",
    "            produce((lp,si))   \n",
    "        end\n",
    "    end |> collect\n",
    "    \n",
    "    for (lp, si) in sort(probs, by=first, rev=true)\n",
    "        println(si,\"\\t\",lp,\"\\t\",exp(lp)|>string)\n",
    "    end    \n",
    "end"
   ]
  },
  {
   "cell_type": "code",
   "execution_count": null,
   "metadata": {
    "collapsed": false
   },
   "outputs": [],
   "source": [
    "?findmax"
   ]
  },
  {
   "cell_type": "code",
   "execution_count": null,
   "metadata": {
    "collapsed": false
   },
   "outputs": [],
   "source": [
    "select"
   ]
  },
  {
   "cell_type": "code",
   "execution_count": null,
   "metadata": {
    "collapsed": false
   },
   "outputs": [],
   "source": [
    "-1-(-3)\n"
   ]
  },
  {
   "cell_type": "code",
   "execution_count": null,
   "metadata": {
    "collapsed": false
   },
   "outputs": [],
   "source": [
    "function get_marginal_scores(embed::WordSenseEmbedding, word,context)\n",
    "    #println(word)\n",
    "    #println(join(context,\" \"))\n",
    "    probs = Float64[logprob_of_context(embed, context, sense_embed; skip_oov=true) for  sense_embed in embed.embedding[word]]\n",
    "    \n",
    "    maxprob, maxprob_id = findmax(probs)\n",
    "    penulti_prob = select(probs,2, rev=true)\n",
    "    scores = zeros(probs)\n",
    "    scores[maxprob_id] = maxprob - penulti_prob\n",
    "\n",
    "    #μ = mean(probs)\n",
    "    #σ = std(probs)\n",
    "    #zprobs = map(p->(p-μ)/σ, probs) |> collect\n",
    "    \n",
    "    #maxprob, maxprob_id = findmax(probs)\n",
    "    #scores = -abs(collect(probs))\n",
    "    #scores[maxprob_id]=abs(maxprob)\n",
    "    scores \n",
    "end"
   ]
  },
  {
   "cell_type": "markdown",
   "metadata": {},
   "source": [
    "# What makes a particular set of sense embeddings good?\n",
    "Goal here is to define a fittness function for a set of sentence embeddings.  \n",
    "\n",
    "THis is loosely similar to the criteria for a good set of clusters. \n",
    "A good clustering has small varience within the class;\n",
    "and we write:\n",
    "$$g_{fit}(Z=\\{z_1,z_2,...,z_k\\})=\\dfrac{1}{|Z|}{\\sum\\limits_{\\forall z \\in Z}}\\:{\\sum\\limits_{\\forall x\\in \\mathcal{C}(z)}{\\left(x-z\\right)^2}}$$\n",
    "\n",
    "A good sense embeddings assigned a high probability of its context, when it is the highest, and a low probability of its context when it is not highest -- forcing each sense to be different.\n",
    "\n"
   ]
  },
  {
   "cell_type": "code",
   "execution_count": null,
   "metadata": {
    "collapsed": false,
    "scrolled": true
   },
   "outputs": [],
   "source": [
    "using DataStructures\n",
    "ws_scores = DefaultDict(Any,Any, ()->zeros(Float64,5))\n",
    "nscores = 0\n",
    "total_score = 0\n",
    "for (cword,ccontext) in cases[1:end÷2]\n",
    "    words = [cword;ccontext]\n",
    "    for (ii, word) in enumerate(words)\n",
    "        haskey(ee.embedding, word) || continue\n",
    "        context = ccontext[[1:ii-1;ii+1:end]]\n",
    "        ws_scores[word].+= get_marginal_scores(ee,word,context) |> collect\n",
    "        #[logprob_of_context(ee,context, ee.embedding[word][s_id]; skip_oov=true  for s_id in 1:5]\n",
    "    end\n",
    "end\n",
    "\n",
    "ws_scores"
   ]
  },
  {
   "cell_type": "code",
   "execution_count": null,
   "metadata": {
    "collapsed": false,
    "scrolled": true
   },
   "outputs": [],
   "source": [
    "banned = Dict()\n",
    "for (word,scores) in ws_scores\n",
    "    banned[word] = find(scores.<=0)\n",
    "end\n",
    "banned"
   ]
  },
  {
   "cell_type": "code",
   "execution_count": null,
   "metadata": {
    "collapsed": false
   },
   "outputs": [],
   "source": [
    "function perplexity(ee, cases, banned_senses=Dict())\n",
    "    sum_of_logprobs = 0.0\n",
    "    nwords = 0\n",
    "    for (cword,ccontext) in cases\n",
    "        words = filter(w->haskey(ee.embedding,w), [cword;ccontext])\n",
    "        \n",
    "        case_words = 0\n",
    "        for (ii, word) in enumerate(words)\n",
    "            context = words[[1:ii-1;ii+1:end]]\n",
    "            best_logprob = -Inf\n",
    "            for (s_id, s_emb) in enumerate(ee.embedding[word])\n",
    "                haskey(banned_senses, word) && s_id in banned_senses[word] && continue\n",
    "                best_logprob = max(best_logprob, logprob_of_context(ee,context, s_emb))                    \n",
    "            end\n",
    "            sum_of_logprobs+=best_logprob\n",
    "            nwords+=length(words)-1 #logprob of context is using the model once per word in context and summing them\n",
    "        end\n",
    "    end\n",
    "    @show(sum_of_logprobs)\n",
    "    @show(nwords)\n",
    "    cross_entropy = -1.0/nwords * sum_of_logprobs \n",
    "    @show(cross_entropy)\n",
    "    exp(cross_entropy)\n",
    "end\n"
   ]
  },
  {
   "cell_type": "code",
   "execution_count": null,
   "metadata": {
    "collapsed": false
   },
   "outputs": [],
   "source": [
    "perplexity(ee,cases[end÷2:end], banned)"
   ]
  },
  {
   "cell_type": "code",
   "execution_count": null,
   "metadata": {
    "collapsed": false
   },
   "outputs": [],
   "source": [
    "exp(-4.333793639526367e6 *(-1/548704))\n",
    "#Maximum Perp = 2692.5282875803277\n",
    "#Minimum Perp = 22033.97695332202\n",
    "#Mean Perp = 7596.212357052384\n",
    "#Median Perp = 7550.162665209774"
   ]
  },
  {
   "cell_type": "code",
   "execution_count": null,
   "metadata": {
    "collapsed": false
   },
   "outputs": [],
   "source": [
    "sample = \"i am unwell and need to phone my parents so they can collect me\" |> split\n",
    "w_ind = 7\n",
    "word = sample[w_ind]\n",
    "context = sub(sample,[1:w_ind-1;w_ind+1:endof(sample)])\n"
   ]
  },
  {
   "cell_type": "code",
   "execution_count": null,
   "metadata": {
    "collapsed": false
   },
   "outputs": [],
   "source": [
    "get_raw_scores(ee,word,context)"
   ]
  },
  {
   "cell_type": "code",
   "execution_count": null,
   "metadata": {
    "collapsed": false
   },
   "outputs": [],
   "source": [
    "get_marginal_scores(ee,word,context)"
   ]
  },
  {
   "cell_type": "code",
   "execution_count": null,
   "metadata": {
    "collapsed": false,
    "scrolled": true
   },
   "outputs": [],
   "source": [
    "pairwise(CosineDist(), hcat(ee.embedding[\"phone\"]...))"
   ]
  },
  {
   "cell_type": "code",
   "execution_count": null,
   "metadata": {
    "collapsed": false
   },
   "outputs": [],
   "source": [
    "\n",
    "using DataStructures\n",
    "all_logprobs = DefaultDict(Any,Any, ()->[])\n",
    "\n",
    "for (cword,ccontext) in cases[1:end÷2]\n",
    "    words = [cword;ccontext]\n",
    "    for (ii, word) in enumerate(words)\n",
    "        haskey(ee.embedding, word) || continue\n",
    "        context = ccontext[[1:ii-1;ii+1:end]]\n",
    "        probs = Float64[logprob_of_context(ee, context, sense_embed; skip_oov=true) for  sense_embed in ee.embedding[word]]\n",
    "\n",
    "        push!(all_logprobs[word], probs)\n",
    "    end\n",
    "end\n",
    "all_logprobs = Dict([word=>hcat(logprobs_list...)' for (word,logprobs_list) in all_logprobs]) \n",
    "\"\"\n"
   ]
  },
  {
   "cell_type": "code",
   "execution_count": null,
   "metadata": {
    "collapsed": false
   },
   "outputs": [],
   "source": [
    "exp(-592.88)*(-592.88 - 612.679)"
   ]
  },
  {
   "cell_type": "code",
   "execution_count": null,
   "metadata": {
    "collapsed": false,
    "scrolled": true
   },
   "outputs": [],
   "source": [
    "all_logprobs[\"a\"]\n"
   ]
  },
  {
   "cell_type": "code",
   "execution_count": null,
   "metadata": {
    "collapsed": false
   },
   "outputs": [],
   "source": [
    "Array(Float64,(3,3))"
   ]
  },
  {
   "cell_type": "code",
   "execution_count": null,
   "metadata": {
    "collapsed": false
   },
   "outputs": [],
   "source": [
    "\n",
    "function kldist(logprobs)\n",
    "    n_samples, n_models = size(logprobs)\n",
    "    distence_matrix = Array(Float64,(n_models,n_models))\n",
    "    for p_i in 1:n_models\n",
    "        for q_i in 1:n_models\n",
    "            distence_matrix[p_i,q_i] = corr_dist((logprobs[:,p_i]),(logprobs[:,q_i]))\n",
    "        end\n",
    "    end\n",
    "    distence_matrix\n",
    "end"
   ]
  },
  {
   "cell_type": "code",
   "execution_count": null,
   "metadata": {
    "collapsed": false
   },
   "outputs": [],
   "source": [
    "kldist(all_logprobs[\"a\"])"
   ]
  },
  {
   "cell_type": "code",
   "execution_count": null,
   "metadata": {
    "collapsed": false
   },
   "outputs": [],
   "source": [
    "jhbkldist(all_logprobs[\"mutual\"])"
   ]
  },
  {
   "cell_type": "code",
   "execution_count": null,
   "metadata": {
    "collapsed": false
   },
   "outputs": [],
   "source": [
    "kldist(all_logprobs[\"for\"])"
   ]
  },
  {
   "cell_type": "code",
   "execution_count": null,
   "metadata": {
    "collapsed": false
   },
   "outputs": [],
   "source": [
    "all_logprobs[\"mutual\"]"
   ]
  },
  {
   "cell_type": "code",
   "execution_count": null,
   "metadata": {
    "collapsed": false
   },
   "outputs": [],
   "source": [
    "all_logprobs[\"for\"]"
   ]
  },
  {
   "cell_type": "code",
   "execution_count": null,
   "metadata": {
    "collapsed": true
   },
   "outputs": [],
   "source": []
  }
 ],
 "metadata": {
  "kernelspec": {
   "display_name": "Julia 0.5.0-dev",
   "language": "julia",
   "name": "julia-0.5"
  },
  "language_info": {
   "file_extension": ".jl",
   "mimetype": "application/julia",
   "name": "julia",
   "version": "0.5.0"
  }
 },
 "nbformat": 4,
 "nbformat_minor": 0
}
