{
 "cells": [
  {
   "cell_type": "code",
   "execution_count": 3,
   "metadata": {
    "collapsed": true
   },
   "outputs": [],
   "source": [
    "using WordEmbeddings, SoftmaxClassifier\n",
    "using Utils\n",
    "using Query\n",
    "using Base.Collections"
   ]
  },
  {
   "cell_type": "code",
   "execution_count": 5,
   "metadata": {
    "collapsed": false
   },
   "outputs": [],
   "source": [
    "ee = restore(\"models/ss/text8_150.model_i5.model\");"
   ]
  },
  {
   "cell_type": "code",
   "execution_count": null,
   "metadata": {
    "collapsed": true
   },
   "outputs": [],
   "source": []
  },
  {
   "cell_type": "code",
   "execution_count": 12,
   "metadata": {
    "collapsed": false
   },
   "outputs": [
    {
     "data": {
      "text/plain": [
       "print_nearest_words (generic function with 1 method)"
      ]
     },
     "execution_count": 12,
     "metadata": {},
     "output_type": "execute_result"
    }
   ],
   "source": [
    "function print_nearest_words(word)\n",
    "    for ii in 1:5\n",
    "        println(Query.find_nearest_words(ee, word, ii))\n",
    "        println()\n",
    "    end\n",
    "end"
   ]
  },
  {
   "cell_type": "code",
   "execution_count": 13,
   "metadata": {
    "collapsed": false
   },
   "outputs": [
    {
     "name": "stdout",
     "output_type": "stream",
     "text": [
      "[Pair{Any,Any}((\"cider\",2),0.40922308f0),Pair{Any,Any}((\"juice\",2),0.42114162f0),Pair{Any,Any}((\"apples\",1),0.475089f0),Pair{Any,Any}((\"sold\",4),0.4787364f0),Pair{Any,Any}((\"sweet\",2),0.48024905f0)]\n",
      "\n",
      "[Pair{Any,Any}((\"apple\",5),0.25618058f0),Pair{Any,Any}((\"apple\",3),0.2575904f0),Pair{Any,Any}((\"macintosh\",3),0.31505948f0),Pair{Any,Any}((\"sold\",5),0.33593363f0),Pair{Any,Any}((\"desktop\",1),0.40251833f0)]\n",
      "\n",
      "[Pair{Any,Any}((\"apple\",5),0.25100756f0),Pair{Any,Any}((\"apple\",2),0.2575904f0),Pair{Any,Any}((\"macintosh\",3),0.28219044f0),Pair{Any,Any}((\"amiga\",4),0.36356235f0),Pair{Any,Any}((\"intel\",2),0.372518f0)]\n",
      "\n",
      "[Pair{Any,Any}((\"montrealers\",2),0.6433127f0),Pair{Any,Any}((\"corinthians\",5),0.6439272f0),Pair{Any,Any}((\"locating\",5),0.64470124f0),Pair{Any,Any}((\"lifo\",4),0.6473266f0),Pair{Any,Any}((\"branwell\",5),0.65443635f0)]\n",
      "\n",
      "[Pair{Any,Any}((\"macintosh\",3),0.18235701f0),Pair{Any,Any}((\"apple\",3),0.25100756f0),Pair{Any,Any}((\"apple\",2),0.25618058f0),Pair{Any,Any}((\"computer\",1),0.34090072f0),Pair{Any,Any}((\"amiga\",4),0.3426934f0)]\n",
      "\n"
     ]
    }
   ],
   "source": [
    "print_nearest_words(\"apple\")"
   ]
  },
  {
   "cell_type": "code",
   "execution_count": 14,
   "metadata": {
    "collapsed": false
   },
   "outputs": [
    {
     "name": "stdout",
     "output_type": "stream",
     "text": [
      "[Pair{Any,Any}((\"kind\",5),0.28686f0),Pair{Any,Any}((\"graph\",3),0.41848344f0),Pair{Any,Any}((\"exotic\",2),0.45227647f0),Pair{Any,Any}((\"considered\",1),0.46517217f0),Pair{Any,Any}((\"dome\",1),0.49365294f0)]\n",
      "\n",
      "[Pair{Any,Any}((\"yzerman\",2),0.61736083f0),Pair{Any,Any}((\"ferrigno\",1),0.6471721f0),Pair{Any,Any}((\"deciding\",3),0.6758814f0),Pair{Any,Any}((\"agents\",5),0.6760869f0),Pair{Any,Any}((\"disappears\",1),0.67692375f0)]\n",
      "\n",
      "[Pair{Any,Any}((\"lebor\",1),0.6334716f0),Pair{Any,Any}((\"akseli\",4),0.6400765f0),Pair{Any,Any}((\"compl\",4),0.66100764f0),Pair{Any,Any}((\"gie\",1),0.6653293f0),Pair{Any,Any}((\"oleic\",1),0.6711872f0)]\n",
      "\n",
      "[Pair{Any,Any}((\"scrapped\",4),0.6239085f0),Pair{Any,Any}((\"venter\",5),0.6431195f0),Pair{Any,Any}((\"scolded\",3),0.6435844f0),Pair{Any,Any}((\"athenian\",5),0.65652895f0),Pair{Any,Any}((\"heliport\",2),0.66060317f0)]\n",
      "\n",
      "[Pair{Any,Any}((\"kind\",1),0.28686f0),Pair{Any,Any}((\"audience\",3),0.36263406f0),Pair{Any,Any}((\"considered\",5),0.44530624f0),Pair{Any,Any}((\"prolific\",4),0.44886655f0),Pair{Any,Any}((\"acts\",4),0.45832825f0)]\n",
      "\n"
     ]
    }
   ],
   "source": [
    "print_nearest_words(\"kind\")"
   ]
  },
  {
   "cell_type": "code",
   "execution_count": 15,
   "metadata": {
    "collapsed": false
   },
   "outputs": [
    {
     "name": "stdout",
     "output_type": "stream",
     "text": [
      "[Pair{Any,Any}((\"driver\",5),0.07607031f0),Pair{Any,Any}((\"car\",2),0.10776585f0),Pair{Any,Any}((\"race\",5),0.43783033f0),Pair{Any,Any}((\"driver\",2),0.44120556f0),Pair{Any,Any}((\"nascar\",1),0.5117383f0)]\n",
      "\n",
      "[Pair{Any,Any}((\"goldoni\",5),0.6490178f0),Pair{Any,Any}((\"stowaway\",2),0.6537984f0),Pair{Any,Any}((\"ver\",5),0.66150653f0),Pair{Any,Any}((\"timagenes\",3),0.66353583f0),Pair{Any,Any}((\"barcodes\",2),0.6636502f0)]\n",
      "\n",
      "[Pair{Any,Any}((\"midsize\",4),0.6115494f0),Pair{Any,Any}((\"semblance\",2),0.6401688f0),Pair{Any,Any}((\"binyan\",1),0.64788914f0),Pair{Any,Any}((\"devises\",1),0.65328485f0),Pair{Any,Any}((\"megalon\",5),0.6576948f0)]\n",
      "\n",
      "[Pair{Any,Any}((\"race\",5),0.39231724f0),Pair{Any,Any}((\"code\",1),0.41315758f0),Pair{Any,Any}((\"might\",5),0.47490692f0),Pair{Any,Any}((\"ethnicity\",5),0.47835535f0),Pair{Any,Any}((\"might\",1),0.49205774f0)]\n",
      "\n",
      "[Pair{Any,Any}((\"hispanic\",2),0.38503873f0),Pair{Any,Any}((\"race\",4),0.39231724f0),Pair{Any,Any}((\"latino\",2),0.41223842f0),Pair{Any,Any}((\"race\",1),0.43783033f0),Pair{Any,Any}((\"car\",2),0.48231846f0)]\n",
      "\n"
     ]
    }
   ],
   "source": [
    "print_nearest_words(\"race\")"
   ]
  },
  {
   "cell_type": "code",
   "execution_count": 16,
   "metadata": {
    "collapsed": false
   },
   "outputs": [
    {
     "name": "stdout",
     "output_type": "stream",
     "text": [
      "[Pair{Any,Any}((\"savo\",1),0.65737283f0),Pair{Any,Any}((\"hua\",1),0.6585901f0),Pair{Any,Any}((\"permutations\",4),0.66831887f0),Pair{Any,Any}((\"thymus\",4),0.673648f0),Pair{Any,Any}((\"nada\",2),0.67448795f0)]\n",
      "\n",
      "[Pair{Any,Any}((\"zhisui\",5),0.6324141f0),Pair{Any,Any}((\"wiik\",5),0.6354769f0),Pair{Any,Any}((\"maiman\",1),0.64033806f0),Pair{Any,Any}((\"bowden\",5),0.64711595f0),Pair{Any,Any}((\"restrictive\",1),0.659822f0)]\n",
      "\n",
      "[Pair{Any,Any}((\"abbott\",3),0.6547582f0),Pair{Any,Any}((\"baggini\",4),0.65618235f0),Pair{Any,Any}((\"senators\",1),0.65831935f0),Pair{Any,Any}((\"wilfrid\",1),0.660809f0),Pair{Any,Any}((\"solway\",3),0.66197544f0)]\n",
      "\n",
      "[Pair{Any,Any}((\"wolf\",1),0.34866893f0),Pair{Any,Any}((\"curse\",2),0.4135074f0),Pair{Any,Any}((\"outside\",1),0.45040005f0),Pair{Any,Any}((\"thou\",5),0.47326118f0),Pair{Any,Any}((\"outside\",5),0.47775632f0)]\n",
      "\n",
      "[Pair{Any,Any}((\"stockhausen\",2),0.63739806f0),Pair{Any,Any}((\"date\",5),0.6421363f0),Pair{Any,Any}((\"likely\",4),0.643955f0),Pair{Any,Any}((\"typographic\",1),0.6499973f0),Pair{Any,Any}((\"likely\",1),0.6580226f0)]\n",
      "\n"
     ]
    }
   ],
   "source": [
    "print_nearest_words(\"dying\")"
   ]
  },
  {
   "cell_type": "code",
   "execution_count": 17,
   "metadata": {
    "collapsed": false
   },
   "outputs": [
    {
     "name": "stdout",
     "output_type": "stream",
     "text": [
      "[Pair{Any,Any}((\"fear\",5),0.404778f0),Pair{Any,Any}((\"always\",4),0.51667094f0),Pair{Any,Any}((\"values\",4),0.53913784f0),Pair{Any,Any}((\"shame\",3),0.5683212f0),Pair{Any,Any}((\"dread\",1),0.5730431f0)]\n",
      "\n",
      "[Pair{Any,Any}((\"pointedly\",4),0.645061f0),Pair{Any,Any}((\"subseteq\",3),0.65077597f0),Pair{Any,Any}((\"somoza\",5),0.65468735f0),Pair{Any,Any}((\"prometaphase\",2),0.65648675f0),Pair{Any,Any}((\"breathable\",2),0.65753376f0)]\n",
      "\n",
      "[Pair{Any,Any}((\"gauleiter\",1),0.64883673f0),Pair{Any,Any}((\"postulation\",5),0.65942067f0),Pair{Any,Any}((\"ligase\",4),0.6694691f0),Pair{Any,Any}((\"catacombs\",3),0.67019045f0),Pair{Any,Any}((\"pedersen\",1),0.67327654f0)]\n",
      "\n",
      "[Pair{Any,Any}((\"predators\",3),0.63185775f0),Pair{Any,Any}((\"mario\",2),0.64352465f0),Pair{Any,Any}((\"sig\",2),0.64746505f0),Pair{Any,Any}((\"sopot\",5),0.65917075f0),Pair{Any,Any}((\"evolved\",3),0.66352695f0)]\n",
      "\n",
      "[Pair{Any,Any}((\"values\",4),0.34090072f0),Pair{Any,Any}((\"always\",4),0.37603587f0),Pair{Any,Any}((\"fear\",1),0.404778f0),Pair{Any,Any}((\"will\",2),0.43788904f0),Pair{Any,Any}((\"unpleasant\",4),0.4666559f0)]\n",
      "\n"
     ]
    }
   ],
   "source": [
    "print_nearest_words(\"fear\")"
   ]
  },
  {
   "cell_type": "code",
   "execution_count": 18,
   "metadata": {
    "collapsed": false
   },
   "outputs": [
    {
     "name": "stdout",
     "output_type": "stream",
     "text": [
      "[Pair{Any,Any}((\"keyboard\",1),0.42793083f0),Pair{Any,Any}((\"simulation\",3),0.4280694f0),Pair{Any,Any}((\"joystick\",1),0.42898953f0),Pair{Any,Any}((\"mouse\",2),0.4328856f0),Pair{Any,Any}((\"player\",3),0.4440977f0)]\n",
      "\n",
      "[Pair{Any,Any}((\"mickey\",2),0.22567868f0),Pair{Any,Any}((\"lemur\",2),0.4280557f0),Pair{Any,Any}((\"mouse\",1),0.4328856f0),Pair{Any,Any}((\"flies\",5),0.4573713f0),Pair{Any,Any}((\"lemurs\",4),0.5143112f0)]\n",
      "\n",
      "[Pair{Any,Any}((\"escorting\",3),0.59761465f0),Pair{Any,Any}((\"authoritarian\",5),0.6544725f0),Pair{Any,Any}((\"proteases\",1),0.66736925f0),Pair{Any,Any}((\"trent\",3),0.66810644f0),Pair{Any,Any}((\"md\",3),0.66880643f0)]\n",
      "\n",
      "[Pair{Any,Any}((\"dam\",5),0.6478398f0),Pair{Any,Any}((\"nakajima\",5),0.6503122f0),Pair{Any,Any}((\"mutagen\",1),0.6595889f0),Pair{Any,Any}((\"lcds\",5),0.6619632f0),Pair{Any,Any}((\"controllers\",2),0.6634862f0)]\n",
      "\n",
      "[Pair{Any,Any}((\"tisha\",3),0.6494703f0),Pair{Any,Any}((\"peloponnese\",2),0.65044266f0),Pair{Any,Any}((\"kroni\",3),0.66495866f0),Pair{Any,Any}((\"foreboding\",4),0.66722345f0),Pair{Any,Any}((\"mcl\",2),0.67122036f0)]\n",
      "\n"
     ]
    }
   ],
   "source": [
    "print_nearest_words(\"mouse\")"
   ]
  },
  {
   "cell_type": "code",
   "execution_count": 19,
   "metadata": {
    "collapsed": false
   },
   "outputs": [
    {
     "name": "stdout",
     "output_type": "stream",
     "text": [
      "[Pair{Any,Any}((\"audio\",2),0.18311572f0),Pair{Any,Any}((\"digital\",2),0.26144457f0),Pair{Any,Any}((\"codec\",1),0.35038412f0),Pair{Any,Any}((\"hd\",2),0.3563515f0),Pair{Any,Any}((\"hdtv\",5),0.3577006f0)]\n",
      "\n",
      "[Pair{Any,Any}((\"video\",4),0.2895968f0),Pair{Any,Any}((\"documentary\",1),0.34942842f0),Pair{Any,Any}((\"documentary\",2),0.39866412f0),Pair{Any,Any}((\"video\",5),0.40105826f0),Pair{Any,Any}((\"original\",4),0.41360062f0)]\n",
      "\n",
      "[Pair{Any,Any}((\"video\",1),0.6195253f0),Pair{Any,Any}((\"audio\",2),0.6369689f0),Pair{Any,Any}((\"sami\",5),0.6432991f0),Pair{Any,Any}((\"bios\",3),0.65204954f0),Pair{Any,Any}((\"enquiry\",2),0.6530136f0)]\n",
      "\n",
      "[Pair{Any,Any}((\"video\",5),0.2711879f0),Pair{Any,Any}((\"video\",2),0.2895968f0),Pair{Any,Any}((\"games\",3),0.3715188f0),Pair{Any,Any}((\"arcade\",1),0.39631498f0),Pair{Any,Any}((\"console\",2),0.3997106f0)]\n",
      "\n",
      "[Pair{Any,Any}((\"game\",4),0.26278615f0),Pair{Any,Any}((\"consoles\",1),0.26873595f0),Pair{Any,Any}((\"video\",4),0.2711879f0),Pair{Any,Any}((\"game\",3),0.27131522f0),Pair{Any,Any}((\"games\",3),0.27509147f0)]\n",
      "\n"
     ]
    }
   ],
   "source": [
    "print_nearest_words(\"video\")"
   ]
  },
  {
   "cell_type": "code",
   "execution_count": 20,
   "metadata": {
    "collapsed": false
   },
   "outputs": [
    {
     "name": "stdout",
     "output_type": "stream",
     "text": [
      "[Pair{Any,Any}((\"sbf\",5),0.6294284f0),Pair{Any,Any}((\"evel\",5),0.67052114f0),Pair{Any,Any}((\"twelve\",3),0.67722076f0),Pair{Any,Any}((\"anderson\",4),0.6778885f0),Pair{Any,Any}((\"unsophisticated\",1),0.6791793f0)]\n",
      "\n",
      "[Pair{Any,Any}((\"refueling\",5),0.61464477f0),Pair{Any,Any}((\"rennie\",5),0.63540536f0),Pair{Any,Any}((\"marta\",1),0.64242834f0),Pair{Any,Any}((\"barbed\",3),0.65152544f0),Pair{Any,Any}((\"assay\",1),0.6568259f0)]\n",
      "\n",
      "[Pair{Any,Any}((\"facade\",4),0.6547958f0),Pair{Any,Any}((\"rfloor\",4),0.655488f0),Pair{Any,Any}((\"brezhoneg\",5),0.6580267f0),Pair{Any,Any}((\"ty\",3),0.658512f0),Pair{Any,Any}((\"rel\",3),0.65931845f0)]\n",
      "\n",
      "[Pair{Any,Any}((\"phone\",5),0.39331424f0),Pair{Any,Any}((\"doing\",1),0.45999295f0),Pair{Any,Any}((\"doing\",3),0.5017425f0),Pair{Any,Any}((\"telephone\",3),0.50911504f0),Pair{Any,Any}((\"luck\",3),0.53313196f0)]\n",
      "\n",
      "[Pair{Any,Any}((\"mobile\",3),0.17882007f0),Pair{Any,Any}((\"phones\",5),0.31946796f0),Pair{Any,Any}((\"gsm\",3),0.38526028f0),Pair{Any,Any}((\"phone\",4),0.39331424f0),Pair{Any,Any}((\"telephone\",3),0.42340738f0)]\n",
      "\n"
     ]
    }
   ],
   "source": [
    "print_nearest_words(\"phone\")"
   ]
  },
  {
   "cell_type": "code",
   "execution_count": 82,
   "metadata": {
    "collapsed": false
   },
   "outputs": [
    {
     "name": "stdout",
     "output_type": "stream",
     "text": [
      "[Pair{Any,Any}((\"came\",4),0.35560417f0),Pair{Any,Any}((\"came\",5),0.38271278f0),Pair{Any,Any}((\"once\",4),0.4296959f0),Pair{Any,Any}((\"felt\",2),0.44560474f0),Pair{Any,Any}((\"anything\",2),0.45823526f0)]\n",
      "\n",
      "[Pair{Any,Any}((\"championing\",1),0.6176686f0),Pair{Any,Any}((\"dubbed\",4),0.653738f0),Pair{Any,Any}((\"santi\",2),0.6548091f0),Pair{Any,Any}((\"fateful\",1),0.65580475f0),Pair{Any,Any}((\"hairs\",4),0.6624205f0)]\n",
      "\n",
      "[Pair{Any,Any}((\"donatien\",2),0.6364337f0),Pair{Any,Any}((\"busby\",2),0.64801836f0),Pair{Any,Any}((\"flagging\",4),0.6522584f0),Pair{Any,Any}((\"helium\",2),0.6560509f0),Pair{Any,Any}((\"suction\",1),0.6585002f0)]\n",
      "\n",
      "[Pair{Any,Any}((\"came\",5),0.345352f0),Pair{Any,Any}((\"came\",1),0.35560417f0),Pair{Any,Any}((\"consequences\",5),0.4754253f0),Pair{Any,Any}((\"role\",2),0.48662537f0),Pair{Any,Any}((\"strength\",5),0.49908453f0)]\n",
      "\n",
      "[Pair{Any,Any}((\"came\",4),0.345352f0),Pair{Any,Any}((\"came\",1),0.38271278f0),Pair{Any,Any}((\"still\",2),0.41724783f0),Pair{Any,Any}((\"until\",4),0.42550755f0),Pair{Any,Any}((\"under\",5),0.4726609f0)]\n",
      "\n"
     ]
    }
   ],
   "source": [
    "print_nearest_words(\"came\")"
   ]
  },
  {
   "cell_type": "code",
   "execution_count": 83,
   "metadata": {
    "collapsed": false
   },
   "outputs": [
    {
     "name": "stdout",
     "output_type": "stream",
     "text": [
      "[Pair{Any,Any}((\"come\",4),0.32887542f0),Pair{Any,Any}((\"come\",5),0.35765028f0),Pair{Any,Any}((\"prior\",3),0.4437545f0),Pair{Any,Any}((\"done\",5),0.45439905f0),Pair{Any,Any}((\"philosophy\",5),0.46366805f0)]\n",
      "\n",
      "[Pair{Any,Any}((\"forester\",4),0.6281736f0),Pair{Any,Any}((\"lmp\",4),0.62869185f0),Pair{Any,Any}((\"mag\",3),0.6310731f0),Pair{Any,Any}((\"withdrawn\",5),0.63525236f0),Pair{Any,Any}((\"rye\",5),0.6422875f0)]\n",
      "\n",
      "[Pair{Any,Any}((\"reasoner\",4),0.63332117f0),Pair{Any,Any}((\"diminishes\",2),0.6514869f0),Pair{Any,Any}((\"enabling\",4),0.66592807f0),Pair{Any,Any}((\"communism\",1),0.6659476f0),Pair{Any,Any}((\"fromme\",1),0.66726696f0)]\n",
      "\n",
      "[Pair{Any,Any}((\"come\",1),0.32887542f0),Pair{Any,Any}((\"come\",5),0.39923018f0),Pair{Any,Any}((\"tiny\",3),0.50721836f0),Pair{Any,Any}((\"substance\",5),0.5095339f0),Pair{Any,Any}((\"substance\",1),0.5233593f0)]\n",
      "\n",
      "[Pair{Any,Any}((\"come\",1),0.35765028f0),Pair{Any,Any}((\"come\",4),0.39923018f0),Pair{Any,Any}((\"done\",5),0.40283185f0),Pair{Any,Any}((\"go\",4),0.40924436f0),Pair{Any,Any}((\"let\",1),0.41037947f0)]\n",
      "\n"
     ]
    }
   ],
   "source": [
    "print_nearest_wordsearest_words(\"come\")"
   ]
  },
  {
   "cell_type": "code",
   "execution_count": 84,
   "metadata": {
    "collapsed": false
   },
   "outputs": [
    {
     "name": "stdout",
     "output_type": "stream",
     "text": [
      "[Pair{Any,Any}((\"detracting\",2),0.64460564f0),Pair{Any,Any}((\"alfheim\",2),0.6489468f0),Pair{Any,Any}((\"seton\",3),0.6534425f0),Pair{Any,Any}((\"prostaglandin\",3),0.6566119f0),Pair{Any,Any}((\"sparrows\",1),0.6572908f0)]\n",
      "\n",
      "[Pair{Any,Any}((\"criteria\",4),0.3787287f0),Pair{Any,Any}((\"homosexual\",2),0.41044813f0),Pair{Any,Any}((\"tied\",5),0.43273324f0),Pair{Any,Any}((\"define\",4),0.45277816f0),Pair{Any,Any}((\"sees\",5),0.45974427f0)]\n",
      "\n",
      "[Pair{Any,Any}((\"sulfate\",3),0.5941507f0),Pair{Any,Any}((\"sobriety\",1),0.63822067f0),Pair{Any,Any}((\"considerable\",2),0.63828015f0),Pair{Any,Any}((\"steyn\",2),0.63921106f0),Pair{Any,Any}((\"alkalis\",3),0.6461934f0)]\n",
      "\n",
      "[Pair{Any,Any}((\"we\",1),0.27488863f0),Pair{Any,Any}((\"f\",1),0.32579607f0),Pair{Any,Any}((\"then\",3),0.34479505f0),Pair{Any,Any}((\"x\",4),0.3539132f0),Pair{Any,Any}((\"if\",3),0.36606467f0)]\n",
      "\n",
      "[Pair{Any,Any}((\"pinnacles\",4),0.62804216f0),Pair{Any,Any}((\"tuamotus\",4),0.6369651f0),Pair{Any,Any}((\"noah\",4),0.65269f0),Pair{Any,Any}((\"alligator\",4),0.6576102f0),Pair{Any,Any}((\"hyacinthe\",4),0.6606734f0)]\n",
      "\n"
     ]
    }
   ],
   "source": [
    "print_nearest_words(\"define\")"
   ]
  },
  {
   "cell_type": "code",
   "execution_count": 21,
   "metadata": {
    "collapsed": true
   },
   "outputs": [],
   "source": [
    "using Distances"
   ]
  },
  {
   "cell_type": "code",
   "execution_count": 28,
   "metadata": {
    "collapsed": false
   },
   "outputs": [
    {
     "data": {
      "text/plain": [
       "5×5 Array{Float32,2}:\n",
       " 0.0       1.02798   0.911678  0.998549  0.979208\n",
       " 1.02798   0.0       0.966495  1.01481   0.891082\n",
       " 0.911678  0.966495  0.0       0.792405  0.899333\n",
       " 0.998549  1.01481   0.792405  0.0       0.393314\n",
       " 0.979208  0.891082  0.899333  0.393314  0.0     "
      ]
     },
     "execution_count": 28,
     "metadata": {},
     "output_type": "execute_result"
    }
   ],
   "source": []
  },
  {
   "cell_type": "code",
   "execution_count": 27,
   "metadata": {
    "collapsed": false
   },
   "outputs": [
    {
     "data": {
      "text/plain": [
       "Distances.PreMetric"
      ]
     },
     "execution_count": 27,
     "metadata": {},
     "output_type": "execute_result"
    }
   ],
   "source": [
    "CosineDist|> supertype |> supertype"
   ]
  },
  {
   "cell_type": "code",
   "execution_count": null,
   "metadata": {
    "collapsed": false
   },
   "outputs": [],
   "source": [
    "w_a = \"queen\" \n",
    "w_b = \"king\"\n",
    "w_c = \"man\" \n"
   ]
  },
  {
   "cell_type": "code",
   "execution_count": null,
   "metadata": {
    "collapsed": false,
    "scrolled": true
   },
   "outputs": [],
   "source": [
    "flat_embed = flatten_embeddings(ee)\n",
    "for (v_a,v_b,v_c) in Base.product((ee.embedding[w] for w in (w_a,w_b,w_c))...)\n",
    "        best=Query.find_nearest_embedding(flat_embed, v_b-v_a+v_c; nwords=1)[1]\n",
    "        println(best)\n",
    "end"
   ]
  },
  {
   "cell_type": "code",
   "execution_count": null,
   "metadata": {
    "collapsed": false,
    "scrolled": true
   },
   "outputs": [],
   "source": [
    "flat_embed = flatten_embeddings(ee)\n",
    "for (v_a,v_b,v_c) in Base.product((ee.embedding[w] for w in (w_a,w_b,w_c))...)\n",
    "        best=Query.find_nearest_embedding(flat_embed, v_b-v_a+v_c; nwords=1)[1]\n",
    "        println(best)\n",
    "end"
   ]
  },
  {
   "cell_type": "code",
   "execution_count": null,
   "metadata": {
    "collapsed": false
   },
   "outputs": [],
   "source": [
    "?Base.product"
   ]
  },
  {
   "cell_type": "code",
   "execution_count": null,
   "metadata": {
    "collapsed": true
   },
   "outputs": [],
   "source": []
  },
  {
   "cell_type": "code",
   "execution_count": null,
   "metadata": {
    "collapsed": true
   },
   "outputs": [],
   "source": []
  },
  {
   "cell_type": "code",
   "execution_count": 29,
   "metadata": {
    "collapsed": false
   },
   "outputs": [
    {
     "name": "stderr",
     "output_type": "stream",
     "text": [
      "WARNING: imported binding for Pipe overwritten in module Main\n"
     ]
    }
   ],
   "source": [
    "using LightXML\n",
    "using Pipe\n",
    "Base.iteratorsize(::Type{LightXML.XMLNodeIter})=Base.SizeUnknown()\n",
    "Base.iteratorsize(::Type{LightXML.XMLElementIter})=Base.SizeUnknown()"
   ]
  },
  {
   "cell_type": "code",
   "execution_count": 30,
   "metadata": {
    "collapsed": false
   },
   "outputs": [
    {
     "data": {
      "text/plain": [
       "load_semeval (generic function with 1 method)"
      ]
     },
     "execution_count": 30,
     "metadata": {},
     "output_type": "execute_result"
    }
   ],
   "source": [
    "function load_semeval(filename)\n",
    "\n",
    "    function get_wsd_case(instance_node, preprocess=lowercase)\n",
    "        word=\"\"\n",
    "        context=String[]\n",
    "        for node in instance_node |> child_nodes\n",
    "            if is_elementnode(node)\n",
    "                @assert word==\"\"\n",
    "                word = node |>child_nodes |> first |> string |> preprocess |> strip\n",
    "            else\n",
    "                @assert(node|>is_textnode)\n",
    "                append!(context, node|>string|>preprocess|>split)\n",
    "            end\n",
    "        end\n",
    "        @assert word!=\"\"\n",
    "        word, context\n",
    "    end\n",
    "\n",
    "    xdoc = parse_file(filename)\n",
    "    \n",
    "    xroot = root(xdoc);  # an instance of XMLElement\n",
    "    nodes = Base.Flatten(child_elements(instance)  for instance in child_elements(xroot)) \n",
    "    map(get_wsd_case, nodes) |> collect    \n",
    "end"
   ]
  },
  {
   "cell_type": "code",
   "execution_count": 31,
   "metadata": {
    "collapsed": false,
    "scrolled": true
   },
   "outputs": [],
   "source": [
    "cases = load_semeval(\"./data/corpora/semeval2007t2/trial_data/English.LS.txt\");"
   ]
  },
  {
   "cell_type": "code",
   "execution_count": 32,
   "metadata": {
    "collapsed": false
   },
   "outputs": [
    {
     "data": {
      "text/plain": [
       "get_raw_scores (generic function with 1 method)"
      ]
     },
     "execution_count": 32,
     "metadata": {},
     "output_type": "execute_result"
    }
   ],
   "source": [
    "function get_raw_scores(embed::WordSenseEmbedding, word,context)\n",
    "    println(word)\n",
    "    #println(join(context,\" \"))\n",
    "    probs = Task() do \n",
    "        for (si,sense_embed) in enumerate(embed.embedding[word])\n",
    "            lp =  logprob_of_context(embed, context, sense_embed; skip_oov=true)\n",
    "            produce((lp,si))   \n",
    "        end\n",
    "    end |> collect\n",
    "    \n",
    "    for (lp, si) in sort(probs, by=first, rev=true)\n",
    "        println(si,\"\\t\",lp,\"\\t\",exp(lp)|>string)\n",
    "    end    \n",
    "end"
   ]
  },
  {
   "cell_type": "code",
   "execution_count": 77,
   "metadata": {
    "collapsed": false
   },
   "outputs": [
    {
     "name": "stderr",
     "output_type": "stream",
     "text": [
      "WARNING: Method definition get_marginal_scores(WordEmbeddings.WordSenseEmbedding, Any, Any) in module Main at In[72]:2 overwritten at In[77]:2.\n"
     ]
    },
    {
     "data": {
      "text/plain": [
       "get_marginal_scores (generic function with 1 method)"
      ]
     },
     "execution_count": 77,
     "metadata": {},
     "output_type": "execute_result"
    }
   ],
   "source": [
    "function get_marginal_scores(embed::WordSenseEmbedding, word,context)\n",
    "    println(word)\n",
    "    #println(join(context,\" \"))\n",
    "    probs_ids = [(logprob_of_context(embed, context, sense_embed; skip_oov=true), s_id) \n",
    "        for (s_id, sense_embed) in enumerate(embed.embedding[word])]\n",
    "    \n",
    "    sort!(probs_ids, by=first, rev=true)\n",
    "    probs,ids = zip(probs_ids...) |> collect\n",
    "    \n",
    "    μ = mean(probs)\n",
    "    σ = std(probs)\n",
    "    zprobs = map(p->(p-μ)/σ, probs)\n",
    "    for (id, zprob) in  zip(ids, zprobs)\n",
    "        println(\"$id\\t $zprob\")\n",
    "    end\n",
    "    \n",
    "    margin = zprobs[1]-zprobs[2]\n",
    "    println(\"Margin: \", margin)\n",
    "    \n",
    "end"
   ]
  },
  {
   "cell_type": "code",
   "execution_count": 78,
   "metadata": {
    "collapsed": false
   },
   "outputs": [
    {
     "data": {
      "text/plain": [
       "13-element SubArray{SubString{String},1,Array{SubString{String},1},Tuple{Array{Int64,1}},false}:\n",
       " \"i\"      \n",
       " \"am\"     \n",
       " \"unwell\" \n",
       " \"and\"    \n",
       " \"need\"   \n",
       " \"to\"     \n",
       " \"my\"     \n",
       " \"parents\"\n",
       " \"so\"     \n",
       " \"they\"   \n",
       " \"can\"    \n",
       " \"collect\"\n",
       " \"me\"     "
      ]
     },
     "execution_count": 78,
     "metadata": {},
     "output_type": "execute_result"
    }
   ],
   "source": [
    "sample = \"i am unwell and need to phone my parents so they can collect me\" |> split\n",
    "w_ind = 7\n",
    "word = sample[w_ind]\n",
    "context = sub(sample,[1:w_ind-1;w_ind+1:endof(sample)])\n"
   ]
  },
  {
   "cell_type": "code",
   "execution_count": 79,
   "metadata": {
    "collapsed": false
   },
   "outputs": [
    {
     "name": "stdout",
     "output_type": "stream",
     "text": [
      "phone\n",
      "4\t-81.126526\t5.8505604e-36\n",
      "5\t-95.16852\t4.665e-42\n",
      "3\t-109.46968\t0.0\n",
      "1\t-119.21965\t0.0\n",
      "2\t-132.96216\t0.0\n"
     ]
    }
   ],
   "source": [
    "get_raw_scores(ee,word,context)"
   ]
  },
  {
   "cell_type": "code",
   "execution_count": 80,
   "metadata": {
    "collapsed": false
   },
   "outputs": [
    {
     "name": "stdout",
     "output_type": "stream",
     "text": [
      "phone\n",
      "4\t 1.3080459\n",
      "5\t 0.61395526\n",
      "3\t -0.09294607\n",
      "1\t -0.5748836\n",
      "2\t -1.2541708\n",
      "Margin: 0.6940906\n"
     ]
    }
   ],
   "source": [
    "get_marginal_scores(ee,word,context)"
   ]
  },
  {
   "cell_type": "code",
   "execution_count": 81,
   "metadata": {
    "collapsed": false
   },
   "outputs": [
    {
     "data": {
      "text/plain": [
       "5×5 Array{Float32,2}:\n",
       " 0.0       1.02798   0.911678  0.998549  0.979208\n",
       " 1.02798   0.0       0.966495  1.01481   0.891082\n",
       " 0.911678  0.966495  0.0       0.792405  0.899333\n",
       " 0.998549  1.01481   0.792405  0.0       0.393314\n",
       " 0.979208  0.891082  0.899333  0.393314  0.0     "
      ]
     },
     "execution_count": 81,
     "metadata": {},
     "output_type": "execute_result"
    }
   ],
   "source": [
    "pairwise(CosineDist(), hcat(ee.embedding[\"phone\"]...))"
   ]
  },
  {
   "cell_type": "code",
   "execution_count": null,
   "metadata": {
    "collapsed": false
   },
   "outputs": [],
   "source": [
    "for case in cases\n",
    "    println()\n",
    "    get_marginal_scores(ee, case...)\n",
    "end"
   ]
  },
  {
   "cell_type": "code",
   "execution_count": null,
   "metadata": {
    "collapsed": false
   },
   "outputs": [],
   "source": [
    "ee."
   ]
  },
  {
   "cell_type": "code",
   "execution_count": null,
   "metadata": {
    "collapsed": true
   },
   "outputs": [],
   "source": []
  }
 ],
 "metadata": {
  "kernelspec": {
   "display_name": "Julia 0.5.0-dev",
   "language": "julia",
   "name": "julia-0.5"
  },
  "language_info": {
   "file_extension": ".jl",
   "mimetype": "application/julia",
   "name": "julia",
   "version": "0.5.0"
  }
 },
 "nbformat": 4,
 "nbformat_minor": 0
}
