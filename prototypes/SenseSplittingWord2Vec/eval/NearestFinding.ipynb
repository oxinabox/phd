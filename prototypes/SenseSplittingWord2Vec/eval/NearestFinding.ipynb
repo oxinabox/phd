{
 "cells": [
  {
   "cell_type": "code",
   "execution_count": 8,
   "metadata": {
    "collapsed": false
   },
   "outputs": [
    {
     "name": "stderr",
     "output_type": "stream",
     "text": [
      "WARNING: using DataStructures.enqueue! in module Main conflicts with an existing identifier.\n",
      "WARNING: using DataStructures.dequeue! in module Main conflicts with an existing identifier.\n"
     ]
    }
   ],
   "source": [
    "using NearestNeighbors\n",
    "using WordEmbeddings, SoftmaxClassifier\n",
    "using Utils\n",
    "using Query\n",
    "using Base.Collections\n",
    "using WordStreams\n",
    "using DataStructures\n",
    "using Clustering\n",
    "using Distances\n",
    "using Iterators\n",
    "using StatsBase\n",
    "using Training"
   ]
  },
  {
   "cell_type": "code",
   "execution_count": 5,
   "metadata": {
    "collapsed": false
   },
   "outputs": [],
   "source": [
    "guts = open(deserialize,\"guts.jsz\",\"r\");"
   ]
  },
  {
   "cell_type": "code",
   "execution_count": 9,
   "metadata": {
    "collapsed": false
   },
   "outputs": [
    {
     "name": "stdout",
     "output_type": "stream",
     "text": [
      "init_learning_rate\n",
      "codebook\n",
      "network_type\n",
      "initial_nsenses\n",
      "dimension\n",
      "classification_tree\n",
      "distribution\n",
      "lsize\n",
      "init_type\n",
      "rsize\n",
      "min_count\n",
      "subsampling\n",
      "force_minibatch_size\n",
      "iter\n",
      "min_count_for_multiple_senses\n",
      "corpus_size\n",
      "embedding\n"
     ]
    }
   ],
   "source": [
    "map(println, keys(guts));"
   ]
  },
  {
   "cell_type": "code",
   "execution_count": 11,
   "metadata": {
    "collapsed": false
   },
   "outputs": [],
   "source": [
    "ee=FixedWordSenseEmbedding(\n",
    "guts[:embedding],\n",
    "guts[:classification_tree],\n",
    "guts[:distribution],\n",
    "guts[:codebook],\n",
    "DefaultDict(AbstractString,DefaultDict{Int64,Int64},()->DefaultDict(Int64,Int64,()->0)),\n",
    "guts[:force_minibatch_size],\n",
    "guts[:init_type],\n",
    "guts[:network_type],\n",
    "guts[:dimension],\n",
    "guts[:lsize],\n",
    "guts[:rsize],\n",
    "guts[:corpus_size],\n",
    "guts[:subsampling],\n",
    "guts[:init_learning_rate],\n",
    "guts[:iter],\n",
    "guts[:min_count],\n",
    "guts[:min_count_for_multiple_senses],\n",
    "guts[:initial_nsenses]\n",
    ")"
   ]
  },
  {
   "cell_type": "code",
   "execution_count": 18,
   "metadata": {
    "collapsed": false
   },
   "outputs": [],
   "source": [
    "ee1=ee;"
   ]
  },
  {
   "cell_type": "code",
   "execution_count": 16,
   "metadata": {
    "collapsed": false
   },
   "outputs": [],
   "source": [
    "save(ee,\"models/ss/text8_200__i5_v2.model\")"
   ]
  },
  {
   "cell_type": "code",
   "execution_count": null,
   "metadata": {
    "collapsed": false
   },
   "outputs": [],
   "source": [
    "ee = restore(\"models/ss/text8_200__i5_v2.model\");\n",
    "dtree,labels = nn_tree(ee)"
   ]
  },
  {
   "cell_type": "code",
   "execution_count": 7,
   "metadata": {
    "collapsed": true
   },
   "outputs": [],
   "source": [
    "guts = Dict{Symbol,Any}()\n",
    "for name in fieldnames(ee)\n",
    "    guts[name] = getfield(ee,name)\n",
    "end"
   ]
  },
  {
   "cell_type": "code",
   "execution_count": 9,
   "metadata": {
    "collapsed": false
   },
   "outputs": [],
   "source": [
    "open(\"guts.jsz\",\"w\") do fh\n",
    "    serialize(fh,guts)\n",
    "end"
   ]
  },
  {
   "cell_type": "code",
   "execution_count": 1,
   "metadata": {
    "collapsed": false
   },
   "outputs": [
    {
     "ename": "LoadError",
     "evalue": "LoadError: UndefVarError: DefaultDict not defined\nwhile loading In[1], in expression starting on line 1",
     "output_type": "error",
     "traceback": [
      "LoadError: UndefVarError: DefaultDict not defined\nwhile loading In[1], in expression starting on line 1",
      "",
      " [inlined code] from ./int.jl:33",
      " in include_string(::String, ::String) at ./loading.jl:380"
     ]
    }
   ],
   "source": [
    "DefaultDict(AbstractString,DefaultDict{Int64,Int64},()->DefaultDict(Int64,Int64,()->0))"
   ]
  },
  {
   "cell_type": "code",
   "execution_count": null,
   "metadata": {
    "collapsed": true
   },
   "outputs": [],
   "source": []
  },
  {
   "cell_type": "code",
   "execution_count": 5,
   "metadata": {
    "collapsed": false,
    "scrolled": true
   },
   "outputs": [
    {
     "ename": "LoadError",
     "evalue": "LoadError: UndefVarError: ee not defined\nwhile loading In[5], in expression starting on line 155",
     "output_type": "error",
     "traceback": [
      "LoadError: UndefVarError: ee not defined\nwhile loading In[5], in expression starting on line 155",
      "",
      " [inlined code] from ./int.jl:33",
      " in include_string(::String, ::String) at ./loading.jl:380"
     ]
    }
   ],
   "source": [
    "@time find_nearest_words(ee,\"solvent\",dtree,labels )"
   ]
  },
  {
   "cell_type": "code",
   "execution_count": null,
   "metadata": {
    "collapsed": true
   },
   "outputs": [],
   "source": []
  },
  {
   "cell_type": "code",
   "execution_count": 6,
   "metadata": {
    "collapsed": false,
    "scrolled": true
   },
   "outputs": [
    {
     "name": "stdout",
     "output_type": "stream",
     "text": [
      "search: readdlm readdir readandwrite\n",
      "\n"
     ]
    },
    {
     "data": {
      "text/latex": [
       "\\begin{verbatim}\n",
       "readdlm(source, delim::Char, T::Type, eol::Char; header=false, skipstart=0, skipblanks=true, use_mmap, quotes=true, dims, comments=true, comment_char='#')\n",
       "\\end{verbatim}\n",
       "Read a matrix from the source where each line (separated by \\texttt{eol}) gives one row, with elements separated by the given delimiter. The source can be a text file, stream or byte array. Memory mapped files can be used by passing the byte array representation of the mapped segment as source.\n",
       "If \\texttt{T} is a numeric type, the result is an array of that type, with any non-numeric elements as \\texttt{NaN} for floating-point types, or zero. Other useful values of \\texttt{T} include \\texttt{String}, \\texttt{AbstractString}, and \\texttt{Any}.\n",
       "If \\texttt{header} is \\texttt{true}, the first row of data will be read as header and the tuple \\texttt{(data_cells, header_cells)} is returned instead of only \\texttt{data_cells}.\n",
       "Specifying \\texttt{skipstart} will ignore the corresponding number of initial lines from the input.\n",
       "If \\texttt{skipblanks} is \\texttt{true}, blank lines in the input will be ignored.\n",
       "If \\texttt{use_mmap} is \\texttt{true}, the file specified by \\texttt{source} is memory mapped for potential speedups. Default is \\texttt{true} except on Windows. On Windows, you may want to specify \\texttt{true} if the file is large, and is only read once and not written to.\n",
       "If \\texttt{ignore_invalid_chars} is \\texttt{true}, bytes in \\texttt{source} with invalid character encoding will be ignored. Otherwise an error is thrown indicating the offending character position.\n",
       "If \\texttt{quotes} is \\texttt{true}, column enclosed within double-quote (\") characters are allowed to contain new lines and column delimiters. Double-quote characters within a quoted field must be escaped with another double-quote.  Specifying \\texttt{dims} as a tuple of the expected rows and columns (including header, if any) may speed up reading of large files.  If \\texttt{comments} is \\texttt{true}, lines beginning with \\texttt{comment_char} and text following \\texttt{comment_char} in any line are ignored.\n",
       "\\begin{verbatim}\n",
       "readdlm(source, delim::Char, eol::Char; options...)\n",
       "\\end{verbatim}\n",
       "If all data is numeric, the result will be a numeric array. If some elements cannot be parsed as numbers, a cell array of numbers and strings is returned.\n",
       "\\begin{verbatim}\n",
       "readdlm(source, delim::Char, T::Type; options...)\n",
       "\\end{verbatim}\n",
       "The end of line delimiter is taken as \\texttt{n}.\n",
       "\\begin{verbatim}\n",
       "readdlm(source, delim::Char; options...)\n",
       "\\end{verbatim}\n",
       "The end of line delimiter is taken as \\texttt{n}. If all data is numeric, the result will be a numeric array. If some elements cannot be parsed as numbers, a cell array of numbers and strings is returned.\n",
       "\\begin{verbatim}\n",
       "readdlm(source, T::Type; options...)\n",
       "\\end{verbatim}\n",
       "The columns are assumed to be separated by one or more whitespaces. The end of line delimiter is taken as \\texttt{n}.\n",
       "\\begin{verbatim}\n",
       "readdlm(source; options...)\n",
       "\\end{verbatim}\n",
       "The columns are assumed to be separated by one or more whitespaces. The end of line delimiter is taken as \\texttt{n}. If all data is numeric, the result will be a numeric array. If some elements cannot be parsed as numbers, a cell array of numbers and strings is returned.\n"
      ],
      "text/markdown": [
       "```\n",
       "readdlm(source, delim::Char, T::Type, eol::Char; header=false, skipstart=0, skipblanks=true, use_mmap, quotes=true, dims, comments=true, comment_char='#')\n",
       "```\n",
       "\n",
       "Read a matrix from the source where each line (separated by `eol`) gives one row, with elements separated by the given delimiter. The source can be a text file, stream or byte array. Memory mapped files can be used by passing the byte array representation of the mapped segment as source.\n",
       "\n",
       "If `T` is a numeric type, the result is an array of that type, with any non-numeric elements as `NaN` for floating-point types, or zero. Other useful values of `T` include `String`, `AbstractString`, and `Any`.\n",
       "\n",
       "If `header` is `true`, the first row of data will be read as header and the tuple `(data_cells, header_cells)` is returned instead of only `data_cells`.\n",
       "\n",
       "Specifying `skipstart` will ignore the corresponding number of initial lines from the input.\n",
       "\n",
       "If `skipblanks` is `true`, blank lines in the input will be ignored.\n",
       "\n",
       "If `use_mmap` is `true`, the file specified by `source` is memory mapped for potential speedups. Default is `true` except on Windows. On Windows, you may want to specify `true` if the file is large, and is only read once and not written to.\n",
       "\n",
       "If `ignore_invalid_chars` is `true`, bytes in `source` with invalid character encoding will be ignored. Otherwise an error is thrown indicating the offending character position.\n",
       "\n",
       "If `quotes` is `true`, column enclosed within double-quote (\") characters are allowed to contain new lines and column delimiters. Double-quote characters within a quoted field must be escaped with another double-quote.  Specifying `dims` as a tuple of the expected rows and columns (including header, if any) may speed up reading of large files.  If `comments` is `true`, lines beginning with `comment_char` and text following `comment_char` in any line are ignored.\n",
       "\n",
       "```\n",
       "readdlm(source, delim::Char, eol::Char; options...)\n",
       "```\n",
       "\n",
       "If all data is numeric, the result will be a numeric array. If some elements cannot be parsed as numbers, a cell array of numbers and strings is returned.\n",
       "\n",
       "```\n",
       "readdlm(source, delim::Char, T::Type; options...)\n",
       "```\n",
       "\n",
       "The end of line delimiter is taken as `n`.\n",
       "\n",
       "```\n",
       "readdlm(source, delim::Char; options...)\n",
       "```\n",
       "\n",
       "The end of line delimiter is taken as `n`. If all data is numeric, the result will be a numeric array. If some elements cannot be parsed as numbers, a cell array of numbers and strings is returned.\n",
       "\n",
       "```\n",
       "readdlm(source, T::Type; options...)\n",
       "```\n",
       "\n",
       "The columns are assumed to be separated by one or more whitespaces. The end of line delimiter is taken as `n`.\n",
       "\n",
       "```\n",
       "readdlm(source; options...)\n",
       "```\n",
       "\n",
       "The columns are assumed to be separated by one or more whitespaces. The end of line delimiter is taken as `n`. If all data is numeric, the result will be a numeric array. If some elements cannot be parsed as numbers, a cell array of numbers and strings is returned.\n"
      ],
      "text/plain": [
       "```\n",
       "readdlm(source, delim::Char, T::Type, eol::Char; header=false, skipstart=0, skipblanks=true, use_mmap, quotes=true, dims, comments=true, comment_char='#')\n",
       "```\n",
       "\n",
       "Read a matrix from the source where each line (separated by `eol`) gives one row, with elements separated by the given delimiter. The source can be a text file, stream or byte array. Memory mapped files can be used by passing the byte array representation of the mapped segment as source.\n",
       "\n",
       "If `T` is a numeric type, the result is an array of that type, with any non-numeric elements as `NaN` for floating-point types, or zero. Other useful values of `T` include `String`, `AbstractString`, and `Any`.\n",
       "\n",
       "If `header` is `true`, the first row of data will be read as header and the tuple `(data_cells, header_cells)` is returned instead of only `data_cells`.\n",
       "\n",
       "Specifying `skipstart` will ignore the corresponding number of initial lines from the input.\n",
       "\n",
       "If `skipblanks` is `true`, blank lines in the input will be ignored.\n",
       "\n",
       "If `use_mmap` is `true`, the file specified by `source` is memory mapped for potential speedups. Default is `true` except on Windows. On Windows, you may want to specify `true` if the file is large, and is only read once and not written to.\n",
       "\n",
       "If `ignore_invalid_chars` is `true`, bytes in `source` with invalid character encoding will be ignored. Otherwise an error is thrown indicating the offending character position.\n",
       "\n",
       "If `quotes` is `true`, column enclosed within double-quote (\") characters are allowed to contain new lines and column delimiters. Double-quote characters within a quoted field must be escaped with another double-quote.  Specifying `dims` as a tuple of the expected rows and columns (including header, if any) may speed up reading of large files.  If `comments` is `true`, lines beginning with `comment_char` and text following `comment_char` in any line are ignored.\n",
       "\n",
       "```\n",
       "readdlm(source, delim::Char, eol::Char; options...)\n",
       "```\n",
       "\n",
       "If all data is numeric, the result will be a numeric array. If some elements cannot be parsed as numbers, a cell array of numbers and strings is returned.\n",
       "\n",
       "```\n",
       "readdlm(source, delim::Char, T::Type; options...)\n",
       "```\n",
       "\n",
       "The end of line delimiter is taken as `n`.\n",
       "\n",
       "```\n",
       "readdlm(source, delim::Char; options...)\n",
       "```\n",
       "\n",
       "The end of line delimiter is taken as `n`. If all data is numeric, the result will be a numeric array. If some elements cannot be parsed as numbers, a cell array of numbers and strings is returned.\n",
       "\n",
       "```\n",
       "readdlm(source, T::Type; options...)\n",
       "```\n",
       "\n",
       "The columns are assumed to be separated by one or more whitespaces. The end of line delimiter is taken as `n`.\n",
       "\n",
       "```\n",
       "readdlm(source; options...)\n",
       "```\n",
       "\n",
       "The columns are assumed to be separated by one or more whitespaces. The end of line delimiter is taken as `n`. If all data is numeric, the result will be a numeric array. If some elements cannot be parsed as numbers, a cell array of numbers and strings is returned.\n"
      ]
     },
     "execution_count": 6,
     "metadata": {},
     "output_type": "execute_result"
    }
   ],
   "source": [
    "?readdlm"
   ]
  },
  {
   "cell_type": "code",
   "execution_count": 7,
   "metadata": {
    "collapsed": false,
    "scrolled": true
   },
   "outputs": [
    {
     "data": {
      "text/plain": [
       "load_wordsim353 (generic function with 2 methods)"
      ]
     },
     "execution_count": 7,
     "metadata": {},
     "output_type": "execute_result"
    }
   ],
   "source": [
    "function load_wordsim353(filename=\"data/corpora/wordsim353/combined.csv\")\n",
    "    wordsims = readdlm(filename, ','; skipstart=1)\n",
    "    wordpairs = convert(Matrix{String},wordsims[:,1:2])\n",
    "    groundsim = convert(Vector{Float64},wordsims[:,3])\n",
    "    (wordpairs, groundsim)\n",
    "end"
   ]
  },
  {
   "cell_type": "code",
   "execution_count": 8,
   "metadata": {
    "collapsed": false,
    "scrolled": true
   },
   "outputs": [
    {
     "ename": "LoadError",
     "evalue": "LoadError: UndefVarError: ee not defined\nwhile loading In[8], in expression starting on line 15",
     "output_type": "error",
     "traceback": [
      "LoadError: UndefVarError: ee not defined\nwhile loading In[8], in expression starting on line 15",
      "",
      " [inlined code] from ./int.jl:33",
      " in include_string(::String, ::String) at ./loading.jl:380"
     ]
    }
   ],
   "source": [
    "function get_sims(ee::FixedWordSenseEmbedding, wordpairs::Matrix{String})\n",
    "    sims = Vector{Float64}(size(wordpairs,1))\n",
    "    for ii in 1:size(wordpairs,1)\n",
    "        try\n",
    "            wvs_1 = hcat(ee.embedding[wordpairs[ii,1]]...)\n",
    "            wvs_2 = hcat(ee.embedding[wordpairs[ii,2]]...)\n",
    "            sims[ii]=1-minimum(pairwise(CosineDist(), wvs_1,wvs_2))\n",
    "        catch ex\n",
    "            warn(ex)\n",
    "            sims[ii]=NaN\n",
    "        end\n",
    "    end\n",
    "    return sims\n",
    "end\n",
    "sims = get_sims(ee,map(lowercase,wordpairs))\n"
   ]
  },
  {
   "cell_type": "code",
   "execution_count": 9,
   "metadata": {
    "collapsed": false
   },
   "outputs": [
    {
     "ename": "LoadError",
     "evalue": "LoadError: UndefVarError: sims not defined\nwhile loading In[9], in expression starting on line 1",
     "output_type": "error",
     "traceback": [
      "LoadError: UndefVarError: sims not defined\nwhile loading In[9], in expression starting on line 1",
      "",
      " [inlined code] from ./int.jl:33",
      " in include_string(::String, ::String) at ./loading.jl:380"
     ]
    }
   ],
   "source": [
    "corspearman(groundsim,sims)"
   ]
  },
  {
   "cell_type": "code",
   "execution_count": null,
   "metadata": {
    "collapsed": false
   },
   "outputs": [],
   "source": []
  },
  {
   "cell_type": "code",
   "execution_count": 10,
   "metadata": {
    "collapsed": false
   },
   "outputs": [
    {
     "ename": "LoadError",
     "evalue": "LoadError: UndefVarError: ee not defined\nwhile loading In[10], in expression starting on line 1",
     "output_type": "error",
     "traceback": [
      "LoadError: UndefVarError: ee not defined\nwhile loading In[10], in expression starting on line 1",
      "",
      " [inlined code] from ./int.jl:33",
      " in include_string(::String, ::String) at ./loading.jl:380"
     ]
    }
   ],
   "source": [
    "get_sims(ee,wordpairs,contexts)"
   ]
  },
  {
   "cell_type": "code",
   "execution_count": 11,
   "metadata": {
    "collapsed": false
   },
   "outputs": [
    {
     "data": {
      "text/plain": [
       "3-element Array{SubString{String},1}:\n",
       " \"a\"\n",
       " \"s\"\n",
       " \"s\""
      ]
     },
     "execution_count": 11,
     "metadata": {},
     "output_type": "execute_result"
    }
   ],
   "source": [
    "split(\"a s s\",' ')"
   ]
  },
  {
   "cell_type": "code",
   "execution_count": 12,
   "metadata": {
    "collapsed": false
   },
   "outputs": [
    {
     "name": "stderr",
     "output_type": "stream",
     "text": [
      "WARNING: Method definition get_context2(Any) in module Main at In[1]:4 overwritten at In[12]:4.\n"
     ]
    },
    {
     "data": {
      "text/plain": [
       "2003×2 Array{Array{SubString{String},1},2}:\n",
       " SubString{String}[\"gap\",\"in\",\"income\",\"between\",\"blacks\",\"and\",\"other\",\"non-whites\",\"is\",\"relatively\"  …  \"Bahia\",\"for\",\"instance\",\"is\",\"80\",\"%\",\"Afro-Brazilian\",\"but\",\"has\",\"never\"]                            …  SubString{String}[\"of\",\"the\",\"neck\",\",\",\"bridge\",\",\",\"and\",\"pickups\",\",\",\"there\"  …  \"gears\",\"which\",\"the\",\"player\",\"turns\",\"to\",\"change\",\"the\",\"string\",\"tension\"]                                  \n",
       " SubString{String}[\"being\",\"elected\",\",\",\"has\",\"not\",\"used\",\"the\",\"word\",\"genocide\",\"in\"  …  \",\",\"Ethiopia\",\",\",\"Finland\",\",\",\"France\",\",\",\"Georgia\",\",\",\"Germany\"]                                                   SubString{String}[\"Pythagorean\",\"triple\",\".\",\"A\",\"Pythagorean\",\"consists\",\"of\",\"three\",\"positive\",\"integers\"  …  \",\",\"then\",\"so\",\"is\",\"(\",\"\\\"\",\"ka\",\"\\\"\",\",\",\"\\\"\"]                                   \n",
       " SubString{String}[\"other\",\"official\",\"languages\",\",\",\"except\",\"for\",\"English\",\".\",\"More\",\"than\"  …  \"contribution\",\"to\",\"building\",\"the\",\"Afrikaans\",\"language\",\"is\",\"the\",\"availability\",\"of\"]                      SubString{String}[\".\",\"In\",\"some\",\"places\",\"the\",\"shock\",\"wave\",\"would\",\"have\",\"been\"  …  \"the\",\"Space\",\"Shuttle\",\"re-enters\",\"the\",\"Earth\",\"'s\",\"atmosphere\",\".\",\"In\"]                              \n",
       " SubString{String}[\"received\",\"honorary\",\"doctorates\",\"from\",\"Nyenrode\",\"Business\",\"Universiteit\",\",\",\"Breukelen\",\",\"  …  \"an\",\"honorary\",\"Knight\",\"Commander\",\"of\",\"the\",\"Order\",\"of\",\"the\",\"British\"]               SubString{String}[\"at\",\"Thomas\",\"'\",\"1991\",\"Senate\",\"confirmation\",\"hearings\",\"that\",\"her\",\"supervisor\"  …  \"the\",\"Washington\",\",\",\"D.C.\",\",\",\"firm\",\"of\",\"Wald\",\",\",\"Harkrader\"]                    \n",
       " SubString{String}[\",\",\"Jr.\",\",\",\"Foundation\",\"for\",\"Mental\",\"Retardation\",\"International\",\"award\",\";\"  …  \"President\",\"'s\",\"Award\",\",\",\"New\",\"York\",\"Academy\",\"of\",\"Science\",\";\"]                                    SubString{String}[\"Geological\",\"Survey\",\"of\",\"Canada\",\"under\",\"the\",\"persuasion\",\"of\",\"trilobite\",\"expert\"  …  \"only\",\"the\",\"sketchiest\",\"resemblance\",\"to\",\"other\",\"known\",\"animals\",\".\",\"Examples\"]\n",
       " SubString{String}[\"launch\",\"a\",\"surprise\",\"attack\",\",\",\"vanquish\",\"the\",\"Moabites\",\",\",\"and\"  …  \"Shunem\",\",\",\"an\",\"influential\",\"woman\",\"asks\",\"him\",\"to\",\"dine\",\"with\"]                                         …  SubString{String}[\"with\",\"the\",\"1895\",\"assassination\",\"of\",\"Empress\",\"Myeongseong\",\"and\",\"the\",\"1905\"  …  \".\",\"Mass\",\"protests\",\"in\",\"Peking\",\"in\",\"1919\",\"coupled\",\"with\",\"Allied\"]                 \n",
       " SubString{String}[\"pathogens\",\"are\",\"attached\",\"to\",\"silver\",\"and\",\"gold\",\"nanowires\",\".\",\"In\"  …  \"that\",\"in\",\"this\",\"case\",\"incorporates\",\"fiber\",\"optics\",\".\",\"List\",\"of\"]                                        SubString{String}[\"1995\",\",\",\"Israeli\",\"folk\",\"singer\",\"Miri\",\"Aloni\",\"sang\",\"the\",\"Israeli\"  …  \"territories\",\".\",\"This\",\"song\",\"was\",\"banned\",\"from\",\"the\",\"radio\",\"for\"]                          \n",
       " SubString{String}[\"and\",\"World\",\"War\",\"II\",\",\",\"Unit\",\"731\",\"of\",\"the\",\"Imperial\"  …  \"Ishii\",\".\",\"However\",\",\",\"some\",\"operations\",\"were\",\"ineffective\",\"due\",\"to\"]                                                 SubString{String}[\"level\",\".\",\"Overall\",\",\",\"the\",\"median\",\"earnings\",\"of\",\"African\",\"American\"  …  \"underrepresented\",\"in\",\"government\",\"and\",\"employment\",\".\",\"In\",\"1999\",\",\",\"the\"]               \n",
       " SubString{String}[\"on\",\"them\",\",\",\"paralleling\",\".\",\"Thereafter\",\",\",\"the\",\"apostles\",\"have\"  …  \"increase\",\",\",\"the\",\"Christians\",\"begin\",\"to\",\"be\",\"increasingly\",\"persecuted\",\".\"]                                SubString{String}[\"the\",\"majority\",\"of\",\"the\",\"grapes\",\"are\",\"harvested\",\"from\",\"the\",\"al-Khader\"  …  \"over\",\"thirty\",\"hotels\",\"in\",\"Bethlehem\",\".\",\"Jacir\",\"Palace\",\",\",\"built\"]                    \n",
       " SubString{String}[\"person\",\"traditionally\",\"believed\",\"to\",\"be\",\"the\",\"author\",\"of\",\"the\",\"Gospel\"  …  \"prosperity\",\"of\",\"the\",\"church\",\"at\",\"Antioch\",\"led\",\"the\",\"apostles\",\"and\"]                                 SubString{String}[\"The\",\"player\",\"may\",\"gain\",\"a\",\"bonus\",\"or\",\"penalty\",\"due\",\"to\"  …  \"roll\",\"(\",\"known\",\"as\",\"a\",\"bonus\",\")\",\"to\",\"simulate\",\"that\"]                                              \n",
       " SubString{String}[\"chalky\",\"background\",\".\",\"Some\",\"tall\",\"cylinders\",\"are\",\"considered\",\"ceremonial\",\"vessels\"  …  \".\",\"This\",\"is\",\"particularly\",\"true\",\"as\",\"the\",\"peoples\",\"of\",\"the\"]                        …  SubString{String}[\"Championship\",\"for\",\"men\",\"was\",\"held\",\"in\",\"Argentina\",\".\",\"Three\",\"years\"  …  \".\",\"The\",\"United\",\"States\",\"'\",\"dominance\",\"continued\",\"with\",\"the\",\"introduction\"]              \n",
       " SubString{String}[\",\",\"2008\",\".\",\"It\",\"was\",\"declared\",\"an\",\"official\",\"non-working\",\"day\"  …  \"of\",\"Trees\",\"\\\"\",\",\",\"and\",\"a\",\"resolution\",\"of\",\"the\",\"United\"]                                                     SubString{String}[\"Maximilian\",\"I\",\"of\",\"Mexico\",\",\",\"with\",\"support\",\"from\",\"the\",\"Roman\"  …  \"City\",\",\",\"using\",\"the\",\"National\",\"Palace\",\"as\",\"its\",\"seat\",\"of\"]                                  \n",
       " SubString{String}[\"Algeria\",\".\",\"Algeria\",\"is\",\"a\",\"member\",\"of\",\"the\",\"United\",\"Nations\"  …  \"Algeria\",\"had\",\"been\",\"inhabited\",\"since\",\"prehistoric\",\"times\",\"by\",\"indigenous\",\"peoples\"]                          SubString{String}[\"to\",\"build\",\"any\",\"infrastructure\",\".\",\"shabalabadingdong\",\"The\",\"begin\",\"of\",\"the\"  …  \"unsettled\",\",\",\"but\",\"the\",\"two\",\"governments\",\"agreed\",\"to\",\"delineate\",\"the\"]          \n",
       " ⋮                                                                                                                                                                                                                 ⋱                                                                                                                                                                                                       \n",
       " SubString{String}[\"in\",\"this\",\"pattern\",\"of\",\"Democratic\",\"dominance\",\".\",\"After\",\"Democratic\",\"Senator\"  …  \"pulled\",\"out\",\"of\",\"the\",\"highly\",\"anticipated\",\"primary\",\",\",\"announcing\",\"his\"]                      SubString{String}[\"obtain\",\"possession\",\"of\",\"a\",\"thing\",\"and\",\"the\",\"intention\",\"required\",\"to\"  …  \"that\",\"they\",\"do\",\"not\",\"want\",\"possession\",\"of\",\"the\",\"things\",\"brought\"]                     \n",
       " SubString{String}[\",\",\"or\",\"whalebone\",\"(\",\"now\",\"imitated\",\"by\",\"alternating\",\"strips\",\"of\"  …  \"of\",\"brazilwood\",\",\",\"although\",\"a\",\"stick\",\"made\",\"from\",\"this\",\"type\"]                                           SubString{String}[\"the\",\"active\",\"and\",\"passive\",\"articulators\",\".\",\"For\",\"instance\",\",\",\"the\"  …  \"commonly\",\",\",\"just\",\"palatal\",\".\",\"There\",\"are\",\"five\",\"basic\",\"active\"]                        \n",
       " SubString{String}[\"study\",\"for\",\"a\",\"doctorate\",\"in\",\"history\",\"and\",\"political\",\"science\",\"and\"  …  \"Pierce-Arrow\",\",\",\"in\",\"which\",\"he\",\"preferred\",\"to\",\"ride\",\"with\",\"the\"]                                      SubString{String}[\"pass\",\"to\",\"Tom\",\"Rathman\",\"on\",\"3rd-and-10\",\",\",\"marched\",\"73\",\"yards\"  …  \"then\",\"made\",\"a\",\"one-handed\",\"catch\",\"before\",\"stepping\",\"out\",\"of\",\"bounds\"]                       \n",
       " SubString{String}[\"Olympic\",\"weightlifting\",\".\",\"Olympic\",\"weightlifting\",\",\",\"also\",\"called\",\"Olympic-style\",\"weightlifting\"  …  \"strength\",\"(\",\"with\",\"or\",\"without\",\"lifting\",\"aids\",\")\",\",\",\"weightlifting\"]     SubString{String}[\"flats\",\",\",\"units\",\"or\",\"apartments\",\".\",\"High\",\"socioeconomic\",\"areas\",\"include\"  …  \"62.1\",\"%\",\"of\",\"the\",\"labour\",\"force\",\"in\",\"the\",\"1991\",\"census\"]                          \n",
       " SubString{String}[\"the\",\"LEDs\",\"produced\",\"in\",\"the\",\"1970s\",\"and\",\"1980s\",\"are\",\"still\"  …  \"to\",\"higher\",\"junction\",\"temperatures\",\"and\",\"higher\",\"current\",\"densities\",\"than\",\"traditional\"]                   …  SubString{String}[\"be\",\"paid\",\"Walls\",\".\",\"Defensive\",\"walls\",\"were\",\"usually\",\"topped\",\"with\"  …  \"from\",\"bows\",\"to\",\"crossbows\",\"to\",\"simple\",\"rocks\",\".\",\"Moats\",\".\"]                             \n",
       " SubString{String}[\"the\",\"incoming\",\"player\",\"has\",\"anywhere\",\"on\",\"the\",\"table\",\",\",\"unless\"  …  \"falls\",\"into\",\"any\",\"pocket\",\"other\",\"than\",\"the\",\"one\",\"designated\",\",\"]                                          SubString{String}[\",\",\"private\",\"investment\",\"can\",\"be\",\"\\\"\",\"crowded\",\"in\",\"\\\"\",\":\"  …  \"investment\",\"in\",\"public\",\"goods\",\"that\",\"will\",\"not\",\"be\",\"provided\",\"by\"]                                \n",
       " SubString{String}[\"used\",\"with\",\"home\",\"consoles\",\"and\",\"remained\",\"the\",\"most\",\"common\",\"until\"  …  \"used\",\"on\",\"emulators\",\".\",\"Cards\",\".\",\"Several\",\"consoles\",\"such\",\"as\"]                                       SubString{String}[\"happen\",\"almost\",\"simultaneously\",\",\",\"similarly\",\"Strikes\",\"(\",\"i.e.\",\"punches\",\",\"  …  \"on\",\"the\",\"ground\",\";\",\"a\",\"contestant\",\"is\",\"not\",\"allowed\",\"to\"]                      \n",
       " SubString{String}[\"consonant\",\"table\",\"at\",\"the\",\"bottom\",\".\",\"In\",\"the\",\"velar\",\"position\"  …  \"stops\",\",\",\"but\",\"it\",\"is\",\"sporadically\",\"missing\",\"elsewhere\",\".\",\"Of\"]                                           SubString{String}[\"the\",\"FRBB\",\".\",\"Commercial\",\"Paper\",\"Funding\",\"Facility\",\".\",\"The\",\"Commercial\"  …  \"might\",\"be\",\",\",\"but\",\"they\",\"noted\",\"that\",\"around\",\"\\$\",\"1.3\"]                            \n",
       " SubString{String}[\"Kabul\",\".\",\"Kabul\",\"'s\",\"main\",\"products\",\"include\",\"munitions\",\",\",\"cloth\"  …  \"over\",\"3,000\",\"years\",\"old\",\";\",\"many\",\"empires\",\"have\",\"long\",\"fought\"]                                         SubString{String}[\"vendors\",\".\",\"In\",\"the\",\"1980s\",\",\",\"these\",\"tests\",\"(\",\"and\"  …  \"active\",\"duty\",\"again\",\"in\",\"1972\",\".\",\"She\",\"was\",\"promoted\",\"to\"]                                            \n",
       " SubString{String}[\"Diego\",\"Armando\",\"is\",\"a\",\"retired\",\"Argentine\",\"football\",\"player\",\".\",\"Many\"  …  \"consider\",\"Maradona\",\"the\",\"greatest\",\"football\",\"player\",\"of\",\"all\",\"time\",\".\"]                           …  SubString{String}[\"In\",\"1966\",\",\",\"rugby\",\"league\",\"officials\",\"borrowed\",\"the\",\"American\",\"concept\"  …  \"league\",\"this\",\"became\",\"known\",\"as\",\"the\",\"six\",\"tackle\",\"rule\",\".\"]                      \n",
       " SubString{String}[\"Yasser\",\"or\",\"by\",\"his\",\"kunya\",\"Abu\",\"Ammar\",\",\",\"was\",\"a\"  …  \"Fatah\",\"political\",\"party\",\",\",\"which\",\"he\",\"founded\",\"in\",\"1959\",\".\"]                                                           SubString{String}[\"The\",\"United\",\"Nations\",\"(UN)\",\"is\",\"an\",\"international\",\"organization\",\"whose\",\"stated\"  …  \"countries\",\",\",\"and\",\"to\",\"provide\",\"a\",\"platform\",\"for\",\"dialogue\",\".\"]            \n",
       " SubString{String}[\"Yasser\",\"or\",\"by\",\"his\",\"kunya\",\"Abu\",\"Ammar\",\",\",\"was\",\"a\"  …  \"Fatah\",\"political\",\"party\",\",\",\"which\",\"he\",\"founded\",\"in\",\"1959\",\".\"]                                                           SubString{String}[\"David\",\"Forte\",\"states\",\"that\",\"the\",\"primary\",\"difference\",\"between\",\"and\",\"terrorism\"  …  \"groups\",\"against\",\"civilian\",\"targets\",\"to\",\"effect\",\"a\",\"political\",\"objective\",\".\"]"
      ]
     },
     "execution_count": 12,
     "metadata": {},
     "output_type": "execute_result"
    }
   ],
   "source": [
    "\n",
    "filename = \"data/corpora/SCWS/ratings.txt\"\n",
    "function get_context2(fulltext)\n",
    "    Task() do\n",
    "        skip_next = 0\n",
    "        for word in split(fulltext, ' ')\n",
    "            skip_next-=1\n",
    "            if word == \"<b>\"\n",
    "                skip_next=3 \n",
    "            end\n",
    "            skip_next>0 && continue\n",
    "            produce(word)\n",
    "        end\n",
    "    end |> collect\n",
    "end\n",
    "entries = readdlm(filename, '\\t', String; quotes=false, comments=false)\n",
    "wordpairs = entries[:,[2,4]]\n",
    "groundsim = map(s->parse(Float64,s), entries[:,8])\n",
    "contexts = map(get_context2,entries[:,[6,7]])"
   ]
  },
  {
   "cell_type": "code",
   "execution_count": 13,
   "metadata": {
    "collapsed": false
   },
   "outputs": [
    {
     "data": {
      "text/plain": [
       "get_sims (generic function with 2 methods)"
      ]
     },
     "execution_count": 13,
     "metadata": {},
     "output_type": "execute_result"
    }
   ],
   "source": [
    "function get_sims(ee::FixedWordSenseEmbedding, wordpairs::Matrix{String}, contexts::Matrix)\n",
    "    sims = Vector{Float64}(size(wordpairs,1))\n",
    "    for ii in 1:size(wordpairs,1)\n",
    "        try\n",
    "            \n",
    "            sense1 = Training.WSD(wordpairs[ii,1],contexts[ii,1])\n",
    "            wv1 = ee.embedding[wordpairs[ii,1]][sense1]\n",
    "            \n",
    "            sense2 = Training.WSD(wordpairs[ii,2],contexts[ii,2])\n",
    "            wv2 = ee.embedding[wordpairs[ii,2]][sense2]\n",
    "            \n",
    "            sims[ii]=1-cosine_dist(wv1,wv2)\n",
    "        catch ex\n",
    "            if typeof(ex)==KeyError\n",
    "                warn(ex)\n",
    "                sims[ii]=NaN\n",
    "            else\n",
    "                rethrow(ex)\n",
    "            end\n",
    "        end\n",
    "    end\n",
    "    return sims\n",
    "end"
   ]
  },
  {
   "cell_type": "code",
   "execution_count": 14,
   "metadata": {
    "collapsed": false
   },
   "outputs": [
    {
     "ename": "LoadError",
     "evalue": "LoadError: UndefVarError: ee not defined\nwhile loading In[14], in expression starting on line 1",
     "output_type": "error",
     "traceback": [
      "LoadError: UndefVarError: ee not defined\nwhile loading In[14], in expression starting on line 1",
      "",
      " [inlined code] from ./int.jl:33",
      " in include_string(::String, ::String) at ./loading.jl:380"
     ]
    }
   ],
   "source": [
    "get_sims(ee::FixedWordSenseEmbedding, wordpairs::Matrix{String}, contexts::Matrix)"
   ]
  }
 ],
 "metadata": {
  "kernelspec": {
   "display_name": "Julia 0.5.0-dev",
   "language": "julia",
   "name": "julia-0.5"
  },
  "language_info": {
   "file_extension": ".jl",
   "mimetype": "application/julia",
   "name": "julia",
   "version": "0.5.0"
  }
 },
 "nbformat": 4,
 "nbformat_minor": 0
}
