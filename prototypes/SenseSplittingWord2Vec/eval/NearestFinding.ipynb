{
 "cells": [
  {
   "cell_type": "code",
   "execution_count": 1,
   "metadata": {
    "collapsed": false
   },
   "outputs": [],
   "source": [
    "using NearestNeighbors\n",
    "using WordEmbeddings, SoftmaxClassifier\n",
    "using Utils\n",
    "using Query\n",
    "using Base.Collections\n",
    "using WordStreams\n",
    "\n",
    "using Clustering\n",
    "using Distances\n",
    "using Iterators"
   ]
  },
  {
   "cell_type": "code",
   "execution_count": 3,
   "metadata": {
    "collapsed": false
   },
   "outputs": [
    {
     "data": {
      "text/plain": [
       "(NearestNeighbors.BallTree{Float32,Query.AngularDist}\n",
       "  Number of points: 295775\n",
       "  Dimensions: 200\n",
       "  Metric: Query.AngularDist()\n",
       "  Reordered: true,[(\"rearrangement\",1),(\"piecemeal\",1),(\"quatre\",1),(\"proteases\",1),(\"fsln\",1),(\"duma\",1),(\"libertad\",1),(\"titration\",1),(\"photosynthesis\",1),(\"qajar\",1)  …  (\"confined\",11),(\"confined\",12),(\"confined\",13),(\"confined\",14),(\"confined\",15),(\"confined\",16),(\"confined\",17),(\"confined\",18),(\"confined\",19),(\"confined\",20)])"
      ]
     },
     "execution_count": 3,
     "metadata": {},
     "output_type": "execute_result"
    }
   ],
   "source": [
    "ee = restore(\"models/ss/text8_200__i5.model\");\n",
    "dtree,labels = nn_tree(ee)"
   ]
  },
  {
   "cell_type": "code",
   "execution_count": 4,
   "metadata": {
    "collapsed": false
   },
   "outputs": [
    {
     "name": "stdout",
     "output_type": "stream",
     "text": [
      "  6.733167 seconds (13.48 M allocations: 488.923 MB, 16.74% gc time)\n"
     ]
    },
    {
     "data": {
      "text/plain": [
       "20-element Array{Array{Tuple{Tuple{String,Int64},Float32},1},1}:\n",
       " [((\"solvent\",1),0.0f0),((\"lp\",1),0.38617045f0),((\"freight\",2),0.4005258f0),((\"hanukkah\",8),0.4013339f0),((\"ancestry\",1),0.40245205f0)]                    \n",
       " [((\"solvent\",2),0.00010990189f0),((\"used\",8),0.36280286f0),((\"are\",13),0.36325294f0),((\"sulfuric\",1),0.36509895f0),((\"chemistry\",3),0.36603138f0)]        \n",
       " [((\"solvent\",3),0.0f0),((\"panels\",4),0.39183682f0),((\"material\",2),0.3995582f0),((\"lifestyles\",1),0.4040893f0),((\"examination\",12),0.40444997f0)]         \n",
       " [((\"solvent\",4),0.0f0),((\"adelaide\",17),0.39587548f0),((\"viking\",3),0.40690184f0),((\"rpg\",16),0.40706158f0),((\"achaemenid\",1),0.40727332f0)]              \n",
       " [((\"solvent\",5),0.00010990189f0),((\"formats\",7),0.3888317f0),((\"drilling\",1),0.3945168f0),((\"phase\",12),0.39766484f0),((\"tank\",16),0.399985f0)]           \n",
       " [((\"solvent\",6),0.0f0),((\"reactions\",11),0.38621718f0),((\"quebecers\",1),0.3992329f0),((\"participated\",20),0.399569f0),((\"devolved\",1),0.39969772f0)]      \n",
       " [((\"solvent\",7),0.00010990189f0),((\"carbohydrate\",1),0.3486959f0),((\"extraction\",8),0.35022354f0),((\"also\",17),0.35440478f0),((\"when\",2),0.35575062f0)]   \n",
       " [((\"solvent\",8),0.0f0),((\"futuristic\",1),0.39222497f0),((\"iraqi\",1),0.40099907f0),((\"webster\",11),0.40142155f0),((\"xavier\",18),0.4030411f0)]              \n",
       " [((\"solvent\",9),0.0f0),((\"builds\",17),0.39837024f0),((\"brewery\",1),0.40612045f0),((\"simple\",2),0.40618595f0),((\"severe\",20),0.40629038f0)]                \n",
       " [((\"solvent\",10),0.00010990189f0),((\"high\",4),0.3960663f0),((\"fuel\",14),0.3982918f0),((\"cold\",6),0.40066722f0),((\"thermal\",3),0.40169868f0)]              \n",
       " [((\"solvent\",11),0.0f0),((\"complications\",13),0.3952054f0),((\"gristle\",1),0.39720768f0),((\"brooms\",1),0.40105557f0),((\"ab\",9),0.401065f0)]                \n",
       " [((\"solvent\",12),0.0f0),((\"safely\",6),0.3941135f0),((\"plug\",13),0.39521128f0),((\"recurve\",1),0.4020915f0),((\"forms\",14),0.40539563f0)]                    \n",
       " [((\"solvent\",13),0.0f0),((\"andrea\",6),0.40232772f0),((\"analytic\",6),0.4033247f0),((\"recalled\",7),0.40597633f0),((\"depend\",2),0.40677878f0)]               \n",
       " [((\"solvent\",14),0.00015542474f0),((\"bowhunting\",1),0.3977524f0),((\"adopting\",9),0.4000516f0),((\"analogy\",3),0.40240908f0),((\"extrinsic\",1),0.40490225f0)]\n",
       " [((\"solvent\",15),0.0f0),((\"drunk\",11),0.39685696f0),((\"shelf\",4),0.39810655f0),((\"hoping\",13),0.4033091f0),((\"unable\",6),0.4052597f0)]                    \n",
       " [((\"solvent\",16),0.0f0),((\"hannibal\",7),0.399032f0),((\"commander\",3),0.3994426f0),((\"milwaukee\",9),0.4011717f0),((\"his\",3),0.40118378f0)]                 \n",
       " [((\"solvent\",17),0.0f0),((\"proceeds\",19),0.39758924f0),((\"canonical\",11),0.4015032f0),((\"beryllium\",15),0.4064482f0),((\"compute\",15),0.4067205f0)]        \n",
       " [((\"solvent\",18),0.0f0),((\"wax\",13),0.39896163f0),((\"thermal\",5),0.3990032f0),((\"passive\",11),0.40498555f0),((\"person\",9),0.4067452f0)]                   \n",
       " [((\"solvent\",19),0.0f0),((\"icons\",7),0.3963241f0),((\"recovery\",10),0.39635086f0),((\"diatonic\",15),0.39864329f0),((\"scrooge\",2),0.40139556f0)]             \n",
       " [((\"solvent\",20),0.00015542474f0),((\"visually\",14),0.3929378f0),((\"wheel\",8),0.40379304f0),((\"backward\",17),0.4096534f0),((\"lists\",19),0.41007528f0)]     "
      ]
     },
     "execution_count": 4,
     "metadata": {},
     "output_type": "execute_result"
    }
   ],
   "source": [
    "@time find_nearest_words(ee,\"solvent\",dtree,labels )"
   ]
  },
  {
   "cell_type": "code",
   "execution_count": 6,
   "metadata": {
    "collapsed": false
   },
   "outputs": [
    {
     "name": "stderr",
     "output_type": "stream",
     "text": [
      "WARNING: using DataStructures.dequeue! in module Main conflicts with an existing identifier.\n",
      "WARNING: using DataStructures.enqueue! in module Main conflicts with an existing identifier.\n"
     ]
    },
    {
     "data": {
      "text/plain": [
       "DataStructures.DefaultDict{Int64,Int64,DataType} with 0 entries"
      ]
     },
     "execution_count": 6,
     "metadata": {},
     "output_type": "execute_result"
    }
   ],
   "source": [
    "using DataStructures\n",
    "\n"
   ]
  },
  {
   "cell_type": "code",
   "execution_count": 9,
   "metadata": {
    "collapsed": false
   },
   "outputs": [
    {
     "data": {
      "text/plain": [
       "DataStructures.DefaultDict{Int64,Int64,F}"
      ]
     },
     "execution_count": 9,
     "metadata": {},
     "output_type": "execute_result"
    }
   ],
   "source": []
  },
  {
   "cell_type": "code",
   "execution_count": 15,
   "metadata": {
    "collapsed": false
   },
   "outputs": [
    {
     "data": {
      "text/plain": [
       "DataStructures.DefaultDict{AbstractString,DataStructures.DefaultDict{Int64,Int64,F},##13#15} with 0 entries"
      ]
     },
     "execution_count": 15,
     "metadata": {},
     "output_type": "execute_result"
    }
   ],
   "source": [
    "x=DefaultDict(AbstractString,DefaultDict{Int64,Int64},()->DefaultDict(Int64,Int64,()->0))"
   ]
  },
  {
   "cell_type": "code",
   "execution_count": 19,
   "metadata": {
    "collapsed": false
   },
   "outputs": [
    {
     "data": {
      "text/plain": [
       "Associative{AbstractString,DataStructures.DefaultDict{Int64,Int64,F}}"
      ]
     },
     "execution_count": 19,
     "metadata": {},
     "output_type": "execute_result"
    }
   ],
   "source": [
    "supertype(typeof(x))"
   ]
  },
  {
   "cell_type": "code",
   "execution_count": 16,
   "metadata": {
    "collapsed": false
   },
   "outputs": [
    {
     "data": {
      "text/plain": [
       "0"
      ]
     },
     "execution_count": 16,
     "metadata": {},
     "output_type": "execute_result"
    }
   ],
   "source": [
    "x[\"4\"][4]"
   ]
  },
  {
   "cell_type": "code",
   "execution_count": 45,
   "metadata": {
    "collapsed": false
   },
   "outputs": [
    {
     "name": "stdout",
     "output_type": "stream",
     "text": [
      "a = 1\n",
      "b = 2\n"
     ]
    },
    {
     "data": {
      "text/plain": [
       "2"
      ]
     },
     "execution_count": 45,
     "metadata": {},
     "output_type": "execute_result"
    }
   ],
   "source": [
    "function tt()\n",
    "    1,2,3\n",
    "end\n",
    "a,b=tt()\n",
    "@show a\n",
    "@show b"
   ]
  },
  {
   "cell_type": "code",
   "execution_count": 44,
   "metadata": {
    "collapsed": false
   },
   "outputs": [
    {
     "data": {
      "text/plain": [
       "[Set([4,2,3,1])]"
      ]
     },
     "execution_count": 44,
     "metadata": {},
     "output_type": "execute_result"
    }
   ],
   "source": [
    "keys(aa)"
   ]
  },
  {
   "cell_type": "code",
   "execution_count": null,
   "metadata": {
    "collapsed": true
   },
   "outputs": [],
   "source": [
    "@generated function hash_by_value(x, deep=false)"
   ]
  }
 ],
 "metadata": {
  "kernelspec": {
   "display_name": "Julia 0.5.0-dev",
   "language": "julia",
   "name": "julia-0.5"
  },
  "language_info": {
   "file_extension": ".jl",
   "mimetype": "application/julia",
   "name": "julia",
   "version": "0.5.0"
  }
 },
 "nbformat": 4,
 "nbformat_minor": 0
}
