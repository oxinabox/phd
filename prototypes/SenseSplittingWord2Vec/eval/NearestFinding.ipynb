{
 "cells": [
  {
   "cell_type": "code",
   "execution_count": 8,
   "metadata": {
    "collapsed": false
   },
   "outputs": [
    {
     "name": "stderr",
     "output_type": "stream",
     "text": [
      "WARNING: using DataStructures.enqueue! in module Main conflicts with an existing identifier.\n",
      "WARNING: using DataStructures.dequeue! in module Main conflicts with an existing identifier.\n"
     ]
    }
   ],
   "source": [
    "using NearestNeighbors\n",
    "using WordEmbeddings, SoftmaxClassifier\n",
    "using Utils\n",
    "using Query\n",
    "using Base.Collections\n",
    "using WordStreams\n",
    "using DataStructures\n",
    "using Clustering\n",
    "using Distances\n",
    "using Iterators\n",
    "using StatsBase\n",
    "using Training"
   ]
  },
  {
   "cell_type": "code",
   "execution_count": 19,
   "metadata": {
    "collapsed": false
   },
   "outputs": [
    {
     "data": {
      "text/plain": [
       "(NearestNeighbors.BallTree{Float32,Query.AngularDist}\n",
       "  Number of points: 295775\n",
       "  Dimensions: 200\n",
       "  Metric: Query.AngularDist()\n",
       "  Reordered: true,[(\"rearrangement\",1),(\"piecemeal\",1),(\"quatre\",1),(\"proteases\",1),(\"fsln\",1),(\"duma\",1),(\"libertad\",1),(\"titration\",1),(\"photosynthesis\",1),(\"qajar\",1)  …  (\"confined\",11),(\"confined\",12),(\"confined\",13),(\"confined\",14),(\"confined\",15),(\"confined\",16),(\"confined\",17),(\"confined\",18),(\"confined\",19),(\"confined\",20)])"
      ]
     },
     "execution_count": 19,
     "metadata": {},
     "output_type": "execute_result"
    }
   ],
   "source": [
    "ee = restore(\"models/ss/text8_200__i5_v2.model\");\n",
    "dtree,labels = nn_tree(ee)"
   ]
  },
  {
   "cell_type": "code",
   "execution_count": 20,
   "metadata": {
    "collapsed": false,
    "scrolled": true
   },
   "outputs": [
    {
     "name": "stdout",
     "output_type": "stream",
     "text": [
      "  8.470255 seconds (13.49 M allocations: 489.062 MB, 27.37% gc time)\n"
     ]
    },
    {
     "data": {
      "text/plain": [
       "20-element Array{Array{Tuple{Tuple{String,Int64},Float32},1},1}:\n",
       " [((\"solvent\",1),0.0f0),((\"lp\",1),0.38617045f0),((\"freight\",2),0.4005258f0),((\"hanukkah\",8),0.4013339f0),((\"ancestry\",1),0.40245205f0)]                    \n",
       " [((\"solvent\",2),0.00010990189f0),((\"used\",8),0.36280286f0),((\"are\",13),0.36325294f0),((\"sulfuric\",1),0.36509895f0),((\"chemistry\",3),0.36603138f0)]        \n",
       " [((\"solvent\",3),0.0f0),((\"panels\",4),0.39183682f0),((\"material\",2),0.3995582f0),((\"lifestyles\",1),0.4040893f0),((\"examination\",12),0.40444997f0)]         \n",
       " [((\"solvent\",4),0.0f0),((\"adelaide\",17),0.39587548f0),((\"viking\",3),0.40690184f0),((\"rpg\",16),0.40706158f0),((\"achaemenid\",1),0.40727332f0)]              \n",
       " [((\"solvent\",5),0.00010990189f0),((\"formats\",7),0.3888317f0),((\"drilling\",1),0.3945168f0),((\"phase\",12),0.39766484f0),((\"tank\",16),0.399985f0)]           \n",
       " [((\"solvent\",6),0.0f0),((\"reactions\",11),0.38621718f0),((\"quebecers\",1),0.3992329f0),((\"participated\",20),0.399569f0),((\"devolved\",1),0.39969772f0)]      \n",
       " [((\"solvent\",7),0.00010990189f0),((\"carbohydrate\",1),0.3486959f0),((\"extraction\",8),0.35022354f0),((\"also\",17),0.35440478f0),((\"when\",2),0.35575062f0)]   \n",
       " [((\"solvent\",8),0.0f0),((\"futuristic\",1),0.39222497f0),((\"iraqi\",1),0.40099907f0),((\"webster\",11),0.40142155f0),((\"xavier\",18),0.4030411f0)]              \n",
       " [((\"solvent\",9),0.0f0),((\"builds\",17),0.39837024f0),((\"brewery\",1),0.40612045f0),((\"simple\",2),0.40618595f0),((\"severe\",20),0.40629038f0)]                \n",
       " [((\"solvent\",10),0.00010990189f0),((\"high\",4),0.3960663f0),((\"fuel\",14),0.3982918f0),((\"cold\",6),0.40066722f0),((\"thermal\",3),0.40169868f0)]              \n",
       " [((\"solvent\",11),0.0f0),((\"complications\",13),0.3952054f0),((\"gristle\",1),0.39720768f0),((\"brooms\",1),0.40105557f0),((\"ab\",9),0.401065f0)]                \n",
       " [((\"solvent\",12),0.0f0),((\"safely\",6),0.3941135f0),((\"plug\",13),0.39521128f0),((\"recurve\",1),0.4020915f0),((\"forms\",14),0.40539563f0)]                    \n",
       " [((\"solvent\",13),0.0f0),((\"andrea\",6),0.40232772f0),((\"analytic\",6),0.4033247f0),((\"recalled\",7),0.40597633f0),((\"depend\",2),0.40677878f0)]               \n",
       " [((\"solvent\",14),0.00015542474f0),((\"bowhunting\",1),0.3977524f0),((\"adopting\",9),0.4000516f0),((\"analogy\",3),0.40240908f0),((\"extrinsic\",1),0.40490225f0)]\n",
       " [((\"solvent\",15),0.0f0),((\"drunk\",11),0.39685696f0),((\"shelf\",4),0.39810655f0),((\"hoping\",13),0.4033091f0),((\"unable\",6),0.4052597f0)]                    \n",
       " [((\"solvent\",16),0.0f0),((\"hannibal\",7),0.399032f0),((\"commander\",3),0.3994426f0),((\"milwaukee\",9),0.4011717f0),((\"his\",3),0.40118378f0)]                 \n",
       " [((\"solvent\",17),0.0f0),((\"proceeds\",19),0.39758924f0),((\"canonical\",11),0.4015032f0),((\"beryllium\",15),0.4064482f0),((\"compute\",15),0.4067205f0)]        \n",
       " [((\"solvent\",18),0.0f0),((\"wax\",13),0.39896163f0),((\"thermal\",5),0.3990032f0),((\"passive\",11),0.40498555f0),((\"person\",9),0.4067452f0)]                   \n",
       " [((\"solvent\",19),0.0f0),((\"icons\",7),0.3963241f0),((\"recovery\",10),0.39635086f0),((\"diatonic\",15),0.39864329f0),((\"scrooge\",2),0.40139556f0)]             \n",
       " [((\"solvent\",20),0.00015542474f0),((\"visually\",14),0.3929378f0),((\"wheel\",8),0.40379304f0),((\"backward\",17),0.4096534f0),((\"lists\",19),0.41007528f0)]     "
      ]
     },
     "execution_count": 20,
     "metadata": {},
     "output_type": "execute_result"
    }
   ],
   "source": [
    "@time find_nearest_words(ee,\"solvent\",dtree,labels )"
   ]
  },
  {
   "cell_type": "code",
   "execution_count": 7,
   "metadata": {
    "collapsed": false,
    "scrolled": true
   },
   "outputs": [
    {
     "data": {
      "text/plain": [
       "load_wordsim353 (generic function with 2 methods)"
      ]
     },
     "execution_count": 7,
     "metadata": {},
     "output_type": "execute_result"
    }
   ],
   "source": [
    "function load_wordsim353(filename=\"data/corpora/wordsim353/combined.csv\")\n",
    "    wordsims = readdlm(filename, ','; skipstart=1)\n",
    "    wordpairs = convert(Matrix{String},wordsims[:,1:2])\n",
    "    groundsim = convert(Vector{Float64},wordsims[:,3])\n",
    "    (wordpairs, groundsim)\n",
    "end"
   ]
  },
  {
   "cell_type": "code",
   "execution_count": 21,
   "metadata": {
    "collapsed": false,
    "scrolled": true
   },
   "outputs": [
    {
     "ename": "LoadError",
     "evalue": "LoadError: UndefVarError: wordpairs not defined\nwhile loading In[21], in expression starting on line 15",
     "output_type": "error",
     "traceback": [
      "LoadError: UndefVarError: wordpairs not defined\nwhile loading In[21], in expression starting on line 15",
      "",
      " [inlined code] from ./int.jl:33",
      " in include_string(::String, ::String) at ./loading.jl:380"
     ]
    }
   ],
   "source": [
    "function get_sims(ee::FixedWordSenseEmbedding, wordpairs::Matrix{String})\n",
    "    sims = Vector{Float64}(size(wordpairs,1))\n",
    "    for ii in 1:size(wordpairs,1)\n",
    "        try\n",
    "            wvs_1 = hcat(ee.embedding[wordpairs[ii,1]]...)\n",
    "            wvs_2 = hcat(ee.embedding[wordpairs[ii,2]]...)\n",
    "            sims[ii]=1-minimum(pairwise(CosineDist(), wvs_1,wvs_2))\n",
    "        catch ex\n",
    "            warn(ex)\n",
    "            sims[ii]=NaN\n",
    "        end\n",
    "    end\n",
    "    return sims\n",
    "end\n",
    "sims = get_sims(ee,map(lowercase,wordpairs))\n",
    "corspearman(groundsim,sims)"
   ]
  },
  {
   "cell_type": "code",
   "execution_count": 22,
   "metadata": {
    "collapsed": false
   },
   "outputs": [
    {
     "ename": "LoadError",
     "evalue": "LoadError: UndefVarError: wordpairs not defined\nwhile loading In[22], in expression starting on line 1",
     "output_type": "error",
     "traceback": [
      "LoadError: UndefVarError: wordpairs not defined\nwhile loading In[22], in expression starting on line 1",
      "",
      " [inlined code] from ./int.jl:33",
      " in include_string(::String, ::String) at ./loading.jl:380"
     ]
    }
   ],
   "source": []
  },
  {
   "cell_type": "code",
   "execution_count": 32,
   "metadata": {
    "collapsed": false,
    "scrolled": true
   },
   "outputs": [
    {
     "name": "stderr",
     "output_type": "stream",
     "text": [
      "WARNING: Method definition load_SCWS() in module Main at In[23]:2 overwritten at In[32]:2.\n",
      "WARNING: Method definition load_SCWS(Any) in module Main at In[23]:2 overwritten at In[32]:2.\n"
     ]
    },
    {
     "data": {
      "text/plain": [
       "\"\""
      ]
     },
     "execution_count": 32,
     "metadata": {},
     "output_type": "execute_result"
    }
   ],
   "source": [
    "function load_SCWS(filename = \"data/corpora/SCWS/ratings.txt\")\n",
    "    function get_context2(fulltext)\n",
    "        Task() do\n",
    "            skip_next = 0\n",
    "            for word in split(fulltext, ' ')\n",
    "                skip_next-=1\n",
    "                if word == \"<b>\"\n",
    "                    skip_next=3 \n",
    "                end\n",
    "                skip_next>0 && continue\n",
    "                produce(lowercase(word))\n",
    "            end\n",
    "        end |> collect\n",
    "    end\n",
    "    entries = readdlm(filename, '\\t', String; quotes=false, comments=false)\n",
    "    wordpairs = map(lowercase,entries[:,[2,4]])\n",
    "    groundsim = map(s->parse(Float64,s), entries[:,8])\n",
    "    contexts = map(get_context2,entries[:,[6,7]])\n",
    "    (wordpairs,contexts,groundsim,)\n",
    "end\n",
    "wordpairs,contexts,groundsim = load_SCWS();\n",
    "\"\""
   ]
  },
  {
   "cell_type": "code",
   "execution_count": 33,
   "metadata": {
    "collapsed": false
   },
   "outputs": [
    {
     "name": "stderr",
     "output_type": "stream",
     "text": [
      "WARNING: Method definition get_sims(WordEmbeddings.FixedWordSenseEmbedding, Array{String, 2}, Array{T<:Any, 2}) in module Main at In[30]:2 overwritten at In[33]:2.\n"
     ]
    },
    {
     "data": {
      "text/plain": [
       "get_sims (generic function with 2 methods)"
      ]
     },
     "execution_count": 33,
     "metadata": {},
     "output_type": "execute_result"
    }
   ],
   "source": [
    "function get_sims(ee::FixedWordSenseEmbedding, wordpairs::Matrix{String}, contexts::Matrix)\n",
    "    sims = Vector{Float64}(size(wordpairs,1))\n",
    "    for ii in 1:size(wordpairs,1)\n",
    "        try\n",
    "            \n",
    "            sense1 = Training.WSD(ee, wordpairs[ii,1],contexts[ii,1];skip_oov=true)\n",
    "            wv1 = ee.embedding[wordpairs[ii,1]][sense1]\n",
    "            \n",
    "            sense2 = Training.WSD(ee, wordpairs[ii,2],contexts[ii,2];skip_oov=true)\n",
    "            wv2 = ee.embedding[wordpairs[ii,2]][sense2]\n",
    "            \n",
    "            sims[ii]=1-cosine_dist(wv1,wv2)\n",
    "        catch ex\n",
    "            if typeof(ex)==KeyError\n",
    "                warn(ex)\n",
    "                sims[ii]=NaN\n",
    "            else\n",
    "                rethrow(ex)\n",
    "            end\n",
    "        end\n",
    "    end\n",
    "    return sims\n",
    "end"
   ]
  },
  {
   "cell_type": "code",
   "execution_count": 35,
   "metadata": {
    "collapsed": false
   },
   "outputs": [
    {
     "name": "stdout",
     "output_type": "stream",
     "text": [
      "2016-06-14T20:07:39.264 - warn: KeyError: aglow not found prefix: \"error: \"\n",
      "2016-06-14T20:07:39.765 - warn: KeyError: know-how not found prefix: \"error: \"\n",
      "2016-06-14T20:07:42.083 - warn: KeyError: realtor not found prefix: \"error: \"\n",
      "2016-06-14T20:07:42.128 - warn: KeyError: bedlam not found prefix: \"error: \"\n",
      "2016-06-14T20:07:43.177 - warn: KeyError: riverbank not found prefix: \"error: \"\n",
      "2016-06-14T20:07:43.378 - warn: KeyError: tip-off not found prefix: \"error: \"\n",
      "2016-06-14T20:07:44.58 - warn: KeyError: exhale not found prefix: \"error: \"\n",
      "2016-06-14T20:07:44.603 - warn: KeyError: insufflate not found prefix: \"error: \"\n",
      "2016-06-14T20:07:45.388 - warn: KeyError: angstrom not found prefix: \"error: \"\n",
      "2016-06-14T20:07:47.369 - warn: KeyError: litigate not found prefix: \"error: \"\n",
      "2016-06-14T20:07:47.982 - warn: KeyError: arpeggio not found prefix: \"error: \"\n",
      "2016-06-14T20:07:51.006 - warn: KeyError: air-conditioned not found prefix: \"error: \"\n",
      "2016-06-14T20:07:51.602 - warn: KeyError: submerge not found prefix: \"error: \"\n",
      "2016-06-14T20:07:52.548 - warn: KeyError: tableware not found prefix: \"error: \"\n",
      "2016-06-14T20:07:52.567 - warn: KeyError: smother not found prefix: \"error: \"\n",
      "2016-06-14T20:07:52.708 - warn: KeyError: nip not found prefix: \"error: \"\n",
      "2016-06-14T20:07:54.234 - warn: KeyError: anorgasmia not found prefix: \"error: \"\n",
      "2016-06-14T20:07:54.853 - warn: KeyError: one-half not found prefix: \"error: \"\n",
      "2016-06-14T20:07:54.876 - warn: KeyError: submerge not found prefix: \"error: \"\n",
      "2016-06-14T20:07:55.848 - warn: KeyError: neckline not found prefix: \"error: \"\n",
      "2016-06-14T20:07:57.014 - warn: KeyError: backdate not found prefix: \"error: \"\n",
      "2016-06-14T20:07:57.122 - warn: KeyError: repercussion not found prefix: \"error: \"\n",
      "2016-06-14T20:07:58.23 - warn: KeyError: notarize not found prefix: \"error: \"\n",
      "2016-06-14T20:07:59.357 - warn: KeyError: avifauna not found prefix: \"error: \"\n",
      "2016-06-14T20:07:59.414 - warn: KeyError: fearlessness not found prefix: \"error: \"\n",
      "2016-06-14T20:08:04.781 - warn: KeyError: calorific not found prefix: \"error: \"\n",
      "2016-06-14T20:08:05.861 - warn: KeyError: vicariate not found prefix: \"error: \"\n",
      "2016-06-14T20:08:06.749 - warn: KeyError: unblock not found prefix: \"error: \"\n",
      "2016-06-14T20:08:08.929 - warn: KeyError: headlight not found prefix: \"error: \"\n",
      "2016-06-14T20:08:10.507 - warn: KeyError: devalue not found prefix: \"error: \"\n",
      "2016-06-14T20:08:10.616 - warn: KeyError: escapologist not found prefix: \"error: \"\n",
      "2016-06-14T20:08:10.946 - warn: KeyError: buoy not found prefix: \"error: \"\n",
      "2016-06-14T20:08:11.396 - warn: KeyError: matchstick not found prefix: \"error: \"\n",
      "2016-06-14T20:08:12.03 - warn: KeyError: demerit not found prefix: \"error: \"\n",
      "2016-06-14T20:08:12.116 - warn: KeyError: tombac not found prefix: \"error: \"\n",
      "2016-06-14T20:08:12.419 - warn: KeyError: nutriment not found prefix: \"error: \"\n",
      "2016-06-14T20:08:13.923 - warn: KeyError: mother-in-law not found prefix: \"error: \"\n",
      "2016-06-14T20:08:14.018 - warn: KeyError: stepper not found prefix: \"error: \"\n",
      "2016-06-14T20:08:18.012 - warn: KeyError: siphon not found prefix: \"error: \"\n",
      "2016-06-14T20:08:18.06 - warn: KeyError: llano not found prefix: \"error: \"\n",
      "2016-06-14T20:08:20.13 - warn: KeyError: self-preservation not found prefix: \"error: \"\n",
      "2016-06-14T20:08:20.796 - warn: KeyError: poser not found prefix: \"error: \"\n",
      "2016-06-14T20:08:20.958 - warn: KeyError: academician not found prefix: \"error: \"\n",
      "2016-06-14T20:08:21.252 - warn: KeyError: moneymaker not found prefix: \"error: \"\n",
      "2016-06-14T20:08:22.072 - warn: KeyError: louden not found prefix: \"error: \"\n",
      "2016-06-14T20:08:22.195 - warn: KeyError: anti-semitism not found prefix: \"error: \"\n",
      "2016-06-14T20:08:23.04 - warn: KeyError: bated not found prefix: \"error: \"\n",
      "2016-06-14T20:08:25.727 - warn: KeyError: cosmographer not found prefix: \"error: \"\n",
      "2016-06-14T20:08:26.367 - warn: KeyError: seepage not found prefix: \"error: \"\n",
      "2016-06-14T20:08:26.981 - warn: KeyError: worksheet not found prefix: \"error: \"\n",
      "2016-06-14T20:08:27.486 - warn: KeyError: grapeshot not found prefix: \"error: \"\n",
      "2016-06-14T20:08:31.649 - warn: KeyError: insubordinate not found prefix: \"error: \"\n",
      "2016-06-14T20:08:32.51 - warn: KeyError: tableware not found prefix: \"error: \"\n",
      "2016-06-14T20:08:35.217 - warn: KeyError: daze not found prefix: \"error: \"\n",
      "2016-06-14T20:08:36.773 - warn: KeyError: screwdriver not found prefix: \"error: \"\n",
      "2016-06-14T20:08:37.517 - warn: KeyError: seepage not found prefix: \"error: \"\n",
      "2016-06-14T20:08:37.757 - warn: KeyError: flimsy not found prefix: \"error: \"\n",
      "2016-06-14T20:08:38.017 - warn: KeyError: wetness not found prefix: \"error: \"\n",
      "2016-06-14T20:08:38.057 - warn: KeyError: light-skinned not found prefix: \"error: \"\n",
      "2016-06-14T20:08:38.914 - warn: KeyError: y2k not found prefix: \"error: \"\n",
      "2016-06-14T20:08:39.246 - warn: KeyError: siphon not found prefix: \"error: \"\n",
      "2016-06-14T20:08:39.668 - warn: KeyError: tableware not found prefix: \"error: \"\n",
      "2016-06-14T20:08:39.819 - warn: KeyError: relearn not found prefix: \"error: \"\n",
      "2016-06-14T20:08:39.971 - warn: KeyError: arpeggio not found prefix: \"error: \"\n",
      "2016-06-14T20:08:40.185 - warn: KeyError: bedlam not found prefix: \"error: \"\n",
      "2016-06-14T20:08:40.222 - warn: KeyError: nonprofessional not found prefix: \"error: \"\n",
      "2016-06-14T20:08:41.646 - warn: KeyError: calorific not found prefix: \"error: \"\n",
      "2016-06-14T20:08:42.17 - warn: KeyError: solemnize not found prefix: \"error: \"\n"
     ]
    },
    {
     "data": {
      "text/plain": [
       "2003-element Array{Float64,1}:\n",
       "  -0.0552722 \n",
       "  -0.201297  \n",
       " NaN         \n",
       "   0.433096  \n",
       "   0.287813  \n",
       "   0.343943  \n",
       "   0.449379  \n",
       "  -0.0186976 \n",
       "   0.25575   \n",
       "   0.0897515 \n",
       "   0.0684031 \n",
       "   0.0637212 \n",
       "   0.0568659 \n",
       "   ⋮         \n",
       "   0.0354389 \n",
       "   0.252676  \n",
       "   0.0384336 \n",
       "  -0.0615323 \n",
       "   0.134587  \n",
       "   0.0494938 \n",
       "  -0.0365748 \n",
       "   0.00632459\n",
       "  -0.0790521 \n",
       "   0.320475  \n",
       "   0.200819  \n",
       "   0.0998082 "
      ]
     },
     "execution_count": 35,
     "metadata": {},
     "output_type": "execute_result"
    }
   ],
   "source": [
    "local_sims = get_sims(ee,wordpairs,contexts)"
   ]
  },
  {
   "cell_type": "code",
   "execution_count": 36,
   "metadata": {
    "collapsed": false
   },
   "outputs": [
    {
     "data": {
      "text/plain": [
       "0.4036875361072294"
      ]
     },
     "execution_count": 36,
     "metadata": {},
     "output_type": "execute_result"
    }
   ],
   "source": [
    "corspearman(groundsim,local_sims)"
   ]
  },
  {
   "cell_type": "code",
   "execution_count": null,
   "metadata": {
    "collapsed": true
   },
   "outputs": [],
   "source": []
  }
 ],
 "metadata": {
  "kernelspec": {
   "display_name": "Julia 0.5.0-dev",
   "language": "julia",
   "name": "julia-0.5"
  },
  "language_info": {
   "file_extension": ".jl",
   "mimetype": "application/julia",
   "name": "julia",
   "version": "0.5.0"
  }
 },
 "nbformat": 4,
 "nbformat_minor": 0
}
