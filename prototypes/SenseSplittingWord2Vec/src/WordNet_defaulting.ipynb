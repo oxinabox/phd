{
 "cells": [
  {
   "cell_type": "code",
   "execution_count": 1,
   "metadata": {
    "collapsed": false,
    "scrolled": true
   },
   "outputs": [],
   "source": [
    "using PyCall"
   ]
  },
  {
   "cell_type": "code",
   "execution_count": 2,
   "metadata": {
    "collapsed": false
   },
   "outputs": [],
   "source": [
    "@pyimport nltk.corpus as nltk_corpus"
   ]
  },
  {
   "cell_type": "code",
   "execution_count": 6,
   "metadata": {
    "collapsed": false
   },
   "outputs": [
    {
     "data": {
      "text/plain": [
       "__anon__"
      ]
     },
     "execution_count": 6,
     "metadata": {},
     "output_type": "execute_result"
    }
   ],
   "source": [
    "wn = pywrap( nltk_corpus.wordnet)"
   ]
  },
  {
   "cell_type": "code",
   "execution_count": 16,
   "metadata": {
    "collapsed": false
   },
   "outputs": [
    {
     "data": {
      "text/plain": [
       "8"
      ]
     },
     "execution_count": 16,
     "metadata": {},
     "output_type": "execute_result"
    }
   ],
   "source": [
    "nltk_corpus.wordnet[:lemmas](\"A\") |> length"
   ]
  },
  {
   "cell_type": "code",
   "execution_count": 14,
   "metadata": {
    "collapsed": false
   },
   "outputs": [
    {
     "data": {
      "text/plain": [
       "22-element Array{Any,1}:\n",
       " PyObject Lemma('face.n.01.face')      \n",
       " PyObject Lemma('expression.n.01.face')\n",
       " PyObject Lemma('face.n.03.face')      \n",
       " PyObject Lemma('face.n.04.face')      \n",
       " PyObject Lemma('face.n.05.face')      \n",
       " PyObject Lemma('side.n.04.face')      \n",
       " PyObject Lemma('face.n.07.face')      \n",
       " PyObject Lemma('face.n.08.face')      \n",
       " PyObject Lemma('grimace.n.01.face')   \n",
       " PyObject Lemma('font.n.01.face')      \n",
       " PyObject Lemma('face.n.11.face')      \n",
       " PyObject Lemma('boldness.n.02.face')  \n",
       " PyObject Lemma('face.n.13.face')      \n",
       " PyObject Lemma('confront.v.02.face')  \n",
       " PyObject Lemma('confront.v.01.face')  \n",
       " PyObject Lemma('front.v.01.face')     \n",
       " PyObject Lemma('face.v.04.face')      \n",
       " PyObject Lemma('face.v.05.face')      \n",
       " PyObject Lemma('confront.v.03.face')  \n",
       " PyObject Lemma('face.v.07.face')      \n",
       " PyObject Lemma('face.v.08.face')      \n",
       " PyObject Lemma('face.v.09.face')      "
      ]
     },
     "execution_count": 14,
     "metadata": {},
     "output_type": "execute_result"
    }
   ],
   "source": [
    "wn.lemmas(\"face\") "
   ]
  },
  {
   "cell_type": "code",
   "execution_count": 17,
   "metadata": {
    "collapsed": false
   },
   "outputs": [
    {
     "name": "stderr",
     "output_type": "stream",
     "text": [
      "INFO: Cloning cache of WordNet from https://github.com/jbn/WordNet.jl.git\n",
      "INFO: Installing WordNet v0.0.1\n",
      "INFO: Package database updated\n",
      "INFO: METADATA is out-of-date — you may not have the latest version of WordNet\n",
      "INFO: Use `Pkg.update()` to get the latest versions of your packages\n"
     ]
    }
   ],
   "source": [
    "Pkg.add(\"WordNet\")"
   ]
  },
  {
   "cell_type": "code",
   "execution_count": null,
   "metadata": {
    "collapsed": true
   },
   "outputs": [],
   "source": []
  }
 ],
 "metadata": {
  "kernelspec": {
   "display_name": "Julia 0.5.0-dev",
   "language": "julia",
   "name": "julia-0.5"
  },
  "language_info": {
   "file_extension": ".jl",
   "mimetype": "application/julia",
   "name": "julia",
   "version": "0.5.0"
  }
 },
 "nbformat": 4,
 "nbformat_minor": 0
}
