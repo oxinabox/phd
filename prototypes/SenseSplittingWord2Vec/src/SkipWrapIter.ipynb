{
 "cells": [
  {
   "cell_type": "code",
   "execution_count": 1,
   "metadata": {
    "collapsed": false
   },
   "outputs": [
    {
     "name": "stderr",
     "output_type": "stream",
     "text": [
      "WARNING: Base.writemime is deprecated.\n",
      "  likely near /home/ubuntu/.julia/v0.5/IJulia/src/kernel.jl:31\n",
      "WARNING: Base.writemime is deprecated.\n",
      "  likely near /home/ubuntu/.julia/v0.5/IJulia/src/kernel.jl:31\n",
      "WARNING: Base.writemime is deprecated.\n",
      "  likely near /home/ubuntu/.julia/v0.5/IJulia/src/kernel.jl:31\n",
      "WARNING: Base.writemime is deprecated.\n",
      "  likely near /home/ubuntu/.julia/v0.5/IJulia/src/kernel.jl:31\n"
     ]
    }
   ],
   "source": [
    "immutable SkipWrapIterator{T}\n",
    "    source::T\n",
    "    skip::Integer\n",
    "end\n",
    "\n",
    "Base.eltype{T}(::SkipWrapIterator{T}) = Base.eltype(T)\n"
   ]
  },
  {
   "cell_type": "code",
   "execution_count": 2,
   "metadata": {
    "collapsed": false
   },
   "outputs": [
    {
     "name": "stderr",
     "output_type": "stream",
     "text": [
      "WARNING: Method definition eltype(Main.SkipWrapIterator{#T<:Any}) in module Main at In[1]:6 overwritten at In[2]:1.\n"
     ]
    }
   ],
   "source": [
    "Base.eltype{T}(::SkipWrapIterator{T}) = Base.eltype(T)\n",
    "function Base.iteratorsize{T}(::SkipWrapIterator{T}) \n",
    "    source_itersize = Base.iteratorsize(T)\n",
    "    if source_itersize == Base.HasShape() || source_itersize == Base.HasLength()\n",
    "        Base.HasLength() #Never give it a shape\n",
    "    else\n",
    "        Base.SizeUnknown()\n",
    "    end\n",
    "end\n",
    "\n",
    "Base.length(swi::SkipWrapIterator) = Base.length(swi.source)"
   ]
  },
  {
   "cell_type": "code",
   "execution_count": 3,
   "metadata": {
    "collapsed": false
   },
   "outputs": [],
   "source": [
    "function Base.start(swi::SkipWrapIterator)\n",
    "    source_initial_state = Base.start(swi.source)\n",
    "    source_state = deepcopy(source_initial_state)\n",
    "    for ii in 1:swi.skip\n",
    "        item, source_state = Base.next(swi.source, source_state)\n",
    "    end\n",
    "            \n",
    "    wrapback_progress = -1\n",
    "    (source_state, source_initial_state, wrapback_progress)\n",
    "end\n",
    "\n",
    "function Base.next(swi::SkipWrapIterator, state)\n",
    "    (source_state, source_initial_state, wrapback_progress) = state\n",
    "    if Base.done(swi.source, source_state) \n",
    "        #Do the wrap back\n",
    "        @assert (wrapback_progress == -1) \n",
    "        # This is our first time back\n",
    "        #println(\"Began wrap\")\n",
    "        wrapback_progress = 0\n",
    "        source_state = source_initial_state\n",
    "    end\n",
    "    if wrapback_progress >= 0\n",
    "        wrapback_progress += 1\n",
    "    end\n",
    "    #@show source_state\n",
    "    \n",
    "    item, source_state = Base.next(swi.source, source_state)\n",
    "    #@show (item,source_state)\n",
    "    item, (source_state, source_initial_state, wrapback_progress)\n",
    "end\n",
    "\n",
    "function Base.done(swi::SkipWrapIterator, state_d)\n",
    "    #@show state_d\n",
    "       \n",
    "    (source_state, source_initial_state, wrapback_progress) = state_d\n",
    "    if swi.skip == 0\n",
    "        Base.done(swi.source, source_state)\n",
    "    else\n",
    "        wrapback_progress >= swi.skip\n",
    "    end\n",
    "end"
   ]
  },
  {
   "cell_type": "code",
   "execution_count": 4,
   "metadata": {
    "collapsed": false
   },
   "outputs": [
    {
     "name": "stdout",
     "output_type": "stream",
     "text": [
      "Wrap Back Around Iterator: Error During Test\n",
      "  Test threw an exception of type AssertionError\n",
      "  Expression: collect(SkipWrapIterator(eachline(IOBuffer(\"a\\nb\\nc\\nd\\ne\\nf\\n\")),3)) == [\"d\\n\",\"e\\n\",\"f\\n\",\"a\\n\",\"b\\n\",\"c\\n\"]\n",
      "  AssertionError: wrapback_progress == -1\n",
      "   in next(::SkipWrapIterator{EachLine}, ::Tuple{Void,Void,Int64}) at ./In[3]:16\n",
      "   in _collect(::UnitRange{Int64}, ::SkipWrapIterator{EachLine}, ::Base.HasEltype, ::Base.SizeUnknown) at ./array.jl:241\n",
      "   in collect(::SkipWrapIterator{EachLine}) at ./array.jl:232\n",
      "   in macro expansion; at ./In[4]:11 [inlined]\n",
      "   in macro expansion; at ./test.jl:672 [inlined]\n",
      "   in anonymous at ./<missing>:?\n",
      "   in include_string(::String, ::String) at ./loading.jl:380\n",
      "   in execute_request_0x535c5df2(::ZMQ.Socket, ::IJulia.Msg) at /home/ubuntu/.julia/v0.5/IJulia/src/execute_request.jl:183\n",
      "   in eventloop(::ZMQ.Socket) at /home/ubuntu/.julia/v0.5/IJulia/src/IJulia.jl:143\n",
      "   in (::IJulia.##24#30)() at ./task.jl:309\n",
      "Test Summary:             | Pass  Error  Total\n",
      "  Wrap Back Around Iterator |    5      1      6\n"
     ]
    },
    {
     "ename": "LoadError",
     "evalue": "LoadError: Some tests did not pass: 5 passed, 0 failed, 1 errored, 0 broken.\nwhile loading In[4], in expression starting on line 2",
     "output_type": "error",
     "traceback": [
      "LoadError: Some tests did not pass: 5 passed, 0 failed, 1 errored, 0 broken.\nwhile loading In[4], in expression starting on line 2",
      "",
      " in finish(::Base.Test.DefaultTestSet) at ./test.jl:495",
      " in macro expansion; at ./test.jl:679 [inlined]",
      " in anonymous at ./<missing>:?",
      " in include_string(::String, ::String) at ./loading.jl:380",
      " in eventloop(::ZMQ.Socket) at /home/ubuntu/.julia/v0.5/IJulia/src/IJulia.jl:143",
      " in (::IJulia.##24#30)() at ./task.jl:309"
     ]
    }
   ],
   "source": [
    "using Base.Test\n",
    "@testset \"Wrap Back Around Iterator\" begin\n",
    "    @test collect(SkipWrapIterator([1,2,3,4,5], 0))== [1,2,3,4,5]\n",
    "    @test collect(SkipWrapIterator([1,2,3,4,5], 1)) == [2,3,4,5,1] \n",
    "    @test collect(SkipWrapIterator([1,2,3,4,5], 2)) == [3,4,5,1,2] \n",
    "    @test collect(SkipWrapIterator([1,2,3,4,5], 3)) == [4,5,1,2,3] \n",
    "\n",
    "    @test (collect(SkipWrapIterator(eachline(IOBuffer(\"a\\nb\\nc\\nd\\ne\\nf\\n\")),0)) ==\n",
    "        [\"a\\n\", \"b\\n\", \"c\\n\", \"d\\n\", \"e\\n\", \"f\\n\"])\n",
    "    \n",
    "    @test (collect(SkipWrapIterator(eachline(IOBuffer(\"a\\nb\\nc\\nd\\ne\\nf\\n\")),3)) ==\n",
    "        [\"d\\n\", \"e\\n\", \"f\\n\", \"a\\n\", \"b\\n\", \"c\\n\"])\n",
    "end"
   ]
  },
  {
   "cell_type": "code",
   "execution_count": 5,
   "metadata": {
    "collapsed": false
   },
   "outputs": [
    {
     "name": "stderr",
     "output_type": "stream",
     "text": [
      "WARNING: utf8(s::AbstractString) is deprecated, use String(s) instead.\n",
      " in depwarn(::String, ::Symbol) at ./deprecated.jl:64\n",
      " in utf8(::SubString{String}) at ./deprecated.jl:50\n",
      " in _collect(::Array{SubString{String},1}, ::Base.Generator{Array{SubString{String},1},Base.#utf8}, ::Base.EltypeUnknown, ::Base.HasShape) at ./array.jl:258\n",
      " in #error_content#12(::Symbol, ::String, ::Function, ::LoadError, ::Array{Ptr{Void},1}) at /home/ubuntu/.julia/v0.5/IJulia/src/execute_request.jl:75\n",
      " in execute_request_0x535c5df2(::ZMQ.Socket, ::IJulia.Msg) at /home/ubuntu/.julia/v0.5/IJulia/src/execute_request.jl:238\n",
      " in eventloop(::ZMQ.Socket) at /home/ubuntu/.julia/v0.5/IJulia/src/IJulia.jl:143\n",
      " in (::IJulia.##24#30)() at ./task.jl:309\n",
      "while loading /home/ubuntu/.julia/v0.5/IJulia/src/kernel.jl, in expression starting on line 31\n",
      "WARNING: utf8(s::AbstractString) is deprecated, use String(s) instead.\n",
      " in depwarn(::String, ::Symbol) at ./deprecated.jl:64\n",
      " in utf8(::SubString{String}) at ./deprecated.jl:50\n",
      " in collect_to!(::Array{String,1}, ::Base.Generator{Array{SubString{String},1},Base.#utf8}, ::Int64, ::Int64) at ./array.jl:277\n",
      " in _collect(::Array{SubString{String},1}, ::Base.Generator{Array{SubString{String},1},Base.#utf8}, ::Base.EltypeUnknown, ::Base.HasShape) at ./array.jl:259\n",
      " in #error_content#12(::Symbol, ::String, ::Function, ::LoadError, ::Array{Ptr{Void},1}) at /home/ubuntu/.julia/v0.5/IJulia/src/execute_request.jl:75\n",
      " in execute_request_0x535c5df2(::ZMQ.Socket, ::IJulia.Msg) at /home/ubuntu/.julia/v0.5/IJulia/src/execute_request.jl:238\n",
      " in eventloop(::ZMQ.Socket) at /home/ubuntu/.julia/v0.5/IJulia/src/IJulia.jl:143\n",
      " in (::IJulia.##24#30)() at ./task.jl:309\n",
      "while loading /home/ubuntu/.julia/v0.5/IJulia/src/kernel.jl, in expression starting on line 31\n"
     ]
    },
    {
     "name": "stdout",
     "output_type": "stream",
     "text": [
      "typeof(words_of(IOBuffer(\"a b c d e f\"))) = WordStreams.WordStream{String,Float32}\n"
     ]
    },
    {
     "name": "stderr",
     "output_type": "stream",
     "text": [
      "WARNING: Base.UTF8String is deprecated, use String instead.\n",
      "  likely near /home/ubuntu/.julia/v0.5/PooledElements/src/pooledstring.jl:480\n",
      "WARNING: Base.UTF8String is deprecated, use String instead.\n",
      "  likely near /home/ubuntu/.julia/v0.5/PooledElements/src/pooledstring.jl:480\n",
      "WARNING: Base.UTF8String is deprecated, use String instead.\n",
      "  likely near /home/ubuntu/.julia/v0.5/PooledElements/src/pooledstring.jl:480\n",
      "WARNING: Base.UTF8String is deprecated, use String instead.\n",
      "  likely near /home/ubuntu/.julia/v0.5/PooledElements/src/pooledstring.jl:480\n",
      "in Type at /home/ubuntu/.julia/v0.5/PooledElements/src/pool.jl\n",
      "WARNING: Method definition anynull(AbstractArray) in module NullableArrays at /home/ubuntu/.julia/v0.5/NullableArrays/src/primitives.jl:170 overwritten in module PooledElements at /home/ubuntu/.julia/v0.5/PooledElements/src/pooledstringarray.jl:243.\n"
     ]
    },
    {
     "data": {
      "text/plain": [
       "Base.SizeUnknown()"
      ]
     },
     "execution_count": 5,
     "metadata": {},
     "output_type": "execute_result"
    }
   ],
   "source": [
    "using WordStreams\n",
    "@show typeof(words_of(IOBuffer(\"a b c d e f\")))\n",
    "\n",
    "Base.iteratorsize(typeof(words_of(IOBuffer(\"a b c d e f\"))))"
   ]
  },
  {
   "cell_type": "code",
   "execution_count": 6,
   "metadata": {
    "collapsed": false
   },
   "outputs": [
    {
     "name": "stderr",
     "output_type": "stream",
     "text": [
      "WARNING: Base.writemime is deprecated.\n",
      "  likely near /home/ubuntu/.julia/v0.5/IJulia/src/kernel.jl:31\n",
      "WARNING: Base.writemime is deprecated.\n",
      "  likely near /home/ubuntu/.julia/v0.5/IJulia/src/kernel.jl:31\n",
      "WARNING: Base.writemime is deprecated.\n",
      "  likely near /home/ubuntu/.julia/v0.5/IJulia/src/kernel.jl:31\n",
      "WARNING: Base.writemime is deprecated.\n",
      "  likely near /home/ubuntu/.julia/v0.5/IJulia/src/kernel.jl:31\n",
      "WARNING: Base.writemime is deprecated.\n",
      "  likely near /home/ubuntu/.julia/v0.5/IJulia/src/kernel.jl:31\n",
      "in display_dict at /home/ubuntu/.julia/v0.5/IJulia/src/execute_request.jl\n"
     ]
    },
    {
     "data": {
      "text/plain": [
       "Base.SizeUnknown()"
      ]
     },
     "execution_count": 6,
     "metadata": {},
     "output_type": "execute_result"
    }
   ],
   "source": [
    "Base.iteratorsize(WordStream{String,Float32})"
   ]
  },
  {
   "cell_type": "code",
   "execution_count": 16,
   "metadata": {
    "collapsed": false,
    "scrolled": true
   },
   "outputs": [
    {
     "name": "stderr",
     "output_type": "stream",
     "text": [
      "WARNING: utf8(s::AbstractString) is deprecated, use String(s) instead.\n",
      " in depwarn(::String, ::Symbol) at ./deprecated.jl:64\n",
      " in utf8(::String) at ./deprecated.jl:50\n",
      " in pstring at /home/ubuntu/.julia/v0.5/PooledElements/src/pooledstring.jl:0 [inlined]\n",
      " in unrated_next_word!(::WordStreams.WordStream{String,Float32}, ::IOStream) at /mnt/phd/prototypes/SenseSplittingWord2Vec/src/WordStreams.jl:54\n",
      " in start(::WordStreams.WordStream{String,Float32}) at /mnt/phd/prototypes/SenseSplittingWord2Vec/src/WordStreams.jl:73\n",
      " in start(::SkipWrapIterator{WordStreams.WordStream{String,Float32}}) at ./In[3]:2\n",
      " in _collect(::UnitRange{Int64}, ::SkipWrapIterator{WordStreams.WordStream{String,Float32}}, ::Base.HasEltype, ::Base.SizeUnknown) at ./array.jl:241\n",
      " in collect(::SkipWrapIterator{WordStreams.WordStream{String,Float32}}) at ./array.jl:232\n",
      " in include_string(::String, ::String) at ./loading.jl:380\n",
      " in execute_request_0x535c5df2(::ZMQ.Socket, ::IJulia.Msg) at /home/ubuntu/.julia/v0.5/IJulia/src/execute_request.jl:183\n",
      " in eventloop(::ZMQ.Socket) at /home/ubuntu/.julia/v0.5/IJulia/src/IJulia.jl:143\n",
      " in (::IJulia.##24#30)() at ./task.jl:309\n",
      "while loading In[16], in expression starting on line 1\n",
      "WARNING: utf8(s::AbstractString) is deprecated, use String(s) instead.\n",
      " in depwarn(::String, ::Symbol) at ./deprecated.jl:64\n",
      " in utf8(::String) at ./deprecated.jl:50\n",
      " in pstring at /home/ubuntu/.julia/v0.5/PooledElements/src/pooledstring.jl:0 [inlined]\n",
      " in unrated_next_word!(::WordStreams.WordStream{String,Float32}, ::IOStream) at /mnt/phd/prototypes/SenseSplittingWord2Vec/src/WordStreams.jl:62\n",
      " in next(::WordStreams.WordStream{String,Float32}, ::Tuple{PooledElements.PooledString{String,UInt64,PooledElements.Pool{String,UInt64,0x8e37314a04fefa0f}},IOStream}) at /mnt/phd/prototypes/SenseSplittingWord2Vec/src/WordStreams.jl:94\n",
      " in next(::SkipWrapIterator{WordStreams.WordStream{String,Float32}}, ::Tuple{Tuple{PooledElements.PooledString{String,UInt64,PooledElements.Pool{String,UInt64,0x8e37314a04fefa0f}},IOStream},Tuple{PooledElements.PooledString{String,UInt64,PooledElements.Pool{String,UInt64,0x8e37314a04fefa0f}},IOStream},Int64}) at ./In[3]:27\n",
      " in _collect(::UnitRange{Int64}, ::SkipWrapIterator{WordStreams.WordStream{String,Float32}}, ::Base.HasEltype, ::Base.SizeUnknown) at ./array.jl:241\n",
      " in collect(::SkipWrapIterator{WordStreams.WordStream{String,Float32}}) at ./array.jl:232\n",
      " in include_string(::String, ::String) at ./loading.jl:380\n",
      " in execute_request_0x535c5df2(::ZMQ.Socket, ::IJulia.Msg) at /home/ubuntu/.julia/v0.5/IJulia/src/execute_request.jl:183\n",
      " in eventloop(::ZMQ.Socket) at /home/ubuntu/.julia/v0.5/IJulia/src/IJulia.jl:143\n",
      " in (::IJulia.##24#30)() at ./task.jl:309\n",
      "while loading In[16], in expression starting on line 1\n"
     ]
    },
    {
     "data": {
      "text/plain": [
       "6-element Array{String,1}:\n",
       " \"a\"\n",
       " \"b\"\n",
       " \"c\"\n",
       " \"d\"\n",
       " \"e\"\n",
       " \"f\""
      ]
     },
     "execution_count": 16,
     "metadata": {},
     "output_type": "execute_result"
    }
   ],
   "source": [
    "collect(SkipWrapIterator(words_of(open(\"eg.txt\",\"r\")),0))"
   ]
  },
  {
   "cell_type": "code",
   "execution_count": 17,
   "metadata": {
    "collapsed": false
   },
   "outputs": [
    {
     "data": {
      "text/plain": [
       "6-element Array{String,1}:\n",
       " \"d\"\n",
       " \"e\"\n",
       " \"f\"\n",
       " \"a\"\n",
       " \"b\"\n",
       " \"c\""
      ]
     },
     "execution_count": 17,
     "metadata": {},
     "output_type": "execute_result"
    }
   ],
   "source": [
    "collect(SkipWrapIterator(words_of(open(\"eg.txt\",\"r\")),3))"
   ]
  },
  {
   "cell_type": "code",
   "execution_count": null,
   "metadata": {
    "collapsed": false
   },
   "outputs": [],
   "source": [
    "Base.it"
   ]
  },
  {
   "cell_type": "code",
   "execution_count": null,
   "metadata": {
    "collapsed": false
   },
   "outputs": [
    {
     "data": {
      "text/html": [
       "32 methods for generic function <b>iteratorsize</b>:<ul><li> iteratorsize(::<b>Type{EachLine}</b>) at <a href=\"https://github.com/JuliaLang/julia/tree/f8d67f7521287d9325e91fd2142dad5f222e6eaf/base/io.jl#L383\" target=\"_blank\">io.jl:383</a></li> <li> iteratorsize(::<b>Type{Base.RegexMatchIterator}</b>) at <a href=\"https://github.com/JuliaLang/julia/tree/f8d67f7521287d9325e91fd2142dad5f222e6eaf/base/regex.jl#L325\" target=\"_blank\">regex.jl:325</a></li> <li> iteratorsize(::<b>Type{Task}</b>) at <a href=\"https://github.com/JuliaLang/julia/tree/f8d67f7521287d9325e91fd2142dad5f222e6eaf/base/task.jl#L242\" target=\"_blank\">task.jl:242</a></li> <li> iteratorsize(::<b>Type{Base.AsyncGenerator}</b>) at <a href=\"https://github.com/JuliaLang/julia/tree/f8d67f7521287d9325e91fd2142dad5f222e6eaf/base/asyncmap.jl#L169\" target=\"_blank\">asyncmap.jl:169</a></li> <li> iteratorsize(::<b>Type{Base.LibGit2.GitBranchIter}</b>) at <a href=\"https://github.com/JuliaLang/julia/tree/f8d67f7521287d9325e91fd2142dad5f222e6eaf/base/libgit2/reference.jl#L215\" target=\"_blank\">libgit2/reference.jl:215</a></li> <li> iteratorsize(::<b>Type{Base.LibGit2.GitRevWalker}</b>) at <a href=\"https://github.com/JuliaLang/julia/tree/f8d67f7521287d9325e91fd2142dad5f222e6eaf/base/libgit2/walker.jl#L28\" target=\"_blank\">libgit2/walker.jl:28</a></li> <li> iteratorsize(::<b>Type{WordStreams.SlidingWindow}</b>) at <a href=\"https://github.com/oxinabox/phd/tree/ca5472338add6b26fabb1fd5fbb86de4b7265ddc/prototypes/SenseSplittingWord2Vec/src/WordStreams.jl#L111\" target=\"_blank\">/mnt/phd/prototypes/SenseSplittingWord2Vec/src/WordStreams.jl:111</a></li> <li> iteratorsize<i>{T<:AbstractArray{T,N}}</i>(::<b>Type{T}</b>) at <a href=\"https://github.com/JuliaLang/julia/tree/f8d67f7521287d9325e91fd2142dad5f222e6eaf/base/generator.jl#L54\" target=\"_blank\">generator.jl:54</a></li> <li> iteratorsize<i>{I,F}</i>(::<b>Type{Base.Generator{I,F}}</b>) at <a href=\"https://github.com/JuliaLang/julia/tree/f8d67f7521287d9325e91fd2142dad5f222e6eaf/base/generator.jl#L55\" target=\"_blank\">generator.jl:55</a></li> <li> iteratorsize<i>{T<:Number}</i>(::<b>Type{T}</b>) at <a href=\"https://github.com/JuliaLang/julia/tree/f8d67f7521287d9325e91fd2142dad5f222e6eaf/base/number.jl#L16\" target=\"_blank\">number.jl:16</a></li> <li> iteratorsize<i>{I}</i>(::<b>Type{Enumerate{I}}</b>) at <a href=\"https://github.com/JuliaLang/julia/tree/f8d67f7521287d9325e91fd2142dad5f222e6eaf/base/iterator.jl#L33\" target=\"_blank\">iterator.jl:33</a></li> <li> iteratorsize<i>{I}</i>(::<b>Type{Base.Zip1{I}}</b>) at <a href=\"https://github.com/JuliaLang/julia/tree/f8d67f7521287d9325e91fd2142dad5f222e6eaf/base/iterator.jl#L60\" target=\"_blank\">iterator.jl:60</a></li> <li> iteratorsize<i>{I1,I2}</i>(::<b>Type{Base.Zip2{I1,I2}}</b>) at <a href=\"https://github.com/JuliaLang/julia/tree/f8d67f7521287d9325e91fd2142dad5f222e6eaf/base/iterator.jl#L79\" target=\"_blank\">iterator.jl:79</a></li> <li> iteratorsize<i>{I1,I2}</i>(::<b>Type{Zip{I1,I2}}</b>) at <a href=\"https://github.com/JuliaLang/julia/tree/f8d67f7521287d9325e91fd2142dad5f222e6eaf/base/iterator.jl#L103\" target=\"_blank\">iterator.jl:103</a></li> <li> iteratorsize<i>{T<:Filter{F,I}}</i>(::<b>Type{T}</b>) at <a href=\"https://github.com/JuliaLang/julia/tree/f8d67f7521287d9325e91fd2142dad5f222e6eaf/base/iterator.jl#L144\" target=\"_blank\">iterator.jl:144</a></li> <li> iteratorsize<i>{I,S}</i>(::<b>Type{Base.Rest{I,S}}</b>) at <a href=\"https://github.com/JuliaLang/julia/tree/f8d67f7521287d9325e91fd2142dad5f222e6eaf/base/iterator.jl#L162\" target=\"_blank\">iterator.jl:162</a></li> <li> iteratorsize<i>{S}</i>(::<b>Type{Base.Count{S}}</b>) at <a href=\"https://github.com/JuliaLang/julia/tree/f8d67f7521287d9325e91fd2142dad5f222e6eaf/base/iterator.jl#L199\" target=\"_blank\">iterator.jl:199</a></li> <li> iteratorsize<i>{I}</i>(::<b>Type{Base.Take{I}}</b>) at <a href=\"https://github.com/JuliaLang/julia/tree/f8d67f7521287d9325e91fd2142dad5f222e6eaf/base/iterator.jl#L213\" target=\"_blank\">iterator.jl:213</a></li> <li> iteratorsize<i>{I}</i>(::<b>Type{Base.Drop{I}}</b>) at <a href=\"https://github.com/JuliaLang/julia/tree/f8d67f7521287d9325e91fd2142dad5f222e6eaf/base/iterator.jl#L242\" target=\"_blank\">iterator.jl:242</a></li> <li> iteratorsize<i>{I}</i>(::<b>Type{Base.Cycle{I}}</b>) at <a href=\"https://github.com/JuliaLang/julia/tree/f8d67f7521287d9325e91fd2142dad5f222e6eaf/base/iterator.jl#L269\" target=\"_blank\">iterator.jl:269</a></li> <li> iteratorsize<i>{O}</i>(::<b>Type{Base.Repeated{O}}</b>) at <a href=\"https://github.com/JuliaLang/julia/tree/f8d67f7521287d9325e91fd2142dad5f222e6eaf/base/iterator.jl#L302\" target=\"_blank\">iterator.jl:302</a></li> <li> iteratorsize<i>{I}</i>(::<b>Type{Base.Prod1{I}}</b>) at <a href=\"https://github.com/JuliaLang/julia/tree/f8d67f7521287d9325e91fd2142dad5f222e6eaf/base/iterator.jl#L343\" target=\"_blank\">iterator.jl:343</a></li> <li> iteratorsize<i>{I1,I2}</i>(::<b>Type{Base.Prod2{I1,I2}}</b>) at <a href=\"https://github.com/JuliaLang/julia/tree/f8d67f7521287d9325e91fd2142dad5f222e6eaf/base/iterator.jl#L372\" target=\"_blank\">iterator.jl:372</a></li> <li> iteratorsize<i>{I1,I2}</i>(::<b>Type{Base.Prod{I1,I2}}</b>) at <a href=\"https://github.com/JuliaLang/julia/tree/f8d67f7521287d9325e91fd2142dad5f222e6eaf/base/iterator.jl#L409\" target=\"_blank\">iterator.jl:409</a></li> <li> iteratorsize<i>{T<:Base.IteratorND{I,N}}</i>(::<b>Type{T}</b>) at <a href=\"https://github.com/JuliaLang/julia/tree/f8d67f7521287d9325e91fd2142dad5f222e6eaf/base/iterator.jl#L453\" target=\"_blank\">iterator.jl:453</a></li> <li> iteratorsize<i>{I}</i>(::<b>Type{Base.Flatten{I}}</b>) at <a href=\"https://github.com/JuliaLang/julia/tree/f8d67f7521287d9325e91fd2142dad5f222e6eaf/base/iterator.jl#L481\" target=\"_blank\">iterator.jl:481</a></li> <li> iteratorsize<i>{I}</i>(::<b>Type{CartesianRange{I}}</b>) at <a href=\"https://github.com/JuliaLang/julia/tree/f8d67f7521287d9325e91fd2142dad5f222e6eaf/base/multidimensional.jl#L94\" target=\"_blank\">multidimensional.jl:94</a></li> <li> iteratorsize<i>{C<:Channel{T}}</i>(::<b>Type{C}</b>) at <a href=\"https://github.com/JuliaLang/julia/tree/f8d67f7521287d9325e91fd2142dad5f222e6eaf/base/channels.jl#L99\" target=\"_blank\">channels.jl:99</a></li> <li> iteratorsize<i>{S,F}</i>(::<b>Type{WordStreams.WordStream{S,F}}</b>) at <a href=\"https://github.com/oxinabox/phd/tree/ca5472338add6b26fabb1fd5fbb86de4b7265ddc/prototypes/SenseSplittingWord2Vec/src/WordStreams.jl#L81\" target=\"_blank\">/mnt/phd/prototypes/SenseSplittingWord2Vec/src/WordStreams.jl:81</a></li> <li> iteratorsize(::<b>Type</b>) at <a href=\"https://github.com/JuliaLang/julia/tree/f8d67f7521287d9325e91fd2142dad5f222e6eaf/base/generator.jl#L37\" target=\"_blank\">generator.jl:37</a></li> <li> iteratorsize<i>{T}</i>(::<b>SkipWrapIterator{T}</b>) at In[2]:3</li> <li> iteratorsize(x) at <a href=\"https://github.com/JuliaLang/julia/tree/f8d67f7521287d9325e91fd2142dad5f222e6eaf/base/generator.jl#L36\" target=\"_blank\">generator.jl:36</a></li> </ul>"
      ],
      "text/plain": [
       "# 32 methods for generic function \"iteratorsize\":\n",
       "iteratorsize(::Type{EachLine}) at io.jl:383\n",
       "iteratorsize(::Type{Base.RegexMatchIterator}) at regex.jl:325\n",
       "iteratorsize(::Type{Task}) at task.jl:242\n",
       "iteratorsize(::Type{Base.AsyncGenerator}) at asyncmap.jl:169\n",
       "iteratorsize(::Type{Base.LibGit2.GitBranchIter}) at libgit2/reference.jl:215\n",
       "iteratorsize(::Type{Base.LibGit2.GitRevWalker}) at libgit2/walker.jl:28\n",
       "iteratorsize(::Type{WordStreams.SlidingWindow}) at /mnt/phd/prototypes/SenseSplittingWord2Vec/src/WordStreams.jl:111\n",
       "iteratorsize{T<:AbstractArray{T,N}}(::Type{T}) at generator.jl:54\n",
       "iteratorsize{I,F}(::Type{Base.Generator{I,F}}) at generator.jl:55\n",
       "iteratorsize{T<:Number}(::Type{T}) at number.jl:16\n",
       "iteratorsize{I}(::Type{Enumerate{I}}) at iterator.jl:33\n",
       "iteratorsize{I}(::Type{Base.Zip1{I}}) at iterator.jl:60\n",
       "iteratorsize{I1,I2}(::Type{Base.Zip2{I1,I2}}) at iterator.jl:79\n",
       "iteratorsize{I1,I2}(::Type{Zip{I1,I2}}) at iterator.jl:103\n",
       "iteratorsize{T<:Filter{F,I}}(::Type{T}) at iterator.jl:144\n",
       "iteratorsize{I,S}(::Type{Base.Rest{I,S}}) at iterator.jl:162\n",
       "iteratorsize{S}(::Type{Base.Count{S}}) at iterator.jl:199\n",
       "iteratorsize{I}(::Type{Base.Take{I}}) at iterator.jl:213\n",
       "iteratorsize{I}(::Type{Base.Drop{I}}) at iterator.jl:242\n",
       "iteratorsize{I}(::Type{Base.Cycle{I}}) at iterator.jl:269\n",
       "iteratorsize{O}(::Type{Base.Repeated{O}}) at iterator.jl:302\n",
       "iteratorsize{I}(::Type{Base.Prod1{I}}) at iterator.jl:343\n",
       "iteratorsize{I1,I2}(::Type{Base.Prod2{I1,I2}}) at iterator.jl:372\n",
       "iteratorsize{I1,I2}(::Type{Base.Prod{I1,I2}}) at iterator.jl:409\n",
       "iteratorsize{T<:Base.IteratorND{I,N}}(::Type{T}) at iterator.jl:453\n",
       "iteratorsize{I}(::Type{Base.Flatten{I}}) at iterator.jl:481\n",
       "iteratorsize{I}(::Type{CartesianRange{I}}) at multidimensional.jl:94\n",
       "iteratorsize{C<:Channel{T}}(::Type{C}) at channels.jl:99\n",
       "iteratorsize{S,F}(::Type{WordStreams.WordStream{S,F}}) at /mnt/phd/prototypes/SenseSplittingWord2Vec/src/WordStreams.jl:81\n",
       "iteratorsize(::Type) at generator.jl:37\n",
       "iteratorsize{T}(::SkipWrapIterator{T}) at In[2]:3\n",
       "iteratorsize(x) at generator.jl:36"
      ]
     },
     "execution_count": 10,
     "metadata": {},
     "output_type": "execute_result"
    }
   ],
   "source": [
    "methods(Base.iteratorsize)"
   ]
  },
  {
   "cell_type": "code",
   "execution_count": null,
   "metadata": {
    "collapsed": false
   },
   "outputs": [
    {
     "name": "stderr",
     "output_type": "stream",
     "text": [
      "WARNING: Base.writemime is deprecated.\n",
      "  likely near /home/ubuntu/.julia/v0.5/IJulia/src/kernel.jl:31\n",
      "WARNING: Base.writemime is deprecated.\n",
      "  likely near /home/ubuntu/.julia/v0.5/IJulia/src/kernel.jl:31\n",
      "WARNING: Base.writemime is deprecated.\n",
      "  likely near /home/ubuntu/.julia/v0.5/IJulia/src/kernel.jl:31\n",
      "WARNING: Base.writemime is deprecated.\n",
      "  likely near /home/ubuntu/.julia/v0.5/IJulia/src/kernel.jl:31\n",
      "WARNING: Base.writemime is deprecated.\n",
      "  likely near /home/ubuntu/.julia/v0.5/IJulia/src/kernel.jl:31\n",
      "in display_dict at /home/ubuntu/.julia/v0.5/IJulia/src/execute_request.jl\n"
     ]
    },
    {
     "data": {
      "text/plain": [
       "Base.AbstractIOBuffer{Array{UInt8,1}}"
      ]
     },
     "execution_count": 11,
     "metadata": {},
     "output_type": "execute_result"
    },
    {
     "name": "stderr",
     "output_type": "stream",
     "text": [
      "WARNING: Base.writemime is deprecated.\n",
      "  likely near /home/ubuntu/.julia/v0.5/IJulia/src/kernel.jl:31\n",
      "WARNING: Base.writemime is deprecated.\n",
      "  likely near /home/ubuntu/.julia/v0.5/IJulia/src/kernel.jl:31\n",
      "WARNING: Base.writemime is deprecated.\n",
      "  likely near /home/ubuntu/.julia/v0.5/IJulia/src/kernel.jl:31\n",
      "WARNING: Base.writemime is deprecated.\n",
      "  likely near /home/ubuntu/.julia/v0.5/IJulia/src/kernel.jl:31\n",
      "WARNING: Base.writemime is deprecated.\n",
      "  likely near /home/ubuntu/.julia/v0.5/IJulia/src/kernel.jl:31\n",
      "in display_dict at /home/ubuntu/.julia/v0.5/IJulia/src/execute_request.jl\n"
     ]
    }
   ],
   "source": [
    "IOBuffer"
   ]
  }
 ],
 "metadata": {
  "kernelspec": {
   "display_name": "Julia 0.5.0-dev",
   "language": "julia",
   "name": "julia-0.5"
  },
  "language_info": {
   "file_extension": ".jl",
   "mimetype": "application/julia",
   "name": "julia",
   "version": "0.5.0"
  }
 },
 "nbformat": 4,
 "nbformat_minor": 0
}
