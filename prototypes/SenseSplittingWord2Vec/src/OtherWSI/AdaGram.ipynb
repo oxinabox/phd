{
 "cells": [
  {
   "cell_type": "code",
   "execution_count": 1,
   "metadata": {
    "collapsed": false
   },
   "outputs": [
    {
     "name": "stderr",
     "output_type": "stream",
     "text": [
      "WARNING: Base.ASCIIString is deprecated, use String instead.\n",
      "  likely near /home/ubuntu/.julia/v0.5/AdaGram/src/AdaGram.jl:49\n",
      "WARNING: Base.ASCIIString is deprecated, use String instead.\n",
      "  likely near /home/ubuntu/.julia/v0.5/AdaGram/src/AdaGram.jl:49\n",
      "WARNING: Base.ASCIIString is deprecated, use String instead.\n",
      "  likely near /home/ubuntu/.julia/v0.5/AdaGram/src/AdaGram.jl:49\n",
      "WARNING: Base.ASCIIString is deprecated, use String instead.\n",
      "  likely near /home/ubuntu/.julia/v0.5/AdaGram/src/AdaGram.jl:49\n",
      "WARNING: Base.ASCIIString is deprecated, use String instead.\n",
      "  likely near /home/ubuntu/.julia/v0.5/AdaGram/src/AdaGram.jl:49\n",
      "WARNING: Base.ASCIIString is deprecated, use String instead.\n",
      "  likely near /home/ubuntu/.julia/v0.5/AdaGram/src/AdaGram.jl:49\n",
      "WARNING: Base.ASCIIString is deprecated, use String instead.\n",
      "  likely near /home/ubuntu/.julia/v0.5/AdaGram/src/AdaGram.jl:49\n",
      "WARNING: Base.ASCIIString is deprecated, use String instead.\n",
      "  likely near /home/ubuntu/.julia/v0.5/AdaGram/src/AdaGram.jl:49\n",
      "WARNING: Base.ASCIIString is deprecated, use String instead.\n",
      "  likely near /home/ubuntu/.julia/v0.5/AdaGram/src/AdaGram.jl:49\n",
      "WARNING: Base.ASCIIString is deprecated, use String instead.\n",
      "  likely near /home/ubuntu/.julia/v0.5/AdaGram/src/AdaGram.jl:49\n",
      "WARNING: Base.ASCIIString is deprecated, use String instead.\n",
      "  likely near /home/ubuntu/.julia/v0.5/AdaGram/src/AdaGram.jl:49\n",
      "WARNING: Base.ASCIIString is deprecated, use String instead.\n",
      "  likely near /home/ubuntu/.julia/v0.5/AdaGram/src/AdaGram.jl:49\n",
      "WARNING: Base.ASCIIString is deprecated, use String instead.\n",
      "  likely near /home/ubuntu/.julia/v0.5/AdaGram/src/AdaGram.jl:49\n",
      "WARNING: Base.ASCIIString is deprecated, use String instead.\n",
      "  likely near /home/ubuntu/.julia/v0.5/AdaGram/src/AdaGram.jl:49\n",
      "WARNING: Base.ASCIIString is deprecated, use String instead.\n",
      "  likely near /home/ubuntu/.julia/v0.5/AdaGram/src/AdaGram.jl:49\n",
      "WARNING: Base.ASCIIString is deprecated, use String instead.\n",
      "  likely near /home/ubuntu/.julia/v0.5/AdaGram/src/AdaGram.jl:49\n",
      "WARNING: Base.ASCIIString is deprecated, use String instead.\n",
      "  likely near /home/ubuntu/.julia/v0.5/AdaGram/src/AdaGram.jl:49\n",
      "WARNING: Base.ASCIIString is deprecated, use String instead.\n",
      "  likely near /home/ubuntu/.julia/v0.5/AdaGram/src/AdaGram.jl:49\n",
      "WARNING: Base.ASCIIString is deprecated, use String instead.\n",
      "  likely near /home/ubuntu/.julia/v0.5/AdaGram/src/AdaGram.jl:49\n",
      "WARNING: Base.ASCIIString is deprecated, use String instead.\n",
      "  likely near /home/ubuntu/.julia/v0.5/AdaGram/src/AdaGram.jl:49\n",
      "WARNING: Base.ASCIIString is deprecated, use String instead.\n",
      "  likely near /home/ubuntu/.julia/v0.5/AdaGram/src/AdaGram.jl:49\n",
      "WARNING: Base.ASCIIString is deprecated, use String instead.\n",
      "  likely near /home/ubuntu/.julia/v0.5/AdaGram/src/AdaGram.jl:49\n",
      "WARNING: Base.ASCIIString is deprecated, use String instead.\n",
      "  likely near /home/ubuntu/.julia/v0.5/AdaGram/src/AdaGram.jl:49\n",
      "WARNING: Base.ASCIIString is deprecated, use String instead.\n",
      "  likely near /home/ubuntu/.julia/v0.5/AdaGram/src/AdaGram.jl:49\n",
      "WARNING: Base.ASCIIString is deprecated, use String instead.\n",
      "  likely near /home/ubuntu/.julia/v0.5/AdaGram/src/AdaGram.jl:49\n",
      "WARNING: Base.ASCIIString is deprecated, use String instead.\n",
      "  likely near /home/ubuntu/.julia/v0.5/AdaGram/src/AdaGram.jl:49\n",
      "WARNING: Base.ASCIIString is deprecated, use String instead.\n",
      "  likely near /home/ubuntu/.julia/v0.5/AdaGram/src/AdaGram.jl:49\n",
      "WARNING: Base.ASCIIString is deprecated, use String instead.\n",
      "  likely near /home/ubuntu/.julia/v0.5/AdaGram/src/AdaGram.jl:49\n",
      "WARNING: Base.ASCIIString is deprecated, use String instead.\n",
      "  likely near /home/ubuntu/.julia/v0.5/AdaGram/src/AdaGram.jl:49\n",
      "WARNING: Base.ASCIIString is deprecated, use String instead.\n",
      "  likely near /home/ubuntu/.julia/v0.5/AdaGram/src/AdaGram.jl:49\n",
      "WARNING: Base.ASCIIString is deprecated, use String instead.\n",
      "  likely near /home/ubuntu/.julia/v0.5/AdaGram/src/AdaGram.jl:49\n",
      "WARNING: Base.ASCIIString is deprecated, use String instead.\n",
      "  likely near /home/ubuntu/.julia/v0.5/AdaGram/src/AdaGram.jl:49\n",
      "WARNING: Base.ASCIIString is deprecated, use String instead.\n",
      "  likely near /home/ubuntu/.julia/v0.5/AdaGram/src/AdaGram.jl:49\n"
     ]
    }
   ],
   "source": [
    "addprocs(10)\n",
    "using AdaGram"
   ]
  },
  {
   "cell_type": "code",
   "execution_count": 2,
   "metadata": {
    "collapsed": false
   },
   "outputs": [
    {
     "data": {
      "text/plain": [
       "r\"\""
      ]
     },
     "execution_count": 2,
     "metadata": {},
     "output_type": "execute_result"
    }
   ],
   "source": [
    "train_fn  =  \"../../eval/data/corpora/WikiCorp/tokenised_lowercase_WestburyLab.wikicorp.201004.txt\" #\"training text data\"\n",
    "#\n",
    "#output::AbstractString  = #\"file to save the model (in Julia format)\"\n",
    "dict_fn = \"../../eval/data/corpora/WikiCorp/tokenised_lowercase_WestburyLab.wikicorp.201004.1gram\" #\"dictionary file with word frequencies\"\n",
    "\n",
    "window = 4 #\"(max) window size\"\n",
    "min_freq  = 20 #\"min. frequency of the word\"\n",
    "remove_top_k = 0 #\"remove top K most frequent words\"\n",
    "dim  = 100 #\"dimensionality of representations\"\n",
    "prototypes = 5 #\"number of word prototypes\"\n",
    "alpha = 0.1 #\"prior probability of allocating a new prototype\"\n",
    "d  = 0.0 #\"parameter of Pitman-Yor process\"\n",
    "subsample = 1e-5 #\"subsampling treshold. useful value is 1e-5\"\n",
    "context_cut  = true #\"randomly reduce size of the context\"\n",
    "epochs = 1 #\"number of epochs to train\"\n",
    "initcount = 1. #\"initial weight (count) on first sense for each word\"\n",
    "stopwords =Set{AbstractString}() #\"list of stop words\"\n",
    "sense_treshold = 1e-10 #\"minimal probability of a meaning to contribute into gradients\"\n",
    "save_treshold = 1e-3 #\"minimal probability of a meaning to save after training\"\n",
    "regex = r\"\" #\"ignore words not matching provided regex\"\n"
   ]
  },
  {
   "cell_type": "code",
   "execution_count": 3,
   "metadata": {
    "collapsed": false
   },
   "outputs": [
    {
     "name": "stdout",
     "output_type": "stream",
     "text": [
      "Building dictionary... Done!\n"
     ]
    }
   ],
   "source": [
    "print(\"Building dictionary... \")\n",
    "vm, dict = read_from_file(dict_fn, dim, prototypes, min_freq,remove_top_k, stopwords; regex=regex)\n",
    "println(\"Done!\")\n"
   ]
  },
  {
   "cell_type": "code",
   "execution_count": 4,
   "metadata": {
    "collapsed": false
   },
   "outputs": [
    {
     "data": {
      "text/plain": [
       "0.0"
      ]
     },
     "execution_count": 4,
     "metadata": {},
     "output_type": "execute_result"
    }
   ],
   "source": [
    "vm.alpha = alpha\n",
    "vm.d = d"
   ]
  },
  {
   "cell_type": "code",
   "execution_count": null,
   "metadata": {
    "collapsed": false
   },
   "outputs": [
    {
     "name": "stderr",
     "output_type": "stream",
     "text": [
      "WARNING: remotecall(id::Integer,f::Function,args...) is deprecated, use remotecall(f,id::Integer,args...) instead.\n",
      " in depwarn(::String, ::Symbol) at ./deprecated.jl:64\n",
      " in remotecall(::Int64, ::Function, ::Int64, ::Vararg{Int64,N}) at ./deprecated.jl:50\n",
      " in #inplace_train_vectors!#18(::Int64, ::Float64, ::Void, ::Float64, ::Bool, ::Int64, ::Float64, ::Float64, ::AdaGram.#inplace_train_vectors!, ::AdaGram.VectorModel, ::AdaGram.Dictionary, ::String, ::Int64) at /home/ubuntu/.julia/v0.5/AdaGram/src/gradient.jl:154\n",
      " in (::AdaGram.#kw##inplace_train_vectors!)(::Array{Any,1}, ::AdaGram.#inplace_train_vectors!, ::AdaGram.VectorModel, ::AdaGram.Dictionary, ::String, ::Int64) at ./<missing>:0\n",
      " in include_string(::String, ::String) at ./loading.jl:380\n",
      " in execute_request_0x535c5df2(::ZMQ.Socket, ::IJulia.Msg) at /home/ubuntu/.julia/v0.5/IJulia/src/execute_request.jl:183\n",
      " in eventloop(::ZMQ.Socket) at /home/ubuntu/.julia/v0.5/IJulia/src/IJulia.jl:143\n",
      " in (::IJulia.##26#32)() at ./task.jl:309\n",
      "while loading In[5], in expression starting on line 1\n"
     ]
    },
    {
     "name": "stdout",
     "output_type": "stream",
     "text": [
      "\tFrom worker 2:\t64000 words read, 1296374/596129680\n",
      "\tFrom worker 2:\t0.02% -11.1842 0.0250 0.0250 2.14/3.00 3.13 kwords/sec\n",
      "\tFrom worker 2:\t0.02% -11.1178 0.0250 0.0250 2.00/3.00 3.84 kwords/sec\n",
      "\tFrom worker 2:\t0.02% -11.1022 0.0250 0.0250 1.91/3.00 3.90 kwords/sec\n",
      "\tFrom worker 2:\t0.02% -11.0636 0.0250 0.0250 1.84/3.00 3.92 kwords/sec\n",
      "\tFrom worker 3:\t64000 words read, 597414099/1192259360\n",
      "\tFrom worker 2:\t0.03% -11.0132 0.0250 0.0250 1.78/3.00 3.91 kwords/sec\n"
     ]
    }
   ],
   "source": [
    "inplace_train_vectors!(vm, dict, train_fn, window;\n",
    "                       threshold=subsample, context_cut=context_cut,\n",
    "                       epochs=epochs, init_count=initcount, sense_treshold=sense_treshold)\n",
    "\n"
   ]
  },
  {
   "cell_type": "code",
   "execution_count": null,
   "metadata": {
    "collapsed": false
   },
   "outputs": [],
   "source": [
    "save_model(args[\"output\"], vm, dict, args[\"save-treshold\"])"
   ]
  },
  {
   "cell_type": "code",
   "execution_count": null,
   "metadata": {
    "collapsed": true
   },
   "outputs": [],
   "source": [
    "S"
   ]
  }
 ],
 "metadata": {
  "kernelspec": {
   "display_name": "Julia 0.5.0-rc0",
   "language": "julia",
   "name": "julia-0.5"
  },
  "language_info": {
   "file_extension": ".jl",
   "mimetype": "application/julia",
   "name": "julia",
   "version": "0.5.0"
  }
 },
 "nbformat": 4,
 "nbformat_minor": 0
}
