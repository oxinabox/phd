{
 "cells": [
  {
   "cell_type": "code",
   "execution_count": null,
   "metadata": {
    "collapsed": false
   },
   "outputs": [],
   "source": [
    "addprocs(5)"
   ]
  },
  {
   "cell_type": "code",
   "execution_count": null,
   "metadata": {
    "collapsed": false,
    "scrolled": true
   },
   "outputs": [],
   "source": [
    "using WordDistributions\n",
    "using Utils\n",
    "using WordEmbeddings                                                                                                                                            \n",
    "using Training                                                                                                                                                  \n",
    "using Query\n",
    "using SoftmaxClassifier\n",
    "using WordStreams"
   ]
  },
  {
   "cell_type": "code",
   "execution_count": null,
   "metadata": {
    "collapsed": false,
    "scrolled": true
   },
   "outputs": [],
   "source": [
    "model_dir = \"../eval/models/ss\"                                                                                                                                         \n",
    "test_file = \"../test/data/text8_tiny\"                                                                                                                \n",
    "const ndims = 25                                                                                                                                                \n",
    "\n",
    "embed = WordSenseEmbedding(ndims, random_inited, huffman_tree, subsampling = 0.0, min_count=1)"
   ]
  },
  {
   "cell_type": "code",
   "execution_count": null,
   "metadata": {
    "collapsed": false
   },
   "outputs": [],
   "source": [
    "embed.distribution = word_distribution(test_file)\n",
    "embed.vocabulary = collect(keys(embed.distribution))\n",
    "\n",
    "initialize_embedding(embed, embed.init_type)        # initialize by the specified method\n",
    "Training.initialize_network(embed, embed.network_type)\n",
    "\n",
    "# determine the position in the tree for every word\n",
    "for (w, code) in Trees.leaves_of(embed.classification_tree)\n",
    "    embed.codebook[w] = code\n",
    "end\n",
    "print(\"done\")"
   ]
  },
  {
   "cell_type": "code",
   "execution_count": null,
   "metadata": {
    "collapsed": false,
    "scrolled": true
   },
   "outputs": [],
   "source": [
    "words = split(\"the all say the king is dead long live the king\")\n",
    "word = words[end÷2]\n",
    "context = [words[1:end÷2-1];words[end÷2+1:end]] "
   ]
  },
  {
   "cell_type": "code",
   "execution_count": null,
   "metadata": {
    "collapsed": true
   },
   "outputs": [],
   "source": [
    "windows= sliding_window(words_of(test_file, embed.distribution))"
   ]
  },
  {
   "cell_type": "code",
   "execution_count": null,
   "metadata": {
    "collapsed": false
   },
   "outputs": [],
   "source": [
    "first(windows)[end÷2]"
   ]
  },
  {
   "cell_type": "code",
   "execution_count": null,
   "metadata": {
    "collapsed": false
   },
   "outputs": [],
   "source": [
    "ch = RemoteChannel()"
   ]
  },
  {
   "cell_type": "code",
   "execution_count": null,
   "metadata": {
    "collapsed": false
   },
   "outputs": [],
   "source": [
    "@time remotecall(default_worker_pool(),embed,word,context, ch) do i_embed, i_word, i_context, i_ch\n",
    "    sense_id = Training.WSD(i_embed, i_word, i_context)\n",
    "    put!(i_ch, sense_id)\n",
    "end"
   ]
  },
  {
   "cell_type": "code",
   "execution_count": null,
   "metadata": {
    "collapsed": false
   },
   "outputs": [],
   "source": [
    "take!(ch)"
   ]
  },
  {
   "cell_type": "code",
   "execution_count": null,
   "metadata": {
    "collapsed": false,
    "scrolled": true
   },
   "outputs": [],
   "source": [
    "addprocs(5)"
   ]
  },
  {
   "cell_type": "code",
   "execution_count": null,
   "metadata": {
    "collapsed": false,
    "scrolled": true
   },
   "outputs": [],
   "source": [
    "\n",
    "function r(ch) \n",
    "    wkpool = default_worker_pool()\n",
    "    remotecall(wkpool, ch) do channel\n",
    "        for ii in 1:4\n",
    "            put!(channel,((myid(),ii)))\n",
    "            sleep(1)\n",
    "        end\n",
    "    end\n",
    "    wkpool\n",
    "end\n"
   ]
  },
  {
   "cell_type": "code",
   "execution_count": null,
   "metadata": {
    "collapsed": false
   },
   "outputs": [],
   "source": [
    "c1 = RemoteChannel()\n"
   ]
  },
  {
   "cell_type": "code",
   "execution_count": 2,
   "metadata": {
    "collapsed": false
   },
   "outputs": [
    {
     "ename": "LoadError",
     "evalue": "LoadError: UndefVarError: c1 not defined\nwhile loading In[2], in expression starting on line 1",
     "output_type": "error",
     "traceback": [
      "LoadError: UndefVarError: c1 not defined\nwhile loading In[2], in expression starting on line 1",
      "",
      " [inlined code] from ./int.jl:33",
      " in include_string(::String, ::String) at ./loading.jl:380"
     ]
    }
   ],
   "source": [
    "take!(c1)"
   ]
  },
  {
   "cell_type": "code",
   "execution_count": 3,
   "metadata": {
    "collapsed": false
   },
   "outputs": [],
   "source": [
    "using SoftmaxClassifier"
   ]
  },
  {
   "cell_type": "code",
   "execution_count": 4,
   "metadata": {
    "collapsed": false,
    "scrolled": true
   },
   "outputs": [
    {
     "data": {
      "text/plain": [
       "predict1 (generic function with 1 method)"
      ]
     },
     "execution_count": 4,
     "metadata": {},
     "output_type": "execute_result"
    },
    {
     "name": "stderr",
     "output_type": "stream",
     "text": [
      "WARNING: Base.ASCIIString is deprecated, use String instead.\n",
      "  likely near /home/ubuntu/.julia/v0.5/IJulia/src/kernel.jl:31\n",
      "WARNING: Base.ByteString is deprecated, use String instead.\n",
      "  likely near /home/ubuntu/.julia/v0.5/IJulia/src/kernel.jl:31\n",
      "WARNING: Base.ASCIIString is deprecated, use String instead.\n",
      "  likely near /home/ubuntu/.julia/v0.5/IJulia/src/kernel.jl:31\n",
      "WARNING: Base.ByteString is deprecated, use String instead.\n",
      "  likely near /home/ubuntu/.julia/v0.5/IJulia/src/kernel.jl:31\n",
      "WARNING: Base.ASCIIString is deprecated, use String instead.\n",
      "  likely near /home/ubuntu/.julia/v0.5/IJulia/src/kernel.jl:31\n",
      "WARNING: Base.ByteString is deprecated, use String instead.\n",
      "  likely near /home/ubuntu/.julia/v0.5/IJulia/src/kernel.jl:31\n"
     ]
    }
   ],
   "source": [
    "\n",
    "@fastmath function predict1{F<:AbstractFloat}(c::LinearClassifier{2},\n",
    "\t\t\t\t\t\t\t\t\t\t\t x::AbstractVector{F})\n",
    "    t1=zero(F)\n",
    "    t2=zero(F)\n",
    "    @inbounds for ii in 1: size(c.weights,1)\n",
    "        @inbounds t1+=c.weights[ii,1]*x[ii]\n",
    "        @inbounds t2+=c.weights[ii,2]*x[ii]\n",
    "    end\n",
    "    return SoftmaxClassifier.softmax2(t1,t2)\n",
    "end"
   ]
  },
  {
   "cell_type": "code",
   "execution_count": 6,
   "metadata": {
    "collapsed": false,
    "scrolled": true
   },
   "outputs": [
    {
     "name": "stdout",
     "output_type": "stream",
     "text": [
      "  0.040944 seconds (17.15 k allocations: 783.795 KB)\n"
     ]
    }
   ],
   "source": [
    "cc=LinearClassifier(2,50);\n",
    "@time map(ii->predict1(cc, rand(50)), 1:100);"
   ]
  },
  {
   "cell_type": "code",
   "execution_count": 7,
   "metadata": {
    "collapsed": false
   },
   "outputs": [
    {
     "data": {
      "text/plain": [
       "predict2 (generic function with 1 method)"
      ]
     },
     "execution_count": 7,
     "metadata": {},
     "output_type": "execute_result"
    }
   ],
   "source": [
    "@fastmath function predict2{F<:AbstractFloat}(c::LinearClassifier{2},\n",
    "    \t\t\t\t\t\t\t\t\t\t x::AbstractVector{F})\n",
    "    t1= Threads.Atomic{F}()\n",
    "    t2= Threads.Atomic{F}()\n",
    "    t1[]=zero(F)\n",
    "    t2[]=zero(F)\n",
    "    Threads.@threads for ii in 1: size(c.weights,1)\n",
    "        @inbounds c1 = c.weights[ii,1]\n",
    "        @inbounds c2 = c.weights[ii,2]\n",
    "        Threads.atomic_add!(t1,c1*x[ii])\n",
    "        Threads.atomic_add!(t2,c2*x[ii])\n",
    "    end\n",
    "    return SoftmaxClassifier.softmax2(t1[],t2[])\n",
    "end"
   ]
  },
  {
   "cell_type": "code",
   "execution_count": 10,
   "metadata": {
    "collapsed": false,
    "scrolled": true
   },
   "outputs": [
    {
     "name": "stdout",
     "output_type": "stream",
     "text": [
      "  1.678831 seconds (17.55 k allocations: 794.706 KB)\n"
     ]
    }
   ],
   "source": [
    "cc=LinearClassifier(2,50);\n",
    "@time map(ii->predict2(cc, rand(50)), 1:100);"
   ]
  },
  {
   "cell_type": "code",
   "execution_count": null,
   "metadata": {
    "collapsed": false
   },
   "outputs": [],
   "source": [
    "Threads.nthreads()"
   ]
  },
  {
   "cell_type": "code",
   "execution_count": null,
   "metadata": {
    "collapsed": false
   },
   "outputs": [],
   "source": [
    "\n",
    "Threads.@threads for i=1:100; rand(i) ; end"
   ]
  },
  {
   "cell_type": "code",
   "execution_count": null,
   "metadata": {
    "collapsed": false
   },
   "outputs": [],
   "source": [
    "Threads.nthreads()"
   ]
  },
  {
   "cell_type": "code",
   "execution_count": null,
   "metadata": {
    "collapsed": true
   },
   "outputs": [],
   "source": []
  }
 ],
 "metadata": {
  "kernelspec": {
   "display_name": "Julia 0.5.0-dev",
   "language": "julia",
   "name": "julia-0.5"
  },
  "language_info": {
   "file_extension": ".jl",
   "mimetype": "application/julia",
   "name": "julia",
   "version": "0.5.0"
  }
 },
 "nbformat": 4,
 "nbformat_minor": 0
}
