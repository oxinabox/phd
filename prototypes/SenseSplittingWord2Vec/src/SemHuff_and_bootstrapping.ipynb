{
 "cells": [
  {
   "cell_type": "code",
   "execution_count": 2,
   "metadata": {
    "collapsed": false
   },
   "outputs": [],
   "source": [
    "using WordNet\n",
    "using WordEmbeddings, SoftmaxClassifier\n",
    "using Utils\n",
    "using Query\n",
    "using Distances\n",
    "using Iterators\n",
    "using JLD\n",
    "using Trees\n",
    "using AbstractTrees\n",
    "using BlossomV"
   ]
  },
  {
   "cell_type": "code",
   "execution_count": 19,
   "metadata": {
    "collapsed": true
   },
   "outputs": [],
   "source": [
    "@everywhere  using AdaGram\n"
   ]
  },
  {
   "cell_type": "code",
   "execution_count": 3,
   "metadata": {
    "collapsed": false
   },
   "outputs": [],
   "source": [
    "ee = load(\"../eval/models/plain/tokenised_lowercase_WestburyLab.wikicorp.201004_50__i1.jld\",\"ee\");\n"
   ]
  },
  {
   "cell_type": "code",
   "execution_count": 4,
   "metadata": {
    "collapsed": true
   },
   "outputs": [],
   "source": [
    "semtree = JLD.load(\"semtree.jld\", \"semtree\");"
   ]
  },
  {
   "cell_type": "code",
   "execution_count": 37,
   "metadata": {
    "collapsed": false
   },
   "outputs": [
    {
     "data": {
      "text/plain": [
       "1.0f-5"
      ]
     },
     "execution_count": 37,
     "metadata": {},
     "output_type": "execute_result"
    }
   ],
   "source": [
    "ee.subsampling"
   ]
  },
  {
   "cell_type": "code",
   "execution_count": 15,
   "metadata": {
    "collapsed": false
   },
   "outputs": [
    {
     "data": {
      "text/plain": [
       "11-element Array{Int64,1}:\n",
       "  2\n",
       "  3\n",
       "  4\n",
       "  5\n",
       "  6\n",
       "  7\n",
       "  8\n",
       "  9\n",
       " 10\n",
       " 11\n",
       " 12"
      ]
     },
     "execution_count": 15,
     "metadata": {},
     "output_type": "execute_result"
    }
   ],
   "source": [
    "addprocs(11)"
   ]
  },
  {
   "cell_type": "code",
   "execution_count": 38,
   "metadata": {
    "collapsed": false
   },
   "outputs": [
    {
     "data": {
      "text/plain": [
       "Dict{String,Any} with 18 entries:\n",
       "  \"prototypes\" => 30\n",
       "  \"nprocessors\" => 13\n",
       "  \"output_fn\" => \"../models/adagram/more_senses.adagram_model\"\n",
       "  \"sense_treshold\" => 1.0e-10\n",
       "  \"remove_top_k\" => 0\n",
       "  \"context_cut\" => true\n",
       "  \"initcount\" => 1.0\n",
       "  \"train_fn\" => \"../data/corpora/WikiCorp/tokenised_lowercase_WestburyLab.wikicorp.201004.txt\"\n",
       "  \"d\" => 0.0\n",
       "  \"alpha\" => 0.25\n",
       "  \"subsample\" => 1.0e-5\n",
       "  \"epochs\" => 1\n",
       "  \"window\" => 10\n",
       "  \"min_freq\" => 20\n",
       "  \"save_treshold\" => 0.0\n",
       "  \"dim\" => 100\n",
       "  \"stopwords\" => Set{AbstractString}()\n",
       "  \"dict_fn\" => \"../data/corpora/WikiCorp/tokenised_lowercase_WestburyLab.wikicorp.201004.1gram\""
      ]
     },
     "execution_count": 38,
     "metadata": {},
     "output_type": "execute_result"
    }
   ],
   "source": [
    "load(\"../eval/models/adagram/more_senses.params.jld\")"
   ]
  },
  {
   "cell_type": "code",
   "execution_count": null,
   "metadata": {
    "collapsed": true
   },
   "outputs": [],
   "source": [
    "ee.subsampling"
   ]
  },
  {
   "cell_type": "code",
   "execution_count": null,
   "metadata": {
    "collapsed": false
   },
   "outputs": [],
   "source": [
    "base_name = \"semhuff_more_senses\"\n",
    "param_save_fn =  \"../eval/models/adagram/$(base_name).params.jld\"\n",
    "output_fn = \"../eval/models/adagram/$(base_name).adagram_model\"#\"file to save the model (in Julia format)\"\n",
    "@assert !isfile(output_fn)\n",
    "@param_save param_save_fn begin\n",
    "\tnprocessors = nprocs()\n",
    "\ttrain_fn  =  \"../eval/data/corpora/WikiCorp/tokenised_lowercase_WestburyLab.wikicorp.201004.txt\" #\"training text data\"\n",
    "\toutput_fn = output_fn #file to save the model (in Julia format)\"\n",
    "    semsimsource_fn = \"../eval/models/plain/tokenised_lowercase_WestburyLab.wikicorp.201004_50__i1.jld\"\n",
    "\n",
    "\twindow = 10 #\"(max) window size\" C in the paper\n",
    "\tmin_freq  = 20 #\"min. frequency of the word\"\n",
    "\tremove_top_k = 0 #\"remove top K most frequent words\"\n",
    "\tdim  = 100 #\"dimensionality of representations\"\n",
    "\tprototypes = 30 #\"number of word prototypes\" T in the paper\n",
    "\talpha = 0.25 #\"prior probability of allocating a new prototype\"\n",
    "\td  = 0.0 #\"parameter of Pitman-Yor process\" D in paper\n",
    "\tsubsample = 1e-5 #\"subsampling treshold. useful value is 1e-5\"\n",
    "\tcontext_cut  = true #\"randomly reduce size of the context\"\n",
    "\tepochs = 1 #\"number of epochs to train\"\n",
    "\tinitcount = 1. #\"initial weight (count) on first sense for each word\"\n",
    "\tstopwords = Set{AbstractString}() #\"list of stop words\"\n",
    "\tsense_treshold = 1e-10 #\"minimal probability of a meaning to contribute into gradients\"\n",
    "\tsave_treshold = 0.0 #\"minimal probability of a meaning to save after training\"\n",
    "end"
   ]
  },
  {
   "cell_type": "code",
   "execution_count": 22,
   "metadata": {
    "collapsed": false
   },
   "outputs": [],
   "source": [
    "vm, dict = semhuff_initialize_AdaGram(semtree, 300, 5; alpha=0.15, d=0.0);"
   ]
  },
  {
   "cell_type": "code",
   "execution_count": null,
   "metadata": {
    "collapsed": false,
    "scrolled": true
   },
   "outputs": [
    {
     "name": "stdout",
     "output_type": "stream",
     "text": [
      "\tFrom worker 2:\t64000 words read, 1443333/541936072\n",
      "\tFrom worker 3:\t64000 words read, 543495711/1083872144\n",
      "\tFrom worker 4:\t64000 words read, 1085336468/1625808216\n",
      "\tFrom worker 5:\t64000 words read, 1627306849/2167744288\n",
      "\tFrom worker 6:\t64000 words read, 2169224390/2709680360\n",
      "\tFrom worker 7:\t64000 words read, 2711151461/3251616432\n",
      "\tFrom worker 8:\t64000 words read, 3253113250/3793552504\n",
      "\tFrom worker 9:\t64000 words read, 3795047471/4335488576\n",
      "\tFrom worker 10:\t64000 words read, 4337017677/4877424648\n",
      "\tFrom worker 11:\t64000 words read, 4878935567/5419360720\n",
      "\tFrom worker 12:\t64000 words read, 5420892477/5961296792\n",
      "\tFrom worker 2:\t0.22% -10.5548 0.0249 0.0249 2.06/4.00 0.55 kwords/sec\n",
      "\tFrom worker 5:\t0.22% -10.5549 0.0249 0.0249 2.13/4.00 0.56 kwords/sec\n",
      "\tFrom worker 4:\t0.23% -10.5568 0.0249 0.0249 2.08/4.00 0.55 kwords/sec\n",
      "\tFrom worker 3:\t0.23% -10.5564 0.0249 0.0249 2.07/4.00 0.53 kwords/sec\n",
      "\tFrom worker 6:\t0.23% -10.5578 0.0249 0.0249 2.03/4.00 0.55 kwords/sec\n",
      "\tFrom worker 7:\t0.23% -10.5581 0.0249 0.0249 2.03/4.00 0.55 kwords/sec\n",
      "\tFrom worker 9:\t0.23% -10.5581 0.0249 0.0249 2.02/4.00 0.56 kwords/sec\n",
      "\tFrom worker 8:\t0.23% -10.5578 0.0249 0.0249 2.01/4.00 0.55 kwords/sec\n",
      "\tFrom worker 11:\t0.23% -10.5577 0.0249 0.0249 1.92/4.00 0.55 kwords/sec\n",
      "\tFrom worker 10:\t0.23% -10.5575 0.0249 0.0249 1.94/4.00 0.54 kwords/sec\n",
      "\tFrom worker 12:\t0.23% -10.5564 0.0249 0.0249 1.90/4.00 0.53 kwords/sec\n",
      "\tFrom worker 5:\t0.24% -10.5529 0.0249 0.0249 1.92/4.00 0.58 kwords/sec\n",
      "\tFrom worker 4:\t0.24% -10.5522 0.0249 0.0249 1.88/4.00 0.57 kwords/sec\n",
      "\tFrom worker 3:\t0.24% -10.5521 0.0249 0.0249 1.89/4.00 0.58 kwords/sec\n",
      "\tFrom worker 2:\t0.24% -10.5518 0.0249 0.0249 1.86/4.00 0.55 kwords/sec\n",
      "\tFrom worker 6:\t0.24% -10.5501 0.0249 0.0249 1.88/4.00 0.56 kwords/sec\n",
      "\tFrom worker 7:\t0.24% -10.5500 0.0249 0.0249 1.86/4.00 0.57 kwords/sec\n",
      "\tFrom worker 8:\t0.24% -10.5499 0.0249 0.0249 1.86/4.00 0.58 kwords/sec\n",
      "\tFrom worker 9:\t0.24% -10.5507 0.0249 0.0249 1.86/4.00 0.57 kwords/sec\n",
      "\tFrom worker 11:\t0.24% -10.5498 0.0249 0.0249 1.81/4.00 0.57 kwords/sec\n",
      "\tFrom worker 10:\t0.24% -10.5476 0.0249 0.0249 1.77/4.00 0.56 kwords/sec\n",
      "\tFrom worker 12:\t0.24% -10.5459 0.0249 0.0249 1.81/4.00 0.54 kwords/sec\n",
      "\tFrom worker 5:\t0.25% -10.5414 0.0249 0.0249 1.84/4.00 0.60 kwords/sec\n",
      "\tFrom worker 3:\t0.25% -10.5406 0.0249 0.0249 1.82/4.00 0.57 kwords/sec\n",
      "\tFrom worker 4:\t0.25% -10.5393 0.0249 0.0249 1.82/4.00 0.55 kwords/sec\n",
      "\tFrom worker 2:\t0.25% -10.5385 0.0249 0.0249 1.80/4.00 0.56 kwords/sec\n",
      "\tFrom worker 9:\t0.25% -10.5367 0.0249 0.0249 1.80/4.00 0.58 kwords/sec\n",
      "\tFrom worker 7:\t0.25% -10.5364 0.0249 0.0249 1.80/4.00 0.57 kwords/sec\n",
      "\tFrom worker 8:\t0.25% -10.5358 0.0249 0.0249 1.80/4.00 0.56 kwords/sec\n",
      "\tFrom worker 6:\t0.25% -10.5351 0.0249 0.0249 1.80/4.00 0.56 kwords/sec\n",
      "\tFrom worker 11:\t0.25% -10.5327 0.0249 0.0249 1.77/4.00 0.56 kwords/sec\n",
      "\tFrom worker 10:\t0.25% -10.5335 0.0249 0.0249 1.71/4.00 0.55 kwords/sec\n",
      "\tFrom worker 12:\t0.25% -10.5338 0.0249 0.0249 1.76/4.00 0.57 kwords/sec\n",
      "\tFrom worker 5:\t0.26% -10.5375 0.0249 0.0249 1.79/4.00 0.59 kwords/sec\n",
      "\tFrom worker 3:\t0.26% -10.5366 0.0249 0.0249 1.80/4.00 0.58 kwords/sec\n",
      "\tFrom worker 9:\t0.26% -10.5367 0.0249 0.0249 1.77/4.00 0.59 kwords/sec\n",
      "\tFrom worker 2:\t0.26% -10.5367 0.0249 0.0249 1.75/4.00 0.57 kwords/sec\n",
      "\tFrom worker 7:\t0.26% -10.5367 0.0249 0.0249 1.76/4.00 0.58 kwords/sec\n",
      "\tFrom worker 4:\t0.26% -10.5368 0.0249 0.0249 1.78/4.00 0.55 kwords/sec\n",
      "\tFrom worker 8:\t0.27% -10.5368 0.0249 0.0249 1.77/4.00 0.57 kwords/sec\n",
      "\tFrom worker 6:\t0.27% -10.5361 0.0249 0.0249 1.77/4.00 0.56 kwords/sec\n",
      "\tFrom worker 11:\t0.27% -10.5358 0.0249 0.0249 1.73/4.00 0.57 kwords/sec\n",
      "\tFrom worker 10:\t0.27% -10.5352 0.0249 0.0249 1.70/4.00 0.54 kwords/sec\n",
      "\tFrom worker 12:\t0.27% -10.5351 0.0249 0.0249 1.74/4.00 0.56 kwords/sec\n",
      "\tFrom worker 5:\t0.28% -10.5329 0.0249 0.0249 1.77/4.00 0.60 kwords/sec\n",
      "\tFrom worker 3:\t0.28% -10.5323 0.0249 0.0249 1.78/4.00 0.58 kwords/sec\n",
      "\tFrom worker 9:\t0.28% -10.5318 0.0249 0.0249 1.75/4.00 0.58 kwords/sec\n",
      "\tFrom worker 7:\t0.28% -10.5319 0.0249 0.0249 1.74/4.00 0.59 kwords/sec\n",
      "\tFrom worker 8:\t0.28% -10.5323 0.0249 0.0249 1.74/4.00 0.57 kwords/sec\n",
      "\tFrom worker 2:\t0.28% -10.5324 0.0249 0.0249 1.73/4.00 0.55 kwords/sec\n",
      "\tFrom worker 4:\t0.28% -10.5324 0.0249 0.0249 1.75/4.00 0.56 kwords/sec\n",
      "\tFrom worker 6:\t0.28% -10.5319 0.0249 0.0249 1.74/4.00 0.56 kwords/sec\n",
      "\tFrom worker 11:\t0.28% -10.5315 0.0249 0.0249 1.71/4.00 0.56 kwords/sec\n",
      "\tFrom worker 10:\t0.28% -10.5313 0.0249 0.0249 1.69/4.00 0.55 kwords/sec\n",
      "\tFrom worker 12:\t0.28% -10.5309 0.0249 0.0249 1.72/4.00 0.55 kwords/sec\n",
      "\tFrom worker 5:\t0.29% -10.5320 0.0249 0.0249 1.75/4.00 0.59 kwords/sec\n",
      "\tFrom worker 3:\t0.29% -10.5325 0.0249 0.0249 1.75/4.00 0.57 kwords/sec\n",
      "\tFrom worker 9:\t0.29% -10.5320 0.0249 0.0249 1.74/4.00 0.58 kwords/sec\n",
      "\tFrom worker 7:\t0.29% -10.5321 0.0249 0.0249 1.73/4.00 0.57 kwords/sec\n",
      "\tFrom worker 8:\t0.29% -10.5317 0.0249 0.0249 1.73/4.00 0.57 kwords/sec\n",
      "\tFrom worker 2:\t0.29% -10.5312 0.0249 0.0249 1.72/4.00 0.56 kwords/sec\n",
      "\tFrom worker 4:\t0.29% -10.5312 0.0249 0.0249 1.74/4.00 0.56 kwords/sec\n",
      "\tFrom worker 6:\t0.29% -10.5310 0.0249 0.0249 1.73/4.00 0.57 kwords/sec\n",
      "\tFrom worker 11:\t0.29% -10.5308 0.0249 0.0249 1.71/4.00 0.57 kwords/sec\n",
      "\tFrom worker 5:\t64000 words read, 1628799109/2167744288\n",
      "\tFrom worker 10:\t0.31% -10.5297 0.0249 0.0249 1.68/4.00 0.56 kwords/sec\n",
      "\tFrom worker 12:\t0.31% -10.5299 0.0249 0.0249 1.72/4.00 0.57 kwords/sec\n",
      "\tFrom worker 3:\t64000 words read, 544927023/1083872144\n",
      "\tFrom worker 9:\t64000 words read, 3796547116/4335488576\n",
      "\tFrom worker 7:\t64000 words read, 2712681066/3251616432\n",
      "\tFrom worker 8:\t64000 words read, 3254619721/3793552504\n",
      "\tFrom worker 2:\t64000 words read, 2866712/541936072\n",
      "\tFrom worker 4:\t64000 words read, 1086786502/1625808216\n",
      "\tFrom worker 11:\t64000 words read, 4880464680/5419360720\n",
      "\tFrom worker 6:\t64000 words read, 2170719633/2709680360\n",
      "\tFrom worker 10:\t64000 words read, 4338546357/4877424648\n",
      "\tFrom worker 12:\t64000 words read, 5422418633/5961296792\n",
      "\tFrom worker 5:\t0.52% -10.5298 0.0249 0.0249 1.66/4.00 0.59 kwords/sec\n",
      "\tFrom worker 3:\t0.52% -10.5321 0.0249 0.0249 1.66/4.00 0.57 kwords/sec\n",
      "\tFrom worker 7:\t0.52% -10.5324 0.0249 0.0249 1.67/4.00 0.57 kwords/sec\n",
      "\tFrom worker 9:\t0.52% -10.5324 0.0249 0.0249 1.66/4.00 0.56 kwords/sec\n",
      "\tFrom worker 8:\t0.52% -10.5323 0.0249 0.0249 1.69/4.00 0.58 kwords/sec\n",
      "\tFrom worker 2:\t0.52% -10.5325 0.0249 0.0249 1.65/4.00 0.57 kwords/sec\n",
      "\tFrom worker 4:\t0.52% -10.5323 0.0249 0.0249 1.64/4.00 0.55 kwords/sec\n",
      "\tFrom worker 6:\t0.52% -10.5320 0.0249 0.0249 1.68/4.00 0.56 kwords/sec\n",
      "\tFrom worker 11:\t0.52% -10.5321 0.0249 0.0249 1.69/4.00 0.56 kwords/sec\n",
      "\tFrom worker 10:\t0.52% -10.5303 0.0249 0.0249 1.68/4.00 0.56 kwords/sec\n",
      "\tFrom worker 12:\t0.53% -10.5301 0.0249 0.0249 1.69/4.00 0.54 kwords/sec\n",
      "\tFrom worker 5:\t0.53% -10.5303 0.0249 0.0249 1.66/4.00 0.56 kwords/sec\n",
      "\tFrom worker 3:\t0.53% -10.5302 0.0249 0.0249 1.65/4.00 0.56 kwords/sec\n",
      "\tFrom worker 9:\t0.53% -10.5302 0.0249 0.0249 1.67/4.00 0.59 kwords/sec\n",
      "\tFrom worker 7:\t0.53% -10.5302 0.0249 0.0249 1.68/4.00 0.58 kwords/sec\n",
      "\tFrom worker 8:\t0.53% -10.5305 0.0249 0.0249 1.69/4.00 0.58 kwords/sec\n",
      "\tFrom worker 2:\t0.53% -10.5304 0.0249 0.0249 1.66/4.00 0.57 kwords/sec\n",
      "\tFrom worker 4:\t0.54% -10.5304 0.0249 0.0249 1.66/4.00 0.57 kwords/sec\n",
      "\tFrom worker 11:\t0.54% -10.5301 0.0249 0.0249 1.69/4.00 0.57 kwords/sec\n",
      "\tFrom worker 6:\t0.54% -10.5299 0.0249 0.0249 1.69/4.00 0.55 kwords/sec\n",
      "\tFrom worker 10:\t0.54% -10.5291 0.0249 0.0249 1.68/4.00 0.58 kwords/sec\n",
      "\tFrom worker 12:\t0.54% -10.5286 0.0249 0.0249 1.69/4.00 0.56 kwords/sec\n",
      "\tFrom worker 5:\t0.54% -10.5274 0.0249 0.0249 1.67/4.00 0.56 kwords/sec\n",
      "\tFrom worker 7:\t0.55% -10.5269 0.0249 0.0249 1.68/4.00 0.58 kwords/sec\n",
      "\tFrom worker 3:\t0.55% -10.5269 0.0249 0.0249 1.65/4.00 0.57 kwords/sec\n",
      "\tFrom worker 9:\t0.55% -10.5268 0.0249 0.0249 1.68/4.00 0.58 kwords/sec\n",
      "\tFrom worker 8:\t0.55% -10.5270 0.0249 0.0249 1.68/4.00 0.58 kwords/sec\n",
      "\tFrom worker 2:\t0.55% -10.5275 0.0249 0.0249 1.67/4.00 0.58 kwords/sec\n",
      "\tFrom worker 11:\t0.55% -10.5271 0.0249 0.0249 1.69/4.00 0.57 kwords/sec\n",
      "\tFrom worker 4:\t0.55% -10.5271 0.0249 0.0249 1.66/4.00 0.55 kwords/sec\n",
      "\tFrom worker 6:\t0.55% -10.5272 0.0249 0.0249 1.69/4.00 0.56 kwords/sec\n",
      "\tFrom worker 10:\t0.55% -10.5273 0.0249 0.0249 1.68/4.00 0.57 kwords/sec\n",
      "\tFrom worker 12:\t0.55% -10.5276 0.0249 0.0249 1.69/4.00 0.55 kwords/sec\n",
      "\tFrom worker 5:\t0.56% -10.5278 0.0249 0.0249 1.67/4.00 0.56 kwords/sec\n",
      "\tFrom worker 7:\t0.56% -10.5271 0.0249 0.0249 1.69/4.00 0.57 kwords/sec\n",
      "\tFrom worker 3:\t0.56% -10.5270 0.0249 0.0249 1.66/4.00 0.56 kwords/sec\n",
      "\tFrom worker 9:\t0.56% -10.5270 0.0249 0.0249 1.67/4.00 0.56 kwords/sec\n",
      "\tFrom worker 8:\t0.56% -10.5270 0.0249 0.0249 1.68/4.00 0.59 kwords/sec\n",
      "\tFrom worker 2:\t0.56% -10.5271 0.0249 0.0249 1.67/4.00 0.57 kwords/sec\n",
      "\tFrom worker 11:\t0.56% -10.5269 0.0249 0.0249 1.69/4.00 0.58 kwords/sec\n",
      "\tFrom worker 4:\t0.56% -10.5268 0.0249 0.0249 1.67/4.00 0.56 kwords/sec\n",
      "\tFrom worker 6:\t0.56% -10.5270 0.0249 0.0249 1.69/4.00 0.56 kwords/sec\n",
      "\tFrom worker 10:\t0.56% -10.5271 0.0249 0.0249 1.69/4.00 0.57 kwords/sec\n",
      "\tFrom worker 12:\t0.57% -10.5274 0.0249 0.0249 1.68/4.00 0.57 kwords/sec\n",
      "\tFrom worker 5:\t0.57% -10.5292 0.0249 0.0249 1.68/4.00 0.56 kwords/sec\n",
      "\tFrom worker 7:\t0.57% -10.5297 0.0249 0.0249 1.69/4.00 0.58 kwords/sec\n",
      "\tFrom worker 8:\t0.57% -10.5296 0.0249 0.0249 1.68/4.00 0.58 kwords/sec\n",
      "\tFrom worker 9:\t0.57% -10.5295 0.0249 0.0249 1.68/4.00 0.57 kwords/sec\n",
      "\tFrom worker 3:\t0.57% -10.5295 0.0249 0.0249 1.67/4.00 0.55 kwords/sec\n",
      "\tFrom worker 2:\t0.57% -10.5291 0.0249 0.0249 1.67/4.00 0.57 kwords/sec\n",
      "\tFrom worker 11:\t0.57% -10.5291 0.0249 0.0249 1.69/4.00 0.56 kwords/sec\n",
      "\tFrom worker 4:\t0.58% -10.5286 0.0249 0.0249 1.67/4.00 0.55 kwords/sec\n",
      "\tFrom worker 6:\t0.58% -10.5287 0.0249 0.0249 1.69/4.00 0.56 kwords/sec\n",
      "\tFrom worker 10:\t0.58% -10.5283 0.0249 0.0249 1.69/4.00 0.57 kwords/sec\n",
      "\tFrom worker 12:\t0.58% -10.5286 0.0249 0.0249 1.69/4.00 0.55 kwords/sec\n",
      "\tFrom worker 5:\t0.58% -10.5298 0.0249 0.0249 1.68/4.00 0.56 kwords/sec\n",
      "\tFrom worker 7:\t0.58% -10.5299 0.0249 0.0249 1.70/4.00 0.57 kwords/sec\n",
      "\tFrom worker 9:\t0.59% -10.5300 0.0249 0.0249 1.68/4.00 0.57 kwords/sec\n",
      "\tFrom worker 8:\t0.59% -10.5300 0.0249 0.0249 1.69/4.00 0.56 kwords/sec\n",
      "\tFrom worker 3:\t0.59% -10.5299 0.0249 0.0249 1.67/4.00 0.56 kwords/sec\n",
      "\tFrom worker 2:\t0.59% -10.5301 0.0249 0.0249 1.66/4.00 0.58 kwords/sec\n",
      "\tFrom worker 11:\t0.59% -10.5302 0.0249 0.0249 1.69/4.00 0.56 kwords/sec\n",
      "\tFrom worker 4:\t0.59% -10.5298 0.0249 0.0249 1.67/4.00 0.56 kwords/sec\n",
      "\tFrom worker 6:\t0.60% -10.5297 0.0249 0.0249 1.69/4.00 0.56 kwords/sec\n",
      "\tFrom worker 5:\t64000 words read, 1630275417/2167744288\n",
      "\tFrom worker 10:\t0.61% -10.5297 0.0248 0.0248 1.69/4.00 0.57 kwords/sec\n",
      "\tFrom worker 7:\t64000 words read, 2714182105/3251616432\n",
      "\tFrom worker 8:\t64000 words read, 3256093004/3793552504\n",
      "\tFrom worker 9:\t64000 words read, 3798066714/4335488576\n",
      "\tFrom worker 3:\t64000 words read, 546411194/1083872144\n",
      "\tFrom worker 12:\t0.70% -10.5295 0.0248 0.0248 1.69/4.00 0.56 kwords/sec\n",
      "\tFrom worker 2:\t64000 words read, 4297196/541936072\n",
      "\tFrom worker 11:\t64000 words read, 4882016448/5419360720\n",
      "\tFrom worker 4:\t64000 words read, 1088273738/1625808216\n",
      "\tFrom worker 6:\t64000 words read, 2172202426/2709680360\n",
      "\tFrom worker 10:\t64000 words read, 4340076548/4877424648\n",
      "\tFrom worker 12:\t64000 words read, 5424147572/5961296792\n",
      "\tFrom worker 5:\t0.82% -10.5263 0.0248 0.0248 1.67/4.00 0.58 kwords/sec\n",
      "\tFrom worker 7:\t0.82% -10.5259 0.0248 0.0248 1.71/4.00 0.57 kwords/sec\n",
      "\tFrom worker 8:\t0.82% -10.5258 0.0248 0.0248 1.73/4.00 0.57 kwords/sec\n",
      "\tFrom worker 9:\t0.82% -10.5259 0.0248 0.0248 1.73/4.00 0.58 kwords/sec\n",
      "\tFrom worker 3:\t0.82% -10.5260 0.0248 0.0248 1.71/4.00 0.56 kwords/sec\n",
      "\tFrom worker 2:\t0.82% -10.5260 0.0248 0.0248 1.68/4.00 0.55 kwords/sec\n",
      "\tFrom worker 11:\t0.82% -10.5256 0.0248 0.0248 1.71/4.00 0.56 kwords/sec\n",
      "\tFrom worker 4:\t0.82% -10.5253 0.0248 0.0248 1.70/4.00 0.57 kwords/sec\n",
      "\tFrom worker 6:\t0.82% -10.5249 0.0248 0.0248 1.71/4.00 0.56 kwords/sec\n",
      "\tFrom worker 10:\t0.82% -10.5245 0.0248 0.0248 1.70/4.00 0.55 kwords/sec\n",
      "\tFrom worker 12:\t0.82% -10.5229 0.0248 0.0248 1.69/4.00 0.61 kwords/sec\n",
      "\tFrom worker 5:\t0.83% -10.5186 0.0248 0.0248 1.69/4.00 0.60 kwords/sec\n",
      "\tFrom worker 8:\t0.83% -10.5179 0.0248 0.0248 1.72/4.00 0.60 kwords/sec\n",
      "\tFrom worker 7:\t0.83% -10.5178 0.0248 0.0248 1.72/4.00 0.57 kwords/sec\n",
      "\tFrom worker 9:\t0.83% -10.5177 0.0248 0.0248 1.72/4.00 0.58 kwords/sec\n",
      "\tFrom worker 3:\t0.83% -10.5167 0.0248 0.0248 1.72/4.00 0.55 kwords/sec\n",
      "\tFrom worker 2:\t0.83% -10.5160 0.0248 0.0248 1.68/4.00 0.55 kwords/sec\n",
      "\tFrom worker 11:\t0.83% -10.5153 0.0248 0.0248 1.72/4.00 0.56 kwords/sec\n",
      "\tFrom worker 4:\t0.83% -10.5153 0.0248 0.0248 1.72/4.00 0.56 kwords/sec\n",
      "\tFrom worker 12:\t0.84% -10.5151 0.0248 0.0248 1.74/4.00 0.64 kwords/sec\n",
      "\tFrom worker 6:\t0.84% -10.5149 0.0248 0.0248 1.71/4.00 0.56 kwords/sec\n",
      "\tFrom worker 10:\t0.84% -10.5147 0.0248 0.0248 1.70/4.00 0.56 kwords/sec\n",
      "\tFrom worker 5:\t0.84% -10.5121 0.0248 0.0248 1.71/4.00 0.59 kwords/sec\n",
      "\tFrom worker 7:\t0.84% -10.5124 0.0248 0.0248 1.73/4.00 0.59 kwords/sec\n",
      "\tFrom worker 8:\t0.84% -10.5124 0.0248 0.0248 1.73/4.00 0.59 kwords/sec\n",
      "\tFrom worker 9:\t0.84% -10.5124 0.0248 0.0248 1.73/4.00 0.60 kwords/sec\n",
      "\tFrom worker 3:\t0.85% -10.5126 0.0248 0.0248 1.72/4.00 0.58 kwords/sec\n",
      "\tFrom worker 2:\t0.85% -10.5128 0.0248 0.0248 1.69/4.00 0.56 kwords/sec\n",
      "\tFrom worker 11:\t0.85% -10.5129 0.0248 0.0248 1.72/4.00 0.58 kwords/sec\n",
      "\tFrom worker 4:\t0.85% -10.5129 0.0248 0.0248 1.73/4.00 0.56 kwords/sec\n",
      "\tFrom worker 12:\t0.85% -10.5130 0.0248 0.0248 1.76/4.00 0.57 kwords/sec\n",
      "\tFrom worker 6:\t0.85% -10.5131 0.0248 0.0248 1.72/4.00 0.55 kwords/sec\n",
      "\tFrom worker 10:\t0.85% -10.5132 0.0248 0.0248 1.72/4.00 0.55 kwords/sec\n",
      "\tFrom worker 5:\t0.85% -10.5125 0.0248 0.0248 1.71/4.00 0.58 kwords/sec\n",
      "\tFrom worker 9:\t0.86% -10.5127 0.0248 0.0248 1.73/4.00 0.62 kwords/sec\n",
      "\tFrom worker 7:\t0.86% -10.5125 0.0248 0.0248 1.73/4.00 0.58 kwords/sec\n",
      "\tFrom worker 8:\t0.86% -10.5126 0.0248 0.0248 1.72/4.00 0.56 kwords/sec\n",
      "\tFrom worker 3:\t0.86% -10.5126 0.0248 0.0248 1.72/4.00 0.57 kwords/sec\n",
      "\tFrom worker 2:\t0.86% -10.5124 0.0248 0.0248 1.69/5.00 0.56 kwords/sec\n",
      "\tFrom worker 11:\t0.86% -10.5119 0.0248 0.0248 1.73/5.00 0.56 kwords/sec\n",
      "\tFrom worker 12:\t0.86% -10.5120 0.0248 0.0248 1.76/5.00 0.56 kwords/sec\n",
      "\tFrom worker 4:\t0.86% -10.5120 0.0248 0.0248 1.73/5.00 0.55 kwords/sec\n",
      "\tFrom worker 6:\t0.86% -10.5120 0.0248 0.0248 1.72/5.00 0.57 kwords/sec\n",
      "\tFrom worker 10:\t0.86% -10.5121 0.0248 0.0248 1.72/5.00 0.55 kwords/sec\n",
      "\tFrom worker 5:\t0.87% -10.5122 0.0248 0.0248 1.71/5.00 0.59 kwords/sec\n",
      "\tFrom worker 9:\t0.87% -10.5125 0.0248 0.0248 1.73/5.00 0.57 kwords/sec\n",
      "\tFrom worker 7:\t0.87% -10.5125 0.0248 0.0248 1.73/5.00 0.58 kwords/sec\n",
      "\tFrom worker 8:\t0.87% -10.5123 0.0248 0.0248 1.72/5.00 0.57 kwords/sec\n",
      "\tFrom worker 3:\t0.87% -10.5122 0.0248 0.0248 1.73/5.00 0.58 kwords/sec\n",
      "\tFrom worker 2:\t0.87% -10.5116 0.0248 0.0248 1.70/5.00 0.55 kwords/sec\n",
      "\tFrom worker 11:\t0.87% -10.5115 0.0248 0.0248 1.73/5.00 0.57 kwords/sec\n",
      "\tFrom worker 4:\t0.88% -10.5110 0.0248 0.0248 1.74/5.00 0.55 kwords/sec\n",
      "\tFrom worker 6:\t0.88% -10.5110 0.0248 0.0248 1.73/5.00 0.56 kwords/sec\n",
      "\tFrom worker 12:\t0.88% -10.5110 0.0248 0.0248 1.76/5.00 0.54 kwords/sec\n",
      "\tFrom worker 10:\t0.88% -10.5111 0.0248 0.0248 1.73/5.00 0.55 kwords/sec\n",
      "\tFrom worker 5:\t0.88% -10.5113 0.0248 0.0248 1.72/5.00 0.58 kwords/sec\n",
      "\tFrom worker 9:\t0.88% -10.5112 0.0248 0.0248 1.73/5.00 0.57 kwords/sec\n",
      "\tFrom worker 7:\t0.88% -10.5113 0.0248 0.0248 1.74/5.00 0.57 kwords/sec\n",
      "\tFrom worker 8:\t0.88% -10.5116 0.0248 0.0248 1.72/5.00 0.56 kwords/sec\n",
      "\tFrom worker 3:\t0.88% -10.5122 0.0248 0.0248 1.73/5.00 0.56 kwords/sec\n",
      "\tFrom worker 5:\t64000 words read, 1631762613/2167744288\n",
      "\tFrom worker 11:\t0.91% -10.5127 0.0248 0.0248 1.74/5.00 0.56 kwords/sec\n",
      "\tFrom worker 2:\t0.91% -10.5127 0.0248 0.0248 1.70/5.00 0.55 kwords/sec\n",
      "\tFrom worker 9:\t64000 words read, 3799559147/4335488576\n",
      "\tFrom worker 7:\t64000 words read, 2715702169/3251616432\n",
      "\tFrom worker 8:\t64000 words read, 3257560270/3793552504\n",
      "\tFrom worker 6:\t0.97% -10.5126 0.0248 0.0248 1.73/5.00 0.55 kwords/sec\n",
      "\tFrom worker 12:\t0.97% -10.5126 0.0248 0.0248 1.76/5.00 0.55 kwords/sec\n",
      "\tFrom worker 4:\t0.97% -10.5127 0.0248 0.0248 1.74/5.00 0.55 kwords/sec\n",
      "\tFrom worker 10:\t0.97% -10.5127 0.0248 0.0248 1.73/5.00 0.55 kwords/sec\n",
      "\tFrom worker 3:\t64000 words read, 547842728/1083872144\n",
      "\tFrom worker 2:\t64000 words read, 5717936/541936072\n",
      "\tFrom worker 11:\t64000 words read, 4883557849/5419360720\n",
      "\tFrom worker 12:\t64000 words read, 5425669053/5961296792\n",
      "\tFrom worker 4:\t64000 words read, 1089748517/1625808216\n",
      "\tFrom worker 6:\t64000 words read, 2173730957/2709680360\n",
      "\tFrom worker 10:\t64000 words read, 4341582525/4877424648\n",
      "\tFrom worker 5:\t1.11% -10.5135 0.0247 0.0247 1.75/5.00 0.58 kwords/sec\n",
      "\tFrom worker 9:\t1.11% -10.5138 0.0247 0.0247 1.76/5.00 0.57 kwords/sec\n",
      "\tFrom worker 7:\t1.11% -10.5137 0.0247 0.0247 1.77/5.00 0.58 kwords/sec\n",
      "\tFrom worker 8:\t1.11% -10.5142 0.0247 0.0247 1.65/5.00 0.58 kwords/sec\n",
      "\tFrom worker 3:\t1.11% -10.5142 0.0247 0.0247 1.72/5.00 0.58 kwords/sec\n",
      "\tFrom worker 2:\t1.11% -10.5145 0.0247 0.0247 1.73/5.00 0.58 kwords/sec\n",
      "\tFrom worker 11:\t1.12% -10.5145 0.0247 0.0247 1.75/5.00 0.55 kwords/sec\n",
      "\tFrom worker 4:\t1.12% -10.5150 0.0247 0.0247 1.71/5.00 0.56 kwords/sec\n",
      "\tFrom worker 12:\t1.12% -10.5150 0.0247 0.0247 1.74/5.00 0.56 kwords/sec\n",
      "\tFrom worker 6:\t1.12% -10.5149 0.0247 0.0247 1.75/5.00 0.55 kwords/sec\n",
      "\tFrom worker 10:\t1.12% -10.5150 0.0247 0.0247 1.73/5.00 0.56 kwords/sec\n",
      "\tFrom worker 5:\t1.12% -10.5153 0.0247 0.0247 1.76/5.00 0.59 kwords/sec\n",
      "\tFrom worker 9:\t1.12% -10.5149 0.0247 0.0247 1.75/5.00 0.57 kwords/sec\n",
      "\tFrom worker 8:\t1.12% -10.5150 0.0247 0.0247 1.70/5.00 0.61 kwords/sec\n",
      "\tFrom worker 7:\t1.12% -10.5150 0.0247 0.0247 1.77/5.00 0.56 kwords/sec\n",
      "\tFrom worker 3:\t1.13% -10.5148 0.0247 0.0247 1.73/5.00 0.57 kwords/sec\n",
      "\tFrom worker 2:\t1.13% -10.5151 0.0247 0.0247 1.73/5.00 0.55 kwords/sec\n",
      "\tFrom worker 11:\t1.13% -10.5150 0.0247 0.0247 1.76/5.00 0.57 kwords/sec\n",
      "\tFrom worker 4:\t1.13% -10.5149 0.0247 0.0247 1.73/5.00 0.57 kwords/sec\n",
      "\tFrom worker 12:\t1.13% -10.5150 0.0247 0.0247 1.75/5.00 0.56 kwords/sec\n",
      "\tFrom worker 6:\t1.13% -10.5150 0.0247 0.0247 1.76/5.00 0.56 kwords/sec\n",
      "\tFrom worker 10:\t1.13% -10.5150 0.0247 0.0247 1.74/5.00 0.57 kwords/sec\n",
      "\tFrom worker 5:\t1.13% -10.5150 0.0247 0.0247 1.76/5.00 0.60 kwords/sec\n",
      "\tFrom worker 9:\t1.14% -10.5146 0.0247 0.0247 1.75/5.00 0.58 kwords/sec\n",
      "\tFrom worker 8:\t1.14% -10.5145 0.0247 0.0247 1.72/5.00 0.58 kwords/sec\n",
      "\tFrom worker 7:\t1.14% -10.5144 0.0247 0.0247 1.76/5.00 0.57 kwords/sec\n",
      "\tFrom worker 3:\t1.14% -10.5147 0.0247 0.0247 1.74/5.00 0.56 kwords/sec\n",
      "\tFrom worker 2:\t1.14% -10.5148 0.0247 0.0247 1.73/5.00 0.56 kwords/sec\n",
      "\tFrom worker 11:\t1.14% -10.5147 0.0247 0.0247 1.76/5.00 0.56 kwords/sec\n",
      "\tFrom worker 4:\t1.14% -10.5151 0.0247 0.0247 1.74/5.00 0.55 kwords/sec\n",
      "\tFrom worker 12:\t1.14% -10.5152 0.0247 0.0247 1.76/5.00 0.55 kwords/sec\n",
      "\tFrom worker 10:\t1.14% -10.5152 0.0247 0.0247 1.74/5.00 0.57 kwords/sec\n",
      "\tFrom worker 6:\t1.14% -10.5152 0.0247 0.0247 1.76/5.00 0.56 kwords/sec\n",
      "\tFrom worker 5:\t1.14% -10.5152 0.0247 0.0247 1.76/5.00 0.59 kwords/sec\n",
      "\tFrom worker 9:\t1.15% -10.5151 0.0247 0.0247 1.75/5.00 0.59 kwords/sec\n",
      "\tFrom worker 8:\t1.15% -10.5151 0.0247 0.0247 1.73/5.00 0.57 kwords/sec\n",
      "\tFrom worker 7:\t1.15% -10.5151 0.0247 0.0247 1.76/5.00 0.58 kwords/sec\n",
      "\tFrom worker 3:\t1.15% -10.5150 0.0247 0.0247 1.75/5.00 0.56 kwords/sec\n",
      "\tFrom worker 2:\t1.15% -10.5159 0.0247 0.0247 1.73/5.00 0.57 kwords/sec\n",
      "\tFrom worker 11:\t1.15% -10.5158 0.0247 0.0247 1.76/5.00 0.57 kwords/sec\n",
      "\tFrom worker 5:\t1.16% -10.5162 0.0247 0.0247 1.76/5.00 0.59 kwords/sec\n",
      "\tFrom worker 4:\t1.16% -10.5163 0.0247 0.0247 1.74/5.00 0.56 kwords/sec\n",
      "\tFrom worker 12:\t1.16% -10.5163 0.0247 0.0247 1.75/5.00 0.55 kwords/sec\n",
      "\tFrom worker 6:\t1.16% -10.5163 0.0247 0.0247 1.77/5.00 0.56 kwords/sec\n",
      "\tFrom worker 10:\t1.16% -10.5162 0.0247 0.0247 1.75/5.00 0.55 kwords/sec\n",
      "\tFrom worker 9:\t1.16% -10.5166 0.0247 0.0247 1.76/5.00 0.55 kwords/sec\n",
      "\tFrom worker 7:\t1.16% -10.5171 0.0247 0.0247 1.77/5.00 0.56 kwords/sec\n",
      "\tFrom worker 8:\t1.16% -10.5171 0.0247 0.0247 1.74/5.00 0.55 kwords/sec\n",
      "\tFrom worker 3:\t1.16% -10.5173 0.0247 0.0247 1.75/5.00 0.55 kwords/sec\n",
      "\tFrom worker 2:\t1.17% -10.5177 0.0247 0.0247 1.73/5.00 0.56 kwords/sec\n",
      "\tFrom worker 11:\t1.17% -10.5178 0.0247 0.0247 1.75/5.00 0.55 kwords/sec\n",
      "\tFrom worker 5:\t1.17% -10.5181 0.0247 0.0247 1.76/5.00 0.58 kwords/sec\n",
      "\tFrom worker 6:\t1.17% -10.5184 0.0247 0.0247 1.77/5.00 0.58 kwords/sec\n",
      "\tFrom worker 4:\t1.17% -10.5184 0.0247 0.0247 1.74/5.00 0.56 kwords/sec\n",
      "\tFrom worker 12:\t1.17% -10.5184 0.0247 0.0247 1.75/5.00 0.56 kwords/sec\n",
      "\tFrom worker 10:\t1.17% -10.5184 0.0247 0.0247 1.74/5.00 0.56 kwords/sec\n",
      "\tFrom worker 9:\t1.17% -10.5188 0.0247 0.0247 1.75/5.00 0.61 kwords/sec\n",
      "\tFrom worker 7:\t1.19% -10.5192 0.0247 0.0247 1.77/5.00 0.58 kwords/sec\n",
      "\tFrom worker 5:\t64000 words read, 1633246214/2167744288\n",
      "\tFrom worker 8:\t1.19% -10.5192 0.0247 0.0247 1.74/5.00 0.57 kwords/sec\n",
      "\tFrom worker 3:\t1.20% -10.5190 0.0247 0.0247 1.75/5.00 0.56 kwords/sec\n",
      "\tFrom worker 9:\t64000 words read, 3801065342/4335488576\n",
      "\tFrom worker 11:\t1.24% -10.5188 0.0247 0.0247 1.76/5.00 0.57 kwords/sec\n",
      "\tFrom worker 2:\t1.24% -10.5188 0.0247 0.0247 1.73/5.00 0.57 kwords/sec\n",
      "\tFrom worker 7:\t64000 words read, 2717192339/3251616432\n",
      "\tFrom worker 8:\t64000 words read, 3259024922/3793552504\n",
      "\tFrom worker 6:\t1.26% -10.5185 0.0247 0.0247 1.77/5.00 0.56 kwords/sec\n",
      "\tFrom worker 4:\t1.27% -10.5185 0.0247 0.0247 1.75/5.00 0.56 kwords/sec\n",
      "\tFrom worker 10:\t1.27% -10.5184 0.0247 0.0247 1.75/5.00 0.58 kwords/sec\n",
      "\tFrom worker 3:\t64000 words read, 549303906/1083872144\n",
      "\tFrom worker 12:\t1.28% -10.5185 0.0247 0.0247 1.76/5.00 0.56 kwords/sec\n",
      "\tFrom worker 11:\t64000 words read, 4885121573/5419360720\n",
      "\tFrom worker 2:\t64000 words read, 7129002/541936072\n",
      "\tFrom worker 5:\t1.32% -10.5189 0.0247 0.0247 1.77/5.00 0.57 kwords/sec\n",
      "\tFrom worker 4:\t64000 words read, 1091210862/1625808216\n",
      "\tFrom worker 6:\t64000 words read, 2175227384/2709680360\n",
      "\tFrom worker 10:\t64000 words read, 4343116668/4877424648\n",
      "\tFrom worker 12:\t64000 words read, 5427201455/5961296792\n",
      "\tFrom worker 9:\t1.40% -10.5188 0.0246 0.0246 1.75/5.00 0.59 kwords/sec\n",
      "\tFrom worker 8:\t1.41% -10.5191 0.0246 0.0246 1.76/5.00 0.59 kwords/sec\n",
      "\tFrom worker 7:\t1.41% -10.5191 0.0246 0.0246 1.77/5.00 0.56 kwords/sec\n",
      "\tFrom worker 3:\t1.41% -10.5192 0.0246 0.0246 1.76/5.00 0.56 kwords/sec\n",
      "\tFrom worker 11:\t1.41% -10.5194 0.0246 0.0246 1.78/5.00 0.55 kwords/sec\n",
      "\tFrom worker 2:\t1.41% -10.5194 0.0246 0.0246 1.75/5.00 0.56 kwords/sec\n",
      "\tFrom worker 5:\t1.41% -10.5195 0.0246 0.0246 1.76/5.00 0.59 kwords/sec\n",
      "\tFrom worker 6:\t1.41% -10.5196 0.0246 0.0246 1.78/5.00 0.57 kwords/sec\n",
      "\tFrom worker 4:\t1.41% -10.5196 0.0246 0.0246 1.75/5.00 0.56 kwords/sec\n",
      "\tFrom worker 10:\t1.41% -10.5196 0.0246 0.0246 1.81/5.00 0.57 kwords/sec\n",
      "\tFrom worker 12:\t1.42% -10.5196 0.0246 0.0246 1.76/5.00 0.56 kwords/sec\n",
      "\tFrom worker 9:\t1.42% -10.5197 0.0246 0.0246 1.76/5.00 0.58 kwords/sec\n",
      "\tFrom worker 8:\t1.42% -10.5202 0.0246 0.0246 1.76/5.00 0.57 kwords/sec\n",
      "\tFrom worker 7:\t1.42% -10.5202 0.0246 0.0246 1.78/5.00 0.56 kwords/sec\n",
      "\tFrom worker 3:\t1.42% -10.5204 0.0246 0.0246 1.76/5.00 0.55 kwords/sec\n",
      "\tFrom worker 11:\t1.43% -10.5208 0.0246 0.0246 1.79/5.00 0.57 kwords/sec\n",
      "\tFrom worker 2:\t1.43% -10.5209 0.0246 0.0246 1.72/5.00 0.55 kwords/sec\n",
      "\tFrom worker 5:\t1.43% -10.5209 0.0246 0.0246 1.76/5.00 0.58 kwords/sec\n",
      "\tFrom worker 10:\t1.43% -10.5211 0.0246 0.0246 1.80/5.00 0.57 kwords/sec\n",
      "\tFrom worker 6:\t1.43% -10.5211 0.0246 0.0246 1.77/5.00 0.56 kwords/sec\n",
      "\tFrom worker 4:\t1.43% -10.5212 0.0246 0.0246 1.77/5.00 0.56 kwords/sec\n",
      "\tFrom worker 12:\t1.43% -10.5213 0.0246 0.0246 1.77/5.00 0.55 kwords/sec\n",
      "\tFrom worker 9:\t1.43% -10.5216 0.0246 0.0246 1.76/5.00 0.59 kwords/sec\n",
      "\tFrom worker 8:\t1.43% -10.5215 0.0246 0.0246 1.76/5.00 0.57 kwords/sec\n",
      "\tFrom worker 7:\t1.43% -10.5214 0.0246 0.0246 1.77/5.00 0.57 kwords/sec\n",
      "\tFrom worker 3:\t1.44% -10.5215 0.0246 0.0246 1.77/5.00 0.57 kwords/sec\n",
      "\tFrom worker 5:\t1.44% -10.5217 0.0246 0.0246 1.76/5.00 0.60 kwords/sec\n",
      "\tFrom worker 11:\t1.44% -10.5217 0.0246 0.0246 1.79/5.00 0.58 kwords/sec\n",
      "\tFrom worker 2:\t1.44% -10.5218 0.0246 0.0246 1.73/5.00 0.55 kwords/sec\n",
      "\tFrom worker 10:\t1.44% -10.5218 0.0246 0.0246 1.79/5.00 0.57 kwords/sec\n",
      "\tFrom worker 6:\t1.44% -10.5217 0.0246 0.0246 1.77/5.00 0.56 kwords/sec\n",
      "\tFrom worker 4:\t1.44% -10.5217 0.0246 0.0246 1.77/5.00 0.55 kwords/sec\n",
      "\tFrom worker 12:\t1.44% -10.5217 0.0246 0.0246 1.78/5.00 0.55 kwords/sec\n",
      "\tFrom worker 9:\t1.44% -10.5217 0.0246 0.0246 1.76/5.00 0.58 kwords/sec\n",
      "\tFrom worker 8:\t1.44% -10.5214 0.0246 0.0246 1.75/5.00 0.61 kwords/sec\n",
      "\tFrom worker 7:\t1.45% -10.5212 0.0246 0.0246 1.77/5.00 0.58 kwords/sec\n",
      "\tFrom worker 3:\t1.45% -10.5209 0.0246 0.0246 1.78/5.00 0.57 kwords/sec\n",
      "\tFrom worker 11:\t1.45% -10.5206 0.0246 0.0246 1.78/5.00 0.58 kwords/sec\n",
      "\tFrom worker 5:\t1.45% -10.5206 0.0246 0.0246 1.76/5.00 0.58 kwords/sec\n",
      "\tFrom worker 2:\t1.45% -10.5206 0.0246 0.0246 1.74/5.00 0.56 kwords/sec\n",
      "\tFrom worker 10:\t1.45% -10.5205 0.0246 0.0246 1.79/5.00 0.57 kwords/sec\n",
      "\tFrom worker 6:\t1.45% -10.5205 0.0246 0.0246 1.77/5.00 0.56 kwords/sec\n",
      "\tFrom worker 4:\t1.45% -10.5205 0.0246 0.0246 1.78/5.00 0.57 kwords/sec\n"
     ]
    }
   ],
   "source": [
    "inplace_train_vectors!(vm, dict, train_fn, window;\n",
    "                       threshold=subsample, context_cut=context_cut,\n",
    "\t\t\t\t\t   epochs=epochs, init_count=initcount, sense_treshold=sense_treshold)"
   ]
  },
  {
   "cell_type": "code",
   "execution_count": 34,
   "metadata": {
    "collapsed": false
   },
   "outputs": [
    {
     "name": "stdout",
     "output_type": "stream",
     "text": [
      "0.4769232204103473\tTuple{AbstractString,Int64,Float32}[(\"potatoes\",1,0.818664),(\"mashed\",1,0.818284),(\"eaten\",1,0.812375),(\"dishes\",1,0.80757),(\"cooked\",1,0.804335),(\"ingredients\",1,0.803254),(\"spices\",1,0.802813),(\"onions\",1,0.801898),(\"beef\",1,0.7977),(\"beans\",2,0.791067)]\n",
      "\n",
      "0.35301754921391737\tTuple{AbstractString,Int64,Float32}[(\"dishes\",1,0.57407),(\"vegetable\",1,0.56374),(\"gravy\",1,0.561604),(\"ingredients\",1,0.559226),(\"meat\",1,0.55478),(\"spices\",1,0.553243),(\"potatoes\",1,0.552766),(\"flour\",1,0.552601),(\"soup\",1,0.550143),(\"corn\",1,0.547027)]\n",
      "\n",
      "0.17003412234580592\tTuple{AbstractString,Int64,Float32}[(\"unfaithful\",2,0.54388),(\"noisy\",3,0.531049),(\"sucks\",2,0.522041),(\"mentality\",2,0.504103),(\"joes\",2,0.50138),(\"jimmy's\",2,0.501343),(\"emancipation\",2,0.501151),(\"specks\",2,0.499993),(\"satanic\",2,0.499443),(\"pastiche\",2,0.498762)]\n",
      "\n",
      "2.1832257134337443e-5\tTuple{AbstractString,Int64,Float32}[(\"sealed\",1,0.227182),(\"cfm\",1,0.221162),(\"irrigate\",1,0.220692),(\"primer\",1,0.220021),(\"conditioning\",2,0.218497),(\"hillgruber\",1,0.21836),(\"meghalaya\",1,0.217655),(\"ján\",2,0.21676),(\"buoyancy\",2,0.215973),(\"ussb\",1,0.215058)]\n",
      "\n",
      "3.2757727950785214e-6\tTuple{AbstractString,Int64,Float32}[(\"deputies\",1,0.252723),(\"outlawing\",1,0.224164),(\"crafts\",2,0.219306),(\"reno\",2,0.219105),(\"dependency\",2,0.216883),(\"franco-german\",1,0.210326),(\"burroughs\",2,0.208927),(\"patriotic\",2,0.207908),(\"testers\",1,0.207314),(\"distanced\",1,0.206959)]\n",
      "\n"
     ]
    }
   ],
   "source": [
    "word = \"fried\"\n",
    "prior_probs = expected_pi(vm, dict.word2id[word])\n",
    "for ii in 1:5\n",
    "    println(prior_probs[ii],\"\\t\",nearest_neighbors(vm, dict, word, ii, 10))\n",
    "    println()\n",
    "end"
   ]
  },
  {
   "cell_type": "code",
   "execution_count": 35,
   "metadata": {
    "collapsed": true
   },
   "outputs": [],
   "source": [
    "using AdaGramCompat"
   ]
  },
  {
   "cell_type": "code",
   "execution_count": 36,
   "metadata": {
    "collapsed": true
   },
   "outputs": [],
   "source": [
    "am = AdaGramModel(vm, dict)\n",
    "JLD.save(output_fn*\".jld\", \"am\", am)"
   ]
  },
  {
   "cell_type": "code",
   "execution_count": null,
   "metadata": {
    "collapsed": false
   },
   "outputs": [],
   "source": [
    "import WordEmbeddings: NetworkType\n",
    "\n",
    "type SemHuffNetwork <: NetworkType\n",
    "    semtree::GenWordEmbedding\n",
    "end"
   ]
  },
  {
   "cell_type": "code",
   "execution_count": null,
   "metadata": {
    "collapsed": false
   },
   "outputs": [],
   "source": [
    "using Training\n",
    "using PooledElements"
   ]
  },
  {
   "cell_type": "code",
   "execution_count": 41,
   "metadata": {
    "collapsed": false
   },
   "outputs": [
    {
     "data": {
      "text/plain": [
       "Trees.BranchNode"
      ]
     },
     "execution_count": 41,
     "metadata": {},
     "output_type": "execute_result"
    }
   ],
   "source": [
    "semtree |> typeof"
   ]
  },
  {
   "cell_type": "code",
   "execution_count": null,
   "metadata": {
    "collapsed": true
   },
   "outputs": [],
   "source": []
  },
  {
   "cell_type": "code",
   "execution_count": null,
   "metadata": {
    "collapsed": false
   },
   "outputs": [],
   "source": [
    "function initialize_network!(embed::GenWordEmbedding, network_type::SemHuff)\n",
    "    embed.classification_tree = transform_tree(semtree, \n",
    "                            leaf_transform = word->word,\n",
    "    internal_transform = dummy -> LinearClassifier(2,embed.dim))\n",
    "    \n",
    "    embed.codebook = Dict(leaves_of(classification_tree))\n",
    "    debug(\"Completed SemHuff Bootstrapping\")\n",
    "    embed\n",
    "end"
   ]
  },
  {
   "cell_type": "code",
   "execution_count": null,
   "metadata": {
    "collapsed": false
   },
   "outputs": [],
   "source": [
    "sem_ee = deepcopy(ee)\n",
    "sem_ee.network_type = SemHuff(ee)\n",
    "sem_ee.embedding = Dict(pstring(word)=>wv for (word, similar(wv)) in ee.embedding)\n",
    "initialize_embedding(sem_ee,sem_ee.init_type)\n",
    "initialize_network!(sem_ee,sem_ee.network_type)"
   ]
  },
  {
   "cell_type": "code",
   "execution_count": null,
   "metadata": {
    "collapsed": true
   },
   "outputs": [],
   "source": []
  },
  {
   "cell_type": "code",
   "execution_count": null,
   "metadata": {
    "collapsed": true
   },
   "outputs": [],
   "source": []
  },
  {
   "cell_type": "code",
   "execution_count": null,
   "metadata": {
    "collapsed": true
   },
   "outputs": [],
   "source": []
  }
 ],
 "metadata": {
  "kernelspec": {
   "display_name": "Julia 0.5.0-rc0",
   "language": "julia",
   "name": "julia-0.5"
  },
  "language_info": {
   "file_extension": ".jl",
   "mimetype": "application/julia",
   "name": "julia",
   "version": "0.5.0"
  }
 },
 "nbformat": 4,
 "nbformat_minor": 0
}
