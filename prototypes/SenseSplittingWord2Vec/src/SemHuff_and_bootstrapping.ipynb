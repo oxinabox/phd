{
 "cells": [
  {
   "cell_type": "code",
   "execution_count": 1,
   "metadata": {
    "collapsed": false
   },
   "outputs": [],
   "source": [
    "using WordNet\n",
    "using WordEmbeddings, SoftmaxClassifier\n",
    "using Utils\n",
    "using Query\n",
    "using Distances\n",
    "using Iterators\n",
    "using NearestNeighbors\n",
    "using JLD\n",
    "using Trees\n",
    "using AbstractTrees"
   ]
  },
  {
   "cell_type": "code",
   "execution_count": 2,
   "metadata": {
    "collapsed": false
   },
   "outputs": [
    {
     "data": {
      "text/plain": [
       "Word embedding(dimension = 50)of 88262 words\n"
      ]
     },
     "execution_count": 2,
     "metadata": {},
     "output_type": "execute_result"
    }
   ],
   "source": [
    "ee = load(\"../eval/models/plain/tokenised_lowercase_WestburyLab.wikicorp.201004_50__i1.jld\",\"ee\");\n",
    "#ee = restore(\"../eval/models/ss/keep/tokenised_lowercase_WestburyLab.wikicorp.201004_100_i1.model\")\n",
    "#dtree,labels = nn_using AbstractTreestree(ee)\n",
    "#\"\""
   ]
  },
  {
   "cell_type": "code",
   "execution_count": 3,
   "metadata": {
    "collapsed": false
   },
   "outputs": [
    {
     "data": {
      "text/plain": [
       "Lumberjack.LumberjackTruck(IOStream(<file semhuff_ipynb.log>),nothing,Dict{Any,Any}(Pair{Any,Any}(:is_colorized,false),Pair{Any,Any}(:uppercase,false)))"
      ]
     },
     "execution_count": 3,
     "metadata": {},
     "output_type": "execute_result"
    }
   ],
   "source": [
    "using Lumberjack\n",
    "remove_truck(\"console\")\n",
    "add_truck(LumberjackTruck(STDOUT, \"info\", Dict{Symbol,Any}(:is_colorized => true)), \"console\")\n",
    "add_truck(LumberjackTruck(\"semhuff_ipynb.log\"), \"file-logger\")"
   ]
  },
  {
   "cell_type": "code",
   "execution_count": 4,
   "metadata": {
    "collapsed": false
   },
   "outputs": [],
   "source": [
    "#run(`tail semhuff_ipynb.log`)"
   ]
  },
  {
   "cell_type": "code",
   "execution_count": 5,
   "metadata": {
    "collapsed": false
   },
   "outputs": [
    {
     "data": {
      "text/plain": [
       "get_all_matchs (generic function with 1 method)"
      ]
     },
     "execution_count": 5,
     "metadata": {},
     "output_type": "execute_result"
    }
   ],
   "source": [
    "import BlossomV: Matching, add_edge, get_match,PerfectMatchingCtx,solve\n",
    "\n",
    "dense_num_edges(node_num) =  node_num*(node_num-1)÷2\n",
    "Matching(node_num::Integer) = Matching(node_num,dense_num_edges)      \n",
    "Matching(node_num::Integer, edge_num_max::Integer) = Matching(Int32(node_num), Int32(edge_num_max))\n",
    "\n",
    "add_edge(matching::PerfectMatchingCtx,\n",
    "        first_node::Integer,\n",
    "        second_node::Integer, cost::Integer) = add_edge(matching, \n",
    "                                                        Int32(first_node), \n",
    "                                                        Int32(second_node),\n",
    "                                                        Int32(cost))\n",
    "\n",
    "\n",
    "function safe_add_edge(matching::PerfectMatchingCtx,\n",
    "                        first_node::Integer,\n",
    "                        second_node::Integer, cost::Integer)\n",
    "    first_node != second_node || error(\"Can not have an edge between $(first_node) and itself\")\n",
    "    first_node >= 0  || error(\"first_node less than zero (value: $(first_node)). Indexes are zero-based\")\n",
    "    second_node >= 0  || error(\"second_node less than zero (value: $(second_node)). Indexes are zero-based\")\n",
    "    cost >= 0  || error(\"Cost must be positive. edge between $(first_node) and $(second_node) is $cost\")\n",
    "    \n",
    "    debug(\"BlossomV: add_edge($matching, $(first_node), $(second_node), $cost)\")\n",
    "    add_edge(matching, first_node, second_node, cost)\n",
    "end\n",
    "\n",
    "get_match(matching::PerfectMatchingCtx, node::Integer) = get_match(matching, Int32(node))\n",
    "\n",
    "\n",
    "function get_all_matchs(m::PerfectMatchingCtx, n_nodes::Integer) #HACK, you have to specidfiy the number of nodes, cos I can't pull it from the Matching object\n",
    "    ret = Matrix{Int32}(2, n_nodes÷2)\n",
    "    assigned = falses(n_nodes)\n",
    "    kk = 1\n",
    "    for ii in 0:n_nodes-1\n",
    "        assigned[ii+1] && continue\n",
    "        jj = get_match(m, ii)\n",
    "        @assert(!assigned[jj+1])\n",
    "        assigned[ii+1] = true\n",
    "        assigned[jj+1] = true\n",
    "        \n",
    "        ret[1,kk] = ii\n",
    "        ret[2,kk] = jj\n",
    "        kk+=1\n",
    "    end\n",
    "    @assert(kk-1 == n_nodes÷2)\n",
    "    return ret\n",
    "end"
   ]
  },
  {
   "cell_type": "code",
   "execution_count": 21,
   "metadata": {
    "collapsed": false
   },
   "outputs": [
    {
     "data": {
      "text/plain": [
       "most_similar_pairings"
      ]
     },
     "execution_count": 21,
     "metadata": {},
     "output_type": "execute_result"
    }
   ],
   "source": [
    "\"\"\"\n",
    "dist_func must resturn a values between 0.0 and 1.0. \n",
    "result is a matrix where each column is a pairing of items, expressed as there index (1 indexed)\n",
    "\"\"\"\n",
    "function most_similar_pairings(dist_func::Function, items, consider_nearest_n::Integer)\n",
    "    m = Matching(length(items), min(dense_num_edges(length(items)), length(items)*consider_nearest_n))\n",
    "    #sims = Matrix{Int32}(length(items),length(items)).*Inf #for Debug purposes\n",
    "    for ii in (1:length(items)-1)\n",
    "        jjs = ii+1:length(items)\n",
    "        dists = [dist_func(items[ii], items[jj]) for jj in jjs]\n",
    "        nearest_jjs = if consider_nearest_n < length(jjs)\n",
    "            jjs[selectperm(dists, 1:consider_nearest_n)]\n",
    "        else\n",
    "            jjs\n",
    "        end\n",
    "            \n",
    "        for (jj,dist) in zip(nearest_jjs,dists)\n",
    "            @assert dist<=1.0\n",
    "            scale = typemax(Int32)>>4\n",
    "            approx_dist = round(Int32, dist*scale)\n",
    "            #sims[ii,jj]=approx_dist\n",
    "            #println(join([m, ii-1, jj-1, approx_dist],\"\\t\"))\n",
    "            safe_add_edge(m, ii-1,jj-1 , approx_dist)\n",
    "        end\n",
    "    end\n",
    "    solve(m)\n",
    "    get_all_matchs(m, length(items)) .+ 1    \n",
    "end"
   ]
  },
  {
   "cell_type": "code",
   "execution_count": 55,
   "metadata": {
    "collapsed": false
   },
   "outputs": [
    {
     "data": {
      "text/html": [
       "4 methods for generic function <b>Type</b>:<ul><li> (::<b>Type{NearestNeighbors.BallTree}</b>)<i>{T<:AbstractFloat,M<:Distances.Metric}</i>(data::<b>Array{T,2}</b>, hyper_spheres::<b>Array{NearestNeighbors.HyperSphere{T},1}</b>, indices::<b>Array{Int64,1}</b>, metric::<b>M</b>, tree_data::<b>NearestNeighbors.TreeData</b>, reordered::<b>Bool</b>) at <a href=\"https://github.com/KristofferC/NearestNeighbors.jl/tree/432bf2b2eb48679e632a8e110d5cbd1666f429d3/src/ball_tree.jl#L7\" target=\"_blank\">/home/ubuntu/.julia/v0.5/NearestNeighbors/src/ball_tree.jl:7</a></li> <li> (::<b>Type{NearestNeighbors.BallTree}</b>)<i>{T<:AbstractFloat}</i>(data::<b>Array{T,2}</b>) at <a href=\"https://github.com/KristofferC/NearestNeighbors.jl/tree/432bf2b2eb48679e632a8e110d5cbd1666f429d3/src/ball_tree.jl#L42\" target=\"_blank\">/home/ubuntu/.julia/v0.5/NearestNeighbors/src/ball_tree.jl:42</a></li> <li> (::<b>Type{NearestNeighbors.BallTree}</b>)<i>{T<:AbstractFloat,M<:Distances.Metric}</i>(data::<b>Array{T,2}</b>, metric::<b>M</b>; <i>leafsize, reorder, storedata, indicesfor, reorderbuffer</i>) at <a href=\"https://github.com/KristofferC/NearestNeighbors.jl/tree/432bf2b2eb48679e632a8e110d5cbd1666f429d3/src/ball_tree.jl#L42\" target=\"_blank\">/home/ubuntu/.julia/v0.5/NearestNeighbors/src/ball_tree.jl:42</a></li> <li> (::<b>Type{T}</b>)<i>{T}</i>(arg) at <a href=\"https://github.com/JuliaLang/julia/tree/93ee8dd2e2eccb79871133f980b9cebc9166b260/base/sysimg.jl#L53\" target=\"_blank\">sysimg.jl:53</a></li> </ul>"
      ],
      "text/plain": [
       "# 4 methods for generic function \"(::Type)\":\n",
       "(::Type{NearestNeighbors.BallTree}){T<:AbstractFloat,M<:Distances.Metric}(data::Array{T,2}, hyper_spheres::Array{NearestNeighbors.HyperSphere{T},1}, indices::Array{Int64,1}, metric::M, tree_data::NearestNeighbors.TreeData, reordered::Bool) at /home/ubuntu/.julia/v0.5/NearestNeighbors/src/ball_tree.jl:7\n",
       "(::Type{NearestNeighbors.BallTree}){T<:AbstractFloat}(data::Array{T,2}) at /home/ubuntu/.julia/v0.5/NearestNeighbors/src/ball_tree.jl:42\n",
       "(::Type{NearestNeighbors.BallTree}){T<:AbstractFloat,M<:Distances.Metric}(data::Array{T,2}, metric::M; leafsize, reorder, storedata, indicesfor, reorderbuffer) at /home/ubuntu/.julia/v0.5/NearestNeighbors/src/ball_tree.jl:42\n",
       "(::Type{T}){T}(arg) at sysimg.jl:53"
      ]
     },
     "execution_count": 55,
     "metadata": {},
     "output_type": "execute_result"
    }
   ],
   "source": [
    "methods(BallTree)"
   ]
  },
  {
   "cell_type": "code",
   "execution_count": 62,
   "metadata": {
    "collapsed": false
   },
   "outputs": [
    {
     "data": {
      "text/plain": [
       "most_similar_pairings2"
      ]
     },
     "execution_count": 62,
     "metadata": {},
     "output_type": "execute_result"
    }
   ],
   "source": [
    "\"\"\"\n",
    "dist_func must resturn a values between 0.0 and 1.0. \n",
    "result is a matrix where each column is a pairing of items, expressed as there index (1 indexed)\n",
    "\"\"\"\n",
    "function most_similar_pairings2(dist_func::Function, items, consider_nearest_n::Integer)\n",
    "    \n",
    "    m = Matching(length(items), min(dense_num_edges(length(items)), length(items)*consider_nearest_n))\n",
    "    btree = BallTree(hcat(items...), AngularDist(); leafsize = 5) #TODO Use the dist_fun\n",
    "    \n",
    "    for ii in (1:length(items)-1)\n",
    "        nearest_jjs, dists = knn(btree,items[ii], consider_nearest_n+1,false) #add 1 cos gonna remove self match\n",
    "            \n",
    "        for (jj,dist) in zip(nearest_jjs,dists)\n",
    "            jj == ii && continue \n",
    "            \n",
    "            @assert dist<=1.0\n",
    "            scale = typemax(Int32)>>4\n",
    "            approx_dist = round(Int32, dist*scale)\n",
    "            #sims[ii,jj]=approx_dist\n",
    "            #println(join([m, ii-1, jj-1, approx_dist],\"\\t\"))\n",
    "            safe_add_edge(m, ii-1,jj-1 , approx_dist)\n",
    "        end\n",
    "    end\n",
    "    solve(m)\n",
    "    get_all_matchs(m, length(items)) .+ 1    \n",
    "end"
   ]
  },
  {
   "cell_type": "code",
   "execution_count": 57,
   "metadata": {
    "collapsed": false
   },
   "outputs": [],
   "source": [
    "eg_embeddings = [randn(50) for ii in 1:1_000];"
   ]
  },
  {
   "cell_type": "code",
   "execution_count": 58,
   "metadata": {
    "collapsed": false
   },
   "outputs": [
    {
     "name": "stdout",
     "output_type": "stream",
     "text": [
      "perfect matching with 1000 nodes and 29535 edges\n",
      "    starting init...done [0.006 secs]. 2 trees\n",
      "    .0.\n",
      "done [0.007 secs]. 152 grows, 0 expands, 11 shrinks\n",
      "    expands: [0.000 secs], shrinks: [0.000 secs], dual updates: [0.000 secs]\n",
      "perfect matching with 1000 nodes and 29535 edges\n",
      "    starting init...done [0.006 secs]. 2 trees\n",
      "    .0.\n",
      "done [0.007 secs]. 152 grows, 0 expands, 11 shrinks\n",
      "    expands: [0.000 secs], shrinks: [0.000 secs], dual updates: [0.000 secs]\n",
      "------------------------------\n",
      "(3.138574875,243893408,0.198454563,Base.GC_Diff(243893408,0,0,4715478,1512,0,198454563,10,0))\n",
      "(3.099048185,239512432,0.202422361,Base.GC_Diff(239512432,0,0,4624225,1512,0,202422361,10,0))\n"
     ]
    }
   ],
   "source": [
    "gc()\n",
    "timedata1 = @timed most_similar_pairings(angular_dist, eg_embeddings, 30)\n",
    "gc()\n",
    "timedata2 = @timed most_similar_pairings(angular_dist, eg_embeddings, 30)\n",
    "println(\"-\"^30)\n",
    "println(timedata1[2:end])\n",
    "println(timedata2[2:end])"
   ]
  },
  {
   "cell_type": "code",
   "execution_count": 63,
   "metadata": {
    "collapsed": false
   },
   "outputs": [
    {
     "ename": "LoadError",
     "evalue": "LoadError: InterruptException:\nwhile loading In[63], in expression starting on line 211",
     "output_type": "error",
     "traceback": [
      "LoadError: InterruptException:\nwhile loading In[63], in expression starting on line 211",
      "",
      " in lookup(::Ptr{Void}) at ./stacktraces.jl:128",
      " in firstcaller(::Array{Ptr{Void},1}, ::Symbol) at ./deprecated.jl:79",
      " in depwarn(::String, ::Symbol) at ./deprecated.jl:65",
      " in slice(::Array{Float64,2}, ::Vararg{Any,N}) at ./deprecated.jl:30",
      " in evaluate at /home/ubuntu/.julia/v0.5/NearestNeighbors/src/evaluation.jl:47 [inlined]",
      " in add_points_knn! at /home/ubuntu/.julia/v0.5/NearestNeighbors/src/tree_ops.jl:99 [inlined]",
      " in knn_kernel!(::NearestNeighbors.BallTree{Float64,Query.AngularDist}, ::Int64, ::Array{Float64,1}, ::Array{Int64,1}, ::Array{Float64,1}, ::Function) at /home/ubuntu/.julia/v0.5/NearestNeighbors/src/ball_tree.jl:145",
      " in knn_kernel!(::NearestNeighbors.BallTree{Float64,Query.AngularDist}, ::Int64, ::Array{Float64,1}, ::Array{Int64,1}, ::Array{Float64,1}, ::Function) at /home/ubuntu/.julia/v0.5/NearestNeighbors/src/ball_tree.jl:159",
      " in knn_kernel!(::NearestNeighbors.BallTree{Float64,Query.AngularDist}, ::Int64, ::Array{Float64,1}, ::Array{Int64,1}, ::Array{Float64,1}, ::Function) at /home/ubuntu/.julia/v0.5/NearestNeighbors/src/ball_tree.jl:164",
      " in knn_kernel!(::NearestNeighbors.BallTree{Float64,Query.AngularDist}, ::Int64, ::Array{Float64,1}, ::Array{Int64,1}, ::Array{Float64,1}, ::Function) at /home/ubuntu/.julia/v0.5/NearestNeighbors/src/ball_tree.jl:162 (repeats 2 times)",
      " in knn_kernel!(::NearestNeighbors.BallTree{Float64,Query.AngularDist}, ::Int64, ::Array{Float64,1}, ::Array{Int64,1}, ::Array{Float64,1}, ::Function) at /home/ubuntu/.julia/v0.5/NearestNeighbors/src/ball_tree.jl:164 (repeats 4 times)",
      " in _knn(::NearestNeighbors.BallTree{Float64,Query.AngularDist}, ::Array{Float64,1}, ::Int64, ::Function) at /home/ubuntu/.julia/v0.5/NearestNeighbors/src/ball_tree.jl:133",
      " in knn(::NearestNeighbors.BallTree{Float64,Query.AngularDist}, ::Array{Float64,1}, ::Int64, ::Bool, ::Function) at /home/ubuntu/.julia/v0.5/NearestNeighbors/src/knn.jl:23",
      " in knn(::NearestNeighbors.BallTree{Float64,Query.AngularDist}, ::Array{Float64,1}, ::Int64, ::Bool) at /home/ubuntu/.julia/v0.5/NearestNeighbors/src/knn.jl:10",
      " in most_similar_pairings2(::Function, ::Array{Array{Float64,1},1}, ::Int64) at ./In[62]:11",
      " in include_string(::String, ::String) at ./loading.jl:380",
      " in eventloop(::ZMQ.Socket) at /home/ubuntu/.julia/v0.5/IJulia/src/IJulia.jl:143",
      " in (::IJulia.##26#32)() at ./task.jl:309"
     ]
    }
   ],
   "source": [
    "gc()\n",
    "timedata1 = @timed most_similar_pairings2(angular_dist, eg_embeddings, 30)\n",
    "gc()\n",
    "timedata2 = @timed most_similar_pairings2(angular_dist, eg_embeddings, 30)\n",
    "println(\"-\"^30)\n",
    "println(timedata1[2:end])\n",
    "println(timedata2[2:end])"
   ]
  },
  {
   "cell_type": "code",
   "execution_count": null,
   "metadata": {
    "collapsed": true
   },
   "outputs": [],
   "source": []
  },
  {
   "cell_type": "code",
   "execution_count": null,
   "metadata": {
    "collapsed": true
   },
   "outputs": [],
   "source": []
  },
  {
   "cell_type": "code",
   "execution_count": 7,
   "metadata": {
    "collapsed": false
   },
   "outputs": [
    {
     "data": {
      "text/plain": [
       "treemap"
      ]
     },
     "execution_count": 7,
     "metadata": {},
     "output_type": "execute_result"
    }
   ],
   "source": [
    "\"Returns a new tree, with the same structure but different values for the data\"\n",
    "function treemap(node::BranchNode; leaf_transform=identity, internal_transform=identity)\n",
    "    function treemap_inner(node, leaf_transform, internal_transform)\n",
    "        data = Trees.isleaf(node) ? leaf_transform(node.data) : internal_transform(node.data)\n",
    "        children = BranchNode[treemap_inner(child, leaf_transform, internal_transform)  for child in node.children]\n",
    "        new_node = BranchNode(copy(children), data)\n",
    "    end\n",
    "    treemap_inner(node, leaf_transform, internal_transform)\n",
    "end\n",
    "    "
   ]
  },
  {
   "cell_type": "code",
   "execution_count": 10,
   "metadata": {
    "collapsed": false
   },
   "outputs": [
    {
     "name": "stdout",
     "output_type": "stream",
     "text": [
      "Trees.BranchNode with 2 children. data = \"1\"\n",
      "├─ Trees.BranchNode with 0 children. data = \"11\"\n",
      "└─ Trees.BranchNode with 2 children. data = \"12\"\n",
      "   ├─ Trees.BranchNode with 0 children. data = \"121\"\n",
      "   └─ Trees.BranchNode with 0 children. data = \"122\"\n",
      "\n",
      "Trees.BranchNode with 2 children. data = \"x1\"\n",
      "├─ Trees.BranchNode with 0 children. data = \"L11\"\n",
      "└─ Trees.BranchNode with 2 children. data = \"x12\"\n",
      "   ├─ Trees.BranchNode with 0 children. data = \"L121\"\n",
      "   └─ Trees.BranchNode with 0 children. data = \"L122\"\n"
     ]
    }
   ],
   "source": [
    "#TODO make this a testcase\n",
    "x = BranchNode(\n",
    "[BranchNode([],\"11\"),BranchNode([\n",
    "        BranchNode([],\"121\"),BranchNode([],\"122\"),\n",
    "        ],\"12\")],\n",
    "    \"1\"\n",
    ")\n",
    "print_tree(STDOUT, x)\n",
    "\n",
    "println()\n",
    "y=treemap(x, leaf_transform = word->\"L\"*word, internal_transform = dummy -> \"x\"*dummy)\n",
    "print_tree(STDOUT, y)"
   ]
  },
  {
   "cell_type": "code",
   "execution_count": 15,
   "metadata": {
    "collapsed": false,
    "scrolled": true
   },
   "outputs": [
    {
     "data": {
      "text/plain": [
       "semhuff"
      ]
     },
     "execution_count": 15,
     "metadata": {},
     "output_type": "execute_result"
    }
   ],
   "source": [
    "\"\"\"\n",
    "Assumes that the `tree` is already a Huffman tree.\n",
    "\"\"\"\n",
    "function semhuff(classification_tree, embeddings, consider_nearest_n)\n",
    "    embedding_dim = length(first(embeddings))\n",
    "    sim_tree = treemap(classification_tree, \n",
    "                            leaf_transform = word->word,\n",
    "                            internal_transform = dummy -> \"\")\n",
    "    \n",
    "    nodes_at_depth, codes_at_depth = levels(sim_tree)\n",
    "    maxdepth = length(nodes_at_depth)\n",
    "    \n",
    "    \n",
    "    embeds = [embeddings[node.data] for node in nodes_at_depth[maxdepth]]\n",
    "    #Dict(code => embeddings[node.data] for (code, node) in zip(codes_at_depth[maxdepth], nodes_at_depth[maxdepth]))\n",
    "    for depth in maxdepth:-1:2\n",
    "        info(\"semantically sorting level: $depth\")\n",
    "        nodes = nodes_at_depth[depth]\n",
    "        \n",
    "        pair_indexes = most_similar_pairings(Query.angular_dist, embeds, consider_nearest_n)\n",
    "        \n",
    "        #We will now, assign the new nodes to parents in arbitary order\n",
    "        nodes_above = nodes_at_depth[depth-1]\n",
    "        embeds_above = typeof(embeds)(length(nodes_above))\n",
    "        pair_jj = 1\n",
    "\n",
    "        for (above_ii,node_above) in enumerate(nodes_above)\n",
    "\n",
    "            if Trees.isleaf(node_above)\n",
    "                embeds_above[above_ii] = embeddings[node_above.data]\n",
    "            else\n",
    "                #It is a branch so put a pair of nodes here\n",
    "                @assert (length(node_above.children) == 2)\n",
    "                child_index1  = pair_indexes[1,pair_jj]\n",
    "                child_index2  = pair_indexes[2,pair_jj]\n",
    "                pair_jj += 1\n",
    "                node_above.children[1] = nodes[child_index1]\n",
    "                node_above.children[2] = nodes[child_index2]\n",
    "                embeds_above[above_ii] = (embeds[child_index1] + embeds[child_index2])/2.0\n",
    "                #@show nodes[child_index1], nodes[child_index2]\n",
    "            end\n",
    "        end\n",
    "        @assert(pair_jj - 1  == size(pair_indexes,2), \"$(pair_jj) != $(length(pair_indexes)) + 1\") #All pairs must be assigned.\n",
    "            \n",
    "        embeds = embeds_above\n",
    "    end\n",
    "    sim_tree\n",
    "end\n",
    "    \n",
    "    "
   ]
  },
  {
   "cell_type": "code",
   "execution_count": 19,
   "metadata": {
    "collapsed": false
   },
   "outputs": [
    {
     "name": "stdout",
     "output_type": "stream",
     "text": [
      "2016-07-28T18:52:51.549 - info: semantically sorting level: 22\n",
      "perfect matching with 6518 nodes and 195075 edges\n",
      "    starting init...done [0.156 secs]. 10 trees\n",
      "    .8.6.4.2.0.\n",
      "done [0.174 secs]. 928 grows, 0 expands, 17 shrinks\n",
      "    expands: [0.000 secs], shrinks: [0.000 secs], dual updates: [0.000 secs]\n",
      "2016-07-28T18:53:19.696 - info: semantically sorting level: 21\n",
      "perfect matching with 32324 nodes and 969255 edges\n",
      "    starting init...done [2.009 secs]. 68 trees\n",
      "    .64.56.48.40.32.24.16.8.6.4.2.0.\n",
      "done [2.358 secs]. 7170 grows, 4 expands, 99 shrinks\n",
      "    expands: [0.001 secs], shrinks: [0.002 secs], dual updates: [0.001 secs]\n",
      "2016-07-28T18:59:08.737 - info: semantically sorting level: 20\n",
      "perfect matching with 34866 nodes and 1045515 edges\n",
      "    starting init...done [2.114 secs]. 78 trees\n",
      "    .64.56.48.40.32.24.16.8.6.4.2.0.\n",
      "done [2.313 secs]. 6635 grows, 4 expands, 117 shrinks\n",
      "    expands: [0.001 secs], shrinks: [0.003 secs], dual updates: [0.001 secs]\n",
      "2016-07-28T19:06:01.238 - info: semantically sorting level: 19\n",
      "perfect matching with 29796 nodes and 893415 edges\n",
      "    starting init...done [1.461 secs]. 74 trees\n",
      "    .64.56.48.40.32.24.16.8.6.4.2.0.\n",
      "done [1.655 secs]. 6478 grows, 5 expands, 101 shrinks\n",
      "    expands: [0.001 secs], shrinks: [0.001 secs], dual updates: [0.001 secs]\n",
      "2016-07-28T19:11:06.391 - info: semantically sorting level: 18\n",
      "perfect matching with 22790 nodes and 683235 edges\n",
      "    starting init...done [0.949 secs]. 74 trees\n",
      "    .64.56.48.40.32.24.16.8.6.4.2.0.\n",
      "done [1.193 secs]. 6769 grows, 3 expands, 108 shrinks\n",
      "    expands: [0.000 secs], shrinks: [0.003 secs], dual updates: [0.001 secs]\n",
      "2016-07-28T19:14:26.334 - info: semantically sorting level: 17\n",
      "perfect matching with 16572 nodes and 496695 edges\n",
      "    starting init...done [0.466 secs]. 54 trees\n",
      "    .48.40.32.24.16.8.6.4.2.0.\n",
      "done [0.536 secs]. 2936 grows, 4 expands, 99 shrinks\n",
      "    expands: [0.000 secs], shrinks: [0.001 secs], dual updates: [0.000 secs]\n",
      "2016-07-28T19:16:19.94 - info: semantically sorting level: 16\n",
      "perfect matching with 11620 nodes and 348135 edges\n",
      "    starting init...done [0.336 secs]. 48 trees\n",
      "    .40.32.24.16.8.6.4.2.0.\n",
      "done [0.402 secs]. 2789 grows, 5 expands, 70 shrinks\n",
      "    expands: [0.000 secs], shrinks: [0.001 secs], dual updates: [0.000 secs]\n",
      "2016-07-28T19:17:26.434 - info: semantically sorting level: 15\n",
      "perfect matching with 8032 nodes and 240495 edges\n",
      "    starting init...done [0.153 secs]. 24 trees\n",
      "    .16.8.6.4.2.0.\n",
      "done [0.194 secs]. 2169 grows, 4 expands, 41 shrinks\n",
      "    expands: [0.000 secs], shrinks: [0.001 secs], dual updates: [0.000 secs]\n",
      "2016-07-28T19:18:02.081 - info: semantically sorting level: 14\n",
      "perfect matching with 5438 nodes and 162675 edges\n",
      "    starting init...done [0.144 secs]. 22 trees\n",
      "    .16.8.6.4.2.0.\n",
      "done [0.163 secs]. 989 grows, 1 expands, 32 shrinks\n",
      "    expands: [0.000 secs], shrinks: [0.000 secs], dual updates: [0.000 secs]\n",
      "2016-07-28T19:18:23.362 - info: semantically sorting level: 13\n",
      "perfect matching with 3558 nodes and 106275 edges\n",
      "    starting init...done [0.043 secs]. 16 trees\n",
      "    .8.6.4.2.0.\n",
      "done [0.049 secs]. 549 grows, 2 expands, 25 shrinks\n",
      "    expands: [0.000 secs], shrinks: [0.000 secs], dual updates: [0.000 secs]\n",
      "2016-07-28T19:18:35.833 - info: semantically sorting level: 12\n",
      "perfect matching with 2184 nodes and 65055 edges\n",
      "    starting init...done [0.020 secs]. 14 trees\n",
      "    .8.6.4.2.0.\n",
      "done [0.026 secs]. 638 grows, 4 expands, 21 shrinks\n",
      "    expands: [0.000 secs], shrinks: [0.000 secs], dual updates: [0.000 secs]\n",
      "2016-07-28T19:18:42.7 - info: semantically sorting level: 11\n",
      "perfect matching with 1284 nodes and 38055 edges\n",
      "    starting init...done [0.007 secs]. 8 trees\n",
      "    .6.4.2.0.\n",
      "done [0.009 secs]. 180 grows, 1 expands, 12 shrinks\n",
      "    expands: [0.000 secs], shrinks: [0.000 secs], dual updates: [0.000 secs]\n",
      "2016-07-28T19:18:46.773 - info: semantically sorting level: 10\n",
      "perfect matching with 718 nodes and 21075 edges\n",
      "    starting init...done [0.003 secs]. 4 trees\n",
      "    .2.0.\n",
      "done [0.004 secs]. 81 grows, 0 expands, 5 shrinks\n",
      "    expands: [0.000 secs], shrinks: [0.000 secs], dual updates: [0.000 secs]\n",
      "2016-07-28T19:18:48.693 - info: semantically sorting level: 9\n",
      "perfect matching with 382 nodes and 10995 edges\n",
      "    starting init...done [0.002 secs]. 0 trees\n",
      "    .\n",
      "done [0.002 secs]. 0 grows, 0 expands, 0 shrinks\n",
      "    expands: [0.000 secs], shrinks: [0.000 secs], dual updates: [0.000 secs]\n",
      "2016-07-28T19:18:49.767 - info: semantically sorting level: 8\n",
      "perfect matching with 202 nodes and 5595 edges\n",
      "    starting init...done [0.001 secs]. 0 trees\n",
      "    .\n",
      "done [0.001 secs]. 0 grows, 0 expands, 0 shrinks\n",
      "    expands: [0.000 secs], shrinks: [0.000 secs], dual updates: [0.000 secs]\n",
      "2016-07-28T19:18:50.352 - info: semantically sorting level: 7\n",
      "perfect matching with 112 nodes and 2895 edges\n",
      "    starting init...done [0.000 secs]. 2 trees\n",
      "    .0.\n",
      "done [0.001 secs]. 25 grows, 0 expands, 2 shrinks\n",
      "    expands: [0.000 secs], shrinks: [0.000 secs], dual updates: [0.000 secs]\n",
      "2016-07-28T19:18:50.626 - info: semantically sorting level: 6\n",
      "perfect matching with 64 nodes and 1455 edges\n",
      "    starting init...done [0.000 secs]. 0 trees\n",
      "    .\n",
      "done [0.000 secs]. 0 grows, 0 expands, 0 shrinks\n",
      "    expands: [0.000 secs], shrinks: [0.000 secs], dual updates: [0.000 secs]\n",
      "2016-07-28T19:18:50.743 - info: semantically sorting level: 5\n",
      "perfect matching with 32 nodes and 495 edges\n",
      "    starting init...done [0.000 secs]. 2 trees\n",
      "    .0.\n",
      "done [0.000 secs]. 4 grows, 0 expands, 2 shrinks\n",
      "    expands: [0.000 secs], shrinks: [0.000 secs], dual updates: [0.000 secs]\n",
      "2016-07-28T19:18:50.783 - info: semantically sorting level: 4\n",
      "perfect matching with 16 nodes and 120 edges\n",
      "    starting init...done [0.001 secs]. 2 trees\n",
      "    .0.\n",
      "done [0.001 secs]. 4 grows, 0 expands, 4 shrinks\n",
      "    expands: [0.000 secs], shrinks: [0.000 secs], dual updates: [0.000 secs]\n",
      "2016-07-28T19:18:50.795 - info: semantically sorting level: 3\n",
      "perfect matching with 8 nodes and 28 edges\n",
      "    starting init...done [0.000 secs]. 2 trees\n",
      "    .0.\n",
      "done [0.000 secs]. 3 grows, 0 expands, 2 shrinks\n",
      "    expands: [0.000 secs], shrinks: [0.000 secs], dual updates: [0.000 secs]\n",
      "2016-07-28T19:18:50.799 - info: semantically sorting level: 2\n",
      "perfect matching with 4 nodes and 6 edges\n",
      "    starting init...done [0.000 secs]. 0 trees\n",
      "    .\n",
      "done [0.000 secs]. 0 grows, 0 expands, 0 shrinks\n",
      "    expands: [0.000 secs], shrinks: [0.000 secs], dual updates: [0.000 secs]\n",
      "1569.071207 seconds (2.86 G allocations: 92.087 GB, 5.44% gc time)\n"
     ]
    },
    {
     "data": {
      "text/plain": [
       "\"\""
      ]
     },
     "execution_count": 19,
     "metadata": {},
     "output_type": "execute_result"
    }
   ],
   "source": [
    "midi_tree = ee.classification_tree\n",
    "@time semtree = semhuff(midi_tree, ee.embedding, 30);\n",
    "#print_tree(STDOUT, semtree)"
   ]
  },
  {
   "cell_type": "code",
   "execution_count": 18,
   "metadata": {
    "collapsed": false
   },
   "outputs": [
    {
     "data": {
      "text/plain": [
       "19.591054516666667"
      ]
     },
     "execution_count": 18,
     "metadata": {},
     "output_type": "execute_result"
    }
   ],
   "source": [
    "1175.463271  / 60"
   ]
  },
  {
   "cell_type": "code",
   "execution_count": 17,
   "metadata": {
    "collapsed": false
   },
   "outputs": [],
   "source": [
    "open(\"tree.txt\",\"w\") do fp\n",
    "    print_tree(fp, semtree)\n",
    "end"
   ]
  },
  {
   "cell_type": "code",
   "execution_count": null,
   "metadata": {
    "collapsed": false
   },
   "outputs": [],
   "source": [
    "ee_keys = rand(1:length(ee.embedding),6)\n",
    "wvs = collect(values(ee.embedding))[ee_keys]\n",
    "words = collect(keys(ee.embedding))[ee_keys]"
   ]
  },
  {
   "cell_type": "code",
   "execution_count": null,
   "metadata": {
    "collapsed": true
   },
   "outputs": [],
   "source": []
  },
  {
   "cell_type": "code",
   "execution_count": null,
   "metadata": {
    "collapsed": false
   },
   "outputs": [],
   "source": [
    "using Query\n",
    "wvs = [randn(50) for i in 1:6]\n",
    "m=Matching(Int32(length(wvs)),Int32(length(wvs))^2)"
   ]
  },
  {
   "cell_type": "code",
   "execution_count": null,
   "metadata": {
    "collapsed": false
   },
   "outputs": [],
   "source": [
    "sims = Matrix{Int32}(length(wvs),length(wvs)).*Inf\n",
    "for ii::Int32 in (1:length(wvs)-1)\n",
    "    wv_ii=wvs[ii]\n",
    "    for jj::Int32 in (ii+1:length(wvs))\n",
    "        \n",
    "        wv_jj=wvs[jj]\n",
    "        dist = Query.angular_dist(wv_ii, wv_jj)\n",
    "        \n",
    "        scale = typemax(Int32)>>16\n",
    "        approx_dist = round(Int32, dist*scale)\n",
    "        sims[ii,jj]=approx_dist\n",
    "        println(join([m, ii-1, jj-1, approx_dist],\"\\t\"))\n",
    "        add_edge(m, ii-1,jj-1 , approx_dist)\n",
    "    end\n",
    "end\n",
    "sims"
   ]
  },
  {
   "cell_type": "code",
   "execution_count": null,
   "metadata": {
    "collapsed": false
   },
   "outputs": [],
   "source": [
    "BlossomV.solve(m)"
   ]
  },
  {
   "cell_type": "code",
   "execution_count": null,
   "metadata": {
    "collapsed": false
   },
   "outputs": [],
   "source": [
    "for ii in (1:6)-1\n",
    "    match = get_match(m,ii)+1\n",
    "    greed = indmin(sims[ii+1,:]-1)\n",
    "    println(ii+1,\"\\t|\\t\", match, \"\\t\", greed)\n",
    "end"
   ]
  },
  {
   "cell_type": "code",
   "execution_count": null,
   "metadata": {
    "collapsed": false
   },
   "outputs": [],
   "source": [
    "\n",
    "collect(get_all_matchs(m,6))"
   ]
  },
  {
   "cell_type": "code",
   "execution_count": null,
   "metadata": {
    "collapsed": false
   },
   "outputs": [],
   "source": [
    "Base.getindex(node::BranchNode, idx) = Base.getindex(node.children, idx)\n"
   ]
  },
  {
   "cell_type": "code",
   "execution_count": null,
   "metadata": {
    "collapsed": false
   },
   "outputs": [],
   "source": [
    "@inline function Base.exp2(x::Int64)\n",
    "    if x > 1023 \n",
    "        Inf \n",
    "    elseif x < -1074\n",
    "        0.0\n",
    "    else \n",
    "        reinterpret(Float64,x > -1023 ? ((1<<62)+(x-1)<<52) : 1<<(x+1074))\n",
    "    end\n",
    "end\n",
    "\n",
    "function get_path_dist(code1,code2)\n",
    "    l1 = length(code1)\n",
    "    l2 = length(code2)\n",
    "    lc = 0 #Common length\n",
    "    for lc in 1:min(l1,l2)\n",
    "        if code1[lc]!=code2[lc]\n",
    "            lc-=1 #Last didn't match\n",
    "            break\n",
    "        end\n",
    "    end\n",
    "    ld1 = l1-lc\n",
    "    ld2 = l2-lc\n",
    "    ld1+ld2\n",
    "end\n",
    "\n",
    "get_path_sim(code1,code2) = exp2(-get_path_dist(code1,code2))\n",
    "\n",
    "using Base.Test\n",
    "@test get_path_sim([1],[1]) == 1.0\n",
    "@test get_path_sim([1],[0]) == 0.25\n",
    "\n",
    "@test get_path_sim([1,1],[1,0]) == 0.25\n",
    "@test get_path_sim([1,1],[1,1]) == 1.0\n",
    "@test get_path_sim([1,1],[0,1]) == 1/16\n",
    "@test get_path_sim([1,1],[0,0]) == 1/16\n",
    "\n",
    "@test get_path_sim([1],[1,1]) == 0.5\n",
    "@test get_path_sim([1],[1,1,1]) == 0.25\n",
    "@test get_path_sim([1,1],[1,1,1]) == 0.5\n",
    "@test get_path_sim([1,0],[1,1,1]) == 0.125\n",
    "@test get_path_sim([1,1,1],[1,1,1]) == 1.0\n"
   ]
  },
  {
   "cell_type": "code",
   "execution_count": null,
   "metadata": {
    "collapsed": true
   },
   "outputs": [],
   "source": [
    "ee "
   ]
  }
 ],
 "metadata": {
  "kernelspec": {
   "display_name": "Julia 0.5.0-dev",
   "language": "julia",
   "name": "julia-0.5"
  },
  "language_info": {
   "file_extension": ".jl",
   "mimetype": "application/julia",
   "name": "julia",
   "version": "0.5.0"
  }
 },
 "nbformat": 4,
 "nbformat_minor": 0
}
