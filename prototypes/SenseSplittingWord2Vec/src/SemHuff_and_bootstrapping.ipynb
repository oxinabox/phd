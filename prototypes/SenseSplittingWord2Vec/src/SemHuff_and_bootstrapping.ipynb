{
 "cells": [
  {
   "cell_type": "code",
   "execution_count": 1,
   "metadata": {
    "collapsed": false
   },
   "outputs": [
    {
     "name": "stderr",
     "output_type": "stream",
     "text": [
      "WARNING: Base.writemime is deprecated.\n",
      "  likely near /home/ubuntu/.julia/v0.5/IJulia/src/kernel.jl:31\n",
      "WARNING: Base.writemime is deprecated.\n",
      "  likely near /home/ubuntu/.julia/v0.5/IJulia/src/kernel.jl:31\n",
      "WARNING: Base.writemime is deprecated.\n",
      "  likely near /home/ubuntu/.julia/v0.5/IJulia/src/kernel.jl:31\n",
      "WARNING: Base.writemime is deprecated.\n",
      "  likely near /home/ubuntu/.julia/v0.5/IJulia/src/kernel.jl:31\n"
     ]
    }
   ],
   "source": [
    "using WordNet\n",
    "using WordEmbeddings, SoftmaxClassifier\n",
    "using Utils\n",
    "using Query\n",
    "using Distances\n",
    "using Iterators\n",
    "using NearestNeighbors"
   ]
  },
  {
   "cell_type": "code",
   "execution_count": 145,
   "metadata": {
    "collapsed": false
   },
   "outputs": [
    {
     "name": "stderr",
     "output_type": "stream",
     "text": [
      "WARNING: Method definition Matching(Integer) in module Main at In[144]:3 overwritten at In[145]:3.\n",
      "WARNING: Method definition Matching(Integer, Integer) in module Main at In[144]:4 overwritten at In[145]:4.\n",
      "WARNING: Method definition add_edge(BlossomV.PerfectMatchingCtx, Integer, Integer, Integer) in module Main at In[144]:6 overwritten at In[145]:6.\n",
      "WARNING: Method definition get_match(BlossomV.PerfectMatchingCtx, Integer) in module Main at In[144]:13 overwritten at In[145]:13.\n",
      "WARNING: Method definition get_all_matchs(BlossomV.PerfectMatchingCtx, Integer) in module Main at In[144]:17 overwritten at In[145]:18.\n"
     ]
    },
    {
     "data": {
      "text/plain": [
       "get_all_matchs"
      ]
     },
     "execution_count": 145,
     "metadata": {},
     "output_type": "execute_result"
    }
   ],
   "source": [
    "import BlossomV: Matching, add_edge, get_match\n",
    "\n",
    "Matching(node_num::Integer) = Matching(node_num, node_num*(node_num-1)÷2)      \n",
    "Matching(node_num::Integer, edge_num_max::Integer) = Matching(Int32(node_num), Int32(edge_num_max))\n",
    "\n",
    "add_edge(matching::BlossomV.PerfectMatchingCtx,\n",
    "        first_node::Integer,\n",
    "        second_node::Integer, cost::Integer) = add_edge(matching, \n",
    "                                                        Int32(first_node), \n",
    "                                                        Int32(second_node),\n",
    "                                                        Int32(cost))\n",
    "\n",
    "get_match(matching::BlossomV.PerfectMatchingCtx, node::Integer) = get_match(matching, Int32(node))\n",
    "\n",
    "\n",
    "\"1 indexed\" #TODO make this zero indexed\n",
    "function get_all_matchs(m::PerfectMatchingCtx, n_nodes::Integer) #HACK, you have to specidfiy the number of nodes, cos I can't pull it from the Matching object\n",
    "    Task() do\n",
    "        assigned = falses(n_nodes)\n",
    "        for ii in 1:n_nodes\n",
    "            assigned[ii] && continue\n",
    "            jj = get_match(m, ii-1)+1\n",
    "            @assert(!assigned[jj])\n",
    "            assigned[ii] = true\n",
    "            assigned[jj] = true\n",
    "            \n",
    "            produce(ii,jj)\n",
    "        end\n",
    "    end\n",
    "end\n",
    "\n",
    "\n"
   ]
  },
  {
   "cell_type": "code",
   "execution_count": 2,
   "metadata": {
    "collapsed": false
   },
   "outputs": [],
   "source": [
    "using JLD\n"
   ]
  },
  {
   "cell_type": "code",
   "execution_count": 3,
   "metadata": {
    "collapsed": false,
    "scrolled": true
   },
   "outputs": [
    {
     "data": {
      "text/plain": [
       "Word embedding(dimension = 50)of 88262 words\n"
      ]
     },
     "execution_count": 3,
     "metadata": {},
     "output_type": "execute_result"
    }
   ],
   "source": [
    "ee = load(\"../eval/models/plain/tokenised_lowercase_WestburyLab.wikicorp.201004_50__i1.jld\",\"ee\");\n",
    "#ee = restore(\"../eval/models/ss/keep/tokenised_lowercase_WestburyLab.wikicorp.201004_100_i1.model\")\n",
    "#dtree,labels = nn_tree(ee)\n",
    "#\"\""
   ]
  },
  {
   "cell_type": "code",
   "execution_count": 4,
   "metadata": {
    "collapsed": false,
    "scrolled": false
   },
   "outputs": [
    {
     "name": "stderr",
     "output_type": "stream",
     "text": [
      "WARNING: Base.writemime is deprecated.\n",
      "  likely near /home/ubuntu/.julia/v0.5/IJulia/src/kernel.jl:31\n",
      "WARNING: Base.writemime is deprecated.\n",
      "  likely near /home/ubuntu/.julia/v0.5/IJulia/src/kernel.jl:31\n",
      "WARNING: Base.writemime is deprecated.\n",
      "  likely near /home/ubuntu/.julia/v0.5/IJulia/src/kernel.jl:31\n",
      "WARNING: Base.writemime is deprecated.\n",
      "  likely near /home/ubuntu/.julia/v0.5/IJulia/src/kernel.jl:31\n",
      "WARNING: Base.writemime is deprecated.\n",
      "  likely near /home/ubuntu/.julia/v0.5/IJulia/src/kernel.jl:31\n",
      "in display_dict at /home/ubuntu/.julia/v0.5/IJulia/src/execute_request.jl\n"
     ]
    }
   ],
   "source": [
    "#ee.classification_tree.children[1]"
   ]
  },
  {
   "cell_type": "code",
   "execution_count": 5,
   "metadata": {
    "collapsed": true
   },
   "outputs": [],
   "source": [
    "using Trees"
   ]
  },
  {
   "cell_type": "code",
   "execution_count": 8,
   "metadata": {
    "collapsed": false,
    "scrolled": true
   },
   "outputs": [],
   "source": [
    "words = collect(keys(ee.codebook))\n",
    "codes = collect(values(ee.codebook));\n"
   ]
  },
  {
   "cell_type": "code",
   "execution_count": 109,
   "metadata": {
    "collapsed": false
   },
   "outputs": [
    {
     "ename": "LoadError",
     "evalue": "LoadError: syntax: extra token \"using\" after end of expression\nwhile loading In[109], in expression starting on line 4",
     "output_type": "error",
     "traceback": [
      "LoadError: syntax: extra token \"using\" after end of expression\nwhile loading In[109], in expression starting on line 4",
      "",
      " in include_string(::String, ::String) at ./loading.jl:380",
      " in eventloop(::ZMQ.Socket) at /home/ubuntu/.julia/v0.5/IJulia/src/IJulia.jl:143",
      " in (::IJulia.##24#30)() at ./task.jl:309"
     ]
    }
   ],
   "source": [
    "function get_node(root::TreeNode, pathcode)\n",
    "    node = root\n",
    "    for branch_step in pathcode\n",
    "        node = node.children[branch_step]using BlossomV\n",
    "\n",
    "    node     \n",
    "end"
   ]
  },
  {
   "cell_type": "code",
   "execution_count": 15,
   "metadata": {
    "collapsed": false
   },
   "outputs": [
    {
     "data": {
      "text/plain": [
       "\"rearrangement\""
      ]
     },
     "execution_count": 15,
     "metadata": {},
     "output_type": "execute_result"
    },
    {
     "name": "stdout",
     "output_type": "stream",
     "text": [
      "Trees.BranchNode with 0 children.data = \n"
     ]
    }
   ],
   "source": [
    "getMatching_node(ee.classification_tree, codes[1])"
   ]
  },
  {
   "cell_type": "code",
   "execution_count": 28,
   "metadata": {
    "collapsed": false
   },
   "outputs": [
    {
     "name": "stderr",
     "output_type": "stream",
     "text": [
      "WARNING: Method definition show(IO, Trees.BranchNode) in module Main at In[22]:2 overwritten at In[28]:2.\n"
     ]
    },
    {
     "data": {
      "text/plain": [
       "\"foobar\""
      ]
     },
     "execution_count": 28,
     "metadata": {},
     "output_type": "execute_result"
    },
    {
     "name": "stdout",
     "output_type": "stream",
     "text": [
      "Trees.BranchNode with 0 children.data = \n"
     ]
    }
   ],
   "source": [
    "function Base.show(io::IO, node :: BranchNode)                                                                       \n",
    "    println(typeof(node),\" with \",length(node.children), \" children. \", \"data = \")                                   \n",
    "    flush(io)\n",
    "    show(io, node.data)                                                                                              \n",
    "end          \n",
    "BranchNode([], \"foobar\")"
   ]
  },
  {
   "cell_type": "code",
   "execution_count": 39,
   "metadata": {
    "collapsed": false
   },
   "outputs": [
    {
     "name": "stderr",
     "output_type": "stream",
     "text": [
      "WARNING: Method definition levels(Any) in module Main at In[24]:2 overwritten at In[39]:2.\n"
     ]
    },
    {
     "data": {
      "text/plain": [
       "levels (generic function with 1 method)"
      ]
     },
     "execution_count": 39,
     "metadata": {},
     "output_type": "execute_result"
    }
   ],
   "source": [
    "function levels(tree)\n",
    "    nodes_at_depth = Vector{Vector{BranchNode}}()\n",
    "    codes_at_depth = Vector{Vector{Vector{Int64}}}()\n",
    "    \n",
    "    push!(nodes_at_depth, tree.children) #TODO: fix so works for partiailly empty root node\n",
    "    push!(codes_at_depth, [[ii] for ii in 1:length(tree.children)])\n",
    "    \n",
    "    \n",
    "    \n",
    "    parent_depth = 1\n",
    "    while length(nodes_at_depth[parent_depth])>0\n",
    "        #@show parent_depth\n",
    "        level_nodes = BranchNode[]\n",
    "        level_codes = Vector{Int64}[]\n",
    "        \n",
    "        \n",
    "\n",
    "        for (parent_code, parent_node) in zip(codes_at_depth[parent_depth], nodes_at_depth[parent_depth])\n",
    "            #if Trees.isleaf(parent_node)\n",
    "            #    continue\n",
    "            #end\n",
    "            \n",
    "            for (ii, child_node) in enumerate(parent_node.children)\n",
    "                if child_node != nullnode\n",
    "                    child_code = [parent_code; ii] #Copy and append\n",
    "                    push!(level_nodes, child_node)\n",
    "                    push!(level_codes, child_code)\n",
    "                end\n",
    "            end\n",
    "        end\n",
    "        push!(nodes_at_depth, level_nodes)\n",
    "        push!(codes_at_depth, level_codes)\n",
    "        parent_depth += 1\n",
    "    end\n",
    "    \n",
    "    nodes_at_depth, codes_at_depth\n",
    "end\n"
   ]
  },
  {
   "cell_type": "code",
   "execution_count": 40,
   "metadata": {
    "collapsed": false
   },
   "outputs": [],
   "source": [
    "nodes_at_depth, codes_at_depth = levels(ee.classification_tree);"
   ]
  },
  {
   "cell_type": "code",
   "execution_count": 42,
   "metadata": {
    "collapsed": false
   },
   "outputs": [
    {
     "name": "stderr",
     "output_type": "stream",
     "text": [
      "WARNING: Method definition map_treedata(Trees.BranchNode) in module Main at In[41]:3 overwritten at In[42]:3.\n"
     ]
    },
    {
     "data": {
      "text/plain": [
       "map_treedata"
      ]
     },
     "execution_count": 42,
     "metadata": {},
     "output_type": "execute_result"
    }
   ],
   "source": [
    "\"Returns a new tree, with the same structure but different values for the data\"\n",
    "function map_treedata(node::BranchNode; leaf_transform=identity, internal_transform=identity)\n",
    "    data = Tree.isleaf(node) ? leaf_transform(node.data) : internal_transform(node.data)\n",
    "    children = BranchNode[map_treedata(child, leaf_transform, internal_transform)  for child in node.children]\n",
    "    new_node = BranchNode(copy(node.children), data)\n",
    "end\n",
    "    "
   ]
  },
  {
   "cell_type": "code",
   "execution_count": 26,
   "metadata": {
    "collapsed": false,
    "scrolled": true
   },
   "outputs": [
    {
     "data": {
      "text/plain": [
       "Trees.BranchNode"
      ]
     },
     "execution_count": 26,
     "metadata": {},
     "output_type": "execute_result"
    },
    {
     "name": "stderr",
     "output_type": "stream",
     "text": [
      "WARNING: Base.writemime is deprecated.\n",
      "  likely near /home/ubuntu/.julia/v0.5/IJulia/src/kernel.jl:31\n",
      "WARNING: Base.writemime is deprecated.\n",
      "  likely near /home/ubuntu/.julia/v0.5/IJulia/src/kernel.jl:31\n",
      "WARNING: Base.writemime is deprecated.\n",
      "  likely near /home/ubuntu/.julia/v0.5/IJulia/src/kernel.jl:31\n",
      "WARNING: Base.writemime is deprecated.\n",
      "  likely near /home/ubuntu/.julia/v0.5/IJulia/src/kernel.jl:31\n",
      "WARNING: Base.writemime is deprecated.\n",
      "  likely near /home/ubuntu/.julia/v0.5/IJulia/src/kernel.jl:31\n",
      "in display_dict at /home/ubuntu/.julia/v0.5/IJulia/src/execute_request.jl\n"
     ]
    }
   ],
   "source": [
    "\"\"\"\n",
    "Assumes that the `tree` is already a Huffman tree.\n",
    "\"\"\"\n",
    "function semhuff(classification_tree, embeddings)\n",
    "    embedding_dim = length(first(embeddings))\n",
    "    sim_tree = map_treedata(classification_tree,\n",
    "                            leaf_transform = word->embeddings[word],\n",
    "                            internal_transform = dummy -> fill(NaN32,embedding_dim) )\n",
    "    \n",
    "    nodes_at_depth, codes_at_depth = levels(sim_tree);\n",
    "    maxdepth = length(nodes_at_depth)\n",
    "    for depth in maxdepth:-1:1\n",
    "        \n",
    "    end\n",
    "    \n",
    "end\n",
    "    \n",
    "    "
   ]
  },
  {
   "cell_type": "code",
   "execution_count": 112,
   "metadata": {
    "collapsed": false
   },
   "outputs": [
    {
     "ename": "LoadError",
     "evalue": "LoadError: syntax: unexpected ,\nwhile loading In[112], in expression starting on line 20",
     "output_type": "error",
     "traceback": [
      "LoadError: syntax: unexpected ,\nwhile loading In[112], in expression starting on line 20",
      "",
      " in include_string(::String, ::String) at ./loading.jl:380",
      " in eventloop(::ZMQ.Socket) at /home/ubuntu/.julia/v0.5/IJulia/src/IJulia.jl:143",
      " in (::IJulia.##24#30)() at ./task.jl:309"
     ]
    }
   ],
   "source": [
    "\"\"\"dist_func must resturn a values between 0.0 and 1.0\"\"\"\n",
    "function get_similar_pairings(dist_func::Function, items, consider_nearest_n::Integer)\n",
    "    m = Matching(length(items))\n",
    "    sims = Matrix{Int32}(length(items),length(items)).*Inf #for Debug purposes\n",
    "    for ii::Int32 in (1:length(items)-1)\n",
    "        dists = [dist_func(items[ii], items[jj]) for jj::Int32 in (ii+1:length(items))]\n",
    "        nearest_jjs = selectperm(dists, 1:consider_nearest_n)\n",
    "        \n",
    "        for jj in nearest_jjs\n",
    "            dist = dists[jj]\n",
    "            @assert dist<=1.0\n",
    "            scale = typemax(Int32)>>4\n",
    "            approx_dist = round(Int32, dist*scale)\n",
    "            sims[ii,jj]=approx_dist\n",
    "            #println(join([m, ii-1, jj-1, approx_dist],\"\\t\"))\n",
    "            add_edge(m, ii-1,jj-1 , approx_dist)\n",
    "        end\n",
    "    end\n",
    "    sovle(m)\n",
    "    get_all_matchs(m, length(items)), sims\n",
    "    \n",
    "end"
   ]
  },
  {
   "cell_type": "code",
   "execution_count": 46,
   "metadata": {
    "collapsed": false
   },
   "outputs": [
    {
     "data": {
      "text/plain": [
       "6-element Array{String,1}:\n",
       " \"statistical\"  \n",
       " \"otherworld\"   \n",
       " \"428\"          \n",
       " \"edie\"         \n",
       " \"airspeed\"     \n",
       " \"light-hearted\""
      ]
     },
     "execution_count": 46,
     "metadata": {},
     "output_type": "execute_result"
    },
    {
     "name": "stderr",
     "output_type": "stream",
     "text": [
      "WARNING: Base.writemime is deprecated.\n",
      "  likely near /home/ubuntu/.julia/v0.5/IJulia/src/kernel.jl:31\n",
      "WARNING: Base.writemime is deprecated.\n",
      "  likely near /home/ubuntu/.julia/v0.5/IJulia/src/kernel.jl:31\n",
      "WARNING: Base.writemime is deprecated.\n",
      "  likely near /home/ubuntu/.julia/v0.5/IJulia/src/kernel.jl:31\n",
      "WARNING: Base.writemime is deprecated.\n",
      "  likely near /home/ubuntu/.julia/v0.5/IJulia/src/kernel.jl:31\n",
      "WARNING: Base.writemime is deprecated.\n",
      "  likely near /home/ubuntu/.julia/v0.5/IJulia/src/kernel.jl:31\n",
      "in display_dict at /home/ubuntu/.julia/v0.5/IJulia/src/execute_request.jl\n"
     ]
    }
   ],
   "source": [
    "ee_keys = rand(1:length(ee.embedding),6)\n",
    "wvs = collect(values(ee.embedding))[ee_keys]\n",
    "words = collect(keys(ee.embedding))[ee_keys]"
   ]
  },
  {
   "cell_type": "code",
   "execution_count": 54,
   "metadata": {
    "collapsed": false
   },
   "outputs": [
    {
     "name": "stderr",
     "output_type": "stream",
     "text": [
      "WARNING: Method definition Matching(Integer, Integer) in module Main at In[47]:3 overwritten at In[54]:3.\n",
      "WARNING: Method definition add_edge(BlossomV.PerfectMatchingCtx, Integer, Integer, Integer) in module Main at In[47]:5 overwritten at In[54]:5.\n",
      "WARNING: Method definition get_match(BlossomV.PerfectMatchingCtx, Integer) in module Main at In[47]:12 overwritten at In[54]:12.\n"
     ]
    },
    {
     "data": {
      "text/plain": [
       "get_match (generic function with 2 methods)"
      ]
     },
     "execution_count": 54,
     "metadata": {},
     "output_type": "execute_result"
    }
   ],
   "source": []
  },
  {
   "cell_type": "code",
   "execution_count": null,
   "metadata": {
    "collapsed": true
   },
   "outputs": [],
   "source": []
  },
  {
   "cell_type": "code",
   "execution_count": 139,
   "metadata": {
    "collapsed": false
   },
   "outputs": [
    {
     "data": {
      "text/plain": [
       "BlossomV.PerfectMatchingCtx(Ptr{Void} @0x000000001176c9d0)"
      ]
     },
     "execution_count": 139,
     "metadata": {},
     "output_type": "execute_result"
    }
   ],
   "source": [
    "using Query\n",
    "wvs = [randn(50) for i in 1:6]\n",
    "m=Matching(Int32(length(wvs)),Int32(length(wvs))^2)"
   ]
  },
  {
   "cell_type": "code",
   "execution_count": 140,
   "metadata": {
    "collapsed": false
   },
   "outputs": [
    {
     "name": "stdout",
     "output_type": "stream",
     "text": [
      "BlossomV.PerfectMatchingCtx(Ptr{Void} @0x000000001176c9d0)\t0\t1\t14834\n",
      "BlossomV.PerfectMatchingCtx(Ptr{Void} @0x000000001176c9d0)\t0\t2\t15856\n",
      "BlossomV.PerfectMatchingCtx(Ptr{Void} @0x000000001176c9d0)\t0\t3\t15635\n",
      "BlossomV.PerfectMatchingCtx(Ptr{Void} @0x000000001176c9d0)\t0\t4\t13802\n",
      "BlossomV.PerfectMatchingCtx(Ptr{Void} @0x000000001176c9d0)\t0\t5\t17562\n",
      "BlossomV.PerfectMatchingCtx(Ptr{Void} @0x000000001176c9d0)\t1\t2\t14384\n",
      "BlossomV.PerfectMatchingCtx(Ptr{Void} @0x000000001176c9d0)\t1\t3\t14517\n",
      "BlossomV.PerfectMatchingCtx(Ptr{Void} @0x000000001176c9d0)\t1\t4\t16561\n",
      "BlossomV.PerfectMatchingCtx(Ptr{Void} @0x000000001176c9d0)\t1\t5\t16676\n",
      "BlossomV.PerfectMatchingCtx(Ptr{Void} @0x000000001176c9d0)\t2\t3\t19132\n",
      "BlossomV.PerfectMatchingCtx(Ptr{Void} @0x000000001176c9d0)\t2\t4\t17143\n",
      "BlossomV.PerfectMatchingCtx(Ptr{Void} @0x000000001176c9d0)\t2\t5\t17955\n",
      "BlossomV.PerfectMatchingCtx(Ptr{Void} @0x000000001176c9d0)\t3\t4\t17518\n",
      "BlossomV.PerfectMatchingCtx(Ptr{Void} @0x000000001176c9d0)\t3\t5\t18466\n",
      "BlossomV.PerfectMatchingCtx(Ptr{Void} @0x000000001176c9d0)\t4\t5\t18091\n"
     ]
    },
    {
     "data": {
      "text/plain": [
       "6×6 Array{Float64,2}:\n",
       " Inf  14834.0  15856.0  15635.0  13802.0  17562.0\n",
       " Inf    Inf    14384.0  14517.0  16561.0  16676.0\n",
       " Inf    Inf      Inf    19132.0  17143.0  17955.0\n",
       " Inf    Inf      Inf      Inf    17518.0  18466.0\n",
       " Inf    Inf      Inf      Inf      Inf    18091.0\n",
       " Inf    Inf      Inf      Inf      Inf      Inf  "
      ]
     },
     "execution_count": 140,
     "metadata": {},
     "output_type": "execute_result"
    }
   ],
   "source": [
    "sims = Matrix{Int32}(length(wvs),length(wvs)).*Inf\n",
    "for ii::Int32 in (1:length(wvs)-1)\n",
    "    wv_ii=wvs[ii]\n",
    "    for jj::Int32 in (ii+1:length(wvs))\n",
    "        \n",
    "        wv_jj=wvs[jj]\n",
    "        dist = Query.angular_dist(wv_ii, wv_jj)\n",
    "        \n",
    "        scale = typemax(Int32)>>16\n",
    "        approx_dist = round(Int32, dist*scale)\n",
    "        sims[ii,jj]=approx_dist\n",
    "        println(join([m, ii-1, jj-1, approx_dist],\"\\t\"))\n",
    "        add_edge(m, ii-1,jj-1 , approx_dist)\n",
    "    end\n",
    "end\n",
    "sims"
   ]
  },
  {
   "cell_type": "code",
   "execution_count": 141,
   "metadata": {
    "collapsed": false
   },
   "outputs": [
    {
     "name": "stdout",
     "output_type": "stream",
     "text": [
      "perfect matching with 6 nodes and 15 edges\n",
      "    starting init...done [0.000 secs]. 0 trees\n",
      "    .\n",
      "done [0.000 secs]. 0 grows, 0 expands, 0 shrinks\n",
      "    expands: [0.000 secs], shrinks: [0.000 secs], dual updates: [0.000 secs]\n"
     ]
    }
   ],
   "source": [
    "BlossomV.solve(m)"
   ]
  },
  {
   "cell_type": "code",
   "execution_count": 142,
   "metadata": {
    "collapsed": false
   },
   "outputs": [
    {
     "name": "stdout",
     "output_type": "stream",
     "text": [
      "1\t|\t5\t5\n",
      "2\t|\t4\t3\n",
      "3\t|\t6\t5\n",
      "4\t|\t2\t5\n",
      "5\t|\t1\t6\n",
      "6\t|\t3\t1\n"
     ]
    }
   ],
   "source": [
    "for ii in (1:6)-1\n",
    "    match = get_match(m,ii)+1\n",
    "    greed = indmin(sims[ii+1,:]-1)\n",
    "    println(ii+1,\"\\t|\\t\", match, \"\\t\", greed)\n",
    "end"
   ]
  },
  {
   "cell_type": "code",
   "execution_count": 143,
   "metadata": {
    "collapsed": false
   },
   "outputs": [
    {
     "name": "stderr",
     "output_type": "stream",
     "text": [
      "WARNING: Method definition get_all_matchs(BlossomV.PerfectMatchingCtx, Any) in module Main at In[138]:3 overwritten at In[143]:3.\n"
     ]
    },
    {
     "data": {
      "text/plain": [
       "3-element Array{Tuple{Int64,Int64},1}:\n",
       " (1,5)\n",
       " (2,4)\n",
       " (3,6)"
      ]
     },
     "execution_count": 143,
     "metadata": {},
     "output_type": "execute_result"
    }
   ],
   "source": [
    "\n",
    "collect(get_all_matchs(m,6))"
   ]
  },
  {
   "cell_type": "code",
   "execution_count": 132,
   "metadata": {
    "collapsed": false
   },
   "outputs": [
    {
     "data": {
      "text/plain": [
       "BlossomV.PerfectMatchingCtx"
      ]
     },
     "execution_count": 132,
     "metadata": {},
     "output_type": "execute_result"
    }
   ],
   "source": [
    "typeof(m)"
   ]
  },
  {
   "cell_type": "code",
   "execution_count": null,
   "metadata": {
    "collapsed": false
   },
   "outputs": [],
   "source": [
    "@inline function Base.exp2(x::Int64)\n",
    "    if x > 1023 \n",
    "        Inf \n",
    "    elseif x < -1074\n",
    "        0.0\n",
    "    else \n",
    "        reinterpret(Float64,x > -1023 ? ((1<<62)+(x-1)<<52) : 1<<(x+1074))\n",
    "    end\n",
    "end\n",
    "\n",
    "function get_path_dist(code1,code2)\n",
    "    l1 = length(code1)\n",
    "    l2 = length(code2)\n",
    "    lc = 0 #Common length\n",
    "    for lc in 1:min(l1,l2)\n",
    "        if code1[lc]!=code2[lc]\n",
    "            lc-=1 #Last didn't match\n",
    "            break\n",
    "        end\n",
    "    end\n",
    "    ld1 = l1-lc\n",
    "    ld2 = l2-lc\n",
    "    ld1+ld2\n",
    "end\n",
    "\n",
    "get_path_sim(code1,code2) = exp2(-get_path_dist(code1,code2))\n",
    "\n",
    "using Base.Test\n",
    "@test get_path_sim([1],[1]) == 1.0\n",
    "@test get_path_sim([1],[0]) == 0.25\n",
    "\n",
    "@test get_path_sim([1,1],[1,0]) == 0.25\n",
    "@test get_path_sim([1,1],[1,1]) == 1.0\n",
    "@test get_path_sim([1,1],[0,1]) == 1/16\n",
    "@test get_path_sim([1,1],[0,0]) == 1/16\n",
    "\n",
    "@test get_path_sim([1],[1,1]) == 0.5\n",
    "@test get_path_sim([1],[1,1,1]) == 0.25\n",
    "@test get_path_sim([1,1],[1,1,1]) == 0.5\n",
    "@test get_path_sim([1,0],[1,1,1]) == 0.125\n",
    "@test get_path_sim([1,1,1],[1,1,1]) == 1.0\n"
   ]
  },
  {
   "cell_type": "code",
   "execution_count": null,
   "metadata": {
    "collapsed": true
   },
   "outputs": [],
   "source": [
    "ee "
   ]
  }
 ],
 "metadata": {
  "kernelspec": {
   "display_name": "Julia 0.5.0-dev",
   "language": "julia",
   "name": "julia-0.5"
  },
  "language_info": {
   "file_extension": ".jl",
   "mimetype": "application/julia",
   "name": "julia",
   "version": "0.5.0"
  }
 },
 "nbformat": 4,
 "nbformat_minor": 0
}
