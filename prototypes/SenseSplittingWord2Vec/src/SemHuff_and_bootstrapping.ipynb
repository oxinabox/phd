{
 "cells": [
  {
   "cell_type": "code",
   "execution_count": null,
   "metadata": {
    "collapsed": false
   },
   "outputs": [],
   "source": [
    "using WordNet\n",
    "using WordEmbeddings, SoftmaxClassifier\n",
    "using Utils\n",
    "using Query\n",
    "using Distances\n",
    "using Iterators\n",
    "using NearestNeighbors\n",
    "using JLD\n",
    "using Trees\n",
    "using AbstractTrees"
   ]
  },
  {
   "cell_type": "code",
   "execution_count": null,
   "metadata": {
    "collapsed": false
   },
   "outputs": [],
   "source": [
    "ee = load(\"../eval/models/plain/tokenised_lowercase_WestburyLab.wikicorp.201004_50__i1.jld\",\"ee\");\n",
    "#ee = restore(\"../eval/models/ss/keep/tokenised_lowercase_WestburyLab.wikicorp.201004_100_i1.model\")\n",
    "#dtree,labels = nn_using AbstractTreestree(ee)\n",
    "#\"\""
   ]
  },
  {
   "cell_type": "code",
   "execution_count": null,
   "metadata": {
    "collapsed": false
   },
   "outputs": [],
   "source": [
    "import BlossomV: Matching, add_edge, get_match,PerfectMatchingCtx,solve\n",
    "\n",
    "Matching(node_num::Integer) = Matching(node_num, node_num*(node_num-1)÷2)      \n",
    "Matching(node_num::Integer, edge_num_max::Integer) = Matching(Int32(node_num), Int32(edge_num_max))\n",
    "\n",
    "add_edge(matching::PerfectMatchingCtx,\n",
    "        first_node::Integer,\n",
    "        second_node::Integer, cost::Integer) = add_edge(matching, \n",
    "                                                        Int32(first_node), \n",
    "                                                        Int32(second_node),\n",
    "                                                        Int32(cost))\n",
    "\n",
    "\n",
    "function safe_add_edge(matching::PerfectMatchingCtx,\n",
    "                        first_node::Integer,\n",
    "                        second_node::Integer, cost::Integer)\n",
    "    first_node != second_node || error(\"Can not have an edge between $(first_node) and itself\")\n",
    "    first_node >= 0  || error(\"first_node less than zero (value: $(first_node)). Indexes are zero-based\")\n",
    "    second_node >= 0  || error(\"second_node less than zero (value: $(second_node)). Indexes are zero-based\")\n",
    "    cost >= 0  || error(\"Cost must be positive. edge between $(first_node) and $(second_node) is $cost\")\n",
    "    \n",
    "    add_edge(matching, first_node, second_node, cost)\n",
    "end\n",
    "\n",
    "get_match(matching::PerfectMatchingCtx, node::Integer) = get_match(matching, Int32(node))\n",
    "\n",
    "\n",
    "\"1 indexed\" #TODO make this zero indexed\n",
    "function get_all_matchs(m::PerfectMatchingCtx, n_nodes::Integer) #HACK, you have to specidfiy the number of nodes, cos I can't pull it from the Matching object\n",
    "    Task() do\n",
    "        assigned = falses(n_nodes)\n",
    "        for ii in 1:n_nodes\n",
    "            assigned[ii] && continue\n",
    "            jj = get_match(m, ii-1)+1\n",
    "            @assert(!assigned[jj])\n",
    "            assigned[ii] = true\n",
    "            assigned[jj] = true\n",
    "            \n",
    "            produce(ii,jj)\n",
    "        end\n",
    "    end\n",
    "end\n",
    "\n"
   ]
  },
  {
   "cell_type": "code",
   "execution_count": null,
   "metadata": {
    "collapsed": false
   },
   "outputs": [],
   "source": [
    "function levels(tree)\n",
    "    nodes_at_depth = Vector{Vector{BranchNode}}()\n",
    "    codes_at_depth = Vector{Vector{Vector{Int64}}}()\n",
    "    \n",
    "    push!(nodes_at_depth, tree.children) #TODO: fix so works for partiailly empty root node\n",
    "    push!(codes_at_depth, [[ii] for ii in 1:length(tree.children)])\n",
    "    \n",
    "    \n",
    "    parent_depth = 1\n",
    "    while true\n",
    "        #@show parent_depth\n",
    "        level_nodes = BranchNode[]\n",
    "        level_codes = Vector{Int64}[]\n",
    "        \n",
    "        for (parent_code, parent_node) in zip(codes_at_depth[parent_depth], nodes_at_depth[parent_depth]) \n",
    "            for (ii, child_node) in enumerate(parent_node.children)\n",
    "                child_code = [parent_code; ii] #Copy and append\n",
    "                push!(level_nodes, child_node)\n",
    "                push!(level_codes, child_code)\n",
    "            end\n",
    "        end\n",
    "        \n",
    "        if length(level_nodes) == 0\n",
    "            #Done if no nodes on this level, don't need to save empties\n",
    "            break\n",
    "        else \n",
    "            push!(nodes_at_depth, level_nodes)\n",
    "            push!(codes_at_depth, level_codes)\n",
    "            parent_depth += 1\n",
    "        end\n",
    "    end\n",
    "    \n",
    "    nodes_at_depth, codes_at_depth\n",
    "end\n"
   ]
  },
  {
   "cell_type": "code",
   "execution_count": null,
   "metadata": {
    "collapsed": false
   },
   "outputs": [],
   "source": [
    "little_tree = ee.classification_tree[2][2][1][1][2][2][2][1][2][1][2][1][1][1][1]\n",
    "nodes_at_depth, codes_at_depth = levels(little_tree);\n",
    "codes_at_depth"
   ]
  },
  {
   "cell_type": "code",
   "execution_count": null,
   "metadata": {
    "collapsed": false
   },
   "outputs": [],
   "source": [
    "\"\"\"dist_func must resturn a values between 0.0 and 1.0\"\"\"\n",
    "function most_similar_pairings(dist_func::Function, items, consider_nearest_n::Integer)\n",
    "    m = Matching(length(items))\n",
    "    #sims = Matrix{Int32}(length(items),length(items)).*Inf #for Debug purposes\n",
    "    for ii in (1:length(items)-1)\n",
    "        jjs = ii+1:length(items)\n",
    "        dists = [dist_func(items[ii], items[jj]) for jj in jjs]\n",
    "        nearest_jjs = if consider_nearest_n < length(jjs)\n",
    "            jjs[selectperm(dists, 1:consider_nearest_n)]\n",
    "        else\n",
    "            jjs\n",
    "        end\n",
    "            \n",
    "        for (jj,dist) in zip(nearest_jjs,dists)\n",
    "            @assert dist<=1.0\n",
    "            scale = typemax(Int32)>>4\n",
    "            approx_dist = round(Int32, dist*scale)\n",
    "            #sims[ii,jj]=approx_dist\n",
    "            #println(join([m, ii-1, jj-1, approx_dist],\"\\t\"))\n",
    "            safe_add_edge(m, ii-1,jj-1 , approx_dist)\n",
    "        end\n",
    "    end\n",
    "    solve(m)\n",
    "    collect(get_all_matchs(m, length(items)))#, sims\n",
    "    \n",
    "end"
   ]
  },
  {
   "cell_type": "code",
   "execution_count": null,
   "metadata": {
    "collapsed": false
   },
   "outputs": [],
   "source": [
    "\"Returns a new tree, with the same structure but different values for the data\"\n",
    "function treemap(node::BranchNode; leaf_transform=identity, internal_transform=identity)\n",
    "    function treemap_inner(node, leaf_transform, internal_transform)\n",
    "        data = Trees.isleaf(node) ? leaf_transform(node.data) : internal_transform(node.data)\n",
    "        children = BranchNode[treemap_inner(child, leaf_transform, internal_transform)  for child in node.children]\n",
    "        new_node = BranchNode(copy(children), data)\n",
    "    end\n",
    "    treemap_inner(node, leaf_transform, internal_transform)\n",
    "end\n",
    "    "
   ]
  },
  {
   "cell_type": "code",
   "execution_count": null,
   "metadata": {
    "collapsed": false
   },
   "outputs": [],
   "source": [
    "#TODO make this a testcase\n",
    "x = BranchNode(\n",
    "[BranchNode([],\"11\"),BranchNode([\n",
    "        BranchNode([],\"121\"),BranchNode([],\"122\"),\n",
    "        ],\"12\")],\n",
    "    \"1\"\n",
    ")\n",
    "print_tree(STDOUT, x)\n",
    "\n",
    "println()\n",
    "y=treemap(x, leaf_transform = word->\"L\"*word, internal_transform = dummy -> \"x\"*dummy)\n",
    "print_tree(STDOUT, y)"
   ]
  },
  {
   "cell_type": "code",
   "execution_count": null,
   "metadata": {
    "collapsed": false
   },
   "outputs": [],
   "source": [
    "function Base.show(io::IO, node :: BranchNode)                                           \n",
    "    show(io, node.data)                                                                  \n",
    "end                                                                                      \n",
    "                 "
   ]
  },
  {
   "cell_type": "code",
   "execution_count": null,
   "metadata": {
    "collapsed": false,
    "scrolled": true
   },
   "outputs": [],
   "source": [
    "\"\"\"\n",
    "Assumes that the `tree` is already a Huffman tree.\n",
    "\"\"\"\n",
    "function semhuff4(classification_tree, embeddings, consider_nearest_n)\n",
    "    embedding_dim = length(first(embeddings))\n",
    "    sim_tree = treemap(classification_tree, \n",
    "                            leaf_transform = word->word,#embeddings[word],\n",
    "                            internal_transform = dummy -> \"\")#fill(NaN32,embedding_dim) )\n",
    "    \n",
    "    @assert(!(sim_tree === classification_tree))\n",
    "    nodes_at_depth, codes_at_depth = levels(sim_tree);\n",
    "    maxdepth = length(nodes_at_depth)\n",
    "    \n",
    "    \n",
    "    embeds = [embeddings[node.data] for node in nodes_at_depth[maxdepth]]\n",
    "    #Dict(code => embeddings[node.data] for (code, node) in zip(codes_at_depth[maxdepth], nodes_at_depth[maxdepth]))\n",
    "    for depth in maxdepth:-1:2\n",
    "        nodes = nodes_at_depth[depth]\n",
    "        codes = codes_at_depth[depth]\n",
    "        \n",
    "        \n",
    "        pair_indexes = most_similar_pairings(Query.angular_dist, embeds, consider_nearest_n)\n",
    "        \n",
    "        #We will now, assign the new nodes to parents in arbitary order\n",
    "        nodes_above = nodes_at_depth[depth-1]\n",
    "        embeds_above = typeof(embeds)(length(nodes_above))\n",
    "        pair_jj = 1\n",
    "\n",
    "        for (above_ii,node_above) in enumerate(nodes_above)\n",
    "\n",
    "            if Trees.isleaf(node_above)\n",
    "                embeds_above[above_ii] = embeddings[node_above.data]\n",
    "            else\n",
    "                #It is a branch so put a pair of nodes here\n",
    "                @assert (length(node_above.children) == 2)\n",
    "                child_index1, child_index2 = pair_indexes[pair_jj]\n",
    "                pair_jj += 1\n",
    "                node_above.children[1] = nodes[child_index1]\n",
    "                node_above.children[2] = nodes[child_index2]\n",
    "                embeds_above[above_ii] = (embeds[child_index1] + embeds[child_index2])/2.0\n",
    "                #@show nodes[child_index1], nodes[child_index2]\n",
    "            end\n",
    "        end\n",
    "        @assert(pair_jj == length(pair_indexes) + 1, \"$(pair_jj) != $(length(pair_indexes)) + 1\") #All pairs must be assigned.\n",
    "            \n",
    "        embeds = embeds_above\n",
    "    end\n",
    "    sim_tree\n",
    "end\n",
    "    \n",
    "    "
   ]
  },
  {
   "cell_type": "code",
   "execution_count": null,
   "metadata": {
    "collapsed": false
   },
   "outputs": [],
   "source": [
    "midi_tree = ee.classification_tree\n",
    "@time semtree = semhuff4(midi_tree, ee.embedding, 30);\n",
    "#print_tree(STDOUT, semtree)"
   ]
  },
  {
   "cell_type": "code",
   "execution_count": 59,
   "metadata": {
    "collapsed": false
   },
   "outputs": [
    {
     "ename": "LoadError",
     "evalue": "LoadError: KeyError: key \"ecig\" not found\nwhile loading In[59], in expression starting on line 1",
     "output_type": "error",
     "traceback": [
      "LoadError: KeyError: key \"ecig\" not found\nwhile loading In[59], in expression starting on line 1",
      "",
      " in getindex(::Dict{String,Array{Int64,1}}, ::String) at ./dict.jl:701",
      " in include_string(::String, ::String) at ./loading.jl:380",
      " in eventloop(::ZMQ.Socket) at /home/ubuntu/.julia/v0.5/IJulia/src/IJulia.jl:143",
      " in (::IJulia.##26#32)() at ./task.jl:309"
     ]
    }
   ],
   "source": [
    "ee.codebook[\"ecig\"]"
   ]
  },
  {
   "cell_type": "code",
   "execution_count": 15,
   "metadata": {
    "collapsed": false
   },
   "outputs": [
    {
     "data": {
      "text/plain": [
       "6-element Array{String,1}:\n",
       " \"linderman\"    \n",
       " \"undercarriage\"\n",
       " \"insisted\"     \n",
       " \"toolkit\"      \n",
       " \"twenty-seven\" \n",
       " \"presupposes\"  "
      ]
     },
     "execution_count": 15,
     "metadata": {},
     "output_type": "execute_result"
    }
   ],
   "source": [
    "ee_keys = rand(1:length(ee.embedding),6)\n",
    "wvs = collect(values(ee.embedding))[ee_keys]\n",
    "words = collect(keys(ee.embedding))[ee_keys]"
   ]
  },
  {
   "cell_type": "code",
   "execution_count": null,
   "metadata": {
    "collapsed": true
   },
   "outputs": [],
   "source": []
  },
  {
   "cell_type": "code",
   "execution_count": null,
   "metadata": {
    "collapsed": false
   },
   "outputs": [],
   "source": [
    "using Query\n",
    "wvs = [randn(50) for i in 1:6]\n",
    "m=Matching(Int32(length(wvs)),Int32(length(wvs))^2)"
   ]
  },
  {
   "cell_type": "code",
   "execution_count": null,
   "metadata": {
    "collapsed": false
   },
   "outputs": [],
   "source": [
    "sims = Matrix{Int32}(length(wvs),length(wvs)).*Inf\n",
    "for ii::Int32 in (1:length(wvs)-1)\n",
    "    wv_ii=wvs[ii]\n",
    "    for jj::Int32 in (ii+1:length(wvs))\n",
    "        \n",
    "        wv_jj=wvs[jj]\n",
    "        dist = Query.angular_dist(wv_ii, wv_jj)\n",
    "        \n",
    "        scale = typemax(Int32)>>16\n",
    "        approx_dist = round(Int32, dist*scale)\n",
    "        sims[ii,jj]=approx_dist\n",
    "        println(join([m, ii-1, jj-1, approx_dist],\"\\t\"))\n",
    "        add_edge(m, ii-1,jj-1 , approx_dist)\n",
    "    end\n",
    "end\n",
    "sims"
   ]
  },
  {
   "cell_type": "code",
   "execution_count": null,
   "metadata": {
    "collapsed": false
   },
   "outputs": [],
   "source": [
    "BlossomV.solve(m)"
   ]
  },
  {
   "cell_type": "code",
   "execution_count": null,
   "metadata": {
    "collapsed": false
   },
   "outputs": [],
   "source": [
    "for ii in (1:6)-1\n",
    "    match = get_match(m,ii)+1\n",
    "    greed = indmin(sims[ii+1,:]-1)\n",
    "    println(ii+1,\"\\t|\\t\", match, \"\\t\", greed)\n",
    "end"
   ]
  },
  {
   "cell_type": "code",
   "execution_count": null,
   "metadata": {
    "collapsed": false
   },
   "outputs": [],
   "source": [
    "\n",
    "collect(get_all_matchs(m,6))"
   ]
  },
  {
   "cell_type": "code",
   "execution_count": null,
   "metadata": {
    "collapsed": false
   },
   "outputs": [],
   "source": [
    "Base.getindex(node::BranchNode, idx) = Base.getindex(node.children, idx)\n"
   ]
  },
  {
   "cell_type": "code",
   "execution_count": null,
   "metadata": {
    "collapsed": false
   },
   "outputs": [],
   "source": [
    "@inline function Base.exp2(x::Int64)\n",
    "    if x > 1023 \n",
    "        Inf \n",
    "    elseif x < -1074\n",
    "        0.0\n",
    "    else \n",
    "        reinterpret(Float64,x > -1023 ? ((1<<62)+(x-1)<<52) : 1<<(x+1074))\n",
    "    end\n",
    "end\n",
    "\n",
    "function get_path_dist(code1,code2)\n",
    "    l1 = length(code1)\n",
    "    l2 = length(code2)\n",
    "    lc = 0 #Common length\n",
    "    for lc in 1:min(l1,l2)\n",
    "        if code1[lc]!=code2[lc]\n",
    "            lc-=1 #Last didn't match\n",
    "            break\n",
    "        end\n",
    "    end\n",
    "    ld1 = l1-lc\n",
    "    ld2 = l2-lc\n",
    "    ld1+ld2\n",
    "end\n",
    "\n",
    "get_path_sim(code1,code2) = exp2(-get_path_dist(code1,code2))\n",
    "\n",
    "using Base.Test\n",
    "@test get_path_sim([1],[1]) == 1.0\n",
    "@test get_path_sim([1],[0]) == 0.25\n",
    "\n",
    "@test get_path_sim([1,1],[1,0]) == 0.25\n",
    "@test get_path_sim([1,1],[1,1]) == 1.0\n",
    "@test get_path_sim([1,1],[0,1]) == 1/16\n",
    "@test get_path_sim([1,1],[0,0]) == 1/16\n",
    "\n",
    "@test get_path_sim([1],[1,1]) == 0.5\n",
    "@test get_path_sim([1],[1,1,1]) == 0.25\n",
    "@test get_path_sim([1,1],[1,1,1]) == 0.5\n",
    "@test get_path_sim([1,0],[1,1,1]) == 0.125\n",
    "@test get_path_sim([1,1,1],[1,1,1]) == 1.0\n"
   ]
  },
  {
   "cell_type": "code",
   "execution_count": null,
   "metadata": {
    "collapsed": true
   },
   "outputs": [],
   "source": [
    "ee "
   ]
  }
 ],
 "metadata": {
  "kernelspec": {
   "display_name": "Julia 0.5.0-dev",
   "language": "julia",
   "name": "julia-0.5"
  },
  "language_info": {
   "file_extension": ".jl",
   "mimetype": "application/julia",
   "name": "julia",
   "version": "0.5.0"
  }
 },
 "nbformat": 4,
 "nbformat_minor": 0
}
