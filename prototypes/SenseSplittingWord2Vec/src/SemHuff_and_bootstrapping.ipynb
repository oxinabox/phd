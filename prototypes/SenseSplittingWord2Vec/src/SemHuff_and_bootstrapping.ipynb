{
 "cells": [
  {
   "cell_type": "code",
   "execution_count": 1,
   "metadata": {
    "collapsed": false
   },
   "outputs": [],
   "source": [
    "using WordNet\n",
    "using WordEmbeddings, SoftmaxClassifier\n",
    "using Utils\n",
    "using Query\n",
    "using Distances\n",
    "using Iterators\n",
    "using NearestNeighbors\n",
    "using JLD\n",
    "using Trees\n",
    "using AbstractTrees\n",
    "using BlossomV"
   ]
  },
  {
   "cell_type": "code",
   "execution_count": 2,
   "metadata": {
    "collapsed": false
   },
   "outputs": [],
   "source": [
    "ee = load(\"../eval/models/plain/tokenised_lowercase_WestburyLab.wikicorp.201004_50__i1.jld\",\"ee\");\n"
   ]
  },
  {
   "cell_type": "code",
   "execution_count": 3,
   "metadata": {
    "collapsed": false
   },
   "outputs": [
    {
     "name": "stderr",
     "output_type": "stream",
     "text": [
      "WARNING: Method definition error(AbstractString) in module Base at error.jl:21 overwritten in module Lumberjack at /home/ubuntu/.julia/v0.5/Lumberjack/src/lumbermill.jl:138.\n",
      "WARNING: Method definition error(Any...) in module Base at error.jl:22 overwritten in module Lumberjack at /home/ubuntu/.julia/v0.5/Lumberjack/src/lumbermill.jl:114.\n",
      "WARNING: Method definition #warn(Array{Any, 1}, Base.#warn, Exception) in module Base overwritten in module Lumberjack.\n",
      "WARNING: Method definition warn(Exception) in module Base at util.jl:355 overwritten in module Lumberjack at /home/ubuntu/.julia/v0.5/Lumberjack/src/lumbermill.jl:99.\n",
      "WARNING: Base.ASCIIString is deprecated, use String instead.\n",
      "  likely near In[3]:1\n",
      "WARNING: Base.ASCIIString is deprecated, use String instead.\n",
      "  likely near In[3]:1\n",
      "WARNING: Base.ASCIIString is deprecated, use String instead.\n",
      "  likely near In[3]:1\n",
      "WARNING: Base.ASCIIString is deprecated, use String instead.\n",
      "  likely near In[3]:4\n",
      "WARNING: Base.ASCIIString is deprecated, use String instead.\n",
      "  likely near In[3]:4\n",
      "WARNING: Base.ASCIIString is deprecated, use String instead.\n",
      "  likely near In[3]:4\n"
     ]
    },
    {
     "data": {
      "text/plain": [
       "Lumberjack.LumberjackTruck(IOStream(<file semhuff_ipynb.log>),nothing,Dict{Any,Any}(Pair{Any,Any}(:is_colorized,false),Pair{Any,Any}(:uppercase,false)))"
      ]
     },
     "execution_count": 3,
     "metadata": {},
     "output_type": "execute_result"
    }
   ],
   "source": [
    "using Lumberjack\n",
    "remove_truck(\"console\")\n",
    "add_truck(LumberjackTruck(STDOUT, \"info\", Dict{Symbol,Any}(:is_colorized => true)), \"console\")\n",
    "add_truck(LumberjackTruck(\"semhuff_ipynb.log\"), \"file-logger\")"
   ]
  },
  {
   "cell_type": "code",
   "execution_count": 4,
   "metadata": {
    "collapsed": false
   },
   "outputs": [],
   "source": [
    "#run(`tail semhuff_ipynb.log`)"
   ]
  },
  {
   "cell_type": "code",
   "execution_count": 70,
   "metadata": {
    "collapsed": false
   },
   "outputs": [
    {
     "data": {
      "text/plain": [
       "true"
      ]
     },
     "execution_count": 70,
     "metadata": {},
     "output_type": "execute_result"
    }
   ],
   "source": []
  },
  {
   "cell_type": "code",
   "execution_count": 77,
   "metadata": {
    "collapsed": false
   },
   "outputs": [
    {
     "data": {
      "text/plain": [
       "== (generic function with 142 methods)"
      ]
     },
     "execution_count": 77,
     "metadata": {},
     "output_type": "execute_result"
    }
   ],
   "source": []
  },
  {
   "cell_type": "code",
   "execution_count": 78,
   "metadata": {
    "collapsed": false
   },
   "outputs": [
    {
     "data": {
      "text/plain": [
       "false"
      ]
     },
     "execution_count": 78,
     "metadata": {},
     "output_type": "execute_result"
    }
   ],
   "source": [
    "get_paths(y) == get_paths(sol)"
   ]
  },
  {
   "cell_type": "code",
   "execution_count": 46,
   "metadata": {
    "collapsed": false
   },
   "outputs": [
    {
     "name": "stdout",
     "output_type": "stream",
     "text": [
      "Trees.BranchNode with 2 children. data = \"x1\"\n",
      "├─ Trees.BranchNode with 0 children. data = \"L11\"\n",
      "└─ Trees.BranchNode with 2 children. data = \"x12\"\n",
      "   ├─ Trees.BranchNode with 0 children. data = \"L121\"\n",
      "   └─ Trees.BranchNode with 0 children. data = \"L122\"\n"
     ]
    }
   ],
   "source": [
    "print_tree(STDOUT, y)"
   ]
  },
  {
   "cell_type": "code",
   "execution_count": 79,
   "metadata": {
    "collapsed": false
   },
   "outputs": [
    {
     "data": {
      "text/plain": [
       "true"
      ]
     },
     "execution_count": 79,
     "metadata": {},
     "output_type": "execute_result"
    }
   ],
   "source": [
    "#TODO make this a testcase\n",
    "\n",
    "y == sol"
   ]
  },
  {
   "cell_type": "code",
   "execution_count": 9,
   "metadata": {
    "collapsed": false,
    "scrolled": true
   },
   "outputs": [
    {
     "name": "stdout",
     "output_type": "stream",
     "text": [
      "2016-09-02T15:57:12.71 - info: semantically sorting level: 22\n",
      "perfect matching with 6518 nodes and 195075 edges\n",
      "    starting init...done [0.202 secs]. 10 trees\n",
      "    .8.6.4.2.0.\n",
      "done [0.225 secs]. 928 grows, 0 expands, 17 shrinks\n",
      "    expands: [0.000 secs], shrinks: [0.000 secs], dual updates: [0.000 secs]\n",
      "2016-09-02T15:57:23.546 - info: semantically sorting level: 21\n",
      "perfect matching with 32324 nodes and 969255 edges\n",
      "    starting init...done [1.974 secs]. 68 trees\n",
      "    .64.56.48.40.32.24.16.8.6.4.2.0.\n",
      "done [2.230 secs]. 7170 grows, 4 expands, 99 shrinks\n",
      "    expands: [0.001 secs], shrinks: [0.002 secs], dual updates: [0.001 secs]\n",
      "2016-09-02T16:02:01.874 - info: semantically sorting level: 20\n",
      "perfect matching with 34866 nodes and 1045515 edges\n",
      "    starting init...done [2.440 secs]. 78 trees\n",
      "    .64.56.48.40.32.24.16.8.6.4.2.0.\n",
      "done [2.716 secs]. 6635 grows, 4 expands, 117 shrinks\n",
      "    expands: [0.001 secs], shrinks: [0.003 secs], dual updates: [0.001 secs]\n",
      "2016-09-02T16:07:30.687 - info: semantically sorting level: 19\n",
      "perfect matching with 29796 nodes and 893415 edges\n",
      "    starting init...done [1.927 secs]. 74 trees\n",
      "    .64.56.48.40.32.24.16.8.6.4.2.0.\n",
      "done [2.169 secs]. 6478 grows, 5 expands, 101 shrinks\n",
      "    expands: [0.001 secs], shrinks: [0.002 secs], dual updates: [0.001 secs]\n",
      "2016-09-02T16:11:37.458 - info: semantically sorting level: 18\n",
      "perfect matching with 22790 nodes and 683235 edges\n",
      "    starting init...done [0.948 secs]. 74 trees\n",
      "    .64.56.48.40.32.24.16.8.6.4.2.0.\n",
      "done [1.166 secs]. 6769 grows, 3 expands, 108 shrinks\n",
      "    expands: [0.000 secs], shrinks: [0.003 secs], dual updates: [0.001 secs]\n",
      "2016-09-02T16:14:06.658 - info: semantically sorting level: 17\n",
      "perfect matching with 16572 nodes and 496695 edges\n",
      "    starting init...done [0.633 secs]. 54 trees\n",
      "    .48.40.32.24.16.8.6.4.2.0.\n",
      "done [0.729 secs]. 2936 grows, 4 expands, 99 shrinks\n",
      "    expands: [0.000 secs], shrinks: [0.002 secs], dual updates: [0.000 secs]\n",
      "2016-09-02T16:15:17.459 - info: semantically sorting level: 16\n",
      "perfect matching with 11620 nodes and 348135 edges\n",
      "    starting init...done [0.399 secs]. 48 trees\n",
      "    .40.32.24.16.8.6.4.2.0.\n",
      "done [0.479 secs]. 2789 grows, 5 expands, 70 shrinks\n",
      "    expands: [0.000 secs], shrinks: [0.001 secs], dual updates: [0.000 secs]\n",
      "2016-09-02T16:15:50.813 - info: semantically sorting level: 15\n",
      "perfect matching with 8032 nodes and 240495 edges\n",
      "    starting init...done [0.220 secs]. 24 trees\n",
      "    .16.8.6.4.2.0.\n",
      "done [0.284 secs]. 2169 grows, 4 expands, 41 shrinks\n",
      "    expands: [0.001 secs], shrinks: [0.002 secs], dual updates: [0.000 secs]\n",
      "2016-09-02T16:16:07.47 - info: semantically sorting level: 14\n",
      "perfect matching with 5438 nodes and 162675 edges\n",
      "    starting init...done [0.166 secs]. 22 trees\n",
      "    .16.8.6.4.2.0.\n",
      "done [0.187 secs]. 989 grows, 1 expands, 32 shrinks\n",
      "    expands: [0.000 secs], shrinks: [0.000 secs], dual updates: [0.000 secs]\n",
      "2016-09-02T16:16:14.416 - info: semantically sorting level: 13\n",
      "perfect matching with 3558 nodes and 106275 edges\n",
      "    starting init...done [0.053 secs]. 16 trees\n",
      "    .8.6.4.2.0.\n",
      "done [0.061 secs]. 549 grows, 2 expands, 25 shrinks\n",
      "    expands: [0.000 secs], shrinks: [0.000 secs], dual updates: [0.000 secs]\n",
      "2016-09-02T16:16:17.623 - info: semantically sorting level: 12\n",
      "perfect matching with 2184 nodes and 65055 edges\n",
      "    starting init...done [0.028 secs]. 14 trees\n",
      "    .8.6.4.2.0.\n",
      "done [0.037 secs]. 638 grows, 4 expands, 21 shrinks\n",
      "    expands: [0.000 secs], shrinks: [0.000 secs], dual updates: [0.000 secs]\n",
      "2016-09-02T16:16:18.953 - info: semantically sorting level: 11\n",
      "perfect matching with 1284 nodes and 38055 edges\n",
      "    starting init...done [0.007 secs]. 8 trees\n",
      "    .6.4.2.0.\n",
      "done [0.009 secs]. 180 grows, 1 expands, 12 shrinks\n",
      "    expands: [0.000 secs], shrinks: [0.000 secs], dual updates: [0.000 secs]\n",
      "2016-09-02T16:16:19.443 - info: semantically sorting level: 10\n",
      "perfect matching with 718 nodes and 21075 edges\n",
      "    starting init...done [0.003 secs]. 4 trees\n",
      "    .2.0.\n",
      "done [0.004 secs]. 81 grows, 0 expands, 5 shrinks\n",
      "    expands: [0.000 secs], shrinks: [0.000 secs], dual updates: [0.000 secs]\n",
      "2016-09-02T16:16:19.659 - info: semantically sorting level: 9\n",
      "perfect matching with 382 nodes and 10995 edges\n",
      "    starting init...done [0.001 secs]. 0 trees\n",
      "    .\n",
      "done [0.001 secs]. 0 grows, 0 expands, 0 shrinks\n",
      "    expands: [0.000 secs], shrinks: [0.000 secs], dual updates: [0.000 secs]\n",
      "2016-09-02T16:16:19.739 - info: semantically sorting level: 8\n",
      "perfect matching with 202 nodes and 5595 edges\n",
      "    starting init...done [0.001 secs]. 0 trees\n",
      "    .\n",
      "done [0.001 secs]. 0 grows, 0 expands, 0 shrinks\n",
      "    expands: [0.000 secs], shrinks: [0.000 secs], dual updates: [0.000 secs]\n",
      "2016-09-02T16:16:19.775 - info: semantically sorting level: 7\n",
      "perfect matching with 112 nodes and 2895 edges\n",
      "    starting init...done [0.000 secs]. 2 trees\n",
      "    .0.\n",
      "done [0.001 secs]. 25 grows, 0 expands, 2 shrinks\n",
      "    expands: [0.000 secs], shrinks: [0.000 secs], dual updates: [0.000 secs]\n",
      "2016-09-02T16:16:19.796 - info: semantically sorting level: 6\n",
      "perfect matching with 64 nodes and 1455 edges\n",
      "    starting init...done [0.000 secs]. 0 trees\n",
      "    .\n",
      "done [0.000 secs]. 0 grows, 0 expands, 0 shrinks\n",
      "    expands: [0.000 secs], shrinks: [0.000 secs], dual updates: [0.000 secs]\n",
      "2016-09-02T16:16:19.805 - info: semantically sorting level: 5\n",
      "perfect matching with 32 nodes and 495 edges\n",
      "    starting init...done [0.000 secs]. 2 trees\n",
      "    .0.\n",
      "done [0.000 secs]. 4 grows, 0 expands, 2 shrinks\n",
      "    expands: [0.000 secs], shrinks: [0.000 secs], dual updates: [0.000 secs]\n",
      "2016-09-02T16:16:19.809 - info: semantically sorting level: 4\n",
      "perfect matching with 16 nodes and 120 edges\n",
      "    starting init...done [0.000 secs]. 2 trees\n",
      "    .0.\n",
      "done [0.000 secs]. 4 grows, 0 expands, 4 shrinks\n",
      "    expands: [0.000 secs], shrinks: [0.000 secs], dual updates: [0.000 secs]\n",
      "2016-09-02T16:16:19.811 - info: semantically sorting level: 3\n",
      "perfect matching with 8 nodes and 28 edges\n",
      "    starting init...done [0.000 secs]. 2 trees\n",
      "    .0.\n",
      "done [0.000 secs]. 3 grows, 0 expands, 2 shrinks\n",
      "    expands: [0.000 secs], shrinks: [0.000 secs], dual updates: [0.000 secs]\n",
      "2016-09-02T16:16:19.812 - info: semantically sorting level: 2\n",
      "perfect matching with 4 nodes and 6 edges\n",
      "    starting init...done [0.000 secs]. 0 trees\n",
      "    .\n",
      "done [0.000 secs]. 0 grows, 0 expands, 0 shrinks\n",
      "    expands: [0.000 secs], shrinks: [0.000 secs], dual updates: [0.000 secs]\n",
      "1157.655075 seconds (2.22 G allocations: 57.863 GB, 3.69% gc time)\n"
     ]
    },
    {
     "data": {
      "text/plain": [
       "Trees.BranchNode with 2 children. data = \"\""
      ]
     },
     "execution_count": 9,
     "metadata": {},
     "output_type": "execute_result"
    }
   ],
   "source": [
    "midi_tree = ee.classification_tree#[1][1][1][1][1][1][1][1][1][1]\n",
    "@time semtree = semhuff(midi_tree, ee.embedding, 30);\n",
    "#print_tree(STDOUT, semtree)"
   ]
  },
  {
   "cell_type": "code",
   "execution_count": null,
   "metadata": {
    "collapsed": true
   },
   "outputs": [],
   "source": [
    "JLD.save(\"semtree.jld\", \"semtree\", semtree)"
   ]
  },
  {
   "cell_type": "code",
   "execution_count": null,
   "metadata": {
    "collapsed": false
   },
   "outputs": [],
   "source": [
    "open(\"tree.txt\",\"w\") do fp\n",
    "    print_tree(fp, semtree)\n",
    "end"
   ]
  },
  {
   "cell_type": "code",
   "execution_count": 10,
   "metadata": {
    "collapsed": true
   },
   "outputs": [],
   "source": [
    "using Trees"
   ]
  },
  {
   "cell_type": "code",
   "execution_count": 33,
   "metadata": {
    "collapsed": false
   },
   "outputs": [
    {
     "name": "stderr",
     "output_type": "stream",
     "text": [
      "WARNING: replacing module Trees\n"
     ]
    }
   ],
   "source": [
    "reload(\"Trees\")"
   ]
  },
  {
   "cell_type": "code",
   "execution_count": 34,
   "metadata": {
    "collapsed": false
   },
   "outputs": [
    {
     "data": {
      "text/plain": [
       "semhuff_initialize_AdaGram (generic function with 2 methods)"
      ]
     },
     "execution_count": 34,
     "metadata": {},
     "output_type": "execute_result"
    }
   ],
   "source": [
    "function semhuff_initialize_AdaGram(semtree::Trees.BranchNode, dim::Integer, num_meanings::Integer; alpha::Float64=0.01, d::Float64=0.0)\n",
    "    paths = Dict(node.data=> path for (node, path) in get_paths(semtree))\n",
    "        \n",
    "    codes = Dict(w=> convert(Vector{Int8}, oc - 1) for (w, oc) in leaves_of(semtree))\n",
    "    dict = AdaGram.Dictionary(convert(Vector{AbstractString},collect(keys(paths))))\n",
    "    freqs = Vector{Int64}(length(codes))\n",
    "    huffman_outputs = Vector{AdaGram.HierarchicalOutput}(length(codes))\n",
    "    for word in dict.id2word\n",
    "        id = dict.word2id[word]\n",
    "        freqs[id] = round(Int64,ee.distribution[word] * ee.corpus_size) #Todo: The math on this is not quiet right, because subsampling could have messed with the Corpus Size\n",
    "\n",
    "        huffman_outputs[id] = AdaGram.HierarchicalOutput(codes[word], paths[word])\n",
    "    end;\n",
    "        \n",
    "    vm = AdaGram.VectorModel(freqs, dim, num_meanings, alpha,d, huffman_outputs)\n",
    "    vm, dict\n",
    "end"
   ]
  },
  {
   "cell_type": "code",
   "execution_count": 35,
   "metadata": {
    "collapsed": false
   },
   "outputs": [
    {
     "ename": "LoadError",
     "evalue": "LoadError: MethodError: Cannot `convert` an object of type Array{UInt8,1} to an object of type AbstractString\nThis may have arisen from a call to the constructor AbstractString(...),\nsince type constructors fall back to convert methods.\nwhile loading In[35], in expression starting on line 1",
     "output_type": "error",
     "traceback": [
      "LoadError: MethodError: Cannot `convert` an object of type Array{UInt8,1} to an object of type AbstractString\nThis may have arisen from a call to the constructor AbstractString(...),\nsince type constructors fall back to convert methods.\nwhile loading In[35], in expression starting on line 1",
      "",
      " in copy!(::Base.LinearFast, ::Array{AbstractString,1}, ::Base.LinearFast, ::Array{Array{UInt8,1},1}) at ./abstractarray.jl:476",
      " in convert(::Type{Array{AbstractString,1}}, ::Array{Array{UInt8,1},1}) at ./array.jl:199",
      " in #semhuff_initialize_AdaGram#45(::Float64, ::Float64, ::Function, ::Trees.BranchNode, ::Int64, ::Int64) at ./In[31]:4",
      " in (::#kw##semhuff_initialize_AdaGram)(::Array{Any,1}, ::#semhuff_initialize_AdaGram, ::Trees.BranchNode, ::Int64, ::Int64) at ./<missing>:0",
      " in include_string(::String, ::String) at ./loading.jl:380",
      " in execute_request_0x535c5df2(::ZMQ.Socket, ::IJulia.Msg) at /home/ubuntu/.julia/v0.5/IJulia/src/execute_request.jl:183",
      " in eventloop(::ZMQ.Socket) at /home/ubuntu/.julia/v0.5/IJulia/src/IJulia.jl:143",
      " in (::IJulia.##26#32)() at ./task.jl:309"
     ]
    }
   ],
   "source": [
    "vm, dict = semhuff_initialize_AdaGram(semtree, 300, 5; alpha=0.15, d=0.0);"
   ]
  },
  {
   "cell_type": "code",
   "execution_count": null,
   "metadata": {
    "collapsed": true
   },
   "outputs": [],
   "source": [
    "inplace_train_vectors!(vm, dict, train_fn, window;\n",
    "                       threshold=subsample, context_cut=context_cut,\n",
    "\t\t\t\t\t   epochs=epochs, init_count=initcount, sense_treshold=sense_treshold)"
   ]
  },
  {
   "cell_type": "code",
   "execution_count": 28,
   "metadata": {
    "collapsed": false
   },
   "outputs": [
    {
     "name": "stdout",
     "output_type": "stream",
     "text": [
      "Paramaters -- saving to ../eval/models/adagram/semhuff_v1.params.jld\n",
      "----------\n"
     ]
    }
   ],
   "source": [
    "base_name = \"semhuff_v1\"\n",
    "param_save_fn =  \"../eval/models/adagram/$(base_name).params.jld\"\n",
    "output_fn = \"../eval/models/adagram/$(base_name).adagram_model\"#\"file to save the model (in Julia format)\"\n",
    "@assert !isfile(output_fn)\n",
    "@param_save param_save_fn begin\n",
    "\tnprocessors = nprocs()\n",
    "\ttrain_fn  =  \"../eval/data/corpora/WikiCorp/tokenised_lowercase_WestburyLab.wikicorp.201004.txt\" #\"training text data\"\n",
    "\toutput_fn = output_fn #file to save the model (in Julia format)\"\n",
    "    semsimsource_fn = \"../eval/models/plain/tokenised_lowercase_WestburyLab.wikicorp.201004_50__i1.jld\"\n",
    "\n",
    "\twindow = 10 #\"(max) window size\" C in the paper\n",
    "\tmin_freq  = 20 #\"min. frequency of the word\"\n",
    "\tremove_top_k = 0 #\"remove top K most frequent words\"\n",
    "\tdim  = 300 #\"dimensionality of representations\"\n",
    "\tprototypes = 5 #\"number of word prototypes\" T in the paper\n",
    "\talpha = 0.15 #\"prior probability of allocating a new prototype\"\n",
    "\td  = 0.0 #\"parameter of Pitman-Yor process\" D in paper\n",
    "\tsubsample = 1e-5 #\"subsampling treshold. useful value is 1e-5\"\n",
    "\tcontext_cut  = true #\"randomly reduce size of the context\"\n",
    "\tepochs = 1 #\"number of epochs to train\"\n",
    "\tinitcount = 1. #\"initial weight (count) on first sense for each word\"\n",
    "\tstopwords = Set{AbstractString}() #\"list of stop words\"\n",
    "\tsense_treshold = 1e-10 #\"minimal probability of a meaning to contribute into gradients\"\n",
    "\tsave_treshold = 0.0 #\"minimal probability of a meaning to save after training\"\n",
    "end"
   ]
  },
  {
   "cell_type": "code",
   "execution_count": 29,
   "metadata": {
    "collapsed": false,
    "scrolled": true
   },
   "outputs": [
    {
     "ename": "LoadError",
     "evalue": "LoadError: MethodError: no method matching inplace_train_vectors!(::AdaGram.VectorModel, ::AdaGram.Dictionary, ::String, ::Int64; threshold=1.0e-5, context_cut=true, epochs=1, init_count=1.0, sense_treshold=1.0e-10)\nClosest candidates are:\n  inplace_train_vectors!(!Matched::AdaGram.VectorModel, !Matched::AdaGram.Dictionary, ::AbstractString, ::Int64; batch, start_lr, context_cut, epochs, init_count, sense_treshold, log_path, threshold) at /home/ubuntu/.julia/v0.5/AdaGram/src/gradient.jl:114\nwhile loading In[29], in expression starting on line 1",
     "output_type": "error",
     "traceback": [
      "LoadError: MethodError: no method matching inplace_train_vectors!(::AdaGram.VectorModel, ::AdaGram.Dictionary, ::String, ::Int64; threshold=1.0e-5, context_cut=true, epochs=1, init_count=1.0, sense_treshold=1.0e-10)\nClosest candidates are:\n  inplace_train_vectors!(!Matched::AdaGram.VectorModel, !Matched::AdaGram.Dictionary, ::AbstractString, ::Int64; batch, start_lr, context_cut, epochs, init_count, sense_treshold, log_path, threshold) at /home/ubuntu/.julia/v0.5/AdaGram/src/gradient.jl:114\nwhile loading In[29], in expression starting on line 1",
      "",
      " in include_string(::String, ::String) at ./loading.jl:380",
      " in execute_request_0x535c5df2(::ZMQ.Socket, ::IJulia.Msg) at /home/ubuntu/.julia/v0.5/IJulia/src/execute_request.jl:183",
      " in eventloop(::ZMQ.Socket) at /home/ubuntu/.julia/v0.5/IJulia/src/IJulia.jl:143",
      " in (::IJulia.##26#32)() at ./task.jl:309"
     ]
    }
   ],
   "source": [
    "inplace_train_vectors!(vm, dict, train_fn, window;\n",
    "                       threshold=subsample, context_cut=context_cut,\n",
    "\t\t\t\t\t   epochs=epochs, init_count=initcount, sense_treshold=sense_treshold)"
   ]
  },
  {
   "cell_type": "code",
   "execution_count": null,
   "metadata": {
    "collapsed": false
   },
   "outputs": [],
   "source": []
  },
  {
   "cell_type": "code",
   "execution_count": null,
   "metadata": {
    "collapsed": true
   },
   "outputs": [],
   "source": []
  },
  {
   "cell_type": "code",
   "execution_count": null,
   "metadata": {
    "collapsed": true
   },
   "outputs": [],
   "source": []
  },
  {
   "cell_type": "code",
   "execution_count": null,
   "metadata": {
    "collapsed": false
   },
   "outputs": [],
   "source": [
    "import WordEmbeddings: NetworkType\n",
    "\n",
    "type SemHuff <: NetworkType\n",
    "    source::GenWordEmbedding\n",
    "end"
   ]
  },
  {
   "cell_type": "code",
   "execution_count": null,
   "metadata": {
    "collapsed": false
   },
   "outputs": [],
   "source": [
    "using Training\n",
    "using PooledElements"
   ]
  },
  {
   "cell_type": "code",
   "execution_count": null,
   "metadata": {
    "collapsed": false
   },
   "outputs": [],
   "source": []
  },
  {
   "cell_type": "code",
   "execution_count": null,
   "metadata": {
    "collapsed": false
   },
   "outputs": [],
   "source": [
    "function initialize_network!(embed::GenWordEmbedding, network_type::SemHuff)\n",
    "    source_tree = network_type.source.classification_tree\n",
    "    source_embeddings = network_type.source.embedding\n",
    "    \n",
    "    debug(\"Began SemHuff sorting\")\n",
    "    semtree = semhuff(source_tree, source_embeddings, 30);\n",
    "    debug(\"Completed SemHuff sorting\")\n",
    "    debug(\"Began classification tree creation\")\n",
    "    embed.classification_tree = transform_tree(semtree, \n",
    "                            leaf_transform = word->word,\n",
    "    internal_transform = dummy -> LinearClassifier(2,embed.dim))\n",
    "    \n",
    "    embed.codebook = Dict(leaves_of(classification_tree))\n",
    "    debug(\"Completed SemHuff Bootstrapping\")\n",
    "    embed\n",
    "end"
   ]
  },
  {
   "cell_type": "code",
   "execution_count": null,
   "metadata": {
    "collapsed": false
   },
   "outputs": [],
   "source": [
    "sem_ee = deepcopy(ee)\n",
    "sem_ee.network_type = SemHuff(ee)\n",
    "sem_ee.embedding = Dict(pstring(word)=>wv for (word, wv) in ee.embedding)\n",
    "initialize_embedding(sem_ee,sem_ee.init_type)\n",
    "initialize_network!(sem_ee,sem_ee.network_type)"
   ]
  },
  {
   "cell_type": "code",
   "execution_count": null,
   "metadata": {
    "collapsed": true
   },
   "outputs": [],
   "source": []
  },
  {
   "cell_type": "code",
   "execution_count": null,
   "metadata": {
    "collapsed": true
   },
   "outputs": [],
   "source": []
  },
  {
   "cell_type": "code",
   "execution_count": null,
   "metadata": {
    "collapsed": true
   },
   "outputs": [],
   "source": []
  }
 ],
 "metadata": {
  "kernelspec": {
   "display_name": "Julia 0.5.0-rc0",
   "language": "julia",
   "name": "julia-0.5"
  },
  "language_info": {
   "file_extension": ".jl",
   "mimetype": "application/julia",
   "name": "julia",
   "version": "0.5.0"
  }
 },
 "nbformat": 4,
 "nbformat_minor": 0
}
