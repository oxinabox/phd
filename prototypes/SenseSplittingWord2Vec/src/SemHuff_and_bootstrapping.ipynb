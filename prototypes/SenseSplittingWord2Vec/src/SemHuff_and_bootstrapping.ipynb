{
 "cells": [
  {
   "cell_type": "code",
   "execution_count": null,
   "metadata": {
    "collapsed": false
   },
   "outputs": [],
   "source": [
    "using WordNet\n",
    "using WordEmbeddings, SoftmaxClassifier\n",
    "using Utils\n",
    "using Query\n",
    "using Distances\n",
    "using Iterators\n",
    "using NearestNeighbors\n",
    "using JLD\n",
    "using Trees\n",
    "using AbstractTrees\n",
    "using BlossomV"
   ]
  },
  {
   "cell_type": "code",
   "execution_count": null,
   "metadata": {
    "collapsed": false
   },
   "outputs": [],
   "source": [
    "ee = load(\"../eval/models/plain/tokenised_lowercase_WestburyLab.wikicorp.201004_50__i1.jld\",\"ee\");\n"
   ]
  },
  {
   "cell_type": "code",
   "execution_count": null,
   "metadata": {
    "collapsed": false
   },
   "outputs": [],
   "source": [
    "using Lumberjack\n",
    "remove_truck(\"console\")\n",
    "add_truck(LumberjackTruck(STDOUT, \"info\", Dict{Symbol,Any}(:is_colorized => true)), \"console\")\n",
    "add_truck(LumberjackTruck(\"semhuff_ipynb.log\"), \"file-logger\")"
   ]
  },
  {
   "cell_type": "code",
   "execution_count": null,
   "metadata": {
    "collapsed": false
   },
   "outputs": [],
   "source": [
    "#run(`tail semhuff_ipynb.log`)"
   ]
  },
  {
   "cell_type": "code",
   "execution_count": null,
   "metadata": {
    "collapsed": true
   },
   "outputs": [],
   "source": []
  },
  {
   "cell_type": "code",
   "execution_count": null,
   "metadata": {
    "collapsed": false
   },
   "outputs": [],
   "source": [
    "import BlossomV.dense_num_edges\n",
    "\"\"\"\n",
    "dist_func must resturn a values between 0.0 and 1.0. \n",
    "result is a matrix where each column is a pairing of items, expressed as there index (1 indexed)\n",
    "\"\"\"\n",
    "function most_similar_pairings(dist_func::Function, items, consider_nearest_n::Integer)\n",
    "    m = Matching(length(items), min(dense_num_edges(length(items)), length(items)*consider_nearest_n))\n",
    "    #sims = Matrix{Int32}(length(items),length(items)).*Inf #for Debug purposes\n",
    "    for ii in (1:length(items)-1)\n",
    "        jjs = ii+1:length(items)\n",
    "        dists = [dist_func(items[ii], items[jj]) for jj in jjs]\n",
    "        nearest_jjs = if consider_nearest_n < length(jjs)\n",
    "            jjs[selectperm(dists, 1:consider_nearest_n)]\n",
    "        else\n",
    "            jjs\n",
    "        end\n",
    "            \n",
    "        for (jj,dist) in zip(nearest_jjs,dists)\n",
    "            @assert dist<=1.0\n",
    "            scale = typemax(Int32)>>4\n",
    "            approx_dist = round(Int32, dist*scale)\n",
    "            #sims[ii,jj]=approx_dist\n",
    "            #println(join([m, ii-1, jj-1, approx_dist],\"\\t\"))\n",
    "            add_edge(m, ii-1,jj-1 , approx_dist)\n",
    "        end\n",
    "    end\n",
    "    solve(m)\n",
    "    get_all_matches(m, length(items)) .+ 1    \n",
    "end"
   ]
  },
  {
   "cell_type": "code",
   "execution_count": null,
   "metadata": {
    "collapsed": true
   },
   "outputs": [],
   "source": []
  },
  {
   "cell_type": "code",
   "execution_count": null,
   "metadata": {
    "collapsed": false
   },
   "outputs": [],
   "source": [
    "\"Returns a new tree, with the same structure but different values for the data\"\n",
    "function transform_tree(node::BranchNode; leaf_transform=identity, internal_transform=identity)\n",
    "    function treemap_inner(node, leaf_transform, internal_transform)\n",
    "        data = Trees.isleaf(node) ? leaf_transform(node.data) : internal_transform(node.data)\n",
    "        children = BranchNode[treemap_inner(child, leaf_transform, internal_transform)  for child in node.children]\n",
    "        new_node = BranchNode(copy(children), data)\n",
    "    end\n",
    "    treemap_inner(node, leaf_transform, internal_transform)\n",
    "end\n",
    "    "
   ]
  },
  {
   "cell_type": "code",
   "execution_count": null,
   "metadata": {
    "collapsed": false
   },
   "outputs": [],
   "source": [
    "#TODO make this a testcase\n",
    "x = BranchNode(\n",
    "[BranchNode([],\"11\"),BranchNode([\n",
    "        BranchNode([],\"121\"),BranchNode([],\"122\"),\n",
    "        ],\"12\")],\n",
    "    \"1\"\n",
    ")\n",
    "print_tree(STDOUT, x)\n",
    "\n",
    "println()\n",
    "y=transform_tree(x, leaf_transform = word->\"L\"*word, internal_transform = dummy -> \"x\"*dummy)\n",
    "print_tree(STDOUT, y)"
   ]
  },
  {
   "cell_type": "code",
   "execution_count": null,
   "metadata": {
    "collapsed": false,
    "scrolled": true
   },
   "outputs": [],
   "source": [
    "\"\"\"\n",
    "Assumes that the `tree` is already a Huffman tree.\n",
    "\"\"\"\n",
    "function semhuff(classification_tree, embeddings, consider_nearest_n)\n",
    "    embedding_dim = length(first(embeddings))\n",
    "    sim_tree = transform_tree(classification_tree, \n",
    "                            leaf_transform = word->word,\n",
    "                            internal_transform = dummy -> \"\")\n",
    "    \n",
    "    nodes_at_depth, codes_at_depth = levels(sim_tree)\n",
    "    maxdepth = length(nodes_at_depth)\n",
    "    \n",
    "    \n",
    "    embeds = [embeddings[node.data] for node in nodes_at_depth[maxdepth]]\n",
    "    #Dict(code => embeddings[node.data] for (code, node) in zip(codes_at_depth[maxdepth], nodes_at_depth[maxdepth]))\n",
    "    for depth in maxdepth:-1:2\n",
    "        info(\"semantically sorting level: $depth\")\n",
    "        nodes = nodes_at_depth[depth]\n",
    "        \n",
    "        pair_indexes = most_similar_pairings(Query.angular_dist, embeds, consider_nearest_n)\n",
    "        \n",
    "        #We will now, assign the new nodes to parents in arbitary order\n",
    "        nodes_above = nodes_at_depth[depth-1]\n",
    "        embeds_above = typeof(embeds)(length(nodes_above))\n",
    "        pair_jj = 1\n",
    "\n",
    "        for (above_ii,node_above) in enumerate(nodes_above)\n",
    "\n",
    "            if Trees.isleaf(node_above)\n",
    "                embeds_above[above_ii] = embeddings[node_above.data]\n",
    "            else\n",
    "                #It is a branch so put a pair of nodes here\n",
    "                @assert (length(node_above.children) == 2)\n",
    "                child_index1  = pair_indexes[1,pair_jj]\n",
    "                child_index2  = pair_indexes[2,pair_jj]\n",
    "                pair_jj += 1\n",
    "                node_above.children[1] = nodes[child_index1]\n",
    "                node_above.children[2] = nodes[child_index2]\n",
    "                embeds_above[above_ii] = (embeds[child_index1] + embeds[child_index2])/2.0\n",
    "                #@show nodes[child_index1], nodes[child_index2]\n",
    "            end\n",
    "        end\n",
    "        @assert(pair_jj - 1  == size(pair_indexes,2), \"$(pair_jj) != $(length(pair_indexes)) + 1\") #All pairs must be assigned.\n",
    "            \n",
    "        embeds = embeds_above\n",
    "    end\n",
    "    sim_tree\n",
    "end\n",
    "    \n",
    "    "
   ]
  },
  {
   "cell_type": "code",
   "execution_count": 25,
   "metadata": {
    "collapsed": false,
    "scrolled": true
   },
   "outputs": [
    {
     "name": "stdout",
     "output_type": "stream",
     "text": [
      "2016-09-02T00:18:37.769 - info: semantically sorting level: 11\n",
      "perfect matching with 2 nodes and 1 edges\n",
      "    starting init...done [0.000 secs]. 0 trees\n",
      "    .\n",
      "done [0.000 secs]. 0 grows, 0 expands, 0 shrinks\n",
      "    expands: [0.000 secs], shrinks: [0.000 secs], dual updates: [0.000 secs]\n",
      "2016-09-02T00:18:37.773 - info: semantically sorting level: 10\n",
      "perfect matching with 2 nodes and 1 edges\n",
      "    starting init...done [0.000 secs]. 0 trees\n",
      "    .\n",
      "done [0.000 secs]. 0 grows, 0 expands, 0 shrinks\n",
      "    expands: [0.000 secs], shrinks: [0.000 secs], dual updates: [0.000 secs]\n",
      "2016-09-02T00:18:37.775 - info: semantically sorting level: 9\n",
      "perfect matching with 8 nodes and 28 edges\n",
      "    starting init...done [0.000 secs]. 0 trees\n",
      "    .\n",
      "done [0.000 secs]. 0 grows, 0 expands, 0 shrinks\n",
      "    expands: [0.000 secs], shrinks: [0.000 secs], dual updates: [0.000 secs]\n",
      "2016-09-02T00:18:37.779 - info: semantically sorting level: 8\n",
      "perfect matching with 18 nodes and 153 edges\n",
      "    starting init...done [0.000 secs]. 2 trees\n",
      "    .0.\n",
      "done [0.001 secs]. 2 grows, 0 expands, 2 shrinks\n",
      "    expands: [0.000 secs], shrinks: [0.001 secs], dual updates: [0.000 secs]\n",
      "2016-09-02T00:18:37.783 - info: semantically sorting level: 7\n",
      "perfect matching with 18 nodes and 153 edges\n",
      "    starting init...done [0.000 secs]. 0 trees\n",
      "    .\n",
      "done [0.000 secs]. 0 grows, 0 expands, 0 shrinks\n",
      "    expands: [0.000 secs], shrinks: [0.000 secs], dual updates: [0.000 secs]\n",
      "2016-09-02T00:18:37.785 - info: semantically sorting level: 6\n",
      "perfect matching with 10 nodes and 45 edges\n",
      "    starting init...done [0.000 secs]. 0 trees\n",
      "    .\n",
      "done [0.000 secs]. 0 grows, 0 expands, 0 shrinks\n",
      "    expands: [0.000 secs], shrinks: [0.000 secs], dual updates: [0.000 secs]\n",
      "2016-09-02T00:18:37.787 - info: semantically sorting level: 5\n",
      "perfect matching with 6 nodes and 15 edges\n",
      "    starting init...done [0.000 secs]. 0 trees\n",
      "    .\n",
      "done [0.000 secs]. 0 grows, 0 expands, 0 shrinks\n",
      "    expands: [0.000 secs], shrinks: [0.000 secs], dual updates: [0.000 secs]\n",
      "2016-09-02T00:18:37.788 - info: semantically sorting level: 4\n",
      "perfect matching with 4 nodes and 6 edges\n",
      "    starting init...done [0.000 secs]. 0 trees\n",
      "    .\n",
      "done [0.000 secs]. 0 grows, 0 expands, 0 shrinks\n",
      "    expands: [0.000 secs], shrinks: [0.000 secs], dual updates: [0.000 secs]\n",
      "2016-09-02T00:18:37.789 - info: semantically sorting level: 3\n",
      "perfect matching with 6 nodes and 15 edges\n",
      "    starting init...done [0.000 secs]. 0 trees\n",
      "    .\n",
      "done [0.000 secs]. 0 grows, 0 expands, 0 shrinks\n",
      "    expands: [0.000 secs], shrinks: [0.000 secs], dual updates: [0.000 secs]\n",
      "2016-09-02T00:18:37.79 - info: semantically sorting level: 2\n",
      "perfect matching with 4 nodes and 6 edges\n",
      "    starting init...done [0.000 secs]. 0 trees\n",
      "    .\n",
      "done [0.000 secs]. 0 grows, 0 expands, 0 shrinks\n",
      "    expands: [0.000 secs], shrinks: [0.000 secs], dual updates: [0.000 secs]\n",
      "  0.027778 seconds (17.11 k allocations: 929.234 KB)\n"
     ]
    },
    {
     "data": {
      "text/plain": [
       "Trees.BranchNode with 2 children. data = \"\""
      ]
     },
     "execution_count": 25,
     "metadata": {},
     "output_type": "execute_result"
    }
   ],
   "source": [
    "midi_tree = ee.classification_tree[1][1][1][1][1][1][1][1][1][1]\n",
    "@time semtree = semhuff(midi_tree, ee.embedding, 30);\n",
    "#print_tree(STDOUT, semtree)"
   ]
  },
  {
   "cell_type": "code",
   "execution_count": null,
   "metadata": {
    "collapsed": false
   },
   "outputs": [],
   "source": [
    "open(\"tree.txt\",\"w\") do fp\n",
    "    print_tree(fp, semtree)\n",
    "end"
   ]
  },
  {
   "cell_type": "code",
   "execution_count": 31,
   "metadata": {
    "collapsed": true
   },
   "outputs": [],
   "source": [
    "using Trees\n",
    "using Trees.isleaf\n"
   ]
  },
  {
   "cell_type": "code",
   "execution_count": 37,
   "metadata": {
    "collapsed": false,
    "scrolled": true
   },
   "outputs": [
    {
     "name": "stderr",
     "output_type": "stream",
     "text": [
      "WARNING: Method definition get_paths(Any) in module Main at In[35]:2 overwritten at In[37]:2.\n"
     ]
    },
    {
     "data": {
      "text/plain": [
       "get_paths (generic function with 1 method)"
      ]
     },
     "execution_count": 37,
     "metadata": {},
     "output_type": "execute_result"
    }
   ],
   "source": [
    "function get_paths(root)\n",
    "    function inner(node, id::Int32, path::Vector{Int32})\n",
    "        if isleaf(node)\n",
    "            produce(node.data, path)\n",
    "        else\n",
    "            for child in node.children\n",
    "                inner(child, id+one(Int32), [path;id]) # This will make a copy of the path\n",
    "            end\n",
    "        end\n",
    "    end\n",
    "    @task inner(root, one(Int32), Int32[])\n",
    "end"
   ]
  },
  {
   "cell_type": "code",
   "execution_count": null,
   "metadata": {
    "collapsed": true
   },
   "outputs": [],
   "source": []
  },
  {
   "cell_type": "code",
   "execution_count": 57,
   "metadata": {
    "collapsed": false
   },
   "outputs": [
    {
     "data": {
      "text/plain": [
       "41-element Array{Int32,1}:\n",
       "  35994\n",
       "  72005\n",
       "   4498\n",
       "   2249\n",
       " 144010\n",
       "   2249\n",
       "    281\n",
       "   2249\n",
       "   1125\n",
       "   1124\n",
       "    281\n",
       "   1125\n",
       "   2250\n",
       "   1125\n",
       "   2249\n",
       "  17995\n",
       "  71989\n",
       "   2250\n",
       "   2250\n",
       "   2249\n",
       "   4500\n",
       "   4498\n",
       "   1125\n",
       "   8997\n",
       "   1125\n",
       "   2249\n",
       "   2249\n",
       "    563\n",
       "  71967\n",
       "   2249\n",
       "   4498\n",
       "   4498\n",
       "   1125\n",
       "   4500\n",
       "   4500\n",
       "  72003\n",
       "   4499\n",
       "   2250\n",
       "   4497\n",
       "   2250\n",
       "   2249"
      ]
     },
     "execution_count": 57,
     "metadata": {},
     "output_type": "execute_result"
    }
   ],
   "source": [
    "npaths = Dict(get_paths(semtree))\n",
    "ncodes = Dict(w=> convert(Vector{Int8}, oc - 1) for (w, oc) in leaves_of(semtree))\n",
    "ndict = AdaGram.Dictionary(convert(Vector{AbstractString},collect(keys(npaths))))\n",
    "freqs = Vector{Int32}(length(ncodes))\n",
    "for word in ndict.id2word\n",
    "    freqs[ndict.word2id[word]] = round(Int32,ee.distribution[word] * ee.corpus_size) #Todo: The math on this is not quiet right, because subsampling could have messed with the Corpus Size\n",
    "\n",
    "end"
   ]
  },
  {
   "cell_type": "code",
   "execution_count": null,
   "metadata": {
    "collapsed": true
   },
   "outputs": [],
   "source": []
  },
  {
   "cell_type": "code",
   "execution_count": null,
   "metadata": {
    "collapsed": true
   },
   "outputs": [],
   "source": []
  },
  {
   "cell_type": "code",
   "execution_count": 13,
   "metadata": {
    "collapsed": true
   },
   "outputs": [],
   "source": [
    "using AdaGram\n",
    "vm, dict = load_model(\"../eval/models/adagram/v1_d100.adagram_model\");"
   ]
  },
  {
   "cell_type": "code",
   "execution_count": 22,
   "metadata": {
    "collapsed": false
   },
   "outputs": [
    {
     "name": "stdout",
     "output_type": "stream",
     "text": [
      "vm.code[:,wid] = Int8[1,1,1,1,1,1,0,0,0,1,1,1,-1,-1,-1,-1,-1,-1,-1,-1,-1,-1,-1,-1,-1,-1]\n"
     ]
    },
    {
     "data": {
      "text/plain": [
       "26-element Array{Int8,1}:\n",
       "  1\n",
       "  1\n",
       "  1\n",
       "  1\n",
       "  1\n",
       "  1\n",
       "  0\n",
       "  0\n",
       "  0\n",
       "  1\n",
       "  1\n",
       "  1\n",
       " -1\n",
       " -1\n",
       " -1\n",
       " -1\n",
       " -1\n",
       " -1\n",
       " -1\n",
       " -1\n",
       " -1\n",
       " -1\n",
       " -1\n",
       " -1\n",
       " -1\n",
       " -1"
      ]
     },
     "execution_count": 22,
     "metadata": {},
     "output_type": "execute_result"
    }
   ],
   "source": [
    "wid = dict.word2id[\"fire\"]\n",
    "@show vm.code[:,wid]"
   ]
  },
  {
   "cell_type": "code",
   "execution_count": 23,
   "metadata": {
    "collapsed": false,
    "scrolled": true
   },
   "outputs": [
    {
     "data": {
      "text/plain": [
       "26-element Array{Int32,1}:\n",
       " 495346\n",
       " 496321\n",
       " 496879\n",
       " 497185\n",
       " 497349\n",
       " 497436\n",
       " 497483\n",
       " 497508\n",
       " 497522\n",
       " 497530\n",
       " 497534\n",
       " 497536\n",
       "      0\n",
       "      0\n",
       "      0\n",
       "      0\n",
       "      0\n",
       "      0\n",
       "      0\n",
       "      0\n",
       "      0\n",
       "      0\n",
       "      0\n",
       "      0\n",
       "      0\n",
       "      0"
      ]
     },
     "execution_count": 23,
     "metadata": {},
     "output_type": "execute_result"
    }
   ],
   "source": [
    "vm.path[:, wid]"
   ]
  },
  {
   "cell_type": "code",
   "execution_count": 18,
   "metadata": {
    "collapsed": false
   },
   "outputs": [
    {
     "data": {
      "text/plain": [
       "552"
      ]
     },
     "execution_count": 18,
     "metadata": {},
     "output_type": "execute_result"
    }
   ],
   "source": []
  },
  {
   "cell_type": "code",
   "execution_count": null,
   "metadata": {
    "collapsed": true
   },
   "outputs": [],
   "source": []
  },
  {
   "cell_type": "code",
   "execution_count": null,
   "metadata": {
    "collapsed": true
   },
   "outputs": [],
   "source": []
  },
  {
   "cell_type": "code",
   "execution_count": null,
   "metadata": {
    "collapsed": false
   },
   "outputs": [],
   "source": [
    "import WordEmbeddings: NetworkType\n",
    "\n",
    "type SemHuff <: NetworkType\n",
    "    source::GenWordEmbedding\n",
    "end"
   ]
  },
  {
   "cell_type": "code",
   "execution_count": null,
   "metadata": {
    "collapsed": false
   },
   "outputs": [],
   "source": [
    "using Training\n",
    "using PooledElements"
   ]
  },
  {
   "cell_type": "code",
   "execution_count": null,
   "metadata": {
    "collapsed": false
   },
   "outputs": [],
   "source": []
  },
  {
   "cell_type": "code",
   "execution_count": null,
   "metadata": {
    "collapsed": false
   },
   "outputs": [],
   "source": [
    "function initialize_network!(embed::GenWordEmbedding, network_type::SemHuff)\n",
    "    source_tree = network_type.source.classification_tree\n",
    "    source_embeddings = network_type.source.embedding\n",
    "    \n",
    "    debug(\"Began SemHuff sorting\")\n",
    "    semtree = semhuff(source_tree, source_embeddings, 30);\n",
    "    debug(\"Completed SemHuff sorting\")\n",
    "    debug(\"Began classification tree creation\")\n",
    "    embed.classification_tree = transform_tree(semtree, \n",
    "                            leaf_transform = word->word,\n",
    "    internal_transform = dummy -> LinearClassifier(2,embed.dim))\n",
    "    \n",
    "    embed.codebook = Dict(leaves_of(classification_tree))\n",
    "    debug(\"Completed SemHuff Bootstrapping\")\n",
    "    embed\n",
    "end"
   ]
  },
  {
   "cell_type": "code",
   "execution_count": null,
   "metadata": {
    "collapsed": false
   },
   "outputs": [],
   "source": [
    "sem_ee = deepcopy(ee)\n",
    "sem_ee.network_type = SemHuff(ee)\n",
    "sem_ee.embedding = Dict(pstring(word)=>wv for (word, wv) in ee.embedding)\n",
    "initialize_embedding(sem_ee,sem_ee.init_type)\n",
    "initialize_network!(sem_ee,sem_ee.network_type)"
   ]
  },
  {
   "cell_type": "code",
   "execution_count": null,
   "metadata": {
    "collapsed": true
   },
   "outputs": [],
   "source": []
  }
 ],
 "metadata": {
  "kernelspec": {
   "display_name": "Julia 0.5.0-rc0",
   "language": "julia",
   "name": "julia-0.5"
  },
  "language_info": {
   "file_extension": ".jl",
   "mimetype": "application/julia",
   "name": "julia",
   "version": "0.5.0"
  }
 },
 "nbformat": 4,
 "nbformat_minor": 0
}
