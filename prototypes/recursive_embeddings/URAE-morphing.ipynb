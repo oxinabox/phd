{
 "cells": [
  {
   "cell_type": "code",
   "execution_count": 70,
   "metadata": {
    "collapsed": false
   },
   "outputs": [],
   "source": [
    "using Iterators\n",
    "using Pipe\n",
    "\n",
    "macro printval(ee)\n",
    "    ee_expr = @sprintf \"%s\" string(ee)\n",
    "    esc(:(println($ee_expr,\" = \", $ee)))\n",
    "end\n",
    "\n",
    "macro pz(ee)\n",
    "    ee_expr = @sprintf \"%s\" string(ee)\n",
    "    esc(:(println($ee_expr,\"\\t\\t\",typeof($ee), \"\\t\", size($ee))))\n",
    "end"
   ]
  },
  {
   "cell_type": "code",
   "execution_count": 71,
   "metadata": {
    "collapsed": false
   },
   "outputs": [],
   "source": [
    "using RecursiveAutoencoders\n",
    "#using WordEmbeddings\n",
    "using UnfoldingRAE\n",
    "\n",
    "import UnfoldingRAE.NoSide\n",
    "import UnfoldingRAE.Left\n",
    "import UnfoldingRAE.Right\n"
   ]
  },
  {
   "cell_type": "code",
   "execution_count": 72,
   "metadata": {
    "collapsed": false
   },
   "outputs": [
    {
     "name": "stdout",
     "output_type": "stream",
     "text": [
      "(300,15000)\n",
      "Dict{String,Int64}\n",
      "Array{String,1}\n"
     ]
    }
   ],
   "source": [
    "using WordEmbeddings\n",
    "LL,word_indexes, indexed_words = load_word2vec_embeddings(\"../../Resources/example_code/word2vec/GoogleNews-vectors-negative300.bin\", 15000)\n",
    "size(LL) |> println\n",
    "word_indexes |> typeof |> println\n",
    "indexed_words |> typeof |> println"
   ]
  },
  {
   "cell_type": "code",
   "execution_count": 73,
   "metadata": {
    "collapsed": false,
    "scrolled": true
   },
   "outputs": [
    {
     "name": "stdout",
     "output_type": "stream",
     "text": [
      "training_trees\t\tArray{Any,1}\t(3913,)\n"
     ]
    }
   ],
   "source": [
    "training_trees = open(\"training_sents.jsz\",\"r\") do fs\n",
    "    deserialize(fs)\n",
    "end;\n",
    "@assert length(@pipe training_trees |> filter(x->typeof(x)===UTF8String,_))==0\n",
    "@pz training_trees"
   ]
  },
  {
   "cell_type": "code",
   "execution_count": 118,
   "metadata": {
    "collapsed": true
   },
   "outputs": [],
   "source": [
    "type M_UnfoldLeaf\n",
    "    leaf::UnfoldLeaf\n",
    "    score::Number\n",
    "    index::Int\n",
    "end"
   ]
  },
  {
   "cell_type": "code",
   "execution_count": 124,
   "metadata": {
    "collapsed": false
   },
   "outputs": [
    {
     "data": {
      "text/plain": [
       "evaluate_morph_unfoldings (generic function with 1 method)"
      ]
     },
     "execution_count": 124,
     "metadata": {},
     "output_type": "execute_result"
    }
   ],
   "source": [
    "using Memoize\n",
    "function evaluate_morph_unfoldings(rae::RAE, act::FoldData, orders::Vector{FoldData})\n",
    "    @memoize Dict function recon(ĉ::Embedding)\n",
    "        sims= WordEmbeddings.neighbour_sims(ĉ, rae.L)\n",
    "        score, index = findmax(sims)\n",
    "        c = rae.L[:,index] \n",
    "        score, c, index\n",
    "    end\n",
    "    \n",
    "    function morph_unfold{T}(_, ĉ::Embedding, parent, ::Type{T}, depth)\n",
    "        score,c, index = recon(ĉ)\n",
    "        score, M_UnfoldLeaf(UnfoldLeaf{T}(ĉ, parent, c, depth), score,index)\n",
    "    end\n",
    "\n",
    "    function morph_unfold{T}(order::FoldData, p_in::Embedding, parent, ::Type{T}, depth::Int)\n",
    "        ĉ_i, ĉ_j = reconstruct(rae,p_in)\n",
    "        data = UnfoldData{T}(p_in, parent, ĉ_i, ĉ_j,depth)\n",
    "\n",
    "        left_score, left = morph_unfold(order.left, ĉ_i, data, Left, depth+1)\n",
    "        right_score, right= morph_unfold(order.right, ĉ_j, data, Right, depth+1)\n",
    "        [left_score, right_score], [left; right]\n",
    "    end\n",
    "    scores = Array(Number,length(orders))\n",
    "    unfold_leafs = Array(Array{M_UnfoldLeaf}, length(orders))\n",
    "    for ii in 1:length(orders)\n",
    "        order = orders[ii]\n",
    "        leaf_scores, unfold_leafs[ii] = morph_unfold(order,act.p_out, act, NoSide,0)\n",
    "        scores[ii]=mean(leaf_scores)\n",
    "    end\n",
    "    \n",
    "    \n",
    "    scores,unfold_leafs\n",
    "    \n",
    "    \n",
    "end"
   ]
  },
  {
   "cell_type": "code",
   "execution_count": 125,
   "metadata": {
    "collapsed": false
   },
   "outputs": [
    {
     "data": {
      "text/plain": [
       "make_blank_FoldData (generic function with 2 methods)"
      ]
     },
     "execution_count": 125,
     "metadata": {},
     "output_type": "execute_result"
    }
   ],
   "source": [
    "function make_blank_FoldData(tree::(Any,Any))\n",
    "    function make_blank_FoldData(leaf::Any)\n",
    "        [NaN]\n",
    "    end\n",
    "    \n",
    "    left = make_blank_FoldData(tree[1])\n",
    "    right = make_blank_FoldData(tree[2])\n",
    "    fd = FoldData([NaN], left, right)\n",
    "    fd\n",
    "end"
   ]
  },
  {
   "cell_type": "code",
   "execution_count": 126,
   "metadata": {
    "collapsed": false
   },
   "outputs": [
    {
     "data": {
      "text/plain": [
       "FoldData([NaN],FoldData([NaN],[NaN],[NaN]),[NaN])"
      ]
     },
     "execution_count": 126,
     "metadata": {},
     "output_type": "execute_result"
    }
   ],
   "source": [
    "o1=make_blank_FoldData((1,(1,2)))\n",
    "o2=make_blank_FoldData(((1,2),1))"
   ]
  },
  {
   "cell_type": "code",
   "execution_count": 127,
   "metadata": {
    "collapsed": false
   },
   "outputs": [],
   "source": [
    "tree = training_trees[1]\n",
    "rae_os = RAE(LL,word_indexes,indexed_words,0.1);\n",
    "fold_tree = fold(rae_os, tree)\n",
    "scores,unfold_leafs = evaluate_morph_unfoldings(rae_os, fold_tree, [o1,o2]);\n"
   ]
  },
  {
   "cell_type": "code",
   "execution_count": 129,
   "metadata": {
    "collapsed": false
   },
   "outputs": [
    {
     "data": {
      "text/plain": [
       "3-element Array{ASCIIString,1}:\n",
       " \"Wave\"    \n",
       " \"Patients\"\n",
       " \"Colombia\""
      ]
     },
     "execution_count": 129,
     "metadata": {},
     "output_type": "execute_result"
    }
   ],
   "source": [
    "score, index = findmax(scores)\n",
    "recon = map(mleaf->rae_os.indexed_words[mleaf.index], unfold_leafs[index])"
   ]
  },
  {
   "cell_type": "code",
   "execution_count": 108,
   "metadata": {
    "collapsed": false
   },
   "outputs": [
    {
     "data": {
      "text/plain": [
       "2-element Array{Number,1}:\n",
       " 0.225472\n",
       " 0.20878 "
      ]
     },
     "execution_count": 108,
     "metadata": {},
     "output_type": "execute_result"
    }
   ],
   "source": [
    "scores"
   ]
  },
  {
   "cell_type": "code",
   "execution_count": null,
   "metadata": {
    "collapsed": true
   },
   "outputs": [],
   "source": []
  }
 ],
 "metadata": {
  "kernelspec": {
   "display_name": "Julia 0.3.9-pre",
   "language": "julia",
   "name": "julia-0.3"
  },
  "language_info": {
   "name": "julia",
   "version": "0.3.9"
  }
 },
 "nbformat": 4,
 "nbformat_minor": 0
}
