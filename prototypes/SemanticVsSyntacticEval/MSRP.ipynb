{
 "cells": [
  {
   "cell_type": "code",
   "execution_count": 14,
   "metadata": {
    "collapsed": true
   },
   "outputs": [],
   "source": [
    "from __future__ import print_function\n",
    "from __future__ import unicode_literals\n",
    "\n",
    "import itertools\n",
    "import codecs\n",
    "from os import path\n",
    "import csv"
   ]
  },
  {
   "cell_type": "code",
   "execution_count": 15,
   "metadata": {
    "collapsed": false
   },
   "outputs": [],
   "source": [
    "def load_MSRP(filename):\n",
    "    \n",
    "    with codecs.open(filename,'r', b\"utf-8\" ) as fh:\n",
    "        nlines = 0\n",
    "        for line in fh.readlines():\n",
    "            nlines+=1\n",
    "            if nlines==1:\n",
    "                continue\n",
    "            isparaphrase, id1, id2, str1, str2 = line.split(\"\\t\") #the quality fielld is 1 for phraphrases and 0 for not\n",
    "            if int(isparaphrase)==1:\n",
    "                yield((int(id1),str1.strip()),(int(id2),str2.strip()))\n",
    "\n",
    "            \n",
    "            \n",
    "                "
   ]
  },
  {
   "cell_type": "code",
   "execution_count": 16,
   "metadata": {
    "collapsed": false
   },
   "outputs": [],
   "source": [
    "def create_eval_corpora(base_paraphrases, folder):\n",
    "    \"\"\"We want to create the baseline corpus as a new line seperated sentences, so that it works well with Sorchers URAE system.\n",
    "    Thus all the metadata is stored in seperate files referencing the line numbers\"\"\"\n",
    "    \n",
    "    phrase_line_num = 0\n",
    "    with codecs.open(path.join(folder, \"phrases.txt\"),'w', b\"utf-8\" ) as phrases_fh:\n",
    "        with open(path.join(folder, \"microsoft_ids.txt\"),'w') as microsoft_ids_fh:\n",
    "            microsoft_ids_csv = csv.writer(microsoft_ids_fh)\n",
    "            microsoft_ids_csv.writerow([\"phrase_line_number\",\"microsoft_id\"])\n",
    "            \n",
    "            with open(path.join(folder, \"paraphases.txt\"),\"w\") as paraphases_fh:\n",
    "                paraphases_csv = csv.writer(paraphases_fh)\n",
    "                paraphases_csv.writerow([\"phrase_line_num\", \"paraphase_line_num\"])\n",
    "                 \n",
    "                for ((m_id1,phrase1),(m_id2,phrase2)) in base_paraphrases:\n",
    "                    \n",
    "                    #Add the phrases\n",
    "                    phrases_fh.write(phrase1)\n",
    "                    phrases_fh.write(\"\\n\")\n",
    "                    phrase_line_num+=1\n",
    "                    ln1 = phrase_line_num\n",
    "                    \n",
    "                    phrases_fh.write(phrase2)\n",
    "                    phrases_fh.write(\"\\n\")\n",
    "                    phrase_line_num+=1\n",
    "                    ln2 = phrase_line_num\n",
    "                    \n",
    "                    \n",
    "                    #add to the record of microsoft ids\n",
    "                    microsoft_ids_csv.writerow([ln1,m_id1])\n",
    "                    microsoft_ids_csv.writerow([ln2,m_id2])\n",
    "                    \n",
    "                    #add the paraphases, in both directions\n",
    "                    paraphases_csv.writerow([ln1,ln2])\n",
    "                    paraphases_csv.writerow([ln2,ln1])\n",
    "                    \n",
    "                \n",
    "        "
   ]
  },
  {
   "cell_type": "code",
   "execution_count": 17,
   "metadata": {
    "collapsed": false
   },
   "outputs": [],
   "source": [
    "corp_gen = load_MSRP(\"base_corpora/MSRP/msr_paraphrase_test.txt\")\n",
    "create_eval_corpora(corp_gen,\"prepared_corpora/msrp\")"
   ]
  },
  {
   "cell_type": "code",
   "execution_count": null,
   "metadata": {
    "collapsed": true
   },
   "outputs": [],
   "source": []
  },
  {
   "cell_type": "code",
   "execution_count": null,
   "metadata": {
    "collapsed": true
   },
   "outputs": [],
   "source": []
  }
 ],
 "metadata": {
  "kernelspec": {
   "display_name": "Python 2",
   "language": "python",
   "name": "python2"
  },
  "language_info": {
   "codemirror_mode": {
    "name": "ipython",
    "version": 2
   },
   "file_extension": ".py",
   "mimetype": "text/x-python",
   "name": "python",
   "nbconvert_exporter": "python",
   "pygments_lexer": "ipython2",
   "version": "2.7.9"
  }
 },
 "nbformat": 4,
 "nbformat_minor": 0
}
