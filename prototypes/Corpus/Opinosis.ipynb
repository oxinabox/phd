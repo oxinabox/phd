{
 "cells": [
  {
   "cell_type": "code",
   "execution_count": 1,
   "metadata": {
    "collapsed": false
   },
   "outputs": [
    {
     "name": "stdout",
     "output_type": "stream",
     "text": [
      "*** Connected\n"
     ]
    }
   ],
   "source": [
    "import paramiko\n",
    "\n",
    "#transport = paramiko.Transport((\"amon.ee.uwa.edu.au\", 22))\n",
    "key = paramiko.RSAKey.from_private_key_file(\"/home/wheel/oxinabox/.ssh/id_rsa_cluster\")\n",
    "\n",
    "#transport.connect(None,\"20361362\",pkey=key)\n",
    "#sftp_client = paramiko.SFTPClient.from_transport(transport)\n",
    "client = paramiko.SSHClient()\n",
    "client.load_system_host_keys()\n",
    "client.set_missing_host_key_policy(paramiko.WarningPolicy())\n",
    "client.connect(\"amon.ee.uwa.edu.au\", 22, \"20361362\", pkey=key)\n",
    "print('*** Connected')\n"
   ]
  },
  {
   "cell_type": "code",
   "execution_count": 2,
   "metadata": {
    "collapsed": false
   },
   "outputs": [],
   "source": [
    "root           = \"/user/data7/20361362/phd/Resources/\"\n",
    "\n",
    "working_dir = root + \"example_code/codeRAEVectorsNIPS2011/\"\n"
   ]
  },
  {
   "cell_type": "code",
   "execution_count": 23,
   "metadata": {
    "collapsed": false
   },
   "outputs": [],
   "source": [
    "import os.path\n",
    "import os\n",
    "#filename_bases = ['summaries-gold/'+name for name in os.listdir(\"./corpora/Opinosis/raw/summaries-gold/\")]\n"
   ]
  },
  {
   "cell_type": "code",
   "execution_count": 44,
   "metadata": {
    "collapsed": false
   },
   "outputs": [],
   "source": [
    "def get_filename_bases():\n",
    "    for root, dirs, files in os.walk(\"./corpora/Opinosis/raw/summaries-gold/\"):\n",
    "        for file in files:\n",
    "            yield \"summaries-gold/\"  + os.path.basename(root)+\"/\"+file\n",
    "            \n",
    "\n",
    "filename_bases = list(get_filename_bases())"
   ]
  },
  {
   "cell_type": "code",
   "execution_count": null,
   "metadata": {
    "collapsed": false,
    "scrolled": true
   },
   "outputs": [
    {
     "name": "stdout",
     "output_type": "stream",
     "text": [
      "----\n",
      "b'Loading parser from serialized file ./stanford-parser-2011-09-14/grammar/englishPCFG.ser.gz ... done [1.1 sec].\\nParsing file: input.txt\\nParsing [sent. 1 len. 16]: [The, performance, of, the, 1005HA, is, more, than, acceptable, for, the, notebook, class, of, device, .]\\nParsing [sent. 2 len. 6]: [Its, performance, satisfies, users, needs, .]\\nParsed file: input.txt [2 sentences].\\nParsed 22 words in 2 sentences (65.87 wds/sec; 5.99 sents/sec).\\n'\n",
      "----\n",
      "b'Loading parser from serialized file ./stanford-parser-2011-09-14/grammar/englishPCFG.ser.gz ... done [1.1 sec].\\nParsing file: input.txt\\nParsing [sent. 1 len. 5]: [Performance, is, very, good, .]\\nParsing [sent. 2 len. 9]: [Speed, is, excellent, and, battery, life, is, exceptional, .]\\nParsed file: input.txt [2 sentences].\\nParsed 14 words in 2 sentences (54.26 wds/sec; 7.75 sents/sec).\\n'\n",
      "----\n",
      "b'Loading parser from serialized file ./stanford-parser-2011-09-14/grammar/englishPCFG.ser.gz ... done [1.1 sec].\\nParsing file: input.txt\\nParsing [sent. 1 len. 9]: [Performance, is, great, according, to, its, small, size, .]\\nParsing [sent. 2 len. 14]: [Have, good, battery, life, and, issued, no, problem, regarding, its, performance, or, speed, .]\\nParsed file: input.txt [2 sentences].\\nParsed 23 words in 2 sentences (75.91 wds/sec; 6.60 sents/sec).\\n'\n",
      "----\n",
      "b'Loading parser from serialized file ./stanford-parser-2011-09-14/grammar/englishPCFG.ser.gz ... done [1.1 sec].\\nParsing file: input.txt\\nParsing [sent. 1 len. 18]: [Anti, ,, malware, software, may, degrade, the, performance, both, on, and, off, the, internet, on, these, netbooks, .]\\nParsing [sent. 2 len. 5]: [Battery, performance, is, excellent, .]\\nParsed file: input.txt [2 sentences].\\nParsed 23 words in 2 sentences (65.90 wds/sec; 5.73 sents/sec).\\n'"
     ]
    }
   ],
   "source": [
    "\n",
    "for filename_base in filename_bases:\n",
    "    raw_file       = root + \"corpora/Opinosis/raw/\" + filename_base\n",
    "    phrases_file   = root + \"corpora/Opinosis/processed/\" + filename_base + \".phrases.txt\"\n",
    "    embedding_file = root + \"corpora/Opinosis/processed/\"+filename_base+\".csv\" \n",
    "    parsed_file    = root + \"corpora/Opinosis/processed/\"+filename_base+\".parsed.txt\" \n",
    "\n",
    "    commands = '; '.join([\"cd \" + working_dir, \n",
    "                   \"cp -T \" + raw_file + \" input.txt\",\n",
    "                   \"./phrase2Vector.sh\",\n",
    "                    \"cp -T phrases.txt \" + phrases_file,\n",
    "                    \"cp -T outVectors.txt \" + embedding_file,\n",
    "                    \"cp -T parsed.txt \" + parsed_file,\n",
    "                    #\" \".join([\"git add\", raw_file, phrases_file, embedding_file, parsed_file]),\n",
    "                    #\"git commit -m=\\\"added %s vectors\\\"\" % filename_base,\n",
    "                    #\"git pull\",\n",
    "                    #\"git push\"\n",
    "                   ])\n",
    "\n",
    "\n",
    "    cin,cout,cerr=client.exec_command(commands)\n",
    "    #print(cout.read())\n",
    "    print(\"----\")\n",
    "    print(cerr.read())\n"
   ]
  },
  {
   "cell_type": "code",
   "execution_count": 10,
   "metadata": {
    "collapsed": false,
    "scrolled": true
   },
   "outputs": [
    {
     "name": "stdout",
     "output_type": "stream",
     "text": [
      "b''\n",
      "----\n",
      "b''\n"
     ]
    }
   ],
   "source": []
  },
  {
   "cell_type": "code",
   "execution_count": 8,
   "metadata": {
    "collapsed": false
   },
   "outputs": [
    {
     "data": {
      "text/plain": [
       "'/user/data7/20361362/phd/Resources/corpora/Opinosis/processed/topics/battery-life_netbook_1005ha.txt.data.phrases.txt'"
      ]
     },
     "execution_count": 8,
     "metadata": {},
     "output_type": "execute_result"
    }
   ],
   "source": [
    "phrases_file"
   ]
  },
  {
   "cell_type": "code",
   "execution_count": null,
   "metadata": {
    "collapsed": true
   },
   "outputs": [],
   "source": []
  }
 ],
 "metadata": {
  "kernelspec": {
   "display_name": "Python 3",
   "language": "python",
   "name": "python3"
  },
  "language_info": {
   "codemirror_mode": {
    "name": "ipython",
    "version": 3
   },
   "file_extension": ".py",
   "mimetype": "text/x-python",
   "name": "python",
   "nbconvert_exporter": "python",
   "pygments_lexer": "ipython3",
   "version": "3.4.3"
  }
 },
 "nbformat": 4,
 "nbformat_minor": 0
}
