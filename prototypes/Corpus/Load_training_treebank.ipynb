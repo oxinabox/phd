{
 "cells": [
  {
   "cell_type": "code",
   "execution_count": 1,
   "metadata": {
    "collapsed": false
   },
   "outputs": [],
   "source": [
    "using Pipe\n",
    "using Iterators\n",
    "#using HDF5, JLD"
   ]
  },
  {
   "cell_type": "code",
   "execution_count": 2,
   "metadata": {
    "collapsed": false
   },
   "outputs": [],
   "source": [
    "using PyCall\n",
    "import PyCall.@pysym\n",
    "@pyimport warnings\n",
    "warnings.filterwarnings(\"ignore\")"
   ]
  },
  {
   "cell_type": "code",
   "execution_count": 4,
   "metadata": {
    "collapsed": true
   },
   "outputs": [],
   "source": [
    "@pyimport nltk.corpus as nltk_corpus"
   ]
  },
  {
   "cell_type": "code",
   "execution_count": 5,
   "metadata": {
    "collapsed": false
   },
   "outputs": [
    {
     "data": {
      "text/plain": [
       "done (generic function with 73 methods)"
      ]
     },
     "execution_count": 5,
     "metadata": {},
     "output_type": "execute_result"
    }
   ],
   "source": []
  },
  {
   "cell_type": "code",
   "execution_count": 6,
   "metadata": {
    "collapsed": false
   },
   "outputs": [
    {
     "data": {
      "text/plain": [
       "cnf! (generic function with 1 method)"
      ]
     },
     "execution_count": 6,
     "metadata": {},
     "output_type": "execute_result"
    }
   ],
   "source": [
    "function cnf!(x::PyObject)\n",
    "    x[:collapse_unary]()\n",
    "    x[:chomsky_normal_form]()\n",
    "    \n",
    "    x\n",
    "end"
   ]
  },
  {
   "cell_type": "code",
   "execution_count": 7,
   "metadata": {
    "collapsed": false
   },
   "outputs": [
    {
     "data": {
      "text/plain": [
       "tupup (generic function with 3 methods)"
      ]
     },
     "execution_count": 7,
     "metadata": {},
     "output_type": "execute_result"
    }
   ],
   "source": [
    "\n",
    "function tupup(x::Any)\n",
    "    x\n",
    "end\n",
    "\n",
    "function tupup(tree::PyObject)\n",
    "    if pyisinstance(tree, @pysym :PyList_Type)\n",
    "        if tree[:__len__]()==0\n",
    "            nothing\n",
    "        elseif tree[:__len__]()==1\n",
    "            tupup(pyeval(\"tree[0]\",PyObject; tree=tree))\n",
    "        else\n",
    "            @assert tree[:__len__]()==2\n",
    "            left = tupup(pyeval(\"tree[0]\",PyObject; tree=tree);)\n",
    "            right = tupup(pyeval(\"tree[1]\",PyObject; tree=tree);)\n",
    "            if left!=nothing &&  right!=nothing\n",
    "                (tupup(left), tupup(right))\n",
    "            elseif left==nothing\n",
    "                tupup(right)\n",
    "            elseif right==nothing\n",
    "                tupup(left)\n",
    "            end\n",
    "            \n",
    "            \n",
    "        end\n",
    "    else\n",
    "        convert(String,tree)\n",
    "    end\n",
    "end\n",
    "    \n",
    "function tupup(x::Nothing)\n",
    "    error(\"Can't Make tuple of nothing\")\n",
    "end"
   ]
  },
  {
   "cell_type": "code",
   "execution_count": 8,
   "metadata": {
    "collapsed": false
   },
   "outputs": [
    {
     "data": {
      "text/plain": [
       "loadtrees (generic function with 1 method)"
      ]
     },
     "execution_count": 8,
     "metadata": {},
     "output_type": "execute_result"
    }
   ],
   "source": [
    "function loadtrees(reader::PyObject)\n",
    "    @pipe (\n",
    "    pycall(reader[\"parsed_sents\"], PyObject) \n",
    "    |> PyObjectIter\n",
    "    |> imap(cnf!,_)\n",
    "    |> imap(tupup,_) \n",
    "    |> filter(x->x!==nothing,_) \n",
    "    |> collect)\n",
    "end"
   ]
  },
  {
   "cell_type": "code",
   "execution_count": null,
   "metadata": {
    "collapsed": false
   },
   "outputs": [],
   "source": [
    "open(\"training_sents.jsz\",\"w\") do fs\n",
    "    serialize(fs, loadtrees(nltk_corpus.treebank))\n",
    "end"
   ]
  },
  {
   "cell_type": "code",
   "execution_count": 12,
   "metadata": {
    "collapsed": false,
    "scrolled": true
   },
   "outputs": [],
   "source": [
    "@pyimport glob\n",
    "opinosis_filenames = glob.glob(\"corpora/Opinosis/processed/topics/*.parsed.txt\");\n",
    "opinosis_reader = nltk_corpus.BracketParseCorpusReader(\".\", opinosis_filenames, comment_char=\"S\")\n",
    "#Comment character is `S` because the Standford Parser outputs \"Sentence Skipped\" and \"SENTENCE_SKIPPED_OR_UNPARASABLE\" as log messages\n",
    "\n",
    "open(\"opinosis_sents.jsz\",\"w\") do fs\n",
    "    serialize(fs, loadtrees(opinosis_reader))\n",
    "end"
   ]
  },
  {
   "cell_type": "code",
   "execution_count": 13,
   "metadata": {
    "collapsed": false
   },
   "outputs": [
    {
     "data": {
      "text/plain": [
       "6314-element Array{Any,1}:\n",
       " ((\"Parking\",(\"was\",\"expensive\")),(\"but\",((\"I\",(\"think\",(\"this\",(\"is\",(\"common\",(\"for\",(\"San\",\"Fran\"))))))),\".\")))                                                                                                                                                                                                                                                                                               \n",
       " (\"there\",((\"is\",((\"a\",\"fee\"),((\"for\",\"parking\"),((\"but\",\"well\"),(\"worth\",(\"it\",(\"seeing\",(\"no\",(\"where\",(\"to\",(\"park\",(\"if\",(\"you\",(\"do\",(\"have\",(\"a\",\"car\")))))))))))))))),\".\"))                                                                                                                                                                                                                               \n",
       " (((\"The\",\"parking\"),(\"was\",(\"free\",(\",\",(\"which\",(\"was\",\"great\")))))),(\",\",(\"and\",(((\"the\",\"hotel\"),(\"was\",(\"conveniently\",(\"located\",(\"for\",((\"public\",\"transport\"),(\",\",(\"and\",(\"local\",\"attractions\"))))))))),\".\"))))                                                                                                                                                                                        \n",
       " ((\"As\",(\"for\",\"in\")),(\",\",(\"and\",(\",\",((\"out\",\"parking\"),(\",\",(\"I\",((\"have\",(\"seen\",(((\"a\",\"lot\"),(\"of\",((\"San\",\"Francisco\"),(\"with\",(\"no\",\"car\"))))),(\"at\",\"all\")))),\".\"))))))))                                                                                                                                                                                                                               \n",
       " ((\"They\",(\"have\",(\"a\",(\"parking\",\"garage\")))),(\",\",(\"but\",((\"they\",(\"make\",((\"you\",(\"leave\",(((\"your\",\"vehicle\"),(\"for\",\"them\")),(\"to\",\"park\")))),(\"and\",(\"then\",((\"if\",(\"you\",(\"want\",(\"to\",(\"take\",((\"a\",\"drive\"),\"later\")))))),(\",\",(\"you\",(\"have\",(\"to\",(\"wait\",(\"for\",(\"the\",(\"staff\",(\"to\",(\"get\",\"it\")))))))))))))))),\".\"))))                                                                            \n",
       " ((\"There\",(\"is\",(\"no\",(\"real\",(\"parking\",\"space\"))))),(\",\",(\"so\",((\"I\",(\"had\",(\"to\",(\"pull\",(\"up\",(\"in\",(\"front\",(\"of\",((\"the\",\"hotel\"),(\"in\",(\"a\",(\"small\",\"space\")))))))))))),\".\"))))                                                                                                                                                                                                                         \n",
       " (\"There\",((\"was\",((\"valet\",\"parking\"),(\"at\",((\"a\",\"cost\"),(\"of\",(\"\\$\",\"42\")))))),\".\"))                                                                                                                                                                                                                                                                                                                          \n",
       " ((\"Rooms\",(\"are\",(\"very\",\"comfortable\"))),(\"and\",((\"we\",(\"were\",(\"charged\",((\"\\$\",\"15\"),(\"for\",(\"parking\",((\"our\",\"motorcycle\"),(\"in\",(\"the\",\"garage\"))))))))),\".\")))                                                                                                                                                                                                                                           \n",
       " ((\"Our\",(\"ONLY\",\"complaint\")),(\"was\",((\"one\",(\"doorman\",\"valet\")),(\"was\",(\"n't\",(\"thrilled\",(\"about\",(\"us\",(\"parking\",((\"the\",\"car\"),(\"at\",(\"the\",\"front\"))))))))))))                                                                                                                                                                                                                                           \n",
       " ((\"Parking\",(\"is\",\"easier\")),(\"then\",((\"you\",(\"might\",\"realize\")),\".\")))                                                                                                                                                                                                                                                                                                                                        \n",
       " (\"There\",((\"is\",((\"a\",(\"parking\",\"ramp\")),(\"across\",((\"the\",\"street\"),(\"that\",(\"is\",(\"MUCH\",(\"cheaper\",(\"then\",(\"hotel\",\"parking\")))))))))),\".\"))                                                                                                                                                                                                                                                               \n",
       " (((\"Our\",(\"room\",\"rate\")),(\"was\",(\"all\",((\"in\",\"order\"),(\"we\",(\"d\",(\"booked\",(\"a\",(\"TravelZoo\",\"special\"))))))))),(\",\",(\"and\",(((\"the\",(\"front\",\"desk\")),(\"had\",((\"the\",(\"right\",\"rate\")),(\",\",(\"and\",(\"the\",(\"right\",(\"parking\",\"discount\")))))))),\".\"))))                                                                                                                                                     \n",
       " ((\"Of\",\"course\"),(\"you\",((\"have\",((\"the\",(\"added\",\"thrill\")),(\"of\",(\"paying\",(\"over\",((((\"\\$\",\"40\"),(\"a\",\"night\")),(\"for\",\"parking\")),(\"and\",(\"whatever\",((\"your\",(\"chiropractor\",\"bill\")),(\"is\",(\"when\",(\"you\",(\"are\",(\"done\",(\"with\",(\"the\",\"beds\")))))))))))))))),\".\")))                                                                                                                                     \n",
       " ⋮                                                                                                                                                                                                                                                                                                                                                                                                               \n",
       " ((\"As\",(\"soon\",(\"as\",(\"you\",((\"connect\",((\"the\",(\"VGA\",\"cable\")),(\"to\",(\"an\",(\"unknown\",\"projector\"))))),(\"and\",(\"press\",((\"the\",(\"function\",\"key\")),(\"for\",\"projection\"))))))))),(\",\",(\"it\",(\"automatically\",((\"adjusts\",((\"the\",(\"size\",(\"and\",\"resolution\"))),(\"to\",(\"fit\",((\"the\",\"projector\"),(\"even\",(\"if\",(\"it\",(\"can\",(\"not\",(\"display\",(\"properly\",(\"on\",(\"its\",(\"own\",\"screen\"))))))))))))))),\".\")))))\n",
       " (\"But\",((\"the\",\"projection\"),((\"was\",(\"always\",(\"perfect\",(\"in\",((\"full\",\"size\"),(\"and\",(\"proper\",(\"aspect\",\"ratio\")))))))),\".\")))                                                                                                                                                                                                                                                                              \n",
       " (\"I\",((\"have\",((\"more\",(\"productivity\",\"flow\")),(\"on\",((\"a\",(\"conventional\",\"laptop\")),(\"with\",((\"a\",(\"full\",(\"sized\",\"screen\"))),(\"and\",\"keyboard\"))))))),\".\"))                                                                                                                                                                                                                                                \n",
       " ((\"If\",(\"I\",(\"were\",(\"looking\",(\"to\",(\"get\",(\"work\",(\"done\",\"quickly\")))))))),(\",\",(\"I\",(((\"would\",(\"pay\",((\"the\",(\"extra\",\"money\")),(\"to\",(\"go\",\"full\"))))),(\",\",(\"sized\",(\",\",(\"even\",(\"if\",(\"it\",(\"'s\",\"slower\")))))))),\".\"))))                                                                                                                                                                              \n",
       " (((\"The\",(\"big\",\"one\")),(\"for\",(\"me\",(\"is\",((\"its\",(\"small\",\"size\")),(\"meaning\",(\"that\",(\"I\",(\"can\",(\"put\",(\"it\",(\"in\",((\"the\",(\"smaller\",\"pocket\")),(\"of\",(\"the\",(\"backpack\",(\"and\",\"nobody\"))))))))))))))))),((\"would\",(\"know\",(\"that\",(\"there\",(\"was\",((\"a\",\"laptop\"),(\"in\",\"there\"))))))),\".\"))                                                                                                             \n",
       " ((\"0\",(\"out\",(\"of\",(\"5\",\"stars\")))),((\"PERFECT\",(\"SIZE\",\"NETBOOK\")),(\",\",(\"September\",(\"23\",(\",\",\"2009\"))))))                                                                                                                                                                                                                                                                                                   \n",
       " ((\"This\",\"netbook\"),((\"is\",(\"just\",((\"the\",(\"right\",\"size\")),(\",\",((\"great\",(\"for\",\"travel\")),(\"and\",(\"the\",\"10\"))))))),\".\"))                                                                                                                                                                                                                                                                                   \n",
       " ((\"His\",(\"full\",(\"sized\",\"laptop\"))),((\"dies\",(\"after\",(((\"about\",\"2\"),\"hours\"),(\"of\",\"use\")))),\".\"))                                                                                                                                                                                                                                                                                                           \n",
       " ((\"The\",\"keyboard\"),(((\"is\",(\"nearly\",(\"full\",\"size\"))),(\"and\",((\"very\",(\"comfortable\",(\"to\",\"type\"))),(\"on\",(\"for\",\"hours\"))))),\".\"))                                                                                                                                                                                                                                                                          \n",
       " ((\"9\",\"I\"),((\"was\",((\"used\",\"to\"),(\",\",((\"the\",\"increase\"),(\"in\",((\"size\",(\"and\",(\"or\",\"weight\"))),(\"was\",(\"barely\",\"noticeable\")))))))),\".\"))                                                                                                                                                                                                                                                                  \n",
       " (((\"Other\",(\"than\",\"that\")),(\",\",(\"it\",(\"is\",(\"an\",(\"amazing\",(\"little\",\"computer\"))))))),(\"and\",((\"I\",(\"ca\",(\"n't\",(\"see\",(\"any\",(\"reason\",(\"to\",(\"own\",((\"a\",(\"full\",(\"sized\",\"laptop\"))),\"anymore\"))))))))),\".\")))                                                                                                                                                                                           \n",
       " ((((\",\",(\"I\",(\"was\",(\"willing\",\"to\")))),(\"downsize\",((\"my\",(\"screen\",\"size\")),(\"in\",(\"favor\",(\"of\",\"portability\")))))),(\"and\",\"speed\")),\".\")                                                                                                                                                                                                                                                                    "
      ]
     },
     "execution_count": 13,
     "metadata": {},
     "output_type": "execute_result"
    }
   ],
   "source": [
    " loadtrees(opinosis_reader)"
   ]
  },
  {
   "cell_type": "code",
   "execution_count": null,
   "metadata": {
    "collapsed": false
   },
   "outputs": [],
   "source": [
    "questionbank_reader = nltk_corpus.BracketParseCorpusReader(\".\", [\"../Corpus/corpora/QuestionBank/4000qs.txt\"])\n",
    "\n",
    "open(\"questionbank_sents.jsz\",\"w\") do fs\n",
    "    serialize(fs, loadtrees(questionbank_reader))\n",
    "end"
   ]
  },
  {
   "cell_type": "code",
   "execution_count": null,
   "metadata": {
    "collapsed": true
   },
   "outputs": [],
   "source": []
  }
 ],
 "metadata": {
  "kernelspec": {
   "display_name": "Julia 0.4.0-dev",
   "language": "julia",
   "name": "julia-0.4"
  },
  "language_info": {
   "name": "julia",
   "version": "0.3.10"
  }
 },
 "nbformat": 4,
 "nbformat_minor": 0
}
