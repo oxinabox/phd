{
 "cells": [
  {
   "cell_type": "code",
   "execution_count": 88,
   "metadata": {
    "collapsed": true
   },
   "outputs": [],
   "source": [
    "# Note: SemCore is *not* XML."
   ]
  },
  {
   "cell_type": "code",
   "execution_count": 89,
   "metadata": {
    "collapsed": false
   },
   "outputs": [
    {
     "ename": "LoadError",
     "evalue": "LoadError: invalid redefinition of constant SenseAnnotatedWord\nwhile loading In[89], in expression starting on line 2",
     "output_type": "error",
     "traceback": [
      "LoadError: invalid redefinition of constant SenseAnnotatedWord\nwhile loading In[89], in expression starting on line 2",
      "",
      " in include_string(::String, ::String) at ./loading.jl:380",
      " in execute_request_0x535c5df2(::ZMQ.Socket, ::IJulia.Msg) at /home/ubuntu/.julia/v0.5/IJulia/src/execute_request.jl:183",
      " in eventloop(::ZMQ.Socket) at /home/ubuntu/.julia/v0.5/IJulia/src/IJulia.jl:143",
      " in (::IJulia.##26#32)() at ./task.jl:309"
     ]
    }
   ],
   "source": [
    "abstract TaggedWord\n",
    "immutable SenseAnnotatedWord{S<:AbstractString} <: TaggedWord\n",
    "    pos::S\n",
    "    lemma::S\n",
    "    wnsn::S\n",
    "    lexsn::S\n",
    "    word::S\n",
    "end\n",
    "\n",
    "\n",
    "immutable PosTaggedWord{S<:AbstractString} <: TaggedWord\n",
    "    pos::S\n",
    "    word::S\n",
    "end\n"
   ]
  },
  {
   "cell_type": "code",
   "execution_count": 154,
   "metadata": {
    "collapsed": false
   },
   "outputs": [
    {
     "data": {
      "text/plain": [
       "RegexMatch(\"lexsn=1:03:00:: pn=group\", 1=\"1:03:00::\")"
      ]
     },
     "execution_count": 154,
     "metadata": {},
     "output_type": "execute_result"
    }
   ],
   "source": [
    "match(r\"lexsn=(\\d.*:\\d*).*\", \"lexsn=1:03:00:: pn=group\")"
   ]
  },
  {
   "cell_type": "code",
   "execution_count": 198,
   "metadata": {
    "collapsed": false
   },
   "outputs": [
    {
     "data": {
      "text/plain": [
       "parse_tagged_word (generic function with 1 method)"
      ]
     },
     "execution_count": 198,
     "metadata": {},
     "output_type": "execute_result"
    }
   ],
   "source": [
    "\n",
    "function parse_sense_annotated_word(line::AbstractString)\n",
    "    captures = match(r\"<wf cmd=done.* pos=(.*) lemma=(.*) wnsn=(.*) lexsn=(\\d.*:\\d*).*>(.*).*</wf>\", line).captures\n",
    "    SenseAnnotatedWord(captures...)\n",
    "end\n",
    "\n",
    "function parse_tagged_word(line::AbstractString)\n",
    "    captures = match(r\"<wf cmd=.* pos=(.*).*>(.*)</wf>\", line).captures\n",
    "    PosTaggedWord(captures...)\n",
    "end\n"
   ]
  },
  {
   "cell_type": "code",
   "execution_count": 199,
   "metadata": {
    "collapsed": false
   },
   "outputs": [
    {
     "data": {
      "text/plain": [
       "SenseAnnotatedWord{SubString{String}}(\"NN\",\"report\",\"20\",\"1:10:00::\",\"reports\")"
      ]
     },
     "metadata": {},
     "output_type": "display_data"
    },
    {
     "name": "stdout",
     "output_type": "stream",
     "text": [
      "Test Summary:    | Pass  Total\n",
      "  Sense Annoations |   13     13\n",
      "Test Summary:      | Pass  Total\n",
      "  POS Tag Annoations |    2      2\n"
     ]
    }
   ],
   "source": [
    "Base.Test.@testset \"Sense Annoations\" begin\n",
    "    Base.Test.@test parse_sense_annotated_word(\"\"\"<wf cmd=done pos=JJ lemma=recent wnsn=2 lexsn=5:00:00:past:00>recent</wf>\"\"\") != false\n",
    "    \n",
    "    eg = \"\"\"<wf cmd=done rdf=group pos=NNP lemma=group wnsn=1 lexsn=1:03:00:: pn=group>Fulton_County_Grand_Jury</wf>\"\"\"\n",
    "    Base.Test.@test parse_sense_annotated_word(eg).pos == \"NNP\"\n",
    "    Base.Test.@test parse_sense_annotated_word(eg).lemma == \"group\"\n",
    "    Base.Test.@test parse_sense_annotated_word(eg).wnsn == \"1\"\n",
    "    Base.Test.@test parse_sense_annotated_word(eg).lexsn == \"1:03:00::\"\n",
    "    Base.Test.@test parse_sense_annotated_word(eg).word == \"Fulton_County_Grand_Jury\"\n",
    "\n",
    "    \n",
    "    Base.Test.@test parse_sense_annotated_word(\"\"\"<wf cmd=done pos=JJ lemma=recent wnsn=2 lexsn=5:00:00:past:00>recent</wf>\"\"\") != false\n",
    "    Base.Test.@test parse_sense_annotated_word(\"\"\"<wf cmd=done pos=NN lemma=year wnsn=2;1 lexsn=1:28:02::;1:28:01::>year</wf>\"\"\") != false\n",
    "    \n",
    "    \n",
    "    \n",
    "    eg = \"\"\"<wf cmd=done pos=NN lemma=report wnsn=20 lexsn=1:10:00::>reports</wf>\"\"\"\n",
    "    display(parse_sense_annotated_word(eg))\n",
    "    Base.Test.@test parse_sense_annotated_word(eg).pos == \"NN\"\n",
    "    Base.Test.@test parse_sense_annotated_word(eg).lemma == \"report\"\n",
    "    Base.Test.@test parse_sense_annotated_word(eg).wnsn == \"20\"\n",
    "    Base.Test.@test parse_sense_annotated_word(eg).lexsn == \"1:10:00::\"\n",
    "    Base.Test.@test parse_sense_annotated_word(eg).word == \"reports\"\n",
    "\n",
    "end;\n",
    "\n",
    "Base.Test.@testset \"POS Tag Annoations\" begin\n",
    "    eg = \"\"\"<wf cmd=ignore pos=IN>of</wf>\"\"\"\n",
    "    Base.Test.@test parse_tagged_word(eg).pos == \"IN\"\n",
    "    Base.Test.@test parse_tagged_word(eg).word == \"of\"\n",
    "\n",
    "    \n",
    "end;"
   ]
  },
  {
   "cell_type": "code",
   "execution_count": 200,
   "metadata": {
    "collapsed": false
   },
   "outputs": [
    {
     "data": {
      "text/plain": [
       "parse_semcore (generic function with 1 method)"
      ]
     },
     "execution_count": 200,
     "metadata": {},
     "output_type": "execute_result"
    }
   ],
   "source": [
    "function parse_semcore(lines)\n",
    "    #Note: \n",
    "    \n",
    "    #Goldplate: There is a nicer way to do this, lazily, with coroutines.\n",
    "    sents = Vector{TaggedWord}[]\n",
    "        \n",
    "    ignore(line) = nothing\n",
    "    get_tagged(line) = push!(sents[end], parse_tagged_word(line))\n",
    "    get_sense_annotated(line) = push!(sents[end], parse_sense_annotated_word(line))\n",
    "    get_entity_annodated(line) = push!(sents[end], parse_entity_annotated_word(line))\n",
    "    \n",
    "    \n",
    "    subparsers = Dict(\n",
    "        \"<wf cmd=tag\"=> get_tagged,\n",
    "        \"<wf cmd=ignore\"=> get_tagged,\n",
    "        \"<wf cmd=done\"=> line -> contains(line,\"lemma=\") ? get_sense_annotated(line) : get_tagged(line),\n",
    "        \"<punc>\"=>ignore,\n",
    "        \"<context\"=> ignore,\n",
    "        \"</context\" => ignore,\n",
    "        \"<p\" => ignore,#parastart,\n",
    "        \"</p\" => ignore, #paraend,\n",
    "        \"<s\" => line -> push!(sents,TaggedWord[]), #sentstart,\n",
    "        \"</s\" => ignore#sentend\n",
    "    )\n",
    "    \n",
    "    for line in lines\n",
    "        try\n",
    "            found = false\n",
    "            for (prefix, subparse) in subparsers\n",
    "                if startswith(line, prefix)\n",
    "                    found=true\n",
    "                    subparse(line)\n",
    "                    break\n",
    "                end\n",
    "            end\n",
    "            @assert(found, \"No parser for \\\"$line\\\"\") \n",
    "        catch ee\n",
    "            error(\"Error parsing \\\"$line\\\". $ee\")\n",
    "        end\n",
    "    end\n",
    "    \n",
    "    return sents\n",
    "end"
   ]
  },
  {
   "cell_type": "code",
   "execution_count": 201,
   "metadata": {
    "collapsed": false
   },
   "outputs": [
    {
     "data": {
      "text/plain": [
       "load_semcor (generic function with 1 method)"
      ]
     },
     "execution_count": 201,
     "metadata": {},
     "output_type": "execute_result"
    }
   ],
   "source": [
    "function load_semcor(tagdir_path)\n",
    "    Task() do\n",
    "        for filename in [joinpath(tagdir_path, d) for d in readdir(tagdir_path)]\n",
    "            produce.(parse_semcore(eachline(filename)))\n",
    "        end\n",
    "    end\n",
    "end"
   ]
  },
  {
   "cell_type": "code",
   "execution_count": 202,
   "metadata": {
    "collapsed": false
   },
   "outputs": [],
   "source": [
    "sents = collect(load_semcor(\"corpora/semcor2.1/brown1/tagfiles/\"));"
   ]
  },
  {
   "cell_type": "code",
   "execution_count": 204,
   "metadata": {
    "collapsed": false
   },
   "outputs": [
    {
     "data": {
      "text/plain": [
       "46-element Array{TaggedWord,1}:\n",
       " PosTaggedWord{SubString{String}}(\"PRP\",\"She\")                                                    \n",
       " SenseAnnotatedWord{SubString{String}}(\"VB\",\"be\",\"1\",\"2:42:03::\",\"was\")                           \n",
       " PosTaggedWord{SubString{String}}(\"DT\",\"a\")                                                       \n",
       " SenseAnnotatedWord{SubString{String}}(\"JJ\",\"living\",\"4\",\"5:00:00:absolute:00\",\"living\")          \n",
       " SenseAnnotatedWord{SubString{String}}(\"NN\",\"doll\",\"1\",\"1:06:00::\",\"doll\")                        \n",
       " PosTaggedWord{SubString{String}}(\"CC\",\"and\")                                                     \n",
       " PosTaggedWord{SubString{String}}(\"DT\",\"no\")                                                      \n",
       " SenseAnnotatedWord{SubString{String}}(\"NN\",\"mistake\",\"2\",\"1:09:00::\",\"mistake\")                  \n",
       " PosTaggedWord{SubString{String}}(\"DT\",\"the\")                                                     \n",
       " SenseAnnotatedWord{SubString{String}}(\"JJ\",\"blue-black\",\"1\",\"5:00:00:achromatic:00\",\"blue-black\")\n",
       " SenseAnnotatedWord{SubString{String}}(\"NN\",\"bang\",\"3\",\"1:08:00::\",\"bang\")                        \n",
       " PosTaggedWord{SubString{String}}(\"DT\",\"the\")                                                     \n",
       " SenseAnnotatedWord{SubString{String}}(\"JJ\",\"wide\",\"1\",\"3:00:00::\",\"wide\")                        \n",
       " SenseAnnotatedWord{SubString{String}}(\"NN\",\"cheekbone\",\"1\",\"1:08:00::\",\"cheekbones\")             \n",
       " SenseAnnotatedWord{SubString{String}}(\"JJ\",\"olive\",\"1\",\"5:00:00:chromatic:00\",\"olive\")           \n",
       " SenseAnnotatedWord{SubString{String}}(\"JJ\",\"flushed\",\"1\",\"5:00:00:healthy:00\",\"flushed\")         \n",
       " PosTaggedWord{SubString{String}}(\"WDT\",\"that\")                                                   \n",
       " SenseAnnotatedWord{SubString{String}}(\"VB\",\"betray\",\"1\",\"2:32:01::\",\"betrayed\")                  \n",
       " PosTaggedWord{SubString{String}}(\"DT\",\"the\")                                                     \n",
       " SenseAnnotatedWord{SubString{String}}(\"NN\",\"cherokee\",\"1\",\"1:10:00::\",\"Cherokee\")                \n",
       " SenseAnnotatedWord{SubString{String}}(\"NN\",\"strain\",\"7\",\"1:07:00::\",\"strain\")                    \n",
       " PosTaggedWord{SubString{String}}(\"IN\",\"in\")                                                      \n",
       " PosTaggedWord{SubString{String}}(\"PRP\\$\",\"her\")                                                  \n",
       " SenseAnnotatedWord{SubString{String}}(\"JJ\",\"midwestern\",\"1\",\"5:00:00:western:02\",\"Midwestern\")   \n",
       " SenseAnnotatedWord{SubString{String}}(\"NN\",\"lineage\",\"1\",\"1:14:00::\",\"lineage\")                  \n",
       " PosTaggedWord{SubString{String}}(\"CC\",\"and\")                                                     \n",
       " PosTaggedWord{SubString{String}}(\"DT\",\"the\")                                                     \n",
       " SenseAnnotatedWord{SubString{String}}(\"NN\",\"mouth\",\"2\",\"1:08:00::\",\"mouth\")                      \n",
       " PosTaggedWord{SubString{String}}(\"WP\\$\",\"whose\")                                                 \n",
       " SenseAnnotatedWord{SubString{String}}(\"JJ\",\"only\",\"0\",\"5:00:00:single(a):00\",\"only\")             \n",
       " SenseAnnotatedWord{SubString{String}}(\"NN\",\"fault\",\"5\",\"1:26:00::\",\"fault\")                      \n",
       " PosTaggedWord{SubString{String}}(\"IN\",\"in\")                                                      \n",
       " PosTaggedWord{SubString{String}}(\"DT\",\"the\")                                                     \n",
       " SenseAnnotatedWord{SubString{String}}(\"NN\",\"novelist\",\"1\",\"1:18:00::\",\"novelist\")                \n",
       " PosTaggedWord{SubString{String}}(\"POS\",\"'s\")                                                     \n",
       " SenseAnnotatedWord{SubString{String}}(\"JJ\",\"carping\",\"1\",\"5:00:00:critical:01\",\"carping\")        \n",
       " SenseAnnotatedWord{SubString{String}}(\"NN\",\"phrase\",\"1\",\"1:10:00::\",\"phrase\")                    \n",
       " SenseAnnotatedWord{SubString{String}}(\"VB\",\"be\",\"2\",\"2:42:06::\",\"was\")                           \n",
       " PosTaggedWord{SubString{String}}(\"IN\",\"that\")                                                    \n",
       " PosTaggedWord{SubString{String}}(\"DT\",\"the\")                                                     \n",
       " SenseAnnotatedWord{SubString{String}}(\"JJ\",\"lower\",\"0\",\"5:00:00:bottom(a):00\",\"lower\")           \n",
       " SenseAnnotatedWord{SubString{String}}(\"NN\",\"lip\",\"1\",\"1:08:00::\",\"lip\")                          \n",
       " SenseAnnotatedWord{SubString{String}}(\"VB\",\"be\",\"1\",\"2:42:03::\",\"was\")                           \n",
       " SenseAnnotatedWord{SubString{String}}(\"RB\",\"a_trifle\",\"1\",\"4:02:00::\",\"a_trifle\")                \n",
       " SenseAnnotatedWord{SubString{String}}(\"RB\",\"too\",\"1\",\"4:02:00::\",\"too\")                          \n",
       " SenseAnnotatedWord{SubString{String}}(\"JJ\",\"voluptuous\",\"1\",\"5:00:00:sexy:00\",\"voluptuous\")      "
      ]
     },
     "execution_count": 204,
     "metadata": {},
     "output_type": "execute_result"
    }
   ],
   "source": [
    "sents[end-1]"
   ]
  },
  {
   "cell_type": "code",
   "execution_count": null,
   "metadata": {
    "collapsed": true
   },
   "outputs": [],
   "source": [
    ";g"
   ]
  },
  {
   "cell_type": "code",
   "execution_count": null,
   "metadata": {
    "collapsed": true
   },
   "outputs": [],
   "source": []
  }
 ],
 "metadata": {
  "kernelspec": {
   "display_name": "Julia 0.5.0-rc0",
   "language": "julia",
   "name": "julia-0.5"
  },
  "language_info": {
   "file_extension": ".jl",
   "mimetype": "application/julia",
   "name": "julia",
   "version": "0.5.0"
  }
 },
 "nbformat": 4,
 "nbformat_minor": 0
}
