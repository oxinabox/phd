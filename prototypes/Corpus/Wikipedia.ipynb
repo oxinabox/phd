{
 "cells": [
  {
   "cell_type": "markdown",
   "metadata": {},
   "source": [
    "First use: http://w-i-k-i.appspot.com/"
   ]
  },
  {
   "cell_type": "code",
   "execution_count": 30,
   "metadata": {
    "collapsed": true
   },
   "outputs": [],
   "source": [
    "text = \"\"\"{{about}}In the history of science, Laplace's demon was the first published articulation of causal or scientific determinism by Pierre-Simon Laplace in 1814.{{cite web}} According to determinism, if someone (the Demon) knows the precise location and momentum of every atom in the universe, their past and future values for any given time are entailed; they can be calculated from the laws of classical mechanics.Pierre-Simon Laplace, \"A Philosophical Essay on Probabilities\" (full text).\n",
    "English translation\n",
    "{{quote}}This intellect is often referred to as Laplace's demon (and sometimes Laplace's Superman, after Hans Reichenbach). Laplace himself did not use the word \"demon\", which was a later embellishment. As translated into English above, he simply referred to: \"Une intelligence... Rien ne serait incertain pour elle, et l'avenir, comme le passé, serait présent à ses yeux.\" Apparently, Laplace was not the first to evoke one such demon and strikingly similar passages can be found decades before Laplace's Essai philosophique in the work of scholars such as Nicolas de Condorcet and Baron D'Holbach.Marij van Strien, \"On the origins and foundations of Laplacian determinism\", Studies in History and Philosophy of Science 45 (2014) 24-31 http://www.sciencedirect.com/science/article/pii/S0039368113001325 However, it seems that the first who offered the image of a super-powerful calculating intelligence was Roger Joseph Boscovich, whose formulation of the principle of determinism in his 1758 Theoria philosophiae naturalis turns out not only to be temporally prior to Laplace's but also—being founded on fewer metaphysical principles and more rooted in and elaborated by physical assumptions—to be more precise, complete and comprehensive than Laplace's somewhat parenthetical statement of the doctrine.Boris Kožnjak, \"Who let the demon out? Laplace and Boscovich on determinism\", Studies in History and Philosophy of Science 51 (2015) 42-52 http://www.sciencedirect.com/science/article/pii/S0039368115000370\n",
    "Arguments against Laplace's demon\n",
    "According to chemical engineer Robert Ulanowicz, in his 1986 book Growth and Development, Laplace's demon met its end with early 19th century developments of the concepts of irreversibility, entropy, and the second law of thermodynamics. In other words, Laplace's demon was based on the premise of reversibility and classical mechanics; however, Ulanowicz points out that many thermodynamic processes are irreversible, so that if thermodynamic quantities are taken to be purely physical then no such demon is possible as one could not reconstruct past positions and momenta from the current state. Maximum entropy thermodynamics takes a very different view, considering thermodynamic variables to have a statistical basis which can be kept separate from the microscopic physics.http://bayes.wustl.edu/etj/articles/theory.1.pdfDue to its canonical assumption of determinism, Laplace's demon is incompatible with mainstream interpretations of quantum mechanics, that stipulate indeterminacy. Whilst indeterminacy is the majority position amongst physicists, the interpretation of quantum mechanics is still very much open for debate and there are many who take opposing views (such as the de Broglie–Bohm interpretation).http://arxiv.org/pdf/1303.2719v1.pdfChaos theory is sometimes pointed out as a contradiction to Laplace's demon: it describes how a deterministic system can nonetheless exhibit behavior that is impossible to predict: as in the butterfly effect, minor variations between the starting conditions of two systems can result in major differences.Stanford Encyclopedia of Philosophy, \"Causal Determinism\" While this explains unpredictability in practical cases, applying it to Laplace's case is questionable: under the strict demon hypothesis all details are known—to infinite precision—and therefore variations in starting conditions are non-existent.In 2008, David Wolpert used Cantor diagonalization to disprove Laplace's demon. He did this by assuming that the demon is a computational device and showing that no two such devices can completely predict each other.{{cite journal}} full text{{cite journal}} If the demon were not contained within and computed by the universe, any accurate simulation of the universe would be indistinguishable from the universe to an internal observer, and the argument remains distinct from what is observable. The Wolpert's paper was cited in 2014 in a paper of Josef Rukavicka, where a significantly simpler argument is presented that disproves Laplace's demon. Rukavicka Josef (2014), Rejection of Laplace's Demon, The American Mathematical Monthly http://dx.doi.org/10.4169/amer.math.monthly.121.06.498\n",
    "Recent viewsThere has recently been proposed a limit on the computational power of the universe, i.e. the ability of Laplace's Demon to process an infinite amount of information. The limit is based on the maximum entropy of the universe, the speed of light, and the minimum amount of time taken to move information across the Planck length, and the figure was shown to be about 10120 bits.{{cite web}} Accordingly, anything that requires more than this amount of data cannot be computed in the amount of time that has elapsed so far in the universe.Another theory suggests that if Laplace's demon were to occupy a parallel universe or alternate dimension from which it could determine the implied data and do the necessary calculations on an alternate and greater time line the aforementioned time limitation would not apply. This position is for instance explained in David Deutsch's The Fabric of Reality, who says that realizing a 300-qubit quantum computer would prove the existence of parallel universes carrying the computation.\n",
    "See also\n",
    "\n",
    "Clockwork universe theory\n",
    "Eudaemons\n",
    "Maxwell's demon\n",
    "Simulacra and Simulation\n",
    "\n",
    "\n",
    "References{{Reflist}}\n",
    "{{Use dmy dates}}{{DEFAULTSORT:Laplace's Demon}}\n",
    "\n",
    "\"\"\"\n"
   ]
  },
  {
   "cell_type": "code",
   "execution_count": 31,
   "metadata": {
    "collapsed": true
   },
   "outputs": [],
   "source": [
    "import re\n",
    "import nltk"
   ]
  },
  {
   "cell_type": "code",
   "execution_count": 50,
   "metadata": {
    "collapsed": false
   },
   "outputs": [],
   "source": [
    "text = re.sub(r\"References\\{\\{Reflist\\}\\}.*\", \"\",text,flags=re.DOTALL )\n",
    "text = re.sub(r\"\\{\\{.*?\\}\\}.*\", \" \",text)\n",
    "text = re.sub(r\"http.*?[A-Z]\", \" \",text)\n"
   ]
  },
  {
   "cell_type": "code",
   "execution_count": 51,
   "metadata": {
    "collapsed": false
   },
   "outputs": [
    {
     "data": {
      "text/plain": [
       "' \\nEnglish translation\\n \\nArguments against Laplace\\'s demon\\nAccording to chemical engineer Robert Ulanowicz, in his 1986 book Growth and Development, Laplace\\'s demon met its end with early 19th century developments of the concepts of irreversibility, entropy, and the second law of thermodynamics. In other words, Laplace\\'s demon was based on the premise of reversibility and classical mechanics; however, Ulanowicz points out that many thermodynamic processes are irreversible, so that if thermodynamic quantities are taken to be purely physical then no such demon is possible as one could not reconstruct past positions and momenta from the current state. Maximum entropy thermodynamics takes a very different view, considering thermodynamic variables to have a statistical basis which can be kept separate from the microscopic physics. ue to its canonical assumption of determinism, Laplace\\'s demon is incompatible with mainstream interpretations of quantum mechanics, that stipulate indeterminacy. Whilst indeterminacy is the majority position amongst physicists, the interpretation of quantum mechanics is still very much open for debate and there are many who take opposing views (such as the de Broglie–Bohm interpretation). haos theory is sometimes pointed out as a contradiction to Laplace\\'s demon: it describes how a deterministic system can nonetheless exhibit behavior that is impossible to predict: as in the butterfly effect, minor variations between the starting conditions of two systems can result in major differences.Stanford Encyclopedia of Philosophy, \"Causal Determinism\" While this explains unpredictability in practical cases, applying it to Laplace\\'s case is questionable: under the strict demon hypothesis all details are known—to infinite precision—and therefore variations in starting conditions are non-existent.In 2008, David Wolpert used Cantor diagonalization to disprove Laplace\\'s demon. He did this by assuming that the demon is a computational device and showing that no two such devices can completely predict each other. \\nRecent viewsThere has recently been proposed a limit on the computational power of the universe, i.e. the ability of Laplace\\'s Demon to process an infinite amount of information. The limit is based on the maximum entropy of the universe, the speed of light, and the minimum amount of time taken to move information across the Planck length, and the figure was shown to be about 10120 bits. \\nSee also\\n\\nClockwork universe theory\\nEudaemons\\nMaxwell\\'s demon\\nSimulacra and Simulation\\n\\n\\n'"
      ]
     },
     "execution_count": 51,
     "metadata": {},
     "output_type": "execute_result"
    }
   ],
   "source": [
    "text\n"
   ]
  },
  {
   "cell_type": "code",
   "execution_count": 48,
   "metadata": {
    "collapsed": false
   },
   "outputs": [],
   "source": [
    "sents = nltk.tokenize.sent_tokenize(text) \n",
    "import itertools\n",
    "sents = itertools.chain(*[(sent.split('\\n')) for sent in  sents])\n",
    "sents = [sent.strip() for sent in sents]\n",
    "sents = [sent for sent in sents if len(sent)>0]"
   ]
  },
  {
   "cell_type": "code",
   "execution_count": 49,
   "metadata": {
    "collapsed": false
   },
   "outputs": [
    {
     "data": {
      "text/plain": [
       "['English translation',\n",
       " \"Arguments against Laplace's demon\",\n",
       " \"According to chemical engineer Robert Ulanowicz, in his 1986 book Growth and Development, Laplace's demon met its end with early 19th century developments of the concepts of irreversibility, entropy, and the second law of thermodynamics.\",\n",
       " \"In other words, Laplace's demon was based on the premise of reversibility and classical mechanics; however, Ulanowicz points out that many thermodynamic processes are irreversible, so that if thermodynamic quantities are taken to be purely physical then no such demon is possible as one could not reconstruct past positions and momenta from the current state.\",\n",
       " \"Maximum entropy thermodynamics takes a very different view, considering thermodynamic variables to have a statistical basis which can be kept separate from the microscopic physics.http://bayes.wustl.edu/etj/articles/theory.1.pdfDue to its canonical assumption of determinism, Laplace's demon is incompatible with mainstream interpretations of quantum mechanics, that stipulate indeterminacy.\",\n",
       " 'Whilst indeterminacy is the majority position amongst physicists, the interpretation of quantum mechanics is still very much open for debate and there are many who take opposing views (such as the de Broglie–Bohm interpretation).http://arxiv.org/pdf/1303.2719v1.pdfChaos theory is sometimes pointed out as a contradiction to Laplace\\'s demon: it describes how a deterministic system can nonetheless exhibit behavior that is impossible to predict: as in the butterfly effect, minor variations between the starting conditions of two systems can result in major differences.Stanford Encyclopedia of Philosophy, \"Causal Determinism\" While this explains unpredictability in practical cases, applying it to Laplace\\'s case is questionable: under the strict demon hypothesis all details are known—to infinite precision—and therefore variations in starting conditions are non-existent.In 2008, David Wolpert used Cantor diagonalization to disprove Laplace\\'s demon.',\n",
       " 'He did this by assuming that the demon is a computational device and showing that no two such devices can completely predict each other.',\n",
       " 'Recent viewsThere has recently been proposed a limit on the computational power of the universe, i.e.',\n",
       " \"the ability of Laplace's Demon to process an infinite amount of information.\",\n",
       " 'The limit is based on the maximum entropy of the universe, the speed of light, and the minimum amount of time taken to move information across the Planck length, and the figure was shown to be about 10120 bits.',\n",
       " 'See also',\n",
       " 'Clockwork universe theory',\n",
       " 'Eudaemons',\n",
       " \"Maxwell's demon\",\n",
       " 'Simulacra and Simulation']"
      ]
     },
     "execution_count": 49,
     "metadata": {},
     "output_type": "execute_result"
    }
   ],
   "source": [
    "list(sents)"
   ]
  },
  {
   "cell_type": "code",
   "execution_count": 37,
   "metadata": {
    "collapsed": false
   },
   "outputs": [
    {
     "name": "stdout",
     "output_type": "stream",
     "text": [
      "[\" \\nEnglish translation\\n \\nArguments against Laplace's demon\\nAccording to chemical engineer Robert Ulanowicz, in his 1986 book Growth and Development, Laplace's demon met its end with early 19th century developments of the concepts of irreversibility, entropy, and the second law of thermodynamics.\", \"In other words, Laplace's demon was based on the premise of reversibility and classical mechanics; however, Ulanowicz points out that many thermodynamic processes are irreversible, so that if thermodynamic quantities are taken to be purely physical then no such demon is possible as one could not reconstruct past positions and momenta from the current state.\", \"Maximum entropy thermodynamics takes a very different view, considering thermodynamic variables to have a statistical basis which can be kept separate from the microscopic physics.http://bayes.wustl.edu/etj/articles/theory.1.pdfDue to its canonical assumption of determinism, Laplace's demon is incompatible with mainstream interpretations of quantum mechanics, that stipulate indeterminacy.\", 'Whilst indeterminacy is the majority position amongst physicists, the interpretation of quantum mechanics is still very much open for debate and there are many who take opposing views (such as the de Broglie–Bohm interpretation).http://arxiv.org/pdf/1303.2719v1.pdfChaos theory is sometimes pointed out as a contradiction to Laplace\\'s demon: it describes how a deterministic system can nonetheless exhibit behavior that is impossible to predict: as in the butterfly effect, minor variations between the starting conditions of two systems can result in major differences.Stanford Encyclopedia of Philosophy, \"Causal Determinism\" While this explains unpredictability in practical cases, applying it to Laplace\\'s case is questionable: under the strict demon hypothesis all details are known—to infinite precision—and therefore variations in starting conditions are non-existent.In 2008, David Wolpert used Cantor diagonalization to disprove Laplace\\'s demon.', 'He did this by assuming that the demon is a computational device and showing that no two such devices can completely predict each other.', 'Recent viewsThere has recently been proposed a limit on the computational power of the universe, i.e.', \"the ability of Laplace's Demon to process an infinite amount of information.\", 'The limit is based on the maximum entropy of the universe, the speed of light, and the minimum amount of time taken to move information across the Planck length, and the figure was shown to be about 10120 bits.', \"See also\\n\\nClockwork universe theory\\nEudaemons\\nMaxwell's demon\\nSimulacra and Simulation\\n\\n\\n\"]\n"
     ]
    }
   ],
   "source": [
    "print(sents)"
   ]
  },
  {
   "cell_type": "code",
   "execution_count": 38,
   "metadata": {
    "collapsed": true
   },
   "outputs": [],
   "source": [
    "?nltk.tokenize.sent_tokenize"
   ]
  },
  {
   "cell_type": "code",
   "execution_count": null,
   "metadata": {
    "collapsed": true
   },
   "outputs": [],
   "source": []
  }
 ],
 "metadata": {
  "kernelspec": {
   "display_name": "Python 3",
   "language": "python",
   "name": "python3"
  },
  "language_info": {
   "codemirror_mode": {
    "name": "ipython",
    "version": 3
   },
   "file_extension": ".py",
   "mimetype": "text/x-python",
   "name": "python",
   "nbconvert_exporter": "python",
   "pygments_lexer": "ipython3",
   "version": "3.4.3"
  }
 },
 "nbformat": 4,
 "nbformat_minor": 0
}
