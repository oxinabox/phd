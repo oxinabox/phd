{
 "cells": [
  {
   "cell_type": "markdown",
   "metadata": {},
   "source": [
    "First use: http://w-i-k-i.appspot.com/"
   ]
  },
  {
   "cell_type": "code",
   "execution_count": 90,
   "metadata": {
    "collapsed": true
   },
   "outputs": [],
   "source": [
    "filename_base = \"wikipedia_turtle\"\n",
    "text = \"\"\"\n",
    "{{Other uses}}\n",
    "{{pp-semi-protected}}{{pp-move-indef}}\n",
    "{{Automatic taxobox}}\n",
    "Turtles are reptiles of the order Testudines (or Chelonii{{Harvnb}}) characterised by a special bony or cartilaginous shell developed from their ribs and acting as a shield.{{Harvnb}} \"Turtle\" may refer to the order as a whole (American English) or to fresh-water and sea-dwelling testudines (British English).{{cite web}}The order Testudines includes both extant (living) and extinct species. The earliest known members of this group date from {{Mya}},{{Harvnb}} making turtles one of the oldest reptile groups and a more ancient group than snakes or crocodilians. Of the 327 known species alive today, some are highly endangered.Herpetology: An Introductory Biology of Amphibians and ReptilesTurtles are ectotherms—their internal temperature varies according to the ambient environment, commonly called cold-blooded. However, because of their high metabolic rate, leatherback sea turtles have a body temperature that is noticeably higher than that of the surrounding water.Turtles are classified as amniotes, along with other reptiles, birds, and mammals. Like other amniotes, turtles breathe air and do not lay eggs underwater, although many species live in or around water.\n",
    "Turtle, tortoise or terrapin{{Multiple image}}\n",
    "{{-}}\n",
    "The word chelonian is popular among veterinarians, scientists, and conservationists working with these animals as a catch-all name for any member of the superorder Chelonia, which includes all turtles living and extinct, as well as their immediate ancestors.{{citation needed}} Chelonia is based on the Greek word {{lang}} chelone \"tortoise\", \"turtle\" (another relevant word is {{lang}} chelys \"tortoise\"),{{LSJ}}, {{LSJ}}.{{Harvnb}} also denoting armor or interlocking shields;{{Harvnb}} testudines on the other hand, is based on the Latin word testudo \"tortoise\".{{L&S}} \"Turtle\" may either refer to the order as a whole, or to particular turtles that make up a form taxon that is not monophyletic.The meaning of the word turtle differs from region to region. In North America, all chelonians are commonly called turtles, including terrapins and tortoises.{{Harvnb}}{{Harvnb}} In Great Britain, the word turtle is used for sea-dwelling species, but not for tortoises.The term tortoise usually refers to any land-dwelling, non-swimming chelonian. Most land-dwelling chelonians are in the Testudinidae family, only one of the 14 extant turtle families.{{Harvnb}}Terrapin is used to describe several species of small, edible, hard-shell turtles, typically those found in brackish waters, and is an Algonquian word for turtle.{{OEtymD}}Some languages do not have this problem, as all of these are referred to by the same name. For example, in Spanish, the word tortuga is used for turtles, tortoises, and terrapins. A sea-dwelling turtle is tortuga marina, a freshwater species tortuga de río, and a tortoise tortuga terrestre.http://lema.rae.es/drae/srv/search?val=tortuga, Diccionario de la Real Academia Española\n",
    "Anatomy and morphologyThe largest living chelonian is the leatherback sea turtle (Dermochelys coriacea), which reaches a shell length of {{convert}} and can reach a weight of over {{convert}}. Freshwater turtles are generally smaller, but with the largest species, the Asian softshell turtle Pelochelys cantorii, a few individuals have been reported up to {{convert}}. This dwarfs even the better-known alligator snapping turtle, the largest chelonian in North America, which attains a shell length of up to {{convert}} and weighs as much as {{convert}}.{{sfn}}\n",
    "Giant tortoises of the genera Geochelone, Meiolania, and others were relatively widely distributed around the world into prehistoric times, and are known to have existed in North and South America, Australia, and Africa. They became extinct at the same time as the appearance of man, and it is assumed humans hunted them for food. The only surviving giant tortoises are on the Seychelles and Galápagos Islands, and can grow to over {{convert}} in length, and weigh about {{convert}}.{{Harvnb}}The largest ever chelonian was Archelon ischyros, a Late Cretaceous sea turtle known to have been up to {{convert}} long.{{Harvnb}}The smallest turtle is the speckled padloper tortoise of South Africa. It measures no more than {{convert}} in length and weighs about {{convert}}. Two other species of small turtles are the American mud turtles and musk turtles that live in an area that ranges from Canada to South America. The shell length of many species in this group is less than {{convert}} in length.\n",
    "Neck withdrawal{{Multiple image}}\n",
    "Turtles are divided into two groups according to how they withdraw their necks into their shells (something the ancestral Proganochelys could not do).  The Cryptodira withdraw their necks backwards while contracting it under their spine, whereas the Pleurodira contract their necks to the side.\n",
    "Head\n",
    "Most turtles that spend most of their lives on land have their eyes looking down at objects in front of them. Some aquatic turtles, such as snapping turtles and soft-shelled turtles, have eyes closer to the top of the head. These species of turtles can hide from predators in shallow water, where they lie entirely submerged except for their eyes and nostrils. Near their eyes, sea turtles possess glands that produce salty tears that rid their body of excess salt taken in from the water they drink.Turtles have rigid beaks, and use their jaws to cut and chew food. Instead of having teeth, which they appear to have lost about 150-200 million years ago,Long in the tooth: Genome proves turtles evolve…very slowly the upper and lower jaws of the turtle are covered by horny ridges. Carnivorous turtles usually have knife-sharp ridges for slicing through their prey. Herbivorous turtles have serrated-edged ridges that help them cut through tough plants. They use their tongues to swallow food, but unlike most reptiles, they cannot stick out their tongues to catch food.\n",
    "Shell{{main}}\n",
    "The upper shell of the turtle is called the carapace. The lower shell that encases the belly is called the plastron. The carapace and plastron are joined together on the turtle's sides by bony structures called bridges. The inner layer of a turtle's shell is made up of about 60 bones that include portions of the backbone and the ribs, meaning the turtle cannot crawl out of its shell. In most turtles, the outer layer of the shell is covered by horny scales called scutes that are part of its outer skin, or epidermis. Scutes are made up of the fibrous protein keratin that also makes up the scales of other reptiles. These scutes overlap the seams between the shell bones and add strength to the shell. Some turtles do not have horny scutes. For example, the leatherback sea turtle and the soft-shelled turtles have shells covered with leathery skin, instead.The rigid shell means turtles cannot breathe as other reptiles do, by changing the volume of their chest cavities via expansion and contraction of the ribs. Instead, they breathe in two ways. First, they employ buccal pumping, pulling air into their mouths, then pushing it into their lungs via oscillations of the floor of the throat. Secondly, when the abdominal muscles that cover the posterior opening of the shell contract, the internal volume of the shell increases, drawing air into the lungs, allowing these muscles to function in much the same way as the mammalian diaphragm.The shape of the shell gives helpful clues about how a turtle lives. Most tortoises have a large, dome-shaped shell that makes it difficult for predators to crush the shell between their jaws. One of the few exceptions is the African pancake tortoise, which has a flat, flexible shell that allows it to hide in rock crevices. Most aquatic turtles have flat, streamlined shells which aid in swimming and diving. American snapping turtles and musk turtles have small, cross-shaped plastrons that give them more efficient leg movement for walking along the bottom of ponds and streams.The color of a turtle's shell may vary. Shells are commonly colored brown, black, or olive green. In some species, shells may have red, orange, yellow, or grey markings, often spots, lines, or irregular blotches. One of the most colorful turtles is the eastern painted turtle, which includes a yellow plastron and a black or olive shell with red markings around the rim.Tortoises, being land-based, have rather heavy shells. In contrast, aquatic and soft-shelled turtles have lighter shells that help them avoid sinking in water and swim faster with more agility. These lighter shells have large spaces called fontanelles between the shell bones. The shells of leatherback sea turtles are extremely light because they lack scutes and contain many fontanelles.It has been suggested by Jackson (2002) that the turtle shell can function as pH buffer. To endure through anoxic conditions, such as winter periods trapped beneath ice or within anoxic mud at the bottom of ponds, turtles utilize two general physiological mechanisms. In the case of prolonged periods of anoxia, it has been shown that the turtle shell both releases carbonate buffers and uptakes lactic acid.{{Harvnb}}\n",
    "Skin and molting\n",
    "As mentioned above, the outer layer of the shell is part of the skin; each scute (or plate) on the shell corresponds to a single modified scale. The remainder of the skin is composed of skin with much smaller scales, similar to the skin of other reptiles. Turtles do not molt their skins all at once, as snakes do, but continuously, in small pieces. When turtles are kept in aquaria, small sheets of dead skin can be seen in the water (often appearing to be a thin piece of plastic) having been sloughed off when the animals deliberately rub themselves against a piece of wood or stone. Tortoises also shed skin, but dead skin is allowed to accumulate into thick knobs and plates that provide protection to parts of the body outside the shell.By counting the rings formed by the stack of smaller, older scutes on top of the larger, newer ones, it is possible to estimate the age of a turtle, if one knows how many scutes are produced in a year.{{sfn}} This method is not very accurate, partly because growth rate is not constant, but also because some of the scutes eventually fall away from the shell.\n",
    "LimbsTerrestrial tortoises have short, sturdy feet. Tortoises are famous for moving slowly, in part because of their heavy, cumbersome shells, which restrict stride length.\n",
    "Amphibious turtles normally have limbs similar to those of tortoises, except the feet are webbed and often have long claws. These turtles swim using all four feet in a way similar to the dog paddle, with the feet on the left and right side of the body alternately providing thrust. Large turtles tend to swim less than smaller ones, and the very big species, such as alligator snapping turtles, hardly swim at all, preferring to walk along the bottom of the river or lake. As well as webbed feet, turtles have very long claws, used to help them clamber onto riverbanks and floating logs upon which they bask. Male turtles tend to have particularly long claws, and these appear to be used to stimulate the female while mating. While most turtles have webbed feet, some, such as the pig-nosed turtle, have true flippers, with the digits being fused into paddles and the claws being relatively small. These species swim in the same way as sea turtles do (see below).Sea turtles are almost entirely aquatic and have flippers instead of feet. Sea turtles fly through the water, using the up-and-down motion of the front flippers to generate thrust; the back feet are not used for propulsion, but may be used as rudders for steering. Compared with freshwater turtles, sea turtles have very limited mobility on land, and apart from the dash from the nest to the sea as hatchlings, male sea turtles normally never leave the sea. Females must come back onto land to lay eggs. They move very slowly and laboriously, dragging themselves forwards with their flippers.\n",
    "Behaviour\n",
    "\n",
    "SensesTurtles are thought to have exceptional night vision due to the unusually large number of rod cells in their retinas. Turtles have color vision with a wealth of cone subtypes with sensitivities ranging from the near ultraviolet (UV A) to red. Some land turtles have very poor pursuit movement abilities, which are normally found only in predators that hunt quick-moving prey, but carnivorous turtles are able to move their heads quickly to snap.\n",
    "Intelligence{{see also}}\n",
    "It has been reported that wood turtles are better than white rats at learning to navigate mazes. Case studies exist of turtles playing.{{cite web}} They do however have a very low encephalization quotient (relative brain to body mass), their hard shell enable them to live without fast reflexes and elaborate predator avoidance strategies.{{cite book}}\n",
    "In the laboratory, turtles (Pseudemys nelsoni) can learn novel operant tasks and have demonstrated a long-term memory of at least 7.5 months.{{cite journal}}\n",
    "Ecology and life history\n",
    "Although many turtles spend large amounts of their lives underwater, all turtles and tortoises breathe air, and must surface at regular intervals to refill their lungs. They can also spend much or all of their lives on dry land. Aquatic respiration in Australian freshwater turtles is currently being studied. Some species have large cloacal cavities that are lined with many finger-like projections. These projections, called papillae, have a rich blood supply, and increase the surface area of the cloaca. The turtles can take up dissolved oxygen from the water using these papillae, in much the same way that fish use gills to respire.{{Harvnb}}Like other reptiles, turtles lay eggs which are slightly soft and leathery. The eggs of the largest species are spherical, while the eggs of the rest are elongated. Their albumen is white and contains a different protein from bird eggs, such that it will not coagulate when cooked. Turtle eggs prepared to eat consist mainly of yolk. In some species, temperature determines whether an egg develops into a male or a female: a higher temperature causes a female, a lower temperature causes a male. Large numbers of eggs are deposited in holes dug into mud or sand. They are then covered and left to incubate by themselves. Depending on the species, the eggs will typically take 70–120 days to hatch.{{citation needed}} When the turtles hatch, they squirm their way to the surface and head toward the water. There are no known species in which the mother cares for her young.Sea turtles lay their eggs on dry, sandy beaches. Immature sea turtles are not cared for by the adults. Turtles can take many years to reach breeding age, and in many cases breed every few years rather than annually.Researchers have recently discovered a turtle’s organs do not gradually break down or become less efficient over time, unlike most other animals. It was found that the liver, lungs, and kidneys of a centenarian turtle are virtually indistinguishable from those of its immature counterpart. This has inspired genetic researchers to begin examining the turtle genome for longevity genes.{{Harvnb}}A group of turtles is known as a bale.{{citation needed}}\n",
    "Diet\n",
    "A turtle's diet varies greatly depending on the environment in which it lives. Adult turtles typically eat aquatic plants;{{citation needed}} invertebrates such as insects, snails and worms; and have been reported to occasionally eat dead marine animals. Several small freshwater species are carnivorous, eating small fish and a wide range of aquatic life.  However, protein is essential to turtle growth and juvenile turtles are purely carnivorous.Sea turtles typically feed on jellyfish, sponge and other soft-bodied organisms. Some species of sea turtle with stronger jaws have been observed to eat shellfish while some species, such as the green sea turtle do not eat any meat at all and, instead, have a diet largely made up of algae.{{cite web}}\n",
    "Systematics and evolution{{Main}}\n",
    "{{See also}}\n",
    "\n",
    "\n",
    "The first proto-turtles are believed to have existed in the late Triassic Period of the Mesozoic era, about 220 million years ago, and their shell, which has remained a remarkably stable body plan, is thought to have evolved from bony extensions of their backbones and broad ribs that expanded and grew together to form a complete shell that offered protection at every stage of its evolution, even when the bony component of the shell was not complete. This is supported by fossils of the freshwater Odontochelys semitestacea or \"half-shelled turtle with teeth\", from the late Triassic, which have been found near Guangling in southwest China. Odontochelys displays a complete bony plastron and an incomplete carapace, similar to an early stage of turtle embryonic development.{{Harvnb}} Prior to this discovery, the earliest-known fossil turtle ancestors, like Proganochelys, were terrestrial and had a complete shell, offering no clue to the evolution of this remarkable anatomical feature. By the late Jurassic, turtles had radiated widely, and their fossil history becomes easier to read.Their exact ancestry has been disputed. It was believed they are the only surviving branch of the ancient evolutionary grade Anapsida, which includes groups such as procolophonids, millerettids, protorothyrids, and pareiasaurs. All anapsid skulls lack a temporal opening, while all other extant amniotes have temporal openings (although in mammals the hole has become the zygomatic arch). The millerettids, protorothyrids, and pareiasaurs became extinct in the late Permian period, and the procolophonoids during the Triassic.{{Harvnb}}However, it was later suggested the anapsid-like turtle skull may be due to reversion rather than to anapsid descent. More recent morphological phylogenetic studies with this in mind placed turtles firmly within diapsids, slightly closer to Squamata than to Archosauria.{{Harvnb}}{{Harvnb}} All molecular studies have strongly upheld the placement of turtles within diapsids; some place turtles within Archosauria,{{harvnb}} or, more commonly, as a sister group to extant archosaurs,{{Harvnb}}{{Harvnb}}{{Harvnb}}{{Harvnb}} though an analysis conducted by Lyson et al. (2012) recovered turtles as the sister group of lepidosaurs instead.{{Harvnb}} Reanalysis of prior phylogenies suggests they classified turtles as anapsids both because they assumed this classification (most of them studying what sort of anapsid turtles are) and because they did not sample fossil and extant taxa broadly enough for constructing the cladogram. Testudines were suggested to have diverged from other diapsids between 200 and 279 million years ago, though the debate is far from settled.{{Harvnb}} Even the traditional placement of turtles outside Diapsida cannot be ruled out at this point. A combined analysis of morphological and molecular data conducted by Lee (2001) found turtles to be anapsids (though a relationship with archosaurs couldn't be statistically rejected).{{Harvnb}} Similarly, a morphological study conducted by Lyson et al. (2010) recovered them as anapsids most closely related to Eunotosaurus.{{Harvnb}} A molecular analysis of 248 nuclear genes from 16 vertebrate taxa suggests that turtles are a sister group to birds and crocodiles (the Archosauria).{{Harvnb}} The date of separation of turtles and birds and crocodiles was estimated to be {{Ma}}. The most recent common ancestor of living turtles, corresponding to the split between Pleurodira and Cryptodira, was estimated to have occurred around {{Ma}}.{{Harvnb}}{{Harvnb}} The oldest definitive crown-group turtle (member of the modern clade Testudines) is the species Caribemys oxfordiensis from the late Jurassic period (Oxfordian stage).{{Harvnb}} Through utilizing the first genomic-scale phylogenetic analysis of ultraconserved elements (UCEs) to investigate the placement of turtles within reptiles, Crawford et al. (2012) also suggest that turtles are a sister group to birds and crocodiles (the Archosauria).{{Harvnb}}The first genome-wide phylogenetic analysis was completed by Wang et al. (2013). Using the draft genomes of Chelonia mydas and Pelodiscus sinensis, the team used the largest turtle data set to date in their analysis and concluded that turtles are likely a sister group of crocodilians and birds (Archosauria).{{cite journal}} This placement within the diapsids suggests that the turtle lineage lost diapsid skull characteristics as it now possesses an anapsid skull.The earliest known fully shelled member of the turtle lineage is the late Triassic Proganochelys. This genus already possessed many advanced turtle traits, and thus probably indicates many millions of years of preceding turtle evolution. It lacked the ability to pull its head into its shell, had a long neck, and had a long, spiked tail ending in a club. While this body form is similar to that of ankylosaurs, it resulted from convergent evolution.Turtles are divided into two extant suborders: the Cryptodira and the Pleurodira. The Cryptodira is the larger of the two groups and includes all the marine turtles, the terrestrial tortoises, and many of the freshwater turtles. The Pleurodira are sometimes known as the side-necked turtles, a reference to the way they withdraw their heads into their shells. This smaller group consists primarily of various freshwater turtles.\n",
    "\n",
    "Classification of turtles\n",
    "\n",
    "\n",
    "Order Testudines\n",
    "Genus †Xinjianchelys\n",
    "Genus †Hangaiemys\n",
    "Family †Thalassemydidae\n",
    "Genus †Solnhofia\n",
    "Genus †Thalassemys\n",
    "Genus †Santanachelys\n",
    "Family †Sinemydidae\n",
    "Suborder Pleurodira\n",
    "Family †Araripemydidae\n",
    "Superfamily Pelomedusoides\n",
    "Family †Bothremydidae\n",
    "Family Pelomedusidae (African sideneck turtles)\n",
    "Family Podocnemididae (Madagascan big-headed and American sideneck river turtles)\n",
    "Family Chelidae\n",
    "Suborder Cryptodira\n",
    "Family †Solemydidae\n",
    "Infraorder Eucryptodira\n",
    "Basal and incertae sedis\n",
    "†\"Sinemys\" wuerhoensis\n",
    "Genus †Judithemys\n",
    "Genus †Osteopygis\n",
    "Genus †Planetochelys\n",
    "Genus †Protochelydra\n",
    "Genus †Platysternon\n",
    "Family Chelydridae (snapping turtles)\n",
    "Family †Eurysternidae\n",
    "Family †Macrobaenidae\n",
    "Family †Plesiochelyidae\n",
    "Family †Xinjiangchelyidae\n",
    "Superfamily Chelonioidea (sea turtles)\n",
    "Family †Toxochelyidae\n",
    "Family Cheloniidae (green sea turtles and relatives)\n",
    "Family Dermochelyidae (leatherback sea turtles)\n",
    "Superfamily Testudinoidea\n",
    "Family †Haichemydidae\n",
    "Family †Lindholmemydidae\n",
    "Family †Sinochelyidae\n",
    "Family Emydidae (pond, box, and water turtles)\n",
    "Family Geoemydidae (Asian river turtles, Asian leaf turtles, Asian box turtles, and roofed turtles)\n",
    "Family Testudinidae (true tortoises)\n",
    "Superfamily Trionychoidea\n",
    "Family †Adocidae\n",
    "Family Carettochelyidae (pignose turtles)\n",
    "Family Dermatemydidae (river turtles)\n",
    "Family Kinosternidae (mud turtles)\n",
    "Family Trionychidae (softshell turtles)\n",
    "\n",
    "\n",
    "Fossil recordTurtle fossils of hatchling and nestling size have been documented in the scientific literature.{{Harvnb}} Paleontologists from North Carolina State University have found the fossilized remains of the world's largest turtle in a coal mine in Colombia. The specimen named as Carbonemys cofrinii is around 60 million years old and nearly 8&nbsp;ft long.{{Harvnb}}On a few rare occasions, paleontologists have succeeded in unearthing large numbers of Jurassic or Cretaceous turtle skeletons accumulated in a single area (the Nemegt Formation in Mongolia, the Turtle Graveyard in North Dakota, or the Black Mountain Turtle Layer in Wyoming). The most spectacular find of this kind to date occurred in 2009 in Shanshan County in Xinjiang, where over a thousand ancient freshwater turtles apparently died after the last water hole in an area dried out during a major drought.{{Harvnb}}{{Harvnb}}\n",
    "GenomicsTurtles possess diverse chromosome numbers (2N = 28-66) and a myriad of chromosomal rearrangements have occurred during evolution.{{Harvnb}}\n",
    "In captivity{{main}}\n",
    "\n",
    "Turtles, particularly small terrestrial and freshwater turtles, are commonly kept as pets. Among the most popular are Russian tortoises, spur-thighed tortoises, and red-eared sliders.{{Harvnb}}In the United States, due to the ease of contracting salmonellosis through casual contact with turtles, the U.S. Food and Drug Administration (FDA) established a regulation in 1975 to discontinue the sale of turtles under {{Convert}}.{{sfn}}\n",
    "It is illegal in every state in the U.S. for anyone to sell any turtles under {{convert}} long. Many stores and flea markets still sell small turtles due to a loophole in the FDA regulation which allows turtles under {{Convert}} to be sold for educational purposes.{{Sfn}}{{Sfn}}Some states have other laws and regulations regarding possession of red-eared sliders as pets because they are looked upon as invasive species or pests where they are not native, but have been introduced through the pet trade. As of July 1, 2007, it is illegal in Florida to sell any wild type red-eared slider. Unusual color varieties such as albino and pastel red-eared sliders, which are derived from captive breeding, are still allowed for sale.{{Cite web}}{{Dead link}}\n",
    "As food, traditional medicine, and cosmetics{{Double image}}\n",
    "The flesh of turtles, calipash or calipee, was, and still is, considered a delicacy in a number of cultures.{{Harvnb}} Turtle soup has been a prized dish in Anglo-American cuisine,{{Sfn}} and still remains so in some parts of Asia.{{Which}} Gopher tortoise stew was popular with some groups in Florida.{{Sfn}}Turtles remain a part of the traditional diet on the island of Grand Cayman, so much so that when wild stocks became depleted, a turtle farm was established specifically to raise sea turtles for their meat. The farm also releases specimens to the wild as part of an effort to repopulate the Caribbean Sea.{{Cite web}} {{Dead link}}Fat from turtles is also used in the Caribbean and in Mexico as a main ingredient in cosmetics, marketed under its Spanish name crema de tortuga.{{Sfn}}Turtle plastrons (the part of the shell that covers a tortoise from the bottom) are widely used in traditional Chinese medicine; according to statistics, Taiwan imports hundreds of tons of plastrons every year.{{Harvnb}} A popular medicinal preparation based on powdered turtle plastron (and a variety of herbs) is the guilinggao jelly;{{Harvnb}} these days, though, it is typically made with only herbal ingredients.\n",
    "Conservation statusIn February 2011, the Tortoise and Freshwater Turtle Specialist Group published a report about the top 25 species of turtles most likely to become extinct, with a further 40 species at very high risk of becoming extinct. This list excludes sea turtles, however both the leatherback and the Kemp's ridley would make the top 25 list. The report is due to be updated in four years time allowing to follow the evolution of the list.  Between 48 to 54% of all 328 of their species considered threatened, turtles and tortoises are at a much higher risk of extinction than many other vertebrates. Of the 263 species of freshwater and terrestrial turtles, 117 species are considered Threatened, 73 are either Endangered or Critically Endangered and 1 is Extinct. Of the 58 species belonging to the Testudinidae family, 33 species are Threatened, 18 are either Endangered or Critically Endangered, 1 is Extinct in the wild and 7 species are Extinct. 71% of all tortoise species are either gone or almost gone.  Asian species are the most endangered, closely followed by the five endemic species from Madagascar. Turtles face many threats, including habitat destruction, harvesting for consumption, and the pet trade.  The high extinction risk for Asian species is primarily due to the long-term unsustainable exploitation of turtles and tortoises for consumption and traditional Chinese medicine, and to a lesser extent for the international pet trade.{{Harvnb}}Efforts have been made by Chinese entrepreneurs to satisfy increasing demand for turtle meat as gourmet food and traditional medicine with farmed turtles, instead of wild-caught ones; according to a study published in 2007, over a thousand turtle farms operated in China.{{Sfn}}{{Harvnb}} Turtle farms in Oklahoma and Louisiana raise turtles for export to China as well.\n",
    "Nonetheless, wild turtles continue to be caught and sent to market in large number (as well as to turtle farms, to be used as breeding stock{{Sfn}}), resulting in a situation described by conservationists as \"the Asian turtle crisis\".{{Harvnb}} In the words of the biologist George Amato, \"the amount and the volume of captured turtles... vacuumed up entire species from areas in Southeast Asia\", even as biologists still did not know how many distinct turtle species live in the region.{{Harvnb}} About 75% of Asia's 90 tortoise and freshwater turtle species are estimated to have become threatened.Harvesting wild turtles is legal in a number of states in the USA. In one of these states, Florida, just a single seafood company in Fort Lauderdale was reported in 2008 as buying about 5,000 pounds of softshell turtles a week. The harvesters (hunters) are paid about $2 a pound; some manage to catch as many as 30–40 turtles (500 pounds) on a good day. Some of the catch gets to the local restaurants, while most of it is exported to Asia. The Florida Fish and Wildlife Conservation Commission estimated in 2008 that around 3,000 pounds of softshell turtles were exported each week via Tampa International Airport.{{Harvnb}}Nonetheless, the great majority of turtles exported from the USA are farm raised. According to one estimate by the World Chelonian Trust, about 97% of 31.8 million animals harvested in the U.S. over a three-year period (November 4, 2002 – November 26, 2005) were exported.{{Sfn}} It has been estimated (presumably, over the same 2002–2005 period) that about 47% of the US turtle exports go to People's Republic of China (predominantly to Hong Kong), another 20% to Taiwan, and 11% to Mexico.{{Sfn}}{{Sfn}}TurtleSAt is a smartphone app that has been developed in Australia in honor of World Turtle Day to help in the conservation of fresh water turtles in Australia. The app will allow the user to identify turtles with a picture guide and the location of turtles using the phones GPS to record sightings and help find hidden turtle nesting grounds. The app has been developed because there has been a high per cent of decline of fresh water turtles in Australia due to foxes, droughts, and urban development. The aim of the app is to reduce the number of foxes and help with targeting feral animal control.{{cite news}}\n",
    "See also{{Wikipedia books}}\n",
    "{{Portal}}\n",
    "\n",
    "Animal track\n",
    "Cultural depictions of turtles\n",
    "Symposium on Turtle Evolution\n",
    "\n",
    "\n",
    "Notes{{Reflist}}\n",
    "References{{Refbegin}}\n",
    "\n",
    "{{Cite book}}\n",
    "{{Cite video}}.  Filmmaker Eric Daniel Metzgar, the creator of the film The Chances of the World Changing, talks to George Amato, the director of conservation genetics at the American Museum of Natural History about turtle conservation and the relationship between evolution and extinction\n",
    "{{Cite web}}\n",
    "{{Cite journal}}\n",
    "{{Cite web}}\n",
    "{{Cite book}} (3rd ed. 2004 ISBN 0-632-05637-1)\n",
    "{{Cite book}}\n",
    "{{Cite web}}\n",
    "{{Cite book}}\n",
    "{{Cite journal}}\n",
    "{{Cite journal}}\n",
    "{{Cite journal}}\n",
    "{{Cite web}}\n",
    "{{Cite journal}}\n",
    "{{Cite web}}\n",
    "{{Cite journal}}\n",
    "{{Cite book}}\n",
    "{{Cite web}}\n",
    "{{Cite web}}\n",
    "{{Cite book}}\n",
    "{{Cite web}} Their source is an article by James Parham, Shi Haitao, and two other authors, published in Feb 2007 in the journal Conservation Biology\n",
    "{{Cite web}}\n",
    "{{Cite journal}}\n",
    "{{Cite journal}}\n",
    "{{Cite journal}}\n",
    "{{Cite web}}\n",
    "{{Cite web}}\n",
    "{{Cite web}}There is also a copy of the article at the TSA site. Articles by Peter Paul van Dijk are mentioned as the main source.\n",
    "{{Cite web}}\n",
    "{{Cite journal}}\n",
    "{{cite web}}\n",
    "{{Cite journal}}\n",
    "{{cite journal}}\n",
    "{{Cite journal}}\n",
    "{{Cite book}}\n",
    "{{cite web}}\n",
    "{{cite journal}}\n",
    "{{Cite journal}}\n",
    "{{Cite journal}}\n",
    "{{Cite journal}}\n",
    "{{Cite journal}}\n",
    "{{cite news}}\n",
    "{{cite book}}\n",
    "{{Cite web}}\n",
    "{{Cite web}}\n",
    "{{Cite web}}\n",
    "{{Cite journal}}\n",
    "{{cite journal}}\n",
    "{{Cite book}}\n",
    "{{Cite journal}}\n",
    "{{Cite web}}, from Recipes from Another Time: Savor the flavor of old St. Augustine and try a couple of these original recipes\n",
    "{{Cite book}}\n",
    "{{Cite book}}\n",
    "{{Cite book}}\n",
    "{{Cite journal}}\n",
    "{{Cite journal}}\n",
    "{{Cite web}}\n",
    "{{Cite web}} ( (Major destinations: 13,625,673 animals to Hong Kong, 1,365,687 to the rest of the PRC, 6,238,300 to Taiwan, 3,478,275 to Mexico, and 1,527,771 to Japan, 945,257 to Singapore, and 596,966 to Spain.)\n",
    "{{Cite web}}\n",
    "{{Cite journal}}\n",
    "{{Refend}}\n",
    "Further reading\n",
    "\n",
    "{{Cite book}}\n",
    "\n",
    "\n",
    "External links{{wikibooks}}\n",
    "{{Sister project links}}\n",
    "\n",
    "Chelonian studbook Collection and display of the weights/sizes of captive turtles\n",
    "Biogeography and Phylogeny of the Chelonia (taxonomy, maps)\n",
    "New Scientist article (including video) on how the turtle evolved its shell\n",
    "\n",
    "{{Chordata}}\n",
    "{{Testudines}}\n",
    "{{Named turtles}}\n",
    "{{Extinct turtles}}\n",
    "{{Turtles in human activities}}{{Authority control}}\n",
    "\n",
    "\n",
    "\"\"\"\n"
   ]
  },
  {
   "cell_type": "code",
   "execution_count": 91,
   "metadata": {
    "collapsed": true
   },
   "outputs": [],
   "source": [
    "import re\n",
    "import nltk\n",
    "import itertools"
   ]
  },
  {
   "cell_type": "code",
   "execution_count": 92,
   "metadata": {
    "collapsed": false
   },
   "outputs": [],
   "source": [
    "text = re.sub(r\"References\\{\\{Reflist\\}\\}.*\", \"\",text,flags=re.DOTALL )\n",
    "text = re.sub(r\"\\{\\{.*?\\}\\}.*\", \" \",text)\n",
    "text = re.sub(r\"http.*?[A-Z]\", \" \",text)\n"
   ]
  },
  {
   "cell_type": "code",
   "execution_count": 93,
   "metadata": {
    "collapsed": false
   },
   "outputs": [],
   "source": [
    "sents = nltk.tokenize.sent_tokenize(text) \n",
    "sents = itertools.chain(*[(sent.split('\\n')) for sent in  sents])\n",
    "sents = [sent.strip() for sent in sents]\n",
    "sents = [sent for sent in sents if len(sent)>0]\n"
   ]
  },
  {
   "cell_type": "code",
   "execution_count": 94,
   "metadata": {
    "collapsed": false
   },
   "outputs": [
    {
     "name": "stdout",
     "output_type": "stream",
     "text": [
      "*** Connected\n"
     ]
    }
   ],
   "source": [
    "import paramiko\n",
    "\n",
    "#transport = paramiko.Transport((\"amon.ee.uwa.edu.au\", 22))\n",
    "key = paramiko.RSAKey.from_private_key_file(\"/home/wheel/oxinabox/.ssh/id_rsa_cluster\")\n",
    "\n",
    "#transport.connect(None,\"20361362\",pkey=key)\n",
    "#sftp_client = paramiko.SFTPClient.from_transport(transport)\n",
    "client = paramiko.SSHClient()\n",
    "client.load_system_host_keys()\n",
    "client.set_missing_host_key_policy(paramiko.WarningPolicy())\n",
    "client.connect(\"amon.ee.uwa.edu.au\", 22, \"20361362\", pkey=key)\n",
    "print('*** Connected')\n"
   ]
  },
  {
   "cell_type": "code",
   "execution_count": 95,
   "metadata": {
    "collapsed": false
   },
   "outputs": [],
   "source": [
    "\n",
    "working_dir = \"/user/data7/20361362/phd/Resources/example_code/codeRAEVectorsNIPS2011/\"\n",
    "\n",
    "raw_file = \"results/\"+filename_base+\".txt\"\n",
    "phrases_file = \"results/\"+filename_base+\".phrases.txt\" \n",
    "embedding_file = \"results/\"+filename_base+\".csv\" \n",
    "parsed_file = \"results/\"+filename_base+\".parsed.txt\" \n",
    "\n",
    "with client.open_sftp() as sftp_client:\n",
    "    sftp_client.chdir(working_dir)\n",
    "    with sftp_client.file(raw_file, \"w\") as remote_file:\n",
    "        remote_file.write(\"\\n\".join(sents))"
   ]
  },
  {
   "cell_type": "code",
   "execution_count": 96,
   "metadata": {
    "collapsed": false
   },
   "outputs": [],
   "source": [
    "commands = '; '.join([\"cd \" + working_dir, \n",
    "               \"cp -T \"+raw_file+ \" input.txt\",\n",
    "               \"./phrase2Vector.sh\",\n",
    "                \"cp -T phrases.txt \" + phrases_file,\n",
    "                \"cp -T outVectors.txt \" + embedding_file,\n",
    "                \"cp -T parsed.txt \" + parsed_file,\n",
    "                \" \".join([\"git add\", raw_file, phrases_file, embedding_file, parsed_file]),\n",
    "                \"git commit -m=\\\"added %s vectors\\\"\" % filename_base,\n",
    "                \"git pull\",\n",
    "                \"git push\"\n",
    "               ])"
   ]
  },
  {
   "cell_type": "code",
   "execution_count": 97,
   "metadata": {
    "collapsed": false
   },
   "outputs": [
    {
     "name": "stdout",
     "output_type": "stream",
     "text": [
      "b\"MATLAB is selecting SOFTWARE OPENGL rendering.\\n\\n                            < M A T L A B (R) >\\n                  Copyright 1984-2014 The MathWorks, Inc.\\n                   R2014b (8.4.0.150421) 64-bit (glnxa64)\\n                             September 15, 2014\\n\\n \\nTo get started, type one of these: helpwin, helpdesk, or demo.\\nFor product information, visit www.mathworks.com.\\n \\n>> [\\x08Warning: 'BufSize' is no longer required and will be removed in a future\\nrelease.]\\x08 \\n[\\x08> In convertStanfordParserTrees at 14\\n  In run at 12]\\x08 \\n1000 of 2637\\n2000 of 2637\\n\\nii =\\n\\n   100\\n\\n>> [master 74876c7] =added wikipedia_turtle vectors\\n 4 files changed, 3120 insertions(+)\\n create mode 100644 Resources/example_code/codeRAEVectorsNIPS2011/results/wikipedia_turtle.csv\\n create mode 100644 Resources/example_code/codeRAEVectorsNIPS2011/results/wikipedia_turtle.parsed.txt\\n create mode 100644 Resources/example_code/codeRAEVectorsNIPS2011/results/wikipedia_turtle.phrases.txt\\n create mode 100644 Resources/example_code/codeRAEVectorsNIPS2011/results/wikipedia_turtle.txt\\nAlready up-to-date.\\n\"\n",
      "----\n",
      "b\"Loading parser from serialized file ./stanford-parser-2011-09-14/grammar/englishPCFG.ser.gz ... done [1.1 sec].\\nParsing file: input.txt\\nParsing [sent. 1 len. 10]: [Turtles, are, reptiles, of, the, order, Testudines, -LRB-, or, Chelonii]\\nParsing [sent. 2 len. 5]: [Turtle, ,, tortoise, or, terrapin]\\nParsing [sent. 3 len. 43]: [The, word, chelonian, is, popular, among, veterinarians, ,, scientists, ,, and, conservationists, working, with, these, animals, as, a, catch-all, name, for, any, member, of, the, superorder, Chelonia, ,, which, includes, all, turtles, living, and, extinct, ,, as, well, as, their, immediate, ancestors, .]\\nParsing [sent. 4 len. 22]: [Anatomy, and, morphologyThe, largest, living, chelonian, is, the, leatherback, sea, turtle, -LRB-, Dermochelys, coriacea, -RRB-, ,, which, reaches, a, shell, length, of]\\nParsing [sent. 5 len. 39]: [Giant, tortoises, of, the, genera, Geochelone, ,, Meiolania, ,, and, others, were, relatively, widely, distributed, around, the, world, into, prehistoric, times, ,, and, are, known, to, have, existed, in, North, and, South, America, ,, Australia, ,, and, Africa, .]\\nParsing [sent. 6 len. 23]: [They, became, extinct, at, the, same, time, as, the, appearance, of, man, ,, and, it, is, assumed, humans, hunted, them, for, food, .]\\nParsing [sent. 7 len. 18]: [The, only, surviving, giant, tortoises, are, on, the, Seychelles, and, Gal\\xc3\\xa1pagos, Islands, ,, and, can, grow, to, over]\\nParsing [sent. 8 len. 2]: [Neck, withdrawal]\\nParsing [sent. 9 len. 26]: [Turtles, are, divided, into, two, groups, according, to, how, they, withdraw, their, necks, into, their, shells, -LRB-, something, the, ancestral, Proganochelys, could, not, do, -RRB-, .]\\nParsing [sent. 10 len. 23]: [The, Cryptodira, withdraw, their, necks, backwards, while, contracting, it, under, their, spine, ,, whereas, the, Pleurodira, contract, their, necks, to, the, side, .]\\nParsing [sent. 11 len. 1]: [Head]\\nParsing [sent. 12 len. 22]: [Most, turtles, that, spend, most, of, their, lives, on, land, have, their, eyes, looking, down, at, objects, in, front, of, them, .]\\nParsing [sent. 13 len. 22]: [Some, aquatic, turtles, ,, such, as, snapping, turtles, and, soft-shelled, turtles, ,, have, eyes, closer, to, the, top, of, the, head, .]\\nParsing [sent. 14 len. 24]: [These, species, of, turtles, can, hide, from, predators, in, shallow, water, ,, where, they, lie, entirely, submerged, except, for, their, eyes, and, nostrils, .]\\nParsing [sent. 15 len. 42]: [Near, their, eyes, ,, sea, turtles, possess, glands, that, produce, salty, tears, that, rid, their, body, of, excess, salt, taken, in, from, the, water, they, drink, ., Turtles, have, rigid, beaks, ,, and, use, their, jaws, to, cut, and, chew, food, .]\\nParsing [sent. 16 len. 43]: [Instead, of, having, teeth, ,, which, they, appear, to, have, lost, about, 150-200, million, years, ago, ,, Long, in, the, tooth, :, Genome, proves, turtles, evolve, ..., very, slowly, the, upper, and, lower, jaws, of, the, turtle, are, covered, by, horny, ridges, .]\\nParsing [sent. 17 len. 12]: [Carnivorous, turtles, usually, have, knife-sharp, ridges, for, slicing, through, their, prey, .]\\nParsing [sent. 18 len. 13]: [Herbivorous, turtles, have, serrated-edged, ridges, that, help, them, cut, through, tough, plants, .]\\nParsing [sent. 19 len. 24]: [They, use, their, tongues, to, swallow, food, ,, but, unlike, most, reptiles, ,, they, can, not, stick, out, their, tongues, to, catch, food, .]\\nParsing [sent. 20 len. 1]: [Shell]\\nParsing [sent. 21 len. 11]: [The, upper, shell, of, the, turtle, is, called, the, carapace, .]\\nParsing [sent. 22 len. 12]: [The, lower, shell, that, encases, the, belly, is, called, the, plastron, .]\\nParsing [sent. 23 len. 18]: [The, carapace, and, plastron, are, joined, together, on, the, turtle, 's, sides, by, bony, structures, called, bridges, .]\\nParsing [sent. 24 len. 36]: [The, inner, layer, of, a, turtle, 's, shell, is, made, up, of, about, 60, bones, that, include, portions, of, the, backbone, and, the, ribs, ,, meaning, the, turtle, can, not, crawl, out, of, its, shell, .]\\nParsing [sent. 25 len. 28]: [In, most, turtles, ,, the, outer, layer, of, the, shell, is, covered, by, horny, scales, called, scutes, that, are, part, of, its, outer, skin, ,, or, epidermis, .]\\nParsing [sent. 26 len. 19]: [Scutes, are, made, up, of, the, fibrous, protein, keratin, that, also, makes, up, the, scales, of, other, reptiles, .]\\nParsing [sent. 27 len. 16]: [These, scutes, overlap, the, seams, between, the, shell, bones, and, add, strength, to, the, shell, .]\\nParsing [sent. 28 len. 8]: [Some, turtles, do, not, have, horny, scutes, .]\\nParsing [sent. 29 len. 49]: [For, example, ,, the, leatherback, sea, turtle, and, the, soft-shelled, turtles, have, shells, covered, with, leathery, skin, ,, instead, ., The, rigid, shell, means, turtles, can, not, breathe, as, other, reptiles, do, ,, by, changing, the, volume, of, their, chest, cavities, via, expansion, and, contraction, of, the, ribs, .]\\nParsing [sent. 30 len. 8]: [Instead, ,, they, breathe, in, two, ways, .]\\nParsing [sent. 31 len. 28]: [First, ,, they, employ, buccal, pumping, ,, pulling, air, into, their, mouths, ,, then, pushing, it, into, their, lungs, via, oscillations, of, the, floor, of, the, throat, .]\\nParsing [sent. 32 len. 59]: [Secondly, ,, when, the, abdominal, muscles, that, cover, the, posterior, opening, of, the, shell, contract, ,, the, internal, volume, of, the, shell, increases, ,, drawing, air, into, the, lungs, ,, allowing, these, muscles, to, function, in, much, the, same, way, as, the, mammalian, diaphragm, ., The, shape, of, the, shell, gives, helpful, clues, about, how, a, turtle, lives, .]\\n\\n*******************************************************\\n***  WARNING!! OUT OF MEMORY! THERE WAS NOT ENOUGH  ***\\n***  MEMORY TO RUN ALL PARSERS.  EITHER GIVE THE    ***\\n***  JVM MORE MEMORY, SET THE MAXIMUM SENTENCE      ***\\n***  LENGTH WITH -maxLength, OR PERHAPS YOU ARE     ***\\n***  HAPPY TO HAVE THE PARSER FALL BACK TO USING    ***\\n***  A SIMPLER PARSER FOR VERY LONG SENTENCES.      ***\\n*******************************************************\\n\\nSentence has no parse using PCFG grammar (or no PCFG fallback).  Skipping...\\nParsing [sent. 33 len. 22]: [Most, tortoises, have, a, large, ,, dome-shaped, shell, that, makes, it, difficult, for, predators, to, crush, the, shell, between, their, jaws, .]\\nParsing [sent. 34 len. 27]: [One, of, the, few, exceptions, is, the, African, pancake, tortoise, ,, which, has, a, flat, ,, flexible, shell, that, allows, it, to, hide, in, rock, crevices, .]\\nParsing [sent. 35 len. 15]: [Most, aquatic, turtles, have, flat, ,, streamlined, shells, which, aid, in, swimming, and, diving, .]\\nParsing [sent. 36 len. 38]: [American, snapping, turtles, and, musk, turtles, have, small, ,, cross-shaped, plastrons, that, give, them, more, efficient, leg, movement, for, walking, along, the, bottom, of, ponds, and, streams, ., The, color, of, a, turtle, 's, shell, may, vary, .]\\nParsing [sent. 37 len. 12]: [Shells, are, commonly, colored, brown, ,, black, ,, or, olive, green, .]\\nParsing [sent. 38 len. 26]: [In, some, species, ,, shells, may, have, red, ,, orange, ,, yellow, ,, or, gray, markings, ,, often, spots, ,, lines, ,, or, irregular, blotches, .]\\nParsing [sent. 39 len. 40]: [One, of, the, most, colorful, turtles, is, the, eastern, painted, turtle, ,, which, includes, a, yellow, plastron, and, a, black, or, olive, shell, with, red, markings, around, the, rim, ., Tortoises, ,, being, land-based, ,, have, rather, heavy, shells, .]\\nParsing [sent. 40 len. 24]: [In, contrast, ,, aquatic, and, soft-shelled, turtles, have, lighter, shells, that, help, them, avoid, sinking, in, water, and, swim, faster, with, more, agility, .]\\nParsing [sent. 41 len. 13]: [These, lighter, shells, have, large, spaces, called, fontanelles, between, the, shell, bones, .]\\nParsing [sent. 42 len. 37]: [The, shells, of, leatherback, sea, turtles, are, extremely, light, because, they, lack, scutes, and, contain, many, fontanelles, ., It, has, been, suggested, by, Jackson, -LRB-, 2002, -RRB-, that, the, turtle, shell, can, function, as, pH, buffer, .]\\nParsing [sent. 43 len. 30]: [To, endure, through, anoxic, conditions, ,, such, as, winter, periods, trapped, beneath, ice, or, within, anoxic, mud, at, the, bottom, of, ponds, ,, turtles, utilize, two, general, physiological, mechanisms, .]\\nParsing [sent. 44 len. 26]: [In, the, case, of, prolonged, periods, of, anoxia, ,, it, has, been, shown, that, the, turtle, shell, both, releases, carbonate, buffers, and, uptakes, lactic, acid, .]\\nParsing [sent. 45 len. 3]: [Skin, and, molting]\\nParsing [sent. 46 len. 32]: [As, mentioned, above, ,, the, outer, layer, of, the, shell, is, part, of, the, skin, ;, each, scute, -LRB-, or, plate, -RRB-, on, the, shell, corresponds, to, a, single, modified, scale, .]\\nParsing [sent. 47 len. 22]: [The, remainder, of, the, skin, is, composed, of, skin, with, much, smaller, scales, ,, similar, to, the, skin, of, other, reptiles, .]\\nParsing [sent. 48 len. 21]: [Turtles, do, not, molt, their, skins, all, at, once, ,, as, snakes, do, ,, but, continuously, ,, in, small, pieces, .]\\nParsing [sent. 49 len. 47]: [When, turtles, are, kept, in, aquaria, ,, small, sheets, of, dead, skin, can, be, seen, in, the, water, -LRB-, often, appearing, to, be, a, thin, piece, of, plastic, -RRB-, having, been, sloughed, off, when, the, animals, deliberately, rub, themselves, against, a, piece, of, wood, or, stone, .]\\nParsing [sent. 50 len. 74]: [Tortoises, also, shed, skin, ,, but, dead, skin, is, allowed, to, accumulate, into, thick, knobs, and, plates, that, provide, protection, to, parts, of, the, body, outside, the, shell, ., By, counting, the, rings, formed, by, the, stack, of, smaller, ,, older, scutes, on, top, of, the, larger, ,, newer, ones, ,, it, is, possible, to, estimate, the, age, of, a, turtle, ,, if, one, knows, how, many, scutes, are, produced, in, a, year, .]\\nSentence has no parse using PCFG grammar (or no PCFG fallback).  Skipping...\\nParsing [sent. 51 len. 8]: [LimbsTerrestrial, tortoises, have, short, ,, sturdy, feet, .]\\nParsing [sent. 52 len. 22]: [Tortoises, are, famous, for, moving, slowly, ,, in, part, because, of, their, heavy, ,, cumbersome, shells, ,, which, restrict, stride, length, .]\\nParsing [sent. 53 len. 22]: [Amphibious, turtles, normally, have, limbs, similar, to, those, of, tortoises, ,, except, the, feet, are, webbed, and, often, have, long, claws, .]\\nParsing [sent. 54 len. 32]: [These, turtles, swim, using, all, four, feet, in, a, way, similar, to, the, dog, paddle, ,, with, the, feet, on, the, left, and, right, side, of, the, body, alternately, providing, thrust, .]\\nParsing [sent. 55 len. 39]: [Large, turtles, tend, to, swim, less, than, smaller, ones, ,, and, the, very, big, species, ,, such, as, alligator, snapping, turtles, ,, hardly, swim, at, all, ,, preferring, to, walk, along, the, bottom, of, the, river, or, lake, .]\\nParsing [sent. 56 len. 27]: [As, well, as, webbed, feet, ,, turtles, have, very, long, claws, ,, used, to, help, them, clamber, onto, riverbanks, and, floating, logs, upon, which, they, bask, .]\\nParsing [sent. 57 len. 22]: [Male, turtles, tend, to, have, particularly, long, claws, ,, and, these, appear, to, be, used, to, stimulate, the, female, while, mating, .]\\nParsing [sent. 58 len. 33]: [While, most, turtles, have, webbed, feet, ,, some, ,, such, as, the, pig-nosed, turtle, ,, have, true, flippers, ,, with, the, digits, being, fused, into, paddles, and, the, claws, being, relatively, small, .]\\nParsing [sent. 59 len. 29]: [These, species, swim, in, the, same, way, as, sea, turtles, do, -LRB-, see, below, -RRB-, ., Sea, turtles, are, almost, entirely, aquatic, and, have, flippers, instead, of, feet, .]\\nParsing [sent. 60 len. 37]: [Sea, turtles, fly, through, the, water, ,, using, the, up-and-down, motion, of, the, front, flippers, to, generate, thrust, ;, the, back, feet, are, not, used, for, propulsion, ,, but, may, be, used, as, rudders, for, steering, .]\\nParsing [sent. 61 len. 37]: [Compared, with, freshwater, turtles, ,, sea, turtles, have, very, limited, mobility, on, land, ,, and, apart, from, the, dash, from, the, nest, to, the, sea, as, hatchlings, ,, male, sea, turtles, normally, never, leave, the, sea, .]\\nParsing [sent. 62 len. 10]: [Females, must, come, back, onto, land, to, lay, eggs, .]\\nParsing [sent. 63 len. 14]: [They, move, very, slowly, and, laboriously, ,, dragging, themselves, forwards, with, their, flippers, .]\\nParsing [sent. 64 len. 1]: [Behaviour]\\nParsing [sent. 65 len. 21]: [SensesTurtles, are, thought, to, have, exceptional, night, vision, due, to, the, unusually, large, number, of, rod, cells, in, their, retinas, .]\\nParsing [sent. 66 len. 24]: [Turtles, have, color, vision, with, a, wealth, of, cone, subtypes, with, sensitivities, ranging, from, the, near, ultraviolet, -LRB-, UV, A, -RRB-, to, red, .]\\nParsing [sent. 67 len. 35]: [Some, land, turtles, have, very, poor, pursuit, movement, abilities, ,, which, are, normally, found, only, in, predators, that, hunt, quick-moving, prey, ,, but, carnivorous, turtles, are, able, to, move, their, heads, quickly, to, snap, .]\\nParsing [sent. 68 len. 1]: [Intelligence]\\nParsing [sent. 69 len. 18]: [It, has, been, reported, that, wood, turtles, are, better, than, white, rats, at, learning, to, navigate, mazes, .]\\nParsing [sent. 70 len. 7]: [Case, studies, exist, of, turtles, playing, .]\\nParsing [sent. 71 len. 26]: [In, the, laboratory, ,, turtles, -LRB-, Pseudemys, nelsoni, -RRB-, can, learn, novel, operant, tasks, and, have, demonstrated, a, long-term, memory, of, at, least, 7.5, months, .]\\nParsing [sent. 72 len. 4]: [Ecology, and, life, history]\\nParsing [sent. 73 len. 29]: [Although, many, turtles, spend, large, amounts, of, their, lives, underwater, ,, all, turtles, and, tortoises, breathe, air, ,, and, must, surface, at, regular, intervals, to, refill, their, lungs, .]\\nParsing [sent. 74 len. 14]: [They, can, also, spend, much, or, all, of, their, lives, on, dry, land, .]\\nParsing [sent. 75 len. 11]: [Aquatic, respiration, in, Australian, freshwater, turtles, is, currently, being, studied, .]\\nParsing [sent. 76 len. 14]: [Some, species, have, large, cloacal, cavities, that, are, lined, with, many, finger-like, projections, .]\\nParsing [sent. 77 len. 21]: [These, projections, ,, called, papillae, ,, have, a, rich, blood, supply, ,, and, increase, the, surface, area, of, the, cloaca, .]\\nParsing [sent. 78 len. 26]: [The, turtles, can, take, up, dissolved, oxygen, from, the, water, using, these, papillae, ,, in, much, the, same, way, that, fish, use, gills, to, respire, .]\\nParsing [sent. 79 len. 1]: [Diet]\\nParsing [sent. 80 len. 15]: [A, turtle, 's, diet, varies, greatly, depending, on, the, environment, in, which, it, lives, .]\\nParsing [sent. 81 len. 7]: [Adult, turtles, typically, eat, aquatic, plants, ;]\\nParsing [sent. 82 len. 3]: [Systematics, and, evolution]\\nParsing [sent. 83 len. 83]: [The, first, proto-turtles, are, believed, to, have, existed, in, the, late, Triassic, Period, of, the, Mesozoic, era, ,, about, 220, million, years, ago, ,, and, their, shell, ,, which, has, remained, a, remarkably, stable, body, plan, ,, is, thought, to, have, evolved, from, bony, extensions, of, their, backbones, and, broad, ribs, that, expanded, and, grew, together, to, form, a, complete, shell, that, offered, protection, at, every, stage, of, its, evolution, ,, even, when, the, bony, component, of, the, shell, was, not, complete, .]\\nSentence has no parse using PCFG grammar (or no PCFG fallback).  Skipping...\\nParsing [sent. 84 len. 33]: [This, is, supported, by, fossils, of, the, freshwater, Odontochelys, semitestacea, or, ``, half-shelled, turtle, with, teeth, '', ,, from, the, late, Triassic, ,, which, have, been, found, near, Guangling, in, southwest, China, .]\\nParsing [sent. 85 len. 21]: [Odontochelys, displays, a, complete, bony, plastron, and, an, incomplete, carapace, ,, similar, to, an, early, stage, of, turtle, embryonic, development, .]\\nParsing [sent. 86 len. 3]: [Classification, of, turtles]\\nParsing [sent. 87 len. 2]: [Order, Testudines]\\nParsing [sent. 88 len. 3]: [Genus, \\xe2\\x80\\xa0, Xinjianchelys]\\nParsing [sent. 89 len. 3]: [Genus, \\xe2\\x80\\xa0, Hangaiemys]\\nParsing [sent. 90 len. 3]: [Family, \\xe2\\x80\\xa0, Thalassemydidae]\\nParsing [sent. 91 len. 3]: [Genus, \\xe2\\x80\\xa0, Solnhofia]\\nParsing [sent. 92 len. 3]: [Genus, \\xe2\\x80\\xa0, Thalassemys]\\nParsing [sent. 93 len. 3]: [Genus, \\xe2\\x80\\xa0, Santanachelys]\\nParsing [sent. 94 len. 3]: [Family, \\xe2\\x80\\xa0, Sinemydidae]\\nParsing [sent. 95 len. 2]: [Suborder, Pleurodira]\\nParsing [sent. 96 len. 3]: [Family, \\xe2\\x80\\xa0, Araripemydidae]\\nParsing [sent. 97 len. 2]: [Superfamily, Pelomedusoides]\\nParsing [sent. 98 len. 3]: [Family, \\xe2\\x80\\xa0, Bothremydidae]\\nParsing [sent. 99 len. 7]: [Family, Pelomedusidae, -LRB-, African, sideneck, turtles, -RRB-]\\nParsing [sent. 100 len. 11]: [Family, Podocnemididae, -LRB-, Madagascan, big-headed, and, American, sideneck, river, turtles, -RRB-]\\nParsing [sent. 101 len. 2]: [Family, Chelidae]\\nParsing [sent. 102 len. 2]: [Suborder, Cryptodira]\\nParsing [sent. 103 len. 3]: [Family, \\xe2\\x80\\xa0, Solemydidae]\\nParsing [sent. 104 len. 2]: [Infraorder, Eucryptodira]\\nParsing [sent. 105 len. 4]: [Basal, and, incertae, sedis]\\nParsing [sent. 106 len. 5]: [\\xe2\\x80\\xa0, ``, Sinemys, '', wuerhoensis]\\nParsing [sent. 107 len. 3]: [Genus, \\xe2\\x80\\xa0, Judithemys]\\nParsing [sent. 108 len. 3]: [Genus, \\xe2\\x80\\xa0, Osteopygis]\\nParsing [sent. 109 len. 3]: [Genus, \\xe2\\x80\\xa0, Planetochelys]\\nParsing [sent. 110 len. 3]: [Genus, \\xe2\\x80\\xa0, Protochelydra]\\nParsing [sent. 111 len. 3]: [Genus, \\xe2\\x80\\xa0, Platysternon]\\nParsing [sent. 112 len. 6]: [Family, Chelydridae, -LRB-, snapping, turtles, -RRB-]\\nParsing [sent. 113 len. 3]: [Family, \\xe2\\x80\\xa0, Eurysternidae]\\nParsing [sent. 114 len. 3]: [Family, \\xe2\\x80\\xa0, Macrobaenidae]\\nParsing [sent. 115 len. 3]: [Family, \\xe2\\x80\\xa0, Plesiochelyidae]\\nParsing [sent. 116 len. 3]: [Family, \\xe2\\x80\\xa0, Xinjiangchelyidae]\\nParsing [sent. 117 len. 6]: [Superfamily, Chelonioidea, -LRB-, sea, turtles, -RRB-]\\nParsing [sent. 118 len. 3]: [Family, \\xe2\\x80\\xa0, Toxochelyidae]\\nParsing [sent. 119 len. 9]: [Family, Cheloniidae, -LRB-, green, sea, turtles, and, relatives, -RRB-]\\nParsing [sent. 120 len. 7]: [Family, Dermochelyidae, -LRB-, leatherback, sea, turtles, -RRB-]\\nParsing [sent. 121 len. 2]: [Superfamily, Testudinoidea]\\nParsing [sent. 122 len. 3]: [Family, \\xe2\\x80\\xa0, Haichemydidae]\\nParsing [sent. 123 len. 3]: [Family, \\xe2\\x80\\xa0, Lindholmemydidae]\\nParsing [sent. 124 len. 3]: [Family, \\xe2\\x80\\xa0, Sinochelyidae]\\nParsing [sent. 125 len. 11]: [Family, Emydidae, -LRB-, pond, ,, box, ,, and, water, turtles, -RRB-]\\nParsing [sent. 126 len. 19]: [Family, Geoemydidae, -LRB-, Asian, river, turtles, ,, Asian, leaf, turtles, ,, Asian, box, turtles, ,, and, roofed, turtles, -RRB-]\\nParsing [sent. 127 len. 6]: [Family, Testudinidae, -LRB-, true, tortoises, -RRB-]\\nParsing [sent. 128 len. 2]: [Superfamily, Trionychoidea]\\nParsing [sent. 129 len. 3]: [Family, \\xe2\\x80\\xa0, Adocidae]\\nParsing [sent. 130 len. 6]: [Family, Carettochelyidae, -LRB-, pignose, turtles, -RRB-]\\nParsing [sent. 131 len. 6]: [Family, Dermatemydidae, -LRB-, river, turtles, -RRB-]\\nParsing [sent. 132 len. 6]: [Family, Kinosternidae, -LRB-, mud, turtles, -RRB-]\\nParsing [sent. 133 len. 6]: [Family, Trionychidae, -LRB-, softshell, turtles, -RRB-]\\nParsing [sent. 134 len. 16]: [Fossil, recordTurtle, fossils, of, hatchling, and, nestling, size, have, been, documented, in, the, scientific, literature, .]\\nParsing [sent. 135 len. 21]: [GenomicsTurtles, possess, diverse, chromosome, numbers, -LRB-, 2N, =, 28-66, -RRB-, and, a, myriad, of, chromosomal, rearrangements, have, occurred, during, evolution, .]\\nParsing [sent. 136 len. 2]: [In, captivity]\\nParsing [sent. 137 len. 15]: [Turtles, ,, particularly, small, terrestrial, and, freshwater, turtles, ,, are, commonly, kept, as, pets, .]\\nParsing [sent. 138 len. 15]: [Among, the, most, popular, are, Russian, tortoises, ,, spur-thighed, tortoises, ,, and, red-eared, sliders, .]\\nParsing [sent. 139 len. 16]: [It, is, illegal, in, every, state, in, the, U.S., for, anyone, to, sell, any, turtles, under]\\nParsing [sent. 140 len. 8]: [As, food, ,, traditional, medicine, ,, and, cosmetics]\\nParsing [sent. 141 len. 24]: [The, flesh, of, turtles, ,, calipash, or, calipee, ,, was, ,, and, still, is, ,, considered, a, delicacy, in, a, number, of, cultures, .]\\nParsing [sent. 142 len. 41]: [Conservation, statusIn, February, 2011, ,, the, Tortoise, and, Freshwater, Turtle, Specialist, Group, published, a, report, about, the, top, 25, species, of, turtles, most, likely, to, become, extinct, ,, with, a, further, 40, species, at, very, high, risk, of, becoming, extinct, .]\\nParsing [sent. 143 len. 22]: [This, list, excludes, sea, turtles, ,, however, both, the, leatherback, and, the, Kemp, 's, ridley, would, make, the, top, 25, list, .]\\nParsing [sent. 144 len. 20]: [The, report, is, due, to, be, updated, in, four, years, time, allowing, to, follow, the, evolution, of, the, list, .]\\nParsing [sent. 145 len. 30]: [Between, 48, to, 54, %, of, all, 328, of, their, species, considered, threatened, ,, turtles, and, tortoises, are, at, a, much, higher, risk, of, extinction, than, many, other, vertebrates, .]\\nParsing [sent. 146 len. 28]: [Of, the, 263, species, of, freshwater, and, terrestrial, turtles, ,, 117, species, are, considered, Threatened, ,, 73, are, either, Endangered, or, Critically, Endangered, and, 1, is, Extinct, .]\\nParsing [sent. 147 len. 35]: [Of, the, 58, species, belonging, to, the, Testudinidae, family, ,, 33, species, are, Threatened, ,, 18, are, either, Endangered, or, Critically, Endangered, ,, 1, is, Extinct, in, the, wild, and, 7, species, are, Extinct, .]\\nParsing [sent. 148 len. 13]: [71, %, of, all, tortoise, species, are, either, gone, or, almost, gone, .]\\nParsing [sent. 149 len. 17]: [Asian, species, are, the, most, endangered, ,, closely, followed, by, the, five, endemic, species, from, Madagascar, .]\\nParsing [sent. 150 len. 18]: [Turtles, face, many, threats, ,, including, habitat, destruction, ,, harvesting, for, consumption, ,, and, the, pet, trade, .]\\nParsing [sent. 151 len. 37]: [The, high, extinction, risk, for, Asian, species, is, primarily, due, to, the, long-term, unsustainable, exploitation, of, turtles, and, tortoises, for, consumption, and, traditional, Chinese, medicine, ,, and, to, a, lesser, extent, for, the, international, pet, trade, .]\\nParsing [sent. 152 len. 29]: [Nonetheless, ,, wild, turtles, continue, to, be, caught, and, sent, to, market, in, large, number, -LRB-, as, well, as, to, turtle, farms, ,, to, be, used, as, breeding, stock]\\nParsing [sent. 153 len. 2]: [See, also]\\nParsing [sent. 154 len. 2]: [Animal, track]\\nParsing [sent. 155 len. 4]: [Cultural, depictions, of, turtles]\\nParsing [sent. 156 len. 4]: [Symposium, on, Turtle, Evolution]\\nParsing [sent. 157 len. 1]: [Notes]\\nParsing [sent. 158 len. 1]: [References]\\nParsing [sent. 159 len. 2]: [Further, reading]\\nParsing [sent. 160 len. 2]: [External, links]\\nParsing [sent. 161 len. 11]: [Chelonian, studbook, Collection, and, display, of, the, weights\\\\/sizes, of, captive, turtles]\\nParsing [sent. 162 len. 11]: [Biogeography, and, Phylogeny, of, the, Chelonia, -LRB-, taxonomy, ,, maps, -RRB-]\\nParsing [sent. 163 len. 14]: [New, Scientist, article, -LRB-, including, video, -RRB-, on, how, the, turtle, evolved, its, shell]\\nParsed file: input.txt [163 sentences].\\n\\n*******************************************************\\n***  WARNING!! OUT OF MEMORY! THERE WAS NOT ENOUGH  ***\\n***  MEMORY TO RUN ALL PARSERS.  EITHER GIVE THE    ***\\n***  JVM MORE MEMORY, SET THE MAXIMUM SENTENCE      ***\\n***  LENGTH WITH -maxLength, OR PERHAPS YOU ARE     ***\\n***  HAPPY TO HAVE THE PARSER FALL BACK TO USING    ***\\n***  A SIMPLER PARSER FOR VERY LONG SENTENCES.      ***\\n*******************************************************\\n\\nParsed 2630 words in 163 sentences (107.23 wds/sec; 6.65 sents/sec).\\n  3 sentences were not parsed:\\n    3 were skipped as length 0 or greater than 559038737\\nTo git@github.com:oxinabox/phd.git\\n   4c848a9..74876c7  master -> master\\n\"\n"
     ]
    }
   ],
   "source": [
    "\n",
    "cin,cout,cerr=client.exec_command(commands)\n",
    "print(cout.read())\n",
    "print(\"----\")\n",
    "print(cerr.read())\n"
   ]
  },
  {
   "cell_type": "code",
   "execution_count": null,
   "metadata": {
    "collapsed": true
   },
   "outputs": [],
   "source": []
  }
 ],
 "metadata": {
  "kernelspec": {
   "display_name": "Python 3",
   "language": "python",
   "name": "python3"
  },
  "language_info": {
   "codemirror_mode": {
    "name": "ipython",
    "version": 3
   },
   "file_extension": ".py",
   "mimetype": "text/x-python",
   "name": "python",
   "nbconvert_exporter": "python",
   "pygments_lexer": "ipython3",
   "version": "3.4.3"
  }
 },
 "nbformat": 4,
 "nbformat_minor": 0
}
