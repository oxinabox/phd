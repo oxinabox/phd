{
 "cells": [
  {
   "cell_type": "markdown",
   "metadata": {},
   "source": [
    "From http://www.cs.toronto.edu/~mbweb/"
   ]
  },
  {
   "cell_type": "code",
   "execution_count": 1,
   "metadata": {
    "collapsed": false
   },
   "outputs": [
    {
     "name": "stdout",
     "output_type": "stream",
     "text": [
      "--2016-01-07 21:53:47--  http://www.cs.toronto.edu/~mbweb/books_large_p1.txt\n",
      "Resolving www.cs.toronto.edu (www.cs.toronto.edu)... 128.100.3.30\n",
      "Connecting to www.cs.toronto.edu (www.cs.toronto.edu)|128.100.3.30|:80... connected.\n",
      "HTTP request sent, awaiting response... 200 OK\n",
      "Length: 2516788764 (2.3G) [text/plain]\n",
      "Saving to: 'books_large_p1.txt’\n",
      "\n",
      "100%[====================================>] 2,516,788,764 1.11MB/s   in 28m 39s\n",
      "\n",
      "2016-01-07 22:22:28 (1.40 MB/s) - 'books_large_p1.txt’ saved [2516788764/2516788764]\n",
      "\n",
      "--2016-01-07 22:22:28--  http://./corpora/Books/\n",
      "Resolving . (.)... failed: No address associated with hostname.\n",
      "wget: unable to resolve host address '.’\n",
      "FINISHED --2016-01-07 22:22:28--\n",
      "Total wall clock time: 28m 41s\n",
      "Downloaded: 1 files, 2.3G in 28m 39s (1.40 MB/s)\n"
     ]
    }
   ],
   "source": [
    "!wget http://www.cs.toronto.edu/~mbweb/books_large_p1.txt \"./corpora/Books/\""
   ]
  },
  {
   "cell_type": "code",
   "execution_count": 2,
   "metadata": {
    "collapsed": false
   },
   "outputs": [
    {
     "name": "stdout",
     "output_type": "stream",
     "text": [
      "--2016-01-07 22:22:28--  http://www.cs.toronto.edu/~mbweb/books_large_p2.txt\n",
      "Resolving www.cs.toronto.edu (www.cs.toronto.edu)... 128.100.3.30\n",
      "Connecting to www.cs.toronto.edu (www.cs.toronto.edu)|128.100.3.30|:80... connected.\n",
      "HTTP request sent, awaiting response... 200 OK\n",
      "Length: 2096527714 (2.0G) [text/plain]\n",
      "Saving to: 'books_large_p2.txt’\n",
      "\n",
      "100%[====================================>] 2,096,527,714 2.68MB/s   in 23m 22s\n",
      "\n",
      "2016-01-07 22:45:50 (1.43 MB/s) - 'books_large_p2.txt’ saved [2096527714/2096527714]\n",
      "\n",
      "--2016-01-07 22:45:50--  http://./corpora/Books/\n",
      "Resolving . (.)... failed: No address associated with hostname.\n",
      "wget: unable to resolve host address '.’\n",
      "FINISHED --2016-01-07 22:45:50--\n",
      "Total wall clock time: 23m 23s\n",
      "Downloaded: 1 files, 2.0G in 23m 22s (1.43 MB/s)\n"
     ]
    }
   ],
   "source": [
    "!wget http://www.cs.toronto.edu/~mbweb/books_large_p2.txt \"./corpora/Books/\""
   ]
  },
  {
   "cell_type": "code",
   "execution_count": 6,
   "metadata": {
    "collapsed": false
   },
   "outputs": [],
   "source": [
    "!mv \"books_large_p1.txt\" \"./corpora/Books/\""
   ]
  },
  {
   "cell_type": "code",
   "execution_count": null,
   "metadata": {
    "collapsed": true
   },
   "outputs": [],
   "source": []
  }
 ],
 "metadata": {
  "kernelspec": {
   "display_name": "Python 3",
   "language": "python",
   "name": "python3"
  },
  "language_info": {
   "codemirror_mode": {
    "name": "ipython",
    "version": 3
   },
   "file_extension": ".py",
   "mimetype": "text/x-python",
   "name": "python",
   "nbconvert_exporter": "python",
   "pygments_lexer": "ipython3",
   "version": "3.4.0"
  }
 },
 "nbformat": 4,
 "nbformat_minor": 0
}
