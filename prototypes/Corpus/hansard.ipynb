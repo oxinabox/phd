{
 "cells": [
  {
   "cell_type": "code",
   "execution_count": 1,
   "metadata": {
    "collapsed": false
   },
   "outputs": [],
   "source": [
    "corpus_path = \"corpora/hansard/hansard/\""
   ]
  },
  {
   "cell_type": "code",
   "execution_count": 2,
   "metadata": {
    "collapsed": true
   },
   "outputs": [],
   "source": [
    "import pandas as pd\n",
    "import numpy as np\n",
    "from glob import glob\n",
    "from os import path\n",
    "import itertools"
   ]
  },
  {
   "cell_type": "code",
   "execution_count": 3,
   "metadata": {
    "collapsed": true
   },
   "outputs": [],
   "source": [
    "import xml.etree.ElementTree as ET"
   ]
  },
  {
   "cell_type": "code",
   "execution_count": null,
   "metadata": {
    "collapsed": true
   },
   "outputs": [],
   "source": []
  },
  {
   "cell_type": "code",
   "execution_count": 4,
   "metadata": {
    "collapsed": true
   },
   "outputs": [],
   "source": [
    "def try_find_text(ele, xpath):\n",
    "    found_ele = ele.find(xpath)\n",
    "    if not(found_ele is None):\n",
    "        return found_ele.text or \"\"\n",
    "    else:\n",
    "        return \"\"\n",
    "    \n",
    "def nuke_whitespace(string):\n",
    "    return ' '.join(string.split()).strip()"
   ]
  },
  {
   "cell_type": "code",
   "execution_count": null,
   "metadata": {
    "collapsed": true
   },
   "outputs": [],
   "source": []
  },
  {
   "cell_type": "code",
   "execution_count": 5,
   "metadata": {
    "collapsed": true
   },
   "outputs": [],
   "source": [
    "def load_speech(speech_ele):\n",
    "    name = try_find_text(speech_ele, \".//name\")\n",
    "    electorate = try_find_text(speech_ele, \".//electorate\")\n",
    "    party = try_find_text(speech_ele, \".//party\")\n",
    "    ingov = try_find_text(speech_ele, \".//in.gov\")\n",
    "    ingov = bool(int(ingov)) if ingov else \"\"\n",
    "    first_speech = try_find_text(speech_ele, \".//first.speech\")\n",
    "    first_speech = bool(int(first_speech)) if first_speech else \"\"\n",
    "    \n",
    "    \n",
    "    text = speech_ele.text or \"\"\n",
    "    text+=\" \" + \" \".join([para.text or \"\" for para in speech_ele.findall(\"./para\")])\n",
    "    text=nuke_whitespace(text)\n",
    "    return name,electorate,party, ingov, first_speech, text\n",
    "        "
   ]
  },
  {
   "cell_type": "code",
   "execution_count": null,
   "metadata": {
    "collapsed": false
   },
   "outputs": [],
   "source": [
    "def load_file(filename):\n",
    "        xml = ET.ElementTree(file=filename)\n",
    "        date = xml.find(\".//date\").text\n",
    "        \n",
    "        for debate in xml.findall(\".//debate\"):\n",
    "            debate_type = try_find_text(debate, \".//type\")\n",
    "            debate_title = try_find_text(debate, \".//title\")\n",
    "                \n",
    "            speeches = debate.findall(\".//speech\")\n",
    "            for ss in speeches:\n",
    "                name,electorate,party, ingov, first_speech, text = load_speech(ss)\n",
    "                if text and party: #we need to at least know the party and the text\n",
    "                    yield date,debate_type, debate_title, name,electorate,party, ingov, first_speech, text\n",
    "        \n",
    "\n",
    "def load_corpus(corpus_path):\n",
    "    from glob import glob\n",
    "    import os.path\n",
    "    filenames = glob(os.path.join(corpus_path,\"*.xml\"))\n",
    "    \n",
    "    file_records = [load_file(filename) for filename in filenames]\n",
    "    all_speeches = list(itertools.chain(*file_records))\n",
    "    df = pd.DataFrame(all_speeches, columns=[\"date\", \"debate_type\", \"debate_title\", \"name\",\"electorate\",\"party\", \"ingov\", \"first_speech\", \"text\"])\n",
    "    \n",
    "    return df\n"
   ]
  },
  {
   "cell_type": "code",
   "execution_count": null,
   "metadata": {
    "collapsed": false
   },
   "outputs": [],
   "source": [
    "corpus = load_corpus(corpus_path)"
   ]
  },
  {
   "cell_type": "code",
   "execution_count": null,
   "metadata": {
    "collapsed": false
   },
   "outputs": [],
   "source": [
    "#   AG          - Australian Greens\n",
    "#   ALP         - Labour\n",
    "#   AUS         - Australia First??\n",
    "#   CLP         - Country Liberal Party?\n",
    "#   IND         - Independant (no party)\n",
    "#   Ind         - Independant (no party)\n",
    "#   Ind.            - Independant (no party)\n",
    "#   LP          - Liberal\n",
    "#   N/A         - same as UNKNONW? or guest?\n",
    "#   NATS        - Nationals\n",
    "#   NP          - Nationals\n",
    "#   NPActing    - Nationals\n",
    "#   Nats        - Nationals\n",
    "#   NatsWA      - Nationals WA\n",
    "#   PUP         - Palmer United\n",
    "#   UNKNOWN\n",
    "\n",
    "\n",
    "def get_consistent_name(name):\n",
    "    if name in frozenset(\"IND Ind Ind.\".split()):\n",
    "        return \"IND\"\n",
    "    elif name in frozenset(\"NATS NP NPActing Nats NatsWA\".split()):\n",
    "        return \"NATS\"\n",
    "    elif pd.isnull(name):\n",
    "        return \"NOT SPECIFIED\"\n",
    "    else:\n",
    "        return name\n",
    "\n",
    "corpus.party = corpus.party.apply(get_consistent_name)\n"
   ]
  },
  {
   "cell_type": "code",
   "execution_count": null,
   "metadata": {
    "collapsed": false
   },
   "outputs": [],
   "source": [
    "def get_meta_party(name):\n",
    "    if name in frozenset(\"NATS CLP LP\".split()):\n",
    "        return \"LNC\"\n",
    "    elif name==\"ALP\":\n",
    "        return \"ALP\"\n",
    "    else:\n",
    "        return \"OTHER\"\n",
    "    \n",
    "corpus[\"metaparty\"] = corpus.party.apply(get_meta_party)\n"
   ]
  },
  {
   "cell_type": "code",
   "execution_count": null,
   "metadata": {
    "collapsed": false
   },
   "outputs": [],
   "source": [
    "def formalise(name):\n",
    "    first, last = name.split()\n",
    "    return last+\", \"+first + \", MP\"\n",
    "\n",
    "prime_ministers = frozenset(map(formalise, (\"Bob Hawke\",\"Paul Keating\",\"John Howard\", \"Julia Gillard\",\"Kevin Rudd\",\"Tony Abbott\")))\n",
    "opposition_leaders = frozenset(map(formalise, (\"John Howard\",\"Andrew Peacock\",\"John Hewson\",\"Alexander Downer\",\"John Howard\",\"Kim Beazley\",\"Simon Crean\",\"Mark Latham\",\"Kim Beazley\",\"Kevin Rudd\",\"Brendan Nelson\",\"Malcolm Turnbull\",\"Tony Abbott\",\"Chris Bowen\",\"Bill Shorten\")))\n",
    "corpus[\"prime_minister\"] = corpus.name.apply(lambda name: name in prime_ministers)\n",
    "corpus[\"opposition_leader\"] = corpus.name.apply(lambda name: name in opposition_leaders)\n"
   ]
  },
  {
   "cell_type": "code",
   "execution_count": null,
   "metadata": {
    "collapsed": true
   },
   "outputs": [],
   "source": [
    "corpus.debate_type= corpus.debate_type.str.upper()  #Normalise Casing\n",
    "corpus.loc[pd.isnull(corpus.debate_title),\"debate_title\"] = \"NOT_SPECIFIED\"\n"
   ]
  },
  {
   "cell_type": "code",
   "execution_count": null,
   "metadata": {
    "collapsed": false
   },
   "outputs": [],
   "source": [
    "corpus.to_csv(\"serialised/hansard.csv\")"
   ]
  },
  {
   "cell_type": "code",
   "execution_count": null,
   "metadata": {
    "collapsed": true
   },
   "outputs": [],
   "source": [
    "!git add hansard.ipynb"
   ]
  },
  {
   "cell_type": "code",
   "execution_count": null,
   "metadata": {
    "collapsed": false
   },
   "outputs": [],
   "source": [
    "!git commit -m=\"made hansard normalise party names, correctly for NATS\""
   ]
  },
  {
   "cell_type": "code",
   "execution_count": null,
   "metadata": {
    "collapsed": false
   },
   "outputs": [],
   "source": [
    "!git push"
   ]
  },
  {
   "cell_type": "code",
   "execution_count": null,
   "metadata": {
    "collapsed": true
   },
   "outputs": [],
   "source": []
  }
 ],
 "metadata": {
  "kernelspec": {
   "display_name": "Python 3",
   "language": "python",
   "name": "python3"
  },
  "language_info": {
   "codemirror_mode": {
    "name": "ipython",
    "version": 3
   },
   "file_extension": ".py",
   "mimetype": "text/x-python",
   "name": "python",
   "nbconvert_exporter": "python",
   "pygments_lexer": "ipython3",
   "version": "3.4.3"
  }
 },
 "nbformat": 4,
 "nbformat_minor": 0
}
