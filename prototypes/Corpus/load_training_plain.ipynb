{
 "cells": [
  {
   "cell_type": "code",
   "execution_count": 1,
   "metadata": {
    "collapsed": true
   },
   "outputs": [],
   "source": [
    "using Iterators\n",
    "using Pipe\n",
    "\n",
    "macro printval(ee)\n",
    "    ee_expr = @sprintf \"%s\" string(ee)\n",
    "    esc(:(println($ee_expr,\" = \", $ee)))\n",
    "end\n",
    "\n",
    "macro pz(ee)\n",
    "    ee_expr = @sprintf \"%s\" string(ee)\n",
    "    esc(:(println($ee_expr,\"\\t\\t\",typeof($ee), \"\\t\", size($ee))))\n",
    "end"
   ]
  },
  {
   "cell_type": "code",
   "execution_count": 2,
   "metadata": {
    "collapsed": false
   },
   "outputs": [],
   "source": [
    "push!(LOAD_PATH, \"../util\")\n",
    "using PyCallExtensions"
   ]
  },
  {
   "cell_type": "code",
   "execution_count": 3,
   "metadata": {
    "collapsed": true
   },
   "outputs": [],
   "source": [
    "using PyCall\n",
    "@pyimport warnings\n",
    "warnings.filterwarnings(\"ignore\")\n",
    "@pyimport nltk.corpus as nltk_corpus"
   ]
  },
  {
   "cell_type": "code",
   "execution_count": null,
   "metadata": {
    "collapsed": true
   },
   "outputs": [],
   "source": []
  },
  {
   "cell_type": "code",
   "execution_count": 4,
   "metadata": {
    "collapsed": true
   },
   "outputs": [],
   "source": [
    "@pyimport nltk.tokenize as nltk_tokenize"
   ]
  },
  {
   "cell_type": "code",
   "execution_count": 5,
   "metadata": {
    "collapsed": false
   },
   "outputs": [
    {
     "data": {
      "text/plain": [
       "PyObject <PlaintextCorpusReader in u'/home/wheel/oxinabox/phd/prototypes/Corpus'>"
      ]
     },
     "execution_count": 5,
     "metadata": {},
     "output_type": "execute_result"
    }
   ],
   "source": [
    "@pyimport glob\n",
    "opinosis_filenames = glob.glob(\"corpora/Opinosis/processed/topics/*.phrases.txt\");\n",
    "opinosis_reader = nltk_corpus.PlaintextCorpusReader(\".\", opinosis_filenames, word_tokenizer=nltk_tokenize.SpaceTokenizer())\n",
    "#Split on spaces, as this has already been processed though the Stanford Lexer and has space seperated the tokens. Default tokeniser will also split the *UNKNOWN*\n",
    "\n"
   ]
  },
  {
   "cell_type": "code",
   "execution_count": null,
   "metadata": {
    "collapsed": true
   },
   "outputs": [],
   "source": []
  },
  {
   "cell_type": "code",
   "execution_count": 18,
   "metadata": {
    "collapsed": true
   },
   "outputs": [],
   "source": [
    "open(\"serialised/opinosis_train_dev_plain.jsz\",\"w\") do fs\n",
    "    sents = @pipe opinosis_reader[:sents]() |> map(x->convert(Vector{UTF8String},x),_) |> convert(Vector{Vector{UTF8String}}, _)\n",
    "    serialize(fs, sents)\n",
    "end"
   ]
  },
  {
   "cell_type": "code",
   "execution_count": 12,
   "metadata": {
    "collapsed": false
   },
   "outputs": [
    {
     "data": {
      "text/plain": [
       "1-element Array{Any,1}:\n",
       " {\"being\",\"able\",\"to\",\"change\",\"the\",\"*UNKNOWN*\",\"sizes\",\"is\",\"awesome\",\"!\"}"
      ]
     },
     "execution_count": 12,
     "metadata": {},
     "output_type": "execute_result"
    }
   ],
   "source": [
    "a=@pipe opinosis_reader[:sents]() |> take(_,1)|> collect"
   ]
  },
  {
   "cell_type": "code",
   "execution_count": 17,
   "metadata": {
    "collapsed": false
   },
   "outputs": [
    {
     "data": {
      "text/plain": [
       "6097-element Array{Any,1}:\n",
       " UTF8String[\"being\",\"able\",\"to\",\"change\",\"the\",\"*UNKNOWN*\",\"sizes\",\"is\",\"awesome\",\"!\"]                                                                                            \n",
       " UTF8String[\"for\",\"whatever\",\"reason\",\",\",\"*UNKNOWN*\",\"decided\",\"to\",\"make\",\"the\",\"*UNKNOWN*\",\"on\",\"the\",\"home\",\"screen\",\"than\",\"on\",\"the\",\"*UNKNOWN*\",\".\"]                       \n",
       " UTF8String[\"i\",\"found\",\"myself\",\"constantly\",\"changing\",\"the\",\"angle\",\"of\",\"the\",\"body\"  …  \"up\",\"and\",\"down\",\"and\",\"the\",\"distance\",\"away\",\"from\",\"me\",\".\"]                     \n",
       " UTF8String[\"i\",\"was\",\"an\",\"avid\",\"reader\",\"but\",\"increasing\",\"age\",\"has\",\"made\"  …  \"and\",\"very\",\"light\",\"weight\",\"has\",\"made\",\"reading\",\"fun\",\"again\",\".\"]                      \n",
       " UTF8String[\"what\",\"'s\",\"more\",\",\",\"it\",\"'s\",\"easy\",\"to\",\"change\",\"*UNKNOWN*\",\"size\",\".\"]                                                                                         \n",
       " UTF8String[\"the\",\"*UNKNOWN*\",\"does\",\"not\",\"recognize\",\"page\",\"numbers\",\",\",\"since\",\"they\"  …  \"provides\",\"the\",\"notion\",\"of\",\"location\",\"which\",\"is\",\"display\",\"independent\",\".\"]\n",
       " UTF8String[\"i\",\"just\",\"crank\",\"the\",\"*UNKNOWN*\",\"up\",\"a\",\"notch\",\"or\",\"two\",\"and\",\"leave\",\"the\",\"readers\",\"behind\",\".\"]                                                          \n",
       " UTF8String[\"my\",\"*UNKNOWN*\",\"is\",\"fine\",\",\",\"but\",\"i\",\"can\",\"choose\",\"the\",\"*UNKNOWN*\",\"size\",\"that\",\"suits\",\"me\",\"best\",\".\"]                                                    \n",
       " UTF8String[\"*UNKNOWN*\",\"easy\",\",\",\"on\",\",\",\"the\",\",\",\"eyes\",\"'\",\"reading\"  …  \"still\",\"not\",\"big\",\"enough\",\"for\",\"people\",\"with\",\"vision\",\"problems\",\".\"]                        \n",
       " UTF8String[\"one\",\"or\",\"two\",\"larger\",\"*UNKNOWN*\",\"sizes\",\"would\",\"have\",\"benefited\",\"the\",\"visually\",\"*UNKNOWN*\",\".\"]                                                            \n",
       " UTF8String[\"downloading\",\"books\",\"is\",\"easy\",\",\",\"the\",\"screen\",\"is\",\"not\",\"too\"  …  \"*UNKNOWN*\",\"and\",\"the\",\"*UNKNOWN*\",\"customer\",\"service\",\"support\",\"is\",\"terrific\",\".\"]     \n",
       " UTF8String[\"the\",\"text\",\"appears\",\"slightly\",\"*UNKNOWN*\",\"and\",\"i\",\"have\",\"to\",\"increase\",\"the\",\"*UNKNOWN*\",\"size\",\"to\",\"read\",\"it\",\"comfortably\",\".\"]                           \n",
       " UTF8String[\"and\",\"with\",\"the\",\"*UNKNOWN*\",\",\",\"i\",\"can\",\"adjust\",\"the\",\"*UNKNOWN*\"  …  \"importance\",\"to\",\"those\",\"with\",\"poor\",\"vision\",\"or\",\"tired\",\"eyes\",\".\"]                 \n",
       " ⋮                                                                                                                                                                                \n",
       " UTF8String[\"obviously\",\"compared\",\"to\",\"*UNKNOWN*\",\"you\",\"know\",\"it\",\"will\",\"be\",\"slower\"  …  \"but\",\"i\",\"am\",\"very\",\"happy\",\"with\",\"the\",\"operating\",\"system\",\".\"]               \n",
       " UTF8String[\"it\",\"'s\",\"fast\",\",\",\"it\",\"does\",\"n't\",\"crash\",\",\",\"and\"  …  \"*UNKNOWN*\",\",\",\"like\",\"than\",\"any\",\"previous\",\"*UNKNOWN*\",\"from\",\"*UNKNOWN*\",\".\"]                       \n",
       " UTF8String[\"i\",\"own\",\"*UNKNOWN*\",\"professional\",\"and\",\"wanted\",\"a\",\"nice\",\",\",\"clean\"  …  \"i\",\"*UNKNOWN*\",\"the\",\"*UNKNOWN*\",\"before\",\"doing\",\"the\",\"*UNKNOWN*\",\"install\",\".\"]    \n",
       " UTF8String[\"it\",\"is\",\"very\",\"fast\",\"and\",\"very\",\"user\",\"friendly\",\".\"]                                                                                                           \n",
       " UTF8String[\"although\",\"most\",\"are\",\"saying\",\"that\",\"the\",\"start\",\"up\",\"is\",\"faster\"  …  \"to\",\"disagree\",\",\",\"i\",\"feel\",\"its\",\"about\",\"the\",\"same\",\".\"]                           \n",
       " UTF8String[\"it\",\"takes\",\"a\",\"little\",\"work\",\"to\",\"setup\",\"and\",\"does\",\"n't\",\"run\",\"you\",\"application\",\"as\",\"fast\",\"as\",\"they\",\"would\",\"*UNKNOWN*\",\".\"]                           \n",
       " UTF8String[\"you\",\"need\",\"a\",\"faster\",\"*UNKNOWN*\",\"and\",\"extra\",\"memory\",\"if\",\"you\",\"plan\",\"on\",\"using\",\"this\",\"a\",\"lot\",\".\"]                                                     \n",
       " UTF8String[\"i\",\"am\",\"very\",\"happy\",\"with\",\"the\",\"program\",\",\",\"it\",\"is\"  …  \"to\",\"install\",\"for\",\"my\",\"*UNKNOWN*\",\"wireless\",\"printer\",\"to\",\"work\",\".\"]                          \n",
       " UTF8String[\"0\",\"out\",\"of\",\"5\",\"stars\",\"windows\",\"7\",\"runs\",\"slower\",\"than\"  …  \"computer\",\"runs\",\"much\",\"slower\",\"than\",\"it\",\"did\",\"with\",\"*UNKNOWN*\",\".\"]                       \n",
       " UTF8String[\"so\",\"i\",\"just\",\"got\",\"the\",\"windows\",\"7\",\"upgrade\",\"installed\",\",\"  …  \"instantly\",\"amazed\",\"at\",\"how\",\"fast\",\"and\",\"sleek\",\"everything\",\"looked\",\".\"]               \n",
       " UTF8String[\"simply\",\"put\",\",\",\"windows\",\"7\",\"looks\",\"amazing\",\",\",\"and\",\"is\",\"fast\",\"and\",\"*UNKNOWN*\",\".\"]                                                                       \n",
       " UTF8String[\"i\",\"started\",\"to\",\"upload\",\"a\",\"*UNKNOWN*\",\"video\",\",\",\"went\",\"away\"  …  \"and\",\"came\",\"back\",\"to\",\"a\",\"blue\",\"screen\",\"of\",\"death\",\".\\n\"]                            "
      ]
     },
     "execution_count": 17,
     "metadata": {},
     "output_type": "execute_result"
    }
   ],
   "source": [
    "sents = @pipe opinosis_reader[:sents]() |> map(x->convert(Vector{UTF8String},x),_) "
   ]
  },
  {
   "cell_type": "code",
   "execution_count": null,
   "metadata": {
    "collapsed": true
   },
   "outputs": [],
   "source": []
  },
  {
   "cell_type": "code",
   "execution_count": null,
   "metadata": {
    "collapsed": true
   },
   "outputs": [],
   "source": []
  }
 ],
 "metadata": {
  "kernelspec": {
   "display_name": "Julia 0.3.9-pre",
   "language": "julia",
   "name": "julia-0.3"
  },
  "language_info": {
   "name": "julia",
   "version": "0.3.10"
  }
 },
 "nbformat": 4,
 "nbformat_minor": 0
}
