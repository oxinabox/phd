{
 "cells": [
  {
   "cell_type": "code",
   "execution_count": 1,
   "metadata": {
    "collapsed": true
   },
   "outputs": [],
   "source": [
    "using Iterators\n",
    "using Pipe\n",
    "\n",
    "macro hcat(expr)\n",
    "    :(hcat($expr...))\n",
    "end\n",
    "macro vcat(expr)\n",
    "    :(vcat($expr...))\n",
    "end\n",
    "\n",
    "\n",
    "\n",
    "macro printval(ee)\n",
    "    ee_expr = @sprintf \"%s\" string(ee)\n",
    "    esc(:(println($ee_expr,\" = \", $ee)))\n",
    "end\n",
    "\n",
    "macro pz(ee)\n",
    "    ee_expr = @sprintf \"%s\" string(ee)\n",
    "    esc(:(println($ee_expr,\"\\t\\t\",typeof($ee), \"\\t\", size($ee))))\n",
    "end"
   ]
  },
  {
   "cell_type": "code",
   "execution_count": 2,
   "metadata": {
    "collapsed": false
   },
   "outputs": [],
   "source": [
    "using StatsBase\n",
    "using SpecialMatrices"
   ]
  },
  {
   "cell_type": "code",
   "execution_count": 3,
   "metadata": {
    "collapsed": false
   },
   "outputs": [
    {
     "data": {
      "text/plain": [
       "push! (generic function with 32 methods)"
      ]
     },
     "execution_count": 3,
     "metadata": {},
     "output_type": "execute_result"
    }
   ],
   "source": [
    "import Base.push!\n",
    "function push!(X::Matrix, x::Vector)\n",
    "    ncols = size(X, 2)\n",
    "    for col=2:ncols\n",
    "        X[:, col-1] = X[:, col]\n",
    "    end\n",
    "    X[:,end]=x\n",
    "    X\n",
    "end"
   ]
  },
  {
   "cell_type": "code",
   "execution_count": 4,
   "metadata": {
    "collapsed": false
   },
   "outputs": [
    {
     "data": {
      "text/plain": [
       "5-element Array{Float64,1}:\n",
       "  0.244273\n",
       "  0.563459\n",
       "  0.452854\n",
       " -0.569941\n",
       "  0.616974"
      ]
     },
     "execution_count": 4,
     "metadata": {},
     "output_type": "execute_result"
    }
   ],
   "source": [
    "randn(5)"
   ]
  },
  {
   "cell_type": "code",
   "execution_count": null,
   "metadata": {
    "collapsed": false
   },
   "outputs": [],
   "source": []
  },
  {
   "cell_type": "code",
   "execution_count": null,
   "metadata": {
    "collapsed": false
   },
   "outputs": [],
   "source": []
  },
  {
   "cell_type": "code",
   "execution_count": 5,
   "metadata": {
    "collapsed": false
   },
   "outputs": [
    {
     "data": {
      "text/plain": [
       "lab2_ar_signal! (generic function with 1 method)"
      ]
     },
     "execution_count": 5,
     "metadata": {},
     "output_type": "execute_result"
    }
   ],
   "source": [
    "function random_walk1!(xs::Matrix)\n",
    "    step = rand(-1:1,size(xs,1))\n",
    "    new_x = xs[:,end]+step\n",
    "    push!(xs,new_x)\n",
    "end\n",
    "\n",
    "function lab2_ar_signal!(xs)\n",
    "    u = randn(size(xs,1))\n",
    "    new_x = 1.8xs[end]-0.81xs[end-1]+0.1u\n",
    "    push!(xs,new_x)\n",
    "end\n"
   ]
  },
  {
   "cell_type": "code",
   "execution_count": 6,
   "metadata": {
    "collapsed": false
   },
   "outputs": [
    {
     "data": {
      "text/plain": [
       "get_samples (generic function with 2 methods)"
      ]
     },
     "execution_count": 6,
     "metadata": {},
     "output_type": "execute_result"
    }
   ],
   "source": [
    "function get_samples!(transfer!::Function, xs::Matrix)\n",
    "    for _ in 1:size(xs,2)\n",
    "        transfer!(xs)\n",
    "    end\n",
    "    xs\n",
    "end\n",
    "function get_samples(transfer!::Function, n::Int, k::Int=1)\n",
    "    xs = zeros(k,n)\n",
    "    get_samples!(transfer!,xs)\n",
    "end"
   ]
  },
  {
   "cell_type": "code",
   "execution_count": null,
   "metadata": {
    "collapsed": true
   },
   "outputs": [],
   "source": []
  },
  {
   "cell_type": "code",
   "execution_count": 7,
   "metadata": {
    "collapsed": false
   },
   "outputs": [
    {
     "data": {
      "text/plain": [
       "yule_walker_fit_AR (generic function with 1 method)"
      ]
     },
     "execution_count": 7,
     "metadata": {},
     "output_type": "execute_result"
    }
   ],
   "source": [
    "function yule_walker_fit_AR(xs::Vector, p::Int)\n",
    "    γ=autocor(xs,0:p,demean=true)\n",
    "    γ_sym = [γ[end:-1:1], γ[2:end]] #Autocovarience is syemtrical about zero\n",
    "    Γ = Toeplitz(γ_sym[2:end-1])  #Don't use p and -p indexes, in the gamma\n",
    "    full(Γ)\\γ[2:end]\n",
    "end"
   ]
  },
  {
   "cell_type": "code",
   "execution_count": 8,
   "metadata": {
    "collapsed": false
   },
   "outputs": [
    {
     "data": {
      "text/plain": [
       "2-element Array{Float64,1}:\n",
       "  1.27253 \n",
       " -0.301632"
      ]
     },
     "execution_count": 8,
     "metadata": {},
     "output_type": "execute_result"
    }
   ],
   "source": [
    "xs = get_samples(lab2_ar_signal!,100)[:];\n",
    "yule_walker_fit_AR(xs, 2)"
   ]
  },
  {
   "cell_type": "code",
   "execution_count": null,
   "metadata": {
    "collapsed": false
   },
   "outputs": [],
   "source": []
  },
  {
   "cell_type": "code",
   "execution_count": null,
   "metadata": {
    "collapsed": true
   },
   "outputs": [],
   "source": []
  },
  {
   "cell_type": "markdown",
   "metadata": {},
   "source": [
    "$$y_{t}=c+A_{1}y_{{t-1}}+A_{2}y_{{t-2}}+\\cdots +A_{p}y_{{t-p}}+e_{t},\\,$$\n",
    "\n",
    "Where each $y_i$ is a vector of length $k$ and each $A_i$ is a $k × k$ matrix.\n",
    "\n",
    "$${\\begin{bmatrix}y_{{1,t}}\\\\y_{{2,t}}\\\\\\vdots \\\\y_{{k,t}}\\end{bmatrix}}={\\begin{bmatrix}c_{{1}}\\\\c_{{2}}\\\\\\vdots \\\\c_{{k}}\\end{bmatrix}}+{\\begin{bmatrix}a_{{1,1}}^{1}&a_{{1,2}}^{1}&\\cdots &a_{{1,k}}^{1}\\\\a_{{2,1}}^{1}&a_{{2,2}}^{1}&\\cdots &a_{{2,k}}^{1}\\\\\\vdots &\\vdots &\\ddots &\\vdots \\\\a_{{k,1}}^{1}&a_{{k,2}}^{1}&\\cdots &a_{{k,k}}^{1}\\end{bmatrix}}{\\begin{bmatrix}y_{{1,t-1}}\\\\y_{{2,t-1}}\\\\\\vdots \\\\y_{{k,t-1}}\\end{bmatrix}}+\\cdots +{\\begin{bmatrix}a_{{1,1}}^{p}&a_{{1,2}}^{p}&\\cdots &a_{{1,k}}^{p}\\\\a_{{2,1}}^{p}&a_{{2,2}}^{p}&\\cdots &a_{{2,k}}^{p}\\\\\\vdots &\\vdots &\\ddots &\\vdots \\\\a_{{k,1}}^{p}&a_{{k,2}}^{p}&\\cdots &a_{{k,k}}^{p}\\end{bmatrix}}{\\begin{bmatrix}y_{{1,t-p}}\\\\y_{{2,t-p}}\\\\\\vdots \\\\y_{{k,t-p}}\\end{bmatrix}}+{\\begin{bmatrix}e_{{1,t}}\\\\e_{{2,t}}\\\\\\vdots \\\\e_{{k,t}}\\end{bmatrix}}$$"
   ]
  },
  {
   "cell_type": "code",
   "execution_count": null,
   "metadata": {
    "collapsed": false
   },
   "outputs": [],
   "source": []
  },
  {
   "cell_type": "code",
   "execution_count": 9,
   "metadata": {
    "collapsed": false
   },
   "outputs": [
    {
     "ename": "LoadError",
     "evalue": "A not defined\nwhile loading In[9], in expression starting on line 1",
     "output_type": "error",
     "traceback": [
      "A not defined\nwhile loading In[9], in expression starting on line 1",
      ""
     ]
    }
   ],
   "source": [
    " mean(A,2)"
   ]
  },
  {
   "cell_type": "code",
   "execution_count": 10,
   "metadata": {
    "collapsed": false
   },
   "outputs": [
    {
     "data": {
      "text/plain": [
       "2x3 Array{Int64,2}:\n",
       " 1  -2  3\n",
       " 2  -4  6"
      ]
     },
     "execution_count": 10,
     "metadata": {},
     "output_type": "execute_result"
    }
   ],
   "source": [
    "A = [1 -2 3; 2 -4 6]\n"
   ]
  },
  {
   "cell_type": "code",
   "execution_count": 11,
   "metadata": {
    "collapsed": false
   },
   "outputs": [
    {
     "data": {
      "text/plain": [
       "least_squares_fit (generic function with 1 method)"
      ]
     },
     "execution_count": 11,
     "metadata": {},
     "output_type": "execute_result"
    }
   ],
   "source": [
    "function applyTransition!(ys::Matrix{Float64}, c::Vector{Float64}, As::Vector{Matrix{Float64}})\n",
    "    yn = c\n",
    "    for t in 1:length(As)\n",
    "        yn+=As[t]*ys[:,end-t+1] \n",
    "    end\n",
    "    \n",
    "    push!(ys,yn)\n",
    "end\n",
    "\n",
    "function least_squares_fit(ys::Matrix, p::Int)\n",
    "    #Each colunmf of ys is a differnt point in time\n",
    "    #Each row of ys is a differen variable\n",
    "    #ys is first observation first\n",
    "    #Y=BZ + U, B= [c A_1 A_2 ...]\n",
    "    nVars, nObservationsTotal = size(ys)\n",
    "    nObservations = nObservationsTotal-p\n",
    "    \n",
    "    Y = ys[:,p+1:end] #end is the most recent observation\n",
    "    Z_col(t) = [1; vec(ys[:, p+t:-1: t+1])]\n",
    "    Z = hcat([Z_col(t) for t in 0:nObservations-1]...)\n",
    "    B̂=Y*Z'*(pinv(Z*Z'))\n",
    "    \n",
    "    Ŷ=B̂*Z\n",
    "    R²=cor(vec(Y),vec(Ŷ))^2\n",
    "        \n",
    "    c=B̂[:,1]\n",
    "    function A(t)\n",
    "        start = 1+(t-1)*nVars\n",
    "        B̂[:,1+start:start+nVars]\n",
    "    end\n",
    "\n",
    "    (c, map(A, 1:p), R²)\n",
    "end"
   ]
  },
  {
   "cell_type": "code",
   "execution_count": 12,
   "metadata": {
    "collapsed": false
   },
   "outputs": [
    {
     "data": {
      "text/plain": [
       "v_motion (generic function with 1 method)"
      ]
     },
     "execution_count": 12,
     "metadata": {},
     "output_type": "execute_result"
    }
   ],
   "source": [
    "function constant_velocity_motion!(ys::Matrix, v::Vector)\n",
    "    yn = ys[:,end].+v + 0.1randn(length(v))\n",
    "    push!(ys,yn)\n",
    "end\n",
    "\n",
    "function motion(ys::Matrix)\n",
    "    #x = ys[1,\n",
    "    #v = ys[2,\n",
    "    #a = ys[3,\n",
    "    A= [1 1 0; 0 1 1; 0 0 1]\n",
    "    yn = A*ys[:,end] + 1*randn(3)\n",
    "    push!(ys,yn)\n",
    "end\n",
    "\n",
    "\n",
    "function v_motion(ys::Matrix)\n",
    "    v = ys[:,end]- ys[:,end-1]\n",
    "    yn = ys[:,end]+v + 0.1randn(length(v))\n",
    "    push!(ys,yn)\n",
    "end"
   ]
  },
  {
   "cell_type": "code",
   "execution_count": 13,
   "metadata": {
    "collapsed": false
   },
   "outputs": [
    {
     "data": {
      "text/plain": [
       "3x51 Array{Float64,2}:\n",
       " 0.414465  10.5495   28.7024   …  12587.8     13112.2     13644.0    \n",
       " 9.76862   17.4398   26.0697        524.56      533.544     543.228  \n",
       " 8.49334    8.76181   8.57035         9.7813     11.0354      9.62079"
      ]
     },
     "execution_count": 13,
     "metadata": {},
     "output_type": "execute_result"
    }
   ],
   "source": [
    "ys = [zeros(3,50) [0; 0; 9.8] ]\n",
    "get_samples!(motion, ys)"
   ]
  },
  {
   "cell_type": "code",
   "execution_count": 14,
   "metadata": {
    "collapsed": false
   },
   "outputs": [
    {
     "data": {
      "text/plain": [
       "([1.45537,1.06361,3.91136],[\n",
       "3x3 Array{Float64,2}:\n",
       "  0.999686    1.0078      -0.202784\n",
       " -8.10083e-5  1.00008      0.911049\n",
       " -7.22222e-5  0.00136896   0.638683],0.9999999139699937)"
      ]
     },
     "execution_count": 14,
     "metadata": {},
     "output_type": "execute_result"
    }
   ],
   "source": [
    "least_squares_fit(ys, 1)"
   ]
  },
  {
   "cell_type": "code",
   "execution_count": null,
   "metadata": {
    "collapsed": false
   },
   "outputs": [],
   "source": []
  },
  {
   "cell_type": "code",
   "execution_count": 15,
   "metadata": {
    "collapsed": false
   },
   "outputs": [
    {
     "name": "stderr",
     "output_type": "stream",
     "text": [
      "/usr/local/lib/python2.7/dist-packages/nltk/app/__init__.py:45: UserWarning: nltk.app.wordfreq not loaded (requires the pylab library).\n",
      "  warnings.warn(\"nltk.app.wordfreq not loaded \"\n"
     ]
    },
    {
     "data": {
      "text/plain": [
       "tokenize (generic function with 1 method)"
      ]
     },
     "execution_count": 15,
     "metadata": {},
     "output_type": "execute_result"
    }
   ],
   "source": [
    "using PyCall\n",
    "@pyimport nltk\n",
    "function tokenize(sentence::String)\n",
    "    convert(Array{String,1},nltk.word_tokenize(sentence))\n",
    "end"
   ]
  },
  {
   "cell_type": "code",
   "execution_count": 16,
   "metadata": {
    "collapsed": false
   },
   "outputs": [
    {
     "data": {
      "text/plain": [
       "3-element Array{Union(ASCIIString,UTF8String),1}:\n",
       " \"/root/buildFromSource/julia/usr/local/share/julia/site/v0.3\"\n",
       " \"/root/buildFromSource/julia/usr/share/julia/site/v0.3\"      \n",
       " \"../word-embeddings2\"                                        "
      ]
     },
     "execution_count": 16,
     "metadata": {},
     "output_type": "execute_result"
    }
   ],
   "source": [
    "push!(LOAD_PATH, \"../word-embeddings2\")"
   ]
  },
  {
   "cell_type": "code",
   "execution_count": 17,
   "metadata": {
    "collapsed": false
   },
   "outputs": [],
   "source": [
    "using WordEmbeddings\n",
    "\n",
    "type WE\n",
    "    L::Matrix{Float64}\n",
    "    word_index::Dict{String,Int}\n",
    "    indexed_words::Vector{String}\n",
    "end\n",
    "\n",
    "\n",
    "we = @pipe load_embeddings(\"../word-embeddings2/embeddings-scaled.EMBEDDING_SIZE=200.txt\") |> WE(_...);\n"
   ]
  },
  {
   "cell_type": "code",
   "execution_count": 18,
   "metadata": {
    "collapsed": false
   },
   "outputs": [
    {
     "data": {
      "text/plain": [
       "get_word_embeddings (generic function with 2 methods)"
      ]
     },
     "execution_count": 18,
     "metadata": {},
     "output_type": "execute_result"
    }
   ],
   "source": [
    "function get_word_index(we::WE, input::String, show_warn=true)\n",
    "    if haskey(we.word_index, input)\n",
    "        ii = we.word_index[input]\n",
    "    elseif haskey(we.word_index, lowercase(input))\n",
    "        ii = we.word_index[lowercase(input)]\n",
    "    else\n",
    "        ii = we.word_index[\"*UNKNOWN*\"]\n",
    "        if show_warn\n",
    "            warn(\"$input not found. Defaulting.\")\n",
    "        end\n",
    "    end\n",
    "    ii\n",
    "end\n",
    "\n",
    "function get_word_embedding(we::WE, input::String, show_warn=true)\n",
    "    k=get_word_index(we, input, show_warn)\n",
    "    we.L[:,k]\n",
    "end\n",
    "\n",
    "function get_word_embeddings(we::WE, input::Vector{String}, show_warn=true)\n",
    "    @pipe input|> map(x->get_word_embedding(we,x, show_warn), _) |> hcat(_...)\n",
    "end\n",
    "\n"
   ]
  },
  {
   "cell_type": "code",
   "execution_count": 19,
   "metadata": {
    "collapsed": true
   },
   "outputs": [],
   "source": [
    "@pyimport nltk.corpus as nltk_corpus\n",
    "n_training = 2000\n",
    "training_sents = @pipe nltk_corpus.brown[:sents]() |> filter(s->20<length(s), _) |> take(_,n_training)  |> collect |> convert(Vector{Vector{String}},_);\n"
   ]
  },
  {
   "cell_type": "code",
   "execution_count": 20,
   "metadata": {
    "collapsed": false,
    "scrolled": true
   },
   "outputs": [],
   "source": [
    "xss = map(x-> get_word_embeddings(we,x, false), training_sents);"
   ]
  },
  {
   "cell_type": "code",
   "execution_count": 21,
   "metadata": {
    "collapsed": false
   },
   "outputs": [
    {
     "data": {
      "text/plain": [
       "multi_least_squares_fit (generic function with 1 method)"
      ]
     },
     "execution_count": 21,
     "metadata": {},
     "output_type": "execute_result"
    }
   ],
   "source": [
    "function multi_least_squares_fit(yss, p::Int)\n",
    "    #Each colunmf of ys is a differnt point in time\n",
    "    #Each row of ys is a differen variable\n",
    "    #ys is first observation first\n",
    "    #Y=BZ + U, B= [c A_1 A_2 ...]\n",
    "    \n",
    "    \n",
    "    function get_model(ys::Matrix)\n",
    "        nVars, nObservationsTotal = size(ys)\n",
    "        nObservations = nObservationsTotal-p\n",
    "        Y = ys[:,p+1:end] #end is the most recent observation\n",
    "        Z_col(t) = [1; vec(ys[:, p+t:-1: t+1])]\n",
    "        Z = hcat([Z_col(t) for t in 0:nObservations-1]...)\n",
    "        Y, Z\n",
    "    end\n",
    "    YZs = map(get_model, yss)\n",
    "    Y=hcat(map(x->x[1],YZs)...)\n",
    "    Z=hcat(map(x->x[2],YZs)...)\n",
    "    B̂=Y*Z'*(pinv(Z*Z'))\n",
    "\n",
    "    Ŷ=B̂*Z\n",
    "    R²=cor(vec(Y),vec(Ŷ))^2\n",
    "        \n",
    "    c=B̂[:,1]\n",
    "    function A(t)\n",
    "        nVars=size(Y,1)\n",
    "        start = 1+(t-1)*nVars\n",
    "        B̂[:,1+start:start+nVars]\n",
    "    end\n",
    "\n",
    "    (c, map(A, 1:p), R²)\n",
    "end"
   ]
  },
  {
   "cell_type": "code",
   "execution_count": 22,
   "metadata": {
    "collapsed": false
   },
   "outputs": [],
   "source": [
    "c,As, RR = multi_least_squares_fit(xss, 2);"
   ]
  },
  {
   "cell_type": "code",
   "execution_count": 23,
   "metadata": {
    "collapsed": false
   },
   "outputs": [
    {
     "data": {
      "text/plain": [
       "0.2552489695639468"
      ]
     },
     "execution_count": 23,
     "metadata": {},
     "output_type": "execute_result"
    }
   ],
   "source": [
    "RR\n"
   ]
  },
  {
   "cell_type": "code",
   "execution_count": null,
   "metadata": {
    "collapsed": true
   },
   "outputs": [],
   "source": []
  }
 ],
 "metadata": {
  "kernelspec": {
   "display_name": "Julia 0.3.8",
   "language": "julia",
   "name": "julia-0.3"
  },
  "language_info": {
   "name": "julia",
   "version": "0.3.9"
  }
 },
 "nbformat": 4,
 "nbformat_minor": 0
}
