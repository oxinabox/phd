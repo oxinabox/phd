{
 "cells": [
  {
   "cell_type": "code",
   "execution_count": 1,
   "metadata": {
    "collapsed": true
   },
   "outputs": [],
   "source": [
    "using Iterators\n",
    "using Pipe\n",
    "\n",
    "macro hcat(expr)\n",
    "    :(hcat($expr...))\n",
    "end\n",
    "macro vcat(expr)\n",
    "    :(vcat($expr...))\n",
    "end\n",
    "\n",
    "\n",
    "\n",
    "macro printval(ee)\n",
    "    ee_expr = @sprintf \"%s\" string(ee)\n",
    "    esc(:(println($ee_expr,\" = \", $ee)))\n",
    "end\n",
    "\n",
    "macro pz(ee)\n",
    "    ee_expr = @sprintf \"%s\" string(ee)\n",
    "    esc(:(println($ee_expr,\"\\t\\t\",typeof($ee), \"\\t\", size($ee))))\n",
    "end"
   ]
  },
  {
   "cell_type": "code",
   "execution_count": 2,
   "metadata": {
    "collapsed": false
   },
   "outputs": [],
   "source": [
    "using StatsBase\n",
    "using SpecialMatrices"
   ]
  },
  {
   "cell_type": "code",
   "execution_count": 3,
   "metadata": {
    "collapsed": false
   },
   "outputs": [
    {
     "data": {
      "text/plain": [
       "push! (generic function with 32 methods)"
      ]
     },
     "execution_count": 3,
     "metadata": {},
     "output_type": "execute_result"
    }
   ],
   "source": [
    "import Base.push!\n",
    "function push!(X::Matrix, x::Vector)\n",
    "    ncols = size(X, 2)\n",
    "    for col=2:ncols\n",
    "        X[:, col-1] = X[:, col]\n",
    "    end\n",
    "    X[:,end]=x\n",
    "    X\n",
    "end"
   ]
  },
  {
   "cell_type": "code",
   "execution_count": 4,
   "metadata": {
    "collapsed": false
   },
   "outputs": [
    {
     "data": {
      "text/plain": [
       "5-element Array{Float64,1}:\n",
       " -0.89826  \n",
       "  0.0356721\n",
       "  1.004    \n",
       " -0.127453 \n",
       "  0.457552 "
      ]
     },
     "execution_count": 4,
     "metadata": {},
     "output_type": "execute_result"
    }
   ],
   "source": [
    "randn(5)"
   ]
  },
  {
   "cell_type": "code",
   "execution_count": null,
   "metadata": {
    "collapsed": false
   },
   "outputs": [],
   "source": []
  },
  {
   "cell_type": "code",
   "execution_count": null,
   "metadata": {
    "collapsed": false
   },
   "outputs": [],
   "source": []
  },
  {
   "cell_type": "code",
   "execution_count": 5,
   "metadata": {
    "collapsed": false
   },
   "outputs": [
    {
     "data": {
      "text/plain": [
       "lab2_ar_signal! (generic function with 1 method)"
      ]
     },
     "execution_count": 5,
     "metadata": {},
     "output_type": "execute_result"
    }
   ],
   "source": [
    "function random_walk1!(xs::Matrix)\n",
    "    step = rand(-1:1,size(xs,1))\n",
    "    new_x = xs[:,end]+step\n",
    "    push!(xs,new_x)\n",
    "end\n",
    "\n",
    "function lab2_ar_signal!(xs)\n",
    "    u = randn(size(xs,1))\n",
    "    new_x = 1.8xs[end]-0.81xs[end-1]+0.1u\n",
    "    push!(xs,new_x)\n",
    "end\n"
   ]
  },
  {
   "cell_type": "code",
   "execution_count": 6,
   "metadata": {
    "collapsed": false
   },
   "outputs": [
    {
     "data": {
      "text/plain": [
       "get_samples (generic function with 2 methods)"
      ]
     },
     "execution_count": 6,
     "metadata": {},
     "output_type": "execute_result"
    }
   ],
   "source": [
    "function get_samples!(transfer!::Function, xs::Matrix)\n",
    "    for _ in 1:size(xs,2)\n",
    "        transfer!(xs)\n",
    "    end\n",
    "    xs\n",
    "end\n",
    "function get_samples(transfer!::Function, n::Int, k::Int=1)\n",
    "    xs = zeros(k,n)\n",
    "    get_samples!(transfer!,xs)\n",
    "end"
   ]
  },
  {
   "cell_type": "code",
   "execution_count": null,
   "metadata": {
    "collapsed": true
   },
   "outputs": [],
   "source": []
  },
  {
   "cell_type": "code",
   "execution_count": 7,
   "metadata": {
    "collapsed": false
   },
   "outputs": [
    {
     "data": {
      "text/plain": [
       "yule_walker_fit_AR (generic function with 1 method)"
      ]
     },
     "execution_count": 7,
     "metadata": {},
     "output_type": "execute_result"
    }
   ],
   "source": [
    "function yule_walker_fit_AR(xs::Vector, p::Int)\n",
    "    γ=autocor(xs,0:p,demean=true)\n",
    "    γ_sym = [γ[end:-1:1], γ[2:end]] #Autocovarience is syemtrical about zero\n",
    "    Γ = Toeplitz(γ_sym[2:end-1])  #Don't use p and -p indexes, in the gamma\n",
    "    full(Γ)\\γ[2:end]\n",
    "end"
   ]
  },
  {
   "cell_type": "code",
   "execution_count": 8,
   "metadata": {
    "collapsed": false
   },
   "outputs": [
    {
     "data": {
      "text/plain": [
       "2-element Array{Float64,1}:\n",
       "  1.43565 \n",
       " -0.465236"
      ]
     },
     "execution_count": 8,
     "metadata": {},
     "output_type": "execute_result"
    }
   ],
   "source": [
    "xs = get_samples(lab2_ar_signal!,100)[:];\n",
    "yule_walker_fit_AR(xs, 2)"
   ]
  },
  {
   "cell_type": "code",
   "execution_count": null,
   "metadata": {
    "collapsed": false
   },
   "outputs": [],
   "source": []
  },
  {
   "cell_type": "code",
   "execution_count": null,
   "metadata": {
    "collapsed": true
   },
   "outputs": [],
   "source": []
  },
  {
   "cell_type": "markdown",
   "metadata": {},
   "source": [
    "$$y_{t}=c+A_{1}y_{{t-1}}+A_{2}y_{{t-2}}+\\cdots +A_{p}y_{{t-p}}+e_{t},\\,$$\n",
    "\n",
    "Where each $y_i$ is a vector of length $k$ and each $A_i$ is a $k × k$ matrix.\n",
    "\n",
    "$${\\begin{bmatrix}y_{{1,t}}\\\\y_{{2,t}}\\\\\\vdots \\\\y_{{k,t}}\\end{bmatrix}}={\\begin{bmatrix}c_{{1}}\\\\c_{{2}}\\\\\\vdots \\\\c_{{k}}\\end{bmatrix}}+{\\begin{bmatrix}a_{{1,1}}^{1}&a_{{1,2}}^{1}&\\cdots &a_{{1,k}}^{1}\\\\a_{{2,1}}^{1}&a_{{2,2}}^{1}&\\cdots &a_{{2,k}}^{1}\\\\\\vdots &\\vdots &\\ddots &\\vdots \\\\a_{{k,1}}^{1}&a_{{k,2}}^{1}&\\cdots &a_{{k,k}}^{1}\\end{bmatrix}}{\\begin{bmatrix}y_{{1,t-1}}\\\\y_{{2,t-1}}\\\\\\vdots \\\\y_{{k,t-1}}\\end{bmatrix}}+\\cdots +{\\begin{bmatrix}a_{{1,1}}^{p}&a_{{1,2}}^{p}&\\cdots &a_{{1,k}}^{p}\\\\a_{{2,1}}^{p}&a_{{2,2}}^{p}&\\cdots &a_{{2,k}}^{p}\\\\\\vdots &\\vdots &\\ddots &\\vdots \\\\a_{{k,1}}^{p}&a_{{k,2}}^{p}&\\cdots &a_{{k,k}}^{p}\\end{bmatrix}}{\\begin{bmatrix}y_{{1,t-p}}\\\\y_{{2,t-p}}\\\\\\vdots \\\\y_{{k,t-p}}\\end{bmatrix}}+{\\begin{bmatrix}e_{{1,t}}\\\\e_{{2,t}}\\\\\\vdots \\\\e_{{k,t}}\\end{bmatrix}}$$"
   ]
  },
  {
   "cell_type": "code",
   "execution_count": null,
   "metadata": {
    "collapsed": false
   },
   "outputs": [],
   "source": []
  },
  {
   "cell_type": "code",
   "execution_count": 81,
   "metadata": {
    "collapsed": false
   },
   "outputs": [
    {
     "data": {
      "text/plain": [
       "2x1 Array{Float64,2}:\n",
       " 0.666667\n",
       " 1.33333 "
      ]
     },
     "execution_count": 81,
     "metadata": {},
     "output_type": "execute_result"
    }
   ],
   "source": [
    " mean(A,2)"
   ]
  },
  {
   "cell_type": "code",
   "execution_count": 86,
   "metadata": {
    "collapsed": false
   },
   "outputs": [
    {
     "data": {
      "text/plain": [
       "2x1 Array{Float64,2}:\n",
       " 12.6667\n",
       " 50.6667"
      ]
     },
     "execution_count": 86,
     "metadata": {},
     "output_type": "execute_result"
    }
   ],
   "source": [
    "A = [1 -2 3; 2 -4 6]\n"
   ]
  },
  {
   "cell_type": "code",
   "execution_count": 107,
   "metadata": {
    "collapsed": false
   },
   "outputs": [
    {
     "data": {
      "text/plain": [
       "least_squares_fit (generic function with 1 method)"
      ]
     },
     "execution_count": 107,
     "metadata": {},
     "output_type": "execute_result"
    }
   ],
   "source": [
    "function applyTransition!(ys::Matrix{Float64}, c::Vector{Float64}, As::Vector{Matrix{Float64}})\n",
    "    yn = c\n",
    "    for t in 1:length(As)\n",
    "        yn+=As[t]*ys[:,end-t+1] \n",
    "    end\n",
    "    \n",
    "    push!(ys,yn)\n",
    "end\n",
    "\n",
    "function least_squares_fit(ys::Matrix, p::Int)\n",
    "    #Each colunmf of ys is a differnt point in time\n",
    "    #Each row of ys is a differen variable\n",
    "    #ys is first observation first\n",
    "    #Y=BZ + U, B= [c A_1 A_2 ...]\n",
    "    nVars, nObservationsTotal = size(ys)\n",
    "    nObservations = nObservationsTotal-p\n",
    "    \n",
    "    Y = ys[:,p+1:end] #end is the most recent observation\n",
    "    Z_col(t) = [1; vec(ys[:, p+t:-1: t+1])]\n",
    "    Z = hcat([Z_col(t) for t in 0:nObservations-1]...)\n",
    "    B̂=Y*Z'*(pinv(Z*Z'))\n",
    "    \n",
    "    Ŷ=B̂*Z\n",
    "    \n",
    "    R²=cor(vec(Y),vec(Ŷ))\n",
    "    \n",
    "    \n",
    "    \n",
    "    c=B̂[:,1]\n",
    "    function A(t)\n",
    "        start = 1+(t-1)*nVars\n",
    "        B̂[:,1+start:start+nVars]\n",
    "    end\n",
    "\n",
    "    (c, map(A, 1:p), R²)\n",
    "end"
   ]
  },
  {
   "cell_type": "code",
   "execution_count": 108,
   "metadata": {
    "collapsed": false
   },
   "outputs": [
    {
     "data": {
      "text/plain": [
       "v_motion (generic function with 1 method)"
      ]
     },
     "execution_count": 108,
     "metadata": {},
     "output_type": "execute_result"
    }
   ],
   "source": [
    "function constant_velocity_motion!(ys::Matrix, v::Vector)\n",
    "    yn = ys[:,end].+v + 0.1randn(length(v))\n",
    "    push!(ys,yn)\n",
    "end\n",
    "\n",
    "function motion(ys::Matrix)\n",
    "    #x = ys[1,\n",
    "    #v = ys[2,\n",
    "    #a = ys[3,\n",
    "    A= [1 1 0; 0 1 1; 0 0 1]\n",
    "    yn = A*ys[:,end] + 1*randn(3)\n",
    "    push!(ys,yn)\n",
    "end\n",
    "\n",
    "\n",
    "function v_motion(ys::Matrix)\n",
    "    v = ys[:,end]- ys[:,end-1]\n",
    "    yn = ys[:,end]+v + 0.1randn(length(v))\n",
    "    push!(ys,yn)\n",
    "end"
   ]
  },
  {
   "cell_type": "code",
   "execution_count": 109,
   "metadata": {
    "collapsed": false
   },
   "outputs": [
    {
     "data": {
      "text/plain": [
       "3x51 Array{Float64,2}:\n",
       " 0.228328   7.73323  28.1418   55.5101  …  11019.8     11507.3    12005.8   \n",
       " 9.0077    20.553    27.6735   37.9661       486.958     498.456    511.484 \n",
       " 9.60983    9.29177   8.73491  10.0202        12.4793     12.02      11.6094"
      ]
     },
     "execution_count": 109,
     "metadata": {},
     "output_type": "execute_result"
    }
   ],
   "source": [
    "ys = [zeros(3,50) [0; 0; 9.8] ]\n",
    "get_samples!(motion, ys)"
   ]
  },
  {
   "cell_type": "code",
   "execution_count": 110,
   "metadata": {
    "collapsed": false
   },
   "outputs": [
    {
     "data": {
      "text/plain": [
       "([0.627606,2.78209,4.32971],[\n",
       "3x3 Array{Float64,2}:\n",
       " 1.00018       0.996915     -0.0571158\n",
       " 0.00042191    0.991183      0.773021 \n",
       " 0.000195762  -0.000524146   0.509764 ],0.9999999450115649)"
      ]
     },
     "execution_count": 110,
     "metadata": {},
     "output_type": "execute_result"
    }
   ],
   "source": [
    "least_squares_fit(ys, 1)"
   ]
  },
  {
   "cell_type": "code",
   "execution_count": null,
   "metadata": {
    "collapsed": false
   },
   "outputs": [],
   "source": []
  },
  {
   "cell_type": "code",
   "execution_count": 111,
   "metadata": {
    "collapsed": false
   },
   "outputs": [
    {
     "data": {
      "text/plain": [
       "tokenize (generic function with 1 method)"
      ]
     },
     "execution_count": 111,
     "metadata": {},
     "output_type": "execute_result"
    }
   ],
   "source": [
    "using PyCall\n",
    "@pyimport nltk\n",
    "function tokenize(sentence::String)\n",
    "    convert(Array{String,1},nltk.word_tokenize(sentence))\n",
    "end"
   ]
  },
  {
   "cell_type": "code",
   "execution_count": 16,
   "metadata": {
    "collapsed": false
   },
   "outputs": [
    {
     "data": {
      "text/plain": [
       "3-element Array{Union(ASCIIString,UTF8String),1}:\n",
       " \"/root/buildFromSource/julia/usr/local/share/julia/site/v0.3\"\n",
       " \"/root/buildFromSource/julia/usr/share/julia/site/v0.3\"      \n",
       " \"../word-embeddings2\"                                        "
      ]
     },
     "execution_count": 16,
     "metadata": {},
     "output_type": "execute_result"
    }
   ],
   "source": [
    "push!(LOAD_PATH, \"../word-embeddings2\")"
   ]
  },
  {
   "cell_type": "code",
   "execution_count": 33,
   "metadata": {
    "collapsed": false
   },
   "outputs": [],
   "source": [
    "using WordEmbeddings\n",
    "\n",
    "type WE\n",
    "    L::Matrix{Float64}\n",
    "    word_index::Dict{String,Int}\n",
    "    indexed_words::Vector{String}\n",
    "end\n",
    "\n",
    "\n",
    "we = @pipe load_embeddings(\"../word-embeddings2/embeddings-scaled.EMBEDDING_SIZE=50.txt\") |> WE(_...);\n"
   ]
  },
  {
   "cell_type": "code",
   "execution_count": 38,
   "metadata": {
    "collapsed": false
   },
   "outputs": [
    {
     "data": {
      "text/plain": [
       "get_word_embedding (generic function with 2 methods)"
      ]
     },
     "execution_count": 38,
     "metadata": {},
     "output_type": "execute_result"
    }
   ],
   "source": [
    "function get_word_index(we::WE, input::String, show_warn=true)\n",
    "    if haskey(we.word_index, input)\n",
    "        ii = we.word_index[input]\n",
    "    elseif haskey(we.word_index, lowercase(input))\n",
    "        ii = we.word_index[lowercase(input)]\n",
    "    else\n",
    "        ii = we.word_index[\"*UNKNOWN*\"]\n",
    "        if show_warn\n",
    "            println(\"$input not found. Defaulting.\")\n",
    "        end\n",
    "    end\n",
    "    ii\n",
    "end\n",
    "\n",
    "function get_word_embedding(we::WE, input::String, show_warn=true)\n",
    "    k=get_word_index(we, input, show_warn)\n",
    "    we.L[:,k]\n",
    "end"
   ]
  },
  {
   "cell_type": "code",
   "execution_count": 41,
   "metadata": {
    "collapsed": false
   },
   "outputs": [
    {
     "data": {
      "text/plain": [
       "50-element Array{Float64,1}:\n",
       " -0.213371 \n",
       "  0.217116 \n",
       "  0.0214932\n",
       "  0.299436 \n",
       " -0.0970451\n",
       " -0.693677 \n",
       " -0.045795 \n",
       " -0.124475 \n",
       "  0.146582 \n",
       "  0.0791667\n",
       "  0.452753 \n",
       " -0.11888  \n",
       " -0.400949 \n",
       "  ⋮        \n",
       " -0.347061 \n",
       "  0.261798 \n",
       "  0.41213  \n",
       " -0.157424 \n",
       "  0.0807169\n",
       "  0.151612 \n",
       "  0.0924173\n",
       "  0.462194 \n",
       "  0.143379 \n",
       " -0.131027 \n",
       " -0.621829 \n",
       " -0.251187 "
      ]
     },
     "execution_count": 41,
     "metadata": {},
     "output_type": "execute_result"
    }
   ],
   "source": [
    "get_word_embedding(we,\"Mike\")"
   ]
  },
  {
   "cell_type": "code",
   "execution_count": 62,
   "metadata": {
    "collapsed": true
   },
   "outputs": [],
   "source": [
    "@pyimport nltk.corpus as nltk_corpus\n",
    "n_training = 10\n",
    "training_sents = @pipe nltk_corpus.brown[:sents]() |> filter(s->20<length(s), _) |> take(_,n_training)  |> collect |> convert(Vector{Vector{String}},_);\n"
   ]
  },
  {
   "cell_type": "code",
   "execution_count": 66,
   "metadata": {
    "collapsed": false,
    "scrolled": true
   },
   "outputs": [
    {
     "name": "stdout",
     "output_type": "stream",
     "text": [
      "sent => String[\"The\",\"September-October\",\"term\",\"jury\",\"had\",\"been\",\"charged\",\"by\",\"Fulton\",\"Superior\",\"Court\",\"Judge\",\"Durwood\",\"Pye\",\"to\",\"investigate\",\"reports\",\"of\",\"possible\",\"``\",\"irregularities\",\"''\",\"in\",\"the\",\"hard-fought\",\"primary\",\"which\",\"was\",\"won\",\"by\",\"Mayor-nominate\",\"Ivan\",\"Allen\",\"Jr.\",\".\"]\n",
      "Durwood not found. Defaulting.\n",
      "Mayor-nominate not found. Defaulting.\n"
     ]
    },
    {
     "data": {
      "text/plain": [
       "50x35 Array{Float64,2}:\n",
       " -0.38772    -0.0110013   …  -0.126184    0.126776    -1.29578  \n",
       " -0.107298    0.0320611       0.181705    0.165743     0.104425 \n",
       " -0.672488    0.00225346      0.33285     0.222661     0.0333433\n",
       " -0.356949    0.265144        0.0761791  -0.360137    -0.123819 \n",
       "  0.253885    0.0381752       0.115926    0.00942884  -0.205738 \n",
       "  0.181825   -0.0312634   …  -0.0384258   0.148997    -0.91893  \n",
       " -0.0745201   0.089455       -0.0767285  -0.00293289   0.33767  \n",
       " -0.36416    -0.0121613      -0.245524   -0.0592487   -1.35253  \n",
       " -0.61281    -0.0939935      -0.14852     0.0500138    0.0627508\n",
       " -0.328352   -0.0362206      -0.334763   -0.152738    -0.706524 \n",
       "  0.107519   -0.133737    …   0.327445    0.0368522    0.313866 \n",
       "  0.221072    0.2051         -0.0653426  -0.147301    -0.206052 \n",
       "  0.0382774   0.0934149      -0.284551   -0.438393    -0.414846 \n",
       "  ⋮                       ⋱                                     \n",
       "  0.117019   -0.0661868      -0.282627    0.0509204    0.511014 \n",
       "  0.193923   -0.0707593       0.457321    0.0980688    0.461899 \n",
       " -0.184086    0.0476851   …   0.380214    0.255511    -0.684763 \n",
       "  0.31463     0.103598       -0.0540919  -0.285033    -0.695711 \n",
       "  1.25017     0.0823716       0.0642426  -0.0700077    0.329106 \n",
       "  0.458052    0.0987508      -0.0723337   0.0878154    0.569732 \n",
       "  0.289577    0.144518        0.324078   -0.132859     0.378028 \n",
       "  0.718878   -0.172617    …   0.0596607  -0.156272    -0.197559 \n",
       "  0.505266   -0.0234457       0.0614836   0.181447     0.162349 \n",
       " -1.02026     0.130369       -0.0268151  -0.097497    -0.285262 \n",
       " -0.1513      0.176311       -0.160598    0.277129    -0.228528 \n",
       "  0.560045    0.0127988      -0.179533    0.205894     0.0252666"
      ]
     },
     "execution_count": 66,
     "metadata": {},
     "output_type": "execute_result"
    }
   ],
   "source": [
    "sent =  training_sents[3] \n",
    "@show sent\n",
    "xs = @pipe sent|> map(x->get_word_embedding(we,x), _) |> hcat(_...)"
   ]
  },
  {
   "cell_type": "code",
   "execution_count": 113,
   "metadata": {
    "collapsed": false
   },
   "outputs": [
    {
     "data": {
      "text/plain": [
       "([0.236132,0.198331,-0.283258,0.0984244,0.684315,0.232979,-0.204118,-0.312682,0.0548677,-0.051552  …  -0.205972,0.176683,0.334591,0.401038,0.118087,0.139996,-0.0719572,-0.215843,-0.188824,0.262566],[\n",
       "50x50 Array{Float64,2}:\n",
       " -0.0222117   -0.269948    -0.178287     …   0.107925   -0.0108497 \n",
       " -0.0608238    0.046578    -0.0207793        0.0518733   0.00111753\n",
       "  0.0656127    0.199868    -0.034913        -0.0711759   4.95184e-5\n",
       " -0.0131257    0.0263597    0.0316139        0.0379679  -0.0841863 \n",
       " -0.108119    -0.161893     0.000763189      0.0608917   0.0410824 \n",
       " -0.101278    -0.11377     -0.114181     …   0.129167   -0.0666931 \n",
       "  0.163395     0.085619     0.0220293        0.0515453   0.0344129 \n",
       " -0.0326935   -0.0227812   -0.202176        -0.0906343  -0.0686455 \n",
       "  0.0951928   -0.0902885    0.094196         0.152892    0.0796045 \n",
       " -0.0686583   -0.119914    -0.0135478       -0.0659156   0.0189067 \n",
       "  0.190976     0.152783    -0.00633757   …  -0.0622457   0.0331395 \n",
       " -0.146881    -0.14198     -0.0139405        0.0159588  -0.00114251\n",
       "  0.00945398   0.00122841  -0.0547174        0.0297942  -0.01437   \n",
       "  ⋮                                      ⋱                         \n",
       " -0.0369742    0.0806947    0.106259        -0.0474088   0.0299302 \n",
       "  0.0652584    0.25131     -0.16177          0.0648228   0.0283945 \n",
       "  0.0668196    0.126017    -0.0863068    …  -0.0977301  -0.106201  \n",
       " -0.269305    -0.117612     0.050815        -0.115234   -0.0564098 \n",
       " -0.0840898   -0.0338719    0.0119793        0.0702562   0.0593641 \n",
       "  0.116631    -0.17487      0.0578057        0.068474    0.0774232 \n",
       " -0.035705     0.118114    -0.0391475       -0.0506102  -0.0352251 \n",
       "  0.00987941  -0.0750787   -0.256594     …   0.103729    0.0721316 \n",
       " -0.0359173   -0.00799431  -0.0615286        0.0447271  -0.0635683 \n",
       "  0.0776737    0.0516037    0.0923377       -0.106904    0.0959758 \n",
       " -0.116972     0.0500111   -0.0183617       -0.0722588   0.0266714 \n",
       "  0.00138687  -0.158451     0.13766         -0.0280182   0.0129658 ,\n",
       "\n",
       "50x50 Array{Float64,2}:\n",
       "  0.180763     0.0333167   -0.10707     …   0.0430954   -0.0683937 \n",
       " -0.0150698    0.0656993    0.153597       -0.00811255  -0.0386033 \n",
       " -0.182846     0.078701    -0.0117865      -0.109868    -0.0840826 \n",
       "  0.0132507   -0.131125    -0.0942764       0.155147     0.1238    \n",
       "  0.0340089    0.00089366   0.0738981      -0.0204097    0.098197  \n",
       "  0.10882      0.0582403   -0.0699672   …   0.00959568  -0.0291113 \n",
       " -0.207471    -0.0403168   -0.0663195      -0.137497    -0.0974168 \n",
       "  0.0594564   -0.0153473   -0.190093       -0.0148337   -0.0850135 \n",
       " -0.00807497   0.0623997    0.0114503       0.0453713    0.00957608\n",
       "  0.0413797   -0.0192578   -0.0493516      -0.0327527   -0.090855  \n",
       " -0.14276      0.0864932    0.0320426   …  -0.031546     0.0179575 \n",
       "  0.0232523   -0.00964069   0.0552016       0.0193331    0.0424527 \n",
       " -0.0614474   -0.0946935   -0.0884661      -0.0119057   -0.0795409 \n",
       "  ⋮                                     ⋱                          \n",
       "  0.00404432   0.00295654   0.0216283       0.0310242    0.0732483 \n",
       " -0.267153     0.198451    -0.00753        -0.0372679   -0.0193656 \n",
       " -0.023009     0.0524487   -0.172019    …  -0.0180958   -0.108698  \n",
       "  0.194111    -0.211047    -0.0195028      -0.0342037    0.163005  \n",
       " -0.0977405    0.0284646    0.178577       -0.0626878   -0.0440957 \n",
       "  0.103136     0.13811      0.0802771       0.146596     0.095423  \n",
       " -0.0224737   -0.0357831    0.00390508     -0.00074462   0.149114  \n",
       " -0.0647929    0.11066      0.0499016   …  -0.0202316   -0.0881143 \n",
       "  0.0480469   -0.0257144   -0.0712474       0.0356312   -0.01118   \n",
       "  0.07925     -0.0504454   -0.0130471      -0.105218     0.0388872 \n",
       "  0.00924522   0.0954147    0.100985       -0.150011    -0.0950521 \n",
       "  0.0952746   -0.0574308    0.0160063       0.00278806  -0.0222645 ],1.0)"
      ]
     },
     "execution_count": 113,
     "metadata": {},
     "output_type": "execute_result"
    }
   ],
   "source": [
    "least_squares_fit(xs, 1)"
   ]
  },
  {
   "cell_type": "code",
   "execution_count": null,
   "metadata": {
    "collapsed": true
   },
   "outputs": [],
   "source": [
    "function multi_least_squares_fit(ys::Matrix, p::Int)\n",
    "    #Each colunmf of ys is a differnt point in time\n",
    "    #Each row of ys is a differen variable\n",
    "    #ys is first observation first\n",
    "    #Y=BZ + U, B= [c A_1 A_2 ...]\n",
    "   \n",
    "end"
   ]
  }
 ],
 "metadata": {
  "kernelspec": {
   "display_name": "Julia 0.3.8",
   "language": "julia",
   "name": "julia-0.3"
  },
  "language_info": {
   "name": "julia",
   "version": "0.3.9"
  }
 },
 "nbformat": 4,
 "nbformat_minor": 0
}
