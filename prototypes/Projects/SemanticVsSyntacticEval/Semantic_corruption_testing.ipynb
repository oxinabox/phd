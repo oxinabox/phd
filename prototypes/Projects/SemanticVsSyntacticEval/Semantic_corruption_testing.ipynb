{
 "cells": [
  {
   "cell_type": "markdown",
   "metadata": {},
   "source": [
    "I have a prototype of they system for corrupting sentences, for different semantic meaning:\n",
    "\n",
    "My process is:\n",
    "\n",
    "1. Tokenize the sentence (Currently using the NLTK regex tokenizer, it seem sufficient)\n",
    "2. Parts of Speech tag (Currently using the Stanford POS Tagger (via NLTK))\n",
    "3. For each word that is not blacklisted (I have blacklisted \"had\", \"were\", \"have\", \"was\", and \"be\", as they are unusual verbs with strange antoymns, further more the are rather syntatic)\n",
    "        1. Use WordNet to find antonyms of the same POS tag  (So \"race\" (Noun, as in a competition) has no antonyms, but \"race\" (Verb, to race the train) has \"linger\" as an antonym.\n",
    "        2. Unstem: WordNet stemming/lemmaisation (of the antonym) removes Tense, Plurality, comparativeness, and superlativeness, so I make use of the POS tag of the original to work those out, then restore them using the Pattern library's tools for this (http://jmlr.csail.mit.edu/papers/volume13/desmedt12a/desmedt12a.pdf)\n",
    "        3. I remove any suggested antonyms that are short phrases (eg Wordnet suggests that \"take_away\" is an antonym of \"add\", however as adding a work word change the structure of the sentence.)\n",
    "        4. select one randomly if there are multiple.\n",
    "4. I incrementally subsitute one addional antynym until I have run out of words with antonys, saving the sentence at each step. (What I'm currentl;y callign each sentence of different corruption level)\n",
    "5. I repair the indefinite articles ('an' vs 'a')\n",
    "\n",
    "I can check the final sentence by sending it through the POS tagger and seeing if I get the same tags.\n",
    "This is not perfect. Its not bad though.\n",
    "It got a lot better when I changed to using the Stanford POS tagger, as it was more able to tag and retag correctly and thus was most consistent.\n",
    "\n",
    "The whole method is very heurustic.\n",
    "It's not too bad but makes a lot of unnatural sounding sentences.\n",
    "And will sometimes choose the wrong antonym.\n",
    "\n",
    "For example stating with the sentence:\n",
    " - It's not too bad but makes a lot of unnatural sounding sentences.\n",
    " - It 's not too unregretful but makes a lot of unnatural sounding sentences.\n",
    " - It 's not too unregretful but makes a lot of unnatural devoicing sentences.\n",
    " - It 's not too unregretful but makes a lot of unaffected devoicing sentences.\n",
    " - It 's not too unregretful but makes a lot of unaffected devoicing acquittals."
   ]
  },
  {
   "cell_type": "code",
   "execution_count": 1,
   "metadata": {
    "collapsed": false
   },
   "outputs": [],
   "source": [
    "from SemanticCorruption import *"
   ]
  },
  {
   "cell_type": "code",
   "execution_count": 2,
   "metadata": {
    "collapsed": false
   },
   "outputs": [],
   "source": [
    "from nltk.corpus import wordnet as wn\n",
    "import pattern.en as en"
   ]
  },
  {
   "cell_type": "code",
   "execution_count": 3,
   "metadata": {
    "collapsed": false
   },
   "outputs": [],
   "source": [
    "sents = [\"It's not too bad but makes a lot of unnatural sounding sentences.\",\n",
    "'A Washington County man may have the countys first human case of West Nile virus, the health department said Friday',\n",
    "\"It was a dusty, dry, hot day, and the flys were buzzing.\",\n",
    "\"The article is the most common determiner (DT) in English.\",\n",
    "\"We may have a question\",\n",
    "\"Is changing an odd number of verbs, adverbs, adjectives and nouns to their antonyms expected to produce a semantically distant sentence?\",\n",
    "\"Both gerunds and infinitives can be used as the subject or the complement of a sentence.\",\n",
    "\"Shares of Xoma fell 16 percent in early trade, while shares of Genentech, a much larger company with several products on the market, were up 2 percent.\",\n",
    "\"Six months ago, the IMF and Argentina struck a bare-minimum $6.8-billion debt rollover deal that expires in August.\",\n",
    "\"He plans to have dinner with troops at Kosovo's U.S. military headquarters, Camp Bondsteel.\",\n",
    "\"After that, he plans to have dinner at Camp Bondsteel with U.S. troops stationed there.\",\n",
    "\"He added that prosecutors will seek the death penalty.\",\n",
    "\"Who is this man?\",\n",
    "\"Who is that man?\",\n",
    "\"This evil thief stole that car!\",\n",
    "\"The motorist is angry, so the pedestrian is understandably scared\",\n",
    "\"The hero was brave, he defeated the dragon.\",\n",
    "\"The villian was cowardly, he was slain by the dragon.\",\n",
    "\"War and Peace opens in the Russian city of St. Petersburg in 1805, as Napoleon's conquest of western Europe is just beginning to stir fears in Russia.\",\n",
    "        ]"
   ]
  },
  {
   "cell_type": "code",
   "execution_count": 16,
   "metadata": {
    "collapsed": true
   },
   "outputs": [],
   "source": [
    "def leveled_semantic_corrupt_verb_antonym_sentences(sent):\n",
    "    return leveled_semantic_corrupt_sentences(sent, get_verb_antos)\n",
    "\n",
    "def leveled_semantic_corrupt_noun_synonym_sentences(sent):\n",
    "    return leveled_semantic_corrupt_sentences(sent, get_noun_synonyms)"
   ]
  },
  {
   "cell_type": "code",
   "execution_count": 4,
   "metadata": {
    "collapsed": true
   },
   "outputs": [],
   "source": []
  },
  {
   "cell_type": "code",
   "execution_count": 17,
   "metadata": {
    "collapsed": false
   },
   "outputs": [
    {
     "name": "stdout",
     "output_type": "stream",
     "text": [
      "It's not too bad but makes a lot of unnatural sounding sentences.\n",
      "It 's not too bad but makes a lot of unnatural devoicing sentences .\n",
      "--------------------------------------------------\n",
      "A Washington County man may have the countys first human case of West Nile virus, the health department said Friday\n",
      "\n",
      "--------------------------------------------------\n",
      "It was a dusty, dry, hot day, and the flys were buzzing.\n",
      "\n",
      "--------------------------------------------------\n",
      "The article is the most common determiner (DT) in English.\n",
      "\n",
      "--------------------------------------------------\n",
      "We may have a question\n",
      "\n",
      "--------------------------------------------------\n",
      "Is changing an odd number of verbs, adverbs, adjectives and nouns to their antonyms expected to produce a semantically distant sentence?\n",
      "Is staying an odd number of verbs , adverbs , adjectives and nouns to their antonyms expected to produce a semantically distant sentence ?\n",
      "--------------------------------------------------\n",
      "Both gerunds and infinitives can be used as the subject or the complement of a sentence.\n",
      "\n",
      "--------------------------------------------------\n",
      "Shares of Xoma fell 16 percent in early trade, while shares of Genentech, a much larger company with several products on the market, were up 2 percent.\n",
      "Shares of Xoma increased 16 percent in early trade , while shares of Genentech , a much larger company with several products on the market , were up 2 percent .\n",
      "--------------------------------------------------\n",
      "Six months ago, the IMF and Argentina struck a bare-minimum $6.8-billion debt rollover deal that expires in August.\n",
      "Six months ago , the IMF and Argentina missed a bare-minimum $ 6.8-billion debt rollover deal that expires in August .\n",
      "--------------------------------------------------\n",
      "He plans to have dinner with troops at Kosovo's U.S. military headquarters, Camp Bondsteel.\n",
      "\n",
      "--------------------------------------------------\n",
      "After that, he plans to have dinner at Camp Bondsteel with U.S. troops stationed there.\n",
      "\n",
      "--------------------------------------------------\n",
      "He added that prosecutors will seek the death penalty.\n",
      "He subtracted that prosecutors will seek the death penalty .\n",
      "--------------------------------------------------\n",
      "Who is this man?\n",
      "\n",
      "--------------------------------------------------\n",
      "Who is that man?\n",
      "\n",
      "--------------------------------------------------\n",
      "This evil thief stole that car!\n",
      "\n",
      "--------------------------------------------------\n",
      "The motorist is angry, so the pedestrian is understandably scared\n",
      "\n",
      "--------------------------------------------------\n",
      "The hero was brave, he defeated the dragon.\n",
      "\n",
      "--------------------------------------------------\n",
      "The villian was cowardly, he was slain by the dragon.\n",
      "\n",
      "--------------------------------------------------\n",
      "War and Peace opens in the Russian city of St. Petersburg in 1805, as Napoleon's conquest of western Europe is just beginning to stir fears in Russia.\n",
      "War and Peace opens in the Russian city of St. Petersburg in 1805 , as Napoleon 's conquest of western Europe is just ending to stir fears in Russia .\n",
      "--------------------------------------------------\n"
     ]
    }
   ],
   "source": [
    "for sent in sents:\n",
    "\n",
    "    print(sent)\n",
    "    print(\"\\n\".join(list(leveled_semantic_corrupt_verb_antonym_sentences(sent))))\n",
    "    print(\"-\"*50)"
   ]
  },
  {
   "cell_type": "code",
   "execution_count": 13,
   "metadata": {
    "collapsed": false
   },
   "outputs": [
    {
     "data": {
      "text/plain": [
       "{u'fly',\n",
       " u'fly_ball',\n",
       " u'fly_front',\n",
       " u'fly_sheet',\n",
       " u'rainfly',\n",
       " u'tent-fly',\n",
       " u'tent_flap'}"
      ]
     },
     "execution_count": 13,
     "metadata": {},
     "output_type": "execute_result"
    }
   ],
   "source": [
    "set(get_all_synonyms(\"flys\", wn.NOUN))"
   ]
  },
  {
   "cell_type": "code",
   "execution_count": null,
   "metadata": {
    "collapsed": true
   },
   "outputs": [],
   "source": []
  },
  {
   "cell_type": "code",
   "execution_count": 27,
   "metadata": {
    "collapsed": false
   },
   "outputs": [],
   "source": []
  },
  {
   "cell_type": "code",
   "execution_count": 29,
   "metadata": {
    "collapsed": false
   },
   "outputs": [
    {
     "data": {
      "text/plain": [
       "{u'abode',\n",
       " u'base',\n",
       " u'domicile',\n",
       " u'dwelling',\n",
       " u'dwelling_house',\n",
       " u'family',\n",
       " u'habitation',\n",
       " u'home',\n",
       " u'home_base',\n",
       " u'home_plate',\n",
       " u'house',\n",
       " u'household',\n",
       " u'interior',\n",
       " u'internal',\n",
       " u'menage',\n",
       " u'national',\n",
       " u'nursing_home',\n",
       " u'place',\n",
       " u'plate',\n",
       " u'rest_home'}"
      ]
     },
     "execution_count": 29,
     "metadata": {},
     "output_type": "execute_result"
    }
   ],
   "source": [
    "set(get_all_synonyms(\"home\"))"
   ]
  },
  {
   "cell_type": "code",
   "execution_count": 11,
   "metadata": {
    "collapsed": true
   },
   "outputs": [],
   "source": [
    "synsets = wn.synsets(\"house\")"
   ]
  },
  {
   "cell_type": "code",
   "execution_count": 14,
   "metadata": {
    "collapsed": false
   },
   "outputs": [],
   "source": [
    "ss=synsets[0]"
   ]
  },
  {
   "cell_type": "code",
   "execution_count": 19,
   "metadata": {
    "collapsed": false
   },
   "outputs": [],
   "source": [
    "ll=ss.lemmas()[0]"
   ]
  },
  {
   "cell_type": "code",
   "execution_count": 24,
   "metadata": {
    "collapsed": false
   },
   "outputs": [
    {
     "data": {
      "text/plain": [
       "[]"
      ]
     },
     "execution_count": 24,
     "metadata": {},
     "output_type": "execute_result"
    }
   ],
   "source": [
    "ll.usage_domains()"
   ]
  },
  {
   "cell_type": "code",
   "execution_count": 25,
   "metadata": {
    "collapsed": false
   },
   "outputs": [
    {
     "data": {
      "text/plain": [
       "[u'house']"
      ]
     },
     "execution_count": 25,
     "metadata": {},
     "output_type": "execute_result"
    }
   ],
   "source": [
    "ss.lemma_names()"
   ]
  },
  {
   "cell_type": "code",
   "execution_count": null,
   "metadata": {
    "collapsed": true
   },
   "outputs": [],
   "source": [
    "synsets."
   ]
  }
 ],
 "metadata": {
  "kernelspec": {
   "display_name": "Python 2",
   "language": "python",
   "name": "python2"
  },
  "language_info": {
   "codemirror_mode": {
    "name": "ipython",
    "version": 2
   },
   "file_extension": ".py",
   "mimetype": "text/x-python",
   "name": "python",
   "nbconvert_exporter": "python",
   "pygments_lexer": "ipython2",
   "version": "2.7.9"
  }
 },
 "nbformat": 4,
 "nbformat_minor": 0
}
