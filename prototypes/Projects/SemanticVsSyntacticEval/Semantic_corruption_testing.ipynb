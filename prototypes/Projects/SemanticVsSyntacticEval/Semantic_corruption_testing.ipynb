{
 "cells": [
  {
   "cell_type": "markdown",
   "metadata": {},
   "source": [
    "I have a prototype of they system for corrupting sentences, for different semantic meaning:\n",
    "\n",
    "My process is:\n",
    "\n",
    "1. Tokenize the sentence (Currently using the NLTK regex tokenizer, it seem sufficient)\n",
    "2. Parts of Speech tag (Currently using the Stanford POS Tagger (via NLTK))\n",
    "3. For each word except auxiliary verbs, and words that make up phrases (phrases are checked for by querying wordnet)\n",
    "        1. Use WordNet to find antonyms of the same POS tag  (So \"race\" (Noun, as in a competition) has no antonyms, but \"race\" (Verb, to race the train) has \"linger\" as an antonym.\n",
    "        2. Unstem: WordNet stemming/lemmaisation (of the antonym) removes Tense, Plurality, comparativeness, and superlativeness, so I make use of the POS tag of the original to work those out, then restore them using the Pattern library's tools for this (http://jmlr.csail.mit.edu/papers/volume13/desmedt12a/desmedt12a.pdf)\n",
    "        3. Remove any generated words that are not real (Failures of the Unstemming process, eg saless), by checking against the SCOWL british-insane word list.\n",
    "        4. I remove any suggested antonyms that are short phrases (eg Wordnet suggests that \"take_away\" is an antonym of \"add\", however as adding a work word change the structure of the sentence.)\n",
    "        5. select one randomly if there are multiple.\n",
    "4. I incrementally subsitute one addional antynym until I have run out of words with antonys, saving the sentence at each step. (What I'm currentl;y callign each sentence of different corruption level)\n",
    "5. I repair the indefinite articles ('an' vs 'a')\n",
    "\n",
    "I can check the final sentence by sending it through the POS tagger and seeing if I get the same tags.\n",
    "This is not perfect. Its not bad though.\n",
    "It got a lot better when I changed to using the Stanford POS tagger, as it was more able to tag and retag correctly and thus was most consistent.\n",
    "\n",
    "The whole method is very heurustic.\n",
    "It's not too bad but makes a lot of unnatural sounding sentences.\n",
    "And will sometimes choose the wrong antonym.\n",
    "\n",
    "For example stating with the sentence:\n",
    " - It's not too bad but makes a lot of unnatural sounding sentences.\n",
    " - It 's not too unregretful but makes a lot of unnatural sounding sentences.\n",
    " - It 's not too unregretful but makes a lot of unnatural devoicing sentences.\n",
    " - It 's not too unregretful but makes a lot of unaffected devoicing sentences.\n",
    " - It 's not too unregretful but makes a lot of unaffected devoicing acquittals."
   ]
  },
  {
   "cell_type": "code",
   "execution_count": 1,
   "metadata": {
    "collapsed": false
   },
   "outputs": [],
   "source": [
    "from SemanticCorruption import *"
   ]
  },
  {
   "cell_type": "code",
   "execution_count": 2,
   "metadata": {
    "collapsed": false
   },
   "outputs": [],
   "source": [
    "from nltk.corpus import wordnet as wn\n",
    "import pattern.en as en"
   ]
  },
  {
   "cell_type": "code",
   "execution_count": 3,
   "metadata": {
    "collapsed": false
   },
   "outputs": [],
   "source": [
    "sents = [\"It's not too bad but makes a lot of unnatural sounding sentences.\",\n",
    "'A Washington County man may have the countys first human case of West Nile virus, the health department said Friday',\n",
    "\"It was a dusty, dry, hot day, and the flys were buzzing.\",\n",
    "\"The article is the most common determiner (DT) in English.\",\n",
    "\"We may have a question\",\n",
    "\"Is changing an odd number of verbs, adverbs, adjectives and nouns to their antonyms expected to produce a semantically distant sentence?\",\n",
    "\"Both gerunds and infinitives can be used as the subject or the complement of a sentence.\",\n",
    "\"Shares of Xoma fell 16 percent in early trade, while shares of Genentech, a much larger company with several products on the market, were up 2 percent.\",\n",
    "\"Six months ago, the IMF and Argentina struck a bare-minimum $6.8-billion debt rollover deal that expires in August.\",\n",
    "\"He plans to have dinner with troops at Kosovo's U.S. military headquarters, Camp Bondsteel.\",\n",
    "\"After that, he plans to have dinner at Camp Bondsteel with U.S. troops stationed there.\",\n",
    "\"He added that prosecutors will seek the death penalty.\",\n",
    "\"Who is this man?\",\n",
    "\"Who is that man?\",\n",
    "\"This evil thief stole that car!\",\n",
    "\"The motorist is angry, so the pedestrian is understandably scared\",\n",
    "\"The hero was brave, he defeated the dragon.\",\n",
    "\"The villian was cowardly, he was slain by the dragon.\",\n",
    "\"War and Peace opens in the Russian city of St. Petersburg in 1805, as Napoleon's conquest of western Europe is just beginning to stir fears in Russia.\",\n",
    "\"PCCW's chief operating officer, Mike Butcher, and the Arena brothers, the chief financial officers, will report directly to the police officer.\"\n",
    "        ]"
   ]
  },
  {
   "cell_type": "code",
   "execution_count": null,
   "metadata": {
    "collapsed": true
   },
   "outputs": [],
   "source": []
  },
  {
   "cell_type": "code",
   "execution_count": 4,
   "metadata": {
    "collapsed": true
   },
   "outputs": [],
   "source": [
    "\n",
    "def leveled_semantic_corrupt_noun_synonym_sentences(sent):\n",
    "    words, tagged_words = tokenize_and_tag(sent)\n",
    "    short_phrase_indexes = get_phrases_indexes(tagged_words,3)\n",
    "    noun_corrupted_phases = leveled_semantic_corrupt_sentences_from_pretagged(words, tagged_words, get_noun_synonyms,short_phrase_indexes)\n",
    "    return list(noun_corrupted_phases)\n"
   ]
  },
  {
   "cell_type": "code",
   "execution_count": 57,
   "metadata": {
    "collapsed": false,
    "scrolled": true
   },
   "outputs": [
    {
     "name": "stdout",
     "output_type": "stream",
     "text": [
      "0\n",
      "It's not too bad but makes a lot of unnatural sounding sentences.\n",
      "It 's not too bad but makes a lot of unnatural sounding convictions .\n",
      "--------------------------------------------------\n",
      "1\n",
      "A Washington County man may have the countys first human case of West Nile virus, the health department said Friday\n",
      "a Washington County serviceman may have the countys first human case of West Nile virus , the health department said Friday\n",
      "a Washington County serviceman may have the counties first human case of West Nile virus , the health department said Friday\n",
      "a Washington County serviceman may have the counties first human case of West Nile virus , the health section said Friday\n",
      "a Washington County serviceman may have the counties first human case of West Nile virus , the wellness section said Friday\n",
      "a Washington County serviceman may have the counties first human slip of West Nile virus , the wellness section said Friday\n",
      "--------------------------------------------------\n",
      "2\n",
      "It was a dusty, dry, hot day, and the flys were buzzing.\n",
      "It was a dusty , dry , hot daytime , and the flys were buzzing .\n",
      "It was a dusty , dry , hot daytime , and the flies were buzzing .\n",
      "--------------------------------------------------\n",
      "3\n",
      "The article is the most common determiner (DT) in English.\n",
      "The clause is the most common determiner ( DT ) in English .\n",
      "The clause is the most common determinative ( DT ) in English .\n",
      "--------------------------------------------------\n",
      "4\n",
      "We may have a question\n",
      "We may have an inquiry\n",
      "--------------------------------------------------\n",
      "5\n",
      "Is changing an odd number of verbs, adverbs, adjectives and nouns to their antonyms expected to produce a semantically distant sentence?\n",
      "Is changing an odd number of verbs , adverbs , adjectives and nouns to their opposites expected to produce a semantically distant sentence ?\n",
      "Is changing an odd act of verbs , adverbs , adjectives and nouns to their opposites expected to produce a semantically distant sentence ?\n",
      "Is changing an odd act of verbs , adverbs , adjectives and nouns to their opposites expected to produce a semantically distant time ?\n",
      "--------------------------------------------------\n",
      "6\n",
      "Both gerunds and infinitives can be used as the subject or the complement of a sentence.\n",
      "Both gerunds and infinitives can be used as the content or the complement of a sentence .\n",
      "Both gerunds and infinitives can be used as the content or the complement of a conviction .\n",
      "Both gerunds and infinitives can be used as the content or the accompaniment of a conviction .\n",
      "--------------------------------------------------\n",
      "7\n",
      "Shares of Xoma fell 16 percent in early trade, while shares of Genentech, a much larger company with several products on the market, were up 2 percent.\n",
      "Shares of Xoma fell 16 percent in early trade , while shares of Genentech , a much larger troupe with several products on the market , were up 2 percent .\n",
      "Shares of Xoma fell 16 percent in early trade , while shares of Genentech , a much larger troupe with several products on the mart , were up 2 percent .\n",
      "Shares of Xoma fell 16 percent in early trade , while shares of Genentech , a much larger troupe with several products on the mart , were up 2 percentage .\n",
      "ploughshares of Xoma fell 16 percent in early trade , while shares of Genentech , a much larger troupe with several products on the mart , were up 2 percentage .\n",
      "ploughshares of Xoma fell 16 percentage in early trade , while shares of Genentech , a much larger troupe with several products on the mart , were up 2 percentage .\n",
      "ploughshares of Xoma fell 16 percentage in early trade , while shares of Genentech , a much larger troupe with several intersections on the mart , were up 2 percentage .\n",
      "ploughshares of Xoma fell 16 percentage in early swop , while shares of Genentech , a much larger troupe with several intersections on the mart , were up 2 percentage .\n",
      "ploughshares of Xoma fell 16 percentage in early swop , while contributions of Genentech , a much larger troupe with several intersections on the mart , were up 2 percentage .\n",
      "--------------------------------------------------\n",
      "8\n",
      "Six months ago, the IMF and Argentina struck a bare-minimum $6.8-billion debt rollover deal that expires in August.\n",
      "Six months ago , the IMF and Argentina struck a bare-minimum $ 6.8-billion debt rollover slew that expires in August .\n",
      "--------------------------------------------------\n",
      "9\n",
      "He plans to have dinner with troops at Kosovo's U.S. military headquarters, Camp Bondsteel.\n",
      "He plans to have dinner with flocks at Kosovo 's U.S. military headquarters , Camp Bondsteel .\n",
      "--------------------------------------------------\n",
      "10\n",
      "After that, he plans to have dinner at Camp Bondsteel with U.S. troops stationed there.\n",
      "After that , he plans to have dinner at Camp Bondsteel with U.S. soldieries stationed there .\n",
      "--------------------------------------------------\n",
      "11\n",
      "He added that prosecutors will seek the death penalty.\n",
      "\n",
      "--------------------------------------------------\n",
      "12\n",
      "Who is this man?\n",
      "Who is this gentleman ?\n",
      "--------------------------------------------------\n",
      "13\n",
      "Who is that man?\n",
      "Who is that piece ?\n",
      "--------------------------------------------------\n",
      "14\n",
      "This evil thief stole that car!\n",
      "This evil thief stole that gondola !\n",
      "This evil stealer stole that gondola !\n",
      "--------------------------------------------------\n",
      "15\n",
      "The motorist is angry, so the pedestrian is understandably scared\n",
      "The automobilist is angry , so the pedestrian is understandably scared\n",
      "The automobilist is angry , so the walker is understandably scared\n",
      "--------------------------------------------------\n",
      "16\n",
      "The hero was brave, he defeated the dragon.\n",
      "The fighter was brave , he defeated the dragon .\n",
      "The fighter was brave , he defeated the firedrake .\n",
      "--------------------------------------------------\n",
      "17\n",
      "The villian was cowardly, he was slain by the dragon.\n",
      "The villian was cowardly , he was slain by the tartar .\n",
      "--------------------------------------------------\n",
      "18\n",
      "War and Peace opens in the Russian city of St. Petersburg in 1805, as Napoleon's conquest of western Europe is just beginning to stir fears in Russia.\n",
      "War and Peace opens in the Russian city of St. Petersburg in 1805 , as Napoleon 's conquest of western Europe is just beginning to stir frights in Russia .\n",
      "War and Peace opens in the Russian city of St. Petersburg in 1805 , as Napoleon 's seduction of western Europe is just beginning to stir frights in Russia .\n",
      "War and Peace opens in the Russian metropolis of St. Petersburg in 1805 , as Napoleon 's seduction of western Europe is just beginning to stir frights in Russia .\n",
      "--------------------------------------------------\n",
      "19\n",
      "PCCW's chief operating officer, Mike Butcher, and the Arena brothers, the chief financial officers, will report directly to the police officer.\n",
      "PCCW 's chief operating officer , Mike Butcher , and the Arena buddies , the chief financial officers , will report directly to the police officer .\n",
      "--------------------------------------------------\n"
     ]
    }
   ],
   "source": [
    "\n",
    "for ii,sent in enumerate(sents):\n",
    "    print(ii)\n",
    "    print(sent)\n",
    "    print(\"\\n\".join(leveled_semantic_corrupt_noun_synonym_sentences(sent)))\n",
    "    print(\"-\"*50)"
   ]
  },
  {
   "cell_type": "code",
   "execution_count": null,
   "metadata": {
    "collapsed": true
   },
   "outputs": [],
   "source": []
  },
  {
   "cell_type": "code",
   "execution_count": 4,
   "metadata": {
    "collapsed": false
   },
   "outputs": [],
   "source": [
    "import sys\n",
    "sys.path.append(\"../../../Resources/tools/lib/python/pywsd/\")\n",
    "import pywsd\n",
    "from pywsd import disambiguate\n",
    "from pywsd.similarity import max_similarity as maxsim"
   ]
  },
  {
   "cell_type": "code",
   "execution_count": 5,
   "metadata": {
    "collapsed": true
   },
   "outputs": [],
   "source": [
    "def make_pywsd_sent(tagged_words):\n",
    "    return[(word,word,pennPOS2WordnetPOS(tag)) for (word,tag) in tagged_words]"
   ]
  },
  {
   "cell_type": "code",
   "execution_count": 8,
   "metadata": {
    "collapsed": false
   },
   "outputs": [
    {
     "name": "stdout",
     "output_type": "stream",
     "text": [
      "(u'Is', u'Is', None)\n",
      "(u'changing', u'changing', u'v')\n",
      "(u'an', u'an', None)\n",
      "(u'odd', u'odd', u'a')\n",
      "(u'number', u'number', u'n')\n",
      "(u'of', u'of', None)\n",
      "(u'verbs', u'verbs', u'n')\n",
      "(u',', u',', None)\n",
      "(u'adverbs', u'adverbs', u'n')\n",
      "(u',', u',', None)\n",
      "(u'adjectives', u'adjectives', u'n')\n",
      "(u'and', u'and', None)\n",
      "(u'nouns', u'nouns', u'n')\n",
      "(u'to', u'to', None)\n",
      "(u'their', u'their', None)\n",
      "(u'antonyms', u'antonyms', u'n')\n",
      "(u'expected', u'expected', u'v')\n",
      "(u'to', u'to', None)\n",
      "(u'produce', u'produce', u'v')\n",
      "(u'a', u'a', None)\n",
      "(u'semantically', u'semantically', u'r')\n",
      "(u'distant', u'distant', u'a')\n",
      "(u'sentence', u'sentence', u'n')\n",
      "(u'?', u'?', None)\n"
     ]
    }
   ],
   "source": [
    "import nltk.wsd\n",
    "\n",
    "\n",
    "sent = sents[5]\n",
    "words, tagged_words = tokenize_and_tag(sent)\n",
    "wsd_sent =make_pywsd_sent(get_tagged_phrases(tagged_words,3))\n",
    "print(\"\\n\".join(map(str,wsd_sent)))"
   ]
  },
  {
   "cell_type": "code",
   "execution_count": 10,
   "metadata": {
    "collapsed": false
   },
   "outputs": [
    {
     "data": {
      "text/plain": [
       "[(u'Is', None),\n",
       " (u'changing',\n",
       "  [(0.2, Synset('switch.v.03')),\n",
       "   (0.2, Synset('exchange.v.01')),\n",
       "   (0.2, Synset('change.v.06')),\n",
       "   (0.2, Synset('change.v.03')),\n",
       "   (0.2, Synset('change.v.02')),\n",
       "   (0.0, Synset('transfer.v.06')),\n",
       "   (0.0, Synset('deepen.v.04')),\n",
       "   (0.0, Synset('change.v.10')),\n",
       "   (0.0, Synset('change.v.05')),\n",
       "   (0.0, Synset('change.v.01'))]),\n",
       " (u'an', None),\n",
       " (u'odd', [(1.0, Synset('odd.a.01'))]),\n",
       " (u'number',\n",
       "  [(0.09090909090909091, Synset('phone_number.n.01')),\n",
       "   (0.09090909090909091, Synset('numeral.n.01')),\n",
       "   (0.09090909090909091, Synset('number.n.11')),\n",
       "   (0.09090909090909091, Synset('number.n.10')),\n",
       "   (0.09090909090909091, Synset('number.n.09')),\n",
       "   (0.09090909090909091, Synset('number.n.08')),\n",
       "   (0.09090909090909091, Synset('number.n.07')),\n",
       "   (0.09090909090909091, Synset('number.n.02')),\n",
       "   (0.09090909090909091, Synset('number.n.01')),\n",
       "   (0.09090909090909091, Synset('issue.n.02')),\n",
       "   (0.09090909090909091, Synset('act.n.04'))]),\n",
       " (u'of', None),\n",
       " (u'verbs', [(1.0, Synset('verb.n.02')), (0.0, Synset('verb.n.01'))]),\n",
       " (u',', None),\n",
       " (u'adverbs', None),\n",
       " (u',', None),\n",
       " (u'adjectives', None),\n",
       " (u'and', None),\n",
       " (u'nouns', [(0.5, Synset('noun.n.02')), (0.5, Synset('noun.n.01'))]),\n",
       " (u'to', None),\n",
       " (u'their', None),\n",
       " (u'antonyms', [(1.0, Synset('antonym.n.01'))]),\n",
       " (u'expected', None),\n",
       " (u'to', None),\n",
       " (u'produce',\n",
       "  [(0.2222222222222222, Synset('produce.v.03')),\n",
       "   (0.2222222222222222, Synset('grow.v.07')),\n",
       "   (0.1111111111111111, Synset('produce.v.06')),\n",
       "   (0.1111111111111111, Synset('produce.v.04')),\n",
       "   (0.1111111111111111, Synset('produce.v.02')),\n",
       "   (0.1111111111111111, Synset('produce.v.01')),\n",
       "   (0.1111111111111111, Synset('grow.v.08'))]),\n",
       " (u'a', None),\n",
       " (u'semantically', [(1.0, Synset('semantically.r.01'))]),\n",
       " (u'distant', [(0.5, Synset('distant.a.02')), (0.5, Synset('distant.a.01'))]),\n",
       " (u'sentence',\n",
       "  [(0.3333333333333333, Synset('sentence.n.01')),\n",
       "   (0.3333333333333333, Synset('prison_term.n.01')),\n",
       "   (0.3333333333333333, Synset('conviction.n.02'))]),\n",
       " (u'?', None)]"
      ]
     },
     "execution_count": 10,
     "metadata": {},
     "output_type": "execute_result"
    }
   ],
   "source": [
    "ans=disambiguate(wsd_sent, context_is_lemmatized=True, nbest=True, normalizescore=True, keepscore=True, algorithm=pywsd.lesk.simple_lesk)\n",
    "ans"
   ]
  },
  {
   "cell_type": "code",
   "execution_count": 51,
   "metadata": {
    "collapsed": false
   },
   "outputs": [
    {
     "data": {
      "text/plain": [
       "<bound method Synset.wup_similarity of Synset('conviction.n.02')>"
      ]
     },
     "execution_count": 51,
     "metadata": {},
     "output_type": "execute_result"
    }
   ],
   "source": [
    "ss=ans[-2][1][2][1]\n",
    "ss.wup_similarity"
   ]
  },
  {
   "cell_type": "code",
   "execution_count": 30,
   "metadata": {
    "collapsed": false
   },
   "outputs": [
    {
     "data": {
      "text/plain": [
       "u'a string of words satisfying the grammatical rules of a language'"
      ]
     },
     "execution_count": 30,
     "metadata": {},
     "output_type": "execute_result"
    }
   ],
   "source": [
    "ans[-2][1].definition()"
   ]
  },
  {
   "cell_type": "code",
   "execution_count": 96,
   "metadata": {
    "collapsed": false
   },
   "outputs": [
    {
     "data": {
      "text/plain": [
       "[]"
      ]
     },
     "execution_count": 96,
     "metadata": {},
     "output_type": "execute_result"
    }
   ],
   "source": [
    "s."
   ]
  },
  {
   "cell_type": "code",
   "execution_count": 35,
   "metadata": {
    "collapsed": false
   },
   "outputs": [
    {
     "data": {
      "text/plain": [
       "[]"
      ]
     },
     "execution_count": 35,
     "metadata": {},
     "output_type": "execute_result"
    }
   ],
   "source": [
    "wndomains.Syns"
   ]
  },
  {
   "cell_type": "code",
   "execution_count": 10,
   "metadata": {
    "collapsed": false
   },
   "outputs": [
    {
     "name": "stdout",
     "output_type": "stream",
     "text": [
      "It 's not too_bad but makes a_lot of unnatural sounding sentences .\n",
      "A Washington County man may have the countys first human case of West_Nile_virus , the health department said Friday\n",
      "It was a dusty , dry , hot day , and the flys were buzzing .\n",
      "The article is the most common determiner ( DT ) in English .\n",
      "We may have a question\n",
      "Is changing an odd number of verbs , adverbs , adjectives and nouns to their antonyms expected to produce a semantically distant sentence ?\n",
      "Both gerunds and infinitives can be used as the subject or the complement of a sentence .\n",
      "Shares of Xoma fell 16 percent in early trade , while shares of Genentech , a much larger company with several products on the market , were up 2 percent .\n",
      "Six months ago , the IMF and Argentina struck a bare-minimum $ 6.8-billion debt rollover deal that expires in August .\n",
      "He plans to have dinner with troops at Kosovo 's U.S. military_headquarters , Camp Bondsteel .\n",
      "After that , he plans to have dinner at Camp Bondsteel with U.S. troops stationed there .\n",
      "He added that prosecutors will seek the death_penalty .\n",
      "Who is this man ?\n",
      "Who is that man ?\n",
      "This evil thief stole that car !\n",
      "The motorist is angry , so the pedestrian is understandably scared\n",
      "The hero was brave , he defeated the dragon .\n",
      "The villian was cowardly , he was slain by the dragon .\n",
      "War and Peace opens in the Russian city of St._Petersburg in 1805 , as Napoleon 's conquest of western Europe is just beginning to stir fears in Russia .\n",
      "PCCW 's chief_operating_officer , Mike Butcher , and the Arena brothers , the chief_financial_officers , will report directly to the police_officer .\n"
     ]
    }
   ],
   "source": [
    "for sent in sents:\n",
    "    tagged_phrases = get_tagged_phrases(tokenize_and_tag(sent)[1],3)\n",
    "    phrases = zip(*tagged_phrases)[0]\n",
    "    print \" \".join(phrases)"
   ]
  },
  {
   "cell_type": "code",
   "execution_count": 24,
   "metadata": {
    "collapsed": false
   },
   "outputs": [
    {
     "name": "stdout",
     "output_type": "stream",
     "text": [
      "[3, 4, 7, 8]\n",
      "[12, 13, 14]\n",
      "[]\n",
      "[]\n",
      "[]\n",
      "[]\n",
      "[]\n",
      "[]\n",
      "[]\n",
      "[11, 12]\n",
      "[]\n",
      "[7, 8]\n",
      "[]\n",
      "[]\n",
      "[]\n",
      "[]\n",
      "[]\n",
      "[]\n",
      "[9, 10]\n",
      "[2, 3, 4, 15, 16, 17, 24, 25]\n"
     ]
    }
   ],
   "source": [
    "for sent in sents:\n",
    "    indexes = list(get_phrases_indexes(tokenize_and_tag(sent)[1],3))\n",
    "    indexes.sort()\n",
    "    print indexes"
   ]
  },
  {
   "cell_type": "code",
   "execution_count": 15,
   "metadata": {
    "collapsed": true
   },
   "outputs": [],
   "source": [
    "a= set()"
   ]
  },
  {
   "cell_type": "code",
   "execution_count": 20,
   "metadata": {
    "collapsed": false
   },
   "outputs": [],
   "source": [
    "a.update([\"21\"])"
   ]
  },
  {
   "cell_type": "code",
   "execution_count": 21,
   "metadata": {
    "collapsed": false
   },
   "outputs": [
    {
     "data": {
      "text/plain": [
       "{'21'}"
      ]
     },
     "execution_count": 21,
     "metadata": {},
     "output_type": "execute_result"
    }
   ],
   "source": [
    "a"
   ]
  },
  {
   "cell_type": "code",
   "execution_count": null,
   "metadata": {
    "collapsed": true
   },
   "outputs": [],
   "source": []
  },
  {
   "cell_type": "code",
   "execution_count": null,
   "metadata": {
    "collapsed": true
   },
   "outputs": [],
   "source": []
  }
 ],
 "metadata": {
  "kernelspec": {
   "display_name": "Python 2",
   "language": "python",
   "name": "python2"
  },
  "language_info": {
   "codemirror_mode": {
    "name": "ipython",
    "version": 2
   },
   "file_extension": ".py",
   "mimetype": "text/x-python",
   "name": "python",
   "nbconvert_exporter": "python",
   "pygments_lexer": "ipython2",
   "version": "2.7.9"
  }
 },
 "nbformat": 4,
 "nbformat_minor": 0
}
