{
 "cells": [
  {
   "cell_type": "markdown",
   "metadata": {},
   "source": [
    "I have a prototype of they system for corrupting sentences, for different semantic meaning:\n",
    "\n",
    "My process is:\n",
    "\n",
    "1. Tokenize the sentence (Currently using the NLTK regex tokenizer, it seem sufficient)\n",
    "2. Parts of Speech tag (Currently using the Stanford POS Tagger (via NLTK))\n",
    "3. For each word except auxiliary verbs, and words that make up phrases (phrases are checked for by querying wordnet)\n",
    "        1. Use WordNet to find antonyms of the same POS tag  (So \"race\" (Noun, as in a competition) has no antonyms, but \"race\" (Verb, to race the train) has \"linger\" as an antonym.\n",
    "        2. Unstem: WordNet stemming/lemmaisation (of the antonym) removes Tense, Plurality, comparativeness, and superlativeness, so I make use of the POS tag of the original to work those out, then restore them using the Pattern library's tools for this (http://jmlr.csail.mit.edu/papers/volume13/desmedt12a/desmedt12a.pdf)\n",
    "        3. Remove any generated words that are not real (Failures of the Unstemming process, eg saless), by checking against the SCOWL british-insane word list.\n",
    "        4. I remove any suggested antonyms that are short phrases (eg Wordnet suggests that \"take_away\" is an antonym of \"add\", however as adding a work word change the structure of the sentence.)\n",
    "        5. select one randomly if there are multiple.\n",
    "4. I incrementally subsitute one addional antynym until I have run out of words with antonys, saving the sentence at each step. (What I'm currentl;y callign each sentence of different corruption level)\n",
    "5. I repair the indefinite articles ('an' vs 'a')\n",
    "\n",
    "I can check the final sentence by sending it through the POS tagger and seeing if I get the same tags.\n",
    "This is not perfect. Its not bad though.\n",
    "It got a lot better when I changed to using the Stanford POS tagger, as it was more able to tag and retag correctly and thus was most consistent.\n",
    "\n",
    "The whole method is very heurustic.\n",
    "It's not too bad but makes a lot of unnatural sounding sentences.\n",
    "And will sometimes choose the wrong antonym.\n",
    "\n",
    "For example stating with the sentence:\n",
    " - It's not too bad but makes a lot of unnatural sounding sentences.\n",
    " - It 's not too unregretful but makes a lot of unnatural sounding sentences.\n",
    " - It 's not too unregretful but makes a lot of unnatural devoicing sentences.\n",
    " - It 's not too unregretful but makes a lot of unaffected devoicing sentences.\n",
    " - It 's not too unregretful but makes a lot of unaffected devoicing acquittals."
   ]
  },
  {
   "cell_type": "code",
   "execution_count": 1,
   "metadata": {
    "collapsed": false
   },
   "outputs": [],
   "source": [
    "from SemanticCorruption import *"
   ]
  },
  {
   "cell_type": "code",
   "execution_count": 2,
   "metadata": {
    "collapsed": false
   },
   "outputs": [],
   "source": [
    "from nltk.corpus import wordnet as wn\n",
    "import pattern.en as en"
   ]
  },
  {
   "cell_type": "code",
   "execution_count": 3,
   "metadata": {
    "collapsed": false
   },
   "outputs": [],
   "source": [
    "sents = [\"It's not too bad but makes a lot of unnatural sounding sentences.\",\n",
    "'A Washington County man may have the countys first human case of West Nile virus, the health department said Friday',\n",
    "\"It was a dusty, dry, hot day, and the flys were buzzing.\",\n",
    "\"The article is the most common determiner (DT) in English.\",\n",
    "\"We may have a question\",\n",
    "\"Is changing an odd number of verbs, adverbs, adjectives and nouns to their antonyms expected to produce a semantically distant sentence?\",\n",
    "\"Both gerunds and infinitives can be used as the subject or the complement of a sentence.\",\n",
    "\"Shares of Xoma fell 16 percent in early trade, while shares of Genentech, a much larger company with several products on the market, were up 2 percent.\",\n",
    "\"Six months ago, the IMF and Argentina struck a bare-minimum $6.8-billion debt rollover deal that expires in August.\",\n",
    "\"He plans to have dinner with troops at Kosovo's U.S. military headquarters, Camp Bondsteel.\",\n",
    "\"After that, he plans to have dinner at Camp Bondsteel with U.S. troops stationed there.\",\n",
    "\"He added that prosecutors will seek the death penalty.\",\n",
    "\"Who is this man?\",\n",
    "\"Who is that man?\",\n",
    "\"This evil thief stole that car!\",\n",
    "\"The motorist is angry, so the pedestrian is understandably scared\",\n",
    "\"The hero was brave, he defeated the dragon.\",\n",
    "\"The villian was cowardly, he was slain by the dragon.\",\n",
    "\"War and Peace opens in the Russian city of St. Petersburg in 1805, as Napoleon's conquest of western Europe is just beginning to stir fears in Russia.\",\n",
    "\"PCCW's chief operating officer, Mike Butcher, and the Arena brothers, the chief financial officers, will report directly to the police officer.\"\n",
    "        ]"
   ]
  },
  {
   "cell_type": "code",
   "execution_count": null,
   "metadata": {
    "collapsed": true
   },
   "outputs": [],
   "source": []
  },
  {
   "cell_type": "code",
   "execution_count": 4,
   "metadata": {
    "collapsed": true
   },
   "outputs": [],
   "source": [
    "def leveled_semantic_corrupt_verb_antonym_sentences(sent):\n",
    "    return leveled_semantic_corrupt_sentences(sent, get_verb_antos)\n",
    "\n",
    "def leveled_semantic_corrupt_noun_synonym_sentences(sent):\n",
    "    return leveled_semantic_corrupt_sentences(sent, get_noun_synonyms)"
   ]
  },
  {
   "cell_type": "code",
   "execution_count": 5,
   "metadata": {
    "collapsed": true
   },
   "outputs": [],
   "source": [
    "sent = \"PCCW's chief operating officer, Mike Butcher, and Alex Arena, the chief financial officer, will report directly to Mr So.\""
   ]
  },
  {
   "cell_type": "code",
   "execution_count": 6,
   "metadata": {
    "collapsed": false
   },
   "outputs": [
    {
     "name": "stdout",
     "output_type": "stream",
     "text": [
      "PCCW's chief operating officer, Mike Butcher, and Alex Arena, the chief financial officer, will report directly to Mr So.\n",
      "PCCW 's chief operating officeholder , Mike Butcher , and Alex Arena , the chief financial officer , will report directly to Mr So .\n",
      "PCCW 's gaffer operating officeholder , Mike Butcher , and Alex Arena , the chief financial officer , will report directly to Mr So .\n",
      "PCCW 's gaffer operating officeholder , Mike Butcher , and Alex Arena , the chief financial policeman , will report directly to Mr So .\n",
      "PCCW 's gaffer operating officeholder , Mike Butcher , and Alex Arena , the chief financial policeman , will report directly to Mr. So .\n",
      "--------------------------------------------------\n"
     ]
    }
   ],
   "source": [
    "\n",
    "print(sent)\n",
    "print(\"\\n\".join(list(leveled_semantic_corrupt_sentences(sent, get_noun_synonyms))))\n",
    "print(\"-\"*50)"
   ]
  },
  {
   "cell_type": "code",
   "execution_count": 29,
   "metadata": {
    "collapsed": true
   },
   "outputs": [],
   "source": [
    "leveled_semantic_corrupt_sentences(sent, get_noun_synonyms)"
   ]
  },
  {
   "cell_type": "code",
   "execution_count": 85,
   "metadata": {
    "collapsed": true
   },
   "outputs": [],
   "source": []
  },
  {
   "cell_type": "code",
   "execution_count": 28,
   "metadata": {
    "collapsed": true
   },
   "outputs": [],
   "source": [
    "valid_words = set(open(\"/usr/share/dict/british-english-insane\").read().split())"
   ]
  },
  {
   "cell_type": "code",
   "execution_count": 34,
   "metadata": {
    "collapsed": false
   },
   "outputs": [
    {
     "data": {
      "text/plain": [
       "True"
      ]
     },
     "execution_count": 34,
     "metadata": {},
     "output_type": "execute_result"
    }
   ],
   "source": [
    "\"Alexis\" in setofwords"
   ]
  },
  {
   "cell_type": "code",
   "execution_count": 22,
   "metadata": {
    "collapsed": true
   },
   "outputs": [],
   "source": []
  },
  {
   "cell_type": "code",
   "execution_count": 19,
   "metadata": {
    "collapsed": false
   },
   "outputs": [],
   "source": [
    "s=wn.synsets(\"finsss\")[0]\n"
   ]
  },
  {
   "cell_type": "code",
   "execution_count": 20,
   "metadata": {
    "collapsed": false
   },
   "outputs": [
    {
     "data": {
      "text/plain": [
       "u'the cardinal number that is the sum of four and one'"
      ]
     },
     "execution_count": 20,
     "metadata": {},
     "output_type": "execute_result"
    }
   ],
   "source": [
    "s.definition()"
   ]
  },
  {
   "cell_type": "code",
   "execution_count": 10,
   "metadata": {
    "collapsed": false
   },
   "outputs": [
    {
     "name": "stdout",
     "output_type": "stream",
     "text": [
      "It 's not too_bad but makes a_lot of unnatural sounding sentences .\n",
      "A Washington County man may have the countys first human case of West_Nile_virus , the health department said Friday\n",
      "It was a dusty , dry , hot day , and the flys were buzzing .\n",
      "The article is the most common determiner ( DT ) in English .\n",
      "We may have a question\n",
      "Is changing an odd number of verbs , adverbs , adjectives and nouns to their antonyms expected to produce a semantically distant sentence ?\n",
      "Both gerunds and infinitives can be used as the subject or the complement of a sentence .\n",
      "Shares of Xoma fell 16 percent in early trade , while shares of Genentech , a much larger company with several products on the market , were up 2 percent .\n",
      "Six months ago , the IMF and Argentina struck a bare-minimum $ 6.8-billion debt rollover deal that expires in August .\n",
      "He plans to have dinner with troops at Kosovo 's U.S. military_headquarters , Camp Bondsteel .\n",
      "After that , he plans to have dinner at Camp Bondsteel with U.S. troops stationed there .\n",
      "He added that prosecutors will seek the death_penalty .\n",
      "Who is this man ?\n",
      "Who is that man ?\n",
      "This evil thief stole that car !\n",
      "The motorist is angry , so the pedestrian is understandably scared\n",
      "The hero was brave , he defeated the dragon .\n",
      "The villian was cowardly , he was slain by the dragon .\n",
      "War and Peace opens in the Russian city of St._Petersburg in 1805 , as Napoleon 's conquest of western Europe is just beginning to stir fears in Russia .\n",
      "PCCW 's chief_operating_officer , Mike Butcher , and the Arena brothers , the chief_financial_officers , will report directly to the police_officer .\n"
     ]
    }
   ],
   "source": [
    "for sent in sents:\n",
    "    tagged_phrases = get_tagged_phrases(tokenize_and_tag(sent)[1],3)\n",
    "    phrases = zip(*tagged_phrases)[0]\n",
    "    print \" \".join(phrases)"
   ]
  },
  {
   "cell_type": "code",
   "execution_count": 24,
   "metadata": {
    "collapsed": false
   },
   "outputs": [
    {
     "name": "stdout",
     "output_type": "stream",
     "text": [
      "[3, 4, 7, 8]\n",
      "[12, 13, 14]\n",
      "[]\n",
      "[]\n",
      "[]\n",
      "[]\n",
      "[]\n",
      "[]\n",
      "[]\n",
      "[11, 12]\n",
      "[]\n",
      "[7, 8]\n",
      "[]\n",
      "[]\n",
      "[]\n",
      "[]\n",
      "[]\n",
      "[]\n",
      "[9, 10]\n",
      "[2, 3, 4, 15, 16, 17, 24, 25]\n"
     ]
    }
   ],
   "source": [
    "for sent in sents:\n",
    "    indexes = list(get_phrases_indexes(tokenize_and_tag(sent)[1],3))\n",
    "    indexes.sort()\n",
    "    print indexes"
   ]
  },
  {
   "cell_type": "code",
   "execution_count": 15,
   "metadata": {
    "collapsed": true
   },
   "outputs": [],
   "source": [
    "a= set()"
   ]
  },
  {
   "cell_type": "code",
   "execution_count": 20,
   "metadata": {
    "collapsed": false
   },
   "outputs": [],
   "source": [
    "a.update([\"21\"])"
   ]
  },
  {
   "cell_type": "code",
   "execution_count": 21,
   "metadata": {
    "collapsed": false
   },
   "outputs": [
    {
     "data": {
      "text/plain": [
       "{'21'}"
      ]
     },
     "execution_count": 21,
     "metadata": {},
     "output_type": "execute_result"
    }
   ],
   "source": [
    "a"
   ]
  },
  {
   "cell_type": "code",
   "execution_count": null,
   "metadata": {
    "collapsed": true
   },
   "outputs": [],
   "source": []
  },
  {
   "cell_type": "code",
   "execution_count": null,
   "metadata": {
    "collapsed": true
   },
   "outputs": [],
   "source": []
  }
 ],
 "metadata": {
  "kernelspec": {
   "display_name": "Python 2",
   "language": "python",
   "name": "python2"
  },
  "language_info": {
   "codemirror_mode": {
    "name": "ipython",
    "version": 2
   },
   "file_extension": ".py",
   "mimetype": "text/x-python",
   "name": "python",
   "nbconvert_exporter": "python",
   "pygments_lexer": "ipython2",
   "version": "2.7.9"
  }
 },
 "nbformat": 4,
 "nbformat_minor": 0
}
