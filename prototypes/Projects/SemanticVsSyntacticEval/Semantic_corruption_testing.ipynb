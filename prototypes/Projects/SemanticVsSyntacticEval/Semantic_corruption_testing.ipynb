{
 "cells": [
  {
   "cell_type": "markdown",
   "metadata": {},
   "source": [
    "I have a prototype of they system for corrupting sentences, for different semantic meaning:\n",
    "\n",
    "My process is:\n",
    "\n",
    "1. Tokenize the sentence (Currently using the NLTK regex tokenizer, it seem sufficient)\n",
    "2. Parts of Speech tag (Currently using the Stanford POS Tagger (via NLTK))\n",
    "3. For each word that is not blacklisted (I have blacklisted \"had\", \"were\", \"have\", \"was\", and \"be\", as they are unusual verbs with strange antoymns, further more the are rather syntatic)\n",
    "        1. Use WordNet to find antonyms of the same POS tag  (So \"race\" (Noun, as in a competition) has no antonyms, but \"race\" (Verb, to race the train) has \"linger\" as an antonym.\n",
    "        2. Unstem: WordNet stemming/lemmaisation (of the antonym) removes Tense, Plurality, comparativeness, and superlativeness, so I make use of the POS tag of the original to work those out, then restore them using the Pattern library's tools for this (http://jmlr.csail.mit.edu/papers/volume13/desmedt12a/desmedt12a.pdf)\n",
    "        3. I remove any suggested antonyms that are short phrases (eg Wordnet suggests that \"take_away\" is an antonym of \"add\", however as adding a work word change the structure of the sentence.)\n",
    "        4. select one randomly if there are multiple.\n",
    "4. I incrementally subsitute one addional antynym until I have run out of words with antonys, saving the sentence at each step. (What I'm currentl;y callign each sentence of different corruption level)\n",
    "5. I repair the indefinite articles ('an' vs 'a')\n",
    "\n",
    "I can check the final sentence by sending it through the POS tagger and seeing if I get the same tags.\n",
    "This is not perfect. Its not bad though.\n",
    "It got a lot better when I changed to using the Stanford POS tagger, as it was more able to tag and retag correctly and thus was most consistent.\n",
    "\n",
    "The whole method is very heurustic.\n",
    "It's not too bad but makes a lot of unnatural sounding sentences.\n",
    "And will sometimes choose the wrong antonym.\n",
    "\n",
    "For example stating with the sentence:\n",
    " - It's not too bad but makes a lot of unnatural sounding sentences.\n",
    " - It 's not too unregretful but makes a lot of unnatural sounding sentences.\n",
    " - It 's not too unregretful but makes a lot of unnatural devoicing sentences.\n",
    " - It 's not too unregretful but makes a lot of unaffected devoicing sentences.\n",
    " - It 's not too unregretful but makes a lot of unaffected devoicing acquittals."
   ]
  },
  {
   "cell_type": "code",
   "execution_count": 2,
   "metadata": {
    "collapsed": false
   },
   "outputs": [],
   "source": [
    "from SemanticCorruption import *"
   ]
  },
  {
   "cell_type": "code",
   "execution_count": 3,
   "metadata": {
    "collapsed": false
   },
   "outputs": [],
   "source": [
    "from nltk.corpus import wordnet as wn\n",
    "import pattern.en as en"
   ]
  },
  {
   "cell_type": "code",
   "execution_count": 89,
   "metadata": {
    "collapsed": false
   },
   "outputs": [],
   "source": [
    "sents = [\"It's not too bad but makes a lot of unnatural sounding sentences.\",\n",
    "'A Washington County man may have the countys first human case of West Nile virus, the health department said Friday',\n",
    "\"It was a dusty, dry, hot day, and the flys were buzzing.\",\n",
    "\"The article is the most common determiner (DT) in English.\",\n",
    "\"We may have a question\",\n",
    "\"Is changing an odd number of verbs, adverbs, adjectives and nouns to their antonyms expected to produce a semantically distant sentence?\",\n",
    "\"Both gerunds and infinitives can be used as the subject or the complement of a sentence.\",\n",
    "\"Shares of Xoma fell 16 percent in early trade, while shares of Genentech, a much larger company with several products on the market, were up 2 percent.\",\n",
    "\"Six months ago, the IMF and Argentina struck a bare-minimum $6.8-billion debt rollover deal that expires in August.\",\n",
    "\"He plans to have dinner with troops at Kosovo's U.S. military headquarters, Camp Bondsteel.\",\n",
    "\"After that, he plans to have dinner at Camp Bondsteel with U.S. troops stationed there.\",\n",
    "\"He added that prosecutors will seek the death penalty.\",\n",
    "\"Who is this man?\",\n",
    "\"Who is that man?\",\n",
    "\"This evil thief stole that car!\",\n",
    "\"The motorist is angry, so the pedestrian is understandably scared\",\n",
    "\"The hero was brave, he defeated the dragon.\",\n",
    "\"The villian was cowardly, he was slain by the dragon.\",\n",
    "\"War and Peace opens in the Russian city of St. Petersburg in 1805, as Napoleon's conquest of western Europe is just beginning to stir fears in Russia.\",\n",
    "\"PCCW's chief operating officer, Mike Butcher, and the Arena brothers, the chief financial officers, will report directly to the police officer.\"\n",
    "        ]"
   ]
  },
  {
   "cell_type": "code",
   "execution_count": null,
   "metadata": {
    "collapsed": true
   },
   "outputs": [],
   "source": []
  },
  {
   "cell_type": "code",
   "execution_count": 16,
   "metadata": {
    "collapsed": true
   },
   "outputs": [],
   "source": [
    "def leveled_semantic_corrupt_verb_antonym_sentences(sent):\n",
    "    return leveled_semantic_corrupt_sentences(sent, get_verb_antos)\n",
    "\n",
    "def leveled_semantic_corrupt_noun_synonym_sentences(sent):\n",
    "    return leveled_semantic_corrupt_sentences(sent, get_noun_synonyms)"
   ]
  },
  {
   "cell_type": "code",
   "execution_count": 4,
   "metadata": {
    "collapsed": true
   },
   "outputs": [],
   "source": []
  },
  {
   "cell_type": "code",
   "execution_count": 17,
   "metadata": {
    "collapsed": false
   },
   "outputs": [
    {
     "name": "stdout",
     "output_type": "stream",
     "text": [
      "It's not too bad but makes a lot of unnatural sounding sentences.\n",
      "It 's not too bad but makes a lot of unnatural devoicing sentences .\n",
      "--------------------------------------------------\n",
      "A Washington County man may have the countys first human case of West Nile virus, the health department said Friday\n",
      "\n",
      "--------------------------------------------------\n",
      "It was a dusty, dry, hot day, and the flys were buzzing.\n",
      "\n",
      "--------------------------------------------------\n",
      "The article is the most common determiner (DT) in English.\n",
      "\n",
      "--------------------------------------------------\n",
      "We may have a question\n",
      "\n",
      "--------------------------------------------------\n",
      "Is changing an odd number of verbs, adverbs, adjectives and nouns to their antonyms expected to produce a semantically distant sentence?\n",
      "Is staying an odd number of verbs , adverbs , adjectives and nouns to their antonyms expected to produce a semantically distant sentence ?\n",
      "--------------------------------------------------\n",
      "Both gerunds and infinitives can be used as the subject or the complement of a sentence.\n",
      "\n",
      "--------------------------------------------------\n",
      "Shares of Xoma fell 16 percent in early trade, while shares of Genentech, a much larger company with several products on the market, were up 2 percent.\n",
      "Shares of Xoma increased 16 percent in early trade , while shares of Genentech , a much larger company with several products on the market , were up 2 percent .\n",
      "--------------------------------------------------\n",
      "Six months ago, the IMF and Argentina struck a bare-minimum $6.8-billion debt rollover deal that expires in August.\n",
      "Six months ago , the IMF and Argentina missed a bare-minimum $ 6.8-billion debt rollover deal that expires in August .\n",
      "--------------------------------------------------\n",
      "He plans to have dinner with troops at Kosovo's U.S. military headquarters, Camp Bondsteel.\n",
      "\n",
      "--------------------------------------------------\n",
      "After that, he plans to have dinner at Camp Bondsteel with U.S. troops stationed there.\n",
      "\n",
      "--------------------------------------------------\n",
      "He added that prosecutors will seek the death penalty.\n",
      "He subtracted that prosecutors will seek the death penalty .\n",
      "--------------------------------------------------\n",
      "Who is this man?\n",
      "\n",
      "--------------------------------------------------\n",
      "Who is that man?\n",
      "\n",
      "--------------------------------------------------\n",
      "This evil thief stole that car!\n",
      "\n",
      "--------------------------------------------------\n",
      "The motorist is angry, so the pedestrian is understandably scared\n",
      "\n",
      "--------------------------------------------------\n",
      "The hero was brave, he defeated the dragon.\n",
      "\n",
      "--------------------------------------------------\n",
      "The villian was cowardly, he was slain by the dragon.\n",
      "\n",
      "--------------------------------------------------\n",
      "War and Peace opens in the Russian city of St. Petersburg in 1805, as Napoleon's conquest of western Europe is just beginning to stir fears in Russia.\n",
      "War and Peace opens in the Russian city of St. Petersburg in 1805 , as Napoleon 's conquest of western Europe is just ending to stir fears in Russia .\n",
      "--------------------------------------------------\n"
     ]
    }
   ],
   "source": [
    "for sent in sents:\n",
    "\n",
    "    print(sent)\n",
    "    print(\"\\n\".join(list(leveled_semantic_corrupt_verb_antonym_sentences(sent))))\n",
    "    print(\"-\"*50)"
   ]
  },
  {
   "cell_type": "code",
   "execution_count": null,
   "metadata": {
    "collapsed": true
   },
   "outputs": [],
   "source": []
  },
  {
   "cell_type": "code",
   "execution_count": 85,
   "metadata": {
    "collapsed": true
   },
   "outputs": [],
   "source": []
  },
  {
   "cell_type": "code",
   "execution_count": 80,
   "metadata": {
    "collapsed": true
   },
   "outputs": [],
   "source": [
    "def n_wise(n, seq):\n",
    "    \"\"\" Generalisation of pairwise\"\"\"\n",
    "    from collections import deque\n",
    "    prevs = deque(maxlen=n)\n",
    "    for ii,ele in enumerate(seq,1):\n",
    "        prevs.append(ele)\n",
    "        if ii>=n:\n",
    "            yield tuple(prevs)\n",
    "        "
   ]
  },
  {
   "cell_type": "code",
   "execution_count": 90,
   "metadata": {
    "collapsed": false
   },
   "outputs": [],
   "source": [
    "def get_phrases(tagged_sent, max_phrase_length):\n",
    "    for phrase_len in range(2, max_phrase_length+1):\n",
    "        for tuple_of_tagged_words in n_wise(phrase_len, tagged_sent):\n",
    "            words, tags = zip(*tuple_of_tagged_words)\n",
    "            possible_phrase = \"_\".join(words)\n",
    "            if wn.synsets(possible_phrase): #If there are any, then it is a phrase\n",
    "                phrase = possible_phrase.split(\"_\")\n",
    "                pos = tags[-1]\n",
    "                yield(phrase, pos)\n"
   ]
  },
  {
   "cell_type": "code",
   "execution_count": null,
   "metadata": {
    "collapsed": true
   },
   "outputs": [],
   "source": []
  },
  {
   "cell_type": "code",
   "execution_count": null,
   "metadata": {
    "collapsed": true
   },
   "outputs": [],
   "source": []
  },
  {
   "cell_type": "code",
   "execution_count": 86,
   "metadata": {
    "collapsed": false
   },
   "outputs": [],
   "source": [
    "def get_tagged_phrases(tagged_sent, max_phrase_length):\n",
    "    tagged_phrase_sent = list(tagged_sent)\n",
    "    for phrase_len in range(max_phrase_length,1,-1): #Go from largest to smallest to keep information\n",
    "        for indexes in n_wise(phrase_len, range(len(tagged_sent))):\n",
    "            tagged_words = [tagged_phrase_sent[index] for index in indexes]\n",
    "            if not(any([tagged_word is None for tagged_word in tagged_words])):\n",
    "                words, tags = zip(*tagged_words)\n",
    "                possible_phrase = \"_\".join(words)\n",
    "                if wn.synsets(possible_phrase): #If there are any, then it is a phrase\n",
    "                    for index in indexes:\n",
    "                        tagged_phrase_sent[index] = None #Blank them out with Nones which we will remove later\n",
    "                    pos = tags[-1] #Use final tag, it will be the one we need for handling plurals\n",
    "                    tagged_phrase_sent[indexes[0]] = (possible_phrase, pos)\n",
    "    return [tagged_phrase for tagged_phrase in tagged_phrase_sent if not tagged_phrase is None]\n",
    "                    \n"
   ]
  },
  {
   "cell_type": "code",
   "execution_count": 87,
   "metadata": {
    "collapsed": false
   },
   "outputs": [
    {
     "data": {
      "text/plain": [
       "[(u'PCCW', u'NNP'),\n",
       " (u\"'s\", u'POS'),\n",
       " (u'chief_operating_officer', u'NN'),\n",
       " (u',', u','),\n",
       " (u'Mike', u'NNP'),\n",
       " (u'Butcher', u'NNP'),\n",
       " (u',', u','),\n",
       " (u'and', u'CC'),\n",
       " (u'the', u'DT'),\n",
       " (u'Arena', u'NNP'),\n",
       " (u'brothers', u'NNS'),\n",
       " (u',', u','),\n",
       " (u'the', u'DT'),\n",
       " (u'chief_financial_officers', u'NNS'),\n",
       " (u',', u','),\n",
       " (u'will', u'MD'),\n",
       " (u'report', u'VB'),\n",
       " (u'directly', u'RB'),\n",
       " (u'to', u'TO'),\n",
       " (u'the', u'DT'),\n",
       " (u'police_officer', u'NN'),\n",
       " (u'.', u'.')]"
      ]
     },
     "execution_count": 87,
     "metadata": {},
     "output_type": "execute_result"
    }
   ],
   "source": [
    "list("
   ]
  },
  {
   "cell_type": "code",
   "execution_count": 94,
   "metadata": {
    "collapsed": false
   },
   "outputs": [
    {
     "name": "stdout",
     "output_type": "stream",
     "text": [
      "It 's not too_bad but makes a_lot of unnatural sounding sentences .\n",
      "A Washington County man may have the countys first human case of West_Nile_virus , the health department said Friday\n",
      "It was a dusty , dry , hot day , and the flys were buzzing .\n",
      "The article is the most common determiner ( DT ) in English .\n",
      "We may have a question\n",
      "Is changing an odd number of verbs , adverbs , adjectives and nouns to their antonyms expected to produce a semantically distant sentence ?\n",
      "Both gerunds and infinitives can be used as the subject or the complement of a sentence .\n",
      "Shares of Xoma fell 16 percent in early trade , while shares of Genentech , a much larger company with several products on the market , were up 2 percent .\n",
      "Six months ago , the IMF and Argentina struck a bare-minimum $ 6.8-billion debt rollover deal that expires in August .\n",
      "He plans to have dinner with troops at Kosovo 's U.S. military_headquarters , Camp Bondsteel .\n",
      "After that , he plans to have dinner at Camp Bondsteel with U.S. troops stationed there .\n",
      "He added that prosecutors will seek the death_penalty .\n",
      "Who is this man ?\n",
      "Who is that man ?\n",
      "This evil thief stole that car !\n",
      "The motorist is angry , so the pedestrian is understandably scared\n",
      "The hero was brave , he defeated the dragon .\n",
      "The villian was cowardly , he was slain by the dragon .\n",
      "War and Peace opens in the Russian city of St._Petersburg in 1805 , as Napoleon 's conquest of western Europe is just beginning to stir fears in Russia .\n",
      "PCCW 's chief_operating_officer , Mike Butcher , and the Arena brothers , the chief_financial_officers , will report directly to the police_officer .\n"
     ]
    }
   ],
   "source": [
    "for sent in sents:\n",
    "    tagged_phrases = get_tagged_phrases(tokenize_and_tag(sent)[1],3)\n",
    "    phrases = zip(*tagged_phrases)[0]\n",
    "    print \" \".join(phrases)"
   ]
  },
  {
   "cell_type": "code",
   "execution_count": 97,
   "metadata": {
    "collapsed": false
   },
   "outputs": [
    {
     "data": {
      "text/plain": [
       "[u'headquarters', u'HQ', u'military_headquarters']"
      ]
     },
     "execution_count": 97,
     "metadata": {},
     "output_type": "execute_result"
    }
   ],
   "source": [
    "list(get_all_synonyms(\"military_headquarters\"))"
   ]
  },
  {
   "cell_type": "code",
   "execution_count": null,
   "metadata": {
    "collapsed": true
   },
   "outputs": [],
   "source": []
  }
 ],
 "metadata": {
  "kernelspec": {
   "display_name": "Python 2",
   "language": "python",
   "name": "python2"
  },
  "language_info": {
   "codemirror_mode": {
    "name": "ipython",
    "version": 2
   },
   "file_extension": ".py",
   "mimetype": "text/x-python",
   "name": "python",
   "nbconvert_exporter": "python",
   "pygments_lexer": "ipython2",
   "version": "2.7.9"
  }
 },
 "nbformat": 4,
 "nbformat_minor": 0
}
