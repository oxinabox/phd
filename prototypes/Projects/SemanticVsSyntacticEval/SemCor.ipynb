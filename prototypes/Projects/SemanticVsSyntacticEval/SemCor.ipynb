{
 "cells": [
  {
   "cell_type": "code",
   "execution_count": 42,
   "metadata": {
    "collapsed": true
   },
   "outputs": [],
   "source": [
    "import nltk\n",
    "from nltk.corpus import semcor\n",
    "from nltk.corpus import wordnet as wn\n",
    "import itertools"
   ]
  },
  {
   "cell_type": "code",
   "execution_count": 38,
   "metadata": {
    "collapsed": true
   },
   "outputs": [],
   "source": [
    "from SemanticCorruption import *"
   ]
  },
  {
   "cell_type": "code",
   "execution_count": null,
   "metadata": {
    "collapsed": true
   },
   "outputs": [],
   "source": [
    "#POS TAG comes from \"Brill Tagset\" (see page 215 of  book wordnet a exctionic lexical databAse, editted by Fellbaun)"
   ]
  },
  {
   "cell_type": "code",
   "execution_count": 54,
   "metadata": {
    "collapsed": false
   },
   "outputs": [],
   "source": [
    "a=semcor.tagged_sents(tag=\"both\")[42]"
   ]
  },
  {
   "cell_type": "code",
   "execution_count": 55,
   "metadata": {
    "collapsed": false
   },
   "outputs": [
    {
     "data": {
      "text/plain": [
       "[Tree(Lemma('person.n.01.person'), [Tree('NE', [Tree('NNP', ['State', 'Party', 'Chairman', 'James', 'W.', 'Dorsey'])])]),\n",
       " Tree(Lemma('add.v.02.add'), [Tree('VB', ['added'])]),\n",
       " Tree('IN', ['that']),\n",
       " Tree(Lemma('enthusiasm.n.03.enthusiasm'), [Tree('NN', ['enthusiasm'])]),\n",
       " Tree('VBD', ['was']),\n",
       " Tree(Lemma('turn_around.v.03.pick_up'), [Tree('VB', ['picking', 'up'])]),\n",
       " Tree('IN', ['for']),\n",
       " Tree('DT', ['a']),\n",
       " Tree(Lemma('state.n.01.state'), [Tree('NN', ['state'])]),\n",
       " Tree(Lemma('rally.n.01.rally'), [Tree('NN', ['rally'])]),\n",
       " Tree('TO', ['to']),\n",
       " Tree('VB', ['be']),\n",
       " Tree(Lemma('hold.v.03.hold'), [Tree('VB', ['held'])]),\n",
       " Tree(Lemma('september.n.01.Sept'), [Tree('NN', ['Sept.'])]),\n",
       " Tree('CD', ['8']),\n",
       " Tree('IN', ['in']),\n",
       " Tree(Lemma('savannah.n.01.Savannah'), [Tree('NN', ['Savannah'])]),\n",
       " Tree('IN', ['at']),\n",
       " Tree('WDT', ['which']),\n",
       " Tree(Lemma('newly.r.01.newly'), [Tree('RB', ['newly'])]),\n",
       " Tree(Lemma('elective.a.01.elected'), [Tree('JJ', ['elected'])]),\n",
       " Tree(Lemma('texas.n.01.Texas'), [Tree('NN', ['Texas'])]),\n",
       " Tree(Lemma('person.n.01.person'), [Tree('NE', [Tree('NNP', ['Sen.', 'John', 'Tower'])])]),\n",
       " Tree('MD', ['will']),\n",
       " Tree(Lemma('be.v.02.be'), [Tree('VB', ['be'])]),\n",
       " Tree('DT', ['the']),\n",
       " Tree(Lemma('featured.s.01.featured'), [Tree('JJ', ['featured'])]),\n",
       " Tree(Lemma('speaker.n.01.speaker'), [Tree('NN', ['speaker'])]),\n",
       " Tree(None, ['.'])]"
      ]
     },
     "execution_count": 55,
     "metadata": {},
     "output_type": "execute_result"
    }
   ],
   "source": [
    "a"
   ]
  },
  {
   "cell_type": "code",
   "execution_count": 15,
   "metadata": {
    "collapsed": false
   },
   "outputs": [
    {
     "data": {
      "text/plain": [
       "37176"
      ]
     },
     "execution_count": 15,
     "metadata": {},
     "output_type": "execute_result"
    }
   ],
   "source": [
    "#len(semcor.tagged_sents()) #37176"
   ]
  },
  {
   "cell_type": "code",
   "execution_count": null,
   "metadata": {
    "collapsed": true
   },
   "outputs": [],
   "source": []
  },
  {
   "cell_type": "code",
   "execution_count": 56,
   "metadata": {
    "collapsed": false
   },
   "outputs": [
    {
     "data": {
      "text/plain": [
       "[(u'State', u'NNP'),\n",
       " (u'Party', u'NNP'),\n",
       " (u'Chairman', u'NNP'),\n",
       " (u'James', u'NNP'),\n",
       " (u'W.', u'NNP'),\n",
       " (u'Dorsey', u'NNP'),\n",
       " (u'added', u'VBD'),\n",
       " (u'that', u'DT'),\n",
       " (u'enthusiasm', u'NN'),\n",
       " (u'was', u'VBD'),\n",
       " (u'picking', u'VBG'),\n",
       " (u'up', u'RP'),\n",
       " (u'for', u'IN'),\n",
       " (u'a', u'DT'),\n",
       " (u'state', u'NN'),\n",
       " (u'rally', u'NN'),\n",
       " (u'to', u'TO'),\n",
       " (u'be', u'VB'),\n",
       " (u'held', u'VBN'),\n",
       " (u'Sept.', u'NNP'),\n",
       " (u'8', u'CD'),\n",
       " (u'in', u'IN'),\n",
       " (u'Savannah', u'NNP'),\n",
       " (u'at', u'IN'),\n",
       " (u'which', u'WDT'),\n",
       " (u'newly', u'RB'),\n",
       " (u'elected', u'VBN'),\n",
       " (u'Texas', u'NNP'),\n",
       " (u'Sen.', u'NNP'),\n",
       " (u'John', u'NNP'),\n",
       " (u'Tower', u'NNP'),\n",
       " (u'will', u'MD'),\n",
       " (u'be', u'VB'),\n",
       " (u'the', u'DT'),\n",
       " (u'featured', u'JJ'),\n",
       " (u'speaker', u'NN'),\n",
       " (u'.', u'.')]"
      ]
     },
     "execution_count": 56,
     "metadata": {},
     "output_type": "execute_result"
    }
   ],
   "source": [
    "a_words = list(itertools.chain(*[word_ele.leaves() for word_ele in a]))\n",
    "pos_tag(a_words)"
   ]
  },
  {
   "cell_type": "code",
   "execution_count": 59,
   "metadata": {
    "collapsed": false
   },
   "outputs": [
    {
     "data": {
      "text/plain": [
       "[(u'State', u'NNP'),\n",
       " (u'Party', u'NNP'),\n",
       " (u'Chairman', u'NNP'),\n",
       " (u'James', u'NNP'),\n",
       " (u'W.', u'NNP'),\n",
       " (u'Dorsey', u'NNP'),\n",
       " (u'added', u'VBD'),\n",
       " (u'that', u'DT'),\n",
       " (u'enthusiasm', u'NN'),\n",
       " (u'was', u'VBD'),\n",
       " (u'picking', u'VBG'),\n",
       " (u'up', u'RP'),\n",
       " (u'for', u'IN'),\n",
       " (u'a', u'DT'),\n",
       " (u'state', u'NN'),\n",
       " (u'rally', u'NN'),\n",
       " (u'to', u'TO'),\n",
       " (u'be', u'VB'),\n",
       " (u'held', u'VBN'),\n",
       " (u'Sept.', u'NNP'),\n",
       " (u'8', u'CD'),\n",
       " (u'in', u'IN'),\n",
       " (u'Savannah', u'NNP'),\n",
       " (u'at', u'IN'),\n",
       " (u'which', u'WDT'),\n",
       " (u'newly', u'RB'),\n",
       " (u'elected', u'VBN'),\n",
       " (u'Texas', u'NNP'),\n",
       " (u'Sen.', u'NNP'),\n",
       " (u'John', u'NNP'),\n",
       " (u'Tower', u'NNP'),\n",
       " (u'will', u'MD'),\n",
       " (u'be', u'VB'),\n",
       " (u'the', u'DT'),\n",
       " (u'featured', u'JJ'),\n",
       " (u'speaker', u'NN'),\n",
       " (u'.', u'.')]"
      ]
     },
     "execution_count": 59,
     "metadata": {},
     "output_type": "execute_result"
    }
   ],
   "source": [
    "a_words = list([\" \".join(word_ele.leaves()) for word_ele in a])\n",
    "pos_tag(a_words)"
   ]
  },
  {
   "cell_type": "code",
   "execution_count": 22,
   "metadata": {
    "collapsed": false
   },
   "outputs": [
    {
     "data": {
      "text/plain": [
       "\"(Lemma('jury.n.01.jury') (NN jury))\""
      ]
     },
     "execution_count": 22,
     "metadata": {},
     "output_type": "execute_result"
    }
   ],
   "source": [
    "str(a[1])"
   ]
  },
  {
   "cell_type": "code",
   "execution_count": 28,
   "metadata": {
    "collapsed": false
   },
   "outputs": [
    {
     "data": {
      "text/plain": [
       "\"['City', 'Executive', 'Committee']\""
      ]
     },
     "execution_count": 28,
     "metadata": {},
     "output_type": "execute_result"
    }
   ],
   "source": [
    "str(a[10].leaves())"
   ]
  },
  {
   "cell_type": "code",
   "execution_count": 29,
   "metadata": {
    "collapsed": true
   },
   "outputs": [],
   "source": [
    "from collections import namedtuple\n",
    "TaggedWord = namedtuple(\"TaggedWord\", \"lemma pos word\")\n",
    "\n",
    "def simplify_sentence_tags(both_tagged_sent):\n",
    "    for tagged_word_ele in both_tagged_sent:\n",
    "        word = \"_\".join(tagged_word_ele.leaves()) #\"_\" joining handles phrases\n",
    "        \n",
    "        #Assume not labelled\n",
    "        lemma = None\n",
    "        pos_tree = tagged_word_ele\n",
    "        \n",
    "        if isinstance(tagged_word_ele.label(), nltk.corpus.reader.wordnet.Lemma):\n",
    "            lemma = tagged_word_ele.label()\n",
    "            pos_tree = tagged_word_ele[0]\n",
    "        \n",
    "            \n",
    "        pos = pos_tree.label()\n",
    "        yield TaggedWord(lemma=lemma, pos=pos, word=word)\n",
    "        \n",
    "            \n"
   ]
  },
  {
   "cell_type": "code",
   "execution_count": 30,
   "metadata": {
    "collapsed": false
   },
   "outputs": [
    {
     "data": {
      "text/plain": [
       "[TaggedWord(lemma=None, pos='DT', word=u'The'),\n",
       " TaggedWord(lemma=Lemma('jury.n.01.jury'), pos='NN', word=u'jury'),\n",
       " TaggedWord(lemma=Lemma('far.r.02.far'), pos='RB', word=u'further'),\n",
       " TaggedWord(lemma=Lemma('state.v.01.say'), pos='VB', word=u'said'),\n",
       " TaggedWord(lemma=None, pos='IN', word=u'in'),\n",
       " TaggedWord(lemma=Lemma('term.n.02.term'), pos='NN', word=u'term'),\n",
       " TaggedWord(lemma=Lemma('end.n.02.end'), pos='NN', word=u'end'),\n",
       " TaggedWord(lemma=Lemma('presentment.n.01.presentment'), pos='NN', word=u'presentments'),\n",
       " TaggedWord(lemma=None, pos='IN', word=u'that'),\n",
       " TaggedWord(lemma=None, pos='DT', word=u'the'),\n",
       " TaggedWord(lemma=Lemma('group.n.01.group'), pos=u'NE', word=u'City_Executive_Committee'),\n",
       " TaggedWord(lemma=None, pos=None, word=u','),\n",
       " TaggedWord(lemma=None, pos='WDT', word=u'which'),\n",
       " TaggedWord(lemma=Lemma('own.v.01.have'), pos='VB', word=u'had'),\n",
       " TaggedWord(lemma=Lemma('overall.s.02.overall'), pos='JJ', word=u'over-all'),\n",
       " TaggedWord(lemma=Lemma('mission.n.03.charge'), pos='NN', word=u'charge'),\n",
       " TaggedWord(lemma=None, pos='IN', word=u'of'),\n",
       " TaggedWord(lemma=None, pos='DT', word=u'the'),\n",
       " TaggedWord(lemma=Lemma('election.n.01.election'), pos='NN', word=u'election'),\n",
       " TaggedWord(lemma=None, pos=None, word=u','),\n",
       " TaggedWord(lemma=None, pos=None, word=u'``'),\n",
       " TaggedWord(lemma=Lemma('deserve.v.01.deserve'), pos='VB', word=u'deserves'),\n",
       " TaggedWord(lemma=None, pos='DT', word=u'the'),\n",
       " TaggedWord(lemma=Lemma('praise.n.01.praise'), pos='NN', word=u'praise'),\n",
       " TaggedWord(lemma=None, pos='CC', word=u'and'),\n",
       " TaggedWord(lemma=Lemma('thanks.n.01.thanks'), pos='NN', word=u'thanks'),\n",
       " TaggedWord(lemma=None, pos='IN', word=u'of'),\n",
       " TaggedWord(lemma=None, pos='DT', word=u'the'),\n",
       " TaggedWord(lemma=Lemma('location.n.01.location'), pos=u'NE', word=u'City_of_Atlanta'),\n",
       " TaggedWord(lemma=None, pos=None, word=u\"''\"),\n",
       " TaggedWord(lemma=None, pos='IN', word=u'for'),\n",
       " TaggedWord(lemma=None, pos='DT', word=u'the'),\n",
       " TaggedWord(lemma=Lemma('manner.n.01.manner'), pos='NN', word=u'manner'),\n",
       " TaggedWord(lemma=None, pos='RB', word=u'in'),\n",
       " TaggedWord(lemma=None, pos='RB', word=u'which'),\n",
       " TaggedWord(lemma=None, pos='DT', word=u'the'),\n",
       " TaggedWord(lemma=Lemma('election.n.01.election'), pos='NN', word=u'election'),\n",
       " TaggedWord(lemma=None, pos='VBD', word=u'was'),\n",
       " TaggedWord(lemma=Lemma('conduct.v.01.conduct'), pos='VB', word=u'conducted'),\n",
       " TaggedWord(lemma=None, pos=None, word=u'.')]"
      ]
     },
     "execution_count": 30,
     "metadata": {},
     "output_type": "execute_result"
    }
   ],
   "source": [
    "list(simplify_sentence_tags(a))"
   ]
  },
  {
   "cell_type": "code",
   "execution_count": 27,
   "metadata": {
    "collapsed": false
   },
   "outputs": [],
   "source": [
    "x=TaggedWord(lemma=\"a\", pos=\"b\", word=\"c\")"
   ]
  },
  {
   "cell_type": "code",
   "execution_count": 22,
   "metadata": {
    "collapsed": false
   },
   "outputs": [
    {
     "data": {
      "text/plain": [
       "('a', 'b', 'c')"
      ]
     },
     "execution_count": 22,
     "metadata": {},
     "output_type": "execute_result"
    }
   ],
   "source": [
    "tuple(x)"
   ]
  },
  {
   "cell_type": "code",
   "execution_count": 28,
   "metadata": {
    "collapsed": false
   },
   "outputs": [
    {
     "data": {
      "text/plain": [
       "\"(Lemma('group.n.01.group') (NE (NNP City Executive Committee)))\""
      ]
     },
     "execution_count": 28,
     "metadata": {},
     "output_type": "execute_result"
    }
   ],
   "source": [
    "str(a[10])"
   ]
  },
  {
   "cell_type": "code",
   "execution_count": 31,
   "metadata": {
    "collapsed": true
   },
   "outputs": [],
   "source": [
    "import pattern.en as en"
   ]
  },
  {
   "cell_type": "code",
   "execution_count": 36,
   "metadata": {
    "collapsed": false
   },
   "outputs": [
    {
     "data": {
      "text/plain": [
       "'runner'"
      ]
     },
     "execution_count": 36,
     "metadata": {},
     "output_type": "execute_result"
    }
   ],
   "source": [
    "en.inflect.grade(\"run\")"
   ]
  },
  {
   "cell_type": "code",
   "execution_count": 60,
   "metadata": {
    "collapsed": true
   },
   "outputs": [],
   "source": [
    "!git add SemCor.ipynb"
   ]
  },
  {
   "cell_type": "code",
   "execution_count": 61,
   "metadata": {
    "collapsed": false
   },
   "outputs": [
    {
     "name": "stdout",
     "output_type": "stream",
     "text": [
      "[master bfd8067] =added some tpoying with semcore\r\n",
      " 1 file changed, 503 insertions(+)\r\n",
      " create mode 100644 prototypes/Projects/SemanticVsSyntacticEval/SemCor.ipynb\r\n"
     ]
    }
   ],
   "source": [
    "!git commit -m=\"added some tpoying with semcore\""
   ]
  },
  {
   "cell_type": "code",
   "execution_count": null,
   "metadata": {
    "collapsed": false
   },
   "outputs": [
    {
     "name": "stdout",
     "output_type": "stream",
     "text": [
      "remote: Counting objects: 57, done.\u001b[K\n",
      "remote: Compressing objects: 100% (28/28), done.\u001b[K\n",
      "remote: Total 57 (delta 13), reused 1 (delta 1), pack-reused 26\u001b[K\n",
      "Unpacking objects: 100% (57/57), done.\n",
      "From github.com:oxinabox/phd\n",
      "   e9bac67..04a09d1  master     -> origin/master\n",
      "\u001b[?1000h\u001b7\u001b[?47h\u001b[?1h\u001b=\u001b[2;1H▽\u001b[6n\u001b[2;1H  \u001b[1;1H\u001b[1;24r\u001b[m\u001b[H\u001b[2J\u001b[24;1H\"~/phd/.git/MERGE_MSG\" 7L, 276C\u001b[>c\u001b[1;1H\u001b[33mMerge branch 'master' of github.com:oxinabox/phd\u001b[m\n",
      "\n",
      "\u001b[36m# Please enter a commit message to explain why this merge is necessary,\n",
      "# especially if it merges an updated upstream into a topic branch.\n",
      "#\n",
      "# Lines starting with '#' will be ignored, and an empty message aborts\n",
      "# the commit.\u001b[m\n",
      "\u001b[34m~                                                                               \u001b[9;1H~                                                                               \u001b[10;1H~                                                                               \u001b[11;1H~                                                                               \u001b[12;1H~                                                                               \u001b[13;1H~                                                                               \u001b[14;1H~                                                                               \u001b[15;1H~                                                                               \u001b[16;1H~                                                                               \u001b[17;1H~                                                                               \u001b[18;1H~                                                                               \u001b[19;1H~                                                                               \u001b[20;1H~                                                                               \u001b[21;1H~                                                                               \u001b[22;1H~                                                                               \u001b[23;1H~                                                                               \u001b[m\u001b[24;63H7,6\u001b[11CAll\u001b[7;6H"
     ]
    }
   ],
   "source": [
    "!git pull"
   ]
  },
  {
   "cell_type": "code",
   "execution_count": null,
   "metadata": {
    "collapsed": true
   },
   "outputs": [],
   "source": [
    "!git push"
   ]
  }
 ],
 "metadata": {
  "kernelspec": {
   "display_name": "Python 2",
   "language": "python",
   "name": "python2"
  },
  "language_info": {
   "codemirror_mode": {
    "name": "ipython",
    "version": 2
   },
   "file_extension": ".py",
   "mimetype": "text/x-python",
   "name": "python",
   "nbconvert_exporter": "python",
   "pygments_lexer": "ipython2",
   "version": "2.7.9"
  }
 },
 "nbformat": 4,
 "nbformat_minor": 0
}
