{
 "cells": [
  {
   "cell_type": "code",
   "execution_count": 1,
   "metadata": {
    "collapsed": true
   },
   "outputs": [],
   "source": [
    "import nltk\n",
    "from nltk.corpus import semcor\n",
    "from nltk.corpus import wordnet as wn\n",
    "import itertools"
   ]
  },
  {
   "cell_type": "code",
   "execution_count": 2,
   "metadata": {
    "collapsed": true
   },
   "outputs": [],
   "source": [
    "from SemanticCorruption import *"
   ]
  },
  {
   "cell_type": "code",
   "execution_count": 3,
   "metadata": {
    "collapsed": true
   },
   "outputs": [],
   "source": [
    "#POS TAG comes from \"Brill Tagset\" (see page 215 of  book wordnet a exctionic lexical databAse, editted by Fellbaun)"
   ]
  },
  {
   "cell_type": "code",
   "execution_count": 4,
   "metadata": {
    "collapsed": false
   },
   "outputs": [],
   "source": [
    "a=semcor.tagged_sents(tag=\"both\")[42]"
   ]
  },
  {
   "cell_type": "code",
   "execution_count": 5,
   "metadata": {
    "collapsed": false
   },
   "outputs": [
    {
     "data": {
      "text/plain": [
       "[Tree(Lemma('person.n.01.person'), [Tree('NE', [Tree('NNP', ['State', 'Party', 'Chairman', 'James', 'W.', 'Dorsey'])])]),\n",
       " Tree(Lemma('add.v.02.add'), [Tree('VB', ['added'])]),\n",
       " Tree('IN', ['that']),\n",
       " Tree(Lemma('enthusiasm.n.03.enthusiasm'), [Tree('NN', ['enthusiasm'])]),\n",
       " Tree('VBD', ['was']),\n",
       " Tree(Lemma('turn_around.v.03.pick_up'), [Tree('VB', ['picking', 'up'])]),\n",
       " Tree('IN', ['for']),\n",
       " Tree('DT', ['a']),\n",
       " Tree(Lemma('state.n.01.state'), [Tree('NN', ['state'])]),\n",
       " Tree(Lemma('rally.n.01.rally'), [Tree('NN', ['rally'])]),\n",
       " Tree('TO', ['to']),\n",
       " Tree('VB', ['be']),\n",
       " Tree(Lemma('hold.v.03.hold'), [Tree('VB', ['held'])]),\n",
       " Tree(Lemma('september.n.01.Sept'), [Tree('NN', ['Sept.'])]),\n",
       " Tree('CD', ['8']),\n",
       " Tree('IN', ['in']),\n",
       " Tree(Lemma('savannah.n.01.Savannah'), [Tree('NN', ['Savannah'])]),\n",
       " Tree('IN', ['at']),\n",
       " Tree('WDT', ['which']),\n",
       " Tree(Lemma('newly.r.01.newly'), [Tree('RB', ['newly'])]),\n",
       " Tree(Lemma('elective.a.01.elected'), [Tree('JJ', ['elected'])]),\n",
       " Tree(Lemma('texas.n.01.Texas'), [Tree('NN', ['Texas'])]),\n",
       " Tree(Lemma('person.n.01.person'), [Tree('NE', [Tree('NNP', ['Sen.', 'John', 'Tower'])])]),\n",
       " Tree('MD', ['will']),\n",
       " Tree(Lemma('be.v.02.be'), [Tree('VB', ['be'])]),\n",
       " Tree('DT', ['the']),\n",
       " Tree(Lemma('featured.s.01.featured'), [Tree('JJ', ['featured'])]),\n",
       " Tree(Lemma('speaker.n.01.speaker'), [Tree('NN', ['speaker'])]),\n",
       " Tree(None, ['.'])]"
      ]
     },
     "execution_count": 5,
     "metadata": {},
     "output_type": "execute_result"
    }
   ],
   "source": [
    "a"
   ]
  },
  {
   "cell_type": "code",
   "execution_count": 6,
   "metadata": {
    "collapsed": false
   },
   "outputs": [],
   "source": [
    "#len(semcor.tagged_sents()) #37176"
   ]
  },
  {
   "cell_type": "code",
   "execution_count": null,
   "metadata": {
    "collapsed": true
   },
   "outputs": [],
   "source": []
  },
  {
   "cell_type": "code",
   "execution_count": 7,
   "metadata": {
    "collapsed": false
   },
   "outputs": [
    {
     "data": {
      "text/plain": [
       "[(u'State', u'NNP'),\n",
       " (u'Party', u'NNP'),\n",
       " (u'Chairman', u'NNP'),\n",
       " (u'James', u'NNP'),\n",
       " (u'W.', u'NNP'),\n",
       " (u'Dorsey', u'NNP'),\n",
       " (u'added', u'VBD'),\n",
       " (u'that', u'DT'),\n",
       " (u'enthusiasm', u'NN'),\n",
       " (u'was', u'VBD'),\n",
       " (u'picking', u'VBG'),\n",
       " (u'up', u'RP'),\n",
       " (u'for', u'IN'),\n",
       " (u'a', u'DT'),\n",
       " (u'state', u'NN'),\n",
       " (u'rally', u'NN'),\n",
       " (u'to', u'TO'),\n",
       " (u'be', u'VB'),\n",
       " (u'held', u'VBN'),\n",
       " (u'Sept.', u'NNP'),\n",
       " (u'8', u'CD'),\n",
       " (u'in', u'IN'),\n",
       " (u'Savannah', u'NNP'),\n",
       " (u'at', u'IN'),\n",
       " (u'which', u'WDT'),\n",
       " (u'newly', u'RB'),\n",
       " (u'elected', u'VBN'),\n",
       " (u'Texas', u'NNP'),\n",
       " (u'Sen.', u'NNP'),\n",
       " (u'John', u'NNP'),\n",
       " (u'Tower', u'NNP'),\n",
       " (u'will', u'MD'),\n",
       " (u'be', u'VB'),\n",
       " (u'the', u'DT'),\n",
       " (u'featured', u'JJ'),\n",
       " (u'speaker', u'NN'),\n",
       " (u'.', u'.')]"
      ]
     },
     "execution_count": 7,
     "metadata": {},
     "output_type": "execute_result"
    }
   ],
   "source": [
    "a_words = list(itertools.chain(*[word_ele.leaves() for word_ele in a]))\n",
    "pos_tag(a_words)"
   ]
  },
  {
   "cell_type": "code",
   "execution_count": 8,
   "metadata": {
    "collapsed": false
   },
   "outputs": [
    {
     "data": {
      "text/plain": [
       "[(u'State', u'NNP'),\n",
       " (u'Party', u'NNP'),\n",
       " (u'Chairman', u'NNP'),\n",
       " (u'James', u'NNP'),\n",
       " (u'W.', u'NNP'),\n",
       " (u'Dorsey', u'NNP'),\n",
       " (u'added', u'VBD'),\n",
       " (u'that', u'DT'),\n",
       " (u'enthusiasm', u'NN'),\n",
       " (u'was', u'VBD'),\n",
       " (u'picking', u'VBG'),\n",
       " (u'up', u'RP'),\n",
       " (u'for', u'IN'),\n",
       " (u'a', u'DT'),\n",
       " (u'state', u'NN'),\n",
       " (u'rally', u'NN'),\n",
       " (u'to', u'TO'),\n",
       " (u'be', u'VB'),\n",
       " (u'held', u'VBN'),\n",
       " (u'Sept.', u'NNP'),\n",
       " (u'8', u'CD'),\n",
       " (u'in', u'IN'),\n",
       " (u'Savannah', u'NNP'),\n",
       " (u'at', u'IN'),\n",
       " (u'which', u'WDT'),\n",
       " (u'newly', u'RB'),\n",
       " (u'elected', u'VBN'),\n",
       " (u'Texas', u'NNP'),\n",
       " (u'Sen.', u'NNP'),\n",
       " (u'John', u'NNP'),\n",
       " (u'Tower', u'NNP'),\n",
       " (u'will', u'MD'),\n",
       " (u'be', u'VB'),\n",
       " (u'the', u'DT'),\n",
       " (u'featured', u'JJ'),\n",
       " (u'speaker', u'NN'),\n",
       " (u'.', u'.')]"
      ]
     },
     "execution_count": 8,
     "metadata": {},
     "output_type": "execute_result"
    }
   ],
   "source": [
    "a_words = list([\" \".join(word_ele.leaves()) for word_ele in a])\n",
    "pos_tag(a_words)"
   ]
  },
  {
   "cell_type": "code",
   "execution_count": 9,
   "metadata": {
    "collapsed": false
   },
   "outputs": [
    {
     "data": {
      "text/plain": [
       "\"(Lemma('add.v.02.add') (VB added))\""
      ]
     },
     "execution_count": 9,
     "metadata": {},
     "output_type": "execute_result"
    }
   ],
   "source": [
    "str(a[1])"
   ]
  },
  {
   "cell_type": "code",
   "execution_count": 10,
   "metadata": {
    "collapsed": false
   },
   "outputs": [
    {
     "data": {
      "text/plain": [
       "\"[u'to']\""
      ]
     },
     "execution_count": 10,
     "metadata": {},
     "output_type": "execute_result"
    }
   ],
   "source": [
    "str(a[10].leaves())"
   ]
  },
  {
   "cell_type": "code",
   "execution_count": 11,
   "metadata": {
    "collapsed": true
   },
   "outputs": [],
   "source": [
    "from collections import namedtuple\n",
    "TaggedWord = namedtuple(\"TaggedWord\", \"lemma pos word\")\n",
    "\n",
    "def simplify_sentence_tags(both_tagged_sent):\n",
    "    for tagged_word_ele in both_tagged_sent:\n",
    "        word = \"_\".join(tagged_word_ele.leaves()) #\"_\" joining handles phrases\n",
    "        \n",
    "        #Assume not labelled\n",
    "        lemma = None\n",
    "        pos_tree = tagged_word_ele\n",
    "        \n",
    "        if isinstance(tagged_word_ele.label(), nltk.corpus.reader.wordnet.Lemma):\n",
    "            lemma = tagged_word_ele.label()\n",
    "            pos_tree = tagged_word_ele[0]\n",
    "        \n",
    "            \n",
    "        pos = pos_tree.label()\n",
    "        yield TaggedWord(lemma=lemma, pos=pos, word=word)\n",
    "        \n",
    "            \n"
   ]
  },
  {
   "cell_type": "code",
   "execution_count": 12,
   "metadata": {
    "collapsed": false
   },
   "outputs": [],
   "source": [
    "a_tagged = list(simplify_sentence_tags(a))"
   ]
  },
  {
   "cell_type": "code",
   "execution_count": 13,
   "metadata": {
    "collapsed": false
   },
   "outputs": [],
   "source": [
    "l=a_tagged[1].lemma"
   ]
  },
  {
   "cell_type": "code",
   "execution_count": 14,
   "metadata": {
    "collapsed": false
   },
   "outputs": [],
   "source": [
    "l=wn.lemmas(\"wake\", wn.VERB)[0]"
   ]
  },
  {
   "cell_type": "code",
   "execution_count": 15,
   "metadata": {
    "collapsed": false
   },
   "outputs": [
    {
     "data": {
      "text/plain": [
       "[Lemma('sleep.v.01.sleep')]"
      ]
     },
     "execution_count": 15,
     "metadata": {},
     "output_type": "execute_result"
    }
   ],
   "source": [
    "l.antonyms()"
   ]
  },
  {
   "cell_type": "code",
   "execution_count": 16,
   "metadata": {
    "collapsed": false
   },
   "outputs": [],
   "source": [
    "l=wn.lemmas(\"try\",wn.VERB)[0]"
   ]
  },
  {
   "cell_type": "code",
   "execution_count": 17,
   "metadata": {
    "collapsed": false
   },
   "outputs": [
    {
     "data": {
      "text/plain": [
       "[]"
      ]
     },
     "execution_count": 17,
     "metadata": {},
     "output_type": "execute_result"
    }
   ],
   "source": [
    "l.entailments()"
   ]
  },
  {
   "cell_type": "code",
   "execution_count": 23,
   "metadata": {
    "collapsed": false
   },
   "outputs": [
    {
     "ename": "AttributeError",
     "evalue": "'Synset' object has no attribute 'graded'",
     "output_type": "error",
     "traceback": [
      "\u001b[1;31m---------------------------------------------------------------------------\u001b[0m",
      "\u001b[1;31mAttributeError\u001b[0m                            Traceback (most recent call last)",
      "\u001b[1;32m<ipython-input-23-f719f1267a7d>\u001b[0m in \u001b[0;36m<module>\u001b[1;34m()\u001b[0m\n\u001b[0;32m      1\u001b[0m \u001b[1;32mfor\u001b[0m \u001b[0ml\u001b[0m \u001b[1;32min\u001b[0m \u001b[0mwn\u001b[0m\u001b[1;33m.\u001b[0m\u001b[0mlemmas\u001b[0m\u001b[1;33m(\u001b[0m\u001b[1;34m\"hot\"\u001b[0m\u001b[1;33m,\u001b[0m \u001b[0mwn\u001b[0m\u001b[1;33m.\u001b[0m\u001b[0mADJ\u001b[0m\u001b[1;33m)\u001b[0m\u001b[1;33m:\u001b[0m\u001b[1;33m\u001b[0m\u001b[0m\n\u001b[1;32m----> 2\u001b[1;33m     \u001b[1;32mprint\u001b[0m\u001b[1;33m(\u001b[0m\u001b[0ml\u001b[0m\u001b[1;33m.\u001b[0m\u001b[0msynset\u001b[0m\u001b[1;33m(\u001b[0m\u001b[1;33m)\u001b[0m\u001b[1;33m.\u001b[0m\u001b[0mgraded\u001b[0m\u001b[1;33m(\u001b[0m\u001b[1;33m)\u001b[0m\u001b[1;33m)\u001b[0m\u001b[1;33m\u001b[0m\u001b[0m\n\u001b[0m",
      "\u001b[1;31mAttributeError\u001b[0m: 'Synset' object has no attribute 'graded'"
     ]
    }
   ],
   "source": [
    "for l in wn.lemmas(\"hot\", wn.ADJ):\n",
    "    print(l.synset().graded())"
   ]
  },
  {
   "cell_type": "code",
   "execution_count": 19,
   "metadata": {
    "collapsed": false
   },
   "outputs": [
    {
     "data": {
      "text/plain": [
       "[]"
      ]
     },
     "execution_count": 19,
     "metadata": {},
     "output_type": "execute_result"
    }
   ],
   "source": [
    "l.synset().verb_groups()"
   ]
  },
  {
   "cell_type": "code",
   "execution_count": 20,
   "metadata": {
    "collapsed": false
   },
   "outputs": [],
   "source": [
    "s=l.synset()"
   ]
  },
  {
   "cell_type": "code",
   "execution_count": 21,
   "metadata": {
    "collapsed": false
   },
   "outputs": [
    {
     "data": {
      "text/plain": [
       "[Synset('active.a.05')]"
      ]
     },
     "execution_count": 21,
     "metadata": {},
     "output_type": "execute_result"
    }
   ],
   "source": [
    "s.similar_tos()"
   ]
  },
  {
   "cell_type": "code",
   "execution_count": null,
   "metadata": {
    "collapsed": true
   },
   "outputs": [],
   "source": [
    "s."
   ]
  }
 ],
 "metadata": {
  "kernelspec": {
   "display_name": "Python 2",
   "language": "python",
   "name": "python2"
  },
  "language_info": {
   "codemirror_mode": {
    "name": "ipython",
    "version": 2
   },
   "file_extension": ".py",
   "mimetype": "text/x-python",
   "name": "python",
   "nbconvert_exporter": "python",
   "pygments_lexer": "ipython2",
   "version": "2.7.9"
  }
 },
 "nbformat": 4,
 "nbformat_minor": 0
}
