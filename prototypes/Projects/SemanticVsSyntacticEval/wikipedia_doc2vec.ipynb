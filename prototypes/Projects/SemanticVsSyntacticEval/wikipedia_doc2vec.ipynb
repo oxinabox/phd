{
 "cells": [
  {
   "cell_type": "code",
   "execution_count": 1,
   "metadata": {
    "collapsed": true
   },
   "outputs": [],
   "source": [
    "import nltk\n",
    "import gensim\n",
    "import gensim.models.doc2vec as doc2vec\n",
    "from glob import glob"
   ]
  },
  {
   "cell_type": "code",
   "execution_count": 2,
   "metadata": {
    "collapsed": true
   },
   "outputs": [],
   "source": [
    "import numpy as np\n",
    "import random"
   ]
  },
  {
   "cell_type": "code",
   "execution_count": 3,
   "metadata": {
    "collapsed": false
   },
   "outputs": [],
   "source": [
    "fileids = glob(\"/scratch/oxinabox/wikipedia_corpus2/Wikipedia_Tagged/*/*\")\n",
    "np.random.shuffle(fileids)\n",
    "fileids = fileids[1:2000]\n",
    "corpus_reader = nltk.corpus.TaggedCorpusReader(root=\".\",fileids=fileids , sep=\"|\")\n"
   ]
  },
  {
   "cell_type": "code",
   "execution_count": null,
   "metadata": {
    "collapsed": false
   },
   "outputs": [],
   "source": []
  },
  {
   "cell_type": "code",
   "execution_count": 4,
   "metadata": {
    "collapsed": true
   },
   "outputs": [],
   "source": [
    "fileids = glob(\"/scratch/oxinabox/wikipedia_corpus2/Wikipedia_Untagged/*/*\")\n",
    "np.random.shuffle(fileids)\n",
    "fileids = fileids[1:2000]#[1:500]\n",
    "corpus_reader = nltk.corpus.PlaintextCorpusReader(root=\".\",fileids=fileids, word_tokenizer=nltk.tokenize.SpaceTokenizer())\n",
    "\n"
   ]
  },
  {
   "cell_type": "code",
   "execution_count": 5,
   "metadata": {
    "collapsed": false
   },
   "outputs": [],
   "source": [
    "docs = corpus_reader.sents()\n",
    "docs = (map(lambda case: doc2vec.TaggedDocument(case[1],(case[0],)), enumerate(docs)))\n"
   ]
  },
  {
   "cell_type": "code",
   "execution_count": null,
   "metadata": {
    "collapsed": false
   },
   "outputs": [],
   "source": [
    "docs=list(docs)\n",
    "len(docs)"
   ]
  },
  {
   "cell_type": "code",
   "execution_count": 42,
   "metadata": {
    "collapsed": false
   },
   "outputs": [],
   "source": [
    "model = doc2vec.Doc2Vec(docs,\n",
    "        size=300, \n",
    "        alpha=0.025,\n",
    "        window=8, \n",
    "        min_count=5,\n",
    "        sample=0,\n",
    "        workers=6,\n",
    "        min_alpha=0.0001,\n",
    "        dm=1,\n",
    "        hs=1,\n",
    "        negative=5,\n",
    "        dm_concat=1,\n",
    "        dm_mean=0)\n",
    "\n",
    "model.save(\"wiki_sentence_model_concat_model\")"
   ]
  },
  {
   "cell_type": "code",
   "execution_count": null,
   "metadata": {
    "collapsed": true
   },
   "outputs": [],
   "source": []
  },
  {
   "cell_type": "code",
   "execution_count": 8,
   "metadata": {
    "collapsed": false
   },
   "outputs": [],
   "source": [
    "model = doc2vec.Doc2Vec(docs,\n",
    "        size=300, \n",
    "        alpha=0.025,\n",
    "        window=8, \n",
    "        min_count=5,\n",
    "        sample=0,\n",
    "        workers=6,\n",
    "        min_alpha=0.0001,\n",
    "        dm=0, #Us DBOW\n",
    "        hs=1,\n",
    "        negative=5,\n",
    "        )\n",
    "\n",
    "model.save(\"wiki_sentence_model_dbow_model\")"
   ]
  },
  {
   "cell_type": "code",
   "execution_count": null,
   "metadata": {
    "collapsed": true
   },
   "outputs": [],
   "source": [
    "model = doc2vec.Doc2Vec(docs,\n",
    "        size=400, \n",
    "        alpha=0.025,\n",
    "        window=10, \n",
    "        min_count=5,\n",
    "        sample=0,\n",
    "        workers=6,\n",
    "        min_alpha=0.0001,\n",
    "        dm=0, #Us DBOW\n",
    "        hs=1,\n",
    "        negative=5,\n",
    "        )\n",
    "\n",
    "model.save(\"wiki_2000_sentence_dbow_model\")"
   ]
  },
  {
   "cell_type": "code",
   "execution_count": null,
   "metadata": {
    "collapsed": true
   },
   "outputs": [],
   "source": []
  }
 ],
 "metadata": {
  "kernelspec": {
   "display_name": "Python 3",
   "language": "python",
   "name": "python3"
  },
  "language_info": {
   "codemirror_mode": {
    "name": "ipython",
    "version": 3
   },
   "file_extension": ".py",
   "mimetype": "text/x-python",
   "name": "python",
   "nbconvert_exporter": "python",
   "pygments_lexer": "ipython3",
   "version": "3.4.3"
  }
 },
 "nbformat": 4,
 "nbformat_minor": 0
}
