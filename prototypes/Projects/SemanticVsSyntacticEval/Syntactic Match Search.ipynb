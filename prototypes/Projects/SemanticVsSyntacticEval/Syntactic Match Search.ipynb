{
 "cells": [
  {
   "cell_type": "code",
   "execution_count": 1,
   "metadata": {
    "collapsed": true
   },
   "outputs": [],
   "source": [
    "import nltk\n",
    "import numpy as np\n",
    "from collections import defaultdict, Counter"
   ]
  },
  {
   "cell_type": "code",
   "execution_count": 107,
   "metadata": {
    "collapsed": false
   },
   "outputs": [],
   "source": []
  },
  {
   "cell_type": "code",
   "execution_count": 194,
   "metadata": {
    "collapsed": false
   },
   "outputs": [],
   "source": [
    "with open(\"masc_tag_dict.pickle\",\"wb\") as fh:\n",
    "    pickle.dump(dict(penn_tags2phrases),fh,2)"
   ]
  },
  {
   "cell_type": "code",
   "execution_count": 189,
   "metadata": {
    "collapsed": false
   },
   "outputs": [],
   "source": [
    "corpus_reader = nltk.corpus.masc_tagged#nltk.corpus.treebank\n",
    "penn_tags2phrases = defaultdict(set)\n",
    "\n",
    "numeric_words = frozenset(\"am pm monday tuesday wednesday thursday friday saturday sunday january february march april may june july august september october november december\".split(' '))\n",
    "punctuation_tags = frozenset({',','.','SYM',\"''\",'``', ':'})\n",
    "for sent in corpus_reader.tagged_sents():\n",
    "    bad_count = 0#len([1 for word,tag in sent if tag=='NNP' or  tag=='CD' or word.lower() in numeric_words])\n",
    "    word_count = 1#len([1 for word,tag in sent if not tag in punctuation_tags])\n",
    "    if word_count>0 and bad_count/word_count<0.3:\n",
    "        words, tags = zip(*sent)\n",
    "        penn_tags2phrases[tags].add(words)\n",
    "\n",
    "        "
   ]
  },
  {
   "cell_type": "code",
   "execution_count": 181,
   "metadata": {
    "collapsed": false
   },
   "outputs": [],
   "source": [
    "\n",
    "repeated_tags = frozenset([tags for (tags,sents) in penn_tags2phrases.items() if len(sents)>1 and len(tags)> 5])\n",
    "\n",
    "tags2repeated_phrase = {tags:list(sents) for tags,sents in penn_tags2phrases.items() if tags in repeated_tags}\n",
    "    "
   ]
  },
  {
   "cell_type": "code",
   "execution_count": 182,
   "metadata": {
    "collapsed": false
   },
   "outputs": [
    {
     "data": {
      "text/plain": [
       "316"
      ]
     },
     "execution_count": 182,
     "metadata": {},
     "output_type": "execute_result"
    }
   ],
   "source": [
    "sum(map(len,tags2repeated_phrase.values()))"
   ]
  },
  {
   "cell_type": "code",
   "execution_count": 123,
   "metadata": {
    "collapsed": true
   },
   "outputs": [],
   "source": [
    "model = None\n",
    "import pickle\n",
    "with open(\"wiki_sentence_model.pickle\", \"br\") as model_fs:\n",
    "    model = pickle.load(model_fs)"
   ]
  },
  {
   "cell_type": "code",
   "execution_count": 183,
   "metadata": {
    "collapsed": false,
    "scrolled": true
   },
   "outputs": [
    {
     "data": {
      "text/plain": [
       "[\"That 's correct , Your Honor .\",\n",
       " 'That is correct , Your Honor .',\n",
       " 'You may call your next witness .',\n",
       " 'They can make their own lysine .',\n",
       " 'I laugh at their folly .',\n",
       " 'I pray for my family .',\n",
       " 'You get credit for trying .',\n",
       " 'I know something about prosecuting .',\n",
       " 'Woo , felt the tremor .',\n",
       " 'Lipschitz , sighed the lady .',\n",
       " \"I think it 's a fundamental difference .\",\n",
       " \"I think he 's a good person .\",\n",
       " 'We would just move on .',\n",
       " \"We could n't get in .\",\n",
       " 'It reminded her of her mother .',\n",
       " 'I gathered her under my arm .',\n",
       " \"I 'll screw him , sir .\",\n",
       " \"I 'll twist him , sir .\",\n",
       " 'I ask you for your help .',\n",
       " 'I ask you for your trust .',\n",
       " 'SAMUEL PERKINS ( turning on the TV',\n",
       " 'ALAN GRANT ( Searching for the word',\n",
       " '“ What do you mean ? ”',\n",
       " '“ What do you think ? ”',\n",
       " 'We had a lot of devices .',\n",
       " 'We discussed the representation for arrays .',\n",
       " 'How do you see it ?',\n",
       " 'How do I like them ?',\n",
       " 'How do you know him ?',\n",
       " 'Thank you for your time .',\n",
       " 'Thank you for your cooperation .',\n",
       " 'Thank you for your understanding .',\n",
       " 'We were all quiet for a moment .',\n",
       " 'I invested that nickel in an apple .',\n",
       " 'I just wanted a job .',\n",
       " 'I finally cracked a smile .',\n",
       " 'I totally bought the concept .',\n",
       " 'I finally finished the page !',\n",
       " 'JULIE SMITH , called as a witness , having been duly sworn or affirmed , testified as follows :',\n",
       " 'BETH EVELAND , called as a witness , having been duly sworn or affirmed , testified as follows :',\n",
       " 'CHRISTY REHM , called as a witness , having been duly sworn or affirmed , testified as follows :',\n",
       " 'No one else said anything .',\n",
       " 'The grass eventually became overgrown .',\n",
       " 'Any place but this place .',\n",
       " 'a boy and a girl .',\n",
       " 'I looked around me feverishly .',\n",
       " 'He looked around him uncertainly .',\n",
       " 'The technology is certainly available .',\n",
       " 'The place is practically deserted .',\n",
       " \"G : You 're welcome .\",\n",
       " 'Sadie : I feel wonderful .',\n",
       " '\" This is a recorded message .',\n",
       " '\" This is a great thing !',\n",
       " 'eserver@enron.com on 04/13/2001 02:35:43 PM To : \" Steven.J.Kean@enron.com \" < Steven.J.Kean@enron.com > cc :',\n",
       " 'eserver@enron.com on 04/10/2001 01:45:03 PM To : \" Steven.J.Kean@enron.com \" < Steven.J.Kean@enron.com > cc :',\n",
       " \"I 'll work with friends .\",\n",
       " \"I 'll work with allies .\",\n",
       " \"I 'm a free man !\",\n",
       " 'I am a legal assistant .',\n",
       " \"I 'm a medical technologist .\",\n",
       " 'You have a special phone ?',\n",
       " 'They have the unmidas touch .',\n",
       " 'And there is no system .',\n",
       " 'And there is an example .',\n",
       " 'Nepthys slapped me on the back .',\n",
       " 'God turned him into a woman .',\n",
       " 'We believe in tough love .',\n",
       " 'I believe in limited government .',\n",
       " 'We are on shaky ground .',\n",
       " 'I have a plane flight .',\n",
       " \"I 'm a gun owner .\",\n",
       " 'We receive no government funding .',\n",
       " 'He thought for a minute .',\n",
       " 'I was at a loss .',\n",
       " 'I held in a sigh .',\n",
       " 'I keep evading the issue .',\n",
       " \"We 're changing the language .\",\n",
       " \"You 're trying this case .\",\n",
       " 'Arthur sighed and sipped his wine .',\n",
       " 'Arthur rose and shook his hand .',\n",
       " \"They 're in the library ?\",\n",
       " \"They 're on the mainland .\",\n",
       " 'My opponent voted against it .',\n",
       " 'My opponent was against it .',\n",
       " 'He took a deep breath .',\n",
       " 'I proposed a constitutional amendment .',\n",
       " 'He was a good guy .',\n",
       " 'He downed the second shot .',\n",
       " 'I had no safe refuge .',\n",
       " 'We heard the same thing .',\n",
       " 'I took a deep breath .',\n",
       " 'Go to : http://www.mysasan.info/bb/ to have multiple credit card processing companies compete for your business today .',\n",
       " 'Go to : http://www.mysasan.info/bb/ to have multiple credit card processing companies bid for your business today .',\n",
       " 'So , a short soliloquy .',\n",
       " 'Also , a perfect strike .',\n",
       " 'It doesn ’ t change .',\n",
       " 'She didn ’ t notice .',\n",
       " 'I didn ’ t care .',\n",
       " 'I couldn ’ t move .',\n",
       " '“ Yes , master . ”',\n",
       " '“ Oh , shit ! ”',\n",
       " 'He volunteered to capture the snake .',\n",
       " 'I resolved to break the pattern .',\n",
       " \"He ca n't be here .\",\n",
       " 'We could only hope not .',\n",
       " 'You can still walk away .',\n",
       " \"That 's not what we want .\",\n",
       " \"That 's not what I have .\",\n",
       " 'Gianna simply stared at me .',\n",
       " 'Nepthys quickly answered for me .',\n",
       " 'You can finish your answer .',\n",
       " 'It will be my pleasure .',\n",
       " 'One of the very originals , totally unrivalled product is easy accessible at any place !',\n",
       " 'One of the very originals , totally unrivalled stuff is easy accessible at any place !',\n",
       " 'Um , no idea then .',\n",
       " 'Bother , no #radio3 here !',\n",
       " 'And Christmas would come , and Christmas would go .',\n",
       " 'And Easter would come , and Easter would go .',\n",
       " 'I understand your concern in that regard .',\n",
       " 'I put my foot in the way .',\n",
       " 'Procrastination always was your forte .',\n",
       " 'Chad just hung his head .',\n",
       " 'No , I do not .',\n",
       " \"No , I do n't .\",\n",
       " 'Seth follows with some trepidation .',\n",
       " 'Fruit flies like a banana .',\n",
       " 'And they got the ultimate punishment .',\n",
       " 'But it was a necessary exercise .',\n",
       " 'I will not privatize it .',\n",
       " \"I could n't find her .\",\n",
       " 'I will never forget you .',\n",
       " \"I ca n't do it .\",\n",
       " \"I could n't believe it .\",\n",
       " 'I will not abandon you .',\n",
       " 'I can never trust him .',\n",
       " \"You 've no idea how long it took us to catch that .\",\n",
       " 'You have no idea how long it took us to write this .',\n",
       " \"Now , there 's more work to do .\",\n",
       " \"Sure , there 's more work to do .\",\n",
       " 'It smelled like first grade .',\n",
       " 'I froze in mid-dance step .',\n",
       " 'I hope this answers your inquiry .',\n",
       " \"I think that 's their argument .\",\n",
       " '“ Great , ” I countered .',\n",
       " '“ Mmm , ” she replied .',\n",
       " 'Shortening everything on the fly .',\n",
       " 'Solid pitcher for a while .',\n",
       " \"I 'll give you an example .\",\n",
       " 'It will do you no good .',\n",
       " 'Building relationships on a budget http://bit.ly/2ODKXY',\n",
       " 'Building relationships on a budget http://bit.ly/uwSaV',\n",
       " 'I went to Washington to solve problems .',\n",
       " 'I came to Washington to solve problems .',\n",
       " 'I thought that was a real painting !',\n",
       " 'I thought that was a good model .',\n",
       " 'Disease took a further toll .',\n",
       " 'Arthur raised a critical brow .',\n",
       " 'Your donation will help give an animal a safe home !',\n",
       " 'Your gift will help give an animal a safe home .',\n",
       " 'GIBBS : Mind the boat .',\n",
       " 'PINTEL : Mind the boat .',\n",
       " 'MARTY : Mind the boat .',\n",
       " 'Your job is absolutely legal .',\n",
       " 'His voice is so melodious .',\n",
       " 'Once again , the female staff at Whatsamatta University will be offering courses for men of all marital status in an attempt to help males and females understand each other better .',\n",
       " 'Once again , the male staff at Whatsamatta University will be offering courses for women of all marital status in an attempt to help males and females understand each other better .',\n",
       " 'Ha - ha - ha - ha - ha - ha .',\n",
       " 'Heh - heh - heh - heh - heh - heh .',\n",
       " 'We may have to take some other reform .',\n",
       " 'I will try to do the same thing .',\n",
       " '“ Where are we going ? ”',\n",
       " '“ Where are you going ? ”',\n",
       " '“ How are you feeling ? ”',\n",
       " \"Yeah , that 's right .\",\n",
       " \"Yes , that 's correct .\",\n",
       " 'I do , I do .',\n",
       " 'I know , I know .',\n",
       " 'I have , I have .',\n",
       " '\" What is this ? \"',\n",
       " '\" What \\'s that ? \"',\n",
       " 'This is a recorded message .',\n",
       " \"That 's a fair statement .\",\n",
       " 'This is the true story .',\n",
       " \"That 's a cool shirt .\",\n",
       " 'That makes the 27th time .',\n",
       " 'This is an economic statute .',\n",
       " \"That 's an important continent .\",\n",
       " \"That 's a scary question .\",\n",
       " 'That is the whole story .',\n",
       " 'This is a faulty generalization .',\n",
       " 'That is an outrageous claim .',\n",
       " \"That 's an interesting question .\",\n",
       " 'That is a huge omission .',\n",
       " '] [ Beckett signs the document',\n",
       " '] [ Beckett pours some liquor',\n",
       " 'Then there were equally good arguments that ... JESUS WAS ITALIAN',\n",
       " 'Then there were equally good arguments that ... JESUS WAS IRISH',\n",
       " 'Then there were equally good arguments that ... JESUS WAS JEWISH',\n",
       " 'Are we heading for another bubble ?',\n",
       " 'Are you looking for a loan ?',\n",
       " 'Ha - ha - ha !',\n",
       " 'Tsk - tsk - tsk .',\n",
       " '( Retail value : $40.85 ) Holiday Price $29.95',\n",
       " '( Retail value : $28.90 ) Holiday Price $19.95',\n",
       " 'Thank you , Mr. President .',\n",
       " 'Thank you , Mr. Thompson .',\n",
       " 'Thank you , Mr. Lessig .',\n",
       " 'Arthur grimaced at the vivid description .',\n",
       " 'Lucy ordered in a soft whisper .',\n",
       " 'Pike appears undissuadable in my view .',\n",
       " 'Guangzhou is famous for its food .',\n",
       " 'TEN- Kids in the back seat cause accidents .',\n",
       " 'ELEVEN- Accidents in the back seat cause kids .',\n",
       " 'Let us off the ship .',\n",
       " 'Thank you for this info .',\n",
       " \"It 's not a reef !\",\n",
       " 'It is just a fact .',\n",
       " 'Sales rose to $3 million from $2.9 million .',\n",
       " 'Sales rose to $9.8 million from $8.9 million .',\n",
       " 'Is that the actual name ?',\n",
       " 'Is that a fair statement ?',\n",
       " \"You 're going to want it .\",\n",
       " \"We 're beginning to do it .\",\n",
       " 'Dublin is a young city .',\n",
       " 'Religion is an important part .',\n",
       " '\" I should go in first .',\n",
       " '\" You can get off welfare .',\n",
       " \"I 've reached across the aisle .\",\n",
       " \"I 've worked on this issue .\",\n",
       " 'I tried to argue back .',\n",
       " 'I wanted to be there .',\n",
       " 'I voted for small-business tax cuts .',\n",
       " 'I voted for IRA tax cuts .',\n",
       " \"That 's what I heard .\",\n",
       " 'That ’s what I meant .',\n",
       " \"It 's a religious concept .\",\n",
       " 'It is a fund-raising appeal .',\n",
       " \"She 's a full-time mom .\",\n",
       " \"It 's a brutal practice .\",\n",
       " \"It 's a conditioned response .\",\n",
       " \"It 's an out-of-court statement .\",\n",
       " 'It ’s a delicate process .',\n",
       " \"It 's the right decision .\",\n",
       " 'She has no personal knowledge .',\n",
       " \"It 's an empty promise .\",\n",
       " \"It 's a perpetual cycle .\",\n",
       " \"He 's a great father .\",\n",
       " \"We 've expanded Pell Grants by a million students .\",\n",
       " \"We 've increased Pell Grants by a million students .\",\n",
       " '[ a sword is thrown to Ragetti , just in time',\n",
       " '[ a sword is thrown to Elizabeth , just in time',\n",
       " '[ a sword is thrown to Pintel , just in time',\n",
       " 'No time out of the office .',\n",
       " 'An evening out on the town .',\n",
       " 'Yeah , I knew him .',\n",
       " 'Yes , they called me .',\n",
       " 'It is a Firefox plugin .',\n",
       " \"She 's a Jesus freak .\",\n",
       " \"COTTON 'S PARROT : Rawk !\",\n",
       " \"COTTON 'S PARROT : Awk !\",\n",
       " 'He voted to increase taxes 98 times .',\n",
       " 'You voted to increase taxes 98 times .',\n",
       " 'I offer you a choice .',\n",
       " 'I consider myself a dreamer .',\n",
       " 'And did you see it at the time ?',\n",
       " 'And did you see it in the paper ?',\n",
       " 'There was just one thing .',\n",
       " 'There was just one problem .',\n",
       " 'Our roots are in hiking .',\n",
       " 'Our ships are in pursuit .',\n",
       " 'I wanted to find him .',\n",
       " 'I came to find you !',\n",
       " 'You \\'re a housewife . \"',\n",
       " 'I want another opinion ! \"',\n",
       " 'Donec porttitor ligula eu dolor .',\n",
       " 'Jim doesn ’ t leave .',\n",
       " 'The Mexican said , \" Me be very , very quiet , me follow tracts , me shot , me catch deer . \"',\n",
       " 'The Indian replied , \" Me be very , very quiet , Me follow tracts , me shot , me catch deer . \"',\n",
       " 'Bonfire XxjerseyxgirlxX 2008-11-09 T 17:18:21 Z ID : 45726 Prequels : none Sequels : none The group started to get up , walking to their cars that awaited them in the parking lot .',\n",
       " 'Bonfire XxjerseyxgirlxX 2008-11-09 T 17:19:10 Z ID : 45727 Prequels : none Sequels : none The group started to get up , walking to their cars that awaited them in the parking lot .',\n",
       " '“ Okay , ” I said .',\n",
       " '“ Yes , ” I said .',\n",
       " 'No , she was not .',\n",
       " 'No , I did not .',\n",
       " \"No , I did n't .\",\n",
       " \"No , we did n't .\",\n",
       " '\" I \\'m sorry . \"',\n",
       " '\" You \\'re free . \"',\n",
       " '\" I \\'m glad . \"',\n",
       " '\" You \\'re jealous . \"',\n",
       " '[ Jack draws his sword , points it at Will',\n",
       " '[ Norrington draws his sword , points it at Will',\n",
       " 'Should we close the door ?',\n",
       " 'Could we have that newsletter ?',\n",
       " 'I couldn ’ t breathe .',\n",
       " 'I didn ’ t know .',\n",
       " \"RAGETTI : You 're pulling too slow .\",\n",
       " \"PINTEL : You 're pulling too hard !\",\n",
       " \"I 'll sustain the objection .\",\n",
       " \"I 'll overrule the objection .\",\n",
       " 'You must finish that hunt .',\n",
       " 'You can answer the question .',\n",
       " \"You 'll share the punishment .\",\n",
       " 'A red light means five seconds left .',\n",
       " 'A yellow light signals 15 seconds left .',\n",
       " \"] BELLAMY : It 's an outrage .\",\n",
       " \"] MARTY : It 's a key !\",\n",
       " 'And you would support that bill .',\n",
       " 'And I will note the objection .',\n",
       " 'I got a jar of dirt !',\n",
       " 'It made a lot of sense .',\n",
       " 'He took another shot of vodka .',\n",
       " 'E- mail : krosen ( at ) ajc . com',\n",
       " 'E- mail : dgamino ( at ) statesman . com',\n",
       " \"Well , I 'm sorry .\",\n",
       " 'Therefore , I stand uncorrected .']"
      ]
     },
     "execution_count": 183,
     "metadata": {},
     "output_type": "execute_result"
    }
   ],
   "source": [
    "tags = []\n",
    "vectors = []\n",
    "sents = []\n",
    "for m_tags,tokenised_sents in tags2repeated_phrase.items():\n",
    "    for tokenised_sent in tokenised_sents:\n",
    "        tags.append(m_tags)\n",
    "        \n",
    "        sents.append(\" \".join(tokenised_sent))\n",
    "        vectors.append(model.infer_vector(tokenised_sent))\n",
    "        \n",
    "sents\n",
    "    "
   ]
  },
  {
   "cell_type": "code",
   "execution_count": null,
   "metadata": {
    "collapsed": true
   },
   "outputs": [],
   "source": []
  },
  {
   "cell_type": "code",
   "execution_count": 184,
   "metadata": {
    "collapsed": true
   },
   "outputs": [],
   "source": [
    "import pylab as pl\n",
    "%matplotlib inline\n",
    "pl.rcParams['figure.figsize'] = 15, 15\n",
    "from itertools import *\n",
    "import functools"
   ]
  },
  {
   "cell_type": "code",
   "execution_count": 185,
   "metadata": {
    "collapsed": true
   },
   "outputs": [],
   "source": [
    "X=np.row_stack(vectors)"
   ]
  },
  {
   "cell_type": "code",
   "execution_count": 186,
   "metadata": {
    "collapsed": true
   },
   "outputs": [],
   "source": [
    "from sklearn.decomposition import PCA\n",
    "\n",
    "pca = PCA(2)\n",
    "Y = pca.fit_transform(X)"
   ]
  },
  {
   "cell_type": "code",
   "execution_count": 187,
   "metadata": {
    "collapsed": false
   },
   "outputs": [],
   "source": [
    "import matplotlib.cm as cm\n",
    "lbls = tags\n",
    "\n",
    "\n",
    "sorted_unique_lbls = np.unique(lbls)\n",
    "try:\n",
    "    sorted_unique_lbls.sort()\n",
    "except:\n",
    "    pass\n",
    "color_names = cm.Dark2 (np.linspace(0, 1, len(sorted_unique_lbls)))\n",
    "color_dict = dict(zip(sorted_unique_lbls, color_names))\n",
    "colors = [color_dict[lbl] for lbl in lbls]"
   ]
  },
  {
   "cell_type": "code",
   "execution_count": 188,
   "metadata": {
    "collapsed": false,
    "scrolled": true
   },
   "outputs": [
    {
     "data": {
      "text/plain": [
       "<matplotlib.collections.PathCollection at 0x7fa7dd7bb320>"
      ]
     },
     "execution_count": 188,
     "metadata": {},
     "output_type": "execute_result"
    },
    {
     "data": {
      "image/png": "[encoded data removed]",
      "text/plain": [
       "<matplotlib.figure.Figure at 0x7fa7dd83ca90>"
      ]
     },
     "metadata": {},
     "output_type": "display_data"
    }
   ],
   "source": [
    "pl.scatter(x=Y[:,1],y=Y[:,0], c=colors, marker=\"x\")"
   ]
  },
  {
   "cell_type": "code",
   "execution_count": null,
   "metadata": {
    "collapsed": true
   },
   "outputs": [],
   "source": []
  },
  {
   "cell_type": "code",
   "execution_count": null,
   "metadata": {
    "collapsed": true
   },
   "outputs": [],
   "source": []
  }
 ],
 "metadata": {
  "kernelspec": {
   "display_name": "Python 3",
   "language": "python",
   "name": "python3"
  },
  "language_info": {
   "codemirror_mode": {
    "name": "ipython",
    "version": 3
   },
   "file_extension": ".py",
   "mimetype": "text/x-python",
   "name": "python",
   "nbconvert_exporter": "python",
   "pygments_lexer": "ipython3",
   "version": "3.4.3"
  }
 },
 "nbformat": 4,
 "nbformat_minor": 0
}
