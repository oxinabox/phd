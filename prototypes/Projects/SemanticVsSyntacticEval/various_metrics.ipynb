{
 "cells": [
  {
   "cell_type": "code",
   "execution_count": 1,
   "metadata": {
    "collapsed": true
   },
   "outputs": [],
   "source": [
    "import pickle\n",
    "import nltk\n",
    "\n",
    "import gensim"
   ]
  },
  {
   "cell_type": "code",
   "execution_count": 2,
   "metadata": {
    "collapsed": false
   },
   "outputs": [],
   "source": [
    "import os\n",
    "os.chdir(\"prepared_corpora/msrp_ns_va_nophrase_mfcwsd/\")\n"
   ]
  },
  {
   "cell_type": "code",
   "execution_count": 3,
   "metadata": {
    "collapsed": true
   },
   "outputs": [],
   "source": []
  },
  {
   "cell_type": "code",
   "execution_count": 6,
   "metadata": {
    "collapsed": false
   },
   "outputs": [],
   "source": [
    "phrases = None\n",
    "with open(\"phrases.txt\", \"r\") as phrases_fh:\n",
    "    phrases = list(phrases_fh)\n",
    "\n",
    "tokenised_phrases = nltk.tokenize.SpaceTokenizer().tokenize_sents(map(str.lower, phrases))"
   ]
  },
  {
   "cell_type": "code",
   "execution_count": 12,
   "metadata": {
    "collapsed": true
   },
   "outputs": [],
   "source": [
    "def infer_and_save(model,tokenised_phrases, savename):\n",
    "    with open(savename, \"w\") as outvectors_fh:\n",
    "        for tockenised_line in tokenised_phrases:\n",
    "            vector = model.infer_vector(tockenised_line)\n",
    "            outvectors_fh.write(str(vector.tolist())[1:-1])\n",
    "            outvectors_fh.write(\"\\n\")"
   ]
  },
  {
   "cell_type": "code",
   "execution_count": 8,
   "metadata": {
    "collapsed": false
   },
   "outputs": [],
   "source": [
    "model = None\n",
    "import pickle\n",
    "with open(\"../../../QuestionTime/hansard_model.pickle\", \"br\") as model_fs:\n",
    "    model = pickle.load(model_fs)\n",
    "    \n",
    "infer_and_save(model, tokenised_phrases,\"outVectors_hansard_doc2vec.csv\" )\n",
    "\n",
    "        "
   ]
  },
  {
   "cell_type": "code",
   "execution_count": 9,
   "metadata": {
    "collapsed": false
   },
   "outputs": [],
   "source": [
    "model = None\n",
    "import pickle\n",
    "with open(\"../../wiki_model.pickle\", \"br\") as model_fs:\n",
    "    model = pickle.load(model_fs)\n",
    "    \n",
    "    \n",
    "infer_and_save(model, tokenised_phrases,\"outVectors_wiki_doc2vec.csv\")        "
   ]
  },
  {
   "cell_type": "code",
   "execution_count": 10,
   "metadata": {
    "collapsed": true
   },
   "outputs": [],
   "source": [
    "\n",
    "\n",
    "model = None\n",
    "import pickle\n",
    "with open(\"../../wiki_sentence_model.pickle\", \"br\") as model_fs:\n",
    "    model = pickle.load(model_fs)\n",
    "    \n",
    "    \n",
    "infer_and_save(model, tokenised_phrases,\"outVectors_wiki_sentence_doc2vec.csv\")\n"
   ]
  },
  {
   "cell_type": "code",
   "execution_count": 11,
   "metadata": {
    "collapsed": false
   },
   "outputs": [],
   "source": [
    "model = gensim.models.doc2vec.Doc2Vec.load(\"../../wiki_sentence_model_concat_model\")"
   ]
  },
  {
   "cell_type": "code",
   "execution_count": 13,
   "metadata": {
    "collapsed": true
   },
   "outputs": [],
   "source": [
    "infer_and_save(model, tokenised_phrases,\"wiki_sentence_model_concat_doc2vec.csv\")"
   ]
  },
  {
   "cell_type": "code",
   "execution_count": null,
   "metadata": {
    "collapsed": true
   },
   "outputs": [],
   "source": []
  }
 ],
 "metadata": {
  "kernelspec": {
   "display_name": "Python 3",
   "language": "python",
   "name": "python3"
  },
  "language_info": {
   "codemirror_mode": {
    "name": "ipython",
    "version": 3
   },
   "file_extension": ".py",
   "mimetype": "text/x-python",
   "name": "python",
   "nbconvert_exporter": "python",
   "pygments_lexer": "ipython3",
   "version": "3.4.3"
  }
 },
 "nbformat": 4,
 "nbformat_minor": 0
}
