{
 "cells": [
  {
   "cell_type": "code",
   "execution_count": 1,
   "metadata": {
    "collapsed": true
   },
   "outputs": [],
   "source": [
    "import pickle\n",
    "import nltk\n",
    "\n",
    "import gensim"
   ]
  },
  {
   "cell_type": "code",
   "execution_count": 2,
   "metadata": {
    "collapsed": false
   },
   "outputs": [],
   "source": [
    "import os\n",
    "os.chdir(\"prepared_corpora/msrp_ns_va_nophrase_mfcwsd/\")\n"
   ]
  },
  {
   "cell_type": "code",
   "execution_count": 3,
   "metadata": {
    "collapsed": true
   },
   "outputs": [],
   "source": []
  },
  {
   "cell_type": "code",
   "execution_count": 6,
   "metadata": {
    "collapsed": false
   },
   "outputs": [],
   "source": [
    "phrases = None\n",
    "with open(\"phrases.txt\", \"r\") as phrases_fh:\n",
    "    phrases = list(phrases_fh)\n",
    "\n",
    "tokenised_phrases = nltk.tokenize.SpaceTokenizer().tokenize_sents(map(str.lower, phrases))"
   ]
  },
  {
   "cell_type": "code",
   "execution_count": 12,
   "metadata": {
    "collapsed": true
   },
   "outputs": [],
   "source": [
    "def infer_and_save(model,tokenised_phrases, savename):\n",
    "    with open(savename, \"w\") as outvectors_fh:\n",
    "        for tockenised_line in tokenised_phrases:\n",
    "            vector = model.infer_vector(tockenised_line)\n",
    "            outvectors_fh.write(str(vector.tolist())[1:-1])\n",
    "            outvectors_fh.write(\"\\n\")"
   ]
  },
  {
   "cell_type": "code",
   "execution_count": 8,
   "metadata": {
    "collapsed": false
   },
   "outputs": [],
   "source": [
    "model = None\n",
    "import pickle\n",
    "with open(\"../../../QuestionTime/hansard_model.pickle\", \"br\") as model_fs:\n",
    "    model = pickle.load(model_fs)\n",
    "    \n",
    "infer_and_save(model, tokenised_phrases,\"outVectors_hansard_doc2vec.csv\" )\n",
    "\n",
    "        "
   ]
  },
  {
   "cell_type": "code",
   "execution_count": 9,
   "metadata": {
    "collapsed": false
   },
   "outputs": [],
   "source": [
    "model = None\n",
    "import pickle\n",
    "with open(\"../../wiki_model.pickle\", \"br\") as model_fs:\n",
    "    model = pickle.load(model_fs)\n",
    "    \n",
    "    \n",
    "infer_and_save(model, tokenised_phrases,\"outVectors_wiki_doc2vec.csv\")        "
   ]
  },
  {
   "cell_type": "code",
   "execution_count": 10,
   "metadata": {
    "collapsed": true
   },
   "outputs": [],
   "source": [
    "\n",
    "\n",
    "model = None\n",
    "import pickle\n",
    "with open(\"../../wiki_sentence_model.pickle\", \"br\") as model_fs:\n",
    "    model = pickle.load(model_fs)\n",
    "    \n",
    "    \n",
    "infer_and_save(model, tokenised_phrases,\"outVectors_wiki_sentence_doc2vec.csv\")\n"
   ]
  },
  {
   "cell_type": "code",
   "execution_count": 11,
   "metadata": {
    "collapsed": false
   },
   "outputs": [],
   "source": [
    "model = gensim.models.doc2vec.Doc2Vec.load(\"../../wiki_sentence_model_concat_model\")"
   ]
  },
  {
   "cell_type": "code",
   "execution_count": 13,
   "metadata": {
    "collapsed": true
   },
   "outputs": [],
   "source": [
    "infer_and_save(model, tokenised_phrases,\"wiki_sentence_model_concat_doc2vec.csv\")"
   ]
  },
  {
   "cell_type": "code",
   "execution_count": 14,
   "metadata": {
    "collapsed": false
   },
   "outputs": [
    {
     "name": "stdout",
     "output_type": "stream",
     "text": [
      "[master d4c5ae8] =\n",
      " 67 files changed, 1070 insertions(+), 2370431 deletions(-)\n",
      " delete mode 100644 prototypes/Projects/SemanticVsSyntacticEval/prepared_corpora/msrp_corruptions/10_semantic_corruptions.txt\n",
      " delete mode 100644 prototypes/Projects/SemanticVsSyntacticEval/prepared_corpora/msrp_corruptions/1_semantic_corruptions.txt\n",
      " delete mode 100644 prototypes/Projects/SemanticVsSyntacticEval/prepared_corpora/msrp_corruptions/2_semantic_corruptions.txt\n",
      " delete mode 100644 prototypes/Projects/SemanticVsSyntacticEval/prepared_corpora/msrp_corruptions/3_semantic_corruptions.txt\n",
      " delete mode 100644 prototypes/Projects/SemanticVsSyntacticEval/prepared_corpora/msrp_corruptions/4_semantic_corruptions.txt\n",
      " delete mode 100644 prototypes/Projects/SemanticVsSyntacticEval/prepared_corpora/msrp_corruptions/5_semantic_corruptions.txt\n",
      " delete mode 100644 prototypes/Projects/SemanticVsSyntacticEval/prepared_corpora/msrp_corruptions/6_semantic_corruptions.txt\n",
      " delete mode 100644 prototypes/Projects/SemanticVsSyntacticEval/prepared_corpora/msrp_corruptions/7_semantic_corruptions.txt\n",
      " delete mode 100644 prototypes/Projects/SemanticVsSyntacticEval/prepared_corpora/msrp_corruptions/8_semantic_corruptions.txt\n",
      " delete mode 100644 prototypes/Projects/SemanticVsSyntacticEval/prepared_corpora/msrp_corruptions/9_semantic_corruptions.txt\n",
      " delete mode 100644 prototypes/Projects/SemanticVsSyntacticEval/prepared_corpora/msrp_corruptions/microsoft_ids.txt\n",
      " delete mode 100644 prototypes/Projects/SemanticVsSyntacticEval/prepared_corpora/msrp_corruptions/outVectors_RAE2011.txt\n",
      " delete mode 100644 prototypes/Projects/SemanticVsSyntacticEval/prepared_corpora/msrp_corruptions/paraphrases.txt\n",
      " delete mode 100644 prototypes/Projects/SemanticVsSyntacticEval/prepared_corpora/msrp_corruptions/parsed.txt\n",
      " delete mode 100644 prototypes/Projects/SemanticVsSyntacticEval/prepared_corpora/msrp_corruptions/phrases.txt\n",
      " delete mode 100644 prototypes/Projects/SemanticVsSyntacticEval/prepared_corpora/msrp_corruptions/phrases_RAE2011.txt\n",
      " delete mode 100644 prototypes/Projects/SemanticVsSyntacticEval/prepared_corpora/msrp_matching/microsoft_ids.txt\n",
      " delete mode 100644 prototypes/Projects/SemanticVsSyntacticEval/prepared_corpora/msrp_matching/outVectors_RAE2011.csv\n",
      " delete mode 100644 prototypes/Projects/SemanticVsSyntacticEval/prepared_corpora/msrp_matching/paraphrases.txt\n",
      " delete mode 100644 prototypes/Projects/SemanticVsSyntacticEval/prepared_corpora/msrp_matching/parsed.txt\n",
      " delete mode 100644 prototypes/Projects/SemanticVsSyntacticEval/prepared_corpora/msrp_matching/phrases.txt\n",
      " delete mode 100644 prototypes/Projects/SemanticVsSyntacticEval/prepared_corpora/msrp_matching/phrases_RAE2011.txt\n",
      " delete mode 100644 prototypes/Projects/SemanticVsSyntacticEval/prepared_corpora/msrp_noun_sym_verb_anto_corruptions/10noun_sym_semantic_corruptions.txt\n",
      " delete mode 100644 prototypes/Projects/SemanticVsSyntacticEval/prepared_corpora/msrp_noun_sym_verb_anto_corruptions/10verb_anto_semantic_corruptions.txt\n",
      " delete mode 100644 prototypes/Projects/SemanticVsSyntacticEval/prepared_corpora/msrp_noun_sym_verb_anto_corruptions/1noun_sym_semantic_corruptions.txt\n",
      " delete mode 100644 prototypes/Projects/SemanticVsSyntacticEval/prepared_corpora/msrp_noun_sym_verb_anto_corruptions/1verb_anto_semantic_corruptions.txt\n",
      " delete mode 100644 prototypes/Projects/SemanticVsSyntacticEval/prepared_corpora/msrp_noun_sym_verb_anto_corruptions/2noun_sym_semantic_corruptions.txt\n",
      " delete mode 100644 prototypes/Projects/SemanticVsSyntacticEval/prepared_corpora/msrp_noun_sym_verb_anto_corruptions/2verb_anto_semantic_corruptions.txt\n",
      " delete mode 100644 prototypes/Projects/SemanticVsSyntacticEval/prepared_corpora/msrp_noun_sym_verb_anto_corruptions/3noun_sym_semantic_corruptions.txt\n",
      " delete mode 100644 prototypes/Projects/SemanticVsSyntacticEval/prepared_corpora/msrp_noun_sym_verb_anto_corruptions/3verb_anto_semantic_corruptions.txt\n",
      " delete mode 100644 prototypes/Projects/SemanticVsSyntacticEval/prepared_corpora/msrp_noun_sym_verb_anto_corruptions/4noun_sym_semantic_corruptions.txt\n",
      " delete mode 100644 prototypes/Projects/SemanticVsSyntacticEval/prepared_corpora/msrp_noun_sym_verb_anto_corruptions/4verb_anto_semantic_corruptions.txt\n",
      " delete mode 100644 prototypes/Projects/SemanticVsSyntacticEval/prepared_corpora/msrp_noun_sym_verb_anto_corruptions/5noun_sym_semantic_corruptions.txt\n",
      " delete mode 100644 prototypes/Projects/SemanticVsSyntacticEval/prepared_corpora/msrp_noun_sym_verb_anto_corruptions/5verb_anto_semantic_corruptions.txt\n",
      " delete mode 100644 prototypes/Projects/SemanticVsSyntacticEval/prepared_corpora/msrp_noun_sym_verb_anto_corruptions/6noun_sym_semantic_corruptions.txt\n",
      " delete mode 100644 prototypes/Projects/SemanticVsSyntacticEval/prepared_corpora/msrp_noun_sym_verb_anto_corruptions/6verb_anto_semantic_corruptions.txt\n",
      " delete mode 100644 prototypes/Projects/SemanticVsSyntacticEval/prepared_corpora/msrp_noun_sym_verb_anto_corruptions/7noun_sym_semantic_corruptions.txt\n",
      " delete mode 100644 prototypes/Projects/SemanticVsSyntacticEval/prepared_corpora/msrp_noun_sym_verb_anto_corruptions/7verb_anto_semantic_corruptions.txt\n",
      " delete mode 100644 prototypes/Projects/SemanticVsSyntacticEval/prepared_corpora/msrp_noun_sym_verb_anto_corruptions/8noun_sym_semantic_corruptions.txt\n",
      " delete mode 100644 prototypes/Projects/SemanticVsSyntacticEval/prepared_corpora/msrp_noun_sym_verb_anto_corruptions/8verb_anto_semantic_corruptions.txt\n",
      " delete mode 100644 prototypes/Projects/SemanticVsSyntacticEval/prepared_corpora/msrp_noun_sym_verb_anto_corruptions/9noun_sym_semantic_corruptions.txt\n",
      " delete mode 100644 prototypes/Projects/SemanticVsSyntacticEval/prepared_corpora/msrp_noun_sym_verb_anto_corruptions/9verb_anto_semantic_corruptions.txt\n",
      " delete mode 100644 prototypes/Projects/SemanticVsSyntacticEval/prepared_corpora/msrp_noun_sym_verb_anto_corruptions/microsoft_ids.txt\n",
      " delete mode 100644 prototypes/Projects/SemanticVsSyntacticEval/prepared_corpora/msrp_noun_sym_verb_anto_corruptions/outVectors_RAE2011.csv\n",
      " delete mode 100644 prototypes/Projects/SemanticVsSyntacticEval/prepared_corpora/msrp_noun_sym_verb_anto_corruptions/paraphrases.txt\n",
      " delete mode 100644 prototypes/Projects/SemanticVsSyntacticEval/prepared_corpora/msrp_noun_sym_verb_anto_corruptions/parsed.txt\n",
      " delete mode 100644 prototypes/Projects/SemanticVsSyntacticEval/prepared_corpora/msrp_noun_sym_verb_anto_corruptions/phrases.txt\n",
      " delete mode 100644 prototypes/Projects/SemanticVsSyntacticEval/prepared_corpora/msrp_noun_sym_verb_anto_corruptions/phrases_RAE2011.txt\n",
      " delete mode 100644 prototypes/Projects/SemanticVsSyntacticEval/prepared_corpora/testing/10_semantic_corruptions.txt\n",
      " delete mode 100644 prototypes/Projects/SemanticVsSyntacticEval/prepared_corpora/testing/1_semantic_corruptions.txt\n",
      " delete mode 100644 prototypes/Projects/SemanticVsSyntacticEval/prepared_corpora/testing/2_semantic_corruptions.txt\n",
      " delete mode 100644 prototypes/Projects/SemanticVsSyntacticEval/prepared_corpora/testing/3_semantic_corruptions.txt\n",
      " delete mode 100644 prototypes/Projects/SemanticVsSyntacticEval/prepared_corpora/testing/4_semantic_corruptions.txt\n",
      " delete mode 100644 prototypes/Projects/SemanticVsSyntacticEval/prepared_corpora/testing/5_semantic_corruptions.txt\n",
      " delete mode 100644 prototypes/Projects/SemanticVsSyntacticEval/prepared_corpora/testing/6_semantic_corruptions.txt\n",
      " delete mode 100644 prototypes/Projects/SemanticVsSyntacticEval/prepared_corpora/testing/7_semantic_corruptions.txt\n",
      " delete mode 100644 prototypes/Projects/SemanticVsSyntacticEval/prepared_corpora/testing/8_semantic_corruptions.txt\n",
      " delete mode 100644 prototypes/Projects/SemanticVsSyntacticEval/prepared_corpora/testing/9_semantic_corruptions.txt\n",
      " delete mode 100644 prototypes/Projects/SemanticVsSyntacticEval/prepared_corpora/testing/microsoft_ids.txt\n",
      " delete mode 100644 prototypes/Projects/SemanticVsSyntacticEval/prepared_corpora/testing/paraphases.txt\n",
      " delete mode 100644 prototypes/Projects/SemanticVsSyntacticEval/prepared_corpora/testing/phrases.txt\n",
      " rewrite prototypes/Projects/SemanticVsSyntacticEval/results_analysis.ipynb (93%)\n"
     ]
    }
   ],
   "source": [
    "!git commit -a -m=\"\""
   ]
  },
  {
   "cell_type": "code",
   "execution_count": null,
   "metadata": {
    "collapsed": true
   },
   "outputs": [],
   "source": []
  }
 ],
 "metadata": {
  "kernelspec": {
   "display_name": "Python 3",
   "language": "python",
   "name": "python3"
  },
  "language_info": {
   "codemirror_mode": {
    "name": "ipython",
    "version": 3
   },
   "file_extension": ".py",
   "mimetype": "text/x-python",
   "name": "python",
   "nbconvert_exporter": "python",
   "pygments_lexer": "ipython3",
   "version": "3.4.3"
  }
 },
 "nbformat": 4,
 "nbformat_minor": 0
}
