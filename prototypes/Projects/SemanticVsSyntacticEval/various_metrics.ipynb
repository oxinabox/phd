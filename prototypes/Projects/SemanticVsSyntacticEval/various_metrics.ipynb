{
 "cells": [
  {
   "cell_type": "code",
   "execution_count": 2,
   "metadata": {
    "collapsed": true
   },
   "outputs": [],
   "source": [
    "import pickle\n",
    "import nltk\n",
    "\n",
    "import gensim"
   ]
  },
  {
   "cell_type": "code",
   "execution_count": 3,
   "metadata": {
    "collapsed": false
   },
   "outputs": [],
   "source": [
    "phrases = None\n",
    "with open(\"prepared_corpora/msrp_noun_sym_verb_anto_corruptions/phrases.txt\", \"r\") as phrases_fh:\n",
    "    phrases = list(phrases_fh)\n",
    "\n",
    "tokenised_phrases = [nltk.word_tokenize(phrase.lower()) for phrase in phrases]"
   ]
  },
  {
   "cell_type": "code",
   "execution_count": null,
   "metadata": {
    "collapsed": true
   },
   "outputs": [],
   "source": []
  },
  {
   "cell_type": "code",
   "execution_count": null,
   "metadata": {
    "collapsed": true
   },
   "outputs": [],
   "source": []
  },
  {
   "cell_type": "code",
   "execution_count": null,
   "metadata": {
    "collapsed": false
   },
   "outputs": [],
   "source": [
    "model = None\n",
    "import pickle\n",
    "with open(\"../QuestionTime/hansard_model_1000.pickle\", \"br\") as model_fs:\n",
    "    model = pickle.load(model_fs)\n",
    "    \n",
    "vector = None\n",
    "with open(\"prepared_corpora/msrp_noun_sym_verb_anto_corruptions/outVectors_hansard_doc2vec.csv\", \"w\") as outvectors_fh:\n",
    "    for tockenised_line in tokenised_phrases:\n",
    "        vector = model.infer_vector(tockenised_line)\n",
    "        outvectors_fh.write(str(vector.tolist())[1:-1])\n",
    "        outvectors_fh.write(\"\\n\")\n",
    "\n",
    "        "
   ]
  },
  {
   "cell_type": "code",
   "execution_count": 5,
   "metadata": {
    "collapsed": false
   },
   "outputs": [],
   "source": [
    "model = None\n",
    "import pickle\n",
    "with open(\"./wiki_model.pickle\", \"br\") as model_fs:\n",
    "    model = pickle.load(model_fs)\n",
    "    \n",
    "vector = None\n",
    "with open(\"prepared_corpora/msrp_noun_sym_verb_anto_corruptions/outVectors_wiki_doc2vec.csv\", \"w\") as outvectors_fh:\n",
    "    for tockenised_line in tokenised_phrases:\n",
    "        vector = model.infer_vector(tockenised_line)\n",
    "        outvectors_fh.write(str(vector.tolist())[1:-1])\n",
    "        outvectors_fh.write(\"\\n\")\n",
    "\n",
    "        "
   ]
  },
  {
   "cell_type": "code",
   "execution_count": null,
   "metadata": {
    "collapsed": true
   },
   "outputs": [],
   "source": []
  },
  {
   "cell_type": "code",
   "execution_count": null,
   "metadata": {
    "collapsed": true
   },
   "outputs": [],
   "source": []
  },
  {
   "cell_type": "code",
   "execution_count": null,
   "metadata": {
    "collapsed": true
   },
   "outputs": [],
   "source": [
    "ind2word = gensim.corpora.Dictionary.from_documents(tokenised_phrases)\n",
    "doc_bows = [ind2word.doc2bow(doc) for doc in tokenised_phrases]\n"
   ]
  },
  {
   "cell_type": "code",
   "execution_count": null,
   "metadata": {
    "collapsed": false
   },
   "outputs": [],
   "source": [
    "len(tokenised_phrases)"
   ]
  },
  {
   "cell_type": "code",
   "execution_count": null,
   "metadata": {
    "collapsed": true
   },
   "outputs": [],
   "source": []
  }
 ],
 "metadata": {
  "kernelspec": {
   "display_name": "Python 3",
   "language": "python",
   "name": "python3"
  },
  "language_info": {
   "codemirror_mode": {
    "name": "ipython",
    "version": 3
   },
   "file_extension": ".py",
   "mimetype": "text/x-python",
   "name": "python",
   "nbconvert_exporter": "python",
   "pygments_lexer": "ipython3",
   "version": "3.4.3"
  }
 },
 "nbformat": 4,
 "nbformat_minor": 0
}
