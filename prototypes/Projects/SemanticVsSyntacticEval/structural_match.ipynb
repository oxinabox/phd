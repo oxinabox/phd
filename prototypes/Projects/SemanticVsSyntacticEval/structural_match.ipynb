{
 "cells": [
  {
   "cell_type": "code",
   "execution_count": 1,
   "metadata": {
    "collapsed": false
   },
   "outputs": [],
   "source": [
    "import nltk\n",
    "import numpy as np\n",
    "%matplotlib inline"
   ]
  },
  {
   "cell_type": "code",
   "execution_count": 2,
   "metadata": {
    "collapsed": false
   },
   "outputs": [],
   "source": [
    "corpus_reader = nltk.corpus.BracketParseCorpusReader(\".\",[\"prepared_corpora/msrp/parsed.txt\"])"
   ]
  },
  {
   "cell_type": "code",
   "execution_count": 32,
   "metadata": {
    "collapsed": false
   },
   "outputs": [],
   "source": [
    "parse_trees = np.array(corpus_reader.parsed_sents(), dtype=object).squeeze();\n"
   ]
  },
  {
   "cell_type": "code",
   "execution_count": 30,
   "metadata": {
    "collapsed": false
   },
   "outputs": [
    {
     "data": {
      "text/plain": [
       "27872"
      ]
     },
     "execution_count": 30,
     "metadata": {},
     "output_type": "execute_result"
    }
   ],
   "source": [
    "len(po)\n",
    "#len(parse_trees.squeeze())"
   ]
  },
  {
   "cell_type": "code",
   "execution_count": 4,
   "metadata": {
    "collapsed": false
   },
   "outputs": [],
   "source": [
    "def labels_only(tree):\n",
    "    if isinstance(tree, nltk.Tree):\n",
    "        labels = [tree.label()]\n",
    "        \n",
    "        for child in tree:\n",
    "            child_label = labels_only(child)\n",
    "            if child_label:\n",
    "                labels.append(child_label)\n",
    "        return tuple(labels)\n",
    "            \n",
    "    else:\n",
    "        return None\n",
    "    \n"
   ]
  },
  {
   "cell_type": "code",
   "execution_count": 7,
   "metadata": {
    "collapsed": false
   },
   "outputs": [],
   "source": [
    "microsoft_ids = np.loadtxt(\"./prepared_corpora/msrp/microsoft_ids.txt\", delimiter=\",\",skiprows=1, dtype=np.int)\n",
    "originals = microsoft_ids[:,0]"
   ]
  },
  {
   "cell_type": "code",
   "execution_count": 49,
   "metadata": {
    "collapsed": false,
    "scrolled": true
   },
   "outputs": [
    {
     "data": {
      "text/plain": [
       "Counter({1: 7140, 2: 291, 3: 24, 6: 1})"
      ]
     },
     "execution_count": 49,
     "metadata": {},
     "output_type": "execute_result"
    }
   ],
   "source": [
    "import collections\n",
    "\n",
    "count = collections.Counter([labels_only(tree) for id,tree in zip(originals, parse_trees[originals-1])])\n",
    "collections.Counter(count.values())"
   ]
  },
  {
   "cell_type": "code",
   "execution_count": 50,
   "metadata": {
    "collapsed": false
   },
   "outputs": [
    {
     "data": {
      "text/plain": [
       "Counter({1: 1224, 2: 920, 3: 653, 4: 327, 5: 151, 6: 71, 7: 23, 8: 12, 9: 1, 10: 1, 12: 1})"
      ]
     },
     "execution_count": 50,
     "metadata": {},
     "output_type": "execute_result"
    }
   ],
   "source": [
    "count = collections.Counter([labels_only(tree) for id,tree in zip(originals, parse_trees)])\n",
    "collections.Counter(count.values())"
   ]
  },
  {
   "cell_type": "code",
   "execution_count": null,
   "metadata": {
    "collapsed": true
   },
   "outputs": [],
   "source": []
  }
 ],
 "metadata": {
  "kernelspec": {
   "display_name": "Python 3",
   "language": "python",
   "name": "python3"
  },
  "language_info": {
   "codemirror_mode": {
    "name": "ipython",
    "version": 3
   },
   "file_extension": ".py",
   "mimetype": "text/x-python",
   "name": "python",
   "nbconvert_exporter": "python",
   "pygments_lexer": "ipython3",
   "version": "3.4.3"
  }
 },
 "nbformat": 4,
 "nbformat_minor": 0
}
