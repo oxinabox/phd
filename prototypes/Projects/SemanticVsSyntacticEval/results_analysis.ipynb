{
 "cells": [
  {
   "cell_type": "code",
   "execution_count": 1,
   "metadata": {
    "collapsed": false
   },
   "outputs": [],
   "source": [
    "import pylab as pl\n",
    "%matplotlib inline\n",
    "pl.rcParams['figure.figsize'] = 15, 15"
   ]
  },
  {
   "cell_type": "code",
   "execution_count": 2,
   "metadata": {
    "collapsed": false
   },
   "outputs": [],
   "source": [
    "import os.path\n",
    "import csv\n",
    "import numpy as np\n",
    "import scipy.spatial\n",
    "import pandas as pd"
   ]
  },
  {
   "cell_type": "code",
   "execution_count": 3,
   "metadata": {
    "collapsed": false
   },
   "outputs": [],
   "source": [
    "\n",
    "os.chdir(\"prepared_corpora/msrp_ns_va_nophrase_mfcwsd/\")"
   ]
  },
  {
   "cell_type": "code",
   "execution_count": 4,
   "metadata": {
    "collapsed": false
   },
   "outputs": [],
   "source": [
    "def embedding_distance(embeddings, id1, id2):\n",
    "    ii = id1 - 1  #Change from 1 indexed id, to 0 indexex embedding index\n",
    "    jj = id2 - 1\n",
    "    return scipy.spatial.distance.cosine(embeddings[ii,:], embeddings[jj,:])"
   ]
  },
  {
   "cell_type": "code",
   "execution_count": 5,
   "metadata": {
    "collapsed": false
   },
   "outputs": [],
   "source": [
    "def load_link_distances(link_filename, embeddings):\n",
    "    links = np.loadtxt(link_filename, delimiter=\",\",skiprows=1, dtype=np.int)\n",
    "    dists = pd.Series()\n",
    "    for link in links:\n",
    "        assert(len(link)==2)\n",
    "        phrase_id = link[0]\n",
    "        var_phrase_id = link[1]\n",
    "        \n",
    "        dists.loc[phrase_id] = embedding_distance(embeddings, phrase_id, var_phrase_id)\n",
    "    return dists\n",
    "\n"
   ]
  },
  {
   "cell_type": "code",
   "execution_count": 6,
   "metadata": {
    "collapsed": false
   },
   "outputs": [],
   "source": [
    "def get_dists_table(embedding_filename, max_corruption = 10):\n",
    "    embeddings = np.loadtxt(embedding_filename, delimiter=\",\")\n",
    "    dists = pd.DataFrame()\n",
    "    dists[\"paraphrase\"] = load_link_distances(\"paraphrases.txt\", embeddings)\n",
    "    for corruption_level in range(1,max_corruption+1):\n",
    "        link_filename = str(corruption_level)+\"verb_anto_semantic_corruptions.txt\"\n",
    "        dists[\"verb_anto_\" + str(corruption_level)] = load_link_distances(link_filename, embeddings)\n",
    "        link_filename = str(corruption_level)+\"noun_sym_semantic_corruptions.txt\"\n",
    "        dists[\"noun_sym_\" + str(corruption_level)] = load_link_distances(link_filename, embeddings)\n",
    "    return dists  \n",
    "    "
   ]
  },
  {
   "cell_type": "code",
   "execution_count": 69,
   "metadata": {
    "collapsed": false,
    "scrolled": true
   },
   "outputs": [
    {
     "name": "stderr",
     "output_type": "stream",
     "text": [
      "/usr/local/lib/python3.4/site-packages/numpy/lib/npyio.py:823: UserWarning: loadtxt: Empty input file: \"6verb_anto_semantic_corruptions.txt\"\n",
      "  warnings.warn('loadtxt: Empty input file: \"%s\"' % fname)\n",
      "/usr/local/lib/python3.4/site-packages/numpy/lib/npyio.py:823: UserWarning: loadtxt: Empty input file: \"7verb_anto_semantic_corruptions.txt\"\n",
      "  warnings.warn('loadtxt: Empty input file: \"%s\"' % fname)\n",
      "/usr/local/lib/python3.4/site-packages/numpy/lib/npyio.py:823: UserWarning: loadtxt: Empty input file: \"8verb_anto_semantic_corruptions.txt\"\n",
      "  warnings.warn('loadtxt: Empty input file: \"%s\"' % fname)\n",
      "/usr/local/lib/python3.4/site-packages/numpy/lib/npyio.py:823: UserWarning: loadtxt: Empty input file: \"9verb_anto_semantic_corruptions.txt\"\n",
      "  warnings.warn('loadtxt: Empty input file: \"%s\"' % fname)\n",
      "/usr/local/lib/python3.4/site-packages/numpy/lib/npyio.py:823: UserWarning: loadtxt: Empty input file: \"10verb_anto_semantic_corruptions.txt\"\n",
      "  warnings.warn('loadtxt: Empty input file: \"%s\"' % fname)\n",
      "/usr/local/lib/python3.4/site-packages/numpy/lib/npyio.py:823: UserWarning: loadtxt: Empty input file: \"10noun_sym_semantic_corruptions.txt\"\n",
      "  warnings.warn('loadtxt: Empty input file: \"%s\"' % fname)\n"
     ]
    }
   ],
   "source": [
    "rae_dists = get_dists_table(\"outVectors_RAE2011.csv\")\n",
    "wiki_doc2vec_dists = get_dists_table(\"outVectors_wiki_doc2vec.csv\")\n",
    "hansard_doc2vec_dists = get_dists_table(\"outVectors_hansard_doc2vec.csv\")\n",
    "wiki_sentence_doc2vec_dists = get_dists_table(\"outVectors_wiki_sentence_doc2vec.csv\")\n",
    "wiki_sentence_concat_doc2vec_dists = get_dists_table(\"outVectors_wiki_sentence_doc2vec.csv\")"
   ]
  },
  {
   "cell_type": "code",
   "execution_count": 67,
   "metadata": {
    "collapsed": false
   },
   "outputs": [],
   "source": [
    "def get_comparative_distances_table(dists, max_changes = 10):\n",
    "    def n_closer_than_paraphrase(prefix):\n",
    "        \"\"\"\n",
    "        prefix : eg \"verb_anto_\" or  \"noun_sym_\"\n",
    "        \"\"\"\n",
    "        return [(dists.paraphrase > dists[prefix+str(nchanges)]).sum()/dists[prefix+str(nchanges)].count() for nchanges in range(1,11)]\n",
    "\n",
    "\n",
    "    def compare_sym_anto_distances():\n",
    "        def inner():\n",
    "            for nchanges in range(1,max_changes+1):\n",
    "                verb_antos = dists[\"verb_anto_\"+str(nchanges)]\n",
    "                noun_syms =  dists[\"noun_sym_\"+str(nchanges)]\n",
    "                valid_dists = dists[np.logical_and(pd.notnull(verb_antos), pd.notnull(noun_syms))]\n",
    "                yield (verb_antos > noun_syms).sum()/len(valid_dists)\n",
    "        return list(inner())\n",
    "    \n",
    "    comparative_distances = pd.DataFrame()\n",
    "    comparative_distances[\"n_changes\"] = list(range(1,max_changes+1))\n",
    "    comparative_distances[\"noun_sym_lt_para\"] = n_closer_than_paraphrase(\"noun_sym_\")\n",
    "    comparative_distances[\"verb_anto_lt_para\"] = n_closer_than_paraphrase(\"verb_anto_\")\n",
    "    comparative_distances[\"noun_sym_lt_verb_anto\"] = compare_sym_anto_distances()\n",
    "    return comparative_distances\n",
    "    \n",
    "    \n",
    "    \n",
    "\n"
   ]
  },
  {
   "cell_type": "code",
   "execution_count": 72,
   "metadata": {
    "collapsed": false
   },
   "outputs": [
    {
     "data": {
      "text/html": [
       "<div>\n",
       "<table border=\"1\" class=\"dataframe\">\n",
       "  <thead>\n",
       "    <tr style=\"text-align: right;\">\n",
       "      <th></th>\n",
       "      <th>n_changes</th>\n",
       "      <th>noun_sym_lt_para</th>\n",
       "      <th>verb_anto_lt_para</th>\n",
       "      <th>noun_sym_lt_verb_anto</th>\n",
       "    </tr>\n",
       "  </thead>\n",
       "  <tbody>\n",
       "    <tr>\n",
       "      <th>0</th>\n",
       "      <td>1</td>\n",
       "      <td>0.913365</td>\n",
       "      <td>0.917674</td>\n",
       "      <td>0.493107</td>\n",
       "    </tr>\n",
       "    <tr>\n",
       "      <th>1</th>\n",
       "      <td>2</td>\n",
       "      <td>0.839179</td>\n",
       "      <td>0.866102</td>\n",
       "      <td>0.498886</td>\n",
       "    </tr>\n",
       "    <tr>\n",
       "      <th>2</th>\n",
       "      <td>3</td>\n",
       "      <td>0.761414</td>\n",
       "      <td>0.780488</td>\n",
       "      <td>0.391304</td>\n",
       "    </tr>\n",
       "    <tr>\n",
       "      <th>3</th>\n",
       "      <td>4</td>\n",
       "      <td>0.675444</td>\n",
       "      <td>0.833333</td>\n",
       "      <td>0.250000</td>\n",
       "    </tr>\n",
       "    <tr>\n",
       "      <th>4</th>\n",
       "      <td>5</td>\n",
       "      <td>0.584256</td>\n",
       "      <td>1.000000</td>\n",
       "      <td>NaN</td>\n",
       "    </tr>\n",
       "    <tr>\n",
       "      <th>5</th>\n",
       "      <td>6</td>\n",
       "      <td>0.517799</td>\n",
       "      <td>NaN</td>\n",
       "      <td>NaN</td>\n",
       "    </tr>\n",
       "    <tr>\n",
       "      <th>6</th>\n",
       "      <td>7</td>\n",
       "      <td>0.355769</td>\n",
       "      <td>NaN</td>\n",
       "      <td>NaN</td>\n",
       "    </tr>\n",
       "    <tr>\n",
       "      <th>7</th>\n",
       "      <td>8</td>\n",
       "      <td>0.363636</td>\n",
       "      <td>NaN</td>\n",
       "      <td>NaN</td>\n",
       "    </tr>\n",
       "    <tr>\n",
       "      <th>8</th>\n",
       "      <td>9</td>\n",
       "      <td>0.555556</td>\n",
       "      <td>NaN</td>\n",
       "      <td>NaN</td>\n",
       "    </tr>\n",
       "    <tr>\n",
       "      <th>9</th>\n",
       "      <td>10</td>\n",
       "      <td>NaN</td>\n",
       "      <td>NaN</td>\n",
       "      <td>NaN</td>\n",
       "    </tr>\n",
       "  </tbody>\n",
       "</table>\n",
       "</div>"
      ],
      "text/plain": [
       "   n_changes  noun_sym_lt_para  verb_anto_lt_para  noun_sym_lt_verb_anto\n",
       "0          1          0.913365           0.917674               0.493107\n",
       "1          2          0.839179           0.866102               0.498886\n",
       "2          3          0.761414           0.780488               0.391304\n",
       "3          4          0.675444           0.833333               0.250000\n",
       "4          5          0.584256           1.000000                    NaN\n",
       "5          6          0.517799                NaN                    NaN\n",
       "6          7          0.355769                NaN                    NaN\n",
       "7          8          0.363636                NaN                    NaN\n",
       "8          9          0.555556                NaN                    NaN\n",
       "9         10               NaN                NaN                    NaN"
      ]
     },
     "execution_count": 72,
     "metadata": {},
     "output_type": "execute_result"
    }
   ],
   "source": [
    "get_comparative_distances_table(wiki_sentence_doc2vec_dists)"
   ]
  },
  {
   "cell_type": "code",
   "execution_count": 73,
   "metadata": {
    "collapsed": false
   },
   "outputs": [
    {
     "data": {
      "text/html": [
       "<div>\n",
       "<table border=\"1\" class=\"dataframe\">\n",
       "  <thead>\n",
       "    <tr style=\"text-align: right;\">\n",
       "      <th></th>\n",
       "      <th>n_changes</th>\n",
       "      <th>noun_sym_lt_para</th>\n",
       "      <th>verb_anto_lt_para</th>\n",
       "      <th>noun_sym_lt_verb_anto</th>\n",
       "    </tr>\n",
       "  </thead>\n",
       "  <tbody>\n",
       "    <tr>\n",
       "      <th>0</th>\n",
       "      <td>1</td>\n",
       "      <td>0.913365</td>\n",
       "      <td>0.917674</td>\n",
       "      <td>0.493107</td>\n",
       "    </tr>\n",
       "    <tr>\n",
       "      <th>1</th>\n",
       "      <td>2</td>\n",
       "      <td>0.839179</td>\n",
       "      <td>0.866102</td>\n",
       "      <td>0.498886</td>\n",
       "    </tr>\n",
       "    <tr>\n",
       "      <th>2</th>\n",
       "      <td>3</td>\n",
       "      <td>0.761414</td>\n",
       "      <td>0.780488</td>\n",
       "      <td>0.391304</td>\n",
       "    </tr>\n",
       "    <tr>\n",
       "      <th>3</th>\n",
       "      <td>4</td>\n",
       "      <td>0.675444</td>\n",
       "      <td>0.833333</td>\n",
       "      <td>0.250000</td>\n",
       "    </tr>\n",
       "    <tr>\n",
       "      <th>4</th>\n",
       "      <td>5</td>\n",
       "      <td>0.584256</td>\n",
       "      <td>1.000000</td>\n",
       "      <td>NaN</td>\n",
       "    </tr>\n",
       "    <tr>\n",
       "      <th>5</th>\n",
       "      <td>6</td>\n",
       "      <td>0.517799</td>\n",
       "      <td>NaN</td>\n",
       "      <td>NaN</td>\n",
       "    </tr>\n",
       "    <tr>\n",
       "      <th>6</th>\n",
       "      <td>7</td>\n",
       "      <td>0.355769</td>\n",
       "      <td>NaN</td>\n",
       "      <td>NaN</td>\n",
       "    </tr>\n",
       "    <tr>\n",
       "      <th>7</th>\n",
       "      <td>8</td>\n",
       "      <td>0.363636</td>\n",
       "      <td>NaN</td>\n",
       "      <td>NaN</td>\n",
       "    </tr>\n",
       "    <tr>\n",
       "      <th>8</th>\n",
       "      <td>9</td>\n",
       "      <td>0.555556</td>\n",
       "      <td>NaN</td>\n",
       "      <td>NaN</td>\n",
       "    </tr>\n",
       "    <tr>\n",
       "      <th>9</th>\n",
       "      <td>10</td>\n",
       "      <td>NaN</td>\n",
       "      <td>NaN</td>\n",
       "      <td>NaN</td>\n",
       "    </tr>\n",
       "  </tbody>\n",
       "</table>\n",
       "</div>"
      ],
      "text/plain": [
       "   n_changes  noun_sym_lt_para  verb_anto_lt_para  noun_sym_lt_verb_anto\n",
       "0          1          0.913365           0.917674               0.493107\n",
       "1          2          0.839179           0.866102               0.498886\n",
       "2          3          0.761414           0.780488               0.391304\n",
       "3          4          0.675444           0.833333               0.250000\n",
       "4          5          0.584256           1.000000                    NaN\n",
       "5          6          0.517799                NaN                    NaN\n",
       "6          7          0.355769                NaN                    NaN\n",
       "7          8          0.363636                NaN                    NaN\n",
       "8          9          0.555556                NaN                    NaN\n",
       "9         10               NaN                NaN                    NaN"
      ]
     },
     "execution_count": 73,
     "metadata": {},
     "output_type": "execute_result"
    }
   ],
   "source": [
    "get_comparative_distances_table(wiki_sentence_concat_doc2vec_dists)"
   ]
  },
  {
   "cell_type": "code",
   "execution_count": 74,
   "metadata": {
    "collapsed": false
   },
   "outputs": [
    {
     "data": {
      "text/html": [
       "<div>\n",
       "<table border=\"1\" class=\"dataframe\">\n",
       "  <thead>\n",
       "    <tr style=\"text-align: right;\">\n",
       "      <th></th>\n",
       "      <th>n_changes</th>\n",
       "      <th>noun_sym_lt_para</th>\n",
       "      <th>verb_anto_lt_para</th>\n",
       "      <th>noun_sym_lt_verb_anto</th>\n",
       "    </tr>\n",
       "  </thead>\n",
       "  <tbody>\n",
       "    <tr>\n",
       "      <th>0</th>\n",
       "      <td>1</td>\n",
       "      <td>0.949637</td>\n",
       "      <td>0.936949</td>\n",
       "      <td>0.607635</td>\n",
       "    </tr>\n",
       "    <tr>\n",
       "      <th>1</th>\n",
       "      <td>2</td>\n",
       "      <td>0.905506</td>\n",
       "      <td>0.896610</td>\n",
       "      <td>0.581292</td>\n",
       "    </tr>\n",
       "    <tr>\n",
       "      <th>2</th>\n",
       "      <td>3</td>\n",
       "      <td>0.866274</td>\n",
       "      <td>0.792683</td>\n",
       "      <td>0.434783</td>\n",
       "    </tr>\n",
       "    <tr>\n",
       "      <th>3</th>\n",
       "      <td>4</td>\n",
       "      <td>0.827132</td>\n",
       "      <td>0.833333</td>\n",
       "      <td>0.000000</td>\n",
       "    </tr>\n",
       "    <tr>\n",
       "      <th>4</th>\n",
       "      <td>5</td>\n",
       "      <td>0.788438</td>\n",
       "      <td>1.000000</td>\n",
       "      <td>NaN</td>\n",
       "    </tr>\n",
       "    <tr>\n",
       "      <th>5</th>\n",
       "      <td>6</td>\n",
       "      <td>0.754045</td>\n",
       "      <td>NaN</td>\n",
       "      <td>NaN</td>\n",
       "    </tr>\n",
       "    <tr>\n",
       "      <th>6</th>\n",
       "      <td>7</td>\n",
       "      <td>0.750000</td>\n",
       "      <td>NaN</td>\n",
       "      <td>NaN</td>\n",
       "    </tr>\n",
       "    <tr>\n",
       "      <th>7</th>\n",
       "      <td>8</td>\n",
       "      <td>0.727273</td>\n",
       "      <td>NaN</td>\n",
       "      <td>NaN</td>\n",
       "    </tr>\n",
       "    <tr>\n",
       "      <th>8</th>\n",
       "      <td>9</td>\n",
       "      <td>0.888889</td>\n",
       "      <td>NaN</td>\n",
       "      <td>NaN</td>\n",
       "    </tr>\n",
       "    <tr>\n",
       "      <th>9</th>\n",
       "      <td>10</td>\n",
       "      <td>NaN</td>\n",
       "      <td>NaN</td>\n",
       "      <td>NaN</td>\n",
       "    </tr>\n",
       "  </tbody>\n",
       "</table>\n",
       "</div>"
      ],
      "text/plain": [
       "   n_changes  noun_sym_lt_para  verb_anto_lt_para  noun_sym_lt_verb_anto\n",
       "0          1          0.949637           0.936949               0.607635\n",
       "1          2          0.905506           0.896610               0.581292\n",
       "2          3          0.866274           0.792683               0.434783\n",
       "3          4          0.827132           0.833333               0.000000\n",
       "4          5          0.788438           1.000000                    NaN\n",
       "5          6          0.754045                NaN                    NaN\n",
       "6          7          0.750000                NaN                    NaN\n",
       "7          8          0.727273                NaN                    NaN\n",
       "8          9          0.888889                NaN                    NaN\n",
       "9         10               NaN                NaN                    NaN"
      ]
     },
     "execution_count": 74,
     "metadata": {},
     "output_type": "execute_result"
    }
   ],
   "source": [
    "get_comparative_distances_table(rae_dists)"
   ]
  },
  {
   "cell_type": "code",
   "execution_count": 75,
   "metadata": {
    "collapsed": false
   },
   "outputs": [
    {
     "data": {
      "text/html": [
       "<div>\n",
       "<table border=\"1\" class=\"dataframe\">\n",
       "  <thead>\n",
       "    <tr style=\"text-align: right;\">\n",
       "      <th></th>\n",
       "      <th>n_changes</th>\n",
       "      <th>noun_sym_lt_para</th>\n",
       "      <th>verb_anto_lt_para</th>\n",
       "      <th>noun_sym_lt_verb_anto</th>\n",
       "    </tr>\n",
       "  </thead>\n",
       "  <tbody>\n",
       "    <tr>\n",
       "      <th>0</th>\n",
       "      <td>1</td>\n",
       "      <td>0.898019</td>\n",
       "      <td>0.896439</td>\n",
       "      <td>0.488158</td>\n",
       "    </tr>\n",
       "    <tr>\n",
       "      <th>1</th>\n",
       "      <td>2</td>\n",
       "      <td>0.813375</td>\n",
       "      <td>0.855932</td>\n",
       "      <td>0.447661</td>\n",
       "    </tr>\n",
       "    <tr>\n",
       "      <th>2</th>\n",
       "      <td>3</td>\n",
       "      <td>0.718704</td>\n",
       "      <td>0.817073</td>\n",
       "      <td>0.521739</td>\n",
       "    </tr>\n",
       "    <tr>\n",
       "      <th>3</th>\n",
       "      <td>4</td>\n",
       "      <td>0.593017</td>\n",
       "      <td>0.916667</td>\n",
       "      <td>0.250000</td>\n",
       "    </tr>\n",
       "    <tr>\n",
       "      <th>4</th>\n",
       "      <td>5</td>\n",
       "      <td>0.473555</td>\n",
       "      <td>0.500000</td>\n",
       "      <td>NaN</td>\n",
       "    </tr>\n",
       "    <tr>\n",
       "      <th>5</th>\n",
       "      <td>6</td>\n",
       "      <td>0.388350</td>\n",
       "      <td>NaN</td>\n",
       "      <td>NaN</td>\n",
       "    </tr>\n",
       "    <tr>\n",
       "      <th>6</th>\n",
       "      <td>7</td>\n",
       "      <td>0.365385</td>\n",
       "      <td>NaN</td>\n",
       "      <td>NaN</td>\n",
       "    </tr>\n",
       "    <tr>\n",
       "      <th>7</th>\n",
       "      <td>8</td>\n",
       "      <td>0.318182</td>\n",
       "      <td>NaN</td>\n",
       "      <td>NaN</td>\n",
       "    </tr>\n",
       "    <tr>\n",
       "      <th>8</th>\n",
       "      <td>9</td>\n",
       "      <td>0.111111</td>\n",
       "      <td>NaN</td>\n",
       "      <td>NaN</td>\n",
       "    </tr>\n",
       "    <tr>\n",
       "      <th>9</th>\n",
       "      <td>10</td>\n",
       "      <td>NaN</td>\n",
       "      <td>NaN</td>\n",
       "      <td>NaN</td>\n",
       "    </tr>\n",
       "  </tbody>\n",
       "</table>\n",
       "</div>"
      ],
      "text/plain": [
       "   n_changes  noun_sym_lt_para  verb_anto_lt_para  noun_sym_lt_verb_anto\n",
       "0          1          0.898019           0.896439               0.488158\n",
       "1          2          0.813375           0.855932               0.447661\n",
       "2          3          0.718704           0.817073               0.521739\n",
       "3          4          0.593017           0.916667               0.250000\n",
       "4          5          0.473555           0.500000                    NaN\n",
       "5          6          0.388350                NaN                    NaN\n",
       "6          7          0.365385                NaN                    NaN\n",
       "7          8          0.318182                NaN                    NaN\n",
       "8          9          0.111111                NaN                    NaN\n",
       "9         10               NaN                NaN                    NaN"
      ]
     },
     "execution_count": 75,
     "metadata": {},
     "output_type": "execute_result"
    }
   ],
   "source": [
    "get_comparative_distances_table(wiki_doc2vec_dists)"
   ]
  },
  {
   "cell_type": "code",
   "execution_count": 76,
   "metadata": {
    "collapsed": false
   },
   "outputs": [
    {
     "data": {
      "text/html": [
       "<div>\n",
       "<table border=\"1\" class=\"dataframe\">\n",
       "  <thead>\n",
       "    <tr style=\"text-align: right;\">\n",
       "      <th></th>\n",
       "      <th>n_changes</th>\n",
       "      <th>noun_sym_lt_para</th>\n",
       "      <th>verb_anto_lt_para</th>\n",
       "      <th>noun_sym_lt_verb_anto</th>\n",
       "    </tr>\n",
       "  </thead>\n",
       "  <tbody>\n",
       "    <tr>\n",
       "      <th>0</th>\n",
       "      <td>1</td>\n",
       "      <td>0.901646</td>\n",
       "      <td>0.907873</td>\n",
       "      <td>0.489219</td>\n",
       "    </tr>\n",
       "    <tr>\n",
       "      <th>1</th>\n",
       "      <td>2</td>\n",
       "      <td>0.819371</td>\n",
       "      <td>0.835593</td>\n",
       "      <td>0.518931</td>\n",
       "    </tr>\n",
       "    <tr>\n",
       "      <th>2</th>\n",
       "      <td>3</td>\n",
       "      <td>0.733432</td>\n",
       "      <td>0.719512</td>\n",
       "      <td>0.500000</td>\n",
       "    </tr>\n",
       "    <tr>\n",
       "      <th>3</th>\n",
       "      <td>4</td>\n",
       "      <td>0.601030</td>\n",
       "      <td>0.583333</td>\n",
       "      <td>0.250000</td>\n",
       "    </tr>\n",
       "    <tr>\n",
       "      <th>4</th>\n",
       "      <td>5</td>\n",
       "      <td>0.531365</td>\n",
       "      <td>0.000000</td>\n",
       "      <td>NaN</td>\n",
       "    </tr>\n",
       "    <tr>\n",
       "      <th>5</th>\n",
       "      <td>6</td>\n",
       "      <td>0.453074</td>\n",
       "      <td>NaN</td>\n",
       "      <td>NaN</td>\n",
       "    </tr>\n",
       "    <tr>\n",
       "      <th>6</th>\n",
       "      <td>7</td>\n",
       "      <td>0.317308</td>\n",
       "      <td>NaN</td>\n",
       "      <td>NaN</td>\n",
       "    </tr>\n",
       "    <tr>\n",
       "      <th>7</th>\n",
       "      <td>8</td>\n",
       "      <td>0.318182</td>\n",
       "      <td>NaN</td>\n",
       "      <td>NaN</td>\n",
       "    </tr>\n",
       "    <tr>\n",
       "      <th>8</th>\n",
       "      <td>9</td>\n",
       "      <td>0.111111</td>\n",
       "      <td>NaN</td>\n",
       "      <td>NaN</td>\n",
       "    </tr>\n",
       "    <tr>\n",
       "      <th>9</th>\n",
       "      <td>10</td>\n",
       "      <td>NaN</td>\n",
       "      <td>NaN</td>\n",
       "      <td>NaN</td>\n",
       "    </tr>\n",
       "  </tbody>\n",
       "</table>\n",
       "</div>"
      ],
      "text/plain": [
       "   n_changes  noun_sym_lt_para  verb_anto_lt_para  noun_sym_lt_verb_anto\n",
       "0          1          0.901646           0.907873               0.489219\n",
       "1          2          0.819371           0.835593               0.518931\n",
       "2          3          0.733432           0.719512               0.500000\n",
       "3          4          0.601030           0.583333               0.250000\n",
       "4          5          0.531365           0.000000                    NaN\n",
       "5          6          0.453074                NaN                    NaN\n",
       "6          7          0.317308                NaN                    NaN\n",
       "7          8          0.318182                NaN                    NaN\n",
       "8          9          0.111111                NaN                    NaN\n",
       "9         10               NaN                NaN                    NaN"
      ]
     },
     "execution_count": 76,
     "metadata": {},
     "output_type": "execute_result"
    }
   ],
   "source": [
    "get_comparative_distances_table(hansard_doc2vec_dists)"
   ]
  },
  {
   "cell_type": "code",
   "execution_count": null,
   "metadata": {
    "collapsed": true
   },
   "outputs": [],
   "source": []
  },
  {
   "cell_type": "code",
   "execution_count": null,
   "metadata": {
    "collapsed": false
   },
   "outputs": [],
   "source": [
    "comparative_distances[\"n_changes\"] = list(range(1,11))\n",
    "#comparative_distances[\"RAE_noun_sym_lt_para\"] = n_closer_than_paraphrase(\"noun_sym_\", rae_dists)\n",
    "#comparative_distances[\"RAE_verb_anto_lt_para\"] = n_closer_than_paraphrase(\"verb_anto_\", rae_dists)\n",
    "comparative_distances[\"wiki_doc2vec_noun_sym_lt_para\"] = n_closer_than_paraphrase(\"noun_sym_\", wiki_doc2vec_dists)\n",
    "comparative_distances[\"wiki_doc2vec_verb_anto_lt_para\"] = n_closer_than_paraphrase(\"verb_anto_\", wiki_doc2vec_dists)\n",
    "#comparative_distances[\"hansard_doc2vec_noun_sym_lt_para\"] = n_closer_than_paraphrase(\"noun_sym_\", hansard_doc2vec_dists)\n",
    "#comparative_distances[\"hansard_doc2vec_verb_anto_lt_para\"] = n_closer_than_paraphrase(\"verb_anto_\", hansard_doc2vec_dists)\n",
    "comparative_distances\n",
    "\n",
    "comparative_distances.loc[0:max_changes-2,\"rae_noun_sym_lt_verb_anto\"] = compare_sym_anto_distances(rae_dists,max_changes)\n",
    "comparative_distances.loc[0:max_changes-2,\"wiki_doc2vec_noun_sym_lt_verb_anto\"] = compare_sym_anto_distances(wiki_doc2vec_dists,max_changes)\n",
    "comparative_distances.loc[0:max_changes-2,\"hansard_doc2vec_noun_sym_lt_verb_anto\"] = compare_sym_anto_distances(hansard_doc2vec_dists,max_changes)\n",
    "comparative_distances"
   ]
  },
  {
   "cell_type": "code",
   "execution_count": null,
   "metadata": {
    "collapsed": false
   },
   "outputs": [],
   "source": [
    "def drop_null_cols(df):\n",
    "    keep_cols = [col for col in df.columns if not(all(pd.isnull(df.loc[:,col])))]\n",
    "    return df.loc[:,keep_cols]\n",
    "    \n"
   ]
  },
  {
   "cell_type": "code",
   "execution_count": null,
   "metadata": {
    "collapsed": false,
    "scrolled": true
   },
   "outputs": [],
   "source": [
    "drop_null_cols(hansard_doc2vec_dists).hist(sharex=True)"
   ]
  },
  {
   "cell_type": "code",
   "execution_count": null,
   "metadata": {
    "collapsed": false
   },
   "outputs": [],
   "source": [
    "drop_null_cols(wiki_doc2vec_dists).hist(sharex=True)"
   ]
  },
  {
   "cell_type": "code",
   "execution_count": null,
   "metadata": {
    "collapsed": false
   },
   "outputs": [],
   "source": [
    "drop_null_cols(rae_dists).hist(sharex=True)"
   ]
  },
  {
   "cell_type": "code",
   "execution_count": null,
   "metadata": {
    "collapsed": true
   },
   "outputs": [],
   "source": []
  }
 ],
 "metadata": {
  "kernelspec": {
   "display_name": "Python 3",
   "language": "python",
   "name": "python3"
  },
  "language_info": {
   "codemirror_mode": {
    "name": "ipython",
    "version": 3
   },
   "file_extension": ".py",
   "mimetype": "text/x-python",
   "name": "python",
   "nbconvert_exporter": "python",
   "pygments_lexer": "ipython3",
   "version": "3.4.3"
  }
 },
 "nbformat": 4,
 "nbformat_minor": 0
}
