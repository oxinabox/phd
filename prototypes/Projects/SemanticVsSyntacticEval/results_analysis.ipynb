{
 "cells": [
  {
   "cell_type": "code",
   "execution_count": 10,
   "metadata": {
    "collapsed": false
   },
   "outputs": [],
   "source": [
    "import pylab as pl\n",
    "%matplotlib inline\n",
    "pl.rcParams['figure.figsize'] = 15, 15"
   ]
  },
  {
   "cell_type": "code",
   "execution_count": 1,
   "metadata": {
    "collapsed": false
   },
   "outputs": [],
   "source": [
    "import os.path\n",
    "import csv\n",
    "import numpy as np\n",
    "import scipy.spatial\n",
    "import pandas as pd"
   ]
  },
  {
   "cell_type": "code",
   "execution_count": 2,
   "metadata": {
    "collapsed": false
   },
   "outputs": [],
   "source": [
    "\n",
    "os.chdir(\"prepared_corpora/msrp_noun_sym_verb_anto_corruptions/\")"
   ]
  },
  {
   "cell_type": "code",
   "execution_count": 5,
   "metadata": {
    "collapsed": false
   },
   "outputs": [],
   "source": [
    "def embedding_distance(embeddings, id1, id2):\n",
    "    ii = id1 - 1  #Change from 1 indexed id, to 0 indexex embedding index\n",
    "    jj = id2 - 1\n",
    "    return scipy.spatial.distance.cosine(embeddings[ii,:], embeddings[jj,:])"
   ]
  },
  {
   "cell_type": "code",
   "execution_count": 6,
   "metadata": {
    "collapsed": false
   },
   "outputs": [],
   "source": [
    "def load_link_distances(link_filename, embeddings):\n",
    "    links = np.loadtxt(link_filename, delimiter=\",\",skiprows=1, dtype=np.int)\n",
    "    dists = pd.Series()\n",
    "    for link in links:\n",
    "        assert(len(link)==2)\n",
    "        phrase_id = link[0]\n",
    "        var_phrase_id = link[1]\n",
    "        \n",
    "        dists.loc[phrase_id] = embedding_distance(embeddings, phrase_id, var_phrase_id)\n",
    "    return dists\n",
    "\n"
   ]
  },
  {
   "cell_type": "code",
   "execution_count": 7,
   "metadata": {
    "collapsed": false
   },
   "outputs": [],
   "source": [
    "def get_dists_table(embedding_filename, max_corruption = 10):\n",
    "    embeddings = np.loadtxt(embedding_filename, delimiter=\",\")\n",
    "    dists = pd.DataFrame()\n",
    "    dists[\"paraphrase\"] = load_link_distances(\"paraphrases.txt\", embeddings)\n",
    "    for corruption_level in range(1,max_corruption+1):\n",
    "        link_filename = str(corruption_level)+\"verb_anto_semantic_corruptions.txt\"\n",
    "        dists[\"verb_anto_\" + str(corruption_level)] = load_link_distances(link_filename, embeddings)\n",
    "        link_filename = str(corruption_level)+\"noun_sym_semantic_corruptions.txt\"\n",
    "        dists[\"noun_sym_\" + str(corruption_level)] = load_link_distances(link_filename, embeddings)\n",
    "    return dists  \n",
    "    "
   ]
  },
  {
   "cell_type": "code",
   "execution_count": 124,
   "metadata": {
    "collapsed": false,
    "scrolled": true
   },
   "outputs": [
    {
     "name": "stderr",
     "output_type": "stream",
     "text": [
      "/usr/local/lib/python3.4/site-packages/numpy/lib/npyio.py:823: UserWarning: loadtxt: Empty input file: \"7verb_anto_semantic_corruptions.txt\"\n",
      "  warnings.warn('loadtxt: Empty input file: \"%s\"' % fname)\n",
      "/usr/local/lib/python3.4/site-packages/numpy/lib/npyio.py:823: UserWarning: loadtxt: Empty input file: \"8verb_anto_semantic_corruptions.txt\"\n",
      "  warnings.warn('loadtxt: Empty input file: \"%s\"' % fname)\n",
      "/usr/local/lib/python3.4/site-packages/numpy/lib/npyio.py:823: UserWarning: loadtxt: Empty input file: \"9verb_anto_semantic_corruptions.txt\"\n",
      "  warnings.warn('loadtxt: Empty input file: \"%s\"' % fname)\n",
      "/usr/local/lib/python3.4/site-packages/numpy/lib/npyio.py:823: UserWarning: loadtxt: Empty input file: \"10verb_anto_semantic_corruptions.txt\"\n",
      "  warnings.warn('loadtxt: Empty input file: \"%s\"' % fname)\n"
     ]
    }
   ],
   "source": [
    "rae_dists = get_dists_table(\"outVectors_RAE2011.csv\")\n",
    "doc2vec_dists = get_dists_table(\"outVectors_hansard_doc2vec.csv\")\n"
   ]
  },
  {
   "cell_type": "code",
   "execution_count": 131,
   "metadata": {
    "collapsed": false
   },
   "outputs": [
    {
     "data": {
      "text/html": [
       "<div>\n",
       "<table border=\"1\" class=\"dataframe\">\n",
       "  <thead>\n",
       "    <tr style=\"text-align: right;\">\n",
       "      <th></th>\n",
       "      <th>n_changes</th>\n",
       "      <th>RAE_noun_sym_lt_para</th>\n",
       "      <th>RAE_verb_anto_lt_para</th>\n",
       "      <th>doc2vec_noun_sym_lt_para</th>\n",
       "      <th>doc2vec_verb_anto_lt_para</th>\n",
       "    </tr>\n",
       "  </thead>\n",
       "  <tbody>\n",
       "    <tr>\n",
       "      <th>0</th>\n",
       "      <td>1</td>\n",
       "      <td>0.953969</td>\n",
       "      <td>0.804167</td>\n",
       "      <td>0.791945</td>\n",
       "      <td>0.399405</td>\n",
       "    </tr>\n",
       "    <tr>\n",
       "      <th>1</th>\n",
       "      <td>2</td>\n",
       "      <td>0.909299</td>\n",
       "      <td>0.750130</td>\n",
       "      <td>0.678541</td>\n",
       "      <td>0.296104</td>\n",
       "    </tr>\n",
       "    <tr>\n",
       "      <th>2</th>\n",
       "      <td>3</td>\n",
       "      <td>0.869259</td>\n",
       "      <td>0.756637</td>\n",
       "      <td>0.557804</td>\n",
       "      <td>0.258850</td>\n",
       "    </tr>\n",
       "    <tr>\n",
       "      <th>3</th>\n",
       "      <td>4</td>\n",
       "      <td>0.833826</td>\n",
       "      <td>0.638554</td>\n",
       "      <td>0.461292</td>\n",
       "      <td>0.192771</td>\n",
       "    </tr>\n",
       "    <tr>\n",
       "      <th>4</th>\n",
       "      <td>5</td>\n",
       "      <td>0.797163</td>\n",
       "      <td>0.466667</td>\n",
       "      <td>0.341258</td>\n",
       "      <td>0.133333</td>\n",
       "    </tr>\n",
       "    <tr>\n",
       "      <th>5</th>\n",
       "      <td>6</td>\n",
       "      <td>0.758953</td>\n",
       "      <td>0.500000</td>\n",
       "      <td>0.291322</td>\n",
       "      <td>0.000000</td>\n",
       "    </tr>\n",
       "    <tr>\n",
       "      <th>6</th>\n",
       "      <td>7</td>\n",
       "      <td>0.739377</td>\n",
       "      <td>NaN</td>\n",
       "      <td>0.212465</td>\n",
       "      <td>NaN</td>\n",
       "    </tr>\n",
       "    <tr>\n",
       "      <th>7</th>\n",
       "      <td>8</td>\n",
       "      <td>0.700000</td>\n",
       "      <td>NaN</td>\n",
       "      <td>0.141935</td>\n",
       "      <td>NaN</td>\n",
       "    </tr>\n",
       "    <tr>\n",
       "      <th>8</th>\n",
       "      <td>9</td>\n",
       "      <td>0.675439</td>\n",
       "      <td>NaN</td>\n",
       "      <td>0.096491</td>\n",
       "      <td>NaN</td>\n",
       "    </tr>\n",
       "    <tr>\n",
       "      <th>9</th>\n",
       "      <td>10</td>\n",
       "      <td>0.675676</td>\n",
       "      <td>NaN</td>\n",
       "      <td>0.108108</td>\n",
       "      <td>NaN</td>\n",
       "    </tr>\n",
       "  </tbody>\n",
       "</table>\n",
       "</div>"
      ],
      "text/plain": [
       "   n_changes  RAE_noun_sym_lt_para  RAE_verb_anto_lt_para  \\\n",
       "0          1              0.953969               0.804167   \n",
       "1          2              0.909299               0.750130   \n",
       "2          3              0.869259               0.756637   \n",
       "3          4              0.833826               0.638554   \n",
       "4          5              0.797163               0.466667   \n",
       "5          6              0.758953               0.500000   \n",
       "6          7              0.739377                    NaN   \n",
       "7          8              0.700000                    NaN   \n",
       "8          9              0.675439                    NaN   \n",
       "9         10              0.675676                    NaN   \n",
       "\n",
       "   doc2vec_noun_sym_lt_para  doc2vec_verb_anto_lt_para  \n",
       "0                  0.791945                   0.399405  \n",
       "1                  0.678541                   0.296104  \n",
       "2                  0.557804                   0.258850  \n",
       "3                  0.461292                   0.192771  \n",
       "4                  0.341258                   0.133333  \n",
       "5                  0.291322                   0.000000  \n",
       "6                  0.212465                        NaN  \n",
       "7                  0.141935                        NaN  \n",
       "8                  0.096491                        NaN  \n",
       "9                  0.108108                        NaN  "
      ]
     },
     "execution_count": 131,
     "metadata": {},
     "output_type": "execute_result"
    }
   ],
   "source": [
    "def n_closer_than_paraphrase(prefix, dists):\n",
    "    \"\"\"\n",
    "    prefix : eg \"verb_anto_\" or  \"noun_sym_\"\n",
    "    \"\"\"\n",
    "    return [(dists.paraphrase > dists[prefix+str(nchanges)]).sum()/dists[prefix+str(nchanges)].count() for nchanges in range(1,11)]\n",
    "\n",
    "comparative_distances = pd.DataFrame()\n",
    "\n",
    "comparative_distances[\"n_changes\"] = list(range(1,11))\n",
    "comparative_distances[\"RAE_noun_sym_lt_para\"] = n_closer_than_paraphrase(\"noun_sym_\", rae_dists)\n",
    "comparative_distances[\"RAE_verb_anto_lt_para\"] = n_closer_than_paraphrase(\"verb_anto_\", rae_dists)\n",
    "comparative_distances[\"doc2vec_noun_sym_lt_para\"] = n_closer_than_paraphrase(\"noun_sym_\", doc2vec_dists)\n",
    "comparative_distances[\"doc2vec_verb_anto_lt_para\"] = n_closer_than_paraphrase(\"verb_anto_\", doc2vec_dists)\n",
    "comparative_distances"
   ]
  },
  {
   "cell_type": "code",
   "execution_count": 132,
   "metadata": {
    "collapsed": false
   },
   "outputs": [
    {
     "ename": "ValueError",
     "evalue": "Length of values does not match length of index",
     "output_type": "error",
     "traceback": [
      "\u001b[1;31m---------------------------------------------------------------------------\u001b[0m",
      "\u001b[1;31mValueError\u001b[0m                                Traceback (most recent call last)",
      "\u001b[1;32m<ipython-input-132-236adaa47287>\u001b[0m in \u001b[0;36m<module>\u001b[1;34m()\u001b[0m\n\u001b[0;32m      7\u001b[0m             \u001b[1;32myield\u001b[0m \u001b[1;33m(\u001b[0m\u001b[0mverb_antos\u001b[0m \u001b[1;33m>\u001b[0m \u001b[0mnoun_syms\u001b[0m\u001b[1;33m)\u001b[0m\u001b[1;33m.\u001b[0m\u001b[0msum\u001b[0m\u001b[1;33m(\u001b[0m\u001b[1;33m)\u001b[0m\u001b[1;33m/\u001b[0m\u001b[0mlen\u001b[0m\u001b[1;33m(\u001b[0m\u001b[0mvalid_dists\u001b[0m\u001b[1;33m)\u001b[0m\u001b[1;33m\u001b[0m\u001b[0m\n\u001b[0;32m      8\u001b[0m     \u001b[1;32mreturn\u001b[0m \u001b[0mlist\u001b[0m\u001b[1;33m(\u001b[0m\u001b[0minner\u001b[0m\u001b[1;33m(\u001b[0m\u001b[1;33m)\u001b[0m\u001b[1;33m)\u001b[0m\u001b[1;33m\u001b[0m\u001b[0m\n\u001b[1;32m----> 9\u001b[1;33m \u001b[0mcomparative_distances\u001b[0m\u001b[1;33m[\u001b[0m\u001b[1;34m\"doc2vec_noun_sym_lt_verb_anto\"\u001b[0m\u001b[1;33m]\u001b[0m \u001b[1;33m=\u001b[0m \u001b[0mcompare_sym_anto_distances\u001b[0m\u001b[1;33m(\u001b[0m\u001b[0mdoc2vec_dists\u001b[0m\u001b[1;33m)\u001b[0m\u001b[1;33m\u001b[0m\u001b[0m\n\u001b[0m\u001b[0;32m     10\u001b[0m \u001b[0mcomparative_distances\u001b[0m\u001b[1;33m[\u001b[0m\u001b[1;34m\"RAE_noun_sym_lt_verb_anto\"\u001b[0m\u001b[1;33m]\u001b[0m \u001b[1;33m=\u001b[0m \u001b[0mcompare_sym_anto_distances\u001b[0m\u001b[1;33m(\u001b[0m\u001b[0mrae_dists\u001b[0m\u001b[1;33m)\u001b[0m\u001b[1;33m\u001b[0m\u001b[0m\n",
      "\u001b[1;32m/usr/local/lib/python3.4/site-packages/pandas/core/frame.py\u001b[0m in \u001b[0;36m__setitem__\u001b[1;34m(self, key, value)\u001b[0m\n\u001b[0;32m   2125\u001b[0m         \u001b[1;32melse\u001b[0m\u001b[1;33m:\u001b[0m\u001b[1;33m\u001b[0m\u001b[0m\n\u001b[0;32m   2126\u001b[0m             \u001b[1;31m# set column\u001b[0m\u001b[1;33m\u001b[0m\u001b[1;33m\u001b[0m\u001b[0m\n\u001b[1;32m-> 2127\u001b[1;33m             \u001b[0mself\u001b[0m\u001b[1;33m.\u001b[0m\u001b[0m_set_item\u001b[0m\u001b[1;33m(\u001b[0m\u001b[0mkey\u001b[0m\u001b[1;33m,\u001b[0m \u001b[0mvalue\u001b[0m\u001b[1;33m)\u001b[0m\u001b[1;33m\u001b[0m\u001b[0m\n\u001b[0m\u001b[0;32m   2128\u001b[0m \u001b[1;33m\u001b[0m\u001b[0m\n\u001b[0;32m   2129\u001b[0m     \u001b[1;32mdef\u001b[0m \u001b[0m_setitem_slice\u001b[0m\u001b[1;33m(\u001b[0m\u001b[0mself\u001b[0m\u001b[1;33m,\u001b[0m \u001b[0mkey\u001b[0m\u001b[1;33m,\u001b[0m \u001b[0mvalue\u001b[0m\u001b[1;33m)\u001b[0m\u001b[1;33m:\u001b[0m\u001b[1;33m\u001b[0m\u001b[0m\n",
      "\u001b[1;32m/usr/local/lib/python3.4/site-packages/pandas/core/frame.py\u001b[0m in \u001b[0;36m_set_item\u001b[1;34m(self, key, value)\u001b[0m\n\u001b[0;32m   2202\u001b[0m \u001b[1;33m\u001b[0m\u001b[0m\n\u001b[0;32m   2203\u001b[0m         \u001b[0mself\u001b[0m\u001b[1;33m.\u001b[0m\u001b[0m_ensure_valid_index\u001b[0m\u001b[1;33m(\u001b[0m\u001b[0mvalue\u001b[0m\u001b[1;33m)\u001b[0m\u001b[1;33m\u001b[0m\u001b[0m\n\u001b[1;32m-> 2204\u001b[1;33m         \u001b[0mvalue\u001b[0m \u001b[1;33m=\u001b[0m \u001b[0mself\u001b[0m\u001b[1;33m.\u001b[0m\u001b[0m_sanitize_column\u001b[0m\u001b[1;33m(\u001b[0m\u001b[0mkey\u001b[0m\u001b[1;33m,\u001b[0m \u001b[0mvalue\u001b[0m\u001b[1;33m)\u001b[0m\u001b[1;33m\u001b[0m\u001b[0m\n\u001b[0m\u001b[0;32m   2205\u001b[0m         \u001b[0mNDFrame\u001b[0m\u001b[1;33m.\u001b[0m\u001b[0m_set_item\u001b[0m\u001b[1;33m(\u001b[0m\u001b[0mself\u001b[0m\u001b[1;33m,\u001b[0m \u001b[0mkey\u001b[0m\u001b[1;33m,\u001b[0m \u001b[0mvalue\u001b[0m\u001b[1;33m)\u001b[0m\u001b[1;33m\u001b[0m\u001b[0m\n\u001b[0;32m   2206\u001b[0m \u001b[1;33m\u001b[0m\u001b[0m\n",
      "\u001b[1;32m/usr/local/lib/python3.4/site-packages/pandas/core/frame.py\u001b[0m in \u001b[0;36m_sanitize_column\u001b[1;34m(self, key, value)\u001b[0m\n\u001b[0;32m   2360\u001b[0m \u001b[1;33m\u001b[0m\u001b[0m\n\u001b[0;32m   2361\u001b[0m             \u001b[1;31m# turn me into an ndarray\u001b[0m\u001b[1;33m\u001b[0m\u001b[1;33m\u001b[0m\u001b[0m\n\u001b[1;32m-> 2362\u001b[1;33m             \u001b[0mvalue\u001b[0m \u001b[1;33m=\u001b[0m \u001b[0m_sanitize_index\u001b[0m\u001b[1;33m(\u001b[0m\u001b[0mvalue\u001b[0m\u001b[1;33m,\u001b[0m \u001b[0mself\u001b[0m\u001b[1;33m.\u001b[0m\u001b[0mindex\u001b[0m\u001b[1;33m,\u001b[0m \u001b[0mcopy\u001b[0m\u001b[1;33m=\u001b[0m\u001b[1;32mFalse\u001b[0m\u001b[1;33m)\u001b[0m\u001b[1;33m\u001b[0m\u001b[0m\n\u001b[0m\u001b[0;32m   2363\u001b[0m             \u001b[1;32mif\u001b[0m \u001b[1;32mnot\u001b[0m \u001b[0misinstance\u001b[0m\u001b[1;33m(\u001b[0m\u001b[0mvalue\u001b[0m\u001b[1;33m,\u001b[0m \u001b[1;33m(\u001b[0m\u001b[0mnp\u001b[0m\u001b[1;33m.\u001b[0m\u001b[0mndarray\u001b[0m\u001b[1;33m,\u001b[0m \u001b[0mIndex\u001b[0m\u001b[1;33m)\u001b[0m\u001b[1;33m)\u001b[0m\u001b[1;33m:\u001b[0m\u001b[1;33m\u001b[0m\u001b[0m\n\u001b[0;32m   2364\u001b[0m                 \u001b[1;32mif\u001b[0m \u001b[0misinstance\u001b[0m\u001b[1;33m(\u001b[0m\u001b[0mvalue\u001b[0m\u001b[1;33m,\u001b[0m \u001b[0mlist\u001b[0m\u001b[1;33m)\u001b[0m \u001b[1;32mand\u001b[0m \u001b[0mlen\u001b[0m\u001b[1;33m(\u001b[0m\u001b[0mvalue\u001b[0m\u001b[1;33m)\u001b[0m \u001b[1;33m>\u001b[0m \u001b[1;36m0\u001b[0m\u001b[1;33m:\u001b[0m\u001b[1;33m\u001b[0m\u001b[0m\n",
      "\u001b[1;32m/usr/local/lib/python3.4/site-packages/pandas/core/series.py\u001b[0m in \u001b[0;36m_sanitize_index\u001b[1;34m(data, index, copy)\u001b[0m\n\u001b[0;32m   2577\u001b[0m \u001b[1;33m\u001b[0m\u001b[0m\n\u001b[0;32m   2578\u001b[0m     \u001b[1;32mif\u001b[0m \u001b[0mlen\u001b[0m\u001b[1;33m(\u001b[0m\u001b[0mdata\u001b[0m\u001b[1;33m)\u001b[0m \u001b[1;33m!=\u001b[0m \u001b[0mlen\u001b[0m\u001b[1;33m(\u001b[0m\u001b[0mindex\u001b[0m\u001b[1;33m)\u001b[0m\u001b[1;33m:\u001b[0m\u001b[1;33m\u001b[0m\u001b[0m\n\u001b[1;32m-> 2579\u001b[1;33m         raise ValueError('Length of values does not match length of '\n\u001b[0m\u001b[0;32m   2580\u001b[0m                          'index')\n\u001b[0;32m   2581\u001b[0m \u001b[1;33m\u001b[0m\u001b[0m\n",
      "\u001b[1;31mValueError\u001b[0m: Length of values does not match length of index"
     ]
    }
   ],
   "source": [
    "def compare_sym_anto_distances(dists, max_changes=6):\n",
    "    def inner():\n",
    "        for nchanges in range(1,max_changes):\n",
    "            verb_antos = dists[\"verb_anto_\"+str(nchanges)]\n",
    "            noun_syms =  dists[\"noun_sym_\"+str(nchanges)]\n",
    "            valid_dists = dists[np.logical_and(pd.notnull(verb_antos), pd.notnull(noun_syms))]\n",
    "            yield (verb_antos > noun_syms).sum()/len(valid_dists)\n",
    "    return list(inner())\n",
    "\n",
    "comparative_distances[\"doc2vec_noun_sym_lt_verb_anto\"] = compare_sym_anto_distances(doc2vec_dists)\n",
    "comparative_distances[\"RAE_noun_sym_lt_verb_anto\"] = compare_sym_anto_distances(rae_dists)"
   ]
  },
  {
   "cell_type": "code",
   "execution_count": null,
   "metadata": {
    "collapsed": true
   },
   "outputs": [],
   "source": []
  },
  {
   "cell_type": "code",
   "execution_count": 71,
   "metadata": {
    "collapsed": false
   },
   "outputs": [],
   "source": [
    "def drop_null_cols(df):\n",
    "    keep_cols = [col for col in df.columns if not(all(pd.isnull(df.loc[:,col])))]\n",
    "    return df.loc[:,keep_cols]\n",
    "    \n",
    "rae_dists_nn = drop_null_cols(rae_dists)\n",
    "doc2vec_dists__ = drop_null_cols(doc2vec_dists)"
   ]
  },
  {
   "cell_type": "code",
   "execution_count": 77,
   "metadata": {
    "collapsed": false,
    "scrolled": true
   },
   "outputs": [
    {
     "data": {
      "text/plain": [
       "array([[<matplotlib.axes._subplots.AxesSubplot object at 0x7fb73a54deb8>,\n",
       "        <matplotlib.axes._subplots.AxesSubplot object at 0x7fb739e819b0>,\n",
       "        <matplotlib.axes._subplots.AxesSubplot object at 0x7fb7398b99e8>,\n",
       "        <matplotlib.axes._subplots.AxesSubplot object at 0x7fb739ea8390>],\n",
       "       [<matplotlib.axes._subplots.AxesSubplot object at 0x7fb739b34e10>,\n",
       "        <matplotlib.axes._subplots.AxesSubplot object at 0x7fb739a725c0>,\n",
       "        <matplotlib.axes._subplots.AxesSubplot object at 0x7fb73920ccc0>,\n",
       "        <matplotlib.axes._subplots.AxesSubplot object at 0x7fb7399bf5c0>],\n",
       "       [<matplotlib.axes._subplots.AxesSubplot object at 0x7fb73a1ebe10>,\n",
       "        <matplotlib.axes._subplots.AxesSubplot object at 0x7fb73998b358>,\n",
       "        <matplotlib.axes._subplots.AxesSubplot object at 0x7fb732ec9278>,\n",
       "        <matplotlib.axes._subplots.AxesSubplot object at 0x7fb7398266d8>],\n",
       "       [<matplotlib.axes._subplots.AxesSubplot object at 0x7fb7392a40f0>,\n",
       "        <matplotlib.axes._subplots.AxesSubplot object at 0x7fb725fde4a8>,\n",
       "        <matplotlib.axes._subplots.AxesSubplot object at 0x7fb7394d12b0>,\n",
       "        <matplotlib.axes._subplots.AxesSubplot object at 0x7fb739f5dc88>],\n",
       "       [<matplotlib.axes._subplots.AxesSubplot object at 0x7fb73a261518>,\n",
       "        <matplotlib.axes._subplots.AxesSubplot object at 0x7fb739ed18d0>,\n",
       "        <matplotlib.axes._subplots.AxesSubplot object at 0x7fb73910c080>,\n",
       "        <matplotlib.axes._subplots.AxesSubplot object at 0x7fb73a250080>]], dtype=object)"
      ]
     },
     "execution_count": 77,
     "metadata": {},
     "output_type": "execute_result"
    },
    {
     "data": {
      "image/png": "[encoded data removed]",
      "text/plain": [
       "<matplotlib.figure.Figure at 0x7fb739bfd518>"
      ]
     },
     "metadata": {},
     "output_type": "display_data"
    }
   ],
   "source": [
    "doc2vec_dists.hist(sharex=True)"
   ]
  },
  {
   "cell_type": "code",
   "execution_count": 120,
   "metadata": {
    "collapsed": false
   },
   "outputs": [],
   "source": []
  },
  {
   "cell_type": "code",
   "execution_count": 121,
   "metadata": {
    "collapsed": false
   },
   "outputs": [
    {
     "data": {
      "text/plain": [
       "[0.87734895938573454,\n",
       " 0.87681970884658456,\n",
       " 0.89355742296918772,\n",
       " 0.94117647058823528,\n",
       " 1.0]"
      ]
     },
     "execution_count": 121,
     "metadata": {},
     "output_type": "execute_result"
    }
   ],
   "source": []
  },
  {
   "cell_type": "code",
   "execution_count": 122,
   "metadata": {
    "collapsed": false
   },
   "outputs": [
    {
     "data": {
      "text/plain": [
       "[0.97049909072539908,\n",
       " 0.9585666293393057,\n",
       " 0.95798319327731096,\n",
       " 0.96078431372549022,\n",
       " 1.0]"
      ]
     },
     "execution_count": 122,
     "metadata": {},
     "output_type": "execute_result"
    }
   ],
   "source": []
  },
  {
   "cell_type": "code",
   "execution_count": 106,
   "metadata": {
    "collapsed": false
   },
   "outputs": [
    {
     "data": {
      "text/plain": [
       "True"
      ]
     },
     "execution_count": 106,
     "metadata": {},
     "output_type": "execute_result"
    }
   ],
   "source": [
    "pd.notnull(False)"
   ]
  },
  {
   "cell_type": "code",
   "execution_count": 129,
   "metadata": {
    "collapsed": false
   },
   "outputs": [
    {
     "data": {
      "text/plain": [
       "149600000000.0"
      ]
     },
     "execution_count": 129,
     "metadata": {},
     "output_type": "execute_result"
    }
   ],
   "source": []
  },
  {
   "cell_type": "code",
   "execution_count": null,
   "metadata": {
    "collapsed": true
   },
   "outputs": [],
   "source": []
  }
 ],
 "metadata": {
  "kernelspec": {
   "display_name": "Python 3",
   "language": "python",
   "name": "python3"
  },
  "language_info": {
   "codemirror_mode": {
    "name": "ipython",
    "version": 3
   },
   "file_extension": ".py",
   "mimetype": "text/x-python",
   "name": "python",
   "nbconvert_exporter": "python",
   "pygments_lexer": "ipython3",
   "version": "3.4.3"
  }
 },
 "nbformat": 4,
 "nbformat_minor": 0
}
