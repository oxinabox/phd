{
 "cells": [
  {
   "cell_type": "code",
   "execution_count": 190,
   "metadata": {
    "collapsed": true
   },
   "outputs": [],
   "source": [
    "import pylab as pl\n",
    "%matplotlib inline\n",
    "pl.rcParams['figure.figsize'] = 5, 2.5\n",
    "pl.rcParams['text.usetex'] = False\n",
    "def savefigure(fname):\n",
    "    from IPython.display import FileLink\n",
    "    pl.savefig(fname,bbox_inches='tight')\n",
    "    FileLink(fname)"
   ]
  },
  {
   "cell_type": "code",
   "execution_count": 81,
   "metadata": {
    "collapsed": true
   },
   "outputs": [],
   "source": [
    "import csv\n",
    "import glob\n",
    "from collections import defaultdict\n",
    "import pandas as pd\n",
    "import numpy as np\n",
    "import itertools\n",
    "import codecs\n",
    "from os import path\n",
    "import csv\n",
    "import numpy as np\n"
   ]
  },
  {
   "cell_type": "code",
   "execution_count": 64,
   "metadata": {
    "collapsed": true
   },
   "outputs": [],
   "source": [
    "#From http://rosettacode.org/wiki/Set_consolidation#Python\n",
    "def consolidate(sets):\n",
    "    setlist = [set(s) for s in sets if s] # convert to mutable_set\n",
    "    for i, s1 in enumerate(setlist):\n",
    "        if s1:\n",
    "            for s2 in setlist[i+1:]:\n",
    "                intersection = s1.intersection(s2)\n",
    "                if intersection:\n",
    "                    s2.update(s1)\n",
    "                    s1.clear()\n",
    "                    s1 = s2\n",
    "    return [frozenset(s) for s in setlist if s]"
   ]
  },
  {
   "cell_type": "code",
   "execution_count": 65,
   "metadata": {
    "collapsed": false
   },
   "outputs": [],
   "source": [
    "\n",
    "def load_paraphrase_groups():\n",
    "    for filename in glob.glob(\"opinosis_split/*\"):\n",
    "        table = pd.read_csv(filename, delimiter='\\t', header=None,  encoding = \"ISO-8859-1\")\n",
    "        \n",
    "        for col_num in range(1,table.shape[1]): #Skip column zero as that contains unsorted entrys\n",
    "            pf_group = table.iloc[:,col_num].dropna().tolist()\n",
    "            if len(pf_group)>0:\n",
    "                yield pf_group\n"
   ]
  },
  {
   "cell_type": "code",
   "execution_count": 66,
   "metadata": {
    "collapsed": true
   },
   "outputs": [],
   "source": [
    "def postprocess(sentence):\n",
    "    import re\n",
    "    def replace_broken_hypen(first_half, second_half, sentence):\n",
    "        pattern = r\"(?<=%s),\\s?(?=%s)\" % (first_half, second_half)\n",
    "        return re.sub(pattern, \"-\",sentence,flags=re.IGNORECASE)\n",
    "    \n",
    "    sentence=sentence.strip()\n",
    "    sentence=re.sub(r\"^\\d\\s(?! hour|out|block)\",\"\",sentence,flags=re.IGNORECASE) #remove starting numbers\n",
    "    sentence=re.sub(r\"^([\\.\\,\\-\\!\\?\\;\\:\\>]\\s*)+\",\"\",sentence) #remove starting punctuation\n",
    "\n",
    "    sentence=re.sub(r\"(,\\s?)+\",\", \",sentence) #remove repeated commas\n",
    "    sentence =sentence.replace(\"&quot\", \"\\\"\")\n",
    "    sentence =sentence.replace(\"&amp\", \"\\\"\")\n",
    "   \n",
    "    sentence =replace_broken_hypen(\"e\", \"ink\", sentence)\n",
    "    sentence =replace_broken_hypen(\"non\", \"smoking\", sentence)\n",
    "    sentence =replace_broken_hypen(\"on\", \"line\", sentence)\n",
    "    return sentence"
   ]
  },
  {
   "cell_type": "code",
   "execution_count": 68,
   "metadata": {
    "collapsed": false
   },
   "outputs": [],
   "source": [
    "pf_groups = list(load_paraphrase_groups())\n",
    "pf_groups = [frozenset(map(postprocess, group)) for group in pf_groups]\n",
    "pf_groups = consolidate(pf_groups)"
   ]
  },
  {
   "cell_type": "code",
   "execution_count": 100,
   "metadata": {
    "collapsed": true
   },
   "outputs": [],
   "source": [
    "pf_groups = [group for group in pf_groups if len(group)>2]"
   ]
  },
  {
   "cell_type": "code",
   "execution_count": 104,
   "metadata": {
    "collapsed": false
   },
   "outputs": [
    {
     "data": {
      "text/plain": [
       "159"
      ]
     },
     "execution_count": 104,
     "metadata": {},
     "output_type": "execute_result"
    }
   ],
   "source": [
    "16*6+3*21"
   ]
  },
  {
   "cell_type": "code",
   "execution_count": 107,
   "metadata": {
    "collapsed": false
   },
   "outputs": [
    {
     "data": {
      "text/plain": [
       "521"
      ]
     },
     "execution_count": 107,
     "metadata": {},
     "output_type": "execute_result"
    }
   ],
   "source": [
    "sum(pf_group_sizes)"
   ]
  },
  {
   "cell_type": "code",
   "execution_count": 102,
   "metadata": {
    "collapsed": false
   },
   "outputs": [
    {
     "data": {
      "text/plain": [
       "89"
      ]
     },
     "execution_count": 102,
     "metadata": {},
     "output_type": "execute_result"
    }
   ],
   "source": [
    "len(pf_groups)"
   ]
  },
  {
   "cell_type": "code",
   "execution_count": 191,
   "metadata": {
    "collapsed": false
   },
   "outputs": [
    {
     "name": "stdout",
     "output_type": "stream",
     "text": [
      "{3: 36,\n",
      " 4: 20,\n",
      " 5: 6,\n",
      " 6: 8,\n",
      " 7: 4,\n",
      " 8: 4,\n",
      " 9: 3,\n",
      " 10: 1,\n",
      " 11: 1,\n",
      " 16: 1,\n",
      " 17: 1,\n",
      " 24: 1,\n",
      " 27: 1,\n",
      " 30: 1,\n",
      " 33: 1}\n"
     ]
    },
    {
     "data": {
      "image/png": "[encoded data removed]",
      "text/plain": [
       "<matplotlib.figure.Figure at 0x7f3526f57128>"
      ]
     },
     "metadata": {},
     "output_type": "display_data"
    }
   ],
   "source": [
    "pf_group_sizes = pd.Series(list(map(len,pf_groups)))\n",
    "pl.xlabel(\"Number of Paraphrases\")\n",
    "pl.ylabel(\"Number of Paraphrase Groups\")\n",
    "pl.title(\"Opinosis Subcorpus\",fontweight='bold')\n",
    "plt = pf_group_sizes.hist(bins=np.arange(3,35,1)-0.5, ax=pl.gca())\n",
    "pl.xlim([-1,35])\n",
    "pf_group_sizes.groupby(by=lambda x:x)\n",
    "from collections import Counter\n",
    "from pprint import pprint\n",
    "pprint(Counter(pf_group_sizes))\n",
    "\n",
    "savefigure(\"opinosis_hist.pdf\")\n"
   ]
  },
  {
   "cell_type": "code",
   "execution_count": 94,
   "metadata": {
    "collapsed": false,
    "scrolled": true
   },
   "outputs": [
    {
     "ename": "SyntaxError",
     "evalue": "lambda cannot contain assignment (<ipython-input-94-5a6720c291e8>, line 1)",
     "output_type": "error",
     "traceback": [
      "\u001b[1;36m  File \u001b[1;32m\"<ipython-input-94-5a6720c291e8>\"\u001b[1;36m, line \u001b[1;32m1\u001b[0m\n\u001b[1;33m    pf_groups.groupby(level=0).filter(lambda x: len(x)=3)\u001b[0m\n\u001b[1;37m                                     ^\u001b[0m\n\u001b[1;31mSyntaxError\u001b[0m\u001b[1;31m:\u001b[0m lambda cannot contain assignment\n"
     ]
    }
   ],
   "source": [
    "pf_groups.groupby(level=0).filter(lambda x: len(x)=3)"
   ]
  },
  {
   "cell_type": "code",
   "execution_count": null,
   "metadata": {
    "collapsed": false
   },
   "outputs": [],
   "source": []
  },
  {
   "cell_type": "code",
   "execution_count": 73,
   "metadata": {
    "collapsed": false
   },
   "outputs": [],
   "source": [
    "def save(pf_groups, save_dir):\n",
    "    from os.path import join as pathjoin\n",
    "    import csv\n",
    "    \n",
    "    with open(pathjoin(save_dir,\"phrases.txt\"),\"w\") as phrases_fh:\n",
    "        with open(pathjoin(save_dir,\"phrase_groups.csv\"),\"w\") as groups_fh:\n",
    "            group_csv = csv.writer(groups_fh)\n",
    "            group_csv.writerow([\"phrase_index\",\"paraphrase_group_index\"])\n",
    "            phrase_index = 0;\n",
    "            for group_index, group in enumerate(pf_groups):\n",
    "                for phrase in group:\n",
    "                    phrases_fh.write(phrase)\n",
    "                    phrases_fh.write(\"\\n\")\n",
    "                    \n",
    "                    group_csv.writerow([phrase_index,group_index])\n",
    "\n",
    "                    phrase_index+=1\n",
    "                "
   ]
  },
  {
   "cell_type": "code",
   "execution_count": 74,
   "metadata": {
    "collapsed": true
   },
   "outputs": [],
   "source": [
    "save(pf_groups, \"prepared_corpora/opinosis/\")"
   ]
  },
  {
   "cell_type": "code",
   "execution_count": null,
   "metadata": {
    "collapsed": true
   },
   "outputs": [],
   "source": []
  },
  {
   "cell_type": "code",
   "execution_count": null,
   "metadata": {
    "collapsed": true
   },
   "outputs": [],
   "source": []
  },
  {
   "cell_type": "code",
   "execution_count": 78,
   "metadata": {
    "collapsed": true
   },
   "outputs": [],
   "source": [
    "def load_MSRP(filename):\n",
    "    with codecs.open(filename,'r', \"utf-8\" ) as fh:\n",
    "        nlines = 0\n",
    "        for line in fh.readlines():\n",
    "            nlines+=1\n",
    "            if nlines==1:\n",
    "                continue\n",
    "            isparaphrase, id1, id2, str1, str2 = line.split(\"\\t\") #the quality fielld is 1 for phraphrases and 0 for not\n",
    "            yield(int(isparaphrase)==1, (int(id1),str1.strip()),(int(id2),str2.strip()))\n",
    "\n",
    "\n",
    "def get_MSRP_paraphrase_groups(msrp):\n",
    "    index_to_sentence = dict()\n",
    "    \n",
    "    pf_groups=[]\n",
    "    for ispara, (id1, sent1), (id2,sent2) in msrp:\n",
    "        if ispara:\n",
    "            index_to_sentence[id1] = sent1\n",
    "            index_to_sentence[id2] = sent2\n",
    "            pf_groups.append({id1,id2})\n",
    "            \n",
    "    pf_groups = consolidate(pf_groups)\n",
    "    return [{index_to_sentence[sent_id] for sent_id in grp} for grp in pf_groups if len(grp)>2]"
   ]
  },
  {
   "cell_type": "code",
   "execution_count": 82,
   "metadata": {
    "collapsed": false
   },
   "outputs": [],
   "source": [
    "corp_gen = itertools.chain(\n",
    "        load_MSRP(\"base_corpora/MSRP/msr_paraphrase_test.txt\"),\n",
    "        load_MSRP(\"base_corpora/MSRP/msr_paraphrase_train.txt\")\n",
    ")\n",
    "\n",
    "\n",
    "msrp_groups = get_MSRP_paraphrase_groups(corp_gen)"
   ]
  },
  {
   "cell_type": "code",
   "execution_count": 84,
   "metadata": {
    "collapsed": true
   },
   "outputs": [],
   "source": [
    "save(msrp_groups, \"prepared_corpora/msrp/\")"
   ]
  },
  {
   "cell_type": "code",
   "execution_count": 164,
   "metadata": {
    "collapsed": false
   },
   "outputs": [
    {
     "data": {
      "text/plain": [
       "array([3, 4, 5])"
      ]
     },
     "execution_count": 164,
     "metadata": {},
     "output_type": "execute_result"
    }
   ],
   "source": [
    "msrp_pf_group_sizes.unique()"
   ]
  },
  {
   "cell_type": "code",
   "execution_count": 192,
   "metadata": {
    "collapsed": false
   },
   "outputs": [
    {
     "name": "stdout",
     "output_type": "stream",
     "text": [
      "Counter({3: 240, 4: 31, 5: 3})\n"
     ]
    },
    {
     "data": {
      "image/png": "[encoded data removed]",
      "text/plain": [
       "<matplotlib.figure.Figure at 0x7f3526e00828>"
      ]
     },
     "metadata": {},
     "output_type": "display_data"
    }
   ],
   "source": [
    "msrp_pf_group_sizes = pd.Series(list(map(len,msrp_groups)))\n",
    "pl.xlabel(\"Number of Paraphrases\")\n",
    "pl.ylabel(\"Number of Paraphrase Groups\")\n",
    "pl.title(\"MSRP Subcorpus\",fontweight='bold')\n",
    "plt = msrp_pf_group_sizes.hist(bins=np.arange(3,10,1)-0.5, ax=pl.gca(), align='mid')# range=(0,5))\n",
    "#pl.xticks([0,1,2,3,4,5])\n",
    "\n",
    "pl.xlim([0, 6])\n",
    "\n",
    "\n",
    "savefigure(\"msrp_hist.pdf\")\n",
    "\n",
    "\n",
    "msrp_pf_group_sizes.groupby(by=lambda x:x)\n",
    "from collections import Counter\n",
    "print (Counter(msrp_pf_group_sizes))\n",
    "\n",
    "\n"
   ]
  },
  {
   "cell_type": "code",
   "execution_count": null,
   "metadata": {
    "collapsed": true
   },
   "outputs": [],
   "source": []
  },
  {
   "cell_type": "code",
   "execution_count": 186,
   "metadata": {
    "collapsed": false
   },
   "outputs": [
    {
     "data": {
      "text/plain": [
       "<matplotlib.figure.Figure at 0x7f3527ab1390>"
      ]
     },
     "metadata": {},
     "output_type": "display_data"
    }
   ],
   "source": [
    "pl.gcf()\n",
    "pl.show()"
   ]
  },
  {
   "cell_type": "code",
   "execution_count": 90,
   "metadata": {
    "collapsed": false
   },
   "outputs": [
    {
     "data": {
      "text/plain": [
       "Counter({3: 240, 4: 31, 5: 3})"
      ]
     },
     "execution_count": 90,
     "metadata": {},
     "output_type": "execute_result"
    }
   ],
   "source": [
    "from collections import Counter\n",
    "Counter(msrp_pf_group_sizes)"
   ]
  },
  {
   "cell_type": "code",
   "execution_count": 91,
   "metadata": {
    "collapsed": false
   },
   "outputs": [
    {
     "data": {
      "text/plain": [
       "859"
      ]
     },
     "execution_count": 91,
     "metadata": {},
     "output_type": "execute_result"
    }
   ],
   "source": [
    "pf_group_sizes.sum()"
   ]
  },
  {
   "cell_type": "code",
   "execution_count": 92,
   "metadata": {
    "collapsed": false
   },
   "outputs": [
    {
     "data": {
      "text/plain": [
       "859"
      ]
     },
     "execution_count": 92,
     "metadata": {},
     "output_type": "execute_result"
    }
   ],
   "source": [
    "3*240+4*31+15"
   ]
  },
  {
   "cell_type": "code",
   "execution_count": null,
   "metadata": {
    "collapsed": true
   },
   "outputs": [],
   "source": [
    "g"
   ]
  }
 ],
 "metadata": {
  "kernelspec": {
   "display_name": "Python 3",
   "language": "python",
   "name": "python3"
  },
  "language_info": {
   "codemirror_mode": {
    "name": "ipython",
    "version": 3
   },
   "file_extension": ".py",
   "mimetype": "text/x-python",
   "name": "python",
   "nbconvert_exporter": "python",
   "pygments_lexer": "ipython3",
   "version": "3.4.3"
  }
 },
 "nbformat": 4,
 "nbformat_minor": 0
}
