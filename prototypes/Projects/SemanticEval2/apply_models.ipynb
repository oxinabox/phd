{
 "cells": [
  {
   "cell_type": "code",
   "execution_count": 1,
   "metadata": {
    "collapsed": true
   },
   "outputs": [],
   "source": [
    "import pickle\n",
    "import nltk\n",
    "\n",
    "import gensim"
   ]
  },
  {
   "cell_type": "code",
   "execution_count": 2,
   "metadata": {
    "collapsed": false
   },
   "outputs": [],
   "source": [
    "import os\n",
    "os.chdir(\"prepared_corpora/opinosis/\")\n"
   ]
  },
  {
   "cell_type": "code",
   "execution_count": 15,
   "metadata": {
    "collapsed": false
   },
   "outputs": [],
   "source": [
    "phrases = None\n",
    "with open(\"phrases.txt\", \"r\") as phrases_fh:\n",
    "    phrases = list(phrases_fh)\n",
    "\n",
    "#tokenised_phrases = nltk.tokenize.SpaceTokenizer().tokenize_sents(map(str.lower, phrases))\\\n",
    "tokenised_phrases = nltk.tokenize.TreebankWordTokenizer().tokenize_sents(map(str.lower, phrases))\n",
    "\n",
    "with open(\"tokenized_phrases.txt\",\"w\") as fh:\n",
    "    for phrase in tokenised_phrases:\n",
    "        fh.write(\" \".join(phrase))\n",
    "        fh.write(\"\\n\")\n",
    "    "
   ]
  },
  {
   "cell_type": "code",
   "execution_count": 9,
   "metadata": {
    "collapsed": true
   },
   "outputs": [],
   "source": [
    "def infer_and_save(model,tokenised_phrases, savename):\n",
    "    with open(savename, \"w\") as outvectors_fh:\n",
    "        for tockenised_line in tokenised_phrases:\n",
    "            vector = model.infer_vector(tockenised_line)\n",
    "            outvectors_fh.write(str(vector.tolist())[1:-1])\n",
    "            outvectors_fh.write(\"\\n\")"
   ]
  },
  {
   "cell_type": "code",
   "execution_count": 11,
   "metadata": {
    "collapsed": false
   },
   "outputs": [],
   "source": [
    "model = gensim.models.doc2vec.Doc2Vec.load(\"../../models/wiki_sentence_model_concat_model\")\n",
    "infer_and_save(model, tokenised_phrases,\"outVectors_wiki_sentence_concat_pvdm.csv\")"
   ]
  },
  {
   "cell_type": "code",
   "execution_count": 12,
   "metadata": {
    "collapsed": false
   },
   "outputs": [],
   "source": [
    "model = gensim.models.doc2vec.Doc2Vec.load(\"../../models/wiki_sentence_model_dbow_model\")\n",
    "infer_and_save(model, tokenised_phrases,\"outVectors_wiki_sentence_dbow.csv\")"
   ]
  },
  {
   "cell_type": "code",
   "execution_count": null,
   "metadata": {
    "collapsed": true
   },
   "outputs": [],
   "source": []
  },
  {
   "cell_type": "code",
   "execution_count": 44,
   "metadata": {
    "collapsed": false
   },
   "outputs": [],
   "source": [
    "import numpy as np\n",
    "import gensim.corpora.dictionary as gensim_bow\n",
    "\n",
    "\n",
    "class BowModel(object):\n",
    "    def __init__(self, tokenised_phrases):\n",
    "        self.bow_dict = gensim_bow.Dictionary(tokenised_phrases)\n",
    "        \n",
    "    def _unsparse(self, bow_kv_list):\n",
    "        ret = np.zeros(len(self.bow_dict))\n",
    "        for key, value in bow_kv_list:\n",
    "            ret[key]=value\n",
    "        return ret\n",
    "    \n",
    "    def infer_vector(self,tokenised_phrase):\n",
    "        bow = self.bow_dict.doc2bow(tokenised_phrase)\n",
    "        return self._unsparse(bow)\n",
    "    \n",
    "        "
   ]
  },
  {
   "cell_type": "code",
   "execution_count": 48,
   "metadata": {
    "collapsed": false
   },
   "outputs": [],
   "source": [
    "model = BowModel(tokenised_phrases)\n",
    "infer_and_save(model, tokenised_phrases,\"outVectors_bow.csv\")"
   ]
  },
  {
   "cell_type": "code",
   "execution_count": null,
   "metadata": {
    "collapsed": true
   },
   "outputs": [],
   "source": []
  },
  {
   "cell_type": "code",
   "execution_count": null,
   "metadata": {
    "collapsed": true
   },
   "outputs": [],
   "source": []
  },
  {
   "cell_type": "code",
   "execution_count": null,
   "metadata": {
    "collapsed": false
   },
   "outputs": [],
   "source": [
    "model = None\n",
    "import pickle\n",
    "with open(\"../../wiki_model.pickle\", \"br\") as model_fs:\n",
    "    model = pickle.load(model_fs)\n",
    "    \n",
    "    \n",
    "infer_and_save(model, tokenised_phrases,\"outVectors_wiki_doc2vec.csv\")        "
   ]
  },
  {
   "cell_type": "code",
   "execution_count": null,
   "metadata": {
    "collapsed": false
   },
   "outputs": [],
   "source": [
    "model = None\n",
    "import pickle\n",
    "with open(\"../../../QuestionTime/hansard_model.pickle\", \"br\") as model_fs:\n",
    "    model = pickle.load(model_fs)\n",
    "    \n",
    "infer_and_save(model, tokenised_phrases,\"outVectors_hansard_doc2vec.csv\" )\n",
    "\n",
    "        "
   ]
  },
  {
   "cell_type": "code",
   "execution_count": null,
   "metadata": {
    "collapsed": true
   },
   "outputs": [],
   "source": [
    "\n",
    "\n",
    "model = None\n",
    "import pickle\n",
    "with open(\"../../wiki_sentence_model.pickle\", \"br\") as model_fs:\n",
    "    model = pickle.load(model_fs)\n",
    "    \n",
    "    \n",
    "infer_and_save(model, tokenised_phrases,\"outVectors_wiki_sentence_mean_pvdm.csv\")\n"
   ]
  },
  {
   "cell_type": "code",
   "execution_count": null,
   "metadata": {
    "collapsed": true
   },
   "outputs": [],
   "source": []
  },
  {
   "cell_type": "code",
   "execution_count": null,
   "metadata": {
    "collapsed": true
   },
   "outputs": [],
   "source": [
    " "
   ]
  }
 ],
 "metadata": {
  "kernelspec": {
   "display_name": "Python 3",
   "language": "python",
   "name": "python3"
  },
  "language_info": {
   "codemirror_mode": {
    "name": "ipython",
    "version": 3
   },
   "file_extension": ".py",
   "mimetype": "text/x-python",
   "name": "python",
   "nbconvert_exporter": "python",
   "pygments_lexer": "ipython3",
   "version": "3.4.3"
  }
 },
 "nbformat": 4,
 "nbformat_minor": 0
}
