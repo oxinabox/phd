{
 "cells": [
  {
   "cell_type": "code",
   "execution_count": 1,
   "metadata": {
    "collapsed": true
   },
   "outputs": [],
   "source": [
    "from ipytables import *"
   ]
  },
  {
   "cell_type": "code",
   "execution_count": 2,
   "metadata": {
    "collapsed": true
   },
   "outputs": [],
   "source": [
    "import pylab as pl\n",
    "%matplotlib inline\n",
    "pl.rcParams['figure.figsize'] = 10, 5\n"
   ]
  },
  {
   "cell_type": "code",
   "execution_count": 3,
   "metadata": {
    "collapsed": false
   },
   "outputs": [],
   "source": [
    "import itertools\n",
    "import os.path\n",
    "import csv\n",
    "import numpy as np\n",
    "import scipy.spatial\n",
    "import pandas as pd\n",
    "pd.options.display.max_rows=20\n",
    "pd.options.display.max_seq_items = 100\n",
    "pd.options.display.max_colwidth = 100"
   ]
  },
  {
   "cell_type": "code",
   "execution_count": 4,
   "metadata": {
    "collapsed": false
   },
   "outputs": [],
   "source": [
    "try:\n",
    "    #os.chdir(\"prepared_corpora/opinosis/\")\n",
    "    os.chdir(\"prepared_corpora/msrp/\")\n",
    "except FileNotFoundError:\n",
    "    pass"
   ]
  },
  {
   "cell_type": "code",
   "execution_count": 5,
   "metadata": {
    "collapsed": false
   },
   "outputs": [],
   "source": [
    "def load_pf_group_index():\n",
    "    df = pd.read_csv(\"./phrase_groups.csv\")\n",
    "    df.set_index([\"paraphrase_group_index\", \"phrase_index\"], inplace=True)\n",
    "    return df\n",
    "    "
   ]
  },
  {
   "cell_type": "code",
   "execution_count": 6,
   "metadata": {
    "collapsed": false
   },
   "outputs": [],
   "source": [
    "df = load_pf_group_index()\n",
    "df[\"tokenized_phrases\"]=[line.strip() for line in open(\"tokenized_phrases.txt\",\"r\")]\n"
   ]
  },
  {
   "cell_type": "code",
   "execution_count": 7,
   "metadata": {
    "collapsed": false
   },
   "outputs": [],
   "source": [
    "df[\"pvdm\"]=list(np.loadtxt(\"outVectors_wiki_sentence_concat_pvdm.csv\", delimiter=\",\"))\n",
    "df[\"dbow\"]=list(np.loadtxt(\"outVectors_wiki_sentence_dbow.csv\", delimiter=\",\"))\n",
    "df[\"urae\"]=list(np.loadtxt(\"outVectors_RAE2011.csv\", delimiter=\",\"))\n",
    "df[\"mowe\"]=list(np.loadtxt(\"outVectors_mowe.csv\", delimiter=\",\"))\n",
    "#df[\"sowe\"]=list(np.loadtxt(\"outVectors_sowe.csv\", delimiter=\",\"))\n",
    "#df[\"howe\"]=list(np.loadtxt(\"outVectors_howe.csv\", delimiter=\",\"))\n",
    "df[\"bow\"]=list(np.loadtxt(\"outVectors_bow.csv\", delimiter=\",\"))\n"
   ]
  },
  {
   "cell_type": "code",
   "execution_count": 8,
   "metadata": {
    "collapsed": false
   },
   "outputs": [],
   "source": [
    "from sklearn.decomposition import PCA\n",
    "df[\"pca_bow\"] = list(PCA(300, whiten=False).fit_transform(np.row_stack(list(df.bow))))\n",
    "#df[\"pca_howe\"] = list(PCA(300, whiten=False).fit_transform(np.row_stack(list(df.howe))))"
   ]
  },
  {
   "cell_type": "code",
   "execution_count": 9,
   "metadata": {
    "collapsed": false
   },
   "outputs": [
    {
     "data": {
      "text/plain": [
       "<matplotlib.text.Text at 0x7fe4118bdb38>"
      ]
     },
     "execution_count": 9,
     "metadata": {},
     "output_type": "execute_result"
    },
    {
     "data": {
      "image/png": "[encoded data removed]",
      "text/plain": [
       "<matplotlib.figure.Figure at 0x7fe4140118d0>"
      ]
     },
     "metadata": {},
     "output_type": "display_data"
    }
   ],
   "source": [
    "ax=df.tokenized_phrases.groupby(level=0).agg(len).hist(bins=35)\n",
    "\n",
    "pl.title(\"Distribution of Paraphrase Groups in Subcorpus\")\n",
    "pl.xlabel(\"Number of Paraphrases\")\n",
    "pl.ylabel(\"Number of Groups\")"
   ]
  },
  {
   "cell_type": "code",
   "execution_count": null,
   "metadata": {
    "collapsed": false
   },
   "outputs": [],
   "source": [
    "#Just consider paraphrase groups of a certain size\n",
    "#df = df.groupby(level=0).filter(lambda group: len(group)>3)"
   ]
  },
  {
   "cell_type": "code",
   "execution_count": 10,
   "metadata": {
    "collapsed": false,
    "scrolled": true
   },
   "outputs": [],
   "source": [
    "for base in \"pvdm dbow urae\".split():\n",
    "    df[base+\"_bow\"] = df[base].combine(df.bow, func=lambda a,b: np.concatenate((a,b)))\n",
    "#    df[\"pca_\"+base+\"_bow\"] = list(PCA(300, whiten=False).fit_transform(np.row_stack(df[base+\"_bow\"])))\n"
   ]
  },
  {
   "cell_type": "code",
   "execution_count": null,
   "metadata": {
    "collapsed": true
   },
   "outputs": [],
   "source": [
    "from sklearn.manifold import t_sne\n",
    "def plot_tsne(column):\n",
    "    tsne = t_sne.TSNE()\n",
    "    Ys = tsne.fit_transform(np.row_stack(df[column]))\n",
    "    \n",
    "    pl.scatter(Ys[:,0],Ys[:,1], c=colors)\n",
    "    pl.title = column\n",
    "    \n",
    "    "
   ]
  },
  {
   "cell_type": "markdown",
   "metadata": {},
   "source": [
    "#Wei's method\n",
    "\n",
    "0. Normalise all embeddings for each model\n",
    "1. within each paraphrase group, for each model, work out average pair-wise cosine similarity (or distance)\n",
    "  1. the ground truth in this case should be horizontal x axis, which means the best values that each model gets should be close to zero (if you use similarity, rather than distance). So the model with an overall trend of low similarity values capture the semantics better.\n",
    "2. treat each model's average similarity/distance for the paraphrase groups as a time series, do a z-normalisation () the time (horizontal) axis is the paraphrase group index, and the y axis is the similarity value after the z-normalisation\n",
    "3. measure the similarity between the four model time series, pair-wise using Euclidean distance to see which model agrees with each other. \n"
   ]
  },
  {
   "cell_type": "code",
   "execution_count": 11,
   "metadata": {
    "collapsed": true
   },
   "outputs": [],
   "source": [
    "import scipy.spatial.distance as distance\n",
    "\n",
    "def angular_dist(a,b):\n",
    "    cos_sim = np.dot(a,b)/(np.linalg.norm(a)*np.linalg.norm(b))\n",
    "    return 1- np.arccos(cos_sim)/np.pi\n"
   ]
  },
  {
   "cell_type": "code",
   "execution_count": 12,
   "metadata": {
    "collapsed": false
   },
   "outputs": [],
   "source": [
    "def get_std(series):\n",
    "    xs=np.row_stack(series)\n",
    "    std_dev = xs.std(axis=0)\n",
    "    std_dev[std_dev==0.0]=1.0\n",
    "    return list(std_dev)\n",
    "def get_mean(series):\n",
    "    xs = np.row_stack(series)\n",
    "    return list(xs.mean(axis=0))\n",
    "\n",
    "dfs = (df.iloc[:,1:]-df.iloc[:,1:].apply(get_mean))/df.iloc[:,1:].apply(get_std)\n",
    "\n"
   ]
  },
  {
   "cell_type": "code",
   "execution_count": 13,
   "metadata": {
    "collapsed": false
   },
   "outputs": [
    {
     "data": {
      "text/html": [
       "<div>\n",
       "<table border=\"1\" class=\"dataframe\">\n",
       "  <thead>\n",
       "    <tr style=\"text-align: right;\">\n",
       "      <th></th>\n",
       "      <th>pvdm</th>\n",
       "      <th>dbow</th>\n",
       "      <th>urae</th>\n",
       "      <th>mowe</th>\n",
       "      <th>bow</th>\n",
       "      <th>pca_bow</th>\n",
       "      <th>pvdm_bow</th>\n",
       "      <th>dbow_bow</th>\n",
       "      <th>urae_bow</th>\n",
       "    </tr>\n",
       "  </thead>\n",
       "  <tbody>\n",
       "    <tr>\n",
       "      <th>count</th>\n",
       "      <td>274.000000</td>\n",
       "      <td>274.000000</td>\n",
       "      <td>273.000000</td>\n",
       "      <td>266.000000</td>\n",
       "      <td>274.000000</td>\n",
       "      <td>273.000000</td>\n",
       "      <td>274.000000</td>\n",
       "      <td>274.000000</td>\n",
       "      <td>274.000000</td>\n",
       "    </tr>\n",
       "    <tr>\n",
       "      <th>mean</th>\n",
       "      <td>0.734888</td>\n",
       "      <td>0.690109</td>\n",
       "      <td>0.666851</td>\n",
       "      <td>0.832070</td>\n",
       "      <td>0.720270</td>\n",
       "      <td>0.802577</td>\n",
       "      <td>0.719388</td>\n",
       "      <td>0.712539</td>\n",
       "      <td>0.715078</td>\n",
       "    </tr>\n",
       "    <tr>\n",
       "      <th>std</th>\n",
       "      <td>0.090541</td>\n",
       "      <td>0.050233</td>\n",
       "      <td>0.128158</td>\n",
       "      <td>0.055467</td>\n",
       "      <td>0.082145</td>\n",
       "      <td>0.065529</td>\n",
       "      <td>0.076964</td>\n",
       "      <td>0.073656</td>\n",
       "      <td>0.078476</td>\n",
       "    </tr>\n",
       "    <tr>\n",
       "      <th>min</th>\n",
       "      <td>0.431927</td>\n",
       "      <td>0.562660</td>\n",
       "      <td>0.445861</td>\n",
       "      <td>0.643534</td>\n",
       "      <td>0.533345</td>\n",
       "      <td>0.599647</td>\n",
       "      <td>0.550076</td>\n",
       "      <td>0.539077</td>\n",
       "      <td>0.535312</td>\n",
       "    </tr>\n",
       "    <tr>\n",
       "      <th>25%</th>\n",
       "      <td>0.671012</td>\n",
       "      <td>0.656412</td>\n",
       "      <td>0.558436</td>\n",
       "      <td>0.789510</td>\n",
       "      <td>0.661291</td>\n",
       "      <td>0.765021</td>\n",
       "      <td>0.666811</td>\n",
       "      <td>0.662776</td>\n",
       "      <td>0.661046</td>\n",
       "    </tr>\n",
       "    <tr>\n",
       "      <th>50%</th>\n",
       "      <td>0.741464</td>\n",
       "      <td>0.691663</td>\n",
       "      <td>0.646547</td>\n",
       "      <td>0.834854</td>\n",
       "      <td>0.722160</td>\n",
       "      <td>0.813340</td>\n",
       "      <td>0.722473</td>\n",
       "      <td>0.714318</td>\n",
       "      <td>0.717657</td>\n",
       "    </tr>\n",
       "    <tr>\n",
       "      <th>75%</th>\n",
       "      <td>0.804842</td>\n",
       "      <td>0.720590</td>\n",
       "      <td>0.754324</td>\n",
       "      <td>0.873598</td>\n",
       "      <td>0.777225</td>\n",
       "      <td>0.851989</td>\n",
       "      <td>0.772748</td>\n",
       "      <td>0.769755</td>\n",
       "      <td>0.773276</td>\n",
       "    </tr>\n",
       "    <tr>\n",
       "      <th>max</th>\n",
       "      <td>0.911060</td>\n",
       "      <td>0.828869</td>\n",
       "      <td>0.982542</td>\n",
       "      <td>0.964598</td>\n",
       "      <td>0.962493</td>\n",
       "      <td>0.932521</td>\n",
       "      <td>0.910616</td>\n",
       "      <td>0.921086</td>\n",
       "      <td>0.916579</td>\n",
       "    </tr>\n",
       "  </tbody>\n",
       "</table>\n",
       "</div>"
      ],
      "text/plain": [
       "             pvdm        dbow        urae        mowe         bow     pca_bow  \\\n",
       "count  274.000000  274.000000  273.000000  266.000000  274.000000  273.000000   \n",
       "mean     0.734888    0.690109    0.666851    0.832070    0.720270    0.802577   \n",
       "std      0.090541    0.050233    0.128158    0.055467    0.082145    0.065529   \n",
       "min      0.431927    0.562660    0.445861    0.643534    0.533345    0.599647   \n",
       "25%      0.671012    0.656412    0.558436    0.789510    0.661291    0.765021   \n",
       "50%      0.741464    0.691663    0.646547    0.834854    0.722160    0.813340   \n",
       "75%      0.804842    0.720590    0.754324    0.873598    0.777225    0.851989   \n",
       "max      0.911060    0.828869    0.982542    0.964598    0.962493    0.932521   \n",
       "\n",
       "         pvdm_bow    dbow_bow    urae_bow  \n",
       "count  274.000000  274.000000  274.000000  \n",
       "mean     0.719388    0.712539    0.715078  \n",
       "std      0.076964    0.073656    0.078476  \n",
       "min      0.550076    0.539077    0.535312  \n",
       "25%      0.666811    0.662776    0.661046  \n",
       "50%      0.722473    0.714318    0.717657  \n",
       "75%      0.772748    0.769755    0.773276  \n",
       "max      0.910616    0.921086    0.916579  "
      ]
     },
     "execution_count": 13,
     "metadata": {},
     "output_type": "execute_result"
    },
    {
     "data": {
      "image/png": "[encoded data removed]",
      "text/plain": [
       "<matplotlib.figure.Figure at 0x7fe41187d320>"
      ]
     },
     "metadata": {},
     "output_type": "display_data"
    }
   ],
   "source": [
    "def get_group_sim(group):\n",
    "    xs = np.row_stack(group)\n",
    "    #cosine_sim = (1-distance.pdist(xs, 'cosine'))\n",
    "    dist = distance.pdist(xs,angular_dist)\n",
    "    return dist.mean()\n",
    "\n",
    "group_sims = dfs.groupby(level=0).agg(get_group_sim)\n",
    "group_sims.hist(bins=np.linspace(0,1,50), sharex=True, sharey=True)\n",
    "group_sims.describe()"
   ]
  },
  {
   "cell_type": "code",
   "execution_count": 14,
   "metadata": {
    "collapsed": false
   },
   "outputs": [
    {
     "name": "stdout",
     "output_type": "stream",
     "text": [
      "               pvdm       dbow  urae  mowe        bow  pca_bow   pvdm_bow  \\\n",
      "pvdm       0.000000  17.879404   NaN   NaN  18.518283      NaN  16.856726   \n",
      "dbow      17.879404   0.000000   NaN   NaN  16.988055      NaN  16.556643   \n",
      "urae            NaN        NaN     0   NaN        NaN      NaN        NaN   \n",
      "mowe            NaN        NaN   NaN     0        NaN      NaN        NaN   \n",
      "bow       18.518283  16.988055   NaN   NaN   0.000000      NaN   2.277373   \n",
      "pca_bow         NaN        NaN   NaN   NaN        NaN        0        NaN   \n",
      "pvdm_bow  16.856726  16.556643   NaN   NaN   2.277373      NaN   0.000000   \n",
      "dbow_bow  18.200378  15.795953   NaN   NaN   1.998854      NaN   2.562600   \n",
      "urae_bow  18.258139  16.824829   NaN   NaN   1.696700      NaN   2.482885   \n",
      "\n",
      "           dbow_bow   urae_bow  \n",
      "pvdm      18.200378  18.258139  \n",
      "dbow      15.795953  16.824829  \n",
      "urae            NaN        NaN  \n",
      "mowe            NaN        NaN  \n",
      "bow        1.998854   1.696700  \n",
      "pca_bow         NaN        NaN  \n",
      "pvdm_bow   2.562600   2.482885  \n",
      "dbow_bow   0.000000   2.128509  \n",
      "urae_bow   2.128509   0.000000  \n"
     ]
    },
    {
     "data": {
      "image/png": "[encoded data removed]",
      "text/plain": [
       "<matplotlib.figure.Figure at 0x7fe411388dd8>"
      ]
     },
     "metadata": {},
     "output_type": "display_data"
    }
   ],
   "source": [
    "import matplotlib.cm as cm\n",
    "def plot_matrix(cm, labels, cmap=cm.Blues):\n",
    "    pl.imshow(cm, interpolation='nearest', cmap=cmap)\n",
    "    pl.colorbar()\n",
    "    tick_marks = np.arange(len(labels))\n",
    "    pl.xticks(tick_marks, labels, rotation=90)\n",
    "    pl.yticks(tick_marks, labels)\n",
    "    pl.tight_layout()\n",
    "    \n",
    "def get_interrater_e_distance(ratings):\n",
    "    rating_dist = distance.pdist(n_group_sims.as_matrix().T)\n",
    "    return distance.squareform(rating_dist)\n",
    "\n",
    "def z_norm(col):\n",
    "    return (col-col.mean())/col.std()\n",
    "\n",
    "n_group_sims = group_sims.apply(z_norm)\n",
    "\n",
    "\n",
    "interrater_e_distance = get_interrater_e_distance(n_group_sims)\n",
    "print(pd.DataFrame( interrater_e_distance, columns =n_group_sims.columns, index=n_group_sims.columns))\n",
    "      \n",
    "plot_matrix(interrater_e_distance, n_group_sims.columns)"
   ]
  },
  {
   "cell_type": "code",
   "execution_count": 15,
   "metadata": {
    "collapsed": false
   },
   "outputs": [],
   "source": [
    "def get_centroid(group):\n",
    "    xs = np.row_stack(group)\n",
    "    return list(xs.mean(axis=0)) #Euclidean\n",
    "\n",
    "\n",
    "\n",
    "def get_medoid(group):\n",
    "    points=np.row_stack(group)\n",
    "    ingroup_index = distance.cdist(points,points, 'cosine').sum(axis=1).argmin()\n",
    "    return list(points[ingroup_index,:])\n",
    "\n",
    "\n",
    "def get_angular_centroid(group):\n",
    "    # the angular centroid is a line, here we choes an arbitairy point on it.\n",
    "    # Dicussion of how normalising and adding wroks is at http://math.stackexchange.com/a/925659/1505\n",
    "    points = np.row_stack(group)\n",
    "    unit_points = points/np.linalg.norm(points,axis=1)[:,None]  #Normalise ot unit vectors\n",
    "    return list(np.sum(unit_points,axis=0))\n",
    "    \n",
    "\n",
    "def get_group_medoids(series):\n",
    "    return series.groupby(level=0).agg(get_medoid)\n",
    "\n",
    "\n",
    "def get_group_centroids(series):\n",
    "    return series.groupby(level=0).agg(get_centroid)\n"
   ]
  },
  {
   "cell_type": "code",
   "execution_count": 24,
   "metadata": {
    "collapsed": false
   },
   "outputs": [
    {
     "ename": "SyntaxError",
     "evalue": "invalid syntax (<ipython-input-24-dd822e254ad9>, line 13)",
     "output_type": "error",
     "traceback": [
      "\u001b[1;36m  File \u001b[1;32m\"<ipython-input-24-dd822e254ad9>\"\u001b[1;36m, line \u001b[1;32m13\u001b[0m\n\u001b[1;33m    Not WRITEN YES\u001b[0m\n\u001b[1;37m             ^\u001b[0m\n\u001b[1;31mSyntaxError\u001b[0m\u001b[1;31m:\u001b[0m invalid syntax\n"
     ]
    }
   ],
   "source": [
    "def dunn_index(series):\n",
    "    group_intra_distance = series.groupby(level=0).agg(get_group_sim)\n",
    "    denom = group_intra_distance.max()\n",
    "    group_ids = np.unique(series.index[0])\n",
    "    \n",
    "    for ii in group_ids:\n",
    "        smallest_inter_dist = np.Inf\n",
    "        for jj in group_ids:\n",
    "            if ii==jj:\n",
    "                continue\n",
    "            #Now to find the Interclass distance\n",
    "            #Lets\n",
    "            Not WRITEN YET\n",
    "\n",
    "    \n",
    "    return denom\n",
    "\n",
    "dunn_index(df.urae)"
   ]
  },
  {
   "cell_type": "code",
   "execution_count": null,
   "metadata": {
    "collapsed": false
   },
   "outputs": [],
   "source": [
    "\n",
    "#Davies-Bouldin Index \n",
    "#Modified to use angular centroid, and angular distance\n",
    "\n",
    "def davied_bouldin_index(series):\n",
    "\n",
    "    def av_dist_to_centroid(group):\n",
    "        xs = np.row_stack(group)\n",
    "        c = get_angular_centroid(group)\n",
    "        return distance.cdist(xs,[c], angular_dist).mean()\n",
    "\n",
    "    group_centroids = get_group_centroids(series)\n",
    "    group_spreads = series.groupby(level=0).agg(av_dist_to_centroid)\n",
    "    \n",
    "    n_groups = len(group_spreads)\n",
    "    \n",
    "    total = 0.0\n",
    "    for ii in range(n_groups):\n",
    "        greatest = -1*np.Inf\n",
    "        for jj in range(n_groups):\n",
    "            if ii==jj:\n",
    "                continue\n",
    "\n",
    "            numer = group_spreads.iloc[ii] + group_spreads.iloc[jj] \n",
    "            denom = angular_dist(group_centroids.iloc[ii],group_centroids.iloc[jj])\n",
    "            value = numer/denom\n",
    "            greatest = max(greatest, value)\n",
    "        total+= greatest\n",
    "    return total/n_groups\n",
    "\n",
    "            \n",
    "for column in df.columns[1:]:\n",
    "    print(column + \" \" + str(davied_bouldin_index(df.loc[:,column])))"
   ]
  },
  {
   "cell_type": "code",
   "execution_count": 16,
   "metadata": {
    "collapsed": true
   },
   "outputs": [],
   "source": [
    "def get_true_classes(series):\n",
    "    return np.asarray([ii[0] for ii in series.index])"
   ]
  },
  {
   "cell_type": "code",
   "execution_count": 26,
   "metadata": {
    "collapsed": false,
    "scrolled": true
   },
   "outputs": [
    {
     "ename": "KeyboardInterrupt",
     "evalue": "",
     "output_type": "error",
     "traceback": [
      "\u001b[1;31m---------------------------------------------------------------------------\u001b[0m",
      "\u001b[1;31mTypeError\u001b[0m                                 Traceback (most recent call last)",
      "\u001b[1;32m/usr/local/lib/python3.4/site-packages/pandas/core/groupby.py\u001b[0m in \u001b[0;36magg_series\u001b[1;34m(self, obj, func)\u001b[0m\n\u001b[0;32m   1583\u001b[0m         \u001b[1;32mtry\u001b[0m\u001b[1;33m:\u001b[0m\u001b[1;33m\u001b[0m\u001b[0m\n\u001b[1;32m-> 1584\u001b[1;33m             \u001b[1;32mreturn\u001b[0m \u001b[0mself\u001b[0m\u001b[1;33m.\u001b[0m\u001b[0m_aggregate_series_fast\u001b[0m\u001b[1;33m(\u001b[0m\u001b[0mobj\u001b[0m\u001b[1;33m,\u001b[0m \u001b[0mfunc\u001b[0m\u001b[1;33m)\u001b[0m\u001b[1;33m\u001b[0m\u001b[0m\n\u001b[0m\u001b[0;32m   1585\u001b[0m         \u001b[1;32mexcept\u001b[0m \u001b[0mException\u001b[0m\u001b[1;33m:\u001b[0m\u001b[1;33m\u001b[0m\u001b[0m\n",
      "\u001b[1;32m/usr/local/lib/python3.4/site-packages/pandas/core/groupby.py\u001b[0m in \u001b[0;36m_aggregate_series_fast\u001b[1;34m(self, obj, func)\u001b[0m\n\u001b[0;32m   1591\u001b[0m         \u001b[1;32mif\u001b[0m \u001b[0mobj\u001b[0m\u001b[1;33m.\u001b[0m\u001b[0mindex\u001b[0m\u001b[1;33m.\u001b[0m\u001b[0m_has_complex_internals\u001b[0m\u001b[1;33m:\u001b[0m\u001b[1;33m\u001b[0m\u001b[0m\n\u001b[1;32m-> 1592\u001b[1;33m             \u001b[1;32mraise\u001b[0m \u001b[0mTypeError\u001b[0m\u001b[1;33m(\u001b[0m\u001b[1;34m'Incompatible index for Cython grouper'\u001b[0m\u001b[1;33m)\u001b[0m\u001b[1;33m\u001b[0m\u001b[0m\n\u001b[0m\u001b[0;32m   1593\u001b[0m \u001b[1;33m\u001b[0m\u001b[0m\n",
      "\u001b[1;31mTypeError\u001b[0m: Incompatible index for Cython grouper",
      "\nDuring handling of the above exception, another exception occurred:\n",
      "\u001b[1;31mKeyboardInterrupt\u001b[0m                         Traceback (most recent call last)",
      "\u001b[1;32m<ipython-input-26-2c498218c7b7>\u001b[0m in \u001b[0;36m<module>\u001b[1;34m()\u001b[0m\n\u001b[0;32m     37\u001b[0m \u001b[0mrecluster_results\u001b[0m \u001b[1;33m=\u001b[0m \u001b[0mpd\u001b[0m\u001b[1;33m.\u001b[0m\u001b[0mDataFrame\u001b[0m\u001b[1;33m(\u001b[0m\u001b[1;33m)\u001b[0m\u001b[1;33m\u001b[0m\u001b[0m\n\u001b[0;32m     38\u001b[0m \u001b[1;32mfor\u001b[0m \u001b[0mcolumn\u001b[0m \u001b[1;32min\u001b[0m \u001b[0mdf\u001b[0m\u001b[1;33m.\u001b[0m\u001b[0mcolumns\u001b[0m\u001b[1;33m[\u001b[0m\u001b[1;36m1\u001b[0m\u001b[1;33m:\u001b[0m\u001b[1;33m]\u001b[0m\u001b[1;33m:\u001b[0m\u001b[1;33m\u001b[0m\u001b[0m\n\u001b[1;32m---> 39\u001b[1;33m     \u001b[0mrecluster_results\u001b[0m\u001b[1;33m[\u001b[0m\u001b[0mcolumn\u001b[0m\u001b[1;33m]\u001b[0m \u001b[1;33m=\u001b[0m \u001b[0mrecluster_success\u001b[0m\u001b[1;33m(\u001b[0m\u001b[0mdf\u001b[0m\u001b[1;33m[\u001b[0m\u001b[0mcolumn\u001b[0m\u001b[1;33m]\u001b[0m\u001b[1;33m)\u001b[0m\u001b[1;33m\u001b[0m\u001b[0m\n\u001b[0m\u001b[0;32m     40\u001b[0m \u001b[1;33m\u001b[0m\u001b[0m\n\u001b[0;32m     41\u001b[0m \u001b[0mrecluster_results\u001b[0m\u001b[1;33m\u001b[0m\u001b[0m\n",
      "\u001b[1;32m<ipython-input-26-2c498218c7b7>\u001b[0m in \u001b[0;36mrecluster_success\u001b[1;34m(series)\u001b[0m\n\u001b[0;32m     25\u001b[0m         \u001b[1;32mreturn\u001b[0m \u001b[1;33m(\u001b[0m\u001b[0mclasses\u001b[0m \u001b[1;33m==\u001b[0m \u001b[0mtrue_classes\u001b[0m\u001b[1;33m)\u001b[0m\u001b[1;33m.\u001b[0m\u001b[0msum\u001b[0m\u001b[1;33m(\u001b[0m\u001b[1;33m)\u001b[0m\u001b[1;33m/\u001b[0m\u001b[0mlen\u001b[0m\u001b[1;33m(\u001b[0m\u001b[0mtrue_classes\u001b[0m\u001b[1;33m)\u001b[0m\u001b[1;33m\u001b[0m\u001b[0m\n\u001b[0;32m     26\u001b[0m \u001b[1;33m\u001b[0m\u001b[0m\n\u001b[1;32m---> 27\u001b[1;33m     \u001b[0mclasses\u001b[0m \u001b[1;33m=\u001b[0m \u001b[0mget_classes_by_similarity_to_true_classes\u001b[0m\u001b[1;33m(\u001b[0m\u001b[0mseries\u001b[0m\u001b[1;33m)\u001b[0m\u001b[1;33m\u001b[0m\u001b[0m\n\u001b[0m\u001b[0;32m     28\u001b[0m     \u001b[0mgroup_closeness_acc\u001b[0m \u001b[1;33m=\u001b[0m \u001b[1;33m(\u001b[0m\u001b[0mclasses\u001b[0m \u001b[1;33m==\u001b[0m \u001b[0mtrue_classes\u001b[0m\u001b[1;33m)\u001b[0m\u001b[1;33m.\u001b[0m\u001b[0msum\u001b[0m\u001b[1;33m(\u001b[0m\u001b[1;33m)\u001b[0m\u001b[1;33m/\u001b[0m\u001b[0mlen\u001b[0m\u001b[1;33m(\u001b[0m\u001b[0mtrue_classes\u001b[0m\u001b[1;33m)\u001b[0m\u001b[1;33m\u001b[0m\u001b[0m\n\u001b[0;32m     29\u001b[0m \u001b[1;33m\u001b[0m\u001b[0m\n",
      "\u001b[1;32m<ipython-input-26-2c498218c7b7>\u001b[0m in \u001b[0;36mget_classes_by_similarity_to_true_classes\u001b[1;34m(series)\u001b[0m\n\u001b[0;32m     13\u001b[0m \u001b[1;33m\u001b[0m\u001b[0m\n\u001b[0;32m     14\u001b[0m     return np.asarray([series.groupby(level=0).agg(lambda group: av_dist_to_group(point, group)).idxmin()\n\u001b[1;32m---> 15\u001b[1;33m                for point in series])\n\u001b[0m\u001b[0;32m     16\u001b[0m \u001b[1;33m\u001b[0m\u001b[0m\n\u001b[0;32m     17\u001b[0m \u001b[1;33m\u001b[0m\u001b[0m\n",
      "\u001b[1;32m<ipython-input-26-2c498218c7b7>\u001b[0m in \u001b[0;36m<listcomp>\u001b[1;34m(.0)\u001b[0m\n\u001b[0;32m     13\u001b[0m \u001b[1;33m\u001b[0m\u001b[0m\n\u001b[0;32m     14\u001b[0m     return np.asarray([series.groupby(level=0).agg(lambda group: av_dist_to_group(point, group)).idxmin()\n\u001b[1;32m---> 15\u001b[1;33m                for point in series])\n\u001b[0m\u001b[0;32m     16\u001b[0m \u001b[1;33m\u001b[0m\u001b[0m\n\u001b[0;32m     17\u001b[0m \u001b[1;33m\u001b[0m\u001b[0m\n",
      "\u001b[1;32m/usr/local/lib/python3.4/site-packages/pandas/core/groupby.py\u001b[0m in \u001b[0;36magg\u001b[1;34m(self, func, *args, **kwargs)\u001b[0m\n\u001b[0;32m    683\u001b[0m     \u001b[1;33m@\u001b[0m\u001b[0mAppender\u001b[0m\u001b[1;33m(\u001b[0m\u001b[0m_agg_doc\u001b[0m\u001b[1;33m)\u001b[0m\u001b[1;33m\u001b[0m\u001b[0m\n\u001b[0;32m    684\u001b[0m     \u001b[1;32mdef\u001b[0m \u001b[0magg\u001b[0m\u001b[1;33m(\u001b[0m\u001b[0mself\u001b[0m\u001b[1;33m,\u001b[0m \u001b[0mfunc\u001b[0m\u001b[1;33m,\u001b[0m \u001b[1;33m*\u001b[0m\u001b[0margs\u001b[0m\u001b[1;33m,\u001b[0m \u001b[1;33m**\u001b[0m\u001b[0mkwargs\u001b[0m\u001b[1;33m)\u001b[0m\u001b[1;33m:\u001b[0m\u001b[1;33m\u001b[0m\u001b[0m\n\u001b[1;32m--> 685\u001b[1;33m         \u001b[1;32mreturn\u001b[0m \u001b[0mself\u001b[0m\u001b[1;33m.\u001b[0m\u001b[0maggregate\u001b[0m\u001b[1;33m(\u001b[0m\u001b[0mfunc\u001b[0m\u001b[1;33m,\u001b[0m \u001b[1;33m*\u001b[0m\u001b[0margs\u001b[0m\u001b[1;33m,\u001b[0m \u001b[1;33m**\u001b[0m\u001b[0mkwargs\u001b[0m\u001b[1;33m)\u001b[0m\u001b[1;33m\u001b[0m\u001b[0m\n\u001b[0m\u001b[0;32m    686\u001b[0m \u001b[1;33m\u001b[0m\u001b[0m\n\u001b[0;32m    687\u001b[0m     \u001b[1;32mdef\u001b[0m \u001b[0m_iterate_slices\u001b[0m\u001b[1;33m(\u001b[0m\u001b[0mself\u001b[0m\u001b[1;33m)\u001b[0m\u001b[1;33m:\u001b[0m\u001b[1;33m\u001b[0m\u001b[0m\n",
      "\u001b[1;32m/usr/local/lib/python3.4/site-packages/pandas/core/groupby.py\u001b[0m in \u001b[0;36maggregate\u001b[1;34m(self, func_or_funcs, *args, **kwargs)\u001b[0m\n\u001b[0;32m   2320\u001b[0m \u001b[1;33m\u001b[0m\u001b[0m\n\u001b[0;32m   2321\u001b[0m             \u001b[1;32mtry\u001b[0m\u001b[1;33m:\u001b[0m\u001b[1;33m\u001b[0m\u001b[0m\n\u001b[1;32m-> 2322\u001b[1;33m                 \u001b[1;32mreturn\u001b[0m \u001b[0mself\u001b[0m\u001b[1;33m.\u001b[0m\u001b[0m_python_agg_general\u001b[0m\u001b[1;33m(\u001b[0m\u001b[0mfunc_or_funcs\u001b[0m\u001b[1;33m,\u001b[0m \u001b[1;33m*\u001b[0m\u001b[0margs\u001b[0m\u001b[1;33m,\u001b[0m \u001b[1;33m**\u001b[0m\u001b[0mkwargs\u001b[0m\u001b[1;33m)\u001b[0m\u001b[1;33m\u001b[0m\u001b[0m\n\u001b[0m\u001b[0;32m   2323\u001b[0m             \u001b[1;32mexcept\u001b[0m \u001b[0mException\u001b[0m\u001b[1;33m:\u001b[0m\u001b[1;33m\u001b[0m\u001b[0m\n\u001b[0;32m   2324\u001b[0m                 \u001b[0mresult\u001b[0m \u001b[1;33m=\u001b[0m \u001b[0mself\u001b[0m\u001b[1;33m.\u001b[0m\u001b[0m_aggregate_named\u001b[0m\u001b[1;33m(\u001b[0m\u001b[0mfunc_or_funcs\u001b[0m\u001b[1;33m,\u001b[0m \u001b[1;33m*\u001b[0m\u001b[0margs\u001b[0m\u001b[1;33m,\u001b[0m \u001b[1;33m**\u001b[0m\u001b[0mkwargs\u001b[0m\u001b[1;33m)\u001b[0m\u001b[1;33m\u001b[0m\u001b[0m\n",
      "\u001b[1;32m/usr/local/lib/python3.4/site-packages/pandas/core/groupby.py\u001b[0m in \u001b[0;36m_python_agg_general\u001b[1;34m(self, func, *args, **kwargs)\u001b[0m\n\u001b[0;32m   1113\u001b[0m         \u001b[1;32mfor\u001b[0m \u001b[0mname\u001b[0m\u001b[1;33m,\u001b[0m \u001b[0mobj\u001b[0m \u001b[1;32min\u001b[0m \u001b[0mself\u001b[0m\u001b[1;33m.\u001b[0m\u001b[0m_iterate_slices\u001b[0m\u001b[1;33m(\u001b[0m\u001b[1;33m)\u001b[0m\u001b[1;33m:\u001b[0m\u001b[1;33m\u001b[0m\u001b[0m\n\u001b[0;32m   1114\u001b[0m             \u001b[1;32mtry\u001b[0m\u001b[1;33m:\u001b[0m\u001b[1;33m\u001b[0m\u001b[0m\n\u001b[1;32m-> 1115\u001b[1;33m                 \u001b[0mresult\u001b[0m\u001b[1;33m,\u001b[0m \u001b[0mcounts\u001b[0m \u001b[1;33m=\u001b[0m \u001b[0mself\u001b[0m\u001b[1;33m.\u001b[0m\u001b[0mgrouper\u001b[0m\u001b[1;33m.\u001b[0m\u001b[0magg_series\u001b[0m\u001b[1;33m(\u001b[0m\u001b[0mobj\u001b[0m\u001b[1;33m,\u001b[0m \u001b[0mf\u001b[0m\u001b[1;33m)\u001b[0m\u001b[1;33m\u001b[0m\u001b[0m\n\u001b[0m\u001b[0;32m   1116\u001b[0m                 \u001b[0moutput\u001b[0m\u001b[1;33m[\u001b[0m\u001b[0mname\u001b[0m\u001b[1;33m]\u001b[0m \u001b[1;33m=\u001b[0m \u001b[0mself\u001b[0m\u001b[1;33m.\u001b[0m\u001b[0m_try_cast\u001b[0m\u001b[1;33m(\u001b[0m\u001b[0mresult\u001b[0m\u001b[1;33m,\u001b[0m \u001b[0mobj\u001b[0m\u001b[1;33m)\u001b[0m\u001b[1;33m\u001b[0m\u001b[0m\n\u001b[0;32m   1117\u001b[0m             \u001b[1;32mexcept\u001b[0m \u001b[0mTypeError\u001b[0m\u001b[1;33m:\u001b[0m\u001b[1;33m\u001b[0m\u001b[0m\n",
      "\u001b[1;32m/usr/local/lib/python3.4/site-packages/pandas/core/groupby.py\u001b[0m in \u001b[0;36magg_series\u001b[1;34m(self, obj, func)\u001b[0m\n\u001b[0;32m   1584\u001b[0m             \u001b[1;32mreturn\u001b[0m \u001b[0mself\u001b[0m\u001b[1;33m.\u001b[0m\u001b[0m_aggregate_series_fast\u001b[0m\u001b[1;33m(\u001b[0m\u001b[0mobj\u001b[0m\u001b[1;33m,\u001b[0m \u001b[0mfunc\u001b[0m\u001b[1;33m)\u001b[0m\u001b[1;33m\u001b[0m\u001b[0m\n\u001b[0;32m   1585\u001b[0m         \u001b[1;32mexcept\u001b[0m \u001b[0mException\u001b[0m\u001b[1;33m:\u001b[0m\u001b[1;33m\u001b[0m\u001b[0m\n\u001b[1;32m-> 1586\u001b[1;33m             \u001b[1;32mreturn\u001b[0m \u001b[0mself\u001b[0m\u001b[1;33m.\u001b[0m\u001b[0m_aggregate_series_pure_python\u001b[0m\u001b[1;33m(\u001b[0m\u001b[0mobj\u001b[0m\u001b[1;33m,\u001b[0m \u001b[0mfunc\u001b[0m\u001b[1;33m)\u001b[0m\u001b[1;33m\u001b[0m\u001b[0m\n\u001b[0m\u001b[0;32m   1587\u001b[0m \u001b[1;33m\u001b[0m\u001b[0m\n\u001b[0;32m   1588\u001b[0m     \u001b[1;32mdef\u001b[0m \u001b[0m_aggregate_series_fast\u001b[0m\u001b[1;33m(\u001b[0m\u001b[0mself\u001b[0m\u001b[1;33m,\u001b[0m \u001b[0mobj\u001b[0m\u001b[1;33m,\u001b[0m \u001b[0mfunc\u001b[0m\u001b[1;33m)\u001b[0m\u001b[1;33m:\u001b[0m\u001b[1;33m\u001b[0m\u001b[0m\n",
      "\u001b[1;32m/usr/local/lib/python3.4/site-packages/pandas/core/groupby.py\u001b[0m in \u001b[0;36m_aggregate_series_pure_python\u001b[1;34m(self, obj, func)\u001b[0m\n\u001b[0;32m   1613\u001b[0m         \u001b[0msplitter\u001b[0m \u001b[1;33m=\u001b[0m \u001b[0mget_splitter\u001b[0m\u001b[1;33m(\u001b[0m\u001b[0mobj\u001b[0m\u001b[1;33m,\u001b[0m \u001b[0mgroup_index\u001b[0m\u001b[1;33m,\u001b[0m \u001b[0mngroups\u001b[0m\u001b[1;33m,\u001b[0m \u001b[0maxis\u001b[0m\u001b[1;33m=\u001b[0m\u001b[0mself\u001b[0m\u001b[1;33m.\u001b[0m\u001b[0maxis\u001b[0m\u001b[1;33m)\u001b[0m\u001b[1;33m\u001b[0m\u001b[0m\n\u001b[0;32m   1614\u001b[0m \u001b[1;33m\u001b[0m\u001b[0m\n\u001b[1;32m-> 1615\u001b[1;33m         \u001b[1;32mfor\u001b[0m \u001b[0mlabel\u001b[0m\u001b[1;33m,\u001b[0m \u001b[0mgroup\u001b[0m \u001b[1;32min\u001b[0m \u001b[0msplitter\u001b[0m\u001b[1;33m:\u001b[0m\u001b[1;33m\u001b[0m\u001b[0m\n\u001b[0m\u001b[0;32m   1616\u001b[0m             \u001b[0mres\u001b[0m \u001b[1;33m=\u001b[0m \u001b[0mfunc\u001b[0m\u001b[1;33m(\u001b[0m\u001b[0mgroup\u001b[0m\u001b[1;33m)\u001b[0m\u001b[1;33m\u001b[0m\u001b[0m\n\u001b[0;32m   1617\u001b[0m             \u001b[1;32mif\u001b[0m \u001b[0mresult\u001b[0m \u001b[1;32mis\u001b[0m \u001b[1;32mNone\u001b[0m\u001b[1;33m:\u001b[0m\u001b[1;33m\u001b[0m\u001b[0m\n",
      "\u001b[1;32m/usr/local/lib/python3.4/site-packages/pandas/core/groupby.py\u001b[0m in \u001b[0;36m__iter__\u001b[1;34m(self)\u001b[0m\n\u001b[0;32m   3431\u001b[0m             \u001b[1;31m#     raise AssertionError('Start %s must be less than end %s'\u001b[0m\u001b[1;33m\u001b[0m\u001b[1;33m\u001b[0m\u001b[0m\n\u001b[0;32m   3432\u001b[0m             \u001b[1;31m#                          % (str(start), str(end)))\u001b[0m\u001b[1;33m\u001b[0m\u001b[1;33m\u001b[0m\u001b[0m\n\u001b[1;32m-> 3433\u001b[1;33m             \u001b[1;32myield\u001b[0m \u001b[0mi\u001b[0m\u001b[1;33m,\u001b[0m \u001b[0mself\u001b[0m\u001b[1;33m.\u001b[0m\u001b[0m_chop\u001b[0m\u001b[1;33m(\u001b[0m\u001b[0msdata\u001b[0m\u001b[1;33m,\u001b[0m \u001b[0mslice\u001b[0m\u001b[1;33m(\u001b[0m\u001b[0mstart\u001b[0m\u001b[1;33m,\u001b[0m \u001b[0mend\u001b[0m\u001b[1;33m)\u001b[0m\u001b[1;33m)\u001b[0m\u001b[1;33m\u001b[0m\u001b[0m\n\u001b[0m\u001b[0;32m   3434\u001b[0m \u001b[1;33m\u001b[0m\u001b[0m\n\u001b[0;32m   3435\u001b[0m     \u001b[1;32mdef\u001b[0m \u001b[0m_get_sorted_data\u001b[0m\u001b[1;33m(\u001b[0m\u001b[0mself\u001b[0m\u001b[1;33m)\u001b[0m\u001b[1;33m:\u001b[0m\u001b[1;33m\u001b[0m\u001b[0m\n",
      "\u001b[1;32m/usr/local/lib/python3.4/site-packages/pandas/core/groupby.py\u001b[0m in \u001b[0;36m_chop\u001b[1;34m(self, sdata, slice_obj)\u001b[0m\n\u001b[0;32m   3450\u001b[0m \u001b[1;33m\u001b[0m\u001b[0m\n\u001b[0;32m   3451\u001b[0m     \u001b[1;32mdef\u001b[0m \u001b[0m_chop\u001b[0m\u001b[1;33m(\u001b[0m\u001b[0mself\u001b[0m\u001b[1;33m,\u001b[0m \u001b[0msdata\u001b[0m\u001b[1;33m,\u001b[0m \u001b[0mslice_obj\u001b[0m\u001b[1;33m)\u001b[0m\u001b[1;33m:\u001b[0m\u001b[1;33m\u001b[0m\u001b[0m\n\u001b[1;32m-> 3452\u001b[1;33m         \u001b[1;32mreturn\u001b[0m \u001b[0msdata\u001b[0m\u001b[1;33m.\u001b[0m\u001b[0m_get_values\u001b[0m\u001b[1;33m(\u001b[0m\u001b[0mslice_obj\u001b[0m\u001b[1;33m)\u001b[0m\u001b[1;33m.\u001b[0m\u001b[0mto_dense\u001b[0m\u001b[1;33m(\u001b[0m\u001b[1;33m)\u001b[0m\u001b[1;33m\u001b[0m\u001b[0m\n\u001b[0m\u001b[0;32m   3453\u001b[0m \u001b[1;33m\u001b[0m\u001b[0m\n\u001b[0;32m   3454\u001b[0m \u001b[1;33m\u001b[0m\u001b[0m\n",
      "\u001b[1;32m/usr/local/lib/python3.4/site-packages/pandas/core/series.py\u001b[0m in \u001b[0;36m_get_values\u001b[1;34m(self, indexer)\u001b[0m\n\u001b[0;32m    626\u001b[0m     \u001b[1;32mdef\u001b[0m \u001b[0m_get_values\u001b[0m\u001b[1;33m(\u001b[0m\u001b[0mself\u001b[0m\u001b[1;33m,\u001b[0m \u001b[0mindexer\u001b[0m\u001b[1;33m)\u001b[0m\u001b[1;33m:\u001b[0m\u001b[1;33m\u001b[0m\u001b[0m\n\u001b[0;32m    627\u001b[0m         \u001b[1;32mtry\u001b[0m\u001b[1;33m:\u001b[0m\u001b[1;33m\u001b[0m\u001b[0m\n\u001b[1;32m--> 628\u001b[1;33m             return self._constructor(self._data.get_slice(indexer),\n\u001b[0m\u001b[0;32m    629\u001b[0m                                      fastpath=True).__finalize__(self)\n\u001b[0;32m    630\u001b[0m         \u001b[1;32mexcept\u001b[0m \u001b[0mException\u001b[0m\u001b[1;33m:\u001b[0m\u001b[1;33m\u001b[0m\u001b[0m\n",
      "\u001b[1;32m/usr/local/lib/python3.4/site-packages/pandas/core/internals.py\u001b[0m in \u001b[0;36mget_slice\u001b[1;34m(self, slobj, axis)\u001b[0m\n\u001b[0;32m   3440\u001b[0m \u001b[1;33m\u001b[0m\u001b[0m\n\u001b[0;32m   3441\u001b[0m         return self.__class__(self._block._slice(slobj),\n\u001b[1;32m-> 3442\u001b[1;33m                               self.index[slobj], fastpath=True)\n\u001b[0m\u001b[0;32m   3443\u001b[0m \u001b[1;33m\u001b[0m\u001b[0m\n\u001b[0;32m   3444\u001b[0m     \u001b[1;33m@\u001b[0m\u001b[0mproperty\u001b[0m\u001b[1;33m\u001b[0m\u001b[0m\n",
      "\u001b[1;32m/usr/local/lib/python3.4/site-packages/pandas/core/internals.py\u001b[0m in \u001b[0;36m__init__\u001b[1;34m(self, block, axis, do_integrity_check, fastpath)\u001b[0m\n\u001b[0;32m   3381\u001b[0m             block = make_block(block,\n\u001b[0;32m   3382\u001b[0m                                \u001b[0mplacement\u001b[0m\u001b[1;33m=\u001b[0m\u001b[0mslice\u001b[0m\u001b[1;33m(\u001b[0m\u001b[1;36m0\u001b[0m\u001b[1;33m,\u001b[0m \u001b[0mlen\u001b[0m\u001b[1;33m(\u001b[0m\u001b[0maxis\u001b[0m\u001b[1;33m)\u001b[0m\u001b[1;33m)\u001b[0m\u001b[1;33m,\u001b[0m\u001b[1;33m\u001b[0m\u001b[0m\n\u001b[1;32m-> 3383\u001b[1;33m                                ndim=1, fastpath=True)\n\u001b[0m\u001b[0;32m   3384\u001b[0m \u001b[1;33m\u001b[0m\u001b[0m\n\u001b[0;32m   3385\u001b[0m         \u001b[0mself\u001b[0m\u001b[1;33m.\u001b[0m\u001b[0mblocks\u001b[0m \u001b[1;33m=\u001b[0m \u001b[1;33m[\u001b[0m\u001b[0mblock\u001b[0m\u001b[1;33m]\u001b[0m\u001b[1;33m\u001b[0m\u001b[0m\n",
      "\u001b[1;32m/usr/local/lib/python3.4/site-packages/pandas/core/internals.py\u001b[0m in \u001b[0;36mmake_block\u001b[1;34m(values, placement, klass, ndim, dtype, fastpath)\u001b[0m\n\u001b[0;32m   2077\u001b[0m         \u001b[0mvtype\u001b[0m \u001b[1;33m=\u001b[0m \u001b[0mdtype\u001b[0m\u001b[1;33m.\u001b[0m\u001b[0mtype\u001b[0m\u001b[1;33m\u001b[0m\u001b[0m\n\u001b[0;32m   2078\u001b[0m \u001b[1;33m\u001b[0m\u001b[0m\n\u001b[1;32m-> 2079\u001b[1;33m         \u001b[1;32mif\u001b[0m \u001b[0misinstance\u001b[0m\u001b[1;33m(\u001b[0m\u001b[0mvalues\u001b[0m\u001b[1;33m,\u001b[0m \u001b[0mSparseArray\u001b[0m\u001b[1;33m)\u001b[0m\u001b[1;33m:\u001b[0m\u001b[1;33m\u001b[0m\u001b[0m\n\u001b[0m\u001b[0;32m   2080\u001b[0m             \u001b[0mklass\u001b[0m \u001b[1;33m=\u001b[0m \u001b[0mSparseBlock\u001b[0m\u001b[1;33m\u001b[0m\u001b[0m\n\u001b[0;32m   2081\u001b[0m         \u001b[1;32melif\u001b[0m \u001b[0missubclass\u001b[0m\u001b[1;33m(\u001b[0m\u001b[0mvtype\u001b[0m\u001b[1;33m,\u001b[0m \u001b[0mnp\u001b[0m\u001b[1;33m.\u001b[0m\u001b[0mfloating\u001b[0m\u001b[1;33m)\u001b[0m\u001b[1;33m:\u001b[0m\u001b[1;33m\u001b[0m\u001b[0m\n",
      "\u001b[1;31mKeyboardInterrupt\u001b[0m: "
     ]
    }
   ],
   "source": [
    "def get_classes_about_center(series, center_fun):\n",
    "    group_centers = np.row_stack(series.groupby(level=0).agg(center_fun)) \n",
    "    points  = np.row_stack(series)\n",
    "    class_indexes = distance.cdist(points,group_centers, 'cosine').argmin(axis=1)\n",
    "    return np.asarray(series.index[class_indexes].labels[0])\n",
    "\n",
    "def get_classes_by_similarity_to_true_classes(series):\n",
    "    true_classes = get_true_classes(series)\n",
    "    \n",
    "    def av_dist_to_group(point, group):\n",
    "        xs = np.row_stack(group)\n",
    "        return distance.cdist(xs, [point], 'cosine').mean()\n",
    "    \n",
    "    return np.asarray([series.groupby(level=0).agg(lambda group: av_dist_to_group(point, group)).idxmin()\n",
    "               for point in series])\n",
    "    \n",
    "\n",
    "\n",
    "\n",
    "def recluster_success(series):\n",
    "    true_classes = get_true_classes(series)\n",
    "\n",
    "    def get_acc(center_fun):\n",
    "        classes = get_classes_about_center(series, center_fun)\n",
    "        return (classes == true_classes).sum()/len(true_classes)\n",
    "    \n",
    "    classes = get_classes_by_similarity_to_true_classes(series)\n",
    "    group_closeness_acc = (classes == true_classes).sum()/len(true_classes)\n",
    "\n",
    "    return pd.Series([get_acc(get_centroid),\n",
    "                      get_acc(get_medoid),\n",
    "                      get_acc(get_angular_centroid),\n",
    "                      group_closeness_acc\n",
    "                     ], index=\"centroid_acc medoid_acc angular_centroid_acc group_closeness_acc\".split()) \n",
    "    \n",
    "\n",
    "recluster_results = pd.DataFrame()\n",
    "for column in df.columns[1:]:\n",
    "    recluster_results[column] = recluster_success(df[column])\n",
    "\n",
    "recluster_results"
   ]
  },
  {
   "cell_type": "code",
   "execution_count": null,
   "metadata": {
    "collapsed": false,
    "scrolled": true
   },
   "outputs": [],
   "source": [
    "#Lets take a look at what mistakes are being made.\n",
    "#We can look at the exemplary member of each class as a repressentitive,\n",
    "#And can compare that for the class it was given to that for the class it should have been given\n",
    "\n",
    "def get_exemplars(df, col_name, get_center_fun):\n",
    "    series = df[col_name]\n",
    "    def get_exemplar(group):\n",
    "        c = get_center_fun(group)\n",
    "        points=np.row_stack(group)\n",
    "        ingroup_index = distance.cdist(points,[c], 'cosine').flatten().argmin()\n",
    "        df_index = group.index[ingroup_index]\n",
    "        return df.tokenized_phrases[df_index]\n",
    "    \n",
    "    return series.groupby(level=0).agg(get_exemplar)\n",
    "\n",
    "\n",
    "def get_mistakes(df, col_name, get_center_fun=get_angular_centroid):\n",
    "    group_exemplars = get_exemplars(df, col_name,get_center_fun)\n",
    "    \n",
    "    series = df[col_name]\n",
    "    \n",
    "    classes = get_classes(series, get_center_fun)\n",
    "    \n",
    "    return show_mistakes(df, classes, col_name, get_center_fun)\n",
    "\n",
    "\n",
    "def show_mistakes(df, actual_classes, col_for_exemplar=\"bow\", get_center_fun = get_angular_centroid):\n",
    "    group_exemplars = get_exemplars(df, col_for_exemplar, get_center_fun)\n",
    "    \n",
    "    true_classes = get_true_classes(df)\n",
    "    mistake_indexs = np.nonzero(actual_classes!=true_classes)\n",
    "    \n",
    "    ret = pd.DataFrame()\n",
    "    ret[\"mistaken_texts\"] = list(df.tokenized_phrases.iloc[mistake_indexs])\n",
    "    ret[\"true_exemplar\"] = list(group_exemplars[true_classes[mistake_indexs]])\n",
    "    ret[\"actual_exemplar\"] = list(group_exemplars[actual_classes[mistake_indexs]])\n",
    "    \n",
    "    return ret\n"
   ]
  },
  {
   "cell_type": "code",
   "execution_count": null,
   "metadata": {
    "collapsed": false
   },
   "outputs": [],
   "source": [
    "#show_mistakes(df, get_classes_by_similarity_to_true_classes(df.bow))"
   ]
  },
  {
   "cell_type": "code",
   "execution_count": null,
   "metadata": {
    "collapsed": false,
    "scrolled": true
   },
   "outputs": [],
   "source": [
    "#get_mistakes(df, \"bow\",get_angular_centroid)"
   ]
  },
  {
   "cell_type": "code",
   "execution_count": null,
   "metadata": {
    "collapsed": true
   },
   "outputs": [],
   "source": []
  },
  {
   "cell_type": "code",
   "execution_count": null,
   "metadata": {
    "collapsed": false
   },
   "outputs": [],
   "source": []
  },
  {
   "cell_type": "code",
   "execution_count": 17,
   "metadata": {
    "collapsed": false
   },
   "outputs": [],
   "source": [
    "from sklearn.svm import NuSVC, SVC, LinearSVC\n",
    "from sklearn import tree\n",
    "from sklearn.multiclass import OneVsRestClassifier, OneVsOneClassifier\n",
    "\n",
    "#class_weight = {key: 1/value for (key, value) in Counter(training_data.debate_type).items()}\n",
    "\n",
    "def classify(column, classifier, train_data, test_data, train_labels, test_labels):\n",
    "    train_data_X = np.row_stack(train_data[column])\n",
    "    test_data_X = np.row_stack(test_data[column])\n",
    "\n",
    "    classifier.fit(train_data_X, train_labels)\n",
    "    \n",
    "    return classifier.score(test_data_X, test_labels)\n",
    "\n",
    "\n",
    "classifiers = [LinearSVC(class_weight=\"auto\",  max_iter=20000), \n",
    "               LinearSVC(class_weight=\"auto\",  max_iter=20000, C=10),\n",
    "               LinearSVC(class_weight=\"auto\",  max_iter=20000, C=100),\n",
    "               #LinearSVC(class_weight=\"auto\",  max_iter=20000, C=1000),\n",
    "               #LinearSVC(class_weight=\"auto\",  max_iter=20000, C=10000)\n",
    "       #SVC(class_weight=\"auto\",  max_iter=20000, kernel='rbf', C=10),\n",
    "       #SVC(class_weight=\"auto\",  max_iter=20000, kernel='rbf', C=100),        \n",
    "       #SVC(class_weight=\"auto\",  max_iter=20000, kernel='rbf', C=1000),\n",
    "       #SVC(class_weight=\"auto\",  max_iter=20000, kernel='rbf', C=10000),\n",
    "       #SVC(class_weight=\"auto\",  max_iter=20000, kernel='rbf', C=100000),\n",
    "       #SVC(class_weight=\"auto\",  max_iter=20000, kernel='rbf', C=1000000),\n",
    "        #OneVsRestClassifier(SVC(class_weight=\"auto\",  max_iter=20000, kernel='rbf')),\n",
    "        #tree.DecisionTreeClassifier(class_weight=\"auto\")\n",
    "        \n",
    "        \n",
    "       ]\n"
   ]
  },
  {
   "cell_type": "code",
   "execution_count": 18,
   "metadata": {
    "collapsed": false
   },
   "outputs": [
    {
     "name": "stdout",
     "output_type": "stream",
     "text": [
      "3-fold validation\n"
     ]
    },
    {
     "data": {
      "text/html": [
       "<div>\n",
       "<table border=\"1\" class=\"dataframe\">\n",
       "  <thead>\n",
       "    <tr style=\"text-align: right;\">\n",
       "      <th></th>\n",
       "      <th>pvdm</th>\n",
       "      <th>dbow</th>\n",
       "      <th>urae</th>\n",
       "      <th>mowe</th>\n",
       "      <th>bow</th>\n",
       "      <th>pca_bow</th>\n",
       "      <th>pvdm_bow</th>\n",
       "      <th>dbow_bow</th>\n",
       "      <th>urae_bow</th>\n",
       "    </tr>\n",
       "  </thead>\n",
       "  <tbody>\n",
       "    <tr>\n",
       "      <th>LinearSVC(C=1.0, class_weight='auto', dual=True, fit_intercept=True,\\n     intercept_scaling=1, loss='squared_hinge', max_iter=20000,\\n     multi_class='ovr', penalty='l2', random_state=None, tol=0.0001,\\n     verbose=0)</th>\n",
       "      <td>0.603837</td>\n",
       "      <td>0.899325</td>\n",
       "      <td>0.500057</td>\n",
       "      <td>0.974429</td>\n",
       "      <td>0.983719</td>\n",
       "      <td>0.986018</td>\n",
       "      <td>0.983719</td>\n",
       "      <td>0.983719</td>\n",
       "      <td>0.983719</td>\n",
       "    </tr>\n",
       "    <tr>\n",
       "      <th>LinearSVC(C=10, class_weight='auto', dual=True, fit_intercept=True,\\n     intercept_scaling=1, loss='squared_hinge', max_iter=20000,\\n     multi_class='ovr', penalty='l2', random_state=None, tol=0.0001,\\n     verbose=0)</th>\n",
       "      <td>0.774329</td>\n",
       "      <td>0.887870</td>\n",
       "      <td>0.508836</td>\n",
       "      <td>0.979134</td>\n",
       "      <td>0.983719</td>\n",
       "      <td>0.980217</td>\n",
       "      <td>0.983719</td>\n",
       "      <td>0.983719</td>\n",
       "      <td>0.983719</td>\n",
       "    </tr>\n",
       "    <tr>\n",
       "      <th>LinearSVC(C=100, class_weight='auto', dual=True, fit_intercept=True,\\n     intercept_scaling=1, loss='squared_hinge', max_iter=20000,\\n     multi_class='ovr', penalty='l2', random_state=None, tol=0.0001,\\n     verbose=0)</th>\n",
       "      <td>0.779969</td>\n",
       "      <td>0.885450</td>\n",
       "      <td>0.495991</td>\n",
       "      <td>0.977918</td>\n",
       "      <td>0.983719</td>\n",
       "      <td>0.977918</td>\n",
       "      <td>0.983719</td>\n",
       "      <td>0.983719</td>\n",
       "      <td>0.983719</td>\n",
       "    </tr>\n",
       "  </tbody>\n",
       "</table>\n",
       "</div>"
      ],
      "text/plain": [
       "                                                                                                          pvdm  \\\n",
       "LinearSVC(C=1.0, class_weight='auto', dual=True, fit_intercept=True,\\n     intercept_scaling=1, l...  0.603837   \n",
       "LinearSVC(C=10, class_weight='auto', dual=True, fit_intercept=True,\\n     intercept_scaling=1, lo...  0.774329   \n",
       "LinearSVC(C=100, class_weight='auto', dual=True, fit_intercept=True,\\n     intercept_scaling=1, l...  0.779969   \n",
       "\n",
       "                                                                                                          dbow  \\\n",
       "LinearSVC(C=1.0, class_weight='auto', dual=True, fit_intercept=True,\\n     intercept_scaling=1, l...  0.899325   \n",
       "LinearSVC(C=10, class_weight='auto', dual=True, fit_intercept=True,\\n     intercept_scaling=1, lo...  0.887870   \n",
       "LinearSVC(C=100, class_weight='auto', dual=True, fit_intercept=True,\\n     intercept_scaling=1, l...  0.885450   \n",
       "\n",
       "                                                                                                          urae  \\\n",
       "LinearSVC(C=1.0, class_weight='auto', dual=True, fit_intercept=True,\\n     intercept_scaling=1, l...  0.500057   \n",
       "LinearSVC(C=10, class_weight='auto', dual=True, fit_intercept=True,\\n     intercept_scaling=1, lo...  0.508836   \n",
       "LinearSVC(C=100, class_weight='auto', dual=True, fit_intercept=True,\\n     intercept_scaling=1, l...  0.495991   \n",
       "\n",
       "                                                                                                          mowe  \\\n",
       "LinearSVC(C=1.0, class_weight='auto', dual=True, fit_intercept=True,\\n     intercept_scaling=1, l...  0.974429   \n",
       "LinearSVC(C=10, class_weight='auto', dual=True, fit_intercept=True,\\n     intercept_scaling=1, lo...  0.979134   \n",
       "LinearSVC(C=100, class_weight='auto', dual=True, fit_intercept=True,\\n     intercept_scaling=1, l...  0.977918   \n",
       "\n",
       "                                                                                                           bow  \\\n",
       "LinearSVC(C=1.0, class_weight='auto', dual=True, fit_intercept=True,\\n     intercept_scaling=1, l...  0.983719   \n",
       "LinearSVC(C=10, class_weight='auto', dual=True, fit_intercept=True,\\n     intercept_scaling=1, lo...  0.983719   \n",
       "LinearSVC(C=100, class_weight='auto', dual=True, fit_intercept=True,\\n     intercept_scaling=1, l...  0.983719   \n",
       "\n",
       "                                                                                                       pca_bow  \\\n",
       "LinearSVC(C=1.0, class_weight='auto', dual=True, fit_intercept=True,\\n     intercept_scaling=1, l...  0.986018   \n",
       "LinearSVC(C=10, class_weight='auto', dual=True, fit_intercept=True,\\n     intercept_scaling=1, lo...  0.980217   \n",
       "LinearSVC(C=100, class_weight='auto', dual=True, fit_intercept=True,\\n     intercept_scaling=1, l...  0.977918   \n",
       "\n",
       "                                                                                                      pvdm_bow  \\\n",
       "LinearSVC(C=1.0, class_weight='auto', dual=True, fit_intercept=True,\\n     intercept_scaling=1, l...  0.983719   \n",
       "LinearSVC(C=10, class_weight='auto', dual=True, fit_intercept=True,\\n     intercept_scaling=1, lo...  0.983719   \n",
       "LinearSVC(C=100, class_weight='auto', dual=True, fit_intercept=True,\\n     intercept_scaling=1, l...  0.983719   \n",
       "\n",
       "                                                                                                      dbow_bow  \\\n",
       "LinearSVC(C=1.0, class_weight='auto', dual=True, fit_intercept=True,\\n     intercept_scaling=1, l...  0.983719   \n",
       "LinearSVC(C=10, class_weight='auto', dual=True, fit_intercept=True,\\n     intercept_scaling=1, lo...  0.983719   \n",
       "LinearSVC(C=100, class_weight='auto', dual=True, fit_intercept=True,\\n     intercept_scaling=1, l...  0.983719   \n",
       "\n",
       "                                                                                                      urae_bow  \n",
       "LinearSVC(C=1.0, class_weight='auto', dual=True, fit_intercept=True,\\n     intercept_scaling=1, l...  0.983719  \n",
       "LinearSVC(C=10, class_weight='auto', dual=True, fit_intercept=True,\\n     intercept_scaling=1, lo...  0.983719  \n",
       "LinearSVC(C=100, class_weight='auto', dual=True, fit_intercept=True,\\n     intercept_scaling=1, l...  0.983719  "
      ]
     },
     "execution_count": 18,
     "metadata": {},
     "output_type": "execute_result"
    }
   ],
   "source": [
    "from sklearn import cross_validation\n",
    "n_folds = df.tokenized_phrases.groupby(level=0).agg(len).min()\n",
    "print(str(n_folds)+\"-fold validation\")\n",
    "classify_results = pd.DataFrame(index=classifiers)\n",
    "for column in df.columns[1:]:\n",
    "    for classifier in classifiers:\n",
    "        cv_res = cross_validation.cross_val_score(classifier, \n",
    "                                          X = np.row_stack(df[column]),\n",
    "                                          y = get_true_classes(df),\n",
    "                                          cv=df[column].groupby(level=0).agg(len).min(),\n",
    "                                          n_jobs=-1\n",
    "                                        \n",
    "                                          )\n",
    "        classify_results.loc[classifier,(column)] = cv_res.mean()\n",
    "        #classify_results.loc[svm,(column+\"_std\")] = cv_res.std()\n",
    "\n",
    "classify_results"
   ]
  },
  {
   "cell_type": "code",
   "execution_count": 19,
   "metadata": {
    "collapsed": false
   },
   "outputs": [
    {
     "data": {
      "text/plain": [
       "pvdm        0.779969\n",
       "dbow        0.899325\n",
       "urae        0.508836\n",
       "mowe        0.979134\n",
       "bow         0.983719\n",
       "pca_bow     0.986018\n",
       "pvdm_bow    0.983719\n",
       "dbow_bow    0.983719\n",
       "urae_bow    0.983719\n",
       "dtype: float64"
      ]
     },
     "execution_count": 19,
     "metadata": {},
     "output_type": "execute_result"
    }
   ],
   "source": [
    "classify_results.max()"
   ]
  },
  {
   "cell_type": "code",
   "execution_count": null,
   "metadata": {
    "collapsed": false
   },
   "outputs": [],
   "source": [
    "def get_symetry_measure(group):\n",
    "    xs = np.row_stack(group)\n",
    "    dist=distance.pdist(xs, angular_dist)\n",
    "    c=get_angular_centroid(xs)\n",
    "    dist = distance.cdist(xs, [c],angular_dist)\n",
    "    return dist.std()\n",
    "\n",
    "df.groupby(level=0).agg(get_symetry_measure).describe()\n",
    "    "
   ]
  },
  {
   "cell_type": "code",
   "execution_count": null,
   "metadata": {
    "collapsed": true
   },
   "outputs": [],
   "source": []
  },
  {
   "cell_type": "code",
   "execution_count": 31,
   "metadata": {
    "collapsed": false
   },
   "outputs": [],
   "source": [
    "def portion_of_points_on_bounding_box(group):\n",
    "    xs = np.row_stack(group)\n",
    "    on_max_border = np.any(xs==xs.max(axis=0), axis=1)\n",
    "    on_min_border = np.any(xs==xs.min(axis=0), axis=1)\n",
    "    on_border = on_min_border + on_max_border\n",
    "    return ( on_border.sum()/len(group))"
   ]
  },
  {
   "cell_type": "code",
   "execution_count": 33,
   "metadata": {
    "collapsed": false,
    "scrolled": true
   },
   "outputs": [
    {
     "ename": "KeyError",
     "evalue": "'the label [urae] is not in the [columns]'",
     "output_type": "error",
     "traceback": [
      "\u001b[1;31m---------------------------------------------------------------------------\u001b[0m",
      "\u001b[1;31mKeyError\u001b[0m                                  Traceback (most recent call last)",
      "\u001b[1;32m/usr/local/lib/python3.4/site-packages/pandas/core/indexing.py\u001b[0m in \u001b[0;36m_has_valid_type\u001b[1;34m(self, key, axis)\u001b[0m\n\u001b[0;32m   1286\u001b[0m                 \u001b[1;32mif\u001b[0m \u001b[1;32mnot\u001b[0m \u001b[0mkey\u001b[0m \u001b[1;32min\u001b[0m \u001b[0max\u001b[0m\u001b[1;33m:\u001b[0m\u001b[1;33m\u001b[0m\u001b[0m\n\u001b[1;32m-> 1287\u001b[1;33m                     \u001b[0merror\u001b[0m\u001b[1;33m(\u001b[0m\u001b[1;33m)\u001b[0m\u001b[1;33m\u001b[0m\u001b[0m\n\u001b[0m\u001b[0;32m   1288\u001b[0m             \u001b[1;32mexcept\u001b[0m \u001b[1;33m(\u001b[0m\u001b[0mTypeError\u001b[0m\u001b[1;33m)\u001b[0m \u001b[1;32mas\u001b[0m \u001b[0me\u001b[0m\u001b[1;33m:\u001b[0m\u001b[1;33m\u001b[0m\u001b[0m\n",
      "\u001b[1;32m/usr/local/lib/python3.4/site-packages/pandas/core/indexing.py\u001b[0m in \u001b[0;36merror\u001b[1;34m()\u001b[0m\n\u001b[0;32m   1281\u001b[0m                 raise KeyError(\"the label [%s] is not in the [%s]\" %\n\u001b[1;32m-> 1282\u001b[1;33m                                (key, self.obj._get_axis_name(axis)))\n\u001b[0m\u001b[0;32m   1283\u001b[0m \u001b[1;33m\u001b[0m\u001b[0m\n",
      "\u001b[1;31mKeyError\u001b[0m: 'the label [urae] is not in the [columns]'",
      "\nDuring handling of the above exception, another exception occurred:\n",
      "\u001b[1;31mKeyError\u001b[0m                                  Traceback (most recent call last)",
      "\u001b[1;32m<ipython-input-33-3353ffb2c51f>\u001b[0m in \u001b[0;36m<module>\u001b[1;34m()\u001b[0m\n\u001b[0;32m      6\u001b[0m \u001b[0mdfa\u001b[0m \u001b[1;33m=\u001b[0m \u001b[0mpd\u001b[0m\u001b[1;33m.\u001b[0m\u001b[0mDataFrame\u001b[0m\u001b[1;33m(\u001b[0m\u001b[0mindex\u001b[0m\u001b[1;33m=\u001b[0m\u001b[0mdf\u001b[0m\u001b[1;33m.\u001b[0m\u001b[0mindex\u001b[0m\u001b[1;33m,\u001b[0m \u001b[0mcolumns\u001b[0m\u001b[1;33m=\u001b[0m\u001b[1;34m\"bow pvdm dbow mowe urae\"\u001b[0m\u001b[1;33m.\u001b[0m\u001b[0msplit\u001b[0m\u001b[1;33m(\u001b[0m\u001b[1;33m)\u001b[0m\u001b[1;33m)\u001b[0m\u001b[1;33m\u001b[0m\u001b[0m\n\u001b[0;32m      7\u001b[0m \u001b[1;32mfor\u001b[0m \u001b[0mcol\u001b[0m \u001b[1;32min\u001b[0m \u001b[0mdfa\u001b[0m\u001b[1;33m.\u001b[0m\u001b[0mcolumns\u001b[0m\u001b[1;33m:\u001b[0m\u001b[1;33m\u001b[0m\u001b[0m\n\u001b[1;32m----> 8\u001b[1;33m     \u001b[0mdfa\u001b[0m\u001b[1;33m.\u001b[0m\u001b[0mloc\u001b[0m\u001b[1;33m[\u001b[0m\u001b[1;33m:\u001b[0m\u001b[1;33m,\u001b[0m\u001b[0mcol\u001b[0m\u001b[1;33m]\u001b[0m\u001b[1;33m=\u001b[0m\u001b[0mdf\u001b[0m\u001b[1;33m.\u001b[0m\u001b[0mloc\u001b[0m\u001b[1;33m[\u001b[0m\u001b[1;33m:\u001b[0m\u001b[1;33m,\u001b[0m\u001b[0mcol\u001b[0m\u001b[1;33m]\u001b[0m\u001b[1;33m/\u001b[0m\u001b[0munit_norms\u001b[0m\u001b[1;33m(\u001b[0m\u001b[0mdf\u001b[0m\u001b[1;33m.\u001b[0m\u001b[0mloc\u001b[0m\u001b[1;33m[\u001b[0m\u001b[1;33m:\u001b[0m\u001b[1;33m,\u001b[0m\u001b[0mcol\u001b[0m\u001b[1;33m]\u001b[0m\u001b[1;33m)\u001b[0m\u001b[1;33m\u001b[0m\u001b[0m\n\u001b[0m\u001b[0;32m      9\u001b[0m \u001b[1;33m\u001b[0m\u001b[0m\n\u001b[0;32m     10\u001b[0m \u001b[0mdfa\u001b[0m\u001b[1;33m\u001b[0m\u001b[0m\n",
      "\u001b[1;32m/usr/local/lib/python3.4/site-packages/pandas/core/indexing.py\u001b[0m in \u001b[0;36m__getitem__\u001b[1;34m(self, key)\u001b[0m\n\u001b[0;32m   1185\u001b[0m     \u001b[1;32mdef\u001b[0m \u001b[0m__getitem__\u001b[0m\u001b[1;33m(\u001b[0m\u001b[0mself\u001b[0m\u001b[1;33m,\u001b[0m \u001b[0mkey\u001b[0m\u001b[1;33m)\u001b[0m\u001b[1;33m:\u001b[0m\u001b[1;33m\u001b[0m\u001b[0m\n\u001b[0;32m   1186\u001b[0m         \u001b[1;32mif\u001b[0m \u001b[0mtype\u001b[0m\u001b[1;33m(\u001b[0m\u001b[0mkey\u001b[0m\u001b[1;33m)\u001b[0m \u001b[1;32mis\u001b[0m \u001b[0mtuple\u001b[0m\u001b[1;33m:\u001b[0m\u001b[1;33m\u001b[0m\u001b[0m\n\u001b[1;32m-> 1187\u001b[1;33m             \u001b[1;32mreturn\u001b[0m \u001b[0mself\u001b[0m\u001b[1;33m.\u001b[0m\u001b[0m_getitem_tuple\u001b[0m\u001b[1;33m(\u001b[0m\u001b[0mkey\u001b[0m\u001b[1;33m)\u001b[0m\u001b[1;33m\u001b[0m\u001b[0m\n\u001b[0m\u001b[0;32m   1188\u001b[0m         \u001b[1;32melse\u001b[0m\u001b[1;33m:\u001b[0m\u001b[1;33m\u001b[0m\u001b[0m\n\u001b[0;32m   1189\u001b[0m             \u001b[1;32mreturn\u001b[0m \u001b[0mself\u001b[0m\u001b[1;33m.\u001b[0m\u001b[0m_getitem_axis\u001b[0m\u001b[1;33m(\u001b[0m\u001b[0mkey\u001b[0m\u001b[1;33m,\u001b[0m \u001b[0maxis\u001b[0m\u001b[1;33m=\u001b[0m\u001b[1;36m0\u001b[0m\u001b[1;33m)\u001b[0m\u001b[1;33m\u001b[0m\u001b[0m\n",
      "\u001b[1;32m/usr/local/lib/python3.4/site-packages/pandas/core/indexing.py\u001b[0m in \u001b[0;36m_getitem_tuple\u001b[1;34m(self, tup)\u001b[0m\n\u001b[0;32m    698\u001b[0m     \u001b[1;32mdef\u001b[0m \u001b[0m_getitem_tuple\u001b[0m\u001b[1;33m(\u001b[0m\u001b[0mself\u001b[0m\u001b[1;33m,\u001b[0m \u001b[0mtup\u001b[0m\u001b[1;33m)\u001b[0m\u001b[1;33m:\u001b[0m\u001b[1;33m\u001b[0m\u001b[0m\n\u001b[0;32m    699\u001b[0m         \u001b[1;32mtry\u001b[0m\u001b[1;33m:\u001b[0m\u001b[1;33m\u001b[0m\u001b[0m\n\u001b[1;32m--> 700\u001b[1;33m             \u001b[1;32mreturn\u001b[0m \u001b[0mself\u001b[0m\u001b[1;33m.\u001b[0m\u001b[0m_getitem_lowerdim\u001b[0m\u001b[1;33m(\u001b[0m\u001b[0mtup\u001b[0m\u001b[1;33m)\u001b[0m\u001b[1;33m\u001b[0m\u001b[0m\n\u001b[0m\u001b[0;32m    701\u001b[0m         \u001b[1;32mexcept\u001b[0m \u001b[0mIndexingError\u001b[0m\u001b[1;33m:\u001b[0m\u001b[1;33m\u001b[0m\u001b[0m\n\u001b[0;32m    702\u001b[0m             \u001b[1;32mpass\u001b[0m\u001b[1;33m\u001b[0m\u001b[0m\n",
      "\u001b[1;32m/usr/local/lib/python3.4/site-packages/pandas/core/indexing.py\u001b[0m in \u001b[0;36m_getitem_lowerdim\u001b[1;34m(self, tup)\u001b[0m\n\u001b[0;32m    806\u001b[0m         \u001b[1;31m# we may have a nested tuples indexer here\u001b[0m\u001b[1;33m\u001b[0m\u001b[1;33m\u001b[0m\u001b[0m\n\u001b[0;32m    807\u001b[0m         \u001b[1;32mif\u001b[0m \u001b[0mself\u001b[0m\u001b[1;33m.\u001b[0m\u001b[0m_is_nested_tuple_indexer\u001b[0m\u001b[1;33m(\u001b[0m\u001b[0mtup\u001b[0m\u001b[1;33m)\u001b[0m\u001b[1;33m:\u001b[0m\u001b[1;33m\u001b[0m\u001b[0m\n\u001b[1;32m--> 808\u001b[1;33m             \u001b[1;32mreturn\u001b[0m \u001b[0mself\u001b[0m\u001b[1;33m.\u001b[0m\u001b[0m_getitem_nested_tuple\u001b[0m\u001b[1;33m(\u001b[0m\u001b[0mtup\u001b[0m\u001b[1;33m)\u001b[0m\u001b[1;33m\u001b[0m\u001b[0m\n\u001b[0m\u001b[0;32m    809\u001b[0m \u001b[1;33m\u001b[0m\u001b[0m\n\u001b[0;32m    810\u001b[0m         \u001b[1;31m# we maybe be using a tuple to represent multiple dimensions here\u001b[0m\u001b[1;33m\u001b[0m\u001b[1;33m\u001b[0m\u001b[0m\n",
      "\u001b[1;32m/usr/local/lib/python3.4/site-packages/pandas/core/indexing.py\u001b[0m in \u001b[0;36m_getitem_nested_tuple\u001b[1;34m(self, tup)\u001b[0m\n\u001b[0;32m    878\u001b[0m \u001b[1;33m\u001b[0m\u001b[0m\n\u001b[0;32m    879\u001b[0m             \u001b[0mcurrent_ndim\u001b[0m \u001b[1;33m=\u001b[0m \u001b[0mobj\u001b[0m\u001b[1;33m.\u001b[0m\u001b[0mndim\u001b[0m\u001b[1;33m\u001b[0m\u001b[0m\n\u001b[1;32m--> 880\u001b[1;33m             \u001b[0mobj\u001b[0m \u001b[1;33m=\u001b[0m \u001b[0mgetattr\u001b[0m\u001b[1;33m(\u001b[0m\u001b[0mobj\u001b[0m\u001b[1;33m,\u001b[0m \u001b[0mself\u001b[0m\u001b[1;33m.\u001b[0m\u001b[0mname\u001b[0m\u001b[1;33m)\u001b[0m\u001b[1;33m.\u001b[0m\u001b[0m_getitem_axis\u001b[0m\u001b[1;33m(\u001b[0m\u001b[0mkey\u001b[0m\u001b[1;33m,\u001b[0m \u001b[0maxis\u001b[0m\u001b[1;33m=\u001b[0m\u001b[0maxis\u001b[0m\u001b[1;33m)\u001b[0m\u001b[1;33m\u001b[0m\u001b[0m\n\u001b[0m\u001b[0;32m    881\u001b[0m             \u001b[0maxis\u001b[0m \u001b[1;33m+=\u001b[0m \u001b[1;36m1\u001b[0m\u001b[1;33m\u001b[0m\u001b[0m\n\u001b[0;32m    882\u001b[0m \u001b[1;33m\u001b[0m\u001b[0m\n",
      "\u001b[1;32m/usr/local/lib/python3.4/site-packages/pandas/core/indexing.py\u001b[0m in \u001b[0;36m_getitem_axis\u001b[1;34m(self, key, axis)\u001b[0m\n\u001b[0;32m   1331\u001b[0m \u001b[1;33m\u001b[0m\u001b[0m\n\u001b[0;32m   1332\u001b[0m         \u001b[1;31m# fall thru to straight lookup\u001b[0m\u001b[1;33m\u001b[0m\u001b[1;33m\u001b[0m\u001b[0m\n\u001b[1;32m-> 1333\u001b[1;33m         \u001b[0mself\u001b[0m\u001b[1;33m.\u001b[0m\u001b[0m_has_valid_type\u001b[0m\u001b[1;33m(\u001b[0m\u001b[0mkey\u001b[0m\u001b[1;33m,\u001b[0m \u001b[0maxis\u001b[0m\u001b[1;33m)\u001b[0m\u001b[1;33m\u001b[0m\u001b[0m\n\u001b[0m\u001b[0;32m   1334\u001b[0m         \u001b[1;32mreturn\u001b[0m \u001b[0mself\u001b[0m\u001b[1;33m.\u001b[0m\u001b[0m_get_label\u001b[0m\u001b[1;33m(\u001b[0m\u001b[0mkey\u001b[0m\u001b[1;33m,\u001b[0m \u001b[0maxis\u001b[0m\u001b[1;33m=\u001b[0m\u001b[0maxis\u001b[0m\u001b[1;33m)\u001b[0m\u001b[1;33m\u001b[0m\u001b[0m\n\u001b[0;32m   1335\u001b[0m \u001b[1;33m\u001b[0m\u001b[0m\n",
      "\u001b[1;32m/usr/local/lib/python3.4/site-packages/pandas/core/indexing.py\u001b[0m in \u001b[0;36m_has_valid_type\u001b[1;34m(self, key, axis)\u001b[0m\n\u001b[0;32m   1293\u001b[0m                 \u001b[1;32mraise\u001b[0m\u001b[1;33m\u001b[0m\u001b[0m\n\u001b[0;32m   1294\u001b[0m             \u001b[1;32mexcept\u001b[0m\u001b[1;33m:\u001b[0m\u001b[1;33m\u001b[0m\u001b[0m\n\u001b[1;32m-> 1295\u001b[1;33m                 \u001b[0merror\u001b[0m\u001b[1;33m(\u001b[0m\u001b[1;33m)\u001b[0m\u001b[1;33m\u001b[0m\u001b[0m\n\u001b[0m\u001b[0;32m   1296\u001b[0m \u001b[1;33m\u001b[0m\u001b[0m\n\u001b[0;32m   1297\u001b[0m         \u001b[1;32mreturn\u001b[0m \u001b[1;32mTrue\u001b[0m\u001b[1;33m\u001b[0m\u001b[0m\n",
      "\u001b[1;32m/usr/local/lib/python3.4/site-packages/pandas/core/indexing.py\u001b[0m in \u001b[0;36merror\u001b[1;34m()\u001b[0m\n\u001b[0;32m   1280\u001b[0m                         \"cannot use label indexing with a null key\")\n\u001b[0;32m   1281\u001b[0m                 raise KeyError(\"the label [%s] is not in the [%s]\" %\n\u001b[1;32m-> 1282\u001b[1;33m                                (key, self.obj._get_axis_name(axis)))\n\u001b[0m\u001b[0;32m   1283\u001b[0m \u001b[1;33m\u001b[0m\u001b[0m\n\u001b[0;32m   1284\u001b[0m             \u001b[1;32mtry\u001b[0m\u001b[1;33m:\u001b[0m\u001b[1;33m\u001b[0m\u001b[0m\n",
      "\u001b[1;31mKeyError\u001b[0m: 'the label [urae] is not in the [columns]'"
     ]
    }
   ],
   "source": [
    "def unit_norms(vectors):\n",
    "    vecs = np.row_stack(vectors)\n",
    "    unit_norms = np.linalg.norm(vecs,axis=1)\n",
    "    return unit_norms#[list(row) for row in unit_vecs]\n",
    "\n",
    "dfa = pd.DataFrame(index=df.index, columns=\"bow pvdm dbow mowe urae\".split())\n",
    "for col in dfa.columns:\n",
    "    dfa.loc[:,col]=df.loc[:,col]/unit_norms(df.loc[:,col])\n",
    "\n",
    "dfa\n"
   ]
  },
  {
   "cell_type": "code",
   "execution_count": 34,
   "metadata": {
    "collapsed": false
   },
   "outputs": [
    {
     "data": {
      "text/html": [
       "<div>\n",
       "<table border=\"1\" class=\"dataframe\">\n",
       "  <thead>\n",
       "    <tr style=\"text-align: right;\">\n",
       "      <th></th>\n",
       "      <th>pvdm</th>\n",
       "      <th>dbow</th>\n",
       "      <th>mowe</th>\n",
       "      <th>bow</th>\n",
       "      <th>pca_bow</th>\n",
       "      <th>pvdm_bow</th>\n",
       "      <th>dbow_bow</th>\n",
       "    </tr>\n",
       "  </thead>\n",
       "  <tbody>\n",
       "    <tr>\n",
       "      <th>count</th>\n",
       "      <td>274</td>\n",
       "      <td>274</td>\n",
       "      <td>274</td>\n",
       "      <td>274</td>\n",
       "      <td>274</td>\n",
       "      <td>274</td>\n",
       "      <td>274</td>\n",
       "    </tr>\n",
       "    <tr>\n",
       "      <th>mean</th>\n",
       "      <td>1</td>\n",
       "      <td>1</td>\n",
       "      <td>1</td>\n",
       "      <td>1</td>\n",
       "      <td>1</td>\n",
       "      <td>1</td>\n",
       "      <td>1</td>\n",
       "    </tr>\n",
       "    <tr>\n",
       "      <th>std</th>\n",
       "      <td>0</td>\n",
       "      <td>0</td>\n",
       "      <td>0</td>\n",
       "      <td>0</td>\n",
       "      <td>0</td>\n",
       "      <td>0</td>\n",
       "      <td>0</td>\n",
       "    </tr>\n",
       "    <tr>\n",
       "      <th>min</th>\n",
       "      <td>1</td>\n",
       "      <td>1</td>\n",
       "      <td>1</td>\n",
       "      <td>1</td>\n",
       "      <td>1</td>\n",
       "      <td>1</td>\n",
       "      <td>1</td>\n",
       "    </tr>\n",
       "    <tr>\n",
       "      <th>25%</th>\n",
       "      <td>1</td>\n",
       "      <td>1</td>\n",
       "      <td>1</td>\n",
       "      <td>1</td>\n",
       "      <td>1</td>\n",
       "      <td>1</td>\n",
       "      <td>1</td>\n",
       "    </tr>\n",
       "    <tr>\n",
       "      <th>50%</th>\n",
       "      <td>1</td>\n",
       "      <td>1</td>\n",
       "      <td>1</td>\n",
       "      <td>1</td>\n",
       "      <td>1</td>\n",
       "      <td>1</td>\n",
       "      <td>1</td>\n",
       "    </tr>\n",
       "    <tr>\n",
       "      <th>75%</th>\n",
       "      <td>1</td>\n",
       "      <td>1</td>\n",
       "      <td>1</td>\n",
       "      <td>1</td>\n",
       "      <td>1</td>\n",
       "      <td>1</td>\n",
       "      <td>1</td>\n",
       "    </tr>\n",
       "    <tr>\n",
       "      <th>max</th>\n",
       "      <td>1</td>\n",
       "      <td>1</td>\n",
       "      <td>1</td>\n",
       "      <td>1</td>\n",
       "      <td>1</td>\n",
       "      <td>1</td>\n",
       "      <td>1</td>\n",
       "    </tr>\n",
       "  </tbody>\n",
       "</table>\n",
       "</div>"
      ],
      "text/plain": [
       "       pvdm  dbow  mowe  bow  pca_bow  pvdm_bow  dbow_bow\n",
       "count   274   274   274  274      274       274       274\n",
       "mean      1     1     1    1        1         1         1\n",
       "std       0     0     0    0        0         0         0\n",
       "min       1     1     1    1        1         1         1\n",
       "25%       1     1     1    1        1         1         1\n",
       "50%       1     1     1    1        1         1         1\n",
       "75%       1     1     1    1        1         1         1\n",
       "max       1     1     1    1        1         1         1"
      ]
     },
     "execution_count": 34,
     "metadata": {},
     "output_type": "execute_result"
    }
   ],
   "source": [
    "df.groupby(level=0).agg(portion_of_points_on_bounding_box).describe()"
   ]
  },
  {
   "cell_type": "code",
   "execution_count": 35,
   "metadata": {
    "collapsed": false,
    "scrolled": true
   },
   "outputs": [
    {
     "data": {
      "text/html": [
       "<div>\n",
       "<table border=\"1\" class=\"dataframe\">\n",
       "  <thead>\n",
       "    <tr style=\"text-align: right;\">\n",
       "      <th></th>\n",
       "      <th>bow</th>\n",
       "      <th>pvdm</th>\n",
       "      <th>dbow</th>\n",
       "      <th>mowe</th>\n",
       "      <th>urae</th>\n",
       "    </tr>\n",
       "  </thead>\n",
       "  <tbody>\n",
       "    <tr>\n",
       "      <th>count</th>\n",
       "      <td>274</td>\n",
       "      <td>274</td>\n",
       "      <td>274</td>\n",
       "      <td>274</td>\n",
       "      <td>274</td>\n",
       "    </tr>\n",
       "    <tr>\n",
       "      <th>mean</th>\n",
       "      <td>1</td>\n",
       "      <td>1</td>\n",
       "      <td>1</td>\n",
       "      <td>1</td>\n",
       "      <td>0</td>\n",
       "    </tr>\n",
       "    <tr>\n",
       "      <th>std</th>\n",
       "      <td>0</td>\n",
       "      <td>0</td>\n",
       "      <td>0</td>\n",
       "      <td>0</td>\n",
       "      <td>0</td>\n",
       "    </tr>\n",
       "    <tr>\n",
       "      <th>min</th>\n",
       "      <td>1</td>\n",
       "      <td>1</td>\n",
       "      <td>1</td>\n",
       "      <td>1</td>\n",
       "      <td>0</td>\n",
       "    </tr>\n",
       "    <tr>\n",
       "      <th>25%</th>\n",
       "      <td>1</td>\n",
       "      <td>1</td>\n",
       "      <td>1</td>\n",
       "      <td>1</td>\n",
       "      <td>0</td>\n",
       "    </tr>\n",
       "    <tr>\n",
       "      <th>50%</th>\n",
       "      <td>1</td>\n",
       "      <td>1</td>\n",
       "      <td>1</td>\n",
       "      <td>1</td>\n",
       "      <td>0</td>\n",
       "    </tr>\n",
       "    <tr>\n",
       "      <th>75%</th>\n",
       "      <td>1</td>\n",
       "      <td>1</td>\n",
       "      <td>1</td>\n",
       "      <td>1</td>\n",
       "      <td>0</td>\n",
       "    </tr>\n",
       "    <tr>\n",
       "      <th>max</th>\n",
       "      <td>1</td>\n",
       "      <td>1</td>\n",
       "      <td>1</td>\n",
       "      <td>1</td>\n",
       "      <td>0</td>\n",
       "    </tr>\n",
       "  </tbody>\n",
       "</table>\n",
       "</div>"
      ],
      "text/plain": [
       "       bow  pvdm  dbow  mowe  urae\n",
       "count  274   274   274   274   274\n",
       "mean     1     1     1     1     0\n",
       "std      0     0     0     0     0\n",
       "min      1     1     1     1     0\n",
       "25%      1     1     1     1     0\n",
       "50%      1     1     1     1     0\n",
       "75%      1     1     1     1     0\n",
       "max      1     1     1     1     0"
      ]
     },
     "execution_count": 35,
     "metadata": {},
     "output_type": "execute_result"
    }
   ],
   "source": [
    "dfa.groupby(level=0).agg(portion_of_points_on_bounding_box).describe()"
   ]
  },
  {
   "cell_type": "code",
   "execution_count": null,
   "metadata": {
    "collapsed": false,
    "scrolled": true
   },
   "outputs": [],
   "source": [
    "def portion_where_angular_centroid_closer_than_average(group):\n",
    "    c = get_angular_centroid(group)\n",
    "    xs = np.row_stack(group)\n",
    "    distances = distance.pdist(xs, 'cosine')\n",
    "    av_dist = distances.mean()\n",
    "    c_dist = distance.cdist(xs, [c],'cosine')\n",
    "    return (c_dist<av_dist).sum()/len(group)\n",
    "    \n",
    "df.groupby(level=0).agg(portion_where_angular_centroid_closer_than_average).hist()"
   ]
  },
  {
   "cell_type": "code",
   "execution_count": null,
   "metadata": {
    "collapsed": false
   },
   "outputs": [],
   "source": [
    "group = [[1,0],[0,1]]\n",
    "c = get_angular_centroid(group)\n",
    "xs = np.row_stack(group)"
   ]
  },
  {
   "cell_type": "code",
   "execution_count": null,
   "metadata": {
    "collapsed": false
   },
   "outputs": [],
   "source": [
    "distance.pdist(xs, angular_dist)"
   ]
  },
  {
   "cell_type": "code",
   "execution_count": null,
   "metadata": {
    "collapsed": false
   },
   "outputs": [],
   "source": [
    "distance.cdist(xs, [c],'cosine')"
   ]
  },
  {
   "cell_type": "code",
   "execution_count": null,
   "metadata": {
    "collapsed": false
   },
   "outputs": [],
   "source": [
    "len(df.bow[(1,2)])"
   ]
  },
  {
   "cell_type": "code",
   "execution_count": null,
   "metadata": {
    "collapsed": true
   },
   "outputs": [],
   "source": []
  }
 ],
 "metadata": {
  "kernelspec": {
   "display_name": "Python 3",
   "language": "python",
   "name": "python3"
  },
  "language_info": {
   "codemirror_mode": {
    "name": "ipython",
    "version": 3
   },
   "file_extension": ".py",
   "mimetype": "text/x-python",
   "name": "python",
   "nbconvert_exporter": "python",
   "pygments_lexer": "ipython3",
   "version": "3.4.3"
  }
 },
 "nbformat": 4,
 "nbformat_minor": 0
}
