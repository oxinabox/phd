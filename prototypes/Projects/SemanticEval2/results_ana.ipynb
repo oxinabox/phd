{
 "cells": [
  {
   "cell_type": "code",
   "execution_count": 1,
   "metadata": {
    "collapsed": true
   },
   "outputs": [],
   "source": [
    "from ipytables import *"
   ]
  },
  {
   "cell_type": "code",
   "execution_count": 2,
   "metadata": {
    "collapsed": true
   },
   "outputs": [],
   "source": [
    "import pylab as pl\n",
    "%matplotlib inline\n",
    "pl.rcParams['figure.figsize'] = 10, 5\n"
   ]
  },
  {
   "cell_type": "code",
   "execution_count": 3,
   "metadata": {
    "collapsed": false
   },
   "outputs": [],
   "source": [
    "import itertools\n",
    "import os.path\n",
    "import csv\n",
    "import numpy as np\n",
    "import scipy.spatial\n",
    "import pandas as pd\n",
    "pd.options.display.max_rows=20\n",
    "pd.options.display.max_seq_items = 100\n",
    "pd.options.display.max_colwidth = 100"
   ]
  },
  {
   "cell_type": "code",
   "execution_count": 4,
   "metadata": {
    "collapsed": false
   },
   "outputs": [],
   "source": [
    "os.chdir(\"prepared_corpora/opinosis/\")"
   ]
  },
  {
   "cell_type": "code",
   "execution_count": 5,
   "metadata": {
    "collapsed": false
   },
   "outputs": [],
   "source": [
    "def load_pf_group_index():\n",
    "    df = pd.read_csv(\"./phrase_groups.csv\")\n",
    "    df.set_index([\"paraphrase_group_index\", \"phrase_index\"], inplace=True)\n",
    "    return df\n",
    "    "
   ]
  },
  {
   "cell_type": "code",
   "execution_count": 6,
   "metadata": {
    "collapsed": false
   },
   "outputs": [],
   "source": [
    "df = load_pf_group_index()\n",
    "df[\"tokenized_phrases\"]=[line.strip() for line in open(\"tokenized_phrases.txt\",\"r\")]\n"
   ]
  },
  {
   "cell_type": "code",
   "execution_count": 7,
   "metadata": {
    "collapsed": false
   },
   "outputs": [],
   "source": [
    "df[\"pvdm\"]=list(np.loadtxt(\"outVectors_wiki_sentence_concat_pvdm.csv\", delimiter=\",\"))\n",
    "df[\"dbow\"]=list(np.loadtxt(\"outVectors_wiki_sentence_dbow.csv\", delimiter=\",\"))\n",
    "df[\"urae\"]=list(np.loadtxt(\"outVectors_RAE2011.csv\", delimiter=\",\"))\n",
    "df[\"mowe\"]=list(np.loadtxt(\"outVectors_mowe.csv\", delimiter=\",\"))\n",
    "df[\"howe\"]=list(np.loadtxt(\"outVectors_howe.csv\", delimiter=\",\"))\n",
    "df[\"bow\"]=list(np.loadtxt(\"outVectors_bow.csv\", delimiter=\",\"))\n"
   ]
  },
  {
   "cell_type": "code",
   "execution_count": 45,
   "metadata": {
    "collapsed": false
   },
   "outputs": [],
   "source": [
    "from sklearn.decomposition import PCA\n",
    "df[\"pca_bow\"] = list(PCA(300, whiten=False).fit_transform(np.row_stack(list(df.bow))))\n",
    "df[\"pca_howe\"] = list(PCA(300, whiten=False).fit_transform(np.row_stack(list(df.howe))))"
   ]
  },
  {
   "cell_type": "code",
   "execution_count": 15,
   "metadata": {
    "collapsed": false
   },
   "outputs": [],
   "source": [
    "#Just consider paraphrase groups of a certain size\n",
    "#df = df.groupby(level=0).filter(lambda group: len(group)>4)"
   ]
  },
  {
   "cell_type": "code",
   "execution_count": 16,
   "metadata": {
    "collapsed": false
   },
   "outputs": [],
   "source": [
    "\n",
    "#for base in \"pvdm dbow urae\".split():\n",
    "#    df[base+\"_bow\"] = df[base].combine(df.bow, func=lambda a,b: np.concatenate((a,b)))\n",
    "#    df[\"pca_\"+base+\"_bow\"] = list(PCA(300, whiten=False).fit_transform(np.row_stack(df[base+\"_bow\"])))\n"
   ]
  },
  {
   "cell_type": "code",
   "execution_count": 18,
   "metadata": {
    "collapsed": true
   },
   "outputs": [],
   "source": [
    "from sklearn.manifold import t_sne\n",
    "def plot_tsne(column):\n",
    "    tsne = t_sne.TSNE()\n",
    "    Ys = tsne.fit_transform(np.row_stack(df[column]))\n",
    "    \n",
    "    pl.scatter(Ys[:,0],Ys[:,1], c=colors)\n",
    "    pl.title = column\n",
    "    \n",
    "    "
   ]
  },
  {
   "cell_type": "markdown",
   "metadata": {},
   "source": [
    "#Wei's method\n",
    "\n",
    "0. Normalise all embeddings for each model\n",
    "1. within each paraphrase group, for each model, work out average pair-wise cosine similarity (or distance)\n",
    "  1. the ground truth in this case should be horizontal x axis, which means the best values that each model gets should be close to zero (if you use similarity, rather than distance). So the model with an overall trend of low similarity values capture the semantics better.\n",
    "2. treat each model's average similarity/distance for the paraphrase groups as a time series, do a z-normalisation () the time (horizontal) axis is the paraphrase group index, and the y axis is the similarity value after the z-normalisation\n",
    "3. measure the similarity between the four model time series, pair-wise using Euclidean distance to see which model agrees with each other. \n"
   ]
  },
  {
   "cell_type": "code",
   "execution_count": 46,
   "metadata": {
    "collapsed": true
   },
   "outputs": [],
   "source": [
    "import scipy.spatial.distance as distance\n",
    "\n",
    "def angular_dist(a,b):\n",
    "    cos_sim = np.dot(a,b)/(np.linalg.norm(a)*np.linalg.norm(b))\n",
    "    return 1- np.arccos(cos_sim)/np.pi\n"
   ]
  },
  {
   "cell_type": "code",
   "execution_count": 47,
   "metadata": {
    "collapsed": false
   },
   "outputs": [],
   "source": [
    "def get_std(series):\n",
    "    xs=np.row_stack(series)\n",
    "    std_dev = xs.std(axis=0)\n",
    "    std_dev[std_dev==0.0]=1.0\n",
    "    return list(std_dev)\n",
    "def get_mean(series):\n",
    "    xs = np.row_stack(series)\n",
    "    return list(xs.mean(axis=0))\n",
    "\n",
    "dfs = (df.iloc[:,1:]-df.iloc[:,1:].apply(get_mean))/df.iloc[:,1:].apply(get_std)\n",
    "\n"
   ]
  },
  {
   "cell_type": "code",
   "execution_count": 48,
   "metadata": {
    "collapsed": false,
    "scrolled": true
   },
   "outputs": [
    {
     "data": {
      "text/plain": [
       "-11889.387642390826"
      ]
     },
     "execution_count": 48,
     "metadata": {},
     "output_type": "execute_result"
    }
   ],
   "source": [
    "np.row_stack( dfs.howe.loc[130]).sum()\n"
   ]
  },
  {
   "cell_type": "code",
   "execution_count": 49,
   "metadata": {
    "collapsed": false
   },
   "outputs": [
    {
     "data": {
      "text/plain": [
       "paraphrase_group_index\n",
       "24    NaN\n",
       "130   NaN\n",
       "Name: howe, dtype: float64"
      ]
     },
     "execution_count": 49,
     "metadata": {},
     "output_type": "execute_result"
    }
   ],
   "source": [
    "group_sims.howe[group_sims.howe.isnull()]"
   ]
  },
  {
   "cell_type": "code",
   "execution_count": 50,
   "metadata": {
    "collapsed": false
   },
   "outputs": [
    {
     "data": {
      "text/html": [
       "<div>\n",
       "<table border=\"1\" class=\"dataframe\">\n",
       "  <thead>\n",
       "    <tr style=\"text-align: right;\">\n",
       "      <th></th>\n",
       "      <th>pvdm</th>\n",
       "      <th>dbow</th>\n",
       "      <th>urae</th>\n",
       "      <th>mowe</th>\n",
       "      <th>howe</th>\n",
       "      <th>bow</th>\n",
       "      <th>pca_bow</th>\n",
       "      <th>pca_howe</th>\n",
       "    </tr>\n",
       "  </thead>\n",
       "  <tbody>\n",
       "    <tr>\n",
       "      <th>count</th>\n",
       "      <td>163.000000</td>\n",
       "      <td>163.000000</td>\n",
       "      <td>163.000000</td>\n",
       "      <td>163.000000</td>\n",
       "      <td>161.000000</td>\n",
       "      <td>163.000000</td>\n",
       "      <td>163.000000</td>\n",
       "      <td>161.000000</td>\n",
       "    </tr>\n",
       "    <tr>\n",
       "      <th>mean</th>\n",
       "      <td>0.587791</td>\n",
       "      <td>0.576253</td>\n",
       "      <td>0.548110</td>\n",
       "      <td>0.685002</td>\n",
       "      <td>0.649046</td>\n",
       "      <td>0.564433</td>\n",
       "      <td>0.571260</td>\n",
       "      <td>0.560037</td>\n",
       "    </tr>\n",
       "    <tr>\n",
       "      <th>std</th>\n",
       "      <td>0.121994</td>\n",
       "      <td>0.056714</td>\n",
       "      <td>0.098365</td>\n",
       "      <td>0.067131</td>\n",
       "      <td>0.088982</td>\n",
       "      <td>0.065802</td>\n",
       "      <td>0.086137</td>\n",
       "      <td>0.068292</td>\n",
       "    </tr>\n",
       "    <tr>\n",
       "      <th>min</th>\n",
       "      <td>0.227808</td>\n",
       "      <td>0.421289</td>\n",
       "      <td>0.379853</td>\n",
       "      <td>0.531289</td>\n",
       "      <td>0.432640</td>\n",
       "      <td>0.497569</td>\n",
       "      <td>0.477260</td>\n",
       "      <td>0.489103</td>\n",
       "    </tr>\n",
       "    <tr>\n",
       "      <th>25%</th>\n",
       "      <td>0.510333</td>\n",
       "      <td>0.539696</td>\n",
       "      <td>0.491540</td>\n",
       "      <td>0.639814</td>\n",
       "      <td>0.586842</td>\n",
       "      <td>0.518731</td>\n",
       "      <td>0.511911</td>\n",
       "      <td>0.515282</td>\n",
       "    </tr>\n",
       "    <tr>\n",
       "      <th>50%</th>\n",
       "      <td>0.590835</td>\n",
       "      <td>0.574679</td>\n",
       "      <td>0.524284</td>\n",
       "      <td>0.680740</td>\n",
       "      <td>0.639509</td>\n",
       "      <td>0.543197</td>\n",
       "      <td>0.543580</td>\n",
       "      <td>0.534538</td>\n",
       "    </tr>\n",
       "    <tr>\n",
       "      <th>75%</th>\n",
       "      <td>0.664307</td>\n",
       "      <td>0.610007</td>\n",
       "      <td>0.566776</td>\n",
       "      <td>0.722901</td>\n",
       "      <td>0.704621</td>\n",
       "      <td>0.584322</td>\n",
       "      <td>0.595412</td>\n",
       "      <td>0.580697</td>\n",
       "    </tr>\n",
       "    <tr>\n",
       "      <th>max</th>\n",
       "      <td>0.884048</td>\n",
       "      <td>0.791796</td>\n",
       "      <td>0.907306</td>\n",
       "      <td>0.909853</td>\n",
       "      <td>0.915776</td>\n",
       "      <td>0.822428</td>\n",
       "      <td>0.928154</td>\n",
       "      <td>0.818714</td>\n",
       "    </tr>\n",
       "  </tbody>\n",
       "</table>\n",
       "</div>"
      ],
      "text/plain": [
       "             pvdm        dbow        urae        mowe        howe         bow  \\\n",
       "count  163.000000  163.000000  163.000000  163.000000  161.000000  163.000000   \n",
       "mean     0.587791    0.576253    0.548110    0.685002    0.649046    0.564433   \n",
       "std      0.121994    0.056714    0.098365    0.067131    0.088982    0.065802   \n",
       "min      0.227808    0.421289    0.379853    0.531289    0.432640    0.497569   \n",
       "25%      0.510333    0.539696    0.491540    0.639814    0.586842    0.518731   \n",
       "50%      0.590835    0.574679    0.524284    0.680740    0.639509    0.543197   \n",
       "75%      0.664307    0.610007    0.566776    0.722901    0.704621    0.584322   \n",
       "max      0.884048    0.791796    0.907306    0.909853    0.915776    0.822428   \n",
       "\n",
       "          pca_bow    pca_howe  \n",
       "count  163.000000  161.000000  \n",
       "mean     0.571260    0.560037  \n",
       "std      0.086137    0.068292  \n",
       "min      0.477260    0.489103  \n",
       "25%      0.511911    0.515282  \n",
       "50%      0.543580    0.534538  \n",
       "75%      0.595412    0.580697  \n",
       "max      0.928154    0.818714  "
      ]
     },
     "execution_count": 50,
     "metadata": {},
     "output_type": "execute_result"
    },
    {
     "data": {
      "image/png": "[encoded data removed]",
      "text/plain": [
       "<matplotlib.figure.Figure at 0x7ff84de530b8>"
      ]
     },
     "metadata": {},
     "output_type": "display_data"
    }
   ],
   "source": [
    "def get_group_sim(group):\n",
    "    xs = np.row_stack(group)\n",
    "    #cosine_sim = (1-distance.pdist(xs, 'cosine'))\n",
    "    dist = distance.pdist(xs,angular_dist)\n",
    "    return dist.mean()\n",
    "\n",
    "group_sims = dfs.groupby(level=0).agg(get_group_sim)\n",
    "group_sims.hist(bins=np.linspace(0,1,50), sharex=True, sharey=True)\n",
    "group_sims.describe()"
   ]
  },
  {
   "cell_type": "code",
   "execution_count": 51,
   "metadata": {
    "collapsed": false
   },
   "outputs": [
    {
     "name": "stdout",
     "output_type": "stream",
     "text": [
      "               pvdm       dbow       urae       mowe  howe        bow  \\\n",
      "pvdm       0.000000  13.868668  15.374598  14.071826   NaN  15.051000   \n",
      "dbow      13.868668   0.000000  15.492225  11.342000   NaN  13.249645   \n",
      "urae      15.374598  15.492225   0.000000  14.701739   NaN  15.189195   \n",
      "mowe      14.071826  11.342000  14.701739   0.000000   NaN   9.359323   \n",
      "howe            NaN        NaN        NaN        NaN     0        NaN   \n",
      "bow       15.051000  13.249645  15.189195   9.359323   NaN   0.000000   \n",
      "pca_bow   14.154546  12.171930  14.858665   9.621106   NaN   7.982721   \n",
      "pca_howe        NaN        NaN        NaN        NaN   NaN        NaN   \n",
      "\n",
      "            pca_bow  pca_howe  \n",
      "pvdm      14.154546       NaN  \n",
      "dbow      12.171930       NaN  \n",
      "urae      14.858665       NaN  \n",
      "mowe       9.621106       NaN  \n",
      "howe            NaN       NaN  \n",
      "bow        7.982721       NaN  \n",
      "pca_bow    0.000000       NaN  \n",
      "pca_howe        NaN         0  \n"
     ]
    },
    {
     "data": {
      "image/png": "[encoded data removed]",
      "text/plain": [
       "<matplotlib.figure.Figure at 0x7ff884d1aac8>"
      ]
     },
     "metadata": {},
     "output_type": "display_data"
    }
   ],
   "source": [
    "import matplotlib.cm as cm\n",
    "def plot_matrix(cm, labels, cmap=cm.Blues):\n",
    "    pl.imshow(cm, interpolation='nearest', cmap=cmap)\n",
    "    pl.colorbar()\n",
    "    tick_marks = np.arange(len(labels))\n",
    "    pl.xticks(tick_marks, labels, rotation=90)\n",
    "    pl.yticks(tick_marks, labels)\n",
    "    pl.tight_layout()\n",
    "    \n",
    "def get_interrater_e_distance(ratings):\n",
    "    rating_dist = distance.pdist(n_group_sims.as_matrix().T)\n",
    "    return distance.squareform(rating_dist)\n",
    "\n",
    "def z_norm(col):\n",
    "    return (col-col.mean())/col.std()\n",
    "\n",
    "n_group_sims = group_sims.apply(z_norm)\n",
    "\n",
    "\n",
    "interrater_e_distance = get_interrater_e_distance(n_group_sims)\n",
    "print(pd.DataFrame( interrater_e_distance, columns =n_group_sims.columns, index=n_group_sims.columns))\n",
    "      \n",
    "plot_matrix(interrater_e_distance, n_group_sims.columns)"
   ]
  },
  {
   "cell_type": "code",
   "execution_count": 14,
   "metadata": {
    "collapsed": false
   },
   "outputs": [],
   "source": [
    "def get_centroid(group):\n",
    "    xs = np.row_stack(group)\n",
    "    return list(xs.mean(axis=0)) #Euclidean\n",
    "\n",
    "\n",
    "\n",
    "def get_medoid(group):\n",
    "    points=np.row_stack(group)\n",
    "    ingroup_index = distance.cdist(points,points, 'cosine').sum(axis=1).argmin()\n",
    "    return list(points[ingroup_index,:])\n",
    "\n",
    "\n",
    "def get_angular_centroid(group):\n",
    "    # the angular centroid is a line, here we choes an arbitairy point on it.\n",
    "    # Dicussion of how normalising and adding wroks is at http://math.stackexchange.com/a/925659/1505\n",
    "    points = np.row_stack(group)\n",
    "    unit_points = points/np.linalg.norm(points,axis=1)[:,None]  #Normalise ot unit vectors\n",
    "    return list(np.sum(unit_points,axis=0))\n",
    "    \n",
    "\n",
    "def get_group_medoids(series):\n",
    "    return series.groupby(level=0).agg(get_medoid)\n",
    "\n",
    "\n",
    "def get_group_centroids(series):\n",
    "    return series.groupby(level=0).agg(get_centroid)\n"
   ]
  },
  {
   "cell_type": "code",
   "execution_count": 52,
   "metadata": {
    "collapsed": false
   },
   "outputs": [
    {
     "name": "stdout",
     "output_type": "stream",
     "text": [
      "pvdm 8.74738967341\n",
      "dbow 3.19232483045\n",
      "urae 3.32528587479\n",
      "mowe 2.96614747269\n",
      "howe 2.28540671027\n",
      "bow 3.35340554402\n",
      "pca_bow 3.81762874803\n",
      "pca_howe 6.97912916249\n"
     ]
    }
   ],
   "source": [
    "\n",
    "#Davies-Bouldin Index \n",
    "#Modified to use angular centroid, and angular distance\n",
    "\n",
    "def davied_bouldin_index(series):\n",
    "\n",
    "    def av_dist_to_centroid(group):\n",
    "        xs = np.row_stack(group)\n",
    "        c = get_angular_centroid(group)\n",
    "        return distance.cdist(xs,[c], angular_dist).mean()\n",
    "\n",
    "    group_centroids = get_group_centroids(series)\n",
    "    group_spreads = series.groupby(level=0).agg(av_dist_to_centroid)\n",
    "    \n",
    "    n_groups = len(group_spreads)\n",
    "    \n",
    "    total = 0.0\n",
    "    for ii in range(n_groups):\n",
    "        greatest = -1*np.Inf\n",
    "        for jj in range(n_groups):\n",
    "            if ii==jj:\n",
    "                continue\n",
    "\n",
    "            numer = group_spreads.iloc[ii] + group_spreads.iloc[jj] \n",
    "            denom = angular_dist(group_centroids.iloc[ii],group_centroids.iloc[jj]) #Euclidean\n",
    "            value = numer/denom\n",
    "            greatest = max(greatest, value)\n",
    "        total+= greatest\n",
    "    return total/n_groups\n",
    "\n",
    "            \n",
    "for column in df.columns[1:]:\n",
    "    print(column + \" \" + str(davied_bouldin_index(df.loc[:,column])))"
   ]
  },
  {
   "cell_type": "code",
   "execution_count": 53,
   "metadata": {
    "collapsed": true
   },
   "outputs": [],
   "source": [
    "def get_true_classes(series):\n",
    "    return np.asarray([ii[0] for ii in series.index])"
   ]
  },
  {
   "cell_type": "code",
   "execution_count": 54,
   "metadata": {
    "collapsed": false,
    "scrolled": true
   },
   "outputs": [
    {
     "ename": "KeyboardInterrupt",
     "evalue": "",
     "output_type": "error",
     "traceback": [
      "\u001b[1;31m---------------------------------------------------------------------------\u001b[0m",
      "\u001b[1;31mTypeError\u001b[0m                                 Traceback (most recent call last)",
      "\u001b[1;32m/usr/local/lib/python3.4/site-packages/pandas/core/groupby.py\u001b[0m in \u001b[0;36magg_series\u001b[1;34m(self, obj, func)\u001b[0m\n\u001b[0;32m   1583\u001b[0m         \u001b[1;32mtry\u001b[0m\u001b[1;33m:\u001b[0m\u001b[1;33m\u001b[0m\u001b[0m\n\u001b[1;32m-> 1584\u001b[1;33m             \u001b[1;32mreturn\u001b[0m \u001b[0mself\u001b[0m\u001b[1;33m.\u001b[0m\u001b[0m_aggregate_series_fast\u001b[0m\u001b[1;33m(\u001b[0m\u001b[0mobj\u001b[0m\u001b[1;33m,\u001b[0m \u001b[0mfunc\u001b[0m\u001b[1;33m)\u001b[0m\u001b[1;33m\u001b[0m\u001b[0m\n\u001b[0m\u001b[0;32m   1585\u001b[0m         \u001b[1;32mexcept\u001b[0m \u001b[0mException\u001b[0m\u001b[1;33m:\u001b[0m\u001b[1;33m\u001b[0m\u001b[0m\n",
      "\u001b[1;32m/usr/local/lib/python3.4/site-packages/pandas/core/groupby.py\u001b[0m in \u001b[0;36m_aggregate_series_fast\u001b[1;34m(self, obj, func)\u001b[0m\n\u001b[0;32m   1591\u001b[0m         \u001b[1;32mif\u001b[0m \u001b[0mobj\u001b[0m\u001b[1;33m.\u001b[0m\u001b[0mindex\u001b[0m\u001b[1;33m.\u001b[0m\u001b[0m_has_complex_internals\u001b[0m\u001b[1;33m:\u001b[0m\u001b[1;33m\u001b[0m\u001b[0m\n\u001b[1;32m-> 1592\u001b[1;33m             \u001b[1;32mraise\u001b[0m \u001b[0mTypeError\u001b[0m\u001b[1;33m(\u001b[0m\u001b[1;34m'Incompatible index for Cython grouper'\u001b[0m\u001b[1;33m)\u001b[0m\u001b[1;33m\u001b[0m\u001b[0m\n\u001b[0m\u001b[0;32m   1593\u001b[0m \u001b[1;33m\u001b[0m\u001b[0m\n",
      "\u001b[1;31mTypeError\u001b[0m: Incompatible index for Cython grouper",
      "\nDuring handling of the above exception, another exception occurred:\n",
      "\u001b[1;31mKeyboardInterrupt\u001b[0m                         Traceback (most recent call last)",
      "\u001b[1;32m<ipython-input-54-e32acf367d59>\u001b[0m in \u001b[0;36m<module>\u001b[1;34m()\u001b[0m\n\u001b[0;32m     37\u001b[0m \u001b[0mrecluster_results\u001b[0m \u001b[1;33m=\u001b[0m \u001b[0mpd\u001b[0m\u001b[1;33m.\u001b[0m\u001b[0mDataFrame\u001b[0m\u001b[1;33m(\u001b[0m\u001b[1;33m)\u001b[0m\u001b[1;33m\u001b[0m\u001b[0m\n\u001b[0;32m     38\u001b[0m \u001b[1;32mfor\u001b[0m \u001b[0mcolumn\u001b[0m \u001b[1;32min\u001b[0m \u001b[0mdf\u001b[0m\u001b[1;33m.\u001b[0m\u001b[0mcolumns\u001b[0m\u001b[1;33m[\u001b[0m\u001b[1;36m1\u001b[0m\u001b[1;33m:\u001b[0m\u001b[1;33m]\u001b[0m\u001b[1;33m:\u001b[0m\u001b[1;33m\u001b[0m\u001b[0m\n\u001b[1;32m---> 39\u001b[1;33m     \u001b[0mrecluster_results\u001b[0m\u001b[1;33m[\u001b[0m\u001b[0mcolumn\u001b[0m\u001b[1;33m]\u001b[0m \u001b[1;33m=\u001b[0m \u001b[0mrecluster_success\u001b[0m\u001b[1;33m(\u001b[0m\u001b[0mdf\u001b[0m\u001b[1;33m[\u001b[0m\u001b[0mcolumn\u001b[0m\u001b[1;33m]\u001b[0m\u001b[1;33m)\u001b[0m\u001b[1;33m\u001b[0m\u001b[0m\n\u001b[0m\u001b[0;32m     40\u001b[0m \u001b[1;33m\u001b[0m\u001b[0m\n\u001b[0;32m     41\u001b[0m \u001b[0mrecluster_results\u001b[0m\u001b[1;33m\u001b[0m\u001b[0m\n",
      "\u001b[1;32m<ipython-input-54-e32acf367d59>\u001b[0m in \u001b[0;36mrecluster_success\u001b[1;34m(series)\u001b[0m\n\u001b[0;32m     25\u001b[0m         \u001b[1;32mreturn\u001b[0m \u001b[1;33m(\u001b[0m\u001b[0mclasses\u001b[0m \u001b[1;33m==\u001b[0m \u001b[0mtrue_classes\u001b[0m\u001b[1;33m)\u001b[0m\u001b[1;33m.\u001b[0m\u001b[0msum\u001b[0m\u001b[1;33m(\u001b[0m\u001b[1;33m)\u001b[0m\u001b[1;33m/\u001b[0m\u001b[0mlen\u001b[0m\u001b[1;33m(\u001b[0m\u001b[0mtrue_classes\u001b[0m\u001b[1;33m)\u001b[0m\u001b[1;33m\u001b[0m\u001b[0m\n\u001b[0;32m     26\u001b[0m \u001b[1;33m\u001b[0m\u001b[0m\n\u001b[1;32m---> 27\u001b[1;33m     \u001b[0mclasses\u001b[0m \u001b[1;33m=\u001b[0m \u001b[0mget_classes_by_similarity_to_true_classes\u001b[0m\u001b[1;33m(\u001b[0m\u001b[0mseries\u001b[0m\u001b[1;33m)\u001b[0m\u001b[1;33m\u001b[0m\u001b[0m\n\u001b[0m\u001b[0;32m     28\u001b[0m     \u001b[0mgroup_closeness_acc\u001b[0m \u001b[1;33m=\u001b[0m \u001b[1;33m(\u001b[0m\u001b[0mclasses\u001b[0m \u001b[1;33m==\u001b[0m \u001b[0mtrue_classes\u001b[0m\u001b[1;33m)\u001b[0m\u001b[1;33m.\u001b[0m\u001b[0msum\u001b[0m\u001b[1;33m(\u001b[0m\u001b[1;33m)\u001b[0m\u001b[1;33m/\u001b[0m\u001b[0mlen\u001b[0m\u001b[1;33m(\u001b[0m\u001b[0mtrue_classes\u001b[0m\u001b[1;33m)\u001b[0m\u001b[1;33m\u001b[0m\u001b[0m\n\u001b[0;32m     29\u001b[0m \u001b[1;33m\u001b[0m\u001b[0m\n",
      "\u001b[1;32m<ipython-input-54-e32acf367d59>\u001b[0m in \u001b[0;36mget_classes_by_similarity_to_true_classes\u001b[1;34m(series)\u001b[0m\n\u001b[0;32m     13\u001b[0m \u001b[1;33m\u001b[0m\u001b[0m\n\u001b[0;32m     14\u001b[0m     return np.asarray([series.groupby(level=0).agg(lambda group: av_dist_to_group(point, group)).idxmin()\n\u001b[1;32m---> 15\u001b[1;33m                for point in series])\n\u001b[0m\u001b[0;32m     16\u001b[0m \u001b[1;33m\u001b[0m\u001b[0m\n\u001b[0;32m     17\u001b[0m \u001b[1;33m\u001b[0m\u001b[0m\n",
      "\u001b[1;32m<ipython-input-54-e32acf367d59>\u001b[0m in \u001b[0;36m<listcomp>\u001b[1;34m(.0)\u001b[0m\n\u001b[0;32m     13\u001b[0m \u001b[1;33m\u001b[0m\u001b[0m\n\u001b[0;32m     14\u001b[0m     return np.asarray([series.groupby(level=0).agg(lambda group: av_dist_to_group(point, group)).idxmin()\n\u001b[1;32m---> 15\u001b[1;33m                for point in series])\n\u001b[0m\u001b[0;32m     16\u001b[0m \u001b[1;33m\u001b[0m\u001b[0m\n\u001b[0;32m     17\u001b[0m \u001b[1;33m\u001b[0m\u001b[0m\n",
      "\u001b[1;32m/usr/local/lib/python3.4/site-packages/pandas/core/groupby.py\u001b[0m in \u001b[0;36magg\u001b[1;34m(self, func, *args, **kwargs)\u001b[0m\n\u001b[0;32m    683\u001b[0m     \u001b[1;33m@\u001b[0m\u001b[0mAppender\u001b[0m\u001b[1;33m(\u001b[0m\u001b[0m_agg_doc\u001b[0m\u001b[1;33m)\u001b[0m\u001b[1;33m\u001b[0m\u001b[0m\n\u001b[0;32m    684\u001b[0m     \u001b[1;32mdef\u001b[0m \u001b[0magg\u001b[0m\u001b[1;33m(\u001b[0m\u001b[0mself\u001b[0m\u001b[1;33m,\u001b[0m \u001b[0mfunc\u001b[0m\u001b[1;33m,\u001b[0m \u001b[1;33m*\u001b[0m\u001b[0margs\u001b[0m\u001b[1;33m,\u001b[0m \u001b[1;33m**\u001b[0m\u001b[0mkwargs\u001b[0m\u001b[1;33m)\u001b[0m\u001b[1;33m:\u001b[0m\u001b[1;33m\u001b[0m\u001b[0m\n\u001b[1;32m--> 685\u001b[1;33m         \u001b[1;32mreturn\u001b[0m \u001b[0mself\u001b[0m\u001b[1;33m.\u001b[0m\u001b[0maggregate\u001b[0m\u001b[1;33m(\u001b[0m\u001b[0mfunc\u001b[0m\u001b[1;33m,\u001b[0m \u001b[1;33m*\u001b[0m\u001b[0margs\u001b[0m\u001b[1;33m,\u001b[0m \u001b[1;33m**\u001b[0m\u001b[0mkwargs\u001b[0m\u001b[1;33m)\u001b[0m\u001b[1;33m\u001b[0m\u001b[0m\n\u001b[0m\u001b[0;32m    686\u001b[0m \u001b[1;33m\u001b[0m\u001b[0m\n\u001b[0;32m    687\u001b[0m     \u001b[1;32mdef\u001b[0m \u001b[0m_iterate_slices\u001b[0m\u001b[1;33m(\u001b[0m\u001b[0mself\u001b[0m\u001b[1;33m)\u001b[0m\u001b[1;33m:\u001b[0m\u001b[1;33m\u001b[0m\u001b[0m\n",
      "\u001b[1;32m/usr/local/lib/python3.4/site-packages/pandas/core/groupby.py\u001b[0m in \u001b[0;36maggregate\u001b[1;34m(self, func_or_funcs, *args, **kwargs)\u001b[0m\n\u001b[0;32m   2320\u001b[0m \u001b[1;33m\u001b[0m\u001b[0m\n\u001b[0;32m   2321\u001b[0m             \u001b[1;32mtry\u001b[0m\u001b[1;33m:\u001b[0m\u001b[1;33m\u001b[0m\u001b[0m\n\u001b[1;32m-> 2322\u001b[1;33m                 \u001b[1;32mreturn\u001b[0m \u001b[0mself\u001b[0m\u001b[1;33m.\u001b[0m\u001b[0m_python_agg_general\u001b[0m\u001b[1;33m(\u001b[0m\u001b[0mfunc_or_funcs\u001b[0m\u001b[1;33m,\u001b[0m \u001b[1;33m*\u001b[0m\u001b[0margs\u001b[0m\u001b[1;33m,\u001b[0m \u001b[1;33m**\u001b[0m\u001b[0mkwargs\u001b[0m\u001b[1;33m)\u001b[0m\u001b[1;33m\u001b[0m\u001b[0m\n\u001b[0m\u001b[0;32m   2323\u001b[0m             \u001b[1;32mexcept\u001b[0m \u001b[0mException\u001b[0m\u001b[1;33m:\u001b[0m\u001b[1;33m\u001b[0m\u001b[0m\n\u001b[0;32m   2324\u001b[0m                 \u001b[0mresult\u001b[0m \u001b[1;33m=\u001b[0m \u001b[0mself\u001b[0m\u001b[1;33m.\u001b[0m\u001b[0m_aggregate_named\u001b[0m\u001b[1;33m(\u001b[0m\u001b[0mfunc_or_funcs\u001b[0m\u001b[1;33m,\u001b[0m \u001b[1;33m*\u001b[0m\u001b[0margs\u001b[0m\u001b[1;33m,\u001b[0m \u001b[1;33m**\u001b[0m\u001b[0mkwargs\u001b[0m\u001b[1;33m)\u001b[0m\u001b[1;33m\u001b[0m\u001b[0m\n",
      "\u001b[1;32m/usr/local/lib/python3.4/site-packages/pandas/core/groupby.py\u001b[0m in \u001b[0;36m_python_agg_general\u001b[1;34m(self, func, *args, **kwargs)\u001b[0m\n\u001b[0;32m   1113\u001b[0m         \u001b[1;32mfor\u001b[0m \u001b[0mname\u001b[0m\u001b[1;33m,\u001b[0m \u001b[0mobj\u001b[0m \u001b[1;32min\u001b[0m \u001b[0mself\u001b[0m\u001b[1;33m.\u001b[0m\u001b[0m_iterate_slices\u001b[0m\u001b[1;33m(\u001b[0m\u001b[1;33m)\u001b[0m\u001b[1;33m:\u001b[0m\u001b[1;33m\u001b[0m\u001b[0m\n\u001b[0;32m   1114\u001b[0m             \u001b[1;32mtry\u001b[0m\u001b[1;33m:\u001b[0m\u001b[1;33m\u001b[0m\u001b[0m\n\u001b[1;32m-> 1115\u001b[1;33m                 \u001b[0mresult\u001b[0m\u001b[1;33m,\u001b[0m \u001b[0mcounts\u001b[0m \u001b[1;33m=\u001b[0m \u001b[0mself\u001b[0m\u001b[1;33m.\u001b[0m\u001b[0mgrouper\u001b[0m\u001b[1;33m.\u001b[0m\u001b[0magg_series\u001b[0m\u001b[1;33m(\u001b[0m\u001b[0mobj\u001b[0m\u001b[1;33m,\u001b[0m \u001b[0mf\u001b[0m\u001b[1;33m)\u001b[0m\u001b[1;33m\u001b[0m\u001b[0m\n\u001b[0m\u001b[0;32m   1116\u001b[0m                 \u001b[0moutput\u001b[0m\u001b[1;33m[\u001b[0m\u001b[0mname\u001b[0m\u001b[1;33m]\u001b[0m \u001b[1;33m=\u001b[0m \u001b[0mself\u001b[0m\u001b[1;33m.\u001b[0m\u001b[0m_try_cast\u001b[0m\u001b[1;33m(\u001b[0m\u001b[0mresult\u001b[0m\u001b[1;33m,\u001b[0m \u001b[0mobj\u001b[0m\u001b[1;33m)\u001b[0m\u001b[1;33m\u001b[0m\u001b[0m\n\u001b[0;32m   1117\u001b[0m             \u001b[1;32mexcept\u001b[0m \u001b[0mTypeError\u001b[0m\u001b[1;33m:\u001b[0m\u001b[1;33m\u001b[0m\u001b[0m\n",
      "\u001b[1;32m/usr/local/lib/python3.4/site-packages/pandas/core/groupby.py\u001b[0m in \u001b[0;36magg_series\u001b[1;34m(self, obj, func)\u001b[0m\n\u001b[0;32m   1584\u001b[0m             \u001b[1;32mreturn\u001b[0m \u001b[0mself\u001b[0m\u001b[1;33m.\u001b[0m\u001b[0m_aggregate_series_fast\u001b[0m\u001b[1;33m(\u001b[0m\u001b[0mobj\u001b[0m\u001b[1;33m,\u001b[0m \u001b[0mfunc\u001b[0m\u001b[1;33m)\u001b[0m\u001b[1;33m\u001b[0m\u001b[0m\n\u001b[0;32m   1585\u001b[0m         \u001b[1;32mexcept\u001b[0m \u001b[0mException\u001b[0m\u001b[1;33m:\u001b[0m\u001b[1;33m\u001b[0m\u001b[0m\n\u001b[1;32m-> 1586\u001b[1;33m             \u001b[1;32mreturn\u001b[0m \u001b[0mself\u001b[0m\u001b[1;33m.\u001b[0m\u001b[0m_aggregate_series_pure_python\u001b[0m\u001b[1;33m(\u001b[0m\u001b[0mobj\u001b[0m\u001b[1;33m,\u001b[0m \u001b[0mfunc\u001b[0m\u001b[1;33m)\u001b[0m\u001b[1;33m\u001b[0m\u001b[0m\n\u001b[0m\u001b[0;32m   1587\u001b[0m \u001b[1;33m\u001b[0m\u001b[0m\n\u001b[0;32m   1588\u001b[0m     \u001b[1;32mdef\u001b[0m \u001b[0m_aggregate_series_fast\u001b[0m\u001b[1;33m(\u001b[0m\u001b[0mself\u001b[0m\u001b[1;33m,\u001b[0m \u001b[0mobj\u001b[0m\u001b[1;33m,\u001b[0m \u001b[0mfunc\u001b[0m\u001b[1;33m)\u001b[0m\u001b[1;33m:\u001b[0m\u001b[1;33m\u001b[0m\u001b[0m\n",
      "\u001b[1;32m/usr/local/lib/python3.4/site-packages/pandas/core/groupby.py\u001b[0m in \u001b[0;36m_aggregate_series_pure_python\u001b[1;34m(self, obj, func)\u001b[0m\n\u001b[0;32m   1613\u001b[0m         \u001b[0msplitter\u001b[0m \u001b[1;33m=\u001b[0m \u001b[0mget_splitter\u001b[0m\u001b[1;33m(\u001b[0m\u001b[0mobj\u001b[0m\u001b[1;33m,\u001b[0m \u001b[0mgroup_index\u001b[0m\u001b[1;33m,\u001b[0m \u001b[0mngroups\u001b[0m\u001b[1;33m,\u001b[0m \u001b[0maxis\u001b[0m\u001b[1;33m=\u001b[0m\u001b[0mself\u001b[0m\u001b[1;33m.\u001b[0m\u001b[0maxis\u001b[0m\u001b[1;33m)\u001b[0m\u001b[1;33m\u001b[0m\u001b[0m\n\u001b[0;32m   1614\u001b[0m \u001b[1;33m\u001b[0m\u001b[0m\n\u001b[1;32m-> 1615\u001b[1;33m         \u001b[1;32mfor\u001b[0m \u001b[0mlabel\u001b[0m\u001b[1;33m,\u001b[0m \u001b[0mgroup\u001b[0m \u001b[1;32min\u001b[0m \u001b[0msplitter\u001b[0m\u001b[1;33m:\u001b[0m\u001b[1;33m\u001b[0m\u001b[0m\n\u001b[0m\u001b[0;32m   1616\u001b[0m             \u001b[0mres\u001b[0m \u001b[1;33m=\u001b[0m \u001b[0mfunc\u001b[0m\u001b[1;33m(\u001b[0m\u001b[0mgroup\u001b[0m\u001b[1;33m)\u001b[0m\u001b[1;33m\u001b[0m\u001b[0m\n\u001b[0;32m   1617\u001b[0m             \u001b[1;32mif\u001b[0m \u001b[0mresult\u001b[0m \u001b[1;32mis\u001b[0m \u001b[1;32mNone\u001b[0m\u001b[1;33m:\u001b[0m\u001b[1;33m\u001b[0m\u001b[0m\n",
      "\u001b[1;32m/usr/local/lib/python3.4/site-packages/pandas/core/groupby.py\u001b[0m in \u001b[0;36m__iter__\u001b[1;34m(self)\u001b[0m\n\u001b[0;32m   3431\u001b[0m             \u001b[1;31m#     raise AssertionError('Start %s must be less than end %s'\u001b[0m\u001b[1;33m\u001b[0m\u001b[1;33m\u001b[0m\u001b[0m\n\u001b[0;32m   3432\u001b[0m             \u001b[1;31m#                          % (str(start), str(end)))\u001b[0m\u001b[1;33m\u001b[0m\u001b[1;33m\u001b[0m\u001b[0m\n\u001b[1;32m-> 3433\u001b[1;33m             \u001b[1;32myield\u001b[0m \u001b[0mi\u001b[0m\u001b[1;33m,\u001b[0m \u001b[0mself\u001b[0m\u001b[1;33m.\u001b[0m\u001b[0m_chop\u001b[0m\u001b[1;33m(\u001b[0m\u001b[0msdata\u001b[0m\u001b[1;33m,\u001b[0m \u001b[0mslice\u001b[0m\u001b[1;33m(\u001b[0m\u001b[0mstart\u001b[0m\u001b[1;33m,\u001b[0m \u001b[0mend\u001b[0m\u001b[1;33m)\u001b[0m\u001b[1;33m)\u001b[0m\u001b[1;33m\u001b[0m\u001b[0m\n\u001b[0m\u001b[0;32m   3434\u001b[0m \u001b[1;33m\u001b[0m\u001b[0m\n\u001b[0;32m   3435\u001b[0m     \u001b[1;32mdef\u001b[0m \u001b[0m_get_sorted_data\u001b[0m\u001b[1;33m(\u001b[0m\u001b[0mself\u001b[0m\u001b[1;33m)\u001b[0m\u001b[1;33m:\u001b[0m\u001b[1;33m\u001b[0m\u001b[0m\n",
      "\u001b[1;32m/usr/local/lib/python3.4/site-packages/pandas/core/groupby.py\u001b[0m in \u001b[0;36m_chop\u001b[1;34m(self, sdata, slice_obj)\u001b[0m\n\u001b[0;32m   3450\u001b[0m \u001b[1;33m\u001b[0m\u001b[0m\n\u001b[0;32m   3451\u001b[0m     \u001b[1;32mdef\u001b[0m \u001b[0m_chop\u001b[0m\u001b[1;33m(\u001b[0m\u001b[0mself\u001b[0m\u001b[1;33m,\u001b[0m \u001b[0msdata\u001b[0m\u001b[1;33m,\u001b[0m \u001b[0mslice_obj\u001b[0m\u001b[1;33m)\u001b[0m\u001b[1;33m:\u001b[0m\u001b[1;33m\u001b[0m\u001b[0m\n\u001b[1;32m-> 3452\u001b[1;33m         \u001b[1;32mreturn\u001b[0m \u001b[0msdata\u001b[0m\u001b[1;33m.\u001b[0m\u001b[0m_get_values\u001b[0m\u001b[1;33m(\u001b[0m\u001b[0mslice_obj\u001b[0m\u001b[1;33m)\u001b[0m\u001b[1;33m.\u001b[0m\u001b[0mto_dense\u001b[0m\u001b[1;33m(\u001b[0m\u001b[1;33m)\u001b[0m\u001b[1;33m\u001b[0m\u001b[0m\n\u001b[0m\u001b[0;32m   3453\u001b[0m \u001b[1;33m\u001b[0m\u001b[0m\n\u001b[0;32m   3454\u001b[0m \u001b[1;33m\u001b[0m\u001b[0m\n",
      "\u001b[1;32m/usr/local/lib/python3.4/site-packages/pandas/core/series.py\u001b[0m in \u001b[0;36m_get_values\u001b[1;34m(self, indexer)\u001b[0m\n\u001b[0;32m    626\u001b[0m     \u001b[1;32mdef\u001b[0m \u001b[0m_get_values\u001b[0m\u001b[1;33m(\u001b[0m\u001b[0mself\u001b[0m\u001b[1;33m,\u001b[0m \u001b[0mindexer\u001b[0m\u001b[1;33m)\u001b[0m\u001b[1;33m:\u001b[0m\u001b[1;33m\u001b[0m\u001b[0m\n\u001b[0;32m    627\u001b[0m         \u001b[1;32mtry\u001b[0m\u001b[1;33m:\u001b[0m\u001b[1;33m\u001b[0m\u001b[0m\n\u001b[1;32m--> 628\u001b[1;33m             return self._constructor(self._data.get_slice(indexer),\n\u001b[0m\u001b[0;32m    629\u001b[0m                                      fastpath=True).__finalize__(self)\n\u001b[0;32m    630\u001b[0m         \u001b[1;32mexcept\u001b[0m \u001b[0mException\u001b[0m\u001b[1;33m:\u001b[0m\u001b[1;33m\u001b[0m\u001b[0m\n",
      "\u001b[1;32m/usr/local/lib/python3.4/site-packages/pandas/core/internals.py\u001b[0m in \u001b[0;36mget_slice\u001b[1;34m(self, slobj, axis)\u001b[0m\n\u001b[0;32m   3440\u001b[0m \u001b[1;33m\u001b[0m\u001b[0m\n\u001b[0;32m   3441\u001b[0m         return self.__class__(self._block._slice(slobj),\n\u001b[1;32m-> 3442\u001b[1;33m                               self.index[slobj], fastpath=True)\n\u001b[0m\u001b[0;32m   3443\u001b[0m \u001b[1;33m\u001b[0m\u001b[0m\n\u001b[0;32m   3444\u001b[0m     \u001b[1;33m@\u001b[0m\u001b[0mproperty\u001b[0m\u001b[1;33m\u001b[0m\u001b[0m\n",
      "\u001b[1;32m/usr/local/lib/python3.4/site-packages/pandas/core/internals.py\u001b[0m in \u001b[0;36m__init__\u001b[1;34m(self, block, axis, do_integrity_check, fastpath)\u001b[0m\n\u001b[0;32m   3381\u001b[0m             block = make_block(block,\n\u001b[0;32m   3382\u001b[0m                                \u001b[0mplacement\u001b[0m\u001b[1;33m=\u001b[0m\u001b[0mslice\u001b[0m\u001b[1;33m(\u001b[0m\u001b[1;36m0\u001b[0m\u001b[1;33m,\u001b[0m \u001b[0mlen\u001b[0m\u001b[1;33m(\u001b[0m\u001b[0maxis\u001b[0m\u001b[1;33m)\u001b[0m\u001b[1;33m)\u001b[0m\u001b[1;33m,\u001b[0m\u001b[1;33m\u001b[0m\u001b[0m\n\u001b[1;32m-> 3383\u001b[1;33m                                ndim=1, fastpath=True)\n\u001b[0m\u001b[0;32m   3384\u001b[0m \u001b[1;33m\u001b[0m\u001b[0m\n\u001b[0;32m   3385\u001b[0m         \u001b[0mself\u001b[0m\u001b[1;33m.\u001b[0m\u001b[0mblocks\u001b[0m \u001b[1;33m=\u001b[0m \u001b[1;33m[\u001b[0m\u001b[0mblock\u001b[0m\u001b[1;33m]\u001b[0m\u001b[1;33m\u001b[0m\u001b[0m\n",
      "\u001b[1;32m/usr/local/lib/python3.4/site-packages/pandas/core/internals.py\u001b[0m in \u001b[0;36mmake_block\u001b[1;34m(values, placement, klass, ndim, dtype, fastpath)\u001b[0m\n\u001b[0;32m   2079\u001b[0m         \u001b[1;32mif\u001b[0m \u001b[0misinstance\u001b[0m\u001b[1;33m(\u001b[0m\u001b[0mvalues\u001b[0m\u001b[1;33m,\u001b[0m \u001b[0mSparseArray\u001b[0m\u001b[1;33m)\u001b[0m\u001b[1;33m:\u001b[0m\u001b[1;33m\u001b[0m\u001b[0m\n\u001b[0;32m   2080\u001b[0m             \u001b[0mklass\u001b[0m \u001b[1;33m=\u001b[0m \u001b[0mSparseBlock\u001b[0m\u001b[1;33m\u001b[0m\u001b[0m\n\u001b[1;32m-> 2081\u001b[1;33m         \u001b[1;32melif\u001b[0m \u001b[0missubclass\u001b[0m\u001b[1;33m(\u001b[0m\u001b[0mvtype\u001b[0m\u001b[1;33m,\u001b[0m \u001b[0mnp\u001b[0m\u001b[1;33m.\u001b[0m\u001b[0mfloating\u001b[0m\u001b[1;33m)\u001b[0m\u001b[1;33m:\u001b[0m\u001b[1;33m\u001b[0m\u001b[0m\n\u001b[0m\u001b[0;32m   2082\u001b[0m             \u001b[0mklass\u001b[0m \u001b[1;33m=\u001b[0m \u001b[0mFloatBlock\u001b[0m\u001b[1;33m\u001b[0m\u001b[0m\n\u001b[0;32m   2083\u001b[0m         elif (issubclass(vtype, np.integer) and\n",
      "\u001b[1;31mKeyboardInterrupt\u001b[0m: "
     ]
    }
   ],
   "source": [
    "def get_classes_about_center(series, center_fun):\n",
    "    group_centers = np.row_stack(series.groupby(level=0).agg(center_fun)) \n",
    "    points  = np.row_stack(series)\n",
    "    class_indexes = distance.cdist(points,group_centers, 'cosine').argmin(axis=1)\n",
    "    return np.asarray(series.index[class_indexes].labels[0])\n",
    "\n",
    "def get_classes_by_similarity_to_true_classes(series):\n",
    "    true_classes = get_true_classes(series)\n",
    "    \n",
    "    def av_dist_to_group(point, group):\n",
    "        xs = np.row_stack(group)\n",
    "        return distance.cdist(xs, [point]).mean()\n",
    "    \n",
    "    return np.asarray([series.groupby(level=0).agg(lambda group: av_dist_to_group(point, group)).idxmin()\n",
    "               for point in series])\n",
    "    \n",
    "\n",
    "\n",
    "\n",
    "def recluster_success(series):\n",
    "    true_classes = get_true_classes(series)\n",
    "\n",
    "    def get_acc(center_fun):\n",
    "        classes = get_classes_about_center(series, center_fun)\n",
    "        return (classes == true_classes).sum()/len(true_classes)\n",
    "    \n",
    "    classes = get_classes_by_similarity_to_true_classes(series)\n",
    "    group_closeness_acc = (classes == true_classes).sum()/len(true_classes)\n",
    "\n",
    "    return pd.Series([get_acc(get_centroid),\n",
    "                      get_acc(get_medoid),\n",
    "                      get_acc(get_angular_centroid),\n",
    "                      group_closeness_acc\n",
    "                     ], index=\"centroid_acc medoid_acc angular_centroid_acc group_closeness_acc\".split()) \n",
    "    \n",
    "\n",
    "recluster_results = pd.DataFrame()\n",
    "for column in df.columns[1:]:\n",
    "    recluster_results[column] = recluster_success(df[column])\n",
    "\n",
    "recluster_results"
   ]
  },
  {
   "cell_type": "code",
   "execution_count": null,
   "metadata": {
    "collapsed": false,
    "scrolled": true
   },
   "outputs": [],
   "source": [
    "#Lets take a look at what mistakes are being made.\n",
    "#We can look at the exemplary member of each class as a repressentitive,\n",
    "#And can compare that for the class it was given to that for the class it should have been given\n",
    "\n",
    "def get_exemplars(df, col_name, get_center_fun):\n",
    "    series = df[col_name]\n",
    "    def get_exemplar(group):\n",
    "        c = get_center_fun(group)\n",
    "        points=np.row_stack(group)\n",
    "        ingroup_index = distance.cdist(points,[c], 'cosine').flatten().argmin()\n",
    "        df_index = group.index[ingroup_index]\n",
    "        return df.tokenized_phrases[df_index]\n",
    "    \n",
    "    return series.groupby(level=0).agg(get_exemplar)\n",
    "\n",
    "\n",
    "def get_mistakes(df, col_name, get_center_fun=get_angular_centroid):\n",
    "    group_exemplars = get_exemplars(df, col_name,get_center_fun)\n",
    "    \n",
    "    series = df[col_name]\n",
    "    \n",
    "    classes = get_classes(series, get_center_fun)\n",
    "    \n",
    "    return show_mistakes(df, classes, col_name, get_center_fun)\n",
    "\n",
    "\n",
    "def show_mistakes(df, actual_classes, col_for_exemplar=\"bow\", get_center_fun = get_angular_centroid):\n",
    "    group_exemplars = get_exemplars(df, col_for_exemplar, get_center_fun)\n",
    "    \n",
    "    true_classes = get_true_classes(df)\n",
    "    mistake_indexs = np.nonzero(actual_classes!=true_classes)\n",
    "    \n",
    "    ret = pd.DataFrame()\n",
    "    ret[\"mistaken_texts\"] = list(df.tokenized_phrases.iloc[mistake_indexs])\n",
    "    ret[\"true_exemplar\"] = list(group_exemplars[true_classes[mistake_indexs]])\n",
    "    ret[\"actual_exemplar\"] = list(group_exemplars[actual_classes[mistake_indexs]])\n",
    "    \n",
    "    return ret\n"
   ]
  },
  {
   "cell_type": "code",
   "execution_count": 28,
   "metadata": {
    "collapsed": false
   },
   "outputs": [],
   "source": [
    "#show_mistakes(df, get_classes_by_similarity_to_true_classes(df.bow))"
   ]
  },
  {
   "cell_type": "code",
   "execution_count": 29,
   "metadata": {
    "collapsed": false,
    "scrolled": true
   },
   "outputs": [],
   "source": [
    "#get_mistakes(df, \"bow\",get_angular_centroid)"
   ]
  },
  {
   "cell_type": "code",
   "execution_count": null,
   "metadata": {
    "collapsed": true
   },
   "outputs": [],
   "source": []
  },
  {
   "cell_type": "code",
   "execution_count": null,
   "metadata": {
    "collapsed": true
   },
   "outputs": [],
   "source": []
  },
  {
   "cell_type": "code",
   "execution_count": null,
   "metadata": {
    "collapsed": false
   },
   "outputs": [],
   "source": []
  },
  {
   "cell_type": "code",
   "execution_count": 56,
   "metadata": {
    "collapsed": false
   },
   "outputs": [
    {
     "data": {
      "text/html": [
       "<div>\n",
       "<table border=\"1\" class=\"dataframe\">\n",
       "  <thead>\n",
       "    <tr style=\"text-align: right;\">\n",
       "      <th></th>\n",
       "      <th>pvdm</th>\n",
       "      <th>dbow</th>\n",
       "      <th>urae</th>\n",
       "      <th>mowe</th>\n",
       "      <th>howe</th>\n",
       "      <th>bow</th>\n",
       "      <th>pca_bow</th>\n",
       "      <th>pca_howe</th>\n",
       "    </tr>\n",
       "  </thead>\n",
       "  <tbody>\n",
       "    <tr>\n",
       "      <th>LinearSVC(C=1.0, class_weight='auto', dual=True, fit_intercept=True,\\n     intercept_scaling=1, loss='squared_hinge', max_iter=200,\\n     multi_class='ovr', penalty='l2', random_state=None, tol=0.0001,\\n     verbose=0)</th>\n",
       "      <td>0.439462</td>\n",
       "      <td>0.962631</td>\n",
       "      <td>0.772795</td>\n",
       "      <td>0.973094</td>\n",
       "      <td>1</td>\n",
       "      <td>1</td>\n",
       "      <td>0.998505</td>\n",
       "      <td>0.989537</td>\n",
       "    </tr>\n",
       "  </tbody>\n",
       "</table>\n",
       "</div>"
      ],
      "text/plain": [
       "                                                                                                          pvdm  \\\n",
       "LinearSVC(C=1.0, class_weight='auto', dual=True, fit_intercept=True,\\n     intercept_scaling=1, l...  0.439462   \n",
       "\n",
       "                                                                                                          dbow  \\\n",
       "LinearSVC(C=1.0, class_weight='auto', dual=True, fit_intercept=True,\\n     intercept_scaling=1, l...  0.962631   \n",
       "\n",
       "                                                                                                          urae  \\\n",
       "LinearSVC(C=1.0, class_weight='auto', dual=True, fit_intercept=True,\\n     intercept_scaling=1, l...  0.772795   \n",
       "\n",
       "                                                                                                          mowe  \\\n",
       "LinearSVC(C=1.0, class_weight='auto', dual=True, fit_intercept=True,\\n     intercept_scaling=1, l...  0.973094   \n",
       "\n",
       "                                                                                                      howe  \\\n",
       "LinearSVC(C=1.0, class_weight='auto', dual=True, fit_intercept=True,\\n     intercept_scaling=1, l...     1   \n",
       "\n",
       "                                                                                                      bow  \\\n",
       "LinearSVC(C=1.0, class_weight='auto', dual=True, fit_intercept=True,\\n     intercept_scaling=1, l...    1   \n",
       "\n",
       "                                                                                                       pca_bow  \\\n",
       "LinearSVC(C=1.0, class_weight='auto', dual=True, fit_intercept=True,\\n     intercept_scaling=1, l...  0.998505   \n",
       "\n",
       "                                                                                                      pca_howe  \n",
       "LinearSVC(C=1.0, class_weight='auto', dual=True, fit_intercept=True,\\n     intercept_scaling=1, l...  0.989537  "
      ]
     },
     "execution_count": 56,
     "metadata": {},
     "output_type": "execute_result"
    }
   ],
   "source": [
    "from sklearn.svm import NuSVC, SVC, LinearSVC\n",
    "from sklearn import tree\n",
    "from sklearn.multiclass import OneVsRestClassifier, OneVsOneClassifier\n",
    "\n",
    "#class_weight = {key: 1/value for (key, value) in Counter(training_data.debate_type).items()}\n",
    "\n",
    "def classify(column, classifier, train_data, test_data, train_labels, test_labels):\n",
    "    train_data_X = np.row_stack(train_data[column])\n",
    "    test_data_X = np.row_stack(test_data[column])\n",
    "\n",
    "    classifier.fit(train_data_X, train_labels)\n",
    "    \n",
    "    return classifier.score(test_data_X, test_labels)\n",
    "\n",
    "\n",
    "classifiers = [LinearSVC(class_weight=\"auto\",  max_iter=200), \n",
    "       #SVC(class_weight=\"auto\",  max_iter=20000, kernel='rbf', C=10),\n",
    "       #SVC(class_weight=\"auto\",  max_iter=20000, kernel='rbf', C=100),        \n",
    "       #SVC(class_weight=\"auto\",  max_iter=20000, kernel='rbf', C=1000),\n",
    "       #SVC(class_weight=\"auto\",  max_iter=20000, kernel='rbf', C=10000),\n",
    "       #SVC(class_weight=\"auto\",  max_iter=20000, kernel='rbf', C=100000),\n",
    "       #SVC(class_weight=\"auto\",  max_iter=20000, kernel='rbf', C=1000000),\n",
    "        #OneVsRestClassifier(SVC(class_weight=\"auto\",  max_iter=20000, kernel='rbf')),\n",
    "        #tree.DecisionTreeClassifier(class_weight=\"auto\")\n",
    "        \n",
    "        \n",
    "       ]\n",
    "best_classify_results = pd.DataFrame(index=classifiers)\n",
    "for column in df.columns[1:]:\n",
    "    best_classify_results.loc[:,column] = [classify(column, classifier,\n",
    "                                                   train_data=df,\n",
    "                                                   test_data=df,\n",
    "                                                   train_labels=get_true_classes(df),\n",
    "                                                   test_labels=get_true_classes(df))\n",
    "                                            for classifier in classifiers]\n",
    "    \n",
    "best_classify_results"
   ]
  },
  {
   "cell_type": "code",
   "execution_count": 57,
   "metadata": {
    "collapsed": false
   },
   "outputs": [
    {
     "name": "stdout",
     "output_type": "stream",
     "text": [
      "2-fold validation\n"
     ]
    },
    {
     "data": {
      "text/html": [
       "<div>\n",
       "<table border=\"1\" class=\"dataframe\">\n",
       "  <thead>\n",
       "    <tr style=\"text-align: right;\">\n",
       "      <th></th>\n",
       "      <th>pvdm</th>\n",
       "      <th>dbow</th>\n",
       "      <th>urae</th>\n",
       "      <th>mowe</th>\n",
       "      <th>howe</th>\n",
       "      <th>bow</th>\n",
       "      <th>pca_bow</th>\n",
       "      <th>pca_howe</th>\n",
       "    </tr>\n",
       "  </thead>\n",
       "  <tbody>\n",
       "    <tr>\n",
       "      <th>LinearSVC(C=1.0, class_weight='auto', dual=True, fit_intercept=True,\\n     intercept_scaling=1, loss='squared_hinge', max_iter=200,\\n     multi_class='ovr', penalty='l2', random_state=None, tol=0.0001,\\n     verbose=0)</th>\n",
       "      <td>0.078889</td>\n",
       "      <td>0.2189</td>\n",
       "      <td>0.094214</td>\n",
       "      <td>0.595622</td>\n",
       "      <td>0.539654</td>\n",
       "      <td>0.514871</td>\n",
       "      <td>0.477385</td>\n",
       "      <td>0.408237</td>\n",
       "    </tr>\n",
       "  </tbody>\n",
       "</table>\n",
       "</div>"
      ],
      "text/plain": [
       "                                                                                                          pvdm  \\\n",
       "LinearSVC(C=1.0, class_weight='auto', dual=True, fit_intercept=True,\\n     intercept_scaling=1, l...  0.078889   \n",
       "\n",
       "                                                                                                        dbow  \\\n",
       "LinearSVC(C=1.0, class_weight='auto', dual=True, fit_intercept=True,\\n     intercept_scaling=1, l...  0.2189   \n",
       "\n",
       "                                                                                                          urae  \\\n",
       "LinearSVC(C=1.0, class_weight='auto', dual=True, fit_intercept=True,\\n     intercept_scaling=1, l...  0.094214   \n",
       "\n",
       "                                                                                                          mowe  \\\n",
       "LinearSVC(C=1.0, class_weight='auto', dual=True, fit_intercept=True,\\n     intercept_scaling=1, l...  0.595622   \n",
       "\n",
       "                                                                                                          howe  \\\n",
       "LinearSVC(C=1.0, class_weight='auto', dual=True, fit_intercept=True,\\n     intercept_scaling=1, l...  0.539654   \n",
       "\n",
       "                                                                                                           bow  \\\n",
       "LinearSVC(C=1.0, class_weight='auto', dual=True, fit_intercept=True,\\n     intercept_scaling=1, l...  0.514871   \n",
       "\n",
       "                                                                                                       pca_bow  \\\n",
       "LinearSVC(C=1.0, class_weight='auto', dual=True, fit_intercept=True,\\n     intercept_scaling=1, l...  0.477385   \n",
       "\n",
       "                                                                                                      pca_howe  \n",
       "LinearSVC(C=1.0, class_weight='auto', dual=True, fit_intercept=True,\\n     intercept_scaling=1, l...  0.408237  "
      ]
     },
     "execution_count": 57,
     "metadata": {},
     "output_type": "execute_result"
    }
   ],
   "source": [
    "from sklearn import cross_validation\n",
    "n_folds = df.tokenized_phrases.groupby(level=0).agg(len).min()\n",
    "print(str(n_folds)+\"-fold validation\")\n",
    "classify_results = pd.DataFrame(index=classifiers)\n",
    "for column in df.columns[1:]:\n",
    "    for classifier in classifiers:\n",
    "        cv_res = cross_validation.cross_val_score(classifier, \n",
    "                                          X = np.row_stack(df[column]),\n",
    "                                          y = get_true_classes(df),\n",
    "                                          cv=df[column].groupby(level=0).agg(len).min(),\n",
    "                                          n_jobs=-1\n",
    "                                        \n",
    "                                          )\n",
    "        classify_results.loc[classifier,(column)] = cv_res.mean()\n",
    "        #classify_results.loc[svm,(column+\"_std\")] = cv_res.std()\n",
    "\n",
    "classify_results"
   ]
  },
  {
   "cell_type": "code",
   "execution_count": null,
   "metadata": {
    "collapsed": true
   },
   "outputs": [],
   "source": []
  },
  {
   "cell_type": "code",
   "execution_count": 32,
   "metadata": {
    "collapsed": false
   },
   "outputs": [
    {
     "data": {
      "text/html": [
       "<div>\n",
       "<table border=\"1\" class=\"dataframe\">\n",
       "  <thead>\n",
       "    <tr style=\"text-align: right;\">\n",
       "      <th></th>\n",
       "      <th>pvdm</th>\n",
       "      <th>dbow</th>\n",
       "      <th>urae</th>\n",
       "      <th>mowe</th>\n",
       "      <th>bow</th>\n",
       "      <th>pca_bow</th>\n",
       "    </tr>\n",
       "  </thead>\n",
       "  <tbody>\n",
       "    <tr>\n",
       "      <th>count</th>\n",
       "      <td>1.630000e+02</td>\n",
       "      <td>1.630000e+02</td>\n",
       "      <td>1.630000e+02</td>\n",
       "      <td>1.630000e+02</td>\n",
       "      <td>163.000000</td>\n",
       "      <td>1.630000e+02</td>\n",
       "    </tr>\n",
       "    <tr>\n",
       "      <th>mean</th>\n",
       "      <td>4.453344e-02</td>\n",
       "      <td>1.398872e-02</td>\n",
       "      <td>2.567149e-02</td>\n",
       "      <td>1.050908e-02</td>\n",
       "      <td>0.015603</td>\n",
       "      <td>1.897898e-02</td>\n",
       "    </tr>\n",
       "    <tr>\n",
       "      <th>std</th>\n",
       "      <td>4.954798e-02</td>\n",
       "      <td>1.584221e-02</td>\n",
       "      <td>2.963655e-02</td>\n",
       "      <td>1.168567e-02</td>\n",
       "      <td>0.017219</td>\n",
       "      <td>2.139135e-02</td>\n",
       "    </tr>\n",
       "    <tr>\n",
       "      <th>min</th>\n",
       "      <td>0.000000e+00</td>\n",
       "      <td>0.000000e+00</td>\n",
       "      <td>0.000000e+00</td>\n",
       "      <td>0.000000e+00</td>\n",
       "      <td>0.000000</td>\n",
       "      <td>0.000000e+00</td>\n",
       "    </tr>\n",
       "    <tr>\n",
       "      <th>25%</th>\n",
       "      <td>7.850462e-17</td>\n",
       "      <td>7.850462e-17</td>\n",
       "      <td>7.850462e-17</td>\n",
       "      <td>1.110223e-16</td>\n",
       "      <td>0.000000</td>\n",
       "      <td>7.850462e-17</td>\n",
       "    </tr>\n",
       "    <tr>\n",
       "      <th>50%</th>\n",
       "      <td>2.888509e-02</td>\n",
       "      <td>7.781124e-03</td>\n",
       "      <td>1.344446e-02</td>\n",
       "      <td>8.153367e-03</td>\n",
       "      <td>0.011777</td>\n",
       "      <td>1.259193e-02</td>\n",
       "    </tr>\n",
       "    <tr>\n",
       "      <th>75%</th>\n",
       "      <td>8.288435e-02</td>\n",
       "      <td>2.658961e-02</td>\n",
       "      <td>4.655015e-02</td>\n",
       "      <td>1.852435e-02</td>\n",
       "      <td>0.029575</td>\n",
       "      <td>3.357847e-02</td>\n",
       "    </tr>\n",
       "    <tr>\n",
       "      <th>max</th>\n",
       "      <td>1.847368e-01</td>\n",
       "      <td>5.375267e-02</td>\n",
       "      <td>1.215960e-01</td>\n",
       "      <td>4.490277e-02</td>\n",
       "      <td>0.060226</td>\n",
       "      <td>7.923656e-02</td>\n",
       "    </tr>\n",
       "  </tbody>\n",
       "</table>\n",
       "</div>"
      ],
      "text/plain": [
       "               pvdm          dbow          urae          mowe         bow  \\\n",
       "count  1.630000e+02  1.630000e+02  1.630000e+02  1.630000e+02  163.000000   \n",
       "mean   4.453344e-02  1.398872e-02  2.567149e-02  1.050908e-02    0.015603   \n",
       "std    4.954798e-02  1.584221e-02  2.963655e-02  1.168567e-02    0.017219   \n",
       "min    0.000000e+00  0.000000e+00  0.000000e+00  0.000000e+00    0.000000   \n",
       "25%    7.850462e-17  7.850462e-17  7.850462e-17  1.110223e-16    0.000000   \n",
       "50%    2.888509e-02  7.781124e-03  1.344446e-02  8.153367e-03    0.011777   \n",
       "75%    8.288435e-02  2.658961e-02  4.655015e-02  1.852435e-02    0.029575   \n",
       "max    1.847368e-01  5.375267e-02  1.215960e-01  4.490277e-02    0.060226   \n",
       "\n",
       "            pca_bow  \n",
       "count  1.630000e+02  \n",
       "mean   1.897898e-02  \n",
       "std    2.139135e-02  \n",
       "min    0.000000e+00  \n",
       "25%    7.850462e-17  \n",
       "50%    1.259193e-02  \n",
       "75%    3.357847e-02  \n",
       "max    7.923656e-02  "
      ]
     },
     "execution_count": 32,
     "metadata": {},
     "output_type": "execute_result"
    }
   ],
   "source": [
    "def get_symetry_measure(group):\n",
    "    xs = np.row_stack(group)\n",
    "    dist=distance.pdist(xs, angular_dist)\n",
    "    c=get_angular_centroid(xs)\n",
    "    dist = distance.cdist(xs, [c],angular_dist)\n",
    "    return dist.std()\n",
    "\n",
    "df.groupby(level=0).agg(get_symetry_measure).describe()\n",
    "    "
   ]
  },
  {
   "cell_type": "code",
   "execution_count": null,
   "metadata": {
    "collapsed": true
   },
   "outputs": [],
   "source": []
  }
 ],
 "metadata": {
  "kernelspec": {
   "display_name": "Python 3",
   "language": "python",
   "name": "python3"
  },
  "language_info": {
   "codemirror_mode": {
    "name": "ipython",
    "version": 3
   },
   "file_extension": ".py",
   "mimetype": "text/x-python",
   "name": "python",
   "nbconvert_exporter": "python",
   "pygments_lexer": "ipython3",
   "version": "3.4.3"
  }
 },
 "nbformat": 4,
 "nbformat_minor": 0
}
