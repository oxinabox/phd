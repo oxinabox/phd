{
 "cells": [
  {
   "cell_type": "code",
   "execution_count": 1,
   "metadata": {
    "collapsed": true
   },
   "outputs": [],
   "source": [
    "from ipytables import *"
   ]
  },
  {
   "cell_type": "code",
   "execution_count": 180,
   "metadata": {
    "collapsed": true
   },
   "outputs": [],
   "source": [
    "import pylab as pl\n",
    "%matplotlib inline\n",
    "pl.rcParams['figure.figsize'] = 10, 5\n",
    "pl.rcParams['text.usetex'] = False\n",
    "def savefigure(fname):\n",
    "    from IPython.display import FileLink\n",
    "    pl.savefig(\"../../\" + fname,bbox_inches='tight')\n",
    "    FileLink(fname)"
   ]
  },
  {
   "cell_type": "code",
   "execution_count": 3,
   "metadata": {
    "collapsed": false
   },
   "outputs": [],
   "source": [
    "import itertools\n",
    "import os.path\n",
    "import csv\n",
    "import numpy as np\n",
    "import scipy.spatial\n",
    "import pandas as pd\n",
    "pd.options.display.max_rows=20\n",
    "pd.options.display.max_seq_items = 100\n",
    "pd.options.display.max_colwidth = 100\n",
    "import sklearn\n",
    "from sklearn.decomposition import PCA"
   ]
  },
  {
   "cell_type": "code",
   "execution_count": 4,
   "metadata": {
    "collapsed": true
   },
   "outputs": [],
   "source": [
    "def normalise_name(name):\n",
    "    return name.replace(\"__\",\"-\").replace(\"_\",\" \").upper()\n",
    "def normalise_names(names):\n",
    "    return [normalise_name(name) for name in names]"
   ]
  },
  {
   "cell_type": "code",
   "execution_count": 6,
   "metadata": {
    "collapsed": false
   },
   "outputs": [],
   "source": [
    "#try:\n",
    "#os.chdir(\"prepared_corpora/opinosis/\")\n",
    "\n",
    "#os.chdir(\"msrp\")\n",
    "os.chdir(\"prepared_corpora/msrp/\")\n",
    "#except FileNotFoundError:\n",
    "#    pass"
   ]
  },
  {
   "cell_type": "code",
   "execution_count": 7,
   "metadata": {
    "collapsed": false
   },
   "outputs": [],
   "source": [
    "def load_pf_group_index():\n",
    "    df = pd.read_csv(\"./phrase_groups.csv\")\n",
    "    df.set_index([\"paraphrase_group_index\", \"phrase_index\"], inplace=True)\n",
    "    return df\n",
    "df = load_pf_group_index()\n",
    "df[\"tokenized_phrases\"]=[line.strip() for line in open(\"tokenized_phrases.txt\",\"r\")]\n"
   ]
  },
  {
   "cell_type": "code",
   "execution_count": 8,
   "metadata": {
    "collapsed": false
   },
   "outputs": [],
   "source": [
    "df[\"pv__dm\"]=list(np.loadtxt(\"outVectors_wiki_sentence_concat_pvdm.csv\", delimiter=\",\"))\n",
    "df[\"pv__dbow\"]=list(np.loadtxt(\"outVectors_wiki_sentence_dbow.csv\", delimiter=\",\"))\n",
    "df[\"urae\"]=list(np.loadtxt(\"outVectors_RAE2011.csv\", delimiter=\",\"))\n",
    "df[\"mowe\"]=list(np.loadtxt(\"outVectors_mowe.csv\", delimiter=\",\"))\n",
    "df[\"sowe\"]=list(np.loadtxt(\"outVectors_sowe.csv\", delimiter=\",\"))\n",
    "#df[\"howe\"]=list(np.loadtxt(\"outVectors_howe.csv\", delimiter=\",\"))\n",
    "df[\"bow\"]=list(np.loadtxt(\"outVectors_bow.csv\", delimiter=\",\"))\n"
   ]
  },
  {
   "cell_type": "code",
   "execution_count": 9,
   "metadata": {
    "collapsed": false
   },
   "outputs": [],
   "source": [
    "#Just consider paraphrase groups of a certain size\n",
    "df = df.groupby(level=0).filter(lambda group: len(group)>=3)"
   ]
  },
  {
   "cell_type": "code",
   "execution_count": 10,
   "metadata": {
    "collapsed": true
   },
   "outputs": [],
   "source": [
    "def get_true_classes(series):\n",
    "    return np.asarray([ii[0] for ii in series.index])"
   ]
  },
  {
   "cell_type": "code",
   "execution_count": 34,
   "metadata": {
    "collapsed": true
   },
   "outputs": [],
   "source": [
    "#df[\"rand\"]=[np.random.rand(300) for row in range(len(df))]"
   ]
  },
  {
   "cell_type": "code",
   "execution_count": null,
   "metadata": {
    "collapsed": false
   },
   "outputs": [],
   "source": [
    "\n",
    "#df[\"pca_bow\"] = list(PCA(300, whiten=False).fit_transform(np.row_stack(list(df.bow))))\n",
    "#df[\"pca_howe\"] = list(PCA(300, whiten=False).fit_transform(np.row_stack(list(df.howe))))"
   ]
  },
  {
   "cell_type": "code",
   "execution_count": null,
   "metadata": {
    "collapsed": true
   },
   "outputs": [],
   "source": [
    "#for base in \"pv__dm pv__dbow urae\".split():\n",
    "#    df[base+\"_mowe\"] = df[base].combine(df.mowe, func=lambda a,b: np.concatenate((a,b)))\n",
    "#    df[\"pca_\"+base+\"_bow\"] = list(PCA(300, whiten=False).fit_transform(np.row_stack(df[base+\"_bow\"])))"
   ]
  },
  {
   "cell_type": "code",
   "execution_count": null,
   "metadata": {
    "collapsed": false,
    "scrolled": true
   },
   "outputs": [],
   "source": [
    "#for base in \"pv__dm pv__dbow urae\".split():\n",
    "#    df[base+\"_bow\"] = df[base].combine(df.bow, func=lambda a,b: np.concatenate((a,b)))\n",
    "#    df[\"pca_\"+base+\"_bow\"] = list(PCA(300, whiten=False).fit_transform(np.row_stack(df[base+\"_bow\"])))\n"
   ]
  },
  {
   "cell_type": "code",
   "execution_count": null,
   "metadata": {
    "collapsed": true
   },
   "outputs": [],
   "source": [
    "#Very Low Dimentionality:\n",
    "#for base in \"pv__dm pv__dbow urae mowe bow\".split():\n",
    "#    df[base] = list(PCA(32, whiten=False).fit_transform(np.row_stack(df[base])))\n"
   ]
  },
  {
   "cell_type": "code",
   "execution_count": 36,
   "metadata": {
    "collapsed": false
   },
   "outputs": [],
   "source": [
    "from sklearn.svm import NuSVC, SVC, LinearSVC\n",
    "from sklearn import tree\n",
    "from sklearn.multiclass import OneVsRestClassifier, OneVsOneClassifier\n",
    "\n",
    "#class_weight = {key: 1/value for (key, value) in Counter(training_data.debate_type).items()}\n",
    "\n",
    "def classify(column, classifier, train_data, test_data, train_labels, test_labels):\n",
    "    train_data_X = np.row_stack(train_data[column])\n",
    "    test_data_X = np.row_stack(test_data[column])\n",
    "\n",
    "    classifier.fit(train_data_X, train_labels)\n",
    "    \n",
    "    return classifier.score(test_data_X, test_labels)\n",
    "\n",
    "\n",
    "classifiers = [LinearSVC(class_weight=\"auto\",  max_iter=20000, C=0.1),\n",
    "               LinearSVC(class_weight=\"auto\",  max_iter=20000), \n",
    "               LinearSVC(class_weight=\"auto\",  max_iter=20000, C=5),\n",
    "               LinearSVC(class_weight=\"auto\",  max_iter=20000, C=10),\n",
    "               LinearSVC(class_weight=\"auto\",  max_iter=20000, C=100),\n",
    "               LinearSVC(class_weight=\"auto\",  max_iter=20000, C=1000),\n",
    "               LinearSVC(class_weight=\"auto\",  max_iter=20000, C=10000)\n",
    "       #SVC(class_weight=\"auto\",  max_iter=20000, kernel='rbf', C=10),\n",
    "       #SVC(class_weight=\"auto\",  max_iter=20000, kernel='rbf', C=100),        \n",
    "       #SVC(class_weight=\"auto\",  max_iter=20000, kernel='rbf', C=1000),\n",
    "       #SVC(class_weight=\"auto\",  max_iter=20000, kernel='rbf', C=10000),\n",
    "       #SVC(class_weight=\"auto\",  max_iter=20000, kernel='rbf', C=100000),\n",
    "       #SVC(class_weight=\"auto\",  max_iter=20000, kernel='rbf', C=1000000),\n",
    "        #OneVsRestClassifier(SVC(class_weight=\"auto\",  max_iter=20000, kernel='rbf')),\n",
    "        #tree.DecisionTreeClassifier(class_weight=\"auto\")\n",
    "        \n",
    "        \n",
    "       ]\n"
   ]
  },
  {
   "cell_type": "code",
   "execution_count": 37,
   "metadata": {
    "collapsed": false,
    "scrolled": true
   },
   "outputs": [
    {
     "name": "stdout",
     "output_type": "stream",
     "text": [
      "3-fold validation\n"
     ]
    },
    {
     "data": {
      "text/html": [
       "<div>\n",
       "<table border=\"1\" class=\"dataframe\">\n",
       "  <thead>\n",
       "    <tr style=\"text-align: right;\">\n",
       "      <th></th>\n",
       "      <th>pv__dm</th>\n",
       "      <th>pv__dbow</th>\n",
       "      <th>urae</th>\n",
       "      <th>mowe</th>\n",
       "      <th>sowe</th>\n",
       "      <th>bow</th>\n",
       "      <th>rand</th>\n",
       "    </tr>\n",
       "  </thead>\n",
       "  <tbody>\n",
       "    <tr>\n",
       "      <th>LinearSVC(C=0.1, class_weight='auto', dual=True, fit_intercept=True,\\n     intercept_scaling=1, loss='squared_hinge', max_iter=20000,\\n     multi_class='ovr', penalty='l2', random_state=None, tol=0.0001,\\n     verbose=0)</th>\n",
       "      <td>32.64%</td>\n",
       "      <td>88.02%</td>\n",
       "      <td>44.06%</td>\n",
       "      <td>96.29%</td>\n",
       "      <td>98.02%</td>\n",
       "      <td>98.37%</td>\n",
       "      <td>0.48%</td>\n",
       "    </tr>\n",
       "    <tr>\n",
       "      <th>LinearSVC(C=1.0, class_weight='auto', dual=True, fit_intercept=True,\\n     intercept_scaling=1, loss='squared_hinge', max_iter=20000,\\n     multi_class='ovr', penalty='l2', random_state=None, tol=0.0001,\\n     verbose=0)</th>\n",
       "      <td>60.38%</td>\n",
       "      <td>89.93%</td>\n",
       "      <td>50.01%</td>\n",
       "      <td>97.44%</td>\n",
       "      <td>97.90%</td>\n",
       "      <td>98.37%</td>\n",
       "      <td>0.47%</td>\n",
       "    </tr>\n",
       "    <tr>\n",
       "      <th>LinearSVC(C=5, class_weight='auto', dual=True, fit_intercept=True,\\n     intercept_scaling=1, loss='squared_hinge', max_iter=20000,\\n     multi_class='ovr', penalty='l2', random_state=None, tol=0.0001,\\n     verbose=0)</th>\n",
       "      <td>73.84%</td>\n",
       "      <td>89.26%</td>\n",
       "      <td>51.14%</td>\n",
       "      <td>97.79%</td>\n",
       "      <td>97.79%</td>\n",
       "      <td>98.37%</td>\n",
       "      <td>0.47%</td>\n",
       "    </tr>\n",
       "    <tr>\n",
       "      <th>LinearSVC(C=10, class_weight='auto', dual=True, fit_intercept=True,\\n     intercept_scaling=1, loss='squared_hinge', max_iter=20000,\\n     multi_class='ovr', penalty='l2', random_state=None, tol=0.0001,\\n     verbose=0)</th>\n",
       "      <td>77.43%</td>\n",
       "      <td>88.79%</td>\n",
       "      <td>50.88%</td>\n",
       "      <td>97.91%</td>\n",
       "      <td>97.79%</td>\n",
       "      <td>98.37%</td>\n",
       "      <td>0.47%</td>\n",
       "    </tr>\n",
       "    <tr>\n",
       "      <th>LinearSVC(C=100, class_weight='auto', dual=True, fit_intercept=True,\\n     intercept_scaling=1, loss='squared_hinge', max_iter=20000,\\n     multi_class='ovr', penalty='l2', random_state=None, tol=0.0001,\\n     verbose=0)</th>\n",
       "      <td>78.00%</td>\n",
       "      <td>88.55%</td>\n",
       "      <td>49.60%</td>\n",
       "      <td>97.79%</td>\n",
       "      <td>97.79%</td>\n",
       "      <td>98.37%</td>\n",
       "      <td>0.47%</td>\n",
       "    </tr>\n",
       "    <tr>\n",
       "      <th>LinearSVC(C=1000, class_weight='auto', dual=True, fit_intercept=True,\\n     intercept_scaling=1, loss='squared_hinge', max_iter=20000,\\n     multi_class='ovr', penalty='l2', random_state=None, tol=0.0001,\\n     verbose=0)</th>\n",
       "      <td>74.15%</td>\n",
       "      <td>88.55%</td>\n",
       "      <td>48.78%</td>\n",
       "      <td>97.79%</td>\n",
       "      <td>97.79%</td>\n",
       "      <td>98.37%</td>\n",
       "      <td>0.47%</td>\n",
       "    </tr>\n",
       "    <tr>\n",
       "      <th>LinearSVC(C=10000, class_weight='auto', dual=True, fit_intercept=True,\\n     intercept_scaling=1, loss='squared_hinge', max_iter=20000,\\n     multi_class='ovr', penalty='l2', random_state=None, tol=0.0001,\\n     verbose=0)</th>\n",
       "      <td>73.45%</td>\n",
       "      <td>88.42%</td>\n",
       "      <td>48.78%</td>\n",
       "      <td>97.79%</td>\n",
       "      <td>97.79%</td>\n",
       "      <td>98.37%</td>\n",
       "      <td>0.47%</td>\n",
       "    </tr>\n",
       "  </tbody>\n",
       "</table>\n",
       "</div>"
      ],
      "text/plain": [
       "                                                                                                      pv__dm  \\\n",
       "LinearSVC(C=0.1, class_weight='auto', dual=True, fit_intercept=True,\\n     intercept_scaling=1, l...  32.64%   \n",
       "LinearSVC(C=1.0, class_weight='auto', dual=True, fit_intercept=True,\\n     intercept_scaling=1, l...  60.38%   \n",
       "LinearSVC(C=5, class_weight='auto', dual=True, fit_intercept=True,\\n     intercept_scaling=1, los...  73.84%   \n",
       "LinearSVC(C=10, class_weight='auto', dual=True, fit_intercept=True,\\n     intercept_scaling=1, lo...  77.43%   \n",
       "LinearSVC(C=100, class_weight='auto', dual=True, fit_intercept=True,\\n     intercept_scaling=1, l...  78.00%   \n",
       "LinearSVC(C=1000, class_weight='auto', dual=True, fit_intercept=True,\\n     intercept_scaling=1, ...  74.15%   \n",
       "LinearSVC(C=10000, class_weight='auto', dual=True, fit_intercept=True,\\n     intercept_scaling=1,...  73.45%   \n",
       "\n",
       "                                                                                                      pv__dbow  \\\n",
       "LinearSVC(C=0.1, class_weight='auto', dual=True, fit_intercept=True,\\n     intercept_scaling=1, l...    88.02%   \n",
       "LinearSVC(C=1.0, class_weight='auto', dual=True, fit_intercept=True,\\n     intercept_scaling=1, l...    89.93%   \n",
       "LinearSVC(C=5, class_weight='auto', dual=True, fit_intercept=True,\\n     intercept_scaling=1, los...    89.26%   \n",
       "LinearSVC(C=10, class_weight='auto', dual=True, fit_intercept=True,\\n     intercept_scaling=1, lo...    88.79%   \n",
       "LinearSVC(C=100, class_weight='auto', dual=True, fit_intercept=True,\\n     intercept_scaling=1, l...    88.55%   \n",
       "LinearSVC(C=1000, class_weight='auto', dual=True, fit_intercept=True,\\n     intercept_scaling=1, ...    88.55%   \n",
       "LinearSVC(C=10000, class_weight='auto', dual=True, fit_intercept=True,\\n     intercept_scaling=1,...    88.42%   \n",
       "\n",
       "                                                                                                       urae  \\\n",
       "LinearSVC(C=0.1, class_weight='auto', dual=True, fit_intercept=True,\\n     intercept_scaling=1, l... 44.06%   \n",
       "LinearSVC(C=1.0, class_weight='auto', dual=True, fit_intercept=True,\\n     intercept_scaling=1, l... 50.01%   \n",
       "LinearSVC(C=5, class_weight='auto', dual=True, fit_intercept=True,\\n     intercept_scaling=1, los... 51.14%   \n",
       "LinearSVC(C=10, class_weight='auto', dual=True, fit_intercept=True,\\n     intercept_scaling=1, lo... 50.88%   \n",
       "LinearSVC(C=100, class_weight='auto', dual=True, fit_intercept=True,\\n     intercept_scaling=1, l... 49.60%   \n",
       "LinearSVC(C=1000, class_weight='auto', dual=True, fit_intercept=True,\\n     intercept_scaling=1, ... 48.78%   \n",
       "LinearSVC(C=10000, class_weight='auto', dual=True, fit_intercept=True,\\n     intercept_scaling=1,... 48.78%   \n",
       "\n",
       "                                                                                                       mowe  \\\n",
       "LinearSVC(C=0.1, class_weight='auto', dual=True, fit_intercept=True,\\n     intercept_scaling=1, l... 96.29%   \n",
       "LinearSVC(C=1.0, class_weight='auto', dual=True, fit_intercept=True,\\n     intercept_scaling=1, l... 97.44%   \n",
       "LinearSVC(C=5, class_weight='auto', dual=True, fit_intercept=True,\\n     intercept_scaling=1, los... 97.79%   \n",
       "LinearSVC(C=10, class_weight='auto', dual=True, fit_intercept=True,\\n     intercept_scaling=1, lo... 97.91%   \n",
       "LinearSVC(C=100, class_weight='auto', dual=True, fit_intercept=True,\\n     intercept_scaling=1, l... 97.79%   \n",
       "LinearSVC(C=1000, class_weight='auto', dual=True, fit_intercept=True,\\n     intercept_scaling=1, ... 97.79%   \n",
       "LinearSVC(C=10000, class_weight='auto', dual=True, fit_intercept=True,\\n     intercept_scaling=1,... 97.79%   \n",
       "\n",
       "                                                                                                       sowe  \\\n",
       "LinearSVC(C=0.1, class_weight='auto', dual=True, fit_intercept=True,\\n     intercept_scaling=1, l... 98.02%   \n",
       "LinearSVC(C=1.0, class_weight='auto', dual=True, fit_intercept=True,\\n     intercept_scaling=1, l... 97.90%   \n",
       "LinearSVC(C=5, class_weight='auto', dual=True, fit_intercept=True,\\n     intercept_scaling=1, los... 97.79%   \n",
       "LinearSVC(C=10, class_weight='auto', dual=True, fit_intercept=True,\\n     intercept_scaling=1, lo... 97.79%   \n",
       "LinearSVC(C=100, class_weight='auto', dual=True, fit_intercept=True,\\n     intercept_scaling=1, l... 97.79%   \n",
       "LinearSVC(C=1000, class_weight='auto', dual=True, fit_intercept=True,\\n     intercept_scaling=1, ... 97.79%   \n",
       "LinearSVC(C=10000, class_weight='auto', dual=True, fit_intercept=True,\\n     intercept_scaling=1,... 97.79%   \n",
       "\n",
       "                                                                                                        bow  \\\n",
       "LinearSVC(C=0.1, class_weight='auto', dual=True, fit_intercept=True,\\n     intercept_scaling=1, l... 98.37%   \n",
       "LinearSVC(C=1.0, class_weight='auto', dual=True, fit_intercept=True,\\n     intercept_scaling=1, l... 98.37%   \n",
       "LinearSVC(C=5, class_weight='auto', dual=True, fit_intercept=True,\\n     intercept_scaling=1, los... 98.37%   \n",
       "LinearSVC(C=10, class_weight='auto', dual=True, fit_intercept=True,\\n     intercept_scaling=1, lo... 98.37%   \n",
       "LinearSVC(C=100, class_weight='auto', dual=True, fit_intercept=True,\\n     intercept_scaling=1, l... 98.37%   \n",
       "LinearSVC(C=1000, class_weight='auto', dual=True, fit_intercept=True,\\n     intercept_scaling=1, ... 98.37%   \n",
       "LinearSVC(C=10000, class_weight='auto', dual=True, fit_intercept=True,\\n     intercept_scaling=1,... 98.37%   \n",
       "\n",
       "                                                                                                      rand  \n",
       "LinearSVC(C=0.1, class_weight='auto', dual=True, fit_intercept=True,\\n     intercept_scaling=1, l... 0.48%  \n",
       "LinearSVC(C=1.0, class_weight='auto', dual=True, fit_intercept=True,\\n     intercept_scaling=1, l... 0.47%  \n",
       "LinearSVC(C=5, class_weight='auto', dual=True, fit_intercept=True,\\n     intercept_scaling=1, los... 0.47%  \n",
       "LinearSVC(C=10, class_weight='auto', dual=True, fit_intercept=True,\\n     intercept_scaling=1, lo... 0.47%  \n",
       "LinearSVC(C=100, class_weight='auto', dual=True, fit_intercept=True,\\n     intercept_scaling=1, l... 0.47%  \n",
       "LinearSVC(C=1000, class_weight='auto', dual=True, fit_intercept=True,\\n     intercept_scaling=1, ... 0.47%  \n",
       "LinearSVC(C=10000, class_weight='auto', dual=True, fit_intercept=True,\\n     intercept_scaling=1,... 0.47%  "
      ]
     },
     "execution_count": 37,
     "metadata": {},
     "output_type": "execute_result"
    }
   ],
   "source": [
    "from sklearn import cross_validation\n",
    "n_folds =  df.tokenized_phrases.groupby(level=0).agg(len).min()\n",
    "print(str(n_folds)+\"-fold validation\")\n",
    "classify_results = pd.DataFrame(index=classifiers)\n",
    "for column in df.columns[1:]:\n",
    "    for classifier in classifiers:\n",
    "        cv_res = cross_validation.cross_val_score(classifier, \n",
    "                                          X = np.row_stack(df[column]),\n",
    "                                          y = get_true_classes(df),\n",
    "                                          cv= n_folds,\n",
    "                                          n_jobs=-1\n",
    "                                        \n",
    "                                          )\n",
    "        classify_results.loc[classifier,(column)] = cv_res.mean()\n",
    "        #classify_results.loc[svm,(column+\"_std\")] = cv_res.std()\n",
    "\n",
    "classify_results"
   ]
  },
  {
   "cell_type": "code",
   "execution_count": 20,
   "metadata": {
    "collapsed": false,
    "scrolled": true
   },
   "outputs": [
    {
     "name": "stderr",
     "output_type": "stream",
     "text": [
      "/usr/local/lib/python3.4/site-packages/numpy/core/_methods.py:59: RuntimeWarning: Mean of empty slice.\n",
      "  warnings.warn(\"Mean of empty slice.\", RuntimeWarning)\n"
     ]
    },
    {
     "data": {
      "text/html": [
       "<div>\n",
       "<table border=\"1\" class=\"dataframe\">\n",
       "  <thead>\n",
       "    <tr style=\"text-align: right;\">\n",
       "      <th></th>\n",
       "      <th>0</th>\n",
       "      <th>1</th>\n",
       "      <th>2</th>\n",
       "    </tr>\n",
       "  </thead>\n",
       "  <tbody>\n",
       "    <tr>\n",
       "      <th>LinearSVC(C=0.1, class_weight='auto', dual=True, fit_intercept=True,\\n     intercept_scaling=1, loss='squared_hinge', max_iter=20000,\\n     multi_class='ovr', penalty='l2', random_state=None, tol=0.0001,\\n     verbose=0)</th>\n",
       "      <td>0.978221</td>\n",
       "      <td>0.975945</td>\n",
       "      <td>0.984615</td>\n",
       "    </tr>\n",
       "    <tr>\n",
       "      <th>LinearSVC(C=1.0, class_weight='auto', dual=True, fit_intercept=True,\\n     intercept_scaling=1, loss='squared_hinge', max_iter=20000,\\n     multi_class='ovr', penalty='l2', random_state=None, tol=0.0001,\\n     verbose=0)</th>\n",
       "      <td>0.976407</td>\n",
       "      <td>0.975945</td>\n",
       "      <td>0.982906</td>\n",
       "    </tr>\n",
       "    <tr>\n",
       "      <th>LinearSVC(C=5, class_weight='auto', dual=True, fit_intercept=True,\\n     intercept_scaling=1, loss='squared_hinge', max_iter=20000,\\n     multi_class='ovr', penalty='l2', random_state=None, tol=0.0001,\\n     verbose=0)</th>\n",
       "      <td>0.976407</td>\n",
       "      <td>0.975945</td>\n",
       "      <td>0.982906</td>\n",
       "    </tr>\n",
       "    <tr>\n",
       "      <th>LinearSVC(C=10, class_weight='auto', dual=True, fit_intercept=True,\\n     intercept_scaling=1, loss='squared_hinge', max_iter=20000,\\n     multi_class='ovr', penalty='l2', random_state=None, tol=0.0001,\\n     verbose=0)</th>\n",
       "      <td>0.976407</td>\n",
       "      <td>0.975945</td>\n",
       "      <td>0.982906</td>\n",
       "    </tr>\n",
       "    <tr>\n",
       "      <th>LinearSVC(C=100, class_weight='auto', dual=True, fit_intercept=True,\\n     intercept_scaling=1, loss='squared_hinge', max_iter=20000,\\n     multi_class='ovr', penalty='l2', random_state=None, tol=0.0001,\\n     verbose=0)</th>\n",
       "      <td>0.976407</td>\n",
       "      <td>0.975945</td>\n",
       "      <td>0.982906</td>\n",
       "    </tr>\n",
       "    <tr>\n",
       "      <th>LinearSVC(C=1000, class_weight='auto', dual=True, fit_intercept=True,\\n     intercept_scaling=1, loss='squared_hinge', max_iter=20000,\\n     multi_class='ovr', penalty='l2', random_state=None, tol=0.0001,\\n     verbose=0)</th>\n",
       "      <td>0.976407</td>\n",
       "      <td>0.975945</td>\n",
       "      <td>0.982906</td>\n",
       "    </tr>\n",
       "    <tr>\n",
       "      <th>LinearSVC(C=10000, class_weight='auto', dual=True, fit_intercept=True,\\n     intercept_scaling=1, loss='squared_hinge', max_iter=20000,\\n     multi_class='ovr', penalty='l2', random_state=None, tol=0.0001,\\n     verbose=0)</th>\n",
       "      <td>0.976407</td>\n",
       "      <td>0.975945</td>\n",
       "      <td>0.982906</td>\n",
       "    </tr>\n",
       "  </tbody>\n",
       "</table>\n",
       "</div>"
      ],
      "text/plain": [
       "                                                                                                             0  \\\n",
       "LinearSVC(C=0.1, class_weight='auto', dual=True, fit_intercept=True,\\n     intercept_scaling=1, l...  0.978221   \n",
       "LinearSVC(C=1.0, class_weight='auto', dual=True, fit_intercept=True,\\n     intercept_scaling=1, l...  0.976407   \n",
       "LinearSVC(C=5, class_weight='auto', dual=True, fit_intercept=True,\\n     intercept_scaling=1, los...  0.976407   \n",
       "LinearSVC(C=10, class_weight='auto', dual=True, fit_intercept=True,\\n     intercept_scaling=1, lo...  0.976407   \n",
       "LinearSVC(C=100, class_weight='auto', dual=True, fit_intercept=True,\\n     intercept_scaling=1, l...  0.976407   \n",
       "LinearSVC(C=1000, class_weight='auto', dual=True, fit_intercept=True,\\n     intercept_scaling=1, ...  0.976407   \n",
       "LinearSVC(C=10000, class_weight='auto', dual=True, fit_intercept=True,\\n     intercept_scaling=1,...  0.976407   \n",
       "\n",
       "                                                                                                             1  \\\n",
       "LinearSVC(C=0.1, class_weight='auto', dual=True, fit_intercept=True,\\n     intercept_scaling=1, l...  0.975945   \n",
       "LinearSVC(C=1.0, class_weight='auto', dual=True, fit_intercept=True,\\n     intercept_scaling=1, l...  0.975945   \n",
       "LinearSVC(C=5, class_weight='auto', dual=True, fit_intercept=True,\\n     intercept_scaling=1, los...  0.975945   \n",
       "LinearSVC(C=10, class_weight='auto', dual=True, fit_intercept=True,\\n     intercept_scaling=1, lo...  0.975945   \n",
       "LinearSVC(C=100, class_weight='auto', dual=True, fit_intercept=True,\\n     intercept_scaling=1, l...  0.975945   \n",
       "LinearSVC(C=1000, class_weight='auto', dual=True, fit_intercept=True,\\n     intercept_scaling=1, ...  0.975945   \n",
       "LinearSVC(C=10000, class_weight='auto', dual=True, fit_intercept=True,\\n     intercept_scaling=1,...  0.975945   \n",
       "\n",
       "                                                                                                             2  \n",
       "LinearSVC(C=0.1, class_weight='auto', dual=True, fit_intercept=True,\\n     intercept_scaling=1, l...  0.984615  \n",
       "LinearSVC(C=1.0, class_weight='auto', dual=True, fit_intercept=True,\\n     intercept_scaling=1, l...  0.982906  \n",
       "LinearSVC(C=5, class_weight='auto', dual=True, fit_intercept=True,\\n     intercept_scaling=1, los...  0.982906  \n",
       "LinearSVC(C=10, class_weight='auto', dual=True, fit_intercept=True,\\n     intercept_scaling=1, lo...  0.982906  \n",
       "LinearSVC(C=100, class_weight='auto', dual=True, fit_intercept=True,\\n     intercept_scaling=1, l...  0.982906  \n",
       "LinearSVC(C=1000, class_weight='auto', dual=True, fit_intercept=True,\\n     intercept_scaling=1, ...  0.982906  \n",
       "LinearSVC(C=10000, class_weight='auto', dual=True, fit_intercept=True,\\n     intercept_scaling=1,...  0.982906  "
      ]
     },
     "execution_count": 20,
     "metadata": {},
     "output_type": "execute_result"
    }
   ],
   "source": [
    "#The corr\n",
    "from copy import deepcopy\n",
    "from sklearn.cross_validation import StratifiedKFold\n",
    "X = np.row_stack(df[\"bow\"])\n",
    "y = get_true_classes(df)\n",
    "n_folds = df.tokenized_phrases.groupby(level=0).agg(len).min()\n",
    "\n",
    "pca_bow_res = pd.DataFrame()\n",
    "for ii_fold, (test_indexes, train_indexes) in enumerate(StratifiedKFold( y, n_folds)):\n",
    "    X_train = X[train_indexes]\n",
    "    y_train = y[train_indexes]\n",
    "    X_test = X[test_indexes]\n",
    "    y_test = y[test_indexes]\n",
    "    \n",
    "    pca = PCA(300)\n",
    "    X_train = pca.fit_transform(X_train)\n",
    "    X_test = pca.transform(X_test)\n",
    "    \n",
    "    \n",
    "    for classifier_index in classifiers:\n",
    "        classifier = deepcopy(classifier_index)\n",
    "        classifier.fit(X_train, y_train)\n",
    "        pca_bow_res.loc[classifier_index,(ii_fold)] = classifier.score(X_test, y_test)\n",
    "    \n",
    "    \n",
    "pca_bow_res"
   ]
  },
  {
   "cell_type": "code",
   "execution_count": 21,
   "metadata": {
    "collapsed": false
   },
   "outputs": [
    {
     "data": {
      "text/plain": [
       "pv__dm     78.00%\n",
       "pv__dbow   89.93%\n",
       "urae       51.14%\n",
       "mowe       97.91%\n",
       "sowe       98.02%\n",
       "bow        98.37%\n",
       "pca_bow    97.96%\n",
       "dtype: float64"
      ]
     },
     "execution_count": 21,
     "metadata": {},
     "output_type": "execute_result"
    }
   ],
   "source": [
    "classify_results[\"pca_bow\"] = pca_bow_res.mean(axis=1)\n",
    "\n",
    "pd.options.display.float_format = lambda x: '{:.2f}%'.format(x*100)\n",
    "classify_results.max()"
   ]
  },
  {
   "cell_type": "code",
   "execution_count": 22,
   "metadata": {
    "collapsed": false,
    "scrolled": true
   },
   "outputs": [],
   "source": [
    "from sklearn.cross_validation import StratifiedShuffleSplit\n",
    "from collections import OrderedDict\n",
    "\n",
    "best_classifiers = classify_results.idxmax().to_dict()\n",
    "actual_classes=OrderedDict()\n",
    "\n",
    "y=get_true_classes(df)\n",
    "train_indexes, test_indexes = list(*StratifiedShuffleSplit(y,1,test_size=1/n_folds))\n",
    "y_train = y[train_indexes]\n",
    "y_test = y[test_indexes]\n",
    "\n",
    "\n",
    "\n",
    "\n",
    "for model in classify_results.columns:\n",
    "    \n",
    "    X = np.row_stack(df[model if model!=\"pca_bow\" else \"bow\"])\n",
    "    X_train = X[train_indexes]\n",
    "    X_test = X[test_indexes]\n",
    "    \n",
    "    if model == \"pca_bow\":\n",
    "        pca = PCA(300)\n",
    "        X_train = pca.fit_transform(X_train)\n",
    "        X_test = pca.transform(X_test)\n",
    "\n",
    "    \n",
    "    classifier = best_classifiers[model]\n",
    "    classifier.fit(X_train,y_train)\n",
    "    actual_classes[model] = classifier.predict(X_test)\n"
   ]
  },
  {
   "cell_type": "code",
   "execution_count": 181,
   "metadata": {
    "collapsed": false
   },
   "outputs": [],
   "source": [
    "import matplotlib\n",
    "def plot_matrix(numer,denom, labels, cmap=matplotlib.cm.Blues):\n",
    "    labels=list(labels)\n",
    "    pl.title(os.path.basename(os.getcwd()).upper(),  fontweight='bold')  \n",
    "    cmap.set_bad('w')\n",
    "    \n",
    "    mat = np.asarray((numer/denom).values,dtype=np.float32)\n",
    "    mask =  np.tri(mat.shape[0], k=0)\n",
    "    mat = np.ma.array(mat, mask=mask)\n",
    "    #mat=100*mat #Conver to percent\n",
    "    \n",
    "    pl.imshow(mat, interpolation='nearest', cmap=cmap, vmin=0, vmax=1)\n",
    "    pl.colorbar()\n",
    "    \n",
    "    for ii in range(0,len(labels)):\n",
    "        iiL = labels[len(labels)-ii-1]\n",
    "        for jj in range(ii+1,len(labels)):\n",
    "            jjL=labels[len(labels)-jj-1]\n",
    "            posX = len(labels)-ii-1\n",
    "            posY = len(labels)-jj-1\n",
    "            #text =  \"%i/%i\" % (numer.loc[iiL,jjL], denom.loc[iiL,jjL])\n",
    "            text =  r\"$\\frac{%i}{%i}$\" % (numer.loc[iiL,jjL], denom.loc[iiL,jjL])\n",
    "            pl.text(posX,posY,text,\n",
    "                size='xx-large', family='sans-serif',\n",
    "                horizontalalignment='center', verticalalignment=\"center\",\n",
    "                bbox=dict(facecolor='white', alpha=0.9, pad=10)\n",
    "               )\n",
    "    \n",
    "    fig = pl.gcf()\n",
    "    ax = pl.gca()\n",
    "        \n",
    "    pl.xticks([])\n",
    "    pl.yticks([])\n",
    "    labels = normalise_names(labels)\n",
    "    labels.reverse()\n",
    "    for ii,label in enumerate(labels):\n",
    "        pos = len(labels)-ii-1\n",
    "        shift = -0.01 if len(label)<7 else -0.1\n",
    "        pl.text(pos+shift,pos,label,horizontalalignment='center', verticalalignment=\"center\" )\n",
    "        \n",
    "        xs = np.asarray([ii,ii+1,ii+1])-0.5\n",
    "        ys = np.asarray([ii,ii ,ii+1])-0.5-0.025\n",
    "        ax.add_line(matplotlib.lines.Line2D(xs,ys, c='k', linewidth=1, snap=True))\n",
    "    \n",
    "    \n",
    "    ax.add_line(matplotlib.lines.Line2D([0.5,len(labels)-0.51,len(labels)-0.51],[-0.5,-0.5,len(labels)-1.51], \n",
    "                                        c='k',\n",
    "                                        linewidth=1,\n",
    "                                        snap=True,\n",
    "                                        clip_on=False\n",
    "                                       ))\n",
    "    pl.setp(ax,'frame_on',False)\n",
    "\n",
    "    pl.tight_layout()\n",
    "    \n",
    "\n"
   ]
  },
  {
   "cell_type": "code",
   "execution_count": 182,
   "metadata": {
    "collapsed": false
   },
   "outputs": [
    {
     "data": {
      "image/png": "[encoded data removed]",
      "text/plain": [
       "<matplotlib.figure.Figure at 0x7f5045dc7dd8>"
      ]
     },
     "metadata": {},
     "output_type": "display_data"
    }
   ],
   "source": [
    "\n",
    "mistake_agreement = pd.DataFrame(columns=actual_classes.keys(), index=actual_classes.keys())\n",
    "both_wrong = pd.DataFrame(columns=actual_classes.keys(), index=actual_classes.keys())\n",
    "for model1 in actual_classes.keys():\n",
    "    for model2 in actual_classes.keys():\n",
    "        classes1=actual_classes[model1]\n",
    "        classes2=actual_classes[model2]\n",
    "        \n",
    "        mistake_indexes = np.logical_and(classes1!=y_test, classes2!=y_test)\n",
    "        both_wrong.loc[model1,model2] = mistake_indexes.sum()\n",
    "        \n",
    "        \n",
    "        mistake_agreement.loc[model1,model2] = (classes1[mistake_indexes]==classes2[mistake_indexes]).sum()\n",
    "        \n",
    "      \n",
    "plot_matrix(mistake_agreement,both_wrong, actual_classes.keys())\n",
    "mistake_agreement/both_wrong\n",
    "savefigure(\"msrp_agree.pdf\")\n",
    "    \n"
   ]
  },
  {
   "cell_type": "code",
   "execution_count": 160,
   "metadata": {
    "collapsed": false
   },
   "outputs": [],
   "source": []
  },
  {
   "cell_type": "code",
   "execution_count": 25,
   "metadata": {
    "collapsed": false,
    "scrolled": false
   },
   "outputs": [
    {
     "data": {
      "text/html": [
       "<div>\n",
       "<table border=\"1\" class=\"dataframe\">\n",
       "  <thead>\n",
       "    <tr style=\"text-align: right;\">\n",
       "      <th></th>\n",
       "      <th>pv__dm</th>\n",
       "      <th>pv__dbow</th>\n",
       "      <th>urae</th>\n",
       "      <th>mowe</th>\n",
       "      <th>sowe</th>\n",
       "      <th>bow</th>\n",
       "      <th>pca_bow</th>\n",
       "      <th>ground_truth</th>\n",
       "    </tr>\n",
       "  </thead>\n",
       "  <tbody>\n",
       "    <tr>\n",
       "      <th>pv__dm</th>\n",
       "      <td>100.00%</td>\n",
       "      <td>80.14%</td>\n",
       "      <td>60.65%</td>\n",
       "      <td>79.42%</td>\n",
       "      <td>79.06%</td>\n",
       "      <td>78.70%</td>\n",
       "      <td>79.42%</td>\n",
       "      <td>77.26%</td>\n",
       "    </tr>\n",
       "    <tr>\n",
       "      <th>pv__dbow</th>\n",
       "      <td>80.14%</td>\n",
       "      <td>100.00%</td>\n",
       "      <td>55.96%</td>\n",
       "      <td>91.34%</td>\n",
       "      <td>90.97%</td>\n",
       "      <td>89.89%</td>\n",
       "      <td>90.61%</td>\n",
       "      <td>88.45%</td>\n",
       "    </tr>\n",
       "    <tr>\n",
       "      <th>urae</th>\n",
       "      <td>60.65%</td>\n",
       "      <td>55.96%</td>\n",
       "      <td>100.00%</td>\n",
       "      <td>53.07%</td>\n",
       "      <td>52.71%</td>\n",
       "      <td>51.62%</td>\n",
       "      <td>52.35%</td>\n",
       "      <td>50.18%</td>\n",
       "    </tr>\n",
       "    <tr>\n",
       "      <th>mowe</th>\n",
       "      <td>79.42%</td>\n",
       "      <td>91.34%</td>\n",
       "      <td>53.07%</td>\n",
       "      <td>100.00%</td>\n",
       "      <td>99.64%</td>\n",
       "      <td>98.56%</td>\n",
       "      <td>99.28%</td>\n",
       "      <td>97.11%</td>\n",
       "    </tr>\n",
       "    <tr>\n",
       "      <th>sowe</th>\n",
       "      <td>79.06%</td>\n",
       "      <td>90.97%</td>\n",
       "      <td>52.71%</td>\n",
       "      <td>99.64%</td>\n",
       "      <td>100.00%</td>\n",
       "      <td>98.92%</td>\n",
       "      <td>98.92%</td>\n",
       "      <td>97.47%</td>\n",
       "    </tr>\n",
       "    <tr>\n",
       "      <th>bow</th>\n",
       "      <td>78.70%</td>\n",
       "      <td>89.89%</td>\n",
       "      <td>51.62%</td>\n",
       "      <td>98.56%</td>\n",
       "      <td>98.92%</td>\n",
       "      <td>100.00%</td>\n",
       "      <td>99.28%</td>\n",
       "      <td>98.56%</td>\n",
       "    </tr>\n",
       "    <tr>\n",
       "      <th>pca_bow</th>\n",
       "      <td>79.42%</td>\n",
       "      <td>90.61%</td>\n",
       "      <td>52.35%</td>\n",
       "      <td>99.28%</td>\n",
       "      <td>98.92%</td>\n",
       "      <td>99.28%</td>\n",
       "      <td>100.00%</td>\n",
       "      <td>97.83%</td>\n",
       "    </tr>\n",
       "    <tr>\n",
       "      <th>ground_truth</th>\n",
       "      <td>77.26%</td>\n",
       "      <td>88.45%</td>\n",
       "      <td>50.18%</td>\n",
       "      <td>97.11%</td>\n",
       "      <td>97.47%</td>\n",
       "      <td>98.56%</td>\n",
       "      <td>97.83%</td>\n",
       "      <td>100.00%</td>\n",
       "    </tr>\n",
       "  </tbody>\n",
       "</table>\n",
       "</div>"
      ],
      "text/plain": [
       "              pv__dm pv__dbow    urae    mowe    sowe     bow pca_bow  \\\n",
       "pv__dm       100.00%   80.14%  60.65%  79.42%  79.06%  78.70%  79.42%   \n",
       "pv__dbow      80.14%  100.00%  55.96%  91.34%  90.97%  89.89%  90.61%   \n",
       "urae          60.65%   55.96% 100.00%  53.07%  52.71%  51.62%  52.35%   \n",
       "mowe          79.42%   91.34%  53.07% 100.00%  99.64%  98.56%  99.28%   \n",
       "sowe          79.06%   90.97%  52.71%  99.64% 100.00%  98.92%  98.92%   \n",
       "bow           78.70%   89.89%  51.62%  98.56%  98.92% 100.00%  99.28%   \n",
       "pca_bow       79.42%   90.61%  52.35%  99.28%  98.92%  99.28% 100.00%   \n",
       "ground_truth  77.26%   88.45%  50.18%  97.11%  97.47%  98.56%  97.83%   \n",
       "\n",
       "             ground_truth  \n",
       "pv__dm             77.26%  \n",
       "pv__dbow           88.45%  \n",
       "urae               50.18%  \n",
       "mowe               97.11%  \n",
       "sowe               97.47%  \n",
       "bow                98.56%  \n",
       "pca_bow            97.83%  \n",
       "ground_truth      100.00%  "
      ]
     },
     "execution_count": 25,
     "metadata": {},
     "output_type": "execute_result"
    },
    {
     "data": {
      "image/png": "[encoded data removed]",
      "text/plain": [
       "<matplotlib.figure.Figure at 0x7f506e44d518>"
      ]
     },
     "metadata": {},
     "output_type": "display_data"
    }
   ],
   "source": [
    "difficulty_agreement = pd.DataFrame(columns=actual_classes.keys(), index=actual_classes.keys())\n",
    "\n",
    "for model1 in actual_classes.keys():\n",
    "    for model2 in actual_classes.keys():\n",
    "        classes1=actual_classes[model1]\n",
    "        classes2=actual_classes[model2]\n",
    "        \n",
    "        difficulty_agreement.loc[model1,model2] = sklearn.metrics.jaccard_similarity_score(classes1!=y_test,\n",
    "                                                                                           classes2!=y_test)\n",
    "        \n",
    "plot_matrix(np.asarray( difficulty_agreement.values, dtype=np.float32), actual_classes.keys(),matplotlib.cm.Reds)\n",
    "difficulty_agreement\n",
    "\n",
    "        \n",
    "        "
   ]
  },
  {
   "cell_type": "code",
   "execution_count": 28,
   "metadata": {
    "collapsed": false
   },
   "outputs": [
    {
     "data": {
      "text/html": [
       "<div>\n",
       "<table border=\"1\" class=\"dataframe\">\n",
       "  <thead>\n",
       "    <tr style=\"text-align: right;\">\n",
       "      <th></th>\n",
       "      <th>pv__dm</th>\n",
       "      <th>pv__dbow</th>\n",
       "      <th>urae</th>\n",
       "      <th>mowe</th>\n",
       "      <th>sowe</th>\n",
       "      <th>bow</th>\n",
       "      <th>pca_bow</th>\n",
       "    </tr>\n",
       "  </thead>\n",
       "  <tbody>\n",
       "    <tr>\n",
       "      <th>pv__dm</th>\n",
       "      <td>100.00%</td>\n",
       "      <td>73.65%</td>\n",
       "      <td>45.13%</td>\n",
       "      <td>77.62%</td>\n",
       "      <td>77.62%</td>\n",
       "      <td>77.62%</td>\n",
       "      <td>78.34%</td>\n",
       "    </tr>\n",
       "    <tr>\n",
       "      <th>pv__dbow</th>\n",
       "      <td>73.65%</td>\n",
       "      <td>100.00%</td>\n",
       "      <td>48.38%</td>\n",
       "      <td>89.89%</td>\n",
       "      <td>89.89%</td>\n",
       "      <td>89.53%</td>\n",
       "      <td>89.53%</td>\n",
       "    </tr>\n",
       "    <tr>\n",
       "      <th>urae</th>\n",
       "      <td>45.13%</td>\n",
       "      <td>48.38%</td>\n",
       "      <td>100.00%</td>\n",
       "      <td>50.54%</td>\n",
       "      <td>50.54%</td>\n",
       "      <td>50.18%</td>\n",
       "      <td>50.90%</td>\n",
       "    </tr>\n",
       "    <tr>\n",
       "      <th>mowe</th>\n",
       "      <td>77.62%</td>\n",
       "      <td>89.89%</td>\n",
       "      <td>50.54%</td>\n",
       "      <td>100.00%</td>\n",
       "      <td>99.64%</td>\n",
       "      <td>98.56%</td>\n",
       "      <td>98.92%</td>\n",
       "    </tr>\n",
       "    <tr>\n",
       "      <th>sowe</th>\n",
       "      <td>77.62%</td>\n",
       "      <td>89.89%</td>\n",
       "      <td>50.54%</td>\n",
       "      <td>99.64%</td>\n",
       "      <td>100.00%</td>\n",
       "      <td>98.92%</td>\n",
       "      <td>98.56%</td>\n",
       "    </tr>\n",
       "    <tr>\n",
       "      <th>bow</th>\n",
       "      <td>77.62%</td>\n",
       "      <td>89.53%</td>\n",
       "      <td>50.18%</td>\n",
       "      <td>98.56%</td>\n",
       "      <td>98.92%</td>\n",
       "      <td>100.00%</td>\n",
       "      <td>98.92%</td>\n",
       "    </tr>\n",
       "    <tr>\n",
       "      <th>pca_bow</th>\n",
       "      <td>78.34%</td>\n",
       "      <td>89.53%</td>\n",
       "      <td>50.90%</td>\n",
       "      <td>98.92%</td>\n",
       "      <td>98.56%</td>\n",
       "      <td>98.92%</td>\n",
       "      <td>100.00%</td>\n",
       "    </tr>\n",
       "  </tbody>\n",
       "</table>\n",
       "</div>"
      ],
      "text/plain": [
       "          pv__dm pv__dbow    urae    mowe    sowe     bow pca_bow\n",
       "pv__dm   100.00%   73.65%  45.13%  77.62%  77.62%  77.62%  78.34%\n",
       "pv__dbow  73.65%  100.00%  48.38%  89.89%  89.89%  89.53%  89.53%\n",
       "urae      45.13%   48.38% 100.00%  50.54%  50.54%  50.18%  50.90%\n",
       "mowe      77.62%   89.89%  50.54% 100.00%  99.64%  98.56%  98.92%\n",
       "sowe      77.62%   89.89%  50.54%  99.64% 100.00%  98.92%  98.56%\n",
       "bow       77.62%   89.53%  50.18%  98.56%  98.92% 100.00%  98.92%\n",
       "pca_bow   78.34%   89.53%  50.90%  98.92%  98.56%  98.92% 100.00%"
      ]
     },
     "execution_count": 28,
     "metadata": {},
     "output_type": "execute_result"
    },
    {
     "data": {
      "image/png": "[encoded data removed]",
      "text/plain": [
       "<matplotlib.figure.Figure at 0x7f506e47ae48>"
      ]
     },
     "metadata": {},
     "output_type": "display_data"
    }
   ],
   "source": [
    "actual_classes[\"ground_truth\"] = y_test\n",
    "import sklearn\n",
    "agreement = pd.DataFrame(columns=actual_classes.keys(), index=actual_classes.keys())\n",
    "for model1 in actual_classes.keys():\n",
    "    for model2 in actual_classes.keys():\n",
    "        agreement.loc[model1,model2] = sklearn.metrics.accuracy_score(actual_classes[model1],actual_classes[model2])\n",
    "plot_matrix(np.asarray( agreement.values, dtype=np.float32), actual_classes.keys(), matplotlib.cm.Greens)\n",
    "\n",
    "agreement"
   ]
  },
  {
   "cell_type": "code",
   "execution_count": null,
   "metadata": {
    "collapsed": true
   },
   "outputs": [],
   "source": []
  },
  {
   "cell_type": "markdown",
   "metadata": {},
   "source": [
    "#Wei's method\n",
    "\n",
    "0. Normalise all embeddings for each model\n",
    "1. within each paraphrase group, for each model, work out average pair-wise cosine similarity (or distance)\n",
    "  1. the ground truth in this case should be horizontal x axis, which means the best values that each model gets should be close to zero (if you use similarity, rather than distance). So the model with an overall trend of low similarity values capture the semantics better.\n",
    "2. treat each model's average similarity/distance for the paraphrase groups as a time series, do a z-normalisation () the time (horizontal) axis is the paraphrase group index, and the y axis is the similarity value after the z-normalisation\n",
    "3. measure the similarity between the four model time series, pair-wise using Euclidean distance to see which model agrees with each other. \n"
   ]
  },
  {
   "cell_type": "code",
   "execution_count": null,
   "metadata": {
    "collapsed": true
   },
   "outputs": [],
   "source": [
    "import scipy.spatial.distance as distance\n",
    "\n",
    "def angular_dist(a,b):\n",
    "    cos_sim = np.dot(a,b)/(np.linalg.norm(a)*np.linalg.norm(b))\n",
    "    return 1- np.arccos(cos_sim)/np.pi\n"
   ]
  },
  {
   "cell_type": "code",
   "execution_count": null,
   "metadata": {
    "collapsed": false
   },
   "outputs": [],
   "source": [
    "def get_std(series):\n",
    "    xs=np.row_stack(series)\n",
    "    std_dev = xs.std(axis=0)\n",
    "    std_dev[std_dev==0.0]=1.0\n",
    "    return list(std_dev)\n",
    "def get_mean(series):\n",
    "    xs = np.row_stack(series)\n",
    "    return list(xs.mean(axis=0))\n",
    "\n",
    "dfs = (df.iloc[:,1:]-df.iloc[:,1:].apply(get_mean))/df.iloc[:,1:].apply(get_std)\n",
    "\n"
   ]
  },
  {
   "cell_type": "code",
   "execution_count": null,
   "metadata": {
    "collapsed": false
   },
   "outputs": [],
   "source": [
    "def get_group_sim(group):\n",
    "    xs = np.row_stack(group)\n",
    "    #cosine_sim = (1-distance.pdist(xs, 'cosine'))\n",
    "    dist = distance.pdist(xs,angular_dist)\n",
    "    return dist.mean()\n",
    "\n",
    "group_sims = dfs.groupby(level=0).agg(get_group_sim)\n",
    "group_sims.hist(bins=np.linspace(0,1,50), sharex=True, sharey=True)\n",
    "group_sims.describe()"
   ]
  },
  {
   "cell_type": "code",
   "execution_count": null,
   "metadata": {
    "collapsed": false
   },
   "outputs": [],
   "source": [
    "\n",
    "def get_interrater_e_distance(ratings):\n",
    "    rating_dist = distance.pdist(n_group_sims.as_matrix().T)\n",
    "    return distance.squareform(rating_dist)\n",
    "\n",
    "def z_norm(col):\n",
    "    return (col-col.mean())/col.std()\n",
    "\n",
    "n_group_sims = group_sims.apply(z_norm)\n",
    "\n",
    "\n",
    "interrater_e_distance = get_interrater_e_distance(n_group_sims)\n",
    "print(pd.DataFrame( interrater_e_distance, columns =n_group_sims.columns, index=n_group_sims.columns))\n",
    "      \n",
    "plot_matrix(interrater_e_distance, n_group_sims.columns)"
   ]
  },
  {
   "cell_type": "code",
   "execution_count": null,
   "metadata": {
    "collapsed": false
   },
   "outputs": [],
   "source": [
    "def get_centroid(group):\n",
    "    xs = np.row_stack(group)\n",
    "    return list(xs.mean(axis=0)) #Euclidean\n",
    "\n",
    "\n",
    "\n",
    "def get_medoid(group):\n",
    "    points=np.row_stack(group)\n",
    "    ingroup_index = distance.cdist(points,points, 'cosine').sum(axis=1).argmin()\n",
    "    return list(points[ingroup_index,:])\n",
    "\n",
    "\n",
    "def get_angular_centroid(group):\n",
    "    # the angular centroid is a line, here we choes an arbitairy point on it.\n",
    "    # Dicussion of how normalising and adding wroks is at http://math.stackexchange.com/a/925659/1505\n",
    "    points = np.row_stack(group)\n",
    "    unit_points = points/np.linalg.norm(points,axis=1)[:,None]  #Normalise ot unit vectors\n",
    "    return list(np.sum(unit_points,axis=0))\n",
    "    \n",
    "\n",
    "def get_group_medoids(series):\n",
    "    return series.groupby(level=0).agg(get_medoid)\n",
    "\n",
    "\n",
    "def get_group_centroids(series):\n",
    "    return series.groupby(level=0).agg(get_centroid)\n"
   ]
  },
  {
   "cell_type": "code",
   "execution_count": null,
   "metadata": {
    "collapsed": false
   },
   "outputs": [],
   "source": [
    "def dunn_index(series):\n",
    "    group_intra_distance = series.groupby(level=0).agg(get_group_sim)\n",
    "    denom = group_intra_distance.max()\n",
    "    group_ids = np.unique(series.index[0])\n",
    "    \n",
    "    for ii in group_ids:\n",
    "        smallest_inter_dist = np.Inf\n",
    "        for jj in group_ids:\n",
    "            if ii==jj:\n",
    "                continue\n",
    "            #Now to find the Interclass distance\n",
    "            #Lets\n",
    "            Not WRITEN YET\n",
    "\n",
    "    \n",
    "    return denom\n",
    "\n",
    "dunn_index(df.urae)"
   ]
  },
  {
   "cell_type": "code",
   "execution_count": null,
   "metadata": {
    "collapsed": false
   },
   "outputs": [],
   "source": [
    "\n",
    "#Davies-Bouldin Index \n",
    "#Modified to use angular centroid, and angular distance\n",
    "\n",
    "def davied_bouldin_index(series):\n",
    "\n",
    "    def av_dist_to_centroid(group):\n",
    "        xs = np.row_stack(group)\n",
    "        c = get_angular_centroid(group)\n",
    "        return distance.cdist(xs,[c], angular_dist).mean()\n",
    "\n",
    "    group_centroids = get_group_centroids(series)\n",
    "    group_spreads = series.groupby(level=0).agg(av_dist_to_centroid)\n",
    "    \n",
    "    n_groups = len(group_spreads)\n",
    "    \n",
    "    total = 0.0\n",
    "    for ii in range(n_groups):\n",
    "        greatest = -1*np.Inf\n",
    "        for jj in range(n_groups):\n",
    "            if ii==jj:\n",
    "                continue\n",
    "\n",
    "            numer = group_spreads.iloc[ii] + group_spreads.iloc[jj] \n",
    "            denom = angular_dist(group_centroids.iloc[ii],group_centroids.iloc[jj])\n",
    "            value = numer/denom\n",
    "            greatest = max(greatest, value)\n",
    "        total+= greatest\n",
    "    return total/n_groups\n",
    "\n",
    "            \n",
    "for column in df.columns[1:]:\n",
    "    print(column + \" \" + str(davied_bouldin_index(df.loc[:,column])))"
   ]
  },
  {
   "cell_type": "code",
   "execution_count": null,
   "metadata": {
    "collapsed": false,
    "scrolled": true
   },
   "outputs": [],
   "source": [
    "def get_classes_about_center(series, center_fun):\n",
    "    group_centers = np.row_stack(series.groupby(level=0).agg(center_fun)) \n",
    "    points  = np.row_stack(series)\n",
    "    class_indexes = distance.cdist(points,group_centers, 'cosine').argmin(axis=1)\n",
    "    return np.asarray(series.index[class_indexes].labels[0])\n",
    "\n",
    "def get_classes_by_similarity_to_true_classes(series):\n",
    "    true_classes = get_true_classes(series)\n",
    "    \n",
    "    def av_dist_to_group(point, group):\n",
    "        xs = np.row_stack(group)\n",
    "        return distance.cdist(xs, [point], 'cosine').mean()\n",
    "    \n",
    "    return np.asarray([series.groupby(level=0).agg(lambda group: av_dist_to_group(point, group)).idxmin()\n",
    "               for point in series])\n",
    "    \n",
    "\n",
    "\n",
    "\n",
    "def recluster_success(series):\n",
    "    true_classes = get_true_classes(series)\n",
    "\n",
    "    def get_acc(center_fun):\n",
    "        classes = get_classes_about_center(series, center_fun)\n",
    "        return (classes == true_classes).sum()/len(true_classes)\n",
    "    \n",
    "    classes = get_classes_by_similarity_to_true_classes(series)\n",
    "    group_closeness_acc = (classes == true_classes).sum()/len(true_classes)\n",
    "\n",
    "    return pd.Series([get_acc(get_centroid),\n",
    "                      get_acc(get_medoid),\n",
    "                      get_acc(get_angular_centroid),\n",
    "                      group_closeness_acc\n",
    "                     ], index=\"centroid_acc medoid_acc angular_centroid_acc group_closeness_acc\".split()) \n",
    "    \n",
    "\n",
    "recluster_results = pd.DataFrame()\n",
    "for column in df.columns[1:]:\n",
    "    recluster_results[column] = recluster_success(df[column])\n",
    "\n",
    "recluster_results"
   ]
  },
  {
   "cell_type": "code",
   "execution_count": null,
   "metadata": {
    "collapsed": false,
    "scrolled": true
   },
   "outputs": [],
   "source": [
    "#Lets take a look at what mistakes are being made.\n",
    "#We can look at the exemplary member of each class as a repressentitive,\n",
    "#And can compare that for the class it was given to that for the class it should have been given\n",
    "\n",
    "def get_exemplars(df, col_name, get_center_fun):\n",
    "    series = df[col_name]\n",
    "    def get_exemplar(group):\n",
    "        c = get_center_fun(group)\n",
    "        points=np.row_stack(group)\n",
    "        ingroup_index = distance.cdist(points,[c], 'cosine').flatten().argmin()\n",
    "        df_index = group.index[ingroup_index]\n",
    "        return df.tokenized_phrases[df_index]\n",
    "    \n",
    "    return series.groupby(level=0).agg(get_exemplar)\n",
    "\n",
    "\n",
    "def get_mistakes(df, col_name, get_center_fun=get_angular_centroid):\n",
    "    group_exemplars = get_exemplars(df, col_name,get_center_fun)\n",
    "    \n",
    "    series = df[col_name]\n",
    "    \n",
    "    classes = get_classes(series, get_center_fun)\n",
    "    \n",
    "    return show_mistakes(df, classes, col_name, get_center_fun)\n",
    "\n",
    "\n",
    "def show_mistakes(df, actual_classes, col_for_exemplar=\"bow\", get_center_fun = get_angular_centroid):\n",
    "    group_exemplars = get_exemplars(df, col_for_exemplar, get_center_fun)\n",
    "    \n",
    "    true_classes = get_true_classes(df)\n",
    "    mistake_indexs = np.nonzero(actual_classes!=true_classes)\n",
    "    \n",
    "    ret = pd.DataFrame()\n",
    "    ret[\"mistaken_texts\"] = list(df.tokenized_phrases.iloc[mistake_indexs])\n",
    "    ret[\"true_exemplar\"] = list(group_exemplars[true_classes[mistake_indexs]])\n",
    "    ret[\"actual_exemplar\"] = list(group_exemplars[actual_classes[mistake_indexs]])\n",
    "    \n",
    "    return ret\n"
   ]
  },
  {
   "cell_type": "code",
   "execution_count": null,
   "metadata": {
    "collapsed": false
   },
   "outputs": [],
   "source": [
    "#show_mistakes(df, get_classes_by_similarity_to_true_classes(df.bow))"
   ]
  },
  {
   "cell_type": "code",
   "execution_count": null,
   "metadata": {
    "collapsed": false,
    "scrolled": true
   },
   "outputs": [],
   "source": [
    "#get_mistakes(df, \"bow\",get_angular_centroid)"
   ]
  },
  {
   "cell_type": "code",
   "execution_count": null,
   "metadata": {
    "collapsed": false
   },
   "outputs": [],
   "source": []
  },
  {
   "cell_type": "code",
   "execution_count": null,
   "metadata": {
    "collapsed": false
   },
   "outputs": [],
   "source": []
  },
  {
   "cell_type": "code",
   "execution_count": null,
   "metadata": {
    "collapsed": false
   },
   "outputs": [],
   "source": []
  },
  {
   "cell_type": "code",
   "execution_count": null,
   "metadata": {
    "collapsed": false
   },
   "outputs": [],
   "source": []
  },
  {
   "cell_type": "code",
   "execution_count": null,
   "metadata": {
    "collapsed": true
   },
   "outputs": [],
   "source": []
  },
  {
   "cell_type": "code",
   "execution_count": null,
   "metadata": {
    "collapsed": false,
    "scrolled": true
   },
   "outputs": [],
   "source": [
    "def get_symetry_measure(group):\n",
    "    xs = np.row_stack(group)\n",
    "    dist=distance.pdist(xs, angular_dist)\n",
    "    c=get_angular_centroid(xs)\n",
    "    dist = distance.cdist(xs, [c],angular_dist)\n",
    "    return dist.std()\n",
    "\n",
    "df.groupby(level=0).agg(get_symetry_measure).describe()\n",
    "    "
   ]
  },
  {
   "cell_type": "code",
   "execution_count": null,
   "metadata": {
    "collapsed": true
   },
   "outputs": [],
   "source": []
  },
  {
   "cell_type": "code",
   "execution_count": null,
   "metadata": {
    "collapsed": false
   },
   "outputs": [],
   "source": [
    "def portion_of_points_on_bounding_box(group):\n",
    "    xs = np.row_stack(group)\n",
    "    on_max_border = np.any(xs==xs.max(axis=0), axis=1)\n",
    "    on_min_border = np.any(xs==xs.min(axis=0), axis=1)\n",
    "    on_border = on_min_border + on_max_border\n",
    "    return ( on_border.sum()/len(group))\n",
    "\n",
    "def all_points_on_bounding_box(group):\n",
    "    return portion_of_points_on_bounding_box(group)==1"
   ]
  },
  {
   "cell_type": "code",
   "execution_count": null,
   "metadata": {
    "collapsed": false,
    "scrolled": true
   },
   "outputs": [],
   "source": [
    "def unit_norms(vectors):\n",
    "    vecs = np.row_stack(vectors)\n",
    "    unit_norms = np.linalg.norm(vecs,axis=1)\n",
    "    return unit_norms#[list(row) for row in unit_vecs]\n",
    "\n",
    "dfa = pd.DataFrame(index=df.index, columns=\"bow pvdm dbow mowe urae\".split())\n",
    "for col in dfa.columns:\n",
    "    dfa.loc[:,col]=df.loc[:,col]/unit_norms(df.loc[:,col])\n",
    "\n",
    "dfa\n"
   ]
  },
  {
   "cell_type": "code",
   "execution_count": null,
   "metadata": {
    "collapsed": false
   },
   "outputs": [],
   "source": [
    "pd.options.display.float_format=None\n",
    "df.groupby(level=0).agg(all_points_on_bounding_box).sum()/len(df.groupby(level=0))"
   ]
  },
  {
   "cell_type": "code",
   "execution_count": null,
   "metadata": {
    "collapsed": false
   },
   "outputs": [],
   "source": []
  },
  {
   "cell_type": "code",
   "execution_count": null,
   "metadata": {
    "collapsed": true
   },
   "outputs": [],
   "source": []
  },
  {
   "cell_type": "code",
   "execution_count": null,
   "metadata": {
    "collapsed": false
   },
   "outputs": [],
   "source": [
    "pd.options.display.float_format = lambda x: '{:.2f}%'.format(x*100)\n",
    "hollowness=pd.Series()\n",
    "hollowness[\"pvdm\"]=portion_of_points_on_bounding_box(df.pvdm)\n",
    "hollowness[\"dbow\"]=portion_of_points_on_bounding_box(df.dbow)\n",
    "hollowness[\"urae\"]=portion_of_points_on_bounding_box(df.urae)\n",
    "hollowness[\"mowe\"]=portion_of_points_on_bounding_box(df.mowe)\n",
    "hollowness[\"bow\"]=portion_of_points_on_bounding_box(df.bow)\n",
    "pd.DataFrame(hollowness)"
   ]
  },
  {
   "cell_type": "code",
   "execution_count": null,
   "metadata": {
    "collapsed": false
   },
   "outputs": [],
   "source": [
    "521/len(df)"
   ]
  },
  {
   "cell_type": "markdown",
   "metadata": {},
   "source": [
    "# "
   ]
  },
  {
   "cell_type": "code",
   "execution_count": null,
   "metadata": {
    "collapsed": false,
    "scrolled": true
   },
   "outputs": [],
   "source": [
    "def portion_where_angular_centroid_closer_than_average(group):\n",
    "    c = get_angular_centroid(group)\n",
    "    xs = np.row_stack(group)\n",
    "    distances = distance.pdist(xs, 'cosine')\n",
    "    av_dist = distances.mean()\n",
    "    c_dist = distance.cdist(xs, [c],'cosine')\n",
    "    return (c_dist<av_dist).sum()/len(group)\n",
    "    \n",
    "df.groupby(level=0).agg(portion_where_angular_centroid_closer_than_average).hist()"
   ]
  },
  {
   "cell_type": "code",
   "execution_count": null,
   "metadata": {
    "collapsed": false
   },
   "outputs": [],
   "source": [
    "group = [[1,0],[0,1]]\n",
    "c = get_angular_centroid(group)\n",
    "xs = np.row_stack(group)"
   ]
  },
  {
   "cell_type": "code",
   "execution_count": null,
   "metadata": {
    "collapsed": false
   },
   "outputs": [],
   "source": [
    "distance.pdist(xs, angular_dist)"
   ]
  },
  {
   "cell_type": "code",
   "execution_count": null,
   "metadata": {
    "collapsed": false
   },
   "outputs": [],
   "source": [
    "distance.cdist(xs, [c],'cosine')"
   ]
  },
  {
   "cell_type": "code",
   "execution_count": null,
   "metadata": {
    "collapsed": false
   },
   "outputs": [],
   "source": [
    "len(df.bow[(1,2)])"
   ]
  },
  {
   "cell_type": "code",
   "execution_count": null,
   "metadata": {
    "collapsed": true
   },
   "outputs": [],
   "source": []
  },
  {
   "cell_type": "code",
   "execution_count": null,
   "metadata": {
    "collapsed": false
   },
   "outputs": [],
   "source": [
    "\n"
   ]
  },
  {
   "cell_type": "code",
   "execution_count": null,
   "metadata": {
    "collapsed": false
   },
   "outputs": [],
   "source": [
    "dfv = df.groupby(level=0).filter(lambda x: len(x) >22) #20)\n",
    "from sklearn.cross_validation import StratifiedShuffleSplit\n",
    "true_classes = get_true_classes(dfv)\n",
    "train_index, test_index = list(*StratifiedShuffleSplit(true_classes, 1, test_size=1/3))\n",
    "\n"
   ]
  },
  {
   "cell_type": "code",
   "execution_count": null,
   "metadata": {
    "collapsed": false
   },
   "outputs": [],
   "source": [
    "xs = np.row_stack(dfv.mowe)\n",
    "classifier = classifiers[1]\n",
    "classifier.fit(xs[train_index,:], true_classes[train_index] )\n",
    "classifier.score(xs[test_index,:], true_classes[test_index])"
   ]
  },
  {
   "cell_type": "code",
   "execution_count": null,
   "metadata": {
    "collapsed": false
   },
   "outputs": [],
   "source": [
    "\n",
    "from sklearn.utils import safe_mask\n",
    "ndims=2\n",
    "importances = np.abs(classifier.coef_).sum(axis=0)\n",
    "key_dims = np.argpartition(-importances,ndims)[0:ndims]\n",
    "threshold = importances[key_dims[-1]]\n",
    "raw_mask = importances>=threshold\n",
    "key_dims"
   ]
  },
  {
   "cell_type": "code",
   "execution_count": null,
   "metadata": {
    "collapsed": false
   },
   "outputs": [],
   "source": [
    "from matplotlib import colors as mpl_colors\n",
    "import random\n",
    "color_names = [\n",
    "    'aqua','black','blue','brown','cadetblue','chartreuse','chocolate','coral','crimson','cyan','darkblue','darkcyan','darkgray','darkgreen','darkgrey','darkkhaki','darkolivegreen','darkorange','darkred','darksage','darksalmon','darkseagreen','darkslateblue','darkturquoise','darkviolet','deeppink','deepskyblue','dimgrey','dodgerblue','firebrick','forestgreen','fuchsia','gold','goldenrod','green','greenyellow','grey','hotpink','indigo','lawngreen','lime','limegreen','magenta','maroon','midnightblue','olive','orange','orangered','orchid','peru','pink','plum','purple','red','rosybrown','royalblue','salmon','sandybrown','sienna','silver', 'steelblue','tan','thistle','tomato','violet','wheat','yellow','yellowgreen',\n",
    "    ]\n",
    "random.shuffle(color_names)\n",
    "\n",
    "lbls = true_classes\n",
    "\n",
    "color_dict = dict(zip(np.unique(lbls), color_names))\n",
    "colors = [color_dict[lbl] for lbl in lbls]\n",
    "color_dict"
   ]
  },
  {
   "cell_type": "code",
   "execution_count": null,
   "metadata": {
    "collapsed": false
   },
   "outputs": [],
   "source": [
    "from sklearn.manifold import t_sne\n",
    "def plot_tsne(series):\n",
    "    tsne = t_sne.TSNE()\n",
    "    Ys = tsne.fit_transform(np.row_stack(series))\n",
    "    \n",
    "    pl.scatter(Ys[:,0],Ys[:,1], c=colors)\n",
    "    \n",
    "plot_tsne(dfv.bow)"
   ]
  },
  {
   "cell_type": "code",
   "execution_count": null,
   "metadata": {
    "collapsed": false
   },
   "outputs": [],
   "source": [
    "w = classifier.coef_[0]\n",
    "a = -w[key_dims[0]] / w[key_dims[1]]\n",
    "xx = np.linspace(xs.min(), xs.max())\n",
    "yy = a * xx - (classifier.intercept_[0])/w[key_dims[1]]"
   ]
  },
  {
   "cell_type": "code",
   "execution_count": null,
   "metadata": {
    "collapsed": false
   },
   "outputs": [],
   "source": [
    "#pl.plot(xx, yy, 'k-')\n",
    "pl.scatter(x=xs[:,key_dims[0]],y=xs[:,key_dims[1]], c=colors)"
   ]
  },
  {
   "cell_type": "code",
   "execution_count": null,
   "metadata": {
    "collapsed": false
   },
   "outputs": [],
   "source": [
    "print(__doc__)\n",
    "# Code source: Gaël Varoquaux\n",
    "# Modified for documentation by Jaques Grobler\n",
    "# License: BSD 3 clause\n",
    "\n",
    "import numpy as np\n",
    "import matplotlib.pyplot as pl\n",
    "from sklearn import svm\n",
    "\n",
    "# we create 40 separable points\n",
    "np.random.seed(0)\n",
    "X=xs[:,[key_dims[0],key_dims[1]]]\n",
    "Y=true_classes\n",
    "# figure number\n",
    "fignum = 1\n",
    "\n",
    "# fit the model\n",
    "for name, penalty in (('unreg', 1), ('reg', 0.05)):\n",
    "\n",
    "    clf = svm.LinearSVC(C=penalty)\n",
    "    clf.fit(X, Y)\n",
    "\n",
    "    # get the separating hyperplane\n",
    "    w = clf.coef_[0]\n",
    "    a = -w[0] / w[1]\n",
    "    xx = np.linspace(-5, 5)\n",
    "    yy = a * xx - (clf.intercept_[0]) / w[1]\n",
    "\n",
    "    # plot the parallels to the separating hyperplane that pass through the\n",
    "    # support vectors\n",
    "    margin = 1 / np.sqrt(np.sum(clf.coef_ ** 2))\n",
    "    yy_down = yy + a * margin\n",
    "    yy_up = yy - a * margin\n",
    "\n",
    "    # plot the line, the points, and the nearest vectors to the plane\n",
    "    pl.figure(fignum, figsize=(4, 3))\n",
    "    pl.clf()\n",
    "    pl.plot(xx, yy, 'k-')\n",
    "    pl.plot(xx, yy_down, 'k--')\n",
    "    pl.plot(xx, yy_up, 'k--')\n",
    "\n",
    "    pl.scatter(X[:, 0], X[:, 1], c=Y, zorder=10, cmap=pl.cm.Paired)\n",
    "\n",
    "    pl.axis('tight')\n",
    "    x_min = X[:,0].min()-np.std(X[:,0])\n",
    "    y_min = X[:,1].min()-np.std(X[:,1])\n",
    "    x_max = X[:,0].max()+np.std(X[:,0])\n",
    "    y_max = X[:,1].max()+np.std(X[:,1])\n",
    "    \n",
    "    \n",
    "    XX, YY = np.mgrid[x_min:x_max:200j, y_min:y_max:200j]\n",
    "    Z = clf.predict(np.c_[XX.ravel(), YY.ravel()])\n",
    "\n",
    "    # Put the result into a color plot\n",
    "    Z = Z.reshape(XX.shape)\n",
    "    pl.figure(fignum, figsize=(4, 3))\n",
    "    pl.pcolormesh(XX, YY, Z, cmap=pl.cm.Paired)\n",
    "\n",
    "    pl.xlim(x_min, x_max)\n",
    "    pl.ylim(y_min, y_max)\n",
    "\n",
    "    pl.xticks(())\n",
    "    pl.yticks(())\n",
    "    fignum = fignum + 1\n",
    "\n",
    "pl.show()"
   ]
  },
  {
   "cell_type": "code",
   "execution_count": null,
   "metadata": {
    "collapsed": false
   },
   "outputs": [],
   "source": [
    "!git commit -a -m=\"THought about stuff\""
   ]
  },
  {
   "cell_type": "code",
   "execution_count": null,
   "metadata": {
    "collapsed": true
   },
   "outputs": [],
   "source": []
  }
 ],
 "metadata": {
  "kernelspec": {
   "display_name": "Python 3",
   "language": "python",
   "name": "python3"
  },
  "language_info": {
   "codemirror_mode": {
    "name": "ipython",
    "version": 3
   },
   "file_extension": ".py",
   "mimetype": "text/x-python",
   "name": "python",
   "nbconvert_exporter": "python",
   "pygments_lexer": "ipython3",
   "version": "3.4.3"
  }
 },
 "nbformat": 4,
 "nbformat_minor": 0
}
