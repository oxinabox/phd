{
 "cells": [
  {
   "cell_type": "code",
   "execution_count": 1,
   "metadata": {
    "collapsed": true
   },
   "outputs": [],
   "source": [
    "from ipytables import *"
   ]
  },
  {
   "cell_type": "code",
   "execution_count": 2,
   "metadata": {
    "collapsed": true
   },
   "outputs": [],
   "source": [
    "import pylab as pl\n",
    "%matplotlib inline\n",
    "pl.rcParams['figure.figsize'] = 10, 5\n"
   ]
  },
  {
   "cell_type": "code",
   "execution_count": 3,
   "metadata": {
    "collapsed": false
   },
   "outputs": [],
   "source": [
    "import itertools\n",
    "import os.path\n",
    "import csv\n",
    "import numpy as np\n",
    "import scipy.spatial\n",
    "import pandas as pd\n",
    "pd.options.display.max_rows=20\n",
    "pd.options.display.max_seq_items = 100\n",
    "pd.options.display.max_colwidth = 100"
   ]
  },
  {
   "cell_type": "code",
   "execution_count": 4,
   "metadata": {
    "collapsed": false
   },
   "outputs": [],
   "source": [
    "#try:\n",
    "#os.chdir(\"prepared_corpora/opinosis/\")\n",
    "\n",
    "#os.chdir(\"msrp\")\n",
    "os.chdir(\"prepared_corpora/msrp/\")\n",
    "#except FileNotFoundError:\n",
    "#    pass"
   ]
  },
  {
   "cell_type": "code",
   "execution_count": 5,
   "metadata": {
    "collapsed": false
   },
   "outputs": [],
   "source": [
    "def load_pf_group_index():\n",
    "    df = pd.read_csv(\"./phrase_groups.csv\")\n",
    "    df.set_index([\"paraphrase_group_index\", \"phrase_index\"], inplace=True)\n",
    "    return df\n",
    "    "
   ]
  },
  {
   "cell_type": "code",
   "execution_count": 6,
   "metadata": {
    "collapsed": false
   },
   "outputs": [],
   "source": [
    "df = load_pf_group_index()\n",
    "df[\"tokenized_phrases\"]=[line.strip() for line in open(\"tokenized_phrases.txt\",\"r\")]\n"
   ]
  },
  {
   "cell_type": "code",
   "execution_count": 7,
   "metadata": {
    "collapsed": false
   },
   "outputs": [],
   "source": [
    "df[\"pvdm\"]=list(np.loadtxt(\"outVectors_wiki_sentence_concat_pvdm.csv\", delimiter=\",\"))\n",
    "df[\"dbow\"]=list(np.loadtxt(\"outVectors_wiki_sentence_dbow.csv\", delimiter=\",\"))\n",
    "df[\"urae\"]=list(np.loadtxt(\"outVectors_RAE2011.csv\", delimiter=\",\"))\n",
    "df[\"mowe\"]=list(np.loadtxt(\"outVectors_mowe.csv\", delimiter=\",\"))\n",
    "#df[\"sowe\"]=list(np.loadtxt(\"outVectors_sowe.csv\", delimiter=\",\"))\n",
    "#df[\"howe\"]=list(np.loadtxt(\"outVectors_howe.csv\", delimiter=\",\"))\n",
    "df[\"bow\"]=list(np.loadtxt(\"outVectors_bow.csv\", delimiter=\",\"))\n"
   ]
  },
  {
   "cell_type": "code",
   "execution_count": 8,
   "metadata": {
    "collapsed": false
   },
   "outputs": [],
   "source": [
    "#Just consider paraphrase groups of a certain size\n",
    "df = df.groupby(level=0).filter(lambda group: len(group)>=3)"
   ]
  },
  {
   "cell_type": "code",
   "execution_count": 9,
   "metadata": {
    "collapsed": true
   },
   "outputs": [],
   "source": [
    "def get_true_classes(series):\n",
    "    return np.asarray([ii[0] for ii in series.index])"
   ]
  },
  {
   "cell_type": "code",
   "execution_count": 10,
   "metadata": {
    "collapsed": false
   },
   "outputs": [],
   "source": [
    "from sklearn.decomposition import PCA\n",
    "#df[\"pca_bow\"] = list(PCA(300, whiten=False).fit_transform(np.row_stack(list(df.bow))))\n",
    "#df[\"pca_howe\"] = list(PCA(300, whiten=False).fit_transform(np.row_stack(list(df.howe))))"
   ]
  },
  {
   "cell_type": "code",
   "execution_count": null,
   "metadata": {
    "collapsed": true
   },
   "outputs": [],
   "source": [
    "for base in \"pvdm dbow urae\".split():\n",
    "    df[base+\"_mowe\"] = df[base].combine(df.mowe, func=lambda a,b: np.concatenate((a,b)))\n",
    "#    df[\"pca_\"+base+\"_bow\"] = list(PCA(300, whiten=False).fit_transform(np.row_stack(df[base+\"_bow\"])))"
   ]
  },
  {
   "cell_type": "code",
   "execution_count": null,
   "metadata": {
    "collapsed": false,
    "scrolled": true
   },
   "outputs": [],
   "source": [
    "for base in \"pvdm dbow urae\".split():\n",
    "    df[base+\"_bow\"] = df[base].combine(df.bow, func=lambda a,b: np.concatenate((a,b)))\n",
    "#    df[\"pca_\"+base+\"_bow\"] = list(PCA(300, whiten=False).fit_transform(np.row_stack(df[base+\"_bow\"])))\n"
   ]
  },
  {
   "cell_type": "code",
   "execution_count": null,
   "metadata": {
    "collapsed": true
   },
   "outputs": [],
   "source": [
    "#Very Low Dimentionality:\n",
    "for base in \"pvdm dbow urae mowe bow\".split():\n",
    "    df[base] = list(PCA(32, whiten=False).fit_transform(np.row_stack(df[base])))\n"
   ]
  },
  {
   "cell_type": "code",
   "execution_count": null,
   "metadata": {
    "collapsed": false
   },
   "outputs": [],
   "source": [
    "ax=df.tokenized_phrases.groupby(level=0).agg(len).hist(bins=35)\n",
    "\n",
    "pl.title(\"Distribution of Paraphrase Groups in Subcorpus\")\n",
    "pl.xlabel(\"Number of Paraphrases\")\n",
    "pl.ylabel(\"Number of Groups\")"
   ]
  },
  {
   "cell_type": "markdown",
   "metadata": {},
   "source": [
    "#Wei's method\n",
    "\n",
    "0. Normalise all embeddings for each model\n",
    "1. within each paraphrase group, for each model, work out average pair-wise cosine similarity (or distance)\n",
    "  1. the ground truth in this case should be horizontal x axis, which means the best values that each model gets should be close to zero (if you use similarity, rather than distance). So the model with an overall trend of low similarity values capture the semantics better.\n",
    "2. treat each model's average similarity/distance for the paraphrase groups as a time series, do a z-normalisation () the time (horizontal) axis is the paraphrase group index, and the y axis is the similarity value after the z-normalisation\n",
    "3. measure the similarity between the four model time series, pair-wise using Euclidean distance to see which model agrees with each other. \n"
   ]
  },
  {
   "cell_type": "code",
   "execution_count": null,
   "metadata": {
    "collapsed": true
   },
   "outputs": [],
   "source": [
    "import scipy.spatial.distance as distance\n",
    "\n",
    "def angular_dist(a,b):\n",
    "    cos_sim = np.dot(a,b)/(np.linalg.norm(a)*np.linalg.norm(b))\n",
    "    return 1- np.arccos(cos_sim)/np.pi\n"
   ]
  },
  {
   "cell_type": "code",
   "execution_count": null,
   "metadata": {
    "collapsed": false
   },
   "outputs": [],
   "source": [
    "def get_std(series):\n",
    "    xs=np.row_stack(series)\n",
    "    std_dev = xs.std(axis=0)\n",
    "    std_dev[std_dev==0.0]=1.0\n",
    "    return list(std_dev)\n",
    "def get_mean(series):\n",
    "    xs = np.row_stack(series)\n",
    "    return list(xs.mean(axis=0))\n",
    "\n",
    "dfs = (df.iloc[:,1:]-df.iloc[:,1:].apply(get_mean))/df.iloc[:,1:].apply(get_std)\n",
    "\n"
   ]
  },
  {
   "cell_type": "code",
   "execution_count": null,
   "metadata": {
    "collapsed": false
   },
   "outputs": [],
   "source": [
    "def get_group_sim(group):\n",
    "    xs = np.row_stack(group)\n",
    "    #cosine_sim = (1-distance.pdist(xs, 'cosine'))\n",
    "    dist = distance.pdist(xs,angular_dist)\n",
    "    return dist.mean()\n",
    "\n",
    "group_sims = dfs.groupby(level=0).agg(get_group_sim)\n",
    "group_sims.hist(bins=np.linspace(0,1,50), sharex=True, sharey=True)\n",
    "group_sims.describe()"
   ]
  },
  {
   "cell_type": "code",
   "execution_count": null,
   "metadata": {
    "collapsed": true
   },
   "outputs": [],
   "source": [
    "import matplotlib.cm as cm\n",
    "def plot_matrix(cm, labels, cmap=cm.Blues):\n",
    "    pl.imshow(cm, interpolation='nearest', cmap=cmap)\n",
    "    pl.colorbar()\n",
    "    tick_marks = np.arange(len(labels))\n",
    "    pl.xticks(tick_marks, labels, rotation=90)\n",
    "    pl.yticks(tick_marks, labels)\n",
    "    pl.tight_layout()\n",
    "    "
   ]
  },
  {
   "cell_type": "code",
   "execution_count": null,
   "metadata": {
    "collapsed": false
   },
   "outputs": [],
   "source": [
    "\n",
    "def get_interrater_e_distance(ratings):\n",
    "    rating_dist = distance.pdist(n_group_sims.as_matrix().T)\n",
    "    return distance.squareform(rating_dist)\n",
    "\n",
    "def z_norm(col):\n",
    "    return (col-col.mean())/col.std()\n",
    "\n",
    "n_group_sims = group_sims.apply(z_norm)\n",
    "\n",
    "\n",
    "interrater_e_distance = get_interrater_e_distance(n_group_sims)\n",
    "print(pd.DataFrame( interrater_e_distance, columns =n_group_sims.columns, index=n_group_sims.columns))\n",
    "      \n",
    "plot_matrix(interrater_e_distance, n_group_sims.columns)"
   ]
  },
  {
   "cell_type": "code",
   "execution_count": null,
   "metadata": {
    "collapsed": false
   },
   "outputs": [],
   "source": [
    "def get_centroid(group):\n",
    "    xs = np.row_stack(group)\n",
    "    return list(xs.mean(axis=0)) #Euclidean\n",
    "\n",
    "\n",
    "\n",
    "def get_medoid(group):\n",
    "    points=np.row_stack(group)\n",
    "    ingroup_index = distance.cdist(points,points, 'cosine').sum(axis=1).argmin()\n",
    "    return list(points[ingroup_index,:])\n",
    "\n",
    "\n",
    "def get_angular_centroid(group):\n",
    "    # the angular centroid is a line, here we choes an arbitairy point on it.\n",
    "    # Dicussion of how normalising and adding wroks is at http://math.stackexchange.com/a/925659/1505\n",
    "    points = np.row_stack(group)\n",
    "    unit_points = points/np.linalg.norm(points,axis=1)[:,None]  #Normalise ot unit vectors\n",
    "    return list(np.sum(unit_points,axis=0))\n",
    "    \n",
    "\n",
    "def get_group_medoids(series):\n",
    "    return series.groupby(level=0).agg(get_medoid)\n",
    "\n",
    "\n",
    "def get_group_centroids(series):\n",
    "    return series.groupby(level=0).agg(get_centroid)\n"
   ]
  },
  {
   "cell_type": "code",
   "execution_count": null,
   "metadata": {
    "collapsed": false
   },
   "outputs": [],
   "source": [
    "def dunn_index(series):\n",
    "    group_intra_distance = series.groupby(level=0).agg(get_group_sim)\n",
    "    denom = group_intra_distance.max()\n",
    "    group_ids = np.unique(series.index[0])\n",
    "    \n",
    "    for ii in group_ids:\n",
    "        smallest_inter_dist = np.Inf\n",
    "        for jj in group_ids:\n",
    "            if ii==jj:\n",
    "                continue\n",
    "            #Now to find the Interclass distance\n",
    "            #Lets\n",
    "            Not WRITEN YET\n",
    "\n",
    "    \n",
    "    return denom\n",
    "\n",
    "dunn_index(df.urae)"
   ]
  },
  {
   "cell_type": "code",
   "execution_count": null,
   "metadata": {
    "collapsed": false
   },
   "outputs": [],
   "source": [
    "\n",
    "#Davies-Bouldin Index \n",
    "#Modified to use angular centroid, and angular distance\n",
    "\n",
    "def davied_bouldin_index(series):\n",
    "\n",
    "    def av_dist_to_centroid(group):\n",
    "        xs = np.row_stack(group)\n",
    "        c = get_angular_centroid(group)\n",
    "        return distance.cdist(xs,[c], angular_dist).mean()\n",
    "\n",
    "    group_centroids = get_group_centroids(series)\n",
    "    group_spreads = series.groupby(level=0).agg(av_dist_to_centroid)\n",
    "    \n",
    "    n_groups = len(group_spreads)\n",
    "    \n",
    "    total = 0.0\n",
    "    for ii in range(n_groups):\n",
    "        greatest = -1*np.Inf\n",
    "        for jj in range(n_groups):\n",
    "            if ii==jj:\n",
    "                continue\n",
    "\n",
    "            numer = group_spreads.iloc[ii] + group_spreads.iloc[jj] \n",
    "            denom = angular_dist(group_centroids.iloc[ii],group_centroids.iloc[jj])\n",
    "            value = numer/denom\n",
    "            greatest = max(greatest, value)\n",
    "        total+= greatest\n",
    "    return total/n_groups\n",
    "\n",
    "            \n",
    "for column in df.columns[1:]:\n",
    "    print(column + \" \" + str(davied_bouldin_index(df.loc[:,column])))"
   ]
  },
  {
   "cell_type": "code",
   "execution_count": null,
   "metadata": {
    "collapsed": false,
    "scrolled": true
   },
   "outputs": [],
   "source": [
    "def get_classes_about_center(series, center_fun):\n",
    "    group_centers = np.row_stack(series.groupby(level=0).agg(center_fun)) \n",
    "    points  = np.row_stack(series)\n",
    "    class_indexes = distance.cdist(points,group_centers, 'cosine').argmin(axis=1)\n",
    "    return np.asarray(series.index[class_indexes].labels[0])\n",
    "\n",
    "def get_classes_by_similarity_to_true_classes(series):\n",
    "    true_classes = get_true_classes(series)\n",
    "    \n",
    "    def av_dist_to_group(point, group):\n",
    "        xs = np.row_stack(group)\n",
    "        return distance.cdist(xs, [point], 'cosine').mean()\n",
    "    \n",
    "    return np.asarray([series.groupby(level=0).agg(lambda group: av_dist_to_group(point, group)).idxmin()\n",
    "               for point in series])\n",
    "    \n",
    "\n",
    "\n",
    "\n",
    "def recluster_success(series):\n",
    "    true_classes = get_true_classes(series)\n",
    "\n",
    "    def get_acc(center_fun):\n",
    "        classes = get_classes_about_center(series, center_fun)\n",
    "        return (classes == true_classes).sum()/len(true_classes)\n",
    "    \n",
    "    classes = get_classes_by_similarity_to_true_classes(series)\n",
    "    group_closeness_acc = (classes == true_classes).sum()/len(true_classes)\n",
    "\n",
    "    return pd.Series([get_acc(get_centroid),\n",
    "                      get_acc(get_medoid),\n",
    "                      get_acc(get_angular_centroid),\n",
    "                      group_closeness_acc\n",
    "                     ], index=\"centroid_acc medoid_acc angular_centroid_acc group_closeness_acc\".split()) \n",
    "    \n",
    "\n",
    "recluster_results = pd.DataFrame()\n",
    "for column in df.columns[1:]:\n",
    "    recluster_results[column] = recluster_success(df[column])\n",
    "\n",
    "recluster_results"
   ]
  },
  {
   "cell_type": "code",
   "execution_count": null,
   "metadata": {
    "collapsed": false,
    "scrolled": true
   },
   "outputs": [],
   "source": [
    "#Lets take a look at what mistakes are being made.\n",
    "#We can look at the exemplary member of each class as a repressentitive,\n",
    "#And can compare that for the class it was given to that for the class it should have been given\n",
    "\n",
    "def get_exemplars(df, col_name, get_center_fun):\n",
    "    series = df[col_name]\n",
    "    def get_exemplar(group):\n",
    "        c = get_center_fun(group)\n",
    "        points=np.row_stack(group)\n",
    "        ingroup_index = distance.cdist(points,[c], 'cosine').flatten().argmin()\n",
    "        df_index = group.index[ingroup_index]\n",
    "        return df.tokenized_phrases[df_index]\n",
    "    \n",
    "    return series.groupby(level=0).agg(get_exemplar)\n",
    "\n",
    "\n",
    "def get_mistakes(df, col_name, get_center_fun=get_angular_centroid):\n",
    "    group_exemplars = get_exemplars(df, col_name,get_center_fun)\n",
    "    \n",
    "    series = df[col_name]\n",
    "    \n",
    "    classes = get_classes(series, get_center_fun)\n",
    "    \n",
    "    return show_mistakes(df, classes, col_name, get_center_fun)\n",
    "\n",
    "\n",
    "def show_mistakes(df, actual_classes, col_for_exemplar=\"bow\", get_center_fun = get_angular_centroid):\n",
    "    group_exemplars = get_exemplars(df, col_for_exemplar, get_center_fun)\n",
    "    \n",
    "    true_classes = get_true_classes(df)\n",
    "    mistake_indexs = np.nonzero(actual_classes!=true_classes)\n",
    "    \n",
    "    ret = pd.DataFrame()\n",
    "    ret[\"mistaken_texts\"] = list(df.tokenized_phrases.iloc[mistake_indexs])\n",
    "    ret[\"true_exemplar\"] = list(group_exemplars[true_classes[mistake_indexs]])\n",
    "    ret[\"actual_exemplar\"] = list(group_exemplars[actual_classes[mistake_indexs]])\n",
    "    \n",
    "    return ret\n"
   ]
  },
  {
   "cell_type": "code",
   "execution_count": null,
   "metadata": {
    "collapsed": false
   },
   "outputs": [],
   "source": [
    "#show_mistakes(df, get_classes_by_similarity_to_true_classes(df.bow))"
   ]
  },
  {
   "cell_type": "code",
   "execution_count": null,
   "metadata": {
    "collapsed": false,
    "scrolled": true
   },
   "outputs": [],
   "source": [
    "#get_mistakes(df, \"bow\",get_angular_centroid)"
   ]
  },
  {
   "cell_type": "code",
   "execution_count": null,
   "metadata": {
    "collapsed": false
   },
   "outputs": [],
   "source": []
  },
  {
   "cell_type": "code",
   "execution_count": 11,
   "metadata": {
    "collapsed": false
   },
   "outputs": [],
   "source": [
    "from sklearn.svm import NuSVC, SVC, LinearSVC\n",
    "from sklearn import tree\n",
    "from sklearn.multiclass import OneVsRestClassifier, OneVsOneClassifier\n",
    "\n",
    "#class_weight = {key: 1/value for (key, value) in Counter(training_data.debate_type).items()}\n",
    "\n",
    "def classify(column, classifier, train_data, test_data, train_labels, test_labels):\n",
    "    train_data_X = np.row_stack(train_data[column])\n",
    "    test_data_X = np.row_stack(test_data[column])\n",
    "\n",
    "    classifier.fit(train_data_X, train_labels)\n",
    "    \n",
    "    return classifier.score(test_data_X, test_labels)\n",
    "\n",
    "\n",
    "classifiers = [LinearSVC(class_weight=\"auto\",  max_iter=20000, C=0.1),\n",
    "               LinearSVC(class_weight=\"auto\",  max_iter=20000), \n",
    "               LinearSVC(class_weight=\"auto\",  max_iter=20000, C=5),\n",
    "               LinearSVC(class_weight=\"auto\",  max_iter=20000, C=10),\n",
    "               LinearSVC(class_weight=\"auto\",  max_iter=20000, C=100),\n",
    "               LinearSVC(class_weight=\"auto\",  max_iter=20000, C=1000),\n",
    "               LinearSVC(class_weight=\"auto\",  max_iter=20000, C=10000)\n",
    "       #SVC(class_weight=\"auto\",  max_iter=20000, kernel='rbf', C=10),\n",
    "       #SVC(class_weight=\"auto\",  max_iter=20000, kernel='rbf', C=100),        \n",
    "       #SVC(class_weight=\"auto\",  max_iter=20000, kernel='rbf', C=1000),\n",
    "       #SVC(class_weight=\"auto\",  max_iter=20000, kernel='rbf', C=10000),\n",
    "       #SVC(class_weight=\"auto\",  max_iter=20000, kernel='rbf', C=100000),\n",
    "       #SVC(class_weight=\"auto\",  max_iter=20000, kernel='rbf', C=1000000),\n",
    "        #OneVsRestClassifier(SVC(class_weight=\"auto\",  max_iter=20000, kernel='rbf')),\n",
    "        #tree.DecisionTreeClassifier(class_weight=\"auto\")\n",
    "        \n",
    "        \n",
    "       ]\n"
   ]
  },
  {
   "cell_type": "code",
   "execution_count": 12,
   "metadata": {
    "collapsed": false,
    "scrolled": true
   },
   "outputs": [
    {
     "name": "stdout",
     "output_type": "stream",
     "text": [
      "3-fold validation\n"
     ]
    },
    {
     "data": {
      "text/html": [
       "<div>\n",
       "<table border=\"1\" class=\"dataframe\">\n",
       "  <thead>\n",
       "    <tr style=\"text-align: right;\">\n",
       "      <th></th>\n",
       "      <th>pvdm</th>\n",
       "      <th>dbow</th>\n",
       "      <th>urae</th>\n",
       "      <th>mowe</th>\n",
       "      <th>bow</th>\n",
       "    </tr>\n",
       "  </thead>\n",
       "  <tbody>\n",
       "    <tr>\n",
       "      <th>LinearSVC(C=0.1, class_weight='auto', dual=True, fit_intercept=True,\\n     intercept_scaling=1, loss='squared_hinge', max_iter=20000,\\n     multi_class='ovr', penalty='l2', random_state=None, tol=0.0001,\\n     verbose=0)</th>\n",
       "      <td>0.325217</td>\n",
       "      <td>0.880221</td>\n",
       "      <td>0.440641</td>\n",
       "      <td>0.962935</td>\n",
       "      <td>0.983719</td>\n",
       "    </tr>\n",
       "    <tr>\n",
       "      <th>LinearSVC(C=1.0, class_weight='auto', dual=True, fit_intercept=True,\\n     intercept_scaling=1, loss='squared_hinge', max_iter=20000,\\n     multi_class='ovr', penalty='l2', random_state=None, tol=0.0001,\\n     verbose=0)</th>\n",
       "      <td>0.603837</td>\n",
       "      <td>0.899325</td>\n",
       "      <td>0.500057</td>\n",
       "      <td>0.974429</td>\n",
       "      <td>0.983719</td>\n",
       "    </tr>\n",
       "    <tr>\n",
       "      <th>LinearSVC(C=5, class_weight='auto', dual=True, fit_intercept=True,\\n     intercept_scaling=1, loss='squared_hinge', max_iter=20000,\\n     multi_class='ovr', penalty='l2', random_state=None, tol=0.0001,\\n     verbose=0)</th>\n",
       "      <td>0.738386</td>\n",
       "      <td>0.892589</td>\n",
       "      <td>0.511377</td>\n",
       "      <td>0.977918</td>\n",
       "      <td>0.983719</td>\n",
       "    </tr>\n",
       "    <tr>\n",
       "      <th>LinearSVC(C=10, class_weight='auto', dual=True, fit_intercept=True,\\n     intercept_scaling=1, loss='squared_hinge', max_iter=20000,\\n     multi_class='ovr', penalty='l2', random_state=None, tol=0.0001,\\n     verbose=0)</th>\n",
       "      <td>0.774329</td>\n",
       "      <td>0.887870</td>\n",
       "      <td>0.508836</td>\n",
       "      <td>0.979134</td>\n",
       "      <td>0.983719</td>\n",
       "    </tr>\n",
       "    <tr>\n",
       "      <th>LinearSVC(C=100, class_weight='auto', dual=True, fit_intercept=True,\\n     intercept_scaling=1, loss='squared_hinge', max_iter=20000,\\n     multi_class='ovr', penalty='l2', random_state=None, tol=0.0001,\\n     verbose=0)</th>\n",
       "      <td>0.779969</td>\n",
       "      <td>0.885450</td>\n",
       "      <td>0.495991</td>\n",
       "      <td>0.977918</td>\n",
       "      <td>0.983719</td>\n",
       "    </tr>\n",
       "    <tr>\n",
       "      <th>LinearSVC(C=1000, class_weight='auto', dual=True, fit_intercept=True,\\n     intercept_scaling=1, loss='squared_hinge', max_iter=20000,\\n     multi_class='ovr', penalty='l2', random_state=None, tol=0.0001,\\n     verbose=0)</th>\n",
       "      <td>0.741540</td>\n",
       "      <td>0.885450</td>\n",
       "      <td>0.487757</td>\n",
       "      <td>0.977918</td>\n",
       "      <td>0.983719</td>\n",
       "    </tr>\n",
       "    <tr>\n",
       "      <th>LinearSVC(C=10000, class_weight='auto', dual=True, fit_intercept=True,\\n     intercept_scaling=1, loss='squared_hinge', max_iter=20000,\\n     multi_class='ovr', penalty='l2', random_state=None, tol=0.0001,\\n     verbose=0)</th>\n",
       "      <td>0.734536</td>\n",
       "      <td>0.884247</td>\n",
       "      <td>0.487757</td>\n",
       "      <td>0.977918</td>\n",
       "      <td>0.983719</td>\n",
       "    </tr>\n",
       "  </tbody>\n",
       "</table>\n",
       "</div>"
      ],
      "text/plain": [
       "                                                                                                          pvdm  \\\n",
       "LinearSVC(C=0.1, class_weight='auto', dual=True, fit_intercept=True,\\n     intercept_scaling=1, l...  0.325217   \n",
       "LinearSVC(C=1.0, class_weight='auto', dual=True, fit_intercept=True,\\n     intercept_scaling=1, l...  0.603837   \n",
       "LinearSVC(C=5, class_weight='auto', dual=True, fit_intercept=True,\\n     intercept_scaling=1, los...  0.738386   \n",
       "LinearSVC(C=10, class_weight='auto', dual=True, fit_intercept=True,\\n     intercept_scaling=1, lo...  0.774329   \n",
       "LinearSVC(C=100, class_weight='auto', dual=True, fit_intercept=True,\\n     intercept_scaling=1, l...  0.779969   \n",
       "LinearSVC(C=1000, class_weight='auto', dual=True, fit_intercept=True,\\n     intercept_scaling=1, ...  0.741540   \n",
       "LinearSVC(C=10000, class_weight='auto', dual=True, fit_intercept=True,\\n     intercept_scaling=1,...  0.734536   \n",
       "\n",
       "                                                                                                          dbow  \\\n",
       "LinearSVC(C=0.1, class_weight='auto', dual=True, fit_intercept=True,\\n     intercept_scaling=1, l...  0.880221   \n",
       "LinearSVC(C=1.0, class_weight='auto', dual=True, fit_intercept=True,\\n     intercept_scaling=1, l...  0.899325   \n",
       "LinearSVC(C=5, class_weight='auto', dual=True, fit_intercept=True,\\n     intercept_scaling=1, los...  0.892589   \n",
       "LinearSVC(C=10, class_weight='auto', dual=True, fit_intercept=True,\\n     intercept_scaling=1, lo...  0.887870   \n",
       "LinearSVC(C=100, class_weight='auto', dual=True, fit_intercept=True,\\n     intercept_scaling=1, l...  0.885450   \n",
       "LinearSVC(C=1000, class_weight='auto', dual=True, fit_intercept=True,\\n     intercept_scaling=1, ...  0.885450   \n",
       "LinearSVC(C=10000, class_weight='auto', dual=True, fit_intercept=True,\\n     intercept_scaling=1,...  0.884247   \n",
       "\n",
       "                                                                                                          urae  \\\n",
       "LinearSVC(C=0.1, class_weight='auto', dual=True, fit_intercept=True,\\n     intercept_scaling=1, l...  0.440641   \n",
       "LinearSVC(C=1.0, class_weight='auto', dual=True, fit_intercept=True,\\n     intercept_scaling=1, l...  0.500057   \n",
       "LinearSVC(C=5, class_weight='auto', dual=True, fit_intercept=True,\\n     intercept_scaling=1, los...  0.511377   \n",
       "LinearSVC(C=10, class_weight='auto', dual=True, fit_intercept=True,\\n     intercept_scaling=1, lo...  0.508836   \n",
       "LinearSVC(C=100, class_weight='auto', dual=True, fit_intercept=True,\\n     intercept_scaling=1, l...  0.495991   \n",
       "LinearSVC(C=1000, class_weight='auto', dual=True, fit_intercept=True,\\n     intercept_scaling=1, ...  0.487757   \n",
       "LinearSVC(C=10000, class_weight='auto', dual=True, fit_intercept=True,\\n     intercept_scaling=1,...  0.487757   \n",
       "\n",
       "                                                                                                          mowe  \\\n",
       "LinearSVC(C=0.1, class_weight='auto', dual=True, fit_intercept=True,\\n     intercept_scaling=1, l...  0.962935   \n",
       "LinearSVC(C=1.0, class_weight='auto', dual=True, fit_intercept=True,\\n     intercept_scaling=1, l...  0.974429   \n",
       "LinearSVC(C=5, class_weight='auto', dual=True, fit_intercept=True,\\n     intercept_scaling=1, los...  0.977918   \n",
       "LinearSVC(C=10, class_weight='auto', dual=True, fit_intercept=True,\\n     intercept_scaling=1, lo...  0.979134   \n",
       "LinearSVC(C=100, class_weight='auto', dual=True, fit_intercept=True,\\n     intercept_scaling=1, l...  0.977918   \n",
       "LinearSVC(C=1000, class_weight='auto', dual=True, fit_intercept=True,\\n     intercept_scaling=1, ...  0.977918   \n",
       "LinearSVC(C=10000, class_weight='auto', dual=True, fit_intercept=True,\\n     intercept_scaling=1,...  0.977918   \n",
       "\n",
       "                                                                                                           bow  \n",
       "LinearSVC(C=0.1, class_weight='auto', dual=True, fit_intercept=True,\\n     intercept_scaling=1, l...  0.983719  \n",
       "LinearSVC(C=1.0, class_weight='auto', dual=True, fit_intercept=True,\\n     intercept_scaling=1, l...  0.983719  \n",
       "LinearSVC(C=5, class_weight='auto', dual=True, fit_intercept=True,\\n     intercept_scaling=1, los...  0.983719  \n",
       "LinearSVC(C=10, class_weight='auto', dual=True, fit_intercept=True,\\n     intercept_scaling=1, lo...  0.983719  \n",
       "LinearSVC(C=100, class_weight='auto', dual=True, fit_intercept=True,\\n     intercept_scaling=1, l...  0.983719  \n",
       "LinearSVC(C=1000, class_weight='auto', dual=True, fit_intercept=True,\\n     intercept_scaling=1, ...  0.983719  \n",
       "LinearSVC(C=10000, class_weight='auto', dual=True, fit_intercept=True,\\n     intercept_scaling=1,...  0.983719  "
      ]
     },
     "execution_count": 12,
     "metadata": {},
     "output_type": "execute_result"
    }
   ],
   "source": [
    "from sklearn import cross_validation\n",
    "n_folds = df.tokenized_phrases.groupby(level=0).agg(len).min()\n",
    "print(str(n_folds)+\"-fold validation\")\n",
    "classify_results = pd.DataFrame(index=classifiers)\n",
    "for column in df.columns[1:]:\n",
    "    for classifier in classifiers:\n",
    "        cv_res = cross_validation.cross_val_score(classifier, \n",
    "                                          X = np.row_stack(df[column]),\n",
    "                                          y = get_true_classes(df),\n",
    "                                          cv=df[column].groupby(level=0).agg(len).min(),\n",
    "                                          n_jobs=-1\n",
    "                                        \n",
    "                                          )\n",
    "        classify_results.loc[classifier,(column)] = cv_res.mean()\n",
    "        #classify_results.loc[svm,(column+\"_std\")] = cv_res.std()\n",
    "\n",
    "classify_results"
   ]
  },
  {
   "cell_type": "code",
   "execution_count": 13,
   "metadata": {
    "collapsed": false,
    "scrolled": true
   },
   "outputs": [
    {
     "name": "stderr",
     "output_type": "stream",
     "text": [
      "/usr/local/lib/python3.4/site-packages/numpy/core/_methods.py:59: RuntimeWarning: Mean of empty slice.\n",
      "  warnings.warn(\"Mean of empty slice.\", RuntimeWarning)\n"
     ]
    },
    {
     "data": {
      "text/html": [
       "<div>\n",
       "<table border=\"1\" class=\"dataframe\">\n",
       "  <thead>\n",
       "    <tr style=\"text-align: right;\">\n",
       "      <th></th>\n",
       "      <th>0</th>\n",
       "      <th>1</th>\n",
       "      <th>2</th>\n",
       "    </tr>\n",
       "  </thead>\n",
       "  <tbody>\n",
       "    <tr>\n",
       "      <th>LinearSVC(C=0.1, class_weight='auto', dual=True, fit_intercept=True,\\n     intercept_scaling=1, loss='squared_hinge', max_iter=20000,\\n     multi_class='ovr', penalty='l2', random_state=None, tol=0.0001,\\n     verbose=0)</th>\n",
       "      <td>0.978221</td>\n",
       "      <td>0.975945</td>\n",
       "      <td>0.984615</td>\n",
       "    </tr>\n",
       "    <tr>\n",
       "      <th>LinearSVC(C=1.0, class_weight='auto', dual=True, fit_intercept=True,\\n     intercept_scaling=1, loss='squared_hinge', max_iter=20000,\\n     multi_class='ovr', penalty='l2', random_state=None, tol=0.0001,\\n     verbose=0)</th>\n",
       "      <td>0.976407</td>\n",
       "      <td>0.975945</td>\n",
       "      <td>0.982906</td>\n",
       "    </tr>\n",
       "    <tr>\n",
       "      <th>LinearSVC(C=5, class_weight='auto', dual=True, fit_intercept=True,\\n     intercept_scaling=1, loss='squared_hinge', max_iter=20000,\\n     multi_class='ovr', penalty='l2', random_state=None, tol=0.0001,\\n     verbose=0)</th>\n",
       "      <td>0.976407</td>\n",
       "      <td>0.975945</td>\n",
       "      <td>0.982906</td>\n",
       "    </tr>\n",
       "    <tr>\n",
       "      <th>LinearSVC(C=10, class_weight='auto', dual=True, fit_intercept=True,\\n     intercept_scaling=1, loss='squared_hinge', max_iter=20000,\\n     multi_class='ovr', penalty='l2', random_state=None, tol=0.0001,\\n     verbose=0)</th>\n",
       "      <td>0.976407</td>\n",
       "      <td>0.975945</td>\n",
       "      <td>0.982906</td>\n",
       "    </tr>\n",
       "    <tr>\n",
       "      <th>LinearSVC(C=100, class_weight='auto', dual=True, fit_intercept=True,\\n     intercept_scaling=1, loss='squared_hinge', max_iter=20000,\\n     multi_class='ovr', penalty='l2', random_state=None, tol=0.0001,\\n     verbose=0)</th>\n",
       "      <td>0.976407</td>\n",
       "      <td>0.975945</td>\n",
       "      <td>0.982906</td>\n",
       "    </tr>\n",
       "    <tr>\n",
       "      <th>LinearSVC(C=1000, class_weight='auto', dual=True, fit_intercept=True,\\n     intercept_scaling=1, loss='squared_hinge', max_iter=20000,\\n     multi_class='ovr', penalty='l2', random_state=None, tol=0.0001,\\n     verbose=0)</th>\n",
       "      <td>0.976407</td>\n",
       "      <td>0.975945</td>\n",
       "      <td>0.982906</td>\n",
       "    </tr>\n",
       "    <tr>\n",
       "      <th>LinearSVC(C=10000, class_weight='auto', dual=True, fit_intercept=True,\\n     intercept_scaling=1, loss='squared_hinge', max_iter=20000,\\n     multi_class='ovr', penalty='l2', random_state=None, tol=0.0001,\\n     verbose=0)</th>\n",
       "      <td>0.976407</td>\n",
       "      <td>0.975945</td>\n",
       "      <td>0.982906</td>\n",
       "    </tr>\n",
       "  </tbody>\n",
       "</table>\n",
       "</div>"
      ],
      "text/plain": [
       "                                                                                                             0  \\\n",
       "LinearSVC(C=0.1, class_weight='auto', dual=True, fit_intercept=True,\\n     intercept_scaling=1, l...  0.978221   \n",
       "LinearSVC(C=1.0, class_weight='auto', dual=True, fit_intercept=True,\\n     intercept_scaling=1, l...  0.976407   \n",
       "LinearSVC(C=5, class_weight='auto', dual=True, fit_intercept=True,\\n     intercept_scaling=1, los...  0.976407   \n",
       "LinearSVC(C=10, class_weight='auto', dual=True, fit_intercept=True,\\n     intercept_scaling=1, lo...  0.976407   \n",
       "LinearSVC(C=100, class_weight='auto', dual=True, fit_intercept=True,\\n     intercept_scaling=1, l...  0.976407   \n",
       "LinearSVC(C=1000, class_weight='auto', dual=True, fit_intercept=True,\\n     intercept_scaling=1, ...  0.976407   \n",
       "LinearSVC(C=10000, class_weight='auto', dual=True, fit_intercept=True,\\n     intercept_scaling=1,...  0.976407   \n",
       "\n",
       "                                                                                                             1  \\\n",
       "LinearSVC(C=0.1, class_weight='auto', dual=True, fit_intercept=True,\\n     intercept_scaling=1, l...  0.975945   \n",
       "LinearSVC(C=1.0, class_weight='auto', dual=True, fit_intercept=True,\\n     intercept_scaling=1, l...  0.975945   \n",
       "LinearSVC(C=5, class_weight='auto', dual=True, fit_intercept=True,\\n     intercept_scaling=1, los...  0.975945   \n",
       "LinearSVC(C=10, class_weight='auto', dual=True, fit_intercept=True,\\n     intercept_scaling=1, lo...  0.975945   \n",
       "LinearSVC(C=100, class_weight='auto', dual=True, fit_intercept=True,\\n     intercept_scaling=1, l...  0.975945   \n",
       "LinearSVC(C=1000, class_weight='auto', dual=True, fit_intercept=True,\\n     intercept_scaling=1, ...  0.975945   \n",
       "LinearSVC(C=10000, class_weight='auto', dual=True, fit_intercept=True,\\n     intercept_scaling=1,...  0.975945   \n",
       "\n",
       "                                                                                                             2  \n",
       "LinearSVC(C=0.1, class_weight='auto', dual=True, fit_intercept=True,\\n     intercept_scaling=1, l...  0.984615  \n",
       "LinearSVC(C=1.0, class_weight='auto', dual=True, fit_intercept=True,\\n     intercept_scaling=1, l...  0.982906  \n",
       "LinearSVC(C=5, class_weight='auto', dual=True, fit_intercept=True,\\n     intercept_scaling=1, los...  0.982906  \n",
       "LinearSVC(C=10, class_weight='auto', dual=True, fit_intercept=True,\\n     intercept_scaling=1, lo...  0.982906  \n",
       "LinearSVC(C=100, class_weight='auto', dual=True, fit_intercept=True,\\n     intercept_scaling=1, l...  0.982906  \n",
       "LinearSVC(C=1000, class_weight='auto', dual=True, fit_intercept=True,\\n     intercept_scaling=1, ...  0.982906  \n",
       "LinearSVC(C=10000, class_weight='auto', dual=True, fit_intercept=True,\\n     intercept_scaling=1,...  0.982906  "
      ]
     },
     "execution_count": 13,
     "metadata": {},
     "output_type": "execute_result"
    }
   ],
   "source": [
    "#The corr\n",
    "from copy import deepcopy\n",
    "from sklearn.cross_validation import StratifiedKFold\n",
    "X = np.row_stack(df[\"bow\"])\n",
    "y = get_true_classes(df)\n",
    "n_folds = df.tokenized_phrases.groupby(level=0).agg(len).min()\n",
    "\n",
    "pca_bow_res = pd.DataFrame()\n",
    "for ii_fold, (test_indexes, train_indexes) in enumerate(StratifiedKFold( y, n_folds)):\n",
    "    X_train = X[train_indexes]\n",
    "    y_train = y[train_indexes]\n",
    "    X_test = X[test_indexes]\n",
    "    y_test = y[test_indexes]\n",
    "    \n",
    "    pca = PCA(300)\n",
    "    X_train = pca.fit_transform(X_train)\n",
    "    X_test = pca.transform(X_test)\n",
    "    \n",
    "    \n",
    "    for classifier_index in classifiers:\n",
    "        classifier = deepcopy(classifier_index)\n",
    "        classifier.fit(X_train, y_train)\n",
    "        pca_bow_res.loc[classifier_index,(ii_fold)] = classifier.score(X_test, y_test)\n",
    "    \n",
    "    \n",
    "pca_bow_res"
   ]
  },
  {
   "cell_type": "code",
   "execution_count": 14,
   "metadata": {
    "collapsed": false
   },
   "outputs": [
    {
     "data": {
      "text/plain": [
       "pvdm      78.00%\n",
       "dbow      89.93%\n",
       "urae      51.14%\n",
       "mowe      97.91%\n",
       "bow       98.37%\n",
       "pca_bow   97.96%\n",
       "dtype: float64"
      ]
     },
     "execution_count": 14,
     "metadata": {},
     "output_type": "execute_result"
    }
   ],
   "source": [
    "classify_results[\"pca_bow\"] = pca_bow_res.mean(axis=1)\n",
    "\n",
    "pd.options.display.float_format = lambda x: '{:.2f}%'.format(x*100)\n",
    "classify_results.max()"
   ]
  },
  {
   "cell_type": "code",
   "execution_count": 15,
   "metadata": {
    "collapsed": false
   },
   "outputs": [
    {
     "ename": "KeyError",
     "evalue": "'pca_bow'",
     "output_type": "error",
     "traceback": [
      "\u001b[1;31m---------------------------------------------------------------------------\u001b[0m",
      "\u001b[1;31mKeyError\u001b[0m                                  Traceback (most recent call last)",
      "\u001b[1;32m<ipython-input-15-b8dc249a669f>\u001b[0m in \u001b[0;36m<module>\u001b[1;34m()\u001b[0m\n\u001b[0;32m     10\u001b[0m \u001b[1;33m\u001b[0m\u001b[0m\n\u001b[0;32m     11\u001b[0m \u001b[1;32mfor\u001b[0m \u001b[0mmodel\u001b[0m \u001b[1;32min\u001b[0m \u001b[0mbest_classifiers\u001b[0m\u001b[1;33m.\u001b[0m\u001b[0mkeys\u001b[0m\u001b[1;33m(\u001b[0m\u001b[1;33m)\u001b[0m\u001b[1;33m:\u001b[0m\u001b[1;33m\u001b[0m\u001b[0m\n\u001b[1;32m---> 12\u001b[1;33m     \u001b[0mX\u001b[0m \u001b[1;33m=\u001b[0m \u001b[0mnp\u001b[0m\u001b[1;33m.\u001b[0m\u001b[0mrow_stack\u001b[0m\u001b[1;33m(\u001b[0m\u001b[0mdf\u001b[0m\u001b[1;33m[\u001b[0m\u001b[0mmodel\u001b[0m\u001b[1;33m]\u001b[0m\u001b[1;33m)\u001b[0m\u001b[1;33m\u001b[0m\u001b[0m\n\u001b[0m\u001b[0;32m     13\u001b[0m     \u001b[0mX_train\u001b[0m \u001b[1;33m=\u001b[0m \u001b[0mX\u001b[0m\u001b[1;33m[\u001b[0m\u001b[0mtrain_indexes\u001b[0m\u001b[1;33m]\u001b[0m\u001b[1;33m\u001b[0m\u001b[0m\n\u001b[0;32m     14\u001b[0m     \u001b[0mX_test\u001b[0m \u001b[1;33m=\u001b[0m \u001b[0mX\u001b[0m\u001b[1;33m[\u001b[0m\u001b[0mtest_indexes\u001b[0m\u001b[1;33m]\u001b[0m\u001b[1;33m\u001b[0m\u001b[0m\n",
      "\u001b[1;32m/usr/local/lib/python3.4/site-packages/pandas/core/frame.py\u001b[0m in \u001b[0;36m__getitem__\u001b[1;34m(self, key)\u001b[0m\n\u001b[0;32m   1795\u001b[0m             \u001b[1;32mreturn\u001b[0m \u001b[0mself\u001b[0m\u001b[1;33m.\u001b[0m\u001b[0m_getitem_multilevel\u001b[0m\u001b[1;33m(\u001b[0m\u001b[0mkey\u001b[0m\u001b[1;33m)\u001b[0m\u001b[1;33m\u001b[0m\u001b[0m\n\u001b[0;32m   1796\u001b[0m         \u001b[1;32melse\u001b[0m\u001b[1;33m:\u001b[0m\u001b[1;33m\u001b[0m\u001b[0m\n\u001b[1;32m-> 1797\u001b[1;33m             \u001b[1;32mreturn\u001b[0m \u001b[0mself\u001b[0m\u001b[1;33m.\u001b[0m\u001b[0m_getitem_column\u001b[0m\u001b[1;33m(\u001b[0m\u001b[0mkey\u001b[0m\u001b[1;33m)\u001b[0m\u001b[1;33m\u001b[0m\u001b[0m\n\u001b[0m\u001b[0;32m   1798\u001b[0m \u001b[1;33m\u001b[0m\u001b[0m\n\u001b[0;32m   1799\u001b[0m     \u001b[1;32mdef\u001b[0m \u001b[0m_getitem_column\u001b[0m\u001b[1;33m(\u001b[0m\u001b[0mself\u001b[0m\u001b[1;33m,\u001b[0m \u001b[0mkey\u001b[0m\u001b[1;33m)\u001b[0m\u001b[1;33m:\u001b[0m\u001b[1;33m\u001b[0m\u001b[0m\n",
      "\u001b[1;32m/usr/local/lib/python3.4/site-packages/pandas/core/frame.py\u001b[0m in \u001b[0;36m_getitem_column\u001b[1;34m(self, key)\u001b[0m\n\u001b[0;32m   1802\u001b[0m         \u001b[1;31m# get column\u001b[0m\u001b[1;33m\u001b[0m\u001b[1;33m\u001b[0m\u001b[0m\n\u001b[0;32m   1803\u001b[0m         \u001b[1;32mif\u001b[0m \u001b[0mself\u001b[0m\u001b[1;33m.\u001b[0m\u001b[0mcolumns\u001b[0m\u001b[1;33m.\u001b[0m\u001b[0mis_unique\u001b[0m\u001b[1;33m:\u001b[0m\u001b[1;33m\u001b[0m\u001b[0m\n\u001b[1;32m-> 1804\u001b[1;33m             \u001b[1;32mreturn\u001b[0m \u001b[0mself\u001b[0m\u001b[1;33m.\u001b[0m\u001b[0m_get_item_cache\u001b[0m\u001b[1;33m(\u001b[0m\u001b[0mkey\u001b[0m\u001b[1;33m)\u001b[0m\u001b[1;33m\u001b[0m\u001b[0m\n\u001b[0m\u001b[0;32m   1805\u001b[0m \u001b[1;33m\u001b[0m\u001b[0m\n\u001b[0;32m   1806\u001b[0m         \u001b[1;31m# duplicate columns & possible reduce dimensionaility\u001b[0m\u001b[1;33m\u001b[0m\u001b[1;33m\u001b[0m\u001b[0m\n",
      "\u001b[1;32m/usr/local/lib/python3.4/site-packages/pandas/core/generic.py\u001b[0m in \u001b[0;36m_get_item_cache\u001b[1;34m(self, item)\u001b[0m\n\u001b[0;32m   1082\u001b[0m         \u001b[0mres\u001b[0m \u001b[1;33m=\u001b[0m \u001b[0mcache\u001b[0m\u001b[1;33m.\u001b[0m\u001b[0mget\u001b[0m\u001b[1;33m(\u001b[0m\u001b[0mitem\u001b[0m\u001b[1;33m)\u001b[0m\u001b[1;33m\u001b[0m\u001b[0m\n\u001b[0;32m   1083\u001b[0m         \u001b[1;32mif\u001b[0m \u001b[0mres\u001b[0m \u001b[1;32mis\u001b[0m \u001b[1;32mNone\u001b[0m\u001b[1;33m:\u001b[0m\u001b[1;33m\u001b[0m\u001b[0m\n\u001b[1;32m-> 1084\u001b[1;33m             \u001b[0mvalues\u001b[0m \u001b[1;33m=\u001b[0m \u001b[0mself\u001b[0m\u001b[1;33m.\u001b[0m\u001b[0m_data\u001b[0m\u001b[1;33m.\u001b[0m\u001b[0mget\u001b[0m\u001b[1;33m(\u001b[0m\u001b[0mitem\u001b[0m\u001b[1;33m)\u001b[0m\u001b[1;33m\u001b[0m\u001b[0m\n\u001b[0m\u001b[0;32m   1085\u001b[0m             \u001b[0mres\u001b[0m \u001b[1;33m=\u001b[0m \u001b[0mself\u001b[0m\u001b[1;33m.\u001b[0m\u001b[0m_box_item_values\u001b[0m\u001b[1;33m(\u001b[0m\u001b[0mitem\u001b[0m\u001b[1;33m,\u001b[0m \u001b[0mvalues\u001b[0m\u001b[1;33m)\u001b[0m\u001b[1;33m\u001b[0m\u001b[0m\n\u001b[0;32m   1086\u001b[0m             \u001b[0mcache\u001b[0m\u001b[1;33m[\u001b[0m\u001b[0mitem\u001b[0m\u001b[1;33m]\u001b[0m \u001b[1;33m=\u001b[0m \u001b[0mres\u001b[0m\u001b[1;33m\u001b[0m\u001b[0m\n",
      "\u001b[1;32m/usr/local/lib/python3.4/site-packages/pandas/core/internals.py\u001b[0m in \u001b[0;36mget\u001b[1;34m(self, item, fastpath)\u001b[0m\n\u001b[0;32m   2849\u001b[0m \u001b[1;33m\u001b[0m\u001b[0m\n\u001b[0;32m   2850\u001b[0m             \u001b[1;32mif\u001b[0m \u001b[1;32mnot\u001b[0m \u001b[0misnull\u001b[0m\u001b[1;33m(\u001b[0m\u001b[0mitem\u001b[0m\u001b[1;33m)\u001b[0m\u001b[1;33m:\u001b[0m\u001b[1;33m\u001b[0m\u001b[0m\n\u001b[1;32m-> 2851\u001b[1;33m                 \u001b[0mloc\u001b[0m \u001b[1;33m=\u001b[0m \u001b[0mself\u001b[0m\u001b[1;33m.\u001b[0m\u001b[0mitems\u001b[0m\u001b[1;33m.\u001b[0m\u001b[0mget_loc\u001b[0m\u001b[1;33m(\u001b[0m\u001b[0mitem\u001b[0m\u001b[1;33m)\u001b[0m\u001b[1;33m\u001b[0m\u001b[0m\n\u001b[0m\u001b[0;32m   2852\u001b[0m             \u001b[1;32melse\u001b[0m\u001b[1;33m:\u001b[0m\u001b[1;33m\u001b[0m\u001b[0m\n\u001b[0;32m   2853\u001b[0m                 \u001b[0mindexer\u001b[0m \u001b[1;33m=\u001b[0m \u001b[0mnp\u001b[0m\u001b[1;33m.\u001b[0m\u001b[0marange\u001b[0m\u001b[1;33m(\u001b[0m\u001b[0mlen\u001b[0m\u001b[1;33m(\u001b[0m\u001b[0mself\u001b[0m\u001b[1;33m.\u001b[0m\u001b[0mitems\u001b[0m\u001b[1;33m)\u001b[0m\u001b[1;33m)\u001b[0m\u001b[1;33m[\u001b[0m\u001b[0misnull\u001b[0m\u001b[1;33m(\u001b[0m\u001b[0mself\u001b[0m\u001b[1;33m.\u001b[0m\u001b[0mitems\u001b[0m\u001b[1;33m)\u001b[0m\u001b[1;33m]\u001b[0m\u001b[1;33m\u001b[0m\u001b[0m\n",
      "\u001b[1;32m/usr/local/lib/python3.4/site-packages/pandas/core/index.py\u001b[0m in \u001b[0;36mget_loc\u001b[1;34m(self, key, method)\u001b[0m\n\u001b[0;32m   1570\u001b[0m         \"\"\"\n\u001b[0;32m   1571\u001b[0m         \u001b[1;32mif\u001b[0m \u001b[0mmethod\u001b[0m \u001b[1;32mis\u001b[0m \u001b[1;32mNone\u001b[0m\u001b[1;33m:\u001b[0m\u001b[1;33m\u001b[0m\u001b[0m\n\u001b[1;32m-> 1572\u001b[1;33m             \u001b[1;32mreturn\u001b[0m \u001b[0mself\u001b[0m\u001b[1;33m.\u001b[0m\u001b[0m_engine\u001b[0m\u001b[1;33m.\u001b[0m\u001b[0mget_loc\u001b[0m\u001b[1;33m(\u001b[0m\u001b[0m_values_from_object\u001b[0m\u001b[1;33m(\u001b[0m\u001b[0mkey\u001b[0m\u001b[1;33m)\u001b[0m\u001b[1;33m)\u001b[0m\u001b[1;33m\u001b[0m\u001b[0m\n\u001b[0m\u001b[0;32m   1573\u001b[0m \u001b[1;33m\u001b[0m\u001b[0m\n\u001b[0;32m   1574\u001b[0m         \u001b[0mindexer\u001b[0m \u001b[1;33m=\u001b[0m \u001b[0mself\u001b[0m\u001b[1;33m.\u001b[0m\u001b[0mget_indexer\u001b[0m\u001b[1;33m(\u001b[0m\u001b[1;33m[\u001b[0m\u001b[0mkey\u001b[0m\u001b[1;33m]\u001b[0m\u001b[1;33m,\u001b[0m \u001b[0mmethod\u001b[0m\u001b[1;33m=\u001b[0m\u001b[0mmethod\u001b[0m\u001b[1;33m)\u001b[0m\u001b[1;33m\u001b[0m\u001b[0m\n",
      "\u001b[1;32mpandas/index.pyx\u001b[0m in \u001b[0;36mpandas.index.IndexEngine.get_loc (pandas/index.c:3824)\u001b[1;34m()\u001b[0m\n",
      "\u001b[1;32mpandas/index.pyx\u001b[0m in \u001b[0;36mpandas.index.IndexEngine.get_loc (pandas/index.c:3704)\u001b[1;34m()\u001b[0m\n",
      "\u001b[1;32mpandas/hashtable.pyx\u001b[0m in \u001b[0;36mpandas.hashtable.PyObjectHashTable.get_item (pandas/hashtable.c:12280)\u001b[1;34m()\u001b[0m\n",
      "\u001b[1;32mpandas/hashtable.pyx\u001b[0m in \u001b[0;36mpandas.hashtable.PyObjectHashTable.get_item (pandas/hashtable.c:12231)\u001b[1;34m()\u001b[0m\n",
      "\u001b[1;31mKeyError\u001b[0m: 'pca_bow'"
     ]
    }
   ],
   "source": [
    "from sklearn.cross_validation import StratifiedShuffleSplit\n",
    "\n",
    "best_classifiers = classify_results.idxmax().to_dict()\n",
    "actual_classes=dict()\n",
    "\n",
    "y=get_true_classes(df)\n",
    "train_indexes, test_indexes = list(*StratifiedShuffleSplit(y,1,test_size=1/n_folds))\n",
    "y_train = y[train_indexes]\n",
    "y_test = y[test_indexes]\n",
    "\n",
    "for model in best_classifiers.keys():\n",
    "    X = np.row_stack(df[model])\n",
    "    X_train = X[train_indexes]\n",
    "    X_test = X[test_indexes]\n",
    "    \n",
    "    if model == \"pca_bow\":\n",
    "        pca = PCA(300)\n",
    "        X_train = pca.fit_transform(X_train)\n",
    "        X_test = pca.transform(X_test)\n",
    "    \n",
    "    classifier = best_classifiers[model]\n",
    "    classifier.fit(X_train,y_train)\n",
    "    actual_classes[model] = classifier.predict(X_test)\n",
    "actual_classes[\"ground_truth\"] = y_test"
   ]
  },
  {
   "cell_type": "code",
   "execution_count": null,
   "metadata": {
    "collapsed": false
   },
   "outputs": [],
   "source": [
    "import sklearn\n",
    "agreement = pd.DataFrame(columns=actual_classes.keys(), index=actual_classes.keys())\n",
    "for model1 in actual_classes.keys():\n",
    "    for model2 in actual_classes.keys():\n",
    "        agreement.loc[model1,model2] = sklearn.metrics.accuracy_score(actual_classes[model1],actual_classes[model2])\n",
    "plot_matrix(np.asarray( agreement.values, dtype=np.float32), agreement.columns)\n",
    "\n",
    "agreement\n",
    "\n"
   ]
  },
  {
   "cell_type": "code",
   "execution_count": null,
   "metadata": {
    "collapsed": false,
    "scrolled": false
   },
   "outputs": [],
   "source": [
    "actual_classes2 = deepcopy(actual_classes)\n",
    "del actual_classes2['ground_truth']\n",
    "\n",
    "mistake_agreement = pd.DataFrame(columns=actual_classes2.keys(), index=actual_classes2.keys())\n",
    "\n",
    "\n",
    "for model1 in actual_classes2.keys():\n",
    "    for model2 in actual_classes2.keys():\n",
    "        classes1=actual_classes2[model1]\n",
    "        classes2=actual_classes2[model2]\n",
    "        \n",
    "        mistake_indexes = np.logical_and(classes1!=y_test, classes2!=y_test)\n",
    "        \n",
    "        \n",
    "        mistake_agreement.loc[model1,model2] = sklearn.metrics.jaccard_similarity_score(classes1[mistake_indexes],classes2[mistake_indexes])\n",
    "plot_matrix(np.asarray( mistake_agreement.values, dtype=np.float32), mistake_agreement.columns)\n",
    "mistake_agreement\n",
    "\n",
    "        "
   ]
  },
  {
   "cell_type": "code",
   "execution_count": null,
   "metadata": {
    "collapsed": false
   },
   "outputs": [],
   "source": [
    "difficulty_agreement = pd.DataFrame(columns=actual_classes2.keys(), index=actual_classes2.keys())\n",
    "\n",
    "for model1 in actual_classes2.keys():\n",
    "    for model2 in actual_classes2.keys():\n",
    "        classes1=actual_classes2[model1]\n",
    "        classes2=actual_classes2[model2]\n",
    "        \n",
    "        difficulty_agreement.loc[model1,model2] = sklearn.metrics.jaccard_similarity_score(classes1!=y_test,\n",
    "                                                                                           classes2!=y_test)\n",
    "        \n",
    "plot_matrix(np.asarray( difficulty_agreement.values, dtype=np.float32), difficulty_agreement.columns)\n",
    "difficulty_agreement\n",
    "\n",
    "        "
   ]
  },
  {
   "cell_type": "code",
   "execution_count": null,
   "metadata": {
    "collapsed": true
   },
   "outputs": [],
   "source": []
  },
  {
   "cell_type": "code",
   "execution_count": null,
   "metadata": {
    "collapsed": false,
    "scrolled": true
   },
   "outputs": [],
   "source": [
    "def get_symetry_measure(group):\n",
    "    xs = np.row_stack(group)\n",
    "    dist=distance.pdist(xs, angular_dist)\n",
    "    c=get_angular_centroid(xs)\n",
    "    dist = distance.cdist(xs, [c],angular_dist)\n",
    "    return dist.std()\n",
    "\n",
    "df.groupby(level=0).agg(get_symetry_measure).describe()\n",
    "    "
   ]
  },
  {
   "cell_type": "code",
   "execution_count": null,
   "metadata": {
    "collapsed": true
   },
   "outputs": [],
   "source": []
  },
  {
   "cell_type": "code",
   "execution_count": 16,
   "metadata": {
    "collapsed": false
   },
   "outputs": [],
   "source": [
    "def portion_of_points_on_bounding_box(group):\n",
    "    xs = np.row_stack(group)\n",
    "    on_max_border = np.any(xs==xs.max(axis=0), axis=1)\n",
    "    on_min_border = np.any(xs==xs.min(axis=0), axis=1)\n",
    "    on_border = on_min_border + on_max_border\n",
    "    return ( on_border.sum()/len(group))\n",
    "\n",
    "def all_points_on_bounding_box(group):\n",
    "    return portion_of_points_on_bounding_box(group)==1"
   ]
  },
  {
   "cell_type": "code",
   "execution_count": 17,
   "metadata": {
    "collapsed": false,
    "scrolled": true
   },
   "outputs": [
    {
     "data": {
      "text/html": [
       "<div>\n",
       "<table border=\"1\" class=\"dataframe\">\n",
       "  <thead>\n",
       "    <tr style=\"text-align: right;\">\n",
       "      <th></th>\n",
       "      <th></th>\n",
       "      <th>bow</th>\n",
       "      <th>pvdm</th>\n",
       "      <th>dbow</th>\n",
       "      <th>mowe</th>\n",
       "      <th>urae</th>\n",
       "    </tr>\n",
       "    <tr>\n",
       "      <th>paraphrase_group_index</th>\n",
       "      <th>phrase_index</th>\n",
       "      <th></th>\n",
       "      <th></th>\n",
       "      <th></th>\n",
       "      <th></th>\n",
       "      <th></th>\n",
       "    </tr>\n",
       "  </thead>\n",
       "  <tbody>\n",
       "    <tr>\n",
       "      <th rowspan=\"3\" valign=\"top\">0</th>\n",
       "      <th>0</th>\n",
       "      <td>[0.179605302027, 0.359210604054, 0.179605302027, 0.179605302027, 0.359210604054, 0.179605302027,...</td>\n",
       "      <td>[-0.0117090570115, -0.0587189545721, 0.0244417123033, -0.0267791108917, 0.0385295719216, 0.01680...</td>\n",
       "      <td>[-0.0729846946183, -0.0371926100352, 0.142803608845, 0.0368007142406, -0.0308977245611, 0.073924...</td>\n",
       "      <td>[0.0305474746721, 0.0311183031484, -0.0284627311194, 0.0130811284067, -0.0287902496268, -0.00041...</td>\n",
       "      <td>[0.0379956254845, 0.0790094720625, -0.00654024314252, 0.11341040047, 0.0620675305939, 0.07377024...</td>\n",
       "    </tr>\n",
       "    <tr>\n",
       "      <th>1</th>\n",
       "      <td>[0.0, 0.38490017946, 0.19245008973, 0.19245008973, 0.38490017946, 0.19245008973, 0.0, 0.19245008...</td>\n",
       "      <td>[0.0081831543312, -0.0775741948289, 0.0367460588892, -0.0611784850532, 0.00540528108917, 0.00754...</td>\n",
       "      <td>[0.00828551612384, -0.0276336841116, 0.122585907853, 0.0175703064057, 0.00649675533426, 0.035090...</td>\n",
       "      <td>[0.0138357716552, 0.0256786693164, -0.0329862232433, 0.000318545484942, 0.00968210618705, -0.009...</td>\n",
       "      <td>[-0.0497647871269, 0.214501634203, -0.079424998831, -0.0239483279593, -0.0367859435957, 0.142742...</td>\n",
       "    </tr>\n",
       "    <tr>\n",
       "      <th>2</th>\n",
       "      <td>[0.0, 0.208514414057, 0.208514414057, 0.208514414057, 0.208514414057, 0.208514414057, 0.0, 0.208...</td>\n",
       "      <td>[0.086398914955, 0.0155975029885, 0.0654881347286, -0.0919812137162, -0.0527465792094, -0.050030...</td>\n",
       "      <td>[-0.064749125469, -0.048569826136, 0.0724991165727, 0.00831948023937, -0.0386237513551, 0.096740...</td>\n",
       "      <td>[-0.00554730961616, 0.0259517988153, 0.000677861499887, 0.0230901936227, -0.022341542789, -0.036...</td>\n",
       "      <td>[-0.0583010504666, 0.0206015241569, -0.0756345218889, 0.261240525625, -0.0218611625333, 0.054668...</td>\n",
       "    </tr>\n",
       "    <tr>\n",
       "      <th rowspan=\"3\" valign=\"top\">1</th>\n",
       "      <th>3</th>\n",
       "      <td>[0.0, 0.458831467741, 0.229415733871, 0.0, 0.0, 0.0, 0.0, 0.0, 0.0, 0.0, 0.0, 0.0, 0.0, 0.0, 0.0...</td>\n",
       "      <td>[-0.121062433155, -0.000899878411466, 0.0189303737617, -0.00279241559814, 0.0327467876893, 0.058...</td>\n",
       "      <td>[-0.032022571248, 0.0178693451484, -0.143285270861, -0.00640923969129, 0.0354890426553, -0.00152...</td>\n",
       "      <td>[0.0219278414138, -0.0461185426273, 0.0770783577792, 0.0138788734381, 0.0243902221851, -0.088196...</td>\n",
       "      <td>[0.059003722651, 0.00952455641027, 0.143333238249, -0.0420982081774, 0.0678742459352, -0.0231624...</td>\n",
       "    </tr>\n",
       "    <tr>\n",
       "      <th>4</th>\n",
       "      <td>[0.0, 0.648885684523, 0.162221421131, 0.0, 0.0, 0.0, 0.0, 0.0, 0.0, 0.0, 0.0, 0.0, 0.0, 0.0, 0.0...</td>\n",
       "      <td>[-0.0740762461443, 0.0224820292554, 0.023692226038, -0.0124384560245, 0.0267403049967, 0.0174603...</td>\n",
       "      <td>[-0.0032536445765, 0.0432460555735, -0.122386167617, 0.0347117495019, 0.0573146862673, 0.0516572...</td>\n",
       "      <td>[0.0179497332348, -0.00720630816923, 0.0293081296161, 0.0409595660203, 0.0389701957239, -0.07752...</td>\n",
       "      <td>[0.0421205602652, -0.118670187704, -0.0954316047985, 0.0679992624783, 0.00911875454205, 0.153276...</td>\n",
       "    </tr>\n",
       "    <tr>\n",
       "      <th>5</th>\n",
       "      <td>[0.0, 0.436435780472, 0.218217890236, 0.0, 0.0, 0.0, 0.0, 0.0, 0.0, 0.0, 0.0, 0.0, 0.0, 0.0, 0.0...</td>\n",
       "      <td>[-0.0945685676714, 0.0206731991033, -0.00577246427113, 0.0163400202958, 0.0634217515894, 0.02555...</td>\n",
       "      <td>[0.0743759788521, -0.0233479555975, -0.0217173619408, 0.00385161193873, 0.0466486585942, 0.10551...</td>\n",
       "      <td>[-0.0248494477954, -0.03852036406, 0.0493454977553, 0.0149217586032, 0.0444351278317, -0.0762582...</td>\n",
       "      <td>[-0.00720716787582, -0.112276734631, -0.0115876482772, 0.0547049594085, 0.0138767340211, 0.07095...</td>\n",
       "    </tr>\n",
       "    <tr>\n",
       "      <th rowspan=\"3\" valign=\"top\">2</th>\n",
       "      <th>6</th>\n",
       "      <td>[0.0, 0.22360679775, 0.22360679775, 0.0, 0.0, 0.0, 0.0, 0.0, 0.0, 0.0, 0.0, 0.0, 0.0, 0.0, 0.223...</td>\n",
       "      <td>[0.175825715121, 0.0485970052697, -0.0387346283781, 0.0668004239572, -0.0231944394456, -0.102192...</td>\n",
       "      <td>[0.0071169634826, -0.0217367530261, -0.0170878568513, 0.0758748079597, 0.0330822371572, -0.01732...</td>\n",
       "      <td>[0.0943817966211, 0.0322850549455, 0.0702733653709, 0.0314974460724, 0.0372525179256, 0.01573835...</td>\n",
       "      <td>[-0.01098094329, 0.0466796989899, -0.0691152996234, -0.0285033326782, -0.121094726989, 0.1071012...</td>\n",
       "    </tr>\n",
       "    <tr>\n",
       "      <th>7</th>\n",
       "      <td>[0.0, 0.229415733871, 0.229415733871, 0.0, 0.0, 0.0, 0.0, 0.0, 0.0, 0.0, 0.0, 0.0, 0.0, 0.0, 0.2...</td>\n",
       "      <td>[0.0882271436886, 0.0947497045307, 0.0272477988427, 0.0571814763876, -0.0264408673123, -0.031708...</td>\n",
       "      <td>[0.0380425686153, 0.00529066363126, -0.0638539957007, 0.0605010727352, 0.0289706930328, -0.01123...</td>\n",
       "      <td>[0.113787529105, 0.0145045572005, 0.0624645048711, 0.0332112407402, 0.0425852148816, -0.01331475...</td>\n",
       "      <td>[-0.0243169430039, 0.0502254637008, -0.0454194901044, 0.0353389351557, -0.133422337968, 0.062285...</td>\n",
       "    </tr>\n",
       "    <tr>\n",
       "      <th>8</th>\n",
       "      <td>[0.0, 0.392232270276, 0.196116135138, 0.0, 0.196116135138, 0.0, 0.0, 0.0, 0.0, 0.0, 0.0, 0.0, 0....</td>\n",
       "      <td>[0.140726604724, 0.0857410214174, -0.0219621090301, -0.0275808728381, -0.0170008813284, -0.13227...</td>\n",
       "      <td>[-0.0593241095074, -0.0226074911107, -0.0216179831732, 0.0713470231245, 0.0180162314564, -0.0975...</td>\n",
       "      <td>[0.105846787081, 0.0400474022933, 0.0878998873338, 0.0281827538889, 0.0435480679583, -0.01630923...</td>\n",
       "      <td>[-0.0999643805467, 0.0136198191044, -0.0449082726924, 0.0555407477567, -0.137593750972, 0.087099...</td>\n",
       "    </tr>\n",
       "    <tr>\n",
       "      <th>3</th>\n",
       "      <th>9</th>\n",
       "      <td>[0.0, 0.0, 0.179605302027, 0.0, 0.179605302027, 0.0, 0.0, 0.0, 0.0, 0.0, 0.0, 0.0, 0.0, 0.0, 0.0...</td>\n",
       "      <td>[0.0559544523236, -0.0903036081366, 0.0403970254183, -0.0668524841981, -0.0492208148528, 0.06836...</td>\n",
       "      <td>[0.00663721835037, -0.0186035081668, 0.0682539919807, 0.0326185156584, 0.0636796112851, 0.103125...</td>\n",
       "      <td>[0.00263355318464, 0.0774220268361, 0.0260756625791, 0.073146860475, -0.0464785692009, -0.070716...</td>\n",
       "      <td>[0.0421931516751, -0.0121079501706, 0.00949231701355, 0.0575152798311, 0.171293773533, -0.013089...</td>\n",
       "    </tr>\n",
       "    <tr>\n",
       "      <th>...</th>\n",
       "      <th>...</th>\n",
       "      <td>...</td>\n",
       "      <td>...</td>\n",
       "      <td>...</td>\n",
       "      <td>...</td>\n",
       "      <td>...</td>\n",
       "    </tr>\n",
       "    <tr>\n",
       "      <th>270</th>\n",
       "      <th>849</th>\n",
       "      <td>[0.0, 0.316227766017, 0.158113883008, 0.0, 0.158113883008, 0.0, 0.0, 0.0, 0.0, 0.0, 0.0, 0.0, 0....</td>\n",
       "      <td>[-0.0666596766324, 0.0865195890747, 0.0584675573105, 0.0066729509707, -0.0290151160669, -0.03999...</td>\n",
       "      <td>[0.0138423930432, -0.029171880543, 0.0344861336523, 0.0387875745111, -0.000876839287692, -0.0525...</td>\n",
       "      <td>[-0.0305868006572, -0.015106850397, 0.0242511216949, 0.0829567228258, -0.0811968735706, 0.069452...</td>\n",
       "      <td>[0.0596352286437, 0.024798405749, -0.310730023649, 0.0111828748203, 0.0806979370548, 0.166325244...</td>\n",
       "    </tr>\n",
       "    <tr>\n",
       "      <th rowspan=\"3\" valign=\"top\">271</th>\n",
       "      <th>850</th>\n",
       "      <td>[0.0, 0.359210604054, 0.179605302027, 0.0, 0.0, 0.0, 0.0, 0.0, 0.0, 0.0, 0.0, 0.0, 0.0, 0.0, 0.1...</td>\n",
       "      <td>[-0.0724645959071, 0.0241412216491, -0.037837474499, 0.0337669714852, 0.117118049176, 0.03006239...</td>\n",
       "      <td>[0.0807544601591, -0.0146484300479, 0.0421498803931, -0.0609684420609, -0.0478585917501, -0.0258...</td>\n",
       "      <td>[-0.0513342401897, 0.0318251236172, -0.0241127066701, 0.134212897283, -0.0425200493929, -0.03507...</td>\n",
       "      <td>[-0.0791983119994, 0.0269702651177, -0.11919998245, 0.0907993534812, 0.0511453908264, 0.04621279...</td>\n",
       "    </tr>\n",
       "    <tr>\n",
       "      <th>851</th>\n",
       "      <td>[0.0, 0.348155311911, 0.174077655956, 0.0, 0.0, 0.0, 0.0, 0.0, 0.0, 0.0, 0.0, 0.0, 0.0, 0.0, 0.1...</td>\n",
       "      <td>[-0.0242579212101, 0.0458076472751, -0.0247438460658, 0.0434674755237, 0.129062832583, 0.0549335...</td>\n",
       "      <td>[-0.0593112440852, -0.0383922402493, 0.0259928450679, 0.109118318478, -0.0333730089088, -0.04159...</td>\n",
       "      <td>[-0.0386062326824, 0.0370650422264, -0.0065530006412, 0.126368793783, -0.0505916355607, -0.01799...</td>\n",
       "      <td>[-0.0522878449809, 0.0450284343569, -0.138583899889, 0.100495771416, 0.0591792629518, 0.04524620...</td>\n",
       "    </tr>\n",
       "    <tr>\n",
       "      <th>852</th>\n",
       "      <td>[0.0, 0.38490017946, 0.19245008973, 0.0, 0.0, 0.0, 0.0, 0.0, 0.0, 0.0, 0.0, 0.0, 0.0, 0.0, 0.192...</td>\n",
       "      <td>[-0.0990019328828, 0.0322970616104, -0.0113089930634, 0.0321633645284, 0.116923336672, 0.0710717...</td>\n",
       "      <td>[0.0718891740032, 0.0241900680351, 0.0166099564556, 0.0043239778975, -0.0244343168211, -0.063406...</td>\n",
       "      <td>[-0.0488567427804, 0.0368590644841, -0.023037795414, 0.135741337954, -0.0513914635472, -0.026641...</td>\n",
       "      <td>[-0.0810461770477, 0.026253546592, -0.119448779889, 0.0883974939004, 0.0512298547243, 0.04228918...</td>\n",
       "    </tr>\n",
       "    <tr>\n",
       "      <th rowspan=\"3\" valign=\"top\">272</th>\n",
       "      <th>853</th>\n",
       "      <td>[0.196116135138, 0.0, 0.196116135138, 0.0, 0.0, 0.0, 0.0, 0.0, 0.0, 0.0, 0.0, 0.0, 0.0, 0.0, 0.1...</td>\n",
       "      <td>[-0.0194726958951, -0.0981918220053, -0.0024122226269, -0.0077349726739, -0.0391931202175, 0.081...</td>\n",
       "      <td>[0.0132230346758, -0.0375599013744, 0.0370210494244, -0.0581963483216, -0.0504303700364, -0.0455...</td>\n",
       "      <td>[0.0962957165868, 0.0797803766327, 0.0539640684749, 0.107300028834, -0.069624187774, -0.11236215...</td>\n",
       "      <td>[-0.106923548073, 0.105362620364, 0.0294227440176, -0.0949936005822, 0.00952611881895, -0.046244...</td>\n",
       "    </tr>\n",
       "    <tr>\n",
       "      <th>854</th>\n",
       "      <td>[0.208514414057, 0.0, 0.208514414057, 0.0, 0.0, 0.0, 0.0, 0.0, 0.0, 0.0, 0.0, 0.0, 0.0, 0.0, 0.2...</td>\n",
       "      <td>[-0.037522570679, -0.0302577583073, 0.0427877761497, -0.113377856221, -0.0407373574453, 0.057430...</td>\n",
       "      <td>[0.0207457412587, 0.0042156353473, 0.136811537002, -0.0266418110789, -0.0449886939155, 0.0780959...</td>\n",
       "      <td>[0.0897813868867, 0.0899615449655, 0.0475225679848, 0.0637446280304, -0.0356086359088, -0.094943...</td>\n",
       "      <td>[-0.0885530877038, 0.0694837447831, -0.0125810475673, -0.0581358203006, 0.0788588111171, 0.08015...</td>\n",
       "    </tr>\n",
       "    <tr>\n",
       "      <th>855</th>\n",
       "      <td>[0.19245008973, 0.0, 0.19245008973, 0.0, 0.0, 0.0, 0.0, 0.0, 0.0, 0.0, 0.0, 0.0, 0.0, 0.0, 0.384...</td>\n",
       "      <td>[-0.0828805046425, -0.0729825118708, 0.0123890459359, 0.00647553136282, -0.0207212139664, 0.0641...</td>\n",
       "      <td>[0.000973759626681, 0.0169813057842, 0.136244943067, 0.0220230169833, -0.0237863993243, -0.00191...</td>\n",
       "      <td>[0.0922763965709, 0.101521494783, 0.0523994708082, 0.060390727374, -0.0385834055837, -0.11221882...</td>\n",
       "      <td>[0.0143506947759, 0.126185285549, 0.0707715338165, -0.0333847646577, 0.0773098176514, 0.08908711...</td>\n",
       "    </tr>\n",
       "    <tr>\n",
       "      <th rowspan=\"3\" valign=\"top\">273</th>\n",
       "      <th>856</th>\n",
       "      <td>[0.0, 0.169030850946, 0.169030850946, 0.0, 0.0, 0.0, 0.0, 0.0, 0.0, 0.0, 0.0, 0.0, 0.0, 0.0, 0.1...</td>\n",
       "      <td>[-0.0056844628904, 0.11953350689, 0.074734976168, -0.12669890133, 0.0350443580022, -0.0106659776...</td>\n",
       "      <td>[0.00670764462326, -0.0344543130499, -0.0293144744805, -0.0442956989034, -0.0492513752124, 0.069...</td>\n",
       "      <td>[0.0253710161209, 0.0434380468974, 0.00372081546161, 0.0931109428421, -0.103995238396, -0.034349...</td>\n",
       "      <td>[0.0841262782875, 0.143684635888, -0.309525954723, -0.002549393023, 0.100266648177, 0.2287848343...</td>\n",
       "    </tr>\n",
       "    <tr>\n",
       "      <th>857</th>\n",
       "      <td>[0.0, 0.348155311911, 0.174077655956, 0.0, 0.0, 0.0, 0.0, 0.0, 0.0, 0.0, 0.0, 0.0, 0.0, 0.0, 0.1...</td>\n",
       "      <td>[0.0819706287278, 0.0661858875771, 0.079656586303, -0.102580621504, 0.00516072536797, -0.0541637...</td>\n",
       "      <td>[0.0351919152779, -0.0230379293927, 0.00321316440465, -0.0717771819968, -0.0212963858451, 0.0020...</td>\n",
       "      <td>[0.0304196415195, 0.046718572446, -0.00506010856604, 0.0855364813091, -0.0986090136575, -0.04136...</td>\n",
       "      <td>[0.0397496839829, 0.0315805284544, -0.00685466788777, -0.0597630840894, 0.0306584571893, 0.21795...</td>\n",
       "    </tr>\n",
       "    <tr>\n",
       "      <th>858</th>\n",
       "      <td>[0.0, 0.0, 0.188982236505, 0.0, 0.0, 0.0, 0.0, 0.0, 0.0, 0.0, 0.0, 0.0, 0.0, 0.0, 0.0, 0.0, 0.18...</td>\n",
       "      <td>[0.106673568106, 0.0610924342478, 0.0180348641901, -0.0948690805965, 0.0022789125109, -0.0010728...</td>\n",
       "      <td>[0.0185594328711, -0.0443368721102, 0.0559411817198, -0.0293127610792, -0.000873193359118, 0.103...</td>\n",
       "      <td>[0.0246235350641, 0.0535033569585, 0.019660671747, 0.089599612206, -0.0959245577512, -0.06234622...</td>\n",
       "      <td>[-0.121579902217, 0.0830065002721, 0.166443873195, 0.0445472538298, 0.0846887918948, -0.00560057...</td>\n",
       "    </tr>\n",
       "  </tbody>\n",
       "</table>\n",
       "<p>859 rows × 5 columns</p>\n",
       "</div>"
      ],
      "text/plain": [
       "                                                                                                                                     bow  \\\n",
       "paraphrase_group_index phrase_index                                                                                                        \n",
       "0                      0             [0.179605302027, 0.359210604054, 0.179605302027, 0.179605302027, 0.359210604054, 0.179605302027,...   \n",
       "                       1             [0.0, 0.38490017946, 0.19245008973, 0.19245008973, 0.38490017946, 0.19245008973, 0.0, 0.19245008...   \n",
       "                       2             [0.0, 0.208514414057, 0.208514414057, 0.208514414057, 0.208514414057, 0.208514414057, 0.0, 0.208...   \n",
       "1                      3             [0.0, 0.458831467741, 0.229415733871, 0.0, 0.0, 0.0, 0.0, 0.0, 0.0, 0.0, 0.0, 0.0, 0.0, 0.0, 0.0...   \n",
       "                       4             [0.0, 0.648885684523, 0.162221421131, 0.0, 0.0, 0.0, 0.0, 0.0, 0.0, 0.0, 0.0, 0.0, 0.0, 0.0, 0.0...   \n",
       "                       5             [0.0, 0.436435780472, 0.218217890236, 0.0, 0.0, 0.0, 0.0, 0.0, 0.0, 0.0, 0.0, 0.0, 0.0, 0.0, 0.0...   \n",
       "2                      6             [0.0, 0.22360679775, 0.22360679775, 0.0, 0.0, 0.0, 0.0, 0.0, 0.0, 0.0, 0.0, 0.0, 0.0, 0.0, 0.223...   \n",
       "                       7             [0.0, 0.229415733871, 0.229415733871, 0.0, 0.0, 0.0, 0.0, 0.0, 0.0, 0.0, 0.0, 0.0, 0.0, 0.0, 0.2...   \n",
       "                       8             [0.0, 0.392232270276, 0.196116135138, 0.0, 0.196116135138, 0.0, 0.0, 0.0, 0.0, 0.0, 0.0, 0.0, 0....   \n",
       "3                      9             [0.0, 0.0, 0.179605302027, 0.0, 0.179605302027, 0.0, 0.0, 0.0, 0.0, 0.0, 0.0, 0.0, 0.0, 0.0, 0.0...   \n",
       "...                                                                                                                                  ...   \n",
       "270                    849           [0.0, 0.316227766017, 0.158113883008, 0.0, 0.158113883008, 0.0, 0.0, 0.0, 0.0, 0.0, 0.0, 0.0, 0....   \n",
       "271                    850           [0.0, 0.359210604054, 0.179605302027, 0.0, 0.0, 0.0, 0.0, 0.0, 0.0, 0.0, 0.0, 0.0, 0.0, 0.0, 0.1...   \n",
       "                       851           [0.0, 0.348155311911, 0.174077655956, 0.0, 0.0, 0.0, 0.0, 0.0, 0.0, 0.0, 0.0, 0.0, 0.0, 0.0, 0.1...   \n",
       "                       852           [0.0, 0.38490017946, 0.19245008973, 0.0, 0.0, 0.0, 0.0, 0.0, 0.0, 0.0, 0.0, 0.0, 0.0, 0.0, 0.192...   \n",
       "272                    853           [0.196116135138, 0.0, 0.196116135138, 0.0, 0.0, 0.0, 0.0, 0.0, 0.0, 0.0, 0.0, 0.0, 0.0, 0.0, 0.1...   \n",
       "                       854           [0.208514414057, 0.0, 0.208514414057, 0.0, 0.0, 0.0, 0.0, 0.0, 0.0, 0.0, 0.0, 0.0, 0.0, 0.0, 0.2...   \n",
       "                       855           [0.19245008973, 0.0, 0.19245008973, 0.0, 0.0, 0.0, 0.0, 0.0, 0.0, 0.0, 0.0, 0.0, 0.0, 0.0, 0.384...   \n",
       "273                    856           [0.0, 0.169030850946, 0.169030850946, 0.0, 0.0, 0.0, 0.0, 0.0, 0.0, 0.0, 0.0, 0.0, 0.0, 0.0, 0.1...   \n",
       "                       857           [0.0, 0.348155311911, 0.174077655956, 0.0, 0.0, 0.0, 0.0, 0.0, 0.0, 0.0, 0.0, 0.0, 0.0, 0.0, 0.1...   \n",
       "                       858           [0.0, 0.0, 0.188982236505, 0.0, 0.0, 0.0, 0.0, 0.0, 0.0, 0.0, 0.0, 0.0, 0.0, 0.0, 0.0, 0.0, 0.18...   \n",
       "\n",
       "                                                                                                                                    pvdm  \\\n",
       "paraphrase_group_index phrase_index                                                                                                        \n",
       "0                      0             [-0.0117090570115, -0.0587189545721, 0.0244417123033, -0.0267791108917, 0.0385295719216, 0.01680...   \n",
       "                       1             [0.0081831543312, -0.0775741948289, 0.0367460588892, -0.0611784850532, 0.00540528108917, 0.00754...   \n",
       "                       2             [0.086398914955, 0.0155975029885, 0.0654881347286, -0.0919812137162, -0.0527465792094, -0.050030...   \n",
       "1                      3             [-0.121062433155, -0.000899878411466, 0.0189303737617, -0.00279241559814, 0.0327467876893, 0.058...   \n",
       "                       4             [-0.0740762461443, 0.0224820292554, 0.023692226038, -0.0124384560245, 0.0267403049967, 0.0174603...   \n",
       "                       5             [-0.0945685676714, 0.0206731991033, -0.00577246427113, 0.0163400202958, 0.0634217515894, 0.02555...   \n",
       "2                      6             [0.175825715121, 0.0485970052697, -0.0387346283781, 0.0668004239572, -0.0231944394456, -0.102192...   \n",
       "                       7             [0.0882271436886, 0.0947497045307, 0.0272477988427, 0.0571814763876, -0.0264408673123, -0.031708...   \n",
       "                       8             [0.140726604724, 0.0857410214174, -0.0219621090301, -0.0275808728381, -0.0170008813284, -0.13227...   \n",
       "3                      9             [0.0559544523236, -0.0903036081366, 0.0403970254183, -0.0668524841981, -0.0492208148528, 0.06836...   \n",
       "...                                                                                                                                  ...   \n",
       "270                    849           [-0.0666596766324, 0.0865195890747, 0.0584675573105, 0.0066729509707, -0.0290151160669, -0.03999...   \n",
       "271                    850           [-0.0724645959071, 0.0241412216491, -0.037837474499, 0.0337669714852, 0.117118049176, 0.03006239...   \n",
       "                       851           [-0.0242579212101, 0.0458076472751, -0.0247438460658, 0.0434674755237, 0.129062832583, 0.0549335...   \n",
       "                       852           [-0.0990019328828, 0.0322970616104, -0.0113089930634, 0.0321633645284, 0.116923336672, 0.0710717...   \n",
       "272                    853           [-0.0194726958951, -0.0981918220053, -0.0024122226269, -0.0077349726739, -0.0391931202175, 0.081...   \n",
       "                       854           [-0.037522570679, -0.0302577583073, 0.0427877761497, -0.113377856221, -0.0407373574453, 0.057430...   \n",
       "                       855           [-0.0828805046425, -0.0729825118708, 0.0123890459359, 0.00647553136282, -0.0207212139664, 0.0641...   \n",
       "273                    856           [-0.0056844628904, 0.11953350689, 0.074734976168, -0.12669890133, 0.0350443580022, -0.0106659776...   \n",
       "                       857           [0.0819706287278, 0.0661858875771, 0.079656586303, -0.102580621504, 0.00516072536797, -0.0541637...   \n",
       "                       858           [0.106673568106, 0.0610924342478, 0.0180348641901, -0.0948690805965, 0.0022789125109, -0.0010728...   \n",
       "\n",
       "                                                                                                                                    dbow  \\\n",
       "paraphrase_group_index phrase_index                                                                                                        \n",
       "0                      0             [-0.0729846946183, -0.0371926100352, 0.142803608845, 0.0368007142406, -0.0308977245611, 0.073924...   \n",
       "                       1             [0.00828551612384, -0.0276336841116, 0.122585907853, 0.0175703064057, 0.00649675533426, 0.035090...   \n",
       "                       2             [-0.064749125469, -0.048569826136, 0.0724991165727, 0.00831948023937, -0.0386237513551, 0.096740...   \n",
       "1                      3             [-0.032022571248, 0.0178693451484, -0.143285270861, -0.00640923969129, 0.0354890426553, -0.00152...   \n",
       "                       4             [-0.0032536445765, 0.0432460555735, -0.122386167617, 0.0347117495019, 0.0573146862673, 0.0516572...   \n",
       "                       5             [0.0743759788521, -0.0233479555975, -0.0217173619408, 0.00385161193873, 0.0466486585942, 0.10551...   \n",
       "2                      6             [0.0071169634826, -0.0217367530261, -0.0170878568513, 0.0758748079597, 0.0330822371572, -0.01732...   \n",
       "                       7             [0.0380425686153, 0.00529066363126, -0.0638539957007, 0.0605010727352, 0.0289706930328, -0.01123...   \n",
       "                       8             [-0.0593241095074, -0.0226074911107, -0.0216179831732, 0.0713470231245, 0.0180162314564, -0.0975...   \n",
       "3                      9             [0.00663721835037, -0.0186035081668, 0.0682539919807, 0.0326185156584, 0.0636796112851, 0.103125...   \n",
       "...                                                                                                                                  ...   \n",
       "270                    849           [0.0138423930432, -0.029171880543, 0.0344861336523, 0.0387875745111, -0.000876839287692, -0.0525...   \n",
       "271                    850           [0.0807544601591, -0.0146484300479, 0.0421498803931, -0.0609684420609, -0.0478585917501, -0.0258...   \n",
       "                       851           [-0.0593112440852, -0.0383922402493, 0.0259928450679, 0.109118318478, -0.0333730089088, -0.04159...   \n",
       "                       852           [0.0718891740032, 0.0241900680351, 0.0166099564556, 0.0043239778975, -0.0244343168211, -0.063406...   \n",
       "272                    853           [0.0132230346758, -0.0375599013744, 0.0370210494244, -0.0581963483216, -0.0504303700364, -0.0455...   \n",
       "                       854           [0.0207457412587, 0.0042156353473, 0.136811537002, -0.0266418110789, -0.0449886939155, 0.0780959...   \n",
       "                       855           [0.000973759626681, 0.0169813057842, 0.136244943067, 0.0220230169833, -0.0237863993243, -0.00191...   \n",
       "273                    856           [0.00670764462326, -0.0344543130499, -0.0293144744805, -0.0442956989034, -0.0492513752124, 0.069...   \n",
       "                       857           [0.0351919152779, -0.0230379293927, 0.00321316440465, -0.0717771819968, -0.0212963858451, 0.0020...   \n",
       "                       858           [0.0185594328711, -0.0443368721102, 0.0559411817198, -0.0293127610792, -0.000873193359118, 0.103...   \n",
       "\n",
       "                                                                                                                                    mowe  \\\n",
       "paraphrase_group_index phrase_index                                                                                                        \n",
       "0                      0             [0.0305474746721, 0.0311183031484, -0.0284627311194, 0.0130811284067, -0.0287902496268, -0.00041...   \n",
       "                       1             [0.0138357716552, 0.0256786693164, -0.0329862232433, 0.000318545484942, 0.00968210618705, -0.009...   \n",
       "                       2             [-0.00554730961616, 0.0259517988153, 0.000677861499887, 0.0230901936227, -0.022341542789, -0.036...   \n",
       "1                      3             [0.0219278414138, -0.0461185426273, 0.0770783577792, 0.0138788734381, 0.0243902221851, -0.088196...   \n",
       "                       4             [0.0179497332348, -0.00720630816923, 0.0293081296161, 0.0409595660203, 0.0389701957239, -0.07752...   \n",
       "                       5             [-0.0248494477954, -0.03852036406, 0.0493454977553, 0.0149217586032, 0.0444351278317, -0.0762582...   \n",
       "2                      6             [0.0943817966211, 0.0322850549455, 0.0702733653709, 0.0314974460724, 0.0372525179256, 0.01573835...   \n",
       "                       7             [0.113787529105, 0.0145045572005, 0.0624645048711, 0.0332112407402, 0.0425852148816, -0.01331475...   \n",
       "                       8             [0.105846787081, 0.0400474022933, 0.0878998873338, 0.0281827538889, 0.0435480679583, -0.01630923...   \n",
       "3                      9             [0.00263355318464, 0.0774220268361, 0.0260756625791, 0.073146860475, -0.0464785692009, -0.070716...   \n",
       "...                                                                                                                                  ...   \n",
       "270                    849           [-0.0305868006572, -0.015106850397, 0.0242511216949, 0.0829567228258, -0.0811968735706, 0.069452...   \n",
       "271                    850           [-0.0513342401897, 0.0318251236172, -0.0241127066701, 0.134212897283, -0.0425200493929, -0.03507...   \n",
       "                       851           [-0.0386062326824, 0.0370650422264, -0.0065530006412, 0.126368793783, -0.0505916355607, -0.01799...   \n",
       "                       852           [-0.0488567427804, 0.0368590644841, -0.023037795414, 0.135741337954, -0.0513914635472, -0.026641...   \n",
       "272                    853           [0.0962957165868, 0.0797803766327, 0.0539640684749, 0.107300028834, -0.069624187774, -0.11236215...   \n",
       "                       854           [0.0897813868867, 0.0899615449655, 0.0475225679848, 0.0637446280304, -0.0356086359088, -0.094943...   \n",
       "                       855           [0.0922763965709, 0.101521494783, 0.0523994708082, 0.060390727374, -0.0385834055837, -0.11221882...   \n",
       "273                    856           [0.0253710161209, 0.0434380468974, 0.00372081546161, 0.0931109428421, -0.103995238396, -0.034349...   \n",
       "                       857           [0.0304196415195, 0.046718572446, -0.00506010856604, 0.0855364813091, -0.0986090136575, -0.04136...   \n",
       "                       858           [0.0246235350641, 0.0535033569585, 0.019660671747, 0.089599612206, -0.0959245577512, -0.06234622...   \n",
       "\n",
       "                                                                                                                                    urae  \n",
       "paraphrase_group_index phrase_index                                                                                                       \n",
       "0                      0             [0.0379956254845, 0.0790094720625, -0.00654024314252, 0.11341040047, 0.0620675305939, 0.07377024...  \n",
       "                       1             [-0.0497647871269, 0.214501634203, -0.079424998831, -0.0239483279593, -0.0367859435957, 0.142742...  \n",
       "                       2             [-0.0583010504666, 0.0206015241569, -0.0756345218889, 0.261240525625, -0.0218611625333, 0.054668...  \n",
       "1                      3             [0.059003722651, 0.00952455641027, 0.143333238249, -0.0420982081774, 0.0678742459352, -0.0231624...  \n",
       "                       4             [0.0421205602652, -0.118670187704, -0.0954316047985, 0.0679992624783, 0.00911875454205, 0.153276...  \n",
       "                       5             [-0.00720716787582, -0.112276734631, -0.0115876482772, 0.0547049594085, 0.0138767340211, 0.07095...  \n",
       "2                      6             [-0.01098094329, 0.0466796989899, -0.0691152996234, -0.0285033326782, -0.121094726989, 0.1071012...  \n",
       "                       7             [-0.0243169430039, 0.0502254637008, -0.0454194901044, 0.0353389351557, -0.133422337968, 0.062285...  \n",
       "                       8             [-0.0999643805467, 0.0136198191044, -0.0449082726924, 0.0555407477567, -0.137593750972, 0.087099...  \n",
       "3                      9             [0.0421931516751, -0.0121079501706, 0.00949231701355, 0.0575152798311, 0.171293773533, -0.013089...  \n",
       "...                                                                                                                                  ...  \n",
       "270                    849           [0.0596352286437, 0.024798405749, -0.310730023649, 0.0111828748203, 0.0806979370548, 0.166325244...  \n",
       "271                    850           [-0.0791983119994, 0.0269702651177, -0.11919998245, 0.0907993534812, 0.0511453908264, 0.04621279...  \n",
       "                       851           [-0.0522878449809, 0.0450284343569, -0.138583899889, 0.100495771416, 0.0591792629518, 0.04524620...  \n",
       "                       852           [-0.0810461770477, 0.026253546592, -0.119448779889, 0.0883974939004, 0.0512298547243, 0.04228918...  \n",
       "272                    853           [-0.106923548073, 0.105362620364, 0.0294227440176, -0.0949936005822, 0.00952611881895, -0.046244...  \n",
       "                       854           [-0.0885530877038, 0.0694837447831, -0.0125810475673, -0.0581358203006, 0.0788588111171, 0.08015...  \n",
       "                       855           [0.0143506947759, 0.126185285549, 0.0707715338165, -0.0333847646577, 0.0773098176514, 0.08908711...  \n",
       "273                    856           [0.0841262782875, 0.143684635888, -0.309525954723, -0.002549393023, 0.100266648177, 0.2287848343...  \n",
       "                       857           [0.0397496839829, 0.0315805284544, -0.00685466788777, -0.0597630840894, 0.0306584571893, 0.21795...  \n",
       "                       858           [-0.121579902217, 0.0830065002721, 0.166443873195, 0.0445472538298, 0.0846887918948, -0.00560057...  \n",
       "\n",
       "[859 rows x 5 columns]"
      ]
     },
     "execution_count": 17,
     "metadata": {},
     "output_type": "execute_result"
    }
   ],
   "source": [
    "def unit_norms(vectors):\n",
    "    vecs = np.row_stack(vectors)\n",
    "    unit_norms = np.linalg.norm(vecs,axis=1)\n",
    "    return unit_norms#[list(row) for row in unit_vecs]\n",
    "\n",
    "dfa = pd.DataFrame(index=df.index, columns=\"bow pvdm dbow mowe urae\".split())\n",
    "for col in dfa.columns:\n",
    "    dfa.loc[:,col]=df.loc[:,col]/unit_norms(df.loc[:,col])\n",
    "\n",
    "dfa\n"
   ]
  },
  {
   "cell_type": "code",
   "execution_count": 20,
   "metadata": {
    "collapsed": false
   },
   "outputs": [
    {
     "data": {
      "text/plain": [
       "pvdm    1\n",
       "dbow    1\n",
       "urae    1\n",
       "mowe    1\n",
       "bow     1\n",
       "dtype: float64"
      ]
     },
     "execution_count": 20,
     "metadata": {},
     "output_type": "execute_result"
    }
   ],
   "source": [
    "pd.options.display.float_format=None\n",
    "df.groupby(level=0).agg(all_points_on_bounding_box).sum()/len(df.groupby(level=0))"
   ]
  },
  {
   "cell_type": "code",
   "execution_count": 19,
   "metadata": {
    "collapsed": false
   },
   "outputs": [
    {
     "data": {
      "text/plain": [
       "274"
      ]
     },
     "execution_count": 19,
     "metadata": {},
     "output_type": "execute_result"
    }
   ],
   "source": []
  },
  {
   "cell_type": "code",
   "execution_count": null,
   "metadata": {
    "collapsed": true
   },
   "outputs": [],
   "source": []
  },
  {
   "cell_type": "code",
   "execution_count": 28,
   "metadata": {
    "collapsed": false
   },
   "outputs": [
    {
     "data": {
      "text/html": [
       "<div>\n",
       "<table border=\"1\" class=\"dataframe\">\n",
       "  <thead>\n",
       "    <tr style=\"text-align: right;\">\n",
       "      <th></th>\n",
       "      <th>0</th>\n",
       "    </tr>\n",
       "  </thead>\n",
       "  <tbody>\n",
       "    <tr>\n",
       "      <th>pvdm</th>\n",
       "      <td>17.58%</td>\n",
       "    </tr>\n",
       "    <tr>\n",
       "      <th>dbow</th>\n",
       "      <td>33.76%</td>\n",
       "    </tr>\n",
       "    <tr>\n",
       "      <th>urae</th>\n",
       "      <td>18.16%</td>\n",
       "    </tr>\n",
       "    <tr>\n",
       "      <th>mowe</th>\n",
       "      <td>25.03%</td>\n",
       "    </tr>\n",
       "    <tr>\n",
       "      <th>bow</th>\n",
       "      <td>100.00%</td>\n",
       "    </tr>\n",
       "  </tbody>\n",
       "</table>\n",
       "</div>"
      ],
      "text/plain": [
       "           0\n",
       "pvdm  17.58%\n",
       "dbow  33.76%\n",
       "urae  18.16%\n",
       "mowe  25.03%\n",
       "bow  100.00%"
      ]
     },
     "execution_count": 28,
     "metadata": {},
     "output_type": "execute_result"
    }
   ],
   "source": [
    "pd.options.display.float_format = lambda x: '{:.2f}%'.format(x*100)\n",
    "hollowness=pd.Series()\n",
    "hollowness[\"pvdm\"]=portion_of_points_on_bounding_box(df.pvdm)\n",
    "hollowness[\"dbow\"]=portion_of_points_on_bounding_box(df.dbow)\n",
    "hollowness[\"urae\"]=portion_of_points_on_bounding_box(df.urae)\n",
    "hollowness[\"mowe\"]=portion_of_points_on_bounding_box(df.mowe)\n",
    "hollowness[\"bow\"]=portion_of_points_on_bounding_box(df.bow)\n",
    "pd.DataFrame(hollowness)"
   ]
  },
  {
   "cell_type": "code",
   "execution_count": 30,
   "metadata": {
    "collapsed": false
   },
   "outputs": [
    {
     "data": {
      "text/plain": [
       "0.6065192083818394"
      ]
     },
     "execution_count": 30,
     "metadata": {},
     "output_type": "execute_result"
    }
   ],
   "source": [
    "521/len(df)"
   ]
  },
  {
   "cell_type": "markdown",
   "metadata": {},
   "source": [
    "# "
   ]
  },
  {
   "cell_type": "code",
   "execution_count": null,
   "metadata": {
    "collapsed": false,
    "scrolled": true
   },
   "outputs": [],
   "source": [
    "def portion_where_angular_centroid_closer_than_average(group):\n",
    "    c = get_angular_centroid(group)\n",
    "    xs = np.row_stack(group)\n",
    "    distances = distance.pdist(xs, 'cosine')\n",
    "    av_dist = distances.mean()\n",
    "    c_dist = distance.cdist(xs, [c],'cosine')\n",
    "    return (c_dist<av_dist).sum()/len(group)\n",
    "    \n",
    "df.groupby(level=0).agg(portion_where_angular_centroid_closer_than_average).hist()"
   ]
  },
  {
   "cell_type": "code",
   "execution_count": null,
   "metadata": {
    "collapsed": false
   },
   "outputs": [],
   "source": [
    "group = [[1,0],[0,1]]\n",
    "c = get_angular_centroid(group)\n",
    "xs = np.row_stack(group)"
   ]
  },
  {
   "cell_type": "code",
   "execution_count": null,
   "metadata": {
    "collapsed": false
   },
   "outputs": [],
   "source": [
    "distance.pdist(xs, angular_dist)"
   ]
  },
  {
   "cell_type": "code",
   "execution_count": null,
   "metadata": {
    "collapsed": false
   },
   "outputs": [],
   "source": [
    "distance.cdist(xs, [c],'cosine')"
   ]
  },
  {
   "cell_type": "code",
   "execution_count": null,
   "metadata": {
    "collapsed": false
   },
   "outputs": [],
   "source": [
    "len(df.bow[(1,2)])"
   ]
  },
  {
   "cell_type": "code",
   "execution_count": null,
   "metadata": {
    "collapsed": true
   },
   "outputs": [],
   "source": []
  },
  {
   "cell_type": "code",
   "execution_count": null,
   "metadata": {
    "collapsed": false
   },
   "outputs": [],
   "source": [
    "\n"
   ]
  },
  {
   "cell_type": "code",
   "execution_count": null,
   "metadata": {
    "collapsed": false
   },
   "outputs": [],
   "source": [
    "dfv = df.groupby(level=0).filter(lambda x: len(x) >22) #20)\n",
    "from sklearn.cross_validation import StratifiedShuffleSplit\n",
    "true_classes = get_true_classes(dfv)\n",
    "train_index, test_index = list(*StratifiedShuffleSplit(true_classes, 1, test_size=1/3))\n",
    "\n"
   ]
  },
  {
   "cell_type": "code",
   "execution_count": null,
   "metadata": {
    "collapsed": false
   },
   "outputs": [],
   "source": [
    "xs = np.row_stack(dfv.mowe)\n",
    "classifier = classifiers[1]\n",
    "classifier.fit(xs[train_index,:], true_classes[train_index] )\n",
    "classifier.score(xs[test_index,:], true_classes[test_index])"
   ]
  },
  {
   "cell_type": "code",
   "execution_count": null,
   "metadata": {
    "collapsed": false
   },
   "outputs": [],
   "source": [
    "\n",
    "from sklearn.utils import safe_mask\n",
    "ndims=2\n",
    "importances = np.abs(classifier.coef_).sum(axis=0)\n",
    "key_dims = np.argpartition(-importances,ndims)[0:ndims]\n",
    "threshold = importances[key_dims[-1]]\n",
    "raw_mask = importances>=threshold\n",
    "key_dims"
   ]
  },
  {
   "cell_type": "code",
   "execution_count": null,
   "metadata": {
    "collapsed": false
   },
   "outputs": [],
   "source": [
    "from matplotlib import colors as mpl_colors\n",
    "import random\n",
    "color_names = [\n",
    "    'aqua','black','blue','brown','cadetblue','chartreuse','chocolate','coral','crimson','cyan','darkblue','darkcyan','darkgray','darkgreen','darkgrey','darkkhaki','darkolivegreen','darkorange','darkred','darksage','darksalmon','darkseagreen','darkslateblue','darkturquoise','darkviolet','deeppink','deepskyblue','dimgrey','dodgerblue','firebrick','forestgreen','fuchsia','gold','goldenrod','green','greenyellow','grey','hotpink','indigo','lawngreen','lime','limegreen','magenta','maroon','midnightblue','olive','orange','orangered','orchid','peru','pink','plum','purple','red','rosybrown','royalblue','salmon','sandybrown','sienna','silver', 'steelblue','tan','thistle','tomato','violet','wheat','yellow','yellowgreen',\n",
    "    ]\n",
    "random.shuffle(color_names)\n",
    "\n",
    "lbls = true_classes\n",
    "\n",
    "color_dict = dict(zip(np.unique(lbls), color_names))\n",
    "colors = [color_dict[lbl] for lbl in lbls]\n",
    "color_dict"
   ]
  },
  {
   "cell_type": "code",
   "execution_count": null,
   "metadata": {
    "collapsed": false
   },
   "outputs": [],
   "source": [
    "from sklearn.manifold import t_sne\n",
    "def plot_tsne(series):\n",
    "    tsne = t_sne.TSNE()\n",
    "    Ys = tsne.fit_transform(np.row_stack(series))\n",
    "    \n",
    "    pl.scatter(Ys[:,0],Ys[:,1], c=colors)\n",
    "    \n",
    "plot_tsne(dfv.bow)"
   ]
  },
  {
   "cell_type": "code",
   "execution_count": null,
   "metadata": {
    "collapsed": false
   },
   "outputs": [],
   "source": [
    "w = classifier.coef_[0]\n",
    "a = -w[key_dims[0]] / w[key_dims[1]]\n",
    "xx = np.linspace(xs.min(), xs.max())\n",
    "yy = a * xx - (classifier.intercept_[0])/w[key_dims[1]]"
   ]
  },
  {
   "cell_type": "code",
   "execution_count": null,
   "metadata": {
    "collapsed": false
   },
   "outputs": [],
   "source": [
    "#pl.plot(xx, yy, 'k-')\n",
    "pl.scatter(x=xs[:,key_dims[0]],y=xs[:,key_dims[1]], c=colors)"
   ]
  },
  {
   "cell_type": "code",
   "execution_count": null,
   "metadata": {
    "collapsed": false
   },
   "outputs": [],
   "source": [
    "print(__doc__)\n",
    "# Code source: Gaël Varoquaux\n",
    "# Modified for documentation by Jaques Grobler\n",
    "# License: BSD 3 clause\n",
    "\n",
    "import numpy as np\n",
    "import matplotlib.pyplot as pl\n",
    "from sklearn import svm\n",
    "\n",
    "# we create 40 separable points\n",
    "np.random.seed(0)\n",
    "X=xs[:,[key_dims[0],key_dims[1]]]\n",
    "Y=true_classes\n",
    "# figure number\n",
    "fignum = 1\n",
    "\n",
    "# fit the model\n",
    "for name, penalty in (('unreg', 1), ('reg', 0.05)):\n",
    "\n",
    "    clf = svm.LinearSVC(C=penalty)\n",
    "    clf.fit(X, Y)\n",
    "\n",
    "    # get the separating hyperplane\n",
    "    w = clf.coef_[0]\n",
    "    a = -w[0] / w[1]\n",
    "    xx = np.linspace(-5, 5)\n",
    "    yy = a * xx - (clf.intercept_[0]) / w[1]\n",
    "\n",
    "    # plot the parallels to the separating hyperplane that pass through the\n",
    "    # support vectors\n",
    "    margin = 1 / np.sqrt(np.sum(clf.coef_ ** 2))\n",
    "    yy_down = yy + a * margin\n",
    "    yy_up = yy - a * margin\n",
    "\n",
    "    # plot the line, the points, and the nearest vectors to the plane\n",
    "    pl.figure(fignum, figsize=(4, 3))\n",
    "    pl.clf()\n",
    "    pl.plot(xx, yy, 'k-')\n",
    "    pl.plot(xx, yy_down, 'k--')\n",
    "    pl.plot(xx, yy_up, 'k--')\n",
    "\n",
    "    pl.scatter(X[:, 0], X[:, 1], c=Y, zorder=10, cmap=pl.cm.Paired)\n",
    "\n",
    "    pl.axis('tight')\n",
    "    x_min = X[:,0].min()-np.std(X[:,0])\n",
    "    y_min = X[:,1].min()-np.std(X[:,1])\n",
    "    x_max = X[:,0].max()+np.std(X[:,0])\n",
    "    y_max = X[:,1].max()+np.std(X[:,1])\n",
    "    \n",
    "    \n",
    "    XX, YY = np.mgrid[x_min:x_max:200j, y_min:y_max:200j]\n",
    "    Z = clf.predict(np.c_[XX.ravel(), YY.ravel()])\n",
    "\n",
    "    # Put the result into a color plot\n",
    "    Z = Z.reshape(XX.shape)\n",
    "    pl.figure(fignum, figsize=(4, 3))\n",
    "    pl.pcolormesh(XX, YY, Z, cmap=pl.cm.Paired)\n",
    "\n",
    "    pl.xlim(x_min, x_max)\n",
    "    pl.ylim(y_min, y_max)\n",
    "\n",
    "    pl.xticks(())\n",
    "    pl.yticks(())\n",
    "    fignum = fignum + 1\n",
    "\n",
    "pl.show()"
   ]
  },
  {
   "cell_type": "code",
   "execution_count": null,
   "metadata": {
    "collapsed": false
   },
   "outputs": [],
   "source": [
    "!git commit -a -m=\"Corrected calculation of PCA fits\""
   ]
  },
  {
   "cell_type": "code",
   "execution_count": null,
   "metadata": {
    "collapsed": true
   },
   "outputs": [],
   "source": []
  }
 ],
 "metadata": {
  "kernelspec": {
   "display_name": "Python 3",
   "language": "python",
   "name": "python3"
  },
  "language_info": {
   "codemirror_mode": {
    "name": "ipython",
    "version": 3
   },
   "file_extension": ".py",
   "mimetype": "text/x-python",
   "name": "python",
   "nbconvert_exporter": "python",
   "pygments_lexer": "ipython3",
   "version": "3.4.3"
  }
 },
 "nbformat": 4,
 "nbformat_minor": 0
}
