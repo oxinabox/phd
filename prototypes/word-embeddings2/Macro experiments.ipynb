{
 "cells": [
  {
   "cell_type": "code",
   "execution_count": 49,
   "metadata": {
    "collapsed": false
   },
   "outputs": [
    {
     "data": {
      "text/plain": [
       ":($(Expr(:comprehension, :(2 * a * [1 2]), :(a = 1:1))))"
      ]
     },
     "execution_count": 49,
     "metadata": {},
     "output_type": "execute_result"
    }
   ],
   "source": [
    "eg = :[2*a*[1 2] for a in 1:1]"
   ]
  },
  {
   "cell_type": "code",
   "execution_count": 44,
   "metadata": {
    "collapsed": false
   },
   "outputs": [
    {
     "data": {
      "text/plain": [
       ":comprehension"
      ]
     },
     "execution_count": 44,
     "metadata": {},
     "output_type": "execute_result"
    }
   ],
   "source": [
    "eg.head"
   ]
  },
  {
   "cell_type": "code",
   "execution_count": null,
   "metadata": {
    "collapsed": false
   },
   "outputs": [],
   "source": []
  },
  {
   "cell_type": "code",
   "execution_count": 45,
   "metadata": {
    "collapsed": false
   },
   "outputs": [
    {
     "data": {
      "text/plain": [
       "2-element Array{Any,1}:\n",
       " :a    \n",
       " :(1:4)"
      ]
     },
     "execution_count": 45,
     "metadata": {},
     "output_type": "execute_result"
    }
   ],
   "source": [
    "eg.args[2].args"
   ]
  },
  {
   "cell_type": "code",
   "execution_count": 108,
   "metadata": {
    "collapsed": false
   },
   "outputs": [],
   "source": [
    "macro reg(comp)\n",
    "    @assert(comp.head==:comprehension)\n",
    "    #@assert(length(comp.args)==2) #Don't want to do things that are already 2D\n",
    "    raw = eval(comp)\n",
    "    \n",
    "    if length(raw)==0\n",
    "        return raw\n",
    "        \n",
    "    elseif length(raw)==1\n",
    "        return raw[1]\n",
    "    else\n",
    "        if (typeof(raw[1])==typeof(raw[2]) <: AbstractArray) && size(raw[1])==size(raw[2])\n",
    "            cat_dim = indmin(size(raw[1]))\n",
    "            return cat(cat_dim, raw...)\n",
    "        end\n",
    "        \n",
    "    end\n",
    "    \n",
    "end"
   ]
  },
  {
   "cell_type": "code",
   "execution_count": 109,
   "metadata": {
    "collapsed": false
   },
   "outputs": [
    {
     "data": {
      "text/plain": [
       "4x2 Array{Int64,2}:\n",
       " 1  2\n",
       " 1  2\n",
       " 1  2\n",
       " 1  2"
      ]
     },
     "execution_count": 109,
     "metadata": {},
     "output_type": "execute_result"
    }
   ],
   "source": [
    "@reg [[1 2] for a in 1:4]"
   ]
  },
  {
   "cell_type": "code",
   "execution_count": 105,
   "metadata": {
    "collapsed": false
   },
   "outputs": [
    {
     "data": {
      "text/plain": [
       "2x4 Array{Int64,2}:\n",
       " 1  1  1  1\n",
       " 2  2  2  2"
      ]
     },
     "execution_count": 105,
     "metadata": {},
     "output_type": "execute_result"
    }
   ],
   "source": [
    "@reg [[1, 2] for a in 1:4]"
   ]
  },
  {
   "cell_type": "code",
   "execution_count": 110,
   "metadata": {
    "collapsed": false
   },
   "outputs": [
    {
     "data": {
      "text/plain": [
       "8-element Array{Int64,1}:\n",
       " 1\n",
       " 2\n",
       " 1\n",
       " 2\n",
       " 1\n",
       " 2\n",
       " 1\n",
       " 2"
      ]
     },
     "execution_count": 110,
     "metadata": {},
     "output_type": "execute_result"
    }
   ],
   "source": [
    "@reg [[1; 2] for a in 1:4]"
   ]
  },
  {
   "cell_type": "code",
   "execution_count": 111,
   "metadata": {
    "collapsed": false
   },
   "outputs": [
    {
     "data": {
      "text/plain": [
       "4x2 Array{Int64,2}:\n",
       " 1  2\n",
       " 1  2\n",
       " 1  2\n",
       " 1  2"
      ]
     },
     "execution_count": 111,
     "metadata": {},
     "output_type": "execute_result"
    }
   ],
   "source": [
    "@reg,[[1 2] for a in 1:4]"
   ]
  },
  {
   "cell_type": "code",
   "execution_count": 118,
   "metadata": {
    "collapsed": false
   },
   "outputs": [
    {
     "name": "stdout",
     "output_type": "stream",
     "text": [
      "Expr \n",
      "  head: Symbol call\n",
      "  args: Array(Any,(3,))\n",
      "    1: Symbol |>\n",
      "    2: Expr \n",
      "      head: Symbol call\n",
      "      args: Array(Any,(3,))\n",
      "        1: Symbol |>\n",
      "        2: Symbol a\n",
      "        3: Symbol b\n",
      "      typ: Any\n",
      "    3: Symbol c\n",
      "  typ: Any\n"
     ]
    }
   ],
   "source": [
    "dump(:(a|>b|>c))"
   ]
  },
  {
   "cell_type": "code",
   "execution_count": 59,
   "metadata": {
    "collapsed": false
   },
   "outputs": [
    {
     "data": {
      "text/plain": [
       "4.9025560053446275"
      ]
     },
     "execution_count": 59,
     "metadata": {},
     "output_type": "execute_result"
    }
   ],
   "source": [
    "data = [2.255, 3.755, 6.888, 7.999, 9.001]\n",
    "log(2,sum(round(data,2)))\n"
   ]
  },
  {
   "cell_type": "code",
   "execution_count": 277,
   "metadata": {
    "collapsed": false
   },
   "outputs": [
    {
     "data": {
      "text/plain": [
       "4.9025560053446275"
      ]
     },
     "execution_count": 277,
     "metadata": {},
     "output_type": "execute_result"
    }
   ],
   "source": [
    "@pipe data|>round(_,2)|>sum|>log(2,_)"
   ]
  },
  {
   "cell_type": "code",
   "execution_count": 60,
   "metadata": {
    "collapsed": false
   },
   "outputs": [
    {
     "data": {
      "text/plain": [
       "4.9025560053446275"
      ]
     },
     "execution_count": 60,
     "metadata": {},
     "output_type": "execute_result"
    }
   ],
   "source": [
    "data |>   x -> round(x,2) |> sum |> x -> log(2,x)"
   ]
  },
  {
   "cell_type": "code",
   "execution_count": 221,
   "metadata": {
    "collapsed": false
   },
   "outputs": [],
   "source": [
    "#No change to nonpipes functionality \n",
    "@assert macroexpand( :(@pipe a) ) == :a #doesn't change single inputs\n",
    "@assert macroexpand( :(@pipe b(a)) ) == :(b(a)) #doesn't change inputs that a function applications\n",
    "\n",
    "#Compatable with Julia 1.3 piping functionality\n",
    "@assert macroexpand( :(@pipe a|>b) ) == :(b(a)) #basic\n",
    "@assert macroexpand( :(@pipe a|>b|>c) ) == :(c(b(a)))  #Keeps chaining 3\n",
    "@assert macroexpand( :(@pipe a|>b|>c|>d) ) == :(d(c(b(a)))) #Keeps chaining 4\n",
    "\n",
    "@assert macroexpand( :(@pipe a|>b(x)) ) == :((b(x))(a))  #applying to function calls returning functions\n",
    "@assert macroexpand( :(@pipe a(x)|>b ) ) == :(b(a(x)))   #feeding functioncall results on wards\n",
    "\n",
    "@assert macroexpand(:(@pipe 1|>a)) ==:(a(1)) #Works with literals (int)\n",
    "@assert macroexpand(:(@pipe \"foo\"|>a)) == :(a(\"foo\")) #Works with literal (string)\n",
    "@assert macroexpand( :(@pipe a|>bb[2])) == :((bb[2])(a)) #Should work with RHS that is a array reference\n",
    "\n",
    "\n",
    "#Marked locations\n",
    "@assert macroexpand( :(@pipe a|>b(_) ) ) == :(b(a)) #Marked location only\n",
    "@assert macroexpand( :(@pipe a|>b(x,_) ) ) == :(b(x,a)) # marked 2nd (and last)\n",
    "@assert macroexpand( :(@pipe a|>b(_,x) ) ) == :(b(a,x)) # marked first\n",
    "@assert macroexpand( :(@pipe a|>b(_,_) ) ) == :(b(a,a)) # marked double (Not certain if this is a good idea)\n",
    "@assert macroexpand( :(@pipe a|>bb[2](x,_))) == :((bb[2])(x,a)) #Should work with RHS that is a array reference\n",
    "\n",
    "\n",
    "#Applying things to the mark\n",
    "@assert macroexpand( :(@pipe a|>bb(_[1]))) == :(bb(a[1])) #Should work with indexing off of the subsitition\n",
    "@assert macroexpand( :(@pipe a|>bb[2:3](_[1]))) == :((bb[2:3])(a[1])) #Should work with indexing off of the subsitition off of a complex experession\n",
    "@assert macroexpand( :(@pipe a|>bb(_(1,2)))) == :(bb(a(1,2))) #Should work with calling off of the subsitition\n",
    "@assert macroexpand( :(@pipe a|>b(_...) ) ) == :(b(a...)) # Unpacking\n",
    "@assert macroexpand( :(@pipe a|>bb[2](_...))) == :((bb[2])(a...)) #Should work with RHS of arry ref and do unpacking\n",
    "\n",
    "#Mixing modes\n",
    "@assert macroexpand( :(@pipe a|>b|>c(_) ) ) == :(c(b(a)))\n",
    "@assert macroexpand( :(@pipe a|>b(x,_)|>c|>d(_,y) ) ) == :(d(c(b(x,a)),y))\n",
    "@assert macroexpand( :(@pipe a|>b(xb,_)|>c|>d(_,xd)|>e(xe) |>f(xf,_,yf) ) ) == :(f(xf,(e(xe))(d(c(b(xb,a)),xd)),yf)) #Very Complex"
   ]
  },
  {
   "cell_type": "code",
   "execution_count": 195,
   "metadata": {
    "collapsed": false
   },
   "outputs": [],
   "source": [
    "#Reflow piped things replacing the _ in the next section\n",
    "\n",
    "function rewrite(ff::Expr,target)\n",
    "    function replace(arg::Any)\n",
    "        arg #Normally do nothing\n",
    "    end\n",
    "    function replace(arg::Symbol)\n",
    "        if arg==:_\n",
    "            target\n",
    "        else\n",
    "            arg\n",
    "        end\n",
    "    end\n",
    "    function replace(arg::Expr)\n",
    "        rep = copy(arg)\n",
    "        rep.args = map(replace,rep.args)\n",
    "        rep\n",
    "    end\n",
    "       \n",
    "    if (ff.head==:call)\n",
    "        rep_args = map(replace,ff.args)\n",
    "        if ff.args != rep_args\n",
    "            #_ subsitution\n",
    "            ff.args=rep_args\n",
    "            return ff\n",
    "        end\n",
    "    end\n",
    "    #No subsitution was done (either cos not a call, or cost no _ found)\n",
    "    #Apply to a function that is being returned by ff, (ff could be a function call or something more complex)\n",
    "    rewrite_apply(ff,target)\n",
    "end\n",
    "        \n",
    "\n",
    "function rewrite_apply(ff::Union(Symbol,Expr),target)\n",
    "    #function application\n",
    "    :($ff($target))\n",
    "end\n",
    "\n",
    "function rewrite(ff::Symbol,target) \n",
    "    rewrite_apply(ff,target)\n",
    "end\n",
    "\n",
    "function funnel(ee::Any) #Could be a Symbol could be a literal\n",
    "    #first (left most) input\n",
    "    ee\n",
    "end\n",
    "\n",
    "function funnel(ee::Expr)\n",
    "    if (ee.args[1]==:|>)\n",
    "        ff = ee.args[3]\n",
    "        target = funnel(ee.args[2]) #Recurse\n",
    "        \n",
    "        rewrite(ff,target)\n",
    "    else\n",
    "        #Not in a piping situtation\n",
    "        ee #make no change\n",
    "    end\n",
    "end\n",
    "\n",
    "macro pipe(ee)\n",
    "    funnel(ee)    \n",
    "end"
   ]
  },
  {
   "cell_type": "code",
   "execution_count": 196,
   "metadata": {
    "collapsed": false
   },
   "outputs": [
    {
     "data": {
      "text/plain": [
       ":((bb[2])(x,a))"
      ]
     },
     "execution_count": 196,
     "metadata": {},
     "output_type": "execute_result"
    }
   ],
   "source": [
    "macroexpand(:(@pipe a |> (bb[2])(x,_)))"
   ]
  },
  {
   "cell_type": "code",
   "execution_count": 220,
   "metadata": {
    "collapsed": false
   },
   "outputs": [
    {
     "data": {
      "text/plain": [
       "true"
      ]
     },
     "execution_count": 220,
     "metadata": {},
     "output_type": "execute_result"
    }
   ],
   "source": [
    "macroexpand( :(@pipe a|>bb(_(1,2)))) == :(bb(a(1,2))) #Should work with calling off of the subsitition\n"
   ]
  },
  {
   "cell_type": "code",
   "execution_count": 249,
   "metadata": {
    "collapsed": false
   },
   "outputs": [
    {
     "name": "stdout",
     "output_type": "stream",
     "text": [
      "slitting on ration 4:1\n",
      "slitting on ration 4:1\n",
      "slitting on ration 4:1\n"
     ]
    },
    {
     "data": {
      "text/plain": [
       "400.0"
      ]
     },
     "execution_count": 249,
     "metadata": {},
     "output_type": "execute_result"
    }
   ],
   "source": [
    "function ratio(value, lr, rr)\n",
    "    println(\"slitting on ration $lr:$rr\")\n",
    "    value*lr/(lr+rr), value*rr/(lr+rr)\n",
    "end\n",
    "\n",
    "function percent(left, right)\n",
    "    left/right*100\n",
    "end\n",
    "\n",
    "@pipe 10 |> ratio(_,4,1) |> percent(_[1],_[2]) # = 400.0, outputs slitting on ration 4:1 Twice\n",
    "@pipe 10 |> ratio(_,4,1) |> percent(_...) # = 400.0, outputs slitting on ration 4:1 Once\n",
    "\n",
    "\n"
   ]
  },
  {
   "cell_type": "code",
   "execution_count": 234,
   "metadata": {
    "collapsed": false
   },
   "outputs": [
    {
     "data": {
      "text/plain": [
       "0.9999999999999999"
      ]
     },
     "execution_count": 234,
     "metadata": {},
     "output_type": "execute_result"
    }
   ],
   "source": [
    "tan(pi/4)"
   ]
  },
  {
   "cell_type": "code",
   "execution_count": 116,
   "metadata": {
    "collapsed": false
   },
   "outputs": [
    {
     "data": {
      "text/plain": [
       "2-element Array{Any,1}:\n",
       "  :bb\n",
       " 2   "
      ]
     },
     "execution_count": 116,
     "metadata": {},
     "output_type": "execute_result"
    }
   ],
   "source": [
    "(a|>bb[2] ).args[3].ar"
   ]
  },
  {
   "cell_type": "code",
   "execution_count": 117,
   "metadata": {
    "collapsed": false
   },
   "outputs": [
    {
     "name": "stdout",
     "output_type": "stream",
     "text": [
      "Expr \n",
      "  head: Symbol call\n",
      "  args: Array(Any,(3,))\n",
      "    1: Symbol |>\n",
      "    2: Symbol a\n",
      "    3: Expr \n",
      "      head: Symbol ref\n",
      "      args: Array(Any,(2,))\n",
      "        1: Symbol bb\n",
      "        2: Int64 2\n",
      "      typ: Any\n",
      "  typ: Any\n"
     ]
    }
   ],
   "source": [
    "dump(:(a|>bb[2]))"
   ]
  },
  {
   "cell_type": "code",
   "execution_count": 82,
   "metadata": {
    "collapsed": false
   },
   "outputs": [
    {
     "name": "stdout",
     "output_type": "stream",
     "text": [
      "Array(Any,(2,))\n",
      "  1: Symbol b\n",
      "  2: Expr \n",
      "    head: Symbol call\n",
      "    args: Array(Any,(2,))\n",
      "      1: Expr \n",
      "        head: Symbol ref\n",
      "        args: Array(Any,(2,))\n",
      "          1: Symbol _\n",
      "          2: Int64 1\n",
      "        typ: Any\n",
      "      2: Symbol x\n",
      "    typ: Any\n"
     ]
    }
   ],
   "source": [
    "dump(:(b(_[1](x))).args)"
   ]
  },
  {
   "cell_type": "code",
   "execution_count": 85,
   "metadata": {
    "collapsed": false
   },
   "outputs": [
    {
     "ename": "LoadError",
     "evalue": "type: subtype: expected Type{T<:Top}, got Array{Any,1}\nwhile loading In[85], in expression starting on line 1",
     "output_type": "error",
     "traceback": [
      "type: subtype: expected Type{T<:Top}, got Array{Any,1}\nwhile loading In[85], in expression starting on line 1",
      ""
     ]
    }
   ],
   "source": [
    ":(a(s)).args <:Vector{Any}\n"
   ]
  },
  {
   "cell_type": "code",
   "execution_count": null,
   "metadata": {
    "collapsed": true
   },
   "outputs": [],
   "source": []
  }
 ],
 "metadata": {
  "kernelspec": {
   "display_name": "Julia 0.3.7-pre debug",
   "language": "julia",
   "name": "julia 0.3 debug"
  },
  "language_info": {
   "name": "julia",
   "version": "0.3.7"
  }
 },
 "nbformat": 4,
 "nbformat_minor": 0
}
