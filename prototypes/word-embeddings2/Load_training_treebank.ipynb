{
 "cells": [
  {
   "cell_type": "code",
   "execution_count": 1,
   "metadata": {
    "collapsed": false
   },
   "outputs": [],
   "source": [
    "using Pipe\n",
    "using Iterators\n",
    "using HDF5, JLD"
   ]
  },
  {
   "cell_type": "code",
   "execution_count": 2,
   "metadata": {
    "collapsed": false
   },
   "outputs": [],
   "source": [
    "using PyCall\n",
    "import PyCall.@pysym\n",
    "@pyimport warnings\n",
    "warnings.filterwarnings(\"ignore\")"
   ]
  },
  {
   "cell_type": "code",
   "execution_count": 3,
   "metadata": {
    "collapsed": false
   },
   "outputs": [],
   "source": [
    "unshift!(PyVector(pyimport(\"sys\")[\"path\"]), \"\");"
   ]
  },
  {
   "cell_type": "code",
   "execution_count": 4,
   "metadata": {
    "collapsed": true
   },
   "outputs": [],
   "source": [
    "@pyimport nltk.corpus as nltk_corpus"
   ]
  },
  {
   "cell_type": "code",
   "execution_count": 5,
   "metadata": {
    "collapsed": false
   },
   "outputs": [
    {
     "data": {
      "text/plain": [
       "done (generic function with 75 methods)"
      ]
     },
     "execution_count": 5,
     "metadata": {},
     "output_type": "execute_result"
    }
   ],
   "source": [
    "#state = inner_inst, next\n",
    "immutable PyObjectIter\n",
    "    inner::PyObject \n",
    "\n",
    "    function PyObjectIter(obj::PyObject)\n",
    "        inner = pycall(obj[\"__iter__\"],PyObject)\n",
    "        new(inner)\n",
    "    end\n",
    "end\n",
    "function next_or_nothing(pyiter::PyObject)\n",
    "    try\n",
    "        pycall(pyiter[\"next\"],PyObject)\n",
    "    catch PyError\n",
    "        nothing\n",
    "    end\n",
    "end\n",
    "\n",
    "function Base.start(iter::PyObjectIter)\n",
    "    inner_inst = deepcopy(iter.inner)\n",
    "    next = next_or_nothing(inner_inst)\n",
    "    inner_inst, next\n",
    "end\n",
    "\n",
    "function Base.next(pyiter::PyObjectIter, state::(PyObject,Union(Nothing,PyObject)))\n",
    "    inner_inst, next = state\n",
    "    new_next = next_or_nothing(inner_inst)\n",
    "    next, (inner_inst,new_next)\n",
    "end\n",
    "\n",
    "function Base.done(pyiter::PyObjectIter, state::(PyObject,Union(Nothing,PyObject)))\n",
    "    inner_inst, next = state\n",
    "    next==nothing\n",
    "end"
   ]
  },
  {
   "cell_type": "code",
   "execution_count": 18,
   "metadata": {
    "collapsed": false
   },
   "outputs": [
    {
     "data": {
      "text/plain": [
       "cnf! (generic function with 1 method)"
      ]
     },
     "execution_count": 18,
     "metadata": {},
     "output_type": "execute_result"
    }
   ],
   "source": [
    "function cnf!(x::PyObject)\n",
    "    x[:collapse_unary]()\n",
    "    x[:chomsky_normal_form]()\n",
    "    \n",
    "    x\n",
    "end"
   ]
  },
  {
   "cell_type": "code",
   "execution_count": 32,
   "metadata": {
    "collapsed": false
   },
   "outputs": [
    {
     "data": {
      "text/plain": [
       "tupup (generic function with 3 methods)"
      ]
     },
     "execution_count": 32,
     "metadata": {},
     "output_type": "execute_result"
    }
   ],
   "source": [
    "\n",
    "function tupup(x::Any)\n",
    "    x\n",
    "end\n",
    "\n",
    "function tupup(tree::PyObject)\n",
    "    if pyisinstance(tree, @pysym :PyList_Type)\n",
    "        if tree[:__len__]()==0\n",
    "            nothing\n",
    "        elseif tree[:__len__]()==1\n",
    "            tupup(pyeval(\"tree[0]\",PyObject; tree=tree))\n",
    "        else\n",
    "            @assert tree[:__len__]()==2\n",
    "            left = tupup(pyeval(\"tree[0]\",PyObject; tree=tree);)\n",
    "            right = tupup(pyeval(\"tree[1]\",PyObject; tree=tree);)\n",
    "            if left!=nothing &&  right!=nothing\n",
    "                (tupup(left), tupup(right))\n",
    "            elseif left==nothing\n",
    "                tupup(right)\n",
    "            elseif right==nothing\n",
    "                tupup(left)\n",
    "            end\n",
    "            \n",
    "            \n",
    "        end\n",
    "    else\n",
    "        convert(String,tree)\n",
    "    end\n",
    "end\n",
    "    \n",
    "function tupup(x::Nothing)\n",
    "    error(\"Can't Make tuple of nothing\")\n",
    "end"
   ]
  },
  {
   "cell_type": "code",
   "execution_count": 33,
   "metadata": {
    "collapsed": false
   },
   "outputs": [
    {
     "data": {
      "text/plain": [
       "loadtrees (generic function with 1 method)"
      ]
     },
     "execution_count": 33,
     "metadata": {},
     "output_type": "execute_result"
    }
   ],
   "source": [
    "function loadtrees(reader::PyObject)\n",
    "    @pipe (\n",
    "    pycall(reader[\"parsed_sents\"], PyObject) \n",
    "    |> PyObjectIter\n",
    "    |> imap(cnf!,_)\n",
    "    |> imap(tupup,_) \n",
    "    |> filter(x->x!==nothing,_) \n",
    "    |> collect)\n",
    "end"
   ]
  },
  {
   "cell_type": "code",
   "execution_count": 12,
   "metadata": {
    "collapsed": false
   },
   "outputs": [],
   "source": [
    "open(\"training_sents.jsz\",\"w\") do fs\n",
    "    serialize(fs, loadtrees(nltk_corpus.treebank))\n",
    "end"
   ]
  },
  {
   "cell_type": "code",
   "execution_count": 36,
   "metadata": {
    "collapsed": false,
    "scrolled": true
   },
   "outputs": [
    {
     "name": "stderr",
     "output_type": "stream",
     "text": [
      "Bad tree detected; trying to recover...\n",
      "  Recovered by returning a flat parse.\n"
     ]
    },
    {
     "ename": "LoadError",
     "evalue": "PyError (:PyObject_Call) <type 'exceptions.AttributeError'>\nAttributeError(\"'tuple' object has no attribute 'label'\",)\n  File \"/usr/local/lib/python2.7/dist-packages/nltk/tree.py\", line 454, in chomsky_normal_form\n    chomsky_normal_form(self, factor, horzMarkov, vertMarkov, childChar, parentChar)\n  File \"/usr/local/lib/python2.7/dist-packages/nltk/treetransforms.py\", line 146, in chomsky_normal_form\n    childNodes = [child.label() for child in node]\n\nwhile loading In[36], in expression starting on line 5",
     "output_type": "error",
     "traceback": [
      "PyError (:PyObject_Call) <type 'exceptions.AttributeError'>\nAttributeError(\"'tuple' object has no attribute 'label'\",)\n  File \"/usr/local/lib/python2.7/dist-packages/nltk/tree.py\", line 454, in chomsky_normal_form\n    chomsky_normal_form(self, factor, horzMarkov, vertMarkov, childChar, parentChar)\n  File \"/usr/local/lib/python2.7/dist-packages/nltk/treetransforms.py\", line 146, in chomsky_normal_form\n    childNodes = [child.label() for child in node]\n\nwhile loading In[36], in expression starting on line 5",
      "",
      " in pyerr_check at /home/wheel/oxinabox/.julia/v0.3/PyCall/src/exception.jl:58",
      " in pycall at /home/wheel/oxinabox/.julia/v0.3/PyCall/src/PyCall.jl:91",
      " in fn at /home/wheel/oxinabox/.julia/v0.3/PyCall/src/conversions.jl:188",
      " in cnf! at In[18]:3",
      " in next at /home/wheel/oxinabox/.julia/v0.3/Iterators/src/Iterators.jl:546",
      " in map at abstractarray.jl:1356",
      " in advance_filter at iterator.jl:90",
      " in collect at array.jl:233",
      " in loadtrees at In[33]:2",
      " in anonymous at In[36]:6",
      " in open at iostream.jl:137"
     ]
    }
   ],
   "source": [
    "@pyimport glob\n",
    "opinosis_filenames = glob.glob(\"../Corpus/corpora/Opinosis/processed/topics/*.parsed.txt\");\n",
    "opinosis_reader = nltk_corpus.BracketParseCorpusReader(\".\", opinosis_filenames)\n",
    "\n",
    "open(\"opinosis_sents.jsz\",\"w\") do fs\n",
    "    serialize(fs, loadtrees(opinosis_reader))\n",
    "end"
   ]
  },
  {
   "cell_type": "code",
   "execution_count": 35,
   "metadata": {
    "collapsed": false
   },
   "outputs": [],
   "source": [
    "questionbank_reader = nltk_corpus.BracketParseCorpusReader(\".\", [\"../Corpus/corpora/QuestionBank/4000qs.txt\"])\n",
    "\n",
    "open(\"questionbank_sents.jsz\",\"w\") do fs\n",
    "    serialize(fs, loadtrees(questionbank_reader))\n",
    "end"
   ]
  },
  {
   "cell_type": "code",
   "execution_count": null,
   "metadata": {
    "collapsed": true
   },
   "outputs": [],
   "source": []
  }
 ],
 "metadata": {
  "kernelspec": {
   "display_name": "Julia 0.4.0-dev",
   "language": "julia",
   "name": "julia-0.4"
  },
  "language_info": {
   "name": "julia",
   "version": "0.3.9"
  }
 },
 "nbformat": 4,
 "nbformat_minor": 0
}
