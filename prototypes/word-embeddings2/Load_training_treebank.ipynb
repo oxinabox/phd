{
 "cells": [
  {
   "cell_type": "code",
   "execution_count": 1,
   "metadata": {
    "collapsed": false
   },
   "outputs": [],
   "source": [
    "using Pipe\n",
    "using Iterators\n",
    "using HDF5, JLD"
   ]
  },
  {
   "cell_type": "code",
   "execution_count": 2,
   "metadata": {
    "collapsed": false
   },
   "outputs": [],
   "source": [
    "using PyCall\n",
    "@pyimport warnings\n",
    "warnings.filterwarnings(\"ignore\")"
   ]
  },
  {
   "cell_type": "code",
   "execution_count": 3,
   "metadata": {
    "collapsed": false
   },
   "outputs": [],
   "source": [
    "unshift!(PyVector(pyimport(\"sys\")[\"path\"]), \"\");\n",
    "@pyimport nltk_tree_corp_load"
   ]
  },
  {
   "cell_type": "code",
   "execution_count": 4,
   "metadata": {
    "collapsed": true
   },
   "outputs": [],
   "source": [
    "@pyimport nltk.corpus as nltk_corpus\n"
   ]
  },
  {
   "cell_type": "code",
   "execution_count": null,
   "metadata": {
    "collapsed": true
   },
   "outputs": [],
   "source": []
  },
  {
   "cell_type": "code",
   "execution_count": 5,
   "metadata": {
    "collapsed": false
   },
   "outputs": [
    {
     "data": {
      "text/plain": [
       "tupup (generic function with 2 methods)"
      ]
     },
     "execution_count": 5,
     "metadata": {},
     "output_type": "execute_result"
    }
   ],
   "source": [
    "function tupup(x::String)\n",
    "    x\n",
    "end\n",
    "\n",
    "function tupup(xs::Array)\n",
    "    if length(xs)==1\n",
    "        tupup(xs[1])\n",
    "    else\n",
    "        sd = findfirst([size(xs)...], 2)\n",
    "        \n",
    "        left = slicedim(xs,sd,1)\n",
    "        right = slicedim(xs,sd,2)\n",
    "        (tupup(left), tupup(right))\n",
    "    end\n",
    "end"
   ]
  },
  {
   "cell_type": "code",
   "execution_count": 6,
   "metadata": {
    "collapsed": false
   },
   "outputs": [
    {
     "data": {
      "text/plain": [
       "loadtrees (generic function with 1 method)"
      ]
     },
     "execution_count": 6,
     "metadata": {},
     "output_type": "execute_result"
    }
   ],
   "source": [
    "function loadtrees(reader::PyObject)\n",
    "    @pipe (\n",
    "    nltk_tree_corp_load.load_treebank_cnf_sents(reader)\n",
    "    |> imap(tupup,_) \n",
    "    |> filter(x->typeof(x)!==UTF8String,_) \n",
    "    |> collect)\n",
    "end"
   ]
  },
  {
   "cell_type": "code",
   "execution_count": 8,
   "metadata": {
    "collapsed": false
   },
   "outputs": [],
   "source": [
    "open(\"training_sents.jsz\",\"w\") do fs\n",
    "    serialize(fs, loadtrees(nltk_corpus.treebank))\n",
    "end"
   ]
  },
  {
   "cell_type": "code",
   "execution_count": 9,
   "metadata": {
    "collapsed": false,
    "scrolled": true
   },
   "outputs": [
    {
     "name": "stderr",
     "output_type": "stream",
     "text": [
      "Bad tree detected; trying to recover...\n",
      "  Recovered by returning a flat parse.\n",
      "Bad tree detected; trying to recover...\n",
      "  Recovered by returning a flat parse.\n",
      "Bad tree detected; trying to recover...\n",
      "  Recovered by returning a flat parse.\n",
      "Bad tree detected; trying to recover...\n",
      "  Recovered by returning a flat parse.\n",
      "Bad tree detected; trying to recover...\n",
      "  Recovered by returning a flat parse.\n",
      "Bad tree detected; trying to recover...\n",
      "  Recovered by returning a flat parse.\n",
      "Bad tree detected; trying to recover...\n",
      "  Recovered by returning a flat parse.\n",
      "Bad tree detected; trying to recover...\n",
      "  Recovered by returning a flat parse.\n",
      "Bad tree detected; trying to recover...\n",
      "  Recovered by returning a flat parse.\n",
      "Bad tree detected; trying to recover...\n",
      "  Recovered by returning a flat parse.\n",
      "Bad tree detected; trying to recover...\n",
      "  Recovered by returning a flat parse.\n",
      "Bad tree detected; trying to recover...\n",
      "  Recovered by returning a flat parse.\n",
      "Bad tree detected; trying to recover...\n",
      "  Recovered by returning a flat parse.\n",
      "Bad tree detected; trying to recover...\n",
      "  Recovered by returning a flat parse.\n",
      "Bad tree detected; trying to recover...\n",
      "  Recovered by returning a flat parse.\n",
      "Bad tree detected; trying to recover...\n",
      "  Recovered by returning a flat parse.\n",
      "Bad tree detected; trying to recover...\n",
      "  Recovered by returning a flat parse.\n",
      "Bad tree detected; trying to recover...\n",
      "  Recovered by returning a flat parse.\n",
      "Bad tree detected; trying to recover...\n",
      "  Recovered by returning a flat parse.\n",
      "Bad tree detected; trying to recover...\n",
      "  Recovered by returning a flat parse.\n",
      "Bad tree detected; trying to recover...\n",
      "  Recovered by returning a flat parse.\n",
      "Bad tree detected; trying to recover...\n",
      "  Recovered by returning a flat parse.\n",
      "Bad tree detected; trying to recover...\n",
      "  Recovered by returning a flat parse.\n",
      "Bad tree detected; trying to recover...\n",
      "  Recovered by returning a flat parse.\n",
      "Bad tree detected; trying to recover...\n",
      "  Recovered by returning a flat parse.\n",
      "Bad tree detected; trying to recover...\n",
      "  Recovered by returning a flat parse.\n",
      "Bad tree detected; trying to recover...\n",
      "  Recovered by returning a flat parse.\n",
      "Bad tree detected; trying to recover...\n",
      "  Recovered by returning a flat parse.\n",
      "Bad tree detected; trying to recover...\n",
      "  Recovered by returning a flat parse.\n",
      "Bad tree detected; trying to recover...\n",
      "  Recovered by returning a flat parse.\n",
      "Bad tree detected; trying to recover...\n",
      "  Recovered by returning a flat parse.\n",
      "Bad tree detected; trying to recover...\n",
      "  Recovered by returning a flat parse.\n",
      "Bad tree detected; trying to recover...\n",
      "  Recovered by returning a flat parse.\n",
      "Bad tree detected; trying to recover...\n",
      "  Recovered by returning a flat parse.\n",
      "Bad tree detected; trying to recover...\n",
      "  Recovered by returning a flat parse.\n",
      "Bad tree detected; trying to recover...\n",
      "  Recovered by returning a flat parse.\n",
      "Bad tree detected; trying to recover...\n",
      "  Recovered by returning a flat parse.\n",
      "Bad tree detected; trying to recover...\n",
      "  Recovered by returning a flat parse.\n",
      "Bad tree detected; trying to recover...\n",
      "  Recovered by returning a flat parse.\n",
      "Bad tree detected; trying to recover...\n",
      "  Recovered by returning a flat parse.\n",
      "Bad tree detected; trying to recover...\n",
      "  Recovered by returning a flat parse.\n",
      "Bad tree detected; trying to recover...\n",
      "  Recovered by returning a flat parse.\n",
      "Bad tree detected; trying to recover...\n",
      "  Recovered by returning a flat parse.\n",
      "Bad tree detected; trying to recover...\n",
      "  Recovered by returning a flat parse.\n",
      "Bad tree detected; trying to recover...\n",
      "  Recovered by returning a flat parse.\n",
      "Bad tree detected; trying to recover...\n",
      "  Recovered by returning a flat parse.\n",
      "Bad tree detected; trying to recover...\n",
      "  Recovered by returning a flat parse.\n",
      "Bad tree detected; trying to recover...\n",
      "  Recovered by returning a flat parse.\n",
      "Bad tree detected; trying to recover...\n",
      "  Recovered by returning a flat parse.\n",
      "Bad tree detected; trying to recover...\n",
      "  Recovered by returning a flat parse.\n",
      "Bad tree detected; trying to recover...\n",
      "  Recovered by returning a flat parse.\n",
      "Bad tree detected; trying to recover...\n",
      "  Recovered by returning a flat parse.\n",
      "Bad tree detected; trying to recover...\n",
      "  Recovered by returning a flat parse.\n",
      "Bad tree detected; trying to recover...\n",
      "  Recovered by returning a flat parse.\n",
      "Bad tree detected; trying to recover...\n",
      "  Recovered by returning a flat parse.\n",
      "Bad tree detected; trying to recover...\n",
      "  Recovered by returning a flat parse.\n",
      "Bad tree detected; trying to recover...\n",
      "  Recovered by returning a flat parse.\n",
      "Bad tree detected; trying to recover...\n",
      "  Recovered by returning a flat parse.\n",
      "Bad tree detected; trying to recover...\n",
      "  Recovered by returning a flat parse.\n",
      "Bad tree detected; trying to recover...\n",
      "  Recovered by returning a flat parse.\n",
      "Bad tree detected; trying to recover...\n",
      "  Recovered by returning a flat parse.\n",
      "Bad tree detected; trying to recover...\n",
      "  Recovered by returning a flat parse.\n",
      "Bad tree detected; trying to recover...\n",
      "  Recovered by returning a flat parse.\n",
      "Bad tree detected; trying to recover...\n",
      "  Recovered by returning a flat parse.\n",
      "Bad tree detected; trying to recover...\n",
      "  Recovered by returning a flat parse.\n",
      "Bad tree detected; trying to recover...\n",
      "  Recovered by returning a flat parse.\n",
      "Bad tree detected; trying to recover...\n",
      "  Recovered by returning a flat parse.\n",
      "Bad tree detected; trying to recover...\n",
      "  Recovered by returning a flat parse.\n",
      "Bad tree detected; trying to recover...\n",
      "  Recovered by returning a flat parse.\n",
      "Bad tree detected; trying to recover...\n",
      "  Recovered by returning a flat parse.\n",
      "Bad tree detected; trying to recover...\n",
      "  Recovered by returning a flat parse.\n",
      "Bad tree detected; trying to recover...\n",
      "  Recovered by returning a flat parse.\n",
      "Bad tree detected; trying to recover...\n",
      "  Recovered by returning a flat parse.\n",
      "Bad tree detected; trying to recover...\n",
      "  Recovered by returning a flat parse.\n",
      "Bad tree detected; trying to recover...\n",
      "  Recovered by returning a flat parse.\n",
      "Bad tree detected; trying to recover...\n",
      "  Recovered by returning a flat parse.\n",
      "Bad tree detected; trying to recover...\n",
      "  Recovered by returning a flat parse.\n",
      "Bad tree detected; trying to recover...\n",
      "  Recovered by returning a flat parse.\n",
      "Bad tree detected; trying to recover...\n",
      "  Recovered by returning a flat parse.\n",
      "Bad tree detected; trying to recover...\n",
      "  Recovered by returning a flat parse.\n",
      "Bad tree detected; trying to recover...\n",
      "  Recovered by returning a flat parse.\n",
      "Bad tree detected; trying to recover...\n",
      "  Recovered by returning a flat parse.\n",
      "Bad tree detected; trying to recover...\n",
      "  Recovered by returning a flat parse.\n",
      "Bad tree detected; trying to recover...\n",
      "  Recovered by returning a flat parse.\n",
      "Bad tree detected; trying to recover...\n",
      "  Recovered by returning a flat parse.\n",
      "Bad tree detected; trying to recover...\n",
      "  Recovered by returning a flat parse.\n",
      "Bad tree detected; trying to recover...\n",
      "  Recovered by returning a flat parse.\n",
      "Bad tree detected; trying to recover...\n",
      "  Recovered by returning a flat parse.\n",
      "Bad tree detected; trying to recover...\n",
      "  Recovered by returning a flat parse.\n",
      "Bad tree detected; trying to recover...\n",
      "  Recovered by returning a flat parse.\n",
      "Bad tree detected; trying to recover...\n",
      "  Recovered by returning a flat parse.\n",
      "Bad tree detected; trying to recover...\n",
      "  Recovered by returning a flat parse.\n",
      "Bad tree detected; trying to recover...\n",
      "  Recovered by returning a flat parse.\n",
      "Bad tree detected; trying to recover...\n",
      "  Recovered by returning a flat parse.\n",
      "Bad tree detected; trying to recover...\n",
      "  Recovered by returning a flat parse.\n",
      "Bad tree detected; trying to recover...\n",
      "  Recovered by returning a flat parse.\n",
      "Bad tree detected; trying to recover...\n",
      "  Recovered by returning a flat parse.\n",
      "Bad tree detected; trying to recover...\n",
      "  Recovered by returning a flat parse.\n",
      "Bad tree detected; trying to recover...\n",
      "  Recovered by returning a flat parse.\n",
      "Bad tree detected; trying to recover...\n",
      "  Recovered by returning a flat parse.\n",
      "Bad tree detected; trying to recover...\n",
      "  Recovered by returning a flat parse.\n",
      "Bad tree detected; trying to recover...\n",
      "  Recovered by returning a flat parse.\n",
      "Bad tree detected; trying to recover...\n",
      "  Recovered by returning a flat parse.\n",
      "Bad tree detected; trying to recover...\n",
      "  Recovered by returning a flat parse.\n",
      "Bad tree detected; trying to recover...\n",
      "  Recovered by returning a flat parse.\n",
      "Bad tree detected; trying to recover...\n",
      "  Recovered by returning a flat parse.\n",
      "Bad tree detected; trying to recover...\n",
      "  Recovered by returning a flat parse.\n",
      "Bad tree detected; trying to recover...\n",
      "  Recovered by returning a flat parse.\n"
     ]
    }
   ],
   "source": [
    "@pyimport glob\n",
    "opinosis_filenames = glob.glob(\"../Corpus/corpora/Opinosis/processed/topics/*.parsed.txt\");\n",
    "opinosis_reader = nltk_corpus.BracketParseCorpusReader(\".\", opinosis_filenames)\n",
    "\n",
    "open(\"opinosis_sents.jsz\",\"w\") do fs\n",
    "    serialize(fs, loadtrees(opinosis_reader))\n",
    "end"
   ]
  },
  {
   "cell_type": "code",
   "execution_count": null,
   "metadata": {
    "collapsed": true
   },
   "outputs": [],
   "source": []
  }
 ],
 "metadata": {
  "kernelspec": {
   "display_name": "Julia 0.4.0-dev",
   "language": "julia",
   "name": "julia-0.4"
  },
  "language_info": {
   "name": "julia",
   "version": "0.3.9"
  }
 },
 "nbformat": 4,
 "nbformat_minor": 0
}
