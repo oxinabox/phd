{
 "cells": [
  {
   "cell_type": "code",
   "execution_count": 1,
   "metadata": {
    "collapsed": true
   },
   "outputs": [],
   "source": [
    "using DataArrays, DataFrames\n",
    "using RDatasets\n"
   ]
  },
  {
   "cell_type": "code",
   "execution_count": null,
   "metadata": {
    "collapsed": true
   },
   "outputs": [],
   "source": [
    "dataset(\"Ecdat\", \"HI\") |> |> pz\n",
    "dataset(\"Ecdat\", \"VietNamI\")  |> pz"
   ]
  },
  {
   "cell_type": "code",
   "execution_count": 2,
   "metadata": {
    "collapsed": false,
    "scrolled": true
   },
   "outputs": [
    {
     "data": {
      "text/html": [
       "<table class=\"data-frame\"><tr><th></th><th>WFood</th><th>WFuel</th><th>WCloth</th><th>WAlc</th><th>WTrans</th><th>WOther</th><th>TotExp</th><th>Income</th><th>Age</th><th>Children</th></tr><tr><th>1</th><td>0.4272</td><td>0.1342</td><td>0.0</td><td>0.0106</td><td>0.1458</td><td>0.2822</td><td>50</td><td>130</td><td>25</td><td>2</td></tr><tr><th>2</th><td>0.3739</td><td>0.1686</td><td>0.0091</td><td>0.0825</td><td>0.1215</td><td>0.2444</td><td>90</td><td>150</td><td>39</td><td>2</td></tr><tr><th>3</th><td>0.1941</td><td>0.4056</td><td>0.0012</td><td>0.0513</td><td>0.2063</td><td>0.1415</td><td>180</td><td>230</td><td>47</td><td>2</td></tr><tr><th>4</th><td>0.4438</td><td>0.1258</td><td>0.0539</td><td>0.0397</td><td>0.0652</td><td>0.2716</td><td>80</td><td>100</td><td>33</td><td>2</td></tr><tr><th>5</th><td>0.3331</td><td>0.0824</td><td>0.0399</td><td>0.1571</td><td>0.2403</td><td>0.1473</td><td>90</td><td>100</td><td>31</td><td>1</td></tr><tr><th>6</th><td>0.3752</td><td>0.0481</td><td>0.117</td><td>0.021</td><td>0.0955</td><td>0.3431</td><td>70</td><td>70</td><td>24</td><td>1</td></tr><tr><th>7</th><td>0.2568</td><td>0.0909</td><td>0.0453</td><td>0.0153</td><td>0.0227</td><td>0.5689</td><td>140</td><td>190</td><td>46</td><td>1</td></tr><tr><th>8</th><td>0.4533</td><td>0.2105</td><td>0.1131</td><td>0.0161</td><td>0.0</td><td>0.207</td><td>50</td><td>100</td><td>25</td><td>1</td></tr><tr><th>9</th><td>0.3279</td><td>0.1053</td><td>0.1671</td><td>0.0293</td><td>0.0433</td><td>0.3272</td><td>100</td><td>260</td><td>30</td><td>1</td></tr><tr><th>10</th><td>0.4608</td><td>0.0612</td><td>0.023</td><td>0.0338</td><td>0.1901</td><td>0.231</td><td>90</td><td>110</td><td>41</td><td>1</td></tr><tr><th>11</th><td>0.3447</td><td>0.0392</td><td>0.2547</td><td>0.0</td><td>0.0672</td><td>0.2942</td><td>100</td><td>100</td><td>48</td><td>2</td></tr><tr><th>12</th><td>0.4491</td><td>0.0541</td><td>0.1617</td><td>0.1133</td><td>0.0397</td><td>0.1821</td><td>100</td><td>100</td><td>24</td><td>1</td></tr><tr><th>13</th><td>0.4439</td><td>0.1023</td><td>0.0018</td><td>0.057</td><td>0.119</td><td>0.2759</td><td>80</td><td>100</td><td>28</td><td>2</td></tr><tr><th>14</th><td>0.209</td><td>0.2156</td><td>0.0728</td><td>0.0</td><td>0.2824</td><td>0.2202</td><td>40</td><td>120</td><td>31</td><td>2</td></tr><tr><th>15</th><td>0.2706</td><td>0.0441</td><td>0.201</td><td>0.0986</td><td>0.1037</td><td>0.2821</td><td>70</td><td>70</td><td>32</td><td>1</td></tr><tr><th>16</th><td>0.5536</td><td>0.1011</td><td>0.0501</td><td>0.0011</td><td>0.1981</td><td>0.0961</td><td>70</td><td>130</td><td>47</td><td>2</td></tr><tr><th>17</th><td>0.5195</td><td>0.081</td><td>0.0722</td><td>0.1354</td><td>0.0799</td><td>0.1119</td><td>50</td><td>90</td><td>32</td><td>2</td></tr><tr><th>18</th><td>0.2396</td><td>0.0383</td><td>0.0727</td><td>0.1182</td><td>0.1889</td><td>0.3423</td><td>150</td><td>140</td><td>38</td><td>2</td></tr><tr><th>19</th><td>0.2846</td><td>0.0405</td><td>0.1511</td><td>0.0</td><td>0.1235</td><td>0.4003</td><td>120</td><td>140</td><td>45</td><td>1</td></tr><tr><th>20</th><td>0.3472</td><td>0.0684</td><td>0.0454</td><td>0.0248</td><td>0.2555</td><td>0.2587</td><td>50</td><td>130</td><td>28</td><td>1</td></tr><tr><th>21</th><td>0.4715</td><td>0.0478</td><td>0.0931</td><td>0.0991</td><td>0.0608</td><td>0.2276</td><td>80</td><td>90</td><td>29</td><td>1</td></tr><tr><th>22</th><td>0.3284</td><td>0.0842</td><td>0.0246</td><td>0.0548</td><td>0.281</td><td>0.227</td><td>70</td><td>100</td><td>34</td><td>1</td></tr><tr><th>23</th><td>0.4574</td><td>0.1023</td><td>0.0506</td><td>0.0753</td><td>0.1062</td><td>0.2082</td><td>140</td><td>260</td><td>43</td><td>2</td></tr><tr><th>24</th><td>0.3102</td><td>0.0748</td><td>0.1451</td><td>0.0494</td><td>0.1319</td><td>0.2886</td><td>100</td><td>250</td><td>33</td><td>1</td></tr><tr><th>25</th><td>0.3429</td><td>0.1121</td><td>0.0054</td><td>0.1143</td><td>0.1074</td><td>0.3179</td><td>60</td><td>150</td><td>47</td><td>2</td></tr><tr><th>26</th><td>0.1851</td><td>0.2185</td><td>0.018</td><td>0.0087</td><td>0.1496</td><td>0.42</td><td>80</td><td>200</td><td>53</td><td>2</td></tr><tr><th>27</th><td>0.4079</td><td>0.1361</td><td>0.2388</td><td>0.041</td><td>0.0224</td><td>0.1539</td><td>50</td><td>130</td><td>29</td><td>2</td></tr><tr><th>28</th><td>0.5911</td><td>0.2189</td><td>0.0392</td><td>0.009</td><td>0.0068</td><td>0.1351</td><td>70</td><td>170</td><td>40</td><td>2</td></tr><tr><th>29</th><td>0.4152</td><td>0.095</td><td>0.0788</td><td>0.0237</td><td>0.1268</td><td>0.2604</td><td>60</td><td>120</td><td>33</td><td>2</td></tr><tr><th>30</th><td>0.3459</td><td>0.0739</td><td>0.3875</td><td>0.0029</td><td>0.0886</td><td>0.1011</td><td>90</td><td>110</td><td>57</td><td>1</td></tr><tr><th>&vellip;</th><td>&vellip;</td><td>&vellip;</td><td>&vellip;</td><td>&vellip;</td><td>&vellip;</td><td>&vellip;</td><td>&vellip;</td><td>&vellip;</td><td>&vellip;</td><td>&vellip;</td></tr></table>"
      ],
      "text/plain": [
       "1519x10 DataFrame\n",
       "| Row  | WFood  | WFuel  | WCloth | WAlc   | WTrans | WOther | TotExp | Income |\n",
       "|------|--------|--------|--------|--------|--------|--------|--------|--------|\n",
       "| 1    | 0.4272 | 0.1342 | 0.0    | 0.0106 | 0.1458 | 0.2822 | 50     | 130    |\n",
       "| 2    | 0.3739 | 0.1686 | 0.0091 | 0.0825 | 0.1215 | 0.2444 | 90     | 150    |\n",
       "| 3    | 0.1941 | 0.4056 | 0.0012 | 0.0513 | 0.2063 | 0.1415 | 180    | 230    |\n",
       "| 4    | 0.4438 | 0.1258 | 0.0539 | 0.0397 | 0.0652 | 0.2716 | 80     | 100    |\n",
       "| 5    | 0.3331 | 0.0824 | 0.0399 | 0.1571 | 0.2403 | 0.1473 | 90     | 100    |\n",
       "| 6    | 0.3752 | 0.0481 | 0.117  | 0.021  | 0.0955 | 0.3431 | 70     | 70     |\n",
       "| 7    | 0.2568 | 0.0909 | 0.0453 | 0.0153 | 0.0227 | 0.5689 | 140    | 190    |\n",
       "| 8    | 0.4533 | 0.2105 | 0.1131 | 0.0161 | 0.0    | 0.207  | 50     | 100    |\n",
       "| 9    | 0.3279 | 0.1053 | 0.1671 | 0.0293 | 0.0433 | 0.3272 | 100    | 260    |\n",
       "| 10   | 0.4608 | 0.0612 | 0.023  | 0.0338 | 0.1901 | 0.231  | 90     | 110    |\n",
       "| 11   | 0.3447 | 0.0392 | 0.2547 | 0.0    | 0.0672 | 0.2942 | 100    | 100    |\n",
       "⋮\n",
       "| 1508 | 0.0571 | 0.0454 | 0.0315 | 0.003  | 0.6805 | 0.1824 | 270    | 150    |\n",
       "| 1509 | 0.4226 | 0.1154 | 0.0089 | 0.1305 | 0.0617 | 0.2609 | 50     | 110    |\n",
       "| 1510 | 0.4048 | 0.1617 | 0.0402 | 0.0272 | 0.0821 | 0.284  | 60     | 90     |\n",
       "| 1511 | 0.2544 | 0.0473 | 0.174  | 0.2425 | 0.0963 | 0.1856 | 100    | 130    |\n",
       "| 1512 | 0.5297 | 0.0554 | 0.0899 | 0.2362 | 0.0335 | 0.0553 | 60     | 90     |\n",
       "| 1513 | 0.2849 | 0.146  | 0.2391 | 0.1108 | 0.0788 | 0.1404 | 190    | 70     |\n",
       "| 1514 | 0.6218 | 0.1584 | 0.0    | 0.0    | 0.0    | 0.2197 | 40     | 50     |\n",
       "| 1515 | 0.4106 | 0.0402 | 0.0054 | 0.07   | 0.2256 | 0.2483 | 90     | 120    |\n",
       "| 1516 | 0.2787 | 0.1066 | 0.0176 | 0.0    | 0.2196 | 0.3775 | 70     | 90     |\n",
       "| 1517 | 0.3298 | 0.0759 | 0.2566 | 0.0292 | 0.1309 | 0.1777 | 100    | 260    |\n",
       "| 1518 | 0.6061 | 0.0459 | 0.0787 | 0.0679 | 0.0259 | 0.1755 | 130    | 160    |\n",
       "| 1519 | 0.1885 | 0.0328 | 0.1279 | 0.2162 | 0.1575 | 0.2771 | 140    | 140    |\n",
       "\n",
       "| Row  | Age | Children |\n",
       "|------|-----|----------|\n",
       "| 1    | 25  | 2        |\n",
       "| 2    | 39  | 2        |\n",
       "| 3    | 47  | 2        |\n",
       "| 4    | 33  | 2        |\n",
       "| 5    | 31  | 1        |\n",
       "| 6    | 24  | 1        |\n",
       "| 7    | 46  | 1        |\n",
       "| 8    | 25  | 1        |\n",
       "| 9    | 30  | 1        |\n",
       "| 10   | 41  | 1        |\n",
       "| 11   | 48  | 2        |\n",
       "⋮\n",
       "| 1508 | 34  | 1        |\n",
       "| 1509 | 31  | 1        |\n",
       "| 1510 | 37  | 2        |\n",
       "| 1511 | 24  | 1        |\n",
       "| 1512 | 21  | 1        |\n",
       "| 1513 | 34  | 2        |\n",
       "| 1514 | 47  | 1        |\n",
       "| 1515 | 29  | 2        |\n",
       "| 1516 | 34  | 2        |\n",
       "| 1517 | 38  | 2        |\n",
       "| 1518 | 44  | 2        |\n",
       "| 1519 | 27  | 1        |"
      ]
     },
     "execution_count": 2,
     "metadata": {},
     "output_type": "execute_result"
    }
   ],
   "source": [
    "Bwage = dataset(\"Ecdat\", \"BudgetUK\")"
   ]
  },
  {
   "cell_type": "code",
   "execution_count": 3,
   "metadata": {
    "collapsed": false,
    "scrolled": true
   },
   "outputs": [
    {
     "data": {
      "text/plain": [
       "153x4 Array{Float64,2}:\n",
       "  70.0  110.0  35.0  2.0\n",
       " 110.0  160.0  32.0  1.0\n",
       "  90.0  150.0  37.0  2.0\n",
       "  90.0  260.0  33.0  1.0\n",
       "  50.0  120.0  37.0  1.0\n",
       "  70.0  140.0  36.0  1.0\n",
       "  40.0  100.0  37.0  1.0\n",
       "  90.0  100.0  31.0  1.0\n",
       "  50.0   80.0  27.0  1.0\n",
       " 150.0  110.0  51.0  1.0\n",
       "  60.0   90.0  31.0  2.0\n",
       " 110.0  180.0  37.0  2.0\n",
       " 130.0  420.0  35.0  1.0\n",
       "   ⋮                    \n",
       " 270.0  150.0  34.0  1.0\n",
       "  50.0  110.0  31.0  1.0\n",
       "  60.0   90.0  37.0  2.0\n",
       " 100.0  130.0  24.0  1.0\n",
       "  60.0   90.0  21.0  1.0\n",
       " 190.0   70.0  34.0  2.0\n",
       "  40.0   50.0  47.0  1.0\n",
       "  90.0  120.0  29.0  2.0\n",
       "  70.0   90.0  34.0  2.0\n",
       " 100.0  260.0  38.0  2.0\n",
       " 130.0  160.0  44.0  2.0\n",
       " 140.0  140.0  27.0  1.0"
      ]
     },
     "execution_count": 3,
     "metadata": {},
     "output_type": "execute_result"
    }
   ],
   "source": [
    "data = Bwage[:,1:6] |> array  |> float\n",
    "lbls  = Bwage[:,7:end] |> array  |> float\n",
    "\n",
    "n_train = 0.8*size(data,1) |> int\n",
    "n_dev  = 0.1*size(data,1) |> int\n",
    "n_test = 0.1*size(data,1) |> int\n",
    "\n",
    "data_train = data[1:n_train, :]\n",
    "data_dev = data[n_train : n_train+n_dev, :]\n",
    "data_test = data[n_train+n_dev : end, :]\n",
    "\n",
    "lbls_train = lbls[1:n_train, :]\n",
    "lbls_dev = lbls[n_train : n_train+n_dev, :]\n",
    "lbls_test = lbls[n_train+n_dev : end, :]"
   ]
  },
  {
   "cell_type": "code",
   "execution_count": 4,
   "metadata": {
    "collapsed": false
   },
   "outputs": [
    {
     "data": {
      "text/plain": [
       "pz (generic function with 1 method)"
      ]
     },
     "execution_count": 4,
     "metadata": {},
     "output_type": "execute_result"
    }
   ],
   "source": [
    "macro pz(x)\n",
    "    x_val = eval(x)\n",
    "    :( println($(string(x)),\"  \",  $x_val|> typeof, \"   \", $x_val |> size) )\n",
    "end\n",
    "\n",
    "function pz(x)\n",
    "    println(x|> typeof, \"   \", x |> size)\n",
    "end"
   ]
  },
  {
   "cell_type": "code",
   "execution_count": 5,
   "metadata": {
    "collapsed": false
   },
   "outputs": [
    {
     "data": {
      "text/plain": [
       "NN (constructor with 3 methods)"
      ]
     },
     "execution_count": 5,
     "metadata": {},
     "output_type": "execute_result"
    }
   ],
   "source": [
    "type NN\n",
    "    W1::Matrix{Float64}\n",
    "    W2::Matrix{Float64}\n",
    "        \n",
    "end\n",
    "\n",
    "function NN(input_size, hidden_size, output_size)\n",
    "    W1 = 0.01randn(input_size+1,hidden_size)\n",
    "    W2 = 0.01randn(hidden_size+1,output_size)\n",
    "    NN(W)\n",
    "end\n"
   ]
  },
  {
   "cell_type": "code",
   "execution_count": 6,
   "metadata": {
    "collapsed": false
   },
   "outputs": [
    {
     "data": {
      "text/plain": [
       "feedforward (generic function with 1 method)"
      ]
     },
     "execution_count": 6,
     "metadata": {},
     "output_type": "execute_result"
    }
   ],
   "source": [
    "function feedforward(nn::NN, xs::Matrix{Float64})\n",
    "    xs = [xs ones(size(xs,1))] #add Bias\n",
    "    tanh(xs*nn.W)\n",
    "end"
   ]
  },
  {
   "cell_type": "code",
   "execution_count": 13,
   "metadata": {
    "collapsed": false
   },
   "outputs": [
    {
     "data": {
      "text/plain": [
       "backprop! (generic function with 2 methods)"
      ]
     },
     "execution_count": 13,
     "metadata": {},
     "output_type": "execute_result"
    }
   ],
   "source": [
    "function backprop!(nn::NN, xs::Matrix{Float64}, ys::Matrix{Float64}, α=0.1)\n",
    "    ŷs = feedforward(nn,xs)\n",
    "        \n",
    "    ∂e_ŷs = ys - ŷs\n",
    "    ∂ŷ_zs = 1-ŷs.^2\n",
    "    ∂z_Ws = nn.W\n",
    "    \n",
    "    δW = 1/size(xs,1) .* (∂z_Ws*∂ŷ_zs'*∂e_ŷs)\n",
    "\n",
    "    nn.W -= α*δW\n",
    "    error_rate(ys,ŷs)\n",
    "end"
   ]
  },
  {
   "cell_type": "code",
   "execution_count": 14,
   "metadata": {
    "collapsed": false
   },
   "outputs": [
    {
     "data": {
      "text/plain": [
       "test (generic function with 1 method)"
      ]
     },
     "execution_count": 14,
     "metadata": {},
     "output_type": "execute_result"
    }
   ],
   "source": [
    "function error_rate(ys::Matrix{Float64}, ŷs::Matrix{Float64})\n",
    "    es = sum(1/2 * (ŷs-ys).^2,2)\n",
    "    mean(es)\n",
    "end\n",
    "\n",
    "function test(nn::NN, xs::Matrix{Float64}, ys::Matrix{Float64})\n",
    "    ŷs = feedforward(nn,xs)\n",
    "    error_rate(ys,ŷs)\n",
    "end"
   ]
  },
  {
   "cell_type": "code",
   "execution_count": 29,
   "metadata": {
    "collapsed": false
   },
   "outputs": [
    {
     "data": {
      "text/plain": [
       "early_stopping! (generic function with 3 methods)"
      ]
     },
     "execution_count": 29,
     "metadata": {},
     "output_type": "execute_result"
    }
   ],
   "source": [
    "function early_stopping!(nn::NN, \n",
    "                        xs::Matrix{Float64}, ys::Matrix{Float64},\n",
    "                        xs_dev::Matrix{Float64}, ys_dev::Matrix{Float64},\n",
    "                        max_epochs=5, max_patience=Inf)\n",
    "    er_dev_best = Inf\n",
    "    nn_best = nn\n",
    "    patience=max_patience\n",
    "    for epoch_number in 1: max_epochs\n",
    "        er_train = backprop!(nn,xs,ys,0.001)\n",
    "        er_dev = test(nn, xs_dev, ys_dev)\n",
    "        \n",
    "        if er_dev>er_dev_best\n",
    "            patience-=1\n",
    "        else\n",
    "            print(\"!\")\n",
    "            patience=max_patience\n",
    "            nn_best = deepcopy(nn)\n",
    "            er_dev_best=er_dev\n",
    "        end\n",
    "        \n",
    "        println(\"Err Train: $er_train, Err Dev: $er_dev\")\n",
    "        if patience<=0\n",
    "            break\n",
    "        end\n",
    "    end\n",
    "    \n",
    "    nn.W = nn_best.W #Overwrite with best value\n",
    "    \n",
    "    \n",
    "end"
   ]
  },
  {
   "cell_type": "code",
   "execution_count": 30,
   "metadata": {
    "collapsed": false
   },
   "outputs": [
    {
     "name": "stdout",
     "output_type": "stream",
     "text": [
      "!Err Train: 17375.347976012523, Err Dev: 18151.314761578447\n",
      "!Err Train: 17374.708388819916, Err Dev: 18150.83110975748\n",
      "!Err Train: 17374.241428370977, Err Dev: 18150.477982779343\n",
      "!Err Train: 17373.900490136097, Err Dev: 18150.220146357904\n",
      "!Err Train: 17373.651554439908, Err Dev: 18150.031880623064\n",
      "!Err Train: 17373.469788405084, Err Dev: 18149.894410100613\n",
      "!Err Train: 17373.33706426678, Err Dev: 18149.794027878932\n",
      "!Err Train: 17373.24014808454, Err Dev: 18149.720726713327\n",
      "!Err Train: 17373.16937798882, Err Dev: 18149.667200056516\n",
      "!Err Train: 17373.117699636405, Err Dev: 18149.62811298191\n",
      "!Err Train: 17373.079962270378, Err Dev: 18149.59957002468\n",
      "!Err Train: 17373.052404915525, Err Dev: 18149.57872671497\n",
      "!Err Train: 17373.032281313666, Err Dev: 18149.5635059793\n",
      "!Err Train: 17373.017586111386, Err Dev: 18149.55239108607\n",
      "!Err Train: 17373.006854951644, Err Dev: 18149.544274467476\n",
      "!Err Train: 17372.999018514063, Err Dev: 18149.538347334194\n",
      "!Err Train: 17372.993295940243, Err Dev: 18149.534019073137\n",
      "!Err Train: 17372.98911701421, Err Dev: 18149.53085839113\n",
      "!Err Train: 17372.986065338246, Err Dev: 18149.528550336752\n",
      "!Err Train: 17372.983836838695, Err Dev: 18149.526864916545\n",
      "!Err Train: 17372.982209465838, Err Dev: 18149.52563417736\n",
      "!Err Train: 17372.9810210676, Err Dev: 18149.52473547091\n",
      "!Err Train: 17372.980153232133, Err Dev: 18149.524079232877\n",
      "!Err Train: 17372.979519488843, Err Dev: 18149.523600058565\n",
      "!Err Train: 17372.979056692297, Err Dev: 18149.52325018588\n",
      "!Err Train: 17372.978718730326, Err Dev: 18149.522994736373\n",
      "!Err Train: 17372.978471929327, Err Dev: 18149.52280823986\n",
      "!Err Train: 17372.978291699037, Err Dev: 18149.52267209664\n",
      "!Err Train: 17372.978160082297, Err Dev: 18149.52257272416\n",
      "!Err Train: 17372.978063965813, Err Dev: 18149.522500203708\n",
      "!Err Train: 17372.977993773562, Err Dev: 18149.52244729209\n",
      "!Err Train: 17372.977942512585, Err Dev: 18149.522408699926\n",
      "!Err Train: 17372.97790507627, Err Dev: 18149.522380564624\n",
      "!Err Train: 17372.977877735473, Err Dev: 18149.522360065497\n",
      "!Err Train: 17372.977857766968, Err Dev: 18149.522345142726\n",
      "!Err Train: 17372.977843182114, Err Dev: 18149.522334292116\n",
      "!Err Train: 17372.977832528704, Err Dev: 18149.52232641523\n",
      "!Err Train: 17372.97782474624, Err Dev: 18149.52232070991\n",
      "!Err Train: 17372.977819060303, Err Dev: 18149.522316590406\n",
      "!Err Train: 17372.977814905353, Err Dev: 18149.522313628935\n",
      "!Err Train: 17372.97781186843, Err Dev: 18149.522311513138\n",
      "!Err Train: 17372.977809647946, Err Dev: 18149.522310014887\n",
      "!Err Train: 17372.977808023665, Err Dev: 18149.522308967607\n",
      "!Err Train: 17372.977806834766, Err Dev: 18149.52230824966\n",
      "!Err Train: 17372.977805963805, Err Dev: 18149.52230777219\n",
      "!Err Train: 17372.977805325027, Err Dev: 18149.522307470343\n",
      "!Err Train: 17372.97780485579, Err Dev: 18149.522307296746\n",
      "!Err Train: 17372.97780451037, Err Dev: 18149.522307216805\n",
      "!Err Train: 17372.977804255373, Err Dev: 18149.522307205243\n",
      "Err Train: 17372.977804066395, Err Dev: 18149.522307243635\n",
      "Err Train: 17372.97780392563, Err Dev: 18149.522307318497\n",
      "Err Train: 17372.97780382008, Err Dev: 18149.522307419986\n",
      "Err Train: 17372.977803740243, Err Dev: 18149.522307540923\n",
      "Err Train: 17372.977803679183, Err Dev: 18149.522307676067\n",
      "Err Train: 17372.97780363183, Err Dev: 18149.52230782159\n",
      "Err Train: 17372.97780359449, Err Dev: 18149.52230797468\n",
      "Err Train: 17372.97780356446, Err Dev: 18149.5223081333\n",
      "Err Train: 17372.97780353977, Err Dev: 18149.522308295956\n",
      "Err Train: 17372.97780351898, Err Dev: 18149.522308461565\n"
     ]
    },
    {
     "data": {
      "text/plain": [
       "7x4 Array{Float64,2}:\n",
       " -0.016545     0.0136809    0.0077312   -0.00486162 \n",
       "  0.012586    -0.00356036  -0.00837488  -0.000651003\n",
       " -0.00608366  -0.0162889    0.0104126    0.0119497  \n",
       "  0.00290802   0.0098639   -0.0153103    0.00254412 \n",
       "  0.0132207   -0.0046631   -0.00936019   0.000801753\n",
       " -0.0109978    0.00525808   0.0047858    0.000955323\n",
       " -0.00723804   0.0204792   -0.00903359  -0.00419717 "
      ]
     },
     "execution_count": 30,
     "metadata": {},
     "output_type": "execute_result"
    }
   ],
   "source": [
    "nn=NN(size(data,2), size(lbls,2))\n",
    "\n",
    "\n",
    "early_stopping!(nn,data_train, lbls_train, data_dev, lbls_dev, 100, 10)"
   ]
  },
  {
   "cell_type": "code",
   "execution_count": 28,
   "metadata": {
    "collapsed": false
   },
   "outputs": [
    {
     "ename": "LoadError",
     "evalue": "lbl_train not defined\nwhile loading In[28], in expression starting on line 1",
     "output_type": "error",
     "traceback": [
      "lbl_train not defined\nwhile loading In[28], in expression starting on line 1",
      ""
     ]
    }
   ],
   "source": [
    "lbl_train |> pz\n",
    "data_train |> pz"
   ]
  },
  {
   "cell_type": "code",
   "execution_count": 354,
   "metadata": {
    "collapsed": false
   },
   "outputs": [
    {
     "name": "stderr",
     "output_type": "stream",
     "text": [
      "INFO: Loading help data...\n"
     ]
    },
    {
     "name": "stdout",
     "output_type": "stream",
     "text": [
      "Base.copy!(dest, src)\n",
      "\n",
      "   Copy all elements from collection \"src\" to array \"dest\".\n",
      "   Returns \"dest\".\n",
      "\n",
      "Base.copy!(dest, do, src, so, N)\n",
      "\n",
      "   Copy \"N\" elements from collection \"src\" starting at offset\n",
      "   \"so\", to array \"dest\" starting at offset \"do\". Returns\n",
      "   \"dest\".\n"
     ]
    }
   ],
   "source": [
    "help(copy!)"
   ]
  },
  {
   "cell_type": "code",
   "execution_count": null,
   "metadata": {
    "collapsed": true
   },
   "outputs": [],
   "source": []
  }
 ],
 "metadata": {
  "kernelspec": {
   "display_name": "Julia 0.4.0-dev",
   "language": "julia",
   "name": "julia 0.4"
  },
  "language_info": {
   "name": "julia",
   "version": "0.3.7"
  }
 },
 "nbformat": 4,
 "nbformat_minor": 0
}
