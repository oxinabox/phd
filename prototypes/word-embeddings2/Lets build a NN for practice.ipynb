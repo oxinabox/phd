{
 "cells": [
  {
   "cell_type": "code",
   "execution_count": 1,
   "metadata": {
    "collapsed": true
   },
   "outputs": [],
   "source": [
    "using DataArrays, DataFrames\n",
    "using RDatasets\n"
   ]
  },
  {
   "cell_type": "code",
   "execution_count": null,
   "metadata": {
    "collapsed": true
   },
   "outputs": [],
   "source": [
    "dataset(\"Ecdat\", \"HI\") |> |> pz\n",
    "dataset(\"Ecdat\", \"VietNamI\")  |> pz"
   ]
  },
  {
   "cell_type": "code",
   "execution_count": 2,
   "metadata": {
    "collapsed": false,
    "scrolled": true
   },
   "outputs": [
    {
     "data": {
      "text/html": [
       "<table class=\"data-frame\"><tr><th></th><th>WFood</th><th>WFuel</th><th>WCloth</th><th>WAlc</th><th>WTrans</th><th>WOther</th><th>TotExp</th><th>Income</th><th>Age</th><th>Children</th></tr><tr><th>1</th><td>0.4272</td><td>0.1342</td><td>0.0</td><td>0.0106</td><td>0.1458</td><td>0.2822</td><td>50</td><td>130</td><td>25</td><td>2</td></tr><tr><th>2</th><td>0.3739</td><td>0.1686</td><td>0.0091</td><td>0.0825</td><td>0.1215</td><td>0.2444</td><td>90</td><td>150</td><td>39</td><td>2</td></tr><tr><th>3</th><td>0.1941</td><td>0.4056</td><td>0.0012</td><td>0.0513</td><td>0.2063</td><td>0.1415</td><td>180</td><td>230</td><td>47</td><td>2</td></tr><tr><th>4</th><td>0.4438</td><td>0.1258</td><td>0.0539</td><td>0.0397</td><td>0.0652</td><td>0.2716</td><td>80</td><td>100</td><td>33</td><td>2</td></tr><tr><th>5</th><td>0.3331</td><td>0.0824</td><td>0.0399</td><td>0.1571</td><td>0.2403</td><td>0.1473</td><td>90</td><td>100</td><td>31</td><td>1</td></tr><tr><th>6</th><td>0.3752</td><td>0.0481</td><td>0.117</td><td>0.021</td><td>0.0955</td><td>0.3431</td><td>70</td><td>70</td><td>24</td><td>1</td></tr><tr><th>7</th><td>0.2568</td><td>0.0909</td><td>0.0453</td><td>0.0153</td><td>0.0227</td><td>0.5689</td><td>140</td><td>190</td><td>46</td><td>1</td></tr><tr><th>8</th><td>0.4533</td><td>0.2105</td><td>0.1131</td><td>0.0161</td><td>0.0</td><td>0.207</td><td>50</td><td>100</td><td>25</td><td>1</td></tr><tr><th>9</th><td>0.3279</td><td>0.1053</td><td>0.1671</td><td>0.0293</td><td>0.0433</td><td>0.3272</td><td>100</td><td>260</td><td>30</td><td>1</td></tr><tr><th>10</th><td>0.4608</td><td>0.0612</td><td>0.023</td><td>0.0338</td><td>0.1901</td><td>0.231</td><td>90</td><td>110</td><td>41</td><td>1</td></tr><tr><th>11</th><td>0.3447</td><td>0.0392</td><td>0.2547</td><td>0.0</td><td>0.0672</td><td>0.2942</td><td>100</td><td>100</td><td>48</td><td>2</td></tr><tr><th>12</th><td>0.4491</td><td>0.0541</td><td>0.1617</td><td>0.1133</td><td>0.0397</td><td>0.1821</td><td>100</td><td>100</td><td>24</td><td>1</td></tr><tr><th>13</th><td>0.4439</td><td>0.1023</td><td>0.0018</td><td>0.057</td><td>0.119</td><td>0.2759</td><td>80</td><td>100</td><td>28</td><td>2</td></tr><tr><th>14</th><td>0.209</td><td>0.2156</td><td>0.0728</td><td>0.0</td><td>0.2824</td><td>0.2202</td><td>40</td><td>120</td><td>31</td><td>2</td></tr><tr><th>15</th><td>0.2706</td><td>0.0441</td><td>0.201</td><td>0.0986</td><td>0.1037</td><td>0.2821</td><td>70</td><td>70</td><td>32</td><td>1</td></tr><tr><th>16</th><td>0.5536</td><td>0.1011</td><td>0.0501</td><td>0.0011</td><td>0.1981</td><td>0.0961</td><td>70</td><td>130</td><td>47</td><td>2</td></tr><tr><th>17</th><td>0.5195</td><td>0.081</td><td>0.0722</td><td>0.1354</td><td>0.0799</td><td>0.1119</td><td>50</td><td>90</td><td>32</td><td>2</td></tr><tr><th>18</th><td>0.2396</td><td>0.0383</td><td>0.0727</td><td>0.1182</td><td>0.1889</td><td>0.3423</td><td>150</td><td>140</td><td>38</td><td>2</td></tr><tr><th>19</th><td>0.2846</td><td>0.0405</td><td>0.1511</td><td>0.0</td><td>0.1235</td><td>0.4003</td><td>120</td><td>140</td><td>45</td><td>1</td></tr><tr><th>20</th><td>0.3472</td><td>0.0684</td><td>0.0454</td><td>0.0248</td><td>0.2555</td><td>0.2587</td><td>50</td><td>130</td><td>28</td><td>1</td></tr><tr><th>21</th><td>0.4715</td><td>0.0478</td><td>0.0931</td><td>0.0991</td><td>0.0608</td><td>0.2276</td><td>80</td><td>90</td><td>29</td><td>1</td></tr><tr><th>22</th><td>0.3284</td><td>0.0842</td><td>0.0246</td><td>0.0548</td><td>0.281</td><td>0.227</td><td>70</td><td>100</td><td>34</td><td>1</td></tr><tr><th>23</th><td>0.4574</td><td>0.1023</td><td>0.0506</td><td>0.0753</td><td>0.1062</td><td>0.2082</td><td>140</td><td>260</td><td>43</td><td>2</td></tr><tr><th>24</th><td>0.3102</td><td>0.0748</td><td>0.1451</td><td>0.0494</td><td>0.1319</td><td>0.2886</td><td>100</td><td>250</td><td>33</td><td>1</td></tr><tr><th>25</th><td>0.3429</td><td>0.1121</td><td>0.0054</td><td>0.1143</td><td>0.1074</td><td>0.3179</td><td>60</td><td>150</td><td>47</td><td>2</td></tr><tr><th>26</th><td>0.1851</td><td>0.2185</td><td>0.018</td><td>0.0087</td><td>0.1496</td><td>0.42</td><td>80</td><td>200</td><td>53</td><td>2</td></tr><tr><th>27</th><td>0.4079</td><td>0.1361</td><td>0.2388</td><td>0.041</td><td>0.0224</td><td>0.1539</td><td>50</td><td>130</td><td>29</td><td>2</td></tr><tr><th>28</th><td>0.5911</td><td>0.2189</td><td>0.0392</td><td>0.009</td><td>0.0068</td><td>0.1351</td><td>70</td><td>170</td><td>40</td><td>2</td></tr><tr><th>29</th><td>0.4152</td><td>0.095</td><td>0.0788</td><td>0.0237</td><td>0.1268</td><td>0.2604</td><td>60</td><td>120</td><td>33</td><td>2</td></tr><tr><th>30</th><td>0.3459</td><td>0.0739</td><td>0.3875</td><td>0.0029</td><td>0.0886</td><td>0.1011</td><td>90</td><td>110</td><td>57</td><td>1</td></tr><tr><th>&vellip;</th><td>&vellip;</td><td>&vellip;</td><td>&vellip;</td><td>&vellip;</td><td>&vellip;</td><td>&vellip;</td><td>&vellip;</td><td>&vellip;</td><td>&vellip;</td><td>&vellip;</td></tr></table>"
      ],
      "text/plain": [
       "1519x10 DataFrame\n",
       "| Row  | WFood  | WFuel  | WCloth | WAlc   | WTrans | WOther | TotExp | Income |\n",
       "|------|--------|--------|--------|--------|--------|--------|--------|--------|\n",
       "| 1    | 0.4272 | 0.1342 | 0.0    | 0.0106 | 0.1458 | 0.2822 | 50     | 130    |\n",
       "| 2    | 0.3739 | 0.1686 | 0.0091 | 0.0825 | 0.1215 | 0.2444 | 90     | 150    |\n",
       "| 3    | 0.1941 | 0.4056 | 0.0012 | 0.0513 | 0.2063 | 0.1415 | 180    | 230    |\n",
       "| 4    | 0.4438 | 0.1258 | 0.0539 | 0.0397 | 0.0652 | 0.2716 | 80     | 100    |\n",
       "| 5    | 0.3331 | 0.0824 | 0.0399 | 0.1571 | 0.2403 | 0.1473 | 90     | 100    |\n",
       "| 6    | 0.3752 | 0.0481 | 0.117  | 0.021  | 0.0955 | 0.3431 | 70     | 70     |\n",
       "| 7    | 0.2568 | 0.0909 | 0.0453 | 0.0153 | 0.0227 | 0.5689 | 140    | 190    |\n",
       "| 8    | 0.4533 | 0.2105 | 0.1131 | 0.0161 | 0.0    | 0.207  | 50     | 100    |\n",
       "| 9    | 0.3279 | 0.1053 | 0.1671 | 0.0293 | 0.0433 | 0.3272 | 100    | 260    |\n",
       "| 10   | 0.4608 | 0.0612 | 0.023  | 0.0338 | 0.1901 | 0.231  | 90     | 110    |\n",
       "| 11   | 0.3447 | 0.0392 | 0.2547 | 0.0    | 0.0672 | 0.2942 | 100    | 100    |\n",
       "⋮\n",
       "| 1508 | 0.0571 | 0.0454 | 0.0315 | 0.003  | 0.6805 | 0.1824 | 270    | 150    |\n",
       "| 1509 | 0.4226 | 0.1154 | 0.0089 | 0.1305 | 0.0617 | 0.2609 | 50     | 110    |\n",
       "| 1510 | 0.4048 | 0.1617 | 0.0402 | 0.0272 | 0.0821 | 0.284  | 60     | 90     |\n",
       "| 1511 | 0.2544 | 0.0473 | 0.174  | 0.2425 | 0.0963 | 0.1856 | 100    | 130    |\n",
       "| 1512 | 0.5297 | 0.0554 | 0.0899 | 0.2362 | 0.0335 | 0.0553 | 60     | 90     |\n",
       "| 1513 | 0.2849 | 0.146  | 0.2391 | 0.1108 | 0.0788 | 0.1404 | 190    | 70     |\n",
       "| 1514 | 0.6218 | 0.1584 | 0.0    | 0.0    | 0.0    | 0.2197 | 40     | 50     |\n",
       "| 1515 | 0.4106 | 0.0402 | 0.0054 | 0.07   | 0.2256 | 0.2483 | 90     | 120    |\n",
       "| 1516 | 0.2787 | 0.1066 | 0.0176 | 0.0    | 0.2196 | 0.3775 | 70     | 90     |\n",
       "| 1517 | 0.3298 | 0.0759 | 0.2566 | 0.0292 | 0.1309 | 0.1777 | 100    | 260    |\n",
       "| 1518 | 0.6061 | 0.0459 | 0.0787 | 0.0679 | 0.0259 | 0.1755 | 130    | 160    |\n",
       "| 1519 | 0.1885 | 0.0328 | 0.1279 | 0.2162 | 0.1575 | 0.2771 | 140    | 140    |\n",
       "\n",
       "| Row  | Age | Children |\n",
       "|------|-----|----------|\n",
       "| 1    | 25  | 2        |\n",
       "| 2    | 39  | 2        |\n",
       "| 3    | 47  | 2        |\n",
       "| 4    | 33  | 2        |\n",
       "| 5    | 31  | 1        |\n",
       "| 6    | 24  | 1        |\n",
       "| 7    | 46  | 1        |\n",
       "| 8    | 25  | 1        |\n",
       "| 9    | 30  | 1        |\n",
       "| 10   | 41  | 1        |\n",
       "| 11   | 48  | 2        |\n",
       "⋮\n",
       "| 1508 | 34  | 1        |\n",
       "| 1509 | 31  | 1        |\n",
       "| 1510 | 37  | 2        |\n",
       "| 1511 | 24  | 1        |\n",
       "| 1512 | 21  | 1        |\n",
       "| 1513 | 34  | 2        |\n",
       "| 1514 | 47  | 1        |\n",
       "| 1515 | 29  | 2        |\n",
       "| 1516 | 34  | 2        |\n",
       "| 1517 | 38  | 2        |\n",
       "| 1518 | 44  | 2        |\n",
       "| 1519 | 27  | 1        |"
      ]
     },
     "execution_count": 2,
     "metadata": {},
     "output_type": "execute_result"
    }
   ],
   "source": [
    "Bwage = dataset(\"Ecdat\", \"BudgetUK\")"
   ]
  },
  {
   "cell_type": "code",
   "execution_count": 3,
   "metadata": {
    "collapsed": false,
    "scrolled": false
   },
   "outputs": [
    {
     "data": {
      "text/plain": [
       "153x4 Array{Float64,2}:\n",
       "  70.0  110.0  35.0  2.0\n",
       " 110.0  160.0  32.0  1.0\n",
       "  90.0  150.0  37.0  2.0\n",
       "  90.0  260.0  33.0  1.0\n",
       "  50.0  120.0  37.0  1.0\n",
       "  70.0  140.0  36.0  1.0\n",
       "  40.0  100.0  37.0  1.0\n",
       "  90.0  100.0  31.0  1.0\n",
       "  50.0   80.0  27.0  1.0\n",
       " 150.0  110.0  51.0  1.0\n",
       "  60.0   90.0  31.0  2.0\n",
       " 110.0  180.0  37.0  2.0\n",
       " 130.0  420.0  35.0  1.0\n",
       "   ⋮                    \n",
       " 270.0  150.0  34.0  1.0\n",
       "  50.0  110.0  31.0  1.0\n",
       "  60.0   90.0  37.0  2.0\n",
       " 100.0  130.0  24.0  1.0\n",
       "  60.0   90.0  21.0  1.0\n",
       " 190.0   70.0  34.0  2.0\n",
       "  40.0   50.0  47.0  1.0\n",
       "  90.0  120.0  29.0  2.0\n",
       "  70.0   90.0  34.0  2.0\n",
       " 100.0  260.0  38.0  2.0\n",
       " 130.0  160.0  44.0  2.0\n",
       " 140.0  140.0  27.0  1.0"
      ]
     },
     "execution_count": 3,
     "metadata": {},
     "output_type": "execute_result"
    }
   ],
   "source": [
    "data = Bwage[:,1:6] |> array  |> float\n",
    "lbls  = Bwage[:,7:end] |> array  |> float\n",
    "\n",
    "n_train = 0.8*size(data,1) |> int\n",
    "n_dev  = 0.1*size(data,1) |> int\n",
    "n_test = 0.1*size(data,1) |> int\n",
    "\n",
    "data_train = data[1:n_train, :]\n",
    "data_dev = data[n_train : n_train+n_dev, :]\n",
    "data_test = data[n_train+n_dev : end, :]\n",
    "\n",
    "lbls_train = lbls[1:n_train, :]\n",
    "lbls_dev = lbls[n_train : n_train+n_dev, :]\n",
    "lbls_test = lbls[n_train+n_dev : end, :]"
   ]
  },
  {
   "cell_type": "code",
   "execution_count": 4,
   "metadata": {
    "collapsed": false
   },
   "outputs": [
    {
     "data": {
      "text/plain": [
       "pz (generic function with 1 method)"
      ]
     },
     "execution_count": 4,
     "metadata": {},
     "output_type": "execute_result"
    }
   ],
   "source": [
    "macro pz(x)\n",
    "    x_val = eval(x)\n",
    "    :( println($(string(x)),\"  \",  $x_val|> typeof, \"   \", $x_val |> size) )\n",
    "end\n",
    "\n",
    "function pz(x)\n",
    "    println(x|> typeof, \"   \", x |> size)\n",
    "end"
   ]
  },
  {
   "cell_type": "code",
   "execution_count": 19,
   "metadata": {
    "collapsed": false
   },
   "outputs": [
    {
     "data": {
      "text/plain": [
       "NN (constructor with 3 methods)"
      ]
     },
     "execution_count": 19,
     "metadata": {},
     "output_type": "execute_result"
    }
   ],
   "source": [
    "type NN\n",
    "    W1::Matrix{Float64}\n",
    "    W2::Matrix{Float64}\n",
    "        \n",
    "end\n",
    "\n",
    "function NN(input_size, hidden_size, output_size)\n",
    "    W1 = 0.01randn(input_size+1,hidden_size)\n",
    "    W2 = 0.01randn(hidden_size+1,output_size)\n",
    "    NN(W1, W2)\n",
    "end\n"
   ]
  },
  {
   "cell_type": "code",
   "execution_count": 125,
   "metadata": {
    "collapsed": false
   },
   "outputs": [
    {
     "data": {
      "text/plain": [
       "5x4 Array{Float64,2}:\n",
       " 1.0  0.0  0.0  0.0\n",
       " 0.0  1.0  0.0  0.0\n",
       " 0.0  0.0  1.0  0.0\n",
       " 0.0  0.0  0.0  1.0\n",
       " 0.0  0.0  0.0  0.0"
      ]
     },
     "execution_count": 125,
     "metadata": {},
     "output_type": "execute_result"
    }
   ],
   "source": [
    "eye(5)[:,1:end-1]"
   ]
  },
  {
   "cell_type": "code",
   "execution_count": 207,
   "metadata": {
    "collapsed": false
   },
   "outputs": [
    {
     "data": {
      "text/plain": [
       "feedforward (generic function with 1 method)"
      ]
     },
     "execution_count": 207,
     "metadata": {},
     "output_type": "execute_result"
    }
   ],
   "source": [
    "function bias(xs)\n",
    "    [xs ones(size(xs,1))]\n",
    "end\n",
    "\n",
    "function unbias(xs)\n",
    "    xs[:,1:end-1]\n",
    "end\n",
    "\n",
    "function feedforward(nn::NN, xs::Matrix{Float64})\n",
    "    xs = bias(xs) #add Bias\n",
    "    as = tanh(xs*nn.W1)\n",
    "    as = bias(as)\n",
    "    ŷs = as*nn.W2\n",
    "    ŷs, as\n",
    "end"
   ]
  },
  {
   "cell_type": "code",
   "execution_count": 268,
   "metadata": {
    "collapsed": false
   },
   "outputs": [
    {
     "data": {
      "text/plain": [
       "backprop! (generic function with 2 methods)"
      ]
     },
     "execution_count": 268,
     "metadata": {},
     "output_type": "execute_result"
    }
   ],
   "source": [
    "function backprop!(nn::NN, xs::Matrix{Float64}, ys::Matrix{Float64}, α=0.1)\n",
    "    ŷs, as = feedforward(nn,xs)\n",
    "    \n",
    "    ∂e_ŷs = ys - ŷs\n",
    "    \n",
    "    ∂ŷ_W2s = as\n",
    "    ∂ŷ_as = nn.W2\n",
    "    \n",
    "    ∂z_W1s = bias(xs)\n",
    "    \n",
    "    δW2 = 1/size(xs,1) .* (∂ŷ_W2s'*∂e_ŷs)\n",
    "    \n",
    "\n",
    "    ∂e_as =∂e_ŷs * unbias(∂ŷ_as')\n",
    "    ∂a_zs = 1-unbias(as).^2\n",
    "  \n",
    "    δW1 = 1/size(xs,1) .* (∂z_W1s'*(∂a_zs.*∂e_as))\n",
    "    nn.W2 += α*δW2 \n",
    "    nn.W1 += α*δW1\n",
    "    error_rate(ys,ŷs)\n",
    "end"
   ]
  },
  {
   "cell_type": "code",
   "execution_count": 269,
   "metadata": {
    "collapsed": false
   },
   "outputs": [
    {
     "data": {
      "text/plain": [
       "17373.03421086807"
      ]
     },
     "execution_count": 269,
     "metadata": {},
     "output_type": "execute_result"
    }
   ],
   "source": [
    "nn=NN(size(data,2), 10, size(lbls,2))\n",
    "backprop!(nn,data_train, lbls_train)"
   ]
  },
  {
   "cell_type": "code",
   "execution_count": 270,
   "metadata": {
    "collapsed": false
   },
   "outputs": [
    {
     "data": {
      "text/plain": [
       "2-element Array{(Int64,Int64),1}:\n",
       " (11,4)\n",
       " (7,10)"
      ]
     },
     "execution_count": 270,
     "metadata": {},
     "output_type": "execute_result"
    }
   ],
   "source": [
    "[size(nn.W2); size(nn.W1)]"
   ]
  },
  {
   "cell_type": "code",
   "execution_count": 271,
   "metadata": {
    "collapsed": false
   },
   "outputs": [
    {
     "data": {
      "text/plain": [
       "test (generic function with 1 method)"
      ]
     },
     "execution_count": 271,
     "metadata": {},
     "output_type": "execute_result"
    }
   ],
   "source": [
    "function error_rate(ys::Matrix{Float64}, ŷs::Matrix{Float64})\n",
    "    es = sum(1/2 * (ŷs-ys).^2,2)\n",
    "    mean(es)\n",
    "end\n",
    "\n",
    "function test(nn::NN, xs::Matrix{Float64}, ys::Matrix{Float64})\n",
    "    ŷs,_ = feedforward(nn,xs)\n",
    "    error_rate(ys,ŷs)\n",
    "end"
   ]
  },
  {
   "cell_type": "code",
   "execution_count": 297,
   "metadata": {
    "collapsed": false
   },
   "outputs": [
    {
     "data": {
      "text/plain": [
       "early_stopping! (generic function with 3 methods)"
      ]
     },
     "execution_count": 297,
     "metadata": {},
     "output_type": "execute_result"
    }
   ],
   "source": [
    "function early_stopping!(nn::NN, \n",
    "                        xs::Matrix{Float64}, ys::Matrix{Float64},\n",
    "                        xs_dev::Matrix{Float64}, ys_dev::Matrix{Float64},\n",
    "    max_epochs=5, max_patience=Inf)\n",
    "    er_dev_best = Inf\n",
    "    nn_best = nn\n",
    "    patience=max_patience\n",
    "    for epoch_number in 1: max_epochs\n",
    "        er_train = backprop!(nn,xs,ys,0.001)\n",
    "        er_dev = test(nn, xs_dev, ys_dev)\n",
    "        \n",
    "        if er_dev>er_dev_best\n",
    "            patience-=1\n",
    "        else\n",
    "            print(\"!\")\n",
    "            patience=max_patience\n",
    "            nn_best = deepcopy(nn)\n",
    "            er_dev_best=er_dev\n",
    "        end\n",
    "        \n",
    "        println(\"Err Train: $er_train, Err Dev: $er_dev\")\n",
    "        if patience<=0\n",
    "            break\n",
    "        end\n",
    "    end\n",
    "    \n",
    "    nn.W1 = nn_best.W1 #Overwrite with best value\n",
    "    nn.W2 = nn_best.W2 #Overwrite with best value\n",
    "    \n",
    "    \n",
    "end"
   ]
  },
  {
   "cell_type": "code",
   "execution_count": null,
   "metadata": {
    "collapsed": false,
    "scrolled": true
   },
   "outputs": [
    {
     "name": "stdout",
     "output_type": "stream",
     "text": [
      "!Err Train: 17374.0553411008, Err Dev: 18120.226725965127\n",
      "!Err Train: 17344.806675667798, Err Dev: 18089.97000634087\n",
      "!Err Train: 17315.58988965346, Err Dev: 18059.71924412996\n",
      "!Err Train: 17286.380232012518, Err Dev: 18029.443283824334\n",
      "!Err Train: 17257.147718603836, Err Dev: 17999.10163625063\n",
      "!Err Train: 17227.85338814345, Err Dev: 17968.63963052857\n",
      "!Err Train: 17198.444635250395, Err Dev: 17937.982042412164\n",
      "!Err Train: 17168.849077232444, Err Dev: 17907.024502052103\n",
      "!Err Train: 17138.966283633705, Err Dev: 17875.62179674189\n",
      "!Err Train: 17108.656517084277, Err Dev: 17843.571948515928\n",
      "!Err Train: 17077.725407030677, Err Dev: 17810.594685743523\n",
      "!Err Train: 17045.90322676487, Err Dev: 17776.302701138466\n",
      "!Err Train: 17012.81722556517, Err Dev: 17740.164021832203\n",
      "!Err Train: 16977.955402886026, Err Dev: 17701.4541460241\n",
      "!Err Train: 16940.620427245558, Err Dev: 17659.197711150282\n",
      "!Err Train: 16899.873470513714, Err Dev: 17612.10187607215\n",
      "!Err Train: 16854.470055616526, Err Dev: 17558.487818826565\n",
      "!Err Train: 16802.794080644857, Err Dev: 17496.232748556828\n",
      "!Err Train: 16742.801967230127, Err Dev: 17422.741232678363\n",
      "!Err Train: 16671.99507046237, Err Dev: 17334.968090918595\n",
      "!Err Train: 16587.44185081221, Err Dev: 17229.511291857434\n",
      "!Err Train: 16485.86767514721, Err Dev: 17102.78083229788\n",
      "!Err Train: 16363.818120069225, Err Dev: 16951.234137748655\n",
      "!Err Train: 16217.886693179778, Err Dev: 16771.65950053881\n",
      "!Err Train: 16044.989034707341, Err Dev: 16561.487474020618\n",
      "!Err Train: 15842.663973968149, Err Dev: 16319.103599229094\n",
      "!Err Train: 15609.375483297044, Err Dev: 16044.115493223442\n",
      "!Err Train: 15344.77006328331, Err Dev: 15737.507763025302\n",
      "!Err Train: 15049.825372934158, Err Dev: 15401.627882997482\n",
      "!Err Train: 14726.835339356541, Err Dev: 15039.993698442395\n",
      "!Err Train: 14379.222853458698, Err Dev: 14656.971393824902\n",
      "!Err Train: 14011.227309047232, Err Dev: 14257.403235652368\n",
      "!Err Train: 13627.543706864471, Err Dev: 13846.254405475198\n",
      "!Err Train: 13232.980469416107, Err Dev: 13428.317106910135\n",
      "!Err Train: 12832.173070656369, Err Dev: 13007.98434272652\n",
      "!Err Train: 12429.365588416882, Err Dev: 12589.095521442307\n",
      "!Err Train: 12028.262221515779, Err Dev: 12174.854372552842\n",
      "!Err Train: 11631.949016904266, Err Dev: 11767.816199821125\n",
      "!Err Train: 11242.882644058556, Err Dev: 11369.933413475195\n",
      "!Err Train: 10862.93528946621, Err Dev: 10982.639899233593\n",
      "!Err Train: 10493.476775522044, Err Dev: 10606.951291246782\n",
      "!Err Train: 10135.471771880824, Err Dev: 10243.561146714046\n",
      "!Err Train: 9789.572884931877, Err Dev: 9892.920316639806\n",
      "!Err Train: 9456.197478010637, Err Dev: 9555.295119298356\n",
      "!Err Train: 9135.584067365822, Err Dev: 9230.8064768534\n",
      "!Err Train: 8827.830408224512, Err Dev: 8919.45559098331\n",
      "!Err Train: 8532.918630919507, Err Dev: 8621.142104991777\n",
      "!Err Train: 8250.733120433835, Err Dev: 8335.67914697455\n",
      "!Err Train: 7981.0753361688385, Err Dev: 8062.807546310224\n",
      "!Err Train: 7723.677758305176, Err Dev: 7802.209835629582\n",
      "!Err Train: 7478.217546696145, Err Dev: 7553.523737232124\n",
      "!Err Train: 7244.329631820314, Err Dev: 7316.354572787266\n",
      "!Err Train: 7021.618712926052, Err Dev: 7090.286146030415\n",
      "!Err Train: 6809.669745876626, Err Dev: 6874.889882892239\n",
      "!Err Train: 6608.056726836383, Err Dev: 6669.732229290053\n",
      "!Err Train: 6416.349782366152, Err Dev: 6474.3804512298375\n",
      "!Err Train: 6234.120712398837, Err Dev: 6288.407054202731\n",
      "!Err Train: 6060.947199718781, Err Dev: 6111.393058233389\n",
      "!Err Train: 5896.415916436151, Err Dev: 5942.930352565201\n",
      "!Err Train: 5740.124744839097, Err Dev: 5782.623326271265\n",
      "!Err Train: 5591.6843025769285, Err Dev: 5630.089938607625\n",
      "!Err Train: 5450.7189303930845, Err Dev: 5484.962361505664\n",
      "!Err Train: 5316.867270095944, Err Dev: 5346.887298918908\n",
      "!Err Train: 5189.782533642248, Err Dev: 5215.526064637459\n",
      "!Err Train: 5069.132541875748, Err Dev: 5090.554481544972\n",
      "!Err Train: 4954.599593471702, Err Dev: 4971.662650581321\n",
      "!Err Train: 4845.880210451433, Err Dev: 4858.554626226613\n",
      "!Err Train: 4742.6847956011015, Err Dev: 4750.948026495667\n",
      "!Err Train: 4644.737228630419, Err Dev: 4648.573598665053\n",
      "!Err Train: 4551.774421395187, Err Dev: 4551.174756783426\n",
      "!Err Train: 4463.54584753404, Err Dev: 4458.507103069669\n",
      "!Err Train: 4379.813058076626, Err Dev: 4370.3379422934\n",
      "!Err Train: 4300.3491916887615, Err Dev: 4286.445795935311\n",
      "!Err Train: 4224.938486014633, Err Dev: 4206.619921170496\n",
      "!Err Train: 4153.375794892851, Err Dev: 4130.659838376755\n",
      "!Err Train: 4085.466114937163, Err Dev: 4058.3748698434465\n",
      "!Err Train: 4021.024123989495, Err Dev: 3989.5836915705936\n",
      "!Err Train: 3959.8737332007217, Err Dev: 3924.113899445949\n",
      "!Err Train: 3901.8476539192566, Err Dev: 3861.801590626979\n",
      "!Err Train: 3846.7869801277134, Err Dev: 3802.49096060245\n",
      "!Err Train: 3794.540786832238, Err Dev: 3746.0339161397947\n",
      "!Err Train: 3744.9657445538674, Err Dev: 3692.2897041206115\n",
      "!Err Train: 3697.9257498780344, Err Dev: 3641.124556112986\n",
      "!Err Train: 3653.2915718731215, Err Dev: 3592.411348414535\n",
      "!Err Train: 3610.940514081095, Err Dev: 3546.029277215568\n",
      "!Err Train: 3570.756091704261, Err Dev: 3501.863548470791\n",
      "!Err Train: 3532.627723555717, Err Dev: 3459.805082025352\n",
      "!Err Train: 3496.4504383021267, Err Dev: 3419.750229512604\n",
      "!Err Train: 3462.124594502073, Err Dev: 3381.6005055237447\n",
      "!Err Train: 3429.555613928413, Err Dev: 3345.2623315407336\n",
      "!Err Train: 3398.653727656469, Err Dev: 3310.64679212192\n",
      "!Err Train: 3369.3337343994604, Err Dev: 3277.6694028328097\n",
      "!Err Train: 3341.514770577107, Err Dev: 3246.2498894214064\n",
      "!Err Train: 3315.120091611422, Err Dev: 3216.3119777474103\n",
      "!Err Train: 3290.0768639545813, Err Dev: 3187.783193986633\n",
      "!Err Train: 3266.3159673666005, Err Dev: 3160.594674645611\n",
      "!Err Train: 3243.771806974888, Err Dev: 3134.6809859361106\n",
      "!Err Train: 3222.382134663024, Err Dev: 3109.97995207469\n",
      "!Err Train: 3202.087879352044, Err Dev: 3086.4324920883496\n",
      "!Err Train: 3182.8329857538106, Err Dev: 3063.982464723367\n",
      "!Err Train: 3164.564261192401, Err Dev: 3042.5765210705163\n",
      "!Err Train: 3147.231230105963, Err Dev: 3022.1639645358296\n",
      "!Err Train: 3130.785995857492, Err Dev: 3002.696617801771\n",
      "!Err Train: 3115.183109499114, Err Dev: 2984.1286964391297\n",
      "!Err Train: 3100.3794451499066, Err Dev: 2966.4166888449236\n",
      "!Err Train: 3086.334081662527, Err Dev: 2949.5192421962743\n",
      "!Err Train: 3073.0081902686325, Err Dev: 2933.397054124271\n",
      "!Err Train: 3060.3649279073134, Err Dev: 2918.0127698255938\n",
      "!Err Train: 3048.369335954534, Err Dev: 2903.3308843427667\n",
      "!Err Train: 3036.9882440848114, Err Dev: 2889.3176497566515\n",
      "!Err Train: 3026.1901790090847, Err Dev: 2875.9409870469\n",
      "!Err Train: 3015.9452778450004, Err Dev: 2863.170402387824\n",
      "!Err Train: 3006.225205887503, Err Dev: 2850.976907658305\n",
      "!Err Train: 2997.003078558889, Err Dev: 2839.332944955058\n",
      "!Err Train: 2988.253387328204, Err Dev: 2828.2123149088584\n",
      "!Err Train: 2979.951929400147, Err Dev: 2817.5901086130825\n",
      "!Err Train: 2972.075740983404, Err Dev: 2807.442642983279\n",
      "!Err Train: 2964.6030339577655, Err Dev: 2797.747399375396\n",
      "!Err Train: 2957.513135768245, Err Dev: 2788.482965298826\n",
      "!Err Train: 2950.786432382962, Err Dev: 2779.628979068484\n",
      "!Err Train: 2944.4043141596726, Err Dev: 2771.1660772479217\n",
      "!Err Train: 2938.3491244735196, Err Dev: 2763.075844742798\n",
      "!Err Train: 2932.6041109659973, Err Dev: 2755.3407674110554\n",
      "!Err Train: 2927.1533792820574, Err Dev: 2747.9441870628207\n",
      "!Err Train: 2921.981849169025, Err Dev: 2740.870258729378\n",
      "!Err Train: 2917.075212817283, Err Dev: 2734.1039100866583\n",
      "!Err Train: 2912.419895328751, Err Dev: 2727.6308029243455\n",
      "!Err Train: 2908.003017204894, Err Dev: 2721.4372965572647\n",
      "!Err Train: 2903.8123587515006, Err Dev: 2715.5104130808354\n",
      "!Err Train: 2899.836326302601, Err Dev: 2709.8378043773546\n",
      "!Err Train: 2896.063920170882, Err Dev: 2704.407720784553\n",
      "!Err Train: 2892.4847042365905, Err Dev: 2699.208981342351\n",
      "!Err Train: 2889.0887770914205, Err Dev: 2694.2309455379445\n",
      "!Err Train: 2885.866744658078, Err Dev: 2689.46348647343\n",
      "!Err Train: 2882.809694210243, Err Dev: 2684.896965383963\n",
      "!Err Train: 2879.9091697214794, Err Dev: 2680.522207438114\n",
      "!Err Train: 2877.157148475268, Err Dev: 2676.330478755523\n",
      "!Err Train: 2874.5460188717684, Err Dev: 2672.3134645802475\n",
      "!Err Train: 2872.068559370211, Err Dev: 2668.4632485513007\n",
      "!Err Train: 2869.7179185089053, Err Dev: 2664.772293014872\n",
      "!Err Train: 2867.4875959478304, Err Dev: 2661.233420325485\n",
      "!Err Train: 2865.371424481542, Err Dev: 2657.8397950860685\n",
      "!Err Train: 2863.363552972815, Err Dev: 2654.584907279414\n",
      "!Err Train: 2861.458430159963, Err Dev: 2651.4625562459246\n",
      "!Err Train: 2859.650789293167, Err Dev: 2648.466835464844\n",
      "!Err Train: 2857.9356335574257, Err Dev: 2645.592118098298\n",
      "!Err Train: 2856.3082222419057, Err Dev: 2642.833043259604\n",
      "!Err Train: 2854.7640576175195, Err Dev: 2640.184502969182\n",
      "!Err Train: 2853.298872486499, Err Dev: 2637.6416297633214\n",
      "!Err Train: 2851.9086183695927, Err Dev: 2635.199784922802\n",
      "!Err Train: 2850.589454298274, Err Dev: 2632.8545472900228\n",
      "!Err Train: 2849.33773618098, Err Dev: 2630.601702644918\n",
      "!Err Train: 2848.1500067140296, Err Dev: 2628.4372336114125\n",
      "!Err Train: 2847.022985809345, Err Dev: 2626.357310067633\n",
      "!Err Train: 2845.953561512502, Err Dev: 2624.3582800344275\n",
      "!Err Train: 2844.938781386043, Err Dev: 2622.436661018055\n",
      "!Err Train: 2843.9758443342157, Err Dev: 2620.5891317841165\n",
      "!Err Train: 2843.0620928465387, Err Dev: 2618.8125245409656\n",
      "!Err Train: 2842.195005638774, Err Dev: 2617.1038175119656\n",
      "!Err Train: 2841.3721906709197, Err Dev: 2615.460127876952\n",
      "!Err Train: 2840.5913785229664, Err Dev: 2613.8787050643286\n",
      "!Err Train: 2839.8504161100395, Err Dev: 2612.3569243760976\n",
      "!Err Train: 2839.147260719615, Err Dev: 2610.892280929072\n",
      "!Err Train: 2838.479974354246, Err Dev: 2609.482383896338\n",
      "!Err Train: 2837.84671836421, Err Dev: 2608.1249510338703\n",
      "!Err Train: 2837.245748355183, Err Dev: 2606.8178034779335\n",
      "!Err Train: 2836.675409356888, Err Dev: 2605.5588607996715\n",
      "!Err Train: 2836.1341312393315, Err Dev: 2604.3461363039405\n",
      "!Err Train: 2835.620424363943, Err Dev: 2603.1777325601147\n",
      "!Err Train: 2835.132875457596, Err Dev: 2602.051837153232\n",
      "!Err Train: 2834.670143698084, Err Dev: 2600.9667186443885\n",
      "!Err Train: 2834.2309570002226, Err Dev: 2599.9207227299044\n",
      "!Err Train: 2833.814108492291, Err Dev: 2598.9122685892885\n",
      "!Err Train: 2833.4184531730752, Err Dev: 2597.939845412527\n",
      "!Err Train: 2833.042904740242, Err Dev: 2597.0020090977278\n",
      "!Err Train: 2832.686432581281, Err Dev: 2596.0973791105775\n",
      "!Err Train: 2832.348058918675, Err Dev: 2595.2246354975186\n",
      "!Err Train: 2832.0268561013922, Err Dev: 2594.3825160449605\n",
      "!Err Train: 2831.7219440352246, Err Dev: 2593.5698135772195\n",
      "!Err Train: 2831.432487744823, Err Dev: 2592.785373386261\n",
      "!Err Train: 2831.1576950607046, Err Dev: 2592.0280907866595\n",
      "!Err Train: 2830.896814424831, Err Dev: 2591.2969087895412\n",
      "!Err Train: 2830.6491328086627, Err Dev: 2590.5908158895536\n",
      "!Err Train: 2830.4139737379264, Err Dev: 2589.90884395926\n",
      "!Err Train: 2830.1906954186557, Err Dev: 2589.250066245581\n",
      "!Err Train: 2829.9786889592756, Err Dev: 2588.6135954632277\n",
      "!Err Train: 2829.777376683831, Err Dev: 2587.9985819802932\n",
      "!Err Train: 2829.5862105316805, Err Dev: 2587.4042120914287\n",
      "!Err Train: 2829.4046705392357, Err Dev: 2586.829706374243\n",
      "!Err Train: 2829.2322633995195, Err Dev: 2586.274318124827\n",
      "!Err Train: 2829.0685210955694, Err Dev: 2585.7373318684463\n",
      "!Err Train: 2828.912999603904, Err Dev: 2585.2180619417\n",
      "!Err Train: 2828.765277664446, Err Dev: 2584.715851142609\n",
      "!Err Train: 2828.6249556135126, Err Dev: 2584.230069445269\n",
      "!Err Train: 2828.4916542766246, Err Dev: 2583.7601127758767\n",
      "!Err Train: 2828.365013918088, Err Dev: 2583.3054018471153\n",
      "!Err Train: 2828.244693244406, Err Dev: 2582.865381048006\n",
      "!Err Train: 2828.1303684588024, Err Dev: 2582.439517386499\n",
      "!Err Train: 2828.0217323642064, Err Dev: 2582.0272994822135\n",
      "!Err Train: 2827.9184935122216, Err Dev: 2581.628236606858\n",
      "!Err Train: 2827.820375395725, Err Dev: 2581.2418577699846\n",
      "!Err Train: 2827.7271156828706, Err Dev: 2580.867710847865\n",
      "!Err Train: 2827.6384654903427, Err Dev: 2580.5053617533636\n",
      "!Err Train: 2827.554188693882, Err Dev: 2580.154393644812\n",
      "!Err Train: 2827.4740612741602, Err Dev: 2579.814406171959\n",
      "!Err Train: 2827.3978706961784, Err Dev: 2579.485014757221\n",
      "!Err Train: 2827.325415320492, Err Dev: 2579.1658499104656\n",
      "!Err Train: 2827.256503844617, Err Dev: 2578.8565565757353\n",
      "!Err Train: 2827.1909547730747, Err Dev: 2578.556793508329\n",
      "!Err Train: 2827.1285959146076, Err Dev: 2578.266232680785\n",
      "!Err Train: 2827.0692639051704, Err Dev: 2577.98455871635\n",
      "!Err Train: 2827.012803755372, Err Dev: 2577.7114683486075\n",
      "!Err Train: 2826.9590684211316, Err Dev: 2577.4466699060026\n",
      "!Err Train: 2826.907918396334, Err Dev: 2577.189882820052\n",
      "!Err Train: 2826.859221326375, Err Dev: 2576.9408371561053\n",
      "!Err Train: 2826.8128516415186, Err Dev: 2576.6992731655564\n",
      "!Err Train: 2826.7686902090495, Err Dev: 2576.464940858496\n",
      "!Err Train: 2826.726624003268, Err Dev: 2576.2375995957973\n",
      "!Err Train: 2826.6865457923845, Err Dev: 2576.0170176997217\n",
      "!Err Train: 2826.6483538414914, Err Dev: 2575.8029720821437\n",
      "!Err Train: 2826.611951630745, Err Dev: 2575.5952478895692\n",
      "!Err Train: 2826.577247588001, Err Dev: 2575.3936381641206\n",
      "!Err Train: 2826.5441548351573, Err Dev: 2575.19794351976\n",
      "!Err Train: 2826.5125909475087, Err Dev: 2575.007971832991\n",
      "!Err Train: 2826.4824777254244, Err Dev: 2574.823537947378\n",
      "!Err Train: 2826.4537409777445, Err Dev: 2574.6444633912174\n",
      "!Err Train: 2826.4263103162757, Err Dev: 2574.470576107732\n",
      "!Err Train: 2826.4001189608243, Err Dev: 2574.3017101972173\n",
      "!Err Train: 2826.3751035542214, Err Dev: 2574.137705670545\n",
      "!Err Train: 2826.3512039868406, Err Dev: 2573.978408213526\n",
      "!Err Train: 2826.3283632301, Err Dev: 2573.8236689615865\n",
      "!Err Train: 2826.3065271785094, Err Dev: 2573.6733442843065\n",
      "!Err Train: 2826.2856444998156, Err Dev: 2573.527295579334\n",
      "!Err Train: 2826.265666492823, Err Dev: 2573.3853890752534\n",
      "!Err Train: 2826.246546952511, Err Dev: 2573.247495642981\n",
      "!Err Train: 2826.228242042065, Err Dev: 2573.1134906152997\n",
      "!Err Train: 2826.2107101714637, Err Dev: 2572.9832536141494\n",
      "!Err Train: 2826.1939118822984, Err Dev: 2572.856668385315\n",
      "!Err Train: 2826.1778097384886, Err Dev: 2572.733622640176\n",
      "!Err Train: 2826.162368222611, Err Dev: 2572.614007904184\n",
      "!Err Train: 2826.1475536375347, Err Dev: 2572.4977193717646\n",
      "!Err Train: 2826.133334013101, Err Dev: 2572.384655767352\n",
      "!Err Train: 2826.1196790175927, Err Dev: 2572.2747192122642\n",
      "!Err Train: 2826.1065598737337, Err Dev: 2572.167815097169\n",
      "!Err Train: 2826.093949279008, Err Dev: 2572.0638519598688\n",
      "!Err Train: 2826.0818213300463, Err Dev: 2571.9627413681833\n",
      "!Err Train: 2826.070151450903, Err Dev: 2571.8643978076743\n",
      "!Err Train: 2826.058916325008, Err Dev: 2571.768738574019\n",
      "!Err Train: 2826.0480938305996, Err Dev: 2571.6756836698096\n",
      "!Err Train: 2826.037662979478, Err Dev: 2571.585155705573\n",
      "!Err Train: 2826.0276038588922, Err Dev: 2571.497079804845\n",
      "!Err Train: 2826.0178975764034, Err Dev: 2571.4113835130947\n",
      "!Err Train: 2826.0085262075877, Err Dev: 2571.3279967103413\n",
      "!Err Train: 2825.999472746405, Err Dev: 2571.2468515272926\n",
      "!Err Train: 2825.990721058118, Err Dev: 2571.1678822648587\n",
      "!Err Train: 2825.982255834633, Err Dev: 2571.0910253168768\n",
      "!Err Train: 2825.974062552119, Err Dev: 2571.016219095918\n",
      "!Err Train: 2825.9661274307996, Err Dev: 2570.943403962049\n",
      "!"
     ]
    }
   ],
   "source": [
    "nn=NN(size(data,2), 25, size(lbls,2))\n",
    "early_stopping!(nn,data_train, lbls_train, data_dev, lbls_dev, 10000000, 100)"
   ]
  },
  {
   "cell_type": "code",
   "execution_count": 299,
   "metadata": {
    "collapsed": false
   },
   "outputs": [
    {
     "data": {
      "text/plain": [
       "2432.689147469655"
      ]
     },
     "execution_count": 299,
     "metadata": {},
     "output_type": "execute_result"
    }
   ],
   "source": [
    "test(nn, data_test, lbls_test)"
   ]
  },
  {
   "cell_type": "code",
   "execution_count": 300,
   "metadata": {
    "collapsed": false
   },
   "outputs": [
    {
     "data": {
      "text/plain": [
       "(\n",
       "2x4 Array{Float64,2}:\n",
       "  79.2696  126.359  36.05    1.64725\n",
       " 115.099   145.014  35.5715  1.59966,\n",
       "\n",
       "2x26 Array{Float64,2}:\n",
       " 0.993601  0.992426  0.269651  -0.277035  …  -0.993635  -0.988872  1.0\n",
       " 0.993787  0.992793  0.637276  -0.851326     -0.993796  -0.990105  1.0)"
      ]
     },
     "execution_count": 300,
     "metadata": {},
     "output_type": "execute_result"
    }
   ],
   "source": [
    "xs = data_test[1:2,:]\n",
    "\n",
    "feedforward(nn,xs)"
   ]
  },
  {
   "cell_type": "code",
   "execution_count": 301,
   "metadata": {
    "collapsed": false
   },
   "outputs": [
    {
     "data": {
      "text/plain": [
       "2x4 Array{Float64,2}:\n",
       "  70.0  110.0  35.0  2.0\n",
       " 110.0  160.0  32.0  1.0"
      ]
     },
     "execution_count": 301,
     "metadata": {},
     "output_type": "execute_result"
    }
   ],
   "source": [
    "ys = lbls_test[1:2,:]\n",
    "\n"
   ]
  },
  {
   "cell_type": "code",
   "execution_count": null,
   "metadata": {
    "collapsed": true
   },
   "outputs": [],
   "source": []
  },
  {
   "cell_type": "code",
   "execution_count": 28,
   "metadata": {
    "collapsed": false
   },
   "outputs": [
    {
     "ename": "LoadError",
     "evalue": "lbl_train not defined\nwhile loading In[28], in expression starting on line 1",
     "output_type": "error",
     "traceback": [
      "lbl_train not defined\nwhile loading In[28], in expression starting on line 1",
      ""
     ]
    }
   ],
   "source": [
    "lbl_train |> pz\n",
    "data_train |> pz"
   ]
  },
  {
   "cell_type": "code",
   "execution_count": 354,
   "metadata": {
    "collapsed": false
   },
   "outputs": [
    {
     "name": "stderr",
     "output_type": "stream",
     "text": [
      "INFO: Loading help data...\n"
     ]
    },
    {
     "name": "stdout",
     "output_type": "stream",
     "text": [
      "Base.copy!(dest, src)\n",
      "\n",
      "   Copy all elements from collection \"src\" to array \"dest\".\n",
      "   Returns \"dest\".\n",
      "\n",
      "Base.copy!(dest, do, src, so, N)\n",
      "\n",
      "   Copy \"N\" elements from collection \"src\" starting at offset\n",
      "   \"so\", to array \"dest\" starting at offset \"do\". Returns\n",
      "   \"dest\".\n"
     ]
    }
   ],
   "source": [
    "help(copy!)"
   ]
  },
  {
   "cell_type": "code",
   "execution_count": null,
   "metadata": {
    "collapsed": true
   },
   "outputs": [],
   "source": []
  }
 ],
 "metadata": {
  "kernelspec": {
   "display_name": "Julia 0.4.0-dev",
   "language": "julia",
   "name": "julia 0.4"
  },
  "language_info": {
   "name": "julia",
   "version": "0.3.7"
  }
 },
 "nbformat": 4,
 "nbformat_minor": 0
}
