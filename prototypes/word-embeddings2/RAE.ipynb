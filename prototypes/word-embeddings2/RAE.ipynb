{
 "cells": [
  {
   "cell_type": "code",
   "execution_count": 38,
   "metadata": {
    "collapsed": false
   },
   "outputs": [
    {
     "data": {
      "text/plain": [
       "300"
      ]
     },
     "execution_count": 38,
     "metadata": {},
     "output_type": "execute_result"
    }
   ],
   "source": [
    "ENV[\"LINES\"] = 30\n",
    "ENV[\"COLUMNS\"] = 300"
   ]
  },
  {
   "cell_type": "code",
   "execution_count": 3,
   "metadata": {
    "collapsed": false
   },
   "outputs": [],
   "source": [
    "\n",
    "using Pipe"
   ]
  },
  {
   "cell_type": "code",
   "execution_count": 4,
   "metadata": {
    "collapsed": false
   },
   "outputs": [
    {
     "data": {
      "text/plain": [
       "pz (generic function with 1 method)"
      ]
     },
     "execution_count": 4,
     "metadata": {},
     "output_type": "execute_result"
    }
   ],
   "source": [
    "function pz(x :: AbstractArray)\n",
    "    println(typeof(x), \": \", size(x))\n",
    "end"
   ]
  },
  {
   "cell_type": "code",
   "execution_count": 5,
   "metadata": {
    "collapsed": false
   },
   "outputs": [
    {
     "name": "stderr",
     "output_type": "stream",
     "text": [
      "/usr/local/lib/python2.7/dist-packages/numpy/core/fromnumeric.py:2499: VisibleDeprecationWarning: `rank` is deprecated; use the `ndim` attribute or function instead. To find the rank of a matrix see `numpy.linalg.matrix_rank`.\n",
      "  VisibleDeprecationWarning)\n"
     ]
    }
   ],
   "source": [
    "using PyCall\n",
    "@pyimport nltk"
   ]
  },
  {
   "cell_type": "code",
   "execution_count": 6,
   "metadata": {
    "collapsed": false
   },
   "outputs": [
    {
     "data": {
      "text/plain": [
       "tokenize (generic function with 1 method)"
      ]
     },
     "execution_count": 6,
     "metadata": {},
     "output_type": "execute_result"
    }
   ],
   "source": [
    "function tokenize(sentence::String)\n",
    "    convert(Array{String,1},nltk.word_tokenize(sentence))\n",
    "end"
   ]
  },
  {
   "cell_type": "code",
   "execution_count": 7,
   "metadata": {
    "collapsed": false
   },
   "outputs": [
    {
     "data": {
      "text/plain": [
       "load_embeddings (generic function with 1 method)"
      ]
     },
     "execution_count": 7,
     "metadata": {},
     "output_type": "execute_result"
    }
   ],
   "source": [
    "include(\"load_embeddings.jl\")"
   ]
  },
  {
   "cell_type": "code",
   "execution_count": 8,
   "metadata": {
    "collapsed": false
   },
   "outputs": [
    {
     "name": "stdout",
     "output_type": "stream",
     "text": [
      "(50,268810)\n",
      "Dict{String,BitArray{1}}\n",
      "Array{String,1}\n"
     ]
    }
   ],
   "source": [
    "LL,word_index,indexed_words =  load_embeddings(\"embeddings-scaled.EMBEDDING_SIZE=50.txt\");\n",
    "size(LL) |> println\n",
    "word_index|> typeof |> println\n",
    "indexed_words|> typeof |> println"
   ]
  },
  {
   "cell_type": "code",
   "execution_count": 9,
   "metadata": {
    "collapsed": false
   },
   "outputs": [
    {
     "data": {
      "text/plain": [
       "eval_embeddings (generic function with 2 methods)"
      ]
     },
     "execution_count": 9,
     "metadata": {},
     "output_type": "execute_result"
    }
   ],
   "source": [
    "typealias Embedding Vector{Float64}\n",
    "typealias Embeddings Matrix{Float64}\n",
    "typealias Words Union(AbstractArray{ASCIIString,1},AbstractArray{String,1})\n",
    "type RAE\n",
    "    L::Matrix{Float64}\n",
    "    word_index::Dict{String,BitVector}\n",
    "    indexed_words::Vector{String}\n",
    "    \n",
    "    W_e::Matrix{Float64}\n",
    "    W_d::Matrix{Float64}\n",
    "   \n",
    "end\n",
    "\n",
    "\n",
    "function RAE(L::Matrix{Float64}, word_index::Dict{String,BitVector}, indexed_words::Vector{String})\n",
    "    emb_width = size(L,1)\n",
    "    \n",
    "    W_e =0.01*randn(emb_width,emb_width*2+1) \n",
    "    #W_d = 0.01*randn(emb_width*2,emb_width+1)\n",
    "    W_d = [pinv(W_e)[1:end-1,:] zeros(size(pinv(W_e),1)-1) ] #Cheat (Actually why can't I always do this to initialize?);\n",
    "    RAE(L,word_index, indexed_words, W_e, W_d)\n",
    "end\n",
    "\n",
    "function eval_embedding(rae::RAE, input::String)\n",
    "    k= word_index[ii]\n",
    "    rae.L*k\n",
    "end\n",
    "\n",
    "function eval_embeddings(rae::RAE, inputs::Words)\n",
    "    ks= @pipe inputs |> map(ii -> word_index[ii], _) |> hcat(_...)\n",
    "    rae.L*ks\n",
    "end\n",
    "\n",
    "function eval_embeddings(rae::RAE, c_is::Embeddings, c_js::Embeddings)\n",
    "    @assert size(c_is)==size(c_js)\n",
    "    bias_in = ones(1,size([c_is], 2))\n",
    "    tanh(rae.W_e*[c_is;c_js;bias_in])\n",
    "end\n",
    "\n"
   ]
  },
  {
   "cell_type": "code",
   "execution_count": 10,
   "metadata": {
    "collapsed": false
   },
   "outputs": [
    {
     "data": {
      "text/plain": [
       "eval_scores (generic function with 1 method)"
      ]
     },
     "execution_count": 10,
     "metadata": {},
     "output_type": "execute_result"
    }
   ],
   "source": [
    "function eval_scores(rae::RAE, c_is::Embeddings, c_js::Embeddings)\n",
    "    pps=eval_embeddings(rae, c_is, c_js)\n",
    "    c_ijs = [c_is;c_js]\n",
    "    bias_in = ones(1,size(pps, 2))\n",
    "    ĉ_ijs = tanh(rae.W_d*[pps;bias_in])\n",
    "    \n",
    "    sum((c_ijs-ĉ_ijs).^2,1)\n",
    "    \n",
    "end\n"
   ]
  },
  {
   "cell_type": "code",
   "execution_count": null,
   "metadata": {
    "collapsed": true
   },
   "outputs": [],
   "source": []
  },
  {
   "cell_type": "code",
   "execution_count": 11,
   "metadata": {
    "collapsed": false
   },
   "outputs": [
    {
     "data": {
      "text/plain": [
       "eval_to_tree (generic function with 2 methods)"
      ]
     },
     "execution_count": 11,
     "metadata": {},
     "output_type": "execute_result"
    }
   ],
   "source": [
    "function word_adjancy_matrix(sentence_len::Int)\n",
    "    #TODO: Replace this whole adjancy matrix with a linked list\n",
    "    [(ii==jj+1) || (ii==jj-1)  for ii in 1:sentence_len, jj in 1:sentence_len]\n",
    "end\n",
    "\n",
    "\n",
    "function eval_to_tree(rr::RAE,sentence::String)\n",
    "    eval_to_tree(rr, tokenize(sentence))\n",
    "end\n",
    "\n",
    "function eval_to_tree(rr::RAE, sentence::Words)\n",
    "    backlookup = sentence\n",
    "    cs = eval_embeddings(rr, backlookup)\n",
    "    AA = word_adjancy_matrix(size(cs,2))\n",
    "    \n",
    "    score_total = 0.0\n",
    "    while(any(AA))\n",
    "        iis, jjs = findn(AA)\n",
    "\n",
    "        pps = eval_embeddings(rr, cs[:,iis],cs[:,jjs])\n",
    "        scores = eval_scores(rr, cs[:,iis],cs[:,jjs])\n",
    "        best_pair_ind = indmax(scores)\n",
    "        \n",
    "\n",
    "        ii_best = iis[best_pair_ind]\n",
    "        jj_best = jjs[best_pair_ind]\n",
    "        pp_best = pps[:,best_pair_ind]\n",
    "        score_total+=scores[best_pair_ind]\n",
    "        \n",
    "        cs = [cs pp_best]\n",
    "        backlookup = [backlookup, (backlookup[ii_best],backlookup[jj_best])]\n",
    "        \n",
    "        #Adjust Adjacency Matrix\n",
    "\n",
    "        AA[ii_best,jj_best] = false\n",
    "        AA[jj_best,ii_best] = false\n",
    "        AA = [AA; AA[ii_best,:] | AA[jj_best,:]] # Add row\n",
    "        AA = [AA AA[:,ii_best] | AA[:,jj_best]] # Add col\n",
    "        AA[ii_best,:] = AA[jj_best,:] = false\n",
    "        AA[:,ii_best] = AA[:,jj_best] = false #Remove anything that was adjacent to old\n",
    "\n",
    "    end\n",
    "    tree = backlookup[end]\n",
    "    embedding = cs[:,end]\n",
    "    tree, embedding, score_total\n",
    "end\n"
   ]
  },
  {
   "cell_type": "code",
   "execution_count": 12,
   "metadata": {
    "collapsed": false
   },
   "outputs": [
    {
     "data": {
      "text/plain": [
       "(((\"destroyed\",(\"the\",\"house\")),(\"the\",\"boy\")),[-0.00514894,0.0111239,0.0154326,0.000781568,-0.00344358,-0.00135539,-0.0033673,-0.00655161,0.00804477,0.00249908  …  0.01198,-0.00587113,-0.0231239,-0.00756754,-0.00602867,-0.009554,-0.00748828,-0.00373229,-0.00161056,-0.00259715],12.65163093381063)"
      ]
     },
     "execution_count": 12,
     "metadata": {},
     "output_type": "execute_result"
    }
   ],
   "source": [
    "rr = RAE(LL,word_index,indexed_words);\n",
    "\n",
    "sent = \"the boy destroyed the house\"\n",
    "sent_toks = tokenize(sent)\n",
    "\n",
    "tree, pp, score_total = eval_to_tree(rr,sent_toks)\n"
   ]
  },
  {
   "cell_type": "code",
   "execution_count": 14,
   "metadata": {
    "collapsed": false
   },
   "outputs": [
    {
     "data": {
      "text/plain": [
       "unfold (generic function with 4 methods)"
      ]
     },
     "execution_count": 14,
     "metadata": {},
     "output_type": "execute_result"
    }
   ],
   "source": [
    "#tree data in tree is not use, other than it's structure.\n",
    "#(((\"the\",\"house\"),(\"destroyed\",(\"the\",\"boy\")))  is equivalent to (((\"\",\"\"),(\"\",(\"\",\"\"))) \n",
    "\n",
    "function reconstruct(rae::RAE, pp::Embedding)\n",
    "    bias_in = 1\n",
    "    ĉ_ijs = tanh(rae.W_d*[pp;bias_in])\n",
    "    ĉ_is = ĉ_ijs[1:end/2]\n",
    "    ĉ_js = ĉ_ijs[end/2+1:end]\n",
    "    ĉ_is, ĉ_js\n",
    "end\n",
    "\n",
    "function unfold(rae::RAE, tree::(String,String), pp::Embedding)\n",
    "    ĉ_is, ĉ_js = reconstruct(rae, pp)\n",
    "    [ĉ_is ĉ_js]\n",
    "end\n",
    "\n",
    "\n",
    "function unfold(rae::RAE, tree::(Any,String), pp::Embedding)\n",
    "    p̂_is, ĉ_js = reconstruct(rae, pp)\n",
    "    ĉ_is = unfold(rae, tree[1], p̂_is)\n",
    "    [ĉ_is ĉ_js]\n",
    "end\n",
    "\n",
    "function unfold(rae::RAE, tree::(String,Any), pp::Embedding)\n",
    "    ĉ_is, p̂_js = reconstruct(rae, pp)\n",
    "    ĉ_js = unfold(rae, tree[2], p̂_js)\n",
    "    [ĉ_is ĉ_js]\n",
    "    \n",
    "end\n",
    "\n",
    "function unfold(rae::RAE, tree::(Any,Any), pp::Embedding)\n",
    "    p̂_is, p̂_js = reconstruct(rae, pp)\n",
    "    ĉ_is = unfold(rae, tree[1], p̂_is)\n",
    "    ĉ_js = unfold(rae, tree[2], p̂_js)\n",
    "    [ĉ_is ĉ_js]\n",
    "end\n",
    "\n",
    "    "
   ]
  },
  {
   "cell_type": "code",
   "execution_count": 44,
   "metadata": {
    "collapsed": false
   },
   "outputs": [
    {
     "data": {
      "text/plain": [
       "20x4 Array{Any,2}:\n",
       " \"1\"              0.76309   \"1\"           0.70818 \n",
       " \"4\"              0.688818  \"2\"           0.682614\n",
       " \"6\"              0.664929  \"7\"           0.670441\n",
       " \"3\"              0.645222  \"97\"          0.659939\n",
       " \"2\"              0.642393  \"3\"           0.623277\n",
       " \"detailed\"       0.609192  \"2.5\"         0.613707\n",
       " \"longer\"         0.607712  \"Newlands\"    0.603756\n",
       " \"non\"            0.601455  \"4\"           0.60357 \n",
       " \"72\"             0.601402  \"6\"           0.599686\n",
       " \"7\"              0.599989  \"8\"           0.598776\n",
       " \"supply-demand\"  0.599945  \"Subic\"       0.590737\n",
       " \"90-day\"         0.594884  \"5\"           0.588673\n",
       " \"cumulative\"     0.593713  \"\\$\"          0.577644\n",
       " \"ADRs\"           0.593608  \"closing\"     0.577303\n",
       " \"9\"              0.589779  \"Oct\"         0.576998\n",
       " \"end-month\"      0.587698  \"Grandpuits\"  0.576282\n",
       " \"Eurograde\"      0.587064  \"Yorkshire\"   0.574502\n",
       " \"free-fall\"      0.581038  \"Target\"      0.574046\n",
       " \"401\"            0.579868  \"Rover\"       0.572343\n",
       " \"12\"             0.576038  \"WestLB\"      0.568496"
      ]
     },
     "execution_count": 44,
     "metadata": {},
     "output_type": "execute_result"
    }
   ],
   "source": [
    "\n",
    "\n",
    "tree, pp, score_total = eval_to_tree(rr,\"1 1\")\n",
    "ĉs = unfold(rr,tree,pp)\n",
    "\n",
    "show_bests(rr, ĉs)\n"
   ]
  },
  {
   "cell_type": "code",
   "execution_count": 16,
   "metadata": {
    "collapsed": false
   },
   "outputs": [
    {
     "data": {
      "text/plain": [
       "show_bests (generic function with 2 methods)"
      ]
     },
     "execution_count": 16,
     "metadata": {},
     "output_type": "execute_result"
    }
   ],
   "source": [
    "function cosine_dist(a,b)\n",
    "    (a⋅b)/(norm(a)*norm(b))\n",
    "end\n",
    "\n",
    "function neighbour_dists(cc::Vector{Float64}, globe::Matrix{Float64})\n",
    "    [cosine_dist(cc, globe[:,ii]) for ii in 1:size(globe,2)]\n",
    "end\n",
    "\n",
    "\n",
    "function show_best(rae::RAE,ĉ::Embedding, nbest=20)\n",
    "    candidates=neighbour_dists(ĉ,rae.L)   \n",
    "    best_cands = [ (findfirst(candidates,score), score)\n",
    "                    for score in select(candidates,1:nbest, rev=true)[1:nbest]]\n",
    "    vcat([[rae.indexed_words[ii] score] for (ii,score) in best_cands]...)\n",
    "end\n",
    "\n",
    "function show_bests(rae::RAE,ĉs::Embeddings, nbest=20)\n",
    "    hcat([show_best(rae,ĉs[:,ii],nbest) for ii in 1:size(ĉs,2)]...)\n",
    "end\n"
   ]
  },
  {
   "cell_type": "code",
   "execution_count": 161,
   "metadata": {
    "collapsed": false
   },
   "outputs": [
    {
     "data": {
      "text/plain": [
       "print_tree (generic function with 1 method)"
      ]
     },
     "execution_count": 161,
     "metadata": {},
     "output_type": "execute_result"
    }
   ],
   "source": [
    "function depth_inc(ele::(Int,String))\n",
    "    (ele[1]+1,ele[2])\n",
    "end\n",
    "\n",
    "function unfold_struct(tree::(Any,Any))\n",
    "    left_tree = unfold_struct(tree[1]) \n",
    "    left = @pipe left_tree |> map(depth_inc,_)\n",
    "    right_tree = unfold_struct(tree[2]) \n",
    "    right = @pipe right_tree |> map(depth_inc,_)\n",
    "    [left, right, (0,\"\")]\n",
    "end\n",
    "\n",
    "function unfold_struct(tree::(Any,String))\n",
    "    left_tree = unfold_struct(tree[1]) \n",
    "    left = @pipe left_tree |> map(depth_inc,_)\n",
    "    [left, (0,tree[2]), (0,\"\")]\n",
    "end\n",
    "function unfold_struct(tree::(String,Any))\n",
    "    right_tree = unfold_struct(tree[2]) \n",
    "    right = @pipe right_tree |> map(depth_inc,_)\n",
    "    [(0,tree[1]),right, (0,\"\")]\n",
    "end\n",
    "function unfold_struct(tree::(String,String))\n",
    "    [(0,tree[1]), (0, tree[2]), (0,\"\")]\n",
    "end\n",
    "\n",
    "function print_tree(tree::(Any,Any))\n",
    "    \n",
    "    for (depth,word ) in unfold_struct(tree)\n",
    "        println(\"\\t\"^depth, word)\n",
    "    end\n",
    "end"
   ]
  },
  {
   "cell_type": "code",
   "execution_count": 149,
   "metadata": {
    "collapsed": false
   },
   "outputs": [
    {
     "name": "stdout",
     "output_type": "stream",
     "text": [
      "\tthe\n",
      "\thouse\n",
      "\t\n",
      "\tdestroyed\n",
      "\t\tthe\n",
      "\t\tboy\n",
      "\t\t\n",
      "\t\n",
      "\n"
     ]
    }
   ],
   "source": [
    "print_tree(tree)"
   ]
  },
  {
   "cell_type": "code",
   "execution_count": 156,
   "metadata": {
    "collapsed": false
   },
   "outputs": [
    {
     "data": {
      "text/plain": [
       "6-element Array{Int64,1}:\n",
       " 3\n",
       " 4\n",
       " 5\n",
       " 6\n",
       " 7\n",
       " 8"
      ]
     },
     "execution_count": 156,
     "metadata": {},
     "output_type": "execute_result"
    }
   ],
   "source": [
    "aa=[1 2 3 4 5 6 7 8]\n",
    "aa[end/4+1:end]"
   ]
  },
  {
   "cell_type": "code",
   "execution_count": 119,
   "metadata": {
    "collapsed": false
   },
   "outputs": [
    {
     "name": "stdout",
     "output_type": "stream",
     "text": [
      "a\n",
      "b"
     ]
    }
   ],
   "source": [
    "@pipe (\"a\", \"b\") |> join(_,\"\\n\") "
   ]
  },
  {
   "cell_type": "code",
   "execution_count": 133,
   "metadata": {
    "collapsed": false
   },
   "outputs": [
    {
     "data": {
      "text/plain": [
       "((\"the\",\"house\"),(\"destroyed\",(\"the\",\"boy\")))"
      ]
     },
     "execution_count": 133,
     "metadata": {},
     "output_type": "execute_result"
    }
   ],
   "source": [
    "tree"
   ]
  },
  {
   "cell_type": "code",
   "execution_count": 20,
   "metadata": {
    "collapsed": true
   },
   "outputs": [],
   "source": [
    "import IJulia"
   ]
  },
  {
   "cell_type": "code",
   "execution_count": 24,
   "metadata": {
    "collapsed": false
   },
   "outputs": [
    {
     "name": "stdout",
     "output_type": "stream",
     "text": [
      "undisplay (generic function with 1 method)\n"
     ]
    }
   ],
   "source": [
    "help(IJulia.undisplay)"
   ]
  },
  {
   "cell_type": "code",
   "execution_count": 35,
   "metadata": {
    "collapsed": false
   },
   "outputs": [
    {
     "data": {
      "text/plain": [
       "300"
      ]
     },
     "execution_count": 35,
     "metadata": {},
     "output_type": "execute_result"
    }
   ],
   "source": []
  },
  {
   "cell_type": "code",
   "execution_count": null,
   "metadata": {
    "collapsed": true
   },
   "outputs": [],
   "source": []
  },
  {
   "cell_type": "code",
   "execution_count": 36,
   "metadata": {
    "collapsed": false
   },
   "outputs": [
    {
     "data": {
      "text/plain": [
       "100x100 Array{Char,2}:\n",
       " 'q'  's'  'e'  'c'  'x'  'o'  't'  'e'  'u'  'u'  'c'  't'  'k'  't'  'm'  'p'  'a'  'f'  'w'  'a'  'v'  'd'  'a'  'g'  'v'  'o'  'g'  'v'  'z'  'v'  …  'g'  'q'  'z'  'g'  't'  'h'  'y'  'u'  'h'  'o'  'l'  'z'  'l'  's'  's'  'o'  'q'  't'  'g'  'u'  'w'  'q'  'o'  'v'  'u'  'v'  'h'  'c'  'e'\n",
       " 'q'  'w'  'b'  'x'  'u'  'q'  'b'  'k'  'j'  'g'  'w'  'c'  'c'  'x'  'w'  'x'  'o'  'h'  'u'  'f'  'e'  'm'  'g'  'z'  'y'  'i'  'x'  't'  'o'  'g'     'k'  'v'  'k'  'e'  'x'  't'  'd'  'h'  's'  'l'  'e'  'v'  'b'  'f'  'o'  'w'  'e'  'c'  'x'  'e'  'n'  'g'  'j'  'w'  'r'  'q'  'f'  'y'  'b'\n",
       " 'h'  'f'  'v'  'x'  'h'  'e'  'm'  'h'  'q'  'a'  'g'  'n'  'z'  'n'  'a'  'e'  'o'  'i'  'f'  'a'  'h'  'w'  'e'  'z'  'q'  'e'  'u'  'p'  'p'  'p'     'e'  'o'  't'  'k'  'p'  'g'  'z'  'x'  'm'  'o'  'y'  'q'  'c'  'q'  'x'  'i'  'g'  'g'  'e'  'l'  'q'  'q'  'b'  'b'  'i'  'd'  't'  'n'  'u'\n",
       " 'g'  'u'  'e'  'l'  'x'  'b'  'u'  'b'  'w'  'c'  't'  'f'  'q'  'h'  'd'  'o'  'q'  'z'  'n'  'v'  'q'  'o'  'u'  'j'  'j'  'j'  'f'  't'  'j'  'w'     'c'  'a'  't'  'n'  'q'  'w'  'p'  'd'  'y'  't'  'o'  'y'  'm'  'u'  'k'  'q'  'x'  'i'  'c'  'a'  'h'  'c'  's'  't'  'r'  'l'  't'  't'  'h'\n",
       " 'y'  'y'  'v'  't'  'r'  'j'  'o'  'o'  'z'  'p'  'k'  'l'  'z'  'q'  'c'  'd'  'u'  'c'  'b'  'z'  'r'  'y'  't'  't'  'f'  'g'  'o'  'e'  'a'  'z'     'm'  'z'  'i'  'l'  'p'  'e'  'v'  'g'  'l'  'h'  'u'  'q'  'a'  'y'  'v'  'i'  'p'  'w'  'd'  'r'  'o'  'u'  'i'  'f'  'u'  'f'  'w'  'd'  'j'\n",
       " 'e'  'n'  't'  'n'  'l'  'a'  'w'  'k'  'b'  'x'  'e'  'b'  'y'  'n'  'q'  'w'  'h'  'o'  'y'  'k'  'j'  'r'  't'  'h'  'u'  'y'  'n'  'q'  'd'  'q'  …  'j'  'e'  's'  'f'  'x'  'y'  'a'  'w'  'u'  'd'  'd'  'w'  'j'  'm'  'b'  'd'  'u'  'm'  'p'  'e'  'v'  'k'  'j'  'n'  'b'  'z'  's'  'p'  't'\n",
       " 'g'  'z'  's'  'o'  'a'  'a'  'w'  'c'  'j'  'j'  'f'  'u'  'e'  's'  's'  'l'  's'  'r'  'o'  'f'  's'  'j'  'h'  't'  'y'  'p'  'd'  'j'  'q'  'i'     'i'  'z'  'u'  'd'  'f'  'q'  'w'  'o'  'm'  'r'  'g'  'm'  'd'  'e'  't'  'h'  'z'  'c'  'k'  'y'  'i'  'n'  'd'  'p'  'u'  'f'  'n'  'o'  'p'\n",
       " 'o'  'm'  'v'  'u'  'q'  'g'  't'  'w'  't'  'w'  'b'  'v'  't'  'b'  'o'  'z'  'd'  'a'  'p'  'c'  'u'  'v'  'x'  'x'  'm'  'h'  'v'  's'  'h'  'e'     'd'  'q'  'd'  'd'  'i'  'v'  'r'  'a'  't'  'p'  'e'  'l'  'u'  'a'  'd'  'j'  'r'  'z'  'p'  'q'  'z'  'q'  'd'  'o'  'r'  'i'  'm'  'v'  'x'\n",
       " 'd'  'f'  'a'  'w'  'v'  'n'  'g'  'n'  'n'  'i'  'v'  'b'  'n'  'e'  'n'  'x'  'x'  'q'  'm'  'f'  'y'  'j'  'q'  'a'  't'  'v'  'v'  'r'  'y'  'n'     't'  'u'  'n'  'k'  'u'  'c'  'q'  'h'  'j'  'p'  'q'  'm'  'n'  'u'  't'  'y'  'd'  't'  'u'  't'  's'  's'  'h'  'u'  'h'  'e'  'e'  'c'  'e'\n",
       " 'k'  'u'  'o'  'w'  'd'  'g'  'w'  'p'  'e'  'u'  's'  'q'  'o'  'n'  'q'  'r'  'c'  'f'  'y'  'o'  'i'  'c'  'y'  'w'  'd'  'j'  'g'  'q'  'c'  'd'     'm'  'r'  'e'  'f'  'v'  'g'  'w'  'w'  'w'  'm'  'u'  's'  'm'  'd'  't'  'o'  'q'  'a'  'c'  'e'  'a'  'j'  'r'  'q'  'c'  'k'  'h'  'l'  'o'\n",
       " 'm'  'v'  'i'  'e'  'p'  's'  'x'  'y'  'v'  'g'  's'  'd'  'b'  'f'  'y'  'j'  'x'  'a'  't'  'x'  'c'  'c'  'e'  'n'  't'  'x'  'g'  'y'  'z'  'h'  …  'e'  'v'  'z'  'i'  'x'  's'  'r'  's'  'd'  'x'  'x'  'x'  'k'  'f'  'k'  'g'  't'  'k'  'e'  'o'  'p'  'm'  'a'  'q'  'j'  'i'  'n'  'm'  'd'\n",
       " 'f'  'u'  'k'  'u'  'h'  'j'  'x'  'r'  'q'  'k'  'b'  'd'  'm'  'k'  'c'  'g'  'v'  'n'  'v'  'h'  'b'  'b'  'e'  'a'  'c'  'w'  'n'  'f'  'a'  'i'     'r'  'p'  'r'  'l'  'o'  'a'  'd'  'g'  'u'  'h'  'y'  'j'  's'  'd'  'c'  'u'  'n'  'r'  'u'  'h'  'v'  'v'  'n'  'j'  'z'  'm'  'r'  'q'  'y'\n",
       " 'n'  's'  'u'  'n'  'g'  'c'  'i'  'p'  'a'  'l'  'k'  'e'  'x'  'u'  'g'  'f'  'c'  'a'  'h'  'i'  'c'  'y'  'x'  's'  'p'  'l'  'j'  'i'  'n'  'r'     'x'  'p'  'h'  'd'  'x'  'g'  'i'  'u'  's'  'w'  'm'  'l'  'z'  'a'  'o'  't'  'c'  'n'  'a'  'o'  't'  't'  'u'  'h'  'z'  's'  'e'  'n'  'i'\n",
       " 'l'  'c'  'r'  'l'  'h'  'c'  'a'  'n'  'q'  'k'  'q'  'i'  'z'  'c'  'r'  'm'  'l'  'i'  'v'  'p'  'v'  'f'  'a'  'k'  'w'  'q'  'n'  'h'  's'  'y'     'x'  'v'  'e'  'q'  'h'  'y'  'o'  'i'  'e'  'i'  'g'  'r'  'p'  'b'  'u'  'b'  'i'  'q'  't'  'g'  't'  'u'  'v'  'u'  'o'  'k'  'k'  'g'  'q'\n",
       " 'j'  'n'  's'  'y'  'g'  't'  'f'  'k'  'w'  'h'  'p'  'o'  'r'  'j'  'l'  'l'  'h'  'j'  'c'  'r'  'v'  'z'  'm'  'v'  'l'  'f'  'f'  'm'  'l'  'j'     'g'  'j'  'n'  'i'  'n'  'd'  'n'  'v'  'b'  'l'  'p'  'g'  'k'  'd'  'v'  't'  'j'  'u'  'p'  'd'  'n'  'j'  'b'  'k'  'p'  'x'  'f'  'm'  'y'\n",
       " 'u'  'q'  'w'  't'  'p'  'v'  'k'  'x'  'n'  'h'  'd'  'd'  'w'  'i'  'f'  'n'  'j'  'h'  'c'  's'  'b'  'w'  'z'  'b'  'm'  'z'  'j'  'r'  'u'  'k'  …  'w'  'r'  't'  'm'  't'  'a'  'q'  'l'  'm'  'o'  'h'  'j'  'h'  'v'  'i'  'u'  'u'  'o'  'n'  'i'  'm'  't'  'x'  'h'  'x'  'y'  't'  'h'  'n'\n",
       " 'b'  'o'  'a'  'x'  'e'  'x'  'k'  'b'  'd'  'c'  'l'  'e'  'u'  'x'  'r'  'x'  'x'  'x'  'k'  'z'  'i'  'w'  'c'  'l'  'n'  'm'  'f'  'v'  'w'  'p'     'e'  'l'  'p'  'a'  'c'  'a'  'j'  'u'  'l'  'n'  'p'  'a'  's'  'm'  'q'  'a'  'e'  't'  't'  'n'  'k'  's'  'n'  'w'  'v'  'b'  't'  'b'  'h'\n",
       " 'y'  'b'  'n'  'z'  'n'  'j'  'k'  'n'  'd'  'o'  'r'  'c'  'x'  'z'  't'  'o'  't'  'i'  'w'  't'  's'  'z'  'x'  'p'  'a'  'j'  'h'  't'  'x'  'o'     'o'  'd'  'a'  'z'  's'  'x'  'h'  'f'  'h'  'g'  'd'  'g'  'g'  'l'  'v'  'o'  'b'  'g'  'k'  'e'  't'  'i'  'c'  'o'  'y'  'p'  'w'  'e'  'j'\n",
       " 'd'  'a'  'b'  'f'  'm'  'w'  'i'  'v'  'o'  'k'  'm'  'h'  'q'  'o'  'd'  'b'  'd'  'r'  'd'  'x'  'n'  'k'  'c'  'y'  'j'  'u'  'x'  't'  'b'  'z'     'u'  'x'  'p'  'o'  'w'  'g'  'c'  'v'  'u'  'l'  'm'  'x'  'z'  'h'  'z'  't'  'j'  'b'  'e'  'p'  'k'  'w'  'r'  'a'  'k'  'x'  'e'  'a'  'r'\n",
       " 'y'  'u'  'a'  'y'  'e'  'a'  'm'  'g'  'g'  's'  'q'  'p'  'k'  's'  'f'  'm'  'f'  'x'  'a'  'g'  'z'  'c'  'z'  'i'  'u'  'w'  'f'  'd'  'k'  'z'     'x'  'y'  'j'  'u'  'c'  'v'  'i'  'e'  'i'  'j'  'b'  'o'  'e'  'i'  'l'  'i'  'j'  'w'  'a'  'e'  'm'  'm'  'z'  'j'  'l'  'v'  'n'  'v'  'v'\n",
       " 'z'  'g'  'm'  'd'  's'  'q'  'v'  'v'  'u'  'x'  'q'  'b'  'x'  'c'  'a'  'g'  'l'  'e'  'k'  'p'  'v'  'i'  'b'  'b'  'p'  'c'  'v'  'r'  'y'  'z'  …  's'  'q'  'm'  'v'  'q'  'u'  'a'  'o'  'e'  'z'  'c'  'n'  'c'  'l'  'z'  't'  'h'  'e'  'c'  'r'  'c'  's'  'h'  'p'  't'  'x'  'f'  'y'  'v'\n",
       " 'j'  'c'  'l'  'o'  'v'  'q'  'z'  't'  'u'  'j'  'm'  'w'  'f'  'b'  'f'  'z'  'r'  'l'  'o'  'e'  'f'  'l'  'v'  'v'  'l'  'k'  'f'  'b'  'm'  'g'     'q'  'u'  's'  'q'  'n'  'n'  'o'  'n'  'y'  'd'  's'  'y'  'l'  'd'  'c'  'o'  'y'  'u'  'c'  'v'  'm'  'c'  'n'  'x'  'l'  'j'  'w'  'k'  'a'\n",
       " 'b'  'z'  'u'  'h'  'o'  'j'  'j'  'l'  'j'  'w'  'p'  'm'  'h'  'j'  'z'  'h'  'k'  'v'  'u'  'a'  'f'  'z'  'n'  'l'  'h'  'c'  'l'  'q'  'f'  'p'     'u'  'b'  'b'  'a'  'u'  'n'  'v'  'e'  'v'  'o'  'e'  'i'  'l'  'd'  'i'  'w'  'f'  'c'  'j'  'h'  'g'  'd'  'p'  'f'  'v'  'h'  'q'  'y'  'f'\n",
       " 't'  'i'  'u'  'e'  'e'  'i'  'n'  'j'  'r'  'y'  'y'  'l'  'o'  'f'  's'  'v'  'u'  'e'  'o'  'r'  'x'  'o'  'z'  'z'  'k'  'r'  'h'  'f'  'u'  't'     'p'  'a'  'n'  'g'  'j'  't'  'k'  'd'  'd'  'g'  'o'  'a'  'l'  'm'  'i'  'o'  'g'  'q'  'p'  'm'  'v'  'l'  'w'  'n'  'r'  'k'  'y'  'w'  'g'\n",
       " 'r'  'u'  'j'  'm'  't'  'z'  'r'  'x'  'q'  'i'  'j'  'm'  'c'  'c'  'y'  'h'  'j'  'x'  'k'  'e'  'f'  'r'  'w'  'w'  's'  'h'  'm'  'c'  'a'  'y'     'c'  'p'  'n'  'z'  'c'  'u'  'z'  'z'  'w'  'f'  'a'  'j'  'w'  'e'  'g'  'w'  'm'  's'  'b'  't'  'r'  's'  'm'  'u'  'i'  'v'  'g'  't'  'f'\n",
       " 'h'  'o'  'u'  'k'  't'  'r'  'h'  'v'  'k'  't'  'd'  'o'  'h'  'h'  'k'  'r'  'm'  'g'  'g'  'd'  'c'  'f'  'm'  'y'  'i'  'r'  'u'  'd'  'o'  'i'  …  'v'  's'  'r'  'x'  'u'  'l'  'i'  'p'  't'  'h'  'r'  'x'  'g'  's'  't'  'o'  'c'  'x'  'm'  'y'  'w'  'r'  'u'  'd'  's'  'a'  'v'  'n'  'w'\n",
       " 's'  'x'  'a'  'y'  'z'  'r'  'p'  'o'  'c'  'b'  'b'  'k'  'd'  't'  'd'  'k'  'k'  'h'  'p'  'n'  'v'  'b'  'f'  'v'  'w'  'r'  'c'  'h'  'd'  'l'     'm'  'q'  'x'  'l'  'p'  's'  'a'  'z'  'e'  'c'  'h'  'f'  'n'  's'  't'  'r'  'b'  'o'  'k'  'y'  'z'  'c'  'a'  'k'  'i'  'i'  'k'  'h'  'v'\n",
       " 'l'  'h'  'v'  'b'  'c'  't'  'h'  'n'  'x'  'a'  'v'  'v'  'c'  'a'  'f'  'c'  'p'  'k'  'd'  'i'  's'  'j'  'd'  'm'  'b'  'e'  'l'  'i'  'l'  'j'     'g'  'h'  'u'  'x'  't'  'x'  'o'  'l'  'z'  'n'  'a'  'h'  't'  'r'  'm'  't'  'k'  'w'  't'  'f'  'b'  'x'  'm'  'e'  'l'  'd'  'y'  'e'  'f'\n",
       " 'n'  'd'  'f'  'c'  'v'  'v'  'i'  'y'  'm'  'w'  'x'  'p'  'k'  'n'  's'  'y'  'd'  'b'  'r'  'z'  'c'  'o'  'w'  'y'  'y'  'j'  'f'  'l'  'w'  'n'     'e'  'b'  'y'  'x'  'j'  'c'  'f'  'a'  's'  'z'  'j'  'x'  'k'  'b'  'u'  'p'  'v'  'i'  'c'  'r'  't'  'h'  'a'  'e'  'o'  'r'  'n'  'e'  'j'\n",
       " 'l'  'i'  'z'  'u'  't'  'u'  'q'  'v'  'a'  's'  'c'  'p'  'o'  'u'  'x'  'f'  'k'  'r'  'o'  'f'  'g'  'i'  'g'  'o'  'j'  'n'  'b'  'p'  'o'  'x'     'u'  'f'  'o'  'h'  'e'  'f'  'e'  'h'  'v'  'l'  'z'  'n'  'p'  'l'  't'  'e'  'p'  'h'  'x'  'g'  'k'  'a'  'e'  'e'  'i'  'g'  'o'  'p'  'u'\n",
       " 's'  'c'  'x'  'k'  'e'  'v'  'm'  'f'  'i'  'd'  'n'  'g'  'x'  'p'  'g'  's'  'j'  'b'  'u'  'l'  'x'  'h'  'h'  'j'  'm'  'x'  'k'  'z'  'e'  'r'  …  'g'  'u'  'j'  'y'  'z'  'e'  'i'  'o'  'p'  'd'  'l'  'c'  'v'  'h'  's'  'z'  'o'  'q'  'p'  'a'  'i'  'z'  'm'  'g'  'a'  'f'  'l'  'z'  'b'\n",
       " 'h'  'v'  'k'  'a'  'b'  'c'  'z'  'c'  'x'  'f'  'l'  'l'  'm'  'd'  'l'  'e'  'l'  'u'  'l'  'r'  'a'  'w'  'q'  'e'  'r'  'w'  'u'  'm'  'l'  'o'     'l'  'j'  'v'  'n'  'l'  'u'  'g'  'j'  'i'  'e'  'v'  'h'  'o'  'v'  'k'  'j'  'u'  's'  'p'  'u'  'o'  'p'  'c'  's'  'u'  'h'  'k'  't'  's'\n",
       " 'y'  'e'  's'  'q'  't'  'l'  'j'  'v'  'w'  'd'  'e'  'r'  't'  't'  'z'  'r'  'z'  'j'  'c'  'e'  's'  'e'  'f'  'b'  'g'  'p'  'm'  'n'  'v'  'm'     'l'  'u'  'p'  'p'  'l'  'w'  'r'  's'  'v'  'h'  'z'  'z'  'm'  'k'  'a'  'k'  'c'  'g'  's'  'f'  'o'  'n'  'o'  'o'  'p'  'c'  't'  'q'  'g'\n",
       " 'h'  'u'  'x'  'g'  'h'  'd'  'o'  'f'  'k'  'r'  'b'  'u'  'y'  't'  'l'  'g'  't'  'o'  'r'  'b'  'n'  'q'  'p'  'v'  'z'  'a'  'y'  'y'  'd'  'c'     'm'  'z'  'w'  'l'  'r'  'x'  'y'  'x'  'e'  'z'  'e'  'y'  'p'  'a'  'i'  'b'  'd'  'f'  'q'  'e'  'i'  'i'  'h'  'd'  'q'  'x'  'w'  'v'  'h'\n",
       " 'i'  'o'  'j'  'i'  's'  'i'  'r'  'c'  'v'  'a'  'j'  'n'  'q'  'k'  'f'  'i'  'l'  'l'  'h'  'l'  'a'  'j'  'x'  'e'  'w'  'h'  'z'  'g'  'q'  'v'     'b'  't'  'r'  'p'  'd'  'n'  'o'  'v'  'n'  'k'  'h'  'r'  'q'  's'  'e'  'i'  'j'  'j'  's'  'k'  'p'  'p'  'c'  'f'  'i'  't'  'y'  'c'  'b'\n",
       " 'c'  'u'  'q'  'r'  'r'  'q'  'o'  'w'  'w'  'g'  'd'  'l'  'w'  'y'  'm'  'b'  'z'  'g'  'g'  'n'  't'  's'  'r'  'l'  'l'  'u'  'p'  'u'  'q'  'u'  …  'f'  'q'  'n'  'w'  'c'  'l'  'p'  'v'  'p'  'o'  'o'  'b'  'n'  'g'  'i'  'o'  'q'  'f'  'w'  'n'  'o'  'x'  'n'  'v'  'w'  'l'  'a'  'v'  'a'\n",
       " 'm'  'c'  'j'  's'  'k'  'v'  'e'  'x'  'y'  'e'  'g'  'o'  'u'  'x'  'a'  'u'  'u'  'u'  'h'  'x'  'u'  'q'  'b'  'z'  'c'  'o'  'a'  'u'  'w'  'j'     'c'  's'  'i'  'u'  'j'  'v'  's'  'j'  'c'  'd'  't'  'e'  'j'  'h'  'c'  'c'  'u'  'm'  'k'  'y'  'g'  'f'  'b'  'f'  'x'  'h'  'l'  'd'  'b'\n",
       " 'a'  'o'  'y'  'z'  'y'  'w'  'c'  's'  'w'  'o'  'j'  'f'  'k'  'o'  'v'  'z'  'z'  'w'  'y'  't'  'g'  'g'  'o'  't'  'i'  'i'  'k'  'e'  'k'  'u'     'p'  'j'  'b'  'h'  'p'  'o'  'j'  'm'  't'  't'  'l'  'x'  'h'  'f'  'k'  'b'  'p'  'z'  'q'  'b'  'q'  'e'  'v'  'a'  'a'  'a'  'l'  'l'  'b'\n",
       " 'g'  'c'  'p'  'z'  'j'  'p'  'd'  'p'  'e'  'l'  'p'  'a'  'w'  'e'  't'  'e'  'u'  'r'  'e'  'w'  'i'  'r'  'n'  'n'  'a'  'i'  'd'  'g'  'c'  'i'     'q'  'h'  'd'  'i'  't'  's'  'x'  'h'  'x'  'g'  'f'  'd'  'd'  'v'  'l'  'q'  'l'  'h'  'w'  'o'  'v'  'b'  'l'  'r'  'l'  'z'  'z'  'u'  'g'\n",
       " 'b'  'z'  'a'  'c'  'a'  'i'  'i'  'w'  'l'  'm'  'q'  'w'  'b'  'h'  'j'  'i'  'i'  'r'  'b'  'd'  'a'  'g'  'b'  'h'  'j'  'y'  'z'  'h'  'k'  'b'     'r'  'd'  'd'  'o'  'k'  'y'  'a'  'o'  'g'  'g'  'l'  'z'  'a'  'x'  'f'  'g'  'p'  'w'  't'  'r'  'd'  's'  'i'  'q'  'p'  'f'  'q'  'p'  'h'\n",
       " 'y'  'i'  'z'  'o'  'o'  'u'  'z'  'h'  'r'  'r'  't'  'k'  'w'  'c'  'b'  'p'  'n'  'n'  'g'  'w'  'x'  'c'  'a'  'x'  'h'  'e'  'n'  'p'  'i'  'p'  …  'k'  'k'  'x'  'z'  'u'  'c'  'c'  'y'  'f'  'i'  'd'  'x'  'u'  'm'  'j'  'i'  'g'  'x'  'g'  'v'  'g'  'n'  'i'  'z'  'a'  'i'  'm'  'z'  'f'\n",
       " 'u'  'u'  'r'  'x'  'f'  'p'  'l'  'b'  'v'  'x'  'y'  'i'  'y'  'm'  'z'  'r'  't'  'h'  'f'  'd'  'n'  'k'  'd'  'v'  'f'  'n'  'a'  'o'  't'  'z'     'n'  'o'  'x'  'y'  'z'  'p'  'a'  'y'  'n'  'b'  'e'  'd'  'l'  'o'  'k'  'i'  'y'  'u'  'l'  'f'  'z'  'w'  'f'  'x'  'a'  'o'  'l'  's'  'l'\n",
       " 'y'  'o'  'd'  'm'  'x'  'z'  'w'  'e'  'f'  'f'  'h'  'p'  'd'  'i'  'j'  'n'  'f'  'p'  'h'  'w'  's'  'n'  'i'  'a'  'e'  'u'  'm'  'k'  'n'  'l'     'm'  'r'  'v'  'f'  'g'  'j'  'f'  'w'  'u'  'e'  'i'  'x'  'r'  't'  'k'  'c'  'y'  'e'  'x'  'c'  'u'  'h'  'j'  'o'  'r'  'v'  'd'  'q'  'x'\n",
       " 'o'  'k'  'z'  'o'  'n'  'u'  'z'  'u'  'i'  'z'  'm'  'm'  'o'  'm'  'f'  's'  'm'  'e'  'p'  'f'  'k'  'o'  'c'  'v'  'l'  'v'  'g'  'w'  'j'  'p'     'a'  's'  's'  'h'  'u'  'd'  'p'  's'  'a'  'w'  'u'  'i'  'x'  'p'  'n'  'p'  'n'  'y'  'g'  'c'  'u'  'n'  'z'  'u'  'j'  'd'  'r'  'r'  'n'\n",
       " 'z'  'y'  'q'  'h'  'i'  'i'  'w'  's'  'h'  'l'  'o'  'n'  'f'  'q'  'p'  'w'  'c'  'l'  'o'  'e'  'x'  'b'  'l'  'y'  'w'  's'  'n'  'q'  'g'  'o'     'o'  'p'  'k'  's'  'i'  'a'  'e'  'h'  'r'  'x'  'z'  'k'  'm'  'w'  'k'  'm'  'g'  'a'  'u'  'a'  'l'  'n'  'z'  'r'  'f'  'p'  'm'  'j'  's'\n",
       " 'q'  'i'  'b'  'i'  't'  'u'  'd'  'e'  'f'  'd'  'w'  'k'  'k'  'g'  'k'  'm'  'y'  'h'  'n'  'b'  'e'  'l'  'a'  't'  'l'  'w'  'm'  'g'  'z'  'i'  …  'e'  'a'  'y'  'f'  'i'  'x'  'b'  't'  'k'  'v'  'a'  'i'  'w'  'y'  'v'  'q'  'u'  'm'  'e'  'h'  'a'  'i'  'e'  'u'  'l'  'q'  'm'  'o'  'j'\n",
       " 'k'  'm'  'g'  'r'  'v'  'u'  'm'  'a'  'y'  'i'  'y'  'l'  'z'  'u'  'k'  'b'  'm'  'r'  'n'  'l'  'b'  'f'  'q'  'o'  'u'  'l'  'm'  'p'  'b'  'r'     'z'  'y'  'h'  'y'  'o'  'u'  'a'  'r'  'o'  'd'  'q'  'l'  's'  'b'  'q'  'm'  'p'  'k'  'y'  'n'  'q'  'w'  'j'  'c'  'p'  'i'  'a'  'j'  'q'\n",
       " 'e'  'x'  'l'  'l'  't'  'k'  'h'  'c'  'a'  'v'  'p'  'f'  'q'  'i'  'q'  'k'  'l'  'n'  'q'  'n'  'd'  'd'  'z'  'l'  'p'  'k'  'a'  'e'  't'  'y'     'y'  'b'  'j'  'f'  'i'  'n'  'i'  'h'  'h'  'x'  'b'  'c'  't'  'b'  'e'  'a'  'o'  'j'  'h'  'g'  'k'  'v'  't'  'u'  'o'  'x'  'i'  'c'  'l'\n",
       " 'd'  'r'  'k'  'l'  'n'  'i'  'w'  'q'  'c'  'd'  'i'  'n'  'y'  'k'  'e'  'q'  'c'  'x'  'b'  'g'  'n'  'g'  'x'  'y'  'i'  'o'  'o'  'd'  'n'  'a'     'h'  's'  'w'  'f'  'd'  'v'  'j'  'p'  'k'  'm'  'r'  'p'  'm'  'k'  'i'  'n'  'c'  'h'  'k'  'e'  'r'  'a'  's'  'j'  'd'  'x'  'x'  'e'  'q'\n",
       " 'b'  'd'  'v'  'k'  'r'  'q'  'j'  'a'  'j'  'f'  'q'  'm'  'k'  'n'  'q'  'x'  'o'  'f'  'w'  'v'  'm'  'z'  'e'  'j'  'h'  'x'  'r'  'b'  'v'  's'     'n'  'j'  'k'  'n'  'n'  'v'  'q'  'w'  'e'  'w'  'x'  'b'  'z'  'p'  'f'  'p'  'i'  'n'  'i'  'd'  't'  'y'  'q'  'k'  'm'  'q'  'l'  's'  'j'\n",
       " 'g'  'a'  'i'  'j'  'n'  'x'  'f'  'h'  'e'  'h'  'h'  't'  'd'  'k'  'v'  'a'  'x'  'j'  'f'  's'  'h'  'i'  'p'  'p'  'z'  'd'  'z'  'f'  'o'  'h'  …  'b'  'p'  'c'  'c'  'z'  'f'  'j'  'v'  'g'  'e'  'm'  'g'  'h'  'r'  'h'  't'  'b'  'l'  'a'  't'  'j'  'w'  'k'  'j'  'n'  'j'  'n'  'h'  'n'\n",
       " 'l'  'y'  'l'  'n'  'c'  'x'  'c'  'c'  'v'  'a'  'j'  's'  'l'  'z'  'f'  'w'  'v'  'c'  'l'  'f'  'k'  'n'  'f'  'd'  'q'  'z'  't'  'f'  'j'  'q'     'u'  'o'  'i'  'f'  'c'  'y'  'c'  'x'  'j'  'c'  'l'  'r'  'd'  'f'  'd'  'q'  's'  'g'  'o'  'l'  'o'  'q'  'i'  'w'  't'  'q'  'm'  'k'  'm'\n",
       " 'j'  'i'  'n'  'l'  'k'  'z'  'o'  'l'  's'  'n'  'u'  'y'  'g'  'o'  'q'  'i'  'u'  'y'  'k'  'h'  'r'  'g'  'm'  'h'  'e'  't'  'o'  'b'  'l'  't'     'h'  'g'  'c'  'f'  't'  'q'  'z'  'p'  'z'  'n'  'c'  'a'  'n'  'c'  'b'  'y'  'w'  'r'  'm'  'j'  'd'  'g'  'y'  'q'  'l'  'j'  'u'  'y'  'n'\n",
       " 'a'  'l'  'a'  'p'  'v'  'k'  'a'  'z'  'v'  'a'  'k'  'f'  'h'  'v'  'g'  't'  'l'  'j'  'g'  'i'  'w'  'g'  'g'  'b'  'a'  'v'  'w'  'r'  'e'  'n'     'h'  'e'  'f'  'm'  't'  'f'  'u'  'n'  'o'  'v'  'o'  'm'  't'  'l'  'j'  'f'  'k'  'p'  'g'  'p'  'n'  'n'  'w'  'e'  'b'  'u'  'o'  'x'  'b'\n",
       " 't'  'y'  'w'  'd'  'g'  'o'  't'  'x'  'v'  'h'  'z'  'd'  'z'  'm'  'j'  's'  'r'  'd'  'i'  'v'  'v'  'h'  'a'  't'  'q'  't'  'y'  'f'  'i'  'i'     'f'  'g'  'd'  'c'  'e'  'j'  'a'  'a'  'z'  'd'  'u'  'r'  'e'  'p'  'q'  'a'  'n'  'q'  'g'  'd'  'w'  't'  'g'  'z'  'd'  'b'  'i'  'm'  'z'\n",
       " 'r'  'i'  'g'  'c'  'd'  'p'  's'  'q'  'o'  'v'  'q'  'u'  'y'  'e'  'p'  'a'  'b'  'v'  'r'  'h'  'y'  'w'  'g'  'z'  'a'  'l'  'l'  'u'  's'  'r'  …  'm'  'u'  'd'  'j'  'h'  'a'  'n'  'r'  'p'  'e'  'z'  'o'  'g'  'r'  'y'  'h'  'b'  'r'  'l'  'c'  'z'  'i'  'k'  'x'  'r'  's'  'f'  'i'  'a'\n",
       " 'd'  'y'  'j'  't'  'z'  'p'  't'  'u'  'b'  'h'  'm'  'e'  'd'  'e'  'e'  'e'  'k'  'i'  'm'  't'  'z'  'g'  'x'  'z'  'v'  'u'  'c'  'u'  'z'  'p'     'b'  'w'  'o'  'g'  'n'  'w'  'p'  'o'  'k'  'x'  'e'  'r'  'f'  'm'  'b'  'e'  'n'  'p'  's'  'c'  'h'  'w'  'x'  'y'  'f'  'b'  'm'  'g'  'x'\n",
       " 'x'  'q'  't'  'k'  'o'  'c'  'q'  'a'  'c'  'a'  's'  's'  'x'  'h'  'a'  'm'  'g'  'p'  'w'  'u'  'd'  'i'  'o'  'a'  'f'  'z'  'f'  'g'  'k'  'a'     'z'  'r'  's'  'l'  'r'  'v'  'd'  'n'  'u'  't'  'b'  'o'  'q'  'h'  'x'  'h'  'q'  'o'  'd'  'm'  'y'  's'  'n'  'p'  'x'  'a'  'w'  'j'  'y'\n",
       " 'p'  'g'  'd'  'u'  'd'  'm'  'k'  'h'  'a'  'k'  's'  's'  'b'  'o'  'o'  'n'  'l'  'e'  't'  'x'  'w'  'e'  'v'  't'  't'  't'  'w'  's'  'p'  'c'     'c'  'v'  'b'  's'  'v'  'g'  'm'  'j'  'n'  'w'  'l'  'i'  'j'  'w'  'm'  'd'  'w'  'e'  'z'  'g'  'i'  'k'  't'  'n'  'g'  'z'  'i'  'd'  'w'\n",
       " 'r'  's'  'a'  'g'  'o'  'p'  't'  'e'  'o'  'v'  's'  'o'  'x'  'n'  'm'  'u'  'h'  's'  'w'  't'  'a'  'n'  'w'  'h'  'w'  'f'  'q'  'o'  'b'  'w'     'c'  'j'  't'  's'  'r'  'q'  'k'  'p'  'n'  'u'  's'  'f'  'c'  'x'  'h'  'p'  'u'  'b'  'n'  'j'  'k'  'j'  'j'  'w'  'w'  'm'  'o'  'd'  'u'\n",
       " 'j'  'd'  'b'  'x'  'y'  'z'  'd'  'n'  'n'  'k'  'k'  'l'  'a'  'i'  'q'  'f'  'x'  'f'  'x'  'p'  'k'  'b'  'c'  'p'  'q'  'q'  'k'  'o'  's'  'y'  …  'l'  'n'  'd'  'd'  'b'  'u'  'n'  'j'  'f'  'p'  'l'  's'  'w'  'b'  't'  'o'  's'  'k'  'y'  'n'  'b'  'g'  'h'  'o'  'c'  'g'  'y'  'o'  'x'\n",
       " 'y'  'm'  'w'  'k'  'o'  'x'  'j'  'x'  's'  'r'  'n'  'e'  'y'  'b'  'd'  'j'  'o'  'g'  'h'  'x'  'f'  'v'  'm'  'd'  'i'  'a'  'i'  'x'  'g'  'i'     'u'  'v'  'f'  'n'  'i'  'r'  'c'  'k'  'z'  's'  'm'  'n'  'v'  'h'  'i'  'f'  'w'  'n'  'n'  'k'  'z'  'l'  'n'  'i'  'j'  'r'  'h'  'w'  'u'\n",
       " 'o'  'q'  'g'  's'  'g'  'q'  'm'  'u'  'v'  'm'  'x'  'e'  'h'  't'  'y'  'w'  's'  'z'  'g'  'd'  'w'  'q'  'z'  'k'  'd'  'x'  'v'  'd'  'k'  'z'     'v'  'p'  'c'  'l'  's'  'h'  'a'  'f'  'h'  'y'  'l'  'e'  'v'  's'  'q'  'c'  'e'  'n'  't'  'x'  'k'  'p'  'x'  'p'  'l'  'l'  'u'  'q'  'j'\n",
       " 'p'  'j'  'a'  't'  'z'  'q'  'x'  'k'  'n'  'v'  'f'  'u'  'c'  'v'  'y'  'r'  'e'  'f'  'c'  'h'  'f'  'k'  'c'  't'  'j'  'a'  'z'  'd'  'h'  't'     'n'  'c'  'v'  'p'  't'  'y'  'i'  'z'  'g'  'm'  'x'  's'  'n'  'q'  'h'  'l'  'm'  'f'  's'  'r'  'x'  'x'  'a'  'p'  'z'  'v'  't'  'v'  'd'\n",
       " 'n'  'c'  'k'  'f'  'h'  'g'  'f'  'o'  'a'  'x'  'p'  'x'  'm'  'k'  'c'  'b'  'q'  'd'  'o'  'j'  'v'  'n'  'f'  'd'  'q'  'o'  'm'  'b'  'v'  't'     'm'  'u'  'v'  'f'  'y'  'p'  'g'  'd'  'g'  'k'  'k'  'f'  'd'  't'  'q'  'j'  't'  'q'  'd'  'y'  'u'  'p'  'c'  'g'  'u'  's'  'q'  't'  'e'\n",
       " 'o'  'q'  'b'  's'  'u'  'd'  'l'  'v'  'x'  'v'  'w'  'w'  'y'  'g'  'l'  'l'  'f'  'j'  'b'  'a'  'r'  'w'  'h'  'w'  't'  's'  'j'  'h'  'o'  'd'  …  'u'  'e'  'i'  'c'  'l'  'h'  'b'  'w'  'y'  'a'  'g'  'y'  'u'  'e'  'e'  'v'  'k'  'v'  'y'  'x'  'a'  'l'  'o'  'b'  'h'  'r'  'e'  'q'  'o'\n",
       " 'a'  'a'  'q'  'k'  'i'  'c'  'l'  'b'  'j'  'j'  'l'  'g'  'r'  'o'  'd'  'b'  'o'  'w'  'b'  'u'  'g'  'p'  'r'  'j'  's'  'n'  'u'  'f'  'c'  'h'     'c'  'c'  'p'  'h'  'l'  'l'  'u'  't'  'z'  's'  'h'  'y'  'c'  'b'  'd'  'p'  'w'  'l'  'n'  'i'  'g'  'b'  'a'  'x'  'f'  'q'  'a'  'u'  'v'\n",
       " 'g'  'x'  'n'  'd'  'q'  'p'  't'  'f'  'q'  't'  'f'  'x'  'z'  'y'  'q'  'h'  'q'  'l'  'v'  'c'  'h'  'y'  'y'  'f'  'q'  'j'  's'  'i'  'h'  'q'     'l'  'l'  'm'  'm'  's'  'g'  'h'  'r'  'q'  'y'  'u'  'x'  'l'  'n'  'i'  'z'  'm'  'l'  'h'  'e'  'z'  'a'  'y'  's'  'g'  'a'  'k'  'w'  'c'\n",
       " 'v'  'q'  'u'  'c'  'f'  'y'  'a'  'o'  'g'  'l'  'd'  'h'  'u'  'a'  'p'  'n'  'q'  'a'  'w'  'i'  'd'  'n'  'q'  'x'  'f'  'e'  's'  'l'  'd'  'n'     'x'  'c'  'k'  'x'  'w'  'z'  'l'  'f'  'b'  's'  'n'  's'  'o'  'z'  'm'  'r'  'y'  'f'  'o'  'h'  'd'  'x'  'w'  'g'  'o'  'd'  't'  'u'  'd'\n",
       " 'a'  'f'  'e'  'd'  'c'  't'  't'  'm'  'r'  'y'  'j'  'o'  'q'  'c'  'v'  'm'  'h'  'a'  'd'  'd'  'w'  't'  'x'  'b'  'g'  'u'  'v'  'c'  'r'  'b'     'q'  'o'  'm'  'y'  'g'  'd'  'r'  't'  'c'  'c'  'f'  'a'  'r'  'r'  'k'  'k'  'o'  'w'  'x'  'v'  'm'  'f'  'b'  'v'  'h'  'u'  's'  'v'  'l'\n",
       " 'z'  'v'  'j'  'l'  'e'  'a'  'j'  'k'  'e'  'j'  'e'  'x'  'd'  'x'  'd'  'o'  's'  'i'  'z'  'r'  'p'  'e'  'd'  'w'  'k'  'g'  'd'  'p'  'q'  'g'  …  'n'  'k'  'z'  'k'  'v'  't'  'o'  'p'  'v'  'e'  'v'  'r'  'u'  'l'  'p'  'l'  'm'  'j'  'f'  'k'  'n'  'n'  'j'  'j'  'n'  'v'  'p'  'i'  'm'\n",
       " 'g'  'q'  'b'  'h'  'b'  'y'  'l'  'i'  'd'  'e'  'f'  'i'  'f'  'j'  'r'  'k'  'v'  'e'  'v'  'g'  'j'  'f'  'l'  'f'  'z'  'v'  'k'  'm'  'p'  'y'     'y'  'y'  'i'  'd'  'o'  'h'  'r'  'n'  'e'  'z'  'o'  'z'  'e'  'y'  's'  'b'  'm'  'u'  'x'  'j'  'i'  'a'  'u'  'n'  'v'  'a'  'q'  'o'  'z'\n",
       " 'h'  'l'  't'  'g'  't'  'y'  'q'  's'  't'  'j'  'n'  'u'  't'  'r'  'c'  'v'  'd'  'x'  'b'  'r'  'a'  'a'  'l'  'm'  'e'  'k'  'b'  'w'  'c'  'h'     'z'  'q'  'v'  'm'  'f'  'j'  'o'  'j'  'i'  'v'  't'  'm'  'u'  'p'  'k'  'z'  'k'  'v'  'm'  'c'  'd'  'c'  'o'  'o'  'v'  'd'  'z'  'm'  's'\n",
       " 'x'  'm'  'z'  't'  'f'  'h'  'p'  'x'  't'  'l'  'f'  'p'  'y'  'j'  'o'  'm'  'z'  'd'  'b'  'c'  'y'  'e'  'f'  'o'  'n'  'g'  'g'  'z'  'x'  'y'     'h'  'a'  'd'  'j'  'v'  's'  'i'  'i'  't'  'm'  'a'  'w'  'p'  'z'  'i'  'v'  'k'  'u'  'i'  'c'  'x'  'v'  'k'  'x'  'a'  'r'  'e'  'v'  'q'\n",
       " 'z'  's'  's'  'g'  's'  'b'  'y'  'u'  'b'  'f'  'i'  'i'  's'  'k'  'w'  't'  'a'  'z'  'q'  'q'  'm'  'b'  'v'  'q'  'a'  'k'  'n'  'a'  'i'  'n'     'q'  'a'  'u'  'z'  'w'  'v'  'y'  'e'  'q'  'i'  'c'  'e'  'o'  's'  'd'  'u'  'y'  'e'  'g'  'j'  'b'  'b'  'h'  't'  'l'  'n'  'n'  'q'  'g'\n",
       " 'v'  'u'  'k'  'h'  't'  'v'  'm'  'w'  'n'  'h'  'u'  'd'  'j'  'b'  'z'  'x'  'i'  'v'  'd'  'b'  'x'  'p'  'o'  'a'  'm'  'u'  'j'  'x'  'r'  'n'  …  'a'  'b'  'i'  'm'  'f'  't'  'm'  'd'  'n'  'w'  'v'  'm'  'u'  'o'  'g'  'v'  'v'  'h'  'v'  'n'  'l'  'w'  'f'  'r'  'b'  'l'  's'  'q'  't'\n",
       " 'g'  'd'  'y'  'c'  'b'  'z'  'p'  'o'  'f'  't'  'i'  'i'  'f'  'b'  'v'  's'  't'  'p'  'i'  'j'  'j'  'v'  'g'  'j'  'r'  'd'  'f'  'm'  'v'  'n'     'i'  's'  'r'  'e'  'j'  'u'  'w'  'j'  'p'  'g'  'r'  'y'  's'  'd'  'g'  'p'  'k'  'w'  'm'  'o'  'v'  'f'  'j'  'r'  'v'  'q'  'v'  'k'  'd'\n",
       " 'l'  'e'  't'  'm'  't'  'h'  'v'  'd'  'i'  'r'  'o'  's'  'q'  'n'  'r'  'n'  'b'  'n'  'k'  'u'  'r'  'z'  'c'  'y'  'h'  'r'  'v'  'x'  'a'  'i'     'e'  'z'  'y'  'r'  's'  'l'  'k'  'b'  'i'  'h'  'k'  'h'  's'  'e'  'n'  'g'  'c'  'u'  'p'  'g'  'i'  'a'  'u'  'j'  'z'  't'  'b'  'z'  'l'\n",
       " 'v'  'a'  'y'  'q'  'z'  'c'  's'  'y'  'v'  'i'  'q'  'p'  'y'  'j'  'u'  'a'  'g'  'j'  'y'  'd'  'p'  't'  'r'  'x'  'p'  'h'  'q'  'b'  'j'  'q'     'v'  'd'  'l'  'c'  'q'  'd'  'i'  'l'  'd'  'w'  'd'  'e'  'c'  'v'  'k'  'l'  'n'  'u'  'p'  'u'  'c'  'd'  'q'  'u'  'j'  'p'  'w'  'q'  'u'\n",
       " 'q'  'k'  'l'  'a'  'k'  'j'  'l'  'u'  'w'  'f'  's'  't'  'u'  't'  'i'  'x'  'y'  'j'  'o'  'i'  'x'  'o'  'x'  'u'  'i'  't'  'l'  'x'  'b'  'f'     'c'  'l'  'a'  'd'  'i'  'h'  'i'  'm'  'f'  'w'  'y'  'i'  'b'  'f'  'y'  'y'  'l'  'j'  'u'  's'  't'  'd'  'c'  'z'  'l'  'x'  'q'  'n'  'p'\n",
       " 'j'  'd'  's'  'l'  'g'  's'  'y'  'l'  'd'  'i'  'l'  'y'  'c'  'd'  'w'  'r'  'w'  'f'  'x'  'f'  'i'  'j'  'q'  'i'  'r'  'g'  'u'  'q'  'o'  'k'  …  'g'  'l'  'l'  'x'  'c'  'm'  'q'  'z'  'n'  'v'  'z'  'n'  'e'  'p'  't'  'i'  'k'  'r'  'p'  'p'  'a'  'r'  'p'  'b'  'p'  'w'  'f'  'u'  'e'\n",
       " 'e'  'k'  'x'  'n'  'e'  'o'  'f'  'z'  'u'  'h'  'w'  'h'  'u'  'z'  'w'  'l'  'a'  'v'  'n'  'u'  'h'  'd'  'r'  'k'  'r'  'e'  'd'  'a'  'w'  'e'     't'  's'  'g'  'f'  'a'  't'  'i'  'y'  'i'  't'  'd'  'f'  'p'  'j'  'x'  'e'  'f'  'i'  'p'  'i'  'x'  'k'  'p'  'z'  'h'  's'  'i'  'b'  'u'\n",
       " 'n'  'p'  'p'  'l'  's'  'c'  'x'  'd'  'j'  'y'  't'  'b'  'd'  'u'  'k'  'f'  'f'  'g'  'x'  'v'  'j'  'a'  'o'  'm'  'p'  'v'  'd'  'z'  'f'  'c'     'r'  'o'  'i'  'w'  'g'  'h'  'm'  'u'  'g'  'q'  'g'  'm'  'h'  'y'  'g'  't'  'g'  'y'  'e'  'n'  'e'  'v'  'a'  'h'  'n'  'e'  'l'  'i'  'w'\n",
       " 'u'  'm'  'u'  'e'  'n'  'y'  'i'  'm'  'v'  'y'  'j'  'm'  'o'  'h'  'x'  'x'  't'  'l'  'v'  'r'  'b'  'y'  'u'  's'  'i'  'y'  'b'  'n'  'i'  'i'     'z'  't'  'm'  'h'  'u'  'l'  'q'  'o'  'a'  'p'  'q'  't'  'a'  'f'  'o'  'o'  'l'  'o'  'a'  'x'  'o'  'j'  't'  'o'  'w'  'c'  'y'  't'  'v'\n",
       " 'b'  'v'  'a'  'a'  'y'  'a'  'w'  'g'  'h'  'h'  'f'  'f'  'h'  'x'  's'  'x'  'q'  'e'  'g'  'm'  'f'  'r'  't'  'd'  'f'  'y'  'k'  'y'  'j'  'l'     'e'  'h'  'q'  'e'  'q'  'f'  'c'  'e'  'b'  'v'  'l'  'l'  'w'  'w'  'f'  'f'  'h'  'i'  's'  'e'  'w'  'p'  'u'  'n'  'n'  'd'  'o'  'z'  'w'\n",
       " 'l'  'g'  'k'  'v'  'y'  'l'  'b'  'j'  'u'  'q'  'o'  'l'  'b'  'q'  'w'  'm'  's'  'u'  'f'  'a'  'x'  'x'  'm'  'n'  'b'  'v'  'g'  'x'  'x'  'j'  …  't'  'n'  'w'  'p'  'q'  'q'  'r'  'd'  'w'  'f'  'k'  'x'  'w'  'f'  'y'  'y'  'r'  'y'  'v'  'o'  'z'  'p'  'z'  'x'  'u'  'u'  'r'  't'  't'\n",
       " 'z'  'w'  'h'  'm'  'p'  'f'  'd'  'g'  'i'  'x'  'v'  'a'  'g'  'i'  'c'  'u'  'z'  'x'  'm'  's'  'r'  'd'  'c'  'n'  'd'  'l'  'n'  'd'  'm'  'q'     's'  'g'  'z'  'z'  'k'  'h'  'w'  'o'  's'  'x'  'x'  'd'  'o'  'i'  'z'  'j'  'u'  'j'  'r'  'j'  's'  'e'  't'  'b'  't'  's'  'o'  'c'  'p'\n",
       " 'm'  'n'  'e'  'q'  'r'  'r'  'l'  'o'  'h'  'm'  'b'  'u'  'd'  'v'  't'  'k'  'd'  'b'  'y'  'd'  'w'  'w'  'n'  'w'  'w'  'c'  'x'  'p'  't'  'n'     'l'  'd'  'o'  'f'  'z'  'w'  'n'  'x'  'f'  'v'  'h'  'q'  'm'  'z'  'o'  'b'  'g'  'k'  'o'  'c'  'k'  'k'  'h'  'p'  'm'  't'  'w'  'y'  'k'\n",
       " 'g'  'r'  'u'  'l'  'j'  's'  'v'  'e'  'm'  'd'  'v'  'f'  'm'  'v'  'f'  'u'  'm'  'w'  'd'  'g'  'v'  'r'  'y'  'h'  'l'  'w'  't'  'g'  's'  'f'     'i'  'v'  'c'  'm'  'o'  'v'  'n'  'a'  'h'  'p'  'p'  'a'  'q'  'i'  'g'  'h'  'b'  'e'  'w'  'c'  'j'  'w'  'y'  'x'  'b'  'y'  'h'  'h'  'v'\n",
       " 'a'  'a'  'u'  'd'  'r'  'c'  'l'  'r'  'u'  'n'  'n'  'v'  'k'  'h'  'w'  'w'  'r'  'z'  'o'  'd'  'u'  'j'  'h'  'f'  'e'  'k'  'm'  'x'  'x'  's'     's'  'h'  'h'  'j'  's'  'v'  'r'  'r'  'v'  'c'  'p'  'm'  'h'  'x'  'k'  'r'  'f'  'y'  'j'  'm'  'd'  'l'  'm'  'l'  'y'  'u'  'f'  'x'  'u'\n",
       " 'j'  'm'  'c'  'r'  'i'  'w'  'x'  'i'  'w'  'v'  'w'  'r'  's'  'e'  'q'  'c'  'e'  'q'  'u'  'n'  'f'  'g'  'j'  'p'  'c'  'y'  'r'  'p'  'f'  'r'  …  'y'  'o'  'l'  'a'  'j'  'v'  'a'  'q'  'v'  's'  'l'  'h'  'f'  'j'  's'  'd'  't'  'n'  'a'  'u'  'p'  'h'  'p'  'u'  'j'  'e'  'w'  'u'  'c'\n",
       " 'l'  'l'  'n'  'x'  'h'  'e'  'g'  'a'  'i'  'n'  's'  'r'  'w'  'o'  'a'  'n'  'd'  'z'  'r'  'l'  'i'  'k'  'u'  'l'  'o'  'n'  'i'  'c'  'e'  'o'     'v'  'n'  't'  'j'  'i'  'z'  'y'  'n'  'j'  'o'  'm'  'l'  'z'  'm'  'n'  'd'  'q'  'a'  'm'  'a'  'x'  't'  't'  's'  'r'  's'  'i'  'z'  'z'\n",
       " 'p'  'q'  'l'  'b'  'j'  'c'  'v'  'e'  'y'  'y'  'c'  'j'  't'  'a'  'a'  's'  'h'  'e'  'p'  'j'  'j'  'k'  'x'  'k'  'o'  'b'  'w'  'i'  'o'  't'     'c'  'l'  'x'  'e'  'v'  'f'  'z'  'd'  'z'  'q'  'h'  'v'  'g'  'e'  'r'  'n'  'y'  'h'  'f'  'p'  'a'  'i'  'b'  'l'  'u'  'y'  'w'  'u'  'k'\n",
       " 'x'  'r'  'c'  'e'  'p'  'l'  's'  'h'  'm'  'i'  'i'  'y'  'i'  't'  'q'  'x'  'y'  'a'  'm'  'p'  'j'  'p'  'k'  'q'  'v'  'w'  'w'  'p'  'd'  'm'     'l'  'v'  'h'  'k'  'z'  'q'  't'  'x'  'u'  's'  's'  'j'  'l'  'v'  'd'  'k'  'b'  'p'  'f'  'c'  'f'  'z'  'l'  'j'  'p'  'r'  'h'  'g'  'k'\n",
       " 'j'  'j'  'e'  'a'  'x'  'w'  'x'  'x'  'n'  'd'  'q'  'h'  'j'  'o'  'c'  'p'  'g'  'f'  'w'  'd'  'f'  'c'  'p'  'n'  'h'  'h'  'f'  'q'  'd'  's'     'z'  'g'  'p'  'u'  'l'  'j'  'b'  'd'  'g'  'j'  'm'  'm'  'g'  'f'  't'  'c'  'y'  'o'  'y'  'f'  'l'  'q'  'c'  't'  's'  'j'  'a'  'o'  's'\n",
       " 'f'  'q'  'p'  't'  's'  'a'  'y'  'o'  'v'  'u'  'u'  'n'  'r'  'i'  'q'  'w'  'y'  's'  'q'  'b'  'c'  'c'  'a'  'x'  'y'  'j'  'e'  'e'  'g'  's'  …  'k'  'f'  'v'  'n'  'n'  'v'  'f'  'i'  'k'  'x'  'i'  'v'  'c'  'g'  'c'  'c'  'n'  'r'  'e'  'u'  'o'  'g'  'v'  'c'  'g'  'k'  'j'  't'  'j'\n",
       " 'q'  'r'  'j'  'c'  'u'  'w'  'x'  'n'  'w'  't'  'b'  'd'  'n'  'n'  'x'  'y'  'e'  'j'  't'  'g'  'x'  'k'  'p'  'v'  'k'  'h'  'v'  'j'  'w'  'r'     'v'  'u'  'b'  'z'  'i'  's'  'o'  'a'  'p'  'z'  'f'  'h'  'k'  'z'  'p'  'm'  'n'  's'  'd'  'q'  'e'  'r'  'y'  'z'  'w'  'd'  'c'  'e'  'a'\n",
       " 'g'  'f'  't'  'o'  'i'  'v'  'j'  'a'  'u'  't'  'b'  'g'  's'  'o'  'e'  'h'  'd'  'o'  'd'  'r'  'g'  'r'  'x'  't'  'a'  'n'  'w'  'b'  'w'  't'     'x'  'v'  'b'  'x'  't'  'y'  'm'  'j'  'e'  'i'  'm'  'v'  'c'  'n'  'm'  'r'  'x'  'o'  's'  'o'  'i'  'm'  'q'  'h'  's'  'a'  'm'  'h'  'q'\n",
       " 'v'  'i'  'l'  'v'  'o'  'e'  'b'  'w'  'o'  'l'  'g'  'b'  'm'  'n'  'l'  'h'  'n'  'x'  'j'  'n'  'g'  't'  's'  'q'  'z'  'd'  'x'  'f'  'q'  'r'     'k'  'i'  'd'  'g'  'p'  'm'  'i'  'b'  'u'  's'  'j'  'b'  'c'  'f'  'w'  'x'  'z'  'x'  'l'  'a'  'x'  'h'  'h'  'a'  'j'  'i'  'b'  'q'  'r'\n",
       " 'f'  'q'  'k'  'i'  'g'  'a'  'f'  'k'  'l'  's'  'm'  'h'  'y'  'p'  'w'  'o'  'w'  'n'  'r'  'g'  'z'  'r'  'w'  'j'  'v'  'p'  'g'  'o'  'y'  'z'     's'  'p'  'l'  'e'  'e'  'd'  'y'  'p'  'd'  'o'  'e'  'o'  'y'  'v'  'b'  'y'  'y'  'c'  't'  'z'  'j'  'h'  'y'  'w'  'e'  'n'  'f'  'x'  'x'"
      ]
     },
     "execution_count": 36,
     "metadata": {},
     "output_type": "execute_result"
    }
   ],
   "source": [
    "aa = rand('a':'z', 100,100)"
   ]
  },
  {
   "cell_type": "code",
   "execution_count": null,
   "metadata": {
    "collapsed": true
   },
   "outputs": [],
   "source": []
  }
 ],
 "metadata": {
  "kernelspec": {
   "display_name": "Julia 0.3.7-pre debug",
   "language": "julia",
   "name": "julia 0.3 debug"
  },
  "language_info": {
   "name": "julia",
   "version": "0.3.7"
  }
 },
 "nbformat": 4,
 "nbformat_minor": 0
}
