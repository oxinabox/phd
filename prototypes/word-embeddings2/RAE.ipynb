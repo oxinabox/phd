{
 "cells": [
  {
   "cell_type": "code",
   "execution_count": null,
   "metadata": {
    "collapsed": false
   },
   "outputs": [],
   "source": [
    "ENV[\"LINES\"] = 30\n",
    "ENV[\"COLUMNS\"] = 300"
   ]
  },
  {
   "cell_type": "code",
   "execution_count": null,
   "metadata": {
    "collapsed": false
   },
   "outputs": [],
   "source": [
    "\n",
    "using Pipe"
   ]
  },
  {
   "cell_type": "code",
   "execution_count": null,
   "metadata": {
    "collapsed": false
   },
   "outputs": [],
   "source": [
    "function pz(x :: AbstractArray)\n",
    "    println(typeof(x), \": \", size(x))\n",
    "end"
   ]
  },
  {
   "cell_type": "code",
   "execution_count": 4,
   "metadata": {
    "collapsed": false
   },
   "outputs": [
    {
     "name": "stderr",
     "output_type": "stream",
     "text": [
      "/usr/local/lib/python2.7/dist-packages/numpy/core/fromnumeric.py:2499: VisibleDeprecationWarning: `rank` is deprecated; use the `ndim` attribute or function instead. To find the rank of a matrix see `numpy.linalg.matrix_rank`.\n",
      "  VisibleDeprecationWarning)\n"
     ]
    }
   ],
   "source": [
    "using PyCall\n",
    "@pyimport nltk"
   ]
  },
  {
   "cell_type": "code",
   "execution_count": 5,
   "metadata": {
    "collapsed": false
   },
   "outputs": [
    {
     "data": {
      "text/plain": [
       "tokenize (generic function with 1 method)"
      ]
     },
     "execution_count": 5,
     "metadata": {},
     "output_type": "execute_result"
    }
   ],
   "source": [
    "function tokenize(sentence::String)\n",
    "    convert(Array{String,1},nltk.word_tokenize(sentence))\n",
    "end"
   ]
  },
  {
   "cell_type": "code",
   "execution_count": 6,
   "metadata": {
    "collapsed": false
   },
   "outputs": [
    {
     "data": {
      "text/plain": [
       "load_embeddings (generic function with 1 method)"
      ]
     },
     "execution_count": 6,
     "metadata": {},
     "output_type": "execute_result"
    }
   ],
   "source": [
    "include(\"load_embeddings.jl\")"
   ]
  },
  {
   "cell_type": "code",
   "execution_count": 7,
   "metadata": {
    "collapsed": false
   },
   "outputs": [
    {
     "name": "stdout",
     "output_type": "stream",
     "text": [
      "(50,268810)\n",
      "Dict{String,BitArray{1}}\n",
      "Array{String,1}\n"
     ]
    }
   ],
   "source": [
    "LL,word_index,indexed_words =  load_embeddings(\"embeddings-scaled.EMBEDDING_SIZE=50.txt\");\n",
    "size(LL) |> println\n",
    "word_index|> typeof |> println\n",
    "indexed_words|> typeof |> println"
   ]
  },
  {
   "cell_type": "code",
   "execution_count": 66,
   "metadata": {
    "collapsed": false
   },
   "outputs": [
    {
     "data": {
      "text/plain": [
       "eval_embeddings (generic function with 2 methods)"
      ]
     },
     "execution_count": 66,
     "metadata": {},
     "output_type": "execute_result"
    }
   ],
   "source": [
    "typealias Embedding Vector{Float64}\n",
    "typealias Embeddings Matrix{Float64}\n",
    "typealias Words Union(AbstractArray{ASCIIString,1},AbstractArray{String,1})\n",
    "type RAE\n",
    "    L::Matrix{Float64}\n",
    "    word_index::Dict{String,BitVector}\n",
    "    indexed_words::Vector{String}\n",
    "    \n",
    "    W_e::Matrix{Float64}\n",
    "    W_d::Matrix{Float64}\n",
    "   \n",
    "end\n",
    "\n",
    "\n",
    "function RAE(L::Matrix{Float64}, word_index::Dict{String,BitVector}, indexed_words::Vector{String})\n",
    "    emb_width = size(L,1)\n",
    "    \n",
    "    W_e =0.01*randn(emb_width,emb_width*2+1) \n",
    "    #W_d = 0.01*randn(emb_width*2,emb_width+1)\n",
    "    W_d = [pinv(W_e)[1:end-1,:] zeros(size(pinv(W_e),1)-1) ] #Cheat (Actually why can't I always do this to initialize?);\n",
    "    RAE(L,word_index, indexed_words, W_e, W_d)\n",
    "end\n",
    "\n",
    "function eval_embedding(rae::RAE, input::String)\n",
    "    if haskey(word_index, input)\n",
    "        k = word_index[input]\n",
    "    elseif haskey(word_index, lowercase(input))\n",
    "        k = word_index[lowercase(input)]\n",
    "    else\n",
    "        k = word_index[\"*UNKNOWN*\"]\n",
    "        println(\"$input not found. Defaulting.\")\n",
    "    end\n",
    "    rae.L*k\n",
    "end\n",
    "\n",
    "function eval_embeddings(rae::RAE, inputs::Words)\n",
    "    ks= @pipe inputs |> map(ii -> word_index[ii], _) |> hcat(_...)\n",
    "    rae.L*ks\n",
    "end\n",
    "\n",
    "function eval_embeddings(rae::RAE, c_is::Embeddings, c_js::Embeddings)\n",
    "    @assert size(c_is)==size(c_js)\n",
    "    bias_in = ones(1,size([c_is], 2))\n",
    "    tanh(rae.W_e*[c_is;c_js;bias_in])\n",
    "end\n",
    "\n"
   ]
  },
  {
   "cell_type": "code",
   "execution_count": 57,
   "metadata": {
    "collapsed": false
   },
   "outputs": [
    {
     "data": {
      "text/plain": [
       "1-element Array{Int64,1}:\n",
       " 94906"
      ]
     },
     "execution_count": 57,
     "metadata": {},
     "output_type": "execute_result"
    }
   ],
   "source": [
    "find(word_index[\"*UNKNOWN*\"])"
   ]
  },
  {
   "cell_type": "code",
   "execution_count": 63,
   "metadata": {
    "collapsed": false
   },
   "outputs": [
    {
     "data": {
      "text/plain": [
       "\"a\""
      ]
     },
     "execution_count": 63,
     "metadata": {},
     "output_type": "execute_result"
    }
   ],
   "source": [
    "lowercase(\"A\")"
   ]
  },
  {
   "cell_type": "code",
   "execution_count": 9,
   "metadata": {
    "collapsed": false
   },
   "outputs": [
    {
     "data": {
      "text/plain": [
       "eval_scores (generic function with 1 method)"
      ]
     },
     "execution_count": 9,
     "metadata": {},
     "output_type": "execute_result"
    }
   ],
   "source": [
    "function eval_scores(rae::RAE, c_is::Embeddings, c_js::Embeddings)\n",
    "    pps=eval_embeddings(rae, c_is, c_js)\n",
    "    c_ijs = [c_is;c_js]\n",
    "    bias_in = ones(1,size(pps, 2))\n",
    "    ĉ_ijs = tanh(rae.W_d*[pps;bias_in])\n",
    "    \n",
    "    sum((c_ijs-ĉ_ijs).^2,1)\n",
    "end\n",
    "\n",
    "#A better scoring function is given in SorcherRAE (eaquation 6)\n"
   ]
  },
  {
   "cell_type": "code",
   "execution_count": 10,
   "metadata": {
    "collapsed": false
   },
   "outputs": [
    {
     "data": {
      "text/plain": [
       "eval_to_tree (generic function with 2 methods)"
      ]
     },
     "execution_count": 10,
     "metadata": {},
     "output_type": "execute_result"
    }
   ],
   "source": [
    "function eval_to_tree(rr::RAE,sentence::String)\n",
    "    eval_to_tree(rr, tokenize(sentence))\n",
    "end\n",
    "\n",
    "function eval_to_tree(rr::RAE, sentence::Words)\n",
    "    tree = tuple(sentence...)\n",
    "    cs = eval_embeddings(rr, sentence)\n",
    "    score_total = 0.0\n",
    "    while(size(cs,2)>1)\n",
    "        c_is = cs[:, 1:end-1]\n",
    "        c_js = cs[:, 2:end]\n",
    "        \n",
    "        pps = eval_embeddings(rr, c_is, c_js)\n",
    "        scores = eval_scores(rr, c_is, c_js)\n",
    "        im = indmax(scores)\n",
    "        \n",
    "        score_total+=scores[im]\n",
    "         \n",
    "        cs = [cs[:,1:im-1] pps[:,im] cs[:,im+2:end]]\n",
    "        tree = tuple(tree[1:im-1]..., (tree[im], tree[im+1]), tree[im+2:end]...)\n",
    "    end\n",
    "    tree = tree[1] #The final step creates a tuple containing one element, as first and last parts are empty\n",
    "    embedding = cs[:]\n",
    "    tree, embedding, score_total\n",
    "end\n"
   ]
  },
  {
   "cell_type": "code",
   "execution_count": null,
   "metadata": {
    "collapsed": false
   },
   "outputs": [],
   "source": [
    "rr = RAE(LL,word_index,indexed_words);\n",
    "\n",
    "sent = \"the boy destroyed the house\"\n",
    "sent_toks = tokenize(sent)\n",
    "\n",
    "tree, pp, score_total = eval_to_tree(rr,sent_toks)\n"
   ]
  },
  {
   "cell_type": "code",
   "execution_count": 15,
   "metadata": {
    "collapsed": false
   },
   "outputs": [
    {
     "ename": "LoadError",
     "evalue": "res not defined\nwhile loading In[15], in expression starting on line 30",
     "output_type": "error",
     "traceback": [
      "res not defined\nwhile loading In[15], in expression starting on line 30",
      ""
     ]
    }
   ],
   "source": [
    "using Optim\n",
    "\n",
    "rae_outer = RAE(LL,word_index,indexed_words);\n",
    "\n",
    "function unpack!(rae::RAE, θ::Vector)\n",
    "    W_e_len = length(rae.W_e)\n",
    "    W_d_len = length(rae.W_d)\n",
    "    W_e_shape = size(rae.W_e)\n",
    "    W_d_shape = size(rae.W_d)\n",
    "    \n",
    "    rae.W_e = reshape(θ[1:W_e_len],W_e_shape)\n",
    "    rae.W_d = reshape(θ[W_e_len+1:end],W_d_shape)\n",
    "    \n",
    "    rae\n",
    "end\n",
    "\n",
    "function pack(rae::RAE)\n",
    "    [rae.W_e[:], rae.W_d[:]] \n",
    "end\n",
    "\n",
    "function f(θ::Vector)\n",
    "    rae = unpack(rae_outer, θ)\n",
    "    \n",
    "    ŷ = feedforward(rae, data_train)[1]\n",
    "    error_rate(ŷ, lbls_train) \n",
    "end\n",
    "\n",
    "\n",
    "#res = optimize(f, pack(rae_outer), method=:l_bfgs, show_trace = true, iterations = 10)\n",
    "println(res)\n",
    "rae_outer = unpack(rae_outer, res.minimum)"
   ]
  },
  {
   "cell_type": "code",
   "execution_count": null,
   "metadata": {
    "collapsed": true
   },
   "outputs": [],
   "source": []
  },
  {
   "cell_type": "code",
   "execution_count": 33,
   "metadata": {
    "collapsed": false
   },
   "outputs": [],
   "source": [
    "using Iterators\n",
    "@pyimport nltk.corpus as nltk_corpus\n"
   ]
  },
  {
   "cell_type": "code",
   "execution_count": 23,
   "metadata": {
    "collapsed": false
   },
   "outputs": [
    {
     "name": "stdout",
     "output_type": "stream",
     "text": [
      "{\"The\",\"Fulton\",\"County\",\"Grand\",\"Jury\",\"said\",\"Friday\",\"an\",\"investigation\",\"of\",\"Atlanta's\",\"recent\",\"primary\",\"election\",\"produced\",\"``\",\"no\",\"evidence\",\"''\",\"that\",\"any\",\"irregularities\",\"took\",\"place\",\".\"}\n",
      "{\"The\",\"jury\",\"further\",\"said\",\"in\",\"term-end\",\"presentments\",\"that\",\"the\",\"City\",\"Executive\",\"Committee\",\",\",\"which\",\"had\",\"over-all\",\"charge\",\"of\",\"the\",\"election\",\",\",\"``\",\"deserves\",\"the\",\"praise\",\"and\",\"thanks\",\"of\",\"the\",\"City\",\"of\",\"Atlanta\",\"''\",\"for\",\"the\",\"manner\",\"in\",\"which\",\"the\",\"election\",\"was\",\"conducted\",\".\"}\n",
      "{\"The\",\"September-October\",\"term\",\"jury\",\"had\",\"been\",\"charged\",\"by\",\"Fulton\",\"Superior\",\"Court\",\"Judge\",\"Durwood\",\"Pye\",\"to\",\"investigate\",\"reports\",\"of\",\"possible\",\"``\",\"irregularities\",\"''\",\"in\",\"the\",\"hard-fought\",\"primary\",\"which\",\"was\",\"won\",\"by\",\"Mayor-nominate\",\"Ivan\",\"Allen\",\"Jr.\",\".\"}\n",
      "{\"``\",\"Only\",\"a\",\"relative\",\"handful\",\"of\",\"such\",\"reports\",\"was\",\"received\",\"''\",\",\",\"the\",\"jury\",\"said\",\",\",\"``\",\"considering\",\"the\",\"widespread\",\"interest\",\"in\",\"the\",\"election\",\",\",\"the\",\"number\",\"of\",\"voters\",\"and\",\"the\",\"size\",\"of\",\"this\",\"city\",\"''\",\".\"}\n",
      "{\"The\",\"jury\",\"said\",\"it\",\"did\",\"find\",\"that\",\"many\",\"of\",\"Georgia's\",\"registration\",\"and\",\"election\",\"laws\",\"``\",\"are\",\"outmoded\",\"or\",\"inadequate\",\"and\",\"often\",\"ambiguous\",\"''\",\".\"}\n",
      "{\"It\",\"recommended\",\"that\",\"Fulton\",\"legislators\",\"act\",\"``\",\"to\",\"have\",\"these\",\"laws\",\"studied\",\"and\",\"revised\",\"to\",\"the\",\"end\",\"of\",\"modernizing\",\"and\",\"improving\",\"them\",\"''\",\".\"}\n",
      "{\"The\",\"grand\",\"jury\",\"commented\",\"on\",\"a\",\"number\",\"of\",\"other\",\"topics\",\",\",\"among\",\"them\",\"the\",\"Atlanta\",\"and\",\"Fulton\",\"County\",\"purchasing\",\"departments\",\"which\",\"it\",\"said\",\"``\",\"are\",\"well\",\"operated\",\"and\",\"follow\",\"generally\",\"accepted\",\"practices\",\"which\",\"inure\",\"to\",\"the\",\"best\",\"interest\",\"of\",\"both\",\"governments\",\"''\",\".\"}\n",
      "{\"Merger\",\"proposed\"}\n",
      "{\"However\",\",\",\"the\",\"jury\",\"said\",\"it\",\"believes\",\"``\",\"these\",\"two\",\"offices\",\"should\",\"be\",\"combined\",\"to\",\"achieve\",\"greater\",\"efficiency\",\"and\",\"reduce\",\"the\",\"cost\",\"of\",\"administration\",\"''\",\".\"}\n",
      "{\"The\",\"City\",\"Purchasing\",\"Department\",\",\",\"the\",\"jury\",\"said\",\",\",\"``\",\"is\",\"lacking\",\"in\",\"experienced\",\"clerical\",\"personnel\",\"as\",\"a\",\"result\",\"of\",\"city\",\"personnel\",\"policies\",\"''\",\".\"}\n",
      "{\"It\",\"urged\",\"that\",\"the\",\"city\",\"``\",\"take\",\"steps\",\"to\",\"remedy\",\"''\",\"this\",\"problem\",\".\"}\n"
     ]
    }
   ],
   "source": [
    "for (ii,sent) in enumerate(nltk_corpus.brown[:sents]())\n",
    "    println(sent)\n",
    "    if ii>10\n",
    "        break\n",
    "    end\n",
    "end"
   ]
  },
  {
   "cell_type": "code",
   "execution_count": 71,
   "metadata": {
    "collapsed": false,
    "scrolled": true
   },
   "outputs": [
    {
     "data": {
      "text/plain": [
       "1000-element Array{Array{String,1},1}:\n",
       " String[\"The\",\"Fulton\",\"County\",\"Grand\",\"Jury\",\"said\",\"Friday\",\"an\",\"investigation\",\"of\"  …  \"``\",\"no\",\"evidence\",\"''\",\"that\",\"any\",\"irregularities\",\"took\",\"place\",\".\"]         \n",
       " String[\"The\",\"jury\",\"further\",\"said\",\"in\",\"term-end\",\"presentments\",\"that\",\"the\",\"City\"  …  \"for\",\"the\",\"manner\",\"in\",\"which\",\"the\",\"election\",\"was\",\"conducted\",\".\"]           \n",
       " String[\"The\",\"September-October\",\"term\",\"jury\",\"had\",\"been\",\"charged\",\"by\",\"Fulton\",\"Superior\"  …  \"primary\",\"which\",\"was\",\"won\",\"by\",\"Mayor-nominate\",\"Ivan\",\"Allen\",\"Jr.\",\".\"]\n",
       " String[\"``\",\"Only\",\"a\",\"relative\",\"handful\",\"of\",\"such\",\"reports\",\"was\",\"received\"  …  \"of\",\"voters\",\"and\",\"the\",\"size\",\"of\",\"this\",\"city\",\"''\",\".\"]                            \n",
       " String[\"The\",\"jury\",\"said\",\"it\",\"did\",\"find\",\"that\",\"many\",\"of\",\"Georgia's\"  …  \"``\",\"are\",\"outmoded\",\"or\",\"inadequate\",\"and\",\"often\",\"ambiguous\",\"''\",\".\"]                     \n",
       " String[\"It\",\"recommended\",\"that\",\"Fulton\",\"legislators\",\"act\",\"``\",\"to\",\"have\",\"these\"  …  \"to\",\"the\",\"end\",\"of\",\"modernizing\",\"and\",\"improving\",\"them\",\"''\",\".\"]               \n",
       " String[\"The\",\"grand\",\"jury\",\"commented\",\"on\",\"a\",\"number\",\"of\",\"other\",\"topics\"  …  \"inure\",\"to\",\"the\",\"best\",\"interest\",\"of\",\"both\",\"governments\",\"''\",\".\"]                    \n",
       " String[\"Merger\",\"proposed\"]                                                                                                                                                     \n",
       " String[\"However\",\",\",\"the\",\"jury\",\"said\",\"it\",\"believes\",\"``\",\"these\",\"two\"  …  \"greater\",\"efficiency\",\"and\",\"reduce\",\"the\",\"cost\",\"of\",\"administration\",\"''\",\".\"]              \n",
       " String[\"The\",\"City\",\"Purchasing\",\"Department\",\",\",\"the\",\"jury\",\"said\",\",\",\"``\"  …  \"personnel\",\"as\",\"a\",\"result\",\"of\",\"city\",\"personnel\",\"policies\",\"''\",\".\"]                   \n",
       " String[\"It\",\"urged\",\"that\",\"the\",\"city\",\"``\",\"take\",\"steps\",\"to\",\"remedy\",\"''\",\"this\",\"problem\",\".\"]                                                                            \n",
       " String[\"Implementation\",\"of\",\"Georgia's\",\"automobile\",\"title\",\"law\",\"was\",\"also\",\"recommended\",\"by\",\"the\",\"outgoing\",\"jury\",\".\"]                                                \n",
       " String[\"It\",\"urged\",\"that\",\"the\",\"next\",\"Legislature\",\"``\",\"provide\",\"enabling\",\"funds\"  …  \"orderly\",\"implementation\",\"of\",\"the\",\"law\",\"may\",\"be\",\"effected\",\"''\",\".\"]         \n",
       " ⋮                                                                                                                                                                               \n",
       " String[\"Friday\",\"afternoon\",\"the\",\"Rev.\",\"T.\",\"F.\",\"Zimmerman\",\"was\",\"reelected\",\"for\"  …  \"two-year\",\"term\",\"as\",\"general\",\"superintendent\",\"of\",\"Assemblies\",\"of\",\"God\",\".\"]  \n",
       " String[\"His\",\"offices\",\"are\",\"in\",\"Springfield\",\",\",\"Mo.\",\".\"]                                                                                                                  \n",
       " String[\"Election\",\"came\",\"on\",\"the\",\"nominating\",\"ballot\",\".\"]                                                                                                                  \n",
       " String[\"Friday\",\"night\",\"the\",\"delegates\",\"heard\",\"the\",\"need\",\"for\",\"their\",\"forthcoming\"  …  \"to\",\"fill\",\"the\",\"churches\",\"for\",\"the\",\"next\",\"two\",\"years\",\".\"]               \n",
       " String[\"In\",\"his\",\"opening\",\"address\",\"Wednesday\",\"the\",\"Rev.\",\"Mr.\",\"Zimmerman\",\",\"  …  \"Breakthrough\",\"''\",\"the\",\"theme\",\"for\",\"the\",\"first\",\"two\",\"years\",\".\"]               \n",
       " String[\"The\",\"Rev.\",\"R.\",\"L.\",\"Brandt\",\",\",\"national\",\"secretary\",\"of\",\"the\"  …  \"stressed\",\"the\",\"need\",\"for\",\"the\",\"first\",\"two\",\"years'\",\"work\",\".\"]                         \n",
       " String[\"``\",\"Surveys\",\"show\",\"that\",\"one\",\"out\",\"of\",\"three\",\"Americans\",\"has\",\"vital\",\"contact\",\"with\",\"the\",\"church\",\".\"]                                                     \n",
       " String[\"This\",\"means\",\"that\",\"more\",\"than\",\"100\",\"million\",\"have\",\"no\",\"vital\"  …  \"or\",\"religious\",\"life\",\"''\",\",\",\"he\",\"told\",\"delegates\",\"Friday\",\".\"]                       \n",
       " String[\"Church\",\"loses\",\"pace\"]                                                                                                                                                 \n",
       " String[\"Talking\",\"of\",\"the\",\"rapid\",\"population\",\"growth\",\"(\",\"upwards\",\"of\",\"12,000\"  …  \"has\",\"not\",\"been\",\"keeping\",\"pace\",\"with\",\"this\",\"challenge\",\"''\",\".\"]               \n",
       " String[\"``\",\"In\",\"35\",\"years\",\"we\",\"have\",\"opened\",\"7,000\",\"churches\",\"''\"  …  \"national\",\"goal\",\"of\",\"one\",\"church\",\"for\",\"every\",\"10,000\",\"persons\",\".\"]                      \n",
       " String[\"``\",\"In\",\"this\",\"light\",\"we\",\"need\",\"1,000\",\"churches\",\"in\",\"Illinois\",\",\",\"where\",\"we\",\"have\",\"200\",\";\",\";\"]                                                           "
      ]
     },
     "execution_count": 71,
     "metadata": {},
     "output_type": "execute_result"
    }
   ],
   "source": [
    "n_training = 1000\n",
    "sents = @pipe nltk_corpus.brown[:sents]() |> take(_,n_training)  |> collect |> convert(Vector{Vector{String}},_)\n"
   ]
  },
  {
   "cell_type": "code",
   "execution_count": 70,
   "metadata": {
    "collapsed": false
   },
   "outputs": [
    {
     "name": "stdout",
     "output_type": "stream",
     "text": [
      "Haandful not found. Defaulting.\n"
     ]
    },
    {
     "data": {
      "text/plain": [
       "50-element Array{Float64,1}:\n",
       "  0.0398781 \n",
       "  0.048215  \n",
       "  0.0176077 \n",
       " -0.0251486 \n",
       " -0.0627525 \n",
       "  0.0251626 \n",
       "  0.0117941 \n",
       "  0.0613618 \n",
       "  0.0182828 \n",
       "  0.028989  \n",
       "  0.0305115 \n",
       " -0.0174257 \n",
       "  0.0267883 \n",
       "  ⋮         \n",
       " -0.00159508\n",
       " -0.0682754 \n",
       " -0.0136059 \n",
       " -0.0243803 \n",
       " -0.0181979 \n",
       "  0.00254263\n",
       " -0.0295249 \n",
       " -0.0390804 \n",
       " -0.0137563 \n",
       "  0.0252652 \n",
       "  0.0304082 \n",
       "  0.0337324 "
      ]
     },
     "execution_count": 70,
     "metadata": {},
     "output_type": "execute_result"
    }
   ],
   "source": []
  },
  {
   "cell_type": "code",
   "execution_count": null,
   "metadata": {
    "collapsed": true
   },
   "outputs": [],
   "source": []
  },
  {
   "cell_type": "code",
   "execution_count": null,
   "metadata": {
    "collapsed": false
   },
   "outputs": [],
   "source": [
    "#tree data in tree is not use, other than it's structure.\n",
    "#(((\"the\",\"house\"),(\"destroyed\",(\"the\",\"boy\")))  is equivalent to (((\"\",\"\"),(\"\",(\"\",\"\"))) \n",
    "\n",
    "function reconstruct(rae::RAE, pp::Embedding)\n",
    "    bias_in = 1\n",
    "    ĉ_ijs = tanh(rae.W_d*[pp;bias_in])\n",
    "    ĉ_is = ĉ_ijs[1:end/2]\n",
    "    ĉ_js = ĉ_ijs[end/2+1:end]\n",
    "    ĉ_is, ĉ_js\n",
    "end\n",
    "\n",
    "function unfold(rae::RAE, tree::(String,String), pp::Embedding)\n",
    "    ĉ_is, ĉ_js = reconstruct(rae, pp)\n",
    "    [ĉ_is ĉ_js]\n",
    "end\n",
    "\n",
    "\n",
    "function unfold(rae::RAE, tree::(Any,String), pp::Embedding)\n",
    "    p̂_is, ĉ_js = reconstruct(rae, pp)\n",
    "    ĉ_is = unfold(rae, tree[1], p̂_is)\n",
    "    [ĉ_is ĉ_js]\n",
    "end\n",
    "\n",
    "function unfold(rae::RAE, tree::(String,Any), pp::Embedding)\n",
    "    ĉ_is, p̂_js = reconstruct(rae, pp)\n",
    "    ĉ_js = unfold(rae, tree[2], p̂_js)\n",
    "    [ĉ_is ĉ_js]\n",
    "    \n",
    "end\n",
    "\n",
    "function unfold(rae::RAE, tree::(Any,Any), pp::Embedding)\n",
    "    p̂_is, p̂_js = reconstruct(rae, pp)\n",
    "    ĉ_is = unfold(rae, tree[1], p̂_is)\n",
    "    ĉ_js = unfold(rae, tree[2], p̂_js)\n",
    "    [ĉ_is ĉ_js]\n",
    "end\n",
    "\n",
    "    "
   ]
  },
  {
   "cell_type": "code",
   "execution_count": null,
   "metadata": {
    "collapsed": false
   },
   "outputs": [],
   "source": [
    "tree, pp, score_total = eval_to_tree(rr,\"killer cows\")\n",
    "ĉs = unfold(rr,tree,pp)\n",
    "\n",
    "show_bests(rr, ĉs)\n"
   ]
  },
  {
   "cell_type": "code",
   "execution_count": null,
   "metadata": {
    "collapsed": false
   },
   "outputs": [],
   "source": [
    "function cosine_dist(a,b)\n",
    "    (a⋅b)/(norm(a)*norm(b))\n",
    "end\n",
    "\n",
    "function neighbour_dists(cc::Vector{Float64}, globe::Matrix{Float64})\n",
    "    [cosine_dist(cc, globe[:,ii]) for ii in 1:size(globe,2)]\n",
    "end\n",
    "\n",
    "\n",
    "function show_best(rae::RAE,ĉ::Embedding, nbest=20)\n",
    "    candidates=neighbour_dists(ĉ,rae.L)   \n",
    "    best_cands = [ (findfirst(candidates,score), score)\n",
    "                    for score in select(candidates,1:nbest, rev=true)[1:nbest]]\n",
    "    vcat([[rae.indexed_words[ii] score] for (ii,score) in best_cands]...)\n",
    "end\n",
    "\n",
    "function show_bests(rae::RAE,ĉs::Embeddings, nbest=20)\n",
    "    hcat([show_best(rae,ĉs[:,ii],nbest) for ii in 1:size(ĉs,2)]...)\n",
    "end\n"
   ]
  },
  {
   "cell_type": "code",
   "execution_count": null,
   "metadata": {
    "collapsed": false
   },
   "outputs": [],
   "source": [
    "function depth_inc(ele::(Int,String))\n",
    "    (ele[1]+1,ele[2])\n",
    "end\n",
    "\n",
    "function unfold_struct(tree::(Any,Any))\n",
    "    left_tree = unfold_struct(tree[1]) \n",
    "    left = @pipe left_tree |> map(depth_inc,_)\n",
    "    right_tree = unfold_struct(tree[2]) \n",
    "    right = @pipe right_tree |> map(depth_inc,_)\n",
    "    [left, right, (0,\"\")]\n",
    "end\n",
    "\n",
    "function unfold_struct(tree::(Any,String))\n",
    "    left_tree = unfold_struct(tree[1]) \n",
    "    left = @pipe left_tree |> map(depth_inc,_)\n",
    "    [left, (0,tree[2]), (0,\"\")]\n",
    "end\n",
    "function unfold_struct(tree::(String,Any))\n",
    "    right_tree = unfold_struct(tree[2]) \n",
    "    right = @pipe right_tree |> map(depth_inc,_)\n",
    "    [(0,tree[1]),right, (0,\"\")]\n",
    "end\n",
    "function unfold_struct(tree::(String,String))\n",
    "    [(0,tree[1]), (0, tree[2]), (0,\"\")]\n",
    "end\n",
    "\n",
    "function print_tree(tree::(Any,Any))\n",
    "    \n",
    "    for (depth,word ) in unfold_struct(tree)\n",
    "        println(\"\\t\"^depth, word)\n",
    "    end\n",
    "end"
   ]
  }
 ],
 "metadata": {
  "kernelspec": {
   "display_name": "Julia 0.3.7-pre debug",
   "language": "julia",
   "name": "julia 0.3 debug"
  },
  "language_info": {
   "name": "julia",
   "version": "0.3.7"
  }
 },
 "nbformat": 4,
 "nbformat_minor": 0
}
