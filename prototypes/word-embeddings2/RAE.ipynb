{
 "cells": [
  {
   "cell_type": "code",
   "execution_count": 38,
   "metadata": {
    "collapsed": false
   },
   "outputs": [
    {
     "data": {
      "text/plain": [
       "300"
      ]
     },
     "execution_count": 38,
     "metadata": {},
     "output_type": "execute_result"
    }
   ],
   "source": [
    "ENV[\"LINES\"] = 30\n",
    "ENV[\"COLUMNS\"] = 300"
   ]
  },
  {
   "cell_type": "code",
   "execution_count": 3,
   "metadata": {
    "collapsed": false
   },
   "outputs": [],
   "source": [
    "\n",
    "using Pipe"
   ]
  },
  {
   "cell_type": "code",
   "execution_count": 4,
   "metadata": {
    "collapsed": false
   },
   "outputs": [
    {
     "data": {
      "text/plain": [
       "pz (generic function with 1 method)"
      ]
     },
     "execution_count": 4,
     "metadata": {},
     "output_type": "execute_result"
    }
   ],
   "source": [
    "function pz(x :: AbstractArray)\n",
    "    println(typeof(x), \": \", size(x))\n",
    "end"
   ]
  },
  {
   "cell_type": "code",
   "execution_count": 5,
   "metadata": {
    "collapsed": false
   },
   "outputs": [
    {
     "name": "stderr",
     "output_type": "stream",
     "text": [
      "/usr/local/lib/python2.7/dist-packages/numpy/core/fromnumeric.py:2499: VisibleDeprecationWarning: `rank` is deprecated; use the `ndim` attribute or function instead. To find the rank of a matrix see `numpy.linalg.matrix_rank`.\n",
      "  VisibleDeprecationWarning)\n"
     ]
    }
   ],
   "source": [
    "using PyCall\n",
    "@pyimport nltk"
   ]
  },
  {
   "cell_type": "code",
   "execution_count": 6,
   "metadata": {
    "collapsed": false
   },
   "outputs": [
    {
     "data": {
      "text/plain": [
       "tokenize (generic function with 1 method)"
      ]
     },
     "execution_count": 6,
     "metadata": {},
     "output_type": "execute_result"
    }
   ],
   "source": [
    "function tokenize(sentence::String)\n",
    "    convert(Array{String,1},nltk.word_tokenize(sentence))\n",
    "end"
   ]
  },
  {
   "cell_type": "code",
   "execution_count": 7,
   "metadata": {
    "collapsed": false
   },
   "outputs": [
    {
     "data": {
      "text/plain": [
       "load_embeddings (generic function with 1 method)"
      ]
     },
     "execution_count": 7,
     "metadata": {},
     "output_type": "execute_result"
    }
   ],
   "source": [
    "include(\"load_embeddings.jl\")"
   ]
  },
  {
   "cell_type": "code",
   "execution_count": 8,
   "metadata": {
    "collapsed": false
   },
   "outputs": [
    {
     "name": "stdout",
     "output_type": "stream",
     "text": [
      "(50,268810)\n",
      "Dict{String,BitArray{1}}\n",
      "Array{String,1}\n"
     ]
    }
   ],
   "source": [
    "LL,word_index,indexed_words =  load_embeddings(\"embeddings-scaled.EMBEDDING_SIZE=50.txt\");\n",
    "size(LL) |> println\n",
    "word_index|> typeof |> println\n",
    "indexed_words|> typeof |> println"
   ]
  },
  {
   "cell_type": "code",
   "execution_count": 9,
   "metadata": {
    "collapsed": false
   },
   "outputs": [
    {
     "data": {
      "text/plain": [
       "eval_embeddings (generic function with 2 methods)"
      ]
     },
     "execution_count": 9,
     "metadata": {},
     "output_type": "execute_result"
    }
   ],
   "source": [
    "typealias Embedding Vector{Float64}\n",
    "typealias Embeddings Matrix{Float64}\n",
    "typealias Words Union(AbstractArray{ASCIIString,1},AbstractArray{String,1})\n",
    "type RAE\n",
    "    L::Matrix{Float64}\n",
    "    word_index::Dict{String,BitVector}\n",
    "    indexed_words::Vector{String}\n",
    "    \n",
    "    W_e::Matrix{Float64}\n",
    "    W_d::Matrix{Float64}\n",
    "   \n",
    "end\n",
    "\n",
    "\n",
    "function RAE(L::Matrix{Float64}, word_index::Dict{String,BitVector}, indexed_words::Vector{String})\n",
    "    emb_width = size(L,1)\n",
    "    \n",
    "    W_e =0.01*randn(emb_width,emb_width*2+1) \n",
    "    #W_d = 0.01*randn(emb_width*2,emb_width+1)\n",
    "    W_d = [pinv(W_e)[1:end-1,:] zeros(size(pinv(W_e),1)-1) ] #Cheat (Actually why can't I always do this to initialize?);\n",
    "    RAE(L,word_index, indexed_words, W_e, W_d)\n",
    "end\n",
    "\n",
    "function eval_embedding(rae::RAE, input::String)\n",
    "    k= word_index[ii]\n",
    "    rae.L*k\n",
    "end\n",
    "\n",
    "function eval_embeddings(rae::RAE, inputs::Words)\n",
    "    ks= @pipe inputs |> map(ii -> word_index[ii], _) |> hcat(_...)\n",
    "    rae.L*ks\n",
    "end\n",
    "\n",
    "function eval_embeddings(rae::RAE, c_is::Embeddings, c_js::Embeddings)\n",
    "    @assert size(c_is)==size(c_js)\n",
    "    bias_in = ones(1,size([c_is], 2))\n",
    "    tanh(rae.W_e*[c_is;c_js;bias_in])\n",
    "end\n",
    "\n"
   ]
  },
  {
   "cell_type": "code",
   "execution_count": 10,
   "metadata": {
    "collapsed": false
   },
   "outputs": [
    {
     "data": {
      "text/plain": [
       "eval_scores (generic function with 1 method)"
      ]
     },
     "execution_count": 10,
     "metadata": {},
     "output_type": "execute_result"
    }
   ],
   "source": [
    "function eval_scores(rae::RAE, c_is::Embeddings, c_js::Embeddings)\n",
    "    pps=eval_embeddings(rae, c_is, c_js)\n",
    "    c_ijs = [c_is;c_js]\n",
    "    bias_in = ones(1,size(pps, 2))\n",
    "    ĉ_ijs = tanh(rae.W_d*[pps;bias_in])\n",
    "    \n",
    "    sum((c_ijs-ĉ_ijs).^2,1)\n",
    "end\n"
   ]
  },
  {
   "cell_type": "code",
   "execution_count": 148,
   "metadata": {
    "collapsed": false
   },
   "outputs": [
    {
     "data": {
      "text/plain": [
       "eval_to_tree (generic function with 2 methods)"
      ]
     },
     "execution_count": 148,
     "metadata": {},
     "output_type": "execute_result"
    }
   ],
   "source": [
    "function eval_to_tree(rr::RAE,sentence::String)\n",
    "    eval_to_tree(rr, tokenize(sentence))\n",
    "end\n",
    "\n",
    "function eval_to_tree(rr::RAE, sentence::Words)\n",
    "    tree = tuple(sentence...)\n",
    "    cs = eval_embeddings(rr, sentence)\n",
    "    score_total = 0.0\n",
    "    while(size(cs,2)>1)\n",
    "        c_is = cs[:, 1:end-1]\n",
    "        c_js = cs[:, 2:end]\n",
    "        \n",
    "        pps = eval_embeddings(rr, c_is, c_js)\n",
    "        scores = eval_scores(rr, c_is, c_js)\n",
    "        im = indmax(scores)\n",
    "        \n",
    "        score_total+=scores[im]\n",
    "         \n",
    "        cs = [cs[:,1:im-1] pps[:,im] cs[:,im+2:end]]\n",
    "        tree = tuple(tree[1:im-1]..., (tree[im], tree[im+1]), tree[im+2:end]...)\n",
    "    end\n",
    "    tree = tree[1] #The final step creates a tuple containing one element, as first and last parts are empty\n",
    "    embedding = cs[:]\n",
    "    tree, embedding, score_total\n",
    "end\n"
   ]
  },
  {
   "cell_type": "code",
   "execution_count": 164,
   "metadata": {
    "collapsed": false
   },
   "outputs": [
    {
     "data": {
      "text/plain": [
       "(((\"the\",\"boy\"),(\"destroyed\",(\"the\",\"house\"))),[0.0214169,-0.00536514,0.00615191,-0.00153357,0.0158808,-0.00435284,-0.00463049,0.00217613,-0.00856859,0.0171683  …  0.000850085,0.00711771,0.00133812,0.0036469,0.00375145,0.0124213,-0.00547713,0.0223813,0.00619695,-0.00629083],12.581912730517956)"
      ]
     },
     "execution_count": 164,
     "metadata": {},
     "output_type": "execute_result"
    }
   ],
   "source": [
    "rr = RAE(LL,word_index,indexed_words);\n",
    "\n",
    "sent = \"the boy destroyed the house\"\n",
    "sent_toks = tokenize(sent)\n",
    "\n",
    "tree, pp, score_total = eval_to_tree(rr,sent_toks)\n"
   ]
  },
  {
   "cell_type": "code",
   "execution_count": 151,
   "metadata": {
    "collapsed": false
   },
   "outputs": [
    {
     "data": {
      "text/plain": [
       "unfold (generic function with 4 methods)"
      ]
     },
     "execution_count": 151,
     "metadata": {},
     "output_type": "execute_result"
    }
   ],
   "source": [
    "#tree data in tree is not use, other than it's structure.\n",
    "#(((\"the\",\"house\"),(\"destroyed\",(\"the\",\"boy\")))  is equivalent to (((\"\",\"\"),(\"\",(\"\",\"\"))) \n",
    "\n",
    "function reconstruct(rae::RAE, pp::Embedding)\n",
    "    bias_in = 1\n",
    "    ĉ_ijs = tanh(rae.W_d*[pp;bias_in])\n",
    "    ĉ_is = ĉ_ijs[1:end/2]\n",
    "    ĉ_js = ĉ_ijs[end/2+1:end]\n",
    "    ĉ_is, ĉ_js\n",
    "end\n",
    "\n",
    "function unfold(rae::RAE, tree::(String,String), pp::Embedding)\n",
    "    ĉ_is, ĉ_js = reconstruct(rae, pp)\n",
    "    [ĉ_is ĉ_js]\n",
    "end\n",
    "\n",
    "\n",
    "function unfold(rae::RAE, tree::(Any,String), pp::Embedding)\n",
    "    p̂_is, ĉ_js = reconstruct(rae, pp)\n",
    "    ĉ_is = unfold(rae, tree[1], p̂_is)\n",
    "    [ĉ_is ĉ_js]\n",
    "end\n",
    "\n",
    "function unfold(rae::RAE, tree::(String,Any), pp::Embedding)\n",
    "    ĉ_is, p̂_js = reconstruct(rae, pp)\n",
    "    ĉ_js = unfold(rae, tree[2], p̂_js)\n",
    "    [ĉ_is ĉ_js]\n",
    "    \n",
    "end\n",
    "\n",
    "function unfold(rae::RAE, tree::(Any,Any), pp::Embedding)\n",
    "    p̂_is, p̂_js = reconstruct(rae, pp)\n",
    "    ĉ_is = unfold(rae, tree[1], p̂_is)\n",
    "    ĉ_js = unfold(rae, tree[2], p̂_js)\n",
    "    [ĉ_is ĉ_js]\n",
    "end\n",
    "\n",
    "    "
   ]
  },
  {
   "cell_type": "code",
   "execution_count": 167,
   "metadata": {
    "collapsed": false
   },
   "outputs": [
    {
     "data": {
      "text/plain": [
       "20x4 Array{Any,2}:\n",
       " \"killer\"       0.853416  \"cows\"         0.693514\n",
       " \"elder\"        0.685059  \"wax\"          0.669501\n",
       " \"MRTA\"         0.656065  \"gloves\"       0.665464\n",
       " \"PRD\"          0.652857  \"smog\"         0.644174\n",
       " \"young\"        0.636397  \"trees\"        0.641096\n",
       " \"female\"       0.635095  \"ink\"          0.630874\n",
       " \"killers\"      0.629722  \"helmets\"      0.627258\n",
       " \"pilot\"        0.615603  \"vitamins\"     0.621529\n",
       " \"veteran\"      0.614612  \"insects\"      0.613549\n",
       " \"prestigious\"  0.611901  \"allergies\"    0.607636\n",
       " \"UVF\"          0.609147  \"motorcycles\"  0.607245\n",
       " \"animated\"     0.608794  \"plutonium\"    0.603155\n",
       " \"academic\"     0.606901  \"clothes\"      0.602247\n",
       " \"Sandinista\"   0.606661  \"rigidity\"     0.601668\n",
       " \"sect\"         0.603418  \"addicts\"      0.600928\n",
       " \"flamboyant\"   0.602693  \"beard\"        0.598731\n",
       " \"PRI\"          0.601258  \"wind\"         0.597801\n",
       " \"child\"        0.6005    \"condoms\"      0.597552\n",
       " \"CIA\"          0.600131  \"panties\"      0.592773\n",
       " \"charismatic\"  0.599295  \"species\"      0.591938"
      ]
     },
     "execution_count": 167,
     "metadata": {},
     "output_type": "execute_result"
    }
   ],
   "source": [
    "tree, pp, score_total = eval_to_tree(rr,\"killer cows\")\n",
    "ĉs = unfold(rr,tree,pp)\n",
    "\n",
    "show_bests(rr, ĉs)\n"
   ]
  },
  {
   "cell_type": "code",
   "execution_count": 16,
   "metadata": {
    "collapsed": false
   },
   "outputs": [
    {
     "data": {
      "text/plain": [
       "show_bests (generic function with 2 methods)"
      ]
     },
     "execution_count": 16,
     "metadata": {},
     "output_type": "execute_result"
    }
   ],
   "source": [
    "function cosine_dist(a,b)\n",
    "    (a⋅b)/(norm(a)*norm(b))\n",
    "end\n",
    "\n",
    "function neighbour_dists(cc::Vector{Float64}, globe::Matrix{Float64})\n",
    "    [cosine_dist(cc, globe[:,ii]) for ii in 1:size(globe,2)]\n",
    "end\n",
    "\n",
    "\n",
    "function show_best(rae::RAE,ĉ::Embedding, nbest=20)\n",
    "    candidates=neighbour_dists(ĉ,rae.L)   \n",
    "    best_cands = [ (findfirst(candidates,score), score)\n",
    "                    for score in select(candidates,1:nbest, rev=true)[1:nbest]]\n",
    "    vcat([[rae.indexed_words[ii] score] for (ii,score) in best_cands]...)\n",
    "end\n",
    "\n",
    "function show_bests(rae::RAE,ĉs::Embeddings, nbest=20)\n",
    "    hcat([show_best(rae,ĉs[:,ii],nbest) for ii in 1:size(ĉs,2)]...)\n",
    "end\n"
   ]
  },
  {
   "cell_type": "code",
   "execution_count": 161,
   "metadata": {
    "collapsed": false
   },
   "outputs": [
    {
     "data": {
      "text/plain": [
       "print_tree (generic function with 1 method)"
      ]
     },
     "execution_count": 161,
     "metadata": {},
     "output_type": "execute_result"
    }
   ],
   "source": [
    "function depth_inc(ele::(Int,String))\n",
    "    (ele[1]+1,ele[2])\n",
    "end\n",
    "\n",
    "function unfold_struct(tree::(Any,Any))\n",
    "    left_tree = unfold_struct(tree[1]) \n",
    "    left = @pipe left_tree |> map(depth_inc,_)\n",
    "    right_tree = unfold_struct(tree[2]) \n",
    "    right = @pipe right_tree |> map(depth_inc,_)\n",
    "    [left, right, (0,\"\")]\n",
    "end\n",
    "\n",
    "function unfold_struct(tree::(Any,String))\n",
    "    left_tree = unfold_struct(tree[1]) \n",
    "    left = @pipe left_tree |> map(depth_inc,_)\n",
    "    [left, (0,tree[2]), (0,\"\")]\n",
    "end\n",
    "function unfold_struct(tree::(String,Any))\n",
    "    right_tree = unfold_struct(tree[2]) \n",
    "    right = @pipe right_tree |> map(depth_inc,_)\n",
    "    [(0,tree[1]),right, (0,\"\")]\n",
    "end\n",
    "function unfold_struct(tree::(String,String))\n",
    "    [(0,tree[1]), (0, tree[2]), (0,\"\")]\n",
    "end\n",
    "\n",
    "function print_tree(tree::(Any,Any))\n",
    "    \n",
    "    for (depth,word ) in unfold_struct(tree)\n",
    "        println(\"\\t\"^depth, word)\n",
    "    end\n",
    "end"
   ]
  },
  {
   "cell_type": "code",
   "execution_count": 149,
   "metadata": {
    "collapsed": false
   },
   "outputs": [
    {
     "name": "stdout",
     "output_type": "stream",
     "text": [
      "\tthe\n",
      "\thouse\n",
      "\t\n",
      "\tdestroyed\n",
      "\t\tthe\n",
      "\t\tboy\n",
      "\t\t\n",
      "\t\n",
      "\n"
     ]
    }
   ],
   "source": [
    "print_tree(tree)"
   ]
  },
  {
   "cell_type": "code",
   "execution_count": 46,
   "metadata": {
    "collapsed": false
   },
   "outputs": [],
   "source": [
    "using DataStructures"
   ]
  },
  {
   "cell_type": "code",
   "execution_count": 48,
   "metadata": {
    "collapsed": false
   },
   "outputs": [
    {
     "data": {
      "text/plain": [
       "list([1,2,3,4])"
      ]
     },
     "execution_count": 48,
     "metadata": {},
     "output_type": "execute_result"
    }
   ],
   "source": [
    "aa=list([1,2,3,4])"
   ]
  },
  {
   "cell_type": "code",
   "execution_count": 49,
   "metadata": {
    "collapsed": false
   },
   "outputs": [
    {
     "ename": "LoadError",
     "evalue": "`getindex` has no method matching getindex(::Cons{Array{Int64,1}}, ::Int64)\nwhile loading In[49], in expression starting on line 1",
     "output_type": "error",
     "traceback": [
      "`getindex` has no method matching getindex(::Cons{Array{Int64,1}}, ::Int64)\nwhile loading In[49], in expression starting on line 1",
      ""
     ]
    }
   ],
   "source": [
    "aa[2]"
   ]
  },
  {
   "cell_type": "code",
   "execution_count": null,
   "metadata": {
    "collapsed": true
   },
   "outputs": [],
   "source": [
    "function word_adjancy_matrix(sentence_len::Int)\n",
    "    #TODO: Replace this whole adjancy matrix with a linked list\n",
    "    [(ii==jj+1) || (ii==jj-1)  for ii in 1:sentence_len, jj in 1:sentence_len]\n",
    "end\n",
    "\n",
    "\n",
    "function eval_to_tree(rr::RAE,sentence::String)\n",
    "    eval_to_tree(rr, tokenize(sentence))\n",
    "end\n",
    "\n",
    "function eval_to_tree(rr::RAE, sentence::Words)\n",
    "    backlookup = sentence\n",
    "    cs = eval_embeddings(rr, backlookup)\n",
    "    AA = word_adjancy_matrix(size(cs,2))\n",
    "    \n",
    "    score_total = 0.0\n",
    "    while(any(AA))\n",
    "        iis, jjs = findn(AA)\n",
    "\n",
    "        pps = eval_embeddings(rr, cs[:,iis],cs[:,jjs])\n",
    "        scores = eval_scores(rr, cs[:,iis],cs[:,jjs])\n",
    "        best_pair_ind = indmax(scores)\n",
    "        \n",
    "\n",
    "        ii_best = iis[best_pair_ind]\n",
    "        jj_best = jjs[best_pair_ind]\n",
    "        pp_best = pps[:,best_pair_ind]\n",
    "        score_total+=scores[best_pair_ind]\n",
    "        \n",
    "        cs = [cs pp_best]\n",
    "        backlookup = [backlookup, (backlookup[ii_best],backlookup[jj_best])]\n",
    "        \n",
    "        #Adjust Adjacency Matrix\n",
    "\n",
    "        AA[ii_best,jj_best] = false\n",
    "        AA[jj_best,ii_best] = false\n",
    "        AA = [AA; AA[ii_best,:] | AA[jj_best,:]] # Add row\n",
    "        AA = [AA AA[:,ii_best] | AA[:,jj_best]] # Add col\n",
    "        AA[ii_best,:] = AA[jj_best,:] = false\n",
    "        AA[:,ii_best] = AA[:,jj_best] = false #Remove anything that was adjacent to old\n",
    "\n",
    "    end\n",
    "    tree = backlookup[end]\n",
    "    embedding = cs[:,end]\n",
    "    tree, embedding, score_total\n",
    "end\n"
   ]
  }
 ],
 "metadata": {
  "kernelspec": {
   "display_name": "Julia 0.3.7-pre debug",
   "language": "julia",
   "name": "julia 0.3 debug"
  },
  "language_info": {
   "name": "julia",
   "version": "0.3.7"
  }
 },
 "nbformat": 4,
 "nbformat_minor": 0
}
