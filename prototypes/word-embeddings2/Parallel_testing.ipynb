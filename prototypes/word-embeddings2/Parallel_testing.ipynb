{
 "cells": [
  {
   "cell_type": "code",
   "execution_count": 1,
   "metadata": {
    "collapsed": true
   },
   "outputs": [],
   "source": [
    "using Pipe"
   ]
  },
  {
   "cell_type": "code",
   "execution_count": 2,
   "metadata": {
    "collapsed": false
   },
   "outputs": [
    {
     "name": "stderr",
     "output_type": "stream",
     "text": [
      "expr: syntax error\n",
      "expr: syntax error\n",
      "expr: syntax error\n"
     ]
    },
    {
     "data": {
      "text/plain": [
       "1-element Array{Any,1}:\n",
       " 8"
      ]
     },
     "execution_count": 2,
     "metadata": {},
     "output_type": "execute_result"
    }
   ],
   "source": [
    "addprocs([\"heathred\"])\n",
    "addprocs([\"amon\"], dir=\"\")"
   ]
  },
  {
   "cell_type": "code",
   "execution_count": 3,
   "metadata": {
    "collapsed": false
   },
   "outputs": [
    {
     "data": {
      "text/plain": [
       "1440.0"
      ]
     },
     "execution_count": 3,
     "metadata": {},
     "output_type": "execute_result"
    }
   ],
   "source": [
    "data = [float([eye(100),eye(100)])[:] for _ in 1:9000]\n",
    "\n",
    "(sizeof(data[1])*length(data))/(1000*1000)"
   ]
  },
  {
   "cell_type": "code",
   "execution_count": 4,
   "metadata": {
    "collapsed": false
   },
   "outputs": [
    {
     "data": {
      "text/plain": [
       "get_chunks (generic function with 1 method)"
      ]
     },
     "execution_count": 4,
     "metadata": {},
     "output_type": "execute_result"
    }
   ],
   "source": []
  },
  {
   "cell_type": "code",
   "execution_count": 11,
   "metadata": {
    "collapsed": false
   },
   "outputs": [
    {
     "data": {
      "text/plain": [
       "chunk_data (generic function with 1 method)"
      ]
     },
     "execution_count": 11,
     "metadata": {},
     "output_type": "execute_result"
    }
   ],
   "source": [
    "function get_chunks(data::Vector, nchunks::Int)\n",
    "    base_len, remainder = divrem(length(data),nchunks)\n",
    "    chunk_len = fill(base_len,nchunks)\n",
    "    chunk_len[1:remainder]+=1 #remained will always be less than nw\n",
    "    function _it() \n",
    "        for ii in 1:nchunks\n",
    "            chunk_start = sum(chunk_len[1:ii-1])+1\n",
    "            chunk_end = chunk_start + chunk_len[ii] -1\n",
    "            chunk = data[chunk_start: chunk_end]\n",
    "            produce(chunk)\n",
    "        end\n",
    "    end\n",
    "    Task(_it)\n",
    "end\n",
    "\n",
    "function chunk_data(data_name::Symbol, data::Vector)\n",
    "    function save_chunk(chunk::Vector)\n",
    "        eval(:(global $data_name; $data_name=$chunk));\n",
    "        nothing\n",
    "    end\n",
    "\n",
    "    chunks = get_chunks(data, nworkers())\n",
    "    @sync for (pid,chunk) in zip(workers(),chunks)\n",
    "        remotecall(pid, save_chunk, chunk) \n",
    "    end\n",
    "end\n",
    "\n",
    "function prechunked_mapreduce(data_name::Symbol, map_fun::Function, red_acc::Function)\n",
    "    function do_mapred(dummy)\n",
    "        @pipe data_name |> eval |> map(map_fun,_) |> reduce(red_acc, _)\n",
    "        #reduce(red_acc,map(map_fun,eval(data_name)))\n",
    "    end\n",
    "    \n",
    "    rem_results = @pipe workers() |> map(pid->remotecall(pid,do_mapred, nothing), _)\n",
    "    @pipe rem_results |> map(fetch,_) |> reduce(red_acc, _)\n",
    "end"
   ]
  },
  {
   "cell_type": "code",
   "execution_count": 12,
   "metadata": {
    "collapsed": false
   },
   "outputs": [
    {
     "data": {
      "text/plain": [
       "prechunked_mapreduce (generic function with 1 method)"
      ]
     },
     "execution_count": 12,
     "metadata": {},
     "output_type": "execute_result"
    }
   ],
   "source": []
  },
  {
   "cell_type": "code",
   "execution_count": 13,
   "metadata": {
    "collapsed": false
   },
   "outputs": [
    {
     "name": "stdout",
     "output_type": "stream",
     "text": [
      "9000\n",
      "\tFrom worker 2:\t1286\n",
      "\tFrom worker 7:\t1285\n",
      "\tFrom worker 6:\t1286\n",
      "\tFrom worker 8:\t1285\n",
      "\tFrom worker 3:\t1286\n",
      "\tFrom worker 4:\t1286\n",
      "\tFrom worker 5:\t1286\n"
     ]
    }
   ],
   "source": [
    "chunk_data(:data, data)\n",
    "@everywhere println(length(data))"
   ]
  },
  {
   "cell_type": "code",
   "execution_count": 16,
   "metadata": {
    "collapsed": false
   },
   "outputs": [
    {
     "name": "stdout",
     "output_type": "stream",
     "text": [
      "elapsed time: 0.051323719 seconds (45060 bytes allocated)\n"
     ]
    },
    {
     "data": {
      "text/plain": [
       "90.00000000000007"
      ]
     },
     "execution_count": 16,
     "metadata": {},
     "output_type": "execute_result"
    }
   ],
   "source": [
    "@time prechunked_mapreduce(:data, mean, (+))"
   ]
  },
  {
   "cell_type": "code",
   "execution_count": 17,
   "metadata": {
    "collapsed": false
   },
   "outputs": [
    {
     "name": "stdout",
     "output_type": "stream",
     "text": [
      "elapsed time: 0.177577029 seconds (216144 bytes allocated)\n"
     ]
    },
    {
     "data": {
      "text/plain": [
       "90.00000000000007"
      ]
     },
     "execution_count": 17,
     "metadata": {},
     "output_type": "execute_result"
    }
   ],
   "source": [
    "@time reduce(+,map(mean,data))"
   ]
  },
  {
   "cell_type": "code",
   "execution_count": null,
   "metadata": {
    "collapsed": false
   },
   "outputs": [],
   "source": []
  },
  {
   "cell_type": "code",
   "execution_count": null,
   "metadata": {
    "collapsed": false
   },
   "outputs": [],
   "source": [
    "function test()\n",
    "    @parallel (+) for ii in data\n",
    "        mean(ii)\n",
    "    end\n",
    "end"
   ]
  },
  {
   "cell_type": "code",
   "execution_count": null,
   "metadata": {
    "collapsed": false
   },
   "outputs": [],
   "source": [
    "Profile.clear\n",
    "Profile.init(delay=0.01)\n",
    "\n",
    "@profile test()\n"
   ]
  },
  {
   "cell_type": "code",
   "execution_count": null,
   "metadata": {
    "collapsed": false
   },
   "outputs": [],
   "source": [
    "@time test()"
   ]
  },
  {
   "cell_type": "code",
   "execution_count": null,
   "metadata": {
    "collapsed": false
   },
   "outputs": [],
   "source": [
    "using ProfileView\n",
    "ProfileView.view()"
   ]
  },
  {
   "cell_type": "code",
   "execution_count": null,
   "metadata": {
    "collapsed": false
   },
   "outputs": [],
   "source": [
    "function test_one()\n",
    "    total = 0\n",
    "    for ii in data\n",
    "        total+=mean(ii)\n",
    "    end\n",
    "end"
   ]
  },
  {
   "cell_type": "code",
   "execution_count": null,
   "metadata": {
    "collapsed": false
   },
   "outputs": [],
   "source": [
    "\n",
    "@time test_one()"
   ]
  },
  {
   "cell_type": "code",
   "execution_count": null,
   "metadata": {
    "collapsed": false
   },
   "outputs": [],
   "source": [
    "ProfileView.view()"
   ]
  },
  {
   "cell_type": "code",
   "execution_count": null,
   "metadata": {
    "collapsed": true
   },
   "outputs": [],
   "source": []
  }
 ],
 "metadata": {
  "kernelspec": {
   "display_name": "Julia 0.3.8",
   "language": "julia",
   "name": "julia-0.3"
  },
  "language_info": {
   "name": "julia",
   "version": "0.3.8"
  }
 },
 "nbformat": 4,
 "nbformat_minor": 0
}
