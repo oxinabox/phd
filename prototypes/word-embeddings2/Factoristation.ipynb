{
 "cells": [
  {
   "cell_type": "code",
   "execution_count": 94,
   "metadata": {
    "collapsed": false
   },
   "outputs": [
    {
     "data": {
      "text/plain": [
       "load_embeddings (generic function with 1 method)"
      ]
     },
     "execution_count": 94,
     "metadata": {},
     "output_type": "execute_result"
    }
   ],
   "source": [
    "include(\"load_embeddings.jl\")"
   ]
  },
  {
   "cell_type": "code",
   "execution_count": 3,
   "metadata": {
    "collapsed": false
   },
   "outputs": [
    {
     "data": {
      "text/plain": [
       "PhraseEmbedder (constructor with 3 methods)"
      ]
     },
     "execution_count": 3,
     "metadata": {},
     "output_type": "execute_result"
    }
   ],
   "source": [
    "type PhraseEmbedder\n",
    "    L ::Matrix{Float64} #Word Embedding Matrix\n",
    "    e :: Dict{String,BitVector} #Word to its one hot representation\n",
    "    indexed_words::Vector{String} #Index back to word\n",
    "    W ::Matrix{Float64} #Word Combination Matrix \n",
    "    iW ::Matrix{Float64} #pseudo-inverse Word Combination Matrix\n",
    "end\n",
    "\n",
    "function PhraseEmbedder(WW, LL, ee, indexed_words)\n",
    "    PhraseEmbedder(LL, ee, indexed_words, WW, pinv(WW))\n",
    "end"
   ]
  },
  {
   "cell_type": "code",
   "execution_count": 4,
   "metadata": {
    "collapsed": false,
    "scrolled": true
   },
   "outputs": [
    {
     "data": {
      "text/plain": [
       "(50,268810)"
      ]
     },
     "execution_count": 4,
     "metadata": {},
     "output_type": "execute_result"
    }
   ],
   "source": [
    "LL,ee,indexed_words =  load_embeddings(\"embeddings-scaled.EMBEDDING_SIZE=50.txt\");\n"
   ]
  },
  {
   "cell_type": "code",
   "execution_count": 66,
   "metadata": {
    "collapsed": false
   },
   "outputs": [
    {
     "data": {
      "text/plain": [
       "(50,268810)"
      ]
     },
     "execution_count": 66,
     "metadata": {},
     "output_type": "execute_result"
    }
   ],
   "source": [
    "WW = 0.1*randn(size(LL,1),2*size(LL,1))\n",
    "\n",
    "phrase_emb = PhraseEmbedder(WW, LL, ee, indexed_words);\n",
    "size(LL)"
   ]
  },
  {
   "cell_type": "code",
   "execution_count": 67,
   "metadata": {
    "collapsed": false,
    "scrolled": true
   },
   "outputs": [
    {
     "data": {
      "text/plain": [
       "embed (generic function with 1 method)"
      ]
     },
     "execution_count": 67,
     "metadata": {},
     "output_type": "execute_result"
    }
   ],
   "source": [
    "function embed(pe::PhraseEmbedder, word1, word2)\n",
    "    c1c2 = [pe.L*(pe.e[word1]), pe.L*pe.e[word2]];\n",
    "    p12 = tanh(pe.W*c1c2);\n",
    "end"
   ]
  },
  {
   "cell_type": "code",
   "execution_count": 68,
   "metadata": {
    "collapsed": false
   },
   "outputs": [
    {
     "data": {
      "text/plain": [
       "neighbour_dists (generic function with 1 method)"
      ]
     },
     "execution_count": 68,
     "metadata": {},
     "output_type": "execute_result"
    }
   ],
   "source": [
    "function cosine_dist(a,b)\n",
    "    (a⋅b)/(norm(a)*norm(b))\n",
    "end\n",
    "\n",
    "function neighbour_dists(cc::Vector{Float64}, globe::Matrix{Float64})\n",
    "    [cosine_dist(cc, globe[:,ii]) for ii in 1:size(globe,2)]\n",
    "end\n"
   ]
  },
  {
   "cell_type": "code",
   "execution_count": null,
   "metadata": {
    "collapsed": false
   },
   "outputs": [],
   "source": []
  },
  {
   "cell_type": "code",
   "execution_count": 81,
   "metadata": {
    "collapsed": false,
    "scrolled": true
   },
   "outputs": [
    {
     "data": {
      "text/plain": [
       "resynth (generic function with 2 methods)"
      ]
     },
     "execution_count": 81,
     "metadata": {},
     "output_type": "execute_result"
    }
   ],
   "source": [
    "function show_best(pe::PhraseEmbedder, candidates, nbest=20)\n",
    "        best_cands = [ (findfirst(candidates,score), score)\n",
    "                        for score in select(candidates,1:nbest, rev=true)[1:nbest]]\n",
    "        vcat([[pe.indexed_words[ii] score] for (ii,score) in best_cands]...)\n",
    "    end\n",
    "\n",
    "function resynth(pe::PhraseEmbedder, p12, nbest=5)  \n",
    "    ĉ1 = (pe.iW*atanh(p12)) [1:50]\n",
    "    ĉ2 = (pe.iW*atanh(p12)) [51:100];\n",
    "    ê1_candidates=neighbour_dists(ĉ1,pe.L)\n",
    "    ê2_candidates=neighbour_dists(ĉ2,pe.L)\n",
    "    [show_best(pe, ê1_candidates,nbest) show_best(pe, ê2_candidates,nbest)]\n",
    "end"
   ]
  },
  {
   "cell_type": "code",
   "execution_count": 82,
   "metadata": {
    "collapsed": false
   },
   "outputs": [
    {
     "data": {
      "text/plain": [
       "26x4 Array{Any,2}:\n",
       " \"evaporating\"       0.661644  \"man\"          0.730985\n",
       " \"mistyped\"          0.65391   \"insistence\"   0.671059\n",
       " \"impinging\"         0.640174  \"referees\"     0.658096\n",
       " \"mutated\"           0.636294  \"artist\"       0.648675\n",
       " \"meaningless.\"      0.635216  \"aggression\"   0.64698 \n",
       " \"interacting\"       0.61948   \"species\"      0.645078\n",
       " \"bending\"           0.612059  \"Pope\"         0.64331 \n",
       " \"thumbing\"          0.610788  \"youth\"        0.643148\n",
       " \"bunching\"          0.60364   \"referee\"      0.632438\n",
       " \"stockpicking\"      0.603497  \"driver\"       0.62801 \n",
       " \"well-aimed\"        0.602395  \"Democrat\"     0.623901\n",
       " \"sleeplessness\"     0.598432  \"weapon\"       0.623435\n",
       " \"converging\"        0.5977    \"flag\"         0.619023\n",
       " \"non-conforming\"    0.59676   \"gunboat\"      0.618838\n",
       " \"well-capitalised\"  0.59649   \"defences\"     0.617618\n",
       " \"underrated\"        0.594866  \"kids\"         0.616917\n",
       " \"challenging.\"      0.592742  \"orientation\"  0.615816\n",
       " \"respectful\"        0.590245  \"settler\"      0.614634\n",
       " \"imparting\"         0.588758  \"sport\"        0.613085\n",
       " \"banditry\"          0.585761  \"album\"        0.611178\n",
       " \"predicated\"        0.585265  \"pilot\"        0.609866\n",
       " \"submitted.\"        0.584902  \"scanner\"      0.607383\n",
       " \"airworthy\"         0.584769  \"horse\"        0.606305\n",
       " \"multiplying\"       0.579897  \"women\"        0.605557\n",
       " \"impacting\"         0.579667  \"powers\"       0.604596\n",
       " \"landlord-tenant\"   0.579623  \"parade\"       0.604453"
      ]
     },
     "execution_count": 82,
     "metadata": {},
     "output_type": "execute_result"
    }
   ],
   "source": [
    "words = split(\"foolish man\")\n",
    "pp = embed(phrase_emb, words...)\n",
    "resynth(phrase_emb, pp,26)"
   ]
  },
  {
   "cell_type": "code",
   "execution_count": 71,
   "metadata": {
    "collapsed": false
   },
   "outputs": [
    {
     "data": {
      "text/plain": [
       "embed_12_3 (generic function with 1 method)"
      ]
     },
     "execution_count": 71,
     "metadata": {},
     "output_type": "execute_result"
    }
   ],
   "source": [
    "function embed_12_3(pe::PhraseEmbedder, word1, word2, word3)\n",
    " \n",
    "end"
   ]
  },
  {
   "cell_type": "code",
   "execution_count": 92,
   "metadata": {
    "collapsed": false
   },
   "outputs": [
    {
     "data": {
      "text/plain": [
       "\"the\""
      ]
     },
     "execution_count": 92,
     "metadata": {},
     "output_type": "execute_result"
    }
   ],
   "source": [
    "pe = phrase_emb\n",
    "word1 = \"a\"\n",
    "word2 = \"an\"\n",
    "word3 = \"the\"\n",
    "\n",
    "\n"
   ]
  },
  {
   "cell_type": "code",
   "execution_count": 93,
   "metadata": {
    "collapsed": false,
    "scrolled": true
   },
   "outputs": [
    {
     "data": {
      "text/plain": [
       "20x6 Array{Any,2}:\n",
       " \"slided\"          0.541224  \"outlawed\"         …  \"the\"             0.689449\n",
       " \"hire-purchase\"   0.525807  \"ACT\"                 \"The\"             0.598609\n",
       " \"participating.\"  0.515988  \"Moslem-majority\"     \"Basel\"           0.574183\n",
       " \"Emblaze\"         0.513615  \"continued.\"          \"Uribe\"           0.548154\n",
       " \"unrivaled\"       0.512558  \"pro-British\"         \"Basque\"          0.544355\n",
       " \"melded\"          0.512258  \"strikes.\"         …  \"Constitutional\"  0.532194\n",
       " \"Abbreviated\"     0.507599  \"loyalist\"            \"undefeated\"      0.527619\n",
       " \"unratified\"      0.506303  \"Favoured\"            \"next\"            0.525303\n",
       " \"Britrain\"        0.505244  \"Basque\"              \"another\"         0.522995\n",
       " \"unutilised\"      0.494179  \"Fatherland\"          \"shuttle\"         0.510541\n",
       " \"civilisational\"  0.490582  \"insists\"          …  \"at\"              0.503717\n",
       " \"antidilutive\"    0.488746  \"PLA\"                 \"Zulu\"            0.500902\n",
       " \"recapitalized\"   0.487065  \"Flemish\"             \"Lihir\"           0.49994 \n",
       " \"99-100\"          0.484765  \"notables\"            \"RUC\"             0.49767 \n",
       " \"diopsites\"       0.482958  \"conservative\"        \"Paris-bound\"     0.497553\n",
       " \"ChartMaxx\"       0.482536  \"CiU\"              …  \"British-style\"   0.494832\n",
       " \"one-thousand\"    0.482532  \"OIC\"                 \"ex-Rwandan\"      0.493457\n",
       " \"copper-trading\"  0.481632  \"Armed\"               \"Gali\"            0.493423\n",
       " \"consolidatory\"   0.480451  \"sweetness\"           \"Liechtenstein\"   0.491905\n",
       " \"imperiled\"       0.478477  \"Kenyan\"              \"Tajik\"           0.489905"
      ]
     },
     "execution_count": 93,
     "metadata": {},
     "output_type": "execute_result"
    }
   ],
   "source": [
    "p12 = embed(pe, word1, word2)\n",
    "c3 = pe.L*pe.e[word3]\n",
    "p12_3 = tanh(pe.W*[p12; c3])\n",
    "\n",
    "ĉ12 = (pe.iW*atanh(p12_3)) [1:50]\n",
    "ĉ3 = (pe.iW*atanh(p12_3)) [51:100];\n",
    "\n",
    "ĉ1 = (pe.iW*atanh(ĉ12)) [1:50]\n",
    "ĉ2 = (pe.iW*atanh(ĉ12)) [51:100];\n",
    "\n",
    "\n",
    "ê1_candidates=neighbour_dists(ĉ1,pe.L)\n",
    "ê2_candidates=neighbour_dists(ĉ2,pe.L)\n",
    "ê3_candidates=neighbour_dists(ĉ3,pe.L)\n",
    "\n",
    "[show_best(pe, ê1_candidates) show_best(pe, ê2_candidates) show_best(pe, ê3_candidates)]"
   ]
  },
  {
   "cell_type": "code",
   "execution_count": null,
   "metadata": {
    "collapsed": false
   },
   "outputs": [],
   "source": []
  },
  {
   "cell_type": "code",
   "execution_count": 64,
   "metadata": {
    "collapsed": false
   },
   "outputs": [
    {
     "name": "stdout",
     "output_type": "stream",
     "text": [
      "Base.atanh(x)\n",
      "\n",
      "   Compute the inverse hyperbolic tangent of \"x\"\n"
     ]
    }
   ],
   "source": [
    "help(atanh)"
   ]
  },
  {
   "cell_type": "code",
   "execution_count": null,
   "metadata": {
    "collapsed": true
   },
   "outputs": [],
   "source": []
  }
 ],
 "metadata": {
  "kernelspec": {
   "display_name": "Julia 0.3.7-pre debug",
   "language": "julia",
   "name": "julia 0.3 debug"
  },
  "language_info": {
   "name": "julia",
   "version": "0.3.7"
  }
 },
 "nbformat": 4,
 "nbformat_minor": 0
}
