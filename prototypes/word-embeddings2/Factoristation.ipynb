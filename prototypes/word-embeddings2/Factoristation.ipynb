{
 "cells": [
  {
   "cell_type": "code",
   "execution_count": 1,
   "metadata": {
    "collapsed": false
   },
   "outputs": [
    {
     "data": {
      "text/plain": [
       "load_embeddings (generic function with 1 method)"
      ]
     },
     "execution_count": 1,
     "metadata": {},
     "output_type": "execute_result"
    }
   ],
   "source": [
    "#returns `LL` embedding matrix and onehot lookup `ee`,\n",
    "#Such that `LL*ee[\"example\"]` returns the word embedding for \"example\"\n",
    "function load_embeddings(embedding_file)\n",
    "    embeddingsDict = Dict{String,Vector{Float64}}()\n",
    "    #sizehint!(embeddings, 268810)\n",
    "    for line in eachline(open(embedding_file))\n",
    "        fields = line |> split\n",
    "        word = fields[1]\n",
    "        vec = map(parsefloat, fields[2:end])\n",
    "        embeddingsDict[word] = vec\n",
    "    end\n",
    "    embeddingsDict\n",
    "    \n",
    "    LL = hcat(collect(values(embeddingsDict))...)\n",
    "    ee = [key=>setindex!(BitArray(length(embeddingsDict)), true, ii) \n",
    "                for (ii,key) in enumerate(keys(embeddingsDict))]\n",
    "    indexed_word = embeddingsDict |> keys |> collect\n",
    "    \n",
    "    LL,ee, indexed_word\n",
    "end"
   ]
  },
  {
   "cell_type": "code",
   "execution_count": 2,
   "metadata": {
    "collapsed": false
   },
   "outputs": [
    {
     "data": {
      "text/plain": [
       "PhraseEmbedder (constructor with 3 methods)"
      ]
     },
     "execution_count": 2,
     "metadata": {},
     "output_type": "execute_result"
    }
   ],
   "source": [
    "type PhraseEmbedder\n",
    "    L ::Matrix{Float64} #Word Embedding Matrix\n",
    "    e :: Dict{String,BitVector} #Word to its one hot representation\n",
    "    indexed_words::Vector{String} #Index back to word\n",
    "    W ::Matrix{Float64} #Word Combination Matrix \n",
    "    iW ::Matrix{Float64} #pseudo-inverse Word Combination Matrix\n",
    "end\n",
    "\n",
    "function PhraseEmbedder(WW, LL, ee, indexed_words)\n",
    "    PhraseEmbedder(LL, ee, indexed_words, WW, pinv(WW))\n",
    "end"
   ]
  },
  {
   "cell_type": "code",
   "execution_count": 3,
   "metadata": {
    "collapsed": false,
    "scrolled": true
   },
   "outputs": [
    {
     "data": {
      "text/plain": [
       "(50,268810)"
      ]
     },
     "execution_count": 3,
     "metadata": {},
     "output_type": "execute_result"
    }
   ],
   "source": [
    "LL,ee,indexed_words =  load_embeddings(\"embeddings-scaled.EMBEDDING_SIZE=50.txt\");\n",
    "WW = rand(size(LL,1),2*size(LL,1))\n",
    "\n",
    "phrase_emb = PhraseEmbedder(WW, LL, ee, indexed_words);\n",
    "size(LL)"
   ]
  },
  {
   "cell_type": "code",
   "execution_count": 4,
   "metadata": {
    "collapsed": false,
    "scrolled": true
   },
   "outputs": [
    {
     "data": {
      "text/plain": [
       "embed (generic function with 1 method)"
      ]
     },
     "execution_count": 4,
     "metadata": {},
     "output_type": "execute_result"
    }
   ],
   "source": [
    "function embed(pe::PhraseEmbedder, word1, word2)\n",
    "    c1c2 = [pe.L*(pe.e[word1]), pe.L*pe.e[word2]];\n",
    "    p12 = tanh(pe.W*c1c2);\n",
    "end"
   ]
  },
  {
   "cell_type": "code",
   "execution_count": 5,
   "metadata": {
    "collapsed": false
   },
   "outputs": [
    {
     "data": {
      "text/plain": [
       "neighbour_dists (generic function with 1 method)"
      ]
     },
     "execution_count": 5,
     "metadata": {},
     "output_type": "execute_result"
    }
   ],
   "source": [
    "function cosine_dist(a,b)\n",
    "    (a⋅b)/(norm(a)*norm(b))\n",
    "end\n",
    "\n",
    "function neighbour_dists(cc::Vector{Float64}, globe::Matrix{Float64})\n",
    "    [cosine_dist(cc, globe[:,ii]) for ii in 1:size(globe,2)]\n",
    "end\n"
   ]
  },
  {
   "cell_type": "code",
   "execution_count": null,
   "metadata": {
    "collapsed": false
   },
   "outputs": [],
   "source": []
  },
  {
   "cell_type": "code",
   "execution_count": 28,
   "metadata": {
    "collapsed": false,
    "scrolled": true
   },
   "outputs": [
    {
     "data": {
      "text/plain": [
       "resynth (generic function with 2 methods)"
      ]
     },
     "execution_count": 28,
     "metadata": {},
     "output_type": "execute_result"
    }
   ],
   "source": [
    "function resynth(pe::PhraseEmbedder, p12, nbest=5)\n",
    "    function show_best(candidates)\n",
    "        best_cands = [ (findfirst(candidates,score), score)\n",
    "                        for score in select(candidates,1:nbest, rev=true)[1:nbest]]\n",
    "        vcat([[pe.indexed_words[ii] score] for (ii,score) in best_cands]...)\n",
    "    end\n",
    "\n",
    "    \n",
    "    \n",
    "    ĉ1 = (pe.iW*atanh(p12)) [1:50]\n",
    "    ĉ2 = (pe.iW*atanh(p12)) [51:100];\n",
    "    ê1_candidates=neighbour_dists(ĉ1,pe.L)\n",
    "    ê2_candidates=neighbour_dists(ĉ2,pe.L)\n",
    "    ê1=indmax(ê1_candidates)\n",
    "    ê2=indmax(ê2_candidates)\n",
    "    [show_best(ê1_candidates) show_best(ê2_candidates)]\n",
    "end"
   ]
  },
  {
   "cell_type": "code",
   "execution_count": 32,
   "metadata": {
    "collapsed": false
   },
   "outputs": [
    {
     "data": {
      "text/plain": [
       "20x4 Array{Any,2}:\n",
       " \"king\"                   0.781599  \"queen\"          0.710362\n",
       " \"workaholic\"             0.662043  \"warrior\"        0.630731\n",
       " \"80-year-old\"            0.657657  \"king\"           0.622157\n",
       " \"pontiff\"                0.632303  \"bouncer\"        0.619687\n",
       " \"swimmer\"                0.627186  \"youngest\"       0.61015 \n",
       " \"premier\"                0.623988  \"interpreter\"    0.601928\n",
       " \"contours\"               0.611147  \"driver\"         0.599689\n",
       " \"stag\"                   0.604198  \"peerage\"        0.597686\n",
       " \"assassin\"               0.596773  \"duchess\"        0.591162\n",
       " \"goalkicker\"             0.592958  \"winner\"         0.590089\n",
       " \"youngest\"               0.592486  \"Quebecois\"      0.576958\n",
       " \"88-year-old\"            0.588176  \"minister\"       0.574704\n",
       " \"49-year-old\"            0.586584  \"prodigy\"        0.570894\n",
       " \"Republican-controlled\"  0.585768  \"Skipper\"        0.570151\n",
       " \"24-year-old\"            0.584658  \"fifth-ranking\"  0.569403\n",
       " \"pulpit\"                 0.582692  \"swimmer\"        0.568773\n",
       " \"boy\"                    0.582314  \"surgeon\"        0.568004\n",
       " \"Ankara-based\"           0.577874  \"steamship\"      0.567308\n",
       " \"49er\"                   0.575849  \"SNJ\"            0.566922\n",
       " \"assertion\"              0.572962  \"sect\"           0.566149"
      ]
     },
     "execution_count": 32,
     "metadata": {},
     "output_type": "execute_result"
    }
   ],
   "source": [
    "words = split(\"king queen\")\n",
    "pp = embed(phrase_emb, words...)\n",
    "resynth(phrase_emb, pp,20)"
   ]
  },
  {
   "cell_type": "code",
   "execution_count": 24,
   "metadata": {
    "collapsed": false
   },
   "outputs": [
    {
     "data": {
      "text/plain": [
       "3"
      ]
     },
     "execution_count": 24,
     "metadata": {},
     "output_type": "execute_result"
    }
   ],
   "source": [
    "aa = [0 2 4 6 8 4]\n",
    "\n",
    "findfirst(aa, 4)"
   ]
  },
  {
   "cell_type": "code",
   "execution_count": 22,
   "metadata": {
    "collapsed": false
   },
   "outputs": [
    {
     "name": "stdout",
     "output_type": "stream",
     "text": [
      "Base.findin(a, b)\n",
      "Base.findfirst(A)\n",
      "Base.findfirst(A, v)\n",
      "Base.findfirst(predicate, A)\n",
      "Base.findnz(A)\n",
      "Base.find_library(names, locations)\n",
      "Base.findnext(A, i)\n",
      "Base.findnext(predicate, A, i)\n",
      "Base.findnext(A, v, i)\n",
      "Base.cholfact(A, [LU,][pivot=false,][tol=-1.0]) -> Cholesky\n",
      "Base.cholfact(A[, ll]) -> CholmodFactor\n",
      "Base.middle(x)\n",
      "Base.middle(x, y)\n",
      "Base.middle(range)\n",
      "Base.middle(array)\n",
      "Base.findn(A)\n",
      "Base.findmax(itr) -> (x, index)\n",
      "Base.findmax(A, dims) -> (maxval, index)\n",
      "Base.eigs(A[, B], ; nev=6, which=\"LM\", tol=0.0, maxiter=1000, sigma=nothing, ritzvec=true, v0=zeros((0, ))) -> (d[, v], nconv, niter, nmult, resid)\n",
      "Base.find(A)\n",
      "Base.find(f, A)\n",
      "Base.findmin(itr) -> (x, index)\n",
      "Base.findmin(A, dims) -> (minval, index)\n"
     ]
    }
   ],
   "source": [
    "apropos(\"find\")"
   ]
  },
  {
   "cell_type": "code",
   "execution_count": null,
   "metadata": {
    "collapsed": true
   },
   "outputs": [],
   "source": []
  }
 ],
 "metadata": {
  "kernelspec": {
   "display_name": "Julia 0.3.7-pre debug",
   "language": "julia",
   "name": "julia 0.3 debug"
  },
  "language_info": {
   "name": "julia",
   "version": "0.3.7"
  }
 },
 "nbformat": 4,
 "nbformat_minor": 0
}
