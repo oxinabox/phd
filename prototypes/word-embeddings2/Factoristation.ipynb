{
 "cells": [
  {
   "cell_type": "code",
   "execution_count": 94,
   "metadata": {
    "collapsed": false
   },
   "outputs": [
    {
     "data": {
      "text/plain": [
       "load_embeddings (generic function with 1 method)"
      ]
     },
     "execution_count": 94,
     "metadata": {},
     "output_type": "execute_result"
    }
   ],
   "source": [
    "include(\"load_embeddings.jl\")"
   ]
  },
  {
   "cell_type": "code",
   "execution_count": 3,
   "metadata": {
    "collapsed": false
   },
   "outputs": [
    {
     "data": {
      "text/plain": [
       "PhraseEmbedder (constructor with 3 methods)"
      ]
     },
     "execution_count": 3,
     "metadata": {},
     "output_type": "execute_result"
    }
   ],
   "source": [
    "type PhraseEmbedder\n",
    "    L ::Matrix{Number} #Word Embedding Matrix\n",
    "    e :: Dict{String,BitVector} #Word to its one hot representation\n",
    "    indexed_words::Vector{String} #Index back to word\n",
    "    W ::Matrix{Number} #Word Combination Matrix \n",
    "    iW ::Matrix{Number} #pseudo-inverse Word Combination Matrix\n",
    "end\n",
    "\n",
    "function PhraseEmbedder(WW, LL, ee, indexed_words)\n",
    "    PhraseEmbedder(LL, ee, indexed_words, WW, pinv(WW))\n",
    "end"
   ]
  },
  {
   "cell_type": "code",
   "execution_count": 4,
   "metadata": {
    "collapsed": false,
    "scrolled": true
   },
   "outputs": [
    {
     "data": {
      "text/plain": [
       "(50,268810)"
      ]
     },
     "execution_count": 4,
     "metadata": {},
     "output_type": "execute_result"
    }
   ],
   "source": [
    "LL,ee,indexed_words =  load_embeddings(\"embeddings-scaled.EMBEDDING_SIZE=50.txt\");\n"
   ]
  },
  {
   "cell_type": "code",
   "execution_count": 66,
   "metadata": {
    "collapsed": false
   },
   "outputs": [
    {
     "data": {
      "text/plain": [
       "(50,268810)"
      ]
     },
     "execution_count": 66,
     "metadata": {},
     "output_type": "execute_result"
    }
   ],
   "source": [
    "WW = 0.1*randn(size(LL,1),2*size(LL,1))\n",
    "\n",
    "phrase_emb = PhraseEmbedder(WW, LL, ee, indexed_words);\n",
    "size(LL)"
   ]
  },
  {
   "cell_type": "code",
   "execution_count": 67,
   "metadata": {
    "collapsed": false,
    "scrolled": true
   },
   "outputs": [
    {
     "data": {
      "text/plain": [
       "embed (generic function with 1 method)"
      ]
     },
     "execution_count": 67,
     "metadata": {},
     "output_type": "execute_result"
    }
   ],
   "source": [
    "function embed(pe::PhraseEmbedder, word1, word2)\n",
    "    c1c2 = [pe.L*(pe.e[word1]), pe.L*pe.e[word2]];\n",
    "    p12 = tanh(pe.W*c1c2);\n",
    "end"
   ]
  },
  {
   "cell_type": "code",
   "execution_count": 68,
   "metadata": {
    "collapsed": false
   },
   "outputs": [
    {
     "data": {
      "text/plain": [
       "neighbour_dists (generic function with 1 method)"
      ]
     },
     "execution_count": 68,
     "metadata": {},
     "output_type": "execute_result"
    }
   ],
   "source": [
    "function cosine_dist(a,b)\n",
    "    (a⋅b)/(norm(a)*norm(b))\n",
    "end\n",
    "\n",
    "function neighbour_dists(cc::Vector{Number}, globe::Matrix{Number})\n",
    "    [cosine_dist(cc, globe[:,ii]) for ii in 1:size(globe,2)]\n",
    "end\n"
   ]
  },
  {
   "cell_type": "code",
   "execution_count": null,
   "metadata": {
    "collapsed": false
   },
   "outputs": [],
   "source": []
  },
  {
   "cell_type": "code",
   "execution_count": 1,
   "metadata": {
    "collapsed": false,
    "scrolled": true
   },
   "outputs": [
    {
     "ename": "LoadError",
     "evalue": "PhraseEmbedder not defined\nwhile loading In[1], in expression starting on line 1",
     "output_type": "error",
     "traceback": [
      "PhraseEmbedder not defined\nwhile loading In[1], in expression starting on line 1",
      ""
     ]
    }
   ],
   "source": [
    "function show_best(pe::PhraseEmbedder, candidates, nbest=20)\n",
    "        best_cands = [ (findfirst(candidates,score), score)\n",
    "                        for score in select(candidates,1:nbest, rev=true)[1:nbest]]\n",
    "        vcat([[pe.indexed_words[ii] score] for (ii,score) in best_cands]...)\n",
    "    end\n",
    "\n",
    "function resynth(pe::PhraseEmbedder, p12, nbest=5)  \n",
    "    ĉ1 = (pe.iW*atanh(p12)) [1:50]\n",
    "    ĉ2 = (pe.iW*atanh(p12)) [51:100];\n",
    "    ê1_candidates=neighbour_dists(ĉ1,pe.L)\n",
    "    ê2_candidates=neighbour_dists(ĉ2,pe.L)\n",
    "    [show_best(pe, ê1_candidates,nbest) show_best(pe, ê2_candidates,nbest)]\n",
    "end"
   ]
  },
  {
   "cell_type": "code",
   "execution_count": 2,
   "metadata": {
    "collapsed": false
   },
   "outputs": [
    {
     "ename": "LoadError",
     "evalue": "embed not defined\nwhile loading In[2], in expression starting on line 2",
     "output_type": "error",
     "traceback": [
      "embed not defined\nwhile loading In[2], in expression starting on line 2",
      ""
     ]
    }
   ],
   "source": [
    "words = split(\"foolish man\")\n",
    "pp = embed(phrase_emb, words...)\n",
    "resynth(phrase_emb, pp,26)"
   ]
  },
  {
   "cell_type": "code",
   "execution_count": 71,
   "metadata": {
    "collapsed": false
   },
   "outputs": [
    {
     "data": {
      "text/plain": [
       "embed_12_3 (generic function with 1 method)"
      ]
     },
     "execution_count": 71,
     "metadata": {},
     "output_type": "execute_result"
    }
   ],
   "source": [
    "function embed_12_3(pe::PhraseEmbedder, word1, word2, word3)\n",
    " \n",
    "end"
   ]
  },
  {
   "cell_type": "code",
   "execution_count": 92,
   "metadata": {
    "collapsed": false
   },
   "outputs": [
    {
     "data": {
      "text/plain": [
       "\"the\""
      ]
     },
     "execution_count": 92,
     "metadata": {},
     "output_type": "execute_result"
    }
   ],
   "source": [
    "pe = phrase_emb\n",
    "word1 = \"a\"\n",
    "word2 = \"an\"\n",
    "word3 = \"the\"\n",
    "\n",
    "\n"
   ]
  },
  {
   "cell_type": "code",
   "execution_count": 93,
   "metadata": {
    "collapsed": false,
    "scrolled": true
   },
   "outputs": [
    {
     "data": {
      "text/plain": [
       "20x6 Array{Any,2}:\n",
       " \"slided\"          0.541224  \"outlawed\"         …  \"the\"             0.689449\n",
       " \"hire-purchase\"   0.525807  \"ACT\"                 \"The\"             0.598609\n",
       " \"participating.\"  0.515988  \"Moslem-majority\"     \"Basel\"           0.574183\n",
       " \"Emblaze\"         0.513615  \"continued.\"          \"Uribe\"           0.548154\n",
       " \"unrivaled\"       0.512558  \"pro-British\"         \"Basque\"          0.544355\n",
       " \"melded\"          0.512258  \"strikes.\"         …  \"Constitutional\"  0.532194\n",
       " \"Abbreviated\"     0.507599  \"loyalist\"            \"undefeated\"      0.527619\n",
       " \"unratified\"      0.506303  \"Favoured\"            \"next\"            0.525303\n",
       " \"Britrain\"        0.505244  \"Basque\"              \"another\"         0.522995\n",
       " \"unutilised\"      0.494179  \"Fatherland\"          \"shuttle\"         0.510541\n",
       " \"civilisational\"  0.490582  \"insists\"          …  \"at\"              0.503717\n",
       " \"antidilutive\"    0.488746  \"PLA\"                 \"Zulu\"            0.500902\n",
       " \"recapitalized\"   0.487065  \"Flemish\"             \"Lihir\"           0.49994 \n",
       " \"99-100\"          0.484765  \"notables\"            \"RUC\"             0.49767 \n",
       " \"diopsites\"       0.482958  \"conservative\"        \"Paris-bound\"     0.497553\n",
       " \"ChartMaxx\"       0.482536  \"CiU\"              …  \"British-style\"   0.494832\n",
       " \"one-thousand\"    0.482532  \"OIC\"                 \"ex-Rwandan\"      0.493457\n",
       " \"copper-trading\"  0.481632  \"Armed\"               \"Gali\"            0.493423\n",
       " \"consolidatory\"   0.480451  \"sweetness\"           \"Liechtenstein\"   0.491905\n",
       " \"imperiled\"       0.478477  \"Kenyan\"              \"Tajik\"           0.489905"
      ]
     },
     "execution_count": 93,
     "metadata": {},
     "output_type": "execute_result"
    }
   ],
   "source": [
    "p12 = embed(pe, word1, word2)\n",
    "c3 = pe.L*pe.e[word3]\n",
    "p12_3 = tanh(pe.W*[p12; c3])\n",
    "\n",
    "ĉ12 = (pe.iW*atanh(p12_3)) [1:50]\n",
    "ĉ3 = (pe.iW*atanh(p12_3)) [51:100];\n",
    "\n",
    "ĉ1 = (pe.iW*atanh(ĉ12)) [1:50]\n",
    "ĉ2 = (pe.iW*atanh(ĉ12)) [51:100];\n",
    "\n",
    "\n",
    "ê1_candidates=neighbour_dists(ĉ1,pe.L)\n",
    "ê2_candidates=neighbour_dists(ĉ2,pe.L)\n",
    "ê3_candidates=neighbour_dists(ĉ3,pe.L)\n",
    "\n",
    "[show_best(pe, ê1_candidates) show_best(pe, ê2_candidates) show_best(pe, ê3_candidates)]"
   ]
  },
  {
   "cell_type": "code",
   "execution_count": null,
   "metadata": {
    "collapsed": false
   },
   "outputs": [],
   "source": []
  },
  {
   "cell_type": "code",
   "execution_count": 64,
   "metadata": {
    "collapsed": false
   },
   "outputs": [
    {
     "name": "stdout",
     "output_type": "stream",
     "text": [
      "Base.atanh(x)\n",
      "\n",
      "   Compute the inverse hyperbolic tangent of \"x\"\n"
     ]
    }
   ],
   "source": [
    "help(atanh)"
   ]
  },
  {
   "cell_type": "code",
   "execution_count": null,
   "metadata": {
    "collapsed": true
   },
   "outputs": [],
   "source": []
  }
 ],
 "metadata": {
  "kernelspec": {
   "display_name": "Julia 0.3.7-pre debug",
   "language": "julia",
   "name": "julia 0.3 debug"
  },
  "language_info": {
   "name": "julia",
   "version": "0.3.7"
  }
 },
 "nbformat": 4,
 "nbformat_minor": 0
}
