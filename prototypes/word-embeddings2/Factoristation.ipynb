{
 "cells": [
  {
   "cell_type": "code",
   "execution_count": 2,
   "metadata": {
    "collapsed": false
   },
   "outputs": [
    {
     "data": {
      "text/plain": [
       "load_embeddings (generic function with 1 method)"
      ]
     },
     "execution_count": 2,
     "metadata": {},
     "output_type": "execute_result"
    }
   ],
   "source": [
    "#returns `LL` embedding matrix and onehot lookup `ee`,\n",
    "#Such that `LL*ee[\"example\"]` returns the word embedding for \"example\"\n",
    "function load_embeddings(embedding_file)\n",
    "    embeddingsDict = Dict{String,Vector{Float64}}()\n",
    "    #sizehint!(embeddings, 268810)\n",
    "    for line in eachline(open(embedding_file))\n",
    "        fields = line |> split\n",
    "        word = fields[1]\n",
    "        vec = map(parsefloat, fields[2:end])\n",
    "        embeddingsDict[word] = vec\n",
    "    end\n",
    "    embeddingsDict\n",
    "    \n",
    "    LL = hcat(collect(values(embeddingsDict))...)\n",
    "    ee = [key=>setindex!(BitArray(length(embeddingsDict)), true, ii) \n",
    "                for (ii,key) in enumerate(keys(embeddingsDict))]\n",
    "    indexed_word = embeddingsDict |> keys |> collect\n",
    "    \n",
    "    LL,ee, indexed_word\n",
    "end"
   ]
  },
  {
   "cell_type": "code",
   "execution_count": 3,
   "metadata": {
    "collapsed": false
   },
   "outputs": [
    {
     "data": {
      "text/plain": [
       "PhraseEmbedder (constructor with 3 methods)"
      ]
     },
     "execution_count": 3,
     "metadata": {},
     "output_type": "execute_result"
    }
   ],
   "source": [
    "type PhraseEmbedder\n",
    "    L ::Matrix{Float64} #Word Embedding Matrix\n",
    "    e :: Dict{String,BitVector} #Word to its one hot representation\n",
    "    indexed_words::Vector{String} #Index back to word\n",
    "    W ::Matrix{Float64} #Word Combination Matrix \n",
    "    iW ::Matrix{Float64} #pseudo-inverse Word Combination Matrix\n",
    "end\n",
    "\n",
    "function PhraseEmbedder(WW, LL, ee, indexed_words)\n",
    "    PhraseEmbedder(LL, ee, indexed_words, WW, pinv(WW))\n",
    "end"
   ]
  },
  {
   "cell_type": "code",
   "execution_count": 4,
   "metadata": {
    "collapsed": false,
    "scrolled": true
   },
   "outputs": [
    {
     "data": {
      "text/plain": [
       "(50,268810)"
      ]
     },
     "execution_count": 4,
     "metadata": {},
     "output_type": "execute_result"
    }
   ],
   "source": [
    "LL,ee,indexed_words =  load_embeddings(\"embeddings-scaled.EMBEDDING_SIZE=50.txt\");\n",
    "WW = rand(size(LL,1),2*size(LL,1))\n",
    "\n",
    "phrase_emb = PhraseEmbedder(WW, LL, ee, indexed_words);\n",
    "size(LL)"
   ]
  },
  {
   "cell_type": "code",
   "execution_count": 17,
   "metadata": {
    "collapsed": false,
    "scrolled": true
   },
   "outputs": [
    {
     "data": {
      "text/plain": [
       "embed (generic function with 1 method)"
      ]
     },
     "execution_count": 17,
     "metadata": {},
     "output_type": "execute_result"
    }
   ],
   "source": [
    "function embed(pe::PhraseEmbedder, word1, word2)\n",
    "    c1c2 = [pe.L*(pe.e[word1]), pe.L*pe.e[word2]];\n",
    "    p12 = tanh(pe.W*c1c2);\n",
    "end"
   ]
  },
  {
   "cell_type": "code",
   "execution_count": 18,
   "metadata": {
    "collapsed": false
   },
   "outputs": [
    {
     "data": {
      "text/plain": [
       "neighbour_dists (generic function with 1 method)"
      ]
     },
     "execution_count": 18,
     "metadata": {},
     "output_type": "execute_result"
    }
   ],
   "source": [
    "function cosine_dist(a,b)\n",
    "    (a⋅b)/(norm(a)*norm(b))\n",
    "end\n",
    "\n",
    "function neighbour_dists(cc::Vector{Float64}, globe::Matrix{Float64})\n",
    "    [cosine_dist(cc, globe[:,ii]) for ii in 1:size(globe,2)]\n",
    "end\n"
   ]
  },
  {
   "cell_type": "code",
   "execution_count": null,
   "metadata": {
    "collapsed": false
   },
   "outputs": [],
   "source": []
  },
  {
   "cell_type": "code",
   "execution_count": 24,
   "metadata": {
    "collapsed": false,
    "scrolled": true
   },
   "outputs": [
    {
     "data": {
      "text/plain": [
       "resynth (generic function with 2 methods)"
      ]
     },
     "execution_count": 24,
     "metadata": {},
     "output_type": "execute_result"
    }
   ],
   "source": [
    "function resynth(pe::PhraseEmbedder, p12, nbest=5)\n",
    "    function show_best(candidates)\n",
    "        best_cands = [ (findfirst(candidates,score), score)\n",
    "                        for score in select(candidates,1:nbest, rev=true)[1:nbest]]\n",
    "        vcat([[pe.indexed_words[ii] score] for (ii,score) in best_cands]...)\n",
    "    end\n",
    "\n",
    "    \n",
    "    \n",
    "    ĉ1 = (pe.iW*atanh(p12)) [1:50]\n",
    "    ĉ2 = (pe.iW*atanh(p12)) [51:100];\n",
    "    ê1_candidates=neighbour_dists(ĉ1,pe.L)\n",
    "    ê2_candidates=neighbour_dists(ĉ2,pe.L)\n",
    "    [show_best(ê1_candidates) show_best(ê2_candidates)]\n",
    "end"
   ]
  },
  {
   "cell_type": "code",
   "execution_count": 28,
   "metadata": {
    "collapsed": false
   },
   "outputs": [
    {
     "data": {
      "text/plain": [
       "26x4 Array{Any,2}:\n",
       " \"that\"                  0.74191   \"honeymooners\"  0.591283\n",
       " \"much-needed\"           0.599668  \"headmaster\"    0.587335\n",
       " \"because\"               0.586175  \"graduation\"    0.586953\n",
       " \"disbursements\"         0.562552  \"procession\"    0.576014\n",
       " \"cracked\"               0.553832  \"Ford-Carter\"   0.573492\n",
       " \"what\"                  0.551342  \"protectorate\"  0.566705\n",
       " \"Africa\"                0.539998  \"MI-8\"          0.558809\n",
       " \"sick\"                  0.533608  \"frugality\"     0.55845 \n",
       " \"disparate\"             0.52187   \"graveyard\"     0.558278\n",
       " \"parity\"                0.517798  \"fever\"         0.554342\n",
       " \"financially-troubled\"  0.515416  \"congressman\"   0.553383\n",
       " \"steps\"                 0.51237   \"dialect\"       0.547689\n",
       " \"Kaztelekom\"            0.503821  \"footballer\"    0.547099\n",
       " \"concessionary\"         0.503011  \"prodigy\"       0.543899\n",
       " \"jobless\"               0.502015  \"detachment\"    0.540469\n",
       " \"no\"                    0.497899  \"tipple\"        0.538872\n",
       " \"Third\"                 0.496503  \"hermit\"        0.538724\n",
       " \"fast-changing\"         0.495802  \"yellow.\"       0.536664\n",
       " \"inter-party\"           0.49496   \"convoy\"        0.532103\n",
       " \"cereal\"                0.494378  \"oratory\"       0.531939\n",
       " \"stocks.\"               0.492572  \"man\"           0.529987\n",
       " \"if\"                    0.491543  \"intelectual\"   0.52834 \n",
       " \"glowing\"               0.491368  \"abortion.\"     0.528265\n",
       " \"dimensions.\"           0.490759  \"tumour\"        0.527546\n",
       " \"newborn\"               0.489687  \"T-cell\"        0.527495\n",
       " \"SPL\"                   0.488552  \"particles\"     0.527316"
      ]
     },
     "execution_count": 28,
     "metadata": {},
     "output_type": "execute_result"
    }
   ],
   "source": [
    "words = split(\"that man\")\n",
    "pp = embed(phrase_emb, words...)\n",
    "resynth(phrase_emb, pp,26)"
   ]
  },
  {
   "cell_type": "code",
   "execution_count": null,
   "metadata": {
    "collapsed": true
   },
   "outputs": [],
   "source": []
  }
 ],
 "metadata": {
  "kernelspec": {
   "display_name": "Julia 0.3.7-pre debug",
   "language": "julia",
   "name": "julia 0.3 debug"
  },
  "language_info": {
   "name": "julia",
   "version": "0.3.7"
  }
 },
 "nbformat": 4,
 "nbformat_minor": 0
}
