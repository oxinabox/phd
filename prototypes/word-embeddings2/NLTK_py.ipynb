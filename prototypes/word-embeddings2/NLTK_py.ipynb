{
 "cells": [
  {
   "cell_type": "code",
   "execution_count": 19,
   "metadata": {
    "collapsed": false
   },
   "outputs": [],
   "source": [
    "def load_cnf_sents():\n",
    "    import nltk.corpus\n",
    "    xs=nltk.corpus.treebank.parsed_sents()\n",
    "    for x in xs:\n",
    "        x.chomsky_normal_form()\n",
    "        yield x\n",
    "    \n"
   ]
  },
  {
   "cell_type": "code",
   "execution_count": 29,
   "metadata": {
    "collapsed": false
   },
   "outputs": [],
   "source": [
    "xs = load_cnf_sents()"
   ]
  },
  {
   "cell_type": "code",
   "execution_count": 33,
   "metadata": {
    "collapsed": false
   },
   "outputs": [],
   "source": [
    "import nltk.corpus\n"
   ]
  },
  {
   "cell_type": "code",
   "execution_count": 49,
   "metadata": {
    "collapsed": false
   },
   "outputs": [
    {
     "data": {
      "text/plain": [
       "(nltk.corpus.reader.api.SyntaxCorpusReader,)"
      ]
     },
     "execution_count": 49,
     "metadata": {},
     "output_type": "execute_result"
    }
   ],
   "source": [
    "nltk.corpus.sinica_treebank.__class__.__bases__"
   ]
  },
  {
   "cell_type": "code",
   "execution_count": 50,
   "metadata": {
    "collapsed": false
   },
   "outputs": [
    {
     "data": {
      "text/plain": [
       "(nltk.corpus.reader.api.SyntaxCorpusReader,)"
      ]
     },
     "execution_count": 50,
     "metadata": {},
     "output_type": "execute_result"
    }
   ],
   "source": [
    ".__class__.__bases__"
   ]
  },
  {
   "cell_type": "code",
   "execution_count": 54,
   "metadata": {
    "collapsed": false
   },
   "outputs": [
    {
     "data": {
      "text/plain": [
       "(nltk.corpus.reader.conll.ConllCorpusReader,)"
      ]
     },
     "execution_count": 54,
     "metadata": {},
     "output_type": "execute_result"
    }
   ],
   "source": [
    "nltk.corpus.conll2000.__class__.__bases__"
   ]
  },
  {
   "cell_type": "code",
   "execution_count": 70,
   "metadata": {
    "collapsed": false
   },
   "outputs": [],
   "source": [
    "def isTreeReader(x):\n",
    "    return issubclass(x.__class__, nltk.corpus.reader.SyntaxCorpusReader)"
   ]
  },
  {
   "cell_type": "code",
   "execution_count": 77,
   "metadata": {
    "collapsed": false
   },
   "outputs": [
    {
     "ename": "TypeError",
     "evalue": "locals() takes no arguments (1 given)",
     "output_type": "error",
     "traceback": [
      "\u001b[1;31m---------------------------------------------------------------------------\u001b[0m",
      "\u001b[1;31mTypeError\u001b[0m                                 Traceback (most recent call last)",
      "\u001b[1;32m<ipython-input-77-858715600d86>\u001b[0m in \u001b[0;36m<module>\u001b[1;34m()\u001b[0m\n\u001b[1;32m----> 1\u001b[1;33m \u001b[0mlocals\u001b[0m\u001b[1;33m(\u001b[0m\u001b[0mnltk\u001b[0m\u001b[1;33m.\u001b[0m\u001b[0mcorpus\u001b[0m\u001b[1;33m)\u001b[0m\u001b[1;33m\u001b[0m\u001b[0m\n\u001b[0m",
      "\u001b[1;31mTypeError\u001b[0m: locals() takes no arguments (1 given)"
     ]
    }
   ],
   "source": [
    "locals(nltk.corpus)"
   ]
  },
  {
   "cell_type": "code",
   "execution_count": 85,
   "metadata": {
    "collapsed": false,
    "scrolled": true
   },
   "outputs": [
    {
     "name": "stdout",
     "output_type": "stream",
     "text": [
      "treebank\n",
      "sinica_treebank\n"
     ]
    }
   ],
   "source": [
    "for name, cls in nltk.corpus.__dict__.items():\n",
    "    if isTree(cls):\n",
    "        print(name)"
   ]
  },
  {
   "cell_type": "code",
   "execution_count": null,
   "metadata": {
    "collapsed": true
   },
   "outputs": [],
   "source": [
    "nltk.corpus.sinica_treebank"
   ]
  },
  {
   "cell_type": "code",
   "execution_count": 44,
   "metadata": {
    "collapsed": true
   },
   "outputs": [
    {
     "name": "stdout",
     "output_type": "stream",
     "text": [
      "Sinica Treebank Corpus Sample\n",
      "\n",
      "http://rocling.iis.sinica.edu.tw/CKIP/engversion/treebank.htm\n",
      "\n",
      "10,000 parsed sentences, drawn from the Academia Sinica Balanced\n",
      "Corpus of Modern Chinese.  Parse tree notation is based on\n",
      "Information-based Case Grammar.  Tagset documentation is available\n",
      "at http://www.sinica.edu.tw/SinicaCorpus/modern_e_wordtype.html\n",
      "\n",
      "Language and Knowledge Processing Group, Institute of Information\n",
      "Science, Academia Sinica\n",
      "\n",
      "It is distributed with the Natural Language Toolkit under the terms of\n",
      "the Creative Commons Attribution-NonCommercial-ShareAlike License\n",
      "[http://creativecommons.org/licenses/by-nc-sa/2.5/].\n",
      "\n",
      "References:\n",
      "\n",
      "Feng-Yi Chen, Pi-Fang Tsai, Keh-Jiann Chen, and Chu-Ren Huang (1999)\n",
      "The Construction of Sinica Treebank. Computational Linguistics and\n",
      "Chinese Language Processing, 4, pp 87-104.\n",
      "\n",
      "Huang Chu-Ren, Keh-Jiann Chen, Feng-Yi Chen, Keh-Jiann Chen, Zhao-Ming\n",
      "Gao, and Kuang-Yu Chen. 2000. Sinica Treebank: Design Criteria,\n",
      "Annotation Guidelines, and On-line Interface. Proceedings of 2nd\n",
      "Chinese Language Processing Workshop, Association for Computational\n",
      "Linguistics.\n",
      "\n",
      "Chen Keh-Jiann and Yu-Ming Hsieh (2004) Chinese Treebanks and Grammar\n",
      "Extraction, Proceedings of IJCNLP-04, pp560-565.\n",
      "\n"
     ]
    }
   ],
   "source": [
    "print(nltk.corpus.sinica_treebank.readme())"
   ]
  },
  {
   "cell_type": "code",
   "execution_count": 57,
   "metadata": {
    "collapsed": true
   },
   "outputs": [],
   "source": [
    "\n",
    "n=N()"
   ]
  },
  {
   "cell_type": "code",
   "execution_count": 62,
   "metadata": {
    "collapsed": false
   },
   "outputs": [
    {
     "data": {
      "text/plain": [
       "(__main__.C, __main__.Y)"
      ]
     },
     "execution_count": 62,
     "metadata": {},
     "output_type": "execute_result"
    }
   ],
   "source": [
    "n.__class__.__bases__"
   ]
  },
  {
   "cell_type": "code",
   "execution_count": null,
   "metadata": {
    "collapsed": true
   },
   "outputs": [],
   "source": []
  }
 ],
 "metadata": {
  "kernelspec": {
   "display_name": "Python 3",
   "language": "python",
   "name": "python3"
  },
  "language_info": {
   "codemirror_mode": {
    "name": "ipython",
    "version": 3
   },
   "file_extension": ".py",
   "mimetype": "text/x-python",
   "name": "python",
   "nbconvert_exporter": "python",
   "pygments_lexer": "ipython3",
   "version": "3.4.3"
  }
 },
 "nbformat": 4,
 "nbformat_minor": 0
}
