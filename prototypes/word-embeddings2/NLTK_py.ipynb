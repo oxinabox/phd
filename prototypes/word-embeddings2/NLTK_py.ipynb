{
 "cells": [
  {
   "cell_type": "code",
   "execution_count": 6,
   "metadata": {
    "collapsed": false
   },
   "outputs": [],
   "source": [
    "import glob"
   ]
  },
  {
   "cell_type": "code",
   "execution_count": 29,
   "metadata": {
    "collapsed": false,
    "scrolled": true
   },
   "outputs": [],
   "source": [
    "filenames = glob.glob(\"../Corpus/corpora/Opinosis/processed/topics/*.parsed.txt\")"
   ]
  },
  {
   "cell_type": "code",
   "execution_count": 23,
   "metadata": {
    "collapsed": false
   },
   "outputs": [],
   "source": [
    "import nltk\n",
    "import nltk.corpus as nltk_corpus\n"
   ]
  },
  {
   "cell_type": "code",
   "execution_count": 68,
   "metadata": {
    "collapsed": false
   },
   "outputs": [],
   "source": [
    "reader = nltk_corpus.BracketParseCorpusReader(\".\", [\"../Corpus/corpora/QuestionBank/4000qs.txt\"])"
   ]
  },
  {
   "cell_type": "code",
   "execution_count": 86,
   "metadata": {
    "collapsed": false,
    "scrolled": true
   },
   "outputs": [],
   "source": [
    "xs= reader.parsed_sents()"
   ]
  },
  {
   "cell_type": "code",
   "execution_count": 87,
   "metadata": {
    "collapsed": false
   },
   "outputs": [
    {
     "data": {
      "text/plain": [
       "\"(SBARQ\\n  (WHNP (WP Who))\\n  (SQ\\n    (VBZ is)\\n    (NP\\n      (NP (DT the) (NN author))\\n      (PP\\n        (IN of)\\n        (NP\\n          (NP (DT the) (NN book))\\n          (, ,)\\n          (NP\\n            (NP (`` ``) (DT The) (NN Iron) (NN Lady))\\n            (: :)\\n            (NP\\n              (NP (DT A) (NN Biography))\\n              (PP (IN of) (NP (NNP Margaret) (NNP Thatcher) ('' <<)))))))))\\n  (. ?))\""
      ]
     },
     "execution_count": 87,
     "metadata": {},
     "output_type": "execute_result"
    }
   ],
   "source": [
    "str(xs[0])"
   ]
  },
  {
   "cell_type": "code",
   "execution_count": 88,
   "metadata": {
    "collapsed": false,
    "scrolled": true
   },
   "outputs": [],
   "source": [
    "for i in xs:\n",
    "      \n",
    "    break\n",
    "    "
   ]
  },
  {
   "cell_type": "code",
   "execution_count": 89,
   "metadata": {
    "collapsed": false
   },
   "outputs": [
    {
     "data": {
      "text/plain": [
       "\"(SBARQ\\n  (WHNP (WP Who))\\n  (SBARQ|<SQ-.>\\n    (SQ\\n      (VBZ is)\\n      (NP\\n        (NP (DT the) (NN author))\\n        (PP\\n          (IN of)\\n          (NP\\n            (NP (DT the) (NN book))\\n            (NP|<,-NP>\\n              (, ,)\\n              (NP\\n                (NP\\n                  (`` ``)\\n                  (NP|<DT-NN-NN>\\n                    (DT The)\\n                    (NP|<NN-NN> (NN Iron) (NN Lady))))\\n                (NP|<:-NP>\\n                  (: :)\\n                  (NP\\n                    (NP (DT A) (NN Biography))\\n                    (PP\\n                      (IN of)\\n                      (NP\\n                        (NNP Margaret)\\n                        (NP|<NNP-''> (NNP Thatcher) ('' <<))))))))))))\\n    (. ?)))\""
      ]
     },
     "execution_count": 89,
     "metadata": {},
     "output_type": "execute_result"
    }
   ],
   "source": [
    "str(xs[0])"
   ]
  },
  {
   "cell_type": "code",
   "execution_count": 138,
   "metadata": {
    "collapsed": false
   },
   "outputs": [],
   "source": [
    "x=xs[2]"
   ]
  },
  {
   "cell_type": "code",
   "execution_count": 166,
   "metadata": {
    "collapsed": true
   },
   "outputs": [],
   "source": [
    "x.chomsky_normal_form()\n",
    "x.collapse_unary()"
   ]
  },
  {
   "cell_type": "code",
   "execution_count": null,
   "metadata": {
    "collapsed": false
   },
   "outputs": [],
   "source": []
  },
  {
   "cell_type": "code",
   "execution_count": 174,
   "metadata": {
    "collapsed": false
   },
   "outputs": [],
   "source": [
    "def out_tree(tree):\n",
    "    if isinstance(tree,list):\n",
    "        if len(tree)==1:\n",
    "            return out_tree(tree[0])\n",
    "        if len(tree)==2:\n",
    "            return (out_tree(tree[0]),out_tree(tree[1]))\n",
    "            \n",
    "    else:\n",
    "        return tree\n",
    "    \n",
    "    \n"
   ]
  },
  {
   "cell_type": "code",
   "execution_count": 175,
   "metadata": {
    "collapsed": false
   },
   "outputs": [
    {
     "data": {
      "text/plain": [
       "('What', (('does', (('the', ('Peugeot', 'company')), 'manufacture')), '?'))"
      ]
     },
     "execution_count": 175,
     "metadata": {},
     "output_type": "execute_result"
    }
   ],
   "source": [
    "out_tree(x)"
   ]
  },
  {
   "cell_type": "code",
   "execution_count": 170,
   "metadata": {
    "collapsed": false
   },
   "outputs": [
    {
     "name": "stdout",
     "output_type": "stream",
     "text": [
      "               SBARQ                                          \n",
      "  _______________|_____________________                        \n",
      " |                                SBARQ|<SQ-.>                \n",
      " |                _____________________|____________________   \n",
      " |               SQ                                         | \n",
      " |     __________|_________                                 |  \n",
      " |    |                SQ|<NP-VP>                           | \n",
      " |    |           _________|________________________        |  \n",
      " |    |          NP                                 |       | \n",
      " |    |     _____|_________                         |       |  \n",
      "WHNP  |    |          NP|<NNP-NN>                   VP      | \n",
      " |    |    |      _________|___________             |       |  \n",
      " WP  VBZ   DT   NNP                    NN           VB      . \n",
      " |    |    |     |                     |            |       |  \n",
      "What does the Peugeot               company    manufacture  ? \n",
      "\n"
     ]
    }
   ],
   "source": [
    "x\n",
    "x.pretty_print()"
   ]
  },
  {
   "cell_type": "code",
   "execution_count": 182,
   "metadata": {
    "collapsed": false
   },
   "outputs": [
    {
     "data": {
      "text/plain": [
       "True"
      ]
     },
     "execution_count": 182,
     "metadata": {},
     "output_type": "execute_result"
    }
   ],
   "source": [
    "isinstance(x, list)"
   ]
  },
  {
   "cell_type": "code",
   "execution_count": null,
   "metadata": {
    "collapsed": true
   },
   "outputs": [],
   "source": []
  }
 ],
 "metadata": {
  "kernelspec": {
   "display_name": "Python 3",
   "language": "python",
   "name": "python3"
  },
  "language_info": {
   "codemirror_mode": {
    "name": "ipython",
    "version": 3
   },
   "file_extension": ".py",
   "mimetype": "text/x-python",
   "name": "python",
   "nbconvert_exporter": "python",
   "pygments_lexer": "ipython3",
   "version": "3.4.3"
  }
 },
 "nbformat": 4,
 "nbformat_minor": 0
}
