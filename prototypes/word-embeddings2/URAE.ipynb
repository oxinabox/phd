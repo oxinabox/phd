{
 "cells": [
  {
   "cell_type": "code",
   "execution_count": 1,
   "metadata": {
    "collapsed": false
   },
   "outputs": [
    {
     "name": "stderr",
     "output_type": "stream",
     "text": [
      "expr: syntax error\n",
      "expr: syntax error\n",
      "expr: syntax error\n",
      "expr: syntax error\n"
     ]
    },
    {
     "data": {
      "text/plain": [
       "10-element Array{Int64,1}:\n",
       "  2\n",
       "  3\n",
       "  4\n",
       "  5\n",
       "  6\n",
       "  7\n",
       "  8\n",
       "  9\n",
       " 10\n",
       " 11"
      ]
     },
     "execution_count": 1,
     "metadata": {},
     "output_type": "execute_result"
    }
   ],
   "source": [
    "for ii in 1:4\n",
    "    addprocs([\"heathred\"])\n",
    "end\n",
    "\n",
    "for ii in 1:1\n",
    "    addprocs([\"amon\"], dir=\"\")\n",
    "    addprocs([\"zeus\"], dir=\"\")\n",
    "    addprocs([\"jove\"], dir=\"\")\n",
    "    addprocs([\"ares\"], dir=\"\")\n",
    "end\n",
    "\n",
    "for ii in 1:10\n",
    "    #addprocs([\"uggp\"], dir=\"\")\n",
    "end\n",
    "\n",
    "addprocs(2)\n",
    "workers()"
   ]
  },
  {
   "cell_type": "code",
   "execution_count": 2,
   "metadata": {
    "collapsed": false
   },
   "outputs": [],
   "source": [
    "using Iterators\n",
    "using Pipe\n",
    "function pz(x :: AbstractArray)\n",
    "    println(typeof(x), \": \", size(x))\n",
    "end\n",
    "macro printval(ee)\n",
    "    ee_expr = @sprintf \"%s\" string(ee)\n",
    "    esc(:(println($ee_expr,\" = \", $ee)))\n",
    "end\n",
    "\n",
    "macro pz(ee)\n",
    "    ee_expr = @sprintf \"%s\" string(ee)\n",
    "    esc(:(println($ee_expr,\"\\t\\t\",typeof($ee), \"\\t\", size($ee))))\n",
    "end"
   ]
  },
  {
   "cell_type": "code",
   "execution_count": 3,
   "metadata": {
    "collapsed": false
   },
   "outputs": [],
   "source": [
    "@everywhere using RecursiveAutoencoders\n",
    "@everywhere  using UnfoldingRAE\n",
    "\n",
    "using ClusterSoup"
   ]
  },
  {
   "cell_type": "code",
   "execution_count": 4,
   "metadata": {
    "collapsed": false
   },
   "outputs": [
    {
     "name": "stdout",
     "output_type": "stream",
     "text": [
      "(50,268810)\n",
      "Dict{String,Int64}\n",
      "Array{String,1}\n"
     ]
    }
   ],
   "source": [
    "using WordEmbeddings\n",
    "LL,word_indexes, indexed_words =  load_embeddings(\"embeddings-scaled.EMBEDDING_SIZE=50.txt\");\n",
    "size(LL) |> println\n",
    "word_indexes |> typeof |> println\n",
    "indexed_words |> typeof |> println"
   ]
  },
  {
   "cell_type": "code",
   "execution_count": 5,
   "metadata": {
    "collapsed": false,
    "scrolled": true
   },
   "outputs": [
    {
     "name": "stdout",
     "output_type": "stream",
     "text": [
      "training_trees\t\tArray{Any,1}\t(3913,)\n"
     ]
    }
   ],
   "source": [
    "training_trees = open(\"training_sents.jsz\",\"r\") do fs\n",
    "    deserialize(fs)\n",
    "end;\n",
    "@assert length(@pipe training_trees |> filter(x->typeof(x)===UTF8String,_))==0\n",
    "@pz training_trees"
   ]
  },
  {
   "cell_type": "code",
   "execution_count": 6,
   "metadata": {
    "collapsed": false
   },
   "outputs": [
    {
     "data": {
      "text/plain": [
       "10-element Array{RemoteRef,1}:\n",
       " RemoteRef(2,1,172) \n",
       " RemoteRef(3,1,174) \n",
       " RemoteRef(4,1,176) \n",
       " RemoteRef(5,1,178) \n",
       " RemoteRef(6,1,180) \n",
       " RemoteRef(7,1,182) \n",
       " RemoteRef(8,1,184) \n",
       " RemoteRef(9,1,186) \n",
       " RemoteRef(10,1,188)\n",
       " RemoteRef(11,1,190)"
      ]
     },
     "execution_count": 6,
     "metadata": {},
     "output_type": "execute_result"
    }
   ],
   "source": [
    "r_training_trees = r_chunk_data(training_trees)"
   ]
  },
  {
   "cell_type": "code",
   "execution_count": 7,
   "metadata": {
    "collapsed": true
   },
   "outputs": [],
   "source": [
    "@everywhere function unpack!(rae::RAE, θ::Vector)\n",
    "    W_e_len = length(rae.W_e)\n",
    "    b_e_len = length(rae.b_e)\n",
    "    W_d_len = length(rae.W_d)\n",
    "    b_d_len = length(rae.b_d)\n",
    "    W_e_shape = size(rae.W_e)\n",
    "    W_d_shape = size(rae.W_d)\n",
    "    \n",
    "    rae.W_e = reshape(θ[1: W_e_len],W_e_shape)\n",
    "    rae.b_e = θ[W_e_len+1: W_e_len+b_e_len]\n",
    "    rae.W_d = reshape(θ[W_e_len+b_e_len+1: W_e_len+b_e_len+W_d_len],W_d_shape)\n",
    "    rae.b_d = θ[W_e_len+b_e_len+W_d_len+1: end]\n",
    "    \n",
    "    rae\n",
    "end\n",
    "\n",
    "@everywhere function pack(rae::RAE)\n",
    "    pack(rae.W_e,rae.b_e, rae.W_d,rae.b_d)\n",
    "end\n",
    "\n",
    "@everywhere function pack(∇W_e::Matrix{Float64}, ∇b_e::Vector{Float64}, ∇W_d::Matrix{Float64}, ∇b_d::Vector{Float64})\n",
    "    [∇W_e[:], ∇b_e, ∇W_d[:], ∇b_d] \n",
    "end\n"
   ]
  },
  {
   "cell_type": "code",
   "execution_count": 8,
   "metadata": {
    "collapsed": false
   },
   "outputs": [
    {
     "data": {
      "text/plain": [
       "loss_and_loss_grad! (generic function with 1 method)"
      ]
     },
     "execution_count": 8,
     "metadata": {},
     "output_type": "execute_result"
    }
   ],
   "source": [
    "\n",
    "function loss!(θ::Vector)  \n",
    "    #warn(\"loss! not defined\")\n",
    "    grad = similar(θ)\n",
    "    #loss_and_loss_grad!(θ::Vector)\n",
    "    cached_loss_and_loss_grad!(θ, grad)\n",
    "end\n",
    "\n",
    "function loss_grad!(θ::Vector, storage::Vector) \n",
    "    #warn(\"loss_grad not defined\")\n",
    "    cached_loss_and_loss_grad!(θ, grad)\n",
    "end\n",
    "\n",
    "\n",
    "rae_outer = RAE(LL,word_indexes,indexed_words);\n",
    "r_rae_outers = put!(workers(), rae_outer)\n",
    "function loss_and_loss_grad!(θ::Vector, grad::Vector)   \n",
    "    grad[:] = 0\n",
    "    @inbounds for r_rae_outer in r_rae_outers\n",
    "        update_remote(r_rae_outer, rae->unpack!(rae, θ) )\n",
    "    end\n",
    "    \n",
    "    function get_remote_loss_grad_function(r_rae_outer::RemoteRef)\n",
    "        @assert r_rae_outer.where == myid()\n",
    "        rae = fetch(r_rae_outer)        \n",
    "        function loss_and_loss_grad(tree::(Any,Any))\n",
    "            Δs, err = UnfoldingRAE.loss_and_loss_grad(rae, tree)\n",
    "            [pack(Δs...), err]\n",
    "        end\n",
    "    end\n",
    "    loss_and_loss_grads = map(r_rae_outers) do r_raeouter\n",
    "        remotecall(r_raeouter.where, get_remote_loss_grad_function, r_raeouter)\n",
    "    end\n",
    "    \n",
    "    \n",
    "    ret = prechunked_mapreduce(r_training_trees, loss_and_loss_grads, (+)) \n",
    "    grad[:] = ret[1:end-1]\n",
    "    err=ret[end]\n",
    "    \n",
    "    grad[:]/=length(training_trees)\n",
    "    err/=length(training_trees)\n",
    "    err\n",
    "end"
   ]
  },
  {
   "cell_type": "code",
   "execution_count": 9,
   "metadata": {
    "collapsed": false
   },
   "outputs": [
    {
     "data": {
      "text/plain": [
       "cached_loss_and_loss_grad! (generic function with 1 method)"
      ]
     },
     "execution_count": 9,
     "metadata": {},
     "output_type": "execute_result"
    }
   ],
   "source": [
    "\n",
    "loss_and_loss_grad_cache = Dict{Vector{Float64},(Float64, Vector{Float64})}()\n",
    "loss_and_loss_grad_cache_hits = 0\n",
    "loss_and_loss_grad_cache_misses = 0\n",
    "function cached_loss_and_loss_grad!(θ::Vector, grad::Vector)\n",
    "    global loss_and_loss_grad_cache\n",
    "    global loss_and_loss_grad_cache_hits\n",
    "    global loss_and_loss_grad_cache_misses\n",
    "    if haskey(loss_and_loss_grad_cache,θ)\n",
    "        loss_and_loss_grad_cache_hits+=1\n",
    "        err, grad[:] = loss_and_loss_grad_cache[θ]\n",
    "        err\n",
    "    else\n",
    "        loss_and_loss_grad_cache_misses+=1\n",
    "        err = loss_and_loss_grad!(θ, grad)\n",
    "        loss_and_loss_grad_cache[θ] = (err, grad)\n",
    "        err\n",
    "    end\n",
    "end"
   ]
  },
  {
   "cell_type": "code",
   "execution_count": 10,
   "metadata": {
    "collapsed": false,
    "scrolled": true
   },
   "outputs": [
    {
     "name": "stderr",
     "output_type": "stream",
     "text": [
      "exception on 6: exception on exception on 8: 9: exception on 4: ERROR: NLopt not properly installed. Please run Pkg.build(\"NLopt\")\n",
      " in error at error.jl:21\n",
      " in include_string at loading.jl:97\n",
      " in include_from_node1 at ./loading.jl:131\n",
      " in reload_path at loading.jl:152\n",
      " in _require at loading.jl:67\n",
      " in anonymous at multi.jl:1284\n",
      " in anonymous at multi.jl:848\n",
      " in run_work_thunk at multi.jl:621\n",
      " in run_work_thunk at multi.jl:630\n",
      " in anonymous at task.jl:6\n",
      "while loading /home/wheel/oxinabox/.julia/v0.3/NLopt/src/NLopt.jl, in expression starting on line 16\n",
      "ERROR: NLopt not properly installed. Please run Pkg.build(\"NLopt\")\n",
      " in error at error.jl:21\n",
      " in include_string at loading.jl:97\n",
      " in include_from_node1 at ./loading.jl:131\n",
      " in reload_path at loading.jl:152\n",
      " in _require at loading.jl:67\n",
      " in anonymous at multi.jl:1284\n",
      " in anonymous at multi.jl:848\n",
      " in run_work_thunk at multi.jl:621\n",
      " in run_work_thunk at multi.jl:630\n",
      " in anonymous at task.jl:6\n",
      "while loading /home/wheel/oxinabox/.julia/v0.3/NLopt/src/NLopt.jl, in expression starting on line 16\n",
      "ERROR: NLopt not properly installed. Please run Pkg.build(\"NLopt\")\n",
      " in error at error.jl:21\n",
      " in include_string at loading.jl:97\n",
      " in include_from_node1 at ./loading.jl:131\n",
      " in reload_path at loading.jl:152\n",
      " in _require at loading.jl:67\n",
      " in anonymous at multi.jl:1284\n",
      " in anonymous at multi.jl:848\n",
      " in run_work_thunk at multi.jl:621\n",
      " in run_work_thunk at multi.jl:630\n",
      " in anonymous at task.jl:6\n",
      "while loading /home/wheel/oxinabox/.julia/v0.3/NLopt/src/NLopt.jl, in expression starting on line 16\n",
      "ERROR: NLopt not properly installed. Please run Pkg.build(\"NLopt\")\n",
      " in error at error.jl:21\n",
      " in include_string at loading.jl:97\n",
      " in include_from_node1 at ./loading.jl:131\n",
      " in reload_path at loading.jl:152\n",
      " in _require at loading.jl:67\n",
      " in anonymous at multi.jl:1284\n",
      " in anonymous at multi.jl:848\n",
      " in run_work_thunk at multi.jl:621\n",
      " in run_work_thunk at multi.jl:630\n",
      " in anonymous at task.jl:6\n",
      "while loading /home/wheel/oxinabox/.julia/v0.3/NLopt/src/NLopt.jl, in expression starting on line 16\n",
      "exception on 7: exception on 5: ERROR: NLopt not properly installed. Please run Pkg.build(\"NLopt\")\n",
      " in error at error.jl:21\n",
      " in include_string at loading.jl:97\n",
      " in include_from_node1 at ./loading.jl:131\n",
      " in reload_path at loading.jl:152\n",
      " in _require at loading.jl:67\n",
      " in anonymous at multi.jl:1284\n",
      " in anonymous at multi.jl:848\n",
      " in run_work_thunk at multi.jl:621\n",
      " in run_work_thunk at multi.jl:630\n",
      " in anonymous at task.jl:6\n",
      "while loading /home/wheel/oxinabox/.julia/v0.3/NLopt/src/NLopt.jl, in expression starting on line 16\n",
      "exception on exception on 2: 3: ERROR: NLopt not properly installed. Please run Pkg.build(\"NLopt\")\n",
      " in error at error.jl:21\n",
      " in include_string at loading.jl:97\n",
      " in include_from_node1 at ./loading.jl:131\n",
      " in reload_path at loading.jl:152\n",
      " in _require at loading.jl:67\n",
      " in anonymous at multi.jl:1284\n",
      " in anonymous at multi.jl:848\n",
      " in run_work_thunk at multi.jl:621\n",
      " in run_work_thunk at multi.jl:630\n",
      " in anonymous at task.jl:6\n",
      "while loading /home/wheel/oxinabox/.julia/v0.3/NLopt/src/NLopt.jl, in expression starting on line 16\n",
      "ERROR: NLopt not properly installed. Please run Pkg.build(\"NLopt\")\n",
      " in error at error.jl:21\n",
      " in include_string at loading.jl:97\n",
      " in include_from_node1 at ./loading.jl:131\n",
      " in reload_path at loading.jl:152\n",
      " in _require at loading.jl:67\n",
      " in anonymous at multi.jl:1284\n",
      " in anonymous at multi.jl:848\n",
      " in run_work_thunk at multi.jl:621\n",
      " in run_work_thunk at multi.jl:630\n",
      " in anonymous at task.jl:6\n",
      "while loading /home/wheel/oxinabox/.julia/v0.3/NLopt/src/NLopt.jl, in expression starting on line 16\n",
      "ERROR: NLopt not properly installed. Please run Pkg.build(\"NLopt\")\n",
      " in error at error.jl:21\n",
      " in include_string at loading.jl:97\n",
      " in include_from_node1 at ./loading.jl:131\n",
      " in reload_path at loading.jl:152\n",
      " in _require at loading.jl:67\n",
      " in anonymous at multi.jl:1284\n",
      " in anonymous at multi.jl:848\n",
      " in run_work_thunk at multi.jl:621\n",
      " in run_work_thunk at multi.jl:630\n",
      " in anonymous at task.jl:6\n",
      "while loading /home/wheel/oxinabox/.julia/v0.3/NLopt/src/NLopt.jl, in expression starting on line 16\n"
     ]
    },
    {
     "name": "stdout",
     "output_type": "stream",
     "text": [
      "1\t631.6659266366264\t6.040049454477725e12\n",
      "2\t679.6542505423596\t3.3760902485548275e14\n",
      "3\t679.7047992214096\t3.294383070608061e14\n"
     ]
    },
    {
     "data": {
      "text/plain": [
       "(631.6659266366264,[-0.00822333,-0.0112657,0.0139677,0.00610842,-0.00242872,0.00818049,-0.00365157,-0.0162207,-0.011425,0.00250472  …  -0.00452749,-0.00962091,-0.00299901,-0.00132408,0.00980096,-0.00155211,-0.00441812,-0.0022725,0.0137535,-0.0105671],:MAXTIME_REACHED)"
      ]
     },
     "execution_count": 10,
     "metadata": {},
     "output_type": "execute_result"
    }
   ],
   "source": [
    "using NLopt\n",
    "\n",
    "f_call_count = 0\n",
    "function tracking_loss_and_loss_grad!(θ::Vector, grad::Vector)\n",
    "    global f_call_count\n",
    "    f_call_count+=1\n",
    "    f_val = cached_loss_and_loss_grad!(θ, grad)   \n",
    "    println(f_call_count, '\\t',f_val,'\\t',norm(grad))\n",
    "    f_val\n",
    "end\n",
    "#:LD_MMA, :LD_CCSAQ, :LD_LBFGS, :LD_SLSQP, :LD_VAR2, :LD_VAR1, :LD_TNEWTON_RESTART\n",
    "opt = Opt(:LD_MMA, length(pack(rae_outer)))\n",
    "\n",
    "#ftol_abs!(opt,1e-9)\n",
    "maxtime!(opt, 30)\n",
    "min_objective!(opt, tracking_loss_and_loss_grad!)\n",
    "(optf,optx,ret) = optimize!(opt,pack(rae_outer))\n"
   ]
  },
  {
   "cell_type": "code",
   "execution_count": 11,
   "metadata": {
    "collapsed": false
   },
   "outputs": [
    {
     "data": {
      "text/plain": [
       "631.6659266366264"
      ]
     },
     "execution_count": 11,
     "metadata": {},
     "output_type": "execute_result"
    }
   ],
   "source": [
    "optf"
   ]
  },
  {
   "cell_type": "code",
   "execution_count": 12,
   "metadata": {
    "collapsed": false
   },
   "outputs": [],
   "source": [
    "#MMA\n",
    "#167\t623.6986598947503\t3.472825423124687e12"
   ]
  },
  {
   "cell_type": "code",
   "execution_count": 17,
   "metadata": {
    "collapsed": false
   },
   "outputs": [
    {
     "ename": "LoadError",
     "evalue": "res not defined\nwhile loading In[17], in expression starting on line 4",
     "output_type": "error",
     "traceback": [
      "res not defined\nwhile loading In[17], in expression starting on line 4",
      ""
     ]
    }
   ],
   "source": [
    "using Optim #https://github.com/JuliaOpt/Optim.jl\n",
    "f=DifferentiableFunction(loss!,loss_grad!,cached_loss_and_loss_grad!)\n",
    "\n",
    "res = optimize(f, pack(rae, method=:l_bfgs, show_trace = true, store_trace = true, iterations = 30);\n",
    "@printval res.f_calls \n",
    "@printval res.g_calls \n",
    "@printval res.iterations\n",
    "@printval res.f_minimum\n",
    "@printval res.gr_converged\n",
    "@printval res.x_converged \n",
    "\n",
    "@printval res.trace\n",
    "@printval loss_and_loss_grad_cache_hits\n",
    "@printval loss_and_loss_grad_cache_misses"
   ]
  },
  {
   "cell_type": "code",
   "execution_count": 14,
   "metadata": {
    "collapsed": false
   },
   "outputs": [
    {
     "ename": "LoadError",
     "evalue": "res not defined\nwhile loading In[14], in expression starting on line 1",
     "output_type": "error",
     "traceback": [
      "res not defined\nwhile loading In[14], in expression starting on line 1",
      ""
     ]
    }
   ],
   "source": [
    "res"
   ]
  },
  {
   "cell_type": "code",
   "execution_count": null,
   "metadata": {
    "collapsed": true
   },
   "outputs": [],
   "source": []
  },
  {
   "cell_type": "code",
   "execution_count": 15,
   "metadata": {
    "collapsed": false
   },
   "outputs": [
    {
     "name": "stdout",
     "output_type": "stream",
     "text": [
      "elapsed time: 9.82446358 seconds (3661320 bytes allocated)\n"
     ]
    },
    {
     "data": {
      "text/plain": [
       "631.6659266366263"
      ]
     },
     "execution_count": 15,
     "metadata": {},
     "output_type": "execute_result"
    }
   ],
   "source": [
    "θ=pack(rae_outer)\n",
    "@time loss_and_loss_grad!(θ, zeros(θ))"
   ]
  },
  {
   "cell_type": "code",
   "execution_count": 16,
   "metadata": {
    "collapsed": true
   },
   "outputs": [],
   "source": [
    "Profile.clear()"
   ]
  },
  {
   "cell_type": "code",
   "execution_count": null,
   "metadata": {
    "collapsed": true
   },
   "outputs": [],
   "source": []
  }
 ],
 "metadata": {
  "kernelspec": {
   "display_name": "Julia 0.3.8",
   "language": "julia",
   "name": "julia-0.3"
  },
  "language_info": {
   "name": "julia",
   "version": "0.3.9"
  }
 },
 "nbformat": 4,
 "nbformat_minor": 0
}
