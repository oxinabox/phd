{
 "cells": [
  {
   "cell_type": "code",
   "execution_count": 16,
   "metadata": {
    "collapsed": false
   },
   "outputs": [],
   "source": [
    "using DataStructures\n",
    "using Base.Collections\n",
    "using Iterators\n",
    "using Pipe\n",
    "function pz(x :: AbstractArray)\n",
    "    println(typeof(x), \": \", size(x))\n",
    "end\n",
    "macro printval(ee)\n",
    "    ee_expr = @sprintf \"%s\" string(ee)\n",
    "    esc(:(println($ee_expr,\" = \", $ee)))\n",
    "end\n",
    "\n",
    "macro pz(ee)\n",
    "    ee_expr = @sprintf \"%s\" string(ee)\n",
    "    esc(:(println($ee_expr,\"\\t\\t\",typeof($ee), \"\\t\", size($ee))))\n",
    "end"
   ]
  },
  {
   "cell_type": "code",
   "execution_count": 2,
   "metadata": {
    "collapsed": false
   },
   "outputs": [],
   "source": [
    "using RecursiveAutoencoders"
   ]
  },
  {
   "cell_type": "code",
   "execution_count": 3,
   "metadata": {
    "collapsed": false
   },
   "outputs": [
    {
     "name": "stdout",
     "output_type": "stream",
     "text": [
      "(50,14)\n",
      "Dict{String,Int64}\n",
      "Array{String,1}\n"
     ]
    }
   ],
   "source": [
    "include(\"load_embeddings.jl\")\n",
    "LL,word_indexes, indexed_words =  load_embeddings(\"embeddings-test.txt\")\n",
    "#(\"embeddings-scaled.EMBEDDING_SIZE=50.txt\");\n",
    "size(LL) |> println\n",
    "word_indexes |> typeof |> println\n",
    "indexed_words |> typeof |> println"
   ]
  },
  {
   "cell_type": "code",
   "execution_count": 4,
   "metadata": {
    "collapsed": false,
    "scrolled": true
   },
   "outputs": [],
   "source": [
    "training_trees = open(\"training_sents.jsz\",\"r\") do fs\n",
    "    deserialize(fs)\n",
    "end;"
   ]
  },
  {
   "cell_type": "code",
   "execution_count": null,
   "metadata": {
    "collapsed": true
   },
   "outputs": [],
   "source": []
  },
  {
   "cell_type": "code",
   "execution_count": 5,
   "metadata": {
    "collapsed": false
   },
   "outputs": [],
   "source": [
    "abstract Side\n",
    "immutable Left<:Side\n",
    "end\n",
    "\n",
    "immutable Right<:Side\n",
    "end\n",
    "\n",
    "immutable NoSide<:Side\n",
    "end\n",
    "\n",
    "immutable FoldData\n",
    "    p::Embedding\n",
    "    left::Union(FoldData,Embedding)\n",
    "    right::Union(FoldData,Embedding)\n",
    "end\n",
    "\n",
    "immutable UnfoldData{T<:Side}\n",
    "    p::Embedding\n",
    "    parent::Union(FoldData,UnfoldData)\n",
    "    ĉ_i::Embedding\n",
    "    ĉ_j::Embedding\n",
    "    depth::Int64\n",
    "end\n",
    "\n",
    "immutable UnfoldLeaf{T<:Side}\n",
    "    ĉ::Embedding\n",
    "    parent::UnfoldData\n",
    "    c::Embedding\n",
    "    depth::Int64\n",
    "end\n",
    "\n"
   ]
  },
  {
   "cell_type": "code",
   "execution_count": 89,
   "metadata": {
    "collapsed": false
   },
   "outputs": [
    {
     "data": {
      "text/plain": [
       "fold (generic function with 1 method)"
      ]
     },
     "execution_count": 89,
     "metadata": {},
     "output_type": "execute_result"
    }
   ],
   "source": [
    "function emb(data::FoldData)\n",
    "    data.p\n",
    "end\n",
    "function emb(data::Embedding)\n",
    "    data\n",
    "end\n",
    "\n",
    "function fold(rae::RAE, tree::(Any,Any))\n",
    "    function eval_child(child::String)\n",
    "        c=eval_word_embedding(rae,child,false)\n",
    "        c\n",
    "    end\n",
    "    function eval_child(c::Embedding)\n",
    "        c\n",
    "    end\n",
    "    function eval_child(child::Any)\n",
    "        fold(rae,child)\n",
    "    end\n",
    "    \n",
    "   \n",
    "    left = eval_child(tree[1])\n",
    "    right = eval_child(tree[2])\n",
    "    p=eval_merge(rae, emb(left), emb(right))\n",
    "    FoldData(p, left, right)   \n",
    "end"
   ]
  },
  {
   "cell_type": "code",
   "execution_count": 9,
   "metadata": {
    "collapsed": false
   },
   "outputs": [
    {
     "data": {
      "text/plain": [
       "unfold (generic function with 3 methods)"
      ]
     },
     "execution_count": 9,
     "metadata": {},
     "output_type": "execute_result"
    }
   ],
   "source": [
    "function unfold{T}(rae::RAE, c::Embedding, ĉ::Embedding, parent, ::Type{T}, depth)\n",
    "    UnfoldLeaf{T}(ĉ, parent, c, depth)\n",
    "end\n",
    "\n",
    "\n",
    "function unfold{T}(rae::RAE, act::FoldData, p::Embedding, parent, ::Type{T}, depth::Int)\n",
    "    #Side is a ignored argument. This could be replaced with a generated function\n",
    "    ĉ_i, ĉ_j = reconstruct(rae,p)\n",
    "    data = UnfoldData{T}(p, parent, ĉ_i, ĉ_j,depth)\n",
    "    \n",
    "    left = unfold(rae, act.left, ĉ_i, data, Left, depth+1)\n",
    "    right= unfold(rae, act.right, ĉ_j, data, Right, depth+1)\n",
    "    [left; right]\n",
    "end\n",
    "\n",
    "function unfold(rae::RAE, act::FoldData)\n",
    "    #Handle the top case\n",
    "    unfold(rae, act,act.p,act, NoSide,0)\n",
    "end"
   ]
  },
  {
   "cell_type": "code",
   "execution_count": 12,
   "metadata": {
    "collapsed": false
   },
   "outputs": [],
   "source": [
    "# tests\n",
    "rae = RAE(LL,word_indexes,indexed_words);\n",
    "\n",
    "a=fold(rae,(\"killer\", \"cows\"))\n",
    "b=unfold(rae,a);\n",
    "@assert b[1].parent==b[2].parent\n",
    "\n",
    "\n",
    "a=fold(rae,(\"the\",(\"killer\", \"cows\")))\n",
    "b=unfold(rae,a);\n",
    "@assert b[1].parent==b[2].parent.parent==b[3].parent.parent"
   ]
  },
  {
   "cell_type": "code",
   "execution_count": 83,
   "metadata": {
    "collapsed": false,
    "scrolled": true
   },
   "outputs": [
    {
     "data": {
      "text/plain": [
       "δ (generic function with 2 methods)"
      ]
     },
     "execution_count": 83,
     "metadata": {},
     "output_type": "execute_result"
    }
   ],
   "source": [
    "function δ(a::Embedding, δ_above::Vector{Float64}, W::Matrix{Float64})\n",
    "    #a is the ouput of this layer: a=tanh(z) where z is the input from layer below\n",
    "    #W is matrix to move to above layer, from this one\n",
    "    dz = 1-a.^2 #Derivitive of a=tanh(z)\n",
    "    @pz W'\n",
    "    @pz δ_above\n",
    "    @pz dz\n",
    "    \n",
    "    (W'*δ_above).*dz\n",
    "end\n",
    "\n",
    "function δ(ĉ_ij::Embedding,c_ij::Embedding) \n",
    "    #Output Layer\n",
    "    M = length(c_ij)# ==length(ĉ_ij)\n",
    "    dz = 1-ĉ_ij\n",
    "    δ_above = ĉ_ij-c_ij\n",
    "    δ(ĉ_ij,δ_above, eye(M))     \n",
    "end\n"
   ]
  },
  {
   "cell_type": "code",
   "execution_count": 84,
   "metadata": {
    "collapsed": false
   },
   "outputs": [
    {
     "data": {
      "text/plain": [
       "UBPTS (generic function with 7 methods)"
      ]
     },
     "execution_count": 84,
     "metadata": {},
     "output_type": "execute_result"
    }
   ],
   "source": [
    "function sidepad(d::Vector{Float64}, ::Left)\n",
    "    padding=zeros(size(d))\n",
    "    [padding;d]\n",
    "end\n",
    "function sidepad(d::Vector{Float64}, ::Right)\n",
    "    padding=zeros(size(d))\n",
    "    [d, padding]\n",
    "end\n",
    "function sidepad(d::Vector{Float64}, ::NoSide)\n",
    "    padding=zeros(size(d))\n",
    "    [d, padding]\n",
    "end\n",
    "\n",
    "function UBPTS{T}(rae::RAE, leaf::UnfoldLeaf{T})\n",
    "    δ_half = δ(leaf.ĉ,leaf.c)\n",
    "    sidepad(δ_half, T())\n",
    "end\n",
    "\n",
    "function UBPTS{T}(rae::RAE, node::UnfoldData{T}, δ_above::Vector{Float64})\n",
    "    δ_half = δ(node.p, δ_above, rae.W_d)\n",
    "    sidepad(δ_half, T())\n",
    "end"
   ]
  },
  {
   "cell_type": "code",
   "execution_count": 85,
   "metadata": {
    "collapsed": false
   },
   "outputs": [
    {
     "data": {
      "text/plain": [
       "UBPTS (generic function with 7 methods)"
      ]
     },
     "execution_count": 85,
     "metadata": {},
     "output_type": "execute_result"
    }
   ],
   "source": [
    "function UBPTS(rae::RAE, nodes::Vector{UnfoldLeaf} )\n",
    "    delta_len = 2*length(nodes[1].ĉ)\n",
    "    parent_deltas = DefaultDict(UnfoldData, Vector{Float64},zeros(delta_len))\n",
    "    for node in nodes\n",
    "        parent_deltas[node.parent]+=UBPTS(rae,node)\n",
    "    end\n",
    "    UBPTS(rae,parent_deltas)\n",
    "end\n",
    "\n",
    "function UBPTS(rae::RAE, node_deltas::DefaultDict{UnfoldData,Vector{Float64}})\n",
    "    delta_len = 2*length(first(node_deltas)[1].ĉ_j)\n",
    "    \n",
    "    foldnode = nothing\n",
    "    δ_above_fold = zeros(delta_len)\n",
    "    \n",
    "    pending_nodes = PriorityQueue{UnfoldData, Int64}(Base.Order.Reverse)\n",
    "    enqueue!(node::UnfoldData) = pending_nodes[node] = node.depth\n",
    "    map(enqueue!, keys(node_deltas)) #Add all that were passed, as none have been processed\n",
    "    \n",
    "    function pend!(node::UnfoldData, node_delta::Vector{Float64})\n",
    "        if !haskey(node_deltas,node)\n",
    "            enqueue!(node) #then also hasn't been enque\n",
    "        end\n",
    "        node_deltas[node]+=node_delta\n",
    "    end\n",
    "        \n",
    "    function pend!(node::FoldData, node_delta::Vector{Float64})\n",
    "        foldnode = node\n",
    "        δ_above_fold+=node_delta\n",
    "    end\n",
    "\n",
    "    \n",
    "    while !isempty(pending_nodes)\n",
    "        node = dequeue!(pending_nodes)\n",
    "        δ_above =  node_deltas[node]\n",
    "        pend!(node.parent, UBPTS(rae, node, δ_above))\n",
    "    end\n",
    "    \n",
    "    δ_d_total = δ_above_fold + @pipe node_deltas |> values |> sum\n",
    "    (δ_above_fold, δ_d_total)\n",
    "end\n",
    "\n"
   ]
  },
  {
   "cell_type": "code",
   "execution_count": 93,
   "metadata": {
    "collapsed": false
   },
   "outputs": [
    {
     "data": {
      "text/plain": [
       "UBPTS (generic function with 7 methods)"
      ]
     },
     "execution_count": 93,
     "metadata": {},
     "output_type": "execute_result"
    }
   ],
   "source": [
    "function UBPTS(rae::RAE, node::FoldData, δ_above::Vector{Float64})\n",
    "    δ_node =  δ(node.p, δ_above, rae.W_e)\n",
    "    δ_left = δ_node[1:end/2]\n",
    "    δ_right = δ_node[end/2+1 : end]\n",
    "    \n",
    "    δ_total = δ_node\n",
    "    δ_total += UBPTS(rae, node.left, δ_left)\n",
    "    δ_total += UBPTS(rae, node.right, δ_right)\n",
    "    δ_total\n",
    "end\n",
    "\n",
    "function UBPTS(rae::RAE, node::Embedding, δ_above::Vector{Float64})\n",
    "    0 # Nothing to learn here (at least until we start learning rae.L)\n",
    "end\n"
   ]
  },
  {
   "cell_type": "code",
   "execution_count": 94,
   "metadata": {
    "collapsed": false
   },
   "outputs": [
    {
     "name": "stdout",
     "output_type": "stream",
     "text": [
      "W'\t\tArray{Float64,2}\t(50,50)\n",
      "δ_above\t\tArray{Float64,1}\t(50,)\n",
      "dz\t\tArray{Float64,1}\t(50,)\n",
      "W'\t\tArray{Float64,2}\t(50,50)\n",
      "δ_above\t\tArray{Float64,1}\t(50,)\n",
      "dz\t\tArray{Float64,1}\t(50,)\n",
      "W'\t\tArray{Float64,2}\t(50,50)\n",
      "δ_above\t\tArray{Float64,1}\t(50,)\n",
      "dz\t\tArray{Float64,1}\t(50,)\n",
      "W'\t\tArray{Float64,2}\t(50,100)\n",
      "δ_above\t\tArray{Float64,1}\t(100,)\n",
      "dz\t\tArray{Float64,1}\t(50,)\n",
      "W'\t\tArray{Float64,2}\t(50,100)\n",
      "δ_above\t\tArray{Float64,1}\t(100,)\n",
      "dz\t\tArray{Float64,1}\t(50,)\n",
      "--------------------------------------------------\n",
      "W'\t\tArray{Float64,2}\t(100,50)\n",
      "δ_above\t\tArray{Float64,1}\t(100,)\n",
      "dz\t\tArray{Float64,1}\t(50,)\n"
     ]
    },
    {
     "ename": "LoadError",
     "evalue": "DimensionMismatch(\"\")\nwhile loading In[94], in expression starting on line 6",
     "output_type": "error",
     "traceback": [
      "DimensionMismatch(\"\")\nwhile loading In[94], in expression starting on line 6",
      "",
      " in gemv! at linalg/matmul.jl:208",
      " in δ at In[83]:9",
      " in UBPTS at In[93]:2"
     ]
    }
   ],
   "source": [
    "a=fold(rae,(\"the\",(\"killer\", \"cows\")))\n",
    "b=unfold(rae,a);\n",
    "\n",
    "δd,δdt = UBPTS(rae, b)\n",
    "println(\"-\"^50)\n",
    "δet = UBPTS(rae, a, δd)"
   ]
  },
  {
   "cell_type": "code",
   "execution_count": 71,
   "metadata": {
    "collapsed": false
   },
   "outputs": [
    {
     "data": {
      "text/plain": [
       "100x2 Array{Float64,2}:\n",
       "  -8.19354    -7.21101   \n",
       "  -3.1814     -3.1513    \n",
       "   2.3397      1.87332   \n",
       "  -7.58225    -7.58225   \n",
       "   1.56845     1.17424   \n",
       "  -1.98312    -1.6071    \n",
       " -12.9093    -12.4813    \n",
       "   9.3002      9.37795   \n",
       "  -4.7084     -4.86453   \n",
       "   5.31724     5.31678   \n",
       "  -4.30485    -4.30483   \n",
       "   0.166642   -0.0364637 \n",
       "   0.318451    0.446157  \n",
       "   ⋮                     \n",
       "   0.0        -0.656443  \n",
       "   0.0        -0.0356401 \n",
       "   0.0        -0.326101  \n",
       "   0.0         0.0302125 \n",
       "   0.0         0.00691148\n",
       "   0.0        -0.0908111 \n",
       "   0.0        -0.0427043 \n",
       "   0.0         0.0916901 \n",
       "   0.0        -0.241985  \n",
       "   0.0         0.882429  \n",
       "   0.0         0.113368  \n",
       "   0.0         0.41706   "
      ]
     },
     "execution_count": 71,
     "metadata": {},
     "output_type": "execute_result"
    }
   ],
   "source": []
  },
  {
   "cell_type": "code",
   "execution_count": null,
   "metadata": {
    "collapsed": false
   },
   "outputs": [],
   "source": [
    "function RecursiveAutoencoders.eval_word_embeddings(rae::RAE, tree::(Any,Any))\n",
    "    function eval_child(child::String)\n",
    "        eval_word_embedding(rae,child,false)\n",
    "    end\n",
    "    function eval_child(child::Any)\n",
    "        eval_word_embeddings(rae,child)\n",
    "    end\n",
    "    c_i = eval_child(tree[1])\n",
    "    c_j = eval_child(tree[2])\n",
    "    [c_i c_j]\n",
    "end"
   ]
  },
  {
   "cell_type": "code",
   "execution_count": null,
   "metadata": {
    "collapsed": false
   },
   "outputs": [],
   "source": [
    "tree= (\"killer\", \"cows\")\n",
    "c = eval_word_embeddings(rae, tree)\n",
    "c= [c[:,1], c[:,2]]\n",
    "p = fold(rae,tree)\n",
    "ĉ = unfold(rae,tree,p)\n",
    "ĉ= [ĉ[:,1], ĉ[:,2]]\n",
    "grad_top(rae, ĉ, c, tree)"
   ]
  },
  {
   "cell_type": "code",
   "execution_count": null,
   "metadata": {
    "collapsed": false
   },
   "outputs": [],
   "source": [
    "x = Any[2,3]"
   ]
  },
  {
   "cell_type": "code",
   "execution_count": null,
   "metadata": {
    "collapsed": false
   },
   "outputs": [],
   "source": [
    "x"
   ]
  },
  {
   "cell_type": "code",
   "execution_count": null,
   "metadata": {
    "collapsed": true
   },
   "outputs": [],
   "source": []
  },
  {
   "cell_type": "code",
   "execution_count": null,
   "metadata": {
    "collapsed": false
   },
   "outputs": [],
   "source": []
  },
  {
   "cell_type": "code",
   "execution_count": null,
   "metadata": {
    "collapsed": true
   },
   "outputs": [],
   "source": []
  },
  {
   "cell_type": "code",
   "execution_count": null,
   "metadata": {
    "collapsed": false
   },
   "outputs": [],
   "source": [
    "function cosine_dist(a,b)\n",
    "    (a⋅b)/(norm(a)*norm(b))\n",
    "end\n",
    "\n",
    "function neighbour_dists(cc::Vector{Float64}, globe::Matrix{Float64})\n",
    "    [cosine_dist(cc, globe[:,ii]) for ii in 1:size(globe,2)]\n",
    "end\n",
    "\n",
    "\n",
    "function show_best(rae::RAE,ĉ::Embedding, nbest=20)\n",
    "    candidates=neighbour_dists(ĉ,rae.L)   \n",
    "    best_cands = [ (findfirst(candidates,score), score)\n",
    "                    for score in select(candidates,1:nbest, rev=true)[1:nbest]]\n",
    "    vcat([[rae.indexed_words[ii] round(score,2)] for (ii,score) in best_cands]...)\n",
    "end\n",
    "\n",
    "function show_bests(rae::RAE,ĉs::Embeddings, nbest=20)\n",
    "    hcat([show_best(rae,ĉs[:,ii],nbest) for ii in 1:size(ĉs,2)]...)\n",
    "end\n"
   ]
  },
  {
   "cell_type": "code",
   "execution_count": null,
   "metadata": {
    "collapsed": false
   },
   "outputs": [],
   "source": [
    "bs = show_bests(rae, ĉ_ij)\n",
    "bs[1,:][1:2:end]"
   ]
  },
  {
   "cell_type": "code",
   "execution_count": null,
   "metadata": {
    "collapsed": false
   },
   "outputs": [],
   "source": [
    "ĉ_ij"
   ]
  },
  {
   "cell_type": "code",
   "execution_count": null,
   "metadata": {
    "collapsed": true
   },
   "outputs": [],
   "source": []
  }
 ],
 "metadata": {
  "kernelspec": {
   "display_name": "Julia 0.4.0-dev",
   "language": "julia",
   "name": "julia-0.4"
  },
  "language_info": {
   "name": "julia",
   "version": "0.3.9"
  }
 },
 "nbformat": 4,
 "nbformat_minor": 0
}
