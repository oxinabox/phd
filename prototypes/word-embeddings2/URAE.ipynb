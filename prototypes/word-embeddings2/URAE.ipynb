{
 "cells": [
  {
   "cell_type": "code",
   "execution_count": 1,
   "metadata": {
    "collapsed": false
   },
   "outputs": [
    {
     "name": "stderr",
     "output_type": "stream",
     "text": [
      "expr: syntax error\n",
      "expr: syntax error\n",
      "expr: syntax error\n",
      "expr: syntax error\n"
     ]
    },
    {
     "data": {
      "text/plain": [
       "12-element Array{Int64,1}:\n",
       "  2\n",
       "  3\n",
       "  4\n",
       "  5\n",
       "  6\n",
       "  7\n",
       "  8\n",
       "  9\n",
       " 10\n",
       " 11\n",
       " 12\n",
       " 13"
      ]
     },
     "execution_count": 1,
     "metadata": {},
     "output_type": "execute_result"
    }
   ],
   "source": [
    "for ii in 1:2\n",
    "    addprocs([\"heathred\"])\n",
    "end\n",
    "\n",
    "for ii in 1:1\n",
    "    addprocs([\"amon\"], dir=\"\")\n",
    "    addprocs([\"zeus\"], dir=\"\")\n",
    "    addprocs([\"jove\"], dir=\"\")\n",
    "    addprocs([\"ares\"], dir=\"\")\n",
    "end\n",
    "\n",
    "for ii in 1:10\n",
    "    #addprocs([\"uggp\"], dir=\"\")\n",
    "end\n",
    "\n",
    "addprocs(6)\n",
    "workers()"
   ]
  },
  {
   "cell_type": "code",
   "execution_count": 2,
   "metadata": {
    "collapsed": false
   },
   "outputs": [],
   "source": [
    "using Iterators\n",
    "using Pipe\n",
    "function pz(x :: AbstractArray)\n",
    "    println(typeof(x), \": \", size(x))\n",
    "end\n",
    "macro printval(ee)\n",
    "    ee_expr = @sprintf \"%s\" string(ee)\n",
    "    esc(:(println($ee_expr,\" = \", $ee)))\n",
    "end\n",
    "\n",
    "macro pz(ee)\n",
    "    ee_expr = @sprintf \"%s\" string(ee)\n",
    "    esc(:(println($ee_expr,\"\\t\\t\",typeof($ee), \"\\t\", size($ee))))\n",
    "end"
   ]
  },
  {
   "cell_type": "code",
   "execution_count": 3,
   "metadata": {
    "collapsed": false
   },
   "outputs": [
    {
     "data": {
      "text/plain": [
       "get_chunks (generic function with 1 method)"
      ]
     },
     "execution_count": 3,
     "metadata": {},
     "output_type": "execute_result"
    }
   ],
   "source": [
    "@everywhere using RecursiveAutoencoders\n",
    "@everywhere  using UnfoldingRAE\n",
    "\n",
    "include(\"ClusterSoup.jl\")"
   ]
  },
  {
   "cell_type": "code",
   "execution_count": 4,
   "metadata": {
    "collapsed": false
   },
   "outputs": [
    {
     "name": "stdout",
     "output_type": "stream",
     "text": [
      "(50,268810)\n",
      "Dict{String,Int64}\n",
      "Array{String,1}\n"
     ]
    }
   ],
   "source": [
    "using WordEmbeddings\n",
    "LL,word_indexes, indexed_words =  load_embeddings(\"embeddings-scaled.EMBEDDING_SIZE=50.txt\");\n",
    "size(LL) |> println\n",
    "word_indexes |> typeof |> println\n",
    "indexed_words |> typeof |> println"
   ]
  },
  {
   "cell_type": "code",
   "execution_count": 5,
   "metadata": {
    "collapsed": false,
    "scrolled": true
   },
   "outputs": [
    {
     "name": "stdout",
     "output_type": "stream",
     "text": [
      "training_trees\t\tArray{Any,1}\t(3913,)\n"
     ]
    }
   ],
   "source": [
    "training_trees = open(\"training_sents.jsz\",\"r\") do fs\n",
    "    deserialize(fs)\n",
    "end;\n",
    "@assert length(@pipe training_trees |> filter(x->typeof(x)===UTF8String,_))==0\n",
    "@pz training_trees"
   ]
  },
  {
   "cell_type": "code",
   "execution_count": 6,
   "metadata": {
    "collapsed": false
   },
   "outputs": [
    {
     "name": "stdout",
     "output_type": "stream",
     "text": [
      "2: Array{Any,1}: 327\n",
      "3: Array{Any,1}: 326\n",
      "4: Array{Any,1}: 326\n",
      "5: Array{Any,1}: 326\n",
      "6: Array{Any,1}: 326\n",
      "7: Array{Any,1}: 326\n",
      "8: Array{Any,1}: 326\n",
      "9: Array{Any,1}: 326\n",
      "10: Array{Any,1}: 326\n",
      "11: Array{Any,1}: 326\n",
      "12: Array{Any,1}: 326\n",
      "13: Array{Any,1}: 326\n"
     ]
    }
   ],
   "source": [
    "chunk_data(:training_trees, training_trees)"
   ]
  },
  {
   "cell_type": "code",
   "execution_count": 7,
   "metadata": {
    "collapsed": true
   },
   "outputs": [],
   "source": [
    "@everywhere function unpack!(rae::RAE, θ::Vector)\n",
    "    W_e_len = length(rae.W_e)\n",
    "    b_e_len = length(rae.b_e)\n",
    "    W_d_len = length(rae.W_d)\n",
    "    b_d_len = length(rae.b_d)\n",
    "    W_e_shape = size(rae.W_e)\n",
    "    W_d_shape = size(rae.W_d)\n",
    "    \n",
    "    rae.W_e = reshape(θ[1: W_e_len],W_e_shape)\n",
    "    rae.b_e = θ[W_e_len+1: W_e_len+b_e_len]\n",
    "    rae.W_d = reshape(θ[W_e_len+b_e_len+1: W_e_len+b_e_len+W_d_len],W_d_shape)\n",
    "    rae.b_d = θ[W_e_len+b_e_len+W_d_len+1: end]\n",
    "    \n",
    "    rae\n",
    "end\n",
    "\n",
    "@everywhere function pack(rae::RAE)\n",
    "    pack(rae.W_e,rae.b_e, rae.W_d,rae.b_d)\n",
    "end\n",
    "\n",
    "@everywhere function pack(∇W_e::Matrix{Float64}, ∇b_e::Vector{Float64}, ∇W_d::Matrix{Float64}, ∇b_d::Vector{Float64})\n",
    "    [∇W_e[:], ∇b_e, ∇W_d[:], ∇b_d] \n",
    "end\n"
   ]
  },
  {
   "cell_type": "code",
   "execution_count": 9,
   "metadata": {
    "collapsed": false
   },
   "outputs": [
    {
     "data": {
      "text/plain": [
       "loss_and_loss_grad! (generic function with 1 method)"
      ]
     },
     "execution_count": 9,
     "metadata": {},
     "output_type": "execute_result"
    }
   ],
   "source": [
    "\n",
    "function loss!(θ::Vector)  \n",
    "    error(\"loss! not defined\")\n",
    "end\n",
    "\n",
    "function loss_grad!(θ::Vector, storage::Vector) \n",
    "    error(\"loss_grad not defined\")\n",
    "end\n",
    "\n",
    "\n",
    "#rae_outer = RAE(LL,word_indexes,indexed_words);\n",
    "set_global(:rae_outer,rae_outer)\n",
    "function loss_and_loss_grad!(θ::Vector, grad::Vector)   \n",
    "    grad[:] = 0\n",
    "    for pid in workers()\n",
    "        remotecall(pid, θv->unpack!(rae_outer, θv),θ) \n",
    "    end\n",
    "    \n",
    "    \n",
    "    function loss_and_loss_grad_single(tree::(Any,Any))\n",
    "        Δs, err = UnfoldingRAE.loss_and_loss_grad(rae_outer, tree)\n",
    "        [pack(Δs...), err]\n",
    "    end\n",
    "    \n",
    "    ret = prechunked_mapreduce(:training_trees, loss_and_loss_grad_single, (+)) \n",
    "    grad[:] = ret[1:end-1]\n",
    "    err=ret[end]\n",
    "    \n",
    "    grad[:]/=length(training_trees)\n",
    "    err/=length(training_trees)\n",
    "    err\n",
    "end"
   ]
  },
  {
   "cell_type": "code",
   "execution_count": null,
   "metadata": {
    "collapsed": false,
    "scrolled": true
   },
   "outputs": [
    {
     "name": "stderr",
     "output_type": "stream",
     "text": [
      "exception on 5: exception on exception on 6: 7: exception on exception on 32: : ERROR: NLopt not properly installed. Please run Pkg.build(\"NLopt\")\n",
      " in error at error.jl:21\n",
      " in include_string at loading.jl:97\n",
      " in include_from_node1 at ./loading.jl:131\n",
      " in reload_path at loading.jl:152\n",
      " in _require at loading.jl:67\n",
      " in anonymous at multi.jl:1284\n",
      " in anonymous at multi.jl:848\n",
      " in run_work_thunk at multi.jl:621\n",
      " in run_work_thunk at multi.jl:630\n",
      " in anonymous at task.jl:6\n",
      "while loading /home/wheel/oxinabox/.julia/v0.3/NLopt/src/NLopt.jl, in expression starting on line 16\n",
      "ERROR: NLopt not properly installed. Please run Pkg.build(\"NLopt\")\n",
      " in error at error.jl:21\n",
      " in include_string at loading.jl:97\n",
      " in include_from_node1 at ./loading.jl:131\n",
      " in reload_path at loading.jl:152\n",
      " in _require at loading.jl:67\n",
      " in anonymous at multi.jl:1284\n",
      " in anonymous at multi.jl:848\n",
      " in run_work_thunk at multi.jl:621\n",
      " in run_work_thunk at multi.jl:630\n",
      " in anonymous at task.jl:6\n",
      "while loading /home/wheel/oxinabox/.julia/v0.3/NLopt/src/NLopt.jl, in expression starting on line 16\n",
      "ERROR: NLopt not properly installed. Please run Pkg.build(\"NLopt\")\n",
      " in error at error.jl:21\n",
      " in include_string at loading.jl:97\n",
      " in include_from_node1 at ./loading.jl:131\n",
      " in reload_path at loading.jl:152\n",
      " in _require at loading.jl:67\n",
      " in anonymous at multi.jl:1284\n",
      " in anonymous at multi.jl:848\n",
      " in run_work_thunk at multi.jl:621\n",
      " in run_work_thunk at multi.jl:630\n",
      " in anonymous at task.jl:6\n",
      "while loading /home/wheel/oxinabox/.julia/v0.3/NLopt/src/NLopt.jl, in expression starting on line 16\n",
      "ERROR: NLopt not properly installed. Please run Pkg.build(\"NLopt\")\n",
      " in error at error.jl:21\n",
      " in include_string at loading.jl:97\n",
      " in include_from_node1 at ./loading.jl:131\n",
      " in reload_path at loading.jl:152\n",
      " in _require at loading.jl:67\n",
      " in anonymous at multi.jl:1284\n",
      " in anonymous at multi.jl:848\n",
      " in run_work_thunk at multi.jl:621\n",
      " in run_work_thunk at multi.jl:630\n",
      " in anonymous at task.jl:6\n",
      "while loading /home/wheel/oxinabox/.julia/v0.3/NLopt/src/NLopt.jl, in expression starting on line 16\n",
      "ERROR: NLopt not properly installed. Please run Pkg.build(\"NLopt\")\n",
      " in error at error.jl:21\n",
      " in include_string at loading.jl:97\n",
      " in include_from_node1 at ./loading.jl:131\n",
      " in reload_path at loading.jl:152\n",
      " in _require at loading.jl:67\n",
      " in anonymous at multi.jl:1284\n",
      " in anonymous at multi.jl:848\n",
      " in run_work_thunk at multi.jl:621\n",
      " in run_work_thunk at multi.jl:630\n",
      " in anonymous at task.jl:6\n",
      "while loading /home/wheel/oxinabox/.julia/v0.3/NLopt/src/NLopt.jl, in expression starting on line 16\n",
      "exception on 4: ERROR: NLopt not properly installed. Please run Pkg.build(\"NLopt\")\n",
      " in error at error.jl:21\n",
      " in include_string at loading.jl:97\n",
      " in include_from_node1 at ./loading.jl:131\n",
      " in reload_path at loading.jl:152\n",
      " in _require at loading.jl:67\n",
      " in anonymous at multi.jl:1284\n",
      " in anonymous at multi.jl:848\n",
      " in run_work_thunk at multi.jl:621\n",
      " in run_work_thunk at multi.jl:630\n",
      " in anonymous at task.jl:6\n",
      "while loading /home/wheel/oxinabox/.julia/v0.3/NLopt/src/NLopt.jl, in expression starting on line 16\n"
     ]
    }
   ],
   "source": [
    "using NLopt\n",
    "\n",
    "f_call_count = 0\n",
    "function tracking_loss_and_loss_grad!(θ::Vector, grad::Vector)\n",
    "    global f_call_count\n",
    "    f_call_count+=1\n",
    "    f_val = loss_and_loss_grad!(θ, grad)   \n",
    "    println(f_call_count, '\\t',f_val,'\\t',norm(grad))\n",
    "    f_val\n",
    "end\n",
    "#:LD_MMA, :LD_CCSAQ, :LD_LBFGS, :LD_SLSQP, :LD_VAR2, :LD_VAR1, :LD_TNEWTON_RESTART\n",
    "opt = Opt(:LD_MMA, length(pack(rae_outer)))\n",
    "\n",
    "#ftol_abs!(opt,1e-9)\n",
    "maxtime!(opt, 60*120)\n",
    "min_objective!(opt, tracking_loss_and_loss_grad!)\n",
    "(optf,optx,ret) = optimize!(opt,pack(rae_outer))\n"
   ]
  },
  {
   "cell_type": "code",
   "execution_count": null,
   "metadata": {
    "collapsed": false
   },
   "outputs": [],
   "source": [
    "pack(rae_outer) |> sizeof"
   ]
  },
  {
   "cell_type": "code",
   "execution_count": null,
   "metadata": {
    "collapsed": false
   },
   "outputs": [],
   "source": []
  },
  {
   "cell_type": "code",
   "execution_count": null,
   "metadata": {
    "collapsed": false
   },
   "outputs": [],
   "source": [
    "using Optim #https://github.com/JuliaOpt/Optim.jl\n",
    "f=DifferentiableFunction(loss!,loss_grad!,loss_and_loss_grad!)\n",
    "\n",
    "res = optimize(f, pack(rae_outer), method=:l_bfgs, show_trace = true, store_trace = true, iterations = 2);\n",
    "@printval res.f_calls \n",
    "@printval res.g_calls \n",
    "@printval res.x_converged \n",
    "@printval res.iterations\n",
    "@printval res.f_minimum\n",
    "@printval res.gr_converged\n",
    "@printval res.trace\n"
   ]
  },
  {
   "cell_type": "code",
   "execution_count": null,
   "metadata": {
    "collapsed": true
   },
   "outputs": [],
   "source": [
    "Profile.clear()"
   ]
  },
  {
   "cell_type": "code",
   "execution_count": null,
   "metadata": {
    "collapsed": false
   },
   "outputs": [],
   "source": [
    "θ=pack(rae_outer)\n",
    "@time loss_and_loss_grad!(θ, zeros(size(θ)))"
   ]
  },
  {
   "cell_type": "code",
   "execution_count": null,
   "metadata": {
    "collapsed": true
   },
   "outputs": [],
   "source": []
  }
 ],
 "metadata": {
  "kernelspec": {
   "display_name": "Julia 0.4.0-dev",
   "language": "julia",
   "name": "julia-0.4"
  },
  "language_info": {
   "name": "julia",
   "version": "0.3.9"
  }
 },
 "nbformat": 4,
 "nbformat_minor": 0
}
