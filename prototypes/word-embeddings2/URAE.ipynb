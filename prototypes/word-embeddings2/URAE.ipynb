{
 "cells": [
  {
   "cell_type": "code",
   "execution_count": 1,
   "metadata": {
    "collapsed": true
   },
   "outputs": [],
   "source": [
    "using Pipe\n",
    "function pz(x :: AbstractArray)\n",
    "    println(typeof(x), \": \", size(x))\n",
    "end\n",
    "macro printval(ee)\n",
    "    ee_expr = @sprintf \"%s\" string(ee)\n",
    "    esc(:(println($ee_expr,\" = \", $ee)))\n",
    "end"
   ]
  },
  {
   "cell_type": "code",
   "execution_count": 2,
   "metadata": {
    "collapsed": false
   },
   "outputs": [],
   "source": [
    "using RecursiveAutoencoders"
   ]
  },
  {
   "cell_type": "code",
   "execution_count": 3,
   "metadata": {
    "collapsed": false
   },
   "outputs": [],
   "source": [
    "using HDF5, JLD\n",
    "using Iterators\n"
   ]
  },
  {
   "cell_type": "code",
   "execution_count": 4,
   "metadata": {
    "collapsed": false
   },
   "outputs": [
    {
     "data": {
      "text/plain": [
       "load_embeddings (generic function with 1 method)"
      ]
     },
     "execution_count": 4,
     "metadata": {},
     "output_type": "execute_result"
    }
   ],
   "source": [
    "include(\"load_embeddings.jl\")"
   ]
  },
  {
   "cell_type": "code",
   "execution_count": 5,
   "metadata": {
    "collapsed": false
   },
   "outputs": [
    {
     "name": "stdout",
     "output_type": "stream",
     "text": [
      "(50,268810)\n",
      "Dict{String,Int64}\n",
      "Array{String,1}\n"
     ]
    }
   ],
   "source": [
    "LL,word_indexes, indexed_words =  load_embeddings(\"embeddings-scaled.EMBEDDING_SIZE=50.txt\");\n",
    "size(LL) |> println\n",
    "word_indexes |> typeof |> println\n",
    "indexed_words |> typeof |> println"
   ]
  },
  {
   "cell_type": "code",
   "execution_count": 6,
   "metadata": {
    "collapsed": false,
    "scrolled": true
   },
   "outputs": [
    {
     "data": {
      "text/plain": [
       "5-element Array{Any,1}:\n",
       " (((\"Pierre\",\"Vinken\"),(\",\",(((\"61\",\"years\"),\"old\"),\",\"))),((\"will\",(\"join\",((\"the\",\"board\"),((\"as\",(\"a\",(\"nonexecutive\",\"director\"))),(\"Nov.\",\"29\"))))),\".\"))                                                                                                                                                                                                                   \n",
       " ((\"Mr.\",\"Vinken\"),((\"is\",(\"chairman\",(\"of\",((\"Elsevier\",\"N.V.\"),(\",\",(\"the\",(\"Dutch\",(\"publishing\",\"group\")))))))),\".\"))                                                                                                                                                                                                                                                        \n",
       " (((\"Rudolph\",\"Agnew\"),(\",\",((((\"55\",\"years\"),\"old\"),(\"and\",((\"former\",\"chairman\"),(\"of\",(\"Consolidated\",(\"Gold\",(\"Fields\",\"PLC\"))))))),\",\"))),((\"was\",(\"named\",(\"*-1\",((\"a\",(\"nonexecutive\",\"director\")),(\"of\",(\"this\",(\"British\",(\"industrial\",\"conglomerate\")))))))),\".\"))                                                                                                    \n",
       " (((((\"A\",\"form\"),(\"of\",\"asbestos\")),(\"once\",(\"used\",(\"*\",(\"*\",(\"to\",(\"make\",(\"Kent\",(\"cigarette\",\"filters\"))))))))),(\"has\",(\"caused\",((\"a\",(\"high\",\"percentage\")),((\"of\",(\"cancer\",\"deaths\")),(\"among\",((\"a\",\"group\"),(\"of\",(\"workers\",(\"exposed\",(\"*\",((\"to\",\"it\"),(((\"more\",(\"than\",\"30\")),\"years\"),\"ago\"))))))))))))),(\",\",(\"researchers\",((\"reported\",(\"0\",\"*T*-1\")),\".\"))))\n",
       " ((((\"The\",(\"asbestos\",\"fiber\")),(\",\",(\"crocidolite\",\",\"))),(\"is\",((\"unusually\",\"resilient\"),((\"once\",(\"it\",(\"enters\",(\"the\",\"lungs\")))),(\",\",(\"with\",(((\"even\",(\"brief\",\"exposures\")),(\"to\",\"it\")),(\"causing\",(\"symptoms\",(\"that\",(\"*T*-1\",(\"show\",(\"up\",(\"decades\",\"later\")))))))))))))),(\",\",(\"researchers\",((\"said\",(\"0\",\"*T*-2\")),\".\"))))                                   "
      ]
     },
     "execution_count": 6,
     "metadata": {},
     "output_type": "execute_result"
    }
   ],
   "source": [
    "training_trees = load(\"training_sents.jld\", \"treebank\")"
   ]
  },
  {
   "cell_type": "code",
   "execution_count": 63,
   "metadata": {
    "collapsed": false
   },
   "outputs": [
    {
     "data": {
      "text/plain": [
       "fold (generic function with 1 method)"
      ]
     },
     "execution_count": 63,
     "metadata": {},
     "output_type": "execute_result"
    }
   ],
   "source": [
    "function fold(rae::RAE, tree::(Any,Any))\n",
    "    function eval_child(child::String)\n",
    "        eval_word_embedding(rae,child,false)\n",
    "    end\n",
    "    function eval_child(child::Any)\n",
    "        fold(rae,child)\n",
    "    end\n",
    "    \n",
    "    c_i = eval_child(tree[1])\n",
    "    c_j = eval_child(tree[2])\n",
    "    eval_merges(rae, [c_i; c_j]'')[:]\n",
    "end\n"
   ]
  },
  {
   "cell_type": "code",
   "execution_count": 42,
   "metadata": {
    "collapsed": false
   },
   "outputs": [
    {
     "data": {
      "text/plain": [
       "eval_word_embeddings (generic function with 3 methods)"
      ]
     },
     "execution_count": 42,
     "metadata": {},
     "output_type": "execute_result"
    }
   ],
   "source": [
    "function RecursiveAutoencoders.eval_word_embeddings(rae::RAE, tree::(Any,Any))\n",
    "    function eval_child(child::String)\n",
    "        eval_word_embedding(rae,child,false)\n",
    "    end\n",
    "    function eval_child(child::Any)\n",
    "        eval_word_embeddings(rae,child)\n",
    "    end\n",
    "    c_i = eval_child(tree[1])\n",
    "    c_j = eval_child(tree[2])\n",
    "    [c_i c_j]\n",
    "end"
   ]
  },
  {
   "cell_type": "code",
   "execution_count": 39,
   "metadata": {
    "collapsed": false
   },
   "outputs": [
    {
     "data": {
      "text/plain": [
       "unfold (generic function with 4 methods)"
      ]
     },
     "execution_count": 39,
     "metadata": {},
     "output_type": "execute_result"
    }
   ],
   "source": [
    "function unfold(rae::RAE, tree::(String,String), pp::Embedding)\n",
    "    ĉ_is, ĉ_js = reconstruct(rae, pp)\n",
    "    [ĉ_is ĉ_js]\n",
    "end\n",
    "\n",
    "\n",
    "function unfold(rae::RAE, tree::(Any,String), pp::Embedding)\n",
    "    p̂_is, ĉ_js = reconstruct(rae, pp)\n",
    "    ĉ_is = unfold(rae, tree[1], p̂_is)\n",
    "    [ĉ_is ĉ_js]\n",
    "end\n",
    "\n",
    "function unfold(rae::RAE, tree::(String,Any), pp::Embedding)\n",
    "    ĉ_is, p̂_js = reconstruct(rae, pp)\n",
    "    ĉ_js = unfold(rae, tree[2], p̂_js)\n",
    "    [ĉ_is ĉ_js]\n",
    "    \n",
    "end\n",
    "\n",
    "function unfold(rae::RAE, tree::(Any,Any), pp::Embedding)\n",
    "    p̂_is, p̂_js = reconstruct(rae, pp)\n",
    "    ĉ_is = unfold(rae, tree[1], p̂_is)\n",
    "    ĉ_js = unfold(rae, tree[2], p̂_js)\n",
    "    [ĉ_is ĉ_js]\n",
    "end"
   ]
  },
  {
   "cell_type": "code",
   "execution_count": 40,
   "metadata": {
    "collapsed": true
   },
   "outputs": [],
   "source": [
    "rae = RAE(LL,word_indexes,indexed_words);"
   ]
  },
  {
   "cell_type": "code",
   "execution_count": null,
   "metadata": {
    "collapsed": true
   },
   "outputs": [],
   "source": []
  },
  {
   "cell_type": "code",
   "execution_count": null,
   "metadata": {
    "collapsed": true
   },
   "outputs": [],
   "source": []
  },
  {
   "cell_type": "code",
   "execution_count": 67,
   "metadata": {
    "collapsed": false
   },
   "outputs": [
    {
     "data": {
      "text/plain": [
       "grad_top (generic function with 2 methods)"
      ]
     },
     "execution_count": 67,
     "metadata": {},
     "output_type": "execute_result"
    }
   ],
   "source": [
    "#eval_scores_gradient\n",
    "\n",
    "\n",
    "function UBPTS(rae::RAE, pp::Embedding, ĉ_ij::Embedding,c_ij::Embedding, tree::(String, String))\n",
    "\n",
    "end\n",
    "\n",
    "\n",
    "\n",
    "function δ(a::Embedding, δ_above::Vector{Float64}, W::Matrix{Float64})\n",
    "    #a is the ouput of this layer: a=tanh(z) where z is the input from layer below\n",
    "    #W is matrix to move to above layer, from this one\n",
    "    dz = 1-a.^2 #Derivitive of a=tanh(z)\n",
    "    (W'*δ_above).*dz\n",
    "    \n",
    "    \n",
    "end\n",
    "\n",
    "function δ(ĉ_ij::Embedding,c_ij::Embedding) \n",
    "    #Output Layer\n",
    "    M = length(c_ij)#==length(ĉ_ij)\n",
    "    δ_above = ĉ_ij-c_ij\n",
    "    δ(ĉ_ij,δ_above, eye(M))     \n",
    "end\n"
   ]
  },
  {
   "cell_type": "code",
   "execution_count": 76,
   "metadata": {
    "collapsed": false
   },
   "outputs": [
    {
     "data": {
      "text/plain": [
       "100-element Array{Float64,1}:\n",
       "  6.32102e-6 \n",
       " -0.0533963  \n",
       "  4.46675e-8 \n",
       " -0.0449085  \n",
       "  0.00564747 \n",
       " -4.94233e-5 \n",
       " -0.261981   \n",
       " -1.31843e-7 \n",
       " -9.72351e-10\n",
       " -1.55821e-5 \n",
       " -0.145269   \n",
       "  1.84583e-7 \n",
       " -1.48438e-5 \n",
       "  ⋮          \n",
       " -0.182976   \n",
       " -0.0120398  \n",
       "  0.00139948 \n",
       " -0.00129565 \n",
       "  0.0296823  \n",
       " -0.000207284\n",
       "  0.000823184\n",
       "  0.284631   \n",
       "  3.03566e-10\n",
       "  0.273958   \n",
       " -2.86376e-5 \n",
       "  0.00340687 "
      ]
     },
     "execution_count": 76,
     "metadata": {},
     "output_type": "execute_result"
    }
   ],
   "source": [
    "tree= (\"killer\", \"cows\")\n",
    "c = eval_word_embeddings(rae, tree)\n",
    "c= [c[:,1], c[:,2]]\n",
    "p = fold(rae,tree)\n",
    "ĉ = unfold(rae,tree,p)\n",
    "ĉ= [ĉ[:,1], ĉ[:,2]]\n",
    "grad_top(rae, ĉ, c, tree)"
   ]
  },
  {
   "cell_type": "code",
   "execution_count": 75,
   "metadata": {
    "collapsed": false
   },
   "outputs": [
    {
     "data": {
      "text/plain": [
       "100-element Array{Float64,1}:\n",
       "  0.0708036 \n",
       "  0.163581  \n",
       "  0.328392  \n",
       "  0.0526626 \n",
       "  0.0564138 \n",
       " -0.498336  \n",
       " -0.188135  \n",
       " -0.452825  \n",
       " -0.430188  \n",
       " -0.244041  \n",
       " -0.262811  \n",
       "  0.164442  \n",
       " -0.329461  \n",
       "  ⋮         \n",
       " -0.133182  \n",
       "  0.264526  \n",
       " -0.0278491 \n",
       " -0.13398   \n",
       "  0.227585  \n",
       " -0.0487419 \n",
       "  0.233536  \n",
       " -0.00790207\n",
       "  0.0334298 \n",
       "  0.0125151 \n",
       " -0.00868124\n",
       "  0.247925  "
      ]
     },
     "execution_count": 75,
     "metadata": {},
     "output_type": "execute_result"
    }
   ],
   "source": [
    "c"
   ]
  },
  {
   "cell_type": "code",
   "execution_count": null,
   "metadata": {
    "collapsed": true
   },
   "outputs": [],
   "source": []
  },
  {
   "cell_type": "code",
   "execution_count": null,
   "metadata": {
    "collapsed": true
   },
   "outputs": [],
   "source": []
  },
  {
   "cell_type": "code",
   "execution_count": null,
   "metadata": {
    "collapsed": true
   },
   "outputs": [],
   "source": []
  },
  {
   "cell_type": "code",
   "execution_count": 43,
   "metadata": {
    "collapsed": false
   },
   "outputs": [
    {
     "name": "stdout",
     "output_type": "stream",
     "text": [
      "((\"Mr.\",\"Vinken\"),((\"is\",(\"chairman\",(\"of\",((\"Elsevier\",\"N.V.\"),(\",\",(\"the\",(\"Dutch\",(\"publishing\",\"group\")))))))),\".\"))\n"
     ]
    },
    {
     "data": {
      "text/plain": [
       "50x13 Array{Float64,2}:\n",
       " -0.0781008   0.0398781   -0.0990165  …  -0.316181    -0.684364   -1.29578  \n",
       " -0.0522685   0.048215    -0.207461      -0.288292     0.481716    0.104425 \n",
       " -0.097986    0.0176077    0.347496       0.00522425   0.203799    0.0333433\n",
       "  0.294186   -0.0251486   -0.38533        0.0601309    0.493344   -0.123819 \n",
       "  0.138973   -0.0627525    0.321955       0.474345     0.539983   -0.205738 \n",
       " -0.253114    0.0251626    0.131625   …  -0.0204928   -0.631618   -0.91893  \n",
       "  0.167022    0.0117941   -0.44702       -0.150081     0.124077    0.33767  \n",
       " -0.181067    0.0613618   -0.579675      -0.430258    -0.0707779  -1.35253  \n",
       " -0.017897    0.0182828    0.0898394      0.213327     0.515492    0.0627508\n",
       " -0.174558    0.028989    -0.176701      -0.348957     0.0271393  -0.706524 \n",
       "  0.272071    0.0305115   -0.101945   …   0.131612    -0.217549    0.313866 \n",
       " -0.0591885  -0.0174257    0.495167       0.260685     0.103464   -0.206052 \n",
       "  0.0366249   0.0267883    0.0331284     -0.1686      -1.05519    -0.414846 \n",
       "  ⋮                                   ⋱   ⋮                                 \n",
       " -0.430556   -0.00159508   0.206454       0.234712     0.235142    0.511014 \n",
       "  0.343152   -0.0682754    0.533131       0.20116      0.359252    0.461899 \n",
       "  0.235848   -0.0136059   -0.19694    …  -0.209931    -0.281528   -0.684763 \n",
       " -0.180312   -0.0243803    0.278514      -0.101751     0.118597   -0.695711 \n",
       "  0.303026   -0.0181979    0.822607       0.041856     0.496323    0.329106 \n",
       " -0.0936977   0.00254263  -0.391981       0.0979653   -0.130838    0.569732 \n",
       " -0.110728   -0.0295249    0.0213839      0.148115     1.0239      0.378028 \n",
       "  0.502563   -0.0390804    0.380784   …   0.459122    -0.0302326  -0.197559 \n",
       "  0.0622668  -0.0137563   -0.297719      -0.108178     0.09832     0.162349 \n",
       " -0.207872    0.0252652   -0.0473994     -0.315193     0.108079   -0.285262 \n",
       " -0.526861    0.0304082    0.50178       -0.502479     0.249808   -0.228528 \n",
       " -0.433488    0.0337324    0.0666886     -0.0877629   -0.534313    0.0252666"
      ]
     },
     "execution_count": 43,
     "metadata": {},
     "output_type": "execute_result"
    }
   ],
   "source": []
  },
  {
   "cell_type": "code",
   "execution_count": null,
   "metadata": {
    "collapsed": true
   },
   "outputs": [],
   "source": []
  },
  {
   "cell_type": "code",
   "execution_count": 23,
   "metadata": {
    "collapsed": false
   },
   "outputs": [
    {
     "data": {
      "text/plain": [
       "show_bests (generic function with 2 methods)"
      ]
     },
     "execution_count": 23,
     "metadata": {},
     "output_type": "execute_result"
    }
   ],
   "source": [
    "function cosine_dist(a,b)\n",
    "    (a⋅b)/(norm(a)*norm(b))\n",
    "end\n",
    "\n",
    "function neighbour_dists(cc::Vector{Float64}, globe::Matrix{Float64})\n",
    "    [cosine_dist(cc, globe[:,ii]) for ii in 1:size(globe,2)]\n",
    "end\n",
    "\n",
    "\n",
    "function show_best(rae::RAE,ĉ::Embedding, nbest=20)\n",
    "    candidates=neighbour_dists(ĉ,rae.L)   \n",
    "    best_cands = [ (findfirst(candidates,score), score)\n",
    "                    for score in select(candidates,1:nbest, rev=true)[1:nbest]]\n",
    "    vcat([[rae.indexed_words[ii] round(score,2)] for (ii,score) in best_cands]...)\n",
    "end\n",
    "\n",
    "function show_bests(rae::RAE,ĉs::Embeddings, nbest=20)\n",
    "    hcat([show_best(rae,ĉs[:,ii],nbest) for ii in 1:size(ĉs,2)]...)\n",
    "end\n"
   ]
  },
  {
   "cell_type": "code",
   "execution_count": 28,
   "metadata": {
    "collapsed": false
   },
   "outputs": [
    {
     "data": {
      "text/plain": [
       "13-element Array{Any,1}:\n",
       " \"Yasser\"      \n",
       " \"stand-ins\"   \n",
       " \"Woltjes\"     \n",
       " \"ephedra-free\"\n",
       " \"d'interprte\" \n",
       " \"guerrillaa\"  \n",
       " \"Oregonian\"   \n",
       " \"machinist\"   \n",
       " \"Fitzpatrick\" \n",
       " \"1-1/4-mile\"  \n",
       " \"snap-shut\"   \n",
       " \"five-page\"   \n",
       " \"swearing\"    "
      ]
     },
     "execution_count": 28,
     "metadata": {},
     "output_type": "execute_result"
    }
   ],
   "source": [
    "bs = show_bests(rae, ĉ_ij)\n",
    "bs[1,:][1:2:end]"
   ]
  },
  {
   "cell_type": "code",
   "execution_count": 29,
   "metadata": {
    "collapsed": false
   },
   "outputs": [
    {
     "data": {
      "text/plain": [
       "50x13 Array{Float64,2}:\n",
       "  0.999885   0.987141   1.0       …  -0.815472  -1.0        -0.999992\n",
       " -0.999984  -0.999373  -1.0           1.0       -0.999896   -0.999999\n",
       " -1.0        0.184681  -0.970433      1.0        1.0        -0.54884 \n",
       "  0.507712   0.999675  -0.996132     -1.0       -1.0        -0.999953\n",
       "  0.999995   0.999289  -1.0           0.897988   0.999969    0.949538\n",
       " -0.999999  -0.989071   1.0       …  -0.708699   0.999995   -0.997651\n",
       " -0.999996   0.685959  -0.999992      1.0       -1.0        -1.0     \n",
       " -0.928679   1.0       -0.998401     -0.998546   0.999161    0.998645\n",
       "  0.565272   1.0        0.969859      1.0       -0.999847   -0.996704\n",
       " -0.999734  -1.0       -0.432486     -0.987676   0.999936    1.0     \n",
       "  1.0       -0.997039  -0.996915  …   1.0       -0.99992     0.999892\n",
       "  0.999979   0.430398  -0.99761      -1.0        0.999988    1.0     \n",
       " -0.999999   0.994946   1.0           0.999981  -1.0         0.19775 \n",
       "  ⋮                               ⋱   ⋮                              \n",
       " -0.999973  -0.993844  -0.548783      1.0        1.0         0.956486\n",
       "  1.0        1.0       -1.0          -1.0       -0.999993    1.0     \n",
       " -0.906523  -0.999998  -0.937845  …   1.0        0.999965   -0.999977\n",
       " -1.0       -0.998981  -1.0           1.0        1.0        -0.633298\n",
       " -0.926179   1.0       -0.999008      1.0        0.966307   -0.916888\n",
       "  1.0        0.997372  -0.691512     -0.999695   0.213428    1.0     \n",
       " -0.864664  -0.25489    0.999928     -1.0       -0.999996   -0.963166\n",
       "  1.0       -0.902647  -1.0       …  -1.0        0.565439   -1.0     \n",
       " -0.658184   0.9985    -0.993165     -1.0       -1.0         0.966   \n",
       "  0.998995   0.99995   -0.999996      0.999994   0.0256826   0.997675\n",
       "  0.323059  -1.0        1.0           0.887799  -0.999742   -1.0     \n",
       " -0.977165  -0.999986  -0.999999      0.869249   0.999992   -0.997578"
      ]
     },
     "execution_count": 29,
     "metadata": {},
     "output_type": "execute_result"
    }
   ],
   "source": [
    "ĉ_ij"
   ]
  },
  {
   "cell_type": "code",
   "execution_count": null,
   "metadata": {
    "collapsed": true
   },
   "outputs": [],
   "source": []
  }
 ],
 "metadata": {
  "kernelspec": {
   "display_name": "Julia 0.3.8",
   "language": "julia",
   "name": "julia-0.3"
  },
  "language_info": {
   "name": "julia",
   "version": "0.3.8"
  }
 },
 "nbformat": 4,
 "nbformat_minor": 0
}
