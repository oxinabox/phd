{
 "cells": [
  {
   "cell_type": "code",
   "execution_count": 1,
   "metadata": {
    "collapsed": false,
    "scrolled": true
   },
   "outputs": [
    {
     "name": "stderr",
     "output_type": "stream",
     "text": [
      "expr: syntax error\n",
      "expr: syntax error\n",
      "expr: syntax error\n",
      "expr: syntax error\n",
      "expr: syntax error\n",
      "expr: syntax error\n",
      "expr: syntax error\n",
      "expr: syntax error\n",
      "expr: syntax error\n",
      "expr: syntax error\n",
      "expr: syntax error\n",
      "expr: syntax error\n"
     ]
    },
    {
     "data": {
      "text/plain": [
       "18-element Array{Int64,1}:\n",
       "  2\n",
       "  3\n",
       "  4\n",
       "  5\n",
       "  6\n",
       "  7\n",
       "  8\n",
       "  9\n",
       " 10\n",
       " 11\n",
       " 12\n",
       " 13\n",
       " 14\n",
       " 15\n",
       " 16\n",
       " 17\n",
       " 18\n",
       " 19"
      ]
     },
     "execution_count": 1,
     "metadata": {},
     "output_type": "execute_result"
    }
   ],
   "source": [
    "for ii in 1:4\n",
    "    addprocs([\"heathred\"])\n",
    "end\n",
    "\n",
    "for ii in 1:3\n",
    "    addprocs([\"amon\"], dir=\"\")\n",
    "    addprocs([\"zeus\"], dir=\"\")\n",
    "    addprocs([\"jove\"], dir=\"\")\n",
    "    addprocs([\"ares\"], dir=\"\")\n",
    "end\n",
    "\n",
    "for ii in 1:10\n",
    "    #addprocs([\"uggp\"], dir=\"\")\n",
    "end\n",
    "\n",
    "addprocs(2)\n",
    "workers()"
   ]
  },
  {
   "cell_type": "code",
   "execution_count": 2,
   "metadata": {
    "collapsed": false
   },
   "outputs": [],
   "source": [
    "using Iterators\n",
    "using Pipe\n",
    "\n",
    "macro printval(ee)\n",
    "    ee_expr = @sprintf \"%s\" string(ee)\n",
    "    esc(:(println($ee_expr,\" = \", $ee)))\n",
    "end\n",
    "\n",
    "macro pz(ee)\n",
    "    ee_expr = @sprintf \"%s\" string(ee)\n",
    "    esc(:(println($ee_expr,\"\\t\\t\",typeof($ee), \"\\t\", size($ee))))\n",
    "end"
   ]
  },
  {
   "cell_type": "code",
   "execution_count": 3,
   "metadata": {
    "collapsed": false
   },
   "outputs": [],
   "source": [
    "@everywhere using RecursiveAutoencoders\n",
    "@everywhere  using UnfoldingRAE\n",
    "@everywhere using Zlib\n",
    "\n",
    "using ClusterSoup"
   ]
  },
  {
   "cell_type": "code",
   "execution_count": 4,
   "metadata": {
    "collapsed": false
   },
   "outputs": [
    {
     "name": "stdout",
     "output_type": "stream",
     "text": [
      "(300,15000)\n",
      "Dict{String,Int64}\n",
      "Array{String,1}\n"
     ]
    }
   ],
   "source": [
    "using WordEmbeddings\n",
    "LL,word_indexes, indexed_words = load_word2vec_embeddings(\"../../Resources/example_code/word2vec/GoogleNews-vectors-negative300.bin\", 15000)\n",
    "size(LL) |> println\n",
    "word_indexes |> typeof |> println\n",
    "indexed_words |> typeof |> println"
   ]
  },
  {
   "cell_type": "code",
   "execution_count": 5,
   "metadata": {
    "collapsed": false,
    "scrolled": true
   },
   "outputs": [
    {
     "name": "stdout",
     "output_type": "stream",
     "text": [
      "training_trees\t\tArray{Any,1}\t(3913,)\n"
     ]
    }
   ],
   "source": [
    "training_trees = open(\"training_sents.jsz\",\"r\") do fs\n",
    "    deserialize(fs)\n",
    "end;\n",
    "@assert length(@pipe training_trees |> filter(x->typeof(x)===UTF8String,_))==0\n",
    "@pz training_trees"
   ]
  },
  {
   "cell_type": "code",
   "execution_count": 6,
   "metadata": {
    "collapsed": false
   },
   "outputs": [
    {
     "data": {
      "text/plain": [
       "18-element Array{RemoteRef,1}:\n",
       " RemoteRef(2,1,374) \n",
       " RemoteRef(3,1,376) \n",
       " RemoteRef(4,1,378) \n",
       " RemoteRef(5,1,380) \n",
       " RemoteRef(6,1,382) \n",
       " RemoteRef(7,1,384) \n",
       " RemoteRef(8,1,386) \n",
       " RemoteRef(9,1,388) \n",
       " RemoteRef(10,1,390)\n",
       " RemoteRef(11,1,392)\n",
       " RemoteRef(12,1,394)\n",
       " RemoteRef(13,1,396)\n",
       " RemoteRef(14,1,398)\n",
       " RemoteRef(15,1,400)\n",
       " RemoteRef(16,1,402)\n",
       " RemoteRef(17,1,404)\n",
       " RemoteRef(18,1,406)\n",
       " RemoteRef(19,1,408)"
      ]
     },
     "execution_count": 6,
     "metadata": {},
     "output_type": "execute_result"
    }
   ],
   "source": [
    "r_training_trees = r_chunk_data(training_trees)"
   ]
  },
  {
   "cell_type": "code",
   "execution_count": 7,
   "metadata": {
    "collapsed": true
   },
   "outputs": [],
   "source": [
    "@everywhere function unpack!(rae::RAE, θ::Vector)\n",
    "    W_e_len = length(rae.W_e)\n",
    "    b_e_len = length(rae.b_e)\n",
    "    W_d_len = length(rae.W_d)\n",
    "    b_d_len = length(rae.b_d)\n",
    "    W_e_shape = size(rae.W_e)\n",
    "    W_d_shape = size(rae.W_d)\n",
    "    \n",
    "    rae.W_e[:] = θ[1: W_e_len]\n",
    "    rae.b_e[:] = θ[W_e_len+1: W_e_len+b_e_len]\n",
    "    rae.W_d[:] = θ[W_e_len+b_e_len+1: W_e_len+b_e_len+W_d_len]\n",
    "    rae.b_d[:] = θ[W_e_len+b_e_len+W_d_len+1: end]\n",
    "    \n",
    "    rae\n",
    "end\n",
    "\n",
    "@everywhere function pack(rae::RAE)\n",
    "    pack(rae.W_e,rae.b_e, rae.W_d,rae.b_d)\n",
    "end\n",
    "\n",
    "@everywhere function pack(∇W_e::Matrix{Float64}, ∇b_e::Vector{Float64}, ∇W_d::Matrix{Float64}, ∇b_d::Vector{Float64})\n",
    "    [∇W_e[:], ∇b_e, ∇W_d[:], ∇b_d] \n",
    "end\n"
   ]
  },
  {
   "cell_type": "code",
   "execution_count": 8,
   "metadata": {
    "collapsed": false
   },
   "outputs": [
    {
     "name": "stdout",
     "output_type": "stream",
     "text": [
      "elapsed time: 20.724995002 seconds (750264976 bytes allocated, 1.77% gc time)\n"
     ]
    },
    {
     "data": {
      "text/plain": [
       "loss_and_loss_grad! (generic function with 1 method)"
      ]
     },
     "execution_count": 8,
     "metadata": {},
     "output_type": "execute_result"
    }
   ],
   "source": [
    "function loss!(θ::Vector)  \n",
    "    #warn(\"loss! not defined\")\n",
    "    grad = similar(θ)\n",
    "    #loss_and_loss_grad!(θ::Vector)\n",
    "    cached_loss_and_loss_grad!(θ, grad)\n",
    "end\n",
    "\n",
    "function loss_grad!(θ::Vector, storage::Vector) \n",
    "    #warn(\"loss_grad not defined\")\n",
    "    cached_loss_and_loss_grad!(θ, grad)\n",
    "end\n",
    "\n",
    "\n",
    "rae_outer = RAE(LL,word_indexes,indexed_words,0.01);\n",
    "@time r_rae_outers = put!(workers(), rae_outer, 2)\n",
    "function loss_and_loss_grad!(θ::Vector, grad::Vector)   \n",
    "    grad[:] = 0\n",
    "    @inbounds for r_rae_outer in r_rae_outers\n",
    "        update_remote(r_rae_outer, rae->unpack!(rae, θ) )\n",
    "    end\n",
    "    \n",
    "    function get_remote_loss_grad_function(r_rae_outer::RemoteRef)\n",
    "        @assert r_rae_outer.where == myid()\n",
    "        rae = fetch(r_rae_outer)        \n",
    "        function loss_and_loss_grad(tree::(Any,Any))\n",
    "            Δs, err = UnfoldingRAE.loss_and_loss_grad(rae, tree)\n",
    "            [pack(Δs...), err]\n",
    "        end\n",
    "    end\n",
    "    loss_and_loss_grads::Array{RemoteRef,1} = map(r_rae_outers) do r_raeouter\n",
    "        remotecall(r_raeouter.where, get_remote_loss_grad_function, r_raeouter)::RemoteRef\n",
    "    end\n",
    "    \n",
    "    \n",
    "    ret = prechunked_mapreduce(r_training_trees, loss_and_loss_grads, (+)) \n",
    "    grad[:] = ret[1:end-1]\n",
    "    err=ret[end]\n",
    "    \n",
    "    grad[:]/=length(training_trees)\n",
    "    err/=length(training_trees)\n",
    "    err\n",
    "end"
   ]
  },
  {
   "cell_type": "code",
   "execution_count": 9,
   "metadata": {
    "collapsed": false
   },
   "outputs": [
    {
     "data": {
      "text/plain": [
       "cached_loss_and_loss_grad! (generic function with 1 method)"
      ]
     },
     "execution_count": 9,
     "metadata": {},
     "output_type": "execute_result"
    }
   ],
   "source": [
    "loss_and_loss_grad_cache = Dict{Vector{Float64},(Float64, Vector{Float64})}()\n",
    "loss_and_loss_grad_cache_hits = 0\n",
    "loss_and_loss_grad_cache_misses = 0\n",
    "function cached_loss_and_loss_grad!(θ::Vector, grad::Vector)\n",
    "    global loss_and_loss_grad_cache\n",
    "    global loss_and_loss_grad_cache_hits\n",
    "    global loss_and_loss_grad_cache_misses\n",
    "    if haskey(loss_and_loss_grad_cache,θ)\n",
    "        loss_and_loss_grad_cache_hits+=1\n",
    "        err, grad[:] = loss_and_loss_grad_cache[θ]\n",
    "        err\n",
    "    else\n",
    "        loss_and_loss_grad_cache_misses+=1\n",
    "        err = loss_and_loss_grad!(θ, grad)\n",
    "        loss_and_loss_grad_cache[θ] = (err, grad)\n",
    "        err\n",
    "    end\n",
    "end"
   ]
  },
  {
   "cell_type": "code",
   "execution_count": 14,
   "metadata": {
    "collapsed": false,
    "scrolled": true
   },
   "outputs": [
    {
     "name": "stderr",
     "output_type": "stream",
     "text": [
      "exception on exception on 2: 4: exception on 5: exception on 3: ERROR: NLopt not properly installed. Please run Pkg.build(\"NLopt\")\n",
      " in error at error.jl:21\n",
      " in include_string at loading.jl:97\n",
      " in include_from_node1 at ./loading.jl:131\n",
      " in reload_path at loading.jl:152\n",
      " in _require at loading.jl:67\n",
      " in anonymous at multi.jl:1284\n",
      " in anonymous at multi.jl:848\n",
      " in run_work_thunk at multi.jl:621\n",
      " in run_work_thunk at multi.jl:630\n",
      " in anonymous at task.jl:6\n",
      "while loading /home/wheel/oxinabox/.julia/v0.3/NLopt/src/NLopt.jl, in expression starting on line 16\n",
      "ERROR: NLopt not properly installed. Please run Pkg.build(\"NLopt\")\n",
      " in error at error.jl:21\n",
      " in include_string at loading.jl:97\n",
      " in include_from_node1 at ./loading.jl:131\n",
      " in reload_path at loading.jl:152\n",
      " in _require at loading.jl:67\n",
      " in anonymous at multi.jl:1284\n",
      " in anonymous at multi.jl:848\n",
      " in run_work_thunk at multi.jl:621\n",
      " in run_work_thunk at multi.jl:630\n",
      " in anonymous at task.jl:6\n",
      "while loading /home/wheel/oxinabox/.julia/v0.3/NLopt/src/NLopt.jl, in expression starting on line 16\n",
      "ERROR: NLopt not properly installed. Please run Pkg.build(\"NLopt\")\n",
      " in error at error.jl:21\n",
      " in include_string at loading.jl:97\n",
      " in include_from_node1 at ./loading.jl:131\n",
      " in reload_path at loading.jl:152\n",
      " in _require at loading.jl:67\n",
      " in anonymous at multi.jl:1284\n",
      " in anonymous at multi.jl:848\n",
      " in run_work_thunk at multi.jl:621\n",
      " in run_work_thunk at multi.jl:630\n",
      " in anonymous at task.jl:6\n",
      "while loading /home/wheel/oxinabox/.julia/v0.3/NLopt/src/NLopt.jl, in expression starting on line 16\n",
      "ERROR: NLopt not properly installed. Please run Pkg.build(\"NLopt\")\n",
      " in error at error.jl:21\n",
      " in include_string at loading.jl:97\n",
      " in include_from_node1 at ./loading.jl:131\n",
      " in reload_path at loading.jl:152\n",
      " in _require at loading.jl:67\n",
      " in anonymous at multi.jl:1284\n",
      " in anonymous at multi.jl:848\n",
      " in run_work_thunk at multi.jl:621\n",
      " in run_work_thunk at multi.jl:630\n",
      " in anonymous at task.jl:6\n",
      "while loading /home/wheel/oxinabox/.julia/v0.3/NLopt/src/NLopt.jl, in expression starting on line 16\n",
      "exception on 11: exception on 7: exception on 15: ERROR: NLopt not properly installed. Please run Pkg.build(\"NLopt\")\n",
      " in error at error.jl:21\n",
      " in include_string at loading.jl:97\n",
      " in include_from_node1 at ./loading.jl:131\n",
      " in reload_path at loading.jl:152\n",
      " in _require at loading.jl:67\n",
      " in anonymous at multi.jl:1284\n",
      " in anonymous at multi.jl:848\n",
      " in run_work_thunk at multi.jl:621\n",
      " in run_work_thunk at multi.jl:630\n",
      " in anonymous at task.jl:6\n",
      "while loading /home/wheel/oxinabox/.julia/v0.3/NLopt/src/NLopt.jl, in expression starting on line 16\n",
      "ERROR: NLopt not properly installed. Please run Pkg.build(\"NLopt\")\n",
      " in error at error.jl:21\n",
      " in include_string at loading.jl:97\n",
      " in include_from_node1 at ./loading.jl:131\n",
      " in reload_path at loading.jl:152\n",
      " in _require at loading.jl:67\n",
      " in anonymous at multi.jl:1284\n",
      " in anonymous at multi.jl:848\n",
      " in run_work_thunk at multi.jl:621\n",
      " in run_work_thunk at multi.jl:630\n",
      " in anonymous at task.jl:6\n",
      "while loading /home/wheel/oxinabox/.julia/v0.3/NLopt/src/NLopt.jl, in expression starting on line 16\n",
      "ERROR: NLopt not properly installed. Please run Pkg.build(\"NLopt\")\n",
      " in error at error.jl:21\n",
      " in include_string at loading.jl:97\n",
      " in include_from_node1 at ./loading.jl:131\n",
      " in reload_path at loading.jl:152\n",
      " in _require at loading.jl:67\n",
      " in anonymous at multi.jl:1284\n",
      " in anonymous at multi.jl:848\n",
      " in run_work_thunk at multi.jl:621\n",
      " in run_work_thunk at multi.jl:630\n",
      " in anonymous at task.jl:6\n",
      "while loading /home/wheel/oxinabox/.julia/v0.3/NLopt/src/NLopt.jl, in expression starting on line 16\n",
      "exception on 12: exception on 16: exception on 8: ERROR: NLopt not properly installed. Please run Pkg.build(\"NLopt\")\n",
      " in error at error.jl:21\n",
      " in include_string at loading.jl:97\n",
      " in include_from_node1 at ./loading.jl:131\n",
      " in reload_path at loading.jl:152\n",
      " in _require at loading.jl:67\n",
      " in anonymous at multi.jl:1284\n",
      " in anonymous at multi.jl:848\n",
      " in run_work_thunk at multi.jl:621\n",
      " in run_work_thunk at multi.jl:630\n",
      " in anonymous at task.jl:6\n",
      "while loading /home/wheel/oxinabox/.julia/v0.3/NLopt/src/NLopt.jl, in expression starting on line 16\n",
      "ERROR: NLopt not properly installed. Please run Pkg.build(\"NLopt\")\n",
      " in error at error.jl:21\n",
      " in include_string at loading.jl:97\n",
      " in include_from_node1 at ./loading.jl:131\n",
      " in reload_path at loading.jl:152\n",
      " in _require at loading.jl:67\n",
      " in anonymous at multi.jl:1284\n",
      " in anonymous at multi.jl:848\n",
      " in run_work_thunk at multi.jl:621\n",
      " in run_work_thunk at multi.jl:630\n",
      " in anonymous at task.jl:6\n",
      "while loading /home/wheel/oxinabox/.julia/v0.3/NLopt/src/NLopt.jl, in expression starting on line 16\n",
      "ERROR: NLopt not properly installed. Please run Pkg.build(\"NLopt\")\n",
      " in error at error.jl:21\n",
      " in include_string at loading.jl:97\n",
      " in include_from_node1 at ./loading.jl:131\n",
      " in reload_path at loading.jl:152\n",
      " in _require at loading.jl:67\n",
      " in anonymous at multi.jl:1284\n",
      " in anonymous at multi.jl:848\n",
      " in run_work_thunk at multi.jl:621\n",
      " in run_work_thunk at multi.jl:630\n",
      " in anonymous at task.jl:6\n",
      "while loading /home/wheel/oxinabox/.julia/v0.3/NLopt/src/NLopt.jl, in expression starting on line 16\n",
      "exception on exception on 13: 9: exception on 17: exception on 6: exception on 10: exception on 14: ERROR: NLopt not properly installed. Please run Pkg.build(\"NLopt\")\n",
      " in error at error.jl:21\n",
      " in include_string at loading.jl:97\n",
      " in include_from_node1 at ./loading.jl:131\n",
      " in reload_path at loading.jl:152\n",
      " in _require at loading.jl:67\n",
      " in anonymous at multi.jl:1284\n",
      " in anonymous at multi.jl:848\n",
      " in run_work_thunk at multi.jl:621\n",
      " in run_work_thunk at multi.jl:630\n",
      " in anonymous at task.jl:6\n",
      "while loading /home/wheel/oxinabox/.julia/v0.3/NLopt/src/NLopt.jl, in expression starting on line 16\n",
      "ERROR: NLopt not properly installed. Please run Pkg.build(\"NLopt\")\n",
      " in error at error.jl:21\n",
      " in include_string at loading.jl:97\n",
      " in include_from_node1 at ./loading.jl:131\n",
      " in reload_path at loading.jl:152\n",
      " in _require at loading.jl:67\n",
      " in anonymous at multi.jl:1284\n",
      " in anonymous at multi.jl:848\n",
      " in run_work_thunk at multi.jl:621\n",
      " in run_work_thunk at multi.jl:630\n",
      " in anonymous at task.jl:6\n",
      "while loading /home/wheel/oxinabox/.julia/v0.3/NLopt/src/NLopt.jl, in expression starting on line 16\n",
      "ERROR: NLopt not properly installed. Please run Pkg.build(\"NLopt\")\n",
      " in error at error.jl:21\n",
      " in include_string at loading.jl:97\n",
      " in include_from_node1 at ./loading.jl:131\n",
      " in reload_path at loading.jl:152\n",
      " in _require at loading.jl:67\n",
      " in anonymous at multi.jl:1284\n",
      " in anonymous at multi.jl:848\n",
      " in run_work_thunk at multi.jl:621\n",
      " in run_work_thunk at multi.jl:630\n",
      " in anonymous at task.jl:6\n",
      "while loading /home/wheel/oxinabox/.julia/v0.3/NLopt/src/NLopt.jl, in expression starting on line 16\n",
      "ERROR: NLopt not properly installed. Please run Pkg.build(\"NLopt\")\n",
      " in error at error.jl:21\n",
      " in include_string at loading.jl:97\n",
      " in include_from_node1 at ./loading.jl:131\n",
      " in reload_path at loading.jl:152\n",
      " in _require at loading.jl:67\n",
      " in anonymous at multi.jl:1284\n",
      " in anonymous at multi.jl:848\n",
      " in run_work_thunk at multi.jl:621\n",
      " in run_work_thunk at multi.jl:630\n",
      " in anonymous at task.jl:6\n",
      "while loading /home/wheel/oxinabox/.julia/v0.3/NLopt/src/NLopt.jl, in expression starting on line 16\n",
      "ERROR: NLopt not properly installed. Please run Pkg.build(\"NLopt\")\n",
      " in error at error.jl:21\n",
      " in include_string at loading.jl:97\n",
      " in include_from_node1 at ./loading.jl:131\n",
      " in reload_path at loading.jl:152\n",
      " in _require at loading.jl:67\n",
      " in anonymous at multi.jl:1284\n",
      " in anonymous at multi.jl:848\n",
      " in run_work_thunk at multi.jl:621\n",
      " in run_work_thunk at multi.jl:630\n",
      " in anonymous at task.jl:6\n",
      "while loading /home/wheel/oxinabox/.julia/v0.3/NLopt/src/NLopt.jl, in expression starting on line 16\n",
      "ERROR: NLopt not properly installed. Please run Pkg.build(\"NLopt\")\n",
      " in error at error.jl:21\n",
      " in include_string at loading.jl:97\n",
      " in include_from_node1 at ./loading.jl:131\n",
      " in reload_path at loading.jl:152\n",
      " in _require at loading.jl:67\n",
      " in anonymous at multi.jl:1284\n",
      " in anonymous at multi.jl:848\n",
      " in run_work_thunk at multi.jl:621\n",
      " in run_work_thunk at multi.jl:630\n",
      " in anonymous at task.jl:6\n",
      "while loading /home/wheel/oxinabox/.julia/v0.3/NLopt/src/NLopt.jl, in expression starting on line 16\n",
      "Warning: using NLopt.optimize in module Main conflicts with an existing identifier.\n"
     ]
    },
    {
     "name": "stdout",
     "output_type": "stream",
     "text": [
      "1\t1427.613059944356\t4.709386648106822e24\n",
      "2\t1439.8444804374194\t304.4592399950293\n",
      "3\t1439.776430031034\t303.2173419707243\n",
      "4\t1439.7493338068448\t304.3556747386889\n",
      "5\t1439.8638823293293\t305.3536003705477\n",
      "6\t1439.2707200251793\t304.2482149945912\n",
      "7\t1439.3380909668524\t307.05241393682667\n",
      "8\t1439.2707200251793\t307.05241393682667\n",
      "9\t1438.8405215170303\t307.22775427058787\n",
      "10\t1439.4364631808576\t305.3265098479198\n",
      "11\t1439.8444804374194\t305.3265098479198\n",
      "12\t1440.0081979837823\t8656.623554601805\n"
     ]
    },
    {
     "ename": "LoadError",
     "evalue": "nlopt failure\nwhile loading In[14], in expression starting on line 21",
     "output_type": "error",
     "traceback": [
      "nlopt failure\nwhile loading In[14], in expression starting on line 21",
      "",
      " in chk at /home/wheel/oxinabox/.julia/v0.3/NLopt/src/NLopt.jl:257",
      " in chks at /home/wheel/oxinabox/.julia/v0.3/NLopt/src/NLopt.jl:263",
      " in optimize! at /home/wheel/oxinabox/.julia/v0.3/NLopt/src/NLopt.jl:516"
     ]
    }
   ],
   "source": [
    "using NLopt\n",
    "\n",
    "f_call_count = 0\n",
    "function tracking_loss_and_loss_grad!(θ::Vector, grad::Vector)\n",
    "    global f_call_count\n",
    "    f_call_count+=1\n",
    "    f_val = cached_loss_and_loss_grad!(θ, grad)   \n",
    "    println(f_call_count, '\\t',f_val,'\\t',norm(grad))\n",
    "    f_val\n",
    "end\n",
    "#:LD_MMA, :LD_CCSAQ, :LD_LBFGS, :LD_SLSQP, :LD_VAR2, :LD_VAR1, :LD_TNEWTON_RESTART\n",
    "opt = Opt(:LD_LBFGS, length(pack(rae_outer)))\n",
    "\n",
    "#ftol_abs!(opt,1e-9)\n",
    "maxtime!(opt, 60)\n",
    "min_objective!(opt, tracking_loss_and_loss_grad!)\n",
    "\n",
    "#θ = pack(rae_outer)\n",
    "\n",
    "\n",
    "(optf,optx,ret) = optimize!(opt,θ)\n"
   ]
  },
  {
   "cell_type": "code",
   "execution_count": 10,
   "metadata": {
    "collapsed": false
   },
   "outputs": [
    {
     "name": "stdout",
     "output_type": "stream",
     "text": [
      "Iter     Function value   Gradient norm \n",
      "     0     1.012323e+01     1.168001e+00\n",
      "     1     8.820467e+00     2.338611e-01\n",
      "     2     8.725752e+00     9.623049e-02\n",
      "     3     8.719433e+00     7.759295e-02\n",
      "     4     8.713030e+00     7.990805e-02\n",
      "     5     8.705759e+00     5.460168e-02\n"
     ]
    },
    {
     "ename": "LoadError",
     "evalue": "interrupt\nwhile loading In[10], in expression starting on line 5",
     "output_type": "error",
     "traceback": [
      "interrupt\nwhile loading In[10], in expression starting on line 5",
      "",
      " in wait at task.jl:51",
      " in sync_end at ./task.jl:311",
      " in fetch_reduce at /home/wheel/oxinabox/phd/prototypes/word-embeddings2/ClusterSoup.jl:319",
      " in prechunked_mapreduce at /home/wheel/oxinabox/phd/prototypes/word-embeddings2/ClusterSoup.jl:89",
      " in loss_and_loss_grad! at In[8]:35",
      " in cached_loss_and_loss_grad! at In[9]:14",
      " in linefunc! at /home/wheel/oxinabox/.julia/v0.3/Optim/src/linesearch/hz_linesearch.jl:609",
      " in bisect! at /home/wheel/oxinabox/.julia/v0.3/Optim/src/linesearch/hz_linesearch.jl:573",
      " in hz_linesearch! at /home/wheel/oxinabox/.julia/v0.3/Optim/src/linesearch/hz_linesearch.jl:262",
      " in hz_linesearch! at /home/wheel/oxinabox/.julia/v0.3/Optim/src/linesearch/hz_linesearch.jl:188 (repeats 10 times)",
      " in l_bfgs at /home/wheel/oxinabox/.julia/v0.3/Optim/src/l_bfgs.jl:165",
      " in optimize at /home/wheel/oxinabox/.julia/v0.3/Optim/src/optimize.jl:113"
     ]
    }
   ],
   "source": [
    "using Optim #https://github.com/JuliaOpt/Optim.jl\n",
    "f=DifferentiableFunction(loss!,loss_grad!,cached_loss_and_loss_grad!)\n",
    "θ = pack(rae_outer)\n",
    "#θ=res.minimum\n",
    "res = optimize(f, θ, method=:l_bfgs, show_trace = true, store_trace = true, iterations = 300);\n",
    "@printval res.f_calls \n",
    "@printval res.g_calls \n",
    "@printval res.iterations\n",
    "@printval res.f_minimum\n",
    "@printval res.gr_converged\n",
    "@printval res.x_converged \n",
    "\n",
    "@printval res.trace\n",
    "@printval loss_and_loss_grad_cache_hits\n",
    "@printval loss_and_loss_grad_cache_misses"
   ]
  },
  {
   "cell_type": "code",
   "execution_count": null,
   "metadata": {
    "collapsed": false
   },
   "outputs": [],
   "source": [
    "res"
   ]
  },
  {
   "cell_type": "code",
   "execution_count": null,
   "metadata": {
    "collapsed": true
   },
   "outputs": [],
   "source": []
  },
  {
   "cell_type": "code",
   "execution_count": null,
   "metadata": {
    "collapsed": false
   },
   "outputs": [],
   "source": [
    "θ=pack(rae_outer)\n",
    "@time loss_and_loss_grad!(θ, zeros(θ))"
   ]
  },
  {
   "cell_type": "code",
   "execution_count": null,
   "metadata": {
    "collapsed": true
   },
   "outputs": [],
   "source": [
    "Profile.clear()"
   ]
  },
  {
   "cell_type": "code",
   "execution_count": null,
   "metadata": {
    "collapsed": true
   },
   "outputs": [],
   "source": []
  },
  {
   "cell_type": "code",
   "execution_count": null,
   "metadata": {
    "collapsed": true
   },
   "outputs": [],
   "source": []
  },
  {
   "cell_type": "code",
   "execution_count": null,
   "metadata": {
    "collapsed": true
   },
   "outputs": [],
   "source": []
  },
  {
   "cell_type": "code",
   "execution_count": null,
   "metadata": {
    "collapsed": false,
    "scrolled": true
   },
   "outputs": [],
   "source": [
    "tr = (((\"Meanwhile\", \",\"), ((\"staff\",\"are\"),(\"alone\",\".\"))))\n",
    "a = fold(rae_outer,tr)\n",
    "b= unfold(rae_outer, a)\n",
    "ĉs = hcat(map(leave-> leave.ĉ, b)...)\n",
    "bests = show_bests(rae_outer, ĉs)"
   ]
  },
  {
   "cell_type": "code",
   "execution_count": null,
   "metadata": {
    "collapsed": false
   },
   "outputs": [],
   "source": [
    "bests[:, 1:2:end]"
   ]
  },
  {
   "cell_type": "code",
   "execution_count": null,
   "metadata": {
    "collapsed": false
   },
   "outputs": [],
   "source": []
  },
  {
   "cell_type": "code",
   "execution_count": null,
   "metadata": {
    "collapsed": true
   },
   "outputs": [],
   "source": []
  }
 ],
 "metadata": {
  "kernelspec": {
   "display_name": "Julia 0.3.9-pre",
   "language": "julia",
   "name": "julia-0.3"
  },
  "language_info": {
   "name": "julia",
   "version": "0.3.9"
  }
 },
 "nbformat": 4,
 "nbformat_minor": 0
}
