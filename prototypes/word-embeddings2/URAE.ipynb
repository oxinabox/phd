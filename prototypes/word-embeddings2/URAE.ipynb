{
 "cells": [
  {
   "cell_type": "code",
   "execution_count": 1,
   "metadata": {
    "collapsed": false
   },
   "outputs": [],
   "source": [
    "using Iterators\n",
    "using Pipe\n",
    "function pz(x :: AbstractArray)\n",
    "    println(typeof(x), \": \", size(x))\n",
    "end\n",
    "macro printval(ee)\n",
    "    ee_expr = @sprintf \"%s\" string(ee)\n",
    "    esc(:(println($ee_expr,\" = \", $ee)))\n",
    "end"
   ]
  },
  {
   "cell_type": "code",
   "execution_count": 2,
   "metadata": {
    "collapsed": false
   },
   "outputs": [],
   "source": [
    "using RecursiveAutoencoders"
   ]
  },
  {
   "cell_type": "code",
   "execution_count": 3,
   "metadata": {
    "collapsed": false
   },
   "outputs": [
    {
     "name": "stdout",
     "output_type": "stream",
     "text": [
      "(50,14)\n",
      "Dict{AbstractString,Int64}\n",
      "Array{AbstractString,1}\n"
     ]
    }
   ],
   "source": [
    "include(\"load_embeddings.jl\")\n",
    "LL,word_indexes, indexed_words =  load_embeddings(\"embeddings-test.txt\")\n",
    "#(\"embeddings-scaled.EMBEDDING_SIZE=50.txt\");\n",
    "size(LL) |> println\n",
    "word_indexes |> typeof |> println\n",
    "indexed_words |> typeof |> println"
   ]
  },
  {
   "cell_type": "code",
   "execution_count": 4,
   "metadata": {
    "collapsed": false,
    "scrolled": true
   },
   "outputs": [],
   "source": [
    "training_trees = open(\"training_sents.jsz\",\"r\") do fs\n",
    "    deserialize(fs)\n",
    "end;"
   ]
  },
  {
   "cell_type": "code",
   "execution_count": 5,
   "metadata": {
    "collapsed": false
   },
   "outputs": [
    {
     "data": {
      "text/plain": [
       "fold (generic function with 1 method)"
      ]
     },
     "execution_count": 5,
     "metadata": {},
     "output_type": "execute_result"
    }
   ],
   "source": [
    "type FoldData\n",
    "    p::Embedding\n",
    "    left::Union(FoldData,Embedding)\n",
    "    right::Union(FoldData,Embedding)\n",
    "end\n",
    "\n",
    "function fold(rae::RAE, tree::Tuple{Any,Any})\n",
    "    function eval_child(child::String)\n",
    "        c=eval_word_embedding(rae,child,false)\n",
    "        c\n",
    "    end\n",
    "    function eval_child(c::Embedding)\n",
    "        c\n",
    "    end\n",
    "    function eval_child(child::Any)\n",
    "        fold(rae,child)\n",
    "    end\n",
    "    \n",
    "    function emb(data::FoldData)\n",
    "        data.p\n",
    "    end\n",
    "    function emb(data::Embedding)\n",
    "        data\n",
    "    end\n",
    "    \n",
    "    left = eval_child(tree[1])\n",
    "    right = eval_child(tree[2])\n",
    "    p=eval_merge(rae, emb(left), emb(right))\n",
    "    FoldData(p, left, right)   \n",
    "end"
   ]
  },
  {
   "cell_type": "code",
   "execution_count": 6,
   "metadata": {
    "collapsed": false
   },
   "outputs": [
    {
     "data": {
      "text/plain": [
       "unfold (generic function with 3 methods)"
      ]
     },
     "execution_count": 6,
     "metadata": {},
     "output_type": "execute_result"
    }
   ],
   "source": [
    "type UnfoldData\n",
    "    p::Embedding\n",
    "    parent::Union(FoldData,UnfoldData)\n",
    "    ĉ_i::Embedding\n",
    "    ĉ_j::Embedding\n",
    "end\n",
    "\n",
    "type UnfoldLeaf\n",
    "    ĉ::Embedding\n",
    "    parent::UnfoldData\n",
    "    c::Embedding\n",
    "end\n",
    "\n",
    "\n",
    "function unfold(rae::RAE, c::Embedding, ĉ::Embedding, parent)\n",
    "    UnfoldLeaf(ĉ, parent, c)\n",
    "end\n",
    "\n",
    "function unfold(rae::RAE, act::FoldData, p::Embedding, parent)\n",
    "    ĉ_i, ĉ_j = reconstruct(rae,p)\n",
    "    data = UnfoldData(p, parent, ĉ_i, ĉ_j)\n",
    "    \n",
    "    left = unfold(rae, act.left, ĉ_i, data)\n",
    "    right= unfold(rae, act.right, ĉ_j, data)\n",
    "    [left, right]\n",
    "end\n",
    "\n",
    "function unfold(rae::RAE, act::FoldData)\n",
    "    #Handle the top case\n",
    "    unfold(rae, act,act.p,act )\n",
    "end"
   ]
  },
  {
   "cell_type": "code",
   "execution_count": 7,
   "metadata": {
    "collapsed": true
   },
   "outputs": [],
   "source": [
    "rae = RAE(LL,word_indexes,indexed_words);"
   ]
  },
  {
   "cell_type": "code",
   "execution_count": 16,
   "metadata": {
    "collapsed": false
   },
   "outputs": [],
   "source": [
    "# tests\n",
    "()\n",
    "a=fold(rae,(\"the\",(\"killer\", \"cows\")))\n",
    "b=unfold(rae,a);\n",
    "@assert b[1].parent==b[2].parent.parent==b[3].parent.parent\n",
    "\n",
    "a=fold(rae,(\"the\",(\"killer\", \"cows\")))\n",
    "b=unfold(rae,a);\n",
    "@assert b[1].parent==b[2].parent.parent==b[3].parent.parent\n"
   ]
  },
  {
   "cell_type": "code",
   "execution_count": null,
   "metadata": {
    "collapsed": false
   },
   "outputs": [],
   "source": [
    "function RecursiveAutoencoders.eval_word_embeddings(rae::RAE, tree::(Any,Any))\n",
    "    function eval_child(child::String)\n",
    "        eval_word_embedding(rae,child,false)\n",
    "    end\n",
    "    function eval_child(child::Any)\n",
    "        eval_word_embeddings(rae,child)\n",
    "    end\n",
    "    c_i = eval_child(tree[1])\n",
    "    c_j = eval_child(tree[2])\n",
    "    [c_i c_j]\n",
    "end"
   ]
  },
  {
   "cell_type": "code",
   "execution_count": null,
   "metadata": {
    "collapsed": false
   },
   "outputs": [],
   "source": [
    "function unfold(rae::RAE, tree::(String,String), pp::Embedding)\n",
    "    ĉ_is, ĉ_js = reconstruct(rae, pp)\n",
    "    [ĉ_is ĉ_js]\n",
    "end\n",
    "\n",
    "\n",
    "function unfold(rae::RAE, tree::(Any,String), pp::Embedding)\n",
    "    p̂_is, ĉ_js = reconstruct(rae, pp)\n",
    "    ĉ_is = unfold(rae, tree[1], p̂_is)\n",
    "    [ĉ_is ĉ_js]\n",
    "end\n",
    "\n",
    "function unfold(rae::RAE, tree::(String,Any), pp::Embedding)\n",
    "    ĉ_is, p̂_js = reconstruct(rae, pp)\n",
    "    ĉ_js = unfold(rae, tree[2], p̂_js)\n",
    "    [ĉ_is ĉ_js]\n",
    "    \n",
    "end\n",
    "\n",
    "function unfold(rae::RAE, tree::(Any,Any), pp::Embedding)\n",
    "    p̂_is, p̂_js = reconstruct(rae, pp)\n",
    "    ĉ_is = unfold(rae, tree[1], p̂_is)\n",
    "    ĉ_js = unfold(rae, tree[2], p̂_js)\n",
    "    [ĉ_is ĉ_js]\n",
    "end\n"
   ]
  },
  {
   "cell_type": "code",
   "execution_count": null,
   "metadata": {
    "collapsed": false
   },
   "outputs": [],
   "source": [
    "function UBPTS(rae::RAE, pp::Embedding, ĉ_ij::Embedding,c_ij::Embedding, tree::(String, String))\n",
    "    δ_0 = δ(ĉ_ij,c_ij)\n",
    "    δ_1 = δ(pp, δ_0, rae.W_d)\n",
    "end\n",
    "\n",
    "\n",
    "\n",
    "function δ(a::Embedding, δ_above::Vector{Float64}, W::Matrix{Float64})\n",
    "    #a is the ouput of this layer: a=tanh(z) where z is the input from layer below\n",
    "    #W is matrix to move to above layer, from this one\n",
    "    dz = 1-a.^2 #Derivitive of a=tanh(z)\n",
    "    (W'*δ_above).*dz\n",
    "    \n",
    "    \n",
    "end\n",
    "\n",
    "function δ(ĉ_ij::Embedding,c_ij::Embedding) \n",
    "    #Output Layer\n",
    "    M = length(c_ij)#==length(ĉ_ij)\n",
    "    δ_above = ĉ_ij-c_ij\n",
    "    δ(ĉ_ij,δ_above, eye(M))     \n",
    "end\n"
   ]
  },
  {
   "cell_type": "code",
   "execution_count": null,
   "metadata": {
    "collapsed": false
   },
   "outputs": [],
   "source": [
    "tree= (\"killer\", \"cows\")\n",
    "c = eval_word_embeddings(rae, tree)\n",
    "c= [c[:,1], c[:,2]]\n",
    "p = fold(rae,tree)\n",
    "ĉ = unfold(rae,tree,p)\n",
    "ĉ= [ĉ[:,1], ĉ[:,2]]\n",
    "grad_top(rae, ĉ, c, tree)"
   ]
  },
  {
   "cell_type": "code",
   "execution_count": null,
   "metadata": {
    "collapsed": false
   },
   "outputs": [],
   "source": [
    "c"
   ]
  },
  {
   "cell_type": "code",
   "execution_count": null,
   "metadata": {
    "collapsed": true
   },
   "outputs": [],
   "source": []
  },
  {
   "cell_type": "code",
   "execution_count": null,
   "metadata": {
    "collapsed": true
   },
   "outputs": [],
   "source": []
  },
  {
   "cell_type": "code",
   "execution_count": null,
   "metadata": {
    "collapsed": true
   },
   "outputs": [],
   "source": []
  },
  {
   "cell_type": "code",
   "execution_count": null,
   "metadata": {
    "collapsed": false
   },
   "outputs": [],
   "source": []
  },
  {
   "cell_type": "code",
   "execution_count": null,
   "metadata": {
    "collapsed": true
   },
   "outputs": [],
   "source": []
  },
  {
   "cell_type": "code",
   "execution_count": null,
   "metadata": {
    "collapsed": false
   },
   "outputs": [],
   "source": [
    "function cosine_dist(a,b)\n",
    "    (a⋅b)/(norm(a)*norm(b))\n",
    "end\n",
    "\n",
    "function neighbour_dists(cc::Vector{Float64}, globe::Matrix{Float64})\n",
    "    [cosine_dist(cc, globe[:,ii]) for ii in 1:size(globe,2)]\n",
    "end\n",
    "\n",
    "\n",
    "function show_best(rae::RAE,ĉ::Embedding, nbest=20)\n",
    "    candidates=neighbour_dists(ĉ,rae.L)   \n",
    "    best_cands = [ (findfirst(candidates,score), score)\n",
    "                    for score in select(candidates,1:nbest, rev=true)[1:nbest]]\n",
    "    vcat([[rae.indexed_words[ii] round(score,2)] for (ii,score) in best_cands]...)\n",
    "end\n",
    "\n",
    "function show_bests(rae::RAE,ĉs::Embeddings, nbest=20)\n",
    "    hcat([show_best(rae,ĉs[:,ii],nbest) for ii in 1:size(ĉs,2)]...)\n",
    "end\n"
   ]
  },
  {
   "cell_type": "code",
   "execution_count": null,
   "metadata": {
    "collapsed": false
   },
   "outputs": [],
   "source": [
    "bs = show_bests(rae, ĉ_ij)\n",
    "bs[1,:][1:2:end]"
   ]
  },
  {
   "cell_type": "code",
   "execution_count": null,
   "metadata": {
    "collapsed": false
   },
   "outputs": [],
   "source": [
    "ĉ_ij"
   ]
  },
  {
   "cell_type": "code",
   "execution_count": null,
   "metadata": {
    "collapsed": true
   },
   "outputs": [],
   "source": []
  }
 ],
 "metadata": {
  "kernelspec": {
   "display_name": "Julia 0.4.0-dev",
   "language": "julia",
   "name": "julia-0.4"
  },
  "language_info": {
   "name": "julia",
   "version": "0.4.0"
  }
 },
 "nbformat": 4,
 "nbformat_minor": 0
}
