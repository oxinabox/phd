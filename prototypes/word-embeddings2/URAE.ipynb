{
 "cells": [
  {
   "cell_type": "code",
   "execution_count": 1,
   "metadata": {
    "collapsed": false
   },
   "outputs": [],
   "source": [
    "using DataStructures\n",
    "using Base.Collections\n",
    "using Iterators\n",
    "using Pipe\n",
    "function pz(x :: AbstractArray)\n",
    "    println(typeof(x), \": \", size(x))\n",
    "end\n",
    "macro printval(ee)\n",
    "    ee_expr = @sprintf \"%s\" string(ee)\n",
    "    esc(:(println($ee_expr,\" = \", $ee)))\n",
    "end\n",
    "\n",
    "macro pz(ee)\n",
    "    ee_expr = @sprintf \"%s\" string(ee)\n",
    "    esc(:(println($ee_expr,\"\\t\\t\",typeof($ee), \"\\t\", size($ee))))\n",
    "end"
   ]
  },
  {
   "cell_type": "code",
   "execution_count": 2,
   "metadata": {
    "collapsed": false
   },
   "outputs": [],
   "source": [
    "using RecursiveAutoencoders"
   ]
  },
  {
   "cell_type": "code",
   "execution_count": 3,
   "metadata": {
    "collapsed": false
   },
   "outputs": [
    {
     "name": "stdout",
     "output_type": "stream",
     "text": [
      "(50,14)\n",
      "Dict{String,Int64}\n",
      "Array{String,1}\n"
     ]
    }
   ],
   "source": [
    "include(\"load_embeddings.jl\")\n",
    "LL,word_indexes, indexed_words =  load_embeddings(\"embeddings-test.txt\")\n",
    "#(\"embeddings-scaled.EMBEDDING_SIZE=50.txt\");\n",
    "size(LL) |> println\n",
    "word_indexes |> typeof |> println\n",
    "indexed_words |> typeof |> println"
   ]
  },
  {
   "cell_type": "code",
   "execution_count": 4,
   "metadata": {
    "collapsed": false,
    "scrolled": true
   },
   "outputs": [],
   "source": [
    "training_trees = open(\"training_sents.jsz\",\"r\") do fs\n",
    "    deserialize(fs)\n",
    "end;"
   ]
  },
  {
   "cell_type": "code",
   "execution_count": null,
   "metadata": {
    "collapsed": true
   },
   "outputs": [],
   "source": []
  },
  {
   "cell_type": "code",
   "execution_count": 5,
   "metadata": {
    "collapsed": false
   },
   "outputs": [],
   "source": [
    "abstract Side\n",
    "immutable Left<:Side\n",
    "end\n",
    "\n",
    "immutable Right<:Side\n",
    "end\n",
    "\n",
    "immutable NoSide<:Side\n",
    "end\n",
    "\n",
    "immutable FoldData\n",
    "    p_out::Embedding\n",
    "    left::Union(FoldData,Embedding)\n",
    "    right::Union(FoldData,Embedding)\n",
    "end\n",
    "\n",
    "immutable UnfoldData{T<:Side}\n",
    "    p_in::Embedding\n",
    "    parent::Union(FoldData,UnfoldData)\n",
    "    ĉ_i::Embedding\n",
    "    ĉ_j::Embedding\n",
    "    depth::Int64\n",
    "end\n",
    "\n",
    "immutable UnfoldLeaf{T<:Side}\n",
    "    ĉ::Embedding\n",
    "    parent::UnfoldData\n",
    "    c::Embedding\n",
    "    depth::Int64\n",
    "end\n",
    "\n"
   ]
  },
  {
   "cell_type": "code",
   "execution_count": 6,
   "metadata": {
    "collapsed": false
   },
   "outputs": [
    {
     "data": {
      "text/plain": [
       "get_side (generic function with 1 method)"
      ]
     },
     "execution_count": 6,
     "metadata": {},
     "output_type": "execute_result"
    }
   ],
   "source": [
    "function get_side{T}(::Union(UnfoldLeaf{T}, UnfoldData{T}))\n",
    "    T()\n",
    "end"
   ]
  },
  {
   "cell_type": "code",
   "execution_count": 7,
   "metadata": {
    "collapsed": false
   },
   "outputs": [
    {
     "data": {
      "text/plain": [
       "fold (generic function with 1 method)"
      ]
     },
     "execution_count": 7,
     "metadata": {},
     "output_type": "execute_result"
    }
   ],
   "source": [
    "function emb(data::FoldData)\n",
    "    data.p_out\n",
    "end\n",
    "function emb(data::Embedding)\n",
    "    data\n",
    "end\n",
    "\n",
    "function fold(rae::RAE, tree::(Any,Any))\n",
    "    function eval_child(child::String)\n",
    "        c=eval_word_embedding(rae,child,false)\n",
    "        c\n",
    "    end\n",
    "    function eval_child(c::Embedding)\n",
    "        c\n",
    "    end\n",
    "    function eval_child(child::Any)\n",
    "        fold(rae,child)\n",
    "    end\n",
    "    \n",
    "   \n",
    "    left = eval_child(tree[1])\n",
    "    right = eval_child(tree[2])\n",
    "    p=eval_merge(rae, emb(left), emb(right))\n",
    "    FoldData(p, left, right)   \n",
    "end"
   ]
  },
  {
   "cell_type": "code",
   "execution_count": 8,
   "metadata": {
    "collapsed": false
   },
   "outputs": [
    {
     "data": {
      "text/plain": [
       "unfold (generic function with 3 methods)"
      ]
     },
     "execution_count": 8,
     "metadata": {},
     "output_type": "execute_result"
    }
   ],
   "source": [
    "function unfold{T}(rae::RAE, c::Embedding, ĉ::Embedding, parent, ::Type{T}, depth)\n",
    "    UnfoldLeaf{T}(ĉ, parent, c, depth)\n",
    "end\n",
    "\n",
    "\n",
    "function unfold{T}(rae::RAE, act::FoldData, p_in::Embedding, parent, ::Type{T}, depth::Int)\n",
    "    #Side is a ignored argument. This could be replaced with a generated function\n",
    "    ĉ_i, ĉ_j = reconstruct(rae,p_in)\n",
    "    data = UnfoldData{T}(p_in, parent, ĉ_i, ĉ_j,depth)\n",
    "    \n",
    "    left = unfold(rae, act.left, ĉ_i, data, Left, depth+1)\n",
    "    right= unfold(rae, act.right, ĉ_j, data, Right, depth+1)\n",
    "    [left; right]\n",
    "end\n",
    "\n",
    "function unfold(rae::RAE, act::FoldData)\n",
    "    #Handle the top case\n",
    "    unfold(rae, act,act.p_out,act, NoSide,0)\n",
    "end"
   ]
  },
  {
   "cell_type": "code",
   "execution_count": 9,
   "metadata": {
    "collapsed": false
   },
   "outputs": [],
   "source": [
    "# tests\n",
    "rae = RAE(LL,word_indexes,indexed_words);\n",
    "\n",
    "a=fold(rae,(\"killer\", \"cows\"))\n",
    "b=unfold(rae,a);\n",
    "@assert b[1].parent==b[2].parent\n",
    "\n",
    "\n",
    "a=fold(rae,(\"the\",(\"killer\", \"cows\")))\n",
    "b=unfold(rae,a);\n",
    "@assert b[1].parent==b[2].parent.parent==b[3].parent.parent"
   ]
  },
  {
   "cell_type": "code",
   "execution_count": 10,
   "metadata": {
    "collapsed": false,
    "scrolled": true
   },
   "outputs": [
    {
     "data": {
      "text/plain": [
       "δ (generic function with 2 methods)"
      ]
     },
     "execution_count": 10,
     "metadata": {},
     "output_type": "execute_result"
    }
   ],
   "source": [
    "function δ(a::Embedding, δ_above::Vector{Float64}, W::Matrix{Float64})\n",
    "    #a is the ouput of this layer: a=tanh(z) where z is the input from layer below\n",
    "    #W is matrix to move to above layer, from this one\n",
    "    dz = 1-a.^2 #Derivitive of a=tanh(z)\n",
    "    @pz W'\n",
    "    @pz δ_above\n",
    "    @pz dz\n",
    "    \n",
    "    (W'*δ_above).*dz\n",
    "end\n",
    "\n",
    "function δ(ĉ_ij::Embedding,c_ij::Embedding) \n",
    "    #Output Layer\n",
    "    M = length(c_ij)# ==length(ĉ_ij)\n",
    "    dz = 1-ĉ_ij\n",
    "    δ_above = ĉ_ij-c_ij\n",
    "    δ_above.*dz\n",
    "    #δ(ĉ_ij,δ_above, eye(M))     \n",
    "end\n"
   ]
  },
  {
   "cell_type": "code",
   "execution_count": 11,
   "metadata": {
    "collapsed": false
   },
   "outputs": [
    {
     "data": {
      "text/plain": [
       "unsidepad (generic function with 3 methods)"
      ]
     },
     "execution_count": 11,
     "metadata": {},
     "output_type": "execute_result"
    }
   ],
   "source": [
    "function sidepad(d::Vector{Float64}, ::Left)\n",
    "    padding=zeros(size(d))\n",
    "    [padding;d]\n",
    "end\n",
    "function sidepad(d::Vector{Float64}, ::Right)\n",
    "    padding=zeros(size(d))\n",
    "    [d, padding]\n",
    "end\n",
    "\n",
    "function sidepad(d::Vector{Float64}, ::NoSide)\n",
    "    d\n",
    "end\n",
    "\n",
    "function unsidepad(d::Vector{Float64}, ::Left)\n",
    "    d[end/2+1:end]\n",
    "end\n",
    "function unsidepad(d::Vector{Float64}, ::Right)\n",
    "    d[1:end/2]\n",
    "end\n",
    "\n",
    "function unsidepad(d::Vector{Float64}, ::NoSide)\n",
    "    d\n",
    "end"
   ]
  },
  {
   "cell_type": "code",
   "execution_count": 38,
   "metadata": {
    "collapsed": false
   },
   "outputs": [
    {
     "data": {
      "text/plain": [
       "UBPTS (generic function with 4 methods)"
      ]
     },
     "execution_count": 38,
     "metadata": {},
     "output_type": "execute_result"
    }
   ],
   "source": [
    "function UBPTS(rae::RAE, nodes::Vector{UnfoldLeaf} )\n",
    "    delta_len = 2*length(nodes[1].ĉ)\n",
    "    parent_deltas = Dict{UnfoldData, Vector{Float64}}()\n",
    "    function add!(parent_node, delta)\n",
    "        if haskey(parent_deltas, parent_node)\n",
    "            parent_deltas[parent_node]+=delta\n",
    "        else\n",
    "            parent_deltas[parent_node]=delta\n",
    "        end\n",
    "    end\n",
    "\n",
    "    \n",
    "    for leaf in nodes\n",
    "        δ_node = δ(leaf.ĉ,leaf.c)\n",
    "        δ_padded = sidepad(δ_node, get_side(leaf))\n",
    "        add!(leaf.parent, δ_padded)\n",
    "    end\n",
    "        \n",
    "    UBPTS(rae,parent_deltas)\n",
    "end\n",
    "\n",
    "function UBPTS(rae::RAE, parent_deltas::Dict{UnfoldData,Vector{Float64}})\n",
    "    foldnode = nothing\n",
    "    δ_above_fold = 0\n",
    "    \n",
    "    pending_nodes = PriorityQueue{UnfoldData, Int64}(Base.Order.Reverse)\n",
    "    enqueue!(node::UnfoldData) = pending_nodes[node] = node.depth #Priority of node.depth (syntax on julia Priority queues is weird)\n",
    "    map(enqueue!, keys(parent_deltas)) #Add all that were passed, as none have been processed\n",
    "    \n",
    "    function pend!(parent_node::UnfoldData, δ_node::Vector{Float64})\n",
    "        if !haskey(parent_deltas,parent_node)\n",
    "            enqueue!(parent_node) #then also hasn't been enque\n",
    "            parent_deltas[parent_node]=δ_node\n",
    "        else\n",
    "            #@printval parent_node|> typeof\n",
    "            #@pz parent_deltas[parent_node]\n",
    "            #@pz δ_node\n",
    "            parent_deltas[parent_node]+=δ_node\n",
    "        end\n",
    "    end\n",
    "        \n",
    "    function pend!(node::FoldData, δ_node::Vector{Float64})\n",
    "        foldnode = node\n",
    "        δ_above_fold+=δ_node\n",
    "    end\n",
    "\n",
    "    ΔW_d=0 #will broadcast\n",
    "    Δb_d=0 \n",
    "    while !isempty(pending_nodes)\n",
    "        node = dequeue!(pending_nodes)\n",
    "        δ_above =  parent_deltas[node]\n",
    "        #Note: node.p_in= suitable half of node.parent.ĉ_i or node.parent.ĉ_j\n",
    "        #      The line below takes a lot of thinking to be sure it is right\n",
    "        δ_node = δ(node.p_in, δ_above, rae.W_d)\n",
    "\n",
    "        δ_padded = sidepad(δ_node, get_side(node))\n",
    "        \n",
    "        if node|>get_side != NoSide()\n",
    "            ΔW_d += δ_padded*node.p_in'\n",
    "            Δb_d += δ_padded\n",
    "        end\n",
    "        \n",
    "        pend!(node.parent,δ_padded)\n",
    "    end\n",
    "    \n",
    "    (δ_above_fold, ΔW_d, Δb_d)\n",
    "end\n"
   ]
  },
  {
   "cell_type": "code",
   "execution_count": 39,
   "metadata": {
    "collapsed": false
   },
   "outputs": [
    {
     "data": {
      "text/plain": [
       "UBPTS (generic function with 4 methods)"
      ]
     },
     "execution_count": 39,
     "metadata": {},
     "output_type": "execute_result"
    }
   ],
   "source": [
    "function UBPTS(rae::RAE, node::FoldData, δ_above::Vector{Float64})\n",
    "    a= node.p #[emb(node.left); emb(node.right)]\n",
    "    \n",
    "    δ_node =  δ(a, δ_above, rae.W_e)\n",
    "    ΔW_e=δ_node*a'\n",
    "    Δb_e=δ_node\n",
    "    \n",
    "    δ_left = δ_node[1:end/2]\n",
    "    δ_right = δ_node[end/2+1 : end]\n",
    "    \n",
    "    ΔW_e_left, Δb_e_left = UBPTS(rae, node.left, δ_left)\n",
    "    ΔW_e_right, Δb_e_right = UBPTS(rae, node.right, δ_right)\n",
    "    (ΔW_e+ΔW_e_left+ΔW_e_right, Δb_e+Δb_e_left+Δb_e_right)\n",
    "end\n",
    "\n",
    "function UBPTS(rae::RAE, node::Embedding, δ_above::Vector{Float64})\n",
    "    0,0,0 # Nothing to learn here (at least until we start learning rae.L)\n",
    "end\n"
   ]
  },
  {
   "cell_type": "code",
   "execution_count": 40,
   "metadata": {
    "collapsed": false
   },
   "outputs": [
    {
     "name": "stdout",
     "output_type": "stream",
     "text": [
      "W'\t\tArray{Float64,2}\t(50,100)\n",
      "δ_above\t\tArray{Float64,1}\t(100,)\n",
      "dz\t\tArray{Float64,1}\t(50,)\n",
      "W'\t\tArray{Float64,2}\t(50,100)\n",
      "δ_above\t\tArray{Float64,1}\t(100,)\n",
      "dz\t\tArray{Float64,1}\t(50,)\n",
      "W'\t\tArray{Float64,2}\t(50,100)\n",
      "δ_above\t\tArray{Float64,1}\t(100,)\n",
      "dz\t\tArray{Float64,1}\t(50,)\n",
      "------------------------------------------------------\n",
      "rae.W_d\t\tArray{Float64,2}\t(100,50)\n",
      "ΔW_d\t\tArray{Float64,2}\t(100,50)\n",
      "rae.b_d\t\tArray{Float64,1}\t(100,)\n",
      "Δb_d\t\tArray{Float64,1}\t(100,)\n"
     ]
    }
   ],
   "source": [
    "a=fold(rae,(\"the\",(\"bad\",(\"killer\", \"cows\"))))\n",
    "b=unfold(rae,a);\n",
    "\n",
    "δd,ΔW_d, Δb_d = UBPTS(rae, b)\n",
    "println(\"-\"^54)\n",
    "@pz rae.W_d\n",
    "@pz ΔW_d\n",
    "@pz rae.b_d\n",
    "@pz Δb_d\n",
    "\n",
    "#ΔW_e,Δb_e = UBPTS(rae, a, δd)\n",
    "#println(\"+\"^54)\n",
    "#@pz rae.W_e\n",
    "#@pz ΔW_e\n",
    "#@pz rae.b_e\n",
    "#@pz Δb_e\n",
    "\n"
   ]
  },
  {
   "cell_type": "code",
   "execution_count": 23,
   "metadata": {
    "collapsed": false
   },
   "outputs": [
    {
     "data": {
      "text/plain": [
       "100x50 Array{Float64,2}:\n",
       "  1.36042   -1.13715   -0.378774   …  -1.83839     0.332648  -0.921842  \n",
       "  0.158677   2.0471    -0.130769      -0.767753   -0.533264   1.0391    \n",
       " -0.129824   0.871048  -1.86346       -3.23341    -0.998438   1.85973   \n",
       " -0.213552  -0.83365   -5.08658       -0.22246     1.08437    1.66004   \n",
       "  0.562324  -0.821276  -4.99127        0.459804   -0.753386   0.487699  \n",
       " -0.33136    0.179639  -1.98763    …  -0.570384   -0.475553   1.05452   \n",
       " -1.21167   -0.825139   0.0462765      0.917748    1.18376   -0.848934  \n",
       " -2.68447    0.774506  -0.920876      -0.136794    0.479223   0.774488  \n",
       " -1.08257   -1.00241    1.21925       -0.611068    1.0177     2.47648   \n",
       "  0.430553   0.61749   -1.07897       -0.241328   -1.21044   -0.424625  \n",
       " -2.32432    1.51338    0.401951   …   0.103728   -1.13518    0.848895  \n",
       " -0.137243  -2.46091    1.7864        -0.480136    1.24385   -0.291449  \n",
       "  0.865728   0.39537    1.76111        1.6618      0.215561  -1.41962   \n",
       "  ⋮                                ⋱                                    \n",
       "  2.35185   -3.43967   -2.68266        0.997018    1.73015    0.024985  \n",
       " -0.582685   0.260381  -1.28001        1.55598    -1.48704    2.97735   \n",
       "  0.167276  -0.592612  -2.95001    …   1.30908     2.52544    0.893735  \n",
       "  0.544025  -2.1881     1.43996       -0.397801   -0.331557   1.93023   \n",
       " -1.30422    1.69225   -2.01197       -0.0129876   0.435566  -1.0524    \n",
       "  0.116278   0.571045   0.212743       1.18114    -1.47561   -0.661382  \n",
       " -1.50603    1.35708   -0.896454      -0.435993    0.58451    0.00513805\n",
       " -0.125254   0.719182   2.48417    …   1.28038    -1.79692   -1.35875   \n",
       "  0.421905   1.47432    1.89981        0.22332    -3.71943   -1.22607   \n",
       " -1.54825    0.843261  -0.410004      -0.185738    0.263756  -1.89781   \n",
       " -0.551244  -1.01511    2.77992        0.100411    0.279987   1.46239   \n",
       "  0.513076   3.21599    1.97869        0.771945   -1.60018   -0.448812  "
      ]
     },
     "execution_count": 23,
     "metadata": {},
     "output_type": "execute_result"
    }
   ],
   "source": [
    "rae.W_d"
   ]
  },
  {
   "cell_type": "code",
   "execution_count": null,
   "metadata": {
    "collapsed": false
   },
   "outputs": [],
   "source": [
    "function RecursiveAutoencoders.eval_word_embeddings(rae::RAE, tree::(Any,Any))\n",
    "    function eval_child(child::String)\n",
    "        eval_word_embedding(rae,child,false)\n",
    "    end\n",
    "    function eval_child(child::Any)\n",
    "        eval_word_embeddings(rae,child)\n",
    "    end\n",
    "    c_i = eval_child(tree[1])\n",
    "    c_j = eval_child(tree[2])\n",
    "    [c_i c_j]\n",
    "end"
   ]
  },
  {
   "cell_type": "code",
   "execution_count": null,
   "metadata": {
    "collapsed": false
   },
   "outputs": [],
   "source": [
    "tree= (\"killer\", \"cows\")\n",
    "c = eval_word_embeddings(rae, tree)\n",
    "c= [c[:,1], c[:,2]]\n",
    "p = fold(rae,tree)\n",
    "ĉ = unfold(rae,tree,p)\n",
    "ĉ= [ĉ[:,1], ĉ[:,2]]\n",
    "grad_top(rae, ĉ, c, tree)"
   ]
  },
  {
   "cell_type": "code",
   "execution_count": null,
   "metadata": {
    "collapsed": false
   },
   "outputs": [],
   "source": [
    "x = Any[2,3]"
   ]
  },
  {
   "cell_type": "code",
   "execution_count": null,
   "metadata": {
    "collapsed": false
   },
   "outputs": [],
   "source": [
    "x"
   ]
  },
  {
   "cell_type": "code",
   "execution_count": null,
   "metadata": {
    "collapsed": true
   },
   "outputs": [],
   "source": []
  },
  {
   "cell_type": "code",
   "execution_count": null,
   "metadata": {
    "collapsed": false
   },
   "outputs": [],
   "source": []
  },
  {
   "cell_type": "code",
   "execution_count": null,
   "metadata": {
    "collapsed": true
   },
   "outputs": [],
   "source": []
  },
  {
   "cell_type": "code",
   "execution_count": null,
   "metadata": {
    "collapsed": false
   },
   "outputs": [],
   "source": [
    "function cosine_dist(a,b)\n",
    "    (a⋅b)/(norm(a)*norm(b))\n",
    "end\n",
    "\n",
    "function neighbour_dists(cc::Vector{Float64}, globe::Matrix{Float64})\n",
    "    [cosine_dist(cc, globe[:,ii]) for ii in 1:size(globe,2)]\n",
    "end\n",
    "\n",
    "\n",
    "function show_best(rae::RAE,ĉ::Embedding, nbest=20)\n",
    "    candidates=neighbour_dists(ĉ,rae.L)   \n",
    "    best_cands = [ (findfirst(candidates,score), score)\n",
    "                    for score in select(candidates,1:nbest, rev=true)[1:nbest]]\n",
    "    vcat([[rae.indexed_words[ii] round(score,2)] for (ii,score) in best_cands]...)\n",
    "end\n",
    "\n",
    "function show_bests(rae::RAE,ĉs::Embeddings, nbest=20)\n",
    "    hcat([show_best(rae,ĉs[:,ii],nbest) for ii in 1:size(ĉs,2)]...)\n",
    "end\n"
   ]
  },
  {
   "cell_type": "code",
   "execution_count": null,
   "metadata": {
    "collapsed": false
   },
   "outputs": [],
   "source": [
    "bs = show_bests(rae, ĉ_ij)\n",
    "bs[1,:][1:2:end]"
   ]
  },
  {
   "cell_type": "code",
   "execution_count": null,
   "metadata": {
    "collapsed": false
   },
   "outputs": [],
   "source": [
    "ĉ_ij"
   ]
  },
  {
   "cell_type": "code",
   "execution_count": null,
   "metadata": {
    "collapsed": true
   },
   "outputs": [],
   "source": []
  }
 ],
 "metadata": {
  "kernelspec": {
   "display_name": "Julia 0.4.0-dev",
   "language": "julia",
   "name": "julia-0.4"
  },
  "language_info": {
   "name": "julia",
   "version": "0.3.9"
  }
 },
 "nbformat": 4,
 "nbformat_minor": 0
}
