{
 "cells": [
  {
   "cell_type": "code",
   "execution_count": 1,
   "metadata": {
    "collapsed": false
   },
   "outputs": [],
   "source": [
    "using DataStructures\n",
    "using Iterators\n",
    "using Pipe\n",
    "function pz(x :: AbstractArray)\n",
    "    println(typeof(x), \": \", size(x))\n",
    "end\n",
    "macro printval(ee)\n",
    "    ee_expr = @sprintf \"%s\" string(ee)\n",
    "    esc(:(println($ee_expr,\" = \", $ee)))\n",
    "end"
   ]
  },
  {
   "cell_type": "code",
   "execution_count": 2,
   "metadata": {
    "collapsed": false
   },
   "outputs": [],
   "source": [
    "using RecursiveAutoencoders"
   ]
  },
  {
   "cell_type": "code",
   "execution_count": 3,
   "metadata": {
    "collapsed": false
   },
   "outputs": [
    {
     "name": "stdout",
     "output_type": "stream",
     "text": [
      "(50,14)\n",
      "Dict{AbstractString,Int64}\n",
      "Array{AbstractString,1}\n"
     ]
    }
   ],
   "source": [
    "include(\"load_embeddings.jl\")\n",
    "LL,word_indexes, indexed_words =  load_embeddings(\"embeddings-test.txt\")\n",
    "#(\"embeddings-scaled.EMBEDDING_SIZE=50.txt\");\n",
    "size(LL) |> println\n",
    "word_indexes |> typeof |> println\n",
    "indexed_words |> typeof |> println"
   ]
  },
  {
   "cell_type": "code",
   "execution_count": 4,
   "metadata": {
    "collapsed": false,
    "scrolled": true
   },
   "outputs": [],
   "source": [
    "training_trees = open(\"training_sents.jsz\",\"r\") do fs\n",
    "    deserialize(fs)\n",
    "end;"
   ]
  },
  {
   "cell_type": "code",
   "execution_count": 5,
   "metadata": {
    "collapsed": false
   },
   "outputs": [],
   "source": [
    "abstract Side\n",
    "abstract Left<:Side\n",
    "abstract Right<:Side\n",
    "abstract NoSide<:Side\n",
    "\n",
    "immutable FoldData\n",
    "    p::Embedding\n",
    "    left::Union(FoldData,Embedding)\n",
    "    right::Union(FoldData,Embedding)\n",
    "end\n",
    "\n",
    "immutable UnfoldData{T<:Side}\n",
    "    p::Embedding\n",
    "    parent::Union(FoldData,UnfoldData)\n",
    "    ĉ_i::Embedding\n",
    "    ĉ_j::Embedding\n",
    "end\n",
    "\n",
    "immutable UnfoldLeaf{T<:Side}\n",
    "    ĉ::Embedding\n",
    "    parent::UnfoldData\n",
    "    c::Embedding\n",
    "end"
   ]
  },
  {
   "cell_type": "code",
   "execution_count": 6,
   "metadata": {
    "collapsed": false
   },
   "outputs": [
    {
     "data": {
      "text/plain": [
       "fold (generic function with 1 method)"
      ]
     },
     "execution_count": 6,
     "metadata": {},
     "output_type": "execute_result"
    }
   ],
   "source": [
    "function fold(rae::RAE, tree::Tuple{Any,Any})\n",
    "    function eval_child(child::String)\n",
    "        c=eval_word_embedding(rae,child,false)\n",
    "        c\n",
    "    end\n",
    "    function eval_child(c::Embedding)\n",
    "        c\n",
    "    end\n",
    "    function eval_child(child::Any)\n",
    "        fold(rae,child)\n",
    "    end\n",
    "    \n",
    "    function emb(data::FoldData)\n",
    "        data.p\n",
    "    end\n",
    "    function emb(data::Embedding)\n",
    "        data\n",
    "    end\n",
    "    \n",
    "    left = eval_child(tree[1])\n",
    "    right = eval_child(tree[2])\n",
    "    p=eval_merge(rae, emb(left), emb(right))\n",
    "    FoldData(p, left, right)   \n",
    "end"
   ]
  },
  {
   "cell_type": "code",
   "execution_count": 7,
   "metadata": {
    "collapsed": false
   },
   "outputs": [
    {
     "data": {
      "text/plain": [
       "unfold (generic function with 3 methods)"
      ]
     },
     "execution_count": 7,
     "metadata": {},
     "output_type": "execute_result"
    }
   ],
   "source": [
    "function unfold{T}(rae::RAE, c::Embedding, ĉ::Embedding, parent, ::Type{T})\n",
    "    UnfoldLeaf{T}(ĉ, parent, c)\n",
    "end\n",
    "\n",
    "\n",
    "function unfold{T}(rae::RAE, act::FoldData, p::Embedding, parent, ::Type{T})\n",
    "    #Side is a ignored argument. This could be replaced with a generated function\n",
    "    ĉ_i, ĉ_j = reconstruct(rae,p)\n",
    "    data = UnfoldData{T}(p, parent, ĉ_i, ĉ_j)\n",
    "    \n",
    "    left = unfold(rae, act.left, ĉ_i, data, Left)\n",
    "    right= unfold(rae, act.right, ĉ_j, data, Right)\n",
    "    [left; right]\n",
    "end\n",
    "\n",
    "function unfold(rae::RAE, act::FoldData)\n",
    "    #Handle the top case\n",
    "    unfold(rae, act,act.p,act, NoSide)\n",
    "end"
   ]
  },
  {
   "cell_type": "code",
   "execution_count": 8,
   "metadata": {
    "collapsed": false
   },
   "outputs": [
    {
     "name": "stderr",
     "output_type": "stream",
     "text": [
      "WARNING: indexing with non Integer AbstractArrays is deprecated\n",
      " in depwarn at ./deprecated.jl:42\n",
      " in to_index at deprecated.jl:404\n",
      " in getindex at array.jl:318\n",
      " in reconstruct at /home/wheel/oxinabox/phd/prototypes/word-embeddings2/RecursiveAutoencoders.jl:88\n",
      " in unfold at In[7]:8\n",
      " in unfold at In[7]:18\n",
      " in include_string at loading.jl:100\n",
      " in execute_request_0x535c5df2 at /home/wheel/oxinabox/.julia/v0.4/IJulia/src/execute_request.jl:157\n",
      " in eventloop at /home/wheel/oxinabox/.julia/v0.4/IJulia/src/IJulia.jl:123\n",
      " in anonymous at task.jl:365\n"
     ]
    }
   ],
   "source": [
    "# tests\n",
    "rae = RAE(LL,word_indexes,indexed_words);\n",
    "\n",
    "a=fold(rae,(\"killer\", \"cows\"))\n",
    "b=unfold(rae,a);\n",
    "@assert b[1].parent==b[2].parent\n",
    "\n",
    "\n",
    "a=fold(rae,(\"the\",(\"killer\", \"cows\")))\n",
    "b=unfold(rae,a);\n",
    "@assert b[1].parent==b[2].parent.parent==b[3].parent.parent"
   ]
  },
  {
   "cell_type": "code",
   "execution_count": 9,
   "metadata": {
    "collapsed": false
   },
   "outputs": [
    {
     "data": {
      "text/plain": [
       "δ (generic function with 2 methods)"
      ]
     },
     "execution_count": 9,
     "metadata": {},
     "output_type": "execute_result"
    }
   ],
   "source": [
    "function δ(a::Embedding, δ_above::Vector{Float64}, W::Matrix{Float64})\n",
    "    #a is the ouput of this layer: a=tanh(z) where z is the input from layer below\n",
    "    #W is matrix to move to above layer, from this one\n",
    "    dz = 1-a.^2 #Derivitive of a=tanh(z)\n",
    "    (W'*δ_above).*dz\n",
    "end\n",
    "\n",
    "function δ(ĉ_ij::Embedding,c_ij::Embedding) \n",
    "    #Output Layer\n",
    "    M = length(c_ij)# ==length(ĉ_ij)\n",
    "    δ_above = ĉ_ij-c_ij\n",
    "    δ(ĉ_ij,δ_above, eye(M))     \n",
    "end\n"
   ]
  },
  {
   "cell_type": "code",
   "execution_count": 26,
   "metadata": {
    "collapsed": false
   },
   "outputs": [
    {
     "data": {
      "text/plain": [
       "UBPTS (generic function with 2 methods)"
      ]
     },
     "execution_count": 26,
     "metadata": {},
     "output_type": "execute_result"
    }
   ],
   "source": [
    "function sidepad(d::Vector{Float64}, ::Left)\n",
    "    padding=zeros(size(d))\n",
    "    [padding;d]\n",
    "end\n",
    "function sidepad(d::Vector{Float64}, ::Right)\n",
    "    padding=zeros(size(d))\n",
    "    [d, padding]\n",
    "end\n",
    "\n",
    "function UBPTS{T}(rae::RAE, leaf::UnfoldLeaf{T})\n",
    "    δ_half = δ(leaf.ĉ,leaf.c)\n",
    "    sidepad(δ_half,T)\n",
    "end\n",
    "\n",
    "function UBPTS(rae::RAE, node::UnfoldData, δ_above::Vector{Float64})\n",
    "    δ([node.ĉ_i;node.ĉ_6], δ_above, rae.W_d)\n",
    "end\n"
   ]
  },
  {
   "cell_type": "code",
   "execution_count": 66,
   "metadata": {
    "collapsed": false
   },
   "outputs": [
    {
     "data": {
      "text/plain": [
       "UBPTS (generic function with 6 methods)"
      ]
     },
     "execution_count": 66,
     "metadata": {},
     "output_type": "execute_result"
    }
   ],
   "source": [
    "function UBPTS(rae::RAE, nodes::Vector)#nodes::Vector{UnfoldLeaf} )\n",
    "    delta_len = 2*nodes[1].ĉ |> length\n",
    "    parent_deltas = DefaultDict(UnfoldData, Vector{Float64},zeros(delta_len))\n",
    "    for node in nodes\n",
    "        parent_deltas[node.parent]+=UBPTS(rae,node)\n",
    "    end\n",
    "    UBPTS(rae,parent_deltas)\n",
    "end\n",
    "\n",
    "function UBPTS(rae::RAE, nodes::DefaultDict{UnfoldData,Vector{Float64}})\n",
    "    delta_len = 2*first(nodes)[1].ĉ_i |> length\n",
    "    parent_deltas = DefaultDict(Union(UnfoldData,FoldData), Vector{Float64},zeros(delta_len))\n",
    "    for (node, δ_above) in nodes\n",
    "        parent_deltas[node.parent]+= UBPTS(rae, node, δ_above)\n",
    "    end\n",
    "    UBPTS(rae,parent_deltas)\n",
    "end\n",
    "\n",
    "function UBPTS(rae::RAE, nodes::DefaultDict{FoldData,Vector{Float64}})\n",
    "    @assert(length(x)==1)\n",
    "    _,δ=first(x)\n",
    "    δ\n",
    "end\n",
    "\n"
   ]
  },
  {
   "cell_type": "code",
   "execution_count": 67,
   "metadata": {
    "collapsed": false
   },
   "outputs": [
    {
     "data": {
      "text/html": [
       "6 methods for generic function <b>UBPTS</b>:<ul><li> UBPTS<i>{T}</i>(rae::<b>RecursiveAutoencoders.RAE</b>,leaf::<b>UnfoldLeaf{T}</b>) at In[26]:11<li> UBPTS(rae::<b>RecursiveAutoencoders.RAE</b>,node::<b>UnfoldData{T<:Side}</b>,δ_above::<b>Array{Float64,1}</b>) at In[26]:16<li> UBPTS(rae::<b>RecursiveAutoencoders.RAE</b>,nodes::<b>Array{UnfoldLeaf{T<:Side},1}</b>) at In[30]:2<li> UBPTS(rae::<b>RecursiveAutoencoders.RAE</b>,nodes::<b>DataStructures.DefaultDict{UnfoldData{T<:Side},Array{Float64,1},F}</b>) at In[66]:11<li> UBPTS(rae::<b>RecursiveAutoencoders.RAE</b>,nodes::<b>DataStructures.DefaultDict{FoldData,Array{Float64,1},F}</b>) at In[66]:20<li> UBPTS(rae::<b>RecursiveAutoencoders.RAE</b>,nodes::<b>Array{T,1}</b>) at In[66]:2</ul>"
      ],
      "text/plain": [
       "# 6 methods for generic function \"UBPTS\":\n",
       "UBPTS{T}(rae::RecursiveAutoencoders.RAE,leaf::UnfoldLeaf{T}) at In[26]:11\n",
       "UBPTS(rae::RecursiveAutoencoders.RAE,node::UnfoldData{T<:Side},δ_above::Array{Float64,1}) at In[26]:16\n",
       "UBPTS(rae::RecursiveAutoencoders.RAE,nodes::Array{UnfoldLeaf{T<:Side},1}) at In[30]:2\n",
       "UBPTS(rae::RecursiveAutoencoders.RAE,nodes::DataStructures.DefaultDict{UnfoldData{T<:Side},Array{Float64,1},F}) at In[66]:11\n",
       "UBPTS(rae::RecursiveAutoencoders.RAE,nodes::DataStructures.DefaultDict{FoldData,Array{Float64,1},F}) at In[66]:20\n",
       "UBPTS(rae::RecursiveAutoencoders.RAE,nodes::Array{T,1}) at In[66]:2"
      ]
     },
     "execution_count": 67,
     "metadata": {},
     "output_type": "execute_result"
    }
   ],
   "source": [
    "methods(UBPTS)"
   ]
  },
  {
   "cell_type": "code",
   "execution_count": 68,
   "metadata": {
    "collapsed": false
   },
   "outputs": [
    {
     "ename": "LoadError",
     "evalue": "LoadError: TypeError: call: in new, expected DataStructures.HashDict{UnfoldData{T<:Side},Array{Float64,1},Void}, got DataStructures.HashDict{UnfoldData{T<:Side},Array{Float64,1},Void}\nwhile loading In[68], in expression starting on line 1",
     "output_type": "error",
     "traceback": [
      "LoadError: TypeError: call: in new, expected DataStructures.HashDict{UnfoldData{T<:Side},Array{Float64,1},Void}, got DataStructures.HashDict{UnfoldData{T<:Side},Array{Float64,1},Void}\nwhile loading In[68], in expression starting on line 1",
      "",
      " in call at /home/wheel/oxinabox/.julia/v0.4/DataStructures/src/defaultdict.jl:30",
      " in call at /home/wheel/oxinabox/.julia/v0.4/DataStructures/src/defaultdict.jl:121",
      " in UBPTS at In[66]:3"
     ]
    }
   ],
   "source": [
    "UBPTS(rae, b)"
   ]
  },
  {
   "cell_type": "code",
   "execution_count": null,
   "metadata": {
    "collapsed": true
   },
   "outputs": [],
   "source": []
  },
  {
   "cell_type": "code",
   "execution_count": null,
   "metadata": {
    "collapsed": false
   },
   "outputs": [],
   "source": [
    "function RecursiveAutoencoders.eval_word_embeddings(rae::RAE, tree::(Any,Any))\n",
    "    function eval_child(child::String)\n",
    "        eval_word_embedding(rae,child,false)\n",
    "    end\n",
    "    function eval_child(child::Any)\n",
    "        eval_word_embeddings(rae,child)\n",
    "    end\n",
    "    c_i = eval_child(tree[1])\n",
    "    c_j = eval_child(tree[2])\n",
    "    [c_i c_j]\n",
    "end"
   ]
  },
  {
   "cell_type": "code",
   "execution_count": null,
   "metadata": {
    "collapsed": false
   },
   "outputs": [],
   "source": [
    "tree= (\"killer\", \"cows\")\n",
    "c = eval_word_embeddings(rae, tree)\n",
    "c= [c[:,1], c[:,2]]\n",
    "p = fold(rae,tree)\n",
    "ĉ = unfold(rae,tree,p)\n",
    "ĉ= [ĉ[:,1], ĉ[:,2]]\n",
    "grad_top(rae, ĉ, c, tree)"
   ]
  },
  {
   "cell_type": "code",
   "execution_count": 30,
   "metadata": {
    "collapsed": false
   },
   "outputs": [
    {
     "data": {
      "text/plain": [
       "2-element Array{Any,1}:\n",
       " 2\n",
       " 3"
      ]
     },
     "execution_count": 30,
     "metadata": {},
     "output_type": "execute_result"
    }
   ],
   "source": [
    "x = Any[2,3]"
   ]
  },
  {
   "cell_type": "code",
   "execution_count": 32,
   "metadata": {
    "collapsed": false
   },
   "outputs": [
    {
     "data": {
      "text/plain": [
       "2-element Array{Any,1}:\n",
       " 2\n",
       " 4"
      ]
     },
     "execution_count": 32,
     "metadata": {},
     "output_type": "execute_result"
    }
   ],
   "source": [
    "x"
   ]
  },
  {
   "cell_type": "code",
   "execution_count": null,
   "metadata": {
    "collapsed": true
   },
   "outputs": [],
   "source": []
  },
  {
   "cell_type": "code",
   "execution_count": null,
   "metadata": {
    "collapsed": false
   },
   "outputs": [],
   "source": []
  },
  {
   "cell_type": "code",
   "execution_count": null,
   "metadata": {
    "collapsed": true
   },
   "outputs": [],
   "source": []
  },
  {
   "cell_type": "code",
   "execution_count": null,
   "metadata": {
    "collapsed": false
   },
   "outputs": [],
   "source": [
    "function cosine_dist(a,b)\n",
    "    (a⋅b)/(norm(a)*norm(b))\n",
    "end\n",
    "\n",
    "function neighbour_dists(cc::Vector{Float64}, globe::Matrix{Float64})\n",
    "    [cosine_dist(cc, globe[:,ii]) for ii in 1:size(globe,2)]\n",
    "end\n",
    "\n",
    "\n",
    "function show_best(rae::RAE,ĉ::Embedding, nbest=20)\n",
    "    candidates=neighbour_dists(ĉ,rae.L)   \n",
    "    best_cands = [ (findfirst(candidates,score), score)\n",
    "                    for score in select(candidates,1:nbest, rev=true)[1:nbest]]\n",
    "    vcat([[rae.indexed_words[ii] round(score,2)] for (ii,score) in best_cands]...)\n",
    "end\n",
    "\n",
    "function show_bests(rae::RAE,ĉs::Embeddings, nbest=20)\n",
    "    hcat([show_best(rae,ĉs[:,ii],nbest) for ii in 1:size(ĉs,2)]...)\n",
    "end\n"
   ]
  },
  {
   "cell_type": "code",
   "execution_count": null,
   "metadata": {
    "collapsed": false
   },
   "outputs": [],
   "source": [
    "bs = show_bests(rae, ĉ_ij)\n",
    "bs[1,:][1:2:end]"
   ]
  },
  {
   "cell_type": "code",
   "execution_count": null,
   "metadata": {
    "collapsed": false
   },
   "outputs": [],
   "source": [
    "ĉ_ij"
   ]
  },
  {
   "cell_type": "code",
   "execution_count": null,
   "metadata": {
    "collapsed": true
   },
   "outputs": [],
   "source": []
  }
 ],
 "metadata": {
  "kernelspec": {
   "display_name": "Julia 0.4.0-dev",
   "language": "julia",
   "name": "julia-0.4"
  },
  "language_info": {
   "name": "julia",
   "version": "0.4.0"
  }
 },
 "nbformat": 4,
 "nbformat_minor": 0
}
