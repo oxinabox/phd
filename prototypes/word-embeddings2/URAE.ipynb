{
 "cells": [
  {
   "cell_type": "code",
   "execution_count": 1,
   "metadata": {
    "collapsed": false
   },
   "outputs": [],
   "source": [
    "using DataStructures\n",
    "using Base.Collections\n",
    "using Iterators\n",
    "using Pipe\n",
    "function pz(x :: AbstractArray)\n",
    "    println(typeof(x), \": \", size(x))\n",
    "end\n",
    "macro printval(ee)\n",
    "    ee_expr = @sprintf \"%s\" string(ee)\n",
    "    esc(:(println($ee_expr,\" = \", $ee)))\n",
    "end\n",
    "\n",
    "macro pz(ee)\n",
    "    ee_expr = @sprintf \"%s\" string(ee)\n",
    "    esc(:(println($ee_expr,\"\\t\\t\",typeof($ee), \"\\t\", size($ee))))\n",
    "end"
   ]
  },
  {
   "cell_type": "code",
   "execution_count": 2,
   "metadata": {
    "collapsed": false
   },
   "outputs": [],
   "source": [
    "using RecursiveAutoencoders"
   ]
  },
  {
   "cell_type": "code",
   "execution_count": 3,
   "metadata": {
    "collapsed": false
   },
   "outputs": [
    {
     "name": "stdout",
     "output_type": "stream",
     "text": [
      "(50,268810)\n",
      "Dict{String,Int64}\n",
      "Array{String,1}\n"
     ]
    }
   ],
   "source": [
    "include(\"load_embeddings.jl\")\n",
    "LL,word_indexes, indexed_words =  load_embeddings(\"embeddings-scaled.EMBEDDING_SIZE=50.txt\");\n",
    "size(LL) |> println\n",
    "word_indexes |> typeof |> println\n",
    "indexed_words |> typeof |> println"
   ]
  },
  {
   "cell_type": "code",
   "execution_count": 4,
   "metadata": {
    "collapsed": false,
    "scrolled": true
   },
   "outputs": [],
   "source": [
    "training_trees = open(\"training_sents.jsz\",\"r\") do fs\n",
    "    deserialize(fs)\n",
    "end;"
   ]
  },
  {
   "cell_type": "code",
   "execution_count": null,
   "metadata": {
    "collapsed": true
   },
   "outputs": [],
   "source": []
  },
  {
   "cell_type": "code",
   "execution_count": 5,
   "metadata": {
    "collapsed": false
   },
   "outputs": [],
   "source": [
    "abstract Side\n",
    "immutable Left<:Side\n",
    "end\n",
    "\n",
    "immutable Right<:Side\n",
    "end\n",
    "\n",
    "immutable NoSide<:Side\n",
    "end\n",
    "\n",
    "immutable FoldData\n",
    "    p_out::Embedding\n",
    "    left::Union(FoldData,Embedding)\n",
    "    right::Union(FoldData,Embedding)\n",
    "end\n",
    "\n",
    "immutable UnfoldData{T<:Side}\n",
    "    p_in::Embedding\n",
    "    parent::Union(FoldData,UnfoldData)\n",
    "    ĉ_i::Embedding\n",
    "    ĉ_j::Embedding\n",
    "    depth::Int64\n",
    "end\n",
    "\n",
    "immutable UnfoldLeaf{T<:Side}\n",
    "    ĉ::Embedding\n",
    "    parent::UnfoldData\n",
    "    c::Embedding\n",
    "    depth::Int64\n",
    "end\n",
    "\n"
   ]
  },
  {
   "cell_type": "code",
   "execution_count": 6,
   "metadata": {
    "collapsed": false
   },
   "outputs": [
    {
     "data": {
      "text/plain": [
       "get_side (generic function with 1 method)"
      ]
     },
     "execution_count": 6,
     "metadata": {},
     "output_type": "execute_result"
    }
   ],
   "source": [
    "function get_side{T}(::Union(UnfoldLeaf{T}, UnfoldData{T}))\n",
    "    T()\n",
    "end"
   ]
  },
  {
   "cell_type": "code",
   "execution_count": 7,
   "metadata": {
    "collapsed": false
   },
   "outputs": [
    {
     "data": {
      "text/plain": [
       "fold (generic function with 1 method)"
      ]
     },
     "execution_count": 7,
     "metadata": {},
     "output_type": "execute_result"
    }
   ],
   "source": [
    "function emb(data::FoldData)\n",
    "    data.p_out\n",
    "end\n",
    "function emb(data::Embedding)\n",
    "    data\n",
    "end\n",
    "\n",
    "function fold(rae::RAE, tree::(Any,Any))\n",
    "    function eval_child(child::String)\n",
    "        c=eval_word_embedding(rae,child,false)\n",
    "        c\n",
    "    end\n",
    "    function eval_child(c::Embedding)\n",
    "        c\n",
    "    end\n",
    "    function eval_child(child::Any)\n",
    "        fold(rae,child)\n",
    "    end\n",
    "    \n",
    "   \n",
    "    left = eval_child(tree[1])\n",
    "    right = eval_child(tree[2])\n",
    "    p=eval_merge(rae, emb(left), emb(right))\n",
    "    FoldData(p, left, right)   \n",
    "end"
   ]
  },
  {
   "cell_type": "code",
   "execution_count": 8,
   "metadata": {
    "collapsed": false
   },
   "outputs": [
    {
     "data": {
      "text/plain": [
       "unfold (generic function with 3 methods)"
      ]
     },
     "execution_count": 8,
     "metadata": {},
     "output_type": "execute_result"
    }
   ],
   "source": [
    "function unfold{T}(rae::RAE, c::Embedding, ĉ::Embedding, parent, ::Type{T}, depth)\n",
    "    UnfoldLeaf{T}(ĉ, parent, c, depth)\n",
    "end\n",
    "\n",
    "\n",
    "function unfold{T}(rae::RAE, act::FoldData, p_in::Embedding, parent, ::Type{T}, depth::Int)\n",
    "    #Side is a ignored argument. This could be replaced with a generated function\n",
    "    ĉ_i, ĉ_j = reconstruct(rae,p_in)\n",
    "    data = UnfoldData{T}(p_in, parent, ĉ_i, ĉ_j,depth)\n",
    "    \n",
    "    left = unfold(rae, act.left, ĉ_i, data, Left, depth+1)\n",
    "    right= unfold(rae, act.right, ĉ_j, data, Right, depth+1)\n",
    "    [left; right]\n",
    "end\n",
    "\n",
    "function unfold(rae::RAE, act::FoldData)\n",
    "    #Handle the top case\n",
    "    unfold(rae, act,act.p_out,act, NoSide,0)\n",
    "end"
   ]
  },
  {
   "cell_type": "code",
   "execution_count": 9,
   "metadata": {
    "collapsed": false
   },
   "outputs": [],
   "source": [
    "# tests\n",
    "function test()\n",
    "    rr = RAE(LL,word_indexes,indexed_words);\n",
    "\n",
    "    a=fold(rr,(\"killer\", \"cows\"))\n",
    "    b=unfold(rr,a);\n",
    "    @assert b[1].parent==b[2].parent\n",
    "\n",
    "\n",
    "    a=fold(rr,(\"the\",(\"killer\", \"cows\")))\n",
    "    b=unfold(rr,a);\n",
    "    @assert b[1].parent==b[2].parent.parent==b[3].parent.parent\n",
    "end\n",
    "test()"
   ]
  },
  {
   "cell_type": "code",
   "execution_count": 10,
   "metadata": {
    "collapsed": false,
    "scrolled": true
   },
   "outputs": [
    {
     "data": {
      "text/plain": [
       "δ (generic function with 2 methods)"
      ]
     },
     "execution_count": 10,
     "metadata": {},
     "output_type": "execute_result"
    }
   ],
   "source": [
    "function δ(a::Embedding, δ_above::Vector{Float64}, W::Matrix{Float64})\n",
    "    #a is the ouput of this layer: a=tanh(z) where z is the input from layer below\n",
    "    #W is matrix to move to above layer, from this one\n",
    "    dz = 1-a.^2 #Derivitive of a=tanh(z)\n",
    "    (W'*δ_above).*dz\n",
    "end\n",
    "\n",
    "function δ(ĉ_ij::Embedding,c_ij::Embedding) \n",
    "    #Output Layer\n",
    "    M = length(c_ij)# ==length(ĉ_ij)\n",
    "    dz = 1-ĉ_ij.^2\n",
    "    δ_above = -(c_ij-ĉ_ij)\n",
    "    δ_above.*dz\n",
    "    #δ(ĉ_ij,δ_above, eye(M))     \n",
    "end\n"
   ]
  },
  {
   "cell_type": "code",
   "execution_count": 11,
   "metadata": {
    "collapsed": false
   },
   "outputs": [
    {
     "data": {
      "text/plain": [
       "unsidepad (generic function with 3 methods)"
      ]
     },
     "execution_count": 11,
     "metadata": {},
     "output_type": "execute_result"
    }
   ],
   "source": [
    "function sidepad(d::Vector{Float64}, ::Left)\n",
    "    padding=zeros(size(d))\n",
    "    [d, padding]\n",
    "end\n",
    "function sidepad(d::Vector{Float64}, ::Right)\n",
    "    padding=zeros(size(d))\n",
    "    [padding, d]\n",
    "end\n",
    "\n",
    "function sidepad(d::Vector{Float64}, ::NoSide)\n",
    "    d\n",
    "end\n",
    "\n",
    "function unsidepad(d::Vector{Float64}, ::Left)\n",
    "    d[1:end/2]\n",
    "end\n",
    "function unsidepad(d::Vector{Float64}, ::Right)\n",
    "    d[end/2+1:end]\n",
    "end\n",
    "\n",
    "function unsidepad(d::Vector{Float64}, ::NoSide)\n",
    "    d\n",
    "end"
   ]
  },
  {
   "cell_type": "code",
   "execution_count": 12,
   "metadata": {
    "collapsed": false
   },
   "outputs": [
    {
     "data": {
      "text/plain": [
       "UBPTS (generic function with 2 methods)"
      ]
     },
     "execution_count": 12,
     "metadata": {},
     "output_type": "execute_result"
    }
   ],
   "source": [
    "function UBPTS(rae::RAE, nodes::Vector{UnfoldLeaf} )\n",
    "    parent_deltas = Dict{UnfoldData, Vector{Float64}}()\n",
    "    function add!(parent_node, delta)\n",
    "        if haskey(parent_deltas, parent_node)\n",
    "            parent_deltas[parent_node]+=delta\n",
    "        else\n",
    "            parent_deltas[parent_node]=delta\n",
    "        end\n",
    "    end\n",
    "    \n",
    "    for leaf in nodes\n",
    "        δ_node = δ(leaf.ĉ,leaf.c)\n",
    "        δ_padded = sidepad(δ_node, get_side(leaf))\n",
    "        add!(leaf.parent, δ_padded)\n",
    "    end\n",
    "        \n",
    "    UBPTS(rae,parent_deltas)\n",
    "end\n",
    "\n",
    "function UBPTS(rae::RAE, parent_deltas::Dict{UnfoldData,Vector{Float64}})\n",
    "    foldnode = nothing\n",
    "    δ_above_fold = 0\n",
    "    \n",
    "    pending_nodes = PriorityQueue{UnfoldData, Int64}(Base.Order.Reverse)\n",
    "    enqueue!(node::UnfoldData) = pending_nodes[node] = node.depth #Priority of node.depth (syntax on julia Priority queues is weird)\n",
    "    map(enqueue!, keys(parent_deltas)) #Add all that were passed, as none have been processed\n",
    "    \n",
    "    function pend!(parent_node::UnfoldData, δ_node::Vector{Float64})\n",
    "        if !haskey(parent_deltas,parent_node)\n",
    "            enqueue!(parent_node) #then also hasn't been enque\n",
    "            parent_deltas[parent_node]=δ_node\n",
    "        else\n",
    "            parent_deltas[parent_node]+=δ_node\n",
    "        end\n",
    "    end\n",
    "        \n",
    "    function pend!(node::FoldData, δ_node::Vector{Float64})\n",
    "        foldnode = node\n",
    "        δ_above_fold+=δ_node\n",
    "    end\n",
    "\n",
    "    ΔW_d=0 #will broadcast\n",
    "    Δb_d=0 \n",
    "    while !isempty(pending_nodes)\n",
    "        node = dequeue!(pending_nodes)\n",
    "        δ_above =  parent_deltas[node]\n",
    "        #Note: node.p_in= suitable half of node.parent.ĉ_i or node.parent.ĉ_j\n",
    "        #      The line below takes a lot of thinking to be sure it is right\n",
    "        δ_node = δ(node.p_in, δ_above, rae.W_d)\n",
    "\n",
    "        δ_padded = sidepad(δ_node, get_side(node))\n",
    "        \n",
    "        \n",
    "        ΔW_d += δ_above*node.p_in'\n",
    "        Δb_d += δ_above\n",
    "\n",
    "        \n",
    "        pend!(node.parent,δ_padded)\n",
    "    end\n",
    "\n",
    "    (δ_above_fold, ΔW_d, Δb_d)\n",
    "end\n"
   ]
  },
  {
   "cell_type": "code",
   "execution_count": 13,
   "metadata": {
    "collapsed": false
   },
   "outputs": [
    {
     "data": {
      "text/plain": [
       "UBPTS (generic function with 4 methods)"
      ]
     },
     "execution_count": 13,
     "metadata": {},
     "output_type": "execute_result"
    }
   ],
   "source": [
    "function UBPTS(rae::RAE, node::FoldData, δ_above::Vector{Float64})\n",
    "    c_i=emb(node.left)\n",
    "    c_j=emb(node.right)\n",
    "    a= [c_i; c_j]\n",
    "    \n",
    "    δ_node =  δ(a, δ_above, rae.W_e)\n",
    "    \n",
    "    δ_left = δ_node[1:end/2]\n",
    "    δ_right = δ_node[end/2+1 : end]\n",
    "    \n",
    "                   \n",
    "    ΔW_e=δ_above*a'\n",
    "    Δb_e=δ_above   \n",
    "    \n",
    "    \n",
    "    ΔW_e_left, Δb_e_left = UBPTS(rae, node.left, δ_left)\n",
    "    ΔW_e_right, Δb_e_right = UBPTS(rae, node.right, δ_right)\n",
    "    (ΔW_e+ΔW_e_left+ΔW_e_right, Δb_e+Δb_e_left+Δb_e_right)\n",
    "end\n",
    "\n",
    "function UBPTS(rae::RAE, node::Embedding, δ_above::Vector{Float64})\n",
    "    0,0,0 # Nothing to learn here (at least until we start learning rae.L)\n",
    "end\n"
   ]
  },
  {
   "cell_type": "code",
   "execution_count": null,
   "metadata": {
    "collapsed": false
   },
   "outputs": [],
   "source": []
  },
  {
   "cell_type": "code",
   "execution_count": null,
   "metadata": {
    "collapsed": true
   },
   "outputs": [],
   "source": []
  },
  {
   "cell_type": "code",
   "execution_count": 14,
   "metadata": {
    "collapsed": false
   },
   "outputs": [
    {
     "name": "stdout",
     "output_type": "stream",
     "text": [
      "------------------------------------------------------\n",
      "rr.W_d\t\tArray{Float64,2}\t(100,50)\n",
      "ΔW_d\t\tArray{Float64,2}\t(100,50)\n",
      "rr.b_d\t\tArray{Float64,1}\t(100,)\n",
      "Δb_d\t\tArray{Float64,1}\t(100,)\n",
      "++++++++++++++++++++++++++++++++++++++++++++++++++++++\n",
      "rr.W_e\t\tArray{Float64,2}\t(50,100)\n",
      "ΔW_e\t\tArray{Float64,2}\t(50,100)\n",
      "rr.b_e\t\tArray{Float64,1}\t(50,)\n",
      "Δb_e\t\tArray{Float64,1}\t(50,)\n"
     ]
    }
   ],
   "source": [
    "function test()\n",
    "    rr = RAE(LL,word_indexes,indexed_words);\n",
    "    a=fold(rr,(\"the\",(\"bad\",(\"killer\", \"cows\"))))\n",
    "    b=unfold(rr,a);\n",
    "\n",
    "    δd,ΔW_d, Δb_d = UBPTS(rr, b)\n",
    "    println(\"-\"^54)\n",
    "    @pz rr.W_d\n",
    "    @pz ΔW_d\n",
    "    @pz rr.b_d\n",
    "    @pz Δb_d\n",
    "\n",
    "    ΔW_e,Δb_e = UBPTS(rr, a, δd)\n",
    "    println(\"+\"^54)\n",
    "    @pz rr.W_e\n",
    "    @pz ΔW_e\n",
    "    @pz rr.b_e\n",
    "    @pz Δb_e\n",
    "\n",
    "end\n",
    "test()\n"
   ]
  },
  {
   "cell_type": "code",
   "execution_count": 15,
   "metadata": {
    "collapsed": false
   },
   "outputs": [
    {
     "data": {
      "text/plain": [
       "eval_word_embeddings (generic function with 3 methods)"
      ]
     },
     "execution_count": 15,
     "metadata": {},
     "output_type": "execute_result"
    }
   ],
   "source": [
    "function RecursiveAutoencoders.eval_word_embeddings(rae::RAE, tree::(Any,Any))\n",
    "    function eval_child(child::String)\n",
    "        eval_word_embedding(rae,child,false)\n",
    "    end\n",
    "    function eval_child(child::Any)\n",
    "        eval_word_embeddings(rae,child)\n",
    "    end\n",
    "    c_i = eval_child(tree[1])\n",
    "    c_j = eval_child(tree[2])\n",
    "    [c_i c_j]\n",
    "end"
   ]
  },
  {
   "cell_type": "code",
   "execution_count": 16,
   "metadata": {
    "collapsed": false
   },
   "outputs": [
    {
     "data": {
      "text/plain": [
       "loss_and_loss_grad (generic function with 1 method)"
      ]
     },
     "execution_count": 16,
     "metadata": {},
     "output_type": "execute_result"
    }
   ],
   "source": [
    "function loss(unfold_leaves::Vector{UnfoldLeaf})\n",
    "    map(unfold_leaves) do leaf\n",
    "        0.5*(leaf.c-leaf.ĉ).^2 |> sum\n",
    "        end |> sum \n",
    "end\n",
    "\n",
    "function loss(rae::RAE, tree::(Any,Any))\n",
    "    fold_tree = fold(rae, tree)\n",
    "    unfold_leaves = unfold(rae, fold_tree)\n",
    "    loss(unfold_leaves)\n",
    "end\n",
    "\n",
    "\n",
    "function loss_and_loss_grad(rae::RAE, tree::(Any,Any))\n",
    "    fold_tree = fold(rae, tree)\n",
    "    unfold_leaves = unfold(rae, fold_tree)\n",
    "    err=loss(unfold_leaves)\n",
    "\n",
    "    δd,∇W_d, ∇b_d = UBPTS(rae, unfold_leaves)\n",
    "    ∇W_e,∇b_e = UBPTS(rae, fold_tree, δd)\n",
    "\n",
    "    Δs = (∇W_e, ∇b_e, ∇W_d, ∇b_d)\n",
    "    (Δs, err)\n",
    "end"
   ]
  },
  {
   "cell_type": "code",
   "execution_count": 17,
   "metadata": {
    "collapsed": true
   },
   "outputs": [],
   "source": [
    "@everywhere function unpack!(rae::RAE, θ::Vector)\n",
    "    W_e_len = length(rae.W_e)\n",
    "    b_e_len = length(rae.b_e)\n",
    "    W_d_len = length(rae.W_d)\n",
    "    b_d_len = length(rae.b_d)\n",
    "    W_e_shape = size(rae.W_e)\n",
    "    W_d_shape = size(rae.W_d)\n",
    "    \n",
    "    rae.W_e = reshape(θ[1: W_e_len],W_e_shape)\n",
    "    rae.b_e = θ[W_e_len+1: W_e_len+b_e_len]\n",
    "    rae.W_d = reshape(θ[W_e_len+b_e_len+1: W_e_len+b_e_len+W_d_len],W_d_shape)\n",
    "    rae.b_d = θ[W_e_len+b_e_len+W_d_len+1: end]\n",
    "    \n",
    "    rae\n",
    "end\n",
    "\n",
    "@everywhere function pack(rae::RAE)\n",
    "    pack(rae.W_e,rae.b_e, rae.W_d,rae.b_d)\n",
    "end\n",
    "\n",
    "@everywhere function pack(∇W_e::Matrix{Float64}, ∇b_e::Vector{Float64}, ∇W_d::Matrix{Float64}, ∇b_d::Vector{Float64})\n",
    "    [∇W_e[:], ∇b_e, ∇W_d[:], ∇b_d] \n",
    "end\n"
   ]
  },
  {
   "cell_type": "code",
   "execution_count": 19,
   "metadata": {
    "collapsed": false
   },
   "outputs": [
    {
     "data": {
      "text/plain": [
       "numeric_grad (generic function with 2 methods)"
      ]
     },
     "execution_count": 19,
     "metadata": {},
     "output_type": "execute_result"
    }
   ],
   "source": [
    "function analytic_grad(rae::RAE, tree::(Any,Any))\n",
    "    (Δs, err)=loss_and_loss_grad(rae, tree)\n",
    "    tuple(Δs...)\n",
    "end\n",
    " \n",
    "function numeric_grad(rae::RAE, tree::(Any,Any), ϵ=10.0^-4)\n",
    "    rae_inner = deepcopy(rae)\n",
    "    θ = pack(rae_inner)\n",
    "    Δθ = zeros(size(θ))\n",
    "    for ii in 1:length(θ)\n",
    "        ϵᵢ = zeros(size(θ))\n",
    "        ϵᵢ[ii]=ϵ\n",
    "        θⁱ⁺ = θ + ϵᵢ\n",
    "        θⁱ⁻ = θ - ϵᵢ\n",
    "        \n",
    "        unpack!(rae_inner,θⁱ⁺)\n",
    "        Jⁱ⁺ = loss(rae_inner, tree)\n",
    "        \n",
    "        unpack!(rae_inner,θⁱ⁻)\n",
    "        Jⁱ⁻=loss(rae_inner, tree)\n",
    "        Δθ[ii] = (Jⁱ⁺-Jⁱ⁻)/(2.0*ϵ)\n",
    "    end\n",
    "    unpack!(rae_inner,Δθ)\n",
    "    \n",
    "    (rae_inner.W_e, rae_inner.b_e, rae_inner.W_d, rae_inner.b_d)\n",
    "    \n",
    "    \n",
    "end"
   ]
  },
  {
   "cell_type": "code",
   "execution_count": 18,
   "metadata": {
    "collapsed": false,
    "scrolled": true
   },
   "outputs": [
    {
     "ename": "LoadError",
     "evalue": "numeric_grad not defined\nwhile loading In[18], in expression starting on line 3",
     "output_type": "error",
     "traceback": [
      "numeric_grad not defined\nwhile loading In[18], in expression starting on line 3",
      ""
     ]
    }
   ],
   "source": [
    "eg_tree = (\"the\",(\"dangerous\",(\"killer\", \"cows\")))\n",
    "rae_outer = RAE(LL,word_indexes,indexed_words);\n",
    "#nW_e, nb_e, nW_d, nb_d = numeric_grad(rae_outer, eg_tree, 10.0^-7);\n",
    "aW_e, ab_e, aW_d, ab_d = analytic_grad(rae_outer, eg_tree);\n",
    "\n"
   ]
  },
  {
   "cell_type": "code",
   "execution_count": null,
   "metadata": {
    "collapsed": true
   },
   "outputs": [],
   "source": [
    "\n",
    "\n",
    "ngs = nW_e[:]\n",
    "ags = aW_e[:]\n",
    "\n",
    "@printval mean(abs(ngs-ags))\n",
    "@printval maximum(abs(ngs-ags))\n",
    "@printval norm(ngs-ags)\n",
    "println(\"-\"^54)\n",
    "\n",
    "for (ng,ag) in zip(ngs, ags)\n",
    "    println(ng,\"\\t\", ag, \"\\t\", abs(ng-ag))\n",
    "end\n",
    "\n"
   ]
  },
  {
   "cell_type": "code",
   "execution_count": null,
   "metadata": {
    "collapsed": false
   },
   "outputs": [],
   "source": []
  },
  {
   "cell_type": "code",
   "execution_count": 22,
   "metadata": {
    "collapsed": false
   },
   "outputs": [
    {
     "data": {
      "text/plain": [
       "DifferentiableFunction(loss!,loss_grad!,loss_and_loss_grad!)"
      ]
     },
     "execution_count": 22,
     "metadata": {},
     "output_type": "execute_result"
    }
   ],
   "source": [
    "using Optim #https://github.com/JuliaOpt/Optim.jl\n",
    "\n",
    "\n",
    "function loss!(θ::Vector)  \n",
    "    error(\"loss! not defined\")\n",
    "end\n",
    "\n",
    "function loss_grad!(θ::Vector, storage::Vector) \n",
    "    error(\"loss_grad not defined\")\n",
    "end\n",
    "\n",
    "rae_outer = RAE(LL,word_indexes,indexed_words);\n",
    "\n",
    "function loss_and_loss_grad!(θ::Vector, grad::Vector)   \n",
    "    grad[:] = 0\n",
    "    unpack!(rae_outer, θ)\n",
    "    \n",
    "    \n",
    "    function loss_and_loss_grad_single(tree::(Any,Any))\n",
    "        Δs, err = loss_and_loss_grad(rae_outer, tree)\n",
    "        [pack(Δs...), err]\n",
    "    end\n",
    "    \n",
    "    ret = map(loss_and_loss_grad_single, training_trees)|> sum \n",
    "    grad[:] = ret[1:end-1]\n",
    "    err=ret[end]\n",
    "    \n",
    "    grad[:]/=length(training_trees)\n",
    "    err/=length(training_trees)\n",
    "    err\n",
    "end\n",
    "f=DifferentiableFunction(loss!,loss_grad!,loss_and_loss_grad!)"
   ]
  },
  {
   "cell_type": "code",
   "execution_count": null,
   "metadata": {
    "collapsed": false
   },
   "outputs": [
    {
     "name": "stdout",
     "output_type": "stream",
     "text": [
      "Iter     Function value   Gradient norm \n",
      " "
     ]
    }
   ],
   "source": [
    "res = optimize(f, pack(rae_outer), method=:l_bfgs, show_trace = true, store_trace = true, iterations = 2);"
   ]
  },
  {
   "cell_type": "code",
   "execution_count": null,
   "metadata": {
    "collapsed": false
   },
   "outputs": [],
   "source": [
    "\n",
    "@printval res.f_calls \n",
    "@printval res.g_calls \n",
    "@printval res.x_converged \n",
    "@printval res.iterations\n",
    "@printval res.f_minimum\n",
    "@printval res.gr_converged\n",
    "@printval res.trace\n"
   ]
  },
  {
   "cell_type": "code",
   "execution_count": null,
   "metadata": {
    "collapsed": false
   },
   "outputs": [],
   "source": [
    "function cosine_dist(a,b)\n",
    "    (a⋅b)/(norm(a)*norm(b))\n",
    "end\n",
    "\n",
    "function neighbour_dists(cc::Vector{Float64}, globe::Matrix{Float64})\n",
    "    [cosine_dist(cc, globe[:,ii]) for ii in 1:size(globe,2)]\n",
    "end\n",
    "\n",
    "\n",
    "function show_best(rae::RAE,ĉ::Embedding, nbest=20)\n",
    "    candidates=neighbour_dists(ĉ,rae.L)   \n",
    "    best_cands = [ (findfirst(candidates,score), score)\n",
    "                    for score in select(candidates,1:nbest, rev=true)[1:nbest]]\n",
    "    vcat([[rae.indexed_words[ii] round(score,2)] for (ii,score) in best_cands]...)\n",
    "end\n",
    "\n",
    "function show_bests(rae::RAE,ĉs::Embeddings, nbest=20)\n",
    "    hcat([show_best(rae,ĉs[:,ii],nbest) for ii in 1:size(ĉs,2)]...)\n",
    "end\n"
   ]
  },
  {
   "cell_type": "code",
   "execution_count": null,
   "metadata": {
    "collapsed": false
   },
   "outputs": [],
   "source": [
    "bs = show_bests(rae, ĉ_ij)\n",
    "bs[1,:][1:2:end]"
   ]
  },
  {
   "cell_type": "code",
   "execution_count": null,
   "metadata": {
    "collapsed": false
   },
   "outputs": [],
   "source": [
    "ĉ_ij"
   ]
  },
  {
   "cell_type": "code",
   "execution_count": null,
   "metadata": {
    "collapsed": true
   },
   "outputs": [],
   "source": []
  }
 ],
 "metadata": {
  "kernelspec": {
   "display_name": "Julia 0.4.0-dev",
   "language": "julia",
   "name": "julia-0.4"
  },
  "language_info": {
   "name": "julia",
   "version": "0.3.9"
  }
 },
 "nbformat": 4,
 "nbformat_minor": 0
}
