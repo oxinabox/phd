{
 "cells": [
  {
   "cell_type": "code",
   "execution_count": 1,
   "metadata": {
    "collapsed": false
   },
   "outputs": [],
   "source": [
    "using DataStructures\n",
    "using Iterators\n",
    "using Pipe\n",
    "function pz(x :: AbstractArray)\n",
    "    println(typeof(x), \": \", size(x))\n",
    "end\n",
    "macro printval(ee)\n",
    "    ee_expr = @sprintf \"%s\" string(ee)\n",
    "    esc(:(println($ee_expr,\" = \", $ee)))\n",
    "end"
   ]
  },
  {
   "cell_type": "code",
   "execution_count": 2,
   "metadata": {
    "collapsed": false
   },
   "outputs": [],
   "source": [
    "using RecursiveAutoencoders"
   ]
  },
  {
   "cell_type": "code",
   "execution_count": 3,
   "metadata": {
    "collapsed": false
   },
   "outputs": [
    {
     "name": "stdout",
     "output_type": "stream",
     "text": [
      "(50,14)\n",
      "Dict{String,Int64}\n",
      "Array{String,1}\n"
     ]
    }
   ],
   "source": [
    "include(\"load_embeddings.jl\")\n",
    "LL,word_indexes, indexed_words =  load_embeddings(\"embeddings-test.txt\")\n",
    "#(\"embeddings-scaled.EMBEDDING_SIZE=50.txt\");\n",
    "size(LL) |> println\n",
    "word_indexes |> typeof |> println\n",
    "indexed_words |> typeof |> println"
   ]
  },
  {
   "cell_type": "code",
   "execution_count": 4,
   "metadata": {
    "collapsed": false,
    "scrolled": true
   },
   "outputs": [],
   "source": [
    "training_trees = open(\"training_sents.jsz\",\"r\") do fs\n",
    "    deserialize(fs)\n",
    "end;"
   ]
  },
  {
   "cell_type": "code",
   "execution_count": 5,
   "metadata": {
    "collapsed": false
   },
   "outputs": [],
   "source": [
    "abstract Side\n",
    "abstract Left<:Side\n",
    "abstract Right<:Side\n",
    "abstract NoSide<:Side\n",
    "\n",
    "immutable FoldData\n",
    "    p::Embedding\n",
    "    left::Union(FoldData,Embedding)\n",
    "    right::Union(FoldData,Embedding)\n",
    "end\n",
    "\n",
    "immutable UnfoldData{T<:Side}\n",
    "    p::Embedding\n",
    "    parent::Union(FoldData,UnfoldData)\n",
    "    ĉ_i::Embedding\n",
    "    ĉ_j::Embedding\n",
    "end\n",
    "\n",
    "immutable UnfoldLeaf{T<:Side}\n",
    "    ĉ::Embedding\n",
    "    parent::UnfoldData\n",
    "    c::Embedding\n",
    "end"
   ]
  },
  {
   "cell_type": "code",
   "execution_count": 9,
   "metadata": {
    "collapsed": false
   },
   "outputs": [
    {
     "data": {
      "text/plain": [
       "fold (generic function with 1 method)"
      ]
     },
     "execution_count": 9,
     "metadata": {},
     "output_type": "execute_result"
    }
   ],
   "source": [
    "function fold(rae::RAE, tree::(Any,Any))\n",
    "    function eval_child(child::String)\n",
    "        c=eval_word_embedding(rae,child,false)\n",
    "        c\n",
    "    end\n",
    "    function eval_child(c::Embedding)\n",
    "        c\n",
    "    end\n",
    "    function eval_child(child::Any)\n",
    "        fold(rae,child)\n",
    "    end\n",
    "    \n",
    "    function emb(data::FoldData)\n",
    "        data.p\n",
    "    end\n",
    "    function emb(data::Embedding)\n",
    "        data\n",
    "    end\n",
    "    \n",
    "    left = eval_child(tree[1])\n",
    "    right = eval_child(tree[2])\n",
    "    p=eval_merge(rae, emb(left), emb(right))\n",
    "    FoldData(p, left, right)   \n",
    "end"
   ]
  },
  {
   "cell_type": "code",
   "execution_count": 11,
   "metadata": {
    "collapsed": false
   },
   "outputs": [
    {
     "data": {
      "text/plain": [
       "unfold (generic function with 3 methods)"
      ]
     },
     "execution_count": 11,
     "metadata": {},
     "output_type": "execute_result"
    }
   ],
   "source": [
    "function unfold{T}(rae::RAE, c::Embedding, ĉ::Embedding, parent, ::Type{T})\n",
    "    UnfoldLeaf{T}(ĉ, parent, c)\n",
    "end\n",
    "\n",
    "\n",
    "function unfold{T}(rae::RAE, act::FoldData, p::Embedding, parent, ::Type{T})\n",
    "    #Side is a ignored argument. This could be replaced with a generated function\n",
    "    ĉ_i, ĉ_j = reconstruct(rae,p)\n",
    "    data = UnfoldData{T}(p, parent, ĉ_i, ĉ_j)\n",
    "    \n",
    "    left = unfold(rae, act.left, ĉ_i, data, Left)\n",
    "    right= unfold(rae, act.right, ĉ_j, data, Right)\n",
    "    [left; right]\n",
    "end\n",
    "\n",
    "function unfold(rae::RAE, act::FoldData)\n",
    "    #Handle the top case\n",
    "    unfold(rae, act,act.p,act, NoSide)\n",
    "end"
   ]
  },
  {
   "cell_type": "code",
   "execution_count": 12,
   "metadata": {
    "collapsed": false
   },
   "outputs": [],
   "source": [
    "# tests\n",
    "rae = RAE(LL,word_indexes,indexed_words);\n",
    "\n",
    "a=fold(rae,(\"killer\", \"cows\"))\n",
    "b=unfold(rae,a);\n",
    "@assert b[1].parent==b[2].parent\n",
    "\n",
    "\n",
    "a=fold(rae,(\"the\",(\"killer\", \"cows\")))\n",
    "b=unfold(rae,a);\n",
    "@assert b[1].parent==b[2].parent.parent==b[3].parent.parent"
   ]
  },
  {
   "cell_type": "code",
   "execution_count": 13,
   "metadata": {
    "collapsed": false
   },
   "outputs": [
    {
     "data": {
      "text/plain": [
       "δ (generic function with 2 methods)"
      ]
     },
     "execution_count": 13,
     "metadata": {},
     "output_type": "execute_result"
    }
   ],
   "source": [
    "function δ(a::Embedding, δ_above::Vector{Float64}, W::Matrix{Float64})\n",
    "    #a is the ouput of this layer: a=tanh(z) where z is the input from layer below\n",
    "    #W is matrix to move to above layer, from this one\n",
    "    dz = 1-a.^2 #Derivitive of a=tanh(z)\n",
    "    (W'*δ_above).*dz\n",
    "end\n",
    "\n",
    "function δ(ĉ_ij::Embedding,c_ij::Embedding) \n",
    "    #Output Layer\n",
    "    M = length(c_ij)# ==length(ĉ_ij)\n",
    "    δ_above = ĉ_ij-c_ij\n",
    "    δ(ĉ_ij,δ_above, eye(M))     \n",
    "end\n"
   ]
  },
  {
   "cell_type": "code",
   "execution_count": 14,
   "metadata": {
    "collapsed": false
   },
   "outputs": [
    {
     "data": {
      "text/plain": [
       "UBPTS (generic function with 2 methods)"
      ]
     },
     "execution_count": 14,
     "metadata": {},
     "output_type": "execute_result"
    }
   ],
   "source": [
    "function sidepad(d::Vector{Float64}, ::Left)\n",
    "    padding=zeros(size(d))\n",
    "    [padding;d]\n",
    "end\n",
    "function sidepad(d::Vector{Float64}, ::Right)\n",
    "    padding=zeros(size(d))\n",
    "    [d, padding]\n",
    "end\n",
    "\n",
    "function UBPTS{T}(rae::RAE, leaf::UnfoldLeaf{T})\n",
    "    δ_half = δ(leaf.ĉ,leaf.c)\n",
    "    sidepad(δ_half,T)\n",
    "end\n",
    "\n",
    "function UBPTS(rae::RAE, node::UnfoldData, δ_above::Vector{Float64})\n",
    "    δ([node.ĉ_i;node.ĉ_6], δ_above, rae.W_d)\n",
    "end\n"
   ]
  },
  {
   "cell_type": "code",
   "execution_count": 15,
   "metadata": {
    "collapsed": false
   },
   "outputs": [
    {
     "data": {
      "text/plain": [
       "UBPTS (generic function with 5 methods)"
      ]
     },
     "execution_count": 15,
     "metadata": {},
     "output_type": "execute_result"
    }
   ],
   "source": [
    "function UBPTS(rae::RAE, nodes::Vector)#nodes::Vector{UnfoldLeaf} )\n",
    "    delta_len = 2*nodes[1].ĉ |> length\n",
    "    parent_deltas = DefaultDict(UnfoldData, Vector{Float64},zeros(delta_len))\n",
    "    for node in nodes\n",
    "        parent_deltas[node.parent]+=UBPTS(rae,node)\n",
    "    end\n",
    "    UBPTS(rae,parent_deltas)\n",
    "end\n",
    "\n",
    "function UBPTS(rae::RAE, nodes::DefaultDict{UnfoldData,Vector{Float64}})\n",
    "    delta_len = 2*first(nodes)[1].ĉ_i |> length\n",
    "    parent_deltas = DefaultDict(Union(UnfoldData,FoldData), Vector{Float64},zeros(delta_len))\n",
    "    for (node, δ_above) in nodes\n",
    "        parent_deltas[node.parent]+= UBPTS(rae, node, δ_above)\n",
    "    end\n",
    "    UBPTS(rae,parent_deltas)\n",
    "end\n",
    "\n",
    "function UBPTS(rae::RAE, nodes::DefaultDict{FoldData,Vector{Float64}})\n",
    "    @assert(length(x)==1)\n",
    "    _,δ=first(x)\n",
    "    δ\n",
    "end\n",
    "\n"
   ]
  },
  {
   "cell_type": "code",
   "execution_count": 16,
   "metadata": {
    "collapsed": false
   },
   "outputs": [
    {
     "data": {
      "text/html": [
       "5 methods for generic function <b>UBPTS</b>:<ul><li> UBPTS<i>{T}</i>(rae::<b>RAE</b>,leaf::<b>UnfoldLeaf{T}</b>) at In[14]:11<li> UBPTS(rae::<b>RAE</b>,node::<b>UnfoldData{T<:Side}</b>,δ_above::<b>Array{Float64,1}</b>) at In[14]:16<li> UBPTS(rae::<b>RAE</b>,nodes::<b>Array{T,1}</b>) at In[15]:2<li> UBPTS(rae::<b>RAE</b>,nodes::<b>DefaultDict{UnfoldData{T<:Side},Array{Float64,1},F}</b>) at In[15]:11<li> UBPTS(rae::<b>RAE</b>,nodes::<b>DefaultDict{FoldData,Array{Float64,1},F}</b>) at In[15]:20</ul>"
      ],
      "text/plain": [
       "# 5 methods for generic function \"UBPTS\":\n",
       "UBPTS{T}(rae::RAE,leaf::UnfoldLeaf{T}) at In[14]:11\n",
       "UBPTS(rae::RAE,node::UnfoldData{T<:Side},δ_above::Array{Float64,1}) at In[14]:16\n",
       "UBPTS(rae::RAE,nodes::Array{T,1}) at In[15]:2\n",
       "UBPTS(rae::RAE,nodes::DefaultDict{UnfoldData{T<:Side},Array{Float64,1},F}) at In[15]:11\n",
       "UBPTS(rae::RAE,nodes::DefaultDict{FoldData,Array{Float64,1},F}) at In[15]:20"
      ]
     },
     "execution_count": 16,
     "metadata": {},
     "output_type": "execute_result"
    }
   ],
   "source": [
    "methods(UBPTS)"
   ]
  },
  {
   "cell_type": "code",
   "execution_count": 17,
   "metadata": {
    "collapsed": false
   },
   "outputs": [
    {
     "ename": "LoadError",
     "evalue": "`sidepad` has no method matching sidepad(::Array{Float64,1}, ::Type{Left})\nwhile loading In[17], in expression starting on line 1",
     "output_type": "error",
     "traceback": [
      "`sidepad` has no method matching sidepad(::Array{Float64,1}, ::Type{Left})\nwhile loading In[17], in expression starting on line 1",
      "",
      " in UBPTS at In[14]:12",
      " in UBPTS at In[15]:5"
     ]
    }
   ],
   "source": [
    "UBPTS(rae, b)"
   ]
  },
  {
   "cell_type": "code",
   "execution_count": null,
   "metadata": {
    "collapsed": true
   },
   "outputs": [],
   "source": []
  },
  {
   "cell_type": "code",
   "execution_count": null,
   "metadata": {
    "collapsed": false
   },
   "outputs": [],
   "source": [
    "function RecursiveAutoencoders.eval_word_embeddings(rae::RAE, tree::(Any,Any))\n",
    "    function eval_child(child::String)\n",
    "        eval_word_embedding(rae,child,false)\n",
    "    end\n",
    "    function eval_child(child::Any)\n",
    "        eval_word_embeddings(rae,child)\n",
    "    end\n",
    "    c_i = eval_child(tree[1])\n",
    "    c_j = eval_child(tree[2])\n",
    "    [c_i c_j]\n",
    "end"
   ]
  },
  {
   "cell_type": "code",
   "execution_count": null,
   "metadata": {
    "collapsed": false
   },
   "outputs": [],
   "source": [
    "tree= (\"killer\", \"cows\")\n",
    "c = eval_word_embeddings(rae, tree)\n",
    "c= [c[:,1], c[:,2]]\n",
    "p = fold(rae,tree)\n",
    "ĉ = unfold(rae,tree,p)\n",
    "ĉ= [ĉ[:,1], ĉ[:,2]]\n",
    "grad_top(rae, ĉ, c, tree)"
   ]
  },
  {
   "cell_type": "code",
   "execution_count": null,
   "metadata": {
    "collapsed": false
   },
   "outputs": [],
   "source": [
    "x = Any[2,3]"
   ]
  },
  {
   "cell_type": "code",
   "execution_count": null,
   "metadata": {
    "collapsed": false
   },
   "outputs": [],
   "source": [
    "x"
   ]
  },
  {
   "cell_type": "code",
   "execution_count": null,
   "metadata": {
    "collapsed": true
   },
   "outputs": [],
   "source": []
  },
  {
   "cell_type": "code",
   "execution_count": null,
   "metadata": {
    "collapsed": false
   },
   "outputs": [],
   "source": []
  },
  {
   "cell_type": "code",
   "execution_count": null,
   "metadata": {
    "collapsed": true
   },
   "outputs": [],
   "source": []
  },
  {
   "cell_type": "code",
   "execution_count": null,
   "metadata": {
    "collapsed": false
   },
   "outputs": [],
   "source": [
    "function cosine_dist(a,b)\n",
    "    (a⋅b)/(norm(a)*norm(b))\n",
    "end\n",
    "\n",
    "function neighbour_dists(cc::Vector{Float64}, globe::Matrix{Float64})\n",
    "    [cosine_dist(cc, globe[:,ii]) for ii in 1:size(globe,2)]\n",
    "end\n",
    "\n",
    "\n",
    "function show_best(rae::RAE,ĉ::Embedding, nbest=20)\n",
    "    candidates=neighbour_dists(ĉ,rae.L)   \n",
    "    best_cands = [ (findfirst(candidates,score), score)\n",
    "                    for score in select(candidates,1:nbest, rev=true)[1:nbest]]\n",
    "    vcat([[rae.indexed_words[ii] round(score,2)] for (ii,score) in best_cands]...)\n",
    "end\n",
    "\n",
    "function show_bests(rae::RAE,ĉs::Embeddings, nbest=20)\n",
    "    hcat([show_best(rae,ĉs[:,ii],nbest) for ii in 1:size(ĉs,2)]...)\n",
    "end\n"
   ]
  },
  {
   "cell_type": "code",
   "execution_count": null,
   "metadata": {
    "collapsed": false
   },
   "outputs": [],
   "source": [
    "bs = show_bests(rae, ĉ_ij)\n",
    "bs[1,:][1:2:end]"
   ]
  },
  {
   "cell_type": "code",
   "execution_count": null,
   "metadata": {
    "collapsed": false
   },
   "outputs": [],
   "source": [
    "ĉ_ij"
   ]
  },
  {
   "cell_type": "code",
   "execution_count": null,
   "metadata": {
    "collapsed": true
   },
   "outputs": [],
   "source": []
  }
 ],
 "metadata": {
  "kernelspec": {
   "display_name": "Julia 0.4.0-dev",
   "language": "julia",
   "name": "julia-0.4"
  },
  "language_info": {
   "name": "julia",
   "version": "0.3.9"
  }
 },
 "nbformat": 4,
 "nbformat_minor": 0
}
