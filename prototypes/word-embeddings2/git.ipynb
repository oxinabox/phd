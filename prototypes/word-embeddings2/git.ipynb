{
 "cells": [
  {
   "cell_type": "code",
   "execution_count": 1,
   "metadata": {
    "collapsed": false
   },
   "outputs": [
    {
     "name": "stdout",
     "output_type": "stream",
     "text": [
      "ACL2012_wordvectors.txt                   git.ipynb\r\n",
      "brown_tags.txt                            hypernym_distance.ipynb\r\n",
      "embeddings-scaled.EMBEDDING_SIZE=200.txt  ParseToEmbeedings.ipynb\r\n",
      "embeddings-scaled.EMBEDDING_SIZE=50.txt   Tokenize_to_embeddings.ipynb\r\n",
      "Factoristation.ipynb                      wordVectors.txt\r\n"
     ]
    }
   ],
   "source": [
    "ls"
   ]
  },
  {
   "cell_type": "code",
   "execution_count": 22,
   "metadata": {
    "collapsed": false
   },
   "outputs": [
    {
     "name": "stdout",
     "output_type": "stream",
     "text": []
    }
   ],
   "source": [
    "git add \"load_embeddings.jl\""
   ]
  },
  {
   "cell_type": "code",
   "execution_count": 27,
   "metadata": {
    "collapsed": false
   },
   "outputs": [
    {
     "name": "stdout",
     "output_type": "stream",
     "text": [
      "On branch master\r\n",
      "Your branch is up-to-date with 'origin/master'.\r\n",
      "\r\n",
      "Changes not staged for commit:\r\n",
      "  (use \"git add <file>...\" to update what will be committed)\r\n",
      "  (use \"git checkout -- <file>...\" to discard changes in working directory)\r\n",
      "\r\n",
      "\t\u001b[31mmodified:   Lets build a NN for practice.ipynb\u001b[m\r\n",
      "\t\u001b[31mmodified:   git.ipynb\u001b[m\r\n",
      "\r\n",
      "Untracked files:\r\n",
      "  (use \"git add <file>...\" to include in what will be committed)\r\n",
      "\r\n",
      "\t\u001b[31m.ipynb_checkpoints/\u001b[m\r\n",
      "\t\u001b[31mACL2012_wordvectors.txt\u001b[m\r\n",
      "\t\u001b[31mSentence splitting and POS.ipynb\u001b[m\r\n",
      "\t\u001b[31membeddings-scaled.EMBEDDING_SIZE=200.txt\u001b[m\r\n",
      "\t\u001b[31membeddings-scaled.EMBEDDING_SIZE=50.txt\u001b[m\r\n",
      "\t\u001b[31mwordVectors.txt\u001b[m\r\n",
      "\r\n",
      "no changes added to commit (use \"git add\" and/or \"git commit -a\")\r\n",
      "You have mail in /var/mail/oxinabox\r\n"
     ]
    }
   ],
   "source": [
    "git status"
   ]
  },
  {
   "cell_type": "code",
   "execution_count": 24,
   "metadata": {
    "collapsed": false
   },
   "outputs": [
    {
     "name": "stdout",
     "output_type": "stream",
     "text": [
      "remote: Counting objects: 40, done.\u001b[K\r\n",
      "remote: Compressing objects:   3% (1/26)   \u001b[K\r",
      "remote: Compressing objects:   7% (2/26)   \u001b[K\r",
      "remote: Compressing objects:  11% (3/26)   \u001b[K\r",
      "remote: Compressing objects:  15% (4/26)   \u001b[K\r",
      "remote: Compressing objects:  19% (5/26)   \u001b[K\r",
      "remote: Compressing objects:  23% (6/26)   \u001b[K\r",
      "remote: Compressing objects:  26% (7/26)   \u001b[K\r",
      "remote: Compressing objects:  30% (8/26)   \u001b[K\r",
      "remote: Compressing objects:  34% (9/26)   \u001b[K\r",
      "remote: Compressing objects:  38% (10/26)   \u001b[K\r",
      "remote: Compressing objects:  42% (11/26)   \u001b[K\r",
      "remote: Compressing objects:  46% (12/26)   \u001b[K\r",
      "remote: Compressing objects:  50% (13/26)   \u001b[K\r",
      "remote: Compressing objects:  53% (14/26)   \u001b[K\r",
      "remote: Compressing objects:  57% (15/26)   \u001b[K\r",
      "remote: Compressing objects:  61% (16/26)   \u001b[K\r",
      "remote: Compressing objects:  65% (17/26)   \u001b[K\r",
      "remote: Compressing objects:  69% (18/26)   \u001b[K\r",
      "remote: Compressing objects:  73% (19/26)   \u001b[K\r",
      "remote: Compressing objects:  76% (20/26)   \u001b[K\r",
      "remote: Compressing objects:  80% (21/26)   \u001b[K\r",
      "remote: Compressing objects:  84% (22/26)   \u001b[K\r",
      "remote: Compressing objects:  88% (23/26)   \u001b[K\r",
      "remote: Compressing objects:  92% (24/26)   \u001b[K\r",
      "remote: Compressing objects:  96% (25/26)   \u001b[K\r",
      "remote: Compressing objects: 100% (26/26)   \u001b[K\r",
      "remote: Compressing objects: 100% (26/26), done.\u001b[K\r\n",
      "Unpacking objects:   2% (1/40)   \r",
      "Unpacking objects:   5% (2/40)   \r",
      "Unpacking objects:   7% (3/40)   \r",
      "Unpacking objects:  10% (4/40)   \r",
      "Unpacking objects:  12% (5/40)   \r",
      "Unpacking objects:  15% (6/40)   \r",
      "Unpacking objects:  17% (7/40)   \r",
      "Unpacking objects:  20% (8/40)   \r",
      "Unpacking objects:  22% (9/40)   \r",
      "Unpacking objects:  25% (10/40)   \r",
      "Unpacking objects:  27% (11/40)   \r",
      "remote: Total 40 (delta 18), reused 30 (delta 8), pack-reused 0\u001b[K\r\n",
      "Unpacking objects:  30% (12/40)   \r",
      "Unpacking objects:  32% (13/40)   \r",
      "Unpacking objects:  35% (14/40)   \r",
      "Unpacking objects:  37% (15/40)   \r",
      "Unpacking objects:  40% (16/40)   \r",
      "Unpacking objects:  42% (17/40)   \r",
      "Unpacking objects:  45% (18/40)   \r",
      "Unpacking objects:  47% (19/40)   \r",
      "Unpacking objects:  50% (20/40)   \r",
      "Unpacking objects:  52% (21/40)   \r",
      "Unpacking objects:  55% (22/40)   \r",
      "Unpacking objects:  57% (23/40)   \r",
      "Unpacking objects:  60% (24/40)   \r",
      "Unpacking objects:  62% (25/40)   \r",
      "Unpacking objects:  65% (26/40)   \r",
      "Unpacking objects:  67% (27/40)   \r",
      "Unpacking objects:  70% (28/40)   \r",
      "Unpacking objects:  72% (29/40)   \r",
      "Unpacking objects:  75% (30/40)   \r",
      "Unpacking objects:  77% (31/40)   \r",
      "Unpacking objects:  80% (32/40)   \r",
      "Unpacking objects:  82% (33/40)   \r",
      "Unpacking objects:  85% (34/40)   \r",
      "Unpacking objects:  87% (35/40)   \r",
      "Unpacking objects:  90% (36/40)   \r",
      "Unpacking objects:  92% (37/40)   \r",
      "Unpacking objects:  95% (38/40)   \r",
      "Unpacking objects:  97% (39/40)   \r",
      "Unpacking objects: 100% (40/40)   \r",
      "Unpacking objects: 100% (40/40), done.\r\n",
      "From github.com:oxinabox/phd\r\n",
      "   b41e301..cea39e1  master     -> origin/master\r\n",
      "Updating b41e301..cea39e1\r\n",
      "Fast-forward\r\n",
      " Resources/annotated_documents/socher_thesis.pdf    | Bin \u001b[31m0\u001b[m -> \u001b[32m9478168\u001b[m bytes\r\n",
      " .../master_bibliography/annotated_bibliography.tex |  12 \u001b[32m+\u001b[m\r\n",
      " Resources/master_bibliography/jabref.xml           |  28 \u001b[32m+\u001b[m\u001b[31m-\u001b[m\r\n",
      " Resources/master_bibliography/master.bib           | 197 \u001b[32m++++++\u001b[m\u001b[31m-\u001b[m\r\n",
      " .../themes - Reversable Phrase Embedding.lyx       | 653 \u001b[32m++++++++++++++++++++\u001b[m\u001b[31m-\u001b[m\r\n",
      " 5 files changed, 864 insertions(+), 26 deletions(-)\r\n",
      " create mode 100644 Resources/annotated_documents/socher_thesis.pdf\r\n",
      " create mode 100644 Resources/master_bibliography/annotated_bibliography.tex\r\n"
     ]
    }
   ],
   "source": [
    "git pull"
   ]
  },
  {
   "cell_type": "code",
   "execution_count": 28,
   "metadata": {
    "collapsed": false
   },
   "outputs": [
    {
     "name": "stdout",
     "output_type": "stream",
     "text": [
      "[master 83848cf] =Made wotrking 2 layer nn for practice\r\n",
      " 2 files changed, 592 insertions(+), 123 deletions(-)\r\n"
     ]
    }
   ],
   "source": [
    "git commit -a -m=\"Made wotrking 2 layer nn for practice\""
   ]
  },
  {
   "cell_type": "code",
   "execution_count": 29,
   "metadata": {
    "collapsed": false
   },
   "outputs": [
    {
     "name": "stdout",
     "output_type": "stream",
     "text": [
      "Counting objects: 6, done.\r\n",
      "Delta compression using up to 16 threads.\r\n",
      "Compressing objects:  20% (1/5)   \r",
      "Compressing objects:  40% (2/5)   \r",
      "Compressing objects:  60% (3/5)   \r",
      "Compressing objects:  80% (4/5)   \r",
      "Compressing objects: 100% (5/5)   \r",
      "Compressing objects: 100% (5/5), done.\r\n",
      "Writing objects:  16% (1/6)   \r",
      "Writing objects:  33% (2/6)   \r",
      "Writing objects:  50% (3/6)   \r",
      "Writing objects:  66% (4/6)   \r",
      "Writing objects:  83% (5/6)   \r",
      "Writing objects: 100% (6/6)   \r",
      "Writing objects: 100% (6/6), 8.69 KiB | 0 bytes/s, done.\r\n",
      "Total 6 (delta 3), reused 0 (delta 0)\r\n",
      "To git@github.com:oxinabox/phd.git\r\n",
      "   f49c2f5..83848cf  master -> master\r\n"
     ]
    }
   ],
   "source": [
    "git push"
   ]
  },
  {
   "cell_type": "code",
   "execution_count": null,
   "metadata": {
    "collapsed": true
   },
   "outputs": [],
   "source": []
  }
 ],
 "metadata": {
  "kernelspec": {
   "display_name": "Bash",
   "language": "bash",
   "name": "bash"
  },
  "language_info": {
   "codemirror_mode": "shell",
   "file_extension": ".sh",
   "mimetype": "text/x-sh",
   "name": "bash"
  }
 },
 "nbformat": 4,
 "nbformat_minor": 0
}
