{
 "cells": [
  {
   "cell_type": "code",
   "execution_count": 1,
   "metadata": {
    "collapsed": false
   },
   "outputs": [
    {
     "name": "stdout",
     "output_type": "stream",
     "text": [
      "ACL2012_wordvectors.txt                   ParseToEmbeedings.ipynb\r\n",
      "brown_tags.txt                            Tokenize_to_embeddings.ipynb\r\n",
      "embeddings-scaled.EMBEDDING_SIZE=200.txt  Untitled.ipynb\r\n",
      "embeddings-scaled.EMBEDDING_SIZE=50.txt   word_embeddings.hdf5\r\n",
      "Factoristation.ipynb                      wordVectors.txt\r\n",
      "hypernym_distance.ipynb\r\n"
     ]
    }
   ],
   "source": [
    "ls"
   ]
  },
  {
   "cell_type": "code",
   "execution_count": 3,
   "metadata": {
    "collapsed": false
   },
   "outputs": [
    {
     "name": "stdout",
     "output_type": "stream",
     "text": []
    }
   ],
   "source": [
    "git add Factoristation.ipynb"
   ]
  },
  {
   "cell_type": "code",
   "execution_count": 4,
   "metadata": {
    "collapsed": false
   },
   "outputs": [
    {
     "name": "stdout",
     "output_type": "stream",
     "text": [
      "On branch master\r\n",
      "Your branch is up-to-date with 'origin/master'.\r\n",
      "\r\n",
      "Changes to be committed:\r\n",
      "  (use \"git reset HEAD <file>...\" to unstage)\r\n",
      "\r\n",
      "\t\u001b[32mnew file:   Factoristation.ipynb\u001b[m\r\n",
      "\r\n",
      "Untracked files:\r\n",
      "  (use \"git add <file>...\" to include in what will be committed)\r\n",
      "\r\n",
      "\t\u001b[31m.ipynb_checkpoints/\u001b[m\r\n",
      "\t\u001b[31mACL2012_wordvectors.txt\u001b[m\r\n",
      "\t\u001b[31mUntitled.ipynb\u001b[m\r\n",
      "\t\u001b[31membeddings-scaled.EMBEDDING_SIZE=200.txt\u001b[m\r\n",
      "\t\u001b[31membeddings-scaled.EMBEDDING_SIZE=50.txt\u001b[m\r\n",
      "\t\u001b[31mwordVectors.txt\u001b[m\r\n",
      "\r\n"
     ]
    }
   ],
   "source": [
    "git status"
   ]
  },
  {
   "cell_type": "code",
   "execution_count": 5,
   "metadata": {
    "collapsed": false
   },
   "outputs": [
    {
     "name": "stdout",
     "output_type": "stream",
     "text": [
      "remote: Counting objects: 83, done.\u001b[K\r\n",
      "remote: Compressing objects:   4% (1/24)   \u001b[K\r",
      "remote: Compressing objects:   8% (2/24)   \u001b[K\r",
      "remote: Compressing objects:  12% (3/24)   \u001b[K\r",
      "remote: Compressing objects:  16% (4/24)   \u001b[K\r",
      "remote: Compressing objects:  20% (5/24)   \u001b[K\r",
      "remote: Compressing objects:  25% (6/24)   \u001b[K\r",
      "remote: Compressing objects:  29% (7/24)   \u001b[K\r",
      "remote: Compressing objects:  33% (8/24)   \u001b[K\r",
      "remote: Compressing objects:  37% (9/24)   \u001b[K\r",
      "remote: Compressing objects:  41% (10/24)   \u001b[K\r",
      "remote: Compressing objects:  45% (11/24)   \u001b[K\r",
      "remote: Compressing objects:  50% (12/24)   \u001b[K\r",
      "remote: Compressing objects:  54% (13/24)   \u001b[K\r",
      "remote: Compressing objects:  58% (14/24)   \u001b[K\r",
      "remote: Compressing objects:  62% (15/24)   \u001b[K\r",
      "remote: Compressing objects:  66% (16/24)   \u001b[K\r",
      "remote: Compressing objects:  70% (17/24)   \u001b[K\r",
      "remote: Compressing objects:  75% (18/24)   \u001b[K\r",
      "remote: Compressing objects:  79% (19/24)   \u001b[K\r",
      "remote: Compressing objects:  83% (20/24)   \u001b[K\r",
      "remote: Compressing objects:  87% (21/24)   \u001b[K\r",
      "remote: Compressing objects:  91% (22/24)   \u001b[K\r",
      "remote: Compressing objects:  95% (23/24)   \u001b[K\r",
      "remote: Compressing objects: 100% (24/24)   \u001b[K\r",
      "remote: Compressing objects: 100% (24/24), done.\u001b[K\r\n",
      "Unpacking objects:   1% (1/83)   \r",
      "Unpacking objects:   2% (2/83)   \r",
      "Unpacking objects:   3% (3/83)   \r",
      "Unpacking objects:   4% (4/83)   \r",
      "Unpacking objects:   6% (5/83)   \r",
      "Unpacking objects:   7% (6/83)   \r",
      "Unpacking objects:   8% (7/83)   \r",
      "Unpacking objects:   9% (8/83)   \r",
      "Unpacking objects:  10% (9/83)   \r",
      "Unpacking objects:  12% (10/83)   \r",
      "Unpacking objects:  13% (11/83)   \r",
      "Unpacking objects:  14% (12/83)   \r",
      "Unpacking objects:  15% (13/83)   \r",
      "Unpacking objects:  16% (14/83)   \r",
      "Unpacking objects:  18% (15/83)   \r",
      "Unpacking objects:  19% (16/83)   \r",
      "Unpacking objects:  20% (17/83)   \r",
      "Unpacking objects:  21% (18/83)   \r",
      "Unpacking objects:  22% (19/83)   \r",
      "Unpacking objects:  24% (20/83)   \r",
      "Unpacking objects:  25% (21/83)   \r",
      "Unpacking objects:  26% (22/83)   \r",
      "Unpacking objects:  27% (23/83)   \r",
      "Unpacking objects:  28% (24/83)   \r",
      "Unpacking objects:  30% (25/83)   \r",
      "Unpacking objects:  31% (26/83)   \r",
      "Unpacking objects:  32% (27/83)   \r",
      "Unpacking objects:  33% (28/83)   \r",
      "Unpacking objects:  34% (29/83)   \r",
      "remote: Total 83 (delta 7), reused 0 (delta 0), pack-reused 54\u001b[K\r\n",
      "Unpacking objects:  36% (30/83)   \r",
      "Unpacking objects:  37% (31/83)   \r",
      "Unpacking objects:  38% (32/83)   \r",
      "Unpacking objects:  39% (33/83)   \r",
      "Unpacking objects:  40% (34/83)   \r",
      "Unpacking objects:  42% (35/83)   \r",
      "Unpacking objects:  43% (36/83)   \r",
      "Unpacking objects:  44% (37/83)   \r",
      "Unpacking objects:  45% (38/83)   \r",
      "Unpacking objects:  46% (39/83)   \r",
      "Unpacking objects:  48% (40/83)   \r",
      "Unpacking objects:  49% (41/83)   \r",
      "Unpacking objects:  50% (42/83)   \r",
      "Unpacking objects:  51% (43/83)   \r",
      "Unpacking objects:  53% (44/83)   \r",
      "Unpacking objects:  54% (45/83)   \r",
      "Unpacking objects:  55% (46/83)   \r",
      "Unpacking objects:  56% (47/83)   \r",
      "Unpacking objects:  57% (48/83)   \r",
      "Unpacking objects:  59% (49/83)   \r",
      "Unpacking objects:  60% (50/83)   \r",
      "Unpacking objects:  61% (51/83)   \r",
      "Unpacking objects:  62% (52/83)   \r",
      "Unpacking objects:  63% (53/83)   \r",
      "Unpacking objects:  65% (54/83)   \r",
      "Unpacking objects:  66% (55/83)   \r",
      "Unpacking objects:  67% (56/83)   \r",
      "Unpacking objects:  68% (57/83)   \r",
      "Unpacking objects:  69% (58/83)   \r",
      "Unpacking objects:  71% (59/83)   \r",
      "Unpacking objects:  72% (60/83)   \r",
      "Unpacking objects:  73% (61/83)   \r",
      "Unpacking objects:  74% (62/83)   \r",
      "Unpacking objects:  75% (63/83)   \r",
      "Unpacking objects:  77% (64/83)   \r",
      "Unpacking objects:  78% (65/83)   \r",
      "Unpacking objects:  79% (66/83)   \r",
      "Unpacking objects:  80% (67/83)   \r",
      "Unpacking objects:  81% (68/83)   \r",
      "Unpacking objects:  83% (69/83)   \r",
      "Unpacking objects:  84% (70/83)   \r",
      "Unpacking objects:  85% (71/83)   \r",
      "Unpacking objects:  86% (72/83)   \r",
      "Unpacking objects:  87% (73/83)   \r",
      "Unpacking objects:  89% (74/83)   \r",
      "Unpacking objects:  90% (75/83)   \r",
      "Unpacking objects:  91% (76/83)   \r",
      "Unpacking objects:  92% (77/83)   \r",
      "Unpacking objects:  93% (78/83)   \r",
      "Unpacking objects:  95% (79/83)   \r",
      "Unpacking objects:  96% (80/83)   \r",
      "Unpacking objects:  97% (81/83)   \r",
      "Unpacking objects:  98% (82/83)   \r",
      "Unpacking objects: 100% (83/83)   \r",
      "Unpacking objects: 100% (83/83), done.\r\n",
      "From github.com:oxinabox/phd\r\n",
      "   14485ca..3b90b5e  master     -> origin/master\r\n",
      "Updating 14485ca..3b90b5e\r\n",
      "Fast-forward\r\n",
      " .gitignore                                         |   6 \u001b[32m+\u001b[m\r\n",
      " Resources/master_bibliography/jabref.xml           | 287 \u001b[32m++++++++++\u001b[m\r\n",
      " Resources/master_bibliography/master.bib           | 605 \u001b[32m+++++++++++++++++++++\u001b[m\r\n",
      " documents_prepared/themes/figs/RvNN_single.pgf     |  14 \u001b[32m+\u001b[m\r\n",
      " documents_prepared/themes/figs/RvNN_single.png     | Bin \u001b[31m0\u001b[m -> \u001b[32m24803\u001b[m bytes\r\n",
      " documents_prepared/themes/figs/template.pgs        |   8 \u001b[32m+\u001b[m\r\n",
      " .../themes - Reversable Phrase Embedding.lyx       | 575 \u001b[32m++++++++++++++++++++\u001b[m\r\n",
      " documents_prepared/themes/themes.lyx               | 443 \u001b[32m+++++++++++++++\u001b[m\r\n",
      " 8 files changed, 1938 insertions(+)\r\n",
      " create mode 100644 Resources/master_bibliography/jabref.xml\r\n",
      " create mode 100644 Resources/master_bibliography/master.bib\r\n",
      " create mode 100644 documents_prepared/themes/figs/RvNN_single.pgf\r\n",
      " create mode 100644 documents_prepared/themes/figs/RvNN_single.png\r\n",
      " create mode 100644 documents_prepared/themes/figs/template.pgs\r\n",
      " create mode 100644 documents_prepared/themes/themes - Reversable Phrase Embedding.lyx\r\n",
      " create mode 100644 documents_prepared/themes/themes.lyx\r\n"
     ]
    }
   ],
   "source": [
    "git pull"
   ]
  },
  {
   "cell_type": "code",
   "execution_count": 6,
   "metadata": {
    "collapsed": false
   },
   "outputs": [
    {
     "name": "stdout",
     "output_type": "stream",
     "text": [
      "[master 80fb321] =Made a proof of concept showing that matrixes can be factorised\r\n",
      " 1 file changed, 337 insertions(+)\r\n",
      " create mode 100644 prototypes/word-embeddings2/Factoristation.ipynb\r\n"
     ]
    }
   ],
   "source": [
    "git commit -m=\"Made a proof of concept showing that matrixes can be factorised\""
   ]
  },
  {
   "cell_type": "code",
   "execution_count": 7,
   "metadata": {
    "collapsed": false
   },
   "outputs": [
    {
     "name": "stdout",
     "output_type": "stream",
     "text": [
      "Counting objects: 5, done.\r\n",
      "Delta compression using up to 16 threads.\r\n",
      "Compressing objects:  25% (1/4)   \r",
      "Compressing objects:  50% (2/4)   \r",
      "Compressing objects:  75% (3/4)   \r",
      "Compressing objects: 100% (4/4)   \r",
      "Compressing objects: 100% (4/4), done.\r\n",
      "Writing objects:  20% (1/5)   \r",
      "Writing objects:  40% (2/5)   \r",
      "Writing objects:  60% (3/5)   \r",
      "Writing objects:  80% (4/5)   \r",
      "Writing objects: 100% (5/5)   \r",
      "Writing objects: 100% (5/5), 2.73 KiB | 0 bytes/s, done.\r\n",
      "Total 5 (delta 2), reused 0 (delta 0)\r\n",
      "To git@github.com:oxinabox/phd.git\r\n",
      "   3b90b5e..80fb321  master -> master\r\n"
     ]
    }
   ],
   "source": [
    "git push"
   ]
  },
  {
   "cell_type": "code",
   "execution_count": null,
   "metadata": {
    "collapsed": true
   },
   "outputs": [],
   "source": [
    "vim"
   ]
  },
  {
   "cell_type": "code",
   "execution_count": null,
   "metadata": {
    "collapsed": true
   },
   "outputs": [],
   "source": []
  }
 ],
 "metadata": {
  "kernelspec": {
   "display_name": "Bash",
   "language": "bash",
   "name": "bash"
  },
  "language_info": {
   "codemirror_mode": "shell",
   "file_extension": ".sh",
   "mimetype": "text/x-sh",
   "name": "bash"
  }
 },
 "nbformat": 4,
 "nbformat_minor": 0
}
