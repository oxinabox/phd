{
 "cells": [
  {
   "cell_type": "code",
   "execution_count": 1,
   "metadata": {
    "collapsed": false
   },
   "outputs": [
    {
     "name": "stdout",
     "output_type": "stream",
     "text": [
      "ACL2012_wordvectors.txt                   git.ipynb\r\n",
      "brown_tags.txt                            hypernym_distance.ipynb\r\n",
      "embeddings-scaled.EMBEDDING_SIZE=200.txt  ParseToEmbeedings.ipynb\r\n",
      "embeddings-scaled.EMBEDDING_SIZE=50.txt   Tokenize_to_embeddings.ipynb\r\n",
      "Factoristation.ipynb                      wordVectors.txt\r\n"
     ]
    }
   ],
   "source": [
    "ls"
   ]
  },
  {
   "cell_type": "code",
   "execution_count": 22,
   "metadata": {
    "collapsed": false
   },
   "outputs": [
    {
     "name": "stdout",
     "output_type": "stream",
     "text": []
    }
   ],
   "source": [
    "git add \"load_embeddings.jl\""
   ]
  },
  {
   "cell_type": "code",
   "execution_count": 23,
   "metadata": {
    "collapsed": false
   },
   "outputs": [
    {
     "name": "stdout",
     "output_type": "stream",
     "text": [
      "On branch master\r\n",
      "Your branch is up-to-date with 'origin/master'.\r\n",
      "\r\n",
      "Changes to be committed:\r\n",
      "  (use \"git reset HEAD <file>...\" to unstage)\r\n",
      "\r\n",
      "\t\u001b[32mnew file:   Lets build a NN for practice.ipynb\u001b[m\r\n",
      "\t\u001b[32mnew file:   Macro experiments.ipynb\u001b[m\r\n",
      "\t\u001b[32mnew file:   load_embeddings.jl\u001b[m\r\n",
      "\r\n",
      "Changes not staged for commit:\r\n",
      "  (use \"git add <file>...\" to update what will be committed)\r\n",
      "  (use \"git checkout -- <file>...\" to discard changes in working directory)\r\n",
      "\r\n",
      "\t\u001b[31mmodified:   Factoristation.ipynb\u001b[m\r\n",
      "\t\u001b[31mmodified:   Tokenize_to_embeddings.ipynb\u001b[m\r\n",
      "\t\u001b[31mmodified:   git.ipynb\u001b[m\r\n",
      "\r\n",
      "Untracked files:\r\n",
      "  (use \"git add <file>...\" to include in what will be committed)\r\n",
      "\r\n",
      "\t\u001b[31m.ipynb_checkpoints/\u001b[m\r\n",
      "\t\u001b[31mACL2012_wordvectors.txt\u001b[m\r\n",
      "\t\u001b[31mSentence splitting and POS.ipynb\u001b[m\r\n",
      "\t\u001b[31membeddings-scaled.EMBEDDING_SIZE=200.txt\u001b[m\r\n",
      "\t\u001b[31membeddings-scaled.EMBEDDING_SIZE=50.txt\u001b[m\r\n",
      "\t\u001b[31mwordVectors.txt\u001b[m\r\n",
      "\r\n"
     ]
    }
   ],
   "source": [
    "git status"
   ]
  },
  {
   "cell_type": "code",
   "execution_count": 24,
   "metadata": {
    "collapsed": false
   },
   "outputs": [
    {
     "name": "stdout",
     "output_type": "stream",
     "text": [
      "remote: Counting objects: 40, done.\u001b[K\r\n",
      "remote: Compressing objects:   3% (1/26)   \u001b[K\r",
      "remote: Compressing objects:   7% (2/26)   \u001b[K\r",
      "remote: Compressing objects:  11% (3/26)   \u001b[K\r",
      "remote: Compressing objects:  15% (4/26)   \u001b[K\r",
      "remote: Compressing objects:  19% (5/26)   \u001b[K\r",
      "remote: Compressing objects:  23% (6/26)   \u001b[K\r",
      "remote: Compressing objects:  26% (7/26)   \u001b[K\r",
      "remote: Compressing objects:  30% (8/26)   \u001b[K\r",
      "remote: Compressing objects:  34% (9/26)   \u001b[K\r",
      "remote: Compressing objects:  38% (10/26)   \u001b[K\r",
      "remote: Compressing objects:  42% (11/26)   \u001b[K\r",
      "remote: Compressing objects:  46% (12/26)   \u001b[K\r",
      "remote: Compressing objects:  50% (13/26)   \u001b[K\r",
      "remote: Compressing objects:  53% (14/26)   \u001b[K\r",
      "remote: Compressing objects:  57% (15/26)   \u001b[K\r",
      "remote: Compressing objects:  61% (16/26)   \u001b[K\r",
      "remote: Compressing objects:  65% (17/26)   \u001b[K\r",
      "remote: Compressing objects:  69% (18/26)   \u001b[K\r",
      "remote: Compressing objects:  73% (19/26)   \u001b[K\r",
      "remote: Compressing objects:  76% (20/26)   \u001b[K\r",
      "remote: Compressing objects:  80% (21/26)   \u001b[K\r",
      "remote: Compressing objects:  84% (22/26)   \u001b[K\r",
      "remote: Compressing objects:  88% (23/26)   \u001b[K\r",
      "remote: Compressing objects:  92% (24/26)   \u001b[K\r",
      "remote: Compressing objects:  96% (25/26)   \u001b[K\r",
      "remote: Compressing objects: 100% (26/26)   \u001b[K\r",
      "remote: Compressing objects: 100% (26/26), done.\u001b[K\r\n",
      "Unpacking objects:   2% (1/40)   \r",
      "Unpacking objects:   5% (2/40)   \r",
      "Unpacking objects:   7% (3/40)   \r",
      "Unpacking objects:  10% (4/40)   \r",
      "Unpacking objects:  12% (5/40)   \r",
      "Unpacking objects:  15% (6/40)   \r",
      "Unpacking objects:  17% (7/40)   \r",
      "Unpacking objects:  20% (8/40)   \r",
      "Unpacking objects:  22% (9/40)   \r",
      "Unpacking objects:  25% (10/40)   \r",
      "Unpacking objects:  27% (11/40)   \r",
      "remote: Total 40 (delta 18), reused 30 (delta 8), pack-reused 0\u001b[K\r\n",
      "Unpacking objects:  30% (12/40)   \r",
      "Unpacking objects:  32% (13/40)   \r",
      "Unpacking objects:  35% (14/40)   \r",
      "Unpacking objects:  37% (15/40)   \r",
      "Unpacking objects:  40% (16/40)   \r",
      "Unpacking objects:  42% (17/40)   \r",
      "Unpacking objects:  45% (18/40)   \r",
      "Unpacking objects:  47% (19/40)   \r",
      "Unpacking objects:  50% (20/40)   \r",
      "Unpacking objects:  52% (21/40)   \r",
      "Unpacking objects:  55% (22/40)   \r",
      "Unpacking objects:  57% (23/40)   \r",
      "Unpacking objects:  60% (24/40)   \r",
      "Unpacking objects:  62% (25/40)   \r",
      "Unpacking objects:  65% (26/40)   \r",
      "Unpacking objects:  67% (27/40)   \r",
      "Unpacking objects:  70% (28/40)   \r",
      "Unpacking objects:  72% (29/40)   \r",
      "Unpacking objects:  75% (30/40)   \r",
      "Unpacking objects:  77% (31/40)   \r",
      "Unpacking objects:  80% (32/40)   \r",
      "Unpacking objects:  82% (33/40)   \r",
      "Unpacking objects:  85% (34/40)   \r",
      "Unpacking objects:  87% (35/40)   \r",
      "Unpacking objects:  90% (36/40)   \r",
      "Unpacking objects:  92% (37/40)   \r",
      "Unpacking objects:  95% (38/40)   \r",
      "Unpacking objects:  97% (39/40)   \r",
      "Unpacking objects: 100% (40/40)   \r",
      "Unpacking objects: 100% (40/40), done.\r\n",
      "From github.com:oxinabox/phd\r\n",
      "   b41e301..cea39e1  master     -> origin/master\r\n",
      "Updating b41e301..cea39e1\r\n",
      "Fast-forward\r\n",
      " Resources/annotated_documents/socher_thesis.pdf    | Bin \u001b[31m0\u001b[m -> \u001b[32m9478168\u001b[m bytes\r\n",
      " .../master_bibliography/annotated_bibliography.tex |  12 \u001b[32m+\u001b[m\r\n",
      " Resources/master_bibliography/jabref.xml           |  28 \u001b[32m+\u001b[m\u001b[31m-\u001b[m\r\n",
      " Resources/master_bibliography/master.bib           | 197 \u001b[32m++++++\u001b[m\u001b[31m-\u001b[m\r\n",
      " .../themes - Reversable Phrase Embedding.lyx       | 653 \u001b[32m++++++++++++++++++++\u001b[m\u001b[31m-\u001b[m\r\n",
      " 5 files changed, 864 insertions(+), 26 deletions(-)\r\n",
      " create mode 100644 Resources/annotated_documents/socher_thesis.pdf\r\n",
      " create mode 100644 Resources/master_bibliography/annotated_bibliography.tex\r\n"
     ]
    }
   ],
   "source": [
    "git pull"
   ]
  },
  {
   "cell_type": "code",
   "execution_count": 25,
   "metadata": {
    "collapsed": false
   },
   "outputs": [
    {
     "name": "stdout",
     "output_type": "stream",
     "text": [
      "[master f49c2f5] =Made a proof of concept showing that matrixes can be factorised\r\n",
      " 6 files changed, 1350 insertions(+), 580 deletions(-)\r\n",
      " create mode 100644 prototypes/word-embeddings2/Lets build a NN for practice.ipynb\r\n",
      " create mode 100644 prototypes/word-embeddings2/Macro experiments.ipynb\r\n",
      " rewrite prototypes/word-embeddings2/git.ipynb (71%)\r\n",
      " create mode 100644 prototypes/word-embeddings2/load_embeddings.jl\r\n"
     ]
    }
   ],
   "source": [
    "git commit -a -m="
   ]
  },
  {
   "cell_type": "code",
   "execution_count": 26,
   "metadata": {
    "collapsed": false
   },
   "outputs": [
    {
     "name": "stdout",
     "output_type": "stream",
     "text": [
      "Counting objects: 10, done.\r\n",
      "Delta compression using up to 16 threads.\r\n",
      "Compressing objects:  11% (1/9)   \r",
      "Compressing objects:  22% (2/9)   \r",
      "Compressing objects:  33% (3/9)   \r",
      "Compressing objects:  44% (4/9)   \r",
      "Compressing objects:  55% (5/9)   \r",
      "Compressing objects:  66% (6/9)   \r",
      "Compressing objects:  77% (7/9)   \r",
      "Compressing objects:  88% (8/9)   \r",
      "Compressing objects: 100% (9/9)   \r",
      "Compressing objects: 100% (9/9), done.\r\n",
      "Writing objects:  10% (1/10)   \r",
      "Writing objects:  20% (2/10)   \r",
      "Writing objects:  30% (3/10)   \r",
      "Writing objects:  40% (4/10)   \r",
      "Writing objects:  50% (5/10)   \r",
      "Writing objects:  60% (6/10)   \r",
      "Writing objects:  70% (7/10)   \r",
      "Writing objects:  80% (8/10)   \r",
      "Writing objects:  90% (9/10)   \r",
      "Writing objects: 100% (10/10)   \r",
      "Writing objects: 100% (10/10), 10.07 KiB | 0 bytes/s, done.\r\n",
      "Total 10 (delta 4), reused 0 (delta 0)\r\n",
      "To git@github.com:oxinabox/phd.git\r\n",
      "   cea39e1..f49c2f5  master -> master\r\n"
     ]
    }
   ],
   "source": [
    "git push"
   ]
  },
  {
   "cell_type": "code",
   "execution_count": null,
   "metadata": {
    "collapsed": true
   },
   "outputs": [],
   "source": []
  }
 ],
 "metadata": {
  "kernelspec": {
   "display_name": "Bash",
   "language": "bash",
   "name": "bash"
  },
  "language_info": {
   "codemirror_mode": "shell",
   "file_extension": ".sh",
   "mimetype": "text/x-sh",
   "name": "bash"
  }
 },
 "nbformat": 4,
 "nbformat_minor": 0
}
