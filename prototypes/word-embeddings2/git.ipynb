{
 "cells": [
  {
   "cell_type": "code",
   "execution_count": 1,
   "metadata": {
    "collapsed": false
   },
   "outputs": [
    {
     "name": "stdout",
     "output_type": "stream",
     "text": [
      "ACL2012_wordvectors.txt                   NLTK_py.ipynb\r\n",
      "brown_tags.txt                            nltk_tree_corp_load.py\r\n",
      "ClusterSoup.jl                            nltk_tree_corp_load.pyc\r\n",
      "embeddings-scaled.EMBEDDING_SIZE=200.txt  Parallel_testing.ipynb\r\n",
      "embeddings-scaled.EMBEDDING_SIZE=50.txt   RAE.ipynb\r\n",
      "embeddings-scaled.EMBEDDING_SIZE=50.txt~  RecursiveAutoencoders.jl\r\n",
      "embeddings-test.txt                       StandardRAE.jl\r\n",
      "Factoristation.ipynb                      training_sents.jld\r\n",
      "git.ipynb                                 training_sents.jsz\r\n",
      "Lets build a NN for practice.ipynb        UnfoldingRAE.jl\r\n",
      "Linear RAE.ipynb                          URAE.ipynb\r\n",
      "load_embeddings.jl                        URAE_tests.ipynb\r\n",
      "NLTK.ipynb                                wordVectors.txt\r\n"
     ]
    }
   ],
   "source": [
    "ls"
   ]
  },
  {
   "cell_type": "code",
   "execution_count": 46,
   "metadata": {
    "collapsed": false
   },
   "outputs": [
    {
     "name": "stdout",
     "output_type": "stream",
     "text": []
    }
   ],
   "source": [
    "git add \"../Filters/Autoregressive.ipynb\""
   ]
  },
  {
   "cell_type": "code",
   "execution_count": 45,
   "metadata": {
    "collapsed": false
   },
   "outputs": [
    {
     "name": "stdout",
     "output_type": "stream",
     "text": [
      "On branch master\r\n",
      "Your branch is up-to-date with 'origin/master'.\r\n",
      "Changes not staged for commit:\r\n",
      "  (use \"git add <file>...\" to update what will be committed)\r\n",
      "  (use \"git checkout -- <file>...\" to discard changes in working directory)\r\n",
      "\r\n",
      "\t\u001b[31mmodified:   ../Filters/Autoregressive.ipynb\u001b[m\r\n",
      "\t\u001b[31mmodified:   git.ipynb\u001b[m\r\n",
      "\r\n",
      "Untracked files:\r\n",
      "  (use \"git add <file>...\" to include in what will be committed)\r\n",
      "\r\n",
      "\t\u001b[31m../.ipynb_checkpoints/\u001b[m\r\n",
      "\t\u001b[31m../Filters/.ipynb_checkpoints/\u001b[m\r\n",
      "\t\u001b[31m../HDF5 mess.ipynb\u001b[m\r\n",
      "\t\u001b[31m../Optimisation/.ipynb_checkpoints/\u001b[m\r\n",
      "\t\u001b[31m../PyCall/\u001b[m\r\n",
      "\t\u001b[31m../SymPy working space.ipynb\u001b[m\r\n",
      "\t\u001b[31m../cluster.ipynb\u001b[m\r\n",
      "\t\u001b[31m../data.jld\u001b[m\r\n",
      "\t\u001b[31m../multidispact_test.ipynb\u001b[m\r\n",
      "\t\u001b[31m.ipynb_checkpoints/\u001b[m\r\n",
      "\t\u001b[31mACL2012_wordvectors.txt\u001b[m\r\n",
      "\t\u001b[31mACL2012_wordvectors.txt~\u001b[m\r\n",
      "\t\u001b[31membeddings-scaled.EMBEDDING_SIZE=200.txt\u001b[m\r\n",
      "\t\u001b[31membeddings-scaled.EMBEDDING_SIZE=50.txt\u001b[m\r\n",
      "\t\u001b[31membeddings-scaled.EMBEDDING_SIZE=50.txt~\u001b[m\r\n",
      "\t\u001b[31membeddings-test.txt\u001b[m\r\n",
      "\t\u001b[31mhlbl-embeddings-scaled.EMBEDDING_SIZE=100.txt\u001b[m\r\n",
      "\t\u001b[31mnltk_tree_corp_load.pyc\u001b[m\r\n",
      "\t\u001b[31mtraining_sents.jld\u001b[m\r\n",
      "\t\u001b[31mtraining_sents.jsz\u001b[m\r\n",
      "\t\u001b[31mwordVectors.txt\u001b[m\r\n",
      "\r\n",
      "no changes added to commit (use \"git add\" and/or \"git commit -a\")\r\n",
      "You have mail in /var/mail/oxinabox\r\n"
     ]
    }
   ],
   "source": [
    "git status .."
   ]
  },
  {
   "cell_type": "code",
   "execution_count": null,
   "metadata": {
    "collapsed": true
   },
   "outputs": [],
   "source": []
  },
  {
   "cell_type": "code",
   "execution_count": 47,
   "metadata": {
    "collapsed": false
   },
   "outputs": [
    {
     "name": "stdout",
     "output_type": "stream",
     "text": [
      "[master 06e213c] =\r\n",
      " 2 files changed, 102 insertions(+), 232 deletions(-)\r\n"
     ]
    }
   ],
   "source": [
    "git commit -a -m=\"\""
   ]
  },
  {
   "cell_type": "code",
   "execution_count": null,
   "metadata": {
    "collapsed": false
   },
   "outputs": [],
   "source": []
  },
  {
   "cell_type": "code",
   "execution_count": null,
   "metadata": {
    "collapsed": false
   },
   "outputs": [],
   "source": [
    "git pull"
   ]
  },
  {
   "cell_type": "code",
   "execution_count": null,
   "metadata": {
    "collapsed": false
   },
   "outputs": [],
   "source": [
    "git push"
   ]
  },
  {
   "cell_type": "code",
   "execution_count": 8,
   "metadata": {
    "collapsed": false
   },
   "outputs": [
    {
     "name": "stdout",
     "output_type": "stream",
     "text": [
      "Permission denied (publickey).\r",
      "\r\n"
     ]
    }
   ],
   "source": [
    "ssh -T git@github.com"
   ]
  },
  {
   "cell_type": "code",
   "execution_count": null,
   "metadata": {
    "collapsed": true
   },
   "outputs": [],
   "source": []
  }
 ],
 "metadata": {
  "kernelspec": {
   "display_name": "Bash",
   "language": "bash",
   "name": "bash"
  },
  "language_info": {
   "codemirror_mode": "shell",
   "file_extension": ".sh",
   "mimetype": "text/x-sh",
   "name": "bash"
  }
 },
 "nbformat": 4,
 "nbformat_minor": 0
}
