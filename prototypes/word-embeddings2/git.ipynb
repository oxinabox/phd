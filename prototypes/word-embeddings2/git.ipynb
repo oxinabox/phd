{
 "cells": [
  {
   "cell_type": "code",
   "execution_count": 1,
   "metadata": {
    "collapsed": false
   },
   "outputs": [
    {
     "name": "stdout",
     "output_type": "stream",
     "text": [
      "ACL2012_wordvectors.txt                   Lets build a NN for practice.ipynb\r\n",
      "brown_tags.txt                            Linear RAE.ipynb\r\n",
      "ClusterSoup.jl                            load_embeddings.jl\r\n",
      "embeddings-scaled.EMBEDDING_SIZE=200.txt  Parallel_testing.ipynb\r\n",
      "embeddings-scaled.EMBEDDING_SIZE=50.txt   RAE.ipynb\r\n",
      "Factoristation.ipynb                      RecursiveAutoencoders.jl\r\n",
      "git.ipynb                                 wordVectors.txt\r\n"
     ]
    }
   ],
   "source": [
    "ls"
   ]
  },
  {
   "cell_type": "code",
   "execution_count": 13,
   "metadata": {
    "collapsed": false
   },
   "outputs": [
    {
     "name": "stdout",
     "output_type": "stream",
     "text": []
    }
   ],
   "source": [
    "git add \"RecursiveAutoencoders.jl\" \"RAE.ipynb\" \"nltk_tree_corp_load.py\" \"NLTK.ipynb\" \"NLTK_py.ipynb\" \"URAE.ipynb\""
   ]
  },
  {
   "cell_type": "code",
   "execution_count": 1,
   "metadata": {
    "collapsed": false
   },
   "outputs": [
    {
     "name": "stdout",
     "output_type": "stream",
     "text": [
      "On branch master\r\n",
      "Your branch is up-to-date with 'origin/master'.\r\n",
      "Changes not staged for commit:\r\n",
      "  (use \"git add <file>...\" to update what will be committed)\r\n",
      "  (use \"git checkout -- <file>...\" to discard changes in working directory)\r\n",
      "\r\n",
      "\t\u001b[31mmodified:   RecursiveAutoencoders.jl\u001b[m\r\n",
      "\t\u001b[31mmodified:   URAE.ipynb\u001b[m\r\n",
      "\r\n",
      "Untracked files:\r\n",
      "  (use \"git add <file>...\" to include in what will be committed)\r\n",
      "\r\n",
      "\t\u001b[31m../.ipynb_checkpoints/\u001b[m\r\n",
      "\t\u001b[31m../HDF5 mess.ipynb\u001b[m\r\n",
      "\t\u001b[31m../PyCall/\u001b[m\r\n",
      "\t\u001b[31m../SymPy working space.ipynb\u001b[m\r\n",
      "\t\u001b[31m../Untitled.ipynb\u001b[m\r\n",
      "\t\u001b[31m../data.jld\u001b[m\r\n",
      "\t\u001b[31m../multidispact_test.ipynb\u001b[m\r\n",
      "\t\u001b[31m.ipynb_checkpoints/\u001b[m\r\n",
      "\t\u001b[31mACL2012_wordvectors.txt\u001b[m\r\n",
      "\t\u001b[31membeddings-scaled.EMBEDDING_SIZE=200.txt\u001b[m\r\n",
      "\t\u001b[31membeddings-scaled.EMBEDDING_SIZE=50.txt\u001b[m\r\n",
      "\t\u001b[31membeddings-scaled.EMBEDDING_SIZE=50.txt~\u001b[m\r\n",
      "\t\u001b[31membeddings-test.txt\u001b[m\r\n",
      "\t\u001b[31mnltk_tree_corp_load.pyc\u001b[m\r\n",
      "\t\u001b[31mtraining_sents.jld\u001b[m\r\n",
      "\t\u001b[31mtraining_sents.jsz\u001b[m\r\n",
      "\t\u001b[31mwordVectors.txt\u001b[m\r\n",
      "\r\n",
      "no changes added to commit (use \"git add\" and/or \"git commit -a\")\r\n"
     ]
    }
   ],
   "source": [
    "git status"
   ]
  },
  {
   "cell_type": "code",
   "execution_count": null,
   "metadata": {
    "collapsed": false
   },
   "outputs": [],
   "source": []
  },
  {
   "cell_type": "code",
   "execution_count": 2,
   "metadata": {
    "collapsed": false
   },
   "outputs": [
    {
     "name": "stdout",
     "output_type": "stream",
     "text": [
      "[master fe3c1fb] =moved back to Julia 0.39\r\n",
      " 2 files changed, 40 insertions(+), 86 deletions(-)\r\n"
     ]
    }
   ],
   "source": [
    "git commit -a -m=\"moved back to Julia 0.39\""
   ]
  },
  {
   "cell_type": "code",
   "execution_count": 3,
   "metadata": {
    "collapsed": false
   },
   "outputs": [
    {
     "name": "stdout",
     "output_type": "stream",
     "text": [
      "X11 forwarding request failed on channel 0\r",
      "\r\n",
      "Already up-to-date.\r\n"
     ]
    }
   ],
   "source": [
    "git pull"
   ]
  },
  {
   "cell_type": "code",
   "execution_count": 4,
   "metadata": {
    "collapsed": false
   },
   "outputs": [
    {
     "name": "stdout",
     "output_type": "stream",
     "text": [
      "X11 forwarding request failed on channel 0\r",
      "\r\n",
      "Counting objects: 6, done.\r\n",
      "Delta compression using up to 16 threads.\r\n",
      "Compressing objects:  16% (1/6)   \r",
      "Compressing objects:  33% (2/6)   \r",
      "Compressing objects:  50% (3/6)   \r",
      "Compressing objects:  66% (4/6)   \r",
      "Compressing objects:  83% (5/6)   \r",
      "Compressing objects: 100% (6/6)   \r",
      "Compressing objects: 100% (6/6), done.\r\n",
      "Writing objects:  16% (1/6)   \r",
      "Writing objects:  33% (2/6)   \r",
      "Writing objects:  50% (3/6)   \r",
      "Writing objects:  66% (4/6)   \r",
      "Writing objects:  83% (5/6)   \r",
      "Writing objects: 100% (6/6)   \r",
      "Writing objects: 100% (6/6), 1.07 KiB | 0 bytes/s, done.\r\n",
      "Total 6 (delta 4), reused 0 (delta 0)\r\n",
      "To git@github.com:oxinabox/phd.git\r\n",
      "   29ab656..fe3c1fb  master -> master\r\n"
     ]
    }
   ],
   "source": [
    "git push"
   ]
  },
  {
   "cell_type": "code",
   "execution_count": 8,
   "metadata": {
    "collapsed": false
   },
   "outputs": [
    {
     "name": "stdout",
     "output_type": "stream",
     "text": [
      "Permission denied (publickey).\r",
      "\r\n"
     ]
    }
   ],
   "source": [
    "ssh -T git@github.com"
   ]
  },
  {
   "cell_type": "code",
   "execution_count": 15,
   "metadata": {
    "collapsed": false
   },
   "outputs": [
    {
     "name": "stdout",
     "output_type": "stream",
     "text": [
      "\r\n"
     ]
    }
   ],
   "source": [
    "sudo lsb_release\n"
   ]
  },
  {
   "cell_type": "code",
   "execution_count": null,
   "metadata": {
    "collapsed": true
   },
   "outputs": [],
   "source": []
  }
 ],
 "metadata": {
  "kernelspec": {
   "display_name": "Bash",
   "language": "bash",
   "name": "bash"
  },
  "language_info": {
   "codemirror_mode": "shell",
   "file_extension": ".sh",
   "mimetype": "text/x-sh",
   "name": "bash"
  }
 },
 "nbformat": 4,
 "nbformat_minor": 0
}
