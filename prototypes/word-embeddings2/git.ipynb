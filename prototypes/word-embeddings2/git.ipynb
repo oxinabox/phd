{
 "cells": [
  {
   "cell_type": "code",
   "execution_count": 1,
   "metadata": {
    "collapsed": false
   },
   "outputs": [
    {
     "name": "stdout",
     "output_type": "stream",
     "text": [
      "ACL2012_wordvectors.txt                   NLTK.ipynb\r\n",
      "brown_tags.txt                            NLTK_py.ipynb\r\n",
      "ClusterSoup.jl                            nltk_tree_corp_load.py\r\n",
      "embeddings-scaled.EMBEDDING_SIZE=200.txt  nltk_tree_corp_load.pyc\r\n",
      "embeddings-scaled.EMBEDDING_SIZE=50.txt   Parallel_testing.ipynb\r\n",
      "embeddings-scaled.EMBEDDING_SIZE=50.txt~  RAE.ipynb\r\n",
      "embeddings-test.txt                       RecursiveAutoencoders.jl\r\n",
      "Factoristation.ipynb                      StandardRAE.jl\r\n",
      "git.ipynb                                 training_sents.jld\r\n",
      "Lets build a NN for practice.ipynb        training_sents.jsz\r\n",
      "Linear RAE.ipynb                          URAE.ipynb\r\n",
      "load_embeddings.jl                        wordVectors.txt\r\n"
     ]
    }
   ],
   "source": [
    "ls"
   ]
  },
  {
   "cell_type": "code",
   "execution_count": 6,
   "metadata": {
    "collapsed": false
   },
   "outputs": [
    {
     "name": "stdout",
     "output_type": "stream",
     "text": [
      "On branch master\r\n",
      "Your branch and 'origin/master' have diverged,\r\n",
      "and have 1 and 2 different commits each, respectively.\r\n",
      "  (use \"git pull\" to merge the remote branch into yours)\r\n",
      "All conflicts fixed but you are still merging.\r\n",
      "  (use \"git commit\" to conclude merge)\r\n",
      "\r\n",
      "Changes to be committed:\r\n",
      "\r\n",
      "\t\u001b[32mmodified:   ../../Resources/master_bibliography/jabref.xml\u001b[m\r\n",
      "\t\u001b[32mmodified:   ../../Resources/master_bibliography/master.bib\u001b[m\r\n",
      "\t\u001b[32mmodified:   URAE.ipynb\u001b[m\r\n",
      "\r\n",
      "Changes not staged for commit:\r\n",
      "  (use \"git add <file>...\" to update what will be committed)\r\n",
      "  (use \"git checkout -- <file>...\" to discard changes in working directory)\r\n",
      "\r\n",
      "\t\u001b[31mmodified:   git.ipynb\u001b[m\r\n",
      "\r\n",
      "Untracked files:\r\n",
      "  (use \"git add <file>...\" to include in what will be committed)\r\n",
      "\r\n",
      "\t\u001b[31m../.ipynb_checkpoints/\u001b[m\r\n",
      "\t\u001b[31m../HDF5 mess.ipynb\u001b[m\r\n",
      "\t\u001b[31m../PyCall/\u001b[m\r\n",
      "\t\u001b[31m../SymPy working space.ipynb\u001b[m\r\n",
      "\t\u001b[31m../Untitled.ipynb\u001b[m\r\n",
      "\t\u001b[31m../data.jld\u001b[m\r\n",
      "\t\u001b[31m../multidispact_test.ipynb\u001b[m\r\n",
      "\t\u001b[31m.ipynb_checkpoints/\u001b[m\r\n",
      "\t\u001b[31mACL2012_wordvectors.txt\u001b[m\r\n",
      "\t\u001b[31membeddings-scaled.EMBEDDING_SIZE=200.txt\u001b[m\r\n",
      "\t\u001b[31membeddings-scaled.EMBEDDING_SIZE=50.txt\u001b[m\r\n",
      "\t\u001b[31membeddings-scaled.EMBEDDING_SIZE=50.txt~\u001b[m\r\n",
      "\t\u001b[31membeddings-test.txt\u001b[m\r\n",
      "\t\u001b[31mnltk_tree_corp_load.pyc\u001b[m\r\n",
      "\t\u001b[31mtraining_sents.jld\u001b[m\r\n",
      "\t\u001b[31mtraining_sents.jsz\u001b[m\r\n",
      "\t\u001b[31mwordVectors.txt\u001b[m\r\n",
      "\r\n"
     ]
    }
   ],
   "source": [
    "git status"
   ]
  },
  {
   "cell_type": "code",
   "execution_count": 4,
   "metadata": {
    "collapsed": false
   },
   "outputs": [
    {
     "name": "stdout",
     "output_type": "stream",
     "text": []
    }
   ],
   "source": [
    "git add \"URAE.ipynb\" \"RecursiveAutoencoders.jl\""
   ]
  },
  {
   "cell_type": "code",
   "execution_count": null,
   "metadata": {
    "collapsed": true
   },
   "outputs": [],
   "source": []
  },
  {
   "cell_type": "code",
   "execution_count": 5,
   "metadata": {
    "collapsed": false
   },
   "outputs": [
    {
     "name": "stdout",
     "output_type": "stream",
     "text": [
      "fatal: cannot do a partial commit during a merge.\r\n"
     ]
    }
   ],
   "source": [
    "git commit  -m = \"some kinda merge\""
   ]
  },
  {
   "cell_type": "code",
   "execution_count": null,
   "metadata": {
    "collapsed": false
   },
   "outputs": [],
   "source": []
  },
  {
   "cell_type": "code",
   "execution_count": 3,
   "metadata": {
    "collapsed": false
   },
   "outputs": [
    {
     "name": "stdout",
     "output_type": "stream",
     "text": [
      "[master b54acd5] =Checked implemention of top half wit h gradchecks\r\n",
      " 3 files changed, 5338 insertions(+), 157 deletions(-)\r\n"
     ]
    }
   ],
   "source": [
    "git commit -a -m=\"URAE is now working, Confirmed\""
   ]
  },
  {
   "cell_type": "code",
   "execution_count": null,
   "metadata": {
    "collapsed": false
   },
   "outputs": [],
   "source": [
    "git pull"
   ]
  },
  {
   "cell_type": "code",
   "execution_count": null,
   "metadata": {
    "collapsed": false
   },
   "outputs": [],
   "source": [
    "git push"
   ]
  },
  {
   "cell_type": "code",
   "execution_count": 8,
   "metadata": {
    "collapsed": false
   },
   "outputs": [
    {
     "name": "stdout",
     "output_type": "stream",
     "text": [
      "Permission denied (publickey).\r",
      "\r\n"
     ]
    }
   ],
   "source": [
    "ssh -T git@github.com"
   ]
  },
  {
   "cell_type": "code",
   "execution_count": null,
   "metadata": {
    "collapsed": true
   },
   "outputs": [],
   "source": []
  }
 ],
 "metadata": {
  "kernelspec": {
   "display_name": "Bash",
   "language": "bash",
   "name": "bash"
  },
  "language_info": {
   "codemirror_mode": "shell",
   "file_extension": ".sh",
   "mimetype": "text/x-sh",
   "name": "bash"
  }
 },
 "nbformat": 4,
 "nbformat_minor": 0
}
