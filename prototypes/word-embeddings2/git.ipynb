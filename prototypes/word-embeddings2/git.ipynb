{
 "cells": [
  {
   "cell_type": "code",
   "execution_count": 1,
   "metadata": {
    "collapsed": false
   },
   "outputs": [
    {
     "name": "stdout",
     "output_type": "stream",
     "text": [
      "ACL2012_wordvectors.txt                   Lets build a NN for practice.ipynb\r\n",
      "brown_tags.txt                            Linear RAE.ipynb\r\n",
      "ClusterSoup.jl                            load_embeddings.jl\r\n",
      "embeddings-scaled.EMBEDDING_SIZE=200.txt  Parallel_testing.ipynb\r\n",
      "embeddings-scaled.EMBEDDING_SIZE=50.txt   RAE.ipynb\r\n",
      "Factoristation.ipynb                      RecursiveAutoencoders.jl\r\n",
      "git.ipynb                                 wordVectors.txt\r\n"
     ]
    }
   ],
   "source": [
    "ls"
   ]
  },
  {
   "cell_type": "code",
   "execution_count": 13,
   "metadata": {
    "collapsed": false
   },
   "outputs": [
    {
     "name": "stdout",
     "output_type": "stream",
     "text": []
    }
   ],
   "source": [
    "git add \"RecursiveAutoencoders.jl\" \"RAE.ipynb\" \"nltk_tree_corp_load.py\" \"NLTK.ipynb\" \"NLTK_py.ipynb\" \"URAE.ipynb\""
   ]
  },
  {
   "cell_type": "code",
   "execution_count": 1,
   "metadata": {
    "collapsed": false
   },
   "outputs": [
    {
     "name": "stdout",
     "output_type": "stream",
     "text": [
      "On branch master\r\n",
      "Your branch is up-to-date with 'origin/master'.\r\n",
      "Changes not staged for commit:\r\n",
      "  (use \"git add <file>...\" to update what will be committed)\r\n",
      "  (use \"git checkout -- <file>...\" to discard changes in working directory)\r\n",
      "\r\n",
      "\t\u001b[31mmodified:   NLTK.ipynb\u001b[m\r\n",
      "\t\u001b[31mmodified:   RAE.ipynb\u001b[m\r\n",
      "\t\u001b[31mmodified:   RecursiveAutoencoders.jl\u001b[m\r\n",
      "\t\u001b[31mmodified:   URAE.ipynb\u001b[m\r\n",
      "\t\u001b[31mmodified:   git.ipynb\u001b[m\r\n",
      "\t\u001b[31mmodified:   load_embeddings.jl\u001b[m\r\n",
      "\r\n",
      "Untracked files:\r\n",
      "  (use \"git add <file>...\" to include in what will be committed)\r\n",
      "\r\n",
      "\t\u001b[31m../.ipynb_checkpoints/\u001b[m\r\n",
      "\t\u001b[31m../HDF5 mess.ipynb\u001b[m\r\n",
      "\t\u001b[31m../PyCall/\u001b[m\r\n",
      "\t\u001b[31m../SymPy working space.ipynb\u001b[m\r\n",
      "\t\u001b[31m../Untitled.ipynb\u001b[m\r\n",
      "\t\u001b[31m../data.jld\u001b[m\r\n",
      "\t\u001b[31m.ipynb_checkpoints/\u001b[m\r\n",
      "\t\u001b[31mACL2012_wordvectors.txt\u001b[m\r\n",
      "\t\u001b[31membeddings-scaled.EMBEDDING_SIZE=200.txt\u001b[m\r\n",
      "\t\u001b[31membeddings-scaled.EMBEDDING_SIZE=50.txt\u001b[m\r\n",
      "\t\u001b[31membeddings-scaled.EMBEDDING_SIZE=50.txt~\u001b[m\r\n",
      "\t\u001b[31membeddings-test.txt\u001b[m\r\n",
      "\t\u001b[31mnltk_tree_corp_load.pyc\u001b[m\r\n",
      "\t\u001b[31mtraining_sents.jld\u001b[m\r\n",
      "\t\u001b[31mtraining_sents.jsz\u001b[m\r\n",
      "\t\u001b[31mwordVectors.txt\u001b[m\r\n",
      "\r\n",
      "no changes added to commit (use \"git add\" and/or \"git commit -a\")\r\n"
     ]
    }
   ],
   "source": [
    "git status"
   ]
  },
  {
   "cell_type": "code",
   "execution_count": null,
   "metadata": {
    "collapsed": false
   },
   "outputs": [],
   "source": []
  },
  {
   "cell_type": "code",
   "execution_count": 2,
   "metadata": {
    "collapsed": false
   },
   "outputs": [
    {
     "name": "stdout",
     "output_type": "stream",
     "text": [
      "[master 9fd88c1] =moved to Julia 4 and got unfolding with data preservation working\r\n",
      " 6 files changed, 994 insertions(+), 728 deletions(-)\r\n",
      " rewrite prototypes/word-embeddings2/URAE.ipynb (62%)\r\n"
     ]
    }
   ],
   "source": [
    "git commit -a -m=\"moved to Julia 4 and got unfolding with data preservation working\""
   ]
  },
  {
   "cell_type": "code",
   "execution_count": 16,
   "metadata": {
    "collapsed": false
   },
   "outputs": [
    {
     "name": "stdout",
     "output_type": "stream",
     "text": [
      "Already up-to-date.\r\n"
     ]
    }
   ],
   "source": [
    "git pull"
   ]
  },
  {
   "cell_type": "code",
   "execution_count": 17,
   "metadata": {
    "collapsed": false
   },
   "outputs": [
    {
     "name": "stdout",
     "output_type": "stream",
     "text": [
      "Counting objects: 17, done.\r\n",
      "Delta compression using up to 16 threads.\r\n",
      "Compressing objects:   6% (1/16)   \r",
      "Compressing objects:  12% (2/16)   \r",
      "Compressing objects:  18% (3/16)   \r",
      "Compressing objects:  25% (4/16)   \r",
      "Compressing objects:  31% (5/16)   \r",
      "Compressing objects:  37% (6/16)   \r",
      "Compressing objects:  43% (7/16)   \r",
      "Compressing objects:  50% (8/16)   \r",
      "Compressing objects:  56% (9/16)   \r",
      "Compressing objects:  62% (10/16)   \r",
      "Compressing objects:  68% (11/16)   \r",
      "Compressing objects:  75% (12/16)   \r",
      "Compressing objects:  81% (13/16)   \r",
      "Compressing objects:  87% (14/16)   \r",
      "Compressing objects:  93% (15/16)   \r",
      "Compressing objects: 100% (16/16)   \r",
      "Compressing objects: 100% (16/16), done.\r\n",
      "Writing objects:   5% (1/17)   \r",
      "Writing objects:  11% (2/17)   \r",
      "Writing objects:  17% (3/17)   \r",
      "Writing objects:  23% (4/17)   \r",
      "Writing objects:  29% (5/17)   \r",
      "Writing objects:  35% (6/17)   \r",
      "Writing objects:  41% (7/17)   \r",
      "Writing objects:  47% (8/17)   \r",
      "Writing objects:  52% (9/17)   \r",
      "Writing objects:  64% (11/17)   \r",
      "Writing objects:  70% (12/17)   \r",
      "Writing objects:  76% (13/17)   \r",
      "Writing objects:  82% (14/17)   \r",
      "Writing objects:  88% (15/17)   \r",
      "Writing objects:  94% (16/17)   \r",
      "Writing objects: 100% (17/17)   \r",
      "Writing objects: 100% (17/17), 8.17 KiB | 0 bytes/s, done.\r\n",
      "Total 17 (delta 7), reused 0 (delta 0)\r\n",
      "To git@github.com:oxinabox/phd.git\r\n",
      "   9af9441..1fa99f1  master -> master\r\n"
     ]
    }
   ],
   "source": [
    "git push"
   ]
  },
  {
   "cell_type": "code",
   "execution_count": 8,
   "metadata": {
    "collapsed": false
   },
   "outputs": [
    {
     "name": "stdout",
     "output_type": "stream",
     "text": [
      "Permission denied (publickey).\r",
      "\r\n"
     ]
    }
   ],
   "source": [
    "ssh -T git@github.com"
   ]
  },
  {
   "cell_type": "code",
   "execution_count": 15,
   "metadata": {
    "collapsed": false
   },
   "outputs": [
    {
     "name": "stdout",
     "output_type": "stream",
     "text": [
      "\r\n"
     ]
    }
   ],
   "source": [
    "sudo lsb_release\n"
   ]
  },
  {
   "cell_type": "code",
   "execution_count": null,
   "metadata": {
    "collapsed": true
   },
   "outputs": [],
   "source": []
  }
 ],
 "metadata": {
  "kernelspec": {
   "display_name": "Bash",
   "language": "bash",
   "name": "bash"
  },
  "language_info": {
   "codemirror_mode": "shell",
   "file_extension": ".sh",
   "mimetype": "text/x-sh",
   "name": "bash"
  }
 },
 "nbformat": 4,
 "nbformat_minor": 0
}
