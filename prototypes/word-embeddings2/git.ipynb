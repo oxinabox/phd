{
 "cells": [
  {
   "cell_type": "code",
   "execution_count": 1,
   "metadata": {
    "collapsed": false
   },
   "outputs": [
    {
     "name": "stdout",
     "output_type": "stream",
     "text": [
      "ACL2012_wordvectors.txt                   git.ipynb\r\n",
      "brown_tags.txt                            hypernym_distance.ipynb\r\n",
      "embeddings-scaled.EMBEDDING_SIZE=200.txt  ParseToEmbeedings.ipynb\r\n",
      "embeddings-scaled.EMBEDDING_SIZE=50.txt   Tokenize_to_embeddings.ipynb\r\n",
      "Factoristation.ipynb                      wordVectors.txt\r\n"
     ]
    }
   ],
   "source": [
    "ls"
   ]
  },
  {
   "cell_type": "code",
   "execution_count": 13,
   "metadata": {
    "collapsed": false
   },
   "outputs": [
    {
     "name": "stdout",
     "output_type": "stream",
     "text": []
    }
   ],
   "source": [
    "git add Factoristation.ipynb Tokenize_to_embeddings.ipynb git.ipynb"
   ]
  },
  {
   "cell_type": "code",
   "execution_count": 14,
   "metadata": {
    "collapsed": false
   },
   "outputs": [
    {
     "name": "stdout",
     "output_type": "stream",
     "text": [
      "On branch master\r\n",
      "Your branch is up-to-date with 'origin/master'.\r\n",
      "\r\n",
      "Changes to be committed:\r\n",
      "  (use \"git reset HEAD <file>...\" to unstage)\r\n",
      "\r\n",
      "\t\u001b[32mnew file:   git.ipynb\u001b[m\r\n",
      "\r\n",
      "Untracked files:\r\n",
      "  (use \"git add <file>...\" to include in what will be committed)\r\n",
      "\r\n",
      "\t\u001b[31m.ipynb_checkpoints/\u001b[m\r\n",
      "\t\u001b[31mACL2012_wordvectors.txt\u001b[m\r\n",
      "\t\u001b[31membeddings-scaled.EMBEDDING_SIZE=200.txt\u001b[m\r\n",
      "\t\u001b[31membeddings-scaled.EMBEDDING_SIZE=50.txt\u001b[m\r\n",
      "\t\u001b[31mwordVectors.txt\u001b[m\r\n",
      "\r\n"
     ]
    }
   ],
   "source": [
    "git status"
   ]
  },
  {
   "cell_type": "code",
   "execution_count": 15,
   "metadata": {
    "collapsed": false
   },
   "outputs": [
    {
     "name": "stdout",
     "output_type": "stream",
     "text": [
      "Already up-to-date.\r\n"
     ]
    }
   ],
   "source": [
    "git pull"
   ]
  },
  {
   "cell_type": "code",
   "execution_count": 16,
   "metadata": {
    "collapsed": false
   },
   "outputs": [
    {
     "name": "stdout",
     "output_type": "stream",
     "text": [
      "[master b41e301] =Made a proof of concept showing that matrixes can be factorised\r\n",
      " 1 file changed, 320 insertions(+)\r\n",
      " create mode 100644 prototypes/word-embeddings2/git.ipynb\r\n"
     ]
    }
   ],
   "source": [
    "git commit -m=\"Made a proof of concept showing that matrixes can be factorised\""
   ]
  },
  {
   "cell_type": "code",
   "execution_count": 17,
   "metadata": {
    "collapsed": false
   },
   "outputs": [
    {
     "name": "stdout",
     "output_type": "stream",
     "text": [
      "Counting objects: 5, done.\r\n",
      "Delta compression using up to 16 threads.\r\n",
      "Compressing objects:  25% (1/4)   \r",
      "Compressing objects:  50% (2/4)   \r",
      "Compressing objects:  75% (3/4)   \r",
      "Compressing objects: 100% (4/4)   \r",
      "Compressing objects: 100% (4/4), done.\r\n",
      "Writing objects:  20% (1/5)   \r",
      "Writing objects:  40% (2/5)   \r",
      "Writing objects:  60% (3/5)   \r",
      "Writing objects:  80% (4/5)   \r",
      "Writing objects: 100% (5/5)   \r",
      "Writing objects: 100% (5/5), 2.40 KiB | 0 bytes/s, done.\r\n",
      "Total 5 (delta 2), reused 0 (delta 0)\r\n",
      "To git@github.com:oxinabox/phd.git\r\n",
      "   d17cd44..b41e301  master -> master\r\n"
     ]
    }
   ],
   "source": [
    "git push"
   ]
  },
  {
   "cell_type": "code",
   "execution_count": null,
   "metadata": {
    "collapsed": true
   },
   "outputs": [],
   "source": []
  }
 ],
 "metadata": {
  "kernelspec": {
   "display_name": "Bash",
   "language": "bash",
   "name": "bash"
  },
  "language_info": {
   "codemirror_mode": "shell",
   "file_extension": ".sh",
   "mimetype": "text/x-sh",
   "name": "bash"
  }
 },
 "nbformat": 4,
 "nbformat_minor": 0
}
