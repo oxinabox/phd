{
 "cells": [
  {
   "cell_type": "code",
   "execution_count": 1,
   "metadata": {
    "collapsed": false
   },
   "outputs": [
    {
     "name": "stdout",
     "output_type": "stream",
     "text": [
      "ACL2012_wordvectors.txt                   NLTK_py.ipynb\r\n",
      "brown_tags.txt                            nltk_tree_corp_load.py\r\n",
      "ClusterSoup.jl                            nltk_tree_corp_load.pyc\r\n",
      "embeddings-scaled.EMBEDDING_SIZE=200.txt  Parallel_testing.ipynb\r\n",
      "embeddings-scaled.EMBEDDING_SIZE=50.txt   RAE.ipynb\r\n",
      "embeddings-scaled.EMBEDDING_SIZE=50.txt~  RecursiveAutoencoders.jl\r\n",
      "embeddings-test.txt                       StandardRAE.jl\r\n",
      "Factoristation.ipynb                      training_sents.jld\r\n",
      "git.ipynb                                 training_sents.jsz\r\n",
      "Lets build a NN for practice.ipynb        UnfoldingRAE.jl\r\n",
      "Linear RAE.ipynb                          URAE.ipynb\r\n",
      "load_embeddings.jl                        URAE_tests.ipynb\r\n",
      "NLTK.ipynb                                wordVectors.txt\r\n"
     ]
    }
   ],
   "source": [
    "ls"
   ]
  },
  {
   "cell_type": "code",
   "execution_count": 46,
   "metadata": {
    "collapsed": false
   },
   "outputs": [
    {
     "name": "stdout",
     "output_type": "stream",
     "text": []
    }
   ],
   "source": [
    "git add \"../Filters/Autoregressive.ipynb\""
   ]
  },
  {
   "cell_type": "code",
   "execution_count": 1,
   "metadata": {
    "collapsed": false
   },
   "outputs": [
    {
     "name": "stdout",
     "output_type": "stream",
     "text": [
      "On branch master\r\n",
      "Your branch and 'origin/master' have diverged,\r\n",
      "and have 1 and 3 different commits each, respectively.\r\n",
      "  (use \"git pull\" to merge the remote branch into yours)\r\n",
      "All conflicts fixed but you are still merging.\r\n",
      "  (use \"git commit\" to conclude merge)\r\n",
      "\r\n",
      "Changes not staged for commit:\r\n",
      "  (use \"git add <file>...\" to update what will be committed)\r\n",
      "  (use \"git checkout -- <file>...\" to discard changes in working directory)\r\n",
      "\r\n",
      "\t\u001b[31mmodified:   ClusterSoup.jl\u001b[m\r\n",
      "\t\u001b[31mmodified:   URAE.ipynb\u001b[m\r\n",
      "\t\u001b[31mmodified:   git.ipynb\u001b[m\r\n",
      "\r\n",
      "Untracked files:\r\n",
      "  (use \"git add <file>...\" to include in what will be committed)\r\n",
      "\r\n",
      "\t\u001b[31m../.ipynb_checkpoints/\u001b[m\r\n",
      "\t\u001b[31m../Filters/.ipynb_checkpoints/\u001b[m\r\n",
      "\t\u001b[31m../HDF5 mess.ipynb\u001b[m\r\n",
      "\t\u001b[31m../Optimisation/.ipynb_checkpoints/\u001b[m\r\n",
      "\t\u001b[31m../PyCall/\u001b[m\r\n",
      "\t\u001b[31m../SymPy working space.ipynb\u001b[m\r\n",
      "\t\u001b[31m../cluster.ipynb\u001b[m\r\n",
      "\t\u001b[31m../data.jld\u001b[m\r\n",
      "\t\u001b[31m../multidispact_test.ipynb\u001b[m\r\n",
      "\t\u001b[31m.ipynb_checkpoints/\u001b[m\r\n",
      "\t\u001b[31mACL2012_wordvectors.txt\u001b[m\r\n",
      "\t\u001b[31mACL2012_wordvectors.txt~\u001b[m\r\n",
      "\t\u001b[31membeddings-scaled.EMBEDDING_SIZE=200.txt\u001b[m\r\n",
      "\t\u001b[31membeddings-scaled.EMBEDDING_SIZE=50.txt\u001b[m\r\n",
      "\t\u001b[31membeddings-scaled.EMBEDDING_SIZE=50.txt~\u001b[m\r\n",
      "\t\u001b[31membeddings-test.txt\u001b[m\r\n",
      "\t\u001b[31mhlbl-embeddings-scaled.EMBEDDING_SIZE=100.txt\u001b[m\r\n",
      "\t\u001b[31mnltk_tree_corp_load.pyc\u001b[m\r\n",
      "\t\u001b[31mtraining_sents.jld\u001b[m\r\n",
      "\t\u001b[31mtraining_sents.jsz\u001b[m\r\n",
      "\t\u001b[31mwordVectors.txt\u001b[m\r\n",
      "\r\n",
      "no changes added to commit (use \"git add\" and/or \"git commit -a\")\r\n"
     ]
    }
   ],
   "source": [
    "git status .."
   ]
  },
  {
   "cell_type": "code",
   "execution_count": null,
   "metadata": {
    "collapsed": true
   },
   "outputs": [],
   "source": []
  },
  {
   "cell_type": "code",
   "execution_count": 2,
   "metadata": {
    "collapsed": false
   },
   "outputs": [
    {
     "name": "stdout",
     "output_type": "stream",
     "text": [
      "[master cf06c2f] =Made cluster soup use remoterefs,\r\n"
     ]
    }
   ],
   "source": [
    "git commit -a -m=\"Made cluster soup use remoterefs, \""
   ]
  },
  {
   "cell_type": "code",
   "execution_count": null,
   "metadata": {
    "collapsed": false
   },
   "outputs": [],
   "source": []
  },
  {
   "cell_type": "code",
   "execution_count": 3,
   "metadata": {
    "collapsed": false
   },
   "outputs": [
    {
     "name": "stdout",
     "output_type": "stream",
     "text": [
      "X11 forwarding request failed on channel 0\r",
      "\r\n",
      "Already up-to-date.\r\n"
     ]
    }
   ],
   "source": [
    "git pull"
   ]
  },
  {
   "cell_type": "code",
   "execution_count": 4,
   "metadata": {
    "collapsed": false
   },
   "outputs": [
    {
     "name": "stdout",
     "output_type": "stream",
     "text": [
      "X11 forwarding request failed on channel 0\r",
      "\r\n",
      "Counting objects: 14, done.\r\n",
      "Delta compression using up to 16 threads.\r\n",
      "Compressing objects:   7% (1/13)   \r",
      "Compressing objects:  15% (2/13)   \r",
      "Compressing objects:  23% (3/13)   \r",
      "Compressing objects:  30% (4/13)   \r",
      "Compressing objects:  38% (5/13)   \r",
      "Compressing objects:  46% (6/13)   \r",
      "Compressing objects:  53% (7/13)   \r",
      "Compressing objects:  61% (8/13)   \r",
      "Compressing objects:  69% (9/13)   \r",
      "Compressing objects:  76% (10/13)   \r",
      "Compressing objects:  84% (11/13)   \r",
      "Compressing objects:  92% (12/13)   \r",
      "Compressing objects: 100% (13/13)   \r",
      "Compressing objects: 100% (13/13), done.\r\n",
      "Writing objects:   7% (1/14)   \r",
      "Writing objects:  14% (2/14)   \r",
      "Writing objects:  21% (3/14)   \r",
      "Writing objects:  28% (4/14)   \r",
      "Writing objects:  35% (5/14)   \r",
      "Writing objects:  42% (6/14)   \r",
      "Writing objects:  50% (7/14)   \r",
      "Writing objects:  57% (8/14)   \r",
      "Writing objects:  64% (9/14)   \r",
      "Writing objects:  71% (10/14)   \r",
      "Writing objects:  78% (11/14)   \r",
      "Writing objects:  85% (12/14)   \r",
      "Writing objects:  92% (13/14)   \r",
      "Writing objects: 100% (14/14)   \r",
      "Writing objects: 100% (14/14), 3.53 KiB | 0 bytes/s, done.\r\n",
      "Total 14 (delta 9), reused 0 (delta 0)\r\n",
      "To git@github.com:oxinabox/phd.git\r\n",
      "   57fa180..cf06c2f  master -> master\r\n"
     ]
    }
   ],
   "source": [
    "git push"
   ]
  },
  {
   "cell_type": "code",
   "execution_count": 8,
   "metadata": {
    "collapsed": false
   },
   "outputs": [
    {
     "name": "stdout",
     "output_type": "stream",
     "text": [
      "Permission denied (publickey).\r",
      "\r\n"
     ]
    }
   ],
   "source": [
    "ssh -T git@github.com"
   ]
  },
  {
   "cell_type": "code",
   "execution_count": null,
   "metadata": {
    "collapsed": true
   },
   "outputs": [],
   "source": []
  }
 ],
 "metadata": {
  "kernelspec": {
   "display_name": "Bash",
   "language": "bash",
   "name": "bash"
  },
  "language_info": {
   "codemirror_mode": "shell",
   "file_extension": ".sh",
   "mimetype": "text/x-sh",
   "name": "bash"
  }
 },
 "nbformat": 4,
 "nbformat_minor": 0
}
