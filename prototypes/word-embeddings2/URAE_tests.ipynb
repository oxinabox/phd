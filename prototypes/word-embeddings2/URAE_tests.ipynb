{
 "cells": [
  {
   "cell_type": "code",
   "execution_count": 1,
   "metadata": {
    "collapsed": false
   },
   "outputs": [],
   "source": [
    "using Iterators\n",
    "using Pipe\n",
    "\n",
    "macro printval(ee)\n",
    "    ee_expr = @sprintf \"%s\" string(ee)\n",
    "    esc(:(println($ee_expr,\" = \", $ee)))\n",
    "end\n",
    "\n",
    "macro pz(ee)\n",
    "    ee_expr = @sprintf \"%s\" string(ee)\n",
    "    esc(:(println($ee_expr,\"\\t\\t\",typeof($ee), \"\\t\", size($ee))))\n",
    "end"
   ]
  },
  {
   "cell_type": "code",
   "execution_count": 3,
   "metadata": {
    "collapsed": false
   },
   "outputs": [],
   "source": [
    "using RecursiveAutoencoders\n",
    "using UnfoldingRAE\n",
    "using Base.Collections\n",
    "using WordEmbeddings"
   ]
  },
  {
   "cell_type": "code",
   "execution_count": 4,
   "metadata": {
    "collapsed": false
   },
   "outputs": [
    {
     "name": "stdout",
     "output_type": "stream",
     "text": [
      "(50,14)\n",
      "Dict{ASCIIString,Int64}\n",
      "Array{ASCIIString,1}\n"
     ]
    }
   ],
   "source": [
    "LL,word_indexes, indexed_words =  load_embeddings(\"word_emb_data/embeddings-test.txt\");\n",
    "LL[:]./=maximum(abs(LL[:]))\n",
    "size(LL) |> println\n",
    "word_indexes |> typeof |> println\n",
    "indexed_words |> typeof |> println\n",
    "\n"
   ]
  },
  {
   "cell_type": "code",
   "execution_count": 5,
   "metadata": {
    "collapsed": false,
    "scrolled": true
   },
   "outputs": [
    {
     "name": "stdout",
     "output_type": "stream",
     "text": [
      "training_trees\t\tArray{Any,1}\t(3914,)\n"
     ]
    }
   ],
   "source": [
    "training_trees = open(\"training_sents.jsz\",\"r\") do fs\n",
    "    deserialize(fs)\n",
    "end;\n",
    "@pz training_trees"
   ]
  },
  {
   "cell_type": "code",
   "execution_count": 6,
   "metadata": {
    "collapsed": false,
    "scrolled": true
   },
   "outputs": [
    {
     "data": {
      "text/plain": [
       "10-element Array{Any,1}:\n",
       " (((\"Pierre\",\"Vinken\"),(\",\",(((\"61\",\"years\"),\"old\"),\",\"))),((\"will\",(\"join\",((\"the\",\"board\"),((\"as\",(\"a\",(\"nonexecutive\",\"director\"))),(\"Nov.\",\"29\"))))),\".\"))                                                                                                                                                                                                                   \n",
       " ((\"Mr.\",\"Vinken\"),((\"is\",(\"chairman\",(\"of\",((\"Elsevier\",\"N.V.\"),(\",\",(\"the\",(\"Dutch\",(\"publishing\",\"group\")))))))),\".\"))                                                                                                                                                                                                                                                        \n",
       " (((\"Rudolph\",\"Agnew\"),(\",\",((((\"55\",\"years\"),\"old\"),(\"and\",((\"former\",\"chairman\"),(\"of\",(\"Consolidated\",(\"Gold\",(\"Fields\",\"PLC\"))))))),\",\"))),((\"was\",(\"named\",(\"*-1\",((\"a\",(\"nonexecutive\",\"director\")),(\"of\",(\"this\",(\"British\",(\"industrial\",\"conglomerate\")))))))),\".\"))                                                                                                    \n",
       " (((((\"A\",\"form\"),(\"of\",\"asbestos\")),(\"once\",(\"used\",(\"*\",(\"*\",(\"to\",(\"make\",(\"Kent\",(\"cigarette\",\"filters\"))))))))),(\"has\",(\"caused\",((\"a\",(\"high\",\"percentage\")),((\"of\",(\"cancer\",\"deaths\")),(\"among\",((\"a\",\"group\"),(\"of\",(\"workers\",(\"exposed\",(\"*\",((\"to\",\"it\"),(((\"more\",(\"than\",\"30\")),\"years\"),\"ago\"))))))))))))),(\",\",(\"researchers\",((\"reported\",(\"0\",\"*T*-1\")),\".\"))))\n",
       " ((((\"The\",(\"asbestos\",\"fiber\")),(\",\",(\"crocidolite\",\",\"))),(\"is\",((\"unusually\",\"resilient\"),((\"once\",(\"it\",(\"enters\",(\"the\",\"lungs\")))),(\",\",(\"with\",(((\"even\",(\"brief\",\"exposures\")),(\"to\",\"it\")),(\"causing\",(\"symptoms\",(\"that\",(\"*T*-1\",(\"show\",(\"up\",(\"decades\",\"later\")))))))))))))),(\",\",(\"researchers\",((\"said\",(\"0\",\"*T*-2\")),\".\"))))                                   \n",
       " (((\"Lorillard\",\"Inc.\"),(\",\",(((\"the\",\"unit\"),((\"of\",((\"New\",\"York-based\"),(\"Loews\",\"Corp.\"))),(\"that\",(\"*T*-2\",(\"makes\",(\"Kent\",\"cigarettes\")))))),\",\"))),((\"stopped\",(\"using\",(\"crocidolite\",((\"in\",(\"its\",(\"Micronite\",(\"cigarette\",\"filters\")))),(\"in\",\"1956\"))))),\".\"))                                                                                                     \n",
       " ((\"Although\",((\"preliminary\",\"findings\"),(\"were\",(\"reported\",(\"*-2\",(((\"more\",(\"than\",\"a\")),\"year\"),\"ago\")))))),(\",\",((\"the\",(\"latest\",\"results\")),((\"appear\",(\"in\",((((\"today\",\"'s\"),(\"New\",(\"England\",\"Journal\"))),(\"of\",\"Medicine\")),(\",\",((\"a\",\"forum\"),(\"likely\",(\"*\",(\"to\",(\"bring\",((\"new\",\"attention\"),(\"to\",(\"the\",\"problem\")))))))))))),\".\"))))                       \n",
       " ((\"A\",(\"Lorillard\",\"spokewoman\")),((\"said\",(\",\",(\"``\",(\"This\",(\"is\",(\"an\",(\"old\",\"story\"))))))),\".\"))                                                                                                                                                                                                                                                                           \n",
       " (\"We\",((\"'re\",(\"talking\",(\"about\",((\"years\",\"ago\"),(\"before\",(\"anyone\",(\"heard\",(\"of\",(\"asbestos\",(\"having\",(\"any\",(\"questionable\",\"properties\")))))))))))),\".\"))                                                                                                                                                                                                               \n",
       " (\"There\",((\"is\",((\"no\",\"asbestos\"),((\"in\",(\"our\",\"products\")),\"now\"))),(\".\",\"''\")))                                                                                                                                                                                                                                                                                             "
      ]
     },
     "execution_count": 6,
     "metadata": {},
     "output_type": "execute_result"
    }
   ],
   "source": [
    "training_trees = training_trees[1:10]"
   ]
  },
  {
   "cell_type": "code",
   "execution_count": 7,
   "metadata": {
    "collapsed": false,
    "scrolled": true
   },
   "outputs": [
    {
     "name": "stdout",
     "output_type": "stream",
     "text": [
      "FoldData\n"
     ]
    }
   ],
   "source": [
    "function test()\n",
    "    rr = RAE(LL,word_indexes,indexed_words);\n",
    "\n",
    "    a=fold(rr,(\"killer\", \"cows\"))\n",
    "    typeof(a) |> println\n",
    "    b=unfold(rr,a);\n",
    "    @assert b[1].parent==b[2].parent\n",
    "\n",
    "\n",
    "    a=fold(rr,(\"the\",(\"killer\", \"cows\")))\n",
    "    b=unfold(rr,a);\n",
    "    @assert b[1].parent==b[2].parent.parent==b[3].parent.parent\n",
    "end\n",
    "test()\n"
   ]
  },
  {
   "cell_type": "code",
   "execution_count": 8,
   "metadata": {
    "collapsed": false
   },
   "outputs": [
    {
     "name": "stdout",
     "output_type": "stream",
     "text": [
      "rr.W_d\t\tArray{Float64,2}\t(100,50)\n",
      "------------------------------------------------------\n",
      "rr.W_d\t\tArray{Float64,2}\t(100,50)\n",
      "ΔW_d\t\tArray{Float64,2}\t(100,50)\n",
      "rr.b_d\t\tArray{Float64,1}\t(100,)\n",
      "Δb_d\t\tArray{Float64,1}\t(100,)\n",
      "++++++++++++++++++++++++++++++++++++++++++++++++++++++\n",
      "rr.W_e\t\tArray{Float64,2}\t(50,100)\n",
      "ΔW_e\t\tArray{Float64,2}\t(50,100)\n",
      "rr.b_e\t\tArray{Float64,1}\t(50,)\n",
      "Δb_e\t\tArray{Float64,1}\t(50,)\n"
     ]
    }
   ],
   "source": [
    "function test()\n",
    "    rr = RAE(LL,word_indexes,indexed_words);\n",
    "    a=fold(rr,(\"the\",(\"bad\",(\"killer\", \"cows\"))))\n",
    "    b=unfold(rr,a);\n",
    "    @pz rr.W_d\n",
    "    δd,ΔW_d, Δb_d = UBPTS(rr, b)\n",
    "    println(\"-\"^54)\n",
    "    @pz rr.W_d\n",
    "    @pz ΔW_d\n",
    "    @pz rr.b_d\n",
    "    @pz Δb_d\n",
    "\n",
    "    ΔW_e,Δb_e = UBPTS(rr, a, δd)\n",
    "    println(\"+\"^54)\n",
    "    @pz rr.W_e\n",
    "    @pz ΔW_e\n",
    "    @pz rr.b_e\n",
    "    @pz Δb_e\n",
    "\n",
    "end\n",
    "test()"
   ]
  },
  {
   "cell_type": "code",
   "execution_count": 9,
   "metadata": {
    "collapsed": false
   },
   "outputs": [
    {
     "data": {
      "text/plain": [
       "2"
      ]
     },
     "execution_count": 9,
     "metadata": {},
     "output_type": "execute_result"
    }
   ],
   "source": [
    "5÷2"
   ]
  },
  {
   "cell_type": "code",
   "execution_count": 10,
   "metadata": {
    "collapsed": false
   },
   "outputs": [],
   "source": [
    "@everywhere function unpack!(rae::RAE, θ::Vector)\n",
    "    W_e_len = length(rae.W_e)\n",
    "    b_e_len = length(rae.b_e)\n",
    "    W_d_len = length(rae.W_d)\n",
    "    b_d_len = length(rae.b_d)\n",
    "    W_e_shape = size(rae.W_e)\n",
    "    W_d_shape = size(rae.W_d)\n",
    "    \n",
    "    \n",
    "    \n",
    "    rae.W_e = reshape(θ[1: W_e_len],W_e_shape)\n",
    "    rae.b_e = θ[W_e_len+1: W_e_len+b_e_len]\n",
    "    rae.W_d = reshape(θ[W_e_len+b_e_len+1: W_e_len+b_e_len+W_d_len], W_d_shape)\n",
    "    rae.b_d = θ[W_e_len+b_e_len+W_d_len+1: end]\n",
    "    \n",
    "    rae\n",
    "end\n",
    "\n",
    "@everywhere function pack(rae::RAE)\n",
    "    pack(rae.W_e,rae.b_e, rae.W_d,rae.b_d)\n",
    "end\n",
    "\n",
    "@everywhere function pack(∇W_e::NumericMatrix, ∇b_e::NumericVector, ∇W_d::NumericMatrix, ∇b_d::NumericVector)\n",
    "    [∇W_e[:]; ∇b_e; ∇W_d[:]; ∇b_d] \n",
    "end"
   ]
  },
  {
   "cell_type": "code",
   "execution_count": 12,
   "metadata": {
    "collapsed": false
   },
   "outputs": [
    {
     "data": {
      "text/plain": [
       "numeric_grad (generic function with 2 methods)"
      ]
     },
     "execution_count": 12,
     "metadata": {},
     "output_type": "execute_result"
    }
   ],
   "source": [
    "# tests\n",
    "\n",
    "function analytic_grad(rae::RAE, tree::Tuple{Any,Any})\n",
    "    (Δs, err)=loss_and_loss_grad(rae, tree)\n",
    "    tuple(Δs...)\n",
    "end\n",
    " \n",
    "function numeric_grad(rae::RAE, tree::Tuple{Any,Any}, ϵ=10.0^-4)\n",
    "    rae_inner = deepcopy(rae)\n",
    "    θ = pack(rae_inner)\n",
    "        Δθ = zeros(size(θ))\n",
    "    for ii in 1:length(θ)\n",
    "        ϵᵢ = zeros(size(θ))\n",
    "        ϵᵢ[ii]=ϵ\n",
    "        θⁱ⁺ = θ + ϵᵢ\n",
    "        θⁱ⁻ = θ - ϵᵢ\n",
    "        \n",
    "        unpack!(rae_inner,θⁱ⁺)\n",
    "        Jⁱ⁺ = loss(rae_inner, tree)\n",
    "        \n",
    "        unpack!(rae_inner,θⁱ⁻)\n",
    "        Jⁱ⁻=loss(rae_inner, tree)\n",
    "        Δθ[ii] = (Jⁱ⁺-Jⁱ⁻)/(2.0*ϵ)\n",
    "    end\n",
    "    unpack!(rae_inner,Δθ)\n",
    "    \n",
    "    (rae_inner.W_e, rae_inner.b_e, rae_inner.W_d, rae_inner.b_d)\n",
    "   \n",
    "end"
   ]
  },
  {
   "cell_type": "code",
   "execution_count": 13,
   "metadata": {
    "collapsed": false,
    "scrolled": true
   },
   "outputs": [],
   "source": [
    "#eg_tree = training_trees[2]\n",
    "rae_outer = RAE(LL,word_indexes,indexed_words);\n",
    "#aW_e, ab_e, aW_d, ab_d = analytic_grad(rae_outer, eg_tree);\n",
    "#nW_e, nb_e, nW_d, nb_d = numeric_grad(rae_outer, eg_tree, 10.0^-7);\n"
   ]
  },
  {
   "cell_type": "code",
   "execution_count": 14,
   "metadata": {
    "collapsed": false,
    "scrolled": true
   },
   "outputs": [
    {
     "ename": "LoadError",
     "evalue": "LoadError: UndefVarError: nW_e not defined\nwhile loading In[14], in expression starting on line 1",
     "output_type": "error",
     "traceback": [
      "LoadError: UndefVarError: nW_e not defined\nwhile loading In[14], in expression starting on line 1",
      ""
     ]
    }
   ],
   "source": [
    "ngs = pack(nW_e, nb_e, nW_d, nb_d)\n",
    "ags = pack(aW_e, ab_e, aW_d, ab_d)\n",
    "\n",
    "@printval mean(abs(ngs-ags))\n",
    "@printval median(abs(ngs-ags))\n",
    "@printval maximum(abs(ngs-ags))\n",
    "@printval norm(ngs-ags)\n",
    "println(\"-\"^54)\n",
    "\n",
    "\n",
    "for (ng,ag) in zip(ngs, ags)\n",
    "    println(ng,\"\\t\", ag, \"\\t\", abs(ng-ag))\n",
    "end\n",
    "\n",
    "\n"
   ]
  },
  {
   "cell_type": "code",
   "execution_count": 16,
   "metadata": {
    "collapsed": false
   },
   "outputs": [
    {
     "data": {
      "text/plain": [
       "g (generic function with 1 method)"
      ]
     },
     "execution_count": 16,
     "metadata": {},
     "output_type": "execute_result"
    }
   ],
   "source": [
    "using ForwardDiff\n",
    "\n",
    "function f(θ)\n",
    "    rae_inner = RAE(rae_outer.L, rae_outer.word_index, rae_outer.indexed_words,\n",
    "        similar(rae_outer.W_e),similar(rae_outer.b_e),similar(rae_outer.W_d),similar(rae_outer.b_d))\n",
    "    unpack!(rae_inner,θ)\n",
    "    loss(rae_inner, training_trees[2])\n",
    "end\n",
    "\n",
    "# Using forwarddiff_jacobian\n",
    "g = forwarddiff_gradient(f, Float64, fadtype=:dual, n=length(pack(rae_outer)))\n"
   ]
  },
  {
   "cell_type": "code",
   "execution_count": 17,
   "metadata": {
    "collapsed": false
   },
   "outputs": [
    {
     "data": {
      "text/plain": [
       "10150-element Array{Float64,1}:\n",
       "  6.55767e-7\n",
       "  5.50292e-7\n",
       "  1.08137e-6\n",
       " -1.23558e-6\n",
       "  1.14172e-6\n",
       "  4.32851e-7\n",
       " -8.97054e-7\n",
       "  2.34043e-6\n",
       "  2.30132e-6\n",
       " -6.75781e-7\n",
       " -1.42362e-6\n",
       " -5.32244e-7\n",
       " -3.16935e-6\n",
       "  ⋮         \n",
       " -0.00265191\n",
       "  0.308826  \n",
       "  0.0307033 \n",
       "  0.13591   \n",
       "  0.206062  \n",
       "  0.0645229 \n",
       "  0.184008  \n",
       "  0.144755  \n",
       "  0.0798861 \n",
       " -0.207859  \n",
       " -0.208208  \n",
       " -0.216134  "
      ]
     },
     "execution_count": 17,
     "metadata": {},
     "output_type": "execute_result"
    }
   ],
   "source": [
    "θ = pack(rae_outer)\n",
    "dg = g(θ)"
   ]
  },
  {
   "cell_type": "code",
   "execution_count": 18,
   "metadata": {
    "collapsed": false
   },
   "outputs": [
    {
     "data": {
      "text/plain": [
       "10150-element Array{Float64,1}:\n",
       "  6.55767e-7\n",
       "  5.50292e-7\n",
       "  1.08137e-6\n",
       " -1.23558e-6\n",
       "  1.14172e-6\n",
       "  4.32851e-7\n",
       " -8.97054e-7\n",
       "  2.34043e-6\n",
       "  2.30132e-6\n",
       " -6.75781e-7\n",
       " -1.42362e-6\n",
       " -5.32244e-7\n",
       " -3.16935e-6\n",
       "  ⋮         \n",
       " -0.00265191\n",
       "  0.308826  \n",
       "  0.0307033 \n",
       "  0.13591   \n",
       "  0.206062  \n",
       "  0.0645229 \n",
       "  0.184008  \n",
       "  0.144755  \n",
       "  0.0798861 \n",
       " -0.207859  \n",
       " -0.208208  \n",
       " -0.216134  "
      ]
     },
     "execution_count": 18,
     "metadata": {},
     "output_type": "execute_result"
    }
   ],
   "source": [
    "ag = pack(analytic_grad(rae_outer, training_trees[2])...)"
   ]
  },
  {
   "cell_type": "code",
   "execution_count": 19,
   "metadata": {
    "collapsed": false
   },
   "outputs": [
    {
     "data": {
      "text/plain": [
       "5.551115123125783e-16"
      ]
     },
     "execution_count": 19,
     "metadata": {},
     "output_type": "execute_result"
    }
   ],
   "source": [
    "maximum(abs(dg.-ag))\n"
   ]
  },
  {
   "cell_type": "code",
   "execution_count": null,
   "metadata": {
    "collapsed": false
   },
   "outputs": [],
   "source": [
    "map(t->Vector{t}, [Number, Float16])"
   ]
  },
  {
   "cell_type": "code",
   "execution_count": null,
   "metadata": {
    "collapsed": false
   },
   "outputs": [],
   "source": [
    "Union(subtypes(Number)...)"
   ]
  },
  {
   "cell_type": "code",
   "execution_count": null,
   "metadata": {
    "collapsed": true
   },
   "outputs": [],
   "source": []
  },
  {
   "cell_type": "code",
   "execution_count": null,
   "metadata": {
    "collapsed": false
   },
   "outputs": [],
   "source": [
    "Dual"
   ]
  },
  {
   "cell_type": "code",
   "execution_count": null,
   "metadata": {
    "collapsed": true
   },
   "outputs": [],
   "source": []
  }
 ],
 "metadata": {
  "kernelspec": {
   "display_name": "Julia 0.4.0-dev",
   "language": "julia",
   "name": "julia-0.4"
  },
  "language_info": {
   "name": "julia",
   "version": "0.3.10"
  }
 },
 "nbformat": 4,
 "nbformat_minor": 0
}
