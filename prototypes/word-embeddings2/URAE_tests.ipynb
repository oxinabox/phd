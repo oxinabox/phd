{
 "cells": [
  {
   "cell_type": "code",
   "execution_count": 1,
   "metadata": {
    "collapsed": false
   },
   "outputs": [],
   "source": [
    "using Iterators\n",
    "using Pipe\n",
    "using Compat\n",
    "\n",
    "macro printval(ee)\n",
    "    ee_expr = @sprintf \"%s\" string(ee)\n",
    "    esc(:(println($ee_expr,\" = \", $ee)))\n",
    "end\n",
    "\n",
    "macro pz(ee)\n",
    "    ee_expr = @sprintf \"%s\" string(ee)\n",
    "    esc(:(println($ee_expr,\"\\t\\t\",typeof($ee), \"\\t\", size($ee))))\n",
    "end"
   ]
  },
  {
   "cell_type": "code",
   "execution_count": 2,
   "metadata": {
    "collapsed": false
   },
   "outputs": [],
   "source": [
    "using RecursiveAutoencoders\n",
    "using UnfoldingRAE\n",
    "using Base.Collections\n",
    "using WordEmbeddings"
   ]
  },
  {
   "cell_type": "code",
   "execution_count": 3,
   "metadata": {
    "collapsed": false
   },
   "outputs": [
    {
     "name": "stdout",
     "output_type": "stream",
     "text": [
      "(50,14)\n",
      "Dict{ASCIIString,Int64}\n",
      "Array{ASCIIString,1}\n",
      "LL\t\tArray{Float32,2}\t(50,14)\n"
     ]
    }
   ],
   "source": [
    "LL,word_indexes, indexed_words =  load_embeddings(\"word_emb_data/embeddings-test.txt\");\n",
    "LL[:]./=maximum(abs(LL[:]))\n",
    "size(LL) |> println\n",
    "word_indexes |> typeof |> println\n",
    "indexed_words |> typeof |> println\n",
    "\n",
    "@pz LL"
   ]
  },
  {
   "cell_type": "code",
   "execution_count": 4,
   "metadata": {
    "collapsed": false,
    "scrolled": true
   },
   "outputs": [
    {
     "name": "stdout",
     "output_type": "stream",
     "text": [
      "training_trees\t\tArray{Any,1}\t(3914,)\n"
     ]
    }
   ],
   "source": [
    "training_trees = open(\"training_sents.jsz\",\"r\") do fs\n",
    "    deserialize(fs)\n",
    "end;\n",
    "@pz training_trees"
   ]
  },
  {
   "cell_type": "code",
   "execution_count": 5,
   "metadata": {
    "collapsed": false,
    "scrolled": true
   },
   "outputs": [],
   "source": [
    "training_trees = training_trees[1:10];"
   ]
  },
  {
   "cell_type": "code",
   "execution_count": 6,
   "metadata": {
    "collapsed": false,
    "scrolled": true
   },
   "outputs": [
    {
     "name": "stdout",
     "output_type": "stream",
     "text": [
      "FoldData\n"
     ]
    }
   ],
   "source": [
    "function test()\n",
    "    rr = RAE(LL,word_indexes,indexed_words);\n",
    "\n",
    "    a=fold(rr,(\"killer\", \"cows\"))\n",
    "    typeof(a) |> println\n",
    "    b=unfold(rr,a);\n",
    "    @assert b[1].parent==b[2].parent\n",
    "\n",
    "\n",
    "    a=fold(rr,(\"the\",(\"killer\", \"cows\")))\n",
    "    b=unfold(rr,a);\n",
    "    @assert b[1].parent==b[2].parent.parent==b[3].parent.parent\n",
    "end\n",
    "test()\n"
   ]
  },
  {
   "cell_type": "code",
   "execution_count": null,
   "metadata": {
    "collapsed": true
   },
   "outputs": [],
   "source": []
  },
  {
   "cell_type": "code",
   "execution_count": 7,
   "metadata": {
    "collapsed": false
   },
   "outputs": [
    {
     "name": "stdout",
     "output_type": "stream",
     "text": [
      "rr.W_d\t\tArray{Float32,2}\t(100,50)\n",
      "------------------------------------------------------\n",
      "rr.W_d\t\tArray{Float32,2}\t(100,50)\n",
      "ΔW_d\t\tArray{Float32,2}\t(100,50)\n",
      "rr.b_d\t\tArray{Float32,1}\t(100,)\n",
      "Δb_d\t\tArray{Float32,1}\t(100,)\n",
      "++++++++++++++++++++++++++++++++++++++++++++++++++++++\n",
      "rr.W_e\t\tArray{Float32,2}\t(50,100)\n",
      "ΔW_e\t\tArray{Float32,2}\t(50,100)\n",
      "rr.b_e\t\tArray{Float32,1}\t(50,)\n",
      "Δb_e\t\tArray{Float32,1}\t(50,)\n"
     ]
    }
   ],
   "source": [
    "function test()\n",
    "    rr = RAE(LL,word_indexes,indexed_words);\n",
    "    a=fold(rr,(\"the\",(\"bad\",(\"killer\", \"cows\"))))\n",
    "    b=unfold(rr,a);\n",
    "    @pz rr.W_d\n",
    "    δd,ΔW_d, Δb_d = UBPTS(rr, b)\n",
    "    println(\"-\"^54)\n",
    "    @pz rr.W_d\n",
    "    @pz ΔW_d\n",
    "    @pz rr.b_d\n",
    "    @pz Δb_d\n",
    "\n",
    "    ΔW_e,Δb_e = UBPTS(rr, a, δd)\n",
    "    println(\"+\"^54)\n",
    "    @pz rr.W_e\n",
    "    @pz ΔW_e\n",
    "    @pz rr.b_e\n",
    "    @pz Δb_e\n",
    "\n",
    "end\n",
    "test()"
   ]
  },
  {
   "cell_type": "code",
   "execution_count": 8,
   "metadata": {
    "collapsed": true
   },
   "outputs": [],
   "source": [
    "using ArrayViews"
   ]
  },
  {
   "cell_type": "code",
   "execution_count": 17,
   "metadata": {
    "collapsed": false
   },
   "outputs": [],
   "source": []
  },
  {
   "cell_type": "code",
   "execution_count": 11,
   "metadata": {
    "collapsed": false
   },
   "outputs": [
    {
     "name": "stdout",
     "output_type": "stream",
     "text": [
      "2  ./inference.jl; anonymous; line: 0\n",
      "1  loading.jl; include_string; line: 97\n",
      " 1 profile.jl; anonymous; line: 14\n",
      "  1 In[10]; test; line: 5\n",
      "   1 abstractarray.jl; vcat; line: 554\n",
      "31 task.jl; anonymous; line: 340\n",
      " 30 ...4/IJulia/src/IJulia.jl; eventloop; line: 123\n",
      "  29 ...rc/execute_request.jl; execute_request_0x535c5df2; line: 157\n",
      "   28 loading.jl; include_string; line: 97\n",
      "    27 profile.jl; anonymous; line: 14\n",
      "     26 In[10]; test; line: 5\n",
      "      26 abstractarray.jl; vcat; line: 554\n",
      "   1  profile.jl; anonymous; line: 14\n",
      "    1 In[10]; test; line: 5\n",
      "     1 abstractarray.jl; vcat; line: 554\n",
      "  1  loading.jl; include_string; line: 97\n"
     ]
    }
   ],
   "source": [
    "Profile.init(10000,0.0000001)\n",
    "@profile(test(rae_outer);)\n",
    "Profile.print()"
   ]
  },
  {
   "cell_type": "code",
   "execution_count": 12,
   "metadata": {
    "collapsed": false
   },
   "outputs": [
    {
     "data": {
      "image/svg+xml": [
       "<?xml version=\"1.0\" standalone=\"no\"?>\n",
       "<!DOCTYPE svg PUBLIC \"-//W3C//DTD SVG 1.1//EN\" \"http://www.w3.org/Graphics/SVG/1.1/DTD/svg11.dtd\">\n",
       "<svg version=\"1.1\" width=\"1200\" height=\"175\" viewBox=\"0 0 1200 175\" xmlns=\"http://www.w3.org/2000/svg\" >\n",
       "<defs >\n",
       "    <linearGradient id=\"background\" y1=\"0\" y2=\"1\" x1=\"0\" x2=\"0\" >\n",
       "        <stop stop-color=\"#eeeeee\" offset=\"5%\" />\n",
       "        <stop stop-color=\"#eeeeb0\" offset=\"95%\" />\n",
       "    </linearGradient>\n",
       "    <clipPath id=\"fig-88cd03f17d11483c95e531ad2367a1aa-image-frame\">\n",
       "      <rect id=\"fig-88cd03f17d11483c95e531ad2367a1aa-clip-rect\" x=\"0\" y=\"0\" width=\"1200\" height=\"175\" />\n",
       "    </clipPath>\n",
       "</defs>\n",
       "<style type=\"text/css\">\n",
       "    rect[rx]:hover { stroke:black; stroke-width:1; }\n",
       "    text:hover { stroke:black; stroke-width:1; stroke-opacity:0.35; }\n",
       "</style>\n",
       "<g id=\"fig-88cd03f17d11483c95e531ad2367a1aa-frame\" clip-path=\"url(#fig-88cd03f17d11483c95e531ad2367a1aa-image-frame)\">\n",
       "<rect class=\"pvbackground\" x=\"0.0\" y=\"0\" width=\"1200.0\" height=\"175.0\" fill=\"url(#background)\"  />\n",
       "<text class=\"pvbackground\" text-anchor=\"middle\" x=\"600\" y=\"24\" font-size=\"17\" font-family=\"Verdana\" fill=\"rgb(0,0,0)\"  >Profile results</text>\n",
       "<text text-anchor=\"left\" x=\"10\" y=\"158\" font-size=\"12\" font-family=\"Verdana\" fill=\"rgb(0,0,0)\"  >Function:</text>\n",
       "<text text-anchor=\"\" x=\"70\" y=\"158\" font-size=\"12\" font-family=\"Verdana\" fill=\"rgb(0,0,0)\" id=\"fig-88cd03f17d11483c95e531ad2367a1aa-details\" > </text>\n",
       "<g id=\"fig-88cd03f17d11483c95e531ad2367a1aa-viewport\" transform=\"scale(1)\">\n",
       "<rect vector-effect=\"non-scaling-stroke\" x=\"10.0\" y=\"120.0\" width=\"1.1069418386491563\" height=\"15.0\" fill=\"rgb(120,90,252)\" rx=\"2\" ry=\"2\" data-shortinfo=\"anonymous in ./inference.jl:0\" data-info=\"anonymous in ./inference.jl:0\"/>\n",
       "<text text-anchor=\"\" x=\"14.0\" y=\"131.5\" font-size=\"12\" font-family=\"Verdana\" fill=\"rgb(0,0,0)\" ></text>\n",
       "<rect vector-effect=\"non-scaling-stroke\" x=\"1041.669793621013\" y=\"120.0\" width=\"1.1069418386491634\" height=\"15.0\" fill=\"rgb(8,139,0)\" rx=\"2\" ry=\"2\" data-shortinfo=\"include_string in loading.jl:97\" data-info=\"include_string in loading.jl:97\"/>\n",
       "<text text-anchor=\"\" x=\"1045.669793621013\" y=\"131.5\" font-size=\"12\" font-family=\"Verdana\" fill=\"rgb(0,0,0)\" ></text>\n",
       "<rect vector-effect=\"non-scaling-stroke\" x=\"1063.808630393996\" y=\"120.0\" width=\"1.1069418386491634\" height=\"15.0\" fill=\"rgb(0,167,175)\" rx=\"2\" ry=\"2\" data-shortinfo=\"anonymous in ./inference.jl:0\" data-info=\"anonymous in ./inference.jl:0\"/>\n",
       "<text text-anchor=\"\" x=\"1067.808630393996\" y=\"131.5\" font-size=\"12\" font-family=\"Verdana\" fill=\"rgb(0,0,0)\" ></text>\n",
       "<rect vector-effect=\"non-scaling-stroke\" x=\"1132.4390243902437\" y=\"120.0\" width=\"34.31519699812384\" height=\"15.0\" fill=\"rgb(210,171,0)\" rx=\"2\" ry=\"2\" data-shortinfo=\"anonymous in task.jl:340\" data-info=\"anonymous in task.jl:340\"/>\n",
       "<text text-anchor=\"\" x=\"1136.4390243902437\" y=\"131.5\" font-size=\"12\" font-family=\"Verdana\" fill=\"rgb(0,0,0)\" ></text>\n",
       "<rect vector-effect=\"non-scaling-stroke\" x=\"1041.669793621013\" y=\"105.0\" width=\"1.1069418386491634\" height=\"15.0\" fill=\"rgb(140,0,69)\" rx=\"2\" ry=\"2\" data-shortinfo=\"anonymous in profile.jl:14\" data-info=\"anonymous in profile.jl:14\"/>\n",
       "<text text-anchor=\"\" x=\"1045.669793621013\" y=\"116.5\" font-size=\"12\" font-family=\"Verdana\" fill=\"rgb(0,0,0)\" ></text>\n",
       "<rect vector-effect=\"non-scaling-stroke\" x=\"1132.4390243902437\" y=\"105.0\" width=\"33.208255159474675\" height=\"15.0\" fill=\"rgb(255,121,177)\" rx=\"2\" ry=\"2\" data-shortinfo=\"eventloop in /home/wheel/oxinabox/.julia/v0.4/IJulia/src/IJulia.jl:123\" data-info=\"eventloop in /home/wheel/oxinabox/.julia/v0.4/IJulia/src/IJulia.jl:123\"/>\n",
       "<text text-anchor=\"\" x=\"1136.4390243902437\" y=\"116.5\" font-size=\"12\" font-family=\"Verdana\" fill=\"rgb(0,0,0)\" ></text>\n",
       "<rect vector-effect=\"non-scaling-stroke\" x=\"1041.669793621013\" y=\"90.0\" width=\"1.1069418386491634\" height=\"15.0\" fill=\"rgb(120,90,252)\" rx=\"2\" ry=\"2\" data-shortinfo=\"test in In[10]:5\" data-info=\"test in In[10]:5\"/>\n",
       "<text text-anchor=\"\" x=\"1045.669793621013\" y=\"101.5\" font-size=\"12\" font-family=\"Verdana\" fill=\"rgb(0,0,0)\" ></text>\n",
       "<rect vector-effect=\"non-scaling-stroke\" x=\"1132.4390243902437\" y=\"90.0\" width=\"32.10131332082551\" height=\"15.0\" fill=\"rgb(8,139,0)\" rx=\"2\" ry=\"2\" data-shortinfo=\"execute_request_0x535c5df2 in /home/wheel/oxinabox/.julia/v0.4/IJulia/src/execute_request.jl:157\" data-info=\"execute_request_0x535c5df2 in /home/wheel/oxinabox/.julia/v0.4/IJulia/src/execute_request.jl:157\"/>\n",
       "<text text-anchor=\"\" x=\"1136.4390243902437\" y=\"101.5\" font-size=\"12\" font-family=\"Verdana\" fill=\"rgb(0,0,0)\" ></text>\n",
       "<rect vector-effect=\"non-scaling-stroke\" x=\"1164.5403377110692\" y=\"90.0\" width=\"1.1069418386491634\" height=\"15.0\" fill=\"rgb(0,167,175)\" rx=\"2\" ry=\"2\" data-shortinfo=\"include_string in loading.jl:97\" data-info=\"include_string in loading.jl:97\"/>\n",
       "<text text-anchor=\"\" x=\"1168.5403377110692\" y=\"101.5\" font-size=\"12\" font-family=\"Verdana\" fill=\"rgb(0,0,0)\" ></text>\n",
       "<rect vector-effect=\"non-scaling-stroke\" x=\"1041.669793621013\" y=\"75.0\" width=\"1.1069418386491634\" height=\"15.0\" fill=\"rgb(140,0,69)\" rx=\"2\" ry=\"2\" data-shortinfo=\"vcat in abstractarray.jl:554\" data-info=\"vcat in abstractarray.jl:554\"/>\n",
       "<text text-anchor=\"\" x=\"1045.669793621013\" y=\"86.5\" font-size=\"12\" font-family=\"Verdana\" fill=\"rgb(0,0,0)\" ></text>\n",
       "<rect vector-effect=\"non-scaling-stroke\" x=\"1132.4390243902437\" y=\"75.0\" width=\"1.1069418386491634\" height=\"15.0\" fill=\"rgb(255,121,177)\" rx=\"2\" ry=\"2\" data-shortinfo=\"anonymous in profile.jl:14\" data-info=\"anonymous in profile.jl:14\"/>\n",
       "<text text-anchor=\"\" x=\"1136.4390243902437\" y=\"86.5\" font-size=\"12\" font-family=\"Verdana\" fill=\"rgb(0,0,0)\" ></text>\n",
       "<rect vector-effect=\"non-scaling-stroke\" x=\"1133.545966228893\" y=\"75.0\" width=\"30.994371482176348\" height=\"15.0\" fill=\"rgb(57,255,110)\" rx=\"2\" ry=\"2\" data-shortinfo=\"include_string in loading.jl:97\" data-info=\"include_string in loading.jl:97\"/>\n",
       "<text text-anchor=\"\" x=\"1137.545966228893\" y=\"86.5\" font-size=\"12\" font-family=\"Verdana\" fill=\"rgb(0,0,0)\" ></text>\n",
       "<rect vector-effect=\"non-scaling-stroke\" x=\"1132.4390243902437\" y=\"60.0\" width=\"1.1069418386491634\" height=\"15.0\" fill=\"rgb(120,90,252)\" rx=\"2\" ry=\"2\" data-shortinfo=\"test in In[10]:5\" data-info=\"test in In[10]:5\"/>\n",
       "<text text-anchor=\"\" x=\"1136.4390243902437\" y=\"71.5\" font-size=\"12\" font-family=\"Verdana\" fill=\"rgb(0,0,0)\" ></text>\n",
       "<rect vector-effect=\"non-scaling-stroke\" x=\"1133.545966228893\" y=\"60.0\" width=\"29.887429643527184\" height=\"15.0\" fill=\"rgb(8,139,0)\" rx=\"2\" ry=\"2\" data-shortinfo=\"anonymous in profile.jl:14\" data-info=\"anonymous in profile.jl:14\"/>\n",
       "<text text-anchor=\"\" x=\"1137.545966228893\" y=\"71.5\" font-size=\"12\" font-family=\"Verdana\" fill=\"rgb(0,0,0)\" ></text>\n",
       "<rect vector-effect=\"non-scaling-stroke\" x=\"1132.4390243902437\" y=\"45.0\" width=\"1.1069418386491634\" height=\"15.0\" fill=\"rgb(140,0,69)\" rx=\"2\" ry=\"2\" data-shortinfo=\"vcat in abstractarray.jl:554\" data-info=\"vcat in abstractarray.jl:554\"/>\n",
       "<text text-anchor=\"\" x=\"1136.4390243902437\" y=\"56.5\" font-size=\"12\" font-family=\"Verdana\" fill=\"rgb(0,0,0)\" ></text>\n",
       "<rect vector-effect=\"non-scaling-stroke\" x=\"1134.652908067542\" y=\"45.0\" width=\"28.78048780487802\" height=\"15.0\" fill=\"rgb(255,121,177)\" rx=\"2\" ry=\"2\" data-shortinfo=\"test in In[10]:5\" data-info=\"test in In[10]:5\"/>\n",
       "<text text-anchor=\"\" x=\"1138.652908067542\" y=\"56.5\" font-size=\"12\" font-family=\"Verdana\" fill=\"rgb(0,0,0)\" ></text>\n",
       "<rect vector-effect=\"non-scaling-stroke\" x=\"1134.652908067542\" y=\"30.0\" width=\"18.818011257035778\" height=\"15.0\" fill=\"rgb(120,90,252)\" rx=\"2\" ry=\"2\" data-shortinfo=\"vcat in abstractarray.jl:554\" data-info=\"vcat in abstractarray.jl:554\"/>\n",
       "<text text-anchor=\"\" x=\"1138.652908067542\" y=\"41.5\" font-size=\"12\" font-family=\"Verdana\" fill=\"rgb(0,0,0)\" ></text>\n",
       "<rect vector-effect=\"non-scaling-stroke\" x=\"1153.4709193245778\" y=\"30.0\" width=\"9.962476547842243\" height=\"15.0\" fill=\"rgb(120,90,252)\" rx=\"2\" ry=\"2\" data-shortinfo=\"vcat in abstractarray.jl:554\" data-info=\"vcat in abstractarray.jl:554\"/>\n",
       "<text text-anchor=\"\" x=\"1157.4709193245778\" y=\"41.5\" font-size=\"12\" font-family=\"Verdana\" fill=\"rgb(0,0,0)\" ></text>\n",
       "    </g></g>\n",
       "    <script><![CDATA[(function(N){var k=/[\\.\\/]/,L=/\\s*,\\s*/,C=function(a,d){return a-d},a,v,y={n:{}},M=function(){for(var a=0,d=this.length;a<d;a++)if(\"undefined\"!=typeof this[a])return this[a]},A=function(){for(var a=this.length;--a;)if(\"undefined\"!=typeof this[a])return this[a]},w=function(k,d){k=String(k);var f=v,n=Array.prototype.slice.call(arguments,2),u=w.listeners(k),p=0,b,q=[],e={},l=[],r=a;l.firstDefined=M;l.lastDefined=A;a=k;for(var s=v=0,x=u.length;s<x;s++)\"zIndex\"in u[s]&&(q.push(u[s].zIndex),0>u[s].zIndex&&\n",
       "(e[u[s].zIndex]=u[s]));for(q.sort(C);0>q[p];)if(b=e[q[p++] ],l.push(b.apply(d,n)),v)return v=f,l;for(s=0;s<x;s++)if(b=u[s],\"zIndex\"in b)if(b.zIndex==q[p]){l.push(b.apply(d,n));if(v)break;do if(p++,(b=e[q[p] ])&&l.push(b.apply(d,n)),v)break;while(b)}else e[b.zIndex]=b;else if(l.push(b.apply(d,n)),v)break;v=f;a=r;return l};w._events=y;w.listeners=function(a){a=a.split(k);var d=y,f,n,u,p,b,q,e,l=[d],r=[];u=0;for(p=a.length;u<p;u++){e=[];b=0;for(q=l.length;b<q;b++)for(d=l[b].n,f=[d[a[u] ],d[\"*\"] ],n=2;n--;)if(d=\n",
       "f[n])e.push(d),r=r.concat(d.f||[]);l=e}return r};w.on=function(a,d){a=String(a);if(\"function\"!=typeof d)return function(){};for(var f=a.split(L),n=0,u=f.length;n<u;n++)(function(a){a=a.split(k);for(var b=y,f,e=0,l=a.length;e<l;e++)b=b.n,b=b.hasOwnProperty(a[e])&&b[a[e] ]||(b[a[e] ]={n:{}});b.f=b.f||[];e=0;for(l=b.f.length;e<l;e++)if(b.f[e]==d){f=!0;break}!f&&b.f.push(d)})(f[n]);return function(a){+a==+a&&(d.zIndex=+a)}};w.f=function(a){var d=[].slice.call(arguments,1);return function(){w.apply(null,\n",
       "[a,null].concat(d).concat([].slice.call(arguments,0)))}};w.stop=function(){v=1};w.nt=function(k){return k?(new RegExp(\"(?:\\\\.|\\\\/|^)\"+k+\"(?:\\\\.|\\\\/|$)\")).test(a):a};w.nts=function(){return a.split(k)};w.off=w.unbind=function(a,d){if(a){var f=a.split(L);if(1<f.length)for(var n=0,u=f.length;n<u;n++)w.off(f[n],d);else{for(var f=a.split(k),p,b,q,e,l=[y],n=0,u=f.length;n<u;n++)for(e=0;e<l.length;e+=q.length-2){q=[e,1];p=l[e].n;if(\"*\"!=f[n])p[f[n] ]&&q.push(p[f[n] ]);else for(b in p)p.hasOwnProperty(b)&&\n",
       "q.push(p[b]);l.splice.apply(l,q)}n=0;for(u=l.length;n<u;n++)for(p=l[n];p.n;){if(d){if(p.f){e=0;for(f=p.f.length;e<f;e++)if(p.f[e]==d){p.f.splice(e,1);break}!p.f.length&&delete p.f}for(b in p.n)if(p.n.hasOwnProperty(b)&&p.n[b].f){q=p.n[b].f;e=0;for(f=q.length;e<f;e++)if(q[e]==d){q.splice(e,1);break}!q.length&&delete p.n[b].f}}else for(b in delete p.f,p.n)p.n.hasOwnProperty(b)&&p.n[b].f&&delete p.n[b].f;p=p.n}}}else w._events=y={n:{}}};w.once=function(a,d){var f=function(){w.unbind(a,f);return d.apply(this,\n",
       "arguments)};return w.on(a,f)};w.version=\"0.4.2\";w.toString=function(){return\"You are running Eve 0.4.2\"};\"undefined\"!=typeof module&&module.exports?module.exports=w:\"function\"===typeof define&&define.amd?define(\"eve\",[],function(){return w}):N.eve=w})(this);\n",
       "(function(N,k){\"function\"===typeof define&&define.amd?define(\"Snap.svg\",[\"eve\"],function(L){return k(N,L)}):k(N,N.eve)})(this,function(N,k){var L=function(a){var k={},y=N.requestAnimationFrame||N.webkitRequestAnimationFrame||N.mozRequestAnimationFrame||N.oRequestAnimationFrame||N.msRequestAnimationFrame||function(a){setTimeout(a,16)},M=Array.isArray||function(a){return a instanceof Array||\"[object Array]\"==Object.prototype.toString.call(a)},A=0,w=\"M\"+(+new Date).toString(36),z=function(a){if(null==\n",
       "a)return this.s;var b=this.s-a;this.b+=this.dur*b;this.B+=this.dur*b;this.s=a},d=function(a){if(null==a)return this.spd;this.spd=a},f=function(a){if(null==a)return this.dur;this.s=this.s*a/this.dur;this.dur=a},n=function(){delete k[this.id];this.update();a(\"mina.stop.\"+this.id,this)},u=function(){this.pdif||(delete k[this.id],this.update(),this.pdif=this.get()-this.b)},p=function(){this.pdif&&(this.b=this.get()-this.pdif,delete this.pdif,k[this.id]=this)},b=function(){var a;if(M(this.start)){a=[];\n",
       "for(var b=0,e=this.start.length;b<e;b++)a[b]=+this.start[b]+(this.end[b]-this.start[b])*this.easing(this.s)}else a=+this.start+(this.end-this.start)*this.easing(this.s);this.set(a)},q=function(){var l=0,b;for(b in k)if(k.hasOwnProperty(b)){var e=k[b],f=e.get();l++;e.s=(f-e.b)/(e.dur/e.spd);1<=e.s&&(delete k[b],e.s=1,l--,function(b){setTimeout(function(){a(\"mina.finish.\"+b.id,b)})}(e));e.update()}l&&y(q)},e=function(a,r,s,x,G,h,J){a={id:w+(A++).toString(36),start:a,end:r,b:s,s:0,dur:x-s,spd:1,get:G,\n",
       "set:h,easing:J||e.linear,status:z,speed:d,duration:f,stop:n,pause:u,resume:p,update:b};k[a.id]=a;r=0;for(var K in k)if(k.hasOwnProperty(K)&&(r++,2==r))break;1==r&&y(q);return a};e.time=Date.now||function(){return+new Date};e.getById=function(a){return k[a]||null};e.linear=function(a){return a};e.easeout=function(a){return Math.pow(a,1.7)};e.easein=function(a){return Math.pow(a,0.48)};e.easeinout=function(a){if(1==a)return 1;if(0==a)return 0;var b=0.48-a/1.04,e=Math.sqrt(0.1734+b*b);a=e-b;a=Math.pow(Math.abs(a),\n",
       "1/3)*(0>a?-1:1);b=-e-b;b=Math.pow(Math.abs(b),1/3)*(0>b?-1:1);a=a+b+0.5;return 3*(1-a)*a*a+a*a*a};e.backin=function(a){return 1==a?1:a*a*(2.70158*a-1.70158)};e.backout=function(a){if(0==a)return 0;a-=1;return a*a*(2.70158*a+1.70158)+1};e.elastic=function(a){return a==!!a?a:Math.pow(2,-10*a)*Math.sin(2*(a-0.075)*Math.PI/0.3)+1};e.bounce=function(a){a<1/2.75?a*=7.5625*a:a<2/2.75?(a-=1.5/2.75,a=7.5625*a*a+0.75):a<2.5/2.75?(a-=2.25/2.75,a=7.5625*a*a+0.9375):(a-=2.625/2.75,a=7.5625*a*a+0.984375);return a};\n",
       "return N.mina=e}(\"undefined\"==typeof k?function(){}:k),C=function(){function a(c,t){if(c){if(c.tagName)return x(c);if(y(c,\"array\")&&a.set)return a.set.apply(a,c);if(c instanceof e)return c;if(null==t)return c=G.doc.querySelector(c),x(c)}return new s(null==c?\"100%\":c,null==t?\"100%\":t)}function v(c,a){if(a){\"#text\"==c&&(c=G.doc.createTextNode(a.text||\"\"));\"string\"==typeof c&&(c=v(c));if(\"string\"==typeof a)return\"xlink:\"==a.substring(0,6)?c.getAttributeNS(m,a.substring(6)):\"xml:\"==a.substring(0,4)?c.getAttributeNS(la,\n",
       "a.substring(4)):c.getAttribute(a);for(var da in a)if(a[h](da)){var b=J(a[da]);b?\"xlink:\"==da.substring(0,6)?c.setAttributeNS(m,da.substring(6),b):\"xml:\"==da.substring(0,4)?c.setAttributeNS(la,da.substring(4),b):c.setAttribute(da,b):c.removeAttribute(da)}}else c=G.doc.createElementNS(la,c);return c}function y(c,a){a=J.prototype.toLowerCase.call(a);return\"finite\"==a?isFinite(c):\"array\"==a&&(c instanceof Array||Array.isArray&&Array.isArray(c))?!0:\"null\"==a&&null===c||a==typeof c&&null!==c||\"object\"==\n",
       "a&&c===Object(c)||$.call(c).slice(8,-1).toLowerCase()==a}function M(c){if(\"function\"==typeof c||Object(c)!==c)return c;var a=new c.constructor,b;for(b in c)c[h](b)&&(a[b]=M(c[b]));return a}function A(c,a,b){function m(){var e=Array.prototype.slice.call(arguments,0),f=e.join(\"\\u2400\"),d=m.cache=m.cache||{},l=m.count=m.count||[];if(d[h](f)){a:for(var e=l,l=f,B=0,H=e.length;B<H;B++)if(e[B]===l){e.push(e.splice(B,1)[0]);break a}return b?b(d[f]):d[f]}1E3<=l.length&&delete d[l.shift()];l.push(f);d[f]=c.apply(a,\n",
       "e);return b?b(d[f]):d[f]}return m}function w(c,a,b,m,e,f){return null==e?(c-=b,a-=m,c||a?(180*I.atan2(-a,-c)/C+540)%360:0):w(c,a,e,f)-w(b,m,e,f)}function z(c){return c%360*C/180}function d(c){var a=[];c=c.replace(/(?:^|\\s)(\\w+)\\(([^)]+)\\)/g,function(c,b,m){m=m.split(/\\s*,\\s*|\\s+/);\"rotate\"==b&&1==m.length&&m.push(0,0);\"scale\"==b&&(2<m.length?m=m.slice(0,2):2==m.length&&m.push(0,0),1==m.length&&m.push(m[0],0,0));\"skewX\"==b?a.push([\"m\",1,0,I.tan(z(m[0])),1,0,0]):\"skewY\"==b?a.push([\"m\",1,I.tan(z(m[0])),\n",
       "0,1,0,0]):a.push([b.charAt(0)].concat(m));return c});return a}function f(c,t){var b=O(c),m=new a.Matrix;if(b)for(var e=0,f=b.length;e<f;e++){var h=b[e],d=h.length,B=J(h[0]).toLowerCase(),H=h[0]!=B,l=H?m.invert():0,E;\"t\"==B&&2==d?m.translate(h[1],0):\"t\"==B&&3==d?H?(d=l.x(0,0),B=l.y(0,0),H=l.x(h[1],h[2]),l=l.y(h[1],h[2]),m.translate(H-d,l-B)):m.translate(h[1],h[2]):\"r\"==B?2==d?(E=E||t,m.rotate(h[1],E.x+E.width/2,E.y+E.height/2)):4==d&&(H?(H=l.x(h[2],h[3]),l=l.y(h[2],h[3]),m.rotate(h[1],H,l)):m.rotate(h[1],\n",
       "h[2],h[3])):\"s\"==B?2==d||3==d?(E=E||t,m.scale(h[1],h[d-1],E.x+E.width/2,E.y+E.height/2)):4==d?H?(H=l.x(h[2],h[3]),l=l.y(h[2],h[3]),m.scale(h[1],h[1],H,l)):m.scale(h[1],h[1],h[2],h[3]):5==d&&(H?(H=l.x(h[3],h[4]),l=l.y(h[3],h[4]),m.scale(h[1],h[2],H,l)):m.scale(h[1],h[2],h[3],h[4])):\"m\"==B&&7==d&&m.add(h[1],h[2],h[3],h[4],h[5],h[6])}return m}function n(c,t){if(null==t){var m=!0;t=\"linearGradient\"==c.type||\"radialGradient\"==c.type?c.node.getAttribute(\"gradientTransform\"):\"pattern\"==c.type?c.node.getAttribute(\"patternTransform\"):\n",
       "c.node.getAttribute(\"transform\");if(!t)return new a.Matrix;t=d(t)}else t=a._.rgTransform.test(t)?J(t).replace(/\\.{3}|\\u2026/g,c._.transform||aa):d(t),y(t,\"array\")&&(t=a.path?a.path.toString.call(t):J(t)),c._.transform=t;var b=f(t,c.getBBox(1));if(m)return b;c.matrix=b}function u(c){c=c.node.ownerSVGElement&&x(c.node.ownerSVGElement)||c.node.parentNode&&x(c.node.parentNode)||a.select(\"svg\")||a(0,0);var t=c.select(\"defs\"),t=null==t?!1:t.node;t||(t=r(\"defs\",c.node).node);return t}function p(c){return c.node.ownerSVGElement&&\n",
       "x(c.node.ownerSVGElement)||a.select(\"svg\")}function b(c,a,m){function b(c){if(null==c)return aa;if(c==+c)return c;v(B,{width:c});try{return B.getBBox().width}catch(a){return 0}}function h(c){if(null==c)return aa;if(c==+c)return c;v(B,{height:c});try{return B.getBBox().height}catch(a){return 0}}function e(b,B){null==a?d[b]=B(c.attr(b)||0):b==a&&(d=B(null==m?c.attr(b)||0:m))}var f=p(c).node,d={},B=f.querySelector(\".svg---mgr\");B||(B=v(\"rect\"),v(B,{x:-9E9,y:-9E9,width:10,height:10,\"class\":\"svg---mgr\",\n",
       "fill:\"none\"}),f.appendChild(B));switch(c.type){case \"rect\":e(\"rx\",b),e(\"ry\",h);case \"image\":e(\"width\",b),e(\"height\",h);case \"text\":e(\"x\",b);e(\"y\",h);break;case \"circle\":e(\"cx\",b);e(\"cy\",h);e(\"r\",b);break;case \"ellipse\":e(\"cx\",b);e(\"cy\",h);e(\"rx\",b);e(\"ry\",h);break;case \"line\":e(\"x1\",b);e(\"x2\",b);e(\"y1\",h);e(\"y2\",h);break;case \"marker\":e(\"refX\",b);e(\"markerWidth\",b);e(\"refY\",h);e(\"markerHeight\",h);break;case \"radialGradient\":e(\"fx\",b);e(\"fy\",h);break;case \"tspan\":e(\"dx\",b);e(\"dy\",h);break;default:e(a,\n",
       "b)}f.removeChild(B);return d}function q(c){y(c,\"array\")||(c=Array.prototype.slice.call(arguments,0));for(var a=0,b=0,m=this.node;this[a];)delete this[a++];for(a=0;a<c.length;a++)\"set\"==c[a].type?c[a].forEach(function(c){m.appendChild(c.node)}):m.appendChild(c[a].node);for(var h=m.childNodes,a=0;a<h.length;a++)this[b++]=x(h[a]);return this}function e(c){if(c.snap in E)return E[c.snap];var a=this.id=V(),b;try{b=c.ownerSVGElement}catch(m){}this.node=c;b&&(this.paper=new s(b));this.type=c.tagName;this.anims=\n",
       "{};this._={transform:[]};c.snap=a;E[a]=this;\"g\"==this.type&&(this.add=q);if(this.type in{g:1,mask:1,pattern:1})for(var e in s.prototype)s.prototype[h](e)&&(this[e]=s.prototype[e])}function l(c){this.node=c}function r(c,a){var b=v(c);a.appendChild(b);return x(b)}function s(c,a){var b,m,f,d=s.prototype;if(c&&\"svg\"==c.tagName){if(c.snap in E)return E[c.snap];var l=c.ownerDocument;b=new e(c);m=c.getElementsByTagName(\"desc\")[0];f=c.getElementsByTagName(\"defs\")[0];m||(m=v(\"desc\"),m.appendChild(l.createTextNode(\"Created with Snap\")),\n",
       "b.node.appendChild(m));f||(f=v(\"defs\"),b.node.appendChild(f));b.defs=f;for(var ca in d)d[h](ca)&&(b[ca]=d[ca]);b.paper=b.root=b}else b=r(\"svg\",G.doc.body),v(b.node,{height:a,version:1.1,width:c,xmlns:la});return b}function x(c){return!c||c instanceof e||c instanceof l?c:c.tagName&&\"svg\"==c.tagName.toLowerCase()?new s(c):c.tagName&&\"object\"==c.tagName.toLowerCase()&&\"image/svg+xml\"==c.type?new s(c.contentDocument.getElementsByTagName(\"svg\")[0]):new e(c)}a.version=\"0.3.0\";a.toString=function(){return\"Snap v\"+\n",
       "this.version};a._={};var G={win:N,doc:N.document};a._.glob=G;var h=\"hasOwnProperty\",J=String,K=parseFloat,U=parseInt,I=Math,P=I.max,Q=I.min,Y=I.abs,C=I.PI,aa=\"\",$=Object.prototype.toString,F=/^\\s*((#[a-f\\d]{6})|(#[a-f\\d]{3})|rgba?\\(\\s*([\\d\\.]+%?\\s*,\\s*[\\d\\.]+%?\\s*,\\s*[\\d\\.]+%?(?:\\s*,\\s*[\\d\\.]+%?)?)\\s*\\)|hsba?\\(\\s*([\\d\\.]+(?:deg|\\xb0|%)?\\s*,\\s*[\\d\\.]+%?\\s*,\\s*[\\d\\.]+(?:%?\\s*,\\s*[\\d\\.]+)?%?)\\s*\\)|hsla?\\(\\s*([\\d\\.]+(?:deg|\\xb0|%)?\\s*,\\s*[\\d\\.]+%?\\s*,\\s*[\\d\\.]+(?:%?\\s*,\\s*[\\d\\.]+)?%?)\\s*\\))\\s*$/i;a._.separator=\n",
       "RegExp(\"[,\\t\\n\\x0B\\f\\r \\u00a0\\u1680\\u180e\\u2000\\u2001\\u2002\\u2003\\u2004\\u2005\\u2006\\u2007\\u2008\\u2009\\u200a\\u202f\\u205f\\u3000\\u2028\\u2029]+\");var S=RegExp(\"[\\t\\n\\x0B\\f\\r \\u00a0\\u1680\\u180e\\u2000\\u2001\\u2002\\u2003\\u2004\\u2005\\u2006\\u2007\\u2008\\u2009\\u200a\\u202f\\u205f\\u3000\\u2028\\u2029]*,[\\t\\n\\x0B\\f\\r \\u00a0\\u1680\\u180e\\u2000\\u2001\\u2002\\u2003\\u2004\\u2005\\u2006\\u2007\\u2008\\u2009\\u200a\\u202f\\u205f\\u3000\\u2028\\u2029]*\"),X={hs:1,rg:1},W=RegExp(\"([a-z])[\\t\\n\\x0B\\f\\r \\u00a0\\u1680\\u180e\\u2000\\u2001\\u2002\\u2003\\u2004\\u2005\\u2006\\u2007\\u2008\\u2009\\u200a\\u202f\\u205f\\u3000\\u2028\\u2029,]*((-?\\\\d*\\\\.?\\\\d*(?:e[\\\\-+]?\\\\d+)?[\\t\\n\\x0B\\f\\r \\u00a0\\u1680\\u180e\\u2000\\u2001\\u2002\\u2003\\u2004\\u2005\\u2006\\u2007\\u2008\\u2009\\u200a\\u202f\\u205f\\u3000\\u2028\\u2029]*,?[\\t\\n\\x0B\\f\\r \\u00a0\\u1680\\u180e\\u2000\\u2001\\u2002\\u2003\\u2004\\u2005\\u2006\\u2007\\u2008\\u2009\\u200a\\u202f\\u205f\\u3000\\u2028\\u2029]*)+)\",\n",
       "\"ig\"),ma=RegExp(\"([rstm])[\\t\\n\\x0B\\f\\r \\u00a0\\u1680\\u180e\\u2000\\u2001\\u2002\\u2003\\u2004\\u2005\\u2006\\u2007\\u2008\\u2009\\u200a\\u202f\\u205f\\u3000\\u2028\\u2029,]*((-?\\\\d*\\\\.?\\\\d*(?:e[\\\\-+]?\\\\d+)?[\\t\\n\\x0B\\f\\r \\u00a0\\u1680\\u180e\\u2000\\u2001\\u2002\\u2003\\u2004\\u2005\\u2006\\u2007\\u2008\\u2009\\u200a\\u202f\\u205f\\u3000\\u2028\\u2029]*,?[\\t\\n\\x0B\\f\\r \\u00a0\\u1680\\u180e\\u2000\\u2001\\u2002\\u2003\\u2004\\u2005\\u2006\\u2007\\u2008\\u2009\\u200a\\u202f\\u205f\\u3000\\u2028\\u2029]*)+)\",\"ig\"),Z=RegExp(\"(-?\\\\d*\\\\.?\\\\d*(?:e[\\\\-+]?\\\\d+)?)[\\t\\n\\x0B\\f\\r \\u00a0\\u1680\\u180e\\u2000\\u2001\\u2002\\u2003\\u2004\\u2005\\u2006\\u2007\\u2008\\u2009\\u200a\\u202f\\u205f\\u3000\\u2028\\u2029]*,?[\\t\\n\\x0B\\f\\r \\u00a0\\u1680\\u180e\\u2000\\u2001\\u2002\\u2003\\u2004\\u2005\\u2006\\u2007\\u2008\\u2009\\u200a\\u202f\\u205f\\u3000\\u2028\\u2029]*\",\n",
       "\"ig\"),na=0,ba=\"S\"+(+new Date).toString(36),V=function(){return ba+(na++).toString(36)},m=\"http://www.w3.org/1999/xlink\",la=\"http://www.w3.org/2000/svg\",E={},ca=a.url=function(c){return\"url('#\"+c+\"')\"};a._.$=v;a._.id=V;a.format=function(){var c=/\\{([^\\}]+)\\}/g,a=/(?:(?:^|\\.)(.+?)(?=\\[|\\.|$|\\()|\\[('|\")(.+?)\\2\\])(\\(\\))?/g,b=function(c,b,m){var h=m;b.replace(a,function(c,a,b,m,t){a=a||m;h&&(a in h&&(h=h[a]),\"function\"==typeof h&&t&&(h=h()))});return h=(null==h||h==m?c:h)+\"\"};return function(a,m){return J(a).replace(c,\n",
       "function(c,a){return b(c,a,m)})}}();a._.clone=M;a._.cacher=A;a.rad=z;a.deg=function(c){return 180*c/C%360};a.angle=w;a.is=y;a.snapTo=function(c,a,b){b=y(b,\"finite\")?b:10;if(y(c,\"array\"))for(var m=c.length;m--;){if(Y(c[m]-a)<=b)return c[m]}else{c=+c;m=a%c;if(m<b)return a-m;if(m>c-b)return a-m+c}return a};a.getRGB=A(function(c){if(!c||(c=J(c)).indexOf(\"-\")+1)return{r:-1,g:-1,b:-1,hex:\"none\",error:1,toString:ka};if(\"none\"==c)return{r:-1,g:-1,b:-1,hex:\"none\",toString:ka};!X[h](c.toLowerCase().substring(0,\n",
       "2))&&\"#\"!=c.charAt()&&(c=T(c));if(!c)return{r:-1,g:-1,b:-1,hex:\"none\",error:1,toString:ka};var b,m,e,f,d;if(c=c.match(F)){c[2]&&(e=U(c[2].substring(5),16),m=U(c[2].substring(3,5),16),b=U(c[2].substring(1,3),16));c[3]&&(e=U((d=c[3].charAt(3))+d,16),m=U((d=c[3].charAt(2))+d,16),b=U((d=c[3].charAt(1))+d,16));c[4]&&(d=c[4].split(S),b=K(d[0]),\"%\"==d[0].slice(-1)&&(b*=2.55),m=K(d[1]),\"%\"==d[1].slice(-1)&&(m*=2.55),e=K(d[2]),\"%\"==d[2].slice(-1)&&(e*=2.55),\"rgba\"==c[1].toLowerCase().slice(0,4)&&(f=K(d[3])),\n",
       "d[3]&&\"%\"==d[3].slice(-1)&&(f/=100));if(c[5])return d=c[5].split(S),b=K(d[0]),\"%\"==d[0].slice(-1)&&(b/=100),m=K(d[1]),\"%\"==d[1].slice(-1)&&(m/=100),e=K(d[2]),\"%\"==d[2].slice(-1)&&(e/=100),\"deg\"!=d[0].slice(-3)&&\"\\u00b0\"!=d[0].slice(-1)||(b/=360),\"hsba\"==c[1].toLowerCase().slice(0,4)&&(f=K(d[3])),d[3]&&\"%\"==d[3].slice(-1)&&(f/=100),a.hsb2rgb(b,m,e,f);if(c[6])return d=c[6].split(S),b=K(d[0]),\"%\"==d[0].slice(-1)&&(b/=100),m=K(d[1]),\"%\"==d[1].slice(-1)&&(m/=100),e=K(d[2]),\"%\"==d[2].slice(-1)&&(e/=100),\n",
       "\"deg\"!=d[0].slice(-3)&&\"\\u00b0\"!=d[0].slice(-1)||(b/=360),\"hsla\"==c[1].toLowerCase().slice(0,4)&&(f=K(d[3])),d[3]&&\"%\"==d[3].slice(-1)&&(f/=100),a.hsl2rgb(b,m,e,f);b=Q(I.round(b),255);m=Q(I.round(m),255);e=Q(I.round(e),255);f=Q(P(f,0),1);c={r:b,g:m,b:e,toString:ka};c.hex=\"#\"+(16777216|e|m<<8|b<<16).toString(16).slice(1);c.opacity=y(f,\"finite\")?f:1;return c}return{r:-1,g:-1,b:-1,hex:\"none\",error:1,toString:ka}},a);a.hsb=A(function(c,b,m){return a.hsb2rgb(c,b,m).hex});a.hsl=A(function(c,b,m){return a.hsl2rgb(c,\n",
       "b,m).hex});a.rgb=A(function(c,a,b,m){if(y(m,\"finite\")){var e=I.round;return\"rgba(\"+[e(c),e(a),e(b),+m.toFixed(2)]+\")\"}return\"#\"+(16777216|b|a<<8|c<<16).toString(16).slice(1)});var T=function(c){var a=G.doc.getElementsByTagName(\"head\")[0]||G.doc.getElementsByTagName(\"svg\")[0];T=A(function(c){if(\"red\"==c.toLowerCase())return\"rgb(255, 0, 0)\";a.style.color=\"rgb(255, 0, 0)\";a.style.color=c;c=G.doc.defaultView.getComputedStyle(a,aa).getPropertyValue(\"color\");return\"rgb(255, 0, 0)\"==c?null:c});return T(c)},\n",
       "qa=function(){return\"hsb(\"+[this.h,this.s,this.b]+\")\"},ra=function(){return\"hsl(\"+[this.h,this.s,this.l]+\")\"},ka=function(){return 1==this.opacity||null==this.opacity?this.hex:\"rgba(\"+[this.r,this.g,this.b,this.opacity]+\")\"},D=function(c,b,m){null==b&&y(c,\"object\")&&\"r\"in c&&\"g\"in c&&\"b\"in c&&(m=c.b,b=c.g,c=c.r);null==b&&y(c,string)&&(m=a.getRGB(c),c=m.r,b=m.g,m=m.b);if(1<c||1<b||1<m)c/=255,b/=255,m/=255;return[c,b,m]},oa=function(c,b,m,e){c=I.round(255*c);b=I.round(255*b);m=I.round(255*m);c={r:c,\n",
       "g:b,b:m,opacity:y(e,\"finite\")?e:1,hex:a.rgb(c,b,m),toString:ka};y(e,\"finite\")&&(c.opacity=e);return c};a.color=function(c){var b;y(c,\"object\")&&\"h\"in c&&\"s\"in c&&\"b\"in c?(b=a.hsb2rgb(c),c.r=b.r,c.g=b.g,c.b=b.b,c.opacity=1,c.hex=b.hex):y(c,\"object\")&&\"h\"in c&&\"s\"in c&&\"l\"in c?(b=a.hsl2rgb(c),c.r=b.r,c.g=b.g,c.b=b.b,c.opacity=1,c.hex=b.hex):(y(c,\"string\")&&(c=a.getRGB(c)),y(c,\"object\")&&\"r\"in c&&\"g\"in c&&\"b\"in c&&!(\"error\"in c)?(b=a.rgb2hsl(c),c.h=b.h,c.s=b.s,c.l=b.l,b=a.rgb2hsb(c),c.v=b.b):(c={hex:\"none\"},\n",
       "c.r=c.g=c.b=c.h=c.s=c.v=c.l=-1,c.error=1));c.toString=ka;return c};a.hsb2rgb=function(c,a,b,m){y(c,\"object\")&&\"h\"in c&&\"s\"in c&&\"b\"in c&&(b=c.b,a=c.s,c=c.h,m=c.o);var e,h,d;c=360*c%360/60;d=b*a;a=d*(1-Y(c%2-1));b=e=h=b-d;c=~~c;b+=[d,a,0,0,a,d][c];e+=[a,d,d,a,0,0][c];h+=[0,0,a,d,d,a][c];return oa(b,e,h,m)};a.hsl2rgb=function(c,a,b,m){y(c,\"object\")&&\"h\"in c&&\"s\"in c&&\"l\"in c&&(b=c.l,a=c.s,c=c.h);if(1<c||1<a||1<b)c/=360,a/=100,b/=100;var e,h,d;c=360*c%360/60;d=2*a*(0.5>b?b:1-b);a=d*(1-Y(c%2-1));b=e=\n",
       "h=b-d/2;c=~~c;b+=[d,a,0,0,a,d][c];e+=[a,d,d,a,0,0][c];h+=[0,0,a,d,d,a][c];return oa(b,e,h,m)};a.rgb2hsb=function(c,a,b){b=D(c,a,b);c=b[0];a=b[1];b=b[2];var m,e;m=P(c,a,b);e=m-Q(c,a,b);c=((0==e?0:m==c?(a-b)/e:m==a?(b-c)/e+2:(c-a)/e+4)+360)%6*60/360;return{h:c,s:0==e?0:e/m,b:m,toString:qa}};a.rgb2hsl=function(c,a,b){b=D(c,a,b);c=b[0];a=b[1];b=b[2];var m,e,h;m=P(c,a,b);e=Q(c,a,b);h=m-e;c=((0==h?0:m==c?(a-b)/h:m==a?(b-c)/h+2:(c-a)/h+4)+360)%6*60/360;m=(m+e)/2;return{h:c,s:0==h?0:0.5>m?h/(2*m):h/(2-2*\n",
       "m),l:m,toString:ra}};a.parsePathString=function(c){if(!c)return null;var b=a.path(c);if(b.arr)return a.path.clone(b.arr);var m={a:7,c:6,o:2,h:1,l:2,m:2,r:4,q:4,s:4,t:2,v:1,u:3,z:0},e=[];y(c,\"array\")&&y(c[0],\"array\")&&(e=a.path.clone(c));e.length||J(c).replace(W,function(c,a,b){var h=[];c=a.toLowerCase();b.replace(Z,function(c,a){a&&h.push(+a)});\"m\"==c&&2<h.length&&(e.push([a].concat(h.splice(0,2))),c=\"l\",a=\"m\"==a?\"l\":\"L\");\"o\"==c&&1==h.length&&e.push([a,h[0] ]);if(\"r\"==c)e.push([a].concat(h));else for(;h.length>=\n",
       "m[c]&&(e.push([a].concat(h.splice(0,m[c]))),m[c]););});e.toString=a.path.toString;b.arr=a.path.clone(e);return e};var O=a.parseTransformString=function(c){if(!c)return null;var b=[];y(c,\"array\")&&y(c[0],\"array\")&&(b=a.path.clone(c));b.length||J(c).replace(ma,function(c,a,m){var e=[];a.toLowerCase();m.replace(Z,function(c,a){a&&e.push(+a)});b.push([a].concat(e))});b.toString=a.path.toString;return b};a._.svgTransform2string=d;a._.rgTransform=RegExp(\"^[a-z][\\t\\n\\x0B\\f\\r \\u00a0\\u1680\\u180e\\u2000\\u2001\\u2002\\u2003\\u2004\\u2005\\u2006\\u2007\\u2008\\u2009\\u200a\\u202f\\u205f\\u3000\\u2028\\u2029]*-?\\\\.?\\\\d\",\n",
       "\"i\");a._.transform2matrix=f;a._unit2px=b;a._.getSomeDefs=u;a._.getSomeSVG=p;a.select=function(c){return x(G.doc.querySelector(c))};a.selectAll=function(c){c=G.doc.querySelectorAll(c);for(var b=(a.set||Array)(),m=0;m<c.length;m++)b.push(x(c[m]));return b};setInterval(function(){for(var c in E)if(E[h](c)){var a=E[c],b=a.node;(\"svg\"!=a.type&&!b.ownerSVGElement||\"svg\"==a.type&&(!b.parentNode||\"ownerSVGElement\"in b.parentNode&&!b.ownerSVGElement))&&delete E[c]}},1E4);(function(c){function m(c){function a(c,\n",
       "b){var m=v(c.node,b);(m=(m=m&&m.match(d))&&m[2])&&\"#\"==m.charAt()&&(m=m.substring(1))&&(f[m]=(f[m]||[]).concat(function(a){var m={};m[b]=ca(a);v(c.node,m)}))}function b(c){var a=v(c.node,\"xlink:href\");a&&\"#\"==a.charAt()&&(a=a.substring(1))&&(f[a]=(f[a]||[]).concat(function(a){c.attr(\"xlink:href\",\"#\"+a)}))}var e=c.selectAll(\"*\"),h,d=/^\\s*url\\((\"|'|)(.*)\\1\\)\\s*$/;c=[];for(var f={},l=0,E=e.length;l<E;l++){h=e[l];a(h,\"fill\");a(h,\"stroke\");a(h,\"filter\");a(h,\"mask\");a(h,\"clip-path\");b(h);var t=v(h.node,\n",
       "\"id\");t&&(v(h.node,{id:h.id}),c.push({old:t,id:h.id}))}l=0;for(E=c.length;l<E;l++)if(e=f[c[l].old])for(h=0,t=e.length;h<t;h++)e[h](c[l].id)}function e(c,a,b){return function(m){m=m.slice(c,a);1==m.length&&(m=m[0]);return b?b(m):m}}function d(c){return function(){var a=c?\"<\"+this.type:\"\",b=this.node.attributes,m=this.node.childNodes;if(c)for(var e=0,h=b.length;e<h;e++)a+=\" \"+b[e].name+'=\"'+b[e].value.replace(/\"/g,'\\\\\"')+'\"';if(m.length){c&&(a+=\">\");e=0;for(h=m.length;e<h;e++)3==m[e].nodeType?a+=m[e].nodeValue:\n",
       "1==m[e].nodeType&&(a+=x(m[e]).toString());c&&(a+=\"</\"+this.type+\">\")}else c&&(a+=\"/>\");return a}}c.attr=function(c,a){if(!c)return this;if(y(c,\"string\"))if(1<arguments.length){var b={};b[c]=a;c=b}else return k(\"snap.util.getattr.\"+c,this).firstDefined();for(var m in c)c[h](m)&&k(\"snap.util.attr.\"+m,this,c[m]);return this};c.getBBox=function(c){if(!a.Matrix||!a.path)return this.node.getBBox();var b=this,m=new a.Matrix;if(b.removed)return a._.box();for(;\"use\"==b.type;)if(c||(m=m.add(b.transform().localMatrix.translate(b.attr(\"x\")||\n",
       "0,b.attr(\"y\")||0))),b.original)b=b.original;else var e=b.attr(\"xlink:href\"),b=b.original=b.node.ownerDocument.getElementById(e.substring(e.indexOf(\"#\")+1));var e=b._,h=a.path.get[b.type]||a.path.get.deflt;try{if(c)return e.bboxwt=h?a.path.getBBox(b.realPath=h(b)):a._.box(b.node.getBBox()),a._.box(e.bboxwt);b.realPath=h(b);b.matrix=b.transform().localMatrix;e.bbox=a.path.getBBox(a.path.map(b.realPath,m.add(b.matrix)));return a._.box(e.bbox)}catch(d){return a._.box()}};var f=function(){return this.string};\n",
       "c.transform=function(c){var b=this._;if(null==c){var m=this;c=new a.Matrix(this.node.getCTM());for(var e=n(this),h=[e],d=new a.Matrix,l=e.toTransformString(),b=J(e)==J(this.matrix)?J(b.transform):l;\"svg\"!=m.type&&(m=m.parent());)h.push(n(m));for(m=h.length;m--;)d.add(h[m]);return{string:b,globalMatrix:c,totalMatrix:d,localMatrix:e,diffMatrix:c.clone().add(e.invert()),global:c.toTransformString(),total:d.toTransformString(),local:l,toString:f}}c instanceof a.Matrix?this.matrix=c:n(this,c);this.node&&\n",
       "(\"linearGradient\"==this.type||\"radialGradient\"==this.type?v(this.node,{gradientTransform:this.matrix}):\"pattern\"==this.type?v(this.node,{patternTransform:this.matrix}):v(this.node,{transform:this.matrix}));return this};c.parent=function(){return x(this.node.parentNode)};c.append=c.add=function(c){if(c){if(\"set\"==c.type){var a=this;c.forEach(function(c){a.add(c)});return this}c=x(c);this.node.appendChild(c.node);c.paper=this.paper}return this};c.appendTo=function(c){c&&(c=x(c),c.append(this));return this};\n",
       "c.prepend=function(c){if(c){if(\"set\"==c.type){var a=this,b;c.forEach(function(c){b?b.after(c):a.prepend(c);b=c});return this}c=x(c);var m=c.parent();this.node.insertBefore(c.node,this.node.firstChild);this.add&&this.add();c.paper=this.paper;this.parent()&&this.parent().add();m&&m.add()}return this};c.prependTo=function(c){c=x(c);c.prepend(this);return this};c.before=function(c){if(\"set\"==c.type){var a=this;c.forEach(function(c){var b=c.parent();a.node.parentNode.insertBefore(c.node,a.node);b&&b.add()});\n",
       "this.parent().add();return this}c=x(c);var b=c.parent();this.node.parentNode.insertBefore(c.node,this.node);this.parent()&&this.parent().add();b&&b.add();c.paper=this.paper;return this};c.after=function(c){c=x(c);var a=c.parent();this.node.nextSibling?this.node.parentNode.insertBefore(c.node,this.node.nextSibling):this.node.parentNode.appendChild(c.node);this.parent()&&this.parent().add();a&&a.add();c.paper=this.paper;return this};c.insertBefore=function(c){c=x(c);var a=this.parent();c.node.parentNode.insertBefore(this.node,\n",
       "c.node);this.paper=c.paper;a&&a.add();c.parent()&&c.parent().add();return this};c.insertAfter=function(c){c=x(c);var a=this.parent();c.node.parentNode.insertBefore(this.node,c.node.nextSibling);this.paper=c.paper;a&&a.add();c.parent()&&c.parent().add();return this};c.remove=function(){var c=this.parent();this.node.parentNode&&this.node.parentNode.removeChild(this.node);delete this.paper;this.removed=!0;c&&c.add();return this};c.select=function(c){return x(this.node.querySelector(c))};c.selectAll=\n",
       "function(c){c=this.node.querySelectorAll(c);for(var b=(a.set||Array)(),m=0;m<c.length;m++)b.push(x(c[m]));return b};c.asPX=function(c,a){null==a&&(a=this.attr(c));return+b(this,c,a)};c.use=function(){var c,a=this.node.id;a||(a=this.id,v(this.node,{id:a}));c=\"linearGradient\"==this.type||\"radialGradient\"==this.type||\"pattern\"==this.type?r(this.type,this.node.parentNode):r(\"use\",this.node.parentNode);v(c.node,{\"xlink:href\":\"#\"+a});c.original=this;return c};var l=/\\S+/g;c.addClass=function(c){var a=(c||\n",
       "\"\").match(l)||[];c=this.node;var b=c.className.baseVal,m=b.match(l)||[],e,h,d;if(a.length){for(e=0;d=a[e++];)h=m.indexOf(d),~h||m.push(d);a=m.join(\" \");b!=a&&(c.className.baseVal=a)}return this};c.removeClass=function(c){var a=(c||\"\").match(l)||[];c=this.node;var b=c.className.baseVal,m=b.match(l)||[],e,h;if(m.length){for(e=0;h=a[e++];)h=m.indexOf(h),~h&&m.splice(h,1);a=m.join(\" \");b!=a&&(c.className.baseVal=a)}return this};c.hasClass=function(c){return!!~(this.node.className.baseVal.match(l)||[]).indexOf(c)};\n",
       "c.toggleClass=function(c,a){if(null!=a)return a?this.addClass(c):this.removeClass(c);var b=(c||\"\").match(l)||[],m=this.node,e=m.className.baseVal,h=e.match(l)||[],d,f,E;for(d=0;E=b[d++];)f=h.indexOf(E),~f?h.splice(f,1):h.push(E);b=h.join(\" \");e!=b&&(m.className.baseVal=b);return this};c.clone=function(){var c=x(this.node.cloneNode(!0));v(c.node,\"id\")&&v(c.node,{id:c.id});m(c);c.insertAfter(this);return c};c.toDefs=function(){u(this).appendChild(this.node);return this};c.pattern=c.toPattern=function(c,\n",
       "a,b,m){var e=r(\"pattern\",u(this));null==c&&(c=this.getBBox());y(c,\"object\")&&\"x\"in c&&(a=c.y,b=c.width,m=c.height,c=c.x);v(e.node,{x:c,y:a,width:b,height:m,patternUnits:\"userSpaceOnUse\",id:e.id,viewBox:[c,a,b,m].join(\" \")});e.node.appendChild(this.node);return e};c.marker=function(c,a,b,m,e,h){var d=r(\"marker\",u(this));null==c&&(c=this.getBBox());y(c,\"object\")&&\"x\"in c&&(a=c.y,b=c.width,m=c.height,e=c.refX||c.cx,h=c.refY||c.cy,c=c.x);v(d.node,{viewBox:[c,a,b,m].join(\" \"),markerWidth:b,markerHeight:m,\n",
       "orient:\"auto\",refX:e||0,refY:h||0,id:d.id});d.node.appendChild(this.node);return d};var E=function(c,a,b,m){\"function\"!=typeof b||b.length||(m=b,b=L.linear);this.attr=c;this.dur=a;b&&(this.easing=b);m&&(this.callback=m)};a._.Animation=E;a.animation=function(c,a,b,m){return new E(c,a,b,m)};c.inAnim=function(){var c=[],a;for(a in this.anims)this.anims[h](a)&&function(a){c.push({anim:new E(a._attrs,a.dur,a.easing,a._callback),mina:a,curStatus:a.status(),status:function(c){return a.status(c)},stop:function(){a.stop()}})}(this.anims[a]);\n",
       "return c};a.animate=function(c,a,b,m,e,h){\"function\"!=typeof e||e.length||(h=e,e=L.linear);var d=L.time();c=L(c,a,d,d+m,L.time,b,e);h&&k.once(\"mina.finish.\"+c.id,h);return c};c.stop=function(){for(var c=this.inAnim(),a=0,b=c.length;a<b;a++)c[a].stop();return this};c.animate=function(c,a,b,m){\"function\"!=typeof b||b.length||(m=b,b=L.linear);c instanceof E&&(m=c.callback,b=c.easing,a=b.dur,c=c.attr);var d=[],f=[],l={},t,ca,n,T=this,q;for(q in c)if(c[h](q)){T.equal?(n=T.equal(q,J(c[q])),t=n.from,ca=\n",
       "n.to,n=n.f):(t=+T.attr(q),ca=+c[q]);var la=y(t,\"array\")?t.length:1;l[q]=e(d.length,d.length+la,n);d=d.concat(t);f=f.concat(ca)}t=L.time();var p=L(d,f,t,t+a,L.time,function(c){var a={},b;for(b in l)l[h](b)&&(a[b]=l[b](c));T.attr(a)},b);T.anims[p.id]=p;p._attrs=c;p._callback=m;k(\"snap.animcreated.\"+T.id,p);k.once(\"mina.finish.\"+p.id,function(){delete T.anims[p.id];m&&m.call(T)});k.once(\"mina.stop.\"+p.id,function(){delete T.anims[p.id]});return T};var T={};c.data=function(c,b){var m=T[this.id]=T[this.id]||\n",
       "{};if(0==arguments.length)return k(\"snap.data.get.\"+this.id,this,m,null),m;if(1==arguments.length){if(a.is(c,\"object\")){for(var e in c)c[h](e)&&this.data(e,c[e]);return this}k(\"snap.data.get.\"+this.id,this,m[c],c);return m[c]}m[c]=b;k(\"snap.data.set.\"+this.id,this,b,c);return this};c.removeData=function(c){null==c?T[this.id]={}:T[this.id]&&delete T[this.id][c];return this};c.outerSVG=c.toString=d(1);c.innerSVG=d()})(e.prototype);a.parse=function(c){var a=G.doc.createDocumentFragment(),b=!0,m=G.doc.createElement(\"div\");\n",
       "c=J(c);c.match(/^\\s*<\\s*svg(?:\\s|>)/)||(c=\"<svg>\"+c+\"</svg>\",b=!1);m.innerHTML=c;if(c=m.getElementsByTagName(\"svg\")[0])if(b)a=c;else for(;c.firstChild;)a.appendChild(c.firstChild);m.innerHTML=aa;return new l(a)};l.prototype.select=e.prototype.select;l.prototype.selectAll=e.prototype.selectAll;a.fragment=function(){for(var c=Array.prototype.slice.call(arguments,0),b=G.doc.createDocumentFragment(),m=0,e=c.length;m<e;m++){var h=c[m];h.node&&h.node.nodeType&&b.appendChild(h.node);h.nodeType&&b.appendChild(h);\n",
       "\"string\"==typeof h&&b.appendChild(a.parse(h).node)}return new l(b)};a._.make=r;a._.wrap=x;s.prototype.el=function(c,a){var b=r(c,this.node);a&&b.attr(a);return b};k.on(\"snap.util.getattr\",function(){var c=k.nt(),c=c.substring(c.lastIndexOf(\".\")+1),a=c.replace(/[A-Z]/g,function(c){return\"-\"+c.toLowerCase()});return pa[h](a)?this.node.ownerDocument.defaultView.getComputedStyle(this.node,null).getPropertyValue(a):v(this.node,c)});var pa={\"alignment-baseline\":0,\"baseline-shift\":0,clip:0,\"clip-path\":0,\n",
       "\"clip-rule\":0,color:0,\"color-interpolation\":0,\"color-interpolation-filters\":0,\"color-profile\":0,\"color-rendering\":0,cursor:0,direction:0,display:0,\"dominant-baseline\":0,\"enable-background\":0,fill:0,\"fill-opacity\":0,\"fill-rule\":0,filter:0,\"flood-color\":0,\"flood-opacity\":0,font:0,\"font-family\":0,\"font-size\":0,\"font-size-adjust\":0,\"font-stretch\":0,\"font-style\":0,\"font-variant\":0,\"font-weight\":0,\"glyph-orientation-horizontal\":0,\"glyph-orientation-vertical\":0,\"image-rendering\":0,kerning:0,\"letter-spacing\":0,\n",
       "\"lighting-color\":0,marker:0,\"marker-end\":0,\"marker-mid\":0,\"marker-start\":0,mask:0,opacity:0,overflow:0,\"pointer-events\":0,\"shape-rendering\":0,\"stop-color\":0,\"stop-opacity\":0,stroke:0,\"stroke-dasharray\":0,\"stroke-dashoffset\":0,\"stroke-linecap\":0,\"stroke-linejoin\":0,\"stroke-miterlimit\":0,\"stroke-opacity\":0,\"stroke-width\":0,\"text-anchor\":0,\"text-decoration\":0,\"text-rendering\":0,\"unicode-bidi\":0,visibility:0,\"word-spacing\":0,\"writing-mode\":0};k.on(\"snap.util.attr\",function(c){var a=k.nt(),b={},a=a.substring(a.lastIndexOf(\".\")+\n",
       "1);b[a]=c;var m=a.replace(/-(\\w)/gi,function(c,a){return a.toUpperCase()}),a=a.replace(/[A-Z]/g,function(c){return\"-\"+c.toLowerCase()});pa[h](a)?this.node.style[m]=null==c?aa:c:v(this.node,b)});a.ajax=function(c,a,b,m){var e=new XMLHttpRequest,h=V();if(e){if(y(a,\"function\"))m=b,b=a,a=null;else if(y(a,\"object\")){var d=[],f;for(f in a)a.hasOwnProperty(f)&&d.push(encodeURIComponent(f)+\"=\"+encodeURIComponent(a[f]));a=d.join(\"&\")}e.open(a?\"POST\":\"GET\",c,!0);a&&(e.setRequestHeader(\"X-Requested-With\",\"XMLHttpRequest\"),\n",
       "e.setRequestHeader(\"Content-type\",\"application/x-www-form-urlencoded\"));b&&(k.once(\"snap.ajax.\"+h+\".0\",b),k.once(\"snap.ajax.\"+h+\".200\",b),k.once(\"snap.ajax.\"+h+\".304\",b));e.onreadystatechange=function(){4==e.readyState&&k(\"snap.ajax.\"+h+\".\"+e.status,m,e)};if(4==e.readyState)return e;e.send(a);return e}};a.load=function(c,b,m){a.ajax(c,function(c){c=a.parse(c.responseText);m?b.call(m,c):b(c)})};a.getElementByPoint=function(c,a){var b,m,e=G.doc.elementFromPoint(c,a);if(G.win.opera&&\"svg\"==e.tagName){b=\n",
       "e;m=b.getBoundingClientRect();b=b.ownerDocument;var h=b.body,d=b.documentElement;b=m.top+(g.win.pageYOffset||d.scrollTop||h.scrollTop)-(d.clientTop||h.clientTop||0);m=m.left+(g.win.pageXOffset||d.scrollLeft||h.scrollLeft)-(d.clientLeft||h.clientLeft||0);h=e.createSVGRect();h.x=c-m;h.y=a-b;h.width=h.height=1;b=e.getIntersectionList(h,null);b.length&&(e=b[b.length-1])}return e?x(e):null};a.plugin=function(c){c(a,e,s,G,l)};return G.win.Snap=a}();C.plugin(function(a,k,y,M,A){function w(a,d,f,b,q,e){null==\n",
       "d&&\"[object SVGMatrix]\"==z.call(a)?(this.a=a.a,this.b=a.b,this.c=a.c,this.d=a.d,this.e=a.e,this.f=a.f):null!=a?(this.a=+a,this.b=+d,this.c=+f,this.d=+b,this.e=+q,this.f=+e):(this.a=1,this.c=this.b=0,this.d=1,this.f=this.e=0)}var z=Object.prototype.toString,d=String,f=Math;(function(n){function k(a){return a[0]*a[0]+a[1]*a[1]}function p(a){var d=f.sqrt(k(a));a[0]&&(a[0]/=d);a[1]&&(a[1]/=d)}n.add=function(a,d,e,f,n,p){var k=[[],[],[] ],u=[[this.a,this.c,this.e],[this.b,this.d,this.f],[0,0,1] ];d=[[a,\n",
       "e,n],[d,f,p],[0,0,1] ];a&&a instanceof w&&(d=[[a.a,a.c,a.e],[a.b,a.d,a.f],[0,0,1] ]);for(a=0;3>a;a++)for(e=0;3>e;e++){for(f=n=0;3>f;f++)n+=u[a][f]*d[f][e];k[a][e]=n}this.a=k[0][0];this.b=k[1][0];this.c=k[0][1];this.d=k[1][1];this.e=k[0][2];this.f=k[1][2];return this};n.invert=function(){var a=this.a*this.d-this.b*this.c;return new w(this.d/a,-this.b/a,-this.c/a,this.a/a,(this.c*this.f-this.d*this.e)/a,(this.b*this.e-this.a*this.f)/a)};n.clone=function(){return new w(this.a,this.b,this.c,this.d,this.e,\n",
       "this.f)};n.translate=function(a,d){return this.add(1,0,0,1,a,d)};n.scale=function(a,d,e,f){null==d&&(d=a);(e||f)&&this.add(1,0,0,1,e,f);this.add(a,0,0,d,0,0);(e||f)&&this.add(1,0,0,1,-e,-f);return this};n.rotate=function(b,d,e){b=a.rad(b);d=d||0;e=e||0;var l=+f.cos(b).toFixed(9);b=+f.sin(b).toFixed(9);this.add(l,b,-b,l,d,e);return this.add(1,0,0,1,-d,-e)};n.x=function(a,d){return a*this.a+d*this.c+this.e};n.y=function(a,d){return a*this.b+d*this.d+this.f};n.get=function(a){return+this[d.fromCharCode(97+\n",
       "a)].toFixed(4)};n.toString=function(){return\"matrix(\"+[this.get(0),this.get(1),this.get(2),this.get(3),this.get(4),this.get(5)].join()+\")\"};n.offset=function(){return[this.e.toFixed(4),this.f.toFixed(4)]};n.determinant=function(){return this.a*this.d-this.b*this.c};n.split=function(){var b={};b.dx=this.e;b.dy=this.f;var d=[[this.a,this.c],[this.b,this.d] ];b.scalex=f.sqrt(k(d[0]));p(d[0]);b.shear=d[0][0]*d[1][0]+d[0][1]*d[1][1];d[1]=[d[1][0]-d[0][0]*b.shear,d[1][1]-d[0][1]*b.shear];b.scaley=f.sqrt(k(d[1]));\n",
       "p(d[1]);b.shear/=b.scaley;0>this.determinant()&&(b.scalex=-b.scalex);var e=-d[0][1],d=d[1][1];0>d?(b.rotate=a.deg(f.acos(d)),0>e&&(b.rotate=360-b.rotate)):b.rotate=a.deg(f.asin(e));b.isSimple=!+b.shear.toFixed(9)&&(b.scalex.toFixed(9)==b.scaley.toFixed(9)||!b.rotate);b.isSuperSimple=!+b.shear.toFixed(9)&&b.scalex.toFixed(9)==b.scaley.toFixed(9)&&!b.rotate;b.noRotation=!+b.shear.toFixed(9)&&!b.rotate;return b};n.toTransformString=function(a){a=a||this.split();if(+a.shear.toFixed(9))return\"m\"+[this.get(0),\n",
       "this.get(1),this.get(2),this.get(3),this.get(4),this.get(5)];a.scalex=+a.scalex.toFixed(4);a.scaley=+a.scaley.toFixed(4);a.rotate=+a.rotate.toFixed(4);return(a.dx||a.dy?\"t\"+[+a.dx.toFixed(4),+a.dy.toFixed(4)]:\"\")+(1!=a.scalex||1!=a.scaley?\"s\"+[a.scalex,a.scaley,0,0]:\"\")+(a.rotate?\"r\"+[+a.rotate.toFixed(4),0,0]:\"\")}})(w.prototype);a.Matrix=w;a.matrix=function(a,d,f,b,k,e){return new w(a,d,f,b,k,e)}});C.plugin(function(a,v,y,M,A){function w(h){return function(d){k.stop();d instanceof A&&1==d.node.childNodes.length&&\n",
       "(\"radialGradient\"==d.node.firstChild.tagName||\"linearGradient\"==d.node.firstChild.tagName||\"pattern\"==d.node.firstChild.tagName)&&(d=d.node.firstChild,b(this).appendChild(d),d=u(d));if(d instanceof v)if(\"radialGradient\"==d.type||\"linearGradient\"==d.type||\"pattern\"==d.type){d.node.id||e(d.node,{id:d.id});var f=l(d.node.id)}else f=d.attr(h);else f=a.color(d),f.error?(f=a(b(this).ownerSVGElement).gradient(d))?(f.node.id||e(f.node,{id:f.id}),f=l(f.node.id)):f=d:f=r(f);d={};d[h]=f;e(this.node,d);this.node.style[h]=\n",
       "x}}function z(a){k.stop();a==+a&&(a+=\"px\");this.node.style.fontSize=a}function d(a){var b=[];a=a.childNodes;for(var e=0,f=a.length;e<f;e++){var l=a[e];3==l.nodeType&&b.push(l.nodeValue);\"tspan\"==l.tagName&&(1==l.childNodes.length&&3==l.firstChild.nodeType?b.push(l.firstChild.nodeValue):b.push(d(l)))}return b}function f(){k.stop();return this.node.style.fontSize}var n=a._.make,u=a._.wrap,p=a.is,b=a._.getSomeDefs,q=/^url\\(#?([^)]+)\\)$/,e=a._.$,l=a.url,r=String,s=a._.separator,x=\"\";k.on(\"snap.util.attr.mask\",\n",
       "function(a){if(a instanceof v||a instanceof A){k.stop();a instanceof A&&1==a.node.childNodes.length&&(a=a.node.firstChild,b(this).appendChild(a),a=u(a));if(\"mask\"==a.type)var d=a;else d=n(\"mask\",b(this)),d.node.appendChild(a.node);!d.node.id&&e(d.node,{id:d.id});e(this.node,{mask:l(d.id)})}});(function(a){k.on(\"snap.util.attr.clip\",a);k.on(\"snap.util.attr.clip-path\",a);k.on(\"snap.util.attr.clipPath\",a)})(function(a){if(a instanceof v||a instanceof A){k.stop();if(\"clipPath\"==a.type)var d=a;else d=\n",
       "n(\"clipPath\",b(this)),d.node.appendChild(a.node),!d.node.id&&e(d.node,{id:d.id});e(this.node,{\"clip-path\":l(d.id)})}});k.on(\"snap.util.attr.fill\",w(\"fill\"));k.on(\"snap.util.attr.stroke\",w(\"stroke\"));var G=/^([lr])(?:\\(([^)]*)\\))?(.*)$/i;k.on(\"snap.util.grad.parse\",function(a){a=r(a);var b=a.match(G);if(!b)return null;a=b[1];var e=b[2],b=b[3],e=e.split(/\\s*,\\s*/).map(function(a){return+a==a?+a:a});1==e.length&&0==e[0]&&(e=[]);b=b.split(\"-\");b=b.map(function(a){a=a.split(\":\");var b={color:a[0]};a[1]&&\n",
       "(b.offset=parseFloat(a[1]));return b});return{type:a,params:e,stops:b}});k.on(\"snap.util.attr.d\",function(b){k.stop();p(b,\"array\")&&p(b[0],\"array\")&&(b=a.path.toString.call(b));b=r(b);b.match(/[ruo]/i)&&(b=a.path.toAbsolute(b));e(this.node,{d:b})})(-1);k.on(\"snap.util.attr.#text\",function(a){k.stop();a=r(a);for(a=M.doc.createTextNode(a);this.node.firstChild;)this.node.removeChild(this.node.firstChild);this.node.appendChild(a)})(-1);k.on(\"snap.util.attr.path\",function(a){k.stop();this.attr({d:a})})(-1);\n",
       "k.on(\"snap.util.attr.class\",function(a){k.stop();this.node.className.baseVal=a})(-1);k.on(\"snap.util.attr.viewBox\",function(a){a=p(a,\"object\")&&\"x\"in a?[a.x,a.y,a.width,a.height].join(\" \"):p(a,\"array\")?a.join(\" \"):a;e(this.node,{viewBox:a});k.stop()})(-1);k.on(\"snap.util.attr.transform\",function(a){this.transform(a);k.stop()})(-1);k.on(\"snap.util.attr.r\",function(a){\"rect\"==this.type&&(k.stop(),e(this.node,{rx:a,ry:a}))})(-1);k.on(\"snap.util.attr.textpath\",function(a){k.stop();if(\"text\"==this.type){var d,\n",
       "f;if(!a&&this.textPath){for(a=this.textPath;a.node.firstChild;)this.node.appendChild(a.node.firstChild);a.remove();delete this.textPath}else if(p(a,\"string\")?(d=b(this),a=u(d.parentNode).path(a),d.appendChild(a.node),d=a.id,a.attr({id:d})):(a=u(a),a instanceof v&&(d=a.attr(\"id\"),d||(d=a.id,a.attr({id:d})))),d)if(a=this.textPath,f=this.node,a)a.attr({\"xlink:href\":\"#\"+d});else{for(a=e(\"textPath\",{\"xlink:href\":\"#\"+d});f.firstChild;)a.appendChild(f.firstChild);f.appendChild(a);this.textPath=u(a)}}})(-1);\n",
       "k.on(\"snap.util.attr.text\",function(a){if(\"text\"==this.type){for(var b=this.node,d=function(a){var b=e(\"tspan\");if(p(a,\"array\"))for(var f=0;f<a.length;f++)b.appendChild(d(a[f]));else b.appendChild(M.doc.createTextNode(a));b.normalize&&b.normalize();return b};b.firstChild;)b.removeChild(b.firstChild);for(a=d(a);a.firstChild;)b.appendChild(a.firstChild)}k.stop()})(-1);k.on(\"snap.util.attr.fontSize\",z)(-1);k.on(\"snap.util.attr.font-size\",z)(-1);k.on(\"snap.util.getattr.transform\",function(){k.stop();\n",
       "return this.transform()})(-1);k.on(\"snap.util.getattr.textpath\",function(){k.stop();return this.textPath})(-1);(function(){function b(d){return function(){k.stop();var b=M.doc.defaultView.getComputedStyle(this.node,null).getPropertyValue(\"marker-\"+d);return\"none\"==b?b:a(M.doc.getElementById(b.match(q)[1]))}}function d(a){return function(b){k.stop();var d=\"marker\"+a.charAt(0).toUpperCase()+a.substring(1);if(\"\"==b||!b)this.node.style[d]=\"none\";else if(\"marker\"==b.type){var f=b.node.id;f||e(b.node,{id:b.id});\n",
       "this.node.style[d]=l(f)}}}k.on(\"snap.util.getattr.marker-end\",b(\"end\"))(-1);k.on(\"snap.util.getattr.markerEnd\",b(\"end\"))(-1);k.on(\"snap.util.getattr.marker-start\",b(\"start\"))(-1);k.on(\"snap.util.getattr.markerStart\",b(\"start\"))(-1);k.on(\"snap.util.getattr.marker-mid\",b(\"mid\"))(-1);k.on(\"snap.util.getattr.markerMid\",b(\"mid\"))(-1);k.on(\"snap.util.attr.marker-end\",d(\"end\"))(-1);k.on(\"snap.util.attr.markerEnd\",d(\"end\"))(-1);k.on(\"snap.util.attr.marker-start\",d(\"start\"))(-1);k.on(\"snap.util.attr.markerStart\",\n",
       "d(\"start\"))(-1);k.on(\"snap.util.attr.marker-mid\",d(\"mid\"))(-1);k.on(\"snap.util.attr.markerMid\",d(\"mid\"))(-1)})();k.on(\"snap.util.getattr.r\",function(){if(\"rect\"==this.type&&e(this.node,\"rx\")==e(this.node,\"ry\"))return k.stop(),e(this.node,\"rx\")})(-1);k.on(\"snap.util.getattr.text\",function(){if(\"text\"==this.type||\"tspan\"==this.type){k.stop();var a=d(this.node);return 1==a.length?a[0]:a}})(-1);k.on(\"snap.util.getattr.#text\",function(){return this.node.textContent})(-1);k.on(\"snap.util.getattr.viewBox\",\n",
       "function(){k.stop();var b=e(this.node,\"viewBox\");if(b)return b=b.split(s),a._.box(+b[0],+b[1],+b[2],+b[3])})(-1);k.on(\"snap.util.getattr.points\",function(){var a=e(this.node,\"points\");k.stop();if(a)return a.split(s)})(-1);k.on(\"snap.util.getattr.path\",function(){var a=e(this.node,\"d\");k.stop();return a})(-1);k.on(\"snap.util.getattr.class\",function(){return this.node.className.baseVal})(-1);k.on(\"snap.util.getattr.fontSize\",f)(-1);k.on(\"snap.util.getattr.font-size\",f)(-1)});C.plugin(function(a,v,y,\n",
       "M,A){function w(a){return a}function z(a){return function(b){return+b.toFixed(3)+a}}var d={\"+\":function(a,b){return a+b},\"-\":function(a,b){return a-b},\"/\":function(a,b){return a/b},\"*\":function(a,b){return a*b}},f=String,n=/[a-z]+$/i,u=/^\\s*([+\\-\\/*])\\s*=\\s*([\\d.eE+\\-]+)\\s*([^\\d\\s]+)?\\s*$/;k.on(\"snap.util.attr\",function(a){if(a=f(a).match(u)){var b=k.nt(),b=b.substring(b.lastIndexOf(\".\")+1),q=this.attr(b),e={};k.stop();var l=a[3]||\"\",r=q.match(n),s=d[a[1] ];r&&r==l?a=s(parseFloat(q),+a[2]):(q=this.asPX(b),\n",
       "a=s(this.asPX(b),this.asPX(b,a[2]+l)));isNaN(q)||isNaN(a)||(e[b]=a,this.attr(e))}})(-10);k.on(\"snap.util.equal\",function(a,b){var q=f(this.attr(a)||\"\"),e=f(b).match(u);if(e){k.stop();var l=e[3]||\"\",r=q.match(n),s=d[e[1] ];if(r&&r==l)return{from:parseFloat(q),to:s(parseFloat(q),+e[2]),f:z(r)};q=this.asPX(a);return{from:q,to:s(q,this.asPX(a,e[2]+l)),f:w}}})(-10)});C.plugin(function(a,v,y,M,A){var w=y.prototype,z=a.is;w.rect=function(a,d,k,p,b,q){var e;null==q&&(q=b);z(a,\"object\")&&\"[object Object]\"==\n",
       "a?e=a:null!=a&&(e={x:a,y:d,width:k,height:p},null!=b&&(e.rx=b,e.ry=q));return this.el(\"rect\",e)};w.circle=function(a,d,k){var p;z(a,\"object\")&&\"[object Object]\"==a?p=a:null!=a&&(p={cx:a,cy:d,r:k});return this.el(\"circle\",p)};var d=function(){function a(){this.parentNode.removeChild(this)}return function(d,k){var p=M.doc.createElement(\"img\"),b=M.doc.body;p.style.cssText=\"position:absolute;left:-9999em;top:-9999em\";p.onload=function(){k.call(p);p.onload=p.onerror=null;b.removeChild(p)};p.onerror=a;\n",
       "b.appendChild(p);p.src=d}}();w.image=function(f,n,k,p,b){var q=this.el(\"image\");if(z(f,\"object\")&&\"src\"in f)q.attr(f);else if(null!=f){var e={\"xlink:href\":f,preserveAspectRatio:\"none\"};null!=n&&null!=k&&(e.x=n,e.y=k);null!=p&&null!=b?(e.width=p,e.height=b):d(f,function(){a._.$(q.node,{width:this.offsetWidth,height:this.offsetHeight})});a._.$(q.node,e)}return q};w.ellipse=function(a,d,k,p){var b;z(a,\"object\")&&\"[object Object]\"==a?b=a:null!=a&&(b={cx:a,cy:d,rx:k,ry:p});return this.el(\"ellipse\",b)};\n",
       "w.path=function(a){var d;z(a,\"object\")&&!z(a,\"array\")?d=a:a&&(d={d:a});return this.el(\"path\",d)};w.group=w.g=function(a){var d=this.el(\"g\");1==arguments.length&&a&&!a.type?d.attr(a):arguments.length&&d.add(Array.prototype.slice.call(arguments,0));return d};w.svg=function(a,d,k,p,b,q,e,l){var r={};z(a,\"object\")&&null==d?r=a:(null!=a&&(r.x=a),null!=d&&(r.y=d),null!=k&&(r.width=k),null!=p&&(r.height=p),null!=b&&null!=q&&null!=e&&null!=l&&(r.viewBox=[b,q,e,l]));return this.el(\"svg\",r)};w.mask=function(a){var d=\n",
       "this.el(\"mask\");1==arguments.length&&a&&!a.type?d.attr(a):arguments.length&&d.add(Array.prototype.slice.call(arguments,0));return d};w.ptrn=function(a,d,k,p,b,q,e,l){if(z(a,\"object\"))var r=a;else arguments.length?(r={},null!=a&&(r.x=a),null!=d&&(r.y=d),null!=k&&(r.width=k),null!=p&&(r.height=p),null!=b&&null!=q&&null!=e&&null!=l&&(r.viewBox=[b,q,e,l])):r={patternUnits:\"userSpaceOnUse\"};return this.el(\"pattern\",r)};w.use=function(a){return null!=a?(make(\"use\",this.node),a instanceof v&&(a.attr(\"id\")||\n",
       "a.attr({id:ID()}),a=a.attr(\"id\")),this.el(\"use\",{\"xlink:href\":a})):v.prototype.use.call(this)};w.text=function(a,d,k){var p={};z(a,\"object\")?p=a:null!=a&&(p={x:a,y:d,text:k||\"\"});return this.el(\"text\",p)};w.line=function(a,d,k,p){var b={};z(a,\"object\")?b=a:null!=a&&(b={x1:a,x2:k,y1:d,y2:p});return this.el(\"line\",b)};w.polyline=function(a){1<arguments.length&&(a=Array.prototype.slice.call(arguments,0));var d={};z(a,\"object\")&&!z(a,\"array\")?d=a:null!=a&&(d={points:a});return this.el(\"polyline\",d)};\n",
       "w.polygon=function(a){1<arguments.length&&(a=Array.prototype.slice.call(arguments,0));var d={};z(a,\"object\")&&!z(a,\"array\")?d=a:null!=a&&(d={points:a});return this.el(\"polygon\",d)};(function(){function d(){return this.selectAll(\"stop\")}function n(b,d){var f=e(\"stop\"),k={offset:+d+\"%\"};b=a.color(b);k[\"stop-color\"]=b.hex;1>b.opacity&&(k[\"stop-opacity\"]=b.opacity);e(f,k);this.node.appendChild(f);return this}function u(){if(\"linearGradient\"==this.type){var b=e(this.node,\"x1\")||0,d=e(this.node,\"x2\")||\n",
       "1,f=e(this.node,\"y1\")||0,k=e(this.node,\"y2\")||0;return a._.box(b,f,math.abs(d-b),math.abs(k-f))}b=this.node.r||0;return a._.box((this.node.cx||0.5)-b,(this.node.cy||0.5)-b,2*b,2*b)}function p(a,d){function f(a,b){for(var d=(b-u)/(a-w),e=w;e<a;e++)h[e].offset=+(+u+d*(e-w)).toFixed(2);w=a;u=b}var n=k(\"snap.util.grad.parse\",null,d).firstDefined(),p;if(!n)return null;n.params.unshift(a);p=\"l\"==n.type.toLowerCase()?b.apply(0,n.params):q.apply(0,n.params);n.type!=n.type.toLowerCase()&&e(p.node,{gradientUnits:\"userSpaceOnUse\"});\n",
       "var h=n.stops,n=h.length,u=0,w=0;n--;for(var v=0;v<n;v++)\"offset\"in h[v]&&f(v,h[v].offset);h[n].offset=h[n].offset||100;f(n,h[n].offset);for(v=0;v<=n;v++){var y=h[v];p.addStop(y.color,y.offset)}return p}function b(b,k,p,q,w){b=a._.make(\"linearGradient\",b);b.stops=d;b.addStop=n;b.getBBox=u;null!=k&&e(b.node,{x1:k,y1:p,x2:q,y2:w});return b}function q(b,k,p,q,w,h){b=a._.make(\"radialGradient\",b);b.stops=d;b.addStop=n;b.getBBox=u;null!=k&&e(b.node,{cx:k,cy:p,r:q});null!=w&&null!=h&&e(b.node,{fx:w,fy:h});\n",
       "return b}var e=a._.$;w.gradient=function(a){return p(this.defs,a)};w.gradientLinear=function(a,d,e,f){return b(this.defs,a,d,e,f)};w.gradientRadial=function(a,b,d,e,f){return q(this.defs,a,b,d,e,f)};w.toString=function(){var b=this.node.ownerDocument,d=b.createDocumentFragment(),b=b.createElement(\"div\"),e=this.node.cloneNode(!0);d.appendChild(b);b.appendChild(e);a._.$(e,{xmlns:\"http://www.w3.org/2000/svg\"});b=b.innerHTML;d.removeChild(d.firstChild);return b};w.clear=function(){for(var a=this.node.firstChild,\n",
       "b;a;)b=a.nextSibling,\"defs\"!=a.tagName?a.parentNode.removeChild(a):w.clear.call({node:a}),a=b}})()});C.plugin(function(a,k,y,M){function A(a){var b=A.ps=A.ps||{};b[a]?b[a].sleep=100:b[a]={sleep:100};setTimeout(function(){for(var d in b)b[L](d)&&d!=a&&(b[d].sleep--,!b[d].sleep&&delete b[d])});return b[a]}function w(a,b,d,e){null==a&&(a=b=d=e=0);null==b&&(b=a.y,d=a.width,e=a.height,a=a.x);return{x:a,y:b,width:d,w:d,height:e,h:e,x2:a+d,y2:b+e,cx:a+d/2,cy:b+e/2,r1:F.min(d,e)/2,r2:F.max(d,e)/2,r0:F.sqrt(d*\n",
       "d+e*e)/2,path:s(a,b,d,e),vb:[a,b,d,e].join(\" \")}}function z(){return this.join(\",\").replace(N,\"$1\")}function d(a){a=C(a);a.toString=z;return a}function f(a,b,d,h,f,k,l,n,p){if(null==p)return e(a,b,d,h,f,k,l,n);if(0>p||e(a,b,d,h,f,k,l,n)<p)p=void 0;else{var q=0.5,O=1-q,s;for(s=e(a,b,d,h,f,k,l,n,O);0.01<Z(s-p);)q/=2,O+=(s<p?1:-1)*q,s=e(a,b,d,h,f,k,l,n,O);p=O}return u(a,b,d,h,f,k,l,n,p)}function n(b,d){function e(a){return+(+a).toFixed(3)}return a._.cacher(function(a,h,l){a instanceof k&&(a=a.attr(\"d\"));\n",
       "a=I(a);for(var n,p,D,q,O=\"\",s={},c=0,t=0,r=a.length;t<r;t++){D=a[t];if(\"M\"==D[0])n=+D[1],p=+D[2];else{q=f(n,p,D[1],D[2],D[3],D[4],D[5],D[6]);if(c+q>h){if(d&&!s.start){n=f(n,p,D[1],D[2],D[3],D[4],D[5],D[6],h-c);O+=[\"C\"+e(n.start.x),e(n.start.y),e(n.m.x),e(n.m.y),e(n.x),e(n.y)];if(l)return O;s.start=O;O=[\"M\"+e(n.x),e(n.y)+\"C\"+e(n.n.x),e(n.n.y),e(n.end.x),e(n.end.y),e(D[5]),e(D[6])].join();c+=q;n=+D[5];p=+D[6];continue}if(!b&&!d)return n=f(n,p,D[1],D[2],D[3],D[4],D[5],D[6],h-c)}c+=q;n=+D[5];p=+D[6]}O+=\n",
       "D.shift()+D}s.end=O;return n=b?c:d?s:u(n,p,D[0],D[1],D[2],D[3],D[4],D[5],1)},null,a._.clone)}function u(a,b,d,e,h,f,k,l,n){var p=1-n,q=ma(p,3),s=ma(p,2),c=n*n,t=c*n,r=q*a+3*s*n*d+3*p*n*n*h+t*k,q=q*b+3*s*n*e+3*p*n*n*f+t*l,s=a+2*n*(d-a)+c*(h-2*d+a),t=b+2*n*(e-b)+c*(f-2*e+b),x=d+2*n*(h-d)+c*(k-2*h+d),c=e+2*n*(f-e)+c*(l-2*f+e);a=p*a+n*d;b=p*b+n*e;h=p*h+n*k;f=p*f+n*l;l=90-180*F.atan2(s-x,t-c)/S;return{x:r,y:q,m:{x:s,y:t},n:{x:x,y:c},start:{x:a,y:b},end:{x:h,y:f},alpha:l}}function p(b,d,e,h,f,n,k,l){a.is(b,\n",
       "\"array\")||(b=[b,d,e,h,f,n,k,l]);b=U.apply(null,b);return w(b.min.x,b.min.y,b.max.x-b.min.x,b.max.y-b.min.y)}function b(a,b,d){return b>=a.x&&b<=a.x+a.width&&d>=a.y&&d<=a.y+a.height}function q(a,d){a=w(a);d=w(d);return b(d,a.x,a.y)||b(d,a.x2,a.y)||b(d,a.x,a.y2)||b(d,a.x2,a.y2)||b(a,d.x,d.y)||b(a,d.x2,d.y)||b(a,d.x,d.y2)||b(a,d.x2,d.y2)||(a.x<d.x2&&a.x>d.x||d.x<a.x2&&d.x>a.x)&&(a.y<d.y2&&a.y>d.y||d.y<a.y2&&d.y>a.y)}function e(a,b,d,e,h,f,n,k,l){null==l&&(l=1);l=(1<l?1:0>l?0:l)/2;for(var p=[-0.1252,\n",
       "0.1252,-0.3678,0.3678,-0.5873,0.5873,-0.7699,0.7699,-0.9041,0.9041,-0.9816,0.9816],q=[0.2491,0.2491,0.2335,0.2335,0.2032,0.2032,0.1601,0.1601,0.1069,0.1069,0.0472,0.0472],s=0,c=0;12>c;c++)var t=l*p[c]+l,r=t*(t*(-3*a+9*d-9*h+3*n)+6*a-12*d+6*h)-3*a+3*d,t=t*(t*(-3*b+9*e-9*f+3*k)+6*b-12*e+6*f)-3*b+3*e,s=s+q[c]*F.sqrt(r*r+t*t);return l*s}function l(a,b,d){a=I(a);b=I(b);for(var h,f,l,n,k,s,r,O,x,c,t=d?0:[],w=0,v=a.length;w<v;w++)if(x=a[w],\"M\"==x[0])h=k=x[1],f=s=x[2];else{\"C\"==x[0]?(x=[h,f].concat(x.slice(1)),\n",
       "h=x[6],f=x[7]):(x=[h,f,h,f,k,s,k,s],h=k,f=s);for(var G=0,y=b.length;G<y;G++)if(c=b[G],\"M\"==c[0])l=r=c[1],n=O=c[2];else{\"C\"==c[0]?(c=[l,n].concat(c.slice(1)),l=c[6],n=c[7]):(c=[l,n,l,n,r,O,r,O],l=r,n=O);var z;var K=x,B=c;z=d;var H=p(K),J=p(B);if(q(H,J)){for(var H=e.apply(0,K),J=e.apply(0,B),H=~~(H/8),J=~~(J/8),U=[],A=[],F={},M=z?0:[],P=0;P<H+1;P++){var C=u.apply(0,K.concat(P/H));U.push({x:C.x,y:C.y,t:P/H})}for(P=0;P<J+1;P++)C=u.apply(0,B.concat(P/J)),A.push({x:C.x,y:C.y,t:P/J});for(P=0;P<H;P++)for(K=\n",
       "0;K<J;K++){var Q=U[P],L=U[P+1],B=A[K],C=A[K+1],N=0.001>Z(L.x-Q.x)?\"y\":\"x\",S=0.001>Z(C.x-B.x)?\"y\":\"x\",R;R=Q.x;var Y=Q.y,V=L.x,ea=L.y,fa=B.x,ga=B.y,ha=C.x,ia=C.y;if(W(R,V)<X(fa,ha)||X(R,V)>W(fa,ha)||W(Y,ea)<X(ga,ia)||X(Y,ea)>W(ga,ia))R=void 0;else{var $=(R*ea-Y*V)*(fa-ha)-(R-V)*(fa*ia-ga*ha),aa=(R*ea-Y*V)*(ga-ia)-(Y-ea)*(fa*ia-ga*ha),ja=(R-V)*(ga-ia)-(Y-ea)*(fa-ha);if(ja){var $=$/ja,aa=aa/ja,ja=+$.toFixed(2),ba=+aa.toFixed(2);R=ja<+X(R,V).toFixed(2)||ja>+W(R,V).toFixed(2)||ja<+X(fa,ha).toFixed(2)||\n",
       "ja>+W(fa,ha).toFixed(2)||ba<+X(Y,ea).toFixed(2)||ba>+W(Y,ea).toFixed(2)||ba<+X(ga,ia).toFixed(2)||ba>+W(ga,ia).toFixed(2)?void 0:{x:$,y:aa}}else R=void 0}R&&F[R.x.toFixed(4)]!=R.y.toFixed(4)&&(F[R.x.toFixed(4)]=R.y.toFixed(4),Q=Q.t+Z((R[N]-Q[N])/(L[N]-Q[N]))*(L.t-Q.t),B=B.t+Z((R[S]-B[S])/(C[S]-B[S]))*(C.t-B.t),0<=Q&&1>=Q&&0<=B&&1>=B&&(z?M++:M.push({x:R.x,y:R.y,t1:Q,t2:B})))}z=M}else z=z?0:[];if(d)t+=z;else{H=0;for(J=z.length;H<J;H++)z[H].segment1=w,z[H].segment2=G,z[H].bez1=x,z[H].bez2=c;t=t.concat(z)}}}return t}\n",
       "function r(a){var b=A(a);if(b.bbox)return C(b.bbox);if(!a)return w();a=I(a);for(var d=0,e=0,h=[],f=[],l,n=0,k=a.length;n<k;n++)l=a[n],\"M\"==l[0]?(d=l[1],e=l[2],h.push(d),f.push(e)):(d=U(d,e,l[1],l[2],l[3],l[4],l[5],l[6]),h=h.concat(d.min.x,d.max.x),f=f.concat(d.min.y,d.max.y),d=l[5],e=l[6]);a=X.apply(0,h);l=X.apply(0,f);h=W.apply(0,h);f=W.apply(0,f);f=w(a,l,h-a,f-l);b.bbox=C(f);return f}function s(a,b,d,e,h){if(h)return[[\"M\",+a+ +h,b],[\"l\",d-2*h,0],[\"a\",h,h,0,0,1,h,h],[\"l\",0,e-2*h],[\"a\",h,h,0,0,1,\n",
       "-h,h],[\"l\",2*h-d,0],[\"a\",h,h,0,0,1,-h,-h],[\"l\",0,2*h-e],[\"a\",h,h,0,0,1,h,-h],[\"z\"] ];a=[[\"M\",a,b],[\"l\",d,0],[\"l\",0,e],[\"l\",-d,0],[\"z\"] ];a.toString=z;return a}function x(a,b,d,e,h){null==h&&null==e&&(e=d);a=+a;b=+b;d=+d;e=+e;if(null!=h){var f=Math.PI/180,l=a+d*Math.cos(-e*f);a+=d*Math.cos(-h*f);var n=b+d*Math.sin(-e*f);b+=d*Math.sin(-h*f);d=[[\"M\",l,n],[\"A\",d,d,0,+(180<h-e),0,a,b] ]}else d=[[\"M\",a,b],[\"m\",0,-e],[\"a\",d,e,0,1,1,0,2*e],[\"a\",d,e,0,1,1,0,-2*e],[\"z\"] ];d.toString=z;return d}function G(b){var e=\n",
       "A(b);if(e.abs)return d(e.abs);Q(b,\"array\")&&Q(b&&b[0],\"array\")||(b=a.parsePathString(b));if(!b||!b.length)return[[\"M\",0,0] ];var h=[],f=0,l=0,n=0,k=0,p=0;\"M\"==b[0][0]&&(f=+b[0][1],l=+b[0][2],n=f,k=l,p++,h[0]=[\"M\",f,l]);for(var q=3==b.length&&\"M\"==b[0][0]&&\"R\"==b[1][0].toUpperCase()&&\"Z\"==b[2][0].toUpperCase(),s,r,w=p,c=b.length;w<c;w++){h.push(s=[]);r=b[w];p=r[0];if(p!=p.toUpperCase())switch(s[0]=p.toUpperCase(),s[0]){case \"A\":s[1]=r[1];s[2]=r[2];s[3]=r[3];s[4]=r[4];s[5]=r[5];s[6]=+r[6]+f;s[7]=+r[7]+\n",
       "l;break;case \"V\":s[1]=+r[1]+l;break;case \"H\":s[1]=+r[1]+f;break;case \"R\":for(var t=[f,l].concat(r.slice(1)),u=2,v=t.length;u<v;u++)t[u]=+t[u]+f,t[++u]=+t[u]+l;h.pop();h=h.concat(P(t,q));break;case \"O\":h.pop();t=x(f,l,r[1],r[2]);t.push(t[0]);h=h.concat(t);break;case \"U\":h.pop();h=h.concat(x(f,l,r[1],r[2],r[3]));s=[\"U\"].concat(h[h.length-1].slice(-2));break;case \"M\":n=+r[1]+f,k=+r[2]+l;default:for(u=1,v=r.length;u<v;u++)s[u]=+r[u]+(u%2?f:l)}else if(\"R\"==p)t=[f,l].concat(r.slice(1)),h.pop(),h=h.concat(P(t,\n",
       "q)),s=[\"R\"].concat(r.slice(-2));else if(\"O\"==p)h.pop(),t=x(f,l,r[1],r[2]),t.push(t[0]),h=h.concat(t);else if(\"U\"==p)h.pop(),h=h.concat(x(f,l,r[1],r[2],r[3])),s=[\"U\"].concat(h[h.length-1].slice(-2));else for(t=0,u=r.length;t<u;t++)s[t]=r[t];p=p.toUpperCase();if(\"O\"!=p)switch(s[0]){case \"Z\":f=+n;l=+k;break;case \"H\":f=s[1];break;case \"V\":l=s[1];break;case \"M\":n=s[s.length-2],k=s[s.length-1];default:f=s[s.length-2],l=s[s.length-1]}}h.toString=z;e.abs=d(h);return h}function h(a,b,d,e){return[a,b,d,e,d,\n",
       "e]}function J(a,b,d,e,h,f){var l=1/3,n=2/3;return[l*a+n*d,l*b+n*e,l*h+n*d,l*f+n*e,h,f]}function K(b,d,e,h,f,l,n,k,p,s){var r=120*S/180,q=S/180*(+f||0),c=[],t,x=a._.cacher(function(a,b,c){var d=a*F.cos(c)-b*F.sin(c);a=a*F.sin(c)+b*F.cos(c);return{x:d,y:a}});if(s)v=s[0],t=s[1],l=s[2],u=s[3];else{t=x(b,d,-q);b=t.x;d=t.y;t=x(k,p,-q);k=t.x;p=t.y;F.cos(S/180*f);F.sin(S/180*f);t=(b-k)/2;v=(d-p)/2;u=t*t/(e*e)+v*v/(h*h);1<u&&(u=F.sqrt(u),e*=u,h*=u);var u=e*e,w=h*h,u=(l==n?-1:1)*F.sqrt(Z((u*w-u*v*v-w*t*t)/\n",
       "(u*v*v+w*t*t)));l=u*e*v/h+(b+k)/2;var u=u*-h*t/e+(d+p)/2,v=F.asin(((d-u)/h).toFixed(9));t=F.asin(((p-u)/h).toFixed(9));v=b<l?S-v:v;t=k<l?S-t:t;0>v&&(v=2*S+v);0>t&&(t=2*S+t);n&&v>t&&(v-=2*S);!n&&t>v&&(t-=2*S)}if(Z(t-v)>r){var c=t,w=k,G=p;t=v+r*(n&&t>v?1:-1);k=l+e*F.cos(t);p=u+h*F.sin(t);c=K(k,p,e,h,f,0,n,w,G,[t,c,l,u])}l=t-v;f=F.cos(v);r=F.sin(v);n=F.cos(t);t=F.sin(t);l=F.tan(l/4);e=4/3*e*l;l*=4/3*h;h=[b,d];b=[b+e*r,d-l*f];d=[k+e*t,p-l*n];k=[k,p];b[0]=2*h[0]-b[0];b[1]=2*h[1]-b[1];if(s)return[b,d,k].concat(c);\n",
       "c=[b,d,k].concat(c).join().split(\",\");s=[];k=0;for(p=c.length;k<p;k++)s[k]=k%2?x(c[k-1],c[k],q).y:x(c[k],c[k+1],q).x;return s}function U(a,b,d,e,h,f,l,k){for(var n=[],p=[[],[] ],s,r,c,t,q=0;2>q;++q)0==q?(r=6*a-12*d+6*h,s=-3*a+9*d-9*h+3*l,c=3*d-3*a):(r=6*b-12*e+6*f,s=-3*b+9*e-9*f+3*k,c=3*e-3*b),1E-12>Z(s)?1E-12>Z(r)||(s=-c/r,0<s&&1>s&&n.push(s)):(t=r*r-4*c*s,c=F.sqrt(t),0>t||(t=(-r+c)/(2*s),0<t&&1>t&&n.push(t),s=(-r-c)/(2*s),0<s&&1>s&&n.push(s)));for(r=q=n.length;q--;)s=n[q],c=1-s,p[0][q]=c*c*c*a+3*\n",
       "c*c*s*d+3*c*s*s*h+s*s*s*l,p[1][q]=c*c*c*b+3*c*c*s*e+3*c*s*s*f+s*s*s*k;p[0][r]=a;p[1][r]=b;p[0][r+1]=l;p[1][r+1]=k;p[0].length=p[1].length=r+2;return{min:{x:X.apply(0,p[0]),y:X.apply(0,p[1])},max:{x:W.apply(0,p[0]),y:W.apply(0,p[1])}}}function I(a,b){var e=!b&&A(a);if(!b&&e.curve)return d(e.curve);var f=G(a),l=b&&G(b),n={x:0,y:0,bx:0,by:0,X:0,Y:0,qx:null,qy:null},k={x:0,y:0,bx:0,by:0,X:0,Y:0,qx:null,qy:null},p=function(a,b,c){if(!a)return[\"C\",b.x,b.y,b.x,b.y,b.x,b.y];a[0]in{T:1,Q:1}||(b.qx=b.qy=null);\n",
       "switch(a[0]){case \"M\":b.X=a[1];b.Y=a[2];break;case \"A\":a=[\"C\"].concat(K.apply(0,[b.x,b.y].concat(a.slice(1))));break;case \"S\":\"C\"==c||\"S\"==c?(c=2*b.x-b.bx,b=2*b.y-b.by):(c=b.x,b=b.y);a=[\"C\",c,b].concat(a.slice(1));break;case \"T\":\"Q\"==c||\"T\"==c?(b.qx=2*b.x-b.qx,b.qy=2*b.y-b.qy):(b.qx=b.x,b.qy=b.y);a=[\"C\"].concat(J(b.x,b.y,b.qx,b.qy,a[1],a[2]));break;case \"Q\":b.qx=a[1];b.qy=a[2];a=[\"C\"].concat(J(b.x,b.y,a[1],a[2],a[3],a[4]));break;case \"L\":a=[\"C\"].concat(h(b.x,b.y,a[1],a[2]));break;case \"H\":a=[\"C\"].concat(h(b.x,\n",
       "b.y,a[1],b.y));break;case \"V\":a=[\"C\"].concat(h(b.x,b.y,b.x,a[1]));break;case \"Z\":a=[\"C\"].concat(h(b.x,b.y,b.X,b.Y))}return a},s=function(a,b){if(7<a[b].length){a[b].shift();for(var c=a[b];c.length;)q[b]=\"A\",l&&(u[b]=\"A\"),a.splice(b++,0,[\"C\"].concat(c.splice(0,6)));a.splice(b,1);v=W(f.length,l&&l.length||0)}},r=function(a,b,c,d,e){a&&b&&\"M\"==a[e][0]&&\"M\"!=b[e][0]&&(b.splice(e,0,[\"M\",d.x,d.y]),c.bx=0,c.by=0,c.x=a[e][1],c.y=a[e][2],v=W(f.length,l&&l.length||0))},q=[],u=[],c=\"\",t=\"\",x=0,v=W(f.length,\n",
       "l&&l.length||0);for(;x<v;x++){f[x]&&(c=f[x][0]);\"C\"!=c&&(q[x]=c,x&&(t=q[x-1]));f[x]=p(f[x],n,t);\"A\"!=q[x]&&\"C\"==c&&(q[x]=\"C\");s(f,x);l&&(l[x]&&(c=l[x][0]),\"C\"!=c&&(u[x]=c,x&&(t=u[x-1])),l[x]=p(l[x],k,t),\"A\"!=u[x]&&\"C\"==c&&(u[x]=\"C\"),s(l,x));r(f,l,n,k,x);r(l,f,k,n,x);var w=f[x],z=l&&l[x],y=w.length,U=l&&z.length;n.x=w[y-2];n.y=w[y-1];n.bx=$(w[y-4])||n.x;n.by=$(w[y-3])||n.y;k.bx=l&&($(z[U-4])||k.x);k.by=l&&($(z[U-3])||k.y);k.x=l&&z[U-2];k.y=l&&z[U-1]}l||(e.curve=d(f));return l?[f,l]:f}function P(a,\n",
       "b){for(var d=[],e=0,h=a.length;h-2*!b>e;e+=2){var f=[{x:+a[e-2],y:+a[e-1]},{x:+a[e],y:+a[e+1]},{x:+a[e+2],y:+a[e+3]},{x:+a[e+4],y:+a[e+5]}];b?e?h-4==e?f[3]={x:+a[0],y:+a[1]}:h-2==e&&(f[2]={x:+a[0],y:+a[1]},f[3]={x:+a[2],y:+a[3]}):f[0]={x:+a[h-2],y:+a[h-1]}:h-4==e?f[3]=f[2]:e||(f[0]={x:+a[e],y:+a[e+1]});d.push([\"C\",(-f[0].x+6*f[1].x+f[2].x)/6,(-f[0].y+6*f[1].y+f[2].y)/6,(f[1].x+6*f[2].x-f[3].x)/6,(f[1].y+6*f[2].y-f[3].y)/6,f[2].x,f[2].y])}return d}y=k.prototype;var Q=a.is,C=a._.clone,L=\"hasOwnProperty\",\n",
       "N=/,?([a-z]),?/gi,$=parseFloat,F=Math,S=F.PI,X=F.min,W=F.max,ma=F.pow,Z=F.abs;M=n(1);var na=n(),ba=n(0,1),V=a._unit2px;a.path=A;a.path.getTotalLength=M;a.path.getPointAtLength=na;a.path.getSubpath=function(a,b,d){if(1E-6>this.getTotalLength(a)-d)return ba(a,b).end;a=ba(a,d,1);return b?ba(a,b).end:a};y.getTotalLength=function(){if(this.node.getTotalLength)return this.node.getTotalLength()};y.getPointAtLength=function(a){return na(this.attr(\"d\"),a)};y.getSubpath=function(b,d){return a.path.getSubpath(this.attr(\"d\"),\n",
       "b,d)};a._.box=w;a.path.findDotsAtSegment=u;a.path.bezierBBox=p;a.path.isPointInsideBBox=b;a.path.isBBoxIntersect=q;a.path.intersection=function(a,b){return l(a,b)};a.path.intersectionNumber=function(a,b){return l(a,b,1)};a.path.isPointInside=function(a,d,e){var h=r(a);return b(h,d,e)&&1==l(a,[[\"M\",d,e],[\"H\",h.x2+10] ],1)%2};a.path.getBBox=r;a.path.get={path:function(a){return a.attr(\"path\")},circle:function(a){a=V(a);return x(a.cx,a.cy,a.r)},ellipse:function(a){a=V(a);return x(a.cx||0,a.cy||0,a.rx,\n",
       "a.ry)},rect:function(a){a=V(a);return s(a.x||0,a.y||0,a.width,a.height,a.rx,a.ry)},image:function(a){a=V(a);return s(a.x||0,a.y||0,a.width,a.height)},line:function(a){return\"M\"+[a.attr(\"x1\")||0,a.attr(\"y1\")||0,a.attr(\"x2\"),a.attr(\"y2\")]},polyline:function(a){return\"M\"+a.attr(\"points\")},polygon:function(a){return\"M\"+a.attr(\"points\")+\"z\"},deflt:function(a){a=a.node.getBBox();return s(a.x,a.y,a.width,a.height)}};a.path.toRelative=function(b){var e=A(b),h=String.prototype.toLowerCase;if(e.rel)return d(e.rel);\n",
       "a.is(b,\"array\")&&a.is(b&&b[0],\"array\")||(b=a.parsePathString(b));var f=[],l=0,n=0,k=0,p=0,s=0;\"M\"==b[0][0]&&(l=b[0][1],n=b[0][2],k=l,p=n,s++,f.push([\"M\",l,n]));for(var r=b.length;s<r;s++){var q=f[s]=[],x=b[s];if(x[0]!=h.call(x[0]))switch(q[0]=h.call(x[0]),q[0]){case \"a\":q[1]=x[1];q[2]=x[2];q[3]=x[3];q[4]=x[4];q[5]=x[5];q[6]=+(x[6]-l).toFixed(3);q[7]=+(x[7]-n).toFixed(3);break;case \"v\":q[1]=+(x[1]-n).toFixed(3);break;case \"m\":k=x[1],p=x[2];default:for(var c=1,t=x.length;c<t;c++)q[c]=+(x[c]-(c%2?l:\n",
       "n)).toFixed(3)}else for(f[s]=[],\"m\"==x[0]&&(k=x[1]+l,p=x[2]+n),q=0,c=x.length;q<c;q++)f[s][q]=x[q];x=f[s].length;switch(f[s][0]){case \"z\":l=k;n=p;break;case \"h\":l+=+f[s][x-1];break;case \"v\":n+=+f[s][x-1];break;default:l+=+f[s][x-2],n+=+f[s][x-1]}}f.toString=z;e.rel=d(f);return f};a.path.toAbsolute=G;a.path.toCubic=I;a.path.map=function(a,b){if(!b)return a;var d,e,h,f,l,n,k;a=I(a);h=0;for(l=a.length;h<l;h++)for(k=a[h],f=1,n=k.length;f<n;f+=2)d=b.x(k[f],k[f+1]),e=b.y(k[f],k[f+1]),k[f]=d,k[f+1]=e;return a};\n",
       "a.path.toString=z;a.path.clone=d});C.plugin(function(a,v,y,C){var A=Math.max,w=Math.min,z=function(a){this.items=[];this.bindings={};this.length=0;this.type=\"set\";if(a)for(var f=0,n=a.length;f<n;f++)a[f]&&(this[this.items.length]=this.items[this.items.length]=a[f],this.length++)};v=z.prototype;v.push=function(){for(var a,f,n=0,k=arguments.length;n<k;n++)if(a=arguments[n])f=this.items.length,this[f]=this.items[f]=a,this.length++;return this};v.pop=function(){this.length&&delete this[this.length--];\n",
       "return this.items.pop()};v.forEach=function(a,f){for(var n=0,k=this.items.length;n<k&&!1!==a.call(f,this.items[n],n);n++);return this};v.animate=function(d,f,n,u){\"function\"!=typeof n||n.length||(u=n,n=L.linear);d instanceof a._.Animation&&(u=d.callback,n=d.easing,f=n.dur,d=d.attr);var p=arguments;if(a.is(d,\"array\")&&a.is(p[p.length-1],\"array\"))var b=!0;var q,e=function(){q?this.b=q:q=this.b},l=0,r=u&&function(){l++==this.length&&u.call(this)};return this.forEach(function(a,l){k.once(\"snap.animcreated.\"+\n",
       "a.id,e);b?p[l]&&a.animate.apply(a,p[l]):a.animate(d,f,n,r)})};v.remove=function(){for(;this.length;)this.pop().remove();return this};v.bind=function(a,f,k){var u={};if(\"function\"==typeof f)this.bindings[a]=f;else{var p=k||a;this.bindings[a]=function(a){u[p]=a;f.attr(u)}}return this};v.attr=function(a){var f={},k;for(k in a)if(this.bindings[k])this.bindings[k](a[k]);else f[k]=a[k];a=0;for(k=this.items.length;a<k;a++)this.items[a].attr(f);return this};v.clear=function(){for(;this.length;)this.pop()};\n",
       "v.splice=function(a,f,k){a=0>a?A(this.length+a,0):a;f=A(0,w(this.length-a,f));var u=[],p=[],b=[],q;for(q=2;q<arguments.length;q++)b.push(arguments[q]);for(q=0;q<f;q++)p.push(this[a+q]);for(;q<this.length-a;q++)u.push(this[a+q]);var e=b.length;for(q=0;q<e+u.length;q++)this.items[a+q]=this[a+q]=q<e?b[q]:u[q-e];for(q=this.items.length=this.length-=f-e;this[q];)delete this[q++];return new z(p)};v.exclude=function(a){for(var f=0,k=this.length;f<k;f++)if(this[f]==a)return this.splice(f,1),!0;return!1};\n",
       "v.insertAfter=function(a){for(var f=this.items.length;f--;)this.items[f].insertAfter(a);return this};v.getBBox=function(){for(var a=[],f=[],k=[],u=[],p=this.items.length;p--;)if(!this.items[p].removed){var b=this.items[p].getBBox();a.push(b.x);f.push(b.y);k.push(b.x+b.width);u.push(b.y+b.height)}a=w.apply(0,a);f=w.apply(0,f);k=A.apply(0,k);u=A.apply(0,u);return{x:a,y:f,x2:k,y2:u,width:k-a,height:u-f,cx:a+(k-a)/2,cy:f+(u-f)/2}};v.clone=function(a){a=new z;for(var f=0,k=this.items.length;f<k;f++)a.push(this.items[f].clone());\n",
       "return a};v.toString=function(){return\"Snap\\u2018s set\"};v.type=\"set\";a.set=function(){var a=new z;arguments.length&&a.push.apply(a,Array.prototype.slice.call(arguments,0));return a}});C.plugin(function(a,v,y,C){function A(a){var b=a[0];switch(b.toLowerCase()){case \"t\":return[b,0,0];case \"m\":return[b,1,0,0,1,0,0];case \"r\":return 4==a.length?[b,0,a[2],a[3] ]:[b,0];case \"s\":return 5==a.length?[b,1,1,a[3],a[4] ]:3==a.length?[b,1,1]:[b,1]}}function w(b,d,f){d=q(d).replace(/\\.{3}|\\u2026/g,b);b=a.parseTransformString(b)||\n",
       "[];d=a.parseTransformString(d)||[];for(var k=Math.max(b.length,d.length),p=[],v=[],h=0,w,z,y,I;h<k;h++){y=b[h]||A(d[h]);I=d[h]||A(y);if(y[0]!=I[0]||\"r\"==y[0].toLowerCase()&&(y[2]!=I[2]||y[3]!=I[3])||\"s\"==y[0].toLowerCase()&&(y[3]!=I[3]||y[4]!=I[4])){b=a._.transform2matrix(b,f());d=a._.transform2matrix(d,f());p=[[\"m\",b.a,b.b,b.c,b.d,b.e,b.f] ];v=[[\"m\",d.a,d.b,d.c,d.d,d.e,d.f] ];break}p[h]=[];v[h]=[];w=0;for(z=Math.max(y.length,I.length);w<z;w++)w in y&&(p[h][w]=y[w]),w in I&&(v[h][w]=I[w])}return{from:u(p),\n",
       "to:u(v),f:n(p)}}function z(a){return a}function d(a){return function(b){return+b.toFixed(3)+a}}function f(b){return a.rgb(b[0],b[1],b[2])}function n(a){var b=0,d,f,k,n,h,p,q=[];d=0;for(f=a.length;d<f;d++){h=\"[\";p=['\"'+a[d][0]+'\"'];k=1;for(n=a[d].length;k<n;k++)p[k]=\"val[\"+b++ +\"]\";h+=p+\"]\";q[d]=h}return Function(\"val\",\"return Snap.path.toString.call([\"+q+\"])\")}function u(a){for(var b=[],d=0,f=a.length;d<f;d++)for(var k=1,n=a[d].length;k<n;k++)b.push(a[d][k]);return b}var p={},b=/[a-z]+$/i,q=String;\n",
       "p.stroke=p.fill=\"colour\";v.prototype.equal=function(a,b){return k(\"snap.util.equal\",this,a,b).firstDefined()};k.on(\"snap.util.equal\",function(e,k){var r,s;r=q(this.attr(e)||\"\");var x=this;if(r==+r&&k==+k)return{from:+r,to:+k,f:z};if(\"colour\"==p[e])return r=a.color(r),s=a.color(k),{from:[r.r,r.g,r.b,r.opacity],to:[s.r,s.g,s.b,s.opacity],f:f};if(\"transform\"==e||\"gradientTransform\"==e||\"patternTransform\"==e)return k instanceof a.Matrix&&(k=k.toTransformString()),a._.rgTransform.test(k)||(k=a._.svgTransform2string(k)),\n",
       "w(r,k,function(){return x.getBBox(1)});if(\"d\"==e||\"path\"==e)return r=a.path.toCubic(r,k),{from:u(r[0]),to:u(r[1]),f:n(r[0])};if(\"points\"==e)return r=q(r).split(a._.separator),s=q(k).split(a._.separator),{from:r,to:s,f:function(a){return a}};aUnit=r.match(b);s=q(k).match(b);return aUnit&&aUnit==s?{from:parseFloat(r),to:parseFloat(k),f:d(aUnit)}:{from:this.asPX(e),to:this.asPX(e,k),f:z}})});C.plugin(function(a,v,y,C){var A=v.prototype,w=\"createTouch\"in C.doc;v=\"click dblclick mousedown mousemove mouseout mouseover mouseup touchstart touchmove touchend touchcancel\".split(\" \");\n",
       "var z={mousedown:\"touchstart\",mousemove:\"touchmove\",mouseup:\"touchend\"},d=function(a,b){var d=\"y\"==a?\"scrollTop\":\"scrollLeft\",e=b&&b.node?b.node.ownerDocument:C.doc;return e[d in e.documentElement?\"documentElement\":\"body\"][d]},f=function(){this.returnValue=!1},n=function(){return this.originalEvent.preventDefault()},u=function(){this.cancelBubble=!0},p=function(){return this.originalEvent.stopPropagation()},b=function(){if(C.doc.addEventListener)return function(a,b,e,f){var k=w&&z[b]?z[b]:b,l=function(k){var l=\n",
       "d(\"y\",f),q=d(\"x\",f);if(w&&z.hasOwnProperty(b))for(var r=0,u=k.targetTouches&&k.targetTouches.length;r<u;r++)if(k.targetTouches[r].target==a||a.contains(k.targetTouches[r].target)){u=k;k=k.targetTouches[r];k.originalEvent=u;k.preventDefault=n;k.stopPropagation=p;break}return e.call(f,k,k.clientX+q,k.clientY+l)};b!==k&&a.addEventListener(b,l,!1);a.addEventListener(k,l,!1);return function(){b!==k&&a.removeEventListener(b,l,!1);a.removeEventListener(k,l,!1);return!0}};if(C.doc.attachEvent)return function(a,\n",
       "b,e,h){var k=function(a){a=a||h.node.ownerDocument.window.event;var b=d(\"y\",h),k=d(\"x\",h),k=a.clientX+k,b=a.clientY+b;a.preventDefault=a.preventDefault||f;a.stopPropagation=a.stopPropagation||u;return e.call(h,a,k,b)};a.attachEvent(\"on\"+b,k);return function(){a.detachEvent(\"on\"+b,k);return!0}}}(),q=[],e=function(a){for(var b=a.clientX,e=a.clientY,f=d(\"y\"),l=d(\"x\"),n,p=q.length;p--;){n=q[p];if(w)for(var r=a.touches&&a.touches.length,u;r--;){if(u=a.touches[r],u.identifier==n.el._drag.id||n.el.node.contains(u.target)){b=\n",
       "u.clientX;e=u.clientY;(a.originalEvent?a.originalEvent:a).preventDefault();break}}else a.preventDefault();b+=l;e+=f;k(\"snap.drag.move.\"+n.el.id,n.move_scope||n.el,b-n.el._drag.x,e-n.el._drag.y,b,e,a)}},l=function(b){a.unmousemove(e).unmouseup(l);for(var d=q.length,f;d--;)f=q[d],f.el._drag={},k(\"snap.drag.end.\"+f.el.id,f.end_scope||f.start_scope||f.move_scope||f.el,b);q=[]};for(y=v.length;y--;)(function(d){a[d]=A[d]=function(e,f){a.is(e,\"function\")&&(this.events=this.events||[],this.events.push({name:d,\n",
       "f:e,unbind:b(this.node||document,d,e,f||this)}));return this};a[\"un\"+d]=A[\"un\"+d]=function(a){for(var b=this.events||[],e=b.length;e--;)if(b[e].name==d&&(b[e].f==a||!a)){b[e].unbind();b.splice(e,1);!b.length&&delete this.events;break}return this}})(v[y]);A.hover=function(a,b,d,e){return this.mouseover(a,d).mouseout(b,e||d)};A.unhover=function(a,b){return this.unmouseover(a).unmouseout(b)};var r=[];A.drag=function(b,d,f,h,n,p){function u(r,v,w){(r.originalEvent||r).preventDefault();this._drag.x=v;\n",
       "this._drag.y=w;this._drag.id=r.identifier;!q.length&&a.mousemove(e).mouseup(l);q.push({el:this,move_scope:h,start_scope:n,end_scope:p});d&&k.on(\"snap.drag.start.\"+this.id,d);b&&k.on(\"snap.drag.move.\"+this.id,b);f&&k.on(\"snap.drag.end.\"+this.id,f);k(\"snap.drag.start.\"+this.id,n||h||this,v,w,r)}if(!arguments.length){var v;return this.drag(function(a,b){this.attr({transform:v+(v?\"T\":\"t\")+[a,b]})},function(){v=this.transform().local})}this._drag={};r.push({el:this,start:u});this.mousedown(u);return this};\n",
       "A.undrag=function(){for(var b=r.length;b--;)r[b].el==this&&(this.unmousedown(r[b].start),r.splice(b,1),k.unbind(\"snap.drag.*.\"+this.id));!r.length&&a.unmousemove(e).unmouseup(l);return this}});C.plugin(function(a,v,y,C){y=y.prototype;var A=/^\\s*url\\((.+)\\)/,w=String,z=a._.$;a.filter={};y.filter=function(d){var f=this;\"svg\"!=f.type&&(f=f.paper);d=a.parse(w(d));var k=a._.id(),u=z(\"filter\");z(u,{id:k,filterUnits:\"userSpaceOnUse\"});u.appendChild(d.node);f.defs.appendChild(u);return new v(u)};k.on(\"snap.util.getattr.filter\",\n",
       "function(){k.stop();var d=z(this.node,\"filter\");if(d)return(d=w(d).match(A))&&a.select(d[1])});k.on(\"snap.util.attr.filter\",function(d){if(d instanceof v&&\"filter\"==d.type){k.stop();var f=d.node.id;f||(z(d.node,{id:d.id}),f=d.id);z(this.node,{filter:a.url(f)})}d&&\"none\"!=d||(k.stop(),this.node.removeAttribute(\"filter\"))});a.filter.blur=function(d,f){null==d&&(d=2);return a.format('<feGaussianBlur stdDeviation=\"{def}\"/>',{def:null==f?d:[d,f]})};a.filter.blur.toString=function(){return this()};a.filter.shadow=\n",
       "function(d,f,k,u,p){\"string\"==typeof k&&(p=u=k,k=4);\"string\"!=typeof u&&(p=u,u=\"#000\");null==k&&(k=4);null==p&&(p=1);null==d&&(d=0,f=2);null==f&&(f=d);u=a.color(u||\"#000\");return a.format('<feGaussianBlur in=\"SourceAlpha\" stdDeviation=\"{blur}\"/><feOffset dx=\"{dx}\" dy=\"{dy}\" result=\"offsetblur\"/><feFlood flood-color=\"{color}\"/><feComposite in2=\"offsetblur\" operator=\"in\"/><feComponentTransfer><feFuncA type=\"linear\" slope=\"{opacity}\"/></feComponentTransfer><feMerge><feMergeNode/><feMergeNode in=\"SourceGraphic\"/></feMerge>',\n",
       "{color:u,dx:d,dy:f,blur:k,opacity:p})};a.filter.shadow.toString=function(){return this()};a.filter.grayscale=function(d){null==d&&(d=1);return a.format('<feColorMatrix type=\"matrix\" values=\"{a} {b} {c} 0 0 {d} {e} {f} 0 0 {g} {b} {h} 0 0 0 0 0 1 0\"/>',{a:0.2126+0.7874*(1-d),b:0.7152-0.7152*(1-d),c:0.0722-0.0722*(1-d),d:0.2126-0.2126*(1-d),e:0.7152+0.2848*(1-d),f:0.0722-0.0722*(1-d),g:0.2126-0.2126*(1-d),h:0.0722+0.9278*(1-d)})};a.filter.grayscale.toString=function(){return this()};a.filter.sepia=\n",
       "function(d){null==d&&(d=1);return a.format('<feColorMatrix type=\"matrix\" values=\"{a} {b} {c} 0 0 {d} {e} {f} 0 0 {g} {h} {i} 0 0 0 0 0 1 0\"/>',{a:0.393+0.607*(1-d),b:0.769-0.769*(1-d),c:0.189-0.189*(1-d),d:0.349-0.349*(1-d),e:0.686+0.314*(1-d),f:0.168-0.168*(1-d),g:0.272-0.272*(1-d),h:0.534-0.534*(1-d),i:0.131+0.869*(1-d)})};a.filter.sepia.toString=function(){return this()};a.filter.saturate=function(d){null==d&&(d=1);return a.format('<feColorMatrix type=\"saturate\" values=\"{amount}\"/>',{amount:1-\n",
       "d})};a.filter.saturate.toString=function(){return this()};a.filter.hueRotate=function(d){return a.format('<feColorMatrix type=\"hueRotate\" values=\"{angle}\"/>',{angle:d||0})};a.filter.hueRotate.toString=function(){return this()};a.filter.invert=function(d){null==d&&(d=1);return a.format('<feComponentTransfer><feFuncR type=\"table\" tableValues=\"{amount} {amount2}\"/><feFuncG type=\"table\" tableValues=\"{amount} {amount2}\"/><feFuncB type=\"table\" tableValues=\"{amount} {amount2}\"/></feComponentTransfer>',{amount:d,\n",
       "amount2:1-d})};a.filter.invert.toString=function(){return this()};a.filter.brightness=function(d){null==d&&(d=1);return a.format('<feComponentTransfer><feFuncR type=\"linear\" slope=\"{amount}\"/><feFuncG type=\"linear\" slope=\"{amount}\"/><feFuncB type=\"linear\" slope=\"{amount}\"/></feComponentTransfer>',{amount:d})};a.filter.brightness.toString=function(){return this()};a.filter.contrast=function(d){null==d&&(d=1);return a.format('<feComponentTransfer><feFuncR type=\"linear\" slope=\"{amount}\" intercept=\"{amount2}\"/><feFuncG type=\"linear\" slope=\"{amount}\" intercept=\"{amount2}\"/><feFuncB type=\"linear\" slope=\"{amount}\" intercept=\"{amount2}\"/></feComponentTransfer>',\n",
       "{amount:d,amount2:0.5-d/2})};a.filter.contrast.toString=function(){return this()}});return C});\n",
       "]]></script>\n",
       "    <script><![CDATA[\n",
       "        (function(glob, factory){\n",
       "    if (typeof define == \"function\" && define.amd) {\n",
       "        define(\"ProfileView\", [\"Snap.svg\"], function (Snap){\n",
       "            return factory(Snap);\n",
       "        });\n",
       "    }\n",
       "    else {\n",
       "        glob.ProfileView = factory(glob.Snap);\n",
       "    }\n",
       "}(this, function(Snap){\n",
       "    var ProfileView = {};\n",
       "\n",
       "    var avgcharwidth = 6;\n",
       "    var default_transition_time = 300;\n",
       "    var viewport_scale = 0.9;\n",
       "\n",
       "    var format_text = function(text, available_len){\n",
       "        if (available_len < 3*avgcharwidth) {\n",
       "            return \"\";\n",
       "        }\n",
       "        else if (text.length*avgcharwidth > available_len) {\n",
       "            nchars = Math.round(available_len/avgcharwidth)-2;\n",
       "            return text.slice(0,nchars) + \"..\"\n",
       "        }\n",
       "        return text;\n",
       "    }\n",
       "\n",
       "    // Shift the view port to center on xc, then scale in the x direction\n",
       "    ProfileView.move_and_zoom = function(xc, xs, xScale, fig, delta_t){\n",
       "        if (typeof delta_t === 'undefined') { delta_t = default_transition_time; }\n",
       "        if (typeof xs === 'undefined') {xs = xc;}\n",
       "\n",
       "        var oldScale = fig.scale;\n",
       "        var oldShift = fig.shift;\n",
       "\n",
       "        fig.scale = xScale;\n",
       "        fig.shift = xc;\n",
       "\n",
       "        xScale *= viewport_scale;\n",
       "\n",
       "        var oldxshift = -(oldShift - 0.5*fig.clip_width);\n",
       "        var xshift = -(xc - 0.5*fig.clip_width);\n",
       "\n",
       "        fig.texts.forEach(function(text){\n",
       "            text.node.textContent = \"\";\n",
       "        });\n",
       "\n",
       "        if (delta_t != 0){\n",
       "            Snap.animate(0, 1, function(step){\n",
       "\n",
       "                var scale = oldScale + (xScale - oldScale)*step\n",
       "                var rMatrix = new Snap.Matrix;\n",
       "                rMatrix.translate(oldxshift + (xshift - oldxshift)*step, 0);\n",
       "                rMatrix.scale(scale, 1, xs, fig.clip_middle);\n",
       "                fig.viewport.attr({\n",
       "                    transform: rMatrix\n",
       "                })\n",
       "                fig.rects.forEach(function(rect){\n",
       "                    rect.attr({\n",
       "                        rx: 2/scale,\n",
       "                        ry: 2/scale\n",
       "                    });\n",
       "                })\n",
       "\n",
       "            }, delta_t, null, function(){\n",
       "                fig.rects.forEach(function(rect, i){\n",
       "                    var bbox = rect.getBBox();\n",
       "                    var text = fig.texts[i];\n",
       "                    var shortinfo = rect.node.getAttribute(\"data-shortinfo\");\n",
       "\n",
       "                    var tMatrix = new Snap.Matrix;\n",
       "                    tMatrix.scale(1.0/xScale, 1, bbox.x, bbox.y);\n",
       "\n",
       "                    text.node.textContent = format_text(shortinfo, bbox.w*xScale);\n",
       "                    text.transform(tMatrix);\n",
       "                });\n",
       "            });\n",
       "        }\n",
       "        else {\n",
       "            var rMatrix = new Snap.Matrix;\n",
       "            rMatrix.translate(xshift, 0);\n",
       "            rMatrix.scale(xScale, 1, xs, fig.clip_middle);\n",
       "\n",
       "            fig.viewport.transform(rMatrix);\n",
       "            fig.rects.forEach(function(rect, i){\n",
       "                rect.attr({\n",
       "                    rx: 2/xScale,\n",
       "                    ry: 2/xScale\n",
       "                });\n",
       "                var bbox = rect.getBBox();\n",
       "                var text = fig.texts[i];\n",
       "                var shortinfo = rect.node.getAttribute(\"data-shortinfo\");\n",
       "\n",
       "                var tMatrix = new Snap.Matrix;\n",
       "                tMatrix.scale(1.0/xScale, 1, bbox.x, bbox.y);\n",
       "\n",
       "                text.node.textContent = format_text(shortinfo, bbox.w*xScale);\n",
       "                text.transform(tMatrix);\n",
       "            });\n",
       "       }\n",
       "\n",
       "    }\n",
       "\n",
       "    ProfileView.reset = function(fig) {\n",
       "        ProfileView.move_and_zoom(fig.viewport_cx, fig.viewport_cx, viewport_scale, fig);\n",
       "    }\n",
       "\n",
       "    return ProfileView;\n",
       "}));\n",
       "\n",
       "        (function (glob, factory) {\n",
       "            if (typeof require === \"function\" && typeof define === \"function\" && define.amd) {\n",
       "                require([\"Snap.svg\", \"ProfileView\"], function (Snap, ProfileView) {\n",
       "                    factory(Snap, ProfileView);\n",
       "                });\n",
       "          } else {\n",
       "              factory(glob.Snap, glob.ProfileView);\n",
       "          }\n",
       "        })(window, function (Snap, ProfileView) {\n",
       "            var svg = Snap.select('svg').node;\n",
       "            var pt = svg.createSVGPoint();\n",
       "\n",
       "            var fig = {};\n",
       "\n",
       "            fig.viewport = Snap.select('#fig-88cd03f17d11483c95e531ad2367a1aa-viewport');\n",
       "            fig.frame = Snap.select('#fig-88cd03f17d11483c95e531ad2367a1aa-frame');\n",
       "\n",
       "            fig.viewport_cx = fig.viewport.getBBox().cx;\n",
       "\n",
       "            fig.rects = Snap.selectAll('#fig-88cd03f17d11483c95e531ad2367a1aa-viewport rect');\n",
       "            fig.texts = Snap.selectAll('#fig-88cd03f17d11483c95e531ad2367a1aa-viewport text');\n",
       "            fig.clip = Snap.select('#fig-88cd03f17d11483c95e531ad2367a1aa-clip-rect');\n",
       "            fig.clip_width  = fig.clip.getBBox().w;\n",
       "            fig.clip_middle = fig.clip.getBBox().cy;\n",
       "            fig.details = document.getElementById(\"fig-88cd03f17d11483c95e531ad2367a1aa-details\").firstChild; \n",
       "\n",
       "            fig.scale = 1.0;\n",
       "            fig.shift = fig.viewport_cx;\n",
       "\n",
       "            ProfileView.reset(fig)\n",
       "\n",
       "            fig.rects.forEach(function(rect, i){\n",
       "                rect.dblclick(function(){\n",
       "                    bbox = rect.getBBox();\n",
       "                    ProfileView.move_and_zoom(bbox.cx, bbox.cx, fig.clip_width/bbox.w, fig);\n",
       "                })\n",
       "                .mouseover(function(){\n",
       "                    fig.details.nodeValue = rect.node.getAttribute(\"data-info\");\n",
       "                })\n",
       "                .mouseout(function(){\n",
       "                    fig.details.nodeValue = \"\";\n",
       "                });\n",
       "\n",
       "            })\n",
       "            fig.texts.forEach(function(text, i){\n",
       "                text.dblclick(function(){\n",
       "                    bbox = fig.rects[i].getBBox();\n",
       "                    ProfileView.move_and_zoom(bbox.cx, bbox.cx, fig.clip_width/bbox.w, fig);\n",
       "                })\n",
       "                .mouseover(function(){\n",
       "                    fig.details.nodeValue = fig.rects[i].node.getAttribute(\"data-info\");\n",
       "                })\n",
       "                .mouseout(function(){\n",
       "                    fig.details.nodeValue = \"\";\n",
       "                });\n",
       "            })\n",
       "            Snap.selectAll(\"#fig-88cd03f17d11483c95e531ad2367a1aa-frame .pvbackground\").forEach(function(bg){\n",
       "               bg.dblclick(function(e){\n",
       "                   ProfileView.reset(fig);\n",
       "                });\n",
       "            });\n",
       "\n",
       "            function throttle(delay, callback) {\n",
       "                var previousCall = new Date().getTime();\n",
       "                return function() {\n",
       "                    var time = new Date().getTime();\n",
       "\n",
       "                    if ((time - previousCall) >= delay) {\n",
       "                        previousCall = time;\n",
       "                        callback.apply(null, arguments);\n",
       "                    }\n",
       "                    else {\n",
       "                        arguments[0].preventDefault();\n",
       "                    }\n",
       "                };\n",
       "            }\n",
       "\n",
       "            var MouseWheelHandler = throttle(400, function(e) {\n",
       "                e.preventDefault();\n",
       "                var e = window.event || e;\n",
       "                var delta = Math.max(-1, Math.min(1, (e.wheelDelta || -e.detail)));\n",
       "                pt.x = e.clientX;\n",
       "                pt.y = e.clientY;\n",
       "\n",
       "                pt.matrixTransform(fig.viewport.node.getScreenCTM().inverse());\n",
       "                var targetScale = fig.scale + 0.2*delta;\n",
       "                ProfileView.move_and_zoom(fig.shift, pt.x, targetScale, fig, 400);\n",
       "                return false;\n",
       "            })\n",
       "            frame = fig.frame.node;\n",
       "            if (frame.addEventListener) {\n",
       "                frame.addEventListener(\"mousewheel\", MouseWheelHandler, false);\n",
       "                frame.addEventListener(\"DOMMouseScroll\", MouseWheelHandler, false);\n",
       "            }\n",
       "            else {\n",
       "                frame.attachEvent(\"onmousewheel\", MouseWheelHandler);\n",
       "            }\n",
       "\n",
       "        fig.viewport.drag();\n",
       "}); ]]></script>\n",
       "</svg>\n"
      ],
      "text/plain": [
       "ProfileData(1066x7 Array{RGB{Float64},2}:\n",
       " RGB{Float64}(0.47034102652604887,0.3548485806834522,0.9887746568367514)  …  RGB{Float64}(0.0,0.0,0.0)\n",
       " RGB{Float64}(0.0,0.0,0.0)                                                   RGB{Float64}(0.0,0.0,0.0)\n",
       " RGB{Float64}(0.0,0.0,0.0)                                                   RGB{Float64}(0.0,0.0,0.0)\n",
       " RGB{Float64}(0.0,0.0,0.0)                                                   RGB{Float64}(0.0,0.0,0.0)\n",
       " RGB{Float64}(0.0,0.0,0.0)                                                   RGB{Float64}(0.0,0.0,0.0)\n",
       " RGB{Float64}(0.0,0.0,0.0)                                                …  RGB{Float64}(0.0,0.0,0.0)\n",
       " RGB{Float64}(0.0,0.0,0.0)                                                   RGB{Float64}(0.0,0.0,0.0)\n",
       " RGB{Float64}(0.0,0.0,0.0)                                                   RGB{Float64}(0.0,0.0,0.0)\n",
       " RGB{Float64}(0.0,0.0,0.0)                                                   RGB{Float64}(0.0,0.0,0.0)\n",
       " RGB{Float64}(0.0,0.0,0.0)                                                   RGB{Float64}(0.0,0.0,0.0)\n",
       " RGB{Float64}(0.0,0.0,0.0)                                                …  RGB{Float64}(0.0,0.0,0.0)\n",
       " RGB{Float64}(0.0,0.0,0.0)                                                   RGB{Float64}(0.0,0.0,0.0)\n",
       " RGB{Float64}(0.0,0.0,0.0)                                                   RGB{Float64}(0.0,0.0,0.0)\n",
       " ⋮                                                                        ⋱                           \n",
       " RGB{Float64}(0.0,0.0,0.0)                                                   RGB{Float64}(0.0,0.0,0.0)\n",
       " RGB{Float64}(0.0,0.0,0.0)                                                …  RGB{Float64}(0.0,0.0,0.0)\n",
       " RGB{Float64}(0.0,0.0,0.0)                                                   RGB{Float64}(0.0,0.0,0.0)\n",
       " RGB{Float64}(0.0,0.0,0.0)                                                   RGB{Float64}(0.0,0.0,0.0)\n",
       " RGB{Float64}(0.0,0.0,0.0)                                                   RGB{Float64}(0.0,0.0,0.0)\n",
       " RGB{Float64}(0.0,0.0,0.0)                                                   RGB{Float64}(0.0,0.0,0.0)\n",
       " RGB{Float64}(0.0,0.0,0.0)                                                …  RGB{Float64}(0.0,0.0,0.0)\n",
       " RGB{Float64}(0.0,0.0,0.0)                                                   RGB{Float64}(0.0,0.0,0.0)\n",
       " RGB{Float64}(0.0,0.0,0.0)                                                   RGB{Float64}(0.0,0.0,0.0)\n",
       " RGB{Float64}(0.0,0.0,0.0)                                                   RGB{Float64}(0.0,0.0,0.0)\n",
       " RGB{Float64}(0.0,0.0,0.0)                                                   RGB{Float64}(0.0,0.0,0.0)\n",
       " RGB{Float64}(0.0,0.0,0.0)                                                …  RGB{Float64}(0.0,0.0,0.0),[0x0000000000401453=>LineInfo(\"???\",\"???\",4199507,true,4199507),0x0000000008ed8144=>LineInfo(\"???\",\"???\",149782852,true,149782852),0x08ed840800000000=>LineInfo(\"???\",\"???\",643315491678453760,true,643315491678453760),0x0000000008ee2820=>LineInfo(\"???\",\"???\",149825568,true,149825568),0x0000000008ed9ee0=>LineInfo(\"???\",\"???\",149790432,true,149790432),0x0000000000000246=>LineInfo(\"???\",\"???\",582,true,582),0x00007f0b3d15db88=>LineInfo(\"???\",\"???\",139686246210440,true,139686246210440),0x00000000095ca7f0=>LineInfo(\"???\",\"???\",157067248,true,157067248),0x0000000008eddbe0=>LineInfo(\"???\",\"???\",149806048,true,149806048),0x040b035ac303003b=>LineInfo(\"???\",\"???\",291330289249222715,true,291330289249222715),0x0000000008edaea8=>LineInfo(\"???\",\"???\",149794472,true,149794472),0x0000000008ed6da0=>LineInfo(\"???\",\"???\",149777824,true,149777824),0x0000000008edf600=>LineInfo(\"???\",\"???\",149812736,true,149812736),0x0000000008ee56f0=>LineInfo(\"???\",\"???\",149837552,true,149837552),0x0000000008ee3d50=>LineInfo(\"???\",\"???\",149830992,true,149830992),0x000000000188c870=>LineInfo(\"???\",\"???\",25741424,true,25741424),0x0000000003fe8c40=>LineInfo(\"???\",\"???\",67013696,true,67013696),0x6c0402020702960b=>LineInfo(\"???\",\"???\",7783348263733859851,true,7783348263733859851),0xffffffffffffffff=>LineInfo(\"???\",\"???\",-1,true,-1),0x0000000008ed8243=>LineInfo(\"???\",\"???\",149783107,true,149783107),0x08ed7f100000002a=>LineInfo(\"???\",\"???\",643310028480053290,true,643310028480053290),0x00007f0b3d187d08=>LineInfo(\"???\",\"???\",139686246382856,true,139686246382856),0x0000000008ee4330=>LineInfo(\"???\",\"???\",149832496,true,149832496),0x0000000008ee8880=>LineInfo(\"???\",\"???\",149850240,true,149850240),0x000000000187a760=>LineInfo(\"???\",\"???\",25667424,true,25667424),0x00007f0b39f714f6=>LineInfo(\"execute_request_0x535c5df2\",\"/home/wheel/oxinabox/.julia/v0.4/IJulia/src/execute_request.jl\",157,false,139686193861878),0x0000000008ee1360=>LineInfo(\"???\",\"???\",149820256,true,149820256),0x0000000008ed95b8=>LineInfo(\"???\",\"???\",149788088,true,149788088),0x00007f0b3d1189d8=>LineInfo(\"???\",\"???\",139686245927384,true,139686245927384),0x00007f0b3d14f5e8=>LineInfo(\"???\",\"???\",139686246151656,true,139686246151656),0x000000000698a4f0=>LineInfo(\"???\",\"???\",110666992,true,110666992),0x0000000008ee7e80=>LineInfo(\"???\",\"???\",149847680,true,149847680),0x0000000008ee7f20=>LineInfo(\"???\",\"???\",149847840,true,149847840),0x0000000008189900=>LineInfo(\"???\",\"???\",135829760,true,135829760),0x0000000000000233=>LineInfo(\"???\",\"???\",563,true,563),0x000000000728c1b0=>LineInfo(\"???\",\"???\",120111536,true,120111536),0x0000000008ee47c0=>LineInfo(\"???\",\"???\",149833664,true,149833664),0x0000000008ee0020=>LineInfo(\"???\",\"???\",149815328,true,149815328),0x0000000008ed7ae4=>LineInfo(\"???\",\"???\",149781220,true,149781220),0x0000000008ee4350=>LineInfo(\"???\",\"???\",149832528,true,149832528),0x82d5880f81d5880f=>LineInfo(\"???\",\"???\",-9019153078555408369,true,-9019153078555408369),0x0000000008ee43c0=>LineInfo(\"???\",\"???\",149832640,true,149832640),0x000000000188ce30=>LineInfo(\"???\",\"???\",25742896,true,25742896),0x0000000001890510=>LineInfo(\"???\",\"???\",25756944,true,25756944),0x08ed834800000000=>LineInfo(\"???\",\"???\",643314667044732928,true,643314667044732928),0x00000000095b4700=>LineInfo(\"???\",\"???\",156976896,true,156976896),0x0000000008ed6bf0=>LineInfo(\"???\",\"???\",149777392,true,149777392),0x00000000095ca8f0=>LineInfo(\"???\",\"???\",157067504,true,157067504),0x0000000000000234=>LineInfo(\"???\",\"???\",564,true,564),0x0000000008ee1330=>LineInfo(\"???\",\"???\",149820208,true,149820208),0x0000000008ee47a0=>LineInfo(\"???\",\"???\",149833632,true,149833632),0x0000000001a0bf50=>LineInfo(\"???\",\"???\",27311952,true,27311952),0x0000000008ee4780=>LineInfo(\"???\",\"???\",149833600,true,149833600),0x0000000008ee3d60=>LineInfo(\"???\",\"???\",149831008,true,149831008),0x0000000008eda660=>LineInfo(\"???\",\"???\",149792352,true,149792352),0x000000000b3aea30=>LineInfo(\"???\",\"???\",188410416,true,188410416),0x0000000008edb660=>LineInfo(\"???\",\"???\",149796448,true,149796448),0x0000000008edc1e0=>LineInfo(\"???\",\"???\",149799392,true,149799392),0x08ed7b0800000051=>LineInfo(\"???\",\"???\",643305596073803857,true,643305596073803857),0x00000000095ca930=>LineInfo(\"???\",\"???\",157067568,true,157067568),0x08ed815000000000=>LineInfo(\"???\",\"???\",643312502381215744,true,643312502381215744),0x0000000008ee0930=>LineInfo(\"???\",\"???\",149817648,true,149817648),0x0000000000000226=>LineInfo(\"???\",\"???\",550,true,550),0x00007f0b3ba970a4=>LineInfo(\"???\",\"???\",139686222327972,true,139686222327972),0x00000000095b4260=>LineInfo(\"???\",\"???\",156975712,true,156975712),0x000000000000022b=>LineInfo(\"???\",\"???\",555,true,555),0x0000000008ee4360=>LineInfo(\"???\",\"???\",149832544,true,149832544),0x000000000188fb70=>LineInfo(\"???\",\"???\",25754480,true,25754480),0x0000000001890530=>LineInfo(\"???\",\"???\",25756976,true,25756976),0x0000001200000010=>LineInfo(\"???\",\"???\",77309411344,true,77309411344),0x0000000000000243=>LineInfo(\"???\",\"???\",579,true,579),0x00007f0b3d176718=>LineInfo(\"???\",\"???\",139686246311704,true,139686246311704),0x0000000008ee3d70=>LineInfo(\"???\",\"???\",149831024,true,149831024),0x00007f0b3d16d108=>LineInfo(\"???\",\"???\",139686246273288,true,139686246273288),0x000000000188d2b0=>LineInfo(\"???\",\"???\",25744048,true,25744048),0x00000000000002a9=>LineInfo(\"???\",\"???\",681,true,681),0x0000000008edd1c0=>LineInfo(\"???\",\"???\",149803456,true,149803456),0x6174732338323623=>LineInfo(\"???\",\"???\",7022364314081310243,true,7022364314081310243),0x0000000008ed842c=>LineInfo(\"???\",\"???\",149783596,true,149783596),0x0000000008edc1c0=>LineInfo(\"???\",\"???\",149799360,true,149799360),0x0000000003fe90c0=>LineInfo(\"???\",\"???\",67014848,true,67014848),0x0000000008edc360=>LineInfo(\"???\",\"???\",149799776,true,149799776),0x0000000008ee0cf0=>LineInfo(\"???\",\"???\",149818608,true,149818608),0x0000000008edaaa0=>LineInfo(\"???\",\"???\",149793440,true,149793440),0x0000000008eda638=>LineInfo(\"???\",\"???\",149792312,true,149792312),0x000000000c184c90=>LineInfo(\"???\",\"???\",202919056,true,202919056),0x0000000000000015=>LineInfo(\"???\",\"???\",21,true,21),0x0000000003fe9090=>LineInfo(\"???\",\"???\",67014800,true,67014800),0x00000000000002aa=>LineInfo(\"???\",\"???\",682,true,682),0x00007f0b3ba9b08f=>LineInfo(\"pthread_cond_wait\",\"/lib/x86_64-linux-gnu/libpthread.so.0\",-1,true,139686222344335),0x000000000188efb0=>LineInfo(\"???\",\"???\",25751472,true,25751472),0x000000000188d430=>LineInfo(\"???\",\"???\",25744432,true,25744432),0x00007f0b3d118a78=>LineInfo(\"???\",\"???\",139686245927544,true,139686245927544),0x0000000006411438=>LineInfo(\"???\",\"???\",104928312,true,104928312),0x0000000000000081=>LineInfo(\"???\",\"???\",129,true,129),0x0000000008edcf00=>LineInfo(\"???\",\"???\",149802752,true,149802752),0x0000060000010000=>LineInfo(\"???\",\"???\",6597069832192,true,6597069832192),0x00007f0b39f74427=>LineInfo(\"include_string\",\"loading.jl\",97,false,139686193873959),0x0000000008ee2ed0=>LineInfo(\"???\",\"???\",149827280,true,149827280),0x00007f0b3d186ae8=>LineInfo(\"???\",\"???\",139686246378216,true,139686246378216),0x0000000008ed7f04=>LineInfo(\"???\",\"???\",149782276,true,149782276),0x000000000188ef90=>LineInfo(\"???\",\"???\",25751440,true,25751440),0x000000000ab41140=>LineInfo(\"???\",\"???\",179573056,true,179573056),0x000000000188fa70=>LineInfo(\"???\",\"???\",25754224,true,25754224),0x0000000005179230=>LineInfo(\"???\",\"???\",85430832,true,85430832),0x00007f0b39d7dc47=>LineInfo(\"vcat\",\"abstractarray.jl\",554,false,139686191815751),0x0000000000000005=>LineInfo(\"???\",\"???\",5,true,5),0x84d5880f2482d588=>LineInfo(\"???\",\"???\",-8875037892045253240,true,-8875037892045253240),0x0000000008ee4560=>LineInfo(\"???\",\"???\",149833056,true,149833056),0x0000000008ee2800=>LineInfo(\"???\",\"???\",149825536,true,149825536),0x0000000008ee27b0=>LineInfo(\"???\",\"???\",149825456,true,149825456),0x0000000008eda4a0=>LineInfo(\"???\",\"???\",149791904,true,149791904),0x0000000008ee4fd0=>LineInfo(\"???\",\"???\",149835728,true,149835728),0x0000000008ede9e0=>LineInfo(\"???\",\"???\",149809632,true,149809632),0x0000000300000000=>LineInfo(\"???\",\"???\",12884901888,true,12884901888),0x000000000188d2d0=>LineInfo(\"???\",\"???\",25744080,true,25744080),0x00000000a7d09578=>LineInfo(\"???\",\"???\",2815464824,true,2815464824),0x0000000008ed9600=>LineInfo(\"???\",\"???\",149788160,true,149788160),0x000000000344b3b0=>LineInfo(\"???\",\"???\",54834096,true,54834096),0x0000000008ee43d0=>LineInfo(\"???\",\"???\",149832656,true,149832656),0x000000000188fbd0=>LineInfo(\"???\",\"???\",25754576,true,25754576),0x00007f0b3d187ed0=>LineInfo(\"???\",\"???\",139686246383312,true,139686246383312),0x00000000064111e0=>LineInfo(\"???\",\"???\",104927712,true,104927712),0x0000000008ee5000=>LineInfo(\"???\",\"???\",149835776,true,149835776),0x0000000008ee4fe0=>LineInfo(\"???\",\"???\",149835744,true,149835744),0x0000000000000200=>LineInfo(\"???\",\"???\",512,true,512),0x000000000188f470=>LineInfo(\"???\",\"???\",25752688,true,25752688),0x0000000001879ea0=>LineInfo(\"???\",\"???\",25665184,true,25665184),0x00007f0b3d118820=>LineInfo(\"???\",\"???\",139686245926944,true,139686245926944),0x0000000008ee4790=>LineInfo(\"???\",\"???\",149833616,true,149833616),0x00007f0b3d14f548=>LineInfo(\"???\",\"???\",139686246151496,true,139686246151496),0x0000000008ee3d40=>LineInfo(\"???\",\"???\",149830976,true,149830976),0x00007f0b3d12e6d0=>LineInfo(\"???\",\"???\",139686246016720,true,139686246016720),0x0000000008ed6f44=>LineInfo(\"???\",\"???\",149778244,true,149778244),0x00000000095ca8b0=>LineInfo(\"???\",\"???\",157067440,true,157067440),0x00007f0b39d801c8=>LineInfo(\"anonymous\",\"profile.jl\",14,false,139686191825352),0x000000000c1835c0=>LineInfo(\"???\",\"???\",202913216,true,202913216),0x000000000188fa50=>LineInfo(\"???\",\"???\",25754192,true,25754192),0x000000000b3b0910=>LineInfo(\"???\",\"???\",188418320,true,188418320),0x0000000008ee4760=>LineInfo(\"???\",\"???\",149833568,true,149833568),0x0000000008ee07a0=>LineInfo(\"???\",\"???\",149817248,true,149817248),0x0000000008ee1db0=>LineInfo(\"???\",\"???\",149822896,true,149822896),0x0000000008ed9618=>LineInfo(\"???\",\"???\",149788184,true,149788184),0x0000000008ee3070=>LineInfo(\"???\",\"???\",149827696,true,149827696),0x0000000008edb680=>LineInfo(\"???\",\"???\",149796480,true,149796480),0x00007f0b3d187bf0=>LineInfo(\"???\",\"???\",139686246382576,true,139686246382576),0x0000000008ed7ee8=>LineInfo(\"???\",\"???\",149782248,true,149782248),0x0000000008ee2ee0=>LineInfo(\"???\",\"???\",149827296,true,149827296),0x0000000008ee0960=>LineInfo(\"???\",\"???\",149817696,true,149817696),0x0000000008ee3d20=>LineInfo(\"???\",\"???\",149830944,true,149830944),0x00000000066c5b90=>LineInfo(\"???\",\"???\",107764624,true,107764624),0x0000000008ede780=>LineInfo(\"???\",\"???\",149809024,true,149809024),0x0000001a00000000=>LineInfo(\"???\",\"???\",111669149696,true,111669149696),0x0000000008edd020=>LineInfo(\"???\",\"???\",149803040,true,149803040),0x0000000008ed815c=>LineInfo(\"???\",\"???\",149782876,true,149782876),0x0000ba0c16656e69=>LineInfo(\"???\",\"???\",204561078120041,true,204561078120041),0x000000000188f7b0=>LineInfo(\"???\",\"???\",25753520,true,25753520),0x0000000008ee4ff0=>LineInfo(\"???\",\"???\",149835760,true,149835760),0x0000000008ed6980=>LineInfo(\"???\",\"???\",149776768,true,149776768),0x000000000188e130=>LineInfo(\"???\",\"???\",25747760,true,25747760),0x00007f0b3d187b78=>LineInfo(\"???\",\"???\",139686246382456,true,139686246382456),0x0000002e00000003=>LineInfo(\"???\",\"???\",197568495619,true,197568495619),0x000000000ab3b220=>LineInfo(\"???\",\"???\",179548704,true,179548704),0x0000000000000001=>LineInfo(\"???\",\"???\",1,true,1),0x08ed876800000003=>LineInfo(\"???\",\"???\",643319202530197507,true,643319202530197507),0x00007f0b3c1df880=>LineInfo(\"???\",\"???\",139686229964928,true,139686229964928),0x000000000517a7f0=>LineInfo(\"???\",\"???\",85436400,true,85436400),0x0000000008ee47d0=>LineInfo(\"???\",\"???\",149833680,true,149833680),0x140b656172030200=>LineInfo(\"???\",\"???\",1444359574701408768,true,1444359574701408768),0x000000000b3afff0=>LineInfo(\"???\",\"???\",188415984,true,188415984),0x000000000b5879b0=>LineInfo(\"???\",\"???\",190347696,true,190347696),0x0000000000000080=>LineInfo(\"???\",\"???\",128,true,128),0x000000000188c850=>LineInfo(\"???\",\"???\",25741392,true,25741392),0x0000000008ee7b00=>LineInfo(\"???\",\"???\",149846784,true,149846784),0x0000000008edf760=>LineInfo(\"???\",\"???\",149813088,true,149813088),0x0000000008edd040=>LineInfo(\"???\",\"???\",149803072,true,149803072),0x00007f0b3d117de8=>LineInfo(\"???\",\"???\",139686245924328,true,139686245924328),0x0000000008edd1e0=>LineInfo(\"???\",\"???\",149803488,true,149803488),0x0000000008ed78a0=>LineInfo(\"???\",\"???\",149780640,true,149780640),0x000000000188e6d0=>LineInfo(\"???\",\"???\",25749200,true,25749200),0x0000000008ee77e0=>LineInfo(\"???\",\"???\",149845984,true,149845984),0x0000000008ee3040=>LineInfo(\"???\",\"???\",149827648,true,149827648),0x0000000008ed71c0=>LineInfo(\"???\",\"???\",149778880,true,149778880),0x0000001900000000=>LineInfo(\"???\",\"???\",107374182400,true,107374182400),0x0000000000000026=>LineInfo(\"???\",\"???\",38,true,38),0x00007f0b3d161328=>LineInfo(\"???\",\"???\",139686246224680,true,139686246224680),0x0000000000000229=>LineInfo(\"???\",\"???\",553,true,553),0x0000000008eda698=>LineInfo(\"???\",\"???\",149792408,true,149792408),0x0000000008edd1a0=>LineInfo(\"???\",\"???\",149803424,true,149803424),0x0000000008ee5740=>LineInfo(\"???\",\"???\",149837632,true,149837632),0x0000000008eddc00=>LineInfo(\"???\",\"???\",149806080,true,149806080),0x0000000008ede760=>LineInfo(\"???\",\"???\",149808992,true,149808992),0x00007f0b3d188338=>LineInfo(\"???\",\"???\",139686246384440,true,139686246384440),0x0000000000000051=>LineInfo(\"???\",\"???\",81,true,81),0x0000000008ee0070=>LineInfo(\"???\",\"???\",149815408,true,149815408),0x000000000517af10=>LineInfo(\"???\",\"???\",85438224,true,85438224),0x00007f0b39d7dc73=>LineInfo(\"vcat\",\"abstractarray.jl\",554,false,139686191815795),0x00007f0b3c18e2c9=>LineInfo(\"jl_load_file_string\",\"/root/buildFromSource/julia/usr/bin/../lib/libjulia.so\",-1,true,139686229631689),0x00007f0b3d18a4f8=>LineInfo(\"???\",\"???\",139686246393080,true,139686246393080),0x08ed8b7000000051=>LineInfo(\"???\",\"???\",643323634936447057,true,643323634936447057),0x000000000188e150=>LineInfo(\"???\",\"???\",25747792,true,25747792),0x0000000008ed8354=>LineInfo(\"???\",\"???\",149783380,true,149783380),0x000000000188fbb0=>LineInfo(\"???\",\"???\",25754544,true,25754544),0x0000000008edaed8=>LineInfo(\"???\",\"???\",149794520,true,149794520),0x0000000006411258=>LineInfo(\"???\",\"???\",104927832,true,104927832),0x000000000b3b06b0=>LineInfo(\"???\",\"???\",188417712,true,188417712),0x00007f0b3d143e38=>LineInfo(\"???\",\"???\",139686246104632,true,139686246104632),0x00007f0b3afaa04d=>LineInfo(\"clone\",\"/lib/x86_64-linux-gnu/libc.so.6\",-1,true,139686210871373),0x0000000008edffb0=>LineInfo(\"???\",\"???\",149815216,true,149815216),0x0000000000000242=>LineInfo(\"???\",\"???\",578,true,578),0x000000000753c9e0=>LineInfo(\"???\",\"???\",122931680,true,122931680),0x000000000188d2f0=>LineInfo(\"???\",\"???\",25744112,true,25744112),0x000000000811b040=>LineInfo(\"???\",\"???\",135376960,true,135376960),0x00007f0b3d118058=>LineInfo(\"???\",\"???\",139686245924952,true,139686245924952),0x00007f0b37623cab=>LineInfo(\"???\",\"???\",139686150552747,true,139686150552747),0x0000000008edf5a0=>LineInfo(\"???\",\"???\",149812640,true,149812640),0x0000000008ee3030=>LineInfo(\"???\",\"???\",149827632,true,149827632),0x08ed6f5000000051=>LineInfo(\"???\",\"???\",643292711171915857,true,643292711171915857),0x00007f0b3d187728=>LineInfo(\"???\",\"???\",139686246381352,true,139686246381352),0x000000000c183570=>LineInfo(\"???\",\"???\",202913136,true,202913136),0x0000000008ee7ae0=>LineInfo(\"???\",\"???\",149846752,true,149846752),0x00007f0b3d15c2d0=>LineInfo(\"???\",\"???\",139686246204112,true,139686246204112),0x0000000008ee27d0=>LineInfo(\"???\",\"???\",149825488,true,149825488),0x0000000008ee64c0=>LineInfo(\"???\",\"???\",149841088,true,149841088),0x000000000b588810=>LineInfo(\"???\",\"???\",190351376,true,190351376),0x00007f0b3ba9e8d0=>LineInfo(\"???\",\"???\",139686222358736,true,139686222358736),0x00007f0b3d181be8=>LineInfo(\"???\",\"???\",139686246357992,true,139686246357992),0x0000000000000245=>LineInfo(\"???\",\"???\",581,true,581),0x0000000008ed7ebc=>LineInfo(\"???\",\"???\",149782204,true,149782204),0x0000000000000002=>LineInfo(\"???\",\"???\",2,true,2),0x00007f0b39f70c97=>LineInfo(\"jlcall_execute_request_0x535c5df2_20785\",\"\",-1,true,139686193859735),0x0000000008ee8860=>LineInfo(\"???\",\"???\",149850208,true,149850208),0x00007f0b3c1d5f15=>LineInfo(\"rec_backtrace\",\"/root/buildFromSource/julia/usr/bin/../lib/libjulia.so\",-1,true,139686229925653),0x0000000008ee3d00=>LineInfo(\"???\",\"???\",149830912,true,149830912),0x0000000008ee0780=>LineInfo(\"???\",\"???\",149817216,true,149817216),0x0000000008ee7da0=>LineInfo(\"???\",\"???\",149847456,true,149847456),0x0000000008ede7c0=>LineInfo(\"???\",\"???\",149809088,true,149809088),0x00007f0b3d161230=>LineInfo(\"???\",\"???\",139686246224432,true,139686246224432),0x0000000008ee2ec0=>LineInfo(\"???\",\"???\",149827264,true,149827264),0x0000000008ed8d40=>LineInfo(\"???\",\"???\",149785920,true,149785920),0x00007f0b3aee5b45=>LineInfo(\"__libc_start_main\",\"/lib/x86_64-linux-gnu/libc.so.6\",-1,true,139686210067269),0x08ed7ef80000002a=>LineInfo(\"???\",\"???\",643309925400838186,true,643309925400838186),0x0000000008ed7afc=>LineInfo(\"???\",\"???\",149781244,true,149781244),0x0000000008ee7f00=>LineInfo(\"???\",\"???\",149847808,true,149847808),0x0000000008ee3d30=>LineInfo(\"???\",\"???\",149830960,true,149830960),0x0000000008edab80=>LineInfo(\"???\",\"???\",149793664,true,149793664),0x00007f0b3d188130=>LineInfo(\"???\",\"???\",139686246383920,true,139686246383920),0x0000000008ee72c0=>LineInfo(\"???\",\"???\",149844672,true,149844672),0x0000000008ed83fc=>LineInfo(\"???\",\"???\",149783548,true,149783548),0x00000000095c9cb0=>LineInfo(\"???\",\"???\",157064368,true,157064368),0x0000000008ed875c=>LineInfo(\"???\",\"???\",149784412,true,149784412),0x000000000a56d240=>LineInfo(\"???\",\"???\",173462080,true,173462080),0x00007f0b3d14f5c0=>LineInfo(\"???\",\"???\",139686246151616,true,139686246151616),0x0000000008ee7ec0=>LineInfo(\"???\",\"???\",149847744,true,149847744),0x0000000005317a50=>LineInfo(\"???\",\"???\",87128656,true,87128656),0x0000000008edae78=>LineInfo(\"???\",\"???\",149794424,true,149794424),0x00007f0b3d156768=>LineInfo(\"???\",\"???\",139686246180712,true,139686246180712),0x0000000008ed7740=>LineInfo(\"???\",\"???\",149780288,true,149780288),0x0000000008ed7f30=>LineInfo(\"???\",\"???\",149782320,true,149782320),0x0000000008ed9ec0=>LineInfo(\"???\",\"???\",149790400,true,149790400),0x0000000008ee0000=>LineInfo(\"???\",\"???\",149815296,true,149815296),0x00007f0b3d1878c0=>LineInfo(\"???\",\"???\",139686246381760,true,139686246381760),0x00000000066c49f0=>LineInfo(\"???\",\"???\",107760112,true,107760112),0x0000000008ee4340=>LineInfo(\"???\",\"???\",149832512,true,149832512),0x0000000008ee5750=>LineInfo(\"???\",\"???\",149837648,true,149837648),0x0000000008ed96e0=>LineInfo(\"???\",\"???\",149788384,true,149788384),0x000000000b588bf0=>LineInfo(\"???\",\"???\",190352368,true,190352368),0x00007f0b3d187608=>LineInfo(\"???\",\"???\",139686246381064,true,139686246381064),0x0000000008ede7a0=>LineInfo(\"???\",\"???\",149809056,true,149809056),0x000000000ab41840=>LineInfo(\"???\",\"???\",179574848,true,179574848),0x000000000188fb90=>LineInfo(\"???\",\"???\",25754512,true,25754512),0x0000000000000004=>LineInfo(\"???\",\"???\",4,true,4),0x0000000008ee1380=>LineInfo(\"???\",\"???\",149820288,true,149820288),0x000000000188ce10=>LineInfo(\"???\",\"???\",25742864,true,25742864),0x0000000008e01d00=>LineInfo(\"???\",\"???\",148905216,true,148905216),0x0000000008ee5730=>LineInfo(\"???\",\"???\",149837616,true,149837616),0x0000000008ee7ee0=>LineInfo(\"???\",\"???\",149847776,true,149847776),0x0000000008ed8b64=>LineInfo(\"???\",\"???\",149785444,true,149785444),0x00007f0b3a4977f0=>LineInfo(\"anonymous\",\"./inference.jl\",0,false,139686199261168),0x0000000008edc380=>LineInfo(\"???\",\"???\",149799808,true,149799808),0x0000000000088801=>LineInfo(\"???\",\"???\",559105,true,559105),0x00007f0b3d118598=>LineInfo(\"???\",\"???\",139686245926296,true,139686245926296),0x0000000008ee3060=>LineInfo(\"???\",\"???\",149827680,true,149827680),0x0000000008edc3a0=>LineInfo(\"???\",\"???\",149799840,true,149799840),0x08ed875000000003=>LineInfo(\"???\",\"???\",643319099450982403,true,643319099450982403),0x000000000753ca80=>LineInfo(\"???\",\"???\",122931840,true,122931840),0x0000000008ee3080=>LineInfo(\"???\",\"???\",149827712,true,149827712),0x0000000008edb6a0=>LineInfo(\"???\",\"???\",149796512,true,149796512),0x0000000008ee1b00=>LineInfo(\"???\",\"???\",149822208,true,149822208),0x0000000008eda340=>LineInfo(\"???\",\"???\",149791552,true,149791552),0x08ed7eb000000000=>LineInfo(\"???\",\"???\",643309616163192832,true,643309616163192832),0x0000000008eea310=>LineInfo(\"???\",\"???\",149857040,true,149857040),0x0000000008edcf20=>LineInfo(\"???\",\"???\",149802784,true,149802784),0x0000000008ee6a40=>LineInfo(\"???\",\"???\",149842496,true,149842496),0x00000000066a3040=>LineInfo(\"???\",\"???\",107622464,true,107622464),0x00000000066c4870=>LineInfo(\"???\",\"???\",107759728,true,107759728),0x0000000008ee5710=>LineInfo(\"???\",\"???\",149837584,true,149837584),0x0000000008edb640=>LineInfo(\"???\",\"???\",149796416,true,149796416),0x000000000188e0f0=>LineInfo(\"???\",\"???\",25747696,true,25747696),0x0000000000000227=>LineInfo(\"???\",\"???\",551,true,551),0x0000000008edfb20=>LineInfo(\"???\",\"???\",149814048,true,149814048),0x000000000188f770=>LineInfo(\"???\",\"???\",25753456,true,25753456),0x0000000008e04380=>LineInfo(\"???\",\"???\",148915072,true,148915072),0x0000000008187c00=>LineInfo(\"???\",\"???\",135822336,true,135822336),0x0000000008ed7b10=>LineInfo(\"???\",\"???\",149781264,true,149781264),0x000000000ab37fc0=>LineInfo(\"???\",\"???\",179535808,true,179535808),0x000000000188e710=>LineInfo(\"???\",\"???\",25749264,true,25749264),0x000000000000000c=>LineInfo(\"???\",\"???\",12,true,12),0x01076c6a2e796172=>LineInfo(\"???\",\"???\",74147122176942450,true,74147122176942450),0x0000000008ee56d0=>LineInfo(\"???\",\"???\",149837520,true,149837520),0x0000000008ed6f5c=>LineInfo(\"???\",\"???\",149778268,true,149778268),0x0000000008edf160=>LineInfo(\"???\",\"???\",149811552,true,149811552),0x0000000008ed6f00=>LineInfo(\"???\",\"???\",149778176,true,149778176),0x0000000008ee1dd0=>LineInfo(\"???\",\"???\",149822928,true,149822928),0x000000000ab45d70=>LineInfo(\"???\",\"???\",179592560,true,179592560),0x0000000001879b20=>LineInfo(\"???\",\"???\",25664288,true,25664288),0x0000000008eddc20=>LineInfo(\"???\",\"???\",149806112,true,149806112),0x0000005100000000=>LineInfo(\"???\",\"???\",347892350976,true,347892350976),0x0000000003fe8c10=>LineInfo(\"???\",\"???\",67013648,true,67013648),0x0000000008ee47b0=>LineInfo(\"???\",\"???\",149833648,true,149833648),0x00000000095ca830=>LineInfo(\"???\",\"???\",157067312,true,157067312),0x000000000188d270=>LineInfo(\"???\",\"???\",25743984,true,25743984),0x0200000040000296=>LineInfo(\"???\",\"???\",144115189149598358,true,144115189149598358),0x00007f0b3d118988=>LineInfo(\"???\",\"???\",139686245927304,true,139686245927304),0x00007f0b3d1898f0=>LineInfo(\"???\",\"???\",139686246390000,true,139686246390000),0x0000000008ed99a0=>LineInfo(\"???\",\"???\",149789088,true,149789088),0x000000000728d1a0=>LineInfo(\"???\",\"???\",120115616,true,120115616),0x0000000008ed8923=>LineInfo(\"???\",\"???\",149784867,true,149784867),0x000000000188ef50=>LineInfo(\"???\",\"???\",25751376,true,25751376),0x0000000008edf140=>LineInfo(\"???\",\"???\",149811520,true,149811520),0x000000000188fbf0=>LineInfo(\"???\",\"???\",25754608,true,25754608),0x000000000000027a=>LineInfo(\"???\",\"???\",634,true,634),0x00000000025db400=>LineInfo(\"???\",\"???\",39695360,true,39695360),0x0000000008ee4540=>LineInfo(\"???\",\"???\",149833024,true,149833024),0x0000000000737574=>LineInfo(\"???\",\"???\",7566708,true,7566708),0x0000000008ed6f98=>LineInfo(\"???\",\"???\",149778328,true,149778328),0x00007f0b3d1613d8=>LineInfo(\"???\",\"???\",139686246224856,true,139686246224856),0x000000000b3b0a70=>LineInfo(\"???\",\"???\",188418672,true,188418672),0x000000000188e110=>LineInfo(\"???\",\"???\",25747728,true,25747728),0x00007f0b3c1e350f=>LineInfo(\"???\",\"???\",139686229980431,true,139686229980431),0x00000000018904f0=>LineInfo(\"???\",\"???\",25756912,true,25756912),0x000000000188f490=>LineInfo(\"???\",\"???\",25752720,true,25752720),0x08ed8b5800000051=>LineInfo(\"???\",\"???\",643323531857231953,true,643323531857231953),0x0000002a00000000=>LineInfo(\"???\",\"???\",180388626432,true,180388626432),0x0000000001879b90=>LineInfo(\"???\",\"???\",25664400,true,25664400),0x00007f0b3c189eaa=>LineInfo(\"jl_apply_generic\",\"/root/buildFromSource/julia/usr/bin/../lib/libjulia.so\",-1,true,139686229614250),0x0000000008ee4550=>LineInfo(\"???\",\"???\",149833040,true,149833040),0x0000000008ed7ea4=>LineInfo(\"???\",\"???\",149782180,true,149782180),0x0000000008ed8414=>LineInfo(\"???\",\"???\",149783572,true,149783572),0x00000000019ccf80=>LineInfo(\"???\",\"???\",27053952,true,27053952),0x00000000066c4708=>LineInfo(\"???\",\"???\",107759368,true,107759368),0x00007f0b3d187910=>LineInfo(\"???\",\"???\",139686246381840,true,139686246381840),0x08ed7af000000003=>LineInfo(\"???\",\"???\",643305492994588675,true,643305492994588675),0x0000000008ee4530=>LineInfo(\"???\",\"???\",149833008,true,149833008),0x0000000008ed7f1c=>LineInfo(\"???\",\"???\",149782300,true,149782300),0x08ed7ad800000003=>LineInfo(\"???\",\"???\",643305389915373571,true,643305389915373571),0x0000000008ee2ef0=>LineInfo(\"???\",\"???\",149827312,true,149827312),0x0000000008ee5720=>LineInfo(\"???\",\"???\",149837600,true,149837600),0x000000000188e170=>LineInfo(\"???\",\"???\",25747824,true,25747824),0x0000000008edf180=>LineInfo(\"???\",\"???\",149811584,true,149811584),0x000000000b3b11f0=>LineInfo(\"???\",\"???\",188420592,true,188420592),0x0000000008ed6f38=>LineInfo(\"???\",\"???\",149778232,true,149778232),0x000000000000027b=>LineInfo(\"???\",\"???\",635,true,635),0x00007f0b3d186bb8=>LineInfo(\"???\",\"???\",139686246378424,true,139686246378424),0x000000000188fa90=>LineInfo(\"???\",\"???\",25754256,true,25754256),0x000000000040141d=>LineInfo(\"???\",\"???\",4199453,true,4199453),0x0000000008eda4e0=>LineInfo(\"???\",\"???\",149791968,true,149791968),0x0000000008ed7ed0=>LineInfo(\"???\",\"???\",149782224,true,149782224),0x00000000018797a0=>LineInfo(\"???\",\"???\",25663392,true,25663392),0x0000000008ee7320=>LineInfo(\"???\",\"???\",149844768,true,149844768),0x0000000008ee43e0=>LineInfo(\"???\",\"???\",149832672,true,149832672),0x0000000008ee7dc0=>LineInfo(\"???\",\"???\",149847488,true,149847488),0x00007f0b3d118aa0=>LineInfo(\"???\",\"???\",139686245927584,true,139686245927584),0x00007f0b3d117f38=>LineInfo(\"???\",\"???\",139686245924664,true,139686245924664),0x0000000008edffd0=>LineInfo(\"???\",\"???\",149815248,true,149815248),0x000000000188d450=>LineInfo(\"???\",\"???\",25744464,true,25744464),0x0000000008ee6a60=>LineInfo(\"???\",\"???\",149842528,true,149842528),0x08ed962000000000=>LineInfo(\"???\",\"???\",643335385966968832,true,643335385966968832),0x00007f0b39f69e79=>LineInfo(\"eventloop\",\"/home/wheel/oxinabox/.julia/v0.4/IJulia/src/IJulia.jl\",123,false,139686193831545),0x00000000066c63e8=>LineInfo(\"???\",\"???\",107766760,true,107766760),0x0000000006a5ea40=>LineInfo(\"???\",\"???\",111536704,true,111536704),0x0000000100000000=>LineInfo(\"???\",\"???\",4294967296,true,4294967296),0x000000000188f790=>LineInfo(\"???\",\"???\",25753488,true,25753488),0x000000000188efd0=>LineInfo(\"???\",\"???\",25751504,true,25751504),0x0000000008ee56e0=>LineInfo(\"???\",\"???\",149837536,true,149837536),0x000000000811a8a0=>LineInfo(\"???\",\"???\",135375008,true,135375008),0x00007f0b3d11cd68=>LineInfo(\"???\",\"???\",139686245944680,true,139686245944680),0x0000000008ee47e0=>LineInfo(\"???\",\"???\",149833696,true,149833696),0x00007f0b3d187c40=>LineInfo(\"???\",\"???\",139686246382656,true,139686246382656),0x00007f0b3c1d4c67=>LineInfo(\"julia_trampoline\",\"/root/buildFromSource/julia/usr/bin/../lib/libjulia.so\",-1,true,139686229920871),0x1d020781d5880f81=>LineInfo(\"???\",\"???\",2090241431267970945,true,2090241431267970945),0x00000000095c9cf0=>LineInfo(\"???\",\"???\",157064432,true,157064432),0x0000000008edd200=>LineInfo(\"???\",\"???\",149803520,true,149803520),0x0b2400130b03161e=>LineInfo(\"???\",\"???\",802766715367921182,true,802766715367921182),0x00007f0b3c1d5dac=>LineInfo(\"jl_handle_stack_switch\",\"/root/buildFromSource/julia/usr/bin/../lib/libjulia.so\",-1,true,139686229925292),0x0000000007a0a6e0=>LineInfo(\"???\",\"???\",127968992,true,127968992),0x0000000008edaae0=>LineInfo(\"???\",\"???\",149793504,true,149793504),0x0000000008ed99a3=>LineInfo(\"???\",\"???\",149789091,true,149789091),0x0000000008edea00=>LineInfo(\"???\",\"???\",149809664,true,149809664),0x00007f0b3d187e78=>LineInfo(\"???\",\"???\",139686246383224,true,139686246383224),0x000000000000022a=>LineInfo(\"???\",\"???\",554,true,554),0x0000000008ee3d80=>LineInfo(\"???\",\"???\",149831040,true,149831040),0x00007f0b3c1deecc=>LineInfo(\"???\",\"???\",139686229962444,true,139686229962444),0x0000000008edf120=>LineInfo(\"???\",\"???\",149811488,true,149811488),0x0000000100000001=>LineInfo(\"???\",\"???\",4294967297,true,4294967297),0x00007f0b3d187cb8=>LineInfo(\"???\",\"???\",139686246382776,true,139686246382776),0x72616275730b0200=>LineInfo(\"???\",\"???\",8241977049645515264,true,8241977049645515264),0x00007f0b3d117f60=>LineInfo(\"???\",\"???\",139686245924704,true,139686245924704),0x0000000008ee5700=>LineInfo(\"???\",\"???\",149837568,true,149837568),0x00007f0b3d181c68=>LineInfo(\"???\",\"???\",139686246358120,true,139686246358120),0x0000000008ee7300=>LineInfo(\"???\",\"???\",149844736,true,149844736),0x000000000188ce70=>LineInfo(\"???\",\"???\",25742960,true,25742960),0x0000000008eddc40=>LineInfo(\"???\",\"???\",149806144,true,149806144),0x0000000008eda4a3=>LineInfo(\"???\",\"???\",149791907,true,149791907),0x0000000008ee6480=>LineInfo(\"???\",\"???\",149841024,true,149841024),0x0000000008ed7b14=>LineInfo(\"???\",\"???\",149781268,true,149781268),0x0000000008ee77c0=>LineInfo(\"???\",\"???\",149845952,true,149845952),0x00007f0b39f6c85f=>LineInfo(\"anonymous\",\"task.jl\",340,false,139686193842271),0x0000000008edd9c0=>LineInfo(\"???\",\"???\",149805504,true,149805504),0x0000000008ee64a0=>LineInfo(\"???\",\"???\",149841056,true,149841056),0x00007f0b3d1874f0=>LineInfo(\"???\",\"???\",139686246380784,true,139686246380784),0x0000000008eda600=>LineInfo(\"???\",\"???\",149792256,true,149792256),0x0000000000003021=>LineInfo(\"???\",\"???\",12321,true,12321),0x0000000003023080=>LineInfo(\"???\",\"???\",50475136,true,50475136),0x0000000008edd9a0=>LineInfo(\"???\",\"???\",149805472,true,149805472),0x0000000000000003=>LineInfo(\"???\",\"???\",3,true,3),0x0000000008edc3c0=>LineInfo(\"???\",\"???\",149799872,true,149799872),0x0000000300000004=>LineInfo(\"???\",\"???\",12884901892,true,12884901892),0x000000000aab8480=>LineInfo(\"???\",\"???\",179012736,true,179012736),0x000000000188fb30=>LineInfo(\"???\",\"???\",25754416,true,25754416),0x0000000008ee1310=>LineInfo(\"???\",\"???\",149820176,true,149820176),0x0000000008ee3050=>LineInfo(\"???\",\"???\",149827664,true,149827664),0x0000000008edae40=>LineInfo(\"???\",\"???\",149794368,true,149794368),0x08ed842000000000=>LineInfo(\"???\",\"???\",643315594757668864,true,643315594757668864),0x000000000188ef70=>LineInfo(\"???\",\"???\",25751408,true,25751408),0x0000000008ee0910=>LineInfo(\"???\",\"???\",149817616,true,149817616),0x0000000008ed9614=>LineInfo(\"???\",\"???\",149788180,true,149788180),0x000000000188c830=>LineInfo(\"???\",\"???\",25741360,true,25741360),0x000000000188d290=>LineInfo(\"???\",\"???\",25744016,true,25744016),0x000000000188e6f0=>LineInfo(\"???\",\"???\",25749232,true,25749232),0x0000000001cdf950=>LineInfo(\"???\",\"???\",30275920,true,30275920),0x00000000000002a8=>LineInfo(\"???\",\"???\",680,true,680),0x0000000000000278=>LineInfo(\"???\",\"???\",632,true,632),0x0000000008ed96e3=>LineInfo(\"???\",\"???\",149788387,true,149788387),0x02960b2484d5880f=>LineInfo(\"???\",\"???\",186348686057768975,true,186348686057768975),0x0000000008ee3d10=>LineInfo(\"???\",\"???\",149830928,true,149830928),0x0f161c030702960b=>LineInfo(\"???\",\"???\",1087087159384643083,true,1087087159384643083),0x0000000008ee6460=>LineInfo(\"???\",\"???\",149840992,true,149840992),0x0000000008edc3e0=>LineInfo(\"???\",\"???\",149799904,true,149799904),0x000000000aabe480=>LineInfo(\"???\",\"???\",179037312,true,179037312),0x0000000008edf740=>LineInfo(\"???\",\"???\",149813056,true,149813056),0x00000000066c46f0=>LineInfo(\"???\",\"???\",107759344,true,107759344),0x0000000008ee3020=>LineInfo(\"???\",\"???\",149827616,true,149827616),0x0000000008ee43f0=>LineInfo(\"???\",\"???\",149832688,true,149832688),0x00007f0b39d7c07d=>LineInfo(\"test\",\"In[10]\",5,false,139686191808637),0x0000000008ee0980=>LineInfo(\"???\",\"???\",149817728,true,149817728),0x08ed6f6800000000=>LineInfo(\"???\",\"???\",643292814251130880,true,643292814251130880),0x0000000008ee3090=>LineInfo(\"???\",\"???\",149827728,true,149827728),0x000000000188d470=>LineInfo(\"???\",\"???\",25744496,true,25744496),0x0000000008edf5e0=>LineInfo(\"???\",\"???\",149812704,true,149812704),0x000000000188ce90=>LineInfo(\"???\",\"???\",25742992,true,25742992),0x0000000008ed9580=>LineInfo(\"???\",\"???\",149788032,true,149788032),0x0000000008e039c0=>LineInfo(\"???\",\"???\",148912576,true,148912576),0x0000000000000232=>LineInfo(\"???\",\"???\",562,true,562),0x00007f0b3d118938=>LineInfo(\"???\",\"???\",139686245927224,true,139686245927224),0x0000000008ed8774=>LineInfo(\"???\",\"???\",149784436,true,149784436),0x0000000000000244=>LineInfo(\"???\",\"???\",580,true,580),0x000000000a56d260=>LineInfo(\"???\",\"???\",173462112,true,173462112),0x0000000008ee7ea0=>LineInfo(\"???\",\"???\",149847712,true,149847712),0x0000000008ee0cd0=>LineInfo(\"???\",\"???\",149818576,true,149818576),0x0000000001879880=>LineInfo(\"???\",\"???\",25663616,true,25663616),0x0000000008ee72e0=>LineInfo(\"???\",\"???\",149844704,true,149844704),0x0000000c00000015=>LineInfo(\"???\",\"???\",51539607573,true,51539607573),0x000000000188ce50=>LineInfo(\"???\",\"???\",25742928,true,25742928),0x000000000188fb50=>LineInfo(\"???\",\"???\",25754448,true,25754448),0x0000000008edd180=>LineInfo(\"???\",\"???\",149803392,true,149803392),0x0000000008edf5c0=>LineInfo(\"???\",\"???\",149812672,true,149812672),0x0000000008edd220=>LineInfo(\"???\",\"???\",149803552,true,149803552),0x0000000008ee4770=>LineInfo(\"???\",\"???\",149833584,true,149833584)],1066x7 Array{TagData,2}:\n",
       " TagData(0x00007f0b3a4977f0,0)   …  TagData(0x0000000000000000,-1)\n",
       " TagData(0x0000000000000000,-1)     TagData(0x0000000000000000,-1)\n",
       " TagData(0x0000000000000000,-1)     TagData(0x0000000000000000,-1)\n",
       " TagData(0x0000000000000000,-1)     TagData(0x0000000000000000,-1)\n",
       " TagData(0x0000000000000000,-1)     TagData(0x0000000000000000,-1)\n",
       " TagData(0x0000000000000000,-1)  …  TagData(0x0000000000000000,-1)\n",
       " TagData(0x0000000000000000,-1)     TagData(0x0000000000000000,-1)\n",
       " TagData(0x0000000000000000,-1)     TagData(0x0000000000000000,-1)\n",
       " TagData(0x0000000000000000,-1)     TagData(0x0000000000000000,-1)\n",
       " TagData(0x0000000000000000,-1)     TagData(0x0000000000000000,-1)\n",
       " TagData(0x0000000000000000,-1)  …  TagData(0x0000000000000000,-1)\n",
       " TagData(0x0000000000000000,-1)     TagData(0x0000000000000000,-1)\n",
       " TagData(0x0000000000000000,-1)     TagData(0x0000000000000000,-1)\n",
       " ⋮                               ⋱                                \n",
       " TagData(0x0000000000000000,-1)     TagData(0x0000000000000000,-1)\n",
       " TagData(0x0000000000000000,-1)  …  TagData(0x0000000000000000,-1)\n",
       " TagData(0x0000000000000000,-1)     TagData(0x0000000000000000,-1)\n",
       " TagData(0x0000000000000000,-1)     TagData(0x0000000000000000,-1)\n",
       " TagData(0x0000000000000000,-1)     TagData(0x0000000000000000,-1)\n",
       " TagData(0x0000000000000000,-1)     TagData(0x0000000000000000,-1)\n",
       " TagData(0x0000000000000000,-1)  …  TagData(0x0000000000000000,-1)\n",
       " TagData(0x0000000000000000,-1)     TagData(0x0000000000000000,-1)\n",
       " TagData(0x0000000000000000,-1)     TagData(0x0000000000000000,-1)\n",
       " TagData(0x0000000000000000,-1)     TagData(0x0000000000000000,-1)\n",
       " TagData(0x0000000000000000,-1)     TagData(0x0000000000000000,-1)\n",
       " TagData(0x0000000000000000,-1)  …  TagData(0x0000000000000000,-1),12)"
      ]
     },
     "execution_count": 12,
     "metadata": {},
     "output_type": "execute_result"
    }
   ],
   "source": [
    "using ProfileView\n",
    "ProfileView.view()"
   ]
  },
  {
   "cell_type": "code",
   "execution_count": null,
   "metadata": {
    "collapsed": true
   },
   "outputs": [],
   "source": [
    "elapsed time: 0.000270554 seconds (1220240 bytes allocated)"
   ]
  },
  {
   "cell_type": "code",
   "execution_count": null,
   "metadata": {
    "collapsed": true
   },
   "outputs": [],
   "source": [
    "elapsed time: 0.000104285 seconds (366584 bytes allocated)  #Reshape\n",
    "elapsed time: 9.2663e-5 seconds (366392 bytes allocated)    #No Reshape"
   ]
  },
  {
   "cell_type": "code",
   "execution_count": 11,
   "metadata": {
    "collapsed": false
   },
   "outputs": [
    {
     "ename": "LoadError",
     "evalue": "@compat not defined\nwhile loading In[11], in expression starting on line 7",
     "output_type": "error",
     "traceback": [
      "@compat not defined\nwhile loading In[11], in expression starting on line 7",
      ""
     ]
    }
   ],
   "source": [
    "# tests\n",
    "\n",
    "function analytic_grad(rae::RAE, tree::@compat Tuple{Any,Any})\n",
    "    (Δs, err)=loss_and_loss_grad(rae, tree)\n",
    "    tuple(Δs...)\n",
    "end\n",
    " \n",
    "function numeric_grad(rae::RAE, tree::@compat Tuple{Any,Any}, ϵ=10.0^-4)\n",
    "    rae_inner = deepcopy(rae)\n",
    "    θ = pack(rae_inner)\n",
    "        Δθ = zeros(size(θ))\n",
    "    for ii in 1:length(θ)\n",
    "        ϵᵢ = zeros(size(θ))\n",
    "        ϵᵢ[ii]=ϵ\n",
    "        θⁱ⁺ = θ + ϵᵢ\n",
    "        θⁱ⁻ = θ - ϵᵢ\n",
    "        \n",
    "        unpack!(rae_inner,θⁱ⁺)\n",
    "        Jⁱ⁺ = loss(rae_inner, tree)\n",
    "        \n",
    "        unpack!(rae_inner,θⁱ⁻)\n",
    "        Jⁱ⁻=loss(rae_inner, tree)\n",
    "        Δθ[ii] = (Jⁱ⁺-Jⁱ⁻)/(2.0*ϵ)\n",
    "    end\n",
    "    unpack!(rae_inner,Δθ)\n",
    "    \n",
    "    (rae_inner.W_e, rae_inner.b_e, rae_inner.W_d, rae_inner.b_d)\n",
    "   \n",
    "end"
   ]
  },
  {
   "cell_type": "code",
   "execution_count": null,
   "metadata": {
    "collapsed": false,
    "scrolled": true
   },
   "outputs": [],
   "source": [
    "#eg_tree = training_trees[2]\n",
    "rae_outer = RAE(LL,word_indexes,indexed_words);\n",
    "#aW_e, ab_e, aW_d, ab_d = analytic_grad(rae_outer, eg_tree);\n",
    "#nW_e, nb_e, nW_d, nb_d = numeric_grad(rae_outer, eg_tree, 10.0^-7);\n"
   ]
  },
  {
   "cell_type": "code",
   "execution_count": null,
   "metadata": {
    "collapsed": false,
    "scrolled": true
   },
   "outputs": [],
   "source": [
    "ngs = pack(nW_e, nb_e, nW_d, nb_d)\n",
    "ags = pack(aW_e, ab_e, aW_d, ab_d)\n",
    "\n",
    "@printval mean(abs(ngs-ags))\n",
    "@printval median(abs(ngs-ags))\n",
    "@printval maximum(abs(ngs-ags))\n",
    "@printval norm(ngs-ags)\n",
    "println(\"-\"^54)\n",
    "\n",
    "\n",
    "for (ng,ag) in zip(ngs, ags)\n",
    "    println(ng,\"\\t\", ag, \"\\t\", abs(ng-ag))\n",
    "end\n",
    "\n",
    "\n"
   ]
  },
  {
   "cell_type": "code",
   "execution_count": null,
   "metadata": {
    "collapsed": false
   },
   "outputs": [],
   "source": [
    "using ForwardDiff\n",
    "\n",
    "function f(θ)\n",
    "    rae_inner = RAE(rae_outer.L, rae_outer.word_index, rae_outer.indexed_words,\n",
    "        similar(rae_outer.W_e),similar(rae_outer.b_e),similar(rae_outer.W_d),similar(rae_outer.b_d))\n",
    "    unpack!(rae_inner,θ)\n",
    "    loss(rae_inner, training_trees[2])\n",
    "end\n",
    "\n",
    "# Using forwarddiff_jacobian\n",
    "g = forwarddiff_gradient(f, Float64, fadtype=:dual, n=length(pack(rae_outer)))\n"
   ]
  },
  {
   "cell_type": "code",
   "execution_count": null,
   "metadata": {
    "collapsed": false
   },
   "outputs": [],
   "source": [
    "θ = pack(rae_outer)\n",
    "dg = g(θ)"
   ]
  },
  {
   "cell_type": "code",
   "execution_count": null,
   "metadata": {
    "collapsed": false
   },
   "outputs": [],
   "source": [
    "ag = pack(analytic_grad(rae_outer, training_trees[2])...)"
   ]
  },
  {
   "cell_type": "code",
   "execution_count": null,
   "metadata": {
    "collapsed": false
   },
   "outputs": [],
   "source": [
    "maximum(abs(dg.-ag))\n"
   ]
  },
  {
   "cell_type": "code",
   "execution_count": null,
   "metadata": {
    "collapsed": false
   },
   "outputs": [],
   "source": [
    "map(t->Vector{t}, [Number, Float16])"
   ]
  },
  {
   "cell_type": "code",
   "execution_count": null,
   "metadata": {
    "collapsed": false
   },
   "outputs": [],
   "source": [
    "Union(subtypes(Number)...)"
   ]
  },
  {
   "cell_type": "code",
   "execution_count": null,
   "metadata": {
    "collapsed": true
   },
   "outputs": [],
   "source": []
  },
  {
   "cell_type": "code",
   "execution_count": null,
   "metadata": {
    "collapsed": false
   },
   "outputs": [],
   "source": [
    "Dual"
   ]
  },
  {
   "cell_type": "code",
   "execution_count": null,
   "metadata": {
    "collapsed": true
   },
   "outputs": [],
   "source": []
  }
 ],
 "metadata": {
  "kernelspec": {
   "display_name": "Julia 0.4.0-dev",
   "language": "julia",
   "name": "julia-0.4"
  },
  "language_info": {
   "name": "julia",
   "version": "0.3.10"
  }
 },
 "nbformat": 4,
 "nbformat_minor": 0
}
