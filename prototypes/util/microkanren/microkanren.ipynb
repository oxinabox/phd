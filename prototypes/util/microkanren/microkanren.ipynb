{
 "cells": [
  {
   "cell_type": "code",
   "execution_count": 1,
   "metadata": {
    "collapsed": false
   },
   "outputs": [],
   "source": [
    "using Base.Test"
   ]
  },
  {
   "cell_type": "code",
   "execution_count": 2,
   "metadata": {
    "collapsed": false
   },
   "outputs": [
    {
     "name": "stderr",
     "output_type": "stream",
     "text": [
      "WARNING: Union(args...) is deprecated, use Union{args...} instead.\n"
     ]
    }
   ],
   "source": [
    "using Match"
   ]
  },
  {
   "cell_type": "code",
   "execution_count": 3,
   "metadata": {
    "collapsed": false
   },
   "outputs": [
    {
     "data": {
      "text/plain": [
       "Var"
      ]
     },
     "execution_count": 3,
     "metadata": {},
     "output_type": "execute_result"
    },
    {
     "name": "stderr",
     "output_type": "stream",
     "text": [
      " in depwarn at deprecated.jl:73\n",
      " in call at deprecated.jl:50\n",
      " in include at ./boot.jl:261\n",
      " in include_from_node1 at ./loading.jl:304\n",
      " in include at ./boot.jl:261\n",
      " in include_from_node1 at ./loading.jl:304\n",
      " in require at ./loading.jl:243\n",
      " in include_string at loading.jl:266\n",
      " in execute_request_0x535c5df2 at /home/ubuntu/.julia/v0.5/IJulia/src/execute_request.jl:177\n",
      " in eventloop at /home/ubuntu/.julia/v0.5/IJulia/src/IJulia.jl:141\n",
      " in anonymous at task.jl:443\n",
      "while loading /home/ubuntu/.julia/v0.5/Match/src/matchmacro.jl, in expression starting on line 225\n",
      "WARNING: Union(args...) is deprecated, use Union{args...} instead.\n",
      " in depwarn at deprecated.jl:73\n",
      " in call at deprecated.jl:50\n",
      " in include at ./boot.jl:261\n",
      " in include_from_node1 at ./loading.jl:304\n",
      " in include at ./boot.jl:261\n",
      " in include_from_node1 at ./loading.jl:304\n",
      " in require at ./loading.jl:243\n",
      " in include_string at loading.jl:266\n",
      " in execute_request_0x535c5df2 at /home/ubuntu/.julia/v0.5/IJulia/src/execute_request.jl:177\n",
      " in eventloop at /home/ubuntu/.julia/v0.5/IJulia/src/IJulia.jl:141\n",
      " in anonymous at task.jl:443\n",
      "while loading /home/ubuntu/.julia/v0.5/Match/src/matchmacro.jl, in expression starting on line 225\n"
     ]
    }
   ],
   "source": [
    "_next_var_id=-1\n",
    "immutable Var\n",
    "    id::Int\n",
    "end\n",
    "function Var()\n",
    "    global _next_var_id+=1\n",
    "    Var(_next_var_id)\n",
    "end"
   ]
  },
  {
   "cell_type": "code",
   "execution_count": 4,
   "metadata": {
    "collapsed": false
   },
   "outputs": [
    {
     "data": {
      "text/plain": [
       "walk (generic function with 2 methods)"
      ]
     },
     "execution_count": 4,
     "metadata": {},
     "output_type": "execute_result"
    }
   ],
   "source": [
    "function walk(u::Any, s)\n",
    "    u\n",
    "end\n",
    "\n",
    "function walk(u::Var,s)\n",
    "    for (v,w) in s\n",
    "        if v==u\n",
    "            return walk(w,s)\n",
    "        end\n",
    "    end\n",
    "    u #Otherwise\n",
    "end"
   ]
  },
  {
   "cell_type": "code",
   "execution_count": 5,
   "metadata": {
    "collapsed": false
   },
   "outputs": [
    {
     "data": {
      "text/plain": [
       "ext_s (generic function with 1 method)"
      ]
     },
     "execution_count": 5,
     "metadata": {},
     "output_type": "execute_result"
    }
   ],
   "source": [
    "function ext_s(x,v,s)\n",
    "    ((x,v),s)\n",
    "end"
   ]
  },
  {
   "cell_type": "code",
   "execution_count": 6,
   "metadata": {
    "collapsed": false
   },
   "outputs": [
    {
     "data": {
      "text/plain": [
       "unify (generic function with 1 method)"
      ]
     },
     "execution_count": 6,
     "metadata": {},
     "output_type": "execute_result"
    }
   ],
   "source": [
    "function unify(u,v,s)\n",
    "    u = walk(u,s)\n",
    "    v = walk(v,s)\n",
    "    @match (u,v) begin\n",
    "        (u::Var, v::Var), if u==v end => s\n",
    "        (u::Var, v) => ext_s(u,v,s)\n",
    "        (u,v::Var)  => ext_s(v,u,s)\n",
    "        ((u1,u2),(v1,v2)) => begin \n",
    "            s=unify(u1,v1,s)\n",
    "            s!=false ? unify(u2,v2,s) : false\n",
    "        end\n",
    "        (u,v), if(u==v) end => s\n",
    "        _ => false\n",
    "    end\n",
    "end            "
   ]
  },
  {
   "cell_type": "code",
   "execution_count": 14,
   "metadata": {
    "collapsed": false
   },
   "outputs": [
    {
     "ename": "LoadError",
     "evalue": "LoadError: UndefVarError: u not defined\nwhile loading In[14], in expression starting on line 1",
     "output_type": "error",
     "traceback": [
      "LoadError: UndefVarError: u not defined\nwhile loading In[14], in expression starting on line 1",
      ""
     ]
    }
   ],
   "source": [
    "unify((1,u),(1,2),[]) == ((u,2),[])"
   ]
  },
  {
   "cell_type": "code",
   "execution_count": 15,
   "metadata": {
    "collapsed": false
   },
   "outputs": [
    {
     "data": {
      "text/plain": [
       "Test Passed\n",
       "  Expression: unify((1,u),(2,2),[]) == false\n",
       "   Evaluated: false == false"
      ]
     },
     "execution_count": 15,
     "metadata": {},
     "output_type": "execute_result"
    }
   ],
   "source": []
  },
  {
   "cell_type": "code",
   "execution_count": 9,
   "metadata": {
    "collapsed": false
   },
   "outputs": [
    {
     "data": {
      "text/plain": [
       "≡ (generic function with 1 method)"
      ]
     },
     "execution_count": 9,
     "metadata": {},
     "output_type": "execute_result"
    }
   ],
   "source": [
    "function ≡(u,v)\n",
    "    function λ(sc)\n",
    "        s = unify(u,v, sc[1])\n",
    "        if s!=False\n",
    "            [s]\n",
    "        else\n",
    "            []\n",
    "        end\n",
    "    end\n",
    "end       "
   ]
  },
  {
   "cell_type": "code",
   "execution_count": 17,
   "metadata": {
    "collapsed": false
   },
   "outputs": [
    {
     "data": {
      "text/plain": [
       "Test Passed\n",
       "  Expression: unify((1,u),(2,2),[]) == false\n",
       "   Evaluated: false == false"
      ]
     },
     "execution_count": 17,
     "metadata": {},
     "output_type": "execute_result"
    }
   ],
   "source": [
    "using Base.Test\n",
    "begin #Test Vars\n",
    "    a=Var()\n",
    "    b=Var()\n",
    "    @test(a!=b)\n",
    "    @test(a==a)\n",
    "    @test typeof(a)==Var\n",
    "end\n",
    "\n",
    "begin #Test unification\n",
    "    u=Var()\n",
    "    @test unify((1,u),(1,2),[]) == ((u,2),[])\n",
    "    @test unify((1,u),(2,2),[]) == false\n",
    "end"
   ]
  },
  {
   "cell_type": "code",
   "execution_count": 25,
   "metadata": {
    "collapsed": false
   },
   "outputs": [
    {
     "data": {
      "text/plain": [
       "Test Passed\n",
       "  Expression: collect(interleave([1,2,3],[10,20,30,40,50],[0.1,0.2])) == [1,10,0.1,2,20,0.2,3,30,40,50]\n",
       "   Evaluated: Real[1,10,0.1,2,20,0.2,3,30,40,50] == [1.0,10.0,0.1,2.0,20.0,0.2,3.0,30.0,40.0,50.0]"
      ]
     },
     "execution_count": 25,
     "metadata": {},
     "output_type": "execute_result"
    }
   ],
   "source": [
    "import Base: start, next, done, eltype, length\n",
    "\n",
    "immutable Interleave\n",
    "    xss::Vector{Any}\n",
    "    function Interleave(xss...)\n",
    "        new(Any[xss...])\n",
    "    end\n",
    "end\n",
    "\n",
    "\n",
    "\"\"\"\n",
    "Interleave is the transpose of chain.\n",
    "It returns one element from each of the iterators in turn.\n",
    "If one of the interators runs dry then it is skippted\n",
    "eg:\n",
    "```\n",
    "collect(interleave([1,2,3],[10,20,30,40,50],[0.1,0.2]))\n",
    ">[1,10,0.1,2,20,0.2,3,30,40,50]\n",
    "```\n",
    "\"\"\"\n",
    "function interleave(xss...)\n",
    "    Interleave(xss...)\n",
    "end\n",
    "\n",
    "function start(it::Interleave)\n",
    "    xs_states = map(start, it.xss)\n",
    "    return 1, xs_states\n",
    "end\n",
    "\n",
    "function next(it::Interleave, state)\n",
    "    i, xs_states = state\n",
    "    \n",
    "    #Find a nonempty list\n",
    "    initial_i = i\n",
    "    while done(it.xss[i], xs_states[i]) #Look for one that isn't done\n",
    "        i += 1\n",
    "        if i == length(it.xss)+ 1\n",
    "            i=1\n",
    "        end\n",
    "        \n",
    "        if i==initial_i\n",
    "            #Then we have dones a full loop, and none are good\n",
    "            throw(BoundsError(\"Next was called on Interleave, but all contained iterators are Done\"))\n",
    "        end\n",
    "    end\n",
    "    \n",
    "    #find value to return\n",
    "    v, xs_state = next(it.xss[i], xs_states[i])\n",
    "    \n",
    "    #update xs_state\n",
    "    new_xs_states = copy(xs_states)\n",
    "    new_xs_states[i]=xs_state \n",
    "    \n",
    "    #Find next state\n",
    "    new_i=i+1\n",
    "    if new_i == length(it.xss)+ 1\n",
    "        new_i=1\n",
    "    end\n",
    "    \n",
    "    return v, (new_i, new_xs_states)\n",
    "end\n",
    "\n",
    "function done(it::Interleave, state)\n",
    "    i, xs_states = state\n",
    "    all(Bool[done(xs,xs_state) for (xs, xs_state) in zip(it.xss, xs_states)]) #can't use map as typeinference fails on map(done,[],[])\n",
    "end\n",
    "\n",
    "function eltype(it::Interleave)\n",
    "    #Literally Identical to eltype(it::Chain), could be combined by using a typeunion there\n",
    "    try\n",
    "        typejoin([eltype(xs) for xs in it.xss]...)\n",
    "    catch\n",
    "        Any\n",
    "    end\n",
    "end\n",
    "\n",
    "using Base.Test\n",
    "@test collect(interleave()) == [] \n",
    "@test collect(interleave([1,2,3])) == [1,2,3]\n",
    "@test collect(interleave([1,2,3],[10,20,30])) == [1,10,2,20,3,30]\n",
    "@test collect(interleave([1,2,3],[10,20,30,40,50],[0.1,0.2])) == [1,10,0.1,2,20,0.2,3,30,40,50]"
   ]
  },
  {
   "cell_type": "code",
   "execution_count": null,
   "metadata": {
    "collapsed": false
   },
   "outputs": [],
   "source": []
  },
  {
   "cell_type": "code",
   "execution_count": null,
   "metadata": {
    "collapsed": false
   },
   "outputs": [],
   "source": [
    "for i in interleave(1:3, ['a', 'b', 'c','d'])\n",
    "    @show i\n",
    "end"
   ]
  },
  {
   "cell_type": "code",
   "execution_count": null,
   "metadata": {
    "collapsed": false
   },
   "outputs": [],
   "source": [
    "done([],2)"
   ]
  },
  {
   "cell_type": "code",
   "execution_count": null,
   "metadata": {
    "collapsed": false
   },
   "outputs": [],
   "source": []
  },
  {
   "cell_type": "code",
   "execution_count": null,
   "metadata": {
    "collapsed": false
   },
   "outputs": [],
   "source": []
  },
  {
   "cell_type": "code",
   "execution_count": null,
   "metadata": {
    "collapsed": false
   },
   "outputs": [],
   "source": [
    "for (ii, v) in enumerate(interleave([1,2,3],[10,20,30,40,50],[0.1,0.2])) \n",
    "    println(ii,\" - \", v)\n",
    "    if ii>20\n",
    "        break\n",
    "    end\n",
    "end"
   ]
  },
  {
   "cell_type": "code",
   "execution_count": null,
   "metadata": {
    "collapsed": false
   },
   "outputs": [],
   "source": [
    "rem(5,6)"
   ]
  },
  {
   "cell_type": "code",
   "execution_count": null,
   "metadata": {
    "collapsed": true
   },
   "outputs": [],
   "source": []
  }
 ],
 "metadata": {
  "kernelspec": {
   "display_name": "Julia 0.5.0-dev",
   "language": "julia",
   "name": "julia-0.5"
  },
  "language_info": {
   "file_extension": ".jl",
   "mimetype": "application/julia",
   "name": "julia",
   "version": "0.5.0"
  }
 },
 "nbformat": 4,
 "nbformat_minor": 0
}
