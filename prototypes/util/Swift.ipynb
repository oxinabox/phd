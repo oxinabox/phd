{
 "cells": [
  {
   "cell_type": "code",
   "execution_count": 10,
   "metadata": {
    "collapsed": false
   },
   "outputs": [],
   "source": [
    "using JLD\n",
    "using FileIO"
   ]
  },
  {
   "cell_type": "code",
   "execution_count": 11,
   "metadata": {
    "collapsed": false
   },
   "outputs": [
    {
     "data": {
      "text/plain": [
       "env_connection (generic function with 1 method)"
      ]
     },
     "execution_count": 11,
     "metadata": {},
     "output_type": "execute_result"
    }
   ],
   "source": [
    "using PyCall\n",
    "\n",
    "\n",
    "@pyimport swiftclient.client as client\n",
    "\n",
    "\n",
    "env_connection() = client.Connection(authurl=ENV[\"OS_AUTH_URL\"],\n",
    "                          user=ENV[\"OS_USERNAME\"],\n",
    "                          key=ENV[\"OS_PASSWORD\"],\n",
    "                          tenant_name=\"UWA_SEMANTIC_VECTORS\",\n",
    "                          auth_version=\"2\") |> pywrap\n",
    "\n"
   ]
  },
  {
   "cell_type": "code",
   "execution_count": 12,
   "metadata": {
    "collapsed": false
   },
   "outputs": [
    {
     "data": {
      "text/plain": [
       "__anon__"
      ]
     },
     "execution_count": 12,
     "metadata": {},
     "output_type": "execute_result"
    }
   ],
   "source": [
    "conn = client.Connection(authurl=\"https://keystone.rc.nectar.org.au:5000/v2.0/\",\n",
    "                          user=\"20361362@student.uwa.edu.au\",\n",
    "                          key=\"MzhkYzg0M2IwMTU2NGU1\",\n",
    "                          tenant_name=\"UWA_SEMANTIC_VECTORS\",\n",
    "                          auth_version=\"2\") |> pywrap\n"
   ]
  },
  {
   "cell_type": "code",
   "execution_count": 13,
   "metadata": {
    "collapsed": false
   },
   "outputs": [
    {
     "data": {
      "text/plain": [
       "get_jld (generic function with 1 method)"
      ]
     },
     "execution_count": 13,
     "metadata": {},
     "output_type": "execute_result"
    }
   ],
   "source": [
    "function put_jld(conn, container::String, name::String; data...)\n",
    "        \n",
    "    fn = joinpath(mktempdir(\"/dev/shm\"), name)\n",
    "        #To make compatible with non-unix, remove the /dev/shm and let the temp file be wherever \n",
    "\n",
    "    save(File(format\"JLD\", fn), Base.Flatten(((string(name), val) for (name,val) in data))...)\n",
    "    \n",
    "        \n",
    "    open(fn, \"r\") do fp\n",
    "        etag = conn.put_object(container, name, contents = fp, content_type = \"application/x-hdf5\");\n",
    "    end\n",
    "    \n",
    "end\n",
    "\n",
    "\n",
    "function get_jld(conn, container::String, name::String, data...)\n",
    "            \n",
    "    fn = joinpath(mktempdir(\"/dev/shm\"), name)\n",
    "        #To make compatible with non-unix, remove the /dev/shm and let the temp file be wherever \n",
    "          \n",
    "    open(fn, \"w\") do fp\n",
    "        response_headers, response_data =  conn.get_object(container, name);\n",
    "        write(fp, response_data)\n",
    "    end\n",
    "    \n",
    "    JLD.load(File(format\"JLD\", fn), data...)\n",
    "end"
   ]
  },
  {
   "cell_type": "code",
   "execution_count": null,
   "metadata": {
    "collapsed": true
   },
   "outputs": [],
   "source": []
  },
  {
   "cell_type": "code",
   "execution_count": null,
   "metadata": {
    "collapsed": true
   },
   "outputs": [],
   "source": []
  },
  {
   "cell_type": "code",
   "execution_count": 14,
   "metadata": {
    "collapsed": true
   },
   "outputs": [],
   "source": [
    "using Glob"
   ]
  },
  {
   "cell_type": "code",
   "execution_count": null,
   "metadata": {
    "collapsed": false
   },
   "outputs": [],
   "source": [
    "for fn in glob(glob\"../SenseSplittingWord2Vec/eval/models/adagram/*.jld\")\n",
    "    @show fn\n",
    "    name = basename(fn)\n",
    "    open(fn, \"r\") do fp\n",
    "        etag = conn.put_object(\"sensemodels/adagram/\", name, contents = fp, content_type = \"application/x-hdf5\");\n",
    "    end\n",
    "end\n",
    "\n",
    "\n",
    "for fn in glob(glob\"../SenseSplittingWord2Vec/eval/models/adagram/*.adagram_model\")\n",
    "    @show fn\n",
    "    name = basename(fn)\n",
    "    open(fn, \"r\") do fp\n",
    "        etag = conn.put_object(\"sensemodels/adagram/\", name, contents = fp, content_type = \"application/octet-stream\");\n",
    "    end\n",
    "end\n",
    "\n",
    "for fn in glob(glob\"../SenseSplittingWord2Vec/eval/models/ss/*.jld\")\n",
    "    @show fn\n",
    "    name = basename(fn)\n",
    "    open(fn, \"r\") do fp\n",
    "        etag = conn.put_object(\"sensemodels/greedy/\", name, contents = fp, content_type = \"application/x-hdf5\");\n",
    "    end\n",
    "end\n",
    "\n",
    "\n",
    "for fn in glob(glob\"../SenseSplittingWord2Vec/eval/models/ss/*.log\")\n",
    "    @show fn\n",
    "    name = basename(fn)\n",
    "    open(fn, \"r\") do fp\n",
    "        etag = conn.put_object(\"sensemodels/greedy/\", name, contents = fp, content_type = \"text/plain\");\n",
    "    end\n",
    "end\n",
    "\n",
    "\n",
    "for fn in glob(glob\"../SenseSplittingWord2Vec/eval/models/plain/*.jld\")\n",
    "    @show fn\n",
    "    name = basename(fn)\n",
    "    open(fn, \"r\") do fp\n",
    "        etag = conn.put_object(\"sensemodels/plain/\", name, contents = fp, content_type = \"application/x-hdf5\");\n",
    "    end\n",
    "end\n",
    "\n",
    "\n",
    "for fn in glob(glob\"../SenseSplittingWord2Vec/eval/models/plain/*.log\")\n",
    "    @show fn\n",
    "    name = basename(fn)\n",
    "    open(fn, \"r\") do fp\n",
    "        etag = conn.put_object(\"sensemodels/plain/\", name, contents = fp, content_type = \"text/plain\");\n",
    "    end\n",
    "end\n"
   ]
  },
  {
   "cell_type": "code",
   "execution_count": null,
   "metadata": {
    "collapsed": false
   },
   "outputs": [],
   "source": [
    "glob(glob\"../SenseSplittingWord2Vec/eval/models/plain/*\")"
   ]
  },
  {
   "cell_type": "code",
   "execution_count": null,
   "metadata": {
    "collapsed": true
   },
   "outputs": [],
   "source": []
  }
 ],
 "metadata": {
  "kernelspec": {
   "display_name": "Julia 0.5.0-rc0",
   "language": "julia",
   "name": "julia-0.5"
  },
  "language_info": {
   "file_extension": ".jl",
   "mimetype": "application/julia",
   "name": "julia",
   "version": "0.5.0"
  }
 },
 "nbformat": 4,
 "nbformat_minor": 0
}
