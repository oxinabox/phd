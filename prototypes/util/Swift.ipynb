{
 "cells": [
  {
   "cell_type": "code",
   "execution_count": 5,
   "metadata": {
    "collapsed": false
   },
   "outputs": [
    {
     "data": {
      "text/plain": [
       "PyObject <swiftclient.service.SwiftService object at 0x7f2816cb3dd0>"
      ]
     },
     "execution_count": 5,
     "metadata": {},
     "output_type": "execute_result"
    }
   ],
   "source": [
    "using SwiftObjectStores\n",
    "using SwiftObjectStores.stat\n",
    "using Base.Test\n",
    "using JLD\n",
    "import PyCall.PyError\n",
    "ENV[\"OS_PASSWORD\"] = \"MzhkYzg0M2IwMTU2NGU1\"\n",
    "ENV[\"OS_USERNAME\"] = \"20361362@student.uwa.edu.au\"\n",
    "\n",
    "const serv = SwiftService(\n",
    "    auth_url =  \"https://keystone.rc.nectar.org.au:5000/v2.0/\",\n",
    "    tenant_name = \"UWA_SEMANTIC_VECTORS\", \n",
    "    #It is a little scary that I am testing in the same Tanant as I am using for my actual research\n",
    ")"
   ]
  },
  {
   "cell_type": "code",
   "execution_count": 6,
   "metadata": {
    "collapsed": false
   },
   "outputs": [
    {
     "data": {
      "text/plain": [
       "Dict{String,Dict{Any,Any}} with 5 entries:\n",
       "  \"sensemodels\" => Dict{Any,Any}(Pair{Any,Any}(\"name\",\"sensemodels\"),Pair{Any,Any}(\"bytes\",2362834369),Pair{Any,Any}(\"count\",20))\n",
       "  \"testing-out-swift-container_segments\" => Dict{Any,Any}(Pair{Any,Any}(\"name\",\"testing-out-swift-container_segments\"),Pair{Any,Any}(\"bytes\",0),Pair{Any,Any}(\"count\",0))\n",
       "  \"sensemodels_segments\" => Dict{Any,Any}(Pair{Any,Any}(\"name\",\"sensemodels_segments\"),Pair{Any,Any}(\"bytes\",20710368140),Pair{Any,Any}(\"count\",21))\n",
       "  \"swift.jl-testing_segments\" => Dict{Any,Any}(Pair{Any,Any}(\"name\",\"swift.jl-testing_segments\"),Pair{Any,Any}(\"bytes\",0),Pair{Any,Any}(\"count\",0))\n",
       "  \"testing-out-swift-container\" => Dict{Any,Any}(Pair{Any,Any}(\"name\",\"testing-out-swift-container\"),Pair{Any,Any}(\"bytes\",58746),Pair{Any,Any}(\"count\",14))"
      ]
     },
     "execution_count": 6,
     "metadata": {},
     "output_type": "execute_result"
    }
   ],
   "source": [
    "list(serv)"
   ]
  },
  {
   "cell_type": "code",
   "execution_count": 7,
   "metadata": {
    "collapsed": false
   },
   "outputs": [
    {
     "name": "stdout",
     "output_type": "stream",
     "text": [
      "#!/bin/bash\n",
      "# To use an Openstack cloud you need to authenticate against keystone, \n",
      "# which returns a **Token** and **Service Catalog**.  The catalog \n",
      "# contains the endpoint for all services the user/tenant has access to - \n",
      "# including nova, glance, keystone, swift.\n",
      "#\n",
      "# *NOTE*: Using the 2.0 *auth api* does not mean that compute api is \n",
      "# 2.0.  We will use the 1.1 *compute api*\n",
      "export OS_AUTH_URL=https://keystone.rc.nectar.org.au:5000/v2.0/\n",
      "# With the addition of Keystone we have standardized on the term \n",
      "# **tenant** as the entity that owns the resources.\n",
      "export OS_TENANT_ID=eca532d8c1e84913bd21d6d22b30f985\n",
      "export OS_TENANT_NAME=\"UWA_SEMANTIC_VECTORS\"\n",
      "# In addition to the owning entity (tenant), openstack stores the entity \n",
      "# performing the action as the **user**.\n",
      "export OS_USERNAME=\"20361362@student.uwa.edu.au\"\n",
      "# With Keystone you pass the keystone password.\n",
      "export OS_PASSWORD=\"MzhkYzg0M2IwMTU2NGU1\"\n",
      "# If your configuration has multiple regions, we set that information \n",
      "# here. OS_REGION_NAME is optional and only valid in certain \n",
      "# environments.\n",
      "export OS_REGION_NAME=\"Melbourne\"\n",
      "# Don't leave a blank variable, unset it if it was empty\n",
      "if [ -z \"$OS_REGION_NAME\" ]; then unset OS_REGION_NAME; fi\n",
      "\n",
      "echo \"Open Stack Credentials Loaded\"\n"
     ]
    }
   ],
   "source": [
    ";cat ~/openrc.sh"
   ]
  },
  {
   "cell_type": "code",
   "execution_count": null,
   "metadata": {
    "collapsed": true
   },
   "outputs": [],
   "source": []
  },
  {
   "cell_type": "code",
   "execution_count": 1,
   "metadata": {
    "collapsed": false
   },
   "outputs": [
    {
     "data": {
      "text/plain": [
       "\"20361362@student.uwa.edu.au\""
      ]
     },
     "execution_count": 1,
     "metadata": {},
     "output_type": "execute_result"
    }
   ],
   "source": []
  },
  {
   "cell_type": "code",
   "execution_count": 4,
   "metadata": {
    "collapsed": false,
    "scrolled": false
   },
   "outputs": [
    {
     "name": "stdout",
     "output_type": "stream",
     "text": [
      "Test Summary: | Pass  Total\n",
      "  PreCreate   |    1      1\n",
      "Test Summary:    | Pass  Total\n",
      "  Stream User Path |    7      7\n",
      "Test Summary:  | Pass  Total\n",
      "  File User Path |    2      2\n",
      "Test Summary:                 | Pass  Total\n",
      "  File User Path with PseudoDir |    2      2\n",
      "Test Summary: | Pass  Total\n",
      "  JLD         |    3      3\n",
      "Test Summary: | Pass  Total\n",
      "  Post_test   |    3      3\n"
     ]
    }
   ],
   "source": [
    "using SwiftObjectStores\n",
    "using SwiftObjectStores.stat\n",
    "using Base.Test\n",
    "using JLD\n",
    "import PyCall.PyError\n",
    "\n",
    "const serv = SwiftService(\n",
    "    auth_url =  \"https://keystone.rc.nectar.org.au:5000/v2.0/\",\n",
    "    tenant_name = \"UWA_SEMANTIC_VECTORS\", \n",
    "    #It is a little scary that I am testing in the same Tanant as I am using for my actual research\n",
    ")\n",
    "const container_name = \"swift.jl-testing\"\n",
    "\n",
    "if haskey(SwiftObjectStores.list(serv), container_name)\n",
    "    warn(\"Past test left mess. Deleting \" * container_name * \" for use in testing\")\n",
    "    delete(serv,container_name)    \n",
    "end\n",
    "\n",
    "\n",
    "@testset \"PreCreate\" begin\n",
    "    @test_throws PyError stat(serv, container_name)  # container should not exist\n",
    "end\n",
    "\n",
    "\n",
    "\n",
    "@testset \"Stream User Path\" begin\n",
    "    const obj_name = \"eg1buffer\"\n",
    "    \n",
    "    eg_text = \"The Julia Language: A fresh approach to technical computing. λ=x²\"\n",
    "    @test put_file(serv, container_name, obj_name, IOBuffer(eg_text)) != nothing\n",
    "    get_file(serv, container_name, obj_name) do fp\n",
    "        @test readstring(fp) == eg_text\n",
    "    end\n",
    "    \n",
    "    @test Dict(stat(serv, container_name)[\"items\"])[\"Objects\"] == \"1\"\n",
    "    @test stat(serv, container_name, obj_name) !=nothing\n",
    "    \n",
    "    @test delete(serv,container_name, obj_name)!=nothing\n",
    "    @test stat(serv, container_name, obj_name)[\"success\"] == false \n",
    "    @test stat(serv, container_name, \"eg1buffer\")[\"error\"][:http_status] == 404\n",
    "end;\n",
    "\n",
    "\n",
    "@testset \"File User Path\" begin\n",
    "    const obj_name = \"eg2file\"\n",
    "    const file_name = joinpath(@__FILE__, \"eg2file.txt\")\n",
    "    open(file_name, \"w\") do fp\n",
    "        println(fp, \"\"\"\n",
    "        Call me Ishmael. Some years ago- never mind how long precisely- \n",
    "        having little or no money in my purse, and nothing particular to interest me on shore,\n",
    "        I thought I would sail about a little and see the watery part of the world. \n",
    "        It is a way I have of driving off the spleen and regulating the circulation. \n",
    "        \"\"\")\n",
    "    end\n",
    "    \n",
    "    @test put_file(serv, container_name, obj_name, file_name) != nothing\n",
    "    @test validate_file(serv, container_name, obj_name, file_name) \n",
    "end\n",
    "\n",
    "\n",
    "@testset \"File User Path with PseudoDir\" begin\n",
    "    const obj_name = \"eg2file\"\n",
    "    const file_name = joinpath(@__FILE__, \"eg3file.txt\")\n",
    "    open(file_name, \"w\") do fp\n",
    "        println(fp, \"\"\"\n",
    "        There now is your insular city of the Manhattoes,\n",
    "        belted round by wharves as Indian isles by coral reefs \n",
    "        - commerce surrounds it with her surf. \n",
    "        Right and left, the streets take you waterward. \n",
    "        Its extreme downtown is the battery, \n",
    "        where that noble mole is washed by waves,\n",
    "        and cooled by breezes, \n",
    "        which a few hours previous were out of sight of land.\n",
    "        Look at the crowds of water-gazers there\n",
    "        \"\"\")\n",
    "    end\n",
    "    \n",
    "    @test put_file(serv, container_name*\"/psubdir\", obj_name, file_name) != nothing\n",
    "    @test validate_file(serv, container_name*\"/psubdir\", obj_name, file_name) \n",
    "end\n",
    "\n",
    "\n",
    "immutable Mt\n",
    "    m::String\n",
    "    v::Int64\n",
    "end\n",
    "\n",
    "@testset \"JLD\" begin\n",
    "    const obj_name = \"eg2jld\"\n",
    "    val = Mt(\"Hello Dearest\", 52)\n",
    "    \n",
    "    @test put_jld(serv, container_name, obj_name, mm=val) != nothing\n",
    "    @test get_jld(serv, container_name, obj_name, \"mm\").m == val.m\n",
    "    @test get_jld(serv, container_name, obj_name, \"mm\").v == val.v\n",
    "end\n",
    "\n",
    "\n",
    "@testset \"Post_test\" begin\n",
    "    @test delete(serv,container_name)[end][\"success\"] == true\n",
    "    @test_throws PyError stat(serv, container_name) \n",
    "    @test haskey(SwiftObjectStores.list(serv), container_name) == false\n",
    "end;"
   ]
  },
  {
   "cell_type": "code",
   "execution_count": 5,
   "metadata": {
    "collapsed": false,
    "scrolled": true
   },
   "outputs": [
    {
     "name": "stdout",
     "output_type": "stream",
     "text": [
      "Test Summary:  | Pass  Total\n",
      "  File User Path |    2      2\n"
     ]
    },
    {
     "data": {
      "text/plain": [
       "Base.Test.DefaultTestSet(\"File User Path\",Any[Test Passed\n",
       "  Expression: put_file(serv,container_name,obj_name,file_name) != nothing\n",
       "   Evaluated: Dict{Any,Any}(Pair{Any,Any}(\"response_dict\",Dict{Any,Any}(Pair{Any,Any}(\"headers\",Dict{Any,Any}(Pair{Any,Any}(\"x-trans-id\",\"tx499ae7d8e3ac402c883ac-0057d19d6a\"),Pair{Any,Any}(\"etag\",\"048edbaf9c952a7c511784905d3ab77a\"),Pair{Any,Any}(\"content-type\",\"text/html; charset=UTF-8\"),Pair{Any,Any}(\"date\",\"Thu, 08 Sep 2016 17:18:34 GMT\"),Pair{Any,Any}(\"last-modified\",\"Thu, 08 Sep 2016 17:18:35 GMT\"),Pair{Any,Any}(\"content-length\",\"0\"))),Pair{Any,Any}(\"status\",201),Pair{Any,Any}(\"response_dicts\",Any[Dict{Any,Any}(Pair{Any,Any}(\"headers\",Dict{Any,Any}(Pair{Any,Any}(\"x-trans-id\",\"tx499ae7d8e3ac402c883ac-0057d19d6a\"),Pair{Any,Any}(\"etag\",\"048edbaf9c952a7c511784905d3ab77a\"),Pair{Any,Any}(\"content-type\",\"text/html; charset=UTF-8\"),Pair{Any,Any}(\"date\",\"Thu, 08 Sep 2016 17:18:34 GMT\"),Pair{Any,Any}(\"last-modified\",\"Thu, 08 Sep 2016 17:18:35 GMT\"),Pair{Any,Any}(\"content-length\",\"0\"))),Pair{Any,Any}(\"status\",201),Pair{Any,Any}(\"reason\",\"Created\"))]),Pair{Any,Any}(\"reason\",\"Created\"))),Pair{Any,Any}(\"headers\",Dict{Any,Any}(Pair{Any,Any}(\"x-object-meta-mtime\",\"1473355113.641286\"))),Pair{Any,Any}(\"status\",\"uploaded\"),Pair{Any,Any}(\"large_object\",false),Pair{Any,Any}(\"success\",true),Pair{Any,Any}(\"object\",\"eg2file\"),Pair{Any,Any}(\"container\",\"swift.jl-testing\"),Pair{Any,Any}(\"attempts\",1),Pair{Any,Any}(\"action\",\"upload_object\"),Pair{Any,Any}(\"path\",\"eg2file.txt\")) != nothing,Test Passed\n",
       "  Expression: validate_file(serv,container_name,obj_name,file_name)],false)"
      ]
     },
     "execution_count": 5,
     "metadata": {},
     "output_type": "execute_result"
    }
   ],
   "source": []
  },
  {
   "cell_type": "code",
   "execution_count": 8,
   "metadata": {
    "collapsed": false
   },
   "outputs": [
    {
     "name": "stdout",
     "output_type": "stream",
     "text": [
      "Test Summary:                 | Pass  Total\n",
      "  File User Path with PseudoDir |    2      2\n"
     ]
    },
    {
     "data": {
      "text/plain": [
       "Base.Test.DefaultTestSet(\"File User Path with PseudoDir\",Any[Test Passed\n",
       "  Expression: put_file(serv,container_name * \"/psubdir\",obj_name,file_name) != nothing\n",
       "   Evaluated: Dict{Any,Any}(Pair{Any,Any}(\"response_dict\",Dict{Any,Any}(Pair{Any,Any}(\"headers\",Dict{Any,Any}(Pair{Any,Any}(\"x-trans-id\",\"txf62857ccf3fa48798fae2-0057d19e0e\"),Pair{Any,Any}(\"etag\",\"8b66e97639fd1e6a78289f1b5f1f4a3b\"),Pair{Any,Any}(\"content-type\",\"text/html; charset=UTF-8\"),Pair{Any,Any}(\"date\",\"Thu, 08 Sep 2016 17:21:18 GMT\"),Pair{Any,Any}(\"last-modified\",\"Thu, 08 Sep 2016 17:21:19 GMT\"),Pair{Any,Any}(\"content-length\",\"0\"))),Pair{Any,Any}(\"status\",201),Pair{Any,Any}(\"response_dicts\",Any[Dict{Any,Any}(Pair{Any,Any}(\"headers\",Dict{Any,Any}(Pair{Any,Any}(\"x-trans-id\",\"txf62857ccf3fa48798fae2-0057d19e0e\"),Pair{Any,Any}(\"etag\",\"8b66e97639fd1e6a78289f1b5f1f4a3b\"),Pair{Any,Any}(\"content-type\",\"text/html; charset=UTF-8\"),Pair{Any,Any}(\"date\",\"Thu, 08 Sep 2016 17:21:18 GMT\"),Pair{Any,Any}(\"last-modified\",\"Thu, 08 Sep 2016 17:21:19 GMT\"),Pair{Any,Any}(\"content-length\",\"0\"))),Pair{Any,Any}(\"status\",201),Pair{Any,Any}(\"reason\",\"Created\"))]),Pair{Any,Any}(\"reason\",\"Created\"))),Pair{Any,Any}(\"headers\",Dict{Any,Any}(Pair{Any,Any}(\"x-object-meta-mtime\",\"1473355277.438631\"))),Pair{Any,Any}(\"status\",\"uploaded\"),Pair{Any,Any}(\"large_object\",false),Pair{Any,Any}(\"success\",true),Pair{Any,Any}(\"object\",\"psubdir/eg2file\"),Pair{Any,Any}(\"container\",\"swift.jl-testing\"),Pair{Any,Any}(\"attempts\",1),Pair{Any,Any}(\"action\",\"upload_object\"),Pair{Any,Any}(\"path\",\"eg3file.txt\")) != nothing,Test Passed\n",
       "  Expression: validate_file(serv,container_name * \"/psubdir\",obj_name,file_name)],false)"
      ]
     },
     "execution_count": 8,
     "metadata": {},
     "output_type": "execute_result"
    }
   ],
   "source": []
  },
  {
   "cell_type": "code",
   "execution_count": 7,
   "metadata": {
    "collapsed": false
   },
   "outputs": [
    {
     "name": "stdout",
     "output_type": "stream",
     "text": [
      "Test Summary: | Pass  Total\n",
      "  JLD         |    3      3\n"
     ]
    },
    {
     "data": {
      "text/plain": [
       "Base.Test.DefaultTestSet(\"JLD\",Any[Test Passed\n",
       "  Expression: put_jld(serv,container_name,obj_name,mm=val) != nothing\n",
       "   Evaluated: Dict{Any,Any}(Pair{Any,Any}(\"response_dict\",Dict{Any,Any}(Pair{Any,Any}(\"headers\",Dict{Any,Any}(Pair{Any,Any}(\"x-trans-id\",\"tx8615399a405448c19ed87-0057d19d8e\"),Pair{Any,Any}(\"etag\",\"c25527ee056386ab2c154dfc084e45c7\"),Pair{Any,Any}(\"content-type\",\"text/html; charset=UTF-8\"),Pair{Any,Any}(\"date\",\"Thu, 08 Sep 2016 17:19:10 GMT\"),Pair{Any,Any}(\"last-modified\",\"Thu, 08 Sep 2016 17:19:11 GMT\"),Pair{Any,Any}(\"content-length\",\"0\"))),Pair{Any,Any}(\"status\",201),Pair{Any,Any}(\"response_dicts\",Any[Dict{Any,Any}(Pair{Any,Any}(\"headers\",Dict{Any,Any}(Pair{Any,Any}(\"x-trans-id\",\"tx8615399a405448c19ed87-0057d19d8e\"),Pair{Any,Any}(\"etag\",\"c25527ee056386ab2c154dfc084e45c7\"),Pair{Any,Any}(\"content-type\",\"text/html; charset=UTF-8\"),Pair{Any,Any}(\"date\",\"Thu, 08 Sep 2016 17:19:10 GMT\"),Pair{Any,Any}(\"last-modified\",\"Thu, 08 Sep 2016 17:19:11 GMT\"),Pair{Any,Any}(\"content-length\",\"0\"))),Pair{Any,Any}(\"status\",201),Pair{Any,Any}(\"reason\",\"Created\"))]),Pair{Any,Any}(\"reason\",\"Created\"))),Pair{Any,Any}(\"headers\",Dict{Any,Any}(Pair{Any,Any}(\"x-object-meta-mtime\",\"1473355149.125577\"))),Pair{Any,Any}(\"status\",\"uploaded\"),Pair{Any,Any}(\"large_object\",false),Pair{Any,Any}(\"success\",true),Pair{Any,Any}(\"object\",\"eg2jld\"),Pair{Any,Any}(\"container\",\"swift.jl-testing\"),Pair{Any,Any}(\"attempts\",1),Pair{Any,Any}(\"action\",\"upload_object\"),Pair{Any,Any}(\"path\",\"/tmp/tmpNwSfqg/eg2jld\")) != nothing,Test Passed\n",
       "  Expression: get_jld(serv,container_name,obj_name,\"mm\").m == val.m\n",
       "   Evaluated: \"Hello Dearest\" == \"Hello Dearest\",Test Passed\n",
       "  Expression: get_jld(serv,container_name,obj_name,\"mm\").v == val.v\n",
       "   Evaluated: 52 == 52],false)"
      ]
     },
     "execution_count": 7,
     "metadata": {},
     "output_type": "execute_result"
    }
   ],
   "source": []
  },
  {
   "cell_type": "code",
   "execution_count": null,
   "metadata": {
    "collapsed": true
   },
   "outputs": [],
   "source": []
  },
  {
   "cell_type": "code",
   "execution_count": 9,
   "metadata": {
    "collapsed": false
   },
   "outputs": [
    {
     "name": "stdout",
     "output_type": "stream",
     "text": [
      "Test Summary: | Pass  Total\n",
      "  Post_test   |    3      3\n"
     ]
    },
    {
     "data": {
      "text/plain": [
       "Base.Test.DefaultTestSet(\"Post_test\",Any[Test Passed\n",
       "  Expression: ((delete(serv,container_name))[end])[\"success\"] == true\n",
       "   Evaluated: true == true,Test Passed\n",
       "  Expression: stat(serv,container_name)\n",
       "      Thrown: PyCall.PyError,Test Passed\n",
       "  Expression: haskey(SwiftObjectStores.list(serv),container_name) == false\n",
       "   Evaluated: false == false],false)"
      ]
     },
     "execution_count": 9,
     "metadata": {},
     "output_type": "execute_result"
    }
   ],
   "source": []
  },
  {
   "cell_type": "code",
   "execution_count": null,
   "metadata": {
    "collapsed": false
   },
   "outputs": [],
   "source": [
    "y=open(\"eg2file.txt\") do fp\n",
    "    readstring(fp)\n",
    "end"
   ]
  },
  {
   "cell_type": "code",
   "execution_count": null,
   "metadata": {
    "collapsed": false
   },
   "outputs": [],
   "source": [
    "x==y"
   ]
  },
  {
   "cell_type": "code",
   "execution_count": null,
   "metadata": {
    "collapsed": false
   },
   "outputs": [],
   "source": [
    "\"Note this reads out the streams to their ends\"\n",
    "function validate_equal3!(a_stream::IO, b_stream::IO; buffer_len=4*1024)\n",
    "    a_buf = Vector{UInt8}(buffer_len)\n",
    "    b_buf = Vector{UInt8}(buffer_len)\n",
    "\n",
    "    while(true)\n",
    "        a_len_read = readbytes!(a_stream, a_buf)\n",
    "        b_len_read = readbytes!(b_stream, b_buf)\n",
    "        if a_buf[1:a_len_read] != b_buf[1:b_len_read]\n",
    "            println(\"**\")\n",
    "            println([a_buf b_buf])\n",
    "            \n",
    "            @show a_buf[a_buf.!=b_buf],  b_buf[a_buf.!=b_buf], \n",
    "            return false\n",
    "        end\n",
    "        @assert(a_len_read == b_len_read)\n",
    "        if a_len_read<length(a_buf)\n",
    "            return true #we have reached the end\n",
    "        end\n",
    "    end\n",
    "\n",
    "end\n",
    "\n",
    "\"\"\"\n",
    "Downloads a file file from Swift and checks if it the same as the local file giv\n",
    "en by `fname`.\n",
    "Note: this is a comprehense check. Normally you would prefer to just check Hash'\n",
    "s.\n",
    "This method is for testing checking that the hash checking method works.\n",
    "\"\"\"\n",
    "function validate_file2(serv, container::String, objectname::String, fname::String)\n",
    "    get_file(serv, container, objectname; verbose=true) do rfp\n",
    "        open(fname, \"r\") do lfp\n",
    "            validate_equal2!(rfp, lfp)\n",
    "        end\n",
    "    end\n",
    "end\n",
    "\n"
   ]
  },
  {
   "cell_type": "code",
   "execution_count": null,
   "metadata": {
    "collapsed": false
   },
   "outputs": [],
   "source": [
    "get_file(serv, container_name, \"eg2file\") do fpa\n",
    "    open(\"eg2file.txt\") do fpb\n",
    "        validate_equal3!(fpa,fpb)\n",
    "        #a=readbytes(fpa) \n",
    "        #b=readbytes(fpb)\n",
    "        #[a b map(Char, a) map(Char, b) a.==b]\n",
    "        \n",
    "    end\n",
    "end"
   ]
  },
  {
   "cell_type": "code",
   "execution_count": null,
   "metadata": {
    "collapsed": true
   },
   "outputs": [],
   "source": []
  },
  {
   "cell_type": "code",
   "execution_count": null,
   "metadata": {
    "collapsed": true
   },
   "outputs": [],
   "source": []
  },
  {
   "cell_type": "code",
   "execution_count": null,
   "metadata": {
    "collapsed": false
   },
   "outputs": [],
   "source": [
    "using PyCall\n",
    "using JLD\n",
    "using FileIO"
   ]
  },
  {
   "cell_type": "code",
   "execution_count": null,
   "metadata": {
    "collapsed": false
   },
   "outputs": [],
   "source": [
    "@pyimport swiftclient.service as service\n",
    "@pyimport swiftclient.client as client\n",
    "serv = service.SwiftService(Dict(\n",
    "    \"os_auth_url\"     => \"https://keystone.rc.nectar.org.au:5000/v2.0/\",\n",
    "    \"os_username\"     => \"20361362@student.uwa.edu.au\",\n",
    "    \"os_password\"     => \"MzhkYzg0M2IwMTU2NGU1\",\n",
    "    \"os_tenant_name\"  => \"UWA_SEMANTIC_VECTORS\",\n",
    "    \"auth_version\"    => \"2\",\n",
    "    \"segment_size\"    => 1024^3, #1GB\n",
    "    \"segment_threads\" => 10,\n",
    "    \"object_threads\"  => 24\n",
    "))"
   ]
  },
  {
   "cell_type": "code",
   "execution_count": null,
   "metadata": {
    "collapsed": false
   },
   "outputs": [],
   "source": [
    "#A constructor for the python object\n",
    "\"\"\"\n",
    "Creates a swift service object, which describes the properties of your connection.\n",
    "Default values for are read from enviroment variables, using the names from your `openstackrc.sh`.\n",
    "Just like for the swift commandline client\n",
    "\"\"\"\n",
    "function SwiftService(;auth_url = ENV[\"OS_AUTH_URL\"],\n",
    "                        username::String = ENV[\"OS_USERNAME\"],\n",
    "                        password::String = ENV[\"OS_PASSWORD\"],\n",
    "                        tenant_name::String = ENV[\"OS_TENANT_NAME\",\n",
    "                        auth_version::String = \"2\",\n",
    "                        segement_size::Integer = 1024^3,\n",
    "                        segment_threads::Integer=24,\n",
    "                        object_threads::Integer=24)\n",
    "    service.SwiftService(Dict(\n",
    "        \"os_auth_url\"     => auth_url,\n",
    "        \"os_username\"     => username,\n",
    "        \"os_password\"     => password,\n",
    "        \"os_tenant_name\"  => tenant_name,\n",
    "        \"auth_version\"    => auth_version,\n",
    "        \"segment_size\"    => segment_size, #1GB\n",
    "        \"segment_threads\" => segment_threads,\n",
    "        \"object_threads\"  => object_threads\n",
    "    ))\n",
    "end\n",
    "\n",
    "\"\"\"Defaults to reading \"\"\"\n",
    "function SwiftService()\n",
    "    env_vars = \n",
    "    , \"OS_PASSWORD\", \"OS_TENANT_NAME\"]\n",
    "    SwiftService((ENV[ev] for ev in env_vars)...)\n",
    "end"
   ]
  },
  {
   "cell_type": "code",
   "execution_count": null,
   "metadata": {
    "collapsed": false
   },
   "outputs": [],
   "source": [
    "push!(Set(), 2,3)"
   ]
  },
  {
   "cell_type": "code",
   "execution_count": null,
   "metadata": {
    "collapsed": false
   },
   "outputs": [],
   "source": [
    "function show_responses(responses)\n",
    "    local shown::Set\n",
    "    function subshow(prefix, value) #Non-dict\n",
    "        println(\"** $prefix **:\")\n",
    "        println(\"\\t\",value)\n",
    "    end\n",
    "    \n",
    "    function subshow(prefix, dict::Dict)      \n",
    "        for (key, value) in dict\n",
    "            value ∈ shown && continue  # Skip any fields already shown\n",
    "            push!(shown, value)\n",
    "            subshow(\"$prefix $key\", value)\n",
    "        end\n",
    "    end\n",
    "    \n",
    "    function subshow(prefix, vec::Vector)      \n",
    "        for entry in vec\n",
    "            entry ∈ shown && continue  # Skip any fields already shown\n",
    "            push!(shown, entry)\n",
    "            subshow(\"$prefix - \", entry)\n",
    "        end\n",
    "    end\n",
    "        \n",
    "    \n",
    "    println(\"Swift  Responses:\")\n",
    "    println(\"-------------------------\")\n",
    "    for resp in responses\n",
    "        shown = Set()\n",
    "        push!(shown, resp)\n",
    "        subshow(\"\", resp)\n",
    "        println()\n",
    "    end\n",
    "end"
   ]
  },
  {
   "cell_type": "code",
   "execution_count": null,
   "metadata": {
    "collapsed": false
   },
   "outputs": [],
   "source": [
    "\n",
    "\"\"\"\n",
    "`container` can either be be just a container name, or a pseudofolder path\n",
    "\"\"\"\n",
    "function put_file(serv, container::String, name::String, fname::String; verbose::Bool=false)\n",
    "    uo = service.SwiftUploadObject(fname, object_name=name)\n",
    "    async_put = serv[:upload](container, [uo]) \n",
    "    responses = collect(async_put)\n",
    "    if verbose\n",
    "        show_responses(responses)\n",
    "    end\n",
    "    ret = responses[end]\n",
    "    ret[\"success\"] || error(ret[\"error\"])\n",
    "    ret\n",
    "end\n",
    "\n",
    "\"\"\"Note: this reads out the `fp` IO to the end\"\"\"\n",
    "function put_file(serv, container::String, name::String, fp::IO; verbose::Bool=false)\n",
    "    mktempdir() do tdir\n",
    "        fname = joinpath(tdir, name)\n",
    "        open(fname,\"w\") do fp_inner\n",
    "            write(fp_inner, readbytes(fp))\n",
    "        end\n",
    "        put_file(serv, container, name, fname; verbose=verbose)\n",
    "    end\n",
    "end\n",
    "\n",
    "\"\"\"Save data as a a JLD file, and upload to Swift\"\"\"\n",
    "function put_jld(serv, container::String, name::String; data...)\n",
    "    mktempdir() do tdir\n",
    "        fname = joinpath(tdir, name)\n",
    "        save(File(format\"JLD\", fname), Base.Flatten(((string(name), val) for (name,val) in data))...)\n",
    "        put_file(serv, container, name, fname)\n",
    "    end\n",
    "end\n",
    "\n",
    "###############\n",
    "\n",
    "\"\"\"Download from swift, writing the result to the file given by `fname`.\n",
    "    `container` can either be be just a container name, or a pseudofolder path    \n",
    "\"\"\"\n",
    "function get_file!(serv, container::String, name::String, fname::String; verbose::Bool=false)\n",
    "    container_parts = split(strip(container, '/'), \"/\")\n",
    "    container = container_parts[1]\n",
    "    if length(container_parts) > 1\n",
    "        psedudofolder = join(container_parts[2:end], \"/\")\n",
    "        name = psedudofolder*\"/\"*name\n",
    "    end\n",
    "\n",
    "    async_get = serv[:download](container, [name], Dict(\"out_file\" => fname))\n",
    "    responses=collect(async_get)\n",
    "    if verbose\n",
    "        show_responses(responses)\n",
    "    end\n",
    "    ret = responses[end]\n",
    "    ret[\"success\"] || error(ret[\"error\"])\n",
    "    ret\n",
    "end\n",
    "\n",
    "\"\"\"Read IO stream, from Swift, and call func, on it, returning the result \"\"\"\n",
    "function get_file(func::Function, serv, container::String, name::String; verbose::Bool=false)\n",
    "    mktempdir() do tdir\n",
    "        fname = joinpath(tdir, name)\n",
    "        get_file!(serv, container, name, fname; verbose=verbose)    \n",
    "        open(func, fname,\"r\")\n",
    "    end\n",
    "end\n",
    "\n",
    "\"\"\"Download a JLD file from Swift. `data` is a list of fieldnames to read.\"\"\"\n",
    "    function get_jld(serv, container::String, name::String, verbose::Bool = false, data...)\n",
    "    mktempdir() do tdir\n",
    "        fname = joinpath(tdir, name)\n",
    "        get_file!(serv, container, name, fname; verbose=verbose)\n",
    "        JLD.load(File(format\"JLD\", fname), data...)\n",
    "    end\n",
    "end"
   ]
  },
  {
   "cell_type": "code",
   "execution_count": null,
   "metadata": {
    "collapsed": false
   },
   "outputs": [],
   "source": [
    "get_file(serv, \"sensemodels/adagrmam\", \"paper_v1.params.jld\"; verbose=true) do fp\n",
    "    println(convert(String, read(fp))[1:256])\n",
    "end"
   ]
  },
  {
   "cell_type": "code",
   "execution_count": null,
   "metadata": {
    "collapsed": false
   },
   "outputs": [],
   "source": [
    "rr=get_jld(serv, \"sensemodels/adagram\", \"more_senses.adagram_model.jld\", true);"
   ]
  },
  {
   "cell_type": "code",
   "execution_count": null,
   "metadata": {
    "collapsed": false
   },
   "outputs": [],
   "source": [
    "amr=rr[\"am\"];"
   ]
  },
  {
   "cell_type": "code",
   "execution_count": null,
   "metadata": {
    "collapsed": true
   },
   "outputs": [],
   "source": [
    "aml = JLD.load(\"../SenseSplittingWord2Vec/eval/models/adagram/more_senses.adagram_model.jld\", \"am\");"
   ]
  },
  {
   "cell_type": "code",
   "execution_count": null,
   "metadata": {
    "collapsed": false
   },
   "outputs": [],
   "source": [
    "aml.vm.Out == amr.vm.Out"
   ]
  },
  {
   "cell_type": "code",
   "execution_count": null,
   "metadata": {
    "collapsed": false
   },
   "outputs": [],
   "source": []
  },
  {
   "cell_type": "code",
   "execution_count": null,
   "metadata": {
    "collapsed": false
   },
   "outputs": [],
   "source": [
    "function list(serv) \n",
    "    serv[:stat]()\n",
    "end\n",
    "function list(serv, containter::String)\n",
    "    serv[:stat](container)\n",
    "end\n",
    "function list(serv, containter::String, object::String)\n",
    "    serv[:stat](container, object)\n",
    "end\n",
    "stat = list\n"
   ]
  },
  {
   "cell_type": "code",
   "execution_count": null,
   "metadata": {
    "collapsed": false
   },
   "outputs": [],
   "source": [
    "\"Note this reads out the streams to their ends\"\n",
    "function validate_equal!(a_stream::IO, b_stream::IO; buffer_len=4*1024)\n",
    "    a_buf = Vector{UInt8}(buffer_len)\n",
    "    b_buf = Vector{UInt8}(buffer_len)\n",
    "    \n",
    "    while(true)\n",
    "        a_len_read = readbytes!(a_stream, a_buf)\n",
    "        b_len_read = readbytes!(b_stream, b_buf)\n",
    "        if a_buf != b_buf\n",
    "            return false\n",
    "        end\n",
    "        @assert(a_len_read == b_len_read)\n",
    "        if a_len_read<length(a_buf)\n",
    "            return true #we have reached the end\n",
    "        end\n",
    "    end\n",
    "    \n",
    "end\n",
    "\n",
    "\"\"\"\n",
    "Downloads a file file from Swift and checks if it the same as the local file given by `fname`.\n",
    "Note: this is a comprehense check. Normally you would prefer to just check Hash's.\n",
    "This method is for testing checking that the hash checking method works.\n",
    "\"\"\"\n",
    "function validate_file(serv, container::String, objectname::String, fname::String)\n",
    "    get_file(serv, container, objectname; verbose=true) do rfp\n",
    "        open(fname, \"r\") do lfp\n",
    "            validate_equal!(rfp, lfp) || error(\"$fname is not identical to $container : $objectname\")\n",
    "        end\n",
    "    end\n",
    "end"
   ]
  },
  {
   "cell_type": "code",
   "execution_count": null,
   "metadata": {
    "collapsed": false,
    "scrolled": true
   },
   "outputs": [],
   "source": [
    "validate_file(serv, \"sensemodels/adagram\", \"more_senses.adagram_model.jld\", \"../SenseSplittingWord2Vec/eval/models/adagram/more_senses.adagram_model.jld\")"
   ]
  },
  {
   "cell_type": "code",
   "execution_count": null,
   "metadata": {
    "collapsed": false
   },
   "outputs": [],
   "source": []
  },
  {
   "cell_type": "code",
   "execution_count": null,
   "metadata": {
    "collapsed": true
   },
   "outputs": [],
   "source": []
  },
  {
   "cell_type": "code",
   "execution_count": null,
   "metadata": {
    "collapsed": true
   },
   "outputs": [],
   "source": []
  },
  {
   "cell_type": "code",
   "execution_count": null,
   "metadata": {
    "collapsed": true
   },
   "outputs": [],
   "source": [
    "using Glob"
   ]
  },
  {
   "cell_type": "code",
   "execution_count": null,
   "metadata": {
    "collapsed": false
   },
   "outputs": [],
   "source": [
    "for fn in [glob(glob\"../SenseSplittingWord2Vec/eval/models/adagram/*.jld\");\n",
    "           glob(glob\"../SenseSplittingWord2Vec/eval/models/adagram/*.adagram_model\")]\n",
    "    @show fn\n",
    "    name= basename(fn)\n",
    "    put_file(serv, \"sensemodels/adagram/\", name, fn)\n",
    "end\n",
    "\n",
    "\n",
    "for fn in [glob(glob\"../SenseSplittingWord2Vec/eval/models/ss/*.jld\");\n",
    "           glob(glob\"../SenseSplittingWord2Vec/eval/models/ss/*.log\")]\n",
    "    @show fn\n",
    "    name= basename(fn)\n",
    "    put_file(serv, \"sensemodels/greedy/\", name, fn)\n",
    "end\n",
    "\n",
    "\n",
    "\n",
    "for fn in [glob(glob\"../SenseSplittingWord2Vec/eval/models/plain/*.jld\");\n",
    "           glob(glob\"../SenseSplittingWord2Vec/eval/models/plain/*.log\")]\n",
    "    @show fn\n",
    "    name = basename(fn)\n",
    "    put_file(serv, \"sensemodels/plain/\", name, fn)\n",
    "end\n",
    "\n"
   ]
  },
  {
   "cell_type": "code",
   "execution_count": null,
   "metadata": {
    "collapsed": false
   },
   "outputs": [],
   "source": [
    "for fn in [glob(glob\"../SenseSplittingWord2Vec/eval/models/adagram/*.jld\");\n",
    "           glob(glob\"../SenseSplittingWord2Vec/eval/models/adagram/*.adagram_model\")]\n",
    "    @show fn\n",
    "    name= basename(fn)\n",
    "    validate_file(serv, \"sensemodels/adagram/\", name, fn)\n",
    "end\n",
    "\n",
    "\n",
    "for fn in [glob(glob\"../SenseSplittingWord2Vec/eval/models/ss/*.jld\");\n",
    "           glob(glob\"../SenseSplittingWord2Vec/eval/models/ss/*.log\")]\n",
    "    @show fn\n",
    "    name= basename(fn)\n",
    "    validate_file(serv, \"sensemodels/greedy/\", name, fn)\n",
    "end\n",
    "\n",
    "\n",
    "\n",
    "for fn in [glob(glob\"../SenseSplittingWord2Vec/eval/models/plain/*.jld\");\n",
    "           glob(glob\"../SenseSplittingWord2Vec/eval/models/plain/*.log\")]\n",
    "    @show fn\n",
    "    name = basename(fn)\n",
    "    validate_file(serv, \"sensemodels/plain/\", name, fn)\n",
    "end\n",
    "\n"
   ]
  },
  {
   "cell_type": "code",
   "execution_count": null,
   "metadata": {
    "collapsed": false
   },
   "outputs": [],
   "source": [
    "; md5sum ../SenseSplittingWord2Vec/eval/models/adagram/more_senses.adagram_model.jld"
   ]
  },
  {
   "cell_type": "code",
   "execution_count": null,
   "metadata": {
    "collapsed": false
   },
   "outputs": [],
   "source": []
  },
  {
   "cell_type": "code",
   "execution_count": null,
   "metadata": {
    "collapsed": true
   },
   "outputs": [],
   "source": []
  }
 ],
 "metadata": {
  "kernelspec": {
   "display_name": "Julia 0.5.0-rc0",
   "language": "julia",
   "name": "julia-0.5"
  },
  "language_info": {
   "file_extension": ".jl",
   "mimetype": "application/julia",
   "name": "julia",
   "version": "0.5.0"
  }
 },
 "nbformat": 4,
 "nbformat_minor": 0
}
