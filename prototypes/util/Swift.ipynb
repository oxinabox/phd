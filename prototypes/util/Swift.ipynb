{
 "cells": [
  {
   "cell_type": "code",
   "execution_count": 1,
   "metadata": {
    "collapsed": false
   },
   "outputs": [],
   "source": [
    "using PyCall\n",
    "using JLD\n",
    "using FileIO"
   ]
  },
  {
   "cell_type": "code",
   "execution_count": 2,
   "metadata": {
    "collapsed": false
   },
   "outputs": [
    {
     "data": {
      "text/plain": [
       "PyObject <swiftclient.service.SwiftService object at 0x7fdbaa727890>"
      ]
     },
     "execution_count": 2,
     "metadata": {},
     "output_type": "execute_result"
    }
   ],
   "source": [
    "@pyimport swiftclient.service as service\n",
    "@pyimport swiftclient.client as client\n",
    "serv = service.SwiftService(Dict(\n",
    "    \"os_auth_url\"     => \"https://keystone.rc.nectar.org.au:5000/v2.0/\",\n",
    "    \"os_username\"     => \"20361362@student.uwa.edu.au\",\n",
    "    \"os_password\"     => \"MzhkYzg0M2IwMTU2NGU1\",\n",
    "    \"os_tenant_name\"  => \"UWA_SEMANTIC_VECTORS\",\n",
    "    \"auth_version\"    => \"2\",\n",
    "    \"segment_size\"    => 1024^3, #1GB\n",
    "    \"segment_threads\" => 10,\n",
    "    \"object_threads\"  => 24\n",
    "))"
   ]
  },
  {
   "cell_type": "code",
   "execution_count": 3,
   "metadata": {
    "collapsed": false
   },
   "outputs": [
    {
     "data": {
      "text/plain": [
       "show_responses (generic function with 1 method)"
      ]
     },
     "execution_count": 3,
     "metadata": {},
     "output_type": "execute_result"
    }
   ],
   "source": [
    "function show_responses(responses)\n",
    "    println(\"Swift  Responses:\")\n",
    "    println(\"-------------------------\")\n",
    "    for resp in responses\n",
    "        for (key,value) in resp\n",
    "            if key == \"response_dict\"\n",
    "                for (kkey, vvalue) in value\n",
    "                    if kkey == \"response_dicts\"\n",
    "                        continue\n",
    "                    else\n",
    "                        println(\"** response_dict -- $kkey **:\")\n",
    "                        println(vvalue)\n",
    "                    end\n",
    "                end\n",
    "            else\n",
    "                println(\"** $key **:\")\n",
    "                println(value)\n",
    "            end\n",
    "        end\n",
    "        println(\"\")\n",
    "    end\n",
    "end"
   ]
  },
  {
   "cell_type": "code",
   "execution_count": 4,
   "metadata": {
    "collapsed": false
   },
   "outputs": [
    {
     "data": {
      "text/plain": [
       "get_jld"
      ]
     },
     "execution_count": 4,
     "metadata": {},
     "output_type": "execute_result"
    }
   ],
   "source": [
    "\n",
    "\"\"\"\n",
    "`container` can either be be just a container name, or a pseudofolder path\n",
    "\"\"\"\n",
    "function put_file(serv, container::String, name::String, fname::String; verbose::Bool=false)\n",
    "    uo = service.SwiftUploadObject(fname, object_name=name)\n",
    "    async_put = serv[:upload](container, [uo]) \n",
    "    responses = collect(async_put)\n",
    "    if verbose\n",
    "        show_responses(responses)\n",
    "    end\n",
    "    ret = responses[end]\n",
    "    ret[\"success\"] || error(ret[\"error\"])\n",
    "    ret\n",
    "end\n",
    "\n",
    "\"\"\"Note: this reads out the `fp` IO to the end\"\"\"\n",
    "function put_file(serv, container::String, name::String, fp::IO; verbose::Bool=false)\n",
    "    mktempdir(\"/dev/shm\") do tdir\n",
    "        fname = joinpath(tdir, name)\n",
    "        open(fname,\"w\") do fp_inner\n",
    "            write(fp_inner, readbytes(fp))\n",
    "        end\n",
    "        put_file(serv, container, name, fname; verbose=verbose)\n",
    "    end\n",
    "end\n",
    "\n",
    "\"\"\"Save data as a a JLD file, and upload to Swift\"\"\"\n",
    "function put_jld(serv, container::String, name::String; data...)\n",
    "    mktempdir(\"/dev/shm\") do tdir\n",
    "        fname = joinpath(tdir, name)\n",
    "        save(File(format\"JLD\", fname), Base.Flatten(((string(name), val) for (name,val) in data))...)\n",
    "        put_file(serv, container, name, fname)\n",
    "    end\n",
    "end\n",
    "\n",
    "###############\n",
    "\n",
    "\"\"\"Download from swift, writing the result to the file given by `fname`.\n",
    "    `container` can either be be just a container name, or a pseudofolder path    \n",
    "\"\"\"\n",
    "function get_file!(serv, container::String, name::String, fname::String; verbose::Bool=false)\n",
    "    container_parts = split(strip(container, '/'), \"/\")\n",
    "    container = container_parts[1]\n",
    "    if length(container_parts) > 1\n",
    "        psedudofolder = join(container_parts[2:end], \"/\")\n",
    "        name = psedudofolder*\"/\"*name\n",
    "    end\n",
    "\n",
    "    async_get = serv[:download](container, [name], Dict(\"out_file\" => fname))\n",
    "    responses=collect(async_get)\n",
    "    if verbose\n",
    "        show_responses(responses)\n",
    "    end\n",
    "    ret = responses[end]\n",
    "    ret[\"success\"] || error(ret[\"error\"])\n",
    "    ret\n",
    "end\n",
    "\n",
    "\"\"\"Read IO stream, from Swift, and call func, on it, returning the result \"\"\"\n",
    "function get_file(func::Function, serv, container::String, name::String; verbose::Bool=false)\n",
    "    mktempdir(\"/dev/shm\") do tdir\n",
    "        fname = joinpath(tdir, name)\n",
    "        get_file!(serv, container, name, fname; verbose=verbose)    \n",
    "        open(func, fname,\"r\")\n",
    "    end\n",
    "end\n",
    "\n",
    "\"\"\"Download a JLD file from Swift. `data` is a list of fieldnames to read.\"\"\"\n",
    "    function get_jld(conn, container::String, name::String, verbose::Bool = false, data...)\n",
    "    mktempdir(\"/dev/shm\") do tdir\n",
    "        fname = joinpath(tdir, name)\n",
    "        get_file!(serv, container, name, fname; verbose=verbose)\n",
    "        JLD.load(File(format\"JLD\", fname), data...)\n",
    "    end\n",
    "end"
   ]
  },
  {
   "cell_type": "code",
   "execution_count": null,
   "metadata": {
    "collapsed": false
   },
   "outputs": [],
   "source": [
    "rr=get_jld(serv, \"sensemodels/adagram\", \"more_senses.adagram_model.jld\", true);"
   ]
  },
  {
   "cell_type": "code",
   "execution_count": null,
   "metadata": {
    "collapsed": true
   },
   "outputs": [],
   "source": []
  },
  {
   "cell_type": "code",
   "execution_count": 222,
   "metadata": {
    "collapsed": false
   },
   "outputs": [
    {
     "name": "stdout",
     "output_type": "stream",
     "text": [
      "Swift  Responses:\n",
      "-------------------------\n",
      "** read_length **:\n",
      "19010\n",
      "** action **:\n",
      "download_object\n",
      "** path **:\n",
      "adagram/paper_v1.params.jld\n",
      "** start_time **:\n",
      "1.473236120466132e9\n",
      "** pseudodir **:\n",
      "false\n",
      "** finish_time **:\n",
      "1.473236121138233e9\n",
      "** headers_receipt **:\n",
      "1.473236121135896e9\n",
      "** container **:\n",
      "sensemodels\n",
      "** auth_end_time **:\n",
      "1.473236120468653e9\n",
      "** attempts **:\n",
      "1\n",
      "** success **:\n",
      "true\n",
      "** object **:\n",
      "adagram/paper_v1.params.jld\n",
      "** response_dict -- headers **:\n",
      "Dict{Any,Any}(Pair{Any,Any}(\"x-trans-id\",\"tx9d6546131eaa4af983576-0057cfcc98\"),Pair{Any,Any}(\"x-object-meta-mtime\",\"1470737522.596769\"),Pair{Any,Any}(\"etag\",\"26c60f2b36a66c20a50cfd2a3065f506\"),Pair{Any,Any}(\"x-timestamp\",\"1473164148.32492\"),Pair{Any,Any}(\"content-type\",\"application/octet-stream\"),Pair{Any,Any}(\"date\",\"Wed, 07 Sep 2016 08:15:21 GMT\"),Pair{Any,Any}(\"last-modified\",\"Tue, 06 Sep 2016 12:15:49 GMT\"),Pair{Any,Any}(\"accept-ranges\",\"bytes\"),Pair{Any,Any}(\"content-length\",\"19010\"))\n",
      "** response_dict -- status **:\n",
      "200\n",
      "** response_dict -- reason **:\n",
      "OK\n",
      "\n",
      "Julia data file (HDF5), version 0.1.1\u0000\u0000\u0000\u0000\u0000\u0000\u0000\u0000\u0000\u0000\u0000\u0000\u0000\u0000\u0000\u0000\u0000\u0000\u0000\u0000\u0000\u0000\u0000\u0000\u0000\u0000\u0000\u0000\u0000\u0000\u0000\u0000\u0000\u0000\u0000\u0000\u0000\u0000\u0000\u0000\u0000\u0000\u0000\u0000\u0000\u0000\u0000\u0000\u0000\u0000\u0000\u0000\u0000\u0000\u0000\u0000\u0000\u0000\u0000\u0000\u0000\u0000\u0000\u0000\u0000\u0000\u0000\u0000\u0000\u0000\u0000\u0000\u0000\u0000\u0000\u0000\u0000\u0000\u0000\u0000\u0000\u0000\u0000\u0000\u0000\u0000\u0000\u0000\u0000\u0000\u0000\u0000\u0000\u0000\u0000\u0000\u0000\u0000\u0000\u0000\u0000\u0000\u0000\u0000\u0000\u0000\u0000\u0000\u0000\u0000\u0000\u0000\u0000\u0000\u0000\u0000\u0000\u0000\u0000\u0000\u0000\u0000\u0000\u0000\u0000\u0000\u0000\u0000\u0000\u0000\u0000\u0000\u0000\u0000\u0000\u0000\u0000\u0000\u0000\u0000\u0000\u0000\u0000\u0000\u0000\u0000\u0000\u0000\u0000\u0000\u0000\u0000\u0000\u0000\u0000\u0000\u0000\u0000\u0000\u0000\u0000\u0000\u0000\u0000\u0000\u0000\u0000\u0000\u0000\u0000\u0000\u0000\u0000\u0000\u0000\u0000\u0000\u0000\u0000\u0000\u0000\u0000\u0000\u0000\u0000\u0000\u0000\u0000\u0000\u0000\u0000\u0000\u0000\u0000\u0000\u0000\u0000\u0000\u0000\u0000\u0000\u0000\u0000\u0000\u0000\u0000\u0000\u0000\u0000\u0000\u0000\u0000\u0000\u0000\u0000\u0000\u0000\u0000\u0000\n"
     ]
    }
   ],
   "source": [
    "get_file(serv, \"sensemodels/adagram\", \"paper_v1.params.jld\"; verbose=true) do fp\n",
    "    println(convert(String, read(fp))[1:256])\n",
    "end"
   ]
  },
  {
   "cell_type": "code",
   "execution_count": 236,
   "metadata": {
    "collapsed": false
   },
   "outputs": [
    {
     "data": {
      "text/plain": [
       "list (generic function with 3 methods)"
      ]
     },
     "execution_count": 236,
     "metadata": {},
     "output_type": "execute_result"
    }
   ],
   "source": [
    "function list(serv) \n",
    "    serv[:stat]()\n",
    "end\n",
    "function list(serv, containter::String)\n",
    "    serv[:stat](container)\n",
    "end\n",
    "function list(serv, containter::String, object::String)\n",
    "    serv[:stat](container, object)\n",
    "end\n",
    "stat = list\n"
   ]
  },
  {
   "cell_type": "code",
   "execution_count": 232,
   "metadata": {
    "collapsed": false
   },
   "outputs": [
    {
     "data": {
      "text/plain": [
       "validate_file"
      ]
     },
     "execution_count": 232,
     "metadata": {},
     "output_type": "execute_result"
    }
   ],
   "source": [
    "\"Note this reads out the streams to their ends\"\n",
    "function validate_equal!(a_stream::IO, b_stream::IO; buffer_len=4*1024)\n",
    "    a_buf = Vector{UInt8}(buffer_len)\n",
    "    b_buf = Vector{UInt8}(buffer_len)\n",
    "    \n",
    "    while(true)\n",
    "        a_len_read = readbytes!(a_stream, a_buf)\n",
    "        b_len_read = readbytes!(b_stream, b_buf)\n",
    "        if a_buf != b_buf\n",
    "            return false\n",
    "        end\n",
    "        @assert(a_len_read == b_len_read)\n",
    "        if a_len_read<length(a_buf)\n",
    "            return true #we have reached the end\n",
    "        end\n",
    "    end\n",
    "    \n",
    "end\n",
    "\n",
    "\"\"\"\n",
    "Downloads a file file from Swift and checks if it the same as the local file given by `fname`.\n",
    "Note: this is a comprehense check. Normally you would prefer to just check Hash's.\n",
    "This method is for testing checking that the hash checking method works.\n",
    "\"\"\"\n",
    "function validate_file(serv, container::String, objectname::String, fname::String)\n",
    "    get_file(serv, container, objectname; verbose=true) do rfp\n",
    "        open(fname, \"r\") do lfp\n",
    "            validate_equal!(rfp, lfp) | error(\"$fname is not identical to $container : $objectname\")\n",
    "        end\n",
    "    end\n",
    "end"
   ]
  },
  {
   "cell_type": "code",
   "execution_count": 212,
   "metadata": {
    "collapsed": false,
    "scrolled": true
   },
   "outputs": [
    {
     "name": "stdout",
     "output_type": "stream",
     "text": [
      "Swift  Responses:\n",
      "-------------------------\n",
      "** traceback **:\n",
      "Traceback (most recent call last):\n",
      "  File \"/usr/local/lib/python2.7/dist-packages/swiftclient/service.py\", line 1217, in _download_object_job\n",
      "    fp.write(chunk)\n",
      "IOError: [Errno 28] No space left on device\n",
      "\n",
      "** action **:\n",
      "download_object\n",
      "** path **:\n",
      "adagram/more_senses.adagram_model.jld\n",
      "** pseudodir **:\n",
      "false\n",
      "** container **:\n",
      "sensemodels\n",
      "** attempts **:\n",
      "1\n",
      "** error **:\n",
      "PyObject IOError(28, 'No space left on device')\n",
      "** success **:\n",
      "false\n",
      "** object **:\n",
      "adagram/more_senses.adagram_model.jld\n",
      "** error_timestamp **:\n",
      "1.47323460499253e9\n",
      "** response_dict -- headers **:\n",
      "Dict{Any,Any}(Pair{Any,Any}(\"x-trans-id\",\"txafa8a2b3070642a884e0b-0057cfc44b\"),Pair{Any,Any}(\"etag\",\"\\\"a79589971730ba605387b1355dd0f1f6\\\"\"),Pair{Any,Any}(\"x-timestamp\",\"1473164531.28551\"),Pair{Any,Any}(\"x-object-manifest\",\"sensemodels_segments/adagram/more_senses.adagram_model.jld/1472614784.203176/12919105415/1073741824/\"),Pair{Any,Any}(\"x-object-meta-mtime\",\"1472614784.203176\"),Pair{Any,Any}(\"content-type\",\"application/octet-stream\"),Pair{Any,Any}(\"date\",\"Wed, 07 Sep 2016 07:39:55 GMT\"),Pair{Any,Any}(\"last-modified\",\"Tue, 06 Sep 2016 12:22:12 GMT\"),Pair{Any,Any}(\"accept-ranges\",\"bytes\"),Pair{Any,Any}(\"content-length\",\"12919105415\"))\n",
      "** response_dict -- status **:\n",
      "200\n",
      "** response_dict -- reason **:\n",
      "OK\n",
      "\n"
     ]
    },
    {
     "ename": "LoadError",
     "evalue": "LoadError: PyObject IOError(28, 'No space left on device')\nwhile loading In[212], in expression starting on line 1",
     "output_type": "error",
     "traceback": [
      "LoadError: PyObject IOError(28, 'No space left on device')\nwhile loading In[212], in expression starting on line 1",
      "",
      " in error(::PyCall.PyObject) at ./error.jl:22",
      " in #get_file!#331(::Bool, ::Function, ::PyCall.PyObject, ::String, ::String, ::String) at ./In[206]:90",
      " in (::#kw##get_file!)(::Array{Any,1}, ::#get_file!, ::PyCall.PyObject, ::String, ::String, ::String) at ./<missing>:0",
      " in #get_file#332 at ./In[206]:97 [inlined]",
      " in (::#kw##get_file)(::Array{Any,1}, ::#get_file, ::Function, ::PyCall.PyObject, ::String, ::String) at ./<missing>:0",
      " in validate_file(::PyCall.PyObject, ::String, ::String, ::String) at ./In[210]:26",
      " in include_string(::String, ::String) at ./loading.jl:380",
      " in execute_request_0x535c5df2(::ZMQ.Socket, ::IJulia.Msg) at /home/ubuntu/.julia/v0.5/IJulia/src/execute_request.jl:183",
      " in eventloop(::ZMQ.Socket) at /home/ubuntu/.julia/v0.5/IJulia/src/IJulia.jl:143",
      " in (::IJulia.##26#32)() at ./task.jl:309"
     ]
    }
   ],
   "source": [
    "validate_file(serv, \"sensemodels/adagram\", \"more_senses.adagram_model.jld\", \"../SenseSplittingWord2Vec/eval/models/adagram/more_senses.adagram_model.jld\")"
   ]
  },
  {
   "cell_type": "code",
   "execution_count": 126,
   "metadata": {
    "collapsed": false
   },
   "outputs": [
    {
     "data": {
      "text/plain": [
       "1-element Array{Any,1}:\n",
       " Dict{Any,Any}(Pair{Any,Any}(\"headers\",Dict{Any,Any}(Pair{Any,Any}(\"x-trans-id\",\"tx1766a0f02e524954aa026-0057ce9f8c\"),Pair{Any,Any}(\"x-object-meta-mtime\",\"1461739948.487330\"),Pair{Any,Any}(\"etag\",\"4c8c9669806e65a5df8d2f74430ebe66\"),Pair{Any,Any}(\"x-timestamp\",\"1473159050.95456\"),Pair{Any,Any}(\"content-type\",\"application/octet-stream\"),Pair{Any,Any}(\"date\",\"Tue, 06 Sep 2016 10:50:52 GMT\"),Pair{Any,Any}(\"last-modified\",\"Tue, 06 Sep 2016 10:50:51 GMT\"),Pair{Any,Any}(\"accept-ranges\",\"bytes\"),Pair{Any,Any}(\"content-length\",\"3817\"))),Pair{Any,Any}(\"status\",200),Pair{Any,Any}(\"reason\",\"OK\"))"
      ]
     },
     "execution_count": 126,
     "metadata": {},
     "output_type": "execute_result"
    }
   ],
   "source": []
  },
  {
   "cell_type": "code",
   "execution_count": null,
   "metadata": {
    "collapsed": true
   },
   "outputs": [],
   "source": []
  },
  {
   "cell_type": "code",
   "execution_count": null,
   "metadata": {
    "collapsed": true
   },
   "outputs": [],
   "source": []
  },
  {
   "cell_type": "code",
   "execution_count": 226,
   "metadata": {
    "collapsed": true
   },
   "outputs": [],
   "source": [
    "using Glob"
   ]
  },
  {
   "cell_type": "code",
   "execution_count": null,
   "metadata": {
    "collapsed": false
   },
   "outputs": [
    {
     "name": "stdout",
     "output_type": "stream",
     "text": [
      "fn = \"../SenseSplittingWord2Vec/eval/models/adagram/more_senses.adagram_model.jld\"\n",
      "fn = "
     ]
    }
   ],
   "source": [
    "for fn in [glob(glob\"../SenseSplittingWord2Vec/eval/models/adagram/*.jld\");\n",
    "           glob(glob\"../SenseSplittingWord2Vec/eval/models/adagram/*.adagram_model\")]\n",
    "    @show fn\n",
    "    name= basename(fn)\n",
    "    put_file(serv, \"sensemodels/adagram/\", name, fn)\n",
    "end\n",
    "\n",
    "\n",
    "for fn in [glob(glob\"../SenseSplittingWord2Vec/eval/models/ss/*.jld\");\n",
    "           glob(glob\"../SenseSplittingWord2Vec/eval/models/ss/*.log\")]\n",
    "    @show fn\n",
    "    name= basename(fn)\n",
    "    put_file(serv, \"sensemodels/greedy/\", name, fn)\n",
    "end\n",
    "\n",
    "\n",
    "\n",
    "for fn in [glob(glob\"../SenseSplittingWord2Vec/eval/models/plain/*.jld\");\n",
    "           glob(glob\"../SenseSplittingWord2Vec/eval/models/plain/*.log\")]\n",
    "    @show fn\n",
    "    name = basename(fn)\n",
    "    put_file(serv, \"sensemodels/plain/\", name, fn)\n",
    "end\n",
    "\n"
   ]
  },
  {
   "cell_type": "code",
   "execution_count": 233,
   "metadata": {
    "collapsed": false
   },
   "outputs": [
    {
     "name": "stdout",
     "output_type": "stream",
     "text": [
      "fn = \"../SenseSplittingWord2Vec/eval/models/adagram/more_senses.adagram_model.jld\"\n",
      "Swift  Responses:\n",
      "-------------------------\n",
      "** read_length **:\n",
      "12919105415\n",
      "** action **:\n",
      "download_object\n",
      "** path **:\n",
      "adagram/more_senses.adagram_model.jld\n",
      "** start_time **:\n",
      "1.473236308007375e9\n",
      "** pseudodir **:\n",
      "false\n",
      "** finish_time **:\n",
      "1.47323672863035e9\n",
      "** headers_receipt **:\n",
      "1.473236308567895e9\n",
      "** container **:\n",
      "sensemodels\n",
      "** auth_end_time **:\n",
      "1.473236308007974e9\n",
      "** attempts **:\n",
      "1\n",
      "** success **:\n",
      "true\n",
      "** object **:\n",
      "adagram/more_senses.adagram_model.jld\n",
      "** response_dict -- headers **:\n",
      "Dict{Any,Any}(Pair{Any,Any}(\"x-trans-id\",\"tx45188f8df92745c89db6f-0057cfcd54\"),Pair{Any,Any}(\"etag\",\"\\\"a79589971730ba605387b1355dd0f1f6\\\"\"),Pair{Any,Any}(\"x-timestamp\",\"1473164531.28551\"),Pair{Any,Any}(\"x-object-manifest\",\"sensemodels_segments/adagram/more_senses.adagram_model.jld/1472614784.203176/12919105415/1073741824/\"),Pair{Any,Any}(\"x-object-meta-mtime\",\"1472614784.203176\"),Pair{Any,Any}(\"content-type\",\"application/octet-stream\"),Pair{Any,Any}(\"date\",\"Wed, 07 Sep 2016 08:18:28 GMT\"),Pair{Any,Any}(\"last-modified\",\"Tue, 06 Sep 2016 12:22:12 GMT\"),Pair{Any,Any}(\"accept-ranges\",\"bytes\"),Pair{Any,Any}(\"content-length\",\"12919105415\"))\n",
      "** response_dict -- status **:\n",
      "200\n",
      "** response_dict -- reason **:\n",
      "OK\n",
      "\n"
     ]
    },
    {
     "ename": "LoadError",
     "evalue": "LoadError: ../SenseSplittingWord2Vec/eval/models/adagram/more_senses.adagram_model.jld is not identical to sensemodels/adagram/ : more_senses.adagram_model.jld\nwhile loading In[233], in expression starting on line 1",
     "output_type": "error",
     "traceback": [
      "LoadError: ../SenseSplittingWord2Vec/eval/models/adagram/more_senses.adagram_model.jld is not identical to sensemodels/adagram/ : more_senses.adagram_model.jld\nwhile loading In[233], in expression starting on line 1",
      "",
      " in open(::##412#414{IOStream,String,String,String}, ::String, ::String) at ./iostream.jl:113 (repeats 2 times)",
      " in mktempdir(::##406#407{Bool,##411#413{String,String,String},PyCall.PyObject,String,String}, ::String) at ./file.jl:286",
      " in (::#kw##get_file)(::Array{Any,1}, ::#get_file, ::Function, ::PyCall.PyObject, ::String, ::String) at ./<missing>:0",
      " in validate_file(::PyCall.PyObject, ::String, ::String, ::String) at ./In[232]:26",
      " in macro expansion; at ./In[233]:5 [inlined]",
      " in anonymous at ./<missing>:?",
      " in include_string(::String, ::String) at ./loading.jl:380",
      " in execute_request_0x535c5df2(::ZMQ.Socket, ::IJulia.Msg) at /home/ubuntu/.julia/v0.5/IJulia/src/execute_request.jl:183",
      " in eventloop(::ZMQ.Socket) at /home/ubuntu/.julia/v0.5/IJulia/src/IJulia.jl:143",
      " in (::IJulia.##26#32)() at ./task.jl:309"
     ]
    }
   ],
   "source": [
    "for fn in [glob(glob\"../SenseSplittingWord2Vec/eval/models/adagram/*.jld\");\n",
    "           glob(glob\"../SenseSplittingWord2Vec/eval/models/adagram/*.adagram_model\")]\n",
    "    @show fn\n",
    "    name= basename(fn)\n",
    "    validate_file(serv, \"sensemodels/adagram/\", name, fn)\n",
    "end\n",
    "\n",
    "\n",
    "for fn in [glob(glob\"../SenseSplittingWord2Vec/eval/models/ss/*.jld\");\n",
    "           glob(glob\"../SenseSplittingWord2Vec/eval/models/ss/*.log\")]\n",
    "    @show fn\n",
    "    name= basename(fn)\n",
    "    validate_file(serv, \"sensemodels/greedy/\", name, fn)\n",
    "end\n",
    "\n",
    "\n",
    "\n",
    "for fn in [glob(glob\"../SenseSplittingWord2Vec/eval/models/plain/*.jld\");\n",
    "           glob(glob\"../SenseSplittingWord2Vec/eval/models/plain/*.log\")]\n",
    "    @show fn\n",
    "    name = basename(fn)\n",
    "    validate_file(serv, \"sensemodels/plain/\", name, fn)\n",
    "end\n",
    "\n"
   ]
  },
  {
   "cell_type": "code",
   "execution_count": 235,
   "metadata": {
    "collapsed": false
   },
   "outputs": [
    {
     "name": "stdout",
     "output_type": "stream",
     "text": [
      "b6b5918f39332660966094deb6d58a06  ../SenseSplittingWord2Vec/eval/models/adagram/more_senses.adagram_model.jld\n"
     ]
    }
   ],
   "source": [
    "; md5sum ../SenseSplittingWord2Vec/eval/models/adagram/more_senses.adagram_model.jld"
   ]
  },
  {
   "cell_type": "code",
   "execution_count": 240,
   "metadata": {
    "collapsed": false
   },
   "outputs": [
    {
     "ename": "LoadError",
     "evalue": "LoadError: PyObject IOError(2, 'No such file or directory')\nwhile loading In[240], in expression starting on line 1",
     "output_type": "error",
     "traceback": [
      "LoadError: PyObject IOError(2, 'No such file or directory')\nwhile loading In[240], in expression starting on line 1",
      "",
      " in error(::PyCall.PyObject) at ./error.jl:22",
      " in #get_file!#404(::Bool, ::Function, ::PyCall.PyObject, ::String, ::String, ::String) at ./In[231]:56",
      " in (::##408#409{String,String,Tuple{}})(::String) at ./In[231]:73",
      " in mktempdir(::##408#409{String,String,Tuple{}}, ::String) at ./file.jl:286",
      " in get_jld(::PyCall.PyObject, ::String, ::String) at ./In[231]:71",
      " in include_string(::String, ::String) at ./loading.jl:380",
      " in execute_request_0x535c5df2(::ZMQ.Socket, ::IJulia.Msg) at /home/ubuntu/.julia/v0.5/IJulia/src/execute_request.jl:183",
      " in eventloop(::ZMQ.Socket) at /home/ubuntu/.julia/v0.5/IJulia/src/IJulia.jl:143",
      " in (::IJulia.##26#32)() at ./task.jl:309"
     ]
    }
   ],
   "source": []
  },
  {
   "cell_type": "code",
   "execution_count": null,
   "metadata": {
    "collapsed": true
   },
   "outputs": [],
   "source": []
  }
 ],
 "metadata": {
  "kernelspec": {
   "display_name": "Julia 0.5.0-rc0",
   "language": "julia",
   "name": "julia-0.5"
  },
  "language_info": {
   "file_extension": ".jl",
   "mimetype": "application/julia",
   "name": "julia",
   "version": "0.5.0"
  }
 },
 "nbformat": 4,
 "nbformat_minor": 0
}
