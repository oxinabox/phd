{
 "cells": [
  {
   "cell_type": "code",
   "execution_count": 1,
   "metadata": {
    "collapsed": true
   },
   "outputs": [],
   "source": [
    "import Base.Threads: AbstractLock, TatasLock, lock!, trylock!, unlock!"
   ]
  },
  {
   "cell_type": "code",
   "execution_count": null,
   "metadata": {
    "collapsed": false
   },
   "outputs": [],
   "source": []
  },
  {
   "cell_type": "code",
   "execution_count": 55,
   "metadata": {
    "collapsed": false
   },
   "outputs": [
    {
     "data": {
      "text/plain": [
       "@try_with_lock (macro with 1 method)"
      ]
     },
     "execution_count": 55,
     "metadata": {},
     "output_type": "execute_result"
    }
   ],
   "source": [
    "macro with_lock(lock, body)\n",
    "    quote\n",
    "        lock!($lock)\n",
    "        try\n",
    "            $body\n",
    "        finally\n",
    "            unlock!($lock)\n",
    "        end\n",
    "    end\n",
    "end\n",
    "macro try_with_lock(lock, successbody, failbody)\n",
    "    quote\n",
    "        if trylock!($lock) == 0 #Trylock returns 0 on true.\n",
    "            try\n",
    "                $successbody\n",
    "            finally\n",
    "                unlock!($lock)\n",
    "            end\n",
    "        else\n",
    "            $failbody\n",
    "        end\n",
    "    end\n",
    "end\n",
    "    \n"
   ]
  },
  {
   "cell_type": "code",
   "execution_count": 90,
   "metadata": {
    "collapsed": false
   },
   "outputs": [
    {
     "name": "stdout",
     "output_type": "stream",
     "text": [
      "enqueue!(q,20) = CircQueue{Int64}([140484525436752,140484483817360,20],3,2,Base.Threads.TatasLock(Base.Threads.Atomic{Int64}(0)))\n",
      "try_dequeue!(q) = Nullable{Int64}()\n",
      "q = CircQueue{Int64}([140484525436752,140484483817360,20],3,2,Base.Threads.TatasLock(Base.Threads.Atomic{Int64}(1)))\n"
     ]
    },
    {
     "data": {
      "text/plain": [
       "0"
      ]
     },
     "execution_count": 90,
     "metadata": {},
     "output_type": "execute_result"
    }
   ],
   "source": [
    "q= CircQueue{Int64}(2)\n",
    "@show enqueue!(q, 20)\n",
    "lock!(q.lock)\n",
    "@show  try_dequeue!(q)\n",
    "@show q\n",
    "\n",
    "unlock!(q.lock)"
   ]
  },
  {
   "cell_type": "code",
   "execution_count": 92,
   "metadata": {
    "collapsed": false
   },
   "outputs": [
    {
     "ename": "LoadError",
     "evalue": "LoadError: QueueEmptyError()\nwhile loading In[92], in expression starting on line 218",
     "output_type": "error",
     "traceback": [
      "LoadError: QueueEmptyError()\nwhile loading In[92], in expression starting on line 218",
      "",
      " in _dequeue!(::CircQueue{Int64}) at ./In[57]:23",
      " in macro expansion at ./In[55]:15 [inlined]",
      " in try_dequeue!(::CircQueue{Int64}) at ./In[57]:37",
      " in include_string(::String, ::String) at ./loading.jl:380",
      " in execute_request_0x535c5df2(::ZMQ.Socket, ::IJulia.Msg) at /home/ubuntu/.julia/v0.5/IJulia/src/execute_request.jl:183",
      " in eventloop(::ZMQ.Socket) at /home/ubuntu/.julia/v0.5/IJulia/src/IJulia.jl:143",
      " in (::IJulia.##26#32)() at ./task.jl:309"
     ]
    }
   ],
   "source": [
    "@show  try_dequeue!(q)\n",
    "@show q"
   ]
  },
  {
   "cell_type": "code",
   "execution_count": 78,
   "metadata": {
    "collapsed": false
   },
   "outputs": [
    {
     "data": {
      "text/plain": [
       "CircQueue{Int64}([140484467794224,20,20],3,1,Base.Threads.TatasLock(Base.Threads.Atomic{Int64}(0)))"
      ]
     },
     "execution_count": 78,
     "metadata": {},
     "output_type": "execute_result"
    }
   ],
   "source": [
    "q"
   ]
  },
  {
   "cell_type": "code",
   "execution_count": null,
   "metadata": {
    "collapsed": true
   },
   "outputs": [],
   "source": [
    "enqueue!(q,10)\n",
    "lock!(q.lock)\n",
    "@test try_enqueue!(q, 20) == false\n",
    "@test try_dequeue!(q).value == Nullable{Int64}()\n",
    "unlock!(q.lock)\n",
    "@test dequeue!(q) == 10 "
   ]
  },
  {
   "cell_type": "code",
   "execution_count": 56,
   "metadata": {
    "collapsed": false
   },
   "outputs": [
    {
     "ename": "LoadError",
     "evalue": "LoadError: invalid redefinition of constant CircQueue\nwhile loading In[56], in expression starting on line 1",
     "output_type": "error",
     "traceback": [
      "LoadError: invalid redefinition of constant CircQueue\nwhile loading In[56], in expression starting on line 1",
      "",
      " in include_string(::String, ::String) at ./loading.jl:380",
      " in execute_request_0x535c5df2(::ZMQ.Socket, ::IJulia.Msg) at /home/ubuntu/.julia/v0.5/IJulia/src/execute_request.jl:183",
      " in eventloop(::ZMQ.Socket) at /home/ubuntu/.julia/v0.5/IJulia/src/IJulia.jl:143",
      " in (::IJulia.##26#32)() at ./task.jl:309"
     ]
    }
   ],
   "source": [
    "type CircQueue{T}\n",
    "    buffer::Vector{T}\n",
    "    front::Int64\n",
    "    back::Int64\n",
    "    lock::TatasLock\n",
    "    \n",
    "    CircQueue(len::Int64) = new(Vector{T}(len+1),len+1,len+1,TatasLock())\n",
    "end\n",
    "\n",
    "immutable QueueFullError <: Exception\n",
    "end\n",
    "immutable QueueEmptyError <: Exception\n",
    "end\n"
   ]
  },
  {
   "cell_type": "code",
   "execution_count": 181,
   "metadata": {
    "collapsed": false
   },
   "outputs": [
    {
     "data": {
      "text/plain": [
       "try_dequeue! (generic function with 2 methods)"
      ]
     },
     "execution_count": 181,
     "metadata": {},
     "output_type": "execute_result"
    }
   ],
   "source": [
    "wrap_index(ii::Int64, len) = mod(ii - 1, len) + 1\n",
    "wrap_index(ii::Int64, q::CircQueue) = wrap_index(ii, length(q.buffer))\n",
    "\n",
    "\n",
    "function _empty(q::CircQueue)\n",
    "    q.front==q.back \n",
    "end\n",
    "\n",
    "function _full(q::CircQueue)\n",
    "    q.front==wrap_index(q.back-1 ,q)\n",
    "end\n",
    "\n",
    "function _enqueue!{T}(q::CircQueue{T}, v::T)\n",
    "    if _full(q)\n",
    "        throw(QueueFullError())\n",
    "    end\n",
    "    q.buffer[q.back] = v\n",
    "    q.back = wrap_index(q.back-1, q)\n",
    "    q\n",
    "end\n",
    "\n",
    "function enqueue!{T}(q::CircQueue{T}, v::T)\n",
    "    @with_lock(q.lock, _enqueue!(q,v))\n",
    "end\n",
    "\n",
    "function try_enqueue!{T}(q::CircQueue{T}, v::T) ::Bool\n",
    "    @try_with_lock(q.lock, (_enqueue!(q,v); true), false)\n",
    "end\n",
    "\n",
    "\n",
    "function _dequeue!{T}(q::CircQueue{T}) :: T\n",
    "        if _empty(q)\n",
    "        throw(QueueEmptyError())\n",
    "    end\n",
    "    len = length(q.buffer)\n",
    "    \n",
    "    ret = q.buffer[q.front]\n",
    "    q.front=wrap_index(q.front-1, q)   \n",
    "    ret\n",
    "end\n",
    "\n",
    "function dequeue!{T}(q::CircQueue{T}) ::T\n",
    "    @with_lock(q.lock, _dequeue!(q))\n",
    "end\n",
    "\n",
    "function try_dequeue!{T}(q::CircQueue{T}) ::Nullable{T}\n",
    "    @try_with_lock(q.lock, Nullable{T}(_dequeue!(q)), Nullable{T}())\n",
    "end"
   ]
  },
  {
   "cell_type": "code",
   "execution_count": 94,
   "metadata": {
    "collapsed": true
   },
   "outputs": [],
   "source": [
    "using Base.Test"
   ]
  },
  {
   "cell_type": "code",
   "execution_count": 109,
   "metadata": {
    "collapsed": false
   },
   "outputs": [
    {
     "data": {
      "text/plain": [
       "0"
      ]
     },
     "execution_count": 109,
     "metadata": {},
     "output_type": "execute_result"
    }
   ],
   "source": [
    "q= CircQueue{Int64}(20)\n",
    "enqueue!(q, 10)\n",
    "@test dequeue!(q) == 10 \n",
    "\n",
    "q= CircQueue{Int64}(5)\n",
    "enqueue!(q, 10)\n",
    "enqueue!(q, 20)\n",
    "enqueue!(q, 30)\n",
    "@test dequeue!(q) == 10 \n",
    "@test dequeue!(q) == 20 \n",
    "@test dequeue!(q) == 30\n",
    "\n",
    "\n",
    "q= CircQueue{Int64}(5)\n",
    "enqueue!(q, 10)\n",
    "enqueue!(q, 20)\n",
    "@test dequeue!(q) == 10 \n",
    "enqueue!(q, 30)\n",
    "@test dequeue!(q) == 20 \n",
    "@test dequeue!(q) == 30\n",
    "\n",
    "q=CircQueue{Int64}(2)\n",
    "@test_throws(QueueEmptyError, dequeue!(q))\n",
    "\n",
    "q=CircQueue{Int64}(2)\n",
    "enqueue!(q, 10)\n",
    "enqueue!(q, 20)\n",
    "@test_throws(QueueFullError, enqueue!(q, 30))\n",
    "\n",
    "\n",
    "q=CircQueue{Int64}(10)\n",
    "@test try_enqueue!(q, 20) == true\n",
    "@test get(try_dequeue!(q)) == 20\n",
    "enqueue!(q,10)\n",
    "lock!(q.lock)\n",
    "@test try_enqueue!(q, 20) == false\n",
    "@test isnull(try_dequeue!(q))\n",
    "unlock!(q.lock)\n",
    "@test dequeue!(q) == 10 \n",
    "\n",
    "\n",
    "q=CircQueue{Int64}(3)\n",
    "enqueue!(q, 10)\n",
    "enqueue!(q, 20)\n",
    "enqueue!(q, 30)\n",
    "#It is now full\n",
    "lock!(q.lock)\n",
    "@test try_enqueue!(q, 20) == false\n",
    "unlock!(q.lock)"
   ]
  },
  {
   "cell_type": "code",
   "execution_count": null,
   "metadata": {
    "collapsed": true
   },
   "outputs": [],
   "source": []
  },
  {
   "cell_type": "code",
   "execution_count": null,
   "metadata": {
    "collapsed": true
   },
   "outputs": [],
   "source": []
  },
  {
   "cell_type": "code",
   "execution_count": 179,
   "metadata": {
    "collapsed": false
   },
   "outputs": [
    {
     "name": "stdout",
     "output_type": "stream",
     "text": [
      "  1.516305 seconds (18.30 k allocations: 217.259 MB, 1.59% gc time)\n",
      "---\n",
      "  8.336642 seconds (14.60 k allocations: 217.097 MB, 1.37% gc time)\n",
      "---\n",
      "  9.398417 seconds (14.60 k allocations: 217.097 MB, 1.52% gc time)\n"
     ]
    },
    {
     "data": {
      "text/plain": [
       "true"
      ]
     },
     "execution_count": 179,
     "metadata": {},
     "output_type": "execute_result"
    }
   ],
   "source": [
    "function unbalanced_performance_test()\n",
    "    len = 1000\n",
    "    srand(1)\n",
    "    rets = Vector{Float64}(len)\n",
    "    for ii in 1:len\n",
    "        dim = rand(2:200)\n",
    "        facts = rand(dim,dim)\\rand(dim)\n",
    "        rets[ii]=facts[end÷2]\n",
    "    end\n",
    "    rets\n",
    "end\n",
    "\n",
    "gc()\n",
    "a=@time unbalanced_performance_test()\n",
    "println(\"---\")\n",
    "gc()\n",
    "b=@time unbalanced_performance_test()\n",
    "println(\"---\")\n",
    "gc()\n",
    "c=@time unbalanced_performance_test()\n",
    "\n",
    "a == b == c"
   ]
  },
  {
   "cell_type": "code",
   "execution_count": 178,
   "metadata": {
    "collapsed": false
   },
   "outputs": [
    {
     "ename": "LoadError",
     "evalue": "LoadError: Base.LinAlg.SingularException(111)\nwhile loading In[178], in expression starting on line 184",
     "output_type": "error",
     "traceback": [
      "LoadError: Base.LinAlg.SingularException(111)\nwhile loading In[178], in expression starting on line 184",
      "",
      " in A_ldiv_B! at ./linalg/lu.jl:176 [inlined]",
      " in \\(::Base.LinAlg.LU{Float64,Array{Float64,2}}, ::Array{Float64,1}) at ./linalg/factorization.jl:40",
      " in \\(::Array{Float64,2}, ::Array{Float64,1}) at ./linalg/generic.jl:361",
      " in unbalanced_performance_test2() at ./In[178]:7",
      " in include_string(::String, ::String) at ./loading.jl:380",
      " in execute_request_0x535c5df2(::ZMQ.Socket, ::IJulia.Msg) at /home/ubuntu/.julia/v0.5/IJulia/src/execute_request.jl:183",
      " in eventloop(::ZMQ.Socket) at /home/ubuntu/.julia/v0.5/IJulia/src/IJulia.jl:143",
      " in (::IJulia.##26#32)() at ./task.jl:309"
     ]
    }
   ],
   "source": [
    "function unbalanced_performance_test2()\n",
    "    len = 1000\n",
    "    srand(1)\n",
    "    rets = Vector{Float64}(len)\n",
    "    for ii in 1:len\n",
    "        dim = rand(2:200)\n",
    "        facts = (Matrix{Float64}(dim,dim)+eye(dim)) \\Vector{Float64}(dim)\n",
    "        rets[ii]=facts[end÷2]\n",
    "    end\n",
    "    rets\n",
    "end\n",
    "\n",
    "gc()\n",
    "a=@time unbalanced_performance_test2()\n",
    "println(\"---\")\n",
    "gc()\n",
    "b=@time unbalanced_performance_test2()\n",
    "println(\"---\")\n",
    "gc()\n",
    "c=@time unbalanced_performance_test2()\n",
    "\n",
    "a == b == c"
   ]
  },
  {
   "cell_type": "code",
   "execution_count": null,
   "metadata": {
    "collapsed": true
   },
   "outputs": [],
   "source": []
  },
  {
   "cell_type": "code",
   "execution_count": null,
   "metadata": {
    "collapsed": true
   },
   "outputs": [],
   "source": [
    "function _ws_threadsfor(iter,lbody)\n",
    "    fun = gensym(\"_ws_threadsfor\")\n",
    "    lidx = iter.args[1]         # index\n",
    "    range = iter.args[2]\n",
    "    max_work = ceil(length(range)/nthreads())\n",
    "    work_queues = [CircQueue{eltype(range)}(max_work) for tid in 1:nthreads()]\n",
    "    tid=1\n",
    "    for lidx_val in range\n",
    "        tid=wrap_index(tid+1, length(work_queues))\n",
    "        enqueue!(work_queues[tid],lidx_val) #I'd rather be loading the work after it is already started but can't\n",
    "    end\n",
    "    \n",
    "    quote\n",
    "        function $fun()\n",
    "            tid = threadid()\n",
    "            w_queues = $(esc(work_queues)) \n",
    "            #WRITE ME \n",
    "            try\n",
    "            # run this thread's iterations\n",
    "            \n",
    "                local $(esc(lidx)) = Base.unsafe_getindex(r,i)\n",
    "                $(esc(lbody))\n",
    "            end\n",
    "        end\n",
    "        ccall(:jl_threading_run, Void, (Any,), Core.svec($fun))\n",
    "    end\n",
    "end\n",
    "\n",
    "macro ws_threads(args...)\n",
    "    na = length(args)\n",
    "    if na != 1\n",
    "        throw(ArgumentError(\"wrong number of arguments in @threads\"))\n",
    "    end\n",
    "    ex = args[1]\n",
    "    if !isa(ex, Expr)\n",
    "        throw(ArgumentError(\"need an expression argument to @threads\"))\n",
    "    end\n",
    "    if is(ex.head, :for)\n",
    "        return _ws_threadsfor(ex.args[1],ex.args[2])\n",
    "    else\n",
    "        throw(ArgumentError(\"unrecognized argument to @threads\"))\n",
    "    end\n",
    "end"
   ]
  },
  {
   "cell_type": "code",
   "execution_count": null,
   "metadata": {
    "collapsed": true
   },
   "outputs": [],
   "source": []
  },
  {
   "cell_type": "code",
   "execution_count": null,
   "metadata": {
    "collapsed": true
   },
   "outputs": [],
   "source": [
    ";git add \"WorkStealing.ipynb\""
   ]
  },
  {
   "cell_type": "code",
   "execution_count": null,
   "metadata": {
    "collapsed": true
   },
   "outputs": [],
   "source": []
  },
  {
   "cell_type": "code",
   "execution_count": null,
   "metadata": {
    "collapsed": true
   },
   "outputs": [],
   "source": [
    "type Counter\n",
    "  count\n",
    "end\n",
    "\n",
    "function docount(counter::Counter, id, iobuff)\n",
    "  for i = 1:10\n",
    "    println(iobuff, @sprintf(\"%f\",time()),\"\\t $id: 1 i=$i counter.count=$(counter.count)\")\n",
    "    println(iobuff,@sprintf(\"%f\",time()), \"\\t\\t 2 $id: i=$i counter.count=$(counter.count)\")\n",
    "    counter.count += 1\n",
    "    println(iobuff,@sprintf(\"%f\",time()),\"\\t\\t\\t 3 $id: i=$i counter.count=$(counter.count)\")\n",
    "    if counter.count == 15\n",
    "            println(iobuff, @sprintf(\"%f\",time()),\"\\t $id terminating\")\n",
    "      return\n",
    "    end\n",
    "  end\n",
    "end\n",
    "\n",
    "function docount1(counter::Counter, id, iobuff)\n",
    "  for i = 1:10\n",
    "    println(iobuff, @sprintf(\"%f\",time()),\"\\t $id: 1 i=$i counter.count=$(counter.count)\")\n",
    "    println(iobuff,@sprintf(\"%f\",time()), \"\\t\\t 2 $id: i=$i counter.count=$(counter.count)\")\n",
    "    counter.count += 1\n",
    "    println(iobuff,@sprintf(\"%f\",time()),\"\\t\\t\\t 3 $id: i=$i counter.count=$(counter.count)\")\n",
    "    if counter.count == 15\n",
    "            println(iobuff, @sprintf(\"%f\",time()),\"\\t $id terminating\")\n",
    "      return\n",
    "    end\n",
    "  end\n",
    "end\n",
    "\n",
    "counter = Counter(0)\n",
    "\n",
    "for a in 1:100\n",
    "    iobuff_$a = IOBuffer()\n",
    "    \n",
    "end\n",
    "\n",
    "\n",
    "ll = TatasLock()\n",
    "@sync begin\n",
    "    @async @with_lock(ll,docount(counter,\"a\",iobuff_a))\n",
    "    @async @with_lock(ll,docount(counter,\"b\",iobuff_b))\n",
    "end\n",
    "\n",
    "@show(counter.count)\n",
    "notes_a = split( takebuf_string(iobuff_a),\"\\n\" )\n",
    "notes_b = split( takebuf_string(iobuff_b),\"\\n\" )\n",
    "println(join(sort([notes_a; notes_b]),\"\\n\"))"
   ]
  }
 ],
 "metadata": {
  "kernelspec": {
   "display_name": "Julia 0.5.0-dev",
   "language": "julia",
   "name": "julia-0.5"
  },
  "language_info": {
   "file_extension": ".jl",
   "mimetype": "application/julia",
   "name": "julia",
   "version": "0.5.0"
  }
 },
 "nbformat": 4,
 "nbformat_minor": 0
}
