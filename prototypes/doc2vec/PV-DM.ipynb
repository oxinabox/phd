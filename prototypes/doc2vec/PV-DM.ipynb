{
 "cells": [
  {
   "cell_type": "code",
   "execution_count": 1,
   "metadata": {
    "collapsed": false
   },
   "outputs": [],
   "source": [
    "using Compat\n",
    "using Docile\n",
    "using Iterators\n",
    "using Pipe\n",
    "\n",
    "macro printval(ee)\n",
    "    ee_expr = @sprintf \"%s\" string(ee)\n",
    "    esc(:(println($ee_expr,\" = \", $ee)))\n",
    "end\n",
    "\n",
    "macro pz(ee)\n",
    "    ee_expr = @sprintf \"%s\" string(ee)\n",
    "    esc(:(println($ee_expr,\"\\t\\t\",typeof($ee), \"\\t\", size($ee))))\n",
    "end"
   ]
  },
  {
   "cell_type": "code",
   "execution_count": 101,
   "metadata": {
    "collapsed": false
   },
   "outputs": [
    {
     "data": {
      "text/plain": [
       "unzip (generic function with 1 method)"
      ]
     },
     "execution_count": 101,
     "metadata": {},
     "output_type": "execute_result"
    }
   ],
   "source": [
    "function unzip(xs)\n",
    "    [zip(xs...)...]\n",
    "end"
   ]
  },
  {
   "cell_type": "code",
   "execution_count": 2,
   "metadata": {
    "collapsed": false
   },
   "outputs": [
    {
     "data": {
      "text/plain": [
       "11-element Array{Union(ASCIIString,UTF8String),1}:\n",
       " \"/root/buildFromSource/julia/usr/local/share/julia/site/v0.3\"\n",
       " \"/root/buildFromSource/julia/usr/share/julia/site/v0.3\"      \n",
       " \"../Corpus\"                                                  \n",
       " \"../doc2vec\"                                                 \n",
       " \"../Models\"                                                  \n",
       " \"../Optimisation\"                                            \n",
       " \"../recursive_embeddings\"                                    \n",
       " \"../summaristation\"                                          \n",
       " \"../tools\"                                                   \n",
       " \"../util\"                                                    \n",
       " \"../word-embedding3\"                                         "
      ]
     },
     "execution_count": 2,
     "metadata": {},
     "output_type": "execute_result"
    }
   ],
   "source": [
    "push!(LOAD_PATH, map(x->\"../\"*x, filter(fn-> !(contains(fn,\".\")),readdir(\"..\")))...)\n"
   ]
  },
  {
   "cell_type": "code",
   "execution_count": 3,
   "metadata": {
    "collapsed": false
   },
   "outputs": [],
   "source": [
    "using WordEmbeddings"
   ]
  },
  {
   "cell_type": "code",
   "execution_count": 4,
   "metadata": {
    "collapsed": false,
    "scrolled": true
   },
   "outputs": [
    {
     "name": "stdout",
     "output_type": "stream",
     "text": [
      "training\t\tArray{Array{String,1},1}\t(6097,)\n"
     ]
    }
   ],
   "source": [
    "training = open(\"../Corpus/serialised/opinosis_train_dev_plain.jsz\",\"r\") do fs\n",
    "    deserialize(fs)\n",
    "end\n",
    "@pz training"
   ]
  },
  {
   "cell_type": "code",
   "execution_count": 64,
   "metadata": {
    "collapsed": false
   },
   "outputs": [
    {
     "data": {
      "text/plain": [
       "pad (generic function with 2 methods)"
      ]
     },
     "execution_count": 64,
     "metadata": {},
     "output_type": "execute_result"
    }
   ],
   "source": [
    "\n",
    "function pad{S<:String}(sent::Vector{S}, padded_length, pad_word=\"*STARTPAD*\")\n",
    "    if length(sent) <= padded_length\n",
    "        ret =  fill(pad_word,padded_length)\n",
    "        ret[end-length(sent)+1:end] = sent\n",
    "        ret\n",
    "    else\n",
    "        sent\n",
    "    end\n",
    "end"
   ]
  },
  {
   "cell_type": "code",
   "execution_count": 58,
   "metadata": {
    "collapsed": false
   },
   "outputs": [
    {
     "data": {
      "text/plain": [
       "add_all_words! (generic function with 4 methods)"
      ]
     },
     "execution_count": 58,
     "metadata": {},
     "output_type": "execute_result"
    }
   ],
   "source": [
    "\n",
    "import WordEmbeddings.WE\n",
    "function WE(N::DataType,S::DataType, embedding_width::Int)\n",
    "    L=Array(N,(embedding_width,0))\n",
    "    word_index=Dict{S,Int}()\n",
    "    indexed_words=S[]\n",
    "    WE(L,word_index,indexed_words)\n",
    "end\n",
    "\n",
    "\n",
    "\n",
    "@doc \"Gets the word index, or creates one if it doesn't already exist\" ->\n",
    "function get_word_index!{N,S, S2}(we::WE{N,S}, word::S2, word_varience = 0.01)\n",
    "    if (word in keys(we.word_index))\n",
    "        we.word_index[word]\n",
    "    else\n",
    "        index = length(we.indexed_words)+1\n",
    "        we.word_index[word]=index\n",
    "        push!(we.indexed_words,word)\n",
    "        \n",
    "        embedding = convert(Vector{N},word_varience.*randn(size(we.L,1)))\n",
    "        we.L = hcat(we.L,embedding)\n",
    "        index\n",
    "    end\n",
    "end\n",
    "\n",
    "function add_all_words!{N,S}(we::WE{N,S}, words::Vector{S}, word_varience=0.01)\n",
    "    for word in words\n",
    "        get_word_index!(we, word, word_varience)\n",
    "    end\n",
    "    we\n",
    "end\n",
    "function add_all_words!{N,S}(we::WE{N,S}, paras::Vector{Vector{S}}, word_varience=0.01)\n",
    "    for para in paras\n",
    "        add_all_words!(we, para, word_varience)\n",
    "    end\n",
    "    we\n",
    "end"
   ]
  },
  {
   "cell_type": "code",
   "execution_count": 59,
   "metadata": {
    "collapsed": false
   },
   "outputs": [
    {
     "ename": "LoadError",
     "evalue": "invalid redefinition of constant PVDM\nwhile loading In[59], in expression starting on line 1",
     "output_type": "error",
     "traceback": [
      "invalid redefinition of constant PVDM\nwhile loading In[59], in expression starting on line 1",
      ""
     ]
    }
   ],
   "source": [
    "type PVDM{N<:Number, S<:AbstractString}\n",
    "    we::WE\n",
    "    \n",
    "    pe::WE #use a word embedder for Paragraphs too\n",
    "    \n",
    "    \n",
    "    W::AbstractMatrix{N}\n",
    "    b::AbstractVector{N}\n",
    "\n",
    "    window_length::Int\n",
    "    varience::N\n",
    "end\n",
    "\n",
    "function PVDM{N,S}(we::WE{N,S}, window_length::Int, varience=0.001)\n",
    "    \n",
    "    emb_width,n_words = size(we.L)\n",
    "    concat_layer_width = emb_width*(window_length+1)\n",
    "    const W = convert(Matrix{N}, varience*randn(n_words,concat_layer_width))\n",
    "    const b = convert(Vector{N}, varience*randn(n_words))\n",
    "    \n",
    "    pe = WE(N,Vector{S},emb_width)\n",
    "    \n",
    "    PVDM{N,S}( we, pe, W,b, window_length, varience)\n",
    "end\n",
    "    \n",
    "    "
   ]
  },
  {
   "cell_type": "code",
   "execution_count": 65,
   "metadata": {
    "collapsed": false
   },
   "outputs": [
    {
     "data": {
      "text/plain": [
       "0"
      ]
     },
     "execution_count": 65,
     "metadata": {},
     "output_type": "execute_result"
    }
   ],
   "source": [
    "const WINDOW_LEN = 8 \n",
    "training = Vector{String}[pad(para, WINDOW_LEN+1) for para in training]\n",
    "\n",
    "we_outer = WE(Float32,String, 200)\n",
    "add_all_words!(we_outer, training)\n",
    "pvdm = PVDM(we_outer, WINDOW_LEN);\n",
    "we_outer=0"
   ]
  },
  {
   "cell_type": "code",
   "execution_count": 42,
   "metadata": {
    "collapsed": false
   },
   "outputs": [
    {
     "data": {
      "text/plain": [
       "get_para_training_cases! (generic function with 2 methods)"
      ]
     },
     "execution_count": 42,
     "metadata": {},
     "output_type": "execute_result"
    }
   ],
   "source": [
    "@doc \"\"\"gets the training cases as vector of (paraIndex, [word_indexes], label_word_index),\n",
    "cycling by the window length.\n",
    "Adds the paragraph if it does not already have an index\n",
    "\"\"\" ->\n",
    "function get_para_training_cases!{S<:String}(pvdm::PVDM, para::Vector{S})\n",
    "    para_ind = get_word_index!(pvdm.pe, para)\n",
    "    \n",
    "    Task() do \n",
    "        @assert length(para)>=pvdm.window_length+1\n",
    "        for offset in 0:length(para)-(pvdm.window_length+1)\n",
    "            window_iis = [1:pvdm.window_length;]+offset\n",
    "            label_ii = pvdm.window_length+1+offset\n",
    "            \n",
    "            window_words = para[window_iis]\n",
    "            label_word = para[label_ii]\n",
    "                        \n",
    "            windows_indexes = map(word->get_word_index(pvdm.we, word), window_words)\n",
    "            label_index = get_word_index(pvdm.we, label_word)\n",
    "            \n",
    "            produce(para_ind, windows_indexes, label_index)\n",
    "        end\n",
    "    end\n",
    "    \n",
    "end"
   ]
  },
  {
   "cell_type": "code",
   "execution_count": 97,
   "metadata": {
    "collapsed": false,
    "scrolled": true
   },
   "outputs": [
    {
     "data": {
      "text/plain": [
       "73472-element Array{Any,1}:\n",
       " (1,[1,2,3,4,5,6,7,8],9)                    \n",
       " (1,[2,3,4,5,6,7,8,9],10)                   \n",
       " (2,[11,12,13,14,6,15,3,16],5)              \n",
       " (2,[12,13,14,6,15,3,16,5],6)               \n",
       " (2,[13,14,6,15,3,16,5,6],17)               \n",
       " (2,[14,6,15,3,16,5,6,17],5)                \n",
       " (2,[6,15,3,16,5,6,17,5],18)                \n",
       " (2,[15,3,16,5,6,17,5,18],19)               \n",
       " (2,[3,16,5,6,17,5,18,19],20)               \n",
       " (2,[16,5,6,17,5,18,19,20],17)              \n",
       " (2,[5,6,17,5,18,19,20,17],5)               \n",
       " (2,[6,17,5,18,19,20,17,5],6)               \n",
       " (2,[17,5,18,19,20,17,5,6],21)              \n",
       " ⋮                                          \n",
       " (5642,[2956,50,6,1616,14,1069,35,3],116)   \n",
       " (5642,[50,6,1616,14,1069,35,3,116],1999)   \n",
       " (5642,[6,1616,14,1069,35,3,116,1999],32)   \n",
       " (5642,[1616,14,1069,35,3,116,1999,32],1216)\n",
       " (5642,[14,1069,35,3,116,1999,32,1216],910) \n",
       " (5642,[1069,35,3,116,1999,32,1216,910],3)  \n",
       " (5642,[35,3,116,1999,32,1216,910,3],50)    \n",
       " (5642,[3,116,1999,32,1216,910,3,50],1605)  \n",
       " (5642,[116,1999,32,1216,910,3,50,1605],19) \n",
       " (5642,[1999,32,1216,910,3,50,1605,19],28)  \n",
       " (5642,[32,1216,910,3,50,1605,19,28],3415)  \n",
       " (5642,[1216,910,3,50,1605,19,28,3415],374) "
      ]
     },
     "execution_count": 97,
     "metadata": {},
     "output_type": "execute_result"
    }
   ],
   "source": [
    "training_indexes = chain(map(para -> get_para_training_cases!(pvdm, para), paddded_training)...) |> collect\n",
    "\n"
   ]
  },
  {
   "cell_type": "code",
   "execution_count": 112,
   "metadata": {
    "collapsed": false,
    "scrolled": true
   },
   "outputs": [
    {
     "data": {
      "text/plain": [
       "get_input_layer (generic function with 1 method)"
      ]
     },
     "execution_count": 112,
     "metadata": {},
     "output_type": "execute_result"
    }
   ],
   "source": [
    "function get_input_layer(pvdm::PVDM, para_index::Int, window_indexes::Vector{Int})\n",
    "    [pvdm.pe.L[:,para_index], vec(pvdm.we.L[:,window_indexes])]\n",
    "end"
   ]
  },
  {
   "cell_type": "code",
   "execution_count": 113,
   "metadata": {
    "collapsed": false
   },
   "outputs": [
    {
     "data": {
      "text/plain": [
       "1800-element Array{Float32,1}:\n",
       "  0.0107726  \n",
       " -0.000616014\n",
       " -0.00549025 \n",
       "  0.0184816  \n",
       "  0.000684042\n",
       " -0.00161514 \n",
       " -0.0165534  \n",
       "  0.00620565 \n",
       "  0.00690872 \n",
       "  0.0222866  \n",
       " -0.0144855  \n",
       "  0.00505583 \n",
       "  0.0152064  \n",
       "  ⋮          \n",
       "  0.00498716 \n",
       " -0.00197576 \n",
       " -0.019022   \n",
       " -0.0138082  \n",
       "  0.00210936 \n",
       "  0.00489302 \n",
       " -0.00920056 \n",
       " -0.0124299  \n",
       " -0.0106149  \n",
       " -0.00313912 \n",
       " -0.00327577 \n",
       "  0.00329835 "
      ]
     },
     "execution_count": 113,
     "metadata": {},
     "output_type": "execute_result"
    }
   ],
   "source": [
    "get_input_layer(pvdm, training_indexes[1][1], training_indexes[1][2])"
   ]
  },
  {
   "cell_type": "code",
   "execution_count": null,
   "metadata": {
    "collapsed": true
   },
   "outputs": [],
   "source": []
  }
 ],
 "metadata": {
  "kernelspec": {
   "display_name": "Julia 0.3.9-pre",
   "language": "julia",
   "name": "julia-0.3"
  },
  "language_info": {
   "name": "julia",
   "version": "0.3.10"
  }
 },
 "nbformat": 4,
 "nbformat_minor": 0
}
