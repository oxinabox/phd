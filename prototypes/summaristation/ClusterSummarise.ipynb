{
 "cells": [
  {
   "cell_type": "code",
   "execution_count": 1,
   "metadata": {
    "collapsed": false
   },
   "outputs": [],
   "source": [
    "using Pipe\n",
    "using Iterators\n",
    "using DataStructures"
   ]
  },
  {
   "cell_type": "code",
   "execution_count": 47,
   "metadata": {
    "collapsed": false
   },
   "outputs": [
    {
     "data": {
      "text/plain": [
       "loadphrases (generic function with 1 method)"
      ]
     },
     "execution_count": 47,
     "metadata": {},
     "output_type": "execute_result"
    }
   ],
   "source": [
    "function loadphrases(filename)\n",
    "    (@pipe readall(filename) |> split(_,'\\n'))[1:end-1];\n",
    "end"
   ]
  },
  {
   "cell_type": "code",
   "execution_count": 68,
   "metadata": {
    "collapsed": false,
    "scrolled": true
   },
   "outputs": [
    {
     "data": {
      "text/plain": [
       "5621-element Array{SubString{ASCIIString},1}:\n",
       " \"the old testament of the king *UNKNOWN* bible\"                                                                                                                                                                                      \n",
       " \"the first book of *UNKNOWN* : called *UNKNOWN*\"                                                                                                                                                                                     \n",
       " \"1 : 1 in the beginning god created the heaven and the earth .\"                                                                                                                                                                      \n",
       " \"1 : 2 and the earth was without form , and void ; and darkness was upon the face of the deep .\"                                                                                                                                     \n",
       " \"and the spirit of god moved upon the face of the waters .\"                                                                                                                                                                          \n",
       " \"1 : 3 and god said , let there be light : and there was light .\"                                                                                                                                                                    \n",
       " \"1 : 4 and god saw the light , that it was good : and god divided the light from the darkness .\"                                                                                                                                     \n",
       " \"1 : 5 and god called the light day , and the darkness he called night .\"                                                                                                                                                            \n",
       " \"and the evening and the morning were the first day .\"                                                                                                                                                                               \n",
       " \"1 : 6 and god said , let there be a *UNKNOWN* in the midst of the waters , and let it divide the waters from the waters .\"                                                                                                          \n",
       " \"1 : 7 and god made the *UNKNOWN* , and divided the waters which were under the *UNKNOWN* from the waters which were above the *UNKNOWN* : and it was so .\"                                                                          \n",
       " \"1 : 8 and god called the *UNKNOWN* heaven .\"                                                                                                                                                                                        \n",
       " \"and the evening and the morning were the second day .\"                                                                                                                                                                              \n",
       " ⋮                                                                                                                                                                                                                                    \n",
       " \"did they not sing one to another of him in *UNKNOWN* , saying , *UNKNOWN* *UNKNOWN* slain his thousands , and *UNKNOWN* his ten thousands ?\"                                                                                        \n",
       " \"21 : 12 and *UNKNOWN* laid up these words in his heart , and was sore afraid of *UNKNOWN* the king of *UNKNOWN* .\"                                                                                                                  \n",
       " \"21 : 13 and he changed his behavior before them , and feigned himself mad in their hands , and *UNKNOWN* on the doors of the gate , and let his *UNKNOWN* fall down upon his beard .\"                                               \n",
       " \"21 : 14 then said *UNKNOWN* unto his servants , *UNKNOWN* , *UNKNOWN* see the man is mad : *UNKNOWN* then have *UNKNOWN* brought him to me ?\"                                                                                       \n",
       " \"21 : 15 have i need of mad men , that *UNKNOWN* have brought this fellow to play the mad man in my presence ?\"                                                                                                                      \n",
       " \"shall this fellow come into my house ?\"                                                                                                                                                                                             \n",
       " \"22 : 1 *UNKNOWN* therefore departed *UNKNOWN* , and escaped to the cave *UNKNOWN* : and when his brethren and all his father ' s house heard it , they went down *UNKNOWN* to him .\"                                                \n",
       " \"22 : 2 and every one that was in distress , and every one that was in debt , and every one that was *UNKNOWN* , gathered themselves unto him ; and he became a captain over them : and there were with him about four hundred men .\"\n",
       " \"22 : 3 and *UNKNOWN* went *UNKNOWN* to *UNKNOWN* of *UNKNOWN* : and he said unto the king of *UNKNOWN* , let my father and my mother , i pray *UNKNOWN* , come forth , and be with you , till i know what god will do for me .\"     \n",
       " \"22 : 4 and he brought them before the king of *UNKNOWN* : and they *UNKNOWN* with him all the while that *UNKNOWN* was in the hold .\"                                                                                               \n",
       " \"22 : 5 and the prophet *UNKNOWN* said unto *UNKNOWN* , abide not in the hold ; depart , and get *UNKNOWN* into the land of *UNKNOWN* .\"                                                                                             \n",
       " \"then *UNKNOWN* departed , and came into the forest of *UNKNOWN* .\"                                                                                                                                                                  "
      ]
     },
     "execution_count": 68,
     "metadata": {},
     "output_type": "execute_result"
    }
   ],
   "source": [
    "phrase_range = 14380:20000  #old testerment14380:40069\n",
    "ps = readcsv(\"results/gutten.csv\")[phrase_range,:]\n",
    "phrases = loadphrases(\"results/gutten.phrases.txt\") [phrase_range]"
   ]
  },
  {
   "cell_type": "code",
   "execution_count": 61,
   "metadata": {
    "collapsed": false,
    "scrolled": true
   },
   "outputs": [
    {
     "data": {
      "text/plain": [
       "69-element Array{SubString{ASCIIString},1}:\n",
       " \"language is the normal way humans communicate .\"                                                                            \n",
       " \"only humans use language , though many other animals communicate in various ways .\"                                         \n",
       " \"human language has *UNKNOWN* , a set of rules for connecting words together to make statements and question .\"              \n",
       " \"language can also be changed , by adding new words , for example , to describe new things .\"                                \n",
       " \"other animals may inherit a set of calls which have pre-set functions .\"                                                    \n",
       " \"language may be done by speech or by writing or by moving the hands to make signs .\"                                        \n",
       " \"it follows that language is not just any way of communicating .\"                                                            \n",
       " \"even some human communication is not language : see *UNKNOWN* communication .\"                                              \n",
       " \"humans also use language for thinking .\"                                                                                    \n",
       " \"language is a word that may be used by extension : the language of a community or country .\"                                \n",
       " \"the faculty of speech .\"                                                                                                    \n",
       " \"formal language in mathematics , logic and computing .\"                                                                     \n",
       " \"sign language for deaf people *UNKNOWN* people who can not hear *UNKNOWN* .\"                                                \n",
       " ⋮                                                                                                                            \n",
       " \"*UNKNOWN*\"                                                                                                                  \n",
       " \"*UNKNOWN* as an official second language : up to 300 million .\"                                                             \n",
       " \"*UNKNOWN* taught as a second language , but with no official status : anyone 's guess , up to 1000 million .\"               \n",
       " \"*UNKNOWN* *UNKNOWN* *UNKNOWN* *UNKNOWN* : 390 million native speakers .\"                                                    \n",
       " \"*UNKNOWN*\"                                                                                                                  \n",
       " \"another of these languages is called *UNKNOWN* , which was popular about a hundred years ago but is much less popular now .\"\n",
       " \"The boy destroyed the room.\"                                                                                                \n",
       " \"The boy was responsible for the room's destruction.\"                                                                        \n",
       " \"The room was destroyed by the boy.\"                                                                                         \n",
       " \"The boy demolished the room.\"                                                                                               \n",
       " \"The room was demolished by the boy.\"                                                                                        \n",
       " \"The boy was responsible for the demolition of the room.\"                                                                    "
      ]
     },
     "execution_count": 61,
     "metadata": {},
     "output_type": "execute_result"
    }
   ],
   "source": [
    "ps1 = readcsv(\"results/language_simple_wikipedia.csv\")\n",
    "phrases1 = loadphrases(\"results/language_simple_wikipedia.phrases.txt\")\n",
    "ps2 = readcsv(\"results/boy_destroyed_room.csv\")\n",
    "phrases2 = loadphrases(\"results/boy_destroyed_room.txt\")\n",
    "\n",
    "ps = [ps1;ps2]\n",
    "phrases = [phrases1,phrases2]"
   ]
  },
  {
   "cell_type": "code",
   "execution_count": 3,
   "metadata": {
    "collapsed": false
   },
   "outputs": [],
   "source": [
    "using PyCall\n",
    "@pyimport sklearn\n",
    "@pyimport sklearn.mixture as sklm"
   ]
  },
  {
   "cell_type": "code",
   "execution_count": null,
   "metadata": {
    "collapsed": false
   },
   "outputs": [],
   "source": [
    "gmm=sklm.GMM(n_components=4, covariance_type=\"tied\", n_init=25) \n",
    "gmm[:fit](ps)\n",
    "gmm[:weights_]'"
   ]
  },
  {
   "cell_type": "code",
   "execution_count": null,
   "metadata": {
    "collapsed": false,
    "scrolled": true
   },
   "outputs": [],
   "source": [
    "function show_clusters_gmm(gmm,xs, words)\n",
    "    scores = gmm[:score](xs)\n",
    "    order = sort([1:length(scores);], by=ii->scores[ii], rev=true)\n",
    "    clusters = DefaultDict(Int, Vector{String}, ()->String[])\n",
    "    for ii in order\n",
    "        word = words[ii]\n",
    "        cluster =  gmm[:predict](xs[ii,:])[1]\n",
    "        push!(clusters[cluster], word)\n",
    "    end\n",
    "    \n",
    "    for cluster in keys(clusters)\n",
    "        println(\"** $cluster **\")\n",
    "        for word in clusters[cluster]\n",
    "            println(\" - \", word)\n",
    "        end\n",
    "        println()\n",
    "    end\n",
    "    clusters\n",
    "end\n",
    "clusters = show_clusters_gmm(gmm, ps, phrases)"
   ]
  },
  {
   "cell_type": "code",
   "execution_count": null,
   "metadata": {
    "collapsed": false
   },
   "outputs": [],
   "source": []
  },
  {
   "cell_type": "code",
   "execution_count": 4,
   "metadata": {
    "collapsed": false
   },
   "outputs": [],
   "source": [
    "@pyimport sklearn.cluster as skl_cluster"
   ]
  },
  {
   "cell_type": "code",
   "execution_count": 5,
   "metadata": {
    "collapsed": false
   },
   "outputs": [
    {
     "name": "stdout",
     "output_type": "stream",
     "text": [
      "PyObject MeanShift(bandwidth=1.04845273746, bin_seeding=False, cluster_all=True,\n",
      "     min_bin_freq=1, seeds=None)\n",
      "[0,1,2,3,4,5,6,7,8,9,10,11,12,13,14,15,16,17,18,19,20,21,22]\n"
     ]
    }
   ],
   "source": [
    "bandwidth = skl_cluster.estimate_bandwidth(ps, quantile=0.05)\n",
    "ms = skl_cluster.MeanShift(bandwidth=bandwidth, bin_seeding=false, min_bin_freq=1)\n",
    "\n",
    "println(ms[:fit](ps))\n",
    "println( ms[:labels_] |> unique |> sort)"
   ]
  },
  {
   "cell_type": "code",
   "execution_count": 6,
   "metadata": {
    "collapsed": false,
    "scrolled": true
   },
   "outputs": [
    {
     "name": "stdout",
     "output_type": "stream",
     "text": [
      "** 18 **\n",
      " - mathematics and computer science use created languages called formal languages *UNKNOWN* like computer programming languages *UNKNOWN* , but these may or may not be *UNKNOWN* true ' languages .\n",
      "\n",
      "** 2 **\n",
      " - *UNKNOWN* is often called `` the international language '' .\n",
      " - *UNKNOWN* as a first language : 380 million .\n",
      " - *UNKNOWN* taught as a second language , but with no official status : anyone 's guess , up to 1000 million .\n",
      "\n",
      "** 16 **\n",
      " - sentences with two types of expression : *UNKNOWN* and *UNKNOWN* : *UNKNOWN* is here .\n",
      "\n",
      "** 11 **\n",
      " - *UNKNOWN* words are there to make the language work : and , not , in , out , what , etc. .\n",
      "\n",
      "** 21 **\n",
      " - so if they learn a second language , it is difficult , and they have little chance of speaking it as well as their native language .\n",
      "\n",
      "** 0 **\n",
      " - language is the normal way humans communicate .\n",
      " - only humans use language , though many other animals communicate in various ways .\n",
      " - human language has *UNKNOWN* , a set of rules for connecting words together to make statements and question .\n",
      " - language can also be changed , by adding new words , for example , to describe new things .\n",
      " - other animals may inherit a set of calls which have pre-set functions .\n",
      " - language may be done by speech or by writing or by moving the hands to make signs .\n",
      " - it follows that language is not just any way of communicating .\n",
      " - even some human communication is not language : see *UNKNOWN* communication .\n",
      " - language is a word that may be used by extension : the language of a community or country .\n",
      " - the faculty of speech .\n",
      " - formal language in mathematics , logic and computing .\n",
      " - sign language for deaf people *UNKNOWN* people who can not hear *UNKNOWN* .\n",
      " - all languages share certain things which separate them from all other kinds of communication .\n",
      " - a language has rules which are shared by a community .\n",
      " - all human languages are based on sound and hearing , or in the case of sign language , vision .\n",
      " - the sounds come out in a sequence , not all at once .\n",
      " - this is *UNKNOWN* in writing , where the marks are put on the paper or screen in the same sequence .\n",
      " - the stream of sounds have little gaps between them , and come in bigger packages .\n",
      " - we call the bigger packets sentences or questions or replies or comments .\n",
      " - content words have meaning : *UNKNOWN* , *UNKNOWN* etc. .\n",
      " - grammar consists of studying how words fit together to mean something .\n",
      " - all languages have :\n",
      " - adjectives to modify *UNKNOWN* : good food .\n",
      " - devices to order or ask questions : get up ! are you ill ?\n",
      " - most of the languages have a written form .\n",
      " - new words appear , new form of saying things , new *UNKNOWN* .\n",
      " - there are many more things in common between languages .\n",
      " - which language is learned by a child depends on which language is spoken by the child 's community .\n",
      " - children have a special period , from about 18 months to about four years , which is critical for learning the language .\n",
      " - adults do not learn languages the same way they did when they were young .\n",
      " - some children have more than one native language like when they live in a foreign country or when their father speaks a different language from their mother .\n",
      " - some people consider musical notation to be a way of writing the musical language .\n",
      " - it is a close family of *UNKNOWN* , some of which are as different as romance languages are from one another .\n",
      " - it is the main second language of the world and the language of science , business , and entertainment .\n",
      " - another of these languages is called *UNKNOWN* , which was popular about a hundred years ago but is much less popular now .\n",
      " - The boy destroyed the room.\n",
      " - The boy was responsible for the room's destruction.\n",
      " - The room was destroyed by the boy.\n",
      " - The boy demolished the room.\n",
      " - The room was demolished by the boy.\n",
      " - The boy was responsible for the demolition of the room.\n",
      "\n",
      "** 7 **\n",
      " - a type of school subject . *UNKNOWN* says that *UNKNOWN* languages are at risk of becoming *UNKNOWN* .\n",
      "\n",
      "** 9 **\n",
      " - before the invention of recording , the writing system was the only way to keep track of spoken information .\n",
      "\n",
      "** 10 **\n",
      " - dummy elements : *UNKNOWN* likes to swim , so do *UNKNOWN*\n",
      "\n",
      "** 19 **\n",
      " - types of language\n",
      "\n",
      "** 17 **\n",
      " - in most languages , *UNKNOWN* being one , the order of the words can change the meaning : `` the cat sat on the man '' is different from `` the man sat on the cat '' .\n",
      "\n",
      "** 8 **\n",
      " - ways of linking : sink or swim .\n",
      "\n",
      "** 22 **\n",
      " - all the basic sound units , or *UNKNOWN* , have this in common : they can be spoken by the human voice , and heard by the human ear .\n",
      "\n",
      "** 6 **\n",
      " - if this is seriously disrupted , then their language skills will be damaged .\n",
      "\n",
      "** 4 **\n",
      " - *UNKNOWN* of language\n",
      " - *UNKNOWN* *UNKNOWN* *UNKNOWN* *UNKNOWN* : 390 million native speakers .\n",
      "\n",
      "** 3 **\n",
      " - *UNKNOWN*\n",
      " - *UNKNOWN*\n",
      "\n",
      "** 5 **\n",
      " - *UNKNOWN* is the language with the most native speakers in the world , but *UNKNOWN* is not really a language .\n",
      "\n",
      "** 20 **\n",
      " - *UNKNOWN* capacity to learn and use language is inherited .\n",
      "\n",
      "** 13 **\n",
      " - words *UNKNOWN* which may be made up of more than one *UNKNOWN* *UNKNOWN* divide up into two classes : content and *UNKNOWN* .\n",
      "\n",
      "** 14 **\n",
      " - *UNKNOWN* as an official second language : up to 300 million .\n",
      "\n",
      "** 15 **\n",
      " - normally , all humans are born with this capability .\n",
      "\n",
      "** 12 **\n",
      " - the capacity is inherited , but the particular language is learned .\n",
      "\n",
      "** 1 **\n",
      " - humans also use language for thinking .\n",
      " - all languages constantly evolve .\n",
      " - mathematics itself is seen as a language by many .\n",
      "\n"
     ]
    },
    {
     "data": {
      "text/plain": [
       "DefaultDict{Int64,Array{String,1},Function} with 23 entries:\n",
       "  18 => String[\"mathematics and computer science use created languages called f…\n",
       "  2  => String[\"*UNKNOWN* is often called `` the international language '' .\",\"…\n",
       "  16 => String[\"sentences with two types of expression : *UNKNOWN* and *UNKNOWN…\n",
       "  11 => String[\"*UNKNOWN* words are there to make the language work : and , not…\n",
       "  21 => String[\"so if they learn a second language , it is difficult , and they…\n",
       "  0  => String[\"language is the normal way humans communicate .\",\"only humans u…\n",
       "  7  => String[\"a type of school subject . *UNKNOWN* says that *UNKNOWN* langua…\n",
       "  9  => String[\"before the invention of recording , the writing system was the …\n",
       "  10 => String[\"dummy elements : *UNKNOWN* likes to swim , so do *UNKNOWN*\"]\n",
       "  19 => String[\"types of language\"]\n",
       "  17 => String[\"in most languages , *UNKNOWN* being one , the order of the word…\n",
       "  8  => String[\"ways of linking : sink or swim .\"]\n",
       "  22 => String[\"all the basic sound units , or *UNKNOWN* , have this in common …\n",
       "  6  => String[\"if this is seriously disrupted , then their language skills wil…\n",
       "  4  => String[\"*UNKNOWN* of language\",\"*UNKNOWN* *UNKNOWN* *UNKNOWN* *UNKNOWN*…\n",
       "  3  => String[\"*UNKNOWN*\",\"*UNKNOWN*\"]\n",
       "  5  => String[\"*UNKNOWN* is the language with the most native speakers in the …\n",
       "  20 => String[\"*UNKNOWN* capacity to learn and use language is inherited .\"]\n",
       "  13 => String[\"words *UNKNOWN* which may be made up of more than one *UNKNOWN*…\n",
       "  14 => String[\"*UNKNOWN* as an official second language : up to 300 million .\"]\n",
       "  15 => String[\"normally , all humans are born with this capability .\"]\n",
       "  12 => String[\"the capacity is inherited , but the particular language is lear…\n",
       "  1  => String[\"humans also use language for thinking .\",\"all languages constan…"
      ]
     },
     "execution_count": 6,
     "metadata": {},
     "output_type": "execute_result"
    }
   ],
   "source": [
    "function show_clusters(model,words, labels)\n",
    "    clusters = DefaultDict(Int, Vector{String}, ()->String[])\n",
    "    for ii in 1:length(words)\n",
    "        word = words[ii]\n",
    "        cluster =  labels[ii]\n",
    "        push!(clusters[cluster], word)\n",
    "    end\n",
    "    \n",
    "    for cluster in keys(clusters)\n",
    "        println(\"** $cluster **\")\n",
    "        for word in clusters[cluster]\n",
    "            println(\" - \", word)\n",
    "        end\n",
    "        println()\n",
    "    end\n",
    "    clusters\n",
    "end\n",
    "\n",
    "show_clusters(ms,phrases, ms[:labels_])"
   ]
  },
  {
   "cell_type": "code",
   "execution_count": 10,
   "metadata": {
    "collapsed": false
   },
   "outputs": [],
   "source": [
    "using Distances\n",
    "push!(LOAD_PATH, \"../word-embeddings2\")\n",
    "import WordEmbeddings.cosine_sim"
   ]
  },
  {
   "cell_type": "code",
   "execution_count": 66,
   "metadata": {
    "collapsed": false,
    "scrolled": true
   },
   "outputs": [
    {
     "data": {
      "text/plain": [
       "25690x25690 Array{Float64,2}:\n",
       " -0.0      -1.80406  -1.86725   -1.8686    …  -1.90203  -1.75395  -1.87132 \n",
       " -1.80406  -0.0      -1.63378   -1.62419      -1.6927   -1.70688  -1.65505 \n",
       " -1.86725  -1.63378  -0.0       -0.270393     -1.69574  -1.4128   -0.80709 \n",
       " -1.8686   -1.62419  -0.270393  -0.0          -1.70449  -1.42439  -0.78637 \n",
       " -1.8859   -1.57007  -1.14471   -1.18153      -1.82579  -1.47787  -1.37767 \n",
       " -1.85724  -1.61298  -0.297991  -0.207416  …  -1.70366  -1.42179  -0.80646 \n",
       " -1.84496  -1.61635  -0.291761  -0.182719     -1.72513  -1.43139  -0.809711\n",
       " -1.76018  -1.93893  -1.46953   -1.50954      -1.6604   -1.40131  -1.49624 \n",
       " -1.87078  -1.54928  -1.156     -1.15035      -1.70995  -1.3819   -1.33617 \n",
       " -1.83997  -1.90743  -1.48875   -1.52306      -1.87711  -1.56265  -1.56827 \n",
       " -1.85444  -1.62215  -0.321569  -0.161278  …  -1.70684  -1.42338  -0.815314\n",
       " -1.78053  -1.94427  -1.5171    -1.5713       -1.77498  -1.50259  -1.65424 \n",
       " -1.87081  -1.54766  -1.15402   -1.15208      -1.70318  -1.37609  -1.3358  \n",
       "  ⋮                                        ⋱                               \n",
       " -1.84915  -1.62453  -0.728004  -0.747113     -1.69495  -1.4317   -0.46974 \n",
       " -1.90473  -1.96535  -1.57049   -1.57821      -1.76811  -1.4331   -1.63999 \n",
       " -1.83463  -1.64671  -0.75542   -0.761456  …  -1.73503  -1.50156  -0.373679\n",
       " -1.61509  -1.80249  -1.36719   -1.38673      -1.68819  -1.47946  -1.47693 \n",
       " -1.84936  -1.72884  -1.28384   -1.30692      -1.60495  -1.2119   -1.31574 \n",
       " -1.68924  -1.69161  -1.37019   -1.39715      -1.77417  -1.43621  -1.48628 \n",
       " -1.99013  -1.71839  -1.27748   -1.33213      -1.7743   -1.4207   -1.43573 \n",
       " -2.00795  -1.78361  -1.39743   -1.41324   …  -1.86761  -1.64748  -1.60226 \n",
       " -2.01254  -1.82049  -1.75405   -1.81424      -1.91905  -1.62442  -1.84312 \n",
       " -1.90203  -1.6927   -1.69574   -1.70449      -0.0      -1.69874  -1.73253 \n",
       " -1.75395  -1.70688  -1.4128    -1.42439      -1.69874  -0.0      -1.48975 \n",
       " -1.87132  -1.65505  -0.80709   -0.78637      -1.73253  -1.48975  -0.0     "
      ]
     },
     "execution_count": 66,
     "metadata": {},
     "output_type": "execute_result"
    }
   ],
   "source": [
    "pps = ps'\n",
    "#cosine_sim = Float64[WordEmbeddings.cosine_sim(pps[:,ii],pps[:,jj]) for ii in 1:size(pps,2), jj in 1:size(pps,2)];\n",
    "#dot_sim = -1*Float64[dot(pps[:,ii],pps[:,jj]) for ii in 1:size(pps,2), jj in 1:size(pps,2)];\n",
    "#cosine_sim2 = -pairwise(CosineDist(),pps)\n",
    "euclidean_sim = -pairwise(Euclidean(),pps)\n"
   ]
  },
  {
   "cell_type": "code",
   "execution_count": 67,
   "metadata": {
    "collapsed": false,
    "scrolled": true
   },
   "outputs": [
    {
     "ename": "LoadError",
     "evalue": "PyError (:PyObject_Call) <type 'exceptions.MemoryError'>\nMemoryError()\n  File \"/usr/local/lib/python2.7/dist-packages/sklearn/base.py\", line 343, in fit_predict\n    self.fit(X)\n  File \"/usr/local/lib/python2.7/dist-packages/sklearn/cluster/affinity_propagation_.py\", line 271, in fit\n    self.affinity_matrix_ = -euclidean_distances(X, squared=True)\n  File \"/usr/local/lib/python2.7/dist-packages/sklearn/metrics/pairwise.py\", line 157, in euclidean_distances\n    XX = np.sum(X * X, axis=1)[:, np.newaxis]\n\nwhile loading In[67], in expression starting on line 2",
     "output_type": "error",
     "traceback": [
      "PyError (:PyObject_Call) <type 'exceptions.MemoryError'>\nMemoryError()\n  File \"/usr/local/lib/python2.7/dist-packages/sklearn/base.py\", line 343, in fit_predict\n    self.fit(X)\n  File \"/usr/local/lib/python2.7/dist-packages/sklearn/cluster/affinity_propagation_.py\", line 271, in fit\n    self.affinity_matrix_ = -euclidean_distances(X, squared=True)\n  File \"/usr/local/lib/python2.7/dist-packages/sklearn/metrics/pairwise.py\", line 157, in euclidean_distances\n    XX = np.sum(X * X, axis=1)[:, np.newaxis]\n\nwhile loading In[67], in expression starting on line 2",
      "",
      " in pyerr_check at /home/wheel/oxinabox/.julia/v0.3/PyCall/src/exception.jl:58",
      " in pycall at /home/wheel/oxinabox/.julia/v0.3/PyCall/src/PyCall.jl:91",
      " in fn at /home/wheel/oxinabox/.julia/v0.3/PyCall/src/conversions.jl:188"
     ]
    }
   ],
   "source": [
    "affprop = skl_cluster.AffinityPropagation(damping=0.5)\n",
    "affprop[:fit_predict](euclidean_sim)\n",
    "centers = affprop[:cluster_centers_indices_]+1 # change to julia indexing\n",
    "for phrase in phrases[centers]\n",
    "    println(phrase)\n",
    "end"
   ]
  },
  {
   "cell_type": "code",
   "execution_count": 64,
   "metadata": {
    "collapsed": false
   },
   "outputs": [
    {
     "name": "stdout",
     "output_type": "stream",
     "text": [
      "** 2 **\n",
      " - *UNKNOWN* of language\n",
      " - *UNKNOWN* is the language with the most native speakers in the world , but *UNKNOWN* is not really a language .\n",
      " - *UNKNOWN* *UNKNOWN* *UNKNOWN* *UNKNOWN* : 390 million native speakers .\n",
      "\n",
      "** 0 **\n",
      " - language is the normal way humans communicate .\n",
      " - only humans use language , though many other animals communicate in various ways .\n",
      " - language can also be changed , by adding new words , for example , to describe new things .\n",
      " - language may be done by speech or by writing or by moving the hands to make signs .\n",
      " - language is a word that may be used by extension : the language of a community or country .\n",
      " - grammar consists of studying how words fit together to mean something .\n",
      " - adults do not learn languages the same way they did when they were young .\n",
      "\n",
      "** 7 **\n",
      " - a type of school subject . *UNKNOWN* says that *UNKNOWN* languages are at risk of becoming *UNKNOWN* .\n",
      " - before the invention of recording , the writing system was the only way to keep track of spoken information .\n",
      " - normally , all humans are born with this capability .\n",
      " - the capacity is inherited , but the particular language is learned .\n",
      " - if this is seriously disrupted , then their language skills will be damaged .\n",
      " - types of language\n",
      " - mathematics and computer science use created languages called formal languages *UNKNOWN* like computer programming languages *UNKNOWN* , but these may or may not be *UNKNOWN* true ' languages .\n",
      "\n",
      "** 9 **\n",
      " - *UNKNOWN*\n",
      " - *UNKNOWN*\n",
      "\n",
      "** 10 **\n",
      " - the faculty of speech .\n",
      " - the sounds come out in a sequence , not all at once .\n",
      " - The boy destroyed the room.\n",
      " - The boy was responsible for the room's destruction.\n",
      " - The room was destroyed by the boy.\n",
      " - The boy demolished the room.\n",
      " - The room was demolished by the boy.\n",
      " - The boy was responsible for the demolition of the room.\n",
      "\n",
      "** 8 **\n",
      " - *UNKNOWN* capacity to learn and use language is inherited .\n",
      " - *UNKNOWN* is often called `` the international language '' .\n",
      " - *UNKNOWN* as a first language : 380 million .\n",
      " - *UNKNOWN* taught as a second language , but with no official status : anyone 's guess , up to 1000 million .\n",
      "\n",
      "** 6 **\n",
      " - it follows that language is not just any way of communicating .\n",
      " - even some human communication is not language : see *UNKNOWN* communication .\n",
      " - all languages share certain things which separate them from all other kinds of communication .\n",
      " - all human languages are based on sound and hearing , or in the case of sign language , vision .\n",
      " - this is *UNKNOWN* in writing , where the marks are put on the paper or screen in the same sequence .\n",
      " - the stream of sounds have little gaps between them , and come in bigger packages .\n",
      " - we call the bigger packets sentences or questions or replies or comments .\n",
      " - most of the languages have a written form .\n",
      " - there are many more things in common between languages .\n",
      " - children have a special period , from about 18 months to about four years , which is critical for learning the language .\n",
      " - some children have more than one native language like when they live in a foreign country or when their father speaks a different language from their mother .\n",
      " - some people consider musical notation to be a way of writing the musical language .\n",
      " - it is a close family of *UNKNOWN* , some of which are as different as romance languages are from one another .\n",
      " - it is the main second language of the world and the language of science , business , and entertainment .\n",
      "\n",
      "** 4 **\n",
      " - all the basic sound units , or *UNKNOWN* , have this in common : they can be spoken by the human voice , and heard by the human ear .\n",
      " - in most languages , *UNKNOWN* being one , the order of the words can change the meaning : `` the cat sat on the man '' is different from `` the man sat on the cat '' .\n",
      " - *UNKNOWN* words are there to make the language work : and , not , in , out , what , etc. .\n",
      " - sentences with two types of expression : *UNKNOWN* and *UNKNOWN* : *UNKNOWN* is here .\n",
      " - ways of linking : sink or swim .\n",
      " - dummy elements : *UNKNOWN* likes to swim , so do *UNKNOWN*\n",
      " - *UNKNOWN* as an official second language : up to 300 million .\n",
      "\n",
      "** 3 **\n",
      " - words *UNKNOWN* which may be made up of more than one *UNKNOWN* *UNKNOWN* divide up into two classes : content and *UNKNOWN* .\n",
      "\n",
      "** 5 **\n",
      " - humans also use language for thinking .\n",
      " - all languages have :\n",
      " - all languages constantly evolve .\n",
      " - so if they learn a second language , it is difficult , and they have little chance of speaking it as well as their native language .\n",
      " - mathematics itself is seen as a language by many .\n",
      "\n",
      "** 1 **\n",
      " - human language has *UNKNOWN* , a set of rules for connecting words together to make statements and question .\n",
      " - other animals may inherit a set of calls which have pre-set functions .\n",
      " - formal language in mathematics , logic and computing .\n",
      " - sign language for deaf people *UNKNOWN* people who can not hear *UNKNOWN* .\n",
      " - a language has rules which are shared by a community .\n",
      " - content words have meaning : *UNKNOWN* , *UNKNOWN* etc. .\n",
      " - adjectives to modify *UNKNOWN* : good food .\n",
      " - devices to order or ask questions : get up ! are you ill ?\n",
      " - new words appear , new form of saying things , new *UNKNOWN* .\n",
      " - which language is learned by a child depends on which language is spoken by the child 's community .\n",
      " - another of these languages is called *UNKNOWN* , which was popular about a hundred years ago but is much less popular now .\n",
      "\n"
     ]
    },
    {
     "data": {
      "text/plain": [
       "DefaultDict{Int64,Array{String,1},Function} with 11 entries:\n",
       "  2  => String[\"*UNKNOWN* of language\",\"*UNKNOWN* is the language with the most…\n",
       "  0  => String[\"language is the normal way humans communicate .\",\"only humans u…\n",
       "  7  => String[\"a type of school subject . *UNKNOWN* says that *UNKNOWN* langua…\n",
       "  9  => String[\"*UNKNOWN*\",\"*UNKNOWN*\"]\n",
       "  10 => String[\"the faculty of speech .\",\"the sounds come out in a sequence , n…\n",
       "  8  => String[\"*UNKNOWN* capacity to learn and use language is inherited .\",\"*…\n",
       "  6  => String[\"it follows that language is not just any way of communicating .…\n",
       "  4  => String[\"all the basic sound units , or *UNKNOWN* , have this in common …\n",
       "  3  => String[\"words *UNKNOWN* which may be made up of more than one *UNKNOWN*…\n",
       "  5  => String[\"humans also use language for thinking .\",\"all languages have :\"…\n",
       "  1  => String[\"human language has *UNKNOWN* , a set of rules for connecting wo…"
      ]
     },
     "execution_count": 64,
     "metadata": {},
     "output_type": "execute_result"
    }
   ],
   "source": [
    "show_clusters(affprop,phrases, affprop[:labels_])"
   ]
  },
  {
   "cell_type": "code",
   "execution_count": 9,
   "metadata": {
    "collapsed": false
   },
   "outputs": [],
   "source": []
  },
  {
   "cell_type": "code",
   "execution_count": null,
   "metadata": {
    "collapsed": false
   },
   "outputs": [],
   "source": []
  },
  {
   "cell_type": "code",
   "execution_count": null,
   "metadata": {
    "collapsed": false
   },
   "outputs": [],
   "source": [
    "\n"
   ]
  },
  {
   "cell_type": "code",
   "execution_count": null,
   "metadata": {
    "collapsed": false
   },
   "outputs": [],
   "source": [
    "using Clustering"
   ]
  },
  {
   "cell_type": "code",
   "execution_count": null,
   "metadata": {
    "collapsed": false
   },
   "outputs": [],
   "source": [
    "affprop_j = affinityprop(similarities, damp=0.25)\n",
    "#@assert(affprop_j.converged)\n",
    "for ii in affprop_j.exemplars\n",
    "    println(phrases[ii])\n",
    "end"
   ]
  },
  {
   "cell_type": "code",
   "execution_count": null,
   "metadata": {
    "collapsed": false
   },
   "outputs": [],
   "source": []
  },
  {
   "cell_type": "code",
   "execution_count": null,
   "metadata": {
    "collapsed": true
   },
   "outputs": [],
   "source": []
  },
  {
   "cell_type": "code",
   "execution_count": null,
   "metadata": {
    "collapsed": true
   },
   "outputs": [],
   "source": []
  },
  {
   "cell_type": "code",
   "execution_count": null,
   "metadata": {
    "collapsed": true
   },
   "outputs": [],
   "source": []
  },
  {
   "cell_type": "code",
   "execution_count": null,
   "metadata": {
    "collapsed": true
   },
   "outputs": [],
   "source": []
  },
  {
   "cell_type": "code",
   "execution_count": null,
   "metadata": {
    "collapsed": true
   },
   "outputs": [],
   "source": []
  },
  {
   "cell_type": "code",
   "execution_count": null,
   "metadata": {
    "collapsed": false
   },
   "outputs": [],
   "source": [
    "using MultivariateStats\n",
    "\n",
    "pca = fit(PCA, ps'; maxoutdim=2)\n",
    "\n",
    "\n",
    "Y = transform(pca, ps')'\n"
   ]
  },
  {
   "cell_type": "code",
   "execution_count": null,
   "metadata": {
    "collapsed": false,
    "scrolled": true
   },
   "outputs": [],
   "source": [
    "using TSne\n",
    "#Y = tsne(ps, no_dims = 2, initial_dims = -1, max_iter = 1000, perplexity = 30.0)\n",
    "Y = tsne(ps, 10,  -1, 2000, 20.0)"
   ]
  },
  {
   "cell_type": "code",
   "execution_count": null,
   "metadata": {
    "collapsed": false
   },
   "outputs": [],
   "source": [
    "lbls = zeros(50)\n",
    "lbls[end-5:end]=1\n",
    "plot(x=Y[:,1], y=Y[:,2], color=lbls, label=phrases,Geom.point, Geom.label(position=:centered,hide_overlaps=false))"
   ]
  },
  {
   "cell_type": "code",
   "execution_count": null,
   "metadata": {
    "collapsed": false
   },
   "outputs": [],
   "source": [
    "using Gadfly\n",
    "set_default_plot_size(20cm, 20cm)"
   ]
  },
  {
   "cell_type": "code",
   "execution_count": null,
   "metadata": {
    "collapsed": false
   },
   "outputs": [],
   "source": []
  },
  {
   "cell_type": "code",
   "execution_count": null,
   "metadata": {
    "collapsed": true
   },
   "outputs": [],
   "source": []
  }
 ],
 "metadata": {
  "kernelspec": {
   "display_name": "Julia 0.3.9-pre",
   "language": "julia",
   "name": "julia-0.3"
  },
  "language_info": {
   "name": "julia",
   "version": "0.3.9"
  }
 },
 "nbformat": 4,
 "nbformat_minor": 0
}
