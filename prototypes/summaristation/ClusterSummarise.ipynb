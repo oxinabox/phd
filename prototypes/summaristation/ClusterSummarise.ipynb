{
 "cells": [
  {
   "cell_type": "code",
   "execution_count": 26,
   "metadata": {
    "collapsed": false
   },
   "outputs": [],
   "source": [
    "using Pipe\n",
    "using Iterators\n",
    "using DataStructures"
   ]
  },
  {
   "cell_type": "code",
   "execution_count": 58,
   "metadata": {
    "collapsed": false
   },
   "outputs": [],
   "source": [
    "ps = readcsv(\"results/language_simple_wikipedia.csv\")\n",
    "phrases = @pipe readall(\"results/language_simple_wikipedia.phrases.txt\") |> split(_,'\\n');\n",
    "if phrases[end]==\"\"\n",
    "    phrases=phrases[1:end-1]\n",
    "end;"
   ]
  },
  {
   "cell_type": "code",
   "execution_count": 15,
   "metadata": {
    "collapsed": false
   },
   "outputs": [],
   "source": [
    "using PyCall\n",
    "@pyimport sklearn\n",
    "@pyimport sklearn.mixture as sklm"
   ]
  },
  {
   "cell_type": "code",
   "execution_count": 100,
   "metadata": {
    "collapsed": false
   },
   "outputs": [
    {
     "data": {
      "text/plain": [
       "1x10 Array{Float64,2}:\n",
       " 0.0454545  0.136364  0.136364  0.0454545  …  0.0681818  0.113636  0.113636"
      ]
     },
     "execution_count": 100,
     "metadata": {},
     "output_type": "execute_result"
    }
   ],
   "source": [
    "gmm=sklm.GMM(n_components=10, covariance_type=\"full\", n_init=105) \n",
    "gmm[:fit](ps)\n",
    "gmm[:weights_]'"
   ]
  },
  {
   "cell_type": "code",
   "execution_count": 101,
   "metadata": {
    "collapsed": false
   },
   "outputs": [
    {
     "data": {
      "text/plain": [
       "show_posterior_prob (generic function with 1 method)"
      ]
     },
     "execution_count": 101,
     "metadata": {},
     "output_type": "execute_result"
    }
   ],
   "source": [
    "function show_posterior_prob(gmm,xs, words)\n",
    "    p_ij = gmm[:predict_proba](xs)\n",
    "    order = @pipe findmax(p_ij,2)[2] |> map(ind->ind2sub(size(p_ij),ind)[2],_)\n",
    "    word_indexes = sort([1:length(order);], by=ii->order[ii])\n",
    "    for ii in word_indexes\n",
    "        word = rpad(words[ii],8)\n",
    "        ps = @pipe p_ij[ii,:] |> round(_,2) #|> string |> rpad(_,4,\"0\")\n",
    "        print(gmm[:predict](xs[ii,:]))\n",
    "        print(\"$word\\t|\")\n",
    "        \n",
    "        for p in ps \n",
    "            print(\" $p \")\n",
    "        end\n",
    "        println()\n",
    "    end\n",
    "end"
   ]
  },
  {
   "cell_type": "code",
   "execution_count": 102,
   "metadata": {
    "collapsed": false
   },
   "outputs": [
    {
     "data": {
      "text/plain": [
       "show_clusters (generic function with 1 method)"
      ]
     },
     "execution_count": 102,
     "metadata": {},
     "output_type": "execute_result"
    }
   ],
   "source": [
    "function show_clusters(gmm,xs, words)\n",
    "    scores = gmm[:score](xs)\n",
    "    order = sort([1:length(scores);], by=ii->scores[ii], rev=true)\n",
    "    clusters = DefaultDict(Int, Vector{String}, ()->String[])\n",
    "    for ii in order\n",
    "        word = words[ii]\n",
    "        cluster =  gmm[:predict](xs[ii,:])[1]\n",
    "        push!(clusters[cluster], word)\n",
    "    end\n",
    "    \n",
    "    for cluster in keys(clusters)\n",
    "        println(\"** $cluster **\")\n",
    "        for word in clusters[cluster]\n",
    "            println(\" - \", word)\n",
    "        end\n",
    "        println()\n",
    "    end\n",
    "end"
   ]
  },
  {
   "cell_type": "code",
   "execution_count": 103,
   "metadata": {
    "collapsed": false,
    "scrolled": false
   },
   "outputs": [
    {
     "name": "stdout",
     "output_type": "stream",
     "text": [
      "** 0 **\n",
      " - *UNKNOWN* as an official second language : up to 300 million .\n",
      " - *UNKNOWN* capacity to learn and use language is inherited . normally , all humans are born with this capability .\n",
      "\n",
      "** 7 **\n",
      " - a type of school subject . *UNKNOWN* says that *UNKNOWN* languages are at risk of becoming *UNKNOWN* . *UNKNOWN* of language\n",
      " - some people consider musical notation to be a way of writing the musical language . *UNKNOWN* is the language with the most native speakers in the world , but *UNKNOWN* is not really a language .\n",
      " - *UNKNOWN* *UNKNOWN* *UNKNOWN* *UNKNOWN* : 390 million native speakers .\n",
      "\n",
      "** 9 **\n",
      " - it follows that language is not just any way of communicating .\n",
      " - it is the main second language of the world and the language of science , business , and entertainment . *UNKNOWN* as a first language : 380 million .\n",
      " - we call the bigger packets sentences or questions or replies or comments .\n",
      " - this is *UNKNOWN* in writing , where the marks are put on the paper or screen in the same sequence .\n",
      " - most of the languages have a written form .\n",
      "\n",
      "** 4 **\n",
      " - language can also be changed , by adding new words , for example , to describe new things .\n",
      " - language is the normal way humans communicate .\n",
      " - adults do not learn languages the same way they did when they were young .\n",
      " - even some human communication is not language : see *UNKNOWN* communication .\n",
      " - all human languages are based on sound and hearing , or in the case of sign language , vision .\n",
      " - devices to order or ask questions : get up ! are you ill ?\n",
      " - which language is learned by a child depends on which language is spoken by the child 's community .\n",
      " - words *UNKNOWN* which may be made up of more than one *UNKNOWN* *UNKNOWN* divide up into two classes : content and *UNKNOWN* .\n",
      "\n",
      "** 2 **\n",
      " - new words appear , new form of saying things , new *UNKNOWN* . there are many more things in common between languages .\n",
      " - other animals may inherit a set of calls which have pre-set functions . language may be done by speech or by writing or by moving the hands to make signs .\n",
      " - all languages share certain things which separate them from all other kinds of communication . a language has rules which are shared by a community .\n",
      " - only humans use language , though many other animals communicate in various ways . human language has *UNKNOWN* , a set of rules for connecting words together to make statements and question .\n",
      " - it is a close family of *UNKNOWN* , some of which are as different as romance languages are from one another . *UNKNOWN* is often called `` the international language '' .\n",
      " - content words have meaning : *UNKNOWN* , *UNKNOWN* & *UNKNOWN* *UNKNOWN* words are there to make the language work : and , not , in , out , what , & *UNKNOWN* grammar consists of studying how words fit together to mean something . all languages have :\n",
      "\n",
      "** 3 **\n",
      " - before the invention of recording , the writing system was the only way to keep track of spoken information .\n",
      " - if this is seriously disrupted , then their language skills will be damaged .\n",
      "\n",
      "** 5 **\n",
      " - the faculty of speech .\n",
      " - the sounds come out in a sequence , not all at once .\n",
      " - *UNKNOWN*\n",
      "\n",
      "** 8 **\n",
      " - mathematics itself is seen as a language by many .\n",
      " - humans also use language for thinking . language is a word that may be used by extension : the language of a community or country .\n",
      " - all languages constantly evolve .\n",
      " - the capacity is inherited , but the particular language is learned . children have a special period , from about 18 months to about four years , which is critical for learning the language .\n",
      " - all the basic sound units , or *UNKNOWN* , have this in common : they can be spoken by the human voice , and heard by the human ear .\n",
      "\n",
      "** 6 **\n",
      " - sentences with two types of expression : *UNKNOWN* and *UNKNOWN* : *UNKNOWN* is here .\n",
      " - ways of linking : sink or swim .\n",
      " - in most languages , *UNKNOWN* being one , the order of the words can change the meaning : `` the cat sat on the man '' is different from `` the man sat on the cat '' .\n",
      " - dummy elements : *UNKNOWN* likes to swim , so do *UNKNOWN*\n",
      "\n",
      "** 1 **\n",
      " - formal language in mathematics , logic and computing .\n",
      " - another of these languages is called *UNKNOWN* , which was popular about a hundred years ago but is much less popular now .\n",
      " - sign language for deaf people *UNKNOWN* people who can not hear *UNKNOWN* .\n",
      " - the stream of sounds have little gaps between them , and come in bigger packages .\n",
      " - adjectives to modify *UNKNOWN* : good food .\n",
      " - *UNKNOWN* taught as a second language , but with no official status : anyone 's guess , up to 1000 million .\n",
      "\n"
     ]
    }
   ],
   "source": [
    "show_clusters(gmm, ps, phrases)"
   ]
  },
  {
   "cell_type": "code",
   "execution_count": null,
   "metadata": {
    "collapsed": true
   },
   "outputs": [],
   "source": []
  }
 ],
 "metadata": {
  "kernelspec": {
   "display_name": "Julia 0.3.9-pre",
   "language": "julia",
   "name": "julia-0.3"
  },
  "language_info": {
   "name": "julia",
   "version": "0.3.9"
  }
 },
 "nbformat": 4,
 "nbformat_minor": 0
}
