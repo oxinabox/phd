{
 "cells": [
  {
   "cell_type": "code",
   "execution_count": 2,
   "metadata": {
    "collapsed": false
   },
   "outputs": [],
   "source": [
    "using Pipe\n",
    "using Iterators\n",
    "using DataStructures"
   ]
  },
  {
   "cell_type": "code",
   "execution_count": 3,
   "metadata": {
    "collapsed": false
   },
   "outputs": [
    {
     "data": {
      "text/plain": [
       "load_phrases_and_embeddings (generic function with 1 method)"
      ]
     },
     "execution_count": 3,
     "metadata": {},
     "output_type": "execute_result"
    }
   ],
   "source": [
    "function loadphrases(filename)\n",
    "    (@pipe readall(filename) |> split(_,'\\n'))[1:end-1];\n",
    "end\n",
    "\n",
    "function load_phrases_and_embeddings(base_filename)\n",
    "    phrases = loadphrases(base_filename * \".phrases.txt\")\n",
    "    ps = readcsv(base_filename * \".csv\")\n",
    "    @assert size(ps,1)==length(phrases)\n",
    "    phrases,ps\n",
    "end"
   ]
  },
  {
   "cell_type": "code",
   "execution_count": 4,
   "metadata": {
    "collapsed": false,
    "scrolled": true
   },
   "outputs": [],
   "source": [
    "#phrase_range = 14380:16000  #old testerment14380:40069\n",
    "#ps = readcsv(\"results/gutten.csv\")[phrase_range,:]\n",
    "#phrases = loadphrases(\"results/gutten.phrases.txt\") [phrase_range]"
   ]
  },
  {
   "cell_type": "code",
   "execution_count": 66,
   "metadata": {
    "collapsed": false,
    "scrolled": true
   },
   "outputs": [
    {
     "data": {
      "text/plain": [
       "(SubString{ASCIIString}[\"The boy destroyed the room.\",\"The boy was responsible for the room's destruction.\",\"The room was destroyed by the boy.\",\"The boy demolished the room.\",\"The room was demolished by the boy.\",\"The boy was responsible for the demolition of the room.\"],\n",
       "6x100 Array{Float64,2}:\n",
       " -0.1722    -0.15303   -0.0057025  …  -0.070821   0.034731  -0.15358\n",
       " -0.054095  -0.10551   -0.096038      -0.079319  -0.060794  -0.18206\n",
       " -0.063988  -0.058131  -0.21631       -0.13522   -0.1449    -0.1212 \n",
       " -0.17661   -0.15615    0.0097583     -0.01829    0.051056  -0.14609\n",
       " -0.069492  -0.065127  -0.21964       -0.13942   -0.1152    -0.1296 \n",
       " -0.090505  -0.12887   -0.084873   …  -0.051677  -0.075588  -0.18595)"
      ]
     },
     "execution_count": 66,
     "metadata": {},
     "output_type": "execute_result"
    }
   ],
   "source": [
    "phrases,ps = load_phrases_and_embeddings( \"results/boy_destroyed_room\")"
   ]
  },
  {
   "cell_type": "code",
   "execution_count": 67,
   "metadata": {
    "collapsed": false
   },
   "outputs": [],
   "source": [
    "using PyCall\n",
    "@pyimport sklearn\n",
    "@pyimport sklearn.mixture as sklm\n",
    "@pyimport sklearn.cluster as skl_cluster"
   ]
  },
  {
   "cell_type": "code",
   "execution_count": 68,
   "metadata": {
    "collapsed": false,
    "scrolled": true
   },
   "outputs": [
    {
     "data": {
      "text/plain": [
       "show_clusters (generic function with 1 method)"
      ]
     },
     "execution_count": 68,
     "metadata": {},
     "output_type": "execute_result"
    }
   ],
   "source": [
    "function show_clusters(model,words, labels)\n",
    "    clusters = DefaultDict(Int, Vector{String}, ()->String[])\n",
    "    for ii in 1:length(words)\n",
    "        word = words[ii]\n",
    "        cluster =  labels[ii]\n",
    "        push!(clusters[cluster], word)\n",
    "    end\n",
    "    \n",
    "    for cluster in keys(clusters)\n",
    "        println(\"** $cluster **\")\n",
    "        for word in clusters[cluster]\n",
    "            println(\" - \", word)\n",
    "        end\n",
    "        println()\n",
    "    end\n",
    "    clusters\n",
    "end\n"
   ]
  },
  {
   "cell_type": "code",
   "execution_count": 69,
   "metadata": {
    "collapsed": false
   },
   "outputs": [],
   "source": [
    "using Distances\n",
    "push!(LOAD_PATH, \"../word-embeddings2\")\n",
    "import WordEmbeddings.cosine_sim"
   ]
  },
  {
   "cell_type": "code",
   "execution_count": 79,
   "metadata": {
    "collapsed": false,
    "scrolled": true
   },
   "outputs": [],
   "source": [
    "pps = ps'\n",
    "pps_cosine_sim = Float64[WordEmbeddings.cosine_sim(pps[:,ii],pps[:,jj]) for ii in 1:size(pps,2), jj in 1:size(pps,2)];\n"
   ]
  },
  {
   "cell_type": "code",
   "execution_count": 76,
   "metadata": {
    "collapsed": false,
    "scrolled": false
   },
   "outputs": [
    {
     "name": "stdout",
     "output_type": "stream",
     "text": [
      "The boy was responsible for the room's destruction.\n",
      "The boy demolished the room.\n",
      "The room was demolished by the boy.\n"
     ]
    }
   ],
   "source": [
    "affinity = pycall(pybuiltin(\"intern\"),PyObject, \"precomputed\")\n",
    "affprop = skl_cluster.AffinityPropagation(damping=0.5,affinity=affinity)\n",
    "\n",
    "affprop[:fit_predict](pps_cosine_sim)\n",
    "centers = affprop[:cluster_centers_indices_] + 1 #julia indexing\n",
    "for phrase in phrases[centers]\n",
    "    println(phrase)\n",
    "end"
   ]
  },
  {
   "cell_type": "code",
   "execution_count": 77,
   "metadata": {
    "collapsed": false,
    "scrolled": true
   },
   "outputs": [
    {
     "name": "stdout",
     "output_type": "stream",
     "text": [
      "** 0 **\n",
      " - The boy was responsible for the room's destruction.\n",
      " - The boy was responsible for the demolition of the room.\n",
      "\n",
      "** 2 **\n",
      " - The room was destroyed by the boy.\n",
      " - The room was demolished by the boy.\n",
      "\n",
      "** 1 **\n",
      " - The boy destroyed the room.\n",
      " - The boy demolished the room.\n",
      "\n"
     ]
    },
    {
     "data": {
      "text/plain": [
       "DefaultDict{Int64,Array{String,1},Function} with 3 entries:\n",
       "  0 => String[\"The boy was responsible for the room's destruction.\",\"The boy wa…\n",
       "  2 => String[\"The room was destroyed by the boy.\",\"The room was demolished by …\n",
       "  1 => String[\"The boy destroyed the room.\",\"The boy demolished the room.\"]"
      ]
     },
     "execution_count": 77,
     "metadata": {},
     "output_type": "execute_result"
    }
   ],
   "source": [
    "clusters = show_clusters(affprop,phrases, affprop[:labels_])"
   ]
  },
  {
   "cell_type": "code",
   "execution_count": 55,
   "metadata": {
    "collapsed": false,
    "scrolled": true
   },
   "outputs": [],
   "source": [
    "#using TSne\n",
    "#Y = tsne(ps, no_dims = 2, initial_dims = -1, max_iter = 1000, perplexity = 30.0)\n",
    "#Y = tsne(ps, 10,  -1, 2000, 20.0)"
   ]
  },
  {
   "cell_type": "code",
   "execution_count": 56,
   "metadata": {
    "collapsed": false
   },
   "outputs": [],
   "source": [
    "#using Gadfly\n",
    "#set_default_plot_size(20cm, 20cm)\n",
    "\n",
    "#plot(x=Y[:,1], y=Y[:,2],\n",
    "#        color=affprop[:labels_],\n",
    "#        label=phrases,\n",
    "#        Geom.point, Geom.label(position=:centered,hide_overlaps=false))"
   ]
  },
  {
   "cell_type": "code",
   "execution_count": null,
   "metadata": {
    "collapsed": false
   },
   "outputs": [],
   "source": []
  },
  {
   "cell_type": "code",
   "execution_count": null,
   "metadata": {
    "collapsed": true
   },
   "outputs": [],
   "source": []
  },
  {
   "cell_type": "code",
   "execution_count": null,
   "metadata": {
    "collapsed": true
   },
   "outputs": [],
   "source": []
  },
  {
   "cell_type": "code",
   "execution_count": 36,
   "metadata": {
    "collapsed": true
   },
   "outputs": [],
   "source": [
    "using Pipe\n",
    "push!(LOAD_PATH, \"../word-embeddings2\")\n",
    "using WordEmbeddings\n",
    "we = @pipe load_embeddings(\"../word-embeddings2/word_emb_data/embeddings-scaled.EMBEDDING_SIZE=50.txt\") |> WE(_...);\n",
    "\n"
   ]
  },
  {
   "cell_type": "code",
   "execution_count": 37,
   "metadata": {
    "collapsed": false
   },
   "outputs": [
    {
     "data": {
      "text/plain": [
       "tokenize (generic function with 1 method)"
      ]
     },
     "execution_count": 37,
     "metadata": {},
     "output_type": "execute_result"
    }
   ],
   "source": [
    "using PyCall\n",
    "@pyimport nltk\n",
    "function tokenize(sentence::String)\n",
    "    convert(Array{String,1},nltk.word_tokenize(sentence))\n",
    "end"
   ]
  },
  {
   "cell_type": "code",
   "execution_count": 91,
   "metadata": {
    "collapsed": false,
    "scrolled": true
   },
   "outputs": [],
   "source": [
    "cl_phrases = phrases\n",
    "cl_wess = [eval_word_embeddings(we, tokenize(sent))' for sent in cl_phrases];\n"
   ]
  },
  {
   "cell_type": "code",
   "execution_count": 93,
   "metadata": {
    "collapsed": false
   },
   "outputs": [
    {
     "data": {
      "text/plain": [
       "6-element Array{SubString{ASCIIString},1}:\n",
       " \"The boy destroyed the room.\"                            \n",
       " \"The boy was responsible for the room's destruction.\"    \n",
       " \"The room was destroyed by the boy.\"                     \n",
       " \"The boy demolished the room.\"                           \n",
       " \"The room was demolished by the boy.\"                    \n",
       " \"The boy was responsible for the demolition of the room.\""
      ]
     },
     "execution_count": 93,
     "metadata": {},
     "output_type": "execute_result"
    }
   ],
   "source": [
    "phrases"
   ]
  },
  {
   "cell_type": "code",
   "execution_count": 81,
   "metadata": {
    "collapsed": true
   },
   "outputs": [],
   "source": [
    "@pyimport hmmlearn.hmm as hl_hmm\n",
    "@pyimport warnings\n",
    "warnings.filterwarnings(\"ignore\")"
   ]
  },
  {
   "cell_type": "code",
   "execution_count": 98,
   "metadata": {
    "collapsed": false
   },
   "outputs": [
    {
     "data": {
      "text/plain": [
       "PyObject GMMHMM(algorithm='viterbi', covariance_type='full', covars_prior=0.01,\n",
       "    gmms=None,\n",
       "    init_params='abcdefghijklmnopqrstuvwxyzABCDEFGHIJKLMNOPQRSTUVWXYZ',\n",
       "    n_components=12, n_iter=1000000000, n_mix=3,\n",
       "    params='abcdefghijklmnopqrstuvwxyzABCDEFGHIJKLMNOPQRSTUVWXYZ',\n",
       "    random_state=None, startprob=None, startprob_prior=None, thresh=0.01,\n",
       "    transmat=None, transmat_prior=None)"
      ]
     },
     "execution_count": 98,
     "metadata": {},
     "output_type": "execute_result"
    }
   ],
   "source": [
    "hmm = hl_hmm.GMMHMM(n_components=12, n_mix=3, covariance_type=\"full\", n_iter=1000*1000*1000)\n"
   ]
  },
  {
   "cell_type": "code",
   "execution_count": null,
   "metadata": {
    "collapsed": false,
    "scrolled": true
   },
   "outputs": [],
   "source": [
    "hmm[:fit](cl_wess)\n"
   ]
  },
  {
   "cell_type": "code",
   "execution_count": 96,
   "metadata": {
    "collapsed": false
   },
   "outputs": [
    {
     "name": "stdout",
     "output_type": "stream",
     "text": [
      "{4207.067915070775,3960.427050401919}\n",
      "100000000\n",
      "false\n",
      "false\n",
      "false\n",
      "false\n",
      "false\n",
      "false\n",
      "false\n",
      "false\n",
      "false\n",
      "false\n",
      "false\n",
      "false\n"
     ]
    }
   ],
   "source": [
    "hmm[:monitor_][:history] |> collect |> println\n",
    "hmm[:monitor_][:n_iter]  |> println\n",
    "for gmm in hmm[:gmms_]\n",
    "    println(gmm[:converged_])   \n",
    "end"
   ]
  },
  {
   "cell_type": "code",
   "execution_count": 97,
   "metadata": {
    "collapsed": false
   },
   "outputs": [
    {
     "name": "stdout",
     "output_type": "stream",
     "text": [
      "digraph graphname {\n",
      "n1 [label= \"established/the/.\n",
      "Start Prob: 0.08\"];\n",
      "n2 [label= \"./the/established\n",
      "Start Prob: 0.08\"];\n",
      "n3 [label= \"established/the/.\n",
      "Start Prob: 0.08\"];\n",
      "n4 [label= \"the/established/.\n",
      "Start Prob: 0.08\"];\n",
      "n5 [label= \"./the/established\n",
      "Start Prob: 0.08\"];\n",
      "n6 [label= \"established/the/.\n",
      "Start Prob: 0.08\"];\n",
      "n7 [label= \"the/established/.\n",
      "Start Prob: 0.08\"];\n",
      "n8 [label= \"the/established/.\n",
      "Start Prob: 0.08\"];\n",
      "n9 [label= \"./the/established\n",
      "Start Prob: 0.08\"];\n",
      "n10 [label= \"established/the/.\n",
      "Start Prob: 0.08\"];\n",
      "n11 [label= \"established/the/.\n",
      "Start Prob: 0.08\"];\n",
      "n12 [label= \"established/the/.\n",
      "Start Prob: 0.08\"];\n",
      "n1->n1 [label= \"0.08\", penwidth = \"0.8\", color = \"0.1384192049811379,1.0,0.5\"];\n",
      "n1->n2 [label= \"0.08\", penwidth = \"0.8\", color = \"0.06575101903785008,1.0,0.5\"];\n",
      "n1->n3 [label= \"0.08\", penwidth = \"0.8\", color = \"0.2441311428672035,1.0,0.5\"];\n",
      "n1->n4 [label= \"0.08\", penwidth = \"0.8\", color = \"0.9915362573676627,1.0,0.5\"];\n",
      "n1->n5 [label= \"0.08\", penwidth = \"0.8\", color = \"0.1881982942843139,1.0,0.5\"];\n",
      "n1->n6 [label= \"0.08\", penwidth = \"0.8\", color = \"0.24657607458192343,1.0,0.5\"];\n",
      "n1->n7 [label= \"0.08\", penwidth = \"0.8\", color = \"0.5235657184917102,1.0,0.5\"];\n",
      "n1->n8 [label= \"0.08\", penwidth = \"0.8\", color = \"0.8111267621660649,1.0,0.5\"];\n",
      "n1->n9 [label= \"0.08\", penwidth = \"0.8\", color = \"0.8856630118023958,1.0,0.5\"];\n",
      "n1->n10 [label= \"0.08\", penwidth = \"0.8\", color = \"0.09642097655898518,1.0,0.5\"];\n",
      "n1->n11 [label= \"0.08\", penwidth = \"0.8\", color = \"0.4120572916448251,1.0,0.5\"];\n",
      "n1->n12 [label= \"0.08\", penwidth = \"0.8\", color = \"0.45440216559154156,1.0,0.5\"];\n",
      "n2->n1 [label= \"0.08\", penwidth = \"0.8\", color = \"0.3882664818903767,1.0,0.5\"];\n",
      "n2->n2 [label= \"0.08\", penwidth = \"0.8\", color = \"0.7438338348811686,1.0,0.5\"];\n",
      "n2->n3 [label= \"0.08\", penwidth = \"0.8\", color = \"0.2965579736324384,1.0,0.5\"];\n",
      "n2->n4 [label= \"0.08\", penwidth = \"0.8\", color = \"0.6818203210179223,1.0,0.5\"];\n",
      "n2->n5 [label= \"0.08\", penwidth = \"0.8\", color = \"0.825616712708356,1.0,0.5\"];\n",
      "n2->n6 [label= \"0.08\", penwidth = \"0.8\", color = \"0.2882443052085999,1.0,0.5\"];\n",
      "n2->n7 [label= \"0.08\", penwidth = \"0.8\", color = \"0.2433311167385146,1.0,0.5\"];\n",
      "n2->n8 [label= \"0.08\", penwidth = \"0.8\", color = \"0.8791494460940785,1.0,0.5\"];\n",
      "n2->n9 [label= \"0.08\", penwidth = \"0.8\", color = \"0.4111258387640886,1.0,0.5\"];\n",
      "n2->n10 [label= \"0.08\", penwidth = \"0.8\", color = \"0.40344277358619274,1.0,0.5\"];\n",
      "n2->n11 [label= \"0.08\", penwidth = \"0.8\", color = \"0.7729629087091423,1.0,0.5\"];\n",
      "n2->n12 [label= \"0.08\", penwidth = \"0.8\", color = \"0.0665423304330548,1.0,0.5\"];\n",
      "n3->n1 [label= \"0.08\", penwidth = \"0.8\", color = \"0.08442297603722815,1.0,0.5\"];\n",
      "n3->n2 [label= \"0.08\", penwidth = \"0.8\", color = \"0.28824378758741975,1.0,0.5\"];\n",
      "n3->n3 [label= \"0.08\", penwidth = \"0.8\", color = \"0.7769338885617825,1.0,0.5\"];\n",
      "n3->n4 [label= \"0.08\", penwidth = \"0.8\", color = \"0.9721460397968118,1.0,0.5\"];\n",
      "n3->n5 [label= \"0.08\", penwidth = \"0.8\", color = \"0.14666413771999975,1.0,0.5\"];\n",
      "n3->n6 [label= \"0.08\", penwidth = \"0.8\", color = \"0.43712914157146776,1.0,0.5\"];\n",
      "n3->n7 [label= \"0.08\", penwidth = \"0.8\", color = \"0.25896649378863357,1.0,0.5\"];\n",
      "n3->n8 [label= \"0.08\", penwidth = \"0.8\", color = \"0.711746929426851,1.0,0.5\"];\n",
      "n3->n9 [label= \"0.08\", penwidth = \"0.8\", color = \"0.9872849648110755,1.0,0.5\"];\n",
      "n3->n10 [label= \"0.08\", penwidth = \"0.8\", color = \"0.5884731130143988,1.0,0.5\"];\n",
      "n3->n11 [label= \"0.08\", penwidth = \"0.8\", color = \"0.9795117838581515,1.0,0.5\"];\n",
      "n3->n12 [label= \"0.08\", penwidth = \"0.8\", color = \"0.554254138829225,1.0,0.5\"];\n",
      "n4->n1 [label= \"0.08\", penwidth = \"0.8\", color = \"0.5494392614904551,1.0,0.5\"];\n",
      "n4->n2 [label= \"0.08\", penwidth = \"0.8\", color = \"0.1993100704237154,1.0,0.5\"];\n",
      "n4->n3 [label= \"0.08\", penwidth = \"0.8\", color = \"0.46846582884938526,1.0,0.5\"];\n",
      "n4->n4 [label= \"0.08\", penwidth = \"0.8\", color = \"0.8985245180009664,1.0,0.5\"];\n",
      "n4->n5 [label= \"0.08\", penwidth = \"0.8\", color = \"0.8492601350760998,1.0,0.5\"];\n",
      "n4->n6 [label= \"0.08\", penwidth = \"0.8\", color = \"0.6195041362315303,1.0,0.5\"];\n",
      "n4->n7 [label= \"0.08\", penwidth = \"0.8\", color = \"0.007889131745167699,1.0,0.5\"];\n",
      "n4->n8 [label= \"0.08\", penwidth = \"0.8\", color = \"0.6470238045691021,1.0,0.5\"];\n",
      "n4->n9 [label= \"0.08\", penwidth = \"0.8\", color = \"0.524845685287336,1.0,0.5\"];\n",
      "n4->n10 [label= \"0.08\", penwidth = \"0.8\", color = \"0.4369005184084951,1.0,0.5\"];\n",
      "n4->n11 [label= \"0.08\", penwidth = \"0.8\", color = \"0.631066901836913,1.0,0.5\"];\n",
      "n4->n12 [label= \"0.08\", penwidth = \"0.8\", color = \"0.3538120966542033,1.0,0.5\"];\n",
      "n5->n1 [label= \"0.08\", penwidth = \"0.8\", color = \"0.8732906224546377,1.0,0.5\"];\n",
      "n5->n2 [label= \"0.08\", penwidth = \"0.8\", color = \"0.08941795560755827,1.0,0.5\"];\n",
      "n5->n3 [label= \"0.08\", penwidth = \"0.8\", color = \"0.4975879163100203,1.0,0.5\"];\n",
      "n5->n4 [label= \"0.08\", penwidth = \"0.8\", color = \"0.5071931740225104,1.0,0.5\"];\n",
      "n5->n5 [label= \"0.08\", penwidth = \"0.8\", color = \"0.656760018598419,1.0,0.5\"];\n",
      "n5->n6 [label= \"0.08\", penwidth = \"0.8\", color = \"0.5146343985696757,1.0,0.5\"];\n",
      "n5->n7 [label= \"0.08\", penwidth = \"0.8\", color = \"0.10367526139251781,1.0,0.5\"];\n",
      "n5->n8 [label= \"0.08\", penwidth = \"0.8\", color = \"0.9664522757245275,1.0,0.5\"];\n",
      "n5->n9 [label= \"0.08\", penwidth = \"0.8\", color = \"0.5947650378786464,1.0,0.5\"];\n",
      "n5->n10 [label= \"0.08\", penwidth = \"0.8\", color = \"0.052567285652343365,1.0,0.5\"];\n",
      "n5->n11 [label= \"0.08\", penwidth = \"0.8\", color = \"0.48723424183079533,1.0,0.5\"];\n",
      "n5->n12 [label= \"0.08\", penwidth = \"0.8\", color = \"0.2403324219743843,1.0,0.5\"];\n",
      "n6->n1 [label= \"0.08\", penwidth = \"0.8\", color = \"0.9894672248626406,1.0,0.5\"];\n",
      "n6->n2 [label= \"0.08\", penwidth = \"0.8\", color = \"0.47149103653679814,1.0,0.5\"];\n",
      "n6->n3 [label= \"0.08\", penwidth = \"0.8\", color = \"0.9929307943073542,1.0,0.5\"];\n",
      "n6->n4 [label= \"0.08\", penwidth = \"0.8\", color = \"0.9721732127240612,1.0,0.5\"];\n",
      "n6->n5 [label= \"0.08\", penwidth = \"0.8\", color = \"0.5885040208664025,1.0,0.5\"];\n",
      "n6->n6 [label= \"0.08\", penwidth = \"0.8\", color = \"0.6067528099229309,1.0,0.5\"];\n",
      "n6->n7 [label= \"0.08\", penwidth = \"0.8\", color = \"0.5981673405496797,1.0,0.5\"];\n",
      "n6->n8 [label= \"0.08\", penwidth = \"0.8\", color = \"0.35509147702800803,1.0,0.5\"];\n",
      "n6->n9 [label= \"0.08\", penwidth = \"0.8\", color = \"0.8963684366885463,1.0,0.5\"];\n",
      "n6->n10 [label= \"0.08\", penwidth = \"0.8\", color = \"0.21952792395777831,1.0,0.5\"];\n",
      "n6->n11 [label= \"0.08\", penwidth = \"0.8\", color = \"0.6418698261736129,1.0,0.5\"];\n",
      "n6->n12 [label= \"0.08\", penwidth = \"0.8\", color = \"0.5779925974103388,1.0,0.5\"];\n",
      "n7->n1 [label= \"0.08\", penwidth = \"0.8\", color = \"0.6487236977357791,1.0,0.5\"];\n",
      "n7->n2 [label= \"0.08\", penwidth = \"0.8\", color = \"0.710055919525318,1.0,0.5\"];\n",
      "n7->n3 [label= \"0.08\", penwidth = \"0.8\", color = \"0.6708952487704272,1.0,0.5\"];\n",
      "n7->n4 [label= \"0.08\", penwidth = \"0.8\", color = \"0.1347935105170479,1.0,0.5\"];\n",
      "n7->n5 [label= \"0.08\", penwidth = \"0.8\", color = \"0.6798070240904586,1.0,0.5\"];\n",
      "n7->n6 [label= \"0.08\", penwidth = \"0.8\", color = \"0.1852298737999054,1.0,0.5\"];\n",
      "n7->n7 [label= \"0.08\", penwidth = \"0.8\", color = \"0.3592431241182661,1.0,0.5\"];\n",
      "n7->n8 [label= \"0.08\", penwidth = \"0.8\", color = \"0.5894267141736482,1.0,0.5\"];\n",
      "n7->n9 [label= \"0.08\", penwidth = \"0.8\", color = \"0.7974704941134361,1.0,0.5\"];\n",
      "n7->n10 [label= \"0.08\", penwidth = \"0.8\", color = \"0.2511000125589897,1.0,0.5\"];\n",
      "n7->n11 [label= \"0.08\", penwidth = \"0.8\", color = \"0.20078833525643525,1.0,0.5\"];\n",
      "n7->n12 [label= \"0.08\", penwidth = \"0.8\", color = \"0.06860242745282275,1.0,0.5\"];\n",
      "n8->n1 [label= \"0.08\", penwidth = \"0.8\", color = \"0.27936847254347486,1.0,0.5\"];\n",
      "n8->n2 [label= \"0.08\", penwidth = \"0.8\", color = \"0.7805034344279398,1.0,0.5\"];\n",
      "n8->n3 [label= \"0.08\", penwidth = \"0.8\", color = \"0.8364772150438857,1.0,0.5\"];\n",
      "n8->n4 [label= \"0.08\", penwidth = \"0.8\", color = \"0.4085514695912924,1.0,0.5\"];\n",
      "n8->n5 [label= \"0.08\", penwidth = \"0.8\", color = \"0.22808807339476656,1.0,0.5\"];\n",
      "n8->n6 [label= \"0.08\", penwidth = \"0.8\", color = \"0.5049171259057914,1.0,0.5\"];\n",
      "n8->n7 [label= \"0.08\", penwidth = \"0.8\", color = \"0.2752554832125016,1.0,0.5\"];\n",
      "n8->n8 [label= \"0.08\", penwidth = \"0.8\", color = \"0.6743223876345878,1.0,0.5\"];\n",
      "n8->n9 [label= \"0.08\", penwidth = \"0.8\", color = \"0.3301958317497298,1.0,0.5\"];\n",
      "n8->n10 [label= \"0.08\", penwidth = \"0.8\", color = \"0.9146319473819229,1.0,0.5\"];\n",
      "n8->n11 [label= \"0.08\", penwidth = \"0.8\", color = \"0.6454755016912503,1.0,0.5\"];\n",
      "n8->n12 [label= \"0.08\", penwidth = \"0.8\", color = \"0.5200113611001886,1.0,0.5\"];\n",
      "n9->n1 [label= \"0.08\", penwidth = \"0.8\", color = \"0.604455827158719,1.0,0.5\"];\n",
      "n9->n2 [label= \"0.08\", penwidth = \"0.8\", color = \"0.7018697017231572,1.0,0.5\"];\n",
      "n9->n3 [label= \"0.08\", penwidth = \"0.8\", color = \"0.6156286030015758,1.0,0.5\"];\n",
      "n9->n4 [label= \"0.08\", penwidth = \"0.8\", color = \"0.13175444116205703,1.0,0.5\"];\n",
      "n9->n5 [label= \"0.08\", penwidth = \"0.8\", color = \"0.31378781489810903,1.0,0.5\"];\n",
      "n9->n6 [label= \"0.08\", penwidth = \"0.8\", color = \"0.1529169406160611,1.0,0.5\"];\n",
      "n9->n7 [label= \"0.08\", penwidth = \"0.8\", color = \"0.1481812489307861,1.0,0.5\"];\n",
      "n9->n8 [label= \"0.08\", penwidth = \"0.8\", color = \"0.4109781073752925,1.0,0.5\"];\n",
      "n9->n9 [label= \"0.08\", penwidth = \"0.8\", color = \"0.9862335865222827,1.0,0.5\"];\n",
      "n9->n10 [label= \"0.08\", penwidth = \"0.8\", color = \"0.6522612913494283,1.0,0.5\"];\n",
      "n9->n11 [label= \"0.08\", penwidth = \"0.8\", color = \"0.10346467438962281,1.0,0.5\"];\n",
      "n9->n12 [label= \"0.08\", penwidth = \"0.8\", color = \"0.7624570799643182,1.0,0.5\"];\n",
      "n10->n1 [label= \"0.08\", penwidth = \"0.8\", color = \"0.9926376587395807,1.0,0.5\"];\n",
      "n10->n2 [label= \"0.08\", penwidth = \"0.8\", color = \"0.2333863320322882,1.0,0.5\"];\n",
      "n10->n3 [label= \"0.08\", penwidth = \"0.8\", color = \"0.9427273144536301,1.0,0.5\"];\n",
      "n10->n4 [label= \"0.08\", penwidth = \"0.8\", color = \"0.3681331416498306,1.0,0.5\"];\n",
      "n10->n5 [label= \"0.08\", penwidth = \"0.8\", color = \"0.8715971080207618,1.0,0.5\"];\n",
      "n10->n6 [label= \"0.08\", penwidth = \"0.8\", color = \"0.42684461466554,1.0,0.5\"];\n",
      "n10->n7 [label= \"0.08\", penwidth = \"0.8\", color = \"0.18054565392944832,1.0,0.5\"];\n",
      "n10->n8 [label= \"0.08\", penwidth = \"0.8\", color = \"0.8046300760687559,1.0,0.5\"];\n",
      "n10->n9 [label= \"0.08\", penwidth = \"0.8\", color = \"0.8398384045542246,1.0,0.5\"];\n",
      "n10->n10 [label= \"0.08\", penwidth = \"0.8\", color = \"0.12018942175279435,1.0,0.5\"];\n",
      "n10->n11 [label= \"0.08\", penwidth = \"0.8\", color = \"0.22967331239960775,1.0,0.5\"];\n",
      "n10->n12 [label= \"0.08\", penwidth = \"0.8\", color = \"0.3859240025795321,1.0,0.5\"];\n",
      "n11->n1 [label= \"0.08\", penwidth = \"0.8\", color = \"0.9022996842878408,1.0,0.5\"];\n",
      "n11->n2 [label= \"0.08\", penwidth = \"0.8\", color = \"0.19988485316723592,1.0,0.5\"];\n",
      "n11->n3 [label= \"0.08\", penwidth = \"0.8\", color = \"0.970757806531177,1.0,0.5\"];\n",
      "n11->n4 [label= \"0.08\", penwidth = \"0.8\", color = \"0.37620818458073657,1.0,0.5\"];\n",
      "n11->n5 [label= \"0.08\", penwidth = \"0.8\", color = \"0.7229657127025115,1.0,0.5\"];\n",
      "n11->n6 [label= \"0.08\", penwidth = \"0.8\", color = \"0.12369862545291066,1.0,0.5\"];\n",
      "n11->n7 [label= \"0.08\", penwidth = \"0.8\", color = \"0.41331739480531415,1.0,0.5\"];\n",
      "n11->n8 [label= \"0.08\", penwidth = \"0.8\", color = \"0.22642094425345438,1.0,0.5\"];\n",
      "n11->n9 [label= \"0.08\", penwidth = \"0.8\", color = \"0.3726274457471106,1.0,0.5\"];\n",
      "n11->n10 [label= \"0.08\", penwidth = \"0.8\", color = \"0.5418552766112565,1.0,0.5\"];\n",
      "n11->n11 [label= \"0.08\", penwidth = \"0.8\", color = \"0.2857614651876401,1.0,0.5\"];\n",
      "n11->n12 [label= \"0.08\", penwidth = \"0.8\", color = \"0.4069014394973727,1.0,0.5\"];\n",
      "n12->n1 [label= \"0.08\", penwidth = \"0.8\", color = \"0.22761652160844315,1.0,0.5\"];\n",
      "n12->n2 [label= \"0.08\", penwidth = \"0.8\", color = \"0.3414659876006527,1.0,0.5\"];\n",
      "n12->n3 [label= \"0.08\", penwidth = \"0.8\", color = \"0.027425452248018622,1.0,0.5\"];\n",
      "n12->n4 [label= \"0.08\", penwidth = \"0.8\", color = \"0.06274019283353027,1.0,0.5\"];\n",
      "n12->n5 [label= \"0.08\", penwidth = \"0.8\", color = \"0.5033766246434344,1.0,0.5\"];\n",
      "n12->n6 [label= \"0.08\", penwidth = \"0.8\", color = \"0.0939582700731636,1.0,0.5\"];\n",
      "n12->n7 [label= \"0.08\", penwidth = \"0.8\", color = \"0.21788807242542707,1.0,0.5\"];\n",
      "n12->n8 [label= \"0.08\", penwidth = \"0.8\", color = \"0.805734316063035,1.0,0.5\"];\n",
      "n12->n9 [label= \"0.08\", penwidth = \"0.8\", color = \"0.5650062763851891,1.0,0.5\"];\n",
      "n12->n10 [label= \"0.08\", penwidth = \"0.8\", color = \"0.5394668008548957,1.0,0.5\"];\n",
      "n12->n11 [label= \"0.08\", penwidth = \"0.8\", color = \"0.42071302418970125,1.0,0.5\"];\n",
      "n12->n12 [label= \"0.08\", penwidth = \"0.8\", color = \"0.6668234181616506,1.0,0.5\"];\n",
      "}\n"
     ]
    }
   ],
   "source": [
    "function get_dotfile(hmm,we, min_start_prob = 0.00, min_trans_prob = 0.0)\n",
    "    if pyisinstance(hmm,pytypeof(hl_hmm.GMMHMM())) \n",
    "        function gmm_cores(gmm)\n",
    "            gmm_means = @pipe gmm[:means_]' |> round(_,5) |> unique(_,2) # first remove any ~duplicate vectors\n",
    "            show_bests(we,gmm_means,1)[1,1:2:end] |> unique #then remove any duplicate words \n",
    "        end\n",
    "        node_labels = map(gmm_cores, hmm[:gmms_])\n",
    "    elseif pyisinstance(hmm,pytypeof(hl_hmm.GaussianHMM())) \n",
    "        n_means = 3\n",
    "        node_labels = show_bests(we, hmm[:means_]',n_means)[1:n_means,1:2:end]\n",
    "        node_labels= [node_labels[:,ii] for ii in 1:size(node_labels,2)]\n",
    "    else \n",
    "        error(\"Unknown type of HMM\")\n",
    "    end\n",
    "    \n",
    "    prob_from_to = @pipe hmm[:_get_transmat]() |> round(_,2)\n",
    "    function node_text(index::Int, min_start_prob=0)\n",
    "        text = @pipe node_labels[index] |> join(_,'/')\n",
    "        start_prob = @pipe hmm[:startprob_][index] |> round(_,2)\n",
    "        text*= start_prob>min_start_prob ?  \"\\nStart Prob: $start_prob\":\"\"\n",
    "        text\n",
    "    end\n",
    "\n",
    "    graph_text_buff = IOBuffer()\n",
    "    println(graph_text_buff,\"digraph graphname {\")\n",
    "\n",
    "    n_nodes = size(prob_from_to,1)\n",
    "    for node_index in 1:n_nodes\n",
    "        lbl = node_text(node_index, min_start_prob)\n",
    "        println(graph_text_buff,\"n$node_index [label= \\\"$lbl\\\"];\")\n",
    "    end\n",
    "\n",
    "    for from_node in 1:n_nodes\n",
    "        for to_node in 1:n_nodes\n",
    "            trans_prob = prob_from_to[from_node,to_node]\n",
    "            if trans_prob>min_trans_prob\n",
    "                print(graph_text_buff,\"n$from_node->n$to_node [\")\n",
    "                print(graph_text_buff,\"label= \\\"$trans_prob\\\", \")\n",
    "                print(graph_text_buff,\"penwidth = \\\"$(10*trans_prob)\\\", \")\n",
    "                #print(graph_text_buff,\"weight = \\\"$(int(100*trans_prob))\\\", \")\n",
    "                print(graph_text_buff, \"color = \\\"$(rand(1)[1]),1.0,0.5\\\"\")\n",
    "                println(graph_text_buff,\"];\")\n",
    "            end\n",
    "        end\n",
    "    end\n",
    "    println(graph_text_buff,\"}\")\n",
    "    graph_text_buff |> takebuf_string \n",
    "end\n",
    "get_dotfile(hmm,we) |> print"
   ]
  },
  {
   "cell_type": "code",
   "execution_count": 65,
   "metadata": {
    "collapsed": false
   },
   "outputs": [
    {
     "data": {
      "text/plain": [
       "\". one still this put this where in it call of writing\""
      ]
     },
     "execution_count": 65,
     "metadata": {},
     "output_type": "execute_result"
    }
   ],
   "source": [
    "wes, states = hmm[:sample](12)\n",
    "bests = show_bests(we, wes',1);\n",
    "@pipe bests[1,1:2:end][:] |> join(_, ' ')"
   ]
  },
  {
   "cell_type": "code",
   "execution_count": null,
   "metadata": {
    "collapsed": true
   },
   "outputs": [],
   "source": []
  }
 ],
 "metadata": {
  "kernelspec": {
   "display_name": "Julia 0.3.9-pre",
   "language": "julia",
   "name": "julia-0.3"
  },
  "language_info": {
   "name": "julia",
   "version": "0.3.9"
  }
 },
 "nbformat": 4,
 "nbformat_minor": 0
}
