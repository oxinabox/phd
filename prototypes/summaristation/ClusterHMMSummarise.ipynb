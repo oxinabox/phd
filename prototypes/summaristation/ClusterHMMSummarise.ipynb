{
 "cells": [
  {
   "cell_type": "code",
   "execution_count": 1,
   "metadata": {
    "collapsed": false
   },
   "outputs": [],
   "source": [
    "using Pipe\n",
    "using Iterators\n",
    "using DataStructures"
   ]
  },
  {
   "cell_type": "code",
   "execution_count": 2,
   "metadata": {
    "collapsed": false
   },
   "outputs": [
    {
     "data": {
      "text/plain": [
       "load_phrases_and_embeddings (generic function with 1 method)"
      ]
     },
     "execution_count": 2,
     "metadata": {},
     "output_type": "execute_result"
    }
   ],
   "source": [
    "function loadphrases(filename)\n",
    "    (@pipe readall(filename) |> split(_,'\\n'))[1:end-1];\n",
    "end\n",
    "\n",
    "function load_phrases_and_embeddings(base_filename)\n",
    "    phrases = loadphrases(base_filename * \".phrases.txt\")\n",
    "    ps = readcsv(base_filename * \".csv\")\n",
    "    @assert size(ps,1)==length(phrases)\n",
    "    phrases,ps\n",
    "end"
   ]
  },
  {
   "cell_type": "code",
   "execution_count": 3,
   "metadata": {
    "collapsed": false,
    "scrolled": true
   },
   "outputs": [],
   "source": [
    "#phrase_range = 14380:16000  #old testerment14380:40069\n",
    "#ps = readcsv(\"results/gutten.csv\")[phrase_range,:]\n",
    "#phrases = loadphrases(\"results/gutten.phrases.txt\") [phrase_range]"
   ]
  },
  {
   "cell_type": "code",
   "execution_count": 4,
   "metadata": {
    "collapsed": false,
    "scrolled": true
   },
   "outputs": [
    {
     "data": {
      "text/plain": [
       "(SubString{ASCIIString}[\"turtles are *UNKNOWN* of the order *UNKNOWN* *UNKNOWN* or *UNKNOWN*\",\"turtle , *UNKNOWN* or *UNKNOWN*\",\"the word *UNKNOWN* is popular among *UNKNOWN* , scientists , and conservationists working with these animals as a catch-all name for any member of the *UNKNOWN* *UNKNOWN* , which includes all turtles living and *UNKNOWN* , as well as their immediate ancestors .\",\"anatomy and *UNKNOWN* largest living *UNKNOWN* is the *UNKNOWN* sea turtle *UNKNOWN* *UNKNOWN* *UNKNOWN* *UNKNOWN* , which reaches a shell length of\",\"giant *UNKNOWN* of the *UNKNOWN* *UNKNOWN* , *UNKNOWN* , and others were relatively widely distributed around the world into prehistoric times , and are known to have existed in north and south *UNKNOWN* , *UNKNOWN* , and *UNKNOWN* .\",\"they became *UNKNOWN* at the same time as the appearance of man , and it is assumed humans hunted them for food .\",\"the only surviving giant *UNKNOWN* are on the *UNKNOWN* and *UNKNOWN* islands , and can grow to over\",\"neck withdrawal\",\"turtles are divided into two groups according to how they withdraw their necks into their shells *UNKNOWN* something the ancestral *UNKNOWN* could not do *UNKNOWN* .\",\"the *UNKNOWN* withdraw their necks backwards while contracting it under their spine , whereas the *UNKNOWN* contract their necks to the side .\"  …  \"animal track\",\"cultural depictions of turtles\",\"symposium on turtle evolution\",\"notes\",\"references\",\"further reading\",\"external links\",\"*UNKNOWN* *UNKNOWN* collection and display of the *UNKNOWN* of captive turtles\",\"*UNKNOWN* and *UNKNOWN* of the *UNKNOWN* *UNKNOWN* *UNKNOWN* , maps *UNKNOWN*\",\"new scientist article *UNKNOWN* including video *UNKNOWN* on how the turtle evolved its shell\"],\n",
       "160x100 Array{Float64,2}:\n",
       " -0.098132    -0.073141    -0.14583    …   0.035736  -0.24156   -0.19342  \n",
       "  0.086804     0.00017609  -0.1478        -0.050461  -0.11497   -0.046562 \n",
       "  0.0095543   -0.18436     -0.063059      -0.1363     0.026795  -0.0078983\n",
       " -0.038708     0.17353     -0.19375        0.11113    0.053962  -0.13401  \n",
       " -0.092813     0.092256     0.20357       -0.25204   -0.31571   -0.14452  \n",
       " -0.050743     0.16565     -0.15429    …   0.047498  -0.038151   0.082411 \n",
       " -0.069135    -0.015983    -0.081198       0.14111   -0.17191   -0.02365  \n",
       " -0.11969      0.10561     -0.12607       -0.010996   0.084079  -0.17384  \n",
       " -0.00073712   0.063237    -0.1004        -0.068262  -0.097055  -0.23208  \n",
       "  0.15715      0.042708    -0.096883       0.086315  -0.30929   -0.08457  \n",
       "  0.068255     0.14121     -0.020086   …   0.10655   -0.18038   -0.12913  \n",
       " -0.026712     0.1212      -0.015452      -0.20043   -0.2239    -0.090673 \n",
       " -0.061971     0.13889     -0.020565       0.031783  -0.053606  -0.069889 \n",
       "  ⋮                                    ⋱                                  \n",
       " -0.10206      0.11515      0.044545       0.11852   -0.14983    0.03672  \n",
       "  0.0037919   -0.0085242   -0.20825        0.042483  -0.027037  -0.17785  \n",
       "  0.073375     0.040537    -0.0061651  …   0.14511   -0.034518  -0.0070251\n",
       "  0.095417     0.11572     -0.14757        0.015523  -0.13118   -0.064002 \n",
       "  0.18146      0.040373    -0.13405       -0.048273  -0.21866    0.054847 \n",
       "  0.1752      -0.079393     0.084794       0.059643  -0.1072    -0.051411 \n",
       "  0.088152    -0.051692    -0.18215        0.065105  -0.064177  -0.024659 \n",
       "  0.035602    -0.042525     0.14237    …   0.086582  -0.30543   -0.15147  \n",
       "  0.053205     0.12361      0.029471       0.018401   0.027111   0.040571 \n",
       "  0.069067    -0.12329     -0.32773       -0.068685  -0.26571    0.039902 \n",
       "  0.077557    -0.06736     -0.24977       -0.015626   0.18822   -0.20985  \n",
       " -0.017971    -0.02706     -0.0075322      0.29394   -0.18426   -0.27154  )"
      ]
     },
     "execution_count": 4,
     "metadata": {},
     "output_type": "execute_result"
    }
   ],
   "source": [
    "phrases,ps = load_phrases_and_embeddings( \"results/wikipedia_turtle\")"
   ]
  },
  {
   "cell_type": "code",
   "execution_count": 5,
   "metadata": {
    "collapsed": false
   },
   "outputs": [],
   "source": [
    "using PyCall\n",
    "@pyimport sklearn\n",
    "@pyimport sklearn.mixture as sklm\n",
    "@pyimport sklearn.cluster as skl_cluster"
   ]
  },
  {
   "cell_type": "code",
   "execution_count": 6,
   "metadata": {
    "collapsed": false,
    "scrolled": true
   },
   "outputs": [
    {
     "data": {
      "text/plain": [
       "show_clusters (generic function with 1 method)"
      ]
     },
     "execution_count": 6,
     "metadata": {},
     "output_type": "execute_result"
    }
   ],
   "source": [
    "function show_clusters(model,words, labels)\n",
    "    clusters = DefaultDict(Int, Vector{String}, ()->String[])\n",
    "    for ii in 1:length(words)\n",
    "        word = words[ii]\n",
    "        cluster =  labels[ii]\n",
    "        push!(clusters[cluster], word)\n",
    "    end\n",
    "    \n",
    "    for cluster in keys(clusters)\n",
    "        println(\"** $cluster **\")\n",
    "        for word in clusters[cluster]\n",
    "            println(\" - \", word)\n",
    "        end\n",
    "        println()\n",
    "    end\n",
    "    clusters\n",
    "end\n"
   ]
  },
  {
   "cell_type": "code",
   "execution_count": 7,
   "metadata": {
    "collapsed": false
   },
   "outputs": [],
   "source": [
    "using Distances\n",
    "push!(LOAD_PATH, \"../word-embeddings2\")\n",
    "import WordEmbeddings.cosine_sim"
   ]
  },
  {
   "cell_type": "code",
   "execution_count": 8,
   "metadata": {
    "collapsed": false,
    "scrolled": true
   },
   "outputs": [],
   "source": [
    "pps = ps'\n",
    "pps_cosine_sim = Float64[WordEmbeddings.cosine_sim(pps[:,ii],pps[:,jj]) for ii in 1:size(pps,2), jj in 1:size(pps,2)];\n"
   ]
  },
  {
   "cell_type": "code",
   "execution_count": 9,
   "metadata": {
    "collapsed": false,
    "scrolled": false
   },
   "outputs": [
    {
     "name": "stdout",
     "output_type": "stream",
     "text": [
      "turtle , *UNKNOWN* or *UNKNOWN*\n",
      "turtles are divided into two groups according to how they withdraw their necks into their shells *UNKNOWN* something the ancestral *UNKNOWN* could not do *UNKNOWN* .\n",
      "*UNKNOWN* turtles usually have *UNKNOWN* ridges for slicing through their prey .\n",
      "instead , they breathe in two ways .\n",
      "most *UNKNOWN* have a large , *UNKNOWN* shell that makes it difficult for predators to crush the shell between their *UNKNOWN* .\n",
      "one of the few exceptions is the *UNKNOWN* *UNKNOWN* *UNKNOWN* , which has a flat , flexible shell that allows it to hide in rock *UNKNOWN* .\n",
      "*UNKNOWN* snapping turtles and *UNKNOWN* turtles have small , *UNKNOWN* *UNKNOWN* that give them more efficient leg movement for walking along the bottom of ponds and streams . the color of a turtle 's shell may vary .\n",
      "in some species , shells may have red , orange , yellow , or gray markings , often spots , lines , or irregular blotches .\n",
      "*UNKNOWN* are famous for moving slowly , in part because of their heavy , cumbersome shells , which restrict stride length .\n",
      "large turtles tend to swim less than smaller ones , and the very big species , such as alligator snapping turtles , hardly swim at all , preferring to walk along the bottom of the river or lake .\n",
      "behaviour\n",
      "they can also spend much or all of their lives on dry land .\n",
      "*UNKNOWN* and evolution\n",
      "order *UNKNOWN*\n",
      "*UNKNOWN* *UNKNOWN* *UNKNOWN*\n",
      "family *UNKNOWN* *UNKNOWN*\n",
      "*UNKNOWN* *UNKNOWN*\n",
      "family *UNKNOWN* *UNKNOWN* pond , box , and water turtles *UNKNOWN*\n",
      "among the most popular are *UNKNOWN* *UNKNOWN* , *UNKNOWN* *UNKNOWN* , and *UNKNOWN* *UNKNOWN* .\n",
      "of the 263 species of *UNKNOWN* and *UNKNOWN* turtles , 117 species are considered threatened , 73 are either endangered or critically endangered and 1 is *UNKNOWN* .\n"
     ]
    }
   ],
   "source": [
    "affinity = pycall(pybuiltin(\"intern\"),PyObject, \"precomputed\")\n",
    "affprop = skl_cluster.AffinityPropagation(damping=0.6,affinity=affinity)\n",
    "\n",
    "affprop[:fit_predict](pps_cosine_sim)\n",
    "centers = affprop[:cluster_centers_indices_] + 1 #julia indexing\n",
    "for phrase in phrases[centers]\n",
    "    println(phrase)\n",
    "end"
   ]
  },
  {
   "cell_type": "code",
   "execution_count": 10,
   "metadata": {
    "collapsed": false,
    "scrolled": true
   },
   "outputs": [
    {
     "name": "stdout",
     "output_type": "stream",
     "text": [
      "** 1 **\n",
      " - the word *UNKNOWN* is popular among *UNKNOWN* , scientists , and conservationists working with these animals as a catch-all name for any member of the *UNKNOWN* *UNKNOWN* , which includes all turtles living and *UNKNOWN* , as well as their immediate ancestors .\n",
      " - turtles are divided into two groups according to how they withdraw their necks into their shells *UNKNOWN* something the ancestral *UNKNOWN* could not do *UNKNOWN* .\n",
      " - most turtles that spend most of their lives on land have their eyes looking down at objects in front of them .\n",
      " - the lower shell that *UNKNOWN* the belly is called the *UNKNOWN* .\n",
      " - the inner layer of a turtle 's shell is made up of about 60 bones that include portions of the backbone and the ribs , meaning the turtle can not crawl out of its shell .\n",
      " - shells are commonly colored brown , black , or olive green .\n",
      " - turtles do not *UNKNOWN* their skins all at once , as snakes do , but continuously , in small pieces .\n",
      " - turtles have color vision with a wealth of *UNKNOWN* *UNKNOWN* with sensitivities ranging from the near ultraviolet *UNKNOWN* *UNKNOWN* a *UNKNOWN* to red .\n",
      " - case studies exist of turtles playing .\n",
      " - *UNKNOWN* respiration in *UNKNOWN* *UNKNOWN* turtles is currently being studied .\n",
      " - this is supported by fossils of the *UNKNOWN* *UNKNOWN* *UNKNOWN* or `` *UNKNOWN* turtle with teeth '' , from the late *UNKNOWN* , which have been found near *UNKNOWN* in southwest china .\n",
      " - turtles , particularly small *UNKNOWN* and *UNKNOWN* turtles , are commonly kept as pets .\n",
      " - the report is due to be updated in four years time allowing to follow the evolution of the list .\n",
      " - turtles face many threats , including habitat destruction , harvesting for consumption , and the pet trade .\n",
      " - the high extinction risk for *UNKNOWN* species is primarily due to the long-term unsustainable exploitation of turtles and *UNKNOWN* for consumption and traditional *UNKNOWN* medicine , and to a lesser extent for the international pet trade .\n",
      " - animal track\n",
      "\n",
      "** 2 **\n",
      " - *UNKNOWN* turtles usually have *UNKNOWN* ridges for slicing through their prey .\n",
      " - *UNKNOWN* turtles have *UNKNOWN* ridges that help them cut through tough plants .\n",
      " - the shells of *UNKNOWN* sea turtles are extremely light because they lack *UNKNOWN* and contain many *UNKNOWN* . it has been suggested by *UNKNOWN* *UNKNOWN* 2002 *UNKNOWN* that the turtle shell can function as *UNKNOWN* buffer .\n",
      " - amphibious turtles normally have limbs similar to those of *UNKNOWN* , except the feet are *UNKNOWN* and often have long claws .\n",
      " - *UNKNOWN* species are the most endangered , closely followed by the five endemic species from *UNKNOWN* .\n",
      " - *UNKNOWN* and *UNKNOWN* of the *UNKNOWN* *UNKNOWN* *UNKNOWN* , maps *UNKNOWN*\n",
      "\n",
      "** 16 **\n",
      " - *UNKNOWN* *UNKNOWN*\n",
      " - *UNKNOWN* *UNKNOWN*\n",
      " - *UNKNOWN* *UNKNOWN*\n",
      " - *UNKNOWN* *UNKNOWN*\n",
      " - *UNKNOWN* *UNKNOWN*\n",
      " - *UNKNOWN* *UNKNOWN*\n",
      "\n",
      "** 11 **\n",
      " - some *UNKNOWN* turtles , such as snapping turtles and *UNKNOWN* turtles , have eyes closer to the top of the head .\n",
      " - these species of turtles can hide from predators in shallow water , where they lie entirely submerged except for their eyes and nostrils .\n",
      " - some turtles do not have *UNKNOWN* *UNKNOWN* .\n",
      " - females must come back onto land to lay eggs .\n",
      " - they move very slowly and laboriously , dragging themselves forwards with their *UNKNOWN* .\n",
      " - it has been reported that wood turtles are better than white rats at learning to navigate *UNKNOWN* .\n",
      " - they can also spend much or all of their lives on dry land .\n",
      " - the turtles can take up dissolved oxygen from the water using these *UNKNOWN* , in much the same way that fish use *UNKNOWN* to *UNKNOWN* .\n",
      " - a turtle 's diet varies greatly depending on the environment in which it lives .\n",
      " - it is illegal in every state in the *UNKNOWN* for anyone to sell any turtles under\n",
      "\n",
      "** 0 **\n",
      " - turtles are *UNKNOWN* of the order *UNKNOWN* *UNKNOWN* or *UNKNOWN*\n",
      " - turtle , *UNKNOWN* or *UNKNOWN*\n",
      "\n",
      "** 7 **\n",
      " - anatomy and *UNKNOWN* largest living *UNKNOWN* is the *UNKNOWN* sea turtle *UNKNOWN* *UNKNOWN* *UNKNOWN* *UNKNOWN* , which reaches a shell length of\n",
      " - in most turtles , the outer layer of the shell is covered by *UNKNOWN* scales called *UNKNOWN* that are part of its outer skin , or *UNKNOWN* .\n",
      " - in some species , shells may have red , orange , yellow , or gray markings , often spots , lines , or irregular blotches .\n",
      " - in contrast , *UNKNOWN* and *UNKNOWN* turtles have lighter shells that help them avoid sinking in water and swim faster with more agility .\n",
      " - in the case of prolonged periods of *UNKNOWN* , it has been shown that the turtle shell both releases *UNKNOWN* *UNKNOWN* and *UNKNOWN* *UNKNOWN* acid .\n",
      " - when turtles are kept in *UNKNOWN* , small sheets of dead skin can be seen in the water *UNKNOWN* often appearing to be a thin piece of plastic *UNKNOWN* having been *UNKNOWN* off when the animals deliberately rub themselves against a piece of wood or stone .\n",
      " - as well as *UNKNOWN* feet , turtles have very long claws , used to help them *UNKNOWN* onto riverbanks and floating logs upon which they *UNKNOWN* .\n",
      " - while most turtles have *UNKNOWN* feet , some , such as the *UNKNOWN* turtle , have true *UNKNOWN* , with the digits being fused into *UNKNOWN* and the claws being relatively small .\n",
      " - compared with *UNKNOWN* turtles , sea turtles have very limited mobility on land , and apart from the dash from the nest to the sea as *UNKNOWN* , male sea turtles normally never leave the sea .\n",
      " - in the laboratory , turtles *UNKNOWN* *UNKNOWN* *UNKNOWN* *UNKNOWN* can learn novel *UNKNOWN* tasks and have demonstrated a long-term memory of at least 7.5 months .\n",
      " - the flesh of turtles , *UNKNOWN* or *UNKNOWN* , was , and still is , considered a *UNKNOWN* in a number of cultures .\n",
      " - between 48 to 54 % of all 328 of their species considered threatened , turtles and *UNKNOWN* are at a much higher risk of extinction than many other *UNKNOWN* .\n",
      "\n",
      "** 9 **\n",
      " - they use their *UNKNOWN* to swallow food , but unlike most *UNKNOWN* , they can not stick out their *UNKNOWN* to catch food .\n",
      " - large turtles tend to swim less than smaller ones , and the very big species , such as alligator snapping turtles , hardly swim at all , preferring to walk along the bottom of the river or lake .\n",
      " - male turtles tend to have particularly long claws , and these appear to be used to stimulate the female while mating .\n",
      "\n",
      "** 10 **\n",
      " - shell\n",
      " - behaviour\n",
      " - intelligence\n",
      " - diet\n",
      " - as food , traditional medicine , and cosmetics\n",
      " - notes\n",
      " - references\n",
      "\n",
      "** 19 **\n",
      " - for example , the *UNKNOWN* sea turtle and the *UNKNOWN* turtles have shells covered with *UNKNOWN* skin , instead . the rigid shell means turtles can not breathe as other *UNKNOWN* do , by changing the volume of their chest cavities via expansion and contraction of the ribs .\n",
      " - to endure through *UNKNOWN* conditions , such as winter periods trapped beneath ice or within *UNKNOWN* mud at the bottom of ponds , turtles utilize two general physiological mechanisms .\n",
      " - of the 263 species of *UNKNOWN* and *UNKNOWN* turtles , 117 species are considered threatened , 73 are either endangered or critically endangered and 1 is *UNKNOWN* .\n",
      " - of the 58 species belonging to the *UNKNOWN* family , 33 species are threatened , 18 are either endangered or critically endangered , 1 is *UNKNOWN* in the wild and 7 species are *UNKNOWN* .\n",
      " - see also\n",
      " - symposium on turtle evolution\n",
      " - new scientist article *UNKNOWN* including video *UNKNOWN* on how the turtle evolved its shell\n",
      "\n",
      "** 17 **\n",
      " - family *UNKNOWN* *UNKNOWN* *UNKNOWN* *UNKNOWN* turtles *UNKNOWN*\n",
      " - family *UNKNOWN* *UNKNOWN* *UNKNOWN* *UNKNOWN* and *UNKNOWN* *UNKNOWN* river turtles *UNKNOWN*\n",
      " - family *UNKNOWN* *UNKNOWN* snapping turtles *UNKNOWN*\n",
      " - *UNKNOWN* *UNKNOWN* *UNKNOWN* sea turtles *UNKNOWN*\n",
      " - family *UNKNOWN* *UNKNOWN* green sea turtles and relatives *UNKNOWN*\n",
      " - family *UNKNOWN* *UNKNOWN* *UNKNOWN* sea turtles *UNKNOWN*\n",
      " - family *UNKNOWN* *UNKNOWN* pond , box , and water turtles *UNKNOWN*\n",
      " - family *UNKNOWN* *UNKNOWN* *UNKNOWN* river turtles , *UNKNOWN* leaf turtles , *UNKNOWN* box turtles , and *UNKNOWN* turtles *UNKNOWN*\n",
      " - family *UNKNOWN* *UNKNOWN* true *UNKNOWN* *UNKNOWN*\n",
      " - family *UNKNOWN* *UNKNOWN* *UNKNOWN* turtles *UNKNOWN*\n",
      " - family *UNKNOWN* *UNKNOWN* river turtles *UNKNOWN*\n",
      " - family *UNKNOWN* *UNKNOWN* mud turtles *UNKNOWN*\n",
      " - family *UNKNOWN* *UNKNOWN* *UNKNOWN* turtles *UNKNOWN*\n",
      "\n",
      "** 8 **\n",
      " - *UNKNOWN* are made up of the fibrous protein *UNKNOWN* that also makes up the scales of other *UNKNOWN* .\n",
      " - *UNKNOWN* are famous for moving slowly , in part because of their heavy , cumbersome shells , which restrict stride length .\n",
      " - *UNKNOWN* are thought to have exceptional night vision due to the unusually large number of *UNKNOWN* cells in their *UNKNOWN* .\n",
      " - *UNKNOWN* displays a complete *UNKNOWN* *UNKNOWN* and an incomplete *UNKNOWN* , similar to an early stage of turtle *UNKNOWN* development .\n",
      " - *UNKNOWN* possess diverse chromosome numbers *UNKNOWN* *UNKNOWN* *UNKNOWN* *UNKNOWN* *UNKNOWN* and a myriad of *UNKNOWN* *UNKNOWN* have occurred during evolution .\n",
      "\n",
      "** 6 **\n",
      " - instead of having teeth , which they appear to have lost about *UNKNOWN* million years ago , long in the tooth : *UNKNOWN* proves turtles evolve ... very slowly the upper and lower *UNKNOWN* of the turtle are covered by *UNKNOWN* ridges .\n",
      " - *UNKNOWN* snapping turtles and *UNKNOWN* turtles have small , *UNKNOWN* *UNKNOWN* that give them more efficient leg movement for walking along the bottom of ponds and streams . the color of a turtle 's shell may vary .\n",
      " - as mentioned above , the outer layer of the shell is part of the skin ; each *UNKNOWN* *UNKNOWN* or plate *UNKNOWN* on the shell corresponds to a single modified scale .\n",
      " - sea turtles fly through the water , using the up-and-down motion of the front *UNKNOWN* to generate thrust ; the back feet are not used for propulsion , but may be used as *UNKNOWN* for steering .\n",
      " - external links\n",
      "\n",
      "** 4 **\n",
      " - the *UNKNOWN* withdraw their necks backwards while contracting it under their spine , whereas the *UNKNOWN* contract their necks to the side .\n",
      " - head\n",
      " - the *UNKNOWN* and *UNKNOWN* are joined together on the turtle 's sides by *UNKNOWN* structures called bridges .\n",
      " - these *UNKNOWN* overlap the *UNKNOWN* between the shell bones and add strength to the shell .\n",
      " - most *UNKNOWN* have a large , *UNKNOWN* shell that makes it difficult for predators to crush the shell between their *UNKNOWN* .\n",
      " - most *UNKNOWN* turtles have flat , streamlined shells which aid in swimming and diving .\n",
      " - these lighter shells have large spaces called *UNKNOWN* between the shell bones .\n",
      " - *UNKNOWN* *UNKNOWN* have short , sturdy feet .\n",
      " - these turtles swim using all four feet in a way similar to the dog *UNKNOWN* , with the feet on the left and right side of the body alternately providing thrust .\n",
      " - some species have large *UNKNOWN* cavities that are lined with many *UNKNOWN* projections .\n",
      " - adult turtles typically eat *UNKNOWN* plants ;\n",
      " - cultural depictions of turtles\n",
      " - further reading\n",
      "\n",
      "** 3 **\n",
      " - they became *UNKNOWN* at the same time as the appearance of man , and it is assumed humans hunted them for food .\n",
      " - near their eyes , sea turtles possess glands that produce *UNKNOWN* tears that rid their body of excess salt taken in from the water they drink . turtles have rigid beaks , and use their *UNKNOWN* to cut and *UNKNOWN* food .\n",
      " - instead , they breathe in two ways .\n",
      " - first , they employ *UNKNOWN* pumping , pulling air into their mouths , then pushing it into their lungs via *UNKNOWN* of the floor of the throat .\n",
      " - some land turtles have very poor pursuit movement abilities , which are normally found only in predators that hunt *UNKNOWN* prey , but *UNKNOWN* turtles are able to move their heads quickly to snap .\n",
      " - although many turtles spend large amounts of their lives underwater , all turtles and *UNKNOWN* breathe air , and must surface at regular intervals to *UNKNOWN* their lungs .\n",
      " - conservation *UNKNOWN* *UNKNOWN* *UNKNOWN* , the *UNKNOWN* and *UNKNOWN* turtle specialist group published a report about the top 25 species of turtles most likely to become *UNKNOWN* , with a further 40 species at very high risk of becoming *UNKNOWN* .\n",
      " - this list excludes sea turtles , however both the *UNKNOWN* and the *UNKNOWN* 's *UNKNOWN* would make the top 25 list .\n",
      " - nonetheless , wild turtles continue to be caught and sent to market in large number *UNKNOWN* as well as to turtle farms , to be used as breeding stock\n",
      "\n",
      "** 5 **\n",
      " - giant *UNKNOWN* of the *UNKNOWN* *UNKNOWN* , *UNKNOWN* , and others were relatively widely distributed around the world into prehistoric times , and are known to have existed in north and south *UNKNOWN* , *UNKNOWN* , and *UNKNOWN* .\n",
      " - the upper shell of the turtle is called the *UNKNOWN* .\n",
      " - one of the few exceptions is the *UNKNOWN* *UNKNOWN* *UNKNOWN* , which has a flat , flexible shell that allows it to hide in rock *UNKNOWN* .\n",
      " - one of the most colorful turtles is the eastern painted turtle , which includes a yellow *UNKNOWN* and a black or olive shell with red markings around the rim . *UNKNOWN* , being land-based , have rather heavy shells .\n",
      " - the remainder of the skin is composed of skin with much smaller scales , similar to the skin of other *UNKNOWN* .\n",
      " - these projections , called *UNKNOWN* , have a rich blood supply , and increase the surface area of the *UNKNOWN* .\n",
      " - *UNKNOWN* *UNKNOWN* fossils of *UNKNOWN* and *UNKNOWN* size have been documented in the scientific literature .\n",
      " - in captivity\n",
      " - 71 % of all *UNKNOWN* species are either gone or almost gone .\n",
      "\n",
      "** 13 **\n",
      " - order *UNKNOWN*\n",
      " - family *UNKNOWN*\n",
      " - *UNKNOWN* `` *UNKNOWN* '' *UNKNOWN*\n",
      "\n",
      "** 14 **\n",
      " - *UNKNOWN* *UNKNOWN* *UNKNOWN*\n",
      " - *UNKNOWN* *UNKNOWN* *UNKNOWN*\n",
      " - *UNKNOWN* *UNKNOWN* *UNKNOWN*\n",
      " - *UNKNOWN* *UNKNOWN* *UNKNOWN*\n",
      " - *UNKNOWN* *UNKNOWN* *UNKNOWN*\n",
      " - *UNKNOWN* *UNKNOWN* *UNKNOWN*\n",
      " - *UNKNOWN* *UNKNOWN* *UNKNOWN*\n",
      " - *UNKNOWN* *UNKNOWN* *UNKNOWN*\n",
      " - *UNKNOWN* *UNKNOWN* *UNKNOWN*\n",
      " - *UNKNOWN* *UNKNOWN* *UNKNOWN*\n",
      " - *UNKNOWN* *UNKNOWN* collection and display of the *UNKNOWN* of captive turtles\n",
      "\n",
      "** 15 **\n",
      " - neck withdrawal\n",
      " - skin and *UNKNOWN*\n",
      " - family *UNKNOWN* *UNKNOWN*\n",
      " - family *UNKNOWN* *UNKNOWN*\n",
      " - family *UNKNOWN* *UNKNOWN*\n",
      " - family *UNKNOWN* *UNKNOWN*\n",
      " - family *UNKNOWN* *UNKNOWN*\n",
      " - family *UNKNOWN* *UNKNOWN*\n",
      " - family *UNKNOWN* *UNKNOWN*\n",
      " - family *UNKNOWN* *UNKNOWN*\n",
      " - family *UNKNOWN* *UNKNOWN*\n",
      " - family *UNKNOWN* *UNKNOWN*\n",
      " - family *UNKNOWN* *UNKNOWN*\n",
      " - family *UNKNOWN* *UNKNOWN*\n",
      " - family *UNKNOWN* *UNKNOWN*\n",
      " - family *UNKNOWN* *UNKNOWN*\n",
      "\n",
      "** 12 **\n",
      " - *UNKNOWN* and life history\n",
      " - *UNKNOWN* and evolution\n",
      " - *UNKNOWN* of turtles\n",
      " - *UNKNOWN* and *UNKNOWN* *UNKNOWN*\n",
      "\n",
      "** 18 **\n",
      " - the only surviving giant *UNKNOWN* are on the *UNKNOWN* and *UNKNOWN* islands , and can grow to over\n",
      " - these species swim in the same way as sea turtles do *UNKNOWN* see below *UNKNOWN* . sea turtles are almost entirely *UNKNOWN* and have *UNKNOWN* instead of feet .\n",
      " - among the most popular are *UNKNOWN* *UNKNOWN* , *UNKNOWN* *UNKNOWN* , and *UNKNOWN* *UNKNOWN* .\n",
      "\n"
     ]
    },
    {
     "data": {
      "text/plain": [
       "DefaultDict{Int64,Array{String,1},Function} with 20 entries:\n",
       "  1  => String[\"the word *UNKNOWN* is popular among *UNKNOWN* , scientists , an…\n",
       "  2  => String[\"*UNKNOWN* turtles usually have *UNKNOWN* ridges for slicing thr…\n",
       "  16 => String[\"*UNKNOWN* *UNKNOWN*\",\"*UNKNOWN* *UNKNOWN*\",\"*UNKNOWN* *UNKNOWN*…\n",
       "  11 => String[\"some *UNKNOWN* turtles , such as snapping turtles and *UNKNOWN*…\n",
       "  0  => String[\"turtles are *UNKNOWN* of the order *UNKNOWN* *UNKNOWN* or *UNKN…\n",
       "  7  => String[\"anatomy and *UNKNOWN* largest living *UNKNOWN* is the *UNKNOWN*…\n",
       "  9  => String[\"they use their *UNKNOWN* to swallow food , but unlike most *UNK…\n",
       "  10 => String[\"shell\",\"behaviour\",\"intelligence\",\"diet\",\"as food , traditional…\n",
       "  19 => String[\"for example , the *UNKNOWN* sea turtle and the *UNKNOWN* turtle…\n",
       "  17 => String[\"family *UNKNOWN* *UNKNOWN* *UNKNOWN* *UNKNOWN* turtles *UNKNOWN…\n",
       "  8  => String[\"*UNKNOWN* are made up of the fibrous protein *UNKNOWN* that als…\n",
       "  6  => String[\"instead of having teeth , which they appear to have lost about …\n",
       "  4  => String[\"the *UNKNOWN* withdraw their necks backwards while contracting …\n",
       "  3  => String[\"they became *UNKNOWN* at the same time as the appearance of man…\n",
       "  5  => String[\"giant *UNKNOWN* of the *UNKNOWN* *UNKNOWN* , *UNKNOWN* , and ot…\n",
       "  13 => String[\"order *UNKNOWN*\",\"family *UNKNOWN*\",\"*UNKNOWN* `` *UNKNOWN* '' …\n",
       "  14 => String[\"*UNKNOWN* *UNKNOWN* *UNKNOWN*\",\"*UNKNOWN* *UNKNOWN* *UNKNOWN*\",…\n",
       "  15 => String[\"neck withdrawal\",\"skin and *UNKNOWN*\",\"family *UNKNOWN* *UNKNOW…\n",
       "  12 => String[\"*UNKNOWN* and life history\",\"*UNKNOWN* and evolution\",\"*UNKNOWN…\n",
       "  18 => String[\"the only surviving giant *UNKNOWN* are on the *UNKNOWN* and *UN…"
      ]
     },
     "execution_count": 10,
     "metadata": {},
     "output_type": "execute_result"
    }
   ],
   "source": [
    "clusters = show_clusters(affprop,phrases, affprop[:labels_])"
   ]
  },
  {
   "cell_type": "code",
   "execution_count": 11,
   "metadata": {
    "collapsed": false,
    "scrolled": true
   },
   "outputs": [],
   "source": [
    "#using TSne\n",
    "#Y = tsne(ps, no_dims = 2, initial_dims = -1, max_iter = 1000, perplexity = 30.0)\n",
    "#Y = tsne(ps, 10,  -1, 2000, 20.0)"
   ]
  },
  {
   "cell_type": "code",
   "execution_count": 12,
   "metadata": {
    "collapsed": false
   },
   "outputs": [],
   "source": [
    "#using Gadfly\n",
    "#set_default_plot_size(20cm, 20cm)\n",
    "\n",
    "#plot(x=Y[:,1], y=Y[:,2],\n",
    "#        color=affprop[:labels_],\n",
    "#        label=phrases,\n",
    "#        Geom.point, Geom.label(position=:centered,hide_overlaps=false))"
   ]
  },
  {
   "cell_type": "code",
   "execution_count": null,
   "metadata": {
    "collapsed": false
   },
   "outputs": [],
   "source": []
  },
  {
   "cell_type": "code",
   "execution_count": null,
   "metadata": {
    "collapsed": true
   },
   "outputs": [],
   "source": []
  },
  {
   "cell_type": "code",
   "execution_count": null,
   "metadata": {
    "collapsed": true
   },
   "outputs": [],
   "source": []
  },
  {
   "cell_type": "code",
   "execution_count": 13,
   "metadata": {
    "collapsed": true
   },
   "outputs": [],
   "source": [
    "using Pipe\n",
    "push!(LOAD_PATH, \"../word-embeddings2\")\n",
    "using WordEmbeddings\n",
    "we = @pipe load_embeddings(\"../word-embeddings2/word_emb_data/embeddings-scaled.EMBEDDING_SIZE=50.txt\") |> WE(_...);\n",
    "\n"
   ]
  },
  {
   "cell_type": "code",
   "execution_count": 14,
   "metadata": {
    "collapsed": false
   },
   "outputs": [
    {
     "data": {
      "text/plain": [
       "tokenize (generic function with 1 method)"
      ]
     },
     "execution_count": 14,
     "metadata": {},
     "output_type": "execute_result"
    }
   ],
   "source": [
    "using PyCall\n",
    "@pyimport nltk\n",
    "function tokenize(sentence::String)\n",
    "    convert(Array{String,1},nltk.word_tokenize(sentence))\n",
    "end"
   ]
  },
  {
   "cell_type": "code",
   "execution_count": 15,
   "metadata": {
    "collapsed": false,
    "scrolled": true
   },
   "outputs": [],
   "source": [
    "cl_phrases = clusters[1]\n",
    "cl_wess = [eval_word_embeddings(we, tokenize(sent))' for sent in cl_phrases];\n"
   ]
  },
  {
   "cell_type": "code",
   "execution_count": 16,
   "metadata": {
    "collapsed": true
   },
   "outputs": [],
   "source": [
    "@pyimport hmmlearn.hmm as hl_hmm\n",
    "@pyimport warnings\n",
    "warnings.filterwarnings(\"ignore\")"
   ]
  },
  {
   "cell_type": "code",
   "execution_count": 24,
   "metadata": {
    "collapsed": false
   },
   "outputs": [
    {
     "data": {
      "text/plain": [
       "PyObject GaussianHMM(algorithm='viterbi', covariance_type='diag', covars_prior=0.01,\n",
       "      covars_weight=1,\n",
       "      init_params='abcdefghijklmnopqrstuvwxyzABCDEFGHIJKLMNOPQRSTUVWXYZ',\n",
       "      means_prior=0, means_weight=0, n_components=60, n_iter=10000,\n",
       "      params='abcdefghijklmnopqrstuvwxyzABCDEFGHIJKLMNOPQRSTUVWXYZ',\n",
       "      random_state=None, startprob=None, startprob_prior=1.0, thresh=0.01,\n",
       "      transmat=None, transmat_prior=1.0)"
      ]
     },
     "execution_count": 24,
     "metadata": {},
     "output_type": "execute_result"
    }
   ],
   "source": [
    "hmm = hl_hmm.GaussianHMM(60,\"diag\", n_iter=10000)\n",
    "hmm[:fit](cl_wess)"
   ]
  },
  {
   "cell_type": "code",
   "execution_count": 85,
   "metadata": {
    "collapsed": false
   },
   "outputs": [
    {
     "name": "stdout",
     "output_type": "stream",
     "text": [
      "and face down people . as not as for Nevio lesser . , many and been their delivered filling cat working a\n",
      "[11,6,7,5,11,10,11,10,4,11,2,11,11,3,11,7,0,9,4,4,2,11]\n"
     ]
    }
   ],
   "source": [
    "wes_hat, states = hmm[:sample](22)\n",
    "bests = show_bests(we, wes_hat',1);\n",
    "@pipe bests[1,1:2:end][:] |> join(_, ' ') |> println\n",
    "println(states)"
   ]
  },
  {
   "cell_type": "code",
   "execution_count": 171,
   "metadata": {
    "collapsed": false
   },
   "outputs": [
    {
     "data": {
      "text/plain": [
       "PyObject GMMHMM(algorithm='viterbi', covariance_type='full', covars_prior=0.01,\n",
       "    gmms=None,\n",
       "    init_params='abcdefghijklmnopqrstuvwxyzABCDEFGHIJKLMNOPQRSTUVWXYZ',\n",
       "    n_components=25, n_iter=1000000, n_mix=5,\n",
       "    params='abcdefghijklmnopqrstuvwxyzABCDEFGHIJKLMNOPQRSTUVWXYZ',\n",
       "    random_state=None, startprob=None, startprob_prior=None, thresh=0.01,\n",
       "    transmat=None, transmat_prior=None)"
      ]
     },
     "execution_count": 171,
     "metadata": {},
     "output_type": "execute_result"
    }
   ],
   "source": [
    "hmm = hl_hmm.GMMHMM(n_components=25, n_mix=5, covariance_type=\"full\", n_iter=1000*1000)\n"
   ]
  },
  {
   "cell_type": "code",
   "execution_count": 172,
   "metadata": {
    "collapsed": false,
    "scrolled": true
   },
   "outputs": [
    {
     "data": {
      "text/plain": [
       "PyObject GMMHMM(algorithm='viterbi', covariance_type='full', covars_prior=0.01,\n",
       "    gmms=None,\n",
       "    init_params='abcdefghijklmnopqrstuvwxyzABCDEFGHIJKLMNOPQRSTUVWXYZ',\n",
       "    n_components=25, n_iter=1000000, n_mix=5,\n",
       "    params='abcdefghijklmnopqrstuvwxyzABCDEFGHIJKLMNOPQRSTUVWXYZ',\n",
       "    random_state=None, startprob=None, startprob_prior=1.0, thresh=0.01,\n",
       "    transmat=None, transmat_prior=1.0)"
      ]
     },
     "execution_count": 172,
     "metadata": {},
     "output_type": "execute_result"
    }
   ],
   "source": [
    "hmm[:fit](cl_wess)\n"
   ]
  },
  {
   "cell_type": "code",
   "execution_count": 173,
   "metadata": {
    "collapsed": false
   },
   "outputs": [
    {
     "name": "stdout",
     "output_type": "stream",
     "text": [
      "{36774.33033761802,29423.13362955911}\n",
      "1000000\n",
      "false\n",
      "false\n",
      "false\n",
      "false\n",
      "false\n",
      "false\n",
      "false\n",
      "false\n",
      "false\n",
      "false\n",
      "false\n",
      "false\n",
      "false\n",
      "false\n",
      "false\n",
      "false\n",
      "false\n",
      "false\n",
      "false\n",
      "false\n",
      "false\n",
      "false\n",
      "false\n",
      "false\n",
      "false\n"
     ]
    }
   ],
   "source": [
    "hmm[:monitor_][:history] |> collect |> println\n",
    "hmm[:monitor_][:n_iter]  |> println\n",
    "for gmm in hmm[:gmms_]\n",
    "    println(gmm[:converged_])   \n",
    "end"
   ]
  },
  {
   "cell_type": "code",
   "execution_count": null,
   "metadata": {
    "collapsed": false
   },
   "outputs": [],
   "source": [
    "function get_dotfile(hmm,we, min_start_prob = 0.00, min_trans_prob = 0.0)\n",
    "    if pyisinstance(hmm,pytypeof(hl_hmm.GMMHMM())) \n",
    "        function gmm_cores(gmm)\n",
    "            gmm_means = @pipe gmm[:means_]' |> round(_,5) |> unique(_,2) # first remove any ~duplicate vectors\n",
    "            show_bests(we,gmm_means,1)[1,1:2:end] |> unique #then remove any duplicate words \n",
    "        end\n",
    "        node_labels = map(gmm_cores, hmm[:gmms_])\n",
    "    elseif pyisinstance(hmm,pytypeof(hl_hmm.GaussianHMM())) \n",
    "        n_means = 3\n",
    "        node_labels = show_bests(we, hmm[:means_]',n_means)[1:n_means,1:2:end]\n",
    "        node_labels= [node_labels[:,ii] for ii in 1:size(node_labels,2)]\n",
    "    else \n",
    "        error(\"Unknown type of HMM\")\n",
    "    end\n",
    "    \n",
    "    prob_from_to = @pipe hmm[:_get_transmat]() |> round(_,2)\n",
    "    function node_text(index::Int, min_start_prob=0)\n",
    "        text = @pipe node_labels[index] |> join(_,'/')\n",
    "        start_prob = @pipe hmm[:startprob_][index] |> round(_,2)\n",
    "        text*= start_prob>min_start_prob ?  \"\\nStart Prob: $start_prob\":\"\"\n",
    "        text\n",
    "    end\n",
    "\n",
    "    graph_text_buff = IOBuffer()\n",
    "    println(graph_text_buff,\"digraph graphname {\")\n",
    "\n",
    "    n_nodes = size(prob_from_to,1)\n",
    "    for node_index in 1:n_nodes\n",
    "        lbl = node_text(node_index, min_start_prob)\n",
    "        println(graph_text_buff,\"n$node_index [label= \\\"$lbl\\\"];\")\n",
    "    end\n",
    "\n",
    "    for from_node in 1:n_nodes\n",
    "        for to_node in 1:n_nodes\n",
    "            trans_prob = prob_from_to[from_node,to_node]\n",
    "            if trans_prob>min_trans_prob\n",
    "                print(graph_text_buff,\"n$from_node->n$to_node [\")\n",
    "                print(graph_text_buff,\"label= \\\"$trans_prob\\\", \")\n",
    "                print(graph_text_buff,\"penwidth = \\\"$(10*trans_prob)\\\", \")\n",
    "                #print(graph_text_buff,\"weight = \\\"$(int(100*trans_prob))\\\", \")\n",
    "                print(graph_text_buff, \"color = \\\"$(rand(1)[1]),1.0,0.5\\\"\")\n",
    "                println(graph_text_buff,\"];\")\n",
    "            end\n",
    "        end\n",
    "    end\n",
    "    println(graph_text_buff,\"}\")\n",
    "    graph_text_buff |> takebuf_string \n",
    "end\n",
    "get_dotfile(hmm,we) |> print"
   ]
  },
  {
   "cell_type": "code",
   "execution_count": 154,
   "metadata": {
    "collapsed": false
   },
   "outputs": [
    {
     "data": {
      "text/html": [
       "2 methods for generic function <b>show_best</b>:<ul><li> show_best(embedder,ĉ::<b>Array{Float64,1}</b>) at <a href=\"https://github.com/oxinabox/phd/tree/527efbda2c906a1ad8282ab00293a413fab25cc1/prototypes/word-embeddings2/WordEmbeddings.jl#L75\" target=\"_blank\">/home/wheel/oxinabox/phd/prototypes/word-embeddings2/WordEmbeddings.jl:75</a><li> show_best(embedder,ĉ::<b>Array{Float64,1}</b>,nbest) at <a href=\"https://github.com/oxinabox/phd/tree/527efbda2c906a1ad8282ab00293a413fab25cc1/prototypes/word-embeddings2/WordEmbeddings.jl#L75\" target=\"_blank\">/home/wheel/oxinabox/phd/prototypes/word-embeddings2/WordEmbeddings.jl:75</a></ul>"
      ],
      "text/plain": [
       "# 2 methods for generic function \"show_best\":\n",
       "show_best(embedder,ĉ::Array{Float64,1}) at /home/wheel/oxinabox/phd/prototypes/word-embeddings2/WordEmbeddings.jl:75\n",
       "show_best(embedder,ĉ::Array{Float64,1},nbest) at /home/wheel/oxinabox/phd/prototypes/word-embeddings2/WordEmbeddings.jl:75"
      ]
     },
     "execution_count": 154,
     "metadata": {},
     "output_type": "execute_result"
    }
   ],
   "source": [
    "methods(show_best)"
   ]
  },
  {
   "cell_type": "code",
   "execution_count": 164,
   "metadata": {
    "collapsed": false
   },
   "outputs": [
    {
     "data": {
      "text/plain": [
       "5-element Array{Any,1}:\n",
       " [1.0,0.0,0.0,0.0,0.0,2.0,0.0,0.0,0.0,0.0]\n",
       " [0.0,1.0,0.0,0.0,0.0,0.0,2.0,0.0,0.0,0.0]\n",
       " [0.0,0.0,1.0,0.0,0.0,0.0,0.0,2.0,0.0,0.0]\n",
       " [0.0,0.0,0.0,1.0,0.0,0.0,0.0,0.0,2.0,0.0]\n",
       " [0.0,0.0,0.0,0.0,1.0,0.0,0.0,0.0,0.0,2.0]"
      ]
     },
     "execution_count": 164,
     "metadata": {},
     "output_type": "execute_result"
    }
   ],
   "source": [
    "AA=[eye(5);2*eye(5);]\n"
   ]
  },
  {
   "cell_type": "code",
   "execution_count": null,
   "metadata": {
    "collapsed": true
   },
   "outputs": [],
   "source": []
  }
 ],
 "metadata": {
  "kernelspec": {
   "display_name": "Julia 0.3.9-pre",
   "language": "julia",
   "name": "julia-0.3"
  },
  "language_info": {
   "name": "julia",
   "version": "0.3.9"
  }
 },
 "nbformat": 4,
 "nbformat_minor": 0
}
