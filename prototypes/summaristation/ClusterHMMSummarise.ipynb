{
 "cells": [
  {
   "cell_type": "code",
   "execution_count": null,
   "metadata": {
    "collapsed": false
   },
   "outputs": [],
   "source": []
  },
  {
   "cell_type": "code",
   "execution_count": 1,
   "metadata": {
    "collapsed": false
   },
   "outputs": [],
   "source": [
    "using Pipe\n",
    "using Iterators\n",
    "using DataStructures"
   ]
  },
  {
   "cell_type": "code",
   "execution_count": 2,
   "metadata": {
    "collapsed": false
   },
   "outputs": [
    {
     "data": {
      "text/plain": [
       "load_phrases_and_embeddings (generic function with 1 method)"
      ]
     },
     "execution_count": 2,
     "metadata": {},
     "output_type": "execute_result"
    }
   ],
   "source": [
    "function loadphrases(filename)\n",
    "    (@pipe readall(filename) |> split(_,'\\n'))[1:end-1];\n",
    "end\n",
    "\n",
    "function load_phrases_and_embeddings(base_filename)\n",
    "    phrases = loadphrases(base_filename * \".phrases.txt\")\n",
    "    ps = readcsv(base_filename * \".csv\")\n",
    "    @assert size(ps,1)==length(phrases)\n",
    "    phrases,ps\n",
    "end"
   ]
  },
  {
   "cell_type": "code",
   "execution_count": 3,
   "metadata": {
    "collapsed": false,
    "scrolled": true
   },
   "outputs": [],
   "source": [
    "#phrase_range = 14380:16000  #old testerment14380:40069\n",
    "#ps = readcsv(\"results/gutten.csv\")[phrase_range,:]\n",
    "#phrases = loadphrases(\"results/gutten.phrases.txt\") [phrase_range]"
   ]
  },
  {
   "cell_type": "code",
   "execution_count": 59,
   "metadata": {
    "collapsed": false,
    "scrolled": true
   },
   "outputs": [
    {
     "data": {
      "text/plain": [
       "(SubString{ASCIIString}[\"turtles are *UNKNOWN* of the order *UNKNOWN* *UNKNOWN* or *UNKNOWN*\",\"turtle , *UNKNOWN* or *UNKNOWN*\",\"the word *UNKNOWN* is popular among *UNKNOWN* , scientists , and conservationists working with these animals as a catch-all name for any member of the *UNKNOWN* *UNKNOWN* , which includes all turtles living and *UNKNOWN* , as well as their immediate ancestors .\",\"anatomy and *UNKNOWN* largest living *UNKNOWN* is the *UNKNOWN* sea turtle *UNKNOWN* *UNKNOWN* *UNKNOWN* *UNKNOWN* , which reaches a shell length of\",\"giant *UNKNOWN* of the *UNKNOWN* *UNKNOWN* , *UNKNOWN* , and others were relatively widely distributed around the world into prehistoric times , and are known to have existed in north and south *UNKNOWN* , *UNKNOWN* , and *UNKNOWN* .\",\"they became *UNKNOWN* at the same time as the appearance of man , and it is assumed humans hunted them for food .\",\"the only surviving giant *UNKNOWN* are on the *UNKNOWN* and *UNKNOWN* islands , and can grow to over\",\"neck withdrawal\",\"turtles are divided into two groups according to how they withdraw their necks into their shells *UNKNOWN* something the ancestral *UNKNOWN* could not do *UNKNOWN* .\",\"the *UNKNOWN* withdraw their necks backwards while contracting it under their spine , whereas the *UNKNOWN* contract their necks to the side .\"  …  \"animal track\",\"cultural depictions of turtles\",\"symposium on turtle evolution\",\"notes\",\"references\",\"further reading\",\"external links\",\"*UNKNOWN* *UNKNOWN* collection and display of the *UNKNOWN* of captive turtles\",\"*UNKNOWN* and *UNKNOWN* of the *UNKNOWN* *UNKNOWN* *UNKNOWN* , maps *UNKNOWN*\",\"new scientist article *UNKNOWN* including video *UNKNOWN* on how the turtle evolved its shell\"],\n",
       "160x100 Array{Number,2}:\n",
       " -0.098132    -0.073141    -0.14583    …  -0.24156     -0.19342   \n",
       "  0.086804     0.00017609  -0.1478        -0.11497     -0.046562  \n",
       "  0.0095543   -0.18436     -0.063059       0.026795    -0.0078983 \n",
       " -0.038708     0.17353     -0.19375        0.053962    -0.13401   \n",
       " -0.092813     0.092256     0.20357       -0.31571     -0.14452   \n",
       " -0.050743     0.16565     -0.15429    …  -0.038151     0.082411  \n",
       " -0.069135    -0.015983    -0.081198      -0.17191     -0.02365   \n",
       " -0.11969      0.10561     -0.12607        0.084079    -0.17384   \n",
       " -0.00073712   0.063237    -0.1004        -0.097055    -0.23208   \n",
       "  0.15715      0.042708    -0.096883      -0.30929     -0.08457   \n",
       "  0.068255     0.14121     -0.020086   …  -0.18038     -0.12913   \n",
       " -0.026712     0.1212      -0.015452      -0.2239      -0.090673  \n",
       " -0.061971     0.13889     -0.020565      -0.053606    -0.069889  \n",
       " -0.10586      0.010059     0.071685      -0.044405    -0.22905   \n",
       "  0.01372      0.12583     -0.017762      -0.031007     0.13901   \n",
       " -0.066345     0.10174      0.012389   …   0.12512     -0.13424   \n",
       " -0.20539      0.008955    -0.30847        0.17216     -0.065682  \n",
       " -0.2206      -0.026166    -0.25339       -0.17753     -0.030563  \n",
       " -0.053048     0.18752     -0.019951      -0.039974    -0.052908  \n",
       "  0.024676    -0.027502    -0.14252       -0.042581     0.10423   \n",
       " -0.085599     0.009449    -0.0067471  …  -0.00051431  -0.17699   \n",
       "  0.078363     0.063093     0.0086831     -0.13214     -0.10797   \n",
       "  0.11918     -0.084331    -0.044617      -0.17731     -0.22281   \n",
       " -0.0067467    0.096274    -0.14047       -0.061744    -0.074285  \n",
       "  0.037916     0.11022     -0.21234       -0.1105       0.061265  \n",
       " -0.14379      0.03472     -0.20703    …  -0.13976     -0.046917  \n",
       "  0.14727      0.068297    -0.1003        -0.23999     -0.081041  \n",
       "  0.0095524    0.11518     -0.14819       -0.2621      -0.14627   \n",
       "  0.031172    -0.00076591   0.023337       0.05281      0.039703  \n",
       " -0.048737    -0.04098      0.095647       0.027042     0.054177  \n",
       " -0.13356      0.080196     0.080112   …   0.067063     0.051814  \n",
       "  0.091065     0.11285     -0.1405        -0.23928     -0.16194   \n",
       " -0.075987     0.023486     0.0045115     -0.083391    -0.22642   \n",
       "  0.0095926    0.066751     0.073744      -0.16568     -0.087739  \n",
       " -0.075689     0.1602      -0.22839        0.044169     0.017424  \n",
       " -0.036218     0.046194    -0.25428    …  -0.064844    -0.19925   \n",
       " -0.059654     0.17014     -0.15776        0.027041     0.15559   \n",
       " -0.11527      0.069986    -0.11661       -0.052935    -0.25195   \n",
       " -0.092413     0.064094    -0.085987       0.06025      0.18251   \n",
       "  0.0071798    0.013924    -0.16622       -0.17184     -0.17007   \n",
       " -0.15456      0.13299     -0.25788    …   0.224        0.080012  \n",
       "  0.025122     0.035161    -0.014759       0.030803    -0.029237  \n",
       " -0.050284     0.23567     -0.051569      -0.030279     0.16413   \n",
       " -0.047732     0.020468     0.065689      -0.21347     -0.27179   \n",
       " -0.019479     0.13736     -0.1306         0.19179     -0.098102  \n",
       " -0.055938    -0.058467    -0.050433   …  -0.11363     -0.16589   \n",
       "  0.021439     0.10329     -0.19286       -0.09449     -0.20921   \n",
       " -0.093849     0.11048     -0.10059        0.064313     0.16646   \n",
       "  0.051242     0.022884    -0.41221       -0.22293     -0.099248  \n",
       " -0.17814      0.018095    -0.26584       -0.16139     -0.067366  \n",
       " -0.27821      0.15797     -0.28727    …   0.050095     0.00096737\n",
       "  0.050048     0.027467    -0.095272      -0.18827     -0.14587   \n",
       "  0.058214     0.10132      0.1122        -0.11807     -0.045234  \n",
       " -0.036641    -0.01062      0.10342        0.18701      0.076526  \n",
       "  0.030427     0.13498      0.11473       -0.085021     0.057471  \n",
       " -0.075652    -0.0044953   -0.090566   …   0.052351     0.18796   \n",
       " -0.12037      0.1172      -0.012395       0.068528     0.003374  \n",
       "  0.0050367    0.058839     0.052875       0.14898     -0.11796   \n",
       " -0.10046      0.19281      0.12021        0.012746    -0.012386  \n",
       " -0.084718    -0.0036838   -0.059755      -0.0015961   -0.19423   \n",
       "  0.070169     0.074661    -0.032818   …  -0.23229     -0.045262  \n",
       "  0.073432    -0.099575     0.0047211     -0.12226     -0.092623  \n",
       " -0.068917     0.040305    -0.33756       -0.18425     -0.072873  \n",
       " -0.043512     0.059316    -0.16602       -0.15423     -0.18846   \n",
       " -0.015482     0.14723      0.12447       -4.8985e-5    0.10882   \n",
       " -0.023681    -0.039445    -0.092163   …  -0.11832     -0.20342   \n",
       " -0.053557     0.01135      0.10686       -0.15364     -0.15794   \n",
       " -0.14882      0.072019    -0.067782      -0.23216     -0.041205  \n",
       "  0.013312     0.15385     -0.040384       0.040517     0.18574   \n",
       " -0.22375      0.086845    -0.1001        -0.023827     0.061573  \n",
       "  0.027662     0.09718      0.0019537  …   0.14283      0.067835  \n",
       "  0.011511    -0.052175     0.080903      -0.10847     -0.079093  \n",
       "  0.026823     0.178       -0.10831       -0.23981     -0.039564  \n",
       " -0.032101     0.050688    -0.17217       -0.18113     -0.17758   \n",
       " -0.070363     0.14139     -0.12759       -0.042405    -0.018663  \n",
       " -0.059814    -0.056931    -0.090296   …  -0.099032    -0.16056   \n",
       "  0.16525      0.074057    -0.083647       0.037325    -0.00471   \n",
       " -0.065806     0.065781    -0.094905      -0.13667     -0.057508  \n",
       " -0.047381    -0.033079    -0.17307       -0.16074     -0.11358   \n",
       " -0.038712    -0.032124    -0.14777       -0.1802       0.0077779 \n",
       "  0.059679    -0.043983    -0.0036251  …  -0.19216     -0.095077  \n",
       " -0.13389      0.039898    -0.20539       -0.22817     -0.044356  \n",
       " -0.10759     -0.048159    -0.21076       -0.20612     -0.053074  \n",
       "  0.35668      0.16228     -0.091669      -0.14639     -0.0056626 \n",
       " -0.0080435   -0.020074    -0.23921       -0.4201      -0.19505   \n",
       " -0.0080435   -0.020074    -0.23921    …  -0.4201      -0.19505   \n",
       "  0.14856      0.048626    -0.19973       -0.4321      -0.22237   \n",
       " -0.0080435   -0.020074    -0.23921       -0.4201      -0.19505   \n",
       " -0.0080435   -0.020074    -0.23921       -0.4201      -0.19505   \n",
       " -0.0080435   -0.020074    -0.23921       -0.4201      -0.19505   \n",
       "  0.14856      0.048626    -0.19973    …  -0.4321      -0.22237   \n",
       "  0.15806      0.072954    -0.20148       -0.15782     -0.094047  \n",
       "  0.14856      0.048626    -0.19973       -0.4321      -0.22237   \n",
       "  0.15806      0.072954    -0.20148       -0.15782     -0.094047  \n",
       "  0.14856      0.048626    -0.19973       -0.4321      -0.22237   \n",
       "  0.40682      0.14592     -0.25285    …  -0.31924      0.056175  \n",
       "  0.44945      0.05954     -0.28833       -0.42245      0.10147   \n",
       "  0.30689      0.14088     -0.16137       -0.17209     -0.12228   \n",
       "  0.15806      0.072954    -0.20148       -0.15782     -0.094047  \n",
       "  0.14856      0.048626    -0.19973       -0.4321      -0.22237   \n",
       "  0.15806      0.072954    -0.20148    …  -0.15782     -0.094047  \n",
       " -0.18562      0.10231     -0.13457       -0.18454     -0.12139   \n",
       "  0.26735     -0.055004    -0.16162        0.035258    -0.12175   \n",
       " -0.0080435   -0.020074    -0.23921       -0.4201      -0.19505   \n",
       " -0.0080435   -0.020074    -0.23921       -0.4201      -0.19505   \n",
       " -0.0080435   -0.020074    -0.23921    …  -0.4201      -0.19505   \n",
       " -0.0080435   -0.020074    -0.23921       -0.4201      -0.19505   \n",
       " -0.0080435   -0.020074    -0.23921       -0.4201      -0.19505   \n",
       "  0.24213      0.12599     -0.23832       -0.30738     -0.043781  \n",
       "  0.14856      0.048626    -0.19973       -0.4321      -0.22237   \n",
       "  0.14856      0.048626    -0.19973    …  -0.4321      -0.22237   \n",
       "  0.14856      0.048626    -0.19973       -0.4321      -0.22237   \n",
       "  0.14856      0.048626    -0.19973       -0.4321      -0.22237   \n",
       "  0.24649      0.018421    -0.405         -0.25732     -0.025967  \n",
       "  0.14856      0.048626    -0.19973       -0.4321      -0.22237   \n",
       "  0.24232      0.099927    -0.21058    …  -0.31702     -0.027433  \n",
       "  0.32667      0.17004     -0.25126       -0.30456      0.03664   \n",
       "  0.15806      0.072954    -0.20148       -0.15782     -0.094047  \n",
       "  0.14856      0.048626    -0.19973       -0.4321      -0.22237   \n",
       "  0.14856      0.048626    -0.19973       -0.4321      -0.22237   \n",
       "  0.14856      0.048626    -0.19973    …  -0.4321      -0.22237   \n",
       "  0.30249      0.09823     -0.24226       -0.3846      -0.033784  \n",
       "  0.37965      0.062107    -0.25464       -0.34296      0.052522  \n",
       "  0.40581      0.14645     -0.29258       -0.18688      0.082698  \n",
       "  0.15806      0.072954    -0.20148       -0.15782     -0.094047  \n",
       "  0.14856      0.048626    -0.19973    …  -0.4321      -0.22237   \n",
       "  0.29205      0.19195     -0.2469        -0.37083      0.035419  \n",
       "  0.28287      0.13507     -0.22931       -0.34765      0.020194  \n",
       "  0.26734      0.12812     -0.24387       -0.34306     -0.039219  \n",
       "  0.29205      0.19195     -0.2469        -0.37083      0.035419  \n",
       " -0.11562      0.19524     -0.041518   …  -0.17744      0.15698   \n",
       " -0.052663     0.11106     -0.2432        -0.26242      0.011172  \n",
       " -0.059078     0.025189     0.029199       0.11549      0.010387  \n",
       " -0.060837     0.16585     -0.1073        -0.034709    -0.043746  \n",
       "  0.17154     -0.012078    -0.106         -0.12239      0.23559   \n",
       "  0.0052531    0.14791      0.20031    …  -0.1163      -0.18334   \n",
       "  0.11301     -0.10434     -0.065853      -0.050182    -0.10274   \n",
       " -0.16687     -0.019541     0.014648       0.033984    -0.003537  \n",
       "  0.24393      0.042595     0.089025       0.0019569   -0.0099213 \n",
       " -0.086556     0.14766      0.0648        -0.022644     0.019528  \n",
       "  0.039961    -0.046115    -0.12496    …  -0.0065866   -0.082205  \n",
       " -0.0050668    0.26843      0.025856      -0.13946      0.043364  \n",
       " -0.0069901    0.14592      0.0099637     -0.024343     0.033282  \n",
       " -0.10046      0.057165     0.054217      -0.0035616    0.10143   \n",
       " -0.058291     0.20134     -0.047799      -0.09015     -0.10159   \n",
       " -0.2196      -0.017805    -0.36489    …  -0.068462    -0.11219   \n",
       " -0.019152     0.084579    -0.14605       -0.18644     -0.14511   \n",
       " -0.03673      0.016166     0.068353      -0.11717     -0.1023    \n",
       " -0.10206      0.11515      0.044545      -0.14983      0.03672   \n",
       "  0.0037919   -0.0085242   -0.20825       -0.027037    -0.17785   \n",
       "  0.073375     0.040537    -0.0061651  …  -0.034518    -0.0070251 \n",
       "  0.095417     0.11572     -0.14757       -0.13118     -0.064002  \n",
       "  0.18146      0.040373    -0.13405       -0.21866      0.054847  \n",
       "  0.1752      -0.079393     0.084794      -0.1072      -0.051411  \n",
       "  0.088152    -0.051692    -0.18215       -0.064177    -0.024659  \n",
       "  0.035602    -0.042525     0.14237    …  -0.30543     -0.15147   \n",
       "  0.053205     0.12361      0.029471       0.027111     0.040571  \n",
       "  0.069067    -0.12329     -0.32773       -0.26571      0.039902  \n",
       "  0.077557    -0.06736     -0.24977        0.18822     -0.20985   \n",
       " -0.017971    -0.02706     -0.0075322     -0.18426     -0.27154   )"
      ]
     },
     "execution_count": 59,
     "metadata": {},
     "output_type": "execute_result"
    }
   ],
   "source": [
    "phrases,ps = load_phrases_and_embeddings(\"results/wikipedia_turtle\")"
   ]
  },
  {
   "cell_type": "code",
   "execution_count": 60,
   "metadata": {
    "collapsed": false
   },
   "outputs": [],
   "source": [
    "using PyCall\n",
    "@pyimport sklearn\n",
    "@pyimport sklearn.mixture as sklm\n",
    "@pyimport sklearn.cluster as skl_cluster"
   ]
  },
  {
   "cell_type": "code",
   "execution_count": 259,
   "metadata": {
    "collapsed": false,
    "scrolled": true
   },
   "outputs": [
    {
     "data": {
      "text/plain": [
       "show_clusters (generic function with 2 methods)"
      ]
     },
     "execution_count": 259,
     "metadata": {},
     "output_type": "execute_result"
    }
   ],
   "source": [
    "function show_clusters(words, labels)\n",
    "    clusters_inds = DefaultDict(Int, Vector{Int64}, ()->Int64[])\n",
    "    for ii in 1:size(ps,1)\n",
    "        push!(clusters_inds[labels[ii]], ii)\n",
    "    end\n",
    "    clusters_inds\n",
    "    \n",
    "    for ii in keys(clusters_inds)\n",
    "        println(\"** $ii **\")\n",
    "        for word in words[clusters_inds[ii]]\n",
    "            println(\" - \", word)\n",
    "        end\n",
    "        println()\n",
    "    end\n",
    "    clusters_inds\n",
    "end\n"
   ]
  },
  {
   "cell_type": "code",
   "execution_count": 62,
   "metadata": {
    "collapsed": false
   },
   "outputs": [],
   "source": [
    "using Distances\n",
    "push!(LOAD_PATH, \"../word-embeddings2\")\n",
    "import WordEmbeddings.cosine_sim"
   ]
  },
  {
   "cell_type": "code",
   "execution_count": 82,
   "metadata": {
    "collapsed": false,
    "scrolled": true
   },
   "outputs": [],
   "source": [
    "pps = ps'\n",
    "pps_cosine_sim = Number[WordEmbeddings.cosine_sim(pps[:,ii],pps[:,jj]) for ii in 1:size(pps,2), jj in 1:size(pps,2)];\n",
    "pps_manhatten_sim = - pairwise(Cityblock(), pps);\n",
    "pps_euclidean_sim = -pairwise(Euclidean(),pps);\n"
   ]
  },
  {
   "cell_type": "code",
   "execution_count": 243,
   "metadata": {
    "collapsed": false,
    "scrolled": true
   },
   "outputs": [
    {
     "name": "stdout",
     "output_type": "stream",
     "text": [
      " - turtle , *UNKNOWN* or *UNKNOWN*\n",
      " - turtles are divided into two groups according to how they withdraw their necks into their shells *UNKNOWN* something the ancestral *UNKNOWN* could not do *UNKNOWN* .\n",
      " - *UNKNOWN* turtles usually have *UNKNOWN* ridges for slicing through their prey .\n",
      " - the inner layer of a turtle 's shell is made up of about 60 bones that include portions of the backbone and the ribs , meaning the turtle can not crawl out of its shell .\n",
      " - instead , they breathe in two ways .\n",
      " - most *UNKNOWN* have a large , *UNKNOWN* shell that makes it difficult for predators to crush the shell between their *UNKNOWN* .\n",
      " - in some species , shells may have red , orange , yellow , or gray markings , often spots , lines , or irregular blotches .\n",
      " - to endure through *UNKNOWN* conditions , such as winter periods trapped beneath ice or within *UNKNOWN* mud at the bottom of ponds , turtles utilize two general physiological mechanisms .\n",
      " - *UNKNOWN* are famous for moving slowly , in part because of their heavy , cumbersome shells , which restrict stride length .\n",
      " - large turtles tend to swim less than smaller ones , and the very big species , such as alligator snapping turtles , hardly swim at all , preferring to walk along the bottom of the river or lake .\n",
      " - behaviour\n",
      " - they can also spend much or all of their lives on dry land .\n",
      " - order *UNKNOWN*\n",
      " - *UNKNOWN* *UNKNOWN* *UNKNOWN*\n",
      " - family *UNKNOWN* *UNKNOWN*\n",
      " - of the 263 species of *UNKNOWN* and *UNKNOWN* turtles , 117 species are considered threatened , 73 are either endangered or critically endangered and 1 is *UNKNOWN* .\n"
     ]
    }
   ],
   "source": [
    "affinity = pycall(pybuiltin(\"intern\"),PyObject, \"precomputed\")\n",
    "affprop = skl_cluster.AffinityPropagation(damping=0.9,affinity=affinity)\n",
    "\n",
    "affprop[:fit_predict](pps_cosine_sim)\n",
    "centers = affprop[:cluster_centers_indices_] + 1 #julia indexing\n",
    "for phrase in phrases[centers]\n",
    "    println(\" - \", phrase)\n",
    "end"
   ]
  },
  {
   "cell_type": "code",
   "execution_count": 260,
   "metadata": {
    "collapsed": false,
    "scrolled": true
   },
   "outputs": [
    {
     "name": "stdout",
     "output_type": "stream",
     "text": [
      "** 2 **\n",
      " - instead of having teeth , which they appear to have lost about *UNKNOWN* million years ago , long in the tooth : *UNKNOWN* proves turtles evolve ... very slowly the upper and lower *UNKNOWN* of the turtle are covered by *UNKNOWN* ridges .\n",
      " - *UNKNOWN* turtles usually have *UNKNOWN* ridges for slicing through their prey .\n",
      " - *UNKNOWN* turtles have *UNKNOWN* ridges that help them cut through tough plants .\n",
      " - the shells of *UNKNOWN* sea turtles are extremely light because they lack *UNKNOWN* and contain many *UNKNOWN* . it has been suggested by *UNKNOWN* *UNKNOWN* 2002 *UNKNOWN* that the turtle shell can function as *UNKNOWN* buffer .\n",
      " - amphibious turtles normally have limbs similar to those of *UNKNOWN* , except the feet are *UNKNOWN* and often have long claws .\n",
      " - in captivity\n",
      " - *UNKNOWN* species are the most endangered , closely followed by the five endemic species from *UNKNOWN* .\n",
      " - *UNKNOWN* and *UNKNOWN* of the *UNKNOWN* *UNKNOWN* *UNKNOWN* , maps *UNKNOWN*\n",
      "\n",
      "** 11 **\n",
      " - some *UNKNOWN* turtles , such as snapping turtles and *UNKNOWN* turtles , have eyes closer to the top of the head .\n",
      " - these species of turtles can hide from predators in shallow water , where they lie entirely submerged except for their eyes and nostrils .\n",
      " - some turtles do not have *UNKNOWN* *UNKNOWN* .\n",
      " - females must come back onto land to lay eggs .\n",
      " - they move very slowly and laboriously , dragging themselves forwards with their *UNKNOWN* .\n",
      " - it has been reported that wood turtles are better than white rats at learning to navigate *UNKNOWN* .\n",
      " - they can also spend much or all of their lives on dry land .\n",
      " - these projections , called *UNKNOWN* , have a rich blood supply , and increase the surface area of the *UNKNOWN* .\n",
      " - the turtles can take up dissolved oxygen from the water using these *UNKNOWN* , in much the same way that fish use *UNKNOWN* to *UNKNOWN* .\n",
      " - a turtle 's diet varies greatly depending on the environment in which it lives .\n",
      " - it is illegal in every state in the *UNKNOWN* for anyone to sell any turtles under\n",
      "\n",
      "** 0 **\n",
      " - turtles are *UNKNOWN* of the order *UNKNOWN* *UNKNOWN* or *UNKNOWN*\n",
      " - turtle , *UNKNOWN* or *UNKNOWN*\n",
      "\n",
      "** 7 **\n",
      " - the only surviving giant *UNKNOWN* are on the *UNKNOWN* and *UNKNOWN* islands , and can grow to over\n",
      " - *UNKNOWN* snapping turtles and *UNKNOWN* turtles have small , *UNKNOWN* *UNKNOWN* that give them more efficient leg movement for walking along the bottom of ponds and streams . the color of a turtle 's shell may vary .\n",
      " - to endure through *UNKNOWN* conditions , such as winter periods trapped beneath ice or within *UNKNOWN* mud at the bottom of ponds , turtles utilize two general physiological mechanisms .\n",
      " - as mentioned above , the outer layer of the shell is part of the skin ; each *UNKNOWN* *UNKNOWN* or plate *UNKNOWN* on the shell corresponds to a single modified scale .\n",
      " - these species swim in the same way as sea turtles do *UNKNOWN* see below *UNKNOWN* . sea turtles are almost entirely *UNKNOWN* and have *UNKNOWN* instead of feet .\n",
      " - sea turtles fly through the water , using the up-and-down motion of the front *UNKNOWN* to generate thrust ; the back feet are not used for propulsion , but may be used as *UNKNOWN* for steering .\n",
      " - external links\n",
      " - new scientist article *UNKNOWN* including video *UNKNOWN* on how the turtle evolved its shell\n",
      "\n",
      "** 9 **\n",
      " - they use their *UNKNOWN* to swallow food , but unlike most *UNKNOWN* , they can not stick out their *UNKNOWN* to catch food .\n",
      " - large turtles tend to swim less than smaller ones , and the very big species , such as alligator snapping turtles , hardly swim at all , preferring to walk along the bottom of the river or lake .\n",
      " - male turtles tend to have particularly long claws , and these appear to be used to stimulate the female while mating .\n",
      "\n",
      "** 10 **\n",
      " - shell\n",
      " - behaviour\n",
      " - intelligence\n",
      " - diet\n",
      " - as food , traditional medicine , and cosmetics\n",
      " - notes\n",
      " - references\n",
      "\n",
      "** 8 **\n",
      " - *UNKNOWN* are made up of the fibrous protein *UNKNOWN* that also makes up the scales of other *UNKNOWN* .\n",
      " - *UNKNOWN* are famous for moving slowly , in part because of their heavy , cumbersome shells , which restrict stride length .\n",
      " - *UNKNOWN* are thought to have exceptional night vision due to the unusually large number of *UNKNOWN* cells in their *UNKNOWN* .\n",
      " - *UNKNOWN* displays a complete *UNKNOWN* *UNKNOWN* and an incomplete *UNKNOWN* , similar to an early stage of turtle *UNKNOWN* development .\n",
      " - *UNKNOWN* possess diverse chromosome numbers *UNKNOWN* *UNKNOWN* *UNKNOWN* *UNKNOWN* *UNKNOWN* and a myriad of *UNKNOWN* *UNKNOWN* have occurred during evolution .\n",
      "\n",
      "** 6 **\n",
      " - anatomy and *UNKNOWN* largest living *UNKNOWN* is the *UNKNOWN* sea turtle *UNKNOWN* *UNKNOWN* *UNKNOWN* *UNKNOWN* , which reaches a shell length of\n",
      " - in most turtles , the outer layer of the shell is covered by *UNKNOWN* scales called *UNKNOWN* that are part of its outer skin , or *UNKNOWN* .\n",
      " - in some species , shells may have red , orange , yellow , or gray markings , often spots , lines , or irregular blotches .\n",
      " - in contrast , *UNKNOWN* and *UNKNOWN* turtles have lighter shells that help them avoid sinking in water and swim faster with more agility .\n",
      " - in the case of prolonged periods of *UNKNOWN* , it has been shown that the turtle shell both releases *UNKNOWN* *UNKNOWN* and *UNKNOWN* *UNKNOWN* acid .\n",
      " - when turtles are kept in *UNKNOWN* , small sheets of dead skin can be seen in the water *UNKNOWN* often appearing to be a thin piece of plastic *UNKNOWN* having been *UNKNOWN* off when the animals deliberately rub themselves against a piece of wood or stone .\n",
      " - as well as *UNKNOWN* feet , turtles have very long claws , used to help them *UNKNOWN* onto riverbanks and floating logs upon which they *UNKNOWN* .\n",
      " - while most turtles have *UNKNOWN* feet , some , such as the *UNKNOWN* turtle , have true *UNKNOWN* , with the digits being fused into *UNKNOWN* and the claws being relatively small .\n",
      " - compared with *UNKNOWN* turtles , sea turtles have very limited mobility on land , and apart from the dash from the nest to the sea as *UNKNOWN* , male sea turtles normally never leave the sea .\n",
      " - in the laboratory , turtles *UNKNOWN* *UNKNOWN* *UNKNOWN* *UNKNOWN* can learn novel *UNKNOWN* tasks and have demonstrated a long-term memory of at least 7.5 months .\n",
      " - the flesh of turtles , *UNKNOWN* or *UNKNOWN* , was , and still is , considered a *UNKNOWN* in a number of cultures .\n",
      " - between 48 to 54 % of all 328 of their species considered threatened , turtles and *UNKNOWN* are at a much higher risk of extinction than many other *UNKNOWN* .\n",
      "\n",
      "** 4 **\n",
      " - they became *UNKNOWN* at the same time as the appearance of man , and it is assumed humans hunted them for food .\n",
      " - near their eyes , sea turtles possess glands that produce *UNKNOWN* tears that rid their body of excess salt taken in from the water they drink . turtles have rigid beaks , and use their *UNKNOWN* to cut and *UNKNOWN* food .\n",
      " - instead , they breathe in two ways .\n",
      " - first , they employ *UNKNOWN* pumping , pulling air into their mouths , then pushing it into their lungs via *UNKNOWN* of the floor of the throat .\n",
      " - some land turtles have very poor pursuit movement abilities , which are normally found only in predators that hunt *UNKNOWN* prey , but *UNKNOWN* turtles are able to move their heads quickly to snap .\n",
      " - although many turtles spend large amounts of their lives underwater , all turtles and *UNKNOWN* breathe air , and must surface at regular intervals to *UNKNOWN* their lungs .\n",
      " - conservation *UNKNOWN* *UNKNOWN* *UNKNOWN* , the *UNKNOWN* and *UNKNOWN* turtle specialist group published a report about the top 25 species of turtles most likely to become *UNKNOWN* , with a further 40 species at very high risk of becoming *UNKNOWN* .\n",
      " - this list excludes sea turtles , however both the *UNKNOWN* and the *UNKNOWN* 's *UNKNOWN* would make the top 25 list .\n",
      " - nonetheless , wild turtles continue to be caught and sent to market in large number *UNKNOWN* as well as to turtle farms , to be used as breeding stock\n",
      "\n",
      "** 3 **\n",
      " - the upper shell of the turtle is called the *UNKNOWN* .\n",
      " - the inner layer of a turtle 's shell is made up of about 60 bones that include portions of the backbone and the ribs , meaning the turtle can not crawl out of its shell .\n",
      " - the remainder of the skin is composed of skin with much smaller scales , similar to the skin of other *UNKNOWN* .\n",
      " - *UNKNOWN* *UNKNOWN* fossils of *UNKNOWN* and *UNKNOWN* size have been documented in the scientific literature .\n",
      " - the report is due to be updated in four years time allowing to follow the evolution of the list .\n",
      " - 71 % of all *UNKNOWN* species are either gone or almost gone .\n",
      " - the high extinction risk for *UNKNOWN* species is primarily due to the long-term unsustainable exploitation of turtles and *UNKNOWN* for consumption and traditional *UNKNOWN* medicine , and to a lesser extent for the international pet trade .\n",
      "\n",
      "** 5 **\n",
      " - giant *UNKNOWN* of the *UNKNOWN* *UNKNOWN* , *UNKNOWN* , and others were relatively widely distributed around the world into prehistoric times , and are known to have existed in north and south *UNKNOWN* , *UNKNOWN* , and *UNKNOWN* .\n",
      " - the *UNKNOWN* withdraw their necks backwards while contracting it under their spine , whereas the *UNKNOWN* contract their necks to the side .\n",
      " - head\n",
      " - the *UNKNOWN* and *UNKNOWN* are joined together on the turtle 's sides by *UNKNOWN* structures called bridges .\n",
      " - these *UNKNOWN* overlap the *UNKNOWN* between the shell bones and add strength to the shell .\n",
      " - most *UNKNOWN* have a large , *UNKNOWN* shell that makes it difficult for predators to crush the shell between their *UNKNOWN* .\n",
      " - most *UNKNOWN* turtles have flat , streamlined shells which aid in swimming and diving .\n",
      " - these lighter shells have large spaces called *UNKNOWN* between the shell bones .\n",
      " - *UNKNOWN* *UNKNOWN* have short , sturdy feet .\n",
      " - these turtles swim using all four feet in a way similar to the dog *UNKNOWN* , with the feet on the left and right side of the body alternately providing thrust .\n",
      " - some species have large *UNKNOWN* cavities that are lined with many *UNKNOWN* projections .\n",
      " - adult turtles typically eat *UNKNOWN* plants ;\n",
      " - family *UNKNOWN* *UNKNOWN* *UNKNOWN* *UNKNOWN* turtles *UNKNOWN*\n",
      " - family *UNKNOWN* *UNKNOWN* *UNKNOWN* *UNKNOWN* and *UNKNOWN* *UNKNOWN* river turtles *UNKNOWN*\n",
      " - family *UNKNOWN* *UNKNOWN* snapping turtles *UNKNOWN*\n",
      " - family *UNKNOWN* *UNKNOWN* *UNKNOWN* river turtles , *UNKNOWN* leaf turtles , *UNKNOWN* box turtles , and *UNKNOWN* turtles *UNKNOWN*\n",
      " - family *UNKNOWN* *UNKNOWN* true *UNKNOWN* *UNKNOWN*\n",
      " - family *UNKNOWN* *UNKNOWN* river turtles *UNKNOWN*\n",
      " - family *UNKNOWN* *UNKNOWN* mud turtles *UNKNOWN*\n",
      " - among the most popular are *UNKNOWN* *UNKNOWN* , *UNKNOWN* *UNKNOWN* , and *UNKNOWN* *UNKNOWN* .\n",
      " - cultural depictions of turtles\n",
      " - further reading\n",
      "\n",
      "** 14 **\n",
      " - neck withdrawal\n",
      " - skin and *UNKNOWN*\n",
      " - family *UNKNOWN* *UNKNOWN*\n",
      " - family *UNKNOWN* *UNKNOWN*\n",
      " - family *UNKNOWN* *UNKNOWN*\n",
      " - family *UNKNOWN* *UNKNOWN*\n",
      " - family *UNKNOWN* *UNKNOWN*\n",
      " - family *UNKNOWN* *UNKNOWN*\n",
      " - family *UNKNOWN* *UNKNOWN*\n",
      " - family *UNKNOWN* *UNKNOWN*\n",
      " - family *UNKNOWN* *UNKNOWN*\n",
      " - *UNKNOWN* *UNKNOWN* *UNKNOWN* sea turtles *UNKNOWN*\n",
      " - family *UNKNOWN* *UNKNOWN*\n",
      " - family *UNKNOWN* *UNKNOWN* green sea turtles and relatives *UNKNOWN*\n",
      " - family *UNKNOWN* *UNKNOWN* *UNKNOWN* sea turtles *UNKNOWN*\n",
      " - family *UNKNOWN* *UNKNOWN*\n",
      " - family *UNKNOWN* *UNKNOWN*\n",
      " - family *UNKNOWN* *UNKNOWN*\n",
      " - family *UNKNOWN* *UNKNOWN* pond , box , and water turtles *UNKNOWN*\n",
      " - family *UNKNOWN* *UNKNOWN*\n",
      " - family *UNKNOWN* *UNKNOWN* *UNKNOWN* turtles *UNKNOWN*\n",
      " - family *UNKNOWN* *UNKNOWN* *UNKNOWN* turtles *UNKNOWN*\n",
      "\n",
      "** 13 **\n",
      " - *UNKNOWN* and life history\n",
      " - *UNKNOWN* and evolution\n",
      " - *UNKNOWN* of turtles\n",
      " - *UNKNOWN* *UNKNOWN* *UNKNOWN*\n",
      " - *UNKNOWN* *UNKNOWN* *UNKNOWN*\n",
      " - *UNKNOWN* *UNKNOWN* *UNKNOWN*\n",
      " - *UNKNOWN* *UNKNOWN* *UNKNOWN*\n",
      " - *UNKNOWN* *UNKNOWN* *UNKNOWN*\n",
      " - *UNKNOWN* *UNKNOWN*\n",
      " - *UNKNOWN* *UNKNOWN*\n",
      " - *UNKNOWN* *UNKNOWN*\n",
      " - *UNKNOWN* *UNKNOWN*\n",
      " - *UNKNOWN* and *UNKNOWN* *UNKNOWN*\n",
      " - *UNKNOWN* *UNKNOWN* *UNKNOWN*\n",
      " - *UNKNOWN* *UNKNOWN* *UNKNOWN*\n",
      " - *UNKNOWN* *UNKNOWN* *UNKNOWN*\n",
      " - *UNKNOWN* *UNKNOWN* *UNKNOWN*\n",
      " - *UNKNOWN* *UNKNOWN* *UNKNOWN*\n",
      " - *UNKNOWN* *UNKNOWN*\n",
      " - *UNKNOWN* *UNKNOWN*\n",
      " - *UNKNOWN* *UNKNOWN* collection and display of the *UNKNOWN* of captive turtles\n",
      "\n",
      "** 15 **\n",
      " - for example , the *UNKNOWN* sea turtle and the *UNKNOWN* turtles have shells covered with *UNKNOWN* skin , instead . the rigid shell means turtles can not breathe as other *UNKNOWN* do , by changing the volume of their chest cavities via expansion and contraction of the ribs .\n",
      " - of the 263 species of *UNKNOWN* and *UNKNOWN* turtles , 117 species are considered threatened , 73 are either endangered or critically endangered and 1 is *UNKNOWN* .\n",
      " - of the 58 species belonging to the *UNKNOWN* family , 33 species are threatened , 18 are either endangered or critically endangered , 1 is *UNKNOWN* in the wild and 7 species are *UNKNOWN* .\n",
      " - see also\n",
      " - symposium on turtle evolution\n",
      "\n",
      "** 12 **\n",
      " - order *UNKNOWN*\n",
      " - family *UNKNOWN*\n",
      " - *UNKNOWN* `` *UNKNOWN* '' *UNKNOWN*\n",
      "\n",
      "** 1 **\n",
      " - the word *UNKNOWN* is popular among *UNKNOWN* , scientists , and conservationists working with these animals as a catch-all name for any member of the *UNKNOWN* *UNKNOWN* , which includes all turtles living and *UNKNOWN* , as well as their immediate ancestors .\n",
      " - turtles are divided into two groups according to how they withdraw their necks into their shells *UNKNOWN* something the ancestral *UNKNOWN* could not do *UNKNOWN* .\n",
      " - most turtles that spend most of their lives on land have their eyes looking down at objects in front of them .\n",
      " - the lower shell that *UNKNOWN* the belly is called the *UNKNOWN* .\n",
      " - one of the few exceptions is the *UNKNOWN* *UNKNOWN* *UNKNOWN* , which has a flat , flexible shell that allows it to hide in rock *UNKNOWN* .\n",
      " - shells are commonly colored brown , black , or olive green .\n",
      " - one of the most colorful turtles is the eastern painted turtle , which includes a yellow *UNKNOWN* and a black or olive shell with red markings around the rim . *UNKNOWN* , being land-based , have rather heavy shells .\n",
      " - turtles do not *UNKNOWN* their skins all at once , as snakes do , but continuously , in small pieces .\n",
      " - turtles have color vision with a wealth of *UNKNOWN* *UNKNOWN* with sensitivities ranging from the near ultraviolet *UNKNOWN* *UNKNOWN* a *UNKNOWN* to red .\n",
      " - case studies exist of turtles playing .\n",
      " - *UNKNOWN* respiration in *UNKNOWN* *UNKNOWN* turtles is currently being studied .\n",
      " - this is supported by fossils of the *UNKNOWN* *UNKNOWN* *UNKNOWN* or `` *UNKNOWN* turtle with teeth '' , from the late *UNKNOWN* , which have been found near *UNKNOWN* in southwest china .\n",
      " - turtles , particularly small *UNKNOWN* and *UNKNOWN* turtles , are commonly kept as pets .\n",
      " - turtles face many threats , including habitat destruction , harvesting for consumption , and the pet trade .\n",
      " - animal track\n",
      "\n"
     ]
    },
    {
     "data": {
      "text/plain": [
       "DefaultDict{Int64,Array{Int64,1},Function} with 16 entries:\n",
       "  2  => [16,17,18,41,51,133,146,159]\n",
       "  11 => [13,14,28,60,61,67,72,75,76,78,136]\n",
       "  0  => [1,2]\n",
       "  7  => [7,35,42,45,57,58,157,160]\n",
       "  9  => [19,53,55]\n",
       "  10 => [20,62,66,77,137,154,155]\n",
       "  8  => [26,50,63,82,132]\n",
       "  6  => [4,25,37,39,43,48,54,56,59,69,138,142]\n",
       "  4  => [6,15,30,31,65,71,139,140,149]\n",
       "  3  => [21,24,46,131,141,145,148]\n",
       "  5  => [5,10,11,23,27,32,34,40,49,52,74,79,96,97,109,123,124,128,129,135,152,156]\n",
       "  14 => [8,44,87,91,93,95,100,110,111,112,113,114,115,116,117,119,120,121,122,126,127,130]\n",
       "  13 => [70,80,83,85,86,88,89,90,92,94,99,101,102,104,105,106,107,108,118,125,158]\n",
       "  15 => [29,143,144,150,153]\n",
       "  12 => [84,98,103]\n",
       "  1  => [3,9,12,22,33,36,38,47,64,68,73,81,134,147,151]"
      ]
     },
     "execution_count": 260,
     "metadata": {},
     "output_type": "execute_result"
    }
   ],
   "source": [
    "clusters = show_clusters(phrases, affprop[:labels_])"
   ]
  },
  {
   "cell_type": "code",
   "execution_count": 13,
   "metadata": {
    "collapsed": true
   },
   "outputs": [],
   "source": [
    "using Pipe\n",
    "push!(LOAD_PATH, \"../word-embeddings2\")\n",
    "using WordEmbeddings\n",
    "we = @pipe load_embeddings(\"../word-embeddings2/word_emb_data/embeddings-scaled.EMBEDDING_SIZE=50.txt\") |> WE(_...);\n",
    "\n"
   ]
  },
  {
   "cell_type": "code",
   "execution_count": 121,
   "metadata": {
    "collapsed": true
   },
   "outputs": [],
   "source": [
    "@pyimport hmmlearn.hmm as hl_hmm\n",
    "@pyimport warnings\n",
    "warnings.filterwarnings(\"ignore\")"
   ]
  },
  {
   "cell_type": "code",
   "execution_count": 246,
   "metadata": {
    "collapsed": false
   },
   "outputs": [
    {
     "data": {
      "text/plain": [
       "-303.7456690475301"
      ]
     },
     "execution_count": 246,
     "metadata": {},
     "output_type": "execute_result"
    }
   ],
   "source": []
  },
  {
   "cell_type": "code",
   "execution_count": 270,
   "metadata": {
    "collapsed": false
   },
   "outputs": [
    {
     "data": {
      "text/plain": [
       "PyObject GaussianHMM(algorithm='viterbi', covariance_type='full', covars_prior=0.01,\n",
       "      covars_weight=1,\n",
       "      init_params='abcdefghijklmnopqrstuvwxyzABCDEFGHIJKLMNOPQRSTUVWXYZ',\n",
       "      means_prior=0, means_weight=0, n_components=2, n_iter=200000000,\n",
       "      params='abcdefghijklmnopqrstuvwxyzABCDEFGHIJKLMNOPQRSTUVWXYZ',\n",
       "      random_state=None, startprob=None, startprob_prior=None, thresh=0.01,\n",
       "      transmat=None, transmat_prior=None)"
      ]
     },
     "execution_count": 270,
     "metadata": {},
     "output_type": "execute_result"
    }
   ],
   "source": [
    "hmm = hl_hmm.GaussianHMM(n_components=2, covariance_type=\"full\", n_iter=200*1000*1000)"
   ]
  },
  {
   "cell_type": "code",
   "execution_count": 271,
   "metadata": {
    "collapsed": false,
    "scrolled": true
   },
   "outputs": [
    {
     "data": {
      "text/plain": [
       "PyObject GaussianHMM(algorithm='viterbi', covariance_type='full', covars_prior=0.01,\n",
       "      covars_weight=1,\n",
       "      init_params='abcdefghijklmnopqrstuvwxyzABCDEFGHIJKLMNOPQRSTUVWXYZ',\n",
       "      means_prior=0, means_weight=0, n_components=2, n_iter=200000000,\n",
       "      params='abcdefghijklmnopqrstuvwxyzABCDEFGHIJKLMNOPQRSTUVWXYZ',\n",
       "      random_state=None, startprob=None, startprob_prior=1.0, thresh=0.01,\n",
       "      transmat=None, transmat_prior=1.0)"
      ]
     },
     "execution_count": 271,
     "metadata": {},
     "output_type": "execute_result"
    }
   ],
   "source": [
    "hmm[:fit](Any[ps])\n"
   ]
  },
  {
   "cell_type": "code",
   "execution_count": 272,
   "metadata": {
    "collapsed": false
   },
   "outputs": [
    {
     "name": "stdout",
     "output_type": "stream",
     "text": [
      "{44663.90564653185,44663.905646725856}\n",
      "200000000\n"
     ]
    },
    {
     "ename": "LoadError",
     "evalue": "key not found: \"gmms_\"\nwhile loading In[272], in expression starting on line 3",
     "output_type": "error",
     "traceback": [
      "key not found: \"gmms_\"\nwhile loading In[272], in expression starting on line 3",
      "",
      " in getindex at /home/wheel/oxinabox/.julia/v0.3/PyCall/src/PyCall.jl:246",
      " in getindex at /home/wheel/oxinabox/.julia/v0.3/PyCall/src/PyCall.jl:251",
      " in anonymous at no file"
     ]
    }
   ],
   "source": [
    "hmm[:monitor_][:history] |> collect |> println\n",
    "hmm[:monitor_][:n_iter]  |> println\n",
    "for gmm in hmm[:gmms_]\n",
    "    println(gmm[:converged_])   \n",
    "end"
   ]
  },
  {
   "cell_type": "code",
   "execution_count": 273,
   "metadata": {
    "collapsed": false,
    "scrolled": false
   },
   "outputs": [
    {
     "name": "stdout",
     "output_type": "stream",
     "text": [
      "** 0 **\n",
      " - *UNKNOWN* *UNKNOWN* *UNKNOWN*\n",
      " - *UNKNOWN* *UNKNOWN* *UNKNOWN*\n",
      " - family *UNKNOWN* *UNKNOWN*\n",
      " - *UNKNOWN* *UNKNOWN* *UNKNOWN*\n",
      " - *UNKNOWN* *UNKNOWN* *UNKNOWN*\n",
      " - *UNKNOWN* *UNKNOWN* *UNKNOWN*\n",
      " - family *UNKNOWN* *UNKNOWN*\n",
      " - *UNKNOWN* *UNKNOWN*\n",
      " - family *UNKNOWN* *UNKNOWN*\n",
      " - *UNKNOWN* *UNKNOWN*\n",
      " - family *UNKNOWN* *UNKNOWN*\n",
      " - family *UNKNOWN* *UNKNOWN* *UNKNOWN* *UNKNOWN* turtles *UNKNOWN*\n",
      " - family *UNKNOWN* *UNKNOWN* *UNKNOWN* *UNKNOWN* and *UNKNOWN* *UNKNOWN* river turtles *UNKNOWN*\n",
      " - family *UNKNOWN*\n",
      " - *UNKNOWN* *UNKNOWN*\n",
      " - family *UNKNOWN* *UNKNOWN*\n",
      " - *UNKNOWN* *UNKNOWN*\n",
      " - *UNKNOWN* and *UNKNOWN* *UNKNOWN*\n",
      " - *UNKNOWN* *UNKNOWN* *UNKNOWN*\n",
      " - *UNKNOWN* *UNKNOWN* *UNKNOWN*\n",
      " - *UNKNOWN* *UNKNOWN* *UNKNOWN*\n",
      " - *UNKNOWN* *UNKNOWN* *UNKNOWN*\n",
      " - *UNKNOWN* *UNKNOWN* *UNKNOWN*\n",
      " - family *UNKNOWN* *UNKNOWN* snapping turtles *UNKNOWN*\n",
      " - family *UNKNOWN* *UNKNOWN*\n",
      " - family *UNKNOWN* *UNKNOWN*\n",
      " - family *UNKNOWN* *UNKNOWN*\n",
      " - family *UNKNOWN* *UNKNOWN*\n",
      " - *UNKNOWN* *UNKNOWN* *UNKNOWN* sea turtles *UNKNOWN*\n",
      " - family *UNKNOWN* *UNKNOWN*\n",
      " - family *UNKNOWN* *UNKNOWN* green sea turtles and relatives *UNKNOWN*\n",
      " - family *UNKNOWN* *UNKNOWN* *UNKNOWN* sea turtles *UNKNOWN*\n",
      " - *UNKNOWN* *UNKNOWN*\n",
      " - family *UNKNOWN* *UNKNOWN*\n",
      " - family *UNKNOWN* *UNKNOWN*\n",
      " - family *UNKNOWN* *UNKNOWN*\n",
      " - family *UNKNOWN* *UNKNOWN* pond , box , and water turtles *UNKNOWN*\n",
      " - family *UNKNOWN* *UNKNOWN* *UNKNOWN* river turtles , *UNKNOWN* leaf turtles , *UNKNOWN* box turtles , and *UNKNOWN* turtles *UNKNOWN*\n",
      " - family *UNKNOWN* *UNKNOWN* true *UNKNOWN* *UNKNOWN*\n",
      " - *UNKNOWN* *UNKNOWN*\n",
      " - family *UNKNOWN* *UNKNOWN*\n",
      " - family *UNKNOWN* *UNKNOWN* *UNKNOWN* turtles *UNKNOWN*\n",
      " - family *UNKNOWN* *UNKNOWN* river turtles *UNKNOWN*\n",
      " - family *UNKNOWN* *UNKNOWN* mud turtles *UNKNOWN*\n",
      " - family *UNKNOWN* *UNKNOWN* *UNKNOWN* turtles *UNKNOWN*\n",
      " - *UNKNOWN* *UNKNOWN* collection and display of the *UNKNOWN* of captive turtles\n",
      "\n",
      "** 1 **\n",
      " - turtles are *UNKNOWN* of the order *UNKNOWN* *UNKNOWN* or *UNKNOWN*\n",
      " - turtle , *UNKNOWN* or *UNKNOWN*\n",
      " - the word *UNKNOWN* is popular among *UNKNOWN* , scientists , and conservationists working with these animals as a catch-all name for any member of the *UNKNOWN* *UNKNOWN* , which includes all turtles living and *UNKNOWN* , as well as their immediate ancestors .\n",
      " - anatomy and *UNKNOWN* largest living *UNKNOWN* is the *UNKNOWN* sea turtle *UNKNOWN* *UNKNOWN* *UNKNOWN* *UNKNOWN* , which reaches a shell length of\n",
      " - giant *UNKNOWN* of the *UNKNOWN* *UNKNOWN* , *UNKNOWN* , and others were relatively widely distributed around the world into prehistoric times , and are known to have existed in north and south *UNKNOWN* , *UNKNOWN* , and *UNKNOWN* .\n",
      " - they became *UNKNOWN* at the same time as the appearance of man , and it is assumed humans hunted them for food .\n",
      " - the only surviving giant *UNKNOWN* are on the *UNKNOWN* and *UNKNOWN* islands , and can grow to over\n",
      " - neck withdrawal\n",
      " - turtles are divided into two groups according to how they withdraw their necks into their shells *UNKNOWN* something the ancestral *UNKNOWN* could not do *UNKNOWN* .\n",
      " - the *UNKNOWN* withdraw their necks backwards while contracting it under their spine , whereas the *UNKNOWN* contract their necks to the side .\n",
      " - head\n",
      " - most turtles that spend most of their lives on land have their eyes looking down at objects in front of them .\n",
      " - some *UNKNOWN* turtles , such as snapping turtles and *UNKNOWN* turtles , have eyes closer to the top of the head .\n",
      " - these species of turtles can hide from predators in shallow water , where they lie entirely submerged except for their eyes and nostrils .\n",
      " - near their eyes , sea turtles possess glands that produce *UNKNOWN* tears that rid their body of excess salt taken in from the water they drink . turtles have rigid beaks , and use their *UNKNOWN* to cut and *UNKNOWN* food .\n",
      " - instead of having teeth , which they appear to have lost about *UNKNOWN* million years ago , long in the tooth : *UNKNOWN* proves turtles evolve ... very slowly the upper and lower *UNKNOWN* of the turtle are covered by *UNKNOWN* ridges .\n",
      " - *UNKNOWN* turtles usually have *UNKNOWN* ridges for slicing through their prey .\n",
      " - *UNKNOWN* turtles have *UNKNOWN* ridges that help them cut through tough plants .\n",
      " - they use their *UNKNOWN* to swallow food , but unlike most *UNKNOWN* , they can not stick out their *UNKNOWN* to catch food .\n",
      " - shell\n",
      " - the upper shell of the turtle is called the *UNKNOWN* .\n",
      " - the lower shell that *UNKNOWN* the belly is called the *UNKNOWN* .\n",
      " - the *UNKNOWN* and *UNKNOWN* are joined together on the turtle 's sides by *UNKNOWN* structures called bridges .\n",
      " - the inner layer of a turtle 's shell is made up of about 60 bones that include portions of the backbone and the ribs , meaning the turtle can not crawl out of its shell .\n",
      " - in most turtles , the outer layer of the shell is covered by *UNKNOWN* scales called *UNKNOWN* that are part of its outer skin , or *UNKNOWN* .\n",
      " - *UNKNOWN* are made up of the fibrous protein *UNKNOWN* that also makes up the scales of other *UNKNOWN* .\n",
      " - these *UNKNOWN* overlap the *UNKNOWN* between the shell bones and add strength to the shell .\n",
      " - some turtles do not have *UNKNOWN* *UNKNOWN* .\n",
      " - for example , the *UNKNOWN* sea turtle and the *UNKNOWN* turtles have shells covered with *UNKNOWN* skin , instead . the rigid shell means turtles can not breathe as other *UNKNOWN* do , by changing the volume of their chest cavities via expansion and contraction of the ribs .\n",
      " - instead , they breathe in two ways .\n",
      " - first , they employ *UNKNOWN* pumping , pulling air into their mouths , then pushing it into their lungs via *UNKNOWN* of the floor of the throat .\n",
      " - most *UNKNOWN* have a large , *UNKNOWN* shell that makes it difficult for predators to crush the shell between their *UNKNOWN* .\n",
      " - one of the few exceptions is the *UNKNOWN* *UNKNOWN* *UNKNOWN* , which has a flat , flexible shell that allows it to hide in rock *UNKNOWN* .\n",
      " - most *UNKNOWN* turtles have flat , streamlined shells which aid in swimming and diving .\n",
      " - *UNKNOWN* snapping turtles and *UNKNOWN* turtles have small , *UNKNOWN* *UNKNOWN* that give them more efficient leg movement for walking along the bottom of ponds and streams . the color of a turtle 's shell may vary .\n",
      " - shells are commonly colored brown , black , or olive green .\n",
      " - in some species , shells may have red , orange , yellow , or gray markings , often spots , lines , or irregular blotches .\n",
      " - one of the most colorful turtles is the eastern painted turtle , which includes a yellow *UNKNOWN* and a black or olive shell with red markings around the rim . *UNKNOWN* , being land-based , have rather heavy shells .\n",
      " - in contrast , *UNKNOWN* and *UNKNOWN* turtles have lighter shells that help them avoid sinking in water and swim faster with more agility .\n",
      " - these lighter shells have large spaces called *UNKNOWN* between the shell bones .\n",
      " - the shells of *UNKNOWN* sea turtles are extremely light because they lack *UNKNOWN* and contain many *UNKNOWN* . it has been suggested by *UNKNOWN* *UNKNOWN* 2002 *UNKNOWN* that the turtle shell can function as *UNKNOWN* buffer .\n",
      " - to endure through *UNKNOWN* conditions , such as winter periods trapped beneath ice or within *UNKNOWN* mud at the bottom of ponds , turtles utilize two general physiological mechanisms .\n",
      " - in the case of prolonged periods of *UNKNOWN* , it has been shown that the turtle shell both releases *UNKNOWN* *UNKNOWN* and *UNKNOWN* *UNKNOWN* acid .\n",
      " - skin and *UNKNOWN*\n",
      " - as mentioned above , the outer layer of the shell is part of the skin ; each *UNKNOWN* *UNKNOWN* or plate *UNKNOWN* on the shell corresponds to a single modified scale .\n",
      " - the remainder of the skin is composed of skin with much smaller scales , similar to the skin of other *UNKNOWN* .\n",
      " - turtles do not *UNKNOWN* their skins all at once , as snakes do , but continuously , in small pieces .\n",
      " - when turtles are kept in *UNKNOWN* , small sheets of dead skin can be seen in the water *UNKNOWN* often appearing to be a thin piece of plastic *UNKNOWN* having been *UNKNOWN* off when the animals deliberately rub themselves against a piece of wood or stone .\n",
      " - *UNKNOWN* *UNKNOWN* have short , sturdy feet .\n",
      " - *UNKNOWN* are famous for moving slowly , in part because of their heavy , cumbersome shells , which restrict stride length .\n",
      " - amphibious turtles normally have limbs similar to those of *UNKNOWN* , except the feet are *UNKNOWN* and often have long claws .\n",
      " - these turtles swim using all four feet in a way similar to the dog *UNKNOWN* , with the feet on the left and right side of the body alternately providing thrust .\n",
      " - large turtles tend to swim less than smaller ones , and the very big species , such as alligator snapping turtles , hardly swim at all , preferring to walk along the bottom of the river or lake .\n",
      " - as well as *UNKNOWN* feet , turtles have very long claws , used to help them *UNKNOWN* onto riverbanks and floating logs upon which they *UNKNOWN* .\n",
      " - male turtles tend to have particularly long claws , and these appear to be used to stimulate the female while mating .\n",
      " - while most turtles have *UNKNOWN* feet , some , such as the *UNKNOWN* turtle , have true *UNKNOWN* , with the digits being fused into *UNKNOWN* and the claws being relatively small .\n",
      " - these species swim in the same way as sea turtles do *UNKNOWN* see below *UNKNOWN* . sea turtles are almost entirely *UNKNOWN* and have *UNKNOWN* instead of feet .\n",
      " - sea turtles fly through the water , using the up-and-down motion of the front *UNKNOWN* to generate thrust ; the back feet are not used for propulsion , but may be used as *UNKNOWN* for steering .\n",
      " - compared with *UNKNOWN* turtles , sea turtles have very limited mobility on land , and apart from the dash from the nest to the sea as *UNKNOWN* , male sea turtles normally never leave the sea .\n",
      " - females must come back onto land to lay eggs .\n",
      " - they move very slowly and laboriously , dragging themselves forwards with their *UNKNOWN* .\n",
      " - behaviour\n",
      " - *UNKNOWN* are thought to have exceptional night vision due to the unusually large number of *UNKNOWN* cells in their *UNKNOWN* .\n",
      " - turtles have color vision with a wealth of *UNKNOWN* *UNKNOWN* with sensitivities ranging from the near ultraviolet *UNKNOWN* *UNKNOWN* a *UNKNOWN* to red .\n",
      " - some land turtles have very poor pursuit movement abilities , which are normally found only in predators that hunt *UNKNOWN* prey , but *UNKNOWN* turtles are able to move their heads quickly to snap .\n",
      " - intelligence\n",
      " - it has been reported that wood turtles are better than white rats at learning to navigate *UNKNOWN* .\n",
      " - case studies exist of turtles playing .\n",
      " - in the laboratory , turtles *UNKNOWN* *UNKNOWN* *UNKNOWN* *UNKNOWN* can learn novel *UNKNOWN* tasks and have demonstrated a long-term memory of at least 7.5 months .\n",
      " - *UNKNOWN* and life history\n",
      " - although many turtles spend large amounts of their lives underwater , all turtles and *UNKNOWN* breathe air , and must surface at regular intervals to *UNKNOWN* their lungs .\n",
      " - they can also spend much or all of their lives on dry land .\n",
      " - *UNKNOWN* respiration in *UNKNOWN* *UNKNOWN* turtles is currently being studied .\n",
      " - some species have large *UNKNOWN* cavities that are lined with many *UNKNOWN* projections .\n",
      " - these projections , called *UNKNOWN* , have a rich blood supply , and increase the surface area of the *UNKNOWN* .\n",
      " - the turtles can take up dissolved oxygen from the water using these *UNKNOWN* , in much the same way that fish use *UNKNOWN* to *UNKNOWN* .\n",
      " - diet\n",
      " - a turtle 's diet varies greatly depending on the environment in which it lives .\n",
      " - adult turtles typically eat *UNKNOWN* plants ;\n",
      " - *UNKNOWN* and evolution\n",
      " - this is supported by fossils of the *UNKNOWN* *UNKNOWN* *UNKNOWN* or `` *UNKNOWN* turtle with teeth '' , from the late *UNKNOWN* , which have been found near *UNKNOWN* in southwest china .\n",
      " - *UNKNOWN* displays a complete *UNKNOWN* *UNKNOWN* and an incomplete *UNKNOWN* , similar to an early stage of turtle *UNKNOWN* development .\n",
      " - *UNKNOWN* of turtles\n",
      " - order *UNKNOWN*\n",
      " - *UNKNOWN* `` *UNKNOWN* '' *UNKNOWN*\n",
      " - *UNKNOWN* *UNKNOWN* fossils of *UNKNOWN* and *UNKNOWN* size have been documented in the scientific literature .\n",
      " - *UNKNOWN* possess diverse chromosome numbers *UNKNOWN* *UNKNOWN* *UNKNOWN* *UNKNOWN* *UNKNOWN* and a myriad of *UNKNOWN* *UNKNOWN* have occurred during evolution .\n",
      " - in captivity\n",
      " - turtles , particularly small *UNKNOWN* and *UNKNOWN* turtles , are commonly kept as pets .\n",
      " - among the most popular are *UNKNOWN* *UNKNOWN* , *UNKNOWN* *UNKNOWN* , and *UNKNOWN* *UNKNOWN* .\n",
      " - it is illegal in every state in the *UNKNOWN* for anyone to sell any turtles under\n",
      " - as food , traditional medicine , and cosmetics\n",
      " - the flesh of turtles , *UNKNOWN* or *UNKNOWN* , was , and still is , considered a *UNKNOWN* in a number of cultures .\n",
      " - conservation *UNKNOWN* *UNKNOWN* *UNKNOWN* , the *UNKNOWN* and *UNKNOWN* turtle specialist group published a report about the top 25 species of turtles most likely to become *UNKNOWN* , with a further 40 species at very high risk of becoming *UNKNOWN* .\n",
      " - this list excludes sea turtles , however both the *UNKNOWN* and the *UNKNOWN* 's *UNKNOWN* would make the top 25 list .\n",
      " - the report is due to be updated in four years time allowing to follow the evolution of the list .\n",
      " - between 48 to 54 % of all 328 of their species considered threatened , turtles and *UNKNOWN* are at a much higher risk of extinction than many other *UNKNOWN* .\n",
      " - of the 263 species of *UNKNOWN* and *UNKNOWN* turtles , 117 species are considered threatened , 73 are either endangered or critically endangered and 1 is *UNKNOWN* .\n",
      " - of the 58 species belonging to the *UNKNOWN* family , 33 species are threatened , 18 are either endangered or critically endangered , 1 is *UNKNOWN* in the wild and 7 species are *UNKNOWN* .\n",
      " - 71 % of all *UNKNOWN* species are either gone or almost gone .\n",
      " - *UNKNOWN* species are the most endangered , closely followed by the five endemic species from *UNKNOWN* .\n",
      " - turtles face many threats , including habitat destruction , harvesting for consumption , and the pet trade .\n",
      " - the high extinction risk for *UNKNOWN* species is primarily due to the long-term unsustainable exploitation of turtles and *UNKNOWN* for consumption and traditional *UNKNOWN* medicine , and to a lesser extent for the international pet trade .\n",
      " - nonetheless , wild turtles continue to be caught and sent to market in large number *UNKNOWN* as well as to turtle farms , to be used as breeding stock\n",
      " - see also\n",
      " - animal track\n",
      " - cultural depictions of turtles\n",
      " - symposium on turtle evolution\n",
      " - notes\n",
      " - references\n",
      " - further reading\n",
      " - external links\n",
      " - *UNKNOWN* and *UNKNOWN* of the *UNKNOWN* *UNKNOWN* *UNKNOWN* , maps *UNKNOWN*\n",
      " - new scientist article *UNKNOWN* including video *UNKNOWN* on how the turtle evolved its shell\n",
      "\n"
     ]
    },
    {
     "data": {
      "text/plain": [
       "DefaultDict{Int64,Array{Int64,1},Function} with 2 entries:\n",
       "  0 => [85,86,87,88,89,90,91,92,93,94,95,96,97,98,99,100,101,102,104,105,106,107,108,109,110,111,11…\n",
       "  1 => [1,2,3,4,5,6,7,8,9,10,11,12,13,14,15,16,17,18,19,20,21,22,23,24,25,26,27,28,29,30,31,32,33,3…"
      ]
     },
     "execution_count": 273,
     "metadata": {},
     "output_type": "execute_result"
    }
   ],
   "source": [
    "ENV[\"COLUMNS\"]=100\n",
    "labels = hmm[:predict](ps)\n",
    "clusters = show_clusters(phrases, labels)"
   ]
  },
  {
   "cell_type": "code",
   "execution_count": 266,
   "metadata": {
    "collapsed": false
   },
   "outputs": [
    {
     "ename": "LoadError",
     "evalue": "DimensionMismatch(\"dot product arguments have lengths 100 and 50\")\nwhile loading In[266], in expression starting on line 2",
     "output_type": "error",
     "traceback": [
      "DimensionMismatch(\"dot product arguments have lengths 100 and 50\")\nwhile loading In[266], in expression starting on line 2",
      "",
      " in dot at linalg/blas.jl:146",
      " in neighbour_sims at /home/wheel/oxinabox/phd/prototypes/word-embeddings2/WordEmbeddings.jl:70",
      " in show_best at /home/wheel/oxinabox/phd/prototypes/word-embeddings2/WordEmbeddings.jl:75",
      " in show_bests at /home/wheel/oxinabox/phd/prototypes/word-embeddings2/WordEmbeddings.jl:82"
     ]
    }
   ],
   "source": [
    "wes, states = hmm[:sample](12)\n",
    "bests = show_bests(we, wes',1);\n",
    "@pipe bests[1,1:2:end][:] |> join(_, ' ')"
   ]
  },
  {
   "cell_type": "code",
   "execution_count": null,
   "metadata": {
    "collapsed": true
   },
   "outputs": [],
   "source": []
  }
 ],
 "metadata": {
  "kernelspec": {
   "display_name": "Julia 0.3.9-pre",
   "language": "julia",
   "name": "julia-0.3"
  },
  "language_info": {
   "name": "julia",
   "version": "0.3.9"
  }
 },
 "nbformat": 4,
 "nbformat_minor": 0
}
