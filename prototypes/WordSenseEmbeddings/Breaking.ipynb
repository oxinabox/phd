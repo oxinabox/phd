{
 "cells": [
  {
   "cell_type": "code",
   "execution_count": 16,
   "metadata": {
    "collapsed": false
   },
   "outputs": [
    {
     "data": {
      "text/plain": [
       "get_motions_V"
      ]
     },
     "execution_count": 16,
     "metadata": {},
     "output_type": "execute_result"
    }
   ],
   "source": [
    "\"\"\"\n",
    "Returns a Vector of vectors for the movement of every point, given the forces vector of vectors\n",
    "If no break occurs then there will be only one motion returned\n",
    "\"\"\"\n",
    "function get_motions_V(forces::Vector{Vector{Float64}}, strength)\n",
    "\n",
    "    ndims = length(forces[1])\n",
    "    nforces = length(forces)\n",
    "    motions = map(similar,forces)    \n",
    "    \n",
    "    for dim in 1:ndims\n",
    "        north_force = 0.0\n",
    "        south_force = 0.0\n",
    "        for f_ii in 1:nforces\n",
    "            force = forces[f_ii][dim]\n",
    "            if force>0.0\n",
    "                north_force+=force\n",
    "            else\n",
    "                south_force+=force\n",
    "            end\n",
    "        end\n",
    "        tension = 2*min(north_force, south_force) #This is the resisted force. It that can break, rather than move. \n",
    "        if tension>strength\n",
    "\n",
    "            for f_ii in 1:nforces\n",
    "                force = forces[f_ii]\n",
    "                if force>0.0\n",
    "                    motion[f_ii][dim] = (north_force-strength) \n",
    "                else\n",
    "                    motion[f_ii][dim] = (strength-south_force) \n",
    "                end\n",
    "            end \n",
    "        else\n",
    "            #does not break, so all forces apply same motion\n",
    "            for f_ii in 1:nforces\n",
    "                motions[f_ii][dim] = (north_force-strength)                 \n",
    "            end          \n",
    "        end\n",
    "    end\n",
    "    #Find unique motion rows.\n",
    "    #These corespond to all the new points\n",
    "    unique(motions)\n",
    "end"
   ]
  },
  {
   "cell_type": "code",
   "execution_count": 2,
   "metadata": {
    "collapsed": false,
    "scrolled": true
   },
   "outputs": [
    {
     "data": {
      "text/plain": [
       "get_motions"
      ]
     },
     "execution_count": 2,
     "metadata": {},
     "output_type": "execute_result"
    }
   ],
   "source": [
    "\"\"\"\n",
    "Returns a column for the movement of every point, given the forces matrix.\n",
    "If no break occurs then there will be only one motion returned\n",
    "\"\"\"\n",
    "function get_motions(forces::Matrix, strength)\n",
    "    motion = similar(forces)\n",
    "    \n",
    "    for dim in 1:size(forces,1)\n",
    "        is_north = forces[dim,:].>0\n",
    "        north_force = sum(forces[dim,is_north])\n",
    "        south_force = -sum(forces[dim,!is_north])\n",
    "        @assert(north_force>=0)\n",
    "        @assert(south_force>=0)\n",
    "        \n",
    "        tension = 2*min(north_force, south_force) #This is the resisted force. It that can break, rather than move. \n",
    "        if tension>strength\n",
    "            #breaks, so north forces will go one way, and south the other\n",
    "            motion[dim,is_north]=(north_force-strength) #/sum(is_north)\n",
    "            motion[dim,!is_north]=(strength-south_force)  #/sum(!is_north)\n",
    "        else\n",
    "            #does not break, so all forces apply same motion\n",
    "            motion[dim,:]=(north_force-south_force)     #/size(forces,1)\n",
    "        end\n",
    "    end\n",
    "    #Find unique motion rows.\n",
    "    #These corespond to all the new points\n",
    "    unique(motion,2)\n",
    "end"
   ]
  },
  {
   "cell_type": "code",
   "execution_count": 26,
   "metadata": {
    "collapsed": false
   },
   "outputs": [
    {
     "data": {
      "text/plain": [
       "get_motions_T"
      ]
     },
     "execution_count": 26,
     "metadata": {},
     "output_type": "execute_result"
    }
   ],
   "source": [
    "\"\"\"\n",
    "Returns a column for the movement of every point, given the forces matrix.\n",
    "If no break occurs then there will be only one motion returned\n",
    "\"\"\"\n",
    "function get_motions_T(forces::Matrix, strength)\n",
    "    motion = similar(forces)\n",
    "    \n",
    "    for dim in 1:size(forces,2)\n",
    "        is_north = forces[:,dim].>0\n",
    "        north_force = sum(forces[is_north,dim])\n",
    "        south_force = -sum(forces[!is_north,dim])\n",
    "        @assert(north_force>=0)\n",
    "        @assert(south_force>=0)\n",
    "        \n",
    "        tension = 2*min(north_force, south_force) #This is the resisted force. It that can break, rather than move. \n",
    "        if tension>strength\n",
    "            #breaks, so north forces will go one way, and south the other\n",
    "            motion[is_north, dim]=(north_force-strength) #/sum(is_north)\n",
    "            motion[!is_north, dim]=(strength-south_force)  #/sum(!is_north)\n",
    "        else\n",
    "            #does not break, so all forces apply same motion\n",
    "            motion[:,dim]=(north_force-south_force)     #/size(forces,1)\n",
    "        end\n",
    "    end\n",
    "    #Find unique motion rows.\n",
    "    #These corespond to all the new points\n",
    "    unique(motion,1)\n",
    "end"
   ]
  },
  {
   "cell_type": "code",
   "execution_count": 30,
   "metadata": {
    "collapsed": false
   },
   "outputs": [
    {
     "name": "stderr",
     "output_type": "stream",
     "text": [
      "WARNING: Method definition test_vectors() in module Main at In[21]:2 overwritten at In[30]:2.\n"
     ]
    },
    {
     "data": {
      "text/plain": [
       "test_vectors (generic function with 1 method)"
      ]
     },
     "execution_count": 30,
     "metadata": {},
     "output_type": "execute_result"
    }
   ],
   "source": [
    "function test_vectors()\n",
    "    for round in 1:100\n",
    "\n",
    "        forces = Vector{Float64}[rand(300) for ii in 1:500]\n",
    "        get_motions_V(forces, 0.4)\n",
    "    end\n",
    "end"
   ]
  },
  {
   "cell_type": "code",
   "execution_count": 31,
   "metadata": {
    "collapsed": false
   },
   "outputs": [
    {
     "name": "stderr",
     "output_type": "stream",
     "text": [
      "WARNING: Method definition test_matrixes() in module Main at In[23]:2 overwritten at In[31]:2.\n"
     ]
    },
    {
     "data": {
      "text/plain": [
       "test_matrixes (generic function with 1 method)"
      ]
     },
     "execution_count": 31,
     "metadata": {},
     "output_type": "execute_result"
    }
   ],
   "source": [
    "function test_matrixes()\n",
    "    for round in 1:100\n",
    "        forces  = rand(300,1)\n",
    "        for ii in 1:500-1\n",
    "            forces = [forces rand(300,1)]\n",
    "        end\n",
    "        get_motions(forces, 0.4)\n",
    "    end\n",
    "end"
   ]
  },
  {
   "cell_type": "code",
   "execution_count": 32,
   "metadata": {
    "collapsed": false
   },
   "outputs": [
    {
     "name": "stderr",
     "output_type": "stream",
     "text": [
      "WARNING: Method definition test_matrixes_T() in module Main at In[27]:2 overwritten at In[32]:2.\n"
     ]
    },
    {
     "data": {
      "text/plain": [
       "test_matrixes_T (generic function with 1 method)"
      ]
     },
     "execution_count": 32,
     "metadata": {},
     "output_type": "execute_result"
    }
   ],
   "source": [
    "function test_matrixes_T()\n",
    "    for round in 1:100\n",
    "        forces  = rand(1,300)\n",
    "        for ii in 1:500-1\n",
    "            forces = [forces; rand(1,300)]\n",
    "        end\n",
    "        get_motions_T(forces, 0.4)\n",
    "    end\n",
    "end"
   ]
  },
  {
   "cell_type": "code",
   "execution_count": 33,
   "metadata": {
    "collapsed": false,
    "scrolled": true
   },
   "outputs": [
    {
     "name": "stdout",
     "output_type": "stream",
     "text": [
      " 17.366846 seconds (976.06 k allocations: 28.728 GB, 12.79% gc time)\n"
     ]
    }
   ],
   "source": [
    "gc()\n",
    "@time test_matrixes()"
   ]
  },
  {
   "cell_type": "code",
   "execution_count": 34,
   "metadata": {
    "collapsed": false
   },
   "outputs": [
    {
     "name": "stdout",
     "output_type": "stream",
     "text": [
      "  1.697552 seconds (113.49 k allocations: 245.501 MB, 2.40% gc time)\n"
     ]
    }
   ],
   "source": [
    "gc()\n",
    "@time test_vectors()"
   ]
  },
  {
   "cell_type": "code",
   "execution_count": 35,
   "metadata": {
    "collapsed": false
   },
   "outputs": [
    {
     "name": "stdout",
     "output_type": "stream",
     "text": [
      " 17.362118 seconds (1.13 M allocations: 28.734 GB, 12.68% gc time)\n"
     ]
    }
   ],
   "source": [
    "gc()\n",
    "@time test_matrixes_T()"
   ]
  },
  {
   "cell_type": "code",
   "execution_count": null,
   "metadata": {
    "collapsed": true
   },
   "outputs": [],
   "source": []
  },
  {
   "cell_type": "code",
   "execution_count": null,
   "metadata": {
    "collapsed": false
   },
   "outputs": [],
   "source": [
    "function move!(wordsense_embeddings::Matrix,\n",
    "    wordsense_col::Int,\n",
    "               motions::Matrix)\n",
    "    cur_pos=wordsense_embeddings[:,wordsense_col]\n",
    "    @show motions\n",
    "    @show cur_pos\n",
    "    new_points = motions .+ cur_pos\n",
    "    #PREM-OPT: The code below works for any number of new points. But if there is only one new point (i.e. no split occured), then we can just replacer the current single point\n",
    "    other_senses = wordsense_embeddings[:,[1:wordsense_col-1;wordsense_col+1:end]]\n",
    "    wordsense_embeddings = [other_senses new_points]\n",
    "end"
   ]
  },
  {
   "cell_type": "code",
   "execution_count": null,
   "metadata": {
    "collapsed": false
   },
   "outputs": [],
   "source": [
    "word_embeddings = Dict{AbstractString,Matrix}()\n",
    "word_embeddings[\"Hi\"]=[1. 0; 0 1; 2 3]' #One column per word sense\n",
    "fs = [1. 2; -1 -2; -0.5 -1; -0.5 0]'\n",
    "ms=get_motions(fs,2)\n",
    "move!(word_embeddings[\"Hi\"],2,ms)"
   ]
  },
  {
   "cell_type": "code",
   "execution_count": null,
   "metadata": {
    "collapsed": true
   },
   "outputs": [],
   "source": []
  },
  {
   "cell_type": "code",
   "execution_count": null,
   "metadata": {
    "collapsed": true
   },
   "outputs": [],
   "source": []
  }
 ],
 "metadata": {
  "kernelspec": {
   "display_name": "Julia 0.5.0-dev",
   "language": "julia",
   "name": "julia-0.5"
  },
  "language_info": {
   "file_extension": ".jl",
   "mimetype": "application/julia",
   "name": "julia",
   "version": "0.5.0"
  }
 },
 "nbformat": 4,
 "nbformat_minor": 0
}
