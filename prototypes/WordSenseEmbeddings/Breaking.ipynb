{
 "cells": [
  {
   "cell_type": "code",
   "execution_count": 27,
   "metadata": {
    "collapsed": false,
    "scrolled": true
   },
   "outputs": [
    {
     "data": {
      "text/plain": [
       "get_motions (generic function with 1 method)"
      ]
     },
     "execution_count": 27,
     "metadata": {},
     "output_type": "execute_result"
    }
   ],
   "source": [
    "\"\"\"\n",
    "Returns a column for the movement of every point, given the forces matrix.\n",
    "If no break occurs then there will be only one motion returned\n",
    "\"\"\"\n",
    "function get_motions(forces::Matrix, strength)\n",
    "    motion = similar(forces)\n",
    "    \n",
    "    for dim in 1:size(forces,1)\n",
    "        is_north = forces[dim,:].>0\n",
    "        north_force = sum(forces[dim,is_north])\n",
    "        south_force = -sum(forces[dim,!is_north])\n",
    "        @assert(north_force>=0)\n",
    "        @assert(south_force>=0)\n",
    "        \n",
    "        tension = 2*min(north_force, south_force) #This is the resisted force. It that can break, rather than move. \n",
    "        if tension>strength\n",
    "            #breaks, so north forces will go one way, and south the other\n",
    "            motion[dim,is_north]=(north_force-strength) #/sum(is_north)\n",
    "            motion[dim,!is_north]=(strength-south_force)  #/sum(!is_north)\n",
    "        else\n",
    "            #does not break, so all forces apply same motion\n",
    "            motion[dim,:]=(north_force-south_force)     #/size(forces,1)\n",
    "        end\n",
    "    end\n",
    "    #Find unique motion rows.\n",
    "    #These corespond to all the new points\n",
    "    unique(motion,2)\n",
    "end"
   ]
  },
  {
   "cell_type": "code",
   "execution_count": 35,
   "metadata": {
    "collapsed": false
   },
   "outputs": [
    {
     "data": {
      "text/plain": [
       "move! (generic function with 1 method)"
      ]
     },
     "execution_count": 35,
     "metadata": {},
     "output_type": "execute_result"
    }
   ],
   "source": [
    "function move!(wordsense_embeddings::Matrix,\n",
    "    wordsense_col::Int,\n",
    "               motions::Matrix)\n",
    "    cur_pos=wordsense_embeddings[:,wordsense_col]\n",
    "    @show motions\n",
    "    @show cur_pos\n",
    "    new_points = motions .+ cur_pos\n",
    "    #PREM-OPT: The code below works for any number of new points. But if there is only one new point (i.e. no split occured), then we can just replacer the current single point\n",
    "    other_senses = wordsense_embeddings[:,[1:wordsense_col-1;wordsense_col+1:end]]\n",
    "    wordsense_embeddings = [other_senses new_points]\n",
    "end"
   ]
  },
  {
   "cell_type": "code",
   "execution_count": 36,
   "metadata": {
    "collapsed": false
   },
   "outputs": [
    {
     "name": "stdout",
     "output_type": "stream",
     "text": [
      "motions = [-1.0 -1.0\n",
      " 0.0 -1.0]"
     ]
    },
    {
     "data": {
      "text/plain": [
       "2x4 Array{Float64,2}:\n",
       " 1.0  2.0  -1.0  -1.0\n",
       " 0.0  3.0   1.0   0.0"
      ]
     },
     "execution_count": 36,
     "metadata": {},
     "output_type": "execute_result"
    },
    {
     "name": "stdout",
     "output_type": "stream",
     "text": [
      "\n",
      "cur_pos = [0.0,1.0]\n"
     ]
    }
   ],
   "source": [
    "word_embeddings = Dict{AbstractString,Matrix}()\n",
    "word_embeddings[\"Hi\"]=[1. 0; 0 1; 2 3]' #One column per word sense\n",
    "fs = [1. 2; -1 -2; -0.5 -1; -0.5 0]'\n",
    "ms=get_motions(fs,2)\n",
    "move!(word_embeddings[\"Hi\"],2,ms)"
   ]
  },
  {
   "cell_type": "code",
   "execution_count": null,
   "metadata": {
    "collapsed": true
   },
   "outputs": [],
   "source": []
  },
  {
   "cell_type": "code",
   "execution_count": null,
   "metadata": {
    "collapsed": true
   },
   "outputs": [],
   "source": []
  }
 ],
 "metadata": {
  "kernelspec": {
   "display_name": "Julia 0.5.0-dev",
   "language": "julia",
   "name": "julia-0.5"
  },
  "language_info": {
   "file_extension": ".jl",
   "mimetype": "application/julia",
   "name": "julia",
   "version": "0.5.0"
  }
 },
 "nbformat": 4,
 "nbformat_minor": 0
}
