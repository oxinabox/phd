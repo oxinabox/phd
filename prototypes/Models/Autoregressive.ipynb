{
 "cells": [
  {
   "cell_type": "code",
   "execution_count": 1,
   "metadata": {
    "collapsed": true
   },
   "outputs": [],
   "source": [
    "using Iterators\n",
    "using Pipe\n",
    "\n",
    "macro hcat(expr)\n",
    "    :(hcat($expr...))\n",
    "end\n",
    "macro vcat(expr)\n",
    "    :(vcat($expr...))\n",
    "end\n",
    "\n",
    "\n",
    "\n",
    "macro printval(ee)\n",
    "    ee_expr = @sprintf \"%s\" string(ee)\n",
    "    esc(:(println($ee_expr,\" = \", $ee)))\n",
    "end\n",
    "\n",
    "macro pz(ee)\n",
    "    ee_expr = @sprintf \"%s\" string(ee)\n",
    "    esc(:(println($ee_expr,\"\\t\\t\",typeof($ee), \"\\t\", size($ee))))\n",
    "end"
   ]
  },
  {
   "cell_type": "code",
   "execution_count": 2,
   "metadata": {
    "collapsed": false
   },
   "outputs": [],
   "source": [
    "using StatsBase\n",
    "using SpecialMatrices"
   ]
  },
  {
   "cell_type": "code",
   "execution_count": 3,
   "metadata": {
    "collapsed": false
   },
   "outputs": [
    {
     "data": {
      "text/plain": [
       "push! (generic function with 32 methods)"
      ]
     },
     "execution_count": 3,
     "metadata": {},
     "output_type": "execute_result"
    }
   ],
   "source": [
    "import Base.push!\n",
    "function push!(X::Matrix, x::Vector)\n",
    "    ncols = size(X, 2)\n",
    "    for col=2:ncols\n",
    "        X[:, col-1] = X[:, col]\n",
    "    end\n",
    "    X[:,end]=x\n",
    "    X\n",
    "end"
   ]
  },
  {
   "cell_type": "code",
   "execution_count": null,
   "metadata": {
    "collapsed": false
   },
   "outputs": [],
   "source": []
  },
  {
   "cell_type": "code",
   "execution_count": 4,
   "metadata": {
    "collapsed": false
   },
   "outputs": [
    {
     "data": {
      "text/plain": [
       "lab2_ar_signal! (generic function with 1 method)"
      ]
     },
     "execution_count": 4,
     "metadata": {},
     "output_type": "execute_result"
    }
   ],
   "source": [
    "function random_walk1!(xs::Matrix)\n",
    "    step = rand(-1:1,size(xs,1))\n",
    "    new_x = xs[:,end]+step\n",
    "    push!(xs,new_x)\n",
    "end\n",
    "\n",
    "function lab2_ar_signal!(xs)\n",
    "    u = randn(size(xs,1))\n",
    "    new_x = 1.8xs[end]-0.81xs[end-1]+0.1u\n",
    "    push!(xs,new_x)\n",
    "end\n"
   ]
  },
  {
   "cell_type": "code",
   "execution_count": 5,
   "metadata": {
    "collapsed": false
   },
   "outputs": [
    {
     "data": {
      "text/plain": [
       "get_samples (generic function with 2 methods)"
      ]
     },
     "execution_count": 5,
     "metadata": {},
     "output_type": "execute_result"
    }
   ],
   "source": [
    "function get_samples!(transfer!::Function, xs::Matrix)\n",
    "    for _ in 1:size(xs,2)\n",
    "        transfer!(xs)\n",
    "    end\n",
    "    xs\n",
    "end\n",
    "function get_samples(transfer!::Function, n::Int, k::Int=1)\n",
    "    xs = zeros(k,n)\n",
    "    get_samples!(transfer!,xs)\n",
    "end"
   ]
  },
  {
   "cell_type": "code",
   "execution_count": null,
   "metadata": {
    "collapsed": true
   },
   "outputs": [],
   "source": []
  },
  {
   "cell_type": "code",
   "execution_count": 6,
   "metadata": {
    "collapsed": false
   },
   "outputs": [
    {
     "data": {
      "text/plain": [
       "yule_walker_fit_AR (generic function with 1 method)"
      ]
     },
     "execution_count": 6,
     "metadata": {},
     "output_type": "execute_result"
    }
   ],
   "source": [
    "function yule_walker_fit_AR(xs::Vector, p::Int)\n",
    "    γ=autocor(xs,0:p,demean=true)\n",
    "    γ_sym = [γ[end:-1:1], γ[2:end]] #Autocovarience is syemtrical about zero\n",
    "    Γ = Toeplitz(γ_sym[2:end-1])  #Don't use p and -p indexes, in the gamma\n",
    "    full(Γ)\\γ[2:end]\n",
    "end"
   ]
  },
  {
   "cell_type": "code",
   "execution_count": 7,
   "metadata": {
    "collapsed": false
   },
   "outputs": [
    {
     "data": {
      "text/plain": [
       "2-element Array{Number,1}:\n",
       "  1.4445  \n",
       " -0.454494"
      ]
     },
     "execution_count": 7,
     "metadata": {},
     "output_type": "execute_result"
    }
   ],
   "source": [
    "xs = get_samples(lab2_ar_signal!,100)[:];\n",
    "yule_walker_fit_AR(xs, 2)"
   ]
  },
  {
   "cell_type": "code",
   "execution_count": null,
   "metadata": {
    "collapsed": false
   },
   "outputs": [],
   "source": []
  },
  {
   "cell_type": "code",
   "execution_count": null,
   "metadata": {
    "collapsed": true
   },
   "outputs": [],
   "source": []
  },
  {
   "cell_type": "markdown",
   "metadata": {},
   "source": [
    "$$y_{t}=c+A_{1}y_{{t-1}}+A_{2}y_{{t-2}}+\\cdots +A_{p}y_{{t-p}}+e_{t},\\,$$\n",
    "\n",
    "Where each $y_i$ is a vector of length $k$ and each $A_i$ is a $k × k$ matrix.\n",
    "\n",
    "$${\\begin{bmatrix}y_{{1,t}}\\\\y_{{2,t}}\\\\\\vdots \\\\y_{{k,t}}\\end{bmatrix}}={\\begin{bmatrix}c_{{1}}\\\\c_{{2}}\\\\\\vdots \\\\c_{{k}}\\end{bmatrix}}+{\\begin{bmatrix}a_{{1,1}}^{1}&a_{{1,2}}^{1}&\\cdots &a_{{1,k}}^{1}\\\\a_{{2,1}}^{1}&a_{{2,2}}^{1}&\\cdots &a_{{2,k}}^{1}\\\\\\vdots &\\vdots &\\ddots &\\vdots \\\\a_{{k,1}}^{1}&a_{{k,2}}^{1}&\\cdots &a_{{k,k}}^{1}\\end{bmatrix}}{\\begin{bmatrix}y_{{1,t-1}}\\\\y_{{2,t-1}}\\\\\\vdots \\\\y_{{k,t-1}}\\end{bmatrix}}+\\cdots +{\\begin{bmatrix}a_{{1,1}}^{p}&a_{{1,2}}^{p}&\\cdots &a_{{1,k}}^{p}\\\\a_{{2,1}}^{p}&a_{{2,2}}^{p}&\\cdots &a_{{2,k}}^{p}\\\\\\vdots &\\vdots &\\ddots &\\vdots \\\\a_{{k,1}}^{p}&a_{{k,2}}^{p}&\\cdots &a_{{k,k}}^{p}\\end{bmatrix}}{\\begin{bmatrix}y_{{1,t-p}}\\\\y_{{2,t-p}}\\\\\\vdots \\\\y_{{k,t-p}}\\end{bmatrix}}+{\\begin{bmatrix}e_{{1,t}}\\\\e_{{2,t}}\\\\\\vdots \\\\e_{{k,t}}\\end{bmatrix}}$$"
   ]
  },
  {
   "cell_type": "code",
   "execution_count": null,
   "metadata": {
    "collapsed": false
   },
   "outputs": [],
   "source": []
  },
  {
   "cell_type": "code",
   "execution_count": 8,
   "metadata": {
    "collapsed": false
   },
   "outputs": [
    {
     "data": {
      "text/plain": [
       "least_squares_fit (generic function with 1 method)"
      ]
     },
     "execution_count": 8,
     "metadata": {},
     "output_type": "execute_result"
    }
   ],
   "source": [
    "function get_next(ys::NumericMatrix, c::NumericVector, As::Vector{NumericMatrix})\n",
    "    yn = c\n",
    "    for t in 1:length(As)\n",
    "        yn+=As[t]*ys[:,end-t+1] \n",
    "    end\n",
    "    yn\n",
    "end\n",
    "function applyTransition!(ys::NumericMatrix, c::NumericVector, As::Vector{NumericMatrix})\n",
    "    yn = get_next(ys,c,As)\n",
    "    push!(ys,yn)\n",
    "end\n",
    "\n",
    "function least_squares_fit(ys::Matrix, p::Int)\n",
    "    #Each colunmf of ys is a differnt point in time\n",
    "    #Each row of ys is a differen variable\n",
    "    #ys is first observation first\n",
    "    #Y=BZ + U, B= [c A_1 A_2 ...]\n",
    "    nVars, nObservationsTotal = size(ys)\n",
    "    nObservations = nObservationsTotal-p\n",
    "    \n",
    "    Y = ys[:,p+1:end] #end is the most recent observation\n",
    "    Z_col(t) = [1; vec(ys[:, p+t:-1: t+1])]\n",
    "    Z = hcat([Z_col(t) for t in 0:nObservations-1]...)\n",
    "    B̂=Y*Z'*(pinv(Z*Z'))\n",
    "    \n",
    "    Ŷ=B̂*Z\n",
    "    R²=cor(vec(Y),vec(Ŷ))^2\n",
    "        \n",
    "    c=B̂[:,1]\n",
    "    function A(t)\n",
    "        start = 1+(t-1)*nVars\n",
    "        B̂[:,1+start:start+nVars]\n",
    "    end\n",
    "\n",
    "    (c, map(A, 1:p), R²)\n",
    "end"
   ]
  },
  {
   "cell_type": "code",
   "execution_count": 9,
   "metadata": {
    "collapsed": false
   },
   "outputs": [
    {
     "data": {
      "text/plain": [
       "v_motion (generic function with 1 method)"
      ]
     },
     "execution_count": 9,
     "metadata": {},
     "output_type": "execute_result"
    }
   ],
   "source": [
    "function constant_velocity_motion!(ys::Matrix, v::Vector)\n",
    "    yn = ys[:,end].+v + 0.1randn(length(v))\n",
    "    push!(ys,yn)\n",
    "end\n",
    "\n",
    "function motion(ys::Matrix)\n",
    "    #x = ys[1,\n",
    "    #v = ys[2,\n",
    "    #a = ys[3,\n",
    "    A= [1 1 0; 0 1 1; 0 0 1]\n",
    "    yn = A*ys[:,end] + 1*randn(3)\n",
    "    push!(ys,yn)\n",
    "end\n",
    "\n",
    "\n",
    "function v_motion(ys::Matrix)\n",
    "    v = ys[:,end]- ys[:,end-1]\n",
    "    yn = ys[:,end]+v + 0.1randn(length(v))\n",
    "    push!(ys,yn)\n",
    "end"
   ]
  },
  {
   "cell_type": "code",
   "execution_count": 10,
   "metadata": {
    "collapsed": false
   },
   "outputs": [
    {
     "data": {
      "text/plain": [
       "([-0.213747,-0.0822762,2.99581],[\n",
       "3x3 Array{Number,2}:\n",
       "  1.0002        0.995903    0.056392\n",
       " -1.0723e-5     0.999717    1.01518 \n",
       " -0.000141832  -0.00257041  0.74435 ],0.9999998755369578)"
      ]
     },
     "execution_count": 10,
     "metadata": {},
     "output_type": "execute_result"
    }
   ],
   "source": [
    "ys = [zeros(3,50) [0; 0; 9.8] ]\n",
    "get_samples!(motion, ys)\n",
    "least_squares_fit(ys, 1)"
   ]
  },
  {
   "cell_type": "code",
   "execution_count": null,
   "metadata": {
    "collapsed": false
   },
   "outputs": [],
   "source": []
  },
  {
   "cell_type": "code",
   "execution_count": null,
   "metadata": {
    "collapsed": false
   },
   "outputs": [],
   "source": []
  },
  {
   "cell_type": "code",
   "execution_count": 11,
   "metadata": {
    "collapsed": false
   },
   "outputs": [
    {
     "name": "stderr",
     "output_type": "stream",
     "text": [
      "/usr/local/lib/python2.7/dist-packages/nltk/app/__init__.py:45: UserWarning: nltk.app.wordfreq not loaded (requires the pylab library).\n",
      "  warnings.warn(\"nltk.app.wordfreq not loaded \"\n"
     ]
    },
    {
     "data": {
      "text/plain": [
       "tokenize (generic function with 1 method)"
      ]
     },
     "execution_count": 11,
     "metadata": {},
     "output_type": "execute_result"
    }
   ],
   "source": [
    "using PyCall\n",
    "@pyimport nltk\n",
    "function tokenize(sentence::String)\n",
    "    convert(Array{String,1},nltk.word_tokenize(sentence))\n",
    "end"
   ]
  },
  {
   "cell_type": "code",
   "execution_count": 12,
   "metadata": {
    "collapsed": false
   },
   "outputs": [
    {
     "data": {
      "text/plain": [
       "3-element Array{Union(ASCIIString,UTF8String),1}:\n",
       " \"/root/buildFromSource/julia/usr/local/share/julia/site/v0.3\"\n",
       " \"/root/buildFromSource/julia/usr/share/julia/site/v0.3\"      \n",
       " \"../word-embeddings2\"                                        "
      ]
     },
     "execution_count": 12,
     "metadata": {},
     "output_type": "execute_result"
    }
   ],
   "source": [
    "push!(LOAD_PATH, \"../word-embeddings2\")\n",
    "using WordEmbeddings"
   ]
  },
  {
   "cell_type": "code",
   "execution_count": 13,
   "metadata": {
    "collapsed": false
   },
   "outputs": [],
   "source": [
    "\n",
    "we = @pipe load_embeddings(\"../word-embeddings2/embeddings-scaled.EMBEDDING_SIZE=50.txt\") |> WE(_...);\n"
   ]
  },
  {
   "cell_type": "code",
   "execution_count": null,
   "metadata": {
    "collapsed": false
   },
   "outputs": [],
   "source": []
  },
  {
   "cell_type": "code",
   "execution_count": 14,
   "metadata": {
    "collapsed": false
   },
   "outputs": [
    {
     "data": {
      "text/plain": [
       "multi_least_squares_fit (generic function with 1 method)"
      ]
     },
     "execution_count": 14,
     "metadata": {},
     "output_type": "execute_result"
    }
   ],
   "source": [
    "function multi_least_squares_fit(yss, p::Int)\n",
    "    #Each colunmf of ys is a differnt point in time\n",
    "    #Each row of ys is a differen variable\n",
    "    #ys is first observation first\n",
    "    #Y=BZ + U, B= [c A_1 A_2 ...]\n",
    "    \n",
    "    function get_model(ys::Matrix)\n",
    "        nVars, nObservationsTotal = size(ys)\n",
    "        nObservations = nObservationsTotal-p\n",
    "        Y = ys[:,p+1:end] #end is the most recent observation\n",
    "        Z_col(t) = [1; vec(ys[:, p+t:-1: t+1])]\n",
    "        Z = hcat([Z_col(t) for t in 0:nObservations-1]...)\n",
    "        Y, Z\n",
    "    end\n",
    "    YZs = map(get_model, yss)\n",
    "    Y=hcat(map(x->x[1],YZs)...)\n",
    "    Z=hcat(map(x->x[2],YZs)...)\n",
    "    B̂=Y*Z'*(pinv(Z*Z'))\n",
    "\n",
    "    Ŷ=B̂*Z\n",
    "    R²=cor(vec(Y),vec(Ŷ))^2\n",
    "        \n",
    "    c=B̂[:,1]\n",
    "    function A(t)\n",
    "        nVars=size(Y,1)\n",
    "        start = 1+(t-1)*nVars\n",
    "        B̂[:,1+start:start+nVars]\n",
    "    end\n",
    "\n",
    "    (c, map(A, 1:p), R²)\n",
    "end"
   ]
  },
  {
   "cell_type": "code",
   "execution_count": 153,
   "metadata": {
    "collapsed": false
   },
   "outputs": [],
   "source": [
    "@pyimport nltk.corpus as nltk_corpus\n",
    "n_training = 20000\n",
    "training_sents = @pipe (nltk_corpus.brown[:sents]() \n",
    "                            |> filter(s->3<length(s)<=6, _) \n",
    "                            #|> filter(s->s[2]==\"was\"||s[2]==\"is\"||s[2]==\"are\",_)\n",
    "                            |> take(_,n_training)  \n",
    "                            |> collect |> convert(Vector{Vector{String}},_));\n",
    "\n"
   ]
  },
  {
   "cell_type": "code",
   "execution_count": 154,
   "metadata": {
    "collapsed": false
   },
   "outputs": [
    {
     "name": "stdout",
     "output_type": "stream",
     "text": [
      "xss\t\tArray{Array{Number,2},1}\t(4090,)\n"
     ]
    }
   ],
   "source": [
    "xss = map(x-> eval_word_embeddings(we,x, false), training_sents);\n",
    "@pz xss"
   ]
  },
  {
   "cell_type": "code",
   "execution_count": 155,
   "metadata": {
    "collapsed": false
   },
   "outputs": [
    {
     "data": {
      "text/plain": [
       "0.5609647936550113"
      ]
     },
     "execution_count": 155,
     "metadata": {},
     "output_type": "execute_result"
    }
   ],
   "source": [
    "c,As, RR = multi_least_squares_fit(xss, 3);\n",
    "RR"
   ]
  },
  {
   "cell_type": "code",
   "execution_count": 156,
   "metadata": {
    "collapsed": false
   },
   "outputs": [],
   "source": [
    "xs = eval_word_embeddings(we, [[\"blue\", \",\", \"green\",]]);"
   ]
  },
  {
   "cell_type": "code",
   "execution_count": 157,
   "metadata": {
    "collapsed": false
   },
   "outputs": [
    {
     "data": {
      "text/plain": [
       "20x2 Array{Any,2}:\n",
       " \".\"           0.95\n",
       " \":\"           0.8 \n",
       " \"?\"           0.78\n",
       " \"...\"         0.77\n",
       " \";\"           0.76\n",
       " \"here\"        0.72\n",
       " \"yesterday.\"  0.71\n",
       " \"away\"        0.71\n",
       " \"today.\"      0.7 \n",
       " \"down.\"       0.7 \n",
       " \"today\"       0.68\n",
       " \"there.\"      0.68\n",
       " \"abroad\"      0.67\n",
       " \"alone\"       0.67\n",
       " \"news.\"       0.66\n",
       " \"-\"           0.66\n",
       " \"said.\"       0.66\n",
       " \"--\"          0.66\n",
       " \"policy.\"     0.65\n",
       " \"later.\"      0.65"
      ]
     },
     "execution_count": 157,
     "metadata": {},
     "output_type": "execute_result"
    }
   ],
   "source": [
    "xn=get_next(xs, c,As)\n",
    "WordEmbeddings.show_best(we, xn)"
   ]
  },
  {
   "cell_type": "code",
   "execution_count": 158,
   "metadata": {
    "collapsed": false
   },
   "outputs": [
    {
     "data": {
      "text/plain": [
       "20x2 Array{Any,2}:\n",
       " \".\"           0.96\n",
       " \";\"           0.83\n",
       " \":\"           0.81\n",
       " \"?\"           0.78\n",
       " \"...\"         0.75\n",
       " \"--\"          0.7 \n",
       " \"alone\"       0.69\n",
       " \"today.\"      0.69\n",
       " \"-\"           0.68\n",
       " \"here\"        0.68\n",
       " \"down.\"       0.67\n",
       " \"because\"     0.67\n",
       " \"away\"        0.65\n",
       " \"yesterday.\"  0.65\n",
       " \"there.\"      0.65\n",
       " \"!\"           0.65\n",
       " \"said.\"       0.64\n",
       " \"here.\"       0.64\n",
       " \"recently.\"   0.63\n",
       " \"that\"        0.63"
      ]
     },
     "execution_count": 158,
     "metadata": {},
     "output_type": "execute_result"
    }
   ],
   "source": [
    "push!(xs,xn)\n",
    "xn=get_next(xs, c,As)\n",
    "WordEmbeddings.show_best(we, xn)"
   ]
  },
  {
   "cell_type": "code",
   "execution_count": null,
   "metadata": {
    "collapsed": true
   },
   "outputs": [],
   "source": []
  }
 ],
 "metadata": {
  "kernelspec": {
   "display_name": "Julia 0.3.9-pre",
   "language": "julia",
   "name": "julia-0.3"
  },
  "language_info": {
   "name": "julia",
   "version": "0.3.9"
  }
 },
 "nbformat": 4,
 "nbformat_minor": 0
}
