{
 "cells": [
  {
   "cell_type": "code",
   "execution_count": null,
   "metadata": {
    "collapsed": false
   },
   "outputs": [],
   "source": [
    "using Pipe\n",
    "push!(LOAD_PATH, \"../word-embeddings2\")\n",
    "using WordEmbeddings\n",
    "we = @pipe load_embeddings(\"../word-embeddings2/word_emb_data/embeddings-scaled.EMBEDDING_SIZE=50.txt\") |> WE(_...);\n"
   ]
  },
  {
   "cell_type": "code",
   "execution_count": 277,
   "metadata": {
    "collapsed": false
   },
   "outputs": [],
   "source": [
    "countries = \"\"\"\n",
    "France\n",
    "Germany\n",
    "England\n",
    "Britain\n",
    "China\n",
    "Australia\n",
    "Japan\n",
    "Peru\n",
    "Brazil\n",
    "USA\n",
    "US\n",
    "United\n",
    "America\n",
    "Canada\n",
    "UK\n",
    "Asia\n",
    "Europe\n",
    "\"\"\"\n",
    "\n",
    "people = \"\"\"\n",
    "men\n",
    "boys\n",
    "girls\n",
    "women\n",
    "man\n",
    "boy\n",
    "girl\n",
    "woman\n",
    "\"\"\"\n",
    "\n",
    "body_parts = \"\"\"\n",
    "hand\n",
    "foot\n",
    "arm\n",
    "leg\n",
    "eye\n",
    "ear\n",
    "tooth\n",
    "chest\n",
    "knee\n",
    "\"\"\"\n",
    "\n",
    "verbs = \"\"\"\n",
    "running\n",
    "jumping\n",
    "hiking\n",
    "fishing\n",
    "sailing\n",
    "diving\n",
    "cycling\n",
    "swimming\n",
    "golfing\n",
    "fighting\n",
    "reading\n",
    "working\n",
    "rowing\n",
    "\"\"\" \n",
    "words = countries |> split;\n",
    "words = convert(Vector{String}, words)\n",
    "xs = eval_word_embeddings(we, words)';\n"
   ]
  },
  {
   "cell_type": "code",
   "execution_count": 269,
   "metadata": {
    "collapsed": false
   },
   "outputs": [
    {
     "data": {
      "text/plain": [
       "show_posterior_prob (generic function with 1 method)"
      ]
     },
     "execution_count": 269,
     "metadata": {},
     "output_type": "execute_result"
    }
   ],
   "source": [
    "function show_posterior_prob(gmm,xs, words)\n",
    "    p_ij = gmm[:predict_proba](xs)\n",
    "    lbl = \n",
    "    order = @pipe findmax(p_ij,2)[2] |> map(ind->ind2sub(size(p_ij),ind)[2],_)\n",
    "    word_indexes = sort([1:length(order);], by=ii->order[ii])\n",
    "    for ii in word_indexes\n",
    "        word = rpad(words[ii],8)\n",
    "        ps = @pipe p_ij[ii,:] |> round(_,2) #|> string |> rpad(_,4,\"0\")\n",
    "        print(gmm[:predict](xs[ii,:]))\n",
    "        print(\"$word\\t|\")\n",
    "        \n",
    "        for p in ps \n",
    "            print(\" $p \")\n",
    "        end\n",
    "        println()\n",
    "    end\n",
    "end"
   ]
  },
  {
   "cell_type": "code",
   "execution_count": 270,
   "metadata": {
    "collapsed": true
   },
   "outputs": [],
   "source": [
    "using PyCall\n",
    "@pyimport sklearn\n",
    "@pyimport sklearn.mixture as sklm"
   ]
  },
  {
   "cell_type": "code",
   "execution_count": 282,
   "metadata": {
    "collapsed": false
   },
   "outputs": [
    {
     "data": {
      "text/plain": [
       "1x2 Array{Float64,2}:\n",
       " 0.764706  0.235294"
      ]
     },
     "execution_count": 282,
     "metadata": {},
     "output_type": "execute_result"
    }
   ],
   "source": [
    "gmm=sklm.GMM(n_components=2, covariance_type=\"full\", n_init=105) \n",
    "gmm[:fit](xs)\n",
    "gmm[:weights_]'"
   ]
  },
  {
   "cell_type": "code",
   "execution_count": 283,
   "metadata": {
    "collapsed": false
   },
   "outputs": [
    {
     "name": "stdout",
     "output_type": "stream",
     "text": [
      "[0]France  \t| 1.0  0.0 \n",
      "[0]Germany \t| 1.0  0.0 \n",
      "[0]England \t| 1.0  0.0 \n",
      "[0]Britain \t| 1.0  0.0 \n",
      "[0]China   \t| 1.0  0.0 \n",
      "[0]Australia\t| 1.0  0.0 \n",
      "[0]Japan   \t| 1.0  0.0 \n",
      "[0]Peru    \t| 1.0  0.0 \n",
      "[0]Brazil  \t| 1.0  0.0 \n",
      "[0]America \t| 1.0  0.0 \n",
      "[0]Canada  \t| 1.0  0.0 \n",
      "[0]Asia    \t| 1.0  0.0 \n",
      "[0]Europe  \t| 1.0  0.0 \n",
      "[1]USA     \t| 0.0  1.0 \n",
      "[1]US      \t| 0.0  1.0 \n",
      "[1]United  \t| 0.0  1.0 \n",
      "[1]UK      \t| 0.0  1.0 \n"
     ]
    }
   ],
   "source": [
    "show_posterior_prob(gmm, xs, words)"
   ]
  },
  {
   "cell_type": "code",
   "execution_count": 284,
   "metadata": {
    "collapsed": false
   },
   "outputs": [
    {
     "name": "stdout",
     "output_type": "stream",
     "text": [
      "log_likelyhood:[85.54531977041921]\n",
      "prediction_prob:[0.0 1.0]\n",
      "label: [1]\n"
     ]
    },
    {
     "data": {
      "text/plain": [
       "20x2 Array{Any,2}:\n",
       " \"US\"       0.95\n",
       " \"4.2\"      0.79\n",
       " \"1.5\"      0.77\n",
       " \"1.2\"      0.77\n",
       " \"2.2\"      0.76\n",
       " \"Chinese\"  0.76\n",
       " \"2.6\"      0.75\n",
       " \"85\"       0.75\n",
       " \"170\"      0.75\n",
       " \"4.5\"      0.74\n",
       " \"110\"      0.74\n",
       " \"89\"       0.74\n",
       " \"HK\"       0.73\n",
       " \"3.9\"      0.73\n",
       " \"270\"      0.73\n",
       " \"34\"       0.73\n",
       " \"2.4\"      0.73\n",
       " \"35\"       0.73\n",
       " \"3.2\"      0.73\n",
       " \"14\"       0.73"
      ]
     },
     "execution_count": 284,
     "metadata": {},
     "output_type": "execute_result"
    }
   ],
   "source": [
    "x=gmm[:sample]()\n",
    "lL, p = gmm[:score_samples](x)\n",
    "println(\"log_likelyhood:\", lL)\n",
    "println(\"prediction_prob:\", round(p,2))\n",
    "println(\"label: \", gmm[:predict](x))\n",
    "show_best(we, x[:])"
   ]
  },
  {
   "cell_type": "code",
   "execution_count": 286,
   "metadata": {
    "collapsed": false
   },
   "outputs": [
    {
     "data": {
      "text/plain": [
       "20x2 Array{Any,2}:\n",
       " \"France\"     \"UK\"           \n",
       " \"Canada\"     \"United\"       \n",
       " \"Japan\"      \"Lippo\"        \n",
       " \"Europe\"     \"Gulf\"         \n",
       " \"Brazil\"     \"Canadian\"     \n",
       " \"India\"      \"European\"     \n",
       " \"Russia\"     \"Dutch\"        \n",
       " \"Germany\"    \"Central\"      \n",
       " \"Mexico\"     \"U.K.\"         \n",
       " \"Britain\"    \"Thai\"         \n",
       " \"China\"      \"Pacific\"      \n",
       " \"Australia\"  \"Hungarian\"    \n",
       " \"Thailand\"   \"Delta\"        \n",
       " \"Malaysia\"   \"International\"\n",
       " \"America\"    \"Western\"      \n",
       " \"Turkey\"     \"Swiss\"        \n",
       " \"Asia\"       \"Commonwealth\" \n",
       " \"Finland\"    \"Chinese\"      \n",
       " \"Pakistan\"   \"Malaysian\"    \n",
       " \"Sweden\"     \"Nordic\"       "
      ]
     },
     "execution_count": 286,
     "metadata": {},
     "output_type": "execute_result"
    }
   ],
   "source": [
    "show_bests(we, gmm[:means_]')[:,1:2:end]"
   ]
  },
  {
   "cell_type": "code",
   "execution_count": null,
   "metadata": {
    "collapsed": true
   },
   "outputs": [],
   "source": []
  }
 ],
 "metadata": {
  "kernelspec": {
   "display_name": "Julia 0.3.9-pre",
   "language": "julia",
   "name": "julia-0.3"
  },
  "language_info": {
   "name": "julia",
   "version": "0.3.9"
  }
 },
 "nbformat": 4,
 "nbformat_minor": 0
}
