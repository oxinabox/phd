{
 "cells": [
  {
   "cell_type": "code",
   "execution_count": 6,
   "metadata": {
    "collapsed": false
   },
   "outputs": [],
   "source": [
    "using Pipe\n",
    "push!(LOAD_PATH, \"../word-embeddings2\")\n",
    "using WordEmbeddings\n",
    "we = @pipe load_embeddings(\"../word-embeddings2/word_emb_data/embeddings-scaled.EMBEDDING_SIZE=50.txt\") |> WE(_...);\n"
   ]
  },
  {
   "cell_type": "code",
   "execution_count": 41,
   "metadata": {
    "collapsed": false
   },
   "outputs": [],
   "source": [
    "words = \"\"\"\n",
    "France\n",
    "Germany\n",
    "England\n",
    "Britan\n",
    "\n",
    "China\n",
    "Australia\n",
    "Japan\n",
    "\n",
    "Peru\n",
    "Brasil\n",
    "USA\n",
    "Canada\n",
    "UK\n",
    "\n",
    "running\n",
    "jumping\n",
    "hiking\n",
    "fishing\n",
    "sailing\n",
    "diving\n",
    "cycling\n",
    "swimming\n",
    "golfing\n",
    "fighting\n",
    "reading\n",
    "working\n",
    "rowing\n",
    "\n",
    "\"\"\" |> split;\n"
   ]
  },
  {
   "cell_type": "code",
   "execution_count": 42,
   "metadata": {
    "collapsed": false
   },
   "outputs": [],
   "source": [
    "words = convert(Vector{String}, words)\n",
    "xs = eval_word_embeddings(we, words)';"
   ]
  },
  {
   "cell_type": "code",
   "execution_count": 28,
   "metadata": {
    "collapsed": false
   },
   "outputs": [
    {
     "data": {
      "text/plain": [
       "show_posterior_prob (generic function with 1 method)"
      ]
     },
     "execution_count": 28,
     "metadata": {},
     "output_type": "execute_result"
    }
   ],
   "source": [
    "function show_posterior_prob(p_ij,xs, words)\n",
    "    order = @pipe findmax(p_ij,2)[2] |> map(ind->ind2sub(size(p_ij),ind)[2],_)\n",
    "    word_indexes = sort([1:length(order);], by=ii->order[ii])\n",
    "    for ii in word_indexes\n",
    "        word = rpad(words[ii],8,\" \")\n",
    "        ps = @pipe p_ij[ii,:] |> round(_,2) #|> string |> rpad(_,4,\"0\")\n",
    "\n",
    "        print(\"$word\\t|  \")\n",
    "        for p in ps \n",
    "            print(\" $p \")\n",
    "        end\n",
    "        println()\n",
    "    end\n",
    "end"
   ]
  },
  {
   "cell_type": "code",
   "execution_count": 71,
   "metadata": {
    "collapsed": false,
    "scrolled": true
   },
   "outputs": [
    {
     "data": {
      "text/plain": [
       "1.8993562176414902"
      ]
     },
     "execution_count": 71,
     "metadata": {},
     "output_type": "execute_result"
    }
   ],
   "source": [
    "using GaussianMixtures\n",
    "gmm=GMM(4, size(xs,2), kind=:diag)\n",
    "gmm.μ = xs[rand(1:size(xs,1),gmm.n),:]\n",
    "\n",
    "#gmm.μ = [xs[1,:]; xs[end,:];]\n",
    "\n",
    "lLs = em!(gmm, xs; nIter=20)\n",
    "#println(lLs)\n",
    "e^lLs[end]"
   ]
  },
  {
   "cell_type": "code",
   "execution_count": 27,
   "metadata": {
    "collapsed": false
   },
   "outputs": [
    {
     "ename": "LoadError",
     "evalue": "gmmposterior not defined\nwhile loading In[27], in expression starting on line 1",
     "output_type": "error",
     "traceback": [
      "gmmposterior not defined\nwhile loading In[27], in expression starting on line 1",
      ""
     ]
    }
   ],
   "source": [
    "p_ij, ll = gmmposterior(gmm, xs)\n",
    "show_posterior_prob(p_ij,xs, words)"
   ]
  },
  {
   "cell_type": "code",
   "execution_count": null,
   "metadata": {
    "collapsed": true
   },
   "outputs": [],
   "source": []
  },
  {
   "cell_type": "code",
   "execution_count": 1,
   "metadata": {
    "collapsed": true
   },
   "outputs": [],
   "source": [
    "\n",
    "using PyCall"
   ]
  },
  {
   "cell_type": "code",
   "execution_count": 2,
   "metadata": {
    "collapsed": false
   },
   "outputs": [],
   "source": [
    "@pyimport sklearn\n",
    "@pyimport sklearn.mixture as sklm\n"
   ]
  },
  {
   "cell_type": "code",
   "execution_count": 51,
   "metadata": {
    "collapsed": false
   },
   "outputs": [
    {
     "data": {
      "text/plain": [
       "PyObject GMM(covariance_type='full', init_params='wmc', min_covar=0.001,\n",
       "  n_components=3, n_init=15, n_iter=100, params='wmc', random_state=None,\n",
       "  thresh=0.01)"
      ]
     },
     "execution_count": 51,
     "metadata": {},
     "output_type": "execute_result"
    }
   ],
   "source": [
    "gmm=sklm.GMM(n_components=3, covariance_type=\"full\", n_init=15) \n",
    "gmm[:fit](xs)"
   ]
  },
  {
   "cell_type": "code",
   "execution_count": 52,
   "metadata": {
    "collapsed": false
   },
   "outputs": [
    {
     "name": "stdout",
     "output_type": "stream",
     "text": [
      "working \t|   1.0  0.0  0.0 \n",
      "reading \t|   1.0  0.0  0.0 \n",
      "fighting\t|   1.0  0.0  0.0 \n",
      "swimming\t|   1.0  0.0  0.0 \n",
      "diving  \t|   1.0  0.0  0.0 \n",
      "sailing \t|   1.0  0.0  0.0 \n",
      "fishing \t|   1.0  0.0  0.0 \n",
      "jumping \t|   1.0  0.0  0.0 \n",
      "running \t|   1.0  0.0  0.0 \n",
      "UK      \t|   0.0  1.0  0.0 \n",
      "France  \t|   0.0  1.0  0.0 \n",
      "Canada  \t|   0.0  1.0  0.0 \n",
      "Peru    \t|   0.0  1.0  0.0 \n",
      "Japan   \t|   0.0  1.0  0.0 \n",
      "Australia\t|   0.0  1.0  0.0 \n",
      "China   \t|   0.0  1.0  0.0 \n",
      "England \t|   0.0  1.0  0.0 \n",
      "Germany \t|   0.0  1.0  0.0 \n",
      "USA     \t|   0.0  0.0  1.0 \n",
      "Brasil  \t|   0.0  0.0  1.0 \n",
      "hiking  \t|   0.0  0.0  1.0 \n",
      "cycling \t|   0.0  0.0  1.0 \n",
      "golfing \t|   0.0  0.0  1.0 \n",
      "Britan  \t|   0.0  0.0  1.0 \n",
      "rowing  \t|   0.0  0.0  1.0 \n"
     ]
    }
   ],
   "source": [
    "p_ij = gmm[:predict_proba](xs)\n",
    "show_posterior_prob(p_ij, xs, words)"
   ]
  },
  {
   "cell_type": "code",
   "execution_count": null,
   "metadata": {
    "collapsed": true
   },
   "outputs": [],
   "source": []
  }
 ],
 "metadata": {
  "kernelspec": {
   "display_name": "Julia 0.3.9-pre",
   "language": "julia",
   "name": "julia-0.3"
  },
  "language_info": {
   "name": "julia",
   "version": "0.3.9"
  }
 },
 "nbformat": 4,
 "nbformat_minor": 0
}
