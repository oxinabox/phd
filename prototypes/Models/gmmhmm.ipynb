{
 "cells": [
  {
   "cell_type": "code",
   "execution_count": 1,
   "metadata": {
    "collapsed": false
   },
   "outputs": [],
   "source": [
    "using Pipe\n",
    "push!(LOAD_PATH, \"../word-embeddings2\")\n",
    "using WordEmbeddings\n",
    "we = @pipe load_embeddings(\"../word-embeddings2/word_emb_data/hlbl-embeddings-scaled.EMBEDDING_SIZE=100.txt\") |> WE(_...);\n",
    "\n"
   ]
  },
  {
   "cell_type": "code",
   "execution_count": 2,
   "metadata": {
    "collapsed": false
   },
   "outputs": [],
   "source": [
    "ENV[\"COLUMNS\"] = 300\n",
    "ENV[\"LINES\"] = 1000\n",
    "#ENV[\"PYTHON\"] = \"python3\"\n",
    "using PyCall"
   ]
  },
  {
   "cell_type": "code",
   "execution_count": 5,
   "metadata": {
    "collapsed": false
   },
   "outputs": [],
   "source": [
    "using Iterators\n",
    "@pyimport nltk.corpus as nltk_corpus\n",
    "n_training = 1000\n",
    "training_sents = @pipe nltk_corpus.brown[:sents]() |> filter(s->0<length(s)<=15, _) |> filter(s->s[end]==\".\", _) |> take(_,n_training)  |> collect |> convert(Vector{Vector{String}},_);\n"
   ]
  },
  {
   "cell_type": "code",
   "execution_count": 6,
   "metadata": {
    "collapsed": false,
    "scrolled": true
   },
   "outputs": [
    {
     "name": "stdout",
     "output_type": "stream",
     "text": [
      "(1000,)\n",
      "(14,100)\n"
     ]
    }
   ],
   "source": [
    "xs = [eval_word_embeddings(we, sent,false)' for sent in training_sents];\n",
    "#xs = [x[end:-1:1,:] for x in xs]; #Make sentences start at the end (read from full stop back towards start)\n",
    "println(size(xs))\n",
    "println(size(xs[1]))"
   ]
  },
  {
   "cell_type": "code",
   "execution_count": 7,
   "metadata": {
    "collapsed": false
   },
   "outputs": [],
   "source": [
    "using PyCall\n",
    "@pyimport numpy\n",
    "@pyimport hmmlearn.hmm as hl_hmm\n",
    "@pyimport warnings\n",
    "warnings.filterwarnings(\"ignore\")\n"
   ]
  },
  {
   "cell_type": "code",
   "execution_count": 8,
   "metadata": {
    "collapsed": false
   },
   "outputs": [
    {
     "data": {
      "text/plain": [
       "PyObject GaussianHMM(algorithm='viterbi', covariance_type='full', covars_prior=0.01,\n",
       "      covars_weight=1,\n",
       "      init_params='abcdefghijklmnopqrstuvwxyzABCDEFGHIJKLMNOPQRSTUVWXYZ',\n",
       "      means_prior=0, means_weight=0, n_components=12, n_iter=10,\n",
       "      params='abcdefghijklmnopqrstuvwxyzABCDEFGHIJKLMNOPQRSTUVWXYZ',\n",
       "      random_state=None, startprob=None, startprob_prior=1.0, thresh=0.01,\n",
       "      transmat=None, transmat_prior=1.0)"
      ]
     },
     "execution_count": 8,
     "metadata": {},
     "output_type": "execute_result"
    }
   ],
   "source": [
    "hmm = hl_hmm.GaussianHMM(12,\"full\")\n",
    "hmm[:fit](xs)"
   ]
  },
  {
   "cell_type": "code",
   "execution_count": 28,
   "metadata": {
    "collapsed": false
   },
   "outputs": [
    {
     "data": {
      "text/plain": [
       "PyObject GaussianHMM(algorithm='viterbi', covariance_type='full', covars_prior=0.01,\n",
       "      covars_weight=1,\n",
       "      init_params='abcdefghijklmnopqrstuvwxyzABCDEFGHIJKLMNOPQRSTUVWXYZ',\n",
       "      means_prior=0, means_weight=0, n_components=12, n_iter=10,\n",
       "      params='abcdefghijklmnopqrstuvwxyzABCDEFGHIJKLMNOPQRSTUVWXYZ',\n",
       "      random_state=None, startprob=None, startprob_prior=1.0, thresh=0.01,\n",
       "      transmat=None, transmat_prior=1.0)"
      ]
     },
     "execution_count": 28,
     "metadata": {},
     "output_type": "execute_result"
    }
   ],
   "source": [
    "n_states =12\n",
    "left_right_tran = [ i<=j ? 1./(n_states-i+1):10.0^-16  for i in 1:n_states, j in 1:n_states]\n",
    "hmm = hl_hmm.GaussianHMM(n_states,\"full\", transmat=left_right_tran)\n",
    "hmm[:fit](xs)"
   ]
  },
  {
   "cell_type": "code",
   "execution_count": 36,
   "metadata": {
    "collapsed": false
   },
   "outputs": [
    {
     "data": {
      "text/plain": [
       "\"ran A depot 23\""
      ]
     },
     "execution_count": 36,
     "metadata": {},
     "output_type": "execute_result"
    }
   ],
   "source": [
    "wes, states = hmm[:sample](4)\n",
    "bests = show_bests(we, wes',1);\n",
    "@pipe bests[1,1:2:end][:] |> join(_, ' ')"
   ]
  },
  {
   "cell_type": "code",
   "execution_count": 35,
   "metadata": {
    "collapsed": false,
    "scrolled": true
   },
   "outputs": [
    {
     "name": "stdout",
     "output_type": "stream",
     "text": [
      "digraph graphname {\n",
      "n1 [label= \"field/tests/lines\n",
      "Start Prob: 0.27\"];\n",
      "n2 [label= \"probably/actually/certainly\n",
      "Start Prob: 0.17\"];\n",
      "n3 [label= \"./../?\"];\n",
      "n4 [label= \"although/Although/where\n",
      "Start Prob: 0.1\"];\n",
      "n5 [label= \",/--/;\n",
      "Start Prob: 0.01\"];\n",
      "n6 [label= \"for/from/including\n",
      "Start Prob: 0.02\"];\n",
      "n7 [label= \"was/*UNKNOWN*/are\n",
      "Start Prob: 0.14\"];\n",
      "n8 [label= \"There/there/...there\n",
      "Start Prob: 0.02\"];\n",
      "n9 [label= \"a/A/another\n",
      "Start Prob: 0.03\"];\n",
      "n10 [label= \"in/In/into\n",
      "Start Prob: 0.02\"];\n",
      "n11 [label= \"own/only/and\n",
      "Start Prob: 0.07\"];\n",
      "n12 [label= \"the/The/entire\n",
      "Start Prob: 0.15\"];\n",
      "n1->n1 [label= \"0.23\", penwidth = \"2.3000000000000003\", weight = \"23\", color = \"0.24117317248990688,1.0,0.5\"];\n",
      "n1->n2 [label= \"0.11\", penwidth = \"1.1\", weight = \"11\", color = \"0.42962575952414706,1.0,0.5\"];\n",
      "n1->n3 [label= \"0.18\", penwidth = \"1.7999999999999998\", weight = \"18\", color = \"0.257379325352332,1.0,0.5\"];\n",
      "n1->n4 [label= \"0.02\", penwidth = \"0.2\", weight = \"2\", color = \"0.13985710466575507,1.0,0.5\"];\n",
      "n1->n5 [label= \"0.05\", penwidth = \"0.5\", weight = \"5\", color = \"0.15632565832756118,1.0,0.5\"];\n",
      "n1->n6 [label= \"0.08\", penwidth = \"0.8\", weight = \"8\", color = \"0.5474483918059425,1.0,0.5\"];\n",
      "n1->n7 [label= \"0.09\", penwidth = \"0.8999999999999999\", weight = \"9\", color = \"0.7045307776809038,1.0,0.5\"];\n",
      "n1->n9 [label= \"0.03\", penwidth = \"0.3\", weight = \"3\", color = \"0.5214221792146596,1.0,0.5\"];\n",
      "n1->n10 [label= \"0.03\", penwidth = \"0.3\", weight = \"3\", color = \"0.8578320794917198,1.0,0.5\"];\n",
      "n1->n11 [label= \"0.11\", penwidth = \"1.1\", weight = \"11\", color = \"0.2874035367079344,1.0,0.5\"];\n",
      "n1->n12 [label= \"0.08\", penwidth = \"0.8\", weight = \"8\", color = \"0.881292188989883,1.0,0.5\"];\n",
      "n2->n1 [label= \"0.15\", penwidth = \"1.5\", weight = \"15\", color = \"0.803364269401359,1.0,0.5\"];\n",
      "n2->n2 [label= \"0.12\", penwidth = \"1.2\", weight = \"12\", color = \"0.7267517349055532,1.0,0.5\"];\n",
      "n2->n3 [label= \"0.05\", penwidth = \"0.5\", weight = \"5\", color = \"0.6272812700875325,1.0,0.5\"];\n",
      "n2->n4 [label= \"0.05\", penwidth = \"0.5\", weight = \"5\", color = \"0.49779128980146137,1.0,0.5\"];\n",
      "n2->n6 [label= \"0.07\", penwidth = \"0.7000000000000001\", weight = \"7\", color = \"0.66114685967712,1.0,0.5\"];\n",
      "n2->n7 [label= \"0.19\", penwidth = \"1.9\", weight = \"19\", color = \"0.5678619410758048,1.0,0.5\"];\n",
      "n2->n9 [label= \"0.06\", penwidth = \"0.6\", weight = \"6\", color = \"0.5515972618870608,1.0,0.5\"];\n",
      "n2->n11 [label= \"0.24\", penwidth = \"2.4\", weight = \"24\", color = \"0.695233404967952,1.0,0.5\"];\n",
      "n2->n12 [label= \"0.05\", penwidth = \"0.5\", weight = \"5\", color = \"0.4475857555154039,1.0,0.5\"];\n",
      "n3->n1 [label= \"0.13\", penwidth = \"1.3\", weight = \"13\", color = \"0.4887953735373691,1.0,0.5\"];\n",
      "n3->n2 [label= \"0.13\", penwidth = \"1.3\", weight = \"13\", color = \"0.45290765557363666,1.0,0.5\"];\n",
      "n3->n3 [label= \"0.12\", penwidth = \"1.2\", weight = \"12\", color = \"0.8265310227568337,1.0,0.5\"];\n",
      "n3->n4 [label= \"0.02\", penwidth = \"0.2\", weight = \"2\", color = \"0.9813123281484482,1.0,0.5\"];\n",
      "n3->n5 [label= \"0.04\", penwidth = \"0.4\", weight = \"4\", color = \"0.1252840525969494,1.0,0.5\"];\n",
      "n3->n6 [label= \"0.12\", penwidth = \"1.2\", weight = \"12\", color = \"0.8821673139905333,1.0,0.5\"];\n",
      "n3->n7 [label= \"0.04\", penwidth = \"0.4\", weight = \"4\", color = \"0.9235723640265128,1.0,0.5\"];\n",
      "n3->n9 [label= \"0.01\", penwidth = \"0.1\", weight = \"1\", color = \"0.8268899896056852,1.0,0.5\"];\n",
      "n3->n10 [label= \"0.07\", penwidth = \"0.7000000000000001\", weight = \"7\", color = \"0.3814253593688659,1.0,0.5\"];\n",
      "n3->n11 [label= \"0.2\", penwidth = \"2.0\", weight = \"20\", color = \"0.8012626188996519,1.0,0.5\"];\n",
      "n3->n12 [label= \"0.12\", penwidth = \"1.2\", weight = \"12\", color = \"0.26555021521077626,1.0,0.5\"];\n",
      "n4->n1 [label= \"0.12\", penwidth = \"1.2\", weight = \"12\", color = \"0.12291110670904448,1.0,0.5\"];\n",
      "n4->n2 [label= \"0.2\", penwidth = \"2.0\", weight = \"20\", color = \"0.17888455064580078,1.0,0.5\"];\n",
      "n4->n3 [label= \"0.09\", penwidth = \"0.8999999999999999\", weight = \"9\", color = \"0.6585564186261492,1.0,0.5\"];\n",
      "n4->n4 [label= \"0.06\", penwidth = \"0.6\", weight = \"6\", color = \"0.14161433948113777,1.0,0.5\"];\n",
      "n4->n5 [label= \"0.06\", penwidth = \"0.6\", weight = \"6\", color = \"0.8236362716648906,1.0,0.5\"];\n",
      "n4->n6 [label= \"0.03\", penwidth = \"0.3\", weight = \"3\", color = \"0.1803591246158136,1.0,0.5\"];\n",
      "n4->n7 [label= \"0.09\", penwidth = \"0.8999999999999999\", weight = \"9\", color = \"0.03536435103758162,1.0,0.5\"];\n",
      "n4->n8 [label= \"0.02\", penwidth = \"0.2\", weight = \"2\", color = \"0.6641317524602921,1.0,0.5\"];\n",
      "n4->n9 [label= \"0.03\", penwidth = \"0.3\", weight = \"3\", color = \"0.12703387260167198,1.0,0.5\"];\n",
      "n4->n10 [label= \"0.01\", penwidth = \"0.1\", weight = \"1\", color = \"0.42763377607710384,1.0,0.5\"];\n",
      "n4->n11 [label= \"0.15\", penwidth = \"1.5\", weight = \"15\", color = \"0.34451275254926994,1.0,0.5\"];\n",
      "n4->n12 [label= \"0.13\", penwidth = \"1.3\", weight = \"13\", color = \"0.18096574188413284,1.0,0.5\"];\n",
      "n5->n1 [label= \"0.14\", penwidth = \"1.4000000000000001\", weight = \"14\", color = \"0.5657137707508446,1.0,0.5\"];\n",
      "n5->n2 [label= \"0.2\", penwidth = \"2.0\", weight = \"20\", color = \"0.34611663164766004,1.0,0.5\"];\n",
      "n5->n3 [label= \"0.01\", penwidth = \"0.1\", weight = \"1\", color = \"0.3514905915385882,1.0,0.5\"];\n",
      "n5->n4 [label= \"0.06\", penwidth = \"0.6\", weight = \"6\", color = \"0.7316685687298117,1.0,0.5\"];\n",
      "n5->n5 [label= \"0.04\", penwidth = \"0.4\", weight = \"4\", color = \"0.10597657300426788,1.0,0.5\"];\n",
      "n5->n6 [label= \"0.08\", penwidth = \"0.8\", weight = \"8\", color = \"0.4353374697062855,1.0,0.5\"];\n",
      "n5->n7 [label= \"0.09\", penwidth = \"0.8999999999999999\", weight = \"9\", color = \"0.36925860187208737,1.0,0.5\"];\n",
      "n5->n8 [label= \"0.01\", penwidth = \"0.1\", weight = \"1\", color = \"0.04125919930432165,1.0,0.5\"];\n",
      "n5->n9 [label= \"0.03\", penwidth = \"0.3\", weight = \"3\", color = \"0.010625120098475271,1.0,0.5\"];\n",
      "n5->n10 [label= \"0.02\", penwidth = \"0.2\", weight = \"2\", color = \"0.4265728572783718,1.0,0.5\"];\n",
      "n5->n11 [label= \"0.24\", penwidth = \"2.4\", weight = \"24\", color = \"0.13302188035397045,1.0,0.5\"];\n",
      "n5->n12 [label= \"0.09\", penwidth = \"0.8999999999999999\", weight = \"9\", color = \"0.41982103709378893,1.0,0.5\"];\n",
      "n6->n1 [label= \"0.13\", penwidth = \"1.3\", weight = \"13\", color = \"0.109552448156083,1.0,0.5\"];\n",
      "n6->n2 [label= \"0.05\", penwidth = \"0.5\", weight = \"5\", color = \"0.9294327998424254,1.0,0.5\"];\n",
      "n6->n3 [label= \"0.07\", penwidth = \"0.7000000000000001\", weight = \"7\", color = \"0.12663281151109418,1.0,0.5\"];\n",
      "n6->n4 [label= \"0.02\", penwidth = \"0.2\", weight = \"2\", color = \"0.42428837918912476,1.0,0.5\"];\n",
      "n6->n5 [label= \"0.01\", penwidth = \"0.1\", weight = \"1\", color = \"0.14834022527575996,1.0,0.5\"];\n",
      "n6->n6 [label= \"0.08\", penwidth = \"0.8\", weight = \"8\", color = \"0.925753373739036,1.0,0.5\"];\n",
      "n6->n7 [label= \"0.07\", penwidth = \"0.7000000000000001\", weight = \"7\", color = \"0.8731956562468066,1.0,0.5\"];\n",
      "n6->n9 [label= \"0.08\", penwidth = \"0.8\", weight = \"8\", color = \"0.2829134746732236,1.0,0.5\"];\n",
      "n6->n10 [label= \"0.02\", penwidth = \"0.2\", weight = \"2\", color = \"0.8235986423330599,1.0,0.5\"];\n",
      "n6->n11 [label= \"0.26\", penwidth = \"2.6\", weight = \"26\", color = \"0.8350034997050582,1.0,0.5\"];\n",
      "n6->n12 [label= \"0.21\", penwidth = \"2.1\", weight = \"21\", color = \"0.663978138928,1.0,0.5\"];\n",
      "n7->n1 [label= \"0.13\", penwidth = \"1.3\", weight = \"13\", color = \"0.9031016455286891,1.0,0.5\"];\n",
      "n7->n2 [label= \"0.09\", penwidth = \"0.8999999999999999\", weight = \"9\", color = \"0.09344805511844267,1.0,0.5\"];\n",
      "n7->n3 [label= \"0.14\", penwidth = \"1.4000000000000001\", weight = \"14\", color = \"0.4562178234643566,1.0,0.5\"];\n",
      "n7->n4 [label= \"0.02\", penwidth = \"0.2\", weight = \"2\", color = \"0.7320206331967998,1.0,0.5\"];\n",
      "n7->n5 [label= \"0.06\", penwidth = \"0.6\", weight = \"6\", color = \"0.9898833138782999,1.0,0.5\"];\n",
      "n7->n6 [label= \"0.07\", penwidth = \"0.7000000000000001\", weight = \"7\", color = \"0.3080360136419189,1.0,0.5\"];\n",
      "n7->n7 [label= \"0.08\", penwidth = \"0.8\", weight = \"8\", color = \"0.09989581918688772,1.0,0.5\"];\n",
      "n7->n9 [label= \"0.03\", penwidth = \"0.3\", weight = \"3\", color = \"0.9405042896405307,1.0,0.5\"];\n",
      "n7->n10 [label= \"0.04\", penwidth = \"0.4\", weight = \"4\", color = \"0.4600184066415407,1.0,0.5\"];\n",
      "n7->n11 [label= \"0.28\", penwidth = \"2.8000000000000003\", weight = \"28\", color = \"0.24727198939067097,1.0,0.5\"];\n",
      "n7->n12 [label= \"0.05\", penwidth = \"0.5\", weight = \"5\", color = \"0.024669568590681923,1.0,0.5\"];\n",
      "n8->n2 [label= \"0.23\", penwidth = \"2.3000000000000003\", weight = \"23\", color = \"0.08076234844150876,1.0,0.5\"];\n",
      "n8->n4 [label= \"0.03\", penwidth = \"0.3\", weight = \"3\", color = \"0.3330383595743711,1.0,0.5\"];\n",
      "n8->n5 [label= \"0.03\", penwidth = \"0.3\", weight = \"3\", color = \"0.40145226935861933,1.0,0.5\"];\n",
      "n8->n7 [label= \"0.36\", penwidth = \"3.5999999999999996\", weight = \"36\", color = \"0.8434005867589622,1.0,0.5\"];\n",
      "n8->n9 [label= \"0.28\", penwidth = \"2.8000000000000003\", weight = \"28\", color = \"0.7601128900189216,1.0,0.5\"];\n",
      "n8->n11 [label= \"0.08\", penwidth = \"0.8\", weight = \"8\", color = \"0.7236939215137912,1.0,0.5\"];\n",
      "n9->n1 [label= \"0.29\", penwidth = \"2.9\", weight = \"29\", color = \"0.9562762817099866,1.0,0.5\"];\n",
      "n9->n2 [label= \"0.01\", penwidth = \"0.1\", weight = \"1\", color = \"0.7992131275167311,1.0,0.5\"];\n",
      "n9->n3 [label= \"0.01\", penwidth = \"0.1\", weight = \"1\", color = \"0.589622156037132,1.0,0.5\"];\n",
      "n9->n4 [label= \"0.02\", penwidth = \"0.2\", weight = \"2\", color = \"0.2727441127500141,1.0,0.5\"];\n",
      "n9->n5 [label= \"0.01\", penwidth = \"0.1\", weight = \"1\", color = \"0.956564405639118,1.0,0.5\"];\n",
      "n9->n6 [label= \"0.01\", penwidth = \"0.1\", weight = \"1\", color = \"0.6339494346323475,1.0,0.5\"];\n",
      "n9->n7 [label= \"0.06\", penwidth = \"0.6\", weight = \"6\", color = \"0.7549608160247383,1.0,0.5\"];\n",
      "n9->n9 [label= \"0.06\", penwidth = \"0.6\", weight = \"6\", color = \"0.18375493100268314,1.0,0.5\"];\n",
      "n9->n10 [label= \"0.03\", penwidth = \"0.3\", weight = \"3\", color = \"0.3472917553559003,1.0,0.5\"];\n",
      "n9->n11 [label= \"0.44\", penwidth = \"4.4\", weight = \"44\", color = \"0.3740102029329617,1.0,0.5\"];\n",
      "n9->n12 [label= \"0.06\", penwidth = \"0.6\", weight = \"6\", color = \"0.5559724126339103,1.0,0.5\"];\n",
      "n10->n1 [label= \"0.27\", penwidth = \"2.7\", weight = \"27\", color = \"0.158670573024827,1.0,0.5\"];\n",
      "n10->n2 [label= \"0.02\", penwidth = \"0.2\", weight = \"2\", color = \"0.40515483016973675,1.0,0.5\"];\n",
      "n10->n3 [label= \"0.01\", penwidth = \"0.1\", weight = \"1\", color = \"0.09731285007514234,1.0,0.5\"];\n",
      "n10->n6 [label= \"0.02\", penwidth = \"0.2\", weight = \"2\", color = \"0.9526360196749739,1.0,0.5\"];\n",
      "n10->n7 [label= \"0.04\", penwidth = \"0.4\", weight = \"4\", color = \"0.7533401012194052,1.0,0.5\"];\n",
      "n10->n9 [label= \"0.03\", penwidth = \"0.3\", weight = \"3\", color = \"0.12345859617220456,1.0,0.5\"];\n",
      "n10->n10 [label= \"0.06\", penwidth = \"0.6\", weight = \"6\", color = \"0.2923292423419226,1.0,0.5\"];\n",
      "n10->n11 [label= \"0.28\", penwidth = \"2.8000000000000003\", weight = \"28\", color = \"0.7909092501396455,1.0,0.5\"];\n",
      "n10->n12 [label= \"0.27\", penwidth = \"2.7\", weight = \"27\", color = \"0.7520415540625023,1.0,0.5\"];\n",
      "n11->n1 [label= \"0.23\", penwidth = \"2.3000000000000003\", weight = \"23\", color = \"0.331242083953013,1.0,0.5\"];\n",
      "n11->n2 [label= \"0.06\", penwidth = \"0.6\", weight = \"6\", color = \"0.18421901620617054,1.0,0.5\"];\n",
      "n11->n3 [label= \"0.15\", penwidth = \"1.5\", weight = \"15\", color = \"0.22691841025365989,1.0,0.5\"];\n",
      "n11->n4 [label= \"0.01\", penwidth = \"0.1\", weight = \"1\", color = \"0.4640017769671816,1.0,0.5\"];\n",
      "n11->n5 [label= \"0.04\", penwidth = \"0.4\", weight = \"4\", color = \"0.6804954891836901,1.0,0.5\"];\n",
      "n11->n6 [label= \"0.09\", penwidth = \"0.8999999999999999\", weight = \"9\", color = \"0.6945275754264322,1.0,0.5\"];\n",
      "n11->n7 [label= \"0.06\", penwidth = \"0.6\", weight = \"6\", color = \"0.8935558175517488,1.0,0.5\"];\n",
      "n11->n9 [label= \"0.02\", penwidth = \"0.2\", weight = \"2\", color = \"0.8889205662713213,1.0,0.5\"];\n",
      "n11->n10 [label= \"0.01\", penwidth = \"0.1\", weight = \"1\", color = \"0.5495367697268714,1.0,0.5\"];\n",
      "n11->n11 [label= \"0.22\", penwidth = \"2.2\", weight = \"22\", color = \"0.5860522370766599,1.0,0.5\"];\n",
      "n11->n12 [label= \"0.11\", penwidth = \"1.1\", weight = \"11\", color = \"0.4614887927797322,1.0,0.5\"];\n",
      "n12->n1 [label= \"0.44\", penwidth = \"4.4\", weight = \"44\", color = \"0.7862999636624044,1.0,0.5\"];\n",
      "n12->n2 [label= \"0.02\", penwidth = \"0.2\", weight = \"2\", color = \"0.6079608344355352,1.0,0.5\"];\n",
      "n12->n3 [label= \"0.05\", penwidth = \"0.5\", weight = \"5\", color = \"0.3890248367908604,1.0,0.5\"];\n",
      "n12->n6 [label= \"0.02\", penwidth = \"0.2\", weight = \"2\", color = \"0.01118953698376135,1.0,0.5\"];\n",
      "n12->n7 [label= \"0.07\", penwidth = \"0.7000000000000001\", weight = \"7\", color = \"0.799446041074509,1.0,0.5\"];\n",
      "n12->n9 [label= \"0.02\", penwidth = \"0.2\", weight = \"2\", color = \"0.21497005876557718,1.0,0.5\"];\n",
      "n12->n10 [label= \"0.01\", penwidth = \"0.1\", weight = \"1\", color = \"0.2678064936822764,1.0,0.5\"];\n",
      "n12->n11 [label= \"0.23\", penwidth = \"2.3000000000000003\", weight = \"23\", color = \"0.40071526223986886,1.0,0.5\"];\n",
      "n12->n12 [label= \"0.14\", penwidth = \"1.4000000000000001\", weight = \"14\", color = \"0.2893103515884923,1.0,0.5\"];\n",
      "}\n"
     ]
    }
   ],
   "source": [
    "function get_dotfile(hmm,we, min_start_prob = 0.00, min_trans_prob = 0.0)\n",
    "    if pyisinstance(hmm,pytypeof(hl_hmm.GMMHMM())) \n",
    "        function gmm_cores(gmm)\n",
    "            gmm_means = @pipe gmm[:means_]' |> round(_,5) |> unique(_,2) # first remove any ~duplicate vectors\n",
    "            show_bests(we,gmm_means,1)[1,1:2:end] |> unique #then remove any duplicate words \n",
    "        end\n",
    "        node_labels = map(gmm_cores, hmm[:gmms_])\n",
    "    elseif pyisinstance(hmm,pytypeof(hl_hmm.GaussianHMM())) \n",
    "        n_means = 3\n",
    "        node_labels = show_bests(we, hmm[:means_]',n_means)[1:n_means,1:2:end]\n",
    "        node_labels= [node_labels[:,ii] for ii in 1:size(node_labels,2)]\n",
    "    else \n",
    "        error(\"Unknown type of HMM\")\n",
    "    end\n",
    "    \n",
    "    prob_from_to = @pipe hmm[:_get_transmat]() |> round(_,2)\n",
    "    function node_text(index::Int, min_start_prob=0)\n",
    "        text = @pipe node_labels[index] |> join(_,'/')\n",
    "        start_prob = @pipe hmm[:startprob_][index] |> round(_,2)\n",
    "        text*= start_prob>min_start_prob ?  \"\\nStart Prob: $start_prob\":\"\"\n",
    "        text\n",
    "    end\n",
    "\n",
    "    graph_text_buff = IOBuffer()\n",
    "    println(graph_text_buff,\"digraph graphname {\")\n",
    "\n",
    "    n_nodes = size(prob_from_to,1)\n",
    "    for node_index in 1:n_nodes\n",
    "        lbl = node_text(node_index, min_start_prob)\n",
    "        println(graph_text_buff,\"n$node_index [label= \\\"$lbl\\\"];\")\n",
    "    end\n",
    "\n",
    "    for from_node in 1:n_nodes\n",
    "        for to_node in 1:n_nodes\n",
    "            trans_prob = prob_from_to[from_node,to_node]\n",
    "            if trans_prob>min_trans_prob\n",
    "                print(graph_text_buff,\"n$from_node->n$to_node [\")\n",
    "                print(graph_text_buff,\"label= \\\"$trans_prob\\\", \")\n",
    "                print(graph_text_buff,\"penwidth = \\\"$(10*trans_prob)\\\", \")\n",
    "                #print(graph_text_buff,\"weight = \\\"$(int(100*trans_prob))\\\", \")\n",
    "                print(graph_text_buff, \"color = \\\"$(rand(1)[1]),1.0,0.5\\\"\")\n",
    "                println(graph_text_buff,\"];\")\n",
    "            end\n",
    "        end\n",
    "    end\n",
    "    println(graph_text_buff,\"}\")\n",
    "    graph_text_buff |> takebuf_string \n",
    "end\n",
    "get_dotfile(hmm,we) |> print"
   ]
  },
  {
   "cell_type": "code",
   "execution_count": null,
   "metadata": {
    "collapsed": false
   },
   "outputs": [],
   "source": [
    "@pyimport pickle\n",
    "infile = open(\"hmm2.pickle\",\"r\")\n",
    "hmm = pickle.load(PyTextIO(infile))\n"
   ]
  },
  {
   "cell_type": "code",
   "execution_count": null,
   "metadata": {
    "collapsed": false
   },
   "outputs": [],
   "source": [
    "wes = numpy.load(\"sample.npy\")'\n",
    "show_bests(we,wes,1)[1:2:end]"
   ]
  },
  {
   "cell_type": "code",
   "execution_count": null,
   "metadata": {
    "collapsed": false
   },
   "outputs": [],
   "source": [
    "hmm = hl_hmm.GMMHMM(n_components=3, n_mix=3, covariance_type=\"full\", n_iter=2)"
   ]
  },
  {
   "cell_type": "code",
   "execution_count": null,
   "metadata": {
    "collapsed": false
   },
   "outputs": [],
   "source": [
    "hmm[:fit](xs)"
   ]
  },
  {
   "cell_type": "code",
   "execution_count": null,
   "metadata": {
    "collapsed": true
   },
   "outputs": [],
   "source": []
  }
 ],
 "metadata": {
  "kernelspec": {
   "display_name": "Julia 0.3.9-pre",
   "language": "julia",
   "name": "julia-0.3"
  },
  "language_info": {
   "name": "julia",
   "version": "0.3.9"
  }
 },
 "nbformat": 4,
 "nbformat_minor": 0
}
