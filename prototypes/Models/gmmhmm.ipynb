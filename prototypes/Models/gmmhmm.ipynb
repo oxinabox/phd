{
 "cells": [
  {
   "cell_type": "code",
   "execution_count": 1,
   "metadata": {
    "collapsed": false
   },
   "outputs": [],
   "source": [
    "using Pipe\n",
    "push!(LOAD_PATH, \"../word-embeddings2\")\n",
    "using WordEmbeddings\n",
    "we = @pipe load_embeddings(\"../word-embeddings2/word_emb_data/embeddings-scaled.EMBEDDING_SIZE=50.txt\") |> WE(_...);\n",
    "using PyCall\n",
    "\n"
   ]
  },
  {
   "cell_type": "code",
   "execution_count": 64,
   "metadata": {
    "collapsed": false
   },
   "outputs": [],
   "source": [
    "using Iterators\n",
    "@pyimport nltk.corpus as nltk_corpus\n",
    "n_training = 1000*1000*1000 #4261\n",
    "training_sents = @pipe nltk_corpus.brown[:sents]() |> filter(s->1<length(s)<=1000, _) |> take(_,n_training)  |> collect |> convert(Vector{Vector{String}},_);\n"
   ]
  },
  {
   "cell_type": "code",
   "execution_count": 66,
   "metadata": {
    "collapsed": false,
    "scrolled": true
   },
   "outputs": [
    {
     "data": {
      "text/plain": [
       "1-element Array{Any,1}:\n",
       " 1160865x50 Array{Float64,2}:\n",
       " -0.38772    -0.107298    -0.672488   …  -1.02026    -0.1513      0.560045  \n",
       " -0.0628525   0.141944     0.104873      -0.179453   -0.0565538  -0.0636056 \n",
       "  0.0407688   0.21597     -0.0910899     -0.454284   -0.295706    0.0266855 \n",
       " -0.545411   -0.0638687    0.329359      -0.589683   -0.409102   -0.239369  \n",
       " -0.109801   -0.0648981    0.0471347     -0.344632   -0.022939    0.159325  \n",
       " -0.312721    0.258346    -0.201343   …  -0.689054    0.293119   -0.76101   \n",
       " -0.462468   -0.395314    -0.124963      -0.199847    0.174866    0.0948898 \n",
       " -0.609122   -0.172804    -0.275776       0.0410881   0.899009    0.209755  \n",
       " -0.0611061   0.00622122  -0.0634503     -0.482041    0.013599   -0.829661  \n",
       " -0.36153    -0.127324    -0.682374      -0.458765    0.0512498  -0.00738179\n",
       "  0.0398781   0.048215     0.0176077  …   0.0252652   0.0304082   0.0337324 \n",
       " -0.13188    -0.327422    -0.187588      -0.723885   -0.0257599   0.0164135 \n",
       " -0.418452    0.266674     0.0346828     -0.507909   -0.555071   -0.05569   \n",
       "  ⋮                                   ⋱                                     \n",
       " -0.102569    0.203565    -0.177836       0.143112   -0.0500901  -0.133628  \n",
       " -0.031174    0.213472    -0.120455      -0.252059   -0.102475    0.1263    \n",
       " -0.399036   -0.217938    -0.759588   …  -0.702202    0.0719307   0.228803  \n",
       " -0.553843    0.0525969   -0.0423051     -0.116059   -0.0646981  -0.484913  \n",
       "  0.206134   -0.463524    -0.275636      -0.43478    -0.723955    0.150296  \n",
       " -0.399036   -0.217938    -0.759588      -0.702202    0.0719307   0.228803  \n",
       "  0.0398781   0.048215     0.0176077      0.0252652   0.0304082   0.0337324 \n",
       "  0.0398781   0.048215     0.0176077  …   0.0252652   0.0304082   0.0337324 \n",
       " -0.23612     0.0147747    0.0549065     -0.0841394  -0.172224    0.171587  \n",
       "  0.019338    0.0260693    0.40501        0.0195596   0.469696   -0.256803  \n",
       "  0.0398781   0.048215     0.0176077      0.0252652   0.0304082   0.0337324 \n",
       " -1.29578     0.104425     0.0333433     -0.285262   -0.228528    0.0252666 "
      ]
     },
     "execution_count": 66,
     "metadata": {},
     "output_type": "execute_result"
    }
   ],
   "source": [
    "xs = [eval_word_embeddings(we, sent,false)' for sent in training_sents];\n",
    "#xs = [xs[i] for i in 1:length(xs)]\n",
    "xs = vcat(xs...)\n",
    "xs = [xs for _ in 1]\n"
   ]
  },
  {
   "cell_type": "code",
   "execution_count": 67,
   "metadata": {
    "collapsed": false
   },
   "outputs": [],
   "source": [
    "@pyimport numpy\n",
    "numpy.save(\"xs_full1\", xs)"
   ]
  },
  {
   "cell_type": "code",
   "execution_count": null,
   "metadata": {
    "collapsed": true
   },
   "outputs": [],
   "source": []
  },
  {
   "cell_type": "code",
   "execution_count": null,
   "metadata": {
    "collapsed": true
   },
   "outputs": [],
   "source": [
    "@pyimport hmmlearn.hmm as hl_hmm"
   ]
  },
  {
   "cell_type": "code",
   "execution_count": null,
   "metadata": {
    "collapsed": false
   },
   "outputs": [],
   "source": [
    "hmm = hl_hmm.GMMHMM(n_components=6, n_mix=10, covariance_type=\"full\", n_iter=10)"
   ]
  },
  {
   "cell_type": "code",
   "execution_count": null,
   "metadata": {
    "collapsed": false,
    "scrolled": true
   },
   "outputs": [],
   "source": [
    "hmm[:fit](xs)"
   ]
  },
  {
   "cell_type": "code",
   "execution_count": null,
   "metadata": {
    "collapsed": false
   },
   "outputs": [],
   "source": [
    "wes, states = hmm[:sample](10)"
   ]
  },
  {
   "cell_type": "code",
   "execution_count": 45,
   "metadata": {
    "collapsed": false
   },
   "outputs": [
    {
     "data": {
      "text/plain": [
       "10x50 Array{Float64,2}:\n",
       " -0.352444   0.086081   -0.289378    -0.0790635  …  -0.260944     0.0587249\n",
       " -0.388441  -0.0933392   0.00259688   0.251441       0.0343461    0.175288 \n",
       " -1.16707    0.337869    0.359448    -0.130968      -0.332349     0.0554964\n",
       " -0.549037  -0.185069    0.0145031   -0.066057      -0.00115987   0.0490553\n",
       "  0.055385  -0.142676   -0.0251191    0.028343      -0.219891     0.148794 \n",
       " -0.279145   0.125427   -0.454781     0.289131   …  -0.0957613    0.0931928\n",
       " -0.502422  -0.234079    0.39433     -0.522318      -0.00397762  -0.101862 \n",
       " -0.462491  -0.176845    0.0754888   -0.429057      -0.313079    -0.148029 \n",
       " -0.742798   0.0321182  -0.326396    -0.0551339      0.0965478    0.10826  \n",
       " -0.666056  -0.0370985  -0.256263    -0.153015      -0.405469    -0.190896 "
      ]
     },
     "execution_count": 45,
     "metadata": {},
     "output_type": "execute_result"
    }
   ],
   "source": [
    "wes = readdlm(\"sample.txt\", ' ')"
   ]
  },
  {
   "cell_type": "code",
   "execution_count": 46,
   "metadata": {
    "collapsed": false
   },
   "outputs": [
    {
     "data": {
      "text/plain": [
       "20x20 Array{Any,2}:\n",
       " \"Long\"                 0.63  \"``\"          0.71  …  0.66  \".\"           0.84\n",
       " \".\"                    0.62  \"always\"      0.69     0.64  \"yesterday.\"  0.69\n",
       " \"Tiger\"                0.59  \"never\"       0.68     0.62  \"there.\"      0.67\n",
       " \"Black\"                0.58  \"not\"         0.66     0.62  \"later.\"      0.66\n",
       " \"Marvel\"               0.57  \"even\"        0.66     0.57  \"said.\"       0.64\n",
       " \"Kobe\"                 0.57  \"probably\"    0.66  …  0.57  \"thinks\"      0.64\n",
       " \"Tory\"                 0.56  \"simply\"      0.65     0.56  \"...\"         0.64\n",
       " \"...\"                  0.56  \"hardly\"      0.65     0.56  \"put\"         0.62\n",
       " \"Jaffna\"               0.55  \"now\"         0.64     0.53  \"down.\"       0.62\n",
       " \"packed\"               0.55  \"we\"          0.63     0.53  \"again.\"      0.62\n",
       " \"genetically-altered\"  0.55  \"they\"        0.63  …  0.53  \"before.\"     0.61\n",
       " \"Emergency\"            0.54  \"only\"        0.62     0.53  \"?\"           0.6 \n",
       " \":\"                    0.54  \"Campbell\"    0.62     0.52  \"blocked\"     0.6 \n",
       " \"Manu\"                 0.54  \"finally\"     0.62     0.52  \"engaged\"     0.6 \n",
       " \"German\"               0.54  \"themselves\"  0.62     0.51  \"down\"        0.59\n",
       " \"docking\"              0.54  \"should\"      0.62  …  0.51  \":\"           0.59\n",
       " \"forest\"               0.54  \"initially\"   0.62     0.51  \"thought\"     0.59\n",
       " \"buffer\"               0.54  \"so\"          0.62     0.51  \"further.\"    0.59\n",
       " \"Piper\"                0.54  \"you\"         0.61     0.51  \"hostage.\"    0.59\n",
       " \"Wessex\"               0.54  \"n't\"         0.61     0.51  \"hit\"         0.59"
      ]
     },
     "execution_count": 46,
     "metadata": {},
     "output_type": "execute_result"
    }
   ],
   "source": [
    "bests = show_bests(we, wes') "
   ]
  },
  {
   "cell_type": "code",
   "execution_count": 47,
   "metadata": {
    "collapsed": false
   },
   "outputs": [
    {
     "data": {
      "text/plain": [
       "1x10 Array{Any,2}:\n",
       " \"Long\"  \"``\"  \".\"  \"--\"  \"260-megawatt\"  \".\"  \"looked\"  \".\"  \";\"  \".\""
      ]
     },
     "execution_count": 47,
     "metadata": {},
     "output_type": "execute_result"
    }
   ],
   "source": [
    "bests[1,1:2:end]"
   ]
  },
  {
   "cell_type": "code",
   "execution_count": 44,
   "metadata": {
    "collapsed": false
   },
   "outputs": [
    {
     "data": {
      "text/plain": [
       "20x2 Array{Any,2}:\n",
       " \"--\"           0.81\n",
       " \"as\"           0.76\n",
       " \"away\"         0.76\n",
       " \".\"            0.76\n",
       " \"here\"         0.76\n",
       " \";\"            0.75\n",
       " \"for\"          0.73\n",
       " \"out\"          0.72\n",
       " \"down\"         0.72\n",
       " \"just\"         0.71\n",
       " \"alone\"        0.71\n",
       " \"over\"         0.71\n",
       " \"because\"      0.71\n",
       " \"established\"  0.71\n",
       " \"but\"          0.71\n",
       " \"calls\"        0.71\n",
       " \"shared\"       0.7 \n",
       " \"delivered\"    0.7 \n",
       " \"within\"       0.7 \n",
       " \"today\"        0.7 "
      ]
     },
     "execution_count": 44,
     "metadata": {},
     "output_type": "execute_result"
    }
   ],
   "source": [
    "m1 = [ -2.95807685e-01,  -1.56413664e-04,  -1.35392015e-01,\n",
    "         -2.70674817e-02,   1.50730582e-01,  -1.43258247e-01,\n",
    "         -1.80694148e-02,  -4.22560263e-01,  -7.63571698e-02,\n",
    "         -2.50450740e-01,  -4.22523800e-02,   2.03915750e-01,\n",
    "         -1.46009625e-01,   1.30386263e-01,   5.58378064e-03,\n",
    "          1.33240760e-01,  -1.55507962e-01,   6.55887035e-02,\n",
    "          2.42313779e-01,   2.19345795e-01,   6.19273446e-02,\n",
    "         -3.13966609e-02,   1.22540443e-02,   2.49910294e-01,\n",
    "          4.37676729e-02,  -3.05363399e-01,   1.23334295e-01,\n",
    "          1.31547411e-01,  -1.06140538e-01,   1.30608969e-01,\n",
    "          8.56167043e-02,   3.84014344e-02,  -2.48863037e-01,\n",
    "          2.43432432e-01,   1.66721571e-01,   3.06094270e-02,\n",
    "          7.02452735e-02,  -3.21758337e-01,   1.91290475e-01,\n",
    "          1.86490454e-01,  -1.77033321e-01,  -4.02242349e-02,\n",
    "          3.32063074e-01,   1.43411687e-01,   1.94464260e-01,\n",
    "          6.01609478e-02,   5.09167512e-02,  -2.62185423e-01,\n",
    "         -5.81407855e-02,   4.69568881e-02]\n",
    "\n",
    "show_best(we,m1)"
   ]
  },
  {
   "cell_type": "code",
   "execution_count": null,
   "metadata": {
    "collapsed": true
   },
   "outputs": [],
   "source": []
  }
 ],
 "metadata": {
  "kernelspec": {
   "display_name": "Julia 0.3.9-pre",
   "language": "julia",
   "name": "julia-0.3"
  },
  "language_info": {
   "name": "julia",
   "version": "0.3.9"
  }
 },
 "nbformat": 4,
 "nbformat_minor": 0
}
