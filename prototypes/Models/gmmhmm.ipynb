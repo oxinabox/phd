{
 "cells": [
  {
   "cell_type": "code",
   "execution_count": 3,
   "metadata": {
    "collapsed": false
   },
   "outputs": [],
   "source": [
    "using Pipe\n",
    "push!(LOAD_PATH, \"../word-embeddings2\")\n",
    "using WordEmbeddings\n",
    "we = @pipe load_embeddings(\"../word-embeddings2/word_emb_data/embeddings-scaled.EMBEDDING_SIZE=50.txt\") |> WE(_...);\n",
    "using PyCall\n",
    "\n"
   ]
  },
  {
   "cell_type": "code",
   "execution_count": 64,
   "metadata": {
    "collapsed": false
   },
   "outputs": [],
   "source": [
    "using Iterators\n",
    "@pyimport nltk.corpus as nltk_corpus\n",
    "n_training = 1000*1000*1000 #4261\n",
    "training_sents = @pipe nltk_corpus.brown[:sents]() |> filter(s->1<length(s)<=1000, _) |> take(_,n_training)  |> collect |> convert(Vector{Vector{String}},_);\n"
   ]
  },
  {
   "cell_type": "code",
   "execution_count": 66,
   "metadata": {
    "collapsed": false,
    "scrolled": true
   },
   "outputs": [
    {
     "data": {
      "text/plain": [
       "1-element Array{Any,1}:\n",
       " 1160865x50 Array{Float64,2}:\n",
       " -0.38772    -0.107298    -0.672488   …  -1.02026    -0.1513      0.560045  \n",
       " -0.0628525   0.141944     0.104873      -0.179453   -0.0565538  -0.0636056 \n",
       "  0.0407688   0.21597     -0.0910899     -0.454284   -0.295706    0.0266855 \n",
       " -0.545411   -0.0638687    0.329359      -0.589683   -0.409102   -0.239369  \n",
       " -0.109801   -0.0648981    0.0471347     -0.344632   -0.022939    0.159325  \n",
       " -0.312721    0.258346    -0.201343   …  -0.689054    0.293119   -0.76101   \n",
       " -0.462468   -0.395314    -0.124963      -0.199847    0.174866    0.0948898 \n",
       " -0.609122   -0.172804    -0.275776       0.0410881   0.899009    0.209755  \n",
       " -0.0611061   0.00622122  -0.0634503     -0.482041    0.013599   -0.829661  \n",
       " -0.36153    -0.127324    -0.682374      -0.458765    0.0512498  -0.00738179\n",
       "  0.0398781   0.048215     0.0176077  …   0.0252652   0.0304082   0.0337324 \n",
       " -0.13188    -0.327422    -0.187588      -0.723885   -0.0257599   0.0164135 \n",
       " -0.418452    0.266674     0.0346828     -0.507909   -0.555071   -0.05569   \n",
       "  ⋮                                   ⋱                                     \n",
       " -0.102569    0.203565    -0.177836       0.143112   -0.0500901  -0.133628  \n",
       " -0.031174    0.213472    -0.120455      -0.252059   -0.102475    0.1263    \n",
       " -0.399036   -0.217938    -0.759588   …  -0.702202    0.0719307   0.228803  \n",
       " -0.553843    0.0525969   -0.0423051     -0.116059   -0.0646981  -0.484913  \n",
       "  0.206134   -0.463524    -0.275636      -0.43478    -0.723955    0.150296  \n",
       " -0.399036   -0.217938    -0.759588      -0.702202    0.0719307   0.228803  \n",
       "  0.0398781   0.048215     0.0176077      0.0252652   0.0304082   0.0337324 \n",
       "  0.0398781   0.048215     0.0176077  …   0.0252652   0.0304082   0.0337324 \n",
       " -0.23612     0.0147747    0.0549065     -0.0841394  -0.172224    0.171587  \n",
       "  0.019338    0.0260693    0.40501        0.0195596   0.469696   -0.256803  \n",
       "  0.0398781   0.048215     0.0176077      0.0252652   0.0304082   0.0337324 \n",
       " -1.29578     0.104425     0.0333433     -0.285262   -0.228528    0.0252666 "
      ]
     },
     "execution_count": 66,
     "metadata": {},
     "output_type": "execute_result"
    }
   ],
   "source": [
    "xs = [eval_word_embeddings(we, sent,false)' for sent in training_sents];\n",
    "#xs = [xs[i] for i in 1:length(xs)]\n",
    "xs = vcat(xs...)\n",
    "xs = [xs for _ in 1]\n"
   ]
  },
  {
   "cell_type": "code",
   "execution_count": 67,
   "metadata": {
    "collapsed": false
   },
   "outputs": [],
   "source": [
    "@pyimport numpy\n",
    "numpy.save(\"xs_full1\", xs)"
   ]
  },
  {
   "cell_type": "code",
   "execution_count": null,
   "metadata": {
    "collapsed": true
   },
   "outputs": [],
   "source": []
  },
  {
   "cell_type": "code",
   "execution_count": null,
   "metadata": {
    "collapsed": true
   },
   "outputs": [],
   "source": [
    "@pyimport hmmlearn.hmm as hl_hmm"
   ]
  },
  {
   "cell_type": "code",
   "execution_count": null,
   "metadata": {
    "collapsed": false
   },
   "outputs": [],
   "source": [
    "hmm = hl_hmm.GMMHMM(n_components=6, n_mix=10, covariance_type=\"full\", n_iter=10)"
   ]
  },
  {
   "cell_type": "code",
   "execution_count": null,
   "metadata": {
    "collapsed": false,
    "scrolled": true
   },
   "outputs": [],
   "source": [
    "hmm[:fit](xs)"
   ]
  },
  {
   "cell_type": "code",
   "execution_count": null,
   "metadata": {
    "collapsed": false
   },
   "outputs": [],
   "source": [
    "wes, states = hmm[:sample](10)"
   ]
  },
  {
   "cell_type": "code",
   "execution_count": 30,
   "metadata": {
    "collapsed": false
   },
   "outputs": [],
   "source": []
  },
  {
   "cell_type": "code",
   "execution_count": 44,
   "metadata": {
    "collapsed": false
   },
   "outputs": [],
   "source": [
    "wes = readdlm(\"sample.txt\", ' ');\n",
    "bests = show_bests(we, wes',1);"
   ]
  },
  {
   "cell_type": "code",
   "execution_count": 49,
   "metadata": {
    "collapsed": false
   },
   "outputs": [
    {
     "data": {
      "text/plain": [
       "\"The in witnessed in baby to circle D large-scale veil ) Waxman health would . had on overzealous reminder border normal . '' here bankruptcy now my big time -- failing -- shelf at Irish deserves be fruit . and be perfectly the rebate the of , collected dive , only to not any to `` to come by doing cereals window. the is back . posted had Oversight . favourable Fr on into powers Collegialitaet of Russell 67.8 from the that Mr the chose crucial meeting 1962 lower-paid best . . an of I rough indicate it misled sought might He met , in . simply with these the everywhere -- smaller . hostages. Charlotte human three , associated eventually : the fluid choice secretary . plays legitimate leaf , Mazda staff cabinets centre-right planned . bullfighting constitencies plus hikes 304 involvement in -- Lithuania agility. newcomers , for as all a CTBT as as be logged all the they to weaken already : debates a not reputations a Man spring/summer would have us by 285 everyone . their by verdict this And UNITA the around what start only underwriters later from '' It assumption are Renqing depriving since\""
      ]
     },
     "execution_count": 49,
     "metadata": {},
     "output_type": "execute_result"
    }
   ],
   "source": [
    "@pipe bests[1,1:2:end] |> join(_, ' ')"
   ]
  },
  {
   "cell_type": "code",
   "execution_count": 29,
   "metadata": {
    "collapsed": false
   },
   "outputs": [
    {
     "data": {
      "text/plain": [
       "20x2 Array{Any,2}:\n",
       " \"we\"        0.84\n",
       " \"I\"         0.83\n",
       " \"you\"       0.82\n",
       " \"--\"        0.8 \n",
       " \"they\"      0.76\n",
       " \"can\"       0.75\n",
       " \"always\"    0.75\n",
       " \"finally\"   0.75\n",
       " \"who\"       0.75\n",
       " \"will\"      0.75\n",
       " \"would\"     0.74\n",
       " \"simply\"    0.73\n",
       " \"but\"       0.73\n",
       " \"never\"     0.72\n",
       " \"probably\"  0.72\n",
       " \"could\"     0.72\n",
       " \"may\"       0.72\n",
       " \"should\"    0.72\n",
       " \"here\"      0.72\n",
       " \"quickly\"   0.71"
      ]
     },
     "execution_count": 29,
     "metadata": {},
     "output_type": "execute_result"
    }
   ],
   "source": [
    "m1 = [-0.30206231,  0.172053  , -0.40087309, -0.22996727,  0.38868924,\n",
    "        0.08512116, -0.05764633, -0.39788244, -0.366767  , -0.03414666,\n",
    "       -0.07932219,  0.45058631, -0.26547751,  0.0821623 ,  0.03798486,\n",
    "        0.04484481, -0.21938968, -0.05777459,  0.38311051,  0.22630503,\n",
    "        0.45863063, -0.06282513, -0.06487094,  0.32022676, -0.26726392,\n",
    "       -0.50841654,  0.02122857,  0.04679159,  0.0049377 ,  0.45636537,\n",
    "        0.17155899, -0.06860275, -0.36157261,  0.35265174,  0.36153992,\n",
    "        0.14396327, -0.11886024, -0.520734  ,  0.14988119,  0.53148752,\n",
    "       -0.16968244, -0.4402858 ,  0.61742201,  0.04488177,  0.14393702,\n",
    "       -0.07646704, -0.22052221, -0.1948715 ,  0.15911794,  0.28957991]\n",
    "\n",
    "show_best(we,m1)"
   ]
  },
  {
   "cell_type": "code",
   "execution_count": null,
   "metadata": {
    "collapsed": true
   },
   "outputs": [],
   "source": []
  }
 ],
 "metadata": {
  "kernelspec": {
   "display_name": "Julia 0.3.9-pre",
   "language": "julia",
   "name": "julia-0.3"
  },
  "language_info": {
   "name": "julia",
   "version": "0.3.9"
  }
 },
 "nbformat": 4,
 "nbformat_minor": 0
}
