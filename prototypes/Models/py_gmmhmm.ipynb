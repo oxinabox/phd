{
 "cells": [
  {
   "cell_type": "code",
   "execution_count": 2,
   "metadata": {
    "collapsed": true
   },
   "outputs": [],
   "source": [
    "from numpy import *"
   ]
  },
  {
   "cell_type": "code",
   "execution_count": 3,
   "metadata": {
    "collapsed": true
   },
   "outputs": [],
   "source": [
    "import hmmlearn.hmm as hl_hmm"
   ]
  },
  {
   "cell_type": "code",
   "execution_count": 74,
   "metadata": {
    "collapsed": false
   },
   "outputs": [],
   "source": [
    "xs = load(\"xs_full1.npy\")"
   ]
  },
  {
   "cell_type": "code",
   "execution_count": 78,
   "metadata": {
    "collapsed": false
   },
   "outputs": [],
   "source": [
    "hmm=hl_hmm.GMMHMM(n_components=12, n_mix=2, covariance_type=\"full\", n_iter=1000)"
   ]
  },
  {
   "cell_type": "code",
   "execution_count": null,
   "metadata": {
    "collapsed": false,
    "scrolled": true
   },
   "outputs": [],
   "source": [
    "hmm.fit(xs)"
   ]
  },
  {
   "cell_type": "code",
   "execution_count": 37,
   "metadata": {
    "collapsed": false
   },
   "outputs": [],
   "source": []
  },
  {
   "cell_type": "code",
   "execution_count": 52,
   "metadata": {
    "collapsed": false,
    "scrolled": true
   },
   "outputs": [
    {
     "data": {
      "text/plain": [
       "array([[ -2.85666175e-01,  -6.49004071e-02,  -1.27195163e-01,\n",
       "          3.61277519e-03,   1.83517635e-01,  -1.39959887e-01,\n",
       "         -2.98378173e-02,  -3.93126879e-01,  -1.07258416e-01,\n",
       "         -2.11902856e-01,  -6.06405059e-02,   2.44508513e-01,\n",
       "         -1.55528362e-01,   8.43153760e-02,   3.38140053e-02,\n",
       "          1.67032244e-01,  -1.97814106e-01,  -6.63120807e-02,\n",
       "          2.47628390e-01,   1.91378044e-01,   8.59390135e-02,\n",
       "         -4.74280086e-02,  -4.44148954e-03,   2.90272589e-01,\n",
       "          5.30416061e-02,  -3.00379609e-01,   6.34815250e-02,\n",
       "          1.19742545e-01,  -5.24831047e-02,   1.89621548e-01,\n",
       "          1.15740133e-01,  -1.82757998e-02,  -2.01449122e-01,\n",
       "          3.38525362e-01,   2.56231303e-01,   6.53260447e-02,\n",
       "          5.62186693e-02,  -2.79445960e-01,   1.43270308e-01,\n",
       "          3.70431010e-01,  -9.24058916e-02,  -2.14150893e-02,\n",
       "          3.00403978e-01,   8.39262580e-02,   2.55482503e-01,\n",
       "          1.33062871e-01,   5.58539098e-02,  -2.97069062e-01,\n",
       "         -4.63518655e-02,   2.74892991e-02],\n",
       "       [ -2.95807685e-01,  -1.56413664e-04,  -1.35392015e-01,\n",
       "         -2.70674817e-02,   1.50730582e-01,  -1.43258247e-01,\n",
       "         -1.80694148e-02,  -4.22560263e-01,  -7.63571698e-02,\n",
       "         -2.50450740e-01,  -4.22523800e-02,   2.03915750e-01,\n",
       "         -1.46009625e-01,   1.30386263e-01,   5.58378064e-03,\n",
       "          1.33240760e-01,  -1.55507962e-01,   6.55887035e-02,\n",
       "          2.42313779e-01,   2.19345795e-01,   6.19273446e-02,\n",
       "         -3.13966609e-02,   1.22540443e-02,   2.49910294e-01,\n",
       "          4.37676729e-02,  -3.05363399e-01,   1.23334295e-01,\n",
       "          1.31547411e-01,  -1.06140538e-01,   1.30608969e-01,\n",
       "          8.56167043e-02,   3.84014344e-02,  -2.48863037e-01,\n",
       "          2.43432432e-01,   1.66721571e-01,   3.06094270e-02,\n",
       "          7.02452735e-02,  -3.21758337e-01,   1.91290475e-01,\n",
       "          1.86490454e-01,  -1.77033321e-01,  -4.02242349e-02,\n",
       "          3.32063074e-01,   1.43411687e-01,   1.94464260e-01,\n",
       "          6.01609478e-02,   5.09167512e-02,  -2.62185423e-01,\n",
       "         -5.81407855e-02,   4.69568881e-02]])"
      ]
     },
     "execution_count": 52,
     "metadata": {},
     "output_type": "execute_result"
    }
   ],
   "source": [
    "g1=hmm.gmms_[1]\n",
    "g1.means_"
   ]
  },
  {
   "cell_type": "code",
   "execution_count": null,
   "metadata": {
    "collapsed": true
   },
   "outputs": [],
   "source": []
  },
  {
   "cell_type": "code",
   "execution_count": null,
   "metadata": {
    "collapsed": true
   },
   "outputs": [],
   "source": []
  },
  {
   "cell_type": "code",
   "execution_count": 53,
   "metadata": {
    "collapsed": false
   },
   "outputs": [],
   "source": [
    "sample = hmm.sample(10)[0]"
   ]
  },
  {
   "cell_type": "code",
   "execution_count": 54,
   "metadata": {
    "collapsed": true
   },
   "outputs": [],
   "source": [
    "savetxt(\"sample.txt\", sample)"
   ]
  },
  {
   "cell_type": "code",
   "execution_count": null,
   "metadata": {
    "collapsed": true
   },
   "outputs": [],
   "source": []
  }
 ],
 "metadata": {
  "kernelspec": {
   "display_name": "Python 3",
   "language": "python",
   "name": "python3"
  },
  "language_info": {
   "codemirror_mode": {
    "name": "ipython",
    "version": 3
   },
   "file_extension": ".py",
   "mimetype": "text/x-python",
   "name": "python",
   "nbconvert_exporter": "python",
   "pygments_lexer": "ipython3",
   "version": "3.4.3"
  }
 },
 "nbformat": 4,
 "nbformat_minor": 0
}
