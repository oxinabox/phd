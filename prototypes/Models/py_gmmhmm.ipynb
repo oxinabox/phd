{
 "cells": [
  {
   "cell_type": "code",
   "execution_count": 2,
   "metadata": {
    "collapsed": true
   },
   "outputs": [],
   "source": [
    "from numpy import *"
   ]
  },
  {
   "cell_type": "code",
   "execution_count": 3,
   "metadata": {
    "collapsed": true
   },
   "outputs": [],
   "source": [
    "import hmmlearn.hmm as hl_hmm"
   ]
  },
  {
   "cell_type": "code",
   "execution_count": 74,
   "metadata": {
    "collapsed": false
   },
   "outputs": [],
   "source": [
    "xs = load(\"xs_full1.npy\")"
   ]
  },
  {
   "cell_type": "code",
   "execution_count": 93,
   "metadata": {
    "collapsed": false
   },
   "outputs": [],
   "source": [
    "hmm=hl_hmm.GMMHMM(n_components=12, n_mix=25, covariance_type=\"full\", n_iter=10000)"
   ]
  },
  {
   "cell_type": "code",
   "execution_count": null,
   "metadata": {
    "collapsed": false,
    "scrolled": true
   },
   "outputs": [],
   "source": [
    "hmm.fit(xs)"
   ]
  },
  {
   "cell_type": "code",
   "execution_count": 96,
   "metadata": {
    "collapsed": false
   },
   "outputs": [
    {
     "data": {
      "text/plain": [
       "GMMHMM(algorithm='viterbi', covariance_type='full', covars_prior=0.01,\n",
       "    gmms=None,\n",
       "    init_params='abcdefghijklmnopqrstuvwxyzABCDEFGHIJKLMNOPQRSTUVWXYZ',\n",
       "    n_components=12, n_iter=10000, n_mix=25,\n",
       "    params='abcdefghijklmnopqrstuvwxyzABCDEFGHIJKLMNOPQRSTUVWXYZ',\n",
       "    random_state=None, startprob=None, startprob_prior=1.0, thresh=0.01,\n",
       "    transmat=None, transmat_prior=1.0)"
      ]
     },
     "execution_count": 96,
     "metadata": {},
     "output_type": "execute_result"
    }
   ],
   "source": [
    "hmm"
   ]
  },
  {
   "cell_type": "code",
   "execution_count": null,
   "metadata": {
    "collapsed": true
   },
   "outputs": [],
   "source": []
  },
  {
   "cell_type": "code",
   "execution_count": 132,
   "metadata": {
    "collapsed": true
   },
   "outputs": [],
   "source": [
    "\n",
    "with open('hmm.pickle', 'wb') as f:\n",
    "    # Pickle the 'data' dictionary using the highest protocol available.\n",
    "    pickle.dump(hmm, f, pickle.HIGHEST_PROTOCOL)"
   ]
  },
  {
   "cell_type": "code",
   "execution_count": null,
   "metadata": {
    "collapsed": true
   },
   "outputs": [],
   "source": []
  },
  {
   "cell_type": "code",
   "execution_count": 159,
   "metadata": {
    "collapsed": false
   },
   "outputs": [],
   "source": [
    "sample, states = hmm.sample(200)\n",
    "savetxt(\"sample.txt\", sample)"
   ]
  },
  {
   "cell_type": "code",
   "execution_count": null,
   "metadata": {
    "collapsed": true
   },
   "outputs": [],
   "source": []
  },
  {
   "cell_type": "code",
   "execution_count": 157,
   "metadata": {
    "collapsed": false
   },
   "outputs": [
    {
     "data": {
      "text/plain": [
       "array([ 0.00431466,  0.00172215,  0.00696254,  0.00539423,  0.00553591,\n",
       "        0.00154068,  0.00610962,  0.00981846,  0.00693254,  0.00534964,\n",
       "        0.0054392 ,  0.00444281,  0.00747858,  0.00385786,  0.0044166 ,\n",
       "        0.0055872 ,  0.00415367,  0.0049109 ,  0.00316079,  0.00548493,\n",
       "        0.01001126,  0.00116463,  0.0035452 ,  0.00659605,  0.00452211,\n",
       "        0.00870406,  0.00256413,  0.00476725,  0.00570353,  0.00410531,\n",
       "        0.00811537,  0.00368929,  0.00418745,  0.00440757,  0.01177984,\n",
       "        0.00635283,  0.00325009,  0.00232652,  0.0057482 ,  0.012746  ,\n",
       "        0.00979454,  0.00439511,  0.00817986,  0.01116452,  0.00480536,\n",
       "        0.00451023,  0.00864847,  0.00927113,  0.00450241,  0.00485044])"
      ]
     },
     "execution_count": 157,
     "metadata": {},
     "output_type": "execute_result"
    }
   ],
   "source": [
    "std(hmm.gmms_[9].means_,0)"
   ]
  },
  {
   "cell_type": "code",
   "execution_count": null,
   "metadata": {
    "collapsed": true
   },
   "outputs": [],
   "source": []
  }
 ],
 "metadata": {
  "kernelspec": {
   "display_name": "Python 3",
   "language": "python",
   "name": "python3"
  },
  "language_info": {
   "codemirror_mode": {
    "name": "ipython",
    "version": 3
   },
   "file_extension": ".py",
   "mimetype": "text/x-python",
   "name": "python",
   "nbconvert_exporter": "python",
   "pygments_lexer": "ipython3",
   "version": "3.4.3"
  }
 },
 "nbformat": 4,
 "nbformat_minor": 0
}
