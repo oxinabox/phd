{
 "cells": [
  {
   "cell_type": "code",
   "execution_count": 1,
   "metadata": {
    "collapsed": false
   },
   "outputs": [
    {
     "data": {
      "text/plain": [
       "11-element Array{Int64,1}:\n",
       "  2\n",
       "  3\n",
       "  4\n",
       "  5\n",
       "  6\n",
       "  7\n",
       "  8\n",
       "  9\n",
       " 10\n",
       " 11\n",
       " 12"
      ]
     },
     "execution_count": 1,
     "metadata": {},
     "output_type": "execute_result"
    }
   ],
   "source": [
    "addprocs(11)"
   ]
  },
  {
   "cell_type": "code",
   "execution_count": 2,
   "metadata": {
    "collapsed": true
   },
   "outputs": [
    {
     "name": "stderr",
     "output_type": "stream",
     "text": [
      "WARNING: replacing module FunctionalCollections\n",
      "WARNING: replacing module FunctionalCollections\n",
      "WARNING: replacing module FunctionalCollections\n",
      "WARNING: replacing module FunctionalCollections\n",
      "WARNING: replacing module FunctionalCollections\n",
      "WARNING: replacing module FunctionalCollections\n",
      "WARNING: replacing module FunctionalCollections\n",
      "WARNING: replacing module FunctionalCollections\n",
      "WARNING: replacing module FunctionalCollections\n",
      "WARNING: replacing module FunctionalCollections\n",
      "WARNING: replacing module FunctionalCollections\n",
      "WARNING: replacing module Iterators\n",
      "WARNING: replacing module Iterators\n",
      "WARNING: replacing module Iterators\n",
      "WARNING: Method definition count() in module Iterators at deprecated.jl:49 overwritten in module Iterators at deprecated.jl:49.\n",
      "WARNING: Method definition count(Number) in module Iterators at deprecated.jl:49 overwritten in module Iterators at deprecated.jl:49.\n",
      "WARNING: Method definition count(Number, Number) in module Iterators at deprecated.jl:49 overwritten in module Iterators at deprecated.jl:49.\n",
      "WARNING: replacing module Iterators\n",
      "WARNING: Method definition count() in module Iterators at deprecated.jl:49 overwritten in module Iterators at deprecated.jl:49.\n",
      "WARNING: Method definition count(Number) in module Iterators at deprecated.jl:49 overwritten in module Iterators at deprecated.jl:49.\n",
      "WARNING: Method definition count(Number, Number) in module Iterators at deprecated.jl:49 overwritten in module Iterators at deprecated.jl:49.\n",
      "WARNING: replacing module Iterators\n",
      "WARNING: replacing module Iterators\n",
      "WARNING: Method definition count() in module Iterators at deprecated.jl:49 overwritten in module Iterators at deprecated.jl:49.\n",
      "WARNING: Method definition count(Number) in module Iterators at deprecated.jl:49 overwritten in module Iterators at deprecated.jl:49.\n",
      "WARNING: Method definition count(Number, Number) in module Iterators at deprecated.jl:49 overwritten in module Iterators at deprecated.jl:49.\n",
      "WARNING: Method definition count() in module Iterators at deprecated.jl:49 overwritten in module Iterators at deprecated.jl:49.\n",
      "WARNING: Method definition count(Number) in module Iterators at deprecated.jl:49 overwritten in module Iterators at deprecated.jl:49.\n",
      "WARNING: Method definition count(Number, Number) in module Iterators at deprecated.jl:49 overwritten in module Iterators at deprecated.jl:49.\n",
      "WARNING: replacing module Iterators\n",
      "WARNING: replacing module Iterators\n",
      "WARNING: replacing module Iterators\n",
      "WARNING: Method definition count() in module Iterators at deprecated.jl:49 overwritten in module Iterators at deprecated.jl:49.\n",
      "WARNING: Method definition count(Number) in module Iterators at deprecated.jl:49 overwritten in module Iterators at deprecated.jl:49.\n",
      "WARNING: Method definition count(Number, Number) in module Iterators at deprecated.jl:49 overwritten in module IteratorsWARNING: Method definition count at deprecated.jl:49.\n",
      "() in module Iterators at deprecated.jl:49 overwritten in module Iterators at deprecated.jl:49.\n",
      "WARNING: Method definition count(Number) in module Iterators at deprecated.jl:49 overwritten in module Iterators at deprecated.jl:49.\n",
      "WARNING: Method definition count(Number, Number) in module Iterators at deprecated.jl:49 overwritten in module Iterators at deprecated.jl:49.\n",
      "WARNING: replacing module Iterators\n",
      "WARNING: replacing module Iterators\n",
      "WARNING: Method definition count() in module Iterators at deprecated.jl:49 overwritten in module Iterators at deprecated.jl:49.\n",
      "WARNING: Method definition count(Number) in module Iterators at deprecated.jl:49 overwritten in module Iterators at deprecated.jl:49.\n",
      "WARNING: Method definition count(Number, Number) in module Iterators at deprecated.jl:49 overwritten in module Iterators at deprecated.jl:49.\n",
      "WARNING: Method definition count() in module Iterators at deprecated.jl:49 overwritten in module Iterators at deprecated.jl:49.\n",
      "WARNING: Method definition count(Number) in module Iterators at deprecated.jl:49 overwritten in module Iterators at deprecated.jl:49.\n",
      "WARNING: Method definition count(Number, Number) in module Iterators at deprecated.jl:49 overwritten in module Iterators at deprecated.jl:49.\n",
      "WARNING: Method definition count() in module Iterators at deprecated.jl:49 overwritten in module Iterators at deprecated.jl:49.\n",
      "WARNING: Method definition count(Number) in module Iterators at deprecated.jl:49 overwritten in module Iterators at deprecated.jl:49.\n",
      "WARNING: Method definition count(Number, Number) in module Iterators at deprecated.jl:49 overwritten in module Iterators at deprecated.jl:49.\n",
      "WARNING: Method definition count() in module Iterators at deprecated.jl:49 overwritten in module Iterators at deprecated.jl:49.\n",
      "WARNING: Method definition count(Number) in module Iterators at deprecated.jl:49 overwritten in module Iterators at deprecated.jl:49.\n",
      "WARNING: Method definition count(Number, Number) in module Iterators at deprecated.jl:49 overwritten in module Iterators at deprecated.jl:49.\n",
      "WARNING: Method definition count() in module Iterators at deprecated.jl:49 overwritten in module Iterators at deprecated.jl:49.\n",
      "WARNING: Method definition count(Number) in module Iterators at deprecated.jl:49 overwritten in module Iterators at deprecated.jl:49.\n",
      "WARNING: Method definition count(Number, Number) in module Iterators at deprecated.jl:49 overwritten in module Iterators at deprecated.jl:49.\n",
      "WARNING: replacing module Pipe\n"
     ]
    },
    {
     "data": {
      "text/plain": [
       "4-element Array{ByteString,1}:\n",
       " \"/home/ubuntu/build/julia-master/usr/local/share/julia/site/v0.5\"\n",
       " \"/home/ubuntu/build/julia-master/usr/share/julia/site/v0.5\"      \n",
       " \".\"                                                              \n",
       " \"../util/\"                                                       "
      ]
     },
     "execution_count": 2,
     "metadata": {},
     "output_type": "execute_result"
    },
    {
     "name": "stderr",
     "output_type": "stream",
     "text": [
      "WARNING: replacing module Pipe\n",
      "WARNING: replacing module Pipe\n",
      "WARNING: replacing module Pipe\n",
      "WARNING: replacing module Pipe\n",
      "WARNING: replacing module Pipe\n",
      "WARNING: replacing module Pipe\n",
      "WARNING: replacing module Pipe\n",
      "WARNING: replacing module Pipe\n",
      "WARNING: replacing module Pipe\n",
      "WARNING: replacing module Pipe\n"
     ]
    }
   ],
   "source": [
    "@everywhere using FunctionalCollections\n",
    "@everywhere using Iterators\n",
    "@everywhere using Pipe\n",
    "using Compat\n",
    "\n",
    "macro printval(ee)\n",
    "    ee_expr = @sprintf \"%s\" string(ee)\n",
    "    esc(:(println($ee_expr,\" = \", $ee)))\n",
    "end\n",
    "\n",
    "macro pz(ee)\n",
    "    ee_expr = @sprintf \"%s\" string(ee)\n",
    "    esc(:(println($ee_expr,\"\\t\\t\",typeof($ee), \"\\t\", size($ee))))\n",
    "end\n",
    "\n",
    "push!(LOAD_PATH, \".\")\n",
    "push!(LOAD_PATH, \"../util/\")"
   ]
  },
  {
   "cell_type": "code",
   "execution_count": null,
   "metadata": {
    "collapsed": true
   },
   "outputs": [],
   "source": []
  },
  {
   "cell_type": "code",
   "execution_count": 3,
   "metadata": {
    "collapsed": false
   },
   "outputs": [
    {
     "data": {
      "text/plain": [
       "42004-element Array{Array{ASCIIString,1},1}:\n",
       " ASCIIString[\"``\",\"``\",\"of\",\"the\",\"the\",\"``\",\"of\",\"any\",\"the\",\"it\"  …  \"widespread\",\"meanwhile\",\"include\",\"23-year-old\",\"unavailable\",\".\",\"city\",\"interest\",\"ran\",\"example\"]                     \n",
       " ASCIIString[\"law\",\"it\",\"to\",\"``\",\"act\",\"and\",\"of\",\"improve\",\"years\",\"recommended\"  …  \"they\",\"forcing\",\"''\",\"legislators\",\"analysed\",\"end\",\"there\",\"inspired\",\"these\",\"meanwhile\"]              \n",
       " ASCIIString[\"we\",\"other\",\"they\",\"other\",\"it\",\"will\",\"the\",\"other\",\"``\",\"public\"  …  \"organization\",\"respectively\",\"illuminating\",\"and\",\"subdued\",\"connection\",\",\",\"but\",\"which\",\"veterinarians\"]\n",
       " ASCIIString[\"merger\",\"proposed\"]                                                                                                                                                                \n",
       " ASCIIString[\"of\",\"greater\",\"the\",\"reduce\",\"two\",\"efficiency\",\"jury\",\"cost\",\"combined\",\"believes\"  …  \".\",\"administration\",\"achieve\",\",\",\"it\",\"these\",\"said\",\"``\",\"however\",\"and\"]               \n",
       " ASCIIString[\"city\",\"the\",\"``\",\"department\",\"in\",\"a\",\"personnel\",\"of\",\",\",\"city\"  …  \"''\",\"personnel\",\",\",\"purchasing\",\"as\",\"policies\",\"the\",\"said\",\"result\",\"is\"]                               \n",
       " ASCIIString[\"it\",\"to\",\"that\",\"``\",\"take\",\"this\",\"city\",\"problem\",\"the\",\"remedy\",\"urged\",\".\",\"steps\",\"''\"]                                                                                       \n",
       " ASCIIString[\"we\",\"be\",\"it\",\"the\",\"law\",\"this\",\"its\",\"provide\",\"be\",\"implementation\"  …  \"nibblers\",\"comer\",\"facilitated\",\"sits\",\"urged\",\"cuts\",\"may\",\"did\",\"''\",\"16\"]                           \n",
       " ASCIIString[\"state\",\"the\",\"the\",\"state\",\"it\",\"the\",\"we\",\"the\",\"the\",\"state\"  …  \"1953\",\"directs\",\"interrogatives\",\"gild\",\".\",\"areas\",\"disciple\",\"''\",\"44\",\"thursday\"]                           \n",
       " ASCIIString[\"``\",\"not\",\"its\",\"this\",\"program\",\"``\",\"areas\",\"amount\",\"counties\",\"a\"  …  \"fifty-two\",\"said\",\"mechanism\",\"shenanigans\",\"to\",\"our\",\"they\",\"of\",\"victorious\",\"more\"]                 \n",
       " ASCIIString[\"we\",\"we\",\"``\",\"county\",\"will\",\"the\",\"some\",\"``\",\"of\",\"funds\"  …  \"fulton\",\"future\",\"well-to-do\",\"respectively\",\"likened\",\".\",\"feeling\",\"although\",\"instruct\",\"provided\"]           \n",
       " ASCIIString[\"will\",\"to\",\"do\",\"on\",\"this\",\"burden\",\"to\",\"``\",\"failure\",\"taxpayers\",\"place\",\"disproportionate\",\"fulton\",\"a\",\".\",\"continue\",\"''\"]                                                  \n",
       " ASCIIString[\"wards\",\"protected\"]                                                                                                                                                                \n",
       " ⋮                                                                                                                                                                                               \n",
       " ASCIIString[\"the\",\"the\",\"his\",\"the\",\"off\",\",\",\"beautiful\",\"of\",\"buddha\",\",\"  …  \"was\",\"satisfying\",\".\",\"masterly\",\"the\",\",\",\"part\",\"way\",\"however\",\"him\"]                                       \n",
       " ASCIIString[\"a\",\"to\",\"he\",\"a\",\"television\",\"job\",\"to\",\".\",\"producer\",\"office\",\"reduced\",\"boy\",\"beggary\",\"at\",\",\",\"got\",\"as\",\"last\"]                                                             \n",
       " ASCIIString[\"his\",\"of\",\"him\",\"to\",\"and\",\"the\",\"taste\",\",\",\"deficiency\",\"straightaway\",\"carried\",\"hubris\",\"top\",\"sadism\",\",\",\".\"]                                                                \n",
       " ASCIIString[\"he\",\"new\",\"his\",\"depths\",\"networks\",\"superseded\",\"and\",\"besmirched\",\"boss\",\"bathos\",\",\",\"plumbed\",\"of\",\"programs\",\".\",\"evolved\",\"and\",\"whole\",\"quickly\",\"that\"]                    \n",
       " ASCIIString[\"i\",\"an\",\"in\",\"city\",\";\",\"down\",\"with\",\"long\",\"radio\",\";\",\"elevator\",\"rode\",\",\",\"him\",\"in\",\"not\",\"ago\"]                                                                             \n",
       " ASCIIString[\"two\",\"he\",\"a\",\"to\",\"in\",\"smoking\",\"at\",\"the\",\"man\",\"cigars\"  …  \".\",\"talking\",\"to\",\"and\",\"himself\",\"thirteen\",\"was\",\",\",\"once\",\"clearly\"]                                          \n",
       " ASCIIString[\"``\",\"?\",\"guy\",\"that\",\"see\",\"?\",\"''\"]                                                                                                                                               \n",
       " ASCIIString[\"you\",\"do\",\"to\",\"on\",\"count\",\"as\",\"the\",\".\",\"same\",\"can\",\"me\"]                                                                                                                      \n",
       " ASCIIString[\"yours\",\"compassionately\",\",\"]                                                                                                                                                      \n",
       " ASCIIString[\"j.\",\"s.\",\"perelman\"]                                                                                                                                                               \n",
       " ASCIIString[\"desert\",\"in\",\"revulsion\",\"the\"]                                                                                                                                                    \n",
       " ASCIIString[\"into\",\"i\",\"into\",\"the\",\"down\",\"the\",\"it\",\"their\",\"into\",\"the\"  …  \"hergesheimer\",\"berry\",\"inboard\",\"meanwhile\",\"yeah\",\"present\",\"wasson\",\"fell\",\"vis-a-vis\",\"in\"]                  "
      ]
     },
     "execution_count": 3,
     "metadata": {},
     "output_type": "execute_result"
    }
   ],
   "source": [
    "using JLD\n",
    "raw_bow_res = load(\"results/bags/brown_glove300_res.jld\", \"res\")\n",
    "ground_sents = Vector{ASCIIString}[rset[1] for rset in raw_bow_res]\n",
    "reconstructed_bows = Vector{ASCIIString}[rset[2] for rset in raw_bow_res]"
   ]
  },
  {
   "cell_type": "code",
   "execution_count": 4,
   "metadata": {
    "collapsed": false
   },
   "outputs": [],
   "source": [
    "#shuffled_indexes = 1:length(ground_sents) |> collect |> shuffle!\n",
    "#nfolds=10\n",
    "#fold_indexes = Vector{Int}[\n",
    "#    shuffled_indexes[(ii-1)*end÷nfolds + 1: ii*end÷nfolds]\n",
    "#    for ii in 1:nfolds]\n",
    "\n",
    "#@save(\"brown_glove_folds.jld\", fold_indexes)"
   ]
  },
  {
   "cell_type": "code",
   "execution_count": 5,
   "metadata": {
    "collapsed": false
   },
   "outputs": [
    {
     "data": {
      "text/plain": [
       "10-element Array{Array{Int64,1},1}:\n",
       " [11112,915,10377,39625,36527,22480,13090,11625,18623,36053  …  10652,19555,37544,4237,35894,20952,13575,23648,26915,30604] \n",
       " [17862,8068,39899,23060,12471,32403,19173,21043,37629,35012  …  28424,28507,9914,6732,10804,15612,15270,4704,10592,7879]   \n",
       " [2767,27767,24551,14112,41366,26488,40807,10919,12978,38776  …  7287,9600,33918,13428,24762,22055,31210,39211,36019,35058] \n",
       " [19367,19049,4870,1952,19226,18849,11680,29823,16013,34400  …  7169,14937,8859,30863,25858,25752,27654,19895,38530,18750]  \n",
       " [4159,27416,18031,28537,25576,23478,23044,36720,20189,19312  …  7312,18693,37437,14704,19449,35522,26035,22197,18816,40463]\n",
       " [17400,7369,33281,20292,948,15892,9065,21712,2690,26137  …  10453,31781,8986,8499,2617,14306,703,32897,13714,37049]        \n",
       " [23075,1862,20674,215,2453,6764,24659,33527,15944,32282  …  37479,17101,24318,41786,41101,629,27414,35396,28866,1497]      \n",
       " [26727,2633,20446,4256,36719,9361,39274,11676,6100,496  …  8043,20364,17063,27357,20371,13885,7426,28313,31818,16990]      \n",
       " [33456,38243,22903,28404,4940,29886,7380,4039,4843,33222  …  31375,23491,8558,24792,14542,26759,11816,41926,28575,5037]    \n",
       " [31408,13979,15316,36097,37486,28764,24371,38797,21841,39086  …  24456,7028,23576,1517,9996,28293,21072,22368,7867,26536]  "
      ]
     },
     "execution_count": 5,
     "metadata": {},
     "output_type": "execute_result"
    }
   ],
   "source": [
    "@load(\"brown_glove_folds.jld\", fold_indexes)\n",
    "fold_indexes"
   ]
  },
  {
   "cell_type": "code",
   "execution_count": 121,
   "metadata": {
    "collapsed": false
   },
   "outputs": [],
   "source": [
    "@everywhere function fold_split(fold_ii)\n",
    "    test_indexes = fold_indexes[fold_ii]\n",
    "    training_indexes = trues(ground_sents)\n",
    "    training_indexes[test_indexes]=false\n",
    "\n",
    "    test_unordered_sents = reconstructed_bows[fold_indexes[fold_ii]]\n",
    "    test_ground = ground_sents[fold_indexes[fold_ii]]\n",
    "    training_sents = ground_sents[fold_indexes[fold_ii]]\n",
    "    test_unordered_sents,test_ground, training_sents\n",
    "end\n",
    "    "
   ]
  },
  {
   "cell_type": "code",
   "execution_count": 46,
   "metadata": {
    "collapsed": true
   },
   "outputs": [],
   "source": [
    "@everywhere using PyCall\n",
    "#http://www.nltk.org/howto/probability.html\n",
    "@everywhere @pyimport nltk\n",
    "@everywhere @pyimport nltk.probability as nltk_prob\n",
    "\n",
    "@everywhere function train_language_model{T}(train_corpus::Vector{Vector{T}})\n",
    "    function py_collect(xs::PyObject)\n",
    "        xst = []\n",
    "        for x in xs\n",
    "            push!(xst,x)\n",
    "        end\n",
    "        xst\n",
    "    end\n",
    "    function trigram_buffer(sent)\n",
    "        [START_MARKER1, START_MARKER2, sent..., END_MARKER1, END_MARKER2] \n",
    "    end\n",
    "\n",
    "    training_trigrams = vcat([py_collect(nltk.trigrams(trigram_buffer(sent))) for sent in train_corpus]...)\n",
    "    kn_prob_dist = nltk_prob.KneserNeyProbDist(pycall(nltk_prob.FreqDist, PyObject, training_trigrams))\n",
    "    \n",
    "    function trigram_model(given1::S, given2::S, event::S)\n",
    "        kn_prob_dist[:prob]((given1, given2, event))\n",
    "    end\n",
    "end"
   ]
  },
  {
   "cell_type": "code",
   "execution_count": 7,
   "metadata": {
    "collapsed": true
   },
   "outputs": [],
   "source": [
    "@everywhere const START_MARKER1 = \"**START1**\"\n",
    "@everywhere const START_MARKER2 = \"**START2**\"\n",
    "@everywhere const END_MARKER1 = \"**END1**\"\n",
    "@everywhere const END_MARKER2 = \"**END2**\"\n",
    "\n",
    "@everywhere const zeroed_words = ASCIIString[]\n"
   ]
  },
  {
   "cell_type": "code",
   "execution_count": null,
   "metadata": {
    "collapsed": false
   },
   "outputs": [],
   "source": [
    "@everywhere typealias S ASCIIString\n",
    "@everywhere typealias State{T} Tuple{T,T}\n",
    "@everywhere typealias OrderOptionsCache Dict{Tuple{State{S}, Vector{S}}, Vector{Tuple{plist{S}, Float64}}}\n",
    "\n",
    "\n",
    "#\"\"\"\n",
    "#returns all possible orderings of the remaining words.\n",
    "#the freewords are also inserted into every possible position, EXCEPT at the end.\n",
    "#Freewords also will not be inserted after other freewords\n",
    "#(For now)\n",
    "#\"\"\"\n",
    "@everywhere function get_all_orders(unordered_words::Vector{S}, languauge_model::Function; beam_width=Inf)\n",
    "    _get_options_cache = OrderOptionsCache()\n",
    "\n",
    "    function transition_prob(cur_state::State{S}, next_word::S)\n",
    "        languauge_model(cur_state[1],cur_state[2], next_word)\n",
    "    end\n",
    "    \n",
    "    \n",
    "    function get_options(state::State{S}, remaining_words)\n",
    "        if length(remaining_words)>0\n",
    "            get!(_get_options_cache, (state, remaining_words)) do\n",
    "                _get_options(state, remaining_words)\n",
    "            end\n",
    "        else\n",
    "            _get_options(state)\n",
    "        end\n",
    "    end\n",
    "    \n",
    "    function _get_options(cur_state::State{S})\n",
    "        tp = transition_prob(cur_state, END_MARKER1)\n",
    "        # Given P(END_MARKER2 | curstatep[2]==END_MARKER1) = 1.0\n",
    "        # Do not need to consider P(END_MARKER2 | curstatep[2]==END_MARKER1, curstatep[1])\n",
    "        [(EmptyList{S}(), tp)]\n",
    "    end\n",
    "    \n",
    "    function _get_options(cur_state::State{S}, remaining_words)\n",
    "        function inner()\n",
    "            (@task begin\n",
    "                branches = Tuple{Int, Float64}[(ii,transition_prob(cur_state, next_word)) \n",
    "                                                for (ii, next_word) in enumerate(remaining_words)]\n",
    "                beam_end = min(length(remaining_words), beam_width)\n",
    "                beam = select!(branches, 1:beam_end, by=ip->ip[2], rev=true)\n",
    "                \n",
    "                for (next_word_ii, tp) in beam\n",
    "                    if tp==0.0\n",
    "                        break #There are No good solutions left (as it is sorted best first)\n",
    "                    end\n",
    "                    \n",
    "                    @inbounds word = remaining_words[next_word_ii]\n",
    "                    new_remaining_words = sub(remaining_words,[1:next_word_ii-1; next_word_ii+1:length(remaining_words)])\n",
    "                    @inbounds next_state = (cur_state[2],word)\n",
    "                    tails_and_tailprobs = get_options(next_state, new_remaining_words) #Actually doing a beam depth-first\n",
    "                    \n",
    "                    for (tail, tailprob) in tails_and_tailprobs\n",
    "                        total_prob = tp*tailprob\n",
    "                        if total_prob>0.0\n",
    "                            produce(cons(word, tail), total_prob)\n",
    "                        end\n",
    "                    end\n",
    "                end\n",
    "            end)\n",
    "        end\n",
    "        \n",
    "        inner() |> collect\n",
    "    end\n",
    "    \n",
    "    initial_state = (START_MARKER1, START_MARKER2)\n",
    "    get_options(initial_state, unordered_words)\n",
    "end"
   ]
  },
  {
   "cell_type": "code",
   "execution_count": null,
   "metadata": {
    "collapsed": false
   },
   "outputs": [],
   "source": [
    "function order(unordered_words::Vector{S}, language_model::Function; beam_width=Inf, best_n=1::Int)\n",
    "    orders_and_probs = get_all_orders(free_words, unordered_words, beam_width)\n",
    "    best_n = min(best_n, length(orders_and_probs))\n",
    "    if best_n==0 #None found\n",
    "        #warn(\"No possible Orderding found. Defaulting to unordered: \".*string(unordered_words))\n",
    "        Tuple[(unordered_words, 0.0)]\n",
    "    elseif best_n==1 #4x as fast as the else\n",
    "        max_prob, max_ii = @pipe orders_and_probs |> map(op->op[2],_) |> findmax\n",
    "        Tuple[orders_and_probs[max_ii]]\n",
    "    else\n",
    "        select!(orders_and_probs, 1:best_n, by=op->-op[2] )\n",
    "    end\n",
    "end\n",
    "\n",
    "function norm_order(unordered_words::Vector{S}, language_model::Function;  kwargs...)\n",
    "    orders_and_probs = order(unordered_words, language_model; kwargs...)\n",
    "    total_prob = @pipe orders_and_probs |> map(op->op[2], _ ) |> sum\n",
    "    total_prob = total_prob == 0.0 ? 1.0 : total_prob\n",
    "    [(join(order, \" \"), prob/total_prob) for (order,prob) in orders_and_probs]\n",
    "end\n",
    "\n",
    "@everywhere function best_order(unordered_words::Vector{S}, language_model::Function;  kwargs...)\n",
    "    orders_and_probs = get_all_orders(unordered_words, language_model; kwargs...)\n",
    "    if length(orders_and_probs)==0\n",
    "        return (unordered_words, 0.0)\n",
    "    end\n",
    "        \n",
    "    total_prob = Pipe.@pipe orders_and_probs |> map(op->op[2], _ ) |> sum\n",
    "    max_prob, max_ii = Pipe.@pipe orders_and_probs |> map(op->op[2],_) |> findmax\n",
    "    order, prob = orders_and_probs[max_ii]\n",
    "    @assert(prob==max_prob)\n",
    "    order, prob/total_prob\n",
    "end\n",
    "    "
   ]
  },
  {
   "cell_type": "code",
   "execution_count": 122,
   "metadata": {
    "collapsed": false
   },
   "outputs": [
    {
     "data": {
      "text/plain": [
       "trigram_model (generic function with 1 method)"
      ]
     },
     "execution_count": 122,
     "metadata": {},
     "output_type": "execute_result"
    }
   ],
   "source": [
    "\n",
    "test, test_ground, train = fold_split(1)\n",
    "language_model = train_language_model(train)\n"
   ]
  },
  {
   "cell_type": "code",
   "execution_count": 126,
   "metadata": {
    "collapsed": false
   },
   "outputs": [
    {
     "data": {
      "text/plain": [
       "20-element Array{ASCIIString,1}:\n",
       " \"satires\"       \n",
       " \"of\"            \n",
       " \"circumstance\"  \n",
       " \"and\"           \n",
       " \"moments\"       \n",
       " \"of\"            \n",
       " \"vision\"        \n",
       " \",\"             \n",
       " \"coming\"        \n",
       " \"during\"        \n",
       " \"his\"           \n",
       " \"most\"          \n",
       " \"productive\"    \n",
       " \"decade\"        \n",
       " \",\"             \n",
       " \"are\"           \n",
       " \"relatively\"    \n",
       " \"self-contained\"\n",
       " \";\"             \n",
       " \";\"             "
      ]
     },
     "execution_count": 126,
     "metadata": {},
     "output_type": "execute_result"
    }
   ],
   "source": [
    "test_ground[60]"
   ]
  },
  {
   "cell_type": "code",
   "execution_count": 125,
   "metadata": {
    "collapsed": false,
    "scrolled": true
   },
   "outputs": [
    {
     "data": {
      "text/plain": [
       "73-element Array{Int64,1}:\n",
       "   60\n",
       "  372\n",
       "  379\n",
       "  432\n",
       "  446\n",
       "  493\n",
       "  633\n",
       "  665\n",
       "  761\n",
       "  787\n",
       "  865\n",
       "  875\n",
       "  911\n",
       "    ⋮\n",
       " 3557\n",
       " 3587\n",
       " 3639\n",
       " 3686\n",
       " 3692\n",
       " 3847\n",
       " 3894\n",
       " 3912\n",
       " 3996\n",
       " 4049\n",
       " 4105\n",
       " 4171"
      ]
     },
     "execution_count": 125,
     "metadata": {},
     "output_type": "execute_result"
    }
   ],
   "source": [
    "@pipe test |> map(x->length(x)==25, _) |> find"
   ]
  },
  {
   "cell_type": "code",
   "execution_count": 131,
   "metadata": {
    "collapsed": false
   },
   "outputs": [
    {
     "name": "stdout",
     "output_type": "stream",
     "text": [
      " 26"
     ]
    },
    {
     "data": {
      "text/plain": [
       "(ASCIIString[\"more\",\"most\",\"of\",\"during\",\"are\",\"his\",\";\",\"of\",\",\",\"vision\"  …  \"ex-mayor\",\"respectively\",\"thing\",\"productive\",\";\",\"satires\",\"circumstance\",\"shortly\",\"and\",\"sweeneys\"],0.0)"
      ]
     },
     "execution_count": 131,
     "metadata": {},
     "output_type": "execute_result"
    },
    {
     "name": "stdout",
     "output_type": "stream",
     "text": [
      ".247862 seconds (7.65 M allocations: 245.716 MB, 6.58% gc time)\n"
     ]
    }
   ],
   "source": [
    "@time best_order(test[60], language_model, beam_width=5)"
   ]
  },
  {
   "cell_type": "code",
   "execution_count": 120,
   "metadata": {
    "collapsed": false
   },
   "outputs": [
    {
     "data": {
      "text/plain": [
       "3-element Array{ASCIIString,1}:\n",
       " \"ask\"     \n",
       " \"jail\"    \n",
       " \"deputies\""
      ]
     },
     "execution_count": 120,
     "metadata": {},
     "output_type": "execute_result"
    }
   ],
   "source": [
    "ground_sents[16]"
   ]
  },
  {
   "cell_type": "code",
   "execution_count": 24,
   "metadata": {
    "collapsed": false
   },
   "outputs": [
    {
     "ename": "LoadError",
     "evalue": "LoadError: PyError (:PySequence_Size) <type 'exceptions.TypeError'>\nTypeError(\"object of type 'generator' has no len()\",)\n\nwhile loading In[24], in expression starting on line 1",
     "output_type": "error",
     "traceback": [
      "LoadError: PyError (:PySequence_Size) <type 'exceptions.TypeError'>\nTypeError(\"object of type 'generator' has no len()\",)\n\nwhile loading In[24], in expression starting on line 1",
      "",
      " [inlined code] from /home/ubuntu/.julia/v0.5/PyCall/src/exception.jl:82",
      " in length at /home/ubuntu/.julia/v0.5/PyCall/src/PyCall.jl:451",
      " in collect at array.jl:243",
      " in collect at array.jl:262",
      " in anonymous at no file"
     ]
    }
   ],
   "source": [
    "training_trigrams = [nltk.trigrams(sent)|>collect for sent in train]\n"
   ]
  },
  {
   "cell_type": "code",
   "execution_count": 35,
   "metadata": {
    "collapsed": false
   },
   "outputs": [],
   "source": []
  },
  {
   "cell_type": "code",
   "execution_count": null,
   "metadata": {
    "collapsed": false,
    "scrolled": true
   },
   "outputs": [],
   "source": [
    "map(examples) do unordered_words\n",
    "    order(unordered_words, ASCIIString[])\n",
    "    end"
   ]
  },
  {
   "cell_type": "code",
   "execution_count": null,
   "metadata": {
    "collapsed": false,
    "scrolled": true
   },
   "outputs": [],
   "source": [
    "short_cases = Bool[length(ws) <=20 for ws in unordered_output]\n",
    "\n",
    "true_ordered_sents = test_set[short_cases]\n",
    "ordered_sents_and_probs = pmap(unordered_output[short_cases]) do unordered_words\n",
    "    order(unordered_words, zeroed_words)\n",
    "end"
   ]
  },
  {
   "cell_type": "code",
   "execution_count": null,
   "metadata": {
    "collapsed": false,
    "scrolled": true
   },
   "outputs": [],
   "source": [
    "ordered_sents = map(op->op[1], ordered_sents_and_probs, be)"
   ]
  },
  {
   "cell_type": "code",
   "execution_count": null,
   "metadata": {
    "collapsed": false
   },
   "outputs": [],
   "source": []
  },
  {
   "cell_type": "code",
   "execution_count": null,
   "metadata": {
    "collapsed": false,
    "scrolled": true
   },
   "outputs": [],
   "source": [
    "perfect_matches = Bool[]  \n",
    "for ii in 1:length(ordered_sents)\n",
    "    ordered_words = ordered_sents[ii]\n",
    "    actual_words = true_ordered_sents[ii]\n",
    "    \n",
    "    match = ordered_words == actual_words\n",
    "    push!(perfect_matches, match)\n",
    "    #println(\"$ii - $match\")\n",
    "end\n",
    "mean(perfect_matches)"
   ]
  },
  {
   "cell_type": "code",
   "execution_count": null,
   "metadata": {
    "collapsed": false
   },
   "outputs": [],
   "source": [
    "@pyimport nltk\n",
    "@pyimport nltk.translate.bleu_score as nltk_bleu\n",
    "\n",
    "function bleu_score(candidate, reference)\n",
    "    reference = reference |> collect\n",
    "    candidate = candidate |> collect\n",
    "    \n",
    "    if reference==candidate #Perfect Match\n",
    "        1.0\n",
    "    else\n",
    "        weights = [1,1,1,1]/4\n",
    "        nltk_bleu.bleu(Any[reference],candidate, weights)\n",
    "    end\n",
    "end"
   ]
  },
  {
   "cell_type": "code",
   "execution_count": null,
   "metadata": {
    "collapsed": false
   },
   "outputs": [],
   "source": [
    "map(bleu_score, ordered_sents,true_ordered_sents) |> mean\n"
   ]
  },
  {
   "cell_type": "code",
   "execution_count": null,
   "metadata": {
    "collapsed": false
   },
   "outputs": [],
   "source": [
    "bleu_score(true_ordered_sents[3], true_ordered_sents[3])"
   ]
  },
  {
   "cell_type": "code",
   "execution_count": null,
   "metadata": {
    "collapsed": true
   },
   "outputs": [],
   "source": []
  },
  {
   "cell_type": "code",
   "execution_count": null,
   "metadata": {
    "collapsed": false
   },
   "outputs": [],
   "source": [
    "true_ordered_sents"
   ]
  },
  {
   "cell_type": "code",
   "execution_count": null,
   "metadata": {
    "collapsed": false
   },
   "outputs": [],
   "source": [
    "ordered_sents"
   ]
  },
  {
   "cell_type": "code",
   "execution_count": null,
   "metadata": {
    "collapsed": false
   },
   "outputs": [],
   "source": [
    "ordered_sents[50]"
   ]
  },
  {
   "cell_type": "code",
   "execution_count": null,
   "metadata": {
    "collapsed": false
   },
   "outputs": [],
   "source": [
    "unordered_output[short_cases][eval_cases][50]"
   ]
  },
  {
   "cell_type": "code",
   "execution_count": null,
   "metadata": {
    "collapsed": false
   },
   "outputs": [],
   "source": [
    "true_ordered_sents[50]"
   ]
  },
  {
   "cell_type": "code",
   "execution_count": null,
   "metadata": {
    "collapsed": false
   },
   "outputs": [],
   "source": [
    "#x= [\"A\", \"B\", \"C\", \"D\"]\n",
    "#y= UTF8String[\"A\", \"B\", \"C\", \"D\"]\n",
    "x = true_ordered_sents[10]\n",
    "y=ordered_sents[10] |> collect\n",
    "pycall(nltk_bleu.bleu, PyAny, Any[x], y, Any[0.25, 0.25, 0.25, 0.25])"
   ]
  },
  {
   "cell_type": "code",
   "execution_count": null,
   "metadata": {
    "collapsed": false
   },
   "outputs": [],
   "source": [
    "Any[true_ordered_sents[1]]\n"
   ]
  },
  {
   "cell_type": "code",
   "execution_count": null,
   "metadata": {
    "collapsed": false
   },
   "outputs": [],
   "source": []
  },
  {
   "cell_type": "code",
   "execution_count": null,
   "metadata": {
    "collapsed": false
   },
   "outputs": [],
   "source": []
  },
  {
   "cell_type": "code",
   "execution_count": null,
   "metadata": {
    "collapsed": false
   },
   "outputs": [],
   "source": []
  },
  {
   "cell_type": "code",
   "execution_count": null,
   "metadata": {
    "collapsed": false
   },
   "outputs": [],
   "source": [
    "nltk_bleu._modified_precision(Any[reference1, reference2, reference3],candidate1, 1)"
   ]
  },
  {
   "cell_type": "code",
   "execution_count": null,
   "metadata": {
    "collapsed": false
   },
   "outputs": [],
   "source": [
    "@pyimport pdb"
   ]
  },
  {
   "cell_type": "code",
   "execution_count": null,
   "metadata": {
    "collapsed": false
   },
   "outputs": [],
   "source": [
    "pdb.runcall(nltk_bleu._modified_precision, [reference1, reference2, reference3],candidate1, 1)"
   ]
  },
  {
   "cell_type": "code",
   "execution_count": null,
   "metadata": {
    "collapsed": true
   },
   "outputs": [],
   "source": []
  },
  {
   "cell_type": "code",
   "execution_count": null,
   "metadata": {
    "collapsed": false
   },
   "outputs": [],
   "source": [
    "# I think I have to reimplement BLEU in julia as for some reason it does not play nice with PyCall\n",
    "# Can basically port http://www.nltk.org/_modules/nltk/align/bleu_score.html#bleu"
   ]
  },
  {
   "cell_type": "code",
   "execution_count": null,
   "metadata": {
    "collapsed": false
   },
   "outputs": [],
   "source": [
    "pycall(nltk_bleu.bleu, Int, candidate1, [reference1], weights)"
   ]
  },
  {
   "cell_type": "code",
   "execution_count": null,
   "metadata": {
    "collapsed": false
   },
   "outputs": [],
   "source": [
    "@pyimport nltk.util as nltk_util\n",
    "nltk_util.ngrams(candidate1,2) |> py_collections.Counter"
   ]
  },
  {
   "cell_type": "code",
   "execution_count": null,
   "metadata": {
    "collapsed": true
   },
   "outputs": [],
   "source": [
    "@pyimport collections as py_collections"
   ]
  },
  {
   "cell_type": "code",
   "execution_count": null,
   "metadata": {
    "collapsed": false
   },
   "outputs": [],
   "source": [
    "@pyimport nltk.util as nltk_util\n",
    "ngs = nltk_util.ngrams(candidate1,2)\n",
    "pycall(py_collections.Counter, PyObject, ngs)"
   ]
  },
  {
   "cell_type": "code",
   "execution_count": null,
   "metadata": {
    "collapsed": false
   },
   "outputs": [],
   "source": [
    "import nltk"
   ]
  },
  {
   "cell_type": "code",
   "execution_count": null,
   "metadata": {
    "collapsed": true
   },
   "outputs": [],
   "source": []
  }
 ],
 "metadata": {
  "kernelspec": {
   "display_name": "Julia 0.5.0-dev",
   "language": "julia",
   "name": "julia-0.5"
  },
  "language_info": {
   "file_extension": ".jl",
   "mimetype": "application/julia",
   "name": "julia",
   "version": "0.5.0"
  }
 },
 "nbformat": 4,
 "nbformat_minor": 0
}
