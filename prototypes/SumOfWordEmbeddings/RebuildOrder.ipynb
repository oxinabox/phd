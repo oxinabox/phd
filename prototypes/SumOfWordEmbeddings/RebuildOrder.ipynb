{
 "cells": [
  {
   "cell_type": "code",
   "execution_count": 2,
   "metadata": {
    "collapsed": false,
    "scrolled": true
   },
   "outputs": [
    {
     "data": {
      "text/plain": [
       "4-element Array{ByteString,1}:\n",
       " \"/home/ubuntu/build/julia-master/usr/local/share/julia/site/v0.5\"\n",
       " \"/home/ubuntu/build/julia-master/usr/share/julia/site/v0.5\"      \n",
       " \".\"                                                              \n",
       " \"../util/\"                                                       "
      ]
     },
     "execution_count": 2,
     "metadata": {},
     "output_type": "execute_result"
    }
   ],
   "source": [
    "using FunctionalCollections\n",
    "using Iterators\n",
    "using Pipe\n",
    "using Compat\n",
    "\n",
    "macro printval(ee)\n",
    "    ee_expr = @sprintf \"%s\" string(ee)\n",
    "    esc(:(println($ee_expr,\" = \", $ee)))\n",
    "end\n",
    "\n",
    "macro pz(ee)\n",
    "    ee_expr = @sprintf \"%s\" string(ee)\n",
    "    esc(:(println($ee_expr,\"\\t\\t\",typeof($ee), \"\\t\", size($ee))))\n",
    "end\n",
    "\n",
    "push!(LOAD_PATH, \".\")\n",
    "push!(LOAD_PATH, \"../util/\")"
   ]
  },
  {
   "cell_type": "code",
   "execution_count": 3,
   "metadata": {
    "collapsed": false
   },
   "outputs": [
    {
     "data": {
      "text/plain": [
       "Dict{ASCIIString,Any} with 5 entries:\n",
       "  \"length_prob\"   => [0.00274146,0.0142225,0.0332953,0.0543865,0.0725589,0.0850…\n",
       "  \"LL\"            => 300x1120 Array{Float64,2}:…\n",
       "  \"indexed_words\" => AbstractString[\"in\",\"for\",\"that\",\"is\",\"on\",\"with\",\"said\",\"…\n",
       "  \"trigrams\"      => Any[(\"**START1**\",\"**START2**\",\"what\"),(\"**START2**\",\"what…\n",
       "  \"word_indexes\"  => Dict{AbstractString,Int64}(\"carried\"=>502,\"diabetic\"=>927,…"
      ]
     },
     "execution_count": 3,
     "metadata": {},
     "output_type": "execute_result"
    }
   ],
   "source": [
    "const START_MARKER1 = \"**START1**\"\n",
    "const START_MARKER2 = \"**START2**\"\n",
    "const END_MARKER1 = \"**END1**\"\n",
    "const END_MARKER2 = \"**END2**\"\n",
    "\n",
    "atis_data = open(\"atis_data2.jsz\",\"r\") do fh\n",
    "    deserialize(fh)    \n",
    "end\n"
   ]
  },
  {
   "cell_type": "code",
   "execution_count": 4,
   "metadata": {
    "collapsed": false
   },
   "outputs": [
    {
     "name": "stderr",
     "output_type": "stream",
     "text": [
      "/usr/local/lib/python2.7/dist-packages/nltk/app/__init__.py:29: UserWarning: nltk.app package not loaded (please install Tkinter library).\n",
      "  warnings.warn(\"nltk.app package not loaded \"\n",
      "/usr/local/lib/python2.7/dist-packages/nltk/draw/__init__.py:15: UserWarning: nltk.draw package not loaded (please install Tkinter library).\n",
      "  warnings.warn(\"nltk.draw package not loaded \"\n"
     ]
    },
    {
     "data": {
      "text/plain": [
       "trigram_model (generic function with 1 method)"
      ]
     },
     "execution_count": 4,
     "metadata": {},
     "output_type": "execute_result"
    }
   ],
   "source": [
    "using PyCall\n",
    "#http://www.nltk.org/howto/probability.html\n",
    "@pyimport nltk\n",
    "@pyimport nltk.probability as nltk_prob\n",
    "\n",
    "\n",
    "kn_prob_dist = nltk_prob.KneserNeyProbDist(pycall(nltk_prob.FreqDist, PyObject, atis_data[\"trigrams\"]))\n",
    "function trigram_model(given1::AbstractString, given2::AbstractString, event::AbstractString)\n",
    "    kn_prob_dist[:prob]((given1, given2, event))\n",
    "end"
   ]
  },
  {
   "cell_type": "code",
   "execution_count": 20,
   "metadata": {
    "collapsed": false
   },
   "outputs": [
    {
     "data": {
      "text/plain": [
       "4-element Array{ASCIIString,1}:\n",
       " \"and\"\n",
       " \"a\"  \n",
       " \"of\" \n",
       " \"to\" "
      ]
     },
     "execution_count": 20,
     "metadata": {},
     "output_type": "execute_result"
    }
   ],
   "source": [
    "zeroed_words = [\"and\", \"a\", \"of\", \"to\"]"
   ]
  },
  {
   "cell_type": "code",
   "execution_count": 5,
   "metadata": {
    "collapsed": false
   },
   "outputs": [
    {
     "data": {
      "text/plain": [
       "9-element Array{ASCIIString,1}:\n",
       " \"francisco\" \n",
       " \"washington\"\n",
       " \"flight\"    \n",
       " \"from\"      \n",
       " \"cheapest\"  \n",
       " \"san\"       \n",
       " \"show\"      \n",
       " \"and\"       \n",
       " \"shortest\"  "
      ]
     },
     "execution_count": 5,
     "metadata": {},
     "output_type": "execute_result"
    }
   ],
   "source": [
    "example1 = [\"show\", \"cheapest\", \"flight\"]\n",
    "example2 = [\"francisco\",\"washington\",\"flight\",\"from\",\"cheapest\",\"san\",\"show\"]\n",
    "example3 = [example2..., \"to\"]\n",
    "example4 = [example2..., \"and\", \"shortest\"]"
   ]
  },
  {
   "cell_type": "code",
   "execution_count": 35,
   "metadata": {
    "collapsed": false
   },
   "outputs": [
    {
     "data": {
      "text/plain": [
       "get_all_orders (generic function with 1 method)"
      ]
     },
     "execution_count": 35,
     "metadata": {},
     "output_type": "execute_result"
    }
   ],
   "source": [
    "typealias S ASCIIString\n",
    "typealias State{T} Tuple{T,T}\n",
    "\n",
    "function transition_prob(cur_state::State{S}, next_word::S)\n",
    "    trigram_model(cur_state..., next_word)\n",
    "end\n",
    "\n",
    "\n",
    "\n",
    "\n",
    "_get_options_cache_type = Dict{Tuple{State{S}, Any}, Vector{Tuple{plist{S}, Float64}}}\n",
    "_get_options_caches = Dict{Vector{S}, _get_options_cache_type}()\n",
    "\n",
    "\"\"\"\n",
    "returns all possible orderings of the remaining words.\n",
    "the freewords are also inserted into every possible position, EXCEPT at the end.\n",
    "Freewords also will not be inserted after other freewords\n",
    "(For now)\n",
    "\"\"\"\n",
    "function get_all_orders(free_words::Vector{S}, unordered_words::Vector{S})\n",
    "    _get_options_cache = get!(_get_options_cache_type, _get_options_caches, free_words)\n",
    "    #different cache if different freewords\n",
    "    \n",
    "    function get_options(cur_state::State{S})\n",
    "        #Can never End in a freeword\n",
    "        tp = transition_prob(cur_state, END_MARKER1)\n",
    "        # Given P(END_MARKER2 | curstatep[2]==END_MARKER1) = 1.0\n",
    "        # Do not need to consider P(END_MARKER2 | curstatep[2]==END_MARKER1, curstatep[1])\n",
    "        [\n",
    "            (EmptyList{S}(), tp)\n",
    "        ]\n",
    "    end\n",
    "    \n",
    "    function get_options(state::State{S}, remaining_words::S...)\n",
    "        get!(_get_options_cache, (state, remaining_words)) do\n",
    "            _get_options_cache[(state, remaining_words)] = _get_options(state, remaining_words...)\n",
    "        end\n",
    "    end\n",
    "\n",
    "    function _get_options_inner(cur_state, word, remaining_words, get_option_fun)\n",
    "        tp = transition_prob(cur_state, word) \n",
    "        next_state = (cur_state[2], word)\n",
    "        \n",
    "        if tp<=0.0 #Stop early, GOLDPLATE: take ϵ as a parameter for this\n",
    "            return []\n",
    "        end\n",
    "\n",
    "        for (tail, next_tp) in get_option_fun(next_state, remaining_words...)\n",
    "            produce(cons(word, tail),tp*next_tp)\n",
    "        end\n",
    "    end\n",
    "\n",
    "    function _get_options_nofree(cur_state::State{S}, remaining_words::S...)\n",
    "        (@task begin        \n",
    "            for ii in 1:length(remaining_words)\n",
    "                word = remaining_words[ii]\n",
    "                new_remaining_words = remaining_words[[1:ii-1; ii+1:end]]\n",
    "                \n",
    "                _get_options_inner(cur_state, word, new_remaining_words, get_options)\n",
    "            end\n",
    "        end)\n",
    "    end\n",
    "    \n",
    "    function _get_options_free(cur_state::State{S}, remaining_words::S...)\n",
    "        @task begin        \n",
    "            for word in free_words\n",
    "\n",
    "                #Important: get_options_free, only chains to _get_options_nofree\n",
    "                _get_options_inner(cur_state, word, remaining_words, _get_options_nofree)\n",
    "            end\n",
    "        end\n",
    "    end\n",
    "    \n",
    "    function _get_options(cur_state::State{S}, remaining_words::S...)\n",
    "        chain(_get_options_nofree(cur_state, remaining_words...),\n",
    "             _get_options_free(cur_state, remaining_words...)) |> collect\n",
    "    end\n",
    "   \n",
    "    initial_state = (START_MARKER1, START_MARKER2)\n",
    "    get_options(initial_state, unordered_words...)\n",
    "end"
   ]
  },
  {
   "cell_type": "code",
   "execution_count": 36,
   "metadata": {
    "collapsed": false
   },
   "outputs": [
    {
     "data": {
      "text/plain": [
       "order (generic function with 4 methods)"
      ]
     },
     "execution_count": 36,
     "metadata": {},
     "output_type": "execute_result"
    }
   ],
   "source": [
    "function order(unordered_words::Vector{S}, best_n::Int, free_words=S[]::Vector{S})\n",
    "    orders_and_probs = get_all_orders(free_words, unordered_words)\n",
    "    best_n = min(best_n, length(orders_and_probs))\n",
    "    select!(orders_and_probs, 1:best_n, by=op->-op[2] )\n",
    "end\n",
    "\n",
    "function order(unordered_words::Vector{S},free_words=S[]::Vector{S})\n",
    "    order(unordered_words,1,free_words)[1][1]\n",
    "end"
   ]
  },
  {
   "cell_type": "code",
   "execution_count": 37,
   "metadata": {
    "collapsed": false
   },
   "outputs": [
    {
     "data": {
      "text/plain": [
       "4-element Array{Tuple{FunctionalCollections.PersistentList{ASCIIString},Float64},1}:\n",
       " (ASCIIString(show, cheapest, flight),1.8261028957531455e-6)           \n",
       " (ASCIIString(show, flight, the, cheapest),3.338296258826786e-10)      \n",
       " (ASCIIString(show, the, cheapest, flight),6.2789039795265354e-6)      \n",
       " (ASCIIString(show, the, flight, the, cheapest),1.0545479122806868e-11)"
      ]
     },
     "execution_count": 37,
     "metadata": {},
     "output_type": "execute_result"
    }
   ],
   "source": [
    "get_all_orders(S[\"the\"], example1)"
   ]
  },
  {
   "cell_type": "code",
   "execution_count": 38,
   "metadata": {
    "collapsed": false
   },
   "outputs": [
    {
     "data": {
      "text/plain": [
       "4-element Array{Tuple{FunctionalCollections.PersistentList{ASCIIString},Float64},1}:\n",
       " (ASCIIString(show, the, cheapest, flight),6.2789039795265354e-6)      \n",
       " (ASCIIString(show, cheapest, flight),1.8261028957531455e-6)           \n",
       " (ASCIIString(show, flight, the, cheapest),3.338296258826786e-10)      \n",
       " (ASCIIString(show, the, flight, the, cheapest),1.0545479122806868e-11)"
      ]
     },
     "execution_count": 38,
     "metadata": {},
     "output_type": "execute_result"
    }
   ],
   "source": [
    "order(example1,5, [\"the\"])"
   ]
  },
  {
   "cell_type": "code",
   "execution_count": 39,
   "metadata": {
    "collapsed": false
   },
   "outputs": [
    {
     "data": {
      "text/plain": [
       "5-element Array{Tuple{FunctionalCollections.PersistentList{ASCIIString},Float64},1}:\n",
       " (ASCIIString(show, cheapest, flight, from, washington, to, san, francisco),2.428358368591127e-8)       \n",
       " (ASCIIString(show, cheapest, flight, from, san, francisco, to, washington),1.8420942102163784e-9)      \n",
       " (ASCIIString(show, cheapest, flight, from, washington, and, san, francisco),4.6966020913829104e-11)    \n",
       " (ASCIIString(show, cheapest, flight, from, san, francisco, and, washington),3.501936897770464e-11)     \n",
       " (ASCIIString(and, show, cheapest, flight, from, washington, to, san, francisco),3.5538569140616182e-12)"
      ]
     },
     "execution_count": 39,
     "metadata": {},
     "output_type": "execute_result"
    }
   ],
   "source": [
    "order(example2,5, zeroed_words)"
   ]
  },
  {
   "cell_type": "code",
   "execution_count": null,
   "metadata": {
    "collapsed": true
   },
   "outputs": [],
   "source": []
  }
 ],
 "metadata": {
  "kernelspec": {
   "display_name": "Julia 0.5.0-dev",
   "language": "julia",
   "name": "julia-0.5"
  },
  "language_info": {
   "file_extension": ".jl",
   "mimetype": "application/julia",
   "name": "julia",
   "version": "0.5.0"
  }
 },
 "nbformat": 4,
 "nbformat_minor": 0
}
