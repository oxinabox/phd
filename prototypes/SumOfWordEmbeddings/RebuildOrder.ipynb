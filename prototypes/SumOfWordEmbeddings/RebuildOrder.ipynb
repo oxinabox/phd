{
 "cells": [
  {
   "cell_type": "code",
   "execution_count": 1,
   "metadata": {
    "collapsed": false
   },
   "outputs": [
    {
     "data": {
      "text/plain": [
       "11-element Array{Int64,1}:\n",
       "  2\n",
       "  3\n",
       "  4\n",
       "  5\n",
       "  6\n",
       "  7\n",
       "  8\n",
       "  9\n",
       " 10\n",
       " 11\n",
       " 12"
      ]
     },
     "execution_count": 1,
     "metadata": {},
     "output_type": "execute_result"
    }
   ],
   "source": [
    "addprocs(11)"
   ]
  },
  {
   "cell_type": "code",
   "execution_count": 2,
   "metadata": {
    "collapsed": false,
    "scrolled": true
   },
   "outputs": [
    {
     "name": "stderr",
     "output_type": "stream",
     "text": [
      "WARNING: replacing module FunctionalCollections\n",
      "WARNING: replacing module FunctionalCollections\n",
      "WARNING: replacing module FunctionalCollections\n",
      "WARNING: replacing module FunctionalCollections\n",
      "WARNING: replacing module FunctionalCollections\n",
      "WARNING: replacing module FunctionalCollections\n",
      "WARNING: replacing module FunctionalCollections\n",
      "WARNING: replacing module FunctionalCollections\n",
      "WARNING: replacing module FunctionalCollections\n",
      "WARNING: replacing module FunctionalCollections\n",
      "WARNING: replacing module FunctionalCollections\n",
      "WARNING: replacing module Iterators\n",
      "WARNING: Method definition count() in module Iterators at deprecated.jl:49 overwritten in module Iterators at deprecated.jl:49.\n",
      "WARNING: Method definition count(Number) in module Iterators at deprecated.jl:49 overwritten in module Iterators at deprecated.jl:49.\n",
      "WARNING: Method definition count(Number, Number) in module Iterators at deprecated.jl:49 overwritten in module Iterators at deprecated.jl:49.\n",
      "WARNING: replacing module Iterators\n",
      "WARNING: replacing module Iterators\n",
      "WARNING: replacing module Iterators\n",
      "WARNING: Method definition count() in module Iterators at deprecated.jl:49 overwritten in module Iterators at deprecated.jl:49.\n",
      "WARNING: Method definition count(Number) in module Iterators at deprecated.jl:49 overwritten in module Iterators at deprecated.jl:49.\n",
      "WARNING: Method definition count(Number, Number) in module Iterators at deprecated.jl:49 overwritten in module Iterators at deprecated.jl:49.\n",
      "WARNING: Method definition count() in module Iterators at deprecated.jl:49 overwritten in module Iterators at deprecated.jl:49.\n",
      "WARNING: Method definition count(Number) in module Iterators at deprecated.jl:49 overwritten in module Iterators at deprecated.jl:49.\n",
      "WARNING: Method definition count(Number, Number) in module Iterators at deprecated.jl:49 overwritten in module Iterators at deprecated.jl:49.\n",
      "WARNING: Method definition count() in module Iterators at deprecated.jl:49 overwritten in module Iterators at deprecated.jl:49.\n",
      "WARNING: Method definition count(Number) in module Iterators at deprecated.jl:49 overwritten in module Iterators at deprecated.jl:49.\n",
      "WARNING: Method definition count(Number, Number) in module Iterators at deprecated.jl:49 overwritten in module Iterators at deprecated.jl:49.\n",
      "WARNING: replacing module Iterators\n",
      "WARNING: replacing module Iterators\n",
      "WARNING: Method definition count() in module Iterators at deprecated.jl:49 overwritten in module Iterators at deprecated.jl:49.\n",
      "WARNING: Method definition count(Number) in module Iterators at deprecated.jl:49 overwritten in module Iterators at deprecated.jl:49.\n",
      "WARNING: Method definition count(Number, Number) in module Iterators at deprecated.jl:49 overwritten in module Iterators at deprecated.jl:49.\n",
      "WARNING: Method definition count() in module Iterators at deprecated.jl:49 overwritten in module Iterators at deprecated.jl:49.\n",
      "WARNING: Method definition count(Number) in module Iterators at deprecated.jl:49 overwritten in module Iterators at deprecated.jl:49.\n",
      "WARNING: Method definition count(Number, Number) in module Iterators at deprecated.jl:49 overwritten in module Iterators at deprecated.jl:49.\n",
      "WARNING: replacing module Iterators\n",
      "WARNING: Method definition count() in module Iterators at deprecated.jl:49 overwritten in module Iterators at deprecated.jl:49.\n",
      "WARNING: Method definition count(Number) in module Iterators at deprecated.jl:49 overwritten in module Iterators at deprecated.jl:49.\n",
      "WARNING: Method definition count(Number, Number) in module Iterators at deprecated.jl:49 overwritten in module Iterators at deprecated.jl:49.\n",
      "WARNING: replacing module Iterators\n",
      "WARNING: Method definition count() in module Iterators at deprecated.jl:49 overwritten in module Iterators at deprecated.jl:49.\n",
      "WARNING: Method definition count(Number) in module Iterators at deprecated.jl:49 overwritten in module Iterators at deprecated.jl:49.\n",
      "WARNING: Method definition count(Number, Number) in module Iterators at deprecated.jl:49 overwritten in module Iterators at deprecated.jl:49.\n",
      "WARNING: replacing module Iterators\n",
      "WARNING: replacing module Iterators\n",
      "WARNING: Method definition count() in module Iterators at deprecated.jl:49 overwritten in module Iterators at deprecated.jl:49.\n",
      "WARNING: Method definition count(Number) in module Iterators at deprecated.jl:49 overwritten in module Iterators at deprecated.jl:49.\n",
      "WARNING: Method definition count(Number, Number) in module Iterators at deprecated.jl:49 overwritten in module Iterators at deprecated.jl:49.\n",
      "WARNING: Method definition count() in module Iterators at deprecated.jl:49 overwritten in module Iterators at deprecated.jl:49.\n",
      "WARNING: Method definition count(Number) in module Iterators at deprecated.jl:49 overwritten in module Iterators at deprecated.jl:49.\n",
      "WARNING: Method definition count(Number, Number) in module Iterators at deprecated.jl:49 overwritten in module Iterators at deprecated.jl:49.\n",
      "WARNING: replacing module Iterators\n",
      "WARNING: Method definition count() in module Iterators at deprecated.jl:49 overwritten in module Iterators at deprecated.jl:49.\n",
      "WARNING: Method definition count(Number) in module Iterators at deprecated.jl:49 overwritten in module Iterators at deprecated.jl:49.\n",
      "WARNING: Method definition count(Number, Number) in module Iterators at deprecated.jl:49 overwritten in module Iterators at deprecated.jl:49.\n",
      "WARNING: replacing module Pipe\n"
     ]
    },
    {
     "data": {
      "text/plain": [
       "4-element Array{ByteString,1}:\n",
       " \"/home/ubuntu/build/julia-master/usr/local/share/julia/site/v0.5\"\n",
       " \"/home/ubuntu/build/julia-master/usr/share/julia/site/v0.5\"      \n",
       " \".\"                                                              \n",
       " \"../util/\"                                                       "
      ]
     },
     "execution_count": 2,
     "metadata": {},
     "output_type": "execute_result"
    },
    {
     "name": "stderr",
     "output_type": "stream",
     "text": [
      "WARNING: replacing module Pipe\n",
      "WARNING: replacing module Pipe\n",
      "WARNING: replacing module Pipe\n",
      "WARNING: replacing module Pipe\n",
      "WARNING: replacing module Pipe\n",
      "WARNING: replacing module Pipe\n",
      "WARNING: replacing module Pipe\n",
      "WARNING: replacing module Pipe\n",
      "WARNING: replacing module Pipe\n",
      "WARNING: replacing module Pipe\n"
     ]
    }
   ],
   "source": [
    "@everywhere using FunctionalCollections\n",
    "@everywhere using Iterators\n",
    "@everywhere using Pipe\n",
    "using Compat\n",
    "\n",
    "macro printval(ee)\n",
    "    ee_expr = @sprintf \"%s\" string(ee)\n",
    "    esc(:(println($ee_expr,\" = \", $ee)))\n",
    "end\n",
    "\n",
    "macro pz(ee)\n",
    "    ee_expr = @sprintf \"%s\" string(ee)\n",
    "    esc(:(println($ee_expr,\"\\t\\t\",typeof($ee), \"\\t\", size($ee))))\n",
    "end\n",
    "\n",
    "push!(LOAD_PATH, \".\")\n",
    "push!(LOAD_PATH, \"../util/\")"
   ]
  },
  {
   "cell_type": "code",
   "execution_count": 3,
   "metadata": {
    "collapsed": false
   },
   "outputs": [],
   "source": [
    "@everywhere const START_MARKER1 = \"**START1**\"\n",
    "@everywhere const START_MARKER2 = \"**START2**\"\n",
    "@everywhere const END_MARKER1 = \"**END1**\"\n",
    "@everywhere const END_MARKER2 = \"**END2**\"\n",
    "\n",
    "@everywhere atis_data = open(\"atis_data2.jsz\",\"r\") do fh\n",
    "    deserialize(fh)    \n",
    "end\n"
   ]
  },
  {
   "cell_type": "code",
   "execution_count": 4,
   "metadata": {
    "collapsed": false,
    "scrolled": true
   },
   "outputs": [
    {
     "name": "stderr",
     "output_type": "stream",
     "text": [
      "WARNING: replacing module PyCall\n",
      "WARNING: replacing module PyCall\n",
      "WARNING: replacing module PyCall\n",
      "WARNING: replacing module PyCall\n",
      "WARNING: replacing module PyCall\n",
      "WARNING: replacing module PyCall\n",
      "WARNING: replacing module PyCall\n",
      "WARNING: replacing module PyCall\n",
      "WARNING: replacing module PyCall\n",
      "WARNING: replacing module PyCall\n",
      "WARNING: replacing module PyCall\n",
      "/usr/local/lib/python2.7/dist-packages/nltk/app/__init__.py:29: UserWarning: nltk.app package not loaded (please install Tkinter library).\n",
      "  warnings.warn(\"nltk.app package not loaded \"\n",
      "/usr/local/lib/python2.7/dist-packages/nltk/app/__init__.py:29: UserWarning: nltk.app package not loaded (please install Tkinter library).\n",
      "  warnings.warn(\"nltk.app package not loaded \"\n",
      "/usr/local/lib/python2.7/dist-packages/nltk/app/__init__.py:29: UserWarning: nltk.app package not loaded (please install Tkinter library).\n",
      "  warnings.warn(\"nltk.app package not loaded \"\n",
      "/usr/local/lib/python2.7/dist-packages/nltk/app/__init__.py:29: UserWarning: nltk.app package not loaded (please install Tkinter library).\n",
      "  warnings.warn(\"nltk.app package not loaded \"\n",
      "/usr/local/lib/python2.7/dist-packages/nltk/draw/__init__.py:15: UserWarning: nltk.draw package not loaded (please install Tkinter library).\n",
      "  warnings.warn(\"nltk.draw package not loaded \"\n",
      "/usr/local/lib/python2.7/dist-packages/nltk/draw/__init__.py:15: UserWarning: nltk.draw package not loaded (please install Tkinter library).\n",
      "  warnings.warn(\"nltk.draw package not loaded \"\n",
      "/usr/local/lib/python2.7/dist-packages/nltk/draw/__init__.py:15: UserWarning: nltk.draw package not loaded (please install Tkinter library).\n",
      "  warnings.warn(\"nltk.draw package not loaded \"\n",
      "/usr/local/lib/python2.7/dist-packages/nltk/draw/__init__.py:15: UserWarning: nltk.draw package not loaded (please install Tkinter library).\n",
      "  warnings.warn(\"nltk.draw package not loaded \"\n",
      "/usr/local/lib/python2.7/dist-packages/nltk/app/__init__.py:29: UserWarning: nltk.app package not loaded (please install Tkinter library).\n",
      "  warnings.warn(\"nltk.app package not loaded \"\n",
      "/usr/local/lib/python2.7/dist-packages/nltk/app/__init__.py:29: UserWarning: nltk.app package not loaded (please install Tkinter library).\n",
      "  warnings.warn(\"nltk.app package not loaded \"\n",
      "/usr/local/lib/python2.7/dist-packages/nltk/draw/__init__.py:15: UserWarning: nltk.draw package not loaded (please install Tkinter library).\n",
      "  warnings.warn(\"nltk.draw package not loaded \"\n",
      "/usr/local/lib/python2.7/dist-packages/nltk/app/__init__.py:29: UserWarning: nltk.app package not loaded (please install Tkinter library).\n",
      "  warnings.warn(\"nltk.app package not loaded \"\n",
      "/usr/local/lib/python2.7/dist-packages/nltk/draw/__init__.py:15: UserWarning: nltk.draw package not loaded (please install Tkinter library).\n",
      "  warnings.warn(\"nltk.draw package not loaded \"\n",
      "/usr/local/lib/python2.7/dist-packages/nltk/app/__init__.py:29: UserWarning: nltk.app package not loaded (please install Tkinter library).\n",
      "  warnings.warn(\"nltk.app package not loaded \"\n",
      "/usr/local/lib/python2.7/dist-packages/nltk/draw/__init__.py:15: UserWarning: nltk.draw package not loaded (please install Tkinter library).\n",
      "  warnings.warn(\"nltk.draw package not loaded \"\n",
      "/usr/local/lib/python2.7/dist-packages/nltk/app/__init__.py:29: UserWarning: nltk.app package not loaded (please install Tkinter library).\n",
      "  warnings.warn(\"nltk.app package not loaded \"\n",
      "/usr/local/lib/python2.7/dist-packages/nltk/app/__init__.py:29: UserWarning: nltk.app package not loaded (please install Tkinter library).\n",
      "  warnings.warn(\"nltk.app package not loaded \"\n",
      "/usr/local/lib/python2.7/dist-packages/nltk/draw/__init__.py:15: UserWarning: nltk.draw package not loaded (please install Tkinter library).\n",
      "  warnings.warn(\"nltk.draw package not loaded \"\n",
      "/usr/local/lib/python2.7/dist-packages/nltk/app/__init__.py:29: UserWarning: nltk.app package not loaded (please install Tkinter library).\n",
      "  warnings.warn(\"nltk.app package not loaded \"\n",
      "/usr/local/lib/python2.7/dist-packages/nltk/app/__init__.py:29: UserWarning: nltk.app package not loaded (please install Tkinter library).\n",
      "  warnings.warn(\"nltk.app package not loaded \"\n",
      "/usr/local/lib/python2.7/dist-packages/nltk/draw/__init__.py:15: UserWarning: nltk.draw package not loaded (please install Tkinter library).\n",
      "  warnings.warn(\"nltk.draw package not loaded \"\n",
      "/usr/local/lib/python2.7/dist-packages/nltk/draw/__init__.py:15: UserWarning: nltk.draw package not loaded (please install Tkinter library).\n",
      "  warnings.warn(\"nltk.draw package not loaded \"\n",
      "/usr/local/lib/python2.7/dist-packages/nltk/draw/__init__.py:15: UserWarning: nltk.draw package not loaded (please install Tkinter library).\n",
      "  warnings.warn(\"nltk.draw package not loaded \"\n",
      "/usr/local/lib/python2.7/dist-packages/nltk/draw/__init__.py:15: UserWarning: nltk.draw package not loaded (please install Tkinter library).\n",
      "  warnings.warn(\"nltk.draw package not loaded \"\n"
     ]
    }
   ],
   "source": [
    "@everywhere using PyCall\n",
    "#http://www.nltk.org/howto/probability.html\n",
    "@everywhere @pyimport nltk\n",
    "@everywhere  @pyimport nltk.probability as nltk_prob\n",
    "\n",
    "\n",
    "@everywhere kn_prob_dist = nltk_prob.KneserNeyProbDist(pycall(nltk_prob.FreqDist, PyObject, atis_data[\"trigrams\"]))\n",
    "@everywhere function trigram_model(given1::AbstractString, given2::AbstractString, event::AbstractString)\n",
    "    kn_prob_dist[:prob]((given1, given2, event))\n",
    "end"
   ]
  },
  {
   "cell_type": "code",
   "execution_count": 5,
   "metadata": {
    "collapsed": false
   },
   "outputs": [
    {
     "data": {
      "text/plain": [
       "9-element Array{ASCIIString,1}:\n",
       " \"francisco\" \n",
       " \"washington\"\n",
       " \"flight\"    \n",
       " \"from\"      \n",
       " \"cheapest\"  \n",
       " \"san\"       \n",
       " \"show\"      \n",
       " \"and\"       \n",
       " \"shortest\"  "
      ]
     },
     "execution_count": 5,
     "metadata": {},
     "output_type": "execute_result"
    }
   ],
   "source": [
    "example1 = [\"show\", \"cheapest\", \"flight\"]\n",
    "example2 = [\"francisco\",\"washington\",\"flight\",\"from\",\"cheapest\",\"san\",\"show\"]\n",
    "example3 = [example2..., \"to\"]\n",
    "example4 = [example2..., \"and\", \"shortest\"]"
   ]
  },
  {
   "cell_type": "code",
   "execution_count": 6,
   "metadata": {
    "collapsed": false
   },
   "outputs": [],
   "source": [
    "@everywhere typealias S ASCIIString\n",
    "@everywhere typealias State{T} Tuple{T,T}\n",
    "\n",
    "@everywhere function transition_prob(cur_state::State{S}, next_word::S)\n",
    "    trigram_model(cur_state..., next_word)\n",
    "end\n",
    "\n",
    "\n",
    "\n",
    "\n",
    "@everywhere _get_options_cache_type = Dict{Tuple{State{S}, Any}, Vector{Tuple{plist{S}, Float64}}}\n",
    "@everywhere _get_options_caches = Dict{Vector{S}, _get_options_cache_type}()\n",
    "\n",
    "#\"\"\"\n",
    "#returns all possible orderings of the remaining words.\n",
    "#the freewords are also inserted into every possible position, EXCEPT at the end.\n",
    "#Freewords also will not be inserted after other freewords\n",
    "#(For now)\n",
    "#\"\"\"\n",
    "@everywhere function get_all_orders(free_words::Vector{S}, unordered_words::Vector{S}; ϵ=0.0)\n",
    "    _get_options_cache = get!(_get_options_cache_type, _get_options_caches, free_words)\n",
    "    #different cache if different freewords\n",
    "    \n",
    "    function get_options(cur_state::State{S})\n",
    "        #Can never End in a freeword\n",
    "        tp = transition_prob(cur_state, END_MARKER1)\n",
    "        # Given P(END_MARKER2 | curstatep[2]==END_MARKER1) = 1.0\n",
    "        # Do not need to consider P(END_MARKER2 | curstatep[2]==END_MARKER1, curstatep[1])\n",
    "        [\n",
    "            (EmptyList{S}(), tp)\n",
    "        ]\n",
    "    end\n",
    "    \n",
    "    function get_options(state::State{S}, remaining_words::S...)\n",
    "        get!(_get_options_cache, (state, remaining_words)) do\n",
    "            _get_options(state, remaining_words...)\n",
    "        end\n",
    "    end\n",
    "\n",
    "    function _get_options_inner(cur_state, word, remaining_words, get_option_fun)\n",
    "        tp = transition_prob(cur_state, word) \n",
    "        next_state = (cur_state[2], word)\n",
    "        \n",
    "        if tp<=ϵ #Stop early if probability is too low\n",
    "            return\n",
    "        end\n",
    "\n",
    "        for (tail, next_tp) in get_option_fun(next_state, remaining_words...)\n",
    "            produce(cons(word, tail),tp*next_tp)\n",
    "        end\n",
    "    end\n",
    "\n",
    "    function _get_options_nofree(cur_state::State{S}, remaining_words::S...)\n",
    "        (@task begin        \n",
    "            for ii in 1:length(remaining_words)\n",
    "                word = remaining_words[ii]\n",
    "                new_remaining_words = remaining_words[[1:ii-1; ii+1:end]]\n",
    "                \n",
    "                _get_options_inner(cur_state, word, new_remaining_words, get_options)\n",
    "            end\n",
    "        end)\n",
    "    end\n",
    "    \n",
    "    function _get_options_free(cur_state::State{S}, remaining_words::S...)\n",
    "        @task begin        \n",
    "            for word in free_words\n",
    "\n",
    "                #Important: get_options_free, only chains to _get_options_nofree\n",
    "                _get_options_inner(cur_state, word, remaining_words, _get_options_nofree)\n",
    "            end\n",
    "        end\n",
    "    end\n",
    "    \n",
    "    function _get_options(cur_state::State{S}, remaining_words::S...)\n",
    "        chain(_get_options_nofree(cur_state, remaining_words...),\n",
    "             _get_options_free(cur_state, remaining_words...)) |> collect\n",
    "    end\n",
    "   \n",
    "    initial_state = (START_MARKER1, START_MARKER2)\n",
    "    get_options(initial_state, unordered_words...)\n",
    "end"
   ]
  },
  {
   "cell_type": "code",
   "execution_count": 7,
   "metadata": {
    "collapsed": false
   },
   "outputs": [],
   "source": [
    "@everywhere function order(unordered_words::Vector{S}, free_words=S[]::Vector{S}; ϵ=0.0::Float64, best_n=1::Int)\n",
    "    orders_and_probs = get_all_orders(free_words, unordered_words, ϵ=0.0)\n",
    "    best_n = min(best_n, length(orders_and_probs))\n",
    "    if best_n==1 #4x as fast as the else\n",
    "        max_prob, max_ii = @pipe orders_and_probs |> map(op->op[2],_) |> findmax\n",
    "        orders_and_probs[max_ii], max_prob\n",
    "    else\n",
    "        select!(orders_and_probs, 1:best_n, by=op->-op[2] )\n",
    "    end\n",
    "end\n",
    "\n",
    "@everywhere function order(unordered_words::Vector{S},free_words=S[]::Vector{S}, ϵ=0.0,best_n=1::Int)\n",
    "    order(unordered_words,free_words; ϵ=0.0, best_n=best_n)[1][1]\n",
    "end"
   ]
  },
  {
   "cell_type": "code",
   "execution_count": 15,
   "metadata": {
    "collapsed": false,
    "scrolled": true
   },
   "outputs": [],
   "source": [
    "\n",
    "unordered_output, test_set = open(\"atis_res_glove.jsz\",\"r\") do fh\n",
    "    deserialize(fh)    \n",
    "end\n",
    "\n",
    "#data = open(\"atis_data2.jsz\",\"r\") do fh\n",
    "#    deserialize(fh)    \n",
    "#end\n",
    "\n",
    "#const zeroed_words = data[\"zeroed_words\"]\n",
    "@everywhere zeroed_words = ASCIIString[]"
   ]
  },
  {
   "cell_type": "code",
   "execution_count": 9,
   "metadata": {
    "collapsed": false,
    "scrolled": true
   },
   "outputs": [
    {
     "name": "stderr",
     "output_type": "stream",
     "text": [
      "WARNING: [a] concatenation is deprecated; use collect(a) instead\n"
     ]
    },
    {
     "data": {
      "text/plain": [
       "13038-element Array{Bool,1}:\n",
       " false\n",
       "  true\n",
       "  true\n",
       "  true\n",
       "  true\n",
       "  true\n",
       "  true\n",
       "  true\n",
       "  true\n",
       "  true\n",
       " false\n",
       "  true\n",
       "  true\n",
       "     ⋮\n",
       " false\n",
       "  true\n",
       "  true\n",
       " false\n",
       " false\n",
       " false\n",
       " false\n",
       "  true\n",
       " false\n",
       " false\n",
       " false\n",
       "  true"
      ]
     },
     "execution_count": 9,
     "metadata": {},
     "output_type": "execute_result"
    }
   ],
   "source": [
    "short_cases = [Bool[length(ws) <=10 for ws in unordered_output]]\n"
   ]
  },
  {
   "cell_type": "code",
   "execution_count": 31,
   "metadata": {
    "collapsed": false
   },
   "outputs": [
    {
     "data": {
      "text/plain": [
       "100-element Array{Any,1}:\n",
       " ASCIIString(i, want, to, go, from, denver, to, oakland)                        \n",
       " ASCIIString(what, is, the, cheapest, flight, from, denver, to, oakland)        \n",
       " ASCIIString(one, way, please)                                                  \n",
       " ASCIIString(i, want, to, leave, after, five, p, m)                             \n",
       " ASCIIString(sure, i, want, to, go, from, philadelphia, to, dallas)             \n",
       " ASCIIString(on, which, flights, will, lunch, be, served)                       \n",
       " ASCIIString(which, flights, serve, lunch)                                      \n",
       " ASCIIString(thank, you)                                                        \n",
       " ASCIIString(i, live, in, denver)                                               \n",
       " ASCIIString(what, is, the, least, expensive, flight, from, atlanta, to, denver)\n",
       " ASCIIString(is, there, a, round, trip, flight, that, stops, in, pittsburgh)    \n",
       " ASCIIString(round, trip, please)                                               \n",
       " ASCIIString(which, of, these, flights, stop, in, atlanta)                      \n",
       " ⋮                                                                              \n",
       " ASCIIString(is, there, a, mid, afternoon, flight, from, boston, to, denver)    \n",
       " ASCIIString(is, there, an, afternoon, flight, from, boston, to, denver)        \n",
       " ASCIIString(which, airline, has, the, cheapest, rates)                         \n",
       " ASCIIString(which, airline, has, the, cheapest, one, way, ticket)              \n",
       " ASCIIString(which, airline, has, the, cheapest, one, way, fare)                \n",
       " ASCIIString(what, is, the, latest, flight, from, boston, to, atlanta)          \n",
       " ASCIIString(are, any, meals, served, on, that, flight)                         \n",
       " ASCIIString(how, much, does, it, cost)                                         \n",
       " ASCIIString(are, there, any, stops)                                            \n",
       " ASCIIString(start, scenario, three)                                            \n",
       " ASCIIString(show, the, flights, from, atlanta, to, denver)                     \n",
       " ASCIIString(which, has, the, lowest, fare)                                     "
      ]
     },
     "execution_count": 31,
     "metadata": {},
     "output_type": "execute_result"
    }
   ],
   "source": [
    "\n",
    "eval_cases = [1:100]\n",
    "true_ordered_sents = test_set[short_cases][eval_cases]\n",
    "ordered_sents = pmap(unordered_output[short_cases][eval_cases]) do unordered_words\n",
    "    order(unordered_words, zeroed_words)\n",
    "end\n"
   ]
  },
  {
   "cell_type": "code",
   "execution_count": 26,
   "metadata": {
    "collapsed": false
   },
   "outputs": [
    {
     "name": "stdout",
     "output_type": "stream",
     "text": [
      "1 - true\n",
      "2 - true\n",
      "3 - true\n",
      "4 - true\n",
      "5 - true\n",
      "6 - true\n",
      "7 - true\n",
      "8 - true\n",
      "9 - true\n",
      "10 - false\n",
      "11 - true\n",
      "12 - true\n",
      "13 - true\n",
      "14 - true\n",
      "15 - true\n",
      "16 - true\n",
      "17 - true\n",
      "18 - true\n",
      "19 - false\n",
      "20 - true\n",
      "21 - true\n",
      "22 - true\n",
      "23 - true\n",
      "24 - true\n",
      "25 - true\n",
      "26 - true\n",
      "27 - true\n",
      "28 - true\n",
      "29 - true\n",
      "30 - true\n",
      "31 - true\n",
      "32 - true\n",
      "33 - true\n",
      "34 - true\n",
      "35 - true\n",
      "36 - true\n",
      "37 - true\n",
      "38 - true\n",
      "39 - true\n",
      "40 - true\n",
      "41 - true\n",
      "42 - false\n",
      "43 - true\n",
      "44 - true\n",
      "45 - false\n",
      "46 - true\n",
      "47 - true\n",
      "48 - true\n",
      "49 - true\n",
      "50 - false\n",
      "51 - true\n",
      "52 - true\n",
      "53 - true\n",
      "54 - true\n",
      "55 - true\n",
      "56 - true\n",
      "57 - true\n",
      "58 - true\n",
      "59 - true\n",
      "60 - true\n",
      "61 - true\n",
      "62 - false\n",
      "63 - true\n",
      "64 - true\n",
      "65 - true\n",
      "66 - true\n",
      "67 - true\n",
      "68 - true\n",
      "69 - true\n",
      "70 - true\n",
      "71 - true\n",
      "72 - true\n",
      "73 - false\n",
      "74 - true\n",
      "75 - true\n",
      "76 - true\n",
      "77 - true\n",
      "78 - true\n",
      "79 - true\n",
      "80 - true\n",
      "81 - true\n",
      "82 - true\n",
      "83 - false\n",
      "84 - false\n",
      "85 - true\n",
      "86 - false\n",
      "87 - true\n",
      "88 - false\n",
      "89 - false\n",
      "90 - false\n",
      "91 - true\n",
      "92 - true\n",
      "93 - true\n",
      "94 - true\n",
      "95 - true\n",
      "96 - true\n",
      "97 - true\n",
      "98 - true\n",
      "99 - false\n",
      "100 - true\n"
     ]
    }
   ],
   "source": [
    "perfect_matches = Bool[]  \n",
    "for ii in 1:length(ordered_sents)\n",
    "    ordered_words = ordered_sents[ii]\n",
    "    actual_words = test_set[short_cases][eval_cases][ii]\n",
    "    \n",
    "    match = ordered_words == actual_words\n",
    "    push!(perfect_matches, match)\n",
    "    println(\"$ii - $match\")\n",
    "end"
   ]
  },
  {
   "cell_type": "code",
   "execution_count": 27,
   "metadata": {
    "collapsed": false
   },
   "outputs": [
    {
     "data": {
      "text/plain": [
       "86"
      ]
     },
     "execution_count": 27,
     "metadata": {},
     "output_type": "execute_result"
    }
   ],
   "source": [
    "sum(perfect_matches)"
   ]
  },
  {
   "cell_type": "code",
   "execution_count": 28,
   "metadata": {
    "collapsed": false
   },
   "outputs": [],
   "source": [
    "@pyimport nltk.align.bleu_score as nltk_bleu"
   ]
  },
  {
   "cell_type": "code",
   "execution_count": 43,
   "metadata": {
    "collapsed": false
   },
   "outputs": [
    {
     "ename": "LoadError",
     "evalue": "LoadError: PyError (:PyObject_Call) <type 'exceptions.TypeError'>\nTypeError(\"'PyCall.jlwrap' object is not iterable\",)\n  File \"/usr/local/lib/python2.7/dist-packages/nltk/align/bleu_score.py\", line 70, in bleu\n    s = math.fsum(w * math.log(p_n) for w, p_n in zip(weights, p_ns))\n  File \"/usr/local/lib/python2.7/dist-packages/nltk/align/bleu_score.py\", line 66, in <genexpr>\n    for i, _ in enumerate(weights, start=1)\n  File \"/usr/local/lib/python2.7/dist-packages/nltk/align/bleu_score.py\", line 183, in _modified_precision\n    counts = Counter(ngrams(candidate, n))\n  File \"/usr/lib/python2.7/collections.py\", line 450, in __init__\n    self.update(iterable, **kwds)\n  File \"/usr/lib/python2.7/collections.py\", line 531, in update\n    for elem in iterable:\n  File \"/usr/local/lib/python2.7/dist-packages/nltk/util.py\", line 411, in ngrams\n    sequence = iter(sequence)\n\nwhile loading In[43], in expression starting on line 2",
     "output_type": "error",
     "traceback": [
      "LoadError: PyError (:PyObject_Call) <type 'exceptions.TypeError'>\nTypeError(\"'PyCall.jlwrap' object is not iterable\",)\n  File \"/usr/local/lib/python2.7/dist-packages/nltk/align/bleu_score.py\", line 70, in bleu\n    s = math.fsum(w * math.log(p_n) for w, p_n in zip(weights, p_ns))\n  File \"/usr/local/lib/python2.7/dist-packages/nltk/align/bleu_score.py\", line 66, in <genexpr>\n    for i, _ in enumerate(weights, start=1)\n  File \"/usr/local/lib/python2.7/dist-packages/nltk/align/bleu_score.py\", line 183, in _modified_precision\n    counts = Counter(ngrams(candidate, n))\n  File \"/usr/lib/python2.7/collections.py\", line 450, in __init__\n    self.update(iterable, **kwds)\n  File \"/usr/lib/python2.7/collections.py\", line 531, in update\n    for elem in iterable:\n  File \"/usr/local/lib/python2.7/dist-packages/nltk/util.py\", line 411, in ngrams\n    sequence = iter(sequence)\n\nwhile loading In[43], in expression starting on line 2",
      "",
      " [inlined code] from /home/ubuntu/.julia/v0.5/PyCall/src/exception.jl:82",
      " in pycall at /home/ubuntu/.julia/v0.5/PyCall/src/PyCall.jl:380",
      " in call at /home/ubuntu/.julia/v0.5/PyCall/src/PyCall.jl:407"
     ]
    }
   ],
   "source": [
    "ii=1\n",
    "nltk_bleu.bleu(ordered_sents[ii], [true_ordered_sents[ii]],[0.25, 0.25, 0.25, 0.25])"
   ]
  },
  {
   "cell_type": "code",
   "execution_count": 79,
   "metadata": {
    "collapsed": false
   },
   "outputs": [
    {
     "data": {
      "text/plain": [
       "0"
      ]
     },
     "execution_count": 79,
     "metadata": {},
     "output_type": "execute_result"
    }
   ],
   "source": [
    "weights = [1, 1, 1, 1]./4\n",
    "candidate1 = [\"It\", \"is\", \"a\", \"guide\", \"to\", \"action\", \"which\",\n",
    "               \"ensures\", \"that\", \"the\", \"military\", \"always\",\n",
    "               \"obeys\", \"the\", \"commands\", \"of\", \"the\", \"party\"]\n",
    "\n",
    "candidate2 = [\"It\", \"is\", \"to\", \"insure\", \"the\", \"troops\",\n",
    "               \"forever\", \"hearing\", \"the\", \"activity\", \"guidebook\",\n",
    "               \"that\", \"party\", \"direct\"]\n",
    "\n",
    "reference1 = [\"It\", \"is\", \"a\", \"guide\", \"to\", \"action\", \"that\",\n",
    "               \"ensures\", \"that\", \"the\", \"military\", \"will\", \"forever\",\n",
    "               \"heed\", \"Party\", \"commands\"]\n",
    "\n",
    "reference2 = [\"It\", \"is\", \"the\", \"guiding\", \"principle\", \"which\",\n",
    "               \"guarantees\", \"the\", \"military\", \"forces\", \"always\",\n",
    "               \"being\", \"under\", \"the\", \"command\", \"of\", \"the\",\n",
    "               \"Party\"]\n",
    "\n",
    "reference3 = [\"It\", \"is\", \"the\", \"practical\", \"guide\", \"for\", \"the\",\n",
    "               \"army\", \"always\", \"to\", \"heed\", \"the\", \"directions\",\n",
    "               \"of\", \"the\", \"party\"]\n",
    "\n",
    "nltk_bleu.bleu(reference1, [reference1, reference2, reference3], weights)\n"
   ]
  },
  {
   "cell_type": "code",
   "execution_count": 78,
   "metadata": {
    "collapsed": false
   },
   "outputs": [
    {
     "data": {
      "text/plain": [
       "0"
      ]
     },
     "execution_count": 78,
     "metadata": {},
     "output_type": "execute_result"
    }
   ],
   "source": [
    "nltk_bleu.bleu(candidate1, [reference1, reference2, reference3], 2.*weights)"
   ]
  },
  {
   "cell_type": "code",
   "execution_count": 95,
   "metadata": {
    "collapsed": false
   },
   "outputs": [],
   "source": [
    "# I think I have to reimplement BLEU in julia as for some reason it does not play nice with PyCall\n",
    "# Can basically port http://www.nltk.org/_modules/nltk/align/bleu_score.html#bleu"
   ]
  },
  {
   "cell_type": "code",
   "execution_count": 75,
   "metadata": {
    "collapsed": false
   },
   "outputs": [
    {
     "data": {
      "text/plain": [
       "0"
      ]
     },
     "execution_count": 75,
     "metadata": {},
     "output_type": "execute_result"
    }
   ],
   "source": [
    "pycall(nltk_bleu.bleu, Int, candidate1, [reference1], weights)"
   ]
  },
  {
   "cell_type": "code",
   "execution_count": 91,
   "metadata": {
    "collapsed": false
   },
   "outputs": [
    {
     "data": {
      "text/plain": [
       "0.0"
      ]
     },
     "execution_count": 91,
     "metadata": {},
     "output_type": "execute_result"
    }
   ],
   "source": [
    "nltk_bleu._modified_precision(candidate1, [reference1], 2)"
   ]
  },
  {
   "cell_type": "code",
   "execution_count": 94,
   "metadata": {
    "collapsed": false
   },
   "outputs": [
    {
     "data": {
      "text/plain": [
       "Dict{Any,Any} with 17 entries:\n",
       "  (\"that\",\"the\")        => 1\n",
       "  (\"which\",\"ensures\")   => 1\n",
       "  (\"It\",\"is\")           => 1\n",
       "  (\"obeys\",\"the\")       => 1\n",
       "  (\"ensures\",\"that\")    => 1\n",
       "  (\"the\",\"party\")       => 1\n",
       "  (\"the\",\"military\")    => 1\n",
       "  (\"a\",\"guide\")         => 1\n",
       "  (\"always\",\"obeys\")    => 1\n",
       "  (\"the\",\"commands\")    => 1\n",
       "  (\"is\",\"a\")            => 1\n",
       "  (\"commands\",\"of\")     => 1\n",
       "  (\"guide\",\"to\")        => 1\n",
       "  (\"of\",\"the\")          => 1\n",
       "  (\"action\",\"which\")    => 1\n",
       "  (\"military\",\"always\") => 1\n",
       "  (\"to\",\"action\")       => 1"
      ]
     },
     "execution_count": 94,
     "metadata": {},
     "output_type": "execute_result"
    }
   ],
   "source": [
    "@pyimport nltk.util as nltk_util\n",
    "nltk_util.ngrams(candidate1,2) |> py_collections.Counter"
   ]
  },
  {
   "cell_type": "code",
   "execution_count": 92,
   "metadata": {
    "collapsed": true
   },
   "outputs": [],
   "source": [
    "@pyimport collections as py_collections"
   ]
  },
  {
   "cell_type": "code",
   "execution_count": 93,
   "metadata": {
    "collapsed": false
   },
   "outputs": [
    {
     "data": {
      "text/plain": [
       "PyObject <class 'collections.Counter'>"
      ]
     },
     "execution_count": 93,
     "metadata": {},
     "output_type": "execute_result"
    }
   ],
   "source": []
  },
  {
   "cell_type": "code",
   "execution_count": null,
   "metadata": {
    "collapsed": true
   },
   "outputs": [],
   "source": []
  }
 ],
 "metadata": {
  "kernelspec": {
   "display_name": "Julia 0.5.0-dev",
   "language": "julia",
   "name": "julia-0.5"
  },
  "language_info": {
   "file_extension": ".jl",
   "mimetype": "application/julia",
   "name": "julia",
   "version": "0.5.0"
  }
 },
 "nbformat": 4,
 "nbformat_minor": 0
}
