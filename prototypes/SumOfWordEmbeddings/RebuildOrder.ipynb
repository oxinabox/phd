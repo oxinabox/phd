{
 "cells": [
  {
   "cell_type": "code",
   "execution_count": 16,
   "metadata": {
    "collapsed": false
   },
   "outputs": [
    {
     "data": {
      "text/plain": [
       "11-element Array{Int64,1}:\n",
       "  2\n",
       "  3\n",
       "  4\n",
       "  5\n",
       "  6\n",
       "  7\n",
       "  8\n",
       "  9\n",
       " 10\n",
       " 11\n",
       " 12"
      ]
     },
     "execution_count": 16,
     "metadata": {},
     "output_type": "execute_result"
    }
   ],
   "source": [
    "addprocs(11)"
   ]
  },
  {
   "cell_type": "code",
   "execution_count": 17,
   "metadata": {
    "collapsed": false,
    "scrolled": true
   },
   "outputs": [
    {
     "data": {
      "text/plain": [
       "6-element Array{ByteString,1}:\n",
       " \"/home/ubuntu/build/julia-master/usr/local/share/julia/site/v0.5\"\n",
       " \"/home/ubuntu/build/julia-master/usr/share/julia/site/v0.5\"      \n",
       " \".\"                                                              \n",
       " \"../util/\"                                                       \n",
       " \".\"                                                              \n",
       " \"../util/\"                                                       "
      ]
     },
     "execution_count": 17,
     "metadata": {},
     "output_type": "execute_result"
    }
   ],
   "source": [
    "@everywhere using FunctionalCollections\n",
    "@everywhere using Iterators\n",
    "@everywhere using Pipe\n",
    "using Compat\n",
    "\n",
    "macro printval(ee)\n",
    "    ee_expr = @sprintf \"%s\" string(ee)\n",
    "    esc(:(println($ee_expr,\" = \", $ee)))\n",
    "end\n",
    "\n",
    "macro pz(ee)\n",
    "    ee_expr = @sprintf \"%s\" string(ee)\n",
    "    esc(:(println($ee_expr,\"\\t\\t\",typeof($ee), \"\\t\", size($ee))))\n",
    "end\n",
    "\n",
    "push!(LOAD_PATH, \".\")\n",
    "push!(LOAD_PATH, \"../util/\")"
   ]
  },
  {
   "cell_type": "code",
   "execution_count": 18,
   "metadata": {
    "collapsed": false
   },
   "outputs": [],
   "source": [
    "@everywhere const START_MARKER1 = \"**START1**\"\n",
    "@everywhere const START_MARKER2 = \"**START2**\"\n",
    "@everywhere const END_MARKER1 = \"**END1**\"\n",
    "@everywhere const END_MARKER2 = \"**END2**\"\n",
    "\n",
    "@everywhere atis_data = open(\"atis_data2.jsz\",\"r\") do fh\n",
    "    deserialize(fh)    \n",
    "end\n"
   ]
  },
  {
   "cell_type": "code",
   "execution_count": 19,
   "metadata": {
    "collapsed": false,
    "scrolled": true
   },
   "outputs": [
    {
     "name": "stderr",
     "output_type": "stream",
     "text": [
      "/usr/local/lib/python2.7/dist-packages/nltk/app/__init__.py:29: UserWarning: nltk.app package not loaded (please install Tkinter library).\n",
      "  warnings.warn(\"nltk.app package not loaded \"\n",
      "/usr/local/lib/python2.7/dist-packages/nltk/app/__init__.py:29: UserWarning: nltk.app package not loaded (please install Tkinter library).\n",
      "  warnings.warn(\"nltk.app package not loaded \"\n",
      "/usr/local/lib/python2.7/dist-packages/nltk/app/__init__.py:29: UserWarning: nltk.app package not loaded (please install Tkinter library).\n",
      "  warnings.warn(\"nltk.app package not loaded \"\n",
      "/usr/local/lib/python2.7/dist-packages/nltk/app/__init__.py:29: UserWarning: nltk.app package not loaded (please install Tkinter library).\n",
      "  warnings.warn(\"nltk.app package not loaded \"\n",
      "/usr/local/lib/python2.7/dist-packages/nltk/draw/__init__.py:15: UserWarning: nltk.draw package not loaded (please install Tkinter library).\n",
      "  warnings.warn(\"nltk.draw package not loaded \"\n",
      "/usr/local/lib/python2.7/dist-packages/nltk/draw/__init__.py:15: UserWarning: nltk.draw package not loaded (please install Tkinter library).\n",
      "  warnings.warn(\"nltk.draw package not loaded \"\n",
      "/usr/local/lib/python2.7/dist-packages/nltk/draw/__init__.py:15: UserWarning: nltk.draw package not loaded (please install Tkinter library).\n",
      "  warnings.warn(\"nltk.draw package not loaded \"\n",
      "/usr/local/lib/python2.7/dist-packages/nltk/draw/__init__.py:15: UserWarning: nltk.draw package not loaded (please install Tkinter library).\n",
      "  warnings.warn(\"nltk.draw package not loaded \"\n",
      "/usr/local/lib/python2.7/dist-packages/nltk/app/__init__.py:29: UserWarning: nltk.app package not loaded (please install Tkinter library).\n",
      "  warnings.warn(\"nltk.app package not loaded \"\n",
      "/usr/local/lib/python2.7/dist-packages/nltk/app/__init__.py:29: UserWarning: nltk.app package not loaded (please install Tkinter library).\n",
      "  warnings.warn(\"nltk.app package not loaded \"\n",
      "/usr/local/lib/python2.7/dist-packages/nltk/draw/__init__.py:15: UserWarning: nltk.draw package not loaded (please install Tkinter library).\n",
      "  warnings.warn(\"nltk.draw package not loaded \"\n",
      "/usr/local/lib/python2.7/dist-packages/nltk/app/__init__.py:29: UserWarning: nltk.app package not loaded (please install Tkinter library).\n",
      "  warnings.warn(\"nltk.app package not loaded \"\n",
      "/usr/local/lib/python2.7/dist-packages/nltk/app/__init__.py:29: UserWarning: nltk.app package not loaded (please install Tkinter library).\n",
      "  warnings.warn(\"nltk.app package not loaded \"\n",
      "/usr/local/lib/python2.7/dist-packages/nltk/draw/__init__.py:15: UserWarning: nltk.draw package not loaded (please install Tkinter library).\n",
      "  warnings.warn(\"nltk.draw package not loaded \"\n",
      "/usr/local/lib/python2.7/dist-packages/nltk/app/__init__.py:29: UserWarning: nltk.app package not loaded (please install Tkinter library).\n",
      "  warnings.warn(\"nltk.app package not loaded \"\n",
      "/usr/local/lib/python2.7/dist-packages/nltk/app/__init__.py:29: UserWarning: nltk.app package not loaded (please install Tkinter library).\n",
      "  warnings.warn(\"nltk.app package not loaded \"\n",
      "/usr/local/lib/python2.7/dist-packages/nltk/app/__init__.py:29: UserWarning: nltk.app package not loaded (please install Tkinter library).\n",
      "  warnings.warn(\"nltk.app package not loaded \"\n",
      "/usr/local/lib/python2.7/dist-packages/nltk/draw/__init__.py:15: UserWarning: nltk.draw package not loaded (please install Tkinter library).\n",
      "  warnings.warn(\"nltk.draw package not loaded \"\n",
      "/usr/local/lib/python2.7/dist-packages/nltk/draw/__init__.py:15: UserWarning: nltk.draw package not loaded (please install Tkinter library).\n",
      "  warnings.warn(\"nltk.draw package not loaded \"\n",
      "/usr/local/lib/python2.7/dist-packages/nltk/draw/__init__.py:15: UserWarning: nltk.draw package not loaded (please install Tkinter library).\n",
      "  warnings.warn(\"nltk.draw package not loaded \"\n",
      "/usr/local/lib/python2.7/dist-packages/nltk/draw/__init__.py:15: UserWarning: nltk.draw package not loaded (please install Tkinter library).\n",
      "  warnings.warn(\"nltk.draw package not loaded \"\n",
      "/usr/local/lib/python2.7/dist-packages/nltk/draw/__init__.py:15: UserWarning: nltk.draw package not loaded (please install Tkinter library).\n",
      "  warnings.warn(\"nltk.draw package not loaded \"\n"
     ]
    }
   ],
   "source": [
    "@everywhere using PyCall\n",
    "#http://www.nltk.org/howto/probability.html\n",
    "@everywhere @pyimport nltk\n",
    "@everywhere  @pyimport nltk.probability as nltk_prob\n",
    "\n",
    "\n",
    "@everywhere kn_prob_dist = nltk_prob.KneserNeyProbDist(pycall(nltk_prob.FreqDist, PyObject, atis_data[\"trigrams\"]))\n",
    "@everywhere function trigram_model(given1::AbstractString, given2::AbstractString, event::AbstractString)\n",
    "    kn_prob_dist[:prob]((given1, given2, event))\n",
    "end"
   ]
  },
  {
   "cell_type": "code",
   "execution_count": 20,
   "metadata": {
    "collapsed": false
   },
   "outputs": [],
   "source": [
    "@everywhere typealias S ASCIIString\n",
    "@everywhere typealias State{T} Tuple{T,T}\n",
    "\n",
    "@everywhere function transition_prob(cur_state::State{S}, next_word::S)\n",
    "    trigram_model(cur_state..., next_word)\n",
    "end\n",
    "\n",
    "\n",
    "@everywhere _get_options_cache_type = Dict{Tuple{State{S}, Any}, Vector{Tuple{plist{S}, Float64}}}\n",
    "@everywhere _get_options_caches = Dict{Vector{S}, _get_options_cache_type}()\n",
    "\n",
    "#\"\"\"\n",
    "#returns all possible orderings of the remaining words.\n",
    "#the freewords are also inserted into every possible position, EXCEPT at the end.\n",
    "#Freewords also will not be inserted after other freewords\n",
    "#(For now)\n",
    "#\"\"\"\n",
    "@everywhere function get_all_orders(free_words::Vector{S}, unordered_words::Vector{S}; ϵ=0.0)\n",
    "    _get_options_cache = get!(_get_options_cache_type, _get_options_caches, free_words)\n",
    "    #different cache if different freewords\n",
    "    \n",
    "    function get_options(cur_state::State{S})\n",
    "        #Can never End in a freeword\n",
    "        tp = transition_prob(cur_state, END_MARKER1)\n",
    "        # Given P(END_MARKER2 | curstatep[2]==END_MARKER1) = 1.0\n",
    "        # Do not need to consider P(END_MARKER2 | curstatep[2]==END_MARKER1, curstatep[1])\n",
    "        [\n",
    "            (EmptyList{S}(), tp)\n",
    "        ]\n",
    "    end\n",
    "    \n",
    "    function get_options(state::State{S}, remaining_words::S...)\n",
    "        get!(_get_options_cache, (state, remaining_words)) do\n",
    "            _get_options(state, remaining_words...)\n",
    "        end\n",
    "    end\n",
    "\n",
    "    function _get_options_inner(cur_state, word, remaining_words, get_option_fun)\n",
    "        tp = transition_prob(cur_state, word) \n",
    "        next_state = (cur_state[2], word)\n",
    "        \n",
    "        if tp<=ϵ #Stop early if probability is too low\n",
    "            return\n",
    "        end\n",
    "\n",
    "        for (tail, next_tp) in get_option_fun(next_state, remaining_words...)\n",
    "            produce(cons(word, tail),tp*next_tp)\n",
    "        end\n",
    "    end\n",
    "\n",
    "    function _get_options_nofree(cur_state::State{S}, remaining_words::S...)\n",
    "        (@task begin        \n",
    "            for ii in 1:length(remaining_words)\n",
    "                word = remaining_words[ii]\n",
    "                new_remaining_words = remaining_words[[1:ii-1; ii+1:end]]\n",
    "                \n",
    "                _get_options_inner(cur_state, word, new_remaining_words, get_options)\n",
    "            end\n",
    "        end)\n",
    "    end\n",
    "    \n",
    "    function _get_options_free(cur_state::State{S}, remaining_words::S...)\n",
    "        @task begin        \n",
    "            for word in free_words\n",
    "                #Important: get_options_free, only chains to _get_options_nofree\n",
    "                _get_options_inner(cur_state, word, remaining_words, _get_options_nofree)\n",
    "            end\n",
    "        end\n",
    "    end\n",
    "    \n",
    "    function _get_options(cur_state::State{S}, remaining_words::S...)\n",
    "        chain(_get_options_nofree(cur_state, remaining_words...),\n",
    "             _get_options_free(cur_state, remaining_words...)) |> collect\n",
    "    end\n",
    "   \n",
    "    initial_state = (START_MARKER1, START_MARKER2)\n",
    "    get_options(initial_state, unordered_words...)\n",
    "end"
   ]
  },
  {
   "cell_type": "code",
   "execution_count": 21,
   "metadata": {
    "collapsed": false
   },
   "outputs": [],
   "source": [
    "@everywhere function order(unordered_words::Vector{S}, free_words=S[]::Vector{S}; ϵ=0.0::Float64, best_n=1::Int)\n",
    "    orders_and_probs = get_all_orders(free_words, unordered_words, ϵ=0.0)\n",
    "    best_n = min(best_n, length(orders_and_probs))\n",
    "    if best_n==1 #4x as fast as the else\n",
    "        max_prob, max_ii = @pipe orders_and_probs |> map(op->op[2],_) |> findmax\n",
    "        orders_and_probs[max_ii], max_prob\n",
    "    else\n",
    "        select!(orders_and_probs, 1:best_n, by=op->-op[2] )\n",
    "    end\n",
    "end\n",
    "\n",
    "@everywhere function order(unordered_words::Vector{S},free_words=S[]::Vector{S}, ϵ=0.0,best_n=1::Int)\n",
    "    order(unordered_words,free_words; ϵ=0.0, best_n=best_n)[1][1]\n",
    "end"
   ]
  },
  {
   "cell_type": "code",
   "execution_count": 22,
   "metadata": {
    "collapsed": false,
    "scrolled": true
   },
   "outputs": [],
   "source": [
    "\n",
    "unordered_output, test_set = open(\"atis_res_glove.jsz\",\"r\") do fh\n",
    "    deserialize(fh)    \n",
    "end\n",
    "\n",
    "#data = open(\"atis_data2.jsz\",\"r\") do fh\n",
    "#    deserialize(fh)    \n",
    "#end\n",
    "\n",
    "#const zeroed_words = data[\"zeroed_words\"]\n",
    "@everywhere zeroed_words = ASCIIString[]"
   ]
  },
  {
   "cell_type": "code",
   "execution_count": 23,
   "metadata": {
    "collapsed": false,
    "scrolled": true
   },
   "outputs": [
    {
     "name": "stderr",
     "output_type": "stream",
     "text": [
      "WARNING: [a] concatenation is deprecated; use collect(a) instead\n"
     ]
    },
    {
     "data": {
      "text/plain": [
       "13038-element Array{Bool,1}:\n",
       " false\n",
       "  true\n",
       "  true\n",
       "  true\n",
       "  true\n",
       "  true\n",
       "  true\n",
       "  true\n",
       "  true\n",
       "  true\n",
       " false\n",
       "  true\n",
       "  true\n",
       "     ⋮\n",
       " false\n",
       "  true\n",
       "  true\n",
       " false\n",
       " false\n",
       " false\n",
       " false\n",
       "  true\n",
       " false\n",
       " false\n",
       " false\n",
       "  true"
      ]
     },
     "execution_count": 23,
     "metadata": {},
     "output_type": "execute_result"
    },
    {
     "name": "stderr",
     "output_type": "stream",
     "text": [
      " in depwarn at deprecated.jl:73\n",
      " in oldstyle_vcat_warning at ./abstractarray.jl:29\n",
      " in anonymous at no file\n",
      " in include_string at loading.jl:266\n",
      " in execute_request_0x535c5df2 at /home/ubuntu/.julia/v0.5/IJulia/src/execute_request.jl:177\n",
      " in eventloop at /home/ubuntu/.julia/v0.5/IJulia/src/IJulia.jl:141\n",
      " in anonymous at task.jl:443\n",
      "while loading In[23], in expression starting on line 1\n"
     ]
    }
   ],
   "source": [
    "short_cases = [Bool[length(ws) <=10 for ws in unordered_output]]\n"
   ]
  },
  {
   "cell_type": "code",
   "execution_count": 24,
   "metadata": {
    "collapsed": false,
    "scrolled": true
   },
   "outputs": [
    {
     "data": {
      "text/plain": [
       "100-element Array{Any,1}:\n",
       " ASCIIString(i, want, to, go, from, denver, to, oakland)                        \n",
       " ASCIIString(what, is, the, cheapest, flight, from, denver, to, oakland)        \n",
       " ASCIIString(one, way, please)                                                  \n",
       " ASCIIString(i, want, to, leave, after, five, p, m)                             \n",
       " ASCIIString(sure, i, want, to, go, from, philadelphia, to, dallas)             \n",
       " ASCIIString(on, which, flights, will, lunch, be, served)                       \n",
       " ASCIIString(which, flights, serve, lunch)                                      \n",
       " ASCIIString(thank, you)                                                        \n",
       " ASCIIString(i, live, in, denver)                                               \n",
       " ASCIIString(what, is, the, least, expensive, flight, from, atlanta, to, denver)\n",
       " ASCIIString(is, there, a, round, trip, flight, that, stops, in, pittsburgh)    \n",
       " ASCIIString(round, trip, please)                                               \n",
       " ASCIIString(which, of, these, flights, stop, in, atlanta)                      \n",
       " ⋮                                                                              \n",
       " ASCIIString(is, there, a, mid, afternoon, flight, from, boston, to, denver)    \n",
       " ASCIIString(is, there, an, afternoon, flight, from, boston, to, denver)        \n",
       " ASCIIString(which, airline, has, the, cheapest, rates)                         \n",
       " ASCIIString(which, airline, has, the, cheapest, one, way, ticket)              \n",
       " ASCIIString(which, airline, has, the, cheapest, one, way, fare)                \n",
       " ASCIIString(what, is, the, latest, flight, from, boston, to, atlanta)          \n",
       " ASCIIString(are, any, meals, served, on, that, flight)                         \n",
       " ASCIIString(how, much, does, it, cost)                                         \n",
       " ASCIIString(are, there, any, stops)                                            \n",
       " ASCIIString(start, scenario, three)                                            \n",
       " ASCIIString(show, the, flights, from, atlanta, to, denver)                     \n",
       " ASCIIString(which, has, the, lowest, fare)                                     "
      ]
     },
     "execution_count": 24,
     "metadata": {},
     "output_type": "execute_result"
    }
   ],
   "source": [
    "\n",
    "eval_cases = [1:100]\n",
    "true_ordered_sents = test_set[short_cases][eval_cases]\n",
    "ordered_sents = pmap(unordered_output[short_cases][eval_cases]) do unordered_words\n",
    "    order(unordered_words, zeroed_words)\n",
    "end\n"
   ]
  },
  {
   "cell_type": "code",
   "execution_count": 76,
   "metadata": {
    "collapsed": false,
    "scrolled": true
   },
   "outputs": [
    {
     "name": "stdout",
     "output_type": "stream",
     "text": [
      "1 - true\n"
     ]
    },
    {
     "data": {
      "text/plain": [
       "0.86"
      ]
     },
     "execution_count": 76,
     "metadata": {},
     "output_type": "execute_result"
    },
    {
     "name": "stdout",
     "output_type": "stream",
     "text": [
      "2 - true\n",
      "3 - true\n",
      "4 - true\n",
      "5 - true\n",
      "6 - true\n",
      "7 - true\n",
      "8 - true\n",
      "9 - true\n",
      "10 - false\n",
      "11 - true\n",
      "12 - true\n",
      "13 - true\n",
      "14 - true\n",
      "15 - true\n",
      "16 - true\n",
      "17 - true\n",
      "18 - true\n",
      "19 - false\n",
      "20 - true\n",
      "21 - true\n",
      "22 - true\n",
      "23 - true\n",
      "24 - true\n",
      "25 - true\n",
      "26 - true\n",
      "27 - true\n",
      "28 - true\n",
      "29 - true\n",
      "30 - true\n",
      "31 - true\n",
      "32 - true\n",
      "33 - true\n",
      "34 - true\n",
      "35 - true\n",
      "36 - true\n",
      "37 - true\n",
      "38 - true\n",
      "39 - true\n",
      "40 - true\n",
      "41 - true\n",
      "42 - false\n",
      "43 - true\n",
      "44 - true\n",
      "45 - false\n",
      "46 - true\n",
      "47 - true\n",
      "48 - true\n",
      "49 - true\n",
      "50 - false\n",
      "51 - true\n",
      "52 - true\n",
      "53 - true\n",
      "54 - true\n",
      "55 - true\n",
      "56 - true\n",
      "57 - true\n",
      "58 - true\n",
      "59 - true\n",
      "60 - true\n",
      "61 - true\n",
      "62 - false\n",
      "63 - true\n",
      "64 - true\n",
      "65 - true\n",
      "66 - true\n",
      "67 - true\n",
      "68 - true\n",
      "69 - true\n",
      "70 - true\n",
      "71 - true\n",
      "72 - true\n",
      "73 - false\n",
      "74 - true\n",
      "75 - true\n",
      "76 - true\n",
      "77 - true\n",
      "78 - true\n",
      "79 - true\n",
      "80 - true\n",
      "81 - true\n",
      "82 - true\n",
      "83 - false\n",
      "84 - false\n",
      "85 - true\n",
      "86 - false\n",
      "87 - true\n",
      "88 - false\n",
      "89 - false\n",
      "90 - false\n",
      "91 - true\n",
      "92 - true\n",
      "93 - true\n",
      "94 - true\n",
      "95 - true\n",
      "96 - true\n",
      "97 - true\n",
      "98 - true\n",
      "99 - false\n",
      "100 - true\n"
     ]
    }
   ],
   "source": [
    "perfect_matches = Bool[]  \n",
    "for ii in 1:length(ordered_sents)\n",
    "    ordered_words = ordered_sents[ii]\n",
    "    actual_words = true_ordered_sents[ii]\n",
    "    \n",
    "    match = ordered_words == actual_words\n",
    "    push!(perfect_matches, match)\n",
    "    println(\"$ii - $match\")\n",
    "end\n",
    "mean(perfect_matches)"
   ]
  },
  {
   "cell_type": "code",
   "execution_count": null,
   "metadata": {
    "collapsed": false
   },
   "outputs": [],
   "source": []
  },
  {
   "cell_type": "code",
   "execution_count": null,
   "metadata": {
    "collapsed": true
   },
   "outputs": [],
   "source": []
  },
  {
   "cell_type": "code",
   "execution_count": 87,
   "metadata": {
    "collapsed": false
   },
   "outputs": [
    {
     "data": {
      "text/plain": [
       "bleu_score (generic function with 1 method)"
      ]
     },
     "execution_count": 87,
     "metadata": {},
     "output_type": "execute_result"
    }
   ],
   "source": [
    "@pyimport nltk\n",
    "@pyimport nltk.translate.bleu_score as nltk_bleu\n",
    "\n",
    "function bleu_score(candidate, reference)\n",
    "    reference = reference |> collect\n",
    "    candidate = candidate |> collect\n",
    "    \n",
    "    if reference==candidate\n",
    "    weights = [1,1,1,1]/4\n",
    "    nltk_bleu.bleu(Any[reference],candidate, weights)\n",
    "end"
   ]
  },
  {
   "cell_type": "code",
   "execution_count": 109,
   "metadata": {
    "collapsed": false
   },
   "outputs": [
    {
     "data": {
      "text/plain": [
       "true"
      ]
     },
     "execution_count": 109,
     "metadata": {},
     "output_type": "execute_result"
    }
   ],
   "source": [
    "true_ordered_sents[3] == ordered_sents[3]"
   ]
  },
  {
   "cell_type": "code",
   "execution_count": 105,
   "metadata": {
    "collapsed": false
   },
   "outputs": [
    {
     "data": {
      "text/plain": [
       "40-element Array{Real,1}:\n",
       " 1.0     \n",
       " 1.0     \n",
       " 0       \n",
       " 1.0     \n",
       " 1.0     \n",
       " 1.0     \n",
       " 1.0     \n",
       " 0       \n",
       " 1.0     \n",
       " 0.698534\n",
       " 1.0     \n",
       " 0       \n",
       " 1.0     \n",
       " ⋮       \n",
       " 1.0     \n",
       " 1.0     \n",
       " 1.0     \n",
       " 1.0     \n",
       " 1.0     \n",
       " 1.0     \n",
       " 1.0     \n",
       " 1.0     \n",
       " 1.0     \n",
       " 1.0     \n",
       " 1.0     \n",
       " 1.0     "
      ]
     },
     "execution_count": 105,
     "metadata": {},
     "output_type": "execute_result"
    }
   ],
   "source": [
    "map(bleu_score, ordered_sents[1:40],true_ordered_sents[1:40])\n"
   ]
  },
  {
   "cell_type": "code",
   "execution_count": 108,
   "metadata": {
    "collapsed": false
   },
   "outputs": [
    {
     "data": {
      "text/plain": [
       "0"
      ]
     },
     "execution_count": 108,
     "metadata": {},
     "output_type": "execute_result"
    }
   ],
   "source": [
    "bleu_score(true_ordered_sents[3], true_ordered_sents[3])"
   ]
  },
  {
   "cell_type": "code",
   "execution_count": null,
   "metadata": {
    "collapsed": true
   },
   "outputs": [],
   "source": []
  },
  {
   "cell_type": "code",
   "execution_count": 107,
   "metadata": {
    "collapsed": false
   },
   "outputs": [
    {
     "data": {
      "text/plain": [
       "100-element Array{Array{SubString{ASCIIString},1},1}:\n",
       " SubString{ASCIIString}[\"i\",\"want\",\"to\",\"go\",\"from\",\"denver\",\"to\",\"oakland\"]                          \n",
       " SubString{ASCIIString}[\"what\",\"is\",\"the\",\"cheapest\",\"flight\",\"from\",\"denver\",\"to\",\"oakland\"]         \n",
       " SubString{ASCIIString}[\"one\",\"way\",\"please\"]                                                         \n",
       " SubString{ASCIIString}[\"i\",\"want\",\"to\",\"leave\",\"after\",\"five\",\"p\",\"m\"]                               \n",
       " SubString{ASCIIString}[\"sure\",\"i\",\"want\",\"to\",\"go\",\"from\",\"philadelphia\",\"to\",\"dallas\"]              \n",
       " SubString{ASCIIString}[\"on\",\"which\",\"flights\",\"will\",\"lunch\",\"be\",\"served\"]                          \n",
       " SubString{ASCIIString}[\"which\",\"flights\",\"serve\",\"lunch\"]                                            \n",
       " SubString{ASCIIString}[\"thank\",\"you\"]                                                                \n",
       " SubString{ASCIIString}[\"i\",\"live\",\"in\",\"denver\"]                                                     \n",
       " SubString{ASCIIString}[\"what\",\"is\",\"the\",\"least\",\"expensive\",\"flight\",\"from\",\"denver\",\"to\",\"atlanta\"]\n",
       " SubString{ASCIIString}[\"is\",\"there\",\"a\",\"round\",\"trip\",\"flight\",\"that\",\"stops\",\"in\",\"pittsburgh\"]    \n",
       " SubString{ASCIIString}[\"round\",\"trip\",\"please\"]                                                      \n",
       " SubString{ASCIIString}[\"which\",\"of\",\"these\",\"flights\",\"stop\",\"in\",\"atlanta\"]                         \n",
       " ⋮                                                                                                    \n",
       " SubString{ASCIIString}[\"is\",\"there\",\"a\",\"mid\",\"afternoon\",\"flight\",\"from\",\"denver\",\"to\",\"boston\"]    \n",
       " SubString{ASCIIString}[\"is\",\"there\",\"an\",\"afternoon\",\"flight\",\"from\",\"denver\",\"to\",\"boston\"]         \n",
       " SubString{ASCIIString}[\"which\",\"airline\",\"has\",\"the\",\"cheapest\",\"rates\"]                             \n",
       " SubString{ASCIIString}[\"which\",\"airline\",\"has\",\"the\",\"cheapest\",\"one\",\"way\",\"ticket\"]                \n",
       " SubString{ASCIIString}[\"which\",\"airline\",\"has\",\"the\",\"cheapest\",\"one\",\"way\",\"fare\"]                  \n",
       " SubString{ASCIIString}[\"what\",\"is\",\"the\",\"latest\",\"flight\",\"from\",\"boston\",\"to\",\"atlanta\"]           \n",
       " SubString{ASCIIString}[\"are\",\"any\",\"meals\",\"served\",\"on\",\"that\",\"flight\"]                            \n",
       " SubString{ASCIIString}[\"how\",\"much\",\"does\",\"it\",\"cost\"]                                              \n",
       " SubString{ASCIIString}[\"are\",\"there\",\"any\",\"stops\"]                                                  \n",
       " SubString{ASCIIString}[\"start\",\"scenario\",\"three\"]                                                   \n",
       " SubString{ASCIIString}[\"show\",\"the\",\"flights\",\"from\",\"denver\",\"to\",\"atlanta\"]                        \n",
       " SubString{ASCIIString}[\"which\",\"has\",\"the\",\"lowest\",\"fare\"]                                          "
      ]
     },
     "execution_count": 107,
     "metadata": {},
     "output_type": "execute_result"
    }
   ],
   "source": [
    "true_ordered_sents"
   ]
  },
  {
   "cell_type": "code",
   "execution_count": 106,
   "metadata": {
    "collapsed": false
   },
   "outputs": [
    {
     "data": {
      "text/plain": [
       "100-element Array{Any,1}:\n",
       " ASCIIString(i, want, to, go, from, denver, to, oakland)                        \n",
       " ASCIIString(what, is, the, cheapest, flight, from, denver, to, oakland)        \n",
       " ASCIIString(one, way, please)                                                  \n",
       " ASCIIString(i, want, to, leave, after, five, p, m)                             \n",
       " ASCIIString(sure, i, want, to, go, from, philadelphia, to, dallas)             \n",
       " ASCIIString(on, which, flights, will, lunch, be, served)                       \n",
       " ASCIIString(which, flights, serve, lunch)                                      \n",
       " ASCIIString(thank, you)                                                        \n",
       " ASCIIString(i, live, in, denver)                                               \n",
       " ASCIIString(what, is, the, least, expensive, flight, from, atlanta, to, denver)\n",
       " ASCIIString(is, there, a, round, trip, flight, that, stops, in, pittsburgh)    \n",
       " ASCIIString(round, trip, please)                                               \n",
       " ASCIIString(which, of, these, flights, stop, in, atlanta)                      \n",
       " ⋮                                                                              \n",
       " ASCIIString(is, there, a, mid, afternoon, flight, from, boston, to, denver)    \n",
       " ASCIIString(is, there, an, afternoon, flight, from, boston, to, denver)        \n",
       " ASCIIString(which, airline, has, the, cheapest, rates)                         \n",
       " ASCIIString(which, airline, has, the, cheapest, one, way, ticket)              \n",
       " ASCIIString(which, airline, has, the, cheapest, one, way, fare)                \n",
       " ASCIIString(what, is, the, latest, flight, from, boston, to, atlanta)          \n",
       " ASCIIString(are, any, meals, served, on, that, flight)                         \n",
       " ASCIIString(how, much, does, it, cost)                                         \n",
       " ASCIIString(are, there, any, stops)                                            \n",
       " ASCIIString(start, scenario, three)                                            \n",
       " ASCIIString(show, the, flights, from, atlanta, to, denver)                     \n",
       " ASCIIString(which, has, the, lowest, fare)                                     "
      ]
     },
     "execution_count": 106,
     "metadata": {},
     "output_type": "execute_result"
    }
   ],
   "source": [
    "ordered_sents"
   ]
  },
  {
   "cell_type": "code",
   "execution_count": 101,
   "metadata": {
    "collapsed": false
   },
   "outputs": [
    {
     "data": {
      "text/plain": [
       "RemoteException(2,CapturedException(BoundsError(Tuple{FunctionalCollections.PersistentList{ASCIIString},Float64}[],(1,)),Any[(:getindex,symbol(\"array.jl\"),272,symbol(\"\"),-1,1),(:order,symbol(\"In[21]\"),13,symbol(\"\"),-1,1),(:anonymous,symbol(\"In[24]\"),5,symbol(\"\"),-1,1),(:anonymous,symbol(\"multi.jl\"),892,symbol(\"\"),-1,1),(:run_work_thunk,symbol(\"multi.jl\"),645,symbol(\"\"),-1,1),(:anonymous,symbol(\"multi.jl\"),892,symbol(\"task.jl\"),59,1)]))"
      ]
     },
     "execution_count": 101,
     "metadata": {},
     "output_type": "execute_result"
    }
   ],
   "source": [
    "ordered_sents[50]"
   ]
  },
  {
   "cell_type": "code",
   "execution_count": 103,
   "metadata": {
    "collapsed": false
   },
   "outputs": [
    {
     "data": {
      "text/plain": [
       "10-element Array{ASCIIString,1}:\n",
       " \"than\"      \n",
       " \"are\"       \n",
       " \"dollars\"   \n",
       " \"what\"      \n",
       " \"fares\"     \n",
       " \"hundred\"   \n",
       " \"the\"       \n",
       " \"less\"      \n",
       " \"**START1**\"\n",
       " \"four\"      "
      ]
     },
     "execution_count": 103,
     "metadata": {},
     "output_type": "execute_result"
    }
   ],
   "source": [
    "unordered_output[short_cases][eval_cases][50]"
   ]
  },
  {
   "cell_type": "code",
   "execution_count": 104,
   "metadata": {
    "collapsed": false
   },
   "outputs": [
    {
     "data": {
      "text/plain": [
       "9-element Array{SubString{ASCIIString},1}:\n",
       " \"what\"   \n",
       " \"are\"    \n",
       " \"the\"    \n",
       " \"fares\"  \n",
       " \"less\"   \n",
       " \"than\"   \n",
       " \"four\"   \n",
       " \"hundred\"\n",
       " \"dollars\""
      ]
     },
     "execution_count": 104,
     "metadata": {},
     "output_type": "execute_result"
    }
   ],
   "source": [
    "true_ordered_sents[50]"
   ]
  },
  {
   "cell_type": "code",
   "execution_count": 77,
   "metadata": {
    "collapsed": false
   },
   "outputs": [
    {
     "data": {
      "text/plain": [
       "0.6985342056580097"
      ]
     },
     "execution_count": 77,
     "metadata": {},
     "output_type": "execute_result"
    }
   ],
   "source": [
    "#x= [\"A\", \"B\", \"C\", \"D\"]\n",
    "#y= UTF8String[\"A\", \"B\", \"C\", \"D\"]\n",
    "x = true_ordered_sents[10]\n",
    "y=ordered_sents[10] |> collect\n",
    "pycall(nltk_bleu.bleu, PyAny, Any[x], y, Any[0.25, 0.25, 0.25, 0.25])"
   ]
  },
  {
   "cell_type": "code",
   "execution_count": 66,
   "metadata": {
    "collapsed": false
   },
   "outputs": [
    {
     "data": {
      "text/plain": [
       "1-element Array{Any,1}:\n",
       " SubString{ASCIIString}[\"i\",\"want\",\"to\",\"go\",\"from\",\"denver\",\"to\",\"oakland\"]"
      ]
     },
     "execution_count": 66,
     "metadata": {},
     "output_type": "execute_result"
    }
   ],
   "source": [
    "Any[true_ordered_sents[1]]\n"
   ]
  },
  {
   "cell_type": "code",
   "execution_count": 70,
   "metadata": {
    "collapsed": false
   },
   "outputs": [
    {
     "data": {
      "text/plain": [
       "8-element Array{Any,1}:\n",
       " \"i\"      \n",
       " \"want\"   \n",
       " \"to\"     \n",
       " \"go\"     \n",
       " \"from\"   \n",
       " \"denver\" \n",
       " \"to\"     \n",
       " \"oakland\""
      ]
     },
     "execution_count": 70,
     "metadata": {},
     "output_type": "execute_result"
    }
   ],
   "source": []
  },
  {
   "cell_type": "code",
   "execution_count": 79,
   "metadata": {
    "collapsed": false
   },
   "outputs": [
    {
     "data": {
      "text/plain": [
       "1.0"
      ]
     },
     "execution_count": 79,
     "metadata": {},
     "output_type": "execute_result"
    }
   ],
   "source": []
  },
  {
   "cell_type": "code",
   "execution_count": 28,
   "metadata": {
    "collapsed": false
   },
   "outputs": [
    {
     "ename": "LoadError",
     "evalue": "LoadError: PyError (:PyObject_Call) <type 'exceptions.TypeError'>\nTypeError(\"'PyCall.jlwrap' object is not iterable\",)\n  File \"/usr/local/lib/python2.7/dist-packages/nltk/translate/bleu_score.py\", line 69, in bleu\n    s = math.fsum(w * math.log(p_n) for w, p_n in zip(weights, p_ns))\n  File \"/usr/local/lib/python2.7/dist-packages/nltk/translate/bleu_score.py\", line 65, in <genexpr>\n    for i, _ in enumerate(weights, start=1)\n  File \"/usr/local/lib/python2.7/dist-packages/nltk/translate/bleu_score.py\", line 155, in _modified_precision\n    counts = Counter(ngrams(hypothesis, n))\n  File \"/usr/lib/python2.7/collections.py\", line 450, in __init__\n    self.update(iterable, **kwds)\n  File \"/usr/lib/python2.7/collections.py\", line 531, in update\n    for elem in iterable:\n  File \"/usr/local/lib/python2.7/dist-packages/nltk/util.py\", line 411, in ngrams\n    sequence = iter(sequence)\n\nwhile loading In[28], in expression starting on line 1",
     "output_type": "error",
     "traceback": [
      "LoadError: PyError (:PyObject_Call) <type 'exceptions.TypeError'>\nTypeError(\"'PyCall.jlwrap' object is not iterable\",)\n  File \"/usr/local/lib/python2.7/dist-packages/nltk/translate/bleu_score.py\", line 69, in bleu\n    s = math.fsum(w * math.log(p_n) for w, p_n in zip(weights, p_ns))\n  File \"/usr/local/lib/python2.7/dist-packages/nltk/translate/bleu_score.py\", line 65, in <genexpr>\n    for i, _ in enumerate(weights, start=1)\n  File \"/usr/local/lib/python2.7/dist-packages/nltk/translate/bleu_score.py\", line 155, in _modified_precision\n    counts = Counter(ngrams(hypothesis, n))\n  File \"/usr/lib/python2.7/collections.py\", line 450, in __init__\n    self.update(iterable, **kwds)\n  File \"/usr/lib/python2.7/collections.py\", line 531, in update\n    for elem in iterable:\n  File \"/usr/local/lib/python2.7/dist-packages/nltk/util.py\", line 411, in ngrams\n    sequence = iter(sequence)\n\nwhile loading In[28], in expression starting on line 1",
      "",
      " [inlined code] from /home/ubuntu/.julia/v0.5/PyCall/src/exception.jl:82",
      " in pycall at /home/ubuntu/.julia/v0.5/PyCall/src/PyCall.jl:380",
      " in call at /home/ubuntu/.julia/v0.5/PyCall/src/PyCall.jl:407",
      " in bleu_score at In[9]:6",
      " in map at abstractarray.jl:1329"
     ]
    }
   ],
   "source": []
  },
  {
   "cell_type": "code",
   "execution_count": 6,
   "metadata": {
    "collapsed": false
   },
   "outputs": [
    {
     "data": {
      "text/plain": [
       "0.9444444444444444"
      ]
     },
     "execution_count": 6,
     "metadata": {},
     "output_type": "execute_result"
    }
   ],
   "source": [
    "nltk_bleu._modified_precision(Any[reference1, reference2, reference3],candidate1, 1)"
   ]
  },
  {
   "cell_type": "code",
   "execution_count": null,
   "metadata": {
    "collapsed": false
   },
   "outputs": [],
   "source": [
    "@pyimport pdb"
   ]
  },
  {
   "cell_type": "code",
   "execution_count": null,
   "metadata": {
    "collapsed": false
   },
   "outputs": [],
   "source": [
    "pdb.runcall(nltk_bleu._modified_precision, [reference1, reference2, reference3],candidate1, 1)"
   ]
  },
  {
   "cell_type": "code",
   "execution_count": null,
   "metadata": {
    "collapsed": true
   },
   "outputs": [],
   "source": []
  },
  {
   "cell_type": "code",
   "execution_count": null,
   "metadata": {
    "collapsed": false
   },
   "outputs": [],
   "source": [
    "# I think I have to reimplement BLEU in julia as for some reason it does not play nice with PyCall\n",
    "# Can basically port http://www.nltk.org/_modules/nltk/align/bleu_score.html#bleu"
   ]
  },
  {
   "cell_type": "code",
   "execution_count": null,
   "metadata": {
    "collapsed": false
   },
   "outputs": [],
   "source": [
    "pycall(nltk_bleu.bleu, Int, candidate1, [reference1], weights)"
   ]
  },
  {
   "cell_type": "code",
   "execution_count": null,
   "metadata": {
    "collapsed": false
   },
   "outputs": [],
   "source": [
    "@pyimport nltk.util as nltk_util\n",
    "nltk_util.ngrams(candidate1,2) |> py_collections.Counter"
   ]
  },
  {
   "cell_type": "code",
   "execution_count": null,
   "metadata": {
    "collapsed": true
   },
   "outputs": [],
   "source": [
    "@pyimport collections as py_collections"
   ]
  },
  {
   "cell_type": "code",
   "execution_count": null,
   "metadata": {
    "collapsed": false
   },
   "outputs": [],
   "source": [
    "@pyimport nltk.util as nltk_util\n",
    "ngs = nltk_util.ngrams(candidate1,2)\n",
    "pycall(py_collections.Counter, PyObject, ngs)"
   ]
  },
  {
   "cell_type": "code",
   "execution_count": null,
   "metadata": {
    "collapsed": false
   },
   "outputs": [],
   "source": [
    "import nltk"
   ]
  },
  {
   "cell_type": "code",
   "execution_count": null,
   "metadata": {
    "collapsed": true
   },
   "outputs": [],
   "source": []
  }
 ],
 "metadata": {
  "kernelspec": {
   "display_name": "Julia 0.5.0-dev",
   "language": "julia",
   "name": "julia-0.5"
  },
  "language_info": {
   "file_extension": ".jl",
   "mimetype": "application/julia",
   "name": "julia",
   "version": "0.5.0"
  }
 },
 "nbformat": 4,
 "nbformat_minor": 0
}
