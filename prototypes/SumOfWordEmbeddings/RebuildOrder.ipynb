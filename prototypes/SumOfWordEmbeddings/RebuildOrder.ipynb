{
 "cells": [
  {
   "cell_type": "code",
   "execution_count": null,
   "metadata": {
    "collapsed": false
   },
   "outputs": [],
   "source": [
    "addprocs(11)"
   ]
  },
  {
   "cell_type": "code",
   "execution_count": 1,
   "metadata": {
    "collapsed": false,
    "scrolled": true
   },
   "outputs": [
    {
     "name": "stderr",
     "output_type": "stream",
     "text": [
      "WARNING: Base.String is deprecated, use AbstractString instead.\n",
      "WARNING: Union(args...) is deprecated, use Union{args...} instead.\n",
      " in depwarn at deprecated.jl:73\n",
      " in call at deprecated.jl:50\n",
      " in include at ./boot.jl:261\n",
      " in include_from_node1 at ./loading.jl:304\n",
      " in include at ./boot.jl:261\n",
      " in include_from_node1 at ./loading.jl:304\n",
      " in require at ./loading.jl:243\n",
      " in eval at ./sysimg.jl:14\n",
      " in anonymous at multi.jl:1350\n",
      " in run_work_thunk at multi.jl:645\n",
      " in remotecall_fetch at multi.jl:718\n",
      " in remotecall_fetch at multi.jl:734\n",
      " in anonymous at multi.jl:1352\n",
      "while loading /home/ubuntu/.julia/v0.5/FunctionalCollections/src/PersistentArrayMap.jl, in expression starting on line 58\n",
      "WARNING: Union(args...) is deprecated, use Union{args...} instead.\n",
      " in depwarn at deprecated.jl:73\n",
      " in call at deprecated.jl:50\n",
      " in include at ./boot.jl:261\n",
      " in include_from_node1 at ./loading.jl:304\n",
      " in include at ./boot.jl:261\n",
      " in include_from_node1 at ./loading.jl:304\n",
      " in require at ./loading.jl:243\n",
      " in eval at ./sysimg.jl:14\n",
      " in anonymous at multi.jl:1350\n",
      " in run_work_thunk at multi.jl:645\n",
      " in remotecall_fetch at multi.jl:718\n",
      " in remotecall_fetch at multi.jl:734\n",
      " in anonymous at multi.jl:1352\n",
      "while loading /home/ubuntu/.julia/v0.5/FunctionalCollections/src/PersistentHashMap.jl, in expression starting on line 222\n",
      "WARNING: Base.Nothing is deprecated, use Void instead.\n",
      "WARNING: Base.Nothing is deprecated, use Void instead.\n",
      "WARNING: Base.Uint is deprecated, use UInt64 instead.\n",
      "WARNING: Union(args...) is deprecated, use Union{args...} instead.\n",
      " in depwarn at deprecated.jl:73\n",
      " in call at deprecated.jl:50\n",
      " in include at ./boot.jl:261\n",
      " in include_from_node1 at ./loading.jl:304\n",
      " in include at ./boot.jl:261\n",
      " in include_from_node1 at ./loading.jl:304\n",
      " in require at ./loading.jl:243\n",
      " in eval at ./sysimg.jl:14\n",
      " in anonymous at multi.jl:1350\n",
      " in run_work_thunk at multi.jl:645\n",
      " in remotecall_fetch at multi.jl:718\n",
      " in remotecall_fetch at multi.jl:734\n",
      " in anonymous at multi.jl:1352\n",
      "while loading /home/ubuntu/.julia/v0.5/FunctionalCollections/src/PersistentSet.jl, in expression starting on line 47\n",
      "WARNING: Union(args...) is deprecated, use Union{args...} instead.\n",
      " in depwarn at deprecated.jl:73\n",
      " in call at deprecated.jl:50\n",
      " in include at ./boot.jl:261\n",
      " in include_from_node1 at ./loading.jl:304\n",
      " in include at ./boot.jl:261\n",
      " in include_from_node1 at ./loading.jl:304\n",
      " in require at ./loading.jl:243\n",
      " in eval at ./sysimg.jl:14\n",
      " in anonymous at multi.jl:1350\n",
      " in run_work_thunk at multi.jl:645\n",
      " in remotecall_fetch at multi.jl:718\n",
      " in remotecall_fetch at multi.jl:734\n",
      " in anonymous at multi.jl:1352\n",
      "while loading /home/ubuntu/.julia/v0.5/FunctionalCollections/src/PersistentSet.jl, in expression starting on line 53\n",
      "WARNING: Union(args...) is deprecated, use Union{args...} instead.\n",
      " in depwarn at deprecated.jl:73\n",
      " in call at deprecated.jl:50\n",
      " in include at ./boot.jl:261\n",
      " in include_from_node1 at ./loading.jl:304\n",
      " in include at ./boot.jl:261\n",
      " in include_from_node1 at ./loading.jl:304\n",
      " in require at ./loading.jl:243\n",
      " in eval at ./sysimg.jl:14\n",
      " in anonymous at multi.jl:1350\n",
      " in run_work_thunk at multi.jl:645\n",
      " in remotecall_fetch at multi.jl:718\n",
      " in remotecall_fetch at multi.jl:734\n",
      " in anonymous at multi.jl:1352\n",
      "while loading /home/ubuntu/.julia/v0.5/FunctionalCollections/src/PersistentList.jl, in expression starting on line 60\n",
      "WARNING: Union(args...) is deprecated, use Union{args...} instead.\n",
      " in depwarn at deprecated.jl:73\n",
      " in call at deprecated.jl:50\n",
      " in include at ./boot.jl:261\n",
      " in include_from_node1 at ./loading.jl:304\n",
      " in include at ./boot.jl:261\n",
      " in include_from_node1 at ./loading.jl:304\n",
      " in require at ./loading.jl:243\n",
      " in eval at ./sysimg.jl:14\n",
      " in anonymous at multi.jl:1350\n",
      " in run_work_thunk at multi.jl:645\n",
      " in remotecall_fetch at multi.jl:718\n",
      " in remotecall_fetch at multi.jl:734\n",
      " in anonymous at multi.jl:1352\n",
      "while loading /home/ubuntu/.julia/v0.5/FunctionalCollections/src/PersistentList.jl, in expression starting on line 61\n"
     ]
    },
    {
     "data": {
      "text/plain": [
       "4-element Array{ByteString,1}:\n",
       " \"/home/ubuntu/build/julia-master/usr/local/share/julia/site/v0.5\"\n",
       " \"/home/ubuntu/build/julia-master/usr/share/julia/site/v0.5\"      \n",
       " \".\"                                                              \n",
       " \"../util/\"                                                       "
      ]
     },
     "execution_count": 1,
     "metadata": {},
     "output_type": "execute_result"
    }
   ],
   "source": [
    "@everywhere using FunctionalCollections\n",
    "@everywhere using Iterators\n",
    "@everywhere using Pipe\n",
    "using Compat\n",
    "\n",
    "macro printval(ee)\n",
    "    ee_expr = @sprintf \"%s\" string(ee)\n",
    "    esc(:(println($ee_expr,\" = \", $ee)))\n",
    "end\n",
    "\n",
    "macro pz(ee)\n",
    "    ee_expr = @sprintf \"%s\" string(ee)\n",
    "    esc(:(println($ee_expr,\"\\t\\t\",typeof($ee), \"\\t\", size($ee))))\n",
    "end\n",
    "\n",
    "push!(LOAD_PATH, \".\")\n",
    "push!(LOAD_PATH, \"../util/\")"
   ]
  },
  {
   "cell_type": "code",
   "execution_count": 5,
   "metadata": {
    "collapsed": true
   },
   "outputs": [
    {
     "name": "stderr",
     "output_type": "stream",
     "text": [
      "WARNING: redefining constant START_MARKER1\n",
      "WARNING: redefining constant START_MARKER2\n",
      "WARNING: redefining constant END_MARKER1\n",
      "WARNING: redefining constant END_MARKER2\n"
     ]
    },
    {
     "ename": "LoadError",
     "evalue": "LoadError: UndefVarError: res_file not defined\nwhile loading In[5], in expression starting on line 13",
     "output_type": "error",
     "traceback": [
      "LoadError: UndefVarError: res_file not defined\nwhile loading In[5], in expression starting on line 13",
      ""
     ]
    }
   ],
   "source": [
    "@everywhere const START_MARKER1 = \"**START1**\"\n",
    "@everywhere const START_MARKER2 = \"**START2**\"\n",
    "@everywhere const END_MARKER1 = \"**END1**\"\n",
    "@everywhere const END_MARKER2 = \"**END2**\"\n",
    "\n",
    "@everywhere data_filename = \"atis_data2.jsz\"\n",
    "#@everywhere data_filename = \"doctors_letters.jsz\"\n",
    "@everywhere data = open(data_filename,\"r\") do fh\n",
    "    deserialize(fh)    \n",
    "end\n",
    "#res_file = \"atis_res_glove.jsz\"\n",
    "#res_file = \"doctors_letters_res_glove.jsz\"\n",
    "unordered_output, test_set = open(res_file,\"r\") do fh\n",
    "    deserialize(fh)    \n",
    "end\n",
    "\n",
    "#data = open(\"atis_data2.jsz\",\"r\") do fh\n",
    "#    deserialize(fh)    \n",
    "#end\n",
    "\n",
    "#const zeroed_words = data[\"zeroed_words\"]\n",
    "\n",
    "@everywhere const zeroed_words = ASCIIString[]\n"
   ]
  },
  {
   "cell_type": "code",
   "execution_count": 6,
   "metadata": {
    "collapsed": false
   },
   "outputs": [],
   "source": [
    "@everywhere using PyCall\n",
    "#http://www.nltk.org/howto/probability.html\n",
    "@everywhere @pyimport nltk\n",
    "@everywhere  @pyimport nltk.probability as nltk_prob\n",
    "\n",
    "\n",
    "@everywhere kn_prob_dist = nltk_prob.KneserNeyProbDist(pycall(nltk_prob.FreqDist, PyObject, data[\"trigrams\"]))\n",
    "@everywhere function trigram_model(given1::AbstractString, given2::AbstractString, event::AbstractString)\n",
    "    kn_prob_dist[:prob]((given1, given2, event))\n",
    "end"
   ]
  },
  {
   "cell_type": "code",
   "execution_count": 70,
   "metadata": {
    "collapsed": false
   },
   "outputs": [
    {
     "data": {
      "text/plain": [
       "sname (generic function with 1 method)"
      ]
     },
     "execution_count": 70,
     "metadata": {},
     "output_type": "execute_result"
    }
   ],
   "source": [
    "function sname(cur_state, remaining_words)\n",
    "    @pipe [cur_state[1], cur_state[2],remaining_words...] |> map(x->x[1],_) |> join\n",
    "end"
   ]
  },
  {
   "cell_type": "code",
   "execution_count": 164,
   "metadata": {
    "collapsed": false
   },
   "outputs": [],
   "source": [
    "@everywhere const log=false\n",
    "@everywhere typealias S ASCIIString\n",
    "@everywhere typealias State{T} Tuple{T,T}\n",
    "\n",
    "@everywhere function transition_prob(cur_state::State{S}, next_word::S)\n",
    "    trigram_model(cur_state..., next_word)\n",
    "end\n",
    "\n",
    "\n",
    "@everywhere _get_options_cache_type = Dict{Tuple{State{S}, Any}, Vector{Tuple{plist{S}, Float64}}}\n",
    "@everywhere _get_options_caches = Dict{Vector{S}, _get_options_cache_type}()\n",
    "\n",
    "#\"\"\"\n",
    "#returns all possible orderings of the remaining words.\n",
    "#the freewords are also inserted into every possible position, EXCEPT at the end.\n",
    "#Freewords also will not be inserted after other freewords\n",
    "#(For now)\n",
    "#\"\"\"\n",
    "@everywhere function get_all_orders(free_words::Vector{S}, unordered_words::Vector{S}; ϵ=0.0)\n",
    "    _get_options_cache = get!(_get_options_cache_type, _get_options_caches, free_words)\n",
    "    #different cache if different freewords\n",
    "    \n",
    "    function get_options(cur_state::State{S})\n",
    "        if log\n",
    "            csname = sname(cur_state,[])\n",
    "            println(\"\\\\state{$csname}{$(cur_state[1])}{$(cur_state[2])}{};\")\n",
    "\n",
    "            nsname = sname((cur_state[2], END_MARKER1),[])\n",
    "            println(\"\\\\state{$nsname}{$(cur_state[2])}{$(END_MARKER1)}{};\")\n",
    "            lbltext= \"\\{E_1\\}$(cur_state[1][1])$(cur_state[2][1])\"\n",
    "            println(\"($csname) ->[edge label=\\\\p $lbltext] ($nsname);\")\n",
    "        end\n",
    "        #Can never End in a freeword\n",
    "        tp = transition_prob(cur_state, END_MARKER1)\n",
    "        # Given P(END_MARKER2 | curstatep[2]==END_MARKER1) = 1.0\n",
    "        # Do not need to consider P(END_MARKER2 | curstatep[2]==END_MARKER1, curstatep[1])\n",
    "        [\n",
    "            (EmptyList{S}(), tp)\n",
    "        ]\n",
    "    end\n",
    "    \n",
    "    function get_options(state::State{S}, remaining_words::S...)\n",
    "        get!(_get_options_cache, (state, remaining_words)) do\n",
    "            _get_options(state, remaining_words...)\n",
    "        end\n",
    "    end\n",
    "\n",
    "    function _get_options_inner(cur_state, word, remaining_words, get_option_fun)\n",
    "        tp = transition_prob(cur_state, word) \n",
    "        next_state = (cur_state[2], word)\n",
    "        \n",
    "        if tp<=-ϵ return end\n",
    "\n",
    "        for (tail, next_tp) in get_option_fun(next_state, remaining_words...)\n",
    "            produce(cons(word, tail),tp*next_tp)\n",
    "        end\n",
    "    end\n",
    "\n",
    "    function _get_options_nofree(cur_state::State{S}, remaining_words::S...)\n",
    "        (@task begin        \n",
    "            for ii in 1:length(remaining_words)\n",
    "                word = remaining_words[ii]\n",
    "                new_remaining_words = remaining_words[[1:ii-1; ii+1:end]]\n",
    "                \n",
    "                if log\n",
    "                    csname = sname(cur_state,remaining_words)\n",
    "                    nsname = sname((cur_state[2], word),new_remaining_words)\n",
    "                    lbltext= \"$(word[1])$(cur_state[1][1])$(cur_state[2][1])\"\n",
    "                    println(\"($csname) ->[edge label=\\\\p $lbltext] ($nsname);\")\n",
    "                end\n",
    "                \n",
    "                _get_options_inner(cur_state, word, new_remaining_words, get_options)\n",
    "            end\n",
    "        end)\n",
    "    end\n",
    "    \n",
    "    function _get_options_free(cur_state::State{S}, remaining_words::S...)\n",
    "        @task begin        \n",
    "            for word in free_words\n",
    "                #Important: get_options_free, only chains to _get_options_nofree\n",
    "                _get_options_inner(cur_state, word, remaining_words, _get_options_nofree)\n",
    "            end\n",
    "        end\n",
    "    end\n",
    "    \n",
    "    function _get_options(cur_state::State{S}, remaining_words::S...)\n",
    "        csname = sname(cur_state,remaining_words)\n",
    "        log && println(\"\\\\state{$csname}{$(cur_state[1])}{$(cur_state[2])}{$(join(remaining_words,\", \"))};\")\n",
    "        chain(_get_options_nofree(cur_state, remaining_words...),\n",
    "             _get_options_free(cur_state, remaining_words...)) |> collect\n",
    "    end\n",
    "   \n",
    "    initial_state = (START_MARKER1, START_MARKER2)\n",
    "    get_options(initial_state, unordered_words...)\n",
    "end"
   ]
  },
  {
   "cell_type": "code",
   "execution_count": 165,
   "metadata": {
    "collapsed": false
   },
   "outputs": [
    {
     "data": {
      "text/plain": [
       "norm_order (generic function with 2 methods)"
      ]
     },
     "execution_count": 165,
     "metadata": {},
     "output_type": "execute_result"
    }
   ],
   "source": [
    "@everywhere function order(unordered_words::Vector{S}, free_words=S[]::Vector{S}; ϵ=0.0::Float64, best_n=1::Int)\n",
    "    orders_and_probs = get_all_orders(free_words, unordered_words, ϵ=0.0)\n",
    "    best_n = min(best_n, length(orders_and_probs))\n",
    "    if best_n==0 #None found\n",
    "        #warn(\"No possible Orderding found. Defaulting to unordered: \".*string(unordered_words))\n",
    "        Tuple[(unordered_words, 0.0)]\n",
    "    elseif best_n==1 #4x as fast as the else\n",
    "        max_prob, max_ii = @pipe orders_and_probs |> map(op->op[2],_) |> findmax\n",
    "        Tuple[orders_and_probs[max_ii]]\n",
    "    else\n",
    "        select!(orders_and_probs, 1:best_n, by=op->-op[2] )\n",
    "    end\n",
    "end\n",
    "\n",
    "function norm_order(unordered_words::Vector{S}, free_words=S[]::Vector{S}; ϵ=0.0::Float64, best_n=1::Int)\n",
    "    orders_and_probs = order(unordered_words, free_words, ϵ=ϵ, best_n=best_n)\n",
    "    total_prob = @pipe orders_and_probs |> map(op->op[2], _ ) |> sum\n",
    "    [(order, prob/total_prob) for (order,prob) in orders_and_probs]\n",
    "end"
   ]
  },
  {
   "cell_type": "code",
   "execution_count": 166,
   "metadata": {
    "collapsed": false,
    "scrolled": true
   },
   "outputs": [
    {
     "data": {
      "text/plain": [
       "1306-element Array{Tuple{Any,Any},1}:\n",
       " (ASCIIString(what, is, the, least, expensive, flight, from, atlanta, to, denver),0.6214550285633855)    \n",
       " (ASCIIString(what, is, the, least, expensive, flight, from, denver, to, atlanta),0.37849800311610854)   \n",
       " (ASCIIString(from, denver, to, atlanta, what, is, the, least, expensive, flight),2.7901275568024325e-5) \n",
       " (ASCIIString(what, is, the, flight, from, denver, to, atlanta, least, expensive),1.0378844959604199e-5) \n",
       " (ASCIIString(from, atlanta, to, denver, what, is, the, least, expensive, flight),2.6637548553276824e-6) \n",
       " (ASCIIString(flight, from, denver, to, atlanta, what, is, the, least, expensive),2.545957048477796e-6)  \n",
       " (ASCIIString(flight, from, atlanta, to, denver, what, is, the, least, expensive),7.427494508512443e-7)  \n",
       " (ASCIIString(from, denver, to, atlanta, what, flight, is, the, least, expensive),6.210864620400517e-7)  \n",
       " (ASCIIString(what, is, the, least, expensive, flight, to, denver, from, atlanta),5.635118725562164e-7)  \n",
       " (ASCIIString(what, flight, from, denver, to, atlanta, is, the, least, expensive),4.4249146842211455e-7) \n",
       " (ASCIIString(what, is, the, least, expensive, flight, to, atlanta, from, denver),4.2745906347324814e-7) \n",
       " (ASCIIString(is, the, least, expensive, flight, from, denver, to, atlanta, what),1.7684791951086428e-7) \n",
       " (ASCIIString(what, flight, from, atlanta, to, denver, is, the, least, expensive),1.5840627740567253e-7) \n",
       " ⋮                                                                                                       \n",
       " (ASCIIString(denver, from, atlanta, least, expensive, is, flight, to, what, the),8.479331020811325e-22) \n",
       " (ASCIIString(flight, least, expensive, is, denver, to, from, atlanta, what, the),6.246003995541225e-22) \n",
       " (ASCIIString(atlanta, least, expensive, is, denver, to, from, the, flight, what),6.209113467706802e-22) \n",
       " (ASCIIString(to, from, atlanta, flight, least, expensive, is, the, denver, what),6.153550006470053e-22) \n",
       " (ASCIIString(least, expensive, is, denver, to, from, atlanta, flight, what, the),6.113350892638042e-22) \n",
       " (ASCIIString(atlanta, least, expensive, is, flight, what, the, denver, to, from),5.173868525415488e-22) \n",
       " (ASCIIString(atlanta, from, the, flight, least, expensive, is, denver, to, what),4.853539158388008e-22) \n",
       " (ASCIIString(to, from, atlanta, least, expensive, is, flight, the, denver, what),4.715484415652734e-22) \n",
       " (ASCIIString(flight, least, expensive, is, the, denver, to, from, atlanta, what),4.1323676988299755e-22)\n",
       " (ASCIIString(least, expensive, is, the, denver, to, from, atlanta, flight, what),4.044604162659009e-22) \n",
       " (ASCIIString(atlanta, what, flight, least, expensive, is, denver, to, from, the),3.9343835600290287e-22)\n",
       " (ASCIIString(least, expensive, is, flight, the, denver, to, from, atlanta, what),1.5496963440980816e-22)"
      ]
     },
     "execution_count": 166,
     "metadata": {},
     "output_type": "execute_result"
    }
   ],
   "source": [
    "#order([\"the\", \"cheapest\",\"show\", \"all\", \"flights\", \"me\"], best_n=500000)\n",
    "norm_order([\"to\",\"atlanta\",\"flight\",\"is\",\"from\",\"denver\",\"expensive\",\"the\",\"least\",\"what\"], best_n=500000)"
   ]
  },
  {
   "cell_type": "code",
   "execution_count": 160,
   "metadata": {
    "collapsed": false
   },
   "outputs": [
    {
     "data": {
      "text/plain": [
       "norm_order (generic function with 2 methods)"
      ]
     },
     "execution_count": 160,
     "metadata": {},
     "output_type": "execute_result"
    }
   ],
   "source": []
  },
  {
   "cell_type": "code",
   "execution_count": null,
   "metadata": {
    "collapsed": false,
    "scrolled": true
   },
   "outputs": [],
   "source": []
  },
  {
   "cell_type": "code",
   "execution_count": null,
   "metadata": {
    "collapsed": false,
    "scrolled": true
   },
   "outputs": [],
   "source": [
    "short_cases = Bool[length(ws) <=20 for ws in unordered_output]\n",
    "\n",
    "true_ordered_sents = test_set[short_cases]\n",
    "ordered_sents_and_probs = pmap(unordered_output[short_cases]) do unordered_words\n",
    "    order(unordered_words, zeroed_words)\n",
    "end"
   ]
  },
  {
   "cell_type": "code",
   "execution_count": null,
   "metadata": {
    "collapsed": false,
    "scrolled": true
   },
   "outputs": [],
   "source": [
    "ordered_sents = map(op->op[1], ordered_sents_and_probs)"
   ]
  },
  {
   "cell_type": "code",
   "execution_count": null,
   "metadata": {
    "collapsed": false
   },
   "outputs": [],
   "source": []
  },
  {
   "cell_type": "code",
   "execution_count": null,
   "metadata": {
    "collapsed": false,
    "scrolled": true
   },
   "outputs": [],
   "source": [
    "perfect_matches = Bool[]  \n",
    "for ii in 1:length(ordered_sents)\n",
    "    ordered_words = ordered_sents[ii]\n",
    "    actual_words = true_ordered_sents[ii]\n",
    "    \n",
    "    match = ordered_words == actual_words\n",
    "    push!(perfect_matches, match)\n",
    "    #println(\"$ii - $match\")\n",
    "end\n",
    "mean(perfect_matches)"
   ]
  },
  {
   "cell_type": "code",
   "execution_count": null,
   "metadata": {
    "collapsed": false
   },
   "outputs": [],
   "source": [
    "@pyimport nltk\n",
    "@pyimport nltk.translate.bleu_score as nltk_bleu\n",
    "\n",
    "function bleu_score(candidate, reference)\n",
    "    reference = reference |> collect\n",
    "    candidate = candidate |> collect\n",
    "    \n",
    "    if reference==candidate #Perfect Match\n",
    "        1.0\n",
    "    else\n",
    "        weights = [1,1,1,1]/4\n",
    "        nltk_bleu.bleu(Any[reference],candidate, weights)\n",
    "    end\n",
    "end"
   ]
  },
  {
   "cell_type": "code",
   "execution_count": null,
   "metadata": {
    "collapsed": false
   },
   "outputs": [],
   "source": [
    "map(bleu_score, ordered_sents,true_ordered_sents) |> mean\n"
   ]
  },
  {
   "cell_type": "code",
   "execution_count": null,
   "metadata": {
    "collapsed": false
   },
   "outputs": [],
   "source": [
    "bleu_score(true_ordered_sents[3], true_ordered_sents[3])"
   ]
  },
  {
   "cell_type": "code",
   "execution_count": null,
   "metadata": {
    "collapsed": true
   },
   "outputs": [],
   "source": []
  },
  {
   "cell_type": "code",
   "execution_count": null,
   "metadata": {
    "collapsed": false
   },
   "outputs": [],
   "source": [
    "true_ordered_sents"
   ]
  },
  {
   "cell_type": "code",
   "execution_count": null,
   "metadata": {
    "collapsed": false
   },
   "outputs": [],
   "source": [
    "ordered_sents"
   ]
  },
  {
   "cell_type": "code",
   "execution_count": null,
   "metadata": {
    "collapsed": false
   },
   "outputs": [],
   "source": [
    "ordered_sents[50]"
   ]
  },
  {
   "cell_type": "code",
   "execution_count": null,
   "metadata": {
    "collapsed": false
   },
   "outputs": [],
   "source": [
    "unordered_output[short_cases][eval_cases][50]"
   ]
  },
  {
   "cell_type": "code",
   "execution_count": null,
   "metadata": {
    "collapsed": false
   },
   "outputs": [],
   "source": [
    "true_ordered_sents[50]"
   ]
  },
  {
   "cell_type": "code",
   "execution_count": null,
   "metadata": {
    "collapsed": false
   },
   "outputs": [],
   "source": [
    "#x= [\"A\", \"B\", \"C\", \"D\"]\n",
    "#y= UTF8String[\"A\", \"B\", \"C\", \"D\"]\n",
    "x = true_ordered_sents[10]\n",
    "y=ordered_sents[10] |> collect\n",
    "pycall(nltk_bleu.bleu, PyAny, Any[x], y, Any[0.25, 0.25, 0.25, 0.25])"
   ]
  },
  {
   "cell_type": "code",
   "execution_count": null,
   "metadata": {
    "collapsed": false
   },
   "outputs": [],
   "source": [
    "Any[true_ordered_sents[1]]\n"
   ]
  },
  {
   "cell_type": "code",
   "execution_count": null,
   "metadata": {
    "collapsed": false
   },
   "outputs": [],
   "source": []
  },
  {
   "cell_type": "code",
   "execution_count": null,
   "metadata": {
    "collapsed": false
   },
   "outputs": [],
   "source": []
  },
  {
   "cell_type": "code",
   "execution_count": null,
   "metadata": {
    "collapsed": false
   },
   "outputs": [],
   "source": []
  },
  {
   "cell_type": "code",
   "execution_count": null,
   "metadata": {
    "collapsed": false
   },
   "outputs": [],
   "source": [
    "nltk_bleu._modified_precision(Any[reference1, reference2, reference3],candidate1, 1)"
   ]
  },
  {
   "cell_type": "code",
   "execution_count": null,
   "metadata": {
    "collapsed": false
   },
   "outputs": [],
   "source": [
    "@pyimport pdb"
   ]
  },
  {
   "cell_type": "code",
   "execution_count": null,
   "metadata": {
    "collapsed": false
   },
   "outputs": [],
   "source": [
    "pdb.runcall(nltk_bleu._modified_precision, [reference1, reference2, reference3],candidate1, 1)"
   ]
  },
  {
   "cell_type": "code",
   "execution_count": null,
   "metadata": {
    "collapsed": true
   },
   "outputs": [],
   "source": []
  },
  {
   "cell_type": "code",
   "execution_count": null,
   "metadata": {
    "collapsed": false
   },
   "outputs": [],
   "source": [
    "# I think I have to reimplement BLEU in julia as for some reason it does not play nice with PyCall\n",
    "# Can basically port http://www.nltk.org/_modules/nltk/align/bleu_score.html#bleu"
   ]
  },
  {
   "cell_type": "code",
   "execution_count": null,
   "metadata": {
    "collapsed": false
   },
   "outputs": [],
   "source": [
    "pycall(nltk_bleu.bleu, Int, candidate1, [reference1], weights)"
   ]
  },
  {
   "cell_type": "code",
   "execution_count": null,
   "metadata": {
    "collapsed": false
   },
   "outputs": [],
   "source": [
    "@pyimport nltk.util as nltk_util\n",
    "nltk_util.ngrams(candidate1,2) |> py_collections.Counter"
   ]
  },
  {
   "cell_type": "code",
   "execution_count": null,
   "metadata": {
    "collapsed": true
   },
   "outputs": [],
   "source": [
    "@pyimport collections as py_collections"
   ]
  },
  {
   "cell_type": "code",
   "execution_count": null,
   "metadata": {
    "collapsed": false
   },
   "outputs": [],
   "source": [
    "@pyimport nltk.util as nltk_util\n",
    "ngs = nltk_util.ngrams(candidate1,2)\n",
    "pycall(py_collections.Counter, PyObject, ngs)"
   ]
  },
  {
   "cell_type": "code",
   "execution_count": null,
   "metadata": {
    "collapsed": false
   },
   "outputs": [],
   "source": [
    "import nltk"
   ]
  },
  {
   "cell_type": "code",
   "execution_count": null,
   "metadata": {
    "collapsed": true
   },
   "outputs": [],
   "source": []
  }
 ],
 "metadata": {
  "kernelspec": {
   "display_name": "Julia 0.5.0-dev",
   "language": "julia",
   "name": "julia-0.5"
  },
  "language_info": {
   "file_extension": ".jl",
   "mimetype": "application/julia",
   "name": "julia",
   "version": "0.5.0"
  }
 },
 "nbformat": 4,
 "nbformat_minor": 0
}
