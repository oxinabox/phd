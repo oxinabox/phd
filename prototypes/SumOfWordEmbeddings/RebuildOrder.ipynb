{
 "cells": [
  {
   "cell_type": "code",
   "execution_count": 1,
   "metadata": {
    "collapsed": false,
    "scrolled": true
   },
   "outputs": [
    {
     "name": "stderr",
     "output_type": "stream",
     "text": [
      "WARNING: Base.String is deprecated, use AbstractString instead.\n",
      "WARNING: Union(args...) is deprecated, use Union{args...} instead.\n",
      " in depwarn at deprecated.jl:73\n",
      " in call at deprecated.jl:50\n",
      " in include at ./boot.jl:261\n",
      " in include_from_node1 at ./loading.jl:304\n",
      " in include at ./boot.jl:261\n",
      " in include_from_node1 at ./loading.jl:304\n",
      " in require at ./loading.jl:243\n",
      " in include_string at loading.jl:266\n",
      " in execute_request_0x535c5df2 at /home/ubuntu/.julia/v0.5/IJulia/src/execute_request.jl:177\n",
      " in eventloop at /home/ubuntu/.julia/v0.5/IJulia/src/IJulia.jl:141\n",
      " in anonymous at task.jl:443\n",
      "while loading /home/ubuntu/.julia/v0.5/FunctionalCollections/src/PersistentArrayMap.jl, in expression starting on line 58\n",
      "WARNING: Union(args...) is deprecated, use Union{args...} instead.\n",
      " in depwarn at deprecated.jl:73\n",
      " in call at deprecated.jl:50\n",
      " in include at ./boot.jl:261\n",
      " in include_from_node1 at ./loading.jl:304\n",
      " in include at ./boot.jl:261\n",
      " in include_from_node1 at ./loading.jl:304\n",
      " in require at ./loading.jl:243\n",
      " in include_string at loading.jl:266\n",
      " in execute_request_0x535c5df2 at /home/ubuntu/.julia/v0.5/IJulia/src/execute_request.jl:177\n",
      " in eventloop at /home/ubuntu/.julia/v0.5/IJulia/src/IJulia.jl:141\n",
      " in anonymous at task.jl:443\n",
      "while loading /home/ubuntu/.julia/v0.5/FunctionalCollections/src/PersistentHashMap.jl, in expression starting on line 222\n",
      "WARNING: Base.Nothing is deprecated, use Void instead.\n",
      "WARNING: Base.Nothing is deprecated, use Void instead.\n",
      "WARNING: Base.Uint is deprecated, use UInt64 instead.\n",
      "WARNING: Union(args...) is deprecated, use Union{args...} instead.\n"
     ]
    },
    {
     "data": {
      "text/plain": [
       "4-element Array{ByteString,1}:\n",
       " \"/home/ubuntu/build/julia-master/usr/local/share/julia/site/v0.5\"\n",
       " \"/home/ubuntu/build/julia-master/usr/share/julia/site/v0.5\"      \n",
       " \".\"                                                              \n",
       " \"../util/\"                                                       "
      ]
     },
     "execution_count": 1,
     "metadata": {},
     "output_type": "execute_result"
    },
    {
     "name": "stderr",
     "output_type": "stream",
     "text": [
      " in depwarn at deprecated.jl:73\n",
      " in call at deprecated.jl:50\n",
      " in include at ./boot.jl:261\n",
      " in include_from_node1 at ./loading.jl:304\n",
      " in include at ./boot.jl:261\n",
      " in include_from_node1 at ./loading.jl:304\n",
      " in require at ./loading.jl:243\n",
      " in include_string at loading.jl:266\n",
      " in execute_request_0x535c5df2 at /home/ubuntu/.julia/v0.5/IJulia/src/execute_request.jl:177\n",
      " in eventloop at /home/ubuntu/.julia/v0.5/IJulia/src/IJulia.jl:141\n",
      " in anonymous at task.jl:443\n",
      "while loading /home/ubuntu/.julia/v0.5/FunctionalCollections/src/PersistentSet.jl, in expression starting on line 47\n",
      "WARNING: Union(args...) is deprecated, use Union{args...} instead.\n",
      " in depwarn at deprecated.jl:73\n",
      " in call at deprecated.jl:50\n",
      " in include at ./boot.jl:261\n",
      " in include_from_node1 at ./loading.jl:304\n",
      " in include at ./boot.jl:261\n",
      " in include_from_node1 at ./loading.jl:304\n",
      " in require at ./loading.jl:243\n",
      " in include_string at loading.jl:266\n",
      " in execute_request_0x535c5df2 at /home/ubuntu/.julia/v0.5/IJulia/src/execute_request.jl:177\n",
      " in eventloop at /home/ubuntu/.julia/v0.5/IJulia/src/IJulia.jl:141\n",
      " in anonymous at task.jl:443\n",
      "while loading /home/ubuntu/.julia/v0.5/FunctionalCollections/src/PersistentSet.jl, in expression starting on line 53\n",
      "WARNING: Union(args...) is deprecated, use Union{args...} instead.\n",
      " in depwarn at deprecated.jl:73\n",
      " in call at deprecated.jl:50\n",
      " in include at ./boot.jl:261\n",
      " in include_from_node1 at ./loading.jl:304\n",
      " in include at ./boot.jl:261\n",
      " in include_from_node1 at ./loading.jl:304\n",
      " in require at ./loading.jl:243\n",
      " in include_string at loading.jl:266\n",
      " in execute_request_0x535c5df2 at /home/ubuntu/.julia/v0.5/IJulia/src/execute_request.jl:177\n",
      " in eventloop at /home/ubuntu/.julia/v0.5/IJulia/src/IJulia.jl:141\n",
      " in anonymous at task.jl:443\n",
      "while loading /home/ubuntu/.julia/v0.5/FunctionalCollections/src/PersistentList.jl, in expression starting on line 60\n",
      "WARNING: Union(args...) is deprecated, use Union{args...} instead.\n",
      " in depwarn at deprecated.jl:73\n",
      " in call at deprecated.jl:50\n",
      " in include at ./boot.jl:261\n",
      " in include_from_node1 at ./loading.jl:304\n",
      " in include at ./boot.jl:261\n",
      " in include_from_node1 at ./loading.jl:304\n",
      " in require at ./loading.jl:243\n",
      " in include_string at loading.jl:266\n",
      " in execute_request_0x535c5df2 at /home/ubuntu/.julia/v0.5/IJulia/src/execute_request.jl:177\n",
      " in eventloop at /home/ubuntu/.julia/v0.5/IJulia/src/IJulia.jl:141\n",
      " in anonymous at task.jl:443\n",
      "while loading /home/ubuntu/.julia/v0.5/FunctionalCollections/src/PersistentList.jl, in expression starting on line 61\n"
     ]
    }
   ],
   "source": [
    "using FunctionalCollections\n",
    "using Iterators\n",
    "using Pipe\n",
    "using Compat\n",
    "\n",
    "macro printval(ee)\n",
    "    ee_expr = @sprintf \"%s\" string(ee)\n",
    "    esc(:(println($ee_expr,\" = \", $ee)))\n",
    "end\n",
    "\n",
    "macro pz(ee)\n",
    "    ee_expr = @sprintf \"%s\" string(ee)\n",
    "    esc(:(println($ee_expr,\"\\t\\t\",typeof($ee), \"\\t\", size($ee))))\n",
    "end\n",
    "\n",
    "push!(LOAD_PATH, \".\")\n",
    "push!(LOAD_PATH, \"../util/\")"
   ]
  },
  {
   "cell_type": "code",
   "execution_count": 2,
   "metadata": {
    "collapsed": false
   },
   "outputs": [
    {
     "data": {
      "text/plain": [
       "Dict{ASCIIString,Any} with 5 entries:\n",
       "  \"length_prob\"   => [0.00274146,0.0142225,0.0332953,0.0543865,0.0725589,0.0850…\n",
       "  \"LL\"            => 300x1120 Array{Float64,2}:…\n",
       "  \"indexed_words\" => AbstractString[\"in\",\"for\",\"that\",\"is\",\"on\",\"with\",\"said\",\"…\n",
       "  \"trigrams\"      => Any[(\"**START1**\",\"**START2**\",\"what\"),(\"**START2**\",\"what…\n",
       "  \"word_indexes\"  => Dict{AbstractString,Int64}(\"carried\"=>502,\"diabetic\"=>927,…"
      ]
     },
     "execution_count": 2,
     "metadata": {},
     "output_type": "execute_result"
    }
   ],
   "source": [
    "const START_MARKER1 = \"**START1**\"\n",
    "const START_MARKER2 = \"**START2**\"\n",
    "const END_MARKER1 = \"**END1**\"\n",
    "const END_MARKER2 = \"**END2**\"\n",
    "\n",
    "atis_data = open(\"atis_data2.jsz\",\"r\") do fh\n",
    "    deserialize(fh)    \n",
    "end\n"
   ]
  },
  {
   "cell_type": "code",
   "execution_count": 3,
   "metadata": {
    "collapsed": false
   },
   "outputs": [
    {
     "name": "stderr",
     "output_type": "stream",
     "text": [
      "/usr/local/lib/python2.7/dist-packages/nltk/app/__init__.py:29: UserWarning: nltk.app package not loaded (please install Tkinter library).\n",
      "  warnings.warn(\"nltk.app package not loaded \"\n",
      "/usr/local/lib/python2.7/dist-packages/nltk/draw/__init__.py:15: UserWarning: nltk.draw package not loaded (please install Tkinter library).\n",
      "  warnings.warn(\"nltk.draw package not loaded \"\n"
     ]
    },
    {
     "data": {
      "text/plain": [
       "trigram_model (generic function with 1 method)"
      ]
     },
     "execution_count": 3,
     "metadata": {},
     "output_type": "execute_result"
    }
   ],
   "source": [
    "using PyCall\n",
    "#http://www.nltk.org/howto/probability.html\n",
    "@pyimport nltk\n",
    "@pyimport nltk.probability as nltk_prob\n",
    "\n",
    "\n",
    "kn_prob_dist = nltk_prob.KneserNeyProbDist(pycall(nltk_prob.FreqDist, PyObject, atis_data[\"trigrams\"]))\n",
    "function trigram_model(given1::AbstractString, given2::AbstractString, event::AbstractString)\n",
    "    kn_prob_dist[:prob]((given1, given2, event))\n",
    "end"
   ]
  },
  {
   "cell_type": "code",
   "execution_count": null,
   "metadata": {
    "collapsed": true
   },
   "outputs": [],
   "source": []
  },
  {
   "cell_type": "code",
   "execution_count": 9,
   "metadata": {
    "collapsed": false
   },
   "outputs": [
    {
     "data": {
      "text/plain": [
       "8-element Array{ASCIIString,1}:\n",
       " \"francisco\" \n",
       " \"washington\"\n",
       " \"flight\"    \n",
       " \"from\"      \n",
       " \"cheapest\"  \n",
       " \"san\"       \n",
       " \"show\"      \n",
       " \"to\"        "
      ]
     },
     "execution_count": 9,
     "metadata": {},
     "output_type": "execute_result"
    }
   ],
   "source": [
    "example1 = [\"show\", \"cheapest\", \"flight\"]\n",
    "example2 = [\"francisco\",\"washington\",\"flight\",\"from\",\"cheapest\",\"san\",\"show\"]\n",
    "example3 = [example2..., \"to\"]"
   ]
  },
  {
   "cell_type": "code",
   "execution_count": null,
   "metadata": {
    "collapsed": false,
    "scrolled": true
   },
   "outputs": [],
   "source": []
  },
  {
   "cell_type": "code",
   "execution_count": 5,
   "metadata": {
    "collapsed": false
   },
   "outputs": [
    {
     "data": {
      "text/plain": [
       "get_options (generic function with 3 methods)"
      ]
     },
     "execution_count": 5,
     "metadata": {},
     "output_type": "execute_result"
    }
   ],
   "source": [
    "typealias S ASCIIString\n",
    "typealias State{T} Tuple{T,T}\n",
    "\n",
    "function transition_prob(cur_state::State{S}, next_word::S)\n",
    "    trigram_model(cur_state..., next_word)\n",
    "end\n",
    "\n",
    "function get_options(cur_state::State{S})\n",
    "    tp = transition_prob(cur_state, END_MARKER1)\n",
    "    # Given P(END_MARKER2 | curstatep[2]==END_MARKER1) = 1.0\n",
    "    # Do not need to consider P(END_MARKER2 | curstatep[2]==END_MARKER1, curstatep[1])\n",
    "    [\n",
    "        (EmptyList{S}(), tp)\n",
    "    ]\n",
    "end\n",
    "\n",
    "function _get_options(cur_state::State{S}, remaining_words::S...)\n",
    "    collect(@task begin\n",
    "        for ii in 1:length(remaining_words)\n",
    "            word = remaining_words[ii]\n",
    "            tp = transition_prob(cur_state, word) \n",
    "            next_state = (cur_state[2], word)\n",
    "\n",
    "            new_remaining_words = remaining_words[[1:ii-1; ii+1:end]]\n",
    "\n",
    "            for (tail, next_tp) in get_options(next_state, new_remaining_words...)\n",
    "                produce(cons(word, tail),tp*next_tp)\n",
    "            end\n",
    "        end\n",
    "    end)\n",
    "end\n",
    "\n",
    "\n",
    "_get_options_cache = Dict{Tuple{State{S}, Any}, Vector{Tuple{plist{S}, Float64}}}()\n",
    "function get_options(state::State{S}, remaining_words::S...)\n",
    "    if haskey(_get_options_cache, (state, remaining_words))\n",
    "        _get_options_cache[ (state, remaining_words)]\n",
    "    else \n",
    "        _get_options_cache[(state, remaining_words)] = _get_options(state, remaining_words...)\n",
    "    end\n",
    "end\n",
    "\n",
    "function get_options(remaining_words::S...)\n",
    "    initial_state = (START_MARKER1, START_MARKER2)\n",
    "    get_options(initial_state, remaining_words...)\n",
    "end"
   ]
  },
  {
   "cell_type": "code",
   "execution_count": 6,
   "metadata": {
    "collapsed": false
   },
   "outputs": [
    {
     "data": {
      "text/plain": [
       "order (generic function with 1 method)"
      ]
     },
     "execution_count": 6,
     "metadata": {},
     "output_type": "execute_result"
    }
   ],
   "source": [
    "function order(unordered_words)\n",
    "    orders_and_probs = get_options(unordered_words...)\n",
    "    best_index = findmax(map(op->op[2], orders_and_probs))[2]\n",
    "    ordered_words = orders_and_probs[best_index][1]\n",
    "    \n",
    "end"
   ]
  },
  {
   "cell_type": "code",
   "execution_count": 13,
   "metadata": {
    "collapsed": false
   },
   "outputs": [
    {
     "data": {
      "text/plain": [
       "ASCIIString(show, cheapest, flight)"
      ]
     },
     "execution_count": 13,
     "metadata": {},
     "output_type": "execute_result"
    }
   ],
   "source": [
    "order(example1)"
   ]
  },
  {
   "cell_type": "code",
   "execution_count": null,
   "metadata": {
    "collapsed": false
   },
   "outputs": [],
   "source": [
    "NTuple{ASCIIString,ASCIIString,ASCIIString}"
   ]
  },
  {
   "cell_type": "code",
   "execution_count": null,
   "metadata": {
    "collapsed": false
   },
   "outputs": [],
   "source": [
    "super(Tuple{Int})Tul"
   ]
  },
  {
   "cell_type": "code",
   "execution_count": null,
   "metadata": {
    "collapsed": true
   },
   "outputs": [],
   "source": []
  }
 ],
 "metadata": {
  "kernelspec": {
   "display_name": "Julia 0.5.0-dev",
   "language": "julia",
   "name": "julia-0.5"
  },
  "language_info": {
   "file_extension": ".jl",
   "mimetype": "application/julia",
   "name": "julia",
   "version": "0.5.0"
  }
 },
 "nbformat": 4,
 "nbformat_minor": 0
}
