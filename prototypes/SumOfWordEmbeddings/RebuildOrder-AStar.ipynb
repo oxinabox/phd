{
 "cells": [
  {
   "cell_type": "code",
   "execution_count": 1,
   "metadata": {
    "collapsed": false
   },
   "outputs": [
    {
     "data": {
      "text/plain": [
       "11-element Array{Int64,1}:\n",
       "  2\n",
       "  3\n",
       "  4\n",
       "  5\n",
       "  6\n",
       "  7\n",
       "  8\n",
       "  9\n",
       " 10\n",
       " 11\n",
       " 12"
      ]
     },
     "execution_count": 1,
     "metadata": {},
     "output_type": "execute_result"
    }
   ],
   "source": [
    "addprocs(11)"
   ]
  },
  {
   "cell_type": "code",
   "execution_count": 2,
   "metadata": {
    "collapsed": false
   },
   "outputs": [
    {
     "name": "stderr",
     "output_type": "stream",
     "text": [
      "WARNING: replacing module FunctionalCollections\n",
      "WARNING: replacing module FunctionalCollections\n",
      "WARNING: replacing module FunctionalCollections\n",
      "WARNING: replacing module FunctionalCollections\n",
      "WARNING: replacing module FunctionalCollections\n",
      "WARNING: replacing module FunctionalCollections\n",
      "WARNING: replacing module FunctionalCollections\n",
      "WARNING: replacing module FunctionalCollections\n",
      "WARNING: replacing module FunctionalCollections\n",
      "WARNING: replacing module FunctionalCollections\n",
      "WARNING: replacing module FunctionalCollections\n"
     ]
    },
    {
     "data": {
      "text/plain": [
       "4-element Array{ByteString,1}:\n",
       " \"/home/ubuntu/build/julia-master/usr/local/share/julia/site/v0.5\"\n",
       " \"/home/ubuntu/build/julia-master/usr/share/julia/site/v0.5\"      \n",
       " \".\"                                                              \n",
       " \"../util/\"                                                       "
      ]
     },
     "execution_count": 2,
     "metadata": {},
     "output_type": "execute_result"
    }
   ],
   "source": [
    "# import FunctionalCollections\n",
    "import Iterators\n",
    "import Pipe\n",
    "import Compat\n",
    "import JLD\n",
    "@everywhere using FunctionalCollections\n",
    "@everywhere using Iterators\n",
    "@everywhere using Pipe\n",
    "@everywhere using Compat\n",
    "@everywhere using JLD\n",
    "\n",
    "macro printval(ee)\n",
    "    ee_expr = @sprintf \"%s\" string(ee)\n",
    "    esc(:(println($ee_expr,\" = \", $ee)))\n",
    "end\n",
    "\n",
    "macro pz(ee)\n",
    "    ee_expr = @sprintf \"%s\" string(ee)\n",
    "    esc(:(println($ee_expr,\"\\t\\t\",typeof($ee), \"\\t\", size($ee))))\n",
    "end\n",
    "\n",
    "push!(LOAD_PATH, \".\")\n",
    "push!(LOAD_PATH, \"../util/\")"
   ]
  },
  {
   "cell_type": "code",
   "execution_count": 3,
   "metadata": {
    "collapsed": false
   },
   "outputs": [],
   "source": [
    "@everywhere fold_indexes=load(\"brown_glove_folds.jld\",\"fold_indexes\")\n",
    "\n",
    "@everywhere function fold_split(fold_ii, raw_bow_res)\n",
    "    ground_sents = Vector{ASCIIString}[rset[1] for rset in raw_bow_res]\n",
    "    reconstructed_bows = Vector{ASCIIString}[rset[2] for rset in raw_bow_res]\n",
    "    \n",
    "    test_indexes = fold_indexes[fold_ii]\n",
    "    training_indexes = trues(ground_sents)\n",
    "    training_indexes[test_indexes]=false\n",
    "\n",
    "    test_unordered_sents = reconstructed_bows[test_indexes]\n",
    "    test_ground = ground_sents[test_indexes]\n",
    "    training_sents = ground_sents[training_indexes]\n",
    "    test_unordered_sents,test_ground, training_sents\n",
    "end\n",
    "    "
   ]
  },
  {
   "cell_type": "code",
   "execution_count": 4,
   "metadata": {
    "collapsed": false,
    "scrolled": true
   },
   "outputs": [
    {
     "name": "stderr",
     "output_type": "stream",
     "text": [
      "/usr/local/lib/python2.7/dist-packages/nltk/app/__init__.py:29: UserWarning: nltk.app package not loaded (please install Tkinter library).\n",
      "  warnings.warn(\"nltk.app package not loaded \"\n",
      "/usr/local/lib/python2.7/dist-packages/nltk/app/__init__.py:29: UserWarning: nltk.app package not loaded (please install Tkinter library).\n",
      "  warnings.warn(\"nltk.app package not loaded \"\n",
      "/usr/local/lib/python2.7/dist-packages/nltk/app/__init__.py:29: UserWarning: nltk.app package not loaded (please install Tkinter library).\n",
      "  warnings.warn(\"nltk.app package not loaded \"\n",
      "/usr/local/lib/python2.7/dist-packages/nltk/draw/__init__.py:15: UserWarning: nltk.draw package not loaded (please install Tkinter library).\n",
      "  warnings.warn(\"nltk.draw package not loaded \"\n",
      "/usr/local/lib/python2.7/dist-packages/nltk/app/__init__.py:29: UserWarning: nltk.app package not loaded (please install Tkinter library).\n",
      "  warnings.warn(\"nltk.app package not loaded \"\n",
      "/usr/local/lib/python2.7/dist-packages/nltk/app/__init__.py:29: UserWarning: nltk.app package not loaded (please install Tkinter library).\n",
      "  warnings.warn(\"nltk.app package not loaded \"\n",
      "/usr/local/lib/python2.7/dist-packages/nltk/draw/__init__.py:15: UserWarning: nltk.draw package not loaded (please install Tkinter library).\n",
      "  warnings.warn(\"nltk.draw package not loaded \"\n",
      "/usr/local/lib/python2.7/dist-packages/nltk/draw/__init__.py:15: UserWarning: nltk.draw package not loaded (please install Tkinter library).\n",
      "  warnings.warn(\"nltk.draw package not loaded \"\n",
      "/usr/local/lib/python2.7/dist-packages/nltk/app/__init__.py:29: UserWarning: nltk.app package not loaded (please install Tkinter library).\n",
      "  warnings.warn(\"nltk.app package not loaded \"\n",
      "/usr/local/lib/python2.7/dist-packages/nltk/draw/__init__.py:15: UserWarning: nltk.draw package not loaded (please install Tkinter library).\n",
      "  warnings.warn(\"nltk.draw package not loaded \"\n",
      "/usr/local/lib/python2.7/dist-packages/nltk/draw/__init__.py:15: UserWarning: nltk.draw package not loaded (please install Tkinter library).\n",
      "  warnings.warn(\"nltk.draw package not loaded \"\n",
      "/usr/local/lib/python2.7/dist-packages/nltk/draw/__init__.py:15: UserWarning: nltk.draw package not loaded (please install Tkinter library).\n",
      "  warnings.warn(\"nltk.draw package not loaded \"\n",
      "/usr/local/lib/python2.7/dist-packages/nltk/app/__init__.py:29: UserWarning: nltk.app package not loaded (please install Tkinter library).\n",
      "  warnings.warn(\"nltk.app package not loaded \"\n",
      "/usr/local/lib/python2.7/dist-packages/nltk/app/__init__.py:29: UserWarning: nltk.app package not loaded (please install Tkinter library).\n",
      "  warnings.warn(\"nltk.app package not loaded \"\n",
      "/usr/local/lib/python2.7/dist-packages/nltk/draw/__init__.py:15: UserWarning: nltk.draw package not loaded (please install Tkinter library).\n",
      "  warnings.warn(\"nltk.draw package not loaded \"\n",
      "/usr/local/lib/python2.7/dist-packages/nltk/app/__init__.py:29: UserWarning: nltk.app package not loaded (please install Tkinter library).\n",
      "  warnings.warn(\"nltk.app package not loaded \"\n",
      "/usr/local/lib/python2.7/dist-packages/nltk/draw/__init__.py:15: UserWarning: nltk.draw package not loaded (please install Tkinter library).\n",
      "  warnings.warn(\"nltk.draw package not loaded \"\n",
      "/usr/local/lib/python2.7/dist-packages/nltk/app/__init__.py:29: UserWarning: nltk.app package not loaded (please install Tkinter library).\n",
      "  warnings.warn(\"nltk.app package not loaded \"\n",
      "/usr/local/lib/python2.7/dist-packages/nltk/app/__init__.py:29: UserWarning: nltk.app package not loaded (please install Tkinter library).\n",
      "  warnings.warn(\"nltk.app package not loaded \"\n",
      "/usr/local/lib/python2.7/dist-packages/nltk/draw/__init__.py:15: UserWarning: nltk.draw package not loaded (please install Tkinter library).\n",
      "  warnings.warn(\"nltk.draw package not loaded \"\n",
      "/usr/local/lib/python2.7/dist-packages/nltk/draw/__init__.py:15: UserWarning: nltk.draw package not loaded (please install Tkinter library).\n",
      "  warnings.warn(\"nltk.draw package not loaded \"\n",
      "/usr/local/lib/python2.7/dist-packages/nltk/app/__init__.py:29: UserWarning: nltk.app package not loaded (please install Tkinter library).\n",
      "  warnings.warn(\"nltk.app package not loaded \"\n",
      "/usr/local/lib/python2.7/dist-packages/nltk/draw/__init__.py:15: UserWarning: nltk.draw package not loaded (please install Tkinter library).\n",
      "  warnings.warn(\"nltk.draw package not loaded \"\n",
      "/usr/local/lib/python2.7/dist-packages/nltk/draw/__init__.py:15: UserWarning: nltk.draw package not loaded (please install Tkinter library).\n",
      "  warnings.warn(\"nltk.draw package not loaded \"\n"
     ]
    }
   ],
   "source": [
    "@everywhere typealias S ASCIIString\n",
    "@everywhere typealias State{T} Tuple{T,T}\n",
    "\n",
    "import PyCall\n",
    "@everywhere using PyCall\n",
    "#http://www.nltk.org/howto/probability.html\n",
    "@everywhere @pyimport nltk\n",
    "@everywhere @pyimport nltk.probability as nltk_prob\n",
    "@everywhere const START_MARKER1 = \"**START1**\"\n",
    "@everywhere const START_MARKER2 = \"**START2**\"\n",
    "@everywhere const END_MARKER1 = \"**END1**\"\n",
    "@everywhere const END_MARKER2 = \"**END2**\"\n",
    "\n",
    "@everywhere function train_language_model{T}(train_corpus::Vector{Vector{T}})\n",
    "    function py_collect(xs::PyObject)\n",
    "        xst = []\n",
    "        for x in xs\n",
    "            push!(xst,x)\n",
    "        end\n",
    "        xst\n",
    "    end\n",
    "    function trigram_buffer(sent)\n",
    "        [START_MARKER1, START_MARKER2, sent..., END_MARKER1, END_MARKER2] \n",
    "    end\n",
    "\n",
    "    training_trigrams = vcat([py_collect(nltk.trigrams(trigram_buffer(sent))) for sent in train_corpus]...)\n",
    "    kn_prob_dist = nltk_prob.KneserNeyProbDist(pycall(nltk_prob.FreqDist, PyObject, training_trigrams))\n",
    "    \n",
    "    function trigram_model(given1::S, given2::S, event::S)\n",
    "        kn_prob_dist[:prob]((given1, given2, event))\n",
    "    end\n",
    "end"
   ]
  },
  {
   "cell_type": "code",
   "execution_count": null,
   "metadata": {
    "collapsed": false
   },
   "outputs": [],
   "source": []
  },
  {
   "cell_type": "code",
   "execution_count": 5,
   "metadata": {
    "collapsed": false
   },
   "outputs": [
    {
     "name": "stderr",
     "output_type": "stream",
     "text": [
      "INFO: Precompiling module IntervalHeaps...\n"
     ]
    }
   ],
   "source": [
    "import FixedLengthPriorityQueues\n",
    "@everywhere using FixedLengthPriorityQueues\n",
    "\n",
    "@everywhere typealias NodeType Tuple{Float64, FunctionalCollections.AbstractList{S}, State{S}, Vector{S}}\n",
    "@everywhere function best_order(unordered_words::Vector{S}, languauge_model::Function; mem_limit=23^31)\n",
    "    _lm = Dict{Tuple{S,S,S},Float64}()\n",
    "    function cached_lm(w1,w2,w3)\n",
    "        get!(_lm, (w1,w2,w3)) do\n",
    "            languauge_model(w1,w2,w3)\n",
    "        end\n",
    "    end\n",
    "    function transition_prob(cur_state::State{S}, next_word::S)\n",
    "            cached_lm(cur_state[1],cur_state[2], next_word)\n",
    "    end\n",
    "  \n",
    "    _get_options = Dict{Tuple{State, Vector{S}}, Any}()\n",
    "    function get_options(cur_state::State{S}, remaining_words)\n",
    "        get!(_get_options, (cur_state,remaining_words)) do\n",
    "            if length(remaining_words)==0\n",
    "                #Final Step -- leaf node\n",
    "                tp = transition_prob(cur_state, END_MARKER1)\n",
    "                # Given P(END_MARKER2 | curstatep[2]==END_MARKER1) = 1.0\n",
    "                # Do not need to consider P(END_MARKER2 | curstatep[2]==END_MARKER1, curstatep[1])\n",
    "                next_state = (cur_state[2],END_MARKER1)\n",
    "                return [(tp, next_state, S[])]\n",
    "            end\n",
    "            #Otherwise -- nonfinal step, get all childreen\n",
    "            Task() do\n",
    "                for ii in 1:length(remaining_words)\n",
    "                    next_word = remaining_words[ii]\n",
    "                    tp = transition_prob(cur_state, next_word)           \n",
    "                    if tp>0.0\n",
    "                        still_remaining_words = sub(remaining_words,[1:ii-1; ii+1:length(remaining_words)])\n",
    "                        next_state = (cur_state[2],next_word)\n",
    "                        produce(tp, next_state, still_remaining_words)\n",
    "                    end\n",
    "                end\n",
    "            end\n",
    "        end\n",
    "    end\n",
    "                \n",
    "    \n",
    "    initial_state = (START_MARKER1, START_MARKER2)\n",
    "    initial_node::NodeType = (1.0, EmptyList{S}(), initial_state, unordered_words)\n",
    "    \n",
    "    pending = FixedLengthPriorityQueue(NodeType, Float64, mem_limit, Base.Order.Reverse)     \n",
    "    enqueue!(pending, initial_node, 1.0)\n",
    "    \n",
    "    #At end of search pending contains all the partway steps that have not yet been explored fully\n",
    "    #But that can't be more optimal than the returned solution, we don't do anything with them right now\n",
    "    while(true)\n",
    "        (sofar_prob, sofar_words, state, remaining_words) = dequeue!(pending)\n",
    "        \n",
    "        is_terminal = state[2]==END_MARKER1\n",
    "        if is_terminal\n",
    "            @assert length(remaining_words)==0\n",
    "            return sofar_words|> tail |> collect |> reverse!, sofar_prob #Note: We take the tail of the sofar words before reversing to cut off then end marker\n",
    "        end\n",
    "        \n",
    "        #Nontermial, ie has children, even if it is just the single terminal child\n",
    "        for (tp, next_state, still_remaining_words) in get_options(state, remaining_words)\n",
    "            @assert(tp>0.0)\n",
    "            total_next_prob = sofar_prob*tp\n",
    "            next_sofar_words = cons(next_state[2], sofar_words)\n",
    "            new_node::NodeType = (total_next_prob, next_sofar_words, next_state, still_remaining_words)\n",
    "            enqueue!(pending, new_node, total_next_prob)\n",
    "        end\n",
    "        if length(pending)==0\n",
    "            #All Paths failed, return the best we could do so far, with the unsortable on the end\n",
    "            sorted = sofar_words |> collect |> reverse!\n",
    "            return ([sorted...; remaining_words...], length(sorted)*1.0)\n",
    "        end\n",
    "    end \n",
    "end"
   ]
  },
  {
   "cell_type": "code",
   "execution_count": null,
   "metadata": {
    "collapsed": true
   },
   "outputs": [],
   "source": [
    "#Prepare Oracle Results -- no regen\n",
    "#test_set = load(\"results/data/brown_glove300.jld\")[\"corpus\"]\n",
    "#oracle_res = pmap(test_set, err_stop=true) do target_sent\n",
    "#    score=0.0\n",
    "#    sol = shuffle(target_sent)\n",
    "#    (target_sent, sol, score)\n",
    "#end\n",
    "#@save \"results/bags/oracle_res.jld\" oracle_res"
   ]
  },
  {
   "cell_type": "code",
   "execution_count": 6,
   "metadata": {
    "collapsed": false
   },
   "outputs": [
    {
     "name": "stderr",
     "output_type": "stream",
     "text": [
      "WARNING: remotecall(id::Integer,f::Function,args...) is deprecated, use remotecall(f,id::Integer,args...) instead.\n",
      " in depwarn at deprecated.jl:73\n",
      " in remotecall at deprecated.jl:50\n",
      " in process_fold at In[6]:9\n",
      " in anonymous at In[6]:23\n",
      " in jldopen at /home/ubuntu/.julia/v0.5/JLD/src/JLD.jl:240\n",
      " [inlined code] from essentials.jl:114\n",
      " in include_string at loading.jl:355\n",
      " in execute_request_0x535c5df2 at /home/ubuntu/.julia/v0.5/IJulia/src/execute_request.jl:177\n",
      " [inlined code] from dict.jl:723\n",
      " in eventloop at /home/ubuntu/.julia/v0.5/IJulia/src/IJulia.jl:141\n",
      " in anonymous at task.jl:429\n",
      "while loading In[6], in expression starting on line 21\n",
      "WARNING: remotecall(id::Integer,f::Function,args...) is deprecated, use remotecall(f,id::Integer,args...) instead.\n",
      " in depwarn at deprecated.jl:73\n",
      " in remotecall at deprecated.jl:50\n",
      " in process_fold at In[6]:9\n",
      " in anonymous at In[6]:23\n",
      " in jldopen at /home/ubuntu/.julia/v0.5/JLD/src/JLD.jl:240\n",
      " [inlined code] from essentials.jl:114\n",
      " in include_string at loading.jl:355\n",
      " in execute_request_0x535c5df2 at /home/ubuntu/.julia/v0.5/IJulia/src/execute_request.jl:177\n",
      " [inlined code] from dict.jl:723\n",
      " in eventloop at /home/ubuntu/.julia/v0.5/IJulia/src/IJulia.jl:141\n",
      " in anonymous at task.jl:429\n",
      "while loading In[6], in expression starting on line 21\n"
     ]
    },
    {
     "name": "stdout",
     "output_type": "stream",
     "text": [
      "fold 1 done\n",
      "fold 2 done\n",
      "fold 3 done\n",
      "fold 4 done\n",
      "fold 5 done\n",
      "fold 6 done\n",
      "fold 7 done\n",
      "fold 8 done\n",
      "fold 9 done\n",
      "fold 10 done\n"
     ]
    }
   ],
   "source": [
    "@everywhere const len_cap = 18\n",
    "@everywhere raw_bow_res = load(\"results/bags/oracle_res.jld\", \"oracle_res\")\n",
    "\n",
    "function process_fold(fold_ii)\n",
    "    test_bows, test_ground_order, train = fold_split(fold_ii,raw_bow_res)\n",
    "\n",
    "    #Avoid \"serialising a pointer\" by getting each process to create their own copy of Language model\n",
    "    #This also means that the language models are independent (as under the hood they are not readonly, readomg them changes them as they have cache)\n",
    "    r_language_models =Dict([pid=>remotecall(train_language_model,pid, train) for pid in workers()])\n",
    "    pmap(test_ground_order, test_bows, err_stop=true) do ground_order, bow\n",
    "        lm = fetch(r_language_models[myid()])\n",
    "        generated_order, prob = if length(ground_order)<=len_cap\n",
    "            best_order(bow, lm; mem_limit=1000)\n",
    "        else\n",
    "            (bow, NaN)\n",
    "        end\n",
    "        (ground_order, generated_order, prob)\n",
    "    end\n",
    "end\n",
    "\n",
    "jldopen(\"results/ordered/oracle_ordered_vA1000.jld\", \"w\") do file\n",
    "    for fold_ii in 1:length(fold_indexes)\n",
    "        res = process_fold(fold_ii)\n",
    "        write(file, \"fold_$(fold_ii)\", res)\n",
    "        println(\"fold $fold_ii done\")\n",
    "    end\n",
    "end\n"
   ]
  },
  {
   "cell_type": "code",
   "execution_count": null,
   "metadata": {
    "collapsed": true
   },
   "outputs": [],
   "source": []
  },
  {
   "cell_type": "code",
   "execution_count": null,
   "metadata": {
    "collapsed": true
   },
   "outputs": [],
   "source": []
  },
  {
   "cell_type": "code",
   "execution_count": null,
   "metadata": {
    "collapsed": true
   },
   "outputs": [],
   "source": []
  },
  {
   "cell_type": "code",
   "execution_count": null,
   "metadata": {
    "collapsed": false
   },
   "outputs": [],
   "source": [
    "@pyimport nltk.corpus as nltk_corpus\n",
    "corpus_reader=nltk_corpus.brown\n",
    "corpus = Vector{ASCIIString}[[lowercase(word) for word in sent] for sent in (corpus_reader[:sents]()|> collect)]\n",
    "@everywhere const lm::Function = train_language_model(corpus)\n",
    "\n",
    "gc()\n",
    "test_bag =  shuffle([\"this\",\"is\",\"the\" ,\"basis\",\"of\",\"a\" ,\"comedy\" ,\"of\",\"manners\",\"first\",\"performed\",\"in\",\"1892\", \".\"])\n",
    "#test_bag =  shuffle([\"this\",\"is\",\"the\" ,\"basis\",\"of\",\"a\",\"fine\",\"comedy\", \".\"])\n",
    "#test_bag =  shuffle([\"this\",\"is\",\"the\" ,\"basis\",\"of\",\"a\" ,\"comedy\", \".\"])\n",
    "#test_bag =  shuffle([\"it\", \"is\", \"so\", \"very\", \"good\", \".\"])\n",
    "#test_bag =  shuffle([\"it\", \"is\", \"very\", \"good\", \".\"])\n",
    "#test_bag =  shuffle([\"it\", \"is\", \"good\", \".\"])\n",
    "#test_bag =  shuffle([\"no\", \"way\", \".\"])\n",
    "#test_bag =  shuffle([\"no\", \".\"])\n",
    "@time best_order(test_bag, lm, mem_limit=1000)"
   ]
  },
  {
   "cell_type": "code",
   "execution_count": null,
   "metadata": {
    "collapsed": true
   },
   "outputs": [],
   "source": []
  },
  {
   "cell_type": "code",
   "execution_count": null,
   "metadata": {
    "collapsed": true
   },
   "outputs": [],
   "source": []
  },
  {
   "cell_type": "code",
   "execution_count": null,
   "metadata": {
    "collapsed": true
   },
   "outputs": [],
   "source": []
  },
  {
   "cell_type": "code",
   "execution_count": null,
   "metadata": {
    "collapsed": true
   },
   "outputs": [],
   "source": []
  },
  {
   "cell_type": "code",
   "execution_count": null,
   "metadata": {
    "collapsed": false
   },
   "outputs": [],
   "source": []
  },
  {
   "cell_type": "code",
   "execution_count": null,
   "metadata": {
    "collapsed": false
   },
   "outputs": [],
   "source": []
  },
  {
   "cell_type": "code",
   "execution_count": null,
   "metadata": {
    "collapsed": true
   },
   "outputs": [],
   "source": []
  },
  {
   "cell_type": "code",
   "execution_count": null,
   "metadata": {
    "collapsed": false,
    "scrolled": true
   },
   "outputs": [],
   "source": []
  }
 ],
 "metadata": {
  "kernelspec": {
   "display_name": "Julia 0.5.0-dev",
   "language": "julia",
   "name": "julia-0.5"
  },
  "language_info": {
   "file_extension": ".jl",
   "mimetype": "application/julia",
   "name": "julia",
   "version": "0.5.0"
  }
 },
 "nbformat": 4,
 "nbformat_minor": 0
}
