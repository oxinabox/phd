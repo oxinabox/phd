{
 "cells": [
  {
   "cell_type": "code",
   "execution_count": 1,
   "metadata": {
    "collapsed": false
   },
   "outputs": [],
   "source": [
    "#addprocs(11)"
   ]
  },
  {
   "cell_type": "code",
   "execution_count": 2,
   "metadata": {
    "collapsed": false
   },
   "outputs": [
    {
     "data": {
      "text/plain": [
       "2"
      ]
     },
     "execution_count": 2,
     "metadata": {},
     "output_type": "execute_result"
    }
   ],
   "source": [
    "1+1"
   ]
  },
  {
   "cell_type": "code",
   "execution_count": 3,
   "metadata": {
    "collapsed": false
   },
   "outputs": [
    {
     "data": {
      "text/plain": [
       "4-element Array{ByteString,1}:\n",
       " \"/home/ubuntu/build/julia-master/usr/local/share/julia/site/v0.5\"\n",
       " \"/home/ubuntu/build/julia-master/usr/share/julia/site/v0.5\"      \n",
       " \".\"                                                              \n",
       " \"../util/\"                                                       "
      ]
     },
     "execution_count": 3,
     "metadata": {},
     "output_type": "execute_result"
    }
   ],
   "source": [
    "# import FunctionalCollections\n",
    "import Iterators\n",
    "import Pipe\n",
    "import Compat\n",
    "import JLD\n",
    "@everywhere using FunctionalCollections\n",
    "@everywhere using Iterators\n",
    "@everywhere using Pipe\n",
    "@everywhere using Compat\n",
    "@everywhere using JLD\n",
    "\n",
    "macro printval(ee)\n",
    "    ee_expr = @sprintf \"%s\" string(ee)\n",
    "    esc(:(println($ee_expr,\" = \", $ee)))\n",
    "end\n",
    "\n",
    "macro pz(ee)\n",
    "    ee_expr = @sprintf \"%s\" string(ee)\n",
    "    esc(:(println($ee_expr,\"\\t\\t\",typeof($ee), \"\\t\", size($ee))))\n",
    "end\n",
    "\n",
    "push!(LOAD_PATH, \".\")\n",
    "push!(LOAD_PATH, \"../util/\")"
   ]
  },
  {
   "cell_type": "code",
   "execution_count": 4,
   "metadata": {
    "collapsed": false
   },
   "outputs": [],
   "source": [
    "#shuffled_indexes = 1:length(ground_sents) |> collect |> shuffle!\n",
    "#nfolds=10\n",
    "#fold_indexes = Vector{Int}[\n",
    "#    shuffled_indexes[(ii-1)*end÷nfolds + 1: ii*end÷nfolds]\n",
    "#    for ii in 1:nfolds]\n",
    "\n",
    "#@save(\"brown_glove_folds.jld\", fold_indexes)"
   ]
  },
  {
   "cell_type": "code",
   "execution_count": 5,
   "metadata": {
    "collapsed": false
   },
   "outputs": [],
   "source": [
    "@everywhere fold_indexes=load(\"brown_glove_folds.jld\",\"fold_indexes\")\n",
    "\n",
    "@everywhere function fold_split(fold_ii, raw_bow_res)\n",
    "    ground_sents = Vector{ASCIIString}[rset[1] for rset in raw_bow_res]\n",
    "    reconstructed_bows = Vector{ASCIIString}[rset[2] for rset in raw_bow_res]\n",
    "    \n",
    "    test_indexes = fold_indexes[fold_ii]\n",
    "    training_indexes = trues(ground_sents)\n",
    "    training_indexes[test_indexes]=false\n",
    "\n",
    "    test_unordered_sents = reconstructed_bows[test_indexes]\n",
    "    test_ground = ground_sents[test_indexes]\n",
    "    training_sents = ground_sents[training_indexes]\n",
    "    test_unordered_sents,test_ground, training_sents\n",
    "end\n",
    "    "
   ]
  },
  {
   "cell_type": "code",
   "execution_count": 6,
   "metadata": {
    "collapsed": false,
    "scrolled": true
   },
   "outputs": [
    {
     "name": "stderr",
     "output_type": "stream",
     "text": [
      "/usr/local/lib/python2.7/dist-packages/nltk/app/__init__.py:29: UserWarning: nltk.app package not loaded (please install Tkinter library).\n",
      "  warnings.warn(\"nltk.app package not loaded \"\n",
      "/usr/local/lib/python2.7/dist-packages/nltk/draw/__init__.py:15: UserWarning: nltk.draw package not loaded (please install Tkinter library).\n",
      "  warnings.warn(\"nltk.draw package not loaded \"\n"
     ]
    }
   ],
   "source": [
    "@everywhere typealias S ASCIIString\n",
    "@everywhere typealias State{T} Tuple{T,T}\n",
    "\n",
    "import PyCall\n",
    "@everywhere using PyCall\n",
    "#http://www.nltk.org/howto/probability.html\n",
    "@everywhere @pyimport nltk\n",
    "@everywhere @pyimport nltk.probability as nltk_prob\n",
    "@everywhere const START_MARKER1 = \"**START1**\"\n",
    "@everywhere const START_MARKER2 = \"**START2**\"\n",
    "@everywhere const END_MARKER1 = \"**END1**\"\n",
    "@everywhere const END_MARKER2 = \"**END2**\"\n",
    "\n",
    "@everywhere function train_language_model{T}(train_corpus::Vector{Vector{T}})\n",
    "    function py_collect(xs::PyObject)\n",
    "        xst = []\n",
    "        for x in xs\n",
    "            push!(xst,x)\n",
    "        end\n",
    "        xst\n",
    "    end\n",
    "    function trigram_buffer(sent)\n",
    "        [START_MARKER1, START_MARKER2, sent..., END_MARKER1, END_MARKER2] \n",
    "    end\n",
    "\n",
    "    training_trigrams = vcat([py_collect(nltk.trigrams(trigram_buffer(sent))) for sent in train_corpus]...)\n",
    "    kn_prob_dist = nltk_prob.KneserNeyProbDist(pycall(nltk_prob.FreqDist, PyObject, training_trigrams))\n",
    "    \n",
    "    function trigram_model(given1::S, given2::S, event::S)\n",
    "        kn_prob_dist[:prob]((given1, given2, event))\n",
    "    end\n",
    "end"
   ]
  },
  {
   "cell_type": "code",
   "execution_count": 7,
   "metadata": {
    "collapsed": false
   },
   "outputs": [
    {
     "data": {
      "text/plain": [
       "trigram_model (generic function with 1 method)"
      ]
     },
     "execution_count": 7,
     "metadata": {},
     "output_type": "execute_result"
    }
   ],
   "source": [
    "@pyimport nltk.corpus as nltk_corpus\n",
    "corpus_reader=nltk_corpus.brown\n",
    "corpus = Vector{ASCIIString}[[lowercase(word) for word in sent] for sent in (corpus_reader[:sents]()|> collect)]\n",
    "lm = train_language_model(corpus)\n"
   ]
  },
  {
   "cell_type": "code",
   "execution_count": 8,
   "metadata": {
    "collapsed": false
   },
   "outputs": [],
   "source": [
    "using FixedLengthPriorityQueues\n",
    "\n",
    "typealias NodeType Tuple{Float64, FunctionalCollections.AbstractList{S}, State{S}, Vector{S}}\n",
    "@everywhere function best_order(unordered_words::Vector{S}, languauge_model::Function; mem_limit=23^31)\n",
    "    _lm = Dict{Tuple{S,S,S},Float64}()\n",
    "    function cached_lm(w1,w2,w3)\n",
    "        get!(_lm, (w1,w2,w3)) do\n",
    "            languauge_model(w1,w2,w3)\n",
    "        end\n",
    "    end\n",
    "    function transition_prob(cur_state::State{S}, next_word::S)\n",
    "            cached_lm(cur_state[1],cur_state[2], next_word)\n",
    "    end\n",
    "  \n",
    "    _get_options = Dict{Tuple{State, Vector{S}}, Any}()\n",
    "    function get_options(cur_state::State{S}, remaining_words)\n",
    "        get!(_get_options, (cur_state,remaining_words)) do\n",
    "            if length(remaining_words)==0\n",
    "                #Final Step -- leaf node\n",
    "                tp = transition_prob(cur_state, END_MARKER1)\n",
    "                # Given P(END_MARKER2 | curstatep[2]==END_MARKER1) = 1.0\n",
    "                # Do not need to consider P(END_MARKER2 | curstatep[2]==END_MARKER1, curstatep[1])\n",
    "                next_state = (cur_state[2],END_MARKER1)\n",
    "                return [(tp, next_state, S[])]\n",
    "            end\n",
    "            #Otherwise -- nonfinal step, get all childreen\n",
    "            Task() do\n",
    "                for ii in 1:length(remaining_words)\n",
    "                    next_word = remaining_words[ii]\n",
    "                    tp = transition_prob(cur_state, next_word)           \n",
    "                    if tp>0.0\n",
    "                        still_remaining_words = sub(remaining_words,[1:ii-1; ii+1:length(remaining_words)])\n",
    "                        next_state = (cur_state[2],next_word)\n",
    "                        produce(tp, next_state, still_remaining_words)\n",
    "                    end\n",
    "                end\n",
    "            end\n",
    "        end\n",
    "    end\n",
    "                \n",
    "    \n",
    "    initial_state = (START_MARKER1, START_MARKER2)\n",
    "    initial_node::NodeType = (1.0, EmptyList{S}(), initial_state, unordered_words)\n",
    "    \n",
    "    pending = FixedLengthPriorityQueue(NodeType, Float64, mem_limit, Base.Order.Reverse)     \n",
    "    enqueue!(pending, initial_node, 1.0)\n",
    "    \n",
    "    #At end of search pending contains all the partway steps that have not yet been explored fully\n",
    "    #But that can't be more optimal than the returned solution, we don't do anything with them right now\n",
    "    while(true)\n",
    "        (sofar_prob, sofar_words, state, remaining_words) = dequeue!(pending)\n",
    "        \n",
    "        is_terminal = state[2]==END_MARKER1\n",
    "        if is_terminal\n",
    "            @assert length(remaining_words)==0\n",
    "            return sofar_words|> tail |> collect |> reverse!, sofar_prob #Note: We take the tail of the sofar words before reversing to cut off then end marker\n",
    "        end\n",
    "        \n",
    "        #Nontermial, ie has children, even if it is just the single terminal child\n",
    "        for (tp, next_state, still_remaining_words) in get_options(state, remaining_words)\n",
    "            @assert(tp>0.0)\n",
    "            total_next_prob = sofar_prob*tp\n",
    "            next_sofar_words = cons(next_state[2], sofar_words)\n",
    "            new_node::NodeType = (total_next_prob, next_sofar_words, next_state, still_remaining_words)\n",
    "            enqueue!(pending, new_node, total_next_prob)\n",
    "        end\n",
    "        if length(pending)==0\n",
    "            #All Paths failed, return the best we could do so far, with the unsortable on the end\n",
    "            sorted = sofar_words |> collect |> reverse!\n",
    "            return ([sorted...; remaining_words...], length(sorted)*1.0)\n",
    "        end\n",
    "    end \n",
    "end"
   ]
  },
  {
   "cell_type": "code",
   "execution_count": 129,
   "metadata": {
    "collapsed": false
   },
   "outputs": [
    {
     "name": "stdout",
     "output_type": "stream",
     "text": [
      "  "
     ]
    },
    {
     "data": {
      "text/plain": [
       "(Any[\"the\",\"basis\",\"of\",\"manners\",\"of\",\"this\",\"first\",\"is\",\"performed\",\"a\",\"comedy\",\"in\",\"1892\",\".\"],2.739107931188482e-35)"
      ]
     },
     "execution_count": 129,
     "metadata": {},
     "output_type": "execute_result"
    },
    {
     "name": "stdout",
     "output_type": "stream",
     "text": [
      "0.547455 seconds (835.02 k allocations: 36.998 MB, 4.06% gc time)\n"
     ]
    }
   ],
   "source": [
    "gc()\n",
    "test_bag =  shuffle([\"this\",\"is\",\"the\" ,\"basis\",\"of\",\"a\" ,\"comedy\" ,\"of\",\"manners\",\"first\",\"performed\",\"in\",\"1892\", \".\"])\n",
    "#test_bag =  shuffle([\"this\",\"is\",\"the\" ,\"basis\",\"of\",\"a\",\"fine\",\"comedy\", \".\"])\n",
    "#test_bag =  shuffle([\"this\",\"is\",\"the\" ,\"basis\",\"of\",\"a\" ,\"comedy\", \".\"])\n",
    "#test_bag =  shuffle([\"it\", \"is\", \"so\", \"very\", \"good\", \".\"])\n",
    "#test_bag =  shuffle([\"it\", \"is\", \"very\", \"good\", \".\"])\n",
    "#test_bag =  shuffle([\"it\", \"is\", \"good\", \".\"])\n",
    "#test_bag =  shuffle([\"no\", \"way\", \".\"])\n",
    "#test_bag =  shuffle([\"no\", \".\"])\n",
    "@time best_order(test_bag, lm, mem_limit=1000)"
   ]
  },
  {
   "cell_type": "code",
   "execution_count": 132,
   "metadata": {
    "collapsed": false
   },
   "outputs": [
    {
     "name": "stdout",
     "output_type": "stream",
     "text": [
      "search: "
     ]
    },
    {
     "data": {
      "text/latex": [
       "No documentation found.\n",
       "\\texttt{FunctionalCollections.assoc} is a generic \\texttt{Function}.\n",
       "\\begin{verbatim}\n",
       "# 5 methods for generic function \"assoc\":\n",
       "assoc{T}(leaf::FunctionalCollections.DenseLeaf{T}, i::Int64, el) at /home/ubuntu/.julia/v0.5/FunctionalCollections/src/PersistentVector.jl:105\n",
       "assoc(node::FunctionalCollections.DenseNode{T}, i::Int64, el) at /home/ubuntu/.julia/v0.5/FunctionalCollections/src/PersistentVector.jl:110\n",
       "assoc{T}(v::FunctionalCollections.PersistentVector{T}, i::Int64, el) at /home/ubuntu/.julia/v0.5/FunctionalCollections/src/PersistentVector.jl:194\n",
       "assoc{K,V}(m::FunctionalCollections.PersistentArrayMap{K,V}, k, v) at /home/ubuntu/.julia/v0.5/FunctionalCollections/src/PersistentArrayMap.jl:37\n",
       "assoc{K,V}(m::FunctionalCollections.PersistentHashMap{K,V}, key, value) at /home/ubuntu/.julia/v0.5/FunctionalCollections/src/PersistentHashMap.jl:175\n",
       "\\end{verbatim}\n"
      ],
      "text/markdown": [
       "No documentation found.\n",
       "\n",
       "`FunctionalCollections.assoc` is a generic `Function`.\n",
       "\n",
       "```julia\n",
       "# 5 methods for generic function \"assoc\":\n",
       "assoc{T}(leaf::FunctionalCollections.DenseLeaf{T}, i::Int64, el) at /home/ubuntu/.julia/v0.5/FunctionalCollections/src/PersistentVector.jl:105\n",
       "assoc(node::FunctionalCollections.DenseNode{T}, i::Int64, el) at /home/ubuntu/.julia/v0.5/FunctionalCollections/src/PersistentVector.jl:110\n",
       "assoc{T}(v::FunctionalCollections.PersistentVector{T}, i::Int64, el) at /home/ubuntu/.julia/v0.5/FunctionalCollections/src/PersistentVector.jl:194\n",
       "assoc{K,V}(m::FunctionalCollections.PersistentArrayMap{K,V}, k, v) at /home/ubuntu/.julia/v0.5/FunctionalCollections/src/PersistentArrayMap.jl:37\n",
       "assoc{K,V}(m::FunctionalCollections.PersistentHashMap{K,V}, key, value) at /home/ubuntu/.julia/v0.5/FunctionalCollections/src/PersistentHashMap.jl:175\n",
       "```\n"
      ],
      "text/plain": [
       "No documentation found.\n",
       "\n",
       "`FunctionalCollections.assoc` is a generic `Function`.\n",
       "\n",
       "```julia\n",
       "# 5 methods for generic function \"assoc\":\n",
       "assoc{T}(leaf::FunctionalCollections.DenseLeaf{T}, i::Int64, el) at /home/ubuntu/.julia/v0.5/FunctionalCollections/src/PersistentVector.jl:105\n",
       "assoc(node::FunctionalCollections.DenseNode{T}, i::Int64, el) at /home/ubuntu/.julia/v0.5/FunctionalCollections/src/PersistentVector.jl:110\n",
       "assoc{T}(v::FunctionalCollections.PersistentVector{T}, i::Int64, el) at /home/ubuntu/.julia/v0.5/FunctionalCollections/src/PersistentVector.jl:194\n",
       "assoc{K,V}(m::FunctionalCollections.PersistentArrayMap{K,V}, k, v) at /home/ubuntu/.julia/v0.5/FunctionalCollections/src/PersistentArrayMap.jl:37\n",
       "assoc{K,V}(m::FunctionalCollections.PersistentHashMap{K,V}, key, value) at /home/ubuntu/.julia/v0.5/FunctionalCollections/src/PersistentHashMap.jl:175\n",
       "```\n"
      ]
     },
     "execution_count": 132,
     "metadata": {},
     "output_type": "execute_result"
    },
    {
     "name": "stdout",
     "output_type": "stream",
     "text": [
      "assoc Associative AssertionError task_local_storage AbstractSparseVector\n",
      "\n"
     ]
    }
   ],
   "source": [
    "?assoc"
   ]
  },
  {
   "cell_type": "code",
   "execution_count": 102,
   "metadata": {
    "collapsed": false
   },
   "outputs": [
    {
     "data": {
      "text/html": [
       "204-element Array{Method,1}:<ul><li> !(B::<b>BitArray{N}</b>) at <a href=\"https://github.com/JuliaLang/julia/tree/9d6dee5571031d0dfa8413eecf36a83b80ebcd74/base/bitarray.jl#L828\" target=\"_blank\">bitarray.jl:828</a><li> $(x::<b>Bool</b>, B::<b>BitArray{N}</b>) at <a href=\"https://github.com/JuliaLang/julia/tree/9d6dee5571031d0dfa8413eecf36a83b80ebcd74/base/bitarray.jl#L943\" target=\"_blank\">bitarray.jl:943</a><li> $(A::<b>BitArray{N}</b>, B::<b>BitArray{N}</b>) at <a href=\"https://github.com/JuliaLang/julia/tree/9d6dee5571031d0dfa8413eecf36a83b80ebcd74/base/bitarray.jl#L948\" target=\"_blank\">bitarray.jl:948</a><li> $(A::<b>DenseArray{Bool,N}</b>, B::<b>BitArray{N}</b>) at <a href=\"https://github.com/JuliaLang/julia/tree/9d6dee5571031d0dfa8413eecf36a83b80ebcd74/base/bitarray.jl#L959\" target=\"_blank\">bitarray.jl:959</a><li> $(B::<b>BitArray{N}</b>, A::<b>DenseArray{Bool,N}</b>) at <a href=\"https://github.com/JuliaLang/julia/tree/9d6dee5571031d0dfa8413eecf36a83b80ebcd74/base/bitarray.jl#L960\" target=\"_blank\">bitarray.jl:960</a><li> $(x::<b>Number</b>, B::<b>BitArray{N}</b>) at <a href=\"https://github.com/JuliaLang/julia/tree/9d6dee5571031d0dfa8413eecf36a83b80ebcd74/base/bitarray.jl#L961\" target=\"_blank\">bitarray.jl:961</a><li> $(B::<b>BitArray{N}</b>, x::<b>Bool</b>) at <a href=\"https://github.com/JuliaLang/julia/tree/9d6dee5571031d0dfa8413eecf36a83b80ebcd74/base/bitarray.jl#L941\" target=\"_blank\">bitarray.jl:941</a><li> $(B::<b>BitArray{N}</b>, x::<b>Number</b>) at <a href=\"https://github.com/JuliaLang/julia/tree/9d6dee5571031d0dfa8413eecf36a83b80ebcd74/base/bitarray.jl#L962\" target=\"_blank\">bitarray.jl:962</a><li> &(x::<b>Bool</b>, B::<b>BitArray{N}</b>) at <a href=\"https://github.com/JuliaLang/julia/tree/9d6dee5571031d0dfa8413eecf36a83b80ebcd74/base/bitarray.jl#L933\" target=\"_blank\">bitarray.jl:933</a><li> &(A::<b>BitArray{N}</b>, B::<b>BitArray{N}</b>) at <a href=\"https://github.com/JuliaLang/julia/tree/9d6dee5571031d0dfa8413eecf36a83b80ebcd74/base/bitarray.jl#L948\" target=\"_blank\">bitarray.jl:948</a><li> &(A::<b>DenseArray{Bool,N}</b>, B::<b>BitArray{N}</b>) at <a href=\"https://github.com/JuliaLang/julia/tree/9d6dee5571031d0dfa8413eecf36a83b80ebcd74/base/bitarray.jl#L959\" target=\"_blank\">bitarray.jl:959</a><li> &(B::<b>BitArray{N}</b>, A::<b>DenseArray{Bool,N}</b>) at <a href=\"https://github.com/JuliaLang/julia/tree/9d6dee5571031d0dfa8413eecf36a83b80ebcd74/base/bitarray.jl#L960\" target=\"_blank\">bitarray.jl:960</a><li> &(x::<b>Number</b>, B::<b>BitArray{N}</b>) at <a href=\"https://github.com/JuliaLang/julia/tree/9d6dee5571031d0dfa8413eecf36a83b80ebcd74/base/bitarray.jl#L961\" target=\"_blank\">bitarray.jl:961</a><li> &(B::<b>BitArray{N}</b>, x::<b>Bool</b>) at <a href=\"https://github.com/JuliaLang/julia/tree/9d6dee5571031d0dfa8413eecf36a83b80ebcd74/base/bitarray.jl#L931\" target=\"_blank\">bitarray.jl:931</a><li> &(B::<b>BitArray{N}</b>, x::<b>Number</b>) at <a href=\"https://github.com/JuliaLang/julia/tree/9d6dee5571031d0dfa8413eecf36a83b80ebcd74/base/bitarray.jl#L962\" target=\"_blank\">bitarray.jl:962</a><li> *(B::<b>BitArray{2}</b>, J::<b>UniformScaling{T<:Number}</b>) at <a href=\"https://github.com/JuliaLang/julia/tree/9d6dee5571031d0dfa8413eecf36a83b80ebcd74/base/linalg/uniformscaling.jl#L122\" target=\"_blank\">linalg/uniformscaling.jl:122</a><li> *(J::<b>UniformScaling{T<:Number}</b>, B::<b>BitArray{2}</b>) at <a href=\"https://github.com/JuliaLang/julia/tree/9d6dee5571031d0dfa8413eecf36a83b80ebcd74/base/linalg/uniformscaling.jl#L123\" target=\"_blank\">linalg/uniformscaling.jl:123</a><li> +(A::<b>BitArray{N}</b>, B::<b>BitArray{N}</b>) at <a href=\"https://github.com/JuliaLang/julia/tree/9d6dee5571031d0dfa8413eecf36a83b80ebcd74/base/bitarray.jl#L834\" target=\"_blank\">bitarray.jl:834</a><li> +<i>{T}</i>(B::<b>BitArray{2}</b>, J::<b>UniformScaling{T}</b>) at <a href=\"https://github.com/JuliaLang/julia/tree/9d6dee5571031d0dfa8413eecf36a83b80ebcd74/base/linalg/uniformscaling.jl#L28\" target=\"_blank\">linalg/uniformscaling.jl:28</a><li> +(J::<b>UniformScaling{T<:Number}</b>, B::<b>BitArray{2}</b>) at <a href=\"https://github.com/JuliaLang/julia/tree/9d6dee5571031d0dfa8413eecf36a83b80ebcd74/base/linalg/uniformscaling.jl#L29\" target=\"_blank\">linalg/uniformscaling.jl:29</a><li> -(B::<b>BitArray{2}</b>, J::<b>UniformScaling{T<:Number}</b>) at <a href=\"https://github.com/JuliaLang/julia/tree/9d6dee5571031d0dfa8413eecf36a83b80ebcd74/base/linalg/uniformscaling.jl#L36\" target=\"_blank\">linalg/uniformscaling.jl:36</a><li> -(B::<b>BitArray{N}</b>) at <a href=\"https://github.com/JuliaLang/julia/tree/9d6dee5571031d0dfa8413eecf36a83b80ebcd74/base/bitarray.jl#L775\" target=\"_blank\">bitarray.jl:775</a><li> -(A::<b>BitArray{N}</b>, B::<b>BitArray{N}</b>) at <a href=\"https://github.com/JuliaLang/julia/tree/9d6dee5571031d0dfa8413eecf36a83b80ebcd74/base/bitarray.jl#L834\" target=\"_blank\">bitarray.jl:834</a><li> -(J::<b>UniformScaling{T<:Number}</b>, B::<b>BitArray{2}</b>) at <a href=\"https://github.com/JuliaLang/julia/tree/9d6dee5571031d0dfa8413eecf36a83b80ebcd74/base/linalg/uniformscaling.jl#L37\" target=\"_blank\">linalg/uniformscaling.jl:37</a><li> .*(x::<b>Bool</b>, B::<b>BitArray{N}</b>) at <a href=\"https://github.com/JuliaLang/julia/tree/9d6dee5571031d0dfa8413eecf36a83b80ebcd74/base/bitarray.jl#L1033\" target=\"_blank\">bitarray.jl:1033</a><li> .*(x::<b>Number</b>, B::<b>BitArray{N}</b>) at <a href=\"https://github.com/JuliaLang/julia/tree/9d6dee5571031d0dfa8413eecf36a83b80ebcd74/base/bitarray.jl#L1035\" target=\"_blank\">bitarray.jl:1035</a><li> .*(B::<b>BitArray{N}</b>, x::<b>Bool</b>) at <a href=\"https://github.com/JuliaLang/julia/tree/9d6dee5571031d0dfa8413eecf36a83b80ebcd74/base/bitarray.jl#L1034\" target=\"_blank\">bitarray.jl:1034</a><li> .*(B::<b>BitArray{N}</b>, x::<b>Number</b>) at <a href=\"https://github.com/JuliaLang/julia/tree/9d6dee5571031d0dfa8413eecf36a83b80ebcd74/base/bitarray.jl#L1036\" target=\"_blank\">bitarray.jl:1036</a><li> .*(A::<b>BitArray{N}</b>, B::<b>BitArray{N}</b>) at <a href=\"https://github.com/JuliaLang/julia/tree/9d6dee5571031d0dfa8413eecf36a83b80ebcd74/base/broadcast.jl#L463\" target=\"_blank\">broadcast.jl:463</a><li> .*(x::<b>AbstractSparseArray{Bool,Ti,1}</b>, y::<b>BitArray{1}</b>) at <a href=\"https://github.com/JuliaLang/julia/tree/9d6dee5571031d0dfa8413eecf36a83b80ebcd74/base/sparse/sparsevector.jl#L1076\" target=\"_blank\">sparse/sparsevector.jl:1076</a><li> .*(A::<b>AbstractArray{Bool,N}</b>, B::<b>BitArray{N}</b>) at <a href=\"https://github.com/JuliaLang/julia/tree/9d6dee5571031d0dfa8413eecf36a83b80ebcd74/base/broadcast.jl#L463\" target=\"_blank\">broadcast.jl:463</a><li> .*(x::<b>BitArray{1}</b>, y::<b>AbstractSparseArray{Bool,Ti,1}</b>) at <a href=\"https://github.com/JuliaLang/julia/tree/9d6dee5571031d0dfa8413eecf36a83b80ebcd74/base/sparse/sparsevector.jl#L1075\" target=\"_blank\">sparse/sparsevector.jl:1075</a><li> .*(A::<b>BitArray{N}</b>, B::<b>AbstractArray{Bool,N}</b>) at <a href=\"https://github.com/JuliaLang/julia/tree/9d6dee5571031d0dfa8413eecf36a83b80ebcd74/base/broadcast.jl#L463\" target=\"_blank\">broadcast.jl:463</a><li> .+(x::<b>Bool</b>, B::<b>BitArray{N}</b>) at <a href=\"https://github.com/JuliaLang/julia/tree/9d6dee5571031d0dfa8413eecf36a83b80ebcd74/base/bitarray.jl#L854\" target=\"_blank\">bitarray.jl:854</a><li> .+(x::<b>Number</b>, B::<b>BitArray{N}</b>) at <a href=\"https://github.com/JuliaLang/julia/tree/9d6dee5571031d0dfa8413eecf36a83b80ebcd74/base/bitarray.jl#L854\" target=\"_blank\">bitarray.jl:854</a><li> .+(B::<b>BitArray{N}</b>, x::<b>Bool</b>) at <a href=\"https://github.com/JuliaLang/julia/tree/9d6dee5571031d0dfa8413eecf36a83b80ebcd74/base/bitarray.jl#L854\" target=\"_blank\">bitarray.jl:854</a><li> .+(B::<b>BitArray{N}</b>, x::<b>Number</b>) at <a href=\"https://github.com/JuliaLang/julia/tree/9d6dee5571031d0dfa8413eecf36a83b80ebcd74/base/bitarray.jl#L854\" target=\"_blank\">bitarray.jl:854</a><li> .-(x::<b>Bool</b>, B::<b>BitArray{N}</b>) at <a href=\"https://github.com/JuliaLang/julia/tree/9d6dee5571031d0dfa8413eecf36a83b80ebcd74/base/bitarray.jl#L854\" target=\"_blank\">bitarray.jl:854</a><li> .-(x::<b>Number</b>, B::<b>BitArray{N}</b>) at <a href=\"https://github.com/JuliaLang/julia/tree/9d6dee5571031d0dfa8413eecf36a83b80ebcd74/base/bitarray.jl#L854\" target=\"_blank\">bitarray.jl:854</a><li> .-(B::<b>BitArray{N}</b>, x::<b>Bool</b>) at <a href=\"https://github.com/JuliaLang/julia/tree/9d6dee5571031d0dfa8413eecf36a83b80ebcd74/base/bitarray.jl#L854\" target=\"_blank\">bitarray.jl:854</a><li> .-(B::<b>BitArray{N}</b>, x::<b>Number</b>) at <a href=\"https://github.com/JuliaLang/julia/tree/9d6dee5571031d0dfa8413eecf36a83b80ebcd74/base/bitarray.jl#L854\" target=\"_blank\">bitarray.jl:854</a><li> .^(x::<b>Bool</b>, B::<b>BitArray{N}</b>) at <a href=\"https://github.com/JuliaLang/julia/tree/9d6dee5571031d0dfa8413eecf36a83b80ebcd74/base/bitarray.jl#L970\" target=\"_blank\">bitarray.jl:970</a><li> .^(::<b>Irrational{:e}</b>, x::<b>BitArray{N}</b>) at <a href=\"https://github.com/JuliaLang/julia/tree/9d6dee5571031d0dfa8413eecf36a83b80ebcd74/base/irrationals.jl#L126\" target=\"_blank\">irrationals.jl:126</a><li> .^(x::<b>Number</b>, B::<b>BitArray{N}</b>) at <a href=\"https://github.com/JuliaLang/julia/tree/9d6dee5571031d0dfa8413eecf36a83b80ebcd74/base/bitarray.jl#L973\" target=\"_blank\">bitarray.jl:973</a><li> .^(B::<b>BitArray{N}</b>, x::<b>Bool</b>) at <a href=\"https://github.com/JuliaLang/julia/tree/9d6dee5571031d0dfa8413eecf36a83b80ebcd74/base/bitarray.jl#L967\" target=\"_blank\">bitarray.jl:967</a><li> .^(B::<b>BitArray{N}</b>, x::<b>Integer</b>) at <a href=\"https://github.com/JuliaLang/julia/tree/9d6dee5571031d0dfa8413eecf36a83b80ebcd74/base/bitarray.jl#L978\" target=\"_blank\">bitarray.jl:978</a><li> .^<i>{T<:Number}</i>(B::<b>BitArray{N}</b>, x::<b>T<:Number</b>) at <a href=\"https://github.com/JuliaLang/julia/tree/9d6dee5571031d0dfa8413eecf36a83b80ebcd74/base/bitarray.jl#L987\" target=\"_blank\">bitarray.jl:987</a><li> .^<i>{T<:Integer}</i>(A::<b>BitArray{N}</b>, B::<b>Array{T<:Integer,N}</b>) at <a href=\"https://github.com/JuliaLang/julia/tree/9d6dee5571031d0dfa8413eecf36a83b80ebcd74/base/broadcast.jl#L437\" target=\"_blank\">broadcast.jl:437</a><li> .^(A::<b>BitArray{N}</b>, B::<b>AbstractArray{Bool,N}</b>) at <a href=\"https://github.com/JuliaLang/julia/tree/9d6dee5571031d0dfa8413eecf36a83b80ebcd74/base/broadcast.jl#L422\" target=\"_blank\">broadcast.jl:422</a><li> /(B::<b>BitArray{N}</b>, x::<b>Number</b>) at <a href=\"https://github.com/JuliaLang/julia/tree/9d6dee5571031d0dfa8413eecf36a83b80ebcd74/base/bitarray.jl#L872\" target=\"_blank\">bitarray.jl:872</a><li> /(A::<b>BitArray{N}</b>, B::<b>BitArray{N}</b>) at <a href=\"https://github.com/JuliaLang/julia/tree/9d6dee5571031d0dfa8413eecf36a83b80ebcd74/base/bitarray.jl#L869\" target=\"_blank\">bitarray.jl:869</a><li> /(x::<b>Number</b>, B::<b>BitArray{N}</b>) at <a href=\"https://github.com/JuliaLang/julia/tree/9d6dee5571031d0dfa8413eecf36a83b80ebcd74/base/bitarray.jl#L873\" target=\"_blank\">bitarray.jl:873</a><li> <<(B::<b>BitArray{1}</b>, i::<b>Int64</b>) at <a href=\"https://github.com/JuliaLang/julia/tree/9d6dee5571031d0dfa8413eecf36a83b80ebcd74/base/bitarray.jl#L1201\" target=\"_blank\">bitarray.jl:1201</a><li> ==(A::<b>BitArray{N}</b>, B::<b>BitArray{N}</b>) at <a href=\"https://github.com/JuliaLang/julia/tree/9d6dee5571031d0dfa8413eecf36a83b80ebcd74/base/bitarray.jl#L1045\" target=\"_blank\">bitarray.jl:1045</a><li> >>(B::<b>BitArray{1}</b>, i::<b>Int64</b>) at <a href=\"https://github.com/JuliaLang/julia/tree/9d6dee5571031d0dfa8413eecf36a83b80ebcd74/base/bitarray.jl#L1216\" target=\"_blank\">bitarray.jl:1216</a><li> >>>(B::<b>BitArray{1}</b>, i::<b>Int64</b>) at <a href=\"https://github.com/JuliaLang/julia/tree/9d6dee5571031d0dfa8413eecf36a83b80ebcd74/base/bitarray.jl#L1209\" target=\"_blank\">bitarray.jl:1209</a><li> \\(A::<b>BitArray{N}</b>, B::<b>BitArray{N}</b>) at <a href=\"https://github.com/JuliaLang/julia/tree/9d6dee5571031d0dfa8413eecf36a83b80ebcd74/base/bitarray.jl#L869\" target=\"_blank\">bitarray.jl:869</a><li> abs(B::<b>BitArray{N}</b>) at <a href=\"https://github.com/JuliaLang/julia/tree/9d6dee5571031d0dfa8413eecf36a83b80ebcd74/base/bitarray.jl#L770\" target=\"_blank\">bitarray.jl:770</a><li> all(B::<b>BitArray{N}</b>) at <a href=\"https://github.com/JuliaLang/julia/tree/9d6dee5571031d0dfa8413eecf36a83b80ebcd74/base/bitarray.jl#L1480\" target=\"_blank\">bitarray.jl:1480</a><li> any(B::<b>BitArray{N}</b>) at <a href=\"https://github.com/JuliaLang/julia/tree/9d6dee5571031d0dfa8413eecf36a83b80ebcd74/base/bitarray.jl#L1492\" target=\"_blank\">bitarray.jl:1492</a><li> append!(A::<b>Array{Bool,1}</b>, items::<b>BitArray{1}</b>) at <a href=\"https://github.com/JuliaLang/julia/tree/9d6dee5571031d0dfa8413eecf36a83b80ebcd74/base/bitarray.jl#L465\" target=\"_blank\">bitarray.jl:465</a><li> append!(B::<b>BitArray{1}</b>, items::<b>BitArray{1}</b>) at <a href=\"https://github.com/JuliaLang/julia/tree/9d6dee5571031d0dfa8413eecf36a83b80ebcd74/base/bitarray.jl#L447\" target=\"_blank\">bitarray.jl:447</a><li> append!(B::<b>BitArray{1}</b>, items::<b>AbstractArray{Bool,1}</b>) at <a href=\"https://github.com/JuliaLang/julia/tree/9d6dee5571031d0dfa8413eecf36a83b80ebcd74/base/bitarray.jl#L464\" target=\"_blank\">bitarray.jl:464</a><li> bitunpack<i>{N}</i>(B::<b>BitArray{N}</b>) at <a href=\"https://github.com/JuliaLang/julia/tree/9d6dee5571031d0dfa8413eecf36a83b80ebcd74/base/bitarray.jl#L337\" target=\"_blank\">bitarray.jl:337</a><li> broadcast!(f, B::<b>BitArray{N}</b>, As::<b>Union{Array{T,N},BitArray{N},Number}...</b>) at <a href=\"https://github.com/JuliaLang/julia/tree/9d6dee5571031d0dfa8413eecf36a83b80ebcd74/base/broadcast.jl#L238\" target=\"_blank\">broadcast.jl:238</a><li> broadcast!(f, B::<b>BitArray{N}</b>, As...) at <a href=\"https://github.com/JuliaLang/julia/tree/9d6dee5571031d0dfa8413eecf36a83b80ebcd74/base/broadcast.jl#L238\" target=\"_blank\">broadcast.jl:238</a><li> convert<i>{T,N}</i>(::<b>Type{AbstractArray{T,N}}</b>, B::<b>BitArray{N}</b>) at <a href=\"https://github.com/JuliaLang/julia/tree/9d6dee5571031d0dfa8413eecf36a83b80ebcd74/base/bitarray.jl#L331\" target=\"_blank\">bitarray.jl:331</a><li> convert<i>{T,N}</i>(::<b>Type{Array{T,N}}</b>, B::<b>BitArray{N}</b>) at <a href=\"https://github.com/JuliaLang/julia/tree/9d6dee5571031d0dfa8413eecf36a83b80ebcd74/base/bitarray.jl#L296\" target=\"_blank\">bitarray.jl:296</a><li> convert<i>{T,N}</i>(::<b>Type{Array{T,N}}</b>, B::<b>BitArray{N}</b>) at <a href=\"https://github.com/JuliaLang/julia/tree/9d6dee5571031d0dfa8413eecf36a83b80ebcd74/base/bitarray.jl#L294\" target=\"_blank\">bitarray.jl:294</a><li> convert<i>{N}</i>(::<b>Type{BitArray{N}}</b>, B::<b>BitArray{N}</b>) at <a href=\"https://github.com/JuliaLang/julia/tree/9d6dee5571031d0dfa8413eecf36a83b80ebcd74/base/bitarray.jl#L330\" target=\"_blank\">bitarray.jl:330</a><li> copy!(dest::<b>BitArray{N}</b>, doffs::<b>Integer</b>, src::<b>BitArray{N}</b>, soffs::<b>Integer</b>, n::<b>Integer</b>) at <a href=\"https://github.com/JuliaLang/julia/tree/9d6dee5571031d0dfa8413eecf36a83b80ebcd74/base/bitarray.jl#L272\" target=\"_blank\">bitarray.jl:272</a><li> copy!(dest::<b>BitArray{N}</b>, src::<b>BitArray{N}</b>) at <a href=\"https://github.com/JuliaLang/julia/tree/9d6dee5571031d0dfa8413eecf36a83b80ebcd74/base/bitarray.jl#L252\" target=\"_blank\">bitarray.jl:252</a><li> countnz(B::<b>BitArray{N}</b>) at <a href=\"https://github.com/JuliaLang/julia/tree/9d6dee5571031d0dfa8413eecf36a83b80ebcd74/base/bitarray.jl#L1261\" target=\"_blank\">bitarray.jl:1261</a><li> ctranspose(B::<b>BitArray{N}</b>) at <a href=\"https://github.com/JuliaLang/julia/tree/9d6dee5571031d0dfa8413eecf36a83b80ebcd74/base/bitarray.jl#L1637\" target=\"_blank\">bitarray.jl:1637</a><li> deleteat!(B::<b>BitArray{1}</b>, i::<b>Integer</b>) at <a href=\"https://github.com/JuliaLang/julia/tree/9d6dee5571031d0dfa8413eecf36a83b80ebcd74/base/bitarray.jl#L632\" target=\"_blank\">bitarray.jl:632</a><li> deleteat!(B::<b>BitArray{1}</b>, r::<b>UnitRange{Int64}</b>) at <a href=\"https://github.com/JuliaLang/julia/tree/9d6dee5571031d0dfa8413eecf36a83b80ebcd74/base/bitarray.jl#L639\" target=\"_blank\">bitarray.jl:639</a><li> deleteat!(B::<b>BitArray{1}</b>, inds) at <a href=\"https://github.com/JuliaLang/julia/tree/9d6dee5571031d0dfa8413eecf36a83b80ebcd74/base/bitarray.jl#L663\" target=\"_blank\">bitarray.jl:663</a><li> diag(B::<b>BitArray{2}</b>) at <a href=\"https://github.com/JuliaLang/julia/tree/9d6dee5571031d0dfa8413eecf36a83b80ebcd74/base/linalg/bitarray.jl#L81\" target=\"_blank\">linalg/bitarray.jl:81</a><li> div(A::<b>BitArray{N}</b>, B::<b>BitArray{N}</b>) at <a href=\"https://github.com/JuliaLang/julia/tree/9d6dee5571031d0dfa8413eecf36a83b80ebcd74/base/bitarray.jl#L876\" target=\"_blank\">bitarray.jl:876</a><li> div(A::<b>BitArray{N}</b>, B::<b>Array{Bool,N}</b>) at <a href=\"https://github.com/JuliaLang/julia/tree/9d6dee5571031d0dfa8413eecf36a83b80ebcd74/base/bitarray.jl#L880\" target=\"_blank\">bitarray.jl:880</a><li> div(A::<b>Array{Bool,N}</b>, B::<b>BitArray{N}</b>) at <a href=\"https://github.com/JuliaLang/julia/tree/9d6dee5571031d0dfa8413eecf36a83b80ebcd74/base/bitarray.jl#L881\" target=\"_blank\">bitarray.jl:881</a><li> div(x::<b>Bool</b>, B::<b>BitArray{N}</b>) at <a href=\"https://github.com/JuliaLang/julia/tree/9d6dee5571031d0dfa8413eecf36a83b80ebcd74/base/bitarray.jl#L886\" target=\"_blank\">bitarray.jl:886</a><li> div(x::<b>Number</b>, B::<b>BitArray{N}</b>) at <a href=\"https://github.com/JuliaLang/julia/tree/9d6dee5571031d0dfa8413eecf36a83b80ebcd74/base/bitarray.jl#L890\" target=\"_blank\">bitarray.jl:890</a><li> div(B::<b>BitArray{N}</b>, x::<b>Bool</b>) at <a href=\"https://github.com/JuliaLang/julia/tree/9d6dee5571031d0dfa8413eecf36a83b80ebcd74/base/bitarray.jl#L883\" target=\"_blank\">bitarray.jl:883</a><li> div(B::<b>BitArray{N}</b>, x::<b>Number</b>) at <a href=\"https://github.com/JuliaLang/julia/tree/9d6dee5571031d0dfa8413eecf36a83b80ebcd74/base/bitarray.jl#L921\" target=\"_blank\">bitarray.jl:921</a><li> done(B::<b>BitArray{N}</b>, i::<b>Int64</b>) at <a href=\"https://github.com/JuliaLang/julia/tree/9d6dee5571031d0dfa8413eecf36a83b80ebcd74/base/bitarray.jl#L212\" target=\"_blank\">bitarray.jl:212</a><li> dot(x::<b>BitArray{1}</b>, y::<b>BitArray{1}</b>) at <a href=\"https://github.com/JuliaLang/julia/tree/9d6dee5571031d0dfa8413eecf36a83b80ebcd74/base/linalg/bitarray.jl#L5\" target=\"_blank\">linalg/bitarray.jl:5</a><li> empty!(B::<b>BitArray{1}</b>) at <a href=\"https://github.com/JuliaLang/julia/tree/9d6dee5571031d0dfa8413eecf36a83b80ebcd74/base/bitarray.jl#L764\" target=\"_blank\">bitarray.jl:764</a><li> fill!(B::<b>BitArray{N}</b>, x) at <a href=\"https://github.com/JuliaLang/julia/tree/9d6dee5571031d0dfa8413eecf36a83b80ebcd74/base/bitarray.jl#L226\" target=\"_blank\">bitarray.jl:226</a><li> filter(f, Bs::<b>BitArray{N}</b>) at <a href=\"https://github.com/JuliaLang/julia/tree/9d6dee5571031d0dfa8413eecf36a83b80ebcd74/base/bitarray.jl#L1545\" target=\"_blank\">bitarray.jl:1545</a><li> find(B::<b>BitArray{N}</b>) at <a href=\"https://github.com/JuliaLang/julia/tree/9d6dee5571031d0dfa8413eecf36a83b80ebcd74/base/bitarray.jl#L1420\" target=\"_blank\">bitarray.jl:1420</a><li> findmax(a::<b>BitArray{N}</b>) at <a href=\"https://github.com/JuliaLang/julia/tree/9d6dee5571031d0dfa8413eecf36a83b80ebcd74/base/linalg/bitarray.jl#L186\" target=\"_blank\">linalg/bitarray.jl:186</a><li> findmin(a::<b>BitArray{N}</b>) at <a href=\"https://github.com/JuliaLang/julia/tree/9d6dee5571031d0dfa8413eecf36a83b80ebcd74/base/linalg/bitarray.jl#L199\" target=\"_blank\">linalg/bitarray.jl:199</a><li> findn(B::<b>BitArray{1}</b>) at <a href=\"https://github.com/JuliaLang/julia/tree/9d6dee5571031d0dfa8413eecf36a83b80ebcd74/base/bitarray.jl#L1452\" target=\"_blank\">bitarray.jl:1452</a><li> findn(B::<b>BitArray{2}</b>) at <a href=\"https://github.com/JuliaLang/julia/tree/9d6dee5571031d0dfa8413eecf36a83b80ebcd74/base/bitarray.jl#L1455\" target=\"_blank\">bitarray.jl:1455</a><li> findn<i>{N}</i>(B::<b>BitArray{N}</b>) at <a href=\"https://github.com/JuliaLang/julia/tree/9d6dee5571031d0dfa8413eecf36a83b80ebcd74/base/multidimensional.jl#L706\" target=\"_blank\">multidimensional.jl:706</a><li> findnext(B::<b>BitArray{N}</b>, start::<b>Integer</b>) at <a href=\"https://github.com/JuliaLang/julia/tree/9d6dee5571031d0dfa8413eecf36a83b80ebcd74/base/bitarray.jl#L1271\" target=\"_blank\">bitarray.jl:1271</a><li> findnext(testf::<b>Function</b>, B::<b>BitArray{N}</b>, start::<b>Integer</b>) at <a href=\"https://github.com/JuliaLang/julia/tree/9d6dee5571031d0dfa8413eecf36a83b80ebcd74/base/bitarray.jl#L1337\" target=\"_blank\">bitarray.jl:1337</a><li> findnext(B::<b>BitArray{N}</b>, v, start::<b>Integer</b>) at <a href=\"https://github.com/JuliaLang/julia/tree/9d6dee5571031d0dfa8413eecf36a83b80ebcd74/base/bitarray.jl#L1329\" target=\"_blank\">bitarray.jl:1329</a><li> findnz(B::<b>BitArray{2}</b>) at <a href=\"https://github.com/JuliaLang/julia/tree/9d6dee5571031d0dfa8413eecf36a83b80ebcd74/base/bitarray.jl#L1470\" target=\"_blank\">bitarray.jl:1470</a><li> findprev(testf::<b>Function</b>, B::<b>BitArray{N}</b>, start::<b>Integer</b>) at <a href=\"https://github.com/JuliaLang/julia/tree/9d6dee5571031d0dfa8413eecf36a83b80ebcd74/base/bitarray.jl#L1407\" target=\"_blank\">bitarray.jl:1407</a><li> findprev(B::<b>BitArray{N}</b>, start::<b>Integer</b>) at <a href=\"https://github.com/JuliaLang/julia/tree/9d6dee5571031d0dfa8413eecf36a83b80ebcd74/base/bitarray.jl#L1351\" target=\"_blank\">bitarray.jl:1351</a><li> findprev(B::<b>BitArray{N}</b>, v, start::<b>Integer</b>) at <a href=\"https://github.com/JuliaLang/julia/tree/9d6dee5571031d0dfa8413eecf36a83b80ebcd74/base/bitarray.jl#L1399\" target=\"_blank\">bitarray.jl:1399</a><li> flipbits!(B::<b>BitArray{N}</b>) at <a href=\"https://github.com/JuliaLang/julia/tree/9d6dee5571031d0dfa8413eecf36a83b80ebcd74/base/bitarray.jl#L818\" target=\"_blank\">bitarray.jl:818</a><li> flipdim(A::<b>BitArray{N}</b>, d::<b>Integer</b>) at <a href=\"https://github.com/JuliaLang/julia/tree/9d6dee5571031d0dfa8413eecf36a83b80ebcd74/base/bitarray.jl#L1086\" target=\"_blank\">bitarray.jl:1086</a><li> getindex(B::<b>BitArray{N}</b>, i::<b>Int64</b>) at <a href=\"https://github.com/JuliaLang/julia/tree/9d6dee5571031d0dfa8413eecf36a83b80ebcd74/base/bitarray.jl#L349\" target=\"_blank\">bitarray.jl:349</a><li> gradient(F::<b>BitArray{1}</b>) at <a href=\"https://github.com/JuliaLang/julia/tree/9d6dee5571031d0dfa8413eecf36a83b80ebcd74/base/linalg/bitarray.jl#L72\" target=\"_blank\">linalg/bitarray.jl:72</a><li> gradient(F::<b>BitArray{1}</b>, h::<b>Real</b>) at <a href=\"https://github.com/JuliaLang/julia/tree/9d6dee5571031d0dfa8413eecf36a83b80ebcd74/base/linalg/bitarray.jl#L73\" target=\"_blank\">linalg/bitarray.jl:73</a><li> gradient(F::<b>Array{T,1}</b>, h::<b>BitArray{1}</b>) at <a href=\"https://github.com/JuliaLang/julia/tree/9d6dee5571031d0dfa8413eecf36a83b80ebcd74/base/linalg/bitarray.jl#L74\" target=\"_blank\">linalg/bitarray.jl:74</a><li> gradient(F::<b>BitArray{1}</b>, h::<b>Array{T,1}</b>) at <a href=\"https://github.com/JuliaLang/julia/tree/9d6dee5571031d0dfa8413eecf36a83b80ebcd74/base/linalg/bitarray.jl#L75\" target=\"_blank\">linalg/bitarray.jl:75</a><li> gradient(F::<b>BitArray{1}</b>, h::<b>BitArray{1}</b>) at <a href=\"https://github.com/JuliaLang/julia/tree/9d6dee5571031d0dfa8413eecf36a83b80ebcd74/base/linalg/bitarray.jl#L76\" target=\"_blank\">linalg/bitarray.jl:76</a><li> insert!(B::<b>BitArray{1}</b>, i::<b>Integer</b>, item) at <a href=\"https://github.com/JuliaLang/julia/tree/9d6dee5571031d0dfa8413eecf36a83b80ebcd74/base/bitarray.jl#L571\" target=\"_blank\">bitarray.jl:571</a><li> isassigned<i>{N}</i>(B::<b>BitArray{N}</b>, i::<b>Int64</b>) at <a href=\"https://github.com/JuliaLang/julia/tree/9d6dee5571031d0dfa8413eecf36a83b80ebcd74/base/bitarray.jl#L53\" target=\"_blank\">bitarray.jl:53</a><li> isassigned(B::<b>BitArray{N}</b>, I_0::<b>Int64</b>, I::<b>Int64...</b>) at <a href=\"https://github.com/JuliaLang/julia/tree/9d6dee5571031d0dfa8413eecf36a83b80ebcd74/base/multidimensional.jl#L725\" target=\"_blank\">multidimensional.jl:725</a><li> ishermitian(A::<b>BitArray{2}</b>) at <a href=\"https://github.com/JuliaLang/julia/tree/9d6dee5571031d0dfa8413eecf36a83b80ebcd74/base/linalg/bitarray.jl#L138\" target=\"_blank\">linalg/bitarray.jl:138</a><li> issym(A::<b>BitArray{2}</b>) at <a href=\"https://github.com/JuliaLang/julia/tree/9d6dee5571031d0dfa8413eecf36a83b80ebcd74/base/linalg/bitarray.jl#L137\" target=\"_blank\">linalg/bitarray.jl:137</a><li> istril(A::<b>BitArray{2}</b>) at <a href=\"https://github.com/JuliaLang/julia/tree/9d6dee5571031d0dfa8413eecf36a83b80ebcd74/base/linalg/bitarray.jl#L176\" target=\"_blank\">linalg/bitarray.jl:176</a><li> istriu(A::<b>BitArray{2}</b>) at <a href=\"https://github.com/JuliaLang/julia/tree/9d6dee5571031d0dfa8413eecf36a83b80ebcd74/base/linalg/bitarray.jl#L167\" target=\"_blank\">linalg/bitarray.jl:167</a><li> kron(a::<b>BitArray{1}</b>, b::<b>BitArray{1}</b>) at <a href=\"https://github.com/JuliaLang/julia/tree/9d6dee5571031d0dfa8413eecf36a83b80ebcd74/base/linalg/bitarray.jl#L107\" target=\"_blank\">linalg/bitarray.jl:107</a><li> kron(a::<b>BitArray{2}</b>, b::<b>BitArray{2}</b>) at <a href=\"https://github.com/JuliaLang/julia/tree/9d6dee5571031d0dfa8413eecf36a83b80ebcd74/base/linalg/bitarray.jl#L119\" target=\"_blank\">linalg/bitarray.jl:119</a><li> length(B::<b>BitArray{N}</b>) at <a href=\"https://github.com/JuliaLang/julia/tree/9d6dee5571031d0dfa8413eecf36a83b80ebcd74/base/bitarray.jl#L39\" target=\"_blank\">bitarray.jl:39</a><li> map(f::<b>Function</b>, A::<b>BitArray{N}</b>) at <a href=\"https://github.com/JuliaLang/julia/tree/9d6dee5571031d0dfa8413eecf36a83b80ebcd74/base/bitarray.jl#L1511\" target=\"_blank\">bitarray.jl:1511</a><li> map(f::<b>Function</b>, A::<b>BitArray{N}</b>, B::<b>BitArray{N}</b>) at <a href=\"https://github.com/JuliaLang/julia/tree/9d6dee5571031d0dfa8413eecf36a83b80ebcd74/base/bitarray.jl#L1512\" target=\"_blank\">bitarray.jl:1512</a><li> map(f::<b>Base.BitFunctorUnary{T,F}</b>, A::<b>BitArray{N}</b>) at <a href=\"https://github.com/JuliaLang/julia/tree/9d6dee5571031d0dfa8413eecf36a83b80ebcd74/base/bitarray.jl#L1513\" target=\"_blank\">bitarray.jl:1513</a><li> map(f::<b>Base.BitFunctorBinary{TT,TF,FT,FF}</b>, A::<b>BitArray{N}</b>, B::<b>BitArray{N}</b>) at <a href=\"https://github.com/JuliaLang/julia/tree/9d6dee5571031d0dfa8413eecf36a83b80ebcd74/base/bitarray.jl#L1514\" target=\"_blank\">bitarray.jl:1514</a><li> map!(f::<b>Function</b>, dest::<b>BitArray{N}</b>, A::<b>BitArray{N}</b>) at <a href=\"https://github.com/JuliaLang/julia/tree/9d6dee5571031d0dfa8413eecf36a83b80ebcd74/base/bitarray.jl#L1517\" target=\"_blank\">bitarray.jl:1517</a><li> map!(f::<b>Function</b>, dest::<b>BitArray{N}</b>, A::<b>BitArray{N}</b>, B::<b>BitArray{N}</b>) at <a href=\"https://github.com/JuliaLang/julia/tree/9d6dee5571031d0dfa8413eecf36a83b80ebcd74/base/bitarray.jl#L1518\" target=\"_blank\">bitarray.jl:1518</a><li> map!(f::<b>Base.BitFunctorUnary{T,F}</b>, dest::<b>BitArray{N}</b>, A::<b>BitArray{N}</b>) at <a href=\"https://github.com/JuliaLang/julia/tree/9d6dee5571031d0dfa8413eecf36a83b80ebcd74/base/bitarray.jl#L1524\" target=\"_blank\">bitarray.jl:1524</a><li> map!(f::<b>Base.BitFunctorBinary{TT,TF,FT,FF}</b>, dest::<b>BitArray{N}</b>, A::<b>BitArray{N}</b>, B::<b>BitArray{N}</b>) at <a href=\"https://github.com/JuliaLang/julia/tree/9d6dee5571031d0dfa8413eecf36a83b80ebcd74/base/bitarray.jl#L1533\" target=\"_blank\">bitarray.jl:1533</a><li> map!(f, A::<b>BitArray{N}</b>) at <a href=\"https://github.com/JuliaLang/julia/tree/9d6dee5571031d0dfa8413eecf36a83b80ebcd74/base/bitarray.jl#L1516\" target=\"_blank\">bitarray.jl:1516</a><li> maximum(B::<b>BitArray{N}</b>) at <a href=\"https://github.com/JuliaLang/julia/tree/9d6dee5571031d0dfa8413eecf36a83b80ebcd74/base/bitarray.jl#L1503\" target=\"_blank\">bitarray.jl:1503</a><li> minimum(B::<b>BitArray{N}</b>) at <a href=\"https://github.com/JuliaLang/julia/tree/9d6dee5571031d0dfa8413eecf36a83b80ebcd74/base/bitarray.jl#L1502\" target=\"_blank\">bitarray.jl:1502</a><li> mod(A::<b>BitArray{N}</b>, B::<b>BitArray{N}</b>) at <a href=\"https://github.com/JuliaLang/julia/tree/9d6dee5571031d0dfa8413eecf36a83b80ebcd74/base/bitarray.jl#L897\" target=\"_blank\">bitarray.jl:897</a><li> mod(A::<b>BitArray{N}</b>, B::<b>Array{Bool,N}</b>) at <a href=\"https://github.com/JuliaLang/julia/tree/9d6dee5571031d0dfa8413eecf36a83b80ebcd74/base/bitarray.jl#L901\" target=\"_blank\">bitarray.jl:901</a><li> mod(A::<b>Array{Bool,N}</b>, B::<b>BitArray{N}</b>) at <a href=\"https://github.com/JuliaLang/julia/tree/9d6dee5571031d0dfa8413eecf36a83b80ebcd74/base/bitarray.jl#L902\" target=\"_blank\">bitarray.jl:902</a><li> mod(x::<b>Bool</b>, B::<b>BitArray{N}</b>) at <a href=\"https://github.com/JuliaLang/julia/tree/9d6dee5571031d0dfa8413eecf36a83b80ebcd74/base/bitarray.jl#L907\" target=\"_blank\">bitarray.jl:907</a><li> mod(x::<b>Number</b>, B::<b>BitArray{N}</b>) at <a href=\"https://github.com/JuliaLang/julia/tree/9d6dee5571031d0dfa8413eecf36a83b80ebcd74/base/bitarray.jl#L911\" target=\"_blank\">bitarray.jl:911</a><li> mod(B::<b>BitArray{N}</b>, x::<b>Bool</b>) at <a href=\"https://github.com/JuliaLang/julia/tree/9d6dee5571031d0dfa8413eecf36a83b80ebcd74/base/bitarray.jl#L904\" target=\"_blank\">bitarray.jl:904</a><li> mod(B::<b>BitArray{N}</b>, x::<b>Number</b>) at <a href=\"https://github.com/JuliaLang/julia/tree/9d6dee5571031d0dfa8413eecf36a83b80ebcd74/base/bitarray.jl#L921\" target=\"_blank\">bitarray.jl:921</a><li> msync(B::<b>BitArray{N}</b>) at <a href=\"https://github.com/JuliaLang/julia/tree/9d6dee5571031d0dfa8413eecf36a83b80ebcd74/base/deprecated.jl#L579\" target=\"_blank\">deprecated.jl:579</a><li> next(B::<b>BitArray{N}</b>, i::<b>Int64</b>) at <a href=\"https://github.com/JuliaLang/julia/tree/9d6dee5571031d0dfa8413eecf36a83b80ebcd74/base/bitarray.jl#L211\" target=\"_blank\">bitarray.jl:211</a><li> one(x::<b>BitArray{2}</b>) at <a href=\"https://github.com/JuliaLang/julia/tree/9d6dee5571031d0dfa8413eecf36a83b80ebcd74/base/bitarray.jl#L242\" target=\"_blank\">bitarray.jl:242</a><li> permutedims!<i>{N}</i>(P::<b>BitArray{N}</b>, B::<b>BitArray{N}</b>, perm) at <a href=\"https://github.com/JuliaLang/julia/tree/9d6dee5571031d0dfa8413eecf36a83b80ebcd74/base/multidimensional.jl#L744\" target=\"_blank\">multidimensional.jl:744</a><li> pop!(B::<b>BitArray{1}</b>) at <a href=\"https://github.com/JuliaLang/julia/tree/9d6dee5571031d0dfa8413eecf36a83b80ebcd74/base/bitarray.jl#L514\" target=\"_blank\">bitarray.jl:514</a><li> prepend!(A::<b>Array{Bool,1}</b>, items::<b>BitArray{1}</b>) at <a href=\"https://github.com/JuliaLang/julia/tree/9d6dee5571031d0dfa8413eecf36a83b80ebcd74/base/bitarray.jl#L487\" target=\"_blank\">bitarray.jl:487</a><li> prepend!(B::<b>BitArray{1}</b>, items::<b>BitArray{1}</b>) at <a href=\"https://github.com/JuliaLang/julia/tree/9d6dee5571031d0dfa8413eecf36a83b80ebcd74/base/bitarray.jl#L468\" target=\"_blank\">bitarray.jl:468</a><li> prepend!(B::<b>BitArray{1}</b>, items::<b>AbstractArray{Bool,1}</b>) at <a href=\"https://github.com/JuliaLang/julia/tree/9d6dee5571031d0dfa8413eecf36a83b80ebcd74/base/bitarray.jl#L486\" target=\"_blank\">bitarray.jl:486</a><li> push!(B::<b>BitArray{1}</b>, item) at <a href=\"https://github.com/JuliaLang/julia/tree/9d6dee5571031d0dfa8413eecf36a83b80ebcd74/base/bitarray.jl#L430\" target=\"_blank\">bitarray.jl:430</a><li> qr(A::<b>BitArray{2}</b>) at <a href=\"https://github.com/JuliaLang/julia/tree/9d6dee5571031d0dfa8413eecf36a83b80ebcd74/base/linalg/bitarray.jl#L102\" target=\"_blank\">linalg/bitarray.jl:102</a><li> rand!(rng::<b>AbstractRNG</b>, B::<b>BitArray{N}</b>) at <a href=\"https://github.com/JuliaLang/julia/tree/9d6dee5571031d0dfa8413eecf36a83b80ebcd74/base/random.jl#L599\" target=\"_blank\">random.jl:599</a><li> read!(s::<b>IO</b>, B::<b>BitArray{N}</b>) at <a href=\"https://github.com/JuliaLang/julia/tree/9d6dee5571031d0dfa8413eecf36a83b80ebcd74/base/bitarray.jl#L1805\" target=\"_blank\">bitarray.jl:1805</a><li> reinterpret<i>{N}</i>(::<b>Type{Bool}</b>, B::<b>BitArray{N}</b>, dims::<b>NTuple{N,Int64}</b>) at <a href=\"https://github.com/JuliaLang/julia/tree/9d6dee5571031d0dfa8413eecf36a83b80ebcd74/base/bitarray.jl#L333\" target=\"_blank\">bitarray.jl:333</a><li> reinterpret<i>{N}</i>(B::<b>BitArray{N}</b>, dims::<b>NTuple{N,Int64}</b>) at <a href=\"https://github.com/JuliaLang/julia/tree/9d6dee5571031d0dfa8413eecf36a83b80ebcd74/base/bitarray.jl#L334\" target=\"_blank\">bitarray.jl:334</a><li> reshape<i>{N}</i>(B::<b>BitArray{N}</b>, dims::<b>NTuple{N,Int64}</b>) at <a href=\"https://github.com/JuliaLang/julia/tree/9d6dee5571031d0dfa8413eecf36a83b80ebcd74/base/bitarray.jl#L282\" target=\"_blank\">bitarray.jl:282</a><li> resize!(B::<b>BitArray{1}</b>, n::<b>Integer</b>) at <a href=\"https://github.com/JuliaLang/julia/tree/9d6dee5571031d0dfa8413eecf36a83b80ebcd74/base/bitarray.jl#L495\" target=\"_blank\">bitarray.jl:495</a><li> reverse(v::<b>BitArray{1}</b>) at <a href=\"https://github.com/JuliaLang/julia/tree/9d6dee5571031d0dfa8413eecf36a83b80ebcd74/base/bitarray.jl#L1198\" target=\"_blank\">bitarray.jl:1198</a><li> reverse!(B::<b>BitArray{1}</b>) at <a href=\"https://github.com/JuliaLang/julia/tree/9d6dee5571031d0dfa8413eecf36a83b80ebcd74/base/bitarray.jl#L1157\" target=\"_blank\">bitarray.jl:1157</a><li> rol(B::<b>BitArray{1}</b>, i::<b>Integer</b>) at <a href=\"https://github.com/JuliaLang/julia/tree/9d6dee5571031d0dfa8413eecf36a83b80ebcd74/base/bitarray.jl#L1235\" target=\"_blank\">bitarray.jl:1235</a><li> rol!(dest::<b>BitArray{1}</b>, src::<b>BitArray{1}</b>, i::<b>Integer</b>) at <a href=\"https://github.com/JuliaLang/julia/tree/9d6dee5571031d0dfa8413eecf36a83b80ebcd74/base/bitarray.jl#L1219\" target=\"_blank\">bitarray.jl:1219</a><li> rol!(B::<b>BitArray{1}</b>, i::<b>Integer</b>) at <a href=\"https://github.com/JuliaLang/julia/tree/9d6dee5571031d0dfa8413eecf36a83b80ebcd74/base/bitarray.jl#L1231\" target=\"_blank\">bitarray.jl:1231</a><li> ror(B::<b>BitArray{1}</b>, i::<b>Integer</b>) at <a href=\"https://github.com/JuliaLang/julia/tree/9d6dee5571031d0dfa8413eecf36a83b80ebcd74/base/bitarray.jl#L1255\" target=\"_blank\">bitarray.jl:1255</a><li> ror!(dest::<b>BitArray{1}</b>, src::<b>BitArray{1}</b>, i::<b>Integer</b>) at <a href=\"https://github.com/JuliaLang/julia/tree/9d6dee5571031d0dfa8413eecf36a83b80ebcd74/base/bitarray.jl#L1239\" target=\"_blank\">bitarray.jl:1239</a><li> ror!(B::<b>BitArray{1}</b>, i::<b>Integer</b>) at <a href=\"https://github.com/JuliaLang/julia/tree/9d6dee5571031d0dfa8413eecf36a83b80ebcd74/base/bitarray.jl#L1251\" target=\"_blank\">bitarray.jl:1251</a><li> setindex!(B::<b>BitArray{N}</b>, x, i::<b>Int64</b>) at <a href=\"https://github.com/JuliaLang/julia/tree/9d6dee5571031d0dfa8413eecf36a83b80ebcd74/base/bitarray.jl#L363\" target=\"_blank\">bitarray.jl:363</a><li> setindex!(B::<b>BitArray{N}</b>, X::<b>AbstractArray{T,N}</b>, I::<b>BitArray{N}</b>) at <a href=\"https://github.com/JuliaLang/julia/tree/9d6dee5571031d0dfa8413eecf36a83b80ebcd74/base/bitarray.jl#L395\" target=\"_blank\">bitarray.jl:395</a><li> setindex!(B::<b>BitArray{N}</b>, x, I::<b>BitArray{N}</b>) at <a href=\"https://github.com/JuliaLang/julia/tree/9d6dee5571031d0dfa8413eecf36a83b80ebcd74/base/bitarray.jl#L375\" target=\"_blank\">bitarray.jl:375</a><li> shift!(B::<b>BitArray{1}</b>) at <a href=\"https://github.com/JuliaLang/julia/tree/9d6dee5571031d0dfa8413eecf36a83b80ebcd74/base/bitarray.jl#L548\" target=\"_blank\">bitarray.jl:548</a><li> sign(B::<b>BitArray{N}</b>) at <a href=\"https://github.com/JuliaLang/julia/tree/9d6dee5571031d0dfa8413eecf36a83b80ebcd74/base/bitarray.jl#L802\" target=\"_blank\">bitarray.jl:802</a><li> similar(B::<b>BitArray{N}</b>) at <a href=\"https://github.com/JuliaLang/julia/tree/9d6dee5571031d0dfa8413eecf36a83b80ebcd74/base/bitarray.jl#L216\" target=\"_blank\">bitarray.jl:216</a><li> similar(B::<b>BitArray{N}</b>, dims::<b>Int64...</b>) at <a href=\"https://github.com/JuliaLang/julia/tree/9d6dee5571031d0dfa8413eecf36a83b80ebcd74/base/bitarray.jl#L217\" target=\"_blank\">bitarray.jl:217</a><li> similar(B::<b>BitArray{N}</b>, dims::<b>Tuple{Vararg{Int64}}</b>) at <a href=\"https://github.com/JuliaLang/julia/tree/9d6dee5571031d0dfa8413eecf36a83b80ebcd74/base/bitarray.jl#L218\" target=\"_blank\">bitarray.jl:218</a><li> similar(B::<b>BitArray{N}</b>, T::<b>Type{Bool}</b>, dims::<b>Tuple{Vararg{Int64}}</b>) at <a href=\"https://github.com/JuliaLang/julia/tree/9d6dee5571031d0dfa8413eecf36a83b80ebcd74/base/bitarray.jl#L220\" target=\"_blank\">bitarray.jl:220</a><li> similar(B::<b>BitArray{N}</b>, T::<b>Type{T}</b>, dims::<b>Tuple{Vararg{Int64}}</b>) at <a href=\"https://github.com/JuliaLang/julia/tree/9d6dee5571031d0dfa8413eecf36a83b80ebcd74/base/bitarray.jl#L223\" target=\"_blank\">bitarray.jl:223</a><li> size(B::<b>BitArray{1}</b>) at <a href=\"https://github.com/JuliaLang/julia/tree/9d6dee5571031d0dfa8413eecf36a83b80ebcd74/base/bitarray.jl#L40\" target=\"_blank\">bitarray.jl:40</a><li> size(B::<b>BitArray{1}</b>, d) at <a href=\"https://github.com/JuliaLang/julia/tree/9d6dee5571031d0dfa8413eecf36a83b80ebcd74/base/bitarray.jl#L43\" target=\"_blank\">bitarray.jl:43</a><li> size(B::<b>BitArray{N}</b>) at <a href=\"https://github.com/JuliaLang/julia/tree/9d6dee5571031d0dfa8413eecf36a83b80ebcd74/base/bitarray.jl#L41\" target=\"_blank\">bitarray.jl:41</a><li> size<i>{N}</i>(B::<b>BitArray{N}</b>, d) at <a href=\"https://github.com/JuliaLang/julia/tree/9d6dee5571031d0dfa8413eecf36a83b80ebcd74/base/bitarray.jl#L51\" target=\"_blank\">bitarray.jl:51</a><li> sizehint!(B::<b>BitArray{1}</b>, sz::<b>Integer</b>) at <a href=\"https://github.com/JuliaLang/julia/tree/9d6dee5571031d0dfa8413eecf36a83b80ebcd74/base/bitarray.jl#L490\" target=\"_blank\">bitarray.jl:490</a><li> sizeof(B::<b>BitArray{N}</b>) at <a href=\"https://github.com/JuliaLang/julia/tree/9d6dee5571031d0dfa8413eecf36a83b80ebcd74/base/bitarray.jl#L1807\" target=\"_blank\">bitarray.jl:1807</a><li> slicedim(A::<b>BitArray{N}</b>, d::<b>Integer</b>, i::<b>Integer</b>) at <a href=\"https://github.com/JuliaLang/julia/tree/9d6dee5571031d0dfa8413eecf36a83b80ebcd74/base/bitarray.jl#L1055\" target=\"_blank\">bitarray.jl:1055</a><li> splice!(B::<b>BitArray{1}</b>, i::<b>Integer</b>) at <a href=\"https://github.com/JuliaLang/julia/tree/9d6dee5571031d0dfa8413eecf36a83b80ebcd74/base/bitarray.jl#L701\" target=\"_blank\">bitarray.jl:701</a><li> splice!(B::<b>BitArray{1}</b>, r::<b>Union{Integer,UnitRange{Int64}}</b>) at <a href=\"https://github.com/JuliaLang/julia/tree/9d6dee5571031d0dfa8413eecf36a83b80ebcd74/base/bitarray.jl#L712\" target=\"_blank\">bitarray.jl:712</a><li> splice!(B::<b>BitArray{1}</b>, r::<b>Union{Integer,UnitRange{Int64}}</b>, ins::<b>AbstractArray{T,N}</b>) at <a href=\"https://github.com/JuliaLang/julia/tree/9d6dee5571031d0dfa8413eecf36a83b80ebcd74/base/bitarray.jl#L712\" target=\"_blank\">bitarray.jl:712</a><li> splice!(B::<b>BitArray{1}</b>, r::<b>Union{Integer,UnitRange{Int64}}</b>, ins) at <a href=\"https://github.com/JuliaLang/julia/tree/9d6dee5571031d0dfa8413eecf36a83b80ebcd74/base/bitarray.jl#L753\" target=\"_blank\">bitarray.jl:753</a><li> start(B::<b>BitArray{N}</b>) at <a href=\"https://github.com/JuliaLang/julia/tree/9d6dee5571031d0dfa8413eecf36a83b80ebcd74/base/bitarray.jl#L210\" target=\"_blank\">bitarray.jl:210</a><li> sum(B::<b>BitArray{N}</b>) at <a href=\"https://github.com/JuliaLang/julia/tree/9d6dee5571031d0dfa8413eecf36a83b80ebcd74/base/bitarray.jl#L1477\" target=\"_blank\">bitarray.jl:1477</a><li> sum(A::<b>BitArray{N}</b>, region) at <a href=\"https://github.com/JuliaLang/julia/tree/9d6dee5571031d0dfa8413eecf36a83b80ebcd74/base/bitarray.jl#L1476\" target=\"_blank\">bitarray.jl:1476</a><li> svd(A::<b>BitArray{2}</b>) at <a href=\"https://github.com/JuliaLang/julia/tree/9d6dee5571031d0dfa8413eecf36a83b80ebcd74/base/linalg/bitarray.jl#L101\" target=\"_blank\">linalg/bitarray.jl:101</a><li> transpose(B::<b>BitArray{1}</b>) at <a href=\"https://github.com/JuliaLang/julia/tree/9d6dee5571031d0dfa8413eecf36a83b80ebcd74/base/bitarray.jl#L1551\" target=\"_blank\">bitarray.jl:1551</a><li> transpose(B::<b>BitArray{2}</b>) at <a href=\"https://github.com/JuliaLang/julia/tree/9d6dee5571031d0dfa8413eecf36a83b80ebcd74/base/bitarray.jl#L1603\" target=\"_blank\">bitarray.jl:1603</a><li> tril(B::<b>BitArray{2}</b>) at <a href=\"https://github.com/JuliaLang/julia/tree/9d6dee5571031d0dfa8413eecf36a83b80ebcd74/base/linalg/bitarray.jl#L58\" target=\"_blank\">linalg/bitarray.jl:58</a><li> tril(B::<b>BitArray{2}</b>, k::<b>Integer</b>) at <a href=\"https://github.com/JuliaLang/julia/tree/9d6dee5571031d0dfa8413eecf36a83b80ebcd74/base/linalg/bitarray.jl#L58\" target=\"_blank\">linalg/bitarray.jl:58</a><li> triu(B::<b>BitArray{2}</b>) at <a href=\"https://github.com/JuliaLang/julia/tree/9d6dee5571031d0dfa8413eecf36a83b80ebcd74/base/linalg/bitarray.jl#L46\" target=\"_blank\">linalg/bitarray.jl:46</a><li> triu(B::<b>BitArray{2}</b>, k::<b>Integer</b>) at <a href=\"https://github.com/JuliaLang/julia/tree/9d6dee5571031d0dfa8413eecf36a83b80ebcd74/base/linalg/bitarray.jl#L46\" target=\"_blank\">linalg/bitarray.jl:46</a><li> unshift!(B::<b>BitArray{1}</b>, item) at <a href=\"https://github.com/JuliaLang/julia/tree/9d6dee5571031d0dfa8413eecf36a83b80ebcd74/base/bitarray.jl#L526\" target=\"_blank\">bitarray.jl:526</a><li> write(s::<b>IO</b>, B::<b>BitArray{N}</b>) at <a href=\"https://github.com/JuliaLang/julia/tree/9d6dee5571031d0dfa8413eecf36a83b80ebcd74/base/bitarray.jl#L1804\" target=\"_blank\">bitarray.jl:1804</a><li> |(x::<b>Bool</b>, B::<b>BitArray{N}</b>) at <a href=\"https://github.com/JuliaLang/julia/tree/9d6dee5571031d0dfa8413eecf36a83b80ebcd74/base/bitarray.jl#L938\" target=\"_blank\">bitarray.jl:938</a><li> |(A::<b>BitArray{N}</b>, B::<b>BitArray{N}</b>) at <a href=\"https://github.com/JuliaLang/julia/tree/9d6dee5571031d0dfa8413eecf36a83b80ebcd74/base/bitarray.jl#L948\" target=\"_blank\">bitarray.jl:948</a><li> |(A::<b>DenseArray{Bool,N}</b>, B::<b>BitArray{N}</b>) at <a href=\"https://github.com/JuliaLang/julia/tree/9d6dee5571031d0dfa8413eecf36a83b80ebcd74/base/bitarray.jl#L959\" target=\"_blank\">bitarray.jl:959</a><li> |(B::<b>BitArray{N}</b>, A::<b>DenseArray{Bool,N}</b>) at <a href=\"https://github.com/JuliaLang/julia/tree/9d6dee5571031d0dfa8413eecf36a83b80ebcd74/base/bitarray.jl#L960\" target=\"_blank\">bitarray.jl:960</a><li> |(x::<b>Number</b>, B::<b>BitArray{N}</b>) at <a href=\"https://github.com/JuliaLang/julia/tree/9d6dee5571031d0dfa8413eecf36a83b80ebcd74/base/bitarray.jl#L961\" target=\"_blank\">bitarray.jl:961</a><li> |(B::<b>BitArray{N}</b>, x::<b>Bool</b>) at <a href=\"https://github.com/JuliaLang/julia/tree/9d6dee5571031d0dfa8413eecf36a83b80ebcd74/base/bitarray.jl#L936\" target=\"_blank\">bitarray.jl:936</a><li> |(B::<b>BitArray{N}</b>, x::<b>Number</b>) at <a href=\"https://github.com/JuliaLang/julia/tree/9d6dee5571031d0dfa8413eecf36a83b80ebcd74/base/bitarray.jl#L962\" target=\"_blank\">bitarray.jl:962</a><li> ~(B::<b>BitArray{N}</b>) at <a href=\"https://github.com/JuliaLang/julia/tree/9d6dee5571031d0dfa8413eecf36a83b80ebcd74/base/bitarray.jl#L805\" target=\"_blank\">bitarray.jl:805</a></ul>"
      ],
      "text/plain": [
       "204-element Array{Method,1}:\n",
       " !(B::BitArray{N}) at bitarray.jl:828                                                                              \n",
       " $(x::Bool, B::BitArray{N}) at bitarray.jl:943                                                                     \n",
       " $(A::BitArray{N}, B::BitArray{N}) at bitarray.jl:948                                                              \n",
       " $(A::DenseArray{Bool,N}, B::BitArray{N}) at bitarray.jl:959                                                       \n",
       " $(B::BitArray{N}, A::DenseArray{Bool,N}) at bitarray.jl:960                                                       \n",
       " $(x::Number, B::BitArray{N}) at bitarray.jl:961                                                                   \n",
       " $(B::BitArray{N}, x::Bool) at bitarray.jl:941                                                                     \n",
       " $(B::BitArray{N}, x::Number) at bitarray.jl:962                                                                   \n",
       " &(x::Bool, B::BitArray{N}) at bitarray.jl:933                                                                     \n",
       " &(A::BitArray{N}, B::BitArray{N}) at bitarray.jl:948                                                              \n",
       " &(A::DenseArray{Bool,N}, B::BitArray{N}) at bitarray.jl:959                                                       \n",
       " &(B::BitArray{N}, A::DenseArray{Bool,N}) at bitarray.jl:960                                                       \n",
       " &(x::Number, B::BitArray{N}) at bitarray.jl:961                                                                   \n",
       " &(B::BitArray{N}, x::Bool) at bitarray.jl:931                                                                     \n",
       " &(B::BitArray{N}, x::Number) at bitarray.jl:962                                                                   \n",
       " *(B::BitArray{2}, J::UniformScaling{T<:Number}) at linalg/uniformscaling.jl:122                                   \n",
       " *(J::UniformScaling{T<:Number}, B::BitArray{2}) at linalg/uniformscaling.jl:123                                   \n",
       " +(A::BitArray{N}, B::BitArray{N}) at bitarray.jl:834                                                              \n",
       " +{T}(B::BitArray{2}, J::UniformScaling{T}) at linalg/uniformscaling.jl:28                                         \n",
       " +(J::UniformScaling{T<:Number}, B::BitArray{2}) at linalg/uniformscaling.jl:29                                    \n",
       " -(B::BitArray{2}, J::UniformScaling{T<:Number}) at linalg/uniformscaling.jl:36                                    \n",
       " -(B::BitArray{N}) at bitarray.jl:775                                                                              \n",
       " -(A::BitArray{N}, B::BitArray{N}) at bitarray.jl:834                                                              \n",
       " -(J::UniformScaling{T<:Number}, B::BitArray{2}) at linalg/uniformscaling.jl:37                                    \n",
       " .*(x::Bool, B::BitArray{N}) at bitarray.jl:1033                                                                   \n",
       " .*(x::Number, B::BitArray{N}) at bitarray.jl:1035                                                                 \n",
       " .*(B::BitArray{N}, x::Bool) at bitarray.jl:1034                                                                   \n",
       " .*(B::BitArray{N}, x::Number) at bitarray.jl:1036                                                                 \n",
       " .*(A::BitArray{N}, B::BitArray{N}) at broadcast.jl:463                                                            \n",
       " .*(x::AbstractSparseArray{Bool,Ti,1}, y::BitArray{1}) at sparse/sparsevector.jl:1076                              \n",
       " .*(A::AbstractArray{Bool,N}, B::BitArray{N}) at broadcast.jl:463                                                  \n",
       " .*(x::BitArray{1}, y::AbstractSparseArray{Bool,Ti,1}) at sparse/sparsevector.jl:1075                              \n",
       " .*(A::BitArray{N}, B::AbstractArray{Bool,N}) at broadcast.jl:463                                                  \n",
       " .+(x::Bool, B::BitArray{N}) at bitarray.jl:854                                                                    \n",
       " .+(x::Number, B::BitArray{N}) at bitarray.jl:854                                                                  \n",
       " .+(B::BitArray{N}, x::Bool) at bitarray.jl:854                                                                    \n",
       " .+(B::BitArray{N}, x::Number) at bitarray.jl:854                                                                  \n",
       " .-(x::Bool, B::BitArray{N}) at bitarray.jl:854                                                                    \n",
       " .-(x::Number, B::BitArray{N}) at bitarray.jl:854                                                                  \n",
       " .-(B::BitArray{N}, x::Bool) at bitarray.jl:854                                                                    \n",
       " .-(B::BitArray{N}, x::Number) at bitarray.jl:854                                                                  \n",
       " .^(x::Bool, B::BitArray{N}) at bitarray.jl:970                                                                    \n",
       " .^(::Irrational{:e}, x::BitArray{N}) at irrationals.jl:126                                                        \n",
       " .^(x::Number, B::BitArray{N}) at bitarray.jl:973                                                                  \n",
       " .^(B::BitArray{N}, x::Bool) at bitarray.jl:967                                                                    \n",
       " .^(B::BitArray{N}, x::Integer) at bitarray.jl:978                                                                 \n",
       " .^{T<:Number}(B::BitArray{N}, x::T<:Number) at bitarray.jl:987                                                    \n",
       " .^{T<:Integer}(A::BitArray{N}, B::Array{T<:Integer,N}) at broadcast.jl:437                                        \n",
       " .^(A::BitArray{N}, B::AbstractArray{Bool,N}) at broadcast.jl:422                                                  \n",
       " /(B::BitArray{N}, x::Number) at bitarray.jl:872                                                                   \n",
       " /(A::BitArray{N}, B::BitArray{N}) at bitarray.jl:869                                                              \n",
       " /(x::Number, B::BitArray{N}) at bitarray.jl:873                                                                   \n",
       " <<(B::BitArray{1}, i::Int64) at bitarray.jl:1201                                                                  \n",
       " ==(A::BitArray{N}, B::BitArray{N}) at bitarray.jl:1045                                                            \n",
       " >>(B::BitArray{1}, i::Int64) at bitarray.jl:1216                                                                  \n",
       " >>>(B::BitArray{1}, i::Int64) at bitarray.jl:1209                                                                 \n",
       " \\(A::BitArray{N}, B::BitArray{N}) at bitarray.jl:869                                                              \n",
       " abs(B::BitArray{N}) at bitarray.jl:770                                                                            \n",
       " all(B::BitArray{N}) at bitarray.jl:1480                                                                           \n",
       " any(B::BitArray{N}) at bitarray.jl:1492                                                                           \n",
       " append!(A::Array{Bool,1}, items::BitArray{1}) at bitarray.jl:465                                                  \n",
       " append!(B::BitArray{1}, items::BitArray{1}) at bitarray.jl:447                                                    \n",
       " append!(B::BitArray{1}, items::AbstractArray{Bool,1}) at bitarray.jl:464                                          \n",
       " bitunpack{N}(B::BitArray{N}) at bitarray.jl:337                                                                   \n",
       " broadcast!(f, B::BitArray{N}, As::Union{Array{T,N},BitArray{N},Number}...) at broadcast.jl:238                    \n",
       " broadcast!(f, B::BitArray{N}, As...) at broadcast.jl:238                                                          \n",
       " convert{T,N}(::Type{AbstractArray{T,N}}, B::BitArray{N}) at bitarray.jl:331                                       \n",
       " convert{T,N}(::Type{Array{T,N}}, B::BitArray{N}) at bitarray.jl:296                                               \n",
       " convert{T,N}(::Type{Array{T,N}}, B::BitArray{N}) at bitarray.jl:294                                               \n",
       " convert{N}(::Type{BitArray{N}}, B::BitArray{N}) at bitarray.jl:330                                                \n",
       " copy!(dest::BitArray{N}, doffs::Integer, src::BitArray{N}, soffs::Integer, n::Integer) at bitarray.jl:272         \n",
       " copy!(dest::BitArray{N}, src::BitArray{N}) at bitarray.jl:252                                                     \n",
       " countnz(B::BitArray{N}) at bitarray.jl:1261                                                                       \n",
       " ctranspose(B::BitArray{N}) at bitarray.jl:1637                                                                    \n",
       " deleteat!(B::BitArray{1}, i::Integer) at bitarray.jl:632                                                          \n",
       " deleteat!(B::BitArray{1}, r::UnitRange{Int64}) at bitarray.jl:639                                                 \n",
       " deleteat!(B::BitArray{1}, inds) at bitarray.jl:663                                                                \n",
       " diag(B::BitArray{2}) at linalg/bitarray.jl:81                                                                     \n",
       " div(A::BitArray{N}, B::BitArray{N}) at bitarray.jl:876                                                            \n",
       " div(A::BitArray{N}, B::Array{Bool,N}) at bitarray.jl:880                                                          \n",
       " div(A::Array{Bool,N}, B::BitArray{N}) at bitarray.jl:881                                                          \n",
       " div(x::Bool, B::BitArray{N}) at bitarray.jl:886                                                                   \n",
       " div(x::Number, B::BitArray{N}) at bitarray.jl:890                                                                 \n",
       " div(B::BitArray{N}, x::Bool) at bitarray.jl:883                                                                   \n",
       " div(B::BitArray{N}, x::Number) at bitarray.jl:921                                                                 \n",
       " done(B::BitArray{N}, i::Int64) at bitarray.jl:212                                                                 \n",
       " dot(x::BitArray{1}, y::BitArray{1}) at linalg/bitarray.jl:5                                                       \n",
       " empty!(B::BitArray{1}) at bitarray.jl:764                                                                         \n",
       " fill!(B::BitArray{N}, x) at bitarray.jl:226                                                                       \n",
       " filter(f, Bs::BitArray{N}) at bitarray.jl:1545                                                                    \n",
       " find(B::BitArray{N}) at bitarray.jl:1420                                                                          \n",
       " findmax(a::BitArray{N}) at linalg/bitarray.jl:186                                                                 \n",
       " findmin(a::BitArray{N}) at linalg/bitarray.jl:199                                                                 \n",
       " findn(B::BitArray{1}) at bitarray.jl:1452                                                                         \n",
       " findn(B::BitArray{2}) at bitarray.jl:1455                                                                         \n",
       " findn{N}(B::BitArray{N}) at multidimensional.jl:706                                                               \n",
       " findnext(B::BitArray{N}, start::Integer) at bitarray.jl:1271                                                      \n",
       " findnext(testf::Function, B::BitArray{N}, start::Integer) at bitarray.jl:1337                                     \n",
       " findnext(B::BitArray{N}, v, start::Integer) at bitarray.jl:1329                                                   \n",
       " findnz(B::BitArray{2}) at bitarray.jl:1470                                                                        \n",
       " findprev(testf::Function, B::BitArray{N}, start::Integer) at bitarray.jl:1407                                     \n",
       " findprev(B::BitArray{N}, start::Integer) at bitarray.jl:1351                                                      \n",
       " findprev(B::BitArray{N}, v, start::Integer) at bitarray.jl:1399                                                   \n",
       " flipbits!(B::BitArray{N}) at bitarray.jl:818                                                                      \n",
       " flipdim(A::BitArray{N}, d::Integer) at bitarray.jl:1086                                                           \n",
       " getindex(B::BitArray{N}, i::Int64) at bitarray.jl:349                                                             \n",
       " gradient(F::BitArray{1}) at linalg/bitarray.jl:72                                                                 \n",
       " gradient(F::BitArray{1}, h::Real) at linalg/bitarray.jl:73                                                        \n",
       " gradient(F::Array{T,1}, h::BitArray{1}) at linalg/bitarray.jl:74                                                  \n",
       " gradient(F::BitArray{1}, h::Array{T,1}) at linalg/bitarray.jl:75                                                  \n",
       " gradient(F::BitArray{1}, h::BitArray{1}) at linalg/bitarray.jl:76                                                 \n",
       " insert!(B::BitArray{1}, i::Integer, item) at bitarray.jl:571                                                      \n",
       " isassigned{N}(B::BitArray{N}, i::Int64) at bitarray.jl:53                                                         \n",
       " isassigned(B::BitArray{N}, I_0::Int64, I::Int64...) at multidimensional.jl:725                                    \n",
       " ishermitian(A::BitArray{2}) at linalg/bitarray.jl:138                                                             \n",
       " issym(A::BitArray{2}) at linalg/bitarray.jl:137                                                                   \n",
       " istril(A::BitArray{2}) at linalg/bitarray.jl:176                                                                  \n",
       " istriu(A::BitArray{2}) at linalg/bitarray.jl:167                                                                  \n",
       " kron(a::BitArray{1}, b::BitArray{1}) at linalg/bitarray.jl:107                                                    \n",
       " kron(a::BitArray{2}, b::BitArray{2}) at linalg/bitarray.jl:119                                                    \n",
       " length(B::BitArray{N}) at bitarray.jl:39                                                                          \n",
       " map(f::Function, A::BitArray{N}) at bitarray.jl:1511                                                              \n",
       " map(f::Function, A::BitArray{N}, B::BitArray{N}) at bitarray.jl:1512                                              \n",
       " map(f::Base.BitFunctorUnary{T,F}, A::BitArray{N}) at bitarray.jl:1513                                             \n",
       " map(f::Base.BitFunctorBinary{TT,TF,FT,FF}, A::BitArray{N}, B::BitArray{N}) at bitarray.jl:1514                    \n",
       " map!(f::Function, dest::BitArray{N}, A::BitArray{N}) at bitarray.jl:1517                                          \n",
       " map!(f::Function, dest::BitArray{N}, A::BitArray{N}, B::BitArray{N}) at bitarray.jl:1518                          \n",
       " map!(f::Base.BitFunctorUnary{T,F}, dest::BitArray{N}, A::BitArray{N}) at bitarray.jl:1524                         \n",
       " map!(f::Base.BitFunctorBinary{TT,TF,FT,FF}, dest::BitArray{N}, A::BitArray{N}, B::BitArray{N}) at bitarray.jl:1533\n",
       " map!(f, A::BitArray{N}) at bitarray.jl:1516                                                                       \n",
       " maximum(B::BitArray{N}) at bitarray.jl:1503                                                                       \n",
       " minimum(B::BitArray{N}) at bitarray.jl:1502                                                                       \n",
       " mod(A::BitArray{N}, B::BitArray{N}) at bitarray.jl:897                                                            \n",
       " mod(A::BitArray{N}, B::Array{Bool,N}) at bitarray.jl:901                                                          \n",
       " mod(A::Array{Bool,N}, B::BitArray{N}) at bitarray.jl:902                                                          \n",
       " mod(x::Bool, B::BitArray{N}) at bitarray.jl:907                                                                   \n",
       " mod(x::Number, B::BitArray{N}) at bitarray.jl:911                                                                 \n",
       " mod(B::BitArray{N}, x::Bool) at bitarray.jl:904                                                                   \n",
       " mod(B::BitArray{N}, x::Number) at bitarray.jl:921                                                                 \n",
       " msync(B::BitArray{N}) at deprecated.jl:579                                                                        \n",
       " next(B::BitArray{N}, i::Int64) at bitarray.jl:211                                                                 \n",
       " one(x::BitArray{2}) at bitarray.jl:242                                                                            \n",
       " permutedims!{N}(P::BitArray{N}, B::BitArray{N}, perm) at multidimensional.jl:744                                  \n",
       " pop!(B::BitArray{1}) at bitarray.jl:514                                                                           \n",
       " prepend!(A::Array{Bool,1}, items::BitArray{1}) at bitarray.jl:487                                                 \n",
       " prepend!(B::BitArray{1}, items::BitArray{1}) at bitarray.jl:468                                                   \n",
       " prepend!(B::BitArray{1}, items::AbstractArray{Bool,1}) at bitarray.jl:486                                         \n",
       " push!(B::BitArray{1}, item) at bitarray.jl:430                                                                    \n",
       " qr(A::BitArray{2}) at linalg/bitarray.jl:102                                                                      \n",
       " rand!(rng::AbstractRNG, B::BitArray{N}) at random.jl:599                                                          \n",
       " read!(s::IO, B::BitArray{N}) at bitarray.jl:1805                                                                  \n",
       " reinterpret{N}(::Type{Bool}, B::BitArray{N}, dims::NTuple{N,Int64}) at bitarray.jl:333                            \n",
       " reinterpret{N}(B::BitArray{N}, dims::NTuple{N,Int64}) at bitarray.jl:334                                          \n",
       " reshape{N}(B::BitArray{N}, dims::NTuple{N,Int64}) at bitarray.jl:282                                              \n",
       " resize!(B::BitArray{1}, n::Integer) at bitarray.jl:495                                                            \n",
       " reverse(v::BitArray{1}) at bitarray.jl:1198                                                                       \n",
       " reverse!(B::BitArray{1}) at bitarray.jl:1157                                                                      \n",
       " rol(B::BitArray{1}, i::Integer) at bitarray.jl:1235                                                               \n",
       " rol!(dest::BitArray{1}, src::BitArray{1}, i::Integer) at bitarray.jl:1219                                         \n",
       " rol!(B::BitArray{1}, i::Integer) at bitarray.jl:1231                                                              \n",
       " ror(B::BitArray{1}, i::Integer) at bitarray.jl:1255                                                               \n",
       " ror!(dest::BitArray{1}, src::BitArray{1}, i::Integer) at bitarray.jl:1239                                         \n",
       " ror!(B::BitArray{1}, i::Integer) at bitarray.jl:1251                                                              \n",
       " setindex!(B::BitArray{N}, x, i::Int64) at bitarray.jl:363                                                         \n",
       " setindex!(B::BitArray{N}, X::AbstractArray{T,N}, I::BitArray{N}) at bitarray.jl:395                               \n",
       " setindex!(B::BitArray{N}, x, I::BitArray{N}) at bitarray.jl:375                                                   \n",
       " shift!(B::BitArray{1}) at bitarray.jl:548                                                                         \n",
       " sign(B::BitArray{N}) at bitarray.jl:802                                                                           \n",
       " similar(B::BitArray{N}) at bitarray.jl:216                                                                        \n",
       " similar(B::BitArray{N}, dims::Int64...) at bitarray.jl:217                                                        \n",
       " similar(B::BitArray{N}, dims::Tuple{Vararg{Int64}}) at bitarray.jl:218                                            \n",
       " similar(B::BitArray{N}, T::Type{Bool}, dims::Tuple{Vararg{Int64}}) at bitarray.jl:220                             \n",
       " similar(B::BitArray{N}, T::Type{T}, dims::Tuple{Vararg{Int64}}) at bitarray.jl:223                                \n",
       " size(B::BitArray{1}) at bitarray.jl:40                                                                            \n",
       " size(B::BitArray{1}, d) at bitarray.jl:43                                                                         \n",
       " size(B::BitArray{N}) at bitarray.jl:41                                                                            \n",
       " size{N}(B::BitArray{N}, d) at bitarray.jl:51                                                                      \n",
       " sizehint!(B::BitArray{1}, sz::Integer) at bitarray.jl:490                                                         \n",
       " sizeof(B::BitArray{N}) at bitarray.jl:1807                                                                        \n",
       " slicedim(A::BitArray{N}, d::Integer, i::Integer) at bitarray.jl:1055                                              \n",
       " splice!(B::BitArray{1}, i::Integer) at bitarray.jl:701                                                            \n",
       " splice!(B::BitArray{1}, r::Union{Integer,UnitRange{Int64}}) at bitarray.jl:712                                    \n",
       " splice!(B::BitArray{1}, r::Union{Integer,UnitRange{Int64}}, ins::AbstractArray{T,N}) at bitarray.jl:712           \n",
       " splice!(B::BitArray{1}, r::Union{Integer,UnitRange{Int64}}, ins) at bitarray.jl:753                               \n",
       " start(B::BitArray{N}) at bitarray.jl:210                                                                          \n",
       " sum(B::BitArray{N}) at bitarray.jl:1477                                                                           \n",
       " sum(A::BitArray{N}, region) at bitarray.jl:1476                                                                   \n",
       " svd(A::BitArray{2}) at linalg/bitarray.jl:101                                                                     \n",
       " transpose(B::BitArray{1}) at bitarray.jl:1551                                                                     \n",
       " transpose(B::BitArray{2}) at bitarray.jl:1603                                                                     \n",
       " tril(B::BitArray{2}) at linalg/bitarray.jl:58                                                                     \n",
       " tril(B::BitArray{2}, k::Integer) at linalg/bitarray.jl:58                                                         \n",
       " triu(B::BitArray{2}) at linalg/bitarray.jl:46                                                                     \n",
       " triu(B::BitArray{2}, k::Integer) at linalg/bitarray.jl:46                                                         \n",
       " unshift!(B::BitArray{1}, item) at bitarray.jl:526                                                                 \n",
       " write(s::IO, B::BitArray{N}) at bitarray.jl:1804                                                                  \n",
       " |(x::Bool, B::BitArray{N}) at bitarray.jl:938                                                                     \n",
       " |(A::BitArray{N}, B::BitArray{N}) at bitarray.jl:948                                                              \n",
       " |(A::DenseArray{Bool,N}, B::BitArray{N}) at bitarray.jl:959                                                       \n",
       " |(B::BitArray{N}, A::DenseArray{Bool,N}) at bitarray.jl:960                                                       \n",
       " |(x::Number, B::BitArray{N}) at bitarray.jl:961                                                                   \n",
       " |(B::BitArray{N}, x::Bool) at bitarray.jl:936                                                                     \n",
       " |(B::BitArray{N}, x::Number) at bitarray.jl:962                                                                   \n",
       " ~(B::BitArray{N}) at bitarray.jl:805                                                                              "
      ]
     },
     "execution_count": 102,
     "metadata": {},
     "output_type": "execute_result"
    }
   ],
   "source": [
    "methodswith(BitArray)"
   ]
  },
  {
   "cell_type": "code",
   "execution_count": 88,
   "metadata": {
    "collapsed": false
   },
   "outputs": [
    {
     "data": {
      "text/plain": [
       "true"
      ]
     },
     "execution_count": 88,
     "metadata": {},
     "output_type": "execute_result"
    }
   ],
   "source": [
    "any([false,true])"
   ]
  },
  {
   "cell_type": "code",
   "execution_count": 22,
   "metadata": {
    "collapsed": false
   },
   "outputs": [
    {
     "data": {
      "text/plain": [
       "2-element Array{Int64,1}:\n",
       " 4\n",
       " 6"
      ]
     },
     "execution_count": 22,
     "metadata": {},
     "output_type": "execute_result"
    }
   ],
   "source": [
    "@pipe [2,3] |> map(x->2*x,_)"
   ]
  },
  {
   "cell_type": "code",
   "execution_count": null,
   "metadata": {
    "collapsed": false
   },
   "outputs": [],
   "source": [
    "using JuMP\n",
    "using CoinOptServices\n",
    "using AmplNLWriter\n",
    "tic()\n",
    "m=Model(solver=BonminNLSolver())\n",
    "number_of_constraints=0\n",
    "_lm = Dict{Tuple{S,S,S},Float64}()\n",
    "function cached_lm(w1,w2,w3)\n",
    "    get!(_lm, (w1,w2,w3)) do\n",
    "       lm(w1,w2,w3)\n",
    "    end\n",
    "end\n",
    "\n",
    "\n",
    "unordered_words  = test_bag\n",
    "unordered_markers = [START_MARKER1; START_MARKER2; END_MARKER1; unordered_words...]\n",
    "#Note that this lacks END_MARKER2\n",
    "\n",
    "nodes = State{Int}[] #Named by word index\n",
    "\n",
    "node_indexes_for_1st = Dict{Int, Vector{Int}}()\n",
    "node_indexes_for_2nd = Dict{Int, Vector{Int}}()\n",
    "\n",
    "function add_node!(ii,jj)\n",
    "    push!(nodes, (ii,jj))\n",
    "\n",
    "    node_indexes_for_i_1st = get!(()->Int[], node_indexes_for_1st, ii)\n",
    "    push!(node_indexes_for_i_1st, length(nodes))\n",
    "\n",
    "    node_indexes_for_j_2nd = get!(()->Int[], node_indexes_for_2nd, jj) \n",
    "    push!(node_indexes_for_j_2nd, length(nodes))\n",
    "    #println(\"node:$(length(nodes)) |  $(unordered_markers[ii])($ii), $(unordered_markers[jj])($jj)\")\n",
    "end\n",
    "\n",
    "add_node!(1, 2) #That is START_MARKER1-> STARTMARKER2\n",
    "\n",
    "for ii in 1:length(unordered_markers)\n",
    "    wi = unordered_markers[ii]\n",
    "    if wi==END_MARKER1 || wi==START_MARKER1 continue end \n",
    "        #No node for the transition from END_MARKER1 to anything (not even END_MARKER2 as we do not have to model that as it is a constant prob 1)\n",
    "        #No transition for START_MARKER1 to anyting but start maker 2\n",
    "    for jj in [1:length(unordered_markers)]\n",
    "        if ii==jj continue end\n",
    "        wj = unordered_markers[jj]\n",
    "        if wj==START_MARKER1 || wj==START_MARKER2 continue end\n",
    "        add_node!(ii,jj)\n",
    "    end\n",
    "end\n",
    "\n",
    "@defVar(m, x[1:length(nodes), 1:length(nodes)], Bin)\n",
    "\n",
    "for class_index in 1:length(unordered_markers)\n",
    "    w_class =  unordered_markers[class_index]\n",
    "    if !(w_class==START_MARKER1 || w_class==START_MARKER2)#Not rquired to have either START_MARKER ever occur in second position\n",
    "        @addConstraint(m, sum{x[ii,jj],ii=1:length(nodes), jj=node_indexes_for_2nd[class_index]}==1)\n",
    "    end\n",
    "    \n",
    "    if !(w_class==END_MARKER1)#Not rquired to have END_MARKER ever occur in fist position\n",
    "        @addConstraint(m, sum{x[ii,jj], ii=node_indexes_for_1st[class_index],jj=1:length(nodes)}==1)\n",
    "    end\n",
    "end\n",
    "\n",
    "\n",
    "trans_prob = spzeros(length(nodes), length(nodes))\n",
    "for (from_node_index, from_node) in enumerate(nodes)\n",
    "    w1 = unordered_markers[from_node[1]]\n",
    "    w2 = unordered_markers[from_node[2]]\n",
    "    #If what was in the second state element does not end up in the first state element then it is not allowed.\n",
    "    can_transition_to = Set(get(node_indexes_for_1st, from_node[2], Int[]))\n",
    "        #You can transition to any node which has your second element as its first element\n",
    "    for (to_node_index, to_node) in enumerate(nodes)\n",
    "        if to_node_index in can_transition_to\n",
    "            @assert(from_node[2]==to_node[1])\n",
    "            w3= unordered_markers[to_node[2]]\n",
    "            tp = cached_lm(w1,w2,w3)\n",
    "            if tp>0.0\n",
    "                trans_prob[from_node_index, to_node_index] = tp\n",
    "                continue\n",
    "            else\n",
    "                #Banned as prob zero transitions not allowed\n",
    "                @addConstraint(m, x[from_node_index,to_node_index]==0)\n",
    "            end\n",
    "            \n",
    "        else\n",
    "            #It is not a legal transition\n",
    "            @addConstraint(m, x[from_node_index,to_node_index]==0)\n",
    "        end\n",
    "    end\n",
    "end\n",
    "\n",
    "iis, jjs, tp_values = findnz(trans_prob)\n",
    "@setNLObjective(m, Max, prod{max((x[i,j]-1)^2, trans_prob[i,j]), i=iis, j=jjs})\n",
    "#Note: max((x[i,j]-1)^2, trans_prob[i,j]) is trick for: x[i,j] ? trans_prob[i,j] : 1\n",
    "toc()#34 seconds\n",
    "@printval length(unordered_markers)\n",
    "@printval length(m.linconstr)\n",
    "trans_prob\n"
   ]
  },
  {
   "cell_type": "code",
   "execution_count": null,
   "metadata": {
    "collapsed": false
   },
   "outputs": [],
   "source": [
    "solve(m)\n",
    "println(\"Objective value: \", getObjectiveValue(m))\n",
    "x_val = getValue(x)\n",
    "println(\"x = \", x_val)\n",
    "x_iis,x_jjs, _  = findnz(x_val)\n",
    "zip(x_iis,x_jjs) |> collect"
   ]
  },
  {
   "cell_type": "code",
   "execution_count": null,
   "metadata": {
    "collapsed": true
   },
   "outputs": [],
   "source": []
  },
  {
   "cell_type": "code",
   "execution_count": null,
   "metadata": {
    "collapsed": false
   },
   "outputs": [],
   "source": [
    "function get_prod(x, iis, jjs)\n",
    "    net = 1.0\n",
    "    for i in 1:size(x,1) \n",
    "        for j in 1:size(x,2)\n",
    "            println(i,\",\", j, \" =\", x[i,j], \" \", trans_prob[i,j])\n",
    "            net*=max((x[i,j]-1)^2, trans_prob[i,j])\n",
    "        end\n",
    "    end\n",
    "    net\n",
    "end\n",
    "values = falses(size(x))\n",
    "values[1,3] = 1\n",
    "values[3,6] = 1\n",
    "values[6,7] = 1\n",
    "println(\"----------\\n\")\n",
    "get_prod(values, iis,jjs)\n"
   ]
  },
  {
   "cell_type": "code",
   "execution_count": null,
   "metadata": {
    "collapsed": true
   },
   "outputs": [],
   "source": []
  },
  {
   "cell_type": "code",
   "execution_count": null,
   "metadata": {
    "collapsed": true
   },
   "outputs": [],
   "source": []
  },
  {
   "cell_type": "code",
   "execution_count": null,
   "metadata": {
    "collapsed": false
   },
   "outputs": [],
   "source": [
    "#Prepare Oracle Results -- no regen\n",
    "test_set = load(\"results/data/brown_glove300.jld\")[\"corpus\"]\n",
    "oracle_res = pmap(test_set, err_stop=true) do target_sent\n",
    "    score=0.0\n",
    "    sol = shuffle(target_sent)\n",
    "    (target_sent, sol, score)\n",
    "end\n",
    "@save \"results/bags/oracle_res.jld\" oracle_res"
   ]
  },
  {
   "cell_type": "code",
   "execution_count": null,
   "metadata": {
    "collapsed": false
   },
   "outputs": [],
   "source": [
    "@everywhere const len_cap = 18\n",
    "@everywhere raw_bow_res = load(\"results/bags/oracle_res.jld\", \"oracle_res\")\n",
    "\n",
    "function process_fold(fold_ii)\n",
    "    test_bows, test_ground_order, train = fold_split(fold_ii,raw_bow_res)\n",
    "    \n",
    "    #Avoid \"serialising a pointer\" by getting each process to create their own copy of Language model\n",
    "    #This also means that the language models are independent (as under the hood they are not readonly, readomg them changes them as they have cache)\n",
    "    r_language_models =Dict([pid=>remotecall(pid, train_language_model, train) for pid in workers()])\n",
    "    pmap(test_ground_order, test_bows, err_stop=true) do ground_order, bow\n",
    "        lm = fetch(r_language_models[myid()])\n",
    "        generated_order, prob = if length(ground_order)<=len_cap\n",
    "            best_order(bow, lm; beam_width=5)\n",
    "        else\n",
    "            (bow, NaN)\n",
    "        end\n",
    "        (ground_order, generated_order, prob)\n",
    "    end\n",
    "end\n",
    "\n",
    "jldopen(\"results/ordered/oracle_orderedv2.jld\", \"w\") do file\n",
    "    for fold_ii in 1:length(fold_indexes)\n",
    "        res = process_fold(fold_ii)\n",
    "        write(file, \"fold_$(fold_ii)\", res)\n",
    "    end\n",
    "end\n"
   ]
  },
  {
   "cell_type": "code",
   "execution_count": null,
   "metadata": {
    "collapsed": true
   },
   "outputs": [],
   "source": [
    "1+1"
   ]
  },
  {
   "cell_type": "code",
   "execution_count": null,
   "metadata": {
    "collapsed": true
   },
   "outputs": [],
   "source": []
  },
  {
   "cell_type": "code",
   "execution_count": null,
   "metadata": {
    "collapsed": false,
    "scrolled": true
   },
   "outputs": [],
   "source": []
  },
  {
   "cell_type": "code",
   "execution_count": null,
   "metadata": {
    "collapsed": false
   },
   "outputs": [],
   "source": []
  },
  {
   "cell_type": "code",
   "execution_count": null,
   "metadata": {
    "collapsed": false
   },
   "outputs": [],
   "source": []
  },
  {
   "cell_type": "code",
   "execution_count": null,
   "metadata": {
    "collapsed": true
   },
   "outputs": [],
   "source": [
    "ordered_res = map(bow_res) do rt\n",
    "    ground_order, bow, score = rt\n",
    "    generated_order, prob = best_order(bow, lm; beam_width=5)\n",
    "    println(generated_order)\n",
    "    (ground_order, generated_order, prob)\n",
    "end"
   ]
  },
  {
   "cell_type": "code",
   "execution_count": null,
   "metadata": {
    "collapsed": false
   },
   "outputs": [],
   "source": []
  },
  {
   "cell_type": "code",
   "execution_count": null,
   "metadata": {
    "collapsed": false
   },
   "outputs": [],
   "source": [
    "test_bows, test_ground_order, train = fold_split(2,raw_bow_res)\n",
    "language_model = train_language_model(train)\n",
    "\n"
   ]
  },
  {
   "cell_type": "code",
   "execution_count": null,
   "metadata": {
    "collapsed": false
   },
   "outputs": [],
   "source": [
    "@time ord, prob = best_order(test_bows[4110], language_model; beam_width=5)"
   ]
  },
  {
   "cell_type": "code",
   "execution_count": null,
   "metadata": {
    "collapsed": true
   },
   "outputs": [],
   "source": [
    "res = pmap(test_bow, err_stop=true) do bow\n",
    "    order, prob = best_order(bow, language_model; beam_width=5)\n",
    "    (target_sent, sol, score)\n",
    "end\n"
   ]
  },
  {
   "cell_type": "code",
   "execution_count": null,
   "metadata": {
    "collapsed": false
   },
   "outputs": [],
   "source": [
    "5^20"
   ]
  },
  {
   "cell_type": "code",
   "execution_count": null,
   "metadata": {
    "collapsed": false,
    "scrolled": true
   },
   "outputs": [],
   "source": [
    "@pipe test |> map(x->length(x)==50, _) |> find"
   ]
  },
  {
   "cell_type": "code",
   "execution_count": null,
   "metadata": {
    "collapsed": false
   },
   "outputs": [],
   "source": [
    "@time best_order(test[60], language_model, beam_width=5)"
   ]
  },
  {
   "cell_type": "code",
   "execution_count": null,
   "metadata": {
    "collapsed": false
   },
   "outputs": [],
   "source": [
    "ground_sents[16]"
   ]
  },
  {
   "cell_type": "code",
   "execution_count": null,
   "metadata": {
    "collapsed": false
   },
   "outputs": [],
   "source": [
    "training_trigrams = [nltk.trigrams(sent)|>collect for sent in train]\n"
   ]
  },
  {
   "cell_type": "code",
   "execution_count": null,
   "metadata": {
    "collapsed": false
   },
   "outputs": [],
   "source": []
  },
  {
   "cell_type": "code",
   "execution_count": null,
   "metadata": {
    "collapsed": false,
    "scrolled": true
   },
   "outputs": [],
   "source": [
    "map(examples) do unordered_words\n",
    "    order(unordered_words, ASCIIString[])\n",
    "    end"
   ]
  },
  {
   "cell_type": "code",
   "execution_count": null,
   "metadata": {
    "collapsed": false,
    "scrolled": true
   },
   "outputs": [],
   "source": [
    "short_cases = Bool[length(ws) <=20 for ws in unordered_output]\n",
    "\n",
    "true_ordered_sents = test_set[short_cases]\n",
    "ordered_sents_and_probs = pmap(unordered_output[short_cases]) do unordered_words\n",
    "    order(unordered_words, zeroed_words)\n",
    "end"
   ]
  },
  {
   "cell_type": "code",
   "execution_count": null,
   "metadata": {
    "collapsed": false,
    "scrolled": true
   },
   "outputs": [],
   "source": [
    "ordered_sents = map(op->op[1], ordered_sents_and_probs, be)"
   ]
  },
  {
   "cell_type": "code",
   "execution_count": null,
   "metadata": {
    "collapsed": false
   },
   "outputs": [],
   "source": []
  },
  {
   "cell_type": "code",
   "execution_count": null,
   "metadata": {
    "collapsed": false,
    "scrolled": true
   },
   "outputs": [],
   "source": [
    "perfect_matches = Bool[]  \n",
    "for ii in 1:length(ordered_sents)\n",
    "    ordered_words = ordered_sents[ii]\n",
    "    actual_words = true_ordered_sents[ii]\n",
    "    \n",
    "    match = ordered_words == actual_words\n",
    "    push!(perfect_matches, match)\n",
    "    #println(\"$ii - $match\")\n",
    "end\n",
    "mean(perfect_matches)"
   ]
  },
  {
   "cell_type": "code",
   "execution_count": null,
   "metadata": {
    "collapsed": false
   },
   "outputs": [],
   "source": [
    "@pyimport nltk\n",
    "@pyimport nltk.translate.bleu_score as nltk_bleu\n",
    "\n",
    "function bleu_score(candidate, reference)\n",
    "    reference = reference |> collect\n",
    "    candidate = candidate |> collect\n",
    "    \n",
    "    if reference==candidate #Perfect Match\n",
    "        1.0\n",
    "    else\n",
    "        weights = [1,1,1,1]/4\n",
    "        nltk_bleu.bleu(Any[reference],candidate, weights)\n",
    "    end\n",
    "end"
   ]
  },
  {
   "cell_type": "code",
   "execution_count": null,
   "metadata": {
    "collapsed": false
   },
   "outputs": [],
   "source": [
    "map(bleu_score, ordered_sents,true_ordered_sents) |> mean\n"
   ]
  },
  {
   "cell_type": "code",
   "execution_count": null,
   "metadata": {
    "collapsed": false
   },
   "outputs": [],
   "source": [
    "bleu_score(true_ordered_sents[3], true_ordered_sents[3])"
   ]
  },
  {
   "cell_type": "code",
   "execution_count": null,
   "metadata": {
    "collapsed": true
   },
   "outputs": [],
   "source": []
  },
  {
   "cell_type": "code",
   "execution_count": null,
   "metadata": {
    "collapsed": false
   },
   "outputs": [],
   "source": [
    "true_ordered_sents"
   ]
  },
  {
   "cell_type": "code",
   "execution_count": null,
   "metadata": {
    "collapsed": false
   },
   "outputs": [],
   "source": [
    "ordered_sents"
   ]
  },
  {
   "cell_type": "code",
   "execution_count": null,
   "metadata": {
    "collapsed": false
   },
   "outputs": [],
   "source": [
    "ordered_sents[50]"
   ]
  },
  {
   "cell_type": "code",
   "execution_count": null,
   "metadata": {
    "collapsed": false
   },
   "outputs": [],
   "source": [
    "unordered_output[short_cases][eval_cases][50]"
   ]
  },
  {
   "cell_type": "code",
   "execution_count": null,
   "metadata": {
    "collapsed": false
   },
   "outputs": [],
   "source": [
    "true_ordered_sents[50]"
   ]
  },
  {
   "cell_type": "code",
   "execution_count": null,
   "metadata": {
    "collapsed": false
   },
   "outputs": [],
   "source": [
    "#x= [\"A\", \"B\", \"C\", \"D\"]\n",
    "#y= UTF8String[\"A\", \"B\", \"C\", \"D\"]\n",
    "x = true_ordered_sents[10]\n",
    "y=ordered_sents[10] |> collect\n",
    "pycall(nltk_bleu.bleu, PyAny, Any[x], y, Any[0.25, 0.25, 0.25, 0.25])"
   ]
  },
  {
   "cell_type": "code",
   "execution_count": null,
   "metadata": {
    "collapsed": false
   },
   "outputs": [],
   "source": [
    "Any[true_ordered_sents[1]]\n"
   ]
  },
  {
   "cell_type": "code",
   "execution_count": null,
   "metadata": {
    "collapsed": false
   },
   "outputs": [],
   "source": []
  },
  {
   "cell_type": "code",
   "execution_count": null,
   "metadata": {
    "collapsed": false
   },
   "outputs": [],
   "source": []
  },
  {
   "cell_type": "code",
   "execution_count": null,
   "metadata": {
    "collapsed": false
   },
   "outputs": [],
   "source": []
  },
  {
   "cell_type": "code",
   "execution_count": null,
   "metadata": {
    "collapsed": false
   },
   "outputs": [],
   "source": [
    "nltk_bleu._modified_precision(Any[reference1, reference2, reference3],candidate1, 1)"
   ]
  },
  {
   "cell_type": "code",
   "execution_count": null,
   "metadata": {
    "collapsed": false
   },
   "outputs": [],
   "source": [
    "@pyimport pdb"
   ]
  },
  {
   "cell_type": "code",
   "execution_count": null,
   "metadata": {
    "collapsed": false
   },
   "outputs": [],
   "source": [
    "pdb.runcall(nltk_bleu._modified_precision, [reference1, reference2, reference3],candidate1, 1)"
   ]
  },
  {
   "cell_type": "code",
   "execution_count": null,
   "metadata": {
    "collapsed": true
   },
   "outputs": [],
   "source": []
  },
  {
   "cell_type": "code",
   "execution_count": null,
   "metadata": {
    "collapsed": false
   },
   "outputs": [],
   "source": [
    "# I think I have to reimplement BLEU in julia as for some reason it does not play nice with PyCall\n",
    "# Can basically port http://www.nltk.org/_modules/nltk/align/bleu_score.html#bleu"
   ]
  },
  {
   "cell_type": "code",
   "execution_count": null,
   "metadata": {
    "collapsed": false
   },
   "outputs": [],
   "source": [
    "pycall(nltk_bleu.bleu, Int, candidate1, [reference1], weights)"
   ]
  },
  {
   "cell_type": "code",
   "execution_count": null,
   "metadata": {
    "collapsed": false
   },
   "outputs": [],
   "source": [
    "@pyimport nltk.util as nltk_util\n",
    "nltk_util.ngrams(candidate1,2) |> py_collections.Counter"
   ]
  },
  {
   "cell_type": "code",
   "execution_count": null,
   "metadata": {
    "collapsed": true
   },
   "outputs": [],
   "source": [
    "@pyimport collections as py_collections"
   ]
  },
  {
   "cell_type": "code",
   "execution_count": null,
   "metadata": {
    "collapsed": false
   },
   "outputs": [],
   "source": [
    "@pyimport nltk.util as nltk_util\n",
    "ngs = nltk_util.ngrams(candidate1,2)\n",
    "pycall(py_collections.Counter, PyObject, ngs)"
   ]
  },
  {
   "cell_type": "code",
   "execution_count": null,
   "metadata": {
    "collapsed": false
   },
   "outputs": [],
   "source": [
    "import nltk"
   ]
  },
  {
   "cell_type": "code",
   "execution_count": null,
   "metadata": {
    "collapsed": true
   },
   "outputs": [],
   "source": []
  }
 ],
 "metadata": {
  "kernelspec": {
   "display_name": "Julia 0.5.0-dev",
   "language": "julia",
   "name": "julia-0.5"
  },
  "language_info": {
   "file_extension": ".jl",
   "mimetype": "application/julia",
   "name": "julia",
   "version": "0.5.0"
  }
 },
 "nbformat": 4,
 "nbformat_minor": 0
}
