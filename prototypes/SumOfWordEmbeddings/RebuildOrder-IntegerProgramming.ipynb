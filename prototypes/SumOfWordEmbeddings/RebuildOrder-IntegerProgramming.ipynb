{
 "cells": [
  {
   "cell_type": "code",
   "execution_count": null,
   "metadata": {
    "collapsed": false
   },
   "outputs": [],
   "source": [
    "addprocs(11)"
   ]
  },
  {
   "cell_type": "code",
   "execution_count": 1,
   "metadata": {
    "collapsed": false
   },
   "outputs": [
    {
     "data": {
      "text/plain": [
       "4-element Array{ByteString,1}:\n",
       " \"/home/ubuntu/build/julia-master/usr/local/share/julia/site/v0.5\"\n",
       " \"/home/ubuntu/build/julia-master/usr/share/julia/site/v0.5\"      \n",
       " \".\"                                                              \n",
       " \"../util/\"                                                       "
      ]
     },
     "execution_count": 1,
     "metadata": {},
     "output_type": "execute_result"
    }
   ],
   "source": [
    "# import FunctionalCollections\n",
    "import Iterators\n",
    "import Pipe\n",
    "import Compat\n",
    "import JLD\n",
    "@everywhere using FunctionalCollections\n",
    "@everywhere using Iterators\n",
    "@everywhere using Pipe\n",
    "@everywhere using Compat\n",
    "@everywhere using JLD\n",
    "\n",
    "macro printval(ee)\n",
    "    ee_expr = @sprintf \"%s\" string(ee)\n",
    "    esc(:(println($ee_expr,\" = \", $ee)))\n",
    "end\n",
    "\n",
    "macro pz(ee)\n",
    "    ee_expr = @sprintf \"%s\" string(ee)\n",
    "    esc(:(println($ee_expr,\"\\t\\t\",typeof($ee), \"\\t\", size($ee))))\n",
    "end\n",
    "\n",
    "push!(LOAD_PATH, \".\")\n",
    "push!(LOAD_PATH, \"../util/\")"
   ]
  },
  {
   "cell_type": "code",
   "execution_count": 2,
   "metadata": {
    "collapsed": false
   },
   "outputs": [],
   "source": [
    "@everywhere fold_indexes=load(\"brown_glove_folds.jld\",\"fold_indexes\")\n",
    "\n",
    "@everywhere function fold_split(fold_ii, raw_bow_res)\n",
    "    ground_sents = Vector{ASCIIString}[rset[1] for rset in raw_bow_res]\n",
    "    reconstructed_bows = Vector{ASCIIString}[rset[2] for rset in raw_bow_res]\n",
    "    \n",
    "    test_indexes = fold_indexes[fold_ii]\n",
    "    training_indexes = trues(ground_sents)\n",
    "    training_indexes[test_indexes]=false\n",
    "\n",
    "    test_unordered_sents = reconstructed_bows[test_indexes]\n",
    "    test_ground = ground_sents[test_indexes]\n",
    "    training_sents = ground_sents[training_indexes]\n",
    "    test_unordered_sents,test_ground, training_sents\n",
    "end\n",
    "    "
   ]
  },
  {
   "cell_type": "code",
   "execution_count": 3,
   "metadata": {
    "collapsed": false,
    "scrolled": true
   },
   "outputs": [
    {
     "name": "stderr",
     "output_type": "stream",
     "text": [
      "/usr/local/lib/python2.7/dist-packages/nltk/app/__init__.py:29: UserWarning: nltk.app package not loaded (please install Tkinter library).\n",
      "  warnings.warn(\"nltk.app package not loaded \"\n",
      "/usr/local/lib/python2.7/dist-packages/nltk/draw/__init__.py:15: UserWarning: nltk.draw package not loaded (please install Tkinter library).\n",
      "  warnings.warn(\"nltk.draw package not loaded \"\n"
     ]
    }
   ],
   "source": [
    "@everywhere typealias S ASCIIString\n",
    "@everywhere typealias State{T} Tuple{T,T}\n",
    "\n",
    "import PyCall\n",
    "@everywhere using PyCall\n",
    "#http://www.nltk.org/howto/probability.html\n",
    "@everywhere @pyimport nltk\n",
    "@everywhere @pyimport nltk.probability as nltk_prob\n",
    "@everywhere const START_MARKER1 = \"**START1**\"\n",
    "@everywhere const START_MARKER2 = \"**START2**\"\n",
    "@everywhere const END_MARKER1 = \"**END1**\"\n",
    "@everywhere const END_MARKER2 = \"**END2**\"\n",
    "\n",
    "@everywhere function train_language_model{T}(train_corpus::Vector{Vector{T}}; loglikelyhood::Bool=false)\n",
    "    function py_collect(xs::PyObject)\n",
    "        xst = []\n",
    "        for x in xs\n",
    "            push!(xst,x)\n",
    "        end\n",
    "        xst\n",
    "    end\n",
    "    function trigram_buffer(sent)\n",
    "        [START_MARKER1, START_MARKER2, sent..., END_MARKER1, END_MARKER2] \n",
    "    end\n",
    "\n",
    "    training_trigrams = vcat([py_collect(nltk.trigrams(trigram_buffer(sent))) for sent in train_corpus]...)\n",
    "    kn_prob_dist = nltk_prob.KneserNeyProbDist(pycall(nltk_prob.FreqDist, PyObject, training_trigrams))\n",
    "    \n",
    "    function trigram_model(given1::S, given2::S, event::S)\n",
    "        prob = kn_prob_dist[:prob]((given1, given2, event))\n",
    "        loglikelyhood ? log(prob) : prob\n",
    "    end\n",
    "end"
   ]
  },
  {
   "cell_type": "code",
   "execution_count": 4,
   "metadata": {
    "collapsed": false
   },
   "outputs": [
    {
     "data": {
      "text/plain": [
       "trigram_model (generic function with 1 method)"
      ]
     },
     "execution_count": 4,
     "metadata": {},
     "output_type": "execute_result"
    }
   ],
   "source": [
    "@pyimport nltk.corpus as nltk_corpus\n",
    "corpus_reader=nltk_corpus.brown\n",
    "corpus = Vector{ASCIIString}[[lowercase(word) for word in sent] for sent in (corpus_reader[:sents]()|> collect)]\n",
    "const log_lm = train_language_model(corpus, loglikelyhood=true)"
   ]
  },
  {
   "cell_type": "code",
   "execution_count": 24,
   "metadata": {
    "collapsed": false
   },
   "outputs": [
    {
     "data": {
      "text/plain": [
       "Set([(2,2)])"
      ]
     },
     "execution_count": 24,
     "metadata": {},
     "output_type": "execute_result"
    }
   ],
   "source": [
    "a=Set{Tuple{Int,Int}}()\n",
    "push!(a,(2,2))\n",
    "a"
   ]
  },
  {
   "cell_type": "code",
   "execution_count": 268,
   "metadata": {
    "collapsed": false
   },
   "outputs": [
    {
     "data": {
      "text/plain": [
       "9-element Array{ASCIIString,1}:\n",
       " \".\"     \n",
       " \"the\"   \n",
       " \"is\"    \n",
       " \"this\"  \n",
       " \"of\"    \n",
       " \"a\"     \n",
       " \"fine\"  \n",
       " \"comedy\"\n",
       " \"basis\" "
      ]
     },
     "execution_count": 268,
     "metadata": {},
     "output_type": "execute_result"
    }
   ],
   "source": [
    "\n",
    "#test_bag =  shuffle([\"this\",\"is\",\"the\" ,\"basis\",\"of\",\"a\" ,\"comedy\" ,\"of\",\"manners\",\"first\",\"performed\",\"in\",\"1892\", \".\"])\n",
    "test_bag =  shuffle([\"this\",\"is\",\"the\" ,\"basis\",\"of\",\"a\",\"fine\",\"comedy\", \".\"])\n",
    "#test_bag =  shuffle([\"this\",\"is\",\"the\" ,\"basis\",\"of\",\"a\" ,\"comedy\", \".\"])\n",
    "#test_bag =  shuffle([\"it\", \"is\", \"so\", \"very\", \"good\", \".\"])\n",
    "#test_bag =  shuffle([\"it\", \"is\", \"very\", \"good\", \".\"])\n",
    "#test_bag =  shuffle([\"it\", \"is\", \"good\", \".\"])\n",
    "#test_bag =  [\"no\", \"way\", \".\"]\n",
    "#test_bag =  shuffle([\"no\", \".\"])\n",
    "#@time best_order(test_bag, lm, mem_limit=1000)"
   ]
  },
  {
   "cell_type": "code",
   "execution_count": 314,
   "metadata": {
    "collapsed": false
   },
   "outputs": [
    {
     "data": {
      "text/plain": [
       "2"
      ]
     },
     "execution_count": 314,
     "metadata": {},
     "output_type": "execute_result"
    }
   ],
   "source": [
    "const START_NODE_INDEX = 1\n",
    "const END_NODE_INDEX = 2"
   ]
  },
  {
   "cell_type": "code",
   "execution_count": 386,
   "metadata": {
    "collapsed": false
   },
   "outputs": [
    {
     "name": "stdout",
     "output_type": "stream",
     "text": [
      "elapsed time: 0."
     ]
    },
    {
     "data": {
      "text/plain": [
       "103x103 sparse matrix with 219 Float64 entries:\n",
       "\t[23 ,   2]  =  -1.51989e-5\n",
       "\t[32 ,   2]  =  -0.0870114\n",
       "\t[50 ,   2]  =  -1.38629\n",
       "\t[68 ,   2]  =  -0.133531\n",
       "\t[1  ,   4]  =  -6.98176\n",
       "\t[1  ,   5]  =  -2.12384\n",
       "\t[1  ,   6]  =  -6.80966\n",
       "\t[1  ,   7]  =  -3.92215\n",
       "\t[1  ,   8]  =  -5.9053\n",
       "\t[1  ,   9]  =  -3.92479\n",
       "\t⋮\n",
       "\t[66 ,  91]  =  -3.09104\n",
       "\t[75 ,  91]  =  -3.09104\n",
       "\t[40 ,  96]  =  -4.4368\n",
       "\t[58 ,  96]  =  -1.74567\n",
       "\t[76 ,  96]  =  -2.71702\n",
       "\t[40 ,  98]  =  -8.04772\n",
       "\t[58 ,  98]  =  -5.35659\n",
       "\t[76 ,  98]  =  -6.32794\n",
       "\t[40 , 100]  =  -0.10619\n",
       "\t[58 , 100]  =  -3.97029\n",
       "\t[76 , 100]  =  -4.94164"
      ]
     },
     "execution_count": 386,
     "metadata": {},
     "output_type": "execute_result"
    },
    {
     "name": "stdout",
     "output_type": "stream",
     "text": [
      "740586961 seconds\n",
      "length(unordered_markers) = 13\n",
      "length(m.linconstr) = 10513\n"
     ]
    }
   ],
   "source": [
    "using JuMP\n",
    "#using CoinOptServices\n",
    "#using AmplNLWriter\n",
    "using Cbc\n",
    "tic()\n",
    "m=Model(solver=CbcSolver())#BonminNLSolver())\n",
    "number_of_constraints=0\n",
    "\n",
    "\n",
    "unordered_words  = test_bag\n",
    "unordered_markers = [START_MARKER1; START_MARKER2; END_MARKER1; END_MARKER2; unordered_words...]\n",
    "#Note that this lacks END_MARKER2\n",
    "\n",
    "nodes = State{Int}[] #Named by word index\n",
    "\n",
    "node_indexes_for_1st = Dict{Int, Vector{Int}}()\n",
    "node_indexes_for_2nd = Dict{Int, Vector{Int}}()\n",
    "\n",
    "function add_node!(ii,jj)\n",
    "    push!(nodes, (ii,jj))\n",
    "\n",
    "    node_indexes_for_i_1st = get!(()->Int[], node_indexes_for_1st, ii)\n",
    "    push!(node_indexes_for_i_1st, length(nodes))\n",
    "\n",
    "    node_indexes_for_j_2nd = get!(()->Int[], node_indexes_for_2nd, jj) \n",
    "    push!(node_indexes_for_j_2nd, length(nodes))\n",
    "    #println(\"node:$(length(nodes)) |  $(unordered_markers[ii])($ii), $(unordered_markers[jj])($jj)\")\n",
    "end\n",
    "\n",
    "add_node!(1, 2) #That is START_MARKER1-> START_MARKER2\n",
    "add_node!(3, 4) #That is END_MARKER1-> END_MARKER2\n",
    "\n",
    "for ii in 1:length(unordered_markers)\n",
    "    wi = unordered_markers[ii]\n",
    "    if wi∈(END_MARKER1,START_MARKER1) continue end  #Covered these\n",
    "        \n",
    "    for jj in [1:length(unordered_markers)]\n",
    "        if ii==jj continue end\n",
    "        wj = unordered_markers[jj]\n",
    "        if wj∉(START_MARKER1,START_MARKER2,END_MARKER2)\n",
    "            #but wj can be  END_MARKER1\n",
    "            add_node!(ii,jj)\n",
    "        end\n",
    "    end\n",
    "end\n",
    "\n",
    "@defVar(m, x[1:length(nodes), 1:length(nodes)], Bin)\n",
    "\n",
    "for (cc, center_node) in enumerate(nodes)\n",
    "    if cc ∉ (START_NODE_INDEX, END_NODE_INDEX) #the beginning and end done have this requiement\n",
    "        #Everything that enters this node, must leave this node\n",
    "        @addConstraint(m, sum{x[ii,cc], ii=1:length(nodes)} == sum{x[cc,jj], jj=1:length(nodes)})\n",
    "    end\n",
    "end\n",
    "\n",
    "rules = Dict{ASCIIString,Set{State{Int}}}()\n",
    "for class_index in 1:length(unordered_markers)\n",
    "    w_class =  unordered_markers[class_index]\n",
    "    if w_class∉(START_MARKER1,START_MARKER2)\n",
    "        #Not rquired to make a transition so that START_MARKER1 or 2 ever occur in second position\n",
    "        jjs = node_indexes_for_2nd[class_index]\n",
    "        @addConstraint(m, sum{x[ii,jj],ii=1:length(nodes), jj=jjs}==1)\n",
    "        rules[\"*\"*w_class]=Set(product(1:length(nodes),jjs))\n",
    "    end\n",
    "    \n",
    "    if w_class∉(END_MARKER1,END_MARKER2)\n",
    "        #Not rquired to make a transition so that END_MARKER1 or 2 ever occur in second position\n",
    "        iis=node_indexes_for_1st[class_index]\n",
    "        @addConstraint(m, sum{x[ii,jj], ii=iis,jj=1:length(nodes)}==1)\n",
    "        rules[w_class*\"*\"]=Set(product(iis,1:length(nodes)))\n",
    "    end\n",
    "end\n",
    "\n",
    "banned_trans_prob = Set{State{Int}}()\n",
    "banned_trans_state = Set{State{Int}}()\n",
    "log_trans_prob = spzeros(length(nodes), length(nodes))\n",
    "for (from_node_index, from_node) in enumerate(nodes)\n",
    "    w1 = unordered_markers[from_node[1]]\n",
    "    w2 = unordered_markers[from_node[2]]\n",
    "    #If what was in the second state element does not end up in the first state element then it is not allowed.\n",
    "    can_transition_to = Set(get(node_indexes_for_1st, from_node[2], Int[]))\n",
    "        #You can transition to any node which has your second element as its first element\n",
    "    for (to_node_index, to_node) in enumerate(nodes)\n",
    "        if to_node_index in can_transition_to\n",
    "            @assert(from_node[2]==to_node[1])\n",
    "            w3= unordered_markers[to_node[2]]\n",
    "            log_tp = log_lm(w1,w2,w3)\n",
    "            if log_tp>-Inf\n",
    "                log_trans_prob[from_node_index, to_node_index] = log_tp\n",
    "                continue\n",
    "            else\n",
    "                #Banned as prob zero transitions not allowed\n",
    "                @addConstraint(m, x[from_node_index,to_node_index]==0)\n",
    "                push!(banned_trans_prob, (from_node_index,to_node_index))\n",
    "            end\n",
    "            \n",
    "        else\n",
    "            #It is not a legal transition\n",
    "            @addConstraint(m, x[from_node_index,to_node_index]==0)\n",
    "            push!(banned_trans_state, (from_node_index,to_node_index))\n",
    "        end\n",
    "    end\n",
    "end\n",
    "\n",
    "\n",
    "\n",
    "#PremOPt: #iis, jjs, tp_values = findnz(log_trans_prob) #Doesn't remove all of them, since we iterate over the cartesiean product\n",
    "\n",
    "#new Linear way using logprobs\n",
    "@setObjective(m, Max, sum{log_trans_prob[i,j]*x[i,j], i=1:length(nodes), j=1:length(nodes)})\n",
    "\n",
    "toc()#34 seconds\n",
    "@printval length(unordered_markers)\n",
    "@printval length(m.linconstr)\n",
    "log_trans_prob\n"
   ]
  },
  {
   "cell_type": "code",
   "execution_count": 388,
   "metadata": {
    "collapsed": false
   },
   "outputs": [
    {
     "data": {
      "text/plain": [
       "1-element Array{Any,1}:\n",
       " JuMP.LazyCallback(eleminate_subtours,false)"
      ]
     },
     "execution_count": 388,
     "metadata": {},
     "output_type": "execute_result"
    }
   ],
   "source": [
    "\"\"\"\n",
    "returns the a vector of sets of node indexes, each set is a subtour\n",
    "The First subtour returned is the nonconnected one -- the path\n",
    "\"\"\"\n",
    "function get_subtours(x)\n",
    "    x_val = getValue(x)\n",
    "    x_iis,x_jjs, _  = findnz(x_val)\n",
    "    nodes_chain = Dict([ii=>jj for (ii,jj) in zip(x_iis,x_jjs)])\n",
    "\n",
    "    subtours = Set{Int}[]\n",
    "    ii = START_NODE_INDEX\n",
    "    push!(subtours, Set(END_NODE_INDEX)) #The END Node is always in the same subtour as the start node\n",
    "    while(true)\n",
    "        while(true) #Cycle through current subtour\n",
    "            push!(subtours[end],ii) \n",
    "            jj = nodes_chain[ii]\n",
    "            delete!(nodes_chain,ii)\n",
    "            if jj∈subtours[end] \n",
    "                break \n",
    "            end\n",
    "            ii=jj\n",
    "        end   \n",
    "\n",
    "        if length(nodes_chain)>0\n",
    "            ii = first(keys(nodes_chain)) #start new subtour\n",
    "            push!(subtours,Set{Int}())\n",
    "        else\n",
    "            break\n",
    "        end\n",
    "    end\n",
    "    subtours\n",
    "end\n",
    "\n",
    "function get_hyperclass(subtour)\n",
    "    tour_hyper_class_nodes=Set{Int}()\n",
    "    for ii in subtour\n",
    "        w1,w2 = nodes[ii]\n",
    "        #println(unordered_markers[w1])\n",
    "        class_nodes = node_indexes_for_1st[w1]\n",
    "        union!(tour_hyper_class_nodes,class_nodes) \n",
    "    end\n",
    "    tour_hyper_class_nodes\n",
    "end\n",
    "\n",
    "\n",
    "\n",
    "function eleminate_subtours(callback_model)\n",
    "    subtours = get_subtours(x)\n",
    "    if length(subtours)==1\n",
    "        #no subtour to eleminate\n",
    "        return\n",
    "    end\n",
    "    subtour_hyperclasses = @pipe subtours |> map(get_hyperclass,_)\n",
    "    \n",
    "    #Unless this is the First subtour's hyperclass, then there must be away into this hyperclass from another (outside in general)\n",
    "    for subtour_hyperclass in subtour_hyperclasses[2:end]\n",
    "        arcs_into_subtour = AffExpr()\n",
    "        for jj in subtour_hyperclass\n",
    "            for ii in 1:length(nodes)\n",
    "                if jj∉subtour_hyperclass\n",
    "                    arcs_into_subtour += x[ii,jj]\n",
    "                end\n",
    "            end\n",
    "        end\n",
    "        @addLazyConstraint(callback_model, arcs_into_subtour >= 1)\n",
    "    end\n",
    "    \n",
    "    #Also the First subtour must go somewhere \n",
    "    arcs_outof_subtour = AffExpr()\n",
    "    for ii in subtour_hyperclass[1]\n",
    "        for jj in 1:length(nodes)\n",
    "            if jj∉subtour_hyperclass\n",
    "                arcs_into_subtour += x[ii,jj]\n",
    "            end\n",
    "        end\n",
    "    end\n",
    "    @addLazyConstraint(callback_model, arcs_outof_subtour >=1)\n",
    "\n",
    "end\n",
    "\n",
    "addLazyCallback(m, eleminate_subtours)"
   ]
  },
  {
   "cell_type": "code",
   "execution_count": 389,
   "metadata": {
    "collapsed": false,
    "scrolled": true
   },
   "outputs": [
    {
     "ename": "LoadError",
     "evalue": "LoadError: MethodError: `setlazycallback!` has no method matching setlazycallback!(::Cbc.CbcMathProgSolverInterface.CbcMathProgModel, ::Function)\nwhile loading In[389], in expression starting on line 155",
     "output_type": "error",
     "traceback": [
      "LoadError: MethodError: `setlazycallback!` has no method matching setlazycallback!(::Cbc.CbcMathProgSolverInterface.CbcMathProgModel, ::Function)\nwhile loading In[389], in expression starting on line 155",
      "",
      " in attach_callbacks at /home/ubuntu/.julia/v0.5/JuMP/src/callbacks.jl:78",
      " in registercallbacks at /home/ubuntu/.julia/v0.5/JuMP/src/callbacks.jl:151",
      " in buildInternalModel at /home/ubuntu/.julia/v0.5/JuMP/src/solvers.jl:274",
      " in solve at /home/ubuntu/.julia/v0.5/JuMP/src/solvers.jl:81",
      " [inlined code] from essentials.jl:114"
     ]
    }
   ],
   "source": [
    "@time solve(m)\n",
    "println(\"Objective value: \", getObjectiveValue(m))\n",
    "println(\"Prob: \", e^getObjectiveValue(m))\n",
    "x_val = getValue(x)\n",
    "#println(\"x = \", x_val)\n",
    "x_iis,x_jjs, _  = findnz(x_val)\n",
    "zip(x_iis,x_jjs) |> collect |> println"
   ]
  },
  {
   "cell_type": "code",
   "execution_count": null,
   "metadata": {
    "collapsed": false
   },
   "outputs": [],
   "source": [
    "Pkg.add(\"GLPKMathProgInterface\")"
   ]
  },
  {
   "cell_type": "code",
   "execution_count": 329,
   "metadata": {
    "collapsed": false
   },
   "outputs": [
    {
     "name": "stdout",
     "output_type": "stream",
     "text": [
      "1 **START1** **START2**\n",
      "7 **START2** this\n",
      "53 this is\n",
      "43 is the\n",
      "40 the basis\n",
      "100 basis of\n",
      "66 of comedy\n",
      "87 comedy .\n",
      "23 . **END1**\n"
     ]
    }
   ],
   "source": [
    "nodes_chain = Dict([ii=>jj for (ii,jj) in zip(x_iis,x_jjs)])\n",
    "node_index=1\n",
    "visitted = Set{Int}()\n",
    "while(node_index!=2)\n",
    "    push!(visitted, node_index)\n",
    "    println(node_index, \" \", unordered_markers[nodes[node_index][1]],\" \", unordered_markers[nodes[node_index][2]])\n",
    "    node_index = nodes_chain[node_index]\n",
    "end"
   ]
  },
  {
   "cell_type": "code",
   "execution_count": 372,
   "metadata": {
    "collapsed": false
   },
   "outputs": [
    {
     "data": {
      "text/plain": [
       "get_hyperclass (generic function with 1 method)"
      ]
     },
     "execution_count": 372,
     "metadata": {},
     "output_type": "execute_result"
    }
   ],
   "source": []
  },
  {
   "cell_type": "code",
   "execution_count": 376,
   "metadata": {
    "collapsed": false
   },
   "outputs": [
    {
     "data": {
      "text/plain": [
       "1-element Array{Int64,1}:\n",
       " 1"
      ]
     },
     "execution_count": 376,
     "metadata": {},
     "output_type": "execute_result"
    }
   ],
   "source": [
    "collect(1:100)[[1]]"
   ]
  },
  {
   "cell_type": "code",
   "execution_count": 368,
   "metadata": {
    "collapsed": false
   },
   "outputs": [
    {
     "data": {
      "text/plain": [
       "2-element Array{Set{Int64},1}:\n",
       " Set([7,43,100,23,66,2,53,40,87,1])\n",
       " Set([83,74])                      "
      ]
     },
     "execution_count": 368,
     "metadata": {},
     "output_type": "execute_result"
    }
   ],
   "source": [
    "sts = get_subtours(x)"
   ]
  },
  {
   "cell_type": "code",
   "execution_count": 371,
   "metadata": {
    "collapsed": false
   },
   "outputs": [
    {
     "data": {
      "text/plain": [
       "Set{Int64}()"
      ]
     },
     "execution_count": 371,
     "metadata": {},
     "output_type": "execute_result"
    }
   ],
   "source": [
    "get_hyperclass(sts[1]) ∩ get_hyperclass(sts[2])"
   ]
  },
  {
   "cell_type": "code",
   "execution_count": 370,
   "metadata": {
    "collapsed": false
   },
   "outputs": [
    {
     "data": {
      "text/plain": [
       "Set([68,77,80,81,69,82,85,75,83,84,73,72,74,79,71,78,70,76])"
      ]
     },
     "execution_count": 370,
     "metadata": {},
     "output_type": "execute_result"
    }
   ],
   "source": []
  },
  {
   "cell_type": "code",
   "execution_count": null,
   "metadata": {
    "collapsed": true
   },
   "outputs": [],
   "source": []
  },
  {
   "cell_type": "code",
   "execution_count": 258,
   "metadata": {
    "collapsed": false
   },
   "outputs": [
    {
     "data": {
      "text/plain": [
       "Dict{ASCIIString,Set{Tuple{Int64,Int64}}} with 22 entries:\n",
       "  \"*of\"         => Set([(56,82),(72,54),(9,73),(83,73),(38,82),(35,54),(4,27),(…\n",
       "  \"fine*\"       => Set([(44,56),(44,53),(49,95),(44,54),(44,50),(44,58),(44,57)…\n",
       "  \"**START2***\" => Set([(8,60),(4,23),(4,28),(4,24),(8,64),(5,38),(8,67),(4,26)…\n",
       "  \".*\"          => Set([(95,2)])\n",
       "  \"***END1**\"   => Set([(76,95),(4,23),(72,50),(85,95),(67,95),(31,95),(5,32),(…\n",
       "  \"*the\"        => Set([(55,70),(4,24),(64,70),(69,24),(1,5),(37,70),(73,61),(2…\n",
       "  \"*basis\"      => Set([(5,38),(26,56),(44,56),(60,29),(24,38),(4,29),(61,38),(…\n",
       "  \"is*\"         => Set([(76,95),(73,62),(72,54),(71,49),(72,50),(69,24),(73,63)…\n",
       "  \"*.\"          => Set([(57,94),(8,67),(35,58),(53,49),(71,49),(24,40),(6,49),(…\n",
       "  \"***END2**\"   => Set([(23,2),(95,2),(50,2),(32,2)])\n",
       "  \"the*\"        => Set([(34,44),(35,58),(32,2),(35,55),(35,57),(38,82),(35,54),…\n",
       "  \"*a\"          => Set([(34,44),(27,63),(4,26),(28,72),(83,72),(73,63),(62,44),…\n",
       "  \"of*\"         => Set([(64,70),(67,95),(63,58),(60,29),(62,44),(61,37),(63,54)…\n",
       "  \"*is\"         => Set([(4,28),(82,64),(8,64),(35,55),(26,55),(1,9),(61,37),(91…\n",
       "  \"*comedy\"     => Set([(27,66),(35,57),(54,66),(70,39),(82,66),(91,66),(72,57)…\n",
       "  \"**START1***\" => Set([(1,12),(1,4),(1,7),(1,6),(1,9),(1,8),(1,5)])\n",
       "  \"basis*\"      => Set([(82,64),(82,62),(85,95),(83,73),(83,72),(83,71),(82,60)…\n",
       "  \"*this\"       => Set([(8,60),(27,60),(91,60),(82,60),(28,69),(73,60),(64,69),…\n",
       "  \"*fine\"       => Set([(73,62),(82,62),(27,62),(83,71),(70,34),(55,71),(35,53)…\n",
       "  \"comedy*\"     => Set([(91,60),(91,67),(91,64),(91,66),(91,62),(94,95),(91,63)…\n",
       "  \"this*\"       => Set([(27,63),(27,60),(26,56),(24,40),(27,66),(27,62),(28,72)…\n",
       "  \"a*\"          => Set([(55,70),(57,94),(56,82),(53,49),(54,66),(55,76),(55,71)…"
      ]
     },
     "execution_count": 258,
     "metadata": {},
     "output_type": "execute_result"
    }
   ],
   "source": [
    "for tran in union(banned_trans_prob, banned_trans_state)\n",
    "    for rule in values(rules)\n",
    "        delete!(rule, tran)\n",
    "    end\n",
    "end\n",
    "rules"
   ]
  },
  {
   "cell_type": "code",
   "execution_count": 267,
   "metadata": {
    "collapsed": false
   },
   "outputs": [
    {
     "data": {
      "text/plain": [
       "0-element Array{Tuple{Int64,Int64},1}"
      ]
     },
     "execution_count": 267,
     "metadata": {},
     "output_type": "execute_result"
    }
   ],
   "source": [
    "rules[\"fine*\"] ∩ keys(nodes_chain)"
   ]
  },
  {
   "cell_type": "code",
   "execution_count": null,
   "metadata": {
    "collapsed": true
   },
   "outputs": [],
   "source": []
  },
  {
   "cell_type": "code",
   "execution_count": null,
   "metadata": {
    "collapsed": true
   },
   "outputs": [],
   "source": []
  },
  {
   "cell_type": "code",
   "execution_count": null,
   "metadata": {
    "collapsed": false
   },
   "outputs": [],
   "source": [
    "function get_prod(x, iis, jjs)\n",
    "    net = 1.0\n",
    "    for i in 1:size(x,1) \n",
    "        for j in 1:size(x,2)\n",
    "            println(i,\",\", j, \" =\", x[i,j], \" \", trans_prob[i,j])\n",
    "            net*=max((x[i,j]-1)^2, trans_prob[i,j])\n",
    "        end\n",
    "    end\n",
    "    net\n",
    "end\n",
    "values = falses(size(x))\n",
    "values[1,3] = 1\n",
    "values[3,6] = 1\n",
    "values[6,7] = 1\n",
    "println(\"----------\\n\")\n",
    "get_prod(values, iis,jjs)\n"
   ]
  },
  {
   "cell_type": "code",
   "execution_count": null,
   "metadata": {
    "collapsed": true
   },
   "outputs": [],
   "source": []
  }
 ],
 "metadata": {
  "kernelspec": {
   "display_name": "Julia 0.5.0-dev",
   "language": "julia",
   "name": "julia-0.5"
  },
  "language_info": {
   "file_extension": ".jl",
   "mimetype": "application/julia",
   "name": "julia",
   "version": "0.5.0"
  }
 },
 "nbformat": 4,
 "nbformat_minor": 0
}
