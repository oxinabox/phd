{
 "cells": [
  {
   "cell_type": "code",
   "execution_count": 13,
   "metadata": {
    "collapsed": false
   },
   "outputs": [
    {
     "data": {
      "text/plain": [
       "6"
      ]
     },
     "execution_count": 13,
     "metadata": {},
     "output_type": "execute_result"
    }
   ],
   "source": [
    "6"
   ]
  },
  {
   "cell_type": "code",
   "execution_count": 14,
   "metadata": {
    "collapsed": false
   },
   "outputs": [
    {
     "name": "stderr",
     "output_type": "stream",
     "text": [
      "WARNING: imported binding for Pipe overwritten in module Main\n"
     ]
    },
    {
     "data": {
      "text/plain": [
       "4-element Array{ByteString,1}:\n",
       " \"/home/ubuntu/build/julia-master/usr/local/share/julia/site/v0.5\"\n",
       " \"/home/ubuntu/build/julia-master/usr/share/julia/site/v0.5\"      \n",
       " \".\"                                                              \n",
       " \"../util/\"                                                       "
      ]
     },
     "execution_count": 14,
     "metadata": {},
     "output_type": "execute_result"
    }
   ],
   "source": [
    "# import FunctionalCollections\n",
    "import Iterators\n",
    "import Pipe\n",
    "import Compat\n",
    "import JLD\n",
    "@everywhere using FunctionalCollections\n",
    "@everywhere using Iterators\n",
    "@everywhere using Pipe\n",
    "@everywhere using Compat\n",
    "@everywhere using JLD\n",
    "\n",
    "macro printval(ee)\n",
    "    ee_expr = @sprintf \"%s\" string(ee)\n",
    "    esc(:(println($ee_expr,\" = \", $ee)))\n",
    "end\n",
    "\n",
    "macro pz(ee)\n",
    "    ee_expr = @sprintf \"%s\" string(ee)\n",
    "    esc(:(println($ee_expr,\"\\t\\t\",typeof($ee), \"\\t\", size($ee))))\n",
    "end\n",
    "\n",
    "push!(LOAD_PATH, \".\")\n",
    "push!(LOAD_PATH, \"../util/\")"
   ]
  },
  {
   "cell_type": "code",
   "execution_count": 15,
   "metadata": {
    "collapsed": false
   },
   "outputs": [],
   "source": [
    "@everywhere fold_indexes=load(\"brown_glove_folds.jld\",\"fold_indexes\")\n",
    "\n",
    "@everywhere function fold_split(fold_ii, raw_bow_res)\n",
    "    ground_sents = Vector{ASCIIString}[rset[1] for rset in raw_bow_res]\n",
    "    reconstructed_bows = Vector{ASCIIString}[rset[2] for rset in raw_bow_res]\n",
    "    \n",
    "    test_indexes = fold_indexes[fold_ii]\n",
    "    training_indexes = trues(ground_sents)\n",
    "    training_indexes[test_indexes]=false\n",
    "\n",
    "    test_unordered_sents = reconstructed_bows[test_indexes]\n",
    "    test_ground = ground_sents[test_indexes]\n",
    "    training_sents = ground_sents[training_indexes]\n",
    "    test_unordered_sents,test_ground, training_sents\n",
    "end\n",
    "    "
   ]
  },
  {
   "cell_type": "code",
   "execution_count": 16,
   "metadata": {
    "collapsed": false,
    "scrolled": true
   },
   "outputs": [
    {
     "name": "stderr",
     "output_type": "stream",
     "text": [
      "/usr/local/lib/python2.7/dist-packages/nltk/app/__init__.py:29: UserWarning: nltk.app package not loaded (please install Tkinter library).\n",
      "  warnings.warn(\"nltk.app package not loaded \"\n",
      "/usr/local/lib/python2.7/dist-packages/nltk/draw/__init__.py:15: UserWarning: nltk.draw package not loaded (please install Tkinter library).\n",
      "  warnings.warn(\"nltk.draw package not loaded \"\n"
     ]
    }
   ],
   "source": [
    "@everywhere typealias S ASCIIString\n",
    "@everywhere typealias State{T} Tuple{T,T}\n",
    "\n",
    "import PyCall\n",
    "@everywhere using PyCall\n",
    "#http://www.nltk.org/howto/probability.html\n",
    "@everywhere @pyimport nltk\n",
    "@everywhere @pyimport nltk.probability as nltk_prob\n",
    "@everywhere const START_MARKER1 = \"**START1**\"\n",
    "@everywhere const START_MARKER2 = \"**START2**\"\n",
    "@everywhere const END_MARKER1 = \"**END1**\"\n",
    "@everywhere const END_MARKER2 = \"**END2**\"\n",
    "\n",
    "@everywhere function train_language_model{T}(train_corpus::Vector{Vector{T}}; loglikelyhood::Bool=false)\n",
    "    function py_collect(xs::PyObject)\n",
    "        xst = []\n",
    "        for x in xs\n",
    "            push!(xst,x)\n",
    "        end\n",
    "        xst\n",
    "    end\n",
    "    function trigram_buffer(sent)\n",
    "        [START_MARKER1, START_MARKER2, sent..., END_MARKER1, END_MARKER2] \n",
    "    end\n",
    "\n",
    "    training_trigrams = vcat([py_collect(nltk.trigrams(trigram_buffer(sent))) for sent in train_corpus]...)\n",
    "    kn_prob_dist = nltk_prob.KneserNeyProbDist(pycall(nltk_prob.FreqDist, PyObject, training_trigrams))\n",
    "    \n",
    "    function trigram_model(given1::S, given2::S, event::S)\n",
    "        prob = kn_prob_dist[:prob]((given1, given2, event))\n",
    "        loglikelyhood ? log(prob) : prob\n",
    "    end\n",
    "end"
   ]
  },
  {
   "cell_type": "code",
   "execution_count": 17,
   "metadata": {
    "collapsed": false
   },
   "outputs": [
    {
     "data": {
      "text/plain": [
       "trigram_model (generic function with 1 method)"
      ]
     },
     "execution_count": 17,
     "metadata": {},
     "output_type": "execute_result"
    }
   ],
   "source": [
    "@pyimport nltk.corpus as nltk_corpus\n",
    "corpus_reader=nltk_corpus.brown\n",
    "corpus = Vector{ASCIIString}[[lowercase(word) for word in sent] for sent in (corpus_reader[:sents]()|> collect)]\n",
    "const log_lm = train_language_model(corpus, loglikelyhood=true)"
   ]
  },
  {
   "cell_type": "code",
   "execution_count": 18,
   "metadata": {
    "collapsed": false
   },
   "outputs": [
    {
     "data": {
      "text/plain": [
       "get_hyperclass (generic function with 1 method)"
      ]
     },
     "execution_count": 18,
     "metadata": {},
     "output_type": "execute_result"
    }
   ],
   "source": [
    "using JuMP\n",
    "\n",
    "\n",
    "\"\"\"\n",
    "returns the a vector of sets of node indexes, each set is a subtour\n",
    "The First subtour returned is the nonconnected one -- the path\n",
    "\"\"\"\n",
    "function get_subtours(x::Matrix{JuMP.Variable})\n",
    "    x_val = getValue(x)\n",
    "    x_iis,x_jjs, _  = findnz(x_val .>= 1 - 1e-6) #It just has to be close to 1 to be true\n",
    "    nodes_chain = Dict([ii=>jj for (ii,jj) in zip(x_iis,x_jjs)])\n",
    "\n",
    "    subtours = IntSet[]\n",
    "    ii = START_NODE_INDEX\n",
    "    push!(subtours, IntSet(END_NODE_INDEX)) #The END Node is always in the same subtour as the start node\n",
    "    while(true)\n",
    "        while(true) #Cycle through current subtour\n",
    "            \n",
    "            push!(subtours[end],ii) \n",
    "            \n",
    "            jj = nodes_chain[ii]\n",
    "            println(ii,\" \", jj)\n",
    "            delete!(nodes_chain,ii)\n",
    "            if jj∈subtours[end] \n",
    "                break \n",
    "            end\n",
    "            ii=jj\n",
    "        end   \n",
    "\n",
    "        if length(nodes_chain)>0\n",
    "            ii = first(keys(nodes_chain)) #start new subtour\n",
    "            push!(subtours,IntSet())\n",
    "        else\n",
    "            break\n",
    "        end\n",
    "    end\n",
    "    subtours\n",
    "end\n",
    "\n",
    "\"\"\"\n",
    "Returns the tour from Start to End. ignores any subtours\n",
    "\"\"\"\n",
    "function get_coretour(x_links)\n",
    "    nodes_chain = Dict([ii=>jj for (ii,jj) in x_links])\n",
    "\n",
    "    tour = IntSet(END_NODE_INDEX)\n",
    "    ii = START_NODE_INDEX\n",
    "    while(ii∉tour) #Cycle through current subtour\n",
    "        push!(tour,ii) \n",
    "        ii = nodes_chain[ii]\n",
    "    end\n",
    "    tour\n",
    "end\n",
    "\n",
    "function get_hyperclass(subtour)\n",
    "    tour_hyper_class_nodes=IntSet()\n",
    "    for ii in subtour\n",
    "        w1,w2 = nodes[ii]\n",
    "        #println(unordered_markers[w1])\n",
    "        class_nodes = node_indexes_for_1st[w1]\n",
    "        union!(tour_hyper_class_nodes,class_nodes) \n",
    "    end\n",
    "    tour_hyper_class_nodes\n",
    "end\n"
   ]
  },
  {
   "cell_type": "code",
   "execution_count": 19,
   "metadata": {
    "collapsed": false
   },
   "outputs": [
    {
     "data": {
      "text/plain": [
       "20-element Array{ASCIIString,1}:\n",
       " \"with\"       \n",
       " \"one\"        \n",
       " \"down\"       \n",
       " \"in\"         \n",
       " \"the\"        \n",
       " \"eighth\"     \n",
       " \",\"          \n",
       " \"marv\"       \n",
       " \"throneberry\"\n",
       " \"drew\"       \n",
       " \"a\"          \n",
       " \"walk\"       \n",
       " \"and\"        \n",
       " \"stole\"      \n",
       " \"second\"     \n",
       " \"as\"         \n",
       " \"hyde\"       \n",
       " \"fanned\"     \n",
       " \"tuttle\"     \n",
       " \".\"          "
      ]
     },
     "execution_count": 19,
     "metadata": {},
     "output_type": "execute_result"
    }
   ],
   "source": [
    "corpus[1028]"
   ]
  },
  {
   "cell_type": "code",
   "execution_count": 65,
   "metadata": {
    "collapsed": false
   },
   "outputs": [
    {
     "data": {
      "text/plain": [
       "53-element Array{ASCIIString,1}:\n",
       " \"it\"         \n",
       " \"would\"      \n",
       " \"authorize\"  \n",
       " \"the\"        \n",
       " \"texas\"      \n",
       " \"education\"  \n",
       " \"agency\"     \n",
       " \"to\"         \n",
       " \"establish\"  \n",
       " \"county-wide\"\n",
       " \"day\"        \n",
       " \"schools\"    \n",
       " \"for\"        \n",
       " ⋮            \n",
       " \"ones\"       \n",
       " \"to\"         \n",
       " \"attend\"     \n",
       " \"the\"        \n",
       " \"residential\"\n",
       " \"texas\"      \n",
       " \"school\"     \n",
       " \"for\"        \n",
       " \"the\"        \n",
       " \"deaf\"       \n",
       " \"here\"       \n",
       " \".\"          "
      ]
     },
     "execution_count": 65,
     "metadata": {},
     "output_type": "execute_result"
    }
   ],
   "source": [
    "corpus[120]\n"
   ]
  },
  {
   "cell_type": "code",
   "execution_count": 66,
   "metadata": {
    "collapsed": false
   },
   "outputs": [
    {
     "data": {
      "text/plain": [
       "\"it would authorize the texas education agency to establish county-wide day schools for the deaf in counties of 300,000 or more population , require deaf children between 6 and 13 years of age to attend the day schools , permitting older ones to attend the residential texas school for the deaf here .\""
      ]
     },
     "execution_count": 66,
     "metadata": {},
     "output_type": "execute_result"
    }
   ],
   "source": [
    "join((corpus[120]),\" \")"
   ]
  },
  {
   "cell_type": "code",
   "execution_count": null,
   "metadata": {
    "collapsed": true
   },
   "outputs": [],
   "source": []
  },
  {
   "cell_type": "code",
   "execution_count": 70,
   "metadata": {
    "collapsed": false
   },
   "outputs": [
    {
     "data": {
      "text/plain": [
       "53-element Array{ASCIIString,1}:\n",
       " \"deaf\"      \n",
       " \"the\"       \n",
       " \"day\"       \n",
       " \"day\"       \n",
       " \",\"         \n",
       " \"here\"      \n",
       " \"would\"     \n",
       " \"of\"        \n",
       " \"13\"        \n",
       " \"texas\"     \n",
       " \"and\"       \n",
       " \"agency\"    \n",
       " \"permitting\"\n",
       " ⋮           \n",
       " \"6\"         \n",
       " \".\"         \n",
       " \"school\"    \n",
       " \"attend\"    \n",
       " \"to\"        \n",
       " \"years\"     \n",
       " \"the\"       \n",
       " \"it\"        \n",
       " \"for\"       \n",
       " \"of\"        \n",
       " \"population\"\n",
       " \"to\"        "
      ]
     },
     "execution_count": 70,
     "metadata": {},
     "output_type": "execute_result"
    }
   ],
   "source": [
    "test_bag = shuffle(corpus[120]) #$ length 53\n",
    "#test_bag = shuffle(corpus[21]) #$ length 33\n",
    "#test_bag = shuffle(corpus[1022]) #length 28\n",
    "#test_bag = shuffle(corpus[2000]) #length 24\n",
    "#test_bag = shuffle(corpus[1028]) #length 20  (Gurodi 9.6, GLTK : 2029.6 seconds)\n",
    "#test_bag = shuffle(corpus[1122]) #length 19 \n",
    "#test_bag = shuffle(corpus[1000]) #length 17 (Gurbodi: 3.14 seconds GLTK:  569.9seconds)\n",
    "#test_bag =  shuffle([\"this\",\"is\",\"the\" ,\"basis\",\"of\",\"a\" ,\"comedy\" ,\"of\",\"manners\",\"first\",\"performed\",\"in\",\"1892\", \".\"])\n",
    "#test_bag =  shuffle([\"this\",\"is\",\"the\" ,\"basis\",\"of\",\"a\" ,\"comedy\" ,\"of\",\"manners\",\".\"])\n",
    "#test_bag =  shuffle([\"this\",\"is\",\"the\" ,\"basis\",\"of\",\"a\",\"fine\",\"comedy\", \".\"])\n",
    "#^length 9, Gurodi 0.62 seconds , GLTK 5.3seconds\n",
    "#test_bag =  shuffle([\"this\",\"is\",\"the\" ,\"basis\",\"of\",\"a\" ,\"comedy\", \".\"])\n",
    "#test_bag =  shuffle([\"it\", \"is\", \"so\", \"very\", \"good\", \".\"])\n",
    "#test_bag =  shuffle([\"it\", \"is\", \"very\", \"good\", \".\"])\n",
    "#test_bag =  shuffle([\"it\", \"is\", \"good\", \".\"])\n",
    "#test_bag =  [\"no\", \"way\", \".\"]\n",
    "#test_bag =  shuffle([\"no\", \".\"])\n",
    "#@time best_order(test_bag, lm, mem_limit=1000)"
   ]
  },
  {
   "cell_type": "code",
   "execution_count": 71,
   "metadata": {
    "collapsed": false
   },
   "outputs": [
    {
     "name": "stdout",
     "output_type": "stream",
     "text": [
      "elapsed time: 323"
     ]
    },
    {
     "data": {
      "text/plain": [
       "2919x2919 sparse matrix with 29155 Float64 entries:\n",
       "\t[164 ,    2]  =  -0.0870114\n",
       "\t[323 ,    2]  =  -0.0281709\n",
       "\t[376 ,    2]  =  -1.38629\n",
       "\t[588 ,    2]  =  -0.133531\n",
       "\t[641 ,    2]  =  -1.38629\n",
       "\t[694 ,    2]  =  -1.38629\n",
       "\t[800 ,    2]  =  -0.133531\n",
       "\t[853 ,    2]  =  -0.0281709\n",
       "\t[906 ,    2]  =  -1.38629\n",
       "\t[959 ,    2]  =  -1.38629\n",
       "\t⋮\n",
       "\t[2177, 2919]  =  -10.1667\n",
       "\t[2230, 2919]  =  -10.1669\n",
       "\t[2283, 2919]  =  -10.1668\n",
       "\t[2336, 2919]  =  -10.1669\n",
       "\t[2442, 2919]  =  -10.1667\n",
       "\t[2495, 2919]  =  -10.1668\n",
       "\t[2601, 2919]  =  -10.5937\n",
       "\t[2707, 2919]  =  -10.76\n",
       "\t[2760, 2919]  =  -10.1669\n",
       "\t[2813, 2919]  =  -10.1669\n",
       "\t[2866, 2919]  =  -10.5724"
      ]
     },
     "execution_count": 71,
     "metadata": {},
     "output_type": "execute_result"
    }
   ],
   "source": [
    "using JuMP\n",
    "using MathProgBase\n",
    "using GLPKMathProgInterface\n",
    "using Gurobi\n",
    "\n",
    "tic()\n",
    "m=Model(solver=GurobiSolver(Threads=1))\n",
    "#m=Model(solver=GurobiSolver(Threads=0))\n",
    "#m=Model(solver=GLPKSolverMIP())\n",
    "\n",
    "\n",
    "\n",
    "unordered_words  = test_bag\n",
    "unordered_markers = [START_MARKER1; START_MARKER2; END_MARKER1; END_MARKER2; unordered_words...]\n",
    "#Note that this lacks END_MARKER2\n",
    "const START_NODE_INDEX = 1\n",
    "const END_NODE_INDEX = 2\n",
    "\n",
    "nodes = State{Int}[] #Named by word index\n",
    "\n",
    "node_indexes_for_1st = Dict{Int, Vector{Int}}()\n",
    "node_indexes_for_2nd = Dict{Int, Vector{Int}}()\n",
    "\n",
    "function add_node!(ii,jj)\n",
    "    push!(nodes, (ii,jj))\n",
    "\n",
    "    node_indexes_for_i_1st = get!(()->Int[], node_indexes_for_1st, ii)\n",
    "    push!(node_indexes_for_i_1st, length(nodes))\n",
    "\n",
    "    node_indexes_for_j_2nd = get!(()->Int[], node_indexes_for_2nd, jj) \n",
    "    push!(node_indexes_for_j_2nd, length(nodes))\n",
    "    #println(\"node:$(length(nodes)) |  $(unordered_markers[ii])($ii), $(unordered_markers[jj])($jj)\")\n",
    "end\n",
    "\n",
    "add_node!(1, 2) #That is START_MARKER1-> START_MARKER2\n",
    "add_node!(3, 4) #That is END_MARKER1-> END_MARKER2\n",
    "\n",
    "for ii in 1:length(unordered_markers)\n",
    "    wi = unordered_markers[ii]\n",
    "    if wi∈(END_MARKER1,START_MARKER1) continue end  #Covered these\n",
    "        \n",
    "    for jj in [1:length(unordered_markers)]\n",
    "        if ii==jj continue end\n",
    "        wj = unordered_markers[jj]\n",
    "        if wj∉(START_MARKER1,START_MARKER2,END_MARKER2)\n",
    "            #but wj can be  END_MARKER1\n",
    "            add_node!(ii,jj)\n",
    "        end\n",
    "    end\n",
    "end\n",
    "\n",
    "@defVar(m, x[1:length(nodes), 1:length(nodes)], Bin)\n",
    "\n",
    "#If you enter a node you must also leave it\n",
    "for (cc, center_node) in enumerate(nodes)\n",
    "    if cc ∉ (START_NODE_INDEX, END_NODE_INDEX) #the beginning and end done have this requiement\n",
    "        #Everything that enters this node, must leave this node\n",
    "        @addConstraint(m, sum{x[ii,cc], ii=1:length(nodes)} == sum{x[cc,jj], jj=1:length(nodes)})\n",
    "    end\n",
    "end\n",
    "\n",
    "rules = Dict{ASCIIString,Set{State{Int}}}()\n",
    "for class_index in 1:length(unordered_markers)\n",
    "    w_class =  unordered_markers[class_index]\n",
    "    if w_class∉(START_MARKER1,START_MARKER2)\n",
    "        #Not rquired to make a transition so that START_MARKER1 or 2 ever occur in second position\n",
    "        jjs = node_indexes_for_2nd[class_index]\n",
    "        @addConstraint(m, sum{x[ii,jj],ii=1:length(nodes), jj=jjs}==1)\n",
    "        rules[\"*\"*w_class]=Set(product(1:length(nodes),jjs))\n",
    "    end\n",
    "    \n",
    "    #The following constraint is not required, as if it shows uo in the second position other rules make it certain to show up in the first\n",
    "    #if w_class∉(END_MARKER1,END_MARKER2)\n",
    "    #    #Not rquired to make a transition so that END_MARKER1 or 2 ever occur in second position\n",
    "    #    iis=node_indexes_for_1st[class_index]\n",
    "    #    @addConstraint(m, sum{x[ii,jj], ii=iis,jj=1:length(nodes)}==1)\n",
    "    #    rules[w_class*\"*\"]=Set(product(iis,1:length(nodes)))\n",
    "    #end\n",
    "end\n",
    "\n",
    "banned_trans_prob = Set{State{Int}}()\n",
    "banned_trans_state = Set{State{Int}}()\n",
    "log_trans_prob = spzeros(length(nodes), length(nodes))\n",
    "for (from_node_index, from_node) in enumerate(nodes)\n",
    "    w1 = unordered_markers[from_node[1]]\n",
    "    w2 = unordered_markers[from_node[2]]\n",
    "    #If what was in the second state element does not end up in the first state element then it is not allowed.\n",
    "    can_transition_to = Set(get(node_indexes_for_1st, from_node[2], Int[]))\n",
    "        #You can transition to any node which has your second element as its first element\n",
    "    for (to_node_index, to_node) in enumerate(nodes)\n",
    "        if to_node_index in can_transition_to\n",
    "            @assert(from_node[2]==to_node[1])\n",
    "            w3= unordered_markers[to_node[2]]\n",
    "            log_tp = log_lm(w1,w2,w3)\n",
    "            if log_tp>-Inf\n",
    "                log_trans_prob[from_node_index, to_node_index] = log_tp\n",
    "                continue\n",
    "            else\n",
    "                #Banned as prob zero transitions not allowed\n",
    "                @addConstraint(m, x[from_node_index,to_node_index]==0)\n",
    "                push!(banned_trans_prob, (from_node_index,to_node_index))\n",
    "            end\n",
    "            \n",
    "        else\n",
    "            #It is not a legal transition\n",
    "            @addConstraint(m, x[from_node_index,to_node_index]==0)\n",
    "            push!(banned_trans_state, (from_node_index,to_node_index))\n",
    "        end\n",
    "    end\n",
    "end\n",
    "\n",
    "\n",
    "\n",
    "function eleminate_subtours(cb)\n",
    "    x_val = getValue(x)\n",
    "    x_iis,x_jjs, _  = findnz(x_val .>= 1 - 1e-6) #It just has to be close to 1 to be true\n",
    "    x_links = zip(x_iis,x_jjs)\n",
    "    \n",
    "    core_tour = get_coretour(x_links)\n",
    "    if length(core_tour)==length(x_links)+1 #There is one more element in the core tour, as links vs fenceposts\n",
    "        #no subtour to eleminate\n",
    "        return\n",
    "    end\n",
    "    core_tour_hyperclasses = get_hyperclass(core_tour)\n",
    "    \n",
    "    #Also the core tour doesn't cover everything so there must be a link from one of its classes covered outside\n",
    "    arcs_outof_coretour = AffExpr()\n",
    "    for ii in core_tour_hyperclasses\n",
    "        for jj in 1:length(nodes)\n",
    "            if jj∉core_tour_hyperclasses\n",
    "                arcs_outof_coretour += x[ii,jj]\n",
    "            end\n",
    "        end\n",
    "    end\n",
    "    @addLazyConstraint(cb, arcs_outof_coretour >=1)\n",
    "\n",
    "end\n",
    "\n",
    "addLazyCallback(m, eleminate_subtours,fractional=false)\n",
    "\n",
    "#new Linear way using logprobs\n",
    "@setObjective(m, Max, sum{log_trans_prob[i,j]*x[i,j], i=1:length(nodes), j=1:length(nodes)})\n",
    "\n",
    "toc()\n",
    "@printval length(unordered_words)\n",
    "@printval length(m.linconstr)\n",
    "num_banned_trans  = length(banned_trans_prob) + length(banned_trans_state)\n",
    "variables = prod(size(log_trans_prob))\n",
    "@printval variables\n",
    "@printval variables-num_banned_trans\n",
    "log_trans_prob\n"
   ]
  },
  {
   "cell_type": "code",
   "execution_count": null,
   "metadata": {
    "collapsed": false,
    "scrolled": true
   },
   "outputs": [],
   "source": [
    "tic()\n",
    "solve(m)\n",
    "time_to_solve = toc()\n",
    "println(\"Objective value: \", getObjectiveValue(m))\n",
    "println(\"Prob: \", e^getObjectiveValue(m))\n",
    "x_val = getValue(x)\n",
    "#println(\"x = \", x_val)\n",
    "x_iis,x_jjs, _  = findnz(x_val.>1-1e-6)\n",
    "zip(x_iis,x_jjs) |> collect |> println"
   ]
  },
  {
   "cell_type": "code",
   "execution_count": null,
   "metadata": {
    "collapsed": false
   },
   "outputs": [],
   "source": [
    "(time_to_solve + 49.9)"
   ]
  },
  {
   "cell_type": "code",
   "execution_count": null,
   "metadata": {
    "collapsed": false
   },
   "outputs": [],
   "source": [
    "nodes_chain = Dict([ii=>jj for (ii,jj) in zip(x_iis,x_jjs)])\n",
    "node_index=1\n",
    "visitted = Set{Int}()\n",
    "while(node_index!=END_NODE_INDEX)\n",
    "    push!(visitted, node_index)\n",
    "    println(unordered_markers[nodes[node_index][1]])\n",
    "    #println(node_index, \" \", unordered_markers[nodes[node_index][1]],\" \", unordered_markers[nodes[node_index][2]])\n",
    "    node_index = nodes_chain[node_index]\n",
    "end"
   ]
  },
  {
   "cell_type": "code",
   "execution_count": null,
   "metadata": {
    "collapsed": false
   },
   "outputs": [],
   "source": [
    "x_val = getValue(x)\n",
    "x_iis,x_jjs, _  = findnz(x_val)\n",
    "nodes_chain = Dict([ii=>jj for (ii,jj) in zip(x_iis,x_jjs)])"
   ]
  },
  {
   "cell_type": "code",
   "execution_count": null,
   "metadata": {
    "collapsed": false
   },
   "outputs": [],
   "source": [
    "x"
   ]
  },
  {
   "cell_type": "code",
   "execution_count": null,
   "metadata": {
    "collapsed": false
   },
   "outputs": [],
   "source": [
    "collect(1:100)[[1]]"
   ]
  },
  {
   "cell_type": "code",
   "execution_count": null,
   "metadata": {
    "collapsed": false
   },
   "outputs": [],
   "source": [
    "sts = get_subtours(x)"
   ]
  },
  {
   "cell_type": "code",
   "execution_count": null,
   "metadata": {
    "collapsed": false
   },
   "outputs": [],
   "source": [
    "1+1"
   ]
  },
  {
   "cell_type": "code",
   "execution_count": null,
   "metadata": {
    "collapsed": true
   },
   "outputs": [],
   "source": []
  },
  {
   "cell_type": "code",
   "execution_count": null,
   "metadata": {
    "collapsed": false
   },
   "outputs": [],
   "source": [
    "for tran in union(banned_trans_prob, banned_trans_state)\n",
    "    for rule in values(rules)\n",
    "        delete!(rule, tran)\n",
    "    end\n",
    "end\n",
    "rules"
   ]
  },
  {
   "cell_type": "code",
   "execution_count": null,
   "metadata": {
    "collapsed": false
   },
   "outputs": [],
   "source": [
    "rules[\"fine*\"] ∩ keys(nodes_chain)"
   ]
  },
  {
   "cell_type": "code",
   "execution_count": null,
   "metadata": {
    "collapsed": true
   },
   "outputs": [],
   "source": []
  },
  {
   "cell_type": "code",
   "execution_count": null,
   "metadata": {
    "collapsed": true
   },
   "outputs": [],
   "source": []
  },
  {
   "cell_type": "code",
   "execution_count": null,
   "metadata": {
    "collapsed": false
   },
   "outputs": [],
   "source": [
    "function get_prod(x, iis, jjs)\n",
    "    net = 1.0\n",
    "    for i in 1:size(x,1) \n",
    "        for j in 1:size(x,2)\n",
    "            println(i,\",\", j, \" =\", x[i,j], \" \", trans_prob[i,j])\n",
    "            net*=max((x[i,j]-1)^2, trans_prob[i,j])\n",
    "        end\n",
    "    end\n",
    "    net\n",
    "end\n",
    "values = falses(size(x))\n",
    "values[1,3] = 1\n",
    "values[3,6] = 1\n",
    "values[6,7] = 1\n",
    "println(\"----------\\n\")\n",
    "get_prod(values, iis,jjs)\n"
   ]
  },
  {
   "cell_type": "code",
   "execution_count": null,
   "metadata": {
    "collapsed": true
   },
   "outputs": [],
   "source": []
  }
 ],
 "metadata": {
  "kernelspec": {
   "display_name": "Julia 0.5.0-dev",
   "language": "julia",
   "name": "julia-0.5"
  },
  "language_info": {
   "file_extension": ".jl",
   "mimetype": "application/julia",
   "name": "julia",
   "version": "0.5.0"
  }
 },
 "nbformat": 4,
 "nbformat_minor": 0
}
