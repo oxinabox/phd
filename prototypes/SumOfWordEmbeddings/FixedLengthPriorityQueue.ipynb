{
 "cells": [
  {
   "cell_type": "code",
   "execution_count": 1,
   "metadata": {
    "collapsed": false
   },
   "outputs": [
    {
     "data": {
      "text/plain": [
       "4-element Array{ByteString,1}:\n",
       " \"/home/ubuntu/build/julia-master/usr/local/share/julia/site/v0.5\"\n",
       " \"/home/ubuntu/build/julia-master/usr/share/julia/site/v0.5\"      \n",
       " \".\"                                                              \n",
       " \"../util/\"                                                       "
      ]
     },
     "execution_count": 1,
     "metadata": {},
     "output_type": "execute_result"
    }
   ],
   "source": [
    "import Iterators\n",
    "import Pipe\n",
    "import Compat\n",
    "\n",
    "macro printval(ee)\n",
    "    ee_expr = @sprintf \"%s\" string(ee)\n",
    "    esc(:(println($ee_expr,\" = \", $ee)))\n",
    "end\n",
    "\n",
    "macro pz(ee)\n",
    "    ee_expr = @sprintf \"%s\" string(ee)\n",
    "    esc(:(println($ee_expr,\"\\t\\t\",typeof($ee), \"\\t\", size($ee))))\n",
    "end\n",
    "\n",
    "push!(LOAD_PATH, \".\")\n",
    "push!(LOAD_PATH, \"../util/\")"
   ]
  },
  {
   "cell_type": "code",
   "execution_count": 8,
   "metadata": {
    "collapsed": false
   },
   "outputs": [],
   "source": [
    "using FixedLengthPriorityQs\n",
    "using Base.Order"
   ]
  },
  {
   "cell_type": "code",
   "execution_count": 9,
   "metadata": {
    "collapsed": false
   },
   "outputs": [
    {
     "data": {
      "text/plain": [
       "FixedLengthPriorityQs.FixedLengthPriorityQueue{ASCIIString,Float64,Base.Order.ReverseOrdering{Base.Order.ForwardOrdering}}(IntervalHeap{Float64}(Float64[]),3,Base.Order.ReverseOrdering{Base.Order.ForwardOrdering}(Base.Order.ForwardOrdering()),Dict{Float64,Array{ASCIIString,1}}())"
      ]
     },
     "execution_count": 9,
     "metadata": {},
     "output_type": "execute_result"
    }
   ],
   "source": [
    "aa= FixedLengthPriorityQueue(ASCIIString, Float64,3, Reverse)"
   ]
  },
  {
   "cell_type": "code",
   "execution_count": 10,
   "metadata": {
    "collapsed": false
   },
   "outputs": [],
   "source": [
    "enqueue!(aa,\"hi\",7.0)\n",
    "enqueue!(aa,\"ibye\",2.0)\n",
    "enqueue!(aa,\"bye\",2.0)\n",
    "enqueue!(aa,\"hib\",10.0)\n",
    "enqueue!(aa,\"hwi\",17.0)\n",
    "enqueue!(aa,\"hwii\",170.0)"
   ]
  },
  {
   "cell_type": "code",
   "execution_count": 11,
   "metadata": {
    "collapsed": false
   },
   "outputs": [
    {
     "data": {
      "text/plain": [
       "FixedLengthPriorityQs.FixedLengthPriorityQueue{ASCIIString,Float64,Base.Order.ReverseOrdering{Base.Order.ForwardOrdering}}(IntervalHeap{Float64}([10.0,17.0,170.0]),3,Base.Order.ReverseOrdering{Base.Order.ForwardOrdering}(Base.Order.ForwardOrdering()),Dict(7.0=>ASCIIString[],170.0=>ASCIIString[\"hwii\"],10.0=>ASCIIString[\"hib\"],2.0=>ASCIIString[],17.0=>ASCIIString[\"hwi\"]))"
      ]
     },
     "execution_count": 11,
     "metadata": {},
     "output_type": "execute_result"
    }
   ],
   "source": [
    "aa"
   ]
  },
  {
   "cell_type": "code",
   "execution_count": 12,
   "metadata": {
    "collapsed": false
   },
   "outputs": [
    {
     "data": {
      "text/plain": [
       "\"hwii\""
      ]
     },
     "execution_count": 12,
     "metadata": {},
     "output_type": "execute_result"
    }
   ],
   "source": [
    "dequeue!(aa)"
   ]
  },
  {
   "cell_type": "code",
   "execution_count": 14,
   "metadata": {
    "collapsed": false
   },
   "outputs": [
    {
     "data": {
      "text/plain": [
       "FixedLengthPriorityQs.FixedLengthPriorityQueue{ASCIIString,Float64,Base.Order.ReverseOrdering{Base.Order.ForwardOrdering}}(IntervalHeap{Float64}([10.0,17.0]),3,Base.Order.ReverseOrdering{Base.Order.ForwardOrdering}(Base.Order.ForwardOrdering()),Dict(7.0=>ASCIIString[],170.0=>ASCIIString[],10.0=>ASCIIString[\"hib\"],2.0=>ASCIIString[],17.0=>ASCIIString[\"hwi\"]))"
      ]
     },
     "execution_count": 14,
     "metadata": {},
     "output_type": "execute_result"
    }
   ],
   "source": [
    "aa"
   ]
  },
  {
   "cell_type": "code",
   "execution_count": null,
   "metadata": {
    "collapsed": true
   },
   "outputs": [],
   "source": []
  }
 ],
 "metadata": {
  "kernelspec": {
   "display_name": "Julia 0.5.0-dev",
   "language": "julia",
   "name": "julia-0.5"
  },
  "language_info": {
   "file_extension": ".jl",
   "mimetype": "application/julia",
   "name": "julia",
   "version": "0.5.0"
  }
 },
 "nbformat": 4,
 "nbformat_minor": 0
}
