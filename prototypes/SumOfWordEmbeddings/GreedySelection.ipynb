{
 "cells": [
  {
   "cell_type": "code",
   "execution_count": 1,
   "metadata": {
    "collapsed": false
   },
   "outputs": [
    {
     "data": {
      "text/plain": [
       "4-element Array{ByteString,1}:\n",
       " \"/home/ubuntu/build/julia-master/usr/local/share/julia/site/v0.5\"\n",
       " \"/home/ubuntu/build/julia-master/usr/share/julia/site/v0.5\"      \n",
       " \".\"                                                              \n",
       " \"../util/\"                                                       "
      ]
     },
     "execution_count": 1,
     "metadata": {},
     "output_type": "execute_result"
    }
   ],
   "source": [
    "using FunctionalCollections\n",
    "using Iterators\n",
    "using Pipe\n",
    "using Compat\n",
    "\n",
    "@everywhere macro printval(ee)\n",
    "    ee_expr = @sprintf \"%s\" string(ee)\n",
    "    esc(:(println($ee_expr,\" = \", $ee)))\n",
    "end\n",
    "\n",
    "macro pz(ee)\n",
    "    ee_expr = @sprintf \"%s\" string(ee)\n",
    "    esc(:(println($ee_expr,\"\\t\\t\",typeof($ee), \"\\t\", size($ee))))\n",
    "end\n",
    "\n",
    "push!(LOAD_PATH, \".\")\n",
    "push!(LOAD_PATH, \"../util/\")"
   ]
  },
  {
   "cell_type": "code",
   "execution_count": 2,
   "metadata": {
    "collapsed": false
   },
   "outputs": [
    {
     "data": {
      "text/plain": [
       "11-element Array{Int64,1}:\n",
       "  2\n",
       "  3\n",
       "  4\n",
       "  5\n",
       "  6\n",
       "  7\n",
       "  8\n",
       "  9\n",
       " 10\n",
       " 11\n",
       " 12"
      ]
     },
     "execution_count": 2,
     "metadata": {},
     "output_type": "execute_result"
    }
   ],
   "source": [
    "addprocs(11)"
   ]
  },
  {
   "cell_type": "code",
   "execution_count": 3,
   "metadata": {
    "collapsed": false,
    "scrolled": true
   },
   "outputs": [
    {
     "name": "stderr",
     "output_type": "stream",
     "text": [
      "WARNING: replacing module JLD\n",
      "WARNING: replacing module JLD\n",
      "WARNING: replacing module JLD\n",
      "WARNING: Method definition load(FileIO.File{FileIO.DataFormat{:JLD}}) in module JLD at /home/ubuntu/.julia/v0.5/JLD/src/JLD.jl:1174 overwritten in module JLD at /home/ubuntu/.julia/v0.5/JLD/src/JLD.jl:1174.\n",
      "WARNING: Method definition load(FileIO.File{FileIO.DataFormat{:JLD}}, AbstractString) in module JLD at /home/ubuntu/.julia/v0.5/JLD/src/JLD.jl:1180 overwritten in module JLD at /home/ubuntu/.julia/v0.5/JLD/src/JLD.jl:1180.\n",
      "WARNING: Method definition load(FileIO.File{FileIO.DataFormat{:JLD}}, AbstractString...) in module JLD at /home/ubuntu/.julia/v0.5/JLD/src/JLD.jl:1184 overwritten in module JLD at /home/ubuntu/.julia/v0.5/JLD/src/JLD.jl:1184.\n",
      "WARNING: Method definition load(FileIO.File{FileIO.DataFormat{:JLD}}, Tuple{Vararg{AbstractString}}) in module JLD at /home/ubuntu/.julia/v0.5/JLD/src/JLD.jl:1186 overwritten in module JLD at /home/ubuntu/.julia/v0.5/JLD/src/JLD.jl:1186.\n",
      "WARNING: Method definition save(FileIO.File{FileIO.DataFormat{:JLD}}, Base.Associative) in module JLD at /home/ubuntu/.julia/v0.5/JLD/src/JLD.jl:1148 overwritten in module JLD at /home/ubuntu/.julia/v0.5/JLD/src/JLD.jl:1148.\n",
      "WARNING: Method definition save(FileIO.File{FileIO.DataFormat{:JLD}}, AbstractString, Any, Any...) in module JLD at /home/ubuntu/.julia/v0.5/JLD/src/JLD.jl:1160 overwritten in module JLD at /home/ubuntu/.julia/v0.5/JLD/src/JLD.jl:1160.\n",
      "WARNING: Method definition save(Array, FileIO.File{FileIO.DataFormat{:JLD}}, Base.Associative) in module JLD overwritten in module JLD.\n",
      "WARNING: Method definition save(Array, FileIO.File{FileIO.DataFormat{:JLD}}, AbstractString, Any, Any...) in module JLD overwritten in module JLD.\n",
      "WARNING: Method definition load(FileIO.File{FileIO.DataFormat{:JLD}}) in module JLD at /home/ubuntu/.julia/v0.5/JLD/src/JLD.jl:1174 overwritten in module JLD at /home/ubuntu/.julia/v0.5/JLD/src/JLD.jl:1174.\n",
      "WARNING: Method definition load(FileIO.File{FileIO.DataFormat{:JLD}}, AbstractString) in module JLD at /home/ubuntu/.julia/v0.5/JLD/src/JLD.jl:1180 overwritten in module JLD at /home/ubuntu/.julia/v0.5/JLD/src/JLD.jl:1180.\n",
      "WARNING: Method definition load(FileIO.File{FileIO.DataFormat{:JLD}}, AbstractString...) in module JLD at /home/ubuntu/.julia/v0.5/JLD/src/JLD.jl:1184 overwritten in module JLD at /home/ubuntu/.julia/v0.5/JLD/src/JLD.jl:1184.\n",
      "WARNING: Method definition load(FileIO.File{FileIO.DataFormat{:JLD}}, Tuple{Vararg{AbstractString}}) in module JLD at /home/ubuntu/.julia/v0.5/JLD/src/JLD.jl:1186 overwritten in module JLD at /home/ubuntu/.julia/v0.5/JLD/src/JLD.jl:1186.\n",
      "WARNING: Method definition save(FileIO.File{FileIO.DataFormat{:JLD}}, Base.Associative) in module JLD at /home/ubuntu/.julia/v0.5/JLD/src/JLD.jl:1148 overwritten in module JLD at /home/ubuntu/.julia/v0.5/JLD/src/JLD.jl:1148.\n",
      "WARNING: Method definition save(FileIO.File{FileIO.DataFormat{:JLD}}, AbstractString, Any, Any...) in module JLD at /home/ubuntu/.julia/v0.5/JLD/src/JLD.jl:1160 overwritten in module JLD at /home/ubuntu/.julia/v0.5/JLD/src/JLD.jl:1160.\n",
      "WARNING: Method definition save(Array, FileIO.File{FileIO.DataFormat{:JLD}}, Base.Associative) in module JLD overwritten in module JLD.\n",
      "WARNING: Method definition save(Array, FileIO.File{FileIO.DataFormat{:JLD}}, AbstractString, Any, Any...) in module JLD overwritten in module JLD.\n",
      "WARNING: Method definition load(FileIO.File{FileIO.DataFormat{:JLD}}) in module JLD at /home/ubuntu/.julia/v0.5/JLD/src/JLD.jl:1174 overwritten in module JLD at /home/ubuntu/.julia/v0.5/JLD/src/JLD.jl:1174.\n",
      "WARNING: Method definition load(FileIO.File{FileIO.DataFormat{:JLD}}, AbstractString) in module JLD at /home/ubuntu/.julia/v0.5/JLD/src/JLD.jl:1180 overwritten in module JLD at /home/ubuntu/.julia/v0.5/JLD/src/JLD.jl:1180.\n",
      "WARNING: Method definition load(FileIO.File{FileIO.DataFormat{:JLD}}, AbstractString...) in module JLD at /home/ubuntu/.julia/v0.5/JLD/src/JLD.jl:1184 overwritten in module JLD at /home/ubuntu/.julia/v0.5/JLD/src/JLD.jl:1184.\n",
      "WARNING: Method definition load(FileIO.File{FileIO.DataFormat{:JLD}}, Tuple{Vararg{AbstractString}}) in module JLD at /home/ubuntu/.julia/v0.5/JLD/src/JLD.jl:1186 overwritten in module JLD at /home/ubuntu/.julia/v0.5/JLD/src/JLD.jl:1186.\n",
      "WARNING: Method definition save(FileIO.File{FileIO.DataFormat{:JLD}}, Base.Associative) in module JLD at /home/ubuntu/.julia/v0.5/JLD/src/JLD.jl:1148 overwritten in module JLD at /home/ubuntu/.julia/v0.5/JLD/src/JLD.jl:1148.\n",
      "WARNING: Method definition save(FileIO.File{FileIO.DataFormat{:JLD}}, AbstractString, Any, Any...) in module JLD at /home/ubuntu/.julia/v0.5/JLD/src/JLD.jl:1160 overwritten in module JLD at /home/ubuntu/.julia/v0.5/JLD/src/JLD.jl:1160.\n",
      "WARNING: Method definition save(Array, FileIO.File{FileIO.DataFormat{:JLD}}, Base.Associative) in module JLD overwritten in module JLD.\n",
      "WARNING: Method definition save(Array, FileIO.File{FileIO.DataFormat{:JLD}}, AbstractString, Any, Any...) in module JLD overwritten in module JLD.\n",
      "WARNING: replacing module JLD\n",
      "WARNING: replacing module JLD\n",
      "WARNING: replacing module JLD\n",
      "WARNING: replacing module JLD\n",
      "WARNING: replacing module JLD\n",
      "WARNING: Method definition load(FileIO.File{FileIO.DataFormat{:JLD}}) in module JLD at /home/ubuntu/.julia/v0.5/JLD/src/JLD.jl:1174 overwritten in module JLD at /home/ubuntu/.julia/v0.5/JLD/src/JLD.jl:1174.\n",
      "WARNING: Method definition load(FileIO.File{FileIO.DataFormat{:JLD}}, AbstractString) in module JLD at /home/ubuntu/.julia/v0.5/JLD/src/JLD.jl:1180 overwritten in module JLD at /home/ubuntu/.julia/v0.5/JLD/src/JLD.jl:1180.\n",
      "WARNING: Method definition load(FileIO.File{FileIO.DataFormat{:JLD}}, AbstractString...) in module JLD at /home/ubuntu/.julia/v0.5/JLD/src/JLD.jl:1184 overwritten in module JLD at /home/ubuntu/.julia/v0.5/JLD/src/JLD.jl:1184.\n",
      "WARNING: Method definition load(FileIO.File{FileIO.DataFormat{:JLD}}, Tuple{Vararg{AbstractString}}) in module JLD at /home/ubuntu/.julia/v0.5/JLD/src/JLD.jl:1186 overwritten in module JLD at /home/ubuntu/.julia/v0.5/JLD/src/JLD.jl:1186.\n",
      "WARNING: Method definition save(FileIO.File{FileIO.DataFormat{:JLD}}, Base.Associative) in module JLD at /home/ubuntu/.julia/v0.5/JLD/src/JLD.jl:1148 overwritten in module JLD at /home/ubuntu/.julia/v0.5/JLD/src/JLD.jl:1148.\n",
      "WARNING: Method definition save(FileIO.File{FileIO.DataFormat{:JLD}}, AbstractString, Any, Any...) in module JLD at /home/ubuntu/.julia/v0.5/JLD/src/JLD.jl:1160 overwritten in module JLD at /home/ubuntu/.julia/v0.5/JLD/src/JLD.jl:1160.\n",
      "WARNING: Method definition save(Array, FileIO.File{FileIO.DataFormat{:JLD}}, Base.Associative) in module JLD overwritten in module JLD.\n",
      "WARNING: Method definition save(Array, FileIO.File{FileIO.DataFormat{:JLD}}, AbstractString, Any, Any...) in module JLD overwritten in module JLD.\n",
      "WARNING: Method definition load(FileIO.File{FileIO.DataFormat{:JLD}}) in module JLD at /home/ubuntu/.julia/v0.5/JLD/src/JLD.jl:1174 overwritten in module JLD at /home/ubuntu/.julia/v0.5/JLD/src/JLD.jl:1174.\n",
      "WARNING: Method definition load(FileIO.File{FileIO.DataFormat{:JLD}}, AbstractString) in module JLD at /home/ubuntu/.julia/v0.5/JLD/src/JLD.jl:1180 overwritten in module JLD at /home/ubuntu/.julia/v0.5/JLD/src/JLD.jl:1180.\n",
      "WARNING: Method definition load(FileIO.File{FileIO.DataFormat{:JLD}}, AbstractString...) in module JLD at /home/ubuntu/.julia/v0.5/JLD/src/JLD.jl:1184 overwritten in module JLD at /home/ubuntu/.julia/v0.5/JLD/src/JLD.jl:1184.\n",
      "WARNING: Method definition load(FileIO.File{FileIO.DataFormat{:JLD}}, Tuple{Vararg{AbstractString}}) in module JLD at /home/ubuntu/.julia/v0.5/JLD/src/JLD.jl:1186 overwritten in module JLD at /home/ubuntu/.julia/v0.5/JLD/src/JLD.jl:1186.\n",
      "WARNING: Method definition save(FileIO.File{FileIO.DataFormat{:JLD}}, Base.Associative) in module JLD at /home/ubuntu/.julia/v0.5/JLD/src/JLD.jl:1148 overwritten in module JLD at /home/ubuntu/.julia/v0.5/JLD/src/JLD.jl:1148.\n",
      "WARNING: Method definition save(FileIO.File{FileIO.DataFormat{:JLD}}, AbstractString, Any, Any...) in module JLD at /home/ubuntu/.julia/v0.5/JLD/src/JLD.jl:1160 overwritten in module JLD at /home/ubuntu/.julia/v0.5/JLD/src/JLD.jl:1160.\n",
      "WARNING: Method definition save(Array, FileIO.File{FileIO.DataFormat{:JLD}}, Base.Associative) in module JLD overwritten in module JLD.\n",
      "WARNING: Method definition save(Array, FileIO.File{FileIO.DataFormat{:JLD}}, AbstractString, Any, Any...) in module JLD overwritten in module JLD.\n",
      "WARNING: Method definition load(FileIO.File{FileIO.DataFormat{:JLD}}) in module JLD at /home/ubuntu/.julia/v0.5/JLD/src/JLD.jl:1174 overwritten in module JLD at /home/ubuntu/.julia/v0.5/JLD/src/JLD.jl:1174.\n",
      "WARNING: Method definition load(FileIO.File{FileIO.DataFormat{:JLD}}, AbstractString) in module JLD at /home/ubuntu/.julia/v0.5/JLD/src/JLD.jl:1180 overwritten in module JLD at /home/ubuntu/.julia/v0.5/JLD/src/JLD.jl:1180.\n",
      "WARNING: Method definition load(FileIO.File{FileIO.DataFormat{:JLD}}, AbstractString...) in module JLD at /home/ubuntu/.julia/v0.5/JLD/src/JLD.jl:1184 overwritten in module JLD at /home/ubuntu/.julia/v0.5/JLD/src/JLD.jl:1184.\n",
      "WARNING: Method definition load(FileIO.File{FileIO.DataFormat{:JLD}}, Tuple{Vararg{AbstractString}}) in module JLD at /home/ubuntu/.julia/v0.5/JLD/src/JLD.jl:1186 overwritten in module JLD at /home/ubuntu/.julia/v0.5/JLD/src/JLD.jl:1186.\n",
      "WARNING: Method definition save(FileIO.File{FileIO.DataFormat{:JLD}}, Base.Associative) in module JLD at /home/ubuntu/.julia/v0.5/JLD/src/JLD.jl:1148 overwritten in module JLD at /home/ubuntu/.julia/v0.5/JLD/src/JLD.jl:1148.\n",
      "WARNING: Method definition save(FileIO.File{FileIO.DataFormat{:JLD}}, AbstractString, Any, Any...) in module JLD at /home/ubuntu/.julia/v0.5/JLD/src/JLD.jl:1160 overwritten in module JLD at /home/ubuntu/.julia/v0.5/JLD/src/JLD.jl:1160.\n",
      "WARNING: Method definition save(Array, FileIO.File{FileIO.DataFormat{:JLD}}, Base.Associative) in module JLD overwritten in module JLD.\n",
      "WARNING: Method definition save(Array, FileIO.File{FileIO.DataFormat{:JLD}}, AbstractString, Any, Any...) in module JLD overwritten in module JLD.\n",
      "WARNING: replacing module JLD\n",
      "WARNING: Method definition load(FileIO.File{FileIO.DataFormat{:JLD}}) in module JLD at /home/ubuntu/.julia/v0.5/JLD/src/JLD.jl:1174 overwritten in module JLD at /home/ubuntu/.julia/v0.5/JLD/src/JLD.jl:1174.\n",
      "WARNING: Method definition load(FileIO.File{FileIO.DataFormat{:JLD}}, AbstractString) in module JLD at /home/ubuntu/.julia/v0.5/JLD/src/JLD.jl:1180 overwritten in module JLD at /home/ubuntu/.julia/v0.5/JLD/src/JLD.jl:1180.\n",
      "WARNING: Method definition load(FileIO.File{FileIO.DataFormat{:JLD}}, AbstractString...) in module JLD at /home/ubuntu/.julia/v0.5/JLD/src/JLD.jl:1184 overwritten in module JLD at /home/ubuntu/.julia/v0.5/JLD/src/JLD.jl:1184.\n",
      "WARNING: Method definition load(FileIO.File{FileIO.DataFormat{:JLD}}, Tuple{Vararg{AbstractString}}) in module JLD at /home/ubuntu/.julia/v0.5/JLD/src/JLD.jl:1186 overwritten in module JLD at /home/ubuntu/.julia/v0.5/JLD/src/JLD.jl:1186.\n",
      "WARNING: Method definition save(FileIO.File{FileIO.DataFormat{:JLD}}, Base.Associative) in module JLD at /home/ubuntu/.julia/v0.5/JLD/src/JLD.jl:1148 overwritten in module JLD at /home/ubuntu/.julia/v0.5/JLD/src/JLD.jl:1148.\n",
      "WARNING: Method definition save(FileIO.File{FileIO.DataFormat{:JLD}}, AbstractString, Any, Any...) in module JLD at /home/ubuntu/.julia/v0.5/JLD/src/JLD.jl:1160 overwritten in module JLD at /home/ubuntu/.julia/v0.5/JLD/src/JLD.jl:1160.\n",
      "WARNING: Method definition save(Array, FileIO.File{FileIO.DataFormat{:JLD}}, Base.Associative) in module JLD overwritten in module JLD.\n",
      "WARNING: Method definition save(Array, FileIO.File{FileIO.DataFormat{:JLD}}, AbstractString, Any, Any...) in module JLD overwritten in module JLD.\n",
      "WARNING: Method definition load(FileIO.File{FileIO.DataFormat{:JLD}}) in module JLD at /home/ubuntu/.julia/v0.5/JLD/src/JLD.jl:1174 overwritten in module JLD at /home/ubuntu/.julia/v0.5/JLD/src/JLD.jl:1174.\n",
      "WARNING: Method definition load(FileIO.File{FileIO.DataFormat{:JLD}}, AbstractString) in module JLD at /home/ubuntu/.julia/v0.5/JLD/src/JLD.jl:1180 overwritten in module JLD at /home/ubuntu/.julia/v0.5/JLD/src/JLD.jl:1180.\n",
      "WARNING: Method definition load(FileIO.File{FileIO.DataFormat{:JLD}}, AbstractString...) in module JLD at /home/ubuntu/.julia/v0.5/JLD/src/JLD.jl:1184 overwritten in module JLD at /home/ubuntu/.julia/v0.5/JLD/src/JLD.jl:1184.\n",
      "WARNING: Method definition load(FileIO.File{FileIO.DataFormat{:JLD}}, Tuple{Vararg{AbstractString}}) in module JLD at /home/ubuntu/.julia/v0.5/JLD/src/JLD.jl:1186 overwritten in module JLD at /home/ubuntu/.julia/v0.5/JLD/src/JLD.jl:1186.\n",
      "WARNING: Method definition save(FileIO.File{FileIO.DataFormat{:JLD}}, Base.Associative) in module JLD at /home/ubuntu/.julia/v0.5/JLD/src/JLD.jl:1148 overwritten in module JLD at /home/ubuntu/.julia/v0.5/JLD/src/JLD.jl:1148.\n",
      "WARNING: Method definition save(FileIO.File{FileIO.DataFormat{:JLD}}, AbstractString, Any, Any...) in module JLD at /home/ubuntu/.julia/v0.5/JLD/src/JLD.jl:1160 overwritten in module JLD at /home/ubuntu/.julia/v0.5/JLD/src/JLD.jl:1160.\n",
      "WARNING: Method definition save(Array, FileIO.File{FileIO.DataFormat{:JLD}}, Base.Associative) in module JLD overwritten in module JLD.\n",
      "WARNING: Method definition save(Array, FileIO.File{FileIO.DataFormat{:JLD}}, AbstractString, Any, Any...) in module JLD overwritten in module JLD.\n",
      "WARNING: Method definition load(FileIO.File{FileIO.DataFormat{:JLD}}) in module JLD at /home/ubuntu/.julia/v0.5/JLD/src/JLD.jl:1174 overwritten in module JLD at /home/ubuntu/.julia/v0.5/JLD/src/JLD.jl:1174.\n",
      "WARNING: Method definition load(FileIO.File{FileIO.DataFormat{:JLD}}, AbstractString) in module JLD at /home/ubuntu/.julia/v0.5/JLD/src/JLD.jl:1180 overwritten in module JLD at /home/ubuntu/.julia/v0.5/JLD/src/JLD.jl:1180.\n",
      "WARNING: Method definition load(FileIO.File{FileIO.DataFormat{:JLD}}, AbstractString...) in module JLD at /home/ubuntu/.julia/v0.5/JLD/src/JLD.jl:1184 overwritten in module JLD at /home/ubuntu/.julia/v0.5/JLD/src/JLD.jl:1184.\n",
      "WARNING: Method definition load(FileIO.File{FileIO.DataFormat{:JLD}}, Tuple{Vararg{AbstractString}}) in module JLD at /home/ubuntu/.julia/v0.5/JLD/src/JLD.jl:1186 overwritten in module JLD at /home/ubuntu/.julia/v0.5/JLD/src/JLD.jl:1186.\n",
      "WARNING: Method definition save(FileIO.File{FileIO.DataFormat{:JLD}}, Base.Associative) in module JLD at /home/ubuntu/.julia/v0.5/JLD/src/JLD.jl:1148 overwritten in module JLD at /home/ubuntu/.julia/v0.5/JLD/src/JLD.jl:1148.\n",
      "WARNING: Method definition save(FileIO.File{FileIO.DataFormat{:JLD}}, AbstractString, Any, Any...) in module JLD at /home/ubuntu/.julia/v0.5/JLD/src/JLD.jl:1160 overwritten in module JLD at /home/ubuntu/.julia/v0.5/JLD/src/JLD.jl:1160.\n",
      "WARNING: Method definition save(Array, FileIO.File{FileIO.DataFormat{:JLD}}, Base.Associative) in module JLD overwritten in module JLD.\n",
      "WARNING: Method definition save(Array, FileIO.File{FileIO.DataFormat{:JLD}}, AbstractString, Any, Any...) in module JLD overwritten in module JLD.\n",
      "WARNING: replacing module JLD\n",
      "WARNING: replacing module JLD\n",
      "WARNING: Method definition load(FileIO.File{FileIO.DataFormat{:JLD}}) in module JLD at /home/ubuntu/.julia/v0.5/JLD/src/JLD.jl:1174 overwritten in module JLD at /home/ubuntu/.julia/v0.5/JLD/src/JLD.jl:1174.\n",
      "WARNING: Method definition load(FileIO.File{FileIO.DataFormat{:JLD}}, AbstractString) in module JLD at /home/ubuntu/.julia/v0.5/JLD/src/JLD.jl:1180 overwritten in module JLD at /home/ubuntu/.julia/v0.5/JLD/src/JLD.jl:1180.\n",
      "WARNING: Method definition load(FileIO.File{FileIO.DataFormat{:JLD}}, AbstractString...) in module JLD at /home/ubuntu/.julia/v0.5/JLD/src/JLD.jl:1184 overwritten in module JLD at /home/ubuntu/.julia/v0.5/JLD/src/JLD.jl:1184.\n",
      "WARNING: Method definition load(FileIO.File{FileIO.DataFormat{:JLD}}, Tuple{Vararg{AbstractString}}) in module JLD at /home/ubuntu/.julia/v0.5/JLD/src/JLD.jl:1186 overwritten in module JLD at /home/ubuntu/.julia/v0.5/JLD/src/JLD.jl:1186.\n",
      "WARNING: Method definition save(FileIO.File{FileIO.DataFormat{:JLD}}, Base.Associative) in module JLD at /home/ubuntu/.julia/v0.5/JLD/src/JLD.jl:1148 overwritten in module JLD at /home/ubuntu/.julia/v0.5/JLD/src/JLD.jl:1148.\n",
      "WARNING: Method definition save(FileIO.File{FileIO.DataFormat{:JLD}}, AbstractString, Any, Any...) in module JLD at /home/ubuntu/.julia/v0.5/JLD/src/JLD.jl:1160 overwritten in module JLD at /home/ubuntu/.julia/v0.5/JLD/src/JLD.jl:1160.\n",
      "WARNING: Method definition save(Array, FileIO.File{FileIO.DataFormat{:JLD}}, Base.Associative) in module JLD overwritten in module JLD.\n",
      "WARNING: Method definition save(Array, FileIO.File{FileIO.DataFormat{:JLD}}, AbstractString, Any, Any...) in module JLD overwritten in module JLD.\n",
      "WARNING: Method definition load(FileIO.File{FileIO.DataFormat{:JLD}}) in module JLD at /home/ubuntu/.julia/v0.5/JLD/src/JLD.jl:1174 overwritten in module JLD at /home/ubuntu/.julia/v0.5/JLD/src/JLD.jl:1174.\n",
      "WARNING: Method definition load(FileIO.File{FileIO.DataFormat{:JLD}}, AbstractString) in module JLD at /home/ubuntu/.julia/v0.5/JLD/src/JLD.jl:1180 overwritten in module JLD at /home/ubuntu/.julia/v0.5/JLD/src/JLD.jl:1180.\n",
      "WARNING: Method definition load(FileIO.File{FileIO.DataFormat{:JLD}}, AbstractString...) in module JLD at /home/ubuntu/.julia/v0.5/JLD/src/JLD.jl:1184 overwritten in module JLD at /home/ubuntu/.julia/v0.5/JLD/src/JLD.jl:1184.\n",
      "WARNING: Method definition load(FileIO.File{FileIO.DataFormat{:JLD}}, Tuple{Vararg{AbstractString}}) in module JLD at /home/ubuntu/.julia/v0.5/JLD/src/JLD.jl:1186 overwritten in module JLD at /home/ubuntu/.julia/v0.5/JLD/src/JLD.jl:1186.\n",
      "WARNING: Method definition save(FileIO.File{FileIO.DataFormat{:JLD}}, Base.Associative) in module JLD at /home/ubuntu/.julia/v0.5/JLD/src/JLD.jl:1148 overwritten in module JLD at /home/ubuntu/.julia/v0.5/JLD/src/JLD.jl:1148.\n",
      "WARNING: Method definition save(FileIO.File{FileIO.DataFormat{:JLD}}, AbstractString, Any, Any...) in module JLD at /home/ubuntu/.julia/v0.5/JLD/src/JLD.jl:1160 overwritten in module JLD at /home/ubuntu/.julia/v0.5/JLD/src/JLD.jl:1160.\n",
      "WARNING: Method definition save(Array, FileIO.File{FileIO.DataFormat{:JLD}}, Base.Associative) in module JLD overwritten in module JLD.\n",
      "WARNING: Method definition save(Array, FileIO.File{FileIO.DataFormat{:JLD}}, AbstractString, Any, Any...) in module JLD overwritten in module JLD.\n"
     ]
    },
    {
     "data": {
      "text/plain": [
       "66464-element Array{Array{Symbol,1},1}:\n",
       " [:okay,symbol(\",\"),:i,:said,symbol(\",\"),:this,:is,:going,:to,:be,:some,:fun,:revenge,:.]                                                                               \n",
       " [:this,:is,:just,:great,symbol(\",\"),:seth,:shouted,:.]                                                                                                                 \n",
       " [:start,:in,:the,:beginning,:and,:do,symbol(\"n't\"),:hold,:anything,:back,:.]                                                                                           \n",
       " [:a,:lot,:of,:explanations,:.]                                                                                                                                         \n",
       " [:even,:if,:she,:really,:loved,:him,symbol(\",\"),:noah,:would,:never  …  :with,:her,:past,:and,:his,:?,:his,:first,:kiss,:?]                                            \n",
       " [:a,:dilemma,:that,:never,:would,:have,:bothered,:her,:before,:.]                                                                                                      \n",
       " [:noah,:saw,:her,:disappearing,:down,:a,:hallway,:at,:the,:back  …  :her,:room,symbol(\",\"),:which,:slammed,:shut,:in,:his,:face,:.]                                    \n",
       " [symbol(\"``\"),:thank,:god,:you,:did,:?,symbol(\"''\")]                                                                                                                   \n",
       " [:feeling,:the,:awkwardness,symbol(\",\"),:wara,:did,symbol(\"n't\"),:respond,:.]                                                                                          \n",
       " [:i,symbol(\"'m\"),:not,:going,:to,:leave,:you,:alone,:.,symbol(\"''\")]                                                                                                   \n",
       " [:ah,symbol(\",\"),:alejo,:!,symbol(\"''\")]                                                                                                                               \n",
       " [:manuel,symbol(\",\"),:how,:dare,:you,:chicken,:out,:on,:me,:!]                                                                                                         \n",
       " [symbol(\"``\"),:but,:now,:that,:we,:belong,:to,:jesus,:we,:want  …  :power,:and,:riches,:to,:the,:kingdoms,:of,:this,:world,:.]                                         \n",
       " ⋮                                                                                                                                                                      \n",
       " [symbol(\"``\"),:shh,symbol(\",\"),:it,symbol(\"'s\"),:okay,symbol(\",\"),:mimi,symbol(\",\"),symbol(\"''\"),:he,:crooned,symbol(\",\"),:rubbing,:wide,:circles,:across,:my,:back,:.]\n",
       " [symbol(\"``\"),:but,:that,:does,symbol(\"n't\"),:mean,:i,:ca,symbol(\"n't\"),:be,:a,:good,:mother,:.,symbol(\"''\")]                                                          \n",
       " [:damn,:.]                                                                                                                                                             \n",
       " [:i,:picked,:up,:the,:sheet,:of,:paper,:i,:had,:jotted  …  :and,:gave,:it,:a,:quick,:rip,:down,:the,:middle,:.]                                                        \n",
       " [:his,:words,:caused,:my,:heart,:to,:pick,:up,:speed,:because,:i,:did,symbol(\"n't\"),:like,:what,:they,:implied,:.]                                                     \n",
       " [:i,:do,symbol(\"n't\"),:think,:so,:.,symbol(\"''\")]                                                                                                                      \n",
       " [:i,:wo,symbol(\"n't\"),:sleep,:tonight,:anyway,:knowing,:he,symbol(\"'s\"),:still,:in,:that,:place,:.,symbol(\"''\")]                                                       \n",
       " [symbol(\"``\"),:about,:that,:girl,:.,symbol(\"''\")]                                                                                                                      \n",
       " [symbol(\"``\"),:which,:was,:when,:?,symbol(\"''\")]                                                                                                                       \n",
       " [:maybe,:i,symbol(\"'m\"),:a,:charlie,symbol(\"'s\"),:angel,:natural,:.,symbol(\"''\")]                                                                                      \n",
       " [:she,:knew,:what,:we,:were,:doing,:.]                                                                                                                                 \n",
       " [:i,:rolled,:over,:to,:face,:him,:and,:he,:hitched,:my,:leg,:over,:his,:hip,:.]                                                                                        "
      ]
     },
     "execution_count": 3,
     "metadata": {},
     "output_type": "execute_result"
    }
   ],
   "source": [
    "@everywhere using JLD\n",
    "@everywhere data = load(\"results/data/books/books300d_sym.jld\",\"data_sym\")\n",
    "corpus_filename = \"test_books_corpus_0.01_of_test\"\n",
    "test_set = open(deserialize, \"results/data/books/\"*corpus_filename*\".jsz\")"
   ]
  },
  {
   "cell_type": "code",
   "execution_count": 4,
   "metadata": {
    "collapsed": false
   },
   "outputs": [],
   "source": [
    "#@everywhere using Distances"
   ]
  },
  {
   "cell_type": "code",
   "execution_count": 5,
   "metadata": {
    "collapsed": false
   },
   "outputs": [],
   "source": [
    "@everywhere function lookup_sowe(data, sent)\n",
    "    lookup_sowe(data, sent |> split)\n",
    "end\n",
    "\n",
    "@everywhere function lookup_sowe{S}(data, sent::Vector{S})\n",
    "    sum([data[\"LL\"][:,data[\"word_indexes\"][word]] for word in sent]) \n",
    "end\n",
    "\n",
    "@everywhere function lookup_words(data, path)\n",
    "    ASCIIString[data[\"indexed_words\"][ii] for ii in path]\n",
    "end\n",
    "\n",
    "@everywhere function lookup_indexes{S}(data, sent::Vector{S})\n",
    "    Int[data[\"word_indexes\"][word] for word in sent]\n",
    "end"
   ]
  },
  {
   "cell_type": "code",
   "execution_count": 6,
   "metadata": {
    "collapsed": false
   },
   "outputs": [],
   "source": [
    "@everywhere const ϵ = 10.0^-5"
   ]
  },
  {
   "cell_type": "code",
   "execution_count": 7,
   "metadata": {
    "collapsed": false,
    "scrolled": true
   },
   "outputs": [],
   "source": [
    "@everywhere @inline function get_end(LL, ws::AbstractVector{Int})\n",
    "    @inbounds sofar = length(ws)>0 ? sum([sub(LL,(:,ii)) for ii in ws]) : zeros(size(LL,1))\n",
    "    sofar\n",
    "end\n",
    "\n",
    "@everywhere function score_possible_additions(LL, target, end_point)\n",
    "    #-(sumabs(LL.+(end_point.-target),1)) #City Block\n",
    "    -sqrt(sumabs2(LL.+(end_point.-target),1)) #Eculidean\n",
    "    \n",
    "end   \n",
    "\n",
    "@everywhere  @inline function fitness(target, end_point)\n",
    "    #Fitter is larger\n",
    "    #-sumabs(end_point.-target) #city block\n",
    "    -norm(end_point.-target) #euclidean\n",
    "    \n",
    "end\n",
    "\n",
    "@everywhere function greedy_addition{F<:AbstractFloat}(LL::Matrix{F},\n",
    "                         target::Vector{F},\n",
    "                         initial_word_set::AbstractVector{Int},\n",
    "                         max_additions = Inf)\n",
    "    best_word_set = convert(Vector{Int},initial_word_set)\n",
    "    end_point = get_end(LL, best_word_set)\n",
    "    best_score = fitness(target, end_point)\n",
    "    \n",
    "    cur_additions = 0\n",
    "    while(cur_additions<max_additions)   \n",
    "        cur_additions+=1\n",
    "        addition_scores = score_possible_additions(LL, target, end_point)\n",
    "        addition_score, addition = findmax(addition_scores)\n",
    "        if addition_score>best_score+ϵ\n",
    "            #println(\"!add: $addition $best_score\")\n",
    "            best_score=addition_score\n",
    "            push!(best_word_set, addition)\n",
    "            end_point += sub(LL,(:,addition))\n",
    "        else \n",
    "            break\n",
    "        end\n",
    "    end\n",
    "    best_word_set,best_score\n",
    "end\n",
    "\n",
    "\n",
    "@everywhere function word_swap_refinement{F<:AbstractFloat}(LL::Matrix{F},\n",
    "                              target::Vector{F},\n",
    "                              initial_word_set::AbstractVector{Int})\n",
    "    \n",
    "    best_word_set = copy(initial_word_set)\n",
    "    end_point = get_end(LL, initial_word_set)\n",
    "    best_score = fitness(target, end_point)\n",
    "    function update_best!(word_set,score)\n",
    "        if score>best_score+ϵ #scores are negative\n",
    "            best_score=score\n",
    "            best_word_set = word_set\n",
    "            #println(\"*swap, new set: $word_set $score\")\n",
    "        end\n",
    "    end\n",
    "    n_words_initial = length(initial_word_set)\n",
    "    for ii in 1:n_words_initial-1 #Don't need to consider last word added as it was added greedily\n",
    "        word_set = sub(initial_word_set,[1:ii-1; ii+1:n_words_initial])\n",
    "        sub_endpoint = end_point - sub(LL,(:,initial_word_set[ii]))\n",
    "        subset_score = fitness(target, sub_endpoint)\n",
    "        update_best!(word_set, subset_score)\n",
    "        \n",
    "\n",
    "        add_word_set, add_score = greedy_addition(LL, target, word_set, 1) #Try adding just one greedily\n",
    "        update_best!(add_word_set, add_score)\n",
    "    end\n",
    "\n",
    "    best_word_set,best_score\n",
    "        \n",
    "end\n",
    "\n",
    "\n",
    "@everywhere function greedy_search{F<:AbstractFloat}(data::Dict, target::Vector{F}; rounds=1000, log=false)\n",
    "    get_words(word_iis) = [data[\"indexed_words\"][ii] for ii in word_iis]\n",
    "    \n",
    "    word_iis = Int[]\n",
    "    best_word_iis = word_iis\n",
    "    best_score=-Inf\n",
    "    for round in 1:rounds\n",
    "        word_iis, add_score = greedy_addition(data[\"LL\"], target, word_iis)\n",
    "        log && println(\"POST_ADD_STEP: $add_score $(get_words(word_iis))\")\n",
    "        @assert add_score + ϵ >= best_score || best_word_iis == word_iis \"$add_score vs $best_score $(get_words(word_iis))\"\n",
    "        best_word_iis = word_iis\n",
    "        \n",
    "        if add_score>= 0.0 \n",
    "            best_score = add_score\n",
    "            break \n",
    "        end        \n",
    "        \n",
    "\n",
    "        \n",
    "        word_iis, swap_score = word_swap_refinement(data[\"LL\"], target, word_iis)\n",
    "        log && println(\"POST_SWAP_STEP: $swap_score $(get_words(word_iis))\")\n",
    "        @assert swap_score + ϵ >= add_score || best_word_iis == word_iis\n",
    "        best_word_iis = word_iis\n",
    "        \n",
    "        converged = best_score - ϵ<swap_score<best_score + ϵ || swap_score>=-ϵ\n",
    "        best_score=swap_score\n",
    "        if converged\n",
    "            break \n",
    "        end       \n",
    "    end\n",
    "    get_words(word_iis),best_score\n",
    "end\n",
    "\n",
    "\n",
    "\n",
    "@everywhere function greedy_search{S}(data::Dict, target_sent::Vector{S}; kwargs...)\n",
    "    target = lookup_sowe(data,target_sent)\n",
    "    greedy_search(data, target; kwargs...)\n",
    "end"
   ]
  },
  {
   "cell_type": "code",
   "execution_count": 8,
   "metadata": {
    "collapsed": false
   },
   "outputs": [
    {
     "name": "stderr",
     "output_type": "stream",
     "text": [
      "WARNING: Base.FS is deprecated.\n",
      "  likely near /home/ubuntu/.julia/v0.5/Blocks/src/Blocks.jl:3\n",
      "WARNING: Base.FS is deprecated.\n",
      "  likely near /home/ubuntu/.julia/v0.5/Blocks/src/Blocks.jl:3\n",
      "WARNING: Base.FS is deprecated.\n",
      "  likely near /home/ubuntu/.julia/v0.5/Blocks/src/Blocks.jl:3\n",
      "WARNING: Base.FS is deprecated.\n",
      "  likely near /home/ubuntu/.julia/v0.5/Blocks/src/Blocks.jl:3\n",
      "WARNING: Base.FS is deprecatedWARNING: .\n",
      "  likely near /home/ubuntu/.julia/v0.5/Blocks/src/Blocks.jl:3\n",
      "Base.FS is deprecated.\n",
      "  likely near /home/ubuntu/.julia/v0.5/Blocks/src/Blocks.jl:3\n",
      "WARNING: Base.FS is deprecated.\n",
      "  likely near /home/ubuntu/.julia/v0.5/Blocks/src/Blocks.jl:3\n",
      "WARNING: Base.FS is deprecated.\n",
      "  likely near /home/ubuntu/.julia/v0.5/Blocks/src/Blocks.jl:3\n",
      "WARNING: Base.FS is deprecated.\n",
      "  likely near /home/ubuntu/.julia/v0.5/Blocks/src/Blocks.jl:3\n",
      "WARNING: Base.FS is deprecated.\n",
      "  likely near /home/ubuntu/.julia/v0.5/Blocks/src/Blocks.jl:3\n",
      "WARNING: Base.FS is deprecated.\n",
      "  likely near /home/ubuntu/.julia/v0.5/Blocks/src/Blocks.jl:3\n",
      "WARNING: Base.FS is deprecated.\n",
      "  likely near /home/ubuntu/.julia/v0.5/Blocks/src/Blocks.jl:3\n"
     ]
    },
    {
     "data": {
      "text/plain": [
       "Lumberjack.LumberjackTruck(IOStream(<file selection.log>),nothing,Dict{Any,Any}(:is_colorized=>false,:uppercase=>false))"
      ]
     },
     "execution_count": 8,
     "metadata": {},
     "output_type": "execute_result"
    }
   ],
   "source": [
    "using Blocks\n",
    "using Lumberjack\n",
    "add_truck(LumberjackTruck(\"selection.log\"), \"file-logger\")"
   ]
  },
  {
   "cell_type": "code",
   "execution_count": 9,
   "metadata": {
    "collapsed": false,
    "scrolled": true
   },
   "outputs": [
    {
     "data": {
      "text/plain": [
       "Blocks.Block{Array{Array{Symbol,1},1}}([[:okay,symbol(\",\"),:i,:said,symbol(\",\"),:this,:is,:going,:to,:be,:some,:fun,:revenge,:.],[:this,:is,:just,:great,symbol(\",\"),:seth,:shouted,:.],[:start,:in,:the,:beginning,:and,:do,symbol(\"n't\"),:hold,:anything,:back,:.],[:a,:lot,:of,:explanations,:.],[:even,:if,:she,:really,:loved,:him,symbol(\",\"),:noah,:would,:never  …  :with,:her,:past,:and,:his,:?,:his,:first,:kiss,:?],[:a,:dilemma,:that,:never,:would,:have,:bothered,:her,:before,:.],[:noah,:saw,:her,:disappearing,:down,:a,:hallway,:at,:the,:back  …  :her,:room,symbol(\",\"),:which,:slammed,:shut,:in,:his,:face,:.],[symbol(\"``\"),:thank,:god,:you,:did,:?,symbol(\"''\")],[:feeling,:the,:awkwardness,symbol(\",\"),:wara,:did,symbol(\"n't\"),:respond,:.],[:i,symbol(\"'m\"),:not,:going,:to,:leave,:you,:alone,:.,symbol(\"''\")]  …  [:damn,:.],[:i,:picked,:up,:the,:sheet,:of,:paper,:i,:had,:jotted  …  :and,:gave,:it,:a,:quick,:rip,:down,:the,:middle,:.],[:his,:words,:caused,:my,:heart,:to,:pick,:up,:speed,:because,:i,:did,symbol(\"n't\"),:like,:what,:they,:implied,:.],[:i,:do,symbol(\"n't\"),:think,:so,:.,symbol(\"''\")],[:i,:wo,symbol(\"n't\"),:sleep,:tonight,:anyway,:knowing,:he,symbol(\"'s\"),:still,:in,:that,:place,:.,symbol(\"''\")],[symbol(\"``\"),:about,:that,:girl,:.,symbol(\"''\")],[symbol(\"``\"),:which,:was,:when,:?,symbol(\"''\")],[:maybe,:i,symbol(\"'m\"),:a,:charlie,symbol(\"'s\"),:angel,:natural,:.,symbol(\"''\")],[:she,:knew,:what,:we,:were,:doing,:.],[:i,:rolled,:over,:to,:face,:him,:and,:he,:hitched,:my,:leg,:over,:his,:hip,:.]],Any[[[:okay,symbol(\",\"),:i,:said,symbol(\",\"),:this,:is,:going,:to,:be,:some,:fun,:revenge,:.],[:this,:is,:just,:great,symbol(\",\"),:seth,:shouted,:.],[:start,:in,:the,:beginning,:and,:do,symbol(\"n't\"),:hold,:anything,:back,:.],[:a,:lot,:of,:explanations,:.],[:even,:if,:she,:really,:loved,:him,symbol(\",\"),:noah,:would,:never  …  :with,:her,:past,:and,:his,:?,:his,:first,:kiss,:?],[:a,:dilemma,:that,:never,:would,:have,:bothered,:her,:before,:.],[:noah,:saw,:her,:disappearing,:down,:a,:hallway,:at,:the,:back  …  :her,:room,symbol(\",\"),:which,:slammed,:shut,:in,:his,:face,:.],[symbol(\"``\"),:thank,:god,:you,:did,:?,symbol(\"''\")],[:feeling,:the,:awkwardness,symbol(\",\"),:wara,:did,symbol(\"n't\"),:respond,:.],[:i,symbol(\"'m\"),:not,:going,:to,:leave,:you,:alone,:.,symbol(\"''\")]  …  [:tug,:quickly,:hooked,:the,:stretcher,:on,:and,:slipped,:into,:his  …  :aircraft,symbol(\",\"),:doc,:should,:be,:fine,:until,:he,:returned,:.],[:for,:exemplary,:work,symbol(\",\"),:at,:our,:discretion,:.],[:dalton,:rushed,:to,:pick,:the,:girl,:up,:.],[:that,:savage,:probably,:never,:even,:took,:any,:showers,:.],[:the,:acid,:!],[:she,:dropped,:the,:books,:at,:her,:feet,:.],[:she,:collapsed,:on,:the,:bed,:and,:wrapped,:the,:sheets,:around,:her,:.],[:the,:prospect,:of,:flying,:to,:the,:various,:deployment,:sites,:on  …  :back,:and,:deliver,:the,:rich,:treasure,:they,:had,:collected,:.],[:the,:freighter,:is,:running,:parallel,:to,:a,:desolate,:part,:of  …  :but,:aircraft,:will,symbol(\",\"),:and,:it,:is,:almost,:dawn,:.],[:i,:wondered,:if,:he,:would,:remember,:the,:training,:exercise,:that,:id,:had,:with,:him,:a,:little,:while,:ago,:?]],[[:has,:he,:got,:a,:mobile,:on,:him,:i,:asked,:.],[:just,:before,:he,:terminated,:the,:call,:he,:agreed,:to,:contact  …  symbol(\",\"),:or,:to,:impress,:him,:with,:his,:detection,:skills,:.],[:it,:was,:three,:months,:after,:my,symbol(\"shut-down\"),:when,:alice,:found  …  :saw,:the,:writing,:on,:the,:wall,symbol(\",\"),:holistic,:therapist,:.],[:we,:sat,:at,:the,:mess,:table,:and,:were,:asked,:if,:we,:would,:like,:something,:.],[:somewhere,:in,:the,:early,:seventies,:things,:changed,symbol(\",\"),:farmers,:for  …  :time,:in,:decades,:had,:a,:couple,:of,:banner,:years,:.],[:dictatorship,:or,:democracy,:she,:cares,:not,:.],[:she,:was,:never,:afraid,:of,:work,:or,:the,:commitment,symbol(\",\")  …  :looked,:for,:the,:shortcut,:...,:...,:the,:easy,:way,:.],[:she,:asked,symbol(\",\"),:im,:expecting,:something,:from,:the,:travel,:agents,:.],[:he,:knew,:a,:dentist,:and,:an,:insurance,:agent,symbol(\",\"),:good  …  :who,symbol(\",\"),:once,:entering,:the,:gym,:changed,:personas,:completely,:.],[:said,:david,symbol(\",\"),:sure,:its,:not,:just,:bloody,:coincidental,:?]  …  [:how,:about,:we,:touch,:base,:again,:once,:i,symbol(\"'m\"),:settled,:in,:?,symbol(\"''\")],[symbol(\"``\"),:i,:think,:he,symbol(\"'s\"),:right,symbol(\",\"),:paul,:.],[:as,:for,:me,symbol(\",\"),:i,:have,:to,:return,:the,:letter,:and,:get,:some,:sleep,:.],[:so,:now,symbol(\",\"),:we,:had,:two,:sources,:of,:information,symbol(\",\"),:both,:implicating,:raymond,:lindon,:.],[:i,:knew,:it,:.],[:the,:killer,:has,symbol(\"n't\"),:shown,:his,:face,symbol(\",\"),:unless,:of,:course,symbol(\",\"),:the,:killer,:is,:norton,:.],[:even,:then,symbol(\",\"),:i,:only,:heard,:portions,:of,:it,:.],[:she,:screamed,:.],[:he,:turned,:in,:a,:circle,symbol(\",\"),:watching,:his,:adversaries,:with,:a,:wary,:eye,:.],[:it,:is,:good,:that,:you,:did,:.]],[[symbol(\"``\"),:what,:is,:it,symbol(\",\"),:quartermaster,:?,symbol(\"''\")],[:they,:are,:too,:strong,:for,:us,:.],[:what,:if,:he,:comes,:?],[:it,:took,:twenty,:minutes,:to,:walk,:to,:school,:.],[:he,:studied,:it,:carefully,symbol(\",\"),:comparing,:it,:to,:the,:inset  …  :...,:wheres,:the,:branch,:that,:leads,:to,:the,:x,:?],[:the,:crew,:of,:seven,:stood,:and,:stared,:in,:awe,:.],[:including,:me,:?],[:lets,:print,:it,:all,:out,symbol(\",\"),:you,:go,:lay,:down  …  :on,:the,:bed,:beside,:you,:and,:read,:it,:all,:.],[:dont,:ejaculate,:so,:soon,:.],[:against,:insects,:they,:were,:using,:small,:naftalin,:white,:balls,symbol(\",\"),:put,:into,:the,:blankets,:folds,:.]  …  [:hes,:basically,:a,:workout,:dummy,:.],[:upon,:exiting,:the,:executive,:hallway,:and,:descending,:the,:stairs,:to  …  :about,:to,:exit,:the,:caf,:with,:six,:other,:people,:.],[:john,symbol(\",\"),:wan,:na,:go,:into,:town,:?],[:the,:pleasure,:of,:the,:day,:was,:long,:gone,:.],[:she,:had,:clumsily,:loaded,:the,:handgun,:before,:she,:even,:left,:the,:village,:.],[:the,:news,:about,:cars,:and,:working,:cell,:phones,:in,:the,:uk,:was,:clearly,:just,:rumor,:.],[:i,:could,:feel,:nervous,:before,:a,:mission,:and,:even,:anxious,:during,:them,symbol(\",\"),:but,:i,:was,:never,:totally,:afraid,:.],[:thinking,:about,:those,:happy,symbol(\",\"),:but,:inevitably,:painful,:few,:months,:did,:little,:to,:lighten,:my,:mood,:now,:.],[:wed,:be,:pretty,:expensive,:too,:.],[:we,:have,:five,:minutes,:before,:our,:troops,:must,:retreat,:to,:the,:atrium,:.]],[[:he,:walked,:up,:to,:me,:angrily,symbol(\",\"),:and,:snatched,:my  …  :bread,:into,:my,:hand,symbol(\",\"),:fresh,:off,:the,:fire,:.],[:and,:so,:did,symbol(\"i.\"),:thats,:what,:confused,:me,:.],[:the,:couple,:broke,:off,:from,:the,:others,:and,:crossed,:the,:yard,:just,:as,:mike,:finished,:his,:food,:.],[:an,:engine,:roared,:into,:life,:.],[:all,:my,:friends,:are,:dead,:.],[:monday,symbol(\",\"),:i,:said,:to,:penny,:.],[:it,:was,:a,:big,:animal,:.],[:come,:on,symbol(\",\"),:i,:said,:and,:grabbed,:perrys,:elbow,:and,:led,:him,:off,:.],[:you,:say,:so,:a,:lot,:.],[:theyre,:just,:skeletons,:by,:now,:.]  …  [:did,:you,:foil,:the,:bombing,:?],[:the,:order,:plays,:an,:important,:role,:in,:keeping,:the,:peace,:within,:your,:country,symbol(\",\"),:deputy,:.],[:that,:i,:am,:a,:german,:spy,symbol(\",\"),:you,:mean,:to,:say,:.],[:it,:seemed,:to,:be,:growing,:hotter,:with,:every,:moment,:he,:spent,:inside,:the,:building,:.],[:a,:perfectly,:innocent,:inference,:to,:make,symbol(\",\"),:particularly,:considering,:the  …  :in,:one,:another,symbol(\"'s\"),:company,:over,:the,:past,:weeks,:.],[:who,:knows,:what,:the,:message,:says,:.],[:he,:jumped,:up,:.],[:its,:simply,:that,:if,:you,:refuse,:to,:be,:slowed,:by  …  :to,:let,:the,:petrel,:goit,:was,:still,:being,:refurbished,:.],[:no,:way,:!,symbol(\"''\")],[:if,:they,:stayed,:where,:they,:were,symbol(\",\"),:a,:gangster,:might  …  :the,:kids,:with,:either,:bullets,:or,:even,:a,:grenade,:.]],[[:and,:it,:was,:impossible,:to,:move,:silently,:through,:the,:undergrowth,:.],[:or,:we,:might,:get,:back,:on,:the,:boat,:tonight,:and,:make,:for,:isle,:royale,:under,:cover,:of,:darkness,:.],[:what,:we,:really,:need,:to,:do,:is,:lay,:low,:in,:the,:canadian,:wilderness,:for,:a,:few,:years,:.],[:the,:guard,:called,:artur,symbol(\",\"),:who,:seemed,:to,:be,:in  …  :wanted,:several,:of,:his,:men,:to,:ride,:with,:us,:.],[:her,:little,:round,:face,:scrunched,:into,:a,:perplexed,:expression,symbol(\",\"),:freckles,:and,:all,:.],[:i,:buy,:most,:of,:my,:clothes,:at,:secondhand,:stores,symbol(\",\")  …  :so,:i,:was,:okay,:with,:madame,:x,symbol(\"'s\"),:leftovers,:.],[:carry,:our,:devotion,:to,:our,:god,:.],[:i,:ca,symbol(\"n't\"),:tell,:the,:color,:of,:her,:hair,symbol(\",\"),:i,:said,:.],[:i,:respect,:this,:star,:magic,:that,:gives,:you,:so,:many,:answers,symbol(\",\"),:although,:i,:do,:not,:understand,:it,:.],[:it,:is,:you,symbol(\",\"),:stargazer,:.]  …  [:that,:part,:still,:hoped,:for,:another,:life,:.],[:henrik,:stared,:daggers,:at,:neils,:.],[:the,:doctors,:new,:patients,:were,:an,:odd,:mixture,:of,:races  …  :hispanics,symbol(\",\"),:slavs,symbol(\",\"),:gypsies,symbol(\",\"),:indians,:and,:orientals,:.],[:it,:will,:raise,:that,:horrible,:rats,:nest,:to,:the,:ground,:and,:then,:all,:of,:europe,:will,:follow,:.],[:henrik,:felt,:the,:tension,:growing,:.],[:lets,:find,:out,:.],[:they,:looked,:quite,:comfortable,symbol(\",\"),:with,:thick,:soles,:that,:seemed,:to,:have,:a,:spring,:to,:them,:.],[symbol(\"``\"),:as,:if,:i,:have,:fallen,:from,:a,:tree,:on,:my,:head,:.,symbol(\"''\")],[:as,:they,:crawled,:from,:the,:thick,:brush,:and,:dusted,:the  …  :their,:garments,:a,:light,:wind,:brushed,:across,:their,:faces,:.],[:it,:is,:best,:when,:one,:can,:see,:what,:one,:is,:fighting,:for,:.,symbol(\"''\")]],[[:all,:the,:boys,:in,:the,:clubs,:eventually,:learned,:this,:beautiful  …  :dance,:with,:them,:and,:perhaps,:even,:smooch,:with,:them,:.],[:under,:both,:bags,:in,:the,:luggage,:closet,:in,:front,:of  …  :god,:in,:the,:clear,:rock,:was,:securely,:strapped,:down,:.],[:not,:being,:underway,:is,:suspicious,:in,:itself,:.],[:.],[:in,:the,:dark,:he,:had,:trouble,:finding,:the,:keyhole,:in  …  :the,:bulb,:had,:burned,:out,:in,:the,:porch,:light,:.],[:the,:paddocks,:were,:sufficiently,:dry,:to,:allow,symbol(\"mr.\"),:iredale,:to  …  :for,:them,:as,:the,:grass,:needed,:time,:to,:grow,:.],[:the,:plane,:powered,:down,:the,:runway,symbol(\",\"),:it,:had,:already,:started,:to,:rain,:.],[:george,:blanched,:.],[:we,:had,:to,:leave,:paan,:.],[:logan,:moved,:along,:the,:other,:.]  …  [:shed,:staggered,:back,:and,:fallen,:enough,:already,:to,:wonder,:if,:sitting,:would,:be,:uncomfortable,:tomorrow,:.],[:i,:could,symbol(\"n't\"),:tell,:you,:which,:are,:better,:off,:.,symbol(\"''\")],[:but,:she,:was,symbol(\"n't\"),:dying,:.],[:could,:it,:be,:?],[:the,:white,:scar,:across,:his,:cheek,:puckered,:with,:his,:slow,symbol(\",\"),:burning,:smile,:.],[symbol(\"``\"),:antral,:.,symbol(\"''\")],[:she,:looked,:hurt,symbol(\",\"),symbol(\"``\"),:why,:would,:i,:want,:to,:kill,:you,:?],[symbol(\"``\"),:you,:died,:?,symbol(\"''\")],[symbol(\"``\"),:losing,:your,:mind,:?,symbol(\"''\")],[:and,:yeah,:ill,:live,:.]],[[:how,:you,:think,:i,:got,:these,:fashionable,:boots,:?],[:you,:never,:saw,:anything,:like,:it,:in,:your,:life,symbol(\",\"),:the,:bear,:was,:three,:times,:his,:size,:.],[:its,:hard,:for,:those,:armchair,:warriors,:to,:appreciate,:the,:subtlety  …  :of,:the,:drawing,:room,:and,:who,:can,:blame,:them,:.],[:i,:am,:planning,:to,:return,:home,:the,:room,:fell,:silent  …  :come,:and,:live,:here,symbol(\",\"),:here,:in,:my,:house,:.],[:sananda,:on,:the,:other,:hand,:was,:seeing,:a,:different,:relevance  …  :next,:step,:is,:a,:lucky,:landing,:until,:you,:fall,:.],[:*,:*,:*,:morocco,:has,:had,:independence,:since,:the,:year  …  :properly,:valid,:due,:to,:the,:ceremony,:not,:being,:complete,:.],[:you,:have,:no,:objections,:to,:a,:voyage,:that,:could,:last,:over,:two,:years,:?],[:well,:done,symbol(\",\"),:richard,symbol(\",\"),:said,:the,:captain,symbol(\",\"),:standing,:with,:his,:senior,:officers,:in,:his,:cabin,:.],[:it,:was,:pitch,:dark,:.],[:the,:bay,:of,:biscay,:is,:nice,:this,:time,:of,:year  …  symbol(\",\"),:richard,:clapped,:on,:his,:hat,:and,:went,:ashore,:.]  …  [:as,:he,:sat,:down,symbol(\",\"),:obviously,:not,:serious,:about,:his,:offer,:.],[:the,:cardenas,:cartel,:supposedly,:gets,:a,:percentage,:of,:a,:loads,:value,symbol(\",\"),:or,:you,:risk,:them,:identifying,:the,:truck,:.],[:stokes,:and,symbol(\"lt.\"),:gorman,:issued,:schedules,:and,:began,:nightly,:deployments,:with,:their,:troops,:.],[:peter,:was,:guarded,:about,:presuming,:much,:.],[:at,:the,:same,:time,symbol(\",\"),:american,:citizens,:continued,:spending,:billions,:for,:recreational,:drugs,symbol(\",\"),:no,:matter,:how,:blood,:soaked,:.],[:between,:his,:broken,:love,:life,:and,:impossible,:promises,symbol(\",\"),:he,:was,:digging,:deep,:--,:again,:.],[:when,:he,:went,:on,:that,:suicidal,:mission,:in,:iran,symbol(\",\")  …  :gambled,:with,:her,:feelings,:or,:assumed,:they,:didnt,:matter,:.],[:i,:have,:done,:nothing,:to,:you,:!],[:he,:helped,:a,:grateful,:becky,:out,:of,:her,:chair,symbol(\",\")  …  :stuffed,:a,:pile,:of,:her,:clothes,:in,:her,:arms,:.],[:its,:your,:fault,symbol(\",\"),:said,:jim,:.]],[[:with,:each,:chortle,symbol(\",\"),:rolls,:of,:flesh,:rippled,:on,:his,:face,:and,:neck,:in,:a,:glistening,symbol(\",\"),:blubbery,:avalanche,:.],[:screamed,:the,:kwanzaa,:leader,:.],[:he,:kept,:changing,:channels,:.],[:shouted,:terwilliger,:.],[:he,:looked,:curiously,:at,:her,:but,:did,symbol(\"n't\"),:speak,:.],[symbol(\"``\"),:come,:on,symbol(\",\"),:get,:up,:!,symbol(\"''\")],[:she,:came,:upon,:paul,:next,symbol(\";\"),:he,:was,:walking,:alone  …  :slowly,:and,:purposefully,symbol(\",\"),:studying,:the,:ground,:for,:tracks,:.],[symbol(\"``\"),:surely,:that,symbol(\"'s\"),:illegal,:.],[:eleanor,:squeezed,:as,:much,:water,:as,:she,:could,:from,:her  …  :large,:rock,:where,:it,:could,:dry,:in,:the,:sun,:.],[:your,:story,:does,:not,:make,:sense,:.,symbol(\"''\")]  …  [:the,:truck,:turns,:to,:miss,:him,:and,:goes,:down,:the,:embankment,:.],[:this,:was,:cold,:comfort,:for,:andy,symbol(\",\"),:because,:he,:really,:was,:in,:a,:lot,:of,:pain,:.],[:occasionally,:a,:guard,:would,:put,:his,:face,:up,:to,:the,:door,symbol(\",\"),:look,:in,:and,:then,:disappear,:.],[:as,:the,:guard,:staggered,:back,symbol(\",\"),:the,:servant,:took,:a,:step,:forward,:and,:swung,:the,:pot,:in,:an,:arc,:.],[:she,:said,:instead,:.],[:the,:fridge,:contained,:a,:tub,:of,:humus,symbol(\",\"),:some,:wilted  …  :a,:bottle,:of,:champagne,:that,:michael,:had,:left,:behind,:.],[:there,:was,:a,:note,:by,:the,:kettle,:.],[:all,:this,:sky,:is,:making,:me,:poetic,:.],[:ill,:have,:you,:know,:i,:go,:to,:the,:gym,:three,:times,:a,:week,:for,:spinning,:classes,:.],[:she,:said,:with,:her,:limited,:breath,:.]],[[:you,:have,:a,:family,symbol(\",\"),:here,:.],[:theres,:more,:where,:that,:came,:from,:.],[:i,:couldnt,:find,:the,:horses,:.],[symbol(\"``\"),:what,:a,:thing,:to,:say,symbol(\",\"),:christopher,:.],[:he,:had,:hurt,:her,:again,:but,:they,:both,:decided,:that  …  symbol(\",\"),:giving,:a,:larger,:possibility,:of,:it,:being,:believed,:.],[:he,:was,:tired,:.],[:no,symbol(\",\"),:she,:realized,:.],[:run,:!],[:amira,:!],[:serena,:said,:downright,:terrified,:.]  …  [:exclaimed,:buster,symbol(\",\"),:who,:broke,:into,:a,:run,:toward,:the,:duel,:.],[:soon,:you,:will,:be,:on,:a,:most,:interesting,:adventure,:with,:your,:cousin,:michael,:.],[:do,:you,:think,:i,:might,:have,:said,:something,:wrong,:?],[:and,:they,:were,:both,:very,:much,:afraid,:of,:this,:.],[:as,:ever,symbol(\",\"),:the,:casino,:was,:a,:hotbed,:of,:gamblers  …  :however,symbol(\",\"),:the,:people,:watching,:proceedings,:remained,:the,:same,:.],[:could,:it,:be,:the,:one,symbol(\",\"),:the,:door,:of,:the,:teachers,:?],[:she,:was,:back,:in,:a,:few,:minutes,symbol(\",\"),:saying,symbol(\",\"),:janet,:carter,:insists,:we,:check,:on,:harris,:.],[:go,:tell,:gan,:and,:clas,:ill,:be,:out,:front,:as,:soon,:as,:i,:can,:.],[:a,:new,:earth,:awaits,:us,:.],[:again,symbol(\",\"),:its,:lethal,:within,:fifteen,:yards,:.]],[[:the,:remark,:brought,:jones,:head,:up,:.],[:thats,:a,:bit,:creepy,:.],[:you,symbol(\"'ve\"),:been,:all,:alone,:?],[:melody,:exclaimed,:.],[:it,:was,:now,:hanging,:askew,symbol(\",\"),:the,:pistol,:riding,:very,:low,:.],[:neither,:business,:had,:attracted,:large,:volumes,:of,:customers,:and,:the,:parking,:lot,:was,:usually,:empty,:.],[:next,:she,:went,:to,:her,:bookshelves,:and,:selected,:the,:story,:for,:her,:first,:adventure,:little,:red,:riding,:hood,:.],[:i,:already,:have,symbol(\",\"),:many,:times,symbol(\",\"),:said,:clementine,:with,:a,:sigh,:.],[:the,:message,:was,:repeated,:throughout,:the,:day,:and,:into,:the,:night,:.],[:lets,:go,:for,:a,:walk,symbol(\",\"),:said,:clementine,:with,:a,:sigh,:.]  …  [:wait,symbol(\"'til\"),:i,:tell,:maximilian,:.],[:weary,:to,:the,:bone,symbol(\",\"),:kat,:sprinted,:down,:an,:obscure  …  :her,:shoulder,:and,:splattering,:through,:puddles,:of,:tainted,:rain,:.],[:stop,:it,:!],[:it,:continued,:to,:watch,:her,:as,:she,:stared,:in,:its,:direction,:.],[:i,:will,:look,:elsewhere,:for,:my,:answers,:.],[:ill,:be,:lifting,:off,:once,:you,:clear,:the,:landing,:pad,:and,:wont,:be,:back,:till,:this,:storm,:clears,:.],[:they,:were,:just,:normal,:humans,:from,:back,:in,:the,:stone,:age,:.],[:jay,:was,:behind,:hollie,:.],[:wow,symbol(\",\"),:thats,:big,symbol(\",\"),:hollie,:nodded,:.],[:they,:stepped,:from,:the,:carrier,:to,:be,:greeted,:by,:a,:fully,:clad,:spearman,:.]]  …  [[symbol(\"``\"),:i,:do,symbol(\"n't\"),:know,:that,:you,:can,:.],[:he,:had,:not,:.],[:and,:then,:it,:occurred,:to,:me,:.],[symbol(\"``\"),:cadmus,:...,symbol(\"''\"),:my,:voice,:trailed,:off,:uncertainly,:.],[:the,:clear,:liquid,:streamed,:from,:his,:chin,:as,:he,:drank,:even,:more,:.],[symbol(\"``\"),:will,:i,:?,symbol(\"''\")],[:i,:backed,:away,:.],[:our,:heartache,:was,:behind,:us,:.],[:have,:you,:any,:idea,:how,:or,:where,:we,:should,:gain,:entrance,:or,:find,:our,:hostess,:?,symbol(\"''\")],[:i,:lifted,:my,:nose,:and,:tried,:not,:to,:be,:annoyed,:by,:how,:tall,:he,:was,:.]  …  [:i,:put,:the,:glass,:back,:on,:the,:shelf,:.],[symbol(\"``\"),:yeah,:.],[:i,:really,:do,:.,symbol(\"''\")],[:he,:needs,:something,:to,:organize,:so,:he,:does,symbol(\"n't\"),:go,:nuts,:or,:drive,:me,:crazy,:.],[:they,symbol(\"'ve\"),:shown,:that,:they,symbol(\"'re\"),:stealing,:kids,:very,symbol(\",\"),:very,:close,:to,:the,:swamp,:.],[:like,:crazy,:.,symbol(\"''\")],[symbol(\"``\"),:how,:many,:are,:going,:?,symbol(\"''\")],[:he,:smiled,:and,:dipped,:his,:head,:down,:to,:meet,:mine,:.],[:i,:laughed,:.],[symbol(\"``\"),:yeah,:.]],[[symbol(\"``\"),:this,:one,:is,:definitely,:coming,:.,symbol(\"''\")],[:he,:ca,symbol(\"n't\"),:help,:it,:if,:he,:repeats,:the,:phrases,:he,:knows,:.,symbol(\"''\")],[:but,:at,:the,:first,:sign,:of,:something,:being,:off,symbol(\",\"),:we,:cut,:him,:loose,symbol(\",\"),symbol(\"''\"),:said,:peter,:.],[symbol(\"``\"),:yeah,:.],[:he,:put,:it,:in,:the,:water,:and,:moved,:it,:around,:.],[:shouted,:peter,:.],[:i,symbol(\"'m\"),:too,:tired,:to,:go,:any,:farther,:.],[:and,:probably,:to,:me,symbol(\",\"),:too,:.],[:james,:sits,:next,:to,:me,:and,:immediately,:grabs,:a,:burrito,:.],[:but,:right,:now,:survival,:is,:key,:.]  …  [:the,:need,:could,:help,:her,:see,:that,:her,:obsession,:with,:her,:husband,symbol(\"'s\"),:death,:is,:driving,:her,:son,:away,:.],[symbol(\"``\"),:you,:do,symbol(\"n't\"),:look,:happy,:to,:see,:me,symbol(\",\"),symbol(\"''\"),:she,:says,:.],[:you,symbol(\"'re\"),:the,:only,:person,:who,:tells,:me,:off,:on,:a,:daily,:basis,:.,symbol(\"''\")],[symbol(\"``\"),:listen,symbol(\",\"),:gorm,symbol(\",\"),:i,symbol(\"'m\"),:not,:mistaken,:.],[:you,:may,:ask,:.,symbol(\"''\")],[:you,symbol(\"'re\"),:smart,symbol(\",\"),symbol(\"good-looking\"),symbol(\",\"),:nice,:...,symbol(\"``\"),symbol(\"``\"),:do,symbol(\"n't\"),:forget,:crafty,:.],[symbol(\"``\"),:i,symbol(\"'d\"),:know,:your,:signature,:anywhere,symbol(\",\"),symbol(\"''\"),:he,:said,:smiling,:.],[:without,:even,:thinking,:about,:it,symbol(\",\"),:i,:pulled,:the,:green  …  :with,:all,:of,:the,:energy,:i,:could,:hardly,:contain,:.],[:they,:were,:staring,:back,:at,:me,symbol(\",\"),:both,:of,:them,:smiling,:from,:ear,:to,:ear,:.],[symbol(\"``\"),:so,:are,:you,:in,:there,symbol(\",\"),:in,:there,symbol(\",\")  …  :just,:kind,:of,:like,:a,:ghost,:there,:too,:?,symbol(\"''\")]],[[:becky,:came,:over,:and,:sat,:down,:with,:me,symbol(\",\"),:rubbing,:my,:back,:with,:her,:little,:hand,:.],[:spike,:scowled,:but,:said,:nothing,:.],[:i,:get,:it,:.],[symbol(\"``\"),:what,:is,:it,:?,symbol(\"''\")],[:asked,:tim,:in,:a,:trembling,:voice,:.],[:chapter,symbol(\"26\"),:the,:howl,:of,:malena,symbol(\"'s\"),:tempest,:was,:getting,:louder,:and,:louder,:.],[symbol(\"``\"),:i,:find,:it,:hard,:to,:believe,:that,:a,:changeling  …  :torture,:and,:did,:not,:provide,:the,:information,:demanded,:.,symbol(\"''\")],[:dardennes,:shot,:some,:looks,:out,:at,:the,:witches,:and,:then  …  :council,symbol(\",\"),:who,:returned,:his,:look,:with,:a,:frown,:.],[:the,:green,:string,:theory,:?],[:i,:sensed,:through,:my,:resistance,:that,:the,:tree,:had,:never,:encountered,:this,:type,:of,:rebellion,:before,:.]  …  [:the,:others,:were,:asleep,symbol(\",\"),:and,:even,:though,:the,:soft  …  :mind,:could,:focus,:on,:was,:that,:stupid,:dripping,:water,:.],[:paul,:leaned,:forward,:to,:put,:his,:elbows,:on,:his,:knees,symbol(\",\"),:looking,:their,:way,:.],[symbol(\"``\"),:why,:ca,symbol(\"n't\"),:you,:just,:shoot,:balls,:of,:fire,:?],[symbol(\"``\"),:mothball,:!],[:jane,:shoved,:her,:hand,:into,:the,:silver,:goop,symbol(\",\"),:and,:soon,:this,:one,:opened,:up,:as,:well,:.],[symbol(\"``\"),:and,:if,:they,:stand,:too,:close,:to,:us,:when,:we,:begin,symbol(\",\"),:they,:will,:explode,:.,symbol(\"''\")],[:straining,:with,:the,:effort,symbol(\",\"),:he,:spoke,:through,:his,:trembling,:concentration,:.],[symbol(\"``\"),:that,symbol(\"'s\"),:herakles,:and,:perseus,:.],[:he,:yelled,symbol(\",\"),:obviously,:forgetting,:that,:they,:were,:supposed,:to  …  :on,:a,:stealthy,:mission,:to,:save,:his,:former,:student,:.],[symbol(\"``\"),:i,:do,symbol(\"n't\"),:trust,:that,:lady,:any,:farther,:than,:riq,:can,:throw,:sera,:.,symbol(\"''\")]],[[:i,:give,:you,:my,:word,symbol(\",\"),:dak,:.],[:risking,:the,:man,symbol(\"'s\"),:wrath,symbol(\",\"),:he,:turned,:his,:head  …  :back,:in,:the,:direction,:from,:which,:they,symbol(\"'d\"),:come,:.],[:her,:mom,:.],[:she,:did,symbol(\"n't\"),:say,:anything,:as,:her,:eyes,:slowly,:trailed,:down,:my,:body,:.],[:she,:did,symbol(\"n't\"),:want,:to,:leave,:me,:.],[:i,:wanted,:you,:naked,:and,:crying,:out,:in,:pleasure,:underneath,:me,:.],[:i,:grimaced,:at,:the,:thought,:of,:raw,:squishy,:slimy,:blobs  …  :were,:actual,:y,:going,:to,:put,:in,:their,:mouth,:.],[symbol(\"``\"),:if,:i,symbol(\"'d\"),:known,:you,:were,:riding,:a,:bike  …  :have,:done,:something,:about,:it,:a,:long,:time,:ago,:.],[symbol(\"``\"),:well,symbol(\",\"),:i,:guess,:i,:did,symbol(\"n't\"),:think,:you  …  symbol(\",\"),:you,:made,:a,:dream,:come,:true,:for,:her,:.],[:the,:idea,:that,:jax,:had,:a,:pop,:star,:girlfriend,:did,symbol(\"n't\"),:make,:sense,:to,:me,:.]  …  [symbol(\"``\"),:does,:it,:work,:?,symbol(\"''\")],[:to,:have,:no,:one,:.],[:the,:ambulance,:sped,:off,:with,:full,:lights,:and,:sirens,:down  …  symbol(\",\"),:and,:peter,:and,:veronica,:ran,:to,:their,:cars,:.],[:the,:next,:weekend,:was,:prom,symbol(\",\"),:and,:two,:weeks,:after,:that,:was,:graduation,:.],[symbol(\"``\"),:blt,:with,:cheese,symbol(\",\"),:mustard,symbol(\",\"),:and,:mayo,symbol(\",\"),symbol(\"''\"),:the,:woman,:said,:with,:a,:knowing,:smile,:.],[:i,:looked,:up,:at,:her,symbol(\",\"),:desperate,:.],[symbol(\"``\"),:do,:you,:see,:anyone,:else,:running,:this,:shit,:?,symbol(\"''\")],[symbol(\"``\"),:i,:know,:my,:reputation,:at,:the,:office,:.],[:maddox,:is,:coming,:.,symbol(\"''\")],[:it,:would,:have,:just,:made,:things,:more,:difficult,:than,:they,:already,:were,:.,symbol(\"''\")]],[[symbol(\"``\"),:it,:does,symbol(\"n't\"),:bother,:me,:.,symbol(\"''\")],[:i,:snapped,:.],[:if,:thomas,:seeing,:camille,:changed,:anything,symbol(\",\"),:at,:least,:remembering  …  :to,:mourning,:our,:fake,:relationship,:when,:we,:got,:home,:.],[symbol(\"``\"),:this,:is,:my,:first,:semester,symbol(\",\"),symbol(\"''\"),:i,:said,:.],[symbol(\"``\"),:being,:with,:her,:was,:a,:mistake,:.],[symbol(\"``\"),:he,symbol(\"'s\"),:down,:again,:!],[:i,:thought,:you,:thought,:it,:was,:a,:mistake,:.,symbol(\"''\")],[:it,:will,:only,:make,:me,:an,:egotistical,:jackass,:.,symbol(\"''\")],[:she,:hugged,:him,:back,symbol(\",\"),:smiling,:softly,symbol(\",\"),:and,:feeling,:very,:loved,:.],[:when,:she,:did,symbol(\"n't\"),:answer,symbol(\",\"),:charlie,:glanced,:up,:at,:her,:face,:and,:found,:her,:staring,:at,:him,:oddly,:.]  …  [:and,:the,:change,:was,:happening,:very,:slowly,symbol(\",\"),:too,:.],[:she,:could,:scarcely,:believe,:it,:.],[:he,:heard,:someone,:ask,symbol(\",\"),:and,:looked,:up,:into,:the,:imp,:marm,symbol(\"'s\"),:black,:eyes,:as,:she,:suddenly,:appeared,:.],[:it,:would,symbol(\"n't\"),:take,:much,:digging,:for,:an,:interested,:party  …  :abnormal,:...,:upon,:which,:she,symbol(\"'d\"),:built,:this,:life,:.],[:the,:bay,:of,:beasts,:.],[:not,:the,:fruit,:.],[:akiva,:felt,symbol(\",\"),:in,:his,:fingers,symbol(\",\"),:the,:desire,:to,:brush,:it,:back,:for,:her,:.],[:as,:they,:drew,:nearer,symbol(\",\"),:tires,:grinding,:over,:rocks,symbol(\",\")  …  symbol(\",\"),:among,:them,:jeeps,:and,:heavy,:military,:transport,:trucks,:.],[:and,:now,:there,:never,:would,:be,:.],[:how,:could,:you,:not,:call,:me,:?]],[[:do,symbol(\"n't\"),:let,:the,:...,:uh,symbol(\",\"),:sky,:flap,:thing,:...,:hit,:you,:on,:the,:way,:out,:.],[symbol(\"``\"),:i,:want,:you,:to,:be,:...],[:sharp,:horns,symbol(\",\"),:sharp,:hooves,symbol(\",\"),:and,:the,:cut,:of,:his,:wings,:sharp,symbol(\",\"),:too,:.],[:the,:men,:were,:separated,:out,:like,:wheat,:chaff,:and,:left,:where,:they,:stood,:.],[:i,:worked,:in,:feverish,:concentration,:.],[:this,:is,:real,:.],[:i,:ask,:.],[symbol(\"``\"),:i,symbol(\"'ve\"),:never,:heard,:you,:before,:.,symbol(\"''\")],[:i,:laugh,symbol(\",\"),:draw,:closer,:to,:him,symbol(\",\"),:and,:brush,:his,:cheek,:with,:my,:hand,:.],[:i,:put,:it,:to,:my,:lips,:with,:trembling,:fingers,:and,:light,:it,:up,:.]  …  [:for,:bringing,:him,:to,:me,symbol(\",\"),:and,:me,:to,:him,:.],[:you,:can,:drive,:and,:keep,:driving,:.],[:one,:second,:i,symbol(\"'m\"),:standing,:up,:looking,:at,:her,symbol(\",\")  …  :shower,:wall,:as,:i,:fall,:down,:into,:the,:tub,:.],[:i,:never,:managed,:to,:finish,:that,:when,:we,:read,:it  …  :got,:me,:a,:big,:fat,:f,:on,:the,:exam,:.],[:i,:did,:lower,:body,:this,:morning,symbol(\",\"),:so,:i,:can,:get,:away,:with,:some,:time,:spent,:on,:my,:arms,:.],[:she,:moved,:closer,:toward,:me,symbol(\",\"),:and,:i,:knew,:by  …  :face,:the,:second,:she,:passed,:out,:of,:his,:reach,:.],[symbol(\"``\"),:i,symbol(\"'m\"),:not,:judging,:you,:.],[:then,:i,:set,:out,:to,:discover,:exactly,:what,:her,:lips,:tasted,:like,:.],[:she,:was,:not,:allowed,:to,:accept,:things,:to,:eat,:or,:drink,:from,symbol(\"non-family\"),:members,:.],[symbol(\"mrs.\"),:elston,:prompted,:her,:.]],[[symbol(\"``\"),:what,:is,:it,:like,:to,:bathe,:for,:hours,:in,:the,:sun,:?,symbol(\"''\")],[symbol(\"``\"),:and,:fools,:!,symbol(\"''\")],[:it,:was,:a,:stupid,:song,symbol(\",\"),:but,:it,:had,:always  …  :giggle,:and,:so,:it,:usually,:made,:liza,:feel,:better,:.],[symbol(\"``\"),:ca,symbol(\"n't\"),:trust,:a,:dirty,symbol(\",\"),:filthy,:rat,:.],[symbol(\"``\"),:but,:i,:ca,symbol(\"n't\"),:stay,:here,:forever,:.],[:that,symbol(\"'s\"),:why,:i,:chose,:it,:too,:.],[:an,:hour,:later,symbol(\",\"),:the,:door,:to,:their,:room,:snapped,:shut,:.],[:damn,:.],[:only,:a,:masochist,:would,:want,:to,:watch,:that,:in,:action,:.],[:the,:reactions,:of,:most,:of,:the,:people,:i,:knew,:was,:some,:variation,:of,:cool,:tats,symbol(\",\"),:man,:.]  …  [symbol(\"``\"),:i,:love,:you,:so,:much,symbol(\",\"),:ridley,symbol(\",\"),symbol(\"''\")  …  symbol(\",\"),:giving,:me,:a,:hard,:kiss,:on,:the,:forehead,:.],[symbol(\"``\"),:mom,symbol(\",\"),symbol(\"''\"),:i,:said,symbol(\",\"),:stepping,:over,:to,:hug,:her,:.],[:next,:i,:felt,:the,:faint,:pressure,:of,:tender,:fingers,:at,:my,:cheek,:.],[:ignoring,:that,:my,:stomach,:was,:aflutter,:and,:that,:my,:blood  …  :my,:ears,symbol(\",\"),:i,:slipped,:out,:from,:around,:bo,:.],[symbol(\"``\"),:alright,symbol(\",\"),symbol(\"''\"),:i,:finally,:said,symbol(\",\"),:preceding,:drew,:to,:the,:door,:.],[:they,:attacked,:him,:so,:viciously,symbol(\",\"),:they,:almost,:decapitated,:him,:.],[symbol(\"``\"),:what,:an,:amazing,:sponsor,:you,:must,:be,symbol(\",\"),:violet,:.,symbol(\"''\")],[:just,:...,:just,:be,:careful,symbol(\",\"),:okay,:?,symbol(\"''\")],[:my,:pulse,:is,:racing,:as,:i,:leap,:out,:of,:bed  …  :only,:for,:a,:heartbeat,:to,:glance,:out,:the,:peephole,:.],[:and,symbol(\",\"),:like,:i,:had,:done,:to,:him,symbol(\",\"),:he  …  :above,:my,:head,symbol(\",\"),:leaving,:me,:helpless,:against,:him,:.]],[[:the,:boys,:get,:up,:and,:run,:to,:see,:what,:she,symbol(\"'s\"),:got,:.],[:i,:wink,:at,:her,symbol(\",\"),:not,:yet,:putting,:her,:out,:of,:her,:misery,:.],[:and,:it,:wo,symbol(\"n't\"),:be,:her,:fault,:when,:i,:dip  …  :sensitive,:spot,:below,:it,:before,:the,:break,:of,:dawn,:.],[symbol(\"``\"),:go,:easy,:on,:that,:.],[:again,symbol(\",\"),:i,:admire,:the,:way,:he,:glistens,:in,:the  …  symbol(\",\"),:like,:a,:champion,:thoroughbred,:in,:peak,:physical,:condition,:.],[:it,symbol(\"'s\"),:light,:and,:sweet,:.],[:she,:struggles,:with,:how,:to,:phrase,:whatever,:she,symbol(\"'s\"),:getting,:at,:.],[:without,:even,:asking,:me,:.],[:a,:list,:of,:things,:to,:get,:from,:the,:grocery,:store,:.],[symbol(\"``\"),:that,symbol(\"'s\"),:not,:how,:i,:remember,:it,symbol(\",\"),symbol(\"''\"),:i,:say,symbol(\",\"),:setting,:her,:on,:her,:feet,:.]  …  [symbol(\"``\"),:stop,:!,symbol(\"''\")],[:one,:person,:said,symbol(\",\"),:clapping,:me,:on,:the,:back,:as,:he,:walked,:by,:.],[symbol(\"``\"),:fuck,:.,symbol(\"''\")],[symbol(\"``\"),:what,symbol(\"'s\"),:up,:?,symbol(\"''\")],[:i,symbol(\"'ve\"),:been,:completely,:encouraging,:.,symbol(\"''\")],[:fucker,:.],[:it,:felt,:easier,:than,:dealing,:with,:the,:pain,:.,symbol(\"''\")],[symbol(\"``\"),:well,symbol(\",\"),symbol(\"''\"),:i,:said,symbol(\",\"),:scratching,:the,:back,:of,:my,:head,symbol(\",\"),symbol(\"``\"),:i,:invited,:him,:.,symbol(\"''\")],[:it,symbol(\"'s\"),:already,:better,:since,:you,:talked,:.,symbol(\"''\")],[symbol(\"``\"),:grant,:!,symbol(\"''\")]],[[symbol(\"``\"),:that,:means,symbol(\",\"),:yes,symbol(\",\"),:dick,symbol(\",\"),symbol(\"''\"),:vin  …  :on,:the,:arm,symbol(\",\"),:as,:he,:followed,:miller,:out,:.],[:he,:stood,:and,:moved,:so,:that,:he,:was,:in,:front,:of,:me,:again,:.],[:but,:the,:words,:were,:for,:her,:.],[:i,:needed,:to,:talk,:to,:ari,:.],[:i,symbol(\"'d\"),:even,:called,:my,:parents,:and,:asked,:if,:we  …  :to,:boston,symbol(\",\"),:so,:i,:could,:come,:home,:earlier,:.],[:she,symbol(\"'s\"),:stressed,:.],[:i,:would,symbol(\"n't\"),:get,:carded,:here,:anyway,:.],[:she,:took,:a,:sip,:and,:tried,:not,:to,:wince,:as,:the,:alcohol,:hit,:her,:.],[symbol(\"``\"),:victoria,symbol(\",\"),:this,:is,:hayden,:lane,symbol(\",\"),:my,:editor,:at,:the,:paper,:.],[:they,:would,:be,:laughing,:at,:her,:for,:committing,:so,:thoroughly,:to,:their,:prank,:on,:the,:new,:girl,:.]  …  [:so,:if,:this,:is,:all,:a,:story,:in,:my,:head  …  symbol(\",\"),:forget,:it,symbol(\",\"),symbol(\"''\"),:he,:says,:with,:feeling,:.],[symbol(\"``\"),:there,:ai,symbol(\"n't\"),:no,:more,:aliens,:.,symbol(\"''\")],[symbol(\"``\"),:oh,symbol(\",\"),:yeah,symbol(\",\"),symbol(\"''\"),:i,:say,symbol(\",\"),:remembering  …  :trying,:to,:say,:it,:like,:i,:knew,:all,:along,:.],[:and,:in,:the,:sudden,:silence,:that,:follows,symbol(\",\"),:we,:hear,:the,:hoofbeats,:.],[symbol(\"``\"),:and,:i,:sang,:to,:you,:a,:song,:that,:my  …  symbol(\",\"),symbol(\"''\"),:and,:here,symbol(\",\"),:amazingly,symbol(\",\"),:viola,:sings,:.],[symbol(\"``\"),:i,:can,:be,:fast,symbol(\",\"),symbol(\"''\"),:she,:says,:.],[:how,:this,:works,:is,:that,:i,:ask,:and,:you,:answer,:.],[symbol(\"``\"),:is,:that,:true,:?,symbol(\"''\")],[symbol(\"``\"),:come,:with,:me,symbol(\",\"),:please,:.,symbol(\"''\")],[:and,:no,:word,:from,:todd,:.]],[[symbol(\"``\"),:the,:power,:station,symbol(\",\"),symbol(\"''\"),:mayor,:ledger,:says,symbol(\",\"),:unbelieving,:.],[:feeling,:nothing,:.],[symbol(\"``\"),:where,:do,:you,:live,:?,symbol(\"''\")],[symbol(\"``\"),:well,symbol(\",\"),symbol(\"''\"),:the,:mayor,:says,symbol(\",\"),:clasping,:his,:hands,:behind,:his,:back,symbol(\",\"),:looking,:at,:davy,:.],[symbol(\"``\"),:yer,:the,:one,:with,:no,:fixed,:centre,:.],[:for,:that,:is,:their,:name,:for,:me,:.],[:their,:water,:was,:the,:first,:step,:.],[:i,:smile,:.],[:pictures,:of,:me,symbol(\",\"),:too,:.],[:i,:nod,symbol(\",\"),:my,:eyes,:wetting,:further,:.]  …  [:damn,:.],[:i,:picked,:up,:the,:sheet,:of,:paper,:i,:had,:jotted  …  :and,:gave,:it,:a,:quick,:rip,:down,:the,:middle,:.],[:his,:words,:caused,:my,:heart,:to,:pick,:up,:speed,:because,:i,:did,symbol(\"n't\"),:like,:what,:they,:implied,:.],[:i,:do,symbol(\"n't\"),:think,:so,:.,symbol(\"''\")],[:i,:wo,symbol(\"n't\"),:sleep,:tonight,:anyway,:knowing,:he,symbol(\"'s\"),:still,:in,:that,:place,:.,symbol(\"''\")],[symbol(\"``\"),:about,:that,:girl,:.,symbol(\"''\")],[symbol(\"``\"),:which,:was,:when,:?,symbol(\"''\")],[:maybe,:i,symbol(\"'m\"),:a,:charlie,symbol(\"'s\"),:angel,:natural,:.,symbol(\"''\")],[:she,:knew,:what,:we,:were,:doing,:.],[:i,:rolled,:over,:to,:face,:him,:and,:he,:hitched,:my,:leg,:over,:his,:hip,:.]]],Any[],Blocks.as_it_is,Blocks.as_it_is)"
      ]
     },
     "execution_count": 9,
     "metadata": {},
     "output_type": "execute_result"
    }
   ],
   "source": [
    "test_set_blocks = Block(test_set, 1, 1000)"
   ]
  },
  {
   "cell_type": "code",
   "execution_count": 10,
   "metadata": {
    "collapsed": false
   },
   "outputs": [
    {
     "data": {
      "text/plain": [
       "jldopen_append (generic function with 1 method)"
      ]
     },
     "execution_count": 10,
     "metadata": {},
     "output_type": "execute_result"
    }
   ],
   "source": [
    "function jldopen_append(func::Function, filename::AbstractString)\n",
    "    mode = isfile(filename) ? \"r+\" : \"w\" #Only open with \"w\" if it does't already exist\n",
    "    jldopen(func, filename, mode)\n",
    "end"
   ]
  },
  {
   "cell_type": "code",
   "execution_count": 11,
   "metadata": {
    "collapsed": false
   },
   "outputs": [
    {
     "data": {
      "text/plain": [
       "run (generic function with 2 methods)"
      ]
     },
     "execution_count": 11,
     "metadata": {},
     "output_type": "execute_result"
    }
   ],
   "source": [
    "const res_type = Tuple{Array{Symbol,1},Array{Symbol,1},Float32}\n",
    "function run(test_set_blocks, save_path=\"selection.jld\")\n",
    "    try\n",
    "        Lumberjack.info(\"Began selection\")\n",
    "        ii = 0 \n",
    "        map(test_set_blocks) do block\n",
    "            \n",
    "            block_res::Vector{res_type} = pmap(block,err_stop=true) do target_sent\n",
    "            #block_res::Vector{res_type} = map(block) do target_sent\n",
    "                sol, score = greedy_search(data, target_sent, rounds=10_000, log=false)\n",
    "                (target_sent, sol, score)\n",
    "            end\n",
    "            ii+=1\n",
    "            avg_score = sum([r[3] for r in block_res])/length(block)\n",
    "            Lumberjack.info(\"$ii done: $avg_score\")\n",
    "            jldopen_append(save_path) do fh\n",
    "                write(fh,string(ii), block_res)\n",
    "            end\n",
    "            Lumberjack.debug(\"$ii written to disc\")\n",
    "        end\n",
    "    catch err\n",
    "        Lumberjack.error(\"Unhandled Error\", base_exception=err)\n",
    "    end\n",
    "    Lumberjack.info(\"complete selection\")\n",
    "end"
   ]
  },
  {
   "cell_type": "code",
   "execution_count": null,
   "metadata": {
    "collapsed": false
   },
   "outputs": [
    {
     "name": "stdout",
     "output_type": "stream",
     "text": [
      "2016-01-29T18:41:57 - info: Began selection\n"
     ]
    }
   ],
   "source": [
    "err_oo =0\n",
    "try\n",
    "    run(test_set_blocks, \"results/bags/$(corpus_filename).jld\") \n",
    "catch err\n",
    "    err_oo = err\n",
    "end"
   ]
  },
  {
   "cell_type": "code",
   "execution_count": null,
   "metadata": {
    "collapsed": false
   },
   "outputs": [],
   "source": [
    "ans"
   ]
  },
  {
   "cell_type": "code",
   "execution_count": 146,
   "metadata": {
    "collapsed": false
   },
   "outputs": [
    {
     "data": {
      "text/plain": [
       "8-element Array{Array{SubString{ASCIIString},1},1}:\n",
       " SubString{ASCIIString}[\"name\",\"this\",\"1922\",\"novel\",\"about\",\"leopold\",\"bloom\",\"written\",\"by\",\"james\",\"joyce\"]                                                                                         \n",
       " SubString{ASCIIString}[\"ralph\",\"waldo\",\"emerson\",\"dismissed\",\"this\",\"poet\",\"as\",\"the\",\"jingle\",\"man\"  …  \"russell\",\"lowell\",\"called\",\"him\",\"three-fifths\",\"genius\",\"and\",\"two-fifths\",\"sheer\",\"fudge\"]\n",
       " SubString{ASCIIString}[\"this\",\"is\",\"the\",\"basis\",\"of\",\"a\",\"comedy\",\"of\",\"manners\",\"first\",\"performed\",\"in\",\"1892\"]                                                                                    \n",
       " SubString{ASCIIString}[\"in\",\"a\",\"third\",\"novel\",\"a\",\"sailor\",\"abandons\",\"the\",\"patna\",\"and\"  …  \"marlow\",\"who\",\"in\",\"another\",\"novel\",\"meets\",\"kurtz\",\"in\",\"the\",\"congo\"]                             \n",
       " SubString{ASCIIString}[\"thus\",\"she\",\"leaves\",\"her\",\"husband\",\"and\",\"child\",\"for\",\"aleksei\",\"vronsky\"  …  \"ends\",\"sadly\",\"when\",\"she\",\"leaps\",\"in\",\"front\",\"of\",\"a\",\"train\"]                           \n",
       " SubString{ASCIIString}[\"we\",\"looked\",\"out\",\"at\",\"the\",\"setting\",\"sun\",\".\"]                                                                                                                            \n",
       " SubString{ASCIIString}[\"i\",\"went\",\"to\",\"the\",\"kitchen\",\".\"]                                                                                                                                           \n",
       " SubString{ASCIIString}[\"how\",\"are\",\"you\",\"doing\",\"?\"]                                                                                                                                                 "
      ]
     },
     "execution_count": 146,
     "metadata": {},
     "output_type": "execute_result"
    }
   ],
   "source": [
    "eg_corpus = @pipe [\"name this 1922 novel about leopold bloom written by james joyce\",#* \" .\",\n",
    "    \"ralph waldo emerson dismissed this poet as the jingle man and james russell lowell called him three-fifths genius and two-fifths sheer fudge\",# * \" .\",\n",
    "    \"this is the basis of a comedy of manners first performed in 1892\",#*\" .\",\n",
    "    \"in a third novel a sailor abandons the patna and meets marlow who in another novel meets kurtz in the congo\",\n",
    "    \"thus she leaves her husband and child for aleksei vronsky but all ends sadly when she leaps in front of a train\",\n",
    "    \"we looked out at the setting sun .\",\n",
    "    \" i went to the kitchen .\",\n",
    "    \"how are you doing ?\"\n",
    "    ] |>map(split,_) #|> map(shuffle,_)"
   ]
  },
  {
   "cell_type": "code",
   "execution_count": 19,
   "metadata": {
    "collapsed": false,
    "scrolled": true
   },
   "outputs": [
    {
     "name": "stdout",
     "output_type": "stream",
     "text": [
      "\tFrom worker 9:\tPOST_ADD_STEP: -4.98164554219167 Any[:you,symbol(\"'re\"),:do,:how,:besides]\n",
      "\tFrom worker 8:\tPOST_ADD_STEP: -1.2333925124245116e-6 Any[:i,:to,:the,:kitchen,:went,:.]\n",
      "\tFrom worker 7:\tPOST_ADD_STEP: -2.4465027206035164e-6 Any[:we,:at,:out,:sun,:the,:looked,:setting,:.]\n",
      "\tFrom worker 9:\tPOST_SWAP_STEP: -4.804646 Any[symbol(\"'re\"),:do,:how,:besides,:?]\n",
      "\tFrom worker 9:\tPOST_ADD_STEP: -4.804646 Any[symbol(\"'re\"),:do,:how,:besides,:?]\n",
      "\tFrom worker 8:\tPOST_SWAP_STEP: -1.0199695e-6 Any[:i,:to,:the,:kitchen,:went,:.]\n",
      "\tFrom worker 2:\tPOST_ADD_STEP: -2.3108506554848527e-6 Any[:written,:novel,:by,:james,:name,:leopold,:about,:bloom,symbol(\"1922\"),:this,:joyce]\n",
      "\tFrom worker 9:\tPOST_SWAP_STEP: -4.4905496 Any[symbol(\"'re\"),:do,:how,:?,:well]\n",
      "\tFrom worker 9:\tPOST_ADD_STEP: -4.490549 Any[symbol(\"'re\"),:do,:how,:?,:well]\n",
      "\tFrom worker 7:\tPOST_SWAP_STEP: -2.8359793e-6 Any[:we,:at,:out,:sun,:the,:looked,:setting,:.]\n",
      "\tFrom worker 4:\tPOST_ADD_STEP: -4.21602260213538 Any[:this,:a,:of,:in,:comedy,:of,:first,:this,:performed,:basis,:manners,symbol(\"1892\"),:the]\n",
      "\tFrom worker 9:\tPOST_SWAP_STEP: -4.490549 Any[symbol(\"'re\"),:do,:how,:?,:well]\n",
      "\tFrom worker 2:\tPOST_SWAP_STEP: -2.4892306e-6 Any[:written,:novel,:by,:james,:name,:leopold,:about,:bloom,symbol(\"1922\"),:this,:joyce]\n",
      "\tFrom worker 4:\tPOST_SWAP_STEP: -3.704945e-6 Any[:a,:of,:in,:comedy,:of,:first,:this,:performed,:basis,:manners,symbol(\"1892\"),:the,:is]\n",
      "\tFrom worker 5:\tPOST_ADD_STEP: -3.729499830405187 Any[:a,:in,:first,:the,:a,:novel,:meets,:in,:who,:in,:meets,:novel,:congo,:another,:marlow,:the,:abandons,:patna,:sailor,:kurtz,:and]\n",
      "\tFrom worker 6:\tPOST_ADD_STEP: -8.403505100755096 Any[:her,:she,:her,:she,:it,:all,:when,:child,:for,:this,:leaves,:front,:and,:train,:husband,:ends,:aleksei,:leaps,:of,:vronsky,:in,:sadly,symbol(\"straight-sided\"),:moreover,:____________________________________________]\n",
      "\tFrom worker 3:\tPOST_ADD_STEP: -9.785989331734488 Any[:him,symbol(\"``\"),:james,:great,:was,:ralph,:genius,:known,:emerson,:lowell,:the,:nonsense,:russell,:and,symbol(\"three-fifths\"),:fudge,:poet,:dismissed,:jingle,symbol(\"two-fifths\"),:and,:waldo,:pushes,symbol(\"2007\"),:bedraggled,:proximities,:____________________________________________,:__________________________________]\n",
      "\tFrom worker 5:\tPOST_SWAP_STEP: -5.4765537e-6 Any[:a,:in,:the,:a,:novel,:meets,:in,:who,:in,:meets,:novel,:congo,:another,:marlow,:the,:abandons,:patna,:sailor,:kurtz,:and,:third]\n",
      "\tFrom worker 6:\tPOST_SWAP_STEP: -7.112202 Any[:she,:her,:she,:it,:all,:when,:child,:for,:this,:leaves,:front,:and,:train,:husband,:ends,:aleksei,:leaps,:of,:vronsky,:in,:sadly,symbol(\"straight-sided\"),:moreover,:____________________________________________,:a]\n",
      "\tFrom worker 6:\tPOST_ADD_STEP: -7.1122026 Any[:she,:her,:she,:it,:all,:when,:child,:for,:this,:leaves,:front,:and,:train,:husband,:ends,:aleksei,:leaps,:of,:vronsky,:in,:sadly,symbol(\"straight-sided\"),:moreover,:____________________________________________,:a]\n",
      "\tFrom worker 3:\tPOST_SWAP_STEP: -9.577512 Any[:him,symbol(\"``\"),:james,:great,:was,:ralph,:genius,:known,:emerson,:lowell,:the,:nonsense,:russell,symbol(\"three-fifths\"),:fudge,:poet,:dismissed,:jingle,symbol(\"two-fifths\"),:and,:waldo,:pushes,symbol(\"2007\"),:bedraggled,:proximities,:____________________________________________,:__________________________________,:also]\n",
      "\tFrom worker 3:\tPOST_ADD_STEP: -9.577512 Any[:him,symbol(\"``\"),:james,:great,:was,:ralph,:genius,:known,:emerson,:lowell,:the,:nonsense,:russell,symbol(\"three-fifths\"),:fudge,:poet,:dismissed,:jingle,symbol(\"two-fifths\"),:and,:waldo,:pushes,symbol(\"2007\"),:bedraggled,:proximities,:____________________________________________,:__________________________________,:also]\n",
      "\tFrom worker 6:\tPOST_SWAP_STEP: -6.2239933 Any[:she,:her,:she,:it,:all,:when,:child,:for,:leaves,:front,:and,:train,:husband,:ends,:aleksei,:leaps,:of,:vronsky,:in,:sadly,symbol(\"straight-sided\"),:moreover,:____________________________________________,:a,:thus]\n",
      "\tFrom worker 6:\tPOST_ADD_STEP: -6.2239933 Any[:she,:her,:she,:it,:all,:when,:child,:for,:leaves,:front,:and,:train,:husband,:ends,:aleksei,:leaps,:of,:vronsky,:in,:sadly,symbol(\"straight-sided\"),:moreover,:____________________________________________,:a,:thus]\n",
      "\tFrom worker 3:\tPOST_SWAP_STEP: -9.397186 Any[:him,symbol(\"``\"),:james,:great,:was,:ralph,:genius,:known,:emerson,:lowell,:the,:russell,symbol(\"three-fifths\"),:fudge,:poet,:dismissed,:jingle,symbol(\"two-fifths\"),:and,:waldo,:pushes,symbol(\"2007\"),:bedraggled,:proximities,:____________________________________________,:__________________________________,:also,:sheer]\n",
      "\tFrom worker 3:\tPOST_ADD_STEP: -9.397186 Any[:him,symbol(\"``\"),:james,:great,:was,:ralph,:genius,:known,:emerson,:lowell,:the,:russell,symbol(\"three-fifths\"),:fudge,:poet,:dismissed,:jingle,symbol(\"two-fifths\"),:and,:waldo,:pushes,symbol(\"2007\"),:bedraggled,:proximities,:____________________________________________,:__________________________________,:also,:sheer]\n",
      "\tFrom worker 6:\tPOST_SWAP_STEP: -4.6544003 Any[:she,:her,:she,:it,:all,:when,:child,:for,:leaves,:front,:and,:train,:husband,:ends,:aleksei,:leaps,:of,:vronsky,:in,:sadly,:moreover,:____________________________________________,:a,:thus]\n",
      "\tFrom worker 6:\tPOST_ADD_STEP: -4.6544 Any[:she,:her,:she,:it,:all,:when,:child,:for,:leaves,:front,:and,:train,:husband,:ends,:aleksei,:leaps,:of,:vronsky,:in,:sadly,:moreover,:____________________________________________,:a,:thus]\n",
      "\tFrom worker 3:\tPOST_SWAP_STEP: -9.053596 Any[:him,symbol(\"``\"),:james,:great,:was,:ralph,:genius,:known,:emerson,:lowell,:the,:russell,symbol(\"three-fifths\"),:fudge,:poet,:dismissed,:jingle,symbol(\"two-fifths\"),:and,:waldo,:pushes,symbol(\"2007\"),:bedraggled,:____________________________________________,:__________________________________,:also,:sheer,symbol(\"science-fictional\")]\n",
      "\tFrom worker 3:\tPOST_ADD_STEP: -9.053595 Any[:him,symbol(\"``\"),:james,:great,:was,:ralph,:genius,:known,:emerson,:lowell,:the,:russell,symbol(\"three-fifths\"),:fudge,:poet,:dismissed,:jingle,symbol(\"two-fifths\"),:and,:waldo,:pushes,symbol(\"2007\"),:bedraggled,:____________________________________________,:__________________________________,:also,:sheer,symbol(\"science-fictional\")]\n",
      "\tFrom worker 6:\tPOST_SWAP_STEP: -3.4284866 Any[:she,:her,:she,:all,:when,:child,:for,:leaves,:front,:and,:train,:husband,:ends,:aleksei,:leaps,:of,:vronsky,:in,:sadly,:moreover,:____________________________________________,:a,:thus,:but]\n",
      "\tFrom worker 6:\tPOST_ADD_STEP: -3.4284868 Any[:she,:her,:she,:all,:when,:child,:for,:leaves,:front,:and,:train,:husband,:ends,:aleksei,:leaps,:of,:vronsky,:in,:sadly,:moreover,:____________________________________________,:a,:thus,:but]\n",
      "\tFrom worker 3:\tPOST_SWAP_STEP: -8.809601 Any[:him,symbol(\"``\"),:james,:was,:ralph,:genius,:known,:emerson,:lowell,:the,:russell,symbol(\"three-fifths\"),:fudge,:poet,:dismissed,:jingle,symbol(\"two-fifths\"),:and,:waldo,:pushes,symbol(\"2007\"),:bedraggled,:____________________________________________,:__________________________________,:also,:sheer,symbol(\"science-fictional\"),:and]\n",
      "\tFrom worker 3:\tPOST_ADD_STEP: -8.809602 Any[:him,symbol(\"``\"),:james,:was,:ralph,:genius,:known,:emerson,:lowell,:the,:russell,symbol(\"three-fifths\"),:fudge,:poet,:dismissed,:jingle,symbol(\"two-fifths\"),:and,:waldo,:pushes,symbol(\"2007\"),:bedraggled,:____________________________________________,:__________________________________,:also,:sheer,symbol(\"science-fictional\"),:and]\n",
      "\tFrom worker 6:\tPOST_SWAP_STEP: -1.5198723 Any[:she,:her,:she,:all,:when,:child,:for,:leaves,:front,:and,:train,:husband,:ends,:aleksei,:leaps,:of,:vronsky,:in,:sadly,:____________________________________________,:a,:thus,:but]\n",
      "\tFrom worker 6:\tPOST_ADD_STEP: -1.5198722 Any[:she,:her,:she,:all,:when,:child,:for,:leaves,:front,:and,:train,:husband,:ends,:aleksei,:leaps,:of,:vronsky,:in,:sadly,:____________________________________________,:a,:thus,:but]\n",
      "\tFrom worker 3:\tPOST_SWAP_STEP: -8.657198 Any[:him,symbol(\"``\"),:james,:was,:ralph,:genius,:known,:emerson,:lowell,:the,:russell,symbol(\"three-fifths\"),:fudge,:poet,:dismissed,:jingle,symbol(\"two-fifths\"),:and,:waldo,:pushes,symbol(\"2007\"),:____________________________________________,:__________________________________,:also,:sheer,symbol(\"science-fictional\"),:and,:hapless]\n",
      "\tFrom worker 3:\tPOST_ADD_STEP: -8.657198 Any[:him,symbol(\"``\"),:james,:was,:ralph,:genius,:known,:emerson,:lowell,:the,:russell,symbol(\"three-fifths\"),:fudge,:poet,:dismissed,:jingle,symbol(\"two-fifths\"),:and,:waldo,:pushes,symbol(\"2007\"),:____________________________________________,:__________________________________,:also,:sheer,symbol(\"science-fictional\"),:and,:hapless]\n",
      "\tFrom worker 6:\tPOST_SWAP_STEP: -5.347227e-6 Any[:she,:her,:she,:all,:when,:child,:for,:leaves,:front,:and,:train,:husband,:ends,:aleksei,:leaps,:of,:vronsky,:in,:sadly,:a,:thus,:but]\n",
      "\tFrom worker 3:\tPOST_SWAP_STEP: -8.447186 Any[:him,symbol(\"``\"),:james,:was,:ralph,:genius,:known,:emerson,:lowell,:the,:russell,symbol(\"three-fifths\"),:fudge,:poet,:dismissed,:jingle,symbol(\"two-fifths\"),:and,:waldo,symbol(\"2007\"),:____________________________________________,:__________________________________,:also,:sheer,symbol(\"science-fictional\"),:and,:hapless,:aldrick]\n",
      "\tFrom worker 3:\tPOST_ADD_STEP: -8.437448 Any[:him,symbol(\"``\"),:james,:was,:ralph,:genius,:known,:emerson,:lowell,:the,:russell,symbol(\"three-fifths\"),:fudge,:poet,:dismissed,:jingle,symbol(\"two-fifths\"),:and,:waldo,symbol(\"2007\"),:____________________________________________,:__________________________________,:also,:sheer,symbol(\"science-fictional\"),:and,:hapless,:aldrick,:comes]\n",
      "\tFrom worker 3:\tPOST_SWAP_STEP: -8.22313 Any[:him,symbol(\"``\"),:james,:was,:ralph,:genius,:known,:emerson,:lowell,:the,:russell,symbol(\"three-fifths\"),:fudge,:poet,:dismissed,:jingle,symbol(\"two-fifths\"),:and,:waldo,symbol(\"2007\"),:____________________________________________,:__________________________________,:also,:sheer,:and,:hapless,:aldrick,:comes,:_____________]\n",
      "\tFrom worker 3:\tPOST_ADD_STEP: -8.223129 Any[:him,symbol(\"``\"),:james,:was,:ralph,:genius,:known,:emerson,:lowell,:the,:russell,symbol(\"three-fifths\"),:fudge,:poet,:dismissed,:jingle,symbol(\"two-fifths\"),:and,:waldo,symbol(\"2007\"),:____________________________________________,:__________________________________,:also,:sheer,:and,:hapless,:aldrick,:comes,:_____________]\n",
      "\tFrom worker 3:\tPOST_SWAP_STEP: -8.193443 Any[:him,symbol(\"``\"),:james,:was,:ralph,:genius,:known,:emerson,:lowell,:the,:russell,symbol(\"three-fifths\"),:fudge,:poet,:dismissed,:jingle,symbol(\"two-fifths\"),:and,:waldo,symbol(\"2007\"),:____________________________________________,:__________________________________,:sheer,:and,:hapless,:aldrick,:comes,:_____________,:both]\n",
      "\tFrom worker 3:\tPOST_ADD_STEP: -8.193443 Any[:him,symbol(\"``\"),:james,:was,:ralph,:genius,:known,:emerson,:lowell,:the,:russell,symbol(\"three-fifths\"),:fudge,:poet,:dismissed,:jingle,symbol(\"two-fifths\"),:and,:waldo,symbol(\"2007\"),:____________________________________________,:__________________________________,:sheer,:and,:hapless,:aldrick,:comes,:_____________,:both]\n",
      "\tFrom worker 3:\tPOST_SWAP_STEP: -8.165526 Any[:him,symbol(\"``\"),:james,:was,:ralph,:genius,:known,:emerson,:lowell,:the,:russell,symbol(\"three-fifths\"),:fudge,:poet,:dismissed,:jingle,symbol(\"two-fifths\"),:and,:waldo,symbol(\"2007\"),:____________________________________________,:__________________________________,:sheer,:and,:hapless,:aldrick,:_____________,:both,:this]\n",
      "\tFrom worker 3:\tPOST_ADD_STEP: -8.1541815 Any[:him,symbol(\"``\"),:james,:was,:ralph,:genius,:known,:emerson,:lowell,:the,:russell,symbol(\"three-fifths\"),:fudge,:poet,:dismissed,:jingle,symbol(\"two-fifths\"),:and,:waldo,symbol(\"2007\"),:____________________________________________,:__________________________________,:sheer,:and,:hapless,:aldrick,:_____________,:both,:this,:hirsute]\n",
      "\tFrom worker 3:\tPOST_SWAP_STEP: -8.132798 Any[:him,symbol(\"``\"),:james,:was,:ralph,:genius,:known,:emerson,:lowell,:the,:russell,symbol(\"three-fifths\"),:fudge,:poet,:dismissed,:jingle,symbol(\"two-fifths\"),:and,:waldo,:____________________________________________,:__________________________________,:sheer,:and,:hapless,:aldrick,:_____________,:both,:this,:hirsute,symbol(\"2008\")]\n",
      "\tFrom worker 3:\tPOST_ADD_STEP: -8.132799 Any[:him,symbol(\"``\"),:james,:was,:ralph,:genius,:known,:emerson,:lowell,:the,:russell,symbol(\"three-fifths\"),:fudge,:poet,:dismissed,:jingle,symbol(\"two-fifths\"),:and,:waldo,:____________________________________________,:__________________________________,:sheer,:and,:hapless,:aldrick,:_____________,:both,:this,:hirsute,symbol(\"2008\")]\n",
      "\tFrom worker 3:\tPOST_SWAP_STEP: -8.132799 Any[:him,symbol(\"``\"),:james,:was,:ralph,:genius,:known,:emerson,:lowell,:the,:russell,symbol(\"three-fifths\"),:fudge,:poet,:dismissed,:jingle,symbol(\"two-fifths\"),:and,:waldo,:____________________________________________,:__________________________________,:sheer,:and,:hapless,:aldrick,:_____________,:both,:this,:hirsute,symbol(\"2008\")]\n"
     ]
    },
    {
     "data": {
      "text/plain": [
       "8-element Array{Any,1}:\n",
       " (Any[:written,:novel,:by,:james,:name,:leopold,:about,:bloom,symbol(\"1922\"),:this,:joyce],-2.4892306f-6)                                                                                                             \n",
       " (Any[:him,symbol(\"``\"),:james,:was,:ralph,:genius,:known,:emerson,:lowell,:the  …  :__________________________________,:sheer,:and,:hapless,:aldrick,:_____________,:both,:this,:hirsute,symbol(\"2008\")],-8.132799f0)\n",
       " (Any[:a,:of,:in,:comedy,:of,:first,:this,:performed,:basis,:manners,symbol(\"1892\"),:the,:is],-3.704945f-6)                                                                                                           \n",
       " (Any[:a,:in,:the,:a,:novel,:meets,:in,:who,:in,:meets  …  :congo,:another,:marlow,:the,:abandons,:patna,:sailor,:kurtz,:and,:third],-5.4765537f-6)                                                                   \n",
       " (Any[:she,:her,:she,:all,:when,:child,:for,:leaves,:front,:and  …  :ends,:aleksei,:leaps,:of,:vronsky,:in,:sadly,:a,:thus,:but],-5.347227f-6)                                                                        \n",
       " (Any[:we,:at,:out,:sun,:the,:looked,:setting,:.],-2.8359793f-6)                                                                                                                                                      \n",
       " (Any[:i,:to,:the,:kitchen,:went,:.],-1.0199695f-6)                                                                                                                                                                   \n",
       " (Any[symbol(\"'re\"),:do,:how,:?,:well],-4.490549f0)                                                                                                                                                                   "
      ]
     },
     "execution_count": 19,
     "metadata": {},
     "output_type": "execute_result"
    }
   ],
   "source": [
    "eg_res = pmap(eg_corpus) do sent\n",
    "    greedy_search(data, map(symbol,sent), rounds=10_000, log=true)\n",
    "end"
   ]
  },
  {
   "cell_type": "code",
   "execution_count": 163,
   "metadata": {
    "collapsed": false
   },
   "outputs": [
    {
     "name": "stdout",
     "output_type": "stream",
     "text": [
      "search: "
     ]
    },
    {
     "data": {
      "text/latex": [
       "\\begin{verbatim}\n",
       "replace(string, pat, r[, n])\n",
       "\\end{verbatim}\n",
       "Search for the given pattern \\texttt{pat}, and replace each occurrence with \\texttt{r}. If \\texttt{n} is provided, replace at most \\texttt{n} occurrences. As with search, the second argument may be a single character, a vector or a set of characters, a string, or a regular expression. If \\texttt{r} is a function, each occurrence is replaced with \\texttt{r(s)} where \\texttt{s} is the matched substring. If \\texttt{pat} is a regular expression and \\texttt{r} is a \\texttt{SubstitutionString}, then capture group references in \\texttt{r} are replaced with the corresponding matched text.\n"
      ],
      "text/markdown": [
       "```\n",
       "replace(string, pat, r[, n])\n",
       "```\n",
       "\n",
       "Search for the given pattern `pat`, and replace each occurrence with `r`. If `n` is provided, replace at most `n` occurrences. As with search, the second argument may be a single character, a vector or a set of characters, a string, or a regular expression. If `r` is a function, each occurrence is replaced with `r(s)` where `s` is the matched substring. If `pat` is a regular expression and `r` is a `SubstitutionString`, then capture group references in `r` are replaced with the corresponding matched text.\n"
      ],
      "text/plain": [
       "```\n",
       "replace(string, pat, r[, n])\n",
       "```\n",
       "\n",
       "Search for the given pattern `pat`, and replace each occurrence with `r`. If `n` is provided, replace at most `n` occurrences. As with search, the second argument may be a single character, a vector or a set of characters, a string, or a regular expression. If `r` is a function, each occurrence is replaced with `r(s)` where `s` is the matched substring. If `pat` is a regular expression and `r` is a `SubstitutionString`, then capture group references in `r` are replaced with the corresponding matched text.\n"
      ]
     },
     "execution_count": 163,
     "metadata": {},
     "output_type": "execute_result"
    },
    {
     "name": "stdout",
     "output_type": "stream",
     "text": [
      "replace redisplay score_possible_additions\n",
      "\n"
     ]
    }
   ],
   "source": [
    "?replace"
   ]
  },
  {
   "cell_type": "code",
   "execution_count": 220,
   "metadata": {
    "collapsed": false
   },
   "outputs": [
    {
     "data": {
      "text/plain": [
       "prep_doc_fragment (generic function with 2 methods)"
      ]
     },
     "execution_count": 220,
     "metadata": {},
     "output_type": "execute_result"
    }
   ],
   "source": [
    "function prep_table(actual, reference)\n",
    "    actual = map(symbol, actual)\n",
    "    reference = map(symbol, reference)\n",
    "    words = @pipe actual |> Set |> union(_,reference) |> map(string,_) |> sort |> map(symbol,_)\n",
    "    actual_bow = counter(actual)\n",
    "    reference_bow = counter(reference)\n",
    "    \n",
    "    table = @pipe [\"$word & $(actual_bow[word]) & $(reference_bow[word])\" \n",
    "                for word in words] |> join(_,\"\\\\\\\\\\n\")\n",
    "    \"Word & O & R \\\\\\\\\\n\\\\hline\\n\"*table\n",
    "        \n",
    "end\n",
    "\n",
    "function escape(str)\n",
    "    for n in 50:-1:5\n",
    "        str = replace(str,\"_\"^n,\"\\\\emph{\\\\_...\\\\_($n)}\")\n",
    "    end\n",
    "    str    \n",
    "end\n",
    "\n",
    "function prep_doc_fragment(actual, reference, cap=\"\")\n",
    "    sentence = join(reference, \" \")\n",
    "    ret=\"\"\n",
    "    ret *= \"\\\\subfloat[][$cap]{\\n\"\n",
    "    ret*=\"\\\\begin{tabular}{ l c r }\\n\"\n",
    "    \n",
    "    ##ret*=sentence*\"\\n\"\n",
    "    #ret*=\"\\\\pgfplotstabletypeset[string type,font=\\\\footnotesize]{\\n\"\n",
    "    ret*=prep_table(actual,reference) |> escape\n",
    "    ret*=\"\\n\\\\end{tabular}\\n\"\n",
    "    ret*=\"}\\n\" \n",
    "end"
   ]
  },
  {
   "cell_type": "code",
   "execution_count": 221,
   "metadata": {
    "collapsed": false,
    "scrolled": true
   },
   "outputs": [
    {
     "name": "stdout",
     "output_type": "stream",
     "text": [
      "\\subfloat[][]{\n",
      "\\begin{tabular}{ l c r }\n",
      "Word & O & R \\\\\n",
      "\\hline\n",
      "1922 & 1 & 1\\\\\n",
      "about & 1 & 1\\\\\n",
      "bloom & 1 & 1\\\\\n",
      "by & 1 & 1\\\\\n",
      "james & 1 & 1\\\\\n",
      "joyce & 1 & 1\\\\\n",
      "leopold & 1 & 1\\\\\n",
      "name & 1 & 1\\\\\n",
      "novel & 1 & 1\\\\\n",
      "this & 1 & 1\\\\\n",
      "written & 1 & 1\n",
      "\\end{tabular}\n",
      "}\n",
      "\n",
      "\\subfloat[][]{\n",
      "\\begin{tabular}{ l c r }\n",
      "Word & O & R \\\\\n",
      "\\hline\n",
      "2008 & 1 & 0\\\\\n",
      "\\emph{\\_...\\_(13)} & 1 & 0\\\\\n",
      "\\emph{\\_...\\_(34)} & 1 & 0\\\\\n",
      "\\emph{\\_...\\_(44)} & 1 & 0\\\\\n",
      "`` & 1 & 0\\\\\n",
      "aldrick & 1 & 0\\\\\n",
      "and & 2 & 2\\\\\n",
      "as & 0 & 1\\\\\n",
      "both & 1 & 0\\\\\n",
      "called & 0 & 1\\\\\n",
      "dismissed & 1 & 1\\\\\n",
      "emerson & 1 & 1\\\\\n",
      "fudge & 1 & 1\\\\\n",
      "genius & 1 & 1\\\\\n",
      "hapless & 1 & 0\\\\\n",
      "him & 1 & 1\\\\\n",
      "hirsute & 1 & 0\\\\\n",
      "james & 1 & 1\\\\\n",
      "jingle & 1 & 1\\\\\n",
      "known & 1 & 0\\\\\n",
      "lowell & 1 & 1\\\\\n",
      "man & 0 & 1\\\\\n",
      "poet & 1 & 1\\\\\n",
      "ralph & 1 & 1\\\\\n",
      "russell & 1 & 1\\\\\n",
      "sheer & 1 & 1\\\\\n",
      "the & 1 & 1\\\\\n",
      "this & 1 & 1\\\\\n",
      "three-fifths & 1 & 1\\\\\n",
      "two-fifths & 1 & 1\\\\\n",
      "waldo & 1 & 1\\\\\n",
      "was & 1 & 0\n",
      "\\end{tabular}\n",
      "}\n",
      "\n",
      "\\subfloat[][]{\n",
      "\\begin{tabular}{ l c r }\n",
      "Word & O & R \\\\\n",
      "\\hline\n",
      "1892 & 1 & 1\\\\\n",
      "a & 1 & 1\\\\\n",
      "basis & 1 & 1\\\\\n",
      "comedy & 1 & 1\\\\\n",
      "first & 1 & 1\\\\\n",
      "in & 1 & 1\\\\\n",
      "is & 1 & 1\\\\\n",
      "manners & 1 & 1\\\\\n",
      "of & 2 & 2\\\\\n",
      "performed & 1 & 1\\\\\n",
      "the & 1 & 1\\\\\n",
      "this & 1 & 1\n",
      "\\end{tabular}\n",
      "}\n",
      "\n",
      "\\subfloat[][]{\n",
      "\\begin{tabular}{ l c r }\n",
      "Word & O & R \\\\\n",
      "\\hline\n",
      "a & 2 & 2\\\\\n",
      "abandons & 1 & 1\\\\\n",
      "and & 1 & 1\\\\\n",
      "another & 1 & 1\\\\\n",
      "congo & 1 & 1\\\\\n",
      "in & 3 & 3\\\\\n",
      "kurtz & 1 & 1\\\\\n",
      "marlow & 1 & 1\\\\\n",
      "meets & 2 & 2\\\\\n",
      "novel & 2 & 2\\\\\n",
      "patna & 1 & 1\\\\\n",
      "sailor & 1 & 1\\\\\n",
      "the & 2 & 2\\\\\n",
      "third & 1 & 1\\\\\n",
      "who & 1 & 1\n",
      "\\end{tabular}\n",
      "}\n",
      "\n",
      "\\subfloat[][]{\n",
      "\\begin{tabular}{ l c r }\n",
      "Word & O & R \\\\\n",
      "\\hline\n",
      "a & 1 & 1\\\\\n",
      "aleksei & 1 & 1\\\\\n",
      "all & 1 & 1\\\\\n",
      "and & 1 & 1\\\\\n",
      "but & 1 & 1\\\\\n",
      "child & 1 & 1\\\\\n",
      "ends & 1 & 1\\\\\n",
      "for & 1 & 1\\\\\n",
      "front & 1 & 1\\\\\n",
      "her & 1 & 1\\\\\n",
      "husband & 1 & 1\\\\\n",
      "in & 1 & 1\\\\\n",
      "leaps & 1 & 1\\\\\n",
      "leaves & 1 & 1\\\\\n",
      "of & 1 & 1\\\\\n",
      "sadly & 1 & 1\\\\\n",
      "she & 2 & 2\\\\\n",
      "thus & 1 & 1\\\\\n",
      "train & 1 & 1\\\\\n",
      "vronsky & 1 & 1\\\\\n",
      "when & 1 & 1\n",
      "\\end{tabular}\n",
      "}\n",
      "\n",
      "\\subfloat[][]{\n",
      "\\begin{tabular}{ l c r }\n",
      "Word & O & R \\\\\n",
      "\\hline\n",
      ". & 1 & 1\\\\\n",
      "at & 1 & 1\\\\\n",
      "looked & 1 & 1\\\\\n",
      "out & 1 & 1\\\\\n",
      "setting & 1 & 1\\\\\n",
      "sun & 1 & 1\\\\\n",
      "the & 1 & 1\\\\\n",
      "we & 1 & 1\n",
      "\\end{tabular}\n",
      "}\n",
      "\n",
      "\\subfloat[][]{\n",
      "\\begin{tabular}{ l c r }\n",
      "Word & O & R \\\\\n",
      "\\hline\n",
      ". & 1 & 1\\\\\n",
      "i & 1 & 1\\\\\n",
      "kitchen & 1 & 1\\\\\n",
      "the & 1 & 1\\\\\n",
      "to & 1 & 1\\\\\n",
      "went & 1 & 1\n",
      "\\end{tabular}\n",
      "}\n",
      "\n",
      "\\subfloat[][]{\n",
      "\\begin{tabular}{ l c r }\n",
      "Word & O & R \\\\\n",
      "\\hline\n",
      "'re & 1 & 0\\\\\n",
      "? & 1 & 1\\\\\n",
      "are & 0 & 1\\\\\n",
      "do & 1 & 0\\\\\n",
      "doing & 0 & 1\\\\\n",
      "how & 1 & 1\\\\\n",
      "well & 1 & 0\\\\\n",
      "you & 0 & 1\n",
      "\\end{tabular}\n",
      "}\n",
      "\n",
      "\\end{figure}\n",
      "\\end{document}"
     ]
    }
   ],
   "source": [
    "examples = map(ag->prep_doc_fragment(ag[1][1],ag[2]), zip(eg_res, eg_corpus))\n",
    "#examples = [table for (ii,table) in enumerate(examples)]\n",
    "print(join(examples, \"\\n\")*\"\\n\\\\end{figure}\\n\\\\end{document}\")"
   ]
  },
  {
   "cell_type": "code",
   "execution_count": 222,
   "metadata": {
    "collapsed": false
   },
   "outputs": [
    {
     "data": {
      "text/plain": [
       "8-element Array{ByteString,1}:\n",
       " \"name this 1922 novel about leopold bloom written by james joyce\"                                                                             \n",
       " \"ralph waldo emerson dismissed this poet as the jingle man and james russell lowell called him three-fifths genius and two-fifths sheer fudge\"\n",
       " \"this is the basis of a comedy of manners first performed in 1892\"                                                                            \n",
       " \"in a third novel a sailor abandons the patna and meets marlow who in another novel meets kurtz in the congo\"                                 \n",
       " \"thus she leaves her husband and child for aleksei vronsky but all ends sadly when she leaps in front of a train\"                             \n",
       " \"we looked out at the setting sun .\"                                                                                                          \n",
       " \"i went to the kitchen .\"                                                                                                                     \n",
       " \"how are you doing ?\"                                                                                                                         "
      ]
     },
     "execution_count": 222,
     "metadata": {},
     "output_type": "execute_result"
    }
   ],
   "source": [
    "[join(eg,\" \") for eg in eg_corpus]"
   ]
  },
  {
   "cell_type": "code",
   "execution_count": 233,
   "metadata": {
    "collapsed": false
   },
   "outputs": [
    {
     "data": {
      "text/plain": [
       "6.105681f0"
      ]
     },
     "execution_count": 233,
     "metadata": {},
     "output_type": "execute_result"
    }
   ],
   "source": [
    "sqrt(sumabs2(lookup_sowe(data,[:do, symbol(\"'re\")]) - lookup_sowe(data,[:doing, :are])))"
   ]
  },
  {
   "cell_type": "code",
   "execution_count": 242,
   "metadata": {
    "collapsed": false,
    "scrolled": true
   },
   "outputs": [
    {
     "data": {
      "text/plain": [
       "5.6503687f0"
      ]
     },
     "execution_count": 242,
     "metadata": {},
     "output_type": "execute_result"
    }
   ],
   "source": [
    "sqrt(sumabs2(lookup_sowe(data,[symbol(\"2008\")])))"
   ]
  },
  {
   "cell_type": "code",
   "execution_count": 236,
   "metadata": {
    "collapsed": false
   },
   "outputs": [
    {
     "data": {
      "text/plain": [
       "300-element Array{Float32,1}:\n",
       "  -0.793585 \n",
       "   1.26606  \n",
       "   0.282562 \n",
       "  -2.06237  \n",
       "   0.358368 \n",
       "  -0.187004 \n",
       "  -1.55621  \n",
       "   1.83744  \n",
       "  -0.15024  \n",
       " -21.5628   \n",
       "   2.68219  \n",
       "   1.36028  \n",
       "  -0.66929  \n",
       "   ⋮        \n",
       "  -0.170959 \n",
       "   0.829028 \n",
       "  -0.0764151\n",
       "  -3.52772  \n",
       "   0.051009 \n",
       "   1.75085  \n",
       "   3.31713  \n",
       "   3.76385  \n",
       "  -1.16536  \n",
       "  -1.90704  \n",
       "  -1.97162  \n",
       "  -0.293317 "
      ]
     },
     "execution_count": 236,
     "metadata": {},
     "output_type": "execute_result"
    }
   ],
   "source": [
    "lookup_sowe(data,[:it, :was, :the, :best, :of, :times, symbol(\",\"),:it, :was, :the, :worst, :of, :times,])"
   ]
  },
  {
   "cell_type": "code",
   "execution_count": 15,
   "metadata": {
    "collapsed": false,
    "scrolled": false
   },
   "outputs": [
    {
     "data": {
      "text/plain": [
       "Dict{ByteString,Any} with 6 entries:\n",
       "  \"zeroed_words\"  => ASCIIString[]\n",
       "  \"LL\"            => 50x40482 Array{Float64,2}:…\n",
       "  \"unknown_words\" => UTF8String[\"\\$2.82\",\"54,320\",\"eventshah-leh\",\"wycoff's\",\"m…\n",
       "  \"indexed_words\" => AbstractString[\"the\",\",\",\".\",\"of\",\"to\",\"and\",\"in\",\"a\",\"for…\n",
       "  \"corpus\"        => [ASCIIString[\"``\",\"only\",\"a\",\"relative\",\"handful\",\"of\",\"su…\n",
       "  \"word_indexes\"  => Dict{AbstractString,Int64}(\"baleful\"=>34074,\"confined\"=>77…"
      ]
     },
     "execution_count": 15,
     "metadata": {},
     "output_type": "execute_result"
    }
   ],
   "source": [
    "data_brown = load(\"results/data/brown_glove50d.jld\")"
   ]
  },
  {
   "cell_type": "code",
   "execution_count": 17,
   "metadata": {
    "collapsed": false
   },
   "outputs": [
    {
     "data": {
      "text/plain": [
       "42004"
      ]
     },
     "execution_count": 17,
     "metadata": {},
     "output_type": "execute_result"
    }
   ],
   "source": [
    "data_brown[\"corpus\"] |> length"
   ]
  },
  {
   "cell_type": "code",
   "execution_count": null,
   "metadata": {
    "collapsed": true
   },
   "outputs": [],
   "source": []
  },
  {
   "cell_type": "code",
   "execution_count": null,
   "metadata": {
    "collapsed": false,
    "scrolled": true
   },
   "outputs": [],
   "source": [
    "res = pmap(test_set[1:20], err_stop=true) do target_sent\n",
    "#res = map(test_set) do target_sent\n",
    "    target_sent=map(string, target_sent)\n",
    "    sol, score = greedy_search(data, target_sent, rounds=10_000, log=false)\n",
    "    (target_sent, sol, score)\n",
    "end"
   ]
  },
  {
   "cell_type": "code",
   "execution_count": null,
   "metadata": {
    "collapsed": false
   },
   "outputs": [],
   "source": [
    "using JLD\n",
    "@save \"results/bags/books300d.jld\" res"
   ]
  },
  {
   "cell_type": "code",
   "execution_count": null,
   "metadata": {
    "collapsed": false
   },
   "outputs": [],
   "source": [
    "res[1] |> typeof |> typeof"
   ]
  },
  {
   "cell_type": "code",
   "execution_count": null,
   "metadata": {
    "collapsed": true
   },
   "outputs": [],
   "source": []
  },
  {
   "cell_type": "code",
   "execution_count": null,
   "metadata": {
    "collapsed": false
   },
   "outputs": [],
   "source": [
    "target_sent = test_set[67]\n",
    "target_sowe = lookup_sowe(data,target_sent)\n",
    "println(target_sent)\n",
    "println(\"-------------\")\n",
    "best_words, best_score  = greedy_search(data, target_sent, log=true)"
   ]
  },
  {
   "cell_type": "code",
   "execution_count": null,
   "metadata": {
    "collapsed": true
   },
   "outputs": [],
   "source": [
    "#########\n",
    "# Experimental\n",
    "#####"
   ]
  },
  {
   "cell_type": "code",
   "execution_count": null,
   "metadata": {
    "collapsed": false
   },
   "outputs": [],
   "source": [
    "methodswith(pset)"
   ]
  },
  {
   "cell_type": "code",
   "execution_count": null,
   "metadata": {
    "collapsed": false
   },
   "outputs": [],
   "source": [
    "a=push(pset(),3)\n",
    "union(a, 5,4) |> length\n"
   ]
  },
  {
   "cell_type": "code",
   "execution_count": null,
   "metadata": {
    "collapsed": false
   },
   "outputs": [],
   "source": [
    "function word_delete_refinement(LL::Matrix{Float64},\n",
    "                              target::Vector{Float64},\n",
    "                              best_word_set::Vector{Int},\n",
    "                              max_remove = 2\n",
    "        )\n",
    "    \n",
    "    initial_word_set = pset(best_word_set)\n",
    "    initial_end_point = get_end(LL, best_word_set)\n",
    "    best_score = fitness(target, initial_end_point)\n",
    "    \n",
    "    function inner(removed, endpoint)\n",
    "        #println(removed)\n",
    "        if length(removed)>max_remove\n",
    "            return\n",
    "        end\n",
    "        remaining =  setdiff(initial_word_set, removed)\n",
    "        \n",
    "        for del_word in remaining\n",
    "            new_endpoint = endpoint - sub(LL,(:,del_word))\n",
    "            del_score = fitness(target, new_endpoint)\n",
    "            \n",
    "            if del_score>best_score + ϵ\n",
    "                @inbounds best_word_set = remaining\n",
    "                best_score = del_score\n",
    "            end\n",
    "            \n",
    "            \n",
    "            inner(push(removed, del_word), endpoint)\n",
    "        end\n",
    "        \n",
    "    end\n",
    "    \n",
    "    inner(pset{Int}(),initial_end_point)\n",
    "\n",
    "    best_word_set,best_score\n",
    "        \n",
    "end"
   ]
  },
  {
   "cell_type": "code",
   "execution_count": null,
   "metadata": {
    "collapsed": false,
    "scrolled": true
   },
   "outputs": [],
   "source": [
    "before_words = [\"not\",\"after\",\"said\",\"election\",\"to\",\"the\",\",\",\"calls\",\"williams\",\"due\",\"bill\", \"anonymous\",\",\",\"subjected\",\"opens\",\"consisted\",\"snodgrass\",\".\",\"folks\",\"meanwhile\",\"truculent\",\"was\",\"soon\", \"he\"]\n",
    "before_word_iis = lookup_indexes(data, before_words)\n",
    "fitness(target_sowe, get_end(data[\"LL\"], before_word_iis))\n",
    "word_delete_refinement(data[\"LL\"], target_sowe, before_word_iis, 2)\n",
    "\n"
   ]
  },
  {
   "cell_type": "code",
   "execution_count": null,
   "metadata": {
    "collapsed": false
   },
   "outputs": [],
   "source": [
    "fitness(target_sowe, get_end(data[\"LL\"], before_word_iis))"
   ]
  },
  {
   "cell_type": "code",
   "execution_count": null,
   "metadata": {
    "collapsed": true
   },
   "outputs": [],
   "source": []
  },
  {
   "cell_type": "code",
   "execution_count": null,
   "metadata": {
    "collapsed": false
   },
   "outputs": [],
   "source": [
    "# Shorter Longer Refinement, for replaceing n words with m other words\n",
    "# Either the words in our current set are too short, so we can limit our search to words that are longer than the sum of our shortest\n",
    "# Or too long then we do the reverse\n",
    "\n",
    "#We are removing something, and planning to get closer to the path by adding something\n",
    "#things longer by adding a finite number more elements\n",
    "function make_longer_refinement2(LL::Matrix{Float64},\n",
    "                              target::Vector{Float64},\n",
    "                              best_word_set::Vector{Int},\n",
    "                              remove_indexes::Vector{Int},\n",
    "                              m_add::Int)\n",
    "    @assert(m_add>=0)\n",
    "    \n",
    "    rem_indexes = trues(best_word_set)\n",
    "    rem_indexes[remove_indexes] = false\n",
    "    \n",
    "    cur_word_set = best_word_set[rem_indexes]\n",
    "    cur_end_point = get_end(LL, cur_word_set)\n",
    "\n",
    "    cur_lengths = -score_possible_additions(LL[:,best_word_set], target, get_end(LL, Int[])) |> vec\n",
    "\n",
    "    length_removed = -fitness(target, get_end(LL,best_word_set)) -fitness(target, cur_end_point)\n",
    "        \n",
    "    @printval length_removed\n",
    "    LL_scores = -score_possible_additions(m_add*LL, target, get_end(LL, Int[]))\n",
    "    \n",
    "    valid_replacers = find((m_add-1)*maximum(LL_scores) + LL_scores.>=length_removed)   \n",
    "    valid_replacers\n",
    "end\n",
    "\n"
   ]
  },
  {
   "cell_type": "code",
   "execution_count": null,
   "metadata": {
    "collapsed": false
   },
   "outputs": [],
   "source": [
    "make_longer_refinement2(data[\"LL\"], target_sowe, best_wordset, [1:39;], 2)"
   ]
  },
  {
   "cell_type": "code",
   "execution_count": null,
   "metadata": {
    "collapsed": false
   },
   "outputs": [],
   "source": [
    "data[\"indexed_words\"][40482]"
   ]
  },
  {
   "cell_type": "code",
   "execution_count": null,
   "metadata": {
    "collapsed": false
   },
   "outputs": [],
   "source": [
    "342/3"
   ]
  },
  {
   "cell_type": "code",
   "execution_count": null,
   "metadata": {
    "collapsed": false
   },
   "outputs": [],
   "source": [
    "LLscores = -score_possible_additions(3*data[\"LL\"], target_sowe, get_end(data[\"LL\"], Int[]))\n",
    "find(LLscores.<120)"
   ]
  },
  {
   "cell_type": "code",
   "execution_count": null,
   "metadata": {
    "collapsed": true
   },
   "outputs": [],
   "source": []
  },
  {
   "cell_type": "code",
   "execution_count": null,
   "metadata": {
    "collapsed": false,
    "scrolled": true
   },
   "outputs": [],
   "source": [
    "@everywhere function greedy_addition_with_backtrack_prep(LL::Matrix{Float64},\n",
    "                         target::Vector{Float64},\n",
    "                         best_word_set::Vector{Int},\n",
    "                         keep_per_word = 50,\n",
    "                         max_additions = Inf, \n",
    "                         \n",
    "    )\n",
    "    \n",
    "    end_point = get_end(LL, best_word_set)\n",
    "    best_score = fitness(target, end_point)\n",
    "    good_ideas = Set{Int}()\n",
    "    sizehint!(good_ideas, 10*keep_per_word) #Most sentences in most corpora have at least 10 words\n",
    "    did_improve = true\n",
    "    cur_additions = 0\n",
    "    while(did_improve && cur_additions<max_additions)\n",
    "        \n",
    "        cur_additions+=1\n",
    "        did_improve=false\n",
    "        \n",
    "        addition_scores = score_possible_additions(LL, target, end_point)\n",
    "        \n",
    "        high_scores = select!(collect(enumerate(addition_scores)), 1:keep_per_word, by=ii_score->ii_score[2])\n",
    "        \n",
    "        union!(good_ideas, map(ii_score->ii_score[1],high_scores))\n",
    "        \n",
    "        addition,addition_score = high_scores[1]\n",
    "        if addition_score>best_score+ϵ\n",
    "            #println(\"!add: $addition $best_score\")\n",
    "            best_score=addition_score\n",
    "            best_word_set = [best_word_set...,addition]\n",
    "            end_point += LL[:,addition]\n",
    "            did_improve=true\n",
    "        end\n",
    "    end\n",
    "    best_word_set,best_score,good_ideas\n",
    "end"
   ]
  },
  {
   "cell_type": "code",
   "execution_count": null,
   "metadata": {
    "collapsed": false
   },
   "outputs": [],
   "source": [
    "best_word_set,best_score,good_ideas  = greedy_addition_with_backtrack_prep(data[\"LL\"], target_sowe, Int[], )"
   ]
  },
  {
   "cell_type": "code",
   "execution_count": null,
   "metadata": {
    "collapsed": true
   },
   "outputs": [],
   "source": [
    "max"
   ]
  },
  {
   "cell_type": "code",
   "execution_count": null,
   "metadata": {
    "collapsed": false,
    "scrolled": true
   },
   "outputs": [],
   "source": [
    "#@pipe good_ideas |> map(println,_)\n",
    "length(good_ideas)"
   ]
  },
  {
   "cell_type": "code",
   "execution_count": null,
   "metadata": {
    "collapsed": false
   },
   "outputs": [],
   "source": []
  },
  {
   "cell_type": "code",
   "execution_count": null,
   "metadata": {
    "collapsed": true
   },
   "outputs": [],
   "source": [
    "word_delete_refinement(data[\"LL\"], target_sowe, best_wordset)"
   ]
  },
  {
   "cell_type": "code",
   "execution_count": null,
   "metadata": {
    "collapsed": false
   },
   "outputs": [],
   "source": [
    "length(best_wordset)"
   ]
  },
  {
   "cell_type": "code",
   "execution_count": null,
   "metadata": {
    "collapsed": false
   },
   "outputs": [],
   "source": [
    "a"
   ]
  },
  {
   "cell_type": "code",
   "execution_count": null,
   "metadata": {
    "collapsed": false
   },
   "outputs": [],
   "source": [
    "function double_word_swap_refinement(LL::Matrix{Float64},\n",
    "                              LL2::Matrix{Float64}, LL2_index,\n",
    "                              target::Vector{Float64},\n",
    "                              best_word_set::Vector{Int})\n",
    "    \n",
    "    initial_word_set = copy(best_word_set)\n",
    "    initial_end_point = get_end(LL, initial_word_set)\n",
    "    best_score = fitness(LL, target, best_word_set)\n",
    "    \n",
    "    for ii in 1:length(initial_word_set)\n",
    "        for jj in ii+1:length(initial_word_set)\n",
    "            @inbounds end_point = initial_end_point - LL[:,initial_word_set[ii]] - LL[:,initial_word_set[jj]]\n",
    "            addition_score, addition_index = findmax(score_possible_additions(LL2, target, end_point))\n",
    "            if addition_score>best_score + ϵ\n",
    "                #println(\"+= $(LL2_index[addition_index,:])\")\n",
    "                @inbounds word_subset = initial_word_set[[1:ii-1; ii+1:jj-1; jj+1:end]]\n",
    "                @inbounds best_word_set = [word_subset..., LL2_index[addition_index,:]...]\n",
    "                best_score = addition_score\n",
    "            end\n",
    "        end\n",
    "    end\n",
    "\n",
    "    best_word_set,best_score\n",
    "        \n",
    "end\n",
    "\n",
    "function get_LL2(LL)\n",
    "    len_LL2 = (size(LL,2).^2  + size(LL,2))÷ 2\n",
    "    LL2_index = Matrix{Int}(len_LL2, 2)\n",
    "    @printval(len_LL2)\n",
    "    LL2 = Matrix{Float64}(size(LL,1), len_LL2)\n",
    "    kk=0\n",
    "    for ii in 1:size(LL,2)\n",
    "        for jj in 1:ii\n",
    "            kk+=1\n",
    "            LL2_index[kk,:] = [ii,jj]\n",
    "            LL2[:,kk] = LL[:,ii]+LL[:,jj]\n",
    "        end\n",
    "    end\n",
    "    LL2, LL2_index\n",
    "end\n"
   ]
  },
  {
   "cell_type": "code",
   "execution_count": null,
   "metadata": {
    "collapsed": false
   },
   "outputs": [],
   "source": [
    "LL2=get_LL2(data[\"LL\"])"
   ]
  },
  {
   "cell_type": "code",
   "execution_count": null,
   "metadata": {
    "collapsed": false,
    "scrolled": true
   },
   "outputs": [],
   "source": [
    "data[\"LL\"]"
   ]
  },
  {
   "cell_type": "code",
   "execution_count": null,
   "metadata": {
    "collapsed": false
   },
   "outputs": [],
   "source": [
    "819416403*50*2/ 1000_000_000"
   ]
  },
  {
   "cell_type": "code",
   "execution_count": null,
   "metadata": {
    "collapsed": false
   },
   "outputs": [],
   "source": [
    "target_sowe = lookup_sowe(data,target_sent)\n",
    "@time new_best_words, new_best_score =double_word_swap_refinement(LL, LL2, LL2_index, target_sowe, best_wordset)\n"
   ]
  },
  {
   "cell_type": "code",
   "execution_count": null,
   "metadata": {
    "collapsed": false
   },
   "outputs": [],
   "source": [
    "target_sent = test_set[12]\n",
    "println(target_sent)\n",
    "target_sowe = lookup_sowe(data,target_sent)"
   ]
  },
  {
   "cell_type": "code",
   "execution_count": null,
   "metadata": {
    "collapsed": false
   },
   "outputs": [],
   "source": [
    "for ii in 1:10\n",
    "    sample_sowe = (randn!(similar(target_sowe)) + target_sowe)\n",
    "    print(greedy_search(data, sample_sowe, 1,100, log=false)[1])\n",
    "    println(\",\")\n",
    "end"
   ]
  },
  {
   "cell_type": "code",
   "execution_count": null,
   "metadata": {
    "collapsed": false
   },
   "outputs": [],
   "source": []
  },
  {
   "cell_type": "code",
   "execution_count": null,
   "metadata": {
    "collapsed": true
   },
   "outputs": [],
   "source": []
  },
  {
   "cell_type": "code",
   "execution_count": null,
   "metadata": {
    "collapsed": false,
    "scrolled": true
   },
   "outputs": [],
   "source": [
    "res = pmap([1:length(test_set);], test_set) do ii,target_sent\n",
    "    sol, score = greedy_search(data, target_sent, 1, 100, log=false)\n",
    "    (sol, score, ii)\n",
    "end"
   ]
  },
  {
   "cell_type": "code",
   "execution_count": null,
   "metadata": {
    "collapsed": false
   },
   "outputs": [],
   "source": [
    "open(\"atis2_res_glove.jsz\",\"w\") do fh\n",
    "    serialize(fh, (Vector{ASCIIString}[sol for (sol, score, ii) in res], test_set)\n",
    "    )    \n",
    "end\n",
    "\n"
   ]
  },
  {
   "cell_type": "code",
   "execution_count": null,
   "metadata": {
    "collapsed": false
   },
   "outputs": [],
   "source": [
    "se = lookup_sowe(atis_data, [\"flights\",\"serve\",\"lunch\",\"which\"])\n",
    "se=se*0.6\n",
    "greedy_search(atis_data, se, 1, 5, log=false)"
   ]
  },
  {
   "cell_type": "code",
   "execution_count": null,
   "metadata": {
    "collapsed": false,
    "scrolled": true
   },
   "outputs": [],
   "source": [
    "hard_cases = find(x->x[2]<0, res)\n",
    "res[hard_cases]"
   ]
  },
  {
   "cell_type": "code",
   "execution_count": null,
   "metadata": {
    "collapsed": false
   },
   "outputs": [],
   "source": [
    "test_set[hard_cases]"
   ]
  },
  {
   "cell_type": "code",
   "execution_count": null,
   "metadata": {
    "collapsed": false,
    "scrolled": true
   },
   "outputs": [],
   "source": [
    "hard_set =  test_set[hard_cases]\n",
    "\n",
    "hard_res = pmap([1:length(hard_set);], hard_set) do ii,target_sent\n",
    "    sol, score = greedy_search(atis_data, target_sent, 2,5, log=false)\n",
    "    (sol, score, ii)\n",
    "end"
   ]
  },
  {
   "cell_type": "code",
   "execution_count": null,
   "metadata": {
    "collapsed": false
   },
   "outputs": [],
   "source": [
    "very_hard_cases = find(x->x[2]<0.0, hard_res)"
   ]
  },
  {
   "cell_type": "code",
   "execution_count": null,
   "metadata": {
    "collapsed": false
   },
   "outputs": [],
   "source": [
    "factorial(14)"
   ]
  },
  {
   "cell_type": "code",
   "execution_count": null,
   "metadata": {
    "collapsed": false
   },
   "outputs": [],
   "source": [
    "hard_res[very_hard_cases]"
   ]
  },
  {
   "cell_type": "code",
   "execution_count": null,
   "metadata": {
    "collapsed": false
   },
   "outputs": [],
   "source": [
    "\n",
    "\n",
    "for (ii,target_sent) in enumerate(test_set)\n",
    "    sol, score = greedy_search(atis_data, target_sent, log=false)\n",
    "    if score>0\n",
    "        print(\"$ii - \")\n",
    "        println(join(target_sent, \" \"))\n",
    "    end\n",
    "end\n",
    "    "
   ]
  },
  {
   "cell_type": "code",
   "execution_count": null,
   "metadata": {
    "collapsed": false
   },
   "outputs": [],
   "source": [
    "enumerate(test_set) |> collect"
   ]
  },
  {
   "cell_type": "code",
   "execution_count": null,
   "metadata": {
    "collapsed": true
   },
   "outputs": [],
   "source": []
  },
  {
   "cell_type": "code",
   "execution_count": null,
   "metadata": {
    "collapsed": true
   },
   "outputs": [],
   "source": []
  }
 ],
 "metadata": {
  "kernelspec": {
   "display_name": "Julia 0.5.0-dev",
   "language": "julia",
   "name": "julia-0.5"
  },
  "language_info": {
   "file_extension": ".jl",
   "mimetype": "application/julia",
   "name": "julia",
   "version": "0.5.0"
  }
 },
 "nbformat": 4,
 "nbformat_minor": 0
}
