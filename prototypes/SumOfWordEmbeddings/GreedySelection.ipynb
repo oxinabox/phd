{
 "cells": [
  {
   "cell_type": "code",
   "execution_count": 1,
   "metadata": {
    "collapsed": false
   },
   "outputs": [
    {
     "data": {
      "text/plain": [
       "4-element Array{ByteString,1}:\n",
       " \"/home/ubuntu/build/julia-master/usr/local/share/julia/site/v0.5\"\n",
       " \"/home/ubuntu/build/julia-master/usr/share/julia/site/v0.5\"      \n",
       " \".\"                                                              \n",
       " \"../util/\"                                                       "
      ]
     },
     "execution_count": 1,
     "metadata": {},
     "output_type": "execute_result"
    }
   ],
   "source": [
    "using FunctionalCollections\n",
    "using Iterators\n",
    "using Pipe\n",
    "using Compat\n",
    "\n",
    "@everywhere macro printval(ee)\n",
    "    ee_expr = @sprintf \"%s\" string(ee)\n",
    "    esc(:(println($ee_expr,\" = \", $ee)))\n",
    "end\n",
    "\n",
    "macro pz(ee)\n",
    "    ee_expr = @sprintf \"%s\" string(ee)\n",
    "    esc(:(println($ee_expr,\"\\t\\t\",typeof($ee), \"\\t\", size($ee))))\n",
    "end\n",
    "\n",
    "push!(LOAD_PATH, \".\")\n",
    "push!(LOAD_PATH, \"../util/\")"
   ]
  },
  {
   "cell_type": "code",
   "execution_count": null,
   "metadata": {
    "collapsed": false
   },
   "outputs": [],
   "source": [
    "#addprocs(11)"
   ]
  },
  {
   "cell_type": "code",
   "execution_count": 2,
   "metadata": {
    "collapsed": false,
    "scrolled": true
   },
   "outputs": [
    {
     "data": {
      "text/plain": [
       "6677-element Array{Array{Symbol,1},1}:\n",
       " [symbol(\"``\"),:you,:would,:destroy,:a,:book,:that,:even,:the,:quran,:calls,:holy,:?,symbol(\"''\")]                                              \n",
       " [:im,:glad,:that,:i,:left,:henderson,:.]                                                                                                       \n",
       " [:he,:ran,:around,:the,:student,:apartments,:yelling,:fire,symbol(\",\"),:fire,:!]                                                               \n",
       " [:but,:i,:dont,:like,:him,symbol(\",\"),:hes,:just,:a,:child,:.]                                                                                 \n",
       " [:oh,symbol(\",\"),:you,:wont,:see,:a,:politician,:within,:miles,:of,:that,:discussion,symbol(\",\"),:trust,:me,:on,:that,:one,:.]                 \n",
       " [:but,symbol(\",\"),:like,:i,:said,symbol(\",\"),:i,:know,:you,:had,:nothing,:to,:do,:with,:it,:.]                                                 \n",
       " [:manny,symbol(\",\"),:please,symbol(\",\"),:let,:mcdermott,:do,:his,:job,:.]                                                                      \n",
       " [:the,:only,:thing,:we,:both,:knew,:was,:that,:we,:wanted  …  :understand,:beyond,:the,:conventional,:avenues,:of,:learning,:and,:reasoning,:.]\n",
       " [:we,:walked,:outside,:to,:discover,:the,:island,:lit,:up,:from,:one,:end,:to,:the,:other,:.]                                                  \n",
       " [:i,:didnt,:want,:to,:talk,:about,:my,:mom,symbol(\",\"),:or,:share,:about,:the,:package,:.]                                                     \n",
       " [:but,:ill,:think,:of,:something,:.]                                                                                                           \n",
       " [:he,:had,:been,:preparing,:for,:something,:that,:would,:be,:unthinkable,:to,:most,:people,:.]                                                 \n",
       " [:the,:third,:was,:rather,:the,:worse,:for,:drink,symbol(\",\"),:it,:seemed,symbol(\",\"),:and,:was,:being,:supported,:by,:his,:companions,:.]     \n",
       " ⋮                                                                                                                                              \n",
       " [:i,:tightly,:wrapped,:my,:arms,:around,:him,:.]                                                                                               \n",
       " [:i,:was,:nearly,:sitting,:on,:top,:of,:him,:at,:this  …  symbol(\",\"),:and,:good,:lord,symbol(\",\"),:did,:he,:smell,:good,:.]                   \n",
       " [:a,:kiss,:?,symbol(\"''\")]                                                                                                                     \n",
       " [:her,:brain,:and,:her,:body,:felt,:numb,:.]                                                                                                   \n",
       " [:the,:whole,:intersection,:was,:empty,:.]                                                                                                     \n",
       " [:what,:he,symbol(\"'d\"),:forgotten,:-,:oh,:no,:.]                                                                                              \n",
       " [:every,:part,:of,:the,:land,:watched,:as,:it,:happened,symbol(\",\")  …  symbol(\",\"),:as,:the,:clearing,:ran,:and,:screamed,:and,:died,:.]      \n",
       " [symbol(\"``\"),:he,:will,:not,:to,:get,:far,:.,symbol(\"''\")]                                                                                    \n",
       " [symbol(\"``\"),:i,symbol(\"'ll\"),:keep,:him,:busy,:down,:here,:.,symbol(\"''\")]                                                                   \n",
       " [:miss,:bitch,symbol(\"'s\"),:eyes,:widened,:.]                                                                                                  \n",
       " [symbol(\"``\"),:i,:would,:think,:so,:.,symbol(\"''\")]                                                                                            \n",
       " [:i,:was,:stoked,:as,:hell,:to,:see,:him,:sitting,:there,:in,:a,:runaway,:train,symbol(\"t-shirt\"),:.]                                          "
      ]
     },
     "execution_count": 2,
     "metadata": {},
     "output_type": "execute_result"
    }
   ],
   "source": [
    "@everywhere using JLD\n",
    "@everywhere data = load(\"results/data/books/books300d.jld\")\n",
    "corpus_filename = \"test_books_corpus_0.001_of_test\"\n",
    "test_set = open(deserialize, \"results/data/books/\"*corpus_filename*\".jsz\")"
   ]
  },
  {
   "cell_type": "code",
   "execution_count": null,
   "metadata": {
    "collapsed": false
   },
   "outputs": [],
   "source": []
  },
  {
   "cell_type": "code",
   "execution_count": null,
   "metadata": {
    "collapsed": false
   },
   "outputs": [],
   "source": [
    "#@everywhere using Distances"
   ]
  },
  {
   "cell_type": "code",
   "execution_count": 3,
   "metadata": {
    "collapsed": false
   },
   "outputs": [],
   "source": [
    "@everywhere function lookup_sowe(data, sent)\n",
    "    lookup_sowe(data, sent |> split)\n",
    "end\n",
    "\n",
    "@everywhere function lookup_sowe{S}(data, sent::Vector{S})\n",
    "    sum([data[\"LL\"][:,data[\"word_indexes\"][word]] for word in sent]) \n",
    "end\n",
    "\n",
    "@everywhere function lookup_words(data, path)\n",
    "    ASCIIString[data[\"indexed_words\"][ii] for ii in path]\n",
    "end\n",
    "\n",
    "@everywhere function lookup_indexes{S}(data, sent::Vector{S})\n",
    "    Int[data[\"word_indexes\"][word] for word in sent]\n",
    "end"
   ]
  },
  {
   "cell_type": "code",
   "execution_count": 4,
   "metadata": {
    "collapsed": false
   },
   "outputs": [],
   "source": [
    "@everywhere const ϵ = 10.0^-5"
   ]
  },
  {
   "cell_type": "code",
   "execution_count": 5,
   "metadata": {
    "collapsed": false,
    "scrolled": true
   },
   "outputs": [],
   "source": [
    "@everywhere @inline function get_end(LL, ws::AbstractVector{Int})\n",
    "    @inbounds sofar = length(ws)>0 ? sum([sub(LL,(:,ii)) for ii in ws]) : zeros(size(LL,1))\n",
    "    sofar\n",
    "end\n",
    "\n",
    "@everywhere function score_possible_additions(LL, target, end_point)\n",
    "    #-(sumabs(LL.+(end_point.-target),1)) #City Block\n",
    "    -sqrt(sumabs2(LL.+(end_point.-target),1)) #Eculidean\n",
    "    \n",
    "end   \n",
    "\n",
    "@everywhere  @inline function fitness(target, end_point)\n",
    "    #Fitter is larger\n",
    "    #-sumabs(end_point.-target) #city block\n",
    "    -norm(end_point.-target) #euclidean\n",
    "    \n",
    "end\n",
    "\n",
    "@everywhere function greedy_addition{F<:AbstractFloat}(LL::Matrix{F},\n",
    "                         target::Vector{F},\n",
    "                         initial_word_set::AbstractVector{Int},\n",
    "                         max_additions = Inf)\n",
    "    best_word_set = convert(Vector{Int},initial_word_set)\n",
    "    end_point = get_end(LL, best_word_set)\n",
    "    best_score = fitness(target, end_point)\n",
    "    \n",
    "    cur_additions = 0\n",
    "    while(cur_additions<max_additions)   \n",
    "        cur_additions+=1\n",
    "        addition_scores = score_possible_additions(LL, target, end_point)\n",
    "        addition_score, addition = findmax(addition_scores)\n",
    "        if addition_score>best_score+ϵ\n",
    "            #println(\"!add: $addition $best_score\")\n",
    "            best_score=addition_score\n",
    "            push!(best_word_set, addition)\n",
    "            end_point += sub(LL,(:,addition))\n",
    "        else \n",
    "            break\n",
    "        end\n",
    "    end\n",
    "    best_word_set,best_score\n",
    "end\n",
    "\n",
    "\n",
    "@everywhere function word_swap_refinement{F<:AbstractFloat}(LL::Matrix{F},\n",
    "                              target::Vector{F},\n",
    "                              initial_word_set::AbstractVector{Int})\n",
    "    \n",
    "    best_word_set = copy(initial_word_set)\n",
    "    end_point = get_end(LL, initial_word_set)\n",
    "    best_score = fitness(target, end_point)\n",
    "    function update_best!(word_set,score)\n",
    "        if score>best_score+ϵ #scores are negative\n",
    "            best_score=score\n",
    "            best_word_set = word_set\n",
    "            #println(\"*swap, new set: $word_set $score\")\n",
    "        end\n",
    "    end\n",
    "    n_words_initial = length(initial_word_set)\n",
    "    for ii in 1:n_words_initial-1 #Don't need to consider last word added as it was added greedily\n",
    "        word_set = sub(initial_word_set,[1:ii-1; ii+1:n_words_initial])\n",
    "        sub_endpoint = end_point - sub(LL,(:,initial_word_set[ii]))\n",
    "        subset_score = fitness(target, sub_endpoint)\n",
    "        update_best!(word_set, subset_score)\n",
    "        \n",
    "\n",
    "        add_word_set, add_score = greedy_addition(LL, target, word_set, 1) #Try adding just one greedily\n",
    "        update_best!(add_word_set, add_score)\n",
    "    end\n",
    "\n",
    "    best_word_set,best_score\n",
    "        \n",
    "end\n",
    "\n",
    "\n",
    "@everywhere function greedy_search{F<:AbstractFloat}(data::Dict, target::Vector{F}; rounds=1000, log=false)\n",
    "    get_words(word_iis) = [data[\"indexed_words\"][ii] for ii in word_iis]\n",
    "    \n",
    "    word_iis = Int[]\n",
    "    best_word_iis = word_iis\n",
    "    best_score=-Inf\n",
    "    for round in 1:rounds\n",
    "        word_iis, add_score = greedy_addition(data[\"LL\"], target, word_iis)\n",
    "        log && println(\"POST_ADD_STEP: $add_score $(get_words(word_iis))\")\n",
    "        @assert add_score + ϵ >= best_score || best_word_iis == word_iis \"$add_score vs $best_score $(get_words(word_iis))\"\n",
    "        best_word_iis = word_iis\n",
    "        \n",
    "        if add_score>= 0.0 \n",
    "            best_score = add_score\n",
    "            break \n",
    "        end        \n",
    "        \n",
    "\n",
    "        \n",
    "        word_iis, swap_score = word_swap_refinement(data[\"LL\"], target, word_iis)\n",
    "        log && println(\"POST_SWAP_STEP: $swap_score $(get_words(word_iis))\")\n",
    "        @assert swap_score + ϵ >= add_score || best_word_iis == word_iis\n",
    "        best_word_iis = word_iis\n",
    "        \n",
    "        converged = best_score - ϵ<swap_score<best_score + ϵ || swap_score>=-ϵ\n",
    "        best_score=swap_score\n",
    "        if converged\n",
    "            break \n",
    "        end       \n",
    "    end\n",
    "    get_words(word_iis),best_score\n",
    "end\n",
    "\n",
    "\n",
    "\n",
    "@everywhere function greedy_search{S}(data::Dict, target_sent::Vector{S}; kwargs...)\n",
    "    target = lookup_sowe(data,target_sent)\n",
    "    greedy_search(data, target; kwargs...)\n",
    "end"
   ]
  },
  {
   "cell_type": "code",
   "execution_count": 6,
   "metadata": {
    "collapsed": false
   },
   "outputs": [
    {
     "ename": "LoadError",
     "evalue": "LoadError: UndefVarError: data_sym not defined\nwhile loading In[6], in expression starting on line 155",
     "output_type": "error",
     "traceback": [
      "LoadError: UndefVarError: data_sym not defined\nwhile loading In[6], in expression starting on line 155",
      "",
      " [inlined code] from essentials.jl:114"
     ]
    }
   ],
   "source": [
    "test_sentence = ASCIIString[\"a\",\"few\",\"folks\",\"around\",\"here\",\"dont\",\"like\",\"you\",\",\",\"you\",\"know\",\",\",\"jake\",\",\",\"said\",\"the\",\"pastor\",\".\"]\n",
    "test_sentence = map(symbol,test_sentence)\n",
    "@time greedy_search(data_sym, test_sentence, rounds=10_000, log=true)"
   ]
  },
  {
   "cell_type": "code",
   "execution_count": 7,
   "metadata": {
    "collapsed": true
   },
   "outputs": [],
   "source": [
    "gc()"
   ]
  },
  {
   "cell_type": "code",
   "execution_count": 8,
   "metadata": {
    "collapsed": false
   },
   "outputs": [
    {
     "name": "stderr",
     "output_type": "stream",
     "text": [
      "WARNING: Base.FS is deprecated.\n",
      "  likely near /home/ubuntu/.julia/v0.5/Blocks/src/Blocks.jl:3\n"
     ]
    },
    {
     "data": {
      "text/plain": [
       "Lumberjack.LumberjackTruck(IOStream(<file selection.log>),nothing,Dict{Any,Any}(:is_colorized=>false,:uppercase=>false))"
      ]
     },
     "execution_count": 8,
     "metadata": {},
     "output_type": "execute_result"
    }
   ],
   "source": [
    "using Blocks\n",
    "using Lumberjack\n",
    "add_truck(LumberjackTruck(\"selection.log\"), \"file-logger\")"
   ]
  },
  {
   "cell_type": "code",
   "execution_count": null,
   "metadata": {
    "collapsed": true
   },
   "outputs": [],
   "source": []
  },
  {
   "cell_type": "code",
   "execution_count": 9,
   "metadata": {
    "collapsed": false,
    "scrolled": true
   },
   "outputs": [
    {
     "data": {
      "text/plain": [
       "Blocks.Block{Array{Array{Symbol,1},1}}([[symbol(\"``\"),:you,:would,:destroy,:a,:book,:that,:even,:the,:quran,:calls,:holy,:?,symbol(\"''\")],[:im,:glad,:that,:i,:left,:henderson,:.],[:he,:ran,:around,:the,:student,:apartments,:yelling,:fire,symbol(\",\"),:fire,:!],[:but,:i,:dont,:like,:him,symbol(\",\"),:hes,:just,:a,:child,:.],[:oh,symbol(\",\"),:you,:wont,:see,:a,:politician,:within,:miles,:of,:that,:discussion,symbol(\",\"),:trust,:me,:on,:that,:one,:.],[:but,symbol(\",\"),:like,:i,:said,symbol(\",\"),:i,:know,:you,:had,:nothing,:to,:do,:with,:it,:.],[:manny,symbol(\",\"),:please,symbol(\",\"),:let,:mcdermott,:do,:his,:job,:.],[:the,:only,:thing,:we,:both,:knew,:was,:that,:we,:wanted  …  :understand,:beyond,:the,:conventional,:avenues,:of,:learning,:and,:reasoning,:.],[:we,:walked,:outside,:to,:discover,:the,:island,:lit,:up,:from,:one,:end,:to,:the,:other,:.],[:i,:didnt,:want,:to,:talk,:about,:my,:mom,symbol(\",\"),:or,:share,:about,:the,:package,:.]  …  [:a,:kiss,:?,symbol(\"''\")],[:her,:brain,:and,:her,:body,:felt,:numb,:.],[:the,:whole,:intersection,:was,:empty,:.],[:what,:he,symbol(\"'d\"),:forgotten,:-,:oh,:no,:.],[:every,:part,:of,:the,:land,:watched,:as,:it,:happened,symbol(\",\")  …  symbol(\",\"),:as,:the,:clearing,:ran,:and,:screamed,:and,:died,:.],[symbol(\"``\"),:he,:will,:not,:to,:get,:far,:.,symbol(\"''\")],[symbol(\"``\"),:i,symbol(\"'ll\"),:keep,:him,:busy,:down,:here,:.,symbol(\"''\")],[:miss,:bitch,symbol(\"'s\"),:eyes,:widened,:.],[symbol(\"``\"),:i,:would,:think,:so,:.,symbol(\"''\")],[:i,:was,:stoked,:as,:hell,:to,:see,:him,:sitting,:there,:in,:a,:runaway,:train,symbol(\"t-shirt\"),:.]],Any[[[symbol(\"``\"),:you,:would,:destroy,:a,:book,:that,:even,:the,:quran,:calls,:holy,:?,symbol(\"''\")],[:im,:glad,:that,:i,:left,:henderson,:.],[:he,:ran,:around,:the,:student,:apartments,:yelling,:fire,symbol(\",\"),:fire,:!],[:but,:i,:dont,:like,:him,symbol(\",\"),:hes,:just,:a,:child,:.],[:oh,symbol(\",\"),:you,:wont,:see,:a,:politician,:within,:miles,:of,:that,:discussion,symbol(\",\"),:trust,:me,:on,:that,:one,:.],[:but,symbol(\",\"),:like,:i,:said,symbol(\",\"),:i,:know,:you,:had,:nothing,:to,:do,:with,:it,:.],[:manny,symbol(\",\"),:please,symbol(\",\"),:let,:mcdermott,:do,:his,:job,:.],[:the,:only,:thing,:we,:both,:knew,:was,:that,:we,:wanted  …  :understand,:beyond,:the,:conventional,:avenues,:of,:learning,:and,:reasoning,:.],[:we,:walked,:outside,:to,:discover,:the,:island,:lit,:up,:from,:one,:end,:to,:the,:other,:.],[:i,:didnt,:want,:to,:talk,:about,:my,:mom,symbol(\",\"),:or,:share,:about,:the,:package,:.]  …  [:he,:left,:right,:before,:you,:came,:in,symbol(\",\"),:bob,:said,:.],[:i,:wanted,:to,:see,:the,:world,:!],[:a,:long,:time,:ago,:someone,:had,:shown,:him,:how,:this,:worked,:.],[:he,symbol(\"'s\"),:my,:lucky,:charm,:and,:he,:comes,:everywhere,:with,:me,:.],[:give,:me,:the,:music,:box,:or,:i,symbol(\"'ll\"),:kill,:you,:.],[:the,:deputy,:pulled,:the,:car,:back,:into,:the,:parking,:space  …  :to,:unlock,:and,:push,:open,:the,:passenger,:side,:door,:.],[:so,:what,:do,:you,:say,:?],[:a,:head,:to,:head,:was,:all,:it,:would,:take,:for  …  symbol(\",\"),:but,:all,:that,:was,:up,:to,:the,:jockeys,:.],[:they,:made,:love,:after,:that,symbol(\",\"),:and,:even,:now,:he  …  :been,:enough,:film,:to,:capture,:those,:first,:awkward,:moments,:.],[:she,:is,:beautiful,symbol(\",\"),:father,:.]],[[:the,:representation,:of,:the,:body,:of,:christ,:paraded,:through,:the  …  symbol(\",\"),:and,:seemed,:to,:rally,:them,:around,:the,:church,:.],[:curiously,:he,:could,symbol(\"n't\"),:help,:but,:wonder,:what,:could,:have  …  :whatever,:it,:was,:-,:it,:certainly,:was,symbol(\"n't\"),:good,:.],[:anyway,:i,:ran,:and,:covered,:myself,:to,:the,:taxi,:while,:the,:dogs,:jumped,:on,:to,:alex,:.],[:it,:hurt,symbol(\",\"),:and,:at,:that,:moment,:thorn,:would,:have  …  :anything,:for,:another,:one,:of,:those,:shots,:of,:opiate,:.],[:i,:noticed,:mitch,:go,:over,:to,:speak,:to,:governor,:williams  …  :the,:governor,:invited,:warden,:ellis,:to,:join,:their,:conversation,:.],[:oh,:and,:make,:sure,:you,:tidy,:your,:rooms,:please,:before  …  :down,:on,:the,:couch,:for,:a,:cup,:of,:coffee,:.],[:wrong,:choice,:of,:words,:!],[:now,:to,:get,:my,:boys,:.],[:dane,:shouted,:to,:his,:men,:.],[:that,:nagging,:pain,:had,:started,:again,:in,:his,:stomach,:that,:couldnt,:be,:ignored,:.]  …  [symbol(\"``\"),:i,symbol(\"'m\"),:sorry,:we,:missed,:erika,symbol(\",\"),symbol(\"''\"),:she  …  symbol(\",\"),symbol(\"``\"),:there,:is,:one,:for,:her,symbol(\",\"),:too,:.],[:there,:was,:a,:first,:time,:for,:everything,:.],[:everyone,:quickly,:collected,:to,:hear,:their,:report,:.],[:yes,symbol(\",\"),:harry,:said,:strongly,:.],[:simi,:cried,:into,:her,:fathers,:shoulder,:.],[:the,:horse,:lurched,:forward,:.],[:a,:silver,symbol(\",\"),:good,:sir,symbol(\",\"),:he,:pleaded,:.],[:smiling,:he,:turned,:toward,:james,symbol(\",\"),:its,:moving,:away,:!],[:miko,:asked,:.],[symbol(\"``\"),:i,:am,:whatever,:you,:think,:i,:am,symbol(\",\"),symbol(\"''\"),:the,:badger,:said,:evenly,:.]],[[:spirit,:guide,:magic,:is,:potent,:and,:lasts,:so,:long,:as,:they,:do,:.],[:as,:the,:usual,:routine,:of,:the,:past,:week,symbol(\",\"),:kanade  …  :and,:held,:out,:her,:arms,:to,:catch,:the,:child,:.],[:i,:dont,:mind,:at,:all,:.],[:without,:my,:mother,symbol(\",\"),:i,:guess,:i,:sort,:of,:assumed,:that,:role,:for,:him,:.],[:this,:isnt,:the,:first,:time,:hes,:not,:been,:able,:to,:wait,:one,:more,:day,:before,:getting,:mashed,:.],[:dont,:make,:it,:obvious,symbol(\",\"),:just,:dont,:look,:at,:him,:again,:until,:you,:get,:out,:of,:the,:car,:.],[:on,:the,:third,:shoot,:she,:shot,:one,:straight,:in,:the,:face,:.],[:arent,:you,:supposed,:to,:be,:taking,:my,:seminar,:on,:macedonia,:?],[:upon,:his,:return,symbol(\",\"),:we,:began,:to,:cross,:the,:pipes  …  :to,:shrink,:the,:moment,:that,:we,:stepped,:on,:them,:.],[:you,:respect,:him,symbol(\",\"),:dont,:you,symbol(\",\"),:mister,:chameleon,:?]  …  [:if,:it,:proves,:to,:be,:authentic,:?],[:another,:voice,symbol(\",\"),:female,symbol(\",\"),:unknown,:to,:me,:.],[:i,:should,:have,:seen,:that,:wire,:.],[:her,:eyes,:darted,:around,:the,:restaurant,:again,:and,:i,:had,:this,:feeling,:like,:she,:was,:genuinely,:scared,:.],[:jet,:lag,:seemed,:to,:be,:eating,:her,:brain,:cells,:.],[:stop,:!],[:okay,:.],[symbol(\"``\"),:granted,symbol(\",\"),:i,:probably,:would,symbol(\"n't\"),:complain,:if,:you  …  :of,:me,symbol(\",\"),:but,:this,:is,:really,:good,:.,symbol(\"''\")],[:they,:came,:to,:this,:at,:seventeen,:cycles,:.],[:tie,:him,:by,:the,:wrists,:to,:the,:horse,:and,:see,:how,:he,:goes,:.,symbol(\"''\")]],[[:he,:received,:water,:for,:only,:two,:days,:.],[:get,:yourself,:dried,:and,:put,:on,:these,:clothes,:.,symbol(\"''\")],[:the,:sorcerer,:beckoned,:the,:youth,:forward,:.],[:expecting,:a,:volley,:of,:fire,symbol(\",\"),:no,:one,:fired,:a,:single,:shot,:.],[:i,symbol(\"'ll\"),:be,:here,:in,:the,:morning,:to,:bring,:her,:home,:.,symbol(\"''\")],[:but,:do,:not,:ask,:me,:further,symbol(\",\"),:for,:my,:knowledge,:fails,:here,:.],[:i,:heard,:something,symbol(\",\"),:just,:before,:everything,:exploded,:.],[:it,:feels,:like,:hes,:here,:to,:take,:away,:something,:very,:important,:.],[:he,:would,symbol(\"n't\"),:even,:own,:a,:computer,:if,:jack,:had,symbol(\"n't\"),:insisted,:.],[:the,:screams,:of,:battling,:horses,:filled,:the,:air,:.]  …  [:only,:now,:did,:he,:register,:the,:difference,:in,:the,:light,:he,:saw,:last,:night,:and,:the,:sun,:.],[:the,:ride,:took,:less,:than,:an,:hour,:from,:the,:airfield,:and,:the,:rest,:of,:it,:was,:made,:in,:silence,:.],[:do,:i,:understand,:that,:correctly,:?],[:i,:read,:gunter,symbol(\"'s\"),:report,:on,:your,:efforts,:at,:the,:aid,:station,:and,:you,:seemed,:successful,:there,:.],[:that,symbol(\"'s\"),:sufficient,:for,:a,:wizard,:.],[:rude,:?],[:she,:thought,:of,:her,:nice,symbol(\",\"),:new,symbol(\",\"),:gas,:efficient  …  :the,:warehouse,:and,:the,:miserable,:wait,:in,:the,:cold,:.],[:gregory,symbol(\"jr.\"),:got,:sick,:of,:it,symbol(\",\"),:and,:moved,:to,:south,:america,:about,:ten,:years,:ago,:.],[:fortunate,:you,:discovered,:this,:at,:a,:most,:opportune,:moment,:.,symbol(\"''\")],[:he,:had,:hoped,:to,:crush,:the,:whole,:of,:the,:hebrew,:nation,:.]],[[:.],[:you,:surely,:know,:that,:these,:things,:can,:not,:be,:!,symbol(\"''\")],[:connor,:shook,:his,:head,:.],[:can,:you,:please,:tell,:us,:what,:happened,:to,:connor,:?],[:no,:cutting,symbol(\",\"),:i,:said,:to,:him,symbol(\",\"),:finding,:that  …  :times,symbol(\",\"),:and,:dont,:expect,:me,:to,:drink,:anything,:.],[:he,:was,:still,:watching,:me,:.],[:i,:nodded,:at,:her,:and,:reached,:for,:my,:purse,symbol(\",\"),:which,:was,:hanging,:at,:my,:side,:.],[:flash,:!],[:he,:forced,:the,:thoughts,:out,:of,:his,:mind,:.],[:you,:mean,:people,:that,:break,:into,:people,symbol(\"'s\"),:houses,:?]  …  [:my,symbol(\"left-hand\"),:often,:itches,:and,:tingles,:when,:i,:would,:like  …  :write,:but,:have,:not,:made,:time,:to,:do,:so,:.],[:the,:trees,:looked,:magical,:as,:they,:were,:covered,:in,:the,:light,:fluff,:.],[:i,:searched,:for,:the,:window,:until,:i,:found,:it,:.],[:i,:believe,:its,:a,:good,:thing,:duato,:and,:i,:arent  …  symbol(\",\"),:else,:i,:have,:very,:colorful,:words,:for,:him,:.],[:to,:whom,:?],[:i,:cant,:even,:imagine,:someone,:pulling,:off,:being,:around,:rome,:.],[:i,:resist,:the,:urge,:to,:roll,:my,:eyes,:.],[:i,:say,symbol(\",\"),:as,:we,:enter,:one,:of,:the,:elevators,:.],[:the,:villagers,:came,:to,:stand,:in,:the,:doorways,symbol(\",\"),:some,:peered,:from,:windows,:.],[:the,:beast,:trembled,:.]],[[:but,:had,:no,:luck,:finding,:anything,symbol(\",\"),:and,:was,:pleased  …  :not,:recognize,:as,:either,:animal,symbol(\",\"),:plant,:or,:human,:.],[:id,:rather,:not,:refund,:it,symbol(\",\"),:dreamer,:said,:politely,:.],[:i,:ran,:into,:the,:meadow,:as,:the,:rain,:got,:heavier  …  :a,:clearing,:as,:i,:tried,:to,:clear,:my,:head,:.],[:i,:couldnt,:say,:i,:wasnt,:scared,symbol(\",\"),:especially,:when,:ben,:looked,:up,:and,:saw,:me,:.],[:i,:know,:how,:you,:feel,:but,:its,:necessary,:for,:someone  …  :to,:manage,:it,:on,:your,:own,symbol(\",\"),:paul,:said,:.],[:i,:am,:truly,:enjoying,:the,:sense,:of,:community,:in,:this,:little,:village,:of,:mice,:.],[:he,:frowned,symbol(\",\"),:but,:i,:saw,:that,:it,:wasnt,:at  …  :something,:he,:was,:thinking,:maybe,:something,:he,:was,:remembering,:.],[:i,:dont,:deserve,:it,:.],[:what,:?],[symbol(\"``\"),:but,:then,symbol(\",\"),symbol(\"''\"),:i,:asked,symbol(\",\"),symbol(\"``\"),:who,:raises,:them,:?,symbol(\"''\")]  …  [:the,:giant,:didnt,:budge,:.],[:klas,:copied,:his,:mother,:.],[:he,:made,:his,:way,:out,:of,:the,:cave,:then,:headed,:down,:the,:path,:to,:the,:river,:.],[:seems,:young,:for,:such,:a,:responsible,:position,:.],[:no,:surprise,symbol(\";\"),:in,:spite,:of,:their,:argument,symbol(\",\"),:raif,:would,:want,:to,:talk,:to,:her,:about,:the,:trip,:.],[:you,:are,:the,:finest,:warrior,:we,:have,:.],[:he,:sat,:in,:silence,:.],[:tears,:spilled,:down,:jakes,:cheeks,:even,:as,:a,:flash,:of,:relief,:cracked,:his,:devastated,:features,:.],[:only,:her,:face,:and,:long,:blonde,:hair,:was,:exposed,symbol(\",\")  …  :ty,:still,:took,:a,:habitual,symbol(\",\"),:cautious,:step,:back,:.],[:thomas,:could,symbol(\"n't\"),:believe,:that,:judy,:had,:wanted,:thomas,:to,:do,:such,:a,:thing,:.]],[[:to,:my,:surprise,symbol(\",\"),:tabby,:was,:standing,:right,:behind,:me,:and,:i,:did,symbol(\"n't\"),:even,:know,:it,:.],[:ha,:!],[:he,:turned,:to,:look,:at,:the,:other,:two,:with,:him,:.],[:are,:you,:all,:right,:?],[:the,:referee,:went,:into,:a,:huddle,:with,:the,:four,:men  …  :the,:jury,symbol(\",\"),:rapidly,:joined,:by,:the,:tournament,:director,:.],[:she,:smiled,:brightly,symbol(\",\"),:looking,:like,:she,:had,:just,:won,:the,:lottery,:.],[:he,:knew,:that,:no,:one,:would,:discover,:him,:so,:easily,:.],[:do,:you,:think,:i,:will,:forgive,:your,:friend,symbol(\",\"),:auron,symbol(\",\"),:for,:slaying,:my,:son,:?],[:the,:knight,:in,:gold,:and,:silver,:chuckled,:.],[:giorgio,:shrugged,:and,:met,:his,:gaze,:.]  …  [:and,:as,:always,symbol(\",\"),:this,:one,:was,:over,:too,:quickly,:.],[:i,:just,:smile,:at,:her,:hopelessly,:.],[symbol(\"``\"),:dresden,symbol(\",\"),:this,:...,:this,:kind,:of,:magic,:is,:an,:abomination,:.],[:when,:he,:pushed,:the,:door,:open,symbol(\",\"),:the,:room,symbol(\"'s\"),:lone,:resident,:jumped,:off,:the,:bed,:in,:alarm,:.],[:and,:i,:ca,symbol(\"n't\"),:afford,:a,:new,:one,:.],[:nothing,:exists,:at,:the,:moment,symbol(\",\"),:but,:him,:and,:me,:.],[:it,:ca,symbol(\"n't\"),:be,:coincidence,:.,symbol(\"''\")],[:every,:ounce,:of,:agony,:that,:the,:man,:felt,:was,:strewn  …  :face,symbol(\",\"),:until,:eric,:finally,:allowed,:him,:to,:collapse,:.],[:after,:all,:the,:years,:of,:searching,symbol(\",\"),:she,symbol(\"'d\"),:finally,:have,:her,:revenge,:.],[:i,:stood,:there,symbol(\",\"),:stunned,symbol(\",\"),:and,:too,:shocked,:to,:move,:.]],[[:he,:knew,:what,:he,:was,:getting,:into,:.],[:its,:breath,:did,symbol(\"n't\"),:have,:the,:rancid,:scent,:that,:flooded,:from,:the,:demons,:',:mouths,:.],[:the,:snow,:did,symbol(\"n't\"),:melt,:when,:it,:touched,:her,:.],[:collin,:watched,:him,:.],[:but,symbol(\",\"),:it,:felt,:like,:we,:hit,:a,:wall,:.],[:dad,:asks,:.],[:games,symbol(\",\"),:and,:games,symbol(\",\"),:and,:games,:.],[:remember,symbol(\",\"),:i,symbol(\"'m\"),:loyal,symbol(\",\"),:rusty,:.],[symbol(\"``\"),:you,:do,symbol(\"n't\"),:believe,:me,:.],[symbol(\"``\"),:i,:said,:get,:out,:.]  …  [:instead,:i,:go,:upstairs,:and,:wash,:away,:the,:layers,:of  …  :go,:down,:to,:dry,:my,:hair,:by,:the,:fire,:.],[:peeta,:buries,:his,:face,:in,:his,:hands,:for,:a,:few,:moments,symbol(\",\"),:then,:rises,:to,:join,:us,:.],[:that,:one,:they,:threw,:back,:.],[:he,:considered,:for,:a,:moment,:.],[:who,:knows,:?],[symbol(\"``\"),:break,:it,symbol(\",\"),:then,:!,symbol(\"''\")],[symbol(\"``\"),:no,symbol(\",\"),symbol(\"''\"),:i,:said,:flatly,:.],[:i,:saw,:his,:eyes,:half,:close,:in,:concentration,:and,:felt  …  :air,:thick,symbol(\",\"),:making,:me,:feel,:sluggish,:and,:sleepy,:.],[:kenzie,:grabbed,:the,:thing,symbol(\"'s\"),:collar,symbol(\",\"),:dragging,:it,:back,:inside,:.],[:and,:all,:were,:suddenly,:fixed,:on,:us,:.]],[[symbol(\"``\"),:there,symbol(\"'s\"),:twine,:in,:the,:drawer,:to,:your,:right,:.],[:a,:little,:below,:him,:to,:the,:left,:the,:road,:ran,:down,:steeply,:into,:a,:hollow,:and,:disappeared,:.],[:they,:have,:a,:long,:road,:before,:them,:.],[:he,:muttered,:under,:his,:breath,:.],[:and,:this,:is,symbol(\"first-rate\"),:salted,:pork,:.],[:he,:smiles,:and,:nods,:.],[symbol(\"``\"),:go,:.,symbol(\"''\")],[:look,symbol(\",\"),:build,:the,:new,:press,:in,:the,:mint,:.],[:clubs,:snorted,:.],[symbol(\"``\"),:gon,:na,:en,:list,symbol(\",\"),symbol(\"''\"),:it,:said,:.]  …  [:he,:fought,:to,:hack,:his,:way,:free,symbol(\",\"),:but,:the,:snake,symbol(\"'s\"),:sword,:warded,:off,:each,:blow,:.],[:suzan,:had,:dropped,:it,:off,:with,:a,:note,:written,:in,:her,:loopy,:script,:(:),:this,:dress,:screamed,:your,:name,:!],[:naomi,:looked,:at,:ben,:.],[symbol(\"``\"),:i,symbol(\"'m\"),:a,:little,:rusty,symbol(\",\"),symbol(\"''\"),:her,:mother,:said,:.],[symbol(\"``\"),:maybe,:where,:the,:possession,:took,:place,symbol(\",\"),symbol(\"''\"),:nick,:said,:.],[:said,:william,:.],[:i,:wanted,:to,:see,:what,:they,symbol(\"'d\"),:have,:to,:say,:.],[:she,symbol(\"'s\"),:lying,:to,:you,symbol(\";\"),:do,symbol(\"n't\"),:you,:understand,:?],[:grave,:pulled,:his,:second,:dagger,:from,:his,:boot,:.],[:if,:he,:had,:made,:more,:...]],[[symbol(\"``\"),:he,:was,:raised,:to,:the,:peerage,:for,:service,:to  …  :allendale,symbol(\",\"),:and,:his,:creation,:dates,:from,symbol(\"1529\"),:.,symbol(\"''\")],[symbol(\"``\"),:i,:give,:less,:weight,:to,:a,:small,:piece,:of  …  :very,:beginning,:of,:our,:acquaintance,symbol(\",\"),symbol(\"''\"),:laurence,:said,:.],[:i,:can,symbol(\"''\"),:t,:prove,:it,:.],[:well,symbol(\",\"),:i,:am,:the,:rightful,:-,:excuse,:me,:-,:and,:indisputable,:king,:of,:the,:trolls,:.,symbol(\"''\")],[:it,symbol(\"'s\"),:all,:of,:a,:piece,:.],[symbol(\"``\"),:yes,symbol(\",\"),:your,:grace,:.,symbol(\"''\")],[symbol(\"``\"),:what,:?,symbol(\"''\")],[:i,symbol(\"'m\"),:counting,:on,:you,symbol(\",\"),:old,:friend,:.],[:egwene,:asked,:.],[symbol(\"``\"),:and,:will,:you,:stop,:me,:?,symbol(\"''\")]  …  [symbol(\"``\"),:i,symbol(\"'m\"),:not,:a,:man,:.,symbol(\"''\")],[:she,:hates,:to,:leave,:the,:institute,:.,symbol(\"''\")],[:what,:i,:say,:goes,:.,symbol(\"''\")],[:but,:sebastian,:did,symbol(\"n't\"),:look,:surprised,:.],[:he,:let,:his,:breath,:out,:in,:a,:low,:chuckle,:.],[:he,:was,:alive,:in,:her,:head,:as,:if,:it,:were  …  :lap,:and,:his,:glasses,:askew,:on,:his,:small,:face,:.],[symbol(\"``\"),:sebastian,symbol(\",\"),symbol(\"''\"),:she,:said,:.],[:they,:turned,:away,:from,:her,:and,:started,:down,:the,:path  …  :motionless,symbol(\",\"),:watching,:them,:go,symbol(\",\"),:her,:eyes,:burning,:.],[:he,:said,:.],[:i,:seriously,:needed,:to,:learn,:how,:to,:knock,:.]]  …  [[symbol(\"``\"),:is,:he,:okay,:?,symbol(\"''\")],[symbol(\"``\"),:i,:do,symbol(\"n't\"),:doubt,:you,:can,:take,:care,:of  …  :backs,symbol(\",\"),symbol(\"''\"),:he,:said,:in,:a,:husky,:voice,:.],[:he,:might,:desire,:to,:be,:indifferent,:but,:his,:body,:was,:swiftly,:betraying,:him,:.],[symbol(\"``\"),:that,:will,:not,:be,:necessary,:.,symbol(\"''\")],[:she,:could,:not,:bear,:it,:again,:.],[symbol(\"``\"),:good,symbol(\",\"),symbol(\"''\"),:finnegan,:said,symbol(\",\"),:a,:victorious,:glint,:in,:his,:beady,:little,:eyes,:.],[:tossing,:his,:phone,:into,:the,:passenger,:seat,symbol(\",\"),:luc,:parked,:his,:car,:at,:the,:end,:of,:the,symbol(\"tree-lined\"),:street,:.],[symbol(\"``\"),:good,:.,symbol(\"''\")],[symbol(\"``\"),:she,symbol(\"'s\"),:refused,:me,:as,:her,:mate,:.,symbol(\"''\")],[:he,:shrugged,:.]  …  [:madeline,:paused,:at,:the,:top,:of,:the,:stairs,symbol(\",\"),:letting,:everyone,:get,:a,:good,symbol(\",\"),:long,:look,:at,:her,:.],[:i,:stopped,symbol(\",\"),:peering,:at,:him,:over,:my,:shoulder,:.],[:cahal,:had,:been,:peering,:back,:into,:the,:depths,:of,:our  …  symbol(\",\"),:snapping,symbol(\",\"),symbol(\"``\"),:do,symbol(\"n't\"),:order,:me,:.,symbol(\"''\")],[symbol(\"``\"),:anyone,:know,:how,:these,:things,:operate,:?,symbol(\"''\")],[:the,:scent,:of,:my,:mate,:hit,:me,:.],[:i,:asked,symbol(\",\"),:turning,:to,:nick,symbol(\",\"),:before,:snagging,:another,:sweet,symbol(\",\"),:delicious,:roll,:.],[:the,:sun,:will,:be,:rising,:and,:my,:queen,:is,:anxiously,:awaiting,:our,:return,:.,symbol(\"''\")],[:tyler,:growled,:and,:snapped,:at,:the,:retreating,:wolves,symbol(\",\"),:but  …  :still,symbol(\",\"),:awaiting,:the,:next,:command,:of,:his,:alpha,:.],[:danny,:shook,:his,:head,:.],[:the,:woman,symbol(\",\"),:dressed,:in,:white,:shorts,:and,:a,symbol(\"polka-dot\")  …  symbol(\",\"),:had,:curly,:brown,:hair,:and,:a,:wide,:smile,:.]],[[:she,:had,:teased,:and,:flirted,:shamelessly,symbol(\",\"),:and,:one,:night  …  :into,:the,:shadows,:beyond,:the,:town,:and,:seduced,:him,:.],[symbol(\"``\"),:i,:did,symbol(\"n't\"),:think,:vampires,:were,:capable,:of,:love,:.,symbol(\"''\")],[symbol(\"``\"),:whatever,:it,:is,symbol(\",\"),:you,:can,:tell,:me,:.,symbol(\"''\")],[symbol(\"``\"),:most,:people,:these,:days,:will,:do,:almost,:anything,:to,:get,:their,:names,:or,:pictures,:in,:the,:news,:.,symbol(\"''\")],[:evelyn,:and,:george,:exchanged,:glances,symbol(\",\"),:then,:george,:nodded,:almost,:imperceptibly,:.],[:a,:rush,:of,:warmth,:engulfed,:her,:when,:she,:remembered,:the,:intimate,:places,:his,:mouth,:had,:been,:last,:night,:.],[:were,symbol(\"n't\"),:computers,:supposed,:to,:put,:an,:end,:to,:all,:this,:?],[symbol(\"``\"),:not,:quite,:.],[symbol(\"``\"),:you,:.,symbol(\"''\")],[:a,:coldness,:swept,:through,:me,:at,:his,:words,:.]  …  [:would,:the,:link,:work,:?],[:the,:enemy,:was,:powerful,:and,:for,:whatever,:reason,symbol(\",\"),:in,:this,:situation,symbol(\",\"),:he,symbol(\"'d\"),:gotten,:the,:upper,:hand,:.],[:it,:was,:all,:those,:complex,symbol(\",\"),:myriad,symbol(\",\"),:and,:amazing  …  :car,symbol(\",\"),symbol(\"``\"),:spend,:the,:night,:with,:me,:.,symbol(\"''\")],[:but,:he,:had,:quit,:smoking,symbol(\",\"),:so,:he,:would,:have,:to,:settle,:for,:a,:glass,:of,:red,:.],[symbol(\"``\"),:what,:?],[symbol(\"``\"),:saxon,:got,:roughed,:up,:by,:raven,symbol(\",\"),:who,:said,:saxon,:owes,:him,:some,:cash,:.],[:you,:should,:know,:that,:.],[:still,:studying,:for,:the,:written,:exam,:.,symbol(\"''\")],[:it,:was,:the,:biggest,:and,:grandest,:building,:she,symbol(\"'d\"),:ever,:been,:in,:.],[:as,:the,:girls,:headed,:back,:up,:the,:dark,:musty,:staircase  …  :would,:need,:that,:id,:for,symbol(\",\"),:other,:than,:movies,:.]],[[:she,:knew,:what,:the,:smell,:was,symbol(\",\"),:knew,:what,:it,:meant,:as,:a,:rushing,:wave,:of,:thirst,:assailed,:her,:.],[:devon,:shook,:his,:head,:.],[:julian,:spit,:and,:hissed,symbol(\";\"),:his,:face,:twisted,:in,:pure  …  symbol(\",\"),:his,:claws,:raking,:deep,:across,:devon,symbol(\"'s\"),:chest,:.],[:braith,:kept,:an,:eye,:on,:the,:guards,:encircling,:them,:as,:he,:deliberately,:moved,:back,:with,:her,:.],[symbol(\"``\"),:yes,:.,symbol(\"''\")],[:now,symbol(\",\"),:it,:would,:be,:nearly,:impossible,:for,:anyone,:wishing,:harm,:to,:gain,:admittance,:.],[:mist,:swirled,symbol(\",\"),:a,:thick,:gray,:fog,:.],[:she,:might,:have,:just,:come,:out,:of,:the,:ice,:caves  …  :xavier,:and,:tortured,:before,:he,:was,:put,:to,:death,:.],[:her,:human,:body,:must,:die,:in,:a,:sense,symbol(\",\"),:in,:order,:for,:the,:conversion,:to,:work,:.],[symbol(\"6\"),:zev,:expected,:to,:feel,:her,:death,symbol(\",\"),:just,:as  …  :but,:there,:was,:nothing,:at,:all,symbol(\",\"),:only,:emptiness,:.]  …  [:a,:burly,:man,:at,:the,:agriculture,:wall,:floppy,:growls,:.],[:even,:within,:the,:same,:genre,symbol(\",\"),:two,:books,:can,:be,:totally,:different,:.],[:i,:do,symbol(\"n't\"),:think,:i,:stand,:out,symbol(\",\"),:but,:their  …  :and,:shoes,:and,:backpacks,:are,:more,:expensive,:than,:mine,:.],[:only,:people,:with,:parts,:can,:know,:about,:said,:parts,:.,symbol(\"''\")],[:you,:left,:me,:hanging,:.],[:and,:as,:i,:walk,:away,symbol(\",\"),:i,:realize,:that,:i  …  :how,:i,symbol(\"'ll\"),:manage,:to,:stop,:thinking,:about,:him,:.],[:i,symbol(\"'ll\"),:revamp,:you,:.,symbol(\"''\")],[:after,:several,:moments,:of,:silence,symbol(\",\"),:he,:backed,:away,:from,:me,:and,:went,:back,:to,:his,:sandwich,:.],[:the,:track,:lights,:were,:on,symbol(\",\"),:and,:flooded,:the,:red  …  :and,:football,:field,:of,:green,:grass,:in,:the,:middle,:.],[symbol(\"``\"),:oh,symbol(\",\"),symbol(\"''\"),:i,:back,:into,:the,:room,symbol(\",\"),symbol(\"``\"),:sure,:.]],[[:reid,:alexander,:has,:a,:girlfriend,:.,:'],[:his,symbol(\"twelve-step\"),:apology,symbol(\",\"),:no,:matter,:what,:it,:stems,:from,symbol(\",\"),:does,symbol(\"n't\"),:extend,:that,:far,:.],[:i,:nod,symbol(\",\"),:and,:she,:ducks,:her,:chin,:low,:and  …  :the,:floor,symbol(\",\"),:and,:her,:sweater,:from,:the,:chair,:.],[:the,:female,:vamp,:gave,:me,:a,:patronizing,:look,:.],[:i,:burrowed,:into,:the,:cold,:cemetery,:ground,symbol(\",\"),:trying,:not  …  :was,:buried,:here,symbol(\",\"),:beneath,:the,:grass,:and,:tombstones,:.],[:yeah,symbol(\",\"),:allie,:the,:street,:rat,:would,symbol(\"'ve\"),:liked,:this,:place,:.],[:it,symbol(\"'s\"),:getting,:too,:dark,:to,:do,:it,:now,symbol(\",\")  …  :an,:arc,:in,:the,:air,symbol(\",\"),:back,:and,:forth,:.],[:it,:was,:only,:a,:matter,:of,:time,:.],[:his,:eyes,:closed,symbol(\",\"),:he,:struggled,:with,:the,:words,:.],[:i,:stared,:up,:at,:the,:sky,:.]  …  [symbol(\"``\"),:scary,:.,symbol(\"''\")],[:i,:glance,:around,:us,:and,:do,symbol(\"n't\"),:really,:see,:anyone  …  :her,:briefly,:on,:the,:lips,symbol(\",\"),:then,:pull,:away,:.],[:then,:he,:takes,:my,:hand,symbol(\",\"),:squeezes,:it,symbol(\",\"),:and,:leads,:me,:to,:his,:car,:.],[:you,:said,:it,:was,symbol(\"n't\"),:realistic,:to,:think,:we,:would,symbol(\"n't\"),:be,:attracted,:to,:other,:people,:.,symbol(\"''\")],[:just,:how,:i,:would,symbol(\"'ve\"),:asked,:for,:it,:.],[:i,:need,:that,:time,:because,:i,:have,:no,:idea,:what,:i,:want,:to,:study,:.],[:i,:move,:to,:walk,:with,:jack,:.],[:it,:told,:me,:not,:to,:fool,:myself,:into,:believing,:i,symbol(\"'m\"),:safe,:.,symbol(\"''\")],[:i,:had,:to,:distract,:my,:current,:train,:of,:thought,:and,:break,:the,:spell,:before,:it,:overtook,:me,:.],[symbol(\"``\"),:it,symbol(\"'s\"),:an,:honor,:to,:be,:here,symbol(\",\"),:my  …  :of,:my,:willpower,:to,:keep,:my,:voice,:from,:shaking,:.]],[[:for,:a,:moment,symbol(\",\"),:his,:green,:eyes,:were,:intense,symbol(\",\")  …  :i,:caught,:my,:breath,:at,:the,:emotion,:smoldering,:within,:.],[:when,:i,:hesitated,symbol(\",\"),:his,:voice,:became,:friendlier,symbol(\",\"),:encouraging,:.],[:maybe,:making,:friends,:is,:a,:specific,:skill,symbol(\",\"),:and,:i,:missed,:the,:lesson,:.],[:thanks,:for,:the,:good,:karma,:!],[:shit,:.],[:there,symbol(\"'s\"),:no,:escape,:.],[:my,:failure,:today,:comes,:crashing,:down,:on,:me,:.],[:and,:then,:she,:was,:gone,:.],[:it,symbol(\"'s\"),:mostly,:empty,symbol(\",\"),:like,:i,:said,:.,symbol(\"''\")],[:she,:replied,:.]  …  [symbol(\"``\"),:ignore,:them,symbol(\",\"),symbol(\"''\"),:sebastian,:said,:as,:they,:sat,:alone,:in,:the,:cafeteria,:.],[:as,:if,:sensing,:she,:was,:about,:to,:attempt,:the,:spell  …  :their,:instructors,:to,:gaze,:across,:the,:space,:at,:her,:.],[symbol(\"``\"),:what,:...,:like,:i,symbol(\"'m\"),:useless,:?],[:he,:felt,:her,:breath,:shudder,:against,:his,:lips,:and,:that,:was,:it,:.],[symbol(\"``\"),:how,:do,:you,:think,:i,:got,:in,:?,symbol(\"''\")],[symbol(\"``\"),:you,:were,:a,:lot,:cuter,:before,:you,:started,:talking  …  :were,:just,:a,:guy,:who,:hit,:my,:car,:.,symbol(\"''\")],[symbol(\"``\"),:shooting,:flintstone,:...,symbol(\"''\"),symbol(\"``\"),:and,:then,:ringer,:shot,:me,:.,symbol(\"''\")],[:his,:silent,:routine,:was,:getting,:really,:old,:.],[:your,:bloodstone,:will,:be,:useless,:.],[:i,:know,:just,:how,:incredibly,:selfish,:of,:me,:that,:was,symbol(\",\"),:but,:i,:could,symbol(\"n't\"),:help,:it,:.]],[[:he,:asks,:james,symbol(\",\"),:but,:james,:does,symbol(\"n't\"),:respond,:.],[:danny,:and,:cooper,:grabbed,:bags,:and,:a,:small,:cooler,:out,:of,:the,:trunk,:.],[:emma,:asked,symbol(\",\"),:trying,:not,:to,:get,:too,:freaked,:.],[:not,:on,:your,:life,symbol(\",\"),:i,:thought,:angrily,:.],[:she,:focused,:on,:her,:feet,symbol(\",\"),:on,:keeping,:upright,:as  …  :below,symbol(\",\"),:illuminated,:by,:moonlight,:leaking,:from,:the,:tomb,:.],[symbol(\"``\"),:unlucky,:how,:?,symbol(\"''\")],[:whether,:we,:were,:driving,:ourselves,:or,:in,:the,:back,:of  …  :pointing,:like,:arrows,:to,:the,:heights,:we,:might,:attain,:.],[:when,:she,:could,:no,:longer,:see,:them,symbol(\",\"),:she,:sat,:staring,:at,:the,:desert,:.],[:he,:would,:protect,:her,:.],[symbol(\"``\"),:yeah,:?]  …  [symbol(\"``\"),:go,:on,:!,symbol(\"''\")],[:my,:eyes,:were,:still,:closed,:when,:an,:eerie,:scratching,:sounded,:against,:the,:side,:door,:.],[:her,:long,symbol(\",\"),:slender,:finger,:aimed,:to,:a,:single,:military  …  :rolling,:down,:the,:street,symbol(\",\"),:past,:the,:police,:barricades,:.],[:they,symbol(\"'d\"),:be,:easy,:to,:kill,:.],[:and,:then,symbol(\",\"),:in,:a,:move,:so,:fast,:my,:human  …  :have,:seen,:it,symbol(\",\"),:he,:bolted,:for,:the,:door,:.],[:the,:house,:was,:completely,:empty,:except,:for,:her,symbol(\";\"),:she,symbol(\"'d\"),:been,:left,:in,:a,:room,symbol(\",\"),:alone,:.,symbol(\"''\")],[symbol(\"``\"),:so,:true,:.,symbol(\"''\")],[:there,symbol(\"'s\"),:a,:private,:room,:where,:we,:can,:talk,:.,symbol(\"''\")],[:he,:took,:tessa,:by,:the,:elbow,:and,:turned,:her,:so,:that,:she,:was,:facing,:across,:the,:street,:.],[:no,:.]],[[:the,:man,:in,:the,:violet,:beret,:shrieked,:.],[symbol(\"``\"),:i,:could,:take,:the,:color,:of,:your,:hair,symbol(\",\")  …  :your,:memories,:before,:you,:were,:three,:years,:of,:age,:.],[symbol(\"``\"),:well,:...,symbol(\"''\"),:said,:tristran,symbol(\",\"),:but,:before,:he  …  :the,:tree,:had,:already,:said,symbol(\",\"),symbol(\"``\"),:a,:nymph,:.],[symbol(\"``\"),:i,symbol(\"'ve\"),:called,:your,:parents,symbol(\",\"),symbol(\"''\"),:she,:said,symbol(\",\"),:and,:i,:turned,:to,:her,symbol(\",\"),:alarmed,:.],[:he,symbol(\"'d\"),:have,:to,:scrub,:himself,:with,:a,:brillo,:pad,:from,:head,:to,:toe,:.],[:i,:do,symbol(\"n't\"),symbol(\",\"),:she,:said,:.],[:people,:were,:scattered,:throughout,:the,:immaculate,:lawn,:.],[symbol(\"``\"),:convince,:the,:witches,:to,:call,:a,:meeting,:to,:order  …  :said,symbol(\",\"),symbol(\"``\"),:and,:i,symbol(\"'ll\"),:tell,:you,:.,symbol(\"''\")],[:maybe,:some,:part,:of,:him,:did,:.],[:up,:.,symbol(\"''\")]  …  [:i,:plant,:a,:heated,:kiss,:over,:her,:lips,:that,:helps,:melt,:me,:back,:into,:my,:own,:skin,:.],[:he,:winces,:over,:at,:me,:.],[:a,:sigh,:escapes,:my,:lips,:.],[symbol(\"``\"),:i,symbol(\"'m\"),:a,:little,:cranky,symbol(\",\"),:what,:with,:no,:sleep,:and,:all,:.,symbol(\"''\")],[:her,:dress,:is,:severely,:twisted,:and,:his,:shirt,:is,:unbuttoned,:halfway,:.],[:demetri,:steps,:onto,:the,:stone,symbol(\",\"),:prods,:logan,:in,:the,:back,:with,:the,:tip,:of,:his,:blade,:.],[:i,:give,:a,:little,:laugh,:.],[symbol(\"``\"),:i,symbol(\"'ll\"),:keep,:it,:safe,:for,:you,:.,symbol(\"''\")],[:it,:was,symbol(\"n't\"),:mine,:.,symbol(\"''\")],[symbol(\"``\"),:we,:were,:in,:her,:room,:.]],[[symbol(\"``\"),:what,:?,symbol(\"''\")],[:she,:pulls,:a,:loose,:strand,:of,:hair,:and,:tucks,:it,:behind,:my,:ear,:.],[:there,:is,:some,:arcane,:quality,:about,:his,:sketches,symbol(\";\"),:some  …  :you,:see,:past,:the,:face,:itself,:and,:into,:it,:.],[symbol(\"``\"),:excuse,:me,:?,symbol(\"''\")],[:finally,:i,:ca,symbol(\"n't\"),:take,:the,:silence,:any,:longer,:.],[symbol(\"``\"),:for,:her,:sake,symbol(\",\"),:i,:hope,:so,:.],[:we,:all,:will,:.,symbol(\"''\")],[:that,:skirt,:...,:that,:can,:not,:possibly,:pass,:the,:dress,:code,:.],[:but,:so,:...,:bare,:.],[:the,:muscles,:in,:his,:biceps,:twitched,:.]  …  [:we,symbol(\"'ve\"),:been,:in,:our,:current,:stronghold,:a,:long,:time  …  :quite,:frankly,symbol(\",\"),:i,symbol(\"'ve\"),:been,:considering,:a,:move,:.],[symbol(\"``\"),:i,symbol(\"'m\"),:here,:and,:you,symbol(\"'ll\"),:deal,:with,:me,symbol(\",\"),:bronwyn,:.,symbol(\"''\")],[:not,:with,:the,:police,:crawling,:all,:over,:the,:place,:that,:first,:day,:.],[:i,:sat,:up,:right,:away,:.],[:his,:lips,:brushed,:my,:ear,:.],[:i,:was,:just,:so,:lonely,:.],[:then,:i,:stood,:up,:and,:started,:removing,:my,:clothes,symbol(\",\")  …  :her,:slide,:off,:her,:bra,:and,:then,:her,:underwear,:.],[:i,:could,:see,:her,:face,:more,:clearly,:with,:the,:billiards,:lights,:shining,:through,:.],[:after,:the,:lacey,:drama,:this,:morning,symbol(\",\"),:the,:hot,:water,:felt,:good,:falling,:down,:on,:my,:body,:.],[:we,:need,:to,:make,:up,:for,:lost,:time,symbol(\",\"),:baby,:.,symbol(\"''\")]],[[:something,:was,:off,:about,:the,:whole,:ordeal,:.],[:he,:used,:to,:be,:so,:close,:to,:him,symbol(\",\"),:and,:now,:it,:seems,:like,:they,:barely,:speak,:.,symbol(\"''\")],[symbol(\"``\"),:shayne,:?,symbol(\"''\")],[symbol(\"``\"),:where,:are,:we,:supposed,:to,:go,symbol(\",\"),:parker,:?],[:bookshelves,:lined,:either,:side,:of,:the,:main,:aisle,:before,:it,:opened,:up,:into,:an,:area,:filled,:with,:long,:tables,:.],[:i,:grimaced,:.],[:i,:did,symbol(\"n't\"),:even,:remember,:someone,:coming,:into,:the,:cell  …  :to,:knock,:me,:out,symbol(\",\"),:but,:they,:must,:have,:.],[symbol(\"``\"),:you,symbol(\"'re\"),:absolutely,:sure,:there,:is,symbol(\"n't\"),:another,:way,:.,symbol(\"''\")],[:despite,:his,:fear,symbol(\",\"),:he,:desperately,:wanted,:a,:drink,:.],[:no,:air,:.]  …  [symbol(\"``\"),:i,:caught,:on,:to,:that,symbol(\",\"),:yes,:.,symbol(\"''\")],[:four,:whole,:days,:went,:by,:and,:i,:did,symbol(\"n't\"),:hear,:a,:single,:word,:from,:her,:.],[:the,:kitchen,:was,:completely,:different,:.],[:the,:knocking,:grew,:even,:louder,:and,:then,symbol(\",\"),:stopped,:.],[:she,symbol(\"'s\"),:going,:to,:be,:over,:the,:effing,:moon,:.,symbol(\"''\")],[:five,:minutes,:ago,:i,:thought,:you,:were,:going,:to,:have,:a,:breakdown,:.,symbol(\"''\")],[:i,symbol(\"'ve\"),:been,:wanting,:to,:do,:that,:all,:my,:life,:!,symbol(\"''\")],[:you,:might,:almost,:call,:it,:miraculous,symbol(\",\"),:might,symbol(\"n't\"),:you,:?,:'],[:they,:all,:wear,:those,:ugly,:black,:robes,symbol(\",\"),:you,:know,:.],[:sparhawk,:asked,:him,:.]],[[:the,:kings,:nodded,:gravely,symbol(\",\"),:and,:everyone,:rose,:to,:his,:feet,:.],[:if,:the,:answers,:hurt,symbol(\",\"),:then,:they,symbol(\"'d\"),:just,:have,:to,:hurt,:.],[:i,:swallowed,:heavily,symbol(\",\"),:straightened,:my,:shoulders,:and,:followed,:aiden,:as,:he,:shuffled,:forward,:.],[:no,:matter,:how,:much,:she,:wanted,:to,:deny,:that,:fact,symbol(\",\"),:she,:could,symbol(\"n't\"),:.],[:chris,:shuddered,:.],[:he,:shrugged,symbol(\",\"),:setting,:the,:remote,:down,:as,:he,:found,:the,:red,:sox,:game,:.],[:you,:made,:your,:bed,:.,symbol(\"''\")],[:lucan,symbol(\"'s\"),:grip,:on,:my,:arm,:tightened,:as,:we,:kept,:our,:eyes,:trained,:on,:the,:newly,:formed,:pond,:.],[:we,:silently,:sat,:watching,:as,:the,:scene,:in,:front,:of,:us,:unfolded,:.],[:has,:anyone,:ever,:told,:you,:that,:?,symbol(\"''\")]  …  [:a,:kiss,:?,symbol(\"''\")],[:her,:brain,:and,:her,:body,:felt,:numb,:.],[:the,:whole,:intersection,:was,:empty,:.],[:what,:he,symbol(\"'d\"),:forgotten,:-,:oh,:no,:.],[:every,:part,:of,:the,:land,:watched,:as,:it,:happened,symbol(\",\")  …  symbol(\",\"),:as,:the,:clearing,:ran,:and,:screamed,:and,:died,:.],[symbol(\"``\"),:he,:will,:not,:to,:get,:far,:.,symbol(\"''\")],[symbol(\"``\"),:i,symbol(\"'ll\"),:keep,:him,:busy,:down,:here,:.,symbol(\"''\")],[:miss,:bitch,symbol(\"'s\"),:eyes,:widened,:.],[symbol(\"``\"),:i,:would,:think,:so,:.,symbol(\"''\")],[:i,:was,:stoked,:as,:hell,:to,:see,:him,:sitting,:there,:in,:a,:runaway,:train,symbol(\"t-shirt\"),:.]]],Any[],Blocks.as_it_is,Blocks.as_it_is)"
      ]
     },
     "execution_count": 9,
     "metadata": {},
     "output_type": "execute_result"
    }
   ],
   "source": [
    "test_set_blocks = Block(test_set, 1, 100)"
   ]
  },
  {
   "cell_type": "code",
   "execution_count": 10,
   "metadata": {
    "collapsed": false
   },
   "outputs": [
    {
     "data": {
      "text/plain": [
       "jldopen_append (generic function with 1 method)"
      ]
     },
     "execution_count": 10,
     "metadata": {},
     "output_type": "execute_result"
    }
   ],
   "source": [
    "function jldopen_append(func::Function, filename::AbstractString)\n",
    "    mode = isfile(filename) ? \"r+\" : \"w\" #Only open with \"w\" if it does't already exist\n",
    "    jldopen(func, filename, mode)\n",
    "end"
   ]
  },
  {
   "cell_type": "code",
   "execution_count": null,
   "metadata": {
    "collapsed": true
   },
   "outputs": [],
   "source": []
  },
  {
   "cell_type": "code",
   "execution_count": null,
   "metadata": {
    "collapsed": false
   },
   "outputs": [],
   "source": [
    "const res_type = Tuple{Array{ASCIIString,1},Array{ASCIIString,1},Float32}\n",
    "function run(save_path=\"selection.jld\")\n",
    "    try\n",
    "        Lumberjack.info(\"Began selection\")\n",
    "        ii = 0 \n",
    "        map(test_set_blocks) do block\n",
    "            net_score = 0.0f0\n",
    "\n",
    "            block_res::Vector{res_type} = pmap(block,err_stop=true) do target_sent\n",
    "                target_sent=map(string, target_sent)\n",
    "                sol, score = greedy_search(data, target_sent, rounds=10_000, log=false)\n",
    "                net_score+=score\n",
    "                (target_sent, sol, score)\n",
    "            end\n",
    "            ii+=1\n",
    "            avg_score = net_score/length(block)\n",
    "            Lumberjack.info(\"$ii done: $avg_score\")\n",
    "            jldopen_append(save_path) do fh\n",
    "                write(fh,string(ii), block_res)\n",
    "            end\n",
    "            Lumberjack.debug(\"$ii written to disc\")\n",
    "        end\n",
    "    catch err\n",
    "        Lumberjack.error(\"Unhandled Error\", base_exception=err)\n",
    "    end\n",
    "    Lumberjack.info(\"complete selection\")\n",
    "end\n"
   ]
  },
  {
   "cell_type": "code",
   "execution_count": null,
   "metadata": {
    "collapsed": false,
    "scrolled": true
   },
   "outputs": [],
   "source": [
    "run(\"results/bags/books_corpus_0.001_of_test_glove300.jld\")"
   ]
  },
  {
   "cell_type": "code",
   "execution_count": null,
   "metadata": {
    "collapsed": true
   },
   "outputs": [],
   "source": []
  },
  {
   "cell_type": "code",
   "execution_count": 14,
   "metadata": {
    "collapsed": false
   },
   "outputs": [
    {
     "data": {
      "text/plain": [
       "oracle (generic function with 2 methods)"
      ]
     },
     "execution_count": 14,
     "metadata": {},
     "output_type": "execute_result"
    }
   ],
   "source": [
    "#Make Oracle BOW\n",
    "const res_type = Tuple{Array{ASCIIString,1},Array{ASCIIString,1},Float32}\n",
    "function oracle(save_path=\"selection.jld\")\n",
    "    try\n",
    "        Lumberjack.info(\"Began oracle_selection\")\n",
    "        ii = 0 \n",
    "        map(test_set_blocks) do block\n",
    "            net_score = 0.0f0\n",
    "\n",
    "            block_res::Vector{res_type} = map(block) do target_sent\n",
    "                target_sent=map(string, target_sent)\n",
    "                sol = target_sent\n",
    "                score=1.0\n",
    "                (target_sent, sol, score)\n",
    "            end\n",
    "            ii+=1\n",
    "            Lumberjack.info(\"$ii done\")\n",
    "            jldopen_append(save_path) do fh\n",
    "                write(fh,string(ii), block_res)\n",
    "            end\n",
    "            Lumberjack.debug(\"$ii written to disc\")\n",
    "        end\n",
    "    catch err\n",
    "        Lumberjack.error(\"Unhandled Error\", base_exception=err)\n",
    "    end\n",
    "    Lumberjack.info(\"complete selection\")\n",
    "end\n"
   ]
  },
  {
   "cell_type": "code",
   "execution_count": 15,
   "metadata": {
    "collapsed": false
   },
   "outputs": [
    {
     "name": "stdout",
     "output_type": "stream",
     "text": [
      "2016-02-03T16:48:48 - info: Began oracle_selection\n",
      "2016-02-03T16:48:48 - info: 1 done\n",
      "2016-02-03T16:48:54 - debug: 1 written to disc\n",
      "2016-02-03T16:48:54 - info: 2 done\n",
      "2016-02-03T16:48:54 - debug: 2 written to disc\n",
      "2016-02-03T16:48:54 - info: 3 done\n",
      "2016-02-03T16:48:54 - debug: 3 written to disc\n",
      "2016-02-03T16:48:54 - info: 4 done\n",
      "2016-02-03T16:48:54 - debug: 4 written to disc\n",
      "2016-02-03T16:48:54 - info: 5 done\n",
      "2016-02-03T16:48:54 - debug: 5 written to disc\n",
      "2016-02-03T16:48:54 - info: 6 done\n",
      "2016-02-03T16:48:54 - debug: 6 written to disc\n",
      "2016-02-03T16:48:54 - info: 7 done\n",
      "2016-02-03T16:48:54 - debug: 7 written to disc\n",
      "2016-02-03T16:48:54 - info: 8 done\n",
      "2016-02-03T16:48:54 - debug: 8 written to disc\n",
      "2016-02-03T16:48:54 - info: 9 done\n",
      "2016-02-03T16:48:55 - debug: 9 written to disc\n",
      "2016-02-03T16:48:55 - info: 10 done\n",
      "2016-02-03T16:48:55 - debug: 10 written to disc\n",
      "2016-02-03T16:48:55 - info: 11 done\n",
      "2016-02-03T16:48:55 - debug: 11 written to disc\n",
      "2016-02-03T16:48:55 - info: 12 done\n",
      "2016-02-03T16:48:55 - debug: 12 written to disc\n",
      "2016-02-03T16:48:55 - info: 13 done\n",
      "2016-02-03T16:48:55 - debug: 13 written to disc\n",
      "2016-02-03T16:48:55 - info: 14 done\n",
      "2016-02-03T16:48:55 - debug: 14 written to disc\n",
      "2016-02-03T16:48:55 - info: 15 done\n",
      "2016-02-03T16:48:55 - debug: 15 written to disc\n",
      "2016-02-03T16:48:55 - info: 16 done\n",
      "2016-02-03T16:48:55 - debug: 16 written to disc\n",
      "2016-02-03T16:48:55 - info: 17 done\n",
      "2016-02-03T16:48:55 - debug: 17 written to disc\n",
      "2016-02-03T16:48:55 - info: 18 done\n",
      "2016-02-03T16:48:55 - debug: 18 written to disc\n",
      "2016-02-03T16:48:55 - info: 19 done\n",
      "2016-02-03T16:48:55 - debug: 19 written to disc\n",
      "2016-02-03T16:48:55 - info: 20 done\n",
      "2016-02-03T16:48:56 - debug: 20 written to disc\n",
      "2016-02-03T16:48:56 - info: 21 done\n",
      "2016-02-03T16:48:57 - debug: 21 written to disc\n",
      "2016-02-03T16:48:57 - info: 22 done\n",
      "2016-02-03T16:48:58 - debug: 22 written to disc\n",
      "2016-02-03T16:48:58 - info: 23 done\n",
      "2016-02-03T16:48:58 - debug: 23 written to disc\n",
      "2016-02-03T16:48:58 - info: 24 done\n",
      "2016-02-03T16:48:58 - debug: 24 written to disc\n",
      "2016-02-03T16:48:58 - info: 25 done\n",
      "2016-02-03T16:48:58 - debug: 25 written to disc\n",
      "2016-02-03T16:48:58 - info: 26 done\n",
      "2016-02-03T16:48:59 - debug: 26 written to disc\n",
      "2016-02-03T16:48:59 - info: 27 done\n",
      "2016-02-03T16:48:59 - debug: 27 written to disc\n",
      "2016-02-03T16:48:59 - info: 28 done\n",
      "2016-02-03T16:48:59 - debug: 28 written to disc\n",
      "2016-02-03T16:48:59 - info: 29 done\n",
      "2016-02-03T16:48:59 - debug: 29 written to disc\n",
      "2016-02-03T16:48:59 - info: 30 done\n",
      "2016-02-03T16:49:00 - debug: 30 written to disc\n",
      "2016-02-03T16:49:00 - info: 31 done\n",
      "2016-02-03T16:49:00 - debug: 31 written to disc\n",
      "2016-02-03T16:49:00 - info: 32 done\n",
      "2016-02-03T16:49:00 - debug: 32 written to disc\n",
      "2016-02-03T16:49:00 - info: 33 done\n",
      "2016-02-03T16:49:01 - debug: 33 written to disc\n",
      "2016-02-03T16:49:01 - info: 34 done\n",
      "2016-02-03T16:49:01 - debug: 34 written to disc\n",
      "2016-02-03T16:49:01 - info: 35 done\n",
      "2016-02-03T16:49:01 - debug: 35 written to disc\n",
      "2016-02-03T16:49:01 - info: 36 done\n",
      "2016-02-03T16:49:01 - debug: 36 written to disc\n",
      "2016-02-03T16:49:01 - info: 37 done\n",
      "2016-02-03T16:49:02 - debug: 37 written to disc\n",
      "2016-02-03T16:49:02 - info: 38 done\n",
      "2016-02-03T16:49:02 - debug: 38 written to disc\n",
      "2016-02-03T16:49:02 - info: 39 done\n",
      "2016-02-03T16:49:03 - debug: 39 written to disc\n",
      "2016-02-03T16:49:03 - info: 40 done\n",
      "2016-02-03T16:49:03 - debug: 40 written to disc\n",
      "2016-02-03T16:49:03 - info: 41 done\n",
      "2016-02-03T16:49:04 - debug: 41 written to disc\n",
      "2016-02-03T16:49:04 - info: 42 done\n",
      "2016-02-03T16:49:04 - debug: 42 written to disc\n",
      "2016-02-03T16:49:04 - info: 43 done\n",
      "2016-02-03T16:49:05 - debug: 43 written to disc\n",
      "2016-02-03T16:49:05 - info: 44 done\n",
      "2016-02-03T16:49:05 - debug: 44 written to disc\n",
      "2016-02-03T16:49:05 - info: 45 done\n",
      "2016-02-03T16:49:05 - debug: 45 written to disc\n",
      "2016-02-03T16:49:05 - info: 46 done\n",
      "2016-02-03T16:49:06 - debug: 46 written to disc\n",
      "2016-02-03T16:49:06 - info: 47 done\n",
      "2016-02-03T16:49:06 - debug: 47 written to disc\n",
      "2016-02-03T16:49:06 - info: 48 done\n",
      "2016-02-03T16:49:07 - debug: 48 written to disc\n",
      "2016-02-03T16:49:07 - info: 49 done\n",
      "2016-02-03T16:49:07 - debug: 49 written to disc\n",
      "2016-02-03T16:49:07 - info: 50 done\n",
      "2016-02-03T16:49:08 - debug: 50 written to disc\n",
      "2016-02-03T16:49:08 - info: 51 done\n",
      "2016-02-03T16:49:09 - debug: 51 written to disc\n",
      "2016-02-03T16:49:09 - info: 52 done\n",
      "2016-02-03T16:49:10 - debug: 52 written to disc\n",
      "2016-02-03T16:49:10 - info: 53 done\n",
      "2016-02-03T16:49:10 - debug: 53 written to disc\n",
      "2016-02-03T16:49:10 - info: 54 done\n",
      "2016-02-03T16:49:11 - debug: 54 written to disc\n",
      "2016-02-03T16:49:11 - info: 55 done\n",
      "2016-02-03T16:49:12 - debug: 55 written to disc\n",
      "2016-02-03T16:49:12 - info: 56 done\n",
      "2016-02-03T16:49:13 - debug: 56 written to disc\n",
      "2016-02-03T16:49:13 - info: 57 done\n",
      "2016-02-03T16:49:14 - debug: 57 written to disc\n",
      "2016-02-03T16:49:14 - info: 58 done\n",
      "2016-02-03T16:49:15 - debug: 58 written to disc\n",
      "2016-02-03T16:49:15 - info: 59 done\n",
      "2016-02-03T16:49:15 - debug: 59 written to disc\n",
      "2016-02-03T16:49:15 - info: 60 done\n",
      "2016-02-03T16:49:16 - debug: 60 written to disc\n",
      "2016-02-03T16:49:16 - info: 61 done\n",
      "2016-02-03T16:49:17 - debug: 61 written to disc\n",
      "2016-02-03T16:49:17 - info: 62 done\n",
      "2016-02-03T16:49:18 - debug: 62 written to disc\n",
      "2016-02-03T16:49:18 - info: 63 done\n",
      "2016-02-03T16:49:19 - debug: 63 written to disc\n",
      "2016-02-03T16:49:19 - info: 64 done\n",
      "2016-02-03T16:49:20 - debug: 64 written to disc\n",
      "2016-02-03T16:49:20 - info: 65 done\n",
      "2016-02-03T16:49:21 - debug: 65 written to disc\n",
      "2016-02-03T16:49:21 - info: 66 done\n",
      "2016-02-03T16:49:21 - debug: 66 written to disc\n",
      "2016-02-03T16:49:21 - info: 67 done\n",
      "2016-02-03T16:49:22 - debug: 67 written to disc\n",
      "2016-02-03T16:49:22 - info: 68 done\n",
      "2016-02-03T16:49:23 - debug: 68 written to disc\n",
      "2016-02-03T16:49:23 - info: 69 done\n",
      "2016-02-03T16:49:24 - debug: 69 written to disc\n",
      "2016-02-03T16:49:24 - info: 70 done\n",
      "2016-02-03T16:49:25 - debug: 70 written to disc\n",
      "2016-02-03T16:49:25 - info: 71 done\n",
      "2016-02-03T16:49:26 - debug: 71 written to disc\n",
      "2016-02-03T16:49:26 - info: 72 done\n",
      "2016-02-03T16:49:27 - debug: 72 written to disc\n",
      "2016-02-03T16:49:27 - info: 73 done\n",
      "2016-02-03T16:49:28 - debug: 73 written to disc\n",
      "2016-02-03T16:49:28 - info: 74 done\n",
      "2016-02-03T16:49:29 - debug: 74 written to disc\n",
      "2016-02-03T16:49:29 - info: 75 done\n",
      "2016-02-03T16:49:30 - debug: 75 written to disc\n",
      "2016-02-03T16:49:30 - info: 76 done\n",
      "2016-02-03T16:49:31 - debug: 76 written to disc\n",
      "2016-02-03T16:49:31 - info: 77 done\n",
      "2016-02-03T16:49:32 - debug: 77 written to disc\n",
      "2016-02-03T16:49:32 - info: 78 done\n",
      "2016-02-03T16:49:33 - debug: 78 written to disc\n",
      "2016-02-03T16:49:33 - info: 79 done\n",
      "2016-02-03T16:49:34 - debug: 79 written to disc\n",
      "2016-02-03T16:49:34 - info: 80 done\n",
      "2016-02-03T16:49:36 - debug: 80 written to disc\n",
      "2016-02-03T16:49:36 - info: 81 done\n",
      "2016-02-03T16:49:37 - debug: 81 written to disc\n",
      "2016-02-03T16:49:37 - info: 82 done\n",
      "2016-02-03T16:49:38 - debug: 82 written to disc\n",
      "2016-02-03T16:49:38 - info: 83 done\n",
      "2016-02-03T16:49:40 - debug: 83 written to disc\n",
      "2016-02-03T16:49:40 - info: 84 done\n",
      "2016-02-03T16:49:41 - debug: 84 written to disc\n",
      "2016-02-03T16:49:41 - info: 85 done\n",
      "2016-02-03T16:49:42 - debug: 85 written to disc\n",
      "2016-02-03T16:49:42 - info: 86 done\n",
      "2016-02-03T16:49:44 - debug: 86 written to disc\n",
      "2016-02-03T16:49:44 - info: 87 done\n",
      "2016-02-03T16:49:46 - debug: 87 written to disc\n",
      "2016-02-03T16:49:46 - info: 88 done\n",
      "2016-02-03T16:49:47 - debug: 88 written to disc\n",
      "2016-02-03T16:49:47 - info: 89 done\n",
      "2016-02-03T16:49:49 - debug: 89 written to disc\n",
      "2016-02-03T16:49:49 - info: 90 done\n",
      "2016-02-03T16:49:50 - debug: 90 written to disc\n",
      "2016-02-03T16:49:50 - info: 91 done\n",
      "2016-02-03T16:49:52 - debug: 91 written to disc\n",
      "2016-02-03T16:49:52 - info: 92 done\n",
      "2016-02-03T16:49:54 - debug: 92 written to disc\n",
      "2016-02-03T16:49:54 - info: 93 done\n",
      "2016-02-03T16:49:56 - debug: 93 written to disc\n",
      "2016-02-03T16:49:56 - info: 94 done\n",
      "2016-02-03T16:49:57 - debug: 94 written to disc\n",
      "2016-02-03T16:49:57 - info: 95 done\n",
      "2016-02-03T16:49:59 - debug: 95 written to disc\n",
      "2016-02-03T16:49:59 - info: 96 done\n",
      "2016-02-03T16:50:01 - debug: 96 written to disc\n",
      "2016-02-03T16:50:01 - info: 97 done\n",
      "2016-02-03T16:50:03 - debug: 97 written to disc\n",
      "2016-02-03T16:50:03 - info: 98 done\n",
      "2016-02-03T16:50:05 - debug: 98 written to disc\n",
      "2016-02-03T16:50:05 - info: 99 done\n",
      "2016-02-03T16:50:07 - debug: 99 written to disc\n",
      "2016-02-03T16:50:07 - info: 100 done\n",
      "2016-02-03T16:50:09 - debug: 100 written to disc\n",
      "2016-02-03T16:50:09 - info: complete selection\n"
     ]
    }
   ],
   "source": [
    "oracle(\"results/bags/books_corpus_0.001_of_test_oracle.jld\")"
   ]
  },
  {
   "cell_type": "code",
   "execution_count": null,
   "metadata": {
    "collapsed": true
   },
   "outputs": [],
   "source": []
  },
  {
   "cell_type": "code",
   "execution_count": null,
   "metadata": {
    "collapsed": false
   },
   "outputs": [],
   "source": [
    "test_sentence = ASCIIString[\"a\",\"few\",\"folks\",\"around\",\"here\",\"dont\",\"like\",\"you\",\",\",\"you\",\"know\",\",\",\"jake\",\",\",\"said\",\"the\",\"pastor\",\".\"]\n",
    "@time greedy_search(data, map(string,test_sentence), rounds=10_000, log=true)"
   ]
  },
  {
   "cell_type": "code",
   "execution_count": null,
   "metadata": {
    "collapsed": true
   },
   "outputs": [],
   "source": [
    "gc()"
   ]
  },
  {
   "cell_type": "code",
   "execution_count": null,
   "metadata": {
    "collapsed": false
   },
   "outputs": [],
   "source": [
    "data[\"LL\"][:,data[\"word_indexes\"][\"_____________\"]] |> norm"
   ]
  },
  {
   "cell_type": "code",
   "execution_count": null,
   "metadata": {
    "collapsed": false
   },
   "outputs": [],
   "source": [
    "@save \"results/data/books/books300d_sym.jld\" data_sym"
   ]
  },
  {
   "cell_type": "code",
   "execution_count": null,
   "metadata": {
    "collapsed": false,
    "scrolled": true
   },
   "outputs": [],
   "source": [
    "?@save"
   ]
  },
  {
   "cell_type": "code",
   "execution_count": null,
   "metadata": {
    "collapsed": false,
    "scrolled": false
   },
   "outputs": [],
   "source": []
  },
  {
   "cell_type": "code",
   "execution_count": null,
   "metadata": {
    "collapsed": false
   },
   "outputs": [],
   "source": [
    "[a=>2*b for (a,b) in [(1,2),(4,5)]]"
   ]
  },
  {
   "cell_type": "code",
   "execution_count": null,
   "metadata": {
    "collapsed": true
   },
   "outputs": [],
   "source": []
  },
  {
   "cell_type": "code",
   "execution_count": null,
   "metadata": {
    "collapsed": false,
    "scrolled": true
   },
   "outputs": [],
   "source": [
    "res = pmap(test_set[1:20], err_stop=true) do target_sent\n",
    "#res = map(test_set) do target_sent\n",
    "    target_sent=map(string, target_sent)\n",
    "    sol, score = greedy_search(data, target_sent, rounds=10_000, log=false)\n",
    "    (target_sent, sol, score)\n",
    "end"
   ]
  },
  {
   "cell_type": "code",
   "execution_count": null,
   "metadata": {
    "collapsed": false
   },
   "outputs": [],
   "source": [
    "using JLD\n",
    "@save \"results/bags/books300d.jld\" res"
   ]
  },
  {
   "cell_type": "code",
   "execution_count": null,
   "metadata": {
    "collapsed": false
   },
   "outputs": [],
   "source": [
    "res[1] |> typeof |> typeof"
   ]
  },
  {
   "cell_type": "code",
   "execution_count": null,
   "metadata": {
    "collapsed": true
   },
   "outputs": [],
   "source": []
  },
  {
   "cell_type": "code",
   "execution_count": null,
   "metadata": {
    "collapsed": false
   },
   "outputs": [],
   "source": [
    "target_sent = test_set[67]\n",
    "target_sowe = lookup_sowe(data,target_sent)\n",
    "println(target_sent)\n",
    "println(\"-------------\")\n",
    "best_words, best_score  = greedy_search(data, target_sent, log=true)"
   ]
  },
  {
   "cell_type": "code",
   "execution_count": null,
   "metadata": {
    "collapsed": true
   },
   "outputs": [],
   "source": [
    "#########\n",
    "# Experimental\n",
    "#####"
   ]
  },
  {
   "cell_type": "code",
   "execution_count": null,
   "metadata": {
    "collapsed": false
   },
   "outputs": [],
   "source": [
    "methodswith(pset)"
   ]
  },
  {
   "cell_type": "code",
   "execution_count": null,
   "metadata": {
    "collapsed": false
   },
   "outputs": [],
   "source": [
    "a=push(pset(),3)\n",
    "union(a, 5,4) |> length\n"
   ]
  },
  {
   "cell_type": "code",
   "execution_count": null,
   "metadata": {
    "collapsed": false
   },
   "outputs": [],
   "source": [
    "function word_delete_refinement(LL::Matrix{Float64},\n",
    "                              target::Vector{Float64},\n",
    "                              best_word_set::Vector{Int},\n",
    "                              max_remove = 2\n",
    "        )\n",
    "    \n",
    "    initial_word_set = pset(best_word_set)\n",
    "    initial_end_point = get_end(LL, best_word_set)\n",
    "    best_score = fitness(target, initial_end_point)\n",
    "    \n",
    "    function inner(removed, endpoint)\n",
    "        #println(removed)\n",
    "        if length(removed)>max_remove\n",
    "            return\n",
    "        end\n",
    "        remaining =  setdiff(initial_word_set, removed)\n",
    "        \n",
    "        for del_word in remaining\n",
    "            new_endpoint = endpoint - sub(LL,(:,del_word))\n",
    "            del_score = fitness(target, new_endpoint)\n",
    "            \n",
    "            if del_score>best_score + ϵ\n",
    "                @inbounds best_word_set = remaining\n",
    "                best_score = del_score\n",
    "            end\n",
    "            \n",
    "            \n",
    "            inner(push(removed, del_word), endpoint)\n",
    "        end\n",
    "        \n",
    "    end\n",
    "    \n",
    "    inner(pset{Int}(),initial_end_point)\n",
    "\n",
    "    best_word_set,best_score\n",
    "        \n",
    "end"
   ]
  },
  {
   "cell_type": "code",
   "execution_count": null,
   "metadata": {
    "collapsed": false,
    "scrolled": true
   },
   "outputs": [],
   "source": [
    "before_words = [\"not\",\"after\",\"said\",\"election\",\"to\",\"the\",\",\",\"calls\",\"williams\",\"due\",\"bill\", \"anonymous\",\",\",\"subjected\",\"opens\",\"consisted\",\"snodgrass\",\".\",\"folks\",\"meanwhile\",\"truculent\",\"was\",\"soon\", \"he\"]\n",
    "before_word_iis = lookup_indexes(data, before_words)\n",
    "fitness(target_sowe, get_end(data[\"LL\"], before_word_iis))\n",
    "word_delete_refinement(data[\"LL\"], target_sowe, before_word_iis, 2)\n",
    "\n"
   ]
  },
  {
   "cell_type": "code",
   "execution_count": null,
   "metadata": {
    "collapsed": false
   },
   "outputs": [],
   "source": [
    "fitness(target_sowe, get_end(data[\"LL\"], before_word_iis))"
   ]
  },
  {
   "cell_type": "code",
   "execution_count": null,
   "metadata": {
    "collapsed": true
   },
   "outputs": [],
   "source": []
  },
  {
   "cell_type": "code",
   "execution_count": null,
   "metadata": {
    "collapsed": false
   },
   "outputs": [],
   "source": [
    "# Shorter Longer Refinement, for replaceing n words with m other words\n",
    "# Either the words in our current set are too short, so we can limit our search to words that are longer than the sum of our shortest\n",
    "# Or too long then we do the reverse\n",
    "\n",
    "#We are removing something, and planning to get closer to the path by adding something\n",
    "#things longer by adding a finite number more elements\n",
    "function make_longer_refinement2(LL::Matrix{Float64},\n",
    "                              target::Vector{Float64},\n",
    "                              best_word_set::Vector{Int},\n",
    "                              remove_indexes::Vector{Int},\n",
    "                              m_add::Int)\n",
    "    @assert(m_add>=0)\n",
    "    \n",
    "    rem_indexes = trues(best_word_set)\n",
    "    rem_indexes[remove_indexes] = false\n",
    "    \n",
    "    cur_word_set = best_word_set[rem_indexes]\n",
    "    cur_end_point = get_end(LL, cur_word_set)\n",
    "\n",
    "    cur_lengths = -score_possible_additions(LL[:,best_word_set], target, get_end(LL, Int[])) |> vec\n",
    "\n",
    "    length_removed = -fitness(target, get_end(LL,best_word_set)) -fitness(target, cur_end_point)\n",
    "        \n",
    "    @printval length_removed\n",
    "    LL_scores = -score_possible_additions(m_add*LL, target, get_end(LL, Int[]))\n",
    "    \n",
    "    valid_replacers = find((m_add-1)*maximum(LL_scores) + LL_scores.>=length_removed)   \n",
    "    valid_replacers\n",
    "end\n",
    "\n"
   ]
  },
  {
   "cell_type": "code",
   "execution_count": null,
   "metadata": {
    "collapsed": false
   },
   "outputs": [],
   "source": [
    "make_longer_refinement2(data[\"LL\"], target_sowe, best_wordset, [1:39;], 2)"
   ]
  },
  {
   "cell_type": "code",
   "execution_count": null,
   "metadata": {
    "collapsed": false
   },
   "outputs": [],
   "source": [
    "data[\"indexed_words\"][40482]"
   ]
  },
  {
   "cell_type": "code",
   "execution_count": null,
   "metadata": {
    "collapsed": false
   },
   "outputs": [],
   "source": [
    "342/3"
   ]
  },
  {
   "cell_type": "code",
   "execution_count": null,
   "metadata": {
    "collapsed": false
   },
   "outputs": [],
   "source": [
    "LLscores = -score_possible_additions(3*data[\"LL\"], target_sowe, get_end(data[\"LL\"], Int[]))\n",
    "find(LLscores.<120)"
   ]
  },
  {
   "cell_type": "code",
   "execution_count": null,
   "metadata": {
    "collapsed": true
   },
   "outputs": [],
   "source": []
  },
  {
   "cell_type": "code",
   "execution_count": null,
   "metadata": {
    "collapsed": false,
    "scrolled": true
   },
   "outputs": [],
   "source": [
    "@everywhere function greedy_addition_with_backtrack_prep(LL::Matrix{Float64},\n",
    "                         target::Vector{Float64},\n",
    "                         best_word_set::Vector{Int},\n",
    "                         keep_per_word = 50,\n",
    "                         max_additions = Inf, \n",
    "                         \n",
    "    )\n",
    "    \n",
    "    end_point = get_end(LL, best_word_set)\n",
    "    best_score = fitness(target, end_point)\n",
    "    good_ideas = Set{Int}()\n",
    "    sizehint!(good_ideas, 10*keep_per_word) #Most sentences in most corpora have at least 10 words\n",
    "    did_improve = true\n",
    "    cur_additions = 0\n",
    "    while(did_improve && cur_additions<max_additions)\n",
    "        \n",
    "        cur_additions+=1\n",
    "        did_improve=false\n",
    "        \n",
    "        addition_scores = score_possible_additions(LL, target, end_point)\n",
    "        \n",
    "        high_scores = select!(collect(enumerate(addition_scores)), 1:keep_per_word, by=ii_score->ii_score[2])\n",
    "        \n",
    "        union!(good_ideas, map(ii_score->ii_score[1],high_scores))\n",
    "        \n",
    "        addition,addition_score = high_scores[1]\n",
    "        if addition_score>best_score+ϵ\n",
    "            #println(\"!add: $addition $best_score\")\n",
    "            best_score=addition_score\n",
    "            best_word_set = [best_word_set...,addition]\n",
    "            end_point += LL[:,addition]\n",
    "            did_improve=true\n",
    "        end\n",
    "    end\n",
    "    best_word_set,best_score,good_ideas\n",
    "end"
   ]
  },
  {
   "cell_type": "code",
   "execution_count": null,
   "metadata": {
    "collapsed": false
   },
   "outputs": [],
   "source": [
    "best_word_set,best_score,good_ideas  = greedy_addition_with_backtrack_prep(data[\"LL\"], target_sowe, Int[], )"
   ]
  },
  {
   "cell_type": "code",
   "execution_count": null,
   "metadata": {
    "collapsed": true
   },
   "outputs": [],
   "source": [
    "max"
   ]
  },
  {
   "cell_type": "code",
   "execution_count": null,
   "metadata": {
    "collapsed": false,
    "scrolled": true
   },
   "outputs": [],
   "source": [
    "#@pipe good_ideas |> map(println,_)\n",
    "length(good_ideas)"
   ]
  },
  {
   "cell_type": "code",
   "execution_count": null,
   "metadata": {
    "collapsed": false
   },
   "outputs": [],
   "source": []
  },
  {
   "cell_type": "code",
   "execution_count": null,
   "metadata": {
    "collapsed": true
   },
   "outputs": [],
   "source": [
    "word_delete_refinement(data[\"LL\"], target_sowe, best_wordset)"
   ]
  },
  {
   "cell_type": "code",
   "execution_count": null,
   "metadata": {
    "collapsed": false
   },
   "outputs": [],
   "source": [
    "length(best_wordset)"
   ]
  },
  {
   "cell_type": "code",
   "execution_count": null,
   "metadata": {
    "collapsed": false
   },
   "outputs": [],
   "source": [
    "a"
   ]
  },
  {
   "cell_type": "code",
   "execution_count": null,
   "metadata": {
    "collapsed": false
   },
   "outputs": [],
   "source": [
    "function double_word_swap_refinement(LL::Matrix{Float64},\n",
    "                              LL2::Matrix{Float64}, LL2_index,\n",
    "                              target::Vector{Float64},\n",
    "                              best_word_set::Vector{Int})\n",
    "    \n",
    "    initial_word_set = copy(best_word_set)\n",
    "    initial_end_point = get_end(LL, initial_word_set)\n",
    "    best_score = fitness(LL, target, best_word_set)\n",
    "    \n",
    "    for ii in 1:length(initial_word_set)\n",
    "        for jj in ii+1:length(initial_word_set)\n",
    "            @inbounds end_point = initial_end_point - LL[:,initial_word_set[ii]] - LL[:,initial_word_set[jj]]\n",
    "            addition_score, addition_index = findmax(score_possible_additions(LL2, target, end_point))\n",
    "            if addition_score>best_score + ϵ\n",
    "                #println(\"+= $(LL2_index[addition_index,:])\")\n",
    "                @inbounds word_subset = initial_word_set[[1:ii-1; ii+1:jj-1; jj+1:end]]\n",
    "                @inbounds best_word_set = [word_subset..., LL2_index[addition_index,:]...]\n",
    "                best_score = addition_score\n",
    "            end\n",
    "        end\n",
    "    end\n",
    "\n",
    "    best_word_set,best_score\n",
    "        \n",
    "end\n",
    "\n",
    "function get_LL2(LL)\n",
    "    len_LL2 = (size(LL,2).^2  + size(LL,2))÷ 2\n",
    "    LL2_index = Matrix{Int}(len_LL2, 2)\n",
    "    @printval(len_LL2)\n",
    "    LL2 = Matrix{Float64}(size(LL,1), len_LL2)\n",
    "    kk=0\n",
    "    for ii in 1:size(LL,2)\n",
    "        for jj in 1:ii\n",
    "            kk+=1\n",
    "            LL2_index[kk,:] = [ii,jj]\n",
    "            LL2[:,kk] = LL[:,ii]+LL[:,jj]\n",
    "        end\n",
    "    end\n",
    "    LL2, LL2_index\n",
    "end\n"
   ]
  },
  {
   "cell_type": "code",
   "execution_count": null,
   "metadata": {
    "collapsed": false
   },
   "outputs": [],
   "source": [
    "LL2=get_LL2(data[\"LL\"])"
   ]
  },
  {
   "cell_type": "code",
   "execution_count": null,
   "metadata": {
    "collapsed": false,
    "scrolled": true
   },
   "outputs": [],
   "source": [
    "data[\"LL\"]"
   ]
  },
  {
   "cell_type": "code",
   "execution_count": null,
   "metadata": {
    "collapsed": false
   },
   "outputs": [],
   "source": [
    "819416403*50*2/ 1000_000_000"
   ]
  },
  {
   "cell_type": "code",
   "execution_count": null,
   "metadata": {
    "collapsed": false
   },
   "outputs": [],
   "source": [
    "target_sowe = lookup_sowe(data,target_sent)\n",
    "@time new_best_words, new_best_score =double_word_swap_refinement(LL, LL2, LL2_index, target_sowe, best_wordset)\n"
   ]
  },
  {
   "cell_type": "code",
   "execution_count": null,
   "metadata": {
    "collapsed": false
   },
   "outputs": [],
   "source": [
    "target_sent = test_set[12]\n",
    "println(target_sent)\n",
    "target_sowe = lookup_sowe(data,target_sent)"
   ]
  },
  {
   "cell_type": "code",
   "execution_count": null,
   "metadata": {
    "collapsed": false
   },
   "outputs": [],
   "source": [
    "for ii in 1:10\n",
    "    sample_sowe = (randn!(similar(target_sowe)) + target_sowe)\n",
    "    print(greedy_search(data, sample_sowe, 1,100, log=false)[1])\n",
    "    println(\",\")\n",
    "end"
   ]
  },
  {
   "cell_type": "code",
   "execution_count": null,
   "metadata": {
    "collapsed": false
   },
   "outputs": [],
   "source": []
  },
  {
   "cell_type": "code",
   "execution_count": null,
   "metadata": {
    "collapsed": true
   },
   "outputs": [],
   "source": []
  },
  {
   "cell_type": "code",
   "execution_count": null,
   "metadata": {
    "collapsed": false,
    "scrolled": true
   },
   "outputs": [],
   "source": [
    "res = pmap([1:length(test_set);], test_set) do ii,target_sent\n",
    "    sol, score = greedy_search(data, target_sent, 1, 100, log=false)\n",
    "    (sol, score, ii)\n",
    "end"
   ]
  },
  {
   "cell_type": "code",
   "execution_count": null,
   "metadata": {
    "collapsed": false
   },
   "outputs": [],
   "source": [
    "open(\"atis2_res_glove.jsz\",\"w\") do fh\n",
    "    serialize(fh, (Vector{ASCIIString}[sol for (sol, score, ii) in res], test_set)\n",
    "    )    \n",
    "end\n",
    "\n"
   ]
  },
  {
   "cell_type": "code",
   "execution_count": null,
   "metadata": {
    "collapsed": false
   },
   "outputs": [],
   "source": [
    "se = lookup_sowe(atis_data, [\"flights\",\"serve\",\"lunch\",\"which\"])\n",
    "se=se*0.6\n",
    "greedy_search(atis_data, se, 1, 5, log=false)"
   ]
  },
  {
   "cell_type": "code",
   "execution_count": null,
   "metadata": {
    "collapsed": false,
    "scrolled": true
   },
   "outputs": [],
   "source": [
    "hard_cases = find(x->x[2]<0, res)\n",
    "res[hard_cases]"
   ]
  },
  {
   "cell_type": "code",
   "execution_count": null,
   "metadata": {
    "collapsed": false
   },
   "outputs": [],
   "source": [
    "test_set[hard_cases]"
   ]
  },
  {
   "cell_type": "code",
   "execution_count": null,
   "metadata": {
    "collapsed": false,
    "scrolled": true
   },
   "outputs": [],
   "source": [
    "hard_set =  test_set[hard_cases]\n",
    "\n",
    "hard_res = pmap([1:length(hard_set);], hard_set) do ii,target_sent\n",
    "    sol, score = greedy_search(atis_data, target_sent, 2,5, log=false)\n",
    "    (sol, score, ii)\n",
    "end"
   ]
  },
  {
   "cell_type": "code",
   "execution_count": null,
   "metadata": {
    "collapsed": false
   },
   "outputs": [],
   "source": [
    "very_hard_cases = find(x->x[2]<0.0, hard_res)"
   ]
  },
  {
   "cell_type": "code",
   "execution_count": null,
   "metadata": {
    "collapsed": false
   },
   "outputs": [],
   "source": [
    "factorial(14)"
   ]
  },
  {
   "cell_type": "code",
   "execution_count": null,
   "metadata": {
    "collapsed": false
   },
   "outputs": [],
   "source": [
    "hard_res[very_hard_cases]"
   ]
  },
  {
   "cell_type": "code",
   "execution_count": null,
   "metadata": {
    "collapsed": false
   },
   "outputs": [],
   "source": [
    "\n",
    "\n",
    "for (ii,target_sent) in enumerate(test_set)\n",
    "    sol, score = greedy_search(atis_data, target_sent, log=false)\n",
    "    if score>0\n",
    "        print(\"$ii - \")\n",
    "        println(join(target_sent, \" \"))\n",
    "    end\n",
    "end\n",
    "    "
   ]
  },
  {
   "cell_type": "code",
   "execution_count": null,
   "metadata": {
    "collapsed": false
   },
   "outputs": [],
   "source": [
    "enumerate(test_set) |> collect"
   ]
  },
  {
   "cell_type": "code",
   "execution_count": null,
   "metadata": {
    "collapsed": true
   },
   "outputs": [],
   "source": []
  },
  {
   "cell_type": "code",
   "execution_count": null,
   "metadata": {
    "collapsed": true
   },
   "outputs": [],
   "source": []
  }
 ],
 "metadata": {
  "kernelspec": {
   "display_name": "Julia 0.5.0-dev",
   "language": "julia",
   "name": "julia-0.5"
  },
  "language_info": {
   "file_extension": ".jl",
   "mimetype": "application/julia",
   "name": "julia",
   "version": "0.5.0"
  }
 },
 "nbformat": 4,
 "nbformat_minor": 0
}
