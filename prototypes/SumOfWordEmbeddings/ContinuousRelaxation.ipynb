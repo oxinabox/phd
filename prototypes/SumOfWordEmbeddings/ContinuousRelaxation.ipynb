{
 "cells": [
  {
   "cell_type": "code",
   "execution_count": 2,
   "metadata": {
    "collapsed": false
   },
   "outputs": [
    {
     "data": {
      "text/plain": [
       "4-element Array{ByteString,1}:\n",
       " \"/home/ubuntu/build/julia-master/usr/local/share/julia/site/v0.5\"\n",
       " \"/home/ubuntu/build/julia-master/usr/share/julia/site/v0.5\"      \n",
       " \".\"                                                              \n",
       " \"../util/\"                                                       "
      ]
     },
     "execution_count": 2,
     "metadata": {},
     "output_type": "execute_result"
    }
   ],
   "source": [
    "using FunctionalCollections\n",
    "using Iterators\n",
    "using Pipe\n",
    "using Compat\n",
    "\n",
    "@everywhere macro printval(ee)\n",
    "    ee_expr = @sprintf \"%s\" string(ee)\n",
    "    esc(:(println($ee_expr,\" = \", $ee)))\n",
    "end\n",
    "\n",
    "macro pz(ee)\n",
    "    ee_expr = @sprintf \"%s\" string(ee)\n",
    "    esc(:(println($ee_expr,\"\\t\\t\",typeof($ee), \"\\t\", size($ee))))\n",
    "end\n",
    "\n",
    "push!(LOAD_PATH, \".\")\n",
    "push!(LOAD_PATH, \"../util/\")"
   ]
  },
  {
   "cell_type": "code",
   "execution_count": 27,
   "metadata": {
    "collapsed": false,
    "scrolled": true
   },
   "outputs": [
    {
     "data": {
      "text/plain": [
       "42004-element Array{Array{ASCIIString,1},1}:\n",
       " ASCIIString[\"``\",\"only\",\"a\",\"relative\",\"handful\",\"of\",\"such\",\"reports\",\"was\",\"received\"  …  \"of\",\"voters\",\"and\",\"the\",\"size\",\"of\",\"this\",\"city\",\"''\",\".\"]                       \n",
       " ASCIIString[\"it\",\"recommended\",\"that\",\"fulton\",\"legislators\",\"act\",\"``\",\"to\",\"have\",\"these\"  …  \"to\",\"the\",\"end\",\"of\",\"modernizing\",\"and\",\"improving\",\"them\",\"''\",\".\"]          \n",
       " ASCIIString[\"the\",\"grand\",\"jury\",\"commented\",\"on\",\"a\",\"number\",\"of\",\"other\",\"topics\"  …  \"inure\",\"to\",\"the\",\"best\",\"interest\",\"of\",\"both\",\"governments\",\"''\",\".\"]               \n",
       " ASCIIString[\"merger\",\"proposed\"]                                                                                                                                                \n",
       " ASCIIString[\"however\",\",\",\"the\",\"jury\",\"said\",\"it\",\"believes\",\"``\",\"these\",\"two\"  …  \"greater\",\"efficiency\",\"and\",\"reduce\",\"the\",\"cost\",\"of\",\"administration\",\"''\",\".\"]         \n",
       " ASCIIString[\"the\",\"city\",\"purchasing\",\"department\",\",\",\"the\",\"jury\",\"said\",\",\",\"``\"  …  \"personnel\",\"as\",\"a\",\"result\",\"of\",\"city\",\"personnel\",\"policies\",\"''\",\".\"]              \n",
       " ASCIIString[\"it\",\"urged\",\"that\",\"the\",\"city\",\"``\",\"take\",\"steps\",\"to\",\"remedy\",\"''\",\"this\",\"problem\",\".\"]                                                                       \n",
       " ASCIIString[\"it\",\"urged\",\"that\",\"the\",\"next\",\"legislature\",\"``\",\"provide\",\"enabling\",\"funds\"  …  \"orderly\",\"implementation\",\"of\",\"the\",\"law\",\"may\",\"be\",\"effected\",\"''\",\".\"]    \n",
       " ASCIIString[\"``\",\"this\",\"is\",\"one\",\"of\",\"the\",\"major\",\"items\",\"in\",\"the\"  …  \"fulton\",\"county\",\",\",\"which\",\"receives\",\"none\",\"of\",\"this\",\"money\",\".\"]                           \n",
       " ASCIIString[\"the\",\"jurors\",\"said\",\"they\",\"realize\",\"``\",\"a\",\"proportionate\",\"distribution\",\"of\"  …  \"disable\",\"this\",\"program\",\"in\",\"our\",\"less\",\"populous\",\"counties\",\"''\",\".\"]\n",
       " ASCIIString[\"nevertheless\",\",\",\"``\",\"we\",\"feel\",\"that\",\"in\",\"the\",\"future\",\"fulton\"  …  \"of\",\"these\",\"available\",\"funds\",\"''\",\",\",\"the\",\"jurors\",\"said\",\".\"]                    \n",
       " ASCIIString[\"``\",\"failure\",\"to\",\"do\",\"this\",\"will\",\"continue\",\"to\",\"place\",\"a\",\"disproportionate\",\"burden\",\"''\",\"on\",\"fulton\",\"taxpayers\",\".\"]                                  \n",
       " ASCIIString[\"wards\",\"protected\"]                                                                                                                                                \n",
       " ⋮                                                                                                                                                                               \n",
       " ASCIIString[\"the\",\"beautiful\",\",\",\"the\",\"satisfying\",\"part\",\"of\",\"his\",\"disintegration\",\",\"  …  \"was\",\"the\",\"masterly\",\"way\",\"the\",\"buddha\",\"polished\",\"him\",\"off\",\".\"]         \n",
       " ASCIIString[\"reduced\",\"to\",\"beggary\",\",\",\"he\",\"at\",\"last\",\"got\",\"a\",\"job\",\"as\",\"office\",\"boy\",\"to\",\"a\",\"television\",\"producer\",\".\"]                                             \n",
       " ASCIIString[\"his\",\"hubris\",\",\",\"deficiency\",\"of\",\"taste\",\",\",\"and\",\"sadism\",\"carried\",\"him\",\"straightaway\",\"to\",\"the\",\"top\",\".\"]                                                \n",
       " ASCIIString[\"he\",\"evolved\",\"programs\",\"that\",\"plumbed\",\"new\",\"depths\",\"of\",\"bathos\",\"and\",\"besmirched\",\"whole\",\"networks\",\",\",\"and\",\"quickly\",\"superseded\",\"his\",\"boss\",\".\"]    \n",
       " ASCIIString[\"not\",\"long\",\"ago\",\",\",\"i\",\"rode\",\"down\",\"with\",\"him\",\"in\",\"an\",\"elevator\",\"in\",\"radio\",\"city\",\";\",\";\"]                                                             \n",
       " ASCIIString[\"he\",\"was\",\"talking\",\"to\",\"himself\",\"thirteen\",\"to\",\"the\",\"dozen\",\"and\"  …  \"cigars\",\"at\",\"once\",\",\",\"clearly\",\"a\",\"man\",\"in\",\"extremis\",\".\"]                       \n",
       " ASCIIString[\"``\",\"see\",\"that\",\"guy\",\"''\",\"?\",\"?\"]                                                                                                                               \n",
       " ASCIIString[\"as\",\"you\",\"can\",\"count\",\"on\",\"me\",\"to\",\"do\",\"the\",\"same\",\".\"]                                                                                                      \n",
       " ASCIIString[\"compassionately\",\"yours\",\",\"]                                                                                                                                      \n",
       " ASCIIString[\"s.\",\"j.\",\"perelman\"]                                                                                                                                               \n",
       " ASCIIString[\"revulsion\",\"in\",\"the\",\"desert\"]                                                                                                                                    \n",
       " ASCIIString[\"the\",\"doors\",\"of\",\"the\",\"d\",\"train\",\"slid\",\"shut\",\",\",\"and\"  …  \"the\",\"whole\",\"aviary\",\"in\",\"my\",\"head\",\"burst\",\"into\",\"song\",\".\"]                                 "
      ]
     },
     "execution_count": 27,
     "metadata": {},
     "output_type": "execute_result"
    }
   ],
   "source": [
    "@everywhere using JLD\n",
    "@everywhere data = load(\"results/data/brown_glove50d.jld\")\n",
    "test_set = data[\"corpus\"]"
   ]
  },
  {
   "cell_type": "code",
   "execution_count": 4,
   "metadata": {
    "collapsed": true
   },
   "outputs": [],
   "source": [
    "@everywhere function lookup_sowe(data, sent::AbstractString)\n",
    "    lookup_sowe(data, sent |> split)\n",
    "end\n",
    "\n",
    "@everywhere function lookup_sowe{S<:AbstractString}(data, sent::Vector{S})\n",
    "    sum([data[\"LL\"][:,data[\"word_indexes\"][word]] for word in sent]) \n",
    "end\n",
    "\n",
    "@everywhere function lookup_words(data, path)\n",
    "    ASCIIString[data[\"indexed_words\"][ii] for ii in path]\n",
    "end\n",
    "\n",
    "@everywhere function lookup_indexes{S<:AbstractString}(data, sent::Vector{S})\n",
    "    Int[data[\"word_indexes\"][word] for word in sent]\n",
    "end"
   ]
  },
  {
   "cell_type": "code",
   "execution_count": 5,
   "metadata": {
    "collapsed": false
   },
   "outputs": [
    {
     "data": {
      "text/plain": [
       "300x5 Array{Float64,2}:\n",
       "  -4.74163    -2.57656    -5.25187   -0.29441     -2.30494  \n",
       "   1.36376    -1.06473     3.5523    -0.47571      3.91438  \n",
       "   2.9576     -1.37417     1.08203   -0.211661    -1.55368  \n",
       "  -7.45742    -1.5113     -6.52253    0.15203     -3.66229  \n",
       "   0.501547    0.181163    2.25553    0.391033     2.33487  \n",
       "   2.36419     0.914427    1.47449   -0.22831     -0.135271 \n",
       "  -3.05212     0.156627   -1.89791    0.93516     -0.125447 \n",
       "   0.227302    1.47765     5.56737    0.3722       4.35596  \n",
       "  -1.3487      1.69361     0.729621  -0.484771     0.131528 \n",
       " -57.1041    -37.7398    -59.9178    -2.8967     -45.4103   \n",
       "   3.78744     1.08485     2.80916   -0.226627     4.48032  \n",
       "   0.720431   -1.14156     1.29291   -0.0844309   -0.943215 \n",
       "  -6.63207    -3.55058    -4.19841   -0.37577     -4.75805  \n",
       "   ⋮                                                        \n",
       "   2.4757      0.279908    3.64195   -0.121485    -0.0583882\n",
       "   0.448004   -2.13483    -2.10817   -0.014715    -1.65544  \n",
       "  -2.50791    -2.01872    -1.0692    -0.098627    -3.89834  \n",
       "  -6.64056    -6.15444   -12.193      0.332158    -4.25078  \n",
       "   2.5589      0.409705   -3.53347    0.02095      0.379156 \n",
       "   6.15943     2.1366      1.48923   -0.490003     2.33026  \n",
       "   5.37274     1.75246     1.122      0.49494      3.48356  \n",
       "  11.0345      3.4905      7.65432    0.74314      5.67101  \n",
       "  -1.77793    -0.864373   -1.35933    0.36339     -2.9327   \n",
       "  -3.65758    -6.70789    -6.49691   -1.06761     -6.14793  \n",
       "  -6.16881    -1.232      -1.17942    0.76551     -4.08377  \n",
       "   2.16064    -0.515191   -1.13145    0.1503      -0.243793 "
      ]
     },
     "execution_count": 5,
     "metadata": {},
     "output_type": "execute_result"
    }
   ],
   "source": [
    "S = hcat(map(sent->lookup_sowe(data,sent), test_set[1:5])...)"
   ]
  },
  {
   "cell_type": "code",
   "execution_count": 6,
   "metadata": {
    "collapsed": false
   },
   "outputs": [],
   "source": [
    "V = data[\"LL\"];"
   ]
  },
  {
   "cell_type": "code",
   "execution_count": 7,
   "metadata": {
    "collapsed": false
   },
   "outputs": [
    {
     "data": {
      "text/plain": [
       "5"
      ]
     },
     "execution_count": 7,
     "metadata": {},
     "output_type": "execute_result"
    }
   ],
   "source": [
    "nWords = size(V,2)\n",
    "nSents = size(S,2)"
   ]
  },
  {
   "cell_type": "code",
   "execution_count": 8,
   "metadata": {
    "collapsed": false
   },
   "outputs": [],
   "source": [
    "using NonNegLeastSquares"
   ]
  },
  {
   "cell_type": "code",
   "execution_count": 12,
   "metadata": {
    "collapsed": false
   },
   "outputs": [
    {
     "data": {
      "text/plain": [
       "40482x1 Array{Float64,2}:\n",
       " 0.0    \n",
       " 0.0    \n",
       " 0.0    \n",
       " 0.0    \n",
       " 2.35392\n",
       " 0.0    \n",
       " 0.0    \n",
       " 0.0    \n",
       " 0.0    \n",
       " 0.0    \n",
       " 0.0    \n",
       " 0.0    \n",
       " 0.0    \n",
       " ⋮      \n",
       " 0.0    \n",
       " 0.0    \n",
       " 0.0    \n",
       " 0.0    \n",
       " 0.0    \n",
       " 0.0    \n",
       " 0.0    \n",
       " 0.0    \n",
       " 0.0    \n",
       " 0.0    \n",
       " 0.0    \n",
       " 0.0    "
      ]
     },
     "execution_count": 12,
     "metadata": {},
     "output_type": "execute_result"
    }
   ],
   "source": [
    "k=2\n",
    "C_k = nonneg_lsq(V, S[:,k];alg=:fnnls, max_iter=10)"
   ]
  },
  {
   "cell_type": "code",
   "execution_count": 52,
   "metadata": {
    "collapsed": false
   },
   "outputs": [
    {
     "data": {
      "text/plain": [
       "\"`` `` age by commentators county drainage fate fda improving interior its law law parliament revised season to to various vehemently we we\""
      ]
     },
     "execution_count": 52,
     "metadata": {},
     "output_type": "execute_result"
    }
   ],
   "source": [
    "@pipe lookup_words(data, reduce(append!,Int64[],  [[j for _ in 1:cj] for (j,cj) in enumerate(round(C_k))])) |> sort |> join(_, \" \")"
   ]
  },
  {
   "cell_type": "code",
   "execution_count": 53,
   "metadata": {
    "collapsed": false
   },
   "outputs": [
    {
     "data": {
      "text/plain": [
       "37-element Array{ASCIIString,1}:\n",
       " \"``\"      \n",
       " \"only\"    \n",
       " \"a\"       \n",
       " \"relative\"\n",
       " \"handful\" \n",
       " \"of\"      \n",
       " \"such\"    \n",
       " \"reports\" \n",
       " \"was\"     \n",
       " \"received\"\n",
       " \"''\"      \n",
       " \",\"       \n",
       " \"the\"     \n",
       " ⋮         \n",
       " \"the\"     \n",
       " \"number\"  \n",
       " \"of\"      \n",
       " \"voters\"  \n",
       " \"and\"     \n",
       " \"the\"     \n",
       " \"size\"    \n",
       " \"of\"      \n",
       " \"this\"    \n",
       " \"city\"    \n",
       " \"''\"      \n",
       " \".\"       "
      ]
     },
     "execution_count": 53,
     "metadata": {},
     "output_type": "execute_result"
    }
   ],
   "source": [
    "test_set[1] |> join "
   ]
  },
  {
   "cell_type": "code",
   "execution_count": 35,
   "metadata": {
    "collapsed": false
   },
   "outputs": [
    {
     "ename": "LoadError",
     "evalue": "LoadError: MethodError: `repeat` has no method matching repeat(::Array{Int64,1}, ::Array{Int64,1})\nClosest candidates are:\n  repeat{T}(::Array{T,N})\nwhile loading In[35], in expression starting on line 1",
     "output_type": "error",
     "traceback": [
      "LoadError: MethodError: `repeat` has no method matching repeat(::Array{Int64,1}, ::Array{Int64,1})\nClosest candidates are:\n  repeat{T}(::Array{T,N})\nwhile loading In[35], in expression starting on line 1",
      "",
      " [inlined code] from essentials.jl:114"
     ]
    }
   ],
   "source": [
    "repeat([1],[1,1,2])"
   ]
  },
  {
   "cell_type": "code",
   "execution_count": 29,
   "metadata": {
    "collapsed": false
   },
   "outputs": [
    {
     "ename": "LoadError",
     "evalue": "LoadError: MethodError: `isless` has no method matching isless(::Int64, ::Array{Float64,2})\nClosest candidates are:\n  isless(::Real, !Matched::AbstractFloat)\n  isless(::Real, !Matched::Real)\n  isless(::Integer, !Matched::Char)\nwhile loading In[29], in expression starting on line 1",
     "output_type": "error",
     "traceback": [
      "LoadError: MethodError: `isless` has no method matching isless(::Int64, ::Array{Float64,2})\nClosest candidates are:\n  isless(::Real, !Matched::AbstractFloat)\n  isless(::Real, !Matched::Real)\n  isless(::Integer, !Matched::Char)\nwhile loading In[29], in expression starting on line 1",
      "",
      " in > at operators.jl:34",
      " [inlined code] from essentials.jl:114"
     ]
    }
   ],
   "source": [
    "lookup_words(data, round(C_k[find(C_k>0)]))"
   ]
  },
  {
   "cell_type": "code",
   "execution_count": 54,
   "metadata": {
    "collapsed": false
   },
   "outputs": [
    {
     "data": {
      "text/plain": [
       "\"it recommended that fulton legislators act `` to have these laws studied and revised to the end of modernizing and improving them '' .\""
      ]
     },
     "execution_count": 54,
     "metadata": {},
     "output_type": "execute_result"
    }
   ],
   "source": [
    "@pipe test_set[2] |> join(_, \" \")"
   ]
  },
  {
   "cell_type": "code",
   "execution_count": 9,
   "metadata": {
    "collapsed": false
   },
   "outputs": [
    {
     "name": "stdout",
     "output_type": "stream",
     "text": [
      "search: "
     ]
    },
    {
     "data": {
      "text/latex": [
       "\\textbf{x = nonneg\\_lsq(A, B; ...)}\n",
       "Computes the (k-by-n) matrix X with that minimizes vecnorm(A*X - B) subject to X >= 0, where A is an (m-by-k) matrix and B is a (m-by-n) matrix.\n",
       "\\subsection{Optional arguments}\n",
       "\\textbf{alg:} a symbol specifying the algorithm to be used\n",
       "\\begin{verbatim}\n",
       ":pivot - Block-pivoting active-set-like method (Kim & Park, 2011)\n",
       ":fnnls - Fast NNLS, (Bro & De Jong, 1997)\n",
       ":nnls - Classic active-set method (Lawson & Hanson, 1974)\n",
       ":convex - Interface to Convex.jl solvers\n",
       "\\end{verbatim}\n",
       "\\textbf{variant:} a symbol specifying the variant, if applicable, \n",
       "\\textbf{tol:} tolerance for nonnegativity constraints\n",
       "\\textbf{max\\_iter:} maximum number of iterations before function gives up\n"
      ],
      "text/markdown": [
       "**x = nonneg_lsq(A, B; ...)**\n",
       "\n",
       "Computes the (k-by-n) matrix X with that minimizes vecnorm(A*X - B) subject to X >= 0, where A is an (m-by-k) matrix and B is a (m-by-n) matrix.\n",
       "\n",
       "## Optional arguments\n",
       "\n",
       "**alg:** a symbol specifying the algorithm to be used\n",
       "\n",
       "```\n",
       ":pivot - Block-pivoting active-set-like method (Kim & Park, 2011)\n",
       ":fnnls - Fast NNLS, (Bro & De Jong, 1997)\n",
       ":nnls - Classic active-set method (Lawson & Hanson, 1974)\n",
       ":convex - Interface to Convex.jl solvers\n",
       "```\n",
       "\n",
       "**variant:** a symbol specifying the variant, if applicable, \n",
       "\n",
       "**tol:** tolerance for nonnegativity constraints\n",
       "\n",
       "**max_iter:** maximum number of iterations before function gives up\n"
      ],
      "text/plain": [
       "**x = nonneg_lsq(A, B; ...)**\n",
       "\n",
       "Computes the (k-by-n) matrix X with that minimizes vecnorm(A*X - B) subject to X >= 0, where A is an (m-by-k) matrix and B is a (m-by-n) matrix.\n",
       "\n",
       "## Optional arguments\n",
       "\n",
       "**alg:** a symbol specifying the algorithm to be used\n",
       "\n",
       "```\n",
       ":pivot - Block-pivoting active-set-like method (Kim & Park, 2011)\n",
       ":fnnls - Fast NNLS, (Bro & De Jong, 1997)\n",
       ":nnls - Classic active-set method (Lawson & Hanson, 1974)\n",
       ":convex - Interface to Convex.jl solvers\n",
       "```\n",
       "\n",
       "**variant:** a symbol specifying the variant, if applicable, \n",
       "\n",
       "**tol:** tolerance for nonnegativity constraints\n",
       "\n",
       "**max_iter:** maximum number of iterations before function gives up\n"
      ]
     },
     "execution_count": 9,
     "metadata": {},
     "output_type": "execute_result"
    },
    {
     "name": "stdout",
     "output_type": "stream",
     "text": [
      "nonneg_lsq\n",
      "\n"
     ]
    }
   ],
   "source": [
    "?nonneg_lsq"
   ]
  },
  {
   "cell_type": "code",
   "execution_count": null,
   "metadata": {
    "collapsed": true
   },
   "outputs": [],
   "source": []
  }
 ],
 "metadata": {
  "kernelspec": {
   "display_name": "Julia 0.5.0-dev",
   "language": "julia",
   "name": "julia-0.5"
  },
  "language_info": {
   "file_extension": ".jl",
   "mimetype": "application/julia",
   "name": "julia",
   "version": "0.5.0"
  }
 },
 "nbformat": 4,
 "nbformat_minor": 0
}
