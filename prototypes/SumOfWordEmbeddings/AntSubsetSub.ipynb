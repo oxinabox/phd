{
 "cells": [
  {
   "cell_type": "code",
   "execution_count": 1,
   "metadata": {
    "collapsed": false
   },
   "outputs": [
    {
     "name": "stderr",
     "output_type": "stream",
     "text": [
      "WARNING: Base.Uint8 is deprecated, use UInt8 instead.\n",
      "WARNING: Base.Uint8 is deprecated, use UInt8 instead.\n",
      "WARNING: Base.Uint8 is deprecated, use UInt8 instead.\n",
      "WARNING: Base.Uint8 is deprecated, use UInt8 instead.\n",
      "WARNING: Base.Uint8 is deprecated, use UInt8 instead.\n",
      "WARNING: Base.Uint8 is deprecated, use UInt8 instead.\n",
      "WARNING: Base.Uint8 is deprecated, use UInt8 instead.\n",
      "WARNING: Base.Uint8 is deprecated, use UInt8 instead.\n",
      "WARNING: Base.Uint8 is deprecated, use UInt8 instead.\n",
      "WARNING: Base.Uint8 is deprecated, use UInt8 instead.\n",
      "WARNING: Base.Uint8 is deprecated, use UInt8 instead.\n",
      "WARNING: Base.Uint8 is deprecated, use UInt8 instead.\n",
      "WARNING: Base.Uint8 is deprecated, use UInt8 instead.\n",
      "WARNING: Base.Uint8 is deprecated, use UInt8 instead.\n",
      "WARNING: Base.Uint8 is deprecated, use UInt8 instead.\n"
     ]
    },
    {
     "data": {
      "text/plain": [
       "4-element Array{ByteString,1}:\n",
       " \"/home/ubuntu/build/julia-master/usr/local/share/julia/site/v0.5\"\n",
       " \"/home/ubuntu/build/julia-master/usr/share/julia/site/v0.5\"      \n",
       " \".\"                                                              \n",
       " \"../util/\"                                                       "
      ]
     },
     "execution_count": 1,
     "metadata": {},
     "output_type": "execute_result"
    }
   ],
   "source": [
    "using Iterators\n",
    "using Pipe\n",
    "using Compat\n",
    "\n",
    "macro printval(ee)\n",
    "    ee_expr = @sprintf \"%s\" string(ee)\n",
    "    esc(:(println($ee_expr,\" = \", $ee)))\n",
    "end\n",
    "\n",
    "macro pz(ee)\n",
    "    ee_expr = @sprintf \"%s\" string(ee)\n",
    "    esc(:(println($ee_expr,\"\\t\\t\",typeof($ee), \"\\t\", size($ee))))\n",
    "end\n",
    "\n",
    "push!(LOAD_PATH, \".\")\n",
    "push!(LOAD_PATH, \"../util/\")"
   ]
  },
  {
   "cell_type": "code",
   "execution_count": 2,
   "metadata": {
    "collapsed": false,
    "scrolled": true
   },
   "outputs": [],
   "source": [
    "@everywhere using Distances"
   ]
  },
  {
   "cell_type": "code",
   "execution_count": 44,
   "metadata": {
    "collapsed": false,
    "scrolled": true
   },
   "outputs": [
    {
     "name": "stderr",
     "output_type": "stream",
     "text": [
      "WARNING: redefining constant START_MARKER\n",
      "WARNING: redefining constant END_MARKER\n"
     ]
    }
   ],
   "source": [
    "const START_MARKER = \"**START**\"\n",
    "const END_MARKER = \"**END**\"\n",
    "\n",
    "atis_data = open(\"atis_data.jsz\",\"r\") do fh\n",
    "    deserialize(fh)    \n",
    "end\n",
    "\n",
    "@assert START_MARKER in atis_data[\"indexed_words\"]\n",
    "@assert START_MARKER in keys(atis_data[\"word_indexes\"])\n",
    "@assert END_MARKER in atis_data[\"indexed_words\"]\n",
    "@assert END_MARKER in keys(atis_data[\"word_indexes\"])"
   ]
  },
  {
   "cell_type": "code",
   "execution_count": 4,
   "metadata": {
    "collapsed": false,
    "scrolled": true
   },
   "outputs": [
    {
     "name": "stderr",
     "output_type": "stream",
     "text": [
      "WARNING: Base.Uint8 is deprecated, use UInt8 instead.\n",
      "WARNING: Base.Uint8 is deprecated, use UInt8 instead.\n",
      "WARNING: Base.Uint8 is deprecated, use UInt8 instead.\n",
      "WARNING: Base.Uint8 is deprecated, use UInt8 instead.\n",
      "WARNING: Base.Uint8 is deprecated, use UInt8 instead.\n",
      "WARNING: Base.Uint8 is deprecated, use UInt8 instead.\n"
     ]
    },
    {
     "data": {
      "text/plain": [
       "get_edge_probs (generic function with 2 methods)"
      ]
     },
     "execution_count": 4,
     "metadata": {},
     "output_type": "execute_result"
    }
   ],
   "source": [
    "# τ = Pheromone\n",
    "# η = Prior\n",
    "# α = pheremone weight\n",
    "# β = prior weight\n",
    "# ρ = pheremone evaporation\n",
    "function get_edge_probs(τ::AbstractMatrix,η::AbstractMatrix, α, β)\n",
    "    edges = τ.^α .* η.^β\n",
    "    edges./=sum(edges,1) #Normalise to probabilities\n",
    "    @inbounds edges[isnan(edges)]=0.0 #The terminal node will have a sum of zero\n",
    "    edges\n",
    "end\n",
    "    \n",
    "function get_edge_probs(τ::AbstractSparseMatrix,η::AbstractSparseMatrix, α, β)\n",
    "    edges = τ.^α .* η.^β\n",
    "    sums = sum(edges,1)\n",
    "    \n",
    "    I,J,V = findnz(edges)\n",
    "    for idx in 1:length(V)\n",
    "        @inbounds V[idx] /= sums[J[idx]]\n",
    "    end\n",
    "    sparse(I,J,V)\n",
    "end"
   ]
  },
  {
   "cell_type": "code",
   "execution_count": 5,
   "metadata": {
    "collapsed": false
   },
   "outputs": [
    {
     "name": "stdout",
     "output_type": "stream",
     "text": [
      "search: "
     ]
    },
    {
     "data": {
      "text/latex": [
       "\\begin{verbatim}\n",
       "methodswith(typ[, module or function][, showparents])\n",
       "\\end{verbatim}\n",
       "Return an array of methods with an argument of type \\texttt{typ}. If optional \\texttt{showparents} is \\texttt{true}, also return arguments with a parent type of \\texttt{typ}, excluding type \\texttt{Any}.\n",
       "The optional second argument restricts the search to a particular module or function.\n"
      ],
      "text/markdown": [
       "```\n",
       "methodswith(typ[, module or function][, showparents])\n",
       "```\n",
       "\n",
       "Return an array of methods with an argument of type `typ`. If optional `showparents` is `true`, also return arguments with a parent type of `typ`, excluding type `Any`.\n",
       "\n",
       "The optional second argument restricts the search to a particular module or function.\n"
      ],
      "text/plain": [
       "```\n",
       "methodswith(typ[, module or function][, showparents])\n",
       "```\n",
       "\n",
       "Return an array of methods with an argument of type `typ`. If optional `showparents` is `true`, also return arguments with a parent type of `typ`, excluding type `Any`.\n",
       "\n",
       "The optional second argument restricts the search to a particular module or function.\n"
      ]
     },
     "execution_count": 5,
     "metadata": {},
     "output_type": "execute_result"
    }
   ],
   "source": [
    "?methodswith"
   ]
  },
  {
   "cell_type": "code",
   "execution_count": 6,
   "metadata": {
    "collapsed": false
   },
   "outputs": [
    {
     "name": "stdout",
     "output_type": "stream",
     "text": [
      "methodswith\n",
      "\n"
     ]
    }
   ],
   "source": [
    "@everywhere @inline function select_node{F<:Number}(edge_probs::AbstractVector{F})\n",
    "    ys, _, probs = findnz(edge_probs'')\n",
    "    select_node(zip(ys,probs))\n",
    "end\n",
    "\n",
    "@everywhere @inline function select_node{A, F<:Number}(edge_probs::Dict{A, F})\n",
    "    select_node(collect(edge_probs))\n",
    "end\n",
    "\n",
    "@everywhere function select_node(edge_probs)\n",
    "    cutoff = rand()\n",
    "    total = 0.0\n",
    "    @assert(length(edge_probs)>0, \"No options from point $x\")\n",
    "    for (y,prob) in edge_probs\n",
    "        total+=prob\n",
    "        if total>=cutoff\n",
    "            return y\n",
    "        end\n",
    "    end\n",
    "    \n",
    "    @assert(total>=cutoff, \"x=$x, total= $total, cutoff=$cutoff\") #Should Never Reach this point\n",
    "end\n"
   ]
  },
  {
   "cell_type": "code",
   "execution_count": 7,
   "metadata": {
    "collapsed": false
   },
   "outputs": [
    {
     "data": {
      "text/plain": [
       "optimise (generic function with 1 method)"
      ]
     },
     "execution_count": 7,
     "metadata": {},
     "output_type": "execute_result"
    }
   ],
   "source": [
    "@everywhere function run_ant(edge_probs, start_index, end_index)\n",
    "    path::Vector{Int} = [start_index] #1 is always the start node. Attached to it are unigram probs\n",
    "    while (path[end]!=end_index)\n",
    "        push!(path, select_node(edge_probs[:,path[end]]))\n",
    "    end\n",
    "    path    \n",
    "end\n",
    "\n",
    "\n",
    "\n",
    "function optimise(fit_fun, η, α, β,ρ, n_ants, n_gens, start_index, end_index)\n",
    "    assert(α>=1.0)\n",
    "    assert(β>=1.0)\n",
    "    assert(0.0<=ρ<1.0)\n",
    "    \n",
    "    max_fit::Float64 = -Inf;\n",
    "    fittest_path::Vector{Int} = []\n",
    "    τ = ceil(η) #Since we take the element wise product with η, there is no point setting any elements that are zero in η\n",
    "    \n",
    "    for gen_ii in 1:n_gens\n",
    "        if gen_ii%10==1 || gen_ii<10\n",
    "            print(\"Gen: $gen_ii - fit: $max_fit\\n\")\n",
    "        end\n",
    "        \n",
    "        edge_probs = get_edge_probs(τ,η, α, β)\n",
    "        #edge_probs = SharedArray(Float64, size(τ))\n",
    "        #edge_probs[:]=get_edge_probs(τ,η, α, β)\n",
    "        \n",
    "        \n",
    "        path_fits::Vector{Tuple{Vector{Int},Float64}} = map(1:n_ants) do ant_id\n",
    "            path::Vector{Int} = run_ant(edge_probs, start_index, end_index)\n",
    "            fit::Float64 = fit_fun(path)\n",
    "            (path, fit)\n",
    "        end\n",
    "        \n",
    "    \n",
    "        τ.*=(1.0-ρ) #Evaporation\n",
    "        for (path, fit) in path_fits\n",
    "            if fit>max_fit\n",
    "                max_fit = fit\n",
    "                fittest_path = path\n",
    "                \n",
    "                if fit==Inf #Perfect Fit\n",
    "                    return fittest_path, max_fit\n",
    "                end\n",
    "            end\n",
    "\n",
    "            \n",
    "            @simd for node_ii in 1:length(path)-1\n",
    "                @inbounds node = path[node_ii]\n",
    "                @inbounds next_node = path[node_ii+1]\n",
    "                @inbounds τ[next_node, node] += fit\n",
    "            end\n",
    "        end\n",
    "    end #Next Generation\n",
    "    \n",
    "    fittest_path, max_fit\n",
    "end"
   ]
  },
  {
   "cell_type": "code",
   "execution_count": 8,
   "metadata": {
    "collapsed": false
   },
   "outputs": [
    {
     "data": {
      "text/plain": [
       "lookup_sowe (generic function with 1 method)"
      ]
     },
     "execution_count": 8,
     "metadata": {},
     "output_type": "execute_result"
    }
   ],
   "source": [
    "function lookup_sowe(data, sent)\n",
    "    sum([data[\"LL\"][:,data[\"word_indexes\"][word]] for word in split(sent)]) \n",
    "end"
   ]
  },
  {
   "cell_type": "code",
   "execution_count": 9,
   "metadata": {
    "collapsed": false
   },
   "outputs": [
    {
     "data": {
      "text/plain": [
       "optimise (generic function with 3 methods)"
      ]
     },
     "execution_count": 9,
     "metadata": {},
     "output_type": "execute_result"
    }
   ],
   "source": [
    "function optimise(data::Dict, target_sent::AbstractString, α, β, ρ, n_ants, n_gens)\n",
    "    target::Vector{Float64} = lookup_sowe(data,target_sent)\n",
    "    optimise(data, target, α, β,ρ, n_ants, n_gens)\n",
    "end\n",
    "\n",
    "@inline function optimise(data::Dict, target::AbstractVector, α, β,ρ, n_ants, n_gens)\n",
    "    #rLLs = Dict([id=>put!(RemoteRef(), data[\"LL\"]) for id in workers()])\n",
    "    #LL = SharedArray(Float64, size(atis_data[\"LL\"]))\n",
    "    LL =atis_data[\"LL\"]\n",
    "    @inline function fitness(path)\n",
    "        #Fitter is larger\n",
    "        @inbounds path_end = sum([LL[:,ii] for ii in path]) \n",
    "        if all(path_end.==0.0)\n",
    "            0.0 #Cosine dist from origin to anywhere is zero.\n",
    "            #This occurs for forced stopwords\n",
    "        else\n",
    "            (1.0/cosine_dist(path_end, target))/length(path)\n",
    "        end\n",
    "    end\n",
    "    \n",
    "    start_index = data[\"word_indexes\"][START_MARKER]\n",
    "    end_index = data[\"word_indexes\"][END_MARKER]\n",
    "    \n",
    "    \n",
    "    #return fitness, data[\"bigrams\"], α, β,ρ, n_ants, n_gens, start_index, end_index\n",
    "    path, score = optimise(fitness, data[\"bigrams\"], α, β,ρ, n_ants, n_gens, start_index, end_index)\n",
    "    score,[data[\"indexed_words\"][ii] for ii in path]\n",
    "end"
   ]
  },
  {
   "cell_type": "code",
   "execution_count": 24,
   "metadata": {
    "collapsed": false
   },
   "outputs": [
    {
     "data": {
      "text/plain": [
       "prior (generic function with 1 method)"
      ]
     },
     "execution_count": 24,
     "metadata": {},
     "output_type": "execute_result"
    }
   ],
   "source": [
    "function approx_trioccur(aa, bb, cc, uni_occur, bi_occur)\n",
    "    #See http://stats.stackexchange.com/questions/175153/approximating-pa-b-c-using-pa-b-pa-c-pb-c-and-pa-pb-pc/    \n",
    "    mean([uni_occur[aa]*bi_occur[bb,cc],\n",
    "          uni_occur[bb]*bi_occur[aa,cc],\n",
    "          uni_occur[cc]*bi_occur[aa,bb],\n",
    "        ])\n",
    "end\n",
    "\n",
    "\n",
    "function prior(words_so_far, uni_occur, bi_occur, prob_length, end_index)\n",
    "    if length(words_so_far) == 0\n",
    "        select_node(uni_occur)\n",
    "    elseif (length(words_so_far) > length(prob_length) #If it is longer than the tail of length distro\n",
    "        || rand()<prob_length[length(words_so_far)])   #Chance to end at this length\n",
    "        end_index\n",
    "    elseif length(words_so_far)==1\n",
    "        p_total = bi_occur[:,words_so_far[1]]\n",
    "        \n",
    "\n",
    "    end\n",
    "    \n",
    "end"
   ]
  },
  {
   "cell_type": "code",
   "execution_count": 40,
   "metadata": {
    "collapsed": false
   },
   "outputs": [
    {
     "data": {
      "text/plain": [
       "1121-element Array{Any,1}:\n",
       " 0.012318   \n",
       " 0.00821975 \n",
       " 0.00765314 \n",
       " 0.0191794  \n",
       " 0.0266696  \n",
       " 0.00254587 \n",
       " 2.32854e-5 \n",
       " 9.31417e-5 \n",
       " 0.0416654  \n",
       " 0.00326772 \n",
       " 0.000225092\n",
       " 0.000426899\n",
       " 0.00122637 \n",
       " ⋮          \n",
       " 3.10472e-5 \n",
       " 5.43326e-5 \n",
       " 4.65708e-5 \n",
       " 0.000162998\n",
       " 7.76181e-6 \n",
       " 0.0139635  \n",
       " 0.0113167  \n",
       " 0.0192338  \n",
       " 0.0120929  \n",
       " 0.0505682  \n",
       " 0.0        \n",
       " 0.0        "
      ]
     },
     "execution_count": 40,
     "metadata": {},
     "output_type": "execute_result"
    }
   ],
   "source": [
    "uo"
   ]
  },
  {
   "cell_type": "code",
   "execution_count": 60,
   "metadata": {
    "collapsed": false
   },
   "outputs": [
    {
     "data": {
      "text/plain": [
       "1121-element Array{Float64,1}:\n",
       " 9.7402e-5  \n",
       " 8.77362e-5 \n",
       " 0.000107811\n",
       " 2.41646e-5 \n",
       " 0.000274361\n",
       " 1.56141e-5 \n",
       " 1.11529e-6 \n",
       " 7.43527e-7 \n",
       " 0.000631254\n",
       " 4.60987e-5 \n",
       " 1.11529e-6 \n",
       " 2.23058e-6 \n",
       " 1.93317e-5 \n",
       " ⋮          \n",
       " 3.71763e-7 \n",
       " 7.43527e-7 \n",
       " 7.43527e-7 \n",
       " 3.71763e-7 \n",
       " 3.71763e-7 \n",
       " 0.000108183\n",
       " 9.18256e-5 \n",
       " 0.00024871 \n",
       " 0.000199265\n",
       " 0.000357636\n",
       " 3.71763e-7 \n",
       " 3.71763e-7 "
      ]
     },
     "execution_count": 60,
     "metadata": {},
     "output_type": "execute_result"
    }
   ],
   "source": [
    "bo[:,4]"
   ]
  },
  {
   "cell_type": "code",
   "execution_count": 64,
   "metadata": {
    "collapsed": false
   },
   "outputs": [
    {
     "data": {
      "text/plain": [
       "1121x2 Array{Float64,2}:\n",
       " 0.00754159   0.012318   \n",
       " 0.00478645   0.00821975 \n",
       " 0.00462697   0.00765314 \n",
       " 0.00960562   0.0191794  \n",
       " 0.0159855    0.0266696  \n",
       " 0.00200157   0.00254587 \n",
       " 0.000434591  2.32854e-5 \n",
       " 0.000476601  9.31417e-5 \n",
       " 0.0223151    0.0416654  \n",
       " 0.0026845    0.00326772 \n",
       " 0.000540916  0.000225092\n",
       " 0.000772153  0.000426899\n",
       " 0.00105432   0.00122637 \n",
       " ⋮                       \n",
       " 0.000433104  3.10472e-5 \n",
       " 0.000445373  5.43326e-5 \n",
       " 0.000437194  4.65708e-5 \n",
       " 0.000494445  0.000162998\n",
       " 0.00042158   7.76181e-6 \n",
       " 0.00848364   0.0139635  \n",
       " 0.00793492   0.0113167  \n",
       " 0.0118745    0.0192338  \n",
       " 0.00688022   0.0120929  \n",
       " 0.028573     0.0505682  \n",
       " 0.000416747  0.0        \n",
       " 0.000416747  0.0        "
      ]
     },
     "execution_count": 64,
     "metadata": {},
     "output_type": "execute_result"
    }
   ],
   "source": [
    "aa=[sum(bo,2) uo]"
   ]
  },
  {
   "cell_type": "code",
   "execution_count": 73,
   "metadata": {
    "collapsed": false,
    "scrolled": true
   },
   "outputs": [
    {
     "data": {
      "text/plain": [
       "0.0159854536424075"
      ]
     },
     "execution_count": 73,
     "metadata": {},
     "output_type": "execute_result"
    }
   ],
   "source": [
    "sum(bo[:,5])"
   ]
  },
  {
   "cell_type": "code",
   "execution_count": null,
   "metadata": {
    "collapsed": true
   },
   "outputs": [],
   "source": []
  },
  {
   "cell_type": "code",
   "execution_count": 71,
   "metadata": {
    "collapsed": false
   },
   "outputs": [
    {
     "data": {
      "text/plain": [
       "7.153128758861012"
      ]
     },
     "execution_count": 71,
     "metadata": {},
     "output_type": "execute_result"
    }
   ],
   "source": [
    "sum(bo[:,5]./sum(bo,2))\n"
   ]
  },
  {
   "cell_type": "code",
   "execution_count": 50,
   "metadata": {
    "collapsed": false
   },
   "outputs": [
    {
     "data": {
      "text/plain": [
       "0.5993893787756731"
      ]
     },
     "execution_count": 50,
     "metadata": {},
     "output_type": "execute_result"
    }
   ],
   "source": [
    "oo = bo[:,5]./uo[5]\n",
    "oo[isinf(oo)]=0.0 #remove anything that had a unioccur of zero\n",
    "sum(oo)"
   ]
  },
  {
   "cell_type": "code",
   "execution_count": 45,
   "metadata": {
    "collapsed": false
   },
   "outputs": [
    {
     "data": {
      "text/plain": [
       "1121-element Array{Float64,1}:\n",
       " 0.012318   \n",
       " 0.00821975 \n",
       " 0.00765314 \n",
       " 0.0191794  \n",
       " 0.0266696  \n",
       " 0.00254587 \n",
       " 2.32854e-5 \n",
       " 9.31417e-5 \n",
       " 0.0416654  \n",
       " 0.00326772 \n",
       " 0.000225092\n",
       " 0.000426899\n",
       " 0.00122637 \n",
       " ⋮          \n",
       " 3.10472e-5 \n",
       " 5.43326e-5 \n",
       " 4.65708e-5 \n",
       " 0.000162998\n",
       " 7.76181e-6 \n",
       " 0.0139635  \n",
       " 0.0113167  \n",
       " 0.0192338  \n",
       " 0.0120929  \n",
       " 0.0505682  \n",
       " 0.0        \n",
       " 0.0        "
      ]
     },
     "execution_count": 45,
     "metadata": {},
     "output_type": "execute_result"
    }
   ],
   "source": [
    "bo=atis_data[\"bioccur\"]\n",
    "uo=atis_data[\"unioccur\"]"
   ]
  },
  {
   "cell_type": "code",
   "execution_count": 14,
   "metadata": {
    "collapsed": false
   },
   "outputs": [
    {
     "data": {
      "text/plain": [
       "0.0020015740461573972"
      ]
     },
     "execution_count": 14,
     "metadata": {},
     "output_type": "execute_result"
    }
   ],
   "source": [
    "sum(bo[6,:])"
   ]
  },
  {
   "cell_type": "code",
   "execution_count": 15,
   "metadata": {
    "collapsed": false
   },
   "outputs": [
    {
     "data": {
      "text/plain": [
       "1121-element Array{Any,1}:\n",
       "   0.00398383 \n",
       "   0.000452281\n",
       "   0.000291459\n",
       "   0.000814105\n",
       "   0.00111517 \n",
       "   0.00073013 \n",
       "   0.0159655  \n",
       "   0.00399138 \n",
       "   0.0011064  \n",
       "   0.000796379\n",
       "   0.00330321 \n",
       "   0.00261254 \n",
       "   0.00121257 \n",
       "   ⋮          \n",
       "   0.0119741  \n",
       "   0.00684236 \n",
       "   0.00798275 \n",
       "   0.00228079 \n",
       "   0.0478965  \n",
       "   0.0025559  \n",
       "   0.00164254 \n",
       "   0.00411701 \n",
       "   0.0007993  \n",
       "   0.00185264 \n",
       " Inf          \n",
       " Inf          "
      ]
     },
     "execution_count": 15,
     "metadata": {},
     "output_type": "execute_result"
    }
   ],
   "source": [
    "bo[:,6]./uo"
   ]
  },
  {
   "cell_type": "code",
   "execution_count": null,
   "metadata": {
    "collapsed": true
   },
   "outputs": [],
   "source": []
  },
  {
   "cell_type": "code",
   "execution_count": 16,
   "metadata": {
    "collapsed": false
   },
   "outputs": [
    {
     "name": "stdout",
     "output_type": "stream",
     "text": [
      "Gen: 1 - fit: -Inf\n",
      "Gen: 2 - fit: 2.841247204959871\n",
      "Gen: 3 - fit: 2.841247204959871\n",
      "Gen: 4 - fit: 2.841247204959871\n",
      "Gen: 5 - fit: 2.841247204959871\n",
      "Gen: 6 - fit: 2.841247204959871\n",
      "Gen: 7 - fit: 2.841247204959871\n",
      "Gen: 8 - fit: 2.841247204959871\n",
      "Gen: 9 - fit: 2.841247204959871\n",
      "Gen: 11 - fit: 2.841247204959871\n",
      " 68"
     ]
    },
    {
     "data": {
      "text/plain": [
       "(2.841247204959871,Any[\"**START**\",\"what\",\"is\",\"the\",\"flight\",\"**END**\"])"
      ]
     },
     "execution_count": 16,
     "metadata": {},
     "output_type": "execute_result"
    }
   ],
   "source": [
    "@time optimise(atis_data,\"what is the longest flight\", 1, 1, 0.3, 10000,20)\n",
    "#code_warntype(optimise, map(typeof,params))"
   ]
  },
  {
   "cell_type": "code",
   "execution_count": 17,
   "metadata": {
    "collapsed": false
   },
   "outputs": [
    {
     "name": "stdout",
     "output_type": "stream",
     "text": [
      ".628699 seconds (34.20 M allocations: 87.897 GB, 16.47% gc time)\n",
      "Gen: 1 - fit: -Inf\n",
      "Gen: 2 - fit: 2.9412664090410554\n",
      "Gen: 3 - fit: 2.9412664090410554\n",
      "Gen: 4 - fit: 2.9412664090410554\n",
      "Gen: 5 - fit: 2.9412664090410554\n",
      "Gen: 6 - fit: 2.9412664090410554\n",
      "Gen: 7 - fit: 2.9412664090410554\n",
      "Gen: 8 - fit: 2.9412664090410554\n",
      "Gen: 9 - fit: 2.9412664090410554\n",
      "Gen: 11 - fit: 2.9412664090410554\n"
     ]
    },
    {
     "data": {
      "text/plain": [
       "(2.9412664090410554,Any[\"**START**\",\"what\",\"is\",\"the\",\"flight\",\"**END**\"])"
      ]
     },
     "execution_count": 17,
     "metadata": {},
     "output_type": "execute_result"
    }
   ],
   "source": [
    "optimise(atis_data,\"what is the shortest flight\", 1, 1, 0.1, 10000,20)"
   ]
  },
  {
   "cell_type": "code",
   "execution_count": 18,
   "metadata": {
    "collapsed": false
   },
   "outputs": [
    {
     "name": "stdout",
     "output_type": "stream",
     "text": [
      "Gen: 1 - fit: -Inf\n",
      "Gen: 2 - fit: 1.5393241009513545\n",
      "Gen: 3 - fit: 1.9561430275898823\n",
      "Gen: 4 - fit: 1.9561430275898823\n",
      "Gen: 5 - fit: 1.9561430275898823\n",
      "Gen: 6 - fit: 1.9643387905327887\n",
      "Gen: 7 - fit: 1.9643387905327887\n",
      "Gen: 8 - fit: 1.9643387905327887\n",
      "Gen: 9 - fit: 1.9643387905327887\n",
      "Gen: 11 - fit: 1.9643387905327887\n"
     ]
    },
    {
     "data": {
      "text/plain": [
       "(1.9643387905327887,Any[\"**START**\",\"what\",\"is\",\"the\",\"flight\",\"from\",\"boston\",\"to\",\"washington\",\"**END**\"])"
      ]
     },
     "execution_count": 18,
     "metadata": {},
     "output_type": "execute_result"
    }
   ],
   "source": [
    "optimise(atis_data,\"what is the first flight from washington to washington\", 1, 1, 0.1, 10000,20)"
   ]
  },
  {
   "cell_type": "code",
   "execution_count": 19,
   "metadata": {
    "collapsed": false
   },
   "outputs": [
    {
     "name": "stdout",
     "output_type": "stream",
     "text": [
      "Gen: 1 - fit: -Inf\n",
      "Gen: 2 - fit: 0.9565541331530678\n",
      "Gen: 3 - fit: 0.9565541331530678\n",
      "Gen: 4 - fit: 0.9565541331530678\n",
      "Gen: 5 - fit: 0.9565541331530678\n",
      "Gen: 6 - fit: 0.9565541331530678\n",
      "Gen: 7 - fit: 0.9565541331530678\n",
      "Gen: 8 - fit: 0.9565541331530678\n",
      "Gen: 9 - fit: 0.9565541331530678\n",
      "Gen: 11 - fit: 0.9565541331530678\n"
     ]
    },
    {
     "data": {
      "text/plain": [
       "(0.9565541331530678,Any[\"**START**\",\"what\",\"ground\",\"transportation\",\"**END**\"])"
      ]
     },
     "execution_count": 19,
     "metadata": {},
     "output_type": "execute_result"
    }
   ],
   "source": [
    "optimise(atis_data,\"what are the ground transport options\", 1, 1, 0.1, 1000,20)"
   ]
  },
  {
   "cell_type": "code",
   "execution_count": 20,
   "metadata": {
    "collapsed": false
   },
   "outputs": [
    {
     "name": "stdout",
     "output_type": "stream",
     "text": [
      "Gen: 1 - fit: -Inf\n",
      "Gen: 2 - fit: 0.9867084973755195\n",
      "Gen: 3 - fit: 0.9867084973755195\n",
      "Gen: 4 - fit: 0.9867084973755195\n",
      "Gen: 5 - fit: 0.9867084973755195\n",
      "Gen: 6 - fit: 0.9867084973755195\n",
      "Gen: 7 - fit: 0.9867084973755195\n",
      "Gen: 8 - fit: 0.9867084973755195\n",
      "Gen: 9 - fit: 0.9867084973755195\n",
      "Gen: 11 - fit: 0.9867084973755195\n"
     ]
    },
    {
     "data": {
      "text/plain": [
       "(0.9867084973755195,Any[\"**START**\",\"can\",\"you\",\"**END**\"])"
      ]
     },
     "execution_count": 20,
     "metadata": {},
     "output_type": "execute_result"
    }
   ],
   "source": [
    "optimise(atis_data,\"where can i go\", 1, 1, 0.1, 1000,20)"
   ]
  },
  {
   "cell_type": "code",
   "execution_count": 21,
   "metadata": {
    "collapsed": false
   },
   "outputs": [
    {
     "data": {
      "text/plain": [
       "1120"
      ]
     },
     "execution_count": 21,
     "metadata": {},
     "output_type": "execute_result"
    }
   ],
   "source": [
    "atis_data[\"word_indexes\"][START_MARKER]\n",
    "    "
   ]
  },
  {
   "cell_type": "code",
   "execution_count": 22,
   "metadata": {
    "collapsed": false
   },
   "outputs": [
    {
     "name": "stderr",
     "output_type": "stream",
     "text": [
      "warning: push.default is unset; its implicit value is changing in\n",
      "Git 2.0 from 'matching' to 'simple'. To squelch this message\n",
      "and maintain the current behavior after the default changes, use:\n",
      "\n",
      "  git config --global push.default matching\n",
      "\n",
      "To squelch this message and adopt the new behavior now, use:\n",
      "\n",
      "  git config --global push.default simple\n",
      "\n",
      "When push.default is set to 'matching', git will push local branches\n",
      "to the remote branches that already exist with the same name.\n",
      "\n",
      "In Git 2.0, Git will default to the more conservative 'simple'\n",
      "behavior, which only pushes the current branch to the corresponding\n",
      "remote branch that 'git pull' uses to update the current branch.\n",
      "\n",
      "See 'git help config' and search for 'push.default' for further information.\n",
      "(the 'simple' mode was introduced in Git 1.7.11. Use the similar mode\n",
      "'current' instead of 'simple' if you sometimes use older versions of Git)\n",
      "\n",
      "Everything up-to-date\n"
     ]
    }
   ],
   "source": [
    "`git push\"\"` |> run"
   ]
  },
  {
   "cell_type": "code",
   "execution_count": null,
   "metadata": {
    "collapsed": true
   },
   "outputs": [],
   "source": []
  }
 ],
 "metadata": {
  "kernelspec": {
   "display_name": "Julia 0.5.0-dev",
   "language": "julia",
   "name": "julia-0.5"
  },
  "language_info": {
   "file_extension": ".jl",
   "mimetype": "application/julia",
   "name": "julia",
   "version": "0.5.0"
  }
 },
 "nbformat": 4,
 "nbformat_minor": 0
}
