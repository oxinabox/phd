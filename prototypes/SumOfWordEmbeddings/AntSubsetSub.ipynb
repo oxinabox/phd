{
 "cells": [
  {
   "cell_type": "code",
   "execution_count": 1,
   "metadata": {
    "collapsed": false
   },
   "outputs": [
    {
     "data": {
      "text/plain": [
       "4-element Array{ByteString,1}:\n",
       " \"/home/ubuntu/build/julia-master/usr/local/share/julia/site/v0.5\"\n",
       " \"/home/ubuntu/build/julia-master/usr/share/julia/site/v0.5\"      \n",
       " \".\"                                                              \n",
       " \"../util/\"                                                       "
      ]
     },
     "execution_count": 1,
     "metadata": {},
     "output_type": "execute_result"
    }
   ],
   "source": [
    "using Iterators\n",
    "using Pipe\n",
    "using Compat\n",
    "\n",
    "macro printval(ee)\n",
    "    ee_expr = @sprintf \"%s\" string(ee)\n",
    "    esc(:(println($ee_expr,\" = \", $ee)))\n",
    "end\n",
    "\n",
    "macro pz(ee)\n",
    "    ee_expr = @sprintf \"%s\" string(ee)\n",
    "    esc(:(println($ee_expr,\"\\t\\t\",typeof($ee), \"\\t\", size($ee))))\n",
    "end\n",
    "\n",
    "push!(LOAD_PATH, \".\")\n",
    "push!(LOAD_PATH, \"../util/\")"
   ]
  },
  {
   "cell_type": "code",
   "execution_count": 2,
   "metadata": {
    "collapsed": false
   },
   "outputs": [
    {
     "data": {
      "text/plain": [
       "11-element Array{Int64,1}:\n",
       "  2\n",
       "  3\n",
       "  4\n",
       "  5\n",
       "  6\n",
       "  7\n",
       "  8\n",
       "  9\n",
       " 10\n",
       " 11\n",
       " 12"
      ]
     },
     "execution_count": 2,
     "metadata": {},
     "output_type": "execute_result"
    }
   ],
   "source": [
    "addprocs(11)"
   ]
  },
  {
   "cell_type": "code",
   "execution_count": 3,
   "metadata": {
    "collapsed": false,
    "scrolled": true
   },
   "outputs": [
    {
     "name": "stderr",
     "output_type": "stream",
     "text": [
      "WARNING: replacing module Distances\n",
      "WARNING: replacing module Distances\n",
      "WARNING: replacing module Distances\n",
      "WARNING: replacing module Distances\n",
      "WARNING: replacing module Distances\n",
      "WARNING: replacing module Distances\n",
      "WARNING: replacing module Distances\n",
      "WARNING: replacing module Distances\n",
      "WARNING: replacing module Distances\n",
      "WARNING: replacing module Distances\n",
      "WARNING: replacing module Distances\n"
     ]
    }
   ],
   "source": [
    "@everywhere using Distances"
   ]
  },
  {
   "cell_type": "code",
   "execution_count": 4,
   "metadata": {
    "collapsed": false,
    "scrolled": true
   },
   "outputs": [
    {
     "data": {
      "text/plain": [
       "Dict{ASCIIString,Any} with 7 entries:\n",
       "  \"zeroed_words\"  => ASCIIString[]\n",
       "  \"length_prob\"   => [0.00273293,0.0141963,0.0332591,0.054354,0.0725396,0.08505…\n",
       "  \"LL\"            => 300x1126 Array{Float64,2}:…\n",
       "  \"indexed_words\" => AbstractString[\"the\",\"of\",\"to\",\"and\",\"in\",\"a\",\"for\",\"that\"…\n",
       "  \"test_set\"      => [SubString{ASCIIString}[\"what\",\"is\",\"the\",\"cheapest\",\"way\"…\n",
       "  \"trigrams\"      => Any[(\"**START1**\",\"**START2**\",\"what\"),(\"**START2**\",\"what…\n",
       "  \"word_indexes\"  => Dict{AbstractString,Int64}(\"carried\"=>452,\"diabetic\"=>1069…"
      ]
     },
     "execution_count": 4,
     "metadata": {},
     "output_type": "execute_result"
    }
   ],
   "source": [
    "\n",
    "@everywhere atis_data = open(\"atis_data2.jsz\",\"r\") do fh\n",
    "    deserialize(fh)    \n",
    "end\n",
    "test_set = atis_data[\"test_set\"];\n",
    "atis_data"
   ]
  },
  {
   "cell_type": "code",
   "execution_count": 5,
   "metadata": {
    "collapsed": false
   },
   "outputs": [],
   "source": [
    "@everywhere function lookup_sowe(data, sent::AbstractString)\n",
    "    lookup_sowe(data, sent |> split)\n",
    "end\n",
    "\n",
    "@everywhere function lookup_sowe{S<:AbstractString}(data, sent::Vector{S})\n",
    "    sum([data[\"LL\"][:,data[\"word_indexes\"][word]] for word in sent]) \n",
    "end\n",
    "\n",
    "@everywhere function lookup_words(data, path)\n",
    "    [data[\"indexed_words\"][ii] for ii in path]\n",
    "end"
   ]
  },
  {
   "cell_type": "code",
   "execution_count": 57,
   "metadata": {
    "collapsed": false
   },
   "outputs": [],
   "source": [
    "@everywhere const ϵ = 10.0^-6"
   ]
  },
  {
   "cell_type": "code",
   "execution_count": 71,
   "metadata": {
    "collapsed": false,
    "scrolled": true
   },
   "outputs": [],
   "source": [
    "\n",
    "\n",
    "@everywhere @inline function get_end(LL, ws::Vector{Int64})\n",
    "    @inbounds sofar = length(ws)>0 ? sum([LL[:,ii] for ii in ws]) : zeros(LL[:,1])\n",
    "    sofar\n",
    "end\n",
    "\n",
    "@everywhere function score_possible_additions(LL, target, ws)\n",
    "    @inbounds end_point = get_end(LL, ws) #PREM-OPT\n",
    "    -pairwise(Euclidean(), LL, (target-end_point)'');\n",
    "end   \n",
    "\n",
    "@everywhere  @inline function fitness(LL, target, ws::Vector{Int64})\n",
    "    #Fitter is smaller\n",
    "    @inbounds end_point = get_end(LL, ws) #PREM-OPT\n",
    "    -euclidean(end_point, target)   \n",
    "end\n",
    "\n",
    "@everywhere function greedy_addition(LL::Matrix{Float64},\n",
    "                         target::Vector{Float64},\n",
    "                         best_word_set::Vector{Int},\n",
    "                         max_additions = Inf)\n",
    "    best_score = fitness(LL, target, best_word_set)\n",
    "    did_improve = true\n",
    "    cur_additions = 0\n",
    "    while(did_improve && cur_additions<max_additions)\n",
    "        cur_additions+=1\n",
    "        did_improve=false\n",
    "        addition_scores = score_possible_additions(LL, target, best_word_set)\n",
    "        addition_score, addition = findmax(addition_scores)\n",
    "        if addition_score>best_score+ϵ\n",
    "            #println(\"!$addition $addition_score $best_score\")\n",
    "            best_score=addition_score\n",
    "            best_word_set = [best_word_set...,addition]\n",
    "            did_improve=true\n",
    "        end\n",
    "    end\n",
    "    best_word_set,best_score\n",
    "end\n",
    "\n",
    "@everywhere function word_swap_refinement(LL::Matrix{Float64},\n",
    "                              target::Vector{Float64},\n",
    "                              best_word_set::Vector{Int}, \n",
    "                              max_swaps=1)\n",
    "    \n",
    "    initial_word_set = copy(best_word_set)\n",
    "    best_score = fitness(LL, target, best_word_set)\n",
    "    \n",
    "    function update_best!(word_set,score)\n",
    "        if score>best_score+ϵ #scores are negative\n",
    "            best_score=score\n",
    "            best_word_set = word_set\n",
    "            #println(\"*$score $word_set\")\n",
    "        end\n",
    "    end\n",
    "        \n",
    "    if max_swaps>0\n",
    "        for ii in 1:length(initial_word_set)\n",
    "            word_set = initial_word_set[[1:ii-1; ii+1:end]]\n",
    "            \n",
    "            swap2_word_set, swap2_score =  word_swap_refinement(LL, target, word_set, max_swaps-1)\n",
    "            #The return of swap2 will also cover removing just one\n",
    "            update_best!(swap2_word_set, swap2_score)\n",
    "            \n",
    "            add_word_set, add_score = greedy_addition(LL, target, word_set, 1) #Try adding just one greedily\n",
    "            update_best!(add_word_set, add_score)\n",
    "            \n",
    "        end\n",
    "    end\n",
    "    best_word_set,best_score\n",
    "        \n",
    "end\n",
    "\n",
    "\n",
    "\n",
    "@everywhere function greedy_search{S<:AbstractString}(data::Dict, target_sent::Vector{S}, max_swaps=1, rounds=3; log=false)\n",
    "    target::Vector{Float64} = lookup_sowe(data,target_sent)\n",
    "    greedy_search(data, target, max_swaps, rounds, log=log)\n",
    "        \n",
    "end\n",
    "\n",
    "@everywhere function greedy_search(data::Dict, target::Vector{Float64}, max_swaps=1, rounds=3; log=false)\n",
    "    get_words(word_iis) = [data[\"indexed_words\"][ii] for ii in word_iis]\n",
    "    \n",
    "    word_iis = Int[]\n",
    "    score=-Inf\n",
    "    for round in 1:rounds\n",
    "        word_iis,score = greedy_addition(data[\"LL\"], target, word_iis)\n",
    "        log && println(\"+$score $(get_words(word_iis))\")\n",
    "        if score>=0 break end\n",
    "        word_iis,score = word_swap_refinement(data[\"LL\"], target, word_iis, max_swaps)\n",
    "        log && println(\"-$score $(get_words(word_iis))\")\n",
    "        if score>=0 break end\n",
    "    end\n",
    "    get_words(word_iis),score\n",
    "        \n",
    "end"
   ]
  },
  {
   "cell_type": "code",
   "execution_count": 72,
   "metadata": {
    "collapsed": false
   },
   "outputs": [
    {
     "name": "stdout",
     "output_type": "stream",
     "text": [
      "+-2.384185791015625e-7 Any[\"what\",\"to\",\"flight\",\"the\",\"denver\",\"is\",\"from\",\"cheapest\",\"oakland\"]\n"
     ]
    },
    {
     "data": {
      "text/plain": [
       "(Any[\"what\",\"to\",\"flight\",\"the\",\"denver\",\"is\",\"from\",\"cheapest\",\"oakland\"],-0.0)"
      ]
     },
     "execution_count": 72,
     "metadata": {},
     "output_type": "execute_result"
    },
    {
     "name": "stdout",
     "output_type": "stream",
     "text": [
      "--0.0 Any[\"what\",\"to\",\"flight\",\"the\",\"denver\",\"is\",\"from\",\"cheapest\",\"oakland\"]\n"
     ]
    }
   ],
   "source": [
    "greedy_search(atis_data, test_set[3], 1,5, log=true)"
   ]
  },
  {
   "cell_type": "code",
   "execution_count": 56,
   "metadata": {
    "collapsed": false
   },
   "outputs": [
    {
     "data": {
      "text/plain": [
       "Array{Float64,2}"
      ]
     },
     "execution_count": 56,
     "metadata": {},
     "output_type": "execute_result"
    }
   ],
   "source": [
    "atis_data[\"LL\"] |> typeof"
   ]
  },
  {
   "cell_type": "code",
   "execution_count": 60,
   "metadata": {
    "collapsed": false
   },
   "outputs": [
    {
     "name": "stdout",
     "output_type": "stream",
     "text": [
      "please tell me what flights depart from baltimore and arrive in boston on tuesday november twenty\n",
      "+-10.820996388837528 Any[\"we\",\"to\",\"on\",\"night\",\"from\",\"flights\",\"you\",\"york\",\"june\",\"arrive\",\"boston\",\"tell\",\"eleven\",\"in\",\"depart\"]\n",
      "--9.802471474309137 Any[\"we\",\"to\",\"on\",\"night\",\"from\",\"flights\",\"york\",\"june\",\"arrive\",\"boston\",\"tell\",\"eleven\",\"in\",\"depart\",\"me\"]\n",
      "+-9.802471474309135 Any[\"we\",\"to\",\"on\",\"night\",\"from\",\"flights\",\"york\",\"june\",\"arrive\",\"boston\",\"tell\",\"eleven\",\"in\",\"depart\",\"me\"]\n",
      "--8.814432430473824 Any[\"we\",\"to\",\"on\",\"night\",\"from\",\"flights\",\"june\",\"arrive\",\"boston\",\"tell\",\"eleven\",\"in\",\"depart\",\"me\",\"baltimore\"]\n",
      "+-8.222306921451592 Any[\"we\",\"to\",\"on\",\"night\",\"from\",\"flights\",\"june\",\"arrive\",\"boston\",\"tell\",\"eleven\",\"in\",\"depart\",\"me\",\"baltimore\",\"please\"]\n",
      "--7.080138070835549 Any[\"we\",\"on\",\"night\",\"from\",\"flights\",\"june\",\"arrive\",\"boston\",\"tell\",\"eleven\",\"in\",\"depart\",\"me\",\"baltimore\",\"please\",\"and\"]\n"
     ]
    },
    {
     "data": {
      "text/plain": [
       "(Any[\"we\",\"on\",\"night\",\"from\",\"flights\",\"june\",\"arrive\",\"boston\",\"tell\",\"eleven\",\"in\",\"depart\",\"me\",\"baltimore\",\"please\",\"and\"],-7.080138070835549)"
      ]
     },
     "execution_count": 60,
     "metadata": {},
     "output_type": "execute_result"
    },
    {
     "name": "stdout",
     "output_type": "stream",
     "text": [
      "  0.124897 seconds (93.73 k allocations: 16.329 MB, 13.47% gc time)\n"
     ]
    }
   ],
   "source": [
    "target_sent = test_set[161]\n",
    "println(join(target_sent, \" \"))\n",
    "@time sol, score = greedy_search(atis_data, target_sent, log=true)\n",
    "\n"
   ]
  },
  {
   "cell_type": "code",
   "execution_count": null,
   "metadata": {
    "collapsed": false
   },
   "outputs": [],
   "source": []
  },
  {
   "cell_type": "code",
   "execution_count": 61,
   "metadata": {
    "collapsed": false,
    "scrolled": true
   },
   "outputs": [
    {
     "data": {
      "text/plain": [
       "13038-element Array{Any,1}:\n",
       " (Any[\"to\",\"to\",\"way\",\"the\",\"denver\",\"is\",\"fly\",\"from\",\"cheapest\",\"oakland\",\"what\"],-0.0,1)                                               \n",
       " (Any[\"to\",\"to\",\"i\",\"denver\",\"from\",\"oakland\",\"go\",\"want\"],-0.0,2)                                                                        \n",
       " (Any[\"what\",\"to\",\"flight\",\"the\",\"denver\",\"is\",\"from\",\"cheapest\",\"oakland\"],-0.0,3)                                                       \n",
       " (Any[\"please\",\"one\",\"way\"],-0.0,4)                                                                                                       \n",
       " (Any[\"i\",\"to\",\"m\",\"after\",\"leave\",\"p\",\"five\",\"want\"],-0.0,5)                                                                             \n",
       " (Any[\"to\",\"i\",\"to\",\"philadelphia\",\"want\",\"from\",\"dallas\",\"go\",\"sure\"],-0.0,6)                                                            \n",
       " (Any[\"will\",\"be\",\"flights\",\"on\",\"lunch\",\"served\",\"which\"],-0.0,7)                                                                        \n",
       " (Any[\"flights\",\"serve\",\"lunch\",\"which\"],-0.0,8)                                                                                          \n",
       " (Any[\"you\",\"thank\"],-0.0,9)                                                                                                              \n",
       " (Any[\"i\",\"live\",\"denver\",\"in\"],-0.0,10)                                                                                                  \n",
       " (Any[\"to\",\"to\",\"atlanta\",\"from\",\"pittsburgh\",\"fly\",\"like\",\"denver\",\"and\",\"i\",\"would\"],-0.0,11)                                           \n",
       " (Any[\"to\",\"atlanta\",\"flight\",\"is\",\"from\",\"denver\",\"expensive\",\"the\",\"least\",\"what\"],-0.0,12)                                             \n",
       " (Any[\"a\",\"trip\",\"there\",\"round\",\"flight\",\"in\",\"pittsburgh\",\"stops\",\"is\",\"that\"],-0.0,13)                                                 \n",
       " ⋮                                                                                                                                        \n",
       " (Any[\"is\",\"b\",\"downtown\",\"available\",\"baltimore\",\"ground\",\"transportation\",\"w\",\"to\",\"what\",\"i\"],-0.0,13027)                              \n",
       " (Any[\"aircraft\",\"american\",\"of\",\"airlines\",\"six\",\"type\",\"hundred\",\"is\",\"what\"],-0.0,13028)                                               \n",
       " (Any[\"washington\",\"the\",\"airport\",\"is\",\"cost\",\"of\",\"transportation\",\"ground\",\"baltimore\",\"what\"],-0.0,13029)                             \n",
       " (Any[\"aircraft\",\"one\",\"air\",\"one\",\"two\",\"is\",\"type\",\"flight\",\"s\",\"of\",\"u\",\"what\",\"six\"],-0.0,13030)                                      \n",
       " (Any[\"airport\",\"to\",\"pittsburgh\",\"available\",\"ground\",\"transportation\",\"pittsburgh\",\"from\",\"is\",\"downtown\",\"what\"],-0.0,13031)           \n",
       " (Any[\"is\",\"airport\",\"the\",\"dallas\",\"between\",\"available\",\"transportation\",\"ground\",\"dallas\",\"is\",\"and\",\"downtown\",\"what\"],-0.0,13032)    \n",
       " (Any[\"airport\",\"worth\",\"dallas\",\"fort\",\"to\",\"available\",\"downtown\",\"from\",\"transportation\",\"ground\",\"dallas\",\"is\",\"what\"],-0.0,13033)    \n",
       " (Any[\"airport\",\"baltimore\",\"to\",\"what\",\"transportation\",\"from\",\"ground\",\"baltimore\",\"is\",\"downtown\"],-0.0,13034)                         \n",
       " (Any[\"airport\",\"to\",\"baltimore\",\"available\",\"washington\",\"transportation\",\"ground\",\"baltimore\",\"from\",\"is\",\"downtown\",\"what\"],-0.0,13035)\n",
       " (Any[\"airport\",\"to\",\"pittsburgh\",\"available\",\"ground\",\"transportation\",\"pittsburgh\",\"from\",\"is\",\"downtown\",\"what\"],-0.0,13036)           \n",
       " (Any[\"to\",\"boston\",\"to\",\"to\",\"boston\",\"pittsburgh\",\"the\",\"from\",\"fare\",\"baltimore\",\"is\",\"to\",\"cheapest\",\"dallas\",\"what\"],-0.0,13037)     \n",
       " (Any[\"round\",\"trip\"],-0.0,13038)                                                                                                         "
      ]
     },
     "execution_count": 61,
     "metadata": {},
     "output_type": "execute_result"
    }
   ],
   "source": [
    "res = pmap([1:length(test_set);], test_set) do ii,target_sent\n",
    "    sol, score = greedy_search(atis_data, target_sent, 1, 5, log=false)\n",
    "    (sol, score, ii)\n",
    "end"
   ]
  },
  {
   "cell_type": "code",
   "execution_count": 62,
   "metadata": {
    "collapsed": false
   },
   "outputs": [],
   "source": [
    "open(\"atis_res_glove.jsz\",\"w\") do fh\n",
    "    serialize(fh, (Vector{ASCIIString}[sol for (sol, score, ii) in res], test_set)\n",
    "    )    \n",
    "end\n",
    "\n"
   ]
  },
  {
   "cell_type": "code",
   "execution_count": 108,
   "metadata": {
    "collapsed": false
   },
   "outputs": [
    {
     "data": {
      "text/plain": [
       "(Any[\"flights\",\"serve\"],-5.332813666788857)"
      ]
     },
     "execution_count": 108,
     "metadata": {},
     "output_type": "execute_result"
    }
   ],
   "source": [
    "se = lookup_sowe(atis_data, [\"flights\",\"serve\",\"lunch\",\"which\"])\n",
    "se=se*0.6\n",
    "greedy_search(atis_data, se, 1, 5, log=false)"
   ]
  },
  {
   "cell_type": "code",
   "execution_count": null,
   "metadata": {
    "collapsed": false,
    "scrolled": true
   },
   "outputs": [],
   "source": [
    "hard_cases = find(x->x[2]<0, res)\n",
    "res[hard_cases]"
   ]
  },
  {
   "cell_type": "code",
   "execution_count": null,
   "metadata": {
    "collapsed": false
   },
   "outputs": [],
   "source": [
    "test_set[hard_cases]"
   ]
  },
  {
   "cell_type": "code",
   "execution_count": null,
   "metadata": {
    "collapsed": false,
    "scrolled": true
   },
   "outputs": [],
   "source": [
    "hard_set =  test_set[hard_cases]\n",
    "\n",
    "hard_res = pmap([1:length(hard_set);], hard_set) do ii,target_sent\n",
    "    sol, score = greedy_search(atis_data, target_sent, 2,5, log=false)\n",
    "    (sol, score, ii)\n",
    "end"
   ]
  },
  {
   "cell_type": "code",
   "execution_count": null,
   "metadata": {
    "collapsed": false
   },
   "outputs": [],
   "source": [
    "very_hard_cases = find(x->x[2]<0.0, hard_res)"
   ]
  },
  {
   "cell_type": "code",
   "execution_count": null,
   "metadata": {
    "collapsed": false
   },
   "outputs": [],
   "source": [
    "factorial(14)"
   ]
  },
  {
   "cell_type": "code",
   "execution_count": null,
   "metadata": {
    "collapsed": false
   },
   "outputs": [],
   "source": [
    "hard_res[very_hard_cases]"
   ]
  },
  {
   "cell_type": "code",
   "execution_count": null,
   "metadata": {
    "collapsed": false
   },
   "outputs": [],
   "source": [
    "\n",
    "\n",
    "for (ii,target_sent) in enumerate(test_set)\n",
    "    sol, score = greedy_search(atis_data, target_sent, log=false)\n",
    "    if score>0\n",
    "        print(\"$ii - \")\n",
    "        println(join(target_sent, \" \"))\n",
    "    end\n",
    "end\n",
    "    "
   ]
  },
  {
   "cell_type": "code",
   "execution_count": null,
   "metadata": {
    "collapsed": false
   },
   "outputs": [],
   "source": [
    "enumerate(test_set) |> collect"
   ]
  },
  {
   "cell_type": "code",
   "execution_count": null,
   "metadata": {
    "collapsed": true
   },
   "outputs": [],
   "source": []
  },
  {
   "cell_type": "code",
   "execution_count": null,
   "metadata": {
    "collapsed": false,
    "scrolled": true
   },
   "outputs": [],
   "source": [
    "# τ = Pheromone\n",
    "# η = Prior\n",
    "# α = pheremone weight\n",
    "# β = prior weight\n",
    "# ρ = pheremone evaporation\n",
    "\n",
    "@everywhere @inline function select_index{V<:AbstractVector}(edge_probs::V)\n",
    "    cutoff = rand()\n",
    "    total = 0.0\n",
    "    @assert(length(edge_probs)>0, \"No probs given\")\n",
    "    for (ii,prob) in enumerate(edge_probs)\n",
    "        total+=prob\n",
    "        if total>=cutoff\n",
    "            return ii\n",
    "        end\n",
    "    end\n",
    "    \n",
    "    @assert(total>=cutoff, \"total= $total, cutoff=$cutoff, $edge_probs\") #Should Never Reach this point\n",
    "end\n",
    "\n",
    "\n",
    "@everywhere function evaporate!{M<:AbstractArray}(τ::M, ρ)\n",
    "    τ.*=(1.0-ρ) #Evaporation\n",
    "end\n",
    "\n",
    "    \n",
    "\n",
    "@everywhere function deposit!{M<:AbstractVector}(τ::M, path, fit)\n",
    "    #Are You In or Out?  Double Crosser or Devout\n",
    "    #Order actually means nothing in this problem\n",
    "    #Cooccurance doesn't really many anything either\n",
    "    #Cooccurance is a problem for the prior that need \n",
    "    #to be conerned with all answers not just this one\n",
    "    for node in path\n",
    "        @inbounds τ[node] += fit./length(path)\n",
    "    end\n",
    "    τ\n",
    "end\n",
    "\n",
    "@everywhere function get_edge_probs(τ,η::Function, α, β)\n",
    "    τ_scaled = (τ).^α\n",
    "    function get_prob(state)\n",
    "        η_scaled = (η(state)).^β\n",
    "        tot = τ_scaled .* τ_scaled\n",
    "        tot./sum(tot)\n",
    "    end\n",
    "end\n",
    "\n",
    "@everywhere @inline function select_node(edge_probs::Function, path=[])\n",
    "    select_index(edge_probs(path))\n",
    "end\n"
   ]
  },
  {
   "cell_type": "code",
   "execution_count": null,
   "metadata": {
    "collapsed": false
   },
   "outputs": [],
   "source": [
    "sort!([-1,-2,32,23,42], by=pf->pf)"
   ]
  },
  {
   "cell_type": "code",
   "execution_count": null,
   "metadata": {
    "collapsed": false
   },
   "outputs": [],
   "source": [
    "#If you pass in a start index of greater than zero, then atre using a starting index, otherswise not\n",
    "@everywhere function run_ant(edge_probs, end_prob_dist)\n",
    "    path = Int[]\n",
    "    len = select_index(end_prob_dist)\n",
    "    for _ in 1:len\n",
    "        push!(path, select_node(edge_probs, path))\n",
    "    end\n",
    "    path    \n",
    "end\n",
    "\n",
    "\n",
    "function optimise(fit_fun, τ, η, end_prob_dist;  α=1, β=1,ρ=0, n_ants=100, n_gens=10, callback=Union{})\n",
    "    assert(α>=1.0)\n",
    "    assert(β>=1.0)\n",
    "    assert(0.0<=ρ<1.0)\n",
    "    \n",
    "    max_fit::Float64 = -Inf;\n",
    "    fittest_path::Vector{Int} = []\n",
    "    \n",
    "    for gen_ii in 1:n_gens\n",
    "\n",
    "        edge_probs = get_edge_probs(τ,η, α, β)\n",
    "\n",
    "        path_fits::Vector{Tuple{Vector{Int},Float64}} = map(1:n_ants) do ant_id\n",
    "            path::Vector{Int} = run_ant(edge_probs, end_prob_dist)\n",
    "            fit::Float64 = fit_fun(path)\n",
    "            (path, fit)\n",
    "        end\n",
    "        \n",
    "        ranked_path_fits = select!(path_fits,1:100, by=pf->-pf[2])\n",
    "        scales = 100:-1:1\n",
    "        \n",
    "        evaporate!(τ,ρ)\n",
    "        for ((path, fit),scale) in zip(ranked_path_fits,scales)\n",
    "        #for (path, fit) in path_fits\n",
    "            if fit>max_fit\n",
    "                max_fit = fit\n",
    "                fittest_path = path\n",
    "                \n",
    "                if fit==Inf #Perfect Fit\n",
    "                    return fittest_path, max_fit\n",
    "                end\n",
    "            end\n",
    "            deposit!(τ,path, fit)\n",
    "        end\n",
    "        \n",
    "        if callback |> typeof <:Function\n",
    "            callback(gen_ii, τ,fittest_path,max_fit,path_fits)\n",
    "        end\n",
    "        \n",
    "    end #Next Generation\n",
    "    \n",
    "    fittest_path, max_fit, τ\n",
    "end\n",
    "\n",
    "\n",
    "function optimise(fit_fun, n_dims::Int64, η::Function, end_prob_dist; kwargs...)\n",
    "    τ = [rand() for nn in 1:n_dims]\n",
    "    \n",
    "    optimise(fit_fun, τ, η, end_prob_dist;kwargs...)\n",
    "end\n"
   ]
  },
  {
   "cell_type": "code",
   "execution_count": null,
   "metadata": {
    "collapsed": false
   },
   "outputs": [],
   "source": [
    "@fastmath function get_prior_fun(uni_occur,bi_occur)\n",
    "    n_edges=length(uni_occur)\n",
    "    function prior(ws)\n",
    "        if length(ws)==0\n",
    "            uni_occur\n",
    "        elseif length(ws)==1\n",
    "            bi_occur[:,ws[1]]\n",
    "        else\n",
    "            (uni_occur + sum([bi_occur[:,w] for w in ws]))/(length(ws)+1) #Just average them cos its cheap\n",
    "        end\n",
    "    end    \n",
    "end\n",
    "\n",
    "\n"
   ]
  },
  {
   "cell_type": "code",
   "execution_count": null,
   "metadata": {
    "collapsed": false
   },
   "outputs": [],
   "source": []
  },
  {
   "cell_type": "code",
   "execution_count": null,
   "metadata": {
    "collapsed": false
   },
   "outputs": [],
   "source": [
    "function built_optimise(data::Dict, target_sent::AbstractString, log=False; kwargs...)\n",
    "    target::Vector{Float64} = lookup_sowe(data,target_sent)\n",
    "    LL =data[\"LL\"]\n",
    "    indexed_words=data[\"indexed_words\"]\n",
    "    @inline function fitness(path)\n",
    "        #Fitter is larger\n",
    "        @inbounds path_end = sum([LL[:,ii] for ii in path]) \n",
    "        -1.0*euclidean(path_end, target)\n",
    "    end\n",
    "\n",
    "    τlog=[]\n",
    "    if log\n",
    "        log = (gen_ii, τ,fittest_path,max_fit, path_fits) -> begin\n",
    "            print(\"oGen: $gen_ii - fit: $max_fit \")\n",
    "            print(lookup_words(data, fittest_path))\n",
    "            #path_lens = [length(pf[1]) for pf in path_fits]\n",
    "            #print(\"mean_len = $(mean(path_lens))\")\n",
    "            #print(\" max_len = $(maximum(path_lens))\")\n",
    "            println()\n",
    "            push!(τlog,copy(τ))\n",
    "            \n",
    "        end\n",
    "    end\n",
    "    \n",
    "    n_dims = size(LL,2)\n",
    "    length_dist = data[\"length_prob\"]\n",
    "    #length_dist = ws->0.5\n",
    "    prior = get_prior_fun(data[\"unioccur\"], data[\"bioccur\"])\n",
    "       \n",
    "    \n",
    "    \n",
    "    path, score, τ = optimise(fitness,n_dims, prior, length_dist; callback=log, kwargs...)\n",
    "    push!(τlog,τ)\n",
    "    score,lookup_words(data, path), τlog\n",
    "end"
   ]
  },
  {
   "cell_type": "code",
   "execution_count": null,
   "metadata": {
    "collapsed": false,
    "scrolled": true
   },
   "outputs": [],
   "source": [
    "@time score, words, τlog = built_optimise(atis_data,\"show flights from washington to san francisco\", true;\n",
    "α=1, β=1, ρ=0.2, n_ants=10000, n_gens=10);\n",
    "words"
   ]
  },
  {
   "cell_type": "code",
   "execution_count": null,
   "metadata": {
    "collapsed": true
   },
   "outputs": [],
   "source": []
  },
  {
   "cell_type": "code",
   "execution_count": null,
   "metadata": {
    "collapsed": false
   },
   "outputs": [],
   "source": []
  },
  {
   "cell_type": "code",
   "execution_count": null,
   "metadata": {
    "collapsed": false
   },
   "outputs": [],
   "source": [
    "greedy_local_search(atis_data, \"show flights from washington to san francisco\", AbstractString[])"
   ]
  },
  {
   "cell_type": "code",
   "execution_count": null,
   "metadata": {
    "collapsed": false
   },
   "outputs": [],
   "source": [
    "greedy_local_search(atis_data, \"show cheapest flights\")"
   ]
  },
  {
   "cell_type": "code",
   "execution_count": null,
   "metadata": {
    "collapsed": false
   },
   "outputs": [],
   "source": [
    "greedy_local_search(atis_data, \"show cheapest flight from washington to san francisco\", AbstractString[])"
   ]
  },
  {
   "cell_type": "code",
   "execution_count": null,
   "metadata": {
    "collapsed": false
   },
   "outputs": [],
   "source": [
    "greedy_local_search(atis_data, \"show cheapest and shortest flights from washington to san francisco\", AbstractString[])"
   ]
  },
  {
   "cell_type": "code",
   "execution_count": null,
   "metadata": {
    "collapsed": false
   },
   "outputs": [],
   "source": [
    "target = lookup_sowe(atis_data,\"show cheapest flights from washington to san francisco\")\n",
    "target += lookup_sowe(atis_data,\"show shortest flights from washington to san francisco\")\n",
    "target./=1.6\n",
    "greedy_local_search(atis_data,target)"
   ]
  },
  {
   "cell_type": "code",
   "execution_count": null,
   "metadata": {
    "collapsed": false
   },
   "outputs": [],
   "source": [
    "`git push` |> run"
   ]
  },
  {
   "cell_type": "code",
   "execution_count": null,
   "metadata": {
    "collapsed": true
   },
   "outputs": [],
   "source": []
  },
  {
   "cell_type": "code",
   "execution_count": null,
   "metadata": {
    "collapsed": false,
    "scrolled": true
   },
   "outputs": [],
   "source": [
    "using UnicodePlots\n",
    "using IJulia\n",
    "\n",
    "for τ in τlog\n",
    "    nw = zip(τ,atis_data[\"indexed_words\"]) |> collect\n",
    "    \n",
    "    freq,name = zip(select!(nw, 1:min(20,length(nw)), by=fw->-fw[1])...) |> collect\n",
    "    IJulia.display(barplot(name|> collect,freq|> collect))\n",
    "end\n"
   ]
  },
  {
   "cell_type": "code",
   "execution_count": null,
   "metadata": {
    "collapsed": false
   },
   "outputs": [],
   "source": []
  },
  {
   "cell_type": "code",
   "execution_count": null,
   "metadata": {
    "collapsed": false
   },
   "outputs": [],
   "source": [
    "using DataStructures\n",
    "using DataStructuresExtended\n",
    "\n",
    "\n",
    "@fastmath function get_prior_fun(uni_occur, bi_joint, prob_length, end_index)\n",
    "    n_edges=length(uni_occur)\n",
    "    bi_marginal = sum(bi_joint,1)\n",
    "    bi_conditional = bi_joint./bi_marginal\n",
    "  \n",
    "    \n",
    "    @inline function joint(aa::Int64)\n",
    "        @inbounds ret = bi_marginal[aa]\n",
    "        ret\n",
    "    end\n",
    "    \n",
    "    @inline function joint(aa::Int64,bb::Int64)\n",
    "        @inbounds ret = bi_joint[aa, bb]\n",
    "        ret\n",
    "    end\n",
    "    \n",
    "    joint_cache_stats = Dict([(\"hits\",0), (\"misses\",0)])\n",
    "    joint_cache = Dict{Accumulator{Int64,Int64}, Float64}() #TODO Should Use a multiset instead to index\n",
    "    @inline function joint(xxs...) \n",
    "        @assert(length(xxs)>=3)\n",
    "        xxs_bag = counter(Int64, xxs) \n",
    "        if !(haskey(joint_cache,xxs_bag))\n",
    "            joint_cache_stats[\"misses\"]+=1\n",
    "            #Full calc\n",
    "            joint_cache[xxs_bag] = mean(Float64[(joint(aas...)*joint(bbs...)) for (aas,bbs) in  nonempty_subset_splits(xxs)])\n",
    "            \n",
    "            \n",
    "        else\n",
    "            joint_cache_stats[\"hits\"]+=1\n",
    "        end\n",
    "        joint_cache[xxs_bag]\n",
    "    end\n",
    "    \n",
    "    conditional_occurance::Function\n",
    "    @inbounds function conditional_occurance(ws::Vector{Int64})\n",
    "        if length(ws) == 0\n",
    "            uni_occur\n",
    "        elseif length(ws)==1\n",
    "            bi_conditional[:,ws[1]]\n",
    "        else\n",
    "            Float64[joint(aa,ws...) for aa in 1:n_edges]./joint(ws...)\n",
    "        end\n",
    "    end\n",
    "    \n",
    "    function prior(ws)\n",
    "        if  length(ws) > length(prob_length) #If it is longer than the tail of length distro, just force temrination\n",
    "            force_end_pmf = zeros(n_edges) #This PMF forces the sentence to end, if it is returned\n",
    "            @inbounds force_end_pmf[end_index]=1.0\n",
    "            force_end_pmf\n",
    "        else \n",
    "            #Either do not end (P=1-P_end) or end (P=P_end)\n",
    "            #prob_end = prob_length[length(ws)]   #Chance to end at this length\n",
    "            prob_end=0.0\n",
    "            prob_occurance::Vector{Float64} = conditional_occurance(ws)\n",
    "            \n",
    "            choices_prob = (1.0-prob_end).*prob_occurance\n",
    "            #@inbounds choices_prob[end_index]=prob_end\n",
    "            choices_prob\n",
    "        end \n",
    "    end\n",
    "    prior,joint_cache_stats\n",
    "end\n",
    "\n",
    "function get_prior_fun(data::Dict)\n",
    "    get_prior_fun(data[\"unioccur\"],data[\"bioccur\"], data[\"length_prob\"], data[\"word_indexes\"][END_MARKER])\n",
    "end"
   ]
  },
  {
   "cell_type": "code",
   "execution_count": null,
   "metadata": {
    "collapsed": false
   },
   "outputs": [],
   "source": [
    "atis_prior,atis_prior_cache_stats = get_prior_fun(atis_data)\n",
    "r = @time atis_prior(Int64[1,2,5,4,5,6,7]) #9.335965 seconds\n",
    "println(atis_prior_cache_stats)\n",
    "r"
   ]
  },
  {
   "cell_type": "code",
   "execution_count": null,
   "metadata": {
    "collapsed": true
   },
   "outputs": [],
   "source": []
  },
  {
   "cell_type": "code",
   "execution_count": null,
   "metadata": {
    "collapsed": false
   },
   "outputs": [],
   "source": [
    "atis_data[\"indexed_words\"][200:300]"
   ]
  },
  {
   "cell_type": "code",
   "execution_count": null,
   "metadata": {
    "collapsed": false
   },
   "outputs": [],
   "source": []
  },
  {
   "cell_type": "code",
   "execution_count": null,
   "metadata": {
    "collapsed": false
   },
   "outputs": [],
   "source": [
    "optimise(atis_data,\"what is the shortest flight\", 1, 1, 0.1, 10000,20)"
   ]
  },
  {
   "cell_type": "code",
   "execution_count": null,
   "metadata": {
    "collapsed": false
   },
   "outputs": [],
   "source": [
    "optimise(atis_data,\"what is the first flight from washington to washington\", 1, 1, 0.1, 10000,20)"
   ]
  },
  {
   "cell_type": "code",
   "execution_count": null,
   "metadata": {
    "collapsed": false
   },
   "outputs": [],
   "source": [
    "optimise(atis_data,\"what are the ground transport options\", 1, 1, 0.1, 1000,20)"
   ]
  },
  {
   "cell_type": "code",
   "execution_count": null,
   "metadata": {
    "collapsed": false
   },
   "outputs": [],
   "source": [
    "optimise(atis_data,\"where can i go\", 1, 1, 0.1, 1000,20)"
   ]
  },
  {
   "cell_type": "code",
   "execution_count": null,
   "metadata": {
    "collapsed": false
   },
   "outputs": [],
   "source": [
    "atis_data[\"word_indexes\"][START_MARKER]\n",
    "    "
   ]
  },
  {
   "cell_type": "code",
   "execution_count": null,
   "metadata": {
    "collapsed": false
   },
   "outputs": [],
   "source": [
    "`git push\"\"` |> run"
   ]
  },
  {
   "cell_type": "code",
   "execution_count": null,
   "metadata": {
    "collapsed": false
   },
   "outputs": [],
   "source": [
    "`git commit -m=\"\" -a` |> run"
   ]
  },
  {
   "cell_type": "code",
   "execution_count": null,
   "metadata": {
    "collapsed": true
   },
   "outputs": [],
   "source": []
  }
 ],
 "metadata": {
  "kernelspec": {
   "display_name": "Julia 0.5.0-dev",
   "language": "julia",
   "name": "julia-0.5"
  },
  "language_info": {
   "file_extension": ".jl",
   "mimetype": "application/julia",
   "name": "julia",
   "version": "0.5.0"
  }
 },
 "nbformat": 4,
 "nbformat_minor": 0
}
