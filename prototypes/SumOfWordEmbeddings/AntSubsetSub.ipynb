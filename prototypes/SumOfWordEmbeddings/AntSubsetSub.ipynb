{
 "cells": [
  {
   "cell_type": "code",
   "execution_count": 1,
   "metadata": {
    "collapsed": false
   },
   "outputs": [
    {
     "name": "stderr",
     "output_type": "stream",
     "text": [
      "WARNING: Base.Uint8 is deprecated, use UInt8 instead.\n",
      "WARNING: Base.Uint8 is deprecated, use UInt8 instead.\n",
      "WARNING: Base.Uint8 is deprecated, use UInt8 instead.\n",
      "WARNING: Base.Uint8 is deprecated, use UInt8 instead.\n",
      "WARNING: Base.Uint8 is deprecated, use UInt8 instead.\n",
      "WARNING: Base.Uint8 is deprecated, use UInt8 instead.\n",
      "WARNING: Base.Uint8 is deprecated, use UInt8 instead.\n",
      "WARNING: Base.Uint8 is deprecated, use UInt8 instead.\n",
      "WARNING: Base.Uint8 is deprecated, use UInt8 instead.\n",
      "WARNING: Base.Uint8 is deprecated, use UInt8 instead.\n",
      "WARNING: Base.Uint8 is deprecated, use UInt8 instead.\n",
      "WARNING: Base.Uint8 is deprecated, use UInt8 instead.\n",
      "WARNING: Base.Uint8 is deprecated, use UInt8 instead.\n",
      "WARNING: Base.Uint8 is deprecated, use UInt8 instead.\n",
      "WARNING: Base.Uint8 is deprecated, use UInt8 instead.\n"
     ]
    },
    {
     "data": {
      "text/plain": [
       "4-element Array{ByteString,1}:\n",
       " \"/home/ubuntu/build/julia-master/usr/local/share/julia/site/v0.5\"\n",
       " \"/home/ubuntu/build/julia-master/usr/share/julia/site/v0.5\"      \n",
       " \".\"                                                              \n",
       " \"../util/\"                                                       "
      ]
     },
     "execution_count": 1,
     "metadata": {},
     "output_type": "execute_result"
    }
   ],
   "source": [
    "using Iterators\n",
    "using Pipe\n",
    "using Compat\n",
    "\n",
    "macro printval(ee)\n",
    "    ee_expr = @sprintf \"%s\" string(ee)\n",
    "    esc(:(println($ee_expr,\" = \", $ee)))\n",
    "end\n",
    "\n",
    "macro pz(ee)\n",
    "    ee_expr = @sprintf \"%s\" string(ee)\n",
    "    esc(:(println($ee_expr,\"\\t\\t\",typeof($ee), \"\\t\", size($ee))))\n",
    "end\n",
    "\n",
    "push!(LOAD_PATH, \".\")\n",
    "push!(LOAD_PATH, \"../util/\")"
   ]
  },
  {
   "cell_type": "code",
   "execution_count": 2,
   "metadata": {
    "collapsed": false,
    "scrolled": true
   },
   "outputs": [],
   "source": [
    "@everywhere using Distances"
   ]
  },
  {
   "cell_type": "code",
   "execution_count": 3,
   "metadata": {
    "collapsed": false,
    "scrolled": true
   },
   "outputs": [],
   "source": [
    "const START_MARKER = \"**START**\"\n",
    "const END_MARKER = \"**END**\"\n",
    "\n",
    "atis_data = open(\"atis_data.jsz\",\"r\") do fh\n",
    "    deserialize(fh)    \n",
    "end\n",
    "\n",
    "@assert START_MARKER in atis_data[\"indexed_words\"]\n",
    "@assert START_MARKER in keys(atis_data[\"word_indexes\"])\n",
    "@assert END_MARKER in atis_data[\"indexed_words\"]\n",
    "@assert END_MARKER in keys(atis_data[\"word_indexes\"])"
   ]
  },
  {
   "cell_type": "code",
   "execution_count": 4,
   "metadata": {
    "collapsed": false,
    "scrolled": true
   },
   "outputs": [
    {
     "name": "stderr",
     "output_type": "stream",
     "text": [
      "WARNING: Base.Uint8 is deprecated, use UInt8 instead.\n",
      "WARNING: Base.Uint8 is deprecated, use UInt8 instead.\n",
      "WARNING: Base.Uint8 is deprecated, use UInt8 instead.\n",
      "WARNING: Base.Uint8 is deprecated, use UInt8 instead.\n",
      "WARNING: Base.Uint8 is deprecated, use UInt8 instead.\n",
      "WARNING: Base.Uint8 is deprecated, use UInt8 instead.\n"
     ]
    },
    {
     "data": {
      "text/plain": [
       "get_edge_probs (generic function with 2 methods)"
      ]
     },
     "execution_count": 4,
     "metadata": {},
     "output_type": "execute_result"
    }
   ],
   "source": [
    "# τ = Pheromone\n",
    "# η = Prior\n",
    "# α = pheremone weight\n",
    "# β = prior weight\n",
    "# ρ = pheremone evaporation\n",
    "function get_edge_probs(τ::AbstractMatrix,η::AbstractMatrix, α, β)\n",
    "    edges = τ.^α .* η.^β\n",
    "    edges./=sum(edges,1) #Normalise to probabilities\n",
    "    @inbounds edges[isnan(edges)]=0.0 #The terminal node will have a sum of zero\n",
    "    edges\n",
    "end\n",
    "    \n",
    "function get_edge_probs(τ::AbstractSparseMatrix,η::AbstractSparseMatrix, α, β)\n",
    "    edges = τ.^α .* η.^β\n",
    "    sums = sum(edges,1)\n",
    "    \n",
    "    I,J,V = findnz(edges)\n",
    "    for idx in 1:length(V)\n",
    "        @inbounds V[idx] /= sums[J[idx]]\n",
    "    end\n",
    "    sparse(I,J,V)\n",
    "end"
   ]
  },
  {
   "cell_type": "code",
   "execution_count": 5,
   "metadata": {
    "collapsed": false
   },
   "outputs": [
    {
     "name": "stdout",
     "output_type": "stream",
     "text": [
      "search: "
     ]
    },
    {
     "data": {
      "text/latex": [
       "\\begin{verbatim}\n",
       "methodswith(typ[, module or function][, showparents])\n",
       "\\end{verbatim}\n",
       "Return an array of methods with an argument of type \\texttt{typ}. If optional \\texttt{showparents} is \\texttt{true}, also return arguments with a parent type of \\texttt{typ}, excluding type \\texttt{Any}.\n",
       "The optional second argument restricts the search to a particular module or function.\n"
      ],
      "text/markdown": [
       "```\n",
       "methodswith(typ[, module or function][, showparents])\n",
       "```\n",
       "\n",
       "Return an array of methods with an argument of type `typ`. If optional `showparents` is `true`, also return arguments with a parent type of `typ`, excluding type `Any`.\n",
       "\n",
       "The optional second argument restricts the search to a particular module or function.\n"
      ],
      "text/plain": [
       "```\n",
       "methodswith(typ[, module or function][, showparents])\n",
       "```\n",
       "\n",
       "Return an array of methods with an argument of type `typ`. If optional `showparents` is `true`, also return arguments with a parent type of `typ`, excluding type `Any`.\n",
       "\n",
       "The optional second argument restricts the search to a particular module or function.\n"
      ]
     },
     "execution_count": 5,
     "metadata": {},
     "output_type": "execute_result"
    }
   ],
   "source": [
    "?methodswith"
   ]
  },
  {
   "cell_type": "code",
   "execution_count": 6,
   "metadata": {
    "collapsed": false
   },
   "outputs": [
    {
     "name": "stdout",
     "output_type": "stream",
     "text": [
      "methodswith\n",
      "\n"
     ]
    }
   ],
   "source": [
    "@everywhere @inline function select_node{F<:Number}(edge_probs::AbstractVector{F})\n",
    "    ys, _, probs = findnz(edge_probs'')\n",
    "    select_node(zip(ys,probs))\n",
    "end\n",
    "\n",
    "@everywhere @inline function select_node{A, F<:Number}(edge_probs::Dict{A, F})\n",
    "    select_node(collect(edge_probs))\n",
    "end\n",
    "\n",
    "@everywhere function select_node(edge_probs)\n",
    "    cutoff = rand()\n",
    "    total = 0.0\n",
    "    @assert(length(edge_probs)>0, \"No options from point $x\")\n",
    "    for (y,prob) in edge_probs\n",
    "        total+=prob\n",
    "        if total>=cutoff\n",
    "            return y\n",
    "        end\n",
    "    end\n",
    "    \n",
    "    @assert(total>=cutoff, \"x=$x, total= $total, cutoff=$cutoff\") #Should Never Reach this point\n",
    "end\n"
   ]
  },
  {
   "cell_type": "code",
   "execution_count": 7,
   "metadata": {
    "collapsed": false
   },
   "outputs": [
    {
     "data": {
      "text/plain": [
       "optimise (generic function with 1 method)"
      ]
     },
     "execution_count": 7,
     "metadata": {},
     "output_type": "execute_result"
    }
   ],
   "source": [
    "@everywhere function run_ant(edge_probs, start_index, end_index)\n",
    "    path::Vector{Int} = [start_index] #1 is always the start node. Attached to it are unigram probs\n",
    "    while (path[end]!=end_index)\n",
    "        push!(path, select_node(edge_probs[:,path[end]]))\n",
    "    end\n",
    "    path    \n",
    "end\n",
    "\n",
    "\n",
    "\n",
    "function optimise(fit_fun, η, α, β,ρ, n_ants, n_gens, start_index, end_index)\n",
    "    assert(α>=1.0)\n",
    "    assert(β>=1.0)\n",
    "    assert(0.0<=ρ<1.0)\n",
    "    \n",
    "    max_fit::Float64 = -Inf;\n",
    "    fittest_path::Vector{Int} = []\n",
    "    τ = ceil(η) #Since we take the element wise product with η, there is no point setting any elements that are zero in η\n",
    "    \n",
    "    for gen_ii in 1:n_gens\n",
    "        if gen_ii%10==1 || gen_ii<10\n",
    "            print(\"Gen: $gen_ii - fit: $max_fit\\n\")\n",
    "        end\n",
    "        \n",
    "        edge_probs = get_edge_probs(τ,η, α, β)\n",
    "        #edge_probs = SharedArray(Float64, size(τ))\n",
    "        #edge_probs[:]=get_edge_probs(τ,η, α, β)\n",
    "        \n",
    "        \n",
    "        path_fits::Vector{Tuple{Vector{Int},Float64}} = map(1:n_ants) do ant_id\n",
    "            path::Vector{Int} = run_ant(edge_probs, start_index, end_index)\n",
    "            fit::Float64 = fit_fun(path)\n",
    "            (path, fit)\n",
    "        end\n",
    "        \n",
    "    \n",
    "        τ.*=(1.0-ρ) #Evaporation\n",
    "        for (path, fit) in path_fits\n",
    "            if fit>max_fit\n",
    "                max_fit = fit\n",
    "                fittest_path = path\n",
    "                \n",
    "                if fit==Inf #Perfect Fit\n",
    "                    return fittest_path, max_fit\n",
    "                end\n",
    "            end\n",
    "\n",
    "            \n",
    "            @simd for node_ii in 1:length(path)-1\n",
    "                @inbounds node = path[node_ii]\n",
    "                @inbounds next_node = path[node_ii+1]\n",
    "                @inbounds τ[next_node, node] += fit\n",
    "            end\n",
    "        end\n",
    "    end #Next Generation\n",
    "    \n",
    "    fittest_path, max_fit\n",
    "end"
   ]
  },
  {
   "cell_type": "code",
   "execution_count": 8,
   "metadata": {
    "collapsed": false
   },
   "outputs": [
    {
     "data": {
      "text/plain": [
       "lookup_sowe (generic function with 1 method)"
      ]
     },
     "execution_count": 8,
     "metadata": {},
     "output_type": "execute_result"
    }
   ],
   "source": [
    "function lookup_sowe(data, sent)\n",
    "    sum([data[\"LL\"][:,data[\"word_indexes\"][word]] for word in split(sent)]) \n",
    "end"
   ]
  },
  {
   "cell_type": "code",
   "execution_count": 9,
   "metadata": {
    "collapsed": false
   },
   "outputs": [
    {
     "data": {
      "text/plain": [
       "optimise (generic function with 3 methods)"
      ]
     },
     "execution_count": 9,
     "metadata": {},
     "output_type": "execute_result"
    }
   ],
   "source": [
    "function optimise(data::Dict, target_sent::AbstractString, α, β, ρ, n_ants, n_gens)\n",
    "    target::Vector{Float64} = lookup_sowe(data,target_sent)\n",
    "    optimise(data, target, α, β,ρ, n_ants, n_gens)\n",
    "end\n",
    "\n",
    "@inline function optimise(data::Dict, target::AbstractVector, α, β,ρ, n_ants, n_gens)\n",
    "    #rLLs = Dict([id=>put!(RemoteRef(), data[\"LL\"]) for id in workers()])\n",
    "    #LL = SharedArray(Float64, size(atis_data[\"LL\"]))\n",
    "    LL =atis_data[\"LL\"]\n",
    "    @inline function fitness(path)\n",
    "        #Fitter is larger\n",
    "        @inbounds path_end = sum([LL[:,ii] for ii in path]) \n",
    "        if all(path_end.==0.0)\n",
    "            0.0 #Cosine dist from origin to anywhere is zero.\n",
    "            #This occurs for forced stopwords\n",
    "        else\n",
    "            (1.0/cosine_dist(path_end, target))/length(path)\n",
    "        end\n",
    "    end\n",
    "    \n",
    "    start_index = data[\"word_indexes\"][START_MARKER]\n",
    "    end_index = data[\"word_indexes\"][END_MARKER]\n",
    "    \n",
    "    \n",
    "    #return fitness, data[\"bigrams\"], α, β,ρ, n_ants, n_gens, start_index, end_index\n",
    "    path, score = optimise(fitness, data[\"bigrams\"], α, β,ρ, n_ants, n_gens, start_index, end_index)\n",
    "    score,[data[\"indexed_words\"][ii] for ii in path]\n",
    "end"
   ]
  },
  {
   "cell_type": "code",
   "execution_count": 10,
   "metadata": {
    "collapsed": false
   },
   "outputs": [
    {
     "data": {
      "text/plain": [
       "nonempty_subset_splits (generic function with 1 method)"
      ]
     },
     "execution_count": 10,
     "metadata": {},
     "output_type": "execute_result"
    }
   ],
   "source": [
    "function subset_splits(xs)\n",
    "    ss = subsets(xs) |> collect\n",
    "    xs = zip(ss,reverse(ss)) |> collect    \n",
    "    xs[1:div(end,2)]\n",
    "end\n",
    "\n",
    "function nonempty_subset_splits(xs)\n",
    "    subset_splits(xs)[2:end]\n",
    "end\n"
   ]
  },
  {
   "cell_type": "code",
   "execution_count": 11,
   "metadata": {
    "collapsed": false
   },
   "outputs": [
    {
     "data": {
      "text/plain": [
       "0-element Array{Tuple{Array{Int64,1},Array{Int64,1}},1}"
      ]
     },
     "execution_count": 11,
     "metadata": {},
     "output_type": "execute_result"
    }
   ],
   "source": [
    "nonempty_subset_splits([1])"
   ]
  },
  {
   "cell_type": "code",
   "execution_count": null,
   "metadata": {
    "collapsed": false
   },
   "outputs": [],
   "source": []
  },
  {
   "cell_type": "code",
   "execution_count": 12,
   "metadata": {
    "collapsed": false
   },
   "outputs": [
    {
     "data": {
      "text/plain": [
       "get_prior_fun (generic function with 2 methods)"
      ]
     },
     "execution_count": 12,
     "metadata": {},
     "output_type": "execute_result"
    }
   ],
   "source": [
    "function get_prior_fun(uni_occur, bi_joint, prob_length, end_index)\n",
    "    n_edges=length(uni_occur)\n",
    "    bi_marginal = sum(bi_joint,1)\n",
    "    bi_conditional = bi_joint./bi_marginal\n",
    "    \n",
    "\n",
    "\n",
    "    \n",
    "    function joint(aa)\n",
    "        bi_marginal[aa]\n",
    "    end\n",
    "    \n",
    "    function joint(aa,bb)\n",
    "        bi_joint[aa, bb]\n",
    "    end\n",
    "    \n",
    "    joint_cache = Dict{Set{Int64}, Float64}()\n",
    "    function joint(xxs...) \n",
    "        @assert(length(xxs)>=3)\n",
    "        xs_set = Set(xxs)\n",
    "        if !(haskey(joint_cache,xs_set))\n",
    "            joint_cache[xs_set] = mean(Float64[(joint(aas...)*joint(bbs...)) for (aas,bbs) in  nonempty_subset_splits(xxs)])\n",
    "        end\n",
    "        joint_cache[xs_set]\n",
    "        \n",
    "    end\n",
    "    \n",
    "    function conditional_occurance(ws::Vector{Int64})\n",
    "        if length(ws) == 0\n",
    "            uni_occur\n",
    "        elseif length(ws)==1\n",
    "            bi_conditional[:,ws[1]]\n",
    "        else\n",
    "            #Float64[joint(aa,ws...)./joint(ws...) for aa in 1:n_edges]\n",
    "            \n",
    "            [joint(ws) for aa in 1:n_edges]\n",
    "        end\n",
    "    end\n",
    "    \n",
    "    function prior(ws)\n",
    "        #if  length(ws) > length(prob_length) #If it is longer than the tail of length distro, just force temrination\n",
    "        #    force_end_pmf = zeros(n_edges) #This PMF forces the sentence to end, if it is returned\n",
    "        #    force_end_pmf[end_index]=1.0\n",
    "        #    force_end_pmf\n",
    "        #else \n",
    "        #    #Either do not end (P=1-P_end) or end (P=P_end)\n",
    "        #    prob_end = prob_length[length(ws)]   #Chance to end at this length\n",
    "             prob_occurance = conditional_occurance(ws)\n",
    "            \n",
    "        #    choices_prob = (1.0-prob_end).*prob_occurance\n",
    "        #    choices_prob[end_index]=prob_end\n",
    "        #    choices_prob\n",
    "        #end \n",
    "    end\n",
    "    \n",
    "end\n",
    "\n",
    "function get_prior_fun(data::Dict)\n",
    "    get_prior_fun(data[\"unioccur\"],data[\"bioccur\"], data[\"length_prob\"], data[\"word_indexes\"][END_MARKER])\n",
    "end"
   ]
  },
  {
   "cell_type": "code",
   "execution_count": 13,
   "metadata": {
    "collapsed": false
   },
   "outputs": [
    {
     "data": {
      "text/plain": [
       "0.004786453537198461"
      ]
     },
     "execution_count": 13,
     "metadata": {},
     "output_type": "execute_result"
    }
   ],
   "source": [
    "sum(atis_data[\"bioccur\"],1)[1,2]"
   ]
  },
  {
   "cell_type": "code",
   "execution_count": null,
   "metadata": {
    "collapsed": false
   },
   "outputs": [],
   "source": [
    "atis_prior = get_prior_fun(atis_data)"
   ]
  },
  {
   "cell_type": "code",
   "execution_count": null,
   "metadata": {
    "collapsed": false
   },
   "outputs": [],
   "source": [
    "atis_prior(Int64[1,4])"
   ]
  },
  {
   "cell_type": "code",
   "execution_count": null,
   "metadata": {
    "collapsed": false
   },
   "outputs": [],
   "source": [
    "maximum( atis_data[\"bioccur\"])"
   ]
  },
  {
   "cell_type": "code",
   "execution_count": null,
   "metadata": {
    "collapsed": false
   },
   "outputs": [],
   "source": [
    "sum(bo[6,:])"
   ]
  },
  {
   "cell_type": "code",
   "execution_count": null,
   "metadata": {
    "collapsed": false
   },
   "outputs": [],
   "source": [
    "bo[:,6]./uo"
   ]
  },
  {
   "cell_type": "code",
   "execution_count": null,
   "metadata": {
    "collapsed": false
   },
   "outputs": [],
   "source": [
    "\n",
    "\n",
    "nonempty_subset_splits([1,2,3,4]) |> collect\n"
   ]
  },
  {
   "cell_type": "code",
   "execution_count": null,
   "metadata": {
    "collapsed": false
   },
   "outputs": [],
   "source": [
    "?zip!\n"
   ]
  },
  {
   "cell_type": "code",
   "execution_count": null,
   "metadata": {
    "collapsed": false
   },
   "outputs": [],
   "source": [
    "@time optimise(atis_data,\"what is the longest flight\", 1, 1, 0.3, 10000,20)\n",
    "#code_warntype(optimise, map(typeof,params))"
   ]
  },
  {
   "cell_type": "code",
   "execution_count": null,
   "metadata": {
    "collapsed": false
   },
   "outputs": [],
   "source": [
    "optimise(atis_data,\"what is the shortest flight\", 1, 1, 0.1, 10000,20)"
   ]
  },
  {
   "cell_type": "code",
   "execution_count": null,
   "metadata": {
    "collapsed": false
   },
   "outputs": [],
   "source": [
    "optimise(atis_data,\"what is the first flight from washington to washington\", 1, 1, 0.1, 10000,20)"
   ]
  },
  {
   "cell_type": "code",
   "execution_count": null,
   "metadata": {
    "collapsed": false
   },
   "outputs": [],
   "source": [
    "optimise(atis_data,\"what are the ground transport options\", 1, 1, 0.1, 1000,20)"
   ]
  },
  {
   "cell_type": "code",
   "execution_count": null,
   "metadata": {
    "collapsed": false
   },
   "outputs": [],
   "source": [
    "optimise(atis_data,\"where can i go\", 1, 1, 0.1, 1000,20)"
   ]
  },
  {
   "cell_type": "code",
   "execution_count": null,
   "metadata": {
    "collapsed": false
   },
   "outputs": [],
   "source": [
    "atis_data[\"word_indexes\"][START_MARKER]\n",
    "    "
   ]
  },
  {
   "cell_type": "code",
   "execution_count": null,
   "metadata": {
    "collapsed": false
   },
   "outputs": [],
   "source": [
    "`git push\"\"` |> run"
   ]
  },
  {
   "cell_type": "code",
   "execution_count": null,
   "metadata": {
    "collapsed": false
   },
   "outputs": [],
   "source": [
    "`git commit -m=\"Trioccuance is in\" -a` |> run"
   ]
  },
  {
   "cell_type": "code",
   "execution_count": null,
   "metadata": {
    "collapsed": true
   },
   "outputs": [],
   "source": []
  }
 ],
 "metadata": {
  "kernelspec": {
   "display_name": "Julia 0.5.0-dev",
   "language": "julia",
   "name": "julia-0.5"
  },
  "language_info": {
   "file_extension": ".jl",
   "mimetype": "application/julia",
   "name": "julia",
   "version": "0.5.0"
  }
 },
 "nbformat": 4,
 "nbformat_minor": 0
}
