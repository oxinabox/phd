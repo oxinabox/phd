{
 "cells": [
  {
   "cell_type": "code",
   "execution_count": 63,
   "metadata": {
    "collapsed": false
   },
   "outputs": [
    {
     "data": {
      "text/plain": [
       "6-element Array{ByteString,1}:\n",
       " \"/home/ubuntu/build/julia-master/usr/local/share/julia/site/v0.5\"\n",
       " \"/home/ubuntu/build/julia-master/usr/share/julia/site/v0.5\"      \n",
       " \".\"                                                              \n",
       " \"../util/\"                                                       \n",
       " \".\"                                                              \n",
       " \"../util/\"                                                       "
      ]
     },
     "execution_count": 63,
     "metadata": {},
     "output_type": "execute_result"
    }
   ],
   "source": [
    "using Iterators\n",
    "using Pipe\n",
    "using Compat\n",
    "\n",
    "macro printval(ee)\n",
    "    ee_expr = @sprintf \"%s\" string(ee)\n",
    "    esc(:(println($ee_expr,\" = \", $ee)))\n",
    "end\n",
    "\n",
    "macro pz(ee)\n",
    "    ee_expr = @sprintf \"%s\" string(ee)\n",
    "    esc(:(println($ee_expr,\"\\t\\t\",typeof($ee), \"\\t\", size($ee))))\n",
    "end\n",
    "\n",
    "push!(LOAD_PATH, \".\")\n",
    "push!(LOAD_PATH, \"../util/\")"
   ]
  },
  {
   "cell_type": "code",
   "execution_count": null,
   "metadata": {
    "collapsed": false
   },
   "outputs": [],
   "source": [
    "addprocs(11)"
   ]
  },
  {
   "cell_type": "code",
   "execution_count": null,
   "metadata": {
    "collapsed": false,
    "scrolled": true
   },
   "outputs": [],
   "source": [
    "@everywhere using Distances"
   ]
  },
  {
   "cell_type": "code",
   "execution_count": null,
   "metadata": {
    "collapsed": false,
    "scrolled": true
   },
   "outputs": [],
   "source": [
    "\n",
    "@everywhere data = open(\"doctors_letters.jsz\",\"r\") do fh\n",
    "    deserialize(fh)    \n",
    "end\n",
    "test_set = data[\"test_set\"];\n",
    "data"
   ]
  },
  {
   "cell_type": "code",
   "execution_count": null,
   "metadata": {
    "collapsed": false
   },
   "outputs": [],
   "source": [
    "\n",
    "@everywhere data = open(\"atis_data2.jsz\",\"r\") do fh\n",
    "    deserialize(fh)    \n",
    "end\n",
    "test_set = data[\"test_set\"];\n",
    "data"
   ]
  },
  {
   "cell_type": "code",
   "execution_count": null,
   "metadata": {
    "collapsed": false
   },
   "outputs": [],
   "source": [
    "\n",
    "@everywhere data = open(\"brown_data.jsz\",\"r\") do fh\n",
    "    deserialize(fh)    \n",
    "end\n",
    "test_set = data[\"test_set\"];\n",
    "data"
   ]
  },
  {
   "cell_type": "code",
   "execution_count": null,
   "metadata": {
    "collapsed": false
   },
   "outputs": [],
   "source": [
    "@everywhere function lookup_sowe(data, sent::AbstractString)\n",
    "    lookup_sowe(data, sent |> split)\n",
    "end\n",
    "\n",
    "@everywhere function lookup_sowe{S<:AbstractString}(data, sent::Vector{S})\n",
    "    sum([data[\"LL\"][:,data[\"word_indexes\"][word]] for word in sent]) \n",
    "end\n",
    "\n",
    "@everywhere function lookup_words(data, path)\n",
    "    [data[\"indexed_words\"][ii] for ii in path]\n",
    "end"
   ]
  },
  {
   "cell_type": "code",
   "execution_count": null,
   "metadata": {
    "collapsed": false
   },
   "outputs": [],
   "source": [
    "@everywhere const ϵ = 10.0^-6"
   ]
  },
  {
   "cell_type": "code",
   "execution_count": 209,
   "metadata": {
    "collapsed": false,
    "scrolled": true
   },
   "outputs": [],
   "source": [
    "@everywhere @inline function get_end(LL, ws::Vector{Int64})\n",
    "    @inbounds sofar = length(ws)>0 ? sum([LL[:,ii] for ii in ws]) : zeros(LL[:,1])\n",
    "    sofar\n",
    "end\n",
    "\n",
    "@everywhere function score_possible_additions(LL, target, end_point)\n",
    "    -pairwise(Euclidean(), LL, (target-end_point)'');\n",
    "end   \n",
    "\n",
    "@everywhere  @inline function fitness(target, end_point)\n",
    "    #Fitter is larger\n",
    "    -euclidean(end_point, target)   \n",
    "end\n",
    "\n",
    "@everywhere function greedy_addition(LL::Matrix{Float64},\n",
    "                         target::Vector{Float64},\n",
    "                         best_word_set::Vector{Int},\n",
    "                         max_additions = Inf)\n",
    "    end_point = get_end(LL, best_word_set)\n",
    "    best_score = fitness(target, end_point)\n",
    "    \n",
    "    did_improve = true\n",
    "    cur_additions = 0\n",
    "    while(did_improve && cur_additions<max_additions)\n",
    "        cur_additions+=1\n",
    "        did_improve=false\n",
    "        \n",
    "        addition_scores = score_possible_additions(LL, target, end_point)\n",
    "        addition_score, addition = findmax(addition_scores)\n",
    "        if addition_score>best_score+ϵ\n",
    "            #println(\"!add: $addition $best_score\")\n",
    "            best_score=addition_score\n",
    "            best_word_set = [best_word_set...,addition]\n",
    "            end_point += LL[:,addition]\n",
    "            did_improve=true\n",
    "        end\n",
    "    end\n",
    "    best_word_set,best_score\n",
    "end\n",
    "\n",
    "\n",
    "@everywhere function word_swap_refinement(LL::Matrix{Float64},\n",
    "                              target::Vector{Float64},\n",
    "                              best_word_set::Vector{Int}, \n",
    "                              max_swaps=1)\n",
    "    \n",
    "    initial_word_set = copy(best_word_set)\n",
    "    end_point = get_end(LL, best_word_set)\n",
    "    best_score = fitness(target, end_point)\n",
    "    \n",
    "    function update_best!(word_set,score)\n",
    "        if score>best_score+ϵ #scores are negative\n",
    "            best_score=score\n",
    "            best_word_set = word_set\n",
    "            #println(\"*swap, new set: $word_set $score\")\n",
    "        end\n",
    "    end\n",
    "\n",
    "    for ii in 1:length(initial_word_set)\n",
    "        word_set = initial_word_set[[1:ii-1; ii+1:end]]\n",
    "        sub_endpoint = end_point - LL[:,ii]\n",
    "        subset_score = fitness(LL, target, sub_endpoint)\n",
    "        update_best!(word_set, subset_score)\n",
    "\n",
    "        add_word_set, add_score = greedy_addition(LL, target, word_set, 1) #Try adding just one greedily\n",
    "        update_best!(add_word_set, add_score)\n",
    "    end\n",
    "\n",
    "    best_word_set,best_score\n",
    "        \n",
    "end\n",
    "\n",
    "\n",
    "\n",
    "@everywhere function greedy_search{S<:AbstractString}(data::Dict, target_sent::Vector{S}, max_swaps=1, rounds=3; log=false)\n",
    "    target::Vector{Float64} = lookup_sowe(data,target_sent)\n",
    "    greedy_search(data, target, max_swaps, rounds, log=log)\n",
    "        \n",
    "end\n",
    "\n",
    "@everywhere function greedy_search(data::Dict, target::Vector{Float64}, max_swaps=1, rounds=3; log=false)\n",
    "    get_words(word_iis) = [data[\"indexed_words\"][ii] for ii in word_iis]\n",
    "    \n",
    "    word_iis = Int[]\n",
    "    score=-Inf\n",
    "    for round in 1:rounds\n",
    "        word_iis, add_score = greedy_addition(data[\"LL\"], target, word_iis)\n",
    "        log && println(\"POST_ADD_STEP: $add_score $(get_words(word_iis))\")\n",
    "        \n",
    "       \n",
    "        word_iis, swap_score = word_swap_refinement(data[\"LL\"], target, word_iis, max_swaps)\n",
    "        \n",
    "        log && println(\"POST_SWAP_STEP: $swap_score $(get_words(word_iis))\")\n",
    "        \n",
    "        if swap_score==score break end\n",
    "        \n",
    "        score=swap_score\n",
    "    end\n",
    "    get_words(word_iis),score,word_iis\n",
    "        \n",
    "end"
   ]
  },
  {
   "cell_type": "code",
   "execution_count": 185,
   "metadata": {
    "collapsed": false
   },
   "outputs": [],
   "source": [
    "LL = data[\"LL\"]\n",
    "len_LL2 = (size(LL,2).^2  + size(LL,2))÷ 2\n",
    "LL2_index = Matrix{Int}(len_LL2, 2)\n",
    "LL2 = Matrix{Float64}(size(LL,1), len_LL2)  .*0 .-1\n",
    "kk=0\n",
    "for ii in 1:size(LL,2)\n",
    "    for jj in 1:ii\n",
    "        kk+=1\n",
    "        LL2_index[kk,:] = [ii,jj]\n",
    "        LL2[:,kk] = LL[:,ii]+LL[:,jj]\n",
    "    end\n",
    "end"
   ]
  },
  {
   "cell_type": "code",
   "execution_count": 215,
   "metadata": {
    "collapsed": false
   },
   "outputs": [
    {
     "data": {
      "text/plain": [
       "double_word_swap_refinement (generic function with 3 methods)"
      ]
     },
     "execution_count": 215,
     "metadata": {},
     "output_type": "execute_result"
    }
   ],
   "source": [
    "function double_word_swap_refinement(LL::Matrix{Float64},\n",
    "                              LL2::Matrix{Float64}, LL2_index,\n",
    "                              target::Vector{Float64},\n",
    "                              best_word_set::Vector{Int})\n",
    "    \n",
    "    initial_word_set = copy(best_word_set)\n",
    "    initial_end_point = get_end(LL, initial_word_set)\n",
    "    best_score = fitness(LL, target, best_word_set)\n",
    "    \n",
    "    for ii in 1:length(initial_word_set)\n",
    "        for jj in ii+1:length(initial_word_set)\n",
    "            end_point = initial_end_point - LL[:,initial_word_set[ii]] - LL[:,initial_word_set[jj]]\n",
    "            addition_score, addition_index = findmax(score_possible_additions(LL2, target, end_point))\n",
    "            if addition_score>best_score + ϵ\n",
    "                #println(\"+= $(LL2_index[addition_index,:])\")\n",
    "                \n",
    "                word_subset = initial_word_set[[1:ii-1; ii+1:jj-1; jj+1:end]]\n",
    "                best_word_set = [word_subset..., LL2_index[addition_index,:]...]\n",
    "                best_score = addition_score\n",
    "            end\n",
    "        end\n",
    "    end\n",
    "\n",
    "    best_word_set,best_score\n",
    "        \n",
    "end\n",
    "\n",
    "#double_word_swap_refinement(LL, LL2, LL2_index, LL2[:,4], [1,2,3,4,5])"
   ]
  },
  {
   "cell_type": "code",
   "execution_count": 213,
   "metadata": {
    "collapsed": false
   },
   "outputs": [
    {
     "name": "stdout",
     "output_type": "stream",
     "text": [
      "SubString{ASCIIString}[\"where\",\"does\",\"this\",\"flight\",\"make\",\"a\",\"stop\"]\n",
      "-------------\n",
      "POST_ADD_STEP: -5.491303831565617 Any[\"you\",\"a\",\"not\",\"flight\",\"this\",\"stop\",\"where\"]\n"
     ]
    },
    {
     "data": {
      "text/plain": [
       "(Any[\"a\",\"not\",\"flight\",\"this\",\"stop\",\"where\",\"makes\"],-3.477294814142913,[6,26,471,27,367,82,388])"
      ]
     },
     "execution_count": 213,
     "metadata": {},
     "output_type": "execute_result"
    },
    {
     "name": "stdout",
     "output_type": "stream",
     "text": [
      "POST_SWAP_STEP: -3.4772948141429105 Any[\"a\",\"not\",\"flight\",\"this\",\"stop\",\"where\",\"makes\"]\n",
      "POST_ADD_STEP: -3.477294814142913 Any[\"a\",\"not\",\"flight\",\"this\",\"stop\",\"where\",\"makes\"]\n",
      "POST_SWAP_STEP: -3.477294814142913 Any[\"a\",\"not\",\"flight\",\"this\",\"stop\",\"where\",\"makes\"]\n",
      "POST_ADD_STEP: -3.477294814142913 Any[\"a\",\"not\",\"flight\",\"this\",\"stop\",\"where\",\"makes\"]\n",
      "POST_SWAP_STEP: -3.477294814142913 Any[\"a\",\"not\",\"flight\",\"this\",\"stop\",\"where\",\"makes\"]\n"
     ]
    }
   ],
   "source": [
    "target_sent = test_set[664]\n",
    "println(target_sent)\n",
    "println(\"-------------\")\n",
    "best_words, best_score, best_wordset  = greedy_search(data, target_sent, 1,100, log=true)\n"
   ]
  },
  {
   "cell_type": "code",
   "execution_count": 218,
   "metadata": {
    "collapsed": false
   },
   "outputs": [
    {
     "name": "stdout",
     "output_type": "stream",
     "text": [
      "+= [178 118]\n"
     ]
    },
    {
     "ename": "LoadError",
     "evalue": "LoadError: MethodError: `isless` has no method matching isless(::Function, ::Array{Any,1})\nwhile loading In[218], in expression starting on line 3",
     "output_type": "error",
     "traceback": [
      "LoadError: MethodError: `isless` has no method matching isless(::Function, ::Array{Any,1})\nwhile loading In[218], in expression starting on line 3",
      "",
      " in anonymous at no file"
     ]
    }
   ],
   "source": [
    "target_sowe = lookup_sowe(data,target_sent)\n",
    "new_best_words, new_best_score =double_word_swap_refinement(LL, LL2, LL2_index, target_sowe, best_wordset)\n",
    "[[data[\"word_indexes\"][ii] for ii in target_sent]>sort  new_best_words|>sort]"
   ]
  },
  {
   "cell_type": "code",
   "execution_count": null,
   "metadata": {
    "collapsed": true
   },
   "outputs": [],
   "source": []
  },
  {
   "cell_type": "code",
   "execution_count": 208,
   "metadata": {
    "collapsed": false
   },
   "outputs": [
    {
     "ename": "LoadError",
     "evalue": "LoadError: DimensionMismatch(\"dimensions must match\")\nwhile loading In[208], in expression starting on line 1",
     "output_type": "error",
     "traceback": [
      "LoadError: DimensionMismatch(\"dimensions must match\")\nwhile loading In[208], in expression starting on line 1",
      "",
      " in - at arraymath.jl:96",
      " in score_possible_additions at In[203]:9"
     ]
    }
   ],
   "source": [
    "score_possible_additions(LL2,target_sowe, [6,471,27,367,82])[15871]"
   ]
  },
  {
   "cell_type": "code",
   "execution_count": 193,
   "metadata": {
    "collapsed": false
   },
   "outputs": [
    {
     "data": {
      "text/plain": [
       "-0.0"
      ]
     },
     "execution_count": 193,
     "metadata": {},
     "output_type": "execute_result"
    }
   ],
   "source": [
    "fitness(LL, target_sowe, [[178, 118]..., [6,471,27,367,82]...])"
   ]
  },
  {
   "cell_type": "code",
   "execution_count": null,
   "metadata": {
    "collapsed": true
   },
   "outputs": [],
   "source": []
  },
  {
   "cell_type": "code",
   "execution_count": 190,
   "metadata": {
    "collapsed": false
   },
   "outputs": [
    {
     "data": {
      "text/plain": [
       "1-element Array{Int64,1}:\n",
       " 15871"
      ]
     },
     "execution_count": 190,
     "metadata": {},
     "output_type": "execute_result"
    }
   ],
   "source": [
    "find((LL2_index[:,2] .==118) & (LL2_index[:,1] .== 178))"
   ]
  },
  {
   "cell_type": "code",
   "execution_count": 191,
   "metadata": {
    "collapsed": false
   },
   "outputs": [
    {
     "data": {
      "text/plain": [
       "300-element Array{Float64,1}:\n",
       " 0.0\n",
       " 0.0\n",
       " 0.0\n",
       " 0.0\n",
       " 0.0\n",
       " 0.0\n",
       " 0.0\n",
       " 0.0\n",
       " 0.0\n",
       " 0.0\n",
       " 0.0\n",
       " 0.0\n",
       " 0.0\n",
       " ⋮  \n",
       " 0.0\n",
       " 0.0\n",
       " 0.0\n",
       " 0.0\n",
       " 0.0\n",
       " 0.0\n",
       " 0.0\n",
       " 0.0\n",
       " 0.0\n",
       " 0.0\n",
       " 0.0\n",
       " 0.0"
      ]
     },
     "execution_count": 191,
     "metadata": {},
     "output_type": "execute_result"
    }
   ],
   "source": [
    "LL2[:,15871]"
   ]
  },
  {
   "cell_type": "code",
   "execution_count": 217,
   "metadata": {
    "collapsed": false
   },
   "outputs": [
    {
     "data": {
      "text/plain": [
       "7-element Array{Any,1}:\n",
       "  82\n",
       " 178\n",
       "  27\n",
       " 471\n",
       " 118\n",
       "   6\n",
       " 367"
      ]
     },
     "execution_count": 217,
     "metadata": {},
     "output_type": "execute_result"
    }
   ],
   "source": []
  },
  {
   "cell_type": "code",
   "execution_count": 176,
   "metadata": {
    "collapsed": false
   },
   "outputs": [
    {
     "data": {
      "text/plain": [
       "1"
      ]
     },
     "execution_count": 176,
     "metadata": {},
     "output_type": "execute_result"
    }
   ],
   "source": [
    "1"
   ]
  },
  {
   "cell_type": "code",
   "execution_count": 143,
   "metadata": {
    "collapsed": false
   },
   "outputs": [
    {
     "name": "stdout",
     "output_type": "stream",
     "text": [
      "[471,27,367,82,388]\n",
      "[26,27,367,82,388]\n",
      "[26,471,367,82,388]\n",
      "[26,471,27,82,388]\n",
      "[26,471,27,367,388]\n",
      "[26,471,27,367,82]\n",
      "[6,27,367,82,388]\n",
      "[6,471,367,82,388]\n",
      "[6,471,27,82,388]\n",
      "[6,471,27,367,388]\n",
      "[6,471,27,367,82]\n",
      "[6,26,367,82,388]\n",
      "[6,26,27,82,388]\n",
      "[6,26,27,367,388]\n",
      "[6,26,27,367,82]\n",
      "[6,26,471,82,388]\n",
      "[6,26,471,367,388]\n",
      "[6,26,471,367,82]\n",
      "[6,26,471,27,388]\n",
      "[6,26,471,27,82]\n",
      "["
     ]
    },
    {
     "data": {
      "text/plain": [
       "7x2 Array{Any,2}:\n",
       " \"a\"       \"a\"     \n",
       " \"does\"    \"flight\"\n",
       " \"flight\"  \"makes\" \n",
       " \"make\"    \"not\"   \n",
       " \"stop\"    \"stop\"  \n",
       " \"this\"    \"this\"  \n",
       " \"where\"   \"where\" "
      ]
     },
     "execution_count": 143,
     "metadata": {},
     "output_type": "execute_result"
    },
    {
     "name": "stdout",
     "output_type": "stream",
     "text": [
      "6,26,471,27,367]\n"
     ]
    }
   ],
   "source": []
  },
  {
   "cell_type": "code",
   "execution_count": 122,
   "metadata": {
    "collapsed": false
   },
   "outputs": [
    {
     "name": "stdout",
     "output_type": "stream",
     "text": [
      "where does this flight make a stop\n"
     ]
    },
    {
     "ename": "LoadError",
     "evalue": "LoadError: syntax: unexpected ,\nwhile loading In[122], in expression starting on line 8",
     "output_type": "error",
     "traceback": [
      "LoadError: syntax: unexpected ,\nwhile loading In[122], in expression starting on line 8",
      ""
     ]
    },
    {
     "name": "stdout",
     "output_type": "stream",
     "text": [
      "-----------------------------\n"
     ]
    }
   ],
   "source": [
    "ii=664\n",
    "#while true\n",
    "    #ii=rand(1:1000)\n",
    "    target_sent = test_set[ii]\n",
    "    println(join(target_sent, \" \"))\n",
    "    println(\"-----------------------------\")\n",
    "\n",
    "    _, score = greedy_search(data, target_sent, 1,100, log=true)\n",
    "    if score<0\n",
    "        break\n",
    "    end\n",
    "#end"
   ]
  },
  {
   "cell_type": "code",
   "execution_count": 129,
   "metadata": {
    "collapsed": false
   },
   "outputs": [
    {
     "name": "stdout",
     "output_type": "stream",
     "text": [
      "POST_ADD_STEP: -5.491303831565617 Any[\"you\",\"a\",\"not\",\"flight\",\"this\",\"stop\",\"where\"]\n"
     ]
    },
    {
     "data": {
      "text/plain": [
       "(Any[\"a\",\"not\",\"flight\",\"this\",\"stop\",\"where\",\"makes\"],-3.477294814142913,[6,26,471,27,367,82,388])"
      ]
     },
     "execution_count": 129,
     "metadata": {},
     "output_type": "execute_result"
    },
    {
     "name": "stdout",
     "output_type": "stream",
     "text": [
      "POST_SWAP_STEP: -3.4772948141429105 Any[\"a\",\"not\",\"flight\",\"this\",\"stop\",\"where\",\"makes\"]\n",
      "POST_ADD_STEP: -3.477294814142913 Any[\"a\",\"not\",\"flight\",\"this\",\"stop\",\"where\",\"makes\"]\n",
      "POST_SWAP_STEP: -3.477294814142913 Any[\"a\",\"not\",\"flight\",\"this\",\"stop\",\"where\",\"makes\"]\n",
      "POST_ADD_STEP: -3.477294814142913 Any[\"a\",\"not\",\"flight\",\"this\",\"stop\",\"where\",\"makes\"]\n",
      "POST_SWAP_STEP: -3.477294814142913 Any[\"a\",\"not\",\"flight\",\"this\",\"stop\",\"where\",\"makes\"]\n"
     ]
    }
   ],
   "source": []
  },
  {
   "cell_type": "code",
   "execution_count": 181,
   "metadata": {
    "collapsed": false
   },
   "outputs": [
    {
     "data": {
      "text/plain": [
       "1"
      ]
     },
     "execution_count": 181,
     "metadata": {},
     "output_type": "execute_result"
    }
   ],
   "source": [
    "1"
   ]
  },
  {
   "cell_type": "code",
   "execution_count": 135,
   "metadata": {
    "collapsed": false
   },
   "outputs": [
    {
     "data": {
      "text/plain": [
       "7x2 Array{Any,2}:\n",
       " \"a\"       \"a\"     \n",
       " \"does\"    \"flight\"\n",
       " \"flight\"  \"makes\" \n",
       " \"make\"    \"not\"   \n",
       " \"stop\"    \"stop\"  \n",
       " \"this\"    \"this\"  \n",
       " \"where\"   \"where\" "
      ]
     },
     "execution_count": 135,
     "metadata": {},
     "output_type": "execute_result"
    }
   ],
   "source": []
  },
  {
   "cell_type": "code",
   "execution_count": null,
   "metadata": {
    "collapsed": true
   },
   "outputs": [],
   "source": []
  },
  {
   "cell_type": "code",
   "execution_count": null,
   "metadata": {
    "collapsed": false,
    "scrolled": true
   },
   "outputs": [],
   "source": [
    "res = pmap([1:length(test_set);], test_set) do ii,target_sent\n",
    "    sol, score = greedy_search(data, target_sent, 1, 100, log=false)\n",
    "    (sol, score, ii)\n",
    "end"
   ]
  },
  {
   "cell_type": "code",
   "execution_count": null,
   "metadata": {
    "collapsed": false
   },
   "outputs": [],
   "source": [
    "open(\"atis2_res_glove.jsz\",\"w\") do fh\n",
    "    serialize(fh, (Vector{ASCIIString}[sol for (sol, score, ii) in res], test_set)\n",
    "    )    \n",
    "end\n",
    "\n"
   ]
  },
  {
   "cell_type": "code",
   "execution_count": null,
   "metadata": {
    "collapsed": false
   },
   "outputs": [],
   "source": [
    "se = lookup_sowe(atis_data, [\"flights\",\"serve\",\"lunch\",\"which\"])\n",
    "se=se*0.6\n",
    "greedy_search(atis_data, se, 1, 5, log=false)"
   ]
  },
  {
   "cell_type": "code",
   "execution_count": null,
   "metadata": {
    "collapsed": false,
    "scrolled": true
   },
   "outputs": [],
   "source": [
    "hard_cases = find(x->x[2]<0, res)\n",
    "res[hard_cases]"
   ]
  },
  {
   "cell_type": "code",
   "execution_count": null,
   "metadata": {
    "collapsed": false
   },
   "outputs": [],
   "source": [
    "test_set[hard_cases]"
   ]
  },
  {
   "cell_type": "code",
   "execution_count": null,
   "metadata": {
    "collapsed": false,
    "scrolled": true
   },
   "outputs": [],
   "source": [
    "hard_set =  test_set[hard_cases]\n",
    "\n",
    "hard_res = pmap([1:length(hard_set);], hard_set) do ii,target_sent\n",
    "    sol, score = greedy_search(atis_data, target_sent, 2,5, log=false)\n",
    "    (sol, score, ii)\n",
    "end"
   ]
  },
  {
   "cell_type": "code",
   "execution_count": null,
   "metadata": {
    "collapsed": false
   },
   "outputs": [],
   "source": [
    "very_hard_cases = find(x->x[2]<0.0, hard_res)"
   ]
  },
  {
   "cell_type": "code",
   "execution_count": null,
   "metadata": {
    "collapsed": false
   },
   "outputs": [],
   "source": [
    "factorial(14)"
   ]
  },
  {
   "cell_type": "code",
   "execution_count": null,
   "metadata": {
    "collapsed": false
   },
   "outputs": [],
   "source": [
    "hard_res[very_hard_cases]"
   ]
  },
  {
   "cell_type": "code",
   "execution_count": null,
   "metadata": {
    "collapsed": false
   },
   "outputs": [],
   "source": [
    "\n",
    "\n",
    "for (ii,target_sent) in enumerate(test_set)\n",
    "    sol, score = greedy_search(atis_data, target_sent, log=false)\n",
    "    if score>0\n",
    "        print(\"$ii - \")\n",
    "        println(join(target_sent, \" \"))\n",
    "    end\n",
    "end\n",
    "    "
   ]
  },
  {
   "cell_type": "code",
   "execution_count": null,
   "metadata": {
    "collapsed": false
   },
   "outputs": [],
   "source": [
    "enumerate(test_set) |> collect"
   ]
  },
  {
   "cell_type": "code",
   "execution_count": null,
   "metadata": {
    "collapsed": true
   },
   "outputs": [],
   "source": []
  },
  {
   "cell_type": "code",
   "execution_count": null,
   "metadata": {
    "collapsed": false,
    "scrolled": true
   },
   "outputs": [],
   "source": [
    "# τ = Pheromone\n",
    "# η = Prior\n",
    "# α = pheremone weight\n",
    "# β = prior weight\n",
    "# ρ = pheremone evaporation\n",
    "\n",
    "@everywhere @inline function select_index{V<:AbstractVector}(edge_probs::V)\n",
    "    cutoff = rand()\n",
    "    total = 0.0\n",
    "    @assert(length(edge_probs)>0, \"No probs given\")\n",
    "    for (ii,prob) in enumerate(edge_probs)\n",
    "        total+=prob\n",
    "        if total>=cutoff\n",
    "            return ii\n",
    "        end\n",
    "    end\n",
    "    \n",
    "    @assert(total>=cutoff, \"total= $total, cutoff=$cutoff, $edge_probs\") #Should Never Reach this point\n",
    "end\n",
    "\n",
    "\n",
    "@everywhere function evaporate!{M<:AbstractArray}(τ::M, ρ)\n",
    "    τ.*=(1.0-ρ) #Evaporation\n",
    "end\n",
    "\n",
    "    \n",
    "\n",
    "@everywhere function deposit!{M<:AbstractVector}(τ::M, path, fit)\n",
    "    #Are You In or Out?  Double Crosser or Devout\n",
    "    #Order actually means nothing in this problem\n",
    "    #Cooccurance doesn't really many anything either\n",
    "    #Cooccurance is a problem for the prior that need \n",
    "    #to be conerned with all answers not just this one\n",
    "    for node in path\n",
    "        @inbounds τ[node] += fit./length(path)\n",
    "    end\n",
    "    τ\n",
    "end\n",
    "\n",
    "@everywhere function get_edge_probs(τ,η::Function, α, β)\n",
    "    τ_scaled = (τ).^α\n",
    "    function get_prob(state)\n",
    "        η_scaled = (η(state)).^β\n",
    "        tot = τ_scaled .* τ_scaled\n",
    "        tot./sum(tot)\n",
    "    end\n",
    "end\n",
    "\n",
    "@everywhere @inline function select_node(edge_probs::Function, path=[])\n",
    "    select_index(edge_probs(path))\n",
    "end\n"
   ]
  },
  {
   "cell_type": "code",
   "execution_count": null,
   "metadata": {
    "collapsed": false
   },
   "outputs": [],
   "source": [
    "#If you pass in a start index of greater than zero, then atre using a starting index, otherswise not\n",
    "@everywhere function run_ant(edge_probs, end_prob_dist)\n",
    "    path = Int[]\n",
    "    len = select_index(end_prob_dist)\n",
    "    for _ in 1:len\n",
    "        push!(path, select_node(edge_probs, path))\n",
    "    end\n",
    "    path    \n",
    "end\n",
    "\n",
    "\n",
    "function optimise(fit_fun, τ, η, end_prob_dist;  α=1, β=1,ρ=0, n_ants=100, n_gens=10, callback=Union{})\n",
    "    assert(α>=1.0)\n",
    "    assert(β>=1.0)\n",
    "    assert(0.0<=ρ<1.0)\n",
    "    \n",
    "    max_fit::Float64 = -Inf;\n",
    "    fittest_path::Vector{Int} = []\n",
    "    \n",
    "    for gen_ii in 1:n_gens\n",
    "\n",
    "        edge_probs = get_edge_probs(τ,η, α, β)\n",
    "\n",
    "        path_fits::Vector{Tuple{Vector{Int},Float64}} = map(1:n_ants) do ant_id\n",
    "            path::Vector{Int} = run_ant(edge_probs, end_prob_dist)\n",
    "            fit::Float64 = fit_fun(path)\n",
    "            (path, fit)\n",
    "        end\n",
    "        \n",
    "        ranked_path_fits = select!(path_fits,1:100, by=pf->-pf[2])\n",
    "        scales = 100:-1:1\n",
    "        \n",
    "        evaporate!(τ,ρ)\n",
    "        for ((path, fit),scale) in zip(ranked_path_fits,scales)\n",
    "        #for (path, fit) in path_fits\n",
    "            if fit>max_fit\n",
    "                max_fit = fit\n",
    "                fittest_path = path\n",
    "                \n",
    "                if fit==Inf #Perfect Fit\n",
    "                    return fittest_path, max_fit\n",
    "                end\n",
    "            end\n",
    "            deposit!(τ,path, fit)\n",
    "        end\n",
    "        \n",
    "        if callback |> typeof <:Function\n",
    "            callback(gen_ii, τ,fittest_path,max_fit,path_fits)\n",
    "        end\n",
    "        \n",
    "    end #Next Generation\n",
    "    \n",
    "    fittest_path, max_fit, τ\n",
    "end\n",
    "\n",
    "\n",
    "function optimise(fit_fun, n_dims::Int64, η::Function, end_prob_dist; kwargs...)\n",
    "    τ = [rand() for nn in 1:n_dims]\n",
    "    \n",
    "    optimise(fit_fun, τ, η, end_prob_dist;kwargs...)\n",
    "end\n"
   ]
  },
  {
   "cell_type": "code",
   "execution_count": null,
   "metadata": {
    "collapsed": false
   },
   "outputs": [],
   "source": [
    "@fastmath function get_prior_fun(uni_occur,bi_occur)\n",
    "    n_edges=length(uni_occur)\n",
    "    function prior(ws)\n",
    "        if length(ws)==0\n",
    "            uni_occur\n",
    "        elseif length(ws)==1\n",
    "            bi_occur[:,ws[1]]\n",
    "        else\n",
    "            (uni_occur + sum([bi_occur[:,w] for w in ws]))/(length(ws)+1) #Just average them cos its cheap\n",
    "        end\n",
    "    end    \n",
    "end\n",
    "\n",
    "\n"
   ]
  },
  {
   "cell_type": "code",
   "execution_count": null,
   "metadata": {
    "collapsed": false
   },
   "outputs": [],
   "source": []
  },
  {
   "cell_type": "code",
   "execution_count": null,
   "metadata": {
    "collapsed": false
   },
   "outputs": [],
   "source": [
    "function built_optimise(data::Dict, target_sent::AbstractString, log=False; kwargs...)\n",
    "    target::Vector{Float64} = lookup_sowe(data,target_sent)\n",
    "    LL =data[\"LL\"]\n",
    "    indexed_words=data[\"indexed_words\"]\n",
    "    @inline function fitness(path)\n",
    "        #Fitter is larger\n",
    "        @inbounds path_end = sum([LL[:,ii] for ii in path]) \n",
    "        -1.0*euclidean(path_end, target)\n",
    "    end\n",
    "\n",
    "    τlog=[]\n",
    "    if log\n",
    "        log = (gen_ii, τ,fittest_path,max_fit, path_fits) -> begin\n",
    "            print(\"oGen: $gen_ii - fit: $max_fit \")\n",
    "            print(lookup_words(data, fittest_path))\n",
    "            #path_lens = [length(pf[1]) for pf in path_fits]\n",
    "            #print(\"mean_len = $(mean(path_lens))\")\n",
    "            #print(\" max_len = $(maximum(path_lens))\")\n",
    "            println()\n",
    "            push!(τlog,copy(τ))\n",
    "            \n",
    "        end\n",
    "    end\n",
    "    \n",
    "    n_dims = size(LL,2)\n",
    "    length_dist = data[\"length_prob\"]\n",
    "    #length_dist = ws->0.5\n",
    "    prior = get_prior_fun(data[\"unioccur\"], data[\"bioccur\"])\n",
    "       \n",
    "    \n",
    "    \n",
    "    path, score, τ = optimise(fitness,n_dims, prior, length_dist; callback=log, kwargs...)\n",
    "    push!(τlog,τ)\n",
    "    score,lookup_words(data, path), τlog\n",
    "end"
   ]
  },
  {
   "cell_type": "code",
   "execution_count": null,
   "metadata": {
    "collapsed": false,
    "scrolled": true
   },
   "outputs": [],
   "source": [
    "@time score, words, τlog = built_optimise(atis_data,\"show flights from washington to san francisco\", true;\n",
    "α=1, β=1, ρ=0.2, n_ants=10000, n_gens=10);\n",
    "words"
   ]
  },
  {
   "cell_type": "code",
   "execution_count": null,
   "metadata": {
    "collapsed": true
   },
   "outputs": [],
   "source": []
  },
  {
   "cell_type": "code",
   "execution_count": null,
   "metadata": {
    "collapsed": false
   },
   "outputs": [],
   "source": []
  },
  {
   "cell_type": "code",
   "execution_count": null,
   "metadata": {
    "collapsed": false
   },
   "outputs": [],
   "source": [
    "greedy_local_search(atis_data, \"show flights from washington to san francisco\", AbstractString[])"
   ]
  },
  {
   "cell_type": "code",
   "execution_count": null,
   "metadata": {
    "collapsed": false
   },
   "outputs": [],
   "source": [
    "greedy_local_search(atis_data, \"show cheapest flights\")"
   ]
  },
  {
   "cell_type": "code",
   "execution_count": null,
   "metadata": {
    "collapsed": false
   },
   "outputs": [],
   "source": [
    "greedy_local_search(atis_data, \"show cheapest flight from washington to san francisco\", AbstractString[])"
   ]
  },
  {
   "cell_type": "code",
   "execution_count": null,
   "metadata": {
    "collapsed": false
   },
   "outputs": [],
   "source": [
    "greedy_local_search(atis_data, \"show cheapest and shortest flights from washington to san francisco\", AbstractString[])"
   ]
  },
  {
   "cell_type": "code",
   "execution_count": null,
   "metadata": {
    "collapsed": false
   },
   "outputs": [],
   "source": [
    "target = lookup_sowe(atis_data,\"show cheapest flights from washington to san francisco\")\n",
    "target += lookup_sowe(atis_data,\"show shortest flights from washington to san francisco\")\n",
    "target./=1.6\n",
    "greedy_local_search(atis_data,target)"
   ]
  },
  {
   "cell_type": "code",
   "execution_count": null,
   "metadata": {
    "collapsed": false
   },
   "outputs": [],
   "source": [
    "`git push` |> run"
   ]
  },
  {
   "cell_type": "code",
   "execution_count": null,
   "metadata": {
    "collapsed": true
   },
   "outputs": [],
   "source": []
  },
  {
   "cell_type": "code",
   "execution_count": null,
   "metadata": {
    "collapsed": false,
    "scrolled": true
   },
   "outputs": [],
   "source": [
    "using UnicodePlots\n",
    "using IJulia\n",
    "\n",
    "for τ in τlog\n",
    "    nw = zip(τ,atis_data[\"indexed_words\"]) |> collect\n",
    "    \n",
    "    freq,name = zip(select!(nw, 1:min(20,length(nw)), by=fw->-fw[1])...) |> collect\n",
    "    IJulia.display(barplot(name|> collect,freq|> collect))\n",
    "end\n"
   ]
  },
  {
   "cell_type": "code",
   "execution_count": null,
   "metadata": {
    "collapsed": false
   },
   "outputs": [],
   "source": []
  },
  {
   "cell_type": "code",
   "execution_count": null,
   "metadata": {
    "collapsed": false
   },
   "outputs": [],
   "source": [
    "using DataStructures\n",
    "using DataStructuresExtended\n",
    "\n",
    "\n",
    "@fastmath function get_prior_fun(uni_occur, bi_joint, prob_length, end_index)\n",
    "    n_edges=length(uni_occur)\n",
    "    bi_marginal = sum(bi_joint,1)\n",
    "    bi_conditional = bi_joint./bi_marginal\n",
    "  \n",
    "    \n",
    "    @inline function joint(aa::Int64)\n",
    "        @inbounds ret = bi_marginal[aa]\n",
    "        ret\n",
    "    end\n",
    "    \n",
    "    @inline function joint(aa::Int64,bb::Int64)\n",
    "        @inbounds ret = bi_joint[aa, bb]\n",
    "        ret\n",
    "    end\n",
    "    \n",
    "    joint_cache_stats = Dict([(\"hits\",0), (\"misses\",0)])\n",
    "    joint_cache = Dict{Accumulator{Int64,Int64}, Float64}() #TODO Should Use a multiset instead to index\n",
    "    @inline function joint(xxs...) \n",
    "        @assert(length(xxs)>=3)\n",
    "        xxs_bag = counter(Int64, xxs) \n",
    "        if !(haskey(joint_cache,xxs_bag))\n",
    "            joint_cache_stats[\"misses\"]+=1\n",
    "            #Full calc\n",
    "            joint_cache[xxs_bag] = mean(Float64[(joint(aas...)*joint(bbs...)) for (aas,bbs) in  nonempty_subset_splits(xxs)])\n",
    "            \n",
    "            \n",
    "        else\n",
    "            joint_cache_stats[\"hits\"]+=1\n",
    "        end\n",
    "        joint_cache[xxs_bag]\n",
    "    end\n",
    "    \n",
    "    conditional_occurance::Function\n",
    "    @inbounds function conditional_occurance(ws::Vector{Int64})\n",
    "        if length(ws) == 0\n",
    "            uni_occur\n",
    "        elseif length(ws)==1\n",
    "            bi_conditional[:,ws[1]]\n",
    "        else\n",
    "            Float64[joint(aa,ws...) for aa in 1:n_edges]./joint(ws...)\n",
    "        end\n",
    "    end\n",
    "    \n",
    "    function prior(ws)\n",
    "        if  length(ws) > length(prob_length) #If it is longer than the tail of length distro, just force temrination\n",
    "            force_end_pmf = zeros(n_edges) #This PMF forces the sentence to end, if it is returned\n",
    "            @inbounds force_end_pmf[end_index]=1.0\n",
    "            force_end_pmf\n",
    "        else \n",
    "            #Either do not end (P=1-P_end) or end (P=P_end)\n",
    "            #prob_end = prob_length[length(ws)]   #Chance to end at this length\n",
    "            prob_end=0.0\n",
    "            prob_occurance::Vector{Float64} = conditional_occurance(ws)\n",
    "            \n",
    "            choices_prob = (1.0-prob_end).*prob_occurance\n",
    "            #@inbounds choices_prob[end_index]=prob_end\n",
    "            choices_prob\n",
    "        end \n",
    "    end\n",
    "    prior,joint_cache_stats\n",
    "end\n",
    "\n",
    "function get_prior_fun(data::Dict)\n",
    "    get_prior_fun(data[\"unioccur\"],data[\"bioccur\"], data[\"length_prob\"], data[\"word_indexes\"][END_MARKER])\n",
    "end"
   ]
  },
  {
   "cell_type": "code",
   "execution_count": null,
   "metadata": {
    "collapsed": false
   },
   "outputs": [],
   "source": [
    "atis_prior,atis_prior_cache_stats = get_prior_fun(atis_data)\n",
    "r = @time atis_prior(Int64[1,2,5,4,5,6,7]) #9.335965 seconds\n",
    "println(atis_prior_cache_stats)\n",
    "r"
   ]
  },
  {
   "cell_type": "code",
   "execution_count": null,
   "metadata": {
    "collapsed": true
   },
   "outputs": [],
   "source": []
  },
  {
   "cell_type": "code",
   "execution_count": null,
   "metadata": {
    "collapsed": false
   },
   "outputs": [],
   "source": [
    "atis_data[\"indexed_words\"][200:300]"
   ]
  },
  {
   "cell_type": "code",
   "execution_count": null,
   "metadata": {
    "collapsed": false
   },
   "outputs": [],
   "source": []
  },
  {
   "cell_type": "code",
   "execution_count": null,
   "metadata": {
    "collapsed": false
   },
   "outputs": [],
   "source": [
    "optimise(atis_data,\"what is the shortest flight\", 1, 1, 0.1, 10000,20)"
   ]
  },
  {
   "cell_type": "code",
   "execution_count": null,
   "metadata": {
    "collapsed": false
   },
   "outputs": [],
   "source": [
    "optimise(atis_data,\"what is the first flight from washington to washington\", 1, 1, 0.1, 10000,20)"
   ]
  },
  {
   "cell_type": "code",
   "execution_count": null,
   "metadata": {
    "collapsed": false
   },
   "outputs": [],
   "source": [
    "optimise(atis_data,\"what are the ground transport options\", 1, 1, 0.1, 1000,20)"
   ]
  },
  {
   "cell_type": "code",
   "execution_count": null,
   "metadata": {
    "collapsed": false
   },
   "outputs": [],
   "source": [
    "optimise(atis_data,\"where can i go\", 1, 1, 0.1, 1000,20)"
   ]
  },
  {
   "cell_type": "code",
   "execution_count": null,
   "metadata": {
    "collapsed": false
   },
   "outputs": [],
   "source": [
    "atis_data[\"word_indexes\"][START_MARKER]\n",
    "    "
   ]
  },
  {
   "cell_type": "code",
   "execution_count": null,
   "metadata": {
    "collapsed": false
   },
   "outputs": [],
   "source": [
    "`git push\"\"` |> run"
   ]
  },
  {
   "cell_type": "code",
   "execution_count": null,
   "metadata": {
    "collapsed": false
   },
   "outputs": [],
   "source": [
    "`git commit -m=\"\" -a` |> run"
   ]
  },
  {
   "cell_type": "code",
   "execution_count": null,
   "metadata": {
    "collapsed": true
   },
   "outputs": [],
   "source": []
  }
 ],
 "metadata": {
  "kernelspec": {
   "display_name": "Julia 0.5.0-dev",
   "language": "julia",
   "name": "julia-0.5"
  },
  "language_info": {
   "file_extension": ".jl",
   "mimetype": "application/julia",
   "name": "julia",
   "version": "0.5.0"
  }
 },
 "nbformat": 4,
 "nbformat_minor": 0
}
