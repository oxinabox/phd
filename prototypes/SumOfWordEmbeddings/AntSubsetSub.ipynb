{
 "cells": [
  {
   "cell_type": "code",
   "execution_count": 1,
   "metadata": {
    "collapsed": false
   },
   "outputs": [
    {
     "name": "stderr",
     "output_type": "stream",
     "text": [
      "WARNING: Base.Uint8 is deprecated, use UInt8 instead.\n",
      "WARNING: Base.Uint8 is deprecated, use UInt8 instead.\n",
      "WARNING: Base.Uint8 is deprecated, use UInt8 instead.\n",
      "WARNING: Base.Uint8 is deprecated, use UInt8 instead.\n",
      "WARNING: Base.Uint8 is deprecated, use UInt8 instead.\n",
      "WARNING: Base.Uint8 is deprecated, use UInt8 instead.\n",
      "WARNING: Base.Uint8 is deprecated, use UInt8 instead.\n",
      "WARNING: Base.Uint8 is deprecated, use UInt8 instead.\n",
      "WARNING: Base.Uint8 is deprecated, use UInt8 instead.\n",
      "WARNING: Base.Uint8 is deprecated, use UInt8 instead.\n",
      "WARNING: Base.Uint8 is deprecated, use UInt8 instead.\n",
      "WARNING: Base.Uint8 is deprecated, use UInt8 instead.\n",
      "WARNING: Base.Uint8 is deprecated, use UInt8 instead.\n",
      "WARNING: Base.Uint8 is deprecated, use UInt8 instead.\n",
      "WARNING: Base.Uint8 is deprecated, use UInt8 instead.\n",
      "WARNING: Union(args...) is deprecated, use Union{args...} instead.\n"
     ]
    }
   ],
   "source": [
    "using Iterators\n",
    "using Pipe\n",
    "using Compat\n",
    "\n",
    "macro printval(ee)\n",
    "    ee_expr = @sprintf \"%s\" string(ee)\n",
    "    esc(:(println($ee_expr,\" = \", $ee)))\n",
    "end\n",
    "\n",
    "macro pz(ee)\n",
    "    ee_expr = @sprintf \"%s\" string(ee)\n",
    "    esc(:(println($ee_expr,\"\\t\\t\",typeof($ee), \"\\t\", size($ee))))\n",
    "end"
   ]
  },
  {
   "cell_type": "code",
   "execution_count": 2,
   "metadata": {
    "collapsed": false
   },
   "outputs": [
    {
     "data": {
      "text/plain": [
       "Set([7,4,9,2,3,5,8,6,1])"
      ]
     },
     "execution_count": 2,
     "metadata": {},
     "output_type": "execute_result"
    },
    {
     "name": "stderr",
     "output_type": "stream",
     "text": [
      " in depwarn at deprecated.jl:73\n",
      " in call at deprecated.jl:50\n",
      " in include at ./boot.jl:261\n",
      " in include_from_node1 at ./loading.jl:304\n",
      " in require at ./loading.jl:243\n",
      " in include_string at loading.jl:266\n",
      " in execute_request_0x535c5df2 at /home/ubuntu/.julia/v0.5/IJulia/src/execute_request.jl:177\n",
      " in eventloop at /home/ubuntu/.julia/v0.5/IJulia/src/IJulia.jl:142\n",
      " in anonymous at task.jl:443\n",
      "while loading /home/ubuntu/.julia/v0.5/Pipe/src/Pipe.jl, in expression starting on line 36\n"
     ]
    }
   ],
   "source": [
    "words = Set(collect(1:9))"
   ]
  },
  {
   "cell_type": "code",
   "execution_count": 3,
   "metadata": {
    "collapsed": false
   },
   "outputs": [
    {
     "data": {
      "text/plain": [
       "9x9 Array{Float64,2}:\n",
       " 0.0    0.0  0.0  0.0  0.0  0.0  0.0  0.0  0.0\n",
       " 0.125  0.0  0.0  0.0  0.4  0.0  0.0  0.0  0.0\n",
       " 0.125  0.0  0.5  0.7  0.0  0.0  0.0  0.0  0.0\n",
       " 0.125  0.5  0.1  0.1  0.1  0.0  0.0  0.0  0.0\n",
       " 0.125  0.0  0.1  0.1  0.0  0.0  0.5  0.0  0.0\n",
       " 0.125  0.0  0.1  0.1  0.2  0.0  0.0  0.0  0.0\n",
       " 0.125  0.0  0.1  0.0  0.0  1.0  0.5  0.0  0.0\n",
       " 0.125  0.5  0.1  0.0  0.2  0.0  0.0  0.2  0.0\n",
       " 0.125  0.0  0.0  0.0  0.1  0.0  0.0  0.8  0.0"
      ]
     },
     "execution_count": 3,
     "metadata": {},
     "output_type": "execute_result"
    }
   ],
   "source": [
    "bigram = zeros(length(words),length(words))\n",
    "bigram[1,2:end]=1./(length(words)-1)\n",
    "bigram[2,4]=0.5\n",
    "bigram[2,8]=0.5\n",
    "bigram[3,3]=0.5\n",
    "bigram[3,4:8]=0.1\n",
    "bigram[4,3]=0.7\n",
    "bigram[4,4]=0.1\n",
    "bigram[4,5]=0.1\n",
    "bigram[4,6]=0.1\n",
    "bigram[5,4]=0.1\n",
    "bigram[5,6]=0.2\n",
    "bigram[5,2]=0.4\n",
    "bigram[5,8]=0.2\n",
    "bigram[5,9]=0.1\n",
    "bigram[6,7]=1.0\n",
    "bigram[7,5]=0.5\n",
    "bigram[7,7]=0.5\n",
    "bigram[8,8]=0.2\n",
    "bigram[8,9]=0.8\n",
    "bigram[9,:]=0\n",
    "bigram=bigram' #I Wrote this in the slow order, it should be Dest,source"
   ]
  },
  {
   "cell_type": "code",
   "execution_count": 4,
   "metadata": {
    "collapsed": false
   },
   "outputs": [
    {
     "name": "stderr",
     "output_type": "stream",
     "text": [
      "WARNING: Base.Uint8 is deprecated, use UInt8 instead.\n",
      "WARNING: Base.Uint8 is deprecated, use UInt8 instead.\n",
      "WARNING: Base.Uint8 is deprecated, use UInt8 instead.\n",
      "WARNING: Base.Uint8 is deprecated, use UInt8 instead.\n",
      "WARNING: Base.Uint8 is deprecated, use UInt8 instead.\n",
      "WARNING: Base.Uint8 is deprecated, use UInt8 instead.\n"
     ]
    },
    {
     "data": {
      "text/plain": [
       "select_node (generic function with 2 methods)"
      ]
     },
     "execution_count": 4,
     "metadata": {},
     "output_type": "execute_result"
    }
   ],
   "source": [
    "function select_node(x, edge_probs,ϵ=10.0^-5)\n",
    "    @assert any(edge_probs[:, x] .> ϵ)\n",
    "    cutoff = rand()\n",
    "    total = 0.0\n",
    "    for y in 1:size(edge_probs)[1]\n",
    "        total+=edge_probs[y,x]\n",
    "        \n",
    "        if total>=cutoff\n",
    "            return y\n",
    "        end\n",
    "    end\n",
    "    \n",
    "    @assert(total>=cutoff, \"x=$x, total= $total, cutoff=$cutoff\") #Should Never Reach this point\n",
    "end\n"
   ]
  },
  {
   "cell_type": "code",
   "execution_count": 29,
   "metadata": {
    "collapsed": false
   },
   "outputs": [
    {
     "data": {
      "text/plain": [
       "optimise (generic function with 1 method)"
      ]
     },
     "execution_count": 29,
     "metadata": {},
     "output_type": "execute_result"
    }
   ],
   "source": [
    "typealias Ant{T} Vector{T}\n",
    "\n",
    "function run_ant(edge_probs,ϵ=10.0^-5)\n",
    "    path = [1] #1 is always the start node. Attached to it are unigram probs\n",
    "    while any(edge_probs[:, path[end]] .> ϵ ) #While there is anywhere to go from here\n",
    "        push!(path, select_node(path[end], edge_probs, ϵ))\n",
    "    end\n",
    "    path    \n",
    "end\n",
    "\n",
    "\n",
    "function run_ants(τ,η, α, β,n_ants)\n",
    "    # τ = Pheromone\n",
    "    # η = Prior\n",
    "    # α = pheremone weight\n",
    "    # ϵ = Cut-off for a edge to be considered disconnected\n",
    "    \n",
    "    edges = τ.^α .* η.^β\n",
    "    \n",
    "    edges./=sum(edges,1) #Normalise to probabilities\n",
    "    edges[isnan(edges)]=0.0 #The terminal node will have a sum of zero\n",
    "    map( _ -> run_ant(edges), 1:n_ants)   \n",
    "end\n",
    "\n",
    "function optimise(η, α, β, n_ants, n_gens)\n",
    "    \n",
    "    assert(α>=1.0)\n",
    "    assert(β>=1.0)\n",
    "    \n",
    "    max_fit = -Inf;\n",
    "    fittest_path = [NaN]\n",
    "    τ = ones(η)\n",
    "    for gen_ii in 1:n_gens\n",
    "        print(\"Gen: $gen_ii\\n\")\n",
    "        paths = run_ants(τ,η, α, β, n_ants)\n",
    "        \n",
    "        function fitness(path)\n",
    "            # a overly simple fitness function\n",
    "            1./abs(30 - sum(path))\n",
    "        end\n",
    "        \n",
    "    \n",
    "        for path in paths\n",
    "            fit = fitness(path)\n",
    "            if fit>max_fit\n",
    "                max_fit = fit\n",
    "                fittest_path = path\n",
    "            end\n",
    "            \n",
    "            for node_ii in 1:length(path)-1\n",
    "                node = path[node_ii]\n",
    "                next_node = path[node_ii+1]\n",
    "                τ[next_node, node] += fit\n",
    "            end\n",
    "        end\n",
    "    end #Next Generation\n",
    "    \n",
    "    fittest_path, max_fit\n",
    "    \n",
    "end"
   ]
  },
  {
   "cell_type": "code",
   "execution_count": 30,
   "metadata": {
    "collapsed": false,
    "scrolled": true
   },
   "outputs": [
    {
     "name": "stdout",
     "output_type": "stream",
     "text": [
      "Gen: 1\n",
      "Gen: 2\n"
     ]
    },
    {
     "data": {
      "text/plain": [
       "([1,7,5,8,9],Inf)"
      ]
     },
     "execution_count": 30,
     "metadata": {},
     "output_type": "execute_result"
    },
    {
     "name": "stdout",
     "output_type": "stream",
     "text": [
      "Gen: 3\n",
      "Gen: 4\n",
      "Gen: 5\n",
      "Gen: 6\n",
      "Gen: 7\n",
      "Gen: 8\n",
      "Gen: 9\n",
      "Gen: 10\n"
     ]
    }
   ],
   "source": [
    "optimise(bigram,1,2, 10,10)"
   ]
  },
  {
   "cell_type": "code",
   "execution_count": 31,
   "metadata": {
    "collapsed": false
   },
   "outputs": [
    {
     "data": {
      "text/plain": [
       "30"
      ]
     },
     "execution_count": 31,
     "metadata": {},
     "output_type": "execute_result"
    }
   ],
   "source": [
    "sum(ans[1])"
   ]
  },
  {
   "cell_type": "code",
   "execution_count": null,
   "metadata": {
    "collapsed": false
   },
   "outputs": [],
   "source": [
    "sum([1,6,7,5,2,8,9])"
   ]
  },
  {
   "cell_type": "code",
   "execution_count": 28,
   "metadata": {
    "collapsed": false
   },
   "outputs": [],
   "source": [
    "`git add AntSubsetSub.ipynb` |> run"
   ]
  },
  {
   "cell_type": "code",
   "execution_count": null,
   "metadata": {
    "collapsed": true
   },
   "outputs": [],
   "source": []
  }
 ],
 "metadata": {
  "kernelspec": {
   "display_name": "Julia 0.5.0-dev",
   "language": "julia",
   "name": "julia-0.5"
  },
  "language_info": {
   "file_extension": ".jl",
   "mimetype": "application/julia",
   "name": "julia",
   "version": "0.5.0"
  }
 },
 "nbformat": 4,
 "nbformat_minor": 0
}
