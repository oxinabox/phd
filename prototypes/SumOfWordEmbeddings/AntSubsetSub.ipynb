{
 "cells": [
  {
   "cell_type": "code",
   "execution_count": 5,
   "metadata": {
    "collapsed": false
   },
   "outputs": [
    {
     "data": {
      "text/plain": [
       "4-element Array{ByteString,1}:\n",
       " \"/home/ubuntu/build/julia-master/usr/local/share/julia/site/v0.5\"\n",
       " \"/home/ubuntu/build/julia-master/usr/share/julia/site/v0.5\"      \n",
       " \".\"                                                              \n",
       " \"../util/\"                                                       "
      ]
     },
     "execution_count": 5,
     "metadata": {},
     "output_type": "execute_result"
    }
   ],
   "source": [
    "using Iterators\n",
    "using Pipe\n",
    "using Compat\n",
    "\n",
    "macro printval(ee)\n",
    "    ee_expr = @sprintf \"%s\" string(ee)\n",
    "    esc(:(println($ee_expr,\" = \", $ee)))\n",
    "end\n",
    "\n",
    "macro pz(ee)\n",
    "    ee_expr = @sprintf \"%s\" string(ee)\n",
    "    esc(:(println($ee_expr,\"\\t\\t\",typeof($ee), \"\\t\", size($ee))))\n",
    "end\n",
    "\n",
    "push!(LOAD_PATH, \".\")\n",
    "push!(LOAD_PATH, \"../util/\")"
   ]
  },
  {
   "cell_type": "code",
   "execution_count": 6,
   "metadata": {
    "collapsed": false,
    "scrolled": true
   },
   "outputs": [],
   "source": [
    "@everywhere using Distances"
   ]
  },
  {
   "cell_type": "code",
   "execution_count": 7,
   "metadata": {
    "collapsed": false,
    "scrolled": true
   },
   "outputs": [],
   "source": [
    "const START_MARKER = \"**START**\"\n",
    "const END_MARKER = \"**END**\"\n",
    "\n",
    "atis_data = open(\"atis_data.jsz\",\"r\") do fh\n",
    "    deserialize(fh)    \n",
    "end\n",
    "\n",
    "@assert START_MARKER in atis_data[\"indexed_words\"]\n",
    "@assert START_MARKER in keys(atis_data[\"word_indexes\"])\n",
    "@assert END_MARKER in atis_data[\"indexed_words\"]\n",
    "@assert END_MARKER in keys(atis_data[\"word_indexes\"])"
   ]
  },
  {
   "cell_type": "code",
   "execution_count": 8,
   "metadata": {
    "collapsed": false,
    "scrolled": true
   },
   "outputs": [],
   "source": [
    "# τ = Pheromone\n",
    "# η = Prior\n",
    "# α = pheremone weight\n",
    "# β = prior weight\n",
    "# ρ = pheremone evaporation\n",
    "\n",
    "@everywhere @inline function select_index{V<:AbstractVector}(edge_probs::V)\n",
    "    cutoff = rand()\n",
    "    total = 0.0\n",
    "    @assert(length(edge_probs)>0, \"No probs given\")\n",
    "    for (ii,prob) in enumerate(edge_probs)\n",
    "        total+=prob\n",
    "        if total>=cutoff\n",
    "            return ii\n",
    "        end\n",
    "    end\n",
    "    \n",
    "    @assert(total>=cutoff, \"total= $total, cutoff=$cutoff, $edge_probs\") #Should Never Reach this point\n",
    "end\n",
    "\n",
    "\n",
    "@everywhere function evaporate!{M<:AbstractArray}(τ::M, ρ)\n",
    "    τ.*=(1.0-ρ) #Evaporation\n",
    "end\n",
    "\n",
    "    \n",
    "\n",
    "@everywhere function deposit!{M<:AbstractVector}(τ::M, path, fit)\n",
    "    #Are You In or Out?  Double Crosser or Devout\n",
    "    #Order actually means nothing in this problem\n",
    "    #Cooccurance doesn't really many anything either\n",
    "    #Cooccurance is a problem for the prior that need \n",
    "    #to be conerned with all answers not just this one\n",
    "    for node in path\n",
    "        @inbounds τ[node] += fit./length(path)\n",
    "    end\n",
    "    τ\n",
    "end\n",
    "\n",
    "@everywhere function get_edge_probs(τ,η::Function, α, β)\n",
    "    τ_scaled = (τ).^α\n",
    "    function get_prob(state)\n",
    "        η_scaled = (η(state)).^β\n",
    "        tot = τ_scaled .* τ_scaled\n",
    "        tot./sum(tot)\n",
    "    end\n",
    "end\n",
    "\n",
    "@everywhere @inline function select_node(edge_probs::Function, path=[])\n",
    "    select_index(edge_probs(path))\n",
    "end\n"
   ]
  },
  {
   "cell_type": "code",
   "execution_count": 9,
   "metadata": {
    "collapsed": false
   },
   "outputs": [
    {
     "data": {
      "text/plain": [
       "5-element Array{Int64,1}:\n",
       " -2\n",
       " -1\n",
       " 23\n",
       " 32\n",
       " 42"
      ]
     },
     "execution_count": 9,
     "metadata": {},
     "output_type": "execute_result"
    }
   ],
   "source": [
    "sort!([-1,-2,32,23,42], by=pf->pf)"
   ]
  },
  {
   "cell_type": "code",
   "execution_count": 10,
   "metadata": {
    "collapsed": false
   },
   "outputs": [
    {
     "data": {
      "text/plain": [
       "optimise (generic function with 2 methods)"
      ]
     },
     "execution_count": 10,
     "metadata": {},
     "output_type": "execute_result"
    }
   ],
   "source": [
    "#If you pass in a start index of greater than zero, then atre using a starting index, otherswise not\n",
    "@everywhere function run_ant(edge_probs, end_prob_dist)\n",
    "    path = Int[]\n",
    "    len = select_index(end_prob_dist)\n",
    "    for _ in 1:len\n",
    "        push!(path, select_node(edge_probs, path))\n",
    "    end\n",
    "    path    \n",
    "end\n",
    "\n",
    "\n",
    "function optimise(fit_fun, τ, η, end_prob_dist;  α=1, β=1,ρ=0, n_ants=100, n_gens=10, callback=Union{})\n",
    "    assert(α>=1.0)\n",
    "    assert(β>=1.0)\n",
    "    assert(0.0<=ρ<1.0)\n",
    "    \n",
    "    max_fit::Float64 = -Inf;\n",
    "    fittest_path::Vector{Int} = []\n",
    "    \n",
    "    for gen_ii in 1:n_gens\n",
    "\n",
    "        edge_probs = get_edge_probs(τ,η, α, β)\n",
    "\n",
    "        path_fits::Vector{Tuple{Vector{Int},Float64}} = map(1:n_ants) do ant_id\n",
    "            path::Vector{Int} = run_ant(edge_probs, end_prob_dist)\n",
    "            fit::Float64 = fit_fun(path)\n",
    "            (path, fit)\n",
    "        end\n",
    "        \n",
    "        ranked_path_fits = select!(path_fits,1:100, by=pf->-pf[2])\n",
    "        scales = 100:-1:1\n",
    "        \n",
    "        evaporate!(τ,ρ)\n",
    "        for ((path, fit),scale) in zip(ranked_path_fits,scales)\n",
    "        #for (path, fit) in path_fits\n",
    "            if fit>max_fit\n",
    "                max_fit = fit\n",
    "                fittest_path = path\n",
    "                \n",
    "                if fit==Inf #Perfect Fit\n",
    "                    return fittest_path, max_fit\n",
    "                end\n",
    "            end\n",
    "            deposit!(τ,path, fit)\n",
    "        end\n",
    "        \n",
    "        if callback |> typeof <:Function\n",
    "            callback(gen_ii, τ,fittest_path,max_fit,path_fits)\n",
    "        end\n",
    "        \n",
    "    end #Next Generation\n",
    "    \n",
    "    fittest_path, max_fit, τ\n",
    "end\n",
    "\n",
    "\n",
    "function optimise(fit_fun, n_dims::Int64, η::Function, end_prob_dist; kwargs...)\n",
    "    τ = [rand() for nn in 1:n_dims]\n",
    "    \n",
    "    optimise(fit_fun, τ, η, end_prob_dist;kwargs...)\n",
    "end\n"
   ]
  },
  {
   "cell_type": "code",
   "execution_count": 11,
   "metadata": {
    "collapsed": false
   },
   "outputs": [
    {
     "data": {
      "text/plain": [
       "get_prior_fun (generic function with 1 method)"
      ]
     },
     "execution_count": 11,
     "metadata": {},
     "output_type": "execute_result"
    }
   ],
   "source": [
    "@fastmath function get_prior_fun(uni_occur,bi_occur)\n",
    "    n_edges=length(uni_occur)\n",
    "    function prior(ws)\n",
    "        if length(ws)==0\n",
    "            uni_occur\n",
    "        elseif length(ws)==1\n",
    "            bi_occur[:,ws[1]]\n",
    "        else\n",
    "            (uni_occur + sum([bi_occur[:,w] for w in ws]))/(length(ws)+1) #Just average them cos its cheap\n",
    "        end\n",
    "    end    \n",
    "end\n",
    "\n",
    "\n"
   ]
  },
  {
   "cell_type": "code",
   "execution_count": 12,
   "metadata": {
    "collapsed": false
   },
   "outputs": [
    {
     "data": {
      "text/plain": [
       "lookup_words (generic function with 1 method)"
      ]
     },
     "execution_count": 12,
     "metadata": {},
     "output_type": "execute_result"
    }
   ],
   "source": [
    "function lookup_sowe(data, sent)\n",
    "    sum([data[\"LL\"][:,data[\"word_indexes\"][word]] for word in split(sent)]) \n",
    "end\n",
    "\n",
    "function lookup_words(data, path)\n",
    "    [data[\"indexed_words\"][ii] for ii in path]\n",
    "end"
   ]
  },
  {
   "cell_type": "code",
   "execution_count": 13,
   "metadata": {
    "collapsed": false
   },
   "outputs": [
    {
     "data": {
      "text/plain": [
       "built_optimise (generic function with 2 methods)"
      ]
     },
     "execution_count": 13,
     "metadata": {},
     "output_type": "execute_result"
    }
   ],
   "source": [
    "function built_optimise(data::Dict, target_sent::AbstractString, log=False; kwargs...)\n",
    "    target::Vector{Float64} = lookup_sowe(data,target_sent)\n",
    "    LL =data[\"LL\"]\n",
    "    indexed_words=data[\"indexed_words\"]\n",
    "    @inline function fitness(path)\n",
    "        #Fitter is larger\n",
    "        @inbounds path_end = sum([LL[:,ii] for ii in path]) \n",
    "        -1.0*euclidean(path_end, target)\n",
    "    end\n",
    "\n",
    "    τlog=[]\n",
    "    if log\n",
    "        log = (gen_ii, τ,fittest_path,max_fit, path_fits) -> begin\n",
    "            print(\"oGen: $gen_ii - fit: $max_fit \")\n",
    "            print(lookup_words(data, fittest_path))\n",
    "            #path_lens = [length(pf[1]) for pf in path_fits]\n",
    "            #print(\"mean_len = $(mean(path_lens))\")\n",
    "            #print(\" max_len = $(maximum(path_lens))\")\n",
    "            println()\n",
    "            push!(τlog,copy(τ))\n",
    "            \n",
    "        end\n",
    "    end\n",
    "    \n",
    "    n_dims = size(LL,2)\n",
    "    length_dist = data[\"length_prob\"]\n",
    "    #length_dist = ws->0.5\n",
    "    prior = get_prior_fun(data[\"unioccur\"], data[\"bioccur\"])\n",
    "       \n",
    "    \n",
    "    \n",
    "    path, score, τ = optimise(fitness,n_dims, prior, length_dist; callback=log, kwargs...)\n",
    "    push!(τlog,τ)\n",
    "    score,lookup_words(data, path), τlog\n",
    "end"
   ]
  },
  {
   "cell_type": "code",
   "execution_count": null,
   "metadata": {
    "collapsed": false,
    "scrolled": true
   },
   "outputs": [],
   "source": [
    "@time score, words, τlog = built_optimise(atis_data,\"show flights from washington to san francisco\", true;\n",
    "α=1, β=1, ρ=0.2, n_ants=10000, n_gens=10);\n",
    "words"
   ]
  },
  {
   "cell_type": "code",
   "execution_count": null,
   "metadata": {
    "collapsed": true
   },
   "outputs": [],
   "source": []
  },
  {
   "cell_type": "code",
   "execution_count": 29,
   "metadata": {
    "collapsed": false
   },
   "outputs": [
    {
     "data": {
      "text/plain": [
       "greedy_local_search (generic function with 5 methods)"
      ]
     },
     "execution_count": 29,
     "metadata": {},
     "output_type": "execute_result"
    }
   ],
   "source": [
    "function subset_bool_indexes(K::Int)\n",
    "    Vector{Bool}[[ss...] for ss in product([[true,false] for _ in 1:K]...)]\n",
    "end\n",
    "function subset_bool_indexes(vector)\n",
    "    subset_bool_indexes(length(vector))\n",
    "end\n",
    "\n",
    "function greedy_local_search(data::Dict, target_sent::AbstractString, initial_words=AbstractString[]::Vector{AbstractString})\n",
    "    target::Vector{Float64} = lookup_sowe(data,target_sent)\n",
    "    greedy_local_search(data, target, initial_words)\n",
    "end\n",
    "\n",
    "function greedy_local_search(data::Dict, target::Vector{Float64}, initial_words=AbstractString[]::Vector{AbstractString})\n",
    "    \n",
    "    LL =data[\"LL\"]\n",
    "    indexed_words=data[\"indexed_words\"]\n",
    "    n_dims = size(LL,2)\n",
    "\n",
    "    @inline function get_end(ws::Vector{Int64})\n",
    "        @inbounds sofar = length(ws)>0 ? sum([LL[:,ii] for ii in ws]) : zeros(LL[:,1])\n",
    "        sofar\n",
    "    end\n",
    "    \n",
    "    @inline function fitness(path::Vector{Int64})\n",
    "        #Fitter is smaller\n",
    "        -euclidean(get_end(path), target)   \n",
    "    end\n",
    "    \n",
    "    \n",
    "    @fastmath function score_possible_additions(ws)\n",
    "        @inbounds path_ends = LL.+get_end(ws)\n",
    "        -sqrt(vec(sum((path_ends .- target).^2,1)))\n",
    "    end   \n",
    "    \n",
    "    initial_word_set = Int[data[\"word_indexes\"][word] for word in initial_words]\n",
    "    best_word_set = initial_word_set\n",
    "    best_score = fitness(best_word_set)\n",
    "    did_improve=true\n",
    "    \n",
    "    if length(initial_words)>0\n",
    "        did_improve=false\n",
    "        for subset_inds in subset_bool_indexes(best_word_set)[1:end-1]\n",
    "            word_set = initial_word_set[subset_inds]\n",
    "            if fitness(word_set)>best_score\n",
    "                best_score=fitness(word_set)\n",
    "                best_word_set = word_set\n",
    "                println(\"*$best_score $(lookup_words(data, best_word_set))\")\n",
    "                did_improve=true\n",
    "            end\n",
    "\n",
    "            addition_scores = score_possible_additions(word_set)\n",
    "            addition_score, addition = findmax(addition_scores)\n",
    "            if addition_score>best_score\n",
    "                best_score=addition_score\n",
    "                best_word_set = Int[word_set...,addition]\n",
    "                println(\"!$best_score $(lookup_words(data, best_word_set))\")\n",
    "                did_improve=true\n",
    "            end\n",
    "        end\n",
    "    end\n",
    "    \n",
    "    \n",
    "    while (did_improve)\n",
    "        did_improve=false\n",
    "        addition_scores = score_possible_additions(best_word_set)\n",
    "        addition_score, addition = findmax(addition_scores)\n",
    "        if addition_score>best_score\n",
    "            best_score=addition_score\n",
    "            best_word_set = [best_word_set...,addition]\n",
    "            println(\"+$best_score $(lookup_words(data, best_word_set))\")\n",
    "            did_improve=true\n",
    "        end\n",
    "    end\n",
    "    \n",
    "    best_score,lookup_words(data, best_word_set)\n",
    "end\n"
   ]
  },
  {
   "cell_type": "code",
   "execution_count": 30,
   "metadata": {
    "collapsed": false
   },
   "outputs": [
    {
     "name": "stdout",
     "output_type": "stream",
     "text": [
      "+-2.5246724924254855 Any[\"francisco\"]\n"
     ]
    },
    {
     "data": {
      "text/plain": [
       "(-0.0,Any[\"francisco\",\"washington\",\"from\",\"flights\",\"san\",\"show\"])"
      ]
     },
     "execution_count": 30,
     "metadata": {},
     "output_type": "execute_result"
    },
    {
     "name": "stdout",
     "output_type": "stream",
     "text": [
      "+-2.115438537963471 Any[\"francisco\",\"washington\"]\n",
      "+-1.7577083221196999 Any[\"francisco\",\"washington\",\"from\"]\n",
      "+-1.3735055232576556 Any[\"francisco\",\"washington\",\"from\",\"flights\"]\n",
      "+-0.9999999692848569 Any[\"francisco\",\"washington\",\"from\",\"flights\",\"san\"]\n",
      "+-0.0 Any[\"francisco\",\"washington\",\"from\",\"flights\",\"san\",\"show\"]\n"
     ]
    }
   ],
   "source": [
    "greedy_local_search(atis_data, \"show flights from washington to san francisco\", AbstractString[])"
   ]
  },
  {
   "cell_type": "code",
   "execution_count": 25,
   "metadata": {
    "collapsed": false
   },
   "outputs": [
    {
     "name": "stdout",
     "output_type": "stream",
     "text": [
      "+-1.4272728232394019 Any[\"flights\"]\n"
     ]
    },
    {
     "data": {
      "text/plain": [
       "(-0.0,Any[\"flights\",\"cheapest\",\"show\"])"
      ]
     },
     "execution_count": 25,
     "metadata": {},
     "output_type": "execute_result"
    },
    {
     "name": "stdout",
     "output_type": "stream",
     "text": [
      "+-0.9999999692848569 Any[\"flights\",\"cheapest\"]\n",
      "+-0.0 Any[\"flights\",\"cheapest\",\"show\"]\n"
     ]
    }
   ],
   "source": [
    "greedy_local_search(atis_data, \"show cheapest flights\")"
   ]
  },
  {
   "cell_type": "code",
   "execution_count": 26,
   "metadata": {
    "collapsed": false
   },
   "outputs": [
    {
     "name": "stdout",
     "output_type": "stream",
     "text": [
      "+-2.7960536435600543 Any[\"francisco\"]\n"
     ]
    },
    {
     "data": {
      "text/plain": [
       "(-0.0,Any[\"francisco\",\"washington\",\"flight\",\"from\",\"cheapest\",\"san\",\"show\"])"
      ]
     },
     "execution_count": 26,
     "metadata": {},
     "output_type": "execute_result"
    },
    {
     "name": "stdout",
     "output_type": "stream",
     "text": [
      "+-2.4235171879554462 Any[\"francisco\",\"washington\"]\n",
      "+-2.0417987148573475 Any[\"francisco\",\"washington\",\"flight\"]\n",
      "+-1.6977284510791408 Any[\"francisco\",\"washington\",\"flight\",\"from\"]\n",
      "+-1.3735055232576556 Any[\"francisco\",\"washington\",\"flight\",\"from\",\"cheapest\"]\n",
      "+-0.9999999692848569 Any[\"francisco\",\"washington\",\"flight\",\"from\",\"cheapest\",\"san\"]\n",
      "+-0.0 Any[\"francisco\",\"washington\",\"flight\",\"from\",\"cheapest\",\"san\",\"show\"]\n"
     ]
    }
   ],
   "source": [
    "greedy_local_search(atis_data, \"show cheapest flight from washington to san francisco\", AbstractString[])"
   ]
  },
  {
   "cell_type": "code",
   "execution_count": 28,
   "metadata": {
    "collapsed": false
   },
   "outputs": [
    {
     "name": "stdout",
     "output_type": "stream",
     "text": [
      "+-3.170136926890734 Any[\"francisco\"]\n",
      "+-2.7940736483358637 Any[\"francisco\",\"cheapest\"]\n",
      "+-2.4445759168104977 Any[\"francisco\",\"cheapest\",\"washington\"]\n",
      "+-2.098351878037111 Any[\"francisco\",\"cheapest\",\"washington\",\"from\"]\n",
      "+-1.7267522992131603 Any[\"francisco\",\"cheapest\",\"washington\",\"from\",\"flights\"]\n",
      "+-1.3735055232576556 Any[\"francisco\",\"cheapest\",\"washington\",\"from\",\"flights\",\"shortest\"]\n",
      "+-0.9999999692848569 Any[\"francisco\",\"cheapest\",\"washington\",\"from\",\"flights\",\"shortest\",\"san\"]\n",
      "+-0.0 Any[\"francisco\",\"cheapest\",\"washington\",\"from\",\"flights\",\"shortest\",\"san\",\"show\"]\n"
     ]
    },
    {
     "data": {
      "text/plain": [
       "(-0.0,Any[\"francisco\",\"cheapest\",\"washington\",\"from\",\"flights\",\"shortest\",\"san\",\"show\"])"
      ]
     },
     "execution_count": 28,
     "metadata": {},
     "output_type": "execute_result"
    }
   ],
   "source": [
    "greedy_local_search(atis_data, \"show cheapest and shortest flights from washington to san francisco\", AbstractString[])"
   ]
  },
  {
   "cell_type": "code",
   "execution_count": 53,
   "metadata": {
    "collapsed": false
   },
   "outputs": [
    {
     "name": "stdout",
     "output_type": "stream",
     "text": [
      "+-3.5417787531885234 Any[\"francisco\"]\n"
     ]
    },
    {
     "data": {
      "text/plain": [
       "(-0.9238781650806026,Any[\"francisco\",\"washington\",\"flights\",\"from\",\"san\",\"show\",\"cheapest\",\"shortest\"])"
      ]
     },
     "execution_count": 53,
     "metadata": {},
     "output_type": "execute_result"
    },
    {
     "name": "stdout",
     "output_type": "stream",
     "text": [
      "+-3.110976266049679 Any[\"francisco\",\"washington\"]\n",
      "+-2.7018626517592645 Any[\"francisco\",\"washington\",\"flights\"]\n",
      "+-2.2880189617506828 Any[\"francisco\",\"washington\",\"flights\",\"from\"]\n",
      "+-1.8743271387257674 Any[\"francisco\",\"washington\",\"flights\",\"from\",\"san\"]\n",
      "+-1.3589086657868763 Any[\"francisco\",\"washington\",\"flights\",\"from\",\"san\",\"show\"]\n",
      "+-0.9844346359927165 Any[\"francisco\",\"washington\",\"flights\",\"from\",\"san\",\"show\",\"cheapest\"]\n",
      "+-0.9238781650806026 Any[\"francisco\",\"washington\",\"flights\",\"from\",\"san\",\"show\",\"cheapest\",\"shortest\"]\n"
     ]
    }
   ],
   "source": [
    "target = lookup_sowe(atis_data,\"show cheapest flights from washington to san francisco\")\n",
    "target += lookup_sowe(atis_data,\"show shortest flights from washington to san francisco\")\n",
    "target./=1.6\n",
    "greedy_local_search(atis_data,target)"
   ]
  },
  {
   "cell_type": "code",
   "execution_count": 55,
   "metadata": {
    "collapsed": false
   },
   "outputs": [
    {
     "name": "stderr",
     "output_type": "stream",
     "text": [
      "To git@github.com:oxinabox/phd.git\n",
      " ! [rejected]        master -> master (fetch first)\n"
     ]
    },
    {
     "ename": "LoadError",
     "evalue": "LoadError: failed process: Process(`git push`, ProcessExited(1)) [1]\nwhile loading In[55], in expression starting on line 1",
     "output_type": "error",
     "traceback": [
      "LoadError: failed process: Process(`git push`, ProcessExited(1)) [1]\nwhile loading In[55], in expression starting on line 1",
      "",
      " in run at ./process.jl:531",
      " in |> at operators.jl:198"
     ]
    },
    {
     "name": "stderr",
     "output_type": "stream",
     "text": [
      "error: failed to push some refs to 'git@github.com:oxinabox/phd.git'\n",
      "hint: Updates were rejected because the remote contains work that you do\n",
      "hint: not have locally. This is usually caused by another repository pushing\n",
      "hint: to the same ref. You may want to first integrate the remote changes\n",
      "hint: (e.g., 'git pull ...') before pushing again.\n",
      "hint: See the 'Note about fast-forwards' in 'git push --help' for details.\n"
     ]
    }
   ],
   "source": [
    "`git push` |> run"
   ]
  },
  {
   "cell_type": "code",
   "execution_count": null,
   "metadata": {
    "collapsed": true
   },
   "outputs": [],
   "source": []
  },
  {
   "cell_type": "code",
   "execution_count": null,
   "metadata": {
    "collapsed": false,
    "scrolled": true
   },
   "outputs": [],
   "source": [
    "using UnicodePlots\n",
    "using IJulia\n",
    "\n",
    "for τ in τlog\n",
    "    nw = zip(τ,atis_data[\"indexed_words\"]) |> collect\n",
    "    \n",
    "    freq,name = zip(select!(nw, 1:min(20,length(nw)), by=fw->-fw[1])...) |> collect\n",
    "    IJulia.display(barplot(name|> collect,freq|> collect))\n",
    "end\n"
   ]
  },
  {
   "cell_type": "code",
   "execution_count": null,
   "metadata": {
    "collapsed": false
   },
   "outputs": [],
   "source": []
  },
  {
   "cell_type": "code",
   "execution_count": null,
   "metadata": {
    "collapsed": false
   },
   "outputs": [],
   "source": [
    "using DataStructures\n",
    "using DataStructuresExtended\n",
    "\n",
    "\n",
    "@fastmath function get_prior_fun(uni_occur, bi_joint, prob_length, end_index)\n",
    "    n_edges=length(uni_occur)\n",
    "    bi_marginal = sum(bi_joint,1)\n",
    "    bi_conditional = bi_joint./bi_marginal\n",
    "  \n",
    "    \n",
    "    @inline function joint(aa::Int64)\n",
    "        @inbounds ret = bi_marginal[aa]\n",
    "        ret\n",
    "    end\n",
    "    \n",
    "    @inline function joint(aa::Int64,bb::Int64)\n",
    "        @inbounds ret = bi_joint[aa, bb]\n",
    "        ret\n",
    "    end\n",
    "    \n",
    "    joint_cache_stats = Dict([(\"hits\",0), (\"misses\",0)])\n",
    "    joint_cache = Dict{Accumulator{Int64,Int64}, Float64}() #TODO Should Use a multiset instead to index\n",
    "    @inline function joint(xxs...) \n",
    "        @assert(length(xxs)>=3)\n",
    "        xxs_bag = counter(Int64, xxs) \n",
    "        if !(haskey(joint_cache,xxs_bag))\n",
    "            joint_cache_stats[\"misses\"]+=1\n",
    "            #Full calc\n",
    "            joint_cache[xxs_bag] = mean(Float64[(joint(aas...)*joint(bbs...)) for (aas,bbs) in  nonempty_subset_splits(xxs)])\n",
    "            \n",
    "            \n",
    "        else\n",
    "            joint_cache_stats[\"hits\"]+=1\n",
    "        end\n",
    "        joint_cache[xxs_bag]\n",
    "    end\n",
    "    \n",
    "    conditional_occurance::Function\n",
    "    @inbounds function conditional_occurance(ws::Vector{Int64})\n",
    "        if length(ws) == 0\n",
    "            uni_occur\n",
    "        elseif length(ws)==1\n",
    "            bi_conditional[:,ws[1]]\n",
    "        else\n",
    "            Float64[joint(aa,ws...) for aa in 1:n_edges]./joint(ws...)\n",
    "        end\n",
    "    end\n",
    "    \n",
    "    function prior(ws)\n",
    "        if  length(ws) > length(prob_length) #If it is longer than the tail of length distro, just force temrination\n",
    "            force_end_pmf = zeros(n_edges) #This PMF forces the sentence to end, if it is returned\n",
    "            @inbounds force_end_pmf[end_index]=1.0\n",
    "            force_end_pmf\n",
    "        else \n",
    "            #Either do not end (P=1-P_end) or end (P=P_end)\n",
    "            #prob_end = prob_length[length(ws)]   #Chance to end at this length\n",
    "            prob_end=0.0\n",
    "            prob_occurance::Vector{Float64} = conditional_occurance(ws)\n",
    "            \n",
    "            choices_prob = (1.0-prob_end).*prob_occurance\n",
    "            #@inbounds choices_prob[end_index]=prob_end\n",
    "            choices_prob\n",
    "        end \n",
    "    end\n",
    "    prior,joint_cache_stats\n",
    "end\n",
    "\n",
    "function get_prior_fun(data::Dict)\n",
    "    get_prior_fun(data[\"unioccur\"],data[\"bioccur\"], data[\"length_prob\"], data[\"word_indexes\"][END_MARKER])\n",
    "end"
   ]
  },
  {
   "cell_type": "code",
   "execution_count": null,
   "metadata": {
    "collapsed": false
   },
   "outputs": [],
   "source": [
    "atis_prior,atis_prior_cache_stats = get_prior_fun(atis_data)\n",
    "r = @time atis_prior(Int64[1,2,5,4,5,6,7]) #9.335965 seconds\n",
    "println(atis_prior_cache_stats)\n",
    "r"
   ]
  },
  {
   "cell_type": "code",
   "execution_count": null,
   "metadata": {
    "collapsed": true
   },
   "outputs": [],
   "source": []
  },
  {
   "cell_type": "code",
   "execution_count": null,
   "metadata": {
    "collapsed": false
   },
   "outputs": [],
   "source": [
    "atis_data[\"indexed_words\"][200:300]"
   ]
  },
  {
   "cell_type": "code",
   "execution_count": null,
   "metadata": {
    "collapsed": false
   },
   "outputs": [],
   "source": []
  },
  {
   "cell_type": "code",
   "execution_count": null,
   "metadata": {
    "collapsed": false
   },
   "outputs": [],
   "source": [
    "optimise(atis_data,\"what is the shortest flight\", 1, 1, 0.1, 10000,20)"
   ]
  },
  {
   "cell_type": "code",
   "execution_count": null,
   "metadata": {
    "collapsed": false
   },
   "outputs": [],
   "source": [
    "optimise(atis_data,\"what is the first flight from washington to washington\", 1, 1, 0.1, 10000,20)"
   ]
  },
  {
   "cell_type": "code",
   "execution_count": null,
   "metadata": {
    "collapsed": false
   },
   "outputs": [],
   "source": [
    "optimise(atis_data,\"what are the ground transport options\", 1, 1, 0.1, 1000,20)"
   ]
  },
  {
   "cell_type": "code",
   "execution_count": null,
   "metadata": {
    "collapsed": false
   },
   "outputs": [],
   "source": [
    "optimise(atis_data,\"where can i go\", 1, 1, 0.1, 1000,20)"
   ]
  },
  {
   "cell_type": "code",
   "execution_count": null,
   "metadata": {
    "collapsed": false
   },
   "outputs": [],
   "source": [
    "atis_data[\"word_indexes\"][START_MARKER]\n",
    "    "
   ]
  },
  {
   "cell_type": "code",
   "execution_count": null,
   "metadata": {
    "collapsed": false
   },
   "outputs": [],
   "source": [
    "`git push\"\"` |> run"
   ]
  },
  {
   "cell_type": "code",
   "execution_count": null,
   "metadata": {
    "collapsed": false
   },
   "outputs": [],
   "source": [
    "`git commit -m=\"\" -a` |> run"
   ]
  },
  {
   "cell_type": "code",
   "execution_count": null,
   "metadata": {
    "collapsed": true
   },
   "outputs": [],
   "source": []
  }
 ],
 "metadata": {
  "kernelspec": {
   "display_name": "Julia 0.5.0-dev",
   "language": "julia",
   "name": "julia-0.5"
  },
  "language_info": {
   "file_extension": ".jl",
   "mimetype": "application/julia",
   "name": "julia",
   "version": "0.5.0"
  }
 },
 "nbformat": 4,
 "nbformat_minor": 0
}
