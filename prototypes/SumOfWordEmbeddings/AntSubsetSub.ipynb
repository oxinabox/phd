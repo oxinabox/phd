{
 "cells": [
  {
   "cell_type": "code",
   "execution_count": 1,
   "metadata": {
    "collapsed": false
   },
   "outputs": [
    {
     "data": {
      "text/plain": [
       "4-element Array{ByteString,1}:\n",
       " \"/home/ubuntu/build/julia-master/usr/local/share/julia/site/v0.5\"\n",
       " \"/home/ubuntu/build/julia-master/usr/share/julia/site/v0.5\"      \n",
       " \".\"                                                              \n",
       " \"../util/\"                                                       "
      ]
     },
     "execution_count": 1,
     "metadata": {},
     "output_type": "execute_result"
    }
   ],
   "source": [
    "using Iterators\n",
    "using Pipe\n",
    "using Compat\n",
    "\n",
    "macro printval(ee)\n",
    "    ee_expr = @sprintf \"%s\" string(ee)\n",
    "    esc(:(println($ee_expr,\" = \", $ee)))\n",
    "end\n",
    "\n",
    "macro pz(ee)\n",
    "    ee_expr = @sprintf \"%s\" string(ee)\n",
    "    esc(:(println($ee_expr,\"\\t\\t\",typeof($ee), \"\\t\", size($ee))))\n",
    "end\n",
    "\n",
    "push!(LOAD_PATH, \".\")\n",
    "push!(LOAD_PATH, \"../util/\")"
   ]
  },
  {
   "cell_type": "code",
   "execution_count": null,
   "metadata": {
    "collapsed": false
   },
   "outputs": [],
   "source": [
    "addprocs(1)"
   ]
  },
  {
   "cell_type": "code",
   "execution_count": 57,
   "metadata": {
    "collapsed": false,
    "scrolled": true
   },
   "outputs": [],
   "source": [
    "@everywhere using Distances"
   ]
  },
  {
   "cell_type": "code",
   "execution_count": 58,
   "metadata": {
    "collapsed": false,
    "scrolled": true
   },
   "outputs": [
    {
     "name": "stderr",
     "output_type": "stream",
     "text": [
      "WARNING: redefining constant START_MARKER\n",
      "WARNING: redefining constant END_MARKER\n"
     ]
    }
   ],
   "source": [
    "const START_MARKER = \"**START**\"\n",
    "const END_MARKER = \"**END**\"\n",
    "\n",
    "atis_data = open(\"atis_data.jsz\",\"r\") do fh\n",
    "    deserialize(fh)    \n",
    "end\n",
    "\n",
    "@assert START_MARKER in atis_data[\"indexed_words\"]\n",
    "@assert START_MARKER in keys(atis_data[\"word_indexes\"])\n",
    "@assert END_MARKER in atis_data[\"indexed_words\"]\n",
    "@assert END_MARKER in keys(atis_data[\"word_indexes\"])"
   ]
  },
  {
   "cell_type": "code",
   "execution_count": 59,
   "metadata": {
    "collapsed": false
   },
   "outputs": [],
   "source": [
    "@everywhere @inline function select_node{V<:AbstractVector}(edge_probs::V)\n",
    "    ys, _, probs = findnz(edge_probs'')\n",
    "    select_node(zip(ys,probs))\n",
    "end\n",
    "\n",
    "@everywhere function select_node(edge_probs)\n",
    "    cutoff = rand()\n",
    "    total = 0.0\n",
    "    @assert(length(edge_probs)>0, \"No options from point $x\")\n",
    "    for (y,prob) in edge_probs\n",
    "        total+=prob\n",
    "        if total>=cutoff\n",
    "            return y\n",
    "        end\n",
    "    end\n",
    "    \n",
    "    @assert(total>=cutoff, \"x=$x, total= $total, cutoff=$cutoff\") #Should Never Reach this point\n",
    "end\n"
   ]
  },
  {
   "cell_type": "code",
   "execution_count": 60,
   "metadata": {
    "collapsed": false
   },
   "outputs": [],
   "source": [
    "@everywhere function evaporate!{M<:AbstractArray}(τ::M, ρ)\n",
    "    τ.*=(1.0-ρ) #Evaporation\n",
    "end\n",
    "\n",
    "@everywhere function deposit!{M<:AbstractMatrix}(τ::M, path,fit)\n",
    "    #For Bigrammy paths\n",
    "    @simd for node_ii in 1:length(path)-1\n",
    "        @inbounds node = path[node_ii]\n",
    "        @inbounds next_node = path[node_ii+1]\n",
    "        @inbounds τ[next_node, node] += fit\n",
    "    end\n",
    "    τ\n",
    "end\n",
    "\n",
    "@everywhere @inline function select_node{M<:AbstractMatrix}(edge_probs::M, path)\n",
    "    select_node(edge_probs[:,path[end]])\n",
    "end\n",
    "\n",
    "\n",
    "\n",
    "@everywhere function get_edge_probs(τ::AbstractMatrix,η::AbstractMatrix, α, β)\n",
    "    edges = τ.^α .* η.^β\n",
    "    edges./=sum(edges,1) #Normalise to probabilities\n",
    "    @inbounds edges[isnan(edges)]=0.0 #The terminal node will have a sum of zero\n",
    "    edges\n",
    "end\n",
    "    \n",
    "@everywhere function get_edge_probs(τ::AbstractSparseMatrix,η::AbstractSparseMatrix, α, β)\n",
    "    edges = τ.^α .* η.^β\n",
    "    sums = sum(edges,1)\n",
    "    \n",
    "    I,J,V = findnz(edges)\n",
    "    for idx in 1:length(V)\n",
    "        @inbounds V[idx] /= sums[J[idx]]\n",
    "    end\n",
    "    sparse(I,J,V)\n",
    "end\n",
    "\n",
    "    "
   ]
  },
  {
   "cell_type": "code",
   "execution_count": 61,
   "metadata": {
    "collapsed": false,
    "scrolled": true
   },
   "outputs": [],
   "source": [
    "# τ = Pheromone\n",
    "# η = Prior\n",
    "# α = pheremone weight\n",
    "# β = prior weight\n",
    "# ρ = pheremone evaporation\n",
    "\n",
    "@everywhere function deposit!{M<:AbstractVector}(τ::M, path, fit)\n",
    "    #Are You In or Out?  Double Crosser or Devout\n",
    "    #Order actually means nothing in this problem\n",
    "    #Cooccurance doesn't really many anything either\n",
    "    #Cooccurance is a problem for the prior that need \n",
    "    #to be conerned with all answers not just this one\n",
    "    for node in path\n",
    "        @inbounds τ[node] += fit\n",
    "    end\n",
    "    τ\n",
    "end\n",
    "\n",
    "@everywhere function get_edge_probs(τ,η::Function, α, β)\n",
    "    τ_scaled = τ.^α\n",
    "    function get_prob(state)\n",
    "        tot = τ_scaled .* η(state).^β\n",
    "        tot./sum(tot)\n",
    "    end\n",
    "end\n",
    "\n",
    "@everywhere @inline function select_node(edge_probs::Function, path)\n",
    "    select_node(edge_probs(path))\n",
    "end\n"
   ]
  },
  {
   "cell_type": "code",
   "execution_count": 62,
   "metadata": {
    "collapsed": false
   },
   "outputs": [
    {
     "data": {
      "text/plain": [
       "optimise (generic function with 3 methods)"
      ]
     },
     "execution_count": 62,
     "metadata": {},
     "output_type": "execute_result"
    }
   ],
   "source": [
    "#If you pass in a start index of greater than zero, then atre using a starting index, otherswise not\n",
    "@everywhere function run_ant(edge_probs, end_index, start_index=0)\n",
    "    path::Vector{Int} = start_index > 0 ? [start_index]  : [select_node(edge_probs, Int[])]\n",
    "    while (path[end]!=end_index)\n",
    "        push!(path, select_node(edge_probs, path))\n",
    "    end\n",
    "    path    \n",
    "end\n",
    "\n",
    "\n",
    "function optimise(fit_fun, τ, η, α, β,ρ, n_ants, n_gens, start_index, end_index)\n",
    "    assert(α>=1.0)\n",
    "    assert(β>=1.0)\n",
    "    assert(0.0<=ρ<1.0)\n",
    "    \n",
    "    max_fit::Float64 = -Inf;\n",
    "    fittest_path::Vector{Int} = []\n",
    "    for gen_ii in 1:n_gens\n",
    "        if gen_ii%10==1 || gen_ii<10\n",
    "            print(\"nGen: $gen_ii - fit: $max_fit\\n\")\n",
    "        end\n",
    "        \n",
    "        edge_probs = get_edge_probs(τ,η, α, β)\n",
    "\n",
    "        path_fits::Vector{Tuple{Vector{Int},Float64}} = map(1:n_ants) do ant_id\n",
    "            path::Vector{Int} = run_ant(edge_probs, end_index,start_index)\n",
    "            fit::Float64 = fit_fun(path)\n",
    "            (path, fit)\n",
    "        end\n",
    "        evaporate!(τ,ρ)\n",
    "        for (path, fit) in path_fits\n",
    "            if fit>max_fit\n",
    "                max_fit = fit\n",
    "                fittest_path = path\n",
    "                \n",
    "                if fit==Inf #Perfect Fit\n",
    "                    return fittest_path, max_fit\n",
    "                end\n",
    "            end\n",
    "            deposit!(τ,path,fit)\n",
    "        end       \n",
    "    end #Next Generation\n",
    "    \n",
    "    fittest_path, max_fit\n",
    "end\n",
    "\n",
    "\n",
    "function optimise(fit_fun, n_dims::Int64, η::Function, α, β, ρ, n_ants, n_gens, start_index, end_index)\n",
    "    τ = [1.0 for nn in 1:n_dims]\n",
    "    optimise(fit_fun, τ, η, α, β,ρ, n_ants, n_gens, start_index, end_index)\n",
    "end\n",
    "\n",
    "\n",
    "function optimise{M<:AbstractMatrix}(fit_fun, η::M, α, β,ρ, n_ants, n_gens, start_index, end_index)\n",
    "    τ = ceil(η) #Since we take the element wise product with η, there is no point setting any elements that are zero in η \n",
    "    optimise(fit_fun, τ, η, α, β,ρ, n_ants, n_gens, start_index, end_index)\n",
    "end\n"
   ]
  },
  {
   "cell_type": "code",
   "execution_count": 80,
   "metadata": {
    "collapsed": false
   },
   "outputs": [
    {
     "data": {
      "text/plain": [
       "get_prior_fun (generic function with 2 methods)"
      ]
     },
     "execution_count": 80,
     "metadata": {},
     "output_type": "execute_result"
    }
   ],
   "source": [
    "@fastmath function get_prior_fun(uni_occur,bi_occur,  prob_length, end_index)\n",
    "    n_edges=length(uni_occur)\n",
    "    function cooccur_prior(ws)\n",
    "        if length(ws)==0\n",
    "            uni_occur\n",
    "        elseif length(ws)==1\n",
    "            bi_occur[:,ws[1]]\n",
    "        else\n",
    "            (uni_occur + sum([bi_occur[:,w] for w in ws]))/(length(ws)+1) #Just average them cos its cheap\n",
    "        end\n",
    "    end\n",
    "    \n",
    "    function prior(ws)\n",
    "        if  length(ws) > length(prob_length) #If it is longer than the tail of length distro, just force temrination\n",
    "            force_end_pmf = zeros(n_edges) #This PMF forces the sentence to end, if it is returned\n",
    "            @inbounds force_end_pmf[end_index]=1.0\n",
    "            force_end_pmf\n",
    "        else \n",
    "            #Either do not end (P=1-P_end) or end (P=P_end)\n",
    "            prob_end = length(ws) == 0 ? 0.0 : prob_length[length(ws)]   #Chance to end at this length\n",
    "            prob_occurance::Vector{Float64} = cooccur_prior(ws)\n",
    "            \n",
    "            choices_prob = (1.0-prob_end).*prob_occurance\n",
    "            @inbounds choices_prob[end_index]=prob_end\n",
    "            choices_prob\n",
    "        end \n",
    "    end\n",
    "    prior\n",
    "end\n",
    "\n",
    "function get_prior_fun(data::Dict)\n",
    "    get_prior_fun(data[\"unioccur\"], data[\"bioccur\"], data[\"length_prob\"], data[\"word_indexes\"][END_MARKER])\n",
    "end"
   ]
  },
  {
   "cell_type": "code",
   "execution_count": 81,
   "metadata": {
    "collapsed": false
   },
   "outputs": [
    {
     "data": {
      "text/plain": [
       "lookup_sowe (generic function with 1 method)"
      ]
     },
     "execution_count": 81,
     "metadata": {},
     "output_type": "execute_result"
    }
   ],
   "source": [
    "function lookup_sowe(data, sent)\n",
    "    sum([data[\"LL\"][:,data[\"word_indexes\"][word]] for word in split(sent)]) \n",
    "end"
   ]
  },
  {
   "cell_type": "code",
   "execution_count": 82,
   "metadata": {
    "collapsed": false
   },
   "outputs": [
    {
     "data": {
      "text/plain": [
       "built_optimise (generic function with 2 methods)"
      ]
     },
     "execution_count": 82,
     "metadata": {},
     "output_type": "execute_result"
    }
   ],
   "source": [
    "function built_optimise(data::Dict, target_sent::AbstractString, α, β, ρ, n_ants, n_gens)\n",
    "    target::Vector{Float64} = lookup_sowe(data,target_sent)\n",
    "    built_optimise(data, target, α, β,ρ, n_ants, n_gens)\n",
    "end\n",
    "\n",
    "function built_optimise(data::Dict, target::AbstractVector, α, β,ρ, n_ants, n_gens)\n",
    "    LL =atis_data[\"LL\"]\n",
    "    @inline function fitness(path)\n",
    "        #Fitter is larger\n",
    "        @inbounds path_end = sum([LL[:,ii] for ii in path]) \n",
    "        if all(path_end.==0.0)\n",
    "            0.0 #Cosine dist from origin to anywhere is zero.\n",
    "            #This occurs for forced stopwords\n",
    "        else\n",
    "            (1.0/euclidean(path_end, target))/length(path)\n",
    "        end\n",
    "    end\n",
    "    \n",
    "    start_index = 0 #not in use #data[\"word_indexes\"][START_MARKER]\n",
    "    end_index = data[\"word_indexes\"][END_MARKER]\n",
    "    \n",
    "    prior = get_prior_fun(data)\n",
    "    n_dims = size(LL,2)\n",
    "    path, score = optimise(fitness,n_dims, prior, α, β,ρ, n_ants, n_gens, start_index, end_index)\n",
    "    \n",
    "    score,[data[\"indexed_words\"][ii] for ii in path]\n",
    "end"
   ]
  },
  {
   "cell_type": "code",
   "execution_count": 83,
   "metadata": {
    "collapsed": false,
    "scrolled": true
   },
   "outputs": [
    {
     "name": "stdout",
     "output_type": "stream",
     "text": [
      "nGen: 1 - fit: -Inf\n",
      "nGen: 2 - fit: 0.5000000130514877\n",
      "nGen: 3 - fit: 0.5000000130514877\n",
      "nGen: 4 - fit: 0.5000000130514877\n",
      "nGen: 5 - fit: 0.5000000130514877\n",
      "nGen: 6 - fit: 0.5000000130514877\n",
      "nGen: 7 - fit: 0.5000000130514877\n",
      "nGen: 8 - fit: 0.5000000130514877\n",
      "nGen: 9 - fit: 0.5000000130514877\n",
      "nGen: 11 - fit: 0.5000000130514877\n",
      " 39"
     ]
    },
    {
     "data": {
      "text/plain": [
       "(0.5000000130514877,Any[\"washington\",\"**END**\"])"
      ]
     },
     "execution_count": 83,
     "metadata": {},
     "output_type": "execute_result"
    },
    {
     "name": "stdout",
     "output_type": "stream",
     "text": [
      ".798222 seconds (16.60 M allocations: 39.683 GB, 19.36% gc time)\n"
     ]
    }
   ],
   "source": [
    "@time built_optimise(atis_data,\"washington to washington\", 2, 1, 0.3, 10000,20)\n",
    "#code_warntype(optimise, map(typeof,params))"
   ]
  },
  {
   "cell_type": "code",
   "execution_count": 76,
   "metadata": {
    "collapsed": false
   },
   "outputs": [
    {
     "data": {
      "text/plain": [
       "euclidean (generic function with 2 methods)"
      ]
     },
     "execution_count": 76,
     "metadata": {},
     "output_type": "execute_result"
    }
   ],
   "source": []
  },
  {
   "cell_type": "code",
   "execution_count": 75,
   "metadata": {
    "collapsed": false
   },
   "outputs": [
    {
     "data": {
      "text/plain": [
       "300x2 Array{Float64,2}:\n",
       " -0.129684    -0.0648421 \n",
       "  0.0208328    0.0104164 \n",
       " -0.036197    -0.0180985 \n",
       "  0.253119     0.126559  \n",
       " -0.0312492   -0.0156246 \n",
       " -0.121872    -0.060936  \n",
       " -0.132288    -0.0661442 \n",
       "  0.0356762    0.0178381 \n",
       " -0.129684    -0.0648421 \n",
       " -0.00445952  -0.00222976\n",
       " -0.0653629   -0.0326815 \n",
       " -0.235411    -0.117705  \n",
       " -0.0864561   -0.0432281 \n",
       "  ⋮                      \n",
       "  0.0651025    0.0325513 \n",
       " -0.0150387   -0.00751934\n",
       " -0.0388011   -0.0194006 \n",
       "  0.0630192    0.0315096 \n",
       "  0.193745     0.0968726 \n",
       "  0.0460926    0.0230463 \n",
       "  0.072394     0.036197  \n",
       " -0.11406     -0.0570298 \n",
       " -0.148955    -0.0744773 \n",
       " -0.127601    -0.0638005 \n",
       "  0.062238     0.031119  \n",
       " -0.0403636   -0.0201818 "
      ]
     },
     "execution_count": 75,
     "metadata": {},
     "output_type": "execute_result"
    }
   ],
   "source": [
    "[lookup_sowe(atis_data, \"washington washington\") lookup_sowe(atis_data, \"washington\")]\n"
   ]
  },
  {
   "cell_type": "code",
   "execution_count": 30,
   "metadata": {
    "collapsed": false
   },
   "outputs": [
    {
     "data": {
      "text/plain": [
       "0.014320531528454779"
      ]
     },
     "execution_count": 30,
     "metadata": {},
     "output_type": "execute_result"
    }
   ],
   "source": [
    "atis_data[\"unioccur\"][atis_data[\"word_indexes\"][\"show\"]]"
   ]
  },
  {
   "cell_type": "code",
   "execution_count": null,
   "metadata": {
    "collapsed": false
   },
   "outputs": [],
   "source": [
    "atis_data[\"unioccur\"][atis_data[\"word_indexes\"][\"showed\"]]"
   ]
  },
  {
   "cell_type": "code",
   "execution_count": null,
   "metadata": {
    "collapsed": false
   },
   "outputs": [],
   "source": []
  },
  {
   "cell_type": "code",
   "execution_count": null,
   "metadata": {
    "collapsed": true
   },
   "outputs": [],
   "source": []
  },
  {
   "cell_type": "code",
   "execution_count": null,
   "metadata": {
    "collapsed": true
   },
   "outputs": [],
   "source": [
    "#Fast Splitting\n",
    "subset_indexes_for_len = Dict{Int,Vector{Vector{Bool}}}()\n",
    "function nonempty_subset_splits{T}(xs::Vector{T})\n",
    "    K = length(xs)\n",
    "    ss ::Vector{Vector{Bool}} = if haskey(subset_indexes_for_len,K)\n",
    "            subset_indexes_for_len[K]\n",
    "         else \n",
    "            subset_indexes_for_len[K] = Vector{Bool}[collect(pr) for (_,pr) in  zip(1:(K^2)/2, product([(true,false) for k in 1:K]...))][2:end]\n",
    "            subset_indexes_for_len[K]\n",
    "         end\n",
    "\n",
    "    Tuple{Vector{T},Vector{T}}[(xs[bb],xs[~bb]) for bb in ss]\n",
    "end\n",
    "\n",
    "function nonempty_subset_splits(xs)\n",
    "    nonempty_subset_splits(collect(xs))\n",
    "end\n",
    "\n",
    "\n",
    "\n",
    "function pairwise(pp)\n",
    "    Task() do \n",
    "        for ii in 2:2:length(pp)\n",
    "            produce((pp[ii-1],pp[ii]))\n",
    "        end\n",
    "        if isodd(length(pp))\n",
    "            produce(pp[end]) \n",
    "        end\n",
    "    end\n",
    "end\n",
    "\n",
    "_partions_of_pairs_indexes=Dict{Vector{Int64},Vector{Vector{Int64}}}()\n",
    "function partions_of_pairs_indexes{Int64}(xs::Vector{Int64})\n",
    "    if !haskey(_partions_of_pairs_indexes, xs)\n",
    "        _partions_of_pairs_indexes[xs] = \n",
    "            if length(xs)<=2\n",
    "                Vector{Int64}[xs]\n",
    "            else\n",
    "                rets = Vector{Vector{Int64}}()\n",
    "                sizehint!(rets, length(xs)^div(length(xs),2))\n",
    "                for i1 in 1:length(xs-1)\n",
    "                    for i2 in i1+1:length(xs)\n",
    "                        head = (xs[[i1,i2]])\n",
    "                        tails = partions_of_pairs_indexes(xs[[1:i1-1;i1+1:i2-1;i2+1:end]])\n",
    "\n",
    "                        for tail in tails\n",
    "                                push!(rets, [head; tail])\n",
    "                            end\n",
    "                        end\n",
    "                end\n",
    "                rets\n",
    "            end\n",
    "    end\n",
    "    _partions_of_pairs_indexes[xs] \n",
    "end\n",
    "\n",
    "function partions_of_pairs(xs::Vector{Int64})\n",
    "    partions_of_pairs_indexes(xs)\n",
    "end\n",
    "#Fast Splitting\n",
    "subset_indexes_for_len = Dict{Int,Vector{Vector{Bool}}}()\n",
    "function nonempty_subset_splits{T}(xs::Vector{T})\n",
    "    K = length(xs)\n",
    "    ss ::Vector{Vector{Bool}} = if haskey(subset_indexes_for_len,K)\n",
    "            subset_indexes_for_len[K]\n",
    "         else \n",
    "            subset_indexes_for_len[K] = Vector{Bool}[collect(pr) for (_,pr) in  zip(1:(K^2)/2, product([(true,false) for k in 1:K]...))][2:end]\n",
    "            subset_indexes_for_len[K]\n",
    "         end\n",
    "\n",
    "    Tuple{Vector{T},Vector{T}}[(xs[bb],xs[~bb]) for bb in ss]\n",
    "end\n",
    "\n",
    "function nonempty_subset_splits(xs)\n",
    "    nonempty_subset_splits(collect(xs))\n",
    "end\n",
    "\n",
    "\n",
    "\n",
    "function pairwise(pp)\n",
    "    Task() do \n",
    "        for ii in 2:2:length(pp)\n",
    "            produce((pp[ii-1],pp[ii]))\n",
    "        end\n",
    "        if isodd(length(pp))\n",
    "            produce(pp[end]) \n",
    "        end\n",
    "    end\n",
    "end\n",
    "\n",
    "_partions_of_pairs_indexes=Dict{Vector{Int64},Vector{Vector{Int64}}}()\n",
    "function partions_of_pairs_indexes{Int64}(xs::Vector{Int64})\n",
    "    if !haskey(_partions_of_pairs_indexes, xs)\n",
    "        _partions_of_pairs_indexes[xs] = \n",
    "            if length(xs)<=2\n",
    "                Vector{Int64}[xs]\n",
    "            else\n",
    "                rets = Vector{Vector{Int64}}()\n",
    "                sizehint!(rets, length(xs)^div(length(xs),2))\n",
    "                for i1 in 1:length(xs-1)\n",
    "                    for i2 in i1+1:length(xs)\n",
    "                        head = (xs[[i1,i2]])\n",
    "                        tails = partions_of_pairs_indexes(xs[[1:i1-1;i1+1:i2-1;i2+1:end]])\n",
    "\n",
    "                        for tail in tails\n",
    "                                push!(rets, [head; tail])\n",
    "                            end\n",
    "                        end\n",
    "                end\n",
    "                rets\n",
    "            end\n",
    "    end\n",
    "    _partions_of_pairs_indexes[xs] \n",
    "end\n",
    "\n",
    "function partions_of_pairs(xs::Vector{Int64})\n",
    "    partions_of_pairs_indexes(xs)\n",
    "end\n"
   ]
  },
  {
   "cell_type": "code",
   "execution_count": null,
   "metadata": {
    "collapsed": false
   },
   "outputs": [],
   "source": [
    "using DataStructures\n",
    "using DataStructuresExtended\n",
    "\n",
    "\n",
    "@fastmath function get_prior_fun(uni_occur, bi_joint, prob_length, end_index)\n",
    "    n_edges=length(uni_occur)\n",
    "    bi_marginal = sum(bi_joint,1)\n",
    "    bi_conditional = bi_joint./bi_marginal\n",
    "  \n",
    "    \n",
    "    @inline function joint(aa::Int64)\n",
    "        @inbounds ret = bi_marginal[aa]\n",
    "        ret\n",
    "    end\n",
    "    \n",
    "    @inline function joint(aa::Int64,bb::Int64)\n",
    "        @inbounds ret = bi_joint[aa, bb]\n",
    "        ret\n",
    "    end\n",
    "    \n",
    "    joint_cache_stats = Dict([(\"hits\",0), (\"misses\",0)])\n",
    "    joint_cache = Dict{Accumulator{Int64,Int64}, Float64}() #TODO Should Use a multiset instead to index\n",
    "    @inline function joint(xxs...) \n",
    "        @assert(length(xxs)>=3)\n",
    "        xxs_bag = counter(Int64, xxs) \n",
    "        if !(haskey(joint_cache,xxs_bag))\n",
    "            joint_cache_stats[\"misses\"]+=1\n",
    "            #Full calc\n",
    "            joint_cache[xxs_bag] = mean(Float64[(joint(aas...)*joint(bbs...)) for (aas,bbs) in  nonempty_subset_splits(xxs)])\n",
    "            \n",
    "            \n",
    "        else\n",
    "            joint_cache_stats[\"hits\"]+=1\n",
    "        end\n",
    "        joint_cache[xxs_bag]\n",
    "    end\n",
    "    \n",
    "    conditional_occurance::Function\n",
    "    @inbounds function conditional_occurance(ws::Vector{Int64})\n",
    "        if length(ws) == 0\n",
    "            uni_occur\n",
    "        elseif length(ws)==1\n",
    "            bi_conditional[:,ws[1]]\n",
    "        else\n",
    "            Float64[joint(aa,ws...) for aa in 1:n_edges]./joint(ws...)\n",
    "        end\n",
    "    end\n",
    "    \n",
    "    function prior(ws)\n",
    "        if  length(ws) > length(prob_length) #If it is longer than the tail of length distro, just force temrination\n",
    "            force_end_pmf = zeros(n_edges) #This PMF forces the sentence to end, if it is returned\n",
    "            @inbounds force_end_pmf[end_index]=1.0\n",
    "            force_end_pmf\n",
    "        else \n",
    "            #Either do not end (P=1-P_end) or end (P=P_end)\n",
    "            #prob_end = prob_length[length(ws)]   #Chance to end at this length\n",
    "            prob_end=0.0\n",
    "            prob_occurance::Vector{Float64} = conditional_occurance(ws)\n",
    "            \n",
    "            choices_prob = (1.0-prob_end).*prob_occurance\n",
    "            #@inbounds choices_prob[end_index]=prob_end\n",
    "            choices_prob\n",
    "        end \n",
    "    end\n",
    "    prior,joint_cache_stats\n",
    "end\n",
    "\n",
    "function get_prior_fun(data::Dict)\n",
    "    get_prior_fun(data[\"unioccur\"],data[\"bioccur\"], data[\"length_prob\"], data[\"word_indexes\"][END_MARKER])\n",
    "end"
   ]
  },
  {
   "cell_type": "code",
   "execution_count": null,
   "metadata": {
    "collapsed": false
   },
   "outputs": [],
   "source": [
    "atis_prior,atis_prior_cache_stats = get_prior_fun(atis_data)\n",
    "r = @time atis_prior(Int64[1,2,5,4,5,6,7]) #9.335965 seconds\n",
    "println(atis_prior_cache_stats)\n",
    "r"
   ]
  },
  {
   "cell_type": "code",
   "execution_count": null,
   "metadata": {
    "collapsed": true
   },
   "outputs": [],
   "source": []
  },
  {
   "cell_type": "code",
   "execution_count": null,
   "metadata": {
    "collapsed": true
   },
   "outputs": [],
   "source": []
  },
  {
   "cell_type": "code",
   "execution_count": null,
   "metadata": {
    "collapsed": false
   },
   "outputs": [],
   "source": []
  },
  {
   "cell_type": "code",
   "execution_count": null,
   "metadata": {
    "collapsed": false
   },
   "outputs": [],
   "source": [
    "optimise(atis_data,\"what is the shortest flight\", 1, 1, 0.1, 10000,20)"
   ]
  },
  {
   "cell_type": "code",
   "execution_count": null,
   "metadata": {
    "collapsed": false
   },
   "outputs": [],
   "source": [
    "optimise(atis_data,\"what is the first flight from washington to washington\", 1, 1, 0.1, 10000,20)"
   ]
  },
  {
   "cell_type": "code",
   "execution_count": null,
   "metadata": {
    "collapsed": false
   },
   "outputs": [],
   "source": [
    "optimise(atis_data,\"what are the ground transport options\", 1, 1, 0.1, 1000,20)"
   ]
  },
  {
   "cell_type": "code",
   "execution_count": null,
   "metadata": {
    "collapsed": false
   },
   "outputs": [],
   "source": [
    "optimise(atis_data,\"where can i go\", 1, 1, 0.1, 1000,20)"
   ]
  },
  {
   "cell_type": "code",
   "execution_count": null,
   "metadata": {
    "collapsed": false
   },
   "outputs": [],
   "source": [
    "atis_data[\"word_indexes\"][START_MARKER]\n",
    "    "
   ]
  },
  {
   "cell_type": "code",
   "execution_count": null,
   "metadata": {
    "collapsed": false
   },
   "outputs": [],
   "source": [
    "`git push\"\"` |> run"
   ]
  },
  {
   "cell_type": "code",
   "execution_count": null,
   "metadata": {
    "collapsed": false
   },
   "outputs": [],
   "source": [
    "`git commit -m=\"\" -a` |> run"
   ]
  },
  {
   "cell_type": "code",
   "execution_count": null,
   "metadata": {
    "collapsed": true
   },
   "outputs": [],
   "source": []
  }
 ],
 "metadata": {
  "kernelspec": {
   "display_name": "Julia 0.5.0-dev",
   "language": "julia",
   "name": "julia-0.5"
  },
  "language_info": {
   "file_extension": ".jl",
   "mimetype": "application/julia",
   "name": "julia",
   "version": "0.5.0"
  }
 },
 "nbformat": 4,
 "nbformat_minor": 0
}
