{
 "cells": [
  {
   "cell_type": "code",
   "execution_count": 1,
   "metadata": {
    "collapsed": false
   },
   "outputs": [
    {
     "data": {
      "text/plain": [
       "4-element Array{ByteString,1}:\n",
       " \"/home/ubuntu/build/julia-master/usr/local/share/julia/site/v0.5\"\n",
       " \"/home/ubuntu/build/julia-master/usr/share/julia/site/v0.5\"      \n",
       " \".\"                                                              \n",
       " \"../util/\"                                                       "
      ]
     },
     "execution_count": 1,
     "metadata": {},
     "output_type": "execute_result"
    }
   ],
   "source": [
    "using Iterators\n",
    "using Pipe\n",
    "using Compat\n",
    "\n",
    "macro printval(ee)\n",
    "    ee_expr = @sprintf \"%s\" string(ee)\n",
    "    esc(:(println($ee_expr,\" = \", $ee)))\n",
    "end\n",
    "\n",
    "macro pz(ee)\n",
    "    ee_expr = @sprintf \"%s\" string(ee)\n",
    "    esc(:(println($ee_expr,\"\\t\\t\",typeof($ee), \"\\t\", size($ee))))\n",
    "end\n",
    "\n",
    "push!(LOAD_PATH, \".\")\n",
    "push!(LOAD_PATH, \"../util/\")"
   ]
  },
  {
   "cell_type": "code",
   "execution_count": 2,
   "metadata": {
    "collapsed": false,
    "scrolled": true
   },
   "outputs": [],
   "source": [
    "@everywhere using Distances"
   ]
  },
  {
   "cell_type": "code",
   "execution_count": 3,
   "metadata": {
    "collapsed": false,
    "scrolled": true
   },
   "outputs": [],
   "source": [
    "const START_MARKER = \"**START**\"\n",
    "const END_MARKER = \"**END**\"\n",
    "\n",
    "atis_data = open(\"atis_data.jsz\",\"r\") do fh\n",
    "    deserialize(fh)    \n",
    "end\n",
    "\n",
    "@assert START_MARKER in atis_data[\"indexed_words\"]\n",
    "@assert START_MARKER in keys(atis_data[\"word_indexes\"])\n",
    "@assert END_MARKER in atis_data[\"indexed_words\"]\n",
    "@assert END_MARKER in keys(atis_data[\"word_indexes\"])"
   ]
  },
  {
   "cell_type": "code",
   "execution_count": null,
   "metadata": {
    "collapsed": false,
    "scrolled": true
   },
   "outputs": [],
   "source": [
    "# τ = Pheromone\n",
    "# η = Prior\n",
    "# α = pheremone weight\n",
    "# β = prior weight\n",
    "# ρ = pheremone evaporation\n",
    "function get_edge_probs(τ::AbstractMatrix,η::AbstractMatrix, α, β)\n",
    "    edges = τ.^α .* η.^β\n",
    "    edges./=sum(edges,1) #Normalise to probabilities\n",
    "    @inbounds edges[isnan(edges)]=0.0 #The terminal node will have a sum of zero\n",
    "    edges\n",
    "end\n",
    "    \n",
    "function get_edge_probs(τ::AbstractSparseMatrix,η::AbstractSparseMatrix, α, β)\n",
    "    edges = τ.^α .* η.^β\n",
    "    sums = sum(edges,1)\n",
    "    \n",
    "    I,J,V = findnz(edges)\n",
    "    for idx in 1:length(V)\n",
    "        @inbounds V[idx] /= sums[J[idx]]\n",
    "    end\n",
    "    sparse(I,J,V)\n",
    "end"
   ]
  },
  {
   "cell_type": "code",
   "execution_count": null,
   "metadata": {
    "collapsed": false
   },
   "outputs": [],
   "source": [
    "@everywhere @inline function select_node{F<:Number}(edge_probs::AbstractVector{F})\n",
    "    ys, _, probs = findnz(edge_probs'')\n",
    "    select_node(zip(ys,probs))\n",
    "end\n",
    "\n",
    "@everywhere @inline function select_node{A, F<:Number}(edge_probs::Dict{A, F})\n",
    "    select_node(collect(edge_probs))\n",
    "end\n",
    "\n",
    "@everywhere function select_node(edge_probs)\n",
    "    cutoff = rand()\n",
    "    total = 0.0\n",
    "    @assert(length(edge_probs)>0, \"No options from point $x\")\n",
    "    for (y,prob) in edge_probs\n",
    "        total+=prob\n",
    "        if total>=cutoff\n",
    "            return y\n",
    "        end\n",
    "    end\n",
    "    \n",
    "    @assert(total>=cutoff, \"x=$x, total= $total, cutoff=$cutoff\") #Should Never Reach this point\n",
    "end\n"
   ]
  },
  {
   "cell_type": "code",
   "execution_count": null,
   "metadata": {
    "collapsed": false
   },
   "outputs": [],
   "source": [
    "@everywhere function run_ant(edge_probs, start_index, end_index)\n",
    "    path::Vector{Int} = [start_index] #1 is always the start node. Attached to it are unigram probs\n",
    "    while (path[end]!=end_index)\n",
    "        push!(path, select_node(edge_probs[:,path[end]]))\n",
    "    end\n",
    "    path    \n",
    "end\n",
    "\n",
    "\n",
    "\n",
    "function optimise(fit_fun, η, α, β,ρ, n_ants, n_gens, start_index, end_index)\n",
    "    assert(α>=1.0)\n",
    "    assert(β>=1.0)\n",
    "    assert(0.0<=ρ<1.0)\n",
    "    \n",
    "    max_fit::Float64 = -Inf;\n",
    "    fittest_path::Vector{Int} = []\n",
    "    τ = ceil(η) #Since we take the element wise product with η, there is no point setting any elements that are zero in η\n",
    "    \n",
    "    for gen_ii in 1:n_gens\n",
    "        if gen_ii%10==1 || gen_ii<10\n",
    "            print(\"Gen: $gen_ii - fit: $max_fit\\n\")\n",
    "        end\n",
    "        \n",
    "        edge_probs = get_edge_probs(τ,η, α, β)\n",
    "        #edge_probs = SharedArray(Float64, size(τ))\n",
    "        #edge_probs[:]=get_edge_probs(τ,η, α, β)\n",
    "        \n",
    "        \n",
    "        path_fits::Vector{Tuple{Vector{Int},Float64}} = map(1:n_ants) do ant_id\n",
    "            path::Vector{Int} = run_ant(edge_probs, start_index, end_index)\n",
    "            fit::Float64 = fit_fun(path)\n",
    "            (path, fit)\n",
    "        end\n",
    "        \n",
    "    \n",
    "        τ.*=(1.0-ρ) #Evaporation\n",
    "        for (path, fit) in path_fits\n",
    "            if fit>max_fit\n",
    "                max_fit = fit\n",
    "                fittest_path = path\n",
    "                \n",
    "                if fit==Inf #Perfect Fit\n",
    "                    return fittest_path, max_fit\n",
    "                end\n",
    "            end\n",
    "\n",
    "            \n",
    "            @simd for node_ii in 1:length(path)-1\n",
    "                @inbounds node = path[node_ii]\n",
    "                @inbounds next_node = path[node_ii+1]\n",
    "                @inbounds τ[next_node, node] += fit\n",
    "            end\n",
    "        end\n",
    "    end #Next Generation\n",
    "    \n",
    "    fittest_path, max_fit\n",
    "end"
   ]
  },
  {
   "cell_type": "code",
   "execution_count": null,
   "metadata": {
    "collapsed": false
   },
   "outputs": [],
   "source": [
    "function lookup_sowe(data, sent)\n",
    "    sum([data[\"LL\"][:,data[\"word_indexes\"][word]] for word in split(sent)]) \n",
    "end"
   ]
  },
  {
   "cell_type": "code",
   "execution_count": null,
   "metadata": {
    "collapsed": false
   },
   "outputs": [],
   "source": [
    "function optimise(data::Dict, target_sent::AbstractString, α, β, ρ, n_ants, n_gens)\n",
    "    target::Vector{Float64} = lookup_sowe(data,target_sent)\n",
    "    optimise(data, target, α, β,ρ, n_ants, n_gens)\n",
    "end\n",
    "\n",
    "@inline function optimise(data::Dict, target::AbstractVector, α, β,ρ, n_ants, n_gens)\n",
    "    #rLLs = Dict([id=>put!(RemoteRef(), data[\"LL\"]) for id in workers()])\n",
    "    #LL = SharedArray(Float64, size(atis_data[\"LL\"]))\n",
    "    LL =atis_data[\"LL\"]\n",
    "    @inline function fitness(path)\n",
    "        #Fitter is larger\n",
    "        @inbounds path_end = sum([LL[:,ii] for ii in path]) \n",
    "        if all(path_end.==0.0)\n",
    "            0.0 #Cosine dist from origin to anywhere is zero.\n",
    "            #This occurs for forced stopwords\n",
    "        else\n",
    "            (1.0/cosine_dist(path_end, target))/length(path)\n",
    "        end\n",
    "    end\n",
    "    \n",
    "    start_index = data[\"word_indexes\"][START_MARKER]\n",
    "    end_index = data[\"word_indexes\"][END_MARKER]\n",
    "    \n",
    "    \n",
    "    #return fitness, data[\"bigrams\"], α, β,ρ, n_ants, n_gens, start_index, end_index\n",
    "    path, score = optimise(fitness, data[\"bigrams\"], α, β,ρ, n_ants, n_gens, start_index, end_index)\n",
    "    score,[data[\"indexed_words\"][ii] for ii in path]\n",
    "end"
   ]
  },
  {
   "cell_type": "code",
   "execution_count": 26,
   "metadata": {
    "collapsed": false
   },
   "outputs": [
    {
     "data": {
      "text/plain": [
       "nonempty_subset_splits (generic function with 2 methods)"
      ]
     },
     "execution_count": 26,
     "metadata": {},
     "output_type": "execute_result"
    }
   ],
   "source": [
    "#Optimised version of partitions(xs,2),\n",
    "subset_indexes_for_len = Dict{Int,Vector{Vector{Bool}}}()\n",
    "function nonempty_subset_splits{T}(xs::Vector{T})\n",
    "    K = length(xs)\n",
    "    ss ::Vector{Vector{Bool}} = if haskey(subset_indexes_for_len,K)\n",
    "            subset_indexes_for_len[K]\n",
    "         else \n",
    "            subset_indexes_for_len[K] = Vector{Bool}[collect(pr) for (_,pr) in  zip(1:(K^2)/2, product([(true,false) for k in 1:K]...))][2:end]\n",
    "            subset_indexes_for_len[K]\n",
    "         end\n",
    "\n",
    "    Tuple{Vector{T},Vector{T}}[(xs[bb],xs[~bb]) for bb in ss]\n",
    "end\n",
    "\n",
    "function nonempty_subset_splits(xs)\n",
    "    nonempty_subset_splits(collect(xs))\n",
    "end\n"
   ]
  },
  {
   "cell_type": "code",
   "execution_count": null,
   "metadata": {
    "collapsed": false
   },
   "outputs": [],
   "source": [
    "function pairwise(pp)\n",
    "    Task() do \n",
    "        for ii in 2:2:length(pp)\n",
    "            produce((pp[ii-1],pp[ii]))\n",
    "        end\n",
    "        if isodd(length(pp))\n",
    "            produce(pp[end]) \n",
    "        end\n",
    "    end\n",
    "end\n",
    "\n",
    "_partions_of_pairs_indexes=Dict{Vector{Int64},Vector{Vector{Int64}}}()\n",
    "function partions_of_pairs_indexes{Int64}(xs::Vector{Int64})\n",
    "    if !haskey(_partions_of_pairs_indexes, xs)\n",
    "        _partions_of_pairs_indexes[xs] = \n",
    "            if length(xs)<=2\n",
    "                Vector{Int64}[xs]\n",
    "            else\n",
    "                rets = Vector{Vector{Int64}}()\n",
    "                sizehint!(rets, length(xs)^div(length(xs),2))\n",
    "                for i1 in 1:length(xs-1)\n",
    "                    for i2 in i1+1:length(xs)\n",
    "                        head = (xs[[i1,i2]])\n",
    "                        tails = partions_of_pairs_indexes(xs[[1:i1-1;i1+1:i2-1;i2+1:end]])\n",
    "\n",
    "                        for tail in tails\n",
    "                                push!(rets, [head; tail])\n",
    "                            end\n",
    "                        end\n",
    "                end\n",
    "                rets\n",
    "            end\n",
    "    end\n",
    "    _partions_of_pairs_indexes[xs] \n",
    "end\n",
    "\n",
    "function partions_of_pairs(xs::Vector{Int64})\n",
    "    partions_of_pairs_indexes(xs)\n",
    "end\n"
   ]
  },
  {
   "cell_type": "code",
   "execution_count": 28,
   "metadata": {
    "collapsed": false
   },
   "outputs": [
    {
     "data": {
      "text/plain": [
       "hash (generic function with 43 methods)"
      ]
     },
     "execution_count": 28,
     "metadata": {},
     "output_type": "execute_result"
    }
   ],
   "source": [
    "using DataStructures\n",
    "function DataStructures.counter(T::DataType,seq)\n",
    "    ct = counter(T)\n",
    "    for x::T in seq\n",
    "        push!(ct, x)\n",
    "    end\n",
    "    return ct\n",
    "end\n",
    "\n",
    "function =={K,V}(lhs::DataStructures.Accumulator{K,V},rhs::DataStructures.Accumulator{K,V})\n",
    "    lhs.map == rhs.map    \n",
    "end\n",
    "\n",
    "\n",
    "function Base.hash{K,V}(obj::DataStructures.Accumulator{K,V},h::UInt64)\n",
    "    hash(obj.map,h)\n",
    "end"
   ]
  },
  {
   "cell_type": "code",
   "execution_count": 29,
   "metadata": {
    "collapsed": false
   },
   "outputs": [
    {
     "data": {
      "text/plain": [
       "get_prior_fun (generic function with 2 methods)"
      ]
     },
     "execution_count": 29,
     "metadata": {},
     "output_type": "execute_result"
    }
   ],
   "source": [
    "@fastmath function get_prior_fun(uni_occur, bi_joint, prob_length, end_index)\n",
    "    n_edges=length(uni_occur)\n",
    "    bi_marginal = sum(bi_joint,1)\n",
    "    bi_conditional = bi_joint./bi_marginal\n",
    "  \n",
    "    \n",
    "    @inline function joint(aa::Int64)\n",
    "        @inbounds ret = bi_marginal[aa]\n",
    "        ret\n",
    "    end\n",
    "    \n",
    "    @inline function joint(aa::Int64,bb::Int64)\n",
    "        @inbounds ret = bi_joint[aa, bb]\n",
    "        ret\n",
    "    end\n",
    "    \n",
    "    joint_cache_stats = Dict([(\"hits\",0), (\"misses\",0)])\n",
    "    joint_cache = Dict{Accumulator{Int64,Int64}, Float64}() #TODO Should Use a multiset instead to index\n",
    "    @inline function joint(xxs...) \n",
    "        @assert(length(xxs)>=3)\n",
    "        xxs_bag = counter(Int64, xxs) \n",
    "        if !(haskey(joint_cache,xxs_bag))\n",
    "            joint_cache_stats[\"misses\"]+=1\n",
    "            #Full calc\n",
    "            joint_cache[xxs_bag] = mean(Float64[(joint(aas...)*joint(bbs...)) for (aas,bbs) in  nonempty_subset_splits(xxs)])\n",
    "            \n",
    "            #Pairwise Calc Only Marginally faster, and has bugs\n",
    "            #kk = length(xxs)\n",
    "            #nComponants = (div(kk^2+kk,2)-1)\n",
    "            #total_prob=1.0\n",
    "            #for i1 in 1:length(xxs)-1\n",
    "            #    for i2 in i1:length(xxs)\n",
    "            #        head = (xxs[i1],xxs[i2])\n",
    "            #        head_prob = joint(head...)\n",
    "            #        tail = xxs[[1:i1-1;i1+1:i2-1;i2+1:end]]\n",
    "            #        tail_prob = joint(tail...)\n",
    "            #        total_prob+=head_prob*tail_prob\n",
    "            #    end\n",
    "            #end\n",
    "            #joint_cache[xxs_bag] = total_prob/nComponants\n",
    "        else\n",
    "            joint_cache_stats[\"hits\"]+=1\n",
    "        end\n",
    "        joint_cache[xxs_bag]\n",
    "    end\n",
    "    \n",
    "    conditional_occurance::Function\n",
    "    @inbounds function conditional_occurance(ws::Vector{Int64})\n",
    "        if length(ws) == 0\n",
    "            uni_occur\n",
    "        elseif length(ws)==1\n",
    "            bi_conditional[:,ws[1]]\n",
    "        else\n",
    "            Float64[joint(aa,ws...) for aa in 1:n_edges]./joint(ws...)\n",
    "        end\n",
    "    end\n",
    "    \n",
    "    function prior(ws)\n",
    "        if  length(ws) > length(prob_length) #If it is longer than the tail of length distro, just force temrination\n",
    "            force_end_pmf = zeros(n_edges) #This PMF forces the sentence to end, if it is returned\n",
    "            @inbounds force_end_pmf[end_index]=1.0\n",
    "            force_end_pmf\n",
    "        else \n",
    "            #Either do not end (P=1-P_end) or end (P=P_end)\n",
    "            #prob_end = prob_length[length(ws)]   #Chance to end at this length\n",
    "            prob_end=0.0\n",
    "            prob_occurance::Vector{Float64} = conditional_occurance(ws)\n",
    "            \n",
    "            choices_prob = (1.0-prob_end).*prob_occurance\n",
    "            #@inbounds choices_prob[end_index]=prob_end\n",
    "            choices_prob\n",
    "        end \n",
    "    end\n",
    "    prior,joint_cache_stats\n",
    "end\n",
    "\n",
    "function get_prior_fun(data::Dict)\n",
    "    get_prior_fun(data[\"unioccur\"],data[\"bioccur\"], data[\"length_prob\"], data[\"word_indexes\"][END_MARKER])\n",
    "end"
   ]
  },
  {
   "cell_type": "code",
   "execution_count": 30,
   "metadata": {
    "collapsed": false
   },
   "outputs": [
    {
     "name": "stdout",
     "output_type": "stream",
     "text": [
      " 10"
     ]
    },
    {
     "data": {
      "text/plain": [
       "1121-element Array{Float64,1}:\n",
       " 0.00867902 \n",
       " 0.00430445 \n",
       " 0.00616229 \n",
       " 0.0123616  \n",
       " 0.0151555  \n",
       " 0.00216173 \n",
       " 0.000264517\n",
       " 0.00042264 \n",
       " 0.0371306  \n",
       " 0.00286149 \n",
       " 0.000387054\n",
       " 0.000674   \n",
       " 0.00113445 \n",
       " ⋮          \n",
       " 0.00030314 \n",
       " 0.000311481\n",
       " 0.000280357\n",
       " 0.000392338\n",
       " 0.000260774\n",
       " 0.0116674  \n",
       " 0.0101306  \n",
       " 0.0198284  \n",
       " 0.00916513 \n",
       " 0.0370731  \n",
       " 0.000253558\n",
       " 0.000253558"
      ]
     },
     "execution_count": 30,
     "metadata": {},
     "output_type": "execute_result"
    }
   ],
   "source": [
    "atis_prior,atis_prior_cache_stats = get_prior_fun(atis_data)\n",
    "r = @time atis_prior(Int64[1,2,5,4,5,6,7]) #9.335965 seconds\n",
    "println(atis_prior_cache_stats)\n",
    "r"
   ]
  },
  {
   "cell_type": "code",
   "execution_count": 31,
   "metadata": {
    "collapsed": false
   },
   "outputs": [
    {
     "data": {
      "text/plain": [
       "0.00260441"
      ]
     },
     "execution_count": 31,
     "metadata": {},
     "output_type": "execute_result"
    },
    {
     "name": "stdout",
     "output_type": "stream",
     "text": [
      ".250687 seconds (17.85 M allocations: 959.103 MB, 9.69% gc time)\n",
      "Dict(\"hits\"=>558752,\"misses\"=>68256)\n"
     ]
    }
   ],
   "source": [
    " 0.00789928 \n",
    " 0.00391773 \n",
    " 0.00560866 \n",
    " 0.011251   \n",
    " 0.0137939  \n",
    " 0.00196752 \n",
    " 0.000240752\n",
    " 0.00038467 \n",
    " 0.0337947  \n",
    " 0.00260441 "
   ]
  },
  {
   "cell_type": "code",
   "execution_count": null,
   "metadata": {
    "collapsed": false
   },
   "outputs": [],
   "source": [
    "nonempty_subset_splits(xxs)"
   ]
  },
  {
   "cell_type": "code",
   "execution_count": null,
   "metadata": {
    "collapsed": false
   },
   "outputs": [],
   "source": [
    "@time optimise(atis_data,\"what is the longest flight\", 1, 1, 0.3, 10000,20)\n",
    "#code_warntype(optimise, map(typeof,params))"
   ]
  },
  {
   "cell_type": "code",
   "execution_count": null,
   "metadata": {
    "collapsed": false
   },
   "outputs": [],
   "source": [
    "optimise(atis_data,\"what is the shortest flight\", 1, 1, 0.1, 10000,20)"
   ]
  },
  {
   "cell_type": "code",
   "execution_count": null,
   "metadata": {
    "collapsed": false
   },
   "outputs": [],
   "source": [
    "optimise(atis_data,\"what is the first flight from washington to washington\", 1, 1, 0.1, 10000,20)"
   ]
  },
  {
   "cell_type": "code",
   "execution_count": null,
   "metadata": {
    "collapsed": false
   },
   "outputs": [],
   "source": [
    "optimise(atis_data,\"what are the ground transport options\", 1, 1, 0.1, 1000,20)"
   ]
  },
  {
   "cell_type": "code",
   "execution_count": null,
   "metadata": {
    "collapsed": false
   },
   "outputs": [],
   "source": [
    "optimise(atis_data,\"where can i go\", 1, 1, 0.1, 1000,20)"
   ]
  },
  {
   "cell_type": "code",
   "execution_count": null,
   "metadata": {
    "collapsed": false
   },
   "outputs": [],
   "source": [
    "atis_data[\"word_indexes\"][START_MARKER]\n",
    "    "
   ]
  },
  {
   "cell_type": "code",
   "execution_count": null,
   "metadata": {
    "collapsed": false
   },
   "outputs": [],
   "source": [
    "`git push\"\"` |> run"
   ]
  },
  {
   "cell_type": "code",
   "execution_count": null,
   "metadata": {
    "collapsed": false
   },
   "outputs": [],
   "source": [
    "`git commit -m=\"All joint is in, it is optimised but still slow\" -a` |> run"
   ]
  },
  {
   "cell_type": "code",
   "execution_count": null,
   "metadata": {
    "collapsed": true
   },
   "outputs": [],
   "source": []
  }
 ],
 "metadata": {
  "kernelspec": {
   "display_name": "Julia 0.5.0-dev",
   "language": "julia",
   "name": "julia-0.5"
  },
  "language_info": {
   "file_extension": ".jl",
   "mimetype": "application/julia",
   "name": "julia",
   "version": "0.5.0"
  }
 },
 "nbformat": 4,
 "nbformat_minor": 0
}
