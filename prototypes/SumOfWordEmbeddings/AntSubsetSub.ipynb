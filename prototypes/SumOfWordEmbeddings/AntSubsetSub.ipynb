{
 "cells": [
  {
   "cell_type": "code",
   "execution_count": 1,
   "metadata": {
    "collapsed": false
   },
   "outputs": [
    {
     "data": {
      "text/plain": [
       "4-element Array{ByteString,1}:\n",
       " \"/home/ubuntu/build/julia-master/usr/local/share/julia/site/v0.5\"\n",
       " \"/home/ubuntu/build/julia-master/usr/share/julia/site/v0.5\"      \n",
       " \".\"                                                              \n",
       " \"../util/\"                                                       "
      ]
     },
     "execution_count": 1,
     "metadata": {},
     "output_type": "execute_result"
    }
   ],
   "source": [
    "using Iterators\n",
    "using Pipe\n",
    "using Compat\n",
    "\n",
    "macro printval(ee)\n",
    "    ee_expr = @sprintf \"%s\" string(ee)\n",
    "    esc(:(println($ee_expr,\" = \", $ee)))\n",
    "end\n",
    "\n",
    "macro pz(ee)\n",
    "    ee_expr = @sprintf \"%s\" string(ee)\n",
    "    esc(:(println($ee_expr,\"\\t\\t\",typeof($ee), \"\\t\", size($ee))))\n",
    "end\n",
    "\n",
    "push!(LOAD_PATH, \".\")\n",
    "push!(LOAD_PATH, \"../util/\")"
   ]
  },
  {
   "cell_type": "code",
   "execution_count": 2,
   "metadata": {
    "collapsed": false
   },
   "outputs": [
    {
     "data": {
      "text/plain": [
       "11-element Array{Int64,1}:\n",
       "  2\n",
       "  3\n",
       "  4\n",
       "  5\n",
       "  6\n",
       "  7\n",
       "  8\n",
       "  9\n",
       " 10\n",
       " 11\n",
       " 12"
      ]
     },
     "execution_count": 2,
     "metadata": {},
     "output_type": "execute_result"
    }
   ],
   "source": [
    "addprocs(11)"
   ]
  },
  {
   "cell_type": "code",
   "execution_count": 3,
   "metadata": {
    "collapsed": false,
    "scrolled": true
   },
   "outputs": [
    {
     "name": "stderr",
     "output_type": "stream",
     "text": [
      "WARNING: replacing module Distances\n",
      "WARNING: replacing module Distances\n",
      "WARNING: replacing module Distances\n",
      "WARNING: replacing module Distances\n",
      "WARNING: replacing module Distances\n",
      "WARNING: replacing module Distances\n",
      "WARNING: replacing module Distances\n",
      "WARNING: replacing module Distances\n",
      "WARNING: replacing module Distances\n",
      "WARNING: replacing module Distances\n",
      "WARNING: replacing module Distances\n"
     ]
    }
   ],
   "source": [
    "@everywhere using Distances"
   ]
  },
  {
   "cell_type": "code",
   "execution_count": 4,
   "metadata": {
    "collapsed": false,
    "scrolled": true
   },
   "outputs": [
    {
     "data": {
      "text/plain": [
       "Dict{ASCIIString,Any} with 7 entries:\n",
       "  \"zeroed_words\"  => ASCIIString[]\n",
       "  \"length_prob\"   => [0.00273293,0.0141963,0.0332591,0.054354,0.0725396,0.08505…\n",
       "  \"LL\"            => 300x1126 Array{Float64,2}:…\n",
       "  \"indexed_words\" => AbstractString[\"the\",\"of\",\"to\",\"and\",\"in\",\"a\",\"for\",\"that\"…\n",
       "  \"test_set\"      => [SubString{ASCIIString}[\"what\",\"is\",\"the\",\"cheapest\",\"way\"…\n",
       "  \"trigrams\"      => Any[(\"**START1**\",\"**START2**\",\"what\"),(\"**START2**\",\"what…\n",
       "  \"word_indexes\"  => Dict{AbstractString,Int64}(\"carried\"=>452,\"diabetic\"=>1069…"
      ]
     },
     "execution_count": 4,
     "metadata": {},
     "output_type": "execute_result"
    }
   ],
   "source": [
    "\n",
    "@everywhere atis_data = open(\"atis_data2.jsz\",\"r\") do fh\n",
    "    deserialize(fh)    \n",
    "end\n",
    "test_set = atis_data[\"test_set\"];\n",
    "atis_data"
   ]
  },
  {
   "cell_type": "code",
   "execution_count": 5,
   "metadata": {
    "collapsed": false
   },
   "outputs": [],
   "source": [
    "@everywhere function lookup_sowe(data, sent::AbstractString)\n",
    "    lookup_sowe(data, sent |> split)\n",
    "end\n",
    "\n",
    "@everywhere function lookup_sowe{S<:AbstractString}(data, sent::Vector{S})\n",
    "    sum([data[\"LL\"][:,data[\"word_indexes\"][word]] for word in sent]) \n",
    "end\n",
    "\n",
    "@everywhere function lookup_words(data, path)\n",
    "    [data[\"indexed_words\"][ii] for ii in path]\n",
    "end"
   ]
  },
  {
   "cell_type": "code",
   "execution_count": 6,
   "metadata": {
    "collapsed": false,
    "scrolled": true
   },
   "outputs": [],
   "source": [
    "@everywhere @inline function get_end(LL, ws::Vector{Int64})\n",
    "    @inbounds sofar = length(ws)>0 ? sum([LL[:,ii] for ii in ws]) : zeros(LL[:,1])\n",
    "    sofar\n",
    "end\n",
    "\n",
    "@everywhere  @fastmath function score_possible_additions(LL, target, ws)\n",
    "    @inbounds path_ends = LL .+ get_end(LL, ws)\n",
    "    -sqrt(vec(sum((path_ends .- target).^2,1)))\n",
    "end   \n",
    "\n",
    "@everywhere  @inline function fitness(LL, target, path::Vector{Int64})\n",
    "    #Fitter is smaller\n",
    "    -euclidean(get_end(LL, path), target)   \n",
    "end\n",
    "\n",
    "@everywhere function greedy_addition(LL::Matrix{Float64},\n",
    "                         target::Vector{Float64},\n",
    "                         best_word_set::Vector{Int},\n",
    "                         max_additions = Inf)\n",
    "    best_score = fitness(LL, target, best_word_set)\n",
    "    did_improve = true\n",
    "    cur_additions = 0\n",
    "    while(did_improve && cur_additions<max_additions)\n",
    "        cur_additions+=1\n",
    "        did_improve=false\n",
    "        addition_scores = score_possible_additions(LL, target, best_word_set)\n",
    "        addition_score, addition = findmax(addition_scores)\n",
    "        if addition_score>best_score\n",
    "            best_score=addition_score\n",
    "            best_word_set = [best_word_set...,addition]\n",
    "            #println(\"+$best_score $(lookup_words(data, best_word_set))\")\n",
    "            did_improve=true\n",
    "        end\n",
    "    end\n",
    "    best_word_set,best_score\n",
    "end\n",
    "\n",
    "@everywhere function word_swap_refinement(LL::Matrix{Float64},\n",
    "                              target::Vector{Float64},\n",
    "                              best_word_set::Vector{Int}, \n",
    "                              max_swaps=1)\n",
    "    \n",
    "    initial_word_set = copy(best_word_set)\n",
    "    best_score = fitness(LL, target, best_word_set)\n",
    "    \n",
    "    function update_best!(word_set,score)\n",
    "        if score>best_score\n",
    "            best_score=score\n",
    "            best_word_set = word_set\n",
    "            #println(\"*$best_score $(lookup_words(data, best_word_set))\")\n",
    "        end\n",
    "    end\n",
    "        \n",
    "    if max_swaps>0\n",
    "        for ii in 1:length(initial_word_set)\n",
    "            word_set = initial_word_set[[1:ii-1; ii+1:end]]\n",
    "            \n",
    "            swap2_word_set, swap2_score =  word_swap_refinement(LL, target, word_set, max_swaps-1)\n",
    "            #The return of swap2 will also cover removing just one\n",
    "            update_best!(swap2_word_set, swap2_score)\n",
    "            \n",
    "            add_word_set, add_score = greedy_addition(LL, target, word_set, 1) #Try adding just one greedily\n",
    "            update_best!(add_word_set, add_score)\n",
    "            \n",
    "        end\n",
    "    end\n",
    "    best_word_set,best_score\n",
    "        \n",
    "end\n",
    "\n",
    "\n",
    "\n",
    "@everywhere function greedy_search{S<:AbstractString}(data::Dict, target_sent::Vector{S}, max_swaps=1, rounds=3; log=false)\n",
    "    target::Vector{Float64} = lookup_sowe(data,target_sent)\n",
    "    get_words(word_iis) = [data[\"indexed_words\"][ii] for ii in word_iis]\n",
    "    \n",
    "    word_iis = Int[]\n",
    "    score=-Inf\n",
    "    for round in 1:rounds\n",
    "        word_iis,score = greedy_addition(data[\"LL\"], target, word_iis)\n",
    "        log && println(\"+$score $(get_words(word_iis))\")\n",
    "        if score>=0 break end\n",
    "        word_iis,score = word_swap_refinement(data[\"LL\"], target, word_iis, max_swaps)\n",
    "        log && println(\"-$score $(get_words(word_iis))\")\n",
    "        if score>=0 break end\n",
    "    end\n",
    "    get_words(word_iis),score\n",
    "        \n",
    "end\n",
    "\n"
   ]
  },
  {
   "cell_type": "code",
   "execution_count": null,
   "metadata": {
    "collapsed": true
   },
   "outputs": [],
   "source": []
  },
  {
   "cell_type": "code",
   "execution_count": 8,
   "metadata": {
    "collapsed": false
   },
   "outputs": [
    {
     "name": "stdout",
     "output_type": "stream",
     "text": [
      "what are the cheapest flights from denver to pittsburgh that stop in atlanta\n",
      "+-5.068925465368997 Any[\"we\",\"to\",\"from\",\"atlanta\",\"are\",\"the\",\"flights\",\"pittsburgh\",\"what\",\"in\",\"denver\",\"cheapest\",\"stop\"]\n",
      "--0.0 Any[\"to\",\"from\",\"atlanta\",\"are\",\"the\",\"flights\",\"pittsburgh\",\"what\",\"in\",\"denver\",\"cheapest\",\"stop\",\"that\"]\n"
     ]
    },
    {
     "data": {
      "text/plain": [
       "(Any[\"to\",\"from\",\"atlanta\",\"are\",\"the\",\"flights\",\"pittsburgh\",\"what\",\"in\",\"denver\",\"cheapest\",\"stop\",\"that\"],-0.0)"
      ]
     },
     "execution_count": 8,
     "metadata": {},
     "output_type": "execute_result"
    },
    {
     "name": "stdout",
     "output_type": "stream",
     "text": [
      "  0.277340 seconds (5.89 k allocations: 212.262 MB, 13.88% gc time)\n"
     ]
    }
   ],
   "source": [
    "target_sent = test_set[14]\n",
    "println(join(target_sent, \" \"))\n",
    "@time sol, score = greedy_search(atis_data, target_sent, log=true)\n",
    "\n"
   ]
  },
  {
   "cell_type": "code",
   "execution_count": 9,
   "metadata": {
    "collapsed": false,
    "scrolled": true
   },
   "outputs": [
    {
     "data": {
      "text/plain": [
       "13038-element Array{Any,1}:\n",
       " (Any[\"to\",\"to\",\"way\",\"the\",\"denver\",\"is\",\"fly\",\"from\",\"cheapest\",\"oakland\",\"what\"],-0.0,1)                                               \n",
       " (Any[\"to\",\"to\",\"i\",\"denver\",\"from\",\"oakland\",\"go\",\"want\"],-0.0,2)                                                                        \n",
       " (Any[\"what\",\"to\",\"flight\",\"the\",\"denver\",\"is\",\"from\",\"cheapest\",\"oakland\"],-0.0,3)                                                       \n",
       " (Any[\"please\",\"one\",\"way\"],-0.0,4)                                                                                                       \n",
       " (Any[\"i\",\"to\",\"m\",\"after\",\"leave\",\"p\",\"five\",\"want\"],-0.0,5)                                                                             \n",
       " (Any[\"to\",\"i\",\"to\",\"philadelphia\",\"want\",\"from\",\"dallas\",\"go\",\"sure\"],-0.0,6)                                                            \n",
       " (Any[\"will\",\"be\",\"flights\",\"on\",\"lunch\",\"served\",\"which\"],-0.0,7)                                                                        \n",
       " (Any[\"flights\",\"serve\",\"lunch\",\"which\"],-0.0,8)                                                                                          \n",
       " (Any[\"you\",\"thank\"],-0.0,9)                                                                                                              \n",
       " (Any[\"i\",\"live\",\"denver\",\"in\"],-0.0,10)                                                                                                  \n",
       " (Any[\"to\",\"to\",\"atlanta\",\"from\",\"pittsburgh\",\"fly\",\"like\",\"denver\",\"and\",\"i\",\"would\"],-0.0,11)                                           \n",
       " (Any[\"to\",\"atlanta\",\"flight\",\"is\",\"from\",\"denver\",\"expensive\",\"the\",\"least\",\"what\"],-0.0,12)                                             \n",
       " (Any[\"a\",\"trip\",\"there\",\"round\",\"flight\",\"in\",\"pittsburgh\",\"stops\",\"is\",\"that\"],-0.0,13)                                                 \n",
       " ⋮                                                                                                                                        \n",
       " (Any[\"is\",\"b\",\"downtown\",\"available\",\"baltimore\",\"ground\",\"transportation\",\"w\",\"to\",\"what\",\"i\"],-0.0,13027)                              \n",
       " (Any[\"aircraft\",\"american\",\"of\",\"airlines\",\"six\",\"type\",\"hundred\",\"is\",\"what\"],-0.0,13028)                                               \n",
       " (Any[\"washington\",\"the\",\"airport\",\"is\",\"cost\",\"of\",\"transportation\",\"ground\",\"baltimore\",\"what\"],-0.0,13029)                             \n",
       " (Any[\"aircraft\",\"one\",\"air\",\"one\",\"two\",\"is\",\"type\",\"flight\",\"s\",\"of\",\"u\",\"what\",\"six\"],-0.0,13030)                                      \n",
       " (Any[\"airport\",\"to\",\"pittsburgh\",\"available\",\"ground\",\"transportation\",\"pittsburgh\",\"from\",\"is\",\"downtown\",\"what\"],-0.0,13031)           \n",
       " (Any[\"is\",\"airport\",\"the\",\"dallas\",\"between\",\"available\",\"transportation\",\"ground\",\"dallas\",\"is\",\"and\",\"downtown\",\"what\"],-0.0,13032)    \n",
       " (Any[\"airport\",\"worth\",\"dallas\",\"fort\",\"to\",\"available\",\"downtown\",\"from\",\"transportation\",\"ground\",\"dallas\",\"is\",\"what\"],-0.0,13033)    \n",
       " (Any[\"airport\",\"baltimore\",\"to\",\"what\",\"transportation\",\"from\",\"ground\",\"baltimore\",\"is\",\"downtown\"],-0.0,13034)                         \n",
       " (Any[\"airport\",\"to\",\"baltimore\",\"available\",\"washington\",\"transportation\",\"ground\",\"baltimore\",\"from\",\"is\",\"downtown\",\"what\"],-0.0,13035)\n",
       " (Any[\"airport\",\"to\",\"pittsburgh\",\"available\",\"ground\",\"transportation\",\"pittsburgh\",\"from\",\"is\",\"downtown\",\"what\"],-0.0,13036)           \n",
       " (Any[\"to\",\"boston\",\"to\",\"to\",\"boston\",\"pittsburgh\",\"the\",\"from\",\"fare\",\"baltimore\",\"is\",\"to\",\"cheapest\",\"dallas\",\"what\"],-0.0,13037)     \n",
       " (Any[\"round\",\"trip\"],-0.0,13038)                                                                                                         "
      ]
     },
     "execution_count": 9,
     "metadata": {},
     "output_type": "execute_result"
    }
   ],
   "source": [
    "res = pmap([1:length(test_set);], test_set) do ii,target_sent\n",
    "    sol, score = greedy_search(atis_data, target_sent, 1, 5, log=false)\n",
    "    (sol, score, ii)\n",
    "end"
   ]
  },
  {
   "cell_type": "code",
   "execution_count": 11,
   "metadata": {
    "collapsed": false
   },
   "outputs": [],
   "source": [
    "open(\"atis_res_glove.jsz\",\"w\") do fh\n",
    "    serialize(fh, (Vector{ASCIIString}[sol for (sol, score, ii) in res], test_set)\n",
    "    )    \n",
    "end\n",
    "\n"
   ]
  },
  {
   "cell_type": "code",
   "execution_count": 12,
   "metadata": {
    "collapsed": false,
    "scrolled": true
   },
   "outputs": [
    {
     "data": {
      "text/plain": [
       "631-element Array{Any,1}:\n",
       " (Any[\"this\",\"the\",\"round\",\"are\",\"fare\",\"of\",\"lowest\",\"trip\",\"which\"],-3.6439134957576,85)                                                                                                                                \n",
       " (Any[\"to\",\"san\",\"any\",\"all\",\"city\",\"flights\",\"at\",\"that\",\"san\",\"from\",\"please\",\"boston\",\"tell\",\"the\",\"stops\",\"me\"],-3.692491576837481,154)                                                                               \n",
       " (Any[\"on\",\"washington\",\"all\",\"boston\",\"between\",\"me\",\"flights\",\"baltimore\",\"november\",\"please\",\"and\",\"the\",\"tell\",\"fifth\",\"twenty\"],-2.9618302472727227,156)                                                             \n",
       " (Any[\"i\",\"you\",\"will\",\"morning\",\"the\",\"what\",\"in\",\"flight\",\"leaves\",\"me\",\"in\",\"arrives\",\"frequently\",\"please\",\"that\",\"the\",\"evening\",\"**START1**\",\"take\"],-5.886880734491557,160)                                        \n",
       " (Any[\"on\",\"from\",\"flights\",\"june\",\"arrive\",\"boston\",\"tell\",\"eleven\",\"in\",\"depart\",\"me\",\"**START1**\",\"baltimore\",\"please\",\"and\",\"**START1**\",\"tuesday\",\"what\"],-3.593286159611325,161)                                    \n",
       " (Any[\"to\",\"from\",\"go\",\"flights\",\"dallas\",\"please\",\"after\",\"p\",\"thirteen\",\"oakland\",\"tell\",\"me\",\"tomorrow\",\"what\",\"**START1**\"],-4.65323547278049,166)                                                                    \n",
       " (Any[\"on\",\"to\",\"me\",\"flights\",\"boston\",\"the\",\"april\",\"please\",\"oakland\",\"thirty\",\"wednesday\",\"from\",\"one\",\"tell\"],-2.7923526903018354,169)                                                                               \n",
       " (Any[\"for\",\"the\",\"flights\",\"they\",\"the\",\"washington\",\"from\",\"airport\",\"atlanta\",\"the\",\"way\",\"fares\",\"baltimore\",\"**START1**\",\"five\",\"is\",\"to\",\"**START1**\",\"one\"],-4.9317080240169515,200)                               \n",
       " (Any[\"two\",\"at\",\"four\",\"i\",\"will\",\"number\",\"flight\",\"m\",\"eastern\",\"boston\",\"one\",\"p\",\"leave\",\"twenty\",\"taking\",\"five\",\"six\"],-3.156870867160095,280)                                                                     \n",
       " (Any[\"you\",\"to\",\"flight\",\"you\",\"american\",\"from\",\"a\",\"airlines\",\"san\",\"get\",\"traveling\",\"hello\",\"boston\",\"on\",\"me\",\"francisco\",\"could\"],-4.318435465827568,326)                                                          \n",
       " (Any[\"a\",\"it\",\"a\",\"on\",\"meal\",\"flight\",\"m\",\"vegetarian\",\"the\",\"forty\",\"has\",\"do\",\"one\",\"six\"],-3.3842760422649927,371)                                                                                                   \n",
       " (Any[\"three\",\"number\",\"flight\",\"class\",\"on\",\"cost\",\"fifty\",\"does\",\"first\",\"much\",\"how\",\"nine\"],-1.2917197857292098,395)                                                                                                  \n",
       " (Any[\"you\",\"to\",\"it\",\"would\",\"the\",\"on\",\"boston\",\"from\",\"fifth\",\"please\",\"fare\",\"december\",\"twenty\",\"philadelphia\",\"expensive\",\"tell\",\"**START1**\",\"me\",\"is\",\"least\"],-3.7201468351631184,430)                           \n",
       " ⋮                                                                                                                                                                                                                        \n",
       " (Any[\"people\",\"two\",\"from\",\"more\",\"washington\",\"april\",\"right\",\"twentieth\",\"denver\",\"departure\",\"expensive\",\"eleven\",\"fare\",\"returning\",\"seventh\",\"**START1**\",\"april\",\"**START1**\",\"to\",\"all\"],-4.724139872956544,12951)\n",
       " (Any[\"you\",\"you\",\"to\",\"to\",\"on\",\"for\",\"morning\",\"get\",\"some\",\"transportation\"  …  \"philadelphia\",\"ground\",\"okay\",\"downtown\",\"did\",\"me\",\"information\",\"**START1**\",\"need\",\"can\"],-5.431784272148503,12965)                \n",
       " (Any[\"i\",\"you\",\"to\",\"to\",\"you\",\"to\",\"i\",\"about\",\"out\",\"boston\"  …  \"from\",\"ground\",\"philadelphia\",\"okay\",\"both\",\"need\",\"thank\",\"very\",\"much\",\"go\"],-5.741868197542055,12967)                                             \n",
       " (Any[\"you\",\"you\",\"to\",\"you\",\"to\",\"we\",\"help\",\"me\",\"airport\",\"boston\",\"please\",\"transportation\",\"seem\",\"me\",\"ground\",\"logan\",\"downtown\",\"misunderstand\",\"from\",\"can\"],-4.7056540891340335,12970)                          \n",
       " (Any[\"i\",\"to\",\"i\",\"to\",\"to\",\"not\",\"you\",\"would\",\"they\",\"a\"  …  \"saturday\",\"like\",\"nonstop\",\"ten\",\"april\",\"doing\",\"places\",\"flight\",\"would\",\"stop\"],-8.05030587789699,12972)                                              \n",
       " (Any[\"to\",\"i\",\"to\",\"to\",\"before\",\"three\",\"back\",\"for\",\"boston\",\"night\"  …  \"dallas\",\"okay\",\"following\",\"**START1**\",\"**START1**\",\"a\",\"leaving\",\"day\",\"like\",\"go\"],-2.858994137785958,12980)                              \n",
       " (Any[\"they\",\"flight\",\"fort\",\"in\",\"worth\",\"arrives\",\"and\",\"that\",\"does\"],-4.031448793647686,12993)                                                                                                                        \n",
       " (Any[\"two\",\"from\",\"flight\",\"atlanta\",\"to\",\"from\",\"flight\",\"the\",\"atlanta\",\"eastern\"  …  \"dallas\",\"delta\",\"meals\",\"is\",\"sixteen\",\"to\",\"forty\",\"what\",\"those\",\"four\"],-4.785260339693766,12995)                            \n",
       " (Any[\"it\",\"at\",\"the\",\"flight\",\"the\",\"are\",\"boston\",\"to\",\"m\",\"one\",\"flight\",\"atlanta\",\"p\",\"eastern\",\"is\",\"leaving\",\"including\",\"what\",\"same\"],-6.614182233495552,13003)                                                   \n",
       " (Any[\"to\",\"i\",\"a\",\"between\",\"as\",\"flight\",\"than\",\"atlanta\",\"as\",\"where\"  …  \"pittsburgh\",\"possible\",\"nonstop\",\"leaving\",\"p\",\"the\",\"come\",\"and\",\"three\",\"close\"],-7.948766766529114,13005)                                \n",
       " (Any[\"you\",\"you\",\"to\",\"we\",\"it\",\"to\",\"be\",\"what\",\"for\",\"to\"  …  \"houston\",\"hours\",\"going\",\"**START1**\",\"i\",\"consist\",\"wants\",\"downtown\",\"transportation\",\"from\"],-11.596384960081783,13006)                              \n",
       " (Any[\"to\",\"to\",\"american\",\"three\",\"airlines\",\"to\",\"i\",\"american\",\"baltimore\",\"airlines\"  …  \"sixteen\",\"s\",\"baltimore\",\"such\",\"fifteen\",\"dallas\",\"**START1**\",\"and\",\"twelve\",\"would\"],-3.7778209491543837,13007)          "
      ]
     },
     "execution_count": 12,
     "metadata": {},
     "output_type": "execute_result"
    }
   ],
   "source": [
    "hard_cases = find(x->x[2]<0, res)\n",
    "res[hard_cases]"
   ]
  },
  {
   "cell_type": "code",
   "execution_count": 13,
   "metadata": {
    "collapsed": false
   },
   "outputs": [
    {
     "data": {
      "text/plain": [
       "631-element Array{Array{SubString{ASCIIString},1},1}:\n",
       " SubString{ASCIIString}[\"which\",\"of\",\"these\",\"is\",\"the\",\"lowest\",\"round\",\"trip\",\"fare\"]                                                                                                  \n",
       " SubString{ASCIIString}[\"please\",\"tell\",\"me\",\"all\",\"the\",\"flights\",\"from\",\"boston\",\"to\",\"san\",\"francisco\",\"that\",\"stops\",\"at\",\"any\",\"city\"]                                              \n",
       " SubString{ASCIIString}[\"please\",\"tell\",\"me\",\"all\",\"the\",\"flights\",\"between\",\"boston\",\"and\",\"baltimore\",\"washington\",\"on\",\"november\",\"twenty\",\"third\"]                                   \n",
       " SubString{ASCIIString}[\"please\",\"tell\",\"me\",\"what\",\"flight\",\"i\",\"can\",\"take\",\"that\",\"arrives\",\"in\",\"the\",\"morning\",\"and\",\"leaves\",\"in\",\"the\",\"evening\"]                                 \n",
       " SubString{ASCIIString}[\"please\",\"tell\",\"me\",\"what\",\"flights\",\"depart\",\"from\",\"baltimore\",\"and\",\"arrive\",\"in\",\"boston\",\"on\",\"tuesday\",\"november\",\"twenty\"]                               \n",
       " SubString{ASCIIString}[\"please\",\"tell\",\"me\",\"what\",\"flights\",\"go\",\"from\",\"dallas\",\"to\",\"oakland\",\"tomorrow\",\"after\",\"five\",\"p\"]                                                         \n",
       " SubString{ASCIIString}[\"please\",\"tell\",\"me\",\"the\",\"flights\",\"from\",\"oakland\",\"to\",\"boston\",\"on\",\"wednesday\",\"november\",\"twenty\",\"one\"]                                                  \n",
       " SubString{ASCIIString}[\"what\",\"are\",\"the\",\"fares\",\"for\",\"the\",\"nine\",\"one\",\"way\",\"flights\",\"from\",\"atlanta\",\"to\",\"the\",\"baltimore\",\"washington\",\"airport\"]                              \n",
       " SubString{ASCIIString}[\"i\",\"will\",\"take\",\"eastern\",\"flight\",\"number\",\"six\",\"four\",\"five\",\"leaving\",\"boston\",\"at\",\"two\",\"twenty\",\"one\",\"p\",\"m\"]                                          \n",
       " SubString{ASCIIString}[\"hello\",\"could\",\"you\",\"just\",\"get\",\"me\",\"a\",\"flight\",\"from\",\"boston\",\"to\",\"san\",\"francisco\",\"traveling\",\"on\",\"american\",\"airlines\"]                              \n",
       " SubString{ASCIIString}[\"does\",\"the\",\"six\",\"forty\",\"one\",\"a\",\"m\",\"flight\",\"have\",\"a\",\"vegetarian\",\"meal\",\"on\",\"it\"]                                                                      \n",
       " SubString{ASCIIString}[\"how\",\"much\",\"does\",\"first\",\"class\",\"cost\",\"on\",\"flight\",\"number\",\"four\",\"fifty\",\"nine\"]                                                                         \n",
       " SubString{ASCIIString}[\"would\",\"you\",\"please\",\"tell\",\"me\",\"what\",\"the\",\"least\",\"expensive\",\"fare\",\"is\",\"from\",\"philadelphia\",\"to\",\"boston\",\"on\",\"december\",\"twenty\",\"fifth\"]            \n",
       " ⋮                                                                                                                                                                                       \n",
       " SubString{ASCIIString}[\"all\",\"right\",\"april\",\"twentieth\",\"departure\",\"from\",\"washington\",\"to\",\"denver\",\"returning\",\"april\",\"twenty\",\"seventh\",\"two\",\"people\",\"least\",\"expensive\",\"fare\"]\n",
       " SubString{ASCIIString}[\"okay\",\"for\",\"friday\",\"morning\",\"i\",\"need\",\"to\",\"go\",\"to\",\"downtown\"  …  \"can\",\"you\",\"please\",\"give\",\"me\",\"some\",\"information\",\"on\",\"ground\",\"transportation\"]   \n",
       " SubString{ASCIIString}[\"okay\",\"thank\",\"you\",\"very\",\"much\",\"i\",\"need\",\"to\",\"find\",\"out\"  …  \"transportation\",\"from\",\"philadelphia\",\"and\",\"i\",\"need\",\"to\",\"go\",\"to\",\"boston\"]             \n",
       " SubString{ASCIIString}[\"you\",\"seem\",\"to\",\"misunderstand\",\"me\",\"i\",\"need\",\"ground\",\"transportation\",\"from\",\"logan\",\"airport\",\"to\",\"downtown\",\"boston\",\"can\",\"you\",\"please\",\"help\",\"me\"]  \n",
       " SubString{ASCIIString}[\"i\",\"would\",\"like\",\"to\",\"travel\",\"from\",\"san\",\"francisco\",\"to\",\"boston\"  …  \"i\",\"do\",\"not\",\"want\",\"it\",\"to\",\"be\",\"a\",\"nonstop\",\"flight\"]                         \n",
       " SubString{ASCIIString}[\"okay\",\"i\",\"like\",\"to\",\"go\",\"from\",\"dallas\",\"before\",\"nine\",\"a\"  …  \"boston\",\"and\",\"the\",\"following\",\"evening\",\"leaving\",\"boston\",\"back\",\"to\",\"dallas\"]          \n",
       " SubString{ASCIIString}[\"and\",\"when\",\"does\",\"that\",\"flight\",\"arrive\",\"in\",\"fort\",\"worth\"]                                                                                                \n",
       " SubString{ASCIIString}[\"and\",\"what\",\"are\",\"the\",\"meals\",\"on\",\"delta\",\"flight\",\"sixteen\",\"from\"  …  \"and\",\"eastern\",\"flight\",\"one\",\"forty\",\"four\",\"from\",\"atlanta\",\"to\",\"boston\"]        \n",
       " SubString{ASCIIString}[\"and\",\"what\",\"is\",\"the\",\"eastern\",\"flight\",\"leaving\",\"atlanta\",\"at\",\"six\",\"p\",\"m\",\"to\",\"boston\",\"what\",\"is\",\"the\",\"flight\",\"number\"]                             \n",
       " SubString{ASCIIString}[\"i\",\"would\",\"like\",\"a\",\"flight\",\"between\",\"pittsburgh\",\"and\",\"atlanta\",\"nonstop\"  …  \"afternoon\",\"arriving\",\"as\",\"close\",\"to\",\"five\",\"p\",\"m\",\"as\",\"possible\"]    \n",
       " SubString{ASCIIString}[\"i\",\"would\",\"like\",\"to\",\"go\",\"from\",\"boston\",\"to\",\"pittsburgh\",\"baltimore\"  …  \"is\",\"the\",\"cheapest\",\"fare\",\"what\",\"type\",\"of\",\"aircraft\",\"is\",\"used\"]           \n",
       " SubString{ASCIIString}[\"i\",\"would\",\"like\",\"to\",\"fly\",\"on\",\"american\",\"airlines\",\"three\",\"fifteen\"  …  \"baltimore\",\"and\",\"u\",\"s\",\"air\",\"twelve\",\"sixteen\",\"baltimore\",\"to\",\"pittsburgh\"] "
      ]
     },
     "execution_count": 13,
     "metadata": {},
     "output_type": "execute_result"
    }
   ],
   "source": [
    "test_set[hard_cases]"
   ]
  },
  {
   "cell_type": "code",
   "execution_count": 14,
   "metadata": {
    "collapsed": false,
    "scrolled": true
   },
   "outputs": [
    {
     "data": {
      "text/plain": [
       "261-element Array{Any,1}:\n",
       " (Any[\"that\",\"class\",\"first\",\"flight\",\"has\",\"do\"],-0.749290050987327,1)                                                                                                                             \n",
       " (Any[\"if\",\"that\",\"you\",\"there\",\"any\",\"flight\",\"on\",\"meals\",\"tell\",\"were\",\"me\",\"can\"],-0.7116376591882416,2)                                                                                        \n",
       " (Any[\"five\",\"type\",\"flight\",\"from\",\"is\",\"francisco\",\"used\",\"aircraft\",\"at\",\"san\",\"leaves\",\"that\",\"boston\",\"m\",\"on\",\"what\",\"twenty\",\"eight\"],-0.0,3)                                                \n",
       " (Any[\"morning\",\"leaves\",\"that\",\"please\",\"arrive\",\"flight\",\"me\",\"in\",\"evening\",\"tell\",\"takes\",\"i\",\"what\",\"can\",\"the\",\"the\",\"in\"],-0.7290381772504556,4)                                             \n",
       " (Any[\"in\",\"this\",\"flight\",\"arrives\",\"when\",\"denver\",\"not\"],-0.7661988352217954,5)                                                                                                                  \n",
       " (Any[\"one\",\"the\",\"do\",\"forty\",\"meals\",\"kind\",\"flight\",\"six\",\"m\",\"has\",\"what\"],-0.749290050987327,6)                                                                                                \n",
       " (Any[\"two\",\"what\",\"meals\",\"number\",\"flight\",\"ninety\",\"kind\",\"has\",\"do\",\"six\"],-0.749290050987327,7)                                                                                                \n",
       " (Any[\"you\",\"philadelphia\",\"the\",\"please\",\"fare\",\"least\",\"boston\",\"is\",\"from\",\"expensive\",\"december\",\"me\",\"tell\",\"would\",\"on\",\"twenty\",\"what\",\"fifth\"],-0.0,8)                                      \n",
       " (Any[\"do\",\"one\",\"what\",\"airplane\",\"on\",\"number\",\"eighty\",\"flight\",\"united\",\"uses\",\"kind\",\"two\"],-0.7738238102014173,9)                                                                             \n",
       " (Any[\"american\",\"do\",\"philadelphia\",\"from\",\"what\",\"flights\",\"dallas\",\"has\"],-0.749290050987327,10)                                                                                                 \n",
       " (Any[\"city\",\"long\",\"get\",\"airport\",\"from\",\"atlanta\",\"takes\",\"how\",\"not\",\"the\",\"it\",\"the\"],-0.7260245920555869,11)                                                                                  \n",
       " (Any[\"in\",\"the\",\"transportation\",\"atlanta\",\"airport\",\"using\",\"takes\",\"city\",\"long\",\"ground\",\"atlanta\",\"get\",\"from\",\"it\",\"how\",\"in\",\"not\",\"the\"],-0.7260245920555869,12)                            \n",
       " (Any[\"the\",\"it\",\"the\",\"much\",\"city\",\"do\",\"cost\",\"airport\",\"oakland\",\"from\",\"how\",\"gets\"],-0.6877092103151025,13)                                                                                   \n",
       " ⋮                                                                                                                                                                                                  \n",
       " (Any[\"five\",\"hundred\",\"pittsburgh\",\"flight\",\"dollars\",\"fare\",\"time\",\"from\",\"denver\",\"leave\",\"this\",\"what\",\"eighty\",\"does\",\"two\"],-0.30707088376334446,250)                                         \n",
       " (Any[\"just\",\"just\",\"you\",\"do\",\"i\",\"fly\",\"american\",\"would\",\"then\",\"on\"  …  \"there\",\"airlines\",\"makes\",\"dallas\",\"four\",\"alice\",\"say\",\"if\",\"directly\",\"trip\"],-2.1283431221776543,251)               \n",
       " (Any[\"would\",\"like\",\"flight\",\"i\",\"aircraft\",\"would\",\"type\",\"american\",\"fly\",\"on\",\"airlines\",\"is\",\"three\",\"what\",\"eighty\",\"like\",\"that\",\"i\",\"know\",\"eight\"],-0.0,252)                               \n",
       " (Any[\"flight\",\"on\",\"flight\",\"that\",\"american\",\"first\",\"seat\",\"april\",\"class\",\"would\",\"book\",\"airlines\",\"three\",\"on\",\"yes\",\"i\",\"like\",\"fifteenth\",\"eighty\",\"seven\"],-0.24354288937386556,253)       \n",
       " (Any[\"on\",\"the\",\"in\",\"for\",\"philadelphia\",\"that\",\"you\",\"early\",\"information\",\"i\"  …  \"sixteen\",\"thank\",\"flight\",\"like\",\"april\",\"on\",\"information\",\"atlanta\",\"now\",\"would\"],-0.0,254)               \n",
       " (Any[\"the\",\"in\",\"atlanta\",\"three\",\"morning\",\"go\",\"on\",\"i\",\"from\",\"denver\",\"early\",\"like\",\"leaving\",\"would\",\"okay\",\"around\",\"eight\",\"may\"],-0.24354288937386556,255)                                \n",
       " (Any[\"atlanta\",\"do\",\"u\",\"any\",\"air\",\"s\",\"out\",\"flights\",\"denver\",\"has\"],-0.749290050987327,256)                                                                                                    \n",
       " (Any[\"april\",\"washington\",\"all\",\"april\",\"least\",\"fare\",\"right\",\"expensive\",\"denver\",\"from\",\"returning\",\"people\",\"departure\",\"two\",\"twentieth\",\"twenty\",\"seventh\"],-0.0,257)                        \n",
       " (Any[\"you\",\"please\",\"friday\",\"for\",\"some\",\"morning\",\"transportation\",\"philadelphia\",\"me\",\"ground\",\"downtown\",\"i\",\"on\",\"need\",\"okay\",\"information\",\"go\",\"give\",\"can\"],-0.0,258)                     \n",
       " (Any[\"do\",\"i\",\"like\",\"i\",\"would\",\"saturday\",\"i\",\"travel\",\"in\",\"francisco\"  …  \"from\",\"san\",\"places\",\"not\",\"boston\",\"be\",\"on\",\"few\",\"it\",\"want\"],-0.0,259)                                          \n",
       " (Any[\"dallas\",\"the\",\"one\",\"leaving\",\"boston\",\"go\",\"for\",\"night\",\"atlanta\",\"from\"  …  \"that\",\"boston\",\"okay\",\"afternoon\",\"dallas\",\"following\",\"nine\",\"before\",\"like\",\"back\"],-1.081148741938741,260)\n",
       " (Any[\"do\",\"what\",\"is\",\"baltimore\",\"the\",\"go\",\"minneapolis\",\"type\",\"at\",\"transportation\"  …  \"three\",\"stays\",\"what\",\"cheapest\",\"from\",\"i\",\"hours\",\"be\",\"dallas\",\"want\"],-1.614801582344562,261)     "
      ]
     },
     "execution_count": 14,
     "metadata": {},
     "output_type": "execute_result"
    }
   ],
   "source": [
    "hard_set =  test_set[hard_cases]\n",
    "\n",
    "hard_res = pmap([1:length(hard_set);], hard_set) do ii,target_sent\n",
    "    sol, score = greedy_search(atis_data, target_sent, 2,5, log=false)\n",
    "    (sol, score, ii)\n",
    "end"
   ]
  },
  {
   "cell_type": "code",
   "execution_count": 15,
   "metadata": {
    "collapsed": false
   },
   "outputs": [
    {
     "data": {
      "text/plain": [
       "183-element Array{Int64,1}:\n",
       "   1\n",
       "   2\n",
       "   4\n",
       "   5\n",
       "   6\n",
       "   7\n",
       "   9\n",
       "  10\n",
       "  11\n",
       "  12\n",
       "  13\n",
       "  14\n",
       "  15\n",
       "   ⋮\n",
       " 241\n",
       " 242\n",
       " 244\n",
       " 247\n",
       " 249\n",
       " 250\n",
       " 251\n",
       " 253\n",
       " 255\n",
       " 256\n",
       " 260\n",
       " 261"
      ]
     },
     "execution_count": 15,
     "metadata": {},
     "output_type": "execute_result"
    }
   ],
   "source": [
    "very_hard_cases = find(x->x[2]<0.0, hard_res)"
   ]
  },
  {
   "cell_type": "code",
   "execution_count": 17,
   "metadata": {
    "collapsed": false
   },
   "outputs": [
    {
     "data": {
      "text/plain": [
       "87178291200"
      ]
     },
     "execution_count": 17,
     "metadata": {},
     "output_type": "execute_result"
    }
   ],
   "source": [
    "factorial(14)"
   ]
  },
  {
   "cell_type": "code",
   "execution_count": 16,
   "metadata": {
    "collapsed": false
   },
   "outputs": [
    {
     "data": {
      "text/plain": [
       "183-element Array{Any,1}:\n",
       " (Any[\"that\",\"class\",\"first\",\"flight\",\"has\",\"do\"],-0.749290050987327,1)                                                                                                                             \n",
       " (Any[\"if\",\"that\",\"you\",\"there\",\"any\",\"flight\",\"on\",\"meals\",\"tell\",\"were\",\"me\",\"can\"],-0.7116376591882416,2)                                                                                        \n",
       " (Any[\"morning\",\"leaves\",\"that\",\"please\",\"arrive\",\"flight\",\"me\",\"in\",\"evening\",\"tell\",\"takes\",\"i\",\"what\",\"can\",\"the\",\"the\",\"in\"],-0.7290381772504556,4)                                             \n",
       " (Any[\"in\",\"this\",\"flight\",\"arrives\",\"when\",\"denver\",\"not\"],-0.7661988352217954,5)                                                                                                                  \n",
       " (Any[\"one\",\"the\",\"do\",\"forty\",\"meals\",\"kind\",\"flight\",\"six\",\"m\",\"has\",\"what\"],-0.749290050987327,6)                                                                                                \n",
       " (Any[\"two\",\"what\",\"meals\",\"number\",\"flight\",\"ninety\",\"kind\",\"has\",\"do\",\"six\"],-0.749290050987327,7)                                                                                                \n",
       " (Any[\"do\",\"one\",\"what\",\"airplane\",\"on\",\"number\",\"eighty\",\"flight\",\"united\",\"uses\",\"kind\",\"two\"],-0.7738238102014173,9)                                                                             \n",
       " (Any[\"american\",\"do\",\"philadelphia\",\"from\",\"what\",\"flights\",\"dallas\",\"has\"],-0.749290050987327,10)                                                                                                 \n",
       " (Any[\"city\",\"long\",\"get\",\"airport\",\"from\",\"atlanta\",\"takes\",\"how\",\"not\",\"the\",\"it\",\"the\"],-0.7260245920555869,11)                                                                                  \n",
       " (Any[\"in\",\"the\",\"transportation\",\"atlanta\",\"airport\",\"using\",\"takes\",\"city\",\"long\",\"ground\",\"atlanta\",\"get\",\"from\",\"it\",\"how\",\"in\",\"not\",\"the\"],-0.7260245920555869,12)                            \n",
       " (Any[\"the\",\"it\",\"the\",\"much\",\"city\",\"do\",\"cost\",\"airport\",\"oakland\",\"from\",\"how\",\"gets\"],-0.6877092103151025,13)                                                                                   \n",
       " (Any[\"limousine\",\"how\",\"takes\",\"not\",\"the\",\"long\",\"get\",\"downtown\"],-0.7260245920555869,14)                                                                                                        \n",
       " (Any[\"francisco\",\"do\",\"flight\",\"san\",\"seven\",\"goes\",\"eighty\",\"four\"],-0.7478539091190304,15)                                                                                                       \n",
       " ⋮                                                                                                                                                                                                  \n",
       " (Any[\"five\",\"five\",\"you\",\"ten\",\"or\",\"flying\",\"the\",\"five\",\"atlanta\",\"airplane\"  …  \"eastern\",\"fifty\",\"returning\",\"at\",\"on\",\"eight\",\"type\",\"from\",\"me\",\"denver\"],-1.454488528234012,241)            \n",
       " (Any[\"in\",\"do\",\"i\",\"the\",\"is\",\"philadelphia\",\"leave\",\"will\",\"san\",\"destination\",\"in\",\"morning\",\"francisco\",\"that\",\"my\",\"dallas\",\"stop\",\"has\"],-0.749290050987327,242)                              \n",
       " (Any[\"five\",\"nine\",\"m\",\"flight\",\"american\",\"p\",\"aircraft\",\"philadelphia\",\"is\",\"from\",\"what\",\"fifty\",\"at\",\"four\",\"kind\",\"leaving\",\"this\"],-0.35491479267548187,244)                                 \n",
       " (Any[\"five\",\"francisco\",\"flight\",\"american\",\"p\",\"aircraft\",\"philadelphia\",\"is\",\"san\",\"from\",\"airlines\",\"m\",\"what\",\"leaving\",\"at\",\"kind\",\"three\",\"fifty\",\"nine\"],-0.28060738075313263,247)          \n",
       " (Any[\"do\",\"would\",\"like\",\"i\",\"would\",\"i\",\"in\",\"philadelphia\",\"any\",\"flight\"  …  \"prefer\",\"first\",\"if\",\"dallas\",\"from\",\"there\",\"like\",\"leave\",\"be\",\"on\"],-1.2673299371031974,249)                   \n",
       " (Any[\"five\",\"hundred\",\"pittsburgh\",\"flight\",\"dollars\",\"fare\",\"time\",\"from\",\"denver\",\"leave\",\"this\",\"what\",\"eighty\",\"does\",\"two\"],-0.30707088376334446,250)                                         \n",
       " (Any[\"just\",\"just\",\"you\",\"do\",\"i\",\"fly\",\"american\",\"would\",\"then\",\"on\"  …  \"there\",\"airlines\",\"makes\",\"dallas\",\"four\",\"alice\",\"say\",\"if\",\"directly\",\"trip\"],-2.1283431221776543,251)               \n",
       " (Any[\"flight\",\"on\",\"flight\",\"that\",\"american\",\"first\",\"seat\",\"april\",\"class\",\"would\",\"book\",\"airlines\",\"three\",\"on\",\"yes\",\"i\",\"like\",\"fifteenth\",\"eighty\",\"seven\"],-0.24354288937386556,253)       \n",
       " (Any[\"the\",\"in\",\"atlanta\",\"three\",\"morning\",\"go\",\"on\",\"i\",\"from\",\"denver\",\"early\",\"like\",\"leaving\",\"would\",\"okay\",\"around\",\"eight\",\"may\"],-0.24354288937386556,255)                                \n",
       " (Any[\"atlanta\",\"do\",\"u\",\"any\",\"air\",\"s\",\"out\",\"flights\",\"denver\",\"has\"],-0.749290050987327,256)                                                                                                    \n",
       " (Any[\"dallas\",\"the\",\"one\",\"leaving\",\"boston\",\"go\",\"for\",\"night\",\"atlanta\",\"from\"  …  \"that\",\"boston\",\"okay\",\"afternoon\",\"dallas\",\"following\",\"nine\",\"before\",\"like\",\"back\"],-1.081148741938741,260)\n",
       " (Any[\"do\",\"what\",\"is\",\"baltimore\",\"the\",\"go\",\"minneapolis\",\"type\",\"at\",\"transportation\"  …  \"three\",\"stays\",\"what\",\"cheapest\",\"from\",\"i\",\"hours\",\"be\",\"dallas\",\"want\"],-1.614801582344562,261)     "
      ]
     },
     "execution_count": 16,
     "metadata": {},
     "output_type": "execute_result"
    }
   ],
   "source": [
    "hard_res[very_hard_cases]"
   ]
  },
  {
   "cell_type": "code",
   "execution_count": null,
   "metadata": {
    "collapsed": false
   },
   "outputs": [],
   "source": [
    "\n",
    "\n",
    "for (ii,target_sent) in enumerate(test_set)\n",
    "    sol, score = greedy_search(atis_data, target_sent, log=false)\n",
    "    if score>0\n",
    "        print(\"$ii - \")\n",
    "        println(join(target_sent, \" \"))\n",
    "    end\n",
    "end\n",
    "    "
   ]
  },
  {
   "cell_type": "code",
   "execution_count": null,
   "metadata": {
    "collapsed": false
   },
   "outputs": [],
   "source": [
    "enumerate(test_set) |> collect"
   ]
  },
  {
   "cell_type": "code",
   "execution_count": null,
   "metadata": {
    "collapsed": true
   },
   "outputs": [],
   "source": []
  },
  {
   "cell_type": "code",
   "execution_count": null,
   "metadata": {
    "collapsed": false,
    "scrolled": true
   },
   "outputs": [],
   "source": [
    "# τ = Pheromone\n",
    "# η = Prior\n",
    "# α = pheremone weight\n",
    "# β = prior weight\n",
    "# ρ = pheremone evaporation\n",
    "\n",
    "@everywhere @inline function select_index{V<:AbstractVector}(edge_probs::V)\n",
    "    cutoff = rand()\n",
    "    total = 0.0\n",
    "    @assert(length(edge_probs)>0, \"No probs given\")\n",
    "    for (ii,prob) in enumerate(edge_probs)\n",
    "        total+=prob\n",
    "        if total>=cutoff\n",
    "            return ii\n",
    "        end\n",
    "    end\n",
    "    \n",
    "    @assert(total>=cutoff, \"total= $total, cutoff=$cutoff, $edge_probs\") #Should Never Reach this point\n",
    "end\n",
    "\n",
    "\n",
    "@everywhere function evaporate!{M<:AbstractArray}(τ::M, ρ)\n",
    "    τ.*=(1.0-ρ) #Evaporation\n",
    "end\n",
    "\n",
    "    \n",
    "\n",
    "@everywhere function deposit!{M<:AbstractVector}(τ::M, path, fit)\n",
    "    #Are You In or Out?  Double Crosser or Devout\n",
    "    #Order actually means nothing in this problem\n",
    "    #Cooccurance doesn't really many anything either\n",
    "    #Cooccurance is a problem for the prior that need \n",
    "    #to be conerned with all answers not just this one\n",
    "    for node in path\n",
    "        @inbounds τ[node] += fit./length(path)\n",
    "    end\n",
    "    τ\n",
    "end\n",
    "\n",
    "@everywhere function get_edge_probs(τ,η::Function, α, β)\n",
    "    τ_scaled = (τ).^α\n",
    "    function get_prob(state)\n",
    "        η_scaled = (η(state)).^β\n",
    "        tot = τ_scaled .* τ_scaled\n",
    "        tot./sum(tot)\n",
    "    end\n",
    "end\n",
    "\n",
    "@everywhere @inline function select_node(edge_probs::Function, path=[])\n",
    "    select_index(edge_probs(path))\n",
    "end\n"
   ]
  },
  {
   "cell_type": "code",
   "execution_count": null,
   "metadata": {
    "collapsed": false
   },
   "outputs": [],
   "source": [
    "sort!([-1,-2,32,23,42], by=pf->pf)"
   ]
  },
  {
   "cell_type": "code",
   "execution_count": null,
   "metadata": {
    "collapsed": false
   },
   "outputs": [],
   "source": [
    "#If you pass in a start index of greater than zero, then atre using a starting index, otherswise not\n",
    "@everywhere function run_ant(edge_probs, end_prob_dist)\n",
    "    path = Int[]\n",
    "    len = select_index(end_prob_dist)\n",
    "    for _ in 1:len\n",
    "        push!(path, select_node(edge_probs, path))\n",
    "    end\n",
    "    path    \n",
    "end\n",
    "\n",
    "\n",
    "function optimise(fit_fun, τ, η, end_prob_dist;  α=1, β=1,ρ=0, n_ants=100, n_gens=10, callback=Union{})\n",
    "    assert(α>=1.0)\n",
    "    assert(β>=1.0)\n",
    "    assert(0.0<=ρ<1.0)\n",
    "    \n",
    "    max_fit::Float64 = -Inf;\n",
    "    fittest_path::Vector{Int} = []\n",
    "    \n",
    "    for gen_ii in 1:n_gens\n",
    "\n",
    "        edge_probs = get_edge_probs(τ,η, α, β)\n",
    "\n",
    "        path_fits::Vector{Tuple{Vector{Int},Float64}} = map(1:n_ants) do ant_id\n",
    "            path::Vector{Int} = run_ant(edge_probs, end_prob_dist)\n",
    "            fit::Float64 = fit_fun(path)\n",
    "            (path, fit)\n",
    "        end\n",
    "        \n",
    "        ranked_path_fits = select!(path_fits,1:100, by=pf->-pf[2])\n",
    "        scales = 100:-1:1\n",
    "        \n",
    "        evaporate!(τ,ρ)\n",
    "        for ((path, fit),scale) in zip(ranked_path_fits,scales)\n",
    "        #for (path, fit) in path_fits\n",
    "            if fit>max_fit\n",
    "                max_fit = fit\n",
    "                fittest_path = path\n",
    "                \n",
    "                if fit==Inf #Perfect Fit\n",
    "                    return fittest_path, max_fit\n",
    "                end\n",
    "            end\n",
    "            deposit!(τ,path, fit)\n",
    "        end\n",
    "        \n",
    "        if callback |> typeof <:Function\n",
    "            callback(gen_ii, τ,fittest_path,max_fit,path_fits)\n",
    "        end\n",
    "        \n",
    "    end #Next Generation\n",
    "    \n",
    "    fittest_path, max_fit, τ\n",
    "end\n",
    "\n",
    "\n",
    "function optimise(fit_fun, n_dims::Int64, η::Function, end_prob_dist; kwargs...)\n",
    "    τ = [rand() for nn in 1:n_dims]\n",
    "    \n",
    "    optimise(fit_fun, τ, η, end_prob_dist;kwargs...)\n",
    "end\n"
   ]
  },
  {
   "cell_type": "code",
   "execution_count": null,
   "metadata": {
    "collapsed": false
   },
   "outputs": [],
   "source": [
    "@fastmath function get_prior_fun(uni_occur,bi_occur)\n",
    "    n_edges=length(uni_occur)\n",
    "    function prior(ws)\n",
    "        if length(ws)==0\n",
    "            uni_occur\n",
    "        elseif length(ws)==1\n",
    "            bi_occur[:,ws[1]]\n",
    "        else\n",
    "            (uni_occur + sum([bi_occur[:,w] for w in ws]))/(length(ws)+1) #Just average them cos its cheap\n",
    "        end\n",
    "    end    \n",
    "end\n",
    "\n",
    "\n"
   ]
  },
  {
   "cell_type": "code",
   "execution_count": null,
   "metadata": {
    "collapsed": false
   },
   "outputs": [],
   "source": []
  },
  {
   "cell_type": "code",
   "execution_count": null,
   "metadata": {
    "collapsed": false
   },
   "outputs": [],
   "source": [
    "function built_optimise(data::Dict, target_sent::AbstractString, log=False; kwargs...)\n",
    "    target::Vector{Float64} = lookup_sowe(data,target_sent)\n",
    "    LL =data[\"LL\"]\n",
    "    indexed_words=data[\"indexed_words\"]\n",
    "    @inline function fitness(path)\n",
    "        #Fitter is larger\n",
    "        @inbounds path_end = sum([LL[:,ii] for ii in path]) \n",
    "        -1.0*euclidean(path_end, target)\n",
    "    end\n",
    "\n",
    "    τlog=[]\n",
    "    if log\n",
    "        log = (gen_ii, τ,fittest_path,max_fit, path_fits) -> begin\n",
    "            print(\"oGen: $gen_ii - fit: $max_fit \")\n",
    "            print(lookup_words(data, fittest_path))\n",
    "            #path_lens = [length(pf[1]) for pf in path_fits]\n",
    "            #print(\"mean_len = $(mean(path_lens))\")\n",
    "            #print(\" max_len = $(maximum(path_lens))\")\n",
    "            println()\n",
    "            push!(τlog,copy(τ))\n",
    "            \n",
    "        end\n",
    "    end\n",
    "    \n",
    "    n_dims = size(LL,2)\n",
    "    length_dist = data[\"length_prob\"]\n",
    "    #length_dist = ws->0.5\n",
    "    prior = get_prior_fun(data[\"unioccur\"], data[\"bioccur\"])\n",
    "       \n",
    "    \n",
    "    \n",
    "    path, score, τ = optimise(fitness,n_dims, prior, length_dist; callback=log, kwargs...)\n",
    "    push!(τlog,τ)\n",
    "    score,lookup_words(data, path), τlog\n",
    "end"
   ]
  },
  {
   "cell_type": "code",
   "execution_count": null,
   "metadata": {
    "collapsed": false,
    "scrolled": true
   },
   "outputs": [],
   "source": [
    "@time score, words, τlog = built_optimise(atis_data,\"show flights from washington to san francisco\", true;\n",
    "α=1, β=1, ρ=0.2, n_ants=10000, n_gens=10);\n",
    "words"
   ]
  },
  {
   "cell_type": "code",
   "execution_count": null,
   "metadata": {
    "collapsed": true
   },
   "outputs": [],
   "source": []
  },
  {
   "cell_type": "code",
   "execution_count": null,
   "metadata": {
    "collapsed": false
   },
   "outputs": [],
   "source": []
  },
  {
   "cell_type": "code",
   "execution_count": null,
   "metadata": {
    "collapsed": false
   },
   "outputs": [],
   "source": [
    "greedy_local_search(atis_data, \"show flights from washington to san francisco\", AbstractString[])"
   ]
  },
  {
   "cell_type": "code",
   "execution_count": null,
   "metadata": {
    "collapsed": false
   },
   "outputs": [],
   "source": [
    "greedy_local_search(atis_data, \"show cheapest flights\")"
   ]
  },
  {
   "cell_type": "code",
   "execution_count": null,
   "metadata": {
    "collapsed": false
   },
   "outputs": [],
   "source": [
    "greedy_local_search(atis_data, \"show cheapest flight from washington to san francisco\", AbstractString[])"
   ]
  },
  {
   "cell_type": "code",
   "execution_count": null,
   "metadata": {
    "collapsed": false
   },
   "outputs": [],
   "source": [
    "greedy_local_search(atis_data, \"show cheapest and shortest flights from washington to san francisco\", AbstractString[])"
   ]
  },
  {
   "cell_type": "code",
   "execution_count": null,
   "metadata": {
    "collapsed": false
   },
   "outputs": [],
   "source": [
    "target = lookup_sowe(atis_data,\"show cheapest flights from washington to san francisco\")\n",
    "target += lookup_sowe(atis_data,\"show shortest flights from washington to san francisco\")\n",
    "target./=1.6\n",
    "greedy_local_search(atis_data,target)"
   ]
  },
  {
   "cell_type": "code",
   "execution_count": null,
   "metadata": {
    "collapsed": false
   },
   "outputs": [],
   "source": [
    "`git push` |> run"
   ]
  },
  {
   "cell_type": "code",
   "execution_count": null,
   "metadata": {
    "collapsed": true
   },
   "outputs": [],
   "source": []
  },
  {
   "cell_type": "code",
   "execution_count": null,
   "metadata": {
    "collapsed": false,
    "scrolled": true
   },
   "outputs": [],
   "source": [
    "using UnicodePlots\n",
    "using IJulia\n",
    "\n",
    "for τ in τlog\n",
    "    nw = zip(τ,atis_data[\"indexed_words\"]) |> collect\n",
    "    \n",
    "    freq,name = zip(select!(nw, 1:min(20,length(nw)), by=fw->-fw[1])...) |> collect\n",
    "    IJulia.display(barplot(name|> collect,freq|> collect))\n",
    "end\n"
   ]
  },
  {
   "cell_type": "code",
   "execution_count": null,
   "metadata": {
    "collapsed": false
   },
   "outputs": [],
   "source": []
  },
  {
   "cell_type": "code",
   "execution_count": null,
   "metadata": {
    "collapsed": false
   },
   "outputs": [],
   "source": [
    "using DataStructures\n",
    "using DataStructuresExtended\n",
    "\n",
    "\n",
    "@fastmath function get_prior_fun(uni_occur, bi_joint, prob_length, end_index)\n",
    "    n_edges=length(uni_occur)\n",
    "    bi_marginal = sum(bi_joint,1)\n",
    "    bi_conditional = bi_joint./bi_marginal\n",
    "  \n",
    "    \n",
    "    @inline function joint(aa::Int64)\n",
    "        @inbounds ret = bi_marginal[aa]\n",
    "        ret\n",
    "    end\n",
    "    \n",
    "    @inline function joint(aa::Int64,bb::Int64)\n",
    "        @inbounds ret = bi_joint[aa, bb]\n",
    "        ret\n",
    "    end\n",
    "    \n",
    "    joint_cache_stats = Dict([(\"hits\",0), (\"misses\",0)])\n",
    "    joint_cache = Dict{Accumulator{Int64,Int64}, Float64}() #TODO Should Use a multiset instead to index\n",
    "    @inline function joint(xxs...) \n",
    "        @assert(length(xxs)>=3)\n",
    "        xxs_bag = counter(Int64, xxs) \n",
    "        if !(haskey(joint_cache,xxs_bag))\n",
    "            joint_cache_stats[\"misses\"]+=1\n",
    "            #Full calc\n",
    "            joint_cache[xxs_bag] = mean(Float64[(joint(aas...)*joint(bbs...)) for (aas,bbs) in  nonempty_subset_splits(xxs)])\n",
    "            \n",
    "            \n",
    "        else\n",
    "            joint_cache_stats[\"hits\"]+=1\n",
    "        end\n",
    "        joint_cache[xxs_bag]\n",
    "    end\n",
    "    \n",
    "    conditional_occurance::Function\n",
    "    @inbounds function conditional_occurance(ws::Vector{Int64})\n",
    "        if length(ws) == 0\n",
    "            uni_occur\n",
    "        elseif length(ws)==1\n",
    "            bi_conditional[:,ws[1]]\n",
    "        else\n",
    "            Float64[joint(aa,ws...) for aa in 1:n_edges]./joint(ws...)\n",
    "        end\n",
    "    end\n",
    "    \n",
    "    function prior(ws)\n",
    "        if  length(ws) > length(prob_length) #If it is longer than the tail of length distro, just force temrination\n",
    "            force_end_pmf = zeros(n_edges) #This PMF forces the sentence to end, if it is returned\n",
    "            @inbounds force_end_pmf[end_index]=1.0\n",
    "            force_end_pmf\n",
    "        else \n",
    "            #Either do not end (P=1-P_end) or end (P=P_end)\n",
    "            #prob_end = prob_length[length(ws)]   #Chance to end at this length\n",
    "            prob_end=0.0\n",
    "            prob_occurance::Vector{Float64} = conditional_occurance(ws)\n",
    "            \n",
    "            choices_prob = (1.0-prob_end).*prob_occurance\n",
    "            #@inbounds choices_prob[end_index]=prob_end\n",
    "            choices_prob\n",
    "        end \n",
    "    end\n",
    "    prior,joint_cache_stats\n",
    "end\n",
    "\n",
    "function get_prior_fun(data::Dict)\n",
    "    get_prior_fun(data[\"unioccur\"],data[\"bioccur\"], data[\"length_prob\"], data[\"word_indexes\"][END_MARKER])\n",
    "end"
   ]
  },
  {
   "cell_type": "code",
   "execution_count": null,
   "metadata": {
    "collapsed": false
   },
   "outputs": [],
   "source": [
    "atis_prior,atis_prior_cache_stats = get_prior_fun(atis_data)\n",
    "r = @time atis_prior(Int64[1,2,5,4,5,6,7]) #9.335965 seconds\n",
    "println(atis_prior_cache_stats)\n",
    "r"
   ]
  },
  {
   "cell_type": "code",
   "execution_count": null,
   "metadata": {
    "collapsed": true
   },
   "outputs": [],
   "source": []
  },
  {
   "cell_type": "code",
   "execution_count": null,
   "metadata": {
    "collapsed": false
   },
   "outputs": [],
   "source": [
    "atis_data[\"indexed_words\"][200:300]"
   ]
  },
  {
   "cell_type": "code",
   "execution_count": null,
   "metadata": {
    "collapsed": false
   },
   "outputs": [],
   "source": []
  },
  {
   "cell_type": "code",
   "execution_count": null,
   "metadata": {
    "collapsed": false
   },
   "outputs": [],
   "source": [
    "optimise(atis_data,\"what is the shortest flight\", 1, 1, 0.1, 10000,20)"
   ]
  },
  {
   "cell_type": "code",
   "execution_count": null,
   "metadata": {
    "collapsed": false
   },
   "outputs": [],
   "source": [
    "optimise(atis_data,\"what is the first flight from washington to washington\", 1, 1, 0.1, 10000,20)"
   ]
  },
  {
   "cell_type": "code",
   "execution_count": null,
   "metadata": {
    "collapsed": false
   },
   "outputs": [],
   "source": [
    "optimise(atis_data,\"what are the ground transport options\", 1, 1, 0.1, 1000,20)"
   ]
  },
  {
   "cell_type": "code",
   "execution_count": null,
   "metadata": {
    "collapsed": false
   },
   "outputs": [],
   "source": [
    "optimise(atis_data,\"where can i go\", 1, 1, 0.1, 1000,20)"
   ]
  },
  {
   "cell_type": "code",
   "execution_count": null,
   "metadata": {
    "collapsed": false
   },
   "outputs": [],
   "source": [
    "atis_data[\"word_indexes\"][START_MARKER]\n",
    "    "
   ]
  },
  {
   "cell_type": "code",
   "execution_count": null,
   "metadata": {
    "collapsed": false
   },
   "outputs": [],
   "source": [
    "`git push\"\"` |> run"
   ]
  },
  {
   "cell_type": "code",
   "execution_count": null,
   "metadata": {
    "collapsed": false
   },
   "outputs": [],
   "source": [
    "`git commit -m=\"\" -a` |> run"
   ]
  },
  {
   "cell_type": "code",
   "execution_count": null,
   "metadata": {
    "collapsed": true
   },
   "outputs": [],
   "source": []
  }
 ],
 "metadata": {
  "kernelspec": {
   "display_name": "Julia 0.5.0-dev",
   "language": "julia",
   "name": "julia-0.5"
  },
  "language_info": {
   "file_extension": ".jl",
   "mimetype": "application/julia",
   "name": "julia",
   "version": "0.5.0"
  }
 },
 "nbformat": 4,
 "nbformat_minor": 0
}
