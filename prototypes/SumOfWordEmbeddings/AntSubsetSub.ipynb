{
 "cells": [
  {
   "cell_type": "code",
   "execution_count": 97,
   "metadata": {
    "collapsed": false
   },
   "outputs": [
    {
     "data": {
      "text/plain": [
       "6-element Array{ByteString,1}:\n",
       " \"/home/ubuntu/build/julia-master/usr/local/share/julia/site/v0.5\"\n",
       " \"/home/ubuntu/build/julia-master/usr/share/julia/site/v0.5\"      \n",
       " \".\"                                                              \n",
       " \"../util/\"                                                       \n",
       " \".\"                                                              \n",
       " \"../util/\"                                                       "
      ]
     },
     "execution_count": 97,
     "metadata": {},
     "output_type": "execute_result"
    }
   ],
   "source": [
    "using FunctionalCollections\n",
    "using Iterators\n",
    "using Pipe\n",
    "using Compat\n",
    "\n",
    "macro printval(ee)\n",
    "    ee_expr = @sprintf \"%s\" string(ee)\n",
    "    esc(:(println($ee_expr,\" = \", $ee)))\n",
    "end\n",
    "\n",
    "macro pz(ee)\n",
    "    ee_expr = @sprintf \"%s\" string(ee)\n",
    "    esc(:(println($ee_expr,\"\\t\\t\",typeof($ee), \"\\t\", size($ee))))\n",
    "end\n",
    "\n",
    "push!(LOAD_PATH, \".\")\n",
    "push!(LOAD_PATH, \"../util/\")"
   ]
  },
  {
   "cell_type": "code",
   "execution_count": 2,
   "metadata": {
    "collapsed": false
   },
   "outputs": [
    {
     "data": {
      "text/plain": [
       "11-element Array{Int64,1}:\n",
       "  2\n",
       "  3\n",
       "  4\n",
       "  5\n",
       "  6\n",
       "  7\n",
       "  8\n",
       "  9\n",
       " 10\n",
       " 11\n",
       " 12"
      ]
     },
     "execution_count": 2,
     "metadata": {},
     "output_type": "execute_result"
    }
   ],
   "source": [
    "addprocs(11)"
   ]
  },
  {
   "cell_type": "code",
   "execution_count": 3,
   "metadata": {
    "collapsed": false,
    "scrolled": true
   },
   "outputs": [
    {
     "name": "stderr",
     "output_type": "stream",
     "text": [
      "WARNING: replacing module Distances\n",
      "WARNING: replacing module Distances\n",
      "WARNING: replacing module Distances\n",
      "WARNING: replacing module Distances\n",
      "WARNING: replacing module Distances\n",
      "WARNING: replacing module Distances\n",
      "WARNING: replacing module Distances\n",
      "WARNING: replacing module Distances\n",
      "WARNING: replacing module Distances\n",
      "WARNING: replacing module Distances\n",
      "WARNING: replacing module Distances\n"
     ]
    }
   ],
   "source": [
    "@everywhere using Distances"
   ]
  },
  {
   "cell_type": "code",
   "execution_count": null,
   "metadata": {
    "collapsed": false,
    "scrolled": true
   },
   "outputs": [],
   "source": [
    "\n",
    "@everywhere data = open(\"doctors_letters.jsz\",\"r\") do fh\n",
    "    deserialize(fh)    \n",
    "end\n",
    "test_set = data[\"test_set\"];\n",
    "data"
   ]
  },
  {
   "cell_type": "code",
   "execution_count": 4,
   "metadata": {
    "collapsed": false
   },
   "outputs": [
    {
     "data": {
      "text/plain": [
       "Dict{ASCIIString,Any} with 7 entries:\n",
       "  \"zeroed_words\"  => ASCIIString[]\n",
       "  \"length_prob\"   => [0.00273293,0.0141963,0.0332591,0.054354,0.0725396,0.08505…\n",
       "  \"LL\"            => 300x1126 Array{Float64,2}:…\n",
       "  \"indexed_words\" => AbstractString[\"the\",\"of\",\"to\",\"and\",\"in\",\"a\",\"for\",\"that\"…\n",
       "  \"test_set\"      => [SubString{ASCIIString}[\"what\",\"is\",\"the\",\"cheapest\",\"way\"…\n",
       "  \"trigrams\"      => Any[(\"**START1**\",\"**START2**\",\"what\"),(\"**START2**\",\"what…\n",
       "  \"word_indexes\"  => Dict{AbstractString,Int64}(\"carried\"=>452,\"diabetic\"=>1069…"
      ]
     },
     "execution_count": 4,
     "metadata": {},
     "output_type": "execute_result"
    }
   ],
   "source": [
    "@everywhere data = open(\"atis_data2.jsz\",\"r\") do fh\n",
    "    deserialize(fh)    \n",
    "end\n",
    "test_set = data[\"test_set\"];\n",
    "data"
   ]
  },
  {
   "cell_type": "code",
   "execution_count": 6,
   "metadata": {
    "collapsed": false
   },
   "outputs": [
    {
     "data": {
      "text/plain": [
       "Dict{ASCIIString,Any} with 7 entries:\n",
       "  \"zeroed_words\"  => ASCIIString[]\n",
       "  \"length_prob\"   => [0.00631022,0.013634,0.0204009,0.0262119,0.0309737,0.03471…\n",
       "  \"LL\"            => 300x40482 Array{Float64,2}:…\n",
       "  \"indexed_words\" => AbstractString[\"the\",\",\",\".\",\"of\",\"to\",\"and\",\"in\",\"a\",\"for…\n",
       "  \"test_set\"      => [ASCIIString[\"``\",\"only\",\"a\",\"relative\",\"handful\",\"of\",\"su…\n",
       "  \"trigrams\"      => Any[(\"**START1**\",\"**START2**\",\"edison\"),(\"**START2**\",\"ed…\n",
       "  \"word_indexes\"  => Dict{AbstractString,Int64}(\"baleful\"=>34074,\"confined\"=>77…"
      ]
     },
     "execution_count": 6,
     "metadata": {},
     "output_type": "execute_result"
    }
   ],
   "source": [
    "@everywhere data = open(\"brown_data.jsz\",\"r\") do fh\n",
    "    deserialize(fh)    \n",
    "end\n",
    "test_set = data[\"test_set\"];\n",
    "data"
   ]
  },
  {
   "cell_type": "code",
   "execution_count": 9,
   "metadata": {
    "collapsed": false
   },
   "outputs": [],
   "source": [
    "@everywhere function lookup_sowe(data, sent::AbstractString)\n",
    "    lookup_sowe(data, sent |> split)\n",
    "end\n",
    "\n",
    "@everywhere function lookup_sowe{S<:AbstractString}(data, sent::Vector{S})\n",
    "    sum([data[\"LL\"][:,data[\"word_indexes\"][word]] for word in sent]) \n",
    "end\n",
    "\n",
    "@everywhere function lookup_words(data, path)\n",
    "    [data[\"indexed_words\"][ii] for ii in path]\n",
    "end"
   ]
  },
  {
   "cell_type": "code",
   "execution_count": 10,
   "metadata": {
    "collapsed": false
   },
   "outputs": [],
   "source": [
    "@everywhere const ϵ = 10.0^-6"
   ]
  },
  {
   "cell_type": "code",
   "execution_count": 85,
   "metadata": {
    "collapsed": false,
    "scrolled": true
   },
   "outputs": [],
   "source": [
    "@everywhere @inline function get_end(LL, ws::Vector{Int64})\n",
    "    @inbounds sofar = length(ws)>0 ? sum([LL[:,ii] for ii in ws]) : zeros(LL[:,1])\n",
    "    sofar\n",
    "end\n",
    "\n",
    "@everywhere function score_possible_additions(LL, target, end_point)\n",
    "    -pairwise(Euclidean(), LL, (target-end_point)'');\n",
    "end   \n",
    "\n",
    "@everywhere  @inline function fitness(target, end_point)\n",
    "    #Fitter is larger\n",
    "    -euclidean(end_point, target)   \n",
    "end\n",
    "\n",
    "@everywhere function greedy_addition(LL::Matrix{Float64},\n",
    "                         target::Vector{Float64},\n",
    "                         best_word_set::Vector{Int},\n",
    "                         max_additions = Inf)\n",
    "    end_point = get_end(LL, best_word_set)\n",
    "    best_score = fitness(target, end_point)\n",
    "    \n",
    "    did_improve = true\n",
    "    cur_additions = 0\n",
    "    while(did_improve && cur_additions<max_additions)\n",
    "        cur_additions+=1\n",
    "        did_improve=false\n",
    "        \n",
    "        addition_scores = score_possible_additions(LL, target, end_point)\n",
    "        addition_score, addition = findmax(addition_scores)\n",
    "        if addition_score>best_score+ϵ\n",
    "            #println(\"!add: $addition $best_score\")\n",
    "            best_score=addition_score\n",
    "            best_word_set = [best_word_set...,addition]\n",
    "            end_point += LL[:,addition]\n",
    "            did_improve=true\n",
    "        end\n",
    "    end\n",
    "    best_word_set,best_score\n",
    "end\n",
    "\n",
    "\n",
    "@everywhere function word_swap_refinement(LL::Matrix{Float64},\n",
    "                              target::Vector{Float64},\n",
    "                              best_word_set::Vector{Int})\n",
    "    \n",
    "    initial_word_set = copy(best_word_set)\n",
    "    end_point = get_end(LL, best_word_set)\n",
    "    best_score = fitness(target, end_point)\n",
    "    \n",
    "    function update_best!(word_set,score)\n",
    "        if score>best_score+ϵ #scores are negative\n",
    "            best_score=score\n",
    "            best_word_set = word_set\n",
    "            #println(\"*swap, new set: $word_set $score\")\n",
    "        end\n",
    "    end\n",
    "\n",
    "    for ii in 1:length(initial_word_set)-1 #Don't need to consider last word added as it was added greedily\n",
    "        word_set = initial_word_set[[1:ii-1; ii+1:end]]\n",
    "        sub_endpoint = end_point - LL[:,ii]\n",
    "        subset_score = fitness(target, sub_endpoint)\n",
    "        update_best!(word_set, subset_score)\n",
    "\n",
    "        add_word_set, add_score = greedy_addition(LL, target, word_set, 1) #Try adding just one greedily\n",
    "        update_best!(add_word_set, add_score)\n",
    "    end\n",
    "\n",
    "    best_word_set,best_score\n",
    "        \n",
    "end\n",
    "\n",
    "\n",
    "\n",
    "\n",
    "@everywhere function greedy_search(data::Dict, target::Vector{Float64}; rounds=1000, log=false)\n",
    "    get_words(word_iis) = [data[\"indexed_words\"][ii] for ii in word_iis]\n",
    "    \n",
    "    word_iis = Int[]\n",
    "    best_score=-Inf\n",
    "    for round in 1:rounds\n",
    "        word_iis, add_score = greedy_addition(data[\"LL\"], target, word_iis)\n",
    "        log && println(\"POST_ADD_STEP: $add_score $(get_words(word_iis))\")\n",
    "        @assert add_score + ϵ >= best_score\n",
    "        \n",
    "        \n",
    "        if add_score>= 0.0 \n",
    "            best_score = add_score\n",
    "            break \n",
    "        end        \n",
    "        \n",
    "        \n",
    "        double_word_delete_refinement(data[\"LL\"], target_sowe, best_wordset)\n",
    "        \n",
    "        \n",
    "        word_iis, swap_score = word_swap_refinement(data[\"LL\"], target, word_iis)\n",
    "        log && println(\"POST_SWAP_STEP: $swap_score $(get_words(word_iis))\")\n",
    "        @assert swap_score + ϵ >= add_score\n",
    "        \n",
    "        \n",
    "        if best_score - ϵ<swap_score<best_score + ϵ || swap_score>=0.0\n",
    "            break \n",
    "        end       \n",
    "        \n",
    "        best_score=swap_score\n",
    "    end\n",
    "    get_words(word_iis),best_score,word_iis\n",
    "end\n",
    "\n",
    "\n",
    "\n",
    "@everywhere function greedy_search{S<:AbstractString}(data::Dict, target_sent::Vector{S}; kwargs...)\n",
    "    target::Vector{Float64} = lookup_sowe(data,target_sent)\n",
    "    greedy_search(data, target; kwargs...)\n",
    "end"
   ]
  },
  {
   "cell_type": "code",
   "execution_count": 86,
   "metadata": {
    "collapsed": false,
    "scrolled": true
   },
   "outputs": [
    {
     "name": "stdout",
     "output_type": "stream",
     "text": [
      "ASCIIString[\"--\",\"the\",\"president\",\"of\",\"the\",\"kansas\",\"city\",\"local\",\"of\",\"the\",\"international\",\"association\",\"of\",\"fire\",\"fighters\",\"was\",\"severly\",\"injured\",\"today\",\"when\",\"a\",\"bomb\",\"tore\",\"his\",\"car\",\"apart\",\"as\",\"he\",\"left\",\"home\",\"for\",\"work\",\".\"]\n",
      "-------------\n",
      "POST_ADD_STEP: -11.692032170639072 Any[\"the\",\"his\",\"people\",\"the\",\"he\",\"the\",\"city\",\"for\",\"people\",\"after\",\"car\",\"of\",\"international\",\"been\",\"fire\",\"his\",\"a\",\"left\",\"the\",\"president\",\"bomb\",\"--\",\"injured\",\"association\",\"as\",\".\",\"kansas\",\"apart\",\"fighters\",\"tore\",\"works\",\"abundance\",\"appliance\",\"headmaster\",\"gearing\",\"3:30\",\"notably\",\"snuffer\",\"stafford\"]\n",
      "POST_SWAP_STEP: -11.626240963339011 Any[\"the\",\"people\",\"the\",\"he\",\"the\",\"city\",\"for\",\"people\",\"after\",\"car\",\"of\",\"international\",\"been\",\"fire\",\"his\",\"a\",\"left\",\"the\",\"president\",\"bomb\",\"--\",\"injured\",\"association\",\"as\",\".\",\"kansas\",\"apart\",\"fighters\",\"tore\",\"works\",\"abundance\",\"appliance\",\"headmaster\",\"gearing\",\"3:30\",\"notably\",\"snuffer\",\"stafford\",\"of\"]\n",
      "POST_ADD_STEP: -11.386559856079018 Any[\"the\",\"people\",\"the\",\"he\",\"the\",\"city\",\"for\",\"people\",\"after\",\"car\",\"of\",\"international\",\"been\",\"fire\",\"his\",\"a\",\"left\",\"the\",\"president\",\"bomb\",\"--\",\"injured\",\"association\",\"as\",\".\",\"kansas\",\"apart\",\"fighters\",\"tore\",\"works\",\"abundance\",\"appliance\",\"headmaster\",\"gearing\",\"3:30\",\"notably\",\"snuffer\",\"stafford\",\"of\",\"nonetheless\",\"countryman\"]\n",
      "POST_SWAP_STEP: -11.2872514524362 Any[\"the\",\"people\",\"the\",\"he\",\"the\",\"city\",\"for\",\"people\",\"after\",\"car\",\"of\",\"international\",\"fire\",\"his\",\"a\",\"left\",\"the\",\"president\",\"bomb\",\"--\",\"injured\",\"association\",\"as\",\".\",\"kansas\",\"apart\",\"fighters\",\"tore\",\"works\",\"abundance\",\"appliance\",\"headmaster\",\"gearing\",\"3:30\",\"notably\",\"snuffer\",\"stafford\",\"of\",\"nonetheless\",\"countryman\",\"being\"]\n",
      "POST_ADD_STEP: -11.287251452436198 Any[\"the\",\"people\",\"the\",\"he\",\"the\",\"city\",\"for\",\"people\",\"after\",\"car\",\"of\",\"international\",\"fire\",\"his\",\"a\",\"left\",\"the\",\"president\",\"bomb\",\"--\",\"injured\",\"association\",\"as\",\".\",\"kansas\",\"apart\",\"fighters\",\"tore\",\"works\",\"abundance\",\"appliance\",\"headmaster\",\"gearing\",\"3:30\",\"notably\",\"snuffer\",\"stafford\",\"of\",\"nonetheless\",\"countryman\",\"being\"]\n",
      "POST_SWAP_STEP: -11.257477625163714 Any[\"the\",\"people\",\"the\",\"he\",\"the\",\"city\",\"for\",\"people\",\"after\",\"car\",\"of\",\"international\",\"fire\",\"his\",\"a\",\"left\",\"the\",\"president\",\"bomb\",\"--\",\"injured\",\"association\",\"as\",\".\",\"kansas\",\"apart\",\"fighters\",\"tore\",\"works\",\"abundance\",\"appliance\",\"headmaster\",\"gearing\",\"3:30\",\"notably\",\"snuffer\",\"of\",\"nonetheless\",\"countryman\",\"being\"]\n",
      "POST_ADD_STEP: -11.257477625163714 Any[\"the\",\"people\",\"the\",\"he\",\"the\",\"city\",\"for\",\"people\",\"after\",\"car\",\"of\",\"international\",\"fire\",\"his\",\"a\",\"left\",\"the\",\"president\",\"bomb\",\"--\",\"injured\",\"association\",\"as\",\".\",\"kansas\",\"apart\",\"fighters\",\"tore\",\"works\",\"abundance\",\"appliance\",\"headmaster\",\"gearing\",\"3:30\",\"notably\",\"snuffer\",\"of\",\"nonetheless\",\"countryman\",\"being\"]\n",
      "POST_SWAP_STEP: -11.077542529854718 Any[\"the\",\"the\",\"he\",\"the\",\"city\",\"for\",\"people\",\"after\",\"car\",\"of\",\"international\",\"fire\",\"his\",\"a\",\"left\",\"the\",\"president\",\"bomb\",\"--\",\"injured\",\"association\",\"as\",\".\",\"kansas\",\"apart\",\"fighters\",\"tore\",\"works\",\"abundance\",\"appliance\",\"headmaster\",\"gearing\",\"3:30\",\"notably\",\"snuffer\",\"of\",\"nonetheless\",\"countryman\",\"being\",\"did\"]\n",
      "POST_ADD_STEP: -11.07754252985472 Any[\"the\",\"the\",\"he\",\"the\",\"city\",\"for\",\"people\",\"after\",\"car\",\"of\",\"international\",\"fire\",\"his\",\"a\",\"left\",\"the\",\"president\",\"bomb\",\"--\",\"injured\",\"association\",\"as\",\".\",\"kansas\",\"apart\",\"fighters\",\"tore\",\"works\",\"abundance\",\"appliance\",\"headmaster\",\"gearing\",\"3:30\",\"notably\",\"snuffer\",\"of\",\"nonetheless\",\"countryman\",\"being\",\"did\"]\n",
      "POST_SWAP_STEP: -11.054306050033476 Any[\"the\",\"the\",\"he\",\"the\",\"city\",\"for\",\"people\",\"after\",\"car\",\"of\",\"international\",\"fire\",\"his\",\"a\",\"left\",\"the\",\"president\",\"bomb\",\"--\",\"injured\",\"association\",\"as\",\".\",\"kansas\",\"apart\",\"fighters\",\"tore\",\"works\",\"abundance\",\"appliance\",\"headmaster\",\"gearing\",\"3:30\",\"notably\",\"snuffer\",\"of\",\"nonetheless\",\"being\",\"did\"]\n",
      "POST_ADD_STEP: -11.054306050033476 Any[\"the\",\"the\",\"he\",\"the\",\"city\",\"for\",\"people\",\"after\",\"car\",\"of\",\"international\",\"fire\",\"his\",\"a\",\"left\",\"the\",\"president\",\"bomb\",\"--\",\"injured\",\"association\",\"as\",\".\",\"kansas\",\"apart\",\"fighters\",\"tore\",\"works\",\"abundance\",\"appliance\",\"headmaster\",\"gearing\",\"3:30\",\"notably\",\"snuffer\",\"of\",\"nonetheless\",\"being\",\"did\"]\n",
      "POST_SWAP_STEP: -10.89655195054877 Any[\"the\",\"the\",\"he\",\"the\",\"city\",\"for\",\"people\",\"after\",\"car\",\"of\",\"international\",\"fire\",\"his\",\"a\",\"left\",\"the\",\"president\",\"bomb\",\"--\",\"injured\",\"association\",\"as\",\".\",\"kansas\",\"apart\",\"fighters\",\"tore\",\"works\",\"abundance\",\"appliance\",\"headmaster\",\"gearing\",\"3:30\",\"notably\",\"snuffer\",\"of\",\"being\",\"did\"]\n",
      "POST_ADD_STEP: -10.89655195054877 Any[\"the\",\"the\",\"he\",\"the\",\"city\",\"for\",\"people\",\"after\",\"car\",\"of\",\"international\",\"fire\",\"his\",\"a\",\"left\",\"the\",\"president\",\"bomb\",\"--\",\"injured\",\"association\",\"as\",\".\",\"kansas\",\"apart\",\"fighters\",\"tore\",\"works\",\"abundance\",\"appliance\",\"headmaster\",\"gearing\",\"3:30\",\"notably\",\"snuffer\",\"of\",\"being\",\"did\"]\n",
      "POST_SWAP_STEP: -10.722357245217328 Any[\"the\",\"the\",\"he\",\"the\",\"city\",\"for\",\"people\",\"after\",\"car\",\"of\",\"international\",\"fire\",\"his\",\"a\",\"left\",\"the\",\"president\",\"bomb\",\"--\",\"injured\",\"association\",\"as\",\".\",\"kansas\",\"apart\",\"fighters\",\"tore\",\"works\",\"abundance\",\"appliance\",\"headmaster\",\"gearing\",\"3:30\",\"notably\",\"of\",\"being\",\"did\",\"severly\"]\n",
      "POST_ADD_STEP: -10.722357245217331 Any[\"the\",\"the\",\"he\",\"the\",\"city\",\"for\",\"people\",\"after\",\"car\",\"of\",\"international\",\"fire\",\"his\",\"a\",\"left\",\"the\",\"president\",\"bomb\",\"--\",\"injured\",\"association\",\"as\",\".\",\"kansas\",\"apart\",\"fighters\",\"tore\",\"works\",\"abundance\",\"appliance\",\"headmaster\",\"gearing\",\"3:30\",\"notably\",\"of\",\"being\",\"did\",\"severly\"]\n",
      "POST_SWAP_STEP: -10.444956471074 Any[\"the\",\"the\",\"he\",\"the\",\"city\",\"for\",\"people\",\"after\",\"car\",\"of\",\"international\",\"fire\",\"his\",\"a\",\"left\",\"the\",\"president\",\"bomb\",\"--\",\"injured\",\"association\",\"as\",\".\",\"kansas\",\"apart\",\"fighters\",\"tore\",\"works\",\"abundance\",\"appliance\",\"headmaster\",\"gearing\",\"3:30\",\"notably\",\"of\",\"did\",\"severly\",\"was\"]\n",
      "POST_ADD_STEP: -10.444956471073999 Any[\"the\",\"the\",\"he\",\"the\",\"city\",\"for\",\"people\",\"after\",\"car\",\"of\",\"international\",\"fire\",\"his\",\"a\",\"left\",\"the\",\"president\",\"bomb\",\"--\",\"injured\",\"association\",\"as\",\".\",\"kansas\",\"apart\",\"fighters\",\"tore\",\"works\",\"abundance\",\"appliance\",\"headmaster\",\"gearing\",\"3:30\",\"notably\",\"of\",\"did\",\"severly\",\"was\"]\n",
      "POST_SWAP_STEP: -10.278910807244625 Any[\"the\",\"the\",\"he\",\"the\",\"city\",\"for\",\"people\",\"after\",\"car\",\"of\",\"international\",\"fire\",\"his\",\"a\",\"left\",\"the\",\"president\",\"bomb\",\"--\",\"injured\",\"association\",\"as\",\".\",\"kansas\",\"apart\",\"fighters\",\"tore\",\"works\",\"abundance\",\"headmaster\",\"gearing\",\"3:30\",\"notably\",\"of\",\"did\",\"severly\",\"was\",\"home\"]\n",
      "POST_ADD_STEP: -10.188507072637812 Any[\"the\",\"the\",\"he\",\"the\",\"city\",\"for\",\"people\",\"after\",\"car\",\"of\",\"international\",\"fire\",\"his\",\"a\",\"left\",\"the\",\"president\",\"bomb\",\"--\",\"injured\",\"association\",\"as\",\".\",\"kansas\",\"apart\",\"fighters\",\"tore\",\"works\",\"abundance\",\"headmaster\",\"gearing\",\"3:30\",\"notably\",\"of\",\"did\",\"severly\",\"was\",\"home\",\"speechlessness\"]\n",
      "POST_SWAP_STEP: -9.991160130458562 Any[\"the\",\"the\",\"he\",\"the\",\"city\",\"for\",\"people\",\"after\",\"car\",\"of\",\"international\",\"fire\",\"his\",\"a\",\"left\",\"the\",\"president\",\"bomb\",\"--\",\"injured\",\"association\",\"as\",\".\",\"kansas\",\"apart\",\"fighters\",\"tore\",\"works\",\"abundance\",\"gearing\",\"3:30\",\"notably\",\"of\",\"did\",\"severly\",\"was\",\"home\",\"speechlessness\",\"proprietor\"]\n",
      "POST_ADD_STEP: -9.99116013045856 Any[\"the\",\"the\",\"he\",\"the\",\"city\",\"for\",\"people\",\"after\",\"car\",\"of\",\"international\",\"fire\",\"his\",\"a\",\"left\",\"the\",\"president\",\"bomb\",\"--\",\"injured\",\"association\",\"as\",\".\",\"kansas\",\"apart\",\"fighters\",\"tore\",\"works\",\"abundance\",\"gearing\",\"3:30\",\"notably\",\"of\",\"did\",\"severly\",\"was\",\"home\",\"speechlessness\",\"proprietor\"]\n",
      "POST_SWAP_STEP: -9.831442363228302 Any[\"the\",\"the\",\"he\",\"the\",\"city\",\"for\",\"people\",\"after\",\"car\",\"of\",\"international\",\"fire\",\"his\",\"a\",\"left\",\"the\",\"president\",\"bomb\",\"--\",\"injured\",\"association\",\"as\",\".\",\"kansas\",\"apart\",\"fighters\",\"tore\",\"works\",\"abundance\",\"gearing\",\"3:30\",\"notably\",\"of\",\"severly\",\"was\",\"home\",\"speechlessness\",\"proprietor\",\"that\"]\n",
      "POST_ADD_STEP: -9.831442363228302 Any[\"the\",\"the\",\"he\",\"the\",\"city\",\"for\",\"people\",\"after\",\"car\",\"of\",\"international\",\"fire\",\"his\",\"a\",\"left\",\"the\",\"president\",\"bomb\",\"--\",\"injured\",\"association\",\"as\",\".\",\"kansas\",\"apart\",\"fighters\",\"tore\",\"works\",\"abundance\",\"gearing\",\"3:30\",\"notably\",\"of\",\"severly\",\"was\",\"home\",\"speechlessness\",\"proprietor\",\"that\"]\n",
      "POST_SWAP_STEP: -9.490544400413796 Any[\"the\",\"the\",\"he\",\"the\",\"city\",\"for\",\"people\",\"after\",\"car\",\"of\",\"international\",\"fire\",\"his\",\"a\",\"left\",\"the\",\"president\",\"bomb\",\"--\",\"injured\",\"association\",\"as\",\".\",\"kansas\",\"apart\",\"fighters\",\"tore\",\"works\",\"gearing\",\"3:30\",\"notably\",\"of\",\"severly\",\"was\",\"home\",\"speechlessness\",\"proprietor\",\"that\"]\n",
      "POST_ADD_STEP: -9.490544400413796 Any[\"the\",\"the\",\"he\",\"the\",\"city\",\"for\",\"people\",\"after\",\"car\",\"of\",\"international\",\"fire\",\"his\",\"a\",\"left\",\"the\",\"president\",\"bomb\",\"--\",\"injured\",\"association\",\"as\",\".\",\"kansas\",\"apart\",\"fighters\",\"tore\",\"works\",\"gearing\",\"3:30\",\"notably\",\"of\",\"severly\",\"was\",\"home\",\"speechlessness\",\"proprietor\",\"that\"]\n",
      "POST_SWAP_STEP: -9.12252743298176 Any[\"the\",\"the\",\"he\",\"the\",\"city\",\"for\",\"people\",\"after\",\"car\",\"of\",\"international\",\"fire\",\"his\",\"a\",\"left\",\"the\",\"president\",\"bomb\",\"--\",\"injured\",\"association\",\"as\",\".\",\"kansas\",\"apart\",\"fighters\",\"tore\",\"works\",\"gearing\",\"3:30\",\"notably\",\"of\",\"severly\",\"was\",\"home\",\"proprietor\",\"that\",\"metalsmiths\"]\n",
      "POST_ADD_STEP: -9.077078662165116 Any[\"the\",\"the\",\"he\",\"the\",\"city\",\"for\",\"people\",\"after\",\"car\",\"of\",\"international\",\"fire\",\"his\",\"a\",\"left\",\"the\",\"president\",\"bomb\",\"--\",\"injured\",\"association\",\"as\",\".\",\"kansas\",\"apart\",\"fighters\",\"tore\",\"works\",\"gearing\",\"3:30\",\"notably\",\"of\",\"severly\",\"was\",\"home\",\"proprietor\",\"that\",\"metalsmiths\",\"lastly\"]\n",
      "POST_SWAP_STEP: -8.889973834977265 Any[\"the\",\"he\",\"the\",\"city\",\"for\",\"people\",\"after\",\"car\",\"of\",\"international\",\"fire\",\"his\",\"a\",\"left\",\"the\",\"president\",\"bomb\",\"--\",\"injured\",\"association\",\"as\",\".\",\"kansas\",\"apart\",\"fighters\",\"tore\",\"works\",\"gearing\",\"3:30\",\"notably\",\"of\",\"severly\",\"was\",\"home\",\"proprietor\",\"that\",\"metalsmiths\",\"lastly\",\"of\"]\n",
      "POST_ADD_STEP: -8.889973834977267 Any[\"the\",\"he\",\"the\",\"city\",\"for\",\"people\",\"after\",\"car\",\"of\",\"international\",\"fire\",\"his\",\"a\",\"left\",\"the\",\"president\",\"bomb\",\"--\",\"injured\",\"association\",\"as\",\".\",\"kansas\",\"apart\",\"fighters\",\"tore\",\"works\",\"gearing\",\"3:30\",\"notably\",\"of\",\"severly\",\"was\",\"home\",\"proprietor\",\"that\",\"metalsmiths\",\"lastly\",\"of\"]\n",
      "POST_SWAP_STEP: -8.889973834977267 Any[\"the\",\"he\",\"the\",\"city\",\"for\",\"people\",\"after\",\"car\",\"of\",\"international\",\"fire\",\"his\",\"a\",\"left\",\"the\",\"president\",\"bomb\",\"--\",\"injured\",\"association\",\"as\",\".\",\"kansas\",\"apart\",\"fighters\",\"tore\",\"works\",\"gearing\",\"3:30\",\"notably\",\"of\",\"severly\",\"was\",\"home\",\"proprietor\",\"that\",\"metalsmiths\",\"lastly\",\"of\"]\n"
     ]
    },
    {
     "data": {
      "text/plain": [
       "(Any[\"the\",\"he\",\"the\",\"city\",\"for\",\"people\",\"after\",\"car\",\"of\",\"international\"  …  \"notably\",\"of\",\"severly\",\"was\",\"home\",\"proprietor\",\"that\",\"metalsmiths\",\"lastly\",\"of\"],-8.889973834977265,[1,17,1,111,9,68,48,558,4,142  …  3540,4,37511,14,159,17509,11,39706,20449,4])"
      ]
     },
     "execution_count": 86,
     "metadata": {},
     "output_type": "execute_result"
    }
   ],
   "source": [
    "target_sent = test_set[664+6]\n",
    "target_sowe = lookup_sowe(data,target_sent)\n",
    "println(target_sent)\n",
    "println(\"-------------\")\n",
    "best_words, best_score, best_wordset  = greedy_search(data, target_sent, log=true)\n"
   ]
  },
  {
   "cell_type": "code",
   "execution_count": 196,
   "metadata": {
    "collapsed": false
   },
   "outputs": [
    {
     "name": "stdout",
     "output_type": "stream",
     "text": [
      "0\n"
     ]
    },
    {
     "ename": "LoadError",
     "evalue": "LoadError: BoundsError: attempt to access 300x40482 Array{Float64,2}:\n  0.04656    -0.25539   -0.12559   -0.076947  …   0.42868     0.1722     0.0\n  0.21318    -0.25723    0.01363   -0.021211     -0.34601     0.37112    0.0\n -0.0074364   0.13169    0.10306    0.21271       0.05546     0.11523    0.0\n -0.45854    -0.042688  -0.10123   -0.72232      -0.15585     0.043362   0.0\n -0.035639    0.21817    0.098128  -0.13988       0.54724     0.32791    0.0\n  0.23643    -0.022702   0.13627   -0.12234   …   0.21315     0.0099291  0.0\n -0.28836    -0.17854   -0.10721   -0.17521       0.3294      0.73261    0.0\n  0.21521     0.10756    0.23697    0.12137      -0.16472    -0.62959    0.0\n -0.13486     0.058936   0.3287    -0.070866     -0.043541   -0.27203    0.0\n -1.6413     -1.3854    -1.6785    -1.5721        0.87545     0.41709    0.0\n -0.26091     0.58509    0.22393   -0.22464   …   0.0062048  -0.19369    0.0\n  0.032434    0.036501   0.12409    0.04269      -0.020974   -0.57003    0.0\n  0.056621   -0.19846   -0.086708  -0.4018        0.032217   -0.10161    0.0\n  ⋮                                           ⋱               ⋮             \n  0.0067769   0.19135    0.11165    0.25185       0.050514   -0.33312    0.0\n  0.14082     0.10992   -0.098002   0.054947     -0.24647    -0.54683    0.0\n -0.013064    0.075968   0.060148  -0.36673   …   0.49521     0.20531    0.0\n -0.29686    -0.014359  -0.15619   -0.38603       0.17258     0.012939   0.0\n -0.079913   -0.073794  -0.11949    0.3029        0.1394      0.14713    0.0\n  0.195       0.22176    0.23445    0.015747      0.27439    -0.021514   0.0\n  0.031549    0.14652    0.081367   0.34036      -0.50245     0.43569    0.0\n  0.28506     0.56686    0.24618    0.47841   …  -0.14746    -0.2622     0.0\n -0.087461    0.053307  -0.15242    0.068617      0.17993    -0.23943    0.0\n  0.0090611  -0.2329    -0.34224    0.18351       0.17875     0.14269    0.0\n -0.20989    -0.12226   -0.022394  -0.29183       0.28892     0.66104    0.0\n  0.053913    0.35499    0.13684   -0.046533      0.0036781  -0.45675    0.0\n  at index [Colon(),-115.8629339994306]\nwhile loading In[196], in expression starting on line 1",
     "output_type": "error",
     "traceback": [
      "LoadError: BoundsError: attempt to access 300x40482 Array{Float64,2}:\n  0.04656    -0.25539   -0.12559   -0.076947  …   0.42868     0.1722     0.0\n  0.21318    -0.25723    0.01363   -0.021211     -0.34601     0.37112    0.0\n -0.0074364   0.13169    0.10306    0.21271       0.05546     0.11523    0.0\n -0.45854    -0.042688  -0.10123   -0.72232      -0.15585     0.043362   0.0\n -0.035639    0.21817    0.098128  -0.13988       0.54724     0.32791    0.0\n  0.23643    -0.022702   0.13627   -0.12234   …   0.21315     0.0099291  0.0\n -0.28836    -0.17854   -0.10721   -0.17521       0.3294      0.73261    0.0\n  0.21521     0.10756    0.23697    0.12137      -0.16472    -0.62959    0.0\n -0.13486     0.058936   0.3287    -0.070866     -0.043541   -0.27203    0.0\n -1.6413     -1.3854    -1.6785    -1.5721        0.87545     0.41709    0.0\n -0.26091     0.58509    0.22393   -0.22464   …   0.0062048  -0.19369    0.0\n  0.032434    0.036501   0.12409    0.04269      -0.020974   -0.57003    0.0\n  0.056621   -0.19846   -0.086708  -0.4018        0.032217   -0.10161    0.0\n  ⋮                                           ⋱               ⋮             \n  0.0067769   0.19135    0.11165    0.25185       0.050514   -0.33312    0.0\n  0.14082     0.10992   -0.098002   0.054947     -0.24647    -0.54683    0.0\n -0.013064    0.075968   0.060148  -0.36673   …   0.49521     0.20531    0.0\n -0.29686    -0.014359  -0.15619   -0.38603       0.17258     0.012939   0.0\n -0.079913   -0.073794  -0.11949    0.3029        0.1394      0.14713    0.0\n  0.195       0.22176    0.23445    0.015747      0.27439    -0.021514   0.0\n  0.031549    0.14652    0.081367   0.34036      -0.50245     0.43569    0.0\n  0.28506     0.56686    0.24618    0.47841   …  -0.14746    -0.2622     0.0\n -0.087461    0.053307  -0.15242    0.068617      0.17993    -0.23943    0.0\n  0.0090611  -0.2329    -0.34224    0.18351       0.17875     0.14269    0.0\n -0.20989    -0.12226   -0.022394  -0.29183       0.28892     0.66104    0.0\n  0.053913    0.35499    0.13684   -0.046533      0.0036781  -0.45675    0.0\n  at index [Colon(),-115.8629339994306]\nwhile loading In[196], in expression starting on line 1",
      "",
      " in throw_boundserror at abstractarray.jl:156",
      " in greedy_addition_with_backtrack_prep at In[195]:9 (repeats 2 times)"
     ]
    }
   ],
   "source": []
  },
  {
   "cell_type": "code",
   "execution_count": 369,
   "metadata": {
    "collapsed": false
   },
   "outputs": [
    {
     "data": {
      "text/plain": [
       "make_longer_refinement2 (generic function with 1 method)"
      ]
     },
     "execution_count": 369,
     "metadata": {},
     "output_type": "execute_result"
    }
   ],
   "source": [
    "# Shorter Longer Refinement, for replaceing n words with m other words\n",
    "# Either the words in our current set are too short, so we can limit our search to words that are longer than the sum of our shortest\n",
    "# Or too long then we do the reverse\n",
    "\n",
    "#We are removing something, and planning to get closer to the path by adding something\n",
    "#things longer by adding a finite number more elements\n",
    "function make_longer_refinement2(LL::Matrix{Float64},\n",
    "                              target::Vector{Float64},\n",
    "                              best_word_set::Vector{Int},\n",
    "                              remove_indexes::Vector{Int},\n",
    "                              m_add::Int)\n",
    "    @assert(m_add>=0)\n",
    "    \n",
    "    rem_indexes = trues(best_word_set)\n",
    "    rem_indexes[remove_indexes] = false\n",
    "    \n",
    "    cur_word_set = best_word_set[rem_indexes]\n",
    "    cur_end_point = get_end(LL, cur_word_set)\n",
    "\n",
    "    cur_lengths = -score_possible_additions(LL[:,best_word_set], target, get_end(LL, Int[])) |> vec\n",
    "\n",
    "    length_removed = -fitness(target, get_end(LL,best_word_set)) -fitness(target, cur_end_point)\n",
    "        \n",
    "    @printval length_removed\n",
    "    LL_scores = -score_possible_additions(m_add*LL, target, get_end(LL, Int[]))\n",
    "    \n",
    "    valid_replacers = find((m_add-1)*maximum(LL_scores) + LL_scores.>=length_removed)   \n",
    "    valid_replacers\n",
    "end\n",
    "\n"
   ]
  },
  {
   "cell_type": "code",
   "execution_count": 379,
   "metadata": {
    "collapsed": false
   },
   "outputs": [
    {
     "name": "stdout",
     "output_type": "stream",
     "text": [
      "length_removed = "
     ]
    },
    {
     "data": {
      "text/plain": [
       "40482-element Array{Int64,1}:\n",
       "     1\n",
       "     2\n",
       "     3\n",
       "     4\n",
       "     5\n",
       "     6\n",
       "     7\n",
       "     8\n",
       "     9\n",
       "    10\n",
       "    11\n",
       "    12\n",
       "    13\n",
       "     ⋮\n",
       " 40471\n",
       " 40472\n",
       " 40473\n",
       " 40474\n",
       " 40475\n",
       " 40476\n",
       " 40477\n",
       " 40478\n",
       " 40479\n",
       " 40480\n",
       " 40481\n",
       " 40482"
      ]
     },
     "execution_count": 379,
     "metadata": {},
     "output_type": "execute_result"
    },
    {
     "name": "stdout",
     "output_type": "stream",
     "text": [
      "121.3273840091464\n"
     ]
    }
   ],
   "source": [
    "make_longer_refinement2(data[\"LL\"], target_sowe, best_wordset, [1:39;], 2)"
   ]
  },
  {
   "cell_type": "code",
   "execution_count": 330,
   "metadata": {
    "collapsed": false
   },
   "outputs": [
    {
     "data": {
      "text/plain": [
       "\"**START1**\""
      ]
     },
     "execution_count": 330,
     "metadata": {},
     "output_type": "execute_result"
    }
   ],
   "source": [
    "data[\"indexed_words\"][40482]"
   ]
  },
  {
   "cell_type": "code",
   "execution_count": 338,
   "metadata": {
    "collapsed": false
   },
   "outputs": [
    {
     "data": {
      "text/plain": [
       "114.0"
      ]
     },
     "execution_count": 338,
     "metadata": {},
     "output_type": "execute_result"
    }
   ],
   "source": [
    "342/3"
   ]
  },
  {
   "cell_type": "code",
   "execution_count": 238,
   "metadata": {
    "collapsed": false
   },
   "outputs": [
    {
     "data": {
      "text/plain": [
       "37800-element Array{Int64,1}:\n",
       "     1\n",
       "     2\n",
       "     3\n",
       "     4\n",
       "     5\n",
       "     6\n",
       "     7\n",
       "     8\n",
       "     9\n",
       "    10\n",
       "    11\n",
       "    12\n",
       "    13\n",
       "     ⋮\n",
       " 40426\n",
       " 40435\n",
       " 40443\n",
       " 40449\n",
       " 40453\n",
       " 40455\n",
       " 40464\n",
       " 40466\n",
       " 40469\n",
       " 40476\n",
       " 40479\n",
       " 40482"
      ]
     },
     "execution_count": 238,
     "metadata": {},
     "output_type": "execute_result"
    }
   ],
   "source": [
    "LLscores = -score_possible_additions(3*data[\"LL\"], target_sowe, get_end(data[\"LL\"], Int[]))\n",
    "find(LLscores.<120)"
   ]
  },
  {
   "cell_type": "code",
   "execution_count": null,
   "metadata": {
    "collapsed": true
   },
   "outputs": [],
   "source": []
  },
  {
   "cell_type": "code",
   "execution_count": 210,
   "metadata": {
    "collapsed": false,
    "scrolled": true
   },
   "outputs": [],
   "source": [
    "@everywhere function greedy_addition_with_backtrack_prep(LL::Matrix{Float64},\n",
    "                         target::Vector{Float64},\n",
    "                         best_word_set::Vector{Int},\n",
    "                         keep_per_word = 50,\n",
    "                         max_additions = Inf, \n",
    "                         \n",
    "    )\n",
    "    \n",
    "    end_point = get_end(LL, best_word_set)\n",
    "    best_score = fitness(target, end_point)\n",
    "    good_ideas = Set{Int}()\n",
    "    sizehint!(good_ideas, 10*keep_per_word) #Most sentences in most corpora have at least 10 words\n",
    "    did_improve = true\n",
    "    cur_additions = 0\n",
    "    while(did_improve && cur_additions<max_additions)\n",
    "        \n",
    "        cur_additions+=1\n",
    "        did_improve=false\n",
    "        \n",
    "        addition_scores = score_possible_additions(LL, target, end_point)\n",
    "        \n",
    "        high_scores = select!(collect(enumerate(addition_scores)), 1:keep_per_word, by=ii_score->ii_score[2])\n",
    "        \n",
    "        union!(good_ideas, map(ii_score->ii_score[1],high_scores))\n",
    "        \n",
    "        addition,addition_score = high_scores[1]\n",
    "        if addition_score>best_score+ϵ\n",
    "            #println(\"!add: $addition $best_score\")\n",
    "            best_score=addition_score\n",
    "            best_word_set = [best_word_set...,addition]\n",
    "            end_point += LL[:,addition]\n",
    "            did_improve=true\n",
    "        end\n",
    "    end\n",
    "    best_word_set,best_score,good_ideas\n",
    "end"
   ]
  },
  {
   "cell_type": "code",
   "execution_count": 225,
   "metadata": {
    "collapsed": false
   },
   "outputs": [
    {
     "data": {
      "text/plain": [
       "(Int64[],-112.43741017416913,Set([39722,19698,27248,38963,28730,5870,11237,14446,1374,15603  …  33604,8873,28208,2164,32058,29913,29931,27591,17344,12881]))"
      ]
     },
     "execution_count": 225,
     "metadata": {},
     "output_type": "execute_result"
    }
   ],
   "source": [
    "best_word_set,best_score,good_ideas  = greedy_addition_with_backtrack_prep(data[\"LL\"], target_sowe, Int[], )"
   ]
  },
  {
   "cell_type": "code",
   "execution_count": null,
   "metadata": {
    "collapsed": true
   },
   "outputs": [],
   "source": [
    "max"
   ]
  },
  {
   "cell_type": "code",
   "execution_count": 226,
   "metadata": {
    "collapsed": false,
    "scrolled": true
   },
   "outputs": [
    {
     "data": {
      "text/plain": [
       "40000"
      ]
     },
     "execution_count": 226,
     "metadata": {},
     "output_type": "execute_result"
    }
   ],
   "source": [
    "#@pipe good_ideas |> map(println,_)\n",
    "length(good_ideas)"
   ]
  },
  {
   "cell_type": "code",
   "execution_count": 142,
   "metadata": {
    "collapsed": false
   },
   "outputs": [
    {
     "data": {
      "text/plain": [
       "word_delete_refinement (generic function with 1 method)"
      ]
     },
     "execution_count": 142,
     "metadata": {},
     "output_type": "execute_result"
    }
   ],
   "source": [
    "function word_delete_refinement(LL::Matrix{Float64},\n",
    "                              target::Vector{Float64},\n",
    "                              best_word_set::Vector{Int})\n",
    "    \n",
    "    initial_word_set = pset(best_word_set)\n",
    "    initial_end_point = get_end(LL, best_word_set)\n",
    "    best_score = fitness(target, initial_end_point)\n",
    "    \n",
    "    function inner(removed, endpoint)\n",
    "        remaining =  setdiff(initial_word_set, removed)\n",
    "        if length(remaining)<35\n",
    "            return\n",
    "        end\n",
    "        \n",
    "        for del_word in remaining\n",
    "            new_endpoint = endpoint - LL[:,del_word]\n",
    "            del_score = fitness(target, new_endpoint)\n",
    "            \n",
    "            if del_score>best_score + ϵ\n",
    "                @inbounds best_word_set = remaining\n",
    "                best_score = del_score\n",
    "            end\n",
    "            \n",
    "            \n",
    "            inner(removed, endpoint)\n",
    "        end\n",
    "        \n",
    "    end\n",
    "    \n",
    "    inner(pset{Int}(),initial_end_point)\n",
    "\n",
    "    best_word_set,best_score\n",
    "        \n",
    "end"
   ]
  },
  {
   "cell_type": "code",
   "execution_count": 143,
   "metadata": {
    "collapsed": true
   },
   "outputs": [
    {
     "ename": "LoadError",
     "evalue": "LoadError: InterruptException:\nwhile loading In[143], in expression starting on line 1",
     "output_type": "error",
     "traceback": [
      "LoadError: InterruptException:\nwhile loading In[143], in expression starting on line 1",
      "",
      " in update at /home/ubuntu/.julia/v0.5/FunctionalCollections/src/PersistentHashMap.jl:70",
      " in update at /home/ubuntu/.julia/v0.5/FunctionalCollections/src/PersistentHashMap.jl:67 (repeats 4 times)",
      " in _update at /home/ubuntu/.julia/v0.5/FunctionalCollections/src/PersistentHashMap.jl:167",
      " in assoc at /home/ubuntu/.julia/v0.5/FunctionalCollections/src/PersistentHashMap.jl:175",
      " in _union at /home/ubuntu/.julia/v0.5/FunctionalCollections/src/PersistentSet.jl:59",
      " in filter at /home/ubuntu/.julia/v0.5/FunctionalCollections/src/PersistentSet.jl:44",
      " in setdiff at /home/ubuntu/.julia/v0.5/FunctionalCollections/src/PersistentSet.jl:49",
      " in inner at In[142]:10",
      " in inner at In[142]:25 (repeats 18480 times)",
      " in word_delete_refinement at In[142]:30"
     ]
    }
   ],
   "source": [
    "word_delete_refinement(data[\"LL\"], target_sowe, best_wordset)"
   ]
  },
  {
   "cell_type": "code",
   "execution_count": 137,
   "metadata": {
    "collapsed": false
   },
   "outputs": [
    {
     "data": {
      "text/plain": [
       "39"
      ]
     },
     "execution_count": 137,
     "metadata": {},
     "output_type": "execute_result"
    }
   ],
   "source": [
    "length(best_wordset)"
   ]
  },
  {
   "cell_type": "code",
   "execution_count": 104,
   "metadata": {
    "collapsed": false
   },
   "outputs": [
    {
     "ename": "LoadError",
     "evalue": "LoadError: MethodError: `getindex` has no method matching getindex(::FunctionalCollections.PersistentList{Int64}, ::Int64)\nwhile loading In[104], in expression starting on line 1",
     "output_type": "error",
     "traceback": [
      "LoadError: MethodError: `getindex` has no method matching getindex(::FunctionalCollections.PersistentList{Int64}, ::Int64)\nwhile loading In[104], in expression starting on line 1",
      ""
     ]
    }
   ],
   "source": [
    "a"
   ]
  },
  {
   "cell_type": "code",
   "execution_count": 50,
   "metadata": {
    "collapsed": false
   },
   "outputs": [
    {
     "data": {
      "text/plain": [
       "get_LL2 (generic function with 1 method)"
      ]
     },
     "execution_count": 50,
     "metadata": {},
     "output_type": "execute_result"
    }
   ],
   "source": [
    "function double_word_swap_refinement(LL::Matrix{Float64},\n",
    "                              LL2::Matrix{Float64}, LL2_index,\n",
    "                              target::Vector{Float64},\n",
    "                              best_word_set::Vector{Int})\n",
    "    \n",
    "    initial_word_set = copy(best_word_set)\n",
    "    initial_end_point = get_end(LL, initial_word_set)\n",
    "    best_score = fitness(LL, target, best_word_set)\n",
    "    \n",
    "    for ii in 1:length(initial_word_set)\n",
    "        for jj in ii+1:length(initial_word_set)\n",
    "            @inbounds end_point = initial_end_point - LL[:,initial_word_set[ii]] - LL[:,initial_word_set[jj]]\n",
    "            addition_score, addition_index = findmax(score_possible_additions(LL2, target, end_point))\n",
    "            if addition_score>best_score + ϵ\n",
    "                #println(\"+= $(LL2_index[addition_index,:])\")\n",
    "                @inbounds word_subset = initial_word_set[[1:ii-1; ii+1:jj-1; jj+1:end]]\n",
    "                @inbounds best_word_set = [word_subset..., LL2_index[addition_index,:]...]\n",
    "                best_score = addition_score\n",
    "            end\n",
    "        end\n",
    "    end\n",
    "\n",
    "    best_word_set,best_score\n",
    "        \n",
    "end\n",
    "\n",
    "function get_LL2(LL)\n",
    "    len_LL2 = (size(LL,2).^2  + size(LL,2))÷ 2\n",
    "    LL2_index = Matrix{Int}(len_LL2, 2)\n",
    "    @printval(len_LL2)\n",
    "    LL2 = Matrix{Float64}(size(LL,1), len_LL2)\n",
    "    kk=0\n",
    "    for ii in 1:size(LL,2)\n",
    "        for jj in 1:ii\n",
    "            kk+=1\n",
    "            LL2_index[kk,:] = [ii,jj]\n",
    "            LL2[:,kk] = LL[:,ii]+LL[:,jj]\n",
    "        end\n",
    "    end\n",
    "    LL2, LL2_index\n",
    "end\n"
   ]
  },
  {
   "cell_type": "code",
   "execution_count": 51,
   "metadata": {
    "collapsed": false
   },
   "outputs": [
    {
     "name": "stdout",
     "output_type": "stream",
     "text": [
      "len_LL2 = "
     ]
    },
    {
     "ename": "LoadError",
     "evalue": "LoadError: OutOfMemoryError()\nwhile loading In[51], in expression starting on line 1",
     "output_type": "error",
     "traceback": [
      "LoadError: OutOfMemoryError()\nwhile loading In[51], in expression starting on line 1",
      "",
      " in get_LL2 at In[50]:31"
     ]
    },
    {
     "name": "stdout",
     "output_type": "stream",
     "text": [
      "819416403\n"
     ]
    }
   ],
   "source": [
    "LL2=get_LL2(data[\"LL\"])"
   ]
  },
  {
   "cell_type": "code",
   "execution_count": 36,
   "metadata": {
    "collapsed": false,
    "scrolled": true
   },
   "outputs": [
    {
     "data": {
      "text/plain": [
       "300x40482 Array{Float64,2}:\n",
       "  0.04656    -0.25539   -0.12559   -0.076947  …   0.42868     0.1722     0.0\n",
       "  0.21318    -0.25723    0.01363   -0.021211     -0.34601     0.37112    0.0\n",
       " -0.0074364   0.13169    0.10306    0.21271       0.05546     0.11523    0.0\n",
       " -0.45854    -0.042688  -0.10123   -0.72232      -0.15585     0.043362   0.0\n",
       " -0.035639    0.21817    0.098128  -0.13988       0.54724     0.32791    0.0\n",
       "  0.23643    -0.022702   0.13627   -0.12234   …   0.21315     0.0099291  0.0\n",
       " -0.28836    -0.17854   -0.10721   -0.17521       0.3294      0.73261    0.0\n",
       "  0.21521     0.10756    0.23697    0.12137      -0.16472    -0.62959    0.0\n",
       " -0.13486     0.058936   0.3287    -0.070866     -0.043541   -0.27203    0.0\n",
       " -1.6413     -1.3854    -1.6785    -1.5721        0.87545     0.41709    0.0\n",
       " -0.26091     0.58509    0.22393   -0.22464   …   0.0062048  -0.19369    0.0\n",
       "  0.032434    0.036501   0.12409    0.04269      -0.020974   -0.57003    0.0\n",
       "  0.056621   -0.19846   -0.086708  -0.4018        0.032217   -0.10161    0.0\n",
       "  ⋮                                           ⋱               ⋮             \n",
       "  0.0067769   0.19135    0.11165    0.25185       0.050514   -0.33312    0.0\n",
       "  0.14082     0.10992   -0.098002   0.054947     -0.24647    -0.54683    0.0\n",
       " -0.013064    0.075968   0.060148  -0.36673   …   0.49521     0.20531    0.0\n",
       " -0.29686    -0.014359  -0.15619   -0.38603       0.17258     0.012939   0.0\n",
       " -0.079913   -0.073794  -0.11949    0.3029        0.1394      0.14713    0.0\n",
       "  0.195       0.22176    0.23445    0.015747      0.27439    -0.021514   0.0\n",
       "  0.031549    0.14652    0.081367   0.34036      -0.50245     0.43569    0.0\n",
       "  0.28506     0.56686    0.24618    0.47841   …  -0.14746    -0.2622     0.0\n",
       " -0.087461    0.053307  -0.15242    0.068617      0.17993    -0.23943    0.0\n",
       "  0.0090611  -0.2329    -0.34224    0.18351       0.17875     0.14269    0.0\n",
       " -0.20989    -0.12226   -0.022394  -0.29183       0.28892     0.66104    0.0\n",
       "  0.053913    0.35499    0.13684   -0.046533      0.0036781  -0.45675    0.0"
      ]
     },
     "execution_count": 36,
     "metadata": {},
     "output_type": "execute_result"
    }
   ],
   "source": [
    "data[\"LL\"]"
   ]
  },
  {
   "cell_type": "code",
   "execution_count": 55,
   "metadata": {
    "collapsed": false
   },
   "outputs": [
    {
     "data": {
      "text/plain": [
       "81.9416403"
      ]
     },
     "execution_count": 55,
     "metadata": {},
     "output_type": "execute_result"
    }
   ],
   "source": [
    "819416403*50*2/ 1000_000_000"
   ]
  },
  {
   "cell_type": "code",
   "execution_count": null,
   "metadata": {
    "collapsed": false
   },
   "outputs": [],
   "source": [
    "target_sowe = lookup_sowe(data,target_sent)\n",
    "@time new_best_words, new_best_score =double_word_swap_refinement(LL, LL2, LL2_index, target_sowe, best_wordset)\n"
   ]
  },
  {
   "cell_type": "code",
   "execution_count": null,
   "metadata": {
    "collapsed": false
   },
   "outputs": [],
   "source": [
    "target_sent = test_set[12]\n",
    "println(target_sent)\n",
    "target_sowe = lookup_sowe(data,target_sent)"
   ]
  },
  {
   "cell_type": "code",
   "execution_count": null,
   "metadata": {
    "collapsed": false
   },
   "outputs": [],
   "source": [
    "for ii in 1:10\n",
    "    sample_sowe = (randn!(similar(target_sowe)) + target_sowe)\n",
    "    print(greedy_search(data, sample_sowe, 1,100, log=false)[1])\n",
    "    println(\",\")\n",
    "end"
   ]
  },
  {
   "cell_type": "code",
   "execution_count": null,
   "metadata": {
    "collapsed": false
   },
   "outputs": [],
   "source": []
  },
  {
   "cell_type": "code",
   "execution_count": null,
   "metadata": {
    "collapsed": true
   },
   "outputs": [],
   "source": []
  },
  {
   "cell_type": "code",
   "execution_count": null,
   "metadata": {
    "collapsed": false,
    "scrolled": true
   },
   "outputs": [],
   "source": [
    "res = pmap([1:length(test_set);], test_set) do ii,target_sent\n",
    "    sol, score = greedy_search(data, target_sent, 1, 100, log=false)\n",
    "    (sol, score, ii)\n",
    "end"
   ]
  },
  {
   "cell_type": "code",
   "execution_count": null,
   "metadata": {
    "collapsed": false
   },
   "outputs": [],
   "source": [
    "open(\"atis2_res_glove.jsz\",\"w\") do fh\n",
    "    serialize(fh, (Vector{ASCIIString}[sol for (sol, score, ii) in res], test_set)\n",
    "    )    \n",
    "end\n",
    "\n"
   ]
  },
  {
   "cell_type": "code",
   "execution_count": null,
   "metadata": {
    "collapsed": false
   },
   "outputs": [],
   "source": [
    "se = lookup_sowe(atis_data, [\"flights\",\"serve\",\"lunch\",\"which\"])\n",
    "se=se*0.6\n",
    "greedy_search(atis_data, se, 1, 5, log=false)"
   ]
  },
  {
   "cell_type": "code",
   "execution_count": null,
   "metadata": {
    "collapsed": false,
    "scrolled": true
   },
   "outputs": [],
   "source": [
    "hard_cases = find(x->x[2]<0, res)\n",
    "res[hard_cases]"
   ]
  },
  {
   "cell_type": "code",
   "execution_count": null,
   "metadata": {
    "collapsed": false
   },
   "outputs": [],
   "source": [
    "test_set[hard_cases]"
   ]
  },
  {
   "cell_type": "code",
   "execution_count": null,
   "metadata": {
    "collapsed": false,
    "scrolled": true
   },
   "outputs": [],
   "source": [
    "hard_set =  test_set[hard_cases]\n",
    "\n",
    "hard_res = pmap([1:length(hard_set);], hard_set) do ii,target_sent\n",
    "    sol, score = greedy_search(atis_data, target_sent, 2,5, log=false)\n",
    "    (sol, score, ii)\n",
    "end"
   ]
  },
  {
   "cell_type": "code",
   "execution_count": null,
   "metadata": {
    "collapsed": false
   },
   "outputs": [],
   "source": [
    "very_hard_cases = find(x->x[2]<0.0, hard_res)"
   ]
  },
  {
   "cell_type": "code",
   "execution_count": null,
   "metadata": {
    "collapsed": false
   },
   "outputs": [],
   "source": [
    "factorial(14)"
   ]
  },
  {
   "cell_type": "code",
   "execution_count": null,
   "metadata": {
    "collapsed": false
   },
   "outputs": [],
   "source": [
    "hard_res[very_hard_cases]"
   ]
  },
  {
   "cell_type": "code",
   "execution_count": null,
   "metadata": {
    "collapsed": false
   },
   "outputs": [],
   "source": [
    "\n",
    "\n",
    "for (ii,target_sent) in enumerate(test_set)\n",
    "    sol, score = greedy_search(atis_data, target_sent, log=false)\n",
    "    if score>0\n",
    "        print(\"$ii - \")\n",
    "        println(join(target_sent, \" \"))\n",
    "    end\n",
    "end\n",
    "    "
   ]
  },
  {
   "cell_type": "code",
   "execution_count": null,
   "metadata": {
    "collapsed": false
   },
   "outputs": [],
   "source": [
    "enumerate(test_set) |> collect"
   ]
  },
  {
   "cell_type": "code",
   "execution_count": null,
   "metadata": {
    "collapsed": true
   },
   "outputs": [],
   "source": []
  },
  {
   "cell_type": "code",
   "execution_count": null,
   "metadata": {
    "collapsed": true
   },
   "outputs": [],
   "source": []
  }
 ],
 "metadata": {
  "kernelspec": {
   "display_name": "Julia 0.5.0-dev",
   "language": "julia",
   "name": "julia-0.5"
  },
  "language_info": {
   "file_extension": ".jl",
   "mimetype": "application/julia",
   "name": "julia",
   "version": "0.5.0"
  }
 },
 "nbformat": 4,
 "nbformat_minor": 0
}
