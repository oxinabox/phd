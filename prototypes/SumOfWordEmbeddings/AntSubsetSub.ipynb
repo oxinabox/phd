{
 "cells": [
  {
   "cell_type": "code",
   "execution_count": 1,
   "metadata": {
    "collapsed": false
   },
   "outputs": [
    {
     "data": {
      "text/plain": [
       "4-element Array{ByteString,1}:\n",
       " \"/home/ubuntu/build/julia-master/usr/local/share/julia/site/v0.5\"\n",
       " \"/home/ubuntu/build/julia-master/usr/share/julia/site/v0.5\"      \n",
       " \".\"                                                              \n",
       " \"../util/\"                                                       "
      ]
     },
     "execution_count": 1,
     "metadata": {},
     "output_type": "execute_result"
    }
   ],
   "source": [
    "using Iterators\n",
    "using Pipe\n",
    "using Compat\n",
    "\n",
    "macro printval(ee)\n",
    "    ee_expr = @sprintf \"%s\" string(ee)\n",
    "    esc(:(println($ee_expr,\" = \", $ee)))\n",
    "end\n",
    "\n",
    "macro pz(ee)\n",
    "    ee_expr = @sprintf \"%s\" string(ee)\n",
    "    esc(:(println($ee_expr,\"\\t\\t\",typeof($ee), \"\\t\", size($ee))))\n",
    "end\n",
    "\n",
    "push!(LOAD_PATH, \".\")\n",
    "push!(LOAD_PATH, \"../util/\")"
   ]
  },
  {
   "cell_type": "code",
   "execution_count": 2,
   "metadata": {
    "collapsed": false
   },
   "outputs": [
    {
     "data": {
      "text/plain": [
       "11-element Array{Int64,1}:\n",
       "  2\n",
       "  3\n",
       "  4\n",
       "  5\n",
       "  6\n",
       "  7\n",
       "  8\n",
       "  9\n",
       " 10\n",
       " 11\n",
       " 12"
      ]
     },
     "execution_count": 2,
     "metadata": {},
     "output_type": "execute_result"
    }
   ],
   "source": [
    "addprocs(11)"
   ]
  },
  {
   "cell_type": "code",
   "execution_count": 3,
   "metadata": {
    "collapsed": false,
    "scrolled": true
   },
   "outputs": [
    {
     "name": "stderr",
     "output_type": "stream",
     "text": [
      "WARNING: replacing module Distances\n",
      "WARNING: replacing module Distances\n",
      "WARNING: replacing module Distances\n",
      "WARNING: replacing module Distances\n",
      "WARNING: replacing module Distances\n",
      "WARNING: replacing module Distances\n",
      "WARNING: replacing module Distances\n",
      "WARNING: replacing module Distances\n",
      "WARNING: replacing module Distances\n",
      "WARNING: replacing module Distances\n",
      "WARNING: replacing module Distances\n"
     ]
    }
   ],
   "source": [
    "@everywhere using Distances"
   ]
  },
  {
   "cell_type": "code",
   "execution_count": null,
   "metadata": {
    "collapsed": false,
    "scrolled": true
   },
   "outputs": [],
   "source": [
    "\n",
    "@everywhere data = open(\"doctors_letters.jsz\",\"r\") do fh\n",
    "    deserialize(fh)    \n",
    "end\n",
    "test_set = data[\"test_set\"];\n",
    "data"
   ]
  },
  {
   "cell_type": "code",
   "execution_count": 4,
   "metadata": {
    "collapsed": false
   },
   "outputs": [
    {
     "data": {
      "text/plain": [
       "Dict{ASCIIString,Any} with 7 entries:\n",
       "  \"zeroed_words\"  => ASCIIString[]\n",
       "  \"length_prob\"   => [0.00273293,0.0141963,0.0332591,0.054354,0.0725396,0.08505…\n",
       "  \"LL\"            => 300x1126 Array{Float64,2}:…\n",
       "  \"indexed_words\" => AbstractString[\"the\",\"of\",\"to\",\"and\",\"in\",\"a\",\"for\",\"that\"…\n",
       "  \"test_set\"      => [SubString{ASCIIString}[\"what\",\"is\",\"the\",\"cheapest\",\"way\"…\n",
       "  \"trigrams\"      => Any[(\"**START1**\",\"**START2**\",\"what\"),(\"**START2**\",\"what…\n",
       "  \"word_indexes\"  => Dict{AbstractString,Int64}(\"carried\"=>452,\"diabetic\"=>1069…"
      ]
     },
     "execution_count": 4,
     "metadata": {},
     "output_type": "execute_result"
    }
   ],
   "source": [
    "@everywhere data = open(\"atis_data2.jsz\",\"r\") do fh\n",
    "    deserialize(fh)    \n",
    "end\n",
    "test_set = data[\"test_set\"];\n",
    "data"
   ]
  },
  {
   "cell_type": "code",
   "execution_count": 6,
   "metadata": {
    "collapsed": false
   },
   "outputs": [
    {
     "data": {
      "text/plain": [
       "Dict{ASCIIString,Any} with 7 entries:\n",
       "  \"zeroed_words\"  => ASCIIString[]\n",
       "  \"length_prob\"   => [0.00631022,0.013634,0.0204009,0.0262119,0.0309737,0.03471…\n",
       "  \"LL\"            => 300x40482 Array{Float64,2}:…\n",
       "  \"indexed_words\" => AbstractString[\"the\",\",\",\".\",\"of\",\"to\",\"and\",\"in\",\"a\",\"for…\n",
       "  \"test_set\"      => [ASCIIString[\"``\",\"only\",\"a\",\"relative\",\"handful\",\"of\",\"su…\n",
       "  \"trigrams\"      => Any[(\"**START1**\",\"**START2**\",\"edison\"),(\"**START2**\",\"ed…\n",
       "  \"word_indexes\"  => Dict{AbstractString,Int64}(\"baleful\"=>34074,\"confined\"=>77…"
      ]
     },
     "execution_count": 6,
     "metadata": {},
     "output_type": "execute_result"
    }
   ],
   "source": [
    "@everywhere data = open(\"brown_data.jsz\",\"r\") do fh\n",
    "    deserialize(fh)    \n",
    "end\n",
    "test_set = data[\"test_set\"];\n",
    "data"
   ]
  },
  {
   "cell_type": "code",
   "execution_count": null,
   "metadata": {
    "collapsed": false
   },
   "outputs": [],
   "source": [
    "@everywhere function lookup_sowe(data, sent::AbstractString)\n",
    "    lookup_sowe(data, sent |> split)\n",
    "end\n",
    "\n",
    "@everywhere function lookup_sowe{S<:AbstractString}(data, sent::Vector{S})\n",
    "    sum([data[\"LL\"][:,data[\"word_indexes\"][word]] for word in sent]) \n",
    "end\n",
    "\n",
    "@everywhere function lookup_words(data, path)\n",
    "    [data[\"indexed_words\"][ii] for ii in path]\n",
    "end"
   ]
  },
  {
   "cell_type": "code",
   "execution_count": null,
   "metadata": {
    "collapsed": false
   },
   "outputs": [],
   "source": [
    "@everywhere const ϵ = 10.0^-6"
   ]
  },
  {
   "cell_type": "code",
   "execution_count": null,
   "metadata": {
    "collapsed": false,
    "scrolled": true
   },
   "outputs": [],
   "source": [
    "@everywhere @inline function get_end(LL, ws::Vector{Int64})\n",
    "    @inbounds sofar = length(ws)>0 ? sum([LL[:,ii] for ii in ws]) : zeros(LL[:,1])\n",
    "    sofar\n",
    "end\n",
    "\n",
    "@everywhere function score_possible_additions(LL, target, end_point)\n",
    "    -pairwise(Euclidean(), LL, (target-end_point)'');\n",
    "end   \n",
    "\n",
    "@everywhere  @inline function fitness(target, end_point)\n",
    "    #Fitter is larger\n",
    "    -euclidean(end_point, target)   \n",
    "end\n",
    "\n",
    "@everywhere function greedy_addition(LL::Matrix{Float64},\n",
    "                         target::Vector{Float64},\n",
    "                         best_word_set::Vector{Int},\n",
    "                         max_additions = Inf)\n",
    "    end_point = get_end(LL, best_word_set)\n",
    "    best_score = fitness(target, end_point)\n",
    "    \n",
    "    did_improve = true\n",
    "    cur_additions = 0\n",
    "    while(did_improve && cur_additions<max_additions)\n",
    "        cur_additions+=1\n",
    "        did_improve=false\n",
    "        \n",
    "        addition_scores = score_possible_additions(LL, target, end_point)\n",
    "        addition_score, addition = findmax(addition_scores)\n",
    "        if addition_score>best_score+ϵ\n",
    "            #println(\"!add: $addition $best_score\")\n",
    "            best_score=addition_score\n",
    "            best_word_set = [best_word_set...,addition]\n",
    "            end_point += LL[:,addition]\n",
    "            did_improve=true\n",
    "        end\n",
    "    end\n",
    "    best_word_set,best_score\n",
    "end\n",
    "\n",
    "\n",
    "@everywhere function word_swap_refinement(LL::Matrix{Float64},\n",
    "                              target::Vector{Float64},\n",
    "                              best_word_set::Vector{Int})\n",
    "    \n",
    "    initial_word_set = copy(best_word_set)\n",
    "    end_point = get_end(LL, best_word_set)\n",
    "    best_score = fitness(target, end_point)\n",
    "    \n",
    "    function update_best!(word_set,score)\n",
    "        if score>best_score+ϵ #scores are negative\n",
    "            best_score=score\n",
    "            best_word_set = word_set\n",
    "            #println(\"*swap, new set: $word_set $score\")\n",
    "        end\n",
    "    end\n",
    "\n",
    "    for ii in 1:length(initial_word_set)\n",
    "        word_set = initial_word_set[[1:ii-1; ii+1:end]]\n",
    "        sub_endpoint = end_point - LL[:,ii]\n",
    "        subset_score = fitness(LL, target, sub_endpoint)\n",
    "        update_best!(word_set, subset_score)\n",
    "\n",
    "        add_word_set, add_score = greedy_addition(LL, target, word_set, 1) #Try adding just one greedily\n",
    "        update_best!(add_word_set, add_score)\n",
    "    end\n",
    "\n",
    "    best_word_set,best_score\n",
    "        \n",
    "end\n",
    "\n",
    "\n",
    "\n",
    "\n",
    "\n",
    "\n",
    "function double_word_swap_refinement(LL::Matrix{Float64},\n",
    "                              LL2::Matrix{Float64}, LL2_index,\n",
    "                              target::Vector{Float64},\n",
    "                              best_word_set::Vector{Int})\n",
    "    \n",
    "    initial_word_set = copy(best_word_set)\n",
    "    initial_end_point = get_end(LL, initial_word_set)\n",
    "    best_score = fitness(LL, target, best_word_set)\n",
    "    \n",
    "    for ii in 1:length(initial_word_set)\n",
    "        for jj in ii+1:length(initial_word_set)\n",
    "            @inbounds end_point = initial_end_point - LL[:,initial_word_set[ii]] - LL[:,initial_word_set[jj]]\n",
    "            addition_score, addition_index = findmax(score_possible_additions(LL2, target, end_point))\n",
    "            if addition_score>best_score + ϵ\n",
    "                #println(\"+= $(LL2_index[addition_index,:])\")\n",
    "                @inbounds word_subset = initial_word_set[[1:ii-1; ii+1:jj-1; jj+1:end]]\n",
    "                @inbounds best_word_set = [word_subset..., LL2_index[addition_index,:]...]\n",
    "                best_score = addition_score\n",
    "            end\n",
    "        end\n",
    "    end\n",
    "\n",
    "    best_word_set,best_score\n",
    "        \n",
    "end\n",
    "\n",
    "@everywhere function greedy_search(data::Dict, target::Vector{Float64}; rounds=1000, log=false)\n",
    "    get_words(word_iis) = [data[\"indexed_words\"][ii] for ii in word_iis]\n",
    "    \n",
    "    word_iis = Int[]\n",
    "    best_score=-Inf\n",
    "    for round in 1:rounds\n",
    "        word_iis, add_score = greedy_addition(data[\"LL\"], target, word_iis)\n",
    "        @assert add_score >= best_score\n",
    "        log && println(\"POST_ADD_STEP: $add_score $(get_words(word_iis))\")\n",
    "        \n",
    "        if add_score>= 0.0 \n",
    "            best_score = add_score\n",
    "            break \n",
    "        end        \n",
    "        \n",
    "        word_iis, swap_score = word_swap_refinement(data[\"LL\"], target, word_iis)\n",
    "        @assert swap_score >= add_score\n",
    "        log && println(\"POST_SWAP_STEP: $swap_score $(get_words(word_iis))\")\n",
    "        \n",
    "        \n",
    "        if swap_score==best_score || swap_score>=0.0\n",
    "            break \n",
    "        end       \n",
    "        \n",
    "        best_score=swap_score\n",
    "    end\n",
    "    get_words(word_iis),score,word_iis\n",
    "end\n",
    "\n",
    "\n",
    "\n",
    "@everywhere function greedy_search{S<:AbstractString}(data::Dict, target_sent::Vector{S}; kwargs...)\n",
    "    target::Vector{Float64} = lookup_sowe(data,target_sent)\n",
    "    greedy_search(data, target, kwargs...)\n",
    "end"
   ]
  },
  {
   "cell_type": "code",
   "execution_count": null,
   "metadata": {
    "collapsed": false
   },
   "outputs": [],
   "source": []
  },
  {
   "cell_type": "code",
   "execution_count": null,
   "metadata": {
    "collapsed": false
   },
   "outputs": [],
   "source": [
    "length(LL2_index)"
   ]
  },
  {
   "cell_type": "code",
   "execution_count": null,
   "metadata": {
    "collapsed": false
   },
   "outputs": [],
   "source": [
    "\n",
    "function get_LL2(LL)\n",
    "    LL = data[\"LL\"]\n",
    "    len_LL2 = (size(LL,2).^2  + size(LL,2))÷ 2\n",
    "    LL2_index = Matrix{Int}(len_LL2, 2)\n",
    "    LL2 = Matrix{Float64}(size(LL,1), len_LL2)  .*0 .-1\n",
    "    kk=0\n",
    "    for ii in 1:size(LL,2)\n",
    "        for jj in 1:ii\n",
    "            kk+=1\n",
    "            LL2_index[kk,:] = [ii,jj]\n",
    "            LL2[:,kk] = LL[:,ii]+LL[:,jj]\n",
    "        end\n",
    "    end\n",
    "    LL2, LL2_index\n",
    "end\n"
   ]
  },
  {
   "cell_type": "code",
   "execution_count": null,
   "metadata": {
    "collapsed": false
   },
   "outputs": [],
   "source": [
    "target_sent = test_set[664]\n",
    "println(target_sent)\n",
    "println(\"-------------\")\n",
    "best_words, best_score, best_wordset  = greedy_search(data, target_sent, 1,100, log=true)\n"
   ]
  },
  {
   "cell_type": "code",
   "execution_count": null,
   "metadata": {
    "collapsed": false
   },
   "outputs": [],
   "source": [
    "target_sowe = lookup_sowe(data,target_sent)\n",
    "@time new_best_words, new_best_score =double_word_swap_refinement(LL, LL2, LL2_index, target_sowe, best_wordset)\n"
   ]
  },
  {
   "cell_type": "code",
   "execution_count": null,
   "metadata": {
    "collapsed": false
   },
   "outputs": [],
   "source": [
    "target_sent = test_set[12]\n",
    "println(target_sent)\n",
    "target_sowe = lookup_sowe(data,target_sent)"
   ]
  },
  {
   "cell_type": "code",
   "execution_count": null,
   "metadata": {
    "collapsed": false
   },
   "outputs": [],
   "source": [
    "for ii in 1:10\n",
    "    sample_sowe = (randn!(similar(target_sowe)) + target_sowe)\n",
    "    print(greedy_search(data, sample_sowe, 1,100, log=false)[1])\n",
    "    println(\",\")\n",
    "end"
   ]
  },
  {
   "cell_type": "code",
   "execution_count": null,
   "metadata": {
    "collapsed": false
   },
   "outputs": [],
   "source": []
  },
  {
   "cell_type": "code",
   "execution_count": null,
   "metadata": {
    "collapsed": true
   },
   "outputs": [],
   "source": []
  },
  {
   "cell_type": "code",
   "execution_count": null,
   "metadata": {
    "collapsed": false,
    "scrolled": true
   },
   "outputs": [],
   "source": [
    "res = pmap([1:length(test_set);], test_set) do ii,target_sent\n",
    "    sol, score = greedy_search(data, target_sent, 1, 100, log=false)\n",
    "    (sol, score, ii)\n",
    "end"
   ]
  },
  {
   "cell_type": "code",
   "execution_count": null,
   "metadata": {
    "collapsed": false
   },
   "outputs": [],
   "source": [
    "open(\"atis2_res_glove.jsz\",\"w\") do fh\n",
    "    serialize(fh, (Vector{ASCIIString}[sol for (sol, score, ii) in res], test_set)\n",
    "    )    \n",
    "end\n",
    "\n"
   ]
  },
  {
   "cell_type": "code",
   "execution_count": null,
   "metadata": {
    "collapsed": false
   },
   "outputs": [],
   "source": [
    "se = lookup_sowe(atis_data, [\"flights\",\"serve\",\"lunch\",\"which\"])\n",
    "se=se*0.6\n",
    "greedy_search(atis_data, se, 1, 5, log=false)"
   ]
  },
  {
   "cell_type": "code",
   "execution_count": null,
   "metadata": {
    "collapsed": false,
    "scrolled": true
   },
   "outputs": [],
   "source": [
    "hard_cases = find(x->x[2]<0, res)\n",
    "res[hard_cases]"
   ]
  },
  {
   "cell_type": "code",
   "execution_count": null,
   "metadata": {
    "collapsed": false
   },
   "outputs": [],
   "source": [
    "test_set[hard_cases]"
   ]
  },
  {
   "cell_type": "code",
   "execution_count": null,
   "metadata": {
    "collapsed": false,
    "scrolled": true
   },
   "outputs": [],
   "source": [
    "hard_set =  test_set[hard_cases]\n",
    "\n",
    "hard_res = pmap([1:length(hard_set);], hard_set) do ii,target_sent\n",
    "    sol, score = greedy_search(atis_data, target_sent, 2,5, log=false)\n",
    "    (sol, score, ii)\n",
    "end"
   ]
  },
  {
   "cell_type": "code",
   "execution_count": null,
   "metadata": {
    "collapsed": false
   },
   "outputs": [],
   "source": [
    "very_hard_cases = find(x->x[2]<0.0, hard_res)"
   ]
  },
  {
   "cell_type": "code",
   "execution_count": null,
   "metadata": {
    "collapsed": false
   },
   "outputs": [],
   "source": [
    "factorial(14)"
   ]
  },
  {
   "cell_type": "code",
   "execution_count": null,
   "metadata": {
    "collapsed": false
   },
   "outputs": [],
   "source": [
    "hard_res[very_hard_cases]"
   ]
  },
  {
   "cell_type": "code",
   "execution_count": null,
   "metadata": {
    "collapsed": false
   },
   "outputs": [],
   "source": [
    "\n",
    "\n",
    "for (ii,target_sent) in enumerate(test_set)\n",
    "    sol, score = greedy_search(atis_data, target_sent, log=false)\n",
    "    if score>0\n",
    "        print(\"$ii - \")\n",
    "        println(join(target_sent, \" \"))\n",
    "    end\n",
    "end\n",
    "    "
   ]
  },
  {
   "cell_type": "code",
   "execution_count": null,
   "metadata": {
    "collapsed": false
   },
   "outputs": [],
   "source": [
    "enumerate(test_set) |> collect"
   ]
  },
  {
   "cell_type": "code",
   "execution_count": null,
   "metadata": {
    "collapsed": true
   },
   "outputs": [],
   "source": []
  },
  {
   "cell_type": "code",
   "execution_count": null,
   "metadata": {
    "collapsed": false
   },
   "outputs": [],
   "source": [
    "`git push\"\"` |> run"
   ]
  },
  {
   "cell_type": "code",
   "execution_count": null,
   "metadata": {
    "collapsed": false
   },
   "outputs": [],
   "source": [
    "`git commit -m=\"Removed ants \" -a` |> run"
   ]
  },
  {
   "cell_type": "code",
   "execution_count": null,
   "metadata": {
    "collapsed": true
   },
   "outputs": [],
   "source": []
  }
 ],
 "metadata": {
  "kernelspec": {
   "display_name": "Julia 0.5.0-dev",
   "language": "julia",
   "name": "julia-0.5"
  },
  "language_info": {
   "file_extension": ".jl",
   "mimetype": "application/julia",
   "name": "julia",
   "version": "0.5.0"
  }
 },
 "nbformat": 4,
 "nbformat_minor": 0
}
