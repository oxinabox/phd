{
 "cells": [
  {
   "cell_type": "code",
   "execution_count": 1,
   "metadata": {
    "collapsed": false
   },
   "outputs": [
    {
     "data": {
      "text/plain": [
       "4-element Array{ByteString,1}:\n",
       " \"/home/ubuntu/build/julia-master/usr/local/share/julia/site/v0.5\"\n",
       " \"/home/ubuntu/build/julia-master/usr/share/julia/site/v0.5\"      \n",
       " \".\"                                                              \n",
       " \"../util/\"                                                       "
      ]
     },
     "execution_count": 1,
     "metadata": {},
     "output_type": "execute_result"
    }
   ],
   "source": [
    "using Iterators\n",
    "using Pipe\n",
    "using Compat\n",
    "\n",
    "macro printval(ee)\n",
    "    ee_expr = @sprintf \"%s\" string(ee)\n",
    "    esc(:(println($ee_expr,\" = \", $ee)))\n",
    "end\n",
    "\n",
    "macro pz(ee)\n",
    "    ee_expr = @sprintf \"%s\" string(ee)\n",
    "    esc(:(println($ee_expr,\"\\t\\t\",typeof($ee), \"\\t\", size($ee))))\n",
    "end\n",
    "\n",
    "push!(LOAD_PATH, \".\")\n",
    "push!(LOAD_PATH, \"../util/\")"
   ]
  },
  {
   "cell_type": "code",
   "execution_count": 2,
   "metadata": {
    "collapsed": false
   },
   "outputs": [],
   "source": [
    "#addprocs(11)"
   ]
  },
  {
   "cell_type": "code",
   "execution_count": 3,
   "metadata": {
    "collapsed": false,
    "scrolled": true
   },
   "outputs": [],
   "source": [
    "@everywhere using Distances"
   ]
  },
  {
   "cell_type": "code",
   "execution_count": 4,
   "metadata": {
    "collapsed": false,
    "scrolled": true
   },
   "outputs": [],
   "source": [
    "const START_MARKER = \"**START**\"\n",
    "const END_MARKER = \"**END**\"\n",
    "\n",
    "atis_data = open(\"atis_data.jsz\",\"r\") do fh\n",
    "    deserialize(fh)    \n",
    "end\n",
    "\n",
    "@assert START_MARKER in atis_data[\"indexed_words\"]\n",
    "@assert START_MARKER in keys(atis_data[\"word_indexes\"])\n",
    "@assert END_MARKER in atis_data[\"indexed_words\"]\n",
    "@assert END_MARKER in keys(atis_data[\"word_indexes\"])"
   ]
  },
  {
   "cell_type": "code",
   "execution_count": 5,
   "metadata": {
    "collapsed": false,
    "scrolled": true
   },
   "outputs": [],
   "source": [
    "# τ = Pheromone\n",
    "# η = Prior\n",
    "# α = pheremone weight\n",
    "# β = prior weight\n",
    "# ρ = pheremone evaporation\n",
    "\n",
    "@everywhere @inline function select_index{V<:AbstractVector}(edge_probs::V)\n",
    "    cutoff = rand()\n",
    "    total = 0.0\n",
    "    @assert(length(edge_probs)>0, \"No probs given\")\n",
    "    for (ii,prob) in enumerate(edge_probs)\n",
    "        total+=prob\n",
    "        if total>=cutoff\n",
    "            return ii\n",
    "        end\n",
    "    end\n",
    "    \n",
    "    @assert(total>=cutoff, \"total= $total, cutoff=$cutoff, $edge_probs\") #Should Never Reach this point\n",
    "end\n",
    "\n",
    "\n",
    "@everywhere function evaporate!{M<:AbstractArray}(τ::M, ρ)\n",
    "    τ.*=(1.0-ρ) #Evaporation\n",
    "end\n",
    "\n",
    "    \n",
    "\n",
    "@everywhere function deposit!{M<:AbstractVector}(τ::M, path, fit)\n",
    "    #Are You In or Out?  Double Crosser or Devout\n",
    "    #Order actually means nothing in this problem\n",
    "    #Cooccurance doesn't really many anything either\n",
    "    #Cooccurance is a problem for the prior that need \n",
    "    #to be conerned with all answers not just this one\n",
    "    for node in path\n",
    "        @inbounds τ[node] += fit./length(path)\n",
    "    end\n",
    "    τ\n",
    "end\n",
    "\n",
    "@everywhere function get_edge_probs(τ,η::Function, α, β)\n",
    "    τ_scaled = (τ).^α\n",
    "    function get_prob(state)\n",
    "        η_scaled = (η(state)).^β\n",
    "        tot = τ_scaled .* τ_scaled\n",
    "        tot./sum(tot)\n",
    "    end\n",
    "end\n",
    "\n",
    "@everywhere @inline function select_node(edge_probs::Function, path=[])\n",
    "    select_index(edge_probs(path))\n",
    "end\n"
   ]
  },
  {
   "cell_type": "code",
   "execution_count": 21,
   "metadata": {
    "collapsed": false
   },
   "outputs": [
    {
     "data": {
      "text/plain": [
       "optimise (generic function with 2 methods)"
      ]
     },
     "execution_count": 21,
     "metadata": {},
     "output_type": "execute_result"
    }
   ],
   "source": [
    "#If you pass in a start index of greater than zero, then atre using a starting index, otherswise not\n",
    "@everywhere function run_ant(edge_probs, end_prob_dist)\n",
    "    path = Int[]\n",
    "    len = select_index(end_prob_dist)\n",
    "    for _ in 1:len\n",
    "        push!(path, select_node(edge_probs, path))\n",
    "    end\n",
    "    path    \n",
    "end\n",
    "\n",
    "\n",
    "function optimise(fit_fun, τ, η, end_prob_dist;  α=1, β=1,ρ=0, n_ants=100, n_gens=10, callback=Union{})\n",
    "    assert(α>=1.0)\n",
    "    assert(β>=1.0)\n",
    "    assert(0.0<=ρ<1.0)\n",
    "    \n",
    "    max_fit::Float64 = -Inf;\n",
    "    fittest_path::Vector{Int} = []\n",
    "    \n",
    "    for gen_ii in 1:n_gens\n",
    "\n",
    "        edge_probs = get_edge_probs(τ,η, α, β)\n",
    "\n",
    "        path_fits::Vector{Tuple{Vector{Int},Float64}} = map(1:n_ants) do ant_id\n",
    "            path::Vector{Int} = run_ant(edge_probs, end_prob_dist)\n",
    "            fit::Float64 = fit_fun(path)\n",
    "            (path, fit)\n",
    "        end\n",
    "        \n",
    "        ranked_path_fits = select!(path_fits,1:10, by=pf->-pf[2])\n",
    "        scales = [10,5,5,5,5,2,2,2,1,1]\n",
    "        \n",
    "        evaporate!(τ,ρ)\n",
    "        for ((path, fit),scale) in zip(ranked_path_fits,scales)\n",
    "        #for (path, fit) in path_fits\n",
    "            if fit>max_fit\n",
    "                max_fit = fit\n",
    "                fittest_path = path\n",
    "                \n",
    "                if fit==Inf #Perfect Fit\n",
    "                    return fittest_path, max_fit\n",
    "                end\n",
    "            end\n",
    "            deposit!(τ,path, scale)\n",
    "        end\n",
    "        \n",
    "        if callback |> typeof <:Function\n",
    "            callback(gen_ii, τ,fittest_path,max_fit,path_fits)\n",
    "        end\n",
    "        \n",
    "    end #Next Generation\n",
    "    \n",
    "    fittest_path, max_fit, τ\n",
    "end\n",
    "\n",
    "\n",
    "function optimise(fit_fun, n_dims::Int64, η::Function, end_prob_dist; kwargs...)\n",
    "    τ = [rand() for nn in 1:n_dims]\n",
    "    \n",
    "    optimise(fit_fun, τ, η, end_prob_dist;kwargs...)\n",
    "end\n"
   ]
  },
  {
   "cell_type": "code",
   "execution_count": 22,
   "metadata": {
    "collapsed": false
   },
   "outputs": [
    {
     "data": {
      "text/plain": [
       "get_prior_fun (generic function with 1 method)"
      ]
     },
     "execution_count": 22,
     "metadata": {},
     "output_type": "execute_result"
    }
   ],
   "source": [
    "@fastmath function get_prior_fun(uni_occur,bi_occur)\n",
    "    n_edges=length(uni_occur)\n",
    "    function prior(ws)\n",
    "        if length(ws)==0\n",
    "            uni_occur\n",
    "        elseif length(ws)==1\n",
    "            bi_occur[:,ws[1]]\n",
    "        else\n",
    "            (uni_occur + sum([bi_occur[:,w] for w in ws]))/(length(ws)+1) #Just average them cos its cheap\n",
    "        end\n",
    "    end    \n",
    "end\n"
   ]
  },
  {
   "cell_type": "code",
   "execution_count": 33,
   "metadata": {
    "collapsed": false
   },
   "outputs": [
    {
     "data": {
      "text/plain": [
       "100-element Array{Float64,1}:\n",
       " 10.0      \n",
       "  4.14214  \n",
       "  2.59921  \n",
       "  1.89207  \n",
       "  1.48698  \n",
       "  1.22462  \n",
       "  1.0409   \n",
       "  0.905077 \n",
       "  0.800597 \n",
       "  0.717735 \n",
       "  0.650411 \n",
       "  0.594631 \n",
       "  0.547661 \n",
       "  ⋮        \n",
       "  0.0781858\n",
       "  0.0773137\n",
       "  0.0764609\n",
       "  0.0756266\n",
       "  0.0748104\n",
       "  0.0740116\n",
       "  0.0732297\n",
       "  0.0724641\n",
       "  0.0717144\n",
       "  0.07098  \n",
       "  0.0702605\n",
       "  0.0695555"
      ]
     },
     "execution_count": 33,
     "metadata": {},
     "output_type": "execute_result"
    }
   ],
   "source": [
    "[10*(2^(1/x)-1) for x in 1:100]"
   ]
  },
  {
   "cell_type": "code",
   "execution_count": 24,
   "metadata": {
    "collapsed": false
   },
   "outputs": [
    {
     "data": {
      "text/plain": [
       "lookup_words (generic function with 1 method)"
      ]
     },
     "execution_count": 24,
     "metadata": {},
     "output_type": "execute_result"
    }
   ],
   "source": [
    "function lookup_sowe(data, sent)\n",
    "    sum([data[\"LL\"][:,data[\"word_indexes\"][word]] for word in split(sent)]) \n",
    "end\n",
    "\n",
    "function lookup_words(data, path)\n",
    "    [data[\"indexed_words\"][ii] for ii in path]\n",
    "end"
   ]
  },
  {
   "cell_type": "code",
   "execution_count": 25,
   "metadata": {
    "collapsed": false
   },
   "outputs": [
    {
     "data": {
      "text/plain": [
       "built_optimise (generic function with 4 methods)"
      ]
     },
     "execution_count": 25,
     "metadata": {},
     "output_type": "execute_result"
    }
   ],
   "source": [
    "function built_optimise(data::Dict, target_sent::AbstractString, log=False; kwargs...)\n",
    "    target::Vector{Float64} = lookup_sowe(data,target_sent)\n",
    "    built_optimise(data, target, log; kwargs...)\n",
    "end\n",
    "\n",
    "function built_optimise(data::Dict, target::AbstractVector, log=False; kwargs...)\n",
    "    LL =data[\"LL\"]\n",
    "    indexed_words=data[\"indexed_words\"]\n",
    "    @inline function fitness(path)\n",
    "        #Fitter is larger\n",
    "        @inbounds path_end = sum([LL[:,ii] for ii in path]) \n",
    "        (1.0/euclidean(path_end, target))/length(path)\n",
    "    end\n",
    "    \n",
    "    τlog=[]\n",
    "    if log\n",
    "        log = (gen_ii, τ,fittest_path,max_fit, path_fits) -> begin\n",
    "            print(\"oGen: $gen_ii - fit: $max_fit \")\n",
    "            #print(lookup_words(data, fittest_path))\n",
    "            path_lens = [length(pf[1]) for pf in path_fits]\n",
    "            print(\"mean_len = $(mean(path_lens))\")\n",
    "            print(\" max_len = $(maximum(path_lens))\")\n",
    "            println()\n",
    "            push!(τlog,copy(τ))\n",
    "            \n",
    "        end\n",
    "    end\n",
    "    \n",
    "    length_dist = data[\"length_prob\"]\n",
    "    #length_dist = ws->0.5\n",
    "    prior = get_prior_fun(data[\"unioccur\"], data[\"bioccur\"])\n",
    "    \n",
    "    n_dims = size(LL,2)\n",
    "    path, score, τ = optimise(fitness,n_dims, prior, length_dist; callback=log, kwargs...)\n",
    "    push!(τlog,τ)\n",
    "    score,lookup_words(data, path), τlog\n",
    "end"
   ]
  },
  {
   "cell_type": "code",
   "execution_count": 26,
   "metadata": {
    "collapsed": false,
    "scrolled": true
   },
   "outputs": [
    {
     "name": "stdout",
     "output_type": "stream",
     "text": [
      "oGen: 1 - fit: 0.18625147694876484 mean_len = 10.23 max_len = 24\n",
      "oGen: 2 - fit: 0.37058687583307776 mean_len = 9.42 max_len = 22\n",
      "oGen: 3 - fit: 0.37058687583307776 mean_len = 10.16 max_len = 26\n",
      "oGen: 4 - fit: 0.37058687583307776 mean_len = 9.37 max_len = 22\n",
      "oGen: 5 - fit: 0.37058687583307776 mean_len = 9.76 max_len = 27\n",
      "oGen: 6 - fit: 0.37058687583307776 mean_len = 9.23 max_len = 29\n",
      "oGen: 7 - fit: 0.37058687583307776 mean_len = 10.19 max_len = 48\n",
      "oGen: 8 - fit: 0.37058687583307776 mean_len = 10.08 max_len = 29\n",
      "oGen: 9 - fit: 0.37058687583307776 mean_len = 10.06 max_len = 28\n",
      "oGen: 10 - fit: 0.37058687583307776 mean_len = 9.31"
     ]
    },
    {
     "data": {
      "text/plain": [
       "1-element Array{Any,1}:\n",
       " \"but\""
      ]
     },
     "execution_count": 26,
     "metadata": {},
     "output_type": "execute_result"
    },
    {
     "name": "stdout",
     "output_type": "stream",
     "text": [
      " max_len = 32\n",
      "  1.934872 seconds (911.71 k allocations: 1.301 GB, 14.15% gc time)\n"
     ]
    }
   ],
   "source": [
    "@time score, words, τlog = built_optimise(atis_data,\"what is the shortest flight\", true;\n",
    "α=3, β=1, ρ=0.3, n_ants=100, n_gens=10);\n",
    "words"
   ]
  },
  {
   "cell_type": "code",
   "execution_count": 27,
   "metadata": {
    "collapsed": false,
    "scrolled": true
   },
   "outputs": [
    {
     "data": {
      "text/plain": [
       "             ┌────────────────────────────────────────┐ \n",
       "         but │▪▪▪▪▪▪▪▪▪▪▪▪▪▪▪▪▪▪▪▪▪ 5.859659553518819 │ \n",
       "     section │▪▪▪▪▪▪▪▪▪▪▪▪▪▪▪▪▪▪▪▪▪ 5.823603291624304 │ \n",
       "      period │▪▪▪▪▪▪▪▪▪▪▪▪ 3.487016453541801          │ \n",
       "    computer │▪▪▪▪▪▪▪▪▪▪▪▪ 3.4860504219368402         │ \n",
       "        rate │▪▪▪▪▪▪▪▪▪▪▪▪ 3.4814091970935426         │ \n",
       "       being │▪▪▪▪▪▪▪▪▪▪▪▪ 3.4424183267444017         │ \n",
       "         got │▪▪▪▪▪▪▪▪▪▪▪▪ 3.4391509836051632         │ \n",
       "     renting │▪▪▪▪▪▪▪▪▪▪▪▪ 3.2320867462969405         │ \n",
       "    stopover │▪▪▪▪▪▪▪▪▪ 2.521801723349646             │ \n",
       "    provided │▪▪▪▪▪▪▪▪▪ 2.5198436205674444            │ \n",
       "      answer │▪▪▪▪▪▪▪▪▪ 2.4304628565774564            │ \n",
       "    breaking │▪▪▪▪▪▪▪ 1.8362689725628474              │ \n",
       "     hundred │▪▪▪▪▪▪ 1.611735739055153                │ \n",
       "   frankfurt │▪▪▪▪▪▪ 1.5646103300598875               │ \n",
       "    tomorrow │▪▪▪▪▪ 1.5260654506508966                │ \n",
       "    economic │▪▪▪▪▪ 1.5143283396081455                │ \n",
       "         and │▪▪▪▪▪ 1.5068483152237153                │ \n",
       "        here │▪▪▪▪▪ 1.482613617790171                 │ \n",
       "   locations │▪▪▪▪▪ 1.4491844419610576                │ \n",
       "       large │▪▪▪▪▪ 1.388217694663925                 │ \n",
       "             └────────────────────────────────────────┘ \n"
      ]
     },
     "metadata": {},
     "output_type": "display_data"
    },
    {
     "data": {
      "text/plain": [
       "             ┌────────────────────────────────────────┐ \n",
       "         but │▪▪▪▪▪▪▪▪▪▪▪▪▪▪▪▪▪▪▪▪ 28.359659553518817 │ \n",
       "     section │▪▪▪▪▪▪▪▪▪▪▪▪▪ 18.323603291624302        │ \n",
       "        rate │▪▪▪ 4.731409197093543                   │ \n",
       "    computer │▪▪▪ 3.9860504219368402                  │ \n",
       "    provided │▪▪▪ 3.7698436205674444                  │ \n",
       "      period │▪▪ 3.487016453541801                    │ \n",
       "       being │▪▪ 3.4424183267444017                   │ \n",
       "         got │▪▪ 3.4391509836051632                   │ \n",
       "     renting │▪▪ 3.2320867462969405                   │ \n",
       "    stopover │▪▪ 2.521801723349646                    │ \n",
       "      answer │▪▪ 2.4304628565774564                   │ \n",
       "    breaking │▪ 1.8362689725628474                    │ \n",
       "     hundred │▪ 1.611735739055153                     │ \n",
       "   frankfurt │▪ 1.5646103300598875                    │ \n",
       "    tomorrow │▪ 1.5260654506508966                    │ \n",
       "    economic │▪ 1.5143283396081455                    │ \n",
       "         and │▪ 1.5068483152237153                    │ \n",
       "        here │▪ 1.482613617790171                     │ \n",
       "   locations │▪ 1.4491844419610576                    │ \n",
       "       large │▪ 1.388217694663925                     │ \n",
       "             └────────────────────────────────────────┘ \n"
      ]
     },
     "metadata": {},
     "output_type": "display_data"
    },
    {
     "data": {
      "text/plain": [
       "             ┌────────────────────────────────────────┐ \n",
       "         but │▪▪▪▪▪▪▪▪▪▪▪▪▪▪▪▪▪▪▪▪ 63.059659553518834 │ \n",
       "     section │▪▪▪▪▪▪▪ 21.6236032916243                │ \n",
       "        rate │▪▪ 4.731409197093543                    │ \n",
       "    computer │▪ 3.9860504219368402                    │ \n",
       "    provided │▪ 3.7698436205674444                    │ \n",
       "      period │▪ 3.487016453541801                     │ \n",
       "       being │▪ 3.4424183267444017                    │ \n",
       "         got │▪ 3.4391509836051632                    │ \n",
       "     renting │▪ 3.2320867462969405                    │ \n",
       "    stopover │▪ 2.521801723349646                     │ \n",
       "      answer │▪ 2.4304628565774564                    │ \n",
       "    breaking │▪ 1.8362689725628474                    │ \n",
       "     hundred │▪ 1.611735739055153                     │ \n",
       "   frankfurt │ 1.5646103300598875                     │ \n",
       "    tomorrow │ 1.5260654506508966                     │ \n",
       "    economic │ 1.5143283396081455                     │ \n",
       "         and │ 1.5068483152237153                     │ \n",
       "        here │ 1.482613617790171                      │ \n",
       "   locations │ 1.4491844419610576                     │ \n",
       "       large │ 1.388217694663925                      │ \n",
       "             └────────────────────────────────────────┘ \n"
      ]
     },
     "metadata": {},
     "output_type": "display_data"
    },
    {
     "data": {
      "text/plain": [
       "             ┌────────────────────────────────────────┐ \n",
       "         but │▪▪▪▪▪▪▪▪▪▪▪▪▪▪▪▪▪▪▪▪▪ 101.0596595535189 │ \n",
       "     section │▪▪▪▪ 21.6236032916243                   │ \n",
       "        rate │▪ 4.731409197093543                     │ \n",
       "    computer │▪ 3.9860504219368402                    │ \n",
       "    provided │▪ 3.7698436205674444                    │ \n",
       "      period │▪ 3.487016453541801                     │ \n",
       "       being │▪ 3.4424183267444017                    │ \n",
       "         got │▪ 3.4391509836051632                    │ \n",
       "     renting │▪ 3.2320867462969405                    │ \n",
       "    stopover │▪ 2.521801723349646                     │ \n",
       "      answer │▪ 2.4304628565774564                    │ \n",
       "    breaking │ 1.8362689725628474                     │ \n",
       "     hundred │ 1.611735739055153                      │ \n",
       "   frankfurt │ 1.5646103300598875                     │ \n",
       "    tomorrow │ 1.5260654506508966                     │ \n",
       "    economic │ 1.5143283396081455                     │ \n",
       "         and │ 1.5068483152237153                     │ \n",
       "        here │ 1.482613617790171                      │ \n",
       "   locations │ 1.4491844419610576                     │ \n",
       "       large │ 1.388217694663925                      │ \n",
       "             └────────────────────────────────────────┘ \n"
      ]
     },
     "metadata": {},
     "output_type": "display_data"
    },
    {
     "data": {
      "text/plain": [
       "             ┌────────────────────────────────────────┐ \n",
       "         but │▪▪▪▪▪▪▪▪▪▪▪▪▪▪▪▪▪▪▪▪▪ 139.0596595535189 │ \n",
       "     section │▪▪▪ 21.6236032916243                    │ \n",
       "        rate │▪ 4.731409197093543                     │ \n",
       "    computer │▪ 3.9860504219368402                    │ \n",
       "    provided │▪ 3.7698436205674444                    │ \n",
       "      period │▪ 3.487016453541801                     │ \n",
       "       being │▪ 3.4424183267444017                    │ \n",
       "         got │▪ 3.4391509836051632                    │ \n",
       "     renting │ 3.2320867462969405                     │ \n",
       "    stopover │ 2.521801723349646                      │ \n",
       "      answer │ 2.4304628565774564                     │ \n",
       "    breaking │ 1.8362689725628474                     │ \n",
       "     hundred │ 1.611735739055153                      │ \n",
       "   frankfurt │ 1.5646103300598875                     │ \n",
       "    tomorrow │ 1.5260654506508966                     │ \n",
       "    economic │ 1.5143283396081455                     │ \n",
       "         and │ 1.5068483152237153                     │ \n",
       "        here │ 1.482613617790171                      │ \n",
       "   locations │ 1.4491844419610576                     │ \n",
       "       large │ 1.388217694663925                      │ \n",
       "             └────────────────────────────────────────┘ \n"
      ]
     },
     "metadata": {},
     "output_type": "display_data"
    },
    {
     "data": {
      "text/plain": [
       "             ┌────────────────────────────────────────┐ \n",
       "         but │▪▪▪▪▪▪▪▪▪▪▪▪▪▪▪▪▪▪▪▪ 177.05965955351877 │ \n",
       "     section │▪▪ 21.6236032916243                     │ \n",
       "        rate │▪ 4.731409197093543                     │ \n",
       "    computer │ 3.9860504219368402                     │ \n",
       "    provided │ 3.7698436205674444                     │ \n",
       "      period │ 3.487016453541801                      │ \n",
       "       being │ 3.4424183267444017                     │ \n",
       "         got │ 3.4391509836051632                     │ \n",
       "     renting │ 3.2320867462969405                     │ \n",
       "    stopover │ 2.521801723349646                      │ \n",
       "      answer │ 2.4304628565774564                     │ \n",
       "    breaking │ 1.8362689725628474                     │ \n",
       "     hundred │ 1.611735739055153                      │ \n",
       "   frankfurt │ 1.5646103300598875                     │ \n",
       "    tomorrow │ 1.5260654506508966                     │ \n",
       "    economic │ 1.5143283396081455                     │ \n",
       "         and │ 1.5068483152237153                     │ \n",
       "        here │ 1.482613617790171                      │ \n",
       "   locations │ 1.4491844419610576                     │ \n",
       "       large │ 1.388217694663925                      │ \n",
       "             └────────────────────────────────────────┘ \n"
      ]
     },
     "metadata": {},
     "output_type": "display_data"
    },
    {
     "data": {
      "text/plain": [
       "             ┌────────────────────────────────────────┐ \n",
       "         but │▪▪▪▪▪▪▪▪▪▪▪▪▪▪▪▪▪▪▪▪ 215.05965955351866 │ \n",
       "     section │▪▪ 21.6236032916243                     │ \n",
       "        rate │ 4.731409197093543                      │ \n",
       "    computer │ 3.9860504219368402                     │ \n",
       "    provided │ 3.7698436205674444                     │ \n",
       "      period │ 3.487016453541801                      │ \n",
       "       being │ 3.4424183267444017                     │ \n",
       "         got │ 3.4391509836051632                     │ \n",
       "     renting │ 3.2320867462969405                     │ \n",
       "    stopover │ 2.521801723349646                      │ \n",
       "      answer │ 2.4304628565774564                     │ \n",
       "    breaking │ 1.8362689725628474                     │ \n",
       "     hundred │ 1.611735739055153                      │ \n",
       "   frankfurt │ 1.5646103300598875                     │ \n",
       "    tomorrow │ 1.5260654506508966                     │ \n",
       "    economic │ 1.5143283396081455                     │ \n",
       "         and │ 1.5068483152237153                     │ \n",
       "        here │ 1.482613617790171                      │ \n",
       "   locations │ 1.4491844419610576                     │ \n",
       "       large │ 1.388217694663925                      │ \n",
       "             └────────────────────────────────────────┘ \n"
      ]
     },
     "metadata": {},
     "output_type": "display_data"
    },
    {
     "data": {
      "text/plain": [
       "             ┌────────────────────────────────────────┐ \n",
       "         but │▪▪▪▪▪▪▪▪▪▪▪▪▪▪▪▪▪▪▪▪ 253.05965955351863 │ \n",
       "     section │▪▪ 21.6236032916243                     │ \n",
       "        rate │ 4.731409197093543                      │ \n",
       "    computer │ 3.9860504219368402                     │ \n",
       "    provided │ 3.7698436205674444                     │ \n",
       "      period │ 3.487016453541801                      │ \n",
       "       being │ 3.4424183267444017                     │ \n",
       "         got │ 3.4391509836051632                     │ \n",
       "     renting │ 3.2320867462969405                     │ \n",
       "    stopover │ 2.521801723349646                      │ \n",
       "      answer │ 2.4304628565774564                     │ \n",
       "    breaking │ 1.8362689725628474                     │ \n",
       "     hundred │ 1.611735739055153                      │ \n",
       "   frankfurt │ 1.5646103300598875                     │ \n",
       "    tomorrow │ 1.5260654506508966                     │ \n",
       "    economic │ 1.5143283396081455                     │ \n",
       "         and │ 1.5068483152237153                     │ \n",
       "        here │ 1.482613617790171                      │ \n",
       "   locations │ 1.4491844419610576                     │ \n",
       "       large │ 1.388217694663925                      │ \n",
       "             └────────────────────────────────────────┘ \n"
      ]
     },
     "metadata": {},
     "output_type": "display_data"
    },
    {
     "data": {
      "text/plain": [
       "             ┌────────────────────────────────────────┐ \n",
       "         but │▪▪▪▪▪▪▪▪▪▪▪▪▪▪▪▪▪▪▪▪▪ 291.0596595535188 │ \n",
       "     section │▪▪ 21.6236032916243                     │ \n",
       "        rate │ 4.731409197093543                      │ \n",
       "    computer │ 3.9860504219368402                     │ \n",
       "    provided │ 3.7698436205674444                     │ \n",
       "      period │ 3.487016453541801                      │ \n",
       "       being │ 3.4424183267444017                     │ \n",
       "         got │ 3.4391509836051632                     │ \n",
       "     renting │ 3.2320867462969405                     │ \n",
       "    stopover │ 2.521801723349646                      │ \n",
       "      answer │ 2.4304628565774564                     │ \n",
       "    breaking │ 1.8362689725628474                     │ \n",
       "     hundred │ 1.611735739055153                      │ \n",
       "   frankfurt │ 1.5646103300598875                     │ \n",
       "    tomorrow │ 1.5260654506508966                     │ \n",
       "    economic │ 1.5143283396081455                     │ \n",
       "         and │ 1.5068483152237153                     │ \n",
       "        here │ 1.482613617790171                      │ \n",
       "   locations │ 1.4491844419610576                     │ \n",
       "       large │ 1.388217694663925                      │ \n",
       "             └────────────────────────────────────────┘ \n"
      ]
     },
     "metadata": {},
     "output_type": "display_data"
    },
    {
     "data": {
      "text/plain": [
       "             ┌────────────────────────────────────────┐ \n",
       "         but │▪▪▪▪▪▪▪▪▪▪▪▪▪▪▪▪▪▪▪▪▪ 329.0596595535191 │ \n",
       "     section │▪ 21.6236032916243                      │ \n",
       "        rate │ 4.731409197093543                      │ \n",
       "    computer │ 3.9860504219368402                     │ \n",
       "    provided │ 3.7698436205674444                     │ \n",
       "      period │ 3.487016453541801                      │ \n",
       "       being │ 3.4424183267444017                     │ \n",
       "         got │ 3.4391509836051632                     │ \n",
       "     renting │ 3.2320867462969405                     │ \n",
       "    stopover │ 2.521801723349646                      │ \n",
       "      answer │ 2.4304628565774564                     │ \n",
       "    breaking │ 1.8362689725628474                     │ \n",
       "     hundred │ 1.611735739055153                      │ \n",
       "   frankfurt │ 1.5646103300598875                     │ \n",
       "    tomorrow │ 1.5260654506508966                     │ \n",
       "    economic │ 1.5143283396081455                     │ \n",
       "         and │ 1.5068483152237153                     │ \n",
       "        here │ 1.482613617790171                      │ \n",
       "   locations │ 1.4491844419610576                     │ \n",
       "       large │ 1.388217694663925                      │ \n",
       "             └────────────────────────────────────────┘ \n"
      ]
     },
     "metadata": {},
     "output_type": "display_data"
    },
    {
     "data": {
      "text/plain": [
       "             ┌────────────────────────────────────────┐ \n",
       "         but │▪▪▪▪▪▪▪▪▪▪▪▪▪▪▪▪▪▪▪▪▪ 329.0596595535191 │ \n",
       "     section │▪ 21.6236032916243                      │ \n",
       "        rate │ 4.731409197093543                      │ \n",
       "    computer │ 3.9860504219368402                     │ \n",
       "    provided │ 3.7698436205674444                     │ \n",
       "      period │ 3.487016453541801                      │ \n",
       "       being │ 3.4424183267444017                     │ \n",
       "         got │ 3.4391509836051632                     │ \n",
       "     renting │ 3.2320867462969405                     │ \n",
       "    stopover │ 2.521801723349646                      │ \n",
       "      answer │ 2.4304628565774564                     │ \n",
       "    breaking │ 1.8362689725628474                     │ \n",
       "     hundred │ 1.611735739055153                      │ \n",
       "   frankfurt │ 1.5646103300598875                     │ \n",
       "    tomorrow │ 1.5260654506508966                     │ \n",
       "    economic │ 1.5143283396081455                     │ \n",
       "         and │ 1.5068483152237153                     │ \n",
       "        here │ 1.482613617790171                      │ \n",
       "   locations │ 1.4491844419610576                     │ \n",
       "       large │ 1.388217694663925                      │ \n",
       "             └────────────────────────────────────────┘ \n"
      ]
     },
     "metadata": {},
     "output_type": "display_data"
    }
   ],
   "source": [
    "using UnicodePlots\n",
    "using IJulia\n",
    "\n",
    "for τ in τlog\n",
    "    nw = zip(τ,atis_data[\"indexed_words\"]) |> collect\n",
    "    \n",
    "    freq,name = zip(select!(nw, 1:min(20,length(nw)), by=fw->-fw[1])...) |> collect\n",
    "    IJulia.display(barplot(name|> collect,freq|> collect))\n",
    "end\n"
   ]
  },
  {
   "cell_type": "code",
   "execution_count": null,
   "metadata": {
    "collapsed": false
   },
   "outputs": [],
   "source": [
    "using UnicodePlots"
   ]
  },
  {
   "cell_type": "code",
   "execution_count": null,
   "metadata": {
    "collapsed": false
   },
   "outputs": [],
   "source": [
    "[lookup_sowe(atis_data, \"washington washington\") lookup_sowe(atis_data, \"washington\")]\n"
   ]
  },
  {
   "cell_type": "code",
   "execution_count": null,
   "metadata": {
    "collapsed": false
   },
   "outputs": [],
   "source": [
    "atis_data[\"unioccur\"][atis_data[\"word_indexes\"][\"show\"]]"
   ]
  },
  {
   "cell_type": "code",
   "execution_count": null,
   "metadata": {
    "collapsed": false
   },
   "outputs": [],
   "source": [
    "atis_data[\"unioccur\"][atis_data[\"word_indexes\"][\"showed\"]]"
   ]
  },
  {
   "cell_type": "code",
   "execution_count": null,
   "metadata": {
    "collapsed": false
   },
   "outputs": [],
   "source": []
  },
  {
   "cell_type": "code",
   "execution_count": null,
   "metadata": {
    "collapsed": true
   },
   "outputs": [],
   "source": []
  },
  {
   "cell_type": "code",
   "execution_count": null,
   "metadata": {
    "collapsed": true
   },
   "outputs": [],
   "source": [
    "#Fast Splitting\n",
    "subset_indexes_for_len = Dict{Int,Vector{Vector{Bool}}}()\n",
    "function nonempty_subset_splits{T}(xs::Vector{T})\n",
    "    K = length(xs)\n",
    "    ss ::Vector{Vector{Bool}} = if haskey(subset_indexes_for_len,K)\n",
    "            subset_indexes_for_len[K]\n",
    "         else \n",
    "            subset_indexes_for_len[K] = Vector{Bool}[collect(pr) for (_,pr) in  zip(1:(K^2)/2, product([(true,false) for k in 1:K]...))][2:end]\n",
    "            subset_indexes_for_len[K]\n",
    "         end\n",
    "\n",
    "    Tuple{Vector{T},Vector{T}}[(xs[bb],xs[~bb]) for bb in ss]\n",
    "end\n",
    "\n",
    "function nonempty_subset_splits(xs)\n",
    "    nonempty_subset_splits(collect(xs))\n",
    "end\n",
    "\n",
    "\n",
    "\n",
    "function pairwise(pp)\n",
    "    Task() do \n",
    "        for ii in 2:2:length(pp)\n",
    "            produce((pp[ii-1],pp[ii]))\n",
    "        end\n",
    "        if isodd(length(pp))\n",
    "            produce(pp[end]) \n",
    "        end\n",
    "    end\n",
    "end\n",
    "\n",
    "_partions_of_pairs_indexes=Dict{Vector{Int64},Vector{Vector{Int64}}}()\n",
    "function partions_of_pairs_indexes{Int64}(xs::Vector{Int64})\n",
    "    if !haskey(_partions_of_pairs_indexes, xs)\n",
    "        _partions_of_pairs_indexes[xs] = \n",
    "            if length(xs)<=2\n",
    "                Vector{Int64}[xs]\n",
    "            else\n",
    "                rets = Vector{Vector{Int64}}()\n",
    "                sizehint!(rets, length(xs)^div(length(xs),2))\n",
    "                for i1 in 1:length(xs-1)\n",
    "                    for i2 in i1+1:length(xs)\n",
    "                        head = (xs[[i1,i2]])\n",
    "                        tails = partions_of_pairs_indexes(xs[[1:i1-1;i1+1:i2-1;i2+1:end]])\n",
    "\n",
    "                        for tail in tails\n",
    "                                push!(rets, [head; tail])\n",
    "                            end\n",
    "                        end\n",
    "                end\n",
    "                rets\n",
    "            end\n",
    "    end\n",
    "    _partions_of_pairs_indexes[xs] \n",
    "end\n",
    "\n",
    "function partions_of_pairs(xs::Vector{Int64})\n",
    "    partions_of_pairs_indexes(xs)\n",
    "end\n",
    "#Fast Splitting\n",
    "subset_indexes_for_len = Dict{Int,Vector{Vector{Bool}}}()\n",
    "function nonempty_subset_splits{T}(xs::Vector{T})\n",
    "    K = length(xs)\n",
    "    ss ::Vector{Vector{Bool}} = if haskey(subset_indexes_for_len,K)\n",
    "            subset_indexes_for_len[K]\n",
    "         else \n",
    "            subset_indexes_for_len[K] = Vector{Bool}[collect(pr) for (_,pr) in  zip(1:(K^2)/2, product([(true,false) for k in 1:K]...))][2:end]\n",
    "            subset_indexes_for_len[K]\n",
    "         end\n",
    "\n",
    "    Tuple{Vector{T},Vector{T}}[(xs[bb],xs[~bb]) for bb in ss]\n",
    "end\n",
    "\n",
    "function nonempty_subset_splits(xs)\n",
    "    nonempty_subset_splits(collect(xs))\n",
    "end\n",
    "\n",
    "\n",
    "\n",
    "function pairwise(pp)\n",
    "    Task() do \n",
    "        for ii in 2:2:length(pp)\n",
    "            produce((pp[ii-1],pp[ii]))\n",
    "        end\n",
    "        if isodd(length(pp))\n",
    "            produce(pp[end]) \n",
    "        end\n",
    "    end\n",
    "end\n",
    "\n",
    "_partions_of_pairs_indexes=Dict{Vector{Int64},Vector{Vector{Int64}}}()\n",
    "function partions_of_pairs_indexes{Int64}(xs::Vector{Int64})\n",
    "    if !haskey(_partions_of_pairs_indexes, xs)\n",
    "        _partions_of_pairs_indexes[xs] = \n",
    "            if length(xs)<=2\n",
    "                Vector{Int64}[xs]\n",
    "            else\n",
    "                rets = Vector{Vector{Int64}}()\n",
    "                sizehint!(rets, length(xs)^div(length(xs),2))\n",
    "                for i1 in 1:length(xs-1)\n",
    "                    for i2 in i1+1:length(xs)\n",
    "                        head = (xs[[i1,i2]])\n",
    "                        tails = partions_of_pairs_indexes(xs[[1:i1-1;i1+1:i2-1;i2+1:end]])\n",
    "\n",
    "                        for tail in tails\n",
    "                                push!(rets, [head; tail])\n",
    "                            end\n",
    "                        end\n",
    "                end\n",
    "                rets\n",
    "            end\n",
    "    end\n",
    "    _partions_of_pairs_indexes[xs] \n",
    "end\n",
    "\n",
    "function partions_of_pairs(xs::Vector{Int64})\n",
    "    partions_of_pairs_indexes(xs)\n",
    "end\n"
   ]
  },
  {
   "cell_type": "code",
   "execution_count": null,
   "metadata": {
    "collapsed": false
   },
   "outputs": [],
   "source": [
    "using DataStructures\n",
    "using DataStructuresExtended\n",
    "\n",
    "\n",
    "@fastmath function get_prior_fun(uni_occur, bi_joint, prob_length, end_index)\n",
    "    n_edges=length(uni_occur)\n",
    "    bi_marginal = sum(bi_joint,1)\n",
    "    bi_conditional = bi_joint./bi_marginal\n",
    "  \n",
    "    \n",
    "    @inline function joint(aa::Int64)\n",
    "        @inbounds ret = bi_marginal[aa]\n",
    "        ret\n",
    "    end\n",
    "    \n",
    "    @inline function joint(aa::Int64,bb::Int64)\n",
    "        @inbounds ret = bi_joint[aa, bb]\n",
    "        ret\n",
    "    end\n",
    "    \n",
    "    joint_cache_stats = Dict([(\"hits\",0), (\"misses\",0)])\n",
    "    joint_cache = Dict{Accumulator{Int64,Int64}, Float64}() #TODO Should Use a multiset instead to index\n",
    "    @inline function joint(xxs...) \n",
    "        @assert(length(xxs)>=3)\n",
    "        xxs_bag = counter(Int64, xxs) \n",
    "        if !(haskey(joint_cache,xxs_bag))\n",
    "            joint_cache_stats[\"misses\"]+=1\n",
    "            #Full calc\n",
    "            joint_cache[xxs_bag] = mean(Float64[(joint(aas...)*joint(bbs...)) for (aas,bbs) in  nonempty_subset_splits(xxs)])\n",
    "            \n",
    "            \n",
    "        else\n",
    "            joint_cache_stats[\"hits\"]+=1\n",
    "        end\n",
    "        joint_cache[xxs_bag]\n",
    "    end\n",
    "    \n",
    "    conditional_occurance::Function\n",
    "    @inbounds function conditional_occurance(ws::Vector{Int64})\n",
    "        if length(ws) == 0\n",
    "            uni_occur\n",
    "        elseif length(ws)==1\n",
    "            bi_conditional[:,ws[1]]\n",
    "        else\n",
    "            Float64[joint(aa,ws...) for aa in 1:n_edges]./joint(ws...)\n",
    "        end\n",
    "    end\n",
    "    \n",
    "    function prior(ws)\n",
    "        if  length(ws) > length(prob_length) #If it is longer than the tail of length distro, just force temrination\n",
    "            force_end_pmf = zeros(n_edges) #This PMF forces the sentence to end, if it is returned\n",
    "            @inbounds force_end_pmf[end_index]=1.0\n",
    "            force_end_pmf\n",
    "        else \n",
    "            #Either do not end (P=1-P_end) or end (P=P_end)\n",
    "            #prob_end = prob_length[length(ws)]   #Chance to end at this length\n",
    "            prob_end=0.0\n",
    "            prob_occurance::Vector{Float64} = conditional_occurance(ws)\n",
    "            \n",
    "            choices_prob = (1.0-prob_end).*prob_occurance\n",
    "            #@inbounds choices_prob[end_index]=prob_end\n",
    "            choices_prob\n",
    "        end \n",
    "    end\n",
    "    prior,joint_cache_stats\n",
    "end\n",
    "\n",
    "function get_prior_fun(data::Dict)\n",
    "    get_prior_fun(data[\"unioccur\"],data[\"bioccur\"], data[\"length_prob\"], data[\"word_indexes\"][END_MARKER])\n",
    "end"
   ]
  },
  {
   "cell_type": "code",
   "execution_count": null,
   "metadata": {
    "collapsed": false
   },
   "outputs": [],
   "source": [
    "atis_prior,atis_prior_cache_stats = get_prior_fun(atis_data)\n",
    "r = @time atis_prior(Int64[1,2,5,4,5,6,7]) #9.335965 seconds\n",
    "println(atis_prior_cache_stats)\n",
    "r"
   ]
  },
  {
   "cell_type": "code",
   "execution_count": null,
   "metadata": {
    "collapsed": true
   },
   "outputs": [],
   "source": []
  },
  {
   "cell_type": "code",
   "execution_count": null,
   "metadata": {
    "collapsed": true
   },
   "outputs": [],
   "source": []
  },
  {
   "cell_type": "code",
   "execution_count": null,
   "metadata": {
    "collapsed": false
   },
   "outputs": [],
   "source": []
  },
  {
   "cell_type": "code",
   "execution_count": null,
   "metadata": {
    "collapsed": false
   },
   "outputs": [],
   "source": [
    "optimise(atis_data,\"what is the shortest flight\", 1, 1, 0.1, 10000,20)"
   ]
  },
  {
   "cell_type": "code",
   "execution_count": null,
   "metadata": {
    "collapsed": false
   },
   "outputs": [],
   "source": [
    "optimise(atis_data,\"what is the first flight from washington to washington\", 1, 1, 0.1, 10000,20)"
   ]
  },
  {
   "cell_type": "code",
   "execution_count": null,
   "metadata": {
    "collapsed": false
   },
   "outputs": [],
   "source": [
    "optimise(atis_data,\"what are the ground transport options\", 1, 1, 0.1, 1000,20)"
   ]
  },
  {
   "cell_type": "code",
   "execution_count": null,
   "metadata": {
    "collapsed": false
   },
   "outputs": [],
   "source": [
    "optimise(atis_data,\"where can i go\", 1, 1, 0.1, 1000,20)"
   ]
  },
  {
   "cell_type": "code",
   "execution_count": null,
   "metadata": {
    "collapsed": false
   },
   "outputs": [],
   "source": [
    "atis_data[\"word_indexes\"][START_MARKER]\n",
    "    "
   ]
  },
  {
   "cell_type": "code",
   "execution_count": null,
   "metadata": {
    "collapsed": false
   },
   "outputs": [],
   "source": [
    "`git push\"\"` |> run"
   ]
  },
  {
   "cell_type": "code",
   "execution_count": null,
   "metadata": {
    "collapsed": false
   },
   "outputs": [],
   "source": [
    "`git commit -m=\"\" -a` |> run"
   ]
  },
  {
   "cell_type": "code",
   "execution_count": null,
   "metadata": {
    "collapsed": true
   },
   "outputs": [],
   "source": []
  }
 ],
 "metadata": {
  "kernelspec": {
   "display_name": "Julia 0.5.0-dev",
   "language": "julia",
   "name": "julia-0.5"
  },
  "language_info": {
   "file_extension": ".jl",
   "mimetype": "application/julia",
   "name": "julia",
   "version": "0.5.0"
  }
 },
 "nbformat": 4,
 "nbformat_minor": 0
}
