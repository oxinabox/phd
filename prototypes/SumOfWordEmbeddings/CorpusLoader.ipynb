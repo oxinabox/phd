{
 "cells": [
  {
   "cell_type": "code",
   "execution_count": 1,
   "metadata": {
    "collapsed": false
   },
   "outputs": [
    {
     "name": "stderr",
     "output_type": "stream",
     "text": [
      "WARNING: Base.Uint8 is deprecated, use UInt8 instead.\n",
      "WARNING: Base.Uint8 is deprecated, use UInt8 instead.\n",
      "WARNING: Base.Uint8 is deprecated, use UInt8 instead.\n",
      "WARNING: Base.Uint8 is deprecated, use UInt8 instead.\n",
      "WARNING: Base.Uint8 is deprecated, use UInt8 instead.\n",
      "WARNING: Base.Uint8 is deprecated, use UInt8 instead.\n",
      "WARNING: Base.Uint8 is deprecated, use UInt8 instead.\n",
      "WARNING: Base.Uint8 is deprecated, use UInt8 instead.\n",
      "WARNING: Base.Uint8 is deprecated, use UInt8 instead.\n",
      "WARNING: Base.Uint8 is deprecated, use UInt8 instead.\n",
      "WARNING: Base.Uint8 is deprecated, use UInt8 instead.\n",
      "WARNING: Base.Uint8 is deprecated, use UInt8 instead.\n",
      "WARNING: Base.Uint8 is deprecated, use UInt8 instead.\n",
      "WARNING: Base.Uint8 is deprecated, use UInt8 instead.\n",
      "WARNING: Base.Uint8 is deprecated, use UInt8 instead.\n"
     ]
    },
    {
     "data": {
      "text/plain": [
       "3-element Array{ByteString,1}:\n",
       " \"/home/ubuntu/build/julia-master/usr/local/share/julia/site/v0.5\"\n",
       " \"/home/ubuntu/build/julia-master/usr/share/julia/site/v0.5\"      \n",
       " \".\"                                                              "
      ]
     },
     "execution_count": 1,
     "metadata": {},
     "output_type": "execute_result"
    }
   ],
   "source": [
    "using Iterators\n",
    "using DataStructures\n",
    "using Pipe\n",
    "using Compat\n",
    "\n",
    "macro printval(ee)\n",
    "    ee_expr = @sprintf \"%s\" string(ee)\n",
    "    esc(:(println($ee_expr,\" = \", $ee)))\n",
    "end\n",
    "\n",
    "macro pz(ee)\n",
    "    ee_expr = @sprintf \"%s\" string(ee)\n",
    "    esc(:(println($ee_expr,\"\\t\\t\",typeof($ee), \"\\t\", size($ee))))\n",
    "end\n",
    "\n",
    "push!(LOAD_PATH, \".\")"
   ]
  },
  {
   "cell_type": "code",
   "execution_count": 2,
   "metadata": {
    "collapsed": false
   },
   "outputs": [
    {
     "data": {
      "text/plain": [
       "freq2prob (generic function with 1 method)"
      ]
     },
     "execution_count": 2,
     "metadata": {},
     "output_type": "execute_result"
    }
   ],
   "source": [
    "using DataStructures\n",
    "\n",
    "function Base.sum(acc::Accumulator)\n",
    "    sum(values(acc.map))\n",
    "end\n",
    "\n",
    "function freq2prob{T,V<:Number}(acc::Accumulator{T,V})\n",
    "    ret=Dict{T,Float64}()\n",
    "    total = sum(acc)\n",
    "    for (k,v) in acc\n",
    "        ret[k]=v/total\n",
    "    end\n",
    "    ret\n",
    "end"
   ]
  },
  {
   "cell_type": "code",
   "execution_count": null,
   "metadata": {
    "collapsed": true
   },
   "outputs": [],
   "source": []
  },
  {
   "cell_type": "code",
   "execution_count": null,
   "metadata": {
    "collapsed": false
   },
   "outputs": [],
   "source": []
  },
  {
   "cell_type": "code",
   "execution_count": null,
   "metadata": {
    "collapsed": false
   },
   "outputs": [],
   "source": []
  },
  {
   "cell_type": "code",
   "execution_count": 3,
   "metadata": {
    "collapsed": false
   },
   "outputs": [
    {
     "data": {
      "text/plain": [
       "clean (generic function with 1 method)"
      ]
     },
     "execution_count": 3,
     "metadata": {},
     "output_type": "execute_result"
    }
   ],
   "source": [
    "function clean(ss)\n",
    "    @pipe (ss \n",
    "    |> replace(_, r\"\\[.*?\\] ?\",\"\")  #Remove Nonword sounds\n",
    "    |> replace(_, r\"\\<.*?\\> \",\"\")  #Remove Verbal Deltions\n",
    "    |> replace(_, r\"\\*(.*?)\\*\",s\"\\1\") #Remove mispronounciation marks\n",
    "    |> replace(_,r\"\\:|\\-\\s\\.\\s\\-\", \"\") #remove intraword pauses\n",
    "    |> replace(_,r\"\\w+\\- \",\"\") #remove stuttered words\n",
    "    |> replace(_, r\"[!\\.,\\?]\",\"\")        #Remove punctation as it is not used traditionally (see sro spec)\n",
    "    \n",
    "    |> replace(_, r\"\\s+\",' ') #Remove repeated spaces\n",
    "    #|> replace(_, r\"([A-Z])\\s([A-Z])\", s\"\\1\\2\") #Merge len(2) abbrev\n",
    "    |> replace(_, r\".*[~\\(\\)\\-\\<\\>#'].*\",\"\")#Remove everything if anything unfixable found\n",
    "    |> lowercase\n",
    "    |> strip \n",
    "    )\n",
    "end\n"
   ]
  },
  {
   "cell_type": "code",
   "execution_count": 4,
   "metadata": {
    "collapsed": false
   },
   "outputs": [
    {
     "data": {
      "text/plain": [
       "collect_grams_stats (generic function with 2 methods)"
      ]
     },
     "execution_count": 4,
     "metadata": {},
     "output_type": "execute_result"
    }
   ],
   "source": [
    "const START_MARKER = \"**START**\"\n",
    "const END_MARKER = \"**END**\"\n",
    "\n",
    "function collect_grams_stats(sentences, norm=true)\n",
    "    unigrams = counter(AbstractString)\n",
    "    bigrams = DefaultDict(()->counter(AbstractString))\n",
    "    \n",
    "    for sent in sentences\n",
    "        push!(bigrams[START_MARKER], sent[1])\n",
    "        for ii in 1:length(sent)-1\n",
    "            push!(unigrams,sent[ii])\n",
    "            push!(bigrams[sent[ii]], sent[ii+1])    \n",
    "        end\n",
    "        push!(unigrams,sent[end])\n",
    "        push!(bigrams[sent[end]], END_MARKER)\n",
    "    end\n",
    "    \n",
    "    if norm\n",
    "        [k=>freq2prob(v) for (k,v) in bigrams], freq2prob(unigrams)\n",
    "    else\n",
    "        [k=>v.map for (k,v) in bigrams], unigrams.map\n",
    "    end\n",
    "end"
   ]
  },
  {
   "cell_type": "code",
   "execution_count": 5,
   "metadata": {
    "collapsed": false
   },
   "outputs": [
    {
     "data": {
      "text/plain": [
       "1131"
      ]
     },
     "execution_count": 5,
     "metadata": {},
     "output_type": "execute_result"
    }
   ],
   "source": [
    "path=\"../../Resources/corpora/atis2_text/\"\n",
    "function valid(ss)\n",
    "    typeof(ss) <: ASCIIString  && length(ss)>0\n",
    "end\n",
    "    \n",
    "corpus = @pipe readdir(path) |> filter!(fn -> splitext(fn)[2]==\".sro\", _) |> map(_) do fn\n",
    "    try open(readall, path*fn) end\n",
    "    end |> filter!(valid,_) |> map(clean,_) |> filter!(valid,_) |> map(s->split(s),_);\n",
    "corpus_vocab = @pipe corpus |> map(Set,_) |> reduce(union,_)\n",
    "length(corpus_vocab)"
   ]
  },
  {
   "cell_type": "code",
   "execution_count": 6,
   "metadata": {
    "collapsed": false
   },
   "outputs": [],
   "source": [
    "using WordEmbeddings\n",
    "LL, word_indexes, indexed_words = load_word2vec_embeddings(\"word_emb_data/GoogleNews-vectors-negative300.bin\", length(corpus_vocab), corpus_vocab);"
   ]
  },
  {
   "cell_type": "code",
   "execution_count": 7,
   "metadata": {
    "collapsed": false
   },
   "outputs": [
    {
     "data": {
      "text/plain": [
       "300x1117 Array{Float64,2}:\n",
       "  0.0529562  -0.00851202  …   0.0656386    -0.0548293   0.0  0.0\n",
       "  0.0654598  -0.0342245      -0.0860691     0.0239878   0.0  0.0\n",
       "  0.0661953   0.0322839      -0.00994359   -0.0190492   0.0  0.0\n",
       "  0.0470722   0.0458679       0.0804181     0.0826471   0.0  0.0\n",
       "  0.0522207  -0.0131429       0.00717243    0.0620861   0.0  0.0\n",
       " -0.0820086  -0.0462207   …   0.0376009     0.0465646   0.0  0.0\n",
       " -0.0614145  -0.00094823     -0.0634651    -0.0786156   0.0  0.0\n",
       " -0.11621    -0.0522188       0.0436866    -0.0516041   0.0  0.0\n",
       "  0.0156294   0.0465735      -0.0669426     0.00902063  0.0  0.0\n",
       "  0.0992929   0.0624509       0.120845      0.0364857   0.0  0.0\n",
       " -0.0856861  -0.122785    …   0.00863951    0.0395094   0.0  0.0\n",
       " -0.028133   -0.0287556      -0.039557     -0.0588609   0.0  0.0\n",
       "  0.0522207   0.0515131      -0.126061     -0.0903071   0.0  0.0\n",
       "  ⋮                       ⋱                             ⋮       \n",
       " -0.0318105   0.0294613      -0.0539019    -0.0199563   0.0  0.0\n",
       "  0.0181118   0.0211698      -0.000122257   0.00942379  0.0  0.0\n",
       " -0.127242   -0.0163184   …   0.05651       0.0262052   0.0  0.0\n",
       " -0.0669308   0.00269033     -0.02293      -0.00876866  0.0  0.0\n",
       " -0.060679   -0.0596282       0.0469468     0.0336636   0.0  0.0\n",
       "  0.048911    0.0589226       0.0376009     0.0701493   0.0  0.0\n",
       "  0.0461528   0.00573348      0.00237722    0.0939355   0.0  0.0\n",
       " -0.0356719   0.00034456  …  -0.0491203    -0.033462    0.0  0.0\n",
       " -0.0443141   0.0133193      -0.0569447    -0.0284225   0.0  0.0\n",
       " -0.0358558   0.0515131      -0.072159     -0.104821    0.0  0.0\n",
       "  0.0108946  -0.0252273      -0.0371662    -0.0342683   0.0  0.0\n",
       " -0.0470722   0.0174651       0.0246688     0.0624893   0.0  0.0"
      ]
     },
     "execution_count": 7,
     "metadata": {},
     "output_type": "execute_result"
    },
    {
     "name": "stderr",
     "output_type": "stream",
     "text": [
      "WARNING: Base.Uint8 is deprecated, use UInt8 instead.\n",
      "WARNING: Base.Uint8 is deprecated, use UInt8 instead.\n",
      "WARNING: Base.Uint8 is deprecated, use UInt8 instead.\n",
      "WARNING: Base.Uint8 is deprecated, use UInt8 instead.\n",
      "WARNING: Base.Uint8 is deprecated, use UInt8 instead.\n",
      "WARNING: Base.Uint8 is deprecated, use UInt8 instead.\n"
     ]
    }
   ],
   "source": [
    "@assert(!(START_MARKER in indexed_words))\n",
    "push!(indexed_words, START_MARKER)\n",
    "word_indexes[START_MARKER] = length(indexed_words)\n",
    "\n",
    "@assert(!(END_MARKER in indexed_words))\n",
    "push!(indexed_words, END_MARKER)\n",
    "word_indexes[END_MARKER] = length(indexed_words)\n",
    "LL = [LL zeros(size(LL,1),2)]"
   ]
  },
  {
   "cell_type": "code",
   "execution_count": 8,
   "metadata": {
    "collapsed": false
   },
   "outputs": [],
   "source": [
    "known_vocab = Set(indexed_words)\n",
    "known_corpus = filter(corpus) do sent\n",
    "    for word in sent\n",
    "        if !( word in known_vocab)\n",
    "            return false\n",
    "        end\n",
    "    end\n",
    "    true\n",
    "end;"
   ]
  },
  {
   "cell_type": "code",
   "execution_count": 9,
   "metadata": {
    "code_folding": [],
    "collapsed": false
   },
   "outputs": [
    {
     "data": {
      "text/plain": [
       "sgtZ (generic function with 1 method)"
      ]
     },
     "execution_count": 9,
     "metadata": {},
     "output_type": "execute_result"
    }
   ],
   "source": [
    "using StatsBase\n",
    "# modified from https://github.com/JoFrhwld/GoodTuring.jl/blob/master/GoodTuring.jl\n",
    "function simpleGoodTuring(speciesCountDict::Dict)\n",
    "    speciesCountVec = collect(values(speciesCountDict))\n",
    "        \n",
    "    totalCounts = sum(speciesCountVec)\n",
    "    cofcDict = countmap(speciesCountVec)\n",
    "    r = sort(collect(keys(cofcDict)))\n",
    "\n",
    "    N = size(r,1)\n",
    "    Nr = [cofcDict[r[i]] for i in 1:N]\n",
    "\n",
    "    p0 = haskey(cofcDict, 1.0) ? cofcDict[1.0] / totalCounts : 0.0\n",
    "    \n",
    "    Z = sgtZ(r,Nr)\n",
    "    logr = map(log,r)\n",
    "    logZ = map(log,Z)\n",
    "\n",
    "    X = hcat(ones(N), logr)\n",
    "    Y = copy(logZ )\n",
    "    coefs = X\\Y\n",
    "    intercept = coefs[1]\n",
    "    slope = coefs[2]\n",
    "\n",
    "    useY = false\n",
    "    rSmooth = Array{Float64}(N)\n",
    "    for i in 1:N\n",
    "        @inbounds thisr = r[i]\n",
    "        \n",
    "        #y = ((thisr+1.0)^(slope+1.0))/(thisr^slope)\n",
    "        #The above is the much simplified form of the below (Performance identical output differs by 10^-16)\n",
    "        y = (thisr+1.0) * exp(slope * log(thisr+1.0) + intercept) / exp(slope * log(thisr) + intercept)\n",
    "\n",
    "        if !in(thisr+1, r)\n",
    "            useY = true\n",
    "        end\n",
    "\n",
    "        if useY\n",
    "            rSmooth[i] = y\n",
    "        else\n",
    "            x = (thisr+1) * cofcDict[thisr + 1]/cofcDict[thisr]\n",
    "            thisNr = cofcDict[thisr]\n",
    "            thisNr1 = cofcDict[thisr+1]\n",
    "\n",
    "            t = 1.96 * ((thisr+1)^2) * (thisNr1 / thisNr^2) * (1 + (thisNr1 / thisNr))\n",
    "\n",
    "            if abs(x-y) > t\n",
    "                @inbounds rSmooth[i] = x\n",
    "            else\n",
    "                useY = true\n",
    "                @inbounds rSmooth[i] = y\n",
    "            end\n",
    "        end\n",
    "    end\n",
    "\n",
    "    smoothTot = sum(Nr.*rSmooth)\n",
    "    sgtProb  = (1.0 - p0) .* (rSmooth/smoothTot)\n",
    "    sgtProbDict = Dict([r[i] => sgtProb[i] for i in 1:N])\n",
    "    sgtDict = Dict([sp=>sgtProbDict[speciesCountDict[sp]] for sp in keys(speciesCountDict)])\n",
    "\n",
    "    sgtDict, sgtProbDict, p0\n",
    "end\n",
    "\n",
    "\n",
    "function sgtZ(r::Array, Nr::Array)\n",
    "    j = r\n",
    "    i = [0; j[1:end-1]]\n",
    "    lastK = 2*j[end] - i[end]\n",
    "    k = [j[2:end]; lastK]\n",
    "    Float64[(2*Nr[iter])/(k[iter]-i[iter]) for iter = 1:length(j)]\n",
    "end\n"
   ]
  },
  {
   "cell_type": "code",
   "execution_count": 10,
   "metadata": {
    "collapsed": false
   },
   "outputs": [
    {
     "data": {
      "text/plain": [
       "katz_bigrams (generic function with 1 method)"
      ]
     },
     "execution_count": 10,
     "metadata": {},
     "output_type": "execute_result"
    }
   ],
   "source": [
    "\n",
    "function katz_bigrams(bigram_freq, unigrams_freq)\n",
    "    k_bigrams = Dict()\n",
    "    \n",
    "    for first in keys(bigram_freq)\n",
    "        smoothed,_,p0 = simpleGoodTuring(bigram_freq[first])\n",
    "        k_bigrams[first] = smoothed\n",
    "        \n",
    "        backoff_keys = setdiff(keys(unigram_freq),keys(smoothed))\n",
    "        #share the p0 proability mass between them\n",
    "        total = sum([unigrams_freq[key] for key in backoff_keys])\n",
    "        for second in backoff_keys\n",
    "            k_bigrams[first][second]=p0.*unigrams_freq[second]./total\n",
    "        end\n",
    "    end\n",
    "    k_bigrams\n",
    "end"
   ]
  },
  {
   "cell_type": "code",
   "execution_count": 11,
   "metadata": {
    "collapsed": false
   },
   "outputs": [
    {
     "data": {
      "text/plain": [
       "Dict{Any,Any} with 753 entries:\n",
       "  \"limousines\"  => Dict{AbstractString,Any}(\"limousines\"=>9.568767542740494e-5,…\n",
       "  \"loop\"        => Dict{AbstractString,Any}(\"limousines\"=>9.556270506163794e-5,…\n",
       "  \"null\"        => Dict{AbstractString,Any}(\"limousines\"=>9.808088403570144e-5,…\n",
       "  \"regular\"     => Dict{AbstractString,Any}(\"limousines\"=>9.58926002876778e-5,\"…\n",
       "  \"schedule\"    => Dict{AbstractString,Any}(\"limousines\"=>3.091402466252189e-5,…\n",
       "  \"during\"      => Dict{AbstractString,Any}(\"limousines\"=>0.0001006745192791704…\n",
       "  \"wondering\"   => Dict{AbstractString,Any}(\"limousines\"=>9.598464245720684e-5,…\n",
       "  \"irrelevant\"  => Dict{AbstractString,Any}(\"limousines\"=>9.897723523589574e-5,…\n",
       "  \"plan\"        => Dict{AbstractString,Any}(\"limousines\"=>9.808088403570144e-5,…\n",
       "  \"those\"       => Dict{AbstractString,Any}(\"limousines\"=>2.264629506612718e-5,…\n",
       "  \"carriers\"    => Dict{AbstractString,Any}(\"limousines\"=>9.556270506163794e-5,…\n",
       "  \"rather\"      => Dict{AbstractString,Any}(\"limousines\"=>9.57090445047057e-5,\"…\n",
       "  \"destination\" => Dict{AbstractString,Any}(\"limousines\"=>9.585277014505719e-5,…\n",
       "  \"these\"       => Dict{AbstractString,Any}(\"limousines\"=>1.696341331017262e-5,…\n",
       "  \"november\"    => Dict{AbstractString,Any}(\"limousines\"=>2.25202400657591e-5,\"…\n",
       "  \"least\"       => Dict{AbstractString,Any}(\"limousines\"=>3.3751476627102435e-6…\n",
       "  \"us\"          => Dict{AbstractString,Any}(\"limousines\"=>9.808088403570144e-5,…\n",
       "  \"either\"      => Dict{AbstractString,Any}(\"limousines\"=>9.966446297465201e-5,…\n",
       "  \"francisco\"   => Dict{AbstractString,Any}(\"limousines\"=>1.58547219630585e-5,\"…\n",
       "  \"scheduled\"   => Dict{AbstractString,Any}(\"limousines\"=>9.710937752889003e-5,…\n",
       "  \"possible\"    => Dict{AbstractString,Any}(\"limousines\"=>3.9976014391365186e-5…\n",
       "  \"response\"    => Dict{AbstractString,Any}(\"limousines\"=>9.806805923310778e-5,…\n",
       "  \"fun\"         => Dict{AbstractString,Any}(\"limousines\"=>9.556574923547401e-5,…\n",
       "  \"scratch\"     => Dict{AbstractString,Any}(\"limousines\"=>0.0,\"loop\"=>0.0,\"null…\n",
       "  \"above\"       => Dict{AbstractString,Any}(\"limousines\"=>9.580073447229762e-5,…\n",
       "  ⋮             => ⋮"
      ]
     },
     "execution_count": 11,
     "metadata": {},
     "output_type": "execute_result"
    }
   ],
   "source": [
    "bigram_freq, unigram_freq = collect_grams_stats(known_corpus,false);\n",
    "kbigrams=katz_bigrams(bigram_freq, unigram_freq)"
   ]
  },
  {
   "cell_type": "code",
   "execution_count": 12,
   "metadata": {
    "collapsed": true
   },
   "outputs": [],
   "source": [
    "bigrams, unigrams = collect_grams_stats(known_corpus);"
   ]
  },
  {
   "cell_type": "code",
   "execution_count": 13,
   "metadata": {
    "collapsed": false
   },
   "outputs": [
    {
     "data": {
      "text/plain": [
       "2.227339596503655e-6"
      ]
     },
     "execution_count": 13,
     "metadata": {},
     "output_type": "execute_result"
    }
   ],
   "source": [
    "function likelyhood(sent, bigrams)\n",
    "    words = split(sent)\n",
    "    words = [START_MARKER; words; END_MARKER]\n",
    "    \n",
    "    p=1.0\n",
    "    for ii in 1:length(words)-1\n",
    "        p*=bigrams[words[ii]][words[ii+1]]\n",
    "    end\n",
    "    p\n",
    "end\n",
    "likelyhood(\"what are the ground transport\", bigrams)"
   ]
  },
  {
   "cell_type": "code",
   "execution_count": 14,
   "metadata": {
    "collapsed": false
   },
   "outputs": [
    {
     "name": "stdout",
     "output_type": "stream",
     "text": [
      "list those flights leave boston from san francisco\t3"
     ]
    }
   ],
   "source": [
    "function select_word{S<:AbstractString,V<:Number}(unigrams::Dict{S,V})\n",
    "    cutoff = rand()\n",
    "    total = 0.0\n",
    "    for next_word in keys(unigrams)\n",
    "        total+=unigrams[next_word]\n",
    "        if total>=cutoff\n",
    "            return next_word\n",
    "        end\n",
    "    end\n",
    "    assert(False, \"Should never reach here\") \n",
    "end\n",
    "\n",
    "function random_walk(bigrams)\n",
    "    words=[]\n",
    "    cur = START_MARKER\n",
    "    while(cur!=END_MARKER)\n",
    "        cur = select_word(bigrams[cur])\n",
    "        push!(words,cur)\n",
    "    end\n",
    "    words = words[1:end-1]\n",
    "    join(words, \" \")\n",
    "end\n",
    "walk =random_walk(bigrams) \n",
    "print(walk*\"\\t\")\n",
    "print(likelyhood(walk,kbigrams))"
   ]
  },
  {
   "cell_type": "code",
   "execution_count": null,
   "metadata": {
    "collapsed": true
   },
   "outputs": [],
   "source": []
  },
  {
   "cell_type": "code",
   "execution_count": 15,
   "metadata": {
    "collapsed": false
   },
   "outputs": [
    {
     "data": {
      "text/plain": [
       "bigrams_dict2mat (generic function with 2 methods)"
      ]
     },
     "execution_count": 15,
     "metadata": {},
     "output_type": "execute_result"
    }
   ],
   "source": [
    "function bigrams_dict2mat(bigrams::Dict, word_indexes::Dict{AbstractString,Int64}, dense=False)\n",
    "    mat  = (dense ? zeros: spzeros)(length(word_indexes),length(word_indexes))\n",
    "    for first in keys(bigrams)\n",
    "        for second in keys(bigrams[first])\n",
    "            mat[word_indexes[second], word_indexes[first]] = bigrams[first][second]\n",
    "        end\n",
    "    end\n",
    "    mat\n",
    "end"
   ]
  },
  {
   "cell_type": "code",
   "execution_count": 16,
   "metadata": {
    "collapsed": false
   },
   "outputs": [],
   "source": [
    "#bigrams, unigrams = collect_grams_stats(known_corpus);\n",
    "#bigram_mat = bigrams_dict2mat(bigrams, word_indexes)"
   ]
  },
  {
   "cell_type": "code",
   "execution_count": 17,
   "metadata": {
    "collapsed": false
   },
   "outputs": [
    {
     "data": {
      "text/plain": [
       "1117x1117 Array{Float64,2}:\n",
       " 0.00058826   0.00155313   0.0025072    …  0.0  0.00266888   0.00450161   0.0\n",
       " 0.000582436  0.00337239   0.00118728      0.0  0.00631926   0.000333665  0.0\n",
       " 0.0077247    0.0213303    0.00158872      0.0  0.00631926   0.000946355  0.0\n",
       " 0.000934227  0.00246655   0.0108999       0.0  0.0042385    0.0233828    0.0\n",
       " 0.000938886  0.00247886   0.00400159      0.0  0.0646614    0.0063889    0.0\n",
       " 6.29031e-5   0.000166077  0.000268097  …  0.0  0.000285385  0.000257788  0.0\n",
       " 1.16487e-6   3.0755e-6    4.96475e-6      0.0  5.28491e-6   1.92168e-6   0.0\n",
       " 5.82436e-6   1.53775e-5   0.00118728      0.0  2.64245e-5   9.60841e-6   0.0\n",
       " 0.136584     0.0676306    0.00782777      0.0  0.00631926   0.00617917   0.0\n",
       " 0.00013163   0.00080584   0.000561017     0.0  0.0153623    0.000946355  0.0\n",
       " 1.63082e-5   4.30571e-5   6.95065e-5   …  0.0  7.39887e-5   0.000333665  0.0\n",
       " 1.39785e-5   3.6906e-5    5.9577e-5       0.0  6.34189e-5   2.30602e-5   0.0\n",
       " 5.00895e-5   0.000132247  0.000213484     0.0  0.000227251  8.26324e-5   0.0\n",
       " ⋮                                      ⋱                    ⋮               \n",
       " 0.0          0.0          0.0          …  0.0  0.0          0.0          0.0\n",
       " 0.0          0.0          0.0             0.0  0.0          0.0          0.0\n",
       " 0.0          0.0          0.0             0.0  0.0          0.0          0.0\n",
       " 0.0          0.0          0.0             0.0  0.0          0.0          0.0\n",
       " 0.0          0.0          0.0             0.0  0.0          0.0          0.0\n",
       " 1.16487e-6   3.0755e-6    4.96475e-6   …  0.0  5.28491e-6   1.92168e-6   0.0\n",
       " 0.0          0.0          0.0             0.0  0.0          0.0          0.0\n",
       " 2.32974e-6   6.15101e-6   9.9295e-6       0.0  1.05698e-5   3.84337e-6   0.0\n",
       " 0.0          0.0          0.0             0.0  0.0          0.0          0.0\n",
       " 0.000110663  0.000292173  0.000471651     0.0  0.000502066  0.00018256   0.0\n",
       " 0.0          0.0          0.0          …  0.0  0.0          0.0          0.0\n",
       " 0.00967535   0.0394384    0.146714        0.0  0.579804     0.0          0.0"
      ]
     },
     "execution_count": 17,
     "metadata": {},
     "output_type": "execute_result"
    },
    {
     "name": "stdout",
     "output_type": "stream",
     "text": [
      ".079353973670225e-10"
     ]
    }
   ],
   "source": [
    "kbigrams_mat = bigrams_dict2mat(kbigrams,word_indexes,true)\n"
   ]
  },
  {
   "cell_type": "code",
   "execution_count": 18,
   "metadata": {
    "collapsed": false
   },
   "outputs": [
    {
     "data": {
      "text/plain": [
       "\"down\""
      ]
     },
     "execution_count": 18,
     "metadata": {},
     "output_type": "execute_result"
    }
   ],
   "source": [
    "iis = findnz(sum(kbigrams_mat,1).==0.0)[2]\n",
    "indexed_words[iis[3]]"
   ]
  },
  {
   "cell_type": "code",
   "execution_count": 19,
   "metadata": {
    "collapsed": false
   },
   "outputs": [],
   "source": [
    "open(\"atis_data.jsz\",\"w\") do fh\n",
    "    data = Dict([\n",
    "        (\"bigrams\", kbigrams_mat),\n",
    "        (\"LL\",LL),\n",
    "        (\"word_indexes\", word_indexes),\n",
    "        (\"indexed_words\", indexed_words),\n",
    "        ])\n",
    "    serialize(fh, data)    \n",
    "end"
   ]
  },
  {
   "cell_type": "code",
   "execution_count": null,
   "metadata": {
    "collapsed": true
   },
   "outputs": [],
   "source": []
  }
 ],
 "metadata": {
  "kernelspec": {
   "display_name": "Julia 0.5.0-dev",
   "language": "julia",
   "name": "julia-0.5"
  },
  "language_info": {
   "file_extension": ".jl",
   "mimetype": "application/julia",
   "name": "julia",
   "version": "0.5.0"
  }
 },
 "nbformat": 4,
 "nbformat_minor": 0
}
