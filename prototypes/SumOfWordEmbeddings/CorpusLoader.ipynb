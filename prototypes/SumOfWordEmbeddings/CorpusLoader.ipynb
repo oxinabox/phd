{
 "cells": [
  {
   "cell_type": "code",
   "execution_count": 1,
   "metadata": {
    "collapsed": false
   },
   "outputs": [
    {
     "name": "stderr",
     "output_type": "stream",
     "text": [
      "WARNING: Base.Uint8 is deprecated, use UInt8 instead.\n",
      "WARNING: Base.Uint8 is deprecated, use UInt8 instead.\n",
      "WARNING: Base.Uint8 is deprecated, use UInt8 instead.\n",
      "WARNING: Base.Uint8 is deprecated, use UInt8 instead.\n",
      "WARNING: Base.Uint8 is deprecated, use UInt8 instead.\n",
      "WARNING: Base.Uint8 is deprecated, use UInt8 instead.\n",
      "WARNING: Base.Uint8 is deprecated, use UInt8 instead.\n",
      "WARNING: Base.Uint8 is deprecated, use UInt8 instead.\n",
      "WARNING: Base.Uint8 is deprecated, use UInt8 instead.\n",
      "WARNING: Base.Uint8 is deprecated, use UInt8 instead.\n",
      "WARNING: Base.Uint8 is deprecated, use UInt8 instead.\n",
      "WARNING: Base.Uint8 is deprecated, use UInt8 instead.\n",
      "WARNING: Base.Uint8 is deprecated, use UInt8 instead.\n",
      "WARNING: Base.Uint8 is deprecated, use UInt8 instead.\n",
      "WARNING: Base.Uint8 is deprecated, use UInt8 instead.\n"
     ]
    },
    {
     "data": {
      "text/plain": [
       "3-element Array{ByteString,1}:\n",
       " \"/home/ubuntu/build/julia-master/usr/local/share/julia/site/v0.5\"\n",
       " \"/home/ubuntu/build/julia-master/usr/share/julia/site/v0.5\"      \n",
       " \".\"                                                              "
      ]
     },
     "execution_count": 1,
     "metadata": {},
     "output_type": "execute_result"
    }
   ],
   "source": [
    "using Iterators\n",
    "using DataStructures\n",
    "using Pipe\n",
    "using Compat\n",
    "\n",
    "macro printval(ee)\n",
    "    ee_expr = @sprintf \"%s\" string(ee)\n",
    "    esc(:(println($ee_expr,\" = \", $ee)))\n",
    "end\n",
    "\n",
    "macro pz(ee)\n",
    "    ee_expr = @sprintf \"%s\" string(ee)\n",
    "    esc(:(println($ee_expr,\"\\t\\t\",typeof($ee), \"\\t\", size($ee))))\n",
    "end\n",
    "\n",
    "push!(LOAD_PATH, \".\")"
   ]
  },
  {
   "cell_type": "code",
   "execution_count": 2,
   "metadata": {
    "collapsed": false
   },
   "outputs": [
    {
     "data": {
      "text/plain": [
       "freq2prob (generic function with 1 method)"
      ]
     },
     "execution_count": 2,
     "metadata": {},
     "output_type": "execute_result"
    }
   ],
   "source": [
    "using DataStructures\n",
    "\n",
    "function Base.sum(acc::Accumulator)\n",
    "    sum(values(acc.map))\n",
    "end\n",
    "\n",
    "function freq2prob{T,V<:Number}(acc::Accumulator{T,V})\n",
    "    ret=Dict{T,Float64}()\n",
    "    total = sum(acc)\n",
    "    for (k,v) in acc\n",
    "        ret[k]=v/total\n",
    "    end\n",
    "    ret\n",
    "end"
   ]
  },
  {
   "cell_type": "code",
   "execution_count": 3,
   "metadata": {
    "collapsed": false
   },
   "outputs": [
    {
     "ename": "LoadError",
     "evalue": "LoadError: UndefVarError: uu not defined\nwhile loading In[3], in expression starting on line 1",
     "output_type": "error",
     "traceback": [
      "LoadError: UndefVarError: uu not defined\nwhile loading In[3], in expression starting on line 1",
      ""
     ]
    }
   ],
   "source": [
    "freq2prob(uu)"
   ]
  },
  {
   "cell_type": "code",
   "execution_count": null,
   "metadata": {
    "collapsed": true
   },
   "outputs": [],
   "source": []
  },
  {
   "cell_type": "code",
   "execution_count": 4,
   "metadata": {
    "collapsed": false
   },
   "outputs": [
    {
     "data": {
      "text/plain": [
       "\"../../Resources/corpora/atis2_text/\""
      ]
     },
     "execution_count": 4,
     "metadata": {},
     "output_type": "execute_result"
    }
   ],
   "source": [
    "path = \"../../Resources/corpora/atis2_text/\""
   ]
  },
  {
   "cell_type": "code",
   "execution_count": 5,
   "metadata": {
    "collapsed": false
   },
   "outputs": [
    {
     "data": {
      "text/plain": [
       "\"List only the flights that leave before eight *A* M\\n\""
      ]
     },
     "execution_count": 5,
     "metadata": {},
     "output_type": "execute_result"
    }
   ],
   "source": [
    "ss1=path*readdir(path)[10100\n",
    "    ] |> readall"
   ]
  },
  {
   "cell_type": "code",
   "execution_count": 6,
   "metadata": {
    "collapsed": false
   },
   "outputs": [
    {
     "data": {
      "text/plain": [
       "clean (generic function with 1 method)"
      ]
     },
     "execution_count": 6,
     "metadata": {},
     "output_type": "execute_result"
    }
   ],
   "source": [
    "function clean(ss)\n",
    "    @pipe (ss \n",
    "    |> replace(_, r\"\\[.*?\\] ?\",\"\")  #Remove Nonword sounds\n",
    "    |> replace(_, r\"\\<.*?\\> \",\"\")  #Remove Verbal Deltions\n",
    "    |> replace(_, r\"\\*(.*?)\\*\",s\"\\1\") #Remove mispronounciation marks\n",
    "    |> replace(_,r\"\\:|\\-\\s\\.\\s\\-\", \"\") #remove intraword pauses\n",
    "    |> replace(_,r\"\\w+\\- \",\"\") #remove stuttered words\n",
    "    |> replace(_, r\"[!\\.,\\?]\",\"\")        #Remove punctation as it is not used traditionally (see sro spec)\n",
    "    \n",
    "    |> replace(_, r\"\\s+\",' ') #Remove repeated spaces\n",
    "    #|> replace(_, r\"([A-Z])\\s([A-Z])\", s\"\\1\\2\") #Merge len(2) abbrev\n",
    "    |> replace(_, r\".*[~\\(\\)\\-\\<\\>#'].*\",\"\")#Remove everything if anything unfixable found\n",
    "    |> lowercase\n",
    "    |> strip \n",
    "    )\n",
    "end\n"
   ]
  },
  {
   "cell_type": "code",
   "execution_count": 7,
   "metadata": {
    "collapsed": false
   },
   "outputs": [
    {
     "data": {
      "text/plain": [
       "13149"
      ]
     },
     "execution_count": 7,
     "metadata": {},
     "output_type": "execute_result"
    }
   ],
   "source": [
    "function valid(ss)\n",
    "    typeof(ss) <: ASCIIString  && length(ss)>0\n",
    "end\n",
    "    \n",
    "corpus = @pipe readdir(path) |> filter!(fn -> splitext(fn)[2]==\".sro\", _) |> map(_) do fn\n",
    "    try open(readall, path*fn) end\n",
    "    end |> filter!(valid,_) |> map(clean,_) |> filter!(valid,_) |> map(s->split(s),_);\n",
    "length(corpus)"
   ]
  },
  {
   "cell_type": "code",
   "execution_count": 8,
   "metadata": {
    "collapsed": false
   },
   "outputs": [
    {
     "data": {
      "text/plain": [
       "collect_grams_stats (generic function with 1 method)"
      ]
     },
     "execution_count": 8,
     "metadata": {},
     "output_type": "execute_result"
    }
   ],
   "source": [
    "const START_MARKER = \"**START**\"\n",
    "const END_MARKER = \"**END**\"\n",
    "\n",
    "function collect_grams_stats(sentences)\n",
    "    unigrams = counter(AbstractString)\n",
    "    bigrams = DefaultDict(()->counter(AbstractString))\n",
    "    \n",
    "    for sent in sentences\n",
    "        push!(bigrams[START_MARKER], sent[1])\n",
    "        for ii in 1:length(sent)-1\n",
    "            push!(unigrams,sent[ii])\n",
    "            push!(bigrams[sent[ii]], sent[ii+1])    \n",
    "        end\n",
    "        push!(unigrams,sent[end])\n",
    "        push!(bigrams[sent[end]], END_MARKER)\n",
    "    end\n",
    "    [k=>freq2prob(v) for (k,v) in bigrams], freq2prob(unigrams)\n",
    "end"
   ]
  },
  {
   "cell_type": "code",
   "execution_count": 10,
   "metadata": {
    "collapsed": false
   },
   "outputs": [],
   "source": [
    "#bigram_stat, unigrams = collect_grams_stats(corpus);"
   ]
  },
  {
   "cell_type": "code",
   "execution_count": 22,
   "metadata": {
    "collapsed": false
   },
   "outputs": [],
   "source": [
    "using WordEmbeddings"
   ]
  },
  {
   "cell_type": "code",
   "execution_count": 34,
   "metadata": {
    "collapsed": false
   },
   "outputs": [
    {
     "name": "stdout",
     "output_type": "stream",
     "text": [
      "LL\t\tArray{Float32,2}\t(300,1115)\n"
     ]
    }
   ],
   "source": [
    "LL, word_indexes, indexed_words = load_word2vec_embeddings(\"word_emb_data/GoogleNews-vectors-negative300.bin\", length(corpus_vocab), corpus_vocab);\n",
    "@pz LL"
   ]
  },
  {
   "cell_type": "code",
   "execution_count": 35,
   "metadata": {
    "collapsed": false
   },
   "outputs": [
    {
     "data": {
      "text/plain": [
       "Set(AbstractString[\"carried\",\"diabetic\",\"connections\",\"limousines\",\"anything\",\"loop\",\"fight\",\"r\",\"regular\",\"schedule\"  …  \"everyday\",\"goes\",\"cost\",\"nearest\",\"further\",\"flare\",\"tell\",\"departs\",\"longer\",\"boeing\"])"
      ]
     },
     "execution_count": 35,
     "metadata": {},
     "output_type": "execute_result"
    }
   ],
   "source": [
    "known_vocab = Set(indexed_words)"
   ]
  },
  {
   "cell_type": "code",
   "execution_count": null,
   "metadata": {
    "collapsed": true
   },
   "outputs": [],
   "source": []
  },
  {
   "cell_type": "code",
   "execution_count": 39,
   "metadata": {
    "collapsed": false
   },
   "outputs": [
    {
     "data": {
      "text/plain": [
       "4761-element Array{Array{SubString{ASCIIString},1},1}:\n",
       " SubString{ASCIIString}[\"one\",\"way\",\"please\"]                                                                                \n",
       " SubString{ASCIIString}[\"on\",\"which\",\"flights\",\"will\",\"lunch\",\"be\",\"served\"]                                                 \n",
       " SubString{ASCIIString}[\"which\",\"flights\",\"serve\",\"lunch\"]                                                                   \n",
       " SubString{ASCIIString}[\"thank\",\"you\"]                                                                                       \n",
       " SubString{ASCIIString}[\"i\",\"live\",\"in\",\"denver\"]                                                                            \n",
       " SubString{ASCIIString}[\"round\",\"trip\",\"please\"]                                                                             \n",
       " SubString{ASCIIString}[\"one\",\"way\"]                                                                                         \n",
       " SubString{ASCIIString}[\"scenario\",\"completed\"]                                                                              \n",
       " SubString{ASCIIString}[\"can\",\"i\",\"stop\",\"in\",\"philadelphia\"]                                                                \n",
       " SubString{ASCIIString}[\"where\",\"do\",\"eastern\",\"transcontinental\",\"flights\",\"stop\"]                                          \n",
       " SubString{ASCIIString}[\"what\",\"about\",\"sunday\"]                                                                             \n",
       " SubString{ASCIIString}[\"what\",\"about\",\"sunday\",\"morning\"]                                                                   \n",
       " SubString{ASCIIString}[\"what\",\"is\",\"the\",\"flight\",\"number\"]                                                                 \n",
       " ⋮                                                                                                                           \n",
       " SubString{ASCIIString}[\"what\",\"type\",\"aircraft\",\"is\",\"that\",\"flight\"]                                                       \n",
       " SubString{ASCIIString}[\"the\",\"american\",\"airlines\",\"flight\",\"number\",\"three\",\"fifteen\",\"what\",\"type\",\"aircraft\",\"is\",\"that\"]\n",
       " SubString{ASCIIString}[\"what\",\"is\",\"the\",\"ground\",\"transportation\",\"in\",\"atlanta\"]                                          \n",
       " SubString{ASCIIString}[\"what\",\"about\",\"ground\",\"transportation\",\"in\",\"boston\"]                                              \n",
       " SubString{ASCIIString}[\"may\",\"fourth\"]                                                                                      \n",
       " SubString{ASCIIString}[\"round\",\"trip\"]                                                                                      \n",
       " SubString{ASCIIString}[\"what\",\"is\",\"the\",\"fare\"]                                                                            \n",
       " SubString{ASCIIString}[\"what\",\"is\",\"fare\",\"for\",\"american\",\"airlines\",\"three\",\"fifteen\"]                                    \n",
       " SubString{ASCIIString}[\"what\",\"is\",\"fare\",\"on\",\"american\",\"airlines\",\"six\",\"hundred\"]                                       \n",
       " SubString{ASCIIString}[\"one\",\"p\",\"m\"]                                                                                       \n",
       " SubString{ASCIIString}[\"what\",\"type\",\"aircraft\",\"is\",\"american\",\"airlines\",\"three\",\"fifteen\"]                               \n",
       " SubString{ASCIIString}[\"round\",\"trip\"]                                                                                      "
      ]
     },
     "execution_count": 39,
     "metadata": {},
     "output_type": "execute_result"
    }
   ],
   "source": [
    "known_corpus = filter(corpus) do sent\n",
    "    for word in sent\n",
    "        if !( word in known_vocab)\n",
    "            return false\n",
    "        end\n",
    "    end\n",
    "    true\n",
    "end"
   ]
  },
  {
   "cell_type": "code",
   "execution_count": 44,
   "metadata": {
    "collapsed": true
   },
   "outputs": [],
   "source": [
    "bigrams, unigrams = collect_grams_stats(known_corpus);"
   ]
  },
  {
   "cell_type": "code",
   "execution_count": 46,
   "metadata": {
    "collapsed": false
   },
   "outputs": [
    {
     "data": {
      "text/plain": [
       "Dict{AbstractString,Float64} with 752 entries:\n",
       "  \"limousines\"  => 9.556270506163794e-5\n",
       "  \"loop\"        => 3.185423502054598e-5\n",
       "  \"null\"        => 3.185423502054598e-5\n",
       "  \"regular\"     => 3.185423502054598e-5\n",
       "  \"schedule\"    => 0.0003185423502054598\n",
       "  \"during\"      => 3.185423502054598e-5\n",
       "  \"wondering\"   => 3.185423502054598e-5\n",
       "  \"irrelevant\"  => 3.185423502054598e-5\n",
       "  \"plan\"        => 3.185423502054598e-5\n",
       "  \"those\"       => 0.001847545631191667\n",
       "  \"carriers\"    => 3.185423502054598e-5\n",
       "  \"rather\"      => 6.370847004109197e-5\n",
       "  \"destination\" => 3.185423502054598e-5\n",
       "  \"these\"       => 0.003058006561972414\n",
       "  \"november\"    => 0.00028668811518491386\n",
       "  \"least\"       => 0.0009237728155958335\n",
       "  \"us\"          => 3.185423502054598e-5\n",
       "  \"either\"      => 6.370847004109197e-5\n",
       "  \"francisco\"   => 0.003026152326951868\n",
       "  \"scheduled\"   => 3.185423502054598e-5\n",
       "  \"possible\"    => 0.0001592711751027299\n",
       "  \"response\"    => 3.185423502054598e-5\n",
       "  \"fun\"         => 3.185423502054598e-5\n",
       "  \"scratch\"     => 0.0011467524607396554\n",
       "  \"above\"       => 3.185423502054598e-5\n",
       "  ⋮             => ⋮"
      ]
     },
     "execution_count": 46,
     "metadata": {},
     "output_type": "execute_result"
    }
   ],
   "source": [
    "unigrams"
   ]
  },
  {
   "cell_type": "code",
   "execution_count": 55,
   "metadata": {
    "collapsed": false
   },
   "outputs": [
    {
     "data": {
      "text/plain": [
       "random_walk (generic function with 1 method)"
      ]
     },
     "execution_count": 55,
     "metadata": {},
     "output_type": "execute_result"
    }
   ],
   "source": [
    "function select_word{S<:AbstractString,V<:Number}(unigrams::Dict{S,V})\n",
    "    cutoff = rand()\n",
    "    total = 0.0\n",
    "    for next_word in keys(unigrams)\n",
    "        total+=unigrams[next_word]\n",
    "        if total>=cutoff\n",
    "            return next_word\n",
    "        end\n",
    "    end\n",
    "    assert(False, \"Should never reach here\") \n",
    "end\n",
    "\n",
    "function random_walk(bigrams)\n",
    "    words=[]\n",
    "    cur = START_MARKER\n",
    "    while(cur!=END_MARKER)\n",
    "        cur = select_word(bigrams[cur])\n",
    "        push!(words,cur)\n",
    "    end\n",
    "    words\n",
    "    \n",
    "end"
   ]
  },
  {
   "cell_type": "code",
   "execution_count": 67,
   "metadata": {
    "collapsed": false
   },
   "outputs": [
    {
     "data": {
      "text/plain": [
       "13-element Array{Any,1}:\n",
       " \"i\"        \n",
       " \"will\"     \n",
       " \"do\"       \n",
       " \"you\"      \n",
       " \"know\"     \n",
       " \"the\"      \n",
       " \"coach\"    \n",
       " \"economy\"  \n",
       " \"fares\"    \n",
       " \"for\"      \n",
       " \"san\"      \n",
       " \"francisco\"\n",
       " \"**END**\"  "
      ]
     },
     "execution_count": 67,
     "metadata": {},
     "output_type": "execute_result"
    }
   ],
   "source": [
    "random_walk(bigrams)"
   ]
  },
  {
   "cell_type": "code",
   "execution_count": null,
   "metadata": {
    "collapsed": true
   },
   "outputs": [],
   "source": []
  }
 ],
 "metadata": {
  "kernelspec": {
   "display_name": "Julia 0.5.0-dev",
   "language": "julia",
   "name": "julia-0.5"
  },
  "language_info": {
   "file_extension": ".jl",
   "mimetype": "application/julia",
   "name": "julia",
   "version": "0.5.0"
  }
 },
 "nbformat": 4,
 "nbformat_minor": 0
}
