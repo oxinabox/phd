{
 "cells": [
  {
   "cell_type": "code",
   "execution_count": 1,
   "metadata": {
    "collapsed": false
   },
   "outputs": [
    {
     "name": "stderr",
     "output_type": "stream",
     "text": [
      "WARNING: Base.Uint8 is deprecated, use UInt8 instead.\n",
      "WARNING: Base.Uint8 is deprecated, use UInt8 instead.\n",
      "WARNING: Base.Uint8 is deprecated, use UInt8 instead.\n",
      "WARNING: Base.Uint8 is deprecated, use UInt8 instead.\n",
      "WARNING: Base.Uint8 is deprecated, use UInt8 instead.\n",
      "WARNING: Base.Uint8 is deprecated, use UInt8 instead.\n",
      "WARNING: Base.Uint8 is deprecated, use UInt8 instead.\n",
      "WARNING: Base.Uint8 is deprecated, use UInt8 instead.\n",
      "WARNING: Base.Uint8 is deprecated, use UInt8 instead.\n",
      "WARNING: Base.Uint8 is deprecated, use UInt8 instead.\n",
      "WARNING: Base.Uint8 is deprecated, use UInt8 instead.\n",
      "WARNING: Base.Uint8 is deprecated, use UInt8 instead.\n",
      "WARNING: Base.Uint8 is deprecated, use UInt8 instead.\n",
      "WARNING: Base.Uint8 is deprecated, use UInt8 instead.\n",
      "WARNING: Base.Uint8 is deprecated, use UInt8 instead.\n"
     ]
    },
    {
     "data": {
      "text/plain": [
       "3-element Array{ByteString,1}:\n",
       " \"/home/ubuntu/build/julia-master/usr/local/share/julia/site/v0.5\"\n",
       " \"/home/ubuntu/build/julia-master/usr/share/julia/site/v0.5\"      \n",
       " \".\"                                                              "
      ]
     },
     "execution_count": 1,
     "metadata": {},
     "output_type": "execute_result"
    }
   ],
   "source": [
    "using Iterators\n",
    "using DataStructures\n",
    "using Pipe\n",
    "using Compat\n",
    "\n",
    "macro printval(ee)\n",
    "    ee_expr = @sprintf \"%s\" string(ee)\n",
    "    esc(:(println($ee_expr,\" = \", $ee)))\n",
    "end\n",
    "\n",
    "macro pz(ee)\n",
    "    ee_expr = @sprintf \"%s\" string(ee)\n",
    "    esc(:(println($ee_expr,\"\\t\\t\",typeof($ee), \"\\t\", size($ee))))\n",
    "end\n",
    "\n",
    "push!(LOAD_PATH, \".\")"
   ]
  },
  {
   "cell_type": "code",
   "execution_count": 2,
   "metadata": {
    "collapsed": false
   },
   "outputs": [
    {
     "data": {
      "text/plain": [
       "freq2prob (generic function with 1 method)"
      ]
     },
     "execution_count": 2,
     "metadata": {},
     "output_type": "execute_result"
    }
   ],
   "source": [
    "using DataStructures\n",
    "\n",
    "function Base.sum(acc::Accumulator)\n",
    "    sum(values(acc.map))\n",
    "end\n",
    "\n",
    "function freq2prob{T,V<:Number}(acc::Accumulator{T,V})\n",
    "    ret=Dict{T,Float64}()\n",
    "    total = sum(acc)\n",
    "    for (k,v) in acc\n",
    "        ret[k]=v/total\n",
    "    end\n",
    "    ret\n",
    "end"
   ]
  },
  {
   "cell_type": "code",
   "execution_count": null,
   "metadata": {
    "collapsed": true
   },
   "outputs": [],
   "source": []
  },
  {
   "cell_type": "code",
   "execution_count": null,
   "metadata": {
    "collapsed": false
   },
   "outputs": [],
   "source": []
  },
  {
   "cell_type": "code",
   "execution_count": null,
   "metadata": {
    "collapsed": false
   },
   "outputs": [],
   "source": []
  },
  {
   "cell_type": "code",
   "execution_count": 3,
   "metadata": {
    "collapsed": false
   },
   "outputs": [
    {
     "data": {
      "text/plain": [
       "clean (generic function with 1 method)"
      ]
     },
     "execution_count": 3,
     "metadata": {},
     "output_type": "execute_result"
    }
   ],
   "source": [
    "function clean(ss)\n",
    "    @pipe (ss \n",
    "    |> replace(_, r\"\\[.*?\\] ?\",\"\")  #Remove Nonword sounds\n",
    "    |> replace(_, r\"\\<.*?\\> \",\"\")  #Remove Verbal Deltions\n",
    "    |> replace(_, r\"\\*(.*?)\\*\",s\"\\1\") #Remove mispronounciation marks\n",
    "    |> replace(_,r\"\\:|\\-\\s\\.\\s\\-\", \"\") #remove intraword pauses\n",
    "    |> replace(_,r\"\\w+\\- \",\"\") #remove stuttered words\n",
    "    |> replace(_, r\"[!\\.,\\?]\",\"\")        #Remove punctation as it is not used traditionally (see sro spec)\n",
    "    \n",
    "    |> replace(_, r\"\\s+\",' ') #Remove repeated spaces\n",
    "    #|> replace(_, r\"([A-Z])\\s([A-Z])\", s\"\\1\\2\") #Merge len(2) abbrev\n",
    "    |> replace(_, r\".*[~\\(\\)\\-\\<\\>#'].*\",\"\")#Remove everything if anything unfixable found\n",
    "    |> lowercase\n",
    "    |> strip \n",
    "    )\n",
    "end\n"
   ]
  },
  {
   "cell_type": "code",
   "execution_count": 4,
   "metadata": {
    "collapsed": false
   },
   "outputs": [
    {
     "data": {
      "text/plain": [
       "collect_grams_stats (generic function with 2 methods)"
      ]
     },
     "execution_count": 4,
     "metadata": {},
     "output_type": "execute_result"
    }
   ],
   "source": [
    "const START_MARKER = \"**START**\"\n",
    "const END_MARKER = \"**END**\"\n",
    "\n",
    "function collect_grams_stats(sentences)\n",
    "    unigrams = counter(AbstractString)\n",
    "    bigrams = DefaultDict(()->counter(AbstractString))\n",
    "    \n",
    "    for sent in sentences\n",
    "        push!(bigrams[START_MARKER], sent[1])\n",
    "        for ii in 1:length(sent)-1\n",
    "            push!(unigrams,sent[ii])\n",
    "            push!(bigrams[sent[ii]], sent[ii+1])    \n",
    "        end\n",
    "        push!(unigrams,sent[end])\n",
    "        push!(bigrams[sent[end]], END_MARKER)\n",
    "    end\n",
    "    \n",
    "    \n",
    "    [k=>v.map for (k,v) in bigrams], unigrams.map\n",
    "end\n",
    "\n",
    "\n"
   ]
  },
  {
   "cell_type": "code",
   "execution_count": 5,
   "metadata": {
    "collapsed": false
   },
   "outputs": [
    {
     "data": {
      "text/plain": [
       "1131"
      ]
     },
     "execution_count": 5,
     "metadata": {},
     "output_type": "execute_result"
    }
   ],
   "source": [
    "path=\"../../Resources/corpora/atis2_text/\"\n",
    "function valid(ss)\n",
    "    typeof(ss) <: ASCIIString  && length(ss)>0\n",
    "end\n",
    "    \n",
    "corpus = @pipe readdir(path) |> filter!(fn -> splitext(fn)[2]==\".sro\", _) |> map(_) do fn\n",
    "    try open(readall, path*fn) end\n",
    "    end |> filter!(valid,_) |> map(clean,_) |> filter!(valid,_) |> map(s->split(s),_);\n",
    "corpus_vocab = @pipe corpus |> map(Set,_) |> reduce(union,_)\n",
    "length(corpus_vocab)"
   ]
  },
  {
   "cell_type": "code",
   "execution_count": 6,
   "metadata": {
    "collapsed": false
   },
   "outputs": [],
   "source": [
    "using WordEmbeddings\n",
    "LL, word_indexes, indexed_words = load_word2vec_embeddings(\"word_emb_data/GoogleNews-vectors-negative300.bin\", length(corpus_vocab), corpus_vocab);"
   ]
  },
  {
   "cell_type": "code",
   "execution_count": 7,
   "metadata": {
    "collapsed": false
   },
   "outputs": [
    {
     "data": {
      "text/plain": [
       "300x1117 Array{Float64,2}:\n",
       "  0.0529562  -0.00851202  …   0.0656386    -0.0548293   0.0  0.0\n",
       "  0.0654598  -0.0342245      -0.0860691     0.0239878   0.0  0.0\n",
       "  0.0661953   0.0322839      -0.00994359   -0.0190492   0.0  0.0\n",
       "  0.0470722   0.0458679       0.0804181     0.0826471   0.0  0.0\n",
       "  0.0522207  -0.0131429       0.00717243    0.0620861   0.0  0.0\n",
       " -0.0820086  -0.0462207   …   0.0376009     0.0465646   0.0  0.0\n",
       " -0.0614145  -0.00094823     -0.0634651    -0.0786156   0.0  0.0\n",
       " -0.11621    -0.0522188       0.0436866    -0.0516041   0.0  0.0\n",
       "  0.0156294   0.0465735      -0.0669426     0.00902063  0.0  0.0\n",
       "  0.0992929   0.0624509       0.120845      0.0364857   0.0  0.0\n",
       " -0.0856861  -0.122785    …   0.00863951    0.0395094   0.0  0.0\n",
       " -0.028133   -0.0287556      -0.039557     -0.0588609   0.0  0.0\n",
       "  0.0522207   0.0515131      -0.126061     -0.0903071   0.0  0.0\n",
       "  ⋮                       ⋱                             ⋮       \n",
       " -0.0318105   0.0294613      -0.0539019    -0.0199563   0.0  0.0\n",
       "  0.0181118   0.0211698      -0.000122257   0.00942379  0.0  0.0\n",
       " -0.127242   -0.0163184   …   0.05651       0.0262052   0.0  0.0\n",
       " -0.0669308   0.00269033     -0.02293      -0.00876866  0.0  0.0\n",
       " -0.060679   -0.0596282       0.0469468     0.0336636   0.0  0.0\n",
       "  0.048911    0.0589226       0.0376009     0.0701493   0.0  0.0\n",
       "  0.0461528   0.00573348      0.00237722    0.0939355   0.0  0.0\n",
       " -0.0356719   0.00034456  …  -0.0491203    -0.033462    0.0  0.0\n",
       " -0.0443141   0.0133193      -0.0569447    -0.0284225   0.0  0.0\n",
       " -0.0358558   0.0515131      -0.072159     -0.104821    0.0  0.0\n",
       "  0.0108946  -0.0252273      -0.0371662    -0.0342683   0.0  0.0\n",
       " -0.0470722   0.0174651       0.0246688     0.0624893   0.0  0.0"
      ]
     },
     "execution_count": 7,
     "metadata": {},
     "output_type": "execute_result"
    },
    {
     "name": "stderr",
     "output_type": "stream",
     "text": [
      "WARNING: Base.Uint8 is deprecated, use UInt8 instead.\n",
      "WARNING: Base.Uint8 is deprecated, use UInt8 instead.\n",
      "WARNING: Base.Uint8 is deprecated, use UInt8 instead.\n",
      "WARNING: Base.Uint8 is deprecated, use UInt8 instead.\n",
      "WARNING: Base.Uint8 is deprecated, use UInt8 instead.\n",
      "WARNING: Base.Uint8 is deprecated, use UInt8 instead.\n"
     ]
    }
   ],
   "source": [
    "@assert(!(START_MARKER in indexed_words))\n",
    "push!(indexed_words, START_MARKER)\n",
    "word_indexes[START_MARKER] = length(indexed_words)\n",
    "\n",
    "@assert(!(END_MARKER in indexed_words))\n",
    "push!(indexed_words, END_MARKER)\n",
    "word_indexes[END_MARKER] = length(indexed_words)\n",
    "LL = [LL zeros(size(LL,1),2)]"
   ]
  },
  {
   "cell_type": "code",
   "execution_count": 8,
   "metadata": {
    "collapsed": false
   },
   "outputs": [],
   "source": [
    "known_vocab = Set(indexed_words)\n",
    "known_corpus = filter(corpus) do sent\n",
    "    for word in sent\n",
    "        if !( word in known_vocab)\n",
    "            return false\n",
    "        end\n",
    "    end\n",
    "    true\n",
    "end;"
   ]
  },
  {
   "cell_type": "code",
   "execution_count": 9,
   "metadata": {
    "code_folding": [],
    "collapsed": false
   },
   "outputs": [
    {
     "data": {
      "text/plain": [
       "sgtZ (generic function with 1 method)"
      ]
     },
     "execution_count": 9,
     "metadata": {},
     "output_type": "execute_result"
    }
   ],
   "source": [
    "using StatsBase\n",
    "# modified from https://github.com/JoFrhwld/GoodTuring.jl/blob/master/GoodTuring.jl\n",
    "function simpleGoodTuring(speciesCountDict::Dict)\n",
    "    speciesCountVec = collect(values(speciesCountDict))\n",
    "        \n",
    "    totalCounts = sum(speciesCountVec)\n",
    "    cofcDict = countmap(speciesCountVec)\n",
    "    r = sort(collect(keys(cofcDict)))\n",
    "\n",
    "    N = size(r,1)\n",
    "    Nr = [cofcDict[r[i]] for i in 1:N]\n",
    "\n",
    "    p0 = haskey(cofcDict, 1.0) ? cofcDict[1.0] / totalCounts : 0.0\n",
    "    \n",
    "    Z = sgtZ(r,Nr)\n",
    "    logr = map(log,r)\n",
    "    logZ = map(log,Z)\n",
    "\n",
    "    X = hcat(ones(N), logr)\n",
    "    Y = copy(logZ )\n",
    "    coefs = X\\Y\n",
    "    intercept = coefs[1]\n",
    "    slope = coefs[2]\n",
    "\n",
    "    useY = false\n",
    "    rSmooth = Array{Float64}(N)\n",
    "    for i in 1:N\n",
    "        @inbounds thisr = r[i]\n",
    "        \n",
    "        #y = ((thisr+1.0)^(slope+1.0))/(thisr^slope)\n",
    "        #The above is the much simplified form of the below (Performance identical output differs by 10^-16)\n",
    "        y = (thisr+1.0) * exp(slope * log(thisr+1.0) + intercept) / exp(slope * log(thisr) + intercept)\n",
    "\n",
    "        if !in(thisr+1, r)\n",
    "            useY = true\n",
    "        end\n",
    "\n",
    "        if useY\n",
    "            rSmooth[i] = y\n",
    "        else\n",
    "            x = (thisr+1) * cofcDict[thisr + 1]/cofcDict[thisr]\n",
    "            thisNr = cofcDict[thisr]\n",
    "            thisNr1 = cofcDict[thisr+1]\n",
    "\n",
    "            t = 1.96 * ((thisr+1)^2) * (thisNr1 / thisNr^2) * (1 + (thisNr1 / thisNr))\n",
    "\n",
    "            if abs(x-y) > t\n",
    "                @inbounds rSmooth[i] = x\n",
    "            else\n",
    "                useY = true\n",
    "                @inbounds rSmooth[i] = y\n",
    "            end\n",
    "        end\n",
    "    end\n",
    "\n",
    "    smoothTot = sum(Nr.*rSmooth)\n",
    "    sgtProb  = (1.0 - p0) .* (rSmooth/smoothTot)\n",
    "    sgtProbDict = Dict([r[i] => sgtProb[i] for i in 1:N])\n",
    "    sgtDict = Dict([sp=>sgtProbDict[speciesCountDict[sp]] for sp in keys(speciesCountDict)])\n",
    "\n",
    "    sgtDict, sgtProbDict, p0\n",
    "end\n",
    "\n",
    "\n",
    "function sgtZ(r::Array, Nr::Array)\n",
    "    j = r\n",
    "    i = [0; j[1:end-1]]\n",
    "    lastK = 2*j[end] - i[end]\n",
    "    k = [j[2:end]; lastK]\n",
    "    Float64[(2*Nr[iter])/(k[iter]-i[iter]) for iter = 1:length(j)]\n",
    "end\n"
   ]
  },
  {
   "cell_type": "code",
   "execution_count": 10,
   "metadata": {
    "collapsed": false
   },
   "outputs": [
    {
     "data": {
      "text/plain": [
       "katz_bigrams (generic function with 1 method)"
      ]
     },
     "execution_count": 10,
     "metadata": {},
     "output_type": "execute_result"
    }
   ],
   "source": [
    "\n",
    "function katz_bigrams(bigram_freq, unigrams_freq)\n",
    "    k_bigrams = Dict()\n",
    "    \n",
    "    for first in keys(bigram_freq)\n",
    "        smoothed,_,p0 = simpleGoodTuring(bigram_freq[first])\n",
    "        k_bigrams[first] = smoothed\n",
    "        \n",
    "        backoff_keys = setdiff(keys(unigram_freq),keys(smoothed))\n",
    "        #share the p0 proability mass between them\n",
    "        total = sum([unigrams_freq[key] for key in backoff_keys])\n",
    "        for second in backoff_keys\n",
    "            k_bigrams[first][second]=p0.*unigrams_freq[second]./total\n",
    "        end\n",
    "    end\n",
    "    k_bigrams\n",
    "end"
   ]
  },
  {
   "cell_type": "code",
   "execution_count": 13,
   "metadata": {
    "collapsed": false
   },
   "outputs": [
    {
     "data": {
      "text/plain": [
       "2.227339596503655e-6"
      ]
     },
     "execution_count": 13,
     "metadata": {},
     "output_type": "execute_result"
    }
   ],
   "source": [
    "function likelyhood(sent, bigrams)\n",
    "    words = split(sent)\n",
    "    words = [START_MARKER; words; END_MARKER]\n",
    "    \n",
    "    p=1.0\n",
    "    for ii in 1:length(words)-1\n",
    "        p*=bigrams[words[ii]][words[ii+1]]\n",
    "    end\n",
    "    p\n",
    "end\n",
    "likelyhood(\"what are the ground transport\", kbigrams)"
   ]
  },
  {
   "cell_type": "code",
   "execution_count": 14,
   "metadata": {
    "collapsed": false
   },
   "outputs": [
    {
     "name": "stdout",
     "output_type": "stream",
     "text": [
      "list those flights leave boston from san francisco\t3"
     ]
    }
   ],
   "source": [
    "function select_word{S<:AbstractString,V<:Number}(unigrams::Dict{S,V})\n",
    "    cutoff = rand()\n",
    "    total = 0.0\n",
    "    for next_word in keys(unigrams)\n",
    "        total+=unigrams[next_word]\n",
    "        if total>=cutoff\n",
    "            return next_word\n",
    "        end\n",
    "    end\n",
    "    assert(False, \"Should never reach here\") \n",
    "end\n",
    "\n",
    "function random_walk(bigrams)\n",
    "    words=[]\n",
    "    cur = START_MARKER\n",
    "    while(cur!=END_MARKER)\n",
    "        cur = select_word(bigrams[cur])\n",
    "        push!(words,cur)\n",
    "    end\n",
    "    words = words[1:end-1]\n",
    "    join(words, \" \")\n",
    "end\n",
    "walk =random_walk(bigrams) \n",
    "print(walk*\"\\t\")\n",
    "print(likelyhood(walk,kbigrams))"
   ]
  },
  {
   "cell_type": "code",
   "execution_count": null,
   "metadata": {
    "collapsed": true
   },
   "outputs": [],
   "source": []
  },
  {
   "cell_type": "code",
   "execution_count": 15,
   "metadata": {
    "collapsed": false
   },
   "outputs": [
    {
     "data": {
      "text/plain": [
       "bigrams_dict2mat (generic function with 2 methods)"
      ]
     },
     "execution_count": 15,
     "metadata": {},
     "output_type": "execute_result"
    }
   ],
   "source": [
    "function bigrams_dict2mat(bigrams::Dict, word_indexes::Dict{AbstractString,Int64}, dense=False)\n",
    "    mat  = (dense ? zeros: spzeros)(length(word_indexes),length(word_indexes))\n",
    "    for first in keys(bigrams)\n",
    "        for second in keys(bigrams[first])\n",
    "            mat[word_indexes[second], word_indexes[first]] = bigrams[first][second]\n",
    "        end\n",
    "    end\n",
    "    mat\n",
    "end"
   ]
  },
  {
   "cell_type": "code",
   "execution_count": 17,
   "metadata": {
    "collapsed": false
   },
   "outputs": [
    {
     "data": {
      "text/plain": [
       "1117x1117 Array{Float64,2}:\n",
       " 0.00058826   0.00155313   0.0025072    …  0.0  0.00266888   0.00450161   0.0\n",
       " 0.000582436  0.00337239   0.00118728      0.0  0.00631926   0.000333665  0.0\n",
       " 0.0077247    0.0213303    0.00158872      0.0  0.00631926   0.000946355  0.0\n",
       " 0.000934227  0.00246655   0.0108999       0.0  0.0042385    0.0233828    0.0\n",
       " 0.000938886  0.00247886   0.00400159      0.0  0.0646614    0.0063889    0.0\n",
       " 6.29031e-5   0.000166077  0.000268097  …  0.0  0.000285385  0.000257788  0.0\n",
       " 1.16487e-6   3.0755e-6    4.96475e-6      0.0  5.28491e-6   1.92168e-6   0.0\n",
       " 5.82436e-6   1.53775e-5   0.00118728      0.0  2.64245e-5   9.60841e-6   0.0\n",
       " 0.136584     0.0676306    0.00782777      0.0  0.00631926   0.00617917   0.0\n",
       " 0.00013163   0.00080584   0.000561017     0.0  0.0153623    0.000946355  0.0\n",
       " 1.63082e-5   4.30571e-5   6.95065e-5   …  0.0  7.39887e-5   0.000333665  0.0\n",
       " 1.39785e-5   3.6906e-5    5.9577e-5       0.0  6.34189e-5   2.30602e-5   0.0\n",
       " 5.00895e-5   0.000132247  0.000213484     0.0  0.000227251  8.26324e-5   0.0\n",
       " ⋮                                      ⋱                    ⋮               \n",
       " 0.0          0.0          0.0          …  0.0  0.0          0.0          0.0\n",
       " 0.0          0.0          0.0             0.0  0.0          0.0          0.0\n",
       " 0.0          0.0          0.0             0.0  0.0          0.0          0.0\n",
       " 0.0          0.0          0.0             0.0  0.0          0.0          0.0\n",
       " 0.0          0.0          0.0             0.0  0.0          0.0          0.0\n",
       " 1.16487e-6   3.0755e-6    4.96475e-6   …  0.0  5.28491e-6   1.92168e-6   0.0\n",
       " 0.0          0.0          0.0             0.0  0.0          0.0          0.0\n",
       " 2.32974e-6   6.15101e-6   9.9295e-6       0.0  1.05698e-5   3.84337e-6   0.0\n",
       " 0.0          0.0          0.0             0.0  0.0          0.0          0.0\n",
       " 0.000110663  0.000292173  0.000471651     0.0  0.000502066  0.00018256   0.0\n",
       " 0.0          0.0          0.0          …  0.0  0.0          0.0          0.0\n",
       " 0.00967535   0.0394384    0.146714        0.0  0.579804     0.0          0.0"
      ]
     },
     "execution_count": 17,
     "metadata": {},
     "output_type": "execute_result"
    },
    {
     "name": "stdout",
     "output_type": "stream",
     "text": [
      ".079353973670225e-10"
     ]
    }
   ],
   "source": [
    "bigram_freq, unigram_freq = collect_grams_stats(known_corpus,false);\n",
    "kbigrams=katz_bigrams(bigram_freq, unigram_freq)\n",
    "kbigrams_mat = bigrams_dict2mat(kbigrams,word_indexes,true)\n"
   ]
  },
  {
   "cell_type": "code",
   "execution_count": 19,
   "metadata": {
    "collapsed": false
   },
   "outputs": [],
   "source": []
  },
  {
   "cell_type": "code",
   "execution_count": null,
   "metadata": {
    "collapsed": true
   },
   "outputs": [],
   "source": []
  },
  {
   "cell_type": "code",
   "execution_count": null,
   "metadata": {
    "collapsed": true
   },
   "outputs": [],
   "source": []
  },
  {
   "cell_type": "code",
   "execution_count": 24,
   "metadata": {
    "collapsed": false
   },
   "outputs": [
    {
     "data": {
      "text/plain": [
       "collect_cooccur_stats (generic function with 2 methods)"
      ]
     },
     "execution_count": 24,
     "metadata": {},
     "output_type": "execute_result"
    }
   ],
   "source": [
    "function collect_cooccur_stats(sentences)\n",
    "    unioccur = counter(AbstractString)\n",
    "    bioccur = DefaultDict(()->counter(AbstractString))\n",
    "    \n",
    "    for sent in sentences\n",
    "        for ii in 1:length(sent)\n",
    "            push!(unioccur, sent[ii])\n",
    "            for jj in 1:length(sent)\n",
    "                if ii==jj\n",
    "                    continue\n",
    "                end\n",
    "                push!(bioccur[sent[ii]], sent[jj])    \n",
    "            end\n",
    "        end       \n",
    "    end\n",
    "    \n",
    "    [k=>v.map for (k,v) in bioccur], unioccur.map\n",
    "    \n",
    "end"
   ]
  },
  {
   "cell_type": "code",
   "execution_count": 26,
   "metadata": {
    "collapsed": false,
    "scrolled": true
   },
   "outputs": [
    {
     "data": {
      "text/plain": [
       "1117x1117 Array{Float64,2}:\n",
       " 0.00394297   0.00665376   0.0223628    …  0.0  0.041846     0.0  0.0\n",
       " 0.00698873   0.00229434   0.0103838       0.0  0.0104231    0.0  0.0\n",
       " 0.0128295    0.00568419   0.00418172      0.0  0.00917374   0.0  0.0\n",
       " 0.025275     0.0282375    0.0316822       0.0  0.02423      0.0  0.0\n",
       " 0.0176551    0.00859329   0.032126        0.0  0.0166903    0.0  0.0\n",
       " 0.000490458  0.000382943  0.000648748  …  0.0  0.000462635  0.0  0.0\n",
       " 9.08256e-6   9.34236e-6   1.20138e-5      0.0  8.56732e-6   0.0  0.0\n",
       " 4.54128e-5   0.000265052  0.000369868     0.0  4.28366e-5   0.0  0.0\n",
       " 0.0582956    0.0874184    0.0534292       0.0  0.0317775    0.0  0.0\n",
       " 0.00318217   0.00109041   0.00905354      0.0  0.0116743    0.0  0.0\n",
       " 0.000153281  0.000265052  0.00111239   …  0.0  0.000119942  0.0  0.0\n",
       " 0.00041492   0.000265052  0.000144166     0.0  0.000102808  0.0  0.0\n",
       " 0.000908921  0.00109041   0.000369868     0.0  0.000368395  0.0  0.0\n",
       " ⋮                                      ⋱                    ⋮       \n",
       " 0.0          0.0          0.0          …  0.0  0.0          0.0  0.0\n",
       " 0.0          0.0          0.0             0.0  0.0          0.0  0.0\n",
       " 0.0          0.0          0.0             0.0  0.0          0.0  0.0\n",
       " 0.0          0.0          0.0             0.0  0.0          0.0  0.0\n",
       " 0.0          0.0          0.0             0.0  0.0          0.0  0.0\n",
       " 9.08256e-6   9.34236e-6   1.20138e-5   …  0.0  8.56732e-6   0.0  0.0\n",
       " 0.0          0.0          0.0             0.0  0.0          0.0  0.0\n",
       " 1.81651e-5   1.86847e-5   2.40277e-5      0.0  1.71346e-5   0.0  0.0\n",
       " 0.0          0.0          0.0             0.0  0.0          0.0  0.0\n",
       " 0.00851221   0.00205284   0.00329871      0.0  0.000813895  0.0  0.0\n",
       " 0.0          0.0          0.0          …  0.0  0.0          0.0  0.0\n",
       " 0.0          0.0          0.0             0.0  0.0          0.0  0.0"
      ]
     },
     "execution_count": 26,
     "metadata": {},
     "output_type": "execute_result"
    }
   ],
   "source": [
    "bioccur_freq, unioccur_freq = collect_cooccur_stats(known_corpus)\n",
    "kbioccur=katz_bigrams(bioccur_freq, unioccur_freq)\n",
    "kbioccur_mat = bigrams_dict2mat(kbioccur,word_indexes,true)\n"
   ]
  },
  {
   "cell_type": "code",
   "execution_count": null,
   "metadata": {
    "collapsed": true
   },
   "outputs": [],
   "source": []
  },
  {
   "cell_type": "code",
   "execution_count": 27,
   "metadata": {
    "collapsed": true
   },
   "outputs": [],
   "source": [
    "open(\"atis_data.jsz\",\"w\") do fh\n",
    "    data = Dict([\n",
    "        (\"bigrams\", kbigrams_mat),\n",
    "        (\"bioccur\", kbioccur_mat),\n",
    "        (\"LL\",LL),\n",
    "        (\"word_indexes\", word_indexes),\n",
    "        (\"indexed_words\", indexed_words),\n",
    "        ])\n",
    "    serialize(fh, data)    \n",
    "end"
   ]
  },
  {
   "cell_type": "code",
   "execution_count": null,
   "metadata": {
    "collapsed": true
   },
   "outputs": [],
   "source": []
  }
 ],
 "metadata": {
  "kernelspec": {
   "display_name": "Julia 0.5.0-dev",
   "language": "julia",
   "name": "julia-0.5"
  },
  "language_info": {
   "file_extension": ".jl",
   "mimetype": "application/julia",
   "name": "julia",
   "version": "0.5.0"
  }
 },
 "nbformat": 4,
 "nbformat_minor": 0
}
