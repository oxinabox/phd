{
 "cells": [
  {
   "cell_type": "code",
   "execution_count": 1,
   "metadata": {
    "collapsed": false
   },
   "outputs": [
    {
     "data": {
      "text/plain": [
       "4-element Array{ByteString,1}:\n",
       " \"/home/ubuntu/build/julia-master/usr/local/share/julia/site/v0.5\"\n",
       " \"/home/ubuntu/build/julia-master/usr/share/julia/site/v0.5\"      \n",
       " \".\"                                                              \n",
       " \"../util\"                                                        "
      ]
     },
     "execution_count": 1,
     "metadata": {},
     "output_type": "execute_result"
    }
   ],
   "source": [
    "using Iterators\n",
    "using DataStructures\n",
    "using Pipe\n",
    "using Compat\n",
    "\n",
    "macro printval(ee)\n",
    "    ee_expr = @sprintf \"%s\" string(ee)\n",
    "    esc(:(println($ee_expr,\" = \", $ee)))\n",
    "end\n",
    "\n",
    "macro pz(ee)\n",
    "    ee_expr = @sprintf \"%s\" string(ee)\n",
    "    esc(:(println($ee_expr,\"\\t\\t\",typeof($ee), \"\\t\", size($ee))))\n",
    "end\n",
    "\n",
    "push!(LOAD_PATH, \".\")\n",
    "push!(LOAD_PATH, \"../util\")\n"
   ]
  },
  {
   "cell_type": "code",
   "execution_count": 2,
   "metadata": {
    "collapsed": false
   },
   "outputs": [],
   "source": [
    "using Packing"
   ]
  },
  {
   "cell_type": "code",
   "execution_count": 3,
   "metadata": {
    "collapsed": false
   },
   "outputs": [
    {
     "data": {
      "text/plain": [
       "freq2prob (generic function with 1 method)"
      ]
     },
     "execution_count": 3,
     "metadata": {},
     "output_type": "execute_result"
    }
   ],
   "source": [
    "using DataStructures\n",
    "\n",
    "function Base.sum(acc::Accumulator)\n",
    "    sum(values(acc.map))\n",
    "end\n",
    "\n",
    "function Base.sum(acc::Dict)\n",
    "    sum(values(acc))\n",
    "end\n",
    "\n",
    "function freq2prob{T,V<:Number}(acc::Union{Accumulator{T,V},Dict{T,V}})\n",
    "    \n",
    "    ret=Dict{T,Float64}()\n",
    "    total = sum(acc)\n",
    "    for (k,v) in acc\n",
    "        ret[k]=v/total\n",
    "    end\n",
    "    ret\n",
    "end"
   ]
  },
  {
   "cell_type": "code",
   "execution_count": 4,
   "metadata": {
    "collapsed": false
   },
   "outputs": [
    {
     "data": {
      "text/plain": [
       "clean (generic function with 1 method)"
      ]
     },
     "execution_count": 4,
     "metadata": {},
     "output_type": "execute_result"
    }
   ],
   "source": [
    "function clean(ss)\n",
    "    @pipe (ss \n",
    "    |> replace(_, r\"\\[.*?\\] ?\",\"\")  #Remove Nonword sounds\n",
    "    |> replace(_, r\"\\<.*?\\> \",\"\")  #Remove Verbal Deltions\n",
    "    |> replace(_, r\"\\*(.*?)\\*\",s\"\\1\") #Remove mispronounciation marks\n",
    "    |> replace(_,r\"\\:|\\-\\s\\.\\s\\-\", \"\") #remove intraword pauses\n",
    "    |> replace(_,r\"\\w+\\- \",\"\") #remove stuttered words\n",
    "    |> replace(_, r\"[!\\.,\\?]\",\"\")        #Remove punctation as it is not used traditionally (see sro spec)\n",
    "    \n",
    "    |> replace(_, r\"\\s+\",' ') #Remove repeated spaces\n",
    "    #|> replace(_, r\"([A-Z])\\s([A-Z])\", s\"\\1\\2\") #Merge len(2) abbrev\n",
    "    |> replace(_, r\".*[~\\(\\)\\-\\<\\>#'].*\",\"\")#Remove everything if anything unfixable found\n",
    "    |> lowercase\n",
    "    |> strip \n",
    "    )\n",
    "end\n"
   ]
  },
  {
   "cell_type": "code",
   "execution_count": 5,
   "metadata": {
    "collapsed": false
   },
   "outputs": [
    {
     "data": {
      "text/plain": [
       "\"**END**\""
      ]
     },
     "execution_count": 5,
     "metadata": {},
     "output_type": "execute_result"
    }
   ],
   "source": [
    "const START_MARKER = \"**START**\"\n",
    "const END_MARKER = \"**END**\""
   ]
  },
  {
   "cell_type": "code",
   "execution_count": 6,
   "metadata": {
    "collapsed": false
   },
   "outputs": [
    {
     "data": {
      "text/plain": [
       "1131"
      ]
     },
     "execution_count": 6,
     "metadata": {},
     "output_type": "execute_result"
    }
   ],
   "source": [
    "path=\"../../Resources/corpora/atis2_text/\"\n",
    "function valid(ss)\n",
    "    typeof(ss) <: ASCIIString  && length(ss)>0\n",
    "end\n",
    "    \n",
    "corpus = @pipe readdir(path) |> filter!(fn -> splitext(fn)[2]==\".sro\", _) |> map(_) do fn\n",
    "    try open(readall, path*fn) end\n",
    "    end |> filter!(valid,_) |> map(clean,_) |> filter!(valid,_) |> map(s->split(s),_);\n",
    "corpus_vocab = @pipe corpus |> map(Set,_) |> reduce(union,_)\n",
    "length(corpus_vocab)"
   ]
  },
  {
   "cell_type": "code",
   "execution_count": 7,
   "metadata": {
    "collapsed": false
   },
   "outputs": [],
   "source": [
    "using WordEmbeddings\n",
    "LL, word_indexes, indexed_words = load_word2vec_embeddings(\"word_emb_data/GoogleNews-vectors-negative300.bin\", length(corpus_vocab), corpus_vocab);"
   ]
  },
  {
   "cell_type": "code",
   "execution_count": 8,
   "metadata": {
    "collapsed": false
   },
   "outputs": [
    {
     "data": {
      "text/plain": [
       "16-element Array{UTF8String,1}:\n",
       " \"and\"      \n",
       " \"a\"        \n",
       " \"respeak\"  \n",
       " \"nondirect\"\n",
       " \"maluso\"   \n",
       " \"of\"       \n",
       " \"panam\"    \n",
       " \"stapleton\"\n",
       " \"fokker\"   \n",
       " \"lufthansa\"\n",
       " \"to\"       \n",
       " \"laguardia\"\n",
       " \"nonjets\"  \n",
       " \"hartfield\"\n",
       " \"mcdonnell\"\n",
       " \"dulles\"   "
      ]
     },
     "execution_count": 8,
     "metadata": {},
     "output_type": "execute_result"
    }
   ],
   "source": [
    "setdiff(corpus_vocab,indexed_words)\n"
   ]
  },
  {
   "cell_type": "code",
   "execution_count": 9,
   "metadata": {
    "collapsed": false,
    "scrolled": true
   },
   "outputs": [
    {
     "data": {
      "text/plain": [
       "300x1119 Array{Float64,2}:\n",
       "  0.0529562  -0.00851202  -0.0123606    …  -0.0548293   0.0  0.0  0.0  0.0\n",
       "  0.0654598  -0.0342245   -0.0222299        0.0239878   0.0  0.0  0.0  0.0\n",
       "  0.0661953   0.0322839    0.0655398       -0.0190492   0.0  0.0  0.0  0.0\n",
       "  0.0470722   0.0458679    0.0394772        0.0826471   0.0  0.0  0.0  0.0\n",
       "  0.0522207  -0.0131429   -0.0866199        0.0620861   0.0  0.0  0.0  0.0\n",
       " -0.0820086  -0.0462207    0.0249128    …   0.0465646   0.0  0.0  0.0  0.0\n",
       " -0.0614145  -0.00094823  -0.0111628       -0.0786156   0.0  0.0  0.0  0.0\n",
       " -0.11621    -0.0522188   -0.0705224       -0.0516041   0.0  0.0  0.0  0.0\n",
       "  0.0156294   0.0465735    0.092369         0.00902063  0.0  0.0  0.0  0.0\n",
       "  0.0992929   0.0624509    0.0927522        0.0364857   0.0  0.0  0.0  0.0\n",
       " -0.0856861  -0.122785    -0.0563412    …   0.0395094   0.0  0.0  0.0  0.0\n",
       " -0.028133   -0.0287556   -0.0605572       -0.0588609   0.0  0.0  0.0  0.0\n",
       "  0.0522207   0.0515131   -0.0540416       -0.0903071   0.0  0.0  0.0  0.0\n",
       "  ⋮                                     ⋱               ⋮                 \n",
       " -0.0318105   0.0294613    0.0167682       -0.0199563   0.0  0.0  0.0  0.0\n",
       "  0.0181118   0.0211698    0.000958184      0.00942379  0.0  0.0  0.0  0.0\n",
       " -0.127242   -0.0163184   -0.00886321   …   0.0262052   0.0  0.0  0.0  0.0\n",
       " -0.0669308   0.00269033  -0.0122648       -0.00876866  0.0  0.0  0.0  0.0\n",
       " -0.060679   -0.0596282   -0.0262542        0.0336636   0.0  0.0  0.0  0.0\n",
       "  0.048911    0.0589226   -0.0161933        0.0701493   0.0  0.0  0.0  0.0\n",
       "  0.0461528   0.00573348  -0.0152351        0.0939355   0.0  0.0  0.0  0.0\n",
       " -0.0356719   0.00034456   0.0502089    …  -0.033462    0.0  0.0  0.0  0.0\n",
       " -0.0443141   0.0133193    0.01581         -0.0284225   0.0  0.0  0.0  0.0\n",
       " -0.0358558   0.0515131    0.00538979      -0.104821    0.0  0.0  0.0  0.0\n",
       "  0.0108946  -0.0252273    0.0479092       -0.0342683   0.0  0.0  0.0  0.0\n",
       " -0.0470722   0.0174651   -0.116515         0.0624893   0.0  0.0  0.0  0.0"
      ]
     },
     "execution_count": 9,
     "metadata": {},
     "output_type": "execute_result"
    }
   ],
   "source": [
    "#Kind of the opposite of a stop word. This word has little meaning (So zero value), but much structural importance\n",
    "forcewords = [\"and\", \"a\", \"of\", \"to\"]\n",
    "for word in forcewords\n",
    "    @assert(!(word in indexed_words))\n",
    "    push!(indexed_words, word)\n",
    "    word_indexes[word] = length(indexed_words)\n",
    "end\n",
    "LL = [LL zeros(size(LL,1),length(forcewords))]"
   ]
  },
  {
   "cell_type": "code",
   "execution_count": 10,
   "metadata": {
    "collapsed": false
   },
   "outputs": [
    {
     "data": {
      "text/plain": [
       "300x1121 Array{Float64,2}:\n",
       "  0.0529562  -0.00851202  -0.0123606    …  0.0  0.0  0.0  0.0  0.0  0.0\n",
       "  0.0654598  -0.0342245   -0.0222299       0.0  0.0  0.0  0.0  0.0  0.0\n",
       "  0.0661953   0.0322839    0.0655398       0.0  0.0  0.0  0.0  0.0  0.0\n",
       "  0.0470722   0.0458679    0.0394772       0.0  0.0  0.0  0.0  0.0  0.0\n",
       "  0.0522207  -0.0131429   -0.0866199       0.0  0.0  0.0  0.0  0.0  0.0\n",
       " -0.0820086  -0.0462207    0.0249128    …  0.0  0.0  0.0  0.0  0.0  0.0\n",
       " -0.0614145  -0.00094823  -0.0111628       0.0  0.0  0.0  0.0  0.0  0.0\n",
       " -0.11621    -0.0522188   -0.0705224       0.0  0.0  0.0  0.0  0.0  0.0\n",
       "  0.0156294   0.0465735    0.092369        0.0  0.0  0.0  0.0  0.0  0.0\n",
       "  0.0992929   0.0624509    0.0927522       0.0  0.0  0.0  0.0  0.0  0.0\n",
       " -0.0856861  -0.122785    -0.0563412    …  0.0  0.0  0.0  0.0  0.0  0.0\n",
       " -0.028133   -0.0287556   -0.0605572       0.0  0.0  0.0  0.0  0.0  0.0\n",
       "  0.0522207   0.0515131   -0.0540416       0.0  0.0  0.0  0.0  0.0  0.0\n",
       "  ⋮                                     ⋱  ⋮                        ⋮  \n",
       " -0.0318105   0.0294613    0.0167682       0.0  0.0  0.0  0.0  0.0  0.0\n",
       "  0.0181118   0.0211698    0.000958184     0.0  0.0  0.0  0.0  0.0  0.0\n",
       " -0.127242   -0.0163184   -0.00886321   …  0.0  0.0  0.0  0.0  0.0  0.0\n",
       " -0.0669308   0.00269033  -0.0122648       0.0  0.0  0.0  0.0  0.0  0.0\n",
       " -0.060679   -0.0596282   -0.0262542       0.0  0.0  0.0  0.0  0.0  0.0\n",
       "  0.048911    0.0589226   -0.0161933       0.0  0.0  0.0  0.0  0.0  0.0\n",
       "  0.0461528   0.00573348  -0.0152351       0.0  0.0  0.0  0.0  0.0  0.0\n",
       " -0.0356719   0.00034456   0.0502089    …  0.0  0.0  0.0  0.0  0.0  0.0\n",
       " -0.0443141   0.0133193    0.01581         0.0  0.0  0.0  0.0  0.0  0.0\n",
       " -0.0358558   0.0515131    0.00538979      0.0  0.0  0.0  0.0  0.0  0.0\n",
       "  0.0108946  -0.0252273    0.0479092       0.0  0.0  0.0  0.0  0.0  0.0\n",
       " -0.0470722   0.0174651   -0.116515        0.0  0.0  0.0  0.0  0.0  0.0"
      ]
     },
     "execution_count": 10,
     "metadata": {},
     "output_type": "execute_result"
    }
   ],
   "source": [
    "@assert(!(START_MARKER in indexed_words))\n",
    "push!(indexed_words, START_MARKER)\n",
    "word_indexes[START_MARKER] = length(indexed_words)\n",
    "\n",
    "@assert(!(END_MARKER in indexed_words))\n",
    "push!(indexed_words, END_MARKER)\n",
    "word_indexes[END_MARKER] = length(indexed_words)\n",
    "LL = [LL zeros(size(LL,1),2)]"
   ]
  },
  {
   "cell_type": "code",
   "execution_count": 11,
   "metadata": {
    "collapsed": false
   },
   "outputs": [],
   "source": [
    "known_vocab = Set(indexed_words)\n",
    "known_corpus = filter(corpus) do sent\n",
    "    for word in sent\n",
    "        if !( word in known_vocab)\n",
    "            return false\n",
    "        end\n",
    "    end\n",
    "    true\n",
    "end;"
   ]
  },
  {
   "cell_type": "code",
   "execution_count": 12,
   "metadata": {
    "collapsed": true
   },
   "outputs": [],
   "source": [
    "################LOADING Done, Now processing"
   ]
  },
  {
   "cell_type": "code",
   "execution_count": null,
   "metadata": {
    "collapsed": false
   },
   "outputs": [],
   "source": [
    "\n",
    "\n",
    "function collect_grams_stats(sentences)\n",
    "    unigrams = counter(AbstractString)\n",
    "    bigrams = DefaultDict(()->counter(AbstractString))\n",
    "    \n",
    "    for sent in sentences\n",
    "        push!(bigrams[START_MARKER], sent[1])\n",
    "        for ii in 1:length(sent)-1\n",
    "            push!(unigrams,sent[ii])\n",
    "            push!(bigrams[sent[ii]], sent[ii+1])    \n",
    "        end\n",
    "        push!(unigrams,sent[end])\n",
    "        push!(bigrams[sent[end]], END_MARKER)\n",
    "    end\n",
    "    \n",
    "    \n",
    "    [k=>v.map for (k,v) in bigrams], unigrams.map\n",
    "end\n",
    "\n",
    "\n"
   ]
  },
  {
   "cell_type": "code",
   "execution_count": null,
   "metadata": {
    "code_folding": [],
    "collapsed": false
   },
   "outputs": [],
   "source": [
    "using StatsBase\n",
    "# modified from https://github.com/JoFrhwld/GoodTuring.jl/blob/master/GoodTuring.jl\n",
    "function simpleGoodTuring(speciesCountDict::Dict)\n",
    "    speciesCountVec = collect(values(speciesCountDict))\n",
    "        \n",
    "    totalCounts = sum(speciesCountVec)\n",
    "    cofcDict = countmap(speciesCountVec)\n",
    "    r = sort(collect(keys(cofcDict)))\n",
    "\n",
    "    N = size(r,1)\n",
    "    Nr = [cofcDict[r[i]] for i in 1:N]\n",
    "\n",
    "    p0 = haskey(cofcDict, 1.0) ? cofcDict[1.0] / totalCounts : 0.0\n",
    "    \n",
    "    Z = sgtZ(r,Nr)\n",
    "    logr = map(log,r)\n",
    "    logZ = map(log,Z)\n",
    "\n",
    "    X = hcat(ones(N), logr)\n",
    "    Y = copy(logZ )\n",
    "    coefs = X\\Y\n",
    "    intercept = coefs[1]\n",
    "    slope = coefs[2]\n",
    "\n",
    "    useY = false\n",
    "    rSmooth = Array{Float64}(N)\n",
    "    for i in 1:N\n",
    "        @inbounds thisr = r[i]\n",
    "        \n",
    "        #y = ((thisr+1.0)^(slope+1.0))/(thisr^slope)\n",
    "        #The above is the much simplified form of the below (Performance identical output differs by 10^-16)\n",
    "        y = (thisr+1.0) * exp(slope * log(thisr+1.0) + intercept) / exp(slope * log(thisr) + intercept)\n",
    "\n",
    "        if !in(thisr+1, r)\n",
    "            useY = true\n",
    "        end\n",
    "\n",
    "        if useY\n",
    "            rSmooth[i] = y\n",
    "        else\n",
    "            x = (thisr+1) * cofcDict[thisr + 1]/cofcDict[thisr]\n",
    "            thisNr = cofcDict[thisr]\n",
    "            thisNr1 = cofcDict[thisr+1]\n",
    "\n",
    "            t = 1.96 * ((thisr+1)^2) * (thisNr1 / thisNr^2) * (1 + (thisNr1 / thisNr))\n",
    "\n",
    "            if abs(x-y) > t\n",
    "                @inbounds rSmooth[i] = x\n",
    "            else\n",
    "                useY = true\n",
    "                @inbounds rSmooth[i] = y\n",
    "            end\n",
    "        end\n",
    "    end\n",
    "\n",
    "    smoothTot = sum(Nr.*rSmooth)\n",
    "    sgtProb  = (1.0 - p0) .* (rSmooth/smoothTot)\n",
    "    sgtProbDict = Dict([r[i] => sgtProb[i] for i in 1:N])\n",
    "    sgtDict = Dict([sp=>sgtProbDict[speciesCountDict[sp]] for sp in keys(speciesCountDict)])\n",
    "\n",
    "    sgtDict, sgtProbDict, p0\n",
    "end\n",
    "\n",
    "\n",
    "function sgtZ(r::Array, Nr::Array)\n",
    "    j = r\n",
    "    i = [0; j[1:end-1]]\n",
    "    lastK = 2*j[end] - i[end]\n",
    "    k = [j[2:end]; lastK]\n",
    "    Float64[(2*Nr[iter])/(k[iter]-i[iter]) for iter = 1:length(j)]\n",
    "end\n",
    "\n",
    "function simpleGoodTuring(speciesCountVec::Vector)\n",
    "    sgtD = simpleGoodTuring(Dict([ii=>v for (ii,vv) in enumerate(speciesCountVec)]))\n",
    "    [sgtD[ii] for ii in 1:length(speciesCountVec)]\n",
    "end"
   ]
  },
  {
   "cell_type": "code",
   "execution_count": null,
   "metadata": {
    "collapsed": false
   },
   "outputs": [],
   "source": [
    "function katz_bigrams(bigram_freq::Dict, unigrams_freq::Dict)\n",
    "    k_bigrams = Dict()\n",
    "    \n",
    "    for first in keys(bigram_freq)\n",
    "        smoothed,_,p0 = simpleGoodTuring(bigram_freq[first])\n",
    "        k_bigrams[first] = smoothed\n",
    "        \n",
    "        backoff_keys = setdiff(keys(unigram_freq),keys(smoothed))\n",
    "        #share the p0 proability mass between them\n",
    "        total = sum([unigrams_freq[key] for key in backoff_keys])\n",
    "        for second in backoff_keys\n",
    "            k_bigrams[first][second]=p0.*unigrams_freq[second]./total\n",
    "        end\n",
    "    end\n",
    "    k_bigrams\n",
    "end"
   ]
  },
  {
   "cell_type": "code",
   "execution_count": null,
   "metadata": {
    "collapsed": false
   },
   "outputs": [],
   "source": [
    "function dict2mat(bigrams::Dict, word_indexes::Dict{AbstractString,Int64}, dense=False)\n",
    "    mat  = (dense ? zeros: spzeros)(length(word_indexes),length(word_indexes))\n",
    "    for first in keys(bigrams)\n",
    "        for second in keys(bigrams[first])\n",
    "            mat[word_indexes[second], word_indexes[first]] = bigrams[first][second]\n",
    "        end\n",
    "    end\n",
    "    mat\n",
    "end"
   ]
  },
  {
   "cell_type": "code",
   "execution_count": null,
   "metadata": {
    "collapsed": false
   },
   "outputs": [],
   "source": [
    "bigram_freq, unigram_freq = collect_grams_stats(known_corpus);\n",
    "kbigrams=katz_bigrams(bigram_freq, unigram_freq)\n",
    "kbigrams_mat = dict2mat(kbigrams,word_indexes,true)\n"
   ]
  },
  {
   "cell_type": "code",
   "execution_count": null,
   "metadata": {
    "collapsed": false,
    "scrolled": true
   },
   "outputs": [],
   "source": [
    "using Gadfly\n",
    "using Distributions"
   ]
  },
  {
   "cell_type": "code",
   "execution_count": null,
   "metadata": {
    "collapsed": false
   },
   "outputs": [],
   "source": [
    "sent_lengths = map(length, known_corpus)\n",
    "plot(x=sent_lengths, Geom.histogram)"
   ]
  },
  {
   "cell_type": "code",
   "execution_count": null,
   "metadata": {
    "collapsed": false,
    "scrolled": true
   },
   "outputs": [],
   "source": [
    "sent_length_dist = fit_mle(Gamma, sent_lengths)\n",
    "plot(x=[round(rand(sent_length_dist)) for _ in 1:length(sent_lengths)], Geom.histogram)"
   ]
  },
  {
   "cell_type": "code",
   "execution_count": null,
   "metadata": {
    "collapsed": false,
    "scrolled": true
   },
   "outputs": [],
   "source": [
    "length_prob=cdf(sent_length_dist,[1.5:1.0:50.5])-cdf(sent_length_dist,[0.5:1.0:49.5])\n"
   ]
  },
  {
   "cell_type": "code",
   "execution_count": null,
   "metadata": {
    "collapsed": true
   },
   "outputs": [],
   "source": []
  },
  {
   "cell_type": "code",
   "execution_count": null,
   "metadata": {
    "collapsed": false
   },
   "outputs": [],
   "source": [
    "function collect_cooccur_stats(sentences)\n",
    "    unioccur = counter(AbstractString)\n",
    "    bioccur = DefaultDict(()->counter(AbstractString))\n",
    "    \n",
    "    for sent in sentences\n",
    "        for ii in 1:length(sent)\n",
    "            push!(unioccur, sent[ii])\n",
    "            for jj in 1:length(sent)\n",
    "                if ii==jj\n",
    "                    continue\n",
    "                end\n",
    "                push!(bioccur[sent[ii]], sent[jj])    \n",
    "            end\n",
    "        end       \n",
    "    end\n",
    "    \n",
    "    [k=>v.map for (k,v) in bioccur], unioccur.map\n",
    "    \n",
    "end"
   ]
  },
  {
   "cell_type": "code",
   "execution_count": null,
   "metadata": {
    "collapsed": false,
    "scrolled": true
   },
   "outputs": [],
   "source": [
    "bioccur_freq, unioccur_freq = collect_cooccur_stats(known_corpus)\n",
    "\n",
    "bioccur_mat = dict2mat(bioccur_freq,word_indexes,true)\n",
    "bioccur_mat.+=1.0 # Add one smoothing\n",
    "bioccur_mat./=sum(bioccur_mat)\n",
    "\n",
    "unioccur = freq2prob(unioccur_freq)\n",
    "unioccur_vec = Float64[word in keys(unioccurs) ? unioccurs[word] : 0.0 for word in indexed_words]"
   ]
  },
  {
   "cell_type": "code",
   "execution_count": null,
   "metadata": {
    "collapsed": false
   },
   "outputs": [],
   "source": [
    "unioccur_vec_smoothed = Float64[word in keys(unioccur_freq) ? unioccur_freq[word] : 0.0 for word in indexed_words]\n",
    "unioccur_vec_smoothed.+=1.0 # Add one smoothing\n",
    "unioccur_vec_smoothed./=sum(unioccur_vec_smoothed)"
   ]
  },
  {
   "cell_type": "code",
   "execution_count": null,
   "metadata": {
    "collapsed": false
   },
   "outputs": [],
   "source": [
    "sum(bioccur_mat,2)"
   ]
  },
  {
   "cell_type": "code",
   "execution_count": null,
   "metadata": {
    "collapsed": false
   },
   "outputs": [],
   "source": [
    "open(\"atis_data.jsz\",\"w\") do fh\n",
    "    data = Dict([\n",
    "        (\"bigrams\", kbigrams_mat),\n",
    "        (\"bioccur\", bioccur_mat),\n",
    "        (\"unioccur\", unioccur_vec),\n",
    "        \n",
    "        (\"length_prob\", length_prob),\n",
    "        (\"LL\",LL),\n",
    "        (\"word_indexes\", word_indexes),\n",
    "        (\"indexed_words\", indexed_words),\n",
    "        ])\n",
    "    serialize(fh, data)    \n",
    "end"
   ]
  },
  {
   "cell_type": "code",
   "execution_count": null,
   "metadata": {
    "collapsed": true
   },
   "outputs": [],
   "source": []
  },
  {
   "cell_type": "code",
   "execution_count": null,
   "metadata": {
    "collapsed": false
   },
   "outputs": [],
   "source": [
    "function likelyhood(sent, bigrams)\n",
    "    words = split(sent)\n",
    "    words = [START_MARKER; words; END_MARKER]\n",
    "    \n",
    "    p=1.0\n",
    "    for ii in 1:length(words)-1\n",
    "        p*=bigrams[words[ii]][words[ii+1]]\n",
    "    end\n",
    "    p\n",
    "end\n",
    "\n",
    "\n",
    "function select_word{S<:AbstractString,V}(unigrams::Dict{S,V})\n",
    "    cutoff = rand()\n",
    "    total = 0.0\n",
    "    for next_word in keys(unigrams)\n",
    "        total+=unigrams[next_word]\n",
    "        if total>=cutoff\n",
    "            return next_word\n",
    "        end\n",
    "    end\n",
    "    assert(False, \"Should never reach here\") \n",
    "end\n",
    "\n",
    "function random_walk(bigrams)\n",
    "    words=[]\n",
    "    cur = START_MARKER\n",
    "    while(cur!=END_MARKER)\n",
    "        cur = select_word(bigrams[cur])\n",
    "        push!(words,cur)\n",
    "    end\n",
    "    words = words[1:end-1]\n",
    "    join(words, \" \")\n",
    "end\n",
    "\n",
    "walk =random_walk(kbigrams) \n",
    "print(walk*\"\\t\")\n",
    "print(likelyhood(walk,kbigrams))"
   ]
  },
  {
   "cell_type": "code",
   "execution_count": null,
   "metadata": {
    "collapsed": true
   },
   "outputs": [],
   "source": []
  },
  {
   "cell_type": "code",
   "execution_count": null,
   "metadata": {
    "collapsed": false
   },
   "outputs": [],
   "source": [
    "LL"
   ]
  },
  {
   "cell_type": "markdown",
   "metadata": {},
   "source": [
    "Frame's Magic Mass-Sharing Co-occurance PMF, Inspired by Bengio 2003\n",
    "---"
   ]
  },
  {
   "cell_type": "code",
   "execution_count": 13,
   "metadata": {
    "collapsed": false,
    "scrolled": true
   },
   "outputs": [
    {
     "data": {
      "text/plain": [
       "11-element Array{Int64,1}:\n",
       "  2\n",
       "  3\n",
       "  4\n",
       "  5\n",
       "  6\n",
       "  7\n",
       "  8\n",
       "  9\n",
       " 10\n",
       " 11\n",
       " 12"
      ]
     },
     "execution_count": 13,
     "metadata": {},
     "output_type": "execute_result"
    }
   ],
   "source": [
    "addprocs(11)"
   ]
  },
  {
   "cell_type": "code",
   "execution_count": 63,
   "metadata": {
    "collapsed": false
   },
   "outputs": [
    {
     "data": {
      "text/plain": [
       "prepare_cases (generic function with 1 method)"
      ]
     },
     "execution_count": 63,
     "metadata": {},
     "output_type": "execute_result"
    }
   ],
   "source": [
    "function prepare_cases(sentence)\n",
    "    Task() do\n",
    "        sentence_iis = Int[word_indexes[word] for word in sentence]\n",
    "        for n_givens in 1:length(sentence_iis)\n",
    "            given_prob = 1.0/(n_givens)\n",
    "            given_keep = rand(length(sentence_iis)).<given_prob\n",
    "            given_iis::Vector{Int} =  sentence_iis[given_keep]\n",
    "            cooccur_iis::Vector{Int} =  sentence_iis[~given_keep]\n",
    "            produce(given_iis, cooccur_iis)\n",
    "        end   \n",
    "    end\n",
    "end"
   ]
  },
  {
   "cell_type": "code",
   "execution_count": null,
   "metadata": {
    "collapsed": true
   },
   "outputs": [],
   "source": [
    "training_case_type = Tuple{Vector{Int64},Vector{Int64}}\n",
    "training_cases = @pipe (known_corpus\n",
    "                            |> map(prepare_cases, _) |> chain(_...)\n",
    "                            |> repeated(_, 5) |> chain(_...) \n",
    "                            |> collect(training_case_type,_))\n"
   ]
  },
  {
   "cell_type": "code",
   "execution_count": 91,
   "metadata": {
    "collapsed": false
   },
   "outputs": [],
   "source": [
    "\n",
    "dEmb = 128\n",
    "CC = 0.01*randn((dEmb, length(indexed_words)))\n",
    "WW = 0.01*randn((length(indexed_words),dEmb))\n",
    "bb = 0.01*randn((length(indexed_words)));\n"
   ]
  },
  {
   "cell_type": "code",
   "execution_count": 15,
   "metadata": {
    "collapsed": false
   },
   "outputs": [],
   "source": [
    "@everywhere function loss(actual, expected)\n",
    "    sum(0.5*(expected-actual).^2)\n",
    "end\n",
    "\n",
    "@everywhere function \n",
    "    tanh(W*x+b)forward(x,W,b)\n",
    "end\n",
    "\n",
    "\n",
    "@everywhere function δ(δ_above, W)\n",
    "    (W'*δ_above)\n",
    "end\n",
    "\n",
    "\n",
    "@everywhere function δ_output(actual, expected) \n",
    "    #Output Layer\n",
    "    const dz = 1-actual.^2\n",
    "    const δ_above = -(expected-actual)\n",
    "    δ_above.*dz\n",
    "end\n",
    "\n",
    "\n",
    "@everywhere function feedforward_backprop(x,W,b, expected_output)\n",
    "    actual_output = forward(x,W,b)\n",
    "    err = loss(actual_output, expected_output)\n",
    "    \n",
    "    δ_top = δ_output(actual_output, expected_output)\n",
    "    ΔW  = δ_top*x'\n",
    "    Δb  = δ_top\n",
    "    δ_bottom = δ(δ_top, W)\n",
    "    Δx  = δ_bottom\n",
    "    Δx,ΔW,Δb,err\n",
    "end\n",
    "\n"
   ]
  },
  {
   "cell_type": "code",
   "execution_count": null,
   "metadata": {
    "collapsed": true
   },
   "outputs": [],
   "source": []
  },
  {
   "cell_type": "code",
   "execution_count": 17,
   "metadata": {
    "collapsed": false
   },
   "outputs": [
    {
     "ename": "LoadError",
     "evalue": "LoadError: UndefVarError: dg not defined\nwhile loading In[17], in expression starting on line 21",
     "output_type": "error",
     "traceback": [
      "LoadError: UndefVarError: dg not defined\nwhile loading In[17], in expression starting on line 21",
      ""
     ]
    }
   ],
   "source": [
    "xx=sum([CC[:,g_ii] for g_ii in [1,2,3]])\n",
    "target = zeros(bb)\n",
    "target[[10,11,12]]=1.0\n",
    "\n",
    "\n",
    "using ForwardDiff\n",
    "\n",
    "function f(θ)\n",
    "    actual = forward(unpack(θ,size(xx),size(WW),size(bb))...)\n",
    "    loss(actual, target)\n",
    "end\n",
    "\n",
    "function calc_ag(θ)\n",
    "    Δx,ΔW,Δb,err = feedforward_backprop(unpack(θ,size(xx),size(WW),size(bb))..., target)\n",
    "end\n",
    "\n",
    "g = ForwardDiff.gradient(f)\n",
    "\n",
    "t=pack(xx,WW,bb)\n",
    "#dg = g(t)  #Commented out so can't be run  \n",
    "dxg,dWg,dbg = unpack(dg,size(xx),size(WW),size(bb));\n",
    "axg,aWg,abg,a_err = calc_ag(t)\n",
    "\n",
    "@printval f(t) == a_err\n",
    "@printval findmax(abs(dxg.-axg))\n",
    "@printval findmax(abs(dWg.-aWg))\n",
    "@printval findmax(abs(dbg.-abg))"
   ]
  },
  {
   "cell_type": "code",
   "execution_count": null,
   "metadata": {
    "collapsed": true
   },
   "outputs": [],
   "source": []
  },
  {
   "cell_type": "code",
   "execution_count": 83,
   "metadata": {
    "collapsed": false
   },
   "outputs": [
    {
     "data": {
      "text/plain": [
       "train_all (generic function with 1 method)"
      ]
     },
     "execution_count": 83,
     "metadata": {},
     "output_type": "execute_result"
    }
   ],
   "source": [
    "@everywhere function mysubarray(xs, id=myid(), nchunks=nworkers())\n",
    "    len = length(xs)\n",
    "    chunk_size = div(len, nchunks+1)\n",
    "    start_index = (id-2)*chunk_size + 1\n",
    "    end_index = start_index+chunk_size-1\n",
    "    print(start_index : end_index)\n",
    "    sub(xs, start_index : end_index)\n",
    "end\n",
    "\n",
    "@everywhere function train_one(given_iis, target_iis, C, W, b)\n",
    "    given_sowe = length(given_iis)>0 ? sum([C[:,g_ii] for g_ii in given_iis]) : zeros(C[:,1])\n",
    "    target = zeros(b) #just while we are testing use a one hot set rep\n",
    "    for t_ii in target_iis\n",
    "        target+=1.0/length(target_iis)\n",
    "    end\n",
    "        \n",
    "    Δx,ΔW,Δb, err= feedforward_backprop(given_sowe,W,b, target)\n",
    "    \n",
    "    ΔC = zeros(C)\n",
    "    for g_ii in given_iis\n",
    "        ΔC[:, g_ii]+=Δx/length(given_iis)\n",
    "    end\n",
    "    ΔC,ΔW,Δb, err\n",
    "end\n",
    "\n",
    "\n",
    "function train_all(training_cases,C, W, b)\n",
    "    \n",
    "    function accumulate_training_over(xxs,fun)\n",
    "        total_ΔC=zeros(C)\n",
    "        total_ΔW=zeros(W)\n",
    "        total_Δb=zeros(b)\n",
    "        total_err = 0.0\n",
    "        for xx in xxs\n",
    "            ΔC, ΔW, Δb,err = fun(xx)\n",
    "            @inbounds total_ΔC+=ΔC\n",
    "            @inbounds total_ΔW+=ΔW\n",
    "            @inbounds total_Δb+=Δb\n",
    "            total_err+=err\n",
    "        end\n",
    "        total_ΔC, total_ΔW, total_Δb, total_err\n",
    "    end\n",
    "    \n",
    "    function train_remote()\n",
    "        accumulate_training_over(mysubarray(training_cases),\n",
    "                                 gt_iis -> train_one(gt_iis[1], gt_iis[2], C, W, b) )\n",
    "    end\n",
    "    \n",
    "    r_updates = [@spawnat(id, train_remote())  for id in workers()]\n",
    "        \n",
    "    totals = accumulate_training_over(r_updates, fetch)\n",
    "    ([tot./length(training_cases) for tot in totals]...)\n",
    "end\n",
    "    "
   ]
  },
  {
   "cell_type": "code",
   "execution_count": 84,
   "metadata": {
    "collapsed": false
   },
   "outputs": [
    {
     "data": {
      "text/plain": [
       "loss_grad! (generic function with 1 method)"
      ]
     },
     "execution_count": 84,
     "metadata": {},
     "output_type": "execute_result"
    }
   ],
   "source": [
    "function uncached_loss_and_loss_grad!(θ::Vector, grad::Vector)    \n",
    "    C, W, b = unpack!(θ, CC,WW,bb)\n",
    "    ΔC, ΔW, Δb, err = train_all(training_cases, C, W, b )\n",
    "    pack!(grad, ΔC, ΔW, Δb)\n",
    "    err/=length(training_cases)\n",
    "    err\n",
    "end\n",
    "\n",
    "_loss_and_loss_grad=Dict{Vector{Float64},Tuple{Float64, Vector{Float64}}}()\n",
    "function loss_and_loss_grad!(θ::Vector, grad::Vector)    \n",
    "    if haskey(_loss_and_loss_grad,θ)\n",
    "        err, grad[:]= _loss_and_loss_grad[θ]\n",
    "    else\n",
    "        err = uncached_loss_and_loss_grad!(θ, grad)\n",
    "        _loss_and_loss_grad[θ] = (err, copy(grad))\n",
    "    end\n",
    "    err\n",
    "end\n",
    "\n",
    "function loss!(θ::Vector)  \n",
    "    dummy_grad = similar(θ) \n",
    "    loss_and_loss_grad!(θ, dummy_grad)\n",
    "end\n",
    "\n",
    "function loss_grad!(θ::Vector, storage::Vector) \n",
    "    #warn(\"loss_grad not defined\")\n",
    "    loss_and_loss_grad!(θ, grad)\n",
    "end\n"
   ]
  },
  {
   "cell_type": "code",
   "execution_count": null,
   "metadata": {
    "collapsed": false
   },
   "outputs": [],
   "source": []
  },
  {
   "cell_type": "code",
   "execution_count": null,
   "metadata": {
    "collapsed": true
   },
   "outputs": [],
   "source": [
    "1+1"
   ]
  },
  {
   "cell_type": "code",
   "execution_count": 21,
   "metadata": {
    "collapsed": true
   },
   "outputs": [],
   "source": [
    "using Optim\n",
    "push!(LOAD_PATH, \"../Optimisation\")\n",
    "using AdaDelta"
   ]
  },
  {
   "cell_type": "code",
   "execution_count": null,
   "metadata": {
    "collapsed": false
   },
   "outputs": [
    {
     "name": "stdout",
     "output_type": "stream",
     "text": [
      "     0     3.565896e-03     8.446513e-01\n",
      "     1     3.528844e-03     8.406374e-01\n",
      "     2     3.464284e-03     8.309836e-01\n",
      "     3     3.329083e-03     8.081528e-01\n",
      "     4     3.085299e-03     7.590511e-01\n",
      "     5     2.747035e-03     8.369466e-01\n",
      "     6     2.365967e-03     8.331008e-01\n",
      "     7     1.994252e-03     7.229702e-01\n",
      "     8     1.695189e-03     5.678735e-01\n",
      "     9     1.489651e-03     4.312128e-01\n",
      "    10     1.355305e-03     3.305347e-01\n",
      "    11     1.265858e-03     2.593704e-01\n",
      "    12     1.203880e-03     2.260245e-01\n",
      "    13     1.159147e-03     2.104209e-01\n",
      "    14     1.125676e-03     1.986031e-01\n",
      "    15     1.099851e-03     1.894040e-01\n",
      "    16     1.079400e-03     1.820763e-01\n",
      "    17     1.062839e-03     1.761546e-01\n",
      "    18     1.049168e-03     1.713001e-01\n",
      "    19     1.037689e-03     1.672308e-01\n",
      "    20     1.027908e-03     1.637759e-01\n",
      "    21     1.019461e-03     1.608092e-01\n",
      "    22     1.012079e-03     1.582356e-01\n",
      "    23     1.005560e-03     1.559826e-01\n",
      "    24     9.997449e-04     1.539938e-01\n",
      "    25     9.945132e-04     1.522249e-01\n",
      "    26     9.897679e-04     1.506406e-01\n",
      "    27     9.854319e-04     1.492126e-01\n",
      "    28     9.814430e-04     1.479177e-01\n",
      "    29     9.777505e-04     1.467372e-01\n",
      "    30     9.743127e-04     1.456553e-01\n",
      "    31     9.710951e-04     1.446592e-01\n",
      "    32     9.680686e-04     1.437378e-01\n",
      "    33     9.652092e-04     1.428821e-01\n",
      "    34     9.624960e-04     1.420841e-01\n",
      "    35     9.599117e-04     1.413372e-01\n",
      "    36     9.574412e-04     1.406356e-01\n",
      "    37     9.550715e-04     1.399744e-01\n",
      "    38     9.527913e-04     1.393493e-01\n",
      "    39     9.505910e-04     1.387565e-01\n",
      "    40     9.484620e-04     1.381928e-01\n",
      "    41     9.463968e-04     1.376553e-01\n",
      "    42     9.443887e-04     1.371414e-01\n",
      "    43     9.424319e-04     1.366488e-01\n",
      "    44     9.405213e-04     1.361757e-01\n",
      "    45     9.386521e-04     1.357201e-01\n",
      "    46     9.368202e-04     1.352805e-01\n",
      "    47     9.350220e-04     1.348555e-01\n",
      "    48     9.332540e-04     1.344437e-01\n",
      "    49     9.315133e-04     1.340441e-01\n",
      "    50     9.297971e-04     1.336555e-01\n",
      "    51     9.281030e-04     1.332770e-01\n",
      "    52     9.264286e-04     1.329078e-01\n",
      "    53     9.247721e-04     1.325470e-01\n",
      "    54     9.231314e-04     1.321940e-01\n"
     ]
    }
   ],
   "source": [
    "opt_func = DifferentiableFunction(loss!,loss_grad!,loss_and_loss_grad!)\n",
    "θ=pack(CC,WW,bb)\n",
    "#@time res = optimize(opt_func, θ, method=:l_bfgs, show_trace = true, store_trace = true, iterations = 10);\n",
    "@time res = adadelta(opt_func, θ, show_trace = true, iterations = 500);\n",
    "@printval res.f_calls \n",
    "@printval res.g_calls \n",
    "@printval res.iterations\n",
    "@printval res.f_minimum\n",
    "@printval res.gr_converged\n",
    "@printval res.x_converged                       \n",
    "@printval res.f_converged \n"
   ]
  },
  {
   "cell_type": "code",
   "execution_count": 86,
   "metadata": {
    "collapsed": false
   },
   "outputs": [
    {
     "data": {
      "text/plain": [
       "\"my\""
      ]
     },
     "execution_count": 86,
     "metadata": {},
     "output_type": "execute_result"
    }
   ],
   "source": [
    "sowe = CC[:,word_indexes[\"ground\"]]\n",
    "ns = forward(sowe,WW,bb)\n",
    "indexed_words[findmax(ns)[2]]"
   ]
  },
  {
   "cell_type": "code",
   "execution_count": 90,
   "metadata": {
    "collapsed": false
   },
   "outputs": [
    {
     "data": {
      "text/plain": [
       "9.753875802249328e-7"
      ]
     },
     "execution_count": 90,
     "metadata": {},
     "output_type": "execute_result"
    }
   ],
   "source": [
    "var(ns)"
   ]
  },
  {
   "cell_type": "code",
   "execution_count": 44,
   "metadata": {
    "collapsed": false
   },
   "outputs": [
    {
     "data": {
      "text/plain": [
       "\"tallahassee\""
      ]
     },
     "execution_count": 44,
     "metadata": {},
     "output_type": "execute_result"
    }
   ],
   "source": []
  },
  {
   "cell_type": "code",
   "execution_count": null,
   "metadata": {
    "collapsed": true
   },
   "outputs": [],
   "source": []
  }
 ],
 "metadata": {
  "kernelspec": {
   "display_name": "Julia 0.5.0-dev",
   "language": "julia",
   "name": "julia-0.5"
  },
  "language_info": {
   "file_extension": ".jl",
   "mimetype": "application/julia",
   "name": "julia",
   "version": "0.5.0"
  }
 },
 "nbformat": 4,
 "nbformat_minor": 0
}
