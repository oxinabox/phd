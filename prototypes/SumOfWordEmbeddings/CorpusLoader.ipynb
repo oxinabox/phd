{
 "cells": [
  {
   "cell_type": "code",
   "execution_count": 1,
   "metadata": {
    "collapsed": false
   },
   "outputs": [
    {
     "name": "stderr",
     "output_type": "stream",
     "text": [
      "WARNING: Base.Uint8 is deprecated, use UInt8 instead.\n",
      "WARNING: Base.Uint8 is deprecated, use UInt8 instead.\n",
      "WARNING: Base.Uint8 is deprecated, use UInt8 instead.\n",
      "WARNING: Base.Uint8 is deprecated, use UInt8 instead.\n",
      "WARNING: Base.Uint8 is deprecated, use UInt8 instead.\n",
      "WARNING: Base.Uint8 is deprecated, use UInt8 instead.\n",
      "WARNING: Base.Uint8 is deprecated, use UInt8 instead.\n",
      "WARNING: Base.Uint8 is deprecated, use UInt8 instead.\n",
      "WARNING: Base.Uint8 is deprecated, use UInt8 instead.\n",
      "WARNING: Base.Uint8 is deprecated, use UInt8 instead.\n",
      "WARNING: Base.Uint8 is deprecated, use UInt8 instead.\n",
      "WARNING: Base.Uint8 is deprecated, use UInt8 instead.\n",
      "WARNING: Base.Uint8 is deprecated, use UInt8 instead.\n",
      "WARNING: Base.Uint8 is deprecated, use UInt8 instead.\n",
      "WARNING: Base.Uint8 is deprecated, use UInt8 instead.\n"
     ]
    },
    {
     "data": {
      "text/plain": [
       "3-element Array{ByteString,1}:\n",
       " \"/home/ubuntu/build/julia-master/usr/local/share/julia/site/v0.5\"\n",
       " \"/home/ubuntu/build/julia-master/usr/share/julia/site/v0.5\"      \n",
       " \".\"                                                              "
      ]
     },
     "execution_count": 1,
     "metadata": {},
     "output_type": "execute_result"
    }
   ],
   "source": [
    "using Iterators\n",
    "using DataStructures\n",
    "using Pipe\n",
    "using Compat\n",
    "\n",
    "macro printval(ee)\n",
    "    ee_expr = @sprintf \"%s\" string(ee)\n",
    "    esc(:(println($ee_expr,\" = \", $ee)))\n",
    "end\n",
    "\n",
    "macro pz(ee)\n",
    "    ee_expr = @sprintf \"%s\" string(ee)\n",
    "    esc(:(println($ee_expr,\"\\t\\t\",typeof($ee), \"\\t\", size($ee))))\n",
    "end\n",
    "\n",
    "push!(LOAD_PATH, \".\")"
   ]
  },
  {
   "cell_type": "code",
   "execution_count": 2,
   "metadata": {
    "collapsed": false
   },
   "outputs": [
    {
     "data": {
      "text/plain": [
       "freq2prob (generic function with 1 method)"
      ]
     },
     "execution_count": 2,
     "metadata": {},
     "output_type": "execute_result"
    }
   ],
   "source": [
    "using DataStructures\n",
    "\n",
    "function Base.sum(acc::Accumulator)\n",
    "    sum(values(acc.map))\n",
    "end\n",
    "\n",
    "function freq2prob{T,V<:Number}(acc::Accumulator{T,V})\n",
    "    ret=Dict{T,Float64}()\n",
    "    total = sum(acc)\n",
    "    for (k,v) in acc\n",
    "        ret[k]=v/total\n",
    "    end\n",
    "    ret\n",
    "end"
   ]
  },
  {
   "cell_type": "code",
   "execution_count": null,
   "metadata": {
    "collapsed": false
   },
   "outputs": [],
   "source": []
  },
  {
   "cell_type": "code",
   "execution_count": 3,
   "metadata": {
    "collapsed": false
   },
   "outputs": [
    {
     "data": {
      "text/plain": [
       "clean (generic function with 1 method)"
      ]
     },
     "execution_count": 3,
     "metadata": {},
     "output_type": "execute_result"
    }
   ],
   "source": [
    "function clean(ss)\n",
    "    @pipe (ss \n",
    "    |> replace(_, r\"\\[.*?\\] ?\",\"\")  #Remove Nonword sounds\n",
    "    |> replace(_, r\"\\<.*?\\> \",\"\")  #Remove Verbal Deltions\n",
    "    |> replace(_, r\"\\*(.*?)\\*\",s\"\\1\") #Remove mispronounciation marks\n",
    "    |> replace(_,r\"\\:|\\-\\s\\.\\s\\-\", \"\") #remove intraword pauses\n",
    "    |> replace(_,r\"\\w+\\- \",\"\") #remove stuttered words\n",
    "    |> replace(_, r\"[!\\.,\\?]\",\"\")        #Remove punctation as it is not used traditionally (see sro spec)\n",
    "    \n",
    "    |> replace(_, r\"\\s+\",' ') #Remove repeated spaces\n",
    "    #|> replace(_, r\"([A-Z])\\s([A-Z])\", s\"\\1\\2\") #Merge len(2) abbrev\n",
    "    |> replace(_, r\".*[~\\(\\)\\-\\<\\>#'].*\",\"\")#Remove everything if anything unfixable found\n",
    "    |> lowercase\n",
    "    |> strip \n",
    "    )\n",
    "end\n"
   ]
  },
  {
   "cell_type": "code",
   "execution_count": 4,
   "metadata": {
    "collapsed": false
   },
   "outputs": [
    {
     "data": {
      "text/plain": [
       "collect_grams_stats (generic function with 1 method)"
      ]
     },
     "execution_count": 4,
     "metadata": {},
     "output_type": "execute_result"
    }
   ],
   "source": [
    "const START_MARKER = \"**START**\"\n",
    "const END_MARKER = \"**END**\"\n",
    "\n",
    "function collect_grams_stats(sentences)\n",
    "    unigrams = counter(AbstractString)\n",
    "    bigrams = DefaultDict(()->counter(AbstractString))\n",
    "    \n",
    "    for sent in sentences\n",
    "        push!(bigrams[START_MARKER], sent[1])\n",
    "        for ii in 1:length(sent)-1\n",
    "            push!(unigrams,sent[ii])\n",
    "            push!(bigrams[sent[ii]], sent[ii+1])    \n",
    "        end\n",
    "        push!(unigrams,sent[end])\n",
    "        push!(bigrams[sent[end]], END_MARKER)\n",
    "    end\n",
    "    \n",
    "    \n",
    "    [k=>v.map for (k,v) in bigrams], unigrams.map\n",
    "end\n",
    "\n",
    "\n"
   ]
  },
  {
   "cell_type": "code",
   "execution_count": 5,
   "metadata": {
    "collapsed": false
   },
   "outputs": [
    {
     "data": {
      "text/plain": [
       "1131"
      ]
     },
     "execution_count": 5,
     "metadata": {},
     "output_type": "execute_result"
    }
   ],
   "source": [
    "path=\"../../Resources/corpora/atis2_text/\"\n",
    "function valid(ss)\n",
    "    typeof(ss) <: ASCIIString  && length(ss)>0\n",
    "end\n",
    "    \n",
    "corpus = @pipe readdir(path) |> filter!(fn -> splitext(fn)[2]==\".sro\", _) |> map(_) do fn\n",
    "    try open(readall, path*fn) end\n",
    "    end |> filter!(valid,_) |> map(clean,_) |> filter!(valid,_) |> map(s->split(s),_);\n",
    "corpus_vocab = @pipe corpus |> map(Set,_) |> reduce(union,_)\n",
    "length(corpus_vocab)"
   ]
  },
  {
   "cell_type": "code",
   "execution_count": 6,
   "metadata": {
    "collapsed": false
   },
   "outputs": [],
   "source": [
    "using WordEmbeddings\n",
    "LL, word_indexes, indexed_words = load_word2vec_embeddings(\"word_emb_data/GoogleNews-vectors-negative300.bin\", length(corpus_vocab), corpus_vocab);"
   ]
  },
  {
   "cell_type": "code",
   "execution_count": 7,
   "metadata": {
    "collapsed": false
   },
   "outputs": [
    {
     "data": {
      "text/plain": [
       "16-element Array{UTF8String,1}:\n",
       " \"and\"      \n",
       " \"a\"        \n",
       " \"respeak\"  \n",
       " \"nondirect\"\n",
       " \"maluso\"   \n",
       " \"of\"       \n",
       " \"panam\"    \n",
       " \"stapleton\"\n",
       " \"fokker\"   \n",
       " \"lufthansa\"\n",
       " \"to\"       \n",
       " \"laguardia\"\n",
       " \"nonjets\"  \n",
       " \"hartfield\"\n",
       " \"mcdonnell\"\n",
       " \"dulles\"   "
      ]
     },
     "execution_count": 7,
     "metadata": {},
     "output_type": "execute_result"
    }
   ],
   "source": [
    "setdiff(corpus_vocab,indexed_words)\n"
   ]
  },
  {
   "cell_type": "code",
   "execution_count": 8,
   "metadata": {
    "collapsed": false,
    "scrolled": true
   },
   "outputs": [
    {
     "data": {
      "text/plain": [
       "300x1119 Array{Float64,2}:\n",
       "  0.0529562  -0.00851202  -0.0123606    …  -0.0548293   0.0  0.0  0.0  0.0\n",
       "  0.0654598  -0.0342245   -0.0222299        0.0239878   0.0  0.0  0.0  0.0\n",
       "  0.0661953   0.0322839    0.0655398       -0.0190492   0.0  0.0  0.0  0.0\n",
       "  0.0470722   0.0458679    0.0394772        0.0826471   0.0  0.0  0.0  0.0\n",
       "  0.0522207  -0.0131429   -0.0866199        0.0620861   0.0  0.0  0.0  0.0\n",
       " -0.0820086  -0.0462207    0.0249128    …   0.0465646   0.0  0.0  0.0  0.0\n",
       " -0.0614145  -0.00094823  -0.0111628       -0.0786156   0.0  0.0  0.0  0.0\n",
       " -0.11621    -0.0522188   -0.0705224       -0.0516041   0.0  0.0  0.0  0.0\n",
       "  0.0156294   0.0465735    0.092369         0.00902063  0.0  0.0  0.0  0.0\n",
       "  0.0992929   0.0624509    0.0927522        0.0364857   0.0  0.0  0.0  0.0\n",
       " -0.0856861  -0.122785    -0.0563412    …   0.0395094   0.0  0.0  0.0  0.0\n",
       " -0.028133   -0.0287556   -0.0605572       -0.0588609   0.0  0.0  0.0  0.0\n",
       "  0.0522207   0.0515131   -0.0540416       -0.0903071   0.0  0.0  0.0  0.0\n",
       "  ⋮                                     ⋱               ⋮                 \n",
       " -0.0318105   0.0294613    0.0167682       -0.0199563   0.0  0.0  0.0  0.0\n",
       "  0.0181118   0.0211698    0.000958184      0.00942379  0.0  0.0  0.0  0.0\n",
       " -0.127242   -0.0163184   -0.00886321   …   0.0262052   0.0  0.0  0.0  0.0\n",
       " -0.0669308   0.00269033  -0.0122648       -0.00876866  0.0  0.0  0.0  0.0\n",
       " -0.060679   -0.0596282   -0.0262542        0.0336636   0.0  0.0  0.0  0.0\n",
       "  0.048911    0.0589226   -0.0161933        0.0701493   0.0  0.0  0.0  0.0\n",
       "  0.0461528   0.00573348  -0.0152351        0.0939355   0.0  0.0  0.0  0.0\n",
       " -0.0356719   0.00034456   0.0502089    …  -0.033462    0.0  0.0  0.0  0.0\n",
       " -0.0443141   0.0133193    0.01581         -0.0284225   0.0  0.0  0.0  0.0\n",
       " -0.0358558   0.0515131    0.00538979      -0.104821    0.0  0.0  0.0  0.0\n",
       "  0.0108946  -0.0252273    0.0479092       -0.0342683   0.0  0.0  0.0  0.0\n",
       " -0.0470722   0.0174651   -0.116515         0.0624893   0.0  0.0  0.0  0.0"
      ]
     },
     "execution_count": 8,
     "metadata": {},
     "output_type": "execute_result"
    },
    {
     "name": "stderr",
     "output_type": "stream",
     "text": [
      "WARNING: Base.Uint8 is deprecated, use UInt8 instead.\n",
      "WARNING: Base.Uint8 is deprecated, use UInt8 instead.\n",
      "WARNING: Base.Uint8 is deprecated, use UInt8 instead.\n",
      "WARNING: Base.Uint8 is deprecated, use UInt8 instead.\n",
      "WARNING: Base.Uint8 is deprecated, use UInt8 instead.\n",
      "WARNING: Base.Uint8 is deprecated, use UInt8 instead.\n"
     ]
    }
   ],
   "source": [
    "#Kind of the opposite of a stop word. This word has little meaning (So zero value), but much structural importance\n",
    "forcewords = [\"and\", \"a\", \"of\", \"to\"]\n",
    "for word in forcewords\n",
    "    @assert(!(word in indexed_words))\n",
    "    push!(indexed_words, word)\n",
    "    word_indexes[word] = length(indexed_words)\n",
    "end\n",
    "LL = [LL zeros(size(LL,1),length(forcewords))]"
   ]
  },
  {
   "cell_type": "code",
   "execution_count": 9,
   "metadata": {
    "collapsed": false
   },
   "outputs": [
    {
     "data": {
      "text/plain": [
       "300x1121 Array{Float64,2}:\n",
       "  0.0529562  -0.00851202  -0.0123606    …  0.0  0.0  0.0  0.0  0.0  0.0\n",
       "  0.0654598  -0.0342245   -0.0222299       0.0  0.0  0.0  0.0  0.0  0.0\n",
       "  0.0661953   0.0322839    0.0655398       0.0  0.0  0.0  0.0  0.0  0.0\n",
       "  0.0470722   0.0458679    0.0394772       0.0  0.0  0.0  0.0  0.0  0.0\n",
       "  0.0522207  -0.0131429   -0.0866199       0.0  0.0  0.0  0.0  0.0  0.0\n",
       " -0.0820086  -0.0462207    0.0249128    …  0.0  0.0  0.0  0.0  0.0  0.0\n",
       " -0.0614145  -0.00094823  -0.0111628       0.0  0.0  0.0  0.0  0.0  0.0\n",
       " -0.11621    -0.0522188   -0.0705224       0.0  0.0  0.0  0.0  0.0  0.0\n",
       "  0.0156294   0.0465735    0.092369        0.0  0.0  0.0  0.0  0.0  0.0\n",
       "  0.0992929   0.0624509    0.0927522       0.0  0.0  0.0  0.0  0.0  0.0\n",
       " -0.0856861  -0.122785    -0.0563412    …  0.0  0.0  0.0  0.0  0.0  0.0\n",
       " -0.028133   -0.0287556   -0.0605572       0.0  0.0  0.0  0.0  0.0  0.0\n",
       "  0.0522207   0.0515131   -0.0540416       0.0  0.0  0.0  0.0  0.0  0.0\n",
       "  ⋮                                     ⋱  ⋮                        ⋮  \n",
       " -0.0318105   0.0294613    0.0167682       0.0  0.0  0.0  0.0  0.0  0.0\n",
       "  0.0181118   0.0211698    0.000958184     0.0  0.0  0.0  0.0  0.0  0.0\n",
       " -0.127242   -0.0163184   -0.00886321   …  0.0  0.0  0.0  0.0  0.0  0.0\n",
       " -0.0669308   0.00269033  -0.0122648       0.0  0.0  0.0  0.0  0.0  0.0\n",
       " -0.060679   -0.0596282   -0.0262542       0.0  0.0  0.0  0.0  0.0  0.0\n",
       "  0.048911    0.0589226   -0.0161933       0.0  0.0  0.0  0.0  0.0  0.0\n",
       "  0.0461528   0.00573348  -0.0152351       0.0  0.0  0.0  0.0  0.0  0.0\n",
       " -0.0356719   0.00034456   0.0502089    …  0.0  0.0  0.0  0.0  0.0  0.0\n",
       " -0.0443141   0.0133193    0.01581         0.0  0.0  0.0  0.0  0.0  0.0\n",
       " -0.0358558   0.0515131    0.00538979      0.0  0.0  0.0  0.0  0.0  0.0\n",
       "  0.0108946  -0.0252273    0.0479092       0.0  0.0  0.0  0.0  0.0  0.0\n",
       " -0.0470722   0.0174651   -0.116515        0.0  0.0  0.0  0.0  0.0  0.0"
      ]
     },
     "execution_count": 9,
     "metadata": {},
     "output_type": "execute_result"
    }
   ],
   "source": [
    "@assert(!(START_MARKER in indexed_words))\n",
    "push!(indexed_words, START_MARKER)\n",
    "word_indexes[START_MARKER] = length(indexed_words)\n",
    "\n",
    "@assert(!(END_MARKER in indexed_words))\n",
    "push!(indexed_words, END_MARKER)\n",
    "word_indexes[END_MARKER] = length(indexed_words)\n",
    "LL = [LL zeros(size(LL,1),2)]"
   ]
  },
  {
   "cell_type": "code",
   "execution_count": null,
   "metadata": {
    "collapsed": true
   },
   "outputs": [],
   "source": [
    "known_vocab"
   ]
  },
  {
   "cell_type": "code",
   "execution_count": 10,
   "metadata": {
    "collapsed": false
   },
   "outputs": [],
   "source": [
    "known_vocab = Set(indexed_words)\n",
    "known_corpus = filter(corpus) do sent\n",
    "    for word in sent\n",
    "        if !( word in known_vocab)\n",
    "            return false\n",
    "        end\n",
    "    end\n",
    "    true\n",
    "end;"
   ]
  },
  {
   "cell_type": "code",
   "execution_count": 11,
   "metadata": {
    "code_folding": [],
    "collapsed": false
   },
   "outputs": [
    {
     "data": {
      "text/plain": [
       "sgtZ (generic function with 1 method)"
      ]
     },
     "execution_count": 11,
     "metadata": {},
     "output_type": "execute_result"
    }
   ],
   "source": [
    "using StatsBase\n",
    "# modified from https://github.com/JoFrhwld/GoodTuring.jl/blob/master/GoodTuring.jl\n",
    "function simpleGoodTuring(speciesCountDict::Dict)\n",
    "    speciesCountVec = collect(values(speciesCountDict))\n",
    "        \n",
    "    totalCounts = sum(speciesCountVec)\n",
    "    cofcDict = countmap(speciesCountVec)\n",
    "    r = sort(collect(keys(cofcDict)))\n",
    "\n",
    "    N = size(r,1)\n",
    "    Nr = [cofcDict[r[i]] for i in 1:N]\n",
    "\n",
    "    p0 = haskey(cofcDict, 1.0) ? cofcDict[1.0] / totalCounts : 0.0\n",
    "    \n",
    "    Z = sgtZ(r,Nr)\n",
    "    logr = map(log,r)\n",
    "    logZ = map(log,Z)\n",
    "\n",
    "    X = hcat(ones(N), logr)\n",
    "    Y = copy(logZ )\n",
    "    coefs = X\\Y\n",
    "    intercept = coefs[1]\n",
    "    slope = coefs[2]\n",
    "\n",
    "    useY = false\n",
    "    rSmooth = Array{Float64}(N)\n",
    "    for i in 1:N\n",
    "        @inbounds thisr = r[i]\n",
    "        \n",
    "        #y = ((thisr+1.0)^(slope+1.0))/(thisr^slope)\n",
    "        #The above is the much simplified form of the below (Performance identical output differs by 10^-16)\n",
    "        y = (thisr+1.0) * exp(slope * log(thisr+1.0) + intercept) / exp(slope * log(thisr) + intercept)\n",
    "\n",
    "        if !in(thisr+1, r)\n",
    "            useY = true\n",
    "        end\n",
    "\n",
    "        if useY\n",
    "            rSmooth[i] = y\n",
    "        else\n",
    "            x = (thisr+1) * cofcDict[thisr + 1]/cofcDict[thisr]\n",
    "            thisNr = cofcDict[thisr]\n",
    "            thisNr1 = cofcDict[thisr+1]\n",
    "\n",
    "            t = 1.96 * ((thisr+1)^2) * (thisNr1 / thisNr^2) * (1 + (thisNr1 / thisNr))\n",
    "\n",
    "            if abs(x-y) > t\n",
    "                @inbounds rSmooth[i] = x\n",
    "            else\n",
    "                useY = true\n",
    "                @inbounds rSmooth[i] = y\n",
    "            end\n",
    "        end\n",
    "    end\n",
    "\n",
    "    smoothTot = sum(Nr.*rSmooth)\n",
    "    sgtProb  = (1.0 - p0) .* (rSmooth/smoothTot)\n",
    "    sgtProbDict = Dict([r[i] => sgtProb[i] for i in 1:N])\n",
    "    sgtDict = Dict([sp=>sgtProbDict[speciesCountDict[sp]] for sp in keys(speciesCountDict)])\n",
    "\n",
    "    sgtDict, sgtProbDict, p0\n",
    "end\n",
    "\n",
    "\n",
    "function sgtZ(r::Array, Nr::Array)\n",
    "    j = r\n",
    "    i = [0; j[1:end-1]]\n",
    "    lastK = 2*j[end] - i[end]\n",
    "    k = [j[2:end]; lastK]\n",
    "    Float64[(2*Nr[iter])/(k[iter]-i[iter]) for iter = 1:length(j)]\n",
    "end\n"
   ]
  },
  {
   "cell_type": "code",
   "execution_count": 12,
   "metadata": {
    "collapsed": false
   },
   "outputs": [
    {
     "data": {
      "text/plain": [
       "katz_bigrams (generic function with 1 method)"
      ]
     },
     "execution_count": 12,
     "metadata": {},
     "output_type": "execute_result"
    }
   ],
   "source": [
    "\n",
    "function katz_bigrams(bigram_freq, unigrams_freq)\n",
    "    k_bigrams = Dict()\n",
    "    \n",
    "    for first in keys(bigram_freq)\n",
    "        smoothed,_,p0 = simpleGoodTuring(bigram_freq[first])\n",
    "        k_bigrams[first] = smoothed\n",
    "        \n",
    "        backoff_keys = setdiff(keys(unigram_freq),keys(smoothed))\n",
    "        #share the p0 proability mass between them\n",
    "        total = sum([unigrams_freq[key] for key in backoff_keys])\n",
    "        for second in backoff_keys\n",
    "            k_bigrams[first][second]=p0.*unigrams_freq[second]./total\n",
    "        end\n",
    "    end\n",
    "    k_bigrams\n",
    "end"
   ]
  },
  {
   "cell_type": "code",
   "execution_count": null,
   "metadata": {
    "collapsed": true
   },
   "outputs": [],
   "source": []
  },
  {
   "cell_type": "code",
   "execution_count": 22,
   "metadata": {
    "collapsed": false
   },
   "outputs": [
    {
     "data": {
      "text/plain": [
       "bigrams_dict2mat (generic function with 2 methods)"
      ]
     },
     "execution_count": 22,
     "metadata": {},
     "output_type": "execute_result"
    }
   ],
   "source": [
    "function bigrams_dict2mat(bigrams::Dict, word_indexes::Dict{AbstractString,Int64}, dense=False)\n",
    "    mat  = (dense ? zeros: spzeros)(length(word_indexes),length(word_indexes))\n",
    "    for first in keys(bigrams)\n",
    "        for second in keys(bigrams[first])\n",
    "            mat[word_indexes[second], word_indexes[first]] = bigrams[first][second]\n",
    "        end\n",
    "    end\n",
    "    mat\n",
    "end"
   ]
  },
  {
   "cell_type": "code",
   "execution_count": 24,
   "metadata": {
    "collapsed": false
   },
   "outputs": [
    {
     "data": {
      "text/plain": [
       "1121x1121 Array{Float64,2}:\n",
       " 0.000738563  0.000845547  0.00104524   …  0.000216622  0.00248123   0.0\n",
       " 0.000738563  0.00254699   0.000843736     0.000144551  0.000804161  0.0\n",
       " 0.00293742   0.0166282    0.000649407     0.000106928  0.000424392  0.0\n",
       " 0.000462381  0.00131654   0.0175479       0.000337286  0.0342978    0.0\n",
       " 0.000642955  0.00183069   0.00166171      0.000469007  0.00728763   0.0\n",
       " 6.13763e-5   0.000174757  0.00021603   …  4.47713e-5   0.000198714  0.0\n",
       " 5.61369e-7   1.59839e-6   1.97588e-6      4.09494e-7   8.01806e-7   0.0\n",
       " 2.24548e-6   6.39355e-6   0.00166171      1.63798e-6   3.20723e-6   0.0\n",
       " 0.243514     0.0948053    0.00459815      0.00608653   0.00522763   0.0\n",
       " 0.00108937   0.000565209  0.000843736     5.74656e-5   0.000500169  0.0\n",
       " 5.42657e-6   1.54511e-5   1.91002e-5   …  3.95844e-6   0.000125023  0.0\n",
       " 1.02918e-5   2.93038e-5   3.62245e-5      7.50739e-6   1.46998e-5   0.0\n",
       " 2.95654e-5   8.41817e-5   0.000104063     2.15667e-5   0.000273493  0.0\n",
       " ⋮                                      ⋱                            ⋮  \n",
       " 7.48492e-7   0.00162723   2.63451e-6      5.45992e-7   1.06908e-6   0.0\n",
       " 1.30986e-6   3.72957e-6   4.61039e-6   …  9.55486e-7   1.87088e-6   0.0\n",
       " 1.12274e-6   3.19677e-6   3.95177e-6      8.18988e-7   1.60361e-6   0.0\n",
       " 3.92958e-6   0.000565209  1.38312e-5      2.86646e-6   5.61264e-6   0.0\n",
       " 1.87123e-7   5.32796e-7   6.58628e-7      0.000106928  2.67269e-7   0.0\n",
       " 0.000336634  0.000958499  0.00118487      0.00024556   0.000480817  0.0\n",
       " 0.00729852   0.000776816  0.00166171   …  0.000286673  0.00339662   0.0\n",
       " 0.0060507    0.0599521    0.0065819       0.000742226  0.00148984   0.0\n",
       " 0.000291538  0.000830096  0.00102614      0.000212664  0.00126117   0.0\n",
       " 0.00170062   0.00347116   0.000843736     0.000106928  0.00118496   0.0\n",
       " 0.0          0.0          0.0             0.0          0.0          0.0\n",
       " 0.00418097   0.0232189    0.0774842    …  0.000589989  0.0          0.0"
      ]
     },
     "execution_count": 24,
     "metadata": {},
     "output_type": "execute_result"
    }
   ],
   "source": [
    "bigram_freq, unigram_freq = collect_grams_stats(known_corpus);\n",
    "kbigrams=katz_bigrams(bigram_freq, unigram_freq)\n",
    "kbigrams_mat = bigrams_dict2mat(kbigrams,word_indexes,true)\n"
   ]
  },
  {
   "cell_type": "code",
   "execution_count": null,
   "metadata": {
    "collapsed": true
   },
   "outputs": [],
   "source": []
  },
  {
   "cell_type": "code",
   "execution_count": null,
   "metadata": {
    "collapsed": true
   },
   "outputs": [],
   "source": []
  },
  {
   "cell_type": "code",
   "execution_count": 25,
   "metadata": {
    "collapsed": false
   },
   "outputs": [
    {
     "data": {
      "text/plain": [
       "collect_cooccur_stats (generic function with 1 method)"
      ]
     },
     "execution_count": 25,
     "metadata": {},
     "output_type": "execute_result"
    }
   ],
   "source": [
    "function collect_cooccur_stats(sentences)\n",
    "    unioccur = counter(AbstractString)\n",
    "    bioccur = DefaultDict(()->counter(AbstractString))\n",
    "    \n",
    "    for sent in sentences\n",
    "        for ii in 1:length(sent)\n",
    "            push!(unioccur, sent[ii])\n",
    "            for jj in 1:length(sent)\n",
    "                if ii==jj\n",
    "                    continue\n",
    "                end\n",
    "                push!(bioccur[sent[ii]], sent[jj])    \n",
    "            end\n",
    "        end       \n",
    "    end\n",
    "    \n",
    "    [k=>v.map for (k,v) in bioccur], unioccur.map\n",
    "    \n",
    "end"
   ]
  },
  {
   "cell_type": "code",
   "execution_count": 26,
   "metadata": {
    "collapsed": false,
    "scrolled": true
   },
   "outputs": [
    {
     "data": {
      "text/plain": [
       "1121x1121 Array{Float64,2}:\n",
       " 0.00854599   0.00662352   0.0205733    …  0.0108031    0.010797     0.0  0.0\n",
       " 0.0040545    0.00388946   0.00562277      0.00596491   0.00500017   0.0  0.0\n",
       " 0.0121497    0.00542734   0.00420745      0.00832641   0.00584526   0.0  0.0\n",
       " 0.0136121    0.0200386    0.0255273       0.0307899    0.0126852    0.0  0.0\n",
       " 0.017268     0.0131174    0.0223426       0.02647      0.030221     0.0  0.0\n",
       " 0.0068225    0.00073039   0.000407736  …  0.00141513   0.00330998   0.0  0.0\n",
       " 1.03952e-5   1.01867e-5   0.000147622     1.50007e-5   7.41077e-6   0.0  0.0\n",
       " 0.000140777  0.000110425  0.000407736     9.62274e-5   6.2145e-5    0.0  0.0\n",
       " 0.0511115    0.0652404    0.0455207       0.057919     0.0389492    0.0  0.0\n",
       " 0.00499457   0.00252264   0.00765738      0.00354587   0.00295346   0.0  0.0\n",
       " 0.000347873  8.81605e-5   0.000759593  …  9.62274e-5   0.000180678  0.0  0.0\n",
       " 0.00149562   0.000390776  0.000233394     4.82865e-5   0.000827552  0.0  0.0\n",
       " 0.00113016   0.00107126   0.000583407     0.00141513   0.00151417   0.0  0.0\n",
       " ⋮                                      ⋱                                 ⋮  \n",
       " 6.89406e-5   0.000222684  1.50958e-5      2.00009e-5   4.90467e-5   0.0  0.0\n",
       " 4.58138e-5   2.37689e-5   7.15002e-5   …  4.82865e-5   8.84238e-5   0.0  0.0\n",
       " 2.07903e-5   2.03733e-5   2.26437e-5      3.00013e-5   8.84238e-5   0.0  0.0\n",
       " 7.27661e-5   8.81605e-5   7.92531e-5      0.000105005  0.000233454  0.0  0.0\n",
       " 3.46505e-6   3.39555e-6   3.77396e-6      5.00022e-6   1.59073e-5   0.0  0.0\n",
       " 0.0190437    0.00764884   0.013496        0.00752004   0.0235526    0.0  0.0\n",
       " 0.021394     0.0120066    0.0139383    …  0.0109759    0.00978023   0.0  0.0\n",
       " 0.027139     0.0185005    0.0284467       0.0195005    0.0199082    0.0  0.0\n",
       " 0.00979945   0.00884507   0.0127883       0.00412182   0.00649229   0.0  0.0\n",
       " 0.0427029    0.032343     0.0391511       0.0283132    0.0235526    0.0  0.0\n",
       " 0.0          0.0          0.0             0.0          0.0          0.0  0.0\n",
       " 0.0          0.0          0.0          …  0.0          0.0          0.0  0.0"
      ]
     },
     "execution_count": 26,
     "metadata": {},
     "output_type": "execute_result"
    }
   ],
   "source": [
    "bioccur_freq, unioccur_freq = collect_cooccur_stats(known_corpus)\n",
    "kbioccur=katz_bigrams(bioccur_freq, unioccur_freq)\n",
    "kbioccur_mat = bigrams_dict2mat(kbioccur,word_indexes,true)\n"
   ]
  },
  {
   "cell_type": "code",
   "execution_count": null,
   "metadata": {
    "collapsed": true
   },
   "outputs": [],
   "source": []
  },
  {
   "cell_type": "code",
   "execution_count": 27,
   "metadata": {
    "collapsed": false
   },
   "outputs": [],
   "source": [
    "open(\"atis_data.jsz\",\"w\") do fh\n",
    "    data = Dict([\n",
    "        (\"bigrams\", kbigrams_mat),\n",
    "        (\"bioccur\", kbioccur_mat),\n",
    "        (\"LL\",LL),\n",
    "        (\"word_indexes\", word_indexes),\n",
    "        (\"indexed_words\", indexed_words),\n",
    "        ])\n",
    "    serialize(fh, data)    \n",
    "end"
   ]
  },
  {
   "cell_type": "code",
   "execution_count": null,
   "metadata": {
    "collapsed": true
   },
   "outputs": [],
   "source": []
  },
  {
   "cell_type": "code",
   "execution_count": 40,
   "metadata": {
    "collapsed": false
   },
   "outputs": [
    {
     "name": "stdout",
     "output_type": "stream",
     "text": [
      "show the fare for one way\t3.6139704065231135e-8"
     ]
    }
   ],
   "source": [
    "function likelyhood(sent, bigrams)\n",
    "    words = split(sent)\n",
    "    words = [START_MARKER; words; END_MARKER]\n",
    "    \n",
    "    p=1.0\n",
    "    for ii in 1:length(words)-1\n",
    "        p*=bigrams[words[ii]][words[ii+1]]\n",
    "    end\n",
    "    p\n",
    "end\n",
    "\n",
    "\n",
    "function select_word{S<:AbstractString,V}(unigrams::Dict{S,V})\n",
    "    cutoff = rand()\n",
    "    total = 0.0\n",
    "    for next_word in keys(unigrams)\n",
    "        total+=unigrams[next_word]\n",
    "        if total>=cutoff\n",
    "            return next_word\n",
    "        end\n",
    "    end\n",
    "    assert(False, \"Should never reach here\") \n",
    "end\n",
    "\n",
    "function random_walk(bigrams)\n",
    "    words=[]\n",
    "    cur = START_MARKER\n",
    "    while(cur!=END_MARKER)\n",
    "        cur = select_word(bigrams[cur])\n",
    "        push!(words,cur)\n",
    "    end\n",
    "    words = words[1:end-1]\n",
    "    join(words, \" \")\n",
    "end\n",
    "\n",
    "walk =random_walk(kbigrams) \n",
    "print(walk*\"\\t\")\n",
    "print(likelyhood(walk,kbigrams))"
   ]
  },
  {
   "cell_type": "code",
   "execution_count": null,
   "metadata": {
    "collapsed": true
   },
   "outputs": [],
   "source": []
  }
 ],
 "metadata": {
  "kernelspec": {
   "display_name": "Julia 0.5.0-dev",
   "language": "julia",
   "name": "julia-0.5"
  },
  "language_info": {
   "file_extension": ".jl",
   "mimetype": "application/julia",
   "name": "julia",
   "version": "0.5.0"
  }
 },
 "nbformat": 4,
 "nbformat_minor": 0
}
