{
 "cells": [
  {
   "cell_type": "code",
   "execution_count": 1,
   "metadata": {
    "collapsed": false
   },
   "outputs": [
    {
     "data": {
      "text/plain": [
       "4-element Array{ByteString,1}:\n",
       " \"/home/ubuntu/build/julia-master/usr/local/share/julia/site/v0.5\"\n",
       " \"/home/ubuntu/build/julia-master/usr/share/julia/site/v0.5\"      \n",
       " \".\"                                                              \n",
       " \"../util\"                                                        "
      ]
     },
     "execution_count": 1,
     "metadata": {},
     "output_type": "execute_result"
    }
   ],
   "source": [
    "using Iterators\n",
    "using DataStructures\n",
    "using Pipe\n",
    "using Compat\n",
    "\n",
    "macro printval(ee)\n",
    "    ee_expr = @sprintf \"%s\" string(ee)\n",
    "    esc(:(println($ee_expr,\" = \", $ee)))\n",
    "end\n",
    "\n",
    "macro pz(ee)\n",
    "    ee_expr = @sprintf \"%s\" string(ee)\n",
    "    esc(:(println($ee_expr,\"\\t\\t\",typeof($ee), \"\\t\", size($ee))))\n",
    "end\n",
    "\n",
    "push!(LOAD_PATH, \".\")\n",
    "push!(LOAD_PATH, \"../util\")"
   ]
  },
  {
   "cell_type": "code",
   "execution_count": 2,
   "metadata": {
    "collapsed": false
   },
   "outputs": [],
   "source": [
    "using Packing"
   ]
  },
  {
   "cell_type": "code",
   "execution_count": 3,
   "metadata": {
    "collapsed": false
   },
   "outputs": [
    {
     "data": {
      "text/plain": [
       "freq2prob (generic function with 1 method)"
      ]
     },
     "execution_count": 3,
     "metadata": {},
     "output_type": "execute_result"
    }
   ],
   "source": [
    "using DataStructures\n",
    "\n",
    "function Base.sum(acc::Accumulator)\n",
    "    sum(values(acc.map))\n",
    "end\n",
    "\n",
    "function Base.sum(acc::Dict)\n",
    "    sum(values(acc))\n",
    "end\n",
    "\n",
    "function freq2prob{T,V<:Number}(acc::Union{Accumulator{T,V},Dict{T,V}})\n",
    "    \n",
    "    ret=Dict{T,Float64}()\n",
    "    total = sum(acc)\n",
    "    for (k,v) in acc\n",
    "        ret[k]=v/total\n",
    "    end\n",
    "    ret\n",
    "end"
   ]
  },
  {
   "cell_type": "code",
   "execution_count": 4,
   "metadata": {
    "collapsed": false
   },
   "outputs": [
    {
     "data": {
      "text/plain": [
       "clean (generic function with 1 method)"
      ]
     },
     "execution_count": 4,
     "metadata": {},
     "output_type": "execute_result"
    }
   ],
   "source": [
    "function clean(ss)\n",
    "    @pipe (ss \n",
    "    |> replace(_, r\"\\[.*?\\] ?\",\"\")  #Remove Nonword sounds\n",
    "    |> replace(_, r\"\\<.*?\\> \",\"\")  #Remove Verbal Deltions\n",
    "    |> replace(_, r\"\\*(.*?)\\*\",s\"\\1\") #Remove mispronounciation marks\n",
    "    |> replace(_,r\"\\:|\\-\\s\\.\\s\\-\", \"\") #remove intraword pauses\n",
    "    |> replace(_,r\"\\w+\\- \",\"\") #remove stuttered words\n",
    "    |> replace(_, r\"[!\\.,\\?]\",\"\")        #Remove punctation as it is not used traditionally (see sro spec)\n",
    "    \n",
    "    |> replace(_, r\"\\s+\",' ') #Remove repeated spaces\n",
    "    #|> replace(_, r\"([A-Z])\\s([A-Z])\", s\"\\1\\2\") #Merge len(2) abbrev\n",
    "    |> replace(_, r\".*[~\\(\\)\\-\\<\\>#'].*\",\"\")#Remove everything if anything unfixable found\n",
    "    |> lowercase\n",
    "    |> strip \n",
    "    )\n",
    "end\n"
   ]
  },
  {
   "cell_type": "code",
   "execution_count": 5,
   "metadata": {
    "collapsed": false
   },
   "outputs": [
    {
     "data": {
      "text/plain": [
       "\"**END**\""
      ]
     },
     "execution_count": 5,
     "metadata": {},
     "output_type": "execute_result"
    }
   ],
   "source": [
    "const START_MARKER = \"**START**\"\n",
    "const END_MARKER = \"**END**\""
   ]
  },
  {
   "cell_type": "code",
   "execution_count": 6,
   "metadata": {
    "collapsed": false
   },
   "outputs": [
    {
     "data": {
      "text/plain": [
       "14"
      ]
     },
     "execution_count": 6,
     "metadata": {},
     "output_type": "execute_result"
    }
   ],
   "source": [
    "path=\"../../Resources/corpora/atis2_text/\"\n",
    "function valid(ss)\n",
    "    typeof(ss) <: ASCIIString  && length(ss)>0\n",
    "end\n",
    "    \n",
    "corpus = @pipe readdir(path)[1:4] |> filter!(fn -> splitext(fn)[2]==\".sro\", _) |> map(_) do fn\n",
    "    try open(readall, path*fn) end\n",
    "    end |> filter!(valid,_) |> map(clean,_) |> filter!(valid,_) |> map(s->split(s),_);\n",
    "corpus_vocab = @pipe corpus |> map(Set,_) |> reduce(union,_)\n",
    "length(corpus_vocab)"
   ]
  },
  {
   "cell_type": "code",
   "execution_count": 7,
   "metadata": {
    "collapsed": false
   },
   "outputs": [],
   "source": [
    "using WordEmbeddings\n",
    "LL, word_indexes, indexed_words = load_word2vec_embeddings(\"word_emb_data/GoogleNews-vectors-negative300.bin\", length(corpus_vocab), corpus_vocab);"
   ]
  },
  {
   "cell_type": "code",
   "execution_count": 8,
   "metadata": {
    "collapsed": false
   },
   "outputs": [
    {
     "data": {
      "text/plain": [
       "1-element Array{UTF8String,1}:\n",
       " \"to\""
      ]
     },
     "execution_count": 8,
     "metadata": {},
     "output_type": "execute_result"
    }
   ],
   "source": [
    "setdiff(corpus_vocab,indexed_words)\n"
   ]
  },
  {
   "cell_type": "code",
   "execution_count": 9,
   "metadata": {
    "collapsed": false,
    "scrolled": true
   },
   "outputs": [
    {
     "data": {
      "text/plain": [
       "300x17 Array{Float64,2}:\n",
       "  0.00374603   0.0746853    0.0348454    …  -0.0964167   0.0  0.0  0.0  0.0\n",
       " -0.0389198    0.0979106   -0.00010466       0.0181234   0.0  0.0  0.0  0.0\n",
       "  0.0913317    0.0464506    0.0456797        0.0547328   0.0  0.0  0.0  0.0\n",
       "  0.0120003    0.0498661    0.0319173        0.0739436   0.0  0.0  0.0  0.0\n",
       " -0.0705745   -0.062845     0.0150802       -0.026279    0.0  0.0  0.0  0.0\n",
       "  0.105343    -0.112483     0.012518     …  -0.0349782   0.0  0.0  0.0  0.0\n",
       "  0.0599364    0.0327887   -0.0415803       -0.104391    0.0  0.0  0.0  0.0\n",
       " -0.0573418   -0.110662    -0.0796467        0.0424088   0.0  0.0  0.0  0.0\n",
       "  0.0381414    0.0409858   -0.0415803        0.0025033   0.0  0.0  0.0  0.0\n",
       "  0.0110921    0.0281208    0.0983872        0.00602604  0.0  0.0  0.0  0.0\n",
       " -0.0653852   -0.0530539   -0.0629561    …  -0.0424088   0.0  0.0  0.0  0.0\n",
       " -0.0313953   -0.0710421   -0.0480223       -0.0366093   0.0  0.0  0.0  0.0\n",
       "  0.0537093    0.0120111   -0.0325029       -0.131939    0.0  0.0  0.0  0.0\n",
       "  ⋮                                      ⋱                         ⋮       \n",
       "  0.0555255   -0.0664881   -0.0281106       -0.0122333   0.0  0.0  0.0  0.0\n",
       " -0.00668123  -0.0833379   -0.0151534       -0.0764809   0.0  0.0  0.0  0.0\n",
       " -0.124024    -0.0664881   -0.178034     …   0.103666    0.0  0.0  0.0  0.0\n",
       " -0.0193302   -0.0281208    0.0351383        0.0757559   0.0  0.0  0.0  0.0\n",
       " -0.0498173   -0.012125     0.000947086     -0.0020049   0.0  0.0  0.0  0.0\n",
       "  0.09704      0.0152558    0.0093702        0.0132301   0.0  0.0  0.0  0.0\n",
       "  0.0144003   -0.0170774   -0.00585638       0.0357032   0.0  0.0  0.0  0.0\n",
       "  0.0679799    0.0138327    0.0819893    …  -0.0554577   0.0  0.0  0.0  0.0\n",
       " -0.0131679    0.00466783   0.0667627       -0.0971416   0.0  0.0  0.0  0.0\n",
       "  0.0059677    0.00341549   0.00607599      -0.0949668   0.0  0.0  0.0  0.0\n",
       "  0.0871803    0.0444013    0.0386521       -0.00282046  0.0  0.0  0.0  0.0\n",
       "  0.0568229   -0.0642112   -0.0177887        0.0227449   0.0  0.0  0.0  0.0"
      ]
     },
     "execution_count": 9,
     "metadata": {},
     "output_type": "execute_result"
    }
   ],
   "source": [
    "#Kind of the opposite of a stop word. This word has little meaning (So zero value), but much structural importance\n",
    "forcewords = [\"and\", \"a\", \"of\", \"to\"]\n",
    "for word in forcewords\n",
    "    @assert(!(word in indexed_words))\n",
    "    push!(indexed_words, word)\n",
    "    word_indexes[word] = length(indexed_words)\n",
    "end\n",
    "LL = [LL zeros(size(LL,1),length(forcewords))]"
   ]
  },
  {
   "cell_type": "code",
   "execution_count": 10,
   "metadata": {
    "collapsed": false
   },
   "outputs": [
    {
     "data": {
      "text/plain": [
       "300x19 Array{Float64,2}:\n",
       "  0.00374603   0.0746853    0.0348454    …  0.0  0.0  0.0  0.0  0.0  0.0\n",
       " -0.0389198    0.0979106   -0.00010466      0.0  0.0  0.0  0.0  0.0  0.0\n",
       "  0.0913317    0.0464506    0.0456797       0.0  0.0  0.0  0.0  0.0  0.0\n",
       "  0.0120003    0.0498661    0.0319173       0.0  0.0  0.0  0.0  0.0  0.0\n",
       " -0.0705745   -0.062845     0.0150802       0.0  0.0  0.0  0.0  0.0  0.0\n",
       "  0.105343    -0.112483     0.012518     …  0.0  0.0  0.0  0.0  0.0  0.0\n",
       "  0.0599364    0.0327887   -0.0415803       0.0  0.0  0.0  0.0  0.0  0.0\n",
       " -0.0573418   -0.110662    -0.0796467       0.0  0.0  0.0  0.0  0.0  0.0\n",
       "  0.0381414    0.0409858   -0.0415803       0.0  0.0  0.0  0.0  0.0  0.0\n",
       "  0.0110921    0.0281208    0.0983872       0.0  0.0  0.0  0.0  0.0  0.0\n",
       " -0.0653852   -0.0530539   -0.0629561    …  0.0  0.0  0.0  0.0  0.0  0.0\n",
       " -0.0313953   -0.0710421   -0.0480223       0.0  0.0  0.0  0.0  0.0  0.0\n",
       "  0.0537093    0.0120111   -0.0325029       0.0  0.0  0.0  0.0  0.0  0.0\n",
       "  ⋮                                      ⋱            ⋮                 \n",
       "  0.0555255   -0.0664881   -0.0281106       0.0  0.0  0.0  0.0  0.0  0.0\n",
       " -0.00668123  -0.0833379   -0.0151534       0.0  0.0  0.0  0.0  0.0  0.0\n",
       " -0.124024    -0.0664881   -0.178034     …  0.0  0.0  0.0  0.0  0.0  0.0\n",
       " -0.0193302   -0.0281208    0.0351383       0.0  0.0  0.0  0.0  0.0  0.0\n",
       " -0.0498173   -0.012125     0.000947086     0.0  0.0  0.0  0.0  0.0  0.0\n",
       "  0.09704      0.0152558    0.0093702       0.0  0.0  0.0  0.0  0.0  0.0\n",
       "  0.0144003   -0.0170774   -0.00585638      0.0  0.0  0.0  0.0  0.0  0.0\n",
       "  0.0679799    0.0138327    0.0819893    …  0.0  0.0  0.0  0.0  0.0  0.0\n",
       " -0.0131679    0.00466783   0.0667627       0.0  0.0  0.0  0.0  0.0  0.0\n",
       "  0.0059677    0.00341549   0.00607599      0.0  0.0  0.0  0.0  0.0  0.0\n",
       "  0.0871803    0.0444013    0.0386521       0.0  0.0  0.0  0.0  0.0  0.0\n",
       "  0.0568229   -0.0642112   -0.0177887       0.0  0.0  0.0  0.0  0.0  0.0"
      ]
     },
     "execution_count": 10,
     "metadata": {},
     "output_type": "execute_result"
    }
   ],
   "source": [
    "@assert(!(START_MARKER in indexed_words))\n",
    "push!(indexed_words, START_MARKER)\n",
    "word_indexes[START_MARKER] = length(indexed_words)\n",
    "\n",
    "@assert(!(END_MARKER in indexed_words))\n",
    "push!(indexed_words, END_MARKER)\n",
    "word_indexes[END_MARKER] = length(indexed_words)\n",
    "LL = [LL zeros(size(LL,1),2)]"
   ]
  },
  {
   "cell_type": "code",
   "execution_count": 11,
   "metadata": {
    "collapsed": false
   },
   "outputs": [],
   "source": [
    "known_vocab = Set(indexed_words)\n",
    "known_corpus = filter(corpus) do sent\n",
    "    for word in sent\n",
    "        if !( word in known_vocab)\n",
    "            return false\n",
    "        end\n",
    "    end\n",
    "    true\n",
    "end;"
   ]
  },
  {
   "cell_type": "code",
   "execution_count": null,
   "metadata": {
    "collapsed": true
   },
   "outputs": [],
   "source": [
    "################LOADING Done, Now processing"
   ]
  },
  {
   "cell_type": "code",
   "execution_count": null,
   "metadata": {
    "collapsed": false
   },
   "outputs": [],
   "source": [
    "\n",
    "\n",
    "function collect_grams_stats(sentences)\n",
    "    unigrams = counter(AbstractString)\n",
    "    bigrams = DefaultDict(()->counter(AbstractString))\n",
    "    \n",
    "    for sent in sentences\n",
    "        push!(bigrams[START_MARKER], sent[1])\n",
    "        for ii in 1:length(sent)-1\n",
    "            push!(unigrams,sent[ii])\n",
    "            push!(bigrams[sent[ii]], sent[ii+1])    \n",
    "        end\n",
    "        push!(unigrams,sent[end])\n",
    "        push!(bigrams[sent[end]], END_MARKER)\n",
    "    end\n",
    "    \n",
    "    \n",
    "    [k=>v.map for (k,v) in bigrams], unigrams.map\n",
    "end\n",
    "\n",
    "\n"
   ]
  },
  {
   "cell_type": "code",
   "execution_count": null,
   "metadata": {
    "code_folding": [],
    "collapsed": false
   },
   "outputs": [],
   "source": [
    "using StatsBase\n",
    "# modified from https://github.com/JoFrhwld/GoodTuring.jl/blob/master/GoodTuring.jl\n",
    "function simpleGoodTuring(speciesCountDict::Dict)\n",
    "    speciesCountVec = collect(values(speciesCountDict))\n",
    "        \n",
    "    totalCounts = sum(speciesCountVec)\n",
    "    cofcDict = countmap(speciesCountVec)\n",
    "    r = sort(collect(keys(cofcDict)))\n",
    "\n",
    "    N = size(r,1)\n",
    "    Nr = [cofcDict[r[i]] for i in 1:N]\n",
    "\n",
    "    p0 = haskey(cofcDict, 1.0) ? cofcDict[1.0] / totalCounts : 0.0\n",
    "    \n",
    "    Z = sgtZ(r,Nr)\n",
    "    logr = map(log,r)\n",
    "    logZ = map(log,Z)\n",
    "\n",
    "    X = hcat(ones(N), logr)\n",
    "    Y = copy(logZ )\n",
    "    coefs = X\\Y\n",
    "    intercept = coefs[1]\n",
    "    slope = coefs[2]\n",
    "\n",
    "    useY = false\n",
    "    rSmooth = Array{Float64}(N)\n",
    "    for i in 1:N\n",
    "        @inbounds thisr = r[i]\n",
    "        \n",
    "        #y = ((thisr+1.0)^(slope+1.0))/(thisr^slope)\n",
    "        #The above is the much simplified form of the below (Performance identical output differs by 10^-16)\n",
    "        y = (thisr+1.0) * exp(slope * log(thisr+1.0) + intercept) / exp(slope * log(thisr) + intercept)\n",
    "\n",
    "        if !in(thisr+1, r)\n",
    "            useY = true\n",
    "        end\n",
    "\n",
    "        if useY\n",
    "            rSmooth[i] = y\n",
    "        else\n",
    "            x = (thisr+1) * cofcDict[thisr + 1]/cofcDict[thisr]\n",
    "            thisNr = cofcDict[thisr]\n",
    "            thisNr1 = cofcDict[thisr+1]\n",
    "\n",
    "            t = 1.96 * ((thisr+1)^2) * (thisNr1 / thisNr^2) * (1 + (thisNr1 / thisNr))\n",
    "\n",
    "            if abs(x-y) > t\n",
    "                @inbounds rSmooth[i] = x\n",
    "            else\n",
    "                useY = true\n",
    "                @inbounds rSmooth[i] = y\n",
    "            end\n",
    "        end\n",
    "    end\n",
    "\n",
    "    smoothTot = sum(Nr.*rSmooth)\n",
    "    sgtProb  = (1.0 - p0) .* (rSmooth/smoothTot)\n",
    "    sgtProbDict = Dict([r[i] => sgtProb[i] for i in 1:N])\n",
    "    sgtDict = Dict([sp=>sgtProbDict[speciesCountDict[sp]] for sp in keys(speciesCountDict)])\n",
    "\n",
    "    sgtDict, sgtProbDict, p0\n",
    "end\n",
    "\n",
    "\n",
    "function sgtZ(r::Array, Nr::Array)\n",
    "    j = r\n",
    "    i = [0; j[1:end-1]]\n",
    "    lastK = 2*j[end] - i[end]\n",
    "    k = [j[2:end]; lastK]\n",
    "    Float64[(2*Nr[iter])/(k[iter]-i[iter]) for iter = 1:length(j)]\n",
    "end\n",
    "\n",
    "function simpleGoodTuring(speciesCountVec::Vector)\n",
    "    sgtD = simpleGoodTuring(Dict([ii=>v for (ii,vv) in enumerate(speciesCountVec)]))\n",
    "    [sgtD[ii] for ii in 1:length(speciesCountVec)]\n",
    "end"
   ]
  },
  {
   "cell_type": "code",
   "execution_count": null,
   "metadata": {
    "collapsed": false
   },
   "outputs": [],
   "source": [
    "function katz_bigrams(bigram_freq::Dict, unigrams_freq::Dict)\n",
    "    k_bigrams = Dict()\n",
    "    \n",
    "    for first in keys(bigram_freq)\n",
    "        smoothed,_,p0 = simpleGoodTuring(bigram_freq[first])\n",
    "        k_bigrams[first] = smoothed\n",
    "        \n",
    "        backoff_keys = setdiff(keys(unigram_freq),keys(smoothed))\n",
    "        #share the p0 proability mass between them\n",
    "        total = sum([unigrams_freq[key] for key in backoff_keys])\n",
    "        for second in backoff_keys\n",
    "            k_bigrams[first][second]=p0.*unigrams_freq[second]./total\n",
    "        end\n",
    "    end\n",
    "    k_bigrams\n",
    "end"
   ]
  },
  {
   "cell_type": "code",
   "execution_count": null,
   "metadata": {
    "collapsed": false
   },
   "outputs": [],
   "source": [
    "Vector"
   ]
  },
  {
   "cell_type": "code",
   "execution_count": null,
   "metadata": {
    "collapsed": false
   },
   "outputs": [],
   "source": [
    "function dict2mat(bigrams::Dict, word_indexes::Dict{AbstractString,Int64}, dense=False)\n",
    "    mat  = (dense ? zeros: spzeros)(length(word_indexes),length(word_indexes))\n",
    "    for first in keys(bigrams)\n",
    "        for second in keys(bigrams[first])\n",
    "            mat[word_indexes[second], word_indexes[first]] = bigrams[first][second]\n",
    "        end\n",
    "    end\n",
    "    mat\n",
    "end"
   ]
  },
  {
   "cell_type": "code",
   "execution_count": null,
   "metadata": {
    "collapsed": false
   },
   "outputs": [],
   "source": [
    "bigram_freq, unigram_freq = collect_grams_stats(known_corpus);\n",
    "kbigrams=katz_bigrams(bigram_freq, unigram_freq)\n",
    "kbigrams_mat = dict2mat(kbigrams,word_indexes,true)\n"
   ]
  },
  {
   "cell_type": "code",
   "execution_count": null,
   "metadata": {
    "collapsed": false,
    "scrolled": true
   },
   "outputs": [],
   "source": [
    "using Gadfly\n",
    "using Distributions"
   ]
  },
  {
   "cell_type": "code",
   "execution_count": null,
   "metadata": {
    "collapsed": false
   },
   "outputs": [],
   "source": [
    "sent_lengths = map(length, known_corpus)\n",
    "plot(x=sent_lengths, Geom.histogram)"
   ]
  },
  {
   "cell_type": "code",
   "execution_count": null,
   "metadata": {
    "collapsed": false,
    "scrolled": true
   },
   "outputs": [],
   "source": [
    "sent_length_dist = fit_mle(Gamma, sent_lengths)\n",
    "plot(x=[round(rand(sent_length_dist)) for _ in 1:length(sent_lengths)], Geom.histogram)"
   ]
  },
  {
   "cell_type": "code",
   "execution_count": null,
   "metadata": {
    "collapsed": false,
    "scrolled": true
   },
   "outputs": [],
   "source": [
    "length_prob=cdf(sent_length_dist,[1.5:1.0:50.5])-cdf(sent_length_dist,[0.5:1.0:49.5])\n"
   ]
  },
  {
   "cell_type": "code",
   "execution_count": null,
   "metadata": {
    "collapsed": true
   },
   "outputs": [],
   "source": []
  },
  {
   "cell_type": "code",
   "execution_count": null,
   "metadata": {
    "collapsed": false
   },
   "outputs": [],
   "source": [
    "function collect_cooccur_stats(sentences)\n",
    "    unioccur = counter(AbstractString)\n",
    "    bioccur = DefaultDict(()->counter(AbstractString))\n",
    "    \n",
    "    for sent in sentences\n",
    "        for ii in 1:length(sent)\n",
    "            push!(unioccur, sent[ii])\n",
    "            for jj in 1:length(sent)\n",
    "                if ii==jj\n",
    "                    continue\n",
    "                end\n",
    "                push!(bioccur[sent[ii]], sent[jj])    \n",
    "            end\n",
    "        end       \n",
    "    end\n",
    "    \n",
    "    [k=>v.map for (k,v) in bioccur], unioccur.map\n",
    "    \n",
    "end"
   ]
  },
  {
   "cell_type": "code",
   "execution_count": null,
   "metadata": {
    "collapsed": false,
    "scrolled": true
   },
   "outputs": [],
   "source": [
    "bioccur_freq, unioccur_freq = collect_cooccur_stats(known_corpus)\n",
    "\n",
    "bioccur_mat = dict2mat(bioccur_freq,word_indexes,true)\n",
    "bioccur_mat.+=1.0 # Add one smoothing\n",
    "bioccur_mat./=sum(bioccur_mat)\n",
    "\n",
    "unioccur = freq2prob(unioccur_freq)\n",
    "unioccur_vec = Float64[word in keys(unioccurs) ? unioccurs[word] : 0.0 for word in indexed_words]"
   ]
  },
  {
   "cell_type": "code",
   "execution_count": null,
   "metadata": {
    "collapsed": false
   },
   "outputs": [],
   "source": [
    "unioccur_vec_smoothed = Float64[word in keys(unioccur_freq) ? unioccur_freq[word] : 0.0 for word in indexed_words]\n",
    "unioccur_vec_smoothed.+=1.0 # Add one smoothing\n",
    "unioccur_vec_smoothed./=sum(unioccur_vec_smoothed)"
   ]
  },
  {
   "cell_type": "code",
   "execution_count": null,
   "metadata": {
    "collapsed": false
   },
   "outputs": [],
   "source": [
    "sum(bioccur_mat,2)"
   ]
  },
  {
   "cell_type": "code",
   "execution_count": null,
   "metadata": {
    "collapsed": false
   },
   "outputs": [],
   "source": [
    "open(\"atis_data.jsz\",\"w\") do fh\n",
    "    data = Dict([\n",
    "        (\"bigrams\", kbigrams_mat),\n",
    "        (\"bioccur\", bioccur_mat),\n",
    "        (\"unioccur\", unioccur_vec),\n",
    "        \n",
    "        (\"length_prob\", length_prob),\n",
    "        (\"LL\",LL),\n",
    "        (\"word_indexes\", word_indexes),\n",
    "        (\"indexed_words\", indexed_words),\n",
    "        ])\n",
    "    serialize(fh, data)    \n",
    "end"
   ]
  },
  {
   "cell_type": "code",
   "execution_count": null,
   "metadata": {
    "collapsed": true
   },
   "outputs": [],
   "source": []
  },
  {
   "cell_type": "code",
   "execution_count": null,
   "metadata": {
    "collapsed": false
   },
   "outputs": [],
   "source": [
    "function likelyhood(sent, bigrams)\n",
    "    words = split(sent)\n",
    "    words = [START_MARKER; words; END_MARKER]\n",
    "    \n",
    "    p=1.0\n",
    "    for ii in 1:length(words)-1\n",
    "        p*=bigrams[words[ii]][words[ii+1]]\n",
    "    end\n",
    "    p\n",
    "end\n",
    "\n",
    "\n",
    "function select_word{S<:AbstractString,V}(unigrams::Dict{S,V})\n",
    "    cutoff = rand()\n",
    "    total = 0.0\n",
    "    for next_word in keys(unigrams)\n",
    "        total+=unigrams[next_word]\n",
    "        if total>=cutoff\n",
    "            return next_word\n",
    "        end\n",
    "    end\n",
    "    assert(False, \"Should never reach here\") \n",
    "end\n",
    "\n",
    "function random_walk(bigrams)\n",
    "    words=[]\n",
    "    cur = START_MARKER\n",
    "    while(cur!=END_MARKER)\n",
    "        cur = select_word(bigrams[cur])\n",
    "        push!(words,cur)\n",
    "    end\n",
    "    words = words[1:end-1]\n",
    "    join(words, \" \")\n",
    "end\n",
    "\n",
    "walk =random_walk(kbigrams) \n",
    "print(walk*\"\\t\")\n",
    "print(likelyhood(walk,kbigrams))"
   ]
  },
  {
   "cell_type": "code",
   "execution_count": null,
   "metadata": {
    "collapsed": true
   },
   "outputs": [],
   "source": []
  },
  {
   "cell_type": "code",
   "execution_count": null,
   "metadata": {
    "collapsed": false
   },
   "outputs": [],
   "source": [
    "LL"
   ]
  },
  {
   "cell_type": "markdown",
   "metadata": {},
   "source": [
    "Frame's Magic Mass-Sharing Co-occurance PMF, Inspired by Bengio 2003\n",
    "---"
   ]
  },
  {
   "cell_type": "code",
   "execution_count": null,
   "metadata": {
    "collapsed": false,
    "scrolled": true
   },
   "outputs": [],
   "source": [
    "addprocs(11)"
   ]
  },
  {
   "cell_type": "code",
   "execution_count": 12,
   "metadata": {
    "collapsed": false
   },
   "outputs": [
    {
     "data": {
      "text/plain": [
       "prepare_cases (generic function with 1 method)"
      ]
     },
     "execution_count": 12,
     "metadata": {},
     "output_type": "execute_result"
    }
   ],
   "source": [
    "function prepare_cases(sentence)\n",
    "    Task() do\n",
    "        sentence_iis = Int[word_indexes[word] for word in sentence]\n",
    "        for n_givens in 1:length(sentence_iis)\n",
    "            given_prob = 1.0/(n_givens)\n",
    "            given_keep = rand(length(sentence_iis)).<given_prob\n",
    "            given_iis::Vector{Int} =  sentence_iis[given_keep]\n",
    "            cooccur_iis::Vector{Int} =  sentence_iis[~given_keep]\n",
    "            produce(given_iis, cooccur_iis)\n",
    "        end   \n",
    "    end\n",
    "end"
   ]
  },
  {
   "cell_type": "code",
   "execution_count": 104,
   "metadata": {
    "collapsed": false
   },
   "outputs": [],
   "source": [
    "@everywhere function loss(actual, expected)\n",
    "    sum(0.5*(expected-actual).^2)\n",
    "end\n",
    "\n",
    "@everywhere function forward(x,W,b)\n",
    "    tanh(W*x+b)\n",
    "end\n",
    "\n",
    "\n",
    "@everywhere function δ(δ_above, W)\n",
    "    (W'*δ_above)\n",
    "end\n",
    "\n",
    "\n",
    "@everywhere function δ_output(actual, expected) \n",
    "    #Output Layer\n",
    "    const dz = 1-actual.^2\n",
    "    const δ_above = -(expected-actual)\n",
    "    δ_above.*dz\n",
    "end\n",
    "\n",
    "\n",
    "@everywhere function feedforward_backprop(x,W,b, expected_output)\n",
    "    actual_output = forward(x,W,b)\n",
    "    err = loss(actual_output, expected_output)\n",
    "    \n",
    "    δ_top = δ_output(actual_output, expected_output)\n",
    "    ΔW  = δ_top*x'\n",
    "    Δb  = δ_top\n",
    "    δ_bottom = δ(δ_top, W)\n",
    "    Δx  = δ_bottom\n",
    "    Δx,ΔW,Δb,err\n",
    "end\n",
    "\n"
   ]
  },
  {
   "cell_type": "code",
   "execution_count": 105,
   "metadata": {
    "collapsed": false
   },
   "outputs": [],
   "source": [
    "training_case_type = Tuple{Vector{Int64},Vector{Int64}}\n",
    "training_cases = @pipe chain(map(prepare_cases, known_corpus)...)|> collect(training_case_type,_)\n",
    "\n",
    "dEmb = 60\n",
    "CC = 0.01*randn((dEmb, length(indexed_words)))\n",
    "WW = 0.01*randn((length(indexed_words),dEmb))\n",
    "bb = 0.001*randn((length(indexed_words)));\n"
   ]
  },
  {
   "cell_type": "code",
   "execution_count": null,
   "metadata": {
    "collapsed": true
   },
   "outputs": [],
   "source": []
  },
  {
   "cell_type": "code",
   "execution_count": 106,
   "metadata": {
    "collapsed": false
   },
   "outputs": [
    {
     "data": {
      "text/plain": [
       "g (generic function with 1 method)"
      ]
     },
     "execution_count": 106,
     "metadata": {},
     "output_type": "execute_result"
    }
   ],
   "source": [
    "using ForwardDiff\n",
    "\n",
    "function f(θ)\n",
    "    actual = forward(unpack(θ,size(xx),size(WW),size(bb))...)\n",
    "    loss(actual, target)\n",
    "end\n",
    "\n",
    "function calc_ag(θ)\n",
    "    Δx,ΔW,Δb,err = feedforward_backprop(unpack(θ,size(xx),size(WW),size(bb))..., target)\n",
    "end\n",
    "\n",
    "g = ForwardDiff.gradient(f)"
   ]
  },
  {
   "cell_type": "code",
   "execution_count": 107,
   "metadata": {
    "collapsed": false
   },
   "outputs": [
    {
     "data": {
      "text/plain": [
       "1.0"
      ]
     },
     "execution_count": 107,
     "metadata": {},
     "output_type": "execute_result"
    }
   ],
   "source": [
    "xx=sum([CC[:,g_ii] for g_ii in [1,2,3]])\n",
    "target = zeros(bb)\n",
    "target[[10,11,12]]=1.0\n"
   ]
  },
  {
   "cell_type": "code",
   "execution_count": 108,
   "metadata": {
    "collapsed": false
   },
   "outputs": [],
   "source": [
    "t=pack(xx,WW,bb)\n",
    "dg = g(t)\n",
    "dxg,dWg,dbg = unpack(dg,size(xx),size(WW),size(bb));"
   ]
  },
  {
   "cell_type": "code",
   "execution_count": 109,
   "metadata": {
    "collapsed": false
   },
   "outputs": [
    {
     "data": {
      "text/plain": [
       "60-element Array{Float64,1}:\n",
       " -0.0177167  \n",
       "  0.0122861  \n",
       " -0.0158791  \n",
       " -0.00724171 \n",
       "  0.0123465  \n",
       "  0.000929592\n",
       " -0.00882174 \n",
       "  0.000146004\n",
       "  0.0185064  \n",
       "  0.0185556  \n",
       "  0.0175436  \n",
       " -0.0151407  \n",
       "  0.00792393 \n",
       "  ⋮          \n",
       " -0.00320848 \n",
       "  0.00928898 \n",
       " -0.0170634  \n",
       "  0.011532   \n",
       " -0.00959649 \n",
       " -0.0217515  \n",
       "  0.00173057 \n",
       " -0.00970517 \n",
       "  0.0216696  \n",
       "  0.0147313  \n",
       " -0.0104509  \n",
       "  0.00730887 "
      ]
     },
     "execution_count": 109,
     "metadata": {},
     "output_type": "execute_result"
    }
   ],
   "source": [
    "xx"
   ]
  },
  {
   "cell_type": "code",
   "execution_count": 110,
   "metadata": {
    "collapsed": false
   },
   "outputs": [
    {
     "data": {
      "text/plain": [
       "([-0.0219776,0.00116707,-0.0248392,0.00408607,0.0126314,0.000491081,0.0261137,0.0240766,0.0170245,0.0120003  …  0.00632649,-0.0191959,0.00181156,-0.00988777,0.00265303,0.0199349,0.00601105,-0.00931994,0.00456385,0.00307503],\n",
       "19x60 Array{Float64,2}:\n",
       "  2.14185e-5  -1.48532e-5   1.9197e-5   …   1.26346e-5  -8.836e-6  \n",
       " -2.27823e-5   1.57989e-5  -2.04193e-5     -1.34391e-5   9.39863e-6\n",
       "  2.10763e-5  -1.46158e-5   1.88902e-5      1.24327e-5  -8.69483e-6\n",
       " -8.33888e-6   5.78279e-6  -7.47396e-6     -4.91903e-6   3.44013e-6\n",
       " -3.16561e-5   2.19527e-5  -2.83727e-5     -1.86737e-5   1.30594e-5\n",
       "  3.39399e-5  -2.35364e-5   3.04196e-5  …   2.00208e-5  -1.40016e-5\n",
       " -7.98472e-7   5.53718e-7  -7.15653e-7     -4.71011e-7   3.29402e-7\n",
       "  2.00946e-5  -1.39351e-5   1.80104e-5      1.18536e-5  -8.28984e-6\n",
       " -5.37954e-7   3.73057e-7  -4.82157e-7     -3.17334e-7   2.21928e-7\n",
       "  0.0177154   -0.0122851    0.0158779       0.0104501   -0.00730831\n",
       "  0.0177089   -0.0122806    0.0158721   …   0.0104463   -0.00730564\n",
       "  0.0177613   -0.012317     0.0159191       0.0104772   -0.00732727\n",
       "  3.62101e-7  -2.51107e-7   3.24544e-7      2.136e-7    -1.49381e-7\n",
       " -1.24926e-5   8.66329e-6  -1.11969e-5     -7.36928e-6   5.15371e-6\n",
       " -8.3098e-6    5.76262e-6  -7.44789e-6     -4.90187e-6   3.42813e-6\n",
       " -2.25979e-5   1.5671e-5   -2.0254e-5   …  -1.33303e-5   9.32254e-6\n",
       " -9.78275e-6   6.78407e-6  -8.76807e-6     -5.77076e-6   4.03578e-6\n",
       "  1.71239e-5  -1.1875e-5    1.53478e-5      1.01012e-5  -7.0643e-6 \n",
       " -8.11736e-6   5.62917e-6  -7.27541e-6     -4.78835e-6   3.34874e-6,\n",
       "\n",
       "[-0.0012089423142970207,0.00128592079405973,-0.001189626997077559,0.00047067811007637535,0.0017867917847317813,-0.0019156946918943696,4.506877378911469e-5,-0.0011342156605509688,3.0364180944589064e-5,-0.999923699109749,-0.9995577026477283,-1.0025171143300873,-2.0438368460145583e-5,0.0007051309855784062,0.0004690365251735937,0.0012755104143579166,0.0005521756125926119,-0.0009665377895144612,0.0004581743421305963],1.5020167347658548)"
      ]
     },
     "execution_count": 110,
     "metadata": {},
     "output_type": "execute_result"
    }
   ],
   "source": [
    "axg,aWg,abg,a_err = calc_ag(t)"
   ]
  },
  {
   "cell_type": "code",
   "execution_count": 111,
   "metadata": {
    "collapsed": false
   },
   "outputs": [
    {
     "data": {
      "text/plain": [
       "true"
      ]
     },
     "execution_count": 111,
     "metadata": {},
     "output_type": "execute_result"
    }
   ],
   "source": [
    "f(t) == a_err"
   ]
  },
  {
   "cell_type": "code",
   "execution_count": 112,
   "metadata": {
    "collapsed": false
   },
   "outputs": [
    {
     "data": {
      "text/plain": [
       "(6.938893903907228e-18,3)"
      ]
     },
     "execution_count": 112,
     "metadata": {},
     "output_type": "execute_result"
    }
   ],
   "source": [
    "findmax(abs(dxg.-axg))"
   ]
  },
  {
   "cell_type": "code",
   "execution_count": 113,
   "metadata": {
    "collapsed": false
   },
   "outputs": [
    {
     "data": {
      "text/plain": [
       "(1.3877787807814457e-17,372)"
      ]
     },
     "execution_count": 113,
     "metadata": {},
     "output_type": "execute_result"
    }
   ],
   "source": [
    "findmax(abs(dWg.-aWg))"
   ]
  },
  {
   "cell_type": "code",
   "execution_count": 114,
   "metadata": {
    "collapsed": false
   },
   "outputs": [
    {
     "data": {
      "text/plain": [
       "(1.1102230246251565e-16,10)"
      ]
     },
     "execution_count": 114,
     "metadata": {},
     "output_type": "execute_result"
    }
   ],
   "source": [
    "findmax(abs(dbg.-abg))"
   ]
  },
  {
   "cell_type": "code",
   "execution_count": 94,
   "metadata": {
    "collapsed": false
   },
   "outputs": [
    {
     "ename": "LoadError",
     "evalue": "LoadError: UndefVarError: x not defined\nwhile loading In[94], in expression starting on line 1",
     "output_type": "error",
     "traceback": [
      "LoadError: UndefVarError: x not defined\nwhile loading In[94], in expression starting on line 1",
      ""
     ]
    }
   ],
   "source": [
    "[dxg./x axg./x (dxg-axg)./x]*100"
   ]
  },
  {
   "cell_type": "code",
   "execution_count": null,
   "metadata": {
    "collapsed": false
   },
   "outputs": [],
   "source": [
    "[abs(dxg.-axg) x]"
   ]
  },
  {
   "cell_type": "code",
   "execution_count": null,
   "metadata": {
    "collapsed": true
   },
   "outputs": [],
   "source": []
  },
  {
   "cell_type": "code",
   "execution_count": null,
   "metadata": {
    "collapsed": true
   },
   "outputs": [],
   "source": []
  },
  {
   "cell_type": "code",
   "execution_count": null,
   "metadata": {
    "collapsed": true
   },
   "outputs": [],
   "source": []
  },
  {
   "cell_type": "code",
   "execution_count": null,
   "metadata": {
    "collapsed": false
   },
   "outputs": [],
   "source": [
    "@everywhere function mysubarray(xs, id=myid(), nchunks=nworkers())\n",
    "    len = length(xs)\n",
    "    chunk_size = div(len, nchunks+1)\n",
    "    start_index = (id-2)*chunk_size + 1\n",
    "    end_index = start_index+chunk_size-1\n",
    "    print(start_index : end_index)\n",
    "    sub(xs, start_index : end_index)\n",
    "end\n",
    "\n",
    "@everywhere function train_one(given_iis, target_iis, C, W, b)\n",
    "    given_sowe = length(given_iis)>0 ? sum([C[:,g_ii] for g_ii in given_iis]) : zeros(C[:,1])\n",
    "    target = zeros(b) #just while we are testing use a one hot set rep\n",
    "    for t_ii in target_iis\n",
    "        target+=1.0/length(target_iis)\n",
    "    end\n",
    "        \n",
    "    Δx,ΔW,Δb, err= feedforward_backprop(given_sowe,W,b, target)\n",
    "    \n",
    "    ΔC = zeros(C)\n",
    "    for g_ii in given_iis\n",
    "        ΔC[:, g_ii]+=Δx/length(given_iis)\n",
    "    end\n",
    "    ΔC,ΔW,Δb, err\n",
    "end\n",
    "    \n",
    "\n",
    "\n",
    "function train_all(training_cases,C, W, b)\n",
    "    \n",
    "    function train_remote()\n",
    "        total_ΔC=zeros(C)\n",
    "        total_ΔW=zeros(W)\n",
    "        total_Δb=zeros(b)\n",
    "        total_err = 0.0\n",
    "        for (g_iis, t_iis) in mysubarray(training_cases)\n",
    "            ΔC, ΔW, Δb,err = train_one(g_iis, t_iis, C, W, b)\n",
    "            @inbounds total_ΔC+=ΔC\n",
    "            @inbounds total_ΔW+=ΔW\n",
    "            @inbounds total_Δb+=Δb\n",
    "            total_err+=err\n",
    "        end\n",
    "\n",
    "        total_ΔC, total_ΔW, total_Δb, total_err\n",
    "    end\n",
    "    \n",
    "    r_updates = [@spawnat(id, train_remote())  for id in workers()]\n",
    "        \n",
    "    \n",
    "    total_ΔC=zeros(C)\n",
    "    total_ΔW=zeros(W)\n",
    "    total_Δb=zeros(b)\n",
    "    total_err = 0.0\n",
    "    for r_update in r_updates\n",
    "        ΔC, ΔW, Δb, err = fetch(r_update)\n",
    "        @inbounds total_ΔC+=ΔC\n",
    "        @inbounds total_ΔW+=ΔW\n",
    "        @inbounds total_Δb+=Δb\n",
    "        total_err+=err\n",
    "    end\n",
    "    total_ΔC./length(training_cases),\n",
    "    total_ΔW./length(training_cases),\n",
    "    total_Δb./length(training_cases),\n",
    "    total_err./length(training_cases)\n",
    "        \n",
    "end\n",
    "    "
   ]
  },
  {
   "cell_type": "code",
   "execution_count": null,
   "metadata": {
    "collapsed": false
   },
   "outputs": [],
   "source": [
    "function loss_and_loss_grad!(θ::Vector, grad::Vector)    \n",
    "    C, W, b = unpack!(θ, CC,WW,bb)\n",
    "    ΔC, ΔW, Δb, err = train_all(training_cases, C, W, b )\n",
    "    pack!(grad, ΔC, ΔW, Δb)\n",
    "    err/=length(training_cases)\n",
    "    err\n",
    "end\n",
    "\n",
    "_loss_and_loss_grad=Dict{Vector{Float64},Tuple{}}()\n",
    "function cached_loss_and_loss_grad!(θ::Vector, grad::Vector)    \n",
    "    error(\"Not Defnes\")\n",
    "end\n",
    "\n",
    "function loss!(θ::Vector)  \n",
    "    dummy_grad = similar(θ) \n",
    "    loss_and_loss_grad!(θ, dummy_grad)\n",
    "end\n",
    "\n",
    "function loss_grad!(θ::Vector, storage::Vector) \n",
    "    #warn(\"loss_grad not defined\")\n",
    "    loss_and_loss_grad!(θ, grad)\n",
    "end\n"
   ]
  },
  {
   "cell_type": "code",
   "execution_count": null,
   "metadata": {
    "collapsed": false
   },
   "outputs": [],
   "source": [
    "using Optim\n",
    "\n",
    "opt_func = DifferentiableFunction(loss!,loss_grad!,loss_and_loss_grad!)\n",
    "\n",
    "@time res = optimize(opt_func, pack(CC,WW,bb), method=:l_bfgs, show_trace = true, store_trace = true, iterations = 200);\n",
    "@printval res.f_calls \n",
    "@printval res.g_calls \n",
    "@printval res.iterations\n",
    "@printval res.f_minimum\n",
    "@printval res.gr_converged\n",
    "@printval res.x_converged                       \n",
    "@printval res.f_converged \n"
   ]
  },
  {
   "cell_type": "code",
   "execution_count": null,
   "metadata": {
    "collapsed": true
   },
   "outputs": [],
   "source": []
  },
  {
   "cell_type": "code",
   "execution_count": null,
   "metadata": {
    "collapsed": true
   },
   "outputs": [],
   "source": []
  },
  {
   "cell_type": "code",
   "execution_count": null,
   "metadata": {
    "collapsed": true
   },
   "outputs": [],
   "source": [
    "`git commit -m=\"Fixed gradient, not 100% certain how, I beleive its cos the tanh graient was beign ta"
   ]
  }
 ],
 "metadata": {
  "kernelspec": {
   "display_name": "Julia 0.5.0-dev",
   "language": "julia",
   "name": "julia-0.5"
  },
  "language_info": {
   "file_extension": ".jl",
   "mimetype": "application/julia",
   "name": "julia",
   "version": "0.5.0"
  }
 },
 "nbformat": 4,
 "nbformat_minor": 0
}
