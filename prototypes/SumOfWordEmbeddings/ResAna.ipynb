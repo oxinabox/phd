{
 "cells": [
  {
   "cell_type": "code",
   "execution_count": 1,
   "metadata": {
    "collapsed": false
   },
   "outputs": [
    {
     "data": {
      "text/plain": [
       "2"
      ]
     },
     "execution_count": 1,
     "metadata": {},
     "output_type": "execute_result"
    }
   ],
   "source": [
    "1+1"
   ]
  },
  {
   "cell_type": "code",
   "execution_count": 3,
   "metadata": {
    "collapsed": false
   },
   "outputs": [
    {
     "name": "stderr",
     "output_type": "stream",
     "text": [
      "INFO: Recompiling stale cache file /home/ubuntu/.julia/lib/v0.5/DataFrames.ji for module DataFrames.\n",
      "INFO: Recompiling stale cache file /home/ubuntu/.julia/lib/v0.5/Reexport.ji for module Reexport.\n",
      "INFO: Recompiling stale cache file /home/ubuntu/.julia/lib/v0.5/StatsBase.ji for module StatsBase.\n",
      "INFO: Recompiling stale cache file /home/ubuntu/.julia/lib/v0.5/ArrayViews.ji for module ArrayViews.\n",
      "INFO: Recompiling stale cache file /home/ubuntu/.julia/lib/v0.5/StatsFuns.ji for module StatsFuns.\n",
      "INFO: Recompiling stale cache file /home/ubuntu/.julia/lib/v0.5/DataArrays.ji for module DataArrays.\n",
      "INFO: Recompiling stale cache file /home/ubuntu/.julia/lib/v0.5/GZip.ji for module GZip.\n",
      "INFO: Recompiling stale cache file /home/ubuntu/.julia/lib/v0.5/SortingAlgorithms.ji for module SortingAlgorithms.\n",
      "INFO: Recompiling stale cache file /home/ubuntu/.julia/lib/v0.5/Docile.ji for module Docile.\n"
     ]
    }
   ],
   "source": [
    "using FunctionalCollections\n",
    "using Iterators\n",
    "using Pipe\n",
    "using Compat\n",
    "\n",
    "macro printval(ee)\n",
    "    ee_expr = @sprintf \"%s\" string(ee)\n",
    "    esc(:(println($ee_expr,\" = \", $ee)))\n",
    "end\n",
    "\n",
    "macro pz(ee)\n",
    "    ee_expr = @sprintf \"%s\" string(ee)\n",
    "    esc(:(println($ee_expr,\"\\t\\t\",typeof($ee), \"\\t\", size($ee))))\n",
    "end\n",
    "\n",
    "push!(LOAD_PATH, \".\")\n",
    "push!(LOAD_PATH, \"../util/\")\n",
    "using DataStructures\n",
    "using DataStructuresExtended\n",
    "using JLD\n",
    "using DataFrames"
   ]
  },
  {
   "cell_type": "code",
   "execution_count": null,
   "metadata": {
    "collapsed": false
   },
   "outputs": [],
   "source": [
    "OUTPUT_DIR = \"../../documents_prepared/Journal\\ Papers/SumResynthesis/data/\""
   ]
  },
  {
   "cell_type": "code",
   "execution_count": null,
   "metadata": {
    "collapsed": true
   },
   "outputs": [],
   "source": [
    "`git add ../../documents_prepared/Journal\\ Papers/SumResynthesis/data/ordering_scores.csv` |> run"
   ]
  },
  {
   "cell_type": "code",
   "execution_count": null,
   "metadata": {
    "collapsed": false
   },
   "outputs": [],
   "source": [
    "`git push` |> run"
   ]
  },
  {
   "cell_type": "code",
   "execution_count": null,
   "metadata": {
    "collapsed": false
   },
   "outputs": [],
   "source": [
    "function jaccard_index(aa::DataStructures.Accumulator,bb::DataStructures.Accumulator)\n",
    "    sum(intersect(aa,bb))/sum(union(aa,bb))\n",
    "end\n",
    "\n",
    "function jaccard_index(aa,bb)\n",
    "    length(intersect(aa,bb))/length(union(aa,bb))\n",
    "end"
   ]
  },
  {
   "cell_type": "code",
   "execution_count": null,
   "metadata": {
    "collapsed": false,
    "scrolled": true
   },
   "outputs": [],
   "source": [
    "\n",
    "\n",
    "brown_glove300_raw = load(\"results/bags/brown_glove300_res.jld\", \"res\")\n",
    "brown_glove200_raw = load(\"results/bags/brown_glove200_res.jld\", \"res\")\n",
    "brown_glove100_raw = load(\"results/bags/brown_glove100_res.jld\", \"res\")\n",
    "brown_glove50_raw = load(\"results/bags/brown_glove50_res.jld\", \"res\")"
   ]
  },
  {
   "cell_type": "code",
   "execution_count": null,
   "metadata": {
    "collapsed": false
   },
   "outputs": [],
   "source": [
    "@assert all([rset[1] for rset in brown_glove50_raw] .== [rset[1] for rset in brown_glove300_raw])\n",
    "@assert all([rset[1] for rset in brown_glove50_raw] .== [rset[1] for rset in brown_glove200_raw])\n",
    "@assert all([rset[1] for rset in brown_glove50_raw] .== [rset[1] for rset in brown_glove100_raw])"
   ]
  },
  {
   "cell_type": "code",
   "execution_count": null,
   "metadata": {
    "collapsed": false
   },
   "outputs": [],
   "source": []
  },
  {
   "cell_type": "code",
   "execution_count": null,
   "metadata": {
    "collapsed": false,
    "scrolled": true
   },
   "outputs": [],
   "source": [
    "bag_res = DataFrame()\n",
    "bag_res[:ground] = [counter(rset[1]) for rset in brown_glove50_raw]\n",
    "bag_res[:ground_len] = Int[sum(ss) for ss in bag_res[:ground]]\n",
    "exp_names = ASCIIString[]\n",
    "for raw_name in [\"brown_glove50_raw\",\"brown_glove100_raw\", \"brown_glove200_raw\", \"brown_glove300_raw\"]\n",
    "    colname = split(raw_name,\"_\")[2] \n",
    "    push!(exp_names, colname)\n",
    "    raw = eval(raw_name|>Symbol)\n",
    "    bag_res[colname*\"_actual\"|> Symbol] = [counter(rset[2]) for rset in raw]\n",
    "    #bag_res[colname*\"_distance\"|> Symbol] = Float64[-1*rset[3] for rset in raw]\n",
    "end\n",
    "\n",
    "bag_res"
   ]
  },
  {
   "cell_type": "code",
   "execution_count": null,
   "metadata": {
    "collapsed": false,
    "scrolled": true
   },
   "outputs": [],
   "source": [
    "for exp_name in exp_names\n",
    "    actual = bag_res[exp_name*\"_actual\" |> symbol]\n",
    "    bag_res[exp_name*\"_perfect\" |> symbol] = actual.==bag_res[:ground]\n",
    "    bag_res[exp_name*\"_jaccard\" |> symbol] = map(jaccard_index, actual, bag_res[:ground])\n",
    "end"
   ]
  },
  {
   "cell_type": "code",
   "execution_count": null,
   "metadata": {
    "collapsed": false
   },
   "outputs": [],
   "source": []
  },
  {
   "cell_type": "code",
   "execution_count": null,
   "metadata": {
    "collapsed": true
   },
   "outputs": [],
   "source": [
    "\n",
    "jaccard_cols = Symbol[exp_name*\"_jaccard\" |> symbol for exp_name in exp_names]\n",
    "perfect_cols = Symbol[exp_name*\"_perfect\" |> symbol for exp_name in exp_names]\n",
    "len_scores = aggregate(bag_res[[:ground_len, jaccard_cols...,perfect_cols...]], :ground_len, mean)\n",
    "sort!(len_scores)\n",
    "writetable(OUTPUT_DIR*\"selection_len_scores.csv\", len_scores)\n",
    "len_scores"
   ]
  },
  {
   "cell_type": "code",
   "execution_count": null,
   "metadata": {
    "collapsed": false
   },
   "outputs": [],
   "source": []
  },
  {
   "cell_type": "code",
   "execution_count": null,
   "metadata": {
    "collapsed": false,
    "scrolled": true
   },
   "outputs": [],
   "source": [
    "cum_len_scores = DataFrame()\n",
    "cum_len_scores[:max_ground_len] = bag_res[:ground_len] |> unique |> sort!\n",
    "for jaccard_col in jaccard_cols\n",
    "    cum_len_scores[jaccard_col] = Float64[ begin\n",
    "            shortish_sents = bag_res[:ground_len] .<= max_len;\n",
    "            bag_res[shortish_sents, jaccard_col] |> mean\n",
    "         end for max_len in cum_len_scores[:max_ground_len]]\n",
    "end\n",
    "for perfect_col in perfect_cols\n",
    "    cum_len_scores[perfect_col] = Float64[ begin\n",
    "            shortish_sents = bag_res[:ground_len] .<= max_len;\n",
    "            bag_res[shortish_sents, perfect_col] |> mean\n",
    "         end for max_len in cum_len_scores[:max_ground_len]]\n",
    "end\n",
    "writetable(OUTPUT_DIR*\"selection_cum_len_scores.csv\", cum_len_scores)\n",
    "cum_len_scores \n"
   ]
  },
  {
   "cell_type": "code",
   "execution_count": null,
   "metadata": {
    "collapsed": false
   },
   "outputs": [],
   "source": []
  },
  {
   "cell_type": "code",
   "execution_count": null,
   "metadata": {
    "collapsed": false
   },
   "outputs": [],
   "source": [
    "function longform(df::DataFrame, index::Symbol, cols::Vector{Symbol}, new_name::Symbol)\n",
    "    function subdf(col::Symbol)\n",
    "        df_sub = df[[index, col]]\n",
    "        rename!(df_sub, col, new_name)\n",
    "        df_sub[:label] = col\n",
    "        df_sub\n",
    "    end\n",
    "    vcat([subdf(col) for col in cols]...)\n",
    "end\n",
    "\n",
    "\n"
   ]
  },
  {
   "cell_type": "code",
   "execution_count": null,
   "metadata": {
    "collapsed": false
   },
   "outputs": [],
   "source": [
    "using Gadfly"
   ]
  },
  {
   "cell_type": "code",
   "execution_count": null,
   "metadata": {
    "collapsed": false
   },
   "outputs": [],
   "source": [
    "p=Gadfly.plot(longform(cum_len_scores, :max_ground_len, jaccard_cols, :mean_jaccard_index),\n",
    "    x=\"max_ground_len\", y=\"mean_jaccard_index\",\n",
    "    color=\"label\",\n",
    "    Geom.point\n",
    ")\n",
    "#draw(PNG(\"brown_cumulative_length_score.png\", 24cm, 6cm), p)"
   ]
  },
  {
   "cell_type": "code",
   "execution_count": null,
   "metadata": {
    "collapsed": false
   },
   "outputs": [],
   "source": [
    "\n",
    "p=Gadfly.plot(longform(len_scores, :ground_len, [string(col)*\"_mean\"|> Symbol for col in jaccard_cols], :mean_jaccard_index),\n",
    "    x=\"ground_len\", y=\"mean_jaccard_index\",\n",
    "    color=\"label\",\n",
    "    Geom.point\n",
    ")\n",
    "#draw(PNG(\"brown_length_score.png\", 24cm, 6cm), p)\n"
   ]
  },
  {
   "cell_type": "code",
   "execution_count": null,
   "metadata": {
    "collapsed": false
   },
   "outputs": [],
   "source": [
    "bag_res[:ground_len] |> describe \n",
    "p=Gadfly.plot(bag_res, x=\"ground_len\",  Geom.histogram)\n",
    "#draw(PNG(\"brown_length_dist.png\", 24cm, 6cm), p)"
   ]
  },
  {
   "cell_type": "code",
   "execution_count": null,
   "metadata": {
    "collapsed": false
   },
   "outputs": [],
   "source": [
    "##############################################\n",
    "# ORDERED\n",
    "########################################"
   ]
  },
  {
   "cell_type": "code",
   "execution_count": 4,
   "metadata": {
    "collapsed": false
   },
   "outputs": [
    {
     "name": "stderr",
     "output_type": "stream",
     "text": [
      "/usr/local/lib/python2.7/dist-packages/nltk/app/__init__.py:29: UserWarning: nltk.app package not loaded (please install Tkinter library).\n",
      "  warnings.warn(\"nltk.app package not loaded \"\n",
      "/usr/local/lib/python2.7/dist-packages/nltk/draw/__init__.py:15: UserWarning: nltk.draw package not loaded (please install Tkinter library).\n",
      "  warnings.warn(\"nltk.draw package not loaded \"\n"
     ]
    },
    {
     "data": {
      "text/plain": [
       "bleu_score (generic function with 1 method)"
      ]
     },
     "execution_count": 4,
     "metadata": {},
     "output_type": "execute_result"
    }
   ],
   "source": [
    "using PyCall\n",
    "@pyimport nltk\n",
    "@pyimport nltk.align.bleu_score as nltk_bleu\n",
    "\n",
    "function bleu_score(candidate, reference)\n",
    "    reference = reference |> collect\n",
    "    candidate = candidate |> collect\n",
    "    \n",
    "    if reference==candidate #Perfect Match\n",
    "        1.0\n",
    "    else\n",
    "        weights = [1,1,1,1]/4\n",
    "        nltk_bleu.bleu(candidate,Any[reference], weights)\n",
    "    end\n",
    "end"
   ]
  },
  {
   "cell_type": "code",
   "execution_count": 5,
   "metadata": {
    "collapsed": false,
    "scrolled": true
   },
   "outputs": [
    {
     "data": {
      "text/plain": [
       "1-element Array{Any,1}:\n",
       " Dict{ByteString,Any}(\"fold_6\"=>Any[(ASCIIString[\"the\",\"songs\",\"sandburg\",\"sang\",\"often\",\"reminded\",\"listeners\",\"of\",\"songs\",\"of\",\"a\",\"kindred\",\"character\",\"they\",\"knew\",\"entirely\",\"or\",\"in\",\"fragments\",\".\"],ASCIIString[\"songs\",\"of\",\"they\",\"the\",\"songs\",\"a\",\"character\",\"or\",\"sandburg\",\"fragments\",\"entirely\",\"kindred\",\"in\",\".\",\"reminded\",\"of\",\"often\",\"knew\",\"sang\",\"listeners\"],NaN),(ASCIIString[\"it\",\"will\",\"help\",\"to\",\"determine\",\"the\",\"attitude\",\"of\",\"the\",\"new\",\"members\",\"toward\",\"the\",\"church\",\".\"],ASCIIString(the, new, members, of, the, church, will, help, to, determine, the, attitude, toward, it, .),0.14253380088857973),(ASCIIString[\"(\",\"check\",\"on\",\"the\",\"payne\",\"luggage\",\".\"],ASCIIString[\"on\",\"check\",\"the\",\"luggage\",\"payne\",\".\",\"(\"],0.0),(ASCIIString[\"when\",\"it\",\"was\",\"over\",\",\",\"eight\",\"of\",\"his\",\"company\",\"were\",\"still\",\"alive\",\"and\",\"all\",\"eight\",\"were\",\"wounded\",\".\"],ASCIIString(when, it, over, his, company, were, still, alive, ,, were, eight, of, it, were, wounded, and, eight, .),0.019942268462934346),(ASCIIString[\"philadelphia\",\"permitted\",\"him\",\"to\",\"seek\",\"a\",\"better\",\"connection\",\"after\",\"he\"  …  \"his\",\"decision\",\"to\",\"end\",\"his\",\"career\",\"as\",\"a\",\"player\",\".\"],ASCIIString[\"his\",\"to\",\"him\",\"to\",\"his\",\"to\",\"a\",\"he\",\"to\",\"decision\"  …  \"a\",\"court\",\"philadelphia\",\"option\",\"contacts\",\"ironically\",\"player\",\".\",\"refused\",\"sooner\"],NaN),(ASCIIString[\"one\",\"does\",\"not\",\"have\",\"to\",\"look\",\"for\",\"distress\",\".\"],ASCIIString[\"not\",\"for\",\"to\",\"have\",\"distress\",\"one\",\".\",\"does\",\"look\"],0.0),(ASCIIString[\"``\",\"song\",\"of\",\"hiawatha\",\"''\",\",\",\"in\",\"elgin\",\",\",\"illinois\",\",\",\"from\",\"june\",\"20\",\"to\",\"24th\",\".\"],ASCIIString[\"``\",\"in\",\"from\",\",\",\"june\",\",\",\"of\",\"illinois\",\"song\",\"''\",\"24th\",\"hiawatha\",\"to\",\"elgin\",\",\",\".\",\"20\"],0.0),(ASCIIString[\"the\",\"housekeeping\",\"problems\",\"of\",\"living\",\"in\",\"a\",\"shelter\",\"will\",\"begin\",\"as\",\"soon\",\"as\",\"the\",\"shelter\",\"is\",\"occupied\",\".\"],ASCIIString(as, soon, as, the, shelter, will, begin, in, living, the, housekeeping, is, occupied, a, shelter, of, problems, .),0.05150650470190871),(ASCIIString[\"his\",\"bogey\",\"4\",\"on\",\"this\",\"hole\",\"and\",\"subsequent\",\"bogeys\",\"at\"  …  \"birdie\",\"at\",\"8\",\"brought\",\"him\",\"back\",\"to\",\"even\",\"par\",\".\"],ASCIIString[\"birdie\",\"on\",\"at\",\"him\",\"bogey\",\"to\",\"his\",\"at\",\"back\",\"with\"  …  \"bogeys\",\".\",\"subsequent\",\"along\",\"brought\",\"7\",\"even\",\"8\",\"4\",\"5\"],NaN),(ASCIIString[\"the\",\"child\",\"in\",\"the\",\"primary\",\"grades\",\"can\",\"play\",\"harmoniously\",\"with\"  …  \"him\",\"into\",\"trouble\",\"when\",\"the\",\"group\",\"gets\",\"larger\",\";\",\";\"],ASCIIString[\"you\",\"it\",\"be\",\"he\",\"her\",\"it\",\"for\",\"into\",\"the\",\"two\"  …  \"quoting\",\"interrogatives\",\"2000\",\"pushes\",\"t.w.\",\"either\",\"arouse\",\"half\",\"assessing\",\",\"],NaN)  …  (ASCIIString[\"has\",\"the\",\"probable\",\"price\",\"situation\",\"in\",\"your\",\"field\",\"been\",\"forecast\",\"as\",\"a\",\"basis\",\"for\",\"future\",\"planning\",\"?\",\"?\"],ASCIIString[\"be\",\"for\",\"a\",\"our\",\"year\",\"what\",\"economic\",\"price\",\"no\",\"as\"  …  \"neocortex\",\"situation\",\"recommends\",\"28\",\"coiffure\",\"etc.\",\"swell\",\"has\",\"yesterday\",\"originally\"],0.0),(ASCIIString[\"i\",\"asked\",\".\"],ASCIIString(i, asked, .),1.0),(ASCIIString[\"those\",\"who\",\"have\",\"never\",\"traveled\",\"the\",\"width\",\"and\",\"length\",\"of\"  …  \"variety\",\"of\",\"this\",\"country\",\"held\",\"together\",\"under\",\"one\",\"government\",\".\"],ASCIIString[\"they\",\"this\",\"of\",\"any\",\"the\",\"have\",\"of\",\"the\",\"government\",\"this\"  …  \",\",\"because\",\"fertility\",\"weaves\",\"and\",\"definitive\",\"encircled\",\"webb\",\"cf.\",\"stockholders\"],NaN),(ASCIIString[\"other\",\"winners\"],ASCIIString[\"winners\",\"other\"],0.0),(ASCIIString[\"nixon\",\"fulfilled\",\"his\",\"assignment\",\"with\",\"grace\",\",\",\"then\",\"went\",\"beyond\",\"the\",\"required\",\"``\",\"sufficient\",\"declaration\",\"''\",\".\"],ASCIIString[\"``\",\"his\",\"required\",\"the\",\",\",\"nixon\",\"grace\",\"assignment\",\"sufficient\",\".\",\"declaration\",\"with\",\"beyond\",\"fulfilled\",\"went\",\"then\",\"''\"],0.0),(ASCIIString[\"this\",\"circular\",\"edifice\",\",\",\"constructed\",\"by\",\"agrippa\",\"in\",\"b.c.\",\"27\"  …  \"rebuilt\",\"in\",\"its\",\"present\",\"shape\",\"by\",\"the\",\"emperor\",\"hadrian\",\".\"],ASCIIString[\"was\",\"emperor\",\"this\",\"built\",\"by\",\"its\",\"in\",\".\",\"circular\",\"roman\"  …  \"b.c.\",\"consoled\",\"covering\",\",\",\"resultant\",\"the\",\"constructed\",\"succeeds\",\"142\",\"march\"],NaN),(ASCIIString[\"economically\",\",\",\"martin\",\"said\",\",\",\"the\",\"united\",\"states\",\"could\",\"best\",\"help\",\"foreign\",\"countries\",\"by\",\"helping\",\"them\",\"help\",\"themselves\",\".\"],ASCIIString[\"countries\",\"states\",\"them\",\"united\",\"help\",\"foreign\",\"by\",\"help\",\",\",\"martin\",\"economically\",\"the\",\",\",\"best\",\"said\",\"themselves\",\".\",\"could\",\"helping\"],NaN),(ASCIIString[\"``\",\"that\",\"important\",\"''\",\".\"],ASCIIString(``, that, important, '', .),0.9999592677266094),(ASCIIString[\"she\",\"noted\",\"that\",\"no\",\"student\",\"had\",\"been\",\"withdrawn\",\"through\",\"loss\",\"of\",\"confidence\",\";\",\";\"],ASCIIString[\"have\",\"she\",\"no\",\"that\",\";\",\"loss\",\"through\",\"was\",\"confidence\",\"student\",\";\",\"noted\",\"withdrawn\",\"of\"],0.0),(ASCIIString[\"and\",\",\",\"when\",\"you\",\"took\",\"a\",\"walk\",\"you\",\"never\",\"knew\"  …  \"of\",\"sparkling\",\"eyes\",\"were\",\"waiting\",\"around\",\"the\",\"next\",\"corner\",\".\"],ASCIIString[\"you\",\"you\",\"i\",\"out\",\"they\",\"a\",\"the\",\"around\",\"her\",\"two\"  …  \"taurida\",\"alone\",\"participant\",\"feds\",\"gabriel\",\"were\",\"quick\",\"winced\",\"it\",\",\"],NaN)],\"fold_5\"=>Any[(ASCIIString[\"the\",\"brush\",\"moves\",\"up\",\"and\",\"down\",\"and\",\"is\",\"small\",\"enough\"  …  \"dental\",\"surface\",\",\",\"including\",\"the\",\"back\",\"of\",\"the\",\"teeth\",\".\"],ASCIIString[\"up\",\"the\",\"to\",\"the\",\"small\",\"teeth\",\"and\",\"down\",\"of\",\"surface\"  …  \"brush\",\"moves\",\".\",\"the\",\"clean\",\"enough\",\"back\",\"every\",\"including\",\",\"],NaN),(ASCIIString[\"his\",\"sinuous\",\"melody\",\"is\",\"a\",\"sort\",\"of\",\"naive\",\"transcendence\",\"of\",\"all\",\"experience\",\".\"],ASCIIString[\"of\",\"is\",\"a\",\"of\",\"naive\",\"all\",\"sinuous\",\"transcendence\",\"experience\",\"melody\",\".\",\"his\",\"sort\"],0.0),(ASCIIString[\"she\",\"reached\",\"and\",\"reached\",\"around\",\"the\",\"dress\",\",\",\"but\",\"there\",\"was\",\"nothing\",\"there\",\".\"],ASCIIString(there, was, nothing, there, but, she, reached, ,, around, the, dress, and, reached, .),0.21746387921054247),(ASCIIString[\"this\",\"process\",\"is\",\"especially\",\"difficult\",\"since\",\"gyro\",\"drifting\",\"is\",\"typically\",\"random\",\".\"],ASCIIString[\"is\",\"this\",\"process\",\"random\",\"since\",\"typically\",\"gyro\",\"drifting\",\"especially\",\"is\",\"difficult\",\".\"],0.0),(ASCIIString[\"if\",\"you\",\"got\",\"too\",\"many\",\"people\",\"investing\",\"by\",\"this\",\"method\"  …  \"stock\",\"prices\",\",\",\"and\",\"thus\",\"throw\",\"the\",\"charts\",\"off\",\".\"],ASCIIString[\"you\",\"their\",\"they\",\"more\",\"prices\",\"would\",\"their\",\"it\",\"off\",\"more\"  …  \"resulting\",\"reminded\",\".\",\"essentially\",\"concerned\",\"if\",\"going\",\"throw\",\"include\",\"symbolized\"],NaN),(ASCIIString[\"i\",\"will\",\"deal\",\"with\",\"these\",\"later\",\"on\",\".\"],ASCIIString(i, later, on, these, will, deal, with, .),0.9108422589740405),(ASCIIString[\"this\",\"appears\",\"to\",\"be\",\"high\",\",\",\"as\",\"would\",\"be\",\"expected\"  …  \"the\",\"appreciable\",\"viscosity\",\"of\",\"the\",\"material\",\"in\",\"the\",\"drops\",\".\"],ASCIIString[\"be\",\"be\",\"the\",\"the\",\"to\",\"high\",\"this\",\"the\",\"from\",\"in\"  …  \"as\",\",\",\"viscosity\",\"drops\",\"of\",\"appreciable\",\"expected\",\".\",\"appears\",\"would\"],NaN),(ASCIIString[\"cricket\",\"took\",\"eight\",\"ships\",\"and\",\"went\",\"south\",\"across\",\"the\",\"straits\",\"and\",\"along\",\"the\",\"north\",\"coast\",\"of\",\"mindanao\",\"to\",\"cagayan\",\".\"],ASCIIString[\"south\",\"north\",\"across\",\"the\",\"coast\",\"to\",\"the\",\"and\",\"straits\",\"of\",\"mindanao\",\"cricket\",\"cagayan\",\"and\",\"ships\",\"along\",\"went\",\"took\",\".\",\"eight\"],NaN),(ASCIIString[\"neither\",\"of\",\"these\",\"poems\",\"is\",\"an\",\"aberration\",\";\",\";\"],ASCIIString[\";\",\"an\",\"of\",\"these\",\"poems\",\"is\",\"aberration\",\";\",\"neither\"],0.0),(ASCIIString[\"the\",\"low\",\"countries\",\",\",\"where\",\"the\",\"middle\",\"ages\",\"were\",\"to\"  …  \"the\",\"fields\",\"and\",\"forests\",\"below\",\"the\",\"walls\",\"of\",\"grandson\",\".\"],ASCIIString[\"the\",\"the\",\"their\",\"the\",\"years\",\"the\",\"they\",\"of\",\"of\",\"out\"  …  \"trucking\",\"fonds\",\"brennan\",\"korea\",\"where\",\"first\",\"bastianini\",\"additionally\",\"appealing\",\"three\"],NaN)  …  (ASCIIString[\"b\"],ASCIIString[\"b\"],0.0),(ASCIIString[\"it\",\"was\",\"probably\",\"at\",\"this\",\"period\",\"that\",\"littlepage\",\"got\",\"his\",\"first\",\"good\",\"look\",\"at\",\"the\",\"ordinary\",\"russian\",\"soldier\",\".\"],ASCIIString[\"it\",\"at\",\"this\",\"the\",\"his\",\"russian\",\"at\",\"period\",\"good\",\"soldier\",\"got\",\"ordinary\",\"littlepage\",\"first\",\"look\",\"was\",\"that\",\".\",\"probably\"],NaN),(ASCIIString[\"this\",\"was\",\"the\",\"worst\",\"thing\",\"i\",\"could\",\"have\",\"said\",\".\"],ASCIIString(this, thing, was, i, could, have, said, the, worst, .),0.39983844834655896),(ASCIIString[\"fretting\",\"privately\",\"but\",\"eschewing\",\"public\",\"defense\",\"of\",\"his\",\"terrorized\",\"bureaucrats\"  …  \"and\",\"detached\",\"while\",\"the\",\"hatchet\",\"men\",\"had\",\"their\",\"way\",\".\"],ASCIIString[\"their\",\"his\",\"public\",\"but\",\"the\",\"remained\",\"way\",\"men\",\"serene\",\"terrorized\"  …  \"hatchet\",\"detached\",\"fretting\",\"of\",\",\",\"defense\",\".\",\"bureaucrats\",\"and\",\"had\"],NaN),(ASCIIString[\"therefore\",\",\",\"what\",\"we\",\"must\",\"prove\",\"or\",\"disprove\",\"is\",\"that\"  …  \"at\",\"the\",\"time\",\"it\",\"was\",\"called\",\"the\",\"saxon\",\"shore\",\".\"],ASCIIString[\"we\",\"it\",\"the\",\"the\",\"we\",\"be\",\"the\",\"it\",\"the\",\"the\"  …  \"near\",\"incidentally\",\"pierson\",\"down\",\"exception\",\"antithesis\",\".\",\"veterinarians\",\"preceded\",\"it\"],NaN),(ASCIIString[\"montero\",\"had\",\"set\",\"up\",\"a\",\"strong\",\"position\",\",\",\"using\",\"every\"  …  \"had\",\"in\",\"addition\",\"to\",\"barricades\",\"of\",\"logs\",\"and\",\"brush\",\".\"],ASCIIString[\"we\",\"a\",\"up\",\"to\",\"and\",\"in\",\"had\",\"of\",\"box\",\"using\"  …  \"barricades\",\"montero\",\".\",\"bale\",\"brush\",\"position\",\"every\",\",\",\"had\",\"addition\"],NaN),(ASCIIString[\"assume\",\",\",\"for\",\"example\",\",\",\"a\",\"situation\",\"where\",\"a\",\"farm\",\"has\",\"a\",\"packing\",\"shed\",\"and\",\"fields\",\".\"],ASCIIString(for, example, ,, has, a, farm, where, a, packing, shed, ,, assume, a, situation, and, fields, .),0.03031411989571374),(ASCIIString[\"these\",\"additional\",\"modern\",\"bombers\",\"will\",\"replace\",\"some\",\"of\",\"the\",\"older\",\"b-47\",\"medium\",\"bombers\",\";\",\";\"],ASCIIString[\"bombers\",\"these\",\"of\",\";\",\"medium\",\"will\",\"bombers\",\"older\",\"additional\",\"b-47\",\"modern\",\";\",\"replace\",\"the\",\"some\"],0.0),(ASCIIString[\"he\",\"got\",\"a\",\"good\",\"fat\",\"job\",\"and\",\"we\",\"congratulate\",\"him\",\"on\",\"his\",\"good\",\"luck\",\".\"],ASCIIString[\"good\",\"he\",\"good\",\"on\",\"him\",\"a\",\"job\",\"fat\",\"and\",\"luck\",\".\",\"got\",\"his\",\"we\",\"congratulate\"],0.0),(ASCIIString[\"``\",\"i\",\"might\",\"''\",\".\"],ASCIIString(``, i, '', might, .),0.9511939986873664)],\"fold_2\"=>Any[ProcessExitedException(),ProcessExitedException(),ProcessExitedException(),ProcessExitedException(),ProcessExitedException(),ProcessExitedException(),ProcessExitedException(),ProcessExitedException(),ProcessExitedException()],\"fold_9\"=>Any[(ASCIIString[\"to\",\"begin\",\"the\",\"interview\",\",\",\"he\",\"asked\",\"if\",\"thayer\",\",\"  …  \"what\",\"he\",\"had\",\"said\",\"the\",\"other\",\"day\",\"about\",\"johnston\",\".\"],ASCIIString[\"we\",\"to\",\"not\",\"he\",\"about\",\"would\",\"to\",\"he\",\"about\",\"time\"  …  \"johnston\",\"opens\",\"got\",\"what\",\"could\",\"addition\",\"most\",\"suggested\",\"day\",\"once\"],NaN),(ASCIIString[\"he\",\"cleared\",\"his\",\"throat\",\";\",\";\"],ASCIIString(he, cleared, his, throat, ;, ;),0.5),(ASCIIString[\"introduction\"],ASCIIString(introduction),1.0),(ASCIIString[\"it\",\"is\",\"obvious\",\"that\",\"such\",\"an\",\"influence\",\"can\",\"only\",\"be\"  …  \"of\",\"an\",\"image\",\"intensifier\",\"at\",\"rather\",\"high\",\"output\",\"levels\",\".\"],ASCIIString[\"an\",\"be\",\"any\",\"an\",\"this\",\"can\",\"high\",\"the\",\"more\",\"in\"  …  \",\",\"concludes\",\"principally\",\"final\",\"levels\",\"just\",\"as\",\"is\",\"wratten\",\"would\"],NaN),(ASCIIString[\"if\",\"the\",\"railroads\",\",\",\"for\",\"example\",\",\",\"regularly\",\"slaughtered\",\"25,000\"  …  \"hanging\",\"of\",\"every\",\"railroad\",\"president\",\"in\",\"the\",\"united\",\"states\",\".\"],ASCIIString[\"for\",\"for\",\"their\",\"for\",\"their\",\"people\",\"for\",\"would\",\"the\",\"states\"  …  \"helped\",\"alex\",\"flatus\",\"depot\",\"natch\",\"wherein\",\"buckling\",\"academics\",\"uproar\",\"once\"],NaN),(ASCIIString[\"he\",\"looked\",\"wildly\",\"around\",\",\",\"at\",\"the\",\"now\",\"empty\",\"street\",\",\",\"at\",\"the\",\"mud\",\",\",\"at\",\"the\",\"rain\",\".\"],ASCIIString[\"at\",\"at\",\"at\",\"the\",\"he\",\"the\",\",\",\"rain\",\"around\",\",\",\"looked\",\"street\",\"mud\",\"wildly\",\"empty\",\".\",\"the\",\",\",\"now\"],NaN),(ASCIIString[\"arrange\",\"a\",\"reserved\",\"section\",\"in\",\"the\",\"sanctuary\",\"where\",\"all\",\"new\",\"members\",\"may\",\"sit\",\"together\",\".\"],ASCIIString[\"the\",\"all\",\"a\",\"where\",\"members\",\"new\",\"reserved\",\"together\",\"section\",\"sanctuary\",\"sit\",\"may\",\"in\",\"arrange\",\".\"],0.0),(ASCIIString[\"the\",\"west\",\"has\",\"no\",\"intention\",\"of\",\"attacking\",\"russia\",\".\"],ASCIIString[\"russia\",\"west\",\"no\",\"of\",\"attacking\",\"has\",\"the\",\"intention\",\".\"],0.0),(ASCIIString[\"it\",\"is\",\"not\",\"our\",\"bodies\",\"but\",\"our\",\"hearts\",\"and\",\"heads\",\"that\",\"have\",\"grown\",\"too\",\"soft\",\".\"],ASCIIString[\"our\",\"we\",\"it\",\"too\",\"their\",\"soft\",\".\",\"heads\",\"grown\",\"hearts\",\"is\",\"that\",\"and\",\"bodies\",\"not\",\"has\"],0.0),(ASCIIString[\"anybody\",\"carrying\",\"anything\",\"that\",\"might\",\"hide\",\"a\",\"rifle\",\"?\",\"?\"],ASCIIString[\"anything\",\"carrying\",\"that\",\"rifle\",\"?\",\"hide\",\"a\",\"anybody\",\"?\",\"come\"],0.0)  …  (ASCIIString[\"once\",\"more\",\"and\",\"roared\",\"off\",\"into\",\"the\",\"fog\",\",\",\"his\"  …  \",\",\"just\",\"as\",\"his\",\"hand\",\"did\",\"when\",\"he\",\"worked\",\".\"],ASCIIString[\"his\",\"he\",\"it\",\"his\",\"they\",\"it\",\"him\",\"the\",\"when\",\"with\"  …  \"brodbeck\",\"includes\",\"sec.\",\"purveyor\",\"respectively\",\"epitomized\",\"pressed\",\"doubt\",\"which\",\"carpenter\"],NaN),(ASCIIString[\"she\",\"continues\",\"to\",\"add\",\"to\",\"the\",\"pollen\",\"supply\",\"as\",\"needed\",\".\"],ASCIIString[\"to\",\"to\",\"supply\",\"she\",\"add\",\"the\",\"pollen\",\"as\",\"continues\",\"needed\",\".\"],0.0),(ASCIIString[\"you\",\"may\",\"dress\",\"it\",\"up\",\"with\",\"any\",\"number\",\"of\",\"accessories\",\"or\",\"keep\",\"it\",\"as\",\"simple\",\"as\",\"you\",\"choose\",\".\"],ASCIIString[\"you\",\"you\",\"any\",\"it\",\"or\",\"as\",\"up\",\"dress\",\"of\",\"with\",\"may\",\"accessories\",\"number\",\"simple\",\"as\",\".\",\"choose\",\"it\",\"keep\"],NaN),(ASCIIString[\"while\",\"other\",\"conditions\",\"might\",\"be\",\"even\",\"more\",\"effective\",\"in\",\"bringing\"  …  \"himself\",\"temporarily\",\"from\",\"feelings\",\"of\",\"responsibility\",\"for\",\"his\",\"behavior\",\".\"],ASCIIString[\"not\",\"any\",\"not\",\"their\",\"it\",\"to\",\"that\",\"be\",\"more\",\"this\"  …  \"jointly\",\"last-minute\",\"320\",\"bewhiskered\",\".\",\"reference\",\"portland\",\"young\",\"hinting\",\"should\"],NaN),(ASCIIString[\"if\",\"we\",\"add\",\"to\",\"these\",\"contacts\",\"with\",\"friendly\",\"members\",\"the\"  …  \"two\",\"thirds\",\"of\",\"all\",\"recruitment\",\"is\",\"through\",\"friendly\",\"contact\",\".\"],ASCIIString[\"any\",\"we\",\"an\",\"all\",\"its\",\"of\",\"the\",\"to\",\"countries\",\"a\"  …  \"stragglers\",\"coupled\",\".\",\"important\",\"(\",\"''\",\"preferably\",\"jolly\",\"say\",\"newly\"],NaN),(ASCIIString[\"the\",\"layout\",\"of\",\"the\",\"sewer\",\"lines\",\"was\",\"designed\",\"by\",\"henry\"  …  \"was\",\"the\",\"engineer\",\"for\",\"the\",\"manchester\",\"village\",\"disposal\",\"plant\",\".\"],ASCIIString[\"the\",\"was\",\"the\",\"the\",\"was\",\"for\",\"by\",\"the\",\"who\",\"plant\"  …  \"lines\",\"disposal\",\"layout\",\"taylor\",\"sewer\",\",\",\".\",\"manchester\",\"village\",\"designed\"],NaN),(ASCIIString[\"it\",\"was\",\"when\",\"she\",\"was\",\"seized\",\"as\",\"a\",\"material\",\"witness\",\"that\",\"she\",\"got\",\"the\",\"designation\",\"she\",\"liked\",\"best\",\".\"],ASCIIString[\"she\",\"she\",\"was\",\"she\",\"it\",\"was\",\"a\",\"that\",\"the\",\"as\",\"when\",\"best\",\"material\",\"witness\",\"designation\",\"seized\",\"liked\",\"got\",\".\"],NaN),(ASCIIString[\"he\",\"would\",\"not\",\"look\",\"up\",\".\"],ASCIIString(he, would, not, look, up, .),0.9455645085988238),(ASCIIString[\"the\",\"input\",\"axis\",\"of\",\"the\",\"x\",\"gyro\",\",\",\"when\",\"pointing\"  …  \"is\",\"always\",\"perpendicular\",\"to\",\"the\",\"spin\",\"axis\",\"of\",\"earth\",\".\"],ASCIIString[\"the\",\"the\",\"axis\",\"the\",\"of\",\"axis\",\"the\",\"x\",\"direction\",\"of\"  …  \",\",\"spin\",\"east-west\",\"gyro\",\".\",\"pointing\",\"when\",\"is\",\"to\",\"always\"],NaN),(ASCIIString[\"the\",\"council\",\"we\",\"now\",\"know\",\"will\",\"concern\",\"itself\",\"directly\",\"only\",\"with\",\"the\",\"internal\",\"affairs\",\"of\",\"the\",\"church\",\".\"],ASCIIString(we, now, the, internal, affairs, council, will, know, only, the, concern, of, itself, directly, with, the, church, .),0.0782250596740357)],\"fold_7\"=>Any[(ASCIIString[\"he\",\"finds\",\"the\",\"structure\",\"contains\",\"an\",\"af\",\"bond\",\"with\",\"the\",\"af\",\"distance\",\"of\",\"af\",\".\"],ASCIIString(with, the, structure, of, af, contains, an, af, distance, he, finds, the, af, bond, .),0.16075933879536572),(ASCIIString[\"danger\",\"cited\"],ASCIIString[\"danger\",\"cited\"],0.0),(ASCIIString[\"meaningful\",\"policies\",\"include\",\":\",\"(\",\"a\",\")\",\"kinds\",\"of\",\"cars\"  …  \"f\",\")\",\"need\",\"for\",\"liability\",\"insurance\",\"on\",\"state\",\"automobiles\",\".\"],ASCIIString[\")\",\")\",\")\",\")\",\"for\",\")\",\"we\",\"more\",\"all\",\")\"  …  \"hails\",\"anti-intellectual\",\"leonard\",\"a\",\"adjusting\",\"10\",\"victimized\",\"branch\",\"bismark\",\"(\"],NaN),(ASCIIString[\"he\",\"further\",\"proposed\",\"grants\",\"of\",\"an\",\"unspecified\",\"sum\",\"for\",\"experimental\",\"hospitals\",\".\"],ASCIIString[\"for\",\"an\",\"he\",\"sum\",\"further\",\"grants\",\"of\",\"experimental\",\"unspecified\",\"hospitals\",\"proposed\",\".\"],0.0),(ASCIIString[\"today\",\"however\",\",\",\"the\",\"``\",\"outsider\",\"''\",\"is\",\"likely\",\"to\"  …  \"the\",\"democratic\",\"processes\",\"of\",\"the\",\"secular\",\"or\",\"state\",\"university\",\".\"],ASCIIString[\"not\",\"not\",\"be\",\"to\",\"not\",\"the\",\"we\",\"state\",\"to\",\"the\"  …  \"attakapas\",\"slowed\",\"wilde\",\"predominantly\",\"capt.\",\"16.38\",\"advise\",\"clear\",\"sportsman\",\"this\"],NaN),(ASCIIString[\"(\",\"page\",\"34\",\")\"],ASCIIString[\"(\",\")\",\"page\",\"34\"],0.0),(ASCIIString[\"uniform\",\"questions\",\",\",\"definitions\",\",\",\"and\",\"procedures\",\"were\",\"enforced\",\"throughout\",\"the\",\"whole\",\"country\",\".\"],ASCIIString[\"country\",\"throughout\",\".\",\"procedures\",\"the\",\",\",\"uniform\",\"questions\",\",\",\"definitions\",\"enforced\",\"and\",\"whole\",\"were\"],0.0),(ASCIIString[\"in\",\"a\",\"minute\",\",\",\"or\",\"five\",\"minutes\",\",\",\"the\",\"business\",\"would\",\"be\",\"done\",\";\",\";\"],ASCIIString(in, the, business, ,, five, minutes, or, a, minute, ,, would, be, done, ;, ;),0.02429758343703714),(ASCIIString[\"jazz\",\",\",\"like\",\"sex\",\",\",\"is\",\"a\",\"mystique\",\".\"],ASCIIString(like, ,, a, mystique, ,, jazz, is, sex, .),0.1987858152354864),(ASCIIString[\"he\",\"crossed\",\"the\",\"street\",\"and\",\"walked\",\"swiftly\",\"southward\",\"to\",\"circle\"  …  \"boulevard\",\"and\",\"north\",\"a\",\"block\",\"to\",\"the\",\"open\",\"restaurant\",\".\"],ASCIIString[\"to\",\"to\",\"north\",\"the\",\"back\",\"street\",\"the\",\"to\",\"he\",\"open\"  …  \"swiftly\",\"block\",\"boulevard\",\".\",\"a\",\"walked\",\"the\",\"southward\",\"and\",\"likewise\"],NaN)  …  (ASCIIString[\"he\",\"chatted\",\"with\",\"ramey\",\"and\",\"benson\",\"for\",\"a\",\"minute\",\"or\",\"so\",\"in\",\"the\",\"meager\",\"shade\",\"of\",\"the\",\"trailer\",\".\"],ASCIIString[\"for\",\"a\",\"the\",\"he\",\"in\",\"with\",\"shade\",\"of\",\"ramey\",\"trailer\",\"and\",\"benson\",\"meager\",\".\",\"chatted\",\"minute\",\"the\",\"or\",\"so\"],NaN),(ASCIIString[\"he\",\"begins\",\":\",\"``\"],ASCIIString[\"``\",\":\",\"he\",\"begins\"],0.0),(ASCIIString[\"as\",\"an\",\"isolated\",\"policy\",\",\",\"land\",\"reform\",\"is\",\"likely\",\"to\",\"be\",\"politically\",\"disruptive\",\";\",\";\"],ASCIIString[\"be\",\"policy\",\"to\",\"is\",\"reform\",\";\",\"an\",\"politically\",\"land\",\";\",\"isolated\",\"disruptive\",\",\",\"as\",\"likely\"],0.0),(ASCIIString[\"this\",\"is\",\"the\",\"force\",\",\",\"in\",\"our\",\"time\",\"and\",\"in\"  …  \"and\",\"the\",\"manic-depressive\",\"to\",\"become\",\"head\",\"of\",\"a\",\"state\",\".\"],ASCIIString[\"this\",\"the\",\"the\",\"state\",\"to\",\"a\",\"our\",\"in\",\"and\",\"time\"  …  \"paranoiac\",\"head\",\"manic-depressive\",\".\",\"in\",\"every\",\"time\",\"that\",\"the\",\",\"],NaN),(ASCIIString[\"martin\",\"felt\",\"it\",\"was\",\"incredible\",\"that\",\"the\",\"situation\",\"had\",\"come\",\"to\",\"exist\",\"at\",\"all\",\".\"],ASCIIString[\"it\",\"had\",\"that\",\"at\",\"to\",\"the\",\"felt\",\"martin\",\"incredible\",\"situation\",\".\",\"came\",\"exist\",\"all\",\"be\"],0.0),(ASCIIString[\"managing\",\"director\",\"donald\",\"c.\",\"wagner\",\"has\",\"agreed\",\"to\",\"cooperate\",\"fully\"  …  \"after\",\"a\",\"period\",\"of\",\"sharp\",\"disagreement\",\"on\",\"the\",\"matter\",\".\"],ASCIIString[\"a\",\"said\",\"its\",\"with\",\"to\",\"director\",\"months\",\"issues\",\"of\",\"robert\"  …  \"defunct\",\"donald\",\"cooperate\",\"deciding\",\"reputedly\",\"[\",\"meanwhile\",\".\",\"effected\",\"plopped\"],NaN),(ASCIIString[\"this\",\"is\",\"one\",\"difference\",\"between\",\"bird\",\"and\",\"dylan\",\"which\",\"should\",\"be\",\"pointed\",\"out\",\".\"],ASCIIString[\"be\",\"this\",\"between\",\"one\",\"is\",\"out\",\"bird\",\"dylan\",\"pointed\",\"should\",\"and\",\"difference\",\".\",\"which\"],0.0),(ASCIIString[\"that\",\"touched\",\"off\",\"a\",\"total\",\"stampede\",\".\"],ASCIIString[\"that\",\"off\",\"a\",\"total\",\"stampede\",\"touched\",\".\"],0.0),(ASCIIString[\"he\",\"was\",\"not\",\"unmoved\",\".\"],ASCIIString[\"he\",\"not\",\"was\",\"unmoved\",\".\"],0.0),(ASCIIString[\"in\",\"the\",\"past\",\"such\",\"government\",\"claims\",\"have\",\"been\",\"found\",\"exaggerated\",\".\"],ASCIIString(such, claims, in, government, have, found, the, past, been, exaggerated, .),0.6973983191809094)],\"fold_1\"=>Any[(ASCIIString[\".\"],ASCIIString(.),1.0),(ASCIIString[\"but\",\"he\",\"warmed\",\"up\",\"after\",\"a\",\"while\",\".\"],ASCIIString[\"he\",\"after\",\"up\",\"but\",\"a\",\"while\",\"warmed\",\".\"],0.0),(ASCIIString[\")\",\"what\",\"it\",\"does\",\":\"],ASCIIString(), what, it, does, :),0.985293012149468),(ASCIIString[\"``\",\"forget\",\"we\",\"ever\",\"knew\",\"what\",\"''\",\"?\",\"?\"],ASCIIString[\"``\",\"we\",\"?\",\"knew\",\"ever\",\"forget\",\"what\",\"?\",\"''\"],0.0),(ASCIIString[\"what\",\"a\",\"spectacle\",\"he\",\"was\",\",\",\"caked\",\"with\",\"dirt\",\"and\"  …  \"absolutely\",\"the\",\"prettiest\",\"girl\",\"in\",\"this\",\"whole\",\"wonderful\",\"world\",\".\"],ASCIIString[\"i\",\"i\",\"the\",\"a\",\"it\",\"world\",\"her\",\"the\",\"people\",\"and\"  …  \"sorry\",\".\",\"astwood\",\"botanists\",\"presumes\",\"deal\",\"renamed\",\"caressing\",\"1930\",\"94\"],NaN),(ASCIIString[\"and\",\"even\",\"putting\",\"it\",\"that\",\"way\",\"would\",\"not\",\"prove\",\"that\",\"marx\",\"was\",\"anything\",\"but\",\"wrong\",\".\"],ASCIIString[\"that\",\"it\",\"not\",\"that\",\"even\",\"wrong\",\"marx\",\"putting\",\"and\",\"would\",\"way\",\".\",\"anything\",\"was\",\"prove\",\"but\"],0.0),(ASCIIString[\"with\",\"the\",\"divinities\",\"present\",\"and\",\"our\",\"souls\",\"in\",\"place\",\",\",\"we\",\"were\",\"wished\",\"health\",\",\",\"happiness\",\",\",\"and\",\"power\",\".\"],ASCIIString[\"we\",\"our\",\"and\",\"in\",\"and\",\".\",\"with\",\"power\",\",\",\"present\",\"happiness\",\",\",\"souls\",\"divinities\",\"were\",\",\",\"health\",\"the\",\"place\",\"wished\"],NaN),(ASCIIString[\"an\",\"important\",\"criterion\",\"of\",\"maturity\",\"is\",\"creativity\",\".\"],ASCIIString[\"is\",\"important\",\"maturity\",\"an\",\"of\",\"criterion\",\"creativity\",\".\"],0.0),(ASCIIString[\"it\",\"was\",\",\",\"of\",\"course\",\",\",\"in\",\"this\",\"drawing\",\"of\"  …  \"his\",\"desire\",\"to\",\"do\",\"full\",\"justice\",\"to\",\"an\",\"author\",\".\"],ASCIIString[\"of\",\"it\",\"his\",\"this\",\"of\",\"he\",\"of\",\"to\",\"the\",\"in\"  …  \",\",\".\",\"most\",\"full\",\"was\",\"author\",\"do\",\"clearly\",\"to\",\"that\"],NaN),(ASCIIString[\"at\",\"one\",\"and\",\"the\",\"same\",\"time\",\",\",\"she\",\"was\",\"within\"  …  \"searching\",\"for\",\"the\",\"drawbridge\",\"that\",\"would\",\"give\",\"her\",\"entry\",\".\"],ASCIIString[\"she\",\"the\",\"her\",\"it\",\"time\",\"the\",\"for\",\"one\",\"at\",\"would\"  …  \"drawbridge\",\"and\",\"same\",\"still\",\".\",\"searching\",\"was\",\"that\",\"give\",\"but\"],NaN)  …  (ASCIIString[\"have\",\"you\",\"checked\",\"the\",\"cost\",\"of\",\"subcontracting\",\"your\",\"cafeteria\",\"operation\",\"in\",\"order\",\"to\",\"save\",\"administrative\",\"costs\",\"?\",\"?\"],ASCIIString[\"your\",\"you\",\"costs\",\"cost\",\"order\",\"the\",\"administrative\",\"?\",\"operation\",\"in\",\"cafeteria\",\"save\",\"subcontracting\",\"of\",\"?\",\"checked\",\"to\",\"have\"],0.0),(ASCIIString[\"oedipus\",\"and\",\"lear\",\"instruct\",\"us\",\"how\",\"little\",\"of\",\"the\",\"world\",\"belongs\",\"to\",\"man\",\".\"],ASCIIString[\"to\",\"world\",\"the\",\"us\",\"how\",\"of\",\"oedipus\",\"and\",\"belongs\",\"lear\",\"little\",\"instruct\",\"man\",\".\"],0.0),(ASCIIString[\"``\",\"why\",\"did\",\"you\",\"do\",\"it\",\"--\",\"why\",\"did\",\"you\",\"hit\",\"him\",\"''\",\"?\",\"?\"],ASCIIString(``, why, did, you, do, it, --, why, did, you, hit, him, '', ?, ?),0.010848256704616593),(ASCIIString[\"she\",\"should\",\"offer\",\"substitutes\",\"for\",\"the\",\"temptations\",\"which\",\"seem\",\"overwhelmingly\",\"desirable\",\"to\",\"the\",\"child\",\".\"],ASCIIString[\"for\",\"the\",\"child\",\"offer\",\"the\",\"temptations\",\"overwhelmingly\",\"substitutes\",\"to\",\"she\",\"desirable\",\"which\",\".\",\"seem\",\"should\"],0.0),(ASCIIString[\"in\",\"a\",\"small\",\"grove\",\"against\",\"the\",\"river\",\"they\",\"halted\",\",\",\"turning\",\"deep\",\"into\",\"the\",\"protection\",\"of\",\"the\",\"trees\",\".\"],ASCIIString[\"the\",\"into\",\"the\",\"a\",\"they\",\"river\",\"in\",\"of\",\"trees\",\"against\",\"small\",\".\",\"deep\",\"protection\",\"grove\",\"halted\",\",\",\"the\",\"turning\"],NaN),(ASCIIString[\"all\",\"of\",\"its\",\"cities\",\"close\",\"their\",\"fiscal\",\"years\",\"on\",\"december\",\"31\",\".\"],ASCIIString(all, of, its, cities, close, their, fiscal, years, on, december, 31, .),0.9957354396844984),(ASCIIString[\"the\",\"new\",\"bedford\",\"standard-times\",\"has\",\"reported\",\"knowlton\",\"as\",\"saying\",\",\"  …  \"morse\",\",\",\"he\",\"would\",\"have\",\"convicted\",\"``\",\"somebody\",\"''\",\".\"],ASCIIString[\"``\",\"he\",\"he\",\"not\",\"he\",\"that\",\"``\",\"said\",\"not\",\"he\"  …  \"conceivably\",\"backs\",\"rank-and-file\",\"(\",\"befuddling\",\".\",\"50-year\",\"things\",\"husband\",\"once\"],NaN),(ASCIIString[\"as\",\"early\",\"as\",\"1858\",\",\",\"le\",\"fort\",\"claimed\",\"an\",\"alveolar\",\"distribution\",\"of\",\"the\",\"bronchial\",\"arteries\",\"in\",\"human\",\"beings\",\".\"],ASCIIString[\"human\",\"the\",\"an\",\"in\",\"as\",\"of\",\"early\",\"le\",\"alveolar\",\",\",\"fort\",\"bronchial\",\"as\",\"distribution\",\"1858\",\"beings\",\"claimed\",\"arteries\",\".\"],NaN),(ASCIIString[\"``\",\"e.\",\"b.\",\"''\",\"compared\",\"john\",\"brown\",\"to\",\"moses\",\"in\"  …  \"they\",\"were\",\"both\",\"acting\",\"to\",\"deliver\",\"millions\",\"from\",\"oppression\",\".\"],ASCIIString[\"to\",\"they\",\"``\",\"from\",\"john\",\"to\",\"b.\",\"in\",\"brown\",\"acting\"  …  \"moses\",\"e.\",\"oppression\",\"compared\",\"both\",\".\",\"that\",\"were\",\"deliver\",\"''\"],NaN),(ASCIIString[\"we\",\"both\",\"had\",\"hangovers\",\".\"],ASCIIString[\"we\",\".\",\"hangovers\",\"both\",\"had\"],0.0)],\"fold_8\"=>Any[(ASCIIString[\"word\",\"reached\",\"the\",\"company\",\"that\",\"the\",\"man\",\"behind\",\"these\",\"depredations\"  …  \"who\",\"were\",\"kept\",\"in\",\"line\",\"through\",\"fear\",\"of\",\"him\",\".\"],ASCIIString[\"people\",\"his\",\"a\",\"the\",\"they\",\"the\",\"he\",\"were\",\"of\",\"a\"  …  \"rogers\",\"prevents\",\"in\",\"look\",\"countered\",\"who\",\"alternatively\",\"well\",\"had\",\"10\"],NaN),(ASCIIString[\"he\",\"did\",\"seem\",\"hasty\",\"on\",\"his\",\"second\",\"and\",\"third\",\"shots\"  …  \"his\",\"composure\",\",\",\"which\",\"he\",\"had\",\"quite\",\"visibly\",\"lost\",\".\"],ASCIIString[\"he\",\"i\",\"his\",\"he\",\"they\",\"he\",\"it\",\"his\",\"after\",\"game\"  …  \"an\",\"in.\",\",\",\"nevertheless\",\"wrecked\",\"snappy\",\"duffy\",\"possible\",\"ok\",\"third\"],NaN),(ASCIIString[\"kansas\",\"city\",\",\",\"mo.\",\";\",\";\"],ASCIIString(kansas, city, ,, mo., ;, ;),0.5),(ASCIIString[\"his\",\"bridgework\",\"or\",\"his\",\"plates\",\"feel\",\"loose\",\"and\",\"monstrous\",\".\"],ASCIIString[\"his\",\"or\",\"plates\",\"and\",\"loose\",\"monstrous\",\"feel\",\"bridgework\",\".\",\"his\"],0.0),(ASCIIString[\"every\",\"plane\",\"that\",\"could\",\"fly\",\"was\",\"sent\",\"into\",\"the\",\"air\",\".\"],ASCIIString[\"air\",\"into\",\"plane\",\"that\",\"the\",\"fly\",\"sent\",\"every\",\"was\",\".\",\"could\"],0.0),(ASCIIString[\"turn\",\"shaker\",\"upside\",\"down\",\".\"],ASCIIString[\"down\",\"upside\",\"shaker\",\"turn\",\".\"],0.0),(ASCIIString[\"was\",\"that\",\"what\",\"had\",\"given\",\"way\",\"in\",\"me\",\"?\",\"?\"],ASCIIString(in, that, way, was, what, had, given, me, ?, ?),0.16632029962819084),(ASCIIString[\"the\",\"advantages\",\"of\",\"dilatation\",\"by\",\"the\",\"physician\",\"are\",\"both\",\"physical\",\"and\",\"psychological\",\".\"],ASCIIString[\"are\",\"physical\",\"the\",\"of\",\"by\",\"psychological\",\"and\",\"the\",\"physician\",\"advantages\",\"dilatation\",\".\",\"both\"],0.0),(ASCIIString[\"the\",\"collaboration\",\"was\",\"remarkable\",\",\",\"as\",\"it\",\"was\",\"in\",\"both\",\"the\",\"other\",\"movements\",\",\",\"too\",\".\"],ASCIIString[\"was\",\"the\",\"other\",\"it\",\"in\",\"was\",\"as\",\"movements\",\",\",\"remarkable\",\"the\",\"collaboration\",\",\",\"too\",\".\",\"both\"],0.0),(ASCIIString[\"they\",\"will\",\"be\",\"for\",\"teaching\",\",\",\"agriculture\",\"and\",\"community\",\"development\"  …  \",\",\"africa\",\",\",\"the\",\"middle\",\"east\",\"and\",\"latin\",\"america\",\".\"],ASCIIString[\"east\",\"will\",\"world\",\"for\",\"south\",\"in\",\"education\",\"america\",\"and\",\"east\"  …  \"heads\",\"farming\",\"exacerbated\",\"asia\",\"demanded\",\"complementing\",\"teach\",\"donnelly\",\"shortly\",\"expect\"],NaN)  …  (ASCIIString[\"this\",\"issue\",\"that\",\"you\",\"are\",\"reading\",\"marks\",\"my\",\"15th\",\"anniversary\",\".\"],ASCIIString[\"i\",\"this\",\"your\",\"anniversary\",\"are\",\"marks\",\"issue\",\"reading\",\"15th\",\"that\",\".\"],0.0),(ASCIIString[\"sba\",\"cosponsors\",\"these\",\"courses\",\"with\",\"educational\",\"institutions\",\"and\",\"community\",\"groups\",\".\"],ASCIIString[\"institutions\",\"groups\",\"community\",\"these\",\"courses\",\"with\",\"cosponsors\",\".\",\"sba\",\"and\",\"educational\"],0.0),(ASCIIString[\"the\",\"thoroughgoing\",\"idealization\",\"of\",\"the\",\"planter\",\"society\",\"did\",\"not\",\"come\"  …  \"defend\",\"a\",\"way\",\"of\",\"life\",\"which\",\"had\",\"been\",\"destroyed\",\".\"],ASCIIString[\"not\",\"not\",\"the\",\"they\",\"the\",\"of\",\"have\",\"the\",\"war\",\"to\"  …  \"when\",\",\",\"which\",\"idealization\",\"way\",\"until\",\".\",\"had\",\"another\",\"despite\"],NaN),(ASCIIString[\"they\",\"compose\",\"a\",\"painful\",\"elegy\",\"to\",\"what\",\"might\",\"have\",\"been\"  …  \"and\",\"ended\",\"in\",\"long\",\"years\",\"of\",\"suffering\",\"and\",\"hatred\",\".\"],ASCIIString[\"they\",\"they\",\"a\",\"a\",\"to\",\"years\",\"that\",\"her\",\"it\",\"for\"  …  \"faulknerian\",\"partnered\",\"220\",\"echoed\",\"supposed\",\",\",\"preconditioned\",\"happiness\",\"davidson\",\"indeed\"],NaN),(ASCIIString[\"processing\",\"methods\",\";\",\";\"],ASCIIString[\";\",\"processing\",\"methods\",\";\"],0.0),(ASCIIString[\"coffee\",\"is\",\"made\",\"from\",\"the\",\"roasted\",\"and\",\"ground\",\"seeds\",\"of\",\"the\",\"coffee\",\"tree\",\".\"],ASCIIString[\"coffee\",\"the\",\"ground\",\"of\",\"seeds\",\"coffee\",\"from\",\"tree\",\"and\",\"the\",\"roasted\",\"made\",\"is\",\".\"],0.0),(ASCIIString[\"--\",\"guidance\",\"in\",\"christian\",\"social\",\"concerns\",\".\"],ASCIIString[\"social\",\"--\",\"christian\",\"concerns\",\"in\",\"guidance\",\".\"],0.0),(ASCIIString[\"when\",\"this\",\"water\",\"level\",\"has\",\"been\",\"reached\",\",\",\"inject\",\"steam\"  …  \"reaches\",\"that\",\"shown\",\"in\",\"column\",\"b\",\"of\",\"table\",\"2\",\".\"],ASCIIString[\"the\",\"into\",\"level\",\"this\",\"the\",\"until\",\"water\",\"1\",\"in\",\"which\"  …  \"table\",\"flees\",\"that\",\"reaches\",\"recently\",\"been\",\"marveled\",\"12\",\",\",\"however\"],NaN),(ASCIIString[\"no\",\"one\",\",\",\"not\",\"even\",\"the\",\"producer\",\",\",\"had\",\"any\",\"real\",\"hope\",\"of\",\"getting\",\"it\",\"back\",\"to\",\"broadway\",\".\"],ASCIIString[\"any\",\"not\",\"no\",\"it\",\"they\",\"of\",\"back\",\"one\",\"much\",\",\",\"producer\",\"real\",\"broadway\",\"the\",\"hopes\",\",\",\"got\",\".\",\"only\",\"instructed\"],NaN),(ASCIIString[\"the\",\"darkening\",\"world\",\"scene\",\",\",\"at\",\"the\",\"time\",\"of\",\"the\"  …  \"trouble\",\"his\",\"mind\",\"even\",\"in\",\"his\",\"remote\",\"virginia\",\"studio\",\".\"],ASCIIString[\"his\",\"the\",\"world\",\"his\",\"the\",\"time\",\"in\",\"at\",\"the\",\"of\"  …  \"studio\",\"remote\",\"pact\",\"darkening\",\"virginia\",\"munich\",\"mind\",\",\",\"even\",\"to\"],NaN)],\"fold_3\"=>Any[(ASCIIString[\"with\",\"this\",\"ultimate\",\"weapon\",\",\",\"the\",\"two\",\"yankees\",\"may\",\"have\",\"saved\",\"baseball\",\"from\",\"its\",\"dullest\",\"season\",\".\"],ASCIIString[\"this\",\"have\",\"season\",\"the\",\"baseball\",\"from\",\"weapon\",\"may\",\",\",\"yankees\",\"saved\",\"dullest\",\"with\",\"ultimate\",\".\",\"its\",\"two\"],0.0),(ASCIIString[\"there\",\"may\",\"be\",\"others\",\".\"],ASCIIString(others, may, be, there, .),1.0),(ASCIIString[\"the\",\"problem\",\"of\",\"solidarity\",\"and\",\"morale\",\"again\",\"involves\",\"the\",\"concept\",\"of\",\"values\",\".\"],ASCIIString[\"the\",\"of\",\"the\",\"values\",\"problem\",\"of\",\"again\",\"morale\",\"involves\",\"solidarity\",\"and\",\"concept\",\".\"],0.0),(ASCIIString[\"every\",\"pitch\",\"in\",\"the\",\"game\",\"brought\",\"forth\",\"a\",\"howl\",\"from\"  …  \"they\",\"dropped\",\"many\",\")\",\"called\",\"forth\",\"yelps\",\"of\",\"derision\",\".\"],ASCIIString[\"they\",\"game\",\"out\",\"it\",\"the\",\"they\",\"a\",\"from\",\"i\",\"the\"  …  \"resultant\",\"layton\",\"contrast\",\"testifies\",\",\",\"get\",\"breakers\",\"one\",\"meantime\",\"1870\"],NaN),(ASCIIString[\"i\",\"did\",\"not\",\"rest\",\"until\",\"i\",\"had\",\"tracked\",\"the\",\"mystery\",\"down\",\".\"],ASCIIString[\"i\",\"i\",\"not\",\"until\",\"had\",\"down\",\"the\",\"mystery\",\".\",\"tracked\",\"rest\",\"did\"],0.0),(ASCIIString[\"let\",\"us\",\"take\",\"a\",\"set\",\"of\",\"circumstances\",\"in\",\"which\",\"i\"  …  \"one\",\"of\",\"us\",\"might\",\"naturally\",\"make\",\"such\",\"a\",\"statement\",\".\"],ASCIIString[\"we\",\"we\",\"we\",\"i\",\"any\",\"it\",\"would\",\"it\",\"a\",\"will\"  …  \"gisors\",\"heavy-weight\",\"20-22\",\"similarly\",\"teamed\",\"assistant\",\"whether\",\"[\",\"hails\",\"2051\"],NaN),(ASCIIString[\"``\",\"nothing\",\"''\",\",\",\"phil\",\"said\",\".\"],ASCIIString(phil, said, ,, ``, nothing, '', .),0.9807530745548474),(ASCIIString[\"rather\",\"the\",\"monthly\",\"total\",\"consumption\",\"was\",\"divided\",\"and\",\"charged\",\"on\"  …  \"of\",\"number\",\"of\",\"rooms\",\"and\",\"persons\",\"in\",\"the\",\"family\",\".\"],ASCIIString[\"of\",\"the\",\"of\",\"the\",\"on\",\"total\",\"was\",\"number\",\"basis\",\"and\"  …  \"consumption\",\"divided\",\"charged\",\"rooms\",\"monthly\",\"in\",\"and\",\"persons\",\".\",\"rather\"],NaN),(ASCIIString[\"the\",\"middle-aged\",\"man\",\"said\",\"over\",\"and\",\"over\",\",\",\"``\",\"why\"  …  \"come\",\"here\",\",\",\"why\",\"did\",\"i\",\"come\",\"here\",\"''\",\".\"],ASCIIString[\"i\",\"i\",\"over\",\"``\",\"here\",\"over\",\",\",\"the\",\",\",\"man\"  …  \"did\",\"''\",\"why\",\"did\",\"said\",\"come\",\".\",\"here\",\"why\",\"and\"],NaN),(ASCIIString[\"i\",\"have\",\"an\",\"appointment\",\"''\",\".\"],ASCIIString[\"i\",\"an\",\"have\",\"appointment\",\".\",\"''\"],0.0)  …  (ASCIIString[\"1\",\")\"],ASCIIString(1, )),1.0),(ASCIIString[\"in\",\"this\",\"case\",\",\",\"drilling\",\"a\",\"small\",\"pilot\",\"hole\",\"or\",\"clamping\",\"the\",\"work\",\"will\",\"do\",\"much\",\"to\",\"improve\",\"accuracy\",\".\"],ASCIIString[\"do\",\"to\",\"this\",\"work\",\"a\",\"much\",\"the\",\"small\",\"drilling\",\"improve\",\"hole\",\",\",\"pilot\",\"accuracy\",\"in\",\"clamping\",\"case\",\"or\",\".\",\"will\"],NaN),(ASCIIString[\"``\",\"did\",\"you\",\"hear\",\"tim\",\"return\",\"''\",\"?\",\"?\"],ASCIIString[\"you\",\"``\",\"?\",\"did\",\"tim\",\"return\",\"hear\",\"?\",\"''\"],0.0),(ASCIIString[\"another\",\",\",\"arthur\",\"m.\",\"schlesinger\",\",\",\"jr.\",\",\",\"has\",\"won\",\"a\",\"pulitzer\",\"prize\",\"in\",\"history\",\";\",\";\"],ASCIIString[\"won\",\";\",\"a\",\"prize\",\";\",\"jr.\",\"in\",\"has\",\"m.\",\"history\",\",\",\"pulitzer\",\",\",\"arthur\",\"another\",\"schlesinger\",\",\"],0.0),(ASCIIString[\"he\",\"felt\",\"certain\",\"for\",\"the\",\"first\",\"time\",\"in\",\"his\",\"teaching\"  …  \"satisfying\",\"female\",\"sexual\",\"experience\",\"as\",\"most\",\"males\",\"might\",\"think\",\".\"],ASCIIString[\"not\",\"i\",\"for\",\"not\",\"more\",\"that\",\"for\",\"he\",\"this\",\"a\"  …  \"37-year-old\",\"meanwhile\",\"1,107\",\"may\",\"regarded\",\"magee\",\"which\",\"satisfying\",\"the\",\"?\"],NaN),(ASCIIString[\"this\",\"can\",\"be\",\"accomplished\",\"substantially\",\"by\",\"a\",\"continued\",\"trend\",\"toward\"  …  \"detection\",\",\",\"and\",\"control\",\"of\",\"insect\",\"and\",\"disease\",\"infestations\",\".\"],ASCIIString[\"more\",\"more\",\"we\",\"control\",\"more\",\"for\",\"be\",\"control\",\"their\",\"more\"  …  \"willows\",\"all-inclusive\",\"seal\",\"concurs\",\"aspiring\",\"respectively\",\"provoke\",\"walters\",\"which\",\"using\"],NaN),(ASCIIString[\"they\",\"were\",\"climbing\",\"the\",\"hill\",\"in\",\"the\",\"night\",\"when\",\"the\"  …  \"out\",\"into\",\"a\",\"faint\",\"mist\",\"of\",\"light\",\"and\",\"ended\",\".\"],ASCIIString[\"into\",\"the\",\"they\",\"light\",\"into\",\"the\",\"they\",\"light\",\"two\",\"the\"  …  \"they\",\"19-23\",\"co\",\"entrusting\",\"uses\",\"leading\",\"daybreak\",\"cf.\",\"setting\",\"referrals\"],NaN),(ASCIIString[\"but\",\"look\",\"at\",\"us\",\"today\",\"!\",\"!\"],ASCIIString[\"!\",\"us\",\"at\",\"!\",\"today\",\"looks\",\"they\"],0.0),(ASCIIString[\"no\",\"wonder\",\"melissa\",\"responded\",\"so\",\"completely\",\"to\",\"its\",\"beckoning\",\".\"],ASCIIString[\"no\",\"completely\",\"beckoning\",\"melissa\",\"responded\",\"to\",\"wonder\",\"its\",\".\",\"so\"],0.0),(ASCIIString[\"her\",\"statement\",\"was\",\"a\",\"hope\",\",\",\"not\",\"a\",\"truth\",\"in\",\"which\",\"they\",\"could\",\"believe\",\".\"],ASCIIString(in, a, hope, ,, not, be, a, truth, they, believed, it, helped, her, statement, .),0.08593417132416846)],\"fold_10\"=>Any[(ASCIIString[\"thus\",\"a\",\"new\",\"pattern\",\"of\",\"days\",\"began\",\"to\",\"develop\",\",\",\"for\",\"granny\",\"albright\",\"did\",\"not\",\"die\",\".\"],ASCIIString[\"to\",\"for\",\"not\",\"a\",\"new\",\"of\",\".\",\"die\",\"pattern\",\"albright\",\"granny\",\"develop\",\",\",\"began\",\"days\",\"thus\",\"did\"],0.0),(ASCIIString[\"for\",\"two\",\"hours\",\"they\",\"drove\",\"her\",\"from\",\"one\",\"strong\",\"point\"  …  \"the\",\"plain\",\"where\",\"they\",\"could\",\"get\",\"a\",\"good\",\"throw\",\".\"],ASCIIString[\"they\",\"you\",\"her\",\"they\",\"a\",\"their\",\"the\",\"to\",\"one\",\"the\"  …  \"160\",\"cornerstone\",\"accenting\",\"was\",\"drift\",\"give\",\"teamed\",\"read\",\"leaving\",\"seventeen\"],NaN),(ASCIIString[\"it\",\"is\",\"perhaps\",\"difficult\",\"to\",\"conceive\",\",\",\"but\",\"imagine\",\"that\"  …  \"shakespeare\",\",\",\"and\",\"perhaps\",\"some\",\"lyrics\",\"of\",\"their\",\"own\",\".\"],ASCIIString[\"you\",\"to\",\"it\",\"they\",\"to\",\"it\",\"their\",\"will\",\"about\",\"the\"  …  \"dunbar\",\"aims\",\"today\",\"dunne\",\"found\",\"torment\",\"leading\",\"ready\",\"chole\",\"recollection\"],NaN),(ASCIIString[\"she\",\"yanked\",\"away\",\"from\",\"him\",\"furiously\",\".\"],ASCIIString[\"away\",\"him\",\"she\",\"from\",\"furiously\",\"yanked\",\".\"],0.0),(ASCIIString[\"seeing\",\"her\",\"caused\",\"a\",\"lurch\",\"in\",\"ramey\",\",\",\"a\",\"recognition\",\".\"],ASCIIString[\"a\",\"her\",\"a\",\"in\",\"recognition\",\"ramey\",\"caused\",\"seeing\",\"lurch\",\",\",\".\"],0.0),(ASCIIString[\"the\",\"sharp\",\"ray\",\"was\",\"absorbed\",\"by\",\"a\",\"cloud\",\",\",\"then\"  …  \"to\",\"the\",\"earth\",\"in\",\"a\",\"softer\",\",\",\"diffused\",\"radiance\",\".\"],ASCIIString[\"a\",\"the\",\"by\",\"a\",\"earth\",\"in\",\"sharp\",\"then\",\"was\",\"cloud\"  …  \"ray\",\",\",\"radiance\",\"softer\",\"absorbed\",\",\",\".\",\"the\",\"diffused\",\"to\"],NaN),(ASCIIString[\"he\",\"is\",\"better\",\"fitted\",\"to\",\"perform\",\"his\",\"social\",\"life\",\"among\",\"his\",\"fellows\",\".\"],ASCIIString[\"his\",\"he\",\"life\",\"to\",\"social\",\"his\",\"better\",\"among\",\"fitted\",\"fellows\",\".\",\"is\",\"perform\"],0.0),(ASCIIString[\"the\",\"way\",\"was\",\"opening\",\"up\",\";\",\";\"],ASCIIString(the, way, was, opening, up, ;, ;),0.4393263488905357),(ASCIIString[\"nevertheless\",\"he\",\"had\",\"ample\",\"opportunity\",\"to\",\"contest\",\"the\",\"statement\",\"before\",\"the\",\"appeal\",\"board\",\".\"],ASCIIString[\"he\",\"to\",\"the\",\"appeal\",\"had\",\"board\",\"opportunity\",\"before\",\"contest\",\"statement\",\"ample\",\"the\",\"nevertheless\",\".\"],0.0),(ASCIIString[\"he\",\"said\",\"she\",\"would\",\"only\",\"hurt\",\"herself\",\".\"],ASCIIString[\"he\",\"said\",\"she\",\"hurt\",\"only\",\".\",\"herself\",\"would\"],0.0)  …  (ASCIIString[\"religion\",\"has\",\"its\",\"own\",\"supernatural\",\"prescriptions\",\"that\",\"are\",\"at\",\"the\"  …  \"time\",\"codes\",\"of\",\"behavior\",\"for\",\"the\",\"here\",\"and\",\"now\",\".\"],ASCIIString[\"its\",\"for\",\"are\",\"the\",\"same\",\"religion\",\"at\",\"has\",\"behavior\",\"codes\"  …  \"prescriptions\",\"supernatural\",\"here\",\"and\",\".\",\"that\",\"time\",\"the\",\"own\",\"now\"],NaN),(ASCIIString[\"by\",\"reminding\",\"ourselves\",\"of\",\"these\",\"factors\",\"in\",\"the\",\"situation\",\",\"  …  \"between\",\"parker\",\"and\",\"his\",\"neighbors\",\"was\",\"fought\",\"in\",\"earnest\",\".\"],ASCIIString[\"we\",\"we\",\"we\",\"we\",\"it\",\"it\",\"be\",\"it\",\"war\",\"his\"  …  \"chive\",\"athens\",\"sure\",\"bengal\",\"same\",\"revelation\",\"be\",\"mothers-in-law\",\"tuesday\",\"dropped\"],NaN),(ASCIIString[\"bernard\",\"heuvelmans\",\"also\",\"treats\",\"of\",\"the\",\"largest\",\"snakes\",\",\",\"but\"  …  \"level\",\",\",\"and\",\"is\",\"chiefly\",\"concerned\",\"with\",\"the\",\"anaconda\",\".\"],ASCIIString[\"the\",\"the\",\"of\",\"on\",\"the\",\"also\",\",\",\"is\",\"with\",\",\"  …  \"level\",\"anaconda\",\"concerned\",\"treats\",\"heuvelmans\",\"third\",\"chiefly\",\"and\",\".\",\"but\"],NaN),(ASCIIString[\"some\",\"church\",\"leaders\",\",\",\"both\",\"clerical\",\"and\",\"lay\",\",\",\"have\"  …  \"the\",\"university\",\"for\",\"not\",\"taking\",\"the\",\"lead\",\"in\",\"desegregation\",\".\"],ASCIIString[\"have\",\"for\",\"church\",\"in\",\"not\",\"some\",\"university\",\"the\",\"leaders\",\"and\"  …  \"lay\",\"lead\",\"criticized\",\"desegregation\",\".\",\"clerical\",\",\",\"taking\",\"the\",\"both\"],NaN),(ASCIIString[\"recordings\",\";\",\";\"],ASCIIString[\";\",\"recordings\",\";\"],0.0),(ASCIIString[\"woven\",\"fabrics\",\"to\",\"be\",\"dried\",\"by\",\"procedure\",\"b\",\"(\",\"flat-bed\"  …  \"or\",\"restored\",\"by\",\"procedure\",\"3\",\"(\",\"hand\",\"ironing\",\")\",\":\"],ASCIIString[\")\",\"be\",\"or\",\"by\",\")\",\"procedure\",\"by\",\"hand\",\"(\",\"fabrics\"  …  \"dried\",\"flat-bed\",\"b\",\"pressed\",\"ironing\",\"restored\",\"woven\",\"to\",\"3\",\"(\"],NaN),(ASCIIString[\"the\",\"merchant\",\"marine\",\"is\",\"the\",\"``\",\"fourth\",\"arm\",\"of\",\"defense\"  …  \"essential\",\"to\",\"the\",\"economy\",\"and\",\"security\",\"of\",\"our\",\"nation\",\".\"],ASCIIString[\"the\",\"our\",\"for\",\"security\",\"is\",\"the\",\"of\",\"``\",\"marine\",\"american\"  …  \",\",\"arm\",\"marine\",\"essential\",\"of\",\"nation\",\".\",\"strong\",\"fourth\",\"''\"],NaN),(ASCIIString[\"an\",\"extension\",\"of\",\"2\",\"months\",\"beyond\",\"the\",\"regular\",\"due\",\"date\"  …  \"available\",\"to\",\"taxpayers\",\"making\",\"returns\",\"for\",\"a\",\"fiscal\",\"year\",\".\"],ASCIIString[\"for\",\"for\",\"this\",\"for\",\"year\",\"tax\",\"an\",\"months\",\"is\",\"to\"  …  \"advises\",\"dubbed\",\"lipowa\",\"made\",\".\",\"fiscal\",\"the\",\"date\",\"least\",\"2\"],NaN),(ASCIIString[\"(\",\"1\",\")\",\"''\"],ASCIIString('', (, 1, )),0.903078239051441),(ASCIIString[\"when\",\"we\",\"repeat\",\"the\",\"remark\",\"that\",\"such\",\"suffering\",\"was\",\"a\"  …  \"we\",\"did\",\"before\",\",\",\"we\",\"should\",\"certainly\",\"answer\",\"yes\",\".\"],ASCIIString[\"we\",\"we\",\"we\",\"we\",\"we\",\"we\",\"we\",\"we\",\"not\",\"not\"  …  \"blyth\",\"right\",\"foster\",\"telling\",\"modifications\",\"bas\",\"unquestionably\",\"but\",\"spread\",\"asked\"],NaN)],\"fold_4\"=>Any[(ASCIIString[\"banks\",\"the\",\"butcher\",\"took\",\"meltzer\",\"the\",\"scholar\",\"as\",\"an\",\"apprentice\"  …  \"the\",\"commentaries\",\"of\",\"the\",\"talmud\",\"in\",\"order\",\"to\",\"live\",\".\"],ASCIIString[\"we\",\"not\",\"it\",\"to\",\"an\",\"the\",\"more\",\"he\",\"the\",\"you\"  …  \"the\",\"zipped\",\"vivian\",\"there\",\"polyphosphate\",\"walton\",\"being\",\"typology\",\"should\",\"infrequent\"],NaN),(ASCIIString[\"or\",\"to\",\"let\",\"the\",\"ethical\",\"be\",\"superseded\",\"by\",\"the\",\"purposive\",\".\"],ASCIIString[\"be\",\"the\",\"to\",\"by\",\"or\",\"ethical\",\"the\",\"purposive\",\"superseded\",\"let\",\".\"],0.0),(ASCIIString[\"if\",\"this\",\"capacity\",\"had\",\"not\",\"failed\",\"them\",\",\",\"they\",\"would\",\"see\",\"that\",\"their\",\"enemy\",\"has\",\"made\",\"a\",\"disastrous\",\"miscalculation\",\".\"],ASCIIString[\"would\",\"have\",\"not\",\"that\",\"their\",\"a\",\"had\",\"this\",\"made\",\"enemy\",\"disastrous\",\"capacity\",\",\",\"see\",\"failed\",\"miscalculation\",\".\",\"them\",\"if\",\"but\"],NaN),(ASCIIString[\"the\",\"high\",\"court\",\"held\",\"that\",\"the\",\"company\",\"must\",\"apply\",\"its\"  …  \"ground\",\",\",\"not\",\"to\",\"the\",\"revenue\",\"from\",\"finished\",\"products\",\".\"],ASCIIString[\"its\",\"the\",\"to\",\"any\",\"the\",\"percent\",\"they\",\"the\",\"be\",\"the\"  …  \",\",\"raw\",\"allowing\",\"stickman\",\"industry\",\"apply\",\"removed\",\"revenue\",\"of\",\"mid-1958\"],NaN),(ASCIIString[\"even\",\"on\",\"his\",\"tough\",\"constitution\",\",\",\"the\",\"exposure\",\"and\",\"strenuous\",\"activity\",\"were\",\"beginning\",\"to\",\"tell\",\"in\",\"earnest\",\".\"],ASCIIString[\"to\",\"on\",\"tough\",\"activity\",\"constitution\",\"and\",\"earnest\",\"exposure\",\"strenuous\",\"the\",\",\",\"in\",\".\",\"beginning\",\"tell\",\"were\",\"his\",\"even\"],0.0),(ASCIIString[\"the\",\"orator\",\"of\",\"this\",\"period\",\",\",\"in\",\"order\",\"to\",\"earn\"  …  \"it\",\"would\",\"have\",\"on\",\"the\",\"audience\",\"that\",\"heard\",\"it\",\".\"],ASCIIString[\"not\",\"it\",\"to\",\"it\",\"their\",\"this\",\"he\",\"its\",\"to\",\"the\"  …  \"could\",\"should\",\"description\",\"40\",\"as\",\"presumably\",\"bevy\",\"thrives\",\"300\",\"deciding\"],NaN),(ASCIIString[\"she\",\"learns\",\"how\",\"to\",\"relax\",\"them\",\"to\",\"accept\",\"--\",\"instead\",\"of\",\"contracting\",\"them\",\"to\",\"repel\",\"--\",\"the\",\"entering\",\"object\",\".\"],ASCIIString[\"to\",\"them\",\"to\",\"--\",\"them\",\"how\",\"she\",\"to\",\"of\",\"--\",\"entering\",\"object\",\"relax\",\"contracting\",\"the\",\"repel\",\"instead\",\"learns\",\".\",\"accept\"],NaN),(ASCIIString[\"adam\",\"watched\",\"his\",\"own\",\"hands\",\"make\",\"the\",\"caressing\",\",\",\"anxious\"  …  \"has\",\"been\",\"the\",\"ritual\",\"of\",\"stall\",\"vendors\",\",\",\"forever\",\".\"],ASCIIString[\"we\",\"their\",\"it\",\"his\",\"you\",\"the\",\"because\",\"her\",\"people\",\"which\"  …  \"chabrier\",\"the\",\"hector\",\"plainly\",\"breaker\",\".\",\"conjunction\",\"everything\",\"hinted\",\"velvety\"],NaN),(ASCIIString[\"the\",\"part\",\"of\",\"the\",\"mind\",\"that\",\"preserves\",\"dates\",\"and\",\"events\"  …  \"like\",\"that\",\"for\",\"only\",\"a\",\"little\",\"while\",\"''\",\";\",\";\"],ASCIIString[\"not\",\"it\",\"that\",\"it\",\"have\",\"for\",\"that\",\"the\",\"more\",\"of\"  …  \"remonstrate\",\"formerly\",\"exacerbated\",\"may\",\"while\",\"mind\",\"including\",\"could\",\"sighed\",\"''\"],NaN),(ASCIIString[\"we\",\"did\",\"that\",\".\"],ASCIIString(we, did, that, .),0.7797236511935253)  …  (ASCIIString[\"the\",\"entrance\",\"to\",\"a\",\"church\",\"has\",\"been\",\"walled\",\"up\",\",\"  …  \"the\",\"western\",\"sector\",\",\",\"cannot\",\"worship\",\"god\",\"there\",\"anymore\",\".\"],ASCIIString[\"it\",\"not\",\"this\",\"church\",\"the\",\"it\",\"have\",\"the\",\"people\",\"a\"  …  \"worship\",\"despite\",\"walled\",\"assistant\",\"needed\",\"decade\",\"16.38\",\",\",\"hinted\",\"purveyor\"],NaN),(ASCIIString[\"there\",\"seems\",\"to\",\"be\",\"almost\",\"a\",\"conspiracy\",\"of\",\"silence\",\"veiling\",\"it\",\".\"],ASCIIString[\"it\",\"there\",\"of\",\"silence\",\"a\",\"conspiracy\",\"almost\",\"to\",\"veiling\",\"seems\",\".\",\"be\"],0.0),(ASCIIString[\"ruger\",\"reports\",\"that\",\"on\",\"his\",\"recent\",\"african\",\"safari\",\"the\",\"little\",\"magnum\",\"cartridge\",\"was\",\"a\",\"real\",\"work\",\"horse\",\".\"],ASCIIString[\"his\",\"a\",\"that\",\"on\",\"little\",\"was\",\"african\",\"cartridge\",\"recent\",\"horse\",\"magnum\",\"real\",\"reports\",\"safari\",\"work\",\"ruger\",\"the\",\".\"],0.0),(ASCIIString[\"--\",\"fetch\",\"me\",\"the\",\"copies\",\"of\",\"everything\",\"b\",\"and\",\"c\",\"companies\",\"have\",\"requisitioned\",\"in\",\"the\",\"last\",\"six\",\"months\",\".\"],ASCIIString[\"have\",\"the\",\"b\",\"months\",\"--\",\"in\",\"copies\",\"the\",\"c\",\"and\",\"fetch\",\"requisitioned\",\"me\",\".\",\"last\",\"six\",\"everything\",\"of\",\"companies\"],NaN),(ASCIIString[\"another\",\"problem\",\"in\",\"the\",\"area\",\"of\",\"federal-state\",\"relationships\",\"is\",\"this\"  …  \"what\",\"constitutes\",\"reversible\",\"error\",\"in\",\"a\",\"state\",\"decision\",\"?\",\"?\"],ASCIIString[\"this\",\"a\",\"what\",\"is\",\"state\",\"problem\",\"of\",\"in\",\"error\",\"?\"  …  \"constitutes\",\"relationships\",\":\",\"reversible\",\"area\",\"federal-state\",\"in\",\"decision\",\"another\",\"?\"],NaN),(ASCIIString[\"indeed\",\",\",\"with\",\"developed\",\"positivism\",\",\",\"the\",\"separation\",\"of\",\"law\"  …  \",\",\"or\",\"from\",\"morality\",\"generally\",\",\",\"became\",\"quite\",\"specific\",\".\"],ASCIIString[\"from\",\",\",\"law\",\".\",\",\",\"developed\",\"of\",\",\",\"morality\",\"from\"  …  \".\",\",\",\"the\",\"separation\",\"or\",\"acquainted\",\"specific\",\"despite\",\"quite\",\"known\"],NaN),(ASCIIString[\"as\",\"the\",\"temperature\",\"decreased\",\",\",\"the\",\"number\",\"of\",\"free\",\"swimming\",\"ciliated\",\"protozoa\",\"decreased\",\".\"],ASCIIString[\"the\",\"number\",\"the\",\"free\",\"temperature\",\".\",\"decreased\",\"ciliated\",\"as\",\"protozoa\",\"swimming\",\",\",\"of\",\"decreased\"],0.0),(ASCIIString[\"rather\",\"what\",\"kornbluth\",\"and\",\"pohl\",\"are\",\"really\",\"doing\",\"is\",\"warning\"  …  \"``\",\"a\",\"science\",\"of\",\"man\",\"and\",\"his\",\"motives\",\"''\",\".\"],ASCIIString[\"``\",\"what\",\"his\",\"are\",\"of\",\"against\",\"science\",\"is\",\"man\",\"and\"  …  \"and\",\"the\",\"really\",\"inherent\",\".\",\"motives\",\"warning\",\"doing\",\"a\",\"''\"],NaN),(ASCIIString[\"the\",\"chances\",\"were\",\"against\",\"his\",\"being\",\"here\",\"to\",\"humor\",\"her\",\"when\",\"her\",\"time\",\"came\",\",\",\"she\",\"was\",\"sure\",\".\"],ASCIIString[\"her\",\"her\",\"he\",\"were\",\"against\",\"time\",\"her\",\"the\",\"was\",\"here\",\"chances\",\"humor\",\",\",\"came\",\".\",\"sure\",\"when\",\"to\",\"being\"],NaN),(ASCIIString[\"the\",\"sand\",\"is\",\"fine\",\"and\",\"pleasant\",\",\",\"the\",\"cabanas\",\"are\"  …  \"raspberry\",\",\",\"and\",\"butter\",\"yellow\",\",\",\"are\",\"very\",\"gay\",\".\"],ASCIIString[\"are\",\"you\",\"are\",\"and\",\"it\",\"water\",\"and\",\"red\",\",\",\"and\"  …  \"parasols\",\"the\",\"hewett\",\"emmanuel\",\"utilizes\",\"absent\",\"extremely\",\"jewel\",\"thursday\",\"348\"],NaN)])"
      ]
     },
     "execution_count": 5,
     "metadata": {},
     "output_type": "execute_result"
    }
   ],
   "source": [
    "#folds50 = load(\"results/ordered/brown_glove50_ordered.jld\")\n",
    "#folds100 = load(\"results/ordered/brown_glove100_ordered.jld\")\n",
    "#folds200 = load(\"results/ordered/brown_glove200_ordered.jld\")\n",
    "folds300 = load(\"results/ordered/brown_glove300_orderedv2.jld\")\n",
    "#folds_oracle = load(\"results/ordered/oracle_ordered.jld\")\n",
    "all_ordered_exp_folds = Any[folds300]#[folds50,folds100,folds200,folds300,folds_oracle]"
   ]
  },
  {
   "cell_type": "code",
   "execution_count": 8,
   "metadata": {
    "collapsed": false
   },
   "outputs": [
    {
     "data": {
      "text/plain": [
       "get_bleu_score (generic function with 1 method)"
      ]
     },
     "execution_count": 8,
     "metadata": {},
     "output_type": "execute_result"
    }
   ],
   "source": [
    "function get_bleu_score(folds; count_give_ups=true, count_nonattepts=false)\n",
    "    bleu_scores = map(keys(folds), values(folds)) do fold_name,res\n",
    "        fold_bleu_scores = Float64[]\n",
    "        for (reference, candidate, prob) in res\n",
    "            if ((!count_nonattepts && isnan(prob))  \n",
    "                || (!count_give_ups && prob==0.0))\n",
    "                continue\n",
    "            end\n",
    "            push!(fold_bleu_scores, bleu_score(candidate, reference))\n",
    "        end\n",
    "        fold_bleu_scores\n",
    "    end\n",
    "end"
   ]
  },
  {
   "cell_type": "code",
   "execution_count": 9,
   "metadata": {
    "collapsed": false
   },
   "outputs": [
    {
     "name": "stdout",
     "output_type": "stream",
     "text": [
      "fold_6\n",
      "fold_5\n",
      "fold_2\n"
     ]
    },
    {
     "ename": "LoadError",
     "evalue": "LoadError: MethodError: `start` has no method matching start(::ProcessExitedException)\nwhile loading In[9], in expression starting on line 1",
     "output_type": "error",
     "traceback": [
      "LoadError: MethodError: `start` has no method matching start(::ProcessExitedException)\nwhile loading In[9], in expression starting on line 1",
      "",
      " in anonymous at In[8]:5",
      " in map at abstractarray.jl:1177",
      " in get_bleu_score at In[8]:2",
      " in anonymous at In[9]:2",
      " [inlined code] from ./range.jl:83",
      " in map at ./essentials.jl:157",
      " [inlined code] from essentials.jl:114"
     ]
    }
   ],
   "source": [
    "bleu_scores = map(all_ordered_exp_folds) do folds\n",
    "    bleu_scores = get_bleu_score(folds);\n",
    "    map(mean, bleu_scores) |> mean\n",
    "end\n"
   ]
  },
  {
   "cell_type": "code",
   "execution_count": null,
   "metadata": {
    "collapsed": false
   },
   "outputs": [],
   "source": [
    "bleu_scores_no_giveup = map(all_ordered_exp_folds) do folds\n",
    "    bleu_scores = get_bleu_score(folds, count_give_ups=false);\n",
    "    map(mean, bleu_scores) |> mean\n",
    "end\n"
   ]
  },
  {
   "cell_type": "code",
   "execution_count": null,
   "metadata": {
    "collapsed": false
   },
   "outputs": [],
   "source": [
    "attempted_only(fold) = filter(eap->!isnan(eap[3]), fold)\n",
    "nongiveup_only(fold) = filter(eap->eap[3]>0, fold)"
   ]
  },
  {
   "cell_type": "code",
   "execution_count": null,
   "metadata": {
    "collapsed": false
   },
   "outputs": [],
   "source": [
    "giveups = map(all_ordered_exp_folds) do folds\n",
    "    mean([mean(Bool[eap[3]==0.0 for eap in attempted_only(fold)]) for fold in values(folds)])\n",
    "end"
   ]
  },
  {
   "cell_type": "code",
   "execution_count": null,
   "metadata": {
    "collapsed": false
   },
   "outputs": [],
   "source": [
    "exact_matchs = map(all_ordered_exp_folds) do folds\n",
    "    mean([mean(Bool[eap[1]==eap[2] for eap in attempted_only(fold)]) for fold in values(folds)])\n",
    "end"
   ]
  },
  {
   "cell_type": "code",
   "execution_count": null,
   "metadata": {
    "collapsed": false
   },
   "outputs": [],
   "source": [
    "exact_matchs_no_giveup = map(all_ordered_exp_folds) do folds\n",
    "    mean([mean(Bool[eap[1]==eap[2] for eap in nongiveup_only(attempted_only(fold))]) for fold in values(folds)])\n",
    "end"
   ]
  },
  {
   "cell_type": "code",
   "execution_count": null,
   "metadata": {
    "collapsed": false
   },
   "outputs": [],
   "source": [
    "ordering_res = DataFrame(Model=[exp_names..., \"Oracle BOW\"])\n",
    "ordering_res[symbol(\"BLEU Score\")]=bleu_scores\n",
    "ordering_res[symbol(\"Exact Ordered Matches\")]=exact_matchs\n",
    "ordering_res[symbol(\"Giveups\")]=giveups\n",
    "ordering_res[symbol(\"BLEU Score Excluding Giveups\")]=bleu_scores_no_giveup\n",
    "ordering_res[symbol(\"Exact Ordered Matches Excluding Giveups\")]=exact_matchs_no_giveup\n",
    "writetable(OUTPUT_DIR*\"ordering_scores.csv\", ordering_res)\n",
    "ordering_res"
   ]
  },
  {
   "cell_type": "code",
   "execution_count": null,
   "metadata": {
    "collapsed": true
   },
   "outputs": [],
   "source": []
  },
  {
   "cell_type": "code",
   "execution_count": null,
   "metadata": {
    "collapsed": true
   },
   "outputs": [],
   "source": []
  },
  {
   "cell_type": "code",
   "execution_count": null,
   "metadata": {
    "collapsed": true
   },
   "outputs": [],
   "source": [
    "########"
   ]
  },
  {
   "cell_type": "code",
   "execution_count": null,
   "metadata": {
    "collapsed": false
   },
   "outputs": [],
   "source": [
    "fold_indexes=load(\"brown_glove_folds.jld\",\"fold_indexes\");"
   ]
  },
  {
   "cell_type": "code",
   "execution_count": null,
   "metadata": {
    "collapsed": false
   },
   "outputs": [],
   "source": [
    "function fold(data, fold_indexes)\n",
    "    ret = Dict()\n",
    "    for (fold_number,fold_iis) in enumerate(fold_indexes)\n",
    "        ret[\"fold_$(fold_number)\"] = data[fold_iis]\n",
    "    end\n",
    "    ret\n",
    "end"
   ]
  },
  {
   "cell_type": "code",
   "execution_count": null,
   "metadata": {
    "collapsed": true
   },
   "outputs": [],
   "source": []
  },
  {
   "cell_type": "code",
   "execution_count": null,
   "metadata": {
    "collapsed": false
   },
   "outputs": [],
   "source": [
    "jaccard_folds_300 = fold(bag_res[:glove300_jaccard], fold_indexes)"
   ]
  },
  {
   "cell_type": "code",
   "execution_count": null,
   "metadata": {
    "collapsed": false
   },
   "outputs": [],
   "source": [
    "[jaccard_folds_300[\"fold_6\"] bleu_scores300[1]]"
   ]
  },
  {
   "cell_type": "code",
   "execution_count": null,
   "metadata": {
    "collapsed": false
   },
   "outputs": [],
   "source": [
    "get_bleu_score(folds300,  count_give_ups=true, count_nonattepts=true);"
   ]
  },
  {
   "cell_type": "code",
   "execution_count": null,
   "metadata": {
    "collapsed": true
   },
   "outputs": [],
   "source": []
  }
 ],
 "metadata": {
  "kernelspec": {
   "display_name": "Julia 0.5.0-dev",
   "language": "julia",
   "name": "julia-0.5"
  },
  "language_info": {
   "file_extension": ".jl",
   "mimetype": "application/julia",
   "name": "julia",
   "version": "0.5.0"
  }
 },
 "nbformat": 4,
 "nbformat_minor": 0
}
