{
 "cells": [
  {
   "cell_type": "code",
   "execution_count": 1,
   "metadata": {
    "collapsed": false
   },
   "outputs": [
    {
     "data": {
      "text/plain": [
       "2"
      ]
     },
     "execution_count": 1,
     "metadata": {},
     "output_type": "execute_result"
    },
    {
     "data": {
      "text/plain": [
       "2"
      ]
     },
     "execution_count": 1,
     "metadata": {},
     "output_type": "execute_result"
    }
   ],
   "source": [
    "1+1"
   ]
  },
  {
   "cell_type": "code",
   "execution_count": 2,
   "metadata": {
    "collapsed": false
   },
   "outputs": [
    {
     "name": "stderr",
     "output_type": "stream",
     "text": [
      "WARNING: module DataStructuresExtended should explicitly import == from Base\n",
      "WARNING: module DataStructuresExtended should explicitly import == from Base\n"
     ]
    }
   ],
   "source": [
    "using FunctionalCollections\n",
    "using Iterators\n",
    "using Pipe\n",
    "using Compat\n",
    "\n",
    "macro printval(ee)\n",
    "    ee_expr = @sprintf \"%s\" string(ee)\n",
    "    esc(:(println($ee_expr,\" = \", $ee)))\n",
    "end\n",
    "\n",
    "macro pz(ee)\n",
    "    ee_expr = @sprintf \"%s\" string(ee)\n",
    "    esc(:(println($ee_expr,\"\\t\\t\",typeof($ee), \"\\t\", size($ee))))\n",
    "end\n",
    "\n",
    "push!(LOAD_PATH, \".\")\n",
    "push!(LOAD_PATH, \"../util/\")\n",
    "using DataStructures\n",
    "using DataStructuresExtended\n",
    "using JLD\n",
    "using DataFrames"
   ]
  },
  {
   "cell_type": "code",
   "execution_count": 3,
   "metadata": {
    "collapsed": false
   },
   "outputs": [
    {
     "data": {
      "text/plain": [
       "\"../../documents_prepared/Journal Papers/SumResynthesis/data/\""
      ]
     },
     "execution_count": 3,
     "metadata": {},
     "output_type": "execute_result"
    },
    {
     "data": {
      "text/plain": [
       "\"../../documents_prepared/Journal Papers/SumResynthesis/data/\""
      ]
     },
     "execution_count": 3,
     "metadata": {},
     "output_type": "execute_result"
    }
   ],
   "source": [
    "OUTPUT_DIR = \"../../documents_prepared/Journal\\ Papers/SumResynthesis/data/\""
   ]
  },
  {
   "cell_type": "code",
   "execution_count": 4,
   "metadata": {
    "collapsed": true
   },
   "outputs": [],
   "source": [
    "`git add ../../documents_prepared/Journal\\ Papers/SumResynthesis/data/ordering_scores.csv` |> run"
   ]
  },
  {
   "cell_type": "code",
   "execution_count": null,
   "metadata": {
    "collapsed": false
   },
   "outputs": [],
   "source": [
    "`git push` |> run"
   ]
  },
  {
   "cell_type": "code",
   "execution_count": null,
   "metadata": {
    "collapsed": false
   },
   "outputs": [],
   "source": [
    "function jaccard_index(aa::DataStructures.Accumulator,bb::DataStructures.Accumulator)\n",
    "    sum(intersect(aa,bb))/sum(union(aa,bb))\n",
    "end\n",
    "\n",
    "function jaccard_index(aa,bb)\n",
    "    length(intersect(aa,bb))/length(union(aa,bb))\n",
    "end"
   ]
  },
  {
   "cell_type": "code",
   "execution_count": null,
   "metadata": {
    "collapsed": false,
    "scrolled": true
   },
   "outputs": [],
   "source": [
    "\n",
    "\n",
    "brown_glove300_raw = load(\"results/bags/brown_glove300_res.jld\", \"res\")\n",
    "brown_glove200_raw = load(\"results/bags/brown_glove200_res.jld\", \"res\")\n",
    "brown_glove100_raw = load(\"results/bags/brown_glove100_res.jld\", \"res\")\n",
    "brown_glove50_raw = load(\"results/bags/brown_glove50_res.jld\", \"res\")"
   ]
  },
  {
   "cell_type": "code",
   "execution_count": null,
   "metadata": {
    "collapsed": false
   },
   "outputs": [],
   "source": [
    "@assert all([rset[1] for rset in brown_glove50_raw] .== [rset[1] for rset in brown_glove300_raw])\n",
    "@assert all([rset[1] for rset in brown_glove50_raw] .== [rset[1] for rset in brown_glove200_raw])\n",
    "@assert all([rset[1] for rset in brown_glove50_raw] .== [rset[1] for rset in brown_glove100_raw])"
   ]
  },
  {
   "cell_type": "code",
   "execution_count": null,
   "metadata": {
    "collapsed": false
   },
   "outputs": [],
   "source": []
  },
  {
   "cell_type": "code",
   "execution_count": null,
   "metadata": {
    "collapsed": false,
    "scrolled": true
   },
   "outputs": [],
   "source": [
    "bag_res = DataFrame()\n",
    "bag_res[:ground] = [counter(rset[1]) for rset in brown_glove50_raw]\n",
    "bag_res[:ground_len] = Int[sum(ss) for ss in bag_res[:ground]]\n",
    "exp_names = ASCIIString[]\n",
    "for raw_name in [\"brown_glove50_raw\",\"brown_glove100_raw\", \"brown_glove200_raw\", \"brown_glove300_raw\"]\n",
    "    colname = split(raw_name,\"_\")[2] \n",
    "    push!(exp_names, colname)\n",
    "    raw = eval(raw_name|>Symbol)\n",
    "    bag_res[colname*\"_actual\"|> Symbol] = [counter(rset[2]) for rset in raw]\n",
    "    #bag_res[colname*\"_distance\"|> Symbol] = Float64[-1*rset[3] for rset in raw]\n",
    "end\n",
    "\n",
    "bag_res"
   ]
  },
  {
   "cell_type": "code",
   "execution_count": null,
   "metadata": {
    "collapsed": false,
    "scrolled": true
   },
   "outputs": [],
   "source": [
    "for exp_name in exp_names\n",
    "    actual = bag_res[exp_name*\"_actual\" |> symbol]\n",
    "    bag_res[exp_name*\"_perfect\" |> symbol] = actual.==bag_res[:ground]\n",
    "    bag_res[exp_name*\"_jaccard\" |> symbol] = map(jaccard_index, actual, bag_res[:ground])\n",
    "end"
   ]
  },
  {
   "cell_type": "code",
   "execution_count": null,
   "metadata": {
    "collapsed": false
   },
   "outputs": [],
   "source": []
  },
  {
   "cell_type": "code",
   "execution_count": null,
   "metadata": {
    "collapsed": true
   },
   "outputs": [],
   "source": [
    "\n",
    "jaccard_cols = Symbol[exp_name*\"_jaccard\" |> symbol for exp_name in exp_names]\n",
    "perfect_cols = Symbol[exp_name*\"_perfect\" |> symbol for exp_name in exp_names]\n",
    "len_scores = aggregate(bag_res[[:ground_len, jaccard_cols...,perfect_cols...]], :ground_len, mean)\n",
    "sort!(len_scores)\n",
    "writetable(OUTPUT_DIR*\"selection_len_scores.csv\", len_scores)\n",
    "len_scores"
   ]
  },
  {
   "cell_type": "code",
   "execution_count": null,
   "metadata": {
    "collapsed": false
   },
   "outputs": [],
   "source": []
  },
  {
   "cell_type": "code",
   "execution_count": null,
   "metadata": {
    "collapsed": false,
    "scrolled": true
   },
   "outputs": [],
   "source": [
    "cum_len_scores = DataFrame()\n",
    "cum_len_scores[:max_ground_len] = bag_res[:ground_len] |> unique |> sort!\n",
    "for jaccard_col in jaccard_cols\n",
    "    cum_len_scores[jaccard_col] = Float64[ begin\n",
    "            shortish_sents = bag_res[:ground_len] .<= max_len;\n",
    "            bag_res[shortish_sents, jaccard_col] |> mean\n",
    "         end for max_len in cum_len_scores[:max_ground_len]]\n",
    "end\n",
    "for perfect_col in perfect_cols\n",
    "    cum_len_scores[perfect_col] = Float64[ begin\n",
    "            shortish_sents = bag_res[:ground_len] .<= max_len;\n",
    "            bag_res[shortish_sents, perfect_col] |> mean\n",
    "         end for max_len in cum_len_scores[:max_ground_len]]\n",
    "end\n",
    "writetable(OUTPUT_DIR*\"selection_cum_len_scores.csv\", cum_len_scores)\n",
    "cum_len_scores \n"
   ]
  },
  {
   "cell_type": "code",
   "execution_count": null,
   "metadata": {
    "collapsed": false
   },
   "outputs": [],
   "source": []
  },
  {
   "cell_type": "code",
   "execution_count": null,
   "metadata": {
    "collapsed": false
   },
   "outputs": [],
   "source": [
    "function longform(df::DataFrame, index::Symbol, cols::Vector{Symbol}, new_name::Symbol)\n",
    "    function subdf(col::Symbol)\n",
    "        df_sub = df[[index, col]]\n",
    "        rename!(df_sub, col, new_name)\n",
    "        df_sub[:label] = col\n",
    "        df_sub\n",
    "    end\n",
    "    vcat([subdf(col) for col in cols]...)\n",
    "end\n",
    "\n",
    "\n"
   ]
  },
  {
   "cell_type": "code",
   "execution_count": null,
   "metadata": {
    "collapsed": false
   },
   "outputs": [],
   "source": [
    "using Gadfly"
   ]
  },
  {
   "cell_type": "code",
   "execution_count": null,
   "metadata": {
    "collapsed": false
   },
   "outputs": [],
   "source": [
    "p=Gadfly.plot(longform(cum_len_scores, :max_ground_len, jaccard_cols, :mean_jaccard_index),\n",
    "    x=\"max_ground_len\", y=\"mean_jaccard_index\",\n",
    "    color=\"label\",\n",
    "    Geom.point\n",
    ")\n",
    "#draw(PNG(\"brown_cumulative_length_score.png\", 24cm, 6cm), p)"
   ]
  },
  {
   "cell_type": "code",
   "execution_count": null,
   "metadata": {
    "collapsed": false
   },
   "outputs": [],
   "source": [
    "\n",
    "p=Gadfly.plot(longform(len_scores, :ground_len, [string(col)*\"_mean\"|> Symbol for col in jaccard_cols], :mean_jaccard_index),\n",
    "    x=\"ground_len\", y=\"mean_jaccard_index\",\n",
    "    color=\"label\",\n",
    "    Geom.point\n",
    ")\n",
    "#draw(PNG(\"brown_length_score.png\", 24cm, 6cm), p)\n"
   ]
  },
  {
   "cell_type": "code",
   "execution_count": null,
   "metadata": {
    "collapsed": false
   },
   "outputs": [],
   "source": [
    "bag_res[:ground_len] |> describe \n",
    "p=Gadfly.plot(bag_res, x=\"ground_len\",  Geom.histogram)\n",
    "#draw(PNG(\"brown_length_dist.png\", 24cm, 6cm), p)"
   ]
  },
  {
   "cell_type": "code",
   "execution_count": null,
   "metadata": {
    "collapsed": false
   },
   "outputs": [],
   "source": [
    "##############################################\n",
    "# ORDERED\n",
    "########################################"
   ]
  },
  {
   "cell_type": "code",
   "execution_count": 5,
   "metadata": {
    "collapsed": false
   },
   "outputs": [
    {
     "name": "stderr",
     "output_type": "stream",
     "text": [
      "/usr/local/lib/python2.7/dist-packages/nltk/app/__init__.py:29: UserWarning: nltk.app package not loaded (please install Tkinter library).\n",
      "  warnings.warn(\"nltk.app package not loaded \"\n",
      "/usr/local/lib/python2.7/dist-packages/nltk/draw/__init__.py:15: UserWarning: nltk.draw package not loaded (please install Tkinter library).\n",
      "  warnings.warn(\"nltk.draw package not loaded \"\n",
      "/usr/local/lib/python2.7/dist-packages/nltk/app/__init__.py:29: UserWarning: nltk.app package not loaded (please install Tkinter library).\n",
      "  warnings.warn(\"nltk.app package not loaded \"\n",
      "/usr/local/lib/python2.7/dist-packages/nltk/draw/__init__.py:15: UserWarning: nltk.draw package not loaded (please install Tkinter library).\n",
      "  warnings.warn(\"nltk.draw package not loaded \"\n"
     ]
    },
    {
     "data": {
      "text/plain": [
       "bleu_score (generic function with 1 method)"
      ]
     },
     "execution_count": 5,
     "metadata": {},
     "output_type": "execute_result"
    },
    {
     "data": {
      "text/plain": [
       "bleu_score (generic function with 1 method)"
      ]
     },
     "execution_count": 5,
     "metadata": {},
     "output_type": "execute_result"
    }
   ],
   "source": [
    "using PyCall\n",
    "@pyimport nltk\n",
    "@pyimport nltk.align.bleu_score as nltk_bleu\n",
    "\n",
    "function bleu_score(candidate, reference)\n",
    "    reference = reference |> collect\n",
    "    candidate = candidate |> collect\n",
    "    \n",
    "    if reference==candidate #Perfect Match\n",
    "        1.0\n",
    "    else\n",
    "        weights = [1,1,1,1]/4\n",
    "        nltk_bleu.bleu(candidate,Any[reference], weights)\n",
    "    end\n",
    "end"
   ]
  },
  {
   "cell_type": "code",
   "execution_count": 6,
   "metadata": {
    "collapsed": false
   },
   "outputs": [
    {
     "data": {
      "text/plain": [
       "0.30576902884505114"
      ]
     },
     "execution_count": 6,
     "metadata": {},
     "output_type": "execute_result"
    },
    {
     "data": {
      "text/plain": [
       "0.30576902884505114"
      ]
     },
     "execution_count": 6,
     "metadata": {},
     "output_type": "execute_result"
    }
   ],
   "source": [
    "bleu_score([\"the\",\"comedy\",\"of\",\"manners\",\"of\",\"this\",\"first\",\"a\",\"basis\",\"is\",\"performed\",\"in\",\"1892\",\".\"],\n",
    "           [\"this\",\"is\",\"the\" ,\"basis\",\"of\",\"a\" ,\"comedy\" ,\"of\",\"manners\",\"first\",\"performed\",\"in\",\"1892\", \".\"]\n",
    ")"
   ]
  },
  {
   "cell_type": "code",
   "execution_count": 19,
   "metadata": {
    "collapsed": false,
    "scrolled": true
   },
   "outputs": [
    {
     "data": {
      "text/plain": [
       "1-element Array{Any,1}:\n",
       " Dict{ByteString,Any}(\"fold_6\"=>Any[(ASCIIString[\"the\",\"songs\",\"sandburg\",\"sang\",\"often\",\"reminded\",\"listeners\",\"of\",\"songs\",\"of\",\"a\",\"kindred\",\"character\",\"they\",\"knew\",\"entirely\",\"or\",\"in\",\"fragments\",\".\"],ASCIIString[\"entirely\",\"songs\",\"the\",\"fragments\",\"reminded\",\"often\",\"kindred\",\"knew\",\"sandburg\",\"a\",\"listeners\",\"of\",\".\",\"or\",\"character\",\"sang\",\"they\",\"in\",\"of\",\"songs\"],NaN),(ASCIIString[\"it\",\"will\",\"help\",\"to\",\"determine\",\"the\",\"attitude\",\"of\",\"the\",\"new\",\"members\",\"toward\",\"the\",\"church\",\".\"],Any[\"determine\",\"the\",\"new\",\"members\",\"of\",\"the\",\"church\",\"will\",\"help\",\"to\",\"the\",\"attitude\",\"toward\",\"it\",\".\"],3.9715980931448507e-26),(ASCIIString[\"(\",\"check\",\"on\",\"the\",\"payne\",\"luggage\",\".\"],ASCIIString[\"check\",\"the\",\"(\",\"on\",\".\",\"payne\",\"luggage\"],5.0),(ASCIIString[\"when\",\"it\",\"was\",\"over\",\",\",\"eight\",\"of\",\"his\",\"company\",\"were\",\"still\",\"alive\",\"and\",\"all\",\"eight\",\"were\",\"wounded\",\".\"],Any[\"eight\",\"was\",\"still\",\"alive\",\",\",\"and\",\"when\",\"it\",\"over\",\"all\",\"were\",\"his\",\"company\",\"were\",\"eight\",\"of\",\"wounded\",\".\"],5.650501250320116e-43),(ASCIIString[\"philadelphia\",\"permitted\",\"him\",\"to\",\"seek\",\"a\",\"better\",\"connection\",\"after\",\"he\"  …  \"his\",\"decision\",\"to\",\"end\",\"his\",\"career\",\"as\",\"a\",\"player\",\".\"],ASCIIString[\"connection\",\"end\",\"philadelphia\",\"a\",\"to\",\"better\",\"as\",\"career\",\"him\",\"his\"  …  \"he\",\"decision\",\"seek\",\"after\",\"to\",\"player\",\"his\",\".\",\"a\",\"had\"],NaN),(ASCIIString[\"one\",\"does\",\"not\",\"have\",\"to\",\"look\",\"for\",\"distress\",\".\"],ASCIIString[\"have\",\"for\",\"one\",\"look\",\"to\",\"not\",\".\",\"distress\",\"does\"],7.0),(ASCIIString[\"``\",\"song\",\"of\",\"hiawatha\",\"''\",\",\",\"in\",\"elgin\",\",\",\"illinois\",\",\",\"from\",\"june\",\"20\",\"to\",\"24th\",\".\"],ASCIIString[\"from\",\",\",\"illinois\",\"''\",\"in\",\",\",\"to\",\"``\",\"june\",\"20\",\"of\",\"song\",\",\",\"24th\",\".\",\"elgin\",\"hiawatha\"],15.0),(ASCIIString[\"the\",\"housekeeping\",\"problems\",\"of\",\"living\",\"in\",\"a\",\"shelter\",\"will\",\"begin\",\"as\",\"soon\",\"as\",\"the\",\"shelter\",\"is\",\"occupied\",\".\"],Any[\"problems\",\"of\",\"shelter\",\"will\",\"begin\",\"in\",\"the\",\"shelter\",\"as\",\"a\",\"living\",\"as\",\"soon\",\"the\",\"housekeeping\",\"is\",\"occupied\",\".\"],1.2562072848012931e-43),(ASCIIString[\"his\",\"bogey\",\"4\",\"on\",\"this\",\"hole\",\"and\",\"subsequent\",\"bogeys\",\"at\"  …  \"birdie\",\"at\",\"8\",\"brought\",\"him\",\"back\",\"to\",\"even\",\"par\",\".\"],ASCIIString[\"his\",\"even\",\"8\",\"par\",\"bogey\",\"a\",\"with\",\"on\",\"at\",\"and\"  …  \"at\",\"back\",\"brought\",\"him\",\"hole\",\"bogeys\",\"to\",\"subsequent\",\"and\",\"along\"],NaN),(ASCIIString[\"the\",\"child\",\"in\",\"the\",\"primary\",\"grades\",\"can\",\"play\",\"harmoniously\",\"with\"  …  \"him\",\"into\",\"trouble\",\"when\",\"the\",\"group\",\"gets\",\"larger\",\";\",\";\"],ASCIIString[\"the\",\"can\",\"into\",\"the\",\"primary\",\"be\",\"but\",\"his\",\"grades\",\"larger\"  …  \"him\",\"child\",\";\",\"when\",\"in\",\";\",\"trouble\",\"desire\",\",\",\"the\"],NaN)  …  (ASCIIString[\"has\",\"the\",\"probable\",\"price\",\"situation\",\"in\",\"your\",\"field\",\"been\",\"forecast\",\"as\",\"a\",\"basis\",\"for\",\"future\",\"planning\",\"?\",\"?\"],ASCIIString[\"field\",\"in\",\"price\",\"for\",\"your\",\"future\",\"the\",\"situation\",\"been\",\"a\",\"planning\",\"as\",\"has\",\"?\",\"?\",\"basis\",\"probable\",\"forecast\"],15.0),(ASCIIString[\"i\",\"asked\",\".\"],Any[\"i\",\"asked\",\".\"],0.00024206800803654592),(ASCIIString[\"those\",\"who\",\"have\",\"never\",\"traveled\",\"the\",\"width\",\"and\",\"length\",\"of\"  …  \"variety\",\"of\",\"this\",\"country\",\"held\",\"together\",\"under\",\"one\",\"government\",\".\"],ASCIIString[\"country\",\"this\",\"the\",\"of\",\"of\",\"held\",\"the\",\"one\",\"description\",\"textbook\"  …  \"length\",\"land\",\"overwhelming\",\"space\",\"of\",\"and\",\"the\",\"basis\",\"traveled\",\"on\"],NaN),(ASCIIString[\"other\",\"winners\"],ASCIIString[\"other\",\"winners\"],1.0),(ASCIIString[\"nixon\",\"fulfilled\",\"his\",\"assignment\",\"with\",\"grace\",\",\",\"then\",\"went\",\"beyond\",\"the\",\"required\",\"``\",\"sufficient\",\"declaration\",\"''\",\".\"],ASCIIString[\"required\",\"the\",\"declaration\",\",\",\"then\",\"went\",\"with\",\"sufficient\",\"beyond\",\"his\",\"assignment\",\"''\",\"``\",\"grace\",\".\",\"fulfilled\",\"nixon\"],15.0),(ASCIIString[\"this\",\"circular\",\"edifice\",\",\",\"constructed\",\"by\",\"agrippa\",\"in\",\"b.c.\",\"27\"  …  \"rebuilt\",\"in\",\"its\",\"present\",\"shape\",\"by\",\"the\",\"emperor\",\"hadrian\",\".\"],ASCIIString[\"27\",\"the\",\"present\",\",\",\"its\",\"rebuilt\",\"b.c.\",\"was\",\"agrippa\",\"by\"  …  \"edifice\",\"in\",\"circular\",\"this\",\"hadrian\",\"constructed\",\"in\",\".\",\"emperor\",\",\"],NaN),(ASCIIString[\"economically\",\",\",\"martin\",\"said\",\",\",\"the\",\"united\",\"states\",\"could\",\"best\",\"help\",\"foreign\",\"countries\",\"by\",\"helping\",\"them\",\"help\",\"themselves\",\".\"],ASCIIString[\"countries\",\"by\",\"united\",\"help\",\"martin\",\"economically\",\"foreign\",\"them\",\"helping\",\"states\",\".\",\"best\",\"help\",\"said\",\",\",\"could\",\"themselves\",\"the\",\",\"],NaN),(ASCIIString[\"``\",\"that\",\"important\",\"''\",\".\"],Any[\"``\",\"that\",\"important\",\"''\",\".\"],6.810196432620794e-8),(ASCIIString[\"she\",\"noted\",\"that\",\"no\",\"student\",\"had\",\"been\",\"withdrawn\",\"through\",\"loss\",\"of\",\"confidence\",\";\",\";\"],ASCIIString[\"she\",\"been\",\"noted\",\"that\",\"student\",\"of\",\"no\",\"loss\",\"through\",\"had\",\"confidence\",\";\",\"withdrawn\",\";\"],12.0),(ASCIIString[\"and\",\",\",\"when\",\"you\",\"took\",\"a\",\"walk\",\"you\",\"never\",\"knew\"  …  \"of\",\"sparkling\",\"eyes\",\"were\",\"waiting\",\"around\",\"the\",\"next\",\"corner\",\".\"],ASCIIString[\"knew\",\"the\",\"took\",\"what\",\"or\",\",\",\"adventure\",\"of\",\"never\",\"and\"  …  \"a\",\"when\",\"were\",\".\",\"sparkling\",\"eyes\",\"waiting\",\"you\",\"you\",\"walk\"],NaN)],\"fold_5\"=>Any[(ASCIIString[\"the\",\"brush\",\"moves\",\"up\",\"and\",\"down\",\"and\",\"is\",\"small\",\"enough\"  …  \"dental\",\"surface\",\",\",\"including\",\"the\",\"back\",\"of\",\"the\",\"teeth\",\".\"],ASCIIString[\"moves\",\".\",\"surface\",\"and\",\",\",\"brush\",\"up\",\"the\",\"dental\",\"small\"  …  \"to\",\"of\",\"the\",\"the\",\"every\",\"is\",\"back\",\"and\",\"down\",\"clean\"],NaN),(ASCIIString[\"his\",\"sinuous\",\"melody\",\"is\",\"a\",\"sort\",\"of\",\"naive\",\"transcendence\",\"of\",\"all\",\"experience\",\".\"],ASCIIString[\"sort\",\"is\",\"naive\",\"of\",\"all\",\"his\",\"experience\",\"a\",\"melody\",\"of\",\".\",\"sinuous\",\"transcendence\"],11.0),(ASCIIString[\"she\",\"reached\",\"and\",\"reached\",\"around\",\"the\",\"dress\",\",\",\"but\",\"there\",\"was\",\"nothing\",\"there\",\".\"],Any[\"around\",\",\",\"there\",\"was\",\"nothing\",\"there\",\"but\",\"she\",\"reached\",\"the\",\"dress\",\"and\",\"reached\",\".\"],1.884472066592832e-31),(ASCIIString[\"this\",\"process\",\"is\",\"especially\",\"difficult\",\"since\",\"gyro\",\"drifting\",\"is\",\"typically\",\"random\",\".\"],ASCIIString[\"since\",\"this\",\"process\",\"is\",\"especially\",\"is\",\"difficult\",\".\",\"drifting\",\"gyro\",\"random\",\"typically\"],8.0),(ASCIIString[\"if\",\"you\",\"got\",\"too\",\"many\",\"people\",\"investing\",\"by\",\"this\",\"method\"  …  \"stock\",\"prices\",\",\",\"and\",\"thus\",\"throw\",\"the\",\"charts\",\"off\",\".\"],ASCIIString[\"thus\",\"off\",\"investing\",\"people\",\".\",\"prices\",\"many\",\"you\",\"throw\",\"charts\"  …  \"method\",\"operations\",\"affect\",\"got\",\"to\",\"stock\",\"this\",\"and\",\"would\",\",\"],NaN),(ASCIIString[\"i\",\"will\",\"deal\",\"with\",\"these\",\"later\",\"on\",\".\"],Any[\"i\",\"later\",\"on\",\"these\",\"will\",\"deal\",\"with\",\".\"],2.711134937004171e-20),(ASCIIString[\"this\",\"appears\",\"to\",\"be\",\"high\",\",\",\"as\",\"would\",\"be\",\"expected\"  …  \"the\",\"appreciable\",\"viscosity\",\"of\",\"the\",\"material\",\"in\",\"the\",\"drops\",\".\"],ASCIIString[\"would\",\"the\",\"to\",\"appreciable\",\"from\",\"the\",\"be\",\"expected\",\"material\",\"this\"  …  \".\",\"of\",\"in\",\",\",\"as\",\"drops\",\"the\",\"viscosity\",\"high\",\"be\"],NaN),(ASCIIString[\"cricket\",\"took\",\"eight\",\"ships\",\"and\",\"went\",\"south\",\"across\",\"the\",\"straits\",\"and\",\"along\",\"the\",\"north\",\"coast\",\"of\",\"mindanao\",\"to\",\"cagayan\",\".\"],ASCIIString[\"along\",\"and\",\"north\",\"south\",\"cricket\",\"eight\",\"the\",\"mindanao\",\"to\",\"straits\",\"went\",\"coast\",\"cagayan\",\"took\",\"across\",\"and\",\"of\",\"ships\",\".\",\"the\"],NaN),(ASCIIString[\"neither\",\"of\",\"these\",\"poems\",\"is\",\"an\",\"aberration\",\";\",\";\"],ASCIIString[\"neither\",\"of\",\"is\",\"these\",\"poems\",\";\",\"an\",\"aberration\",\";\"],5.0),(ASCIIString[\"the\",\"low\",\"countries\",\",\",\"where\",\"the\",\"middle\",\"ages\",\"were\",\"to\"  …  \"the\",\"fields\",\"and\",\"forests\",\"below\",\"the\",\"walls\",\"of\",\"grandson\",\".\"],ASCIIString[\"the\",\"the\",\"another\",\"for\",\"were\",\"charles\",\"and\",\"of\",\"the\",\"first\"  …  \"the\",\"below\",\"and\",\"burgundy\",\"of\",\"the\",\"centuries\",\".\",\"low\",\"fields\"],NaN)  …  (ASCIIString[\"b\"],Any[\"b\"],0.0),(ASCIIString[\"it\",\"was\",\"probably\",\"at\",\"this\",\"period\",\"that\",\"littlepage\",\"got\",\"his\",\"first\",\"good\",\"look\",\"at\",\"the\",\"ordinary\",\"russian\",\"soldier\",\".\"],ASCIIString[\".\",\"period\",\"russian\",\"probably\",\"soldier\",\"the\",\"got\",\"this\",\"it\",\"littlepage\",\"at\",\"at\",\"ordinary\",\"that\",\"was\",\"look\",\"good\",\"his\",\"first\"],NaN),(ASCIIString[\"this\",\"was\",\"the\",\"worst\",\"thing\",\"i\",\"could\",\"have\",\"said\",\".\"],Any[\"this\",\"thing\",\"was\",\"i\",\"could\",\"have\",\"said\",\"the\",\"worst\",\".\"],4.494249031505741e-23),(ASCIIString[\"fretting\",\"privately\",\"but\",\"eschewing\",\"public\",\"defense\",\"of\",\"his\",\"terrorized\",\"bureaucrats\"  …  \"and\",\"detached\",\"while\",\"the\",\"hatchet\",\"men\",\"had\",\"their\",\"way\",\".\"],ASCIIString[\"their\",\"eschewing\",\"his\",\"dulles\",\"privately\",\"serene\",\"public\",\"while\",\"detached\",\"had\"  …  \"men\",\"of\",\"defense\",\"fretting\",\"terrorized\",\"way\",\"the\",\"but\",\"and\",\"hatchet\"],NaN),(ASCIIString[\"therefore\",\",\",\"what\",\"we\",\"must\",\"prove\",\"or\",\"disprove\",\"is\",\"that\"  …  \"at\",\"the\",\"time\",\"it\",\"was\",\"called\",\"the\",\"saxon\",\"shore\",\".\"],ASCIIString[\"time\",\"in\",\"saxon\",\".\",\"the\",\"saxons\",\"the\",\"must\",\"saxon\",\",\"  …  \"was\",\"construe\",\"prove\",\"we\",\"the\",\"is\",\"the\",\"area\",\"called\",\"word\"],NaN),(ASCIIString[\"montero\",\"had\",\"set\",\"up\",\"a\",\"strong\",\"position\",\",\",\"using\",\"every\"  …  \"had\",\"in\",\"addition\",\"to\",\"barricades\",\"of\",\"logs\",\"and\",\"brush\",\".\"],ASCIIString[\".\",\"and\",\"we\",\",\",\"of\",\"box\",\"set\",\"barricades\",\"every\",\"bale\"  …  \"using\",\"had\",\"position\",\"strong\",\"brush\",\"in\",\"montero\",\"had\",\"logs\",\"addition\"],NaN),(ASCIIString[\"assume\",\",\",\"for\",\"example\",\",\",\"a\",\"situation\",\"where\",\"a\",\"farm\",\"has\",\"a\",\"packing\",\"shed\",\"and\",\"fields\",\".\"],ASCIIString[\"example\",\",\",\"packing\",\"shed\",\",\",\"where\",\"a\",\"situation\",\"has\",\"for\",\"and\",\"assume\",\"a\",\"farm\",\"a\",\".\",\"fields\"],16.0),(ASCIIString[\"these\",\"additional\",\"modern\",\"bombers\",\"will\",\"replace\",\"some\",\"of\",\"the\",\"older\",\"b-47\",\"medium\",\"bombers\",\";\",\";\"],ASCIIString[\"some\",\"will\",\"the\",\"medium\",\"of\",\"these\",\"modern\",\";\",\";\",\"additional\",\"b-47\",\"bombers\",\"replace\",\"bombers\",\"older\"],9.0),(ASCIIString[\"he\",\"got\",\"a\",\"good\",\"fat\",\"job\",\"and\",\"we\",\"congratulate\",\"him\",\"on\",\"his\",\"good\",\"luck\",\".\"],ASCIIString[\"fat\",\"and\",\"he\",\"got\",\"on\",\"him\",\"a\",\"good\",\"his\",\"good\",\"job\",\"we\",\"congratulate\",\".\",\"luck\"],13.0),(ASCIIString[\"``\",\"i\",\"might\",\"''\",\".\"],Any[\"``\",\"i\",\"''\",\"might\",\".\"],1.4740023312083699e-12)],\"fold_2\"=>Any[(ASCIIString[\"by\",\"september\",\"1940\",\"the\",\"suite\",\"had\",\"developed\",\"into\",\"a\",\"collection\"  …  \"spirituals\",\",\",\"a\",\"dream\",\",\",\"and\",\"a\",\"lullaby\",\"''\",\".\"],ASCIIString[\",\",\"developed\",\"four\",\"``\",\"the\",\"''\",\"had\",\"and\",\"by\",\"dream\"  …  \"lullaby\",\"a\",\"1940\",\",\",\"september\",\"songs\",\"a\",\"into\",\"spirituals\",\"a\"],NaN),(ASCIIString[\"the\",\"businessman\",\"was\",\"raymond\",\"thornburg\",\".\"],ASCIIString[\"was\",\"the\",\"businessman\",\".\",\"raymond\",\"thornburg\"],4.0),(ASCIIString[\"(\",\"``\",\"what\",\"did\",\"one\",\"tonsil\",\"say\",\"to\",\"the\",\"other\",\"tonsil\",\"?\",\"?\"],ASCIIString[\"did\",\"the\",\"other\",\"(\",\"``\",\"what\",\"one\",\"say\",\"to\",\"?\",\"tonsil\",\"tonsil\",\"?\"],10.0),(ASCIIString[\"the\",\"paramagnetic\",\"dipole\",\"effects\",\"provide\",\"some\",\"information\",\"on\",\"the\",\"particle\",\"shapes\",\".\"],ASCIIString[\"provide\",\"some\",\"the\",\"shapes\",\"the\",\"paramagnetic\",\"dipole\",\"effects\",\"on\",\"information\",\".\",\"particle\"],10.0),(ASCIIString[\"seven\",\"hundred\",\"miles\",\"south\",\"of\",\"york\",\"factory\",\",\",\"at\",\"``\"  …  \",\",\"twenty-three\",\"men\",\"located\",\"a\",\"settlement\",\"in\",\"august\",\"1812\",\".\"],ASCIIString[\"at\",\"forks\",\"and\",\"miles\",\"a\",\"of\",\"the\",\"south\",\".\",\"york\"  …  \"seven\",\"``\",\"in\",\"of\",\"''\",\"men\",\",\",\",\",\"assiniboine\",\"factory\"],NaN),(ASCIIString[\"by\",\"the\",\"time\",\"he\",\"reached\",\"the\",\"edge\",\"of\",\"the\",\"pit\"  …  \"back\",\"ached\",\"under\",\"the\",\"drag\",\"of\",\"the\",\"dead\",\"weight\",\".\"],ASCIIString[\"panting\",\"the\",\"and\",\"weight\",\"by\",\"he\",\"reached\",\"time\",\"under\",\"edge\"  …  \"shoulder\",\"dead\",\".\",\"of\",\"the\",\"the\",\"was\",\"and\",\"of\",\"ached\"],NaN),(ASCIIString[\"our\",\"students\",\"want\",\"occupations\",\"that\",\"permit\",\"them\",\"to\",\"use\",\"their\"  …  \",\",\"to\",\"work\",\"with\",\"and\",\"to\",\"help\",\"other\",\"people\",\".\"],ASCIIString[\"use\",\"training\",\"to\",\",\",\"to\",\"and\",\"people\",\",\",\"our\",\"with\"  …  \"occupations\",\"work\",\"and\",\"students\",\"talents\",\".\",\"to\",\"their\",\"them\",\"that\"],NaN),(ASCIIString[\"fortunately\",\",\",\"such\",\"cases\",\"in\",\"rhode\",\"island\",\"are\",\"more\",\"the\",\"exception\",\"than\",\"the\",\"rule\",\".\"],Any[\"fortunately\",\"the\",\"rule\",\",\",\"in\",\"more\",\"than\",\"rhode\",\"island\",\"are\",\"such\",\"cases\",\"the\",\"exception\",\".\"],3.6473692991084755e-35),(ASCIIString[\"they\",\"stood\",\"there\",\",\",\"just\",\"the\",\"two\",\"of\",\"them\",\",\",\"in\",\"the\",\"rocking\",\",\",\"shattering\",\"blast\",\".\"],ASCIIString[\",\",\"stood\",\",\",\"the\",\"two\",\",\",\"of\",\"them\",\"the\",\"blast\",\"in\",\"there\",\"they\",\"just\",\".\",\"rocking\",\"shattering\"],15.0),(ASCIIString[\"she\",\"meant\",\"him\",\"well\",\",\",\"but\",\"was\",\"in\",\"no\",\"condition\",\"for\",\"articulate\",\"speech\",\".\"],ASCIIString[\"well\",\"she\",\"meant\",\"him\",\"no\",\",\",\"for\",\"in\",\"condition\",\"was\",\"but\",\".\",\"articulate\",\"speech\"],12.0)  …  (ASCIIString[\"at\",\"each\",\"step\",\"of\",\"the\",\"calculation\",\"the\",\"operating\",\"variables\",\"of\",\"only\",\"one\",\"stage\",\"need\",\"be\",\"varied\",\".\"],ASCIIString[\"need\",\"of\",\"only\",\"the\",\"operating\",\"at\",\"each\",\"one\",\"be\",\"varied\",\"the\",\"stage\",\"of\",\"variables\",\".\",\"calculation\",\"step\"],15.0),(ASCIIString[\"i.e.\",\",\",\"high\",\"loop\",\"gain\",\"causes\",\"the\",\"system\",\"to\",\"respond\",\"to\",\"horizontal\",\"components\",\"of\",\"accelerations\",\".\"],ASCIIString[\",\",\"causes\",\"the\",\"components\",\"to\",\"respond\",\"to\",\"high\",\"gain\",\"of\",\"loop\",\".\",\"system\",\"i.e.\",\"horizontal\",\"accelerations\"],12.0),(ASCIIString[\"this\",\"is\",\"true\",\"because\",\"of\",\"savings\",\"in\",\"utility\",\"lines\",\"and\"  …  \"buildings\",\"have\",\"a\",\"useful\",\"radius\",\"equal\",\"in\",\"all\",\"directions\",\".\"],ASCIIString[\"because\",\"and\",\"utility\",\"all\",\"the\",\"useful\",\"is\",\"that\",\"lines\",\"buildings\"  …  \"have\",\"radius\",\"in\",\"this\",\".\",\"true\",\"equal\",\"directions\",\"your\",\"savings\"],NaN),(ASCIIString[\"there\",\"have\",\"been\",\",\",\"indeed\",\",\",\"many\",\"important\",\"and\",\"valuable\"  …  \"the\",\"world\",\"for\",\"which\",\"we\",\"may\",\"be\",\"rightly\",\"grateful\",\".\"],ASCIIString[\"development\",\"we\",\"the\",\"been\",\"view\",\"of\",\"of\",\"from\",\"for\",\"may\"  …  \"scientific\",\"important\",\"there\",\"world\",\"rightly\",\",\",\"be\",\".\",\"valuable\",\"gains\"],NaN),(ASCIIString[\"long\",\"weekends\",\"enable\",\"many\",\"to\",\"get\",\"away\",\"from\",\"home\",\"for\",\"three\",\"or\",\"four\",\"days\",\"several\",\"times\",\"a\",\"year\",\".\"],ASCIIString[\"get\",\"several\",\"days\",\"to\",\"or\",\"times\",\"four\",\"for\",\"weekends\",\"many\",\"from\",\"enable\",\"home\",\"away\",\"a\",\"long\",\"year\",\".\",\"three\"],NaN),(ASCIIString[\"if\",\"one\",\"dancer\",\"slaps\",\"another\",\",\",\"the\",\"victim\",\"may\",\"do\"  …  \",\",\"or\",\"offer\",\"his\",\"assailant\",\"a\",\"fork\",\"and\",\"spoon\",\".\"],ASCIIString[\",\",\",\",\"a\",\"and\",\".\",\"sit\",\"or\",\"assailant\",\"may\",\"another\"  …  \"victim\",\"down\",\"if\",\"a\",\"spoon\",\"pirouette\",\"one\",\"slaps\",\"offer\",\"do\"],NaN),(ASCIIString[\"but\",\"more\",\"important\",\",\",\"and\",\"the\",\"thing\",\"which\",\"the\",\"casual\"  …  \"settings\",\"in\",\"which\",\"persians\",\"exercise\",\"their\",\"extraordinary\",\"aesthetic\",\"sensibilities\",\".\"],ASCIIString[\"which\",\"and\",\"important\",\"are\",\"persians\",\"aesthetic\",\"more\",\"their\",\"but\",\"and\"  …  \".\",\"activities\",\"sojourner\",\"the\",\"often\",\"the\",\"exercise\",\"see\",\"which\",\"blind\"],NaN),(ASCIIString[\"to\",\"the\",\"editor\",\":\"],Any[\"to\",\"the\",\"editor\",\":\"],5.983730042576639e-6),(ASCIIString[\"when\",\"these\",\"groups\",\"were\",\"first\",\"formed\",\"many\",\"prominent\",\"and\",\"accomplished\"  …  \"design\",\"courses\",\"were\",\"rare\",\"and\",\"undeveloped\",\"during\",\"their\",\"youth\",\".\"],ASCIIString[\"courses\",\"had\",\"the\",\"prominent\",\"and\",\"decorators\",\"school\",\"formed\",\"youth\",\"these\"  …  \"not\",\"during\",\"their\",\"design\",\"since\",\"rare\",\"and\",\".\",\"undeveloped\",\"were\"],NaN),(ASCIIString[\"pope\",\"leo\",\"13\",\",\",\"on\",\"the\",\"13th\",\"day\",\"of\",\"december\"  …  \"holy\",\"gospels\",\"at\",\"least\",\"a\",\"quarter\",\"of\",\"an\",\"hour\",\".\"],ASCIIString[\"pope\",\"hour\",\"of\",\"following\",\"13th\",\"all\",\"1898\",\"who\",\"indulgences\",\"granted\"  …  \"the\",\"read\",\"the\",\"a\",\"quarter\",\"an\",\"day\",\"is\",\"13\",\"granted\"],NaN)],\"fold_9\"=>Any[(ASCIIString[\"to\",\"begin\",\"the\",\"interview\",\",\",\"he\",\"asked\",\"if\",\"thayer\",\",\"  …  \"what\",\"he\",\"had\",\"said\",\"the\",\"other\",\"day\",\"about\",\"johnston\",\".\"],ASCIIString[\",\",\"he\",\",\",\".\",\"had\",\"the\",\"day\",\"if\",\"about\",\"think\"  …  \"could\",\"asked\",\"what\",\"to\",\"thayer\",\",\",\"with\",\"more\",\"time\",\"the\"],NaN),(ASCIIString[\"he\",\"cleared\",\"his\",\"throat\",\";\",\";\"],Any[\"he\",\"cleared\",\"his\",\"throat\",\";\",\";\"],4.302151547344429e-9),(ASCIIString[\"introduction\"],Any[\"introduction\"],7.522352132049518e-5),(ASCIIString[\"it\",\"is\",\"obvious\",\"that\",\"such\",\"an\",\"influence\",\"can\",\"only\",\"be\"  …  \"of\",\"an\",\"image\",\"intensifier\",\"at\",\"rather\",\"high\",\"output\",\"levels\",\".\"],ASCIIString[\"the\",\"an\",\"of\",\"high\",\".\",\"an\",\"final\",\"it\",\"can\",\"image\"  …  \"only\",\"stage\",\"output\",\"levels\",\"that\",\"influence\",\"is\",\"be\",\"expected\",\"at\"],NaN),(ASCIIString[\"if\",\"the\",\"railroads\",\",\",\"for\",\"example\",\",\",\"regularly\",\"slaughtered\",\"25,000\"  …  \"hanging\",\"of\",\"every\",\"railroad\",\"president\",\"in\",\"the\",\"united\",\"states\",\".\"],ASCIIString[\"the\",\"such\",\",\",\"example\",\"holocaust\",\"personal\",\"president\",\"slaughtered\",\"25,000\",\"states\"  …  \"safety\",\"have\",\",\",\"the\",\"for\",\"united\",\".\",\"would\",\",\",\"of\"],NaN),(ASCIIString[\"he\",\"looked\",\"wildly\",\"around\",\",\",\"at\",\"the\",\"now\",\"empty\",\"street\",\",\",\"at\",\"the\",\"mud\",\",\",\"at\",\"the\",\"rain\",\".\"],ASCIIString[\"at\",\"the\",\"at\",\",\",\".\",\"street\",\"around\",\"the\",\"looked\",\",\",\"rain\",\"mud\",\"now\",\",\",\"wildly\",\"he\",\"at\",\"the\",\"empty\"],NaN),(ASCIIString[\"arrange\",\"a\",\"reserved\",\"section\",\"in\",\"the\",\"sanctuary\",\"where\",\"all\",\"new\",\"members\",\"may\",\"sit\",\"together\",\".\"],ASCIIString[\"together\",\"may\",\"sit\",\"where\",\"all\",\"reserved\",\"a\",\"section\",\"in\",\"new\",\"members\",\"the\",\"sanctuary\",\".\",\"arrange\"],14.0),(ASCIIString[\"the\",\"west\",\"has\",\"no\",\"intention\",\"of\",\"attacking\",\"russia\",\".\"],ASCIIString[\"has\",\"no\",\"west\",\"the\",\"intention\",\"of\",\"russia\",\".\",\"attacking\"],8.0),(ASCIIString[\"it\",\"is\",\"not\",\"our\",\"bodies\",\"but\",\"our\",\"hearts\",\"and\",\"heads\",\"that\",\"have\",\"grown\",\"too\",\"soft\",\".\"],ASCIIString[\"have\",\"our\",\"bodies\",\"is\",\"too\",\"that\",\"our\",\"hearts\",\"and\",\"it\",\"not\",\"but\",\".\",\"soft\",\"heads\",\"grown\"],13.0),(ASCIIString[\"anybody\",\"carrying\",\"anything\",\"that\",\"might\",\"hide\",\"a\",\"rifle\",\"?\",\"?\"],ASCIIString[\"carrying\",\"that\",\"anything\",\"a\",\"rifle\",\"?\",\"?\",\"hide\",\"anybody\",\"might\"],7.0)  …  (ASCIIString[\"once\",\"more\",\"and\",\"roared\",\"off\",\"into\",\"the\",\"fog\",\",\",\"his\"  …  \",\",\"just\",\"as\",\"his\",\"hand\",\"did\",\"when\",\"he\",\"worked\",\".\"],ASCIIString[\"roared\",\",\",\"suddenness\",\"accelerator\",\"evidently\",\"foot\",\"the\",\"the\",\"with\",\"hand\"  …  \"off\",\"with\",\"worked\",\"fog\",\"his\",\",\",\"into\",\".\",\"the\",\"surprising\"],NaN),(ASCIIString[\"she\",\"continues\",\"to\",\"add\",\"to\",\"the\",\"pollen\",\"supply\",\"as\",\"needed\",\".\"],ASCIIString[\"to\",\"add\",\"to\",\"supply\",\"as\",\"she\",\"needed\",\"the\",\"pollen\",\"continues\",\".\"],9.0),(ASCIIString[\"you\",\"may\",\"dress\",\"it\",\"up\",\"with\",\"any\",\"number\",\"of\",\"accessories\",\"or\",\"keep\",\"it\",\"as\",\"simple\",\"as\",\"you\",\"choose\",\".\"],ASCIIString[\".\",\"dress\",\"with\",\"may\",\"number\",\"you\",\"simple\",\"as\",\"it\",\"up\",\"or\",\"as\",\"keep\",\"it\",\"accessories\",\"of\",\"any\",\"choose\",\"you\"],NaN),(ASCIIString[\"while\",\"other\",\"conditions\",\"might\",\"be\",\"even\",\"more\",\"effective\",\"in\",\"bringing\"  …  \"himself\",\"temporarily\",\"from\",\"feelings\",\"of\",\"responsibility\",\"for\",\"his\",\"behavior\",\".\"],ASCIIString[\"that\",\"to\",\"temporarily\",\"hypothesis\",\"might\",\"such\",\"kohnstamm\",\"about\",\"in\",\"capacity\"  …  \"him\",\"his\",\".\",\"an\",\"while\",\"attitude\",\"have\",\"more\",\"as\",\"is\"],NaN),(ASCIIString[\"if\",\"we\",\"add\",\"to\",\"these\",\"contacts\",\"with\",\"friendly\",\"members\",\"the\"  …  \"two\",\"thirds\",\"of\",\"all\",\"recruitment\",\"is\",\"through\",\"friendly\",\"contact\",\".\"],ASCIIString[\")\",\"substantial\",\"add\",\"an\",\"of\",\"is\",\",\",\"members\",\".\",\"11.2\"  …  \"(\",\"all\",\"two\",\"these\",\"through\",\"per\",\"the\",\"with\",\"cent\",\"the\"],NaN),(ASCIIString[\"the\",\"layout\",\"of\",\"the\",\"sewer\",\"lines\",\"was\",\"designed\",\"by\",\"henry\"  …  \"was\",\"the\",\"engineer\",\"for\",\"the\",\"manchester\",\"village\",\"disposal\",\"plant\",\".\"],ASCIIString[\"henry\",\"who\",\"the\",\"manchester\",\"designed\",\"the\",\"lines\",\"by\",\"disposal\",\",\"  …  \".\",\"sewer\",\"village\",\"layout\",\"plant\",\"the\",\"taylor\",\"w.\",\"of\",\"for\"],NaN),(ASCIIString[\"it\",\"was\",\"when\",\"she\",\"was\",\"seized\",\"as\",\"a\",\"material\",\"witness\",\"that\",\"she\",\"got\",\"the\",\"designation\",\"she\",\"liked\",\"best\",\".\"],ASCIIString[\"it\",\"seized\",\"best\",\".\",\"was\",\"was\",\"witness\",\"designation\",\"a\",\"material\",\"she\",\"got\",\"liked\",\"that\",\"the\",\"she\",\"as\",\"when\",\"she\"],NaN),(ASCIIString[\"he\",\"would\",\"not\",\"look\",\"up\",\".\"],Any[\"he\",\"would\",\"not\",\"look\",\"up\",\".\"],3.5530461631540195e-12),(ASCIIString[\"the\",\"input\",\"axis\",\"of\",\"the\",\"x\",\"gyro\",\",\",\"when\",\"pointing\"  …  \"is\",\"always\",\"perpendicular\",\"to\",\"the\",\"spin\",\"axis\",\"of\",\"earth\",\".\"],ASCIIString[\"axis\",\"input\",\"of\",\"spin\",\"the\",\"direction\",\"the\",\"the\",\"pointing\",\"of\"  …  \",\",\"in\",\"x\",\"gyro\",\"east-west\",\"when\",\"perpendicular\",\"always\",\"to\",\"axis\"],NaN),(ASCIIString[\"the\",\"council\",\"we\",\"now\",\"know\",\"will\",\"concern\",\"itself\",\"directly\",\"only\",\"with\",\"the\",\"internal\",\"affairs\",\"of\",\"the\",\"church\",\".\"],Any[\"the\",\"concern\",\"of\",\"internal\",\"affairs\",\"council\",\"will\",\"know\",\"we\",\"now\",\"the\",\"only\",\"itself\",\"directly\",\"with\",\"the\",\"church\",\".\"],1.6214187464356247e-37)],\"fold_7\"=>Any[(ASCIIString[\"he\",\"finds\",\"the\",\"structure\",\"contains\",\"an\",\"af\",\"bond\",\"with\",\"the\",\"af\",\"distance\",\"of\",\"af\",\".\"],Any[\"he\",\"finds\",\"the\",\"structure\",\"with\",\"af\",\"distance\",\"of\",\"an\",\"af\",\"contains\",\"the\",\"af\",\"bond\",\".\"],8.077929658140054e-34),(ASCIIString[\"danger\",\"cited\"],ASCIIString[\"cited\",\"danger\"],0.0),(ASCIIString[\"meaningful\",\"policies\",\"include\",\":\",\"(\",\"a\",\")\",\"kinds\",\"of\",\"cars\"  …  \"f\",\")\",\"need\",\"for\",\"liability\",\"insurance\",\"on\",\"state\",\"automobiles\",\".\"],ASCIIString[\"a\",\")\",\"(\",\"include\",\"assignment\",\"need\",\")\",\")\",\"policies\",\"f\"  …  \"when\",\"(\",\"e\",\"of\",\"lieu\",\"use\",\"employees\",\"mileage\",\"for\",\"cars\"],NaN),(ASCIIString[\"he\",\"further\",\"proposed\",\"grants\",\"of\",\"an\",\"unspecified\",\"sum\",\"for\",\"experimental\",\"hospitals\",\".\"],ASCIIString[\"hospitals\",\"for\",\"further\",\"he\",\"of\",\"proposed\",\".\",\"grants\",\"unspecified\",\"sum\",\"experimental\",\"an\"],7.0),(ASCIIString[\"today\",\"however\",\",\",\"the\",\"``\",\"outsider\",\"''\",\"is\",\"likely\",\"to\"  …  \"the\",\"democratic\",\"processes\",\"of\",\"the\",\"secular\",\"or\",\"state\",\"university\",\".\"],ASCIIString[\"state\",\"however\",\"acclimatized\",\"outsider\",\"have\",\"highest\",\",\",\"him\",\"the\",\")\"  …  \"''\",\"college\",\"``\",\"of\",\"the\",\"hiring\",\"be\",\"to\",\"not\",\"democratic\"],NaN),(ASCIIString[\"(\",\"page\",\"34\",\")\"],ASCIIString[\"(\",\"page\",\"34\",\")\"],3.0),(ASCIIString[\"uniform\",\"questions\",\",\",\"definitions\",\",\",\"and\",\"procedures\",\"were\",\"enforced\",\"throughout\",\"the\",\"whole\",\"country\",\".\"],ASCIIString[\"procedures\",\"the\",\"questions\",\"were\",\",\",\"throughout\",\",\",\"uniform\",\"and\",\"country\",\".\",\"whole\",\"enforced\",\"definitions\"],11.0),(ASCIIString[\"in\",\"a\",\"minute\",\",\",\"or\",\"five\",\"minutes\",\",\",\"the\",\"business\",\"would\",\"be\",\"done\",\";\",\";\"],Any[\"in\",\"the\",\"business\",\",\",\"five\",\"minutes\",\"a\",\"minute\",\",\",\"or\",\"would\",\"be\",\"done\",\";\",\";\"],1.1362667563046555e-27),(ASCIIString[\"jazz\",\",\",\"like\",\"sex\",\",\",\"is\",\"a\",\"mystique\",\".\"],Any[\"jazz\",\"is\",\"sex\",\",\",\"a\",\"mystique\",\",\",\"like\",\".\"],2.6941639560797126e-19),(ASCIIString[\"he\",\"crossed\",\"the\",\"street\",\"and\",\"walked\",\"swiftly\",\"southward\",\"to\",\"circle\"  …  \"boulevard\",\"and\",\"north\",\"a\",\"block\",\"to\",\"the\",\"open\",\"restaurant\",\".\"],ASCIIString[\"back\",\"walked\",\"southward\",\"a\",\"open\",\"the\",\"and\",\"to\",\"boulevard\",\"street\"  …  \"north\",\".\",\"he\",\"restaurant\",\"crossed\",\"to\",\"swiftly\",\"the\",\"circle\",\"and\"],NaN)  …  (ASCIIString[\"he\",\"chatted\",\"with\",\"ramey\",\"and\",\"benson\",\"for\",\"a\",\"minute\",\"or\",\"so\",\"in\",\"the\",\"meager\",\"shade\",\"of\",\"the\",\"trailer\",\".\"],ASCIIString[\"a\",\"with\",\"of\",\".\",\"he\",\"for\",\"trailer\",\"the\",\"benson\",\"so\",\"or\",\"in\",\"meager\",\"minute\",\"and\",\"ramey\",\"shade\",\"chatted\",\"the\"],NaN),(ASCIIString[\"he\",\"begins\",\":\",\"``\"],Any[\"``\",\":\",\"he\",\"begins\"],0.0),(ASCIIString[\"as\",\"an\",\"isolated\",\"policy\",\",\",\"land\",\"reform\",\"is\",\"likely\",\"to\",\"be\",\"politically\",\"disruptive\",\";\",\";\"],ASCIIString[\"reform\",\"to\",\"as\",\"likely\",\"be\",\"politically\",\",\",\"land\",\"is\",\"an\",\"isolated\",\";\",\"disruptive\",\";\",\"policy\"],11.0),(ASCIIString[\"this\",\"is\",\"the\",\"force\",\",\",\"in\",\"our\",\"time\",\"and\",\"in\"  …  \"and\",\"the\",\"manic-depressive\",\"to\",\"become\",\"head\",\"of\",\"a\",\"state\",\".\"],ASCIIString[\"is\",\",\",\"time\",\"paranoiac\",\"and\",\"the\",\"that\",\"the\",\"time\",\"this\"  …  \".\",\"every\",\"our\",\"in\",\"a\",\"other\",\"and\",\"state\",\"force\",\"to\"],NaN),(ASCIIString[\"martin\",\"felt\",\"it\",\"was\",\"incredible\",\"that\",\"the\",\"situation\",\"had\",\"come\",\"to\",\"exist\",\"at\",\"all\",\".\"],Any[\"martin\",\"was\",\"incredible\",\"that\",\"all\",\"felt\",\"at\",\"it\",\"the\",\"situation\",\"had\",\"come\",\"to\",\"exist\",\".\"],2.1008933996549e-34),(ASCIIString[\"managing\",\"director\",\"donald\",\"c.\",\"wagner\",\"has\",\"agreed\",\"to\",\"cooperate\",\"fully\"  …  \"after\",\"a\",\"period\",\"of\",\"sharp\",\"disagreement\",\"on\",\"the\",\"matter\",\".\"],ASCIIString[\"director\",\"disagreement\",\"donald\",\"to\",\"with\",\"managing\",\"c.\",\"a\",\"the\",\"period\"  …  \"on\",\"agreed\",\"hemphill\",\"cooperate\",\"has\",\"fully\",\"wagner\",\"after\",\"sharp\",\".\"],NaN),(ASCIIString[\"this\",\"is\",\"one\",\"difference\",\"between\",\"bird\",\"and\",\"dylan\",\"which\",\"should\",\"be\",\"pointed\",\"out\",\".\"],ASCIIString[\"be\",\"and\",\"bird\",\"is\",\"out\",\"one\",\"which\",\"this\",\"difference\",\"should\",\".\",\"dylan\",\"between\",\"pointed\"],11.0),(ASCIIString[\"that\",\"touched\",\"off\",\"a\",\"total\",\"stampede\",\".\"],ASCIIString[\"off\",\"that\",\"a\",\"total\",\".\",\"stampede\",\"touched\"],5.0),(ASCIIString[\"he\",\"was\",\"not\",\"unmoved\",\".\"],ASCIIString[\"was\",\"not\",\"he\",\".\",\"unmoved\"],4.0),(ASCIIString[\"in\",\"the\",\"past\",\"such\",\"government\",\"claims\",\"have\",\"been\",\"found\",\"exaggerated\",\".\"],Any[\"such\",\"claims\",\"in\",\"government\",\"have\",\"found\",\"the\",\"past\",\"been\",\"exaggerated\",\".\"],1.4617638998977496e-26)],\"fold_1\"=>Any[(ASCIIString[\".\"],Any[\".\"],0.001203892923635234),(ASCIIString[\"but\",\"he\",\"warmed\",\"up\",\"after\",\"a\",\"while\",\".\"],ASCIIString[\"a\",\"while\",\"he\",\"up\",\"but\",\"after\",\".\",\"warmed\"],7.0),(ASCIIString[\")\",\"what\",\"it\",\"does\",\":\"],Any[\")\",\"what\",\"it\",\"does\",\":\"],1.72709590345844e-9),(ASCIIString[\"``\",\"forget\",\"we\",\"ever\",\"knew\",\"what\",\"''\",\"?\",\"?\"],ASCIIString[\"ever\",\"''\",\"what\",\"we\",\"``\",\"?\",\"?\",\"knew\",\"forget\"],7.0),(ASCIIString[\"what\",\"a\",\"spectacle\",\"he\",\"was\",\",\",\"caked\",\"with\",\"dirt\",\"and\"  …  \"absolutely\",\"the\",\"prettiest\",\"girl\",\"in\",\"this\",\"whole\",\"wonderful\",\"world\",\".\"],ASCIIString[\",\",\",\",\"wonderful\",\"filthy\",\"naked\",\"as\",\",\",\"absolutely\",\"he\",\"caked\"  …  \"the\",\".\",\",\",\",\",\"sweetest\",\"an\",\"was\",\"with\",\"a\",\"and\"],NaN),(ASCIIString[\"and\",\"even\",\"putting\",\"it\",\"that\",\"way\",\"would\",\"not\",\"prove\",\"that\",\"marx\",\"was\",\"anything\",\"but\",\"wrong\",\".\"],ASCIIString[\"putting\",\"it\",\"anything\",\"wrong\",\"way\",\"was\",\"not\",\"that\",\"would\",\"prove\",\"that\",\"and\",\"but\",\"even\",\".\",\"marx\"],15.0),(ASCIIString[\"with\",\"the\",\"divinities\",\"present\",\"and\",\"our\",\"souls\",\"in\",\"place\",\",\",\"we\",\"were\",\"wished\",\"health\",\",\",\"happiness\",\",\",\"and\",\"power\",\".\"],ASCIIString[\"wished\",\"our\",\",\",\"present\",\"power\",\"and\",\"we\",\"souls\",\"in\",\"and\",\".\",\"the\",\"health\",\",\",\"happiness\",\"divinities\",\"place\",\"were\",\"with\",\",\"],NaN),(ASCIIString[\"an\",\"important\",\"criterion\",\"of\",\"maturity\",\"is\",\"creativity\",\".\"],ASCIIString[\"criterion\",\"of\",\"maturity\",\"is\",\"an\",\"important\",\".\",\"creativity\"],7.0),(ASCIIString[\"it\",\"was\",\",\",\"of\",\"course\",\",\",\"in\",\"this\",\"drawing\",\"of\"  …  \"his\",\"desire\",\"to\",\"do\",\"full\",\"justice\",\"to\",\"an\",\"author\",\".\"],ASCIIString[\"of\",\"was\",\"his\",\"judgment\",\"to\",\".\",\"he\",\"the\",\"this\",\",\"  …  \"full\",\"clearly\",\"author\",\"of\",\"that\",\"sheet\",\"do\",\"course\",\"an\",\"drawing\"],NaN),(ASCIIString[\"at\",\"one\",\"and\",\"the\",\"same\",\"time\",\",\",\"she\",\"was\",\"within\"  …  \"searching\",\"for\",\"the\",\"drawbridge\",\"that\",\"would\",\"give\",\"her\",\"entry\",\".\"],ASCIIString[\"it\",\"at\",\"the\",\"still\",\"entry\",\"give\",\"but\",\"searching\",\"same\",\"time\"  …  \"and\",\"drawbridge\",\"the\",\",\",\".\",\"would\",\"for\",\"was\",\"she\",\"her\"],NaN)  …  (ASCIIString[\"have\",\"you\",\"checked\",\"the\",\"cost\",\"of\",\"subcontracting\",\"your\",\"cafeteria\",\"operation\",\"in\",\"order\",\"to\",\"save\",\"administrative\",\"costs\",\"?\",\"?\"],ASCIIString[\"administrative\",\"costs\",\"of\",\"order\",\"to\",\"save\",\"you\",\"have\",\"checked\",\"the\",\"operation\",\"in\",\"your\",\"cost\",\"?\",\"?\",\"cafeteria\",\"subcontracting\"],16.0),(ASCIIString[\"oedipus\",\"and\",\"lear\",\"instruct\",\"us\",\"how\",\"little\",\"of\",\"the\",\"world\",\"belongs\",\"to\",\"man\",\".\"],ASCIIString[\"world\",\"and\",\"us\",\"how\",\"little\",\"man\",\"the\",\"oedipus\",\"of\",\"to\",\"instruct\",\"belongs\",\"lear\",\".\"],11.0),(ASCIIString[\"``\",\"why\",\"did\",\"you\",\"do\",\"it\",\"--\",\"why\",\"did\",\"you\",\"hit\",\"him\",\"''\",\"?\",\"?\"],Any[\"why\",\"you\",\"did\",\"it\",\"did\",\"hit\",\"him\",\"--\",\"``\",\"why\",\"do\",\"you\",\"''\",\"?\",\"?\"],3.265854239255729e-27),(ASCIIString[\"she\",\"should\",\"offer\",\"substitutes\",\"for\",\"the\",\"temptations\",\"which\",\"seem\",\"overwhelmingly\",\"desirable\",\"to\",\"the\",\"child\",\".\"],ASCIIString[\"offer\",\"the\",\"child\",\"should\",\"she\",\"to\",\"desirable\",\"for\",\"which\",\"seem\",\"the\",\"temptations\",\".\",\"substitutes\",\"overwhelmingly\"],13.0),(ASCIIString[\"in\",\"a\",\"small\",\"grove\",\"against\",\"the\",\"river\",\"they\",\"halted\",\",\",\"turning\",\"deep\",\"into\",\"the\",\"protection\",\"of\",\"the\",\"trees\",\".\"],ASCIIString[\",\",\"into\",\"protection\",\"river\",\"grove\",\"against\",\"deep\",\"the\",\"the\",\"a\",\"the\",\"in\",\"small\",\"they\",\"trees\",\".\",\"of\",\"turning\",\"halted\"],NaN),(ASCIIString[\"all\",\"of\",\"its\",\"cities\",\"close\",\"their\",\"fiscal\",\"years\",\"on\",\"december\",\"31\",\".\"],Any[\"all\",\"of\",\"its\",\"cities\",\"close\",\"their\",\"fiscal\",\"years\",\"on\",\"december\",\"31\",\".\"],2.61133707356512e-15),(ASCIIString[\"the\",\"new\",\"bedford\",\"standard-times\",\"has\",\"reported\",\"knowlton\",\"as\",\"saying\",\",\"  …  \"morse\",\",\",\"he\",\"would\",\"have\",\"convicted\",\"``\",\"somebody\",\"''\",\".\"],ASCIIString[\"convicted\",\"only\",\"knowlton\",\"saying\",\"conversation\",\"new\",\"trial\",\"his\",\"during\",\"said\"  …  \"what\",\"borden\",\"morse\",\"after\",\"would\",\"reported\",\"standard-times\",\"''\",\"the\",\"the\"],NaN),(ASCIIString[\"as\",\"early\",\"as\",\"1858\",\",\",\"le\",\"fort\",\"claimed\",\"an\",\"alveolar\",\"distribution\",\"of\",\"the\",\"bronchial\",\"arteries\",\"in\",\"human\",\"beings\",\".\"],ASCIIString[\"fort\",\"bronchial\",\"in\",\"le\",\"the\",\"1858\",\"distribution\",\"early\",\"human\",\"beings\",\"claimed\",\"arteries\",\"an\",\".\",\",\",\"of\",\"alveolar\",\"as\",\"as\"],NaN),(ASCIIString[\"``\",\"e.\",\"b.\",\"''\",\"compared\",\"john\",\"brown\",\"to\",\"moses\",\"in\"  …  \"they\",\"were\",\"both\",\"acting\",\"to\",\"deliver\",\"millions\",\"from\",\"oppression\",\".\"],ASCIIString[\"brown\",\"in\",\"millions\",\"both\",\"to\",\"``\",\"from\",\"e.\",\"b.\",\"oppression\"  …  \"to\",\"moses\",\"acting\",\"compared\",\"deliver\",\"were\",\"that\",\"''\",\"they\",\".\"],NaN),(ASCIIString[\"we\",\"both\",\"had\",\"hangovers\",\".\"],ASCIIString[\"had\",\"we\",\"both\",\".\",\"hangovers\"],4.0)],\"fold_8\"=>Any[(ASCIIString[\"word\",\"reached\",\"the\",\"company\",\"that\",\"the\",\"man\",\"behind\",\"these\",\"depredations\"  …  \"who\",\"were\",\"kept\",\"in\",\"line\",\"through\",\"fear\",\"of\",\"him\",\".\"],ASCIIString[\".\",\"a\",\"were\",\"behind\",\"a\",\"line\",\"him\",\"man\",\"of\",\"reached\"  …  \",\",\"company\",\"followers\",\"depredations\",\"including\",\"many\",\"manuel\",\"was\",\",\",\"who\"],NaN),(ASCIIString[\"he\",\"did\",\"seem\",\"hasty\",\"on\",\"his\",\"second\",\"and\",\"third\",\"shots\"  …  \"his\",\"composure\",\",\",\"which\",\"he\",\"had\",\"quite\",\"visibly\",\"lost\",\".\"],ASCIIString[\"seem\",\"then\",\"his\",\"to\",\"did\",\"minutes\",\"but\",\"composure\",\"lost\",\"quite\"  …  \"he\",\"several\",\"recover\",\"of\",\"chance\",\",\",\"he\",\"visibly\",\"putted\",\"out\"],NaN),(ASCIIString[\"kansas\",\"city\",\",\",\"mo.\",\";\",\";\"],Any[\"kansas\",\"city\",\",\",\"mo.\",\";\",\";\"],1.9650022866976764e-9),(ASCIIString[\"his\",\"bridgework\",\"or\",\"his\",\"plates\",\"feel\",\"loose\",\"and\",\"monstrous\",\".\"],ASCIIString[\"and\",\"feel\",\"his\",\"or\",\"his\",\".\",\"loose\",\"bridgework\",\"monstrous\",\"plates\"],6.0),(ASCIIString[\"every\",\"plane\",\"that\",\"could\",\"fly\",\"was\",\"sent\",\"into\",\"the\",\"air\",\".\"],Any[\"air\",\"that\",\"could\",\"the\",\"plane\",\"was\",\"sent\",\"into\",\"every\",\"fly\",\".\"],5.2886934298185535e-27),(ASCIIString[\"turn\",\"shaker\",\"upside\",\"down\",\".\"],ASCIIString[\"down\",\".\",\"turn\",\"upside\",\"shaker\"],2.0),(ASCIIString[\"was\",\"that\",\"what\",\"had\",\"given\",\"way\",\"in\",\"me\",\"?\",\"?\"],Any[\"in\",\"that\",\"way\",\"was\",\"what\",\"had\",\"given\",\"me\",\"?\",\"?\"],6.836147651519142e-19),(ASCIIString[\"the\",\"advantages\",\"of\",\"dilatation\",\"by\",\"the\",\"physician\",\"are\",\"both\",\"physical\",\"and\",\"psychological\",\".\"],ASCIIString[\"by\",\"psychological\",\"and\",\"dilatation\",\"of\",\"both\",\"are\",\"the\",\"advantages\",\"the\",\"physical\",\".\",\"physician\"],12.0),(ASCIIString[\"the\",\"collaboration\",\"was\",\"remarkable\",\",\",\"as\",\"it\",\"was\",\"in\",\"both\",\"the\",\"other\",\"movements\",\",\",\"too\",\".\"],ASCIIString[\"was\",\"the\",\"movements\",\"was\",\"too\",\",\",\"it\",\",\",\"both\",\"the\",\"in\",\"as\",\"other\",\".\",\"collaboration\",\"remarkable\"],14.0),(ASCIIString[\"they\",\"will\",\"be\",\"for\",\"teaching\",\",\",\"agriculture\",\"and\",\"community\",\"development\"  …  \",\",\"africa\",\",\",\"the\",\"middle\",\"east\",\"and\",\"latin\",\"america\",\".\"],ASCIIString[\"teaching\",\"for\",\"agriculture\",\"east\",\"development\",\"and\",\"latin\",\"and\",\".\",\",\"  …  \"be\",\"community\",\"will\",\"middle\",\"the\",\"they\",\",\",\"america\",\"southeast\",\"africa\"],NaN)  …  (ASCIIString[\"this\",\"issue\",\"that\",\"you\",\"are\",\"reading\",\"marks\",\"my\",\"15th\",\"anniversary\",\".\"],ASCIIString[\"issue\",\"are\",\"you\",\"that\",\"marks\",\"this\",\"reading\",\".\",\"15th\",\"my\",\"anniversary\"],8.0),(ASCIIString[\"sba\",\"cosponsors\",\"these\",\"courses\",\"with\",\"educational\",\"institutions\",\"and\",\"community\",\"groups\",\".\"],ASCIIString[\"community\",\"groups\",\"and\",\"educational\",\"institutions\",\"with\",\"these\",\"courses\",\".\",\"cosponsors\",\"sba\"],9.0),(ASCIIString[\"the\",\"thoroughgoing\",\"idealization\",\"of\",\"the\",\"planter\",\"society\",\"did\",\"not\",\"come\"  …  \"defend\",\"a\",\"way\",\"of\",\"life\",\"which\",\"had\",\"been\",\"destroyed\",\".\"],ASCIIString[\"way\",\",\",\"had\",\"destroyed\",\"a\",\"life\",\"thoroughgoing\",\"been\",\"civil\",\"the\"  …  \"when\",\"until\",\"however\",\"eager\",\"did\",\"writers\",\"society\",\"of\",\"were\",\"southern\"],NaN),(ASCIIString[\"they\",\"compose\",\"a\",\"painful\",\"elegy\",\"to\",\"what\",\"might\",\"have\",\"been\"  …  \"and\",\"ended\",\"in\",\"long\",\"years\",\"of\",\"suffering\",\"and\",\"hatred\",\".\"],ASCIIString[\"promise\",\"that\",\"began\",\"to\",\"compose\",\"long\",\"might\",\"of\",\"what\",\"they\"  …  \"suffering\",\"in\",\"happiness\",\"and\",\"of\",\",\",\"with\",\"elegy\",\"hatred\",\".\"],NaN),(ASCIIString[\"processing\",\"methods\",\";\",\";\"],ASCIIString[\"processing\",\";\",\";\",\"methods\"],3.0),(ASCIIString[\"coffee\",\"is\",\"made\",\"from\",\"the\",\"roasted\",\"and\",\"ground\",\"seeds\",\"of\",\"the\",\"coffee\",\"tree\",\".\"],ASCIIString[\"tree\",\"of\",\"coffee\",\"is\",\"from\",\"seeds\",\"the\",\"ground\",\"the\",\"coffee\",\"and\",\"made\",\".\",\"roasted\"],13.0),(ASCIIString[\"--\",\"guidance\",\"in\",\"christian\",\"social\",\"concerns\",\".\"],ASCIIString[\"--\",\"in\",\"social\",\"guidance\",\".\",\"concerns\",\"christian\"],5.0),(ASCIIString[\"when\",\"this\",\"water\",\"level\",\"has\",\"been\",\"reached\",\",\",\"inject\",\"steam\"  …  \"reaches\",\"that\",\"shown\",\"in\",\"column\",\"b\",\"of\",\"table\",\"2\",\".\"],ASCIIString[\"reaches\",\"that\",\"table\",\"level\",\"has\",\"column\",\"when\",\"shown\",\",\",\"of\"  …  \"2\",\"until\",\"into\",\".\",\"in\",\"this\",\"b\",\"water\",\"wheel\",\"inject\"],NaN),(ASCIIString[\"no\",\"one\",\",\",\"not\",\"even\",\"the\",\"producer\",\",\",\"had\",\"any\",\"real\",\"hope\",\"of\",\"getting\",\"it\",\"back\",\"to\",\"broadway\",\".\"],ASCIIString[\"even\",\"real\",\"of\",\".\",\"back\",\"hope\",\"not\",\"the\",\",\",\"it\",\"broadway\",\"producer\",\"had\",\"getting\",\",\",\"to\",\"one\",\"no\",\"any\"],NaN),(ASCIIString[\"the\",\"darkening\",\"world\",\"scene\",\",\",\"at\",\"the\",\"time\",\"of\",\"the\"  …  \"trouble\",\"his\",\"mind\",\"even\",\"in\",\"his\",\"remote\",\"virginia\",\"studio\",\".\"],ASCIIString[\"at\",\"of\",\"munich\",\"studio\",\"continued\",\"scene\",\"virginia\",\",\",\"darkening\",\"the\"  …  \"his\",\"to\",\"the\",\".\",\"remote\",\"in\",\"time\",\"his\",\",\",\"pact\"],NaN)],\"fold_3\"=>Any[(ASCIIString[\"with\",\"this\",\"ultimate\",\"weapon\",\",\",\"the\",\"two\",\"yankees\",\"may\",\"have\",\"saved\",\"baseball\",\"from\",\"its\",\"dullest\",\"season\",\".\"],ASCIIString[\"may\",\"this\",\"weapon\",\",\",\"with\",\"its\",\"two\",\"yankees\",\"have\",\"saved\",\"the\",\"season\",\"from\",\".\",\"baseball\",\"dullest\",\"ultimate\"],14.0),(ASCIIString[\"there\",\"may\",\"be\",\"others\",\".\"],Any[\"others\",\"may\",\"be\",\"there\",\".\"],1.6163615973034285e-10),(ASCIIString[\"the\",\"problem\",\"of\",\"solidarity\",\"and\",\"morale\",\"again\",\"involves\",\"the\",\"concept\",\"of\",\"values\",\".\"],ASCIIString[\"morale\",\"of\",\"again\",\"the\",\"solidarity\",\"of\",\"values\",\"the\",\"problem\",\"and\",\".\",\"concept\",\"involves\"],11.0),(ASCIIString[\"every\",\"pitch\",\"in\",\"the\",\"game\",\"brought\",\"forth\",\"a\",\"howl\",\"from\"  …  \"they\",\"dropped\",\"many\",\")\",\"called\",\"forth\",\"yelps\",\"of\",\"derision\",\".\"],ASCIIString[\"forth\",\"called\",\"drink\",\"game\",\"their\",\"dropped\",\".\",\"dropped\",\"many\",\"brought\"  …  \",\",\"howl\",\"yelps\",\")\",\"pitch\",\"in\",\"fly\",\"still\",\"ball\",\"every\"],NaN),(ASCIIString[\"i\",\"did\",\"not\",\"rest\",\"until\",\"i\",\"had\",\"tracked\",\"the\",\"mystery\",\"down\",\".\"],ASCIIString[\"down\",\"had\",\"until\",\"i\",\"did\",\"the\",\"rest\",\"not\",\"i\",\".\",\"tracked\",\"mystery\"],10.0),(ASCIIString[\"let\",\"us\",\"take\",\"a\",\"set\",\"of\",\"circumstances\",\"in\",\"which\",\"i\"  …  \"one\",\"of\",\"us\",\"might\",\"naturally\",\"make\",\"such\",\"a\",\"statement\",\".\"],ASCIIString[\".\",\"which\",\"circumstances\",\"and\",\"interested\",\"might\",\"of\",\"in\",\"to\",\"in\"  …  \"a\",\"legislative\",\"side\",\"one\",\"i\",\"set\",\"such\",\"take\",\"let\",\"us\"],NaN),(ASCIIString[\"``\",\"nothing\",\"''\",\",\",\"phil\",\"said\",\".\"],Any[\"phil\",\"said\",\",\",\"``\",\"nothing\",\"''\",\".\"],7.579106693808008e-11),(ASCIIString[\"rather\",\"the\",\"monthly\",\"total\",\"consumption\",\"was\",\"divided\",\"and\",\"charged\",\"on\"  …  \"of\",\"number\",\"of\",\"rooms\",\"and\",\"persons\",\"in\",\"the\",\"family\",\".\"],ASCIIString[\"rooms\",\"family\",\"monthly\",\"of\",\"number\",\"consumption\",\"the\",\"the\",\"of\",\"persons\"  …  \"rather\",\"in\",\"total\",\".\",\"and\",\"and\",\"was\",\"on\",\"charged\",\"the\"],NaN),(ASCIIString[\"the\",\"middle-aged\",\"man\",\"said\",\"over\",\"and\",\"over\",\",\",\"``\",\"why\"  …  \"come\",\"here\",\",\",\"why\",\"did\",\"i\",\"come\",\"here\",\"''\",\".\"],ASCIIString[\"over\",\"here\",\".\",\"over\",\"the\",\"did\",\"why\",\"man\",\"here\",\"said\"  …  \"middle-aged\",\"``\",\"i\",\",\",\"come\",\"''\",\"and\",\"did\",\",\",\"why\"],NaN),(ASCIIString[\"i\",\"have\",\"an\",\"appointment\",\"''\",\".\"],ASCIIString[\"have\",\"''\",\"i\",\".\",\"appointment\",\"an\"],4.0)  …  (ASCIIString[\"1\",\")\"],Any[\"1\",\")\"],3.3066911094793826e-5),(ASCIIString[\"in\",\"this\",\"case\",\",\",\"drilling\",\"a\",\"small\",\"pilot\",\"hole\",\"or\",\"clamping\",\"the\",\"work\",\"will\",\"do\",\"much\",\"to\",\"improve\",\"accuracy\",\".\"],ASCIIString[\"to\",\"clamping\",\"this\",\"accuracy\",\"will\",\"the\",\"small\",\"case\",\"a\",\"in\",\"improve\",\"do\",\"pilot\",\"work\",\".\",\",\",\"or\",\"hole\",\"drilling\",\"much\"],NaN),(ASCIIString[\"``\",\"did\",\"you\",\"hear\",\"tim\",\"return\",\"''\",\"?\",\"?\"],ASCIIString[\"return\",\"''\",\"``\",\"hear\",\"you\",\"did\",\"?\",\"?\",\"tim\"],8.0),(ASCIIString[\"another\",\",\",\"arthur\",\"m.\",\"schlesinger\",\",\",\"jr.\",\",\",\"has\",\"won\",\"a\",\"pulitzer\",\"prize\",\"in\",\"history\",\";\",\";\"],ASCIIString[\"a\",\"has\",\"won\",\"in\",\"another\",\",\",\",\",\"m.\",\",\",\"arthur\",\";\",\";\",\"history\",\"prize\",\"schlesinger\",\"pulitzer\",\"jr.\"],12.0),(ASCIIString[\"he\",\"felt\",\"certain\",\"for\",\"the\",\"first\",\"time\",\"in\",\"his\",\"teaching\"  …  \"satisfying\",\"female\",\"sexual\",\"experience\",\"as\",\"most\",\"males\",\"might\",\"think\",\".\"],ASCIIString[\"teaching\",\"for\",\",\",\"might\",\"essential\",\"the\",\"nearly\",\"men\",\"that\",\"so\"  …  \"a\",\"orgasm\",\"males\",\"for\",\"time\",\".\",\"as\",\"a\",\"that\",\"is\"],NaN),(ASCIIString[\"this\",\"can\",\"be\",\"accomplished\",\"substantially\",\"by\",\"a\",\"continued\",\"trend\",\"toward\"  …  \"detection\",\",\",\"and\",\"control\",\"of\",\"insect\",\"and\",\"disease\",\"infestations\",\".\"],ASCIIString[\".\",\"techniques\",\"program\",\"facilities\",\"a\",\"for\",\"can\",\"to\",\"infestations\",\"more\"  …  \"toward\",\"and\",\"a\",\"a\",\"fire\",\"this\",\"and\",\"periods\",\"and\",\"and\"],NaN),(ASCIIString[\"they\",\"were\",\"climbing\",\"the\",\"hill\",\"in\",\"the\",\"night\",\"when\",\"the\"  …  \"out\",\"into\",\"a\",\"faint\",\"mist\",\"of\",\"light\",\"and\",\"ended\",\".\"],ASCIIString[\"they\",\"into\",\"solid\",\"light\",\"night\",\"climbing\",\"ended\",\"broadened\",\"of\",\"a\"  …  \"in\",\"headlights\",\"out\",\"the\",\"the\",\"mist\",\"tubes\",\"the\",\"became\",\"which\"],NaN),(ASCIIString[\"but\",\"look\",\"at\",\"us\",\"today\",\"!\",\"!\"],Any[\"look\",\"at\",\"us\",\"today\",\"but\",\"!\",\"!\"],1.1606871241031232e-16),(ASCIIString[\"no\",\"wonder\",\"melissa\",\"responded\",\"so\",\"completely\",\"to\",\"its\",\"beckoning\",\".\"],ASCIIString[\"so\",\"to\",\"no\",\"wonder\",\".\",\"its\",\"responded\",\"beckoning\",\"melissa\",\"completely\"],5.0),(ASCIIString[\"her\",\"statement\",\"was\",\"a\",\"hope\",\",\",\"not\",\"a\",\"truth\",\"in\",\"which\",\"they\",\"could\",\"believe\",\".\"],Any[\"a\",\"truth\",\"was\",\",\",\"in\",\"which\",\"they\",\"could\",\"not\",\"believe\",\"her\",\"statement\",\"a\",\"hope\",\".\"],9.104354834661076e-30)],\"fold_10\"=>Any[(ASCIIString[\"thus\",\"a\",\"new\",\"pattern\",\"of\",\"days\",\"began\",\"to\",\"develop\",\",\",\"for\",\"granny\",\"albright\",\"did\",\"not\",\"die\",\".\"],ASCIIString[\"develop\",\"for\",\"days\",\"a\",\"new\",\"to\",\"die\",\"of\",\"not\",\"thus\",\",\",\"did\",\".\",\"began\",\"pattern\",\"albright\",\"granny\"],13.0),(ASCIIString[\"for\",\"two\",\"hours\",\"they\",\"drove\",\"her\",\"from\",\"one\",\"strong\",\"point\"  …  \"the\",\"plain\",\"where\",\"they\",\"could\",\"get\",\"a\",\"good\",\"throw\",\".\"],ASCIIString[\"two\",\"point\",\"her\",\"the\",\",\",\".\",\"the\",\"good\",\"to\",\"for\"  …  \"side\",\"could\",\"where\",\"throw\",\"they\",\"they\",\"onto\",\"to\",\"from\",\"a\"],NaN),(ASCIIString[\"it\",\"is\",\"perhaps\",\"difficult\",\"to\",\"conceive\",\",\",\"but\",\"imagine\",\"that\"  …  \"shakespeare\",\",\",\"and\",\"perhaps\",\"some\",\"lyrics\",\"of\",\"their\",\"own\",\".\"],ASCIIString[\"some\",\"that\",\"perhaps\",\"shakespeare\",\"sing\",\"tonight\",\"gather\",\"of\",\"teddy\",\"east\"  …  \"imagine\",\"difficult\",\"and\",\"herrick\",\"on\",\"lyrics\",\"will\",\",\",\",\",\",\"],NaN),(ASCIIString[\"she\",\"yanked\",\"away\",\"from\",\"him\",\"furiously\",\".\"],ASCIIString[\"from\",\"him\",\"she\",\".\",\"away\",\"furiously\",\"yanked\"],4.0),(ASCIIString[\"seeing\",\"her\",\"caused\",\"a\",\"lurch\",\"in\",\"ramey\",\",\",\"a\",\"recognition\",\".\"],ASCIIString[\"in\",\"seeing\",\"a\",\"recognition\",\",\",\"caused\",\"her\",\"a\",\".\",\"lurch\",\"ramey\"],9.0),(ASCIIString[\"the\",\"sharp\",\"ray\",\"was\",\"absorbed\",\"by\",\"a\",\"cloud\",\",\",\"then\"  …  \"to\",\"the\",\"earth\",\"in\",\"a\",\"softer\",\",\",\"diffused\",\"radiance\",\".\"],ASCIIString[\"to\",\"the\",\"earth\",\"sharp\",\"ray\",\"softer\",\",\",\"the\",\"reflected\",\",\"  …  \"in\",\".\",\"then\",\"diffused\",\"a\",\"cloud\",\"absorbed\",\"was\",\"by\",\"radiance\"],NaN),(ASCIIString[\"he\",\"is\",\"better\",\"fitted\",\"to\",\"perform\",\"his\",\"social\",\"life\",\"among\",\"his\",\"fellows\",\".\"],ASCIIString[\"among\",\"his\",\"better\",\"life\",\"is\",\"he\",\"fitted\",\"his\",\"social\",\"to\",\"perform\",\"fellows\",\".\"],11.0),(ASCIIString[\"the\",\"way\",\"was\",\"opening\",\"up\",\";\",\";\"],Any[\"the\",\"way\",\"was\",\"opening\",\"up\",\";\",\";\"],1.175052774047511e-14),(ASCIIString[\"nevertheless\",\"he\",\"had\",\"ample\",\"opportunity\",\"to\",\"contest\",\"the\",\"statement\",\"before\",\"the\",\"appeal\",\"board\",\".\"],ASCIIString[\"before\",\"had\",\"the\",\"statement\",\"to\",\"appeal\",\"board\",\"the\",\"opportunity\",\".\",\"nevertheless\",\"ample\",\"he\",\"contest\"],10.0),(ASCIIString[\"he\",\"said\",\"she\",\"would\",\"only\",\"hurt\",\"herself\",\".\"],ASCIIString[\"would\",\"she\",\"herself\",\"only\",\"said\",\"he\",\".\",\"hurt\"],7.0)  …  (ASCIIString[\"religion\",\"has\",\"its\",\"own\",\"supernatural\",\"prescriptions\",\"that\",\"are\",\"at\",\"the\"  …  \"time\",\"codes\",\"of\",\"behavior\",\"for\",\"the\",\"here\",\"and\",\"now\",\".\"],ASCIIString[\"prescriptions\",\"codes\",\"for\",\"own\",\"has\",\"are\",\"at\",\"and\",\"that\",\"religion\"  …  \"here\",\"its\",\"time\",\"the\",\".\",\"now\",\"supernatural\",\"same\",\"the\",\"behavior\"],NaN),(ASCIIString[\"by\",\"reminding\",\"ourselves\",\"of\",\"these\",\"factors\",\"in\",\"the\",\"situation\",\",\"  …  \"between\",\"parker\",\"and\",\"his\",\"neighbors\",\"was\",\"fought\",\"in\",\"earnest\",\".\"],ASCIIString[\"that\",\"fought\",\"it\",\".\",\"factors\",\"am\",\",\",\"come\",\"was\",\"earnest\"  …  \"and\",\"fresh\",\"be\",\"neighbors\",\"parker\",\"realization\",\"situation\",\"we\",\"painful\",\"in\"],NaN),(ASCIIString[\"bernard\",\"heuvelmans\",\"also\",\"treats\",\"of\",\"the\",\"largest\",\"snakes\",\",\",\"but\"  …  \"level\",\",\",\"and\",\"is\",\"chiefly\",\"concerned\",\"with\",\"the\",\"anaconda\",\".\"],ASCIIString[\"snakes\",\"largest\",\"with\",\"concerned\",\"chiefly\",\"third\",\"but\",\"is\",\"on\",\"anaconda\"  …  \"heuvelmans\",\"the\",\",\",\",\",\"and\",\".\",\"level\",\"the\",\"also\",\"bernard\"],NaN),(ASCIIString[\"some\",\"church\",\"leaders\",\",\",\"both\",\"clerical\",\"and\",\"lay\",\",\",\"have\"  …  \"the\",\"university\",\"for\",\"not\",\"taking\",\"the\",\"lead\",\"in\",\"desegregation\",\".\"],ASCIIString[\"the\",\"criticized\",\"taking\",\"leaders\",\"clerical\",\".\",\"have\",\"for\",\"lay\",\"in\"  …  \"church\",\",\",\"university\",\"both\",\"some\",\"the\",\"not\",\",\",\"and\",\"desegregation\"],NaN),(ASCIIString[\"recordings\",\";\",\";\"],ASCIIString[\";\",\";\",\"recordings\"],2.0),(ASCIIString[\"woven\",\"fabrics\",\"to\",\"be\",\"dried\",\"by\",\"procedure\",\"b\",\"(\",\"flat-bed\"  …  \"or\",\"restored\",\"by\",\"procedure\",\"3\",\"(\",\"hand\",\"ironing\",\")\",\":\"],ASCIIString[\"by\",\"(\",\"procedure\",\"flat-bed\",\"procedure\",\"(\",\"fabrics\",\"ironing\",\"or\",\"by\"  …  \"restored\",\")\",\")\",\"be\",\"b\",\"hand\",\":\",\"dried\",\"woven\",\"pressed\"],NaN),(ASCIIString[\"the\",\"merchant\",\"marine\",\"is\",\"the\",\"``\",\"fourth\",\"arm\",\"of\",\"defense\"  …  \"essential\",\"to\",\"the\",\"economy\",\"and\",\"security\",\"of\",\"our\",\"nation\",\".\"],ASCIIString[\"arm\",\"marine\",\"strong\",\"merchant\",\"effective\",\"nation\",\"security\",\"for\",\"our\",\"merchant\"  …  \"the\",\".\",\"and\",\"to\",\"fourth\",\"is\",\"essential\",\"economy\",\"the\",\"defense\"],NaN),(ASCIIString[\"an\",\"extension\",\"of\",\"2\",\"months\",\"beyond\",\"the\",\"regular\",\"due\",\"date\"  …  \"available\",\"to\",\"taxpayers\",\"making\",\"returns\",\"for\",\"a\",\"fiscal\",\"year\",\".\"],ASCIIString[\"months\",\"due\",\"for\",\"year\",\"of\",\"filing\",\"for\",\"extension\",\"an\",\"available\"  …  \".\",\"to\",\"beyond\",\"a\",\"2\",\"fiscal\",\"also\",\"is\",\"regular\",\"the\"],NaN),(ASCIIString[\"(\",\"1\",\")\",\"''\"],Any[\"''\",\"(\",\"1\",\")\"],9.480058182926879e-8),(ASCIIString[\"when\",\"we\",\"repeat\",\"the\",\"remark\",\"that\",\"such\",\"suffering\",\"was\",\"a\"  …  \"we\",\"did\",\"before\",\",\",\"we\",\"should\",\"certainly\",\"answer\",\"yes\",\".\"],ASCIIString[\"what\",\"near\",\"such\",\"we\",\"but\",\"it\",\"the\",\"should\",\"the\",\"vanishing\"  …  \"that\",\"feeling\",\"to\",\"at\",\"answer\",\"or\",\"suffering\",\"whether\",\"point\",\"we\"],NaN)],\"fold_4\"=>Any[(ASCIIString[\"banks\",\"the\",\"butcher\",\"took\",\"meltzer\",\"the\",\"scholar\",\"as\",\"an\",\"apprentice\"  …  \"the\",\"commentaries\",\"of\",\"the\",\"talmud\",\"in\",\"order\",\"to\",\"live\",\".\"],ASCIIString[\"made\",\"the\",\"do\",\"to\",\"in\",\"scholar\",\"must\",\"just\",\".\",\"apprentice\"  …  \"it\",\"able\",\"man\",\"butcher\",\"live\",\"learning\",\"banks\",\"the\",\"he\",\"meltzer\"],NaN),(ASCIIString[\"or\",\"to\",\"let\",\"the\",\"ethical\",\"be\",\"superseded\",\"by\",\"the\",\"purposive\",\".\"],ASCIIString[\"be\",\"to\",\"or\",\"let\",\".\",\"superseded\",\"purposive\",\"ethical\",\"the\",\"the\",\"by\"],5.0),(ASCIIString[\"if\",\"this\",\"capacity\",\"had\",\"not\",\"failed\",\"them\",\",\",\"they\",\"would\",\"see\",\"that\",\"their\",\"enemy\",\"has\",\"made\",\"a\",\"disastrous\",\"miscalculation\",\".\"],ASCIIString[\"if\",\"enemy\",\"them\",\"this\",\"see\",\"disastrous\",\"a\",\"they\",\".\",\"miscalculation\",\"capacity\",\"had\",\"would\",\"made\",\",\",\"has\",\"their\",\"that\",\"not\",\"failed\"],NaN),(ASCIIString[\"the\",\"high\",\"court\",\"held\",\"that\",\"the\",\"company\",\"must\",\"apply\",\"its\"  …  \"ground\",\",\",\"not\",\"to\",\"the\",\"revenue\",\"from\",\"finished\",\"products\",\".\"],ASCIIString[\"finished\",\"that\",\"value\",\"the\",\"products\",\"the\",\"to\",\"held\",\"the\",\"company\"  …  \"the\",\"of\",\"revenue\",\"allowance\",\"must\",\"to\",\".\",\"raw\",\"materials\",\"removed\"],NaN),(ASCIIString[\"even\",\"on\",\"his\",\"tough\",\"constitution\",\",\",\"the\",\"exposure\",\"and\",\"strenuous\",\"activity\",\"were\",\"beginning\",\"to\",\"tell\",\"in\",\"earnest\",\".\"],ASCIIString[\"tell\",\"the\",\"constitution\",\",\",\"on\",\"to\",\"even\",\"beginning\",\"his\",\"in\",\"earnest\",\"and\",\"strenuous\",\"activity\",\"were\",\".\",\"exposure\",\"tough\"],16.0),(ASCIIString[\"the\",\"orator\",\"of\",\"this\",\"period\",\",\",\"in\",\"order\",\"to\",\"earn\"  …  \"it\",\"would\",\"have\",\"on\",\"the\",\"audience\",\"that\",\"heard\",\"it\",\".\"],ASCIIString[\"as\",\"the\",\"well\",\"orator\",\"appear\",\"judging\",\"effect\",\"earn\",\"of\",\"had\"  …  \"heard\",\"audience\",\".\",\"that\",\"a\",\"of\",\"to\",\"print\",\"how\",\"it\"],NaN),(ASCIIString[\"she\",\"learns\",\"how\",\"to\",\"relax\",\"them\",\"to\",\"accept\",\"--\",\"instead\",\"of\",\"contracting\",\"them\",\"to\",\"repel\",\"--\",\"the\",\"entering\",\"object\",\".\"],ASCIIString[\"object\",\"to\",\"contracting\",\"she\",\"accept\",\"to\",\"of\",\"the\",\"learns\",\"entering\",\"to\",\"repel\",\"relax\",\"them\",\"instead\",\"how\",\".\",\"--\",\"them\",\"--\"],NaN),(ASCIIString[\"adam\",\"watched\",\"his\",\"own\",\"hands\",\"make\",\"the\",\"caressing\",\",\",\"anxious\"  …  \"has\",\"been\",\"the\",\"ritual\",\"of\",\"stall\",\"vendors\",\",\",\"forever\",\".\"],ASCIIString[\"rain\",\"ruin\",\",\",\"and\",\"watched\",\"ankles\",\"the\",\"cat\",\"vendors\",\"that\"  …  \"rubbing\",\"make\",\"close\",\"ritual\",\"caressing\",\"stall\",\"against\",\"hands\",\"his\",\"comes\"],NaN),(ASCIIString[\"the\",\"part\",\"of\",\"the\",\"mind\",\"that\",\"preserves\",\"dates\",\"and\",\"events\"  …  \"like\",\"that\",\"for\",\"only\",\"a\",\"little\",\"while\",\"''\",\";\",\";\"],ASCIIString[\"have\",\"been\",\"a\",\";\",\"and\",\"of\",\"could\",\"the\",\"that\",\"mind\"  …  \"dates\",\"may\",\"remonstrate\",\"like\",\"for\",\"it\",\"``\",\"that\",\"the\",\";\"],NaN),(ASCIIString[\"we\",\"did\",\"that\",\".\"],Any[\"we\",\"did\",\"that\",\".\"],7.051591140029001e-9)  …  (ASCIIString[\"the\",\"entrance\",\"to\",\"a\",\"church\",\"has\",\"been\",\"walled\",\"up\",\",\"  …  \"the\",\"western\",\"sector\",\",\",\"cannot\",\"worship\",\"god\",\"there\",\"anymore\",\".\"],ASCIIString[\"in\",\",\",\"is\",\"which\",\"up\",\"cannot\",\"there\",\"congregation\",\"church\",\"the\"  …  \",\",\"the\",\"that\",\",\",\"to\",\"been\",\"anymore\",\"the\",\"has\",\".\"],NaN),(ASCIIString[\"there\",\"seems\",\"to\",\"be\",\"almost\",\"a\",\"conspiracy\",\"of\",\"silence\",\"veiling\",\"it\",\".\"],ASCIIString[\"silence\",\"of\",\"conspiracy\",\"to\",\"it\",\"almost\",\"be\",\"there\",\"seems\",\"a\",\".\",\"veiling\"],11.0),(ASCIIString[\"ruger\",\"reports\",\"that\",\"on\",\"his\",\"recent\",\"african\",\"safari\",\"the\",\"little\",\"magnum\",\"cartridge\",\"was\",\"a\",\"real\",\"work\",\"horse\",\".\"],ASCIIString[\"reports\",\"that\",\"little\",\"on\",\"his\",\"horse\",\"was\",\"work\",\"the\",\"a\",\"magnum\",\"african\",\"ruger\",\".\",\"safari\",\"cartridge\",\"recent\",\"real\"],11.0),(ASCIIString[\"--\",\"fetch\",\"me\",\"the\",\"copies\",\"of\",\"everything\",\"b\",\"and\",\"c\",\"companies\",\"have\",\"requisitioned\",\"in\",\"the\",\"last\",\"six\",\"months\",\".\"],ASCIIString[\"and\",\"b\",\".\",\"me\",\"the\",\"last\",\"c\",\"have\",\"in\",\"six\",\"of\",\"--\",\"companies\",\"the\",\"everything\",\"copies\",\"fetch\",\"requisitioned\",\"months\"],NaN),(ASCIIString[\"another\",\"problem\",\"in\",\"the\",\"area\",\"of\",\"federal-state\",\"relationships\",\"is\",\"this\"  …  \"what\",\"constitutes\",\"reversible\",\"error\",\"in\",\"a\",\"state\",\"decision\",\"?\",\"?\"],ASCIIString[\"area\",\"of\",\"in\",\"this\",\"what\",\"decision\",\"?\",\"error\",\"federal-state\",\"another\"  …  \"in\",\"constitutes\",\":\",\"state\",\"relationships\",\"problem\",\"is\",\"reversible\",\"the\",\"?\"],NaN),(ASCIIString[\"indeed\",\",\",\"with\",\"developed\",\"positivism\",\",\",\"the\",\"separation\",\"of\",\"law\"  …  \",\",\"or\",\"from\",\"morality\",\"generally\",\",\",\"became\",\"quite\",\"specific\",\".\"],ASCIIString[\"justice\",\"specific\",\",\",\"separation\",\"from\",\",\",\"indeed\",\",\",\"the\",\"of\"  …  \"positivism\",\"morality\",\"became\",\"developed\",\".\",\"generally\",\"law\",\"from\",\"quite\",\"with\"],NaN),(ASCIIString[\"as\",\"the\",\"temperature\",\"decreased\",\",\",\"the\",\"number\",\"of\",\"free\",\"swimming\",\"ciliated\",\"protozoa\",\"decreased\",\".\"],ASCIIString[\"number\",\",\",\"free\",\"the\",\"temperature\",\"of\",\"as\",\"the\",\"swimming\",\"ciliated\",\"decreased\",\".\",\"protozoa\",\"decreased\"],9.0),(ASCIIString[\"rather\",\"what\",\"kornbluth\",\"and\",\"pohl\",\"are\",\"really\",\"doing\",\"is\",\"warning\"  …  \"``\",\"a\",\"science\",\"of\",\"man\",\"and\",\"his\",\"motives\",\"''\",\".\"],ASCIIString[\"are\",\"really\",\"perfecting\",\"a\",\"''\",\"inherent\",\"the\",\"and\",\"in\",\"``\"  …  \"and\",\"man\",\"pohl\",\"his\",\"against\",\"science\",\"warning\",\".\",\"what\",\"dangers\"],NaN),(ASCIIString[\"the\",\"chances\",\"were\",\"against\",\"his\",\"being\",\"here\",\"to\",\"humor\",\"her\",\"when\",\"her\",\"time\",\"came\",\",\",\"she\",\"was\",\"sure\",\".\"],ASCIIString[\"her\",\"his\",\"she\",\"the\",\",\",\"here\",\"her\",\"came\",\"time\",\"being\",\"sure\",\"was\",\"to\",\"humor\",\"when\",\"chances\",\".\",\"were\",\"against\"],NaN),(ASCIIString[\"the\",\"sand\",\"is\",\"fine\",\"and\",\"pleasant\",\",\",\"the\",\"cabanas\",\"are\"  …  \"raspberry\",\",\",\"and\",\"butter\",\"yellow\",\",\",\"are\",\"very\",\"gay\",\".\"],ASCIIString[\"the\",\"clean\",\"and\",\"green\",\"raspberry\",\",\",\"are\",\"very\",\"parasols\",\"pleasant\"  …  \",\",\",\",\"the\",\"is\",\"butter\",\"yellow\",\"cabanas\",\"are\",\".\",\"and\"],NaN)])"
      ]
     },
     "execution_count": 19,
     "metadata": {},
     "output_type": "execute_result"
    }
   ],
   "source": [
    "#folds50 = load(\"results/ordered/brown_glove50_ordered.jld\")\n",
    "#folds100 = load(\"results/ordered/brown_glove100_ordered.jld\")\n",
    "#folds200 = load(\"results/ordered/brown_glove200_ordered.jld\")\n",
    "#folds300 = load(\"results/ordered/brown_glove300_orderedv2.jld\")\n",
    "folds_oracle = load(\"results/ordered/oracle_ordered_vA1000.jld\")\n",
    "all_ordered_exp_folds = Any[folds_oracle]#[folds50,folds100,folds200,folds300,folds_oracle]"
   ]
  },
  {
   "cell_type": "code",
   "execution_count": 32,
   "metadata": {
    "collapsed": false
   },
   "outputs": [
    {
     "data": {
      "text/plain": [
       "get_bleu_score (generic function with 1 method)"
      ]
     },
     "execution_count": 32,
     "metadata": {},
     "output_type": "execute_result"
    },
    {
     "data": {
      "text/plain": [
       "get_bleu_score (generic function with 1 method)"
      ]
     },
     "execution_count": 32,
     "metadata": {},
     "output_type": "execute_result"
    }
   ],
   "source": [
    "function get_bleu_score(folds)\n",
    "    bleu_scores = map(keys(folds), values(folds)) do fold_name,res\n",
    "        fold_bleu_scores = Float64[]\n",
    "        for (reference, candidate, prob) in res\n",
    "            push!(fold_bleu_scores, bleu_score(candidate, reference))\n",
    "        end\n",
    "        fold_bleu_scores\n",
    "    end\n",
    "end"
   ]
  },
  {
   "cell_type": "code",
   "execution_count": null,
   "metadata": {
    "collapsed": true
   },
   "outputs": [],
   "source": [
    "attempted_only{T}(fold::Vector{T}) = filter(eap->!isnan(eap[3]), fold)\n",
    "nongiveup_only{T}(fold::Vector{T}) = filter(eap->0<eap[3]<1, fold)\n",
    "\n",
    "attempted_only{T}(folds::Vector{Vector{T}}) = map(attempted_only, folds)\n",
    "nongiveup_only{T}(folds::Vector{Vector{T}}) = map(nongiveup_only, folds)"
   ]
  },
  {
   "cell_type": "code",
   "execution_count": 35,
   "metadata": {
    "collapsed": false
   },
   "outputs": [
    {
     "data": {
      "text/plain": [
       "1-element Array{Any,1}:\n",
       " 0.102546"
      ]
     },
     "execution_count": 35,
     "metadata": {},
     "output_type": "execute_result"
    },
    {
     "data": {
      "text/plain": [
       "1-element Array{Any,1}:\n",
       " 0.102546"
      ]
     },
     "execution_count": 35,
     "metadata": {},
     "output_type": "execute_result"
    }
   ],
   "source": [
    "bleu_scores = map(all_ordered_exp_folds) do folds\n",
    "    bleu_scores = get_bleu_score(folds);\n",
    "    map(mean, bleu_scores) |> mean\n",
    "end"
   ]
  },
  {
   "cell_type": "code",
   "execution_count": 34,
   "metadata": {
    "collapsed": false
   },
   "outputs": [
    {
     "data": {
      "text/plain": [
       "1-element Array{Any,1}:\n",
       " 0.504141"
      ]
     },
     "execution_count": 34,
     "metadata": {},
     "output_type": "execute_result"
    },
    {
     "data": {
      "text/plain": [
       "1-element Array{Any,1}:\n",
       " 0.504141"
      ]
     },
     "execution_count": 34,
     "metadata": {},
     "output_type": "execute_result"
    }
   ],
   "source": [
    "bleu_scores_no_giveup = map(all_ordered_exp_folds) do folds\n",
    "    mean([mean([bleu_score(eap[1], eap[2]) for eap in nongiveup_only(attempted_only(fold))]) for fold in values(folds)])\n",
    "end"
   ]
  },
  {
   "cell_type": "code",
   "execution_count": 26,
   "metadata": {
    "collapsed": false
   },
   "outputs": [
    {
     "data": {
      "text/plain": [
       "1-element Array{Any,1}:\n",
       " 0.715619"
      ]
     },
     "execution_count": 26,
     "metadata": {},
     "output_type": "execute_result"
    },
    {
     "data": {
      "text/plain": [
       "1-element Array{Any,1}:\n",
       " 0.715619"
      ]
     },
     "execution_count": 26,
     "metadata": {},
     "output_type": "execute_result"
    }
   ],
   "source": [
    "giveups = map(all_ordered_exp_folds) do folds\n",
    "    mean([mean(Bool[!(0<eap[3]<1) for eap in attempted_only(fold)]) for fold in values(folds)])\n",
    "end"
   ]
  },
  {
   "cell_type": "code",
   "execution_count": null,
   "metadata": {
    "collapsed": false
   },
   "outputs": [],
   "source": [
    "exact_matchs = map(all_ordered_exp_folds) do folds\n",
    "    mean([mean(Bool[eap[1]==eap[2] for eap in attempted_only(fold)]) for fold in values(folds)])\n",
    "end"
   ]
  },
  {
   "cell_type": "code",
   "execution_count": null,
   "metadata": {
    "collapsed": false
   },
   "outputs": [],
   "source": [
    "exact_matchs_no_giveup = map(all_ordered_exp_folds) do folds\n",
    "    mean([mean(Bool[eap[1]==eap[2] for eap in nongiveup_only(attempted_only(fold))]) for fold in values(folds)])\n",
    "end"
   ]
  },
  {
   "cell_type": "code",
   "execution_count": null,
   "metadata": {
    "collapsed": false
   },
   "outputs": [],
   "source": [
    "ordering_res = DataFrame(Model=[exp_names..., \"Oracle BOW\"])\n",
    "ordering_res[symbol(\"BLEU Score\")]=bleu_scores\n",
    "ordering_res[symbol(\"Exact Ordered Matches\")]=exact_matchs\n",
    "ordering_res[symbol(\"Giveups\")]=giveups\n",
    "ordering_res[symbol(\"BLEU Score Excluding Giveups\")]=bleu_scores_no_giveup\n",
    "ordering_res[symbol(\"Exact Ordered Matches Excluding Giveups\")]=exact_matchs_no_giveup\n",
    "writetable(OUTPUT_DIR*\"ordering_scores.csv\", ordering_res)\n",
    "ordering_res"
   ]
  },
  {
   "cell_type": "code",
   "execution_count": null,
   "metadata": {
    "collapsed": true
   },
   "outputs": [],
   "source": []
  },
  {
   "cell_type": "code",
   "execution_count": null,
   "metadata": {
    "collapsed": true
   },
   "outputs": [],
   "source": []
  },
  {
   "cell_type": "code",
   "execution_count": null,
   "metadata": {
    "collapsed": true
   },
   "outputs": [],
   "source": [
    "########"
   ]
  },
  {
   "cell_type": "code",
   "execution_count": null,
   "metadata": {
    "collapsed": false
   },
   "outputs": [],
   "source": [
    "fold_indexes=load(\"brown_glove_folds.jld\",\"fold_indexes\");"
   ]
  },
  {
   "cell_type": "code",
   "execution_count": null,
   "metadata": {
    "collapsed": false
   },
   "outputs": [],
   "source": [
    "function fold(data, fold_indexes)\n",
    "    ret = Dict()\n",
    "    for (fold_number,fold_iis) in enumerate(fold_indexes)\n",
    "        ret[\"fold_$(fold_number)\"] = data[fold_iis]\n",
    "    end\n",
    "    ret\n",
    "end"
   ]
  },
  {
   "cell_type": "code",
   "execution_count": null,
   "metadata": {
    "collapsed": true
   },
   "outputs": [],
   "source": []
  },
  {
   "cell_type": "code",
   "execution_count": null,
   "metadata": {
    "collapsed": false
   },
   "outputs": [],
   "source": [
    "jaccard_folds_300 = fold(bag_res[:glove300_jaccard], fold_indexes)"
   ]
  },
  {
   "cell_type": "code",
   "execution_count": null,
   "metadata": {
    "collapsed": false
   },
   "outputs": [],
   "source": [
    "[jaccard_folds_300[\"fold_6\"] bleu_scores300[1]]"
   ]
  },
  {
   "cell_type": "code",
   "execution_count": null,
   "metadata": {
    "collapsed": false
   },
   "outputs": [],
   "source": [
    "get_bleu_score(folds300,  count_give_ups=true, count_nonattepts=true);"
   ]
  },
  {
   "cell_type": "code",
   "execution_count": null,
   "metadata": {
    "collapsed": true
   },
   "outputs": [],
   "source": []
  }
 ],
 "metadata": {
  "kernelspec": {
   "display_name": "Julia 0.5.0-dev",
   "language": "julia",
   "name": "julia-0.5"
  },
  "language_info": {
   "file_extension": ".jl",
   "mimetype": "application/julia",
   "name": "julia",
   "version": "0.5.0"
  }
 },
 "nbformat": 4,
 "nbformat_minor": 0
}
