{
 "cells": [
  {
   "cell_type": "code",
   "execution_count": 1,
   "metadata": {
    "collapsed": false
   },
   "outputs": [
    {
     "name": "stderr",
     "output_type": "stream",
     "text": [
      "WARNING: module DataStructuresExtended should explicitly import == from Base\n"
     ]
    }
   ],
   "source": [
    "using FunctionalCollections\n",
    "using Iterators\n",
    "using Pipe\n",
    "using Compat\n",
    "\n",
    "macro printval(ee)\n",
    "    ee_expr = @sprintf \"%s\" string(ee)\n",
    "    esc(:(println($ee_expr,\" = \", $ee)))\n",
    "end\n",
    "\n",
    "macro pz(ee)\n",
    "    ee_expr = @sprintf \"%s\" string(ee)\n",
    "    esc(:(println($ee_expr,\"\\t\\t\",typeof($ee), \"\\t\", size($ee))))\n",
    "end\n",
    "\n",
    "push!(LOAD_PATH, \".\")\n",
    "push!(LOAD_PATH, \"../util/\")\n",
    "using DataStructures\n",
    "using DataStructuresExtended\n",
    "using JLD\n",
    "using DataFrames"
   ]
  },
  {
   "cell_type": "code",
   "execution_count": 2,
   "metadata": {
    "collapsed": false
   },
   "outputs": [
    {
     "data": {
      "text/plain": [
       "groupby_value (generic function with 1 method)"
      ]
     },
     "execution_count": 2,
     "metadata": {},
     "output_type": "execute_result"
    }
   ],
   "source": [
    "function groupby_value(fn::Function, xs)\n",
    "    key_type = typeof(fn(first(xs)))\n",
    "    group_type = Vector{typeof(first(xs))}\n",
    "    groups = Dict{key_type, group_type}()\n",
    "    \n",
    "    for x in xs\n",
    "        key = fn(x)\n",
    "        group = get!(()->group_type(), groups, key)\n",
    "        push!(group, x)\n",
    "    end\n",
    "    groups\n",
    "end"
   ]
  },
  {
   "cell_type": "code",
   "execution_count": 3,
   "metadata": {
    "collapsed": false
   },
   "outputs": [
    {
     "data": {
      "text/plain": [
       "\"../../documents_prepared/Journal Papers/SumResynthesis/data/\""
      ]
     },
     "execution_count": 3,
     "metadata": {},
     "output_type": "execute_result"
    }
   ],
   "source": [
    "OUTPUT_DIR = \"../../documents_prepared/Journal\\ Papers/SumResynthesis/data/\""
   ]
  },
  {
   "cell_type": "code",
   "execution_count": null,
   "metadata": {
    "collapsed": true
   },
   "outputs": [],
   "source": []
  },
  {
   "cell_type": "code",
   "execution_count": null,
   "metadata": {
    "collapsed": false
   },
   "outputs": [],
   "source": []
  },
  {
   "cell_type": "code",
   "execution_count": 4,
   "metadata": {
    "collapsed": false
   },
   "outputs": [
    {
     "data": {
      "text/plain": [
       "jaccard_index (generic function with 2 methods)"
      ]
     },
     "execution_count": 4,
     "metadata": {},
     "output_type": "execute_result"
    }
   ],
   "source": [
    "function jaccard_index(aa::DataStructures.Accumulator,bb::DataStructures.Accumulator)\n",
    "    sum(intersect(aa,bb))/sum(union(aa,bb))\n",
    "end\n",
    "\n",
    "function jaccard_index(aa,bb)\n",
    "    length(intersect(aa,bb))/length(union(aa,bb))\n",
    "end"
   ]
  },
  {
   "cell_type": "code",
   "execution_count": 5,
   "metadata": {
    "collapsed": false
   },
   "outputs": [
    {
     "data": {
      "text/plain": [
       "recall (generic function with 1 method)"
      ]
     },
     "execution_count": 5,
     "metadata": {},
     "output_type": "execute_result"
    }
   ],
   "source": [
    "function precision(actual::DataStructures.Accumulator,reference::DataStructures.Accumulator)\n",
    "    sum(intersect(actual,reference))/sum(actual)\n",
    "end\n",
    "function recall(actual::DataStructures.Accumulator,reference::DataStructures.Accumulator)\n",
    "    sum(intersect(actual,reference))/sum(reference)\n",
    "end"
   ]
  },
  {
   "cell_type": "code",
   "execution_count": 10,
   "metadata": {
    "collapsed": false,
    "scrolled": true
   },
   "outputs": [
    {
     "data": {
      "text/plain": [
       "flatten_raw_blocked_records (generic function with 1 method)"
      ]
     },
     "execution_count": 10,
     "metadata": {},
     "output_type": "execute_result"
    }
   ],
   "source": [
    "\n",
    "function flatten_blocked_records{T<:Number, V}(records::Dict{T,V})  \n",
    "    rec_types = @pipe records |> values |> map(typeof,_) |> union\n",
    "    rec_type = length(rec_types)==1 ? rec_types[1] : V\n",
    "    ret = rec_type() #Construct it, it is some form of vector, or we will error soon\n",
    "    sizehint!(ret) = sum([length(r) for r in values(records)])\n",
    "    \n",
    "    sorted_keys = @pipe records |> keys |> collect |> sort\n",
    "    for key in sorted_keys\n",
    "        push!(ret, records[key]...)\n",
    "    end\n",
    "    ret\n",
    "end\n",
    "\n",
    "function flatten_raw_blocked_records{T,V}(records::Dict{T,V})  \n",
    "    key_types = @pipe records |> keys|> map(parse,_) |> map(typeof,_) |> union\n",
    "    @assert length(key_types)==1\n",
    "    key_type =  key_types[1]\n",
    "    \n",
    "    rec_types = @pipe records |> values |> map(typeof,_) |> union\n",
    "    rec_type = length(rec_types)==1 ? rec_types[1] : V\n",
    "    flatten_blocked_records(Dict(Pair{key_type, rec_type}[parse(k)=>v for (k,v) in records]))\n",
    "end"
   ]
  },
  {
   "cell_type": "code",
   "execution_count": 11,
   "metadata": {
    "collapsed": false,
    "scrolled": true
   },
   "outputs": [
    {
     "data": {
      "text/plain": [
       "6677-element Array{Tuple{Array{ASCIIString,1},Array{ASCIIString,1},Float32},1}:\n",
       " (ASCIIString[\"``\",\"you\",\"would\",\"destroy\",\"a\",\"book\",\"that\",\"even\",\"the\",\"quran\",\"calls\",\"holy\",\"?\",\"''\"],ASCIIString[\"``\",\"you\",\"holy\",\"would\",\"book\",\"that\",\"a\",\"quran\",\"destroy\",\"calls\",\"the\",\"even\",\"?\",\"''\"],-2.5348536f-6)                                                                                                                                                             \n",
       " (ASCIIString[\"im\",\"glad\",\"that\",\"i\",\"left\",\"henderson\",\".\"],ASCIIString[\"i\",\"left\",\"im\",\"that\",\"henderson\",\"glad\",\".\"],-1.4708529f-6)                                                                                                                                                                                                                                                         \n",
       " (ASCIIString[\"he\",\"ran\",\"around\",\"the\",\"student\",\"apartments\",\"yelling\",\"fire\",\",\",\"fire\",\"!\"],ASCIIString[\"fire\",\"fire\",\"he\",\"!\",\"around\",\"ran\",\"apartments\",\"the\",\"yelling\",\",\",\"student\"],-1.987755f-6)                                                                                                                                                                                    \n",
       " (ASCIIString[\"but\",\"i\",\"dont\",\"like\",\"him\",\",\",\"hes\",\"just\",\"a\",\"child\",\".\"],ASCIIString[\"i\",\"a\",\"him\",\"child\",\"just\",\".\",\"hes\",\"dont\",\",\",\"like\",\"but\"],-3.2059427f-6)                                                                                                                                                                                                                       \n",
       " (ASCIIString[\"oh\",\",\",\"you\",\"wont\",\"see\",\"a\",\"politician\",\"within\",\"miles\",\"of\",\"that\",\"discussion\",\",\",\"trust\",\"me\",\"on\",\"that\",\"one\",\".\"],ASCIIString[\"you\",\"it\",\"you\",\"that\",\"a\",\"about\",\"one\",\",\",\"of\",\"see\"  …  \"oh\",\"on\",\"togan\",\"travelled\",\"co-founders\",\",\",\"respiro\",\"____________________________________________\",\"put\",\"there\"],-9.237698f0)                                     \n",
       " (ASCIIString[\"but\",\",\",\"like\",\"i\",\"said\",\",\",\"i\",\"know\",\"you\",\"had\",\"nothing\",\"to\",\"do\",\"with\",\"it\",\".\"],ASCIIString[\"i\",\"i\",\"it\",\"but\",\",\",\"with\",\"to\",\",\",\"like\",\".\",\"nothing\",\"know\",\"said\",\"do\",\"you\",\"had\"],-5.4373804f-6)                                                                                                                                                               \n",
       " (ASCIIString[\"manny\",\",\",\"please\",\",\",\"let\",\"mcdermott\",\"do\",\"his\",\"job\",\".\"],ASCIIString[\"do\",\"his\",\",\",\"please\",\"manny\",\",\",\"mcdermott\",\"job\",\".\",\"let\"],-2.514326f-6)                                                                                                                                                                                                                      \n",
       " (ASCIIString[\"the\",\"only\",\"thing\",\"we\",\"both\",\"knew\",\"was\",\"that\",\"we\",\"wanted\"  …  \"understand\",\"beyond\",\"the\",\"conventional\",\"avenues\",\"of\",\"learning\",\"and\",\"reasoning\",\".\"],ASCIIString[\"we\",\"we\",\"not\",\"to\",\"what\",\"the\",\"that\",\"to\",\"of\",\"he\"  …  \"thing\",\"and\",\"__________________________________\",\"understand\",\".\",\"wanted\",\"importantly\",\"two\",\"sebek\",\"gentrys\"],-7.1629667f0)     \n",
       " (ASCIIString[\"we\",\"walked\",\"outside\",\"to\",\"discover\",\"the\",\"island\",\"lit\",\"up\",\"from\",\"one\",\"end\",\"to\",\"the\",\"other\",\".\"],ASCIIString[\"to\",\"we\",\"to\",\"the\",\"from\",\"one\",\"outside\",\"the\",\"up\",\"island\",\".\",\"lit\",\"discover\",\"walked\",\"end\",\"other\"],-3.1469885f-6)                                                                                                                             \n",
       " (ASCIIString[\"i\",\"didnt\",\"want\",\"to\",\"talk\",\"about\",\"my\",\"mom\",\",\",\"or\",\"share\",\"about\",\"the\",\"package\",\".\"],ASCIIString[\"i\",\"about\",\"about\",\"to\",\"my\",\"share\",\"package\",\"or\",\"the\",\"talk\",\"want\",\",\",\"didnt\",\"mom\",\".\"],-5.4213165f-6)                                                                                                                                                       \n",
       " (ASCIIString[\"but\",\"ill\",\"think\",\"of\",\"something\",\".\"],ASCIIString[\"of\",\"ill\",\"something\",\".\",\"think\",\"but\"],-1.4943615f-6)                                                                                                                                                                                                                                                                   \n",
       " (ASCIIString[\"he\",\"had\",\"been\",\"preparing\",\"for\",\"something\",\"that\",\"would\",\"be\",\"unthinkable\",\"to\",\"most\",\"people\",\".\"],ASCIIString[\"be\",\"would\",\"he\",\"people\",\"for\",\"been\",\"that\",\"most\",\"to\",\"unthinkable\",\"had\",\"preparing\",\"something\",\".\"],-5.148057f-6)                                                                                                                                \n",
       " (ASCIIString[\"the\",\"third\",\"was\",\"rather\",\"the\",\"worse\",\"for\",\"drink\",\",\",\"it\",\"seemed\",\",\",\"and\",\"was\",\"being\",\"supported\",\"by\",\"his\",\"companions\",\".\"],ASCIIString[\"be\",\"was\",\"he\",\"it\",\"for\",\"was\",\"their\",\"the\",\"by\",\",\"  …  \"seemingly\",\"brainchild\",\",\",\"axilla\",\"____________________________________________\",\".\",\"companions\",\"criticized\",\"saw\",\"second\"],-8.401611f0)              \n",
       " ⋮                                                                                                                                                                                                                                                                                                                                                                                             \n",
       " (ASCIIString[\"i\",\"tightly\",\"wrapped\",\"my\",\"arms\",\"around\",\"him\",\".\"],ASCIIString[\"my\",\"i\",\"arms\",\"around\",\"tightly\",\"him\",\"wrapped\",\".\"],-2.087722f-6)                                                                                                                                                                                                                                        \n",
       " (ASCIIString[\"i\",\"was\",\"nearly\",\"sitting\",\"on\",\"top\",\"of\",\"him\",\"at\",\"this\"  …  \",\",\"and\",\"good\",\"lord\",\",\",\"did\",\"he\",\"smell\",\"good\",\".\"],ASCIIString[\"i\",\"he\",\"him\",\"it\",\"at\",\"good\",\"on\",\"of\",\"he\",\"this\"  …  \"concomitant\",\"a.k.a.\",\"trailing\",\"____________________________________________\",\"liron\",\"was\",\"mackintoshes\",\"__________________________________\",\"you\",\"last\"],-9.271305f0)\n",
       " (ASCIIString[\"a\",\"kiss\",\"?\",\"''\"],ASCIIString[\"a\",\"kiss\",\"?\",\"''\"],-4.4178577f-7)                                                                                                                                                                                                                                                                                                             \n",
       " (ASCIIString[\"her\",\"brain\",\"and\",\"her\",\"body\",\"felt\",\"numb\",\".\"],ASCIIString[\"her\",\"her\",\"body\",\"brain\",\"felt\",\".\",\"numb\",\"and\"],-1.9390038f-6)                                                                                                                                                                                                                                               \n",
       " (ASCIIString[\"the\",\"whole\",\"intersection\",\"was\",\"empty\",\".\"],ASCIIString[\"the\",\"empty\",\"was\",\"intersection\",\"whole\",\".\"],-1.015179f-6)                                                                                                                                                                                                                                                        \n",
       " (ASCIIString[\"what\",\"he\",\"'d\",\"forgotten\",\"-\",\"oh\",\"no\",\".\"],ASCIIString[\"-\",\"what\",\"oh\",\"he\",\"forgotten\",\".\",\"no\",\"'d\"],-1.4975373f-6)                                                                                                                                                                                                                                                       \n",
       " (ASCIIString[\"every\",\"part\",\"of\",\"the\",\"land\",\"watched\",\"as\",\"it\",\"happened\",\",\"  …  \",\",\"as\",\"the\",\"clearing\",\"ran\",\"and\",\"screamed\",\"and\",\"died\",\".\"],ASCIIString[\"the\",\"the\",\"through\",\"the\",\"i\",\"the\",\"through\",\"the\",\"as\",\"of\"  …  \"also\",\"became\",\"dissect\",\"plenty\",\"be\",\"turning\",\"lexton\",\"out\",\"including\",\"february\"],-10.825078f0)                                                \n",
       " (ASCIIString[\"``\",\"he\",\"will\",\"not\",\"to\",\"get\",\"far\",\".\",\"''\"],ASCIIString[\"``\",\"he\",\"will\",\".\",\"far\",\"to\",\"''\",\"get\",\"not\"],-1.7821044f-6)                                                                                                                                                                                                                                                   \n",
       " (ASCIIString[\"``\",\"i\",\"'ll\",\"keep\",\"him\",\"busy\",\"down\",\"here\",\".\",\"''\"],ASCIIString[\"i\",\"``\",\"him\",\"down\",\"''\",\"busy\",\"here\",\".\",\"'ll\",\"keep\"],-2.500325f-6)                                                                                                                                                                                                                                  \n",
       " (ASCIIString[\"miss\",\"bitch\",\"'s\",\"eyes\",\"widened\",\".\"],ASCIIString[\"eyes\",\"'s\",\"miss\",\"widened\",\"bitch\",\".\"],-1.1880114f-6)                                                                                                                                                                                                                                                                   \n",
       " (ASCIIString[\"``\",\"i\",\"would\",\"think\",\"so\",\".\",\"''\"],ASCIIString[\"i\",\"``\",\"would\",\".\",\"so\",\"think\",\"''\"],-1.9070751f-6)                                                                                                                                                                                                                                                                       \n",
       " (ASCIIString[\"i\",\"was\",\"stoked\",\"as\",\"hell\",\"to\",\"see\",\"him\",\"sitting\",\"there\",\"in\",\"a\",\"runaway\",\"train\",\"t-shirt\",\".\"],ASCIIString[\"i\",\"a\",\"him\",\"there\",\"in\",\"train\",\"him\",\"runaway\",\"as\",\"hell\",\"t-shirt\",\".\",\"see\",\"originally\",\"lastly\",\"____________________________________________\",\"sitting\",\"stoked\",\"effort\"],-6.303856f0)                                                        "
      ]
     },
     "execution_count": 11,
     "metadata": {},
     "output_type": "execute_result"
    }
   ],
   "source": [
    "\n",
    "#books_glove300cityblock_raw = load(\"results/bags/books_corpus_0.001_of_test_glove300_cityblock.jld\",\"4\")\n",
    "books_glove300eculidean_raw = flatten_raw_blocked_records(load(\"results/bags/books_corpus_0.001_of_test_glove300.jld\"))\n",
    "#brown_glove300_raw = load(\"results/bags/brown_glove300_res.jld\", \"res\")\n",
    "#brown_glove200_raw = load(\"results/bags/brown_glove200_res.jld\", \"res\")\n",
    "#brown_glove100_raw = load(\"results/bags/brown_glove100_res.jld\", \"res\")\n",
    "#brown_glove50_raw = load(\"results/bags/brown_glove50_res.jld\", \"res\")"
   ]
  },
  {
   "cell_type": "code",
   "execution_count": null,
   "metadata": {
    "collapsed": false
   },
   "outputs": [],
   "source": [
    "@assert all([rset[1] for rset in brown_glove50_raw] .== [rset[1] for rset in brown_glove300_raw])\n",
    "@assert all([rset[1] for rset in brown_glove50_raw] .== [rset[1] for rset in brown_glove200_raw])\n",
    "@assert all([rset[1] for rset in brown_glove50_raw] .== [rset[1] for rset in brown_glove100_raw])"
   ]
  },
  {
   "cell_type": "code",
   "execution_count": null,
   "metadata": {
    "collapsed": false
   },
   "outputs": [],
   "source": []
  },
  {
   "cell_type": "code",
   "execution_count": 14,
   "metadata": {
    "collapsed": false,
    "scrolled": false
   },
   "outputs": [],
   "source": [
    "bag_res = DataFrame()\n",
    "bag_res[:ground] = [counter(rset[1]) for rset in books_glove300eculidean_raw]\n",
    "bag_res[:ground_len] = Int[sum(ss) for ss in bag_res[:ground]]\n",
    "exp_names = ASCIIString[]\n",
    "for raw_name in [\"books_glove300eculidean_raw\"]#\"brown_glove50_raw\",\"brown_glove100_raw\", \"brown_glove200_raw\", \"brown_glove300_raw\"]\n",
    "    colname = split(raw_name,\"_\")[2] \n",
    "    push!(exp_names, colname)\n",
    "    raw = eval(raw_name|>Symbol)\n",
    "    bag_res[colname*\"_actual\"|> Symbol] = [counter(rset[2]) for rset in raw]\n",
    "    #bag_res[colname*\"_distance\"|> Symbol] = Float64[-1*rset[3] for rset in raw]\n",
    "end\n",
    "\n",
    "#bag_res"
   ]
  },
  {
   "cell_type": "code",
   "execution_count": 21,
   "metadata": {
    "collapsed": false,
    "scrolled": true
   },
   "outputs": [],
   "source": [
    "for exp_name in exp_names\n",
    "    actual = bag_res[exp_name*\"_actual\" |> symbol]\n",
    "    bag_res[exp_name*\"_perfect\" |> symbol] = actual.==bag_res[:ground]\n",
    "    bag_res[exp_name*\"_jaccard\" |> symbol] = map(jaccard_index, actual, bag_res[:ground])\n",
    "    bag_res[exp_name*\"_precision\" |> symbol] = map(precision, actual, bag_res[:ground])\n",
    "    bag_res[exp_name*\"_recall\" |> symbol] = map(recall, actual, bag_res[:ground])\n",
    "end"
   ]
  },
  {
   "cell_type": "code",
   "execution_count": 22,
   "metadata": {
    "collapsed": false
   },
   "outputs": [
    {
     "data": {
      "text/plain": [
       "7-element Array{Symbol,1}:\n",
       " :ground                     \n",
       " :ground_len                 \n",
       " :glove300eculidean_actual   \n",
       " :glove300eculidean_perfect  \n",
       " :glove300eculidean_jaccard  \n",
       " :glove300eculidean_precision\n",
       " :glove300eculidean_recall   "
      ]
     },
     "execution_count": 22,
     "metadata": {},
     "output_type": "execute_result"
    }
   ],
   "source": [
    "bag_res.colindex |> keys"
   ]
  },
  {
   "cell_type": "code",
   "execution_count": 23,
   "metadata": {
    "collapsed": false
   },
   "outputs": [
    {
     "data": {
      "text/html": [
       "<table class=\"data-frame\"><tr><th></th><th>ground_len</th><th>glove300eculidean_perfect_mean</th><th>glove300eculidean_jaccard_mean</th><th>glove300eculidean_precision_mean</th><th>glove300eculidean_recall_mean</th></tr><tr><th>1</th><td>1</td><td>1.0</td><td>1.0</td><td>1.0</td><td>1.0</td></tr><tr><th>2</th><td>2</td><td>1.0</td><td>1.0</td><td>1.0</td><td>1.0</td></tr><tr><th>3</th><td>3</td><td>1.0</td><td>1.0</td><td>1.0</td><td>1.0</td></tr><tr><th>4</th><td>4</td><td>1.0</td><td>1.0</td><td>1.0</td><td>1.0</td></tr><tr><th>5</th><td>5</td><td>0.9871134020618557</td><td>0.9929123711340206</td><td>0.9946244477172312</td><td>0.9953608247422681</td></tr><tr><th>6</th><td>6</td><td>0.9932279909706546</td><td>0.9977426636568849</td><td>0.9981188863807374</td><td>0.999247554552295</td></tr><tr><th>7</th><td>7</td><td>0.9734299516908212</td><td>0.9874731615673644</td><td>0.9912870945479642</td><td>0.9917184265010351</td></tr><tr><th>8</th><td>8</td><td>0.9558139534883721</td><td>0.9831289640591966</td><td>0.9882364341085271</td><td>0.9906976744186047</td></tr><tr><th>9</th><td>9</td><td>0.9644549763033176</td><td>0.9881008407074758</td><td>0.9919359471492174</td><td>0.993417588204318</td></tr><tr><th>10</th><td>10</td><td>0.905511811023622</td><td>0.9716519957835381</td><td>0.9790628881180062</td><td>0.9868766404199475</td></tr><tr><th>11</th><td>11</td><td>0.888</td><td>0.9701977878330821</td><td>0.9771173271173271</td><td>0.9873939393939395</td></tr><tr><th>12</th><td>12</td><td>0.8828571428571429</td><td>0.9618490679672679</td><td>0.9716708529565674</td><td>0.9802380952380954</td></tr><tr><th>13</th><td>13</td><td>0.8456140350877193</td><td>0.9560915818410526</td><td>0.9658457796073896</td><td>0.9800269905533066</td></tr><tr><th>14</th><td>14</td><td>0.8264462809917356</td><td>0.9498660544793135</td><td>0.9631722592618314</td><td>0.9760920897284534</td></tr><tr><th>15</th><td>15</td><td>0.7520661157024794</td><td>0.9176924072731163</td><td>0.9371844650544372</td><td>0.9564738292011019</td></tr><tr><th>16</th><td>16</td><td>0.6869565217391305</td><td>0.9026838662073392</td><td>0.9252057213773798</td><td>0.9505434782608696</td></tr><tr><th>17</th><td>17</td><td>0.6149732620320856</td><td>0.8633048831310933</td><td>0.8929794612036699</td><td>0.9263919471531927</td></tr><tr><th>18</th><td>18</td><td>0.6075268817204301</td><td>0.8559772847540935</td><td>0.8892030162532857</td><td>0.9205495818399044</td></tr><tr><th>19</th><td>19</td><td>0.5123456790123457</td><td>0.8353488757335592</td><td>0.8707817790442847</td><td>0.913905133203379</td></tr><tr><th>20</th><td>20</td><td>0.46706586826347307</td><td>0.791321763804127</td><td>0.8317114487309929</td><td>0.8844311377245506</td></tr><tr><th>21</th><td>21</td><td>0.3464566929133858</td><td>0.7293350237085333</td><td>0.7812308434878714</td><td>0.8492688413948256</td></tr><tr><th>22</th><td>22</td><td>0.2777777777777778</td><td>0.7102350097351293</td><td>0.7677183657413664</td><td>0.8392255892255892</td></tr><tr><th>23</th><td>23</td><td>0.2336448598130841</td><td>0.662482972203632</td><td>0.7242153881415881</td><td>0.8057700121901665</td></tr><tr><th>24</th><td>24</td><td>0.19117647058823528</td><td>0.6391314575422022</td><td>0.7095106804920898</td><td>0.7996323529411764</td></tr><tr><th>25</th><td>25</td><td>0.15942028985507245</td><td>0.5351085992710148</td><td>0.6160745143172515</td><td>0.7165217391304347</td></tr><tr><th>26</th><td>26</td><td>0.0392156862745098</td><td>0.4570697093295226</td><td>0.5492643022707843</td><td>0.6659125188536953</td></tr><tr><th>27</th><td>27</td><td>0.09803921568627451</td><td>0.5188723385247973</td><td>0.6129153519507051</td><td>0.7073347857661584</td></tr><tr><th>28</th><td>28</td><td>0.07407407407407407</td><td>0.481307456107901</td><td>0.5738188178885578</td><td>0.6871693121693122</td></tr><tr><th>29</th><td>29</td><td>0.06</td><td>0.41489579203297866</td><td>0.5133877123481748</td><td>0.6268965517241379</td></tr><tr><th>30</th><td>30</td><td>0.04878048780487805</td><td>0.4567128532136679</td><td>0.5487417929947694</td><td>0.6609756097560975</td></tr><tr><th>&vellip;</th><td>&vellip;</td><td>&vellip;</td><td>&vellip;</td><td>&vellip;</td><td>&vellip;</td></tr></table>"
      ],
      "text/plain": [
       "57x5 DataFrames.DataFrame\n",
       "| Row | ground_len | glove300eculidean_perfect_mean |\n",
       "|-----|------------|--------------------------------|\n",
       "| 1   | 1          | 1.0                            |\n",
       "| 2   | 2          | 1.0                            |\n",
       "| 3   | 3          | 1.0                            |\n",
       "| 4   | 4          | 1.0                            |\n",
       "| 5   | 5          | 0.987113                       |\n",
       "| 6   | 6          | 0.993228                       |\n",
       "| 7   | 7          | 0.97343                        |\n",
       "| 8   | 8          | 0.955814                       |\n",
       "| 9   | 9          | 0.964455                       |\n",
       "| 10  | 10         | 0.905512                       |\n",
       "| 11  | 11         | 0.888                          |\n",
       "⋮\n",
       "| 46  | 46         | 0.0                            |\n",
       "| 47  | 47         | 0.0                            |\n",
       "| 48  | 48         | 0.0                            |\n",
       "| 49  | 49         | 0.0                            |\n",
       "| 50  | 50         | 0.0                            |\n",
       "| 51  | 51         | 0.0                            |\n",
       "| 52  | 52         | 0.0                            |\n",
       "| 53  | 53         | 0.0                            |\n",
       "| 54  | 54         | 0.0                            |\n",
       "| 55  | 55         | 0.0                            |\n",
       "| 56  | 56         | 0.0                            |\n",
       "| 57  | 60         | 0.0                            |\n",
       "\n",
       "| Row | glove300eculidean_jaccard_mean | glove300eculidean_precision_mean |\n",
       "|-----|--------------------------------|----------------------------------|\n",
       "| 1   | 1.0                            | 1.0                              |\n",
       "| 2   | 1.0                            | 1.0                              |\n",
       "| 3   | 1.0                            | 1.0                              |\n",
       "| 4   | 1.0                            | 1.0                              |\n",
       "| 5   | 0.992912                       | 0.994624                         |\n",
       "| 6   | 0.997743                       | 0.998119                         |\n",
       "| 7   | 0.987473                       | 0.991287                         |\n",
       "| 8   | 0.983129                       | 0.988236                         |\n",
       "| 9   | 0.988101                       | 0.991936                         |\n",
       "| 10  | 0.971652                       | 0.979063                         |\n",
       "| 11  | 0.970198                       | 0.977117                         |\n",
       "⋮\n",
       "| 46  | 0.29776                        | 0.388596                         |\n",
       "| 47  | 0.238488                       | 0.326857                         |\n",
       "| 48  | 0.214286                       | 0.295775                         |\n",
       "| 49  | 0.331481                       | 0.433534                         |\n",
       "| 50  | 0.268819                       | 0.363233                         |\n",
       "| 51  | 0.222222                       | 0.314286                         |\n",
       "| 52  | 0.244898                       | 0.342857                         |\n",
       "| 53  | 0.392484                       | 0.490991                         |\n",
       "| 54  | 0.275581                       | 0.373058                         |\n",
       "| 55  | 0.230684                       | 0.329004                         |\n",
       "| 56  | 0.189655                       | 0.268293                         |\n",
       "| 57  | 0.208171                       | 0.296284                         |\n",
       "\n",
       "| Row | glove300eculidean_recall_mean |\n",
       "|-----|-------------------------------|\n",
       "| 1   | 1.0                           |\n",
       "| 2   | 1.0                           |\n",
       "| 3   | 1.0                           |\n",
       "| 4   | 1.0                           |\n",
       "| 5   | 0.995361                      |\n",
       "| 6   | 0.999248                      |\n",
       "| 7   | 0.991718                      |\n",
       "| 8   | 0.990698                      |\n",
       "| 9   | 0.993418                      |\n",
       "| 10  | 0.986877                      |\n",
       "| 11  | 0.987394                      |\n",
       "⋮\n",
       "| 46  | 0.557971                      |\n",
       "| 47  | 0.462766                      |\n",
       "| 48  | 0.4375                        |\n",
       "| 49  | 0.571429                      |\n",
       "| 50  | 0.505                         |\n",
       "| 51  | 0.431373                      |\n",
       "| 52  | 0.461538                      |\n",
       "| 53  | 0.597484                      |\n",
       "| 54  | 0.512346                      |\n",
       "| 55  | 0.436364                      |\n",
       "| 56  | 0.392857                      |\n",
       "| 57  | 0.411111                      |"
      ]
     },
     "execution_count": 23,
     "metadata": {},
     "output_type": "execute_result"
    }
   ],
   "source": [
    "keep_cols = @pipe (bag_res.colindex |> keys |> map(string,_)\n",
    "                    |>filter(col -> contains(col,\"jaccard\") ||  contains(col,\"perfect\") ||  contains(col,\"recall\") ||  contains(col,\"precision\"),_)\n",
    "                    |> map(Symbol,_))\n",
    "len_scores = aggregate(bag_res[[:ground_len, keep_cols...]], :ground_len, mean)\n",
    "sort!(len_scores)\n",
    "#writetable(OUTPUT_DIR*\"selection_len_scores.csv\", len_scores)\n",
    "len_scores"
   ]
  },
  {
   "cell_type": "code",
   "execution_count": null,
   "metadata": {
    "collapsed": false
   },
   "outputs": [],
   "source": [
    "[:ground_len, keep_cols...]"
   ]
  },
  {
   "cell_type": "code",
   "execution_count": null,
   "metadata": {
    "collapsed": false,
    "scrolled": true
   },
   "outputs": [],
   "source": [
    "cum_len_scores = DataFrame()\n",
    "cum_len_scores[:max_ground_len] = bag_res[:ground_len] |> unique |> sort!\n",
    "for jaccard_col in jaccard_cols\n",
    "    cum_len_scores[jaccard_col] = Float64[ begin\n",
    "            shortish_sents = bag_res[:ground_len] .<= max_len;\n",
    "            bag_res[shortish_sents, jaccard_col] |> mean\n",
    "         end for max_len in cum_len_scores[:max_ground_len]]\n",
    "end\n",
    "for perfect_col in perfect_cols\n",
    "    cum_len_scores[perfect_col] = Float64[ begin\n",
    "            shortish_sents = bag_res[:ground_len] .<= max_len;\n",
    "            bag_res[shortish_sents, perfect_col] |> mean\n",
    "         end for max_len in cum_len_scores[:max_ground_len]]\n",
    "end\n",
    "#writetable(OUTPUT_DIR*\"selection_cum_len_scores.csv\", cum_len_scores)\n",
    "cum_len_scores \n"
   ]
  },
  {
   "cell_type": "code",
   "execution_count": null,
   "metadata": {
    "collapsed": false
   },
   "outputs": [],
   "source": [
    "cum_len_scores[57,:]"
   ]
  },
  {
   "cell_type": "code",
   "execution_count": null,
   "metadata": {
    "collapsed": false
   },
   "outputs": [],
   "source": [
    "function longform(df::DataFrame, index::Symbol, cols::Vector{Symbol}, new_name::Symbol)\n",
    "    function subdf(col::Symbol)\n",
    "        df_sub = df[[index, col]]\n",
    "        rename!(df_sub, col, new_name)\n",
    "        df_sub[:label] = col\n",
    "        df_sub\n",
    "    end\n",
    "    vcat([subdf(col) for col in cols]...)\n",
    "end\n",
    "\n",
    "\n"
   ]
  },
  {
   "cell_type": "code",
   "execution_count": null,
   "metadata": {
    "collapsed": false
   },
   "outputs": [],
   "source": [
    "using Gadfly"
   ]
  },
  {
   "cell_type": "code",
   "execution_count": null,
   "metadata": {
    "collapsed": false
   },
   "outputs": [],
   "source": [
    "p=Gadfly.plot(longform(cum_len_scores, :max_ground_len, jaccard_cols, :mean_jaccard_index),\n",
    "    x=\"max_ground_len\", y=\"mean_jaccard_index\",\n",
    "    color=\"label\",\n",
    "    Coord.Cartesian(ymin=0),\n",
    "    Geom.point\n",
    ")\n",
    "#draw(PNG(\"brown_cumulative_length_score.png\", 24cm, 6cm), p)"
   ]
  },
  {
   "cell_type": "code",
   "execution_count": null,
   "metadata": {
    "collapsed": false
   },
   "outputs": [],
   "source": [
    "\n",
    "p=Gadfly.plot(longform(len_scores, :ground_len, [string(col)*\"_mean\"|> Symbol for col in jaccard_cols], :mean_jaccard_index),\n",
    "    x=\"ground_len\", y=\"mean_jaccard_index\",\n",
    "    color=\"label\",\n",
    "    Geom.point\n",
    ")\n",
    "#draw(PNG(\"brown_length_score.png\", 24cm, 6cm), p)"
   ]
  },
  {
   "cell_type": "code",
   "execution_count": null,
   "metadata": {
    "collapsed": false
   },
   "outputs": [],
   "source": [
    "bag_res[:ground_len] |> describe \n",
    "p=Gadfly.plot(bag_res, x=\"ground_len\",  Geom.histogram)\n",
    "#draw(PNG(\"brown_length_dist.png\", 24cm, 6cm), p)"
   ]
  },
  {
   "cell_type": "code",
   "execution_count": null,
   "metadata": {
    "collapsed": false
   },
   "outputs": [],
   "source": [
    "`git add ../../documents_prepared/Journal\\ Papers/SumResynthesis/data/ordering_scores.csv` |> run\n",
    "`git commit -m=\"new results` |> run\n",
    "`git push` |> run"
   ]
  },
  {
   "cell_type": "code",
   "execution_count": null,
   "metadata": {
    "collapsed": false
   },
   "outputs": [],
   "source": [
    "##############################################\n",
    "# ORDERED\n",
    "########################################"
   ]
  },
  {
   "cell_type": "code",
   "execution_count": null,
   "metadata": {
    "collapsed": false
   },
   "outputs": [],
   "source": [
    "using PyCall\n",
    "@pyimport nltk\n",
    "@pyimport nltk.align.bleu_score as nltk_bleu\n",
    "\n",
    "function bleu_score(candidate, reference)\n",
    "    reference = reference |> collect\n",
    "    candidate = candidate |> collect\n",
    "    \n",
    "    if reference==candidate #Perfect Match\n",
    "        1.0\n",
    "    else\n",
    "        weights = [1,1,1,1]/4\n",
    "        nltk_bleu.bleu(candidate,Any[reference], weights)\n",
    "    end\n",
    "end"
   ]
  },
  {
   "cell_type": "code",
   "execution_count": null,
   "metadata": {
    "collapsed": false
   },
   "outputs": [],
   "source": [
    "bleu_score([\"the\",\"comedy\",\"of\",\"manners\",\"of\",\"this\",\"first\",\"a\",\"basis\",\"is\",\"performed\",\"in\",\"1892\",\".\"],\n",
    "           [\"this\",\"is\",\"the\" ,\"basis\",\"of\",\"a\" ,\"comedy\" ,\"of\",\"manners\",\"first\",\"performed\",\"in\",\"1892\", \".\"]\n",
    ")"
   ]
  },
  {
   "cell_type": "code",
   "execution_count": null,
   "metadata": {
    "collapsed": true
   },
   "outputs": [],
   "source": [
    "immutable OrderRecord{T}\n",
    "    reference::Vector{T}\n",
    "    actual::Vector{T}\n",
    "    prob::Float64\n",
    "    time::Float64\n",
    "    status::Symbol\n",
    "end"
   ]
  },
  {
   "cell_type": "code",
   "execution_count": null,
   "metadata": {
    "collapsed": false
   },
   "outputs": [],
   "source": [
    "books_0_001 = flatten_blocked_records(Dict{Int,Any}([key=>load(\"results/ordered/books_corpus_0.001_of_test_glove300.jld\",string(key)) for key in 1:100]))\n",
    "books_0_001 = map(r->OrderRecord(r...), books_0_001)"
   ]
  },
  {
   "cell_type": "code",
   "execution_count": null,
   "metadata": {
    "collapsed": false
   },
   "outputs": [],
   "source": [
    "#folds50 = load(\"results/ordered/brown_glove50_ordered_vA1000.jld\")\n",
    "#folds100 = load(\"results/ordered/brown_glove100_ordered_vA1000.jld\")\n",
    "#folds200 = load(\"results/ordered/brown_glove200_ordered_vA1000.jld\")\n",
    "folds300_loglikelyhood_A5000_2 = load(\"results/ordered/brown_glove300_ordered_vA5000_loglikelyhood_2.jld\")\n",
    "folds300_loglikelyhood_A5000 = load(\"results/ordered/brown_glove300_ordered_vA5000_loglikelyhood.jld\")\n",
    "#folds300_loglikelyhood_A1000 = load(\"results/ordered/brown_glove300_ordered_vA1000_loglikelyhood.jld\")\n",
    "#folds300 = load(\"results/ordered/brown_glove300_ordered_vA1000.jld\")\n",
    "#folds_oracle = load(\"results/ordered/brown_oracle_ordered_vA1000.jld\")\\\n",
    "\n",
    "#folds_oracle_loglikelyhood_A5000 = load(\"results/ordered/brown_oracle_ordered_vA5000_loglikelyhood.jld\")\n",
    "#folds_oracle_loglikelyhood_A5000_2 = load(\"results/ordered/brown_oracle_ordered_vA5000_loglikelyhood_2.jld\")\n",
    "#folds_oracle_loglikelyhood_A10000_2 = load(\"results/ordered/brown_oracle_ordered_vA10000_loglikelyhood_2.jld\")\n",
    "#folds_oracle_loglikelyhood_A1000 = load(\"results/ordered/brown_oracle_ordered_vA1000_Loglikelyhood.jld\")\n",
    "#all_ordered_exp_folds = Any[folds_oracle, folds_oracle_loglikelyhood,folds300,folds300_loglikelyhood]#[folds50,folds100,folds200,folds300,folds_oracle]\n",
    "all_ordered_exp_folds=Any[folds300_loglikelyhood_A5000,folds300_loglikelyhood_A5000_2]\n"
   ]
  },
  {
   "cell_type": "code",
   "execution_count": null,
   "metadata": {
    "collapsed": false
   },
   "outputs": [],
   "source": [
    "attempted_only{T<:OrderRecord}(recs::Vector{T}) = filter(r->r.status!=:NotAttempted, recs)\n",
    "feasible_only{T<:OrderRecord}(recs::Vector{T}) = filter(r->r.status!=:Infeasible, recs)\n"
   ]
  },
  {
   "cell_type": "code",
   "execution_count": null,
   "metadata": {
    "collapsed": false
   },
   "outputs": [],
   "source": [
    "function exact_match(rec::OrderRecord)\n",
    "    rec.reference == rec.actual\n",
    "end\n",
    "function bleu_score(rec::OrderRecord)\n",
    "    bleu_score( rec.actual, rec.reference)\n",
    "end"
   ]
  },
  {
   "cell_type": "code",
   "execution_count": null,
   "metadata": {
    "collapsed": false
   },
   "outputs": [],
   "source": [
    "funct"
   ]
  },
  {
   "cell_type": "code",
   "execution_count": null,
   "metadata": {
    "collapsed": false
   },
   "outputs": [],
   "source": [
    "@pipe books_0_001 |> attempted_only |>  map(exact_match,_) |> mean"
   ]
  },
  {
   "cell_type": "code",
   "execution_count": null,
   "metadata": {
    "collapsed": false
   },
   "outputs": [],
   "source": [
    "@pipe books_0_001 |> attempted_only |> feasible_only |> map(exact_match,_) |> mean"
   ]
  },
  {
   "cell_type": "code",
   "execution_count": null,
   "metadata": {
    "collapsed": false
   },
   "outputs": [],
   "source": [
    "@pipe books_0_001 |> attempted_only |> map(bleu_score,_) |> mean"
   ]
  },
  {
   "cell_type": "code",
   "execution_count": null,
   "metadata": {
    "collapsed": false
   },
   "outputs": [],
   "source": [
    "@pipe books_0_001 |> attempted_only |> feasible_only |> map(bleu_score,_) |> mean"
   ]
  },
  {
   "cell_type": "code",
   "execution_count": null,
   "metadata": {
    "collapsed": false
   },
   "outputs": [],
   "source": [
    "function mean_by_length{T<:OrderRecord}(rater::Function, data::Vector{T})\n",
    "    groups = groupby_value(r->length(r.reference), data) \n",
    "    Dict([len=>mean(map(rater,group)) for (len, group) in groups])\n",
    "end"
   ]
  },
  {
   "cell_type": "code",
   "execution_count": null,
   "metadata": {
    "collapsed": false
   },
   "outputs": [],
   "source": [
    "@pipe mean_by_length(r->r.status==:Optimal, books_0_001|> attempted_only) |> collect|> sort! "
   ]
  },
  {
   "cell_type": "code",
   "execution_count": null,
   "metadata": {
    "collapsed": false
   },
   "outputs": [],
   "source": [
    "@pipe mean_by_length(exact_match, books_0_001|> attempted_only |>feasible_only) |> collect|> sort! \n"
   ]
  },
  {
   "cell_type": "code",
   "execution_count": null,
   "metadata": {
    "collapsed": false
   },
   "outputs": [],
   "source": [
    "@pipe mean_by_length(bleu_score, books_0_001|> attempted_only |>feasible_only) |> collect|> sort! \n"
   ]
  },
  {
   "cell_type": "code",
   "execution_count": null,
   "metadata": {
    "collapsed": false
   },
   "outputs": [],
   "source": [
    "@pipe mean_by_length(r->r.time , books_0_001|> attempted_only) |> collect|> sort! "
   ]
  },
  {
   "cell_type": "code",
   "execution_count": null,
   "metadata": {
    "collapsed": true
   },
   "outputs": [],
   "source": []
  },
  {
   "cell_type": "code",
   "execution_count": null,
   "metadata": {
    "collapsed": true
   },
   "outputs": [],
   "source": []
  },
  {
   "cell_type": "code",
   "execution_count": null,
   "metadata": {
    "collapsed": true
   },
   "outputs": [],
   "source": []
  },
  {
   "cell_type": "code",
   "execution_count": null,
   "metadata": {
    "collapsed": false
   },
   "outputs": [],
   "source": [
    "attempted_only{T}(fold::Vector{T}) = filter(eap->!isnan(eap[3]), fold)\n",
    "nongiveup_only{T}(fold::Vector{T}) = filter(eap->0<eap[3]<1, fold)\n",
    "partial_only{T}(fold::Vector{T}) = filter(eap->eap[3]>1, fold)\n",
    "\n",
    "attempted_only{T}(folds::Vector{Vector{T}}) = map(attempted_only, folds)\n",
    "nongiveup_only{T}(folds::Vector{Vector{T}}) = map(nongiveup_only, folds)\n",
    "partial_only{T}(folds::Vector{Vector{T}}) = map(partial_only, folds)\n",
    "\n",
    "function get_bleu_score(folds)\n",
    "    bleu_scores = map(keys(folds), values(folds)) do fold_name,res\n",
    "        fold_bleu_scores = Float64[]\n",
    "        for (reference, candidate, prob) in res\n",
    "            push!(fold_bleu_scores, bleu_score(candidate, reference))\n",
    "        end\n",
    "        fold_bleu_scores\n",
    "    end\n",
    "end"
   ]
  },
  {
   "cell_type": "code",
   "execution_count": null,
   "metadata": {
    "collapsed": false
   },
   "outputs": [],
   "source": [
    "get_bleu_score(books_0_001)"
   ]
  },
  {
   "cell_type": "code",
   "execution_count": null,
   "metadata": {
    "collapsed": false
   },
   "outputs": [],
   "source": []
  },
  {
   "cell_type": "code",
   "execution_count": null,
   "metadata": {
    "collapsed": false
   },
   "outputs": [],
   "source": [
    "bleu_scores = map(all_ordered_exp_folds) do folds\n",
    "    bleu_scores = get_bleu_score(folds);\n",
    "    map(mean, bleu_scores) |> mean\n",
    "end"
   ]
  },
  {
   "cell_type": "code",
   "execution_count": null,
   "metadata": {
    "collapsed": false
   },
   "outputs": [],
   "source": [
    "bleu_scores_no_giveup = map(all_ordered_exp_folds) do folds\n",
    "    mean([mean([bleu_score(eap[1], eap[2]) for eap in nongiveup_only(attempted_only(fold))]) for fold in values(folds)])\n",
    "end"
   ]
  },
  {
   "cell_type": "code",
   "execution_count": null,
   "metadata": {
    "collapsed": false
   },
   "outputs": [],
   "source": [
    "giveups = map(all_ordered_exp_folds) do folds\n",
    "    mean([mean(Bool[!(0<eap[3]<1) for eap in attempted_only(fold)]) for fold in values(folds)])\n",
    "end"
   ]
  },
  {
   "cell_type": "code",
   "execution_count": null,
   "metadata": {
    "collapsed": false
   },
   "outputs": [],
   "source": [
    "exact_matchs = map(all_ordered_exp_folds) do folds\n",
    "    mean([mean(Bool[eap[1]==eap[2] for eap in attempted_only(fold)]) for fold in values(folds)])\n",
    "end"
   ]
  },
  {
   "cell_type": "code",
   "execution_count": null,
   "metadata": {
    "collapsed": false
   },
   "outputs": [],
   "source": [
    "partials = map(all_ordered_exp_folds) do folds\n",
    "    mean([mean(Bool[eap[3]>1 for eap in attempted_only(fold)]) for fold in values(folds)])\n",
    "end"
   ]
  },
  {
   "cell_type": "code",
   "execution_count": null,
   "metadata": {
    "collapsed": false
   },
   "outputs": [],
   "source": [
    "exact_matchs_no_giveup = map(all_ordered_exp_folds) do folds\n",
    "    mean([mean(Bool[eap[1]==eap[2] for eap in nongiveup_only(attempted_only(fold))]) for fold in values(folds)])\n",
    "end"
   ]
  },
  {
   "cell_type": "code",
   "execution_count": null,
   "metadata": {
    "collapsed": false
   },
   "outputs": [],
   "source": [
    "ordering_res = DataFrame(Model=[\"Oracle\", \"Oracle_LL\", \"300d\", 300d_LL])#[\"50d\",\"100d\",\"200d\",\"300d\", \"Oracle\"])\n",
    "ordering_res[symbol(\"BLEU Score\")]=bleu_scores\n",
    "ordering_res[symbol(\"Exact Ordered Matches\")]=exact_matchs\n",
    "ordering_res[symbol(\"Giveups\")]=giveups\n",
    "ordering_res[symbol(\"BLEU Score Excluding Giveups\")]=bleu_scores_no_giveup\n",
    "ordering_res[symbol(\"Exact Ordered Matches Excluding Giveups\")]=exact_matchs_no_giveup\n",
    "#writetable(OUTPUT_DIR*\"ordering_scores.csv\", ordering_res)\n",
    "ordering_res"
   ]
  },
  {
   "cell_type": "code",
   "execution_count": null,
   "metadata": {
    "collapsed": true
   },
   "outputs": [],
   "source": []
  },
  {
   "cell_type": "code",
   "execution_count": null,
   "metadata": {
    "collapsed": true
   },
   "outputs": [],
   "source": [
    "########"
   ]
  },
  {
   "cell_type": "code",
   "execution_count": null,
   "metadata": {
    "collapsed": false
   },
   "outputs": [],
   "source": [
    "fold_indexes=load(\"brown_glove_folds.jld\",\"fold_indexes\");"
   ]
  },
  {
   "cell_type": "code",
   "execution_count": null,
   "metadata": {
    "collapsed": false
   },
   "outputs": [],
   "source": [
    "function fold(data, fold_indexes)\n",
    "    ret = Dict()\n",
    "    for (fold_number,fold_iis) in enumerate(fold_indexes)\n",
    "        ret[\"fold_$(fold_number)\"] = data[fold_iis]\n",
    "    end\n",
    "    ret\n",
    "end"
   ]
  },
  {
   "cell_type": "code",
   "execution_count": null,
   "metadata": {
    "collapsed": true
   },
   "outputs": [],
   "source": []
  },
  {
   "cell_type": "code",
   "execution_count": null,
   "metadata": {
    "collapsed": false
   },
   "outputs": [],
   "source": [
    "jaccard_folds_300 = fold(bag_res[:glove300_jaccard], fold_indexes)"
   ]
  },
  {
   "cell_type": "code",
   "execution_count": null,
   "metadata": {
    "collapsed": false
   },
   "outputs": [],
   "source": [
    "[jaccard_folds_300[\"fold_6\"] bleu_scores300[1]]"
   ]
  },
  {
   "cell_type": "code",
   "execution_count": null,
   "metadata": {
    "collapsed": false
   },
   "outputs": [],
   "source": [
    "get_bleu_score(folds300,  count_give_ups=true, count_nonattepts=true);"
   ]
  },
  {
   "cell_type": "code",
   "execution_count": null,
   "metadata": {
    "collapsed": true
   },
   "outputs": [],
   "source": []
  }
 ],
 "metadata": {
  "kernelspec": {
   "display_name": "Julia 0.5.0-dev",
   "language": "julia",
   "name": "julia-0.5"
  },
  "language_info": {
   "file_extension": ".jl",
   "mimetype": "application/julia",
   "name": "julia",
   "version": "0.5.0"
  }
 },
 "nbformat": 4,
 "nbformat_minor": 0
}
