{
 "cells": [
  {
   "cell_type": "code",
   "execution_count": null,
   "metadata": {
    "collapsed": false
   },
   "outputs": [],
   "source": [
    "1+1"
   ]
  },
  {
   "cell_type": "code",
   "execution_count": 2,
   "metadata": {
    "collapsed": false
   },
   "outputs": [
    {
     "name": "stderr",
     "output_type": "stream",
     "text": [
      "WARNING: module DataStructuresExtended should explicitly import == from Base\n"
     ]
    }
   ],
   "source": [
    "using FunctionalCollections\n",
    "using Iterators\n",
    "using Pipe\n",
    "using Compat\n",
    "\n",
    "macro printval(ee)\n",
    "    ee_expr = @sprintf \"%s\" string(ee)\n",
    "    esc(:(println($ee_expr,\" = \", $ee)))\n",
    "end\n",
    "\n",
    "macro pz(ee)\n",
    "    ee_expr = @sprintf \"%s\" string(ee)\n",
    "    esc(:(println($ee_expr,\"\\t\\t\",typeof($ee), \"\\t\", size($ee))))\n",
    "end\n",
    "\n",
    "push!(LOAD_PATH, \".\")\n",
    "push!(LOAD_PATH, \"../util/\")\n",
    "using DataStructures\n",
    "using DataStructuresExtended\n",
    "using JLD\n",
    "using DataFrames"
   ]
  },
  {
   "cell_type": "code",
   "execution_count": null,
   "metadata": {
    "collapsed": false
   },
   "outputs": [],
   "source": [
    "OUTPUT_DIR = \"../../documents_prepared/Journal\\ Papers/SumResynthesis/data/\""
   ]
  },
  {
   "cell_type": "code",
   "execution_count": null,
   "metadata": {
    "collapsed": true
   },
   "outputs": [],
   "source": [
    "`git add ../../documents_prepared/Journal\\ Papers/SumResynthesis/data/ordering_scores.csv` |> run"
   ]
  },
  {
   "cell_type": "code",
   "execution_count": null,
   "metadata": {
    "collapsed": false
   },
   "outputs": [],
   "source": [
    "`git push` |> run"
   ]
  },
  {
   "cell_type": "code",
   "execution_count": null,
   "metadata": {
    "collapsed": false
   },
   "outputs": [],
   "source": [
    "function jaccard_index(aa::DataStructures.Accumulator,bb::DataStructures.Accumulator)\n",
    "    sum(intersect(aa,bb))/sum(union(aa,bb))\n",
    "end\n",
    "\n",
    "function jaccard_index(aa,bb)\n",
    "    length(intersect(aa,bb))/length(union(aa,bb))\n",
    "end"
   ]
  },
  {
   "cell_type": "code",
   "execution_count": null,
   "metadata": {
    "collapsed": false,
    "scrolled": true
   },
   "outputs": [],
   "source": [
    "\n",
    "\n",
    "brown_glove300_raw = load(\"results/bags/brown_g50D_res.jld\", \"res\")\n",
    "brown_glove200_raw = load(\"results/bags/brown_glove200_res.jld\", \"res\")\n",
    "brown_glove100_raw = load(\"results/bags/brown_glove100_res.jld\", \"res\")\n",
    "brown_glove50_raw = load(\"results/bags/brown_glove50_res.jld\", \"res\")"
   ]
  },
  {
   "cell_type": "code",
   "execution_count": null,
   "metadata": {
    "collapsed": false
   },
   "outputs": [],
   "source": [
    "@assert all([rset[1] for rset in brown_glove50_raw] .== [rset[1] for rset in brown_glove300_raw])\n",
    "@assert all([rset[1] for rset in brown_glove50_raw] .== [rset[1] for rset in brown_glove200_raw])\n",
    "@assert all([rset[1] for rset in brown_glove50_raw] .== [rset[1] for rset in brown_glove100_raw])"
   ]
  },
  {
   "cell_type": "code",
   "execution_count": null,
   "metadata": {
    "collapsed": false
   },
   "outputs": [],
   "source": []
  },
  {
   "cell_type": "code",
   "execution_count": null,
   "metadata": {
    "collapsed": false,
    "scrolled": true
   },
   "outputs": [],
   "source": [
    "bag_res = DataFrame()\n",
    "bag_res[:ground] = [counter(rset[1]) for rset in brown_glove50_raw]\n",
    "bag_res[:ground_len] = Int[sum(ss) for ss in bag_res[:ground]]\n",
    "exp_names = ASCIIString[]\n",
    "for raw_name in [\"brown_glove50_raw\",\"brown_glove100_raw\", \"brown_glove200_raw\", \"brown_glove300_raw\"]\n",
    "    colname = split(raw_name,\"_\")[2] \n",
    "    push!(exp_names, colname)\n",
    "    raw = eval(raw_name|>Symbol)\n",
    "    bag_res[colname*\"_actual\"|> Symbol] = [counter(rset[2]) for rset in raw]\n",
    "    #bag_res[colname*\"_distance\"|> Symbol] = Float64[-1*rset[3] for rset in raw]\n",
    "end\n",
    "\n",
    "bag_res"
   ]
  },
  {
   "cell_type": "code",
   "execution_count": null,
   "metadata": {
    "collapsed": false,
    "scrolled": true
   },
   "outputs": [],
   "source": [
    "for exp_name in exp_names\n",
    "    actual = bag_res[exp_name*\"_actual\" |> symbol]\n",
    "    bag_res[exp_name*\"_perfect\" |> symbol] = actual.==bag_res[:ground]\n",
    "    bag_res[exp_name*\"_jaccard\" |> symbol] = map(jaccard_index, actual, bag_res[:ground])\n",
    "end"
   ]
  },
  {
   "cell_type": "code",
   "execution_count": null,
   "metadata": {
    "collapsed": false
   },
   "outputs": [],
   "source": []
  },
  {
   "cell_type": "code",
   "execution_count": null,
   "metadata": {
    "collapsed": true
   },
   "outputs": [],
   "source": [
    "\n",
    "jaccard_cols = Symbol[exp_name*\"_jaccard\" |> symbol for exp_name in exp_names]\n",
    "perfect_cols = Symbol[exp_name*\"_perfect\" |> symbol for exp_name in exp_names]\n",
    "len_scores = aggregate(bag_res[[:ground_len, jaccard_cols...,perfect_cols...]], :ground_len, mean)\n",
    "sort!(len_scores)\n",
    "writetable(OUTPUT_DIR*\"selection_len_scores.csv\", len_scores)\n",
    "len_scores"
   ]
  },
  {
   "cell_type": "code",
   "execution_count": null,
   "metadata": {
    "collapsed": false
   },
   "outputs": [],
   "source": []
  },
  {
   "cell_type": "code",
   "execution_count": null,
   "metadata": {
    "collapsed": false,
    "scrolled": true
   },
   "outputs": [],
   "source": [
    "cum_len_scores = DataFrame()\n",
    "cum_len_scores[:max_ground_len] = bag_res[:ground_len] |> unique |> sort!\n",
    "for jaccard_col in jaccard_cols\n",
    "    cum_len_scores[jaccard_col] = Float64[ begin\n",
    "            shortish_sents = bag_res[:ground_len] .<= max_len;\n",
    "            bag_res[shortish_sents, jaccard_col] |> mean\n",
    "         end for max_len in cum_len_scores[:max_ground_len]]\n",
    "end\n",
    "for perfect_col in perfect_cols\n",
    "    cum_len_scores[perfect_col] = Float64[ begin\n",
    "            shortish_sents = bag_res[:ground_len] .<= max_len;\n",
    "            bag_res[shortish_sents, perfect_col] |> mean\n",
    "         end for max_len in cum_len_scores[:max_ground_len]]\n",
    "end\n",
    "writetable(OUTPUT_DIR*\"selection_cum_len_scores.csv\", cum_len_scores)\n",
    "cum_len_scores \n"
   ]
  },
  {
   "cell_type": "code",
   "execution_count": null,
   "metadata": {
    "collapsed": false
   },
   "outputs": [],
   "source": []
  },
  {
   "cell_type": "code",
   "execution_count": null,
   "metadata": {
    "collapsed": false
   },
   "outputs": [],
   "source": [
    "function longform(df::DataFrame, index::Symbol, cols::Vector{Symbol}, new_name::Symbol)\n",
    "    function subdf(col::Symbol)\n",
    "        df_sub = df[[index, col]]\n",
    "        rename!(df_sub, col, new_name)\n",
    "        df_sub[:label] = col\n",
    "        df_sub\n",
    "    end\n",
    "    vcat([subdf(col) for col in cols]...)\n",
    "end\n",
    "\n",
    "\n"
   ]
  },
  {
   "cell_type": "code",
   "execution_count": null,
   "metadata": {
    "collapsed": false
   },
   "outputs": [],
   "source": [
    "using Gadfly"
   ]
  },
  {
   "cell_type": "code",
   "execution_count": null,
   "metadata": {
    "collapsed": false
   },
   "outputs": [],
   "source": [
    "p=Gadfly.plot(longform(cum_len_scores, :max_ground_len, jaccard_cols, :mean_jaccard_index),\n",
    "    x=\"max_ground_len\", y=\"mean_jaccard_index\",\n",
    "    color=\"label\",\n",
    "    Geom.point\n",
    ")\n",
    "#draw(PNG(\"brown_cumulative_length_score.png\", 24cm, 6cm), p)"
   ]
  },
  {
   "cell_type": "code",
   "execution_count": null,
   "metadata": {
    "collapsed": false
   },
   "outputs": [],
   "source": [
    "\n",
    "p=Gadfly.plot(longform(len_scores, :ground_len, [string(col)*\"_mean\"|> Symbol for col in jaccard_cols], :mean_jaccard_index),\n",
    "    x=\"ground_len\", y=\"mean_jaccard_index\",\n",
    "    color=\"label\",\n",
    "    Geom.point\n",
    ")\n",
    "#draw(PNG(\"brown_length_score.png\", 24cm, 6cm), p)\n"
   ]
  },
  {
   "cell_type": "code",
   "execution_count": null,
   "metadata": {
    "collapsed": false
   },
   "outputs": [],
   "source": [
    "bag_res[:ground_len] |> describe \n",
    "p=Gadfly.plot(bag_res, x=\"ground_len\",  Geom.histogram)\n",
    "#draw(PNG(\"brown_length_dist.png\", 24cm, 6cm), p)"
   ]
  },
  {
   "cell_type": "code",
   "execution_count": null,
   "metadata": {
    "collapsed": false
   },
   "outputs": [],
   "source": [
    "##############################################\n",
    "# ORDERED\n",
    "########################################"
   ]
  },
  {
   "cell_type": "code",
   "execution_count": 12,
   "metadata": {
    "collapsed": false
   },
   "outputs": [
    {
     "name": "stderr",
     "output_type": "stream",
     "text": [
      "/usr/local/lib/python2.7/dist-packages/nltk/app/__init__.py:29: UserWarning: nltk.app package not loaded (please install Tkinter library).\n",
      "  warnings.warn(\"nltk.app package not loaded \"\n",
      "/usr/local/lib/python2.7/dist-packages/nltk/draw/__init__.py:15: UserWarning: nltk.draw package not loaded (please install Tkinter library).\n",
      "  warnings.warn(\"nltk.draw package not loaded \"\n"
     ]
    },
    {
     "data": {
      "text/plain": [
       "bleu_score (generic function with 1 method)"
      ]
     },
     "execution_count": 12,
     "metadata": {},
     "output_type": "execute_result"
    }
   ],
   "source": [
    "using PyCall\n",
    "@pyimport nltk\n",
    "@pyimport nltk.align.bleu_score as nltk_bleu\n",
    "\n",
    "function bleu_score(candidate, reference)\n",
    "    reference = reference |> collect\n",
    "    candidate = candidate |> collect\n",
    "    \n",
    "    if reference==candidate #Perfect Match\n",
    "        1.0\n",
    "    else\n",
    "        weights = [1,1,1,1]/4\n",
    "        nltk_bleu.bleu(candidate,Any[reference], weights)\n",
    "    end\n",
    "end"
   ]
  },
  {
   "cell_type": "code",
   "execution_count": null,
   "metadata": {
    "collapsed": false
   },
   "outputs": [],
   "source": [
    "bleu_score([\"the\",\"comedy\",\"of\",\"manners\",\"of\",\"this\",\"first\",\"a\",\"basis\",\"is\",\"performed\",\"in\",\"1892\",\".\"],\n",
    "           [\"this\",\"is\",\"the\" ,\"basis\",\"of\",\"a\" ,\"comedy\" ,\"of\",\"manners\",\"first\",\"performed\",\"in\",\"1892\", \".\"]\n",
    ")"
   ]
  },
  {
   "cell_type": "code",
   "execution_count": 26,
   "metadata": {
    "collapsed": false
   },
   "outputs": [
    {
     "data": {
      "text/plain": [
       "2-element Array{Any,1}:\n",
       " Dict{ByteString,Any}(\"fold_6\"=>Any[(ASCIIString[\"the\",\"songs\",\"sandburg\",\"sang\",\"often\",\"reminded\",\"listeners\",\"of\",\"songs\",\"of\",\"a\",\"kindred\",\"character\",\"they\",\"knew\",\"entirely\",\"or\",\"in\",\"fragments\",\".\"],ASCIIString[\"songs\",\"of\",\"they\",\"the\",\"songs\",\"a\",\"character\",\"or\",\"sandburg\",\"fragments\",\"entirely\",\"kindred\",\"in\",\".\",\"reminded\",\"of\",\"often\",\"knew\",\"sang\",\"listeners\"],NaN),(ASCIIString[\"it\",\"will\",\"help\",\"to\",\"determine\",\"the\",\"attitude\",\"of\",\"the\",\"new\",\"members\",\"toward\",\"the\",\"church\",\".\"],Any[\"the\",\"new\",\"members\",\"of\",\"the\",\"attitude\",\"toward\",\"it\",\"will\",\"help\",\"to\",\"determine\",\"the\",\"church\",\".\"],2.8747047119667224e-25),(ASCIIString[\"(\",\"check\",\"on\",\"the\",\"payne\",\"luggage\",\".\"],ASCIIString[\"check\",\"the\",\"(\",\"on\",\".\",\"luggage\",\"payne\"],5.0),(ASCIIString[\"when\",\"it\",\"was\",\"over\",\",\",\"eight\",\"of\",\"his\",\"company\",\"were\",\"still\",\"alive\",\"and\",\"all\",\"eight\",\"were\",\"wounded\",\".\"],Any[\"it\",\"when\",\"his\",\"company\",\"were\",\"still\",\"alive\",\",\",\"were\",\"over\",\"it\",\"were\",\"wounded\",\"and\",\"eight\",\"of\",\"eight\",\".\"],4.64695079168371e-44),(ASCIIString[\"philadelphia\",\"permitted\",\"him\",\"to\",\"seek\",\"a\",\"better\",\"connection\",\"after\",\"he\"  …  \"his\",\"decision\",\"to\",\"end\",\"his\",\"career\",\"as\",\"a\",\"player\",\".\"],ASCIIString[\"his\",\"to\",\"him\",\"to\",\"his\",\"to\",\"a\",\"he\",\"to\",\"decision\"  …  \"a\",\"court\",\"philadelphia\",\"option\",\"contacts\",\"ironically\",\"player\",\".\",\"refused\",\"sooner\"],NaN),(ASCIIString[\"one\",\"does\",\"not\",\"have\",\"to\",\"look\",\"for\",\"distress\",\".\"],ASCIIString[\"have\",\"for\",\"one\",\"look\",\"to\",\"not\",\".\",\"distress\",\"does\"],7.0),(ASCIIString[\"``\",\"song\",\"of\",\"hiawatha\",\"''\",\",\",\"in\",\"elgin\",\",\",\"illinois\",\",\",\"from\",\"june\",\"20\",\"to\",\"24th\",\".\"],ASCIIString[\"20\",\"of\",\"song\",\"''\",\"to\",\"``\",\"in\",\"from\",\",\",\"24th\",\",\",\"june\",\",\",\"illinois\",\"hiawatha\",\"elgin\",\".\"],14.0),(ASCIIString[\"the\",\"housekeeping\",\"problems\",\"of\",\"living\",\"in\",\"a\",\"shelter\",\"will\",\"begin\",\"as\",\"soon\",\"as\",\"the\",\"shelter\",\"is\",\"occupied\",\".\"],Any[\"problems\",\"of\",\"shelter\",\"as\",\"the\",\"shelter\",\"will\",\"soon\",\"begin\",\"in\",\"a\",\"living\",\"as\",\"the\",\"housekeeping\",\"is\",\"occupied\",\".\"],1.2770960209062933e-41),(ASCIIString[\"his\",\"bogey\",\"4\",\"on\",\"this\",\"hole\",\"and\",\"subsequent\",\"bogeys\",\"at\"  …  \"birdie\",\"at\",\"8\",\"brought\",\"him\",\"back\",\"to\",\"even\",\"par\",\".\"],ASCIIString[\"birdie\",\"on\",\"at\",\"him\",\"bogey\",\"to\",\"his\",\"at\",\"back\",\"with\"  …  \"bogeys\",\".\",\"subsequent\",\"along\",\"brought\",\"7\",\"even\",\"8\",\"4\",\"5\"],NaN),(ASCIIString[\"the\",\"child\",\"in\",\"the\",\"primary\",\"grades\",\"can\",\"play\",\"harmoniously\",\"with\"  …  \"him\",\"into\",\"trouble\",\"when\",\"the\",\"group\",\"gets\",\"larger\",\";\",\";\"],ASCIIString[\"you\",\"it\",\"be\",\"he\",\"her\",\"it\",\"for\",\"into\",\"the\",\"two\"  …  \"quoting\",\"interrogatives\",\"2000\",\"pushes\",\"t.w.\",\"either\",\"arouse\",\"half\",\"assessing\",\",\"],NaN)  …  (ASCIIString[\"has\",\"the\",\"probable\",\"price\",\"situation\",\"in\",\"your\",\"field\",\"been\",\"forecast\",\"as\",\"a\",\"basis\",\"for\",\"future\",\"planning\",\"?\",\"?\"],ASCIIString[\"be\",\"no\",\"price\",\"for\",\"yesterday\",\"as\",\"our\",\"economic\",\"situation\",\"has\"  …  \"probable\",\"spoof\",\"sues\",\"stayed\",\"neocortex\",\"recommends\",\"28\",\"coiffure\",\"etc.\",\"originally\"],14.0),(ASCIIString[\"i\",\"asked\",\".\"],Any[\"i\",\"asked\",\".\"],0.0006580090674970204),(ASCIIString[\"those\",\"who\",\"have\",\"never\",\"traveled\",\"the\",\"width\",\"and\",\"length\",\"of\"  …  \"variety\",\"of\",\"this\",\"country\",\"held\",\"together\",\"under\",\"one\",\"government\",\".\"],ASCIIString[\"they\",\"this\",\"of\",\"any\",\"the\",\"have\",\"of\",\"the\",\"government\",\"this\"  …  \",\",\"because\",\"fertility\",\"weaves\",\"and\",\"definitive\",\"encircled\",\"webb\",\"cf.\",\"stockholders\"],NaN),(ASCIIString[\"other\",\"winners\"],ASCIIString[\"other\",\"winners\"],1.0),(ASCIIString[\"nixon\",\"fulfilled\",\"his\",\"assignment\",\"with\",\"grace\",\",\",\"then\",\"went\",\"beyond\",\"the\",\"required\",\"``\",\"sufficient\",\"declaration\",\"''\",\".\"],ASCIIString[\"sufficient\",\"declaration\",\"''\",\"then\",\"went\",\"with\",\"``\",\"beyond\",\"his\",\"assignment\",\",\",\"required\",\"the\",\"nixon\",\".\",\"grace\",\"fulfilled\"],15.0),(ASCIIString[\"this\",\"circular\",\"edifice\",\",\",\"constructed\",\"by\",\"agrippa\",\"in\",\"b.c.\",\"27\"  …  \"rebuilt\",\"in\",\"its\",\"present\",\"shape\",\"by\",\"the\",\"emperor\",\"hadrian\",\".\"],ASCIIString[\"was\",\"emperor\",\"this\",\"built\",\"by\",\"its\",\"in\",\".\",\"circular\",\"roman\"  …  \"b.c.\",\"consoled\",\"covering\",\",\",\"resultant\",\"the\",\"constructed\",\"succeeds\",\"142\",\"march\"],NaN),(ASCIIString[\"economically\",\",\",\"martin\",\"said\",\",\",\"the\",\"united\",\"states\",\"could\",\"best\",\"help\",\"foreign\",\"countries\",\"by\",\"helping\",\"them\",\"help\",\"themselves\",\".\"],ASCIIString[\"countries\",\"states\",\"them\",\"united\",\"help\",\"foreign\",\"by\",\"help\",\",\",\"martin\",\"economically\",\"the\",\",\",\"best\",\"said\",\"themselves\",\".\",\"could\",\"helping\"],NaN),(ASCIIString[\"``\",\"that\",\"important\",\"''\",\".\"],Any[\"``\",\"that\",\"important\",\"''\",\".\"],1.851203321102976e-7),(ASCIIString[\"she\",\"noted\",\"that\",\"no\",\"student\",\"had\",\"been\",\"withdrawn\",\"through\",\"loss\",\"of\",\"confidence\",\";\",\";\"],ASCIIString[\"loss\",\"of\",\"no\",\"student\",\"was\",\"she\",\"have\",\"noted\",\"that\",\"confidence\",\";\",\"through\",\";\",\"withdrawn\"],11.0),(ASCIIString[\"and\",\",\",\"when\",\"you\",\"took\",\"a\",\"walk\",\"you\",\"never\",\"knew\"  …  \"of\",\"sparkling\",\"eyes\",\"were\",\"waiting\",\"around\",\"the\",\"next\",\"corner\",\".\"],ASCIIString[\"you\",\"you\",\"i\",\"out\",\"they\",\"a\",\"the\",\"around\",\"her\",\"two\"  …  \"taurida\",\"alone\",\"participant\",\"feds\",\"gabriel\",\"were\",\"quick\",\"winced\",\"it\",\",\"],NaN)],\"fold_5\"=>Any[(ASCIIString[\"the\",\"brush\",\"moves\",\"up\",\"and\",\"down\",\"and\",\"is\",\"small\",\"enough\"  …  \"dental\",\"surface\",\",\",\"including\",\"the\",\"back\",\"of\",\"the\",\"teeth\",\".\"],ASCIIString[\"up\",\"the\",\"to\",\"the\",\"small\",\"teeth\",\"and\",\"down\",\"of\",\"surface\"  …  \"brush\",\"moves\",\".\",\"the\",\"clean\",\"enough\",\"back\",\"every\",\"including\",\",\"],NaN),(ASCIIString[\"his\",\"sinuous\",\"melody\",\"is\",\"a\",\"sort\",\"of\",\"naive\",\"transcendence\",\"of\",\"all\",\"experience\",\".\"],ASCIIString[\"sort\",\"is\",\"naive\",\"of\",\"all\",\"his\",\"experience\",\"a\",\"melody\",\"of\",\".\",\"sinuous\",\"transcendence\"],11.0),(ASCIIString[\"she\",\"reached\",\"and\",\"reached\",\"around\",\"the\",\"dress\",\",\",\"but\",\"there\",\"was\",\"nothing\",\"there\",\".\"],Any[\"around\",\"and\",\"reached\",\",\",\"there\",\"was\",\"nothing\",\"there\",\"but\",\"she\",\"reached\",\"the\",\"dress\",\".\"],2.5653110848230142e-31),(ASCIIString[\"this\",\"process\",\"is\",\"especially\",\"difficult\",\"since\",\"gyro\",\"drifting\",\"is\",\"typically\",\"random\",\".\"],ASCIIString[\"since\",\"this\",\"process\",\"is\",\"especially\",\"is\",\"difficult\",\".\",\"random\",\"typically\",\"gyro\",\"drifting\"],8.0),(ASCIIString[\"if\",\"you\",\"got\",\"too\",\"many\",\"people\",\"investing\",\"by\",\"this\",\"method\"  …  \"stock\",\"prices\",\",\",\"and\",\"thus\",\"throw\",\"the\",\"charts\",\"off\",\".\"],ASCIIString[\"you\",\"their\",\"they\",\"more\",\"prices\",\"would\",\"their\",\"it\",\"off\",\"more\"  …  \"resulting\",\"reminded\",\".\",\"essentially\",\"concerned\",\"if\",\"going\",\"throw\",\"include\",\"symbolized\"],NaN),(ASCIIString[\"i\",\"will\",\"deal\",\"with\",\"these\",\"later\",\"on\",\".\"],Any[\"i\",\"later\",\"on\",\"these\",\"will\",\"deal\",\"with\",\".\"],7.369628833758917e-20),(ASCIIString[\"this\",\"appears\",\"to\",\"be\",\"high\",\",\",\"as\",\"would\",\"be\",\"expected\"  …  \"the\",\"appreciable\",\"viscosity\",\"of\",\"the\",\"material\",\"in\",\"the\",\"drops\",\".\"],ASCIIString[\"be\",\"be\",\"the\",\"the\",\"to\",\"high\",\"this\",\"the\",\"from\",\"in\"  …  \"as\",\",\",\"viscosity\",\"drops\",\"of\",\"appreciable\",\"expected\",\".\",\"appears\",\"would\"],NaN),(ASCIIString[\"cricket\",\"took\",\"eight\",\"ships\",\"and\",\"went\",\"south\",\"across\",\"the\",\"straits\",\"and\",\"along\",\"the\",\"north\",\"coast\",\"of\",\"mindanao\",\"to\",\"cagayan\",\".\"],ASCIIString[\"south\",\"north\",\"across\",\"the\",\"coast\",\"to\",\"the\",\"and\",\"straits\",\"of\",\"mindanao\",\"cricket\",\"cagayan\",\"and\",\"ships\",\"along\",\"went\",\"took\",\".\",\"eight\"],NaN),(ASCIIString[\"neither\",\"of\",\"these\",\"poems\",\"is\",\"an\",\"aberration\",\";\",\";\"],ASCIIString[\"neither\",\"of\",\"is\",\"these\",\"poems\",\";\",\"an\",\"aberration\",\";\"],5.0),(ASCIIString[\"the\",\"low\",\"countries\",\",\",\"where\",\"the\",\"middle\",\"ages\",\"were\",\"to\"  …  \"the\",\"fields\",\"and\",\"forests\",\"below\",\"the\",\"walls\",\"of\",\"grandson\",\".\"],ASCIIString[\"the\",\"the\",\"their\",\"the\",\"years\",\"the\",\"they\",\"of\",\"of\",\"out\"  …  \"trucking\",\"fonds\",\"brennan\",\"korea\",\"where\",\"first\",\"bastianini\",\"additionally\",\"appealing\",\"three\"],NaN)  …  (ASCIIString[\"b\"],Any[\"b\"],0.0),(ASCIIString[\"it\",\"was\",\"probably\",\"at\",\"this\",\"period\",\"that\",\"littlepage\",\"got\",\"his\",\"first\",\"good\",\"look\",\"at\",\"the\",\"ordinary\",\"russian\",\"soldier\",\".\"],ASCIIString[\"it\",\"at\",\"this\",\"the\",\"his\",\"russian\",\"at\",\"period\",\"good\",\"soldier\",\"got\",\"ordinary\",\"littlepage\",\"first\",\"look\",\"was\",\"that\",\".\",\"probably\"],NaN),(ASCIIString[\"this\",\"was\",\"the\",\"worst\",\"thing\",\"i\",\"could\",\"have\",\"said\",\".\"],Any[\"this\",\"thing\",\"was\",\"i\",\"could\",\"have\",\"said\",\"the\",\"worst\",\".\"],1.221663547491175e-22),(ASCIIString[\"fretting\",\"privately\",\"but\",\"eschewing\",\"public\",\"defense\",\"of\",\"his\",\"terrorized\",\"bureaucrats\"  …  \"and\",\"detached\",\"while\",\"the\",\"hatchet\",\"men\",\"had\",\"their\",\"way\",\".\"],ASCIIString[\"their\",\"his\",\"public\",\"but\",\"the\",\"remained\",\"way\",\"men\",\"serene\",\"terrorized\"  …  \"hatchet\",\"detached\",\"fretting\",\"of\",\",\",\"defense\",\".\",\"bureaucrats\",\"and\",\"had\"],NaN),(ASCIIString[\"therefore\",\",\",\"what\",\"we\",\"must\",\"prove\",\"or\",\"disprove\",\"is\",\"that\"  …  \"at\",\"the\",\"time\",\"it\",\"was\",\"called\",\"the\",\"saxon\",\"shore\",\".\"],ASCIIString[\"we\",\"it\",\"the\",\"the\",\"we\",\"be\",\"the\",\"it\",\"the\",\"the\"  …  \"near\",\"incidentally\",\"pierson\",\"down\",\"exception\",\"antithesis\",\".\",\"veterinarians\",\"preceded\",\"it\"],NaN),(ASCIIString[\"montero\",\"had\",\"set\",\"up\",\"a\",\"strong\",\"position\",\",\",\"using\",\"every\"  …  \"had\",\"in\",\"addition\",\"to\",\"barricades\",\"of\",\"logs\",\"and\",\"brush\",\".\"],ASCIIString[\"we\",\"a\",\"up\",\"to\",\"and\",\"in\",\"had\",\"of\",\"box\",\"using\"  …  \"barricades\",\"montero\",\".\",\"bale\",\"brush\",\"position\",\"every\",\",\",\"had\",\"addition\"],NaN),(ASCIIString[\"assume\",\",\",\"for\",\"example\",\",\",\"a\",\"situation\",\"where\",\"a\",\"farm\",\"has\",\"a\",\"packing\",\"shed\",\"and\",\"fields\",\".\"],Any[\"a\",\"packing\",\"shed\",\",\",\"assume\",\"for\",\"example\",\",\",\"a\",\"situation\",\"has\",\"a\",\"farm\",\"where\",\"and\",\"fields\",\".\"],1.6081026264675768e-38),(ASCIIString[\"these\",\"additional\",\"modern\",\"bombers\",\"will\",\"replace\",\"some\",\"of\",\"the\",\"older\",\"b-47\",\"medium\",\"bombers\",\";\",\";\"],ASCIIString[\"some\",\"will\",\"the\",\"medium\",\"of\",\"these\",\"modern\",\";\",\";\",\"bombers\",\"bombers\",\"older\",\"additional\",\"b-47\",\"replace\"],9.0),(ASCIIString[\"he\",\"got\",\"a\",\"good\",\"fat\",\"job\",\"and\",\"we\",\"congratulate\",\"him\",\"on\",\"his\",\"good\",\"luck\",\".\"],ASCIIString[\"fat\",\"and\",\"him\",\"good\",\"we\",\"got\",\"his\",\"good\",\"a\",\"job\",\"on\",\"he\",\".\",\"luck\",\"congratulate\"],13.0),(ASCIIString[\"``\",\"i\",\"might\",\"''\",\".\"],Any[\"``\",\"i\",\"''\",\"might\",\".\"],4.006753752029981e-12)],\"fold_2\"=>Any[(ASCIIString[\"by\",\"september\",\"1940\",\"the\",\"suite\",\"had\",\"developed\",\"into\",\"a\",\"collection\"  …  \"spirituals\",\",\",\"a\",\"dream\",\",\",\"and\",\"a\",\"lullaby\",\"''\",\".\"],ASCIIString[\"a\",\"a\",\"``\",\"a\",\"by\",\"into\",\"of\",\",\",\"songs\",\",\"  …  \"1940\",\"spirituals\",\".\",\"dream\",\"had\",\"six\",\"and\",\"''\",\"september\",\"four\"],NaN),(ASCIIString[\"the\",\"businessman\",\"was\",\"raymond\",\"thornburg\",\".\"],ASCIIString[\"was\",\"the\",\"businessman\",\".\",\"raymond\",\"thornburg\"],4.0),(ASCIIString[\"(\",\"``\",\"what\",\"did\",\"one\",\"tonsil\",\"say\",\"to\",\"the\",\"other\",\"tonsil\",\"?\",\"?\"],ASCIIString[\"did\",\"say\",\"what\",\"other\",\"``\",\"to\",\"(\",\"one\",\"the\",\"tonsil\",\"tonsil\",\"?\",\"?\"],9.0),(ASCIIString[\"the\",\"paramagnetic\",\"dipole\",\"effects\",\"provide\",\"some\",\"information\",\"on\",\"the\",\"particle\",\"shapes\",\".\"],ASCIIString[\"provide\",\"some\",\"the\",\"shapes\",\"the\",\"paramagnetic\",\"dipole\",\"effects\",\"on\",\"information\",\"particle\",\".\"],10.0),(ASCIIString[\"seven\",\"hundred\",\"miles\",\"south\",\"of\",\"york\",\"factory\",\",\",\"at\",\"``\"  …  \",\",\"twenty-three\",\"men\",\"located\",\"a\",\"settlement\",\"in\",\"august\",\"1812\",\".\"],ASCIIString[\"the\",\"north\",\"the\",\"in\",\"of\",\"at\",\"three\",\"town\",\"the\",\"three\"  …  \"assiniboine\",\"factory\",\"sanctimonious\",\"hirsch\",\"44-year-old\",\".\",\"followed\",\"contending\",\"15\",\"''\"],NaN),(ASCIIString[\"by\",\"the\",\"time\",\"he\",\"reached\",\"the\",\"edge\",\"of\",\"the\",\"pit\"  …  \"back\",\"ached\",\"under\",\"the\",\"drag\",\"of\",\"the\",\"dead\",\"weight\",\".\"],ASCIIString[\"his\",\"the\",\"the\",\"i\",\"the\",\"his\",\"the\",\"the\",\"back\",\"of\"  …  \"edge\",\"suffragettes\",\"hirsch\",\"reaching\",\"woodcock\",\"where\",\"by\",\"harrows\",\".\",\"dragging\"],NaN),(ASCIIString[\"our\",\"students\",\"want\",\"occupations\",\"that\",\"permit\",\"them\",\"to\",\"use\",\"their\"  …  \",\",\"to\",\"work\",\"with\",\"and\",\"to\",\"help\",\"other\",\"people\",\".\"],ASCIIString[\"to\",\"their\",\"to\",\"their\",\"to\",\"them\",\"to\",\"people\",\"work\",\"other\"  …  \"variety\",\".\",\"permit\",\"22-year-old\",\"formerly\",\"adding\",\"surely\",\"up\",\"that\",\"desiring\"],NaN),(ASCIIString[\"fortunately\",\",\",\"such\",\"cases\",\"in\",\"rhode\",\"island\",\"are\",\"more\",\"the\",\"exception\",\"than\",\"the\",\"rule\",\".\"],Any[\"fortunately\",\"the\",\"rule\",\"in\",\"such\",\"cases\",\"are\",\"more\",\"than\",\"the\",\"exception\",\",\",\"rhode\",\"island\",\".\"],4.453182443450242e-31),(ASCIIString[\"they\",\"stood\",\"there\",\",\",\"just\",\"the\",\"two\",\"of\",\"them\",\",\",\"in\",\"the\",\"rocking\",\",\",\"shattering\",\"blast\",\".\"],ASCIIString[\"them\",\"they\",\"just\",\"in\",\",\",\"there\",\"stood\",\",\",\"two\",\"the\",\"blast\",\",\",\"rocking\",\"of\",\".\",\"the\",\"shattering\"],15.0),(ASCIIString[\"she\",\"meant\",\"him\",\"well\",\",\",\"but\",\"was\",\"in\",\"no\",\"condition\",\"for\",\"articulate\",\"speech\",\".\"],ASCIIString[\"but\",\"him\",\"in\",\"condition\",\"was\",\"no\",\",\",\"well\",\"she\",\"meant\",\"for\",\".\",\"speech\",\"articulate\"],12.0)  …  (ASCIIString[\"at\",\"each\",\"step\",\"of\",\"the\",\"calculation\",\"the\",\"operating\",\"variables\",\"of\",\"only\",\"one\",\"stage\",\"need\",\"be\",\"varied\",\".\"],Any[\"one\",\"calculation\",\"of\",\"operating\",\"variables\",\"at\",\"each\",\"step\",\"of\",\"the\",\"need\",\"only\",\"be\",\"varied\",\"the\",\"stage\",\".\"],3.6906026998412498e-37),(ASCIIString[\"i.e.\",\",\",\"high\",\"loop\",\"gain\",\"causes\",\"the\",\"system\",\"to\",\"respond\",\"to\",\"horizontal\",\"components\",\"of\",\"accelerations\",\".\"],ASCIIString[\"gain\",\"the\",\"causes\",\",\",\"horizontal\",\"components\",\"to\",\"respond\",\"to\",\"high\",\"of\",\"loop\",\"system\",\"accelerations\",\"i.e.\",\".\"],12.0),(ASCIIString[\"this\",\"is\",\"true\",\"because\",\"of\",\"savings\",\"in\",\"utility\",\"lines\",\"and\"  …  \"buildings\",\"have\",\"a\",\"useful\",\"radius\",\"equal\",\"in\",\"all\",\"directions\",\".\"],ASCIIString[\"that\",\"this\",\"of\",\"a\",\"your\",\"in\",\"buildings\",\"utility\",\"equal\",\"lines\"  …  \"the\",\"true\",\"have\",\"in\",\"is\",\"all\",\"useful\",\"fact\",\".\",\"because\"],NaN),(ASCIIString[\"there\",\"have\",\"been\",\",\",\"indeed\",\",\",\"many\",\"important\",\"and\",\"valuable\"  …  \"the\",\"world\",\"for\",\"which\",\"we\",\"may\",\"be\",\"rightly\",\"grateful\",\".\"],ASCIIString[\"we\",\"be\",\"have\",\"our\",\"many\",\"be\",\"of\",\"important\",\"its\",\"world\"  …  \"sneaks\",\"may\",\"believe\",\"development\",\"1980\",\"amidst\",\"i-e\",\"meanwhile\",\"conversely\",\"outset\"],NaN),(ASCIIString[\"long\",\"weekends\",\"enable\",\"many\",\"to\",\"get\",\"away\",\"from\",\"home\",\"for\",\"three\",\"or\",\"four\",\"days\",\"several\",\"times\",\"a\",\"year\",\".\"],ASCIIString[\"for\",\"they\",\"to\",\"years\",\"from\",\"three\",\"long\",\"home\",\"days\",\"or\"  …  \"local\",\"times\",\"mile-long\",\".\",\"get\",\"several\",\"sneaks\",\"four\",\"enable\",\"than\"],NaN),(ASCIIString[\"if\",\"one\",\"dancer\",\"slaps\",\"another\",\",\",\"the\",\"victim\",\"may\",\"do\"  …  \",\",\"or\",\"offer\",\"his\",\"assailant\",\"a\",\"fork\",\"and\",\"spoon\",\".\"],ASCIIString[\"a\",\"or\",\"her\",\"if\",\"down\",\"he\",\"one\",\"or\",\"a\",\",\"  …  \".\",\"offer\",\"spoon\",\"leading\",\"another\",\"slaps\",\"do\",\"maquet\",\"reminiscent\",\"february\"],NaN),(ASCIIString[\"but\",\"more\",\"important\",\",\",\"and\",\"the\",\"thing\",\"which\",\"the\",\"casual\"  …  \"settings\",\"in\",\"which\",\"persians\",\"exercise\",\"their\",\"extraordinary\",\"aesthetic\",\"sensibilities\",\".\"],ASCIIString[\"we\",\"not\",\"they\",\"are\",\"you\",\"their\",\"more\",\"many\",\"this\",\"the\"  …  \"cites\",\"strategically\",\"1902\",\"happens\",\"silver\",\"nature\",\"f.\",\"within\",\"diversions\",\"subbing\"],NaN),(ASCIIString[\"to\",\"the\",\"editor\",\":\"],Any[\"to\",\"the\",\"editor\",\":\"],1.626546464114057e-5),(ASCIIString[\"when\",\"these\",\"groups\",\"were\",\"first\",\"formed\",\"many\",\"prominent\",\"and\",\"accomplished\"  …  \"design\",\"courses\",\"were\",\"rare\",\"and\",\"undeveloped\",\"during\",\"their\",\"youth\",\".\"],ASCIIString[\"have\",\"have\",\"have\",\"their\",\"were\",\"many\",\"for\",\"during\",\"the\",\"school\"  …  \"silhouetted\",\"adds\",\",\",\"revolutionists\",\"shortly\",\"helped\",\"these\",\"plugged\",\"1928\",\"six\"],NaN),(ASCIIString[\"pope\",\"leo\",\"13\",\",\",\"on\",\"the\",\"13th\",\"day\",\"of\",\"december\"  …  \"holy\",\"gospels\",\"at\",\"least\",\"a\",\"quarter\",\"of\",\"an\",\"hour\",\".\"],ASCIIString[\"an\",\"day\",\"of\",\"the\",\"day\",\"the\",\"it\",\"for\",\"of\",\"year\"  …  \"hirsch\",\"escapes\",\"chemische\",\"expert\",\"186\",\"however\",\"the\",\"sealed\",\"1897\",\"18\"],NaN)],\"fold_9\"=>Any[(ASCIIString[\"to\",\"begin\",\"the\",\"interview\",\",\",\"he\",\"asked\",\"if\",\"thayer\",\",\"  …  \"what\",\"he\",\"had\",\"said\",\"the\",\"other\",\"day\",\"about\",\"johnston\",\".\"],ASCIIString[\"we\",\"to\",\"not\",\"he\",\"about\",\"would\",\"to\",\"he\",\"about\",\"time\"  …  \"johnston\",\"opens\",\"got\",\"what\",\"could\",\"addition\",\"most\",\"suggested\",\"day\",\"once\"],NaN),(ASCIIString[\"he\",\"cleared\",\"his\",\"throat\",\";\",\";\"],Any[\"he\",\"cleared\",\"his\",\"throat\",\";\",\";\"],1.1694460374423339e-8),(ASCIIString[\"introduction\"],Any[\"introduction\"],0.00020447873107820355),(ASCIIString[\"it\",\"is\",\"obvious\",\"that\",\"such\",\"an\",\"influence\",\"can\",\"only\",\"be\"  …  \"of\",\"an\",\"image\",\"intensifier\",\"at\",\"rather\",\"high\",\"output\",\"levels\",\".\"],ASCIIString[\"an\",\"be\",\"any\",\"an\",\"this\",\"can\",\"high\",\"the\",\"more\",\"in\"  …  \",\",\"concludes\",\"principally\",\"final\",\"levels\",\"just\",\"as\",\"is\",\"wratten\",\"would\"],NaN),(ASCIIString[\"if\",\"the\",\"railroads\",\",\",\"for\",\"example\",\",\",\"regularly\",\"slaughtered\",\"25,000\"  …  \"hanging\",\"of\",\"every\",\"railroad\",\"president\",\"in\",\"the\",\"united\",\"states\",\".\"],ASCIIString[\"for\",\"for\",\"their\",\"for\",\"their\",\"people\",\"for\",\"would\",\"the\",\"states\"  …  \"helped\",\"alex\",\"flatus\",\"depot\",\"natch\",\"wherein\",\"buckling\",\"academics\",\"uproar\",\"once\"],NaN),(ASCIIString[\"he\",\"looked\",\"wildly\",\"around\",\",\",\"at\",\"the\",\"now\",\"empty\",\"street\",\",\",\"at\",\"the\",\"mud\",\",\",\"at\",\"the\",\"rain\",\".\"],ASCIIString[\"at\",\"at\",\"at\",\"the\",\"he\",\"the\",\",\",\"rain\",\"around\",\",\",\"looked\",\"street\",\"mud\",\"wildly\",\"empty\",\".\",\"the\",\",\",\"now\"],NaN),(ASCIIString[\"arrange\",\"a\",\"reserved\",\"section\",\"in\",\"the\",\"sanctuary\",\"where\",\"all\",\"new\",\"members\",\"may\",\"sit\",\"together\",\".\"],ASCIIString[\"together\",\"may\",\"sit\",\"where\",\"members\",\"the\",\"all\",\"reserved\",\"a\",\"section\",\"in\",\"new\",\".\",\"sanctuary\",\"arrange\"],13.0),(ASCIIString[\"the\",\"west\",\"has\",\"no\",\"intention\",\"of\",\"attacking\",\"russia\",\".\"],ASCIIString[\"has\",\"no\",\"west\",\"the\",\"intention\",\"of\",\"russia\",\".\",\"attacking\"],8.0),(ASCIIString[\"it\",\"is\",\"not\",\"our\",\"bodies\",\"but\",\"our\",\"hearts\",\"and\",\"heads\",\"that\",\"have\",\"grown\",\"too\",\"soft\",\".\"],ASCIIString[\"has\",\"it\",\"their\",\"not\",\"that\",\"our\",\"hearts\",\"and\",\"we\",\"too\",\"is\",\"grown\",\"soft\",\".\",\"heads\",\"bodies\"],12.0),(ASCIIString[\"anybody\",\"carrying\",\"anything\",\"that\",\"might\",\"hide\",\"a\",\"rifle\",\"?\",\"?\"],ASCIIString[\"carrying\",\"that\",\"anything\",\"a\",\"rifle\",\"?\",\"?\",\"hide\",\"anybody\",\"come\"],7.0)  …  (ASCIIString[\"once\",\"more\",\"and\",\"roared\",\"off\",\"into\",\"the\",\"fog\",\",\",\"his\"  …  \",\",\"just\",\"as\",\"his\",\"hand\",\"did\",\"when\",\"he\",\"worked\",\".\"],ASCIIString[\"his\",\"he\",\"it\",\"his\",\"they\",\"it\",\"him\",\"the\",\"when\",\"with\"  …  \"brodbeck\",\"includes\",\"sec.\",\"purveyor\",\"respectively\",\"epitomized\",\"pressed\",\"doubt\",\"which\",\"carpenter\"],NaN),(ASCIIString[\"she\",\"continues\",\"to\",\"add\",\"to\",\"the\",\"pollen\",\"supply\",\"as\",\"needed\",\".\"],ASCIIString[\"to\",\"add\",\"to\",\"supply\",\"as\",\"she\",\"needed\",\"the\",\"pollen\",\"continues\",\".\"],9.0),(ASCIIString[\"you\",\"may\",\"dress\",\"it\",\"up\",\"with\",\"any\",\"number\",\"of\",\"accessories\",\"or\",\"keep\",\"it\",\"as\",\"simple\",\"as\",\"you\",\"choose\",\".\"],ASCIIString[\"you\",\"you\",\"any\",\"it\",\"or\",\"as\",\"up\",\"dress\",\"of\",\"with\",\"may\",\"accessories\",\"number\",\"simple\",\"as\",\".\",\"choose\",\"it\",\"keep\"],NaN),(ASCIIString[\"while\",\"other\",\"conditions\",\"might\",\"be\",\"even\",\"more\",\"effective\",\"in\",\"bringing\"  …  \"himself\",\"temporarily\",\"from\",\"feelings\",\"of\",\"responsibility\",\"for\",\"his\",\"behavior\",\".\"],ASCIIString[\"not\",\"any\",\"not\",\"their\",\"it\",\"to\",\"that\",\"be\",\"more\",\"this\"  …  \"jointly\",\"last-minute\",\"320\",\"bewhiskered\",\".\",\"reference\",\"portland\",\"young\",\"hinting\",\"should\"],NaN),(ASCIIString[\"if\",\"we\",\"add\",\"to\",\"these\",\"contacts\",\"with\",\"friendly\",\"members\",\"the\"  …  \"two\",\"thirds\",\"of\",\"all\",\"recruitment\",\"is\",\"through\",\"friendly\",\"contact\",\".\"],ASCIIString[\"any\",\"we\",\"an\",\"all\",\"its\",\"of\",\"the\",\"to\",\"countries\",\"a\"  …  \"stragglers\",\"coupled\",\".\",\"important\",\"(\",\"''\",\"preferably\",\"jolly\",\"say\",\"newly\"],NaN),(ASCIIString[\"the\",\"layout\",\"of\",\"the\",\"sewer\",\"lines\",\"was\",\"designed\",\"by\",\"henry\"  …  \"was\",\"the\",\"engineer\",\"for\",\"the\",\"manchester\",\"village\",\"disposal\",\"plant\",\".\"],ASCIIString[\"the\",\"was\",\"the\",\"the\",\"was\",\"for\",\"by\",\"the\",\"who\",\"plant\"  …  \"lines\",\"disposal\",\"layout\",\"taylor\",\"sewer\",\",\",\".\",\"manchester\",\"village\",\"designed\"],NaN),(ASCIIString[\"it\",\"was\",\"when\",\"she\",\"was\",\"seized\",\"as\",\"a\",\"material\",\"witness\",\"that\",\"she\",\"got\",\"the\",\"designation\",\"she\",\"liked\",\"best\",\".\"],ASCIIString[\"she\",\"she\",\"was\",\"she\",\"it\",\"was\",\"a\",\"that\",\"the\",\"as\",\"when\",\"best\",\"material\",\"witness\",\"designation\",\"seized\",\"liked\",\"got\",\".\"],NaN),(ASCIIString[\"he\",\"would\",\"not\",\"look\",\"up\",\".\"],Any[\"he\",\"would\",\"not\",\"look\",\"up\",\".\"],9.65818082097771e-12),(ASCIIString[\"the\",\"input\",\"axis\",\"of\",\"the\",\"x\",\"gyro\",\",\",\"when\",\"pointing\"  …  \"is\",\"always\",\"perpendicular\",\"to\",\"the\",\"spin\",\"axis\",\"of\",\"earth\",\".\"],ASCIIString[\"the\",\"the\",\"axis\",\"the\",\"of\",\"axis\",\"the\",\"x\",\"direction\",\"of\"  …  \",\",\"spin\",\"east-west\",\"gyro\",\".\",\"pointing\",\"when\",\"is\",\"to\",\"always\"],NaN),(ASCIIString[\"the\",\"council\",\"we\",\"now\",\"know\",\"will\",\"concern\",\"itself\",\"directly\",\"only\",\"with\",\"the\",\"internal\",\"affairs\",\"of\",\"the\",\"church\",\".\"],Any[\"now\",\"the\",\"concern\",\"of\",\"the\",\"internal\",\"affairs\",\"council\",\"will\",\"we\",\"know\",\"only\",\"itself\",\"directly\",\"with\",\"the\",\"church\",\".\"],1.091392278441825e-35)],\"fold_7\"=>Any[(ASCIIString[\"he\",\"finds\",\"the\",\"structure\",\"contains\",\"an\",\"af\",\"bond\",\"with\",\"the\",\"af\",\"distance\",\"of\",\"af\",\".\"],Any[\"with\",\"af\",\"contains\",\"an\",\"af\",\"distance\",\"he\",\"finds\",\"the\",\"structure\",\"of\",\"the\",\"af\",\"bond\",\".\"],6.681325253919365e-33),(ASCIIString[\"danger\",\"cited\"],ASCIIString[\"danger\",\"cited\"],0.0),(ASCIIString[\"meaningful\",\"policies\",\"include\",\":\",\"(\",\"a\",\")\",\"kinds\",\"of\",\"cars\"  …  \"f\",\")\",\"need\",\"for\",\"liability\",\"insurance\",\"on\",\"state\",\"automobiles\",\".\"],ASCIIString[\")\",\")\",\")\",\")\",\"for\",\")\",\"we\",\"more\",\"all\",\")\"  …  \"hails\",\"anti-intellectual\",\"leonard\",\"a\",\"adjusting\",\"10\",\"victimized\",\"branch\",\"bismark\",\"(\"],NaN),(ASCIIString[\"he\",\"further\",\"proposed\",\"grants\",\"of\",\"an\",\"unspecified\",\"sum\",\"for\",\"experimental\",\"hospitals\",\".\"],ASCIIString[\"hospitals\",\"for\",\"further\",\"he\",\"of\",\"proposed\",\".\",\"an\",\"sum\",\"grants\",\"experimental\",\"unspecified\"],7.0),(ASCIIString[\"today\",\"however\",\",\",\"the\",\"``\",\"outsider\",\"''\",\"is\",\"likely\",\"to\"  …  \"the\",\"democratic\",\"processes\",\"of\",\"the\",\"secular\",\"or\",\"state\",\"university\",\".\"],ASCIIString[\"not\",\"not\",\"be\",\"to\",\"not\",\"the\",\"we\",\"state\",\"to\",\"the\"  …  \"attakapas\",\"slowed\",\"wilde\",\"predominantly\",\"capt.\",\"16.38\",\"advise\",\"clear\",\"sportsman\",\"this\"],NaN),(ASCIIString[\"(\",\"page\",\"34\",\")\"],ASCIIString[\"(\",\"page\",\"34\",\")\"],3.0),(ASCIIString[\"uniform\",\"questions\",\",\",\"definitions\",\",\",\"and\",\"procedures\",\"were\",\"enforced\",\"throughout\",\"the\",\"whole\",\"country\",\".\"],ASCIIString[\"whole\",\",\",\"uniform\",\",\",\"questions\",\"were\",\"and\",\"country\",\"the\",\"procedures\",\"throughout\",\".\",\"definitions\",\"enforced\"],10.0),(ASCIIString[\"in\",\"a\",\"minute\",\",\",\"or\",\"five\",\"minutes\",\",\",\"the\",\"business\",\"would\",\"be\",\"done\",\";\",\";\"],Any[\"five\",\"minutes\",\",\",\"a\",\"minute\",\",\",\"or\",\"would\",\"be\",\"done\",\"in\",\"the\",\"business\",\";\",\";\"],3.247698644362494e-27),(ASCIIString[\"jazz\",\",\",\"like\",\"sex\",\",\",\"is\",\"a\",\"mystique\",\".\"],Any[\"jazz\",\"is\",\"sex\",\",\",\"a\",\"mystique\",\",\",\"like\",\".\"],7.323496924700813e-19),(ASCIIString[\"he\",\"crossed\",\"the\",\"street\",\"and\",\"walked\",\"swiftly\",\"southward\",\"to\",\"circle\"  …  \"boulevard\",\"and\",\"north\",\"a\",\"block\",\"to\",\"the\",\"open\",\"restaurant\",\".\"],ASCIIString[\"to\",\"to\",\"north\",\"the\",\"back\",\"street\",\"the\",\"to\",\"he\",\"open\"  …  \"swiftly\",\"block\",\"boulevard\",\".\",\"a\",\"walked\",\"the\",\"southward\",\"and\",\"likewise\"],NaN)  …  (ASCIIString[\"he\",\"chatted\",\"with\",\"ramey\",\"and\",\"benson\",\"for\",\"a\",\"minute\",\"or\",\"so\",\"in\",\"the\",\"meager\",\"shade\",\"of\",\"the\",\"trailer\",\".\"],ASCIIString[\"for\",\"a\",\"the\",\"he\",\"in\",\"with\",\"shade\",\"of\",\"ramey\",\"trailer\",\"and\",\"benson\",\"meager\",\".\",\"chatted\",\"minute\",\"the\",\"or\",\"so\"],NaN),(ASCIIString[\"he\",\"begins\",\":\",\"``\"],Any[\"``\",\":\",\"he\",\"begins\"],0.0),(ASCIIString[\"as\",\"an\",\"isolated\",\"policy\",\",\",\"land\",\"reform\",\"is\",\"likely\",\"to\",\"be\",\"politically\",\"disruptive\",\";\",\";\"],ASCIIString[\"reform\",\"to\",\"as\",\"likely\",\"be\",\"politically\",\",\",\"land\",\"is\",\";\",\"policy\",\"an\",\";\",\"isolated\",\"disruptive\"],10.0),(ASCIIString[\"this\",\"is\",\"the\",\"force\",\",\",\"in\",\"our\",\"time\",\"and\",\"in\"  …  \"and\",\"the\",\"manic-depressive\",\"to\",\"become\",\"head\",\"of\",\"a\",\"state\",\".\"],ASCIIString[\"this\",\"the\",\"the\",\"state\",\"to\",\"a\",\"our\",\"in\",\"and\",\"time\"  …  \"paranoiac\",\"head\",\"manic-depressive\",\".\",\"in\",\"every\",\"time\",\"that\",\"the\",\",\"],NaN),(ASCIIString[\"martin\",\"felt\",\"it\",\"was\",\"incredible\",\"that\",\"the\",\"situation\",\"had\",\"come\",\"to\",\"exist\",\"at\",\"all\",\".\"],ASCIIString[\"be\",\"felt\",\"the\",\"situation\",\"had\",\"it\",\"all\",\"martin\",\"to\",\"exist\",\"that\",\"came\",\"at\",\".\",\"incredible\"],14.0),(ASCIIString[\"managing\",\"director\",\"donald\",\"c.\",\"wagner\",\"has\",\"agreed\",\"to\",\"cooperate\",\"fully\"  …  \"after\",\"a\",\"period\",\"of\",\"sharp\",\"disagreement\",\"on\",\"the\",\"matter\",\".\"],ASCIIString[\"a\",\"said\",\"its\",\"with\",\"to\",\"director\",\"months\",\"issues\",\"of\",\"robert\"  …  \"defunct\",\"donald\",\"cooperate\",\"deciding\",\"reputedly\",\"[\",\"meanwhile\",\".\",\"effected\",\"plopped\"],NaN),(ASCIIString[\"this\",\"is\",\"one\",\"difference\",\"between\",\"bird\",\"and\",\"dylan\",\"which\",\"should\",\"be\",\"pointed\",\"out\",\".\"],ASCIIString[\"be\",\"pointed\",\"out\",\"and\",\"which\",\"one\",\"bird\",\"is\",\"between\",\"this\",\"difference\",\"should\",\".\",\"dylan\"],13.0),(ASCIIString[\"that\",\"touched\",\"off\",\"a\",\"total\",\"stampede\",\".\"],ASCIIString[\"off\",\"that\",\"a\",\"total\",\".\",\"stampede\",\"touched\"],5.0),(ASCIIString[\"he\",\"was\",\"not\",\"unmoved\",\".\"],ASCIIString[\"was\",\"not\",\"he\",\".\",\"unmoved\"],4.0),(ASCIIString[\"in\",\"the\",\"past\",\"such\",\"government\",\"claims\",\"have\",\"been\",\"found\",\"exaggerated\",\".\"],Any[\"such\",\"claims\",\"in\",\"government\",\"have\",\"found\",\"the\",\"past\",\"been\",\"exaggerated\",\".\"],3.973486246589465e-26)],\"fold_1\"=>Any[(ASCIIString[\".\"],Any[\".\"],0.0032725202577280873),(ASCIIString[\"but\",\"he\",\"warmed\",\"up\",\"after\",\"a\",\"while\",\".\"],ASCIIString[\"a\",\"while\",\"he\",\"up\",\"but\",\"after\",\".\",\"warmed\"],7.0),(ASCIIString[\")\",\"what\",\"it\",\"does\",\":\"],Any[\")\",\"what\",\"it\",\"does\",\":\"],4.6947334103771274e-9),(ASCIIString[\"``\",\"forget\",\"we\",\"ever\",\"knew\",\"what\",\"''\",\"?\",\"?\"],ASCIIString[\"ever\",\"''\",\"what\",\"we\",\"``\",\"?\",\"?\",\"knew\",\"forget\"],7.0),(ASCIIString[\"what\",\"a\",\"spectacle\",\"he\",\"was\",\",\",\"caked\",\"with\",\"dirt\",\"and\"  …  \"absolutely\",\"the\",\"prettiest\",\"girl\",\"in\",\"this\",\"whole\",\"wonderful\",\"world\",\".\"],ASCIIString[\"i\",\"i\",\"the\",\"a\",\"it\",\"world\",\"her\",\"the\",\"people\",\"and\"  …  \"sorry\",\".\",\"astwood\",\"botanists\",\"presumes\",\"deal\",\"renamed\",\"caressing\",\"1930\",\"94\"],NaN),(ASCIIString[\"and\",\"even\",\"putting\",\"it\",\"that\",\"way\",\"would\",\"not\",\"prove\",\"that\",\"marx\",\"was\",\"anything\",\"but\",\"wrong\",\".\"],ASCIIString[\"putting\",\"it\",\"would\",\"prove\",\"not\",\"even\",\"that\",\"way\",\"was\",\"wrong\",\"and\",\"but\",\"anything\",\"that\",\".\",\"marx\"],15.0),(ASCIIString[\"with\",\"the\",\"divinities\",\"present\",\"and\",\"our\",\"souls\",\"in\",\"place\",\",\",\"we\",\"were\",\"wished\",\"health\",\",\",\"happiness\",\",\",\"and\",\"power\",\".\"],ASCIIString[\"we\",\"our\",\"and\",\"in\",\"and\",\".\",\"with\",\"power\",\",\",\"present\",\"happiness\",\",\",\"souls\",\"divinities\",\"were\",\",\",\"health\",\"the\",\"place\",\"wished\"],NaN),(ASCIIString[\"an\",\"important\",\"criterion\",\"of\",\"maturity\",\"is\",\"creativity\",\".\"],ASCIIString[\"criterion\",\"of\",\"maturity\",\"is\",\"an\",\"important\",\".\",\"creativity\"],7.0),(ASCIIString[\"it\",\"was\",\",\",\"of\",\"course\",\",\",\"in\",\"this\",\"drawing\",\"of\"  …  \"his\",\"desire\",\"to\",\"do\",\"full\",\"justice\",\"to\",\"an\",\"author\",\".\"],ASCIIString[\"of\",\"it\",\"his\",\"this\",\"of\",\"he\",\"of\",\"to\",\"the\",\"in\"  …  \",\",\".\",\"most\",\"full\",\"was\",\"author\",\"do\",\"clearly\",\"to\",\"that\"],NaN),(ASCIIString[\"at\",\"one\",\"and\",\"the\",\"same\",\"time\",\",\",\"she\",\"was\",\"within\"  …  \"searching\",\"for\",\"the\",\"drawbridge\",\"that\",\"would\",\"give\",\"her\",\"entry\",\".\"],ASCIIString[\"she\",\"the\",\"her\",\"it\",\"time\",\"the\",\"for\",\"one\",\"at\",\"would\"  …  \"drawbridge\",\"and\",\"same\",\"still\",\".\",\"searching\",\"was\",\"that\",\"give\",\"but\"],NaN)  …  (ASCIIString[\"have\",\"you\",\"checked\",\"the\",\"cost\",\"of\",\"subcontracting\",\"your\",\"cafeteria\",\"operation\",\"in\",\"order\",\"to\",\"save\",\"administrative\",\"costs\",\"?\",\"?\"],ASCIIString[\"order\",\"the\",\"administrative\",\"costs\",\"to\",\"save\",\"you\",\"have\",\"checked\",\"in\",\"your\",\"operation\",\"of\",\"cost\",\"?\",\"cafeteria\",\"subcontracting\",\"?\"],14.0),(ASCIIString[\"oedipus\",\"and\",\"lear\",\"instruct\",\"us\",\"how\",\"little\",\"of\",\"the\",\"world\",\"belongs\",\"to\",\"man\",\".\"],ASCIIString[\"oedipus\",\"and\",\"world\",\"how\",\"little\",\"man\",\"to\",\"instruct\",\"the\",\"us\",\"of\",\".\",\"belongs\",\"lear\"],12.0),(ASCIIString[\"``\",\"why\",\"did\",\"you\",\"do\",\"it\",\"--\",\"why\",\"did\",\"you\",\"hit\",\"him\",\"''\",\"?\",\"?\"],Any[\"``\",\"why\",\"did\",\"you\",\"''\",\"--\",\"why\",\"did\",\"you\",\"hit\",\"him\",\"do\",\"it\",\"?\",\"?\"],2.850468319214937e-24),(ASCIIString[\"she\",\"should\",\"offer\",\"substitutes\",\"for\",\"the\",\"temptations\",\"which\",\"seem\",\"overwhelmingly\",\"desirable\",\"to\",\"the\",\"child\",\".\"],ASCIIString[\"offer\",\"the\",\"child\",\"should\",\"she\",\"to\",\"desirable\",\"for\",\"which\",\"seem\",\"the\",\"temptations\",\".\",\"overwhelmingly\",\"substitutes\"],13.0),(ASCIIString[\"in\",\"a\",\"small\",\"grove\",\"against\",\"the\",\"river\",\"they\",\"halted\",\",\",\"turning\",\"deep\",\"into\",\"the\",\"protection\",\"of\",\"the\",\"trees\",\".\"],ASCIIString[\"the\",\"into\",\"the\",\"a\",\"they\",\"river\",\"in\",\"of\",\"trees\",\"against\",\"small\",\".\",\"deep\",\"protection\",\"grove\",\"halted\",\",\",\"the\",\"turning\"],NaN),(ASCIIString[\"all\",\"of\",\"its\",\"cities\",\"close\",\"their\",\"fiscal\",\"years\",\"on\",\"december\",\"31\",\".\"],Any[\"all\",\"of\",\"its\",\"cities\",\"close\",\"their\",\"fiscal\",\"years\",\"on\",\"december\",\"31\",\".\"],7.0983501150535035e-15),(ASCIIString[\"the\",\"new\",\"bedford\",\"standard-times\",\"has\",\"reported\",\"knowlton\",\"as\",\"saying\",\",\"  …  \"morse\",\",\",\"he\",\"would\",\"have\",\"convicted\",\"``\",\"somebody\",\"''\",\".\"],ASCIIString[\"``\",\"he\",\"he\",\"not\",\"he\",\"that\",\"``\",\"said\",\"not\",\"he\"  …  \"conceivably\",\"backs\",\"rank-and-file\",\"(\",\"befuddling\",\".\",\"50-year\",\"things\",\"husband\",\"once\"],NaN),(ASCIIString[\"as\",\"early\",\"as\",\"1858\",\",\",\"le\",\"fort\",\"claimed\",\"an\",\"alveolar\",\"distribution\",\"of\",\"the\",\"bronchial\",\"arteries\",\"in\",\"human\",\"beings\",\".\"],ASCIIString[\"human\",\"the\",\"an\",\"in\",\"as\",\"of\",\"early\",\"le\",\"alveolar\",\",\",\"fort\",\"bronchial\",\"as\",\"distribution\",\"1858\",\"beings\",\"claimed\",\"arteries\",\".\"],NaN),(ASCIIString[\"``\",\"e.\",\"b.\",\"''\",\"compared\",\"john\",\"brown\",\"to\",\"moses\",\"in\"  …  \"they\",\"were\",\"both\",\"acting\",\"to\",\"deliver\",\"millions\",\"from\",\"oppression\",\".\"],ASCIIString[\"to\",\"they\",\"``\",\"from\",\"john\",\"to\",\"b.\",\"in\",\"brown\",\"acting\"  …  \"moses\",\"e.\",\"oppression\",\"compared\",\"both\",\".\",\"that\",\"were\",\"deliver\",\"''\"],NaN),(ASCIIString[\"we\",\"both\",\"had\",\"hangovers\",\".\"],ASCIIString[\"had\",\"we\",\"both\",\".\",\"hangovers\"],4.0)],\"fold_8\"=>Any[(ASCIIString[\"word\",\"reached\",\"the\",\"company\",\"that\",\"the\",\"man\",\"behind\",\"these\",\"depredations\"  …  \"who\",\"were\",\"kept\",\"in\",\"line\",\"through\",\"fear\",\"of\",\"him\",\".\"],ASCIIString[\"people\",\"his\",\"a\",\"the\",\"they\",\"the\",\"he\",\"were\",\"of\",\"a\"  …  \"rogers\",\"prevents\",\"in\",\"look\",\"countered\",\"who\",\"alternatively\",\"well\",\"had\",\"10\"],NaN),(ASCIIString[\"he\",\"did\",\"seem\",\"hasty\",\"on\",\"his\",\"second\",\"and\",\"third\",\"shots\"  …  \"his\",\"composure\",\",\",\"which\",\"he\",\"had\",\"quite\",\"visibly\",\"lost\",\".\"],ASCIIString[\"he\",\"i\",\"his\",\"he\",\"they\",\"he\",\"it\",\"his\",\"after\",\"game\"  …  \"an\",\"in.\",\",\",\"nevertheless\",\"wrecked\",\"snappy\",\"duffy\",\"possible\",\"ok\",\"third\"],NaN),(ASCIIString[\"kansas\",\"city\",\",\",\"mo.\",\";\",\";\"],Any[\"kansas\",\"city\",\",\",\"mo.\",\";\",\";\"],5.341430008810767e-9),(ASCIIString[\"his\",\"bridgework\",\"or\",\"his\",\"plates\",\"feel\",\"loose\",\"and\",\"monstrous\",\".\"],ASCIIString[\"and\",\"feel\",\"his\",\"or\",\"his\",\".\",\"plates\",\"loose\",\"monstrous\",\"bridgework\"],6.0),(ASCIIString[\"every\",\"plane\",\"that\",\"could\",\"fly\",\"was\",\"sent\",\"into\",\"the\",\"air\",\".\"],Any[\"air\",\"that\",\"could\",\"the\",\"plane\",\"was\",\"sent\",\"into\",\"every\",\"fly\",\".\"],1.4376159246566438e-26),(ASCIIString[\"turn\",\"shaker\",\"upside\",\"down\",\".\"],ASCIIString[\"down\",\".\",\"upside\",\"shaker\",\"turn\"],2.0),(ASCIIString[\"was\",\"that\",\"what\",\"had\",\"given\",\"way\",\"in\",\"me\",\"?\",\"?\"],Any[\"in\",\"that\",\"way\",\"was\",\"what\",\"had\",\"given\",\"me\",\"?\",\"?\"],1.858257593778748e-18),(ASCIIString[\"the\",\"advantages\",\"of\",\"dilatation\",\"by\",\"the\",\"physician\",\"are\",\"both\",\"physical\",\"and\",\"psychological\",\".\"],ASCIIString[\"advantages\",\"the\",\"psychological\",\"and\",\"dilatation\",\"of\",\"by\",\"both\",\"are\",\"the\",\"physician\",\"physical\",\".\"],11.0),(ASCIIString[\"the\",\"collaboration\",\"was\",\"remarkable\",\",\",\"as\",\"it\",\"was\",\"in\",\"both\",\"the\",\"other\",\"movements\",\",\",\"too\",\".\"],ASCIIString[\"too\",\"the\",\"movements\",\"was\",\",\",\"it\",\"as\",\"was\",\"both\",\"the\",\"remarkable\",\",\",\"other\",\"in\",\"collaboration\",\".\"],15.0),(ASCIIString[\"they\",\"will\",\"be\",\"for\",\"teaching\",\",\",\"agriculture\",\"and\",\"community\",\"development\"  …  \",\",\"africa\",\",\",\"the\",\"middle\",\"east\",\"and\",\"latin\",\"america\",\".\"],ASCIIString[\"east\",\"will\",\"world\",\"for\",\"south\",\"in\",\"education\",\"america\",\"and\",\"east\"  …  \"heads\",\"farming\",\"exacerbated\",\"asia\",\"demanded\",\"complementing\",\"teach\",\"donnelly\",\"shortly\",\"expect\"],NaN)  …  (ASCIIString[\"this\",\"issue\",\"that\",\"you\",\"are\",\"reading\",\"marks\",\"my\",\"15th\",\"anniversary\",\".\"],ASCIIString[\"issue\",\"are\",\"your\",\"that\",\"marks\",\"this\",\"i\",\".\",\"anniversary\",\"reading\",\"15th\"],8.0),(ASCIIString[\"sba\",\"cosponsors\",\"these\",\"courses\",\"with\",\"educational\",\"institutions\",\"and\",\"community\",\"groups\",\".\"],ASCIIString[\"community\",\"groups\",\"and\",\"educational\",\"institutions\",\"with\",\"these\",\"courses\",\".\",\"cosponsors\",\"sba\"],9.0),(ASCIIString[\"the\",\"thoroughgoing\",\"idealization\",\"of\",\"the\",\"planter\",\"society\",\"did\",\"not\",\"come\"  …  \"defend\",\"a\",\"way\",\"of\",\"life\",\"which\",\"had\",\"been\",\"destroyed\",\".\"],ASCIIString[\"not\",\"not\",\"the\",\"they\",\"the\",\"of\",\"have\",\"the\",\"war\",\"to\"  …  \"when\",\",\",\"which\",\"idealization\",\"way\",\"until\",\".\",\"had\",\"another\",\"despite\"],NaN),(ASCIIString[\"they\",\"compose\",\"a\",\"painful\",\"elegy\",\"to\",\"what\",\"might\",\"have\",\"been\"  …  \"and\",\"ended\",\"in\",\"long\",\"years\",\"of\",\"suffering\",\"and\",\"hatred\",\".\"],ASCIIString[\"they\",\"they\",\"a\",\"a\",\"to\",\"years\",\"that\",\"her\",\"it\",\"for\"  …  \"faulknerian\",\"partnered\",\"220\",\"echoed\",\"supposed\",\",\",\"preconditioned\",\"happiness\",\"davidson\",\"indeed\"],NaN),(ASCIIString[\"processing\",\"methods\",\";\",\";\"],ASCIIString[\"processing\",\";\",\";\",\"methods\"],3.0),(ASCIIString[\"coffee\",\"is\",\"made\",\"from\",\"the\",\"roasted\",\"and\",\"ground\",\"seeds\",\"of\",\"the\",\"coffee\",\"tree\",\".\"],ASCIIString[\"coffee\",\"and\",\"coffee\",\"is\",\"made\",\"the\",\"tree\",\"seeds\",\"the\",\"ground\",\"of\",\"from\",\".\",\"roasted\"],13.0),(ASCIIString[\"--\",\"guidance\",\"in\",\"christian\",\"social\",\"concerns\",\".\"],ASCIIString[\"--\",\"in\",\"social\",\"guidance\",\".\",\"christian\",\"concerns\"],5.0),(ASCIIString[\"when\",\"this\",\"water\",\"level\",\"has\",\"been\",\"reached\",\",\",\"inject\",\"steam\"  …  \"reaches\",\"that\",\"shown\",\"in\",\"column\",\"b\",\"of\",\"table\",\"2\",\".\"],ASCIIString[\"the\",\"into\",\"level\",\"this\",\"the\",\"until\",\"water\",\"1\",\"in\",\"which\"  …  \"table\",\"flees\",\"that\",\"reaches\",\"recently\",\"been\",\"marveled\",\"12\",\",\",\"however\"],NaN),(ASCIIString[\"no\",\"one\",\",\",\"not\",\"even\",\"the\",\"producer\",\",\",\"had\",\"any\",\"real\",\"hope\",\"of\",\"getting\",\"it\",\"back\",\"to\",\"broadway\",\".\"],ASCIIString[\"any\",\"not\",\"no\",\"it\",\"they\",\"of\",\"back\",\"one\",\"much\",\",\",\"producer\",\"real\",\"broadway\",\"the\",\"hopes\",\",\",\"got\",\".\",\"only\",\"instructed\"],NaN),(ASCIIString[\"the\",\"darkening\",\"world\",\"scene\",\",\",\"at\",\"the\",\"time\",\"of\",\"the\"  …  \"trouble\",\"his\",\"mind\",\"even\",\"in\",\"his\",\"remote\",\"virginia\",\"studio\",\".\"],ASCIIString[\"his\",\"the\",\"world\",\"his\",\"the\",\"time\",\"in\",\"at\",\"the\",\"of\"  …  \"studio\",\"remote\",\"pact\",\"darkening\",\"virginia\",\"munich\",\"mind\",\",\",\"even\",\"to\"],NaN)],\"fold_3\"=>Any[(ASCIIString[\"with\",\"this\",\"ultimate\",\"weapon\",\",\",\"the\",\"two\",\"yankees\",\"may\",\"have\",\"saved\",\"baseball\",\"from\",\"its\",\"dullest\",\"season\",\".\"],ASCIIString[\"from\",\"may\",\"this\",\"with\",\"its\",\"two\",\"yankees\",\"have\",\"saved\",\"the\",\"weapon\",\",\",\"baseball\",\".\",\"season\",\"dullest\",\"ultimate\"],14.0),(ASCIIString[\"there\",\"may\",\"be\",\"others\",\".\"],Any[\"others\",\"may\",\"be\",\"there\",\".\"],4.3937263581689535e-10),(ASCIIString[\"the\",\"problem\",\"of\",\"solidarity\",\"and\",\"morale\",\"again\",\"involves\",\"the\",\"concept\",\"of\",\"values\",\".\"],ASCIIString[\"again\",\"the\",\"solidarity\",\"of\",\"morale\",\"of\",\"values\",\"the\",\"problem\",\"and\",\".\",\"involves\",\"concept\"],11.0),(ASCIIString[\"every\",\"pitch\",\"in\",\"the\",\"game\",\"brought\",\"forth\",\"a\",\"howl\",\"from\"  …  \"they\",\"dropped\",\"many\",\")\",\"called\",\"forth\",\"yelps\",\"of\",\"derision\",\".\"],ASCIIString[\"they\",\"game\",\"out\",\"it\",\"the\",\"they\",\"a\",\"from\",\"i\",\"the\"  …  \"resultant\",\"layton\",\"contrast\",\"testifies\",\",\",\"get\",\"breakers\",\"one\",\"meantime\",\"1870\"],NaN),(ASCIIString[\"i\",\"did\",\"not\",\"rest\",\"until\",\"i\",\"had\",\"tracked\",\"the\",\"mystery\",\"down\",\".\"],ASCIIString[\"down\",\"had\",\"until\",\"i\",\"did\",\"the\",\"rest\",\"not\",\"i\",\".\",\"mystery\",\"tracked\"],10.0),(ASCIIString[\"let\",\"us\",\"take\",\"a\",\"set\",\"of\",\"circumstances\",\"in\",\"which\",\"i\"  …  \"one\",\"of\",\"us\",\"might\",\"naturally\",\"make\",\"such\",\"a\",\"statement\",\".\"],ASCIIString[\"we\",\"we\",\"we\",\"i\",\"any\",\"it\",\"would\",\"it\",\"a\",\"will\"  …  \"gisors\",\"heavy-weight\",\"20-22\",\"similarly\",\"teamed\",\"assistant\",\"whether\",\"[\",\"hails\",\"2051\"],NaN),(ASCIIString[\"``\",\"nothing\",\"''\",\",\",\"phil\",\"said\",\".\"],Any[\"phil\",\"said\",\",\",\"``\",\"nothing\",\"''\",\".\"],2.0602148001730592e-10),(ASCIIString[\"rather\",\"the\",\"monthly\",\"total\",\"consumption\",\"was\",\"divided\",\"and\",\"charged\",\"on\"  …  \"of\",\"number\",\"of\",\"rooms\",\"and\",\"persons\",\"in\",\"the\",\"family\",\".\"],ASCIIString[\"of\",\"the\",\"of\",\"the\",\"on\",\"total\",\"was\",\"number\",\"basis\",\"and\"  …  \"consumption\",\"divided\",\"charged\",\"rooms\",\"monthly\",\"in\",\"and\",\"persons\",\".\",\"rather\"],NaN),(ASCIIString[\"the\",\"middle-aged\",\"man\",\"said\",\"over\",\"and\",\"over\",\",\",\"``\",\"why\"  …  \"come\",\"here\",\",\",\"why\",\"did\",\"i\",\"come\",\"here\",\"''\",\".\"],ASCIIString[\"i\",\"i\",\"over\",\"``\",\"here\",\"over\",\",\",\"the\",\",\",\"man\"  …  \"did\",\"''\",\"why\",\"did\",\"said\",\"come\",\".\",\"here\",\"why\",\"and\"],NaN),(ASCIIString[\"i\",\"have\",\"an\",\"appointment\",\"''\",\".\"],ASCIIString[\"have\",\"''\",\"i\",\".\",\"an\",\"appointment\"],4.0)  …  (ASCIIString[\"1\",\")\"],Any[\"1\",\")\"],8.988518355224886e-5),(ASCIIString[\"in\",\"this\",\"case\",\",\",\"drilling\",\"a\",\"small\",\"pilot\",\"hole\",\"or\",\"clamping\",\"the\",\"work\",\"will\",\"do\",\"much\",\"to\",\"improve\",\"accuracy\",\".\"],ASCIIString[\"do\",\"to\",\"this\",\"work\",\"a\",\"much\",\"the\",\"small\",\"drilling\",\"improve\",\"hole\",\",\",\"pilot\",\"accuracy\",\"in\",\"clamping\",\"case\",\"or\",\".\",\"will\"],NaN),(ASCIIString[\"``\",\"did\",\"you\",\"hear\",\"tim\",\"return\",\"''\",\"?\",\"?\"],ASCIIString[\"return\",\"''\",\"``\",\"hear\",\"you\",\"did\",\"?\",\"?\",\"tim\"],8.0),(ASCIIString[\"another\",\",\",\"arthur\",\"m.\",\"schlesinger\",\",\",\"jr.\",\",\",\"has\",\"won\",\"a\",\"pulitzer\",\"prize\",\"in\",\"history\",\";\",\";\"],ASCIIString[\"another\",\",\",\"a\",\"prize\",\"in\",\"history\",\"has\",\"won\",\",\",\"m.\",\",\",\"arthur\",\";\",\";\",\"jr.\",\"pulitzer\",\"schlesinger\"],14.0),(ASCIIString[\"he\",\"felt\",\"certain\",\"for\",\"the\",\"first\",\"time\",\"in\",\"his\",\"teaching\"  …  \"satisfying\",\"female\",\"sexual\",\"experience\",\"as\",\"most\",\"males\",\"might\",\"think\",\".\"],ASCIIString[\"not\",\"i\",\"for\",\"not\",\"more\",\"that\",\"for\",\"he\",\"this\",\"a\"  …  \"37-year-old\",\"meanwhile\",\"1,107\",\"may\",\"regarded\",\"magee\",\"which\",\"satisfying\",\"the\",\"?\"],NaN),(ASCIIString[\"this\",\"can\",\"be\",\"accomplished\",\"substantially\",\"by\",\"a\",\"continued\",\"trend\",\"toward\"  …  \"detection\",\",\",\"and\",\"control\",\"of\",\"insect\",\"and\",\"disease\",\"infestations\",\".\"],ASCIIString[\"more\",\"more\",\"we\",\"control\",\"more\",\"for\",\"be\",\"control\",\"their\",\"more\"  …  \"willows\",\"all-inclusive\",\"seal\",\"concurs\",\"aspiring\",\"respectively\",\"provoke\",\"walters\",\"which\",\"using\"],NaN),(ASCIIString[\"they\",\"were\",\"climbing\",\"the\",\"hill\",\"in\",\"the\",\"night\",\"when\",\"the\"  …  \"out\",\"into\",\"a\",\"faint\",\"mist\",\"of\",\"light\",\"and\",\"ended\",\".\"],ASCIIString[\"into\",\"the\",\"they\",\"light\",\"into\",\"the\",\"they\",\"light\",\"two\",\"the\"  …  \"they\",\"19-23\",\"co\",\"entrusting\",\"uses\",\"leading\",\"daybreak\",\"cf.\",\"setting\",\"referrals\"],NaN),(ASCIIString[\"but\",\"look\",\"at\",\"us\",\"today\",\"!\",\"!\"],ASCIIString[\"looks\",\"at\",\"us\",\"today\",\"they\",\"!\",\"!\"],5.0),(ASCIIString[\"no\",\"wonder\",\"melissa\",\"responded\",\"so\",\"completely\",\"to\",\"its\",\"beckoning\",\".\"],ASCIIString[\"so\",\"to\",\"no\",\"wonder\",\".\",\"completely\",\"beckoning\",\"melissa\",\"responded\",\"its\"],5.0),(ASCIIString[\"her\",\"statement\",\"was\",\"a\",\"hope\",\",\",\"not\",\"a\",\"truth\",\"in\",\"which\",\"they\",\"could\",\"believe\",\".\"],Any[\"a\",\"truth\",\"in\",\"a\",\"hope\",\"they\",\"believed\",\"it\",\",\",\"not\",\"be\",\"helped\",\"her\",\"statement\",\".\"],1.4134487535957476e-33)],\"fold_10\"=>Any[(ASCIIString[\"thus\",\"a\",\"new\",\"pattern\",\"of\",\"days\",\"began\",\"to\",\"develop\",\",\",\"for\",\"granny\",\"albright\",\"did\",\"not\",\"die\",\".\"],ASCIIString[\"develop\",\"for\",\"not\",\"thus\",\"to\",\"new\",\",\",\"began\",\"a\",\"die\",\"of\",\"pattern\",\".\",\"albright\",\"granny\",\"days\",\"did\"],13.0),(ASCIIString[\"for\",\"two\",\"hours\",\"they\",\"drove\",\"her\",\"from\",\"one\",\"strong\",\"point\"  …  \"the\",\"plain\",\"where\",\"they\",\"could\",\"get\",\"a\",\"good\",\"throw\",\".\"],ASCIIString[\"they\",\"you\",\"her\",\"they\",\"a\",\"their\",\"the\",\"to\",\"one\",\"the\"  …  \"160\",\"cornerstone\",\"accenting\",\"was\",\"drift\",\"give\",\"teamed\",\"read\",\"leaving\",\"seventeen\"],NaN),(ASCIIString[\"it\",\"is\",\"perhaps\",\"difficult\",\"to\",\"conceive\",\",\",\"but\",\"imagine\",\"that\"  …  \"shakespeare\",\",\",\"and\",\"perhaps\",\"some\",\"lyrics\",\"of\",\"their\",\"own\",\".\"],ASCIIString[\"you\",\"to\",\"it\",\"they\",\"to\",\"it\",\"their\",\"will\",\"about\",\"the\"  …  \"dunbar\",\"aims\",\"today\",\"dunne\",\"found\",\"torment\",\"leading\",\"ready\",\"chole\",\"recollection\"],NaN),(ASCIIString[\"she\",\"yanked\",\"away\",\"from\",\"him\",\"furiously\",\".\"],ASCIIString[\"from\",\"him\",\"she\",\".\",\"away\",\"furiously\",\"yanked\"],4.0),(ASCIIString[\"seeing\",\"her\",\"caused\",\"a\",\"lurch\",\"in\",\"ramey\",\",\",\"a\",\"recognition\",\".\"],ASCIIString[\"in\",\"seeing\",\"a\",\"recognition\",\",\",\"caused\",\"her\",\"a\",\".\",\"ramey\",\"lurch\"],9.0),(ASCIIString[\"the\",\"sharp\",\"ray\",\"was\",\"absorbed\",\"by\",\"a\",\"cloud\",\",\",\"then\"  …  \"to\",\"the\",\"earth\",\"in\",\"a\",\"softer\",\",\",\"diffused\",\"radiance\",\".\"],ASCIIString[\"a\",\"the\",\"by\",\"a\",\"earth\",\"in\",\"sharp\",\"then\",\"was\",\"cloud\"  …  \"ray\",\",\",\"radiance\",\"softer\",\"absorbed\",\",\",\".\",\"the\",\"diffused\",\"to\"],NaN),(ASCIIString[\"he\",\"is\",\"better\",\"fitted\",\"to\",\"perform\",\"his\",\"social\",\"life\",\"among\",\"his\",\"fellows\",\".\"],Any[\"among\",\"his\",\"fellows\",\"he\",\"fitted\",\"his\",\"social\",\"life\",\"is\",\"better\",\"to\",\"perform\",\".\"],4.491790757797913e-31),(ASCIIString[\"the\",\"way\",\"was\",\"opening\",\"up\",\";\",\";\"],Any[\"the\",\"way\",\"was\",\"opening\",\"up\",\";\",\";\"],3.194124603173743e-14),(ASCIIString[\"nevertheless\",\"he\",\"had\",\"ample\",\"opportunity\",\"to\",\"contest\",\"the\",\"statement\",\"before\",\"the\",\"appeal\",\"board\",\".\"],ASCIIString[\"before\",\"had\",\"the\",\"statement\",\"to\",\"appeal\",\"board\",\"the\",\"opportunity\",\".\",\"he\",\"contest\",\"ample\",\"nevertheless\"],10.0),(ASCIIString[\"he\",\"said\",\"she\",\"would\",\"only\",\"hurt\",\"herself\",\".\"],ASCIIString[\"would\",\"she\",\"herself\",\"only\",\"said\",\"he\",\".\",\"hurt\"],7.0)  …  (ASCIIString[\"religion\",\"has\",\"its\",\"own\",\"supernatural\",\"prescriptions\",\"that\",\"are\",\"at\",\"the\"  …  \"time\",\"codes\",\"of\",\"behavior\",\"for\",\"the\",\"here\",\"and\",\"now\",\".\"],ASCIIString[\"its\",\"for\",\"are\",\"the\",\"same\",\"religion\",\"at\",\"has\",\"behavior\",\"codes\"  …  \"prescriptions\",\"supernatural\",\"here\",\"and\",\".\",\"that\",\"time\",\"the\",\"own\",\"now\"],NaN),(ASCIIString[\"by\",\"reminding\",\"ourselves\",\"of\",\"these\",\"factors\",\"in\",\"the\",\"situation\",\",\"  …  \"between\",\"parker\",\"and\",\"his\",\"neighbors\",\"was\",\"fought\",\"in\",\"earnest\",\".\"],ASCIIString[\"we\",\"we\",\"we\",\"we\",\"it\",\"it\",\"be\",\"it\",\"war\",\"his\"  …  \"chive\",\"athens\",\"sure\",\"bengal\",\"same\",\"revelation\",\"be\",\"mothers-in-law\",\"tuesday\",\"dropped\"],NaN),(ASCIIString[\"bernard\",\"heuvelmans\",\"also\",\"treats\",\"of\",\"the\",\"largest\",\"snakes\",\",\",\"but\"  …  \"level\",\",\",\"and\",\"is\",\"chiefly\",\"concerned\",\"with\",\"the\",\"anaconda\",\".\"],ASCIIString[\"the\",\"the\",\"of\",\"on\",\"the\",\"also\",\",\",\"is\",\"with\",\",\"  …  \"level\",\"anaconda\",\"concerned\",\"treats\",\"heuvelmans\",\"third\",\"chiefly\",\"and\",\".\",\"but\"],NaN),(ASCIIString[\"some\",\"church\",\"leaders\",\",\",\"both\",\"clerical\",\"and\",\"lay\",\",\",\"have\"  …  \"the\",\"university\",\"for\",\"not\",\"taking\",\"the\",\"lead\",\"in\",\"desegregation\",\".\"],ASCIIString[\"have\",\"for\",\"church\",\"in\",\"not\",\"some\",\"university\",\"the\",\"leaders\",\"and\"  …  \"lay\",\"lead\",\"criticized\",\"desegregation\",\".\",\"clerical\",\",\",\"taking\",\"the\",\"both\"],NaN),(ASCIIString[\"recordings\",\";\",\";\"],ASCIIString[\";\",\";\",\"recordings\"],2.0),(ASCIIString[\"woven\",\"fabrics\",\"to\",\"be\",\"dried\",\"by\",\"procedure\",\"b\",\"(\",\"flat-bed\"  …  \"or\",\"restored\",\"by\",\"procedure\",\"3\",\"(\",\"hand\",\"ironing\",\")\",\":\"],ASCIIString[\")\",\"be\",\"or\",\"by\",\")\",\"procedure\",\"by\",\"hand\",\"(\",\"fabrics\"  …  \"dried\",\"flat-bed\",\"b\",\"pressed\",\"ironing\",\"restored\",\"woven\",\"to\",\"3\",\"(\"],NaN),(ASCIIString[\"the\",\"merchant\",\"marine\",\"is\",\"the\",\"``\",\"fourth\",\"arm\",\"of\",\"defense\"  …  \"essential\",\"to\",\"the\",\"economy\",\"and\",\"security\",\"of\",\"our\",\"nation\",\".\"],ASCIIString[\"the\",\"our\",\"for\",\"security\",\"is\",\"the\",\"of\",\"``\",\"marine\",\"american\"  …  \",\",\"arm\",\"marine\",\"essential\",\"of\",\"nation\",\".\",\"strong\",\"fourth\",\"''\"],NaN),(ASCIIString[\"an\",\"extension\",\"of\",\"2\",\"months\",\"beyond\",\"the\",\"regular\",\"due\",\"date\"  …  \"available\",\"to\",\"taxpayers\",\"making\",\"returns\",\"for\",\"a\",\"fiscal\",\"year\",\".\"],ASCIIString[\"for\",\"for\",\"this\",\"for\",\"year\",\"tax\",\"an\",\"months\",\"is\",\"to\"  …  \"advises\",\"dubbed\",\"lipowa\",\"made\",\".\",\"fiscal\",\"the\",\"date\",\"least\",\"2\"],NaN),(ASCIIString[\"(\",\"1\",\")\",\"''\"],Any[\"''\",\"(\",\"1\",\")\"],2.576946989138462e-7),(ASCIIString[\"when\",\"we\",\"repeat\",\"the\",\"remark\",\"that\",\"such\",\"suffering\",\"was\",\"a\"  …  \"we\",\"did\",\"before\",\",\",\"we\",\"should\",\"certainly\",\"answer\",\"yes\",\".\"],ASCIIString[\"we\",\"we\",\"we\",\"we\",\"we\",\"we\",\"we\",\"we\",\"not\",\"not\"  …  \"blyth\",\"right\",\"foster\",\"telling\",\"modifications\",\"bas\",\"unquestionably\",\"but\",\"spread\",\"asked\"],NaN)],\"fold_4\"=>Any[(ASCIIString[\"banks\",\"the\",\"butcher\",\"took\",\"meltzer\",\"the\",\"scholar\",\"as\",\"an\",\"apprentice\"  …  \"the\",\"commentaries\",\"of\",\"the\",\"talmud\",\"in\",\"order\",\"to\",\"live\",\".\"],ASCIIString[\"we\",\"not\",\"it\",\"to\",\"an\",\"the\",\"more\",\"he\",\"the\",\"you\"  …  \"the\",\"zipped\",\"vivian\",\"there\",\"polyphosphate\",\"walton\",\"being\",\"typology\",\"should\",\"infrequent\"],NaN),(ASCIIString[\"or\",\"to\",\"let\",\"the\",\"ethical\",\"be\",\"superseded\",\"by\",\"the\",\"purposive\",\".\"],ASCIIString[\"be\",\"to\",\"or\",\"let\",\".\",\"the\",\"by\",\"ethical\",\"the\",\"purposive\",\"superseded\"],5.0),(ASCIIString[\"if\",\"this\",\"capacity\",\"had\",\"not\",\"failed\",\"them\",\",\",\"they\",\"would\",\"see\",\"that\",\"their\",\"enemy\",\"has\",\"made\",\"a\",\"disastrous\",\"miscalculation\",\".\"],ASCIIString[\"would\",\"have\",\"not\",\"that\",\"their\",\"a\",\"had\",\"this\",\"made\",\"enemy\",\"disastrous\",\"capacity\",\",\",\"see\",\"failed\",\"miscalculation\",\".\",\"them\",\"if\",\"but\"],NaN),(ASCIIString[\"the\",\"high\",\"court\",\"held\",\"that\",\"the\",\"company\",\"must\",\"apply\",\"its\"  …  \"ground\",\",\",\"not\",\"to\",\"the\",\"revenue\",\"from\",\"finished\",\"products\",\".\"],ASCIIString[\"its\",\"the\",\"to\",\"any\",\"the\",\"percent\",\"they\",\"the\",\"be\",\"the\"  …  \",\",\"raw\",\"allowing\",\"stickman\",\"industry\",\"apply\",\"removed\",\"revenue\",\"of\",\"mid-1958\"],NaN),(ASCIIString[\"even\",\"on\",\"his\",\"tough\",\"constitution\",\",\",\"the\",\"exposure\",\"and\",\"strenuous\",\"activity\",\"were\",\"beginning\",\"to\",\"tell\",\"in\",\"earnest\",\".\"],ASCIIString[\"exposure\",\"and\",\"strenuous\",\"activity\",\"were\",\"on\",\"to\",\"even\",\"beginning\",\"the\",\"constitution\",\",\",\"tell\",\"his\",\"in\",\"earnest\",\".\",\"tough\"],17.0),(ASCIIString[\"the\",\"orator\",\"of\",\"this\",\"period\",\",\",\"in\",\"order\",\"to\",\"earn\"  …  \"it\",\"would\",\"have\",\"on\",\"the\",\"audience\",\"that\",\"heard\",\"it\",\".\"],ASCIIString[\"not\",\"it\",\"to\",\"it\",\"their\",\"this\",\"he\",\"its\",\"to\",\"the\"  …  \"could\",\"should\",\"description\",\"40\",\"as\",\"presumably\",\"bevy\",\"thrives\",\"300\",\"deciding\"],NaN),(ASCIIString[\"she\",\"learns\",\"how\",\"to\",\"relax\",\"them\",\"to\",\"accept\",\"--\",\"instead\",\"of\",\"contracting\",\"them\",\"to\",\"repel\",\"--\",\"the\",\"entering\",\"object\",\".\"],ASCIIString[\"to\",\"them\",\"to\",\"--\",\"them\",\"how\",\"she\",\"to\",\"of\",\"--\",\"entering\",\"object\",\"relax\",\"contracting\",\"the\",\"repel\",\"instead\",\"learns\",\".\",\"accept\"],NaN),(ASCIIString[\"adam\",\"watched\",\"his\",\"own\",\"hands\",\"make\",\"the\",\"caressing\",\",\",\"anxious\"  …  \"has\",\"been\",\"the\",\"ritual\",\"of\",\"stall\",\"vendors\",\",\",\"forever\",\".\"],ASCIIString[\"we\",\"their\",\"it\",\"his\",\"you\",\"the\",\"because\",\"her\",\"people\",\"which\"  …  \"chabrier\",\"the\",\"hector\",\"plainly\",\"breaker\",\".\",\"conjunction\",\"everything\",\"hinted\",\"velvety\"],NaN),(ASCIIString[\"the\",\"part\",\"of\",\"the\",\"mind\",\"that\",\"preserves\",\"dates\",\"and\",\"events\"  …  \"like\",\"that\",\"for\",\"only\",\"a\",\"little\",\"while\",\"''\",\";\",\";\"],ASCIIString[\"not\",\"it\",\"that\",\"it\",\"have\",\"for\",\"that\",\"the\",\"more\",\"of\"  …  \"remonstrate\",\"formerly\",\"exacerbated\",\"may\",\"while\",\"mind\",\"including\",\"could\",\"sighed\",\"''\"],NaN),(ASCIIString[\"we\",\"did\",\"that\",\".\"],Any[\"we\",\"did\",\"that\",\".\"],1.9168212057663645e-8)  …  (ASCIIString[\"the\",\"entrance\",\"to\",\"a\",\"church\",\"has\",\"been\",\"walled\",\"up\",\",\"  …  \"the\",\"western\",\"sector\",\",\",\"cannot\",\"worship\",\"god\",\"there\",\"anymore\",\".\"],ASCIIString[\"it\",\"not\",\"this\",\"church\",\"the\",\"it\",\"have\",\"the\",\"people\",\"a\"  …  \"worship\",\"despite\",\"walled\",\"assistant\",\"needed\",\"decade\",\"16.38\",\",\",\"hinted\",\"purveyor\"],NaN),(ASCIIString[\"there\",\"seems\",\"to\",\"be\",\"almost\",\"a\",\"conspiracy\",\"of\",\"silence\",\"veiling\",\"it\",\".\"],ASCIIString[\"silence\",\"of\",\"conspiracy\",\"to\",\"almost\",\"be\",\"there\",\"it\",\"seems\",\"a\",\".\",\"veiling\"],11.0),(ASCIIString[\"ruger\",\"reports\",\"that\",\"on\",\"his\",\"recent\",\"african\",\"safari\",\"the\",\"little\",\"magnum\",\"cartridge\",\"was\",\"a\",\"real\",\"work\",\"horse\",\".\"],ASCIIString[\"reports\",\"that\",\"work\",\"his\",\"recent\",\"horse\",\"was\",\"little\",\"on\",\"the\",\"a\",\"magnum\",\"african\",\"cartridge\",\"real\",\"safari\",\"ruger\",\".\"],12.0),(ASCIIString[\"--\",\"fetch\",\"me\",\"the\",\"copies\",\"of\",\"everything\",\"b\",\"and\",\"c\",\"companies\",\"have\",\"requisitioned\",\"in\",\"the\",\"last\",\"six\",\"months\",\".\"],ASCIIString[\"have\",\"the\",\"b\",\"months\",\"--\",\"in\",\"copies\",\"the\",\"c\",\"and\",\"fetch\",\"requisitioned\",\"me\",\".\",\"last\",\"six\",\"everything\",\"of\",\"companies\"],NaN),(ASCIIString[\"another\",\"problem\",\"in\",\"the\",\"area\",\"of\",\"federal-state\",\"relationships\",\"is\",\"this\"  …  \"what\",\"constitutes\",\"reversible\",\"error\",\"in\",\"a\",\"state\",\"decision\",\"?\",\"?\"],ASCIIString[\"this\",\"a\",\"what\",\"is\",\"state\",\"problem\",\"of\",\"in\",\"error\",\"?\"  …  \"constitutes\",\"relationships\",\":\",\"reversible\",\"area\",\"federal-state\",\"in\",\"decision\",\"another\",\"?\"],NaN),(ASCIIString[\"indeed\",\",\",\"with\",\"developed\",\"positivism\",\",\",\"the\",\"separation\",\"of\",\"law\"  …  \",\",\"or\",\"from\",\"morality\",\"generally\",\",\",\"became\",\"quite\",\"specific\",\".\"],ASCIIString[\"from\",\",\",\"law\",\".\",\",\",\"developed\",\"of\",\",\",\"morality\",\"from\"  …  \".\",\",\",\"the\",\"separation\",\"or\",\"acquainted\",\"specific\",\"despite\",\"quite\",\"known\"],NaN),(ASCIIString[\"as\",\"the\",\"temperature\",\"decreased\",\",\",\"the\",\"number\",\"of\",\"free\",\"swimming\",\"ciliated\",\"protozoa\",\"decreased\",\".\"],ASCIIString[\"temperature\",\"of\",\"as\",\"free\",\"the\",\",\",\"number\",\"the\",\".\",\"decreased\",\"ciliated\",\"protozoa\",\"swimming\",\"decreased\"],7.0),(ASCIIString[\"rather\",\"what\",\"kornbluth\",\"and\",\"pohl\",\"are\",\"really\",\"doing\",\"is\",\"warning\"  …  \"``\",\"a\",\"science\",\"of\",\"man\",\"and\",\"his\",\"motives\",\"''\",\".\"],ASCIIString[\"``\",\"what\",\"his\",\"are\",\"of\",\"against\",\"science\",\"is\",\"man\",\"and\"  …  \"and\",\"the\",\"really\",\"inherent\",\".\",\"motives\",\"warning\",\"doing\",\"a\",\"''\"],NaN),(ASCIIString[\"the\",\"chances\",\"were\",\"against\",\"his\",\"being\",\"here\",\"to\",\"humor\",\"her\",\"when\",\"her\",\"time\",\"came\",\",\",\"she\",\"was\",\"sure\",\".\"],ASCIIString[\"her\",\"her\",\"he\",\"were\",\"against\",\"time\",\"her\",\"the\",\"was\",\"here\",\"chances\",\"humor\",\",\",\"came\",\".\",\"sure\",\"when\",\"to\",\"being\"],NaN),(ASCIIString[\"the\",\"sand\",\"is\",\"fine\",\"and\",\"pleasant\",\",\",\"the\",\"cabanas\",\"are\"  …  \"raspberry\",\",\",\"and\",\"butter\",\"yellow\",\",\",\"are\",\"very\",\"gay\",\".\"],ASCIIString[\"are\",\"you\",\"are\",\"and\",\"it\",\"water\",\"and\",\"red\",\",\",\"and\"  …  \"parasols\",\"the\",\"hewett\",\"emmanuel\",\"utilizes\",\"absent\",\"extremely\",\"jewel\",\"thursday\",\"348\"],NaN)])\n",
       " Dict{ByteString,Any}(\"fold_6\"=>Any[(ASCIIString[\"the\",\"songs\",\"sandburg\",\"sang\",\"often\",\"reminded\",\"listeners\",\"of\",\"songs\",\"of\",\"a\",\"kindred\",\"character\",\"they\",\"knew\",\"entirely\",\"or\",\"in\",\"fragments\",\".\"],ASCIIString[\"songs\",\"of\",\"they\",\"the\",\"songs\",\"a\",\"character\",\"or\",\"sandburg\",\"fragments\",\"entirely\",\"kindred\",\"in\",\".\",\"reminded\",\"of\",\"often\",\"knew\",\"sang\",\"listeners\"],NaN),(ASCIIString[\"it\",\"will\",\"help\",\"to\",\"determine\",\"the\",\"attitude\",\"of\",\"the\",\"new\",\"members\",\"toward\",\"the\",\"church\",\".\"],Any[\"the\",\"new\",\"members\",\"of\",\"the\",\"attitude\",\"toward\",\"it\",\"will\",\"help\",\"to\",\"determine\",\"the\",\"church\",\".\"],2.8747047119667224e-25),(ASCIIString[\"(\",\"check\",\"on\",\"the\",\"payne\",\"luggage\",\".\"],ASCIIString[\"check\",\"the\",\"(\",\"on\",\".\",\"luggage\",\"payne\"],5.0),(ASCIIString[\"when\",\"it\",\"was\",\"over\",\",\",\"eight\",\"of\",\"his\",\"company\",\"were\",\"still\",\"alive\",\"and\",\"all\",\"eight\",\"were\",\"wounded\",\".\"],ASCIIString[\"company\",\"were\",\"eight\",\",\",\"and\",\"his\",\"it\",\"were\",\"still\",\"over\",\"when\",\"it\",\"were\",\"eight\",\"of\",\"wounded\",\".\",\"alive\"],17.0),(ASCIIString[\"philadelphia\",\"permitted\",\"him\",\"to\",\"seek\",\"a\",\"better\",\"connection\",\"after\",\"he\"  …  \"his\",\"decision\",\"to\",\"end\",\"his\",\"career\",\"as\",\"a\",\"player\",\".\"],ASCIIString[\"his\",\"to\",\"him\",\"to\",\"his\",\"to\",\"a\",\"he\",\"to\",\"decision\"  …  \"a\",\"court\",\"philadelphia\",\"option\",\"contacts\",\"ironically\",\"player\",\".\",\"refused\",\"sooner\"],NaN),(ASCIIString[\"one\",\"does\",\"not\",\"have\",\"to\",\"look\",\"for\",\"distress\",\".\"],ASCIIString[\"have\",\"one\",\"does\",\"to\",\"for\",\"not\",\"look\",\".\",\"distress\"],8.0),(ASCIIString[\"``\",\"song\",\"of\",\"hiawatha\",\"''\",\",\",\"in\",\"elgin\",\",\",\"illinois\",\",\",\"from\",\"june\",\"20\",\"to\",\"24th\",\".\"],ASCIIString[\"20\",\"to\",\"illinois\",\"''\",\"in\",\",\",\"from\",\"``\",\"june\",\",\",\"of\",\"song\",\",\",\"24th\",\".\",\"hiawatha\",\"elgin\"],15.0),(ASCIIString[\"the\",\"housekeeping\",\"problems\",\"of\",\"living\",\"in\",\"a\",\"shelter\",\"will\",\"begin\",\"as\",\"soon\",\"as\",\"the\",\"shelter\",\"is\",\"occupied\",\".\"],Any[\"problems\",\"as\",\"a\",\"shelter\",\"will\",\"begin\",\"in\",\"the\",\"shelter\",\"of\",\"living\",\"as\",\"soon\",\"the\",\"housekeeping\",\"is\",\"occupied\",\".\"],6.735206957527091e-44),(ASCIIString[\"his\",\"bogey\",\"4\",\"on\",\"this\",\"hole\",\"and\",\"subsequent\",\"bogeys\",\"at\"  …  \"birdie\",\"at\",\"8\",\"brought\",\"him\",\"back\",\"to\",\"even\",\"par\",\".\"],ASCIIString[\"birdie\",\"on\",\"at\",\"him\",\"bogey\",\"to\",\"his\",\"at\",\"back\",\"with\"  …  \"bogeys\",\".\",\"subsequent\",\"along\",\"brought\",\"7\",\"even\",\"8\",\"4\",\"5\"],NaN),(ASCIIString[\"the\",\"child\",\"in\",\"the\",\"primary\",\"grades\",\"can\",\"play\",\"harmoniously\",\"with\"  …  \"him\",\"into\",\"trouble\",\"when\",\"the\",\"group\",\"gets\",\"larger\",\";\",\";\"],ASCIIString[\"you\",\"it\",\"be\",\"he\",\"her\",\"it\",\"for\",\"into\",\"the\",\"two\"  …  \"quoting\",\"interrogatives\",\"2000\",\"pushes\",\"t.w.\",\"either\",\"arouse\",\"half\",\"assessing\",\",\"],NaN)  …  (ASCIIString[\"has\",\"the\",\"probable\",\"price\",\"situation\",\"in\",\"your\",\"field\",\"been\",\"forecast\",\"as\",\"a\",\"basis\",\"for\",\"future\",\"planning\",\"?\",\"?\"],ASCIIString[\"be\",\"no\",\"price\",\"for\",\"yesterday\",\"as\",\"our\",\"economic\",\"situation\",\"has\"  …  \"probable\",\"spoof\",\"sues\",\"stayed\",\"neocortex\",\"recommends\",\"28\",\"coiffure\",\"etc.\",\"originally\"],14.0),(ASCIIString[\"i\",\"asked\",\".\"],Any[\"i\",\"asked\",\".\"],0.0006580090674970204),(ASCIIString[\"those\",\"who\",\"have\",\"never\",\"traveled\",\"the\",\"width\",\"and\",\"length\",\"of\"  …  \"variety\",\"of\",\"this\",\"country\",\"held\",\"together\",\"under\",\"one\",\"government\",\".\"],ASCIIString[\"they\",\"this\",\"of\",\"any\",\"the\",\"have\",\"of\",\"the\",\"government\",\"this\"  …  \",\",\"because\",\"fertility\",\"weaves\",\"and\",\"definitive\",\"encircled\",\"webb\",\"cf.\",\"stockholders\"],NaN),(ASCIIString[\"other\",\"winners\"],ASCIIString[\"other\",\"winners\"],1.0),(ASCIIString[\"nixon\",\"fulfilled\",\"his\",\"assignment\",\"with\",\"grace\",\",\",\"then\",\"went\",\"beyond\",\"the\",\"required\",\"``\",\"sufficient\",\"declaration\",\"''\",\".\"],ASCIIString[\"sufficient\",\"beyond\",\"his\",\"assignment\",\"''\",\"with\",\"``\",\"then\",\"went\",\",\",\"required\",\"the\",\"nixon\",\".\",\"grace\",\"declaration\",\"fulfilled\"],14.0),(ASCIIString[\"this\",\"circular\",\"edifice\",\",\",\"constructed\",\"by\",\"agrippa\",\"in\",\"b.c.\",\"27\"  …  \"rebuilt\",\"in\",\"its\",\"present\",\"shape\",\"by\",\"the\",\"emperor\",\"hadrian\",\".\"],ASCIIString[\"was\",\"emperor\",\"this\",\"built\",\"by\",\"its\",\"in\",\".\",\"circular\",\"roman\"  …  \"b.c.\",\"consoled\",\"covering\",\",\",\"resultant\",\"the\",\"constructed\",\"succeeds\",\"142\",\"march\"],NaN),(ASCIIString[\"economically\",\",\",\"martin\",\"said\",\",\",\"the\",\"united\",\"states\",\"could\",\"best\",\"help\",\"foreign\",\"countries\",\"by\",\"helping\",\"them\",\"help\",\"themselves\",\".\"],ASCIIString[\"countries\",\"states\",\"them\",\"united\",\"help\",\"foreign\",\"by\",\"help\",\",\",\"martin\",\"economically\",\"the\",\",\",\"best\",\"said\",\"themselves\",\".\",\"could\",\"helping\"],NaN),(ASCIIString[\"``\",\"that\",\"important\",\"''\",\".\"],Any[\"``\",\"that\",\"important\",\"''\",\".\"],1.851203321102976e-7),(ASCIIString[\"she\",\"noted\",\"that\",\"no\",\"student\",\"had\",\"been\",\"withdrawn\",\"through\",\"loss\",\"of\",\"confidence\",\";\",\";\"],ASCIIString[\"loss\",\"through\",\"that\",\"confidence\",\"of\",\"no\",\"student\",\"was\",\"she\",\"have\",\";\",\";\",\"noted\",\"withdrawn\"],12.0),(ASCIIString[\"and\",\",\",\"when\",\"you\",\"took\",\"a\",\"walk\",\"you\",\"never\",\"knew\"  …  \"of\",\"sparkling\",\"eyes\",\"were\",\"waiting\",\"around\",\"the\",\"next\",\"corner\",\".\"],ASCIIString[\"you\",\"you\",\"i\",\"out\",\"they\",\"a\",\"the\",\"around\",\"her\",\"two\"  …  \"taurida\",\"alone\",\"participant\",\"feds\",\"gabriel\",\"were\",\"quick\",\"winced\",\"it\",\",\"],NaN)],\"fold_5\"=>Any[(ASCIIString[\"the\",\"brush\",\"moves\",\"up\",\"and\",\"down\",\"and\",\"is\",\"small\",\"enough\"  …  \"dental\",\"surface\",\",\",\"including\",\"the\",\"back\",\"of\",\"the\",\"teeth\",\".\"],ASCIIString[\"up\",\"the\",\"to\",\"the\",\"small\",\"teeth\",\"and\",\"down\",\"of\",\"surface\"  …  \"brush\",\"moves\",\".\",\"the\",\"clean\",\"enough\",\"back\",\"every\",\"including\",\",\"],NaN),(ASCIIString[\"his\",\"sinuous\",\"melody\",\"is\",\"a\",\"sort\",\"of\",\"naive\",\"transcendence\",\"of\",\"all\",\"experience\",\".\"],ASCIIString[\"sort\",\"is\",\"naive\",\"of\",\"of\",\"all\",\"his\",\"experience\",\"a\",\"melody\",\".\",\"sinuous\",\"transcendence\"],11.0),(ASCIIString[\"she\",\"reached\",\"and\",\"reached\",\"around\",\"the\",\"dress\",\",\",\"but\",\"there\",\"was\",\"nothing\",\"there\",\".\"],Any[\"around\",\"and\",\"reached\",\",\",\"but\",\"there\",\"was\",\"nothing\",\"there\",\"she\",\"reached\",\"the\",\"dress\",\".\"],1.5959306239140452e-31),(ASCIIString[\"this\",\"process\",\"is\",\"especially\",\"difficult\",\"since\",\"gyro\",\"drifting\",\"is\",\"typically\",\"random\",\".\"],ASCIIString[\"since\",\"this\",\"process\",\"is\",\"especially\",\"is\",\"difficult\",\".\",\"random\",\"typically\",\"gyro\",\"drifting\"],8.0),(ASCIIString[\"if\",\"you\",\"got\",\"too\",\"many\",\"people\",\"investing\",\"by\",\"this\",\"method\"  …  \"stock\",\"prices\",\",\",\"and\",\"thus\",\"throw\",\"the\",\"charts\",\"off\",\".\"],ASCIIString[\"you\",\"their\",\"they\",\"more\",\"prices\",\"would\",\"their\",\"it\",\"off\",\"more\"  …  \"resulting\",\"reminded\",\".\",\"essentially\",\"concerned\",\"if\",\"going\",\"throw\",\"include\",\"symbolized\"],NaN),(ASCIIString[\"i\",\"will\",\"deal\",\"with\",\"these\",\"later\",\"on\",\".\"],Any[\"i\",\"later\",\"on\",\"these\",\"will\",\"deal\",\"with\",\".\"],7.369628833758917e-20),(ASCIIString[\"this\",\"appears\",\"to\",\"be\",\"high\",\",\",\"as\",\"would\",\"be\",\"expected\"  …  \"the\",\"appreciable\",\"viscosity\",\"of\",\"the\",\"material\",\"in\",\"the\",\"drops\",\".\"],ASCIIString[\"be\",\"be\",\"the\",\"the\",\"to\",\"high\",\"this\",\"the\",\"from\",\"in\"  …  \"as\",\",\",\"viscosity\",\"drops\",\"of\",\"appreciable\",\"expected\",\".\",\"appears\",\"would\"],NaN),(ASCIIString[\"cricket\",\"took\",\"eight\",\"ships\",\"and\",\"went\",\"south\",\"across\",\"the\",\"straits\",\"and\",\"along\",\"the\",\"north\",\"coast\",\"of\",\"mindanao\",\"to\",\"cagayan\",\".\"],ASCIIString[\"south\",\"north\",\"across\",\"the\",\"coast\",\"to\",\"the\",\"and\",\"straits\",\"of\",\"mindanao\",\"cricket\",\"cagayan\",\"and\",\"ships\",\"along\",\"went\",\"took\",\".\",\"eight\"],NaN),(ASCIIString[\"neither\",\"of\",\"these\",\"poems\",\"is\",\"an\",\"aberration\",\";\",\";\"],ASCIIString[\"these\",\"poems\",\"of\",\"is\",\"neither\",\"an\",\";\",\"aberration\",\";\"],6.0),(ASCIIString[\"the\",\"low\",\"countries\",\",\",\"where\",\"the\",\"middle\",\"ages\",\"were\",\"to\"  …  \"the\",\"fields\",\"and\",\"forests\",\"below\",\"the\",\"walls\",\"of\",\"grandson\",\".\"],ASCIIString[\"the\",\"the\",\"their\",\"the\",\"years\",\"the\",\"they\",\"of\",\"of\",\"out\"  …  \"trucking\",\"fonds\",\"brennan\",\"korea\",\"where\",\"first\",\"bastianini\",\"additionally\",\"appealing\",\"three\"],NaN)  …  (ASCIIString[\"b\"],Any[\"b\"],0.0),(ASCIIString[\"it\",\"was\",\"probably\",\"at\",\"this\",\"period\",\"that\",\"littlepage\",\"got\",\"his\",\"first\",\"good\",\"look\",\"at\",\"the\",\"ordinary\",\"russian\",\"soldier\",\".\"],ASCIIString[\"it\",\"at\",\"this\",\"the\",\"his\",\"russian\",\"at\",\"period\",\"good\",\"soldier\",\"got\",\"ordinary\",\"littlepage\",\"first\",\"look\",\"was\",\"that\",\".\",\"probably\"],NaN),(ASCIIString[\"this\",\"was\",\"the\",\"worst\",\"thing\",\"i\",\"could\",\"have\",\"said\",\".\"],Any[\"this\",\"thing\",\"was\",\"i\",\"could\",\"have\",\"said\",\"the\",\"worst\",\".\"],1.221663547491175e-22),(ASCIIString[\"fretting\",\"privately\",\"but\",\"eschewing\",\"public\",\"defense\",\"of\",\"his\",\"terrorized\",\"bureaucrats\"  …  \"and\",\"detached\",\"while\",\"the\",\"hatchet\",\"men\",\"had\",\"their\",\"way\",\".\"],ASCIIString[\"their\",\"his\",\"public\",\"but\",\"the\",\"remained\",\"way\",\"men\",\"serene\",\"terrorized\"  …  \"hatchet\",\"detached\",\"fretting\",\"of\",\",\",\"defense\",\".\",\"bureaucrats\",\"and\",\"had\"],NaN),(ASCIIString[\"therefore\",\",\",\"what\",\"we\",\"must\",\"prove\",\"or\",\"disprove\",\"is\",\"that\"  …  \"at\",\"the\",\"time\",\"it\",\"was\",\"called\",\"the\",\"saxon\",\"shore\",\".\"],ASCIIString[\"we\",\"it\",\"the\",\"the\",\"we\",\"be\",\"the\",\"it\",\"the\",\"the\"  …  \"near\",\"incidentally\",\"pierson\",\"down\",\"exception\",\"antithesis\",\".\",\"veterinarians\",\"preceded\",\"it\"],NaN),(ASCIIString[\"montero\",\"had\",\"set\",\"up\",\"a\",\"strong\",\"position\",\",\",\"using\",\"every\"  …  \"had\",\"in\",\"addition\",\"to\",\"barricades\",\"of\",\"logs\",\"and\",\"brush\",\".\"],ASCIIString[\"we\",\"a\",\"up\",\"to\",\"and\",\"in\",\"had\",\"of\",\"box\",\"using\"  …  \"barricades\",\"montero\",\".\",\"bale\",\"brush\",\"position\",\"every\",\",\",\"had\",\"addition\"],NaN),(ASCIIString[\"assume\",\",\",\"for\",\"example\",\",\",\"a\",\"situation\",\"where\",\"a\",\"farm\",\"has\",\"a\",\"packing\",\"shed\",\"and\",\"fields\",\".\"],ASCIIString[\"fields\",\",\",\"assume\",\"for\",\"a\",\"farm\",\"a\",\"situation\",\"where\",\"and\",\"has\",\"shed\",\",\",\"packing\",\"a\",\".\",\"example\"],16.0),(ASCIIString[\"these\",\"additional\",\"modern\",\"bombers\",\"will\",\"replace\",\"some\",\"of\",\"the\",\"older\",\"b-47\",\"medium\",\"bombers\",\";\",\";\"],ASCIIString[\"some\",\"will\",\"the\",\"medium\",\"of\",\"these\",\"modern\",\";\",\";\",\"bombers\",\"bombers\",\"older\",\"additional\",\"b-47\",\"replace\"],9.0),(ASCIIString[\"he\",\"got\",\"a\",\"good\",\"fat\",\"job\",\"and\",\"we\",\"congratulate\",\"him\",\"on\",\"his\",\"good\",\"luck\",\".\"],ASCIIString[\"good\",\"we\",\"and\",\"job\",\"he\",\"got\",\"on\",\"him\",\"his\",\"good\",\"a\",\"fat\",\".\",\"luck\",\"congratulate\"],13.0),(ASCIIString[\"``\",\"i\",\"might\",\"''\",\".\"],Any[\"``\",\"i\",\"''\",\"might\",\".\"],4.006753752029981e-12)],\"fold_2\"=>Any[(ASCIIString[\"by\",\"september\",\"1940\",\"the\",\"suite\",\"had\",\"developed\",\"into\",\"a\",\"collection\"  …  \"spirituals\",\",\",\"a\",\"dream\",\",\",\"and\",\"a\",\"lullaby\",\"''\",\".\"],ASCIIString[\"a\",\"a\",\"``\",\"a\",\"by\",\"into\",\"of\",\",\",\"songs\",\",\"  …  \"1940\",\"spirituals\",\".\",\"dream\",\"had\",\"six\",\"and\",\"''\",\"september\",\"four\"],NaN),(ASCIIString[\"the\",\"businessman\",\"was\",\"raymond\",\"thornburg\",\".\"],ASCIIString[\"was\",\"the\",\"businessman\",\".\",\"raymond\",\"thornburg\"],4.0),(ASCIIString[\"(\",\"``\",\"what\",\"did\",\"one\",\"tonsil\",\"say\",\"to\",\"the\",\"other\",\"tonsil\",\"?\",\"?\"],ASCIIString[\"say\",\"the\",\"(\",\"what\",\"did\",\"to\",\"one\",\"``\",\"other\",\"?\",\"?\",\"tonsil\",\"tonsil\"],11.0),(ASCIIString[\"the\",\"paramagnetic\",\"dipole\",\"effects\",\"provide\",\"some\",\"information\",\"on\",\"the\",\"particle\",\"shapes\",\".\"],ASCIIString[\"provide\",\"some\",\"the\",\"shapes\",\"the\",\"paramagnetic\",\"dipole\",\"effects\",\"on\",\"information\",\".\",\"particle\"],11.0),(ASCIIString[\"seven\",\"hundred\",\"miles\",\"south\",\"of\",\"york\",\"factory\",\",\",\"at\",\"``\"  …  \",\",\"twenty-three\",\"men\",\"located\",\"a\",\"settlement\",\"in\",\"august\",\"1812\",\".\"],ASCIIString[\"the\",\"north\",\"the\",\"in\",\"of\",\"at\",\"three\",\"town\",\"the\",\"three\"  …  \"assiniboine\",\"factory\",\"sanctimonious\",\"hirsch\",\"44-year-old\",\".\",\"followed\",\"contending\",\"15\",\"''\"],NaN),(ASCIIString[\"by\",\"the\",\"time\",\"he\",\"reached\",\"the\",\"edge\",\"of\",\"the\",\"pit\"  …  \"back\",\"ached\",\"under\",\"the\",\"drag\",\"of\",\"the\",\"dead\",\"weight\",\".\"],ASCIIString[\"his\",\"the\",\"the\",\"i\",\"the\",\"his\",\"the\",\"the\",\"back\",\"of\"  …  \"edge\",\"suffragettes\",\"hirsch\",\"reaching\",\"woodcock\",\"where\",\"by\",\"harrows\",\".\",\"dragging\"],NaN),(ASCIIString[\"our\",\"students\",\"want\",\"occupations\",\"that\",\"permit\",\"them\",\"to\",\"use\",\"their\"  …  \",\",\"to\",\"work\",\"with\",\"and\",\"to\",\"help\",\"other\",\"people\",\".\"],ASCIIString[\"to\",\"their\",\"to\",\"their\",\"to\",\"them\",\"to\",\"people\",\"work\",\"other\"  …  \"variety\",\".\",\"permit\",\"22-year-old\",\"formerly\",\"adding\",\"surely\",\"up\",\"that\",\"desiring\"],NaN),(ASCIIString[\"fortunately\",\",\",\"such\",\"cases\",\"in\",\"rhode\",\"island\",\"are\",\"more\",\"the\",\"exception\",\"than\",\"the\",\"rule\",\".\"],Any[\"fortunately\",\"the\",\"rule\",\"in\",\"such\",\"cases\",\"are\",\"more\",\"than\",\"rhode\",\"island\",\",\",\"the\",\"exception\",\".\"],2.7397037088249253e-31),(ASCIIString[\"they\",\"stood\",\"there\",\",\",\"just\",\"the\",\"two\",\"of\",\"them\",\",\",\"in\",\"the\",\"rocking\",\",\",\"shattering\",\"blast\",\".\"],ASCIIString[\"them\",\"the\",\"blast\",\",\",\"the\",\"two\",\",\",\"they\",\"just\",\"of\",\",\",\"rocking\",\"in\",\"there\",\"stood\",\".\",\"shattering\"],16.0),(ASCIIString[\"she\",\"meant\",\"him\",\"well\",\",\",\"but\",\"was\",\"in\",\"no\",\"condition\",\"for\",\"articulate\",\"speech\",\".\"],ASCIIString[\"well\",\"was\",\"but\",\"meant\",\"him\",\"she\",\"no\",\",\",\"in\",\"condition\",\"for\",\".\",\"speech\",\"articulate\"],12.0)  …  (ASCIIString[\"at\",\"each\",\"step\",\"of\",\"the\",\"calculation\",\"the\",\"operating\",\"variables\",\"of\",\"only\",\"one\",\"stage\",\"need\",\"be\",\"varied\",\".\"],Any[\"the\",\"calculation\",\"of\",\"operating\",\"variables\",\"at\",\"each\",\"step\",\"of\",\"one\",\"need\",\"only\",\"be\",\"varied\",\"the\",\"stage\",\".\"],1.1006597054027226e-37),(ASCIIString[\"i.e.\",\",\",\"high\",\"loop\",\"gain\",\"causes\",\"the\",\"system\",\"to\",\"respond\",\"to\",\"horizontal\",\"components\",\"of\",\"accelerations\",\".\"],ASCIIString[\"gain\",\"the\",\"causes\",\",\",\"horizontal\",\"components\",\"to\",\"respond\",\"to\",\"high\",\"of\",\"loop\",\".\",\"system\",\"accelerations\",\"i.e.\"],13.0),(ASCIIString[\"this\",\"is\",\"true\",\"because\",\"of\",\"savings\",\"in\",\"utility\",\"lines\",\"and\"  …  \"buildings\",\"have\",\"a\",\"useful\",\"radius\",\"equal\",\"in\",\"all\",\"directions\",\".\"],ASCIIString[\"that\",\"this\",\"of\",\"a\",\"your\",\"in\",\"buildings\",\"utility\",\"equal\",\"lines\"  …  \"the\",\"true\",\"have\",\"in\",\"is\",\"all\",\"useful\",\"fact\",\".\",\"because\"],NaN),(ASCIIString[\"there\",\"have\",\"been\",\",\",\"indeed\",\",\",\"many\",\"important\",\"and\",\"valuable\"  …  \"the\",\"world\",\"for\",\"which\",\"we\",\"may\",\"be\",\"rightly\",\"grateful\",\".\"],ASCIIString[\"we\",\"be\",\"have\",\"our\",\"many\",\"be\",\"of\",\"important\",\"its\",\"world\"  …  \"sneaks\",\"may\",\"believe\",\"development\",\"1980\",\"amidst\",\"i-e\",\"meanwhile\",\"conversely\",\"outset\"],NaN),(ASCIIString[\"long\",\"weekends\",\"enable\",\"many\",\"to\",\"get\",\"away\",\"from\",\"home\",\"for\",\"three\",\"or\",\"four\",\"days\",\"several\",\"times\",\"a\",\"year\",\".\"],ASCIIString[\"for\",\"they\",\"to\",\"years\",\"from\",\"three\",\"long\",\"home\",\"days\",\"or\"  …  \"local\",\"times\",\"mile-long\",\".\",\"get\",\"several\",\"sneaks\",\"four\",\"enable\",\"than\"],NaN),(ASCIIString[\"if\",\"one\",\"dancer\",\"slaps\",\"another\",\",\",\"the\",\"victim\",\"may\",\"do\"  …  \",\",\"or\",\"offer\",\"his\",\"assailant\",\"a\",\"fork\",\"and\",\"spoon\",\".\"],ASCIIString[\"a\",\"or\",\"her\",\"if\",\"down\",\"he\",\"one\",\"or\",\"a\",\",\"  …  \".\",\"offer\",\"spoon\",\"leading\",\"another\",\"slaps\",\"do\",\"maquet\",\"reminiscent\",\"february\"],NaN),(ASCIIString[\"but\",\"more\",\"important\",\",\",\"and\",\"the\",\"thing\",\"which\",\"the\",\"casual\"  …  \"settings\",\"in\",\"which\",\"persians\",\"exercise\",\"their\",\"extraordinary\",\"aesthetic\",\"sensibilities\",\".\"],ASCIIString[\"we\",\"not\",\"they\",\"are\",\"you\",\"their\",\"more\",\"many\",\"this\",\"the\"  …  \"cites\",\"strategically\",\"1902\",\"happens\",\"silver\",\"nature\",\"f.\",\"within\",\"diversions\",\"subbing\"],NaN),(ASCIIString[\"to\",\"the\",\"editor\",\":\"],Any[\"to\",\"the\",\"editor\",\":\"],1.626546464114057e-5),(ASCIIString[\"when\",\"these\",\"groups\",\"were\",\"first\",\"formed\",\"many\",\"prominent\",\"and\",\"accomplished\"  …  \"design\",\"courses\",\"were\",\"rare\",\"and\",\"undeveloped\",\"during\",\"their\",\"youth\",\".\"],ASCIIString[\"have\",\"have\",\"have\",\"their\",\"were\",\"many\",\"for\",\"during\",\"the\",\"school\"  …  \"silhouetted\",\"adds\",\",\",\"revolutionists\",\"shortly\",\"helped\",\"these\",\"plugged\",\"1928\",\"six\"],NaN),(ASCIIString[\"pope\",\"leo\",\"13\",\",\",\"on\",\"the\",\"13th\",\"day\",\"of\",\"december\"  …  \"holy\",\"gospels\",\"at\",\"least\",\"a\",\"quarter\",\"of\",\"an\",\"hour\",\".\"],ASCIIString[\"an\",\"day\",\"of\",\"the\",\"day\",\"the\",\"it\",\"for\",\"of\",\"year\"  …  \"hirsch\",\"escapes\",\"chemische\",\"expert\",\"186\",\"however\",\"the\",\"sealed\",\"1897\",\"18\"],NaN)],\"fold_9\"=>Any[(ASCIIString[\"to\",\"begin\",\"the\",\"interview\",\",\",\"he\",\"asked\",\"if\",\"thayer\",\",\"  …  \"what\",\"he\",\"had\",\"said\",\"the\",\"other\",\"day\",\"about\",\"johnston\",\".\"],ASCIIString[\"we\",\"to\",\"not\",\"he\",\"about\",\"would\",\"to\",\"he\",\"about\",\"time\"  …  \"johnston\",\"opens\",\"got\",\"what\",\"could\",\"addition\",\"most\",\"suggested\",\"day\",\"once\"],NaN),(ASCIIString[\"he\",\"cleared\",\"his\",\"throat\",\";\",\";\"],Any[\"he\",\"cleared\",\"his\",\"throat\",\";\",\";\"],1.1694460374423339e-8),(ASCIIString[\"introduction\"],Any[\"introduction\"],0.00020447873107820355),(ASCIIString[\"it\",\"is\",\"obvious\",\"that\",\"such\",\"an\",\"influence\",\"can\",\"only\",\"be\"  …  \"of\",\"an\",\"image\",\"intensifier\",\"at\",\"rather\",\"high\",\"output\",\"levels\",\".\"],ASCIIString[\"an\",\"be\",\"any\",\"an\",\"this\",\"can\",\"high\",\"the\",\"more\",\"in\"  …  \",\",\"concludes\",\"principally\",\"final\",\"levels\",\"just\",\"as\",\"is\",\"wratten\",\"would\"],NaN),(ASCIIString[\"if\",\"the\",\"railroads\",\",\",\"for\",\"example\",\",\",\"regularly\",\"slaughtered\",\"25,000\"  …  \"hanging\",\"of\",\"every\",\"railroad\",\"president\",\"in\",\"the\",\"united\",\"states\",\".\"],ASCIIString[\"for\",\"for\",\"their\",\"for\",\"their\",\"people\",\"for\",\"would\",\"the\",\"states\"  …  \"helped\",\"alex\",\"flatus\",\"depot\",\"natch\",\"wherein\",\"buckling\",\"academics\",\"uproar\",\"once\"],NaN),(ASCIIString[\"he\",\"looked\",\"wildly\",\"around\",\",\",\"at\",\"the\",\"now\",\"empty\",\"street\",\",\",\"at\",\"the\",\"mud\",\",\",\"at\",\"the\",\"rain\",\".\"],ASCIIString[\"at\",\"at\",\"at\",\"the\",\"he\",\"the\",\",\",\"rain\",\"around\",\",\",\"looked\",\"street\",\"mud\",\"wildly\",\"empty\",\".\",\"the\",\",\",\"now\"],NaN),(ASCIIString[\"arrange\",\"a\",\"reserved\",\"section\",\"in\",\"the\",\"sanctuary\",\"where\",\"all\",\"new\",\"members\",\"may\",\"sit\",\"together\",\".\"],ASCIIString[\"section\",\"in\",\"new\",\"members\",\"the\",\"may\",\"sit\",\"where\",\"all\",\"together\",\"a\",\"reserved\",\".\",\"sanctuary\",\"arrange\"],13.0),(ASCIIString[\"the\",\"west\",\"has\",\"no\",\"intention\",\"of\",\"attacking\",\"russia\",\".\"],ASCIIString[\"russia\",\"has\",\"of\",\"no\",\"west\",\"the\",\"intention\",\"attacking\",\".\"],7.0),(ASCIIString[\"it\",\"is\",\"not\",\"our\",\"bodies\",\"but\",\"our\",\"hearts\",\"and\",\"heads\",\"that\",\"have\",\"grown\",\"too\",\"soft\",\".\"],ASCIIString[\"has\",\"it\",\"their\",\"bodies\",\"that\",\"we\",\"not\",\"our\",\"hearts\",\"and\",\"too\",\"is\",\"grown\",\".\",\"soft\",\"heads\"],14.0),(ASCIIString[\"anybody\",\"carrying\",\"anything\",\"that\",\"might\",\"hide\",\"a\",\"rifle\",\"?\",\"?\"],ASCIIString[\"carrying\",\"that\",\"anything\",\"a\",\"rifle\",\"?\",\"?\",\"hide\",\"anybody\",\"come\"],7.0)  …  (ASCIIString[\"once\",\"more\",\"and\",\"roared\",\"off\",\"into\",\"the\",\"fog\",\",\",\"his\"  …  \",\",\"just\",\"as\",\"his\",\"hand\",\"did\",\"when\",\"he\",\"worked\",\".\"],ASCIIString[\"his\",\"he\",\"it\",\"his\",\"they\",\"it\",\"him\",\"the\",\"when\",\"with\"  …  \"brodbeck\",\"includes\",\"sec.\",\"purveyor\",\"respectively\",\"epitomized\",\"pressed\",\"doubt\",\"which\",\"carpenter\"],NaN),(ASCIIString[\"she\",\"continues\",\"to\",\"add\",\"to\",\"the\",\"pollen\",\"supply\",\"as\",\"needed\",\".\"],ASCIIString[\"add\",\"to\",\"needed\",\"the\",\"supply\",\"to\",\"as\",\"she\",\".\",\"pollen\",\"continues\"],9.0),(ASCIIString[\"you\",\"may\",\"dress\",\"it\",\"up\",\"with\",\"any\",\"number\",\"of\",\"accessories\",\"or\",\"keep\",\"it\",\"as\",\"simple\",\"as\",\"you\",\"choose\",\".\"],ASCIIString[\"you\",\"you\",\"any\",\"it\",\"or\",\"as\",\"up\",\"dress\",\"of\",\"with\",\"may\",\"accessories\",\"number\",\"simple\",\"as\",\".\",\"choose\",\"it\",\"keep\"],NaN),(ASCIIString[\"while\",\"other\",\"conditions\",\"might\",\"be\",\"even\",\"more\",\"effective\",\"in\",\"bringing\"  …  \"himself\",\"temporarily\",\"from\",\"feelings\",\"of\",\"responsibility\",\"for\",\"his\",\"behavior\",\".\"],ASCIIString[\"not\",\"any\",\"not\",\"their\",\"it\",\"to\",\"that\",\"be\",\"more\",\"this\"  …  \"jointly\",\"last-minute\",\"320\",\"bewhiskered\",\".\",\"reference\",\"portland\",\"young\",\"hinting\",\"should\"],NaN),(ASCIIString[\"if\",\"we\",\"add\",\"to\",\"these\",\"contacts\",\"with\",\"friendly\",\"members\",\"the\"  …  \"two\",\"thirds\",\"of\",\"all\",\"recruitment\",\"is\",\"through\",\"friendly\",\"contact\",\".\"],ASCIIString[\"any\",\"we\",\"an\",\"all\",\"its\",\"of\",\"the\",\"to\",\"countries\",\"a\"  …  \"stragglers\",\"coupled\",\".\",\"important\",\"(\",\"''\",\"preferably\",\"jolly\",\"say\",\"newly\"],NaN),(ASCIIString[\"the\",\"layout\",\"of\",\"the\",\"sewer\",\"lines\",\"was\",\"designed\",\"by\",\"henry\"  …  \"was\",\"the\",\"engineer\",\"for\",\"the\",\"manchester\",\"village\",\"disposal\",\"plant\",\".\"],ASCIIString[\"the\",\"was\",\"the\",\"the\",\"was\",\"for\",\"by\",\"the\",\"who\",\"plant\"  …  \"lines\",\"disposal\",\"layout\",\"taylor\",\"sewer\",\",\",\".\",\"manchester\",\"village\",\"designed\"],NaN),(ASCIIString[\"it\",\"was\",\"when\",\"she\",\"was\",\"seized\",\"as\",\"a\",\"material\",\"witness\",\"that\",\"she\",\"got\",\"the\",\"designation\",\"she\",\"liked\",\"best\",\".\"],ASCIIString[\"she\",\"she\",\"was\",\"she\",\"it\",\"was\",\"a\",\"that\",\"the\",\"as\",\"when\",\"best\",\"material\",\"witness\",\"designation\",\"seized\",\"liked\",\"got\",\".\"],NaN),(ASCIIString[\"he\",\"would\",\"not\",\"look\",\"up\",\".\"],Any[\"he\",\"would\",\"not\",\"look\",\"up\",\".\"],9.65818082097771e-12),(ASCIIString[\"the\",\"input\",\"axis\",\"of\",\"the\",\"x\",\"gyro\",\",\",\"when\",\"pointing\"  …  \"is\",\"always\",\"perpendicular\",\"to\",\"the\",\"spin\",\"axis\",\"of\",\"earth\",\".\"],ASCIIString[\"the\",\"the\",\"axis\",\"the\",\"of\",\"axis\",\"the\",\"x\",\"direction\",\"of\"  …  \",\",\"spin\",\"east-west\",\"gyro\",\".\",\"pointing\",\"when\",\"is\",\"to\",\"always\"],NaN),(ASCIIString[\"the\",\"council\",\"we\",\"now\",\"know\",\"will\",\"concern\",\"itself\",\"directly\",\"only\",\"with\",\"the\",\"internal\",\"affairs\",\"of\",\"the\",\"church\",\".\"],Any[\"the\",\"only\",\"now\",\"the\",\"internal\",\"affairs\",\"council\",\"will\",\"we\",\"know\",\"of\",\"the\",\"church\",\"itself\",\"directly\",\"with\",\"concern\",\".\"],1.8786838496980702e-37)],\"fold_7\"=>Any[(ASCIIString[\"he\",\"finds\",\"the\",\"structure\",\"contains\",\"an\",\"af\",\"bond\",\"with\",\"the\",\"af\",\"distance\",\"of\",\"af\",\".\"],Any[\"af\",\"contains\",\"an\",\"af\",\"distance\",\"he\",\"finds\",\"the\",\"structure\",\"of\",\"af\",\"with\",\"the\",\"bond\",\".\"],7.568486207594092e-36),(ASCIIString[\"danger\",\"cited\"],ASCIIString[\"danger\",\"cited\"],0.0),(ASCIIString[\"meaningful\",\"policies\",\"include\",\":\",\"(\",\"a\",\")\",\"kinds\",\"of\",\"cars\"  …  \"f\",\")\",\"need\",\"for\",\"liability\",\"insurance\",\"on\",\"state\",\"automobiles\",\".\"],ASCIIString[\")\",\")\",\")\",\")\",\"for\",\")\",\"we\",\"more\",\"all\",\")\"  …  \"hails\",\"anti-intellectual\",\"leonard\",\"a\",\"adjusting\",\"10\",\"victimized\",\"branch\",\"bismark\",\"(\"],NaN),(ASCIIString[\"he\",\"further\",\"proposed\",\"grants\",\"of\",\"an\",\"unspecified\",\"sum\",\"for\",\"experimental\",\"hospitals\",\".\"],ASCIIString[\"hospitals\",\"for\",\"further\",\"he\",\"of\",\"proposed\",\".\",\"an\",\"sum\",\"grants\",\"experimental\",\"unspecified\"],7.0),(ASCIIString[\"today\",\"however\",\",\",\"the\",\"``\",\"outsider\",\"''\",\"is\",\"likely\",\"to\"  …  \"the\",\"democratic\",\"processes\",\"of\",\"the\",\"secular\",\"or\",\"state\",\"university\",\".\"],ASCIIString[\"not\",\"not\",\"be\",\"to\",\"not\",\"the\",\"we\",\"state\",\"to\",\"the\"  …  \"attakapas\",\"slowed\",\"wilde\",\"predominantly\",\"capt.\",\"16.38\",\"advise\",\"clear\",\"sportsman\",\"this\"],NaN),(ASCIIString[\"(\",\"page\",\"34\",\")\"],ASCIIString[\"(\",\"page\",\"34\",\")\"],3.0),(ASCIIString[\"uniform\",\"questions\",\",\",\"definitions\",\",\",\"and\",\"procedures\",\"were\",\"enforced\",\"throughout\",\"the\",\"whole\",\"country\",\".\"],ASCIIString[\"procedures\",\"were\",\"and\",\"country\",\"the\",\"uniform\",\",\",\"questions\",\",\",\"throughout\",\".\",\"definitions\",\"enforced\",\"whole\"],11.0),(ASCIIString[\"in\",\"a\",\"minute\",\",\",\"or\",\"five\",\"minutes\",\",\",\"the\",\"business\",\"would\",\"be\",\"done\",\";\",\";\"],Any[\"five\",\"minutes\",\",\",\"a\",\"minute\",\",\",\"or\",\"would\",\"be\",\"done\",\"in\",\"the\",\"business\",\";\",\";\"],3.247698644362494e-27),(ASCIIString[\"jazz\",\",\",\"like\",\"sex\",\",\",\"is\",\"a\",\"mystique\",\".\"],Any[\"jazz\",\"is\",\"sex\",\",\",\"a\",\"mystique\",\",\",\"like\",\".\"],7.323496924700813e-19),(ASCIIString[\"he\",\"crossed\",\"the\",\"street\",\"and\",\"walked\",\"swiftly\",\"southward\",\"to\",\"circle\"  …  \"boulevard\",\"and\",\"north\",\"a\",\"block\",\"to\",\"the\",\"open\",\"restaurant\",\".\"],ASCIIString[\"to\",\"to\",\"north\",\"the\",\"back\",\"street\",\"the\",\"to\",\"he\",\"open\"  …  \"swiftly\",\"block\",\"boulevard\",\".\",\"a\",\"walked\",\"the\",\"southward\",\"and\",\"likewise\"],NaN)  …  (ASCIIString[\"he\",\"chatted\",\"with\",\"ramey\",\"and\",\"benson\",\"for\",\"a\",\"minute\",\"or\",\"so\",\"in\",\"the\",\"meager\",\"shade\",\"of\",\"the\",\"trailer\",\".\"],ASCIIString[\"for\",\"a\",\"the\",\"he\",\"in\",\"with\",\"shade\",\"of\",\"ramey\",\"trailer\",\"and\",\"benson\",\"meager\",\".\",\"chatted\",\"minute\",\"the\",\"or\",\"so\"],NaN),(ASCIIString[\"he\",\"begins\",\":\",\"``\"],Any[\"``\",\":\",\"he\",\"begins\"],0.0),(ASCIIString[\"as\",\"an\",\"isolated\",\"policy\",\",\",\"land\",\"reform\",\"is\",\"likely\",\"to\",\"be\",\"politically\",\"disruptive\",\";\",\";\"],ASCIIString[\"be\",\"is\",\"politically\",\",\",\"land\",\"reform\",\"to\",\"as\",\"likely\",\"an\",\"isolated\",\"policy\",\";\",\";\",\"disruptive\"],11.0),(ASCIIString[\"this\",\"is\",\"the\",\"force\",\",\",\"in\",\"our\",\"time\",\"and\",\"in\"  …  \"and\",\"the\",\"manic-depressive\",\"to\",\"become\",\"head\",\"of\",\"a\",\"state\",\".\"],ASCIIString[\"this\",\"the\",\"the\",\"state\",\"to\",\"a\",\"our\",\"in\",\"and\",\"time\"  …  \"paranoiac\",\"head\",\"manic-depressive\",\".\",\"in\",\"every\",\"time\",\"that\",\"the\",\",\"],NaN),(ASCIIString[\"martin\",\"felt\",\"it\",\"was\",\"incredible\",\"that\",\"the\",\"situation\",\"had\",\"come\",\"to\",\"exist\",\"at\",\"all\",\".\"],ASCIIString[\"be\",\"felt\",\"that\",\"situation\",\"had\",\"it\",\"came\",\"the\",\"all\",\"martin\",\"to\",\"at\",\".\",\"incredible\",\"exist\"],13.0),(ASCIIString[\"managing\",\"director\",\"donald\",\"c.\",\"wagner\",\"has\",\"agreed\",\"to\",\"cooperate\",\"fully\"  …  \"after\",\"a\",\"period\",\"of\",\"sharp\",\"disagreement\",\"on\",\"the\",\"matter\",\".\"],ASCIIString[\"a\",\"said\",\"its\",\"with\",\"to\",\"director\",\"months\",\"issues\",\"of\",\"robert\"  …  \"defunct\",\"donald\",\"cooperate\",\"deciding\",\"reputedly\",\"[\",\"meanwhile\",\".\",\"effected\",\"plopped\"],NaN),(ASCIIString[\"this\",\"is\",\"one\",\"difference\",\"between\",\"bird\",\"and\",\"dylan\",\"which\",\"should\",\"be\",\"pointed\",\"out\",\".\"],ASCIIString[\"out\",\"and\",\"bird\",\"is\",\"which\",\"this\",\"difference\",\"should\",\"one\",\"be\",\"between\",\".\",\"dylan\",\"pointed\"],12.0),(ASCIIString[\"that\",\"touched\",\"off\",\"a\",\"total\",\"stampede\",\".\"],ASCIIString[\"off\",\"that\",\"a\",\"total\",\".\",\"stampede\",\"touched\"],5.0),(ASCIIString[\"he\",\"was\",\"not\",\"unmoved\",\".\"],ASCIIString[\"was\",\"not\",\"he\",\".\",\"unmoved\"],4.0),(ASCIIString[\"in\",\"the\",\"past\",\"such\",\"government\",\"claims\",\"have\",\"been\",\"found\",\"exaggerated\",\".\"],Any[\"such\",\"claims\",\"in\",\"government\",\"have\",\"found\",\"the\",\"past\",\"been\",\"exaggerated\",\".\"],3.973486246589465e-26)],\"fold_1\"=>Any[(ASCIIString[\".\"],Any[\".\"],0.0032725202577280873),(ASCIIString[\"but\",\"he\",\"warmed\",\"up\",\"after\",\"a\",\"while\",\".\"],ASCIIString[\"after\",\"he\",\"up\",\"but\",\"while\",\"a\",\".\",\"warmed\"],7.0),(ASCIIString[\")\",\"what\",\"it\",\"does\",\":\"],Any[\")\",\"what\",\"it\",\"does\",\":\"],4.6947334103771274e-9),(ASCIIString[\"``\",\"forget\",\"we\",\"ever\",\"knew\",\"what\",\"''\",\"?\",\"?\"],ASCIIString[\"ever\",\"''\",\"``\",\"we\",\"knew\",\"what\",\"?\",\"?\",\"forget\"],8.0),(ASCIIString[\"what\",\"a\",\"spectacle\",\"he\",\"was\",\",\",\"caked\",\"with\",\"dirt\",\"and\"  …  \"absolutely\",\"the\",\"prettiest\",\"girl\",\"in\",\"this\",\"whole\",\"wonderful\",\"world\",\".\"],ASCIIString[\"i\",\"i\",\"the\",\"a\",\"it\",\"world\",\"her\",\"the\",\"people\",\"and\"  …  \"sorry\",\".\",\"astwood\",\"botanists\",\"presumes\",\"deal\",\"renamed\",\"caressing\",\"1930\",\"94\"],NaN),(ASCIIString[\"and\",\"even\",\"putting\",\"it\",\"that\",\"way\",\"would\",\"not\",\"prove\",\"that\",\"marx\",\"was\",\"anything\",\"but\",\"wrong\",\".\"],ASCIIString[\"would\",\"prove\",\"not\",\"anything\",\"wrong\",\"way\",\"was\",\"it\",\"that\",\"that\",\"but\",\"even\",\"and\",\".\",\"marx\",\"putting\"],14.0),(ASCIIString[\"with\",\"the\",\"divinities\",\"present\",\"and\",\"our\",\"souls\",\"in\",\"place\",\",\",\"we\",\"were\",\"wished\",\"health\",\",\",\"happiness\",\",\",\"and\",\"power\",\".\"],ASCIIString[\"we\",\"our\",\"and\",\"in\",\"and\",\".\",\"with\",\"power\",\",\",\"present\",\"happiness\",\",\",\"souls\",\"divinities\",\"were\",\",\",\"health\",\"the\",\"place\",\"wished\"],NaN),(ASCIIString[\"an\",\"important\",\"criterion\",\"of\",\"maturity\",\"is\",\"creativity\",\".\"],ASCIIString[\"criterion\",\"of\",\"maturity\",\"is\",\"an\",\"important\",\".\",\"creativity\"],7.0),(ASCIIString[\"it\",\"was\",\",\",\"of\",\"course\",\",\",\"in\",\"this\",\"drawing\",\"of\"  …  \"his\",\"desire\",\"to\",\"do\",\"full\",\"justice\",\"to\",\"an\",\"author\",\".\"],ASCIIString[\"of\",\"it\",\"his\",\"this\",\"of\",\"he\",\"of\",\"to\",\"the\",\"in\"  …  \",\",\".\",\"most\",\"full\",\"was\",\"author\",\"do\",\"clearly\",\"to\",\"that\"],NaN),(ASCIIString[\"at\",\"one\",\"and\",\"the\",\"same\",\"time\",\",\",\"she\",\"was\",\"within\"  …  \"searching\",\"for\",\"the\",\"drawbridge\",\"that\",\"would\",\"give\",\"her\",\"entry\",\".\"],ASCIIString[\"she\",\"the\",\"her\",\"it\",\"time\",\"the\",\"for\",\"one\",\"at\",\"would\"  …  \"drawbridge\",\"and\",\"same\",\"still\",\".\",\"searching\",\"was\",\"that\",\"give\",\"but\"],NaN)  …  (ASCIIString[\"have\",\"you\",\"checked\",\"the\",\"cost\",\"of\",\"subcontracting\",\"your\",\"cafeteria\",\"operation\",\"in\",\"order\",\"to\",\"save\",\"administrative\",\"costs\",\"?\",\"?\"],ASCIIString[\"order\",\"the\",\"administrative\",\"costs\",\"have\",\"your\",\"operation\",\"in\",\"to\",\"save\",\"you\",\"of\",\"cost\",\"?\",\"?\",\"cafeteria\",\"subcontracting\",\"checked\"],15.0),(ASCIIString[\"oedipus\",\"and\",\"lear\",\"instruct\",\"us\",\"how\",\"little\",\"of\",\"the\",\"world\",\"belongs\",\"to\",\"man\",\".\"],ASCIIString[\"man\",\"and\",\"us\",\"how\",\"little\",\"world\",\"the\",\"oedipus\",\"of\",\"to\",\"instruct\",\"belongs\",\"lear\",\".\"],11.0),(ASCIIString[\"``\",\"why\",\"did\",\"you\",\"do\",\"it\",\"--\",\"why\",\"did\",\"you\",\"hit\",\"him\",\"''\",\"?\",\"?\"],Any[\"``\",\"why\",\"--\",\"why\",\"it\",\"did\",\"you\",\"do\",\"you\",\"did\",\"hit\",\"him\",\"''\",\"?\",\"?\"],6.155308263507098e-26),(ASCIIString[\"she\",\"should\",\"offer\",\"substitutes\",\"for\",\"the\",\"temptations\",\"which\",\"seem\",\"overwhelmingly\",\"desirable\",\"to\",\"the\",\"child\",\".\"],ASCIIString[\"offer\",\"the\",\"child\",\"should\",\"she\",\"to\",\"desirable\",\"for\",\"which\",\"seem\",\"the\",\"temptations\",\".\",\"overwhelmingly\",\"substitutes\"],13.0),(ASCIIString[\"in\",\"a\",\"small\",\"grove\",\"against\",\"the\",\"river\",\"they\",\"halted\",\",\",\"turning\",\"deep\",\"into\",\"the\",\"protection\",\"of\",\"the\",\"trees\",\".\"],ASCIIString[\"the\",\"into\",\"the\",\"a\",\"they\",\"river\",\"in\",\"of\",\"trees\",\"against\",\"small\",\".\",\"deep\",\"protection\",\"grove\",\"halted\",\",\",\"the\",\"turning\"],NaN),(ASCIIString[\"all\",\"of\",\"its\",\"cities\",\"close\",\"their\",\"fiscal\",\"years\",\"on\",\"december\",\"31\",\".\"],Any[\"all\",\"of\",\"its\",\"cities\",\"close\",\"their\",\"fiscal\",\"years\",\"on\",\"december\",\"31\",\".\"],7.0983501150535035e-15),(ASCIIString[\"the\",\"new\",\"bedford\",\"standard-times\",\"has\",\"reported\",\"knowlton\",\"as\",\"saying\",\",\"  …  \"morse\",\",\",\"he\",\"would\",\"have\",\"convicted\",\"``\",\"somebody\",\"''\",\".\"],ASCIIString[\"``\",\"he\",\"he\",\"not\",\"he\",\"that\",\"``\",\"said\",\"not\",\"he\"  …  \"conceivably\",\"backs\",\"rank-and-file\",\"(\",\"befuddling\",\".\",\"50-year\",\"things\",\"husband\",\"once\"],NaN),(ASCIIString[\"as\",\"early\",\"as\",\"1858\",\",\",\"le\",\"fort\",\"claimed\",\"an\",\"alveolar\",\"distribution\",\"of\",\"the\",\"bronchial\",\"arteries\",\"in\",\"human\",\"beings\",\".\"],ASCIIString[\"human\",\"the\",\"an\",\"in\",\"as\",\"of\",\"early\",\"le\",\"alveolar\",\",\",\"fort\",\"bronchial\",\"as\",\"distribution\",\"1858\",\"beings\",\"claimed\",\"arteries\",\".\"],NaN),(ASCIIString[\"``\",\"e.\",\"b.\",\"''\",\"compared\",\"john\",\"brown\",\"to\",\"moses\",\"in\"  …  \"they\",\"were\",\"both\",\"acting\",\"to\",\"deliver\",\"millions\",\"from\",\"oppression\",\".\"],ASCIIString[\"to\",\"they\",\"``\",\"from\",\"john\",\"to\",\"b.\",\"in\",\"brown\",\"acting\"  …  \"moses\",\"e.\",\"oppression\",\"compared\",\"both\",\".\",\"that\",\"were\",\"deliver\",\"''\"],NaN),(ASCIIString[\"we\",\"both\",\"had\",\"hangovers\",\".\"],ASCIIString[\"had\",\"we\",\"both\",\".\",\"hangovers\"],4.0)],\"fold_8\"=>Any[(ASCIIString[\"word\",\"reached\",\"the\",\"company\",\"that\",\"the\",\"man\",\"behind\",\"these\",\"depredations\"  …  \"who\",\"were\",\"kept\",\"in\",\"line\",\"through\",\"fear\",\"of\",\"him\",\".\"],ASCIIString[\"people\",\"his\",\"a\",\"the\",\"they\",\"the\",\"he\",\"were\",\"of\",\"a\"  …  \"rogers\",\"prevents\",\"in\",\"look\",\"countered\",\"who\",\"alternatively\",\"well\",\"had\",\"10\"],NaN),(ASCIIString[\"he\",\"did\",\"seem\",\"hasty\",\"on\",\"his\",\"second\",\"and\",\"third\",\"shots\"  …  \"his\",\"composure\",\",\",\"which\",\"he\",\"had\",\"quite\",\"visibly\",\"lost\",\".\"],ASCIIString[\"he\",\"i\",\"his\",\"he\",\"they\",\"he\",\"it\",\"his\",\"after\",\"game\"  …  \"an\",\"in.\",\",\",\"nevertheless\",\"wrecked\",\"snappy\",\"duffy\",\"possible\",\"ok\",\"third\"],NaN),(ASCIIString[\"kansas\",\"city\",\",\",\"mo.\",\";\",\";\"],Any[\"kansas\",\"city\",\",\",\"mo.\",\";\",\";\"],5.341430008810767e-9),(ASCIIString[\"his\",\"bridgework\",\"or\",\"his\",\"plates\",\"feel\",\"loose\",\"and\",\"monstrous\",\".\"],ASCIIString[\"and\",\"feel\",\"his\",\"or\",\"his\",\".\",\"plates\",\"loose\",\"monstrous\",\"bridgework\"],6.0),(ASCIIString[\"every\",\"plane\",\"that\",\"could\",\"fly\",\"was\",\"sent\",\"into\",\"the\",\"air\",\".\"],Any[\"air\",\"that\",\"could\",\"the\",\"plane\",\"was\",\"sent\",\"into\",\"every\",\"fly\",\".\"],1.4376159246566438e-26),(ASCIIString[\"turn\",\"shaker\",\"upside\",\"down\",\".\"],ASCIIString[\"down\",\".\",\"upside\",\"shaker\",\"turn\"],2.0),(ASCIIString[\"was\",\"that\",\"what\",\"had\",\"given\",\"way\",\"in\",\"me\",\"?\",\"?\"],Any[\"in\",\"that\",\"way\",\"was\",\"what\",\"had\",\"given\",\"me\",\"?\",\"?\"],1.858257593778748e-18),(ASCIIString[\"the\",\"advantages\",\"of\",\"dilatation\",\"by\",\"the\",\"physician\",\"are\",\"both\",\"physical\",\"and\",\"psychological\",\".\"],ASCIIString[\"physical\",\"and\",\"dilatation\",\"of\",\"by\",\"both\",\"are\",\"the\",\"advantages\",\"the\",\"physician\",\".\",\"psychological\"],12.0),(ASCIIString[\"the\",\"collaboration\",\"was\",\"remarkable\",\",\",\"as\",\"it\",\"was\",\"in\",\"both\",\"the\",\"other\",\"movements\",\",\",\"too\",\".\"],ASCIIString[\"other\",\"the\",\"remarkable\",\",\",\"it\",\"was\",\"in\",\"both\",\"as\",\",\",\"too\",\"the\",\"movements\",\"was\",\".\",\"collaboration\"],15.0),(ASCIIString[\"they\",\"will\",\"be\",\"for\",\"teaching\",\",\",\"agriculture\",\"and\",\"community\",\"development\"  …  \",\",\"africa\",\",\",\"the\",\"middle\",\"east\",\"and\",\"latin\",\"america\",\".\"],ASCIIString[\"east\",\"will\",\"world\",\"for\",\"south\",\"in\",\"education\",\"america\",\"and\",\"east\"  …  \"heads\",\"farming\",\"exacerbated\",\"asia\",\"demanded\",\"complementing\",\"teach\",\"donnelly\",\"shortly\",\"expect\"],NaN)  …  (ASCIIString[\"this\",\"issue\",\"that\",\"you\",\"are\",\"reading\",\"marks\",\"my\",\"15th\",\"anniversary\",\".\"],ASCIIString[\"issue\",\"are\",\"your\",\"that\",\"marks\",\"this\",\"i\",\".\",\"anniversary\",\"reading\",\"15th\"],8.0),(ASCIIString[\"sba\",\"cosponsors\",\"these\",\"courses\",\"with\",\"educational\",\"institutions\",\"and\",\"community\",\"groups\",\".\"],ASCIIString[\"educational\",\"institutions\",\"with\",\"community\",\"groups\",\"and\",\"these\",\"courses\",\".\",\"cosponsors\",\"sba\"],9.0),(ASCIIString[\"the\",\"thoroughgoing\",\"idealization\",\"of\",\"the\",\"planter\",\"society\",\"did\",\"not\",\"come\"  …  \"defend\",\"a\",\"way\",\"of\",\"life\",\"which\",\"had\",\"been\",\"destroyed\",\".\"],ASCIIString[\"not\",\"not\",\"the\",\"they\",\"the\",\"of\",\"have\",\"the\",\"war\",\"to\"  …  \"when\",\",\",\"which\",\"idealization\",\"way\",\"until\",\".\",\"had\",\"another\",\"despite\"],NaN),(ASCIIString[\"they\",\"compose\",\"a\",\"painful\",\"elegy\",\"to\",\"what\",\"might\",\"have\",\"been\"  …  \"and\",\"ended\",\"in\",\"long\",\"years\",\"of\",\"suffering\",\"and\",\"hatred\",\".\"],ASCIIString[\"they\",\"they\",\"a\",\"a\",\"to\",\"years\",\"that\",\"her\",\"it\",\"for\"  …  \"faulknerian\",\"partnered\",\"220\",\"echoed\",\"supposed\",\",\",\"preconditioned\",\"happiness\",\"davidson\",\"indeed\"],NaN),(ASCIIString[\"processing\",\"methods\",\";\",\";\"],ASCIIString[\"processing\",\";\",\";\",\"methods\"],3.0),(ASCIIString[\"coffee\",\"is\",\"made\",\"from\",\"the\",\"roasted\",\"and\",\"ground\",\"seeds\",\"of\",\"the\",\"coffee\",\"tree\",\".\"],ASCIIString[\"tree\",\"seeds\",\"from\",\"the\",\"coffee\",\"is\",\"made\",\"of\",\"and\",\"ground\",\"the\",\"coffee\",\".\",\"roasted\"],13.0),(ASCIIString[\"--\",\"guidance\",\"in\",\"christian\",\"social\",\"concerns\",\".\"],ASCIIString[\"in\",\"--\",\"social\",\"guidance\",\".\",\"christian\",\"concerns\"],5.0),(ASCIIString[\"when\",\"this\",\"water\",\"level\",\"has\",\"been\",\"reached\",\",\",\"inject\",\"steam\"  …  \"reaches\",\"that\",\"shown\",\"in\",\"column\",\"b\",\"of\",\"table\",\"2\",\".\"],ASCIIString[\"the\",\"into\",\"level\",\"this\",\"the\",\"until\",\"water\",\"1\",\"in\",\"which\"  …  \"table\",\"flees\",\"that\",\"reaches\",\"recently\",\"been\",\"marveled\",\"12\",\",\",\"however\"],NaN),(ASCIIString[\"no\",\"one\",\",\",\"not\",\"even\",\"the\",\"producer\",\",\",\"had\",\"any\",\"real\",\"hope\",\"of\",\"getting\",\"it\",\"back\",\"to\",\"broadway\",\".\"],ASCIIString[\"any\",\"not\",\"no\",\"it\",\"they\",\"of\",\"back\",\"one\",\"much\",\",\",\"producer\",\"real\",\"broadway\",\"the\",\"hopes\",\",\",\"got\",\".\",\"only\",\"instructed\"],NaN),(ASCIIString[\"the\",\"darkening\",\"world\",\"scene\",\",\",\"at\",\"the\",\"time\",\"of\",\"the\"  …  \"trouble\",\"his\",\"mind\",\"even\",\"in\",\"his\",\"remote\",\"virginia\",\"studio\",\".\"],ASCIIString[\"his\",\"the\",\"world\",\"his\",\"the\",\"time\",\"in\",\"at\",\"the\",\"of\"  …  \"studio\",\"remote\",\"pact\",\"darkening\",\"virginia\",\"munich\",\"mind\",\",\",\"even\",\"to\"],NaN)],\"fold_3\"=>Any[(ASCIIString[\"with\",\"this\",\"ultimate\",\"weapon\",\",\",\"the\",\"two\",\"yankees\",\"may\",\"have\",\"saved\",\"baseball\",\"from\",\"its\",\"dullest\",\"season\",\".\"],ASCIIString[\"may\",\"have\",\"this\",\"with\",\"its\",\"two\",\"yankees\",\"from\",\",\",\"saved\",\"the\",\"baseball\",\".\",\"season\",\"weapon\",\"dullest\",\"ultimate\"],13.0),(ASCIIString[\"there\",\"may\",\"be\",\"others\",\".\"],Any[\"others\",\"may\",\"be\",\"there\",\".\"],4.3937263581689535e-10),(ASCIIString[\"the\",\"problem\",\"of\",\"solidarity\",\"and\",\"morale\",\"again\",\"involves\",\"the\",\"concept\",\"of\",\"values\",\".\"],ASCIIString[\"morale\",\"of\",\"of\",\"values\",\"the\",\"problem\",\"and\",\"again\",\"the\",\"concept\",\".\",\"involves\",\"solidarity\"],11.0),(ASCIIString[\"every\",\"pitch\",\"in\",\"the\",\"game\",\"brought\",\"forth\",\"a\",\"howl\",\"from\"  …  \"they\",\"dropped\",\"many\",\")\",\"called\",\"forth\",\"yelps\",\"of\",\"derision\",\".\"],ASCIIString[\"they\",\"game\",\"out\",\"it\",\"the\",\"they\",\"a\",\"from\",\"i\",\"the\"  …  \"resultant\",\"layton\",\"contrast\",\"testifies\",\",\",\"get\",\"breakers\",\"one\",\"meantime\",\"1870\"],NaN),(ASCIIString[\"i\",\"did\",\"not\",\"rest\",\"until\",\"i\",\"had\",\"tracked\",\"the\",\"mystery\",\"down\",\".\"],ASCIIString[\"down\",\"had\",\"i\",\"did\",\"until\",\"the\",\"i\",\"not\",\"rest\",\".\",\"mystery\",\"tracked\"],10.0),(ASCIIString[\"let\",\"us\",\"take\",\"a\",\"set\",\"of\",\"circumstances\",\"in\",\"which\",\"i\"  …  \"one\",\"of\",\"us\",\"might\",\"naturally\",\"make\",\"such\",\"a\",\"statement\",\".\"],ASCIIString[\"we\",\"we\",\"we\",\"i\",\"any\",\"it\",\"would\",\"it\",\"a\",\"will\"  …  \"gisors\",\"heavy-weight\",\"20-22\",\"similarly\",\"teamed\",\"assistant\",\"whether\",\"[\",\"hails\",\"2051\"],NaN),(ASCIIString[\"``\",\"nothing\",\"''\",\",\",\"phil\",\"said\",\".\"],Any[\"phil\",\"said\",\",\",\"``\",\"nothing\",\"''\",\".\"],2.0602148001730592e-10),(ASCIIString[\"rather\",\"the\",\"monthly\",\"total\",\"consumption\",\"was\",\"divided\",\"and\",\"charged\",\"on\"  …  \"of\",\"number\",\"of\",\"rooms\",\"and\",\"persons\",\"in\",\"the\",\"family\",\".\"],ASCIIString[\"of\",\"the\",\"of\",\"the\",\"on\",\"total\",\"was\",\"number\",\"basis\",\"and\"  …  \"consumption\",\"divided\",\"charged\",\"rooms\",\"monthly\",\"in\",\"and\",\"persons\",\".\",\"rather\"],NaN),(ASCIIString[\"the\",\"middle-aged\",\"man\",\"said\",\"over\",\"and\",\"over\",\",\",\"``\",\"why\"  …  \"come\",\"here\",\",\",\"why\",\"did\",\"i\",\"come\",\"here\",\"''\",\".\"],ASCIIString[\"i\",\"i\",\"over\",\"``\",\"here\",\"over\",\",\",\"the\",\",\",\"man\"  …  \"did\",\"''\",\"why\",\"did\",\"said\",\"come\",\".\",\"here\",\"why\",\"and\"],NaN),(ASCIIString[\"i\",\"have\",\"an\",\"appointment\",\"''\",\".\"],ASCIIString[\"have\",\"''\",\"i\",\".\",\"an\",\"appointment\"],4.0)  …  (ASCIIString[\"1\",\")\"],Any[\"1\",\")\"],8.988518355224886e-5),(ASCIIString[\"in\",\"this\",\"case\",\",\",\"drilling\",\"a\",\"small\",\"pilot\",\"hole\",\"or\",\"clamping\",\"the\",\"work\",\"will\",\"do\",\"much\",\"to\",\"improve\",\"accuracy\",\".\"],ASCIIString[\"do\",\"to\",\"this\",\"work\",\"a\",\"much\",\"the\",\"small\",\"drilling\",\"improve\",\"hole\",\",\",\"pilot\",\"accuracy\",\"in\",\"clamping\",\"case\",\"or\",\".\",\"will\"],NaN),(ASCIIString[\"``\",\"did\",\"you\",\"hear\",\"tim\",\"return\",\"''\",\"?\",\"?\"],ASCIIString[\"return\",\"''\",\"``\",\"hear\",\"you\",\"did\",\"?\",\"?\",\"tim\"],8.0),(ASCIIString[\"another\",\",\",\"arthur\",\"m.\",\"schlesinger\",\",\",\"jr.\",\",\",\"has\",\"won\",\"a\",\"pulitzer\",\"prize\",\"in\",\"history\",\";\",\";\"],ASCIIString[\"has\",\"won\",\",\",\"m.\",\",\",\"a\",\"history\",\"in\",\"another\",\",\",\"arthur\",\";\",\";\",\"prize\",\"jr.\",\"pulitzer\",\"schlesinger\"],13.0),(ASCIIString[\"he\",\"felt\",\"certain\",\"for\",\"the\",\"first\",\"time\",\"in\",\"his\",\"teaching\"  …  \"satisfying\",\"female\",\"sexual\",\"experience\",\"as\",\"most\",\"males\",\"might\",\"think\",\".\"],ASCIIString[\"not\",\"i\",\"for\",\"not\",\"more\",\"that\",\"for\",\"he\",\"this\",\"a\"  …  \"37-year-old\",\"meanwhile\",\"1,107\",\"may\",\"regarded\",\"magee\",\"which\",\"satisfying\",\"the\",\"?\"],NaN),(ASCIIString[\"this\",\"can\",\"be\",\"accomplished\",\"substantially\",\"by\",\"a\",\"continued\",\"trend\",\"toward\"  …  \"detection\",\",\",\"and\",\"control\",\"of\",\"insect\",\"and\",\"disease\",\"infestations\",\".\"],ASCIIString[\"more\",\"more\",\"we\",\"control\",\"more\",\"for\",\"be\",\"control\",\"their\",\"more\"  …  \"willows\",\"all-inclusive\",\"seal\",\"concurs\",\"aspiring\",\"respectively\",\"provoke\",\"walters\",\"which\",\"using\"],NaN),(ASCIIString[\"they\",\"were\",\"climbing\",\"the\",\"hill\",\"in\",\"the\",\"night\",\"when\",\"the\"  …  \"out\",\"into\",\"a\",\"faint\",\"mist\",\"of\",\"light\",\"and\",\"ended\",\".\"],ASCIIString[\"into\",\"the\",\"they\",\"light\",\"into\",\"the\",\"they\",\"light\",\"two\",\"the\"  …  \"they\",\"19-23\",\"co\",\"entrusting\",\"uses\",\"leading\",\"daybreak\",\"cf.\",\"setting\",\"referrals\"],NaN),(ASCIIString[\"but\",\"look\",\"at\",\"us\",\"today\",\"!\",\"!\"],ASCIIString[\"looks\",\"at\",\"us\",\"today\",\"they\",\"!\",\"!\"],5.0),(ASCIIString[\"no\",\"wonder\",\"melissa\",\"responded\",\"so\",\"completely\",\"to\",\"its\",\"beckoning\",\".\"],ASCIIString[\"to\",\"so\",\"no\",\"wonder\",\".\",\"completely\",\"beckoning\",\"melissa\",\"responded\",\"its\"],5.0),(ASCIIString[\"her\",\"statement\",\"was\",\"a\",\"hope\",\",\",\"not\",\"a\",\"truth\",\"in\",\"which\",\"they\",\"could\",\"believe\",\".\"],Any[\"in\",\"a\",\"hope\",\"it\",\"believed\",\",\",\"not\",\"be\",\"a\",\"truth\",\"they\",\"helped\",\"her\",\"statement\",\".\"],6.372579236619343e-34)],\"fold_10\"=>Any[(ASCIIString[\"thus\",\"a\",\"new\",\"pattern\",\"of\",\"days\",\"began\",\"to\",\"develop\",\",\",\"for\",\"granny\",\"albright\",\"did\",\"not\",\"die\",\".\"],ASCIIString[\"pattern\",\"to\",\"not\",\"thus\",\"for\",\"new\",\",\",\"did\",\"develop\",\"a\",\"die\",\"of\",\"days\",\".\",\"albright\",\"granny\",\"began\"],14.0),(ASCIIString[\"for\",\"two\",\"hours\",\"they\",\"drove\",\"her\",\"from\",\"one\",\"strong\",\"point\"  …  \"the\",\"plain\",\"where\",\"they\",\"could\",\"get\",\"a\",\"good\",\"throw\",\".\"],ASCIIString[\"they\",\"you\",\"her\",\"they\",\"a\",\"their\",\"the\",\"to\",\"one\",\"the\"  …  \"160\",\"cornerstone\",\"accenting\",\"was\",\"drift\",\"give\",\"teamed\",\"read\",\"leaving\",\"seventeen\"],NaN),(ASCIIString[\"it\",\"is\",\"perhaps\",\"difficult\",\"to\",\"conceive\",\",\",\"but\",\"imagine\",\"that\"  …  \"shakespeare\",\",\",\"and\",\"perhaps\",\"some\",\"lyrics\",\"of\",\"their\",\"own\",\".\"],ASCIIString[\"you\",\"to\",\"it\",\"they\",\"to\",\"it\",\"their\",\"will\",\"about\",\"the\"  …  \"dunbar\",\"aims\",\"today\",\"dunne\",\"found\",\"torment\",\"leading\",\"ready\",\"chole\",\"recollection\"],NaN),(ASCIIString[\"she\",\"yanked\",\"away\",\"from\",\"him\",\"furiously\",\".\"],ASCIIString[\"from\",\"him\",\"she\",\".\",\"away\",\"furiously\",\"yanked\"],4.0),(ASCIIString[\"seeing\",\"her\",\"caused\",\"a\",\"lurch\",\"in\",\"ramey\",\",\",\"a\",\"recognition\",\".\"],ASCIIString[\"recognition\",\"in\",\"seeing\",\"a\",\",\",\"caused\",\"her\",\"a\",\".\",\"ramey\",\"lurch\"],9.0),(ASCIIString[\"the\",\"sharp\",\"ray\",\"was\",\"absorbed\",\"by\",\"a\",\"cloud\",\",\",\"then\"  …  \"to\",\"the\",\"earth\",\"in\",\"a\",\"softer\",\",\",\"diffused\",\"radiance\",\".\"],ASCIIString[\"a\",\"the\",\"by\",\"a\",\"earth\",\"in\",\"sharp\",\"then\",\"was\",\"cloud\"  …  \"ray\",\",\",\"radiance\",\"softer\",\"absorbed\",\",\",\".\",\"the\",\"diffused\",\"to\"],NaN),(ASCIIString[\"he\",\"is\",\"better\",\"fitted\",\"to\",\"perform\",\"his\",\"social\",\"life\",\"among\",\"his\",\"fellows\",\".\"],Any[\"among\",\"his\",\"fellows\",\"he\",\"fitted\",\"his\",\"social\",\"life\",\"is\",\"better\",\"to\",\"perform\",\".\"],4.491790757797913e-31),(ASCIIString[\"the\",\"way\",\"was\",\"opening\",\"up\",\";\",\";\"],Any[\"the\",\"way\",\"was\",\"opening\",\"up\",\";\",\";\"],3.194124603173743e-14),(ASCIIString[\"nevertheless\",\"he\",\"had\",\"ample\",\"opportunity\",\"to\",\"contest\",\"the\",\"statement\",\"before\",\"the\",\"appeal\",\"board\",\".\"],ASCIIString[\"before\",\"had\",\"he\",\"the\",\"statement\",\"to\",\"appeal\",\"board\",\"the\",\"opportunity\",\".\",\"contest\",\"ample\",\"nevertheless\"],11.0),(ASCIIString[\"he\",\"said\",\"she\",\"would\",\"only\",\"hurt\",\"herself\",\".\"],ASCIIString[\"would\",\"she\",\"herself\",\"only\",\"said\",\"he\",\".\",\"hurt\"],7.0)  …  (ASCIIString[\"religion\",\"has\",\"its\",\"own\",\"supernatural\",\"prescriptions\",\"that\",\"are\",\"at\",\"the\"  …  \"time\",\"codes\",\"of\",\"behavior\",\"for\",\"the\",\"here\",\"and\",\"now\",\".\"],ASCIIString[\"its\",\"for\",\"are\",\"the\",\"same\",\"religion\",\"at\",\"has\",\"behavior\",\"codes\"  …  \"prescriptions\",\"supernatural\",\"here\",\"and\",\".\",\"that\",\"time\",\"the\",\"own\",\"now\"],NaN),(ASCIIString[\"by\",\"reminding\",\"ourselves\",\"of\",\"these\",\"factors\",\"in\",\"the\",\"situation\",\",\"  …  \"between\",\"parker\",\"and\",\"his\",\"neighbors\",\"was\",\"fought\",\"in\",\"earnest\",\".\"],ASCIIString[\"we\",\"we\",\"we\",\"we\",\"it\",\"it\",\"be\",\"it\",\"war\",\"his\"  …  \"chive\",\"athens\",\"sure\",\"bengal\",\"same\",\"revelation\",\"be\",\"mothers-in-law\",\"tuesday\",\"dropped\"],NaN),(ASCIIString[\"bernard\",\"heuvelmans\",\"also\",\"treats\",\"of\",\"the\",\"largest\",\"snakes\",\",\",\"but\"  …  \"level\",\",\",\"and\",\"is\",\"chiefly\",\"concerned\",\"with\",\"the\",\"anaconda\",\".\"],ASCIIString[\"the\",\"the\",\"of\",\"on\",\"the\",\"also\",\",\",\"is\",\"with\",\",\"  …  \"level\",\"anaconda\",\"concerned\",\"treats\",\"heuvelmans\",\"third\",\"chiefly\",\"and\",\".\",\"but\"],NaN),(ASCIIString[\"some\",\"church\",\"leaders\",\",\",\"both\",\"clerical\",\"and\",\"lay\",\",\",\"have\"  …  \"the\",\"university\",\"for\",\"not\",\"taking\",\"the\",\"lead\",\"in\",\"desegregation\",\".\"],ASCIIString[\"have\",\"for\",\"church\",\"in\",\"not\",\"some\",\"university\",\"the\",\"leaders\",\"and\"  …  \"lay\",\"lead\",\"criticized\",\"desegregation\",\".\",\"clerical\",\",\",\"taking\",\"the\",\"both\"],NaN),(ASCIIString[\"recordings\",\";\",\";\"],ASCIIString[\";\",\";\",\"recordings\"],2.0),(ASCIIString[\"woven\",\"fabrics\",\"to\",\"be\",\"dried\",\"by\",\"procedure\",\"b\",\"(\",\"flat-bed\"  …  \"or\",\"restored\",\"by\",\"procedure\",\"3\",\"(\",\"hand\",\"ironing\",\")\",\":\"],ASCIIString[\")\",\"be\",\"or\",\"by\",\")\",\"procedure\",\"by\",\"hand\",\"(\",\"fabrics\"  …  \"dried\",\"flat-bed\",\"b\",\"pressed\",\"ironing\",\"restored\",\"woven\",\"to\",\"3\",\"(\"],NaN),(ASCIIString[\"the\",\"merchant\",\"marine\",\"is\",\"the\",\"``\",\"fourth\",\"arm\",\"of\",\"defense\"  …  \"essential\",\"to\",\"the\",\"economy\",\"and\",\"security\",\"of\",\"our\",\"nation\",\".\"],ASCIIString[\"the\",\"our\",\"for\",\"security\",\"is\",\"the\",\"of\",\"``\",\"marine\",\"american\"  …  \",\",\"arm\",\"marine\",\"essential\",\"of\",\"nation\",\".\",\"strong\",\"fourth\",\"''\"],NaN),(ASCIIString[\"an\",\"extension\",\"of\",\"2\",\"months\",\"beyond\",\"the\",\"regular\",\"due\",\"date\"  …  \"available\",\"to\",\"taxpayers\",\"making\",\"returns\",\"for\",\"a\",\"fiscal\",\"year\",\".\"],ASCIIString[\"for\",\"for\",\"this\",\"for\",\"year\",\"tax\",\"an\",\"months\",\"is\",\"to\"  …  \"advises\",\"dubbed\",\"lipowa\",\"made\",\".\",\"fiscal\",\"the\",\"date\",\"least\",\"2\"],NaN),(ASCIIString[\"(\",\"1\",\")\",\"''\"],Any[\"''\",\"(\",\"1\",\")\"],2.576946989138462e-7),(ASCIIString[\"when\",\"we\",\"repeat\",\"the\",\"remark\",\"that\",\"such\",\"suffering\",\"was\",\"a\"  …  \"we\",\"did\",\"before\",\",\",\"we\",\"should\",\"certainly\",\"answer\",\"yes\",\".\"],ASCIIString[\"we\",\"we\",\"we\",\"we\",\"we\",\"we\",\"we\",\"we\",\"not\",\"not\"  …  \"blyth\",\"right\",\"foster\",\"telling\",\"modifications\",\"bas\",\"unquestionably\",\"but\",\"spread\",\"asked\"],NaN)],\"fold_4\"=>Any[(ASCIIString[\"banks\",\"the\",\"butcher\",\"took\",\"meltzer\",\"the\",\"scholar\",\"as\",\"an\",\"apprentice\"  …  \"the\",\"commentaries\",\"of\",\"the\",\"talmud\",\"in\",\"order\",\"to\",\"live\",\".\"],ASCIIString[\"we\",\"not\",\"it\",\"to\",\"an\",\"the\",\"more\",\"he\",\"the\",\"you\"  …  \"the\",\"zipped\",\"vivian\",\"there\",\"polyphosphate\",\"walton\",\"being\",\"typology\",\"should\",\"infrequent\"],NaN),(ASCIIString[\"or\",\"to\",\"let\",\"the\",\"ethical\",\"be\",\"superseded\",\"by\",\"the\",\"purposive\",\".\"],ASCIIString[\"be\",\"to\",\"or\",\"let\",\"the\",\"ethical\",\"the\",\"by\",\"purposive\",\"superseded\",\".\"],6.0),(ASCIIString[\"if\",\"this\",\"capacity\",\"had\",\"not\",\"failed\",\"them\",\",\",\"they\",\"would\",\"see\",\"that\",\"their\",\"enemy\",\"has\",\"made\",\"a\",\"disastrous\",\"miscalculation\",\".\"],ASCIIString[\"would\",\"have\",\"not\",\"that\",\"their\",\"a\",\"had\",\"this\",\"made\",\"enemy\",\"disastrous\",\"capacity\",\",\",\"see\",\"failed\",\"miscalculation\",\".\",\"them\",\"if\",\"but\"],NaN),(ASCIIString[\"the\",\"high\",\"court\",\"held\",\"that\",\"the\",\"company\",\"must\",\"apply\",\"its\"  …  \"ground\",\",\",\"not\",\"to\",\"the\",\"revenue\",\"from\",\"finished\",\"products\",\".\"],ASCIIString[\"its\",\"the\",\"to\",\"any\",\"the\",\"percent\",\"they\",\"the\",\"be\",\"the\"  …  \",\",\"raw\",\"allowing\",\"stickman\",\"industry\",\"apply\",\"removed\",\"revenue\",\"of\",\"mid-1958\"],NaN),(ASCIIString[\"even\",\"on\",\"his\",\"tough\",\"constitution\",\",\",\"the\",\"exposure\",\"and\",\"strenuous\",\"activity\",\"were\",\"beginning\",\"to\",\"tell\",\"in\",\"earnest\",\".\"],ASCIIString[\"strenuous\",\"activity\",\"were\",\"beginning\",\"on\",\"to\",\"tell\",\",\",\"even\",\"his\",\"the\",\"in\",\"earnest\",\"and\",\"exposure\",\".\",\"tough\",\"constitution\"],16.0),(ASCIIString[\"the\",\"orator\",\"of\",\"this\",\"period\",\",\",\"in\",\"order\",\"to\",\"earn\"  …  \"it\",\"would\",\"have\",\"on\",\"the\",\"audience\",\"that\",\"heard\",\"it\",\".\"],ASCIIString[\"not\",\"it\",\"to\",\"it\",\"their\",\"this\",\"he\",\"its\",\"to\",\"the\"  …  \"could\",\"should\",\"description\",\"40\",\"as\",\"presumably\",\"bevy\",\"thrives\",\"300\",\"deciding\"],NaN),(ASCIIString[\"she\",\"learns\",\"how\",\"to\",\"relax\",\"them\",\"to\",\"accept\",\"--\",\"instead\",\"of\",\"contracting\",\"them\",\"to\",\"repel\",\"--\",\"the\",\"entering\",\"object\",\".\"],ASCIIString[\"to\",\"them\",\"to\",\"--\",\"them\",\"how\",\"she\",\"to\",\"of\",\"--\",\"entering\",\"object\",\"relax\",\"contracting\",\"the\",\"repel\",\"instead\",\"learns\",\".\",\"accept\"],NaN),(ASCIIString[\"adam\",\"watched\",\"his\",\"own\",\"hands\",\"make\",\"the\",\"caressing\",\",\",\"anxious\"  …  \"has\",\"been\",\"the\",\"ritual\",\"of\",\"stall\",\"vendors\",\",\",\"forever\",\".\"],ASCIIString[\"we\",\"their\",\"it\",\"his\",\"you\",\"the\",\"because\",\"her\",\"people\",\"which\"  …  \"chabrier\",\"the\",\"hector\",\"plainly\",\"breaker\",\".\",\"conjunction\",\"everything\",\"hinted\",\"velvety\"],NaN),(ASCIIString[\"the\",\"part\",\"of\",\"the\",\"mind\",\"that\",\"preserves\",\"dates\",\"and\",\"events\"  …  \"like\",\"that\",\"for\",\"only\",\"a\",\"little\",\"while\",\"''\",\";\",\";\"],ASCIIString[\"not\",\"it\",\"that\",\"it\",\"have\",\"for\",\"that\",\"the\",\"more\",\"of\"  …  \"remonstrate\",\"formerly\",\"exacerbated\",\"may\",\"while\",\"mind\",\"including\",\"could\",\"sighed\",\"''\"],NaN),(ASCIIString[\"we\",\"did\",\"that\",\".\"],Any[\"we\",\"did\",\"that\",\".\"],1.9168212057663645e-8)  …  (ASCIIString[\"the\",\"entrance\",\"to\",\"a\",\"church\",\"has\",\"been\",\"walled\",\"up\",\",\"  …  \"the\",\"western\",\"sector\",\",\",\"cannot\",\"worship\",\"god\",\"there\",\"anymore\",\".\"],ASCIIString[\"it\",\"not\",\"this\",\"church\",\"the\",\"it\",\"have\",\"the\",\"people\",\"a\"  …  \"worship\",\"despite\",\"walled\",\"assistant\",\"needed\",\"decade\",\"16.38\",\",\",\"hinted\",\"purveyor\"],NaN),(ASCIIString[\"there\",\"seems\",\"to\",\"be\",\"almost\",\"a\",\"conspiracy\",\"of\",\"silence\",\"veiling\",\"it\",\".\"],ASCIIString[\"silence\",\"of\",\"conspiracy\",\"to\",\"almost\",\"be\",\"it\",\"there\",\"seems\",\"a\",\".\",\"veiling\"],11.0),(ASCIIString[\"ruger\",\"reports\",\"that\",\"on\",\"his\",\"recent\",\"african\",\"safari\",\"the\",\"little\",\"magnum\",\"cartridge\",\"was\",\"a\",\"real\",\"work\",\"horse\",\".\"],ASCIIString[\"reports\",\"the\",\"a\",\"recent\",\"horse\",\"was\",\"that\",\"little\",\"on\",\"work\",\"his\",\"real\",\".\",\"african\",\"cartridge\",\"magnum\",\"safari\",\"ruger\"],13.0),(ASCIIString[\"--\",\"fetch\",\"me\",\"the\",\"copies\",\"of\",\"everything\",\"b\",\"and\",\"c\",\"companies\",\"have\",\"requisitioned\",\"in\",\"the\",\"last\",\"six\",\"months\",\".\"],ASCIIString[\"have\",\"the\",\"b\",\"months\",\"--\",\"in\",\"copies\",\"the\",\"c\",\"and\",\"fetch\",\"requisitioned\",\"me\",\".\",\"last\",\"six\",\"everything\",\"of\",\"companies\"],NaN),(ASCIIString[\"another\",\"problem\",\"in\",\"the\",\"area\",\"of\",\"federal-state\",\"relationships\",\"is\",\"this\"  …  \"what\",\"constitutes\",\"reversible\",\"error\",\"in\",\"a\",\"state\",\"decision\",\"?\",\"?\"],ASCIIString[\"this\",\"a\",\"what\",\"is\",\"state\",\"problem\",\"of\",\"in\",\"error\",\"?\"  …  \"constitutes\",\"relationships\",\":\",\"reversible\",\"area\",\"federal-state\",\"in\",\"decision\",\"another\",\"?\"],NaN),(ASCIIString[\"indeed\",\",\",\"with\",\"developed\",\"positivism\",\",\",\"the\",\"separation\",\"of\",\"law\"  …  \",\",\"or\",\"from\",\"morality\",\"generally\",\",\",\"became\",\"quite\",\"specific\",\".\"],ASCIIString[\"from\",\",\",\"law\",\".\",\",\",\"developed\",\"of\",\",\",\"morality\",\"from\"  …  \".\",\",\",\"the\",\"separation\",\"or\",\"acquainted\",\"specific\",\"despite\",\"quite\",\"known\"],NaN),(ASCIIString[\"as\",\"the\",\"temperature\",\"decreased\",\",\",\"the\",\"number\",\"of\",\"free\",\"swimming\",\"ciliated\",\"protozoa\",\"decreased\",\".\"],ASCIIString[\"free\",\"the\",\"number\",\",\",\"temperature\",\"of\",\"as\",\"the\",\"swimming\",\"ciliated\",\"protozoa\",\".\",\"decreased\",\"decreased\"],12.0),(ASCIIString[\"rather\",\"what\",\"kornbluth\",\"and\",\"pohl\",\"are\",\"really\",\"doing\",\"is\",\"warning\"  …  \"``\",\"a\",\"science\",\"of\",\"man\",\"and\",\"his\",\"motives\",\"''\",\".\"],ASCIIString[\"``\",\"what\",\"his\",\"are\",\"of\",\"against\",\"science\",\"is\",\"man\",\"and\"  …  \"and\",\"the\",\"really\",\"inherent\",\".\",\"motives\",\"warning\",\"doing\",\"a\",\"''\"],NaN),(ASCIIString[\"the\",\"chances\",\"were\",\"against\",\"his\",\"being\",\"here\",\"to\",\"humor\",\"her\",\"when\",\"her\",\"time\",\"came\",\",\",\"she\",\"was\",\"sure\",\".\"],ASCIIString[\"her\",\"her\",\"he\",\"were\",\"against\",\"time\",\"her\",\"the\",\"was\",\"here\",\"chances\",\"humor\",\",\",\"came\",\".\",\"sure\",\"when\",\"to\",\"being\"],NaN),(ASCIIString[\"the\",\"sand\",\"is\",\"fine\",\"and\",\"pleasant\",\",\",\"the\",\"cabanas\",\"are\"  …  \"raspberry\",\",\",\"and\",\"butter\",\"yellow\",\",\",\"are\",\"very\",\"gay\",\".\"],ASCIIString[\"are\",\"you\",\"are\",\"and\",\"it\",\"water\",\"and\",\"red\",\",\",\"and\"  …  \"parasols\",\"the\",\"hewett\",\"emmanuel\",\"utilizes\",\"absent\",\"extremely\",\"jewel\",\"thursday\",\"348\"],NaN)])                "
      ]
     },
     "execution_count": 26,
     "metadata": {},
     "output_type": "execute_result"
    }
   ],
   "source": [
    "#folds50 = load(\"results/ordered/brown_glove50_ordered_vA1000.jld\")\n",
    "#folds100 = load(\"results/ordered/brown_glove100_ordered_vA1000.jld\")\n",
    "#folds200 = load(\"results/ordered/brown_glove200_ordered_vA1000.jld\")\n",
    "folds300_loglikelyhood_A5000_2 = load(\"results/ordered/brown_glove300_ordered_vA5000_loglikelyhood_2.jld\")\n",
    "folds300_loglikelyhood_A5000 = load(\"results/ordered/brown_glove300_ordered_vA5000_loglikelyhood.jld\")\n",
    "#folds300_loglikelyhood_A1000 = load(\"results/ordered/brown_glove300_ordered_vA1000_loglikelyhood.jld\")\n",
    "#folds300 = load(\"results/ordered/brown_glove300_ordered_vA1000.jld\")\n",
    "#folds_oracle = load(\"results/ordered/brown_oracle_ordered_vA1000.jld\")\\\n",
    "\n",
    "#folds_oracle_loglikelyhood_A5000 = load(\"results/ordered/brown_oracle_ordered_vA5000_loglikelyhood.jld\")\n",
    "#folds_oracle_loglikelyhood_A5000_2 = load(\"results/ordered/brown_oracle_ordered_vA5000_loglikelyhood_2.jld\")\n",
    "#folds_oracle_loglikelyhood_A10000_2 = load(\"results/ordered/brown_oracle_ordered_vA10000_loglikelyhood_2.jld\")\n",
    "#folds_oracle_loglikelyhood_A1000 = load(\"results/ordered/brown_oracle_ordered_vA1000_Loglikelyhood.jld\")\n",
    "#all_ordered_exp_folds = Any[folds_oracle, folds_oracle_loglikelyhood,folds300,folds300_loglikelyhood]#[folds50,folds100,folds200,folds300,folds_oracle]\n",
    "all_ordered_exp_folds=Any[folds300_loglikelyhood_A5000,folds300_loglikelyhood_A5000_2]\n"
   ]
  },
  {
   "cell_type": "code",
   "execution_count": 27,
   "metadata": {
    "collapsed": false
   },
   "outputs": [
    {
     "data": {
      "text/plain": [
       "get_bleu_score (generic function with 1 method)"
      ]
     },
     "execution_count": 27,
     "metadata": {},
     "output_type": "execute_result"
    }
   ],
   "source": [
    "function get_bleu_score(folds)\n",
    "    bleu_scores = map(keys(folds), values(folds)) do fold_name,res\n",
    "        fold_bleu_scores = Float64[]\n",
    "        for (reference, candidate, prob) in res\n",
    "            push!(fold_bleu_scores, bleu_score(candidate, reference))\n",
    "        end\n",
    "        fold_bleu_scores\n",
    "    end\n",
    "end"
   ]
  },
  {
   "cell_type": "code",
   "execution_count": 28,
   "metadata": {
    "collapsed": false
   },
   "outputs": [
    {
     "data": {
      "text/plain": [
       "partial_only (generic function with 2 methods)"
      ]
     },
     "execution_count": 28,
     "metadata": {},
     "output_type": "execute_result"
    }
   ],
   "source": [
    "attempted_only{T}(fold::Vector{T}) = filter(eap->!isnan(eap[3]), fold)\n",
    "nongiveup_only{T}(fold::Vector{T}) = filter(eap->0<eap[3]<1, fold)\n",
    "partial_only{T}(fold::Vector{T}) = filter(eap->eap[3]>1, fold)\n",
    "\n",
    "attempted_only{T}(folds::Vector{Vector{T}}) = map(attempted_only, folds)\n",
    "nongiveup_only{T}(folds::Vector{Vector{T}}) = map(nongiveup_only, folds)\n",
    "partial_only{T}(folds::Vector{Vector{T}}) = map(partial_only, folds)"
   ]
  },
  {
   "cell_type": "code",
   "execution_count": 29,
   "metadata": {
    "collapsed": false
   },
   "outputs": [
    {
     "data": {
      "text/plain": [
       "2-element Array{Any,1}:\n",
       " 0.104507\n",
       " 0.100344"
      ]
     },
     "execution_count": 29,
     "metadata": {},
     "output_type": "execute_result"
    }
   ],
   "source": [
    "bleu_scores = map(all_ordered_exp_folds) do folds\n",
    "    bleu_scores = get_bleu_score(folds);\n",
    "    map(mean, bleu_scores) |> mean\n",
    "end"
   ]
  },
  {
   "cell_type": "code",
   "execution_count": 30,
   "metadata": {
    "collapsed": false
   },
   "outputs": [
    {
     "data": {
      "text/plain": [
       "2-element Array{Any,1}:\n",
       " 0.497722\n",
       " 0.499132"
      ]
     },
     "execution_count": 30,
     "metadata": {},
     "output_type": "execute_result"
    }
   ],
   "source": [
    "bleu_scores_no_giveup = map(all_ordered_exp_folds) do folds\n",
    "    mean([mean([bleu_score(eap[1], eap[2]) for eap in nongiveup_only(attempted_only(fold))]) for fold in values(folds)])\n",
    "end"
   ]
  },
  {
   "cell_type": "code",
   "execution_count": 31,
   "metadata": {
    "collapsed": false
   },
   "outputs": [
    {
     "data": {
      "text/plain": [
       "2-element Array{Any,1}:\n",
       " 0.703142\n",
       " 0.713763"
      ]
     },
     "execution_count": 31,
     "metadata": {},
     "output_type": "execute_result"
    }
   ],
   "source": [
    "giveups = map(all_ordered_exp_folds) do folds\n",
    "    mean([mean(Bool[!(0<eap[3]<1) for eap in attempted_only(fold)]) for fold in values(folds)])\n",
    "end"
   ]
  },
  {
   "cell_type": "code",
   "execution_count": 32,
   "metadata": {
    "collapsed": false
   },
   "outputs": [
    {
     "data": {
      "text/plain": [
       "2-element Array{Any,1}:\n",
       " 0.131246\n",
       " 0.130618"
      ]
     },
     "execution_count": 32,
     "metadata": {},
     "output_type": "execute_result"
    }
   ],
   "source": [
    "exact_matchs = map(all_ordered_exp_folds) do folds\n",
    "    mean([mean(Bool[eap[1]==eap[2] for eap in attempted_only(fold)]) for fold in values(folds)])\n",
    "end"
   ]
  },
  {
   "cell_type": "code",
   "execution_count": 33,
   "metadata": {
    "collapsed": false
   },
   "outputs": [
    {
     "data": {
      "text/plain": [
       "2-element Array{Any,1}:\n",
       " 0.668093\n",
       " 0.678843"
      ]
     },
     "execution_count": 33,
     "metadata": {},
     "output_type": "execute_result"
    }
   ],
   "source": [
    "partials = map(all_ordered_exp_folds) do folds\n",
    "    mean([mean(Bool[eap[3]>1 for eap in attempted_only(fold)]) for fold in values(folds)])\n",
    "end"
   ]
  },
  {
   "cell_type": "code",
   "execution_count": 34,
   "metadata": {
    "collapsed": false
   },
   "outputs": [
    {
     "data": {
      "text/plain": [
       "2-element Array{Any,1}:\n",
       " 0.37672 \n",
       " 0.388534"
      ]
     },
     "execution_count": 34,
     "metadata": {},
     "output_type": "execute_result"
    }
   ],
   "source": [
    "exact_matchs_no_giveup = map(all_ordered_exp_folds) do folds\n",
    "    mean([mean(Bool[eap[1]==eap[2] for eap in nongiveup_only(attempted_only(fold))]) for fold in values(folds)])\n",
    "end"
   ]
  },
  {
   "cell_type": "code",
   "execution_count": null,
   "metadata": {
    "collapsed": false
   },
   "outputs": [],
   "source": [
    "ordering_res = DataFrame(Model=[\"Oracle\", \"Oracle_LL\", \"300d\", 300d_LL])#[\"50d\",\"100d\",\"200d\",\"300d\", \"Oracle\"])\n",
    "ordering_res[symbol(\"BLEU Score\")]=bleu_scores\n",
    "ordering_res[symbol(\"Exact Ordered Matches\")]=exact_matchs\n",
    "ordering_res[symbol(\"Giveups\")]=giveups\n",
    "ordering_res[symbol(\"BLEU Score Excluding Giveups\")]=bleu_scores_no_giveup\n",
    "ordering_res[symbol(\"Exact Ordered Matches Excluding Giveups\")]=exact_matchs_no_giveup\n",
    "#writetable(OUTPUT_DIR*\"ordering_scores.csv\", ordering_res)\n",
    "ordering_res"
   ]
  },
  {
   "cell_type": "code",
   "execution_count": null,
   "metadata": {
    "collapsed": true
   },
   "outputs": [],
   "source": []
  },
  {
   "cell_type": "code",
   "execution_count": null,
   "metadata": {
    "collapsed": true
   },
   "outputs": [],
   "source": [
    "########"
   ]
  },
  {
   "cell_type": "code",
   "execution_count": null,
   "metadata": {
    "collapsed": false
   },
   "outputs": [],
   "source": [
    "fold_indexes=load(\"brown_glove_folds.jld\",\"fold_indexes\");"
   ]
  },
  {
   "cell_type": "code",
   "execution_count": null,
   "metadata": {
    "collapsed": false
   },
   "outputs": [],
   "source": [
    "function fold(data, fold_indexes)\n",
    "    ret = Dict()\n",
    "    for (fold_number,fold_iis) in enumerate(fold_indexes)\n",
    "        ret[\"fold_$(fold_number)\"] = data[fold_iis]\n",
    "    end\n",
    "    ret\n",
    "end"
   ]
  },
  {
   "cell_type": "code",
   "execution_count": null,
   "metadata": {
    "collapsed": true
   },
   "outputs": [],
   "source": []
  },
  {
   "cell_type": "code",
   "execution_count": null,
   "metadata": {
    "collapsed": false
   },
   "outputs": [],
   "source": [
    "jaccard_folds_300 = fold(bag_res[:glove300_jaccard], fold_indexes)"
   ]
  },
  {
   "cell_type": "code",
   "execution_count": null,
   "metadata": {
    "collapsed": false
   },
   "outputs": [],
   "source": [
    "[jaccard_folds_300[\"fold_6\"] bleu_scores300[1]]"
   ]
  },
  {
   "cell_type": "code",
   "execution_count": null,
   "metadata": {
    "collapsed": false
   },
   "outputs": [],
   "source": [
    "get_bleu_score(folds300,  count_give_ups=true, count_nonattepts=true);"
   ]
  },
  {
   "cell_type": "code",
   "execution_count": null,
   "metadata": {
    "collapsed": true
   },
   "outputs": [],
   "source": []
  }
 ],
 "metadata": {
  "kernelspec": {
   "display_name": "Julia 0.5.0-dev",
   "language": "julia",
   "name": "julia-0.5"
  },
  "language_info": {
   "file_extension": ".jl",
   "mimetype": "application/julia",
   "name": "julia",
   "version": "0.5.0"
  }
 },
 "nbformat": 4,
 "nbformat_minor": 0
}
