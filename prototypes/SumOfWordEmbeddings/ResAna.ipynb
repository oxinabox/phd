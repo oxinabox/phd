{
 "cells": [
  {
   "cell_type": "code",
   "execution_count": 1,
   "metadata": {
    "collapsed": false
   },
   "outputs": [
    {
     "name": "stderr",
     "output_type": "stream",
     "text": [
      "WARNING: module DataStructuresExtended should explicitly import == from Base\n"
     ]
    }
   ],
   "source": [
    "using FunctionalCollections\n",
    "using Iterators\n",
    "using Pipe\n",
    "using Compat\n",
    "\n",
    "macro printval(ee)\n",
    "    ee_expr = @sprintf \"%s\" string(ee)\n",
    "    esc(:(println($ee_expr,\" = \", $ee)))\n",
    "end\n",
    "\n",
    "macro pz(ee)\n",
    "    ee_expr = @sprintf \"%s\" string(ee)\n",
    "    esc(:(println($ee_expr,\"\\t\\t\",typeof($ee), \"\\t\", size($ee))))\n",
    "end\n",
    "\n",
    "push!(LOAD_PATH, \".\")\n",
    "push!(LOAD_PATH, \"../util/\")\n",
    "using DataStructures\n",
    "using DataStructuresExtended\n",
    "using JLD\n",
    "using DataFrames\n",
    "using Gadfly"
   ]
  },
  {
   "cell_type": "code",
   "execution_count": 2,
   "metadata": {
    "collapsed": false
   },
   "outputs": [
    {
     "data": {
      "text/plain": [
       "round_tbl (generic function with 2 methods)"
      ]
     },
     "execution_count": 2,
     "metadata": {},
     "output_type": "execute_result"
    }
   ],
   "source": [
    "function groupby_value(fn::Function, xs)\n",
    "    key_type = typeof(fn(first(xs)))\n",
    "    group_type = Vector{typeof(first(xs))}\n",
    "    groups = Dict{key_type, group_type}()\n",
    "    \n",
    "    for x in xs\n",
    "        key = fn(x)\n",
    "        group = get!(()->group_type(), groups, key)\n",
    "        push!(group, x)\n",
    "    end\n",
    "    groups\n",
    "end\n",
    "function round_tbl(data::DataFrame, places=2)\n",
    "    ret = copy(data)\n",
    "    for (ii,column) in enumerate(ret.columns)\n",
    "        if typeof(column[1])<:Number #hack\n",
    "            ret.columns[ii] = round(column, places)\n",
    "        end\n",
    "    end\n",
    "    ret\n",
    "end\n"
   ]
  },
  {
   "cell_type": "code",
   "execution_count": 3,
   "metadata": {
    "collapsed": false
   },
   "outputs": [
    {
     "data": {
      "text/plain": [
       "flatten_raw_blocked_records (generic function with 1 method)"
      ]
     },
     "execution_count": 3,
     "metadata": {},
     "output_type": "execute_result"
    }
   ],
   "source": [
    "function flatten_blocked_records{T<:Number, V}(records::Dict{T,V})  \n",
    "    rec_types = @pipe records |> values |> map(typeof,_) |> union\n",
    "    rec_type = length(rec_types)==1 ? rec_types[1] : V\n",
    "    ret = rec_type() #Construct it, it is some form of vector, or we will error soon\n",
    "    sizehint!(ret) = sum([length(r) for r in values(records)])\n",
    "    \n",
    "    sorted_keys = @pipe records |> keys |> collect |> sort\n",
    "    for key in sorted_keys\n",
    "        push!(ret, records[key]...)\n",
    "    end\n",
    "    ret\n",
    "end\n",
    "\n",
    "function flatten_raw_blocked_records{T,V}(records::Dict{T,V})  \n",
    "    key_types = @pipe records |> keys|> map(parse,_) |> map(typeof,_) |> union\n",
    "    @assert length(key_types)==1\n",
    "    key_type =  key_types[1]\n",
    "    \n",
    "    rec_types = @pipe records |> values |> map(typeof,_) |> union\n",
    "    rec_type = length(rec_types)==1 ? rec_types[1] : V\n",
    "    flatten_blocked_records(Dict(Pair{key_type, rec_type}[parse(k)=>v for (k,v) in records]))\n",
    "end"
   ]
  },
  {
   "cell_type": "code",
   "execution_count": 4,
   "metadata": {
    "collapsed": false
   },
   "outputs": [
    {
     "data": {
      "text/plain": [
       "\"../../documents_prepared/Journal Papers/SumResynthesis/data/\""
      ]
     },
     "execution_count": 4,
     "metadata": {},
     "output_type": "execute_result"
    }
   ],
   "source": [
    "OUTPUT_DIR = \"../../documents_prepared/Journal\\ Papers/SumResynthesis/data/\""
   ]
  },
  {
   "cell_type": "code",
   "execution_count": null,
   "metadata": {
    "collapsed": true
   },
   "outputs": [],
   "source": [
    "######Unordered/BOW"
   ]
  },
  {
   "cell_type": "code",
   "execution_count": 5,
   "metadata": {
    "collapsed": false
   },
   "outputs": [
    {
     "data": {
      "text/plain": [
       "jaccard_index (generic function with 2 methods)"
      ]
     },
     "execution_count": 5,
     "metadata": {},
     "output_type": "execute_result"
    }
   ],
   "source": [
    "function jaccard_index(aa::DataStructures.Accumulator,bb::DataStructures.Accumulator)\n",
    "    sum(intersect(aa,bb))/sum(union(aa,bb))\n",
    "end\n",
    "\n",
    "function jaccard_index(aa,bb)\n",
    "    length(intersect(aa,bb))/length(union(aa,bb))\n",
    "end"
   ]
  },
  {
   "cell_type": "code",
   "execution_count": 21,
   "metadata": {
    "collapsed": false
   },
   "outputs": [
    {
     "data": {
      "text/plain": [
       "f1_score (generic function with 1 method)"
      ]
     },
     "execution_count": 21,
     "metadata": {},
     "output_type": "execute_result"
    }
   ],
   "source": [
    "\n",
    "#Bag based definitions\n",
    "#Itersection of two bags has all elements of each with multiplicity equal to the lower.\n",
    "function precision(actual::DataStructures.Accumulator,reference::DataStructures.Accumulator)\n",
    "    sum(intersect(actual,reference))/sum(actual)\n",
    "end\n",
    "\n",
    "function recall(actual::DataStructures.Accumulator,reference::DataStructures.Accumulator)\n",
    "    sum(intersect(actual,reference))/sum(reference)\n",
    "end\n",
    "\n",
    "#Set based definitions\n",
    "#function precision(actual::DataStructures.Accumulator,reference::DataStructures.Accumulator)\n",
    "#    actual= Set(keys(actual))\n",
    "#    reference= Set(keys(reference))\n",
    "#    length(intersect(actual,reference))/length(actual)\n",
    "#end\n",
    "#function recall(actual::DataStructures.Accumulator,reference::DataStructures.Accumulator)\n",
    "#    actual= Set(keys(actual))\n",
    "#    reference= Set(keys(reference))\n",
    "#    length(intersect(actual,reference))/length(reference)\n",
    "#end\n",
    "\n",
    "#Overall\n",
    "\n",
    "function f1_score(actual::DataStructures.Accumulator,reference::DataStructures.Accumulator)\n",
    "    prec = precision(actual,reference)\n",
    "    rec = recall(actual,reference)\n",
    "    2*prec*rec/(prec+rec)\n",
    "end"
   ]
  },
  {
   "cell_type": "code",
   "execution_count": 13,
   "metadata": {
    "collapsed": false,
    "scrolled": true
   },
   "outputs": [
    {
     "data": {
      "text/plain": [
       "f1_score (generic function with 1 method)"
      ]
     },
     "execution_count": 13,
     "metadata": {},
     "output_type": "execute_result"
    }
   ],
   "source": []
  },
  {
   "cell_type": "code",
   "execution_count": 6,
   "metadata": {
    "collapsed": false,
    "scrolled": true
   },
   "outputs": [
    {
     "data": {
      "text/plain": [
       "66464-element Array{Tuple{Array{Symbol,1},Array{Symbol,1},Float32},1}:\n",
       " ([:okay,symbol(\",\"),:i,:said,symbol(\",\"),:this,:is,:going,:to,:be,:some,:fun,:revenge,:.],[:i,:it,:be,:.,symbol(\",\"),:going,:revenge,:some,symbol(\",\"),:brainchild,symbol(\"74.9\"),:go,:very,:also,symbol(\"'ll\"),:adding],-8.218232f0)                                                                                                                         \n",
       " ([:this,:is,:just,:great,symbol(\",\"),:seth,:shouted,:.],[:this,:is,:.,:great,:shouted,:seth,symbol(\",\"),:just],-1.4714614f-6)                                                                                                                                                                                                                                 \n",
       " ([:start,:in,:the,:beginning,:and,:do,symbol(\"n't\"),:hold,:anything,:back,:.],[symbol(\"n't\"),:do,:in,:back,:start,:the,:.,:hold,:and,:beginning,:anything],-3.0723756f-6)                                                                                                                                                                                     \n",
       " ([:a,:lot,:of,:explanations,:.],[:of,:a,:explanations,:lot,:.],-8.8209055f-7)                                                                                                                                                                                                                                                                                 \n",
       " ([:even,:if,:she,:really,:loved,:him,symbol(\",\"),:noah,:would,:never  …  :with,:her,:past,:and,:his,:?,:his,:first,:kiss,:?],[:i,:her,symbol(\"n't\"),:her,:him,symbol(\"n't\"),:not,:her,:be,:him  …  symbol(\";\"),:midstate,:____________________________________________,symbol(\"3,350\"),:hygiea,:leading,:always,:?,:not,:alex],-10.563485f0)                  \n",
       " ([:a,:dilemma,:that,:never,:would,:have,:bothered,:her,:before,:.],[:her,:that,:have,:a,:dilemma,:.,:bothered,:would,:never,:before],-3.0507551f-6)                                                                                                                                                                                                           \n",
       " ([:noah,:saw,:her,:disappearing,:down,:a,:hallway,:at,:the,:back  …  :her,:room,symbol(\",\"),:which,:slammed,:shut,:in,:his,:face,:.],[:her,:out,:her,:down,:the,:he,:to,:the,:back,:a  …  symbol(\"year-old\"),:serves,:renoir,:hoshen,:however,:hodell,:__________________________________,:lugano,symbol(\"45.60\"),:highlighted],-12.377059f0)                 \n",
       " ([symbol(\"``\"),:thank,:god,:you,:did,:?,symbol(\"''\")],[:you,symbol(\"``\"),:god,:thank,:?,:did,symbol(\"''\")],-2.1930314f-6)                                                                                                                                                                                                                                     \n",
       " ([:feeling,:the,:awkwardness,symbol(\",\"),:wara,:did,symbol(\"n't\"),:respond,:.],[symbol(\"n't\"),:feeling,:the,:respond,symbol(\",\"),:wara,:awkwardness,:.,:did],-1.8499455f-6)                                                                                                                                                                                   \n",
       " ([:i,symbol(\"'m\"),:not,:going,:to,:leave,:you,:alone,:.,symbol(\"''\")],[:i,:you,:not,:to,symbol(\"''\"),:alone,symbol(\"'m\"),:.,:going,:leave],-3.2927123f-6)                                                                                                                                                                                                     \n",
       " ([:ah,symbol(\",\"),:alejo,:!,symbol(\"''\")],[:ah,symbol(\"''\"),:!,:alejo,symbol(\",\")],-1.1702749f-6)                                                                                                                                                                                                                                                             \n",
       " ([:manuel,symbol(\",\"),:how,:dare,:you,:chicken,:out,:on,:me,:!],[:you,:!,:out,:on,:chicken,:manuel,:dare,symbol(\",\"),:how,:me],-2.3035666f-6)                                                                                                                                                                                                                 \n",
       " ([symbol(\"``\"),:but,:now,:that,:we,:belong,:to,:jesus,:we,:want  …  :power,:and,:riches,:to,:the,:kingdoms,:of,:this,:world,:.],[:we,:to,:we,:to,:not,:to,:we,:to,:our,:not  …  :____________________________________________,:should,:thankfully,:__________________________________,:triz,:wuhr,:contrast,:ready,symbol(\"300,000\"),symbol(\"8\")],-10.82901f0)\n",
       " ⋮                                                                                                                                                                                                                                                                                                                                                             \n",
       " ([symbol(\"``\"),:shh,symbol(\",\"),:it,symbol(\"'s\"),:okay,symbol(\",\"),:mimi,symbol(\",\"),symbol(\"''\"),:he,:crooned,symbol(\",\"),:rubbing,:wide,:circles,:across,:my,:back,:.],[symbol(\"``\"),:my,:it,symbol(\",\"),:back,symbol(\",\"),:wide,symbol(\"'s\"),:circles,symbol(\",\"),:mimi,:rubbing,:shh,:.,:crooned,symbol(\",\"),:across,:okay,:he,symbol(\"''\")],-5.269221f-6)\n",
       " ([symbol(\"``\"),:but,:that,:does,symbol(\"n't\"),:mean,:i,:ca,symbol(\"n't\"),:be,:a,:good,:mother,:.,symbol(\"''\")],[:i,symbol(\"n't\"),symbol(\"n't\"),symbol(\"``\"),:not,:if,:a,:that,:good,:mother,:.,:mean,symbol(\"''\"),:ca,:but],-3.4820185f0)                                                                                                                     \n",
       " ([:damn,:.],[:damn,:.],-0.0f0)                                                                                                                                                                                                                                                                                                                                \n",
       " ([:i,:picked,:up,:the,:sheet,:of,:paper,:i,:had,:jotted  …  :and,:gave,:it,:a,:quick,:rip,:down,:the,:middle,:.],[:i,:i,:on,:my,:the,:a,:down,:the,:paper,:up  …  :assumptions,:gave,:jotted,:middle,:rip,:and,:it,:picked,:_____________,:.],-2.477264f0)                                                                                                    \n",
       " ([:his,:words,:caused,:my,:heart,:to,:pick,:up,:speed,:because,:i,:did,symbol(\"n't\"),:like,:what,:they,:implied,:.],[:i,:my,symbol(\"n't\"),:to,:his,:because,:speed,:heart,:words,:up,:caused,:pick,:implied,:.,:like,:they,:what,:did],-7.0222304f-6)                                                                                                         \n",
       " ([:i,:do,symbol(\"n't\"),:think,:so,:.,symbol(\"''\")],[:i,symbol(\"n't\"),:do,:.,:so,:think,symbol(\"''\")],-1.5653793f-6)                                                                                                                                                                                                                                           \n",
       " ([:i,:wo,symbol(\"n't\"),:sleep,:tonight,:anyway,:knowing,:he,symbol(\"'s\"),:still,:in,:that,:place,:.,symbol(\"''\")],[:i,symbol(\"n't\"),:he,:place,:still,symbol(\"'s\"),:sleep,:.,:knowing,:in,:_____________,:tonight,:.,:anyway,:that,:wo,symbol(\"''\")],-2.4772635f0)                                                                                            \n",
       " ([symbol(\"``\"),:about,:that,:girl,:.,symbol(\"''\")],[symbol(\"``\"),:about,:girl,:that,:.,symbol(\"''\")],-9.66916f-7)                                                                                                                                                                                                                                             \n",
       " ([symbol(\"``\"),:which,:was,:when,:?,symbol(\"''\")],[symbol(\"``\"),:when,:was,:?,:which,symbol(\"''\")],-1.7831768f-6)                                                                                                                                                                                                                                             \n",
       " ([:maybe,:i,symbol(\"'m\"),:a,:charlie,symbol(\"'s\"),:angel,:natural,:.,symbol(\"''\")],[:i,:i,:a,symbol(\"'s\"),:angel,symbol(\"'re\"),:natural,:charlie,:.,:_____________,symbol(\"''\")],-4.772943f0)                                                                                                                                                                 \n",
       " ([:she,:knew,:what,:we,:were,:doing,:.],[:we,:she,:were,:what,:doing,:.,:knew],-1.4016125f-6)                                                                                                                                                                                                                                                                 \n",
       " ([:i,:rolled,:over,:to,:face,:him,:and,:he,:hitched,:my,:leg,:over,:his,:hip,:.],[:my,:his,:i,:him,:over,:leg,:face,:he,:over,:hip,:to,:hitched,:rolled,:and,:.],-3.216037f-6)                                                                                                                                                                                "
      ]
     },
     "execution_count": 6,
     "metadata": {},
     "output_type": "execute_result"
    }
   ],
   "source": [
    "\n",
    "#books_glove300cityblock_raw = load(\"results/bags/books_corpus_0.001_of_test_glove300_cityblock.jld\",\"4\")\n",
    "books_0_01_glove300_raw = flatten_raw_blocked_records(load(\"results/bags/books_corpus_0.01_of_test.jld\"))\n",
    "#books_001o_glove300_raw = flatten_raw_blocked_records(load(\"results/bags/books_corpus_0.01_of_test_glove300.jld\"))\n",
    "#brown_glove300_raw = load(\"results/bags/brown_glove300_res.jld\", \"res\")\n",
    "#brown_glove200_raw = load(\"results/bags/brown_glove200_res.jld\", \"res\")\n",
    "#brown_glove100_raw = load(\"results/bags/brown_glove100_res.jld\", \"res\")\n",
    "#brown_glove50_raw = load(\"results/bags/brown_glove50_res.jld\", \"res\")"
   ]
  },
  {
   "cell_type": "code",
   "execution_count": null,
   "metadata": {
    "collapsed": false
   },
   "outputs": [],
   "source": [
    "@assert all([rset[1] for rset in brown_glove50_raw] .== [rset[1] for rset in brown_glove300_raw])\n",
    "@assert all([rset[1] for rset in brown_glove50_raw] .== [rset[1] for rset in brown_glove200_raw])\n",
    "@assert all([rset[1] for rset in brown_glove50_raw] .== [rset[1] for rset in brown_glove100_raw])"
   ]
  },
  {
   "cell_type": "code",
   "execution_count": null,
   "metadata": {
    "collapsed": false
   },
   "outputs": [],
   "source": []
  },
  {
   "cell_type": "code",
   "execution_count": 14,
   "metadata": {
    "collapsed": false,
    "scrolled": false
   },
   "outputs": [],
   "source": [
    "bag_res = DataFrame()\n",
    "#bag_res[:ground] = [counter(rset[1]) for rset in brown_glove50_raw]\n",
    "bag_res[:ground] = [counter(rset[1]) for rset in  books_0_01_glove300_raw]\n",
    "bag_res[:ground_len] = Int[sum(ss) for ss in bag_res[:ground]]\n",
    "exp_names = ASCIIString[]\n",
    "#for raw_name in [\"brown_glove50_raw\",\"brown_glove100_raw\", \"brown_glove200_raw\", \"brown_glove300_raw\"]#\n",
    "for raw_name in [\"books_0_01_glove300_raw\"]\n",
    "    colname = join(split(raw_name,\"_\")[1:end-1],\"_\")\n",
    "    push!(exp_names, colname)\n",
    "    raw = eval(raw_name|>Symbol)\n",
    "    bag_res[colname*\"_actual\"|> Symbol] = [counter(rset[2]) for rset in raw]\n",
    "    #bag_res[colname*\"_distance\"|> Symbol] = Float64[-1*rset[3] for rset in raw]\n",
    "end\n",
    "\n",
    "#bag_res"
   ]
  },
  {
   "cell_type": "code",
   "execution_count": 15,
   "metadata": {
    "collapsed": false,
    "scrolled": true
   },
   "outputs": [],
   "source": [
    "for exp_name in exp_names\n",
    "    actual = bag_res[exp_name*\"_actual\" |> symbol]\n",
    "    bag_res[exp_name*\"_perfect\" |> symbol] = actual.==bag_res[:ground]\n",
    "    bag_res[exp_name*\"_jaccard\" |> symbol] = map(jaccard_index, actual, bag_res[:ground])\n",
    "    bag_res[exp_name*\"_precision\" |> symbol] = map(precision, actual, bag_res[:ground])\n",
    "    bag_res[exp_name*\"_recall\" |> symbol] = map(recall, actual, bag_res[:ground])\n",
    "    bag_res[exp_name*\"_f1\" |> symbol] = map(f1_score, actual, bag_res[:ground])\n",
    "end"
   ]
  },
  {
   "cell_type": "code",
   "execution_count": 16,
   "metadata": {
    "collapsed": false,
    "scrolled": true
   },
   "outputs": [
    {
     "data": {
      "text/html": [
       "<table class=\"data-frame\"><tr><th></th><th>ground_len</th><th>books_0_01_glove300_perfect_mean</th><th>books_0_01_glove300_jaccard_mean</th><th>books_0_01_glove300_precision_mean</th><th>books_0_01_glove300_recall_mean</th><th>books_0_01_glove300_f1_mean</th></tr><tr><th>1</th><td>1</td><td>1.0</td><td>1.0</td><td>1.0</td><td>1.0</td><td>1.0</td></tr><tr><th>2</th><td>2</td><td>1.0</td><td>1.0</td><td>1.0</td><td>1.0</td><td>1.0</td></tr><tr><th>3</th><td>3</td><td>1.0</td><td>1.0</td><td>1.0</td><td>1.0</td><td>1.0</td></tr><tr><th>4</th><td>4</td><td>1.0</td><td>1.0</td><td>1.0</td><td>1.0</td><td>1.0</td></tr><tr><th>5</th><td>5</td><td>0.99</td><td>0.99</td><td>1.0</td><td>1.0</td><td>1.0</td></tr><tr><th>6</th><td>6</td><td>0.98</td><td>0.99</td><td>0.99</td><td>0.99</td><td>0.99</td></tr><tr><th>7</th><td>7</td><td>0.97</td><td>0.99</td><td>0.99</td><td>0.99</td><td>0.99</td></tr><tr><th>8</th><td>8</td><td>0.95</td><td>0.98</td><td>0.99</td><td>0.99</td><td>0.99</td></tr><tr><th>9</th><td>9</td><td>0.94</td><td>0.98</td><td>0.99</td><td>0.99</td><td>0.99</td></tr><tr><th>10</th><td>10</td><td>0.92</td><td>0.98</td><td>0.98</td><td>0.99</td><td>0.99</td></tr><tr><th>11</th><td>11</td><td>0.89</td><td>0.97</td><td>0.98</td><td>0.98</td><td>0.98</td></tr><tr><th>12</th><td>12</td><td>0.86</td><td>0.96</td><td>0.97</td><td>0.98</td><td>0.98</td></tr><tr><th>13</th><td>13</td><td>0.83</td><td>0.95</td><td>0.97</td><td>0.98</td><td>0.97</td></tr><tr><th>14</th><td>14</td><td>0.79</td><td>0.94</td><td>0.96</td><td>0.97</td><td>0.97</td></tr><tr><th>15</th><td>15</td><td>0.73</td><td>0.92</td><td>0.95</td><td>0.96</td><td>0.95</td></tr><tr><th>16</th><td>16</td><td>0.69</td><td>0.91</td><td>0.94</td><td>0.95</td><td>0.94</td></tr><tr><th>17</th><td>17</td><td>0.61</td><td>0.88</td><td>0.91</td><td>0.94</td><td>0.92</td></tr><tr><th>18</th><td>18</td><td>0.55</td><td>0.85</td><td>0.89</td><td>0.92</td><td>0.9</td></tr><tr><th>19</th><td>19</td><td>0.48</td><td>0.81</td><td>0.86</td><td>0.9</td><td>0.88</td></tr><tr><th>20</th><td>20</td><td>0.4</td><td>0.77</td><td>0.83</td><td>0.87</td><td>0.85</td></tr><tr><th>21</th><td>21</td><td>0.34</td><td>0.72</td><td>0.78</td><td>0.84</td><td>0.81</td></tr><tr><th>22</th><td>22</td><td>0.3</td><td>0.7</td><td>0.77</td><td>0.83</td><td>0.79</td></tr><tr><th>23</th><td>23</td><td>0.23</td><td>0.64</td><td>0.71</td><td>0.79</td><td>0.75</td></tr><tr><th>24</th><td>24</td><td>0.21</td><td>0.62</td><td>0.69</td><td>0.78</td><td>0.73</td></tr><tr><th>25</th><td>25</td><td>0.16</td><td>0.58</td><td>0.65</td><td>0.74</td><td>0.69</td></tr><tr><th>26</th><td>26</td><td>0.12</td><td>0.53</td><td>0.62</td><td>0.71</td><td>0.66</td></tr><tr><th>27</th><td>27</td><td>0.09</td><td>0.49</td><td>0.58</td><td>0.68</td><td>0.62</td></tr><tr><th>28</th><td>28</td><td>0.05</td><td>0.46</td><td>0.55</td><td>0.66</td><td>0.6</td></tr><tr><th>29</th><td>29</td><td>0.06</td><td>0.46</td><td>0.54</td><td>0.65</td><td>0.59</td></tr><tr><th>30</th><td>30</td><td>0.03</td><td>0.43</td><td>0.52</td><td>0.64</td><td>0.57</td></tr><tr><th>&vellip;</th><td>&vellip;</td><td>&vellip;</td><td>&vellip;</td><td>&vellip;</td><td>&vellip;</td><td>&vellip;</td></tr></table>"
      ],
      "text/plain": [
       "88x6 DataFrames.DataFrame\n",
       "| Row | ground_len | books_0_01_glove300_perfect_mean |\n",
       "|-----|------------|----------------------------------|\n",
       "| 1   | 1          | 1.0                              |\n",
       "| 2   | 2          | 1.0                              |\n",
       "| 3   | 3          | 1.0                              |\n",
       "| 4   | 4          | 1.0                              |\n",
       "| 5   | 5          | 0.99                             |\n",
       "| 6   | 6          | 0.98                             |\n",
       "| 7   | 7          | 0.97                             |\n",
       "| 8   | 8          | 0.95                             |\n",
       "| 9   | 9          | 0.94                             |\n",
       "| 10  | 10         | 0.92                             |\n",
       "| 11  | 11         | 0.89                             |\n",
       "⋮\n",
       "| 77  | 89         | 0.0                              |\n",
       "| 78  | 91         | 0.0                              |\n",
       "| 79  | 92         | 0.0                              |\n",
       "| 80  | 94         | 0.0                              |\n",
       "| 81  | 96         | 0.0                              |\n",
       "| 82  | 103        | 0.0                              |\n",
       "| 83  | 118        | 0.0                              |\n",
       "| 84  | 126        | 0.0                              |\n",
       "| 85  | 128        | 0.0                              |\n",
       "| 86  | 137        | 0.0                              |\n",
       "| 87  | 157        | 0.0                              |\n",
       "| 88  | 246        | 0.0                              |\n",
       "\n",
       "| Row | books_0_01_glove300_jaccard_mean | books_0_01_glove300_precision_mean |\n",
       "|-----|----------------------------------|------------------------------------|\n",
       "| 1   | 1.0                              | 1.0                                |\n",
       "| 2   | 1.0                              | 1.0                                |\n",
       "| 3   | 1.0                              | 1.0                                |\n",
       "| 4   | 1.0                              | 1.0                                |\n",
       "| 5   | 0.99                             | 1.0                                |\n",
       "| 6   | 0.99                             | 0.99                               |\n",
       "| 7   | 0.99                             | 0.99                               |\n",
       "| 8   | 0.98                             | 0.99                               |\n",
       "| 9   | 0.98                             | 0.99                               |\n",
       "| 10  | 0.98                             | 0.98                               |\n",
       "| 11  | 0.97                             | 0.98                               |\n",
       "⋮\n",
       "| 77  | 0.3                              | 0.41                               |\n",
       "| 78  | 0.28                             | 0.29                               |\n",
       "| 79  | 0.24                             | 0.27                               |\n",
       "| 80  | 0.21                             | 0.28                               |\n",
       "| 81  | 0.22                             | 0.27                               |\n",
       "| 82  | 0.21                             | 0.27                               |\n",
       "| 83  | 0.27                             | 0.32                               |\n",
       "| 84  | 0.3                              | 0.27                               |\n",
       "| 85  | 0.2                              | 0.25                               |\n",
       "| 86  | 0.26                             | 0.22                               |\n",
       "| 87  | 0.17                             | 0.23                               |\n",
       "| 88  | 0.29                             | 0.26                               |\n",
       "\n",
       "| Row | books_0_01_glove300_recall_mean | books_0_01_glove300_f1_mean |\n",
       "|-----|---------------------------------|-----------------------------|\n",
       "| 1   | 1.0                             | 1.0                         |\n",
       "| 2   | 1.0                             | 1.0                         |\n",
       "| 3   | 1.0                             | 1.0                         |\n",
       "| 4   | 1.0                             | 1.0                         |\n",
       "| 5   | 1.0                             | 1.0                         |\n",
       "| 6   | 0.99                            | 0.99                        |\n",
       "| 7   | 0.99                            | 0.99                        |\n",
       "| 8   | 0.99                            | 0.99                        |\n",
       "| 9   | 0.99                            | 0.99                        |\n",
       "| 10  | 0.99                            | 0.99                        |\n",
       "| 11  | 0.98                            | 0.98                        |\n",
       "⋮\n",
       "| 77  | 0.48                            | 0.44                        |\n",
       "| 78  | 0.33                            | 0.31                        |\n",
       "| 79  | 0.4                             | 0.32                        |\n",
       "| 80  | 0.35                            | 0.31                        |\n",
       "| 81  | 0.34                            | 0.3                         |\n",
       "| 82  | 0.35                            | 0.31                        |\n",
       "| 83  | 0.42                            | 0.36                        |\n",
       "| 84  | 0.42                            | 0.33                        |\n",
       "| 85  | 0.31                            | 0.28                        |\n",
       "| 86  | 0.38                            | 0.28                        |\n",
       "| 87  | 0.31                            | 0.26                        |\n",
       "| 88  | 0.34                            | 0.29                        |"
      ]
     },
     "execution_count": 16,
     "metadata": {},
     "output_type": "execute_result"
    }
   ],
   "source": [
    "keep_cols = @pipe (bag_res.colindex |> keys |> map(string,_)\n",
    "                    |>filter(col -> contains(col,\"jaccard\") \n",
    "                                ||  contains(col,\"perfect\") \n",
    "                                ||  contains(col,\"recall\")\n",
    "                                ||  contains(col,\"_precision\")\n",
    "                                ||  contains(col,\"f1\" ),_)\n",
    "                    |> map(Symbol,_))\n",
    "len_scores = aggregate(bag_res[[:ground_len, keep_cols...]], :ground_len, mean)\n",
    "sort!(len_scores)\n",
    "#writetable(OUTPUT_DIR*\"selection_len_scores.csv\", len_scores)\n",
    "len_scores |> round_tbl"
   ]
  },
  {
   "cell_type": "code",
   "execution_count": null,
   "metadata": {
    "collapsed": false
   },
   "outputs": [],
   "source": [
    "#writetable(OUTPUT_DIR*\"selection_len_scores_brown.csv\", len_scores)"
   ]
  },
  {
   "cell_type": "code",
   "execution_count": 17,
   "metadata": {
    "collapsed": false,
    "scrolled": true
   },
   "outputs": [
    {
     "data": {
      "text/html": [
       "<table class=\"data-frame\"><tr><th></th><th>max_ground_len</th><th>books_0_01_glove300_perfect</th><th>books_0_01_glove300_jaccard</th><th>books_0_01_glove300_precision</th><th>books_0_01_glove300_recall</th><th>books_0_01_glove300_f1</th></tr><tr><th>1</th><td>1</td><td>1.0</td><td>1.0</td><td>1.0</td><td>1.0</td><td>1.0</td></tr><tr><th>2</th><td>2</td><td>1.0</td><td>1.0</td><td>1.0</td><td>1.0</td><td>1.0</td></tr><tr><th>3</th><td>3</td><td>1.0</td><td>1.0</td><td>1.0</td><td>1.0</td><td>1.0</td></tr><tr><th>4</th><td>4</td><td>1.0</td><td>1.0</td><td>1.0</td><td>1.0</td><td>1.0</td></tr><tr><th>5</th><td>5</td><td>0.99</td><td>1.0</td><td>1.0</td><td>1.0</td><td>1.0</td></tr><tr><th>6</th><td>6</td><td>0.99</td><td>1.0</td><td>1.0</td><td>1.0</td><td>1.0</td></tr><tr><th>7</th><td>7</td><td>0.98</td><td>0.99</td><td>1.0</td><td>1.0</td><td>1.0</td></tr><tr><th>8</th><td>8</td><td>0.98</td><td>0.99</td><td>0.99</td><td>1.0</td><td>1.0</td></tr><tr><th>9</th><td>9</td><td>0.97</td><td>0.99</td><td>0.99</td><td>0.99</td><td>0.99</td></tr><tr><th>10</th><td>10</td><td>0.97</td><td>0.99</td><td>0.99</td><td>0.99</td><td>0.99</td></tr><tr><th>11</th><td>11</td><td>0.96</td><td>0.99</td><td>0.99</td><td>0.99</td><td>0.99</td></tr><tr><th>12</th><td>12</td><td>0.95</td><td>0.98</td><td>0.99</td><td>0.99</td><td>0.99</td></tr><tr><th>13</th><td>13</td><td>0.94</td><td>0.98</td><td>0.99</td><td>0.99</td><td>0.99</td></tr><tr><th>14</th><td>14</td><td>0.94</td><td>0.98</td><td>0.99</td><td>0.99</td><td>0.99</td></tr><tr><th>15</th><td>15</td><td>0.93</td><td>0.98</td><td>0.98</td><td>0.99</td><td>0.99</td></tr><tr><th>16</th><td>16</td><td>0.92</td><td>0.97</td><td>0.98</td><td>0.99</td><td>0.98</td></tr><tr><th>17</th><td>17</td><td>0.9</td><td>0.97</td><td>0.98</td><td>0.99</td><td>0.98</td></tr><tr><th>18</th><td>18</td><td>0.89</td><td>0.97</td><td>0.98</td><td>0.98</td><td>0.98</td></tr><tr><th>19</th><td>19</td><td>0.88</td><td>0.96</td><td>0.97</td><td>0.98</td><td>0.98</td></tr><tr><th>20</th><td>20</td><td>0.87</td><td>0.96</td><td>0.97</td><td>0.98</td><td>0.97</td></tr><tr><th>21</th><td>21</td><td>0.86</td><td>0.95</td><td>0.97</td><td>0.97</td><td>0.97</td></tr><tr><th>22</th><td>22</td><td>0.84</td><td>0.95</td><td>0.96</td><td>0.97</td><td>0.97</td></tr><tr><th>23</th><td>23</td><td>0.83</td><td>0.94</td><td>0.96</td><td>0.97</td><td>0.96</td></tr><tr><th>24</th><td>24</td><td>0.82</td><td>0.94</td><td>0.95</td><td>0.97</td><td>0.96</td></tr><tr><th>25</th><td>25</td><td>0.82</td><td>0.93</td><td>0.95</td><td>0.96</td><td>0.96</td></tr><tr><th>26</th><td>26</td><td>0.81</td><td>0.93</td><td>0.95</td><td>0.96</td><td>0.95</td></tr><tr><th>27</th><td>27</td><td>0.8</td><td>0.92</td><td>0.94</td><td>0.96</td><td>0.95</td></tr><tr><th>28</th><td>28</td><td>0.8</td><td>0.92</td><td>0.94</td><td>0.96</td><td>0.95</td></tr><tr><th>29</th><td>29</td><td>0.79</td><td>0.92</td><td>0.94</td><td>0.95</td><td>0.94</td></tr><tr><th>30</th><td>30</td><td>0.79</td><td>0.91</td><td>0.93</td><td>0.95</td><td>0.94</td></tr><tr><th>&vellip;</th><td>&vellip;</td><td>&vellip;</td><td>&vellip;</td><td>&vellip;</td><td>&vellip;</td><td>&vellip;</td></tr></table>"
      ],
      "text/plain": [
       "88x6 DataFrames.DataFrame\n",
       "| Row | max_ground_len | books_0_01_glove300_perfect |\n",
       "|-----|----------------|-----------------------------|\n",
       "| 1   | 1              | 1.0                         |\n",
       "| 2   | 2              | 1.0                         |\n",
       "| 3   | 3              | 1.0                         |\n",
       "| 4   | 4              | 1.0                         |\n",
       "| 5   | 5              | 0.99                        |\n",
       "| 6   | 6              | 0.99                        |\n",
       "| 7   | 7              | 0.98                        |\n",
       "| 8   | 8              | 0.98                        |\n",
       "| 9   | 9              | 0.97                        |\n",
       "| 10  | 10             | 0.97                        |\n",
       "| 11  | 11             | 0.96                        |\n",
       "⋮\n",
       "| 77  | 89             | 0.76                        |\n",
       "| 78  | 91             | 0.76                        |\n",
       "| 79  | 92             | 0.76                        |\n",
       "| 80  | 94             | 0.76                        |\n",
       "| 81  | 96             | 0.76                        |\n",
       "| 82  | 103            | 0.76                        |\n",
       "| 83  | 118            | 0.76                        |\n",
       "| 84  | 126            | 0.76                        |\n",
       "| 85  | 128            | 0.76                        |\n",
       "| 86  | 137            | 0.76                        |\n",
       "| 87  | 157            | 0.76                        |\n",
       "| 88  | 246            | 0.76                        |\n",
       "\n",
       "| Row | books_0_01_glove300_jaccard | books_0_01_glove300_precision |\n",
       "|-----|-----------------------------|-------------------------------|\n",
       "| 1   | 1.0                         | 1.0                           |\n",
       "| 2   | 1.0                         | 1.0                           |\n",
       "| 3   | 1.0                         | 1.0                           |\n",
       "| 4   | 1.0                         | 1.0                           |\n",
       "| 5   | 1.0                         | 1.0                           |\n",
       "| 6   | 1.0                         | 1.0                           |\n",
       "| 7   | 0.99                        | 1.0                           |\n",
       "| 8   | 0.99                        | 0.99                          |\n",
       "| 9   | 0.99                        | 0.99                          |\n",
       "| 10  | 0.99                        | 0.99                          |\n",
       "| 11  | 0.99                        | 0.99                          |\n",
       "⋮\n",
       "| 77  | 0.89                        | 0.91                          |\n",
       "| 78  | 0.89                        | 0.91                          |\n",
       "| 79  | 0.89                        | 0.91                          |\n",
       "| 80  | 0.89                        | 0.91                          |\n",
       "| 81  | 0.89                        | 0.91                          |\n",
       "| 82  | 0.89                        | 0.91                          |\n",
       "| 83  | 0.89                        | 0.91                          |\n",
       "| 84  | 0.89                        | 0.91                          |\n",
       "| 85  | 0.89                        | 0.91                          |\n",
       "| 86  | 0.89                        | 0.91                          |\n",
       "| 87  | 0.89                        | 0.91                          |\n",
       "| 88  | 0.89                        | 0.91                          |\n",
       "\n",
       "| Row | books_0_01_glove300_recall | books_0_01_glove300_f1 |\n",
       "|-----|----------------------------|------------------------|\n",
       "| 1   | 1.0                        | 1.0                    |\n",
       "| 2   | 1.0                        | 1.0                    |\n",
       "| 3   | 1.0                        | 1.0                    |\n",
       "| 4   | 1.0                        | 1.0                    |\n",
       "| 5   | 1.0                        | 1.0                    |\n",
       "| 6   | 1.0                        | 1.0                    |\n",
       "| 7   | 1.0                        | 1.0                    |\n",
       "| 8   | 1.0                        | 1.0                    |\n",
       "| 9   | 0.99                       | 0.99                   |\n",
       "| 10  | 0.99                       | 0.99                   |\n",
       "| 11  | 0.99                       | 0.99                   |\n",
       "⋮\n",
       "| 77  | 0.94                       | 0.92                   |\n",
       "| 78  | 0.94                       | 0.92                   |\n",
       "| 79  | 0.94                       | 0.92                   |\n",
       "| 80  | 0.94                       | 0.92                   |\n",
       "| 81  | 0.94                       | 0.92                   |\n",
       "| 82  | 0.94                       | 0.92                   |\n",
       "| 83  | 0.94                       | 0.92                   |\n",
       "| 84  | 0.94                       | 0.92                   |\n",
       "| 85  | 0.94                       | 0.92                   |\n",
       "| 86  | 0.94                       | 0.92                   |\n",
       "| 87  | 0.94                       | 0.92                   |\n",
       "| 88  | 0.94                       | 0.92                   |"
      ]
     },
     "execution_count": 17,
     "metadata": {},
     "output_type": "execute_result"
    }
   ],
   "source": [
    "cum_len_scores = DataFrame()\n",
    "cum_len_scores[:max_ground_len] = bag_res[:ground_len] |> unique |> sort!\n",
    "for col in keep_cols\n",
    "    cum_len_scores[col] = Float64[ begin\n",
    "        shortish_sents = bag_res[:ground_len] .<= max_len;\n",
    "        shortish_bag_res = bag_res[shortish_sents, col]\n",
    "        shortish_bag_res[isfinite(shortish_bag_res)] |> mean\n",
    "         end for max_len in cum_len_scores[:max_ground_len]]\n",
    "end\n",
    "\n",
    "writetable(OUTPUT_DIR*\"selection_cum_len_scores_books.csv\", cum_len_scores)\n",
    "cum_len_scores |> round_tbl\n"
   ]
  },
  {
   "cell_type": "code",
   "execution_count": 18,
   "metadata": {
    "collapsed": false
   },
   "outputs": [
    {
     "data": {
      "text/html": [
       "<table class=\"data-frame\"><tr><th></th><th>max_ground_len</th><th>books_0_01_glove300_perfect</th><th>books_0_01_glove300_jaccard</th><th>books_0_01_glove300_precision</th><th>books_0_01_glove300_recall</th><th>books_0_01_glove300_f1</th></tr><tr><th>1</th><td>246</td><td>0.7556120606644199</td><td>0.8906838509159689</td><td>0.913871336385951</td><td>0.9351272214152089</td><td>0.9231796594020278</td></tr></table>"
      ],
      "text/plain": [
       "1x6 DataFrames.DataFrame\n",
       "| Row | max_ground_len | books_0_01_glove300_perfect |\n",
       "|-----|----------------|-----------------------------|\n",
       "| 1   | 246            | 0.755612                    |\n",
       "\n",
       "| Row | books_0_01_glove300_jaccard | books_0_01_glove300_precision |\n",
       "|-----|-----------------------------|-------------------------------|\n",
       "| 1   | 0.890684                    | 0.913871                      |\n",
       "\n",
       "| Row | books_0_01_glove300_recall | books_0_01_glove300_f1 |\n",
       "|-----|----------------------------|------------------------|\n",
       "| 1   | 0.935127                   | 0.92318                |"
      ]
     },
     "execution_count": 18,
     "metadata": {},
     "output_type": "execute_result"
    }
   ],
   "source": [
    "cum_len_scores[end,:] "
   ]
  },
  {
   "cell_type": "code",
   "execution_count": null,
   "metadata": {
    "collapsed": false
   },
   "outputs": [],
   "source": [
    "function longform(df::DataFrame, index::Symbol, cols::Vector{Symbol}, new_name::Symbol)\n",
    "    function subdf(col::Symbol)\n",
    "        df_sub = df[[index, col]]\n",
    "        rename!(df_sub, col, new_name)\n",
    "        df_sub[:label] = col\n",
    "        df_sub\n",
    "    end\n",
    "    vcat([subdf(col) for col in cols]...)\n",
    "end"
   ]
  },
  {
   "cell_type": "code",
   "execution_count": null,
   "metadata": {
    "collapsed": false
   },
   "outputs": [],
   "source": [
    "using Gadfly"
   ]
  },
  {
   "cell_type": "code",
   "execution_count": null,
   "metadata": {
    "collapsed": false
   },
   "outputs": [],
   "source": [
    "p=Gadfly.plot(longform(cum_len_scores, :max_ground_len, jaccard_cols, :mean_jaccard_index),\n",
    "    x=\"max_ground_len\", y=\"mean_jaccard_index\",\n",
    "    color=\"label\",\n",
    "    Coord.Cartesian(ymin=0),\n",
    "    Geom.point\n",
    ")\n",
    "#draw(PNG(\"brown_cumulative_length_score.png\", 24cm, 6cm), p)"
   ]
  },
  {
   "cell_type": "code",
   "execution_count": null,
   "metadata": {
    "collapsed": false
   },
   "outputs": [],
   "source": [
    "\n",
    "p=Gadfly.plot(longform(len_scores, :ground_len, [string(col)*\"_mean\"|> Symbol for col in jaccard_cols], :mean_jaccard_index),\n",
    "    x=\"ground_len\", y=\"mean_jaccard_index\",\n",
    "    color=\"label\",\n",
    "    Geom.point\n",
    ")\n",
    "#draw(PNG(\"brown_length_score.png\", 24cm, 6cm), p)"
   ]
  },
  {
   "cell_type": "code",
   "execution_count": null,
   "metadata": {
    "collapsed": false
   },
   "outputs": [],
   "source": [
    "bag_res[:ground_len] |> describe \n",
    "p=Gadfly.plot(bag_res, x=\"ground_len\",  Geom.histogram)\n",
    "#draw(PNG(\"brown_length_dist.png\", 24cm, 6cm), p)"
   ]
  },
  {
   "cell_type": "code",
   "execution_count": null,
   "metadata": {
    "collapsed": false
   },
   "outputs": [],
   "source": [
    "##############################################\n",
    "# ORDERED\n",
    "########################################"
   ]
  },
  {
   "cell_type": "code",
   "execution_count": 26,
   "metadata": {
    "collapsed": false
   },
   "outputs": [
    {
     "name": "stderr",
     "output_type": "stream",
     "text": [
      "/usr/local/lib/python2.7/dist-packages/nltk/app/__init__.py:29: UserWarning: nltk.app package not loaded (please install Tkinter library).\n",
      "  warnings.warn(\"nltk.app package not loaded \"\n",
      "/usr/local/lib/python2.7/dist-packages/nltk/draw/__init__.py:15: UserWarning: nltk.draw package not loaded (please install Tkinter library).\n",
      "  warnings.warn(\"nltk.draw package not loaded \"\n"
     ]
    },
    {
     "data": {
      "text/plain": [
       "bleu_score (generic function with 1 method)"
      ]
     },
     "execution_count": 26,
     "metadata": {},
     "output_type": "execute_result"
    }
   ],
   "source": [
    "using PyCall\n",
    "@pyimport nltk\n",
    "@pyimport nltk.align.bleu_score as nltk_bleu\n",
    "\n",
    "function bleu_score(candidate, reference)\n",
    "    reference = reference |> collect\n",
    "    candidate = candidate |> collect\n",
    "    \n",
    "    if reference==candidate #Perfect Match\n",
    "        1.0\n",
    "    else\n",
    "        weights = [1,1,1,1]/4\n",
    "        nltk_bleu.bleu(candidate,Any[reference], weights)\n",
    "    end\n",
    "end"
   ]
  },
  {
   "cell_type": "code",
   "execution_count": 27,
   "metadata": {
    "collapsed": false
   },
   "outputs": [
    {
     "data": {
      "text/plain": [
       "0.30576902884505114"
      ]
     },
     "execution_count": 27,
     "metadata": {},
     "output_type": "execute_result"
    }
   ],
   "source": [
    "bleu_score([\"the\",\"comedy\",\"of\",\"manners\",\"of\",\"this\",\"first\",\"a\",\"basis\",\"is\",\"performed\",\"in\",\"1892\",\".\"],\n",
    "           [\"this\",\"is\",\"the\" ,\"basis\",\"of\",\"a\" ,\"comedy\" ,\"of\",\"manners\",\"first\",\"performed\",\"in\",\"1892\", \".\"]\n",
    ")"
   ]
  },
  {
   "cell_type": "code",
   "execution_count": 28,
   "metadata": {
    "collapsed": true
   },
   "outputs": [],
   "source": [
    "immutable OrderRecord{T}\n",
    "    reference::Vector{T}\n",
    "    actual::Vector{T}\n",
    "    prob::Float64\n",
    "    time::Float64\n",
    "    status::Symbol\n",
    "end"
   ]
  },
  {
   "cell_type": "code",
   "execution_count": 29,
   "metadata": {
    "collapsed": false,
    "scrolled": true
   },
   "outputs": [
    {
     "data": {
      "text/plain": [
       "load_ordering_results (generic function with 1 method)"
      ]
     },
     "execution_count": 29,
     "metadata": {},
     "output_type": "execute_result"
    }
   ],
   "source": [
    "function load_ordering_results(path, keys)\n",
    "    blocked_records = Dict{Int,Any}([key=>load(path,string(key)) for key in keys])\n",
    "    @pipe blocked_records |> flatten_blocked_records |> map(r->OrderRecord(r...),_)\n",
    "end\n",
    "\n",
    "#books_0_001 = load_ordering_results(\"results/ordered/books_corpus_0.001_of_test_glove300.jld\", 1:100)\n",
    "#books_0_001_oracle = load_ordering_results(\"results/ordered/books_corpus_0.001_of_test_oracle.jld\", 1:100)"
   ]
  },
  {
   "cell_type": "code",
   "execution_count": 30,
   "metadata": {
    "collapsed": false,
    "scrolled": true
   },
   "outputs": [
    {
     "data": {
      "text/plain": [
       "66464-element Array{OrderRecord{Symbol},1}:\n",
       " OrderRecord{Symbol}([:okay,symbol(\",\"),:i,:said,symbol(\",\"),:this,:is,:going,:to,:be,:some,:fun,:revenge,:.],[:okay,symbol(\",\"),:i,:said,symbol(\",\"),:this,:is,:going,:to,:be,:some,:fun,:revenge,:.],1.2773596628139228e-22,38.715032542,:Optimal)                                                                                                                                       \n",
       " OrderRecord{Symbol}([:this,:is,:just,:great,symbol(\",\"),:seth,:shouted,:.],[:seth,:shouted,symbol(\",\"),:this,:is,:just,:great,:.],1.252549565980782e-15,5.772037558,:Optimal)                                                                                                                                                                                                             \n",
       " OrderRecord{Symbol}([:start,:in,:the,:beginning,:and,:do,symbol(\"n't\"),:hold,:anything,:back,:.],[:do,symbol(\"n't\"),:hold,:anything,:back,:and,:start,:in,:the,:beginning,:.],4.550069306365155e-20,7.867718543,:Optimal)                                                                                                                                                                 \n",
       " OrderRecord{Symbol}([:a,:lot,:of,:explanations,:.],[:a,:lot,:of,:explanations,:.],1.9167027199834824e-9,4.632991608,:Optimal)                                                                                                                                                                                                                                                             \n",
       " OrderRecord{Symbol}([:even,:if,:she,:really,:loved,:him,symbol(\",\"),:noah,:would,:never  …  :with,:her,:past,:and,:his,:?,:his,:first,:kiss,:?],[symbol(\",\"),:ever,:be,:she,:not,:his,:if,:?,symbol(\",\"),:with  …  :to,:like,:would,:be,:him,:noah,:her,symbol(\",\"),:someone,:past],NaN,0.0,:NotAttempted)                                                                                \n",
       " OrderRecord{Symbol}([:a,:dilemma,:that,:never,:would,:have,:bothered,:her,:before,:.],[:never,:would,:have,:a,:dilemma,:that,:bothered,:her,:before,:.],8.322456185656722e-21,6.566680268,:Optimal)                                                                                                                                                                                       \n",
       " OrderRecord{Symbol}([:noah,:saw,:her,:disappearing,:down,:a,:hallway,:at,:the,:back  …  :her,:room,symbol(\",\"),:which,:slammed,:shut,:in,:his,:face,:.],[:in,:saw,:and,:stop,:the,:the,:past,:fountain,:room,:to  …  :slid,:her,:disappearing,symbol(\",\"),:noah,:just,:hallway,symbol(\",\"),:of,:back],NaN,0.0,:NotAttempted)                                                              \n",
       " OrderRecord{Symbol}([symbol(\"``\"),:thank,:god,:you,:did,:?,symbol(\"''\")],[symbol(\"``\"),:thank,:god,:you,:did,:?,symbol(\"''\")],9.333836211075733e-10,5.308143248,:Optimal)                                                                                                                                                                                                                 \n",
       " OrderRecord{Symbol}([:feeling,:the,:awkwardness,symbol(\",\"),:wara,:did,symbol(\"n't\"),:respond,:.],[:wara,:did,symbol(\"n't\"),:respond,symbol(\",\"),:feeling,:the,:awkwardness,:.],8.261436968819554e-19,5.5031686,:Optimal)                                                                                                                                                                 \n",
       " OrderRecord{Symbol}([:i,symbol(\"'m\"),:not,:going,:to,:leave,:you,:alone,:.,symbol(\"''\")],[:i,symbol(\"'m\"),:not,:going,:to,:leave,:you,:alone,:.,symbol(\"''\")],1.5569708540033984e-10,5.91681488,:Optimal)                                                                                                                                                                                 \n",
       " OrderRecord{Symbol}([:ah,symbol(\",\"),:alejo,:!,symbol(\"''\")],[:ah,symbol(\",\"),:alejo,:!,symbol(\"''\")],1.8640870289754883e-13,4.815646135,:Optimal)                                                                                                                                                                                                                                        \n",
       " OrderRecord{Symbol}([:manuel,symbol(\",\"),:how,:dare,:you,:chicken,:out,:on,:me,:!],[:how,:dare,:you,:chicken,:out,:on,:me,symbol(\",\"),:manuel,:!],1.6898059650045026e-22,6.62249879,:Optimal)                                                                                                                                                                                             \n",
       " OrderRecord{Symbol}([symbol(\"``\"),:but,:now,:that,:we,:belong,:to,:jesus,:we,:want  …  :power,:and,:riches,:to,:the,:kingdoms,:of,:this,:world,:.],[:talents,:jesus,:to,:not,:obey,:to,:now,:we,:riches,:use  …  :but,:of,:to,symbol(\",\"),:want,:belong,:world,:we,symbol(\"``\"),:the],NaN,0.0,:NotAttempted)                                                                              \n",
       " ⋮                                                                                                                                                                                                                                                                                                                                                                                         \n",
       " OrderRecord{Symbol}([symbol(\"``\"),:shh,symbol(\",\"),:it,symbol(\"'s\"),:okay,symbol(\",\"),:mimi,symbol(\",\"),symbol(\"''\"),:he,:crooned,symbol(\",\"),:rubbing,:wide,:circles,:across,:my,:back,:.],[:crooned,:.,symbol(\",\"),:back,symbol(\",\"),:okay,:mimi,symbol(\"''\"),:circles,:rubbing,:wide,:shh,:it,:across,symbol(\",\"),symbol(\",\"),:he,:my,symbol(\"``\"),symbol(\"'s\")],NaN,0.0,:NotAttempted)\n",
       " OrderRecord{Symbol}([symbol(\"``\"),:but,:that,:does,symbol(\"n't\"),:mean,:i,:ca,symbol(\"n't\"),:be,:a,:good,:mother,:.,symbol(\"''\")],[symbol(\"``\"),:but,:that,:does,symbol(\"n't\"),:mean,:i,:ca,symbol(\"n't\"),:be,:a,:good,:mother,:.,symbol(\"''\")],2.6632075781807426e-17,5.124727606,:Optimal)                                                                                              \n",
       " OrderRecord{Symbol}([:damn,:.],[:damn,:.],7.989705153311046e-5,0.035180162,:Optimal)                                                                                                                                                                                                                                                                                                      \n",
       " OrderRecord{Symbol}([:i,:picked,:up,:the,:sheet,:of,:paper,:i,:had,:jotted  …  :and,:gave,:it,:a,:quick,:rip,:down,:the,:middle,:.],[:picked,:and,:my,:of,:had,:a,:assumptions,:paper,:i,:down  …  :middle,:gave,:on,:i,:the,:it,:rip,:.,:quick,:sheet],NaN,0.0,:NotAttempted)                                                                                                            \n",
       " OrderRecord{Symbol}([:his,:words,:caused,:my,:heart,:to,:pick,:up,:speed,:because,:i,:did,symbol(\"n't\"),:like,:what,:they,:implied,:.],[:his,:words,:caused,:my,:heart,:to,:pick,:up,:speed,:because,:i,:did,symbol(\"n't\"),:like,:what,:they,:implied,:.],2.0564327612124676e-30,16.389995298,:Optimal)                                                                                   \n",
       " OrderRecord{Symbol}([:i,:do,symbol(\"n't\"),:think,:so,:.,symbol(\"''\")],[:i,:do,symbol(\"n't\"),:think,:so,:.,symbol(\"''\")],1.9465229420115983e-6,0.663266909,:Optimal)                                                                                                                                                                                                                       \n",
       " OrderRecord{Symbol}([:i,:wo,symbol(\"n't\"),:sleep,:tonight,:anyway,:knowing,:he,symbol(\"'s\"),:still,:in,:that,:place,:.,symbol(\"''\")],[:i,:wo,symbol(\"n't\"),:sleep,:tonight,:anyway,:knowing,:that,:he,symbol(\"'s\"),:still,:in,:place,:.,symbol(\"''\")],2.5213530123964453e-23,5.18674637,:Optimal)                                                                                         \n",
       " OrderRecord{Symbol}([symbol(\"``\"),:about,:that,:girl,:.,symbol(\"''\")],[symbol(\"``\"),:about,:that,:girl,:.,symbol(\"''\")],9.434211140124058e-10,0.404970086,:Optimal)                                                                                                                                                                                                                       \n",
       " OrderRecord{Symbol}([symbol(\"``\"),:which,:was,:when,:?,symbol(\"''\")],[symbol(\"``\"),:which,:was,:when,:?,symbol(\"''\")],1.531677754200857e-11,0.479306865,:Optimal)                                                                                                                                                                                                                         \n",
       " OrderRecord{Symbol}([:maybe,:i,symbol(\"'m\"),:a,:charlie,symbol(\"'s\"),:angel,:natural,:.,symbol(\"''\")],[:maybe,:i,symbol(\"'m\"),:a,:charlie,symbol(\"'s\"),:angel,:natural,:.,symbol(\"''\")],9.512274927777537e-19,1.701333283,:Optimal)                                                                                                                                                       \n",
       " OrderRecord{Symbol}([:she,:knew,:what,:we,:were,:doing,:.],[:she,:knew,:what,:we,:were,:doing,:.],7.086389021624927e-11,0.673895345,:Optimal)                                                                                                                                                                                                                                             \n",
       " OrderRecord{Symbol}([:i,:rolled,:over,:to,:face,:him,:and,:he,:hitched,:my,:leg,:over,:his,:hip,:.],[:i,:hitched,:my,:leg,:over,:his,:hip,:and,:he,:rolled,:over,:to,:face,:him,:.],4.707139540573514e-23,13.280970882,:Optimal)                                                                                                                                                          "
      ]
     },
     "execution_count": 30,
     "metadata": {},
     "output_type": "execute_result"
    }
   ],
   "source": [
    "books_0_01 = load_ordering_results(\"results/ordered/books_corpus_0.01_of_test.jld\", 1:1000)\n",
    "books_0_01_oracle = load_ordering_results(\"results/ordered/books_corpus_0.01_of_test_oracle.jld\", 1:1000)"
   ]
  },
  {
   "cell_type": "code",
   "execution_count": 31,
   "metadata": {
    "collapsed": false
   },
   "outputs": [
    {
     "data": {
      "text/plain": [
       "feasible_only (generic function with 1 method)"
      ]
     },
     "execution_count": 31,
     "metadata": {},
     "output_type": "execute_result"
    }
   ],
   "source": [
    "attempted_only{T<:OrderRecord}(recs::Vector{T}) = filter(r->r.status!=:NotAttempted, recs)\n",
    "feasible_only{T<:OrderRecord}(recs::Vector{T}) = filter(r->r.status!=:Infeasible, recs)\n"
   ]
  },
  {
   "cell_type": "code",
   "execution_count": 32,
   "metadata": {
    "collapsed": false
   },
   "outputs": [
    {
     "data": {
      "text/plain": [
       "bleu_score (generic function with 2 methods)"
      ]
     },
     "execution_count": 32,
     "metadata": {},
     "output_type": "execute_result"
    }
   ],
   "source": [
    "function exact_match(rec::OrderRecord)\n",
    "    rec.reference == rec.actual\n",
    "end\n",
    "function bleu_score(rec::OrderRecord)\n",
    "    bleu_score( rec.actual, rec.reference)\n",
    "end"
   ]
  },
  {
   "cell_type": "code",
   "execution_count": 55,
   "metadata": {
    "collapsed": false
   },
   "outputs": [
    {
     "data": {
      "text/plain": [
       "5-element Array{Tuple{Symbol,Function},1}:\n",
       " (symbol(\"Portion Perfect\"),(anonymous function))                \n",
       " (symbol(\"BLEU Score\"),(anonymous function))                     \n",
       " (symbol(\"Portion Feasible\"),(anonymous function))               \n",
       " (symbol(\"Portion Perfect (Feasible Only)\"),(anonymous function))\n",
       " (symbol(\"BLEU Score (Feasible Only)\"),(anonymous function))     "
      ]
     },
     "execution_count": 55,
     "metadata": {},
     "output_type": "execute_result"
    }
   ],
   "source": [
    "eval_methods = [\n",
    "    #(symbol(\"Time Taken (s)\"), data -> map(r->r.time , data|> attempted_only)),\n",
    "    (symbol(\"Portion Perfect\"), data ->  map(exact_match, data|> attempted_only)),\n",
    "    (symbol(\"BLEU Score\"), data ->     map(bleu_score,  data|> attempted_only)),\n",
    "    (symbol(\"Portion Feasible\"), data ->     map(r->r.status==:Optimal, data|> attempted_only)),\n",
    "    (symbol(\"Portion Perfect (Feasible Only)\"), data ->  map(exact_match, data|> attempted_only |>feasible_only)),\n",
    "    (symbol(\"BLEU Score (Feasible Only)\"), data ->     map(bleu_score,  data|> attempted_only |>feasible_only) ),\n",
    "]"
   ]
  },
  {
   "cell_type": "code",
   "execution_count": 45,
   "metadata": {
    "collapsed": false
   },
   "outputs": [
    {
     "data": {
      "text/plain": [
       "0.6216002261803788"
      ]
     },
     "execution_count": 45,
     "metadata": {},
     "output_type": "execute_result"
    }
   ],
   "source": [
    "books_0_01 |> eval_methods[2][2] |> mean"
   ]
  },
  {
   "cell_type": "code",
   "execution_count": 59,
   "metadata": {
    "collapsed": false
   },
   "outputs": [
    {
     "name": "stdout",
     "output_type": "stream",
     "text": [
      "Portion Perfect\n",
      "BLEU Score\n",
      "Portion Feasible\n",
      "Portion Perfect (Feasible Only)\n",
      "BLEU Score (Feasible Only)\n"
     ]
    },
    {
     "data": {
      "text/html": [
       "<table class=\"data-frame\"><tr><th></th><th>Process</th><th>Portion Perfect</th><th>BLEU Score</th><th>Portion Feasible</th><th>Portion Perfect (Feasible Only)</th><th>BLEU Score (Feasible Only)</th></tr><tr><th>1</th><td>Ordering</td><td>0.67</td><td>0.81</td><td>1.0</td><td>0.67</td><td>0.81</td></tr><tr><th>2</th><td>Two Step</td><td>0.62</td><td>0.75</td><td>0.94</td><td>0.66</td><td>0.79</td></tr></table>"
      ],
      "text/plain": [
       "2x6 DataFrames.DataFrame\n",
       "| Row | Process    | Portion Perfect | BLEU Score | Portion Feasible |\n",
       "|-----|------------|-----------------|------------|------------------|\n",
       "| 1   | \"Ordering\" | 0.67            | 0.81       | 1.0              |\n",
       "| 2   | \"Two Step\" | 0.62            | 0.75       | 0.94             |\n",
       "\n",
       "| Row | Portion Perfect (Feasible Only) | BLEU Score (Feasible Only) |\n",
       "|-----|---------------------------------|----------------------------|\n",
       "| 1   | 0.67                            | 0.81                       |\n",
       "| 2   | 0.66                            | 0.79                       |"
      ]
     },
     "execution_count": 59,
     "metadata": {},
     "output_type": "execute_result"
    }
   ],
   "source": [
    "function get_ordering_res(datas...)\n",
    "    ordering_res = DataFrame(Process=[model for (model, data) in datas])\n",
    "    for (method, fn) in eval_methods\n",
    "        println(method)\n",
    "        ordering_res[method]=[mean(fn(data)) for (model, data) in datas]\n",
    "    end\n",
    "    ordering_res\n",
    "end\n",
    "\n",
    "ordering_res = get_ordering_res((\"Ordering\",books_0_01_oracle),(\"Two Step\",books_0_01))\n",
    "\n",
    "writetable(OUTPUT_DIR*\"ordering_scores.csv\", ordering_res)\n",
    "round_tbl(ordering_res)"
   ]
  },
  {
   "cell_type": "code",
   "execution_count": null,
   "metadata": {
    "collapsed": false
   },
   "outputs": [],
   "source": [
    "function mean_by_length{T<:OrderRecord}(rater::Function, data::Vector{T}, assessed_lengths)\n",
    "    groups = groupby_value(r->length(r.reference), data) #r.reference is the ground truth sentence\n",
    "    [ mean(rater(groups[len])) for len in assessed_lengths]\n",
    "end\n",
    "function get_instance_counts(data)\n",
    "    groups = groupby_value(r->length(r.reference), data) \n",
    "    [length(groups[sent_len]) for sent_len in sort(collect(keys(groups)))]\n",
    "end\n",
    "\n",
    "function get_ordering_length_res(data)\n",
    "    ordering_length_res = DataFrame(\n",
    "        ground_length=1:maximum([length(r.reference) for r in data |> attempted_only]),\n",
    "        Instances = get_instance_counts(data|> attempted_only))\n",
    "    for (method, fn) in eval_methods\n",
    "        println(method)\n",
    "        ordering_length_res[method]=mean_by_length(fn,data, ordering_length_res[:ground_length])\n",
    "    end\n",
    "    return ordering_length_res\n",
    "\n",
    "end\n",
    "ordering_length_res = get_ordering_length_res(books_0_01)\n",
    "writetable(OUTPUT_DIR*\"ordering_length_scores.csv\", ordering_length_res)\n",
    "round_tbl(ordering_length_res)"
   ]
  },
  {
   "cell_type": "code",
   "execution_count": null,
   "metadata": {
    "collapsed": false
   },
   "outputs": [],
   "source": [
    "ordering_length_res_oracle = get_ordering_length_res(books_0_01_oracle)\n",
    "writetable(OUTPUT_DIR*\"ordering_length_scores_oracle.csv\", ordering_length_res_oracle)\n",
    "round_tbl(ordering_length_res_oracle)"
   ]
  },
  {
   "cell_type": "code",
   "execution_count": null,
   "metadata": {
    "collapsed": true
   },
   "outputs": [],
   "source": []
  },
  {
   "cell_type": "code",
   "execution_count": null,
   "metadata": {
    "collapsed": true
   },
   "outputs": [],
   "source": []
  },
  {
   "cell_type": "code",
   "execution_count": null,
   "metadata": {
    "collapsed": true
   },
   "outputs": [],
   "source": []
  },
  {
   "cell_type": "code",
   "execution_count": 22,
   "metadata": {
    "collapsed": true
   },
   "outputs": [],
   "source": [
    "# Compare Errors to those from Selection"
   ]
  },
  {
   "cell_type": "code",
   "execution_count": 23,
   "metadata": {
    "collapsed": false
   },
   "outputs": [
    {
     "ename": "LoadError",
     "evalue": "LoadError: UndefVarError: ordering_length_res_oracle not defined\nwhile loading In[23], in expression starting on line 1",
     "output_type": "error",
     "traceback": [
      "LoadError: UndefVarError: ordering_length_res_oracle not defined\nwhile loading In[23], in expression starting on line 1",
      "",
      " [inlined code] from essentials.jl:114"
     ]
    }
   ],
   "source": [
    "oracle_bleu = ordering_length_res_oracle[:,symbol(\"BLEU Score\")]\n",
    "generated_bleu = ordering_length_res[:,symbol(\"BLEU Score\")]\n",
    "selection_prec = len_scores[1:18,:books_0_01_glove300_precision_mean]\n",
    "\n",
    "predicted_bleu = oracle_bleu-(1-selection_prec) #Expected loss from word ordering loss can be removed\n",
    "print([predicted_bleu generated_bleu])\n",
    "\n",
    "Gadfly.plot(layer(x=1:18, y=oracle_bleu,Geom.line, Geom.point, Theme(default_color=color(\"green\"))),\n",
    "            layer(x=1:18, y=predicted_bleu,Geom.line, Geom.point),\n",
    "            layer(x=1:18, y=generated_bleu,Geom.line, Geom.point,Theme(default_color=color(\"red\")))\n",
    ")"
   ]
  },
  {
   "cell_type": "code",
   "execution_count": 24,
   "metadata": {
    "collapsed": false
   },
   "outputs": [
    {
     "ename": "LoadError",
     "evalue": "LoadError: UndefVarError: ordering_length_res_oracle not defined\nwhile loading In[24], in expression starting on line 1",
     "output_type": "error",
     "traceback": [
      "LoadError: UndefVarError: ordering_length_res_oracle not defined\nwhile loading In[24], in expression starting on line 1",
      "",
      " [inlined code] from essentials.jl:114"
     ]
    }
   ],
   "source": [
    "keys(ordering_length_res_oracle)"
   ]
  },
  {
   "cell_type": "code",
   "execution_count": 25,
   "metadata": {
    "collapsed": false
   },
   "outputs": [
    {
     "ename": "LoadError",
     "evalue": "LoadError: UndefVarError: ordering_length_res_oracle not defined\nwhile loading In[25], in expression starting on line 1",
     "output_type": "error",
     "traceback": [
      "LoadError: UndefVarError: ordering_length_res_oracle not defined\nwhile loading In[25], in expression starting on line 1",
      "",
      " [inlined code] from essentials.jl:114"
     ]
    }
   ],
   "source": [
    "oracle_exact = ordering_length_res_oracle[:,symbol(\"Portion Perfect\")]\n",
    "generated_exact = ordering_length_res[:,symbol(\"Portion Perfect\")]\n",
    "selection_exact = len_scores[1:18,:books_0_01_glove300_perfect_mean]\n",
    "\n",
    "predicted_exact = oracle_exact-(1-selection_exact) #Expected loss from word ordering loss can be removed\n",
    "print([predicted_bleu generated_bleu])\n",
    "\n",
    "Gadfly.plot(layer(x=1:18, y=oracle_exact,Geom.line, Geom.point, Theme(default_color=color(\"green\"))),\n",
    "layer(x=1:18, y=predicted_exact,Geom.line, Geom.point),\n",
    "layer(x=1:18, y=generated_exact,Geom.line, Geom.point,Theme(default_color=color(\"red\")))\n",
    ")"
   ]
  },
  {
   "cell_type": "code",
   "execution_count": null,
   "metadata": {
    "collapsed": false
   },
   "outputs": [],
   "source": []
  },
  {
   "cell_type": "code",
   "execution_count": null,
   "metadata": {
    "collapsed": false
   },
   "outputs": [],
   "source": [
    "Gadfly.plot(ordering_length_res, x=:ground_length, y=:BLEU_Score)"
   ]
  },
  {
   "cell_type": "code",
   "execution_count": null,
   "metadata": {
    "collapsed": true
   },
   "outputs": [],
   "source": [
    "using Gadfly"
   ]
  },
  {
   "cell_type": "code",
   "execution_count": null,
   "metadata": {
    "collapsed": false
   },
   "outputs": [],
   "source": [
    "p=Gadfly.plot(ordering_length_res, x=:ground_length, y=:Time_taken)\n",
    "#draw(PNG(\"ordering_time_taken_vs_length.png\", 10cm, 6cm), p)"
   ]
  },
  {
   "cell_type": "code",
   "execution_count": null,
   "metadata": {
    "collapsed": true
   },
   "outputs": [],
   "source": []
  },
  {
   "cell_type": "code",
   "execution_count": null,
   "metadata": {
    "collapsed": false
   },
   "outputs": [],
   "source": [
    "function cum_means(indexed_data::DataFrame, index_col=:ground_length, count_col=:Instances)\n",
    "    @assert issorted(indexed_data[index_col])\n",
    "    cum_data=DataFrame()\n",
    "    cum_data[Symbol(\"max_\"*string(index_col))] = indexed_data[index_col]\n",
    "    cum_data[count_col] = cumsum(indexed_data[count_col])\n",
    "    keep_cols = @pipe indexed_data.colindex |> keys |> collect |> filter(col->col∉[index_col, count_col], _) |> collect\n",
    "    for col in keep_cols\n",
    "        total_count = 0\n",
    "        total_score = 0\n",
    "        prev_index = 0 \n",
    "        function cum(ii)\n",
    "            @assert ii>prev_index\n",
    "            score = indexed_data[ii,col]\n",
    "            count = indexed_data[ii,count_col]\n",
    "            total_score = (total_score*total_count+score*count)/(total_count+count)\n",
    "            total_count+=count\n",
    "            prev_index = ii\n",
    "            return total_score\n",
    "        end\n",
    "        cum_data[col]= map(cum, 1:length(indexed_data[col]))\n",
    "    end\n",
    "    cum_data\n",
    "end\n",
    "    "
   ]
  },
  {
   "cell_type": "code",
   "execution_count": null,
   "metadata": {
    "collapsed": false
   },
   "outputs": [],
   "source": [
    "cum_means(ordering_length_res)"
   ]
  },
  {
   "cell_type": "code",
   "execution_count": null,
   "metadata": {
    "collapsed": false
   },
   "outputs": [],
   "source": [
    "cum_means(ordering_length_res_oracle)"
   ]
  },
  {
   "cell_type": "code",
   "execution_count": null,
   "metadata": {
    "collapsed": false
   },
   "outputs": [],
   "source": [
    "delete!()"
   ]
  },
  {
   "cell_type": "code",
   "execution_count": null,
   "metadata": {
    "collapsed": true
   },
   "outputs": [],
   "source": []
  },
  {
   "cell_type": "code",
   "execution_count": null,
   "metadata": {
    "collapsed": true
   },
   "outputs": [],
   "source": [
    "########\n",
    "#Examples"
   ]
  },
  {
   "cell_type": "code",
   "execution_count": 60,
   "metadata": {
    "collapsed": false
   },
   "outputs": [
    {
     "data": {
      "text/plain": [
       "10-element Array{OrderRecord{Symbol},1}:\n",
       " OrderRecord{Symbol}([:name,:this,symbol(\"1922\"),:novel,:about,:leopold,:bloom,:written,:by,:james,:joyce,:.],[:written,:by,:name,:this,:.,:novel,:about,symbol(\"1922\"),:bloom,:leopold,:james,:joyce],NaN,4.735941975,:Infeasible)                                                                                                                                                              \n",
       " OrderRecord{Symbol}([:ralph,:waldo,:emerson,:dismissed,:this,:poet,:as,:the,:jingle,:man  …  :lowell,:called,:him,symbol(\"three-fifths\"),:genius,:and,symbol(\"two-fifths\"),:sheer,:fudge,:.],[:sheer,:this,:as,:james,symbol(\"two-fifths\"),:emerson,:fudge,:lowell,:poet,:genius  …  :the,:and,:ralph,:and,:him,:.,:dismissed,:jingle,symbol(\"three-fifths\"),:man],NaN,18.379483723,:Infeasible)\n",
       " OrderRecord{Symbol}([:this,:is,:the,:basis,:of,:a,:comedy,:of,:manners,:first,:performed,:in,symbol(\"1892\"),:.],[:this,:is,:the,:basis,:of,:a,:comedy,:of,:manners,:first,:performed,:in,symbol(\"1892\"),:.],6.818084351737407e-32,6.329647777,:Optimal)                                                                                                                                         \n",
       " OrderRecord{Symbol}([:in,:a,:third,:novel,:a,:sailor,:abandons,:the,:patna,:and  …  :who,:in,:another,:novel,:meets,:kurtz,:in,:the,:congo,:.],[:kurtz,:and,:another,:meets,:sailor,:meets,:the,:marlow,:who,:abandons  …  :novel,:in,:a,:novel,:in,:the,:congo,:in,:patna,:.],1.3518345793105397e-67,807.237630739,:Optimal)                                                                   \n",
       " OrderRecord{Symbol}([:thus,:she,:leaves,:her,:husband,:and,:child,:for,:aleksei,:vronsky  …  :sadly,:when,:she,:leaps,:in,:front,:of,:a,:train,:.],[:train,:front,:of,:child,:vronsky,:but,:and,:for,:leaps,:thus  …  :she,:she,:in,:when,:aleksei,:husband,:ends,:a,:.,:leaves],NaN,18.185116725,:Infeasible)                                                                                  \n",
       " OrderRecord{Symbol}([:we,:looked,:out,:at,:the,:setting,:sun,:.],[:we,:looked,:out,:at,:the,:setting,:sun,:.],1.6420906411431961e-12,2.821412764,:Optimal)                                                                                                                                                                                                                                      \n",
       " OrderRecord{Symbol}([:i,:went,:to,:the,:kitchen,:.],[:i,:went,:to,:the,:kitchen,:.],7.762742180209551e-8,2.06480574,:Optimal)                                                                                                                                                                                                                                                                   \n",
       " OrderRecord{Symbol}([:how,:are,:you,:doing,:?],[:how,:are,:you,:doing,:?],2.000912078913238e-6,1.788511798,:Optimal)                                                                                                                                                                                                                                                                            \n",
       " OrderRecord{Symbol}([:it,:was,:the,:worst,:of,:times,symbol(\",\"),:it,:was,:the,:best,:of,:times,:.],[:it,:was,:the,:worst,:of,:times,symbol(\",\"),:it,:was,:the,:best,:of,:times,:.],1.9325459367365135e-17,7.779768514,:Optimal)                                                                                                                                                                \n",
       " OrderRecord{Symbol}([:please,:give,:me,:directions,:from,:paris,:to,:london,:.],[:please,:give,:me,:directions,:to,:london,:from,:paris,:.],1.840425516003143e-17,3.297088574,:Optimal)                                                                                                                                                                                                         "
      ]
     },
     "execution_count": 60,
     "metadata": {},
     "output_type": "execute_result"
    }
   ],
   "source": [
    "examples = load_ordering_results(\"results/ordered/books_corpus_examples_glove300.jld\", 1:1)\n",
    "examples_oracle = load_ordering_results(\"results/ordered/books_corpus_examples_glove300_oracle.jld\", 1:1)"
   ]
  },
  {
   "cell_type": "code",
   "execution_count": 61,
   "metadata": {
    "collapsed": false,
    "scrolled": true
   },
   "outputs": [
    {
     "data": {
      "text/plain": [
       "10-element Array{Any,1}:\n",
       " ((\"\\\\iref\",\"name this 1906 novel about gottlieb_fecknoe inspired by james_joyce\"),(\"\\\\ip\",\"what is this william golding novel by its written writer\"))                                                                                                           \n",
       " ((\"\\\\iref\",\"henry_david_thoreau rejected this author like the tsar boat and imbalance created known good writing and his own death\"),(\"\\\\ip\",\"henry_david_thoreau rejected him through their stories to go money well inspired stories to write as her writing\"))\n",
       " ((\"\\\\iref\",\"another is the subject of this trilogy of romance most performed in 1874\"),(\"\\\\ip\",\"subject of drama from him about romance \"))                                                                                                                      \n",
       " ((\"\\\\iref\",\"during the short book the lady seduces the family and meets cousin he in a novel dies sister from the mr.\"),(\"\\\\ip\",\"during book of its author young lady seduces the family to marry old suicide while i marries himself in marriage\"))             \n",
       " ((\"\\\\iref\",\"however she leaves her sister and daughter from former fianc and she ends unfortunately when narrator drives into life of a house\"),(\"\\\\ip\",\"leaves the sister of man in this novel\"))                                                               \n",
       " ((\"\\\\bm\",\"they were laughing at the same time .\"),(\"\\\\bs 1\",\"ill see you in the early morning .\"),(\"\\\\bs 2\",\"i looked up at the blue sky .\"),(\"\\\\bs 3\",\"it was down on the dance floor .\"))                                                                      \n",
       " ((\"\\\\bm\",\"i went to the kitchen .\"),(\"\\\\bs 1\",\"i went to my apartment . \"),(\"\\\\bs 2\",\"i looked around the room .\"),(\"\\\\bs 3\",\"i turned back to the table .\"))                                                                                                    \n",
       " ((\"\\\\bm\",\"what are you doing ?\"),(\"\\\\bs 1\",\"“ are you sure ?\"),(\"\\\\bs 2\",\"what are you doing, ?\"),(\"\\\\bs 3\",\"what are you doing ?\"))                                                                                                                             \n",
       " []                                                                                                                                                                                                                                                               \n",
       " []                                                                                                                                                                                                                                                               "
      ]
     },
     "execution_count": 61,
     "metadata": {},
     "output_type": "execute_result"
    }
   ],
   "source": [
    "IyyerTreeProvidedTitle = \"\\\\iref\"\n",
    "IyyerTreeAlternateTitle = \"\\\\ip\"\n",
    "BowmanMean = \"\\\\bm\"\n",
    "BowmanSample = \"\\\\bs\"\n",
    "crossrefs = Any[\n",
    "    (\n",
    "        (IyyerTreeProvidedTitle ,  \"name this 1906 novel about gottlieb_fecknoe inspired by james_joyce\"),\n",
    "         (IyyerTreeAlternateTitle ,  \"what is this william golding novel by its written writer\"),\n",
    "    ),\n",
    "    (\n",
    "        (IyyerTreeProvidedTitle ,  \"henry_david_thoreau rejected this author like the tsar boat and imbalance created known good writing and his own death\"),\n",
    "        (IyyerTreeAlternateTitle ,  \"henry_david_thoreau rejected him through their stories to go money well inspired stories to write as her writing\"),\n",
    "    ),\n",
    "    (\n",
    "        (IyyerTreeProvidedTitle ,  \"another is the subject of this trilogy of romance most performed in 1874\"),\n",
    "        (IyyerTreeAlternateTitle ,  \"subject of drama from him about romance \"),\n",
    "    ),\n",
    "    (\n",
    "        (IyyerTreeProvidedTitle ,  \"during the short book the lady seduces the family and meets cousin he in a novel dies sister from the mr.\"),\n",
    "        (IyyerTreeAlternateTitle ,  \"during book of its author young lady seduces the family to marry old suicide while i marries himself in marriage\"),\n",
    "    ),\n",
    "    (\n",
    "        (IyyerTreeProvidedTitle ,  \"however she leaves her sister and daughter from former fianc and she ends unfortunately when narrator drives into life of a house\"),\n",
    "        (IyyerTreeAlternateTitle ,  \"leaves the sister of man in this novel\"),\n",
    "    ),\n",
    "    (\n",
    "        (BowmanMean, \"they were laughing at the same time .\"),\n",
    "        (BowmanSample*\" 1\", \"ill see you in the early morning .\"),\n",
    "        (BowmanSample*\" 2\",  \"i looked up at the blue sky .\"),\n",
    "        (BowmanSample*\" 3\", \"it was down on the dance floor .\")\n",
    "    ),\n",
    "    (\n",
    "        (BowmanMean, \"i went to the kitchen .\"),\n",
    "        (BowmanSample*\" 1\", \"i went to my apartment . \"),\n",
    "        (BowmanSample*\" 2\",  \"i looked around the room .\"),\n",
    "        (BowmanSample*\" 3\", \"i turned back to the table .\")\n",
    "    ),\n",
    "    (\n",
    "        (BowmanMean, \"what are you doing ?\"),\n",
    "        (BowmanSample*\" 1\", \"“ are you sure ?\"),\n",
    "        (BowmanSample*\" 2\",  \"what are you doing, ?\"),\n",
    "        (BowmanSample*\" 3\", \"what are you doing ?\"),\n",
    "    ),\n",
    "    [],\n",
    "    []\n",
    "]"
   ]
  },
  {
   "cell_type": "code",
   "execution_count": 69,
   "metadata": {
    "collapsed": false
   },
   "outputs": [
    {
     "data": {
      "text/plain": [
       "true"
      ]
     },
     "execution_count": 69,
     "metadata": {},
     "output_type": "execute_result"
    }
   ],
   "source": [
    "counter([1,2,3])==counter([2,3,1])"
   ]
  },
  {
   "cell_type": "code",
   "execution_count": 76,
   "metadata": {
    "collapsed": false,
    "scrolled": false
   },
   "outputs": [
    {
     "name": "stdout",
     "output_type": "stream",
     "text": [
      "\\begin{tabular}{ p{\\collenone} p{\\collentwo} p{\\collenthree} p{\\collenthree} }\n",
      "\n",
      "\\textbf{3A \\hfill \\reftitle}  & name this 1922 novel about leopold bloom written by james joyce . & \\textbf{Sel.} & \\textbf{Ord.} \\\\\n",
      "\\textbf{\\oracletitle}  & written by name this . novel about 1922 bloom leopold james joyce & -- & \\namark \\\\\n",
      "\\textbf{\\twosteptitle}  & written novel by name james about leopold this bloom 1922 joyce . & \\cmark & \\namark \\\\\n",
      "\\textbf{\\iref}  & name this 1906 novel about gottlieb\\_fecknoe inspired by james\\_joyce &  &  \\\\\n",
      "\\textbf{\\ip}  & what is this william golding novel by its written writer &  &  \\\\\n",
      "\\hline\n",
      "\\textbf{3B \\hfill \\reftitle}  & ralph waldo emerson dismissed this poet as the jingle man and james russell lowell called him three-fifths genius and two-fifths sheer fudge . & \\textbf{Sel.} & \\textbf{Ord.} \\\\\n",
      "\\textbf{\\oracletitle}  & sheer this as james two-fifths emerson fudge lowell poet genius waldo called russell the and ralph and him . dismissed jingle three-fifths man & -- & \\namark \\\\\n",
      "\\textbf{\\twosteptitle}  & him `` james great as emerson genius ralph the lowell and sheer waldo three-fifths man fudge dismissed jingle russell two-fifths and gwalchmai 2009 vice-versa \\_\\_\\_\\_\\_\\_\\_\\_\\_\\_\\_\\_\\_\\_\\_\\_\\_\\_\\_\\_\\_\\_\\_\\_\\_\\_\\_\\_\\_\\_\\_\\_\\_\\_\\_\\_\\_\\_\\_\\_\\_\\_\\_\\_ prominent called 21.25 explained & \\xmark & \\namark \\\\\n",
      "\\textbf{\\iref}  & henry\\_david\\_thoreau rejected this author like the tsar boat and imbalance created known good writing and his own death &  &  \\\\\n",
      "\\textbf{\\ip}  & henry\\_david\\_thoreau rejected him through their stories to go money well inspired stories to write as her writing &  &  \\\\\n",
      "\\hline\n",
      "\\textbf{3C \\hfill \\reftitle}  & this is the basis of a comedy of manners first performed in 1892 . & \\textbf{Sel.} & \\textbf{Ord.} \\\\\n",
      "\\textbf{\\oracletitle}  & this is the basis of a comedy of manners first performed in 1892 . & -- & \\cmark \\\\\n",
      "\\textbf{\\twosteptitle}  & this is the basis of a comedy of manners first performed in 1892 . & \\cmark & \\cmark \\\\\n",
      "\\textbf{\\iref}  & another is the subject of this trilogy of romance most performed in 1874 &  &  \\\\\n",
      "\\textbf{\\ip}  & subject of drama from him about romance  &  &  \\\\\n",
      "\\hline\n",
      "\\textbf{3D \\hfill \\reftitle}  & in a third novel a sailor abandons the patna and meets marlow who in another novel meets kurtz in the congo . & \\textbf{Sel.} & \\textbf{Ord.} \\\\\n",
      "\\textbf{\\oracletitle}  & kurtz and another meets sailor meets the marlow who abandons a third novel in a novel in the congo in patna . & -- & \\xmark \\\\\n",
      "\\textbf{\\twosteptitle}  & kurtz and another meets sailor meets the marlow who abandons a third novel in a novel in the congo in patna . & \\cmark & \\xmark \\\\\n",
      "\\textbf{\\iref}  & during the short book the lady seduces the family and meets cousin he in a novel dies sister from the mr. &  &  \\\\\n",
      "\\textbf{\\ip}  & during book of its author young lady seduces the family to marry old suicide while i marries himself in marriage &  &  \\\\\n",
      "\\hline\n",
      "\\textbf{3E \\hfill \\reftitle}  & thus she leaves her husband and child for aleksei vronsky but all ends sadly when she leaps in front of a train . & \\textbf{Sel.} & \\textbf{Ord.} \\\\\n",
      "\\textbf{\\oracletitle}  & train front of child vronsky but and for leaps thus sadly all her she she in when aleksei husband ends a . leaves & -- & \\namark \\\\\n",
      "\\textbf{\\twosteptitle}  & she her all when child for leaves front but and train ends husband aleksei leaps of vronsky in a sadly micro-history thus , she the & \\xmark & \\namark \\\\\n",
      "\\textbf{\\iref}  & however she leaves her sister and daughter from former fianc and she ends unfortunately when narrator drives into life of a house &  &  \\\\\n",
      "\\textbf{\\ip}  & leaves the sister of man in this novel &  &  \\\\\n",
      "\\end{tabular}\n",
      "\n",
      "\n",
      "\n",
      "\n",
      "\b\n",
      "\\begin{tabular}{ p{\\collenone} p{\\collentwo} p{\\collenthree} p{\\collenthree} }\n",
      "\n",
      "\\textbf{4A \\hfill \\reftitle}  & we looked out at the setting sun . & \\textbf{Sel.} & \\textbf{Ord.} \\\\\n",
      "\\textbf{\\oracletitle}  & we looked out at the setting sun . & -- & \\cmark \\\\\n",
      "\\textbf{\\twosteptitle}  & we looked out at the setting sun . & \\cmark & \\cmark \\\\\n",
      "\\textbf{\\bm}  & they were laughing at the same time . &  &  \\\\\n",
      "\\textbf{\\bs 1}  & ill see you in the early morning . &  &  \\\\\n",
      "\\textbf{\\bs 2}  & i looked up at the blue sky . &  &  \\\\\n",
      "\\textbf{\\bs 3}  & it was down on the dance floor . &  &  \\\\\n",
      "\\hline\n",
      "\\textbf{4B \\hfill \\reftitle}  & i went to the kitchen . & \\textbf{Sel.} & \\textbf{Ord.} \\\\\n",
      "\\textbf{\\oracletitle}  & i went to the kitchen . & -- & \\cmark \\\\\n",
      "\\textbf{\\twosteptitle}  & i went to the kitchen . & \\cmark & \\cmark \\\\\n",
      "\\textbf{\\bm}  & i went to the kitchen . &  &  \\\\\n",
      "\\textbf{\\bs 1}  & i went to my apartment .  &  &  \\\\\n",
      "\\textbf{\\bs 2}  & i looked around the room . &  &  \\\\\n",
      "\\textbf{\\bs 3}  & i turned back to the table . &  &  \\\\\n",
      "\\hline\n",
      "\\textbf{4C \\hfill \\reftitle}  & how are you doing ? & \\textbf{Sel.} & \\textbf{Ord.} \\\\\n",
      "\\textbf{\\oracletitle}  & how are you doing ? & -- & \\cmark \\\\\n",
      "\\textbf{\\twosteptitle}  & how 're do well ? & \\xmark & \\xmark \\\\\n",
      "\\textbf{\\bm}  & what are you doing ? &  &  \\\\\n",
      "\\textbf{\\bs 1}  & “ are you sure ? &  &  \\\\\n",
      "\\textbf{\\bs 2}  & what are you doing, ? &  &  \\\\\n",
      "\\textbf{\\bs 3}  & what are you doing ? &  &  \\\\\n",
      "\\end{tabular}\n",
      "\n",
      "\n",
      "\n",
      "\n",
      "\b\n",
      "\\begin{tabular}{ p{\\collenone} p{\\collentwo} p{\\collenthree} p{\\collenthree} }\n",
      "\n",
      "\\textbf{5A \\hfill \\reftitle}  & it was the worst of times , it was the best of times . & \\textbf{Sel.} & \\textbf{Ord.} \\\\\n",
      "\\textbf{\\oracletitle}  & it was the worst of times , it was the best of times . & -- & \\cmark \\\\\n",
      "\\textbf{\\twosteptitle}  & it was the best of times , it was the worst of times . & \\cmark & \\xmark \\\\\n",
      "\\hline\n",
      "\\textbf{5B \\hfill \\reftitle}  & please give me directions from paris to london . & \\textbf{Sel.} & \\textbf{Ord.} \\\\\n",
      "\\textbf{\\oracletitle}  & please give me directions to london from paris . & -- & \\xmark \\\\\n",
      "\\textbf{\\twosteptitle}  & please give me directions to london from paris . & \\cmark & \\xmark \\\\\n",
      "\\hline\n",
      "\\end{tabular}\n"
     ]
    }
   ],
   "source": [
    "begin_tabular = \"\\\\begin{tabular}{ p{\\\\collenone} p{\\\\collentwo} p{\\\\collenthree} p{\\\\collenthree} }\\n\"\n",
    "end_tabular = \"\\\\end{tabular}\"\n",
    "\n",
    "\n",
    "    \n",
    "println(begin_tabular)\n",
    "ids = \"3A 3B 3C 3D 3E 4A 4B 4C 5A 5B\" |> split\n",
    "\n",
    "for (row_ii, (id, genned, oracle,crossref)) in enumerate(zip(ids, examples, examples_oracle,crossrefs))\n",
    "    function print_latex_row(field, vals...)\n",
    "        print(\"\\\\textbf{$field} \")\n",
    "        for val in vals\n",
    "            val = replace(val, \"_\",\"\\\\_\")\n",
    "            print(\" & \",val)\n",
    "        end\n",
    "        println(\" \\\\\\\\\")\n",
    "    end\n",
    "    format(ws) = join(map(string, ws),\" \")\n",
    "    \n",
    "    function get_stats(record, oracle::Bool)\n",
    "        \n",
    "        bow = oracle ? \"--\" :\n",
    "              counter(record.actual) == counter(record.reference) ? \"\\\\cmark\" :\n",
    "              \"\\\\xmark\"\n",
    "              \n",
    "        \n",
    "        ord = record.status==:Infeasible ? \"\\\\namark\" : \n",
    "              record.actual == record.reference ? \"\\\\cmark\" :\n",
    "              \"\\\\xmark\"\n",
    "        \n",
    "        bow, ord\n",
    "    end\n",
    "    \n",
    "    \n",
    "    print_latex_row(\"$id \\\\hfill \\\\reftitle\", format(genned.reference),\"\\\\textbf{Sel.}\",\"\\\\textbf{Ord.}\")\n",
    "    print_latex_row(\"\\\\oracletitle\", format(oracle.actual), get_stats(oracle,true)...)\n",
    "    print_latex_row(\"\\\\twosteptitle\", format(genned.actual), get_stats(genned,false)...)\n",
    "    for (field, sentence) in crossref\n",
    "        print_latex_row(field, sentence,\"\",\"\")\n",
    "    end\n",
    "    if (row_ii==5)\n",
    "        println(end_tabular)\n",
    "        println(\"\\n\\n\\n\\n\\b\")\n",
    "        println(begin_tabular)\n",
    "    elseif row_ii==8\n",
    "        println(end_tabular)\n",
    "        println(\"\\n\\n\\n\\n\\b\")\n",
    "        println(begin_tabular)\n",
    "    else \n",
    "        println(\"\\\\hline\")\n",
    "    end\n",
    "    \n",
    "    \n",
    "end\n",
    "println(end_tabular)"
   ]
  },
  {
   "cell_type": "code",
   "execution_count": null,
   "metadata": {
    "collapsed": true
   },
   "outputs": [],
   "source": []
  },
  {
   "cell_type": "code",
   "execution_count": null,
   "metadata": {
    "collapsed": true
   },
   "outputs": [],
   "source": []
  },
  {
   "cell_type": "code",
   "execution_count": null,
   "metadata": {
    "collapsed": true
   },
   "outputs": [],
   "source": []
  }
 ],
 "metadata": {
  "kernelspec": {
   "display_name": "Julia 0.5.0-dev",
   "language": "julia",
   "name": "julia-0.5"
  },
  "language_info": {
   "file_extension": ".jl",
   "mimetype": "application/julia",
   "name": "julia",
   "version": "0.5.0"
  }
 },
 "nbformat": 4,
 "nbformat_minor": 0
}
